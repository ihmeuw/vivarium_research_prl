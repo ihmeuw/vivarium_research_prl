{
 "cells": [
  {
   "cell_type": "code",
   "execution_count": 1,
   "id": "11db1f55",
   "metadata": {},
   "outputs": [
    {
     "name": "stdout",
     "output_type": "stream",
     "text": [
      "Sat Apr  1 12:40:12 PDT 2023\r\n"
     ]
    }
   ],
   "source": [
    "import numpy as np, matplotlib.pyplot as plt, pandas as pd\n",
    "pd.set_option('display.max_rows', 8)\n",
    "!date\n",
    "\n",
    "%load_ext autoreload\n",
    "%autoreload 2"
   ]
  },
  {
   "cell_type": "markdown",
   "id": "91825606",
   "metadata": {},
   "source": [
    "# Using dask on the IHME slurm cluster to load a large, distributed dataset"
   ]
  },
  {
   "cell_type": "markdown",
   "id": "ebd8c61b",
   "metadata": {},
   "source": [
    "# set up a dask cluster"
   ]
  },
  {
   "cell_type": "code",
   "execution_count": 2,
   "id": "145e5791",
   "metadata": {},
   "outputs": [],
   "source": [
    "import dask_jobqueue"
   ]
  },
  {
   "cell_type": "code",
   "execution_count": 3,
   "id": "7d2cb98e",
   "metadata": {},
   "outputs": [
    {
     "data": {
      "text/plain": [
       "'0.8.1+3.gaf044b4'"
      ]
     },
     "execution_count": 3,
     "metadata": {},
     "output_type": "execute_result"
    }
   ],
   "source": [
    "dask_jobqueue.__version__"
   ]
  },
  {
   "cell_type": "code",
   "execution_count": 4,
   "id": "7a842808",
   "metadata": {},
   "outputs": [
    {
     "name": "stderr",
     "output_type": "stream",
     "text": [
      "/homes/abie/.conda/envs/bambi_env/lib/python3.9/site-packages/distributed/node.py:182: UserWarning: Port 8787 is already in use.\n",
      "Perhaps you already have a cluster running?\n",
      "Hosting the HTTP server on port 40373 instead\n",
      "  warnings.warn(\n"
     ]
    }
   ],
   "source": [
    "cluster = dask_jobqueue.SLURMCluster(\n",
    "     cores=1,\n",
    "     memory='32GB',\n",
    "     processes=1,\n",
    "#      local_directory='$TMPDIR',\n",
    "     queue='all.q',\n",
    "     account='proj_simscience',\n",
    "     walltime='05:00:00',\n",
    ")\n"
   ]
  },
  {
   "cell_type": "code",
   "execution_count": 5,
   "id": "f0a71b4a",
   "metadata": {},
   "outputs": [],
   "source": [
    "cluster.scale(jobs=500)"
   ]
  },
  {
   "cell_type": "markdown",
   "id": "5b9a8336",
   "metadata": {},
   "source": [
    "# Now set up a dask client to use the cluster"
   ]
  },
  {
   "cell_type": "code",
   "execution_count": 6,
   "id": "ae279782",
   "metadata": {},
   "outputs": [],
   "source": [
    "import dask.distributed\n",
    "client = dask.distributed.Client(cluster)"
   ]
  },
  {
   "cell_type": "markdown",
   "id": "3fcb92bd",
   "metadata": {},
   "source": [
    "# Now use the dask dataframe over the distributed dask cluster"
   ]
  },
  {
   "cell_type": "code",
   "execution_count": 7,
   "id": "0e7fc496",
   "metadata": {},
   "outputs": [],
   "source": [
    "dname = '/mnt/team/simulation_science/priv/engineering/vivarium_census_prl_synth_pop/results/full_scale_334mil/united_states_of_america/2023_03_30_10_23_13/final_results/2023_03_30_16_02_39'"
   ]
  },
  {
   "cell_type": "code",
   "execution_count": 8,
   "id": "8558eff1",
   "metadata": {},
   "outputs": [
    {
     "name": "stdout",
     "output_type": "stream",
     "text": [
      "337\r\n"
     ]
    }
   ],
   "source": [
    "!ls -halt $dname/decennial_census_observer/ |wc -l"
   ]
  },
  {
   "cell_type": "code",
   "execution_count": 9,
   "id": "1ddf6315",
   "metadata": {},
   "outputs": [],
   "source": [
    "# https://docs.dask.org/en/stable/dataframe.html\n",
    "\n",
    "import dask.dataframe as dd"
   ]
  },
  {
   "cell_type": "code",
   "execution_count": 10,
   "id": "b9d8a0cf",
   "metadata": {},
   "outputs": [],
   "source": [
    "df = dd.read_csv(f'{dname}/tax_w2_observer/tax_w2_observer_*.csv.bz2', dtype='category', blocksize=None)"
   ]
  },
  {
   "cell_type": "code",
   "execution_count": 11,
   "id": "b58951ca",
   "metadata": {},
   "outputs": [
    {
     "name": "stdout",
     "output_type": "stream",
     "text": [
      "CPU times: user 6min 42s, sys: 36.7 s, total: 7min 19s\n",
      "Wall time: 39min 28s\n"
     ]
    },
    {
     "data": {
      "text/plain": [
       "3.258616466"
      ]
     },
     "execution_count": 11,
     "metadata": {},
     "output_type": "execute_result"
    }
   ],
   "source": [
    "%%time\n",
    "\n",
    "len(df) / 1e9 # billions of records, takes about 1 hr to load and count??"
   ]
  },
  {
   "cell_type": "code",
   "execution_count": 12,
   "id": "86854e8d",
   "metadata": {},
   "outputs": [
    {
     "name": "stdout",
     "output_type": "stream",
     "text": [
      "CPU times: user 1min 9s, sys: 7.59 s, total: 1min 16s\n",
      "Wall time: 6min 36s\n"
     ]
    },
    {
     "data": {
      "text/html": [
       "<div>\n",
       "<style scoped>\n",
       "    .dataframe tbody tr th:only-of-type {\n",
       "        vertical-align: middle;\n",
       "    }\n",
       "\n",
       "    .dataframe tbody tr th {\n",
       "        vertical-align: top;\n",
       "    }\n",
       "\n",
       "    .dataframe thead th {\n",
       "        text-align: right;\n",
       "    }\n",
       "</style>\n",
       "<table border=\"1\" class=\"dataframe\">\n",
       "  <thead>\n",
       "    <tr style=\"text-align: right;\">\n",
       "      <th></th>\n",
       "      <th>simulant_id</th>\n",
       "      <th>employer_city</th>\n",
       "      <th>income</th>\n",
       "      <th>first_name</th>\n",
       "      <th>employer_id</th>\n",
       "      <th>mailing_address_unit_number</th>\n",
       "      <th>employer_street_name</th>\n",
       "      <th>mailing_address_street_name</th>\n",
       "      <th>date_of_birth</th>\n",
       "      <th>mailing_address_po_box</th>\n",
       "      <th>...</th>\n",
       "      <th>mailing_address_zipcode</th>\n",
       "      <th>tax_form</th>\n",
       "      <th>mailing_address_street_number</th>\n",
       "      <th>ssn</th>\n",
       "      <th>middle_initial</th>\n",
       "      <th>mailing_address_city</th>\n",
       "      <th>employer_unit_number</th>\n",
       "      <th>employer_street_number</th>\n",
       "      <th>employer_name</th>\n",
       "      <th>employer_state</th>\n",
       "    </tr>\n",
       "  </thead>\n",
       "  <tbody>\n",
       "    <tr>\n",
       "      <th>0</th>\n",
       "      <td>1007_0</td>\n",
       "      <td>annville</td>\n",
       "      <td>113686.12887817506</td>\n",
       "      <td>Aida</td>\n",
       "      <td>352747</td>\n",
       "      <td>NaN</td>\n",
       "      <td>edgecliff ct</td>\n",
       "      <td>pleasant street</td>\n",
       "      <td>1956-04-15</td>\n",
       "      <td>0</td>\n",
       "      <td>...</td>\n",
       "      <td>46368</td>\n",
       "      <td>W2</td>\n",
       "      <td>5917</td>\n",
       "      <td>212-23-6302</td>\n",
       "      <td>G</td>\n",
       "      <td>indianapolis</td>\n",
       "      <td>NaN</td>\n",
       "      <td>NaN</td>\n",
       "      <td>Kipp Halifax Health &amp; K 4 All Race Place</td>\n",
       "      <td>PA</td>\n",
       "    </tr>\n",
       "    <tr>\n",
       "      <th>1</th>\n",
       "      <td>1007_1</td>\n",
       "      <td>sherwood</td>\n",
       "      <td>19497.552528920678</td>\n",
       "      <td>Alan</td>\n",
       "      <td>1471774</td>\n",
       "      <td>NaN</td>\n",
       "      <td>n 52nd st</td>\n",
       "      <td>lewis</td>\n",
       "      <td>1951-05-02</td>\n",
       "      <td>0</td>\n",
       "      <td>...</td>\n",
       "      <td>32725</td>\n",
       "      <td>W2</td>\n",
       "      <td>532</td>\n",
       "      <td>832-25-7431</td>\n",
       "      <td>H</td>\n",
       "      <td>st. petersburg</td>\n",
       "      <td>NaN</td>\n",
       "      <td>309</td>\n",
       "      <td>Norman Rockwell Area Fire District 8</td>\n",
       "      <td>OR</td>\n",
       "    </tr>\n",
       "    <tr>\n",
       "      <th>2</th>\n",
       "      <td>1007_1</td>\n",
       "      <td>cottonwood heights</td>\n",
       "      <td>63576.776206371454</td>\n",
       "      <td>Alan</td>\n",
       "      <td>1681333</td>\n",
       "      <td>NaN</td>\n",
       "      <td>skyview ter</td>\n",
       "      <td>lewis</td>\n",
       "      <td>1951-05-02</td>\n",
       "      <td>0</td>\n",
       "      <td>...</td>\n",
       "      <td>32725</td>\n",
       "      <td>W2</td>\n",
       "      <td>532</td>\n",
       "      <td>832-25-7431</td>\n",
       "      <td>H</td>\n",
       "      <td>st. petersburg</td>\n",
       "      <td>unit 170</td>\n",
       "      <td>1960</td>\n",
       "      <td>Roadrunners Head Brewing Company</td>\n",
       "      <td>UT</td>\n",
       "    </tr>\n",
       "    <tr>\n",
       "      <th>3</th>\n",
       "      <td>1007_3</td>\n",
       "      <td>nashville</td>\n",
       "      <td>21680.05131244091</td>\n",
       "      <td>Adriana</td>\n",
       "      <td>550091</td>\n",
       "      <td>NaN</td>\n",
       "      <td>ince dr</td>\n",
       "      <td>f st</td>\n",
       "      <td>1975-12-07</td>\n",
       "      <td>0</td>\n",
       "      <td>...</td>\n",
       "      <td>06413</td>\n",
       "      <td>W2</td>\n",
       "      <td>26264</td>\n",
       "      <td>600-73-2024</td>\n",
       "      <td>H</td>\n",
       "      <td>new canaan</td>\n",
       "      <td>NaN</td>\n",
       "      <td>e</td>\n",
       "      <td>Master Rick Auto Body Works</td>\n",
       "      <td>TN</td>\n",
       "    </tr>\n",
       "    <tr>\n",
       "      <th>4</th>\n",
       "      <td>1007_3</td>\n",
       "      <td>schiller park</td>\n",
       "      <td>30202.48838663811</td>\n",
       "      <td>Adriana</td>\n",
       "      <td>933603</td>\n",
       "      <td>NaN</td>\n",
       "      <td>stoney crk cir</td>\n",
       "      <td>f st</td>\n",
       "      <td>1975-12-07</td>\n",
       "      <td>0</td>\n",
       "      <td>...</td>\n",
       "      <td>06413</td>\n",
       "      <td>W2</td>\n",
       "      <td>26264</td>\n",
       "      <td>600-73-2024</td>\n",
       "      <td>H</td>\n",
       "      <td>new canaan</td>\n",
       "      <td>NaN</td>\n",
       "      <td>NaN</td>\n",
       "      <td>Marshall County Volunteer Fire Department Stat...</td>\n",
       "      <td>IL</td>\n",
       "    </tr>\n",
       "  </tbody>\n",
       "</table>\n",
       "<p>5 rows × 25 columns</p>\n",
       "</div>"
      ],
      "text/plain": [
       "  simulant_id       employer_city              income first_name employer_id  \\\n",
       "0      1007_0            annville  113686.12887817506       Aida      352747   \n",
       "1      1007_1            sherwood  19497.552528920678       Alan     1471774   \n",
       "2      1007_1  cottonwood heights  63576.776206371454       Alan     1681333   \n",
       "3      1007_3           nashville   21680.05131244091    Adriana      550091   \n",
       "4      1007_3       schiller park   30202.48838663811    Adriana      933603   \n",
       "\n",
       "  mailing_address_unit_number employer_street_name  \\\n",
       "0                         NaN         edgecliff ct   \n",
       "1                         NaN            n 52nd st   \n",
       "2                         NaN          skyview ter   \n",
       "3                         NaN              ince dr   \n",
       "4                         NaN       stoney crk cir   \n",
       "\n",
       "  mailing_address_street_name date_of_birth mailing_address_po_box  ...  \\\n",
       "0             pleasant street    1956-04-15                      0  ...   \n",
       "1                       lewis    1951-05-02                      0  ...   \n",
       "2                       lewis    1951-05-02                      0  ...   \n",
       "3                        f st    1975-12-07                      0  ...   \n",
       "4                        f st    1975-12-07                      0  ...   \n",
       "\n",
       "  mailing_address_zipcode tax_form mailing_address_street_number          ssn  \\\n",
       "0                   46368       W2                          5917  212-23-6302   \n",
       "1                   32725       W2                           532  832-25-7431   \n",
       "2                   32725       W2                           532  832-25-7431   \n",
       "3                   06413       W2                         26264  600-73-2024   \n",
       "4                   06413       W2                         26264  600-73-2024   \n",
       "\n",
       "  middle_initial mailing_address_city employer_unit_number  \\\n",
       "0              G         indianapolis                  NaN   \n",
       "1              H       st. petersburg                  NaN   \n",
       "2              H       st. petersburg             unit 170   \n",
       "3              H           new canaan                  NaN   \n",
       "4              H           new canaan                  NaN   \n",
       "\n",
       "  employer_street_number                                      employer_name  \\\n",
       "0                    NaN           Kipp Halifax Health & K 4 All Race Place   \n",
       "1                    309               Norman Rockwell Area Fire District 8   \n",
       "2                   1960                   Roadrunners Head Brewing Company   \n",
       "3                      e                        Master Rick Auto Body Works   \n",
       "4                    NaN  Marshall County Volunteer Fire Department Stat...   \n",
       "\n",
       "  employer_state  \n",
       "0             PA  \n",
       "1             OR  \n",
       "2             UT  \n",
       "3             TN  \n",
       "4             IL  \n",
       "\n",
       "[5 rows x 25 columns]"
      ]
     },
     "execution_count": 12,
     "metadata": {},
     "output_type": "execute_result"
    }
   ],
   "source": [
    "%%time\n",
    "\n",
    "df.head()  # takes about 7 minutes to get the first five rows, is this loading all files?"
   ]
  },
  {
   "cell_type": "code",
   "execution_count": 13,
   "id": "d647d1c6",
   "metadata": {},
   "outputs": [
    {
     "name": "stdout",
     "output_type": "stream",
     "text": [
      "CPU times: user 2min 26s, sys: 11.8 s, total: 2min 38s\n",
      "Wall time: 13min 58s\n"
     ]
    },
    {
     "data": {
      "text/plain": [
       "Military                                45145499\n",
       "Seattle Branch Library                    173451\n",
       "Lisa's Leaves of Long Park                155627\n",
       "Crossing Pet Grooming                     119698\n",
       "                                          ...   \n",
       "Rogers MA                                      6\n",
       "Visiting Hearts At the Box Food Bank           5\n",
       "Ninth Street Dough                             5\n",
       "Hatfield Roofing Supply                        3\n",
       "Name: employer_name, Length: 1571136, dtype: int64"
      ]
     },
     "execution_count": 13,
     "metadata": {},
     "output_type": "execute_result"
    }
   ],
   "source": [
    "%%time\n",
    "\n",
    "employer_size_dist = df.employer_name.value_counts().compute()  # took 40 minutes?\n",
    "employer_size_dist"
   ]
  },
  {
   "cell_type": "code",
   "execution_count": 14,
   "id": "8594cff3",
   "metadata": {},
   "outputs": [
    {
     "name": "stdout",
     "output_type": "stream",
     "text": [
      "CPU times: user 4min 33s, sys: 24.9 s, total: 4min 58s\n",
      "Wall time: 26min 19s\n"
     ]
    },
    {
     "data": {
      "text/plain": [
       "1          45139497\n",
       "488652       173451\n",
       "1628100      155627\n",
       "929500       119698\n",
       "             ...   \n",
       "96103             6\n",
       "1084015           5\n",
       "1424013           5\n",
       "1738115           3\n",
       "Name: employer_id, Length: 1745101, dtype: int64"
      ]
     },
     "execution_count": 14,
     "metadata": {},
     "output_type": "execute_result"
    }
   ],
   "source": [
    "%%time\n",
    "\n",
    "alt_employer_size_dist = df.employer_id.value_counts().compute()  # will this one work?\n",
    "alt_employer_size_dist"
   ]
  },
  {
   "cell_type": "code",
   "execution_count": 15,
   "id": "6f42b377",
   "metadata": {},
   "outputs": [
    {
     "name": "stdout",
     "output_type": "stream",
     "text": [
      "CPU times: user 17min 24s, sys: 1min 46s, total: 19min 11s\n",
      "Wall time: 1h 43min 15s\n"
     ]
    },
    {
     "data": {
      "text/plain": [
       "employer_id\n",
       "1          1\n",
       "1000080    1\n",
       "1000112    1\n",
       "1000201    1\n",
       "          ..\n",
       "444780     1\n",
       "854654     1\n",
       "96103      1\n",
       "1424013    1\n",
       "Name: employer_name, Length: 1745101, dtype: int64"
      ]
     },
     "execution_count": 15,
     "metadata": {},
     "output_type": "execute_result"
    }
   ],
   "source": [
    "%%time\n",
    "# this takes around 70 minutes\n",
    "\n",
    "t = df.groupby('employer_id').employer_name.nunique().compute()\n",
    "t"
   ]
  },
  {
   "cell_type": "code",
   "execution_count": 16,
   "id": "26561b15",
   "metadata": {},
   "outputs": [
    {
     "data": {
      "text/plain": [
       "1    1745100\n",
       "0          1\n",
       "Name: employer_name, dtype: int64"
      ]
     },
     "execution_count": 16,
     "metadata": {},
     "output_type": "execute_result"
    }
   ],
   "source": [
    "t.value_counts()"
   ]
  },
  {
   "cell_type": "code",
   "execution_count": 17,
   "id": "56fdb547",
   "metadata": {},
   "outputs": [],
   "source": [
    "# I wonder how the employer_id with no employer name got in there, and which it is?\n",
    "\n",
    "# TODO: compare employer_size_dist, alt_employer_size_dist to confirm that unemployed has an id, but not a name"
   ]
  }
 ],
 "metadata": {
  "kernelspec": {
   "display_name": "bambi_env",
   "language": "python",
   "name": "bambi_emv"
  },
  "language_info": {
   "codemirror_mode": {
    "name": "ipython",
    "version": 3
   },
   "file_extension": ".py",
   "mimetype": "text/x-python",
   "name": "python",
   "nbconvert_exporter": "python",
   "pygments_lexer": "ipython3",
   "version": "3.9.16"
  }
 },
 "nbformat": 4,
 "nbformat_minor": 5
}
