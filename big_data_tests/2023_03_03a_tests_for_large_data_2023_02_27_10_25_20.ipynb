{
 "cells": [
  {
   "cell_type": "code",
   "execution_count": 1,
   "id": "7745ad40",
   "metadata": {},
   "outputs": [
    {
     "name": "stdout",
     "output_type": "stream",
     "text": [
      "Sat 04 Mar 2023 09:07:58 AM PST\n",
      "ndbs\n",
      "Linux int-slurm-sarchive-p0002 5.4.0-135-generic #152-Ubuntu SMP Wed Nov 23 20:19:22 UTC 2022 x86_64 x86_64 x86_64 GNU/Linux\n",
      "/mnt/share/code/ndbs/vivarium_research_prl/linkage/wic_case_study/v2.0\n"
     ]
    }
   ],
   "source": [
    "import numpy as np, matplotlib.pyplot as plt, pandas as pd\n",
    "pd.set_option('display.max_rows', 40)\n",
    "\n",
    "# Use this to see how much memory the dataframes use\n",
    "from sys import getsizeof\n",
    "\n",
    "from vivarium_research_prl.noise import corruption, fake_names, noisify\n",
    "from vivarium_research_prl.find_kids import datasets, noisify_data\n",
    "\n",
    "!date\n",
    "!whoami\n",
    "!uname -a\n",
    "!pwd"
   ]
  },
  {
   "cell_type": "code",
   "execution_count": 2,
   "id": "1645e81a",
   "metadata": {},
   "outputs": [],
   "source": [
    "%load_ext autoreload\n",
    "%autoreload 2"
   ]
  },
  {
   "cell_type": "markdown",
   "id": "2af39c9b",
   "metadata": {},
   "source": [
    "# Find and load data\n",
    "\n",
    "### Runs posted by Steve and Jim in Slack on Tue 2/28/2023\n",
    "\n",
    "From Steve:\n",
    "```\n",
    "/mnt/team/simulation_science/priv/engineering/vivarium_census_prl_synth_pop/results/vv_business_moves_dynamics/united_states_of_america/2023_02_24_09_03_36/final_results/2023_02_27_17_03_13/\n",
    "```\n",
    "\n",
    "From Jim:\n",
    "```\n",
    "/mnt/team/simulation_science/priv/engineering/vivarium_census_prl_synth_pop/results/vv_mailing_addresses/united_states_of_america/2023_02_27_10_25_20/final_results/2023_02_27_14_59_44\n",
    "```\n",
    "\n",
    "Going to start with the second one.\n",
    "\n",
    "- 788 MB on disk for compressed decennial census observer\n",
    "- 74 MB on disk for compressed WIC observer"
   ]
  },
  {
   "cell_type": "code",
   "execution_count": 3,
   "id": "f1a90da7",
   "metadata": {},
   "outputs": [
    {
     "name": "stdout",
     "output_type": "stream",
     "text": [
      "total 7.4G\r\n",
      "drwxrwsr-x 3 albrja IHME-Simulationscience 1.0K Feb 27 17:50 ..\r\n",
      "-rw-r--r-- 1 albrja IHME-Simulationscience 6.4G Feb 27 17:49 tax_w2_observer.csv.bz2\r\n",
      "drwxrwsr-x 2 albrja IHME-Simulationscience 3.0K Feb 27 16:46 .\r\n",
      "-rw-r--r-- 1 albrja IHME-Simulationscience 141M Feb 27 16:37 social_security_observer.csv.bz2\r\n",
      "-rw-r--r-- 1 albrja IHME-Simulationscience  71M Feb 27 16:35 wic_observer.csv.bz2\r\n",
      "-rw-r--r-- 1 albrja IHME-Simulationscience  40M Feb 27 16:34 household_survey_observer_cps.csv.bz2\r\n",
      "-rw-r--r-- 1 albrja IHME-Simulationscience 7.9M Feb 27 16:33 household_survey_observer_acs.csv.bz2\r\n",
      "-rw-r--r-- 1 albrja IHME-Simulationscience 752M Feb 27 16:33 decennial_census_observer.csv.bz2\r\n"
     ]
    }
   ],
   "source": [
    "project_output_dir = \\\n",
    "    '/mnt/team/simulation_science/priv/engineering/vivarium_census_prl_synth_pop'\n",
    "output_subdir = (\n",
    "    'results/vv_mailing_addresses'\n",
    "    '/united_states_of_america/2023_02_27_10_25_20'\n",
    "    '/final_results/2023_02_27_14_59_44'\n",
    ")\n",
    "output_dir = f'{project_output_dir}/{output_subdir}'\n",
    "\n",
    "!ls -halt $output_dir\n"
   ]
  },
  {
   "cell_type": "code",
   "execution_count": 4,
   "id": "e801a016",
   "metadata": {},
   "outputs": [
    {
     "name": "stderr",
     "output_type": "stream",
     "text": [
      "<timed exec>:1: DtypeWarning: Columns (26,30) have mixed types. Specify dtype option on import or set low_memory=False.\n"
     ]
    },
    {
     "name": "stdout",
     "output_type": "stream",
     "text": [
      "CPU times: user 3min 16s, sys: 12.3 s, total: 3min 28s\n",
      "Wall time: 3min 28s\n"
     ]
    },
    {
     "data": {
      "text/html": [
       "<div>\n",
       "<style scoped>\n",
       "    .dataframe tbody tr th:only-of-type {\n",
       "        vertical-align: middle;\n",
       "    }\n",
       "\n",
       "    .dataframe tbody tr th {\n",
       "        vertical-align: top;\n",
       "    }\n",
       "\n",
       "    .dataframe thead th {\n",
       "        text-align: right;\n",
       "    }\n",
       "</style>\n",
       "<table border=\"1\" class=\"dataframe\">\n",
       "  <thead>\n",
       "    <tr style=\"text-align: right;\">\n",
       "      <th></th>\n",
       "      <th>simulant_id</th>\n",
       "      <th>first_name_id</th>\n",
       "      <th>middle_name_id</th>\n",
       "      <th>last_name_id</th>\n",
       "      <th>age</th>\n",
       "      <th>sex</th>\n",
       "      <th>race_ethnicity</th>\n",
       "      <th>date_of_birth</th>\n",
       "      <th>address_id</th>\n",
       "      <th>state_id</th>\n",
       "      <th>...</th>\n",
       "      <th>street_name</th>\n",
       "      <th>unit_number</th>\n",
       "      <th>city</th>\n",
       "      <th>mailing_address_street_number</th>\n",
       "      <th>mailing_address_street_name</th>\n",
       "      <th>mailing_address_unit_number</th>\n",
       "      <th>mailing_address_po_box</th>\n",
       "      <th>mailing_address_state</th>\n",
       "      <th>mailing_address_city</th>\n",
       "      <th>mailing_address_zipcode</th>\n",
       "    </tr>\n",
       "  </thead>\n",
       "  <tbody>\n",
       "    <tr>\n",
       "      <th>0</th>\n",
       "      <td>3254_0</td>\n",
       "      <td>3254_0</td>\n",
       "      <td>3254_0</td>\n",
       "      <td>3254_0</td>\n",
       "      <td>59.550114</td>\n",
       "      <td>Male</td>\n",
       "      <td>White</td>\n",
       "      <td>1960-09-12</td>\n",
       "      <td>3254_6</td>\n",
       "      <td>25</td>\n",
       "      <td>...</td>\n",
       "      <td>cliffside dr</td>\n",
       "      <td>NaN</td>\n",
       "      <td>billerica</td>\n",
       "      <td>NaN</td>\n",
       "      <td>cliffside dr</td>\n",
       "      <td>NaN</td>\n",
       "      <td>0</td>\n",
       "      <td>MA</td>\n",
       "      <td>billerica</td>\n",
       "      <td>2740</td>\n",
       "    </tr>\n",
       "    <tr>\n",
       "      <th>1</th>\n",
       "      <td>3254_1</td>\n",
       "      <td>3254_1</td>\n",
       "      <td>3254_1</td>\n",
       "      <td>3254_0</td>\n",
       "      <td>58.674887</td>\n",
       "      <td>Female</td>\n",
       "      <td>White</td>\n",
       "      <td>1961-07-29</td>\n",
       "      <td>3254_6</td>\n",
       "      <td>25</td>\n",
       "      <td>...</td>\n",
       "      <td>cliffside dr</td>\n",
       "      <td>NaN</td>\n",
       "      <td>billerica</td>\n",
       "      <td>NaN</td>\n",
       "      <td>cliffside dr</td>\n",
       "      <td>NaN</td>\n",
       "      <td>0</td>\n",
       "      <td>MA</td>\n",
       "      <td>billerica</td>\n",
       "      <td>2740</td>\n",
       "    </tr>\n",
       "    <tr>\n",
       "      <th>2</th>\n",
       "      <td>3254_2</td>\n",
       "      <td>3254_2</td>\n",
       "      <td>3254_2</td>\n",
       "      <td>3254_2</td>\n",
       "      <td>53.272919</td>\n",
       "      <td>Male</td>\n",
       "      <td>White</td>\n",
       "      <td>1966-12-23</td>\n",
       "      <td>3254_7</td>\n",
       "      <td>55</td>\n",
       "      <td>...</td>\n",
       "      <td>108th ave se</td>\n",
       "      <td>NaN</td>\n",
       "      <td>milwaukee</td>\n",
       "      <td>14323</td>\n",
       "      <td>108th ave se</td>\n",
       "      <td>NaN</td>\n",
       "      <td>0</td>\n",
       "      <td>WI</td>\n",
       "      <td>milwaukee</td>\n",
       "      <td>53952</td>\n",
       "    </tr>\n",
       "    <tr>\n",
       "      <th>3</th>\n",
       "      <td>3254_3</td>\n",
       "      <td>3254_3</td>\n",
       "      <td>3254_3</td>\n",
       "      <td>3254_2</td>\n",
       "      <td>54.643021</td>\n",
       "      <td>Female</td>\n",
       "      <td>White</td>\n",
       "      <td>1965-08-10</td>\n",
       "      <td>3254_7</td>\n",
       "      <td>55</td>\n",
       "      <td>...</td>\n",
       "      <td>108th ave se</td>\n",
       "      <td>NaN</td>\n",
       "      <td>milwaukee</td>\n",
       "      <td>14323</td>\n",
       "      <td>108th ave se</td>\n",
       "      <td>NaN</td>\n",
       "      <td>0</td>\n",
       "      <td>WI</td>\n",
       "      <td>milwaukee</td>\n",
       "      <td>53952</td>\n",
       "    </tr>\n",
       "    <tr>\n",
       "      <th>4</th>\n",
       "      <td>3254_4</td>\n",
       "      <td>3254_4</td>\n",
       "      <td>3254_4</td>\n",
       "      <td>3254_4</td>\n",
       "      <td>55.642824</td>\n",
       "      <td>Female</td>\n",
       "      <td>Black</td>\n",
       "      <td>1964-08-09</td>\n",
       "      <td>3254_8</td>\n",
       "      <td>24</td>\n",
       "      <td>...</td>\n",
       "      <td>ne 7th ave</td>\n",
       "      <td>NaN</td>\n",
       "      <td>nrt beach</td>\n",
       "      <td>358</td>\n",
       "      <td>ne 7th ave</td>\n",
       "      <td>NaN</td>\n",
       "      <td>0</td>\n",
       "      <td>MD</td>\n",
       "      <td>nrt beach</td>\n",
       "      <td>21239</td>\n",
       "    </tr>\n",
       "    <tr>\n",
       "      <th>...</th>\n",
       "      <td>...</td>\n",
       "      <td>...</td>\n",
       "      <td>...</td>\n",
       "      <td>...</td>\n",
       "      <td>...</td>\n",
       "      <td>...</td>\n",
       "      <td>...</td>\n",
       "      <td>...</td>\n",
       "      <td>...</td>\n",
       "      <td>...</td>\n",
       "      <td>...</td>\n",
       "      <td>...</td>\n",
       "      <td>...</td>\n",
       "      <td>...</td>\n",
       "      <td>...</td>\n",
       "      <td>...</td>\n",
       "      <td>...</td>\n",
       "      <td>...</td>\n",
       "      <td>...</td>\n",
       "      <td>...</td>\n",
       "      <td>...</td>\n",
       "    </tr>\n",
       "    <tr>\n",
       "      <th>15448912</th>\n",
       "      <td>3541_883506</td>\n",
       "      <td>3541_883506</td>\n",
       "      <td>3541_883506</td>\n",
       "      <td>3541_883504</td>\n",
       "      <td>7.739110</td>\n",
       "      <td>Male</td>\n",
       "      <td>White</td>\n",
       "      <td>2022-07-21</td>\n",
       "      <td>3541_618378</td>\n",
       "      <td>6</td>\n",
       "      <td>...</td>\n",
       "      <td>lone wolf dr</td>\n",
       "      <td>NaN</td>\n",
       "      <td>tulare</td>\n",
       "      <td>NaN</td>\n",
       "      <td>NaN</td>\n",
       "      <td>NaN</td>\n",
       "      <td>4657</td>\n",
       "      <td>CA</td>\n",
       "      <td>san diego</td>\n",
       "      <td>95136</td>\n",
       "    </tr>\n",
       "    <tr>\n",
       "      <th>15448913</th>\n",
       "      <td>3541_883507</td>\n",
       "      <td>3541_883507</td>\n",
       "      <td>3541_883507</td>\n",
       "      <td>3541_883504</td>\n",
       "      <td>31.564120</td>\n",
       "      <td>Female</td>\n",
       "      <td>White</td>\n",
       "      <td>1998-09-23</td>\n",
       "      <td>3541_618378</td>\n",
       "      <td>6</td>\n",
       "      <td>...</td>\n",
       "      <td>lone wolf dr</td>\n",
       "      <td>NaN</td>\n",
       "      <td>tulare</td>\n",
       "      <td>NaN</td>\n",
       "      <td>NaN</td>\n",
       "      <td>NaN</td>\n",
       "      <td>4657</td>\n",
       "      <td>CA</td>\n",
       "      <td>san diego</td>\n",
       "      <td>95136</td>\n",
       "    </tr>\n",
       "    <tr>\n",
       "      <th>15448914</th>\n",
       "      <td>3541_883508</td>\n",
       "      <td>3541_883508</td>\n",
       "      <td>3541_883508</td>\n",
       "      <td>3541_883508</td>\n",
       "      <td>27.369618</td>\n",
       "      <td>Male</td>\n",
       "      <td>Latino</td>\n",
       "      <td>2002-12-03</td>\n",
       "      <td>3541_618379</td>\n",
       "      <td>37</td>\n",
       "      <td>...</td>\n",
       "      <td>old silo rd</td>\n",
       "      <td>NaN</td>\n",
       "      <td>mooresville</td>\n",
       "      <td>1780</td>\n",
       "      <td>old silo rd</td>\n",
       "      <td>NaN</td>\n",
       "      <td>0</td>\n",
       "      <td>NC</td>\n",
       "      <td>mooresville</td>\n",
       "      <td>27217</td>\n",
       "    </tr>\n",
       "    <tr>\n",
       "      <th>15448915</th>\n",
       "      <td>3541_883509</td>\n",
       "      <td>3541_883509</td>\n",
       "      <td>3541_883509</td>\n",
       "      <td>3541_883509</td>\n",
       "      <td>71.134048</td>\n",
       "      <td>Male</td>\n",
       "      <td>Asian</td>\n",
       "      <td>1959-02-27</td>\n",
       "      <td>3541_618380</td>\n",
       "      <td>6</td>\n",
       "      <td>...</td>\n",
       "      <td>blue rdge ave</td>\n",
       "      <td>NaN</td>\n",
       "      <td>visalia</td>\n",
       "      <td>565</td>\n",
       "      <td>blue rdge ave</td>\n",
       "      <td>NaN</td>\n",
       "      <td>0</td>\n",
       "      <td>CA</td>\n",
       "      <td>visalia</td>\n",
       "      <td>91770</td>\n",
       "    </tr>\n",
       "    <tr>\n",
       "      <th>15448916</th>\n",
       "      <td>3541_883510</td>\n",
       "      <td>3541_883510</td>\n",
       "      <td>3541_883510</td>\n",
       "      <td>3541_883510</td>\n",
       "      <td>25.086591</td>\n",
       "      <td>Female</td>\n",
       "      <td>White</td>\n",
       "      <td>2005-03-16</td>\n",
       "      <td>3541_618381</td>\n",
       "      <td>42</td>\n",
       "      <td>...</td>\n",
       "      <td>arroyo lane</td>\n",
       "      <td>NaN</td>\n",
       "      <td>middletown</td>\n",
       "      <td>28014</td>\n",
       "      <td>arroyo lane</td>\n",
       "      <td>NaN</td>\n",
       "      <td>0</td>\n",
       "      <td>PA</td>\n",
       "      <td>middletown</td>\n",
       "      <td>19081</td>\n",
       "    </tr>\n",
       "  </tbody>\n",
       "</table>\n",
       "<p>15448917 rows × 37 columns</p>\n",
       "</div>"
      ],
      "text/plain": [
       "          simulant_id first_name_id middle_name_id last_name_id        age  \\\n",
       "0              3254_0        3254_0         3254_0       3254_0  59.550114   \n",
       "1              3254_1        3254_1         3254_1       3254_0  58.674887   \n",
       "2              3254_2        3254_2         3254_2       3254_2  53.272919   \n",
       "3              3254_3        3254_3         3254_3       3254_2  54.643021   \n",
       "4              3254_4        3254_4         3254_4       3254_4  55.642824   \n",
       "...               ...           ...            ...          ...        ...   \n",
       "15448912  3541_883506   3541_883506    3541_883506  3541_883504   7.739110   \n",
       "15448913  3541_883507   3541_883507    3541_883507  3541_883504  31.564120   \n",
       "15448914  3541_883508   3541_883508    3541_883508  3541_883508  27.369618   \n",
       "15448915  3541_883509   3541_883509    3541_883509  3541_883509  71.134048   \n",
       "15448916  3541_883510   3541_883510    3541_883510  3541_883510  25.086591   \n",
       "\n",
       "             sex race_ethnicity date_of_birth   address_id  state_id  ...  \\\n",
       "0           Male          White    1960-09-12       3254_6        25  ...   \n",
       "1         Female          White    1961-07-29       3254_6        25  ...   \n",
       "2           Male          White    1966-12-23       3254_7        55  ...   \n",
       "3         Female          White    1965-08-10       3254_7        55  ...   \n",
       "4         Female          Black    1964-08-09       3254_8        24  ...   \n",
       "...          ...            ...           ...          ...       ...  ...   \n",
       "15448912    Male          White    2022-07-21  3541_618378         6  ...   \n",
       "15448913  Female          White    1998-09-23  3541_618378         6  ...   \n",
       "15448914    Male         Latino    2002-12-03  3541_618379        37  ...   \n",
       "15448915    Male          Asian    1959-02-27  3541_618380         6  ...   \n",
       "15448916  Female          White    2005-03-16  3541_618381        42  ...   \n",
       "\n",
       "            street_name  unit_number         city  \\\n",
       "0          cliffside dr          NaN    billerica   \n",
       "1          cliffside dr          NaN    billerica   \n",
       "2          108th ave se          NaN    milwaukee   \n",
       "3          108th ave se          NaN    milwaukee   \n",
       "4            ne 7th ave          NaN    nrt beach   \n",
       "...                 ...          ...          ...   \n",
       "15448912   lone wolf dr          NaN       tulare   \n",
       "15448913   lone wolf dr          NaN       tulare   \n",
       "15448914    old silo rd          NaN  mooresville   \n",
       "15448915  blue rdge ave          NaN      visalia   \n",
       "15448916    arroyo lane          NaN   middletown   \n",
       "\n",
       "          mailing_address_street_number  mailing_address_street_name  \\\n",
       "0                                   NaN                 cliffside dr   \n",
       "1                                   NaN                 cliffside dr   \n",
       "2                                 14323                 108th ave se   \n",
       "3                                 14323                 108th ave se   \n",
       "4                                   358                   ne 7th ave   \n",
       "...                                 ...                          ...   \n",
       "15448912                            NaN                          NaN   \n",
       "15448913                            NaN                          NaN   \n",
       "15448914                           1780                  old silo rd   \n",
       "15448915                            565                blue rdge ave   \n",
       "15448916                          28014                  arroyo lane   \n",
       "\n",
       "          mailing_address_unit_number mailing_address_po_box  \\\n",
       "0                                 NaN                      0   \n",
       "1                                 NaN                      0   \n",
       "2                                 NaN                      0   \n",
       "3                                 NaN                      0   \n",
       "4                                 NaN                      0   \n",
       "...                               ...                    ...   \n",
       "15448912                          NaN                   4657   \n",
       "15448913                          NaN                   4657   \n",
       "15448914                          NaN                      0   \n",
       "15448915                          NaN                      0   \n",
       "15448916                          NaN                      0   \n",
       "\n",
       "          mailing_address_state mailing_address_city  mailing_address_zipcode  \n",
       "0                            MA            billerica                     2740  \n",
       "1                            MA            billerica                     2740  \n",
       "2                            WI            milwaukee                    53952  \n",
       "3                            WI            milwaukee                    53952  \n",
       "4                            MD            nrt beach                    21239  \n",
       "...                         ...                  ...                      ...  \n",
       "15448912                     CA            san diego                    95136  \n",
       "15448913                     CA            san diego                    95136  \n",
       "15448914                     NC          mooresville                    27217  \n",
       "15448915                     CA              visalia                    91770  \n",
       "15448916                     PA           middletown                    19081  \n",
       "\n",
       "[15448917 rows x 37 columns]"
      ]
     },
     "execution_count": 4,
     "metadata": {},
     "output_type": "execute_result"
    }
   ],
   "source": [
    "%%time\n",
    "df_census_raw = pd.read_csv(f'{output_dir}/decennial_census_observer.csv.bz2')\n",
    "df_census_raw"
   ]
  },
  {
   "cell_type": "markdown",
   "id": "1f60b33a",
   "metadata": {},
   "source": [
    "# Check memory usage and datatypes"
   ]
  },
  {
   "cell_type": "code",
   "execution_count": 5,
   "id": "55ac599f",
   "metadata": {},
   "outputs": [
    {
     "name": "stdout",
     "output_type": "stream",
     "text": [
      "CPU times: user 22.7 s, sys: 231 ms, total: 22.9 s\n",
      "Wall time: 22.9 s\n"
     ]
    },
    {
     "data": {
      "text/plain": [
       "23755355459"
      ]
     },
     "execution_count": 5,
     "metadata": {},
     "output_type": "execute_result"
    }
   ],
   "source": [
    "%%time\n",
    "getsizeof(df_census_raw) # 24 GB for 15M rows"
   ]
  },
  {
   "cell_type": "code",
   "execution_count": 6,
   "id": "ae699060",
   "metadata": {},
   "outputs": [
    {
     "data": {
      "text/plain": [
       "simulant_id                       object\n",
       "first_name_id                     object\n",
       "middle_name_id                    object\n",
       "last_name_id                      object\n",
       "age                              float64\n",
       "sex                               object\n",
       "race_ethnicity                    object\n",
       "date_of_birth                     object\n",
       "address_id                        object\n",
       "state_id                           int64\n",
       "po_box                             int64\n",
       "puma                               int64\n",
       "guardian_1                         int64\n",
       "guardian_2                         int64\n",
       "guardian_1_address_id            float64\n",
       "guardian_2_address_id            float64\n",
       "relation_to_household_head        object\n",
       "census_year                        int64\n",
       "housing_type                      object\n",
       "random_seed                        int64\n",
       "year_of_birth                      int64\n",
       "state                             object\n",
       "first_name                        object\n",
       "middle_initial                    object\n",
       "last_name                         object\n",
       "zipcode                            int64\n",
       "street_number                     object\n",
       "street_name                       object\n",
       "unit_number                       object\n",
       "city                              object\n",
       "mailing_address_street_number     object\n",
       "mailing_address_street_name       object\n",
       "mailing_address_unit_number       object\n",
       "mailing_address_po_box             int64\n",
       "mailing_address_state             object\n",
       "mailing_address_city              object\n",
       "mailing_address_zipcode            int64\n",
       "dtype: object"
      ]
     },
     "execution_count": 6,
     "metadata": {},
     "output_type": "execute_result"
    }
   ],
   "source": [
    "df_census_raw.dtypes"
   ]
  },
  {
   "cell_type": "code",
   "execution_count": 7,
   "id": "11ffc640",
   "metadata": {},
   "outputs": [
    {
     "name": "stdout",
     "output_type": "stream",
     "text": [
      "1048.430004 67.86430427453264\n"
     ]
    }
   ],
   "source": [
    "sim_id_size = getsizeof(df_census_raw['simulant_id']) # 1GB for simulant_id column (str)\n",
    "print(sim_id_size / 1e6, sim_id_size / len(df_census_raw))"
   ]
  },
  {
   "cell_type": "code",
   "execution_count": 8,
   "id": "3e881c4b",
   "metadata": {},
   "outputs": [
    {
     "name": "stdout",
     "output_type": "stream",
     "text": [
      "123.59148 8.000009321041727\n"
     ]
    }
   ],
   "source": [
    "age_size = getsizeof(df_census_raw['age']) # 123 MB for age column (float64)\n",
    "print(age_size / 1e6, age_size / len(df_census_raw))"
   ]
  },
  {
   "cell_type": "code",
   "execution_count": 9,
   "id": "dcce821c",
   "metadata": {},
   "outputs": [
    {
     "name": "stdout",
     "output_type": "stream",
     "text": [
      "123.59148 8.000009321041727\n"
     ]
    }
   ],
   "source": [
    "zipcode_size = getsizeof(df_census_raw['zipcode']) # 123 MB for zipcode column (int64)\n",
    "print(zipcode_size / 1e6, zipcode_size / len(df_census_raw))"
   ]
  },
  {
   "cell_type": "markdown",
   "id": "ff487089",
   "metadata": {},
   "source": [
    "# See why some columns were loaded with mixed types\n",
    "\n",
    "It's street numbers that are either NaN or not all digits."
   ]
  },
  {
   "cell_type": "code",
   "execution_count": 64,
   "id": "31433c7d",
   "metadata": {},
   "outputs": [
    {
     "data": {
      "text/html": [
       "<div>\n",
       "<style scoped>\n",
       "    .dataframe tbody tr th:only-of-type {\n",
       "        vertical-align: middle;\n",
       "    }\n",
       "\n",
       "    .dataframe tbody tr th {\n",
       "        vertical-align: top;\n",
       "    }\n",
       "\n",
       "    .dataframe thead th {\n",
       "        text-align: right;\n",
       "    }\n",
       "</style>\n",
       "<table border=\"1\" class=\"dataframe\">\n",
       "  <thead>\n",
       "    <tr style=\"text-align: right;\">\n",
       "      <th></th>\n",
       "      <th>street_number</th>\n",
       "      <th>mailing_address_street_number</th>\n",
       "    </tr>\n",
       "  </thead>\n",
       "  <tbody>\n",
       "    <tr>\n",
       "      <th>0</th>\n",
       "      <td>NaN</td>\n",
       "      <td>NaN</td>\n",
       "    </tr>\n",
       "    <tr>\n",
       "      <th>1</th>\n",
       "      <td>NaN</td>\n",
       "      <td>NaN</td>\n",
       "    </tr>\n",
       "    <tr>\n",
       "      <th>2</th>\n",
       "      <td>14323</td>\n",
       "      <td>14323</td>\n",
       "    </tr>\n",
       "    <tr>\n",
       "      <th>3</th>\n",
       "      <td>14323</td>\n",
       "      <td>14323</td>\n",
       "    </tr>\n",
       "    <tr>\n",
       "      <th>4</th>\n",
       "      <td>358</td>\n",
       "      <td>358</td>\n",
       "    </tr>\n",
       "    <tr>\n",
       "      <th>...</th>\n",
       "      <td>...</td>\n",
       "      <td>...</td>\n",
       "    </tr>\n",
       "    <tr>\n",
       "      <th>15448912</th>\n",
       "      <td>3589</td>\n",
       "      <td>NaN</td>\n",
       "    </tr>\n",
       "    <tr>\n",
       "      <th>15448913</th>\n",
       "      <td>3589</td>\n",
       "      <td>NaN</td>\n",
       "    </tr>\n",
       "    <tr>\n",
       "      <th>15448914</th>\n",
       "      <td>1780</td>\n",
       "      <td>1780</td>\n",
       "    </tr>\n",
       "    <tr>\n",
       "      <th>15448915</th>\n",
       "      <td>565</td>\n",
       "      <td>565</td>\n",
       "    </tr>\n",
       "    <tr>\n",
       "      <th>15448916</th>\n",
       "      <td>28014</td>\n",
       "      <td>28014</td>\n",
       "    </tr>\n",
       "  </tbody>\n",
       "</table>\n",
       "<p>15448917 rows × 2 columns</p>\n",
       "</div>"
      ],
      "text/plain": [
       "         street_number mailing_address_street_number\n",
       "0                  NaN                           NaN\n",
       "1                  NaN                           NaN\n",
       "2                14323                         14323\n",
       "3                14323                         14323\n",
       "4                  358                           358\n",
       "...                ...                           ...\n",
       "15448912          3589                           NaN\n",
       "15448913          3589                           NaN\n",
       "15448914          1780                          1780\n",
       "15448915           565                           565\n",
       "15448916         28014                         28014\n",
       "\n",
       "[15448917 rows x 2 columns]"
      ]
     },
     "execution_count": 64,
     "metadata": {},
     "output_type": "execute_result"
    }
   ],
   "source": [
    "# These columns had mixed dtype, aparently\n",
    "df_census_raw.iloc[:,[26,30]]"
   ]
  },
  {
   "cell_type": "code",
   "execution_count": 71,
   "id": "68c0d7d2",
   "metadata": {},
   "outputs": [
    {
     "data": {
      "text/plain": [
       "array([<class 'float'>, <class 'str'>], dtype=object)"
      ]
     },
     "execution_count": 71,
     "metadata": {},
     "output_type": "execute_result"
    }
   ],
   "source": [
    "street_num_types = df_census_raw['street_number'].map(type)\n",
    "street_num_types.unique()"
   ]
  },
  {
   "cell_type": "code",
   "execution_count": 74,
   "id": "5511aea2",
   "metadata": {},
   "outputs": [
    {
     "data": {
      "text/plain": [
       "0           NaN\n",
       "1           NaN\n",
       "115         NaN\n",
       "116         NaN\n",
       "117         NaN\n",
       "           ... \n",
       "15448781    NaN\n",
       "15448782    NaN\n",
       "15448783    NaN\n",
       "15448800    NaN\n",
       "15448801    NaN\n",
       "Name: street_number, Length: 727534, dtype: object"
      ]
     },
     "execution_count": 74,
     "metadata": {},
     "output_type": "execute_result"
    }
   ],
   "source": [
    "df_census_raw.loc[street_num_types==float, 'street_number']"
   ]
  },
  {
   "cell_type": "code",
   "execution_count": 78,
   "id": "a638db34",
   "metadata": {},
   "outputs": [
    {
     "data": {
      "text/plain": [
       "False"
      ]
     },
     "execution_count": 78,
     "metadata": {},
     "output_type": "execute_result"
    }
   ],
   "source": [
    "street_num_floats = df_census_raw.loc[street_num_types==float, 'street_number']\n",
    "street_num_floats.isna().all()"
   ]
  },
  {
   "cell_type": "code",
   "execution_count": 79,
   "id": "d5acebe5",
   "metadata": {},
   "outputs": [
    {
     "data": {
      "text/plain": [
       "3817472     1127.0\n",
       "3817473     1127.0\n",
       "3817474      119.0\n",
       "3817475      119.0\n",
       "3817476      119.0\n",
       "             ...  \n",
       "13107195     949.0\n",
       "13107196     949.0\n",
       "13107197     898.0\n",
       "13107198     949.0\n",
       "13107199     747.0\n",
       "Name: street_number, Length: 46743, dtype: object"
      ]
     },
     "execution_count": 79,
     "metadata": {},
     "output_type": "execute_result"
    }
   ],
   "source": [
    "street_num_floats.loc[street_num_floats.notna()]"
   ]
  },
  {
   "cell_type": "code",
   "execution_count": 73,
   "id": "45e40376",
   "metadata": {},
   "outputs": [
    {
     "data": {
      "text/plain": [
       "2           14323\n",
       "3           14323\n",
       "4             358\n",
       "5             358\n",
       "6             358\n",
       "            ...  \n",
       "15448912     3589\n",
       "15448913     3589\n",
       "15448914     1780\n",
       "15448915      565\n",
       "15448916    28014\n",
       "Name: street_number, Length: 14721383, dtype: object"
      ]
     },
     "execution_count": 73,
     "metadata": {},
     "output_type": "execute_result"
    }
   ],
   "source": [
    "df_census_raw.loc[street_num_types==str, 'street_number']"
   ]
  },
  {
   "cell_type": "code",
   "execution_count": 80,
   "id": "ad2a5c0c",
   "metadata": {},
   "outputs": [
    {
     "data": {
      "text/plain": [
       "False"
      ]
     },
     "execution_count": 80,
     "metadata": {},
     "output_type": "execute_result"
    }
   ],
   "source": [
    "street_num_str = df_census_raw.loc[street_num_types==str, 'street_number']\n",
    "street_num_str.str.isdigit().all()"
   ]
  },
  {
   "cell_type": "code",
   "execution_count": 82,
   "id": "3094e41d",
   "metadata": {},
   "outputs": [
    {
     "data": {
      "text/plain": [
       "542         n88w 17907\n",
       "543         n88w 17907\n",
       "544         n88w 17907\n",
       "545         n88w 17907\n",
       "632             144-46\n",
       "               ...    \n",
       "15448247      5862 1 2\n",
       "15448363         w3603\n",
       "15448456        950 a9\n",
       "15448615      1000 1 2\n",
       "15448703        207-18\n",
       "Name: street_number, Length: 183590, dtype: object"
      ]
     },
     "execution_count": 82,
     "metadata": {},
     "output_type": "execute_result"
    }
   ],
   "source": [
    "street_num_str.loc[~street_num_str.str.isdigit()]"
   ]
  },
  {
   "cell_type": "markdown",
   "id": "8bcf7ed2",
   "metadata": {},
   "source": [
    "# Write a function to process census into final expected form"
   ]
  },
  {
   "cell_type": "code",
   "execution_count": 10,
   "id": "6699ac14",
   "metadata": {},
   "outputs": [
    {
     "data": {
      "text/plain": [
       "array([2020, 2030])"
      ]
     },
     "execution_count": 10,
     "metadata": {},
     "output_type": "execute_result"
    }
   ],
   "source": [
    "df_census_raw.census_year.unique()"
   ]
  },
  {
   "cell_type": "code",
   "execution_count": 11,
   "id": "69dc927c",
   "metadata": {},
   "outputs": [
    {
     "data": {
      "text/plain": [
       "simulant_id                       object\n",
       "first_name_id                     object\n",
       "middle_name_id                    object\n",
       "last_name_id                      object\n",
       "age                              float64\n",
       "sex                               object\n",
       "race_ethnicity                    object\n",
       "date_of_birth                     object\n",
       "address_id                        object\n",
       "state_id                           int64\n",
       "po_box                             int64\n",
       "puma                               int64\n",
       "guardian_1                         int64\n",
       "guardian_2                         int64\n",
       "guardian_1_address_id            float64\n",
       "guardian_2_address_id            float64\n",
       "relation_to_household_head        object\n",
       "census_year                        int64\n",
       "housing_type                      object\n",
       "random_seed                        int64\n",
       "year_of_birth                      int64\n",
       "state                             object\n",
       "first_name                        object\n",
       "middle_initial                    object\n",
       "last_name                         object\n",
       "zipcode                            int64\n",
       "street_number                     object\n",
       "street_name                       object\n",
       "unit_number                       object\n",
       "city                              object\n",
       "mailing_address_street_number     object\n",
       "mailing_address_street_name       object\n",
       "mailing_address_unit_number       object\n",
       "mailing_address_po_box             int64\n",
       "mailing_address_state             object\n",
       "mailing_address_city              object\n",
       "mailing_address_zipcode            int64\n",
       "dtype: object"
      ]
     },
     "execution_count": 11,
     "metadata": {},
     "output_type": "execute_result"
    }
   ],
   "source": [
    "df_census_raw.dtypes"
   ]
  },
  {
   "cell_type": "code",
   "execution_count": 12,
   "id": "8f1c5f3c",
   "metadata": {},
   "outputs": [
    {
     "name": "stdout",
     "output_type": "stream",
     "text": [
      "CPU times: user 12.2 s, sys: 1.18 s, total: 13.4 s\n",
      "Wall time: 13.4 s\n"
     ]
    },
    {
     "data": {
      "text/html": [
       "<div>\n",
       "<style scoped>\n",
       "    .dataframe tbody tr th:only-of-type {\n",
       "        vertical-align: middle;\n",
       "    }\n",
       "\n",
       "    .dataframe tbody tr th {\n",
       "        vertical-align: top;\n",
       "    }\n",
       "\n",
       "    .dataframe thead th {\n",
       "        text-align: right;\n",
       "    }\n",
       "</style>\n",
       "<table border=\"1\" class=\"dataframe\">\n",
       "  <thead>\n",
       "    <tr style=\"text-align: right;\">\n",
       "      <th></th>\n",
       "      <th>simulant_id</th>\n",
       "      <th>relation_to_household_head</th>\n",
       "      <th>date_of_birth</th>\n",
       "      <th>age</th>\n",
       "      <th>sex</th>\n",
       "      <th>race_ethnicity</th>\n",
       "      <th>first_name</th>\n",
       "      <th>middle_initial</th>\n",
       "      <th>last_name</th>\n",
       "      <th>street_number</th>\n",
       "      <th>street_name</th>\n",
       "      <th>unit_number</th>\n",
       "      <th>city</th>\n",
       "      <th>state</th>\n",
       "      <th>zipcode</th>\n",
       "      <th>sim_id_int</th>\n",
       "    </tr>\n",
       "  </thead>\n",
       "  <tbody>\n",
       "    <tr>\n",
       "      <th>0</th>\n",
       "      <td>3254_0</td>\n",
       "      <td>Reference person</td>\n",
       "      <td>1960-09-12</td>\n",
       "      <td>59.550114</td>\n",
       "      <td>Male</td>\n",
       "      <td>White</td>\n",
       "      <td>David</td>\n",
       "      <td>T</td>\n",
       "      <td>Allen</td>\n",
       "      <td>NaN</td>\n",
       "      <td>cliffside dr</td>\n",
       "      <td>NaN</td>\n",
       "      <td>billerica</td>\n",
       "      <td>MA</td>\n",
       "      <td>2740</td>\n",
       "      <td>[3254, 0]</td>\n",
       "    </tr>\n",
       "    <tr>\n",
       "      <th>1</th>\n",
       "      <td>3254_1</td>\n",
       "      <td>Opp-sex spouse</td>\n",
       "      <td>1961-07-29</td>\n",
       "      <td>58.674887</td>\n",
       "      <td>Female</td>\n",
       "      <td>White</td>\n",
       "      <td>Deanna</td>\n",
       "      <td>S</td>\n",
       "      <td>Allen</td>\n",
       "      <td>NaN</td>\n",
       "      <td>cliffside dr</td>\n",
       "      <td>NaN</td>\n",
       "      <td>billerica</td>\n",
       "      <td>MA</td>\n",
       "      <td>2740</td>\n",
       "      <td>[3254, 1]</td>\n",
       "    </tr>\n",
       "    <tr>\n",
       "      <th>2</th>\n",
       "      <td>3254_2</td>\n",
       "      <td>Reference person</td>\n",
       "      <td>1966-12-23</td>\n",
       "      <td>53.272919</td>\n",
       "      <td>Male</td>\n",
       "      <td>White</td>\n",
       "      <td>David</td>\n",
       "      <td>T</td>\n",
       "      <td>Dudich</td>\n",
       "      <td>14323</td>\n",
       "      <td>108th ave se</td>\n",
       "      <td>NaN</td>\n",
       "      <td>milwaukee</td>\n",
       "      <td>WI</td>\n",
       "      <td>53952</td>\n",
       "      <td>[3254, 2]</td>\n",
       "    </tr>\n",
       "    <tr>\n",
       "      <th>3</th>\n",
       "      <td>3254_3</td>\n",
       "      <td>Opp-sex spouse</td>\n",
       "      <td>1965-08-10</td>\n",
       "      <td>54.643021</td>\n",
       "      <td>Female</td>\n",
       "      <td>White</td>\n",
       "      <td>Dawn</td>\n",
       "      <td>T</td>\n",
       "      <td>Dudich</td>\n",
       "      <td>14323</td>\n",
       "      <td>108th ave se</td>\n",
       "      <td>NaN</td>\n",
       "      <td>milwaukee</td>\n",
       "      <td>WI</td>\n",
       "      <td>53952</td>\n",
       "      <td>[3254, 3]</td>\n",
       "    </tr>\n",
       "    <tr>\n",
       "      <th>4</th>\n",
       "      <td>3254_4</td>\n",
       "      <td>Reference person</td>\n",
       "      <td>1964-08-09</td>\n",
       "      <td>55.642824</td>\n",
       "      <td>Female</td>\n",
       "      <td>Black</td>\n",
       "      <td>Deanna</td>\n",
       "      <td>T</td>\n",
       "      <td>Jones</td>\n",
       "      <td>358</td>\n",
       "      <td>ne 7th ave</td>\n",
       "      <td>NaN</td>\n",
       "      <td>nrt beach</td>\n",
       "      <td>MD</td>\n",
       "      <td>21239</td>\n",
       "      <td>[3254, 4]</td>\n",
       "    </tr>\n",
       "    <tr>\n",
       "      <th>...</th>\n",
       "      <td>...</td>\n",
       "      <td>...</td>\n",
       "      <td>...</td>\n",
       "      <td>...</td>\n",
       "      <td>...</td>\n",
       "      <td>...</td>\n",
       "      <td>...</td>\n",
       "      <td>...</td>\n",
       "      <td>...</td>\n",
       "      <td>...</td>\n",
       "      <td>...</td>\n",
       "      <td>...</td>\n",
       "      <td>...</td>\n",
       "      <td>...</td>\n",
       "      <td>...</td>\n",
       "      <td>...</td>\n",
       "    </tr>\n",
       "    <tr>\n",
       "      <th>14654635</th>\n",
       "      <td>3541_751066</td>\n",
       "      <td>Reference person</td>\n",
       "      <td>1991-09-28</td>\n",
       "      <td>28.584974</td>\n",
       "      <td>Male</td>\n",
       "      <td>Asian</td>\n",
       "      <td>Michael</td>\n",
       "      <td>J</td>\n",
       "      <td>Sandhu</td>\n",
       "      <td>826</td>\n",
       "      <td>knight st</td>\n",
       "      <td>NaN</td>\n",
       "      <td>oswego</td>\n",
       "      <td>IL</td>\n",
       "      <td>60607</td>\n",
       "      <td>[3541, 751066]</td>\n",
       "    </tr>\n",
       "    <tr>\n",
       "      <th>14654636</th>\n",
       "      <td>3541_751067</td>\n",
       "      <td>Parent</td>\n",
       "      <td>1963-08-30</td>\n",
       "      <td>56.666066</td>\n",
       "      <td>Female</td>\n",
       "      <td>Asian</td>\n",
       "      <td>Carrie</td>\n",
       "      <td>J</td>\n",
       "      <td>Sandhu</td>\n",
       "      <td>826</td>\n",
       "      <td>knight st</td>\n",
       "      <td>NaN</td>\n",
       "      <td>oswego</td>\n",
       "      <td>IL</td>\n",
       "      <td>60607</td>\n",
       "      <td>[3541, 751067]</td>\n",
       "    </tr>\n",
       "    <tr>\n",
       "      <th>14654637</th>\n",
       "      <td>3541_751068</td>\n",
       "      <td>Reference person</td>\n",
       "      <td>1991-04-06</td>\n",
       "      <td>29.065734</td>\n",
       "      <td>Female</td>\n",
       "      <td>White</td>\n",
       "      <td>Melissa</td>\n",
       "      <td>M</td>\n",
       "      <td>Norman</td>\n",
       "      <td>824</td>\n",
       "      <td>walnut street</td>\n",
       "      <td>NaN</td>\n",
       "      <td>white plains</td>\n",
       "      <td>NY</td>\n",
       "      <td>13206</td>\n",
       "      <td>[3541, 751068]</td>\n",
       "    </tr>\n",
       "    <tr>\n",
       "      <th>14654638</th>\n",
       "      <td>3541_751069</td>\n",
       "      <td>Reference person</td>\n",
       "      <td>1983-02-08</td>\n",
       "      <td>37.220983</td>\n",
       "      <td>Male</td>\n",
       "      <td>Latino</td>\n",
       "      <td>Justin</td>\n",
       "      <td>B</td>\n",
       "      <td>Jones</td>\n",
       "      <td>417</td>\n",
       "      <td>logan street</td>\n",
       "      <td>NaN</td>\n",
       "      <td>riverdale</td>\n",
       "      <td>UT</td>\n",
       "      <td>84119</td>\n",
       "      <td>[3541, 751069]</td>\n",
       "    </tr>\n",
       "    <tr>\n",
       "      <th>14654639</th>\n",
       "      <td>3541_751070</td>\n",
       "      <td>Roommate</td>\n",
       "      <td>1990-05-18</td>\n",
       "      <td>29.949451</td>\n",
       "      <td>Male</td>\n",
       "      <td>Latino</td>\n",
       "      <td>Harrison</td>\n",
       "      <td>P</td>\n",
       "      <td>Beltran</td>\n",
       "      <td>417</td>\n",
       "      <td>logan street</td>\n",
       "      <td>NaN</td>\n",
       "      <td>riverdale</td>\n",
       "      <td>UT</td>\n",
       "      <td>84119</td>\n",
       "      <td>[3541, 751070]</td>\n",
       "    </tr>\n",
       "  </tbody>\n",
       "</table>\n",
       "<p>7503818 rows × 16 columns</p>\n",
       "</div>"
      ],
      "text/plain": [
       "          simulant_id relation_to_household_head date_of_birth        age  \\\n",
       "0              3254_0           Reference person    1960-09-12  59.550114   \n",
       "1              3254_1             Opp-sex spouse    1961-07-29  58.674887   \n",
       "2              3254_2           Reference person    1966-12-23  53.272919   \n",
       "3              3254_3             Opp-sex spouse    1965-08-10  54.643021   \n",
       "4              3254_4           Reference person    1964-08-09  55.642824   \n",
       "...               ...                        ...           ...        ...   \n",
       "14654635  3541_751066           Reference person    1991-09-28  28.584974   \n",
       "14654636  3541_751067                     Parent    1963-08-30  56.666066   \n",
       "14654637  3541_751068           Reference person    1991-04-06  29.065734   \n",
       "14654638  3541_751069           Reference person    1983-02-08  37.220983   \n",
       "14654639  3541_751070                   Roommate    1990-05-18  29.949451   \n",
       "\n",
       "             sex race_ethnicity first_name middle_initial last_name  \\\n",
       "0           Male          White      David              T     Allen   \n",
       "1         Female          White     Deanna              S     Allen   \n",
       "2           Male          White      David              T    Dudich   \n",
       "3         Female          White       Dawn              T    Dudich   \n",
       "4         Female          Black     Deanna              T     Jones   \n",
       "...          ...            ...        ...            ...       ...   \n",
       "14654635    Male          Asian    Michael              J    Sandhu   \n",
       "14654636  Female          Asian     Carrie              J    Sandhu   \n",
       "14654637  Female          White    Melissa              M    Norman   \n",
       "14654638    Male         Latino     Justin              B     Jones   \n",
       "14654639    Male         Latino   Harrison              P   Beltran   \n",
       "\n",
       "         street_number    street_name unit_number          city state  \\\n",
       "0                  NaN   cliffside dr         NaN     billerica    MA   \n",
       "1                  NaN   cliffside dr         NaN     billerica    MA   \n",
       "2                14323   108th ave se         NaN     milwaukee    WI   \n",
       "3                14323   108th ave se         NaN     milwaukee    WI   \n",
       "4                  358     ne 7th ave         NaN     nrt beach    MD   \n",
       "...                ...            ...         ...           ...   ...   \n",
       "14654635           826      knight st         NaN        oswego    IL   \n",
       "14654636           826      knight st         NaN        oswego    IL   \n",
       "14654637           824  walnut street         NaN  white plains    NY   \n",
       "14654638           417   logan street         NaN     riverdale    UT   \n",
       "14654639           417   logan street         NaN     riverdale    UT   \n",
       "\n",
       "          zipcode      sim_id_int  \n",
       "0            2740       [3254, 0]  \n",
       "1            2740       [3254, 1]  \n",
       "2           53952       [3254, 2]  \n",
       "3           53952       [3254, 3]  \n",
       "4           21239       [3254, 4]  \n",
       "...           ...             ...  \n",
       "14654635    60607  [3541, 751066]  \n",
       "14654636    60607  [3541, 751067]  \n",
       "14654637    13206  [3541, 751068]  \n",
       "14654638    84119  [3541, 751069]  \n",
       "14654639    84119  [3541, 751070]  \n",
       "\n",
       "[7503818 rows x 16 columns]"
      ]
     },
     "execution_count": 12,
     "metadata": {},
     "output_type": "execute_result"
    }
   ],
   "source": [
    "%%time\n",
    "\n",
    "def get_single_census(df_census_raw, year):\n",
    "    columns_for_census = [\n",
    "        'simulant_id', 'relation_to_household_head',\n",
    "        'date_of_birth', 'age', 'sex', 'race_ethnicity',\n",
    "        'first_name', 'middle_initial', 'last_name',\n",
    "        'street_number', 'street_name', 'unit_number',\n",
    "        'city', 'state', 'zipcode',\n",
    "    ]\n",
    "    df_census = df_census_raw.loc[\n",
    "        df_census_raw.census_year==year, columns_for_census]\n",
    "    df_census['sim_id_int'] = df_census['simulant_id'].str.split('_')\n",
    "    return df_census\n",
    "\n",
    "df_census = get_single_census(df_census_raw, 2020)\n",
    "df_census"
   ]
  },
  {
   "cell_type": "code",
   "execution_count": 13,
   "id": "169241b5",
   "metadata": {},
   "outputs": [
    {
     "data": {
      "text/plain": [
       "7290.787512"
      ]
     },
     "execution_count": 13,
     "metadata": {},
     "output_type": "execute_result"
    }
   ],
   "source": [
    "getsizeof(df_census) / 1e6"
   ]
  },
  {
   "cell_type": "markdown",
   "id": "51fd336b",
   "metadata": {},
   "source": [
    "# See if we can reduce memory usage for some columns by converting dtypes\n",
    "\n",
    "Yes, converting to pandas `Categorical` saves a lot of memory for most of the columns, and also speeds up processing time later."
   ]
  },
  {
   "cell_type": "code",
   "execution_count": 14,
   "id": "c5dd7e30",
   "metadata": {},
   "outputs": [
    {
     "data": {
      "text/plain": [
       "602.603504"
      ]
     },
     "execution_count": 14,
     "metadata": {},
     "output_type": "execute_result"
    }
   ],
   "source": [
    "getsizeof(df_census['relation_to_household_head']) / 1e6"
   ]
  },
  {
   "cell_type": "code",
   "execution_count": 15,
   "id": "861c5f30",
   "metadata": {},
   "outputs": [
    {
     "data": {
      "text/plain": [
       "562.786366"
      ]
     },
     "execution_count": 15,
     "metadata": {},
     "output_type": "execute_result"
    }
   ],
   "source": [
    "getsizeof(df_census['date_of_birth']) / 1e6"
   ]
  },
  {
   "cell_type": "code",
   "execution_count": 16,
   "id": "8cc7dc47",
   "metadata": {},
   "outputs": [
    {
     "data": {
      "text/plain": [
       "495.252004"
      ]
     },
     "execution_count": 16,
     "metadata": {},
     "output_type": "execute_result"
    }
   ],
   "source": [
    "getsizeof(df_census['middle_initial']) / 1e6"
   ]
  },
  {
   "cell_type": "code",
   "execution_count": 17,
   "id": "7937a520",
   "metadata": {},
   "outputs": [
    {
     "data": {
      "text/plain": [
       "525.42181"
      ]
     },
     "execution_count": 17,
     "metadata": {},
     "output_type": "execute_result"
    }
   ],
   "source": [
    "getsizeof(df_census['sex']) / 1e6"
   ]
  },
  {
   "cell_type": "code",
   "execution_count": 18,
   "id": "556e6c6d",
   "metadata": {},
   "outputs": [
    {
     "data": {
      "text/plain": [
       "7.504066"
      ]
     },
     "execution_count": 18,
     "metadata": {},
     "output_type": "execute_result"
    }
   ],
   "source": [
    "getsizeof(pd.Categorical(df_census['sex'])) / 1e6"
   ]
  },
  {
   "cell_type": "code",
   "execution_count": 19,
   "id": "6ea2b95d",
   "metadata": {},
   "outputs": [
    {
     "data": {
      "text/plain": [
       "7.506414"
      ]
     },
     "execution_count": 19,
     "metadata": {},
     "output_type": "execute_result"
    }
   ],
   "source": [
    "getsizeof(pd.Categorical(df_census['middle_initial'])) / 1e6"
   ]
  },
  {
   "cell_type": "code",
   "execution_count": 20,
   "id": "52a9ef4b",
   "metadata": {},
   "outputs": [
    {
     "data": {
      "text/plain": [
       "569.180064"
      ]
     },
     "execution_count": 20,
     "metadata": {},
     "output_type": "execute_result"
    }
   ],
   "source": [
    "getsizeof(df_census['simulant_id']) / 1e6"
   ]
  },
  {
   "cell_type": "code",
   "execution_count": 21,
   "id": "010f1bb4",
   "metadata": {},
   "outputs": [
    {
     "data": {
      "text/plain": [
       "120.061104"
      ]
     },
     "execution_count": 21,
     "metadata": {},
     "output_type": "execute_result"
    }
   ],
   "source": [
    "getsizeof(df_census['zipcode']) / 1e6"
   ]
  },
  {
   "cell_type": "code",
   "execution_count": 22,
   "id": "5a4c67f4",
   "metadata": {},
   "outputs": [
    {
     "data": {
      "text/plain": [
       "31605"
      ]
     },
     "execution_count": 22,
     "metadata": {},
     "output_type": "execute_result"
    }
   ],
   "source": [
    "df_census['zipcode'].nunique()"
   ]
  },
  {
   "cell_type": "code",
   "execution_count": 23,
   "id": "5790b8b5",
   "metadata": {},
   "outputs": [
    {
     "data": {
      "text/plain": [
       "16.3173"
      ]
     },
     "execution_count": 23,
     "metadata": {},
     "output_type": "execute_result"
    }
   ],
   "source": [
    "getsizeof(pd.Categorical(df_census['zipcode'])) / 1e6"
   ]
  },
  {
   "cell_type": "code",
   "execution_count": 24,
   "id": "3529d939",
   "metadata": {},
   "outputs": [
    {
     "data": {
      "text/plain": [
       "532.262691"
      ]
     },
     "execution_count": 24,
     "metadata": {},
     "output_type": "execute_result"
    }
   ],
   "source": [
    "getsizeof(df_census['first_name']) / 1e6"
   ]
  },
  {
   "cell_type": "code",
   "execution_count": 25,
   "id": "a6a7c746",
   "metadata": {},
   "outputs": [
    {
     "data": {
      "text/plain": [
       "16.787843"
      ]
     },
     "execution_count": 25,
     "metadata": {},
     "output_type": "execute_result"
    }
   ],
   "source": [
    "getsizeof(pd.Categorical(df_census['first_name'])) / 1e6"
   ]
  },
  {
   "cell_type": "code",
   "execution_count": 26,
   "id": "4bf1cc92",
   "metadata": {},
   "outputs": [
    {
     "data": {
      "text/plain": [
       "537.413881"
      ]
     },
     "execution_count": 26,
     "metadata": {},
     "output_type": "execute_result"
    }
   ],
   "source": [
    "getsizeof(df_census['last_name']) / 1e6"
   ]
  },
  {
   "cell_type": "code",
   "execution_count": 27,
   "id": "eb2004ce",
   "metadata": {},
   "outputs": [
    {
     "data": {
      "text/plain": [
       "53.77337"
      ]
     },
     "execution_count": 27,
     "metadata": {},
     "output_type": "execute_result"
    }
   ],
   "source": [
    "getsizeof(pd.Categorical(df_census['last_name'])) / 1e6"
   ]
  },
  {
   "cell_type": "code",
   "execution_count": 28,
   "id": "3db6d51d",
   "metadata": {},
   "outputs": [
    {
     "data": {
      "text/plain": [
       "578.807787"
      ]
     },
     "execution_count": 28,
     "metadata": {},
     "output_type": "execute_result"
    }
   ],
   "source": [
    "getsizeof(df_census['street_name']) / 1e6"
   ]
  },
  {
   "cell_type": "code",
   "execution_count": 29,
   "id": "6e6662ef",
   "metadata": {},
   "outputs": [
    {
     "data": {
      "text/plain": [
       "121.103117"
      ]
     },
     "execution_count": 29,
     "metadata": {},
     "output_type": "execute_result"
    }
   ],
   "source": [
    "getsizeof(pd.Categorical(df_census['street_name'])) / 1e6"
   ]
  },
  {
   "cell_type": "code",
   "execution_count": 30,
   "id": "59704449",
   "metadata": {},
   "outputs": [
    {
     "data": {
      "text/plain": [
       "562.786366"
      ]
     },
     "execution_count": 30,
     "metadata": {},
     "output_type": "execute_result"
    }
   ],
   "source": [
    "getsizeof(df_census['date_of_birth']) / 1e6"
   ]
  },
  {
   "cell_type": "code",
   "execution_count": 31,
   "id": "cbfd7226",
   "metadata": {},
   "outputs": [
    {
     "data": {
      "text/plain": [
       "33.472907"
      ]
     },
     "execution_count": 31,
     "metadata": {},
     "output_type": "execute_result"
    }
   ],
   "source": [
    "getsizeof(pd.Categorical(df_census['date_of_birth'])) / 1e6"
   ]
  },
  {
   "cell_type": "code",
   "execution_count": 32,
   "id": "b524e520",
   "metadata": {},
   "outputs": [
    {
     "data": {
      "text/plain": [
       "Index(['simulant_id', 'first_name_id', 'middle_name_id', 'last_name_id', 'age',\n",
       "       'sex', 'race_ethnicity', 'date_of_birth', 'address_id', 'state_id',\n",
       "       'po_box', 'puma', 'guardian_1', 'guardian_2', 'guardian_1_address_id',\n",
       "       'guardian_2_address_id', 'relation_to_household_head', 'census_year',\n",
       "       'housing_type', 'random_seed', 'year_of_birth', 'state', 'first_name',\n",
       "       'middle_initial', 'last_name', 'zipcode', 'street_number',\n",
       "       'street_name', 'unit_number', 'city', 'mailing_address_street_number',\n",
       "       'mailing_address_street_name', 'mailing_address_unit_number',\n",
       "       'mailing_address_po_box', 'mailing_address_state',\n",
       "       'mailing_address_city', 'mailing_address_zipcode'],\n",
       "      dtype='object')"
      ]
     },
     "execution_count": 32,
     "metadata": {},
     "output_type": "execute_result"
    }
   ],
   "source": [
    "df_census_raw.columns"
   ]
  },
  {
   "cell_type": "code",
   "execution_count": 33,
   "id": "e8aa49c1",
   "metadata": {},
   "outputs": [
    {
     "data": {
      "text/plain": [
       "object     23\n",
       "int64      11\n",
       "float64     3\n",
       "dtype: int64"
      ]
     },
     "execution_count": 33,
     "metadata": {},
     "output_type": "execute_result"
    }
   ],
   "source": [
    "df_census_raw.dtypes.value_counts()"
   ]
  },
  {
   "cell_type": "code",
   "execution_count": 34,
   "id": "523c3141",
   "metadata": {},
   "outputs": [
    {
     "data": {
      "text/plain": [
       "simulant_id                      object\n",
       "first_name_id                    object\n",
       "middle_name_id                   object\n",
       "last_name_id                     object\n",
       "sex                              object\n",
       "race_ethnicity                   object\n",
       "date_of_birth                    object\n",
       "address_id                       object\n",
       "relation_to_household_head       object\n",
       "housing_type                     object\n",
       "state                            object\n",
       "first_name                       object\n",
       "middle_initial                   object\n",
       "last_name                        object\n",
       "street_number                    object\n",
       "street_name                      object\n",
       "unit_number                      object\n",
       "city                             object\n",
       "mailing_address_street_number    object\n",
       "mailing_address_street_name      object\n",
       "mailing_address_unit_number      object\n",
       "mailing_address_state            object\n",
       "mailing_address_city             object\n",
       "dtype: object"
      ]
     },
     "execution_count": 34,
     "metadata": {},
     "output_type": "execute_result"
    }
   ],
   "source": [
    "# I think all of these should be categorical except for the id's\n",
    "df_census_raw.dtypes[df_census_raw.dtypes=='object']"
   ]
  },
  {
   "cell_type": "code",
   "execution_count": 35,
   "id": "7ad6f071",
   "metadata": {},
   "outputs": [
    {
     "data": {
      "text/plain": [
       "simulant_id               object\n",
       "first_name_id             object\n",
       "middle_name_id            object\n",
       "last_name_id              object\n",
       "address_id                object\n",
       "state_id                   int64\n",
       "guardian_1_address_id    float64\n",
       "guardian_2_address_id    float64\n",
       "dtype: object"
      ]
     },
     "execution_count": 35,
     "metadata": {},
     "output_type": "execute_result"
    }
   ],
   "source": [
    "df_census_raw.dtypes.filter(like='_id')"
   ]
  },
  {
   "cell_type": "code",
   "execution_count": 36,
   "id": "b40a4c67",
   "metadata": {},
   "outputs": [
    {
     "data": {
      "text/plain": [
       "array([<class 'str'>], dtype=object)"
      ]
     },
     "execution_count": 36,
     "metadata": {},
     "output_type": "execute_result"
    }
   ],
   "source": [
    "df_census_raw.date_of_birth.map(type).unique()"
   ]
  },
  {
   "cell_type": "code",
   "execution_count": 37,
   "id": "adedb1b4",
   "metadata": {},
   "outputs": [
    {
     "data": {
      "text/plain": [
       "state_id                   int64\n",
       "po_box                     int64\n",
       "puma                       int64\n",
       "guardian_1                 int64\n",
       "guardian_2                 int64\n",
       "census_year                int64\n",
       "random_seed                int64\n",
       "year_of_birth              int64\n",
       "zipcode                    int64\n",
       "mailing_address_po_box     int64\n",
       "mailing_address_zipcode    int64\n",
       "dtype: object"
      ]
     },
     "execution_count": 37,
     "metadata": {},
     "output_type": "execute_result"
    }
   ],
   "source": [
    "df_census_raw.dtypes[df_census_raw.dtypes=='int64']"
   ]
  },
  {
   "cell_type": "code",
   "execution_count": 38,
   "id": "599f0352",
   "metadata": {},
   "outputs": [
    {
     "data": {
      "text/plain": [
       "0              0\n",
       "1              0\n",
       "2              0\n",
       "3              0\n",
       "4              0\n",
       "            ... \n",
       "15448912    4657\n",
       "15448913    4657\n",
       "15448914       0\n",
       "15448915       0\n",
       "15448916       0\n",
       "Name: po_box, Length: 15448917, dtype: int64"
      ]
     },
     "execution_count": 38,
     "metadata": {},
     "output_type": "execute_result"
    }
   ],
   "source": [
    "df_census_raw.po_box"
   ]
  },
  {
   "cell_type": "code",
   "execution_count": 39,
   "id": "4ed863b8",
   "metadata": {},
   "outputs": [
    {
     "data": {
      "text/plain": [
       "123.59148"
      ]
     },
     "execution_count": 39,
     "metadata": {},
     "output_type": "execute_result"
    }
   ],
   "source": [
    "getsizeof(df_census_raw.po_box) / 1e6"
   ]
  },
  {
   "cell_type": "code",
   "execution_count": 40,
   "id": "739e0bb7",
   "metadata": {},
   "outputs": [
    {
     "name": "stdout",
     "output_type": "stream",
     "text": [
      "31.586138\n"
     ]
    },
    {
     "data": {
      "text/plain": [
       "[0, 0, 0, 0, 0, ..., 4657, 4657, 0, 0, 0]\n",
       "Length: 15448917\n",
       "Categories (19983, int64): [0, 1, 2, 3, ..., 19997, 19998, 19999, 20000]"
      ]
     },
     "execution_count": 40,
     "metadata": {},
     "output_type": "execute_result"
    }
   ],
   "source": [
    "cat_po_box = pd.Categorical(df_census_raw.po_box)\n",
    "print(getsizeof(cat_po_box) / 1e6)\n",
    "cat_po_box"
   ]
  },
  {
   "cell_type": "markdown",
   "id": "0cb1ef2d",
   "metadata": {},
   "source": [
    "# Open smaller ACS data for testing "
   ]
  },
  {
   "cell_type": "code",
   "execution_count": 41,
   "id": "4561bde5",
   "metadata": {},
   "outputs": [
    {
     "name": "stdout",
     "output_type": "stream",
     "text": [
      "CPU times: user 1.97 s, sys: 47.8 ms, total: 2.01 s\n",
      "Wall time: 2.03 s\n"
     ]
    },
    {
     "data": {
      "text/html": [
       "<div>\n",
       "<style scoped>\n",
       "    .dataframe tbody tr th:only-of-type {\n",
       "        vertical-align: middle;\n",
       "    }\n",
       "\n",
       "    .dataframe tbody tr th {\n",
       "        vertical-align: top;\n",
       "    }\n",
       "\n",
       "    .dataframe thead th {\n",
       "        text-align: right;\n",
       "    }\n",
       "</style>\n",
       "<table border=\"1\" class=\"dataframe\">\n",
       "  <thead>\n",
       "    <tr style=\"text-align: right;\">\n",
       "      <th></th>\n",
       "      <th>simulant_id</th>\n",
       "      <th>first_name_id</th>\n",
       "      <th>middle_name_id</th>\n",
       "      <th>last_name_id</th>\n",
       "      <th>age</th>\n",
       "      <th>sex</th>\n",
       "      <th>race_ethnicity</th>\n",
       "      <th>date_of_birth</th>\n",
       "      <th>address_id</th>\n",
       "      <th>state_id</th>\n",
       "      <th>...</th>\n",
       "      <th>street_name</th>\n",
       "      <th>unit_number</th>\n",
       "      <th>city</th>\n",
       "      <th>mailing_address_street_number</th>\n",
       "      <th>mailing_address_street_name</th>\n",
       "      <th>mailing_address_unit_number</th>\n",
       "      <th>mailing_address_po_box</th>\n",
       "      <th>mailing_address_state</th>\n",
       "      <th>mailing_address_city</th>\n",
       "      <th>mailing_address_zipcode</th>\n",
       "    </tr>\n",
       "  </thead>\n",
       "  <tbody>\n",
       "    <tr>\n",
       "      <th>0</th>\n",
       "      <td>5616_1361</td>\n",
       "      <td>5616_1361</td>\n",
       "      <td>5616_1361</td>\n",
       "      <td>5616_1361</td>\n",
       "      <td>40.286410</td>\n",
       "      <td>Male</td>\n",
       "      <td>White</td>\n",
       "      <td>1979-12-18</td>\n",
       "      <td>5616_557</td>\n",
       "      <td>28</td>\n",
       "      <td>...</td>\n",
       "      <td>canterbury rd</td>\n",
       "      <td>NaN</td>\n",
       "      <td>brandon</td>\n",
       "      <td>1500</td>\n",
       "      <td>canterbury rd</td>\n",
       "      <td>NaN</td>\n",
       "      <td>0</td>\n",
       "      <td>MS</td>\n",
       "      <td>brandon</td>\n",
       "      <td>39574</td>\n",
       "    </tr>\n",
       "    <tr>\n",
       "      <th>1</th>\n",
       "      <td>5616_1362</td>\n",
       "      <td>5616_1362</td>\n",
       "      <td>5616_1362</td>\n",
       "      <td>5616_1361</td>\n",
       "      <td>30.996331</td>\n",
       "      <td>Female</td>\n",
       "      <td>White</td>\n",
       "      <td>1989-04-03</td>\n",
       "      <td>5616_557</td>\n",
       "      <td>28</td>\n",
       "      <td>...</td>\n",
       "      <td>canterbury rd</td>\n",
       "      <td>NaN</td>\n",
       "      <td>brandon</td>\n",
       "      <td>1500</td>\n",
       "      <td>canterbury rd</td>\n",
       "      <td>NaN</td>\n",
       "      <td>0</td>\n",
       "      <td>MS</td>\n",
       "      <td>brandon</td>\n",
       "      <td>39574</td>\n",
       "    </tr>\n",
       "    <tr>\n",
       "      <th>2</th>\n",
       "      <td>5616_1363</td>\n",
       "      <td>5616_1363</td>\n",
       "      <td>5616_1363</td>\n",
       "      <td>5616_1361</td>\n",
       "      <td>3.827596</td>\n",
       "      <td>Male</td>\n",
       "      <td>White</td>\n",
       "      <td>2016-06-03</td>\n",
       "      <td>5616_557</td>\n",
       "      <td>28</td>\n",
       "      <td>...</td>\n",
       "      <td>canterbury rd</td>\n",
       "      <td>NaN</td>\n",
       "      <td>brandon</td>\n",
       "      <td>1500</td>\n",
       "      <td>canterbury rd</td>\n",
       "      <td>NaN</td>\n",
       "      <td>0</td>\n",
       "      <td>MS</td>\n",
       "      <td>brandon</td>\n",
       "      <td>39574</td>\n",
       "    </tr>\n",
       "    <tr>\n",
       "      <th>3</th>\n",
       "      <td>5616_57184</td>\n",
       "      <td>5616_57184</td>\n",
       "      <td>5616_57184</td>\n",
       "      <td>5616_57184</td>\n",
       "      <td>42.542830</td>\n",
       "      <td>Male</td>\n",
       "      <td>White</td>\n",
       "      <td>1977-09-15</td>\n",
       "      <td>5616_22967</td>\n",
       "      <td>41</td>\n",
       "      <td>...</td>\n",
       "      <td>franklin street</td>\n",
       "      <td>NaN</td>\n",
       "      <td>portland</td>\n",
       "      <td>6328</td>\n",
       "      <td>franklin street</td>\n",
       "      <td>NaN</td>\n",
       "      <td>0</td>\n",
       "      <td>OR</td>\n",
       "      <td>portland</td>\n",
       "      <td>97232</td>\n",
       "    </tr>\n",
       "    <tr>\n",
       "      <th>4</th>\n",
       "      <td>5616_57185</td>\n",
       "      <td>5616_57185</td>\n",
       "      <td>5616_57185</td>\n",
       "      <td>5616_57185</td>\n",
       "      <td>34.179504</td>\n",
       "      <td>Female</td>\n",
       "      <td>White</td>\n",
       "      <td>1986-01-26</td>\n",
       "      <td>5616_22967</td>\n",
       "      <td>41</td>\n",
       "      <td>...</td>\n",
       "      <td>franklin street</td>\n",
       "      <td>NaN</td>\n",
       "      <td>portland</td>\n",
       "      <td>6328</td>\n",
       "      <td>franklin street</td>\n",
       "      <td>NaN</td>\n",
       "      <td>0</td>\n",
       "      <td>OR</td>\n",
       "      <td>portland</td>\n",
       "      <td>97232</td>\n",
       "    </tr>\n",
       "    <tr>\n",
       "      <th>...</th>\n",
       "      <td>...</td>\n",
       "      <td>...</td>\n",
       "      <td>...</td>\n",
       "      <td>...</td>\n",
       "      <td>...</td>\n",
       "      <td>...</td>\n",
       "      <td>...</td>\n",
       "      <td>...</td>\n",
       "      <td>...</td>\n",
       "      <td>...</td>\n",
       "      <td>...</td>\n",
       "      <td>...</td>\n",
       "      <td>...</td>\n",
       "      <td>...</td>\n",
       "      <td>...</td>\n",
       "      <td>...</td>\n",
       "      <td>...</td>\n",
       "      <td>...</td>\n",
       "      <td>...</td>\n",
       "      <td>...</td>\n",
       "      <td>...</td>\n",
       "    </tr>\n",
       "    <tr>\n",
       "      <th>153671</th>\n",
       "      <td>3541_848990</td>\n",
       "      <td>3541_848990</td>\n",
       "      <td>3541_848990</td>\n",
       "      <td>3541_524405</td>\n",
       "      <td>2.624840</td>\n",
       "      <td>Female</td>\n",
       "      <td>Latino</td>\n",
       "      <td>2027-09-30</td>\n",
       "      <td>3541_210891</td>\n",
       "      <td>6</td>\n",
       "      <td>...</td>\n",
       "      <td>pantano pl</td>\n",
       "      <td>NaN</td>\n",
       "      <td>julian</td>\n",
       "      <td>2443</td>\n",
       "      <td>pantano pl</td>\n",
       "      <td>NaN</td>\n",
       "      <td>0</td>\n",
       "      <td>CA</td>\n",
       "      <td>julian</td>\n",
       "      <td>95348</td>\n",
       "    </tr>\n",
       "    <tr>\n",
       "      <th>153672</th>\n",
       "      <td>3541_855170</td>\n",
       "      <td>3541_855170</td>\n",
       "      <td>3541_855170</td>\n",
       "      <td>3541_594502</td>\n",
       "      <td>2.175033</td>\n",
       "      <td>Female</td>\n",
       "      <td>Black</td>\n",
       "      <td>2028-03-12</td>\n",
       "      <td>3541_391189</td>\n",
       "      <td>42</td>\n",
       "      <td>...</td>\n",
       "      <td>northfield rd</td>\n",
       "      <td>NaN</td>\n",
       "      <td>chambersburg</td>\n",
       "      <td>4111</td>\n",
       "      <td>northfield rd</td>\n",
       "      <td>NaN</td>\n",
       "      <td>0</td>\n",
       "      <td>PA</td>\n",
       "      <td>chambersburg</td>\n",
       "      <td>19041</td>\n",
       "    </tr>\n",
       "    <tr>\n",
       "      <th>153673</th>\n",
       "      <td>3541_860702</td>\n",
       "      <td>3541_860702</td>\n",
       "      <td>3541_860702</td>\n",
       "      <td>3541_16126</td>\n",
       "      <td>27.204676</td>\n",
       "      <td>Female</td>\n",
       "      <td>Asian</td>\n",
       "      <td>2003-03-01</td>\n",
       "      <td>3541_508326</td>\n",
       "      <td>12</td>\n",
       "      <td>...</td>\n",
       "      <td>scott church rd</td>\n",
       "      <td>u 28</td>\n",
       "      <td>the villages</td>\n",
       "      <td>1295</td>\n",
       "      <td>scott church rd</td>\n",
       "      <td>u 28</td>\n",
       "      <td>0</td>\n",
       "      <td>FL</td>\n",
       "      <td>the villages</td>\n",
       "      <td>32222</td>\n",
       "    </tr>\n",
       "    <tr>\n",
       "      <th>153674</th>\n",
       "      <td>3541_868228</td>\n",
       "      <td>3541_868228</td>\n",
       "      <td>3541_868228</td>\n",
       "      <td>3541_210750</td>\n",
       "      <td>1.219996</td>\n",
       "      <td>Female</td>\n",
       "      <td>White</td>\n",
       "      <td>2029-02-24</td>\n",
       "      <td>3541_313925</td>\n",
       "      <td>27</td>\n",
       "      <td>...</td>\n",
       "      <td>waterfield ln</td>\n",
       "      <td>NaN</td>\n",
       "      <td>scandia</td>\n",
       "      <td>1827</td>\n",
       "      <td>waterfield ln</td>\n",
       "      <td>NaN</td>\n",
       "      <td>0</td>\n",
       "      <td>MN</td>\n",
       "      <td>scandia</td>\n",
       "      <td>56601</td>\n",
       "    </tr>\n",
       "    <tr>\n",
       "      <th>153675</th>\n",
       "      <td>3541_876077</td>\n",
       "      <td>3541_876077</td>\n",
       "      <td>3541_876077</td>\n",
       "      <td>3541_846432</td>\n",
       "      <td>32.027368</td>\n",
       "      <td>Male</td>\n",
       "      <td>White</td>\n",
       "      <td>1998-05-05</td>\n",
       "      <td>3541_531204</td>\n",
       "      <td>37</td>\n",
       "      <td>...</td>\n",
       "      <td>portwest drive</td>\n",
       "      <td>NaN</td>\n",
       "      <td>raleigh</td>\n",
       "      <td>2276</td>\n",
       "      <td>portwest drive</td>\n",
       "      <td>NaN</td>\n",
       "      <td>0</td>\n",
       "      <td>NC</td>\n",
       "      <td>raleigh</td>\n",
       "      <td>27610</td>\n",
       "    </tr>\n",
       "  </tbody>\n",
       "</table>\n",
       "<p>153676 rows × 37 columns</p>\n",
       "</div>"
      ],
      "text/plain": [
       "        simulant_id first_name_id middle_name_id last_name_id        age  \\\n",
       "0         5616_1361     5616_1361      5616_1361    5616_1361  40.286410   \n",
       "1         5616_1362     5616_1362      5616_1362    5616_1361  30.996331   \n",
       "2         5616_1363     5616_1363      5616_1363    5616_1361   3.827596   \n",
       "3        5616_57184    5616_57184     5616_57184   5616_57184  42.542830   \n",
       "4        5616_57185    5616_57185     5616_57185   5616_57185  34.179504   \n",
       "...             ...           ...            ...          ...        ...   \n",
       "153671  3541_848990   3541_848990    3541_848990  3541_524405   2.624840   \n",
       "153672  3541_855170   3541_855170    3541_855170  3541_594502   2.175033   \n",
       "153673  3541_860702   3541_860702    3541_860702   3541_16126  27.204676   \n",
       "153674  3541_868228   3541_868228    3541_868228  3541_210750   1.219996   \n",
       "153675  3541_876077   3541_876077    3541_876077  3541_846432  32.027368   \n",
       "\n",
       "           sex race_ethnicity date_of_birth   address_id  state_id  ...  \\\n",
       "0         Male          White    1979-12-18     5616_557        28  ...   \n",
       "1       Female          White    1989-04-03     5616_557        28  ...   \n",
       "2         Male          White    2016-06-03     5616_557        28  ...   \n",
       "3         Male          White    1977-09-15   5616_22967        41  ...   \n",
       "4       Female          White    1986-01-26   5616_22967        41  ...   \n",
       "...        ...            ...           ...          ...       ...  ...   \n",
       "153671  Female         Latino    2027-09-30  3541_210891         6  ...   \n",
       "153672  Female          Black    2028-03-12  3541_391189        42  ...   \n",
       "153673  Female          Asian    2003-03-01  3541_508326        12  ...   \n",
       "153674  Female          White    2029-02-24  3541_313925        27  ...   \n",
       "153675    Male          White    1998-05-05  3541_531204        37  ...   \n",
       "\n",
       "            street_name  unit_number          city  \\\n",
       "0         canterbury rd          NaN       brandon   \n",
       "1         canterbury rd          NaN       brandon   \n",
       "2         canterbury rd          NaN       brandon   \n",
       "3       franklin street          NaN      portland   \n",
       "4       franklin street          NaN      portland   \n",
       "...                 ...          ...           ...   \n",
       "153671       pantano pl          NaN        julian   \n",
       "153672    northfield rd          NaN  chambersburg   \n",
       "153673  scott church rd         u 28  the villages   \n",
       "153674    waterfield ln          NaN       scandia   \n",
       "153675   portwest drive          NaN       raleigh   \n",
       "\n",
       "        mailing_address_street_number  mailing_address_street_name  \\\n",
       "0                                1500                canterbury rd   \n",
       "1                                1500                canterbury rd   \n",
       "2                                1500                canterbury rd   \n",
       "3                                6328              franklin street   \n",
       "4                                6328              franklin street   \n",
       "...                               ...                          ...   \n",
       "153671                           2443                   pantano pl   \n",
       "153672                           4111                northfield rd   \n",
       "153673                           1295              scott church rd   \n",
       "153674                           1827                waterfield ln   \n",
       "153675                           2276               portwest drive   \n",
       "\n",
       "        mailing_address_unit_number mailing_address_po_box  \\\n",
       "0                               NaN                      0   \n",
       "1                               NaN                      0   \n",
       "2                               NaN                      0   \n",
       "3                               NaN                      0   \n",
       "4                               NaN                      0   \n",
       "...                             ...                    ...   \n",
       "153671                          NaN                      0   \n",
       "153672                          NaN                      0   \n",
       "153673                         u 28                      0   \n",
       "153674                          NaN                      0   \n",
       "153675                          NaN                      0   \n",
       "\n",
       "        mailing_address_state mailing_address_city  mailing_address_zipcode  \n",
       "0                          MS              brandon                    39574  \n",
       "1                          MS              brandon                    39574  \n",
       "2                          MS              brandon                    39574  \n",
       "3                          OR             portland                    97232  \n",
       "4                          OR             portland                    97232  \n",
       "...                       ...                  ...                      ...  \n",
       "153671                     CA               julian                    95348  \n",
       "153672                     PA         chambersburg                    19041  \n",
       "153673                     FL         the villages                    32222  \n",
       "153674                     MN              scandia                    56601  \n",
       "153675                     NC              raleigh                    27610  \n",
       "\n",
       "[153676 rows x 37 columns]"
      ]
     },
     "execution_count": 41,
     "metadata": {},
     "output_type": "execute_result"
    }
   ],
   "source": [
    "%%time\n",
    "df_acs = pd.read_csv(f'{output_dir}/household_survey_observer_acs.csv.bz2')\n",
    "df_acs"
   ]
  },
  {
   "cell_type": "code",
   "execution_count": 42,
   "id": "b7731610",
   "metadata": {},
   "outputs": [
    {
     "data": {
      "text/plain": [
       "simulant_id                       object\n",
       "first_name_id                     object\n",
       "middle_name_id                    object\n",
       "last_name_id                      object\n",
       "age                              float64\n",
       "sex                               object\n",
       "race_ethnicity                    object\n",
       "date_of_birth                     object\n",
       "address_id                        object\n",
       "state_id                           int64\n",
       "po_box                             int64\n",
       "puma                               int64\n",
       "guardian_1                         int64\n",
       "guardian_2                         int64\n",
       "guardian_1_address_id            float64\n",
       "guardian_2_address_id            float64\n",
       "survey_date                       object\n",
       "household_id                       int64\n",
       "housing_type                      object\n",
       "random_seed                        int64\n",
       "year_of_birth                      int64\n",
       "state                             object\n",
       "first_name                        object\n",
       "middle_initial                    object\n",
       "last_name                         object\n",
       "zipcode                            int64\n",
       "street_number                     object\n",
       "street_name                       object\n",
       "unit_number                       object\n",
       "city                              object\n",
       "mailing_address_street_number     object\n",
       "mailing_address_street_name       object\n",
       "mailing_address_unit_number       object\n",
       "mailing_address_po_box             int64\n",
       "mailing_address_state             object\n",
       "mailing_address_city              object\n",
       "mailing_address_zipcode            int64\n",
       "dtype: object"
      ]
     },
     "execution_count": 42,
     "metadata": {},
     "output_type": "execute_result"
    }
   ],
   "source": [
    "df_acs.dtypes"
   ]
  },
  {
   "cell_type": "code",
   "execution_count": 43,
   "id": "b9863437",
   "metadata": {},
   "outputs": [
    {
     "data": {
      "text/plain": [
       "235.514915"
      ]
     },
     "execution_count": 43,
     "metadata": {},
     "output_type": "execute_result"
    }
   ],
   "source": [
    "getsizeof(df_acs) / 1e6 # 235.514915 MB for default dtypes"
   ]
  },
  {
   "cell_type": "code",
   "execution_count": 44,
   "id": "be0e179d",
   "metadata": {},
   "outputs": [
    {
     "data": {
      "text/plain": [
       "1.229552"
      ]
     },
     "execution_count": 44,
     "metadata": {},
     "output_type": "execute_result"
    }
   ],
   "source": [
    "getsizeof(df_acs['zipcode']) / 1e6"
   ]
  },
  {
   "cell_type": "markdown",
   "id": "5abce04c",
   "metadata": {},
   "source": [
    "# Try reading ACS data using the `dtype` parameter of `.read_csv()` to load some columns as `Categorical`"
   ]
  },
  {
   "cell_type": "code",
   "execution_count": 45,
   "id": "29aabef3",
   "metadata": {},
   "outputs": [
    {
     "name": "stdout",
     "output_type": "stream",
     "text": [
      "CPU times: user 2.02 s, sys: 31.9 ms, total: 2.05 s\n",
      "Wall time: 2.05 s\n"
     ]
    },
    {
     "data": {
      "text/html": [
       "<div>\n",
       "<style scoped>\n",
       "    .dataframe tbody tr th:only-of-type {\n",
       "        vertical-align: middle;\n",
       "    }\n",
       "\n",
       "    .dataframe tbody tr th {\n",
       "        vertical-align: top;\n",
       "    }\n",
       "\n",
       "    .dataframe thead th {\n",
       "        text-align: right;\n",
       "    }\n",
       "</style>\n",
       "<table border=\"1\" class=\"dataframe\">\n",
       "  <thead>\n",
       "    <tr style=\"text-align: right;\">\n",
       "      <th></th>\n",
       "      <th>simulant_id</th>\n",
       "      <th>first_name_id</th>\n",
       "      <th>middle_name_id</th>\n",
       "      <th>last_name_id</th>\n",
       "      <th>age</th>\n",
       "      <th>sex</th>\n",
       "      <th>race_ethnicity</th>\n",
       "      <th>date_of_birth</th>\n",
       "      <th>address_id</th>\n",
       "      <th>state_id</th>\n",
       "      <th>...</th>\n",
       "      <th>street_name</th>\n",
       "      <th>unit_number</th>\n",
       "      <th>city</th>\n",
       "      <th>mailing_address_street_number</th>\n",
       "      <th>mailing_address_street_name</th>\n",
       "      <th>mailing_address_unit_number</th>\n",
       "      <th>mailing_address_po_box</th>\n",
       "      <th>mailing_address_state</th>\n",
       "      <th>mailing_address_city</th>\n",
       "      <th>mailing_address_zipcode</th>\n",
       "    </tr>\n",
       "  </thead>\n",
       "  <tbody>\n",
       "    <tr>\n",
       "      <th>0</th>\n",
       "      <td>5616_1361</td>\n",
       "      <td>5616_1361</td>\n",
       "      <td>5616_1361</td>\n",
       "      <td>5616_1361</td>\n",
       "      <td>40.286410</td>\n",
       "      <td>Male</td>\n",
       "      <td>White</td>\n",
       "      <td>1979-12-18</td>\n",
       "      <td>5616_557</td>\n",
       "      <td>28</td>\n",
       "      <td>...</td>\n",
       "      <td>canterbury rd</td>\n",
       "      <td>NaN</td>\n",
       "      <td>brandon</td>\n",
       "      <td>1500</td>\n",
       "      <td>canterbury rd</td>\n",
       "      <td>NaN</td>\n",
       "      <td>0</td>\n",
       "      <td>MS</td>\n",
       "      <td>brandon</td>\n",
       "      <td>39574</td>\n",
       "    </tr>\n",
       "    <tr>\n",
       "      <th>1</th>\n",
       "      <td>5616_1362</td>\n",
       "      <td>5616_1362</td>\n",
       "      <td>5616_1362</td>\n",
       "      <td>5616_1361</td>\n",
       "      <td>30.996331</td>\n",
       "      <td>Female</td>\n",
       "      <td>White</td>\n",
       "      <td>1989-04-03</td>\n",
       "      <td>5616_557</td>\n",
       "      <td>28</td>\n",
       "      <td>...</td>\n",
       "      <td>canterbury rd</td>\n",
       "      <td>NaN</td>\n",
       "      <td>brandon</td>\n",
       "      <td>1500</td>\n",
       "      <td>canterbury rd</td>\n",
       "      <td>NaN</td>\n",
       "      <td>0</td>\n",
       "      <td>MS</td>\n",
       "      <td>brandon</td>\n",
       "      <td>39574</td>\n",
       "    </tr>\n",
       "    <tr>\n",
       "      <th>2</th>\n",
       "      <td>5616_1363</td>\n",
       "      <td>5616_1363</td>\n",
       "      <td>5616_1363</td>\n",
       "      <td>5616_1361</td>\n",
       "      <td>3.827596</td>\n",
       "      <td>Male</td>\n",
       "      <td>White</td>\n",
       "      <td>2016-06-03</td>\n",
       "      <td>5616_557</td>\n",
       "      <td>28</td>\n",
       "      <td>...</td>\n",
       "      <td>canterbury rd</td>\n",
       "      <td>NaN</td>\n",
       "      <td>brandon</td>\n",
       "      <td>1500</td>\n",
       "      <td>canterbury rd</td>\n",
       "      <td>NaN</td>\n",
       "      <td>0</td>\n",
       "      <td>MS</td>\n",
       "      <td>brandon</td>\n",
       "      <td>39574</td>\n",
       "    </tr>\n",
       "    <tr>\n",
       "      <th>3</th>\n",
       "      <td>5616_57184</td>\n",
       "      <td>5616_57184</td>\n",
       "      <td>5616_57184</td>\n",
       "      <td>5616_57184</td>\n",
       "      <td>42.542830</td>\n",
       "      <td>Male</td>\n",
       "      <td>White</td>\n",
       "      <td>1977-09-15</td>\n",
       "      <td>5616_22967</td>\n",
       "      <td>41</td>\n",
       "      <td>...</td>\n",
       "      <td>franklin street</td>\n",
       "      <td>NaN</td>\n",
       "      <td>portland</td>\n",
       "      <td>6328</td>\n",
       "      <td>franklin street</td>\n",
       "      <td>NaN</td>\n",
       "      <td>0</td>\n",
       "      <td>OR</td>\n",
       "      <td>portland</td>\n",
       "      <td>97232</td>\n",
       "    </tr>\n",
       "    <tr>\n",
       "      <th>4</th>\n",
       "      <td>5616_57185</td>\n",
       "      <td>5616_57185</td>\n",
       "      <td>5616_57185</td>\n",
       "      <td>5616_57185</td>\n",
       "      <td>34.179504</td>\n",
       "      <td>Female</td>\n",
       "      <td>White</td>\n",
       "      <td>1986-01-26</td>\n",
       "      <td>5616_22967</td>\n",
       "      <td>41</td>\n",
       "      <td>...</td>\n",
       "      <td>franklin street</td>\n",
       "      <td>NaN</td>\n",
       "      <td>portland</td>\n",
       "      <td>6328</td>\n",
       "      <td>franklin street</td>\n",
       "      <td>NaN</td>\n",
       "      <td>0</td>\n",
       "      <td>OR</td>\n",
       "      <td>portland</td>\n",
       "      <td>97232</td>\n",
       "    </tr>\n",
       "    <tr>\n",
       "      <th>...</th>\n",
       "      <td>...</td>\n",
       "      <td>...</td>\n",
       "      <td>...</td>\n",
       "      <td>...</td>\n",
       "      <td>...</td>\n",
       "      <td>...</td>\n",
       "      <td>...</td>\n",
       "      <td>...</td>\n",
       "      <td>...</td>\n",
       "      <td>...</td>\n",
       "      <td>...</td>\n",
       "      <td>...</td>\n",
       "      <td>...</td>\n",
       "      <td>...</td>\n",
       "      <td>...</td>\n",
       "      <td>...</td>\n",
       "      <td>...</td>\n",
       "      <td>...</td>\n",
       "      <td>...</td>\n",
       "      <td>...</td>\n",
       "      <td>...</td>\n",
       "    </tr>\n",
       "    <tr>\n",
       "      <th>153671</th>\n",
       "      <td>3541_848990</td>\n",
       "      <td>3541_848990</td>\n",
       "      <td>3541_848990</td>\n",
       "      <td>3541_524405</td>\n",
       "      <td>2.624840</td>\n",
       "      <td>Female</td>\n",
       "      <td>Latino</td>\n",
       "      <td>2027-09-30</td>\n",
       "      <td>3541_210891</td>\n",
       "      <td>6</td>\n",
       "      <td>...</td>\n",
       "      <td>pantano pl</td>\n",
       "      <td>NaN</td>\n",
       "      <td>julian</td>\n",
       "      <td>2443</td>\n",
       "      <td>pantano pl</td>\n",
       "      <td>NaN</td>\n",
       "      <td>0</td>\n",
       "      <td>CA</td>\n",
       "      <td>julian</td>\n",
       "      <td>95348</td>\n",
       "    </tr>\n",
       "    <tr>\n",
       "      <th>153672</th>\n",
       "      <td>3541_855170</td>\n",
       "      <td>3541_855170</td>\n",
       "      <td>3541_855170</td>\n",
       "      <td>3541_594502</td>\n",
       "      <td>2.175033</td>\n",
       "      <td>Female</td>\n",
       "      <td>Black</td>\n",
       "      <td>2028-03-12</td>\n",
       "      <td>3541_391189</td>\n",
       "      <td>42</td>\n",
       "      <td>...</td>\n",
       "      <td>northfield rd</td>\n",
       "      <td>NaN</td>\n",
       "      <td>chambersburg</td>\n",
       "      <td>4111</td>\n",
       "      <td>northfield rd</td>\n",
       "      <td>NaN</td>\n",
       "      <td>0</td>\n",
       "      <td>PA</td>\n",
       "      <td>chambersburg</td>\n",
       "      <td>19041</td>\n",
       "    </tr>\n",
       "    <tr>\n",
       "      <th>153673</th>\n",
       "      <td>3541_860702</td>\n",
       "      <td>3541_860702</td>\n",
       "      <td>3541_860702</td>\n",
       "      <td>3541_16126</td>\n",
       "      <td>27.204676</td>\n",
       "      <td>Female</td>\n",
       "      <td>Asian</td>\n",
       "      <td>2003-03-01</td>\n",
       "      <td>3541_508326</td>\n",
       "      <td>12</td>\n",
       "      <td>...</td>\n",
       "      <td>scott church rd</td>\n",
       "      <td>u 28</td>\n",
       "      <td>the villages</td>\n",
       "      <td>1295</td>\n",
       "      <td>scott church rd</td>\n",
       "      <td>u 28</td>\n",
       "      <td>0</td>\n",
       "      <td>FL</td>\n",
       "      <td>the villages</td>\n",
       "      <td>32222</td>\n",
       "    </tr>\n",
       "    <tr>\n",
       "      <th>153674</th>\n",
       "      <td>3541_868228</td>\n",
       "      <td>3541_868228</td>\n",
       "      <td>3541_868228</td>\n",
       "      <td>3541_210750</td>\n",
       "      <td>1.219996</td>\n",
       "      <td>Female</td>\n",
       "      <td>White</td>\n",
       "      <td>2029-02-24</td>\n",
       "      <td>3541_313925</td>\n",
       "      <td>27</td>\n",
       "      <td>...</td>\n",
       "      <td>waterfield ln</td>\n",
       "      <td>NaN</td>\n",
       "      <td>scandia</td>\n",
       "      <td>1827</td>\n",
       "      <td>waterfield ln</td>\n",
       "      <td>NaN</td>\n",
       "      <td>0</td>\n",
       "      <td>MN</td>\n",
       "      <td>scandia</td>\n",
       "      <td>56601</td>\n",
       "    </tr>\n",
       "    <tr>\n",
       "      <th>153675</th>\n",
       "      <td>3541_876077</td>\n",
       "      <td>3541_876077</td>\n",
       "      <td>3541_876077</td>\n",
       "      <td>3541_846432</td>\n",
       "      <td>32.027368</td>\n",
       "      <td>Male</td>\n",
       "      <td>White</td>\n",
       "      <td>1998-05-05</td>\n",
       "      <td>3541_531204</td>\n",
       "      <td>37</td>\n",
       "      <td>...</td>\n",
       "      <td>portwest drive</td>\n",
       "      <td>NaN</td>\n",
       "      <td>raleigh</td>\n",
       "      <td>2276</td>\n",
       "      <td>portwest drive</td>\n",
       "      <td>NaN</td>\n",
       "      <td>0</td>\n",
       "      <td>NC</td>\n",
       "      <td>raleigh</td>\n",
       "      <td>27610</td>\n",
       "    </tr>\n",
       "  </tbody>\n",
       "</table>\n",
       "<p>153676 rows × 37 columns</p>\n",
       "</div>"
      ],
      "text/plain": [
       "        simulant_id first_name_id middle_name_id last_name_id        age  \\\n",
       "0         5616_1361     5616_1361      5616_1361    5616_1361  40.286410   \n",
       "1         5616_1362     5616_1362      5616_1362    5616_1361  30.996331   \n",
       "2         5616_1363     5616_1363      5616_1363    5616_1361   3.827596   \n",
       "3        5616_57184    5616_57184     5616_57184   5616_57184  42.542830   \n",
       "4        5616_57185    5616_57185     5616_57185   5616_57185  34.179504   \n",
       "...             ...           ...            ...          ...        ...   \n",
       "153671  3541_848990   3541_848990    3541_848990  3541_524405   2.624840   \n",
       "153672  3541_855170   3541_855170    3541_855170  3541_594502   2.175033   \n",
       "153673  3541_860702   3541_860702    3541_860702   3541_16126  27.204676   \n",
       "153674  3541_868228   3541_868228    3541_868228  3541_210750   1.219996   \n",
       "153675  3541_876077   3541_876077    3541_876077  3541_846432  32.027368   \n",
       "\n",
       "           sex race_ethnicity date_of_birth   address_id  state_id  ...  \\\n",
       "0         Male          White    1979-12-18     5616_557        28  ...   \n",
       "1       Female          White    1989-04-03     5616_557        28  ...   \n",
       "2         Male          White    2016-06-03     5616_557        28  ...   \n",
       "3         Male          White    1977-09-15   5616_22967        41  ...   \n",
       "4       Female          White    1986-01-26   5616_22967        41  ...   \n",
       "...        ...            ...           ...          ...       ...  ...   \n",
       "153671  Female         Latino    2027-09-30  3541_210891         6  ...   \n",
       "153672  Female          Black    2028-03-12  3541_391189        42  ...   \n",
       "153673  Female          Asian    2003-03-01  3541_508326        12  ...   \n",
       "153674  Female          White    2029-02-24  3541_313925        27  ...   \n",
       "153675    Male          White    1998-05-05  3541_531204        37  ...   \n",
       "\n",
       "            street_name  unit_number          city  \\\n",
       "0         canterbury rd          NaN       brandon   \n",
       "1         canterbury rd          NaN       brandon   \n",
       "2         canterbury rd          NaN       brandon   \n",
       "3       franklin street          NaN      portland   \n",
       "4       franklin street          NaN      portland   \n",
       "...                 ...          ...           ...   \n",
       "153671       pantano pl          NaN        julian   \n",
       "153672    northfield rd          NaN  chambersburg   \n",
       "153673  scott church rd         u 28  the villages   \n",
       "153674    waterfield ln          NaN       scandia   \n",
       "153675   portwest drive          NaN       raleigh   \n",
       "\n",
       "        mailing_address_street_number  mailing_address_street_name  \\\n",
       "0                                1500                canterbury rd   \n",
       "1                                1500                canterbury rd   \n",
       "2                                1500                canterbury rd   \n",
       "3                                6328              franklin street   \n",
       "4                                6328              franklin street   \n",
       "...                               ...                          ...   \n",
       "153671                           2443                   pantano pl   \n",
       "153672                           4111                northfield rd   \n",
       "153673                           1295              scott church rd   \n",
       "153674                           1827                waterfield ln   \n",
       "153675                           2276               portwest drive   \n",
       "\n",
       "        mailing_address_unit_number mailing_address_po_box  \\\n",
       "0                               NaN                      0   \n",
       "1                               NaN                      0   \n",
       "2                               NaN                      0   \n",
       "3                               NaN                      0   \n",
       "4                               NaN                      0   \n",
       "...                             ...                    ...   \n",
       "153671                          NaN                      0   \n",
       "153672                          NaN                      0   \n",
       "153673                         u 28                      0   \n",
       "153674                          NaN                      0   \n",
       "153675                          NaN                      0   \n",
       "\n",
       "        mailing_address_state mailing_address_city  mailing_address_zipcode  \n",
       "0                          MS              brandon                    39574  \n",
       "1                          MS              brandon                    39574  \n",
       "2                          MS              brandon                    39574  \n",
       "3                          OR             portland                    97232  \n",
       "4                          OR             portland                    97232  \n",
       "...                       ...                  ...                      ...  \n",
       "153671                     CA               julian                    95348  \n",
       "153672                     PA         chambersburg                    19041  \n",
       "153673                     FL         the villages                    32222  \n",
       "153674                     MN              scandia                    56601  \n",
       "153675                     NC              raleigh                    27610  \n",
       "\n",
       "[153676 rows x 37 columns]"
      ]
     },
     "execution_count": 45,
     "metadata": {},
     "output_type": "execute_result"
    }
   ],
   "source": [
    "%%time\n",
    "categorical_cols = [\n",
    "    'sex', 'race_ethnicity', 'middle_initial', 'zipcode', 'state',\n",
    "    'fake_column', # Does passing a nonexistent column raise an error? No. Great!\n",
    "]\n",
    "dtypes = {col: 'category' for col in categorical_cols}\n",
    "df_acs_cat = pd.read_csv(f'{output_dir}/household_survey_observer_acs.csv.bz2', dtype=dtypes)\n",
    "df_acs_cat"
   ]
  },
  {
   "cell_type": "code",
   "execution_count": 46,
   "id": "71e3ecf2",
   "metadata": {},
   "outputs": [
    {
     "data": {
      "text/plain": [
       "simulant_id                        object\n",
       "first_name_id                      object\n",
       "middle_name_id                     object\n",
       "last_name_id                       object\n",
       "age                               float64\n",
       "sex                              category\n",
       "race_ethnicity                   category\n",
       "date_of_birth                      object\n",
       "address_id                         object\n",
       "state_id                            int64\n",
       "po_box                              int64\n",
       "puma                                int64\n",
       "guardian_1                          int64\n",
       "guardian_2                          int64\n",
       "guardian_1_address_id             float64\n",
       "guardian_2_address_id             float64\n",
       "survey_date                        object\n",
       "household_id                        int64\n",
       "housing_type                       object\n",
       "random_seed                         int64\n",
       "year_of_birth                       int64\n",
       "state                            category\n",
       "first_name                         object\n",
       "middle_initial                   category\n",
       "last_name                          object\n",
       "zipcode                          category\n",
       "street_number                      object\n",
       "street_name                        object\n",
       "unit_number                        object\n",
       "city                               object\n",
       "mailing_address_street_number      object\n",
       "mailing_address_street_name        object\n",
       "mailing_address_unit_number        object\n",
       "mailing_address_po_box              int64\n",
       "mailing_address_state              object\n",
       "mailing_address_city               object\n",
       "mailing_address_zipcode             int64\n",
       "dtype: object"
      ]
     },
     "execution_count": 46,
     "metadata": {},
     "output_type": "execute_result"
    }
   ],
   "source": [
    "df_acs_cat.dtypes"
   ]
  },
  {
   "cell_type": "code",
   "execution_count": 47,
   "id": "debd298b",
   "metadata": {},
   "outputs": [
    {
     "data": {
      "text/plain": [
       "199.632156"
      ]
     },
     "execution_count": 47,
     "metadata": {},
     "output_type": "execute_result"
    }
   ],
   "source": [
    "getsizeof(df_acs_cat) / 1e6 # 199.632156 MB after converting some columns to categories"
   ]
  },
  {
   "cell_type": "markdown",
   "id": "628221d9",
   "metadata": {},
   "source": [
    "# Test whether I can use the `Series.str` accessor on a Categorical\n",
    "\n",
    "Yes, I can! And it's faster than using it on the original string column!"
   ]
  },
  {
   "cell_type": "code",
   "execution_count": 48,
   "id": "d8d67d3a",
   "metadata": {},
   "outputs": [
    {
     "data": {
      "text/plain": [
       "0         39574\n",
       "1         39574\n",
       "2         39574\n",
       "3         97232\n",
       "4         97232\n",
       "          ...  \n",
       "153671    95348\n",
       "153672    19041\n",
       "153673    32222\n",
       "153674    56601\n",
       "153675    27610\n",
       "Name: zipcode, Length: 153676, dtype: category\n",
       "Categories (16612, object): ['10002', '10010', '10011', '10013', ..., '95324', '96142', '97759', '98443']"
      ]
     },
     "execution_count": 48,
     "metadata": {},
     "output_type": "execute_result"
    }
   ],
   "source": [
    "df_acs_cat['zipcode']"
   ]
  },
  {
   "cell_type": "code",
   "execution_count": 49,
   "id": "ac22e2de",
   "metadata": {},
   "outputs": [
    {
     "data": {
      "text/plain": [
       "0          True\n",
       "1          True\n",
       "2          True\n",
       "3         False\n",
       "4         False\n",
       "          ...  \n",
       "153671    False\n",
       "153672    False\n",
       "153673     True\n",
       "153674    False\n",
       "153675    False\n",
       "Name: zipcode, Length: 153676, dtype: bool"
      ]
     },
     "execution_count": 49,
     "metadata": {},
     "output_type": "execute_result"
    }
   ],
   "source": [
    "df_acs_cat['zipcode'].str.startswith('3')"
   ]
  },
  {
   "cell_type": "code",
   "execution_count": 50,
   "id": "8f7eb91f",
   "metadata": {},
   "outputs": [
    {
     "data": {
      "text/plain": [
       "1.864451"
      ]
     },
     "execution_count": 50,
     "metadata": {},
     "output_type": "execute_result"
    }
   ],
   "source": [
    "getsizeof(df_acs_cat['zipcode']) / 1e6"
   ]
  },
  {
   "cell_type": "code",
   "execution_count": 51,
   "id": "86d31fc2",
   "metadata": {},
   "outputs": [
    {
     "name": "stdout",
     "output_type": "stream",
     "text": [
      "28.9 ms ± 129 µs per loop (mean ± std. dev. of 7 runs, 10 loops each)\n",
      "3.96 ms ± 16.1 µs per loop (mean ± std. dev. of 7 runs, 100 loops each)\n"
     ]
    }
   ],
   "source": [
    "acs_zip_str = df_acs['zipcode'].astype(str)\n",
    "%timeit acs_zip_str.str.startswith('3')\n",
    "%timeit df_acs_cat['zipcode'].str.startswith('3')"
   ]
  },
  {
   "cell_type": "markdown",
   "id": "25f5642a",
   "metadata": {},
   "source": [
    "# Write functions to convert between string IDs and integer IDs"
   ]
  },
  {
   "cell_type": "code",
   "execution_count": 52,
   "id": "d1f8f948",
   "metadata": {},
   "outputs": [
    {
     "data": {
      "text/plain": [
       "0           5616_1361\n",
       "1           5616_1362\n",
       "2           5616_1363\n",
       "3          5616_57184\n",
       "4          5616_57185\n",
       "             ...     \n",
       "153671    3541_848990\n",
       "153672    3541_855170\n",
       "153673    3541_860702\n",
       "153674    3541_868228\n",
       "153675    3541_876077\n",
       "Name: simulant_id, Length: 153676, dtype: object"
      ]
     },
     "execution_count": 52,
     "metadata": {},
     "output_type": "execute_result"
    }
   ],
   "source": [
    "df_acs.simulant_id"
   ]
  },
  {
   "cell_type": "code",
   "execution_count": 53,
   "id": "47acdaea",
   "metadata": {},
   "outputs": [
    {
     "data": {
      "text/plain": [
       "1844674407.3709552"
      ]
     },
     "execution_count": 53,
     "metadata": {},
     "output_type": "execute_result"
    }
   ],
   "source": [
    "2**64 / 1e10 # Padding to width 10 is still very far from overflow for 64-bit integers"
   ]
  },
  {
   "cell_type": "code",
   "execution_count": 66,
   "id": "3c84b749",
   "metadata": {},
   "outputs": [
    {
     "name": "stdout",
     "output_type": "stream",
     "text": [
      "CPU times: user 191 ms, sys: 12 ms, total: 203 ms\n",
      "Wall time: 202 ms\n"
     ]
    },
    {
     "data": {
      "text/plain": [
       "0         56160000001361\n",
       "1         56160000001362\n",
       "2         56160000001363\n",
       "3         56160000057184\n",
       "4         56160000057185\n",
       "               ...      \n",
       "153671    35410000848990\n",
       "153672    35410000855170\n",
       "153673    35410000860702\n",
       "153674    35410000868228\n",
       "153675    35410000876077\n",
       "Name: simulant_id, Length: 153676, dtype: int64"
      ]
     },
     "execution_count": 66,
     "metadata": {},
     "output_type": "execute_result"
    }
   ],
   "source": [
    "%%time\n",
    "ID_PAD_WIDTH = 10 # must be larger than maximum number of digits in an ID\n",
    "\n",
    "def id_str_to_int(id_col_str):\n",
    "#     pattern = r\"(?P<seed_id>\\d+)_(?P<sim_id>\\d+)\"\n",
    "#     id_pieces_df = id_col_str.str.extract(pattern).astype(int)\n",
    "#     id_col_int = id_pieces_df['seed_id'] * 10**ID_PAD_WIDTH + id_pieces_df['sim_id']\n",
    "    id_pieces = id_col_str.str.split('_')\n",
    "    seed_id, sim_id = id_pieces.str[0].astype(int), id_pieces.str[1].astype(int)\n",
    "    id_col_int = seed_id * 10**ID_PAD_WIDTH + sim_id\n",
    "    return id_col_int\n",
    "\n",
    "def id_int_to_str(id_col_int):\n",
    "    seed_id, sim_id = id_col_int.divmod(10**ID_PAD_WIDTH)\n",
    "    id_col_str = seed_id.astype(str) + '_' + sim_id.astype(str)\n",
    "    return id_col_str\n",
    "\n",
    "acs_sim_id_ints = id_str_to_int(df_acs.simulant_id)\n",
    "acs_sim_id_ints"
   ]
  },
  {
   "cell_type": "code",
   "execution_count": 55,
   "id": "4e8537bb",
   "metadata": {},
   "outputs": [
    {
     "data": {
      "text/plain": [
       "1.229552"
      ]
     },
     "execution_count": 55,
     "metadata": {},
     "output_type": "execute_result"
    }
   ],
   "source": [
    "getsizeof(acs_sim_id_ints) / 1e6"
   ]
  },
  {
   "cell_type": "code",
   "execution_count": 56,
   "id": "6a855f90",
   "metadata": {},
   "outputs": [
    {
     "data": {
      "text/plain": [
       "10.428819"
      ]
     },
     "execution_count": 56,
     "metadata": {},
     "output_type": "execute_result"
    }
   ],
   "source": [
    "getsizeof(df_acs.simulant_id) / 1e6"
   ]
  },
  {
   "cell_type": "code",
   "execution_count": 57,
   "id": "810558d5",
   "metadata": {},
   "outputs": [
    {
     "data": {
      "text/plain": [
       "7.0"
      ]
     },
     "execution_count": 57,
     "metadata": {},
     "output_type": "execute_result"
    }
   ],
   "source": [
    "np.ceil(np.log10(1234567))"
   ]
  },
  {
   "cell_type": "code",
   "execution_count": 58,
   "id": "b00022c8",
   "metadata": {},
   "outputs": [
    {
     "data": {
      "text/plain": [
       "5616"
      ]
     },
     "execution_count": 58,
     "metadata": {},
     "output_type": "execute_result"
    }
   ],
   "source": [
    "56160000001361 // 10**10"
   ]
  },
  {
   "cell_type": "code",
   "execution_count": 59,
   "id": "4135d16f",
   "metadata": {},
   "outputs": [
    {
     "data": {
      "text/plain": [
       "(0         5616\n",
       " 1         5616\n",
       " 2         5616\n",
       " 3         5616\n",
       " 4         5616\n",
       "           ... \n",
       " 153671    3541\n",
       " 153672    3541\n",
       " 153673    3541\n",
       " 153674    3541\n",
       " 153675    3541\n",
       " Name: simulant_id, Length: 153676, dtype: int64,\n",
       " 0           1361\n",
       " 1           1362\n",
       " 2           1363\n",
       " 3          57184\n",
       " 4          57185\n",
       "            ...  \n",
       " 153671    848990\n",
       " 153672    855170\n",
       " 153673    860702\n",
       " 153674    868228\n",
       " 153675    876077\n",
       " Name: simulant_id, Length: 153676, dtype: int64)"
      ]
     },
     "execution_count": 59,
     "metadata": {},
     "output_type": "execute_result"
    }
   ],
   "source": [
    "acs_sim_id_ints.divmod(10**10)"
   ]
  },
  {
   "cell_type": "code",
   "execution_count": 60,
   "id": "a5b9e85f",
   "metadata": {},
   "outputs": [
    {
     "data": {
      "text/plain": [
       "0           5616_1361\n",
       "1           5616_1362\n",
       "2           5616_1363\n",
       "3          5616_57184\n",
       "4          5616_57185\n",
       "             ...     \n",
       "153671    3541_848990\n",
       "153672    3541_855170\n",
       "153673    3541_860702\n",
       "153674    3541_868228\n",
       "153675    3541_876077\n",
       "Name: simulant_id, Length: 153676, dtype: object"
      ]
     },
     "execution_count": 60,
     "metadata": {},
     "output_type": "execute_result"
    }
   ],
   "source": [
    "id_int_to_str(acs_sim_id_ints)"
   ]
  },
  {
   "cell_type": "code",
   "execution_count": 61,
   "id": "de2e5aa9",
   "metadata": {},
   "outputs": [
    {
     "data": {
      "text/plain": [
       "0         5616\n",
       "1         5616\n",
       "2         5616\n",
       "3         5616\n",
       "4         5616\n",
       "          ... \n",
       "153671    3541\n",
       "153672    3541\n",
       "153673    3541\n",
       "153674    3541\n",
       "153675    3541\n",
       "Name: simulant_id, Length: 153676, dtype: object"
      ]
     },
     "execution_count": 61,
     "metadata": {},
     "output_type": "execute_result"
    }
   ],
   "source": [
    "df_acs.simulant_id.str.split('_').str[0]"
   ]
  },
  {
   "cell_type": "markdown",
   "id": "ab83b251",
   "metadata": {},
   "source": [
    "# See whether converting the string ID to an integer is faster using `Series.str.extract()` or `Series.str.split()`\n",
    "\n",
    "It looks like `Series.str.split()` is slightly faster than using a regular expression with `str.extract()`."
   ]
  },
  {
   "cell_type": "code",
   "execution_count": 68,
   "id": "3fde5593",
   "metadata": {},
   "outputs": [
    {
     "name": "stdout",
     "output_type": "stream",
     "text": [
      "8.49 s ± 224 ms per loop (mean ± std. dev. of 7 runs, 1 loop each)\n",
      "8.24 s ± 74.5 ms per loop (mean ± std. dev. of 7 runs, 1 loop each)\n"
     ]
    }
   ],
   "source": [
    "def id_str_to_int_regex(id_col_str):\n",
    "    pattern = r\"(?P<seed_id>\\d+)_(?P<sim_id>\\d+)\"\n",
    "    id_pieces_df = id_col_str.str.extract(pattern).astype(int)\n",
    "    id_col_int = id_pieces_df['seed_id'] * 10**ID_PAD_WIDTH + id_pieces_df['sim_id']\n",
    "    return id_col_int\n",
    "\n",
    "def id_str_to_int_split(id_col_str):\n",
    "    id_pieces = id_col_str.str.split('_')\n",
    "    seed_id, sim_id = id_pieces.str[0].astype(int), id_pieces.str[1].astype(int)\n",
    "    id_col_int = seed_id * 10**ID_PAD_WIDTH + sim_id\n",
    "    return id_col_int\n",
    "\n",
    "%timeit id_str_to_int_regex(df_census.simulant_id)\n",
    "%timeit id_str_to_int_split(df_census.simulant_id)"
   ]
  },
  {
   "cell_type": "code",
   "execution_count": 83,
   "id": "7cd19f6f",
   "metadata": {},
   "outputs": [
    {
     "name": "stdout",
     "output_type": "stream",
     "text": [
      "CPU times: user 17.5 s, sys: 1.12 s, total: 18.7 s\n",
      "Wall time: 18.6 s\n"
     ]
    },
    {
     "data": {
      "text/plain": [
       "0           32540000000000\n",
       "1           32540000000001\n",
       "2           32540000000002\n",
       "3           32540000000003\n",
       "4           32540000000004\n",
       "                 ...      \n",
       "14654635    35410000751066\n",
       "14654636    35410000751067\n",
       "14654637    35410000751068\n",
       "14654638    35410000751069\n",
       "14654639    35410000751070\n",
       "Name: simulant_id, Length: 7503818, dtype: int64"
      ]
     },
     "execution_count": 83,
     "metadata": {},
     "output_type": "execute_result"
    }
   ],
   "source": [
    "%%time\n",
    "census_sim_id_ints = id_str_to_int_split(df_census.simulant_id)\n",
    "census_sim_id_ints"
   ]
  },
  {
   "cell_type": "markdown",
   "id": "68d83286",
   "metadata": {},
   "source": [
    "# See how long it takes to convert IDs from int back to string\n",
    "\n",
    "It's a bit faster than going the other way. It looks like most of the runtime is due to the conversion of ints to strings, not arithmetic done by `divmod` to extract the correct sub-IDs from the concatenated version."
   ]
  },
  {
   "cell_type": "code",
   "execution_count": 84,
   "id": "3c7bc3d3",
   "metadata": {},
   "outputs": [
    {
     "name": "stdout",
     "output_type": "stream",
     "text": [
      "5.42 s ± 32 ms per loop (mean ± std. dev. of 7 runs, 1 loop each)\n"
     ]
    }
   ],
   "source": [
    "%timeit id_int_to_str(census_sim_id_ints)"
   ]
  },
  {
   "cell_type": "code",
   "execution_count": 85,
   "id": "f515f741",
   "metadata": {},
   "outputs": [
    {
     "name": "stdout",
     "output_type": "stream",
     "text": [
      "62.7 ms ± 196 µs per loop (mean ± std. dev. of 7 runs, 10 loops each)\n"
     ]
    }
   ],
   "source": [
    "%timeit census_sim_id_ints.divmod(10**ID_PAD_WIDTH)"
   ]
  },
  {
   "cell_type": "markdown",
   "id": "379938f2",
   "metadata": {},
   "source": [
    "# Does `Series.str[0]` work on any Series of lists of strings, even if it didn't come from `Series.str.split()`?\n",
    "\n",
    "Yes. Woo hoo!\n",
    "\n",
    "# What about a Series of lists of ints or other types?\n",
    "\n",
    "Apparently, yes. That's counterintuitive, but woo hoo!"
   ]
  },
  {
   "cell_type": "code",
   "execution_count": 90,
   "id": "d85be558",
   "metadata": {},
   "outputs": [
    {
     "data": {
      "text/plain": [
       "0           [5616, 1361]\n",
       "1           [5616, 1362]\n",
       "2           [5616, 1363]\n",
       "3          [5616, 57184]\n",
       "4          [5616, 57185]\n",
       "               ...      \n",
       "153671    [3541, 848990]\n",
       "153672    [3541, 855170]\n",
       "153673    [3541, 860702]\n",
       "153674    [3541, 868228]\n",
       "153675    [3541, 876077]\n",
       "Name: simulant_id, Length: 153676, dtype: object"
      ]
     },
     "execution_count": 90,
     "metadata": {},
     "output_type": "execute_result"
    }
   ],
   "source": [
    "split = df_acs.simulant_id.str.split('_')\n",
    "split"
   ]
  },
  {
   "cell_type": "code",
   "execution_count": 91,
   "id": "551afff2",
   "metadata": {},
   "outputs": [
    {
     "data": {
      "text/plain": [
       "0         <class 'list'>\n",
       "1         <class 'list'>\n",
       "2         <class 'list'>\n",
       "3         <class 'list'>\n",
       "4         <class 'list'>\n",
       "               ...      \n",
       "153671    <class 'list'>\n",
       "153672    <class 'list'>\n",
       "153673    <class 'list'>\n",
       "153674    <class 'list'>\n",
       "153675    <class 'list'>\n",
       "Name: simulant_id, Length: 153676, dtype: object"
      ]
     },
     "execution_count": 91,
     "metadata": {},
     "output_type": "execute_result"
    }
   ],
   "source": [
    "split.map(type)"
   ]
  },
  {
   "cell_type": "code",
   "execution_count": 93,
   "id": "42606297",
   "metadata": {},
   "outputs": [
    {
     "data": {
      "text/plain": [
       "0         (<class 'str'>, <class 'str'>)\n",
       "1         (<class 'str'>, <class 'str'>)\n",
       "2         (<class 'str'>, <class 'str'>)\n",
       "3         (<class 'str'>, <class 'str'>)\n",
       "4         (<class 'str'>, <class 'str'>)\n",
       "                       ...              \n",
       "153671    (<class 'str'>, <class 'str'>)\n",
       "153672    (<class 'str'>, <class 'str'>)\n",
       "153673    (<class 'str'>, <class 'str'>)\n",
       "153674    (<class 'str'>, <class 'str'>)\n",
       "153675    (<class 'str'>, <class 'str'>)\n",
       "Name: simulant_id, Length: 153676, dtype: object"
      ]
     },
     "execution_count": 93,
     "metadata": {},
     "output_type": "execute_result"
    }
   ],
   "source": [
    "split.map(lambda lst: (type(lst[0]), type(lst[1])))"
   ]
  },
  {
   "cell_type": "code",
   "execution_count": 89,
   "id": "a1e6632c",
   "metadata": {},
   "outputs": [
    {
     "data": {
      "text/plain": [
       "[['a', 'f'], ['b', 'g'], ['c', 'h'], ['e', 'i'], ['d', 'j']]"
      ]
     },
     "execution_count": 89,
     "metadata": {},
     "output_type": "execute_result"
    }
   ],
   "source": [
    "list(map(list, zip('abced', 'fghij')))"
   ]
  },
  {
   "cell_type": "code",
   "execution_count": 98,
   "id": "27f2a5f3",
   "metadata": {},
   "outputs": [
    {
     "data": {
      "text/plain": [
       "0    [a, f]\n",
       "1    [b, g]\n",
       "2    [c, h]\n",
       "3    [e, i]\n",
       "4    [d, j]\n",
       "dtype: object"
      ]
     },
     "execution_count": 98,
     "metadata": {},
     "output_type": "execute_result"
    }
   ],
   "source": [
    "s = pd.Series(map(list, zip('abced', 'fghij')))\n",
    "s"
   ]
  },
  {
   "cell_type": "code",
   "execution_count": 96,
   "id": "ff760e95",
   "metadata": {},
   "outputs": [
    {
     "data": {
      "text/plain": [
       "(0    a\n",
       " 1    b\n",
       " 2    c\n",
       " 3    e\n",
       " 4    d\n",
       " dtype: object,\n",
       " 0    f\n",
       " 1    g\n",
       " 2    h\n",
       " 3    i\n",
       " 4    j\n",
       " dtype: object)"
      ]
     },
     "execution_count": 96,
     "metadata": {},
     "output_type": "execute_result"
    }
   ],
   "source": [
    "s.str[0], s.str[1]"
   ]
  },
  {
   "cell_type": "code",
   "execution_count": 100,
   "id": "4232a791",
   "metadata": {},
   "outputs": [
    {
     "data": {
      "text/plain": [
       "0    (a, f)\n",
       "1    (b, g)\n",
       "2    (c, h)\n",
       "3    (e, i)\n",
       "4    (d, j)\n",
       "dtype: object"
      ]
     },
     "execution_count": 100,
     "metadata": {},
     "output_type": "execute_result"
    }
   ],
   "source": [
    "st = pd.Series((zip('abced', 'fghij')))\n",
    "st"
   ]
  },
  {
   "cell_type": "code",
   "execution_count": 101,
   "id": "f0834a5c",
   "metadata": {},
   "outputs": [
    {
     "data": {
      "text/plain": [
       "0    a\n",
       "1    b\n",
       "2    c\n",
       "3    e\n",
       "4    d\n",
       "dtype: object"
      ]
     },
     "execution_count": 101,
     "metadata": {},
     "output_type": "execute_result"
    }
   ],
   "source": [
    "st.str[0]"
   ]
  },
  {
   "cell_type": "code",
   "execution_count": 102,
   "id": "f59afb49",
   "metadata": {},
   "outputs": [
    {
     "data": {
      "text/plain": [
       "0    (1, 5)\n",
       "1    (2, 6)\n",
       "2    (3, 7)\n",
       "3    (4, 8)\n",
       "dtype: object"
      ]
     },
     "execution_count": 102,
     "metadata": {},
     "output_type": "execute_result"
    }
   ],
   "source": [
    "si = pd.Series(zip([1,2,3,4], [5,6,7,8]))\n",
    "si"
   ]
  },
  {
   "cell_type": "code",
   "execution_count": 108,
   "id": "ec74fcd6",
   "metadata": {},
   "outputs": [
    {
     "data": {
      "text/plain": [
       "(0    1\n",
       " 1    2\n",
       " 2    3\n",
       " 3    4\n",
       " dtype: int64,\n",
       " 0    5\n",
       " 1    6\n",
       " 2    7\n",
       " 3    8\n",
       " dtype: int64)"
      ]
     },
     "execution_count": 108,
     "metadata": {},
     "output_type": "execute_result"
    }
   ],
   "source": [
    "si.str[0], si.str[1]"
   ]
  },
  {
   "cell_type": "markdown",
   "id": "87c3900d",
   "metadata": {},
   "source": [
    "## Oh wait, there's an `expand` option for `Series.str.split()`. Duh, of course there is\n",
    "\n",
    "But apparently it's a bit slower than either of the other two options. That's silly."
   ]
  },
  {
   "cell_type": "code",
   "execution_count": 104,
   "id": "e8cc0661",
   "metadata": {},
   "outputs": [
    {
     "data": {
      "text/html": [
       "<div>\n",
       "<style scoped>\n",
       "    .dataframe tbody tr th:only-of-type {\n",
       "        vertical-align: middle;\n",
       "    }\n",
       "\n",
       "    .dataframe tbody tr th {\n",
       "        vertical-align: top;\n",
       "    }\n",
       "\n",
       "    .dataframe thead th {\n",
       "        text-align: right;\n",
       "    }\n",
       "</style>\n",
       "<table border=\"1\" class=\"dataframe\">\n",
       "  <thead>\n",
       "    <tr style=\"text-align: right;\">\n",
       "      <th></th>\n",
       "      <th>0</th>\n",
       "      <th>1</th>\n",
       "    </tr>\n",
       "  </thead>\n",
       "  <tbody>\n",
       "    <tr>\n",
       "      <th>0</th>\n",
       "      <td>5616</td>\n",
       "      <td>1361</td>\n",
       "    </tr>\n",
       "    <tr>\n",
       "      <th>1</th>\n",
       "      <td>5616</td>\n",
       "      <td>1362</td>\n",
       "    </tr>\n",
       "    <tr>\n",
       "      <th>2</th>\n",
       "      <td>5616</td>\n",
       "      <td>1363</td>\n",
       "    </tr>\n",
       "    <tr>\n",
       "      <th>3</th>\n",
       "      <td>5616</td>\n",
       "      <td>57184</td>\n",
       "    </tr>\n",
       "    <tr>\n",
       "      <th>4</th>\n",
       "      <td>5616</td>\n",
       "      <td>57185</td>\n",
       "    </tr>\n",
       "    <tr>\n",
       "      <th>...</th>\n",
       "      <td>...</td>\n",
       "      <td>...</td>\n",
       "    </tr>\n",
       "    <tr>\n",
       "      <th>153671</th>\n",
       "      <td>3541</td>\n",
       "      <td>848990</td>\n",
       "    </tr>\n",
       "    <tr>\n",
       "      <th>153672</th>\n",
       "      <td>3541</td>\n",
       "      <td>855170</td>\n",
       "    </tr>\n",
       "    <tr>\n",
       "      <th>153673</th>\n",
       "      <td>3541</td>\n",
       "      <td>860702</td>\n",
       "    </tr>\n",
       "    <tr>\n",
       "      <th>153674</th>\n",
       "      <td>3541</td>\n",
       "      <td>868228</td>\n",
       "    </tr>\n",
       "    <tr>\n",
       "      <th>153675</th>\n",
       "      <td>3541</td>\n",
       "      <td>876077</td>\n",
       "    </tr>\n",
       "  </tbody>\n",
       "</table>\n",
       "<p>153676 rows × 2 columns</p>\n",
       "</div>"
      ],
      "text/plain": [
       "           0       1\n",
       "0       5616    1361\n",
       "1       5616    1362\n",
       "2       5616    1363\n",
       "3       5616   57184\n",
       "4       5616   57185\n",
       "...      ...     ...\n",
       "153671  3541  848990\n",
       "153672  3541  855170\n",
       "153673  3541  860702\n",
       "153674  3541  868228\n",
       "153675  3541  876077\n",
       "\n",
       "[153676 rows x 2 columns]"
      ]
     },
     "execution_count": 104,
     "metadata": {},
     "output_type": "execute_result"
    }
   ],
   "source": [
    "df_acs.simulant_id.str.split('_', expand=True)"
   ]
  },
  {
   "cell_type": "code",
   "execution_count": 106,
   "id": "ed44271a",
   "metadata": {},
   "outputs": [
    {
     "name": "stdout",
     "output_type": "stream",
     "text": [
      "8.77 s ± 113 ms per loop (mean ± std. dev. of 7 runs, 1 loop each)\n"
     ]
    }
   ],
   "source": [
    "def id_str_to_int_split_expand(id_col_str):\n",
    "    id_pieces = id_col_str.str.split('_', expand=True).astype(int)\n",
    "    seed_id, sim_id = id_pieces[0], id_pieces[1]\n",
    "    id_col_int = seed_id * 10**ID_PAD_WIDTH + sim_id\n",
    "    return id_col_int\n",
    "\n",
    "%timeit id_str_to_int_split_expand(df_census.simulant_id)"
   ]
  },
  {
   "cell_type": "markdown",
   "id": "18ef97f0",
   "metadata": {},
   "source": [
    "# Time all three str -> int conversion methods again since I got differing times for the same operation above\n",
    "\n",
    "Consistent with what I got above, it looks like the runtimes are in the following order:\n",
    "\n",
    "```\n",
    "id_str_to_int_split_expand > id_str_to_int_regex > id_str_to_int_split\n",
    "```\n",
    "\n",
    "So for some reason, expanding to a dataframe using `str.split(expand=True)` is the slowest, whereas using `str.split(expand=False)` to create a Series of lists is the fastest, and using a regular expression with `str.extract()` is in between."
   ]
  },
  {
   "cell_type": "code",
   "execution_count": 107,
   "id": "8da5dad5",
   "metadata": {},
   "outputs": [
    {
     "name": "stdout",
     "output_type": "stream",
     "text": [
      "9.21 s ± 110 ms per loop (mean ± std. dev. of 7 runs, 1 loop each)\n",
      "8.44 s ± 40.8 ms per loop (mean ± std. dev. of 7 runs, 1 loop each)\n",
      "9.54 s ± 152 ms per loop (mean ± std. dev. of 7 runs, 1 loop each)\n"
     ]
    }
   ],
   "source": [
    "%timeit id_str_to_int_regex(df_census.simulant_id)\n",
    "%timeit id_str_to_int_split(df_census.simulant_id)\n",
    "%timeit id_str_to_int_split_expand(df_census.simulant_id)"
   ]
  },
  {
   "cell_type": "markdown",
   "id": "9cea6fe1",
   "metadata": {},
   "source": [
    "# Check which version of pandas I have installed\n",
    "\n",
    "`pandas                    1.5.1                    pypi_0    pypi`"
   ]
  },
  {
   "cell_type": "code",
   "execution_count": 109,
   "id": "9afd0e97",
   "metadata": {},
   "outputs": [
    {
     "name": "stdout",
     "output_type": "stream",
     "text": [
      "# packages in environment at /ihme/homes/ndbs/miniconda3/envs/prlpy38:\r\n",
      "#\r\n",
      "# Name                    Version                   Build  Channel\r\n",
      "_libgcc_mutex             0.1                 conda_forge    conda-forge\r\n",
      "_openmp_mutex             4.5                       2_gnu    conda-forge\r\n",
      "altair                    4.2.0                    pypi_0    pypi\r\n",
      "anyio                     3.6.2                    pypi_0    pypi\r\n",
      "argon2-cffi               21.3.0                   pypi_0    pypi\r\n",
      "argon2-cffi-bindings      21.2.0                   pypi_0    pypi\r\n",
      "asttokens                 2.0.8                    pypi_0    pypi\r\n",
      "attrs                     22.1.0                   pypi_0    pypi\r\n",
      "babel                     2.10.3                   pypi_0    pypi\r\n",
      "backcall                  0.2.0                    pypi_0    pypi\r\n",
      "beautifulsoup4            4.11.1                   pypi_0    pypi\r\n",
      "bleach                    5.0.1                    pypi_0    pypi\r\n",
      "blosc                     1.21.1               h83bc5f7_3    conda-forge\r\n",
      "bzip2                     1.0.8                h7f98852_4    conda-forge\r\n",
      "c-ares                    1.18.1               h7f98852_0    conda-forge\r\n",
      "ca-certificates           2022.9.24            ha878542_0    conda-forge\r\n",
      "certifi                   2022.9.24                pypi_0    pypi\r\n",
      "cffi                      1.15.1                   pypi_0    pypi\r\n",
      "charset-normalizer        2.1.1                    pypi_0    pypi\r\n",
      "contourpy                 1.0.5                    pypi_0    pypi\r\n",
      "cycler                    0.11.0                   pypi_0    pypi\r\n",
      "debugpy                   1.6.3                    pypi_0    pypi\r\n",
      "decorator                 5.1.1                    pypi_0    pypi\r\n",
      "defusedxml                0.7.1                    pypi_0    pypi\r\n",
      "duckdb                    0.5.1                    pypi_0    pypi\r\n",
      "entrypoints               0.4                      pypi_0    pypi\r\n",
      "executing                 1.1.1                    pypi_0    pypi\r\n",
      "fastjsonschema            2.16.2                   pypi_0    pypi\r\n",
      "fonttools                 4.37.4                   pypi_0    pypi\r\n",
      "hdf5                      1.12.2          nompi_h4df4325_100    conda-forge\r\n",
      "idna                      3.4                      pypi_0    pypi\r\n",
      "importlib-metadata        5.0.0                    pypi_0    pypi\r\n",
      "ipykernel                 6.16.1                   pypi_0    pypi\r\n",
      "ipython                   8.5.0                    pypi_0    pypi\r\n",
      "ipython-genutils          0.2.0                    pypi_0    pypi\r\n",
      "ipywidgets                8.0.2                    pypi_0    pypi\r\n",
      "jedi                      0.18.1                   pypi_0    pypi\r\n",
      "jellyfish                 0.9.0                    pypi_0    pypi\r\n",
      "jinja2                    3.1.2                    pypi_0    pypi\r\n",
      "joblib                    1.2.0                    pypi_0    pypi\r\n",
      "json5                     0.9.10                   pypi_0    pypi\r\n",
      "jsonschema                3.2.0                    pypi_0    pypi\r\n",
      "jupyter                   1.0.0                    pypi_0    pypi\r\n",
      "jupyter-client            7.4.3                    pypi_0    pypi\r\n",
      "jupyter-console           6.4.4                    pypi_0    pypi\r\n",
      "jupyter-core              4.11.2                   pypi_0    pypi\r\n",
      "jupyter-server            1.21.0                   pypi_0    pypi\r\n",
      "jupyterlab                3.4.8                    pypi_0    pypi\r\n",
      "jupyterlab-pygments       0.2.2                    pypi_0    pypi\r\n",
      "jupyterlab-server         2.16.1                   pypi_0    pypi\r\n",
      "jupyterlab-widgets        3.0.3                    pypi_0    pypi\r\n",
      "keyutils                  1.6.1                h166bdaf_0    conda-forge\r\n",
      "kiwisolver                1.4.4                    pypi_0    pypi\r\n",
      "krb5                      1.19.3               h08a2579_0    conda-forge\r\n",
      "ld_impl_linux-64          2.39                 hc81fddc_0    conda-forge\r\n",
      "libblas                   3.9.0           16_linux64_openblas    conda-forge\r\n",
      "libcblas                  3.9.0           16_linux64_openblas    conda-forge\r\n",
      "libcurl                   7.85.0               h2283fc2_0    conda-forge\r\n",
      "libedit                   3.1.20191231         he28a2e2_2    conda-forge\r\n",
      "libev                     4.33                 h516909a_1    conda-forge\r\n",
      "libffi                    3.4.2                h7f98852_5    conda-forge\r\n",
      "libgcc-ng                 12.2.0              h65d4601_18    conda-forge\r\n",
      "libgfortran-ng            12.2.0              h69a702a_18    conda-forge\r\n",
      "libgfortran5              12.2.0              h337968e_18    conda-forge\r\n",
      "libgomp                   12.2.0              h65d4601_18    conda-forge\r\n",
      "liblapack                 3.9.0           16_linux64_openblas    conda-forge\r\n",
      "libnghttp2                1.47.0               hff17c54_1    conda-forge\r\n",
      "libnsl                    2.0.0                h7f98852_0    conda-forge\r\n",
      "libopenblas               0.3.21          pthreads_h78a6416_3    conda-forge\r\n",
      "libsqlite                 3.39.4               h753d276_0    conda-forge\r\n",
      "libssh2                   1.10.0               hf14f497_3    conda-forge\r\n",
      "libstdcxx-ng              12.2.0              h46fd767_18    conda-forge\r\n",
      "libuuid                   2.32.1            h7f98852_1000    conda-forge\r\n",
      "libzlib                   1.2.13               h166bdaf_4    conda-forge\r\n",
      "lz4-c                     1.9.3                h9c3ff4c_1    conda-forge\r\n",
      "lzo                       2.10              h516909a_1000    conda-forge\r\n",
      "markupsafe                2.1.1                    pypi_0    pypi\r\n",
      "matplotlib                3.6.1                    pypi_0    pypi\r\n",
      "matplotlib-inline         0.1.6                    pypi_0    pypi\r\n",
      "mistune                   2.0.4                    pypi_0    pypi\r\n",
      "nbclassic                 0.4.5                    pypi_0    pypi\r\n",
      "nbclient                  0.7.0                    pypi_0    pypi\r\n",
      "nbconvert                 7.2.2                    pypi_0    pypi\r\n",
      "nbformat                  5.7.0                    pypi_0    pypi\r\n",
      "ncurses                   6.3                  h27087fc_1    conda-forge\r\n",
      "nest-asyncio              1.5.6                    pypi_0    pypi\r\n",
      "nomkl                     1.0                  h5ca1d4c_0    conda-forge\r\n",
      "notebook                  6.5.1                    pypi_0    pypi\r\n",
      "notebook-shim             0.2.0                    pypi_0    pypi\r\n",
      "numexpr                   2.8.3           py38h97b1c41_100    conda-forge\r\n",
      "numpy                     1.23.4           py38h7042d01_0    conda-forge\r\n",
      "openssl                   3.0.5                h166bdaf_2    conda-forge\r\n",
      "packaging                 21.3               pyhd8ed1ab_0    conda-forge\r\n",
      "pandas                    1.5.1                    pypi_0    pypi\r\n",
      "pandocfilters             1.5.0                    pypi_0    pypi\r\n",
      "parso                     0.8.3                    pypi_0    pypi\r\n",
      "patsy                     0.5.3                    pypi_0    pypi\r\n",
      "pexpect                   4.8.0                    pypi_0    pypi\r\n",
      "pickleshare               0.7.5                    pypi_0    pypi\r\n",
      "pillow                    9.2.0                    pypi_0    pypi\r\n",
      "pip                       22.3               pyhd8ed1ab_0    conda-forge\r\n",
      "prometheus-client         0.15.0                   pypi_0    pypi\r\n",
      "prompt-toolkit            3.0.31                   pypi_0    pypi\r\n",
      "psutil                    5.9.3                    pypi_0    pypi\r\n",
      "ptyprocess                0.7.0                    pypi_0    pypi\r\n",
      "pure-eval                 0.2.2                    pypi_0    pypi\r\n",
      "pycparser                 2.21                     pypi_0    pypi\r\n",
      "pygments                  2.13.0                   pypi_0    pypi\r\n",
      "pyparsing                 3.0.9              pyhd8ed1ab_0    conda-forge\r\n",
      "pyrsistent                0.18.1                   pypi_0    pypi\r\n",
      "pytables                  3.7.0            py38hf632491_2    conda-forge\r\n",
      "python                    3.8.13          ha86cf86_0_cpython    conda-forge\r\n",
      "python-dateutil           2.8.2                    pypi_0    pypi\r\n",
      "python_abi                3.8                      2_cp38    conda-forge\r\n",
      "pytz                      2022.5                   pypi_0    pypi\r\n",
      "pyzmq                     24.0.1                   pypi_0    pypi\r\n",
      "qtconsole                 5.3.2                    pypi_0    pypi\r\n",
      "qtpy                      2.2.1                    pypi_0    pypi\r\n",
      "readline                  8.1.2                h0f457ee_0    conda-forge\r\n",
      "recordlinkage             0.15                     pypi_0    pypi\r\n",
      "requests                  2.28.1                   pypi_0    pypi\r\n",
      "scikit-learn              1.1.2                    pypi_0    pypi\r\n",
      "scipy                     1.9.3                    pypi_0    pypi\r\n",
      "send2trash                1.8.0                    pypi_0    pypi\r\n",
      "setuptools                65.5.0             pyhd8ed1ab_0    conda-forge\r\n",
      "six                       1.16.0             pyh6c4a22f_0    conda-forge\r\n",
      "snappy                    1.1.9                hbd366e4_1    conda-forge\r\n",
      "sniffio                   1.3.0                    pypi_0    pypi\r\n",
      "soupsieve                 2.3.2.post1              pypi_0    pypi\r\n",
      "splink                    3.4.1                    pypi_0    pypi\r\n",
      "sqlglot                   5.1.0                    pypi_0    pypi\r\n",
      "sqlite                    3.39.4               h4ff8645_0    conda-forge\r\n",
      "stack-data                0.5.1                    pypi_0    pypi\r\n",
      "statsmodels               0.13.2                   pypi_0    pypi\r\n",
      "terminado                 0.16.0                   pypi_0    pypi\r\n",
      "threadpoolctl             3.1.0                    pypi_0    pypi\r\n",
      "tinycss2                  1.2.1                    pypi_0    pypi\r\n",
      "tk                        8.6.12               h27826a3_0    conda-forge\r\n",
      "tomli                     2.0.1                    pypi_0    pypi\r\n",
      "toolz                     0.12.0                   pypi_0    pypi\r\n",
      "tornado                   6.2                      pypi_0    pypi\r\n",
      "traitlets                 5.5.0                    pypi_0    pypi\r\n",
      "urllib3                   1.26.12                  pypi_0    pypi\r\n",
      "vivarium-research-prl     0.0.1                     dev_0    <develop>\r\n",
      "wcwidth                   0.2.5                    pypi_0    pypi\r\n",
      "webencodings              0.5.1                    pypi_0    pypi\r\n",
      "websocket-client          1.4.1                    pypi_0    pypi\r\n",
      "wheel                     0.37.1             pyhd8ed1ab_0    conda-forge\r\n",
      "widgetsnbextension        4.0.3                    pypi_0    pypi\r\n",
      "xz                        5.2.6                h166bdaf_0    conda-forge\r\n",
      "zipp                      3.9.0                    pypi_0    pypi\r\n",
      "zstd                      1.5.2                h6239696_4    conda-forge\r\n"
     ]
    }
   ],
   "source": [
    "!conda list"
   ]
  },
  {
   "cell_type": "code",
   "execution_count": null,
   "id": "517aa23d",
   "metadata": {},
   "outputs": [],
   "source": []
  }
 ],
 "metadata": {
  "kernelspec": {
   "display_name": "Python 3 (ipykernel)",
   "language": "python",
   "name": "python3"
  },
  "language_info": {
   "codemirror_mode": {
    "name": "ipython",
    "version": 3
   },
   "file_extension": ".py",
   "mimetype": "text/x-python",
   "name": "python",
   "nbconvert_exporter": "python",
   "pygments_lexer": "ipython3",
   "version": "3.8.13"
  }
 },
 "nbformat": 4,
 "nbformat_minor": 5
}
