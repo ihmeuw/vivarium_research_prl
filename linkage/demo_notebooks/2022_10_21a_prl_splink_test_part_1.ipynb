{
 "cells": [
  {
   "cell_type": "code",
   "execution_count": 1,
   "id": "93d3ce3d",
   "metadata": {},
   "outputs": [
    {
     "name": "stdout",
     "output_type": "stream",
     "text": [
      "Fri 06 Jan 2023 03:44:53 PM PST\n",
      "ndbs\n",
      "Linux int-slurm-sarchive-p0001 5.4.0-88-generic #99-Ubuntu SMP Thu Sep 23 17:29:00 UTC 2021 x86_64 x86_64 x86_64 GNU/Linux\n",
      "/mnt/share/code/ndbs/vivarium_research_prl/linkage/demo_notebooks\n"
     ]
    }
   ],
   "source": [
    "import numpy as np, matplotlib.pyplot as plt, pandas as pd\n",
    "pd.set_option('display.max_rows', 40)\n",
    "\n",
    "from splink.duckdb.duckdb_linker import DuckDBLinker\n",
    "import splink.duckdb.duckdb_comparison_library as cl\n",
    "\n",
    "!date\n",
    "!whoami\n",
    "!uname -a\n",
    "!pwd"
   ]
  },
  {
   "cell_type": "markdown",
   "id": "94d68f77",
   "metadata": {},
   "source": [
    "# Following Splink tutorial, referring also to Sam Shin's code\n",
    "\n",
    "[Splink Tutorial](https://moj-analytical-services.github.io/splink/demos/00_Tutorial_Introduction.html)\n",
    "\n",
    "[Sam Shin's RecordLinkage repo](https://github.com/SamShin/RecordLinkage)\n",
    "\n",
    "[Nathaniel Blair-Stahn's fork of Sam's repo](https://github.com/NathanielBlairStahn/RecordLinkageTest)"
   ]
  },
  {
   "cell_type": "markdown",
   "id": "eca2087a",
   "metadata": {},
   "source": [
    "# Define directories and load decennial census data"
   ]
  },
  {
   "cell_type": "code",
   "execution_count": 2,
   "id": "d2414d89",
   "metadata": {},
   "outputs": [
    {
     "name": "stdout",
     "output_type": "stream",
     "text": [
      "total 32224\r\n",
      "-rw-rw-r-- 1 albrja   IHME-Simulationscience 12622072 Oct 20 23:08 decennial_census.hdf\r\n",
      "-rwxrwxrwx 1 beatrixh IHME-Simulationscience 20364830 Nov 14 16:42 state_table.hdf\r\n"
     ]
    }
   ],
   "source": [
    "project_output_dir = '/mnt/team/simulation_science/priv/engineering/vivarium_census_prl_synth_pop'\n",
    "output_subdir = 'results/special_last_names/florida/2022_10_14_10_49_32/population_table'\n",
    "output_dir = f'{project_output_dir}/{output_subdir}'\n",
    "\n",
    "!ls -l $output_dir"
   ]
  },
  {
   "cell_type": "code",
   "execution_count": 3,
   "id": "206ec307",
   "metadata": {},
   "outputs": [
    {
     "name": "stdout",
     "output_type": "stream",
     "text": [
      "<class 'pandas.io.pytables.HDFStore'>\n",
      "File path: /mnt/team/simulation_science/priv/engineering/vivarium_census_prl_synth_pop/results/special_last_names/florida/2022_10_14_10_49_32/population_table/decennial_census.hdf\n",
      "/year_2020            frame        (shape->[47444,10])\n",
      "/year_2030            frame        (shape->[46440,10])\n",
      "/year_2040            frame        (shape->[44626,10])\n"
     ]
    }
   ],
   "source": [
    "decennial_census_path = f'{output_dir}/decennial_census.hdf'\n",
    "with pd.HDFStore(decennial_census_path, 'r') as census_hdf:\n",
    "    print(census_hdf.info())\n",
    "    census_keys = census_hdf.keys()"
   ]
  },
  {
   "cell_type": "code",
   "execution_count": 4,
   "id": "929596c0",
   "metadata": {},
   "outputs": [
    {
     "data": {
      "text/plain": [
       "['/year_2020', '/year_2030', '/year_2040']"
      ]
     },
     "execution_count": 4,
     "metadata": {},
     "output_type": "execute_result"
    }
   ],
   "source": [
    "census_keys"
   ]
  },
  {
   "cell_type": "code",
   "execution_count": 5,
   "id": "00cb38a6",
   "metadata": {},
   "outputs": [
    {
     "name": "stdout",
     "output_type": "stream",
     "text": [
      "2020 (47444, 10)\n",
      "2030 (46440, 10)\n"
     ]
    }
   ],
   "source": [
    "# Keys exist for years 2020, 2030, 2040\n",
    "years = [2020, 2030]\n",
    "census = {year: pd.read_hdf(decennial_census_path, f'year_{year}') for year in years}\n",
    "\n",
    "for year in years:\n",
    "    print(year, census[year].shape)"
   ]
  },
  {
   "cell_type": "markdown",
   "id": "de9865b8",
   "metadata": {},
   "source": [
    "# See which people appear in one census but not the other"
   ]
  },
  {
   "cell_type": "code",
   "execution_count": 6,
   "id": "4cec7db6",
   "metadata": {},
   "outputs": [
    {
     "data": {
      "text/plain": [
       "Int64Index([   14,    27,    37,    47,    57,    67,    68,    71,    74,\n",
       "              101,\n",
       "            ...\n",
       "            49928, 49932, 49948, 49955, 49962, 49964, 49969, 49982, 49984,\n",
       "            49993],\n",
       "           dtype='int64', length=7153)"
      ]
     },
     "execution_count": 6,
     "metadata": {},
     "output_type": "execute_result"
    }
   ],
   "source": [
    "census[2020].index.difference(census[2030].index)"
   ]
  },
  {
   "cell_type": "code",
   "execution_count": 7,
   "id": "613571d3",
   "metadata": {},
   "outputs": [
    {
     "data": {
      "text/plain": [
       "Int64Index([   41,    60,    98,   130,   154,   157,   171,   250,   290,\n",
       "              291,\n",
       "            ...\n",
       "            54270, 54271, 54272, 54273, 54274, 54275, 54276, 54277, 54278,\n",
       "            54279],\n",
       "           dtype='int64', length=6149)"
      ]
     },
     "execution_count": 7,
     "metadata": {},
     "output_type": "execute_result"
    }
   ],
   "source": [
    "census[2030].index.difference(census[2020].index)"
   ]
  },
  {
   "cell_type": "markdown",
   "id": "5c02dd8f",
   "metadata": {},
   "source": [
    "# Filter to a smaller subset of records to test linking, and add a `'unique_id'` column for Splink\n",
    "\n",
    "The individual people appear in the same order, unless someone is missing or a new person has been added, so we can filter to the first $n$ records to get similar but not identical lists."
   ]
  },
  {
   "cell_type": "code",
   "execution_count": 8,
   "id": "e7aa9e37",
   "metadata": {},
   "outputs": [
    {
     "data": {
      "text/plain": [
       "{2020: (9495, 11), 2030: (8539, 11)}"
      ]
     },
     "execution_count": 8,
     "metadata": {},
     "output_type": "execute_result"
    }
   ],
   "source": [
    "max_index = 10_000\n",
    "\n",
    "def prep_for_linking(df, max_index):\n",
    "    return (\n",
    "        df.loc[:max_index]\n",
    "        .assign(\n",
    "            unique_id=lambda df: df.index, # Splink requires a column called 'unique_id'\n",
    "            age = lambda df: df['age'].floordiv(1).astype(int), # Replace age with floor(age)\n",
    "        ) \n",
    "    )\n",
    "\n",
    "subcensus = {year: prep_for_linking(df, max_index) for year, df in census.items()}\n",
    "\n",
    "{year: df.shape for year, df in subcensus.items()}"
   ]
  },
  {
   "cell_type": "code",
   "execution_count": 9,
   "id": "d89d47e0",
   "metadata": {},
   "outputs": [
    {
     "data": {
      "text/html": [
       "<div>\n",
       "<style scoped>\n",
       "    .dataframe tbody tr th:only-of-type {\n",
       "        vertical-align: middle;\n",
       "    }\n",
       "\n",
       "    .dataframe tbody tr th {\n",
       "        vertical-align: top;\n",
       "    }\n",
       "\n",
       "    .dataframe thead th {\n",
       "        text-align: right;\n",
       "    }\n",
       "</style>\n",
       "<table border=\"1\" class=\"dataframe\">\n",
       "  <thead>\n",
       "    <tr style=\"text-align: right;\">\n",
       "      <th></th>\n",
       "      <th>first_name</th>\n",
       "      <th>last_name</th>\n",
       "      <th>age</th>\n",
       "      <th>date_of_birth</th>\n",
       "      <th>address</th>\n",
       "      <th>zipcode</th>\n",
       "      <th>relation_to_household_head</th>\n",
       "      <th>sex</th>\n",
       "      <th>race_ethnicity</th>\n",
       "      <th>middle_initial</th>\n",
       "      <th>unique_id</th>\n",
       "    </tr>\n",
       "  </thead>\n",
       "  <tbody>\n",
       "    <tr>\n",
       "      <th>0</th>\n",
       "      <td>Margaret</td>\n",
       "      <td>Clark</td>\n",
       "      <td>68</td>\n",
       "      <td>1951-07-27</td>\n",
       "      <td>1344 winoka rd  brooksville, fl</td>\n",
       "      <td>34601</td>\n",
       "      <td>Reference person</td>\n",
       "      <td>Female</td>\n",
       "      <td>Black</td>\n",
       "      <td>J</td>\n",
       "      <td>0</td>\n",
       "    </tr>\n",
       "    <tr>\n",
       "      <th>1</th>\n",
       "      <td>Jeffrey</td>\n",
       "      <td>Littlejohn</td>\n",
       "      <td>52</td>\n",
       "      <td>1967-05-03</td>\n",
       "      <td>927 23rd st  clearwater, fl</td>\n",
       "      <td>34698</td>\n",
       "      <td>Reference person</td>\n",
       "      <td>Male</td>\n",
       "      <td>Black</td>\n",
       "      <td>V</td>\n",
       "      <td>1</td>\n",
       "    </tr>\n",
       "    <tr>\n",
       "      <th>2</th>\n",
       "      <td>Briana</td>\n",
       "      <td>Jackson</td>\n",
       "      <td>13</td>\n",
       "      <td>2006-09-07</td>\n",
       "      <td>927 23rd st  clearwater, fl</td>\n",
       "      <td>34698</td>\n",
       "      <td>Biological child</td>\n",
       "      <td>Female</td>\n",
       "      <td>Black</td>\n",
       "      <td>A</td>\n",
       "      <td>2</td>\n",
       "    </tr>\n",
       "    <tr>\n",
       "      <th>3</th>\n",
       "      <td>Benjamin</td>\n",
       "      <td>Cox</td>\n",
       "      <td>21</td>\n",
       "      <td>1998-10-21</td>\n",
       "      <td>927 23rd st  clearwater, fl</td>\n",
       "      <td>34698</td>\n",
       "      <td>Stepchild</td>\n",
       "      <td>Male</td>\n",
       "      <td>Black</td>\n",
       "      <td>D</td>\n",
       "      <td>3</td>\n",
       "    </tr>\n",
       "    <tr>\n",
       "      <th>4</th>\n",
       "      <td>Willie</td>\n",
       "      <td>Tucker</td>\n",
       "      <td>72</td>\n",
       "      <td>1947-10-09</td>\n",
       "      <td>8904 167th place  fleming island, fl</td>\n",
       "      <td>32003</td>\n",
       "      <td>Reference person</td>\n",
       "      <td>Male</td>\n",
       "      <td>White</td>\n",
       "      <td>J</td>\n",
       "      <td>4</td>\n",
       "    </tr>\n",
       "    <tr>\n",
       "      <th>...</th>\n",
       "      <td>...</td>\n",
       "      <td>...</td>\n",
       "      <td>...</td>\n",
       "      <td>...</td>\n",
       "      <td>...</td>\n",
       "      <td>...</td>\n",
       "      <td>...</td>\n",
       "      <td>...</td>\n",
       "      <td>...</td>\n",
       "      <td>...</td>\n",
       "      <td>...</td>\n",
       "    </tr>\n",
       "    <tr>\n",
       "      <th>9995</th>\n",
       "      <td>Jordy</td>\n",
       "      <td>Thomas</td>\n",
       "      <td>9</td>\n",
       "      <td>2011-03-27</td>\n",
       "      <td>8 bainridge raod  unincorporated, fl</td>\n",
       "      <td>33446</td>\n",
       "      <td>Biological child</td>\n",
       "      <td>Male</td>\n",
       "      <td>White</td>\n",
       "      <td>N</td>\n",
       "      <td>9995</td>\n",
       "    </tr>\n",
       "    <tr>\n",
       "      <th>9997</th>\n",
       "      <td>Carl</td>\n",
       "      <td>Saunders</td>\n",
       "      <td>72</td>\n",
       "      <td>1948-01-24</td>\n",
       "      <td>16901 sw 66 st  fort myers, fl</td>\n",
       "      <td>33916</td>\n",
       "      <td>Reference person</td>\n",
       "      <td>Male</td>\n",
       "      <td>White</td>\n",
       "      <td>M</td>\n",
       "      <td>9997</td>\n",
       "    </tr>\n",
       "    <tr>\n",
       "      <th>9998</th>\n",
       "      <td>Julie</td>\n",
       "      <td>Hasapis</td>\n",
       "      <td>60</td>\n",
       "      <td>1959-07-23</td>\n",
       "      <td>16901 sw 66 st  fort myers, fl</td>\n",
       "      <td>33916</td>\n",
       "      <td>Opp-sex spouse</td>\n",
       "      <td>Female</td>\n",
       "      <td>White</td>\n",
       "      <td>K</td>\n",
       "      <td>9998</td>\n",
       "    </tr>\n",
       "    <tr>\n",
       "      <th>9999</th>\n",
       "      <td>Jason</td>\n",
       "      <td>Cains</td>\n",
       "      <td>23</td>\n",
       "      <td>1996-10-15</td>\n",
       "      <td>137 belle terre blvd  vero beach, fl</td>\n",
       "      <td>32967</td>\n",
       "      <td>Reference person</td>\n",
       "      <td>Male</td>\n",
       "      <td>White</td>\n",
       "      <td>E</td>\n",
       "      <td>9999</td>\n",
       "    </tr>\n",
       "    <tr>\n",
       "      <th>10000</th>\n",
       "      <td>Megan</td>\n",
       "      <td>Judycki</td>\n",
       "      <td>27</td>\n",
       "      <td>1992-10-22</td>\n",
       "      <td>137 belle terre blvd  vero beach, fl</td>\n",
       "      <td>32967</td>\n",
       "      <td>Opp-sex spouse</td>\n",
       "      <td>Female</td>\n",
       "      <td>White</td>\n",
       "      <td>A</td>\n",
       "      <td>10000</td>\n",
       "    </tr>\n",
       "  </tbody>\n",
       "</table>\n",
       "<p>9495 rows × 11 columns</p>\n",
       "</div>"
      ],
      "text/plain": [
       "      first_name   last_name  age date_of_birth  \\\n",
       "0       Margaret       Clark   68    1951-07-27   \n",
       "1        Jeffrey  Littlejohn   52    1967-05-03   \n",
       "2         Briana     Jackson   13    2006-09-07   \n",
       "3       Benjamin         Cox   21    1998-10-21   \n",
       "4         Willie      Tucker   72    1947-10-09   \n",
       "...          ...         ...  ...           ...   \n",
       "9995       Jordy      Thomas    9    2011-03-27   \n",
       "9997        Carl    Saunders   72    1948-01-24   \n",
       "9998       Julie     Hasapis   60    1959-07-23   \n",
       "9999       Jason       Cains   23    1996-10-15   \n",
       "10000      Megan     Judycki   27    1992-10-22   \n",
       "\n",
       "                                    address zipcode  \\\n",
       "0           1344 winoka rd  brooksville, fl   34601   \n",
       "1               927 23rd st  clearwater, fl   34698   \n",
       "2               927 23rd st  clearwater, fl   34698   \n",
       "3               927 23rd st  clearwater, fl   34698   \n",
       "4      8904 167th place  fleming island, fl   32003   \n",
       "...                                     ...     ...   \n",
       "9995   8 bainridge raod  unincorporated, fl   33446   \n",
       "9997         16901 sw 66 st  fort myers, fl   33916   \n",
       "9998         16901 sw 66 st  fort myers, fl   33916   \n",
       "9999   137 belle terre blvd  vero beach, fl   32967   \n",
       "10000  137 belle terre blvd  vero beach, fl   32967   \n",
       "\n",
       "      relation_to_household_head     sex race_ethnicity middle_initial  \\\n",
       "0               Reference person  Female          Black              J   \n",
       "1               Reference person    Male          Black              V   \n",
       "2               Biological child  Female          Black              A   \n",
       "3                      Stepchild    Male          Black              D   \n",
       "4               Reference person    Male          White              J   \n",
       "...                          ...     ...            ...            ...   \n",
       "9995            Biological child    Male          White              N   \n",
       "9997            Reference person    Male          White              M   \n",
       "9998              Opp-sex spouse  Female          White              K   \n",
       "9999            Reference person    Male          White              E   \n",
       "10000             Opp-sex spouse  Female          White              A   \n",
       "\n",
       "       unique_id  \n",
       "0              0  \n",
       "1              1  \n",
       "2              2  \n",
       "3              3  \n",
       "4              4  \n",
       "...          ...  \n",
       "9995        9995  \n",
       "9997        9997  \n",
       "9998        9998  \n",
       "9999        9999  \n",
       "10000      10000  \n",
       "\n",
       "[9495 rows x 11 columns]"
      ]
     },
     "execution_count": 9,
     "metadata": {},
     "output_type": "execute_result"
    }
   ],
   "source": [
    "subcensus[2020]"
   ]
  },
  {
   "cell_type": "code",
   "execution_count": 10,
   "id": "079c6a16",
   "metadata": {},
   "outputs": [
    {
     "data": {
      "text/html": [
       "<div>\n",
       "<style scoped>\n",
       "    .dataframe tbody tr th:only-of-type {\n",
       "        vertical-align: middle;\n",
       "    }\n",
       "\n",
       "    .dataframe tbody tr th {\n",
       "        vertical-align: top;\n",
       "    }\n",
       "\n",
       "    .dataframe thead th {\n",
       "        text-align: right;\n",
       "    }\n",
       "</style>\n",
       "<table border=\"1\" class=\"dataframe\">\n",
       "  <thead>\n",
       "    <tr style=\"text-align: right;\">\n",
       "      <th></th>\n",
       "      <th>first_name</th>\n",
       "      <th>last_name</th>\n",
       "      <th>age</th>\n",
       "      <th>date_of_birth</th>\n",
       "      <th>address</th>\n",
       "      <th>zipcode</th>\n",
       "      <th>relation_to_household_head</th>\n",
       "      <th>sex</th>\n",
       "      <th>race_ethnicity</th>\n",
       "      <th>middle_initial</th>\n",
       "      <th>unique_id</th>\n",
       "    </tr>\n",
       "  </thead>\n",
       "  <tbody>\n",
       "    <tr>\n",
       "      <th>0</th>\n",
       "      <td>Margaret</td>\n",
       "      <td>Clark</td>\n",
       "      <td>70</td>\n",
       "      <td>1951-07-27</td>\n",
       "      <td>1344 winoka rd  brooksville, fl</td>\n",
       "      <td>34601</td>\n",
       "      <td>Reference person</td>\n",
       "      <td>Female</td>\n",
       "      <td>Black</td>\n",
       "      <td>J</td>\n",
       "      <td>0</td>\n",
       "    </tr>\n",
       "    <tr>\n",
       "      <th>1</th>\n",
       "      <td>Jeffrey</td>\n",
       "      <td>Littlejohn</td>\n",
       "      <td>53</td>\n",
       "      <td>1967-05-03</td>\n",
       "      <td>1400 miller ave  unincorporated, fl</td>\n",
       "      <td>33428</td>\n",
       "      <td>Reference person</td>\n",
       "      <td>Male</td>\n",
       "      <td>Black</td>\n",
       "      <td>V</td>\n",
       "      <td>1</td>\n",
       "    </tr>\n",
       "    <tr>\n",
       "      <th>2</th>\n",
       "      <td>Briana</td>\n",
       "      <td>Jackson</td>\n",
       "      <td>23</td>\n",
       "      <td>2006-09-07</td>\n",
       "      <td>mirasol drive  kendall, fl</td>\n",
       "      <td>33157</td>\n",
       "      <td>Other nonrelative</td>\n",
       "      <td>Female</td>\n",
       "      <td>Black</td>\n",
       "      <td>A</td>\n",
       "      <td>2</td>\n",
       "    </tr>\n",
       "    <tr>\n",
       "      <th>3</th>\n",
       "      <td>Benjamin</td>\n",
       "      <td>Cox</td>\n",
       "      <td>31</td>\n",
       "      <td>1998-10-21</td>\n",
       "      <td>272 hickey road  palm coast, fl</td>\n",
       "      <td>32164</td>\n",
       "      <td>Other nonrelative</td>\n",
       "      <td>Male</td>\n",
       "      <td>Black</td>\n",
       "      <td>D</td>\n",
       "      <td>3</td>\n",
       "    </tr>\n",
       "    <tr>\n",
       "      <th>4</th>\n",
       "      <td>Willie</td>\n",
       "      <td>Tucker</td>\n",
       "      <td>78</td>\n",
       "      <td>1947-10-09</td>\n",
       "      <td>8904 167th place  fleming island, fl</td>\n",
       "      <td>32003</td>\n",
       "      <td>Reference person</td>\n",
       "      <td>Male</td>\n",
       "      <td>White</td>\n",
       "      <td>J</td>\n",
       "      <td>4</td>\n",
       "    </tr>\n",
       "    <tr>\n",
       "      <th>...</th>\n",
       "      <td>...</td>\n",
       "      <td>...</td>\n",
       "      <td>...</td>\n",
       "      <td>...</td>\n",
       "      <td>...</td>\n",
       "      <td>...</td>\n",
       "      <td>...</td>\n",
       "      <td>...</td>\n",
       "      <td>...</td>\n",
       "      <td>...</td>\n",
       "      <td>...</td>\n",
       "    </tr>\n",
       "    <tr>\n",
       "      <th>9996</th>\n",
       "      <td>Ashton</td>\n",
       "      <td>Long</td>\n",
       "      <td>16</td>\n",
       "      <td>2013-11-04</td>\n",
       "      <td>8 bainridge raod  unincorporated, fl</td>\n",
       "      <td>33446</td>\n",
       "      <td>Biological child</td>\n",
       "      <td>Male</td>\n",
       "      <td>White</td>\n",
       "      <td>F</td>\n",
       "      <td>9996</td>\n",
       "    </tr>\n",
       "    <tr>\n",
       "      <th>9997</th>\n",
       "      <td>Carl</td>\n",
       "      <td>Saunders</td>\n",
       "      <td>74</td>\n",
       "      <td>1948-01-24</td>\n",
       "      <td>16901 sw 66 st  fort myers, fl</td>\n",
       "      <td>33916</td>\n",
       "      <td>Reference person</td>\n",
       "      <td>Male</td>\n",
       "      <td>White</td>\n",
       "      <td>M</td>\n",
       "      <td>9997</td>\n",
       "    </tr>\n",
       "    <tr>\n",
       "      <th>9998</th>\n",
       "      <td>Julie</td>\n",
       "      <td>Hasapis</td>\n",
       "      <td>70</td>\n",
       "      <td>1959-07-23</td>\n",
       "      <td>924 w 675 n  jacksonville, fl</td>\n",
       "      <td>32256</td>\n",
       "      <td>Other nonrelative</td>\n",
       "      <td>Female</td>\n",
       "      <td>White</td>\n",
       "      <td>K</td>\n",
       "      <td>9998</td>\n",
       "    </tr>\n",
       "    <tr>\n",
       "      <th>9999</th>\n",
       "      <td>Jason</td>\n",
       "      <td>Cains</td>\n",
       "      <td>33</td>\n",
       "      <td>1996-10-15</td>\n",
       "      <td>137 belle terre blvd  vero beach, fl</td>\n",
       "      <td>32967</td>\n",
       "      <td>Reference person</td>\n",
       "      <td>Male</td>\n",
       "      <td>White</td>\n",
       "      <td>E</td>\n",
       "      <td>9999</td>\n",
       "    </tr>\n",
       "    <tr>\n",
       "      <th>10000</th>\n",
       "      <td>Megan</td>\n",
       "      <td>Judycki</td>\n",
       "      <td>37</td>\n",
       "      <td>1992-10-22</td>\n",
       "      <td>137 belle terre blvd  vero beach, fl</td>\n",
       "      <td>32967</td>\n",
       "      <td>Opp-sex spouse</td>\n",
       "      <td>Female</td>\n",
       "      <td>White</td>\n",
       "      <td>A</td>\n",
       "      <td>10000</td>\n",
       "    </tr>\n",
       "  </tbody>\n",
       "</table>\n",
       "<p>8539 rows × 11 columns</p>\n",
       "</div>"
      ],
      "text/plain": [
       "      first_name   last_name  age date_of_birth  \\\n",
       "0       Margaret       Clark   70    1951-07-27   \n",
       "1        Jeffrey  Littlejohn   53    1967-05-03   \n",
       "2         Briana     Jackson   23    2006-09-07   \n",
       "3       Benjamin         Cox   31    1998-10-21   \n",
       "4         Willie      Tucker   78    1947-10-09   \n",
       "...          ...         ...  ...           ...   \n",
       "9996      Ashton        Long   16    2013-11-04   \n",
       "9997        Carl    Saunders   74    1948-01-24   \n",
       "9998       Julie     Hasapis   70    1959-07-23   \n",
       "9999       Jason       Cains   33    1996-10-15   \n",
       "10000      Megan     Judycki   37    1992-10-22   \n",
       "\n",
       "                                    address zipcode  \\\n",
       "0           1344 winoka rd  brooksville, fl   34601   \n",
       "1       1400 miller ave  unincorporated, fl   33428   \n",
       "2                mirasol drive  kendall, fl   33157   \n",
       "3           272 hickey road  palm coast, fl   32164   \n",
       "4      8904 167th place  fleming island, fl   32003   \n",
       "...                                     ...     ...   \n",
       "9996   8 bainridge raod  unincorporated, fl   33446   \n",
       "9997         16901 sw 66 st  fort myers, fl   33916   \n",
       "9998          924 w 675 n  jacksonville, fl   32256   \n",
       "9999   137 belle terre blvd  vero beach, fl   32967   \n",
       "10000  137 belle terre blvd  vero beach, fl   32967   \n",
       "\n",
       "      relation_to_household_head     sex race_ethnicity middle_initial  \\\n",
       "0               Reference person  Female          Black              J   \n",
       "1               Reference person    Male          Black              V   \n",
       "2              Other nonrelative  Female          Black              A   \n",
       "3              Other nonrelative    Male          Black              D   \n",
       "4               Reference person    Male          White              J   \n",
       "...                          ...     ...            ...            ...   \n",
       "9996            Biological child    Male          White              F   \n",
       "9997            Reference person    Male          White              M   \n",
       "9998           Other nonrelative  Female          White              K   \n",
       "9999            Reference person    Male          White              E   \n",
       "10000             Opp-sex spouse  Female          White              A   \n",
       "\n",
       "       unique_id  \n",
       "0              0  \n",
       "1              1  \n",
       "2              2  \n",
       "3              3  \n",
       "4              4  \n",
       "...          ...  \n",
       "9996        9996  \n",
       "9997        9997  \n",
       "9998        9998  \n",
       "9999        9999  \n",
       "10000      10000  \n",
       "\n",
       "[8539 rows x 11 columns]"
      ]
     },
     "execution_count": 10,
     "metadata": {},
     "output_type": "execute_result"
    }
   ],
   "source": [
    "subcensus[2030]"
   ]
  },
  {
   "cell_type": "code",
   "execution_count": 11,
   "id": "60e89a4b",
   "metadata": {},
   "outputs": [
    {
     "data": {
      "text/plain": [
       "Int64Index([  14,   27,   37,   47,   57,   67,   68,   71,   74,  101,\n",
       "            ...\n",
       "            9960, 9961, 9965, 9968, 9975, 9978, 9981, 9982, 9984, 9994],\n",
       "           dtype='int64', length=1389)"
      ]
     },
     "execution_count": 11,
     "metadata": {},
     "output_type": "execute_result"
    }
   ],
   "source": [
    "subcensus[2020].index.difference(subcensus[2030].index)"
   ]
  },
  {
   "cell_type": "code",
   "execution_count": 12,
   "id": "cf0db1f0",
   "metadata": {},
   "outputs": [
    {
     "data": {
      "text/plain": [
       "Int64Index([  41,   60,   98,  130,  154,  157,  171,  250,  290,  291,\n",
       "            ...\n",
       "            9686, 9714, 9726, 9736, 9755, 9872, 9903, 9914, 9964, 9996],\n",
       "           dtype='int64', length=433)"
      ]
     },
     "execution_count": 12,
     "metadata": {},
     "output_type": "execute_result"
    }
   ],
   "source": [
    "subcensus[2030].index.difference(subcensus[2020].index)"
   ]
  },
  {
   "cell_type": "markdown",
   "id": "ba7cf3c9",
   "metadata": {},
   "source": [
    "# Look at how addresses change from 2020 to 2030"
   ]
  },
  {
   "cell_type": "code",
   "execution_count": 13,
   "id": "3b68a273",
   "metadata": {},
   "outputs": [
    {
     "data": {
      "text/html": [
       "<div>\n",
       "<style scoped>\n",
       "    .dataframe tbody tr th:only-of-type {\n",
       "        vertical-align: middle;\n",
       "    }\n",
       "\n",
       "    .dataframe tbody tr th {\n",
       "        vertical-align: top;\n",
       "    }\n",
       "\n",
       "    .dataframe thead tr th {\n",
       "        text-align: left;\n",
       "    }\n",
       "</style>\n",
       "<table border=\"1\" class=\"dataframe\">\n",
       "  <thead>\n",
       "    <tr>\n",
       "      <th></th>\n",
       "      <th colspan=\"2\" halign=\"left\">first_name</th>\n",
       "      <th colspan=\"2\" halign=\"left\">last_name</th>\n",
       "      <th colspan=\"2\" halign=\"left\">address</th>\n",
       "      <th colspan=\"2\" halign=\"left\">zipcode</th>\n",
       "    </tr>\n",
       "    <tr>\n",
       "      <th></th>\n",
       "      <th>self</th>\n",
       "      <th>other</th>\n",
       "      <th>self</th>\n",
       "      <th>other</th>\n",
       "      <th>self</th>\n",
       "      <th>other</th>\n",
       "      <th>self</th>\n",
       "      <th>other</th>\n",
       "    </tr>\n",
       "  </thead>\n",
       "  <tbody>\n",
       "    <tr>\n",
       "      <th>1</th>\n",
       "      <td>NaN</td>\n",
       "      <td>NaN</td>\n",
       "      <td>NaN</td>\n",
       "      <td>NaN</td>\n",
       "      <td>927 23rd st  clearwater, fl</td>\n",
       "      <td>1400 miller ave  unincorporated, fl</td>\n",
       "      <td>34698</td>\n",
       "      <td>33428</td>\n",
       "    </tr>\n",
       "    <tr>\n",
       "      <th>2</th>\n",
       "      <td>NaN</td>\n",
       "      <td>NaN</td>\n",
       "      <td>NaN</td>\n",
       "      <td>NaN</td>\n",
       "      <td>927 23rd st  clearwater, fl</td>\n",
       "      <td>mirasol drive  kendall, fl</td>\n",
       "      <td>34698</td>\n",
       "      <td>33157</td>\n",
       "    </tr>\n",
       "    <tr>\n",
       "      <th>3</th>\n",
       "      <td>NaN</td>\n",
       "      <td>NaN</td>\n",
       "      <td>NaN</td>\n",
       "      <td>NaN</td>\n",
       "      <td>927 23rd st  clearwater, fl</td>\n",
       "      <td>272 hickey road  palm coast, fl</td>\n",
       "      <td>34698</td>\n",
       "      <td>32164</td>\n",
       "    </tr>\n",
       "    <tr>\n",
       "      <th>6</th>\n",
       "      <td>NaN</td>\n",
       "      <td>NaN</td>\n",
       "      <td>NaN</td>\n",
       "      <td>NaN</td>\n",
       "      <td>3478 claude douglas cir  jacksonville, fl</td>\n",
       "      <td>1838 kelton ln  jacksonville, fl</td>\n",
       "      <td>32218</td>\n",
       "      <td>32224</td>\n",
       "    </tr>\n",
       "    <tr>\n",
       "      <th>9</th>\n",
       "      <td>NaN</td>\n",
       "      <td>NaN</td>\n",
       "      <td>NaN</td>\n",
       "      <td>NaN</td>\n",
       "      <td>94 perry rd  orlando, fl</td>\n",
       "      <td>2795 north eagle rd  florahome, fl</td>\n",
       "      <td>32832</td>\n",
       "      <td>32140</td>\n",
       "    </tr>\n",
       "    <tr>\n",
       "      <th>...</th>\n",
       "      <td>...</td>\n",
       "      <td>...</td>\n",
       "      <td>...</td>\n",
       "      <td>...</td>\n",
       "      <td>...</td>\n",
       "      <td>...</td>\n",
       "      <td>...</td>\n",
       "      <td>...</td>\n",
       "    </tr>\n",
       "    <tr>\n",
       "      <th>9991</th>\n",
       "      <td>NaN</td>\n",
       "      <td>NaN</td>\n",
       "      <td>NaN</td>\n",
       "      <td>NaN</td>\n",
       "      <td>19394 alvaro lane  cape coral, fl</td>\n",
       "      <td>7755 berry williams rd  ft myers, fl</td>\n",
       "      <td>33993</td>\n",
       "      <td>33913</td>\n",
       "    </tr>\n",
       "    <tr>\n",
       "      <th>9993</th>\n",
       "      <td>NaN</td>\n",
       "      <td>NaN</td>\n",
       "      <td>NaN</td>\n",
       "      <td>NaN</td>\n",
       "      <td>8 bainridge raod  unincorporated, fl</td>\n",
       "      <td>944 laurel ave  jacksonville, fl</td>\n",
       "      <td>33446</td>\n",
       "      <td>32258</td>\n",
       "    </tr>\n",
       "    <tr>\n",
       "      <th>9995</th>\n",
       "      <td>NaN</td>\n",
       "      <td>NaN</td>\n",
       "      <td>NaN</td>\n",
       "      <td>NaN</td>\n",
       "      <td>8 bainridge raod  unincorporated, fl</td>\n",
       "      <td>3736 cameron av  st. petersburg, fl</td>\n",
       "      <td>33446</td>\n",
       "      <td>33714</td>\n",
       "    </tr>\n",
       "    <tr>\n",
       "      <th>9996</th>\n",
       "      <td>NaN</td>\n",
       "      <td>Ashton</td>\n",
       "      <td>NaN</td>\n",
       "      <td>Long</td>\n",
       "      <td>NaN</td>\n",
       "      <td>8 bainridge raod  unincorporated, fl</td>\n",
       "      <td>NaN</td>\n",
       "      <td>33446</td>\n",
       "    </tr>\n",
       "    <tr>\n",
       "      <th>9998</th>\n",
       "      <td>NaN</td>\n",
       "      <td>NaN</td>\n",
       "      <td>NaN</td>\n",
       "      <td>NaN</td>\n",
       "      <td>16901 sw 66 st  fort myers, fl</td>\n",
       "      <td>924 w 675 n  jacksonville, fl</td>\n",
       "      <td>33916</td>\n",
       "      <td>32256</td>\n",
       "    </tr>\n",
       "  </tbody>\n",
       "</table>\n",
       "<p>4269 rows × 8 columns</p>\n",
       "</div>"
      ],
      "text/plain": [
       "     first_name         last_name        \\\n",
       "           self   other      self other   \n",
       "1           NaN     NaN       NaN   NaN   \n",
       "2           NaN     NaN       NaN   NaN   \n",
       "3           NaN     NaN       NaN   NaN   \n",
       "6           NaN     NaN       NaN   NaN   \n",
       "9           NaN     NaN       NaN   NaN   \n",
       "...         ...     ...       ...   ...   \n",
       "9991        NaN     NaN       NaN   NaN   \n",
       "9993        NaN     NaN       NaN   NaN   \n",
       "9995        NaN     NaN       NaN   NaN   \n",
       "9996        NaN  Ashton       NaN  Long   \n",
       "9998        NaN     NaN       NaN   NaN   \n",
       "\n",
       "                                        address  \\\n",
       "                                           self   \n",
       "1                   927 23rd st  clearwater, fl   \n",
       "2                   927 23rd st  clearwater, fl   \n",
       "3                   927 23rd st  clearwater, fl   \n",
       "6     3478 claude douglas cir  jacksonville, fl   \n",
       "9                      94 perry rd  orlando, fl   \n",
       "...                                         ...   \n",
       "9991          19394 alvaro lane  cape coral, fl   \n",
       "9993       8 bainridge raod  unincorporated, fl   \n",
       "9995       8 bainridge raod  unincorporated, fl   \n",
       "9996                                        NaN   \n",
       "9998             16901 sw 66 st  fort myers, fl   \n",
       "\n",
       "                                           zipcode         \n",
       "                                     other    self  other  \n",
       "1      1400 miller ave  unincorporated, fl   34698  33428  \n",
       "2               mirasol drive  kendall, fl   34698  33157  \n",
       "3          272 hickey road  palm coast, fl   34698  32164  \n",
       "6         1838 kelton ln  jacksonville, fl   32218  32224  \n",
       "9       2795 north eagle rd  florahome, fl   32832  32140  \n",
       "...                                    ...     ...    ...  \n",
       "9991  7755 berry williams rd  ft myers, fl   33993  33913  \n",
       "9993      944 laurel ave  jacksonville, fl   33446  32258  \n",
       "9995   3736 cameron av  st. petersburg, fl   33446  33714  \n",
       "9996  8 bainridge raod  unincorporated, fl     NaN  33446  \n",
       "9998         924 w 675 n  jacksonville, fl   33916  32256  \n",
       "\n",
       "[4269 rows x 8 columns]"
      ]
     },
     "execution_count": 13,
     "metadata": {},
     "output_type": "execute_result"
    }
   ],
   "source": [
    "columns = ['first_name', 'last_name', 'address', 'zipcode']\n",
    "df1 = subcensus[2020].loc[:,columns]\n",
    "df2 = subcensus[2030].loc[:,columns]\n",
    "df1.reindex(df2.index).compare(df2)"
   ]
  },
  {
   "cell_type": "code",
   "execution_count": 14,
   "id": "bca8316a",
   "metadata": {},
   "outputs": [
    {
     "data": {
      "text/html": [
       "<div>\n",
       "<style scoped>\n",
       "    .dataframe tbody tr th:only-of-type {\n",
       "        vertical-align: middle;\n",
       "    }\n",
       "\n",
       "    .dataframe tbody tr th {\n",
       "        vertical-align: top;\n",
       "    }\n",
       "\n",
       "    .dataframe thead tr th {\n",
       "        text-align: left;\n",
       "    }\n",
       "</style>\n",
       "<table border=\"1\" class=\"dataframe\">\n",
       "  <thead>\n",
       "    <tr>\n",
       "      <th></th>\n",
       "      <th colspan=\"2\" halign=\"left\">first_name</th>\n",
       "      <th colspan=\"2\" halign=\"left\">last_name</th>\n",
       "      <th colspan=\"2\" halign=\"left\">address</th>\n",
       "      <th colspan=\"2\" halign=\"left\">zipcode</th>\n",
       "    </tr>\n",
       "    <tr>\n",
       "      <th></th>\n",
       "      <th>self</th>\n",
       "      <th>other</th>\n",
       "      <th>self</th>\n",
       "      <th>other</th>\n",
       "      <th>self</th>\n",
       "      <th>other</th>\n",
       "      <th>self</th>\n",
       "      <th>other</th>\n",
       "    </tr>\n",
       "  </thead>\n",
       "  <tbody>\n",
       "    <tr>\n",
       "      <th>1</th>\n",
       "      <td>NaN</td>\n",
       "      <td>NaN</td>\n",
       "      <td>NaN</td>\n",
       "      <td>NaN</td>\n",
       "      <td>1400 miller ave  unincorporated, fl</td>\n",
       "      <td>927 23rd st  clearwater, fl</td>\n",
       "      <td>33428</td>\n",
       "      <td>34698</td>\n",
       "    </tr>\n",
       "    <tr>\n",
       "      <th>2</th>\n",
       "      <td>NaN</td>\n",
       "      <td>NaN</td>\n",
       "      <td>NaN</td>\n",
       "      <td>NaN</td>\n",
       "      <td>mirasol drive  kendall, fl</td>\n",
       "      <td>927 23rd st  clearwater, fl</td>\n",
       "      <td>33157</td>\n",
       "      <td>34698</td>\n",
       "    </tr>\n",
       "    <tr>\n",
       "      <th>3</th>\n",
       "      <td>NaN</td>\n",
       "      <td>NaN</td>\n",
       "      <td>NaN</td>\n",
       "      <td>NaN</td>\n",
       "      <td>272 hickey road  palm coast, fl</td>\n",
       "      <td>927 23rd st  clearwater, fl</td>\n",
       "      <td>32164</td>\n",
       "      <td>34698</td>\n",
       "    </tr>\n",
       "    <tr>\n",
       "      <th>6</th>\n",
       "      <td>NaN</td>\n",
       "      <td>NaN</td>\n",
       "      <td>NaN</td>\n",
       "      <td>NaN</td>\n",
       "      <td>1838 kelton ln  jacksonville, fl</td>\n",
       "      <td>3478 claude douglas cir  jacksonville, fl</td>\n",
       "      <td>32224</td>\n",
       "      <td>32218</td>\n",
       "    </tr>\n",
       "    <tr>\n",
       "      <th>9</th>\n",
       "      <td>NaN</td>\n",
       "      <td>NaN</td>\n",
       "      <td>NaN</td>\n",
       "      <td>NaN</td>\n",
       "      <td>2795 north eagle rd  florahome, fl</td>\n",
       "      <td>94 perry rd  orlando, fl</td>\n",
       "      <td>32140</td>\n",
       "      <td>32832</td>\n",
       "    </tr>\n",
       "    <tr>\n",
       "      <th>...</th>\n",
       "      <td>...</td>\n",
       "      <td>...</td>\n",
       "      <td>...</td>\n",
       "      <td>...</td>\n",
       "      <td>...</td>\n",
       "      <td>...</td>\n",
       "      <td>...</td>\n",
       "      <td>...</td>\n",
       "    </tr>\n",
       "    <tr>\n",
       "      <th>9991</th>\n",
       "      <td>NaN</td>\n",
       "      <td>NaN</td>\n",
       "      <td>NaN</td>\n",
       "      <td>NaN</td>\n",
       "      <td>7755 berry williams rd  ft myers, fl</td>\n",
       "      <td>19394 alvaro lane  cape coral, fl</td>\n",
       "      <td>33913</td>\n",
       "      <td>33993</td>\n",
       "    </tr>\n",
       "    <tr>\n",
       "      <th>9993</th>\n",
       "      <td>NaN</td>\n",
       "      <td>NaN</td>\n",
       "      <td>NaN</td>\n",
       "      <td>NaN</td>\n",
       "      <td>944 laurel ave  jacksonville, fl</td>\n",
       "      <td>8 bainridge raod  unincorporated, fl</td>\n",
       "      <td>32258</td>\n",
       "      <td>33446</td>\n",
       "    </tr>\n",
       "    <tr>\n",
       "      <th>9994</th>\n",
       "      <td>NaN</td>\n",
       "      <td>Katherine</td>\n",
       "      <td>NaN</td>\n",
       "      <td>Hoyt</td>\n",
       "      <td>NaN</td>\n",
       "      <td>8 bainridge raod  unincorporated, fl</td>\n",
       "      <td>NaN</td>\n",
       "      <td>33446</td>\n",
       "    </tr>\n",
       "    <tr>\n",
       "      <th>9995</th>\n",
       "      <td>NaN</td>\n",
       "      <td>NaN</td>\n",
       "      <td>NaN</td>\n",
       "      <td>NaN</td>\n",
       "      <td>3736 cameron av  st. petersburg, fl</td>\n",
       "      <td>8 bainridge raod  unincorporated, fl</td>\n",
       "      <td>33714</td>\n",
       "      <td>33446</td>\n",
       "    </tr>\n",
       "    <tr>\n",
       "      <th>9998</th>\n",
       "      <td>NaN</td>\n",
       "      <td>NaN</td>\n",
       "      <td>NaN</td>\n",
       "      <td>NaN</td>\n",
       "      <td>924 w 675 n  jacksonville, fl</td>\n",
       "      <td>16901 sw 66 st  fort myers, fl</td>\n",
       "      <td>32256</td>\n",
       "      <td>33916</td>\n",
       "    </tr>\n",
       "  </tbody>\n",
       "</table>\n",
       "<p>5225 rows × 8 columns</p>\n",
       "</div>"
      ],
      "text/plain": [
       "     first_name            last_name        \\\n",
       "           self      other      self other   \n",
       "1           NaN        NaN       NaN   NaN   \n",
       "2           NaN        NaN       NaN   NaN   \n",
       "3           NaN        NaN       NaN   NaN   \n",
       "6           NaN        NaN       NaN   NaN   \n",
       "9           NaN        NaN       NaN   NaN   \n",
       "...         ...        ...       ...   ...   \n",
       "9991        NaN        NaN       NaN   NaN   \n",
       "9993        NaN        NaN       NaN   NaN   \n",
       "9994        NaN  Katherine       NaN  Hoyt   \n",
       "9995        NaN        NaN       NaN   NaN   \n",
       "9998        NaN        NaN       NaN   NaN   \n",
       "\n",
       "                                   address  \\\n",
       "                                      self   \n",
       "1      1400 miller ave  unincorporated, fl   \n",
       "2               mirasol drive  kendall, fl   \n",
       "3          272 hickey road  palm coast, fl   \n",
       "6         1838 kelton ln  jacksonville, fl   \n",
       "9       2795 north eagle rd  florahome, fl   \n",
       "...                                    ...   \n",
       "9991  7755 berry williams rd  ft myers, fl   \n",
       "9993      944 laurel ave  jacksonville, fl   \n",
       "9994                                   NaN   \n",
       "9995   3736 cameron av  st. petersburg, fl   \n",
       "9998         924 w 675 n  jacksonville, fl   \n",
       "\n",
       "                                                zipcode         \n",
       "                                          other    self  other  \n",
       "1                   927 23rd st  clearwater, fl   33428  34698  \n",
       "2                   927 23rd st  clearwater, fl   33157  34698  \n",
       "3                   927 23rd st  clearwater, fl   32164  34698  \n",
       "6     3478 claude douglas cir  jacksonville, fl   32224  32218  \n",
       "9                      94 perry rd  orlando, fl   32140  32832  \n",
       "...                                         ...     ...    ...  \n",
       "9991          19394 alvaro lane  cape coral, fl   33913  33993  \n",
       "9993       8 bainridge raod  unincorporated, fl   32258  33446  \n",
       "9994       8 bainridge raod  unincorporated, fl     NaN  33446  \n",
       "9995       8 bainridge raod  unincorporated, fl   33714  33446  \n",
       "9998             16901 sw 66 st  fort myers, fl   32256  33916  \n",
       "\n",
       "[5225 rows x 8 columns]"
      ]
     },
     "execution_count": 14,
     "metadata": {},
     "output_type": "execute_result"
    }
   ],
   "source": [
    "df2.reindex(df1.index).compare(df1)"
   ]
  },
  {
   "cell_type": "markdown",
   "id": "f7d13a66",
   "metadata": {},
   "source": [
    "# Create a linker and profile some columns\n",
    "\n",
    "[Exploratory Analysis in Splink](https://moj-analytical-services.github.io/splink/demos/01_Exploratory_analysis.html)"
   ]
  },
  {
   "cell_type": "code",
   "execution_count": 15,
   "id": "b987f921",
   "metadata": {},
   "outputs": [],
   "source": [
    "# Minimal settings needed to call .profile_columns()\n",
    "initial_settings = {'link_type': 'link_only'}\n",
    "linker = DuckDBLinker([subcensus[2020], subcensus[2030]], initial_settings)"
   ]
  },
  {
   "cell_type": "code",
   "execution_count": 16,
   "id": "e5bc4e06",
   "metadata": {},
   "outputs": [
    {
     "data": {
      "text/html": [
       "\n",
       "<div id=\"altair-viz-80949092d2f0494fa41329db710440fc\"></div>\n",
       "<script type=\"text/javascript\">\n",
       "  var VEGA_DEBUG = (typeof VEGA_DEBUG == \"undefined\") ? {} : VEGA_DEBUG;\n",
       "  (function(spec, embedOpt){\n",
       "    let outputDiv = document.currentScript.previousElementSibling;\n",
       "    if (outputDiv.id !== \"altair-viz-80949092d2f0494fa41329db710440fc\") {\n",
       "      outputDiv = document.getElementById(\"altair-viz-80949092d2f0494fa41329db710440fc\");\n",
       "    }\n",
       "    const paths = {\n",
       "      \"vega\": \"https://cdn.jsdelivr.net/npm//vega@5?noext\",\n",
       "      \"vega-lib\": \"https://cdn.jsdelivr.net/npm//vega-lib?noext\",\n",
       "      \"vega-lite\": \"https://cdn.jsdelivr.net/npm//vega-lite@4.17.0?noext\",\n",
       "      \"vega-embed\": \"https://cdn.jsdelivr.net/npm//vega-embed@6?noext\",\n",
       "    };\n",
       "\n",
       "    function maybeLoadScript(lib, version) {\n",
       "      var key = `${lib.replace(\"-\", \"\")}_version`;\n",
       "      return (VEGA_DEBUG[key] == version) ?\n",
       "        Promise.resolve(paths[lib]) :\n",
       "        new Promise(function(resolve, reject) {\n",
       "          var s = document.createElement('script');\n",
       "          document.getElementsByTagName(\"head\")[0].appendChild(s);\n",
       "          s.async = true;\n",
       "          s.onload = () => {\n",
       "            VEGA_DEBUG[key] = version;\n",
       "            return resolve(paths[lib]);\n",
       "          };\n",
       "          s.onerror = () => reject(`Error loading script: ${paths[lib]}`);\n",
       "          s.src = paths[lib];\n",
       "        });\n",
       "    }\n",
       "\n",
       "    function showError(err) {\n",
       "      outputDiv.innerHTML = `<div class=\"error\" style=\"color:red;\">${err}</div>`;\n",
       "      throw err;\n",
       "    }\n",
       "\n",
       "    function displayChart(vegaEmbed) {\n",
       "      vegaEmbed(outputDiv, spec, embedOpt)\n",
       "        .catch(err => showError(`Javascript Error: ${err.message}<br>This usually means there's a typo in your chart specification. See the javascript console for the full traceback.`));\n",
       "    }\n",
       "\n",
       "    if(typeof define === \"function\" && define.amd) {\n",
       "      requirejs.config({paths});\n",
       "      require([\"vega-embed\"], displayChart, err => showError(`Error loading script: ${err.message}`));\n",
       "    } else {\n",
       "      maybeLoadScript(\"vega\", \"5\")\n",
       "        .then(() => maybeLoadScript(\"vega-lite\", \"4.17.0\"))\n",
       "        .then(() => maybeLoadScript(\"vega-embed\", \"6\"))\n",
       "        .catch(showError)\n",
       "        .then(() => displayChart(vegaEmbed));\n",
       "    }\n",
       "  })({\"config\": {\"view\": {\"continuousWidth\": 400, \"continuousHeight\": 300}}, \"vconcat\": [{\"hconcat\": [{\"data\": {\"values\": [{\"percentile_ex_nulls\": 0.9830320477485657, \"percentile_inc_nulls\": 0.9830320477485657, \"value_count\": 306, \"group_name\": \"first_name\", \"total_non_null_rows\": 18034, \"total_rows_inc_nulls\": 18034, \"sum_tokens_in_value_count_group\": 306.0, \"distinct_value_count\": 1886}, {\"percentile_ex_nulls\": 0.9667295217514038, \"percentile_inc_nulls\": 0.9667295217514038, \"value_count\": 294, \"group_name\": \"first_name\", \"total_non_null_rows\": 18034, \"total_rows_inc_nulls\": 18034, \"sum_tokens_in_value_count_group\": 294.0, \"distinct_value_count\": 1886}, {\"percentile_ex_nulls\": 0.9524232149124146, \"percentile_inc_nulls\": 0.9524232149124146, \"value_count\": 258, \"group_name\": \"first_name\", \"total_non_null_rows\": 18034, \"total_rows_inc_nulls\": 18034, \"sum_tokens_in_value_count_group\": 258.0, \"distinct_value_count\": 1886}, {\"percentile_ex_nulls\": 0.9405012726783752, \"percentile_inc_nulls\": 0.9405012726783752, \"value_count\": 215, \"group_name\": \"first_name\", \"total_non_null_rows\": 18034, \"total_rows_inc_nulls\": 18034, \"sum_tokens_in_value_count_group\": 215.0, \"distinct_value_count\": 1886}, {\"percentile_ex_nulls\": 0.9299101829528809, \"percentile_inc_nulls\": 0.9299101829528809, \"value_count\": 191, \"group_name\": \"first_name\", \"total_non_null_rows\": 18034, \"total_rows_inc_nulls\": 18034, \"sum_tokens_in_value_count_group\": 191.0, \"distinct_value_count\": 1886}, {\"percentile_ex_nulls\": 0.9194299578666687, \"percentile_inc_nulls\": 0.9194299578666687, \"value_count\": 189, \"group_name\": \"first_name\", \"total_non_null_rows\": 18034, \"total_rows_inc_nulls\": 18034, \"sum_tokens_in_value_count_group\": 189.0, \"distinct_value_count\": 1886}, {\"percentile_ex_nulls\": 0.909726083278656, \"percentile_inc_nulls\": 0.909726083278656, \"value_count\": 175, \"group_name\": \"first_name\", \"total_non_null_rows\": 18034, \"total_rows_inc_nulls\": 18034, \"sum_tokens_in_value_count_group\": 175.0, \"distinct_value_count\": 1886}, {\"percentile_ex_nulls\": 0.9001885652542114, \"percentile_inc_nulls\": 0.9001885652542114, \"value_count\": 172, \"group_name\": \"first_name\", \"total_non_null_rows\": 18034, \"total_rows_inc_nulls\": 18034, \"sum_tokens_in_value_count_group\": 172.0, \"distinct_value_count\": 1886}, {\"percentile_ex_nulls\": 0.8915936350822449, \"percentile_inc_nulls\": 0.8915936350822449, \"value_count\": 155, \"group_name\": \"first_name\", \"total_non_null_rows\": 18034, \"total_rows_inc_nulls\": 18034, \"sum_tokens_in_value_count_group\": 155.0, \"distinct_value_count\": 1886}, {\"percentile_ex_nulls\": 0.8834424018859863, \"percentile_inc_nulls\": 0.8834424018859863, \"value_count\": 147, \"group_name\": \"first_name\", \"total_non_null_rows\": 18034, \"total_rows_inc_nulls\": 18034, \"sum_tokens_in_value_count_group\": 147.0, \"distinct_value_count\": 1886}, {\"percentile_ex_nulls\": 0.8759565353393555, \"percentile_inc_nulls\": 0.8759565353393555, \"value_count\": 135, \"group_name\": \"first_name\", \"total_non_null_rows\": 18034, \"total_rows_inc_nulls\": 18034, \"sum_tokens_in_value_count_group\": 135.0, \"distinct_value_count\": 1886}, {\"percentile_ex_nulls\": 0.8692469596862793, \"percentile_inc_nulls\": 0.8692469596862793, \"value_count\": 121, \"group_name\": \"first_name\", \"total_non_null_rows\": 18034, \"total_rows_inc_nulls\": 18034, \"sum_tokens_in_value_count_group\": 121.0, \"distinct_value_count\": 1886}, {\"percentile_ex_nulls\": 0.8566042184829712, \"percentile_inc_nulls\": 0.8566042184829712, \"value_count\": 114, \"group_name\": \"first_name\", \"total_non_null_rows\": 18034, \"total_rows_inc_nulls\": 18034, \"sum_tokens_in_value_count_group\": 228.0, \"distinct_value_count\": 1886}, {\"percentile_ex_nulls\": 0.8506155014038086, \"percentile_inc_nulls\": 0.8506155014038086, \"value_count\": 108, \"group_name\": \"first_name\", \"total_non_null_rows\": 18034, \"total_rows_inc_nulls\": 18034, \"sum_tokens_in_value_count_group\": 108.0, \"distinct_value_count\": 1886}, {\"percentile_ex_nulls\": 0.8454031348228455, \"percentile_inc_nulls\": 0.8454031348228455, \"value_count\": 94, \"group_name\": \"first_name\", \"total_non_null_rows\": 18034, \"total_rows_inc_nulls\": 18034, \"sum_tokens_in_value_count_group\": 94.0, \"distinct_value_count\": 1886}, {\"percentile_ex_nulls\": 0.8403016328811646, \"percentile_inc_nulls\": 0.8403016328811646, \"value_count\": 92, \"group_name\": \"first_name\", \"total_non_null_rows\": 18034, \"total_rows_inc_nulls\": 18034, \"sum_tokens_in_value_count_group\": 92.0, \"distinct_value_count\": 1886}, {\"percentile_ex_nulls\": 0.8352556228637695, \"percentile_inc_nulls\": 0.8352556228637695, \"value_count\": 91, \"group_name\": \"first_name\", \"total_non_null_rows\": 18034, \"total_rows_inc_nulls\": 18034, \"sum_tokens_in_value_count_group\": 91.0, \"distinct_value_count\": 1886}, {\"percentile_ex_nulls\": 0.8252744674682617, \"percentile_inc_nulls\": 0.8252744674682617, \"value_count\": 90, \"group_name\": \"first_name\", \"total_non_null_rows\": 18034, \"total_rows_inc_nulls\": 18034, \"sum_tokens_in_value_count_group\": 180.0, \"distinct_value_count\": 1886}, {\"percentile_ex_nulls\": 0.8203948140144348, \"percentile_inc_nulls\": 0.8203948140144348, \"value_count\": 88, \"group_name\": \"first_name\", \"total_non_null_rows\": 18034, \"total_rows_inc_nulls\": 18034, \"sum_tokens_in_value_count_group\": 88.0, \"distinct_value_count\": 1886}, {\"percentile_ex_nulls\": 0.815570592880249, \"percentile_inc_nulls\": 0.815570592880249, \"value_count\": 87, \"group_name\": \"first_name\", \"total_non_null_rows\": 18034, \"total_rows_inc_nulls\": 18034, \"sum_tokens_in_value_count_group\": 87.0, \"distinct_value_count\": 1886}, {\"percentile_ex_nulls\": 0.8110790848731995, \"percentile_inc_nulls\": 0.8110790848731995, \"value_count\": 81, \"group_name\": \"first_name\", \"total_non_null_rows\": 18034, \"total_rows_inc_nulls\": 18034, \"sum_tokens_in_value_count_group\": 81.0, \"distinct_value_count\": 1886}, {\"percentile_ex_nulls\": 0.8067538738250732, \"percentile_inc_nulls\": 0.8067538738250732, \"value_count\": 78, \"group_name\": \"first_name\", \"total_non_null_rows\": 18034, \"total_rows_inc_nulls\": 18034, \"sum_tokens_in_value_count_group\": 78.0, \"distinct_value_count\": 1886}, {\"percentile_ex_nulls\": 0.7982144951820374, \"percentile_inc_nulls\": 0.7982144951820374, \"value_count\": 77, \"group_name\": \"first_name\", \"total_non_null_rows\": 18034, \"total_rows_inc_nulls\": 18034, \"sum_tokens_in_value_count_group\": 154.0, \"distinct_value_count\": 1886}, {\"percentile_ex_nulls\": 0.7897859811782837, \"percentile_inc_nulls\": 0.7897859811782837, \"value_count\": 76, \"group_name\": \"first_name\", \"total_non_null_rows\": 18034, \"total_rows_inc_nulls\": 18034, \"sum_tokens_in_value_count_group\": 152.0, \"distinct_value_count\": 1886}, {\"percentile_ex_nulls\": 0.7815792560577393, \"percentile_inc_nulls\": 0.7815792560577393, \"value_count\": 74, \"group_name\": \"first_name\", \"total_non_null_rows\": 18034, \"total_rows_inc_nulls\": 18034, \"sum_tokens_in_value_count_group\": 148.0, \"distinct_value_count\": 1886}, {\"percentile_ex_nulls\": 0.7776422500610352, \"percentile_inc_nulls\": 0.7776422500610352, \"value_count\": 71, \"group_name\": \"first_name\", \"total_non_null_rows\": 18034, \"total_rows_inc_nulls\": 18034, \"sum_tokens_in_value_count_group\": 71.0, \"distinct_value_count\": 1886}, {\"percentile_ex_nulls\": 0.7737606763839722, \"percentile_inc_nulls\": 0.7737606763839722, \"value_count\": 70, \"group_name\": \"first_name\", \"total_non_null_rows\": 18034, \"total_rows_inc_nulls\": 18034, \"sum_tokens_in_value_count_group\": 70.0, \"distinct_value_count\": 1886}, {\"percentile_ex_nulls\": 0.7661084532737732, \"percentile_inc_nulls\": 0.7661084532737732, \"value_count\": 69, \"group_name\": \"first_name\", \"total_non_null_rows\": 18034, \"total_rows_inc_nulls\": 18034, \"sum_tokens_in_value_count_group\": 138.0, \"distinct_value_count\": 1886}, {\"percentile_ex_nulls\": 0.7623378038406372, \"percentile_inc_nulls\": 0.7623378038406372, \"value_count\": 68, \"group_name\": \"first_name\", \"total_non_null_rows\": 18034, \"total_rows_inc_nulls\": 18034, \"sum_tokens_in_value_count_group\": 68.0, \"distinct_value_count\": 1886}, {\"percentile_ex_nulls\": 0.7549073696136475, \"percentile_inc_nulls\": 0.7549073696136475, \"value_count\": 67, \"group_name\": \"first_name\", \"total_non_null_rows\": 18034, \"total_rows_inc_nulls\": 18034, \"sum_tokens_in_value_count_group\": 134.0, \"distinct_value_count\": 1886}, {\"percentile_ex_nulls\": 0.7513585090637207, \"percentile_inc_nulls\": 0.7513585090637207, \"value_count\": 64, \"group_name\": \"first_name\", \"total_non_null_rows\": 18034, \"total_rows_inc_nulls\": 18034, \"sum_tokens_in_value_count_group\": 64.0, \"distinct_value_count\": 1886}, {\"percentile_ex_nulls\": 0.7478651404380798, \"percentile_inc_nulls\": 0.7478651404380798, \"value_count\": 63, \"group_name\": \"first_name\", \"total_non_null_rows\": 18034, \"total_rows_inc_nulls\": 18034, \"sum_tokens_in_value_count_group\": 63.0, \"distinct_value_count\": 1886}, {\"percentile_ex_nulls\": 0.7375513315200806, \"percentile_inc_nulls\": 0.7375513315200806, \"value_count\": 62, \"group_name\": \"first_name\", \"total_non_null_rows\": 18034, \"total_rows_inc_nulls\": 18034, \"sum_tokens_in_value_count_group\": 186.0, \"distinct_value_count\": 1886}, {\"percentile_ex_nulls\": 0.7307863235473633, \"percentile_inc_nulls\": 0.7307863235473633, \"value_count\": 61, \"group_name\": \"first_name\", \"total_non_null_rows\": 18034, \"total_rows_inc_nulls\": 18034, \"sum_tokens_in_value_count_group\": 122.0, \"distinct_value_count\": 1886}, {\"percentile_ex_nulls\": 0.7274592518806458, \"percentile_inc_nulls\": 0.7274592518806458, \"value_count\": 60, \"group_name\": \"first_name\", \"total_non_null_rows\": 18034, \"total_rows_inc_nulls\": 18034, \"sum_tokens_in_value_count_group\": 60.0, \"distinct_value_count\": 1886}, {\"percentile_ex_nulls\": 0.7209160327911377, \"percentile_inc_nulls\": 0.7209160327911377, \"value_count\": 59, \"group_name\": \"first_name\", \"total_non_null_rows\": 18034, \"total_rows_inc_nulls\": 18034, \"sum_tokens_in_value_count_group\": 118.0, \"distinct_value_count\": 1886}, {\"percentile_ex_nulls\": 0.7145946621894836, \"percentile_inc_nulls\": 0.7145946621894836, \"value_count\": 57, \"group_name\": \"first_name\", \"total_non_null_rows\": 18034, \"total_rows_inc_nulls\": 18034, \"sum_tokens_in_value_count_group\": 114.0, \"distinct_value_count\": 1886}, {\"percentile_ex_nulls\": 0.7052788734436035, \"percentile_inc_nulls\": 0.7052788734436035, \"value_count\": 56, \"group_name\": \"first_name\", \"total_non_null_rows\": 18034, \"total_rows_inc_nulls\": 18034, \"sum_tokens_in_value_count_group\": 168.0, \"distinct_value_count\": 1886}, {\"percentile_ex_nulls\": 0.6930797100067139, \"percentile_inc_nulls\": 0.6930797100067139, \"value_count\": 55, \"group_name\": \"first_name\", \"total_non_null_rows\": 18034, \"total_rows_inc_nulls\": 18034, \"sum_tokens_in_value_count_group\": 220.0, \"distinct_value_count\": 1886}, {\"percentile_ex_nulls\": 0.6811023950576782, \"percentile_inc_nulls\": 0.6811023950576782, \"value_count\": 54, \"group_name\": \"first_name\", \"total_non_null_rows\": 18034, \"total_rows_inc_nulls\": 18034, \"sum_tokens_in_value_count_group\": 216.0, \"distinct_value_count\": 1886}, {\"percentile_ex_nulls\": 0.6782189607620239, \"percentile_inc_nulls\": 0.6782189607620239, \"value_count\": 52, \"group_name\": \"first_name\", \"total_non_null_rows\": 18034, \"total_rows_inc_nulls\": 18034, \"sum_tokens_in_value_count_group\": 52.0, \"distinct_value_count\": 1886}, {\"percentile_ex_nulls\": 0.6753909587860107, \"percentile_inc_nulls\": 0.6753909587860107, \"value_count\": 51, \"group_name\": \"first_name\", \"total_non_null_rows\": 18034, \"total_rows_inc_nulls\": 18034, \"sum_tokens_in_value_count_group\": 51.0, \"distinct_value_count\": 1886}, {\"percentile_ex_nulls\": 0.6670733094215393, \"percentile_inc_nulls\": 0.6670733094215393, \"value_count\": 50, \"group_name\": \"first_name\", \"total_non_null_rows\": 18034, \"total_rows_inc_nulls\": 18034, \"sum_tokens_in_value_count_group\": 150.0, \"distinct_value_count\": 1886}, {\"percentile_ex_nulls\": 0.6562049388885498, \"percentile_inc_nulls\": 0.6562049388885498, \"value_count\": 49, \"group_name\": \"first_name\", \"total_non_null_rows\": 18034, \"total_rows_inc_nulls\": 18034, \"sum_tokens_in_value_count_group\": 196.0, \"distinct_value_count\": 1886}, {\"percentile_ex_nulls\": 0.6508816480636597, \"percentile_inc_nulls\": 0.6508816480636597, \"value_count\": 48, \"group_name\": \"first_name\", \"total_non_null_rows\": 18034, \"total_rows_inc_nulls\": 18034, \"sum_tokens_in_value_count_group\": 96.0, \"distinct_value_count\": 1886}, {\"percentile_ex_nulls\": 0.6456692814826965, \"percentile_inc_nulls\": 0.6456692814826965, \"value_count\": 47, \"group_name\": \"first_name\", \"total_non_null_rows\": 18034, \"total_rows_inc_nulls\": 18034, \"sum_tokens_in_value_count_group\": 94.0, \"distinct_value_count\": 1886}, {\"percentile_ex_nulls\": 0.6405677795410156, \"percentile_inc_nulls\": 0.6405677795410156, \"value_count\": 46, \"group_name\": \"first_name\", \"total_non_null_rows\": 18034, \"total_rows_inc_nulls\": 18034, \"sum_tokens_in_value_count_group\": 92.0, \"distinct_value_count\": 1886}, {\"percentile_ex_nulls\": 0.6305866837501526, \"percentile_inc_nulls\": 0.6305866837501526, \"value_count\": 45, \"group_name\": \"first_name\", \"total_non_null_rows\": 18034, \"total_rows_inc_nulls\": 18034, \"sum_tokens_in_value_count_group\": 180.0, \"distinct_value_count\": 1886}, {\"percentile_ex_nulls\": 0.6257070302963257, \"percentile_inc_nulls\": 0.6257070302963257, \"value_count\": 44, \"group_name\": \"first_name\", \"total_non_null_rows\": 18034, \"total_rows_inc_nulls\": 18034, \"sum_tokens_in_value_count_group\": 88.0, \"distinct_value_count\": 1886}, {\"percentile_ex_nulls\": 0.618553876876831, \"percentile_inc_nulls\": 0.618553876876831, \"value_count\": 43, \"group_name\": \"first_name\", \"total_non_null_rows\": 18034, \"total_rows_inc_nulls\": 18034, \"sum_tokens_in_value_count_group\": 129.0, \"distinct_value_count\": 1886}, {\"percentile_ex_nulls\": 0.6092381477355957, \"percentile_inc_nulls\": 0.6092381477355957, \"value_count\": 42, \"group_name\": \"first_name\", \"total_non_null_rows\": 18034, \"total_rows_inc_nulls\": 18034, \"sum_tokens_in_value_count_group\": 168.0, \"distinct_value_count\": 1886}, {\"percentile_ex_nulls\": 0.6069645881652832, \"percentile_inc_nulls\": 0.6069645881652832, \"value_count\": 41, \"group_name\": \"first_name\", \"total_non_null_rows\": 18034, \"total_rows_inc_nulls\": 18034, \"sum_tokens_in_value_count_group\": 41.0, \"distinct_value_count\": 1886}, {\"percentile_ex_nulls\": 0.6003105640411377, \"percentile_inc_nulls\": 0.6003105640411377, \"value_count\": 40, \"group_name\": \"first_name\", \"total_non_null_rows\": 18034, \"total_rows_inc_nulls\": 18034, \"sum_tokens_in_value_count_group\": 120.0, \"distinct_value_count\": 1886}, {\"percentile_ex_nulls\": 0.5897748470306396, \"percentile_inc_nulls\": 0.5897748470306396, \"value_count\": 38, \"group_name\": \"first_name\", \"total_non_null_rows\": 18034, \"total_rows_inc_nulls\": 18034, \"sum_tokens_in_value_count_group\": 190.0, \"distinct_value_count\": 1886}, {\"percentile_ex_nulls\": 0.5815681219100952, \"percentile_inc_nulls\": 0.5815681219100952, \"value_count\": 37, \"group_name\": \"first_name\", \"total_non_null_rows\": 18034, \"total_rows_inc_nulls\": 18034, \"sum_tokens_in_value_count_group\": 148.0, \"distinct_value_count\": 1886}, {\"percentile_ex_nulls\": 0.57757568359375, \"percentile_inc_nulls\": 0.57757568359375, \"value_count\": 36, \"group_name\": \"first_name\", \"total_non_null_rows\": 18034, \"total_rows_inc_nulls\": 18034, \"sum_tokens_in_value_count_group\": 72.0, \"distinct_value_count\": 1886}, {\"percentile_ex_nulls\": 0.5717533826828003, \"percentile_inc_nulls\": 0.5717533826828003, \"value_count\": 35, \"group_name\": \"first_name\", \"total_non_null_rows\": 18034, \"total_rows_inc_nulls\": 18034, \"sum_tokens_in_value_count_group\": 105.0, \"distinct_value_count\": 1886}, {\"percentile_ex_nulls\": 0.5660973787307739, \"percentile_inc_nulls\": 0.5660973787307739, \"value_count\": 34, \"group_name\": \"first_name\", \"total_non_null_rows\": 18034, \"total_rows_inc_nulls\": 18034, \"sum_tokens_in_value_count_group\": 102.0, \"distinct_value_count\": 1886}, {\"percentile_ex_nulls\": 0.5551180839538574, \"percentile_inc_nulls\": 0.5551180839538574, \"value_count\": 33, \"group_name\": \"first_name\", \"total_non_null_rows\": 18034, \"total_rows_inc_nulls\": 18034, \"sum_tokens_in_value_count_group\": 198.0, \"distinct_value_count\": 1886}, {\"percentile_ex_nulls\": 0.5444715619087219, \"percentile_inc_nulls\": 0.5444715619087219, \"value_count\": 32, \"group_name\": \"first_name\", \"total_non_null_rows\": 18034, \"total_rows_inc_nulls\": 18034, \"sum_tokens_in_value_count_group\": 192.0, \"distinct_value_count\": 1886}, {\"percentile_ex_nulls\": 0.5393146276473999, \"percentile_inc_nulls\": 0.5393146276473999, \"value_count\": 31, \"group_name\": \"first_name\", \"total_non_null_rows\": 18034, \"total_rows_inc_nulls\": 18034, \"sum_tokens_in_value_count_group\": 93.0, \"distinct_value_count\": 1886}, {\"percentile_ex_nulls\": 0.5309970378875732, \"percentile_inc_nulls\": 0.5309970378875732, \"value_count\": 30, \"group_name\": \"first_name\", \"total_non_null_rows\": 18034, \"total_rows_inc_nulls\": 18034, \"sum_tokens_in_value_count_group\": 150.0, \"distinct_value_count\": 1886}, {\"percentile_ex_nulls\": 0.5213485956192017, \"percentile_inc_nulls\": 0.5213485956192017, \"value_count\": 29, \"group_name\": \"first_name\", \"total_non_null_rows\": 18034, \"total_rows_inc_nulls\": 18034, \"sum_tokens_in_value_count_group\": 174.0, \"distinct_value_count\": 1886}, {\"percentile_ex_nulls\": 0.5151380300521851, \"percentile_inc_nulls\": 0.5151380300521851, \"value_count\": 28, \"group_name\": \"first_name\", \"total_non_null_rows\": 18034, \"total_rows_inc_nulls\": 18034, \"sum_tokens_in_value_count_group\": 112.0, \"distinct_value_count\": 1886}, {\"percentile_ex_nulls\": 0.5031607151031494, \"percentile_inc_nulls\": 0.5031607151031494, \"value_count\": 27, \"group_name\": \"first_name\", \"total_non_null_rows\": 18034, \"total_rows_inc_nulls\": 18034, \"sum_tokens_in_value_count_group\": 216.0, \"distinct_value_count\": 1886}, {\"percentile_ex_nulls\": 0.4930686354637146, \"percentile_inc_nulls\": 0.4930686354637146, \"value_count\": 26, \"group_name\": \"first_name\", \"total_non_null_rows\": 18034, \"total_rows_inc_nulls\": 18034, \"sum_tokens_in_value_count_group\": 182.0, \"distinct_value_count\": 1886}, {\"percentile_ex_nulls\": 0.48475104570388794, \"percentile_inc_nulls\": 0.48475104570388794, \"value_count\": 25, \"group_name\": \"first_name\", \"total_non_null_rows\": 18034, \"total_rows_inc_nulls\": 18034, \"sum_tokens_in_value_count_group\": 150.0, \"distinct_value_count\": 1886}, {\"percentile_ex_nulls\": 0.47011202573776245, \"percentile_inc_nulls\": 0.47011202573776245, \"value_count\": 24, \"group_name\": \"first_name\", \"total_non_null_rows\": 18034, \"total_rows_inc_nulls\": 18034, \"sum_tokens_in_value_count_group\": 264.0, \"distinct_value_count\": 1886}, {\"percentile_ex_nulls\": 0.46118444204330444, \"percentile_inc_nulls\": 0.46118444204330444, \"value_count\": 23, \"group_name\": \"first_name\", \"total_non_null_rows\": 18034, \"total_rows_inc_nulls\": 18034, \"sum_tokens_in_value_count_group\": 161.0, \"distinct_value_count\": 1886}, {\"percentile_ex_nulls\": 0.4441055655479431, \"percentile_inc_nulls\": 0.4441055655479431, \"value_count\": 22, \"group_name\": \"first_name\", \"total_non_null_rows\": 18034, \"total_rows_inc_nulls\": 18034, \"sum_tokens_in_value_count_group\": 308.0, \"distinct_value_count\": 1886}, {\"percentile_ex_nulls\": 0.4324609041213989, \"percentile_inc_nulls\": 0.4324609041213989, \"value_count\": 21, \"group_name\": \"first_name\", \"total_non_null_rows\": 18034, \"total_rows_inc_nulls\": 18034, \"sum_tokens_in_value_count_group\": 210.0, \"distinct_value_count\": 1886}, {\"percentile_ex_nulls\": 0.4246978163719177, \"percentile_inc_nulls\": 0.4246978163719177, \"value_count\": 20, \"group_name\": \"first_name\", \"total_non_null_rows\": 18034, \"total_rows_inc_nulls\": 18034, \"sum_tokens_in_value_count_group\": 140.0, \"distinct_value_count\": 1886}, {\"percentile_ex_nulls\": 0.405733585357666, \"percentile_inc_nulls\": 0.405733585357666, \"value_count\": 19, \"group_name\": \"first_name\", \"total_non_null_rows\": 18034, \"total_rows_inc_nulls\": 18034, \"sum_tokens_in_value_count_group\": 342.0, \"distinct_value_count\": 1886}, {\"percentile_ex_nulls\": 0.395752489566803, \"percentile_inc_nulls\": 0.395752489566803, \"value_count\": 18, \"group_name\": \"first_name\", \"total_non_null_rows\": 18034, \"total_rows_inc_nulls\": 18034, \"sum_tokens_in_value_count_group\": 180.0, \"distinct_value_count\": 1886}, {\"percentile_ex_nulls\": 0.38066983222961426, \"percentile_inc_nulls\": 0.38066983222961426, \"value_count\": 17, \"group_name\": \"first_name\", \"total_non_null_rows\": 18034, \"total_rows_inc_nulls\": 18034, \"sum_tokens_in_value_count_group\": 272.0, \"distinct_value_count\": 1886}, {\"percentile_ex_nulls\": 0.3647000193595886, \"percentile_inc_nulls\": 0.3647000193595886, \"value_count\": 16, \"group_name\": \"first_name\", \"total_non_null_rows\": 18034, \"total_rows_inc_nulls\": 18034, \"sum_tokens_in_value_count_group\": 288.0, \"distinct_value_count\": 1886}, {\"percentile_ex_nulls\": 0.344737708568573, \"percentile_inc_nulls\": 0.344737708568573, \"value_count\": 15, \"group_name\": \"first_name\", \"total_non_null_rows\": 18034, \"total_rows_inc_nulls\": 18034, \"sum_tokens_in_value_count_group\": 360.0, \"distinct_value_count\": 1886}, {\"percentile_ex_nulls\": 0.3214483857154846, \"percentile_inc_nulls\": 0.3214483857154846, \"value_count\": 14, \"group_name\": \"first_name\", \"total_non_null_rows\": 18034, \"total_rows_inc_nulls\": 18034, \"sum_tokens_in_value_count_group\": 420.0, \"distinct_value_count\": 1886}, {\"percentile_ex_nulls\": 0.3084728717803955, \"percentile_inc_nulls\": 0.3084728717803955, \"value_count\": 13, \"group_name\": \"first_name\", \"total_non_null_rows\": 18034, \"total_rows_inc_nulls\": 18034, \"sum_tokens_in_value_count_group\": 234.0, \"distinct_value_count\": 1886}, {\"percentile_ex_nulls\": 0.2838526964187622, \"percentile_inc_nulls\": 0.2838526964187622, \"value_count\": 12, \"group_name\": \"first_name\", \"total_non_null_rows\": 18034, \"total_rows_inc_nulls\": 18034, \"sum_tokens_in_value_count_group\": 444.0, \"distinct_value_count\": 1886}, {\"percentile_ex_nulls\": 0.26860374212265015, \"percentile_inc_nulls\": 0.26860374212265015, \"value_count\": 11, \"group_name\": \"first_name\", \"total_non_null_rows\": 18034, \"total_rows_inc_nulls\": 18034, \"sum_tokens_in_value_count_group\": 275.0, \"distinct_value_count\": 1886}, {\"percentile_ex_nulls\": 0.24697792530059814, \"percentile_inc_nulls\": 0.24697792530059814, \"value_count\": 10, \"group_name\": \"first_name\", \"total_non_null_rows\": 18034, \"total_rows_inc_nulls\": 18034, \"sum_tokens_in_value_count_group\": 390.0, \"distinct_value_count\": 1886}, {\"percentile_ex_nulls\": 0.2310081124305725, \"percentile_inc_nulls\": 0.2310081124305725, \"value_count\": 9, \"group_name\": \"first_name\", \"total_non_null_rows\": 18034, \"total_rows_inc_nulls\": 18034, \"sum_tokens_in_value_count_group\": 288.0, \"distinct_value_count\": 1886}, {\"percentile_ex_nulls\": 0.20616614818572998, \"percentile_inc_nulls\": 0.20616614818572998, \"value_count\": 8, \"group_name\": \"first_name\", \"total_non_null_rows\": 18034, \"total_rows_inc_nulls\": 18034, \"sum_tokens_in_value_count_group\": 448.0, \"distinct_value_count\": 1886}, {\"percentile_ex_nulls\": 0.18831098079681396, \"percentile_inc_nulls\": 0.18831098079681396, \"value_count\": 7, \"group_name\": \"first_name\", \"total_non_null_rows\": 18034, \"total_rows_inc_nulls\": 18034, \"sum_tokens_in_value_count_group\": 322.0, \"distinct_value_count\": 1886}, {\"percentile_ex_nulls\": 0.1573694348335266, \"percentile_inc_nulls\": 0.1573694348335266, \"value_count\": 6, \"group_name\": \"first_name\", \"total_non_null_rows\": 18034, \"total_rows_inc_nulls\": 18034, \"sum_tokens_in_value_count_group\": 558.0, \"distinct_value_count\": 1886}, {\"percentile_ex_nulls\": 0.14212042093276978, \"percentile_inc_nulls\": 0.14212042093276978, \"value_count\": 5, \"group_name\": \"first_name\", \"total_non_null_rows\": 18034, \"total_rows_inc_nulls\": 18034, \"sum_tokens_in_value_count_group\": 275.0, \"distinct_value_count\": 1886}, {\"percentile_ex_nulls\": 0.10286128520965576, \"percentile_inc_nulls\": 0.10286128520965576, \"value_count\": 4, \"group_name\": \"first_name\", \"total_non_null_rows\": 18034, \"total_rows_inc_nulls\": 18034, \"sum_tokens_in_value_count_group\": 708.0, \"distinct_value_count\": 1886}, {\"percentile_ex_nulls\": 0.08955305814743042, \"percentile_inc_nulls\": 0.08955305814743042, \"value_count\": 3, \"group_name\": \"first_name\", \"total_non_null_rows\": 18034, \"total_rows_inc_nulls\": 18034, \"sum_tokens_in_value_count_group\": 240.0, \"distinct_value_count\": 1886}, {\"percentile_ex_nulls\": 0.010591089725494385, \"percentile_inc_nulls\": 0.010591089725494385, \"value_count\": 2, \"group_name\": \"first_name\", \"total_non_null_rows\": 18034, \"total_rows_inc_nulls\": 18034, \"sum_tokens_in_value_count_group\": 1424.0, \"distinct_value_count\": 1886}, {\"percentile_ex_nulls\": 0.0, \"percentile_inc_nulls\": 0.0, \"value_count\": 1, \"group_name\": \"first_name\", \"total_non_null_rows\": 18034, \"total_rows_inc_nulls\": 18034, \"sum_tokens_in_value_count_group\": 191.0, \"distinct_value_count\": 1886}, {\"percentile_ex_nulls\": 1.0, \"percentile_inc_nulls\": 1.0, \"value_count\": 306, \"group_name\": \"first_name\", \"total_non_null_rows\": 18034, \"total_rows_inc_nulls\": 18034, \"sum_tokens_in_value_count_group\": 306.0, \"distinct_value_count\": 1886}]}, \"mark\": {\"type\": \"line\", \"interpolate\": \"step-after\"}, \"encoding\": {\"x\": {\"type\": \"quantitative\", \"field\": \"percentile_ex_nulls\", \"sort\": \"descending\", \"title\": \"Percentile\"}, \"y\": {\"type\": \"quantitative\", \"field\": \"value_count\", \"title\": \"Count of values\"}, \"tooltip\": [{\"field\": \"value_count\", \"type\": \"quantitative\"}, {\"field\": \"percentile_ex_nulls\", \"type\": \"quantitative\"}, {\"field\": \"percentile_inc_nulls\", \"type\": \"quantitative\"}, {\"field\": \"total_non_null_rows\", \"type\": \"quantitative\"}, {\"field\": \"total_rows_inc_nulls\", \"type\": \"quantitative\"}]}, \"title\": {\"text\": \"Distribution of counts of values in column first_name\", \"subtitle\": \"In this col, 0 values (0.0%) are null and there are 1886 distinct values\"}}, {\"data\": {\"values\": [{\"value_count\": 306, \"group_name\": \"first_name\", \"value\": \"James\", \"total_non_null_rows\": 18034, \"total_rows_inc_nulls\": 18034, \"distinct_value_count\": 1886}, {\"value_count\": 294, \"group_name\": \"first_name\", \"value\": \"Michael\", \"total_non_null_rows\": 18034, \"total_rows_inc_nulls\": 18034, \"distinct_value_count\": 1886}, {\"value_count\": 258, \"group_name\": \"first_name\", \"value\": \"William\", \"total_non_null_rows\": 18034, \"total_rows_inc_nulls\": 18034, \"distinct_value_count\": 1886}, {\"value_count\": 215, \"group_name\": \"first_name\", \"value\": \"Mary\", \"total_non_null_rows\": 18034, \"total_rows_inc_nulls\": 18034, \"distinct_value_count\": 1886}, {\"value_count\": 191, \"group_name\": \"first_name\", \"value\": \"Charles\", \"total_non_null_rows\": 18034, \"total_rows_inc_nulls\": 18034, \"distinct_value_count\": 1886}, {\"value_count\": 189, \"group_name\": \"first_name\", \"value\": \"Robert\", \"total_non_null_rows\": 18034, \"total_rows_inc_nulls\": 18034, \"distinct_value_count\": 1886}, {\"value_count\": 175, \"group_name\": \"first_name\", \"value\": \"John\", \"total_non_null_rows\": 18034, \"total_rows_inc_nulls\": 18034, \"distinct_value_count\": 1886}, {\"value_count\": 172, \"group_name\": \"first_name\", \"value\": \"David\", \"total_non_null_rows\": 18034, \"total_rows_inc_nulls\": 18034, \"distinct_value_count\": 1886}, {\"value_count\": 155, \"group_name\": \"first_name\", \"value\": \"Christopher\", \"total_non_null_rows\": 18034, \"total_rows_inc_nulls\": 18034, \"distinct_value_count\": 1886}, {\"value_count\": 147, \"group_name\": \"first_name\", \"value\": \"Richard\", \"total_non_null_rows\": 18034, \"total_rows_inc_nulls\": 18034, \"distinct_value_count\": 1886}]}, \"mark\": \"bar\", \"encoding\": {\"x\": {\"type\": \"nominal\", \"field\": \"value\", \"sort\": \"-y\", \"title\": null}, \"y\": {\"type\": \"quantitative\", \"field\": \"value_count\", \"title\": \"Value count\"}, \"tooltip\": [{\"field\": \"value\", \"type\": \"nominal\"}, {\"field\": \"value_count\", \"type\": \"quantitative\"}, {\"field\": \"total_non_null_rows\", \"type\": \"quantitative\"}, {\"field\": \"total_rows_inc_nulls\", \"type\": \"quantitative\"}]}, \"title\": \"Top 10 values by value count\"}, {\"data\": {\"values\": [{\"value_count\": 1, \"group_name\": \"first_name\", \"value\": \"Everleigh\", \"total_non_null_rows\": 18034, \"total_rows_inc_nulls\": 18034, \"distinct_value_count\": 1886}, {\"value_count\": 1, \"group_name\": \"first_name\", \"value\": \"Reid\", \"total_non_null_rows\": 18034, \"total_rows_inc_nulls\": 18034, \"distinct_value_count\": 1886}, {\"value_count\": 1, \"group_name\": \"first_name\", \"value\": \"Emilee\", \"total_non_null_rows\": 18034, \"total_rows_inc_nulls\": 18034, \"distinct_value_count\": 1886}, {\"value_count\": 1, \"group_name\": \"first_name\", \"value\": \"Guy\", \"total_non_null_rows\": 18034, \"total_rows_inc_nulls\": 18034, \"distinct_value_count\": 1886}, {\"value_count\": 1, \"group_name\": \"first_name\", \"value\": \"Amiya\", \"total_non_null_rows\": 18034, \"total_rows_inc_nulls\": 18034, \"distinct_value_count\": 1886}, {\"value_count\": 1, \"group_name\": \"first_name\", \"value\": \"Angelica\", \"total_non_null_rows\": 18034, \"total_rows_inc_nulls\": 18034, \"distinct_value_count\": 1886}, {\"value_count\": 1, \"group_name\": \"first_name\", \"value\": \"Macie\", \"total_non_null_rows\": 18034, \"total_rows_inc_nulls\": 18034, \"distinct_value_count\": 1886}, {\"value_count\": 1, \"group_name\": \"first_name\", \"value\": \"Ernesto\", \"total_non_null_rows\": 18034, \"total_rows_inc_nulls\": 18034, \"distinct_value_count\": 1886}, {\"value_count\": 1, \"group_name\": \"first_name\", \"value\": \"Lora\", \"total_non_null_rows\": 18034, \"total_rows_inc_nulls\": 18034, \"distinct_value_count\": 1886}, {\"value_count\": 1, \"group_name\": \"first_name\", \"value\": \"Chandra\", \"total_non_null_rows\": 18034, \"total_rows_inc_nulls\": 18034, \"distinct_value_count\": 1886}]}, \"mark\": \"bar\", \"encoding\": {\"x\": {\"type\": \"nominal\", \"field\": \"value\", \"sort\": \"-y\", \"title\": null}, \"y\": {\"type\": \"quantitative\", \"field\": \"value_count\", \"title\": \"Value count\", \"scale\": {\"domain\": [0, 306]}}, \"tooltip\": [{\"field\": \"value\", \"type\": \"nominal\"}, {\"field\": \"value_count\", \"type\": \"quantitative\"}, {\"field\": \"total_non_null_rows\", \"type\": \"quantitative\"}, {\"field\": \"total_rows_inc_nulls\", \"type\": \"quantitative\"}]}, \"title\": \"Bottom 10 values by value count\"}]}, {\"hconcat\": [{\"data\": {\"values\": [{\"percentile_ex_nulls\": 0.9920150637626648, \"percentile_inc_nulls\": 0.9920150637626648, \"value_count\": 144, \"group_name\": \"last_name\", \"total_non_null_rows\": 18034, \"total_rows_inc_nulls\": 18034, \"sum_tokens_in_value_count_group\": 144.0, \"distinct_value_count\": 5800}, {\"percentile_ex_nulls\": 0.9854164123535156, \"percentile_inc_nulls\": 0.9854164123535156, \"value_count\": 119, \"group_name\": \"last_name\", \"total_non_null_rows\": 18034, \"total_rows_inc_nulls\": 18034, \"sum_tokens_in_value_count_group\": 119.0, \"distinct_value_count\": 5800}, {\"percentile_ex_nulls\": 0.9792613983154297, \"percentile_inc_nulls\": 0.9792613983154297, \"value_count\": 111, \"group_name\": \"last_name\", \"total_non_null_rows\": 18034, \"total_rows_inc_nulls\": 18034, \"sum_tokens_in_value_count_group\": 111.0, \"distinct_value_count\": 5800}, {\"percentile_ex_nulls\": 0.9732726812362671, \"percentile_inc_nulls\": 0.9732726812362671, \"value_count\": 108, \"group_name\": \"last_name\", \"total_non_null_rows\": 18034, \"total_rows_inc_nulls\": 18034, \"sum_tokens_in_value_count_group\": 108.0, \"distinct_value_count\": 5800}, {\"percentile_ex_nulls\": 0.9673949480056763, \"percentile_inc_nulls\": 0.9673949480056763, \"value_count\": 106, \"group_name\": \"last_name\", \"total_non_null_rows\": 18034, \"total_rows_inc_nulls\": 18034, \"sum_tokens_in_value_count_group\": 106.0, \"distinct_value_count\": 5800}, {\"percentile_ex_nulls\": 0.9621270895004272, \"percentile_inc_nulls\": 0.9621270895004272, \"value_count\": 95, \"group_name\": \"last_name\", \"total_non_null_rows\": 18034, \"total_rows_inc_nulls\": 18034, \"sum_tokens_in_value_count_group\": 95.0, \"distinct_value_count\": 5800}, {\"percentile_ex_nulls\": 0.9569147229194641, \"percentile_inc_nulls\": 0.9569147229194641, \"value_count\": 94, \"group_name\": \"last_name\", \"total_non_null_rows\": 18034, \"total_rows_inc_nulls\": 18034, \"sum_tokens_in_value_count_group\": 94.0, \"distinct_value_count\": 5800}, {\"percentile_ex_nulls\": 0.9522568583488464, \"percentile_inc_nulls\": 0.9522568583488464, \"value_count\": 84, \"group_name\": \"last_name\", \"total_non_null_rows\": 18034, \"total_rows_inc_nulls\": 18034, \"sum_tokens_in_value_count_group\": 84.0, \"distinct_value_count\": 5800}, {\"percentile_ex_nulls\": 0.9476544260978699, \"percentile_inc_nulls\": 0.9476544260978699, \"value_count\": 83, \"group_name\": \"last_name\", \"total_non_null_rows\": 18034, \"total_rows_inc_nulls\": 18034, \"sum_tokens_in_value_count_group\": 83.0, \"distinct_value_count\": 5800}, {\"percentile_ex_nulls\": 0.9431629180908203, \"percentile_inc_nulls\": 0.9431629180908203, \"value_count\": 81, \"group_name\": \"last_name\", \"total_non_null_rows\": 18034, \"total_rows_inc_nulls\": 18034, \"sum_tokens_in_value_count_group\": 81.0, \"distinct_value_count\": 5800}, {\"percentile_ex_nulls\": 0.9395031332969666, \"percentile_inc_nulls\": 0.9395031332969666, \"value_count\": 66, \"group_name\": \"last_name\", \"total_non_null_rows\": 18034, \"total_rows_inc_nulls\": 18034, \"sum_tokens_in_value_count_group\": 66.0, \"distinct_value_count\": 5800}, {\"percentile_ex_nulls\": 0.9360097646713257, \"percentile_inc_nulls\": 0.9360097646713257, \"value_count\": 63, \"group_name\": \"last_name\", \"total_non_null_rows\": 18034, \"total_rows_inc_nulls\": 18034, \"sum_tokens_in_value_count_group\": 63.0, \"distinct_value_count\": 5800}, {\"percentile_ex_nulls\": 0.932738184928894, \"percentile_inc_nulls\": 0.932738184928894, \"value_count\": 59, \"group_name\": \"last_name\", \"total_non_null_rows\": 18034, \"total_rows_inc_nulls\": 18034, \"sum_tokens_in_value_count_group\": 59.0, \"distinct_value_count\": 5800}, {\"percentile_ex_nulls\": 0.9266386032104492, \"percentile_inc_nulls\": 0.9266386032104492, \"value_count\": 55, \"group_name\": \"last_name\", \"total_non_null_rows\": 18034, \"total_rows_inc_nulls\": 18034, \"sum_tokens_in_value_count_group\": 110.0, \"distinct_value_count\": 5800}, {\"percentile_ex_nulls\": 0.923810601234436, \"percentile_inc_nulls\": 0.923810601234436, \"value_count\": 51, \"group_name\": \"last_name\", \"total_non_null_rows\": 18034, \"total_rows_inc_nulls\": 18034, \"sum_tokens_in_value_count_group\": 51.0, \"distinct_value_count\": 5800}, {\"percentile_ex_nulls\": 0.921038031578064, \"percentile_inc_nulls\": 0.921038031578064, \"value_count\": 50, \"group_name\": \"last_name\", \"total_non_null_rows\": 18034, \"total_rows_inc_nulls\": 18034, \"sum_tokens_in_value_count_group\": 50.0, \"distinct_value_count\": 5800}, {\"percentile_ex_nulls\": 0.9156038761138916, \"percentile_inc_nulls\": 0.9156038761138916, \"value_count\": 49, \"group_name\": \"last_name\", \"total_non_null_rows\": 18034, \"total_rows_inc_nulls\": 18034, \"sum_tokens_in_value_count_group\": 98.0, \"distinct_value_count\": 5800}, {\"percentile_ex_nulls\": 0.9107241630554199, \"percentile_inc_nulls\": 0.9107241630554199, \"value_count\": 44, \"group_name\": \"last_name\", \"total_non_null_rows\": 18034, \"total_rows_inc_nulls\": 18034, \"sum_tokens_in_value_count_group\": 88.0, \"distinct_value_count\": 5800}, {\"percentile_ex_nulls\": 0.90595543384552, \"percentile_inc_nulls\": 0.90595543384552, \"value_count\": 43, \"group_name\": \"last_name\", \"total_non_null_rows\": 18034, \"total_rows_inc_nulls\": 18034, \"sum_tokens_in_value_count_group\": 86.0, \"distinct_value_count\": 5800}, {\"percentile_ex_nulls\": 0.9012975692749023, \"percentile_inc_nulls\": 0.9012975692749023, \"value_count\": 42, \"group_name\": \"last_name\", \"total_non_null_rows\": 18034, \"total_rows_inc_nulls\": 18034, \"sum_tokens_in_value_count_group\": 84.0, \"distinct_value_count\": 5800}, {\"percentile_ex_nulls\": 0.8967505693435669, \"percentile_inc_nulls\": 0.8967505693435669, \"value_count\": 41, \"group_name\": \"last_name\", \"total_non_null_rows\": 18034, \"total_rows_inc_nulls\": 18034, \"sum_tokens_in_value_count_group\": 82.0, \"distinct_value_count\": 5800}, {\"percentile_ex_nulls\": 0.8900964856147766, \"percentile_inc_nulls\": 0.8900964856147766, \"value_count\": 40, \"group_name\": \"last_name\", \"total_non_null_rows\": 18034, \"total_rows_inc_nulls\": 18034, \"sum_tokens_in_value_count_group\": 120.0, \"distinct_value_count\": 5800}, {\"percentile_ex_nulls\": 0.8857713341712952, \"percentile_inc_nulls\": 0.8857713341712952, \"value_count\": 39, \"group_name\": \"last_name\", \"total_non_null_rows\": 18034, \"total_rows_inc_nulls\": 18034, \"sum_tokens_in_value_count_group\": 78.0, \"distinct_value_count\": 5800}, {\"percentile_ex_nulls\": 0.8837196230888367, \"percentile_inc_nulls\": 0.8837196230888367, \"value_count\": 37, \"group_name\": \"last_name\", \"total_non_null_rows\": 18034, \"total_rows_inc_nulls\": 18034, \"sum_tokens_in_value_count_group\": 37.0, \"distinct_value_count\": 5800}, {\"percentile_ex_nulls\": 0.8817234039306641, \"percentile_inc_nulls\": 0.8817234039306641, \"value_count\": 36, \"group_name\": \"last_name\", \"total_non_null_rows\": 18034, \"total_rows_inc_nulls\": 18034, \"sum_tokens_in_value_count_group\": 36.0, \"distinct_value_count\": 5800}, {\"percentile_ex_nulls\": 0.8779527544975281, \"percentile_inc_nulls\": 0.8779527544975281, \"value_count\": 34, \"group_name\": \"last_name\", \"total_non_null_rows\": 18034, \"total_rows_inc_nulls\": 18034, \"sum_tokens_in_value_count_group\": 68.0, \"distinct_value_count\": 5800}, {\"percentile_ex_nulls\": 0.8724631071090698, \"percentile_inc_nulls\": 0.8724631071090698, \"value_count\": 33, \"group_name\": \"last_name\", \"total_non_null_rows\": 18034, \"total_rows_inc_nulls\": 18034, \"sum_tokens_in_value_count_group\": 99.0, \"distinct_value_count\": 5800}, {\"percentile_ex_nulls\": 0.8706886768341064, \"percentile_inc_nulls\": 0.8706886768341064, \"value_count\": 32, \"group_name\": \"last_name\", \"total_non_null_rows\": 18034, \"total_rows_inc_nulls\": 18034, \"sum_tokens_in_value_count_group\": 32.0, \"distinct_value_count\": 5800}, {\"percentile_ex_nulls\": 0.8638128042221069, \"percentile_inc_nulls\": 0.8638128042221069, \"value_count\": 31, \"group_name\": \"last_name\", \"total_non_null_rows\": 18034, \"total_rows_inc_nulls\": 18034, \"sum_tokens_in_value_count_group\": 124.0, \"distinct_value_count\": 5800}, {\"percentile_ex_nulls\": 0.8604857325553894, \"percentile_inc_nulls\": 0.8604857325553894, \"value_count\": 30, \"group_name\": \"last_name\", \"total_non_null_rows\": 18034, \"total_rows_inc_nulls\": 18034, \"sum_tokens_in_value_count_group\": 60.0, \"distinct_value_count\": 5800}, {\"percentile_ex_nulls\": 0.8540534377098083, \"percentile_inc_nulls\": 0.8540534377098083, \"value_count\": 29, \"group_name\": \"last_name\", \"total_non_null_rows\": 18034, \"total_rows_inc_nulls\": 18034, \"sum_tokens_in_value_count_group\": 116.0, \"distinct_value_count\": 5800}, {\"percentile_ex_nulls\": 0.8509482145309448, \"percentile_inc_nulls\": 0.8509482145309448, \"value_count\": 28, \"group_name\": \"last_name\", \"total_non_null_rows\": 18034, \"total_rows_inc_nulls\": 18034, \"sum_tokens_in_value_count_group\": 56.0, \"distinct_value_count\": 5800}, {\"percentile_ex_nulls\": 0.8479538559913635, \"percentile_inc_nulls\": 0.8479538559913635, \"value_count\": 27, \"group_name\": \"last_name\", \"total_non_null_rows\": 18034, \"total_rows_inc_nulls\": 18034, \"sum_tokens_in_value_count_group\": 54.0, \"distinct_value_count\": 5800}, {\"percentile_ex_nulls\": 0.8450704216957092, \"percentile_inc_nulls\": 0.8450704216957092, \"value_count\": 26, \"group_name\": \"last_name\", \"total_non_null_rows\": 18034, \"total_rows_inc_nulls\": 18034, \"sum_tokens_in_value_count_group\": 52.0, \"distinct_value_count\": 5800}, {\"percentile_ex_nulls\": 0.8422979116439819, \"percentile_inc_nulls\": 0.8422979116439819, \"value_count\": 25, \"group_name\": \"last_name\", \"total_non_null_rows\": 18034, \"total_rows_inc_nulls\": 18034, \"sum_tokens_in_value_count_group\": 50.0, \"distinct_value_count\": 5800}, {\"percentile_ex_nulls\": 0.834645688533783, \"percentile_inc_nulls\": 0.834645688533783, \"value_count\": 23, \"group_name\": \"last_name\", \"total_non_null_rows\": 18034, \"total_rows_inc_nulls\": 18034, \"sum_tokens_in_value_count_group\": 138.0, \"distinct_value_count\": 5800}, {\"percentile_ex_nulls\": 0.833425760269165, \"percentile_inc_nulls\": 0.833425760269165, \"value_count\": 22, \"group_name\": \"last_name\", \"total_non_null_rows\": 18034, \"total_rows_inc_nulls\": 18034, \"sum_tokens_in_value_count_group\": 22.0, \"distinct_value_count\": 5800}, {\"percentile_ex_nulls\": 0.8287678956985474, \"percentile_inc_nulls\": 0.8287678956985474, \"value_count\": 21, \"group_name\": \"last_name\", \"total_non_null_rows\": 18034, \"total_rows_inc_nulls\": 18034, \"sum_tokens_in_value_count_group\": 84.0, \"distinct_value_count\": 5800}, {\"percentile_ex_nulls\": 0.8243318200111389, \"percentile_inc_nulls\": 0.8243318200111389, \"value_count\": 20, \"group_name\": \"last_name\", \"total_non_null_rows\": 18034, \"total_rows_inc_nulls\": 18034, \"sum_tokens_in_value_count_group\": 80.0, \"distinct_value_count\": 5800}, {\"percentile_ex_nulls\": 0.8148497343063354, \"percentile_inc_nulls\": 0.8148497343063354, \"value_count\": 19, \"group_name\": \"last_name\", \"total_non_null_rows\": 18034, \"total_rows_inc_nulls\": 18034, \"sum_tokens_in_value_count_group\": 171.0, \"distinct_value_count\": 5800}, {\"percentile_ex_nulls\": 0.8078629374504089, \"percentile_inc_nulls\": 0.8078629374504089, \"value_count\": 18, \"group_name\": \"last_name\", \"total_non_null_rows\": 18034, \"total_rows_inc_nulls\": 18034, \"sum_tokens_in_value_count_group\": 126.0, \"distinct_value_count\": 5800}, {\"percentile_ex_nulls\": 0.8003215789794922, \"percentile_inc_nulls\": 0.8003215789794922, \"value_count\": 17, \"group_name\": \"last_name\", \"total_non_null_rows\": 18034, \"total_rows_inc_nulls\": 18034, \"sum_tokens_in_value_count_group\": 136.0, \"distinct_value_count\": 5800}, {\"percentile_ex_nulls\": 0.7923367023468018, \"percentile_inc_nulls\": 0.7923367023468018, \"value_count\": 16, \"group_name\": \"last_name\", \"total_non_null_rows\": 18034, \"total_rows_inc_nulls\": 18034, \"sum_tokens_in_value_count_group\": 144.0, \"distinct_value_count\": 5800}, {\"percentile_ex_nulls\": 0.7831873297691345, \"percentile_inc_nulls\": 0.7831873297691345, \"value_count\": 15, \"group_name\": \"last_name\", \"total_non_null_rows\": 18034, \"total_rows_inc_nulls\": 18034, \"sum_tokens_in_value_count_group\": 165.0, \"distinct_value_count\": 5800}, {\"percentile_ex_nulls\": 0.768437385559082, \"percentile_inc_nulls\": 0.768437385559082, \"value_count\": 14, \"group_name\": \"last_name\", \"total_non_null_rows\": 18034, \"total_rows_inc_nulls\": 18034, \"sum_tokens_in_value_count_group\": 266.0, \"distinct_value_count\": 5800}, {\"percentile_ex_nulls\": 0.758345365524292, \"percentile_inc_nulls\": 0.758345365524292, \"value_count\": 13, \"group_name\": \"last_name\", \"total_non_null_rows\": 18034, \"total_rows_inc_nulls\": 18034, \"sum_tokens_in_value_count_group\": 182.0, \"distinct_value_count\": 5800}, {\"percentile_ex_nulls\": 0.740379273891449, \"percentile_inc_nulls\": 0.740379273891449, \"value_count\": 12, \"group_name\": \"last_name\", \"total_non_null_rows\": 18034, \"total_rows_inc_nulls\": 18034, \"sum_tokens_in_value_count_group\": 324.0, \"distinct_value_count\": 5800}, {\"percentile_ex_nulls\": 0.7324498295783997, \"percentile_inc_nulls\": 0.7324498295783997, \"value_count\": 11, \"group_name\": \"last_name\", \"total_non_null_rows\": 18034, \"total_rows_inc_nulls\": 18034, \"sum_tokens_in_value_count_group\": 143.0, \"distinct_value_count\": 5800}, {\"percentile_ex_nulls\": 0.7108240127563477, \"percentile_inc_nulls\": 0.7108240127563477, \"value_count\": 10, \"group_name\": \"last_name\", \"total_non_null_rows\": 18034, \"total_rows_inc_nulls\": 18034, \"sum_tokens_in_value_count_group\": 390.0, \"distinct_value_count\": 5800}, {\"percentile_ex_nulls\": 0.6958522796630859, \"percentile_inc_nulls\": 0.6958522796630859, \"value_count\": 9, \"group_name\": \"last_name\", \"total_non_null_rows\": 18034, \"total_rows_inc_nulls\": 18034, \"sum_tokens_in_value_count_group\": 270.0, \"distinct_value_count\": 5800}, {\"percentile_ex_nulls\": 0.6714539527893066, \"percentile_inc_nulls\": 0.6714539527893066, \"value_count\": 8, \"group_name\": \"last_name\", \"total_non_null_rows\": 18034, \"total_rows_inc_nulls\": 18034, \"sum_tokens_in_value_count_group\": 440.0, \"distinct_value_count\": 5800}, {\"percentile_ex_nulls\": 0.6567040085792542, \"percentile_inc_nulls\": 0.6567040085792542, \"value_count\": 7, \"group_name\": \"last_name\", \"total_non_null_rows\": 18034, \"total_rows_inc_nulls\": 18034, \"sum_tokens_in_value_count_group\": 266.0, \"distinct_value_count\": 5800}, {\"percentile_ex_nulls\": 0.6087945103645325, \"percentile_inc_nulls\": 0.6087945103645325, \"value_count\": 6, \"group_name\": \"last_name\", \"total_non_null_rows\": 18034, \"total_rows_inc_nulls\": 18034, \"sum_tokens_in_value_count_group\": 864.0, \"distinct_value_count\": 5800}, {\"percentile_ex_nulls\": 0.5871686935424805, \"percentile_inc_nulls\": 0.5871686935424805, \"value_count\": 5, \"group_name\": \"last_name\", \"total_non_null_rows\": 18034, \"total_rows_inc_nulls\": 18034, \"sum_tokens_in_value_count_group\": 390.0, \"distinct_value_count\": 5800}, {\"percentile_ex_nulls\": 0.49778199195861816, \"percentile_inc_nulls\": 0.49778199195861816, \"value_count\": 4, \"group_name\": \"last_name\", \"total_non_null_rows\": 18034, \"total_rows_inc_nulls\": 18034, \"sum_tokens_in_value_count_group\": 1612.0, \"distinct_value_count\": 5800}, {\"percentile_ex_nulls\": 0.47000110149383545, \"percentile_inc_nulls\": 0.47000110149383545, \"value_count\": 3, \"group_name\": \"last_name\", \"total_non_null_rows\": 18034, \"total_rows_inc_nulls\": 18034, \"sum_tokens_in_value_count_group\": 501.0, \"distinct_value_count\": 5800}, {\"percentile_ex_nulls\": 0.04635685682296753, \"percentile_inc_nulls\": 0.04635685682296753, \"value_count\": 2, \"group_name\": \"last_name\", \"total_non_null_rows\": 18034, \"total_rows_inc_nulls\": 18034, \"sum_tokens_in_value_count_group\": 7640.0, \"distinct_value_count\": 5800}, {\"percentile_ex_nulls\": 0.0, \"percentile_inc_nulls\": 0.0, \"value_count\": 1, \"group_name\": \"last_name\", \"total_non_null_rows\": 18034, \"total_rows_inc_nulls\": 18034, \"sum_tokens_in_value_count_group\": 836.0, \"distinct_value_count\": 5800}, {\"percentile_ex_nulls\": 1.0, \"percentile_inc_nulls\": 1.0, \"value_count\": 144, \"group_name\": \"last_name\", \"total_non_null_rows\": 18034, \"total_rows_inc_nulls\": 18034, \"sum_tokens_in_value_count_group\": 144.0, \"distinct_value_count\": 5800}]}, \"mark\": {\"type\": \"line\", \"interpolate\": \"step-after\"}, \"encoding\": {\"x\": {\"type\": \"quantitative\", \"field\": \"percentile_ex_nulls\", \"sort\": \"descending\", \"title\": \"Percentile\"}, \"y\": {\"type\": \"quantitative\", \"field\": \"value_count\", \"title\": \"Count of values\"}, \"tooltip\": [{\"field\": \"value_count\", \"type\": \"quantitative\"}, {\"field\": \"percentile_ex_nulls\", \"type\": \"quantitative\"}, {\"field\": \"percentile_inc_nulls\", \"type\": \"quantitative\"}, {\"field\": \"total_non_null_rows\", \"type\": \"quantitative\"}, {\"field\": \"total_rows_inc_nulls\", \"type\": \"quantitative\"}]}, \"title\": {\"text\": \"Distribution of counts of values in column last_name\", \"subtitle\": \"In this col, 0 values (0.0%) are null and there are 5800 distinct values\"}}, {\"data\": {\"values\": [{\"value_count\": 144, \"group_name\": \"last_name\", \"value\": \"Smith\", \"total_non_null_rows\": 18034, \"total_rows_inc_nulls\": 18034, \"distinct_value_count\": 5800}, {\"value_count\": 119, \"group_name\": \"last_name\", \"value\": \"Johnson\", \"total_non_null_rows\": 18034, \"total_rows_inc_nulls\": 18034, \"distinct_value_count\": 5800}, {\"value_count\": 111, \"group_name\": \"last_name\", \"value\": \"Garcia\", \"total_non_null_rows\": 18034, \"total_rows_inc_nulls\": 18034, \"distinct_value_count\": 5800}, {\"value_count\": 108, \"group_name\": \"last_name\", \"value\": \"Martinez\", \"total_non_null_rows\": 18034, \"total_rows_inc_nulls\": 18034, \"distinct_value_count\": 5800}, {\"value_count\": 106, \"group_name\": \"last_name\", \"value\": \"Rodriguez\", \"total_non_null_rows\": 18034, \"total_rows_inc_nulls\": 18034, \"distinct_value_count\": 5800}, {\"value_count\": 95, \"group_name\": \"last_name\", \"value\": \"Williams\", \"total_non_null_rows\": 18034, \"total_rows_inc_nulls\": 18034, \"distinct_value_count\": 5800}, {\"value_count\": 94, \"group_name\": \"last_name\", \"value\": \"Jones\", \"total_non_null_rows\": 18034, \"total_rows_inc_nulls\": 18034, \"distinct_value_count\": 5800}, {\"value_count\": 84, \"group_name\": \"last_name\", \"value\": \"Miller\", \"total_non_null_rows\": 18034, \"total_rows_inc_nulls\": 18034, \"distinct_value_count\": 5800}, {\"value_count\": 83, \"group_name\": \"last_name\", \"value\": \"Brown\", \"total_non_null_rows\": 18034, \"total_rows_inc_nulls\": 18034, \"distinct_value_count\": 5800}, {\"value_count\": 81, \"group_name\": \"last_name\", \"value\": \"Gonzalez\", \"total_non_null_rows\": 18034, \"total_rows_inc_nulls\": 18034, \"distinct_value_count\": 5800}]}, \"mark\": \"bar\", \"encoding\": {\"x\": {\"type\": \"nominal\", \"field\": \"value\", \"sort\": \"-y\", \"title\": null}, \"y\": {\"type\": \"quantitative\", \"field\": \"value_count\", \"title\": \"Value count\"}, \"tooltip\": [{\"field\": \"value\", \"type\": \"nominal\"}, {\"field\": \"value_count\", \"type\": \"quantitative\"}, {\"field\": \"total_non_null_rows\", \"type\": \"quantitative\"}, {\"field\": \"total_rows_inc_nulls\", \"type\": \"quantitative\"}]}, \"title\": \"Top 10 values by value count\"}, {\"data\": {\"values\": [{\"value_count\": 1, \"group_name\": \"last_name\", \"value\": \"Synesael\", \"total_non_null_rows\": 18034, \"total_rows_inc_nulls\": 18034, \"distinct_value_count\": 5800}, {\"value_count\": 1, \"group_name\": \"last_name\", \"value\": \"Sorenson\", \"total_non_null_rows\": 18034, \"total_rows_inc_nulls\": 18034, \"distinct_value_count\": 5800}, {\"value_count\": 1, \"group_name\": \"last_name\", \"value\": \"Fountain\", \"total_non_null_rows\": 18034, \"total_rows_inc_nulls\": 18034, \"distinct_value_count\": 5800}, {\"value_count\": 1, \"group_name\": \"last_name\", \"value\": \"Dietzman\", \"total_non_null_rows\": 18034, \"total_rows_inc_nulls\": 18034, \"distinct_value_count\": 5800}, {\"value_count\": 1, \"group_name\": \"last_name\", \"value\": \"Inzinga\", \"total_non_null_rows\": 18034, \"total_rows_inc_nulls\": 18034, \"distinct_value_count\": 5800}, {\"value_count\": 1, \"group_name\": \"last_name\", \"value\": \"Driscoll\", \"total_non_null_rows\": 18034, \"total_rows_inc_nulls\": 18034, \"distinct_value_count\": 5800}, {\"value_count\": 1, \"group_name\": \"last_name\", \"value\": \"Worthing\", \"total_non_null_rows\": 18034, \"total_rows_inc_nulls\": 18034, \"distinct_value_count\": 5800}, {\"value_count\": 1, \"group_name\": \"last_name\", \"value\": \"Lefebvre\", \"total_non_null_rows\": 18034, \"total_rows_inc_nulls\": 18034, \"distinct_value_count\": 5800}, {\"value_count\": 1, \"group_name\": \"last_name\", \"value\": \"Tippett\", \"total_non_null_rows\": 18034, \"total_rows_inc_nulls\": 18034, \"distinct_value_count\": 5800}, {\"value_count\": 1, \"group_name\": \"last_name\", \"value\": \"Dobbins\", \"total_non_null_rows\": 18034, \"total_rows_inc_nulls\": 18034, \"distinct_value_count\": 5800}]}, \"mark\": \"bar\", \"encoding\": {\"x\": {\"type\": \"nominal\", \"field\": \"value\", \"sort\": \"-y\", \"title\": null}, \"y\": {\"type\": \"quantitative\", \"field\": \"value_count\", \"title\": \"Value count\", \"scale\": {\"domain\": [0, 144]}}, \"tooltip\": [{\"field\": \"value\", \"type\": \"nominal\"}, {\"field\": \"value_count\", \"type\": \"quantitative\"}, {\"field\": \"total_non_null_rows\", \"type\": \"quantitative\"}, {\"field\": \"total_rows_inc_nulls\", \"type\": \"quantitative\"}]}, \"title\": \"Bottom 10 values by value count\"}]}], \"$schema\": \"https://vega.github.io/schema/vega-lite/v4.8.1.json\"}, {\"mode\": \"vega-lite\"});\n",
       "</script>"
      ],
      "text/plain": [
       "<splink.charts.VegaliteNoValidate at 0x7f3f8a76e580>"
      ]
     },
     "execution_count": 16,
     "metadata": {},
     "output_type": "execute_result"
    }
   ],
   "source": [
    "linker.profile_columns(['first_name', 'last_name'])"
   ]
  },
  {
   "cell_type": "code",
   "execution_count": 17,
   "id": "288273e4",
   "metadata": {},
   "outputs": [
    {
     "data": {
      "text/html": [
       "\n",
       "<div id=\"altair-viz-16ae76d218a94d5e8ab9d5964d9704c6\"></div>\n",
       "<script type=\"text/javascript\">\n",
       "  var VEGA_DEBUG = (typeof VEGA_DEBUG == \"undefined\") ? {} : VEGA_DEBUG;\n",
       "  (function(spec, embedOpt){\n",
       "    let outputDiv = document.currentScript.previousElementSibling;\n",
       "    if (outputDiv.id !== \"altair-viz-16ae76d218a94d5e8ab9d5964d9704c6\") {\n",
       "      outputDiv = document.getElementById(\"altair-viz-16ae76d218a94d5e8ab9d5964d9704c6\");\n",
       "    }\n",
       "    const paths = {\n",
       "      \"vega\": \"https://cdn.jsdelivr.net/npm//vega@5?noext\",\n",
       "      \"vega-lib\": \"https://cdn.jsdelivr.net/npm//vega-lib?noext\",\n",
       "      \"vega-lite\": \"https://cdn.jsdelivr.net/npm//vega-lite@4.17.0?noext\",\n",
       "      \"vega-embed\": \"https://cdn.jsdelivr.net/npm//vega-embed@6?noext\",\n",
       "    };\n",
       "\n",
       "    function maybeLoadScript(lib, version) {\n",
       "      var key = `${lib.replace(\"-\", \"\")}_version`;\n",
       "      return (VEGA_DEBUG[key] == version) ?\n",
       "        Promise.resolve(paths[lib]) :\n",
       "        new Promise(function(resolve, reject) {\n",
       "          var s = document.createElement('script');\n",
       "          document.getElementsByTagName(\"head\")[0].appendChild(s);\n",
       "          s.async = true;\n",
       "          s.onload = () => {\n",
       "            VEGA_DEBUG[key] = version;\n",
       "            return resolve(paths[lib]);\n",
       "          };\n",
       "          s.onerror = () => reject(`Error loading script: ${paths[lib]}`);\n",
       "          s.src = paths[lib];\n",
       "        });\n",
       "    }\n",
       "\n",
       "    function showError(err) {\n",
       "      outputDiv.innerHTML = `<div class=\"error\" style=\"color:red;\">${err}</div>`;\n",
       "      throw err;\n",
       "    }\n",
       "\n",
       "    function displayChart(vegaEmbed) {\n",
       "      vegaEmbed(outputDiv, spec, embedOpt)\n",
       "        .catch(err => showError(`Javascript Error: ${err.message}<br>This usually means there's a typo in your chart specification. See the javascript console for the full traceback.`));\n",
       "    }\n",
       "\n",
       "    if(typeof define === \"function\" && define.amd) {\n",
       "      requirejs.config({paths});\n",
       "      require([\"vega-embed\"], displayChart, err => showError(`Error loading script: ${err.message}`));\n",
       "    } else {\n",
       "      maybeLoadScript(\"vega\", \"5\")\n",
       "        .then(() => maybeLoadScript(\"vega-lite\", \"4.17.0\"))\n",
       "        .then(() => maybeLoadScript(\"vega-embed\", \"6\"))\n",
       "        .catch(showError)\n",
       "        .then(() => displayChart(vegaEmbed));\n",
       "    }\n",
       "  })({\"config\": {\"view\": {\"continuousWidth\": 400, \"continuousHeight\": 300}}, \"vconcat\": [{\"hconcat\": [{\"data\": {\"values\": [{\"percentile_ex_nulls\": 0.9989996552467346, \"percentile_inc_nulls\": 0.9990018606185913, \"value_count\": 18, \"group_name\": \"address\", \"total_non_null_rows\": 17994, \"total_rows_inc_nulls\": 18034, \"sum_tokens_in_value_count_group\": 18.0, \"distinct_value_count\": 7052}, {\"percentile_ex_nulls\": 0.9974436163902283, \"percentile_inc_nulls\": 0.9974492788314819, \"value_count\": 14, \"group_name\": \"address\", \"total_non_null_rows\": 17994, \"total_rows_inc_nulls\": 18034, \"sum_tokens_in_value_count_group\": 28.0, \"distinct_value_count\": 7052}, {\"percentile_ex_nulls\": 0.9959986805915833, \"percentile_inc_nulls\": 0.9960075616836548, \"value_count\": 13, \"group_name\": \"address\", \"total_non_null_rows\": 17994, \"total_rows_inc_nulls\": 18034, \"sum_tokens_in_value_count_group\": 26.0, \"distinct_value_count\": 7052}, {\"percentile_ex_nulls\": 0.9913304448127747, \"percentile_inc_nulls\": 0.9913496971130371, \"value_count\": 12, \"group_name\": \"address\", \"total_non_null_rows\": 17994, \"total_rows_inc_nulls\": 18034, \"sum_tokens_in_value_count_group\": 84.0, \"distinct_value_count\": 7052}, {\"percentile_ex_nulls\": 0.9815493822097778, \"percentile_inc_nulls\": 0.9815903306007385, \"value_count\": 11, \"group_name\": \"address\", \"total_non_null_rows\": 17994, \"total_rows_inc_nulls\": 18034, \"sum_tokens_in_value_count_group\": 176.0, \"distinct_value_count\": 7052}, {\"percentile_ex_nulls\": 0.9693230986595154, \"percentile_inc_nulls\": 0.9693911671638489, \"value_count\": 10, \"group_name\": \"address\", \"total_non_null_rows\": 17994, \"total_rows_inc_nulls\": 18034, \"sum_tokens_in_value_count_group\": 220.0, \"distinct_value_count\": 7052}, {\"percentile_ex_nulls\": 0.9453151226043701, \"percentile_inc_nulls\": 0.945436418056488, \"value_count\": 9, \"group_name\": \"address\", \"total_non_null_rows\": 17994, \"total_rows_inc_nulls\": 18034, \"sum_tokens_in_value_count_group\": 432.0, \"distinct_value_count\": 7052}, {\"percentile_ex_nulls\": 0.9128598570823669, \"percentile_inc_nulls\": 0.9130531549453735, \"value_count\": 8, \"group_name\": \"address\", \"total_non_null_rows\": 17994, \"total_rows_inc_nulls\": 18034, \"sum_tokens_in_value_count_group\": 584.0, \"distinct_value_count\": 7052}, {\"percentile_ex_nulls\": 0.8599532842636108, \"percentile_inc_nulls\": 0.8602639436721802, \"value_count\": 7, \"group_name\": \"address\", \"total_non_null_rows\": 17994, \"total_rows_inc_nulls\": 18034, \"sum_tokens_in_value_count_group\": 952.0, \"distinct_value_count\": 7052}, {\"percentile_ex_nulls\": 0.7922641038894653, \"percentile_inc_nulls\": 0.7927248477935791, \"value_count\": 6, \"group_name\": \"address\", \"total_non_null_rows\": 17994, \"total_rows_inc_nulls\": 18034, \"sum_tokens_in_value_count_group\": 1218.0, \"distinct_value_count\": 7052}, {\"percentile_ex_nulls\": 0.6958431005477905, \"percentile_inc_nulls\": 0.6965177059173584, \"value_count\": 5, \"group_name\": \"address\", \"total_non_null_rows\": 17994, \"total_rows_inc_nulls\": 18034, \"sum_tokens_in_value_count_group\": 1735.0, \"distinct_value_count\": 7052}, {\"percentile_ex_nulls\": 0.5064465999603271, \"percentile_inc_nulls\": 0.507541298866272, \"value_count\": 4, \"group_name\": \"address\", \"total_non_null_rows\": 17994, \"total_rows_inc_nulls\": 18034, \"sum_tokens_in_value_count_group\": 3408.0, \"distinct_value_count\": 7052}, {\"percentile_ex_nulls\": 0.3358897566795349, \"percentile_inc_nulls\": 0.33736276626586914, \"value_count\": 3, \"group_name\": \"address\", \"total_non_null_rows\": 17994, \"total_rows_inc_nulls\": 18034, \"sum_tokens_in_value_count_group\": 3069.0, \"distinct_value_count\": 7052}, {\"percentile_ex_nulls\": 0.14427030086517334, \"percentile_inc_nulls\": 0.14616835117340088, \"value_count\": 2, \"group_name\": \"address\", \"total_non_null_rows\": 17994, \"total_rows_inc_nulls\": 18034, \"sum_tokens_in_value_count_group\": 3448.0, \"distinct_value_count\": 7052}, {\"percentile_ex_nulls\": 0.0, \"percentile_inc_nulls\": 0.002218008041381836, \"value_count\": 1, \"group_name\": \"address\", \"total_non_null_rows\": 17994, \"total_rows_inc_nulls\": 18034, \"sum_tokens_in_value_count_group\": 2596.0, \"distinct_value_count\": 7052}, {\"percentile_ex_nulls\": 1.0, \"percentile_inc_nulls\": 1.0, \"value_count\": 18, \"group_name\": \"address\", \"total_non_null_rows\": 17994, \"total_rows_inc_nulls\": 18034, \"sum_tokens_in_value_count_group\": 18.0, \"distinct_value_count\": 7052}]}, \"mark\": {\"type\": \"line\", \"interpolate\": \"step-after\"}, \"encoding\": {\"x\": {\"type\": \"quantitative\", \"field\": \"percentile_ex_nulls\", \"sort\": \"descending\", \"title\": \"Percentile\"}, \"y\": {\"type\": \"quantitative\", \"field\": \"value_count\", \"title\": \"Count of values\"}, \"tooltip\": [{\"field\": \"value_count\", \"type\": \"quantitative\"}, {\"field\": \"percentile_ex_nulls\", \"type\": \"quantitative\"}, {\"field\": \"percentile_inc_nulls\", \"type\": \"quantitative\"}, {\"field\": \"total_non_null_rows\", \"type\": \"quantitative\"}, {\"field\": \"total_rows_inc_nulls\", \"type\": \"quantitative\"}]}, \"title\": {\"text\": \"Distribution of counts of values in column address\", \"subtitle\": \"In this col, 40 values (0.2%) are null and there are 7052 distinct values\"}}, {\"data\": {\"values\": [{\"value_count\": 18, \"group_name\": \"address\", \"value\": \"477 preston cr  lehigh acres, fl\", \"total_non_null_rows\": 17994, \"total_rows_inc_nulls\": 18034, \"distinct_value_count\": 7052}, {\"value_count\": 14, \"group_name\": \"address\", \"value\": \"12695 horseshoe trl  jacksonville, fl\", \"total_non_null_rows\": 17994, \"total_rows_inc_nulls\": 18034, \"distinct_value_count\": 7052}, {\"value_count\": 14, \"group_name\": \"address\", \"value\": \"525 scenic rnch cir  ft myers, fl\", \"total_non_null_rows\": 17994, \"total_rows_inc_nulls\": 18034, \"distinct_value_count\": 7052}, {\"value_count\": 13, \"group_name\": \"address\", \"value\": \"2143 shiloh rd  melbourne, fl\", \"total_non_null_rows\": 17994, \"total_rows_inc_nulls\": 18034, \"distinct_value_count\": 7052}, {\"value_count\": 13, \"group_name\": \"address\", \"value\": \"3560 piedmont road ne apt 313 south port, fl\", \"total_non_null_rows\": 17994, \"total_rows_inc_nulls\": 18034, \"distinct_value_count\": 7052}, {\"value_count\": 12, \"group_name\": \"address\", \"value\": \"3 fairview av extension  cape coral, fl\", \"total_non_null_rows\": 17994, \"total_rows_inc_nulls\": 18034, \"distinct_value_count\": 7052}, {\"value_count\": 12, \"group_name\": \"address\", \"value\": \"840 university avenue suite 5 jacksonville, fl\", \"total_non_null_rows\": 17994, \"total_rows_inc_nulls\": 18034, \"distinct_value_count\": 7052}, {\"value_count\": 12, \"group_name\": \"address\", \"value\": \"17577 pine ln  kendall, fl\", \"total_non_null_rows\": 17994, \"total_rows_inc_nulls\": 18034, \"distinct_value_count\": 7052}, {\"value_count\": 12, \"group_name\": \"address\", \"value\": \"3874 walnut ave  tamarac, fl\", \"total_non_null_rows\": 17994, \"total_rows_inc_nulls\": 18034, \"distinct_value_count\": 7052}, {\"value_count\": 12, \"group_name\": \"address\", \"value\": \"900 e beech st  lake jem, fl\", \"total_non_null_rows\": 17994, \"total_rows_inc_nulls\": 18034, \"distinct_value_count\": 7052}]}, \"mark\": \"bar\", \"encoding\": {\"x\": {\"type\": \"nominal\", \"field\": \"value\", \"sort\": \"-y\", \"title\": null}, \"y\": {\"type\": \"quantitative\", \"field\": \"value_count\", \"title\": \"Value count\"}, \"tooltip\": [{\"field\": \"value\", \"type\": \"nominal\"}, {\"field\": \"value_count\", \"type\": \"quantitative\"}, {\"field\": \"total_non_null_rows\", \"type\": \"quantitative\"}, {\"field\": \"total_rows_inc_nulls\", \"type\": \"quantitative\"}]}, \"title\": \"Top 10 values by value count\"}, {\"data\": {\"values\": [{\"value_count\": 1, \"group_name\": \"address\", \"value\": \"340 80 street  st. petersburg, fl\", \"total_non_null_rows\": 17994, \"total_rows_inc_nulls\": 18034, \"distinct_value_count\": 7052}, {\"value_count\": 1, \"group_name\": \"address\", \"value\": \"25 cobblestone drive  lutz, fl\", \"total_non_null_rows\": 17994, \"total_rows_inc_nulls\": 18034, \"distinct_value_count\": 7052}, {\"value_count\": 1, \"group_name\": \"address\", \"value\": \"3652 poppy ln  pittman, fl\", \"total_non_null_rows\": 17994, \"total_rows_inc_nulls\": 18034, \"distinct_value_count\": 7052}, {\"value_count\": 1, \"group_name\": \"address\", \"value\": \"8800 vistana centre drive  st. petersburg, fl\", \"total_non_null_rows\": 17994, \"total_rows_inc_nulls\": 18034, \"distinct_value_count\": 7052}, {\"value_count\": 1, \"group_name\": \"address\", \"value\": \"4308 greenwood avenue  kissimmee, fl\", \"total_non_null_rows\": 17994, \"total_rows_inc_nulls\": 18034, \"distinct_value_count\": 7052}, {\"value_count\": 1, \"group_name\": \"address\", \"value\": \"1246 glyndon avnu  altamonte springs, fl\", \"total_non_null_rows\": 17994, \"total_rows_inc_nulls\": 18034, \"distinct_value_count\": 7052}, {\"value_count\": 1, \"group_name\": \"address\", \"value\": \"3855 grand central pl e  satsuma, fl\", \"total_non_null_rows\": 17994, \"total_rows_inc_nulls\": 18034, \"distinct_value_count\": 7052}, {\"value_count\": 1, \"group_name\": \"address\", \"value\": \"11113 1 2 ventura blvd  neptune beach, fl\", \"total_non_null_rows\": 17994, \"total_rows_inc_nulls\": 18034, \"distinct_value_count\": 7052}, {\"value_count\": 1, \"group_name\": \"address\", \"value\": \"100 glendale manor dr  fort myers beach, fl\", \"total_non_null_rows\": 17994, \"total_rows_inc_nulls\": 18034, \"distinct_value_count\": 7052}, {\"value_count\": 1, \"group_name\": \"address\", \"value\": \"13623 cole point dr  winter park, fl\", \"total_non_null_rows\": 17994, \"total_rows_inc_nulls\": 18034, \"distinct_value_count\": 7052}]}, \"mark\": \"bar\", \"encoding\": {\"x\": {\"type\": \"nominal\", \"field\": \"value\", \"sort\": \"-y\", \"title\": null}, \"y\": {\"type\": \"quantitative\", \"field\": \"value_count\", \"title\": \"Value count\", \"scale\": {\"domain\": [0, 18]}}, \"tooltip\": [{\"field\": \"value\", \"type\": \"nominal\"}, {\"field\": \"value_count\", \"type\": \"quantitative\"}, {\"field\": \"total_non_null_rows\", \"type\": \"quantitative\"}, {\"field\": \"total_rows_inc_nulls\", \"type\": \"quantitative\"}]}, \"title\": \"Bottom 10 values by value count\"}]}, {\"hconcat\": [{\"data\": {\"values\": [{\"percentile_ex_nulls\": 0.9907191395759583, \"percentile_inc_nulls\": 0.9907397031784058, \"value_count\": 167, \"group_name\": \"zipcode\", \"total_non_null_rows\": 17994, \"total_rows_inc_nulls\": 18034, \"sum_tokens_in_value_count_group\": 167.0, \"distinct_value_count\": 792}, {\"percentile_ex_nulls\": 0.9836056232452393, \"percentile_inc_nulls\": 0.9836419820785522, \"value_count\": 128, \"group_name\": \"zipcode\", \"total_non_null_rows\": 17994, \"total_rows_inc_nulls\": 18034, \"sum_tokens_in_value_count_group\": 128.0, \"distinct_value_count\": 792}, {\"percentile_ex_nulls\": 0.9771590232849121, \"percentile_inc_nulls\": 0.9772096872329712, \"value_count\": 116, \"group_name\": \"zipcode\", \"total_non_null_rows\": 17994, \"total_rows_inc_nulls\": 18034, \"sum_tokens_in_value_count_group\": 116.0, \"distinct_value_count\": 792}, {\"percentile_ex_nulls\": 0.9712681770324707, \"percentile_inc_nulls\": 0.9713319540023804, \"value_count\": 106, \"group_name\": \"zipcode\", \"total_non_null_rows\": 17994, \"total_rows_inc_nulls\": 18034, \"sum_tokens_in_value_count_group\": 106.0, \"distinct_value_count\": 792}, {\"percentile_ex_nulls\": 0.9654329419136047, \"percentile_inc_nulls\": 0.9655095934867859, \"value_count\": 105, \"group_name\": \"zipcode\", \"total_non_null_rows\": 17994, \"total_rows_inc_nulls\": 18034, \"sum_tokens_in_value_count_group\": 105.0, \"distinct_value_count\": 792}, {\"percentile_ex_nulls\": 0.9596531987190247, \"percentile_inc_nulls\": 0.9597427248954773, \"value_count\": 104, \"group_name\": \"zipcode\", \"total_non_null_rows\": 17994, \"total_rows_inc_nulls\": 18034, \"sum_tokens_in_value_count_group\": 104.0, \"distinct_value_count\": 792}, {\"percentile_ex_nulls\": 0.95392906665802, \"percentile_inc_nulls\": 0.9540312886238098, \"value_count\": 103, \"group_name\": \"zipcode\", \"total_non_null_rows\": 17994, \"total_rows_inc_nulls\": 18034, \"sum_tokens_in_value_count_group\": 103.0, \"distinct_value_count\": 792}, {\"percentile_ex_nulls\": 0.9489274024963379, \"percentile_inc_nulls\": 0.9490407109260559, \"value_count\": 90, \"group_name\": \"zipcode\", \"total_non_null_rows\": 17994, \"total_rows_inc_nulls\": 18034, \"sum_tokens_in_value_count_group\": 90.0, \"distinct_value_count\": 792}, {\"percentile_ex_nulls\": 0.9440369009971619, \"percentile_inc_nulls\": 0.944161057472229, \"value_count\": 88, \"group_name\": \"zipcode\", \"total_non_null_rows\": 17994, \"total_rows_inc_nulls\": 18034, \"sum_tokens_in_value_count_group\": 88.0, \"distinct_value_count\": 792}, {\"percentile_ex_nulls\": 0.9392575025558472, \"percentile_inc_nulls\": 0.9393922686576843, \"value_count\": 86, \"group_name\": \"zipcode\", \"total_non_null_rows\": 17994, \"total_rows_inc_nulls\": 18034, \"sum_tokens_in_value_count_group\": 86.0, \"distinct_value_count\": 792}, {\"percentile_ex_nulls\": 0.9300322532653809, \"percentile_inc_nulls\": 0.9301874041557312, \"value_count\": 83, \"group_name\": \"zipcode\", \"total_non_null_rows\": 17994, \"total_rows_inc_nulls\": 18034, \"sum_tokens_in_value_count_group\": 166.0, \"distinct_value_count\": 792}, {\"percentile_ex_nulls\": 0.9254751801490784, \"percentile_inc_nulls\": 0.9256404638290405, \"value_count\": 82, \"group_name\": \"zipcode\", \"total_non_null_rows\": 17994, \"total_rows_inc_nulls\": 18034, \"sum_tokens_in_value_count_group\": 82.0, \"distinct_value_count\": 792}, {\"percentile_ex_nulls\": 0.9164721369743347, \"percentile_inc_nulls\": 0.9166574478149414, \"value_count\": 81, \"group_name\": \"zipcode\", \"total_non_null_rows\": 17994, \"total_rows_inc_nulls\": 18034, \"sum_tokens_in_value_count_group\": 162.0, \"distinct_value_count\": 792}, {\"percentile_ex_nulls\": 0.907691478729248, \"percentile_inc_nulls\": 0.9078962206840515, \"value_count\": 79, \"group_name\": \"zipcode\", \"total_non_null_rows\": 17994, \"total_rows_inc_nulls\": 18034, \"sum_tokens_in_value_count_group\": 158.0, \"distinct_value_count\": 792}, {\"percentile_ex_nulls\": 0.9034122228622437, \"percentile_inc_nulls\": 0.9036265015602112, \"value_count\": 77, \"group_name\": \"zipcode\", \"total_non_null_rows\": 17994, \"total_rows_inc_nulls\": 18034, \"sum_tokens_in_value_count_group\": 77.0, \"distinct_value_count\": 792}, {\"percentile_ex_nulls\": 0.8950761556625366, \"percentile_inc_nulls\": 0.8953088521957397, \"value_count\": 75, \"group_name\": \"zipcode\", \"total_non_null_rows\": 17994, \"total_rows_inc_nulls\": 18034, \"sum_tokens_in_value_count_group\": 150.0, \"distinct_value_count\": 792}, {\"percentile_ex_nulls\": 0.8827387094497681, \"percentile_inc_nulls\": 0.8829987645149231, \"value_count\": 74, \"group_name\": \"zipcode\", \"total_non_null_rows\": 17994, \"total_rows_inc_nulls\": 18034, \"sum_tokens_in_value_count_group\": 222.0, \"distinct_value_count\": 792}, {\"percentile_ex_nulls\": 0.8746248483657837, \"percentile_inc_nulls\": 0.8749029636383057, \"value_count\": 73, \"group_name\": \"zipcode\", \"total_non_null_rows\": 17994, \"total_rows_inc_nulls\": 18034, \"sum_tokens_in_value_count_group\": 146.0, \"distinct_value_count\": 792}, {\"percentile_ex_nulls\": 0.854896068572998, \"percentile_inc_nulls\": 0.8552179336547852, \"value_count\": 71, \"group_name\": \"zipcode\", \"total_non_null_rows\": 17994, \"total_rows_inc_nulls\": 18034, \"sum_tokens_in_value_count_group\": 355.0, \"distinct_value_count\": 792}, {\"percentile_ex_nulls\": 0.8393353223800659, \"percentile_inc_nulls\": 0.839691698551178, \"value_count\": 70, \"group_name\": \"zipcode\", \"total_non_null_rows\": 17994, \"total_rows_inc_nulls\": 18034, \"sum_tokens_in_value_count_group\": 280.0, \"distinct_value_count\": 792}, {\"percentile_ex_nulls\": 0.831666111946106, \"percentile_inc_nulls\": 0.832039475440979, \"value_count\": 69, \"group_name\": \"zipcode\", \"total_non_null_rows\": 17994, \"total_rows_inc_nulls\": 18034, \"sum_tokens_in_value_count_group\": 138.0, \"distinct_value_count\": 792}, {\"percentile_ex_nulls\": 0.8204957246780396, \"percentile_inc_nulls\": 0.8208938837051392, \"value_count\": 67, \"group_name\": \"zipcode\", \"total_non_null_rows\": 17994, \"total_rows_inc_nulls\": 18034, \"sum_tokens_in_value_count_group\": 201.0, \"distinct_value_count\": 792}, {\"percentile_ex_nulls\": 0.8132711052894592, \"percentile_inc_nulls\": 0.8136852979660034, \"value_count\": 65, \"group_name\": \"zipcode\", \"total_non_null_rows\": 17994, \"total_rows_inc_nulls\": 18034, \"sum_tokens_in_value_count_group\": 130.0, \"distinct_value_count\": 792}, {\"percentile_ex_nulls\": 0.8097143173217773, \"percentile_inc_nulls\": 0.8101364374160767, \"value_count\": 64, \"group_name\": \"zipcode\", \"total_non_null_rows\": 17994, \"total_rows_inc_nulls\": 18034, \"sum_tokens_in_value_count_group\": 64.0, \"distinct_value_count\": 792}, {\"percentile_ex_nulls\": 0.8062132000923157, \"percentile_inc_nulls\": 0.806643009185791, \"value_count\": 63, \"group_name\": \"zipcode\", \"total_non_null_rows\": 17994, \"total_rows_inc_nulls\": 18034, \"sum_tokens_in_value_count_group\": 63.0, \"distinct_value_count\": 792}, {\"percentile_ex_nulls\": 0.8027675747871399, \"percentile_inc_nulls\": 0.8032050728797913, \"value_count\": 62, \"group_name\": \"zipcode\", \"total_non_null_rows\": 17994, \"total_rows_inc_nulls\": 18034, \"sum_tokens_in_value_count_group\": 62.0, \"distinct_value_count\": 792}, {\"percentile_ex_nulls\": 0.7959875464439392, \"percentile_inc_nulls\": 0.796440064907074, \"value_count\": 61, \"group_name\": \"zipcode\", \"total_non_null_rows\": 17994, \"total_rows_inc_nulls\": 18034, \"sum_tokens_in_value_count_group\": 122.0, \"distinct_value_count\": 792}, {\"percentile_ex_nulls\": 0.7926530838012695, \"percentile_inc_nulls\": 0.7931129932403564, \"value_count\": 60, \"group_name\": \"zipcode\", \"total_non_null_rows\": 17994, \"total_rows_inc_nulls\": 18034, \"sum_tokens_in_value_count_group\": 60.0, \"distinct_value_count\": 792}, {\"percentile_ex_nulls\": 0.7828165292739868, \"percentile_inc_nulls\": 0.7832981944084167, \"value_count\": 59, \"group_name\": \"zipcode\", \"total_non_null_rows\": 17994, \"total_rows_inc_nulls\": 18034, \"sum_tokens_in_value_count_group\": 177.0, \"distinct_value_count\": 792}, {\"percentile_ex_nulls\": 0.7638101577758789, \"percentile_inc_nulls\": 0.7643340229988098, \"value_count\": 57, \"group_name\": \"zipcode\", \"total_non_null_rows\": 17994, \"total_rows_inc_nulls\": 18034, \"sum_tokens_in_value_count_group\": 342.0, \"distinct_value_count\": 792}, {\"percentile_ex_nulls\": 0.7544736862182617, \"percentile_inc_nulls\": 0.7550182938575745, \"value_count\": 56, \"group_name\": \"zipcode\", \"total_non_null_rows\": 17994, \"total_rows_inc_nulls\": 18034, \"sum_tokens_in_value_count_group\": 168.0, \"distinct_value_count\": 792}, {\"percentile_ex_nulls\": 0.7453039884567261, \"percentile_inc_nulls\": 0.7458689212799072, \"value_count\": 55, \"group_name\": \"zipcode\", \"total_non_null_rows\": 17994, \"total_rows_inc_nulls\": 18034, \"sum_tokens_in_value_count_group\": 165.0, \"distinct_value_count\": 792}, {\"percentile_ex_nulls\": 0.7272980213165283, \"percentile_inc_nulls\": 0.727902889251709, \"value_count\": 54, \"group_name\": \"zipcode\", \"total_non_null_rows\": 17994, \"total_rows_inc_nulls\": 18034, \"sum_tokens_in_value_count_group\": 324.0, \"distinct_value_count\": 792}, {\"percentile_ex_nulls\": 0.7214071750640869, \"percentile_inc_nulls\": 0.7220250368118286, \"value_count\": 53, \"group_name\": \"zipcode\", \"total_non_null_rows\": 17994, \"total_rows_inc_nulls\": 18034, \"sum_tokens_in_value_count_group\": 106.0, \"distinct_value_count\": 792}, {\"percentile_ex_nulls\": 0.7156274318695068, \"percentile_inc_nulls\": 0.71625816822052, \"value_count\": 52, \"group_name\": \"zipcode\", \"total_non_null_rows\": 17994, \"total_rows_inc_nulls\": 18034, \"sum_tokens_in_value_count_group\": 104.0, \"distinct_value_count\": 792}, {\"percentile_ex_nulls\": 0.6986217498779297, \"percentile_inc_nulls\": 0.6992902159690857, \"value_count\": 51, \"group_name\": \"zipcode\", \"total_non_null_rows\": 17994, \"total_rows_inc_nulls\": 18034, \"sum_tokens_in_value_count_group\": 306.0, \"distinct_value_count\": 792}, {\"percentile_ex_nulls\": 0.687506914138794, \"percentile_inc_nulls\": 0.688200056552887, \"value_count\": 50, \"group_name\": \"zipcode\", \"total_non_null_rows\": 17994, \"total_rows_inc_nulls\": 18034, \"sum_tokens_in_value_count_group\": 200.0, \"distinct_value_count\": 792}, {\"percentile_ex_nulls\": 0.6766144037246704, \"percentile_inc_nulls\": 0.6773316860198975, \"value_count\": 49, \"group_name\": \"zipcode\", \"total_non_null_rows\": 17994, \"total_rows_inc_nulls\": 18034, \"sum_tokens_in_value_count_group\": 196.0, \"distinct_value_count\": 792}, {\"percentile_ex_nulls\": 0.6579415798187256, \"percentile_inc_nulls\": 0.6587002277374268, \"value_count\": 48, \"group_name\": \"zipcode\", \"total_non_null_rows\": 17994, \"total_rows_inc_nulls\": 18034, \"sum_tokens_in_value_count_group\": 336.0, \"distinct_value_count\": 792}, {\"percentile_ex_nulls\": 0.6422696113586426, \"percentile_inc_nulls\": 0.6430630683898926, \"value_count\": 47, \"group_name\": \"zipcode\", \"total_non_null_rows\": 17994, \"total_rows_inc_nulls\": 18034, \"sum_tokens_in_value_count_group\": 282.0, \"distinct_value_count\": 792}, {\"percentile_ex_nulls\": 0.6269311904907227, \"percentile_inc_nulls\": 0.6277586817741394, \"value_count\": 46, \"group_name\": \"zipcode\", \"total_non_null_rows\": 17994, \"total_rows_inc_nulls\": 18034, \"sum_tokens_in_value_count_group\": 276.0, \"distinct_value_count\": 792}, {\"percentile_ex_nulls\": 0.6219295263290405, \"percentile_inc_nulls\": 0.6227681040763855, \"value_count\": 45, \"group_name\": \"zipcode\", \"total_non_null_rows\": 17994, \"total_rows_inc_nulls\": 18034, \"sum_tokens_in_value_count_group\": 90.0, \"distinct_value_count\": 792}, {\"percentile_ex_nulls\": 0.6072579622268677, \"percentile_inc_nulls\": 0.60812908411026, \"value_count\": 44, \"group_name\": \"zipcode\", \"total_non_null_rows\": 17994, \"total_rows_inc_nulls\": 18034, \"sum_tokens_in_value_count_group\": 264.0, \"distinct_value_count\": 792}, {\"percentile_ex_nulls\": 0.5976992249488831, \"percentile_inc_nulls\": 0.5985915660858154, \"value_count\": 43, \"group_name\": \"zipcode\", \"total_non_null_rows\": 17994, \"total_rows_inc_nulls\": 18034, \"sum_tokens_in_value_count_group\": 172.0, \"distinct_value_count\": 792}, {\"percentile_ex_nulls\": 0.5906969308853149, \"percentile_inc_nulls\": 0.5916047096252441, \"value_count\": 42, \"group_name\": \"zipcode\", \"total_non_null_rows\": 17994, \"total_rows_inc_nulls\": 18034, \"sum_tokens_in_value_count_group\": 126.0, \"distinct_value_count\": 792}, {\"percentile_ex_nulls\": 0.5701900720596313, \"percentile_inc_nulls\": 0.571143388748169, \"value_count\": 41, \"group_name\": \"zipcode\", \"total_non_null_rows\": 17994, \"total_rows_inc_nulls\": 18034, \"sum_tokens_in_value_count_group\": 369.0, \"distinct_value_count\": 792}, {\"percentile_ex_nulls\": 0.5590752363204956, \"percentile_inc_nulls\": 0.5600532293319702, \"value_count\": 40, \"group_name\": \"zipcode\", \"total_non_null_rows\": 17994, \"total_rows_inc_nulls\": 18034, \"sum_tokens_in_value_count_group\": 200.0, \"distinct_value_count\": 792}, {\"percentile_ex_nulls\": 0.5525730848312378, \"percentile_inc_nulls\": 0.553565502166748, \"value_count\": 39, \"group_name\": \"zipcode\", \"total_non_null_rows\": 17994, \"total_rows_inc_nulls\": 18034, \"sum_tokens_in_value_count_group\": 117.0, \"distinct_value_count\": 792}, {\"percentile_ex_nulls\": 0.5462376475334167, \"percentile_inc_nulls\": 0.5472440719604492, \"value_count\": 38, \"group_name\": \"zipcode\", \"total_non_null_rows\": 17994, \"total_rows_inc_nulls\": 18034, \"sum_tokens_in_value_count_group\": 114.0, \"distinct_value_count\": 792}, {\"percentile_ex_nulls\": 0.5297877192497253, \"percentile_inc_nulls\": 0.5308306217193604, \"value_count\": 37, \"group_name\": \"zipcode\", \"total_non_null_rows\": 17994, \"total_rows_inc_nulls\": 18034, \"sum_tokens_in_value_count_group\": 296.0, \"distinct_value_count\": 792}, {\"percentile_ex_nulls\": 0.5257863998413086, \"percentile_inc_nulls\": 0.5268381834030151, \"value_count\": 36, \"group_name\": \"zipcode\", \"total_non_null_rows\": 17994, \"total_rows_inc_nulls\": 18034, \"sum_tokens_in_value_count_group\": 72.0, \"distinct_value_count\": 792}, {\"percentile_ex_nulls\": 0.5102256536483765, \"percentile_inc_nulls\": 0.5113120079040527, \"value_count\": 35, \"group_name\": \"zipcode\", \"total_non_null_rows\": 17994, \"total_rows_inc_nulls\": 18034, \"sum_tokens_in_value_count_group\": 280.0, \"distinct_value_count\": 792}, {\"percentile_ex_nulls\": 0.500778079032898, \"percentile_inc_nulls\": 0.5018852949142456, \"value_count\": 34, \"group_name\": \"zipcode\", \"total_non_null_rows\": 17994, \"total_rows_inc_nulls\": 18034, \"sum_tokens_in_value_count_group\": 170.0, \"distinct_value_count\": 792}, {\"percentile_ex_nulls\": 0.4842725396156311, \"percentile_inc_nulls\": 0.4854164123535156, \"value_count\": 33, \"group_name\": \"zipcode\", \"total_non_null_rows\": 17994, \"total_rows_inc_nulls\": 18034, \"sum_tokens_in_value_count_group\": 297.0, \"distinct_value_count\": 792}, {\"percentile_ex_nulls\": 0.4700455665588379, \"percentile_inc_nulls\": 0.47122102975845337, \"value_count\": 32, \"group_name\": \"zipcode\", \"total_non_null_rows\": 17994, \"total_rows_inc_nulls\": 18034, \"sum_tokens_in_value_count_group\": 256.0, \"distinct_value_count\": 792}, {\"percentile_ex_nulls\": 0.4510948061943054, \"percentile_inc_nulls\": 0.45231229066848755, \"value_count\": 31, \"group_name\": \"zipcode\", \"total_non_null_rows\": 17994, \"total_rows_inc_nulls\": 18034, \"sum_tokens_in_value_count_group\": 341.0, \"distinct_value_count\": 792}, {\"percentile_ex_nulls\": 0.4277536869049072, \"percentile_inc_nulls\": 0.42902296781539917, \"value_count\": 30, \"group_name\": \"zipcode\", \"total_non_null_rows\": 17994, \"total_rows_inc_nulls\": 18034, \"sum_tokens_in_value_count_group\": 420.0, \"distinct_value_count\": 792}, {\"percentile_ex_nulls\": 0.3922974467277527, \"percentile_inc_nulls\": 0.39364534616470337, \"value_count\": 29, \"group_name\": \"zipcode\", \"total_non_null_rows\": 17994, \"total_rows_inc_nulls\": 18034, \"sum_tokens_in_value_count_group\": 638.0, \"distinct_value_count\": 792}, {\"percentile_ex_nulls\": 0.3829609751701355, \"percentile_inc_nulls\": 0.384329617023468, \"value_count\": 28, \"group_name\": \"zipcode\", \"total_non_null_rows\": 17994, \"total_rows_inc_nulls\": 18034, \"sum_tokens_in_value_count_group\": 168.0, \"distinct_value_count\": 792}, {\"percentile_ex_nulls\": 0.3679559826850891, \"percentile_inc_nulls\": 0.3693578839302063, \"value_count\": 27, \"group_name\": \"zipcode\", \"total_non_null_rows\": 17994, \"total_rows_inc_nulls\": 18034, \"sum_tokens_in_value_count_group\": 270.0, \"distinct_value_count\": 792}, {\"percentile_ex_nulls\": 0.3506168723106384, \"percentile_inc_nulls\": 0.35205721855163574, \"value_count\": 26, \"group_name\": \"zipcode\", \"total_non_null_rows\": 17994, \"total_rows_inc_nulls\": 18034, \"sum_tokens_in_value_count_group\": 312.0, \"distinct_value_count\": 792}, {\"percentile_ex_nulls\": 0.33255529403686523, \"percentile_inc_nulls\": 0.3340356945991516, \"value_count\": 25, \"group_name\": \"zipcode\", \"total_non_null_rows\": 17994, \"total_rows_inc_nulls\": 18034, \"sum_tokens_in_value_count_group\": 325.0, \"distinct_value_count\": 792}, {\"percentile_ex_nulls\": 0.31521618366241455, \"percentile_inc_nulls\": 0.31673502922058105, \"value_count\": 24, \"group_name\": \"zipcode\", \"total_non_null_rows\": 17994, \"total_rows_inc_nulls\": 18034, \"sum_tokens_in_value_count_group\": 312.0, \"distinct_value_count\": 792}, {\"percentile_ex_nulls\": 0.28965210914611816, \"percentile_inc_nulls\": 0.29122769832611084, \"value_count\": 23, \"group_name\": \"zipcode\", \"total_non_null_rows\": 17994, \"total_rows_inc_nulls\": 18034, \"sum_tokens_in_value_count_group\": 460.0, \"distinct_value_count\": 792}, {\"percentile_ex_nulls\": 0.2688673734664917, \"percentile_inc_nulls\": 0.2704890966415405, \"value_count\": 22, \"group_name\": \"zipcode\", \"total_non_null_rows\": 17994, \"total_rows_inc_nulls\": 18034, \"sum_tokens_in_value_count_group\": 374.0, \"distinct_value_count\": 792}, {\"percentile_ex_nulls\": 0.2478603720664978, \"percentile_inc_nulls\": 0.2495286464691162, \"value_count\": 21, \"group_name\": \"zipcode\", \"total_non_null_rows\": 17994, \"total_rows_inc_nulls\": 18034, \"sum_tokens_in_value_count_group\": 378.0, \"distinct_value_count\": 792}, {\"percentile_ex_nulls\": 0.22451931238174438, \"percentile_inc_nulls\": 0.22623932361602783, \"value_count\": 20, \"group_name\": \"zipcode\", \"total_non_null_rows\": 17994, \"total_rows_inc_nulls\": 18034, \"sum_tokens_in_value_count_group\": 420.0, \"distinct_value_count\": 792}, {\"percentile_ex_nulls\": 0.20234525203704834, \"percentile_inc_nulls\": 0.20411443710327148, \"value_count\": 19, \"group_name\": \"zipcode\", \"total_non_null_rows\": 17994, \"total_rows_inc_nulls\": 18034, \"sum_tokens_in_value_count_group\": 399.0, \"distinct_value_count\": 792}, {\"percentile_ex_nulls\": 0.1783372163772583, \"percentile_inc_nulls\": 0.18015968799591064, \"value_count\": 18, \"group_name\": \"zipcode\", \"total_non_null_rows\": 17994, \"total_rows_inc_nulls\": 18034, \"sum_tokens_in_value_count_group\": 432.0, \"distinct_value_count\": 792}, {\"percentile_ex_nulls\": 0.16605538129806519, \"percentile_inc_nulls\": 0.16790509223937988, \"value_count\": 17, \"group_name\": \"zipcode\", \"total_non_null_rows\": 17994, \"total_rows_inc_nulls\": 18034, \"sum_tokens_in_value_count_group\": 221.0, \"distinct_value_count\": 792}, {\"percentile_ex_nulls\": 0.15360677242279053, \"percentile_inc_nulls\": 0.15548408031463623, \"value_count\": 16, \"group_name\": \"zipcode\", \"total_non_null_rows\": 17994, \"total_rows_inc_nulls\": 18034, \"sum_tokens_in_value_count_group\": 224.0, \"distinct_value_count\": 792}, {\"percentile_ex_nulls\": 0.12776482105255127, \"percentile_inc_nulls\": 0.1296994686126709, \"value_count\": 15, \"group_name\": \"zipcode\", \"total_non_null_rows\": 17994, \"total_rows_inc_nulls\": 18034, \"sum_tokens_in_value_count_group\": 465.0, \"distinct_value_count\": 792}, {\"percentile_ex_nulls\": 0.11842834949493408, \"percentile_inc_nulls\": 0.12038373947143555, \"value_count\": 14, \"group_name\": \"zipcode\", \"total_non_null_rows\": 17994, \"total_rows_inc_nulls\": 18034, \"sum_tokens_in_value_count_group\": 168.0, \"distinct_value_count\": 792}, {\"percentile_ex_nulls\": 0.10036677122116089, \"percentile_inc_nulls\": 0.10236221551895142, \"value_count\": 13, \"group_name\": \"zipcode\", \"total_non_null_rows\": 17994, \"total_rows_inc_nulls\": 18034, \"sum_tokens_in_value_count_group\": 325.0, \"distinct_value_count\": 792}, {\"percentile_ex_nulls\": 0.09036344289779663, \"percentile_inc_nulls\": 0.0923810601234436, \"value_count\": 12, \"group_name\": \"zipcode\", \"total_non_null_rows\": 17994, \"total_rows_inc_nulls\": 18034, \"sum_tokens_in_value_count_group\": 180.0, \"distinct_value_count\": 792}, {\"percentile_ex_nulls\": 0.07630318403244019, \"percentile_inc_nulls\": 0.07835197448730469, \"value_count\": 11, \"group_name\": \"zipcode\", \"total_non_null_rows\": 17994, \"total_rows_inc_nulls\": 18034, \"sum_tokens_in_value_count_group\": 253.0, \"distinct_value_count\": 792}, {\"percentile_ex_nulls\": 0.06463265419006348, \"percentile_inc_nulls\": 0.0667073130607605, \"value_count\": 10, \"group_name\": \"zipcode\", \"total_non_null_rows\": 17994, \"total_rows_inc_nulls\": 18034, \"sum_tokens_in_value_count_group\": 210.0, \"distinct_value_count\": 792}, {\"percentile_ex_nulls\": 0.05262863636016846, \"percentile_inc_nulls\": 0.05472993850708008, \"value_count\": 9, \"group_name\": \"zipcode\", \"total_non_null_rows\": 17994, \"total_rows_inc_nulls\": 18034, \"sum_tokens_in_value_count_group\": 216.0, \"distinct_value_count\": 792}, {\"percentile_ex_nulls\": 0.042847633361816406, \"percentile_inc_nulls\": 0.04497063159942627, \"value_count\": 8, \"group_name\": \"zipcode\", \"total_non_null_rows\": 17994, \"total_rows_inc_nulls\": 18034, \"sum_tokens_in_value_count_group\": 176.0, \"distinct_value_count\": 792}, {\"percentile_ex_nulls\": 0.031177043914794922, \"percentile_inc_nulls\": 0.033325910568237305, \"value_count\": 7, \"group_name\": \"zipcode\", \"total_non_null_rows\": 17994, \"total_rows_inc_nulls\": 18034, \"sum_tokens_in_value_count_group\": 210.0, \"distinct_value_count\": 792}, {\"percentile_ex_nulls\": 0.023841261863708496, \"percentile_inc_nulls\": 0.026006460189819336, \"value_count\": 6, \"group_name\": \"zipcode\", \"total_non_null_rows\": 17994, \"total_rows_inc_nulls\": 18034, \"sum_tokens_in_value_count_group\": 132.0, \"distinct_value_count\": 792}, {\"percentile_ex_nulls\": 0.017450273036956787, \"percentile_inc_nulls\": 0.019629597663879395, \"value_count\": 5, \"group_name\": \"zipcode\", \"total_non_null_rows\": 17994, \"total_rows_inc_nulls\": 18034, \"sum_tokens_in_value_count_group\": 115.0, \"distinct_value_count\": 792}, {\"percentile_ex_nulls\": 0.009002983570098877, \"percentile_inc_nulls\": 0.011201083660125732, \"value_count\": 4, \"group_name\": \"zipcode\", \"total_non_null_rows\": 17994, \"total_rows_inc_nulls\": 18034, \"sum_tokens_in_value_count_group\": 152.0, \"distinct_value_count\": 792}, {\"percentile_ex_nulls\": 0.004668235778808594, \"percentile_inc_nulls\": 0.006875872611999512, \"value_count\": 3, \"group_name\": \"zipcode\", \"total_non_null_rows\": 17994, \"total_rows_inc_nulls\": 18034, \"sum_tokens_in_value_count_group\": 78.0, \"distinct_value_count\": 792}, {\"percentile_ex_nulls\": 0.0010003447532653809, \"percentile_inc_nulls\": 0.0032161474227905273, \"value_count\": 2, \"group_name\": \"zipcode\", \"total_non_null_rows\": 17994, \"total_rows_inc_nulls\": 18034, \"sum_tokens_in_value_count_group\": 66.0, \"distinct_value_count\": 792}, {\"percentile_ex_nulls\": 0.0, \"percentile_inc_nulls\": 0.002218008041381836, \"value_count\": 1, \"group_name\": \"zipcode\", \"total_non_null_rows\": 17994, \"total_rows_inc_nulls\": 18034, \"sum_tokens_in_value_count_group\": 18.0, \"distinct_value_count\": 792}, {\"percentile_ex_nulls\": 1.0, \"percentile_inc_nulls\": 1.0, \"value_count\": 167, \"group_name\": \"zipcode\", \"total_non_null_rows\": 17994, \"total_rows_inc_nulls\": 18034, \"sum_tokens_in_value_count_group\": 167.0, \"distinct_value_count\": 792}]}, \"mark\": {\"type\": \"line\", \"interpolate\": \"step-after\"}, \"encoding\": {\"x\": {\"type\": \"quantitative\", \"field\": \"percentile_ex_nulls\", \"sort\": \"descending\", \"title\": \"Percentile\"}, \"y\": {\"type\": \"quantitative\", \"field\": \"value_count\", \"title\": \"Count of values\"}, \"tooltip\": [{\"field\": \"value_count\", \"type\": \"quantitative\"}, {\"field\": \"percentile_ex_nulls\", \"type\": \"quantitative\"}, {\"field\": \"percentile_inc_nulls\", \"type\": \"quantitative\"}, {\"field\": \"total_non_null_rows\", \"type\": \"quantitative\"}, {\"field\": \"total_rows_inc_nulls\", \"type\": \"quantitative\"}]}, \"title\": {\"text\": \"Distribution of counts of values in column zipcode\", \"subtitle\": \"In this col, 40 values (0.2%) are null and there are 792 distinct values\"}}, {\"data\": {\"values\": [{\"value_count\": 167, \"group_name\": \"zipcode\", \"value\": \"33993\", \"total_non_null_rows\": 17994, \"total_rows_inc_nulls\": 18034, \"distinct_value_count\": 792}, {\"value_count\": 128, \"group_name\": \"zipcode\", \"value\": \"33971\", \"total_non_null_rows\": 17994, \"total_rows_inc_nulls\": 18034, \"distinct_value_count\": 792}, {\"value_count\": 116, \"group_name\": \"zipcode\", \"value\": \"32218\", \"total_non_null_rows\": 17994, \"total_rows_inc_nulls\": 18034, \"distinct_value_count\": 792}, {\"value_count\": 106, \"group_name\": \"zipcode\", \"value\": \"33974\", \"total_non_null_rows\": 17994, \"total_rows_inc_nulls\": 18034, \"distinct_value_count\": 792}, {\"value_count\": 105, \"group_name\": \"zipcode\", \"value\": \"33972\", \"total_non_null_rows\": 17994, \"total_rows_inc_nulls\": 18034, \"distinct_value_count\": 792}, {\"value_count\": 104, \"group_name\": \"zipcode\", \"value\": \"34953\", \"total_non_null_rows\": 17994, \"total_rows_inc_nulls\": 18034, \"distinct_value_count\": 792}, {\"value_count\": 103, \"group_name\": \"zipcode\", \"value\": \"33908\", \"total_non_null_rows\": 17994, \"total_rows_inc_nulls\": 18034, \"distinct_value_count\": 792}, {\"value_count\": 90, \"group_name\": \"zipcode\", \"value\": \"32224\", \"total_non_null_rows\": 17994, \"total_rows_inc_nulls\": 18034, \"distinct_value_count\": 792}, {\"value_count\": 88, \"group_name\": \"zipcode\", \"value\": \"32210\", \"total_non_null_rows\": 17994, \"total_rows_inc_nulls\": 18034, \"distinct_value_count\": 792}, {\"value_count\": 86, \"group_name\": \"zipcode\", \"value\": \"33909\", \"total_non_null_rows\": 17994, \"total_rows_inc_nulls\": 18034, \"distinct_value_count\": 792}]}, \"mark\": \"bar\", \"encoding\": {\"x\": {\"type\": \"nominal\", \"field\": \"value\", \"sort\": \"-y\", \"title\": null}, \"y\": {\"type\": \"quantitative\", \"field\": \"value_count\", \"title\": \"Value count\"}, \"tooltip\": [{\"field\": \"value\", \"type\": \"nominal\"}, {\"field\": \"value_count\", \"type\": \"quantitative\"}, {\"field\": \"total_non_null_rows\", \"type\": \"quantitative\"}, {\"field\": \"total_rows_inc_nulls\", \"type\": \"quantitative\"}]}, \"title\": \"Top 10 values by value count\"}, {\"data\": {\"values\": [{\"value_count\": 1, \"group_name\": \"zipcode\", \"value\": \"32535\", \"total_non_null_rows\": 17994, \"total_rows_inc_nulls\": 18034, \"distinct_value_count\": 792}, {\"value_count\": 1, \"group_name\": \"zipcode\", \"value\": \"32332\", \"total_non_null_rows\": 17994, \"total_rows_inc_nulls\": 18034, \"distinct_value_count\": 792}, {\"value_count\": 1, \"group_name\": \"zipcode\", \"value\": \"33585\", \"total_non_null_rows\": 17994, \"total_rows_inc_nulls\": 18034, \"distinct_value_count\": 792}, {\"value_count\": 1, \"group_name\": \"zipcode\", \"value\": \"32423\", \"total_non_null_rows\": 17994, \"total_rows_inc_nulls\": 18034, \"distinct_value_count\": 792}, {\"value_count\": 1, \"group_name\": \"zipcode\", \"value\": \"32011\", \"total_non_null_rows\": 17994, \"total_rows_inc_nulls\": 18034, \"distinct_value_count\": 792}, {\"value_count\": 1, \"group_name\": \"zipcode\", \"value\": \"32625\", \"total_non_null_rows\": 17994, \"total_rows_inc_nulls\": 18034, \"distinct_value_count\": 792}, {\"value_count\": 1, \"group_name\": \"zipcode\", \"value\": \"32304\", \"total_non_null_rows\": 17994, \"total_rows_inc_nulls\": 18034, \"distinct_value_count\": 792}, {\"value_count\": 1, \"group_name\": \"zipcode\", \"value\": \"32350\", \"total_non_null_rows\": 17994, \"total_rows_inc_nulls\": 18034, \"distinct_value_count\": 792}, {\"value_count\": 1, \"group_name\": \"zipcode\", \"value\": \"32667\", \"total_non_null_rows\": 17994, \"total_rows_inc_nulls\": 18034, \"distinct_value_count\": 792}, {\"value_count\": 1, \"group_name\": \"zipcode\", \"value\": \"32303\", \"total_non_null_rows\": 17994, \"total_rows_inc_nulls\": 18034, \"distinct_value_count\": 792}]}, \"mark\": \"bar\", \"encoding\": {\"x\": {\"type\": \"nominal\", \"field\": \"value\", \"sort\": \"-y\", \"title\": null}, \"y\": {\"type\": \"quantitative\", \"field\": \"value_count\", \"title\": \"Value count\", \"scale\": {\"domain\": [0, 167]}}, \"tooltip\": [{\"field\": \"value\", \"type\": \"nominal\"}, {\"field\": \"value_count\", \"type\": \"quantitative\"}, {\"field\": \"total_non_null_rows\", \"type\": \"quantitative\"}, {\"field\": \"total_rows_inc_nulls\", \"type\": \"quantitative\"}]}, \"title\": \"Bottom 10 values by value count\"}]}], \"$schema\": \"https://vega.github.io/schema/vega-lite/v4.8.1.json\"}, {\"mode\": \"vega-lite\"});\n",
       "</script>"
      ],
      "text/plain": [
       "<splink.charts.VegaliteNoValidate at 0x7f3f62ec9700>"
      ]
     },
     "execution_count": 17,
     "metadata": {},
     "output_type": "execute_result"
    }
   ],
   "source": [
    "linker.profile_columns(['address', 'zipcode'])"
   ]
  },
  {
   "cell_type": "markdown",
   "id": "3bb23755",
   "metadata": {},
   "source": [
    "# Indexing/Blocking\n",
    "\n",
    "[Blocking in Splink](https://moj-analytical-services.github.io/splink/demos/02_Blocking.html)\n",
    "\n",
    "From the documentation:\n",
    "\n",
    "> ### Devising effective blocking rules\n",
    ">\n",
    "> The aims of your blocking rules are twofold: 1. Eliminate enough non-matching comparison pairs so your record linkage job is small enough to compute 2. Eliminate as few truly matching pairs as possible (ideally none)\n",
    ">\n",
    "> It is usually impossible to find a single blocking rule which achieves both aims, so we recommend using multiple blocking rules.\n",
    ">\n",
    "> When we specify multiple blocking rules, Splink will generate all comparison pairs that meet any one of the rules.\n",
    ">\n",
    "> ### Blocking rules in Splink\n",
    ">\n",
    "> In Splink, blocking rules are specified as SQL expressions.\n",
    ">\n",
    "> For example, to generate the subset of record comparisons where the first name matches, we can specify the following blocking rule:\n",
    ">\n",
    "> `l.first_name = r.first_name`\n",
    ">\n",
    "> Since blocking rules are SQL expressions, they can be arbitrarily complex. For example, you could create record comparisons where the initial of the first name and the surname match with the following rule:\n",
    ">\n",
    "> `substr(l.first_name, 1,1) = substr(r.first_name, 1,1) and l.surname = r.surname`"
   ]
  },
  {
   "cell_type": "code",
   "execution_count": 18,
   "id": "3aec2394",
   "metadata": {},
   "outputs": [
    {
     "name": "stdout",
     "output_type": "stream",
     "text": [
      "Number of comparisons generated by 'l.first_name = r.first_name and l.last_name = r.last_name': 8,252\n",
      "Number of comparisons generated by 'l.sex = r.sex and l.zipcode = r.zipcode': 90,847\n",
      "Number of comparisons generated by 'l.sex = r.sex and abs(round(r.age) - (round(l.age)+10)) <= 1 and substr(l.last_name, 1,1) = substr(r.last_name, 1,1)': 93,986\n"
     ]
    },
    {
     "data": {
      "text/html": [
       "\n",
       "<div id=\"altair-viz-45ad4066fd4442aca88c33892287a4b9\"></div>\n",
       "<script type=\"text/javascript\">\n",
       "  var VEGA_DEBUG = (typeof VEGA_DEBUG == \"undefined\") ? {} : VEGA_DEBUG;\n",
       "  (function(spec, embedOpt){\n",
       "    let outputDiv = document.currentScript.previousElementSibling;\n",
       "    if (outputDiv.id !== \"altair-viz-45ad4066fd4442aca88c33892287a4b9\") {\n",
       "      outputDiv = document.getElementById(\"altair-viz-45ad4066fd4442aca88c33892287a4b9\");\n",
       "    }\n",
       "    const paths = {\n",
       "      \"vega\": \"https://cdn.jsdelivr.net/npm//vega@5?noext\",\n",
       "      \"vega-lib\": \"https://cdn.jsdelivr.net/npm//vega-lib?noext\",\n",
       "      \"vega-lite\": \"https://cdn.jsdelivr.net/npm//vega-lite@4.17.0?noext\",\n",
       "      \"vega-embed\": \"https://cdn.jsdelivr.net/npm//vega-embed@6?noext\",\n",
       "    };\n",
       "\n",
       "    function maybeLoadScript(lib, version) {\n",
       "      var key = `${lib.replace(\"-\", \"\")}_version`;\n",
       "      return (VEGA_DEBUG[key] == version) ?\n",
       "        Promise.resolve(paths[lib]) :\n",
       "        new Promise(function(resolve, reject) {\n",
       "          var s = document.createElement('script');\n",
       "          document.getElementsByTagName(\"head\")[0].appendChild(s);\n",
       "          s.async = true;\n",
       "          s.onload = () => {\n",
       "            VEGA_DEBUG[key] = version;\n",
       "            return resolve(paths[lib]);\n",
       "          };\n",
       "          s.onerror = () => reject(`Error loading script: ${paths[lib]}`);\n",
       "          s.src = paths[lib];\n",
       "        });\n",
       "    }\n",
       "\n",
       "    function showError(err) {\n",
       "      outputDiv.innerHTML = `<div class=\"error\" style=\"color:red;\">${err}</div>`;\n",
       "      throw err;\n",
       "    }\n",
       "\n",
       "    function displayChart(vegaEmbed) {\n",
       "      vegaEmbed(outputDiv, spec, embedOpt)\n",
       "        .catch(err => showError(`Javascript Error: ${err.message}<br>This usually means there's a typo in your chart specification. See the javascript console for the full traceback.`));\n",
       "    }\n",
       "\n",
       "    if(typeof define === \"function\" && define.amd) {\n",
       "      requirejs.config({paths});\n",
       "      require([\"vega-embed\"], displayChart, err => showError(`Error loading script: ${err.message}`));\n",
       "    } else {\n",
       "      maybeLoadScript(\"vega\", \"5\")\n",
       "        .then(() => maybeLoadScript(\"vega-lite\", \"4.17.0\"))\n",
       "        .then(() => maybeLoadScript(\"vega-embed\", \"6\"))\n",
       "        .catch(showError)\n",
       "        .then(() => displayChart(vegaEmbed));\n",
       "    }\n",
       "  })({\"$schema\": \"https://vega.github.io/schema/vega-lite/v5.json\", \"width\": 450, \"height\": 200, \"title\": {\"text\": \"Count of Additional Comparisons Generated by Each Blocking Rule\", \"subtitle\": \"(Counts exclude comparisons already generated by previous rules)\"}, \"data\": {\"values\": [{\"row_count\": 8252, \"rule\": \"l.first_name = r.first_name and l.last_name = r.last_name\", \"cumulative_rows\": 8252, \"cartesian\": 81077805, \"reduction_ratio\": \"The rolling reduction ratio with your given blocking rule(s) is 1.0. \\nThis represents the reduction in the total number of comparisons due to your rule(s).\", \"start\": 0}, {\"row_count\": 86572, \"rule\": \"l.sex = r.sex and l.zipcode = r.zipcode\", \"cumulative_rows\": 94824, \"cartesian\": 81077805, \"reduction_ratio\": \"The rolling reduction ratio with your given blocking rule(s) is 0.999. \\nThis represents the reduction in the total number of comparisons due to your rule(s).\", \"start\": 8252}, {\"row_count\": 86591, \"rule\": \"l.sex = r.sex and abs(round(r.age) - (round(l.age)+10)) <= 1 and substr(l.last_name, 1,1) = substr(r.last_name, 1,1)\", \"cumulative_rows\": 181415, \"cartesian\": 81077805, \"reduction_ratio\": \"The rolling reduction ratio with your given blocking rule(s) is 0.998. \\nThis represents the reduction in the total number of comparisons due to your rule(s).\", \"start\": 94824}]}, \"mark\": \"bar\", \"encoding\": {\"x\": {\"title\": \"Comparisons Generated by Rule(s)\", \"field\": \"start\", \"type\": \"quantitative\"}, \"x2\": {\"field\": \"cumulative_rows\"}, \"y\": {\"field\": \"rule\", \"title\": \"SQL Blocking Rule\", \"sort\": [\"-x2\"]}, \"color\": {\"field\": \"rule\", \"legend\": null, \"scale\": {\"scheme\": \"category20c\"}}, \"order\": {\"field\": \"cumulative_rows\"}, \"tooltip\": [{\"type\": \"nominal\", \"field\": \"rule\", \"title\": \"SQL Condition\"}, {\"type\": \"quantitative\", \"field\": \"row_count\", \"title\": \"Comparisons Generated\", \"format\": \",\"}, {\"type\": \"quantitative\", \"field\": \"cumulative_rows\", \"title\": \"Cumulative Comparisons\", \"format\": \",\"}, {\"type\": \"quantitative\", \"field\": \"cartesian\", \"title\": \"Cartesian Product of Input Data\", \"format\": \",\"}, {\"type\": \"quantitative\", \"field\": \"reduction_ratio\", \"title\": \"Reduction Ratio (cumulative rows/cartesian product)\"}]}}, {\"mode\": \"vega-lite\"});\n",
       "</script>"
      ],
      "text/plain": [
       "<splink.charts.VegaliteNoValidate at 0x7f3f8ae78160>"
      ]
     },
     "execution_count": 18,
     "metadata": {},
     "output_type": "execute_result"
    }
   ],
   "source": [
    "blocking_rules = [\n",
    "#     'l.zipcode = r.zipcode',\n",
    "    'l.first_name = r.first_name and l.last_name = r.last_name',\n",
    "    'l.sex = r.sex and l.zipcode = r.zipcode',\n",
    "    (\n",
    "        'l.sex = r.sex'\n",
    "        ' and abs(round(r.age) - (round(l.age)+10)) <= 1'\n",
    "#         ' and substr(l.first_name, 1,1) = substr(r.first_name, 1,1)'\n",
    "        ' and substr(l.last_name, 1,1) = substr(r.last_name, 1,1)'\n",
    "    ), # Age, sex, and initials of first and last name\n",
    "]\n",
    "\n",
    "for rule in blocking_rules:\n",
    "    count = linker.count_num_comparisons_from_blocking_rule(rule)\n",
    "    print(f\"Number of comparisons generated by '{rule}': {count:,.0f}\")\n",
    "\n",
    "linker.cumulative_num_comparisons_from_blocking_rules_chart(blocking_rules)"
   ]
  },
  {
   "cell_type": "markdown",
   "id": "91144376",
   "metadata": {},
   "source": [
    "# Make a settings dictionary and do a comparison\n",
    "\n",
    "[Specifying and estimating a linkage model in Splink](https://moj-analytical-services.github.io/splink/demos/03_Estimating_model_parameters.html)\n",
    "\n",
    "\n",
    "From [Comparison](https://moj-analytical-services.github.io/splink/comparison.html) documentation page:\n",
    "\n",
    "> As far as possible, Comparisons should be configured to satisfy the assumption of independece conditional on the true match status, a key assumption of the Fellegi Sunter probabilistic linkage model. This would be broken, for example, if a model contained one Comparison for city, and another for postcode. Instead, in this example, a single comparison should be modelled, which may to capture similarity taking account of both the city and postcode field.\n",
    "\n",
    "\n",
    "https://moj-analytical-services.github.io/splink/topic_guides/customising_comparisons.html\n",
    "\n",
    "https://moj-analytical-services.github.io/splink/settingseditor/editor.html\n",
    "\n",
    "https://moj-analytical-services.github.io/splink/settings_dict_guide.html#probability_two_random_records_match\n",
    "\n",
    "\n",
    "From Tutorial [03 Estimating model parameters](https://moj-analytical-services.github.io/splink/demos/03_Estimating_model_parameters.html) documentation:\n",
    "\n",
    "> ### Estimation of `probability_two_random_records_match`\n",
    ">\n",
    "> In some cases, the `probability_two_random_records_match` will be known. For example, if you are linking two tables of 10,000 records and expect a one-to-one match, then you should set this value to 1/10_000 [in your settings](https://moj-analytical-services.github.io/splink/settings_dict_guide.html#probability_two_random_records_match) instead of estimating it.\n",
    "> \n",
    "> More generally, this parameter is unknown and needs to be estimated.\n",
    "> \n",
    "> It can be estimated accurately enough for most purposes by combining a series of deterministic matching rules and a guess of the recall corresponding to those rules. For further details of the rationale behind this appraoch see [here](https://github.com/moj-analytical-services/splink/issues/462#issuecomment-1227027995).\n",
    ">\n",
    "> In this example, I guess that the following deterministic matching rules have a recall of about 70%:\n",
    ">\n",
    ">    ```python\n",
    ">    deterministic_rules = [\n",
    ">        \"l.first_name = r.first_name and levenshtein(r.dob, l.dob) <= 1\",\n",
    ">        \"l.surname = r.surname and levenshtein(r.dob, l.dob) <= 1\",\n",
    ">        \"l.first_name = r.first_name and levenshtein(r.surname, l.surname) <= 2\",\n",
    ">        \"l.email = r.email\"\n",
    ">    ]\n",
    ">\n",
    ">    linker.estimate_probability_two_random_records_match(deterministic_rules, recall=0.7)\n",
    ">    ```\n",
    "\n",
    "**Question:** Why does this work, and how are you supposed to estimate the recall?\n",
    "\n",
    "The github issue in referred in the documentation has partial answers, but I think does not explain things sufficiently for someone who doesn't understand the F-S algorithm well: https://github.com/moj-analytical-services/splink/issues/462#issuecomment-1227027995\n",
    "\n",
    "**Question:** What if you don't make a good guess? Will the EM algorithm perform badly?\n",
    "\n",
    "From the [settings dict guide documentation on `probability_two_random_records_match`](https://moj-analytical-services.github.io/splink/settings_dict_guide.html#probability_two_random_records_match):\n",
    "\n",
    "> If you estimate parameters using expectation maximisation (EM), this provides an initial value (prior) from which the EM algorithm will start iterating. EM will then estimate the true value of this parameter.\n",
    ">\n",
    "> **Default value**: 0.0001\n",
    ">\n",
    "> **Examples**: [1e-05, 0.006]\n",
    "\n",
    "In my initial test using the records with index under 1000 from the 2020 and 2030 censuses (960 and 865 records, respectively), the true probability of a match is\n",
    "\n",
    "$$\n",
    "\\frac{\\text{number of true matches}}{\\text{number of pairs}} = \n",
    "\\frac{828}{960 \\cdot 865} = 0.0009971\\ldots \\approx 0.001.\n",
    "$$\n",
    "\n",
    "Note that if we didn't look at the actual number of records in each data set, and instead just assumed that each of them had the full 1000 records originally specified, then this true probability is quite close to the value we would get using the one-to-one assumption as mentioned in the Splink documentation above, which would be\n",
    "\n",
    "$$\n",
    "\\frac{\\text{number of true matches}}{\\text{number of pairs}} =\n",
    "\\frac{1000}{1000 \\cdot 1000} = 0.001.\n",
    "$$\n",
    "\n",
    "I'm not sure whether there's any good reason for this besides the fact that both datasets still have approximately 1000 records, and the 1:1 assumption should be close to true.\n",
    "\n",
    "Here's code from my original version of this notebook with records up to 1000:\n",
    "\n",
    "```\n",
    "true_probability_two_random_records_match(subcensus[2020], subcensus[2030])\n",
    ">>0.0009971098265895953\n",
    "\n",
    "# Assume both datasets had the original specified length of 1000 and matching is 1:1\n",
    "1/1000\n",
    ">>0.001\n",
    "\n",
    "# Compare with true number of matches / inflated denominator\n",
    "828 / 1000**2\n",
    ">>0.000828\n",
    "\n",
    "print(subcensus[2020].shape, subcensus[2030].shape)\n",
    ">>(960, 11) (865, 11)\n",
    "\n",
    "# Assume 1:1 match with same of number of records equal to geometric mean\n",
    "1/(960*865)**(1/2)\n",
    ">>0.0010973782032653676\n",
    "\n",
    "# Assume 1:1 match of all records from smaller dataset\n",
    "1/960\n",
    ">>0.0010416666666666667\n",
    "```"
   ]
  },
  {
   "cell_type": "code",
   "execution_count": 19,
   "id": "96ad3a19",
   "metadata": {},
   "outputs": [
    {
     "data": {
      "text/plain": [
       "0    3.450\n",
       "1    2.984\n",
       "dtype: float64"
      ]
     },
     "execution_count": 19,
     "metadata": {},
     "output_type": "execute_result"
    }
   ],
   "source": [
    "s = pd.Series([3.45, 2.984])\n",
    "s"
   ]
  },
  {
   "cell_type": "code",
   "execution_count": 20,
   "id": "d54e786d",
   "metadata": {},
   "outputs": [
    {
     "data": {
      "text/plain": [
       "0    3.0\n",
       "1    2.0\n",
       "dtype: float64"
      ]
     },
     "execution_count": 20,
     "metadata": {},
     "output_type": "execute_result"
    }
   ],
   "source": [
    "s.floordiv(1)"
   ]
  },
  {
   "cell_type": "code",
   "execution_count": 21,
   "id": "82ebd403",
   "metadata": {},
   "outputs": [
    {
     "name": "stdout",
     "output_type": "stream",
     "text": [
      "8106\n"
     ]
    },
    {
     "data": {
      "text/plain": [
       "9.997803961269055e-05"
      ]
     },
     "execution_count": 21,
     "metadata": {},
     "output_type": "execute_result"
    }
   ],
   "source": [
    "def true_probability_two_random_records_match(df1, df2):\n",
    "    size_intersection = len(df1.index.intersection(df2.index))\n",
    "    print(size_intersection)\n",
    "    return size_intersection / (len(df1) * len(df2))\n",
    "\n",
    "true_probability_two_random_records_match(subcensus[2020], subcensus[2030])"
   ]
  },
  {
   "cell_type": "code",
   "execution_count": 22,
   "id": "1a75b021",
   "metadata": {},
   "outputs": [
    {
     "data": {
      "text/plain": [
       "0.0001"
      ]
     },
     "execution_count": 22,
     "metadata": {},
     "output_type": "execute_result"
    }
   ],
   "source": [
    "1/10_000 # Assume both datasets had the original specified length of 1000 and matching is 1:1"
   ]
  },
  {
   "cell_type": "code",
   "execution_count": 23,
   "id": "fddc9fd6",
   "metadata": {},
   "outputs": [
    {
     "data": {
      "text/plain": [
       "0.000828"
      ]
     },
     "execution_count": 23,
     "metadata": {},
     "output_type": "execute_result"
    }
   ],
   "source": [
    "828 / 1000**2 # Compare with true number of matches / inflated denominator"
   ]
  },
  {
   "cell_type": "code",
   "execution_count": 24,
   "id": "e1dfa602",
   "metadata": {},
   "outputs": [
    {
     "name": "stdout",
     "output_type": "stream",
     "text": [
      "(9495, 11) (8539, 11)\n"
     ]
    }
   ],
   "source": [
    "print(subcensus[2020].shape, subcensus[2030].shape)"
   ]
  },
  {
   "cell_type": "code",
   "execution_count": 25,
   "id": "7d293b4e",
   "metadata": {},
   "outputs": [
    {
     "data": {
      "text/plain": [
       "0.0010973782032653676"
      ]
     },
     "execution_count": 25,
     "metadata": {},
     "output_type": "execute_result"
    }
   ],
   "source": [
    "1/(960*865)**(1/2) # Assume 1:1 match with same of number of records equal to geometric mean"
   ]
  },
  {
   "cell_type": "code",
   "execution_count": 26,
   "id": "0135457d",
   "metadata": {},
   "outputs": [
    {
     "data": {
      "text/plain": [
       "0.0010416666666666667"
      ]
     },
     "execution_count": 26,
     "metadata": {},
     "output_type": "execute_result"
    }
   ],
   "source": [
    "1/960 # Assume 1:1 match of all records from smaller dataset"
   ]
  },
  {
   "cell_type": "code",
   "execution_count": 27,
   "id": "83b4cb7c",
   "metadata": {},
   "outputs": [],
   "source": [
    "# # Example from https://moj-analytical-services.github.io/splink/topic_guides/customising_comparisons.html\n",
    "#\n",
    "# comparison_first_name = {\n",
    "#     \"output_column_name\": \"first_name\",\n",
    "#     \"comparison_description\": \"First name jaro dmeta\",\n",
    "#     \"comparison_levels\": [\n",
    "#         {\n",
    "#             \"sql_condition\": \"first_name_l IS NULL OR first_name_r IS NULL\",\n",
    "#             \"label_for_charts\": \"Null\",\n",
    "#             \"is_null_level\": True,\n",
    "#         },\n",
    "#         {\n",
    "#             \"sql_condition\": \"first_name_l = first_name_r\",\n",
    "#             \"label_for_charts\": \"Exact match\",\n",
    "#             \"tf_adjustment_column\": \"first_name\",\n",
    "#             \"tf_adjustment_weight\": 1.0,\n",
    "#             \"tf_minimum_u_value\": 0.001,\n",
    "#         },\n",
    "#         {\n",
    "#             \"sql_condition\": \"dmeta_first_name_l = dmeta_first_name_r\",\n",
    "#             \"label_for_charts\": \"Exact match\",\n",
    "#             \"tf_adjustment_column\": \"dmeta_first_name\",\n",
    "#             \"tf_adjustment_weight\": 1.0,\n",
    "#         },\n",
    "#         {\n",
    "#             \"sql_condition\": \"jaro_winkler_sim(first_name_l, first_name_r) > 0.8\",\n",
    "#             \"label_for_charts\": \"Exact match\",\n",
    "#             \"tf_adjustment_column\": \"first_name\",\n",
    "#             \"tf_adjustment_weight\": 0.5,\n",
    "#             \"tf_minimum_u_value\": 0.001,\n",
    "#         },\n",
    "#         {\"sql_condition\": \"ELSE\", \"label_for_charts\": \"All other comparisons\"},\n",
    "#     ],\n",
    "\n",
    "# }\n",
    "\n",
    "age_comparison = {\n",
    "    \"output_column_name\": \"age\",\n",
    "    \"comparison_description\": \"Age difference approximately 10\",\n",
    "    \"comparison_levels\": [\n",
    "        {\n",
    "            \"sql_condition\": \"age_l IS NULL OR age_r IS NULL\",\n",
    "            \"label_for_charts\": \"Null\",\n",
    "            \"is_null_level\": True,\n",
    "        },\n",
    "        {\n",
    "            \"sql_condition\": \"round(age_r) - round(age_l) = 10\",\n",
    "            \"label_for_charts\": \"Exact match\",\n",
    "        },\n",
    "        {\n",
    "            \"sql_condition\": \"abs(round(age_r) - (round(age_l)+10)) = 1\",\n",
    "            \"label_for_charts\": \"Age within 1 year\",\n",
    "        },\n",
    "        {\"sql_condition\": \"ELSE\", \"label_for_charts\": \"Age difference >= 2 years\"},\n",
    "    ],\n",
    "}"
   ]
  },
  {
   "cell_type": "code",
   "execution_count": 28,
   "id": "14daf725",
   "metadata": {},
   "outputs": [
    {
     "name": "stdout",
     "output_type": "stream",
     "text": [
      "8106\n"
     ]
    }
   ],
   "source": [
    "settings = {\n",
    "    \"link_type\": \"link_only\",\n",
    "    \"comparisons\": [\n",
    "        cl.levenshtein_at_thresholds(\"first_name\"),\n",
    "        cl.levenshtein_at_thresholds(\"last_name\"),\n",
    "#         c1.exact_match(\"last_name\"),\n",
    "#         cl.levenshtein_at_thresholds(\"date_of_birth\", 1),\n",
    "        cl.exact_match(\"sex\"),\n",
    "        age_comparison,\n",
    "#         cl.levenshtein_at_thresholds(\"zipcode\"),\n",
    "    ],\n",
    "    \"blocking_rules_to_generate_predictions\": blocking_rules,\n",
    "    \"probability_two_random_records_match\":\n",
    "        true_probability_two_random_records_match(subcensus[2020], subcensus[2030]),\n",
    "    \"retain_matching_columns\": True,\n",
    "    \"retain_intermediate_calculation_columns\": True,\n",
    "}\n",
    "\n",
    "linker.initialise_settings(settings)"
   ]
  },
  {
   "cell_type": "markdown",
   "id": "567df614",
   "metadata": {},
   "source": [
    "## Estimate u probabilities\n",
    "\n",
    "https://moj-analytical-services.github.io/splink/demos/03_Estimating_model_parameters.html#estimation-of-u-probabilities"
   ]
  },
  {
   "cell_type": "code",
   "execution_count": 29,
   "id": "ace65cc0",
   "metadata": {},
   "outputs": [
    {
     "name": "stderr",
     "output_type": "stream",
     "text": [
      "----- Estimating u probabilities using random sampling -----\n",
      "\n",
      "Estimated u probabilities using random sampling\n",
      "\n",
      "Your model is not yet fully trained. Missing estimates for:\n",
      "    - first_name (no m values are trained).\n",
      "    - last_name (no m values are trained).\n",
      "    - sex (no m values are trained).\n",
      "    - age (no m values are trained).\n"
     ]
    },
    {
     "name": "stdout",
     "output_type": "stream",
     "text": [
      "CPU times: user 1.39 s, sys: 0 ns, total: 1.39 s\n",
      "Wall time: 722 ms\n"
     ]
    }
   ],
   "source": [
    "%%time\n",
    "linker.estimate_u_using_random_sampling(target_rows=1e6)"
   ]
  },
  {
   "cell_type": "markdown",
   "id": "dc2e794a",
   "metadata": {},
   "source": [
    "## Estimate m probabilities\n",
    "\n",
    "https://moj-analytical-services.github.io/splink/demos/03_Estimating_model_parameters.html#estimation-of-m-probabilities\n",
    "\n",
    "Difference between blocking rules for prediction (once the EM algorithm has estimated parameters) vs. estimation (training of EM algorithm):\n",
    "\n",
    "https://moj-analytical-services.github.io/splink/topic_guides/blocking_rules.html\n",
    "\n",
    "https://www.robinlinacre.com/comparing_splink_models_unsupervised/"
   ]
  },
  {
   "cell_type": "code",
   "execution_count": 30,
   "id": "aedfd62d",
   "metadata": {},
   "outputs": [
    {
     "name": "stdout",
     "output_type": "stream",
     "text": [
      "Number of comparisons generated by 'l.last_name = r.last_name': 63,565\n",
      "Number of comparisons generated by 'l.zipcode = r.zipcode': 179,130\n",
      "Number of comparisons generated by 'l.age + 10 = r.age': 969,843\n"
     ]
    },
    {
     "data": {
      "text/html": [
       "\n",
       "<div id=\"altair-viz-6bfc2e3745f34d01b32293964d61e8b9\"></div>\n",
       "<script type=\"text/javascript\">\n",
       "  var VEGA_DEBUG = (typeof VEGA_DEBUG == \"undefined\") ? {} : VEGA_DEBUG;\n",
       "  (function(spec, embedOpt){\n",
       "    let outputDiv = document.currentScript.previousElementSibling;\n",
       "    if (outputDiv.id !== \"altair-viz-6bfc2e3745f34d01b32293964d61e8b9\") {\n",
       "      outputDiv = document.getElementById(\"altair-viz-6bfc2e3745f34d01b32293964d61e8b9\");\n",
       "    }\n",
       "    const paths = {\n",
       "      \"vega\": \"https://cdn.jsdelivr.net/npm//vega@5?noext\",\n",
       "      \"vega-lib\": \"https://cdn.jsdelivr.net/npm//vega-lib?noext\",\n",
       "      \"vega-lite\": \"https://cdn.jsdelivr.net/npm//vega-lite@4.17.0?noext\",\n",
       "      \"vega-embed\": \"https://cdn.jsdelivr.net/npm//vega-embed@6?noext\",\n",
       "    };\n",
       "\n",
       "    function maybeLoadScript(lib, version) {\n",
       "      var key = `${lib.replace(\"-\", \"\")}_version`;\n",
       "      return (VEGA_DEBUG[key] == version) ?\n",
       "        Promise.resolve(paths[lib]) :\n",
       "        new Promise(function(resolve, reject) {\n",
       "          var s = document.createElement('script');\n",
       "          document.getElementsByTagName(\"head\")[0].appendChild(s);\n",
       "          s.async = true;\n",
       "          s.onload = () => {\n",
       "            VEGA_DEBUG[key] = version;\n",
       "            return resolve(paths[lib]);\n",
       "          };\n",
       "          s.onerror = () => reject(`Error loading script: ${paths[lib]}`);\n",
       "          s.src = paths[lib];\n",
       "        });\n",
       "    }\n",
       "\n",
       "    function showError(err) {\n",
       "      outputDiv.innerHTML = `<div class=\"error\" style=\"color:red;\">${err}</div>`;\n",
       "      throw err;\n",
       "    }\n",
       "\n",
       "    function displayChart(vegaEmbed) {\n",
       "      vegaEmbed(outputDiv, spec, embedOpt)\n",
       "        .catch(err => showError(`Javascript Error: ${err.message}<br>This usually means there's a typo in your chart specification. See the javascript console for the full traceback.`));\n",
       "    }\n",
       "\n",
       "    if(typeof define === \"function\" && define.amd) {\n",
       "      requirejs.config({paths});\n",
       "      require([\"vega-embed\"], displayChart, err => showError(`Error loading script: ${err.message}`));\n",
       "    } else {\n",
       "      maybeLoadScript(\"vega\", \"5\")\n",
       "        .then(() => maybeLoadScript(\"vega-lite\", \"4.17.0\"))\n",
       "        .then(() => maybeLoadScript(\"vega-embed\", \"6\"))\n",
       "        .catch(showError)\n",
       "        .then(() => displayChart(vegaEmbed));\n",
       "    }\n",
       "  })({\"$schema\": \"https://vega.github.io/schema/vega-lite/v5.json\", \"width\": 450, \"height\": 200, \"title\": {\"text\": \"Count of Additional Comparisons Generated by Each Blocking Rule\", \"subtitle\": \"(Counts exclude comparisons already generated by previous rules)\"}, \"data\": {\"values\": [{\"row_count\": 63565, \"rule\": \"l.last_name = r.last_name\", \"cumulative_rows\": 63565, \"cartesian\": 81077805, \"reduction_ratio\": \"The rolling reduction ratio with your given blocking rule(s) is 0.999. \\nThis represents the reduction in the total number of comparisons due to your rule(s).\", \"start\": 0}, {\"row_count\": 174725, \"rule\": \"l.zipcode = r.zipcode\", \"cumulative_rows\": 238290, \"cartesian\": 81077805, \"reduction_ratio\": \"The rolling reduction ratio with your given blocking rule(s) is 0.997. \\nThis represents the reduction in the total number of comparisons due to your rule(s).\", \"start\": 63565}, {\"row_count\": 960124, \"rule\": \"l.age + 10 = r.age\", \"cumulative_rows\": 1198414, \"cartesian\": 81077805, \"reduction_ratio\": \"The rolling reduction ratio with your given blocking rule(s) is 0.985. \\nThis represents the reduction in the total number of comparisons due to your rule(s).\", \"start\": 238290}]}, \"mark\": \"bar\", \"encoding\": {\"x\": {\"title\": \"Comparisons Generated by Rule(s)\", \"field\": \"start\", \"type\": \"quantitative\"}, \"x2\": {\"field\": \"cumulative_rows\"}, \"y\": {\"field\": \"rule\", \"title\": \"SQL Blocking Rule\", \"sort\": [\"-x2\"]}, \"color\": {\"field\": \"rule\", \"legend\": null, \"scale\": {\"scheme\": \"category20c\"}}, \"order\": {\"field\": \"cumulative_rows\"}, \"tooltip\": [{\"type\": \"nominal\", \"field\": \"rule\", \"title\": \"SQL Condition\"}, {\"type\": \"quantitative\", \"field\": \"row_count\", \"title\": \"Comparisons Generated\", \"format\": \",\"}, {\"type\": \"quantitative\", \"field\": \"cumulative_rows\", \"title\": \"Cumulative Comparisons\", \"format\": \",\"}, {\"type\": \"quantitative\", \"field\": \"cartesian\", \"title\": \"Cartesian Product of Input Data\", \"format\": \",\"}, {\"type\": \"quantitative\", \"field\": \"reduction_ratio\", \"title\": \"Reduction Ratio (cumulative rows/cartesian product)\"}]}}, {\"mode\": \"vega-lite\"});\n",
       "</script>"
      ],
      "text/plain": [
       "<splink.charts.VegaliteNoValidate at 0x7f3f62ee9430>"
      ]
     },
     "execution_count": 30,
     "metadata": {},
     "output_type": "execute_result"
    }
   ],
   "source": [
    "training_blocking_rules = [\"l.last_name = r.last_name\", 'l.zipcode = r.zipcode', 'l.age + 10 = r.age']\n",
    "for rule in training_blocking_rules:\n",
    "    count = linker.count_num_comparisons_from_blocking_rule(rule)\n",
    "    print(f\"Number of comparisons generated by '{rule}': {count:,.0f}\")\n",
    "\n",
    "linker.cumulative_num_comparisons_from_blocking_rules_chart(training_blocking_rules)\n",
    "# training_session_fname_sname = linker.estimate_parameters_using_expectation_maximisation(training_blocking_rule)\n"
   ]
  },
  {
   "cell_type": "code",
   "execution_count": 31,
   "id": "2f75c12e",
   "metadata": {},
   "outputs": [
    {
     "name": "stderr",
     "output_type": "stream",
     "text": [
      "\n",
      "----- Starting EM training session -----\n",
      "\n",
      "Estimating the m probabilities of the model by blocking on:\n",
      "l.zipcode = r.zipcode\n",
      "\n",
      "Parameter estimates will be made for the following comparison(s):\n",
      "    - first_name\n",
      "    - last_name\n",
      "    - sex\n",
      "    - age\n",
      "\n",
      "Parameter estimates cannot be made for the following comparison(s) since they are used in the blocking rules: \n",
      "\n",
      "Iteration 1: Largest change in params was -0.075 in the m_probability of age, level `Exact match`\n",
      "Iteration 2: Largest change in params was 0.0994 in the m_probability of age, level `Age difference >= 2 years`\n",
      "Iteration 3: Largest change in params was 0.000346 in the m_probability of last_name, level `All other comparisons`\n",
      "Iteration 4: Largest change in params was 0.000481 in the m_probability of last_name, level `All other comparisons`\n",
      "Iteration 5: Largest change in params was 0.000503 in the m_probability of last_name, level `All other comparisons`\n",
      "Iteration 6: Largest change in params was 0.000415 in the m_probability of last_name, level `All other comparisons`\n",
      "Iteration 7: Largest change in params was 0.000292 in the m_probability of last_name, level `All other comparisons`\n",
      "Iteration 8: Largest change in params was 0.000188 in the m_probability of last_name, level `All other comparisons`\n",
      "Iteration 9: Largest change in params was 0.000115 in the m_probability of last_name, level `All other comparisons`\n",
      "Iteration 10: Largest change in params was 6.82e-05 in the m_probability of last_name, level `All other comparisons`\n",
      "\n",
      "EM converged after 10 iterations\n",
      "\n",
      "Your model is fully trained. All comparisons have at least one estimate for their m and u values\n",
      "\n",
      "----- Starting EM training session -----\n",
      "\n",
      "Estimating the m probabilities of the model by blocking on:\n",
      "l.zipcode = r.zipcode\n",
      "\n",
      "Parameter estimates will be made for the following comparison(s):\n",
      "    - first_name\n",
      "    - last_name\n",
      "    - sex\n",
      "    - age\n",
      "\n",
      "Parameter estimates cannot be made for the following comparison(s) since they are used in the blocking rules: \n",
      "\n",
      "Iteration 1: Largest change in params was -0.0276 in the m_probability of age, level `Age difference >= 2 years`\n",
      "Iteration 2: Largest change in params was 0.0274 in the m_probability of age, level `Age difference >= 2 years`\n",
      "Iteration 3: Largest change in params was 8.98e-05 in the m_probability of last_name, level `All other comparisons`\n",
      "\n",
      "EM converged after 3 iterations\n",
      "\n",
      "Your model is fully trained. All comparisons have at least one estimate for their m and u values\n",
      "\n",
      "----- Starting EM training session -----\n",
      "\n",
      "Estimating the m probabilities of the model by blocking on:\n",
      "l.zipcode = r.zipcode\n",
      "\n",
      "Parameter estimates will be made for the following comparison(s):\n",
      "    - first_name\n",
      "    - last_name\n",
      "    - sex\n",
      "    - age\n",
      "\n",
      "Parameter estimates cannot be made for the following comparison(s) since they are used in the blocking rules: \n",
      "\n",
      "Iteration 1: Largest change in params was -0.0275 in the m_probability of age, level `Age difference >= 2 years`\n",
      "Iteration 2: Largest change in params was 0.0274 in the m_probability of age, level `Age difference >= 2 years`\n",
      "Iteration 3: Largest change in params was 4.99e-05 in the m_probability of last_name, level `All other comparisons`\n",
      "\n",
      "EM converged after 3 iterations\n",
      "\n",
      "Your model is fully trained. All comparisons have at least one estimate for their m and u values\n"
     ]
    },
    {
     "name": "stdout",
     "output_type": "stream",
     "text": [
      "CPU times: user 3.25 s, sys: 0 ns, total: 3.25 s\n",
      "Wall time: 2.16 s\n"
     ]
    }
   ],
   "source": [
    "%%time\n",
    "training_sessions = {}\n",
    "for rule in training_blocking_rules:\n",
    "    training_sessions[rule] = linker.estimate_parameters_using_expectation_maximisation(training_blocking_rules[1])\n",
    "    \n",
    "    "
   ]
  },
  {
   "cell_type": "markdown",
   "id": "af591caa",
   "metadata": {},
   "source": [
    "## Make an iterator and look at the three training sessions\n",
    "\n",
    "These all look very similar. I'm not sure how to tell what's going on, e.g. whether the subsequent blocking rules didin't make much difference, as it appears below, or whether the original training session got updated when the later sessions were run."
   ]
  },
  {
   "cell_type": "code",
   "execution_count": 32,
   "id": "f2de80d2",
   "metadata": {},
   "outputs": [],
   "source": [
    "rule_session = iter(training_sessions.items())"
   ]
  },
  {
   "cell_type": "code",
   "execution_count": 33,
   "id": "a8ab60d6",
   "metadata": {},
   "outputs": [
    {
     "name": "stdout",
     "output_type": "stream",
     "text": [
      "l.last_name = r.last_name\n"
     ]
    },
    {
     "data": {
      "text/html": [
       "\n",
       "<div id=\"altair-viz-5a59a13ef16340da98ca36323c8a4e99\"></div>\n",
       "<script type=\"text/javascript\">\n",
       "  var VEGA_DEBUG = (typeof VEGA_DEBUG == \"undefined\") ? {} : VEGA_DEBUG;\n",
       "  (function(spec, embedOpt){\n",
       "    let outputDiv = document.currentScript.previousElementSibling;\n",
       "    if (outputDiv.id !== \"altair-viz-5a59a13ef16340da98ca36323c8a4e99\") {\n",
       "      outputDiv = document.getElementById(\"altair-viz-5a59a13ef16340da98ca36323c8a4e99\");\n",
       "    }\n",
       "    const paths = {\n",
       "      \"vega\": \"https://cdn.jsdelivr.net/npm//vega@5?noext\",\n",
       "      \"vega-lib\": \"https://cdn.jsdelivr.net/npm//vega-lib?noext\",\n",
       "      \"vega-lite\": \"https://cdn.jsdelivr.net/npm//vega-lite@4.17.0?noext\",\n",
       "      \"vega-embed\": \"https://cdn.jsdelivr.net/npm//vega-embed@6?noext\",\n",
       "    };\n",
       "\n",
       "    function maybeLoadScript(lib, version) {\n",
       "      var key = `${lib.replace(\"-\", \"\")}_version`;\n",
       "      return (VEGA_DEBUG[key] == version) ?\n",
       "        Promise.resolve(paths[lib]) :\n",
       "        new Promise(function(resolve, reject) {\n",
       "          var s = document.createElement('script');\n",
       "          document.getElementsByTagName(\"head\")[0].appendChild(s);\n",
       "          s.async = true;\n",
       "          s.onload = () => {\n",
       "            VEGA_DEBUG[key] = version;\n",
       "            return resolve(paths[lib]);\n",
       "          };\n",
       "          s.onerror = () => reject(`Error loading script: ${paths[lib]}`);\n",
       "          s.src = paths[lib];\n",
       "        });\n",
       "    }\n",
       "\n",
       "    function showError(err) {\n",
       "      outputDiv.innerHTML = `<div class=\"error\" style=\"color:red;\">${err}</div>`;\n",
       "      throw err;\n",
       "    }\n",
       "\n",
       "    function displayChart(vegaEmbed) {\n",
       "      vegaEmbed(outputDiv, spec, embedOpt)\n",
       "        .catch(err => showError(`Javascript Error: ${err.message}<br>This usually means there's a typo in your chart specification. See the javascript console for the full traceback.`));\n",
       "    }\n",
       "\n",
       "    if(typeof define === \"function\" && define.amd) {\n",
       "      requirejs.config({paths});\n",
       "      require([\"vega-embed\"], displayChart, err => showError(`Error loading script: ${err.message}`));\n",
       "    } else {\n",
       "      maybeLoadScript(\"vega\", \"5\")\n",
       "        .then(() => maybeLoadScript(\"vega-lite\", \"4.17.0\"))\n",
       "        .then(() => maybeLoadScript(\"vega-embed\", \"6\"))\n",
       "        .catch(showError)\n",
       "        .then(() => displayChart(vegaEmbed));\n",
       "    }\n",
       "  })({\"config\": {\"view\": {\"width\": 400, \"height\": 300}, \"title\": {\"anchor\": \"middle\", \"offset\": 10}, \"header\": {\"title\": null}}, \"params\": [{\"name\": \"iteration_number\", \"value\": 10, \"bind\": {\"input\": \"range\", \"min\": 0, \"max\": 10, \"step\": 1}, \"description\": \"Filter by the interation number\"}], \"hconcat\": [{\"mark\": \"bar\", \"title\": {\"text\": \"Amongst matching record comparisons:\", \"fontWeight\": \"bold\", \"fontSize\": 12}, \"encoding\": {\"row\": {\"type\": \"nominal\", \"field\": \"comparison_name\", \"sort\": {\"field\": \"comparison_sort_order\"}, \"header\": {\"labelAngle\": 0, \"labelAnchor\": \"middle\", \"labelAlign\": \"left\"}}, \"x\": {\"type\": \"quantitative\", \"field\": \"m_probability\", \"axis\": {\"title\": \"Proportion of record comparisons\"}}, \"y\": {\"type\": \"nominal\", \"axis\": {\"title\": null}, \"field\": \"label_for_charts\", \"sort\": {\"field\": \"comparison_vector_value\", \"order\": \"descending\"}}, \"tooltip\": [{\"type\": \"nominal\", \"field\": \"m_probability_description\", \"title\": \"m probability description\"}, {\"type\": \"nominal\", \"field\": \"comparison_name\", \"title\": \"Comparison column name\"}, {\"type\": \"ordinal\", \"field\": \"label_for_charts\", \"title\": \"Label\"}, {\"type\": \"nominal\", \"field\": \"sql_condition\", \"title\": \"SQL condition\"}, {\"type\": \"quantitative\", \"field\": \"m_probability\", \"format\": \".4p\", \"title\": \"m probability\"}, {\"type\": \"quantitative\", \"field\": \"u_probability\", \"format\": \".4p\", \"title\": \"u probability\"}, {\"type\": \"quantitative\", \"field\": \"bayes_factor\", \"title\": \"Bayes factor = m/u\", \"format\": \",.4f\"}, {\"type\": \"quantitative\", \"field\": \"log2_bayes_factor\", \"title\": \"Match weight = log2(m/u)\", \"format\": \",.4f\"}], \"color\": {\"value\": \"green\"}}, \"resolve\": {\"scale\": {\"y\": \"independent\"}}, \"transform\": [{\"filter\": \"(datum.bayes_factor != 'no-op filter due to vega lite issue 4680')\"}], \"width\": 150, \"height\": 50}, {\"mark\": \"bar\", \"title\": {\"text\": \"Amongst non-matching record comparisons:\", \"fontWeight\": \"bold\", \"fontSize\": 12}, \"encoding\": {\"row\": {\"type\": \"nominal\", \"field\": \"comparison_name\", \"sort\": {\"field\": \"comparison_sort_order\"}, \"header\": {\"labels\": false}}, \"x\": {\"type\": \"quantitative\", \"field\": \"u_probability\", \"axis\": {\"title\": \"Proportion of record comparisons\"}}, \"y\": {\"type\": \"nominal\", \"axis\": {\"title\": null}, \"field\": \"label_for_charts\", \"sort\": {\"field\": \"comparison_vector_value\", \"order\": \"descending\"}}, \"tooltip\": [{\"type\": \"nominal\", \"field\": \"u_probability_description\", \"title\": \"u probability description\"}, {\"type\": \"nominal\", \"field\": \"comparison_name\", \"title\": \"Comparison column name\"}, {\"type\": \"ordinal\", \"field\": \"label_for_charts\", \"title\": \"Label\"}, {\"type\": \"nominal\", \"field\": \"sql_condition\", \"title\": \"SQL condition\"}, {\"type\": \"quantitative\", \"field\": \"m_probability\", \"format\": \".4p\", \"title\": \"m probability\"}, {\"type\": \"quantitative\", \"field\": \"u_probability\", \"format\": \".4p\", \"title\": \"u probability\"}, {\"type\": \"quantitative\", \"field\": \"bayes_factor\", \"title\": \"Bayes factor = m/u\", \"format\": \",.4f\"}, {\"type\": \"quantitative\", \"field\": \"log2_bayes_factor\", \"title\": \"Match weight = log2(m/u)\", \"format\": \",.4f\"}], \"color\": {\"value\": \"red\"}}, \"resolve\": {\"scale\": {\"y\": \"independent\"}}, \"transform\": [{\"filter\": \"(datum.bayes_factor != 'no-op filter2 due to vega lite issue 4680')\"}], \"width\": 150, \"height\": 50}], \"data\": {\"values\": [{\"comparison_name\": \"first_name\", \"sql_condition\": \"\\\"first_name_l\\\" = \\\"first_name_r\\\"\", \"label_for_charts\": \"Exact match\", \"m_probability\": 0.95, \"u_probability\": 0.004286071939092783, \"m_probability_description\": \"Amongst matching record comparisons, 95.00% of records are in the exact match comparison level\", \"u_probability_description\": \"Amongst non-matching record comparisons, 0.43% of records are in the exact match comparison level\", \"has_tf_adjustments\": false, \"tf_adjustment_column\": null, \"tf_adjustment_weight\": 1.0, \"is_null_level\": false, \"bayes_factor\": 221.64816958277254, \"log2_bayes_factor\": 7.792127638247852, \"comparison_vector_value\": 3, \"max_comparison_vector_value\": 3, \"bayes_factor_description\": \"If comparison level is `exact match` then comparison is 221.65 times more likely to be a match\", \"probability_two_random_records_match\": 0.023927451232987815, \"comparison_sort_order\": 0, \"iteration\": 0}, {\"comparison_name\": \"first_name\", \"sql_condition\": \"levenshtein(\\\"first_name_l\\\", \\\"first_name_r\\\") <= 1\", \"label_for_charts\": \"levenshtein <= 1\", \"m_probability\": 0.01666666666666668, \"u_probability\": 0.0008722127553039419, \"m_probability_description\": \"Amongst matching record comparisons, 1.67% of records are in the levenshtein <= 1 comparison level\", \"u_probability_description\": \"Amongst non-matching record comparisons, 0.09% of records are in the levenshtein <= 1 comparison level\", \"has_tf_adjustments\": false, \"tf_adjustment_column\": null, \"tf_adjustment_weight\": 1.0, \"is_null_level\": false, \"bayes_factor\": 19.108487654321003, \"log2_bayes_factor\": 4.256141695287997, \"comparison_vector_value\": 2, \"max_comparison_vector_value\": 3, \"bayes_factor_description\": \"If comparison level is `levenshtein <= 1` then comparison is 19.11 times more likely to be a match\", \"probability_two_random_records_match\": 0.023927451232987815, \"comparison_sort_order\": 0, \"iteration\": 0}, {\"comparison_name\": \"first_name\", \"sql_condition\": \"levenshtein(\\\"first_name_l\\\", \\\"first_name_r\\\") <= 2\", \"label_for_charts\": \"levenshtein <= 2\", \"m_probability\": 0.01666666666666668, \"u_probability\": 0.004905619888296774, \"m_probability_description\": \"Amongst matching record comparisons, 1.67% of records are in the levenshtein <= 2 comparison level\", \"u_probability_description\": \"Amongst non-matching record comparisons, 0.49% of records are in the levenshtein <= 2 comparison level\", \"has_tf_adjustments\": false, \"tf_adjustment_column\": null, \"tf_adjustment_weight\": 1.0, \"is_null_level\": false, \"bayes_factor\": 3.3974639385387295, \"log2_bayes_factor\": 1.7644582379779654, \"comparison_vector_value\": 1, \"max_comparison_vector_value\": 3, \"bayes_factor_description\": \"If comparison level is `levenshtein <= 2` then comparison is 3.40 times more likely to be a match\", \"probability_two_random_records_match\": 0.023927451232987815, \"comparison_sort_order\": 0, \"iteration\": 0}, {\"comparison_name\": \"first_name\", \"sql_condition\": \"ELSE\", \"label_for_charts\": \"All other comparisons\", \"m_probability\": 0.01666666666666668, \"u_probability\": 0.9899360954173065, \"m_probability_description\": \"Amongst matching record comparisons, 1.67% of records are in the all other comparisons comparison level\", \"u_probability_description\": \"Amongst non-matching record comparisons, 98.99% of records are in the all other comparisons comparison level\", \"has_tf_adjustments\": false, \"tf_adjustment_column\": null, \"tf_adjustment_weight\": 1.0, \"is_null_level\": false, \"bayes_factor\": 0.016836103606910974, \"log2_bayes_factor\": -5.892297896822229, \"comparison_vector_value\": 0, \"max_comparison_vector_value\": 3, \"bayes_factor_description\": \"If comparison level is `all other comparisons` then comparison is  59.40 times less likely to be a match\", \"probability_two_random_records_match\": 0.023927451232987815, \"comparison_sort_order\": 0, \"iteration\": 0}, {\"comparison_name\": \"last_name\", \"sql_condition\": \"\\\"last_name_l\\\" = \\\"last_name_r\\\"\", \"label_for_charts\": \"Exact match\", \"m_probability\": 0.95, \"u_probability\": 0.0019071001117955237, \"m_probability_description\": \"Amongst matching record comparisons, 95.00% of records are in the exact match comparison level\", \"u_probability_description\": \"Amongst non-matching record comparisons, 0.19% of records are in the exact match comparison level\", \"has_tf_adjustments\": false, \"tf_adjustment_column\": null, \"tf_adjustment_weight\": 1.0, \"is_null_level\": false, \"bayes_factor\": 498.13850574712643, \"log2_bayes_factor\": 8.960403124381497, \"comparison_vector_value\": 3, \"max_comparison_vector_value\": 3, \"bayes_factor_description\": \"If comparison level is `exact match` then comparison is 498.14 times more likely to be a match\", \"probability_two_random_records_match\": 0.023927451232987815, \"comparison_sort_order\": 1, \"iteration\": 0}, {\"comparison_name\": \"last_name\", \"sql_condition\": \"levenshtein(\\\"last_name_l\\\", \\\"last_name_r\\\") <= 1\", \"label_for_charts\": \"levenshtein <= 1\", \"m_probability\": 0.01666666666666668, \"u_probability\": 0.00025843340897894573, \"m_probability_description\": \"Amongst matching record comparisons, 1.67% of records are in the levenshtein <= 1 comparison level\", \"u_probability_description\": \"Amongst non-matching record comparisons, 0.03% of records are in the levenshtein <= 1 comparison level\", \"has_tf_adjustments\": false, \"tf_adjustment_column\": null, \"tf_adjustment_weight\": 1.0, \"is_null_level\": false, \"bayes_factor\": 64.49114583333339, \"log2_bayes_factor\": 6.0110291974514665, \"comparison_vector_value\": 2, \"max_comparison_vector_value\": 3, \"bayes_factor_description\": \"If comparison level is `levenshtein <= 1` then comparison is 64.49 times more likely to be a match\", \"probability_two_random_records_match\": 0.023927451232987815, \"comparison_sort_order\": 1, \"iteration\": 0}, {\"comparison_name\": \"last_name\", \"sql_condition\": \"levenshtein(\\\"last_name_l\\\", \\\"last_name_r\\\") <= 2\", \"label_for_charts\": \"levenshtein <= 2\", \"m_probability\": 0.01666666666666668, \"u_probability\": 0.0019197910381293112, \"m_probability_description\": \"Amongst matching record comparisons, 1.67% of records are in the levenshtein <= 2 comparison level\", \"u_probability_description\": \"Amongst non-matching record comparisons, 0.19% of records are in the levenshtein <= 2 comparison level\", \"has_tf_adjustments\": false, \"tf_adjustment_column\": null, \"tf_adjustment_weight\": 1.0, \"is_null_level\": false, \"bayes_factor\": 8.681500400641033, \"log2_bayes_factor\": 3.117944401367978, \"comparison_vector_value\": 1, \"max_comparison_vector_value\": 3, \"bayes_factor_description\": \"If comparison level is `levenshtein <= 2` then comparison is 8.68 times more likely to be a match\", \"probability_two_random_records_match\": 0.023927451232987815, \"comparison_sort_order\": 1, \"iteration\": 0}, {\"comparison_name\": \"last_name\", \"sql_condition\": \"ELSE\", \"label_for_charts\": \"All other comparisons\", \"m_probability\": 0.01666666666666668, \"u_probability\": 0.9959146754410962, \"m_probability_description\": \"Amongst matching record comparisons, 1.67% of records are in the all other comparisons comparison level\", \"u_probability_description\": \"Amongst non-matching record comparisons, 99.59% of records are in the all other comparisons comparison level\", \"has_tf_adjustments\": false, \"tf_adjustment_column\": null, \"tf_adjustment_weight\": 1.0, \"is_null_level\": false, \"bayes_factor\": 0.016735034714981903, \"log2_bayes_factor\": -5.900984646035595, \"comparison_vector_value\": 0, \"max_comparison_vector_value\": 3, \"bayes_factor_description\": \"If comparison level is `all other comparisons` then comparison is  59.75 times less likely to be a match\", \"probability_two_random_records_match\": 0.023927451232987815, \"comparison_sort_order\": 1, \"iteration\": 0}, {\"comparison_name\": \"sex\", \"sql_condition\": \"\\\"sex_l\\\" = \\\"sex_r\\\"\", \"label_for_charts\": \"Exact match\", \"m_probability\": 0.95, \"u_probability\": 0.5030740884742161, \"m_probability_description\": \"Amongst matching record comparisons, 95.00% of records are in the exact match comparison level\", \"u_probability_description\": \"Amongst non-matching record comparisons, 50.31% of records are in the exact match comparison level\", \"has_tf_adjustments\": false, \"tf_adjustment_column\": null, \"tf_adjustment_weight\": 1.0, \"is_null_level\": false, \"bayes_factor\": 1.8883898450847962, \"log2_bayes_factor\": 0.9171566299073309, \"comparison_vector_value\": 1, \"max_comparison_vector_value\": 1, \"bayes_factor_description\": \"If comparison level is `exact match` then comparison is 1.89 times more likely to be a match\", \"probability_two_random_records_match\": 0.023927451232987815, \"comparison_sort_order\": 2, \"iteration\": 0}, {\"comparison_name\": \"sex\", \"sql_condition\": \"ELSE\", \"label_for_charts\": \"All other comparisons\", \"m_probability\": 0.050000000000000044, \"u_probability\": 0.4969259115257839, \"m_probability_description\": \"Amongst matching record comparisons, 5.00% of records are in the all other comparisons comparison level\", \"u_probability_description\": \"Amongst non-matching record comparisons, 49.69% of records are in the all other comparisons comparison level\", \"has_tf_adjustments\": false, \"tf_adjustment_column\": null, \"tf_adjustment_weight\": 1.0, \"is_null_level\": false, \"bayes_factor\": 0.10061862108674867, \"log2_bayes_factor\": -3.3130307712200913, \"comparison_vector_value\": 0, \"max_comparison_vector_value\": 1, \"bayes_factor_description\": \"If comparison level is `all other comparisons` then comparison is  9.94 times less likely to be a match\", \"probability_two_random_records_match\": 0.023927451232987815, \"comparison_sort_order\": 2, \"iteration\": 0}, {\"comparison_name\": \"age\", \"sql_condition\": \"round(age_r) - round(age_l) = 10\", \"label_for_charts\": \"Exact match\", \"m_probability\": 0.95, \"u_probability\": 0.010308493344762859, \"m_probability_description\": \"Amongst matching record comparisons, 95.00% of records are in the exact match comparison level\", \"u_probability_description\": \"Amongst non-matching record comparisons, 1.03% of records are in the exact match comparison level\", \"has_tf_adjustments\": false, \"tf_adjustment_column\": null, \"tf_adjustment_weight\": 1.0, \"is_null_level\": false, \"bayes_factor\": 92.15701734750978, \"log2_bayes_factor\": 6.526022119744957, \"comparison_vector_value\": 2, \"max_comparison_vector_value\": 2, \"bayes_factor_description\": \"If comparison level is `exact match` then comparison is 92.16 times more likely to be a match\", \"probability_two_random_records_match\": 0.023927451232987815, \"comparison_sort_order\": 3, \"iteration\": 0}, {\"comparison_name\": \"age\", \"sql_condition\": \"abs(round(age_r) - (round(age_l)+10)) = 1\", \"label_for_charts\": \"Age within 1 year\", \"m_probability\": 0.025000000000000022, \"u_probability\": 0.02064582970392069, \"m_probability_description\": \"Amongst matching record comparisons, 2.50% of records are in the age within 1 year comparison level\", \"u_probability_description\": \"Amongst non-matching record comparisons, 2.06% of records are in the age within 1 year comparison level\", \"has_tf_adjustments\": false, \"tf_adjustment_column\": null, \"tf_adjustment_weight\": 1.0, \"is_null_level\": false, \"bayes_factor\": 1.2108982956133008, \"log2_bayes_factor\": 0.27607769692647965, \"comparison_vector_value\": 1, \"max_comparison_vector_value\": 2, \"bayes_factor_description\": \"If comparison level is `age within 1 year` then comparison is 1.21 times more likely to be a match\", \"probability_two_random_records_match\": 0.023927451232987815, \"comparison_sort_order\": 3, \"iteration\": 0}, {\"comparison_name\": \"age\", \"sql_condition\": \"ELSE\", \"label_for_charts\": \"Age difference >= 2 years\", \"m_probability\": 0.025000000000000022, \"u_probability\": 0.9690456769513165, \"m_probability_description\": \"Amongst matching record comparisons, 2.50% of records are in the age difference >= 2 years comparison level\", \"u_probability_description\": \"Amongst non-matching record comparisons, 96.90% of records are in the age difference >= 2 years comparison level\", \"has_tf_adjustments\": false, \"tf_adjustment_column\": null, \"tf_adjustment_weight\": 1.0, \"is_null_level\": false, \"bayes_factor\": 0.025798577502199608, \"log2_bayes_factor\": -5.276564670137817, \"comparison_vector_value\": 0, \"max_comparison_vector_value\": 2, \"bayes_factor_description\": \"If comparison level is `age difference >= 2 years` then comparison is  38.76 times less likely to be a match\", \"probability_two_random_records_match\": 0.023927451232987815, \"comparison_sort_order\": 3, \"iteration\": 0}, {\"comparison_name\": \"first_name\", \"sql_condition\": \"\\\"first_name_l\\\" = \\\"first_name_r\\\"\", \"label_for_charts\": \"Exact match\", \"m_probability\": 0.9999906479494763, \"u_probability\": 0.004286071939092783, \"m_probability_description\": \"Amongst matching record comparisons, 100.00% of records are in the exact match comparison level\", \"u_probability_description\": \"Amongst non-matching record comparisons, 0.43% of records are in the exact match comparison level\", \"has_tf_adjustments\": false, \"tf_adjustment_column\": null, \"tf_adjustment_weight\": 1.0, \"is_null_level\": false, \"bayes_factor\": 233.31168075567592, \"log2_bayes_factor\": 7.8661147274716265, \"comparison_vector_value\": 3, \"max_comparison_vector_value\": 3, \"bayes_factor_description\": \"If comparison level is `exact match` then comparison is 233.31 times more likely to be a match\", \"probability_two_random_records_match\": 0.023927451232987815, \"comparison_sort_order\": 0, \"iteration\": 1}, {\"comparison_name\": \"first_name\", \"sql_condition\": \"levenshtein(\\\"first_name_l\\\", \\\"first_name_r\\\") <= 1\", \"label_for_charts\": \"levenshtein <= 1\", \"m_probability\": 2.995955701973522e-06, \"u_probability\": 0.0008722127553039419, \"m_probability_description\": \"Amongst matching record comparisons, 0.00% of records are in the levenshtein <= 1 comparison level\", \"u_probability_description\": \"Amongst non-matching record comparisons, 0.09% of records are in the levenshtein <= 1 comparison level\", \"has_tf_adjustments\": false, \"tf_adjustment_column\": null, \"tf_adjustment_weight\": 1.0, \"is_null_level\": false, \"bayes_factor\": 0.003434890952643217, \"log2_bayes_factor\": -8.185519986078122, \"comparison_vector_value\": 2, \"max_comparison_vector_value\": 3, \"bayes_factor_description\": \"If comparison level is `levenshtein <= 1` then comparison is  291.13 times less likely to be a match\", \"probability_two_random_records_match\": 0.023927451232987815, \"comparison_sort_order\": 0, \"iteration\": 1}, {\"comparison_name\": \"first_name\", \"sql_condition\": \"levenshtein(\\\"first_name_l\\\", \\\"first_name_r\\\") <= 2\", \"label_for_charts\": \"levenshtein <= 2\", \"m_probability\": 1.4534173411236103e-06, \"u_probability\": 0.004905619888296774, \"m_probability_description\": \"Amongst matching record comparisons, 0.00% of records are in the levenshtein <= 2 comparison level\", \"u_probability_description\": \"Amongst non-matching record comparisons, 0.49% of records are in the levenshtein <= 2 comparison level\", \"has_tf_adjustments\": false, \"tf_adjustment_column\": null, \"tf_adjustment_weight\": 1.0, \"is_null_level\": false, \"bayes_factor\": 0.0002962759802468583, \"log2_bayes_factor\": -11.720770711007285, \"comparison_vector_value\": 1, \"max_comparison_vector_value\": 3, \"bayes_factor_description\": \"If comparison level is `levenshtein <= 2` then comparison is  3,375.23 times less likely to be a match\", \"probability_two_random_records_match\": 0.023927451232987815, \"comparison_sort_order\": 0, \"iteration\": 1}, {\"comparison_name\": \"first_name\", \"sql_condition\": \"ELSE\", \"label_for_charts\": \"All other comparisons\", \"m_probability\": 4.902677480529512e-06, \"u_probability\": 0.9899360954173065, \"m_probability_description\": \"Amongst matching record comparisons, 0.00% of records are in the all other comparisons comparison level\", \"u_probability_description\": \"Amongst non-matching record comparisons, 98.99% of records are in the all other comparisons comparison level\", \"has_tf_adjustments\": false, \"tf_adjustment_column\": null, \"tf_adjustment_weight\": 1.0, \"is_null_level\": false, \"bayes_factor\": 4.952519160807843e-06, \"log2_bayes_factor\": -17.62340601255389, \"comparison_vector_value\": 0, \"max_comparison_vector_value\": 3, \"bayes_factor_description\": \"If comparison level is `all other comparisons` then comparison is  201,917.44 times less likely to be a match\", \"probability_two_random_records_match\": 0.023927451232987815, \"comparison_sort_order\": 0, \"iteration\": 1}, {\"comparison_name\": \"last_name\", \"sql_condition\": \"\\\"last_name_l\\\" = \\\"last_name_r\\\"\", \"label_for_charts\": \"Exact match\", \"m_probability\": 0.9998210476632805, \"u_probability\": 0.0019071001117955237, \"m_probability_description\": \"Amongst matching record comparisons, 99.98% of records are in the exact match comparison level\", \"u_probability_description\": \"Amongst non-matching record comparisons, 0.19% of records are in the exact match comparison level\", \"has_tf_adjustments\": false, \"tf_adjustment_column\": null, \"tf_adjustment_weight\": 1.0, \"is_null_level\": false, \"bayes_factor\": 524.2624870500138, \"log2_bayes_factor\": 9.034145509073388, \"comparison_vector_value\": 3, \"max_comparison_vector_value\": 3, \"bayes_factor_description\": \"If comparison level is `exact match` then comparison is 524.26 times more likely to be a match\", \"probability_two_random_records_match\": 0.023927451232987815, \"comparison_sort_order\": 1, \"iteration\": 1}, {\"comparison_name\": \"last_name\", \"sql_condition\": \"levenshtein(\\\"last_name_l\\\", \\\"last_name_r\\\") <= 1\", \"label_for_charts\": \"levenshtein <= 1\", \"m_probability\": 2.1871584913085538e-08, \"u_probability\": 0.00025843340897894573, \"m_probability_description\": \"Amongst matching record comparisons, 0.00% of records are in the levenshtein <= 1 comparison level\", \"u_probability_description\": \"Amongst non-matching record comparisons, 0.03% of records are in the levenshtein <= 1 comparison level\", \"has_tf_adjustments\": false, \"tf_adjustment_column\": null, \"tf_adjustment_weight\": 1.0, \"is_null_level\": false, \"bayes_factor\": 8.463141433415596e-05, \"log2_bayes_factor\": -13.528447197715092, \"comparison_vector_value\": 2, \"max_comparison_vector_value\": 3, \"bayes_factor_description\": \"If comparison level is `levenshtein <= 1` then comparison is  11,815.94 times less likely to be a match\", \"probability_two_random_records_match\": 0.023927451232987815, \"comparison_sort_order\": 1, \"iteration\": 1}, {\"comparison_name\": \"last_name\", \"sql_condition\": \"levenshtein(\\\"last_name_l\\\", \\\"last_name_r\\\") <= 2\", \"label_for_charts\": \"levenshtein <= 2\", \"m_probability\": 4.689022621603225e-06, \"u_probability\": 0.0019197910381293112, \"m_probability_description\": \"Amongst matching record comparisons, 0.00% of records are in the levenshtein <= 2 comparison level\", \"u_probability_description\": \"Amongst non-matching record comparisons, 0.19% of records are in the levenshtein <= 2 comparison level\", \"has_tf_adjustments\": false, \"tf_adjustment_column\": null, \"tf_adjustment_weight\": 1.0, \"is_null_level\": false, \"bayes_factor\": 0.0024424651060837937, \"log2_bayes_factor\": -8.677446333170357, \"comparison_vector_value\": 1, \"max_comparison_vector_value\": 3, \"bayes_factor_description\": \"If comparison level is `levenshtein <= 2` then comparison is  409.42 times less likely to be a match\", \"probability_two_random_records_match\": 0.023927451232987815, \"comparison_sort_order\": 1, \"iteration\": 1}, {\"comparison_name\": \"last_name\", \"sql_condition\": \"ELSE\", \"label_for_charts\": \"All other comparisons\", \"m_probability\": 0.00017424144251301817, \"u_probability\": 0.9959146754410962, \"m_probability_description\": \"Amongst matching record comparisons, 0.02% of records are in the all other comparisons comparison level\", \"u_probability_description\": \"Amongst non-matching record comparisons, 99.59% of records are in the all other comparisons comparison level\", \"has_tf_adjustments\": false, \"tf_adjustment_column\": null, \"tf_adjustment_weight\": 1.0, \"is_null_level\": false, \"bayes_factor\": 0.00017495619535463282, \"log2_bayes_factor\": -12.480718626951385, \"comparison_vector_value\": 0, \"max_comparison_vector_value\": 3, \"bayes_factor_description\": \"If comparison level is `all other comparisons` then comparison is  5,715.72 times less likely to be a match\", \"probability_two_random_records_match\": 0.023927451232987815, \"comparison_sort_order\": 1, \"iteration\": 1}, {\"comparison_name\": \"sex\", \"sql_condition\": \"\\\"sex_l\\\" = \\\"sex_r\\\"\", \"label_for_charts\": \"Exact match\", \"m_probability\": 0.9999995690251919, \"u_probability\": 0.5030740884742161, \"m_probability_description\": \"Amongst matching record comparisons, 100.00% of records are in the exact match comparison level\", \"u_probability_description\": \"Amongst non-matching record comparisons, 50.31% of records are in the exact match comparison level\", \"has_tf_adjustments\": false, \"tf_adjustment_column\": null, \"tf_adjustment_weight\": 1.0, \"is_null_level\": false, \"bayes_factor\": 1.9877779276172054, \"log2_bayes_factor\": 0.9911565895857554, \"comparison_vector_value\": 1, \"max_comparison_vector_value\": 1, \"bayes_factor_description\": \"If comparison level is `exact match` then comparison is 1.99 times more likely to be a match\", \"probability_two_random_records_match\": 0.023927451232987815, \"comparison_sort_order\": 2, \"iteration\": 1}, {\"comparison_name\": \"sex\", \"sql_condition\": \"ELSE\", \"label_for_charts\": \"All other comparisons\", \"m_probability\": 4.3097480812239e-07, \"u_probability\": 0.4969259115257839, \"m_probability_description\": \"Amongst matching record comparisons, 0.00% of records are in the all other comparisons comparison level\", \"u_probability_description\": \"Amongst non-matching record comparisons, 49.69% of records are in the all other comparisons comparison level\", \"has_tf_adjustments\": false, \"tf_adjustment_column\": null, \"tf_adjustment_weight\": 1.0, \"is_null_level\": false, \"bayes_factor\": 8.672818183280186e-07, \"log2_bayes_factor\": -20.136995798977217, \"comparison_vector_value\": 0, \"max_comparison_vector_value\": 1, \"bayes_factor_description\": \"If comparison level is `all other comparisons` then comparison is  1,153,027.75 times less likely to be a match\", \"probability_two_random_records_match\": 0.023927451232987815, \"comparison_sort_order\": 2, \"iteration\": 1}, {\"comparison_name\": \"age\", \"sql_condition\": \"round(age_r) - round(age_l) = 10\", \"label_for_charts\": \"Exact match\", \"m_probability\": 0.8750410505132219, \"u_probability\": 0.010308493344762859, \"m_probability_description\": \"Amongst matching record comparisons, 87.50% of records are in the exact match comparison level\", \"u_probability_description\": \"Amongst non-matching record comparisons, 1.03% of records are in the exact match comparison level\", \"has_tf_adjustments\": false, \"tf_adjustment_column\": null, \"tf_adjustment_weight\": 1.0, \"is_null_level\": false, \"bayes_factor\": 84.88544554940019, \"log2_bayes_factor\": 6.407445305512243, \"comparison_vector_value\": 2, \"max_comparison_vector_value\": 2, \"bayes_factor_description\": \"If comparison level is `exact match` then comparison is 84.89 times more likely to be a match\", \"probability_two_random_records_match\": 0.023927451232987815, \"comparison_sort_order\": 3, \"iteration\": 1}, {\"comparison_name\": \"age\", \"sql_condition\": \"abs(round(age_r) - (round(age_l)+10)) = 1\", \"label_for_charts\": \"Age within 1 year\", \"m_probability\": 0.060383408681314026, \"u_probability\": 0.02064582970392069, \"m_probability_description\": \"Amongst matching record comparisons, 6.04% of records are in the age within 1 year comparison level\", \"u_probability_description\": \"Amongst non-matching record comparisons, 2.06% of records are in the age within 1 year comparison level\", \"has_tf_adjustments\": false, \"tf_adjustment_column\": null, \"tf_adjustment_weight\": 1.0, \"is_null_level\": false, \"bayes_factor\": 2.924726666220979, \"log2_bayes_factor\": 1.5483018022298696, \"comparison_vector_value\": 1, \"max_comparison_vector_value\": 2, \"bayes_factor_description\": \"If comparison level is `age within 1 year` then comparison is 2.92 times more likely to be a match\", \"probability_two_random_records_match\": 0.023927451232987815, \"comparison_sort_order\": 3, \"iteration\": 1}, {\"comparison_name\": \"age\", \"sql_condition\": \"ELSE\", \"label_for_charts\": \"Age difference >= 2 years\", \"m_probability\": 0.064575540805464, \"u_probability\": 0.9690456769513165, \"m_probability_description\": \"Amongst matching record comparisons, 6.46% of records are in the age difference >= 2 years comparison level\", \"u_probability_description\": \"Amongst non-matching record comparisons, 96.90% of records are in the age difference >= 2 years comparison level\", \"has_tf_adjustments\": false, \"tf_adjustment_column\": null, \"tf_adjustment_weight\": 1.0, \"is_null_level\": false, \"bayes_factor\": 0.0666382837686486, \"log2_bayes_factor\": -3.907504944388542, \"comparison_vector_value\": 0, \"max_comparison_vector_value\": 2, \"bayes_factor_description\": \"If comparison level is `age difference >= 2 years` then comparison is  15.01 times less likely to be a match\", \"probability_two_random_records_match\": 0.023927451232987815, \"comparison_sort_order\": 3, \"iteration\": 1}, {\"comparison_name\": \"first_name\", \"sql_condition\": \"\\\"first_name_l\\\" = \\\"first_name_r\\\"\", \"label_for_charts\": \"Exact match\", \"m_probability\": 0.9999998302055333, \"u_probability\": 0.004286071939092783, \"m_probability_description\": \"Amongst matching record comparisons, 100.00% of records are in the exact match comparison level\", \"u_probability_description\": \"Amongst non-matching record comparisons, 0.43% of records are in the exact match comparison level\", \"has_tf_adjustments\": false, \"tf_adjustment_column\": null, \"tf_adjustment_weight\": 1.0, \"is_null_level\": false, \"bayes_factor\": 233.31382310330505, \"log2_bayes_factor\": 7.866127974729973, \"comparison_vector_value\": 3, \"max_comparison_vector_value\": 3, \"bayes_factor_description\": \"If comparison level is `exact match` then comparison is 233.31 times more likely to be a match\", \"probability_two_random_records_match\": 0.023927451232987815, \"comparison_sort_order\": 0, \"iteration\": 2}, {\"comparison_name\": \"first_name\", \"sql_condition\": \"levenshtein(\\\"first_name_l\\\", \\\"first_name_r\\\") <= 1\", \"label_for_charts\": \"levenshtein <= 1\", \"m_probability\": 1.1107715350912403e-09, \"u_probability\": 0.0008722127553039419, \"m_probability_description\": \"Amongst matching record comparisons, 0.00% of records are in the levenshtein <= 1 comparison level\", \"u_probability_description\": \"Amongst non-matching record comparisons, 0.09% of records are in the levenshtein <= 1 comparison level\", \"has_tf_adjustments\": false, \"tf_adjustment_column\": null, \"tf_adjustment_weight\": 1.0, \"is_null_level\": false, \"bayes_factor\": 1.2735098499037283e-06, \"log2_bayes_factor\": -19.582758451210058, \"comparison_vector_value\": 2, \"max_comparison_vector_value\": 3, \"bayes_factor_description\": \"If comparison level is `levenshtein <= 1` then comparison is  785,231.46 times less likely to be a match\", \"probability_two_random_records_match\": 0.023927451232987815, \"comparison_sort_order\": 0, \"iteration\": 2}, {\"comparison_name\": \"first_name\", \"sql_condition\": \"levenshtein(\\\"first_name_l\\\", \\\"first_name_r\\\") <= 2\", \"label_for_charts\": \"levenshtein <= 2\", \"m_probability\": 2.5571402881786983e-10, \"u_probability\": 0.004905619888296774, \"m_probability_description\": \"Amongst matching record comparisons, 0.00% of records are in the levenshtein <= 2 comparison level\", \"u_probability_description\": \"Amongst non-matching record comparisons, 0.49% of records are in the levenshtein <= 2 comparison level\", \"has_tf_adjustments\": false, \"tf_adjustment_column\": null, \"tf_adjustment_weight\": 1.0, \"is_null_level\": false, \"bayes_factor\": 5.2126751489229936e-08, \"log2_bayes_factor\": -24.193400804332992, \"comparison_vector_value\": 1, \"max_comparison_vector_value\": 3, \"bayes_factor_description\": \"If comparison level is `levenshtein <= 2` then comparison is  19,184,007.66 times less likely to be a match\", \"probability_two_random_records_match\": 0.023927451232987815, \"comparison_sort_order\": 0, \"iteration\": 2}, {\"comparison_name\": \"first_name\", \"sql_condition\": \"ELSE\", \"label_for_charts\": \"All other comparisons\", \"m_probability\": 1.684279812375721e-07, \"u_probability\": 0.9899360954173065, \"m_probability_description\": \"Amongst matching record comparisons, 0.00% of records are in the all other comparisons comparison level\", \"u_probability_description\": \"Amongst non-matching record comparisons, 98.99% of records are in the all other comparisons comparison level\", \"has_tf_adjustments\": false, \"tf_adjustment_column\": null, \"tf_adjustment_weight\": 1.0, \"is_null_level\": false, \"bayes_factor\": 1.7014025654511715e-07, \"log2_bayes_factor\": -22.48677212963815, \"comparison_vector_value\": 0, \"max_comparison_vector_value\": 3, \"bayes_factor_description\": \"If comparison level is `all other comparisons` then comparison is  5,877,503.77 times less likely to be a match\", \"probability_two_random_records_match\": 0.023927451232987815, \"comparison_sort_order\": 0, \"iteration\": 2}, {\"comparison_name\": \"last_name\", \"sql_condition\": \"\\\"last_name_l\\\" = \\\"last_name_r\\\"\", \"label_for_charts\": \"Exact match\", \"m_probability\": 0.9996450474477975, \"u_probability\": 0.0019071001117955237, \"m_probability_description\": \"Amongst matching record comparisons, 99.96% of records are in the exact match comparison level\", \"u_probability_description\": \"Amongst non-matching record comparisons, 0.19% of records are in the exact match comparison level\", \"has_tf_adjustments\": false, \"tf_adjustment_column\": null, \"tf_adjustment_weight\": 1.0, \"is_null_level\": false, \"bayes_factor\": 524.1702002243802, \"log2_bayes_factor\": 9.033891526633425, \"comparison_vector_value\": 3, \"max_comparison_vector_value\": 3, \"bayes_factor_description\": \"If comparison level is `exact match` then comparison is 524.17 times more likely to be a match\", \"probability_two_random_records_match\": 0.023927451232987815, \"comparison_sort_order\": 1, \"iteration\": 2}, {\"comparison_name\": \"last_name\", \"sql_condition\": \"levenshtein(\\\"last_name_l\\\", \\\"last_name_r\\\") <= 1\", \"label_for_charts\": \"levenshtein <= 1\", \"m_probability\": 4.231378821461592e-15, \"u_probability\": 0.00025843340897894573, \"m_probability_description\": \"Amongst matching record comparisons, 0.00% of records are in the levenshtein <= 1 comparison level\", \"u_probability_description\": \"Amongst non-matching record comparisons, 0.03% of records are in the levenshtein <= 1 comparison level\", \"has_tf_adjustments\": false, \"tf_adjustment_column\": null, \"tf_adjustment_weight\": 1.0, \"is_null_level\": false, \"bayes_factor\": 1.6373188119057462e-11, \"log2_bayes_factor\": -35.82987377902108, \"comparison_vector_value\": 2, \"max_comparison_vector_value\": 3, \"bayes_factor_description\": \"If comparison level is `levenshtein <= 1` then comparison is  61,075,460,241.98 times less likely to be a match\", \"probability_two_random_records_match\": 0.023927451232987815, \"comparison_sort_order\": 1, \"iteration\": 2}, {\"comparison_name\": \"last_name\", \"sql_condition\": \"levenshtein(\\\"last_name_l\\\", \\\"last_name_r\\\") <= 2\", \"label_for_charts\": \"levenshtein <= 2\", \"m_probability\": 3.82935089240649e-07, \"u_probability\": 0.0019197910381293112, \"m_probability_description\": \"Amongst matching record comparisons, 0.00% of records are in the levenshtein <= 2 comparison level\", \"u_probability_description\": \"Amongst non-matching record comparisons, 0.19% of records are in the levenshtein <= 2 comparison level\", \"has_tf_adjustments\": false, \"tf_adjustment_column\": null, \"tf_adjustment_weight\": 1.0, \"is_null_level\": false, \"bayes_factor\": 0.00019946706783973206, \"log2_bayes_factor\": -12.291561803458443, \"comparison_vector_value\": 1, \"max_comparison_vector_value\": 3, \"bayes_factor_description\": \"If comparison level is `levenshtein <= 2` then comparison is  5,013.36 times less likely to be a match\", \"probability_two_random_records_match\": 0.023927451232987815, \"comparison_sort_order\": 1, \"iteration\": 2}, {\"comparison_name\": \"last_name\", \"sql_condition\": \"ELSE\", \"label_for_charts\": \"All other comparisons\", \"m_probability\": 0.00035456961710914737, \"u_probability\": 0.9959146754410962, \"m_probability_description\": \"Amongst matching record comparisons, 0.04% of records are in the all other comparisons comparison level\", \"u_probability_description\": \"Amongst non-matching record comparisons, 99.59% of records are in the all other comparisons comparison level\", \"has_tf_adjustments\": false, \"tf_adjustment_column\": null, \"tf_adjustment_weight\": 1.0, \"is_null_level\": false, \"bayes_factor\": 0.00035602409107196505, \"log2_bayes_factor\": -11.455737512250732, \"comparison_vector_value\": 0, \"max_comparison_vector_value\": 3, \"bayes_factor_description\": \"If comparison level is `all other comparisons` then comparison is  2,808.80 times less likely to be a match\", \"probability_two_random_records_match\": 0.023927451232987815, \"comparison_sort_order\": 1, \"iteration\": 2}, {\"comparison_name\": \"sex\", \"sql_condition\": \"\\\"sex_l\\\" = \\\"sex_r\\\"\", \"label_for_charts\": \"Exact match\", \"m_probability\": 0.9999999999997978, \"u_probability\": 0.5030740884742161, \"m_probability_description\": \"Amongst matching record comparisons, 100.00% of records are in the exact match comparison level\", \"u_probability_description\": \"Amongst non-matching record comparisons, 50.31% of records are in the exact match comparison level\", \"has_tf_adjustments\": false, \"tf_adjustment_column\": null, \"tf_adjustment_weight\": 1.0, \"is_null_level\": false, \"bayes_factor\": 1.9877787842993837, \"log2_bayes_factor\": 0.9911572113508161, \"comparison_vector_value\": 1, \"max_comparison_vector_value\": 1, \"bayes_factor_description\": \"If comparison level is `exact match` then comparison is 1.99 times more likely to be a match\", \"probability_two_random_records_match\": 0.023927451232987815, \"comparison_sort_order\": 2, \"iteration\": 2}, {\"comparison_name\": \"sex\", \"sql_condition\": \"ELSE\", \"label_for_charts\": \"All other comparisons\", \"m_probability\": 2.020457557052109e-13, \"u_probability\": 0.4969259115257839, \"m_probability_description\": \"Amongst matching record comparisons, 0.00% of records are in the all other comparisons comparison level\", \"u_probability_description\": \"Amongst non-matching record comparisons, 49.69% of records are in the all other comparisons comparison level\", \"has_tf_adjustments\": false, \"tf_adjustment_column\": null, \"tf_adjustment_weight\": 1.0, \"is_null_level\": false, \"bayes_factor\": 4.065913067097677e-13, \"log2_bayes_factor\": -41.161485864149384, \"comparison_vector_value\": 0, \"max_comparison_vector_value\": 1, \"bayes_factor_description\": \"If comparison level is `all other comparisons` then comparison is  2,459,472,161,596.95 times less likely to be a match\", \"probability_two_random_records_match\": 0.023927451232987815, \"comparison_sort_order\": 2, \"iteration\": 2}, {\"comparison_name\": \"age\", \"sql_condition\": \"round(age_r) - round(age_l) = 10\", \"label_for_charts\": \"Exact match\", \"m_probability\": 0.780042466383662, \"u_probability\": 0.010308493344762859, \"m_probability_description\": \"Amongst matching record comparisons, 78.00% of records are in the exact match comparison level\", \"u_probability_description\": \"Amongst non-matching record comparisons, 1.03% of records are in the exact match comparison level\", \"has_tf_adjustments\": false, \"tf_adjustment_column\": null, \"tf_adjustment_weight\": 1.0, \"is_null_level\": false, \"bayes_factor\": 75.66988116454048, \"log2_bayes_factor\": 6.241647274344704, \"comparison_vector_value\": 2, \"max_comparison_vector_value\": 2, \"bayes_factor_description\": \"If comparison level is `exact match` then comparison is 75.67 times more likely to be a match\", \"probability_two_random_records_match\": 0.023927451232987815, \"comparison_sort_order\": 3, \"iteration\": 2}, {\"comparison_name\": \"age\", \"sql_condition\": \"abs(round(age_r) - (round(age_l)+10)) = 1\", \"label_for_charts\": \"Age within 1 year\", \"m_probability\": 0.0559465776802613, \"u_probability\": 0.02064582970392069, \"m_probability_description\": \"Amongst matching record comparisons, 5.59% of records are in the age within 1 year comparison level\", \"u_probability_description\": \"Amongst non-matching record comparisons, 2.06% of records are in the age within 1 year comparison level\", \"has_tf_adjustments\": false, \"tf_adjustment_column\": null, \"tf_adjustment_weight\": 1.0, \"is_null_level\": false, \"bayes_factor\": 2.7098246223370195, \"log2_bayes_factor\": 1.4381994845415087, \"comparison_vector_value\": 1, \"max_comparison_vector_value\": 2, \"bayes_factor_description\": \"If comparison level is `age within 1 year` then comparison is 2.71 times more likely to be a match\", \"probability_two_random_records_match\": 0.023927451232987815, \"comparison_sort_order\": 3, \"iteration\": 2}, {\"comparison_name\": \"age\", \"sql_condition\": \"ELSE\", \"label_for_charts\": \"Age difference >= 2 years\", \"m_probability\": 0.16401095593607656, \"u_probability\": 0.9690456769513165, \"m_probability_description\": \"Amongst matching record comparisons, 16.40% of records are in the age difference >= 2 years comparison level\", \"u_probability_description\": \"Amongst non-matching record comparisons, 96.90% of records are in the age difference >= 2 years comparison level\", \"has_tf_adjustments\": false, \"tf_adjustment_column\": null, \"tf_adjustment_weight\": 1.0, \"is_null_level\": false, \"bayes_factor\": 0.16924997431706848, \"log2_bayes_factor\": -2.5627724800096354, \"comparison_vector_value\": 0, \"max_comparison_vector_value\": 2, \"bayes_factor_description\": \"If comparison level is `age difference >= 2 years` then comparison is  5.91 times less likely to be a match\", \"probability_two_random_records_match\": 0.023927451232987815, \"comparison_sort_order\": 3, \"iteration\": 2}, {\"comparison_name\": \"first_name\", \"sql_condition\": \"\\\"first_name_l\\\" = \\\"first_name_r\\\"\", \"label_for_charts\": \"Exact match\", \"m_probability\": 0.999999988270037, \"u_probability\": 0.004286071939092783, \"m_probability_description\": \"Amongst matching record comparisons, 100.00% of records are in the exact match comparison level\", \"u_probability_description\": \"Amongst non-matching record comparisons, 0.43% of records are in the exact match comparison level\", \"has_tf_adjustments\": false, \"tf_adjustment_column\": null, \"tf_adjustment_weight\": 1.0, \"is_null_level\": false, \"bayes_factor\": 233.31385998194497, \"log2_bayes_factor\": 7.866128202768869, \"comparison_vector_value\": 3, \"max_comparison_vector_value\": 3, \"bayes_factor_description\": \"If comparison level is `exact match` then comparison is 233.31 times more likely to be a match\", \"probability_two_random_records_match\": 0.023927451232987815, \"comparison_sort_order\": 0, \"iteration\": 3}, {\"comparison_name\": \"first_name\", \"sql_condition\": \"levenshtein(\\\"first_name_l\\\", \\\"first_name_r\\\") <= 1\", \"label_for_charts\": \"levenshtein <= 1\", \"m_probability\": 8.798312385540651e-13, \"u_probability\": 0.0008722127553039419, \"m_probability_description\": \"Amongst matching record comparisons, 0.00% of records are in the levenshtein <= 1 comparison level\", \"u_probability_description\": \"Amongst non-matching record comparisons, 0.09% of records are in the levenshtein <= 1 comparison level\", \"has_tf_adjustments\": false, \"tf_adjustment_column\": null, \"tf_adjustment_weight\": 1.0, \"is_null_level\": false, \"bayes_factor\": 1.0087346615877777e-09, \"log2_bayes_factor\": -29.884806117355065, \"comparison_vector_value\": 2, \"max_comparison_vector_value\": 3, \"bayes_factor_description\": \"If comparison level is `levenshtein <= 1` then comparison is  991,340,972.09 times less likely to be a match\", \"probability_two_random_records_match\": 0.023927451232987815, \"comparison_sort_order\": 0, \"iteration\": 3}, {\"comparison_name\": \"first_name\", \"sql_condition\": \"levenshtein(\\\"first_name_l\\\", \\\"first_name_r\\\") <= 2\", \"label_for_charts\": \"levenshtein <= 2\", \"m_probability\": 1.0263218456155546e-13, \"u_probability\": 0.004905619888296774, \"m_probability_description\": \"Amongst matching record comparisons, 0.00% of records are in the levenshtein <= 2 comparison level\", \"u_probability_description\": \"Amongst non-matching record comparisons, 0.49% of records are in the levenshtein <= 2 comparison level\", \"has_tf_adjustments\": false, \"tf_adjustment_column\": null, \"tf_adjustment_weight\": 1.0, \"is_null_level\": false, \"bayes_factor\": 2.0921348758880145e-11, \"log2_bayes_factor\": -35.47623318141973, \"comparison_vector_value\": 1, \"max_comparison_vector_value\": 3, \"bayes_factor_description\": \"If comparison level is `levenshtein <= 2` then comparison is  47,798,065,580.05 times less likely to be a match\", \"probability_two_random_records_match\": 0.023927451232987815, \"comparison_sort_order\": 0, \"iteration\": 3}, {\"comparison_name\": \"first_name\", \"sql_condition\": \"ELSE\", \"label_for_charts\": \"All other comparisons\", \"m_probability\": 1.1728980574956694e-08, \"u_probability\": 0.9899360954173065, \"m_probability_description\": \"Amongst matching record comparisons, 0.00% of records are in the all other comparisons comparison level\", \"u_probability_description\": \"Amongst non-matching record comparisons, 98.99% of records are in the all other comparisons comparison level\", \"has_tf_adjustments\": false, \"tf_adjustment_column\": null, \"tf_adjustment_weight\": 1.0, \"is_null_level\": false, \"bayes_factor\": 1.1848219929805018e-08, \"log2_bayes_factor\": -26.33075443342245, \"comparison_vector_value\": 0, \"max_comparison_vector_value\": 3, \"bayes_factor_description\": \"If comparison level is `all other comparisons` then comparison is  84,400,864.09 times less likely to be a match\", \"probability_two_random_records_match\": 0.023927451232987815, \"comparison_sort_order\": 0, \"iteration\": 3}, {\"comparison_name\": \"last_name\", \"sql_condition\": \"\\\"last_name_l\\\" = \\\"last_name_r\\\"\", \"label_for_charts\": \"Exact match\", \"m_probability\": 0.9992991490393277, \"u_probability\": 0.0019071001117955237, \"m_probability_description\": \"Amongst matching record comparisons, 99.93% of records are in the exact match comparison level\", \"u_probability_description\": \"Amongst non-matching record comparisons, 0.19% of records are in the exact match comparison level\", \"has_tf_adjustments\": false, \"tf_adjustment_column\": null, \"tf_adjustment_weight\": 1.0, \"is_null_level\": false, \"bayes_factor\": 523.988826207185, \"log2_bayes_factor\": 9.033392237134091, \"comparison_vector_value\": 3, \"max_comparison_vector_value\": 3, \"bayes_factor_description\": \"If comparison level is `exact match` then comparison is 523.99 times more likely to be a match\", \"probability_two_random_records_match\": 0.023927451232987815, \"comparison_sort_order\": 1, \"iteration\": 3}, {\"comparison_name\": \"last_name\", \"sql_condition\": \"levenshtein(\\\"last_name_l\\\", \\\"last_name_r\\\") <= 1\", \"label_for_charts\": \"levenshtein <= 1\", \"m_probability\": 8.034653983627941e-23, \"u_probability\": 0.00025843340897894573, \"m_probability_description\": \"Amongst matching record comparisons, 0.00% of records are in the levenshtein <= 1 comparison level\", \"u_probability_description\": \"Amongst non-matching record comparisons, 0.03% of records are in the levenshtein <= 1 comparison level\", \"has_tf_adjustments\": false, \"tf_adjustment_column\": null, \"tf_adjustment_weight\": 1.0, \"is_null_level\": false, \"bayes_factor\": 3.108984250671133e-19, \"log2_bayes_factor\": -61.48019049449104, \"comparison_vector_value\": 2, \"max_comparison_vector_value\": 3, \"bayes_factor_description\": \"If comparison level is `levenshtein <= 1` then comparison is  3,216,484,611,603,069,440.00 times less likely to be a match\", \"probability_two_random_records_match\": 0.023927451232987815, \"comparison_sort_order\": 1, \"iteration\": 3}, {\"comparison_name\": \"last_name\", \"sql_condition\": \"levenshtein(\\\"last_name_l\\\", \\\"last_name_r\\\") <= 2\", \"label_for_charts\": \"levenshtein <= 2\", \"m_probability\": 8.94502507066504e-08, \"u_probability\": 0.0019197910381293112, \"m_probability_description\": \"Amongst matching record comparisons, 0.00% of records are in the levenshtein <= 2 comparison level\", \"u_probability_description\": \"Amongst non-matching record comparisons, 0.19% of records are in the levenshtein <= 2 comparison level\", \"has_tf_adjustments\": false, \"tf_adjustment_column\": null, \"tf_adjustment_weight\": 1.0, \"is_null_level\": false, \"bayes_factor\": 4.6593743240833536e-05, \"log2_bayes_factor\": -14.389504236326669, \"comparison_vector_value\": 1, \"max_comparison_vector_value\": 3, \"bayes_factor_description\": \"If comparison level is `levenshtein <= 2` then comparison is  21,462.11 times less likely to be a match\", \"probability_two_random_records_match\": 0.023927451232987815, \"comparison_sort_order\": 1, \"iteration\": 3}, {\"comparison_name\": \"last_name\", \"sql_condition\": \"ELSE\", \"label_for_charts\": \"All other comparisons\", \"m_probability\": 0.0007007615104216763, \"u_probability\": 0.9959146754410962, \"m_probability_description\": \"Amongst matching record comparisons, 0.07% of records are in the all other comparisons comparison level\", \"u_probability_description\": \"Amongst non-matching record comparisons, 99.59% of records are in the all other comparisons comparison level\", \"has_tf_adjustments\": false, \"tf_adjustment_column\": null, \"tf_adjustment_weight\": 1.0, \"is_null_level\": false, \"bayes_factor\": 0.0007036360922297938, \"log2_bayes_factor\": -10.472882893406037, \"comparison_vector_value\": 0, \"max_comparison_vector_value\": 3, \"bayes_factor_description\": \"If comparison level is `all other comparisons` then comparison is  1,421.19 times less likely to be a match\", \"probability_two_random_records_match\": 0.023927451232987815, \"comparison_sort_order\": 1, \"iteration\": 3}, {\"comparison_name\": \"sex\", \"sql_condition\": \"\\\"sex_l\\\" = \\\"sex_r\\\"\", \"label_for_charts\": \"Exact match\", \"m_probability\": 1.0, \"u_probability\": 0.5030740884742161, \"m_probability_description\": \"Amongst matching record comparisons, 100.00% of records are in the exact match comparison level\", \"u_probability_description\": \"Amongst non-matching record comparisons, 50.31% of records are in the exact match comparison level\", \"has_tf_adjustments\": false, \"tf_adjustment_column\": null, \"tf_adjustment_weight\": 1.0, \"is_null_level\": false, \"bayes_factor\": 1.9877787842997856, \"log2_bayes_factor\": 0.9911572113511078, \"comparison_vector_value\": 1, \"max_comparison_vector_value\": 1, \"bayes_factor_description\": \"If comparison level is `exact match` then comparison is 1.99 times more likely to be a match\", \"probability_two_random_records_match\": 0.023927451232987815, \"comparison_sort_order\": 2, \"iteration\": 3}, {\"comparison_name\": \"sex\", \"sql_condition\": \"ELSE\", \"label_for_charts\": \"All other comparisons\", \"m_probability\": 3.749205780352558e-20, \"u_probability\": 0.4969259115257839, \"m_probability_description\": \"Amongst matching record comparisons, 0.00% of records are in the all other comparisons comparison level\", \"u_probability_description\": \"Amongst non-matching record comparisons, 49.69% of records are in the all other comparisons comparison level\", \"has_tf_adjustments\": false, \"tf_adjustment_column\": null, \"tf_adjustment_weight\": 1.0, \"is_null_level\": false, \"bayes_factor\": 7.54479831579083e-20, \"log2_bayes_factor\": -63.52307956196512, \"comparison_vector_value\": 0, \"max_comparison_vector_value\": 1, \"bayes_factor_description\": \"If comparison level is `all other comparisons` then comparison is  13,254,164,765,505,490,944.00 times less likely to be a match\", \"probability_two_random_records_match\": 0.023927451232987815, \"comparison_sort_order\": 2, \"iteration\": 3}, {\"comparison_name\": \"age\", \"sql_condition\": \"round(age_r) - round(age_l) = 10\", \"label_for_charts\": \"Exact match\", \"m_probability\": 0.7797793028069249, \"u_probability\": 0.010308493344762859, \"m_probability_description\": \"Amongst matching record comparisons, 77.98% of records are in the exact match comparison level\", \"u_probability_description\": \"Amongst non-matching record comparisons, 1.03% of records are in the exact match comparison level\", \"has_tf_adjustments\": false, \"tf_adjustment_column\": null, \"tf_adjustment_weight\": 1.0, \"is_null_level\": false, \"bayes_factor\": 75.64435235369143, \"log2_bayes_factor\": 6.241160468995268, \"comparison_vector_value\": 2, \"max_comparison_vector_value\": 2, \"bayes_factor_description\": \"If comparison level is `exact match` then comparison is 75.64 times more likely to be a match\", \"probability_two_random_records_match\": 0.023927451232987815, \"comparison_sort_order\": 3, \"iteration\": 3}, {\"comparison_name\": \"age\", \"sql_condition\": \"abs(round(age_r) - (round(age_l)+10)) = 1\", \"label_for_charts\": \"Age within 1 year\", \"m_probability\": 0.05595161660525883, \"u_probability\": 0.02064582970392069, \"m_probability_description\": \"Amongst matching record comparisons, 5.60% of records are in the age within 1 year comparison level\", \"u_probability_description\": \"Amongst non-matching record comparisons, 2.06% of records are in the age within 1 year comparison level\", \"has_tf_adjustments\": false, \"tf_adjustment_column\": null, \"tf_adjustment_weight\": 1.0, \"is_null_level\": false, \"bayes_factor\": 2.710068687364669, \"log2_bayes_factor\": 1.4383294175070347, \"comparison_vector_value\": 1, \"max_comparison_vector_value\": 2, \"bayes_factor_description\": \"If comparison level is `age within 1 year` then comparison is 2.71 times more likely to be a match\", \"probability_two_random_records_match\": 0.023927451232987815, \"comparison_sort_order\": 3, \"iteration\": 3}, {\"comparison_name\": \"age\", \"sql_condition\": \"ELSE\", \"label_for_charts\": \"Age difference >= 2 years\", \"m_probability\": 0.16426908058781634, \"u_probability\": 0.9690456769513165, \"m_probability_description\": \"Amongst matching record comparisons, 16.43% of records are in the age difference >= 2 years comparison level\", \"u_probability_description\": \"Amongst non-matching record comparisons, 96.90% of records are in the age difference >= 2 years comparison level\", \"has_tf_adjustments\": false, \"tf_adjustment_column\": null, \"tf_adjustment_weight\": 1.0, \"is_null_level\": false, \"bayes_factor\": 0.16951634427039397, \"log2_bayes_factor\": -2.5605037143808453, \"comparison_vector_value\": 0, \"max_comparison_vector_value\": 2, \"bayes_factor_description\": \"If comparison level is `age difference >= 2 years` then comparison is  5.90 times less likely to be a match\", \"probability_two_random_records_match\": 0.023927451232987815, \"comparison_sort_order\": 3, \"iteration\": 3}, {\"comparison_name\": \"first_name\", \"sql_condition\": \"\\\"first_name_l\\\" = \\\"first_name_r\\\"\", \"label_for_charts\": \"Exact match\", \"m_probability\": 0.9999999991778427, \"u_probability\": 0.004286071939092783, \"m_probability_description\": \"Amongst matching record comparisons, 100.00% of records are in the exact match comparison level\", \"u_probability_description\": \"Amongst non-matching record comparisons, 0.43% of records are in the exact match comparison level\", \"has_tf_adjustments\": false, \"tf_adjustment_column\": null, \"tf_adjustment_weight\": 1.0, \"is_null_level\": false, \"bayes_factor\": 233.31386252688725, \"log2_bayes_factor\": 7.866128218505507, \"comparison_vector_value\": 3, \"max_comparison_vector_value\": 3, \"bayes_factor_description\": \"If comparison level is `exact match` then comparison is 233.31 times more likely to be a match\", \"probability_two_random_records_match\": 0.023927451232987815, \"comparison_sort_order\": 0, \"iteration\": 4}, {\"comparison_name\": \"first_name\", \"sql_condition\": \"levenshtein(\\\"first_name_l\\\", \\\"first_name_r\\\") <= 1\", \"label_for_charts\": \"levenshtein <= 1\", \"m_probability\": 1.3773344747115757e-15, \"u_probability\": 0.0008722127553039419, \"m_probability_description\": \"Amongst matching record comparisons, 0.00% of records are in the levenshtein <= 1 comparison level\", \"u_probability_description\": \"Amongst non-matching record comparisons, 0.09% of records are in the levenshtein <= 1 comparison level\", \"has_tf_adjustments\": false, \"tf_adjustment_column\": null, \"tf_adjustment_weight\": 1.0, \"is_null_level\": false, \"bayes_factor\": 1.5791267283538095e-12, \"log2_bayes_factor\": -39.20401018338996, \"comparison_vector_value\": 2, \"max_comparison_vector_value\": 3, \"bayes_factor_description\": \"If comparison level is `levenshtein <= 1` then comparison is  633,261,398,242.86 times less likely to be a match\", \"probability_two_random_records_match\": 0.023927451232987815, \"comparison_sort_order\": 0, \"iteration\": 4}, {\"comparison_name\": \"first_name\", \"sql_condition\": \"levenshtein(\\\"first_name_l\\\", \\\"first_name_r\\\") <= 2\", \"label_for_charts\": \"levenshtein <= 2\", \"m_probability\": 8.141131592777599e-17, \"u_probability\": 0.004905619888296774, \"m_probability_description\": \"Amongst matching record comparisons, 0.00% of records are in the levenshtein <= 2 comparison level\", \"u_probability_description\": \"Amongst non-matching record comparisons, 0.49% of records are in the levenshtein <= 2 comparison level\", \"has_tf_adjustments\": false, \"tf_adjustment_column\": null, \"tf_adjustment_weight\": 1.0, \"is_null_level\": false, \"bayes_factor\": 1.6595520603216144e-14, \"log2_bayes_factor\": -45.776199440802735, \"comparison_vector_value\": 1, \"max_comparison_vector_value\": 3, \"bayes_factor_description\": \"If comparison level is `levenshtein <= 2` then comparison is  60,257,223,856,310.01 times less likely to be a match\", \"probability_two_random_records_match\": 0.023927451232987815, \"comparison_sort_order\": 0, \"iteration\": 4}, {\"comparison_name\": \"first_name\", \"sql_condition\": \"ELSE\", \"label_for_charts\": \"All other comparisons\", \"m_probability\": 8.221559409966474e-10, \"u_probability\": 0.9899360954173065, \"m_probability_description\": \"Amongst matching record comparisons, 0.00% of records are in the all other comparisons comparison level\", \"u_probability_description\": \"Amongst non-matching record comparisons, 98.99% of records are in the all other comparisons comparison level\", \"has_tf_adjustments\": false, \"tf_adjustment_column\": null, \"tf_adjustment_weight\": 1.0, \"is_null_level\": false, \"bayes_factor\": 8.305141562194158e-10, \"log2_bayes_factor\": -30.165276189555943, \"comparison_vector_value\": 0, \"max_comparison_vector_value\": 3, \"bayes_factor_description\": \"If comparison level is `all other comparisons` then comparison is  1,204,073,395.39 times less likely to be a match\", \"probability_two_random_records_match\": 0.023927451232987815, \"comparison_sort_order\": 0, \"iteration\": 4}, {\"comparison_name\": \"last_name\", \"sql_condition\": \"\\\"last_name_l\\\" = \\\"last_name_r\\\"\", \"label_for_charts\": \"Exact match\", \"m_probability\": 0.9988177190760673, \"u_probability\": 0.0019071001117955237, \"m_probability_description\": \"Amongst matching record comparisons, 99.88% of records are in the exact match comparison level\", \"u_probability_description\": \"Amongst non-matching record comparisons, 0.19% of records are in the exact match comparison level\", \"has_tf_adjustments\": false, \"tf_adjustment_column\": null, \"tf_adjustment_weight\": 1.0, \"is_null_level\": false, \"bayes_factor\": 523.7363853624266, \"log2_bayes_factor\": 9.032697025912912, \"comparison_vector_value\": 3, \"max_comparison_vector_value\": 3, \"bayes_factor_description\": \"If comparison level is `exact match` then comparison is 523.74 times more likely to be a match\", \"probability_two_random_records_match\": 0.023927451232987815, \"comparison_sort_order\": 1, \"iteration\": 4}, {\"comparison_name\": \"last_name\", \"sql_condition\": \"levenshtein(\\\"last_name_l\\\", \\\"last_name_r\\\") <= 1\", \"label_for_charts\": \"levenshtein <= 1\", \"m_probability\": 1.0642917817018577e-31, \"u_probability\": 0.00025843340897894573, \"m_probability_description\": \"Amongst matching record comparisons, 0.00% of records are in the levenshtein <= 1 comparison level\", \"u_probability_description\": \"Amongst non-matching record comparisons, 0.03% of records are in the levenshtein <= 1 comparison level\", \"has_tf_adjustments\": false, \"tf_adjustment_column\": null, \"tf_adjustment_weight\": 1.0, \"is_null_level\": false, \"bayes_factor\": 4.11824379017716e-28, \"log2_bayes_factor\": -90.97195742025406, \"comparison_vector_value\": 2, \"max_comparison_vector_value\": 3, \"bayes_factor_description\": \"If comparison level is `levenshtein <= 1` then comparison is  2,428,219,529,852,023,632,098,754,560.00 times less likely to be a match\", \"probability_two_random_records_match\": 0.023927451232987815, \"comparison_sort_order\": 1, \"iteration\": 4}, {\"comparison_name\": \"last_name\", \"sql_condition\": \"levenshtein(\\\"last_name_l\\\", \\\"last_name_r\\\") <= 2\", \"label_for_charts\": \"levenshtein <= 2\", \"m_probability\": 2.093760883227357e-08, \"u_probability\": 0.0019197910381293112, \"m_probability_description\": \"Amongst matching record comparisons, 0.00% of records are in the levenshtein <= 2 comparison level\", \"u_probability_description\": \"Amongst non-matching record comparisons, 0.19% of records are in the levenshtein <= 2 comparison level\", \"has_tf_adjustments\": false, \"tf_adjustment_column\": null, \"tf_adjustment_weight\": 1.0, \"is_null_level\": false, \"bayes_factor\": 1.0906191567950885e-05, \"log2_bayes_factor\": -16.484493072613965, \"comparison_vector_value\": 1, \"max_comparison_vector_value\": 3, \"bayes_factor_description\": \"If comparison level is `levenshtein <= 2` then comparison is  91,691.04 times less likely to be a match\", \"probability_two_random_records_match\": 0.023927451232987815, \"comparison_sort_order\": 1, \"iteration\": 4}, {\"comparison_name\": \"last_name\", \"sql_condition\": \"ELSE\", \"label_for_charts\": \"All other comparisons\", \"m_probability\": 0.001182259986323915, \"u_probability\": 0.9959146754410962, \"m_probability_description\": \"Amongst matching record comparisons, 0.12% of records are in the all other comparisons comparison level\", \"u_probability_description\": \"Amongst non-matching record comparisons, 99.59% of records are in the all other comparisons comparison level\", \"has_tf_adjustments\": false, \"tf_adjustment_column\": null, \"tf_adjustment_weight\": 1.0, \"is_null_level\": false, \"bayes_factor\": 0.001187109714795884, \"log2_bayes_factor\": -9.718331007072985, \"comparison_vector_value\": 0, \"max_comparison_vector_value\": 3, \"bayes_factor_description\": \"If comparison level is `all other comparisons` then comparison is  842.38 times less likely to be a match\", \"probability_two_random_records_match\": 0.023927451232987815, \"comparison_sort_order\": 1, \"iteration\": 4}, {\"comparison_name\": \"sex\", \"sql_condition\": \"\\\"sex_l\\\" = \\\"sex_r\\\"\", \"label_for_charts\": \"Exact match\", \"m_probability\": 1.0, \"u_probability\": 0.5030740884742161, \"m_probability_description\": \"Amongst matching record comparisons, 100.00% of records are in the exact match comparison level\", \"u_probability_description\": \"Amongst non-matching record comparisons, 50.31% of records are in the exact match comparison level\", \"has_tf_adjustments\": false, \"tf_adjustment_column\": null, \"tf_adjustment_weight\": 1.0, \"is_null_level\": false, \"bayes_factor\": 1.9877787842997856, \"log2_bayes_factor\": 0.9911572113511078, \"comparison_vector_value\": 1, \"max_comparison_vector_value\": 1, \"bayes_factor_description\": \"If comparison level is `exact match` then comparison is 1.99 times more likely to be a match\", \"probability_two_random_records_match\": 0.023927451232987815, \"comparison_sort_order\": 2, \"iteration\": 4}, {\"comparison_name\": \"sex\", \"sql_condition\": \"ELSE\", \"label_for_charts\": \"All other comparisons\", \"m_probability\": 1.206489674273475e-26, \"u_probability\": 0.4969259115257839, \"m_probability_description\": \"Amongst matching record comparisons, 0.00% of records are in the all other comparisons comparison level\", \"u_probability_description\": \"Amongst non-matching record comparisons, 49.69% of records are in the all other comparisons comparison level\", \"has_tf_adjustments\": false, \"tf_adjustment_column\": null, \"tf_adjustment_weight\": 1.0, \"is_null_level\": false, \"bayes_factor\": 2.42790654761595e-26, \"log2_bayes_factor\": -85.0904175750848, \"comparison_vector_value\": 0, \"max_comparison_vector_value\": 1, \"bayes_factor_description\": \"If comparison level is `all other comparisons` then comparison is  41,187,746,743,462,454,473,261,056.00 times less likely to be a match\", \"probability_two_random_records_match\": 0.023927451232987815, \"comparison_sort_order\": 2, \"iteration\": 4}, {\"comparison_name\": \"age\", \"sql_condition\": \"round(age_r) - round(age_l) = 10\", \"label_for_charts\": \"Exact match\", \"m_probability\": 0.7797364595324635, \"u_probability\": 0.010308493344762859, \"m_probability_description\": \"Amongst matching record comparisons, 77.97% of records are in the exact match comparison level\", \"u_probability_description\": \"Amongst non-matching record comparisons, 1.03% of records are in the exact match comparison level\", \"has_tf_adjustments\": false, \"tf_adjustment_column\": null, \"tf_adjustment_weight\": 1.0, \"is_null_level\": false, \"bayes_factor\": 75.64019623959905, \"log2_bayes_factor\": 6.241081201082614, \"comparison_vector_value\": 2, \"max_comparison_vector_value\": 2, \"bayes_factor_description\": \"If comparison level is `exact match` then comparison is 75.64 times more likely to be a match\", \"probability_two_random_records_match\": 0.023927451232987815, \"comparison_sort_order\": 3, \"iteration\": 4}, {\"comparison_name\": \"age\", \"sql_condition\": \"abs(round(age_r) - (round(age_l)+10)) = 1\", \"label_for_charts\": \"Age within 1 year\", \"m_probability\": 0.055999663468219635, \"u_probability\": 0.02064582970392069, \"m_probability_description\": \"Amongst matching record comparisons, 5.60% of records are in the age within 1 year comparison level\", \"u_probability_description\": \"Amongst non-matching record comparisons, 2.06% of records are in the age within 1 year comparison level\", \"has_tf_adjustments\": false, \"tf_adjustment_column\": null, \"tf_adjustment_weight\": 1.0, \"is_null_level\": false, \"bayes_factor\": 2.712395881943421, \"log2_bayes_factor\": 1.439567759313117, \"comparison_vector_value\": 1, \"max_comparison_vector_value\": 2, \"bayes_factor_description\": \"If comparison level is `age within 1 year` then comparison is 2.71 times more likely to be a match\", \"probability_two_random_records_match\": 0.023927451232987815, \"comparison_sort_order\": 3, \"iteration\": 4}, {\"comparison_name\": \"age\", \"sql_condition\": \"ELSE\", \"label_for_charts\": \"Age difference >= 2 years\", \"m_probability\": 0.16426387699931674, \"u_probability\": 0.9690456769513165, \"m_probability_description\": \"Amongst matching record comparisons, 16.43% of records are in the age difference >= 2 years comparison level\", \"u_probability_description\": \"Amongst non-matching record comparisons, 96.90% of records are in the age difference >= 2 years comparison level\", \"has_tf_adjustments\": false, \"tf_adjustment_column\": null, \"tf_adjustment_weight\": 1.0, \"is_null_level\": false, \"bayes_factor\": 0.1695109744631461, \"log2_bayes_factor\": -2.560549415678998, \"comparison_vector_value\": 0, \"max_comparison_vector_value\": 2, \"bayes_factor_description\": \"If comparison level is `age difference >= 2 years` then comparison is  5.90 times less likely to be a match\", \"probability_two_random_records_match\": 0.023927451232987815, \"comparison_sort_order\": 3, \"iteration\": 4}, {\"comparison_name\": \"first_name\", \"sql_condition\": \"\\\"first_name_l\\\" = \\\"first_name_r\\\"\", \"label_for_charts\": \"Exact match\", \"m_probability\": 0.999999999941948, \"u_probability\": 0.004286071939092783, \"m_probability_description\": \"Amongst matching record comparisons, 100.00% of records are in the exact match comparison level\", \"u_probability_description\": \"Amongst non-matching record comparisons, 0.43% of records are in the exact match comparison level\", \"has_tf_adjustments\": false, \"tf_adjustment_column\": null, \"tf_adjustment_weight\": 1.0, \"is_null_level\": false, \"bayes_factor\": 233.31386270516361, \"log2_bayes_factor\": 7.8661282196078774, \"comparison_vector_value\": 3, \"max_comparison_vector_value\": 3, \"bayes_factor_description\": \"If comparison level is `exact match` then comparison is 233.31 times more likely to be a match\", \"probability_two_random_records_match\": 0.023927451232987815, \"comparison_sort_order\": 0, \"iteration\": 5}, {\"comparison_name\": \"first_name\", \"sql_condition\": \"levenshtein(\\\"first_name_l\\\", \\\"first_name_r\\\") <= 1\", \"label_for_charts\": \"levenshtein <= 1\", \"m_probability\": 3.637588839161795e-18, \"u_probability\": 0.0008722127553039419, \"m_probability_description\": \"Amongst matching record comparisons, 0.00% of records are in the levenshtein <= 1 comparison level\", \"u_probability_description\": \"Amongst non-matching record comparisons, 0.09% of records are in the levenshtein <= 1 comparison level\", \"has_tf_adjustments\": false, \"tf_adjustment_column\": null, \"tf_adjustment_weight\": 1.0, \"is_null_level\": false, \"bayes_factor\": 4.170529285477138e-15, \"log2_bayes_factor\": -47.768690934346346, \"comparison_vector_value\": 2, \"max_comparison_vector_value\": 3, \"bayes_factor_description\": \"If comparison level is `levenshtein <= 1` then comparison is  239,777,719,217,140.78 times less likely to be a match\", \"probability_two_random_records_match\": 0.023927451232987815, \"comparison_sort_order\": 0, \"iteration\": 5}, {\"comparison_name\": \"first_name\", \"sql_condition\": \"levenshtein(\\\"first_name_l\\\", \\\"first_name_r\\\") <= 2\", \"label_for_charts\": \"levenshtein <= 2\", \"m_probability\": 1.08947652014629e-19, \"u_probability\": 0.004905619888296774, \"m_probability_description\": \"Amongst matching record comparisons, 0.00% of records are in the levenshtein <= 2 comparison level\", \"u_probability_description\": \"Amongst non-matching record comparisons, 0.49% of records are in the levenshtein <= 2 comparison level\", \"has_tf_adjustments\": false, \"tf_adjustment_column\": null, \"tf_adjustment_weight\": 1.0, \"is_null_level\": false, \"bayes_factor\": 2.2208743134490086e-17, \"log2_bayes_factor\": -55.32164986472736, \"comparison_vector_value\": 1, \"max_comparison_vector_value\": 3, \"bayes_factor_description\": \"If comparison level is `levenshtein <= 2` then comparison is  45,027,311,718,825,016.00 times less likely to be a match\", \"probability_two_random_records_match\": 0.023927451232987815, \"comparison_sort_order\": 0, \"iteration\": 5}, {\"comparison_name\": \"first_name\", \"sql_condition\": \"ELSE\", \"label_for_charts\": \"All other comparisons\", \"m_probability\": 5.805207583760462e-11, \"u_probability\": 0.9899360954173065, \"m_probability_description\": \"Amongst matching record comparisons, 0.00% of records are in the all other comparisons comparison level\", \"u_probability_description\": \"Amongst non-matching record comparisons, 98.99% of records are in the all other comparisons comparison level\", \"has_tf_adjustments\": false, \"tf_adjustment_column\": null, \"tf_adjustment_weight\": 1.0, \"is_null_level\": false, \"bayes_factor\": 5.864224580388982e-11, \"log2_bayes_factor\": -33.98926868878699, \"comparison_vector_value\": 0, \"max_comparison_vector_value\": 3, \"bayes_factor_description\": \"If comparison level is `all other comparisons` then comparison is  17,052,552,921.39 times less likely to be a match\", \"probability_two_random_records_match\": 0.023927451232987815, \"comparison_sort_order\": 0, \"iteration\": 5}, {\"comparison_name\": \"last_name\", \"sql_condition\": \"\\\"last_name_l\\\" = \\\"last_name_r\\\"\", \"label_for_charts\": \"Exact match\", \"m_probability\": 0.9983145542466109, \"u_probability\": 0.0019071001117955237, \"m_probability_description\": \"Amongst matching record comparisons, 99.83% of records are in the exact match comparison level\", \"u_probability_description\": \"Amongst non-matching record comparisons, 0.19% of records are in the exact match comparison level\", \"has_tf_adjustments\": false, \"tf_adjustment_column\": null, \"tf_adjustment_weight\": 1.0, \"is_null_level\": false, \"bayes_factor\": 523.4725477031741, \"log2_bayes_factor\": 9.031970070138112, \"comparison_vector_value\": 3, \"max_comparison_vector_value\": 3, \"bayes_factor_description\": \"If comparison level is `exact match` then comparison is 523.47 times more likely to be a match\", \"probability_two_random_records_match\": 0.023927451232987815, \"comparison_sort_order\": 1, \"iteration\": 5}, {\"comparison_name\": \"last_name\", \"sql_condition\": \"levenshtein(\\\"last_name_l\\\", \\\"last_name_r\\\") <= 1\", \"label_for_charts\": \"levenshtein <= 1\", \"m_probability\": 9.88166466056061e-42, \"u_probability\": 0.00025843340897894573, \"m_probability_description\": \"Amongst matching record comparisons, 0.00% of records are in the levenshtein <= 1 comparison level\", \"u_probability_description\": \"Amongst non-matching record comparisons, 0.03% of records are in the levenshtein <= 1 comparison level\", \"has_tf_adjustments\": false, \"tf_adjustment_column\": null, \"tf_adjustment_weight\": 1.0, \"is_null_level\": false, \"bayes_factor\": 3.823679260201864e-38, \"log2_bayes_factor\": -124.29830609420108, \"comparison_vector_value\": 2, \"max_comparison_vector_value\": 3, \"bayes_factor_description\": \"If comparison level is `levenshtein <= 1` then comparison is  26,152,821,195,238,192,667,914,860,075,585,372,160.00 times less likely to be a match\", \"probability_two_random_records_match\": 0.023927451232987815, \"comparison_sort_order\": 1, \"iteration\": 5}, {\"comparison_name\": \"last_name\", \"sql_condition\": \"levenshtein(\\\"last_name_l\\\", \\\"last_name_r\\\") <= 2\", \"label_for_charts\": \"levenshtein <= 2\", \"m_probability\": 4.9009956343058e-09, \"u_probability\": 0.0019197910381293112, \"m_probability_description\": \"Amongst matching record comparisons, 0.00% of records are in the levenshtein <= 2 comparison level\", \"u_probability_description\": \"Amongst non-matching record comparisons, 0.19% of records are in the levenshtein <= 2 comparison level\", \"has_tf_adjustments\": false, \"tf_adjustment_column\": null, \"tf_adjustment_weight\": 1.0, \"is_null_level\": false, \"bayes_factor\": 2.5528797337659433e-06, \"log2_bayes_factor\": -18.579442995381086, \"comparison_vector_value\": 1, \"max_comparison_vector_value\": 3, \"bayes_factor_description\": \"If comparison level is `levenshtein <= 2` then comparison is  391,714.50 times less likely to be a match\", \"probability_two_random_records_match\": 0.023927451232987815, \"comparison_sort_order\": 1, \"iteration\": 5}, {\"comparison_name\": \"last_name\", \"sql_condition\": \"ELSE\", \"label_for_charts\": \"All other comparisons\", \"m_probability\": 0.0016854408523936022, \"u_probability\": 0.9959146754410962, \"m_probability_description\": \"Amongst matching record comparisons, 0.17% of records are in the all other comparisons comparison level\", \"u_probability_description\": \"Amongst non-matching record comparisons, 99.59% of records are in the all other comparisons comparison level\", \"has_tf_adjustments\": false, \"tf_adjustment_column\": null, \"tf_adjustment_weight\": 1.0, \"is_null_level\": false, \"bayes_factor\": 0.001692354670491336, \"log2_bayes_factor\": -9.20675233574432, \"comparison_vector_value\": 0, \"max_comparison_vector_value\": 3, \"bayes_factor_description\": \"If comparison level is `all other comparisons` then comparison is  590.89 times less likely to be a match\", \"probability_two_random_records_match\": 0.023927451232987815, \"comparison_sort_order\": 1, \"iteration\": 5}, {\"comparison_name\": \"sex\", \"sql_condition\": \"\\\"sex_l\\\" = \\\"sex_r\\\"\", \"label_for_charts\": \"Exact match\", \"m_probability\": 1.0, \"u_probability\": 0.5030740884742161, \"m_probability_description\": \"Amongst matching record comparisons, 100.00% of records are in the exact match comparison level\", \"u_probability_description\": \"Amongst non-matching record comparisons, 50.31% of records are in the exact match comparison level\", \"has_tf_adjustments\": false, \"tf_adjustment_column\": null, \"tf_adjustment_weight\": 1.0, \"is_null_level\": false, \"bayes_factor\": 1.9877787842997856, \"log2_bayes_factor\": 0.9911572113511078, \"comparison_vector_value\": 1, \"max_comparison_vector_value\": 1, \"bayes_factor_description\": \"If comparison level is `exact match` then comparison is 1.99 times more likely to be a match\", \"probability_two_random_records_match\": 0.023927451232987815, \"comparison_sort_order\": 2, \"iteration\": 5}, {\"comparison_name\": \"sex\", \"sql_condition\": \"ELSE\", \"label_for_charts\": \"All other comparisons\", \"m_probability\": 6.517326977454492e-33, \"u_probability\": 0.4969259115257839, \"m_probability_description\": \"Amongst matching record comparisons, 0.00% of records are in the all other comparisons comparison level\", \"u_probability_description\": \"Amongst non-matching record comparisons, 49.69% of records are in the all other comparisons comparison level\", \"has_tf_adjustments\": false, \"tf_adjustment_column\": null, \"tf_adjustment_weight\": 1.0, \"is_null_level\": false, \"bayes_factor\": 1.3115289072858756e-32, \"log2_bayes_factor\": -105.91044943013591, \"comparison_vector_value\": 0, \"max_comparison_vector_value\": 1, \"bayes_factor_description\": \"If comparison level is `all other comparisons` then comparison is  76,246,889,751,704,778,358,804,946,354,176.00 times less likely to be a match\", \"probability_two_random_records_match\": 0.023927451232987815, \"comparison_sort_order\": 2, \"iteration\": 5}, {\"comparison_name\": \"age\", \"sql_condition\": \"round(age_r) - round(age_l) = 10\", \"label_for_charts\": \"Exact match\", \"m_probability\": 0.7796432181868989, \"u_probability\": 0.010308493344762859, \"m_probability_description\": \"Amongst matching record comparisons, 77.96% of records are in the exact match comparison level\", \"u_probability_description\": \"Amongst non-matching record comparisons, 1.03% of records are in the exact match comparison level\", \"has_tf_adjustments\": false, \"tf_adjustment_column\": null, \"tf_adjustment_weight\": 1.0, \"is_null_level\": false, \"bayes_factor\": 75.63115114033515, \"log2_bayes_factor\": 6.240908672443266, \"comparison_vector_value\": 2, \"max_comparison_vector_value\": 2, \"bayes_factor_description\": \"If comparison level is `exact match` then comparison is 75.63 times more likely to be a match\", \"probability_two_random_records_match\": 0.023927451232987815, \"comparison_sort_order\": 3, \"iteration\": 5}, {\"comparison_name\": \"age\", \"sql_condition\": \"abs(round(age_r) - (round(age_l)+10)) = 1\", \"label_for_charts\": \"Age within 1 year\", \"m_probability\": 0.056073427442240704, \"u_probability\": 0.02064582970392069, \"m_probability_description\": \"Amongst matching record comparisons, 5.61% of records are in the age within 1 year comparison level\", \"u_probability_description\": \"Amongst non-matching record comparisons, 2.06% of records are in the age within 1 year comparison level\", \"has_tf_adjustments\": false, \"tf_adjustment_column\": null, \"tf_adjustment_weight\": 1.0, \"is_null_level\": false, \"bayes_factor\": 2.715968708760212, \"log2_bayes_factor\": 1.4414668580890808, \"comparison_vector_value\": 1, \"max_comparison_vector_value\": 2, \"bayes_factor_description\": \"If comparison level is `age within 1 year` then comparison is 2.72 times more likely to be a match\", \"probability_two_random_records_match\": 0.023927451232987815, \"comparison_sort_order\": 3, \"iteration\": 5}, {\"comparison_name\": \"age\", \"sql_condition\": \"ELSE\", \"label_for_charts\": \"Age difference >= 2 years\", \"m_probability\": 0.1642833543708605, \"u_probability\": 0.9690456769513165, \"m_probability_description\": \"Amongst matching record comparisons, 16.43% of records are in the age difference >= 2 years comparison level\", \"u_probability_description\": \"Amongst non-matching record comparisons, 96.90% of records are in the age difference >= 2 years comparison level\", \"has_tf_adjustments\": false, \"tf_adjustment_column\": null, \"tf_adjustment_weight\": 1.0, \"is_null_level\": false, \"bayes_factor\": 0.16953107400231854, \"log2_bayes_factor\": -2.5603783601674266, \"comparison_vector_value\": 0, \"max_comparison_vector_value\": 2, \"bayes_factor_description\": \"If comparison level is `age difference >= 2 years` then comparison is  5.90 times less likely to be a match\", \"probability_two_random_records_match\": 0.023927451232987815, \"comparison_sort_order\": 3, \"iteration\": 5}, {\"comparison_name\": \"first_name\", \"sql_condition\": \"\\\"first_name_l\\\" = \\\"first_name_r\\\"\", \"label_for_charts\": \"Exact match\", \"m_probability\": 0.9999999999958685, \"u_probability\": 0.004286071939092783, \"m_probability_description\": \"Amongst matching record comparisons, 100.00% of records are in the exact match comparison level\", \"u_probability_description\": \"Amongst non-matching record comparisons, 0.43% of records are in the exact match comparison level\", \"has_tf_adjustments\": false, \"tf_adjustment_column\": null, \"tf_adjustment_weight\": 1.0, \"is_null_level\": false, \"bayes_factor\": 233.313862717744, \"log2_bayes_factor\": 7.8661282196856686, \"comparison_vector_value\": 3, \"max_comparison_vector_value\": 3, \"bayes_factor_description\": \"If comparison level is `exact match` then comparison is 233.31 times more likely to be a match\", \"probability_two_random_records_match\": 0.023927451232987815, \"comparison_sort_order\": 0, \"iteration\": 6}, {\"comparison_name\": \"first_name\", \"sql_condition\": \"levenshtein(\\\"first_name_l\\\", \\\"first_name_r\\\") <= 1\", \"label_for_charts\": \"levenshtein <= 1\", \"m_probability\": 1.369672648045195e-20, \"u_probability\": 0.0008722127553039419, \"m_probability_description\": \"Amongst matching record comparisons, 0.00% of records are in the levenshtein <= 1 comparison level\", \"u_probability_description\": \"Amongst non-matching record comparisons, 0.09% of records are in the levenshtein <= 1 comparison level\", \"has_tf_adjustments\": false, \"tf_adjustment_column\": null, \"tf_adjustment_weight\": 1.0, \"is_null_level\": false, \"bayes_factor\": 1.5703423731379648e-17, \"log2_bayes_factor\": -55.82169847678428, \"comparison_vector_value\": 2, \"max_comparison_vector_value\": 3, \"bayes_factor_description\": \"If comparison level is `levenshtein <= 1` then comparison is  63,680,380,603,990,968.00 times less likely to be a match\", \"probability_two_random_records_match\": 0.023927451232987815, \"comparison_sort_order\": 0, \"iteration\": 6}, {\"comparison_name\": \"first_name\", \"sql_condition\": \"levenshtein(\\\"first_name_l\\\", \\\"first_name_r\\\") <= 2\", \"label_for_charts\": \"levenshtein <= 2\", \"m_probability\": 2.078725557035917e-22, \"u_probability\": 0.004905619888296774, \"m_probability_description\": \"Amongst matching record comparisons, 0.00% of records are in the levenshtein <= 2 comparison level\", \"u_probability_description\": \"Amongst non-matching record comparisons, 0.49% of records are in the levenshtein <= 2 comparison level\", \"has_tf_adjustments\": false, \"tf_adjustment_column\": null, \"tf_adjustment_weight\": 1.0, \"is_null_level\": false, \"bayes_factor\": 4.237437070889013e-20, \"log2_bayes_factor\": -64.35536995443996, \"comparison_vector_value\": 1, \"max_comparison_vector_value\": 3, \"bayes_factor_description\": \"If comparison level is `levenshtein <= 2` then comparison is  23,599,170,519,131,750,400.00 times less likely to be a match\", \"probability_two_random_records_match\": 0.023927451232987815, \"comparison_sort_order\": 0, \"iteration\": 6}, {\"comparison_name\": \"first_name\", \"sql_condition\": \"ELSE\", \"label_for_charts\": \"All other comparisons\", \"m_probability\": 4.13150708591309e-12, \"u_probability\": 0.9899360954173065, \"m_probability_description\": \"Amongst matching record comparisons, 0.00% of records are in the all other comparisons comparison level\", \"u_probability_description\": \"Amongst non-matching record comparisons, 98.99% of records are in the all other comparisons comparison level\", \"has_tf_adjustments\": false, \"tf_adjustment_column\": null, \"tf_adjustment_weight\": 1.0, \"is_null_level\": false, \"bayes_factor\": 4.173508881067174e-12, \"log2_bayes_factor\": -37.801876297742304, \"comparison_vector_value\": 0, \"max_comparison_vector_value\": 3, \"bayes_factor_description\": \"If comparison level is `all other comparisons` then comparison is  239,606,534,572.49 times less likely to be a match\", \"probability_two_random_records_match\": 0.023927451232987815, \"comparison_sort_order\": 0, \"iteration\": 6}, {\"comparison_name\": \"last_name\", \"sql_condition\": \"\\\"last_name_l\\\" = \\\"last_name_r\\\"\", \"label_for_charts\": \"Exact match\", \"m_probability\": 0.9978999538589619, \"u_probability\": 0.0019071001117955237, \"m_probability_description\": \"Amongst matching record comparisons, 99.79% of records are in the exact match comparison level\", \"u_probability_description\": \"Amongst non-matching record comparisons, 0.19% of records are in the exact match comparison level\", \"has_tf_adjustments\": false, \"tf_adjustment_column\": null, \"tf_adjustment_weight\": 1.0, \"is_null_level\": false, \"bayes_factor\": 523.2551493688734, \"log2_bayes_factor\": 9.031370793928682, \"comparison_vector_value\": 3, \"max_comparison_vector_value\": 3, \"bayes_factor_description\": \"If comparison level is `exact match` then comparison is 523.26 times more likely to be a match\", \"probability_two_random_records_match\": 0.023927451232987815, \"comparison_sort_order\": 1, \"iteration\": 6}, {\"comparison_name\": \"last_name\", \"sql_condition\": \"levenshtein(\\\"last_name_l\\\", \\\"last_name_r\\\") <= 1\", \"label_for_charts\": \"levenshtein <= 1\", \"m_probability\": 6.479751387510353e-53, \"u_probability\": 0.00025843340897894573, \"m_probability_description\": \"Amongst matching record comparisons, 0.00% of records are in the levenshtein <= 1 comparison level\", \"u_probability_description\": \"Amongst non-matching record comparisons, 0.03% of records are in the levenshtein <= 1 comparison level\", \"has_tf_adjustments\": false, \"tf_adjustment_column\": null, \"tf_adjustment_weight\": 1.0, \"is_null_level\": false, \"bayes_factor\": 2.5073195501740455e-49, \"log2_bayes_factor\": -161.44833077454035, \"comparison_vector_value\": 2, \"max_comparison_vector_value\": 3, \"bayes_factor_description\": \"If comparison level is `levenshtein <= 1` then comparison is  3,988,322,908,145,414,154,483,706,283,289,354,099,973,295,177,728.00 times less likely to be a match\", \"probability_two_random_records_match\": 0.023927451232987815, \"comparison_sort_order\": 1, \"iteration\": 6}, {\"comparison_name\": \"last_name\", \"sql_condition\": \"levenshtein(\\\"last_name_l\\\", \\\"last_name_r\\\") <= 2\", \"label_for_charts\": \"levenshtein <= 2\", \"m_probability\": 1.1474764998486435e-09, \"u_probability\": 0.0019197910381293112, \"m_probability_description\": \"Amongst matching record comparisons, 0.00% of records are in the levenshtein <= 2 comparison level\", \"u_probability_description\": \"Amongst non-matching record comparisons, 0.19% of records are in the levenshtein <= 2 comparison level\", \"has_tf_adjustments\": false, \"tf_adjustment_column\": null, \"tf_adjustment_weight\": 1.0, \"is_null_level\": false, \"bayes_factor\": 5.977090615897296e-07, \"log2_bayes_factor\": -20.674053249252154, \"comparison_vector_value\": 1, \"max_comparison_vector_value\": 3, \"bayes_factor_description\": \"If comparison level is `levenshtein <= 2` then comparison is  1,673,054.78 times less likely to be a match\", \"probability_two_random_records_match\": 0.023927451232987815, \"comparison_sort_order\": 1, \"iteration\": 6}, {\"comparison_name\": \"last_name\", \"sql_condition\": \"ELSE\", \"label_for_charts\": \"All other comparisons\", \"m_probability\": 0.0021000449935616944, \"u_probability\": 0.9959146754410962, \"m_probability_description\": \"Amongst matching record comparisons, 0.21% of records are in the all other comparisons comparison level\", \"u_probability_description\": \"Amongst non-matching record comparisons, 99.59% of records are in the all other comparisons comparison level\", \"has_tf_adjustments\": false, \"tf_adjustment_column\": null, \"tf_adjustment_weight\": 1.0, \"is_null_level\": false, \"bayes_factor\": 0.0021086595522167326, \"log2_bayes_factor\": -8.889458097058265, \"comparison_vector_value\": 0, \"max_comparison_vector_value\": 3, \"bayes_factor_description\": \"If comparison level is `all other comparisons` then comparison is  474.23 times less likely to be a match\", \"probability_two_random_records_match\": 0.023927451232987815, \"comparison_sort_order\": 1, \"iteration\": 6}, {\"comparison_name\": \"sex\", \"sql_condition\": \"\\\"sex_l\\\" = \\\"sex_r\\\"\", \"label_for_charts\": \"Exact match\", \"m_probability\": 1.0, \"u_probability\": 0.5030740884742161, \"m_probability_description\": \"Amongst matching record comparisons, 100.00% of records are in the exact match comparison level\", \"u_probability_description\": \"Amongst non-matching record comparisons, 50.31% of records are in the exact match comparison level\", \"has_tf_adjustments\": false, \"tf_adjustment_column\": null, \"tf_adjustment_weight\": 1.0, \"is_null_level\": false, \"bayes_factor\": 1.9877787842997856, \"log2_bayes_factor\": 0.9911572113511078, \"comparison_vector_value\": 1, \"max_comparison_vector_value\": 1, \"bayes_factor_description\": \"If comparison level is `exact match` then comparison is 1.99 times more likely to be a match\", \"probability_two_random_records_match\": 0.023927451232987815, \"comparison_sort_order\": 2, \"iteration\": 6}, {\"comparison_name\": \"sex\", \"sql_condition\": \"ELSE\", \"label_for_charts\": \"All other comparisons\", \"m_probability\": 5.0190494914024245e-39, \"u_probability\": 0.4969259115257839, \"m_probability_description\": \"Amongst matching record comparisons, 0.00% of records are in the all other comparisons comparison level\", \"u_probability_description\": \"Amongst non-matching record comparisons, 49.69% of records are in the all other comparisons comparison level\", \"has_tf_adjustments\": false, \"tf_adjustment_column\": null, \"tf_adjustment_weight\": 1.0, \"is_null_level\": false, \"bayes_factor\": 1.0100196779821175e-38, \"log2_bayes_factor\": -126.21888420477174, \"comparison_vector_value\": 0, \"max_comparison_vector_value\": 1, \"bayes_factor_description\": \"If comparison level is `all other comparisons` then comparison is  99,007,972,002,868,746,909,798,181,030,940,639,232.00 times less likely to be a match\", \"probability_two_random_records_match\": 0.023927451232987815, \"comparison_sort_order\": 2, \"iteration\": 6}, {\"comparison_name\": \"age\", \"sql_condition\": \"round(age_r) - round(age_l) = 10\", \"label_for_charts\": \"Exact match\", \"m_probability\": 0.7795241013073622, \"u_probability\": 0.010308493344762859, \"m_probability_description\": \"Amongst matching record comparisons, 77.95% of records are in the exact match comparison level\", \"u_probability_description\": \"Amongst non-matching record comparisons, 1.03% of records are in the exact match comparison level\", \"has_tf_adjustments\": false, \"tf_adjustment_column\": null, \"tf_adjustment_weight\": 1.0, \"is_null_level\": false, \"bayes_factor\": 75.61959592314163, \"log2_bayes_factor\": 6.240688235124474, \"comparison_vector_value\": 2, \"max_comparison_vector_value\": 2, \"bayes_factor_description\": \"If comparison level is `exact match` then comparison is 75.62 times more likely to be a match\", \"probability_two_random_records_match\": 0.023927451232987815, \"comparison_sort_order\": 3, \"iteration\": 6}, {\"comparison_name\": \"age\", \"sql_condition\": \"abs(round(age_r) - (round(age_l)+10)) = 1\", \"label_for_charts\": \"Age within 1 year\", \"m_probability\": 0.05615399934323143, \"u_probability\": 0.02064582970392069, \"m_probability_description\": \"Amongst matching record comparisons, 5.62% of records are in the age within 1 year comparison level\", \"u_probability_description\": \"Amongst non-matching record comparisons, 2.06% of records are in the age within 1 year comparison level\", \"has_tf_adjustments\": false, \"tf_adjustment_column\": null, \"tf_adjustment_weight\": 1.0, \"is_null_level\": false, \"bayes_factor\": 2.7198712838635717, \"log2_bayes_factor\": 1.4435383784882398, \"comparison_vector_value\": 1, \"max_comparison_vector_value\": 2, \"bayes_factor_description\": \"If comparison level is `age within 1 year` then comparison is 2.72 times more likely to be a match\", \"probability_two_random_records_match\": 0.023927451232987815, \"comparison_sort_order\": 3, \"iteration\": 6}, {\"comparison_name\": \"age\", \"sql_condition\": \"ELSE\", \"label_for_charts\": \"Age difference >= 2 years\", \"m_probability\": 0.16432189934940628, \"u_probability\": 0.9690456769513165, \"m_probability_description\": \"Amongst matching record comparisons, 16.43% of records are in the age difference >= 2 years comparison level\", \"u_probability_description\": \"Amongst non-matching record comparisons, 96.90% of records are in the age difference >= 2 years comparison level\", \"has_tf_adjustments\": false, \"tf_adjustment_column\": null, \"tf_adjustment_weight\": 1.0, \"is_null_level\": false, \"bayes_factor\": 0.16957085022697188, \"log2_bayes_factor\": -2.560039907577125, \"comparison_vector_value\": 0, \"max_comparison_vector_value\": 2, \"bayes_factor_description\": \"If comparison level is `age difference >= 2 years` then comparison is  5.90 times less likely to be a match\", \"probability_two_random_records_match\": 0.023927451232987815, \"comparison_sort_order\": 3, \"iteration\": 6}, {\"comparison_name\": \"first_name\", \"sql_condition\": \"\\\"first_name_l\\\" = \\\"first_name_r\\\"\", \"label_for_charts\": \"Exact match\", \"m_probability\": 0.9999999999997041, \"u_probability\": 0.004286071939092783, \"m_probability_description\": \"Amongst matching record comparisons, 100.00% of records are in the exact match comparison level\", \"u_probability_description\": \"Amongst non-matching record comparisons, 0.43% of records are in the exact match comparison level\", \"has_tf_adjustments\": false, \"tf_adjustment_column\": null, \"tf_adjustment_weight\": 1.0, \"is_null_level\": false, \"bayes_factor\": 233.31386271863892, \"log2_bayes_factor\": 7.866128219691202, \"comparison_vector_value\": 3, \"max_comparison_vector_value\": 3, \"bayes_factor_description\": \"If comparison level is `exact match` then comparison is 233.31 times more likely to be a match\", \"probability_two_random_records_match\": 0.023927451232987815, \"comparison_sort_order\": 0, \"iteration\": 7}, {\"comparison_name\": \"first_name\", \"sql_condition\": \"levenshtein(\\\"first_name_l\\\", \\\"first_name_r\\\") <= 1\", \"label_for_charts\": \"levenshtein <= 1\", \"m_probability\": 6.426440111486824e-23, \"u_probability\": 0.0008722127553039419, \"m_probability_description\": \"Amongst matching record comparisons, 0.00% of records are in the levenshtein <= 1 comparison level\", \"u_probability_description\": \"Amongst non-matching record comparisons, 0.09% of records are in the levenshtein <= 1 comparison level\", \"has_tf_adjustments\": false, \"tf_adjustment_column\": null, \"tf_adjustment_weight\": 1.0, \"is_null_level\": false, \"bayes_factor\": 7.36797309189475e-20, \"log2_bayes_factor\": -63.55729410508305, \"comparison_vector_value\": 2, \"max_comparison_vector_value\": 3, \"bayes_factor_description\": \"If comparison level is `levenshtein <= 1` then comparison is  13,572,253,692,132,306,944.00 times less likely to be a match\", \"probability_two_random_records_match\": 0.023927451232987815, \"comparison_sort_order\": 0, \"iteration\": 7}, {\"comparison_name\": \"first_name\", \"sql_condition\": \"levenshtein(\\\"first_name_l\\\", \\\"first_name_r\\\") <= 2\", \"label_for_charts\": \"levenshtein <= 2\", \"m_probability\": 4.942562842618067e-25, \"u_probability\": 0.004905619888296774, \"m_probability_description\": \"Amongst matching record comparisons, 0.00% of records are in the levenshtein <= 2 comparison level\", \"u_probability_description\": \"Amongst non-matching record comparisons, 0.49% of records are in the levenshtein <= 2 comparison level\", \"has_tf_adjustments\": false, \"tf_adjustment_column\": null, \"tf_adjustment_weight\": 1.0, \"is_null_level\": false, \"bayes_factor\": 1.0075307413053807e-22, \"log2_bayes_factor\": -73.0715942292628, \"comparison_vector_value\": 1, \"max_comparison_vector_value\": 3, \"bayes_factor_description\": \"If comparison level is `levenshtein <= 2` then comparison is  9,925,255,468,675,590,258,688.00 times less likely to be a match\", \"probability_two_random_records_match\": 0.023927451232987815, \"comparison_sort_order\": 0, \"iteration\": 7}, {\"comparison_name\": \"first_name\", \"sql_condition\": \"ELSE\", \"label_for_charts\": \"All other comparisons\", \"m_probability\": 2.9600823404294717e-13, \"u_probability\": 0.9899360954173065, \"m_probability_description\": \"Amongst matching record comparisons, 0.00% of records are in the all other comparisons comparison level\", \"u_probability_description\": \"Amongst non-matching record comparisons, 98.99% of records are in the all other comparisons comparison level\", \"has_tf_adjustments\": false, \"tf_adjustment_column\": null, \"tf_adjustment_weight\": 1.0, \"is_null_level\": false, \"bayes_factor\": 2.990175178107484e-13, \"log2_bayes_factor\": -41.60483522697728, \"comparison_vector_value\": 0, \"max_comparison_vector_value\": 3, \"bayes_factor_description\": \"If comparison level is `all other comparisons` then comparison is  3,344,285,670,356.31 times less likely to be a match\", \"probability_two_random_records_match\": 0.023927451232987815, \"comparison_sort_order\": 0, \"iteration\": 7}, {\"comparison_name\": \"last_name\", \"sql_condition\": \"\\\"last_name_l\\\" = \\\"last_name_r\\\"\", \"label_for_charts\": \"Exact match\", \"m_probability\": 0.997607804109208, \"u_probability\": 0.0019071001117955237, \"m_probability_description\": \"Amongst matching record comparisons, 99.76% of records are in the exact match comparison level\", \"u_probability_description\": \"Amongst non-matching record comparisons, 0.19% of records are in the exact match comparison level\", \"has_tf_adjustments\": false, \"tf_adjustment_column\": null, \"tf_adjustment_weight\": 1.0, \"is_null_level\": false, \"bayes_factor\": 523.1019588006662, \"log2_bayes_factor\": 9.03094836209749, \"comparison_vector_value\": 3, \"max_comparison_vector_value\": 3, \"bayes_factor_description\": \"If comparison level is `exact match` then comparison is 523.10 times more likely to be a match\", \"probability_two_random_records_match\": 0.023927451232987815, \"comparison_sort_order\": 1, \"iteration\": 7}, {\"comparison_name\": \"last_name\", \"sql_condition\": \"levenshtein(\\\"last_name_l\\\", \\\"last_name_r\\\") <= 1\", \"label_for_charts\": \"levenshtein <= 1\", \"m_probability\": 3.025079922591976e-65, \"u_probability\": 0.00025843340897894573, \"m_probability_description\": \"Amongst matching record comparisons, 0.00% of records are in the levenshtein <= 1 comparison level\", \"u_probability_description\": \"Amongst non-matching record comparisons, 0.03% of records are in the levenshtein <= 1 comparison level\", \"has_tf_adjustments\": false, \"tf_adjustment_column\": null, \"tf_adjustment_weight\": 1.0, \"is_null_level\": false, \"bayes_factor\": 1.1705452226722071e-61, \"log2_bayes_factor\": -202.41043311573418, \"comparison_vector_value\": 2, \"max_comparison_vector_value\": 3, \"bayes_factor_description\": \"If comparison level is `levenshtein <= 1` then comparison is  8,543,027,476,692,666,122,982,168,407,175,997,748,992,226,390,592,270,945,484,800.00 times less likely to be a match\", \"probability_two_random_records_match\": 0.023927451232987815, \"comparison_sort_order\": 1, \"iteration\": 7}, {\"comparison_name\": \"last_name\", \"sql_condition\": \"levenshtein(\\\"last_name_l\\\", \\\"last_name_r\\\") <= 2\", \"label_for_charts\": \"levenshtein <= 2\", \"m_probability\": 2.687598864690927e-10, \"u_probability\": 0.0019197910381293112, \"m_probability_description\": \"Amongst matching record comparisons, 0.00% of records are in the levenshtein <= 2 comparison level\", \"u_probability_description\": \"Amongst non-matching record comparisons, 0.19% of records are in the levenshtein <= 2 comparison level\", \"has_tf_adjustments\": false, \"tf_adjustment_column\": null, \"tf_adjustment_weight\": 1.0, \"is_null_level\": false, \"bayes_factor\": 1.399943437234599e-07, \"log2_bayes_factor\": -22.768128125948184, \"comparison_vector_value\": 1, \"max_comparison_vector_value\": 3, \"bayes_factor_description\": \"If comparison level is `levenshtein <= 2` then comparison is  7,143,145.74 times less likely to be a match\", \"probability_two_random_records_match\": 0.023927451232987815, \"comparison_sort_order\": 1, \"iteration\": 7}, {\"comparison_name\": \"last_name\", \"sql_condition\": \"ELSE\", \"label_for_charts\": \"All other comparisons\", \"m_probability\": 0.002392195622032105, \"u_probability\": 0.9959146754410962, \"m_probability_description\": \"Amongst matching record comparisons, 0.24% of records are in the all other comparisons comparison level\", \"u_probability_description\": \"Amongst non-matching record comparisons, 99.59% of records are in the all other comparisons comparison level\", \"has_tf_adjustments\": false, \"tf_adjustment_column\": null, \"tf_adjustment_weight\": 1.0, \"is_null_level\": false, \"bayes_factor\": 0.002402008606784098, \"log2_bayes_factor\": -8.701542964200351, \"comparison_vector_value\": 0, \"max_comparison_vector_value\": 3, \"bayes_factor_description\": \"If comparison level is `all other comparisons` then comparison is  416.32 times less likely to be a match\", \"probability_two_random_records_match\": 0.023927451232987815, \"comparison_sort_order\": 1, \"iteration\": 7}, {\"comparison_name\": \"sex\", \"sql_condition\": \"\\\"sex_l\\\" = \\\"sex_r\\\"\", \"label_for_charts\": \"Exact match\", \"m_probability\": 1.0, \"u_probability\": 0.5030740884742161, \"m_probability_description\": \"Amongst matching record comparisons, 100.00% of records are in the exact match comparison level\", \"u_probability_description\": \"Amongst non-matching record comparisons, 50.31% of records are in the exact match comparison level\", \"has_tf_adjustments\": false, \"tf_adjustment_column\": null, \"tf_adjustment_weight\": 1.0, \"is_null_level\": false, \"bayes_factor\": 1.9877787842997856, \"log2_bayes_factor\": 0.9911572113511078, \"comparison_vector_value\": 1, \"max_comparison_vector_value\": 1, \"bayes_factor_description\": \"If comparison level is `exact match` then comparison is 1.99 times more likely to be a match\", \"probability_two_random_records_match\": 0.023927451232987815, \"comparison_sort_order\": 2, \"iteration\": 7}, {\"comparison_name\": \"sex\", \"sql_condition\": \"ELSE\", \"label_for_charts\": \"All other comparisons\", \"m_probability\": 4.8177430117104804e-45, \"u_probability\": 0.4969259115257839, \"m_probability_description\": \"Amongst matching record comparisons, 0.00% of records are in the all other comparisons comparison level\", \"u_probability_description\": \"Amongst non-matching record comparisons, 49.69% of records are in the all other comparisons comparison level\", \"has_tf_adjustments\": false, \"tf_adjustment_column\": null, \"tf_adjustment_weight\": 1.0, \"is_null_level\": false, \"bayes_factor\": 9.695093171772555e-45, \"log2_bayes_factor\": -146.2095095069465, \"comparison_vector_value\": 0, \"max_comparison_vector_value\": 1, \"bayes_factor_description\": \"If comparison level is `all other comparisons` then comparison is  103,144,960,268,305,490,100,286,808,907,213,588,561,657,856.00 times less likely to be a match\", \"probability_two_random_records_match\": 0.023927451232987815, \"comparison_sort_order\": 2, \"iteration\": 7}, {\"comparison_name\": \"age\", \"sql_condition\": \"round(age_r) - round(age_l) = 10\", \"label_for_charts\": \"Exact match\", \"m_probability\": 0.7794169916910422, \"u_probability\": 0.010308493344762859, \"m_probability_description\": \"Amongst matching record comparisons, 77.94% of records are in the exact match comparison level\", \"u_probability_description\": \"Amongst non-matching record comparisons, 1.03% of records are in the exact match comparison level\", \"has_tf_adjustments\": false, \"tf_adjustment_column\": null, \"tf_adjustment_weight\": 1.0, \"is_null_level\": false, \"bayes_factor\": 75.60920549917397, \"log2_bayes_factor\": 6.2404899896445984, \"comparison_vector_value\": 2, \"max_comparison_vector_value\": 2, \"bayes_factor_description\": \"If comparison level is `exact match` then comparison is 75.61 times more likely to be a match\", \"probability_two_random_records_match\": 0.023927451232987815, \"comparison_sort_order\": 3, \"iteration\": 7}, {\"comparison_name\": \"age\", \"sql_condition\": \"abs(round(age_r) - (round(age_l)+10)) = 1\", \"label_for_charts\": \"Age within 1 year\", \"m_probability\": 0.05622123848887528, \"u_probability\": 0.02064582970392069, \"m_probability_description\": \"Amongst matching record comparisons, 5.62% of records are in the age within 1 year comparison level\", \"u_probability_description\": \"Amongst non-matching record comparisons, 2.06% of records are in the age within 1 year comparison level\", \"has_tf_adjustments\": false, \"tf_adjustment_column\": null, \"tf_adjustment_weight\": 1.0, \"is_null_level\": false, \"bayes_factor\": 2.7231280745379167, \"log2_bayes_factor\": 1.4452648370109875, \"comparison_vector_value\": 1, \"max_comparison_vector_value\": 2, \"bayes_factor_description\": \"If comparison level is `age within 1 year` then comparison is 2.72 times more likely to be a match\", \"probability_two_random_records_match\": 0.023927451232987815, \"comparison_sort_order\": 3, \"iteration\": 7}, {\"comparison_name\": \"age\", \"sql_condition\": \"ELSE\", \"label_for_charts\": \"Age difference >= 2 years\", \"m_probability\": 0.16436176982008258, \"u_probability\": 0.9690456769513165, \"m_probability_description\": \"Amongst matching record comparisons, 16.44% of records are in the age difference >= 2 years comparison level\", \"u_probability_description\": \"Amongst non-matching record comparisons, 96.90% of records are in the age difference >= 2 years comparison level\", \"has_tf_adjustments\": false, \"tf_adjustment_column\": null, \"tf_adjustment_weight\": 1.0, \"is_null_level\": false, \"bayes_factor\": 0.16961199428408355, \"log2_bayes_factor\": -2.5596898997367594, \"comparison_vector_value\": 0, \"max_comparison_vector_value\": 2, \"bayes_factor_description\": \"If comparison level is `age difference >= 2 years` then comparison is  5.90 times less likely to be a match\", \"probability_two_random_records_match\": 0.023927451232987815, \"comparison_sort_order\": 3, \"iteration\": 7}, {\"comparison_name\": \"first_name\", \"sql_condition\": \"\\\"first_name_l\\\" = \\\"first_name_r\\\"\", \"label_for_charts\": \"Exact match\", \"m_probability\": 0.9999999999999788, \"u_probability\": 0.004286071939092783, \"m_probability_description\": \"Amongst matching record comparisons, 100.00% of records are in the exact match comparison level\", \"u_probability_description\": \"Amongst non-matching record comparisons, 0.43% of records are in the exact match comparison level\", \"has_tf_adjustments\": false, \"tf_adjustment_column\": null, \"tf_adjustment_weight\": 1.0, \"is_null_level\": false, \"bayes_factor\": 233.313862718703, \"log2_bayes_factor\": 7.866128219691598, \"comparison_vector_value\": 3, \"max_comparison_vector_value\": 3, \"bayes_factor_description\": \"If comparison level is `exact match` then comparison is 233.31 times more likely to be a match\", \"probability_two_random_records_match\": 0.023927451232987815, \"comparison_sort_order\": 0, \"iteration\": 8}, {\"comparison_name\": \"first_name\", \"sql_condition\": \"levenshtein(\\\"first_name_l\\\", \\\"first_name_r\\\") <= 1\", \"label_for_charts\": \"levenshtein <= 1\", \"m_probability\": 3.434944462215134e-25, \"u_probability\": 0.0008722127553039419, \"m_probability_description\": \"Amongst matching record comparisons, 0.00% of records are in the levenshtein <= 1 comparison level\", \"u_probability_description\": \"Amongst non-matching record comparisons, 0.09% of records are in the levenshtein <= 1 comparison level\", \"has_tf_adjustments\": false, \"tf_adjustment_column\": null, \"tf_adjustment_weight\": 1.0, \"is_null_level\": false, \"bayes_factor\": 3.938195630970968e-22, \"log2_bayes_factor\": -71.1048833082222, \"comparison_vector_value\": 2, \"max_comparison_vector_value\": 3, \"bayes_factor_description\": \"If comparison level is `levenshtein <= 1` then comparison is  2,539,233,937,836,268,847,104.00 times less likely to be a match\", \"probability_two_random_records_match\": 0.023927451232987815, \"comparison_sort_order\": 0, \"iteration\": 8}, {\"comparison_name\": \"first_name\", \"sql_condition\": \"levenshtein(\\\"first_name_l\\\", \\\"first_name_r\\\") <= 2\", \"label_for_charts\": \"levenshtein <= 2\", \"m_probability\": 1.3388330366379788e-27, \"u_probability\": 0.004905619888296774, \"m_probability_description\": \"Amongst matching record comparisons, 0.00% of records are in the levenshtein <= 2 comparison level\", \"u_probability_description\": \"Amongst non-matching record comparisons, 0.49% of records are in the levenshtein <= 2 comparison level\", \"has_tf_adjustments\": false, \"tf_adjustment_column\": null, \"tf_adjustment_weight\": 1.0, \"is_null_level\": false, \"bayes_factor\": 2.729182177021099e-25, \"log2_bayes_factor\": -81.5997336722907, \"comparison_vector_value\": 1, \"max_comparison_vector_value\": 3, \"bayes_factor_description\": \"If comparison level is `levenshtein <= 2` then comparison is  3,664,101,313,645,172,486,045,696.00 times less likely to be a match\", \"probability_two_random_records_match\": 0.023927451232987815, \"comparison_sort_order\": 0, \"iteration\": 8}, {\"comparison_name\": \"first_name\", \"sql_condition\": \"ELSE\", \"label_for_charts\": \"All other comparisons\", \"m_probability\": 2.1310095465434303e-14, \"u_probability\": 0.9899360954173065, \"m_probability_description\": \"Amongst matching record comparisons, 0.00% of records are in the all other comparisons comparison level\", \"u_probability_description\": \"Amongst non-matching record comparisons, 98.99% of records are in the all other comparisons comparison level\", \"has_tf_adjustments\": false, \"tf_adjustment_column\": null, \"tf_adjustment_weight\": 1.0, \"is_null_level\": false, \"bayes_factor\": 2.1526738507752923e-14, \"log2_bayes_factor\": -45.40086357348472, \"comparison_vector_value\": 0, \"max_comparison_vector_value\": 3, \"bayes_factor_description\": \"If comparison level is `all other comparisons` then comparison is  46,453,855,498,818.22 times less likely to be a match\", \"probability_two_random_records_match\": 0.023927451232987815, \"comparison_sort_order\": 0, \"iteration\": 8}, {\"comparison_name\": \"last_name\", \"sql_condition\": \"\\\"last_name_l\\\" = \\\"last_name_r\\\"\", \"label_for_charts\": \"Exact match\", \"m_probability\": 0.9974199057795065, \"u_probability\": 0.0019071001117955237, \"m_probability_description\": \"Amongst matching record comparisons, 99.74% of records are in the exact match comparison level\", \"u_probability_description\": \"Amongst non-matching record comparisons, 0.19% of records are in the exact match comparison level\", \"has_tf_adjustments\": false, \"tf_adjustment_column\": null, \"tf_adjustment_weight\": 1.0, \"is_null_level\": false, \"bayes_factor\": 523.0034331236242, \"log2_bayes_factor\": 9.030676606484363, \"comparison_vector_value\": 3, \"max_comparison_vector_value\": 3, \"bayes_factor_description\": \"If comparison level is `exact match` then comparison is 523.00 times more likely to be a match\", \"probability_two_random_records_match\": 0.023927451232987815, \"comparison_sort_order\": 1, \"iteration\": 8}, {\"comparison_name\": \"last_name\", \"sql_condition\": \"levenshtein(\\\"last_name_l\\\", \\\"last_name_r\\\") <= 1\", \"label_for_charts\": \"levenshtein <= 1\", \"m_probability\": 1.0121957049191737e-78, \"u_probability\": 0.00025843340897894573, \"m_probability_description\": \"Amongst matching record comparisons, 0.00% of records are in the levenshtein <= 1 comparison level\", \"u_probability_description\": \"Amongst non-matching record comparisons, 0.03% of records are in the levenshtein <= 1 comparison level\", \"has_tf_adjustments\": false, \"tf_adjustment_column\": null, \"tf_adjustment_weight\": 1.0, \"is_null_level\": false, \"bayes_factor\": 3.916659649068964e-75, \"log2_bayes_factor\": -247.17498335051377, \"comparison_vector_value\": 2, \"max_comparison_vector_value\": 3, \"bayes_factor_description\": \"If comparison level is `levenshtein <= 1` then comparison is  255,319,606,399,221,254,198,123,690,092,578,457,499,907,318,059,716,998,738,024,578,432,628,686,848.00 times less likely to be a match\", \"probability_two_random_records_match\": 0.023927451232987815, \"comparison_sort_order\": 1, \"iteration\": 8}, {\"comparison_name\": \"last_name\", \"sql_condition\": \"levenshtein(\\\"last_name_l\\\", \\\"last_name_r\\\") <= 2\", \"label_for_charts\": \"levenshtein <= 2\", \"m_probability\": 6.297081553098699e-11, \"u_probability\": 0.0019197910381293112, \"m_probability_description\": \"Amongst matching record comparisons, 0.00% of records are in the levenshtein <= 2 comparison level\", \"u_probability_description\": \"Amongst non-matching record comparisons, 0.19% of records are in the levenshtein <= 2 comparison level\", \"has_tf_adjustments\": false, \"tf_adjustment_column\": null, \"tf_adjustment_weight\": 1.0, \"is_null_level\": false, \"bayes_factor\": 3.280086961565734e-08, \"log2_bayes_factor\": -24.861690695061473, \"comparison_vector_value\": 1, \"max_comparison_vector_value\": 3, \"bayes_factor_description\": \"If comparison level is `levenshtein <= 2` then comparison is  30,486,996.59 times less likely to be a match\", \"probability_two_random_records_match\": 0.023927451232987815, \"comparison_sort_order\": 1, \"iteration\": 8}, {\"comparison_name\": \"last_name\", \"sql_condition\": \"ELSE\", \"label_for_charts\": \"All other comparisons\", \"m_probability\": 0.0025800941575227034, \"u_probability\": 0.9959146754410962, \"m_probability_description\": \"Amongst matching record comparisons, 0.26% of records are in the all other comparisons comparison level\", \"u_probability_description\": \"Amongst non-matching record comparisons, 99.59% of records are in the all other comparisons comparison level\", \"has_tf_adjustments\": false, \"tf_adjustment_column\": null, \"tf_adjustment_weight\": 1.0, \"is_null_level\": false, \"bayes_factor\": 0.0025906779176438637, \"log2_bayes_factor\": -8.592454619009485, \"comparison_vector_value\": 0, \"max_comparison_vector_value\": 3, \"bayes_factor_description\": \"If comparison level is `all other comparisons` then comparison is  386.00 times less likely to be a match\", \"probability_two_random_records_match\": 0.023927451232987815, \"comparison_sort_order\": 1, \"iteration\": 8}, {\"comparison_name\": \"sex\", \"sql_condition\": \"\\\"sex_l\\\" = \\\"sex_r\\\"\", \"label_for_charts\": \"Exact match\", \"m_probability\": 1.0, \"u_probability\": 0.5030740884742161, \"m_probability_description\": \"Amongst matching record comparisons, 100.00% of records are in the exact match comparison level\", \"u_probability_description\": \"Amongst non-matching record comparisons, 50.31% of records are in the exact match comparison level\", \"has_tf_adjustments\": false, \"tf_adjustment_column\": null, \"tf_adjustment_weight\": 1.0, \"is_null_level\": false, \"bayes_factor\": 1.9877787842997856, \"log2_bayes_factor\": 0.9911572113511078, \"comparison_vector_value\": 1, \"max_comparison_vector_value\": 1, \"bayes_factor_description\": \"If comparison level is `exact match` then comparison is 1.99 times more likely to be a match\", \"probability_two_random_records_match\": 0.023927451232987815, \"comparison_sort_order\": 2, \"iteration\": 8}, {\"comparison_name\": \"sex\", \"sql_condition\": \"ELSE\", \"label_for_charts\": \"All other comparisons\", \"m_probability\": 5.269719007664692e-51, \"u_probability\": 0.4969259115257839, \"m_probability_description\": \"Amongst matching record comparisons, 0.00% of records are in the all other comparisons comparison level\", \"u_probability_description\": \"Amongst non-matching record comparisons, 49.69% of records are in the all other comparisons comparison level\", \"has_tf_adjustments\": false, \"tf_adjustment_column\": null, \"tf_adjustment_weight\": 1.0, \"is_null_level\": false, \"bayes_factor\": 1.0604637201317008e-50, \"log2_bayes_factor\": -166.0117094791634, \"comparison_vector_value\": 0, \"max_comparison_vector_value\": 1, \"bayes_factor_description\": \"If comparison level is `all other comparisons` then comparison is  94,298,369,761,844,219,159,969,724,325,595,416,499,802,439,942,144.00 times less likely to be a match\", \"probability_two_random_records_match\": 0.023927451232987815, \"comparison_sort_order\": 2, \"iteration\": 8}, {\"comparison_name\": \"age\", \"sql_condition\": \"round(age_r) - round(age_l) = 10\", \"label_for_charts\": \"Exact match\", \"m_probability\": 0.7793385132846101, \"u_probability\": 0.010308493344762859, \"m_probability_description\": \"Amongst matching record comparisons, 77.93% of records are in the exact match comparison level\", \"u_probability_description\": \"Amongst non-matching record comparisons, 1.03% of records are in the exact match comparison level\", \"has_tf_adjustments\": false, \"tf_adjustment_column\": null, \"tf_adjustment_weight\": 1.0, \"is_null_level\": false, \"bayes_factor\": 75.60159251405506, \"log2_bayes_factor\": 6.240344719385715, \"comparison_vector_value\": 2, \"max_comparison_vector_value\": 2, \"bayes_factor_description\": \"If comparison level is `exact match` then comparison is 75.60 times more likely to be a match\", \"probability_two_random_records_match\": 0.023927451232987815, \"comparison_sort_order\": 3, \"iteration\": 8}, {\"comparison_name\": \"age\", \"sql_condition\": \"abs(round(age_r) - (round(age_l)+10)) = 1\", \"label_for_charts\": \"Age within 1 year\", \"m_probability\": 0.05626865730664383, \"u_probability\": 0.02064582970392069, \"m_probability_description\": \"Amongst matching record comparisons, 5.63% of records are in the age within 1 year comparison level\", \"u_probability_description\": \"Amongst non-matching record comparisons, 2.06% of records are in the age within 1 year comparison level\", \"has_tf_adjustments\": false, \"tf_adjustment_column\": null, \"tf_adjustment_weight\": 1.0, \"is_null_level\": false, \"bayes_factor\": 2.7254248491625543, \"log2_bayes_factor\": 1.446481139983051, \"comparison_vector_value\": 1, \"max_comparison_vector_value\": 2, \"bayes_factor_description\": \"If comparison level is `age within 1 year` then comparison is 2.73 times more likely to be a match\", \"probability_two_random_records_match\": 0.023927451232987815, \"comparison_sort_order\": 3, \"iteration\": 8}, {\"comparison_name\": \"age\", \"sql_condition\": \"ELSE\", \"label_for_charts\": \"Age difference >= 2 years\", \"m_probability\": 0.16439282940874617, \"u_probability\": 0.9690456769513165, \"m_probability_description\": \"Amongst matching record comparisons, 16.44% of records are in the age difference >= 2 years comparison level\", \"u_probability_description\": \"Amongst non-matching record comparisons, 96.90% of records are in the age difference >= 2 years comparison level\", \"has_tf_adjustments\": false, \"tf_adjustment_column\": null, \"tf_adjustment_weight\": 1.0, \"is_null_level\": false, \"bayes_factor\": 0.16964404601229652, \"log2_bayes_factor\": -2.559417298138026, \"comparison_vector_value\": 0, \"max_comparison_vector_value\": 2, \"bayes_factor_description\": \"If comparison level is `age difference >= 2 years` then comparison is  5.89 times less likely to be a match\", \"probability_two_random_records_match\": 0.023927451232987815, \"comparison_sort_order\": 3, \"iteration\": 8}, {\"comparison_name\": \"first_name\", \"sql_condition\": \"\\\"first_name_l\\\" = \\\"first_name_r\\\"\", \"label_for_charts\": \"Exact match\", \"m_probability\": 0.9999999999999986, \"u_probability\": 0.004286071939092783, \"m_probability_description\": \"Amongst matching record comparisons, 100.00% of records are in the exact match comparison level\", \"u_probability_description\": \"Amongst non-matching record comparisons, 0.43% of records are in the exact match comparison level\", \"has_tf_adjustments\": false, \"tf_adjustment_column\": null, \"tf_adjustment_weight\": 1.0, \"is_null_level\": false, \"bayes_factor\": 233.3138627187076, \"log2_bayes_factor\": 7.8661282196916265, \"comparison_vector_value\": 3, \"max_comparison_vector_value\": 3, \"bayes_factor_description\": \"If comparison level is `exact match` then comparison is 233.31 times more likely to be a match\", \"probability_two_random_records_match\": 0.023927451232987815, \"comparison_sort_order\": 0, \"iteration\": 9}, {\"comparison_name\": \"first_name\", \"sql_condition\": \"levenshtein(\\\"first_name_l\\\", \\\"first_name_r\\\") <= 1\", \"label_for_charts\": \"levenshtein <= 1\", \"m_probability\": 1.9802769193204965e-27, \"u_probability\": 0.0008722127553039419, \"m_probability_description\": \"Amongst matching record comparisons, 0.00% of records are in the levenshtein <= 1 comparison level\", \"u_probability_description\": \"Amongst non-matching record comparisons, 0.09% of records are in the levenshtein <= 1 comparison level\", \"has_tf_adjustments\": false, \"tf_adjustment_column\": null, \"tf_adjustment_weight\": 1.0, \"is_null_level\": false, \"bayes_factor\": 2.2704058238983502e-24, \"log2_bayes_factor\": -78.54332408207273, \"comparison_vector_value\": 2, \"max_comparison_vector_value\": 3, \"bayes_factor_description\": \"If comparison level is `levenshtein <= 1` then comparison is  440,449,892,029,862,755,958,784.00 times less likely to be a match\", \"probability_two_random_records_match\": 0.023927451232987815, \"comparison_sort_order\": 0, \"iteration\": 9}, {\"comparison_name\": \"first_name\", \"sql_condition\": \"levenshtein(\\\"first_name_l\\\", \\\"first_name_r\\\") <= 2\", \"label_for_charts\": \"levenshtein <= 2\", \"m_probability\": 3.911786765770523e-30, \"u_probability\": 0.004905619888296774, \"m_probability_description\": \"Amongst matching record comparisons, 0.00% of records are in the levenshtein <= 2 comparison level\", \"u_probability_description\": \"Amongst non-matching record comparisons, 0.49% of records are in the levenshtein <= 2 comparison level\", \"has_tf_adjustments\": false, \"tf_adjustment_column\": null, \"tf_adjustment_weight\": 1.0, \"is_null_level\": false, \"bayes_factor\": 7.974092683175033e-28, \"log2_bayes_factor\": -90.01866628291548, \"comparison_vector_value\": 1, \"max_comparison_vector_value\": 3, \"bayes_factor_description\": \"If comparison level is `levenshtein <= 2` then comparison is  1,254,061,170,006,154,834,792,677,376.00 times less likely to be a match\", \"probability_two_random_records_match\": 0.023927451232987815, \"comparison_sort_order\": 0, \"iteration\": 9}, {\"comparison_name\": \"first_name\", \"sql_condition\": \"ELSE\", \"label_for_charts\": \"All other comparisons\", \"m_probability\": 1.5389487221206413e-15, \"u_probability\": 0.9899360954173065, \"m_probability_description\": \"Amongst matching record comparisons, 0.00% of records are in the all other comparisons comparison level\", \"u_probability_description\": \"Amongst non-matching record comparisons, 98.99% of records are in the all other comparisons comparison level\", \"has_tf_adjustments\": false, \"tf_adjustment_column\": null, \"tf_adjustment_weight\": 1.0, \"is_null_level\": false, \"bayes_factor\": 1.5545940078807804e-15, \"log2_bayes_factor\": -49.19238356275713, \"comparison_vector_value\": 0, \"max_comparison_vector_value\": 3, \"bayes_factor_description\": \"If comparison level is `all other comparisons` then comparison is  643,254,762,935,306.88 times less likely to be a match\", \"probability_two_random_records_match\": 0.023927451232987815, \"comparison_sort_order\": 0, \"iteration\": 9}, {\"comparison_name\": \"last_name\", \"sql_condition\": \"\\\"last_name_l\\\" = \\\"last_name_r\\\"\", \"label_for_charts\": \"Exact match\", \"m_probability\": 0.9973051035718902, \"u_probability\": 0.0019071001117955237, \"m_probability_description\": \"Amongst matching record comparisons, 99.73% of records are in the exact match comparison level\", \"u_probability_description\": \"Amongst non-matching record comparisons, 0.19% of records are in the exact match comparison level\", \"has_tf_adjustments\": false, \"tf_adjustment_column\": null, \"tf_adjustment_weight\": 1.0, \"is_null_level\": false, \"bayes_factor\": 522.9432358602995, \"log2_bayes_factor\": 9.030510543919329, \"comparison_vector_value\": 3, \"max_comparison_vector_value\": 3, \"bayes_factor_description\": \"If comparison level is `exact match` then comparison is 522.94 times more likely to be a match\", \"probability_two_random_records_match\": 0.023927451232987815, \"comparison_sort_order\": 1, \"iteration\": 9}, {\"comparison_name\": \"last_name\", \"sql_condition\": \"levenshtein(\\\"last_name_l\\\", \\\"last_name_r\\\") <= 1\", \"label_for_charts\": \"levenshtein <= 1\", \"m_probability\": 2.438875428272633e-93, \"u_probability\": 0.00025843340897894573, \"m_probability_description\": \"Amongst matching record comparisons, 0.00% of records are in the levenshtein <= 1 comparison level\", \"u_probability_description\": \"Amongst non-matching record comparisons, 0.03% of records are in the levenshtein <= 1 comparison level\", \"has_tf_adjustments\": false, \"tf_adjustment_column\": null, \"tf_adjustment_weight\": 1.0, \"is_null_level\": false, \"bayes_factor\": 9.43715225484382e-90, \"log2_bayes_factor\": -295.73517696074475, \"comparison_vector_value\": 2, \"max_comparison_vector_value\": 3, \"bayes_factor_description\": \"If comparison level is `levenshtein <= 1` then comparison is  105,964,169,380,305,237,740,500,959,363,904,465,749,010,737,705,735,443,121,521,478,581,597,040,176,015,112,107,196,416.00 times less likely to be a match\", \"probability_two_random_records_match\": 0.023927451232987815, \"comparison_sort_order\": 1, \"iteration\": 9}, {\"comparison_name\": \"last_name\", \"sql_condition\": \"levenshtein(\\\"last_name_l\\\", \\\"last_name_r\\\") <= 2\", \"label_for_charts\": \"levenshtein <= 2\", \"m_probability\": 1.475809033367689e-11, \"u_probability\": 0.0019197910381293112, \"m_probability_description\": \"Amongst matching record comparisons, 0.00% of records are in the levenshtein <= 2 comparison level\", \"u_probability_description\": \"Amongst non-matching record comparisons, 0.19% of records are in the levenshtein <= 2 comparison level\", \"has_tf_adjustments\": false, \"tf_adjustment_column\": null, \"tf_adjustment_weight\": 1.0, \"is_null_level\": false, \"bayes_factor\": 7.687342028670743e-09, \"log2_bayes_factor\": -26.954867995059374, \"comparison_vector_value\": 1, \"max_comparison_vector_value\": 3, \"bayes_factor_description\": \"If comparison level is `levenshtein <= 2` then comparison is  130,083,973.92 times less likely to be a match\", \"probability_two_random_records_match\": 0.023927451232987815, \"comparison_sort_order\": 1, \"iteration\": 9}, {\"comparison_name\": \"last_name\", \"sql_condition\": \"ELSE\", \"label_for_charts\": \"All other comparisons\", \"m_probability\": 0.0026948964133517686, \"u_probability\": 0.9959146754410962, \"m_probability_description\": \"Amongst matching record comparisons, 0.27% of records are in the all other comparisons comparison level\", \"u_probability_description\": \"Amongst non-matching record comparisons, 99.59% of records are in the all other comparisons comparison level\", \"has_tf_adjustments\": false, \"tf_adjustment_column\": null, \"tf_adjustment_weight\": 1.0, \"is_null_level\": false, \"bayes_factor\": 0.002705951101843322, \"log2_bayes_factor\": -8.529648515475332, \"comparison_vector_value\": 0, \"max_comparison_vector_value\": 3, \"bayes_factor_description\": \"If comparison level is `all other comparisons` then comparison is  369.56 times less likely to be a match\", \"probability_two_random_records_match\": 0.023927451232987815, \"comparison_sort_order\": 1, \"iteration\": 9}, {\"comparison_name\": \"sex\", \"sql_condition\": \"\\\"sex_l\\\" = \\\"sex_r\\\"\", \"label_for_charts\": \"Exact match\", \"m_probability\": 1.0, \"u_probability\": 0.5030740884742161, \"m_probability_description\": \"Amongst matching record comparisons, 100.00% of records are in the exact match comparison level\", \"u_probability_description\": \"Amongst non-matching record comparisons, 50.31% of records are in the exact match comparison level\", \"has_tf_adjustments\": false, \"tf_adjustment_column\": null, \"tf_adjustment_weight\": 1.0, \"is_null_level\": false, \"bayes_factor\": 1.9877787842997856, \"log2_bayes_factor\": 0.9911572113511078, \"comparison_vector_value\": 1, \"max_comparison_vector_value\": 1, \"bayes_factor_description\": \"If comparison level is `exact match` then comparison is 1.99 times more likely to be a match\", \"probability_two_random_records_match\": 0.023927451232987815, \"comparison_sort_order\": 2, \"iteration\": 9}, {\"comparison_name\": \"sex\", \"sql_condition\": \"ELSE\", \"label_for_charts\": \"All other comparisons\", \"m_probability\": 6.21850549793337e-57, \"u_probability\": 0.4969259115257839, \"m_probability_description\": \"Amongst matching record comparisons, 0.00% of records are in the all other comparisons comparison level\", \"u_probability_description\": \"Amongst non-matching record comparisons, 49.69% of records are in the all other comparisons comparison level\", \"has_tf_adjustments\": false, \"tf_adjustment_column\": null, \"tf_adjustment_weight\": 1.0, \"is_null_level\": false, \"bayes_factor\": 1.251394896844841e-56, \"log2_bayes_factor\": -185.7044361878025, \"comparison_vector_value\": 0, \"max_comparison_vector_value\": 1, \"bayes_factor_description\": \"If comparison level is `all other comparisons` then comparison is  79,910,826,112,629,486,595,254,891,083,041,140,145,797,865,911,340,761,088.00 times less likely to be a match\", \"probability_two_random_records_match\": 0.023927451232987815, \"comparison_sort_order\": 2, \"iteration\": 9}, {\"comparison_name\": \"age\", \"sql_condition\": \"round(age_r) - round(age_l) = 10\", \"label_for_charts\": \"Exact match\", \"m_probability\": 0.7792870990388393, \"u_probability\": 0.010308493344762859, \"m_probability_description\": \"Amongst matching record comparisons, 77.93% of records are in the exact match comparison level\", \"u_probability_description\": \"Amongst non-matching record comparisons, 1.03% of records are in the exact match comparison level\", \"has_tf_adjustments\": false, \"tf_adjustment_column\": null, \"tf_adjustment_weight\": 1.0, \"is_null_level\": false, \"bayes_factor\": 75.59660495243462, \"log2_bayes_factor\": 6.240249539277234, \"comparison_vector_value\": 2, \"max_comparison_vector_value\": 2, \"bayes_factor_description\": \"If comparison level is `exact match` then comparison is 75.60 times more likely to be a match\", \"probability_two_random_records_match\": 0.023927451232987815, \"comparison_sort_order\": 3, \"iteration\": 9}, {\"comparison_name\": \"age\", \"sql_condition\": \"abs(round(age_r) - (round(age_l)+10)) = 1\", \"label_for_charts\": \"Age within 1 year\", \"m_probability\": 0.056299090121052796, \"u_probability\": 0.02064582970392069, \"m_probability_description\": \"Amongst matching record comparisons, 5.63% of records are in the age within 1 year comparison level\", \"u_probability_description\": \"Amongst non-matching record comparisons, 2.06% of records are in the age within 1 year comparison level\", \"has_tf_adjustments\": false, \"tf_adjustment_column\": null, \"tf_adjustment_weight\": 1.0, \"is_null_level\": false, \"bayes_factor\": 2.7268988908864955, \"log2_bayes_factor\": 1.4472612083863203, \"comparison_vector_value\": 1, \"max_comparison_vector_value\": 2, \"bayes_factor_description\": \"If comparison level is `age within 1 year` then comparison is 2.73 times more likely to be a match\", \"probability_two_random_records_match\": 0.023927451232987815, \"comparison_sort_order\": 3, \"iteration\": 9}, {\"comparison_name\": \"age\", \"sql_condition\": \"ELSE\", \"label_for_charts\": \"Age difference >= 2 years\", \"m_probability\": 0.16441381084010798, \"u_probability\": 0.9690456769513165, \"m_probability_description\": \"Amongst matching record comparisons, 16.44% of records are in the age difference >= 2 years comparison level\", \"u_probability_description\": \"Amongst non-matching record comparisons, 96.90% of records are in the age difference >= 2 years comparison level\", \"has_tf_adjustments\": false, \"tf_adjustment_column\": null, \"tf_adjustment_weight\": 1.0, \"is_null_level\": false, \"bayes_factor\": 0.1696656976556203, \"log2_bayes_factor\": -2.5592331789426557, \"comparison_vector_value\": 0, \"max_comparison_vector_value\": 2, \"bayes_factor_description\": \"If comparison level is `age difference >= 2 years` then comparison is  5.89 times less likely to be a match\", \"probability_two_random_records_match\": 0.023927451232987815, \"comparison_sort_order\": 3, \"iteration\": 9}, {\"comparison_name\": \"first_name\", \"sql_condition\": \"\\\"first_name_l\\\" = \\\"first_name_r\\\"\", \"label_for_charts\": \"Exact match\", \"m_probability\": 0.9999999999999998, \"u_probability\": 0.004286071939092783, \"m_probability_description\": \"Amongst matching record comparisons, 100.00% of records are in the exact match comparison level\", \"u_probability_description\": \"Amongst non-matching record comparisons, 0.43% of records are in the exact match comparison level\", \"has_tf_adjustments\": false, \"tf_adjustment_column\": null, \"tf_adjustment_weight\": 1.0, \"is_null_level\": false, \"bayes_factor\": 233.3138627187079, \"log2_bayes_factor\": 7.866128219691628, \"comparison_vector_value\": 3, \"max_comparison_vector_value\": 3, \"bayes_factor_description\": \"If comparison level is `exact match` then comparison is 233.31 times more likely to be a match\", \"probability_two_random_records_match\": 0.023927451232987815, \"comparison_sort_order\": 0, \"iteration\": 10}, {\"comparison_name\": \"first_name\", \"sql_condition\": \"levenshtein(\\\"first_name_l\\\", \\\"first_name_r\\\") <= 1\", \"label_for_charts\": \"levenshtein <= 1\", \"m_probability\": 1.1924763068134367e-29, \"u_probability\": 0.0008722127553039419, \"m_probability_description\": \"Amongst matching record comparisons, 0.00% of records are in the levenshtein <= 1 comparison level\", \"u_probability_description\": \"Amongst non-matching record comparisons, 0.09% of records are in the levenshtein <= 1 comparison level\", \"has_tf_adjustments\": false, \"tf_adjustment_column\": null, \"tf_adjustment_weight\": 1.0, \"is_null_level\": false, \"bayes_factor\": 1.3671851272088905e-26, \"log2_bayes_factor\": -85.91892185907777, \"comparison_vector_value\": 2, \"max_comparison_vector_value\": 3, \"bayes_factor_description\": \"If comparison level is `levenshtein <= 1` then comparison is  73,142,984,084,496,352,739,852,288.00 times less likely to be a match\", \"probability_two_random_records_match\": 0.023927451232987815, \"comparison_sort_order\": 0, \"iteration\": 10}, {\"comparison_name\": \"first_name\", \"sql_condition\": \"levenshtein(\\\"first_name_l\\\", \\\"first_name_r\\\") <= 2\", \"label_for_charts\": \"levenshtein <= 2\", \"m_probability\": 1.1938593537537751e-32, \"u_probability\": 0.004905619888296774, \"m_probability_description\": \"Amongst matching record comparisons, 0.00% of records are in the levenshtein <= 2 comparison level\", \"u_probability_description\": \"Amongst non-matching record comparisons, 0.49% of records are in the levenshtein <= 2 comparison level\", \"has_tf_adjustments\": false, \"tf_adjustment_column\": null, \"tf_adjustment_weight\": 1.0, \"is_null_level\": false, \"bayes_factor\": 2.43365646123936e-30, \"log2_bayes_factor\": -98.37471731728988, \"comparison_vector_value\": 1, \"max_comparison_vector_value\": 3, \"bayes_factor_description\": \"If comparison level is `levenshtein <= 2` then comparison is  410,904,339,181,357,382,273,423,376,384.00 times less likely to be a match\", \"probability_two_random_records_match\": 0.023927451232987815, \"comparison_sort_order\": 0, \"iteration\": 10}, {\"comparison_name\": \"first_name\", \"sql_condition\": \"ELSE\", \"label_for_charts\": \"All other comparisons\", \"m_probability\": 1.1135183472116697e-16, \"u_probability\": 0.9899360954173065, \"m_probability_description\": \"Amongst matching record comparisons, 0.00% of records are in the all other comparisons comparison level\", \"u_probability_description\": \"Amongst non-matching record comparisons, 98.99% of records are in the all other comparisons comparison level\", \"has_tf_adjustments\": false, \"tf_adjustment_column\": null, \"tf_adjustment_weight\": 1.0, \"is_null_level\": false, \"bayes_factor\": 1.1248386157111153e-16, \"log2_bayes_factor\": -52.98113149010195, \"comparison_vector_value\": 0, \"max_comparison_vector_value\": 3, \"bayes_factor_description\": \"If comparison level is `all other comparisons` then comparison is  8,890,164,206,958,763.00 times less likely to be a match\", \"probability_two_random_records_match\": 0.023927451232987815, \"comparison_sort_order\": 0, \"iteration\": 10}, {\"comparison_name\": \"last_name\", \"sql_condition\": \"\\\"last_name_l\\\" = \\\"last_name_r\\\"\", \"label_for_charts\": \"Exact match\", \"m_probability\": 0.997236949623281, \"u_probability\": 0.0019071001117955237, \"m_probability_description\": \"Amongst matching record comparisons, 99.72% of records are in the exact match comparison level\", \"u_probability_description\": \"Amongst non-matching record comparisons, 0.19% of records are in the exact match comparison level\", \"has_tf_adjustments\": false, \"tf_adjustment_column\": null, \"tf_adjustment_weight\": 1.0, \"is_null_level\": false, \"bayes_factor\": 522.9074989064881, \"log2_bayes_factor\": 9.030411949494052, \"comparison_vector_value\": 3, \"max_comparison_vector_value\": 3, \"bayes_factor_description\": \"If comparison level is `exact match` then comparison is 522.91 times more likely to be a match\", \"probability_two_random_records_match\": 0.023927451232987815, \"comparison_sort_order\": 1, \"iteration\": 10}, {\"comparison_name\": \"last_name\", \"sql_condition\": \"levenshtein(\\\"last_name_l\\\", \\\"last_name_r\\\") <= 1\", \"label_for_charts\": \"levenshtein <= 1\", \"m_probability\": 4.2445383927342685e-109, \"u_probability\": 0.00025843340897894573, \"m_probability_description\": \"Amongst matching record comparisons, 0.00% of records are in the levenshtein <= 1 comparison level\", \"u_probability_description\": \"Amongst non-matching record comparisons, 0.03% of records are in the levenshtein <= 1 comparison level\", \"has_tf_adjustments\": false, \"tf_adjustment_column\": null, \"tf_adjustment_weight\": 1.0, \"is_null_level\": false, \"bayes_factor\": 1.642410866886048e-105, \"log2_bayes_factor\": -348.08663488510075, \"comparison_vector_value\": 2, \"max_comparison_vector_value\": 3, \"bayes_factor_description\": \"If comparison level is `levenshtein <= 1` then comparison is  608,861,046,990,004,375,311,966,719,521,040,223,431,858,615,095,008,269,591,150,657,611,687,498,828,113,839,796,509,999,061,705,309,552,640.00 times less likely to be a match\", \"probability_two_random_records_match\": 0.023927451232987815, \"comparison_sort_order\": 1, \"iteration\": 10}, {\"comparison_name\": \"last_name\", \"sql_condition\": \"levenshtein(\\\"last_name_l\\\", \\\"last_name_r\\\") <= 2\", \"label_for_charts\": \"levenshtein <= 2\", \"m_probability\": 3.459377828818351e-12, \"u_probability\": 0.0019197910381293112, \"m_probability_description\": \"Amongst matching record comparisons, 0.00% of records are in the levenshtein <= 2 comparison level\", \"u_probability_description\": \"Amongst non-matching record comparisons, 0.19% of records are in the levenshtein <= 2 comparison level\", \"has_tf_adjustments\": false, \"tf_adjustment_column\": null, \"tf_adjustment_weight\": 1.0, \"is_null_level\": false, \"bayes_factor\": 1.8019554004113119e-09, \"log2_bayes_factor\": -29.047789550049956, \"comparison_vector_value\": 1, \"max_comparison_vector_value\": 3, \"bayes_factor_description\": \"If comparison level is `levenshtein <= 2` then comparison is  554,952,691.82 times less likely to be a match\", \"probability_two_random_records_match\": 0.023927451232987815, \"comparison_sort_order\": 1, \"iteration\": 10}, {\"comparison_name\": \"last_name\", \"sql_condition\": \"ELSE\", \"label_for_charts\": \"All other comparisons\", \"m_probability\": 0.0027630503732595044, \"u_probability\": 0.9959146754410962, \"m_probability_description\": \"Amongst matching record comparisons, 0.28% of records are in the all other comparisons comparison level\", \"u_probability_description\": \"Amongst non-matching record comparisons, 99.59% of records are in the all other comparisons comparison level\", \"has_tf_adjustments\": false, \"tf_adjustment_column\": null, \"tf_adjustment_weight\": 1.0, \"is_null_level\": false, \"bayes_factor\": 0.0027743846349444884, \"log2_bayes_factor\": -8.493616470879685, \"comparison_vector_value\": 0, \"max_comparison_vector_value\": 3, \"bayes_factor_description\": \"If comparison level is `all other comparisons` then comparison is  360.44 times less likely to be a match\", \"probability_two_random_records_match\": 0.023927451232987815, \"comparison_sort_order\": 1, \"iteration\": 10}, {\"comparison_name\": \"sex\", \"sql_condition\": \"\\\"sex_l\\\" = \\\"sex_r\\\"\", \"label_for_charts\": \"Exact match\", \"m_probability\": 1.0, \"u_probability\": 0.5030740884742161, \"m_probability_description\": \"Amongst matching record comparisons, 100.00% of records are in the exact match comparison level\", \"u_probability_description\": \"Amongst non-matching record comparisons, 50.31% of records are in the exact match comparison level\", \"has_tf_adjustments\": false, \"tf_adjustment_column\": null, \"tf_adjustment_weight\": 1.0, \"is_null_level\": false, \"bayes_factor\": 1.9877787842997856, \"log2_bayes_factor\": 0.9911572113511078, \"comparison_vector_value\": 1, \"max_comparison_vector_value\": 1, \"bayes_factor_description\": \"If comparison level is `exact match` then comparison is 1.99 times more likely to be a match\", \"probability_two_random_records_match\": 0.023927451232987815, \"comparison_sort_order\": 2, \"iteration\": 10}, {\"comparison_name\": \"sex\", \"sql_condition\": \"ELSE\", \"label_for_charts\": \"All other comparisons\", \"m_probability\": 7.665986900876502e-63, \"u_probability\": 0.4969259115257839, \"m_probability_description\": \"Amongst matching record comparisons, 0.00% of records are in the all other comparisons comparison level\", \"u_probability_description\": \"Amongst non-matching record comparisons, 49.69% of records are in the all other comparisons comparison level\", \"has_tf_adjustments\": false, \"tf_adjustment_column\": null, \"tf_adjustment_weight\": 1.0, \"is_null_level\": false, \"bayes_factor\": 1.5426820624705416e-62, \"log2_bayes_factor\": -205.3341011212764, \"comparison_vector_value\": 0, \"max_comparison_vector_value\": 1, \"bayes_factor_description\": \"If comparison level is `all other comparisons` then comparison is  64,822,170,706,940,180,004,403,191,389,373,782,714,927,218,633,879,179,380,129,792.00 times less likely to be a match\", \"probability_two_random_records_match\": 0.023927451232987815, \"comparison_sort_order\": 2, \"iteration\": 10}, {\"comparison_name\": \"age\", \"sql_condition\": \"round(age_r) - round(age_l) = 10\", \"label_for_charts\": \"Exact match\", \"m_probability\": 0.7792553936807797, \"u_probability\": 0.010308493344762859, \"m_probability_description\": \"Amongst matching record comparisons, 77.93% of records are in the exact match comparison level\", \"u_probability_description\": \"Amongst non-matching record comparisons, 1.03% of records are in the exact match comparison level\", \"has_tf_adjustments\": false, \"tf_adjustment_column\": null, \"tf_adjustment_weight\": 1.0, \"is_null_level\": false, \"bayes_factor\": 75.59352929850546, \"log2_bayes_factor\": 6.240190841919847, \"comparison_vector_value\": 2, \"max_comparison_vector_value\": 2, \"bayes_factor_description\": \"If comparison level is `exact match` then comparison is 75.59 times more likely to be a match\", \"probability_two_random_records_match\": 0.023927451232987815, \"comparison_sort_order\": 3, \"iteration\": 10}, {\"comparison_name\": \"age\", \"sql_condition\": \"abs(round(age_r) - (round(age_l)+10)) = 1\", \"label_for_charts\": \"Age within 1 year\", \"m_probability\": 0.05631764372906794, \"u_probability\": 0.02064582970392069, \"m_probability_description\": \"Amongst matching record comparisons, 5.63% of records are in the age within 1 year comparison level\", \"u_probability_description\": \"Amongst non-matching record comparisons, 2.06% of records are in the age within 1 year comparison level\", \"has_tf_adjustments\": false, \"tf_adjustment_column\": null, \"tf_adjustment_weight\": 1.0, \"is_null_level\": false, \"bayes_factor\": 2.727797552179416, \"log2_bayes_factor\": 1.4477365764351193, \"comparison_vector_value\": 1, \"max_comparison_vector_value\": 2, \"bayes_factor_description\": \"If comparison level is `age within 1 year` then comparison is 2.73 times more likely to be a match\", \"probability_two_random_records_match\": 0.023927451232987815, \"comparison_sort_order\": 3, \"iteration\": 10}, {\"comparison_name\": \"age\", \"sql_condition\": \"ELSE\", \"label_for_charts\": \"Age difference >= 2 years\", \"m_probability\": 0.16442696259015233, \"u_probability\": 0.9690456769513165, \"m_probability_description\": \"Amongst matching record comparisons, 16.44% of records are in the age difference >= 2 years comparison level\", \"u_probability_description\": \"Amongst non-matching record comparisons, 96.90% of records are in the age difference >= 2 years comparison level\", \"has_tf_adjustments\": false, \"tf_adjustment_column\": null, \"tf_adjustment_weight\": 1.0, \"is_null_level\": false, \"bayes_factor\": 0.16967926951333265, \"log2_bayes_factor\": -2.5591177798430844, \"comparison_vector_value\": 0, \"max_comparison_vector_value\": 2, \"bayes_factor_description\": \"If comparison level is `age difference >= 2 years` then comparison is  5.89 times less likely to be a match\", \"probability_two_random_records_match\": 0.023927451232987815, \"comparison_sort_order\": 3, \"iteration\": 10}]}, \"transform\": [{\"filter\": \"(datum.iteration == iteration_number)\"}], \"title\": {\"text\": \"Proportion of record comparisons in each comparison level by match status\", \"subtitle\": \"(m and u probabilities)\"}, \"$schema\": \"https://vega.github.io/schema/vega-lite/v4.json\"}, {\"mode\": \"vega-lite\"});\n",
       "</script>"
      ],
      "text/plain": [
       "<splink.charts.VegaliteNoValidate at 0x7f3f62e17310>"
      ]
     },
     "execution_count": 33,
     "metadata": {},
     "output_type": "execute_result"
    }
   ],
   "source": [
    "rule, session = next(rule_session)\n",
    "print(rule)\n",
    "session.m_u_values_interactive_history_chart()"
   ]
  },
  {
   "cell_type": "code",
   "execution_count": 34,
   "id": "b7ba2b14",
   "metadata": {},
   "outputs": [
    {
     "name": "stdout",
     "output_type": "stream",
     "text": [
      "l.zipcode = r.zipcode\n"
     ]
    },
    {
     "data": {
      "text/html": [
       "\n",
       "<div id=\"altair-viz-9f97cca15b3943bcbee09ff7efbf9c56\"></div>\n",
       "<script type=\"text/javascript\">\n",
       "  var VEGA_DEBUG = (typeof VEGA_DEBUG == \"undefined\") ? {} : VEGA_DEBUG;\n",
       "  (function(spec, embedOpt){\n",
       "    let outputDiv = document.currentScript.previousElementSibling;\n",
       "    if (outputDiv.id !== \"altair-viz-9f97cca15b3943bcbee09ff7efbf9c56\") {\n",
       "      outputDiv = document.getElementById(\"altair-viz-9f97cca15b3943bcbee09ff7efbf9c56\");\n",
       "    }\n",
       "    const paths = {\n",
       "      \"vega\": \"https://cdn.jsdelivr.net/npm//vega@5?noext\",\n",
       "      \"vega-lib\": \"https://cdn.jsdelivr.net/npm//vega-lib?noext\",\n",
       "      \"vega-lite\": \"https://cdn.jsdelivr.net/npm//vega-lite@4.17.0?noext\",\n",
       "      \"vega-embed\": \"https://cdn.jsdelivr.net/npm//vega-embed@6?noext\",\n",
       "    };\n",
       "\n",
       "    function maybeLoadScript(lib, version) {\n",
       "      var key = `${lib.replace(\"-\", \"\")}_version`;\n",
       "      return (VEGA_DEBUG[key] == version) ?\n",
       "        Promise.resolve(paths[lib]) :\n",
       "        new Promise(function(resolve, reject) {\n",
       "          var s = document.createElement('script');\n",
       "          document.getElementsByTagName(\"head\")[0].appendChild(s);\n",
       "          s.async = true;\n",
       "          s.onload = () => {\n",
       "            VEGA_DEBUG[key] = version;\n",
       "            return resolve(paths[lib]);\n",
       "          };\n",
       "          s.onerror = () => reject(`Error loading script: ${paths[lib]}`);\n",
       "          s.src = paths[lib];\n",
       "        });\n",
       "    }\n",
       "\n",
       "    function showError(err) {\n",
       "      outputDiv.innerHTML = `<div class=\"error\" style=\"color:red;\">${err}</div>`;\n",
       "      throw err;\n",
       "    }\n",
       "\n",
       "    function displayChart(vegaEmbed) {\n",
       "      vegaEmbed(outputDiv, spec, embedOpt)\n",
       "        .catch(err => showError(`Javascript Error: ${err.message}<br>This usually means there's a typo in your chart specification. See the javascript console for the full traceback.`));\n",
       "    }\n",
       "\n",
       "    if(typeof define === \"function\" && define.amd) {\n",
       "      requirejs.config({paths});\n",
       "      require([\"vega-embed\"], displayChart, err => showError(`Error loading script: ${err.message}`));\n",
       "    } else {\n",
       "      maybeLoadScript(\"vega\", \"5\")\n",
       "        .then(() => maybeLoadScript(\"vega-lite\", \"4.17.0\"))\n",
       "        .then(() => maybeLoadScript(\"vega-embed\", \"6\"))\n",
       "        .catch(showError)\n",
       "        .then(() => displayChart(vegaEmbed));\n",
       "    }\n",
       "  })({\"config\": {\"view\": {\"width\": 400, \"height\": 300}, \"title\": {\"anchor\": \"middle\", \"offset\": 10}, \"header\": {\"title\": null}}, \"params\": [{\"name\": \"iteration_number\", \"value\": 3, \"bind\": {\"input\": \"range\", \"min\": 0, \"max\": 3, \"step\": 1}, \"description\": \"Filter by the interation number\"}], \"hconcat\": [{\"mark\": \"bar\", \"title\": {\"text\": \"Amongst matching record comparisons:\", \"fontWeight\": \"bold\", \"fontSize\": 12}, \"encoding\": {\"row\": {\"type\": \"nominal\", \"field\": \"comparison_name\", \"sort\": {\"field\": \"comparison_sort_order\"}, \"header\": {\"labelAngle\": 0, \"labelAnchor\": \"middle\", \"labelAlign\": \"left\"}}, \"x\": {\"type\": \"quantitative\", \"field\": \"m_probability\", \"axis\": {\"title\": \"Proportion of record comparisons\"}}, \"y\": {\"type\": \"nominal\", \"axis\": {\"title\": null}, \"field\": \"label_for_charts\", \"sort\": {\"field\": \"comparison_vector_value\", \"order\": \"descending\"}}, \"tooltip\": [{\"type\": \"nominal\", \"field\": \"m_probability_description\", \"title\": \"m probability description\"}, {\"type\": \"nominal\", \"field\": \"comparison_name\", \"title\": \"Comparison column name\"}, {\"type\": \"ordinal\", \"field\": \"label_for_charts\", \"title\": \"Label\"}, {\"type\": \"nominal\", \"field\": \"sql_condition\", \"title\": \"SQL condition\"}, {\"type\": \"quantitative\", \"field\": \"m_probability\", \"format\": \".4p\", \"title\": \"m probability\"}, {\"type\": \"quantitative\", \"field\": \"u_probability\", \"format\": \".4p\", \"title\": \"u probability\"}, {\"type\": \"quantitative\", \"field\": \"bayes_factor\", \"title\": \"Bayes factor = m/u\", \"format\": \",.4f\"}, {\"type\": \"quantitative\", \"field\": \"log2_bayes_factor\", \"title\": \"Match weight = log2(m/u)\", \"format\": \",.4f\"}], \"color\": {\"value\": \"green\"}}, \"resolve\": {\"scale\": {\"y\": \"independent\"}}, \"transform\": [{\"filter\": \"(datum.bayes_factor != 'no-op filter due to vega lite issue 4680')\"}], \"width\": 150, \"height\": 50}, {\"mark\": \"bar\", \"title\": {\"text\": \"Amongst non-matching record comparisons:\", \"fontWeight\": \"bold\", \"fontSize\": 12}, \"encoding\": {\"row\": {\"type\": \"nominal\", \"field\": \"comparison_name\", \"sort\": {\"field\": \"comparison_sort_order\"}, \"header\": {\"labels\": false}}, \"x\": {\"type\": \"quantitative\", \"field\": \"u_probability\", \"axis\": {\"title\": \"Proportion of record comparisons\"}}, \"y\": {\"type\": \"nominal\", \"axis\": {\"title\": null}, \"field\": \"label_for_charts\", \"sort\": {\"field\": \"comparison_vector_value\", \"order\": \"descending\"}}, \"tooltip\": [{\"type\": \"nominal\", \"field\": \"u_probability_description\", \"title\": \"u probability description\"}, {\"type\": \"nominal\", \"field\": \"comparison_name\", \"title\": \"Comparison column name\"}, {\"type\": \"ordinal\", \"field\": \"label_for_charts\", \"title\": \"Label\"}, {\"type\": \"nominal\", \"field\": \"sql_condition\", \"title\": \"SQL condition\"}, {\"type\": \"quantitative\", \"field\": \"m_probability\", \"format\": \".4p\", \"title\": \"m probability\"}, {\"type\": \"quantitative\", \"field\": \"u_probability\", \"format\": \".4p\", \"title\": \"u probability\"}, {\"type\": \"quantitative\", \"field\": \"bayes_factor\", \"title\": \"Bayes factor = m/u\", \"format\": \",.4f\"}, {\"type\": \"quantitative\", \"field\": \"log2_bayes_factor\", \"title\": \"Match weight = log2(m/u)\", \"format\": \",.4f\"}], \"color\": {\"value\": \"red\"}}, \"resolve\": {\"scale\": {\"y\": \"independent\"}}, \"transform\": [{\"filter\": \"(datum.bayes_factor != 'no-op filter2 due to vega lite issue 4680')\"}], \"width\": 150, \"height\": 50}], \"data\": {\"values\": [{\"comparison_name\": \"first_name\", \"sql_condition\": \"\\\"first_name_l\\\" = \\\"first_name_r\\\"\", \"label_for_charts\": \"Exact match\", \"m_probability\": 0.9999999999999998, \"u_probability\": 0.004286071939092783, \"m_probability_description\": \"Amongst matching record comparisons, 100.00% of records are in the exact match comparison level\", \"u_probability_description\": \"Amongst non-matching record comparisons, 0.43% of records are in the exact match comparison level\", \"has_tf_adjustments\": false, \"tf_adjustment_column\": null, \"tf_adjustment_weight\": 1.0, \"is_null_level\": false, \"bayes_factor\": 233.3138627187079, \"log2_bayes_factor\": 7.866128219691628, \"comparison_vector_value\": 3, \"max_comparison_vector_value\": 3, \"bayes_factor_description\": \"If comparison level is `exact match` then comparison is 233.31 times more likely to be a match\", \"probability_two_random_records_match\": 0.023865075030702492, \"comparison_sort_order\": 0, \"iteration\": 0}, {\"comparison_name\": \"first_name\", \"sql_condition\": \"levenshtein(\\\"first_name_l\\\", \\\"first_name_r\\\") <= 1\", \"label_for_charts\": \"levenshtein <= 1\", \"m_probability\": 1.1924763068134367e-29, \"u_probability\": 0.0008722127553039419, \"m_probability_description\": \"Amongst matching record comparisons, 0.00% of records are in the levenshtein <= 1 comparison level\", \"u_probability_description\": \"Amongst non-matching record comparisons, 0.09% of records are in the levenshtein <= 1 comparison level\", \"has_tf_adjustments\": false, \"tf_adjustment_column\": null, \"tf_adjustment_weight\": 1.0, \"is_null_level\": false, \"bayes_factor\": 1.3671851272088905e-26, \"log2_bayes_factor\": -85.91892185907777, \"comparison_vector_value\": 2, \"max_comparison_vector_value\": 3, \"bayes_factor_description\": \"If comparison level is `levenshtein <= 1` then comparison is  73,142,984,084,496,352,739,852,288.00 times less likely to be a match\", \"probability_two_random_records_match\": 0.023865075030702492, \"comparison_sort_order\": 0, \"iteration\": 0}, {\"comparison_name\": \"first_name\", \"sql_condition\": \"levenshtein(\\\"first_name_l\\\", \\\"first_name_r\\\") <= 2\", \"label_for_charts\": \"levenshtein <= 2\", \"m_probability\": 1.1938593537537751e-32, \"u_probability\": 0.004905619888296774, \"m_probability_description\": \"Amongst matching record comparisons, 0.00% of records are in the levenshtein <= 2 comparison level\", \"u_probability_description\": \"Amongst non-matching record comparisons, 0.49% of records are in the levenshtein <= 2 comparison level\", \"has_tf_adjustments\": false, \"tf_adjustment_column\": null, \"tf_adjustment_weight\": 1.0, \"is_null_level\": false, \"bayes_factor\": 2.43365646123936e-30, \"log2_bayes_factor\": -98.37471731728988, \"comparison_vector_value\": 1, \"max_comparison_vector_value\": 3, \"bayes_factor_description\": \"If comparison level is `levenshtein <= 2` then comparison is  410,904,339,181,357,382,273,423,376,384.00 times less likely to be a match\", \"probability_two_random_records_match\": 0.023865075030702492, \"comparison_sort_order\": 0, \"iteration\": 0}, {\"comparison_name\": \"first_name\", \"sql_condition\": \"ELSE\", \"label_for_charts\": \"All other comparisons\", \"m_probability\": 1.1135183472116697e-16, \"u_probability\": 0.9899360954173065, \"m_probability_description\": \"Amongst matching record comparisons, 0.00% of records are in the all other comparisons comparison level\", \"u_probability_description\": \"Amongst non-matching record comparisons, 98.99% of records are in the all other comparisons comparison level\", \"has_tf_adjustments\": false, \"tf_adjustment_column\": null, \"tf_adjustment_weight\": 1.0, \"is_null_level\": false, \"bayes_factor\": 1.1248386157111153e-16, \"log2_bayes_factor\": -52.98113149010195, \"comparison_vector_value\": 0, \"max_comparison_vector_value\": 3, \"bayes_factor_description\": \"If comparison level is `all other comparisons` then comparison is  8,890,164,206,958,763.00 times less likely to be a match\", \"probability_two_random_records_match\": 0.023865075030702492, \"comparison_sort_order\": 0, \"iteration\": 0}, {\"comparison_name\": \"last_name\", \"sql_condition\": \"\\\"last_name_l\\\" = \\\"last_name_r\\\"\", \"label_for_charts\": \"Exact match\", \"m_probability\": 0.997236949623281, \"u_probability\": 0.0019071001117955237, \"m_probability_description\": \"Amongst matching record comparisons, 99.72% of records are in the exact match comparison level\", \"u_probability_description\": \"Amongst non-matching record comparisons, 0.19% of records are in the exact match comparison level\", \"has_tf_adjustments\": false, \"tf_adjustment_column\": null, \"tf_adjustment_weight\": 1.0, \"is_null_level\": false, \"bayes_factor\": 522.9074989064881, \"log2_bayes_factor\": 9.030411949494052, \"comparison_vector_value\": 3, \"max_comparison_vector_value\": 3, \"bayes_factor_description\": \"If comparison level is `exact match` then comparison is 522.91 times more likely to be a match\", \"probability_two_random_records_match\": 0.023865075030702492, \"comparison_sort_order\": 1, \"iteration\": 0}, {\"comparison_name\": \"last_name\", \"sql_condition\": \"levenshtein(\\\"last_name_l\\\", \\\"last_name_r\\\") <= 1\", \"label_for_charts\": \"levenshtein <= 1\", \"m_probability\": 4.2445383927342685e-109, \"u_probability\": 0.00025843340897894573, \"m_probability_description\": \"Amongst matching record comparisons, 0.00% of records are in the levenshtein <= 1 comparison level\", \"u_probability_description\": \"Amongst non-matching record comparisons, 0.03% of records are in the levenshtein <= 1 comparison level\", \"has_tf_adjustments\": false, \"tf_adjustment_column\": null, \"tf_adjustment_weight\": 1.0, \"is_null_level\": false, \"bayes_factor\": 1.642410866886048e-105, \"log2_bayes_factor\": -348.08663488510075, \"comparison_vector_value\": 2, \"max_comparison_vector_value\": 3, \"bayes_factor_description\": \"If comparison level is `levenshtein <= 1` then comparison is  608,861,046,990,004,375,311,966,719,521,040,223,431,858,615,095,008,269,591,150,657,611,687,498,828,113,839,796,509,999,061,705,309,552,640.00 times less likely to be a match\", \"probability_two_random_records_match\": 0.023865075030702492, \"comparison_sort_order\": 1, \"iteration\": 0}, {\"comparison_name\": \"last_name\", \"sql_condition\": \"levenshtein(\\\"last_name_l\\\", \\\"last_name_r\\\") <= 2\", \"label_for_charts\": \"levenshtein <= 2\", \"m_probability\": 3.459377828818351e-12, \"u_probability\": 0.0019197910381293112, \"m_probability_description\": \"Amongst matching record comparisons, 0.00% of records are in the levenshtein <= 2 comparison level\", \"u_probability_description\": \"Amongst non-matching record comparisons, 0.19% of records are in the levenshtein <= 2 comparison level\", \"has_tf_adjustments\": false, \"tf_adjustment_column\": null, \"tf_adjustment_weight\": 1.0, \"is_null_level\": false, \"bayes_factor\": 1.8019554004113119e-09, \"log2_bayes_factor\": -29.047789550049956, \"comparison_vector_value\": 1, \"max_comparison_vector_value\": 3, \"bayes_factor_description\": \"If comparison level is `levenshtein <= 2` then comparison is  554,952,691.82 times less likely to be a match\", \"probability_two_random_records_match\": 0.023865075030702492, \"comparison_sort_order\": 1, \"iteration\": 0}, {\"comparison_name\": \"last_name\", \"sql_condition\": \"ELSE\", \"label_for_charts\": \"All other comparisons\", \"m_probability\": 0.0027630503732595044, \"u_probability\": 0.9959146754410962, \"m_probability_description\": \"Amongst matching record comparisons, 0.28% of records are in the all other comparisons comparison level\", \"u_probability_description\": \"Amongst non-matching record comparisons, 99.59% of records are in the all other comparisons comparison level\", \"has_tf_adjustments\": false, \"tf_adjustment_column\": null, \"tf_adjustment_weight\": 1.0, \"is_null_level\": false, \"bayes_factor\": 0.0027743846349444884, \"log2_bayes_factor\": -8.493616470879685, \"comparison_vector_value\": 0, \"max_comparison_vector_value\": 3, \"bayes_factor_description\": \"If comparison level is `all other comparisons` then comparison is  360.44 times less likely to be a match\", \"probability_two_random_records_match\": 0.023865075030702492, \"comparison_sort_order\": 1, \"iteration\": 0}, {\"comparison_name\": \"sex\", \"sql_condition\": \"\\\"sex_l\\\" = \\\"sex_r\\\"\", \"label_for_charts\": \"Exact match\", \"m_probability\": 1.0, \"u_probability\": 0.5030740884742161, \"m_probability_description\": \"Amongst matching record comparisons, 100.00% of records are in the exact match comparison level\", \"u_probability_description\": \"Amongst non-matching record comparisons, 50.31% of records are in the exact match comparison level\", \"has_tf_adjustments\": false, \"tf_adjustment_column\": null, \"tf_adjustment_weight\": 1.0, \"is_null_level\": false, \"bayes_factor\": 1.9877787842997856, \"log2_bayes_factor\": 0.9911572113511078, \"comparison_vector_value\": 1, \"max_comparison_vector_value\": 1, \"bayes_factor_description\": \"If comparison level is `exact match` then comparison is 1.99 times more likely to be a match\", \"probability_two_random_records_match\": 0.023865075030702492, \"comparison_sort_order\": 2, \"iteration\": 0}, {\"comparison_name\": \"sex\", \"sql_condition\": \"ELSE\", \"label_for_charts\": \"All other comparisons\", \"m_probability\": 7.665986900876502e-63, \"u_probability\": 0.4969259115257839, \"m_probability_description\": \"Amongst matching record comparisons, 0.00% of records are in the all other comparisons comparison level\", \"u_probability_description\": \"Amongst non-matching record comparisons, 49.69% of records are in the all other comparisons comparison level\", \"has_tf_adjustments\": false, \"tf_adjustment_column\": null, \"tf_adjustment_weight\": 1.0, \"is_null_level\": false, \"bayes_factor\": 1.5426820624705416e-62, \"log2_bayes_factor\": -205.3341011212764, \"comparison_vector_value\": 0, \"max_comparison_vector_value\": 1, \"bayes_factor_description\": \"If comparison level is `all other comparisons` then comparison is  64,822,170,706,940,180,004,403,191,389,373,782,714,927,218,633,879,179,380,129,792.00 times less likely to be a match\", \"probability_two_random_records_match\": 0.023865075030702492, \"comparison_sort_order\": 2, \"iteration\": 0}, {\"comparison_name\": \"age\", \"sql_condition\": \"round(age_r) - round(age_l) = 10\", \"label_for_charts\": \"Exact match\", \"m_probability\": 0.7792553936807797, \"u_probability\": 0.010308493344762859, \"m_probability_description\": \"Amongst matching record comparisons, 77.93% of records are in the exact match comparison level\", \"u_probability_description\": \"Amongst non-matching record comparisons, 1.03% of records are in the exact match comparison level\", \"has_tf_adjustments\": false, \"tf_adjustment_column\": null, \"tf_adjustment_weight\": 1.0, \"is_null_level\": false, \"bayes_factor\": 75.59352929850546, \"log2_bayes_factor\": 6.240190841919847, \"comparison_vector_value\": 2, \"max_comparison_vector_value\": 2, \"bayes_factor_description\": \"If comparison level is `exact match` then comparison is 75.59 times more likely to be a match\", \"probability_two_random_records_match\": 0.023865075030702492, \"comparison_sort_order\": 3, \"iteration\": 0}, {\"comparison_name\": \"age\", \"sql_condition\": \"abs(round(age_r) - (round(age_l)+10)) = 1\", \"label_for_charts\": \"Age within 1 year\", \"m_probability\": 0.05631764372906794, \"u_probability\": 0.02064582970392069, \"m_probability_description\": \"Amongst matching record comparisons, 5.63% of records are in the age within 1 year comparison level\", \"u_probability_description\": \"Amongst non-matching record comparisons, 2.06% of records are in the age within 1 year comparison level\", \"has_tf_adjustments\": false, \"tf_adjustment_column\": null, \"tf_adjustment_weight\": 1.0, \"is_null_level\": false, \"bayes_factor\": 2.727797552179416, \"log2_bayes_factor\": 1.4477365764351193, \"comparison_vector_value\": 1, \"max_comparison_vector_value\": 2, \"bayes_factor_description\": \"If comparison level is `age within 1 year` then comparison is 2.73 times more likely to be a match\", \"probability_two_random_records_match\": 0.023865075030702492, \"comparison_sort_order\": 3, \"iteration\": 0}, {\"comparison_name\": \"age\", \"sql_condition\": \"ELSE\", \"label_for_charts\": \"Age difference >= 2 years\", \"m_probability\": 0.16442696259015233, \"u_probability\": 0.9690456769513165, \"m_probability_description\": \"Amongst matching record comparisons, 16.44% of records are in the age difference >= 2 years comparison level\", \"u_probability_description\": \"Amongst non-matching record comparisons, 96.90% of records are in the age difference >= 2 years comparison level\", \"has_tf_adjustments\": false, \"tf_adjustment_column\": null, \"tf_adjustment_weight\": 1.0, \"is_null_level\": false, \"bayes_factor\": 0.16967926951333265, \"log2_bayes_factor\": -2.5591177798430844, \"comparison_vector_value\": 0, \"max_comparison_vector_value\": 2, \"bayes_factor_description\": \"If comparison level is `age difference >= 2 years` then comparison is  5.89 times less likely to be a match\", \"probability_two_random_records_match\": 0.023865075030702492, \"comparison_sort_order\": 3, \"iteration\": 0}, {\"comparison_name\": \"first_name\", \"sql_condition\": \"\\\"first_name_l\\\" = \\\"first_name_r\\\"\", \"label_for_charts\": \"Exact match\", \"m_probability\": 1.0, \"u_probability\": 0.004286071939092783, \"m_probability_description\": \"Amongst matching record comparisons, 100.00% of records are in the exact match comparison level\", \"u_probability_description\": \"Amongst non-matching record comparisons, 0.43% of records are in the exact match comparison level\", \"has_tf_adjustments\": false, \"tf_adjustment_column\": null, \"tf_adjustment_weight\": 1.0, \"is_null_level\": false, \"bayes_factor\": 233.31386271870795, \"log2_bayes_factor\": 7.866128219691629, \"comparison_vector_value\": 3, \"max_comparison_vector_value\": 3, \"bayes_factor_description\": \"If comparison level is `exact match` then comparison is 233.31 times more likely to be a match\", \"probability_two_random_records_match\": 0.023865075030702492, \"comparison_sort_order\": 0, \"iteration\": 1}, {\"comparison_name\": \"first_name\", \"sql_condition\": \"levenshtein(\\\"first_name_l\\\", \\\"first_name_r\\\") <= 1\", \"label_for_charts\": \"levenshtein <= 1\", \"m_probability\": 3.1149586552135263e-34, \"u_probability\": 0.0008722127553039419, \"m_probability_description\": \"Amongst matching record comparisons, 0.00% of records are in the levenshtein <= 1 comparison level\", \"u_probability_description\": \"Amongst non-matching record comparisons, 0.09% of records are in the levenshtein <= 1 comparison level\", \"has_tf_adjustments\": false, \"tf_adjustment_column\": null, \"tf_adjustment_weight\": 1.0, \"is_null_level\": false, \"bayes_factor\": 3.5713289404120784e-31, \"log2_bayes_factor\": -101.14330992076106, \"comparison_vector_value\": 2, \"max_comparison_vector_value\": 3, \"bayes_factor_description\": \"If comparison level is `levenshtein <= 1` then comparison is  2,800,078,112,896,021,244,850,342,985,728.00 times less likely to be a match\", \"probability_two_random_records_match\": 0.023865075030702492, \"comparison_sort_order\": 0, \"iteration\": 1}, {\"comparison_name\": \"first_name\", \"sql_condition\": \"levenshtein(\\\"first_name_l\\\", \\\"first_name_r\\\") <= 2\", \"label_for_charts\": \"levenshtein <= 2\", \"m_probability\": 1.5805820583746469e-37, \"u_probability\": 0.004905619888296774, \"m_probability_description\": \"Amongst matching record comparisons, 0.00% of records are in the levenshtein <= 2 comparison level\", \"u_probability_description\": \"Amongst non-matching record comparisons, 0.49% of records are in the levenshtein <= 2 comparison level\", \"has_tf_adjustments\": false, \"tf_adjustment_column\": null, \"tf_adjustment_weight\": 1.0, \"is_null_level\": false, \"bayes_factor\": 3.2219823271375053e-35, \"log2_bayes_factor\": -114.57953474030339, \"comparison_vector_value\": 1, \"max_comparison_vector_value\": 3, \"bayes_factor_description\": \"If comparison level is `levenshtein <= 2` then comparison is  31,036,793,454,060,516,455,670,901,307,867,136.00 times less likely to be a match\", \"probability_two_random_records_match\": 0.023865075030702492, \"comparison_sort_order\": 0, \"iteration\": 1}, {\"comparison_name\": \"first_name\", \"sql_condition\": \"ELSE\", \"label_for_charts\": \"All other comparisons\", \"m_probability\": 3.41266075211953e-20, \"u_probability\": 0.9899360954173065, \"m_probability_description\": \"Amongst matching record comparisons, 0.00% of records are in the all other comparisons comparison level\", \"u_probability_description\": \"Amongst non-matching record comparisons, 98.99% of records are in the all other comparisons comparison level\", \"has_tf_adjustments\": false, \"tf_adjustment_column\": null, \"tf_adjustment_weight\": 1.0, \"is_null_level\": false, \"bayes_factor\": 3.447354599875385e-20, \"log2_bayes_factor\": -64.65307219371282, \"comparison_vector_value\": 0, \"max_comparison_vector_value\": 3, \"bayes_factor_description\": \"If comparison level is `all other comparisons` then comparison is  29,007,749,885,554,216,960.00 times less likely to be a match\", \"probability_two_random_records_match\": 0.023865075030702492, \"comparison_sort_order\": 0, \"iteration\": 1}, {\"comparison_name\": \"last_name\", \"sql_condition\": \"\\\"last_name_l\\\" = \\\"last_name_r\\\"\", \"label_for_charts\": \"Exact match\", \"m_probability\": 0.999971566285143, \"u_probability\": 0.0019071001117955237, \"m_probability_description\": \"Amongst matching record comparisons, 100.00% of records are in the exact match comparison level\", \"u_probability_description\": \"Amongst non-matching record comparisons, 0.19% of records are in the exact match comparison level\", \"has_tf_adjustments\": false, \"tf_adjustment_column\": null, \"tf_adjustment_weight\": 1.0, \"is_null_level\": false, \"bayes_factor\": 524.3414124409419, \"log2_bayes_factor\": 9.034362684062652, \"comparison_vector_value\": 3, \"max_comparison_vector_value\": 3, \"bayes_factor_description\": \"If comparison level is `exact match` then comparison is 524.34 times more likely to be a match\", \"probability_two_random_records_match\": 0.023865075030702492, \"comparison_sort_order\": 1, \"iteration\": 1}, {\"comparison_name\": \"last_name\", \"sql_condition\": \"levenshtein(\\\"last_name_l\\\", \\\"last_name_r\\\") <= 1\", \"label_for_charts\": \"levenshtein <= 1\", \"m_probability\": 2.2616100487141833e-128, \"u_probability\": 0.00025843340897894573, \"m_probability_description\": \"Amongst matching record comparisons, 0.00% of records are in the levenshtein <= 1 comparison level\", \"u_probability_description\": \"Amongst non-matching record comparisons, 0.03% of records are in the levenshtein <= 1 comparison level\", \"has_tf_adjustments\": false, \"tf_adjustment_column\": null, \"tf_adjustment_weight\": 1.0, \"is_null_level\": false, \"bayes_factor\": 8.751229408185511e-125, \"log2_bayes_factor\": -412.1115261540895, \"comparison_vector_value\": 2, \"max_comparison_vector_value\": 3, \"bayes_factor_description\": \"If comparison level is `levenshtein <= 1` then comparison is  11,426,965,896,524,714,991,571,102,087,234,584,730,048,506,126,545,380,963,471,076,231,249,006,699,531,421,316,533,519,631,303,854,572,300,740,324,099,562,848,387,072.00 times less likely to be a match\", \"probability_two_random_records_match\": 0.023865075030702492, \"comparison_sort_order\": 1, \"iteration\": 1}, {\"comparison_name\": \"last_name\", \"sql_condition\": \"levenshtein(\\\"last_name_l\\\", \\\"last_name_r\\\") <= 2\", \"label_for_charts\": \"levenshtein <= 2\", \"m_probability\": 3.431144595641092e-15, \"u_probability\": 0.0019197910381293112, \"m_probability_description\": \"Amongst matching record comparisons, 0.00% of records are in the levenshtein <= 2 comparison level\", \"u_probability_description\": \"Amongst non-matching record comparisons, 0.19% of records are in the levenshtein <= 2 comparison level\", \"has_tf_adjustments\": false, \"tf_adjustment_column\": null, \"tf_adjustment_weight\": 1.0, \"is_null_level\": false, \"bayes_factor\": 1.7872489909029258e-12, \"log2_bayes_factor\": -39.02539650095755, \"comparison_vector_value\": 1, \"max_comparison_vector_value\": 3, \"bayes_factor_description\": \"If comparison level is `levenshtein <= 2` then comparison is  559,519,129,729.54 times less likely to be a match\", \"probability_two_random_records_match\": 0.023865075030702492, \"comparison_sort_order\": 1, \"iteration\": 1}, {\"comparison_name\": \"last_name\", \"sql_condition\": \"ELSE\", \"label_for_charts\": \"All other comparisons\", \"m_probability\": 2.843371485353277e-05, \"u_probability\": 0.9959146754410962, \"m_probability_description\": \"Amongst matching record comparisons, 0.00% of records are in the all other comparisons comparison level\", \"u_probability_description\": \"Amongst non-matching record comparisons, 99.59% of records are in the all other comparisons comparison level\", \"has_tf_adjustments\": false, \"tf_adjustment_column\": null, \"tf_adjustment_weight\": 1.0, \"is_null_level\": false, \"bayes_factor\": 2.8550352308986024e-05, \"log2_bayes_factor\": -15.096131926001375, \"comparison_vector_value\": 0, \"max_comparison_vector_value\": 3, \"bayes_factor_description\": \"If comparison level is `all other comparisons` then comparison is  35,025.84 times less likely to be a match\", \"probability_two_random_records_match\": 0.023865075030702492, \"comparison_sort_order\": 1, \"iteration\": 1}, {\"comparison_name\": \"sex\", \"sql_condition\": \"\\\"sex_l\\\" = \\\"sex_r\\\"\", \"label_for_charts\": \"Exact match\", \"m_probability\": 1.0, \"u_probability\": 0.5030740884742161, \"m_probability_description\": \"Amongst matching record comparisons, 100.00% of records are in the exact match comparison level\", \"u_probability_description\": \"Amongst non-matching record comparisons, 50.31% of records are in the exact match comparison level\", \"has_tf_adjustments\": false, \"tf_adjustment_column\": null, \"tf_adjustment_weight\": 1.0, \"is_null_level\": false, \"bayes_factor\": 1.9877787842997856, \"log2_bayes_factor\": 0.9911572113511078, \"comparison_vector_value\": 1, \"max_comparison_vector_value\": 1, \"bayes_factor_description\": \"If comparison level is `exact match` then comparison is 1.99 times more likely to be a match\", \"probability_two_random_records_match\": 0.023865075030702492, \"comparison_sort_order\": 2, \"iteration\": 1}, {\"comparison_name\": \"sex\", \"sql_condition\": \"ELSE\", \"label_for_charts\": \"All other comparisons\", \"m_probability\": 4.099869490275081e-71, \"u_probability\": 0.4969259115257839, \"m_probability_description\": \"Amongst matching record comparisons, 0.00% of records are in the all other comparisons comparison level\", \"u_probability_description\": \"Amongst non-matching record comparisons, 49.69% of records are in the all other comparisons comparison level\", \"has_tf_adjustments\": false, \"tf_adjustment_column\": null, \"tf_adjustment_weight\": 1.0, \"is_null_level\": false, \"bayes_factor\": 8.250464294942188e-71, \"log2_bayes_factor\": -232.81241942768514, \"comparison_vector_value\": 0, \"max_comparison_vector_value\": 1, \"bayes_factor_description\": \"If comparison level is `all other comparisons` then comparison is  12,120,529,999,905,988,067,723,668,434,935,893,061,588,469,618,557,348,931,100,850,698,321,920.00 times less likely to be a match\", \"probability_two_random_records_match\": 0.023865075030702492, \"comparison_sort_order\": 2, \"iteration\": 1}, {\"comparison_name\": \"age\", \"sql_condition\": \"round(age_r) - round(age_l) = 10\", \"label_for_charts\": \"Exact match\", \"m_probability\": 0.8061587450327301, \"u_probability\": 0.010308493344762859, \"m_probability_description\": \"Amongst matching record comparisons, 80.62% of records are in the exact match comparison level\", \"u_probability_description\": \"Amongst non-matching record comparisons, 1.03% of records are in the exact match comparison level\", \"has_tf_adjustments\": false, \"tf_adjustment_column\": null, \"tf_adjustment_weight\": 1.0, \"is_null_level\": false, \"bayes_factor\": 78.20335310613477, \"log2_bayes_factor\": 6.28915856183025, \"comparison_vector_value\": 2, \"max_comparison_vector_value\": 2, \"bayes_factor_description\": \"If comparison level is `exact match` then comparison is 78.20 times more likely to be a match\", \"probability_two_random_records_match\": 0.023865075030702492, \"comparison_sort_order\": 3, \"iteration\": 1}, {\"comparison_name\": \"age\", \"sql_condition\": \"abs(round(age_r) - (round(age_l)+10)) = 1\", \"label_for_charts\": \"Age within 1 year\", \"m_probability\": 0.056978474394470825, \"u_probability\": 0.02064582970392069, \"m_probability_description\": \"Amongst matching record comparisons, 5.70% of records are in the age within 1 year comparison level\", \"u_probability_description\": \"Amongst non-matching record comparisons, 2.06% of records are in the age within 1 year comparison level\", \"has_tf_adjustments\": false, \"tf_adjustment_column\": null, \"tf_adjustment_weight\": 1.0, \"is_null_level\": false, \"bayes_factor\": 2.7598055012364306, \"log2_bayes_factor\": 1.464566595884158, \"comparison_vector_value\": 1, \"max_comparison_vector_value\": 2, \"bayes_factor_description\": \"If comparison level is `age within 1 year` then comparison is 2.76 times more likely to be a match\", \"probability_two_random_records_match\": 0.023865075030702492, \"comparison_sort_order\": 3, \"iteration\": 1}, {\"comparison_name\": \"age\", \"sql_condition\": \"ELSE\", \"label_for_charts\": \"Age difference >= 2 years\", \"m_probability\": 0.1368627805727991, \"u_probability\": 0.9690456769513165, \"m_probability_description\": \"Amongst matching record comparisons, 13.69% of records are in the age difference >= 2 years comparison level\", \"u_probability_description\": \"Amongst non-matching record comparisons, 96.90% of records are in the age difference >= 2 years comparison level\", \"has_tf_adjustments\": false, \"tf_adjustment_column\": null, \"tf_adjustment_weight\": 1.0, \"is_null_level\": false, \"bayes_factor\": 0.14123460207095573, \"log2_bayes_factor\": -2.8238345068411888, \"comparison_vector_value\": 0, \"max_comparison_vector_value\": 2, \"bayes_factor_description\": \"If comparison level is `age difference >= 2 years` then comparison is  7.08 times less likely to be a match\", \"probability_two_random_records_match\": 0.023865075030702492, \"comparison_sort_order\": 3, \"iteration\": 1}, {\"comparison_name\": \"first_name\", \"sql_condition\": \"\\\"first_name_l\\\" = \\\"first_name_r\\\"\", \"label_for_charts\": \"Exact match\", \"m_probability\": 1.0, \"u_probability\": 0.004286071939092783, \"m_probability_description\": \"Amongst matching record comparisons, 100.00% of records are in the exact match comparison level\", \"u_probability_description\": \"Amongst non-matching record comparisons, 0.43% of records are in the exact match comparison level\", \"has_tf_adjustments\": false, \"tf_adjustment_column\": null, \"tf_adjustment_weight\": 1.0, \"is_null_level\": false, \"bayes_factor\": 233.31386271870795, \"log2_bayes_factor\": 7.866128219691629, \"comparison_vector_value\": 3, \"max_comparison_vector_value\": 3, \"bayes_factor_description\": \"If comparison level is `exact match` then comparison is 233.31 times more likely to be a match\", \"probability_two_random_records_match\": 0.023865075030702492, \"comparison_sort_order\": 0, \"iteration\": 2}, {\"comparison_name\": \"first_name\", \"sql_condition\": \"levenshtein(\\\"first_name_l\\\", \\\"first_name_r\\\") <= 1\", \"label_for_charts\": \"levenshtein <= 1\", \"m_probability\": 1.9499032856947766e-38, \"u_probability\": 0.0008722127553039419, \"m_probability_description\": \"Amongst matching record comparisons, 0.00% of records are in the levenshtein <= 1 comparison level\", \"u_probability_description\": \"Amongst non-matching record comparisons, 0.09% of records are in the levenshtein <= 1 comparison level\", \"has_tf_adjustments\": false, \"tf_adjustment_column\": null, \"tf_adjustment_weight\": 1.0, \"is_null_level\": false, \"bayes_factor\": 2.2355821717091142e-35, \"log2_bayes_factor\": -115.10683274608363, \"comparison_vector_value\": 2, \"max_comparison_vector_value\": 3, \"bayes_factor_description\": \"If comparison level is `levenshtein <= 1` then comparison is  44,731,077,777,181,185,541,146,747,105,968,128.00 times less likely to be a match\", \"probability_two_random_records_match\": 0.023865075030702492, \"comparison_sort_order\": 0, \"iteration\": 2}, {\"comparison_name\": \"first_name\", \"sql_condition\": \"levenshtein(\\\"first_name_l\\\", \\\"first_name_r\\\") <= 2\", \"label_for_charts\": \"levenshtein <= 2\", \"m_probability\": 4.918494962409081e-42, \"u_probability\": 0.004905619888296774, \"m_probability_description\": \"Amongst matching record comparisons, 0.00% of records are in the levenshtein <= 2 comparison level\", \"u_probability_description\": \"Amongst non-matching record comparisons, 0.49% of records are in the levenshtein <= 2 comparison level\", \"has_tf_adjustments\": false, \"tf_adjustment_column\": null, \"tf_adjustment_weight\": 1.0, \"is_null_level\": false, \"bayes_factor\": 1.0026245560001545e-39, \"log2_bayes_factor\": -129.55141422685816, \"comparison_vector_value\": 1, \"max_comparison_vector_value\": 3, \"bayes_factor_description\": \"If comparison level is `levenshtein <= 2` then comparison is  997,382,314,262,653,864,988,629,460,300,861,538,304.00 times less likely to be a match\", \"probability_two_random_records_match\": 0.023865075030702492, \"comparison_sort_order\": 0, \"iteration\": 2}, {\"comparison_name\": \"first_name\", \"sql_condition\": \"ELSE\", \"label_for_charts\": \"All other comparisons\", \"m_probability\": 2.0066490381557167e-21, \"u_probability\": 0.9899360954173065, \"m_probability_description\": \"Amongst matching record comparisons, 0.00% of records are in the all other comparisons comparison level\", \"u_probability_description\": \"Amongst non-matching record comparisons, 98.99% of records are in the all other comparisons comparison level\", \"has_tf_adjustments\": false, \"tf_adjustment_column\": null, \"tf_adjustment_weight\": 1.0, \"is_null_level\": false, \"bayes_factor\": 2.0270490665458724e-21, \"log2_bayes_factor\": -68.74110898167605, \"comparison_vector_value\": 0, \"max_comparison_vector_value\": 3, \"bayes_factor_description\": \"If comparison level is `all other comparisons` then comparison is  493,327,969,462,533,881,856.00 times less likely to be a match\", \"probability_two_random_records_match\": 0.023865075030702492, \"comparison_sort_order\": 0, \"iteration\": 2}, {\"comparison_name\": \"last_name\", \"sql_condition\": \"\\\"last_name_l\\\" = \\\"last_name_r\\\"\", \"label_for_charts\": \"Exact match\", \"m_probability\": 0.9999330323014481, \"u_probability\": 0.0019071001117955237, \"m_probability_description\": \"Amongst matching record comparisons, 99.99% of records are in the exact match comparison level\", \"u_probability_description\": \"Amongst non-matching record comparisons, 0.19% of records are in the exact match comparison level\", \"has_tf_adjustments\": false, \"tf_adjustment_column\": null, \"tf_adjustment_weight\": 1.0, \"is_null_level\": false, \"bayes_factor\": 524.3212069029859, \"log2_bayes_factor\": 9.034307088623521, \"comparison_vector_value\": 3, \"max_comparison_vector_value\": 3, \"bayes_factor_description\": \"If comparison level is `exact match` then comparison is 524.32 times more likely to be a match\", \"probability_two_random_records_match\": 0.023865075030702492, \"comparison_sort_order\": 1, \"iteration\": 2}, {\"comparison_name\": \"last_name\", \"sql_condition\": \"levenshtein(\\\"last_name_l\\\", \\\"last_name_r\\\") <= 1\", \"label_for_charts\": \"levenshtein <= 1\", \"m_probability\": 7.018407071320839e-149, \"u_probability\": 0.00025843340897894573, \"m_probability_description\": \"Amongst matching record comparisons, 0.00% of records are in the levenshtein <= 1 comparison level\", \"u_probability_description\": \"Amongst non-matching record comparisons, 0.03% of records are in the levenshtein <= 1 comparison level\", \"has_tf_adjustments\": false, \"tf_adjustment_column\": null, \"tf_adjustment_weight\": 1.0, \"is_null_level\": false, \"bayes_factor\": 2.7157506837255008e-145, \"log2_bayes_factor\": -480.23822271791505, \"comparison_vector_value\": 2, \"max_comparison_vector_value\": 3, \"bayes_factor_description\": \"If comparison level is `levenshtein <= 1` then comparison is  3,682,223,136,286,529,615,936,757,555,714,310,393,036,246,659,266,753,621,311,170,594,807,566,051,063,532,363,526,678,413,802,786,692,970,680,132,107,008,891,576,923,238,395,337,287,000,915,968.00 times less likely to be a match\", \"probability_two_random_records_match\": 0.023865075030702492, \"comparison_sort_order\": 1, \"iteration\": 2}, {\"comparison_name\": \"last_name\", \"sql_condition\": \"levenshtein(\\\"last_name_l\\\", \\\"last_name_r\\\") <= 2\", \"label_for_charts\": \"levenshtein <= 2\", \"m_probability\": 6.467223540231355e-16, \"u_probability\": 0.0019197910381293112, \"m_probability_description\": \"Amongst matching record comparisons, 0.00% of records are in the levenshtein <= 2 comparison level\", \"u_probability_description\": \"Amongst non-matching record comparisons, 0.19% of records are in the levenshtein <= 2 comparison level\", \"has_tf_adjustments\": false, \"tf_adjustment_column\": null, \"tf_adjustment_weight\": 1.0, \"is_null_level\": false, \"bayes_factor\": 3.3687122253332147e-13, \"log2_bayes_factor\": -41.43286804307465, \"comparison_vector_value\": 1, \"max_comparison_vector_value\": 3, \"bayes_factor_description\": \"If comparison level is `levenshtein <= 2` then comparison is  2,968,493,397,803.03 times less likely to be a match\", \"probability_two_random_records_match\": 0.023865075030702492, \"comparison_sort_order\": 1, \"iteration\": 2}, {\"comparison_name\": \"last_name\", \"sql_condition\": \"ELSE\", \"label_for_charts\": \"All other comparisons\", \"m_probability\": 6.696769855123523e-05, \"u_probability\": 0.9959146754410962, \"m_probability_description\": \"Amongst matching record comparisons, 0.01% of records are in the all other comparisons comparison level\", \"u_probability_description\": \"Amongst non-matching record comparisons, 99.59% of records are in the all other comparisons comparison level\", \"has_tf_adjustments\": false, \"tf_adjustment_column\": null, \"tf_adjustment_weight\": 1.0, \"is_null_level\": false, \"bayes_factor\": 6.724240560224183e-05, \"log2_bayes_factor\": -13.860269136413233, \"comparison_vector_value\": 0, \"max_comparison_vector_value\": 3, \"bayes_factor_description\": \"If comparison level is `all other comparisons` then comparison is  14,871.57 times less likely to be a match\", \"probability_two_random_records_match\": 0.023865075030702492, \"comparison_sort_order\": 1, \"iteration\": 2}, {\"comparison_name\": \"sex\", \"sql_condition\": \"\\\"sex_l\\\" = \\\"sex_r\\\"\", \"label_for_charts\": \"Exact match\", \"m_probability\": 1.0, \"u_probability\": 0.5030740884742161, \"m_probability_description\": \"Amongst matching record comparisons, 100.00% of records are in the exact match comparison level\", \"u_probability_description\": \"Amongst non-matching record comparisons, 50.31% of records are in the exact match comparison level\", \"has_tf_adjustments\": false, \"tf_adjustment_column\": null, \"tf_adjustment_weight\": 1.0, \"is_null_level\": false, \"bayes_factor\": 1.9877787842997856, \"log2_bayes_factor\": 0.9911572113511078, \"comparison_vector_value\": 1, \"max_comparison_vector_value\": 1, \"bayes_factor_description\": \"If comparison level is `exact match` then comparison is 1.99 times more likely to be a match\", \"probability_two_random_records_match\": 0.023865075030702492, \"comparison_sort_order\": 2, \"iteration\": 2}, {\"comparison_name\": \"sex\", \"sql_condition\": \"ELSE\", \"label_for_charts\": \"All other comparisons\", \"m_probability\": 4.287998472814578e-79, \"u_probability\": 0.4969259115257839, \"m_probability_description\": \"Amongst matching record comparisons, 0.00% of records are in the all other comparisons comparison level\", \"u_probability_description\": \"Amongst non-matching record comparisons, 49.69% of records are in the all other comparisons comparison level\", \"has_tf_adjustments\": false, \"tf_adjustment_column\": null, \"tf_adjustment_weight\": 1.0, \"is_null_level\": false, \"bayes_factor\": 8.629049871133731e-79, \"log2_bayes_factor\": -259.32311778045937, \"comparison_vector_value\": 0, \"max_comparison_vector_value\": 1, \"bayes_factor_description\": \"If comparison level is `all other comparisons` then comparison is  1,158,876,139,243,606,626,788,494,465,417,387,445,541,382,313,427,982,504,254,164,985,916,461,085,097,984.00 times less likely to be a match\", \"probability_two_random_records_match\": 0.023865075030702492, \"comparison_sort_order\": 2, \"iteration\": 2}, {\"comparison_name\": \"age\", \"sql_condition\": \"round(age_r) - round(age_l) = 10\", \"label_for_charts\": \"Exact match\", \"m_probability\": 0.7798130331379751, \"u_probability\": 0.010308493344762859, \"m_probability_description\": \"Amongst matching record comparisons, 77.98% of records are in the exact match comparison level\", \"u_probability_description\": \"Amongst non-matching record comparisons, 1.03% of records are in the exact match comparison level\", \"has_tf_adjustments\": false, \"tf_adjustment_column\": null, \"tf_adjustment_weight\": 1.0, \"is_null_level\": false, \"bayes_factor\": 75.64762444495852, \"log2_bayes_factor\": 6.241222873227733, \"comparison_vector_value\": 2, \"max_comparison_vector_value\": 2, \"bayes_factor_description\": \"If comparison level is `exact match` then comparison is 75.65 times more likely to be a match\", \"probability_two_random_records_match\": 0.023865075030702492, \"comparison_sort_order\": 3, \"iteration\": 2}, {\"comparison_name\": \"age\", \"sql_condition\": \"abs(round(age_r) - (round(age_l)+10)) = 1\", \"label_for_charts\": \"Age within 1 year\", \"m_probability\": 0.05591703140970578, \"u_probability\": 0.02064582970392069, \"m_probability_description\": \"Amongst matching record comparisons, 5.59% of records are in the age within 1 year comparison level\", \"u_probability_description\": \"Amongst non-matching record comparisons, 2.06% of records are in the age within 1 year comparison level\", \"has_tf_adjustments\": false, \"tf_adjustment_column\": null, \"tf_adjustment_weight\": 1.0, \"is_null_level\": false, \"bayes_factor\": 2.708393521190723, \"log2_bayes_factor\": 1.4374373732642982, \"comparison_vector_value\": 1, \"max_comparison_vector_value\": 2, \"bayes_factor_description\": \"If comparison level is `age within 1 year` then comparison is 2.71 times more likely to be a match\", \"probability_two_random_records_match\": 0.023865075030702492, \"comparison_sort_order\": 3, \"iteration\": 2}, {\"comparison_name\": \"age\", \"sql_condition\": \"ELSE\", \"label_for_charts\": \"Age difference >= 2 years\", \"m_probability\": 0.16426993545231916, \"u_probability\": 0.9690456769513165, \"m_probability_description\": \"Amongst matching record comparisons, 16.43% of records are in the age difference >= 2 years comparison level\", \"u_probability_description\": \"Amongst non-matching record comparisons, 96.90% of records are in the age difference >= 2 years comparison level\", \"has_tf_adjustments\": false, \"tf_adjustment_column\": null, \"tf_adjustment_weight\": 1.0, \"is_null_level\": false, \"bayes_factor\": 0.16951722644191916, \"log2_bayes_factor\": -2.560496206543306, \"comparison_vector_value\": 0, \"max_comparison_vector_value\": 2, \"bayes_factor_description\": \"If comparison level is `age difference >= 2 years` then comparison is  5.90 times less likely to be a match\", \"probability_two_random_records_match\": 0.023865075030702492, \"comparison_sort_order\": 3, \"iteration\": 2}, {\"comparison_name\": \"first_name\", \"sql_condition\": \"\\\"first_name_l\\\" = \\\"first_name_r\\\"\", \"label_for_charts\": \"Exact match\", \"m_probability\": 1.0, \"u_probability\": 0.004286071939092783, \"m_probability_description\": \"Amongst matching record comparisons, 100.00% of records are in the exact match comparison level\", \"u_probability_description\": \"Amongst non-matching record comparisons, 0.43% of records are in the exact match comparison level\", \"has_tf_adjustments\": false, \"tf_adjustment_column\": null, \"tf_adjustment_weight\": 1.0, \"is_null_level\": false, \"bayes_factor\": 233.31386271870795, \"log2_bayes_factor\": 7.866128219691629, \"comparison_vector_value\": 3, \"max_comparison_vector_value\": 3, \"bayes_factor_description\": \"If comparison level is `exact match` then comparison is 233.31 times more likely to be a match\", \"probability_two_random_records_match\": 0.023865075030702492, \"comparison_sort_order\": 0, \"iteration\": 3}, {\"comparison_name\": \"first_name\", \"sql_condition\": \"levenshtein(\\\"first_name_l\\\", \\\"first_name_r\\\") <= 1\", \"label_for_charts\": \"levenshtein <= 1\", \"m_probability\": 2.9180877121542513e-42, \"u_probability\": 0.0008722127553039419, \"m_probability_description\": \"Amongst matching record comparisons, 0.00% of records are in the levenshtein <= 1 comparison level\", \"u_probability_description\": \"Amongst non-matching record comparisons, 0.09% of records are in the levenshtein <= 1 comparison level\", \"has_tf_adjustments\": false, \"tf_adjustment_column\": null, \"tf_adjustment_weight\": 1.0, \"is_null_level\": false, \"bayes_factor\": 3.345614581315517e-39, \"log2_bayes_factor\": -127.81292444580225, \"comparison_vector_value\": 2, \"max_comparison_vector_value\": 3, \"bayes_factor_description\": \"If comparison level is `levenshtein <= 1` then comparison is  298,898,745,116,896,743,061,019,389,007,537,111,040.00 times less likely to be a match\", \"probability_two_random_records_match\": 0.023865075030702492, \"comparison_sort_order\": 0, \"iteration\": 3}, {\"comparison_name\": \"first_name\", \"sql_condition\": \"levenshtein(\\\"first_name_l\\\", \\\"first_name_r\\\") <= 2\", \"label_for_charts\": \"levenshtein <= 2\", \"m_probability\": 3.729607720535842e-46, \"u_probability\": 0.004905619888296774, \"m_probability_description\": \"Amongst matching record comparisons, 0.00% of records are in the levenshtein <= 2 comparison level\", \"u_probability_description\": \"Amongst non-matching record comparisons, 0.49% of records are in the levenshtein <= 2 comparison level\", \"has_tf_adjustments\": false, \"tf_adjustment_column\": null, \"tf_adjustment_weight\": 1.0, \"is_null_level\": false, \"bayes_factor\": 7.602724641249687e-44, \"log2_bayes_factor\": -143.23831963517506, \"comparison_vector_value\": 1, \"max_comparison_vector_value\": 3, \"bayes_factor_description\": \"If comparison level is `levenshtein <= 2` then comparison is  13,153,179,250,690,663,283,853,278,784,545,901,003,145,216.00 times less likely to be a match\", \"probability_two_random_records_match\": 0.023865075030702492, \"comparison_sort_order\": 0, \"iteration\": 3}, {\"comparison_name\": \"first_name\", \"sql_condition\": \"ELSE\", \"label_for_charts\": \"All other comparisons\", \"m_probability\": 1.393594695500612e-22, \"u_probability\": 0.9899360954173065, \"m_probability_description\": \"Amongst matching record comparisons, 0.00% of records are in the all other comparisons comparison level\", \"u_probability_description\": \"Amongst non-matching record comparisons, 98.99% of records are in the all other comparisons comparison level\", \"has_tf_adjustments\": false, \"tf_adjustment_column\": null, \"tf_adjustment_weight\": 1.0, \"is_null_level\": false, \"bayes_factor\": 1.40776228076939e-22, \"log2_bayes_factor\": -72.58901435106796, \"comparison_vector_value\": 0, \"max_comparison_vector_value\": 3, \"bayes_factor_description\": \"If comparison level is `all other comparisons` then comparison is  7,103,472,039,707,342,274,560.00 times less likely to be a match\", \"probability_two_random_records_match\": 0.023865075030702492, \"comparison_sort_order\": 0, \"iteration\": 3}, {\"comparison_name\": \"last_name\", \"sql_condition\": \"\\\"last_name_l\\\" = \\\"last_name_r\\\"\", \"label_for_charts\": \"Exact match\", \"m_probability\": 0.9998432475990155, \"u_probability\": 0.0019071001117955237, \"m_probability_description\": \"Amongst matching record comparisons, 99.98% of records are in the exact match comparison level\", \"u_probability_description\": \"Amongst non-matching record comparisons, 0.19% of records are in the exact match comparison level\", \"has_tf_adjustments\": false, \"tf_adjustment_column\": null, \"tf_adjustment_weight\": 1.0, \"is_null_level\": false, \"bayes_factor\": 524.2741277266608, \"log2_bayes_factor\": 9.034177542187416, \"comparison_vector_value\": 3, \"max_comparison_vector_value\": 3, \"bayes_factor_description\": \"If comparison level is `exact match` then comparison is 524.27 times more likely to be a match\", \"probability_two_random_records_match\": 0.023865075030702492, \"comparison_sort_order\": 1, \"iteration\": 3}, {\"comparison_name\": \"last_name\", \"sql_condition\": \"levenshtein(\\\"last_name_l\\\", \\\"last_name_r\\\") <= 1\", \"label_for_charts\": \"levenshtein <= 1\", \"m_probability\": 1.5910784091279572e-170, \"u_probability\": 0.00025843340897894573, \"m_probability_description\": \"Amongst matching record comparisons, 0.00% of records are in the levenshtein <= 1 comparison level\", \"u_probability_description\": \"Amongst non-matching record comparisons, 0.03% of records are in the levenshtein <= 1 comparison level\", \"has_tf_adjustments\": false, \"tf_adjustment_column\": null, \"tf_adjustment_weight\": 1.0, \"is_null_level\": false, \"bayes_factor\": 6.1566281829203456e-167, \"log2_bayes_factor\": -552.1398514036483, \"comparison_vector_value\": 2, \"max_comparison_vector_value\": 3, \"bayes_factor_description\": \"If comparison level is `levenshtein <= 1` then comparison is  16,242,657,024,086,492,403,901,481,258,372,275,825,365,370,276,208,381,276,456,026,279,762,259,060,873,357,526,366,815,647,945,049,481,715,613,667,092,165,490,003,545,905,378,274,538,660,802,885,503,579,644,252,819,292,160.00 times less likely to be a match\", \"probability_two_random_records_match\": 0.023865075030702492, \"comparison_sort_order\": 1, \"iteration\": 3}, {\"comparison_name\": \"last_name\", \"sql_condition\": \"levenshtein(\\\"last_name_l\\\", \\\"last_name_r\\\") <= 2\", \"label_for_charts\": \"levenshtein <= 2\", \"m_probability\": 1.5144349407174393e-16, \"u_probability\": 0.0019197910381293112, \"m_probability_description\": \"Amongst matching record comparisons, 0.00% of records are in the levenshtein <= 2 comparison level\", \"u_probability_description\": \"Amongst non-matching record comparisons, 0.19% of records are in the levenshtein <= 2 comparison level\", \"has_tf_adjustments\": false, \"tf_adjustment_column\": null, \"tf_adjustment_weight\": 1.0, \"is_null_level\": false, \"bayes_factor\": 7.88854052674993e-14, \"log2_bayes_factor\": -43.52723491913317, \"comparison_vector_value\": 1, \"max_comparison_vector_value\": 3, \"bayes_factor_description\": \"If comparison level is `levenshtein <= 2` then comparison is  12,676,616,119,407.82 times less likely to be a match\", \"probability_two_random_records_match\": 0.023865075030702492, \"comparison_sort_order\": 1, \"iteration\": 3}, {\"comparison_name\": \"last_name\", \"sql_condition\": \"ELSE\", \"label_for_charts\": \"All other comparisons\", \"m_probability\": 0.00015675240098426987, \"u_probability\": 0.9959146754410962, \"m_probability_description\": \"Amongst matching record comparisons, 0.02% of records are in the all other comparisons comparison level\", \"u_probability_description\": \"Amongst non-matching record comparisons, 99.59% of records are in the all other comparisons comparison level\", \"has_tf_adjustments\": false, \"tf_adjustment_column\": null, \"tf_adjustment_weight\": 1.0, \"is_null_level\": false, \"bayes_factor\": 0.00015739541232771104, \"log2_bayes_factor\": -12.633318888948759, \"comparison_vector_value\": 0, \"max_comparison_vector_value\": 3, \"bayes_factor_description\": \"If comparison level is `all other comparisons` then comparison is  6,353.43 times less likely to be a match\", \"probability_two_random_records_match\": 0.023865075030702492, \"comparison_sort_order\": 1, \"iteration\": 3}, {\"comparison_name\": \"sex\", \"sql_condition\": \"\\\"sex_l\\\" = \\\"sex_r\\\"\", \"label_for_charts\": \"Exact match\", \"m_probability\": 1.0, \"u_probability\": 0.5030740884742161, \"m_probability_description\": \"Amongst matching record comparisons, 100.00% of records are in the exact match comparison level\", \"u_probability_description\": \"Amongst non-matching record comparisons, 50.31% of records are in the exact match comparison level\", \"has_tf_adjustments\": false, \"tf_adjustment_column\": null, \"tf_adjustment_weight\": 1.0, \"is_null_level\": false, \"bayes_factor\": 1.9877787842997856, \"log2_bayes_factor\": 0.9911572113511078, \"comparison_vector_value\": 1, \"max_comparison_vector_value\": 1, \"bayes_factor_description\": \"If comparison level is `exact match` then comparison is 1.99 times more likely to be a match\", \"probability_two_random_records_match\": 0.023865075030702492, \"comparison_sort_order\": 2, \"iteration\": 3}, {\"comparison_name\": \"sex\", \"sql_condition\": \"ELSE\", \"label_for_charts\": \"All other comparisons\", \"m_probability\": 1.3122750697005212e-86, \"u_probability\": 0.4969259115257839, \"m_probability_description\": \"Amongst matching record comparisons, 0.00% of records are in the all other comparisons comparison level\", \"u_probability_description\": \"Amongst non-matching record comparisons, 49.69% of records are in the all other comparisons comparison level\", \"has_tf_adjustments\": false, \"tf_adjustment_column\": null, \"tf_adjustment_weight\": 1.0, \"is_null_level\": false, \"bayes_factor\": 2.6407861599956666e-86, \"log2_bayes_factor\": -284.2848486775905, \"comparison_vector_value\": 0, \"max_comparison_vector_value\": 1, \"bayes_factor_description\": \"If comparison level is `all other comparisons` then comparison is  37,867,511,392,957,351,276,914,329,764,606,954,077,412,411,912,508,350,009,937,788,971,889,813,204,930,178,056,192.00 times less likely to be a match\", \"probability_two_random_records_match\": 0.023865075030702492, \"comparison_sort_order\": 2, \"iteration\": 3}, {\"comparison_name\": \"age\", \"sql_condition\": \"round(age_r) - round(age_l) = 10\", \"label_for_charts\": \"Exact match\", \"m_probability\": 0.7797838898922187, \"u_probability\": 0.010308493344762859, \"m_probability_description\": \"Amongst matching record comparisons, 77.98% of records are in the exact match comparison level\", \"u_probability_description\": \"Amongst non-matching record comparisons, 1.03% of records are in the exact match comparison level\", \"has_tf_adjustments\": false, \"tf_adjustment_column\": null, \"tf_adjustment_weight\": 1.0, \"is_null_level\": false, \"bayes_factor\": 75.64479733484828, \"log2_bayes_factor\": 6.241168955685948, \"comparison_vector_value\": 2, \"max_comparison_vector_value\": 2, \"bayes_factor_description\": \"If comparison level is `exact match` then comparison is 75.64 times more likely to be a match\", \"probability_two_random_records_match\": 0.023865075030702492, \"comparison_sort_order\": 3, \"iteration\": 3}, {\"comparison_name\": \"age\", \"sql_condition\": \"abs(round(age_r) - (round(age_l)+10)) = 1\", \"label_for_charts\": \"Age within 1 year\", \"m_probability\": 0.05591854410160638, \"u_probability\": 0.02064582970392069, \"m_probability_description\": \"Amongst matching record comparisons, 5.59% of records are in the age within 1 year comparison level\", \"u_probability_description\": \"Amongst non-matching record comparisons, 2.06% of records are in the age within 1 year comparison level\", \"has_tf_adjustments\": false, \"tf_adjustment_column\": null, \"tf_adjustment_weight\": 1.0, \"is_null_level\": false, \"bayes_factor\": 2.708466789832492, \"log2_bayes_factor\": 1.4374764011513286, \"comparison_vector_value\": 1, \"max_comparison_vector_value\": 2, \"bayes_factor_description\": \"If comparison level is `age within 1 year` then comparison is 2.71 times more likely to be a match\", \"probability_two_random_records_match\": 0.023865075030702492, \"comparison_sort_order\": 3, \"iteration\": 3}, {\"comparison_name\": \"age\", \"sql_condition\": \"ELSE\", \"label_for_charts\": \"Age difference >= 2 years\", \"m_probability\": 0.16429756600617498, \"u_probability\": 0.9690456769513165, \"m_probability_description\": \"Amongst matching record comparisons, 16.43% of records are in the age difference >= 2 years comparison level\", \"u_probability_description\": \"Amongst non-matching record comparisons, 96.90% of records are in the age difference >= 2 years comparison level\", \"has_tf_adjustments\": false, \"tf_adjustment_column\": null, \"tf_adjustment_weight\": 1.0, \"is_null_level\": false, \"bayes_factor\": 0.1695457396013223, \"log2_bayes_factor\": -2.560253562563352, \"comparison_vector_value\": 0, \"max_comparison_vector_value\": 2, \"bayes_factor_description\": \"If comparison level is `age difference >= 2 years` then comparison is  5.90 times less likely to be a match\", \"probability_two_random_records_match\": 0.023865075030702492, \"comparison_sort_order\": 3, \"iteration\": 3}]}, \"transform\": [{\"filter\": \"(datum.iteration == iteration_number)\"}], \"title\": {\"text\": \"Proportion of record comparisons in each comparison level by match status\", \"subtitle\": \"(m and u probabilities)\"}, \"$schema\": \"https://vega.github.io/schema/vega-lite/v4.json\"}, {\"mode\": \"vega-lite\"});\n",
       "</script>"
      ],
      "text/plain": [
       "<splink.charts.VegaliteNoValidate at 0x7f3f62ddcdf0>"
      ]
     },
     "execution_count": 34,
     "metadata": {},
     "output_type": "execute_result"
    }
   ],
   "source": [
    "rule, session = next(rule_session)\n",
    "print(rule)\n",
    "session.m_u_values_interactive_history_chart()"
   ]
  },
  {
   "cell_type": "code",
   "execution_count": 35,
   "id": "7135253e",
   "metadata": {},
   "outputs": [
    {
     "name": "stdout",
     "output_type": "stream",
     "text": [
      "l.age + 10 = r.age\n"
     ]
    },
    {
     "data": {
      "text/html": [
       "\n",
       "<div id=\"altair-viz-5fc8721f840a4fbabc041dcd68447a23\"></div>\n",
       "<script type=\"text/javascript\">\n",
       "  var VEGA_DEBUG = (typeof VEGA_DEBUG == \"undefined\") ? {} : VEGA_DEBUG;\n",
       "  (function(spec, embedOpt){\n",
       "    let outputDiv = document.currentScript.previousElementSibling;\n",
       "    if (outputDiv.id !== \"altair-viz-5fc8721f840a4fbabc041dcd68447a23\") {\n",
       "      outputDiv = document.getElementById(\"altair-viz-5fc8721f840a4fbabc041dcd68447a23\");\n",
       "    }\n",
       "    const paths = {\n",
       "      \"vega\": \"https://cdn.jsdelivr.net/npm//vega@5?noext\",\n",
       "      \"vega-lib\": \"https://cdn.jsdelivr.net/npm//vega-lib?noext\",\n",
       "      \"vega-lite\": \"https://cdn.jsdelivr.net/npm//vega-lite@4.17.0?noext\",\n",
       "      \"vega-embed\": \"https://cdn.jsdelivr.net/npm//vega-embed@6?noext\",\n",
       "    };\n",
       "\n",
       "    function maybeLoadScript(lib, version) {\n",
       "      var key = `${lib.replace(\"-\", \"\")}_version`;\n",
       "      return (VEGA_DEBUG[key] == version) ?\n",
       "        Promise.resolve(paths[lib]) :\n",
       "        new Promise(function(resolve, reject) {\n",
       "          var s = document.createElement('script');\n",
       "          document.getElementsByTagName(\"head\")[0].appendChild(s);\n",
       "          s.async = true;\n",
       "          s.onload = () => {\n",
       "            VEGA_DEBUG[key] = version;\n",
       "            return resolve(paths[lib]);\n",
       "          };\n",
       "          s.onerror = () => reject(`Error loading script: ${paths[lib]}`);\n",
       "          s.src = paths[lib];\n",
       "        });\n",
       "    }\n",
       "\n",
       "    function showError(err) {\n",
       "      outputDiv.innerHTML = `<div class=\"error\" style=\"color:red;\">${err}</div>`;\n",
       "      throw err;\n",
       "    }\n",
       "\n",
       "    function displayChart(vegaEmbed) {\n",
       "      vegaEmbed(outputDiv, spec, embedOpt)\n",
       "        .catch(err => showError(`Javascript Error: ${err.message}<br>This usually means there's a typo in your chart specification. See the javascript console for the full traceback.`));\n",
       "    }\n",
       "\n",
       "    if(typeof define === \"function\" && define.amd) {\n",
       "      requirejs.config({paths});\n",
       "      require([\"vega-embed\"], displayChart, err => showError(`Error loading script: ${err.message}`));\n",
       "    } else {\n",
       "      maybeLoadScript(\"vega\", \"5\")\n",
       "        .then(() => maybeLoadScript(\"vega-lite\", \"4.17.0\"))\n",
       "        .then(() => maybeLoadScript(\"vega-embed\", \"6\"))\n",
       "        .catch(showError)\n",
       "        .then(() => displayChart(vegaEmbed));\n",
       "    }\n",
       "  })({\"config\": {\"view\": {\"width\": 400, \"height\": 300}, \"title\": {\"anchor\": \"middle\", \"offset\": 10}, \"header\": {\"title\": null}}, \"params\": [{\"name\": \"iteration_number\", \"value\": 3, \"bind\": {\"input\": \"range\", \"min\": 0, \"max\": 3, \"step\": 1}, \"description\": \"Filter by the interation number\"}], \"hconcat\": [{\"mark\": \"bar\", \"title\": {\"text\": \"Amongst matching record comparisons:\", \"fontWeight\": \"bold\", \"fontSize\": 12}, \"encoding\": {\"row\": {\"type\": \"nominal\", \"field\": \"comparison_name\", \"sort\": {\"field\": \"comparison_sort_order\"}, \"header\": {\"labelAngle\": 0, \"labelAnchor\": \"middle\", \"labelAlign\": \"left\"}}, \"x\": {\"type\": \"quantitative\", \"field\": \"m_probability\", \"axis\": {\"title\": \"Proportion of record comparisons\"}}, \"y\": {\"type\": \"nominal\", \"axis\": {\"title\": null}, \"field\": \"label_for_charts\", \"sort\": {\"field\": \"comparison_vector_value\", \"order\": \"descending\"}}, \"tooltip\": [{\"type\": \"nominal\", \"field\": \"m_probability_description\", \"title\": \"m probability description\"}, {\"type\": \"nominal\", \"field\": \"comparison_name\", \"title\": \"Comparison column name\"}, {\"type\": \"ordinal\", \"field\": \"label_for_charts\", \"title\": \"Label\"}, {\"type\": \"nominal\", \"field\": \"sql_condition\", \"title\": \"SQL condition\"}, {\"type\": \"quantitative\", \"field\": \"m_probability\", \"format\": \".4p\", \"title\": \"m probability\"}, {\"type\": \"quantitative\", \"field\": \"u_probability\", \"format\": \".4p\", \"title\": \"u probability\"}, {\"type\": \"quantitative\", \"field\": \"bayes_factor\", \"title\": \"Bayes factor = m/u\", \"format\": \",.4f\"}, {\"type\": \"quantitative\", \"field\": \"log2_bayes_factor\", \"title\": \"Match weight = log2(m/u)\", \"format\": \",.4f\"}], \"color\": {\"value\": \"green\"}}, \"resolve\": {\"scale\": {\"y\": \"independent\"}}, \"transform\": [{\"filter\": \"(datum.bayes_factor != 'no-op filter due to vega lite issue 4680')\"}], \"width\": 150, \"height\": 50}, {\"mark\": \"bar\", \"title\": {\"text\": \"Amongst non-matching record comparisons:\", \"fontWeight\": \"bold\", \"fontSize\": 12}, \"encoding\": {\"row\": {\"type\": \"nominal\", \"field\": \"comparison_name\", \"sort\": {\"field\": \"comparison_sort_order\"}, \"header\": {\"labels\": false}}, \"x\": {\"type\": \"quantitative\", \"field\": \"u_probability\", \"axis\": {\"title\": \"Proportion of record comparisons\"}}, \"y\": {\"type\": \"nominal\", \"axis\": {\"title\": null}, \"field\": \"label_for_charts\", \"sort\": {\"field\": \"comparison_vector_value\", \"order\": \"descending\"}}, \"tooltip\": [{\"type\": \"nominal\", \"field\": \"u_probability_description\", \"title\": \"u probability description\"}, {\"type\": \"nominal\", \"field\": \"comparison_name\", \"title\": \"Comparison column name\"}, {\"type\": \"ordinal\", \"field\": \"label_for_charts\", \"title\": \"Label\"}, {\"type\": \"nominal\", \"field\": \"sql_condition\", \"title\": \"SQL condition\"}, {\"type\": \"quantitative\", \"field\": \"m_probability\", \"format\": \".4p\", \"title\": \"m probability\"}, {\"type\": \"quantitative\", \"field\": \"u_probability\", \"format\": \".4p\", \"title\": \"u probability\"}, {\"type\": \"quantitative\", \"field\": \"bayes_factor\", \"title\": \"Bayes factor = m/u\", \"format\": \",.4f\"}, {\"type\": \"quantitative\", \"field\": \"log2_bayes_factor\", \"title\": \"Match weight = log2(m/u)\", \"format\": \",.4f\"}], \"color\": {\"value\": \"red\"}}, \"resolve\": {\"scale\": {\"y\": \"independent\"}}, \"transform\": [{\"filter\": \"(datum.bayes_factor != 'no-op filter2 due to vega lite issue 4680')\"}], \"width\": 150, \"height\": 50}], \"data\": {\"values\": [{\"comparison_name\": \"first_name\", \"sql_condition\": \"\\\"first_name_l\\\" = \\\"first_name_r\\\"\", \"label_for_charts\": \"Exact match\", \"m_probability\": 0.9999999999999999, \"u_probability\": 0.004286071939092783, \"m_probability_description\": \"Amongst matching record comparisons, 100.00% of records are in the exact match comparison level\", \"u_probability_description\": \"Amongst non-matching record comparisons, 0.43% of records are in the exact match comparison level\", \"has_tf_adjustments\": false, \"tf_adjustment_column\": null, \"tf_adjustment_weight\": 1.0, \"is_null_level\": false, \"bayes_factor\": 233.31386271870792, \"log2_bayes_factor\": 7.866128219691629, \"comparison_vector_value\": 3, \"max_comparison_vector_value\": 3, \"bayes_factor_description\": \"If comparison level is `exact match` then comparison is 233.31 times more likely to be a match\", \"probability_two_random_records_match\": 0.023863379364006104, \"comparison_sort_order\": 0, \"iteration\": 0}, {\"comparison_name\": \"first_name\", \"sql_condition\": \"levenshtein(\\\"first_name_l\\\", \\\"first_name_r\\\") <= 1\", \"label_for_charts\": \"levenshtein <= 1\", \"m_probability\": 5.962381534068642e-30, \"u_probability\": 0.0008722127553039419, \"m_probability_description\": \"Amongst matching record comparisons, 0.00% of records are in the levenshtein <= 1 comparison level\", \"u_probability_description\": \"Amongst non-matching record comparisons, 0.09% of records are in the levenshtein <= 1 comparison level\", \"has_tf_adjustments\": false, \"tf_adjustment_column\": null, \"tf_adjustment_weight\": 1.0, \"is_null_level\": false, \"bayes_factor\": 6.835925636046124e-27, \"log2_bayes_factor\": -86.91892185907741, \"comparison_vector_value\": 2, \"max_comparison_vector_value\": 3, \"bayes_factor_description\": \"If comparison level is `levenshtein <= 1` then comparison is  146,285,968,168,956,936,992,063,488.00 times less likely to be a match\", \"probability_two_random_records_match\": 0.023863379364006104, \"comparison_sort_order\": 0, \"iteration\": 0}, {\"comparison_name\": \"first_name\", \"sql_condition\": \"levenshtein(\\\"first_name_l\\\", \\\"first_name_r\\\") <= 2\", \"label_for_charts\": \"levenshtein <= 2\", \"m_probability\": 5.9692967687690625e-33, \"u_probability\": 0.004905619888296774, \"m_probability_description\": \"Amongst matching record comparisons, 0.00% of records are in the levenshtein <= 2 comparison level\", \"u_probability_description\": \"Amongst non-matching record comparisons, 0.49% of records are in the levenshtein <= 2 comparison level\", \"has_tf_adjustments\": false, \"tf_adjustment_column\": null, \"tf_adjustment_weight\": 1.0, \"is_null_level\": false, \"bayes_factor\": 1.216828230619718e-30, \"log2_bayes_factor\": -99.37471731728982, \"comparison_vector_value\": 1, \"max_comparison_vector_value\": 3, \"bayes_factor_description\": \"If comparison level is `levenshtein <= 2` then comparison is  821,808,678,362,689,150,323,966,083,072.00 times less likely to be a match\", \"probability_two_random_records_match\": 0.023863379364006104, \"comparison_sort_order\": 0, \"iteration\": 0}, {\"comparison_name\": \"first_name\", \"sql_condition\": \"ELSE\", \"label_for_charts\": \"All other comparisons\", \"m_probability\": 5.567598704031826e-17, \"u_probability\": 0.9899360954173065, \"m_probability_description\": \"Amongst matching record comparisons, 0.00% of records are in the all other comparisons comparison level\", \"u_probability_description\": \"Amongst non-matching record comparisons, 98.99% of records are in the all other comparisons comparison level\", \"has_tf_adjustments\": false, \"tf_adjustment_column\": null, \"tf_adjustment_weight\": 1.0, \"is_null_level\": false, \"bayes_factor\": 5.624200117366981e-17, \"log2_bayes_factor\": -53.98112968453592, \"comparison_vector_value\": 0, \"max_comparison_vector_value\": 3, \"bayes_factor_description\": \"If comparison level is `all other comparisons` then comparison is  17,780,306,161,441,476.00 times less likely to be a match\", \"probability_two_random_records_match\": 0.023863379364006104, \"comparison_sort_order\": 0, \"iteration\": 0}, {\"comparison_name\": \"last_name\", \"sql_condition\": \"\\\"last_name_l\\\" = \\\"last_name_r\\\"\", \"label_for_charts\": \"Exact match\", \"m_probability\": 0.9985400986111483, \"u_probability\": 0.0019071001117955237, \"m_probability_description\": \"Amongst matching record comparisons, 99.85% of records are in the exact match comparison level\", \"u_probability_description\": \"Amongst non-matching record comparisons, 0.19% of records are in the exact match comparison level\", \"has_tf_adjustments\": false, \"tf_adjustment_column\": null, \"tf_adjustment_weight\": 1.0, \"is_null_level\": false, \"bayes_factor\": 523.5908133165744, \"log2_bayes_factor\": 9.032295974416758, \"comparison_vector_value\": 3, \"max_comparison_vector_value\": 3, \"bayes_factor_description\": \"If comparison level is `exact match` then comparison is 523.59 times more likely to be a match\", \"probability_two_random_records_match\": 0.023863379364006104, \"comparison_sort_order\": 1, \"iteration\": 0}, {\"comparison_name\": \"last_name\", \"sql_condition\": \"levenshtein(\\\"last_name_l\\\", \\\"last_name_r\\\") <= 1\", \"label_for_charts\": \"levenshtein <= 1\", \"m_probability\": 2.1222691963671343e-109, \"u_probability\": 0.00025843340897894573, \"m_probability_description\": \"Amongst matching record comparisons, 0.00% of records are in the levenshtein <= 1 comparison level\", \"u_probability_description\": \"Amongst non-matching record comparisons, 0.03% of records are in the levenshtein <= 1 comparison level\", \"has_tf_adjustments\": false, \"tf_adjustment_column\": null, \"tf_adjustment_weight\": 1.0, \"is_null_level\": false, \"bayes_factor\": 8.21205433443024e-106, \"log2_bayes_factor\": -349.08663488510075, \"comparison_vector_value\": 2, \"max_comparison_vector_value\": 3, \"bayes_factor_description\": \"If comparison level is `levenshtein <= 1` then comparison is  1,217,722,093,980,008,750,623,933,439,042,080,446,863,717,230,190,016,539,182,301,315,223,374,997,656,227,679,593,019,998,123,410,619,105,280.00 times less likely to be a match\", \"probability_two_random_records_match\": 0.023863379364006104, \"comparison_sort_order\": 1, \"iteration\": 0}, {\"comparison_name\": \"last_name\", \"sql_condition\": \"levenshtein(\\\"last_name_l\\\", \\\"last_name_r\\\") <= 2\", \"label_for_charts\": \"levenshtein <= 2\", \"m_probability\": 1.7297646361562113e-12, \"u_probability\": 0.0019197910381293112, \"m_probability_description\": \"Amongst matching record comparisons, 0.00% of records are in the levenshtein <= 2 comparison level\", \"u_probability_description\": \"Amongst non-matching record comparisons, 0.19% of records are in the levenshtein <= 2 comparison level\", \"has_tf_adjustments\": false, \"tf_adjustment_column\": null, \"tf_adjustment_weight\": 1.0, \"is_null_level\": false, \"bayes_factor\": 9.010171429082896e-10, \"log2_bayes_factor\": -30.047726393607842, \"comparison_vector_value\": 1, \"max_comparison_vector_value\": 3, \"bayes_factor_description\": \"If comparison level is `levenshtein <= 2` then comparison is  1,109,856,796.70 times less likely to be a match\", \"probability_two_random_records_match\": 0.023863379364006104, \"comparison_sort_order\": 1, \"iteration\": 0}, {\"comparison_name\": \"last_name\", \"sql_condition\": \"ELSE\", \"label_for_charts\": \"All other comparisons\", \"m_probability\": 0.001459901387121887, \"u_probability\": 0.9959146754410962, \"m_probability_description\": \"Amongst matching record comparisons, 0.15% of records are in the all other comparisons comparison level\", \"u_probability_description\": \"Amongst non-matching record comparisons, 99.59% of records are in the all other comparisons comparison level\", \"has_tf_adjustments\": false, \"tf_adjustment_column\": null, \"tf_adjustment_weight\": 1.0, \"is_null_level\": false, \"bayes_factor\": 0.0014658900236360997, \"log2_bayes_factor\": -9.414007413322953, \"comparison_vector_value\": 0, \"max_comparison_vector_value\": 3, \"bayes_factor_description\": \"If comparison level is `all other comparisons` then comparison is  682.18 times less likely to be a match\", \"probability_two_random_records_match\": 0.023863379364006104, \"comparison_sort_order\": 1, \"iteration\": 0}, {\"comparison_name\": \"sex\", \"sql_condition\": \"\\\"sex_l\\\" = \\\"sex_r\\\"\", \"label_for_charts\": \"Exact match\", \"m_probability\": 1.0, \"u_probability\": 0.5030740884742161, \"m_probability_description\": \"Amongst matching record comparisons, 100.00% of records are in the exact match comparison level\", \"u_probability_description\": \"Amongst non-matching record comparisons, 50.31% of records are in the exact match comparison level\", \"has_tf_adjustments\": false, \"tf_adjustment_column\": null, \"tf_adjustment_weight\": 1.0, \"is_null_level\": false, \"bayes_factor\": 1.9877787842997856, \"log2_bayes_factor\": 0.9911572113511078, \"comparison_vector_value\": 1, \"max_comparison_vector_value\": 1, \"bayes_factor_description\": \"If comparison level is `exact match` then comparison is 1.99 times more likely to be a match\", \"probability_two_random_records_match\": 0.023863379364006104, \"comparison_sort_order\": 2, \"iteration\": 0}, {\"comparison_name\": \"sex\", \"sql_condition\": \"ELSE\", \"label_for_charts\": \"All other comparisons\", \"m_probability\": 3.832993450438251e-63, \"u_probability\": 0.4969259115257839, \"m_probability_description\": \"Amongst matching record comparisons, 0.00% of records are in the all other comparisons comparison level\", \"u_probability_description\": \"Amongst non-matching record comparisons, 49.69% of records are in the all other comparisons comparison level\", \"has_tf_adjustments\": false, \"tf_adjustment_column\": null, \"tf_adjustment_weight\": 1.0, \"is_null_level\": false, \"bayes_factor\": 7.713410312352708e-63, \"log2_bayes_factor\": -206.3341011212764, \"comparison_vector_value\": 0, \"max_comparison_vector_value\": 1, \"bayes_factor_description\": \"If comparison level is `all other comparisons` then comparison is  129,644,341,413,880,360,008,806,382,778,747,565,429,854,437,267,758,358,760,259,584.00 times less likely to be a match\", \"probability_two_random_records_match\": 0.023863379364006104, \"comparison_sort_order\": 2, \"iteration\": 0}, {\"comparison_name\": \"age\", \"sql_condition\": \"round(age_r) - round(age_l) = 10\", \"label_for_charts\": \"Exact match\", \"m_probability\": 0.7795196417864991, \"u_probability\": 0.010308493344762859, \"m_probability_description\": \"Amongst matching record comparisons, 77.95% of records are in the exact match comparison level\", \"u_probability_description\": \"Amongst non-matching record comparisons, 1.03% of records are in the exact match comparison level\", \"has_tf_adjustments\": false, \"tf_adjustment_column\": null, \"tf_adjustment_weight\": 1.0, \"is_null_level\": false, \"bayes_factor\": 75.61916331667686, \"log2_bayes_factor\": 6.240679981695201, \"comparison_vector_value\": 2, \"max_comparison_vector_value\": 2, \"bayes_factor_description\": \"If comparison level is `exact match` then comparison is 75.62 times more likely to be a match\", \"probability_two_random_records_match\": 0.023863379364006104, \"comparison_sort_order\": 3, \"iteration\": 0}, {\"comparison_name\": \"age\", \"sql_condition\": \"abs(round(age_r) - (round(age_l)+10)) = 1\", \"label_for_charts\": \"Age within 1 year\", \"m_probability\": 0.05611809391533716, \"u_probability\": 0.02064582970392069, \"m_probability_description\": \"Amongst matching record comparisons, 5.61% of records are in the age within 1 year comparison level\", \"u_probability_description\": \"Amongst non-matching record comparisons, 2.06% of records are in the age within 1 year comparison level\", \"has_tf_adjustments\": false, \"tf_adjustment_column\": null, \"tf_adjustment_weight\": 1.0, \"is_null_level\": false, \"bayes_factor\": 2.718132171005954, \"log2_bayes_factor\": 1.442615609828164, \"comparison_vector_value\": 1, \"max_comparison_vector_value\": 2, \"bayes_factor_description\": \"If comparison level is `age within 1 year` then comparison is 2.72 times more likely to be a match\", \"probability_two_random_records_match\": 0.023863379364006104, \"comparison_sort_order\": 3, \"iteration\": 0}, {\"comparison_name\": \"age\", \"sql_condition\": \"ELSE\", \"label_for_charts\": \"Age difference >= 2 years\", \"m_probability\": 0.16436226429816364, \"u_probability\": 0.9690456769513165, \"m_probability_description\": \"Amongst matching record comparisons, 16.44% of records are in the age difference >= 2 years comparison level\", \"u_probability_description\": \"Amongst non-matching record comparisons, 96.90% of records are in the age difference >= 2 years comparison level\", \"has_tf_adjustments\": false, \"tf_adjustment_column\": null, \"tf_adjustment_weight\": 1.0, \"is_null_level\": false, \"bayes_factor\": 0.16961250455732746, \"log2_bayes_factor\": -2.5596855594330314, \"comparison_vector_value\": 0, \"max_comparison_vector_value\": 2, \"bayes_factor_description\": \"If comparison level is `age difference >= 2 years` then comparison is  5.90 times less likely to be a match\", \"probability_two_random_records_match\": 0.023863379364006104, \"comparison_sort_order\": 3, \"iteration\": 0}, {\"comparison_name\": \"first_name\", \"sql_condition\": \"\\\"first_name_l\\\" = \\\"first_name_r\\\"\", \"label_for_charts\": \"Exact match\", \"m_probability\": 1.0, \"u_probability\": 0.004286071939092783, \"m_probability_description\": \"Amongst matching record comparisons, 100.00% of records are in the exact match comparison level\", \"u_probability_description\": \"Amongst non-matching record comparisons, 0.43% of records are in the exact match comparison level\", \"has_tf_adjustments\": false, \"tf_adjustment_column\": null, \"tf_adjustment_weight\": 1.0, \"is_null_level\": false, \"bayes_factor\": 233.31386271870795, \"log2_bayes_factor\": 7.866128219691629, \"comparison_vector_value\": 3, \"max_comparison_vector_value\": 3, \"bayes_factor_description\": \"If comparison level is `exact match` then comparison is 233.31 times more likely to be a match\", \"probability_two_random_records_match\": 0.023863379364006104, \"comparison_sort_order\": 0, \"iteration\": 1}, {\"comparison_name\": \"first_name\", \"sql_condition\": \"levenshtein(\\\"first_name_l\\\", \\\"first_name_r\\\") <= 1\", \"label_for_charts\": \"levenshtein <= 1\", \"m_probability\": 8.229965112770559e-35, \"u_probability\": 0.0008722127553039419, \"m_probability_description\": \"Amongst matching record comparisons, 0.00% of records are in the levenshtein <= 1 comparison level\", \"u_probability_description\": \"Amongst non-matching record comparisons, 0.09% of records are in the levenshtein <= 1 comparison level\", \"has_tf_adjustments\": false, \"tf_adjustment_column\": null, \"tf_adjustment_weight\": 1.0, \"is_null_level\": false, \"bayes_factor\": 9.43573120517212e-32, \"log2_bayes_factor\": -103.06356471515699, \"comparison_vector_value\": 2, \"max_comparison_vector_value\": 3, \"bayes_factor_description\": \"If comparison level is `levenshtein <= 1` then comparison is  10,598,012,790,485,786,204,101,012,357,120.00 times less likely to be a match\", \"probability_two_random_records_match\": 0.023863379364006104, \"comparison_sort_order\": 0, \"iteration\": 1}, {\"comparison_name\": \"first_name\", \"sql_condition\": \"levenshtein(\\\"first_name_l\\\", \\\"first_name_r\\\") <= 2\", \"label_for_charts\": \"levenshtein <= 2\", \"m_probability\": 4.175508188043409e-38, \"u_probability\": 0.004905619888296774, \"m_probability_description\": \"Amongst matching record comparisons, 0.00% of records are in the levenshtein <= 2 comparison level\", \"u_probability_description\": \"Amongst non-matching record comparisons, 0.49% of records are in the levenshtein <= 2 comparison level\", \"has_tf_adjustments\": false, \"tf_adjustment_column\": null, \"tf_adjustment_weight\": 1.0, \"is_null_level\": false, \"bayes_factor\": 8.511683096370399e-36, \"log2_bayes_factor\": -116.49996697795908, \"comparison_vector_value\": 1, \"max_comparison_vector_value\": 3, \"bayes_factor_description\": \"If comparison level is `levenshtein <= 2` then comparison is  117,485,577,021,356,189,852,945,120,757,809,152.00 times less likely to be a match\", \"probability_two_random_records_match\": 0.023863379364006104, \"comparison_sort_order\": 0, \"iteration\": 1}, {\"comparison_name\": \"first_name\", \"sql_condition\": \"ELSE\", \"label_for_charts\": \"All other comparisons\", \"m_probability\": 1.6724469694564224e-20, \"u_probability\": 0.9899360954173065, \"m_probability_description\": \"Amongst matching record comparisons, 0.00% of records are in the all other comparisons comparison level\", \"u_probability_description\": \"Amongst non-matching record comparisons, 98.99% of records are in the all other comparisons comparison level\", \"has_tf_adjustments\": false, \"tf_adjustment_column\": null, \"tf_adjustment_weight\": 1.0, \"is_null_level\": false, \"bayes_factor\": 1.6894494272899547e-20, \"log2_bayes_factor\": -65.68200873285666, \"comparison_vector_value\": 0, \"max_comparison_vector_value\": 3, \"bayes_factor_description\": \"If comparison level is `all other comparisons` then comparison is  59,190,880,996,307,755,008.00 times less likely to be a match\", \"probability_two_random_records_match\": 0.023863379364006104, \"comparison_sort_order\": 0, \"iteration\": 1}, {\"comparison_name\": \"last_name\", \"sql_condition\": \"\\\"last_name_l\\\" = \\\"last_name_r\\\"\", \"label_for_charts\": \"Exact match\", \"m_probability\": 0.9999849215735992, \"u_probability\": 0.0019071001117955237, \"m_probability_description\": \"Amongst matching record comparisons, 100.00% of records are in the exact match comparison level\", \"u_probability_description\": \"Amongst non-matching record comparisons, 0.19% of records are in the exact match comparison level\", \"has_tf_adjustments\": false, \"tf_adjustment_column\": null, \"tf_adjustment_weight\": 1.0, \"is_null_level\": false, \"bayes_factor\": 524.3484153708738, \"log2_bayes_factor\": 9.034381952090275, \"comparison_vector_value\": 3, \"max_comparison_vector_value\": 3, \"bayes_factor_description\": \"If comparison level is `exact match` then comparison is 524.35 times more likely to be a match\", \"probability_two_random_records_match\": 0.023863379364006104, \"comparison_sort_order\": 1, \"iteration\": 1}, {\"comparison_name\": \"last_name\", \"sql_condition\": \"levenshtein(\\\"last_name_l\\\", \\\"last_name_r\\\") <= 1\", \"label_for_charts\": \"levenshtein <= 1\", \"m_probability\": 5.651751688477298e-129, \"u_probability\": 0.00025843340897894573, \"m_probability_description\": \"Amongst matching record comparisons, 0.00% of records are in the levenshtein <= 1 comparison level\", \"u_probability_description\": \"Amongst non-matching record comparisons, 0.03% of records are in the levenshtein <= 1 comparison level\", \"has_tf_adjustments\": false, \"tf_adjustment_column\": null, \"tf_adjustment_weight\": 1.0, \"is_null_level\": false, \"bayes_factor\": 2.186927654132264e-125, \"log2_bayes_factor\": -414.11210636561475, \"comparison_vector_value\": 2, \"max_comparison_vector_value\": 3, \"bayes_factor_description\": \"If comparison level is `levenshtein <= 1` then comparison is  45,726,249,705,172,949,246,537,740,705,897,582,190,182,820,167,850,085,733,088,804,741,405,015,308,098,695,942,492,416,082,521,864,586,836,219,216,992,687,091,613,696.00 times less likely to be a match\", \"probability_two_random_records_match\": 0.023863379364006104, \"comparison_sort_order\": 1, \"iteration\": 1}, {\"comparison_name\": \"last_name\", \"sql_condition\": \"levenshtein(\\\"last_name_l\\\", \\\"last_name_r\\\") <= 2\", \"label_for_charts\": \"levenshtein <= 2\", \"m_probability\": 1.7149554086901018e-15, \"u_probability\": 0.0019197910381293112, \"m_probability_description\": \"Amongst matching record comparisons, 0.00% of records are in the levenshtein <= 2 comparison level\", \"u_probability_description\": \"Amongst non-matching record comparisons, 0.19% of records are in the levenshtein <= 2 comparison level\", \"has_tf_adjustments\": false, \"tf_adjustment_column\": null, \"tf_adjustment_weight\": 1.0, \"is_null_level\": false, \"bayes_factor\": 8.933031640574768e-13, \"log2_bayes_factor\": -40.025915361596496, \"comparison_vector_value\": 1, \"max_comparison_vector_value\": 3, \"bayes_factor_description\": \"If comparison level is `levenshtein <= 2` then comparison is  1,119,440,790,355.98 times less likely to be a match\", \"probability_two_random_records_match\": 0.023863379364006104, \"comparison_sort_order\": 1, \"iteration\": 1}, {\"comparison_name\": \"last_name\", \"sql_condition\": \"ELSE\", \"label_for_charts\": \"All other comparisons\", \"m_probability\": 1.5078426399161167e-05, \"u_probability\": 0.9959146754410962, \"m_probability_description\": \"Amongst matching record comparisons, 0.00% of records are in the all other comparisons comparison level\", \"u_probability_description\": \"Amongst non-matching record comparisons, 99.59% of records are in the all other comparisons comparison level\", \"has_tf_adjustments\": false, \"tf_adjustment_column\": null, \"tf_adjustment_weight\": 1.0, \"is_null_level\": false, \"bayes_factor\": 1.514027935423569e-05, \"log2_bayes_factor\": -16.01124864961169, \"comparison_vector_value\": 0, \"max_comparison_vector_value\": 3, \"bayes_factor_description\": \"If comparison level is `all other comparisons` then comparison is  66,048.98 times less likely to be a match\", \"probability_two_random_records_match\": 0.023863379364006104, \"comparison_sort_order\": 1, \"iteration\": 1}, {\"comparison_name\": \"sex\", \"sql_condition\": \"\\\"sex_l\\\" = \\\"sex_r\\\"\", \"label_for_charts\": \"Exact match\", \"m_probability\": 1.0, \"u_probability\": 0.5030740884742161, \"m_probability_description\": \"Amongst matching record comparisons, 100.00% of records are in the exact match comparison level\", \"u_probability_description\": \"Amongst non-matching record comparisons, 50.31% of records are in the exact match comparison level\", \"has_tf_adjustments\": false, \"tf_adjustment_column\": null, \"tf_adjustment_weight\": 1.0, \"is_null_level\": false, \"bayes_factor\": 1.9877787842997856, \"log2_bayes_factor\": 0.9911572113511078, \"comparison_vector_value\": 1, \"max_comparison_vector_value\": 1, \"bayes_factor_description\": \"If comparison level is `exact match` then comparison is 1.99 times more likely to be a match\", \"probability_two_random_records_match\": 0.023863379364006104, \"comparison_sort_order\": 2, \"iteration\": 1}, {\"comparison_name\": \"sex\", \"sql_condition\": \"ELSE\", \"label_for_charts\": \"All other comparisons\", \"m_probability\": 1.0826785945771624e-71, \"u_probability\": 0.4969259115257839, \"m_probability_description\": \"Amongst matching record comparisons, 0.00% of records are in the all other comparisons comparison level\", \"u_probability_description\": \"Amongst non-matching record comparisons, 49.69% of records are in the all other comparisons comparison level\", \"has_tf_adjustments\": false, \"tf_adjustment_column\": null, \"tf_adjustment_weight\": 1.0, \"is_null_level\": false, \"bayes_factor\": 2.1787525453298597e-71, \"log2_bayes_factor\": -234.73339238722085, \"comparison_vector_value\": 0, \"max_comparison_vector_value\": 1, \"bayes_factor_description\": \"If comparison level is `all other comparisons` then comparison is  45,897,823,602,937,045,513,625,796,717,602,274,880,586,632,816,871,136,734,543,939,343,745,024.00 times less likely to be a match\", \"probability_two_random_records_match\": 0.023863379364006104, \"comparison_sort_order\": 2, \"iteration\": 1}, {\"comparison_name\": \"age\", \"sql_condition\": \"round(age_r) - round(age_l) = 10\", \"label_for_charts\": \"Exact match\", \"m_probability\": 0.8061405791782618, \"u_probability\": 0.010308493344762859, \"m_probability_description\": \"Amongst matching record comparisons, 80.61% of records are in the exact match comparison level\", \"u_probability_description\": \"Amongst non-matching record comparisons, 1.03% of records are in the exact match comparison level\", \"has_tf_adjustments\": false, \"tf_adjustment_column\": null, \"tf_adjustment_weight\": 1.0, \"is_null_level\": false, \"bayes_factor\": 78.20159088406595, \"log2_bayes_factor\": 6.289126052000639, \"comparison_vector_value\": 2, \"max_comparison_vector_value\": 2, \"bayes_factor_description\": \"If comparison level is `exact match` then comparison is 78.20 times more likely to be a match\", \"probability_two_random_records_match\": 0.023863379364006104, \"comparison_sort_order\": 3, \"iteration\": 1}, {\"comparison_name\": \"age\", \"sql_condition\": \"abs(round(age_r) - (round(age_l)+10)) = 1\", \"label_for_charts\": \"Age within 1 year\", \"m_probability\": 0.056974760219110826, \"u_probability\": 0.02064582970392069, \"m_probability_description\": \"Amongst matching record comparisons, 5.70% of records are in the age within 1 year comparison level\", \"u_probability_description\": \"Amongst non-matching record comparisons, 2.06% of records are in the age within 1 year comparison level\", \"has_tf_adjustments\": false, \"tf_adjustment_column\": null, \"tf_adjustment_weight\": 1.0, \"is_null_level\": false, \"bayes_factor\": 2.7596256016919094, \"log2_bayes_factor\": 1.4644725498942759, \"comparison_vector_value\": 1, \"max_comparison_vector_value\": 2, \"bayes_factor_description\": \"If comparison level is `age within 1 year` then comparison is 2.76 times more likely to be a match\", \"probability_two_random_records_match\": 0.023863379364006104, \"comparison_sort_order\": 3, \"iteration\": 1}, {\"comparison_name\": \"age\", \"sql_condition\": \"ELSE\", \"label_for_charts\": \"Age difference >= 2 years\", \"m_probability\": 0.13688466060262752, \"u_probability\": 0.9690456769513165, \"m_probability_description\": \"Amongst matching record comparisons, 13.69% of records are in the age difference >= 2 years comparison level\", \"u_probability_description\": \"Amongst non-matching record comparisons, 96.90% of records are in the age difference >= 2 years comparison level\", \"has_tf_adjustments\": false, \"tf_adjustment_column\": null, \"tf_adjustment_weight\": 1.0, \"is_null_level\": false, \"bayes_factor\": 0.14125718101676688, \"log2_bayes_factor\": -2.823603883968809, \"comparison_vector_value\": 0, \"max_comparison_vector_value\": 2, \"bayes_factor_description\": \"If comparison level is `age difference >= 2 years` then comparison is  7.08 times less likely to be a match\", \"probability_two_random_records_match\": 0.023863379364006104, \"comparison_sort_order\": 3, \"iteration\": 1}, {\"comparison_name\": \"first_name\", \"sql_condition\": \"\\\"first_name_l\\\" = \\\"first_name_r\\\"\", \"label_for_charts\": \"Exact match\", \"m_probability\": 1.0, \"u_probability\": 0.004286071939092783, \"m_probability_description\": \"Amongst matching record comparisons, 100.00% of records are in the exact match comparison level\", \"u_probability_description\": \"Amongst non-matching record comparisons, 0.43% of records are in the exact match comparison level\", \"has_tf_adjustments\": false, \"tf_adjustment_column\": null, \"tf_adjustment_weight\": 1.0, \"is_null_level\": false, \"bayes_factor\": 233.31386271870795, \"log2_bayes_factor\": 7.866128219691629, \"comparison_vector_value\": 3, \"max_comparison_vector_value\": 3, \"bayes_factor_description\": \"If comparison level is `exact match` then comparison is 233.31 times more likely to be a match\", \"probability_two_random_records_match\": 0.023863379364006104, \"comparison_sort_order\": 0, \"iteration\": 2}, {\"comparison_name\": \"first_name\", \"sql_condition\": \"levenshtein(\\\"first_name_l\\\", \\\"first_name_r\\\") <= 1\", \"label_for_charts\": \"levenshtein <= 1\", \"m_probability\": 2.7320756348153615e-39, \"u_probability\": 0.0008722127553039419, \"m_probability_description\": \"Amongst matching record comparisons, 0.00% of records are in the levenshtein <= 1 comparison level\", \"u_probability_description\": \"Amongst non-matching record comparisons, 0.09% of records are in the levenshtein <= 1 comparison level\", \"has_tf_adjustments\": false, \"tf_adjustment_column\": null, \"tf_adjustment_weight\": 1.0, \"is_null_level\": false, \"bayes_factor\": 3.13235001231243e-36, \"log2_bayes_factor\": -117.94216598594257, \"comparison_vector_value\": 2, \"max_comparison_vector_value\": 3, \"bayes_factor_description\": \"If comparison level is `levenshtein <= 1` then comparison is  319,249,124,800,634,483,838,954,430,657,462,272.00 times less likely to be a match\", \"probability_two_random_records_match\": 0.023863379364006104, \"comparison_sort_order\": 0, \"iteration\": 2}, {\"comparison_name\": \"first_name\", \"sql_condition\": \"levenshtein(\\\"first_name_l\\\", \\\"first_name_r\\\") <= 2\", \"label_for_charts\": \"levenshtein <= 2\", \"m_probability\": 6.890719086171335e-43, \"u_probability\": 0.004905619888296774, \"m_probability_description\": \"Amongst matching record comparisons, 0.00% of records are in the levenshtein <= 2 comparison level\", \"u_probability_description\": \"Amongst non-matching record comparisons, 0.49% of records are in the levenshtein <= 2 comparison level\", \"has_tf_adjustments\": false, \"tf_adjustment_column\": null, \"tf_adjustment_weight\": 1.0, \"is_null_level\": false, \"bayes_factor\": 1.4046581763520585e-40, \"log2_bayes_factor\": -132.38690470225868, \"comparison_vector_value\": 1, \"max_comparison_vector_value\": 3, \"bayes_factor_description\": \"If comparison level is `levenshtein <= 2` then comparison is  7,119,169,751,298,721,331,036,713,492,892,312,666,112.00 times less likely to be a match\", \"probability_two_random_records_match\": 0.023863379364006104, \"comparison_sort_order\": 0, \"iteration\": 2}, {\"comparison_name\": \"first_name\", \"sql_condition\": \"ELSE\", \"label_for_charts\": \"All other comparisons\", \"m_probability\": 9.833104227903194e-22, \"u_probability\": 0.9899360954173065, \"m_probability_description\": \"Amongst matching record comparisons, 0.00% of records are in the all other comparisons comparison level\", \"u_probability_description\": \"Amongst non-matching record comparisons, 98.99% of records are in the all other comparisons comparison level\", \"has_tf_adjustments\": false, \"tf_adjustment_column\": null, \"tf_adjustment_weight\": 1.0, \"is_null_level\": false, \"bayes_factor\": 9.933069693511942e-22, \"log2_bayes_factor\": -69.77017845363247, \"comparison_vector_value\": 0, \"max_comparison_vector_value\": 3, \"bayes_factor_description\": \"If comparison level is `all other comparisons` then comparison is  1,006,738,129,153,747,451,904.00 times less likely to be a match\", \"probability_two_random_records_match\": 0.023863379364006104, \"comparison_sort_order\": 0, \"iteration\": 2}, {\"comparison_name\": \"last_name\", \"sql_condition\": \"\\\"last_name_l\\\" = \\\"last_name_r\\\"\", \"label_for_charts\": \"Exact match\", \"m_probability\": 0.9999641488363049, \"u_probability\": 0.0019071001117955237, \"m_probability_description\": \"Amongst matching record comparisons, 100.00% of records are in the exact match comparison level\", \"u_probability_description\": \"Amongst non-matching record comparisons, 0.19% of records are in the exact match comparison level\", \"has_tf_adjustments\": false, \"tf_adjustment_column\": null, \"tf_adjustment_weight\": 1.0, \"is_null_level\": false, \"bayes_factor\": 524.3375230547517, \"log2_bayes_factor\": 9.034351982602026, \"comparison_vector_value\": 3, \"max_comparison_vector_value\": 3, \"bayes_factor_description\": \"If comparison level is `exact match` then comparison is 524.34 times more likely to be a match\", \"probability_two_random_records_match\": 0.023863379364006104, \"comparison_sort_order\": 1, \"iteration\": 2}, {\"comparison_name\": \"last_name\", \"sql_condition\": \"levenshtein(\\\"last_name_l\\\", \\\"last_name_r\\\") <= 1\", \"label_for_charts\": \"levenshtein <= 1\", \"m_probability\": 8.597069734827892e-150, \"u_probability\": 0.00025843340897894573, \"m_probability_description\": \"Amongst matching record comparisons, 0.00% of records are in the levenshtein <= 1 comparison level\", \"u_probability_description\": \"Amongst non-matching record comparisons, 0.03% of records are in the levenshtein <= 1 comparison level\", \"has_tf_adjustments\": false, \"tf_adjustment_column\": null, \"tf_adjustment_weight\": 1.0, \"is_null_level\": false, \"bayes_factor\": 3.3266092680487316e-146, \"log2_bayes_factor\": -483.2674494313235, \"comparison_vector_value\": 2, \"max_comparison_vector_value\": 3, \"bayes_factor_description\": \"If comparison level is `levenshtein <= 1` then comparison is  30,060,638,909,557,411,576,131,089,197,742,395,597,208,421,918,423,514,435,173,757,229,466,659,771,569,083,784,564,094,476,070,318,219,358,275,494,483,703,678,626,920,153,851,992,469,305,032,704.00 times less likely to be a match\", \"probability_two_random_records_match\": 0.023863379364006104, \"comparison_sort_order\": 1, \"iteration\": 2}, {\"comparison_name\": \"last_name\", \"sql_condition\": \"levenshtein(\\\"last_name_l\\\", \\\"last_name_r\\\") <= 2\", \"label_for_charts\": \"levenshtein <= 2\", \"m_probability\": 3.2330989331918264e-16, \"u_probability\": 0.0019197910381293112, \"m_probability_description\": \"Amongst matching record comparisons, 0.00% of records are in the levenshtein <= 2 comparison level\", \"u_probability_description\": \"Amongst non-matching record comparisons, 0.19% of records are in the levenshtein <= 2 comparison level\", \"has_tf_adjustments\": false, \"tf_adjustment_column\": null, \"tf_adjustment_weight\": 1.0, \"is_null_level\": false, \"bayes_factor\": 1.6840889810290149e-13, \"log2_bayes_factor\": -42.43309686645096, \"comparison_vector_value\": 1, \"max_comparison_vector_value\": 3, \"bayes_factor_description\": \"If comparison level is `levenshtein <= 2` then comparison is  5,937,928,525,540.13 times less likely to be a match\", \"probability_two_random_records_match\": 0.023863379364006104, \"comparison_sort_order\": 1, \"iteration\": 2}, {\"comparison_name\": \"last_name\", \"sql_condition\": \"ELSE\", \"label_for_charts\": \"All other comparisons\", \"m_probability\": 3.585116369485465e-05, \"u_probability\": 0.9959146754410962, \"m_probability_description\": \"Amongst matching record comparisons, 0.00% of records are in the all other comparisons comparison level\", \"u_probability_description\": \"Amongst non-matching record comparisons, 99.59% of records are in the all other comparisons comparison level\", \"has_tf_adjustments\": false, \"tf_adjustment_column\": null, \"tf_adjustment_weight\": 1.0, \"is_null_level\": false, \"bayes_factor\": 3.5998228140353455e-05, \"log2_bayes_factor\": -14.761714576660598, \"comparison_vector_value\": 0, \"max_comparison_vector_value\": 3, \"bayes_factor_description\": \"If comparison level is `all other comparisons` then comparison is  27,779.15 times less likely to be a match\", \"probability_two_random_records_match\": 0.023863379364006104, \"comparison_sort_order\": 1, \"iteration\": 2}, {\"comparison_name\": \"sex\", \"sql_condition\": \"\\\"sex_l\\\" = \\\"sex_r\\\"\", \"label_for_charts\": \"Exact match\", \"m_probability\": 1.0, \"u_probability\": 0.5030740884742161, \"m_probability_description\": \"Amongst matching record comparisons, 100.00% of records are in the exact match comparison level\", \"u_probability_description\": \"Amongst non-matching record comparisons, 50.31% of records are in the exact match comparison level\", \"has_tf_adjustments\": false, \"tf_adjustment_column\": null, \"tf_adjustment_weight\": 1.0, \"is_null_level\": false, \"bayes_factor\": 1.9877787842997856, \"log2_bayes_factor\": 0.9911572113511078, \"comparison_vector_value\": 1, \"max_comparison_vector_value\": 1, \"bayes_factor_description\": \"If comparison level is `exact match` then comparison is 1.99 times more likely to be a match\", \"probability_two_random_records_match\": 0.023863379364006104, \"comparison_sort_order\": 2, \"iteration\": 2}, {\"comparison_name\": \"sex\", \"sql_condition\": \"ELSE\", \"label_for_charts\": \"All other comparisons\", \"m_probability\": 6.006118090350432e-80, \"u_probability\": 0.4969259115257839, \"m_probability_description\": \"Amongst matching record comparisons, 0.00% of records are in the all other comparisons comparison level\", \"u_probability_description\": \"Amongst non-matching record comparisons, 49.69% of records are in the all other comparisons comparison level\", \"has_tf_adjustments\": false, \"tf_adjustment_column\": null, \"tf_adjustment_weight\": 1.0, \"is_null_level\": false, \"bayes_factor\": 1.2086546406704721e-79, \"log2_bayes_factor\": -262.1589174263447, \"comparison_vector_value\": 0, \"max_comparison_vector_value\": 1, \"bayes_factor_description\": \"If comparison level is `all other comparisons` then comparison is  8,273,662,023,464,982,999,555,691,624,944,342,976,113,459,667,004,299,191,318,616,008,317,348,412,915,712.00 times less likely to be a match\", \"probability_two_random_records_match\": 0.023863379364006104, \"comparison_sort_order\": 2, \"iteration\": 2}, {\"comparison_name\": \"age\", \"sql_condition\": \"round(age_r) - round(age_l) = 10\", \"label_for_charts\": \"Exact match\", \"m_probability\": 0.7798113780970438, \"u_probability\": 0.010308493344762859, \"m_probability_description\": \"Amongst matching record comparisons, 77.98% of records are in the exact match comparison level\", \"u_probability_description\": \"Amongst non-matching record comparisons, 1.03% of records are in the exact match comparison level\", \"has_tf_adjustments\": false, \"tf_adjustment_column\": null, \"tf_adjustment_weight\": 1.0, \"is_null_level\": false, \"bayes_factor\": 75.64746389376293, \"log2_bayes_factor\": 6.241219811311894, \"comparison_vector_value\": 2, \"max_comparison_vector_value\": 2, \"bayes_factor_description\": \"If comparison level is `exact match` then comparison is 75.65 times more likely to be a match\", \"probability_two_random_records_match\": 0.023863379364006104, \"comparison_sort_order\": 3, \"iteration\": 2}, {\"comparison_name\": \"age\", \"sql_condition\": \"abs(round(age_r) - (round(age_l)+10)) = 1\", \"label_for_charts\": \"Age within 1 year\", \"m_probability\": 0.05591583343216517, \"u_probability\": 0.02064582970392069, \"m_probability_description\": \"Amongst matching record comparisons, 5.59% of records are in the age within 1 year comparison level\", \"u_probability_description\": \"Amongst non-matching record comparisons, 2.06% of records are in the age within 1 year comparison level\", \"has_tf_adjustments\": false, \"tf_adjustment_column\": null, \"tf_adjustment_weight\": 1.0, \"is_null_level\": false, \"bayes_factor\": 2.7083354960322388, \"log2_bayes_factor\": 1.4374064643492948, \"comparison_vector_value\": 1, \"max_comparison_vector_value\": 2, \"bayes_factor_description\": \"If comparison level is `age within 1 year` then comparison is 2.71 times more likely to be a match\", \"probability_two_random_records_match\": 0.023863379364006104, \"comparison_sort_order\": 3, \"iteration\": 2}, {\"comparison_name\": \"age\", \"sql_condition\": \"ELSE\", \"label_for_charts\": \"Age difference >= 2 years\", \"m_probability\": 0.16427278847079096, \"u_probability\": 0.9690456769513165, \"m_probability_description\": \"Amongst matching record comparisons, 16.43% of records are in the age difference >= 2 years comparison level\", \"u_probability_description\": \"Amongst non-matching record comparisons, 96.90% of records are in the age difference >= 2 years comparison level\", \"has_tf_adjustments\": false, \"tf_adjustment_column\": null, \"tf_adjustment_weight\": 1.0, \"is_null_level\": false, \"bayes_factor\": 0.16952017059464555, \"log2_bayes_factor\": -2.560471150224592, \"comparison_vector_value\": 0, \"max_comparison_vector_value\": 2, \"bayes_factor_description\": \"If comparison level is `age difference >= 2 years` then comparison is  5.90 times less likely to be a match\", \"probability_two_random_records_match\": 0.023863379364006104, \"comparison_sort_order\": 3, \"iteration\": 2}, {\"comparison_name\": \"first_name\", \"sql_condition\": \"\\\"first_name_l\\\" = \\\"first_name_r\\\"\", \"label_for_charts\": \"Exact match\", \"m_probability\": 1.0, \"u_probability\": 0.004286071939092783, \"m_probability_description\": \"Amongst matching record comparisons, 100.00% of records are in the exact match comparison level\", \"u_probability_description\": \"Amongst non-matching record comparisons, 0.43% of records are in the exact match comparison level\", \"has_tf_adjustments\": false, \"tf_adjustment_column\": null, \"tf_adjustment_weight\": 1.0, \"is_null_level\": false, \"bayes_factor\": 233.31386271870795, \"log2_bayes_factor\": 7.866128219691629, \"comparison_vector_value\": 3, \"max_comparison_vector_value\": 3, \"bayes_factor_description\": \"If comparison level is `exact match` then comparison is 233.31 times more likely to be a match\", \"probability_two_random_records_match\": 0.023863379364006104, \"comparison_sort_order\": 0, \"iteration\": 3}, {\"comparison_name\": \"first_name\", \"sql_condition\": \"levenshtein(\\\"first_name_l\\\", \\\"first_name_r\\\") <= 1\", \"label_for_charts\": \"levenshtein <= 1\", \"m_probability\": 2.1889313669443407e-43, \"u_probability\": 0.0008722127553039419, \"m_probability_description\": \"Amongst matching record comparisons, 0.00% of records are in the levenshtein <= 1 comparison level\", \"u_probability_description\": \"Amongst non-matching record comparisons, 0.09% of records are in the levenshtein <= 1 comparison level\", \"has_tf_adjustments\": false, \"tf_adjustment_column\": null, \"tf_adjustment_weight\": 1.0, \"is_null_level\": false, \"bayes_factor\": 2.509630080084714e-40, \"log2_bayes_factor\": -131.54964906915023, \"comparison_vector_value\": 2, \"max_comparison_vector_value\": 3, \"bayes_factor_description\": \"If comparison level is `levenshtein <= 1` then comparison is  3,984,650,996,716,792,878,737,915,685,247,651,938,304.00 times less likely to be a match\", \"probability_two_random_records_match\": 0.023863379364006104, \"comparison_sort_order\": 0, \"iteration\": 3}, {\"comparison_name\": \"first_name\", \"sql_condition\": \"levenshtein(\\\"first_name_l\\\", \\\"first_name_r\\\") <= 2\", \"label_for_charts\": \"levenshtein <= 2\", \"m_probability\": 2.79737259657261e-47, \"u_probability\": 0.004905619888296774, \"m_probability_description\": \"Amongst matching record comparisons, 0.00% of records are in the levenshtein <= 2 comparison level\", \"u_probability_description\": \"Amongst non-matching record comparisons, 0.49% of records are in the levenshtein <= 2 comparison level\", \"has_tf_adjustments\": false, \"tf_adjustment_column\": null, \"tf_adjustment_weight\": 1.0, \"is_null_level\": false, \"bayes_factor\": 5.702383511707131e-45, \"log2_bayes_factor\": -146.9751991994678, \"comparison_vector_value\": 1, \"max_comparison_vector_value\": 3, \"bayes_factor_description\": \"If comparison level is `levenshtein <= 2` then comparison is  175,365,265,760,707,942,558,920,891,465,810,158,295,187,456.00 times less likely to be a match\", \"probability_two_random_records_match\": 0.023863379364006104, \"comparison_sort_order\": 0, \"iteration\": 3}, {\"comparison_name\": \"first_name\", \"sql_condition\": \"ELSE\", \"label_for_charts\": \"All other comparisons\", \"m_probability\": 6.826111146776375e-23, \"u_probability\": 0.9899360954173065, \"m_probability_description\": \"Amongst matching record comparisons, 0.00% of records are in the all other comparisons comparison level\", \"u_probability_description\": \"Amongst non-matching record comparisons, 98.99% of records are in the all other comparisons comparison level\", \"has_tf_adjustments\": false, \"tf_adjustment_column\": null, \"tf_adjustment_weight\": 1.0, \"is_null_level\": false, \"bayes_factor\": 6.89550686996501e-23, \"log2_bayes_factor\": -73.61868957818163, \"comparison_vector_value\": 0, \"max_comparison_vector_value\": 3, \"bayes_factor_description\": \"If comparison level is `all other comparisons` then comparison is  14,502,197,138,773,560,524,800.00 times less likely to be a match\", \"probability_two_random_records_match\": 0.023863379364006104, \"comparison_sort_order\": 0, \"iteration\": 3}, {\"comparison_name\": \"last_name\", \"sql_condition\": \"\\\"last_name_l\\\" = \\\"last_name_r\\\"\", \"label_for_charts\": \"Exact match\", \"m_probability\": 0.9999142963643505, \"u_probability\": 0.0019071001117955237, \"m_probability_description\": \"Amongst matching record comparisons, 99.99% of records are in the exact match comparison level\", \"u_probability_description\": \"Amongst non-matching record comparisons, 0.19% of records are in the exact match comparison level\", \"has_tf_adjustments\": false, \"tf_adjustment_column\": null, \"tf_adjustment_weight\": 1.0, \"is_null_level\": false, \"bayes_factor\": 524.3113825959231, \"log2_bayes_factor\": 9.034280056316454, \"comparison_vector_value\": 3, \"max_comparison_vector_value\": 3, \"bayes_factor_description\": \"If comparison level is `exact match` then comparison is 524.31 times more likely to be a match\", \"probability_two_random_records_match\": 0.023863379364006104, \"comparison_sort_order\": 1, \"iteration\": 3}, {\"comparison_name\": \"last_name\", \"sql_condition\": \"levenshtein(\\\"last_name_l\\\", \\\"last_name_r\\\") <= 1\", \"label_for_charts\": \"levenshtein <= 1\", \"m_probability\": 9.550965413285656e-172, \"u_probability\": 0.00025843340897894573, \"m_probability_description\": \"Amongst matching record comparisons, 0.00% of records are in the levenshtein <= 1 comparison level\", \"u_probability_description\": \"Amongst non-matching record comparisons, 0.03% of records are in the levenshtein <= 1 comparison level\", \"has_tf_adjustments\": false, \"tf_adjustment_column\": null, \"tf_adjustment_weight\": 1.0, \"is_null_level\": false, \"bayes_factor\": 3.6957162199039686e-168, \"log2_bayes_factor\": -556.1980659591756, \"comparison_vector_value\": 2, \"max_comparison_vector_value\": 3, \"bayes_factor_description\": \"If comparison level is `levenshtein <= 1` then comparison is  270,583,546,056,462,215,577,733,810,949,327,119,812,546,544,689,005,329,782,094,446,871,505,827,154,471,991,056,036,979,630,035,942,209,208,617,241,721,801,212,018,666,093,961,618,637,051,954,787,498,718,728,724,464,795,648.00 times less likely to be a match\", \"probability_two_random_records_match\": 0.023863379364006104, \"comparison_sort_order\": 1, \"iteration\": 3}, {\"comparison_name\": \"last_name\", \"sql_condition\": \"levenshtein(\\\"last_name_l\\\", \\\"last_name_r\\\") <= 2\", \"label_for_charts\": \"levenshtein <= 2\", \"m_probability\": 7.571402178349004e-17, \"u_probability\": 0.0019197910381293112, \"m_probability_description\": \"Amongst matching record comparisons, 0.00% of records are in the levenshtein <= 2 comparison level\", \"u_probability_description\": \"Amongst non-matching record comparisons, 0.19% of records are in the levenshtein <= 2 comparison level\", \"has_tf_adjustments\": false, \"tf_adjustment_column\": null, \"tf_adjustment_weight\": 1.0, \"is_null_level\": false, \"bayes_factor\": 3.943867862685073e-14, \"log2_bayes_factor\": -44.52738211267136, \"comparison_vector_value\": 1, \"max_comparison_vector_value\": 3, \"bayes_factor_description\": \"If comparison level is `levenshtein <= 2` then comparison is  25,355,819,079,576.81 times less likely to be a match\", \"probability_two_random_records_match\": 0.023863379364006104, \"comparison_sort_order\": 1, \"iteration\": 3}, {\"comparison_name\": \"last_name\", \"sql_condition\": \"ELSE\", \"label_for_charts\": \"All other comparisons\", \"m_probability\": 8.570363564937232e-05, \"u_probability\": 0.9959146754410962, \"m_probability_description\": \"Amongst matching record comparisons, 0.01% of records are in the all other comparisons comparison level\", \"u_probability_description\": \"Amongst non-matching record comparisons, 99.59% of records are in the all other comparisons comparison level\", \"has_tf_adjustments\": false, \"tf_adjustment_column\": null, \"tf_adjustment_weight\": 1.0, \"is_null_level\": false, \"bayes_factor\": 8.605519906754431e-05, \"log2_bayes_factor\": -13.504378118401657, \"comparison_vector_value\": 0, \"max_comparison_vector_value\": 3, \"bayes_factor_description\": \"If comparison level is `all other comparisons` then comparison is  11,620.45 times less likely to be a match\", \"probability_two_random_records_match\": 0.023863379364006104, \"comparison_sort_order\": 1, \"iteration\": 3}, {\"comparison_name\": \"sex\", \"sql_condition\": \"\\\"sex_l\\\" = \\\"sex_r\\\"\", \"label_for_charts\": \"Exact match\", \"m_probability\": 1.0, \"u_probability\": 0.5030740884742161, \"m_probability_description\": \"Amongst matching record comparisons, 100.00% of records are in the exact match comparison level\", \"u_probability_description\": \"Amongst non-matching record comparisons, 50.31% of records are in the exact match comparison level\", \"has_tf_adjustments\": false, \"tf_adjustment_column\": null, \"tf_adjustment_weight\": 1.0, \"is_null_level\": false, \"bayes_factor\": 1.9877787842997856, \"log2_bayes_factor\": 0.9911572113511078, \"comparison_vector_value\": 1, \"max_comparison_vector_value\": 1, \"bayes_factor_description\": \"If comparison level is `exact match` then comparison is 1.99 times more likely to be a match\", \"probability_two_random_records_match\": 0.023863379364006104, \"comparison_sort_order\": 2, \"iteration\": 3}, {\"comparison_name\": \"sex\", \"sql_condition\": \"ELSE\", \"label_for_charts\": \"All other comparisons\", \"m_probability\": 9.840713300217744e-88, \"u_probability\": 0.4969259115257839, \"m_probability_description\": \"Amongst matching record comparisons, 0.00% of records are in the all other comparisons comparison level\", \"u_probability_description\": \"Amongst non-matching record comparisons, 49.69% of records are in the all other comparisons comparison level\", \"has_tf_adjustments\": false, \"tf_adjustment_column\": null, \"tf_adjustment_weight\": 1.0, \"is_null_level\": false, \"bayes_factor\": 1.9803180055558727e-87, \"log2_bayes_factor\": -288.0220121338856, \"comparison_vector_value\": 0, \"max_comparison_vector_value\": 1, \"bayes_factor_description\": \"If comparison level is `all other comparisons` then comparison is  504,969,402,487,102,751,296,308,905,414,740,943,464,356,972,928,492,714,270,056,950,435,655,156,344,247,237,476,352.00 times less likely to be a match\", \"probability_two_random_records_match\": 0.023863379364006104, \"comparison_sort_order\": 2, \"iteration\": 3}, {\"comparison_name\": \"age\", \"sql_condition\": \"round(age_r) - round(age_l) = 10\", \"label_for_charts\": \"Exact match\", \"m_probability\": 0.7797818041412828, \"u_probability\": 0.010308493344762859, \"m_probability_description\": \"Amongst matching record comparisons, 77.98% of records are in the exact match comparison level\", \"u_probability_description\": \"Amongst non-matching record comparisons, 1.03% of records are in the exact match comparison level\", \"has_tf_adjustments\": false, \"tf_adjustment_column\": null, \"tf_adjustment_weight\": 1.0, \"is_null_level\": false, \"bayes_factor\": 75.64459500160072, \"log2_bayes_factor\": 6.241165096787867, \"comparison_vector_value\": 2, \"max_comparison_vector_value\": 2, \"bayes_factor_description\": \"If comparison level is `exact match` then comparison is 75.64 times more likely to be a match\", \"probability_two_random_records_match\": 0.023863379364006104, \"comparison_sort_order\": 3, \"iteration\": 3}, {\"comparison_name\": \"age\", \"sql_condition\": \"abs(round(age_r) - (round(age_l)+10)) = 1\", \"label_for_charts\": \"Age within 1 year\", \"m_probability\": 0.05591558163040241, \"u_probability\": 0.02064582970392069, \"m_probability_description\": \"Amongst matching record comparisons, 5.59% of records are in the age within 1 year comparison level\", \"u_probability_description\": \"Amongst non-matching record comparisons, 2.06% of records are in the age within 1 year comparison level\", \"has_tf_adjustments\": false, \"tf_adjustment_column\": null, \"tf_adjustment_weight\": 1.0, \"is_null_level\": false, \"bayes_factor\": 2.708323299779224, \"log2_bayes_factor\": 1.4373999675495497, \"comparison_vector_value\": 1, \"max_comparison_vector_value\": 2, \"bayes_factor_description\": \"If comparison level is `age within 1 year` then comparison is 2.71 times more likely to be a match\", \"probability_two_random_records_match\": 0.023863379364006104, \"comparison_sort_order\": 3, \"iteration\": 3}, {\"comparison_name\": \"age\", \"sql_condition\": \"ELSE\", \"label_for_charts\": \"Age difference >= 2 years\", \"m_probability\": 0.1643026142283147, \"u_probability\": 0.9690456769513165, \"m_probability_description\": \"Amongst matching record comparisons, 16.43% of records are in the age difference >= 2 years comparison level\", \"u_probability_description\": \"Amongst non-matching record comparisons, 96.90% of records are in the age difference >= 2 years comparison level\", \"has_tf_adjustments\": false, \"tf_adjustment_column\": null, \"tf_adjustment_weight\": 1.0, \"is_null_level\": false, \"bayes_factor\": 0.16955094907932705, \"log2_bayes_factor\": -2.560209234863704, \"comparison_vector_value\": 0, \"max_comparison_vector_value\": 2, \"bayes_factor_description\": \"If comparison level is `age difference >= 2 years` then comparison is  5.90 times less likely to be a match\", \"probability_two_random_records_match\": 0.023863379364006104, \"comparison_sort_order\": 3, \"iteration\": 3}]}, \"transform\": [{\"filter\": \"(datum.iteration == iteration_number)\"}], \"title\": {\"text\": \"Proportion of record comparisons in each comparison level by match status\", \"subtitle\": \"(m and u probabilities)\"}, \"$schema\": \"https://vega.github.io/schema/vega-lite/v4.json\"}, {\"mode\": \"vega-lite\"});\n",
       "</script>"
      ],
      "text/plain": [
       "<splink.charts.VegaliteNoValidate at 0x7f3f62ddc0d0>"
      ]
     },
     "execution_count": 35,
     "metadata": {},
     "output_type": "execute_result"
    }
   ],
   "source": [
    "rule, session = next(rule_session)\n",
    "print(rule)\n",
    "session.m_u_values_interactive_history_chart()"
   ]
  },
  {
   "cell_type": "markdown",
   "id": "1e0d6a01",
   "metadata": {},
   "source": [
    "# Visualize model parameters\n",
    "\n",
    "https://moj-analytical-services.github.io/splink/demos/03_Estimating_model_parameters.html#visualising-model-parameters"
   ]
  },
  {
   "cell_type": "code",
   "execution_count": 36,
   "id": "1b3a4ec7",
   "metadata": {},
   "outputs": [
    {
     "data": {
      "text/html": [
       "\n",
       "<div id=\"altair-viz-4a40476d66a744968ed6b04bd7197ae9\"></div>\n",
       "<script type=\"text/javascript\">\n",
       "  var VEGA_DEBUG = (typeof VEGA_DEBUG == \"undefined\") ? {} : VEGA_DEBUG;\n",
       "  (function(spec, embedOpt){\n",
       "    let outputDiv = document.currentScript.previousElementSibling;\n",
       "    if (outputDiv.id !== \"altair-viz-4a40476d66a744968ed6b04bd7197ae9\") {\n",
       "      outputDiv = document.getElementById(\"altair-viz-4a40476d66a744968ed6b04bd7197ae9\");\n",
       "    }\n",
       "    const paths = {\n",
       "      \"vega\": \"https://cdn.jsdelivr.net/npm//vega@5?noext\",\n",
       "      \"vega-lib\": \"https://cdn.jsdelivr.net/npm//vega-lib?noext\",\n",
       "      \"vega-lite\": \"https://cdn.jsdelivr.net/npm//vega-lite@4.17.0?noext\",\n",
       "      \"vega-embed\": \"https://cdn.jsdelivr.net/npm//vega-embed@6?noext\",\n",
       "    };\n",
       "\n",
       "    function maybeLoadScript(lib, version) {\n",
       "      var key = `${lib.replace(\"-\", \"\")}_version`;\n",
       "      return (VEGA_DEBUG[key] == version) ?\n",
       "        Promise.resolve(paths[lib]) :\n",
       "        new Promise(function(resolve, reject) {\n",
       "          var s = document.createElement('script');\n",
       "          document.getElementsByTagName(\"head\")[0].appendChild(s);\n",
       "          s.async = true;\n",
       "          s.onload = () => {\n",
       "            VEGA_DEBUG[key] = version;\n",
       "            return resolve(paths[lib]);\n",
       "          };\n",
       "          s.onerror = () => reject(`Error loading script: ${paths[lib]}`);\n",
       "          s.src = paths[lib];\n",
       "        });\n",
       "    }\n",
       "\n",
       "    function showError(err) {\n",
       "      outputDiv.innerHTML = `<div class=\"error\" style=\"color:red;\">${err}</div>`;\n",
       "      throw err;\n",
       "    }\n",
       "\n",
       "    function displayChart(vegaEmbed) {\n",
       "      vegaEmbed(outputDiv, spec, embedOpt)\n",
       "        .catch(err => showError(`Javascript Error: ${err.message}<br>This usually means there's a typo in your chart specification. See the javascript console for the full traceback.`));\n",
       "    }\n",
       "\n",
       "    if(typeof define === \"function\" && define.amd) {\n",
       "      requirejs.config({paths});\n",
       "      require([\"vega-embed\"], displayChart, err => showError(`Error loading script: ${err.message}`));\n",
       "    } else {\n",
       "      maybeLoadScript(\"vega\", \"5\")\n",
       "        .then(() => maybeLoadScript(\"vega-lite\", \"4.17.0\"))\n",
       "        .then(() => maybeLoadScript(\"vega-embed\", \"6\"))\n",
       "        .catch(showError)\n",
       "        .then(() => displayChart(vegaEmbed));\n",
       "    }\n",
       "  })({\"config\": {\"view\": {\"width\": 400, \"height\": 60}, \"mark\": {\"tooltip\": null}, \"title\": {\"anchor\": \"middle\"}, \"header\": {\"title\": null}}, \"data\": {\"values\": [{\"comparison_name\": \"probability_two_random_records_match\", \"sql_condition\": null, \"label_for_charts\": \"\", \"m_probability\": null, \"u_probability\": null, \"m_probability_description\": null, \"u_probability_description\": null, \"has_tf_adjustments\": false, \"tf_adjustment_column\": null, \"tf_adjustment_weight\": null, \"is_null_level\": false, \"bayes_factor\": 9.998803622053661e-05, \"log2_bayes_factor\": -13.287884990728086, \"comparison_vector_value\": 0, \"max_comparison_vector_value\": 0, \"bayes_factor_description\": \"The probability that two random records drawn at random match is 0.000 or one in  10,002.2 records.This is equivalent to a starting match weight of -13.288.\", \"probability_two_random_records_match\": 9.997803961269055e-05, \"comparison_sort_order\": -1}, {\"comparison_name\": \"first_name\", \"sql_condition\": \"\\\"first_name_l\\\" = \\\"first_name_r\\\"\", \"label_for_charts\": \"Exact match\", \"m_probability\": 1.0, \"u_probability\": 0.004286071939092783, \"m_probability_description\": \"Amongst matching record comparisons, 100.00% of records are in the exact match comparison level\", \"u_probability_description\": \"Amongst non-matching record comparisons, 0.43% of records are in the exact match comparison level\", \"has_tf_adjustments\": false, \"tf_adjustment_column\": null, \"tf_adjustment_weight\": 1.0, \"is_null_level\": false, \"bayes_factor\": 233.31386271870795, \"log2_bayes_factor\": 7.866128219691629, \"comparison_vector_value\": 3, \"max_comparison_vector_value\": 3, \"bayes_factor_description\": \"If comparison level is `exact match` then comparison is 233.31 times more likely to be a match\", \"probability_two_random_records_match\": 9.997803961269055e-05, \"comparison_sort_order\": 0}, {\"comparison_name\": \"first_name\", \"sql_condition\": \"levenshtein(\\\"first_name_l\\\", \\\"first_name_r\\\") <= 1\", \"label_for_charts\": \"levenshtein <= 1\", \"m_probability\": 2.9180877121542513e-42, \"u_probability\": 0.0008722127553039419, \"m_probability_description\": \"Amongst matching record comparisons, 0.00% of records are in the levenshtein <= 1 comparison level\", \"u_probability_description\": \"Amongst non-matching record comparisons, 0.09% of records are in the levenshtein <= 1 comparison level\", \"has_tf_adjustments\": false, \"tf_adjustment_column\": null, \"tf_adjustment_weight\": 1.0, \"is_null_level\": false, \"bayes_factor\": 3.345614581315517e-39, \"log2_bayes_factor\": -127.81292444580225, \"comparison_vector_value\": 2, \"max_comparison_vector_value\": 3, \"bayes_factor_description\": \"If comparison level is `levenshtein <= 1` then comparison is  298,898,745,116,896,743,061,019,389,007,537,111,040.00 times less likely to be a match\", \"probability_two_random_records_match\": 9.997803961269055e-05, \"comparison_sort_order\": 0}, {\"comparison_name\": \"first_name\", \"sql_condition\": \"levenshtein(\\\"first_name_l\\\", \\\"first_name_r\\\") <= 2\", \"label_for_charts\": \"levenshtein <= 2\", \"m_probability\": 3.729607720535842e-46, \"u_probability\": 0.004905619888296774, \"m_probability_description\": \"Amongst matching record comparisons, 0.00% of records are in the levenshtein <= 2 comparison level\", \"u_probability_description\": \"Amongst non-matching record comparisons, 0.49% of records are in the levenshtein <= 2 comparison level\", \"has_tf_adjustments\": false, \"tf_adjustment_column\": null, \"tf_adjustment_weight\": 1.0, \"is_null_level\": false, \"bayes_factor\": 7.602724641249687e-44, \"log2_bayes_factor\": -143.23831963517506, \"comparison_vector_value\": 1, \"max_comparison_vector_value\": 3, \"bayes_factor_description\": \"If comparison level is `levenshtein <= 2` then comparison is  13,153,179,250,690,663,283,853,278,784,545,901,003,145,216.00 times less likely to be a match\", \"probability_two_random_records_match\": 9.997803961269055e-05, \"comparison_sort_order\": 0}, {\"comparison_name\": \"first_name\", \"sql_condition\": \"ELSE\", \"label_for_charts\": \"All other comparisons\", \"m_probability\": 1.393594695500612e-22, \"u_probability\": 0.9899360954173065, \"m_probability_description\": \"Amongst matching record comparisons, 0.00% of records are in the all other comparisons comparison level\", \"u_probability_description\": \"Amongst non-matching record comparisons, 98.99% of records are in the all other comparisons comparison level\", \"has_tf_adjustments\": false, \"tf_adjustment_column\": null, \"tf_adjustment_weight\": 1.0, \"is_null_level\": false, \"bayes_factor\": 1.40776228076939e-22, \"log2_bayes_factor\": -72.58901435106796, \"comparison_vector_value\": 0, \"max_comparison_vector_value\": 3, \"bayes_factor_description\": \"If comparison level is `all other comparisons` then comparison is  7,103,472,039,707,342,274,560.00 times less likely to be a match\", \"probability_two_random_records_match\": 9.997803961269055e-05, \"comparison_sort_order\": 0}, {\"comparison_name\": \"last_name\", \"sql_condition\": \"\\\"last_name_l\\\" = \\\"last_name_r\\\"\", \"label_for_charts\": \"Exact match\", \"m_probability\": 0.9998432475990155, \"u_probability\": 0.0019071001117955237, \"m_probability_description\": \"Amongst matching record comparisons, 99.98% of records are in the exact match comparison level\", \"u_probability_description\": \"Amongst non-matching record comparisons, 0.19% of records are in the exact match comparison level\", \"has_tf_adjustments\": false, \"tf_adjustment_column\": null, \"tf_adjustment_weight\": 1.0, \"is_null_level\": false, \"bayes_factor\": 524.2741277266608, \"log2_bayes_factor\": 9.034177542187416, \"comparison_vector_value\": 3, \"max_comparison_vector_value\": 3, \"bayes_factor_description\": \"If comparison level is `exact match` then comparison is 524.27 times more likely to be a match\", \"probability_two_random_records_match\": 9.997803961269055e-05, \"comparison_sort_order\": 1}, {\"comparison_name\": \"last_name\", \"sql_condition\": \"levenshtein(\\\"last_name_l\\\", \\\"last_name_r\\\") <= 1\", \"label_for_charts\": \"levenshtein <= 1\", \"m_probability\": 1.5910784091279572e-170, \"u_probability\": 0.00025843340897894573, \"m_probability_description\": \"Amongst matching record comparisons, 0.00% of records are in the levenshtein <= 1 comparison level\", \"u_probability_description\": \"Amongst non-matching record comparisons, 0.03% of records are in the levenshtein <= 1 comparison level\", \"has_tf_adjustments\": false, \"tf_adjustment_column\": null, \"tf_adjustment_weight\": 1.0, \"is_null_level\": false, \"bayes_factor\": 6.1566281829203456e-167, \"log2_bayes_factor\": -552.1398514036483, \"comparison_vector_value\": 2, \"max_comparison_vector_value\": 3, \"bayes_factor_description\": \"If comparison level is `levenshtein <= 1` then comparison is  16,242,657,024,086,492,403,901,481,258,372,275,825,365,370,276,208,381,276,456,026,279,762,259,060,873,357,526,366,815,647,945,049,481,715,613,667,092,165,490,003,545,905,378,274,538,660,802,885,503,579,644,252,819,292,160.00 times less likely to be a match\", \"probability_two_random_records_match\": 9.997803961269055e-05, \"comparison_sort_order\": 1}, {\"comparison_name\": \"last_name\", \"sql_condition\": \"levenshtein(\\\"last_name_l\\\", \\\"last_name_r\\\") <= 2\", \"label_for_charts\": \"levenshtein <= 2\", \"m_probability\": 1.5144349407174393e-16, \"u_probability\": 0.0019197910381293112, \"m_probability_description\": \"Amongst matching record comparisons, 0.00% of records are in the levenshtein <= 2 comparison level\", \"u_probability_description\": \"Amongst non-matching record comparisons, 0.19% of records are in the levenshtein <= 2 comparison level\", \"has_tf_adjustments\": false, \"tf_adjustment_column\": null, \"tf_adjustment_weight\": 1.0, \"is_null_level\": false, \"bayes_factor\": 7.88854052674993e-14, \"log2_bayes_factor\": -43.52723491913317, \"comparison_vector_value\": 1, \"max_comparison_vector_value\": 3, \"bayes_factor_description\": \"If comparison level is `levenshtein <= 2` then comparison is  12,676,616,119,407.82 times less likely to be a match\", \"probability_two_random_records_match\": 9.997803961269055e-05, \"comparison_sort_order\": 1}, {\"comparison_name\": \"last_name\", \"sql_condition\": \"ELSE\", \"label_for_charts\": \"All other comparisons\", \"m_probability\": 0.00015675240098426987, \"u_probability\": 0.9959146754410962, \"m_probability_description\": \"Amongst matching record comparisons, 0.02% of records are in the all other comparisons comparison level\", \"u_probability_description\": \"Amongst non-matching record comparisons, 99.59% of records are in the all other comparisons comparison level\", \"has_tf_adjustments\": false, \"tf_adjustment_column\": null, \"tf_adjustment_weight\": 1.0, \"is_null_level\": false, \"bayes_factor\": 0.00015739541232771104, \"log2_bayes_factor\": -12.633318888948759, \"comparison_vector_value\": 0, \"max_comparison_vector_value\": 3, \"bayes_factor_description\": \"If comparison level is `all other comparisons` then comparison is  6,353.43 times less likely to be a match\", \"probability_two_random_records_match\": 9.997803961269055e-05, \"comparison_sort_order\": 1}, {\"comparison_name\": \"sex\", \"sql_condition\": \"\\\"sex_l\\\" = \\\"sex_r\\\"\", \"label_for_charts\": \"Exact match\", \"m_probability\": 1.0, \"u_probability\": 0.5030740884742161, \"m_probability_description\": \"Amongst matching record comparisons, 100.00% of records are in the exact match comparison level\", \"u_probability_description\": \"Amongst non-matching record comparisons, 50.31% of records are in the exact match comparison level\", \"has_tf_adjustments\": false, \"tf_adjustment_column\": null, \"tf_adjustment_weight\": 1.0, \"is_null_level\": false, \"bayes_factor\": 1.9877787842997856, \"log2_bayes_factor\": 0.9911572113511078, \"comparison_vector_value\": 1, \"max_comparison_vector_value\": 1, \"bayes_factor_description\": \"If comparison level is `exact match` then comparison is 1.99 times more likely to be a match\", \"probability_two_random_records_match\": 9.997803961269055e-05, \"comparison_sort_order\": 2}, {\"comparison_name\": \"sex\", \"sql_condition\": \"ELSE\", \"label_for_charts\": \"All other comparisons\", \"m_probability\": 1.3122750697005212e-86, \"u_probability\": 0.4969259115257839, \"m_probability_description\": \"Amongst matching record comparisons, 0.00% of records are in the all other comparisons comparison level\", \"u_probability_description\": \"Amongst non-matching record comparisons, 49.69% of records are in the all other comparisons comparison level\", \"has_tf_adjustments\": false, \"tf_adjustment_column\": null, \"tf_adjustment_weight\": 1.0, \"is_null_level\": false, \"bayes_factor\": 2.6407861599956666e-86, \"log2_bayes_factor\": -284.2848486775905, \"comparison_vector_value\": 0, \"max_comparison_vector_value\": 1, \"bayes_factor_description\": \"If comparison level is `all other comparisons` then comparison is  37,867,511,392,957,351,276,914,329,764,606,954,077,412,411,912,508,350,009,937,788,971,889,813,204,930,178,056,192.00 times less likely to be a match\", \"probability_two_random_records_match\": 9.997803961269055e-05, \"comparison_sort_order\": 2}, {\"comparison_name\": \"age\", \"sql_condition\": \"round(age_r) - round(age_l) = 10\", \"label_for_charts\": \"Exact match\", \"m_probability\": 0.7797818041412828, \"u_probability\": 0.010308493344762859, \"m_probability_description\": \"Amongst matching record comparisons, 77.98% of records are in the exact match comparison level\", \"u_probability_description\": \"Amongst non-matching record comparisons, 1.03% of records are in the exact match comparison level\", \"has_tf_adjustments\": false, \"tf_adjustment_column\": null, \"tf_adjustment_weight\": 1.0, \"is_null_level\": false, \"bayes_factor\": 75.64459500160072, \"log2_bayes_factor\": 6.241165096787867, \"comparison_vector_value\": 2, \"max_comparison_vector_value\": 2, \"bayes_factor_description\": \"If comparison level is `exact match` then comparison is 75.64 times more likely to be a match\", \"probability_two_random_records_match\": 9.997803961269055e-05, \"comparison_sort_order\": 3}, {\"comparison_name\": \"age\", \"sql_condition\": \"abs(round(age_r) - (round(age_l)+10)) = 1\", \"label_for_charts\": \"Age within 1 year\", \"m_probability\": 0.05591854410160638, \"u_probability\": 0.02064582970392069, \"m_probability_description\": \"Amongst matching record comparisons, 5.59% of records are in the age within 1 year comparison level\", \"u_probability_description\": \"Amongst non-matching record comparisons, 2.06% of records are in the age within 1 year comparison level\", \"has_tf_adjustments\": false, \"tf_adjustment_column\": null, \"tf_adjustment_weight\": 1.0, \"is_null_level\": false, \"bayes_factor\": 2.708466789832492, \"log2_bayes_factor\": 1.4374764011513286, \"comparison_vector_value\": 1, \"max_comparison_vector_value\": 2, \"bayes_factor_description\": \"If comparison level is `age within 1 year` then comparison is 2.71 times more likely to be a match\", \"probability_two_random_records_match\": 9.997803961269055e-05, \"comparison_sort_order\": 3}, {\"comparison_name\": \"age\", \"sql_condition\": \"ELSE\", \"label_for_charts\": \"Age difference >= 2 years\", \"m_probability\": 0.1643026142283147, \"u_probability\": 0.9690456769513165, \"m_probability_description\": \"Amongst matching record comparisons, 16.43% of records are in the age difference >= 2 years comparison level\", \"u_probability_description\": \"Amongst non-matching record comparisons, 96.90% of records are in the age difference >= 2 years comparison level\", \"has_tf_adjustments\": false, \"tf_adjustment_column\": null, \"tf_adjustment_weight\": 1.0, \"is_null_level\": false, \"bayes_factor\": 0.16955094907932705, \"log2_bayes_factor\": -2.560209234863704, \"comparison_vector_value\": 0, \"max_comparison_vector_value\": 2, \"bayes_factor_description\": \"If comparison level is `age difference >= 2 years` then comparison is  5.90 times less likely to be a match\", \"probability_two_random_records_match\": 9.997803961269055e-05, \"comparison_sort_order\": 3}]}, \"vconcat\": [{\"height\": 30, \"mark\": {\"type\": \"bar\", \"clip\": true, \"height\": 20}, \"selection\": {\"zoom_selector\": {\"type\": \"interval\", \"bind\": \"scales\", \"encodings\": [\"x\"]}}, \"transform\": [{\"filter\": \"(datum.comparison_name == 'probability_two_random_records_match')\"}], \"encoding\": {\"color\": {\"type\": \"quantitative\", \"field\": \"log2_bayes_factor\", \"title\": \"Match weight\", \"scale\": {\"range\": [\"red\", \"orange\", \"green\"], \"domain\": [-10, 0, 10]}}, \"tooltip\": [{\"type\": \"nominal\", \"field\": \"comparison_name\", \"title\": \"Comparison name\"}, {\"type\": \"nominal\", \"field\": \"probability_two_random_records_match\", \"format\": \".4f\", \"title\": \"Probability two random records match\"}, {\"type\": \"quantitative\", \"field\": \"log2_bayes_factor\", \"title\": \"Equivalent match weight\", \"format\": \",.4f\"}, {\"type\": \"nominal\", \"field\": \"bayes_factor_description\", \"title\": \"Match weight description\"}], \"x\": {\"type\": \"quantitative\", \"axis\": {\"labels\": false, \"domain\": false, \"title\": \"\", \"ticks\": false}, \"field\": \"log2_bayes_factor\", \"scale\": {\"domain\": [-10, 10]}}, \"y\": {\"type\": \"nominal\", \"field\": \"label_for_charts\", \"axis\": {\"title\": \"Prior (starting) match weight\", \"titleAngle\": 0, \"titleAlign\": \"right\", \"titleFontWeight\": \"normal\"}, \"sort\": {\"field\": \"comparison_vector_value\", \"order\": \"descending\"}}}}, {\"mark\": {\"type\": \"bar\", \"clip\": true}, \"selection\": {\"zoom_selector\": {\"type\": \"interval\", \"bind\": \"scales\", \"encodings\": [\"x\"]}}, \"transform\": [{\"filter\": \"(datum.comparison_name != 'probability_two_random_records_match')\"}], \"encoding\": {\"color\": {\"type\": \"quantitative\", \"field\": \"log2_bayes_factor\", \"title\": \"Match weight\", \"scale\": {\"range\": [\"red\", \"orange\", \"green\"], \"domain\": [-10, 0, 10]}}, \"row\": {\"type\": \"nominal\", \"field\": \"comparison_name\", \"sort\": {\"field\": \"comparison_sort_order\"}, \"header\": {\"labelAngle\": 0, \"labelAnchor\": \"middle\", \"labelAlign\": \"left\"}}, \"tooltip\": [{\"type\": \"nominal\", \"field\": \"comparison_name\", \"title\": \"Comparison name\"}, {\"type\": \"ordinal\", \"field\": \"label_for_charts\", \"title\": \"Label\"}, {\"type\": \"nominal\", \"field\": \"sql_condition\", \"title\": \"SQL condition\"}, {\"type\": \"quantitative\", \"field\": \"m_probability\", \"format\": \".4f\", \"title\": \"M probability\"}, {\"type\": \"quantitative\", \"field\": \"u_probability\", \"format\": \".4f\", \"title\": \"U probability\"}, {\"type\": \"quantitative\", \"field\": \"bayes_factor\", \"title\": \"Bayes factor = m/u\", \"format\": \",.4f\"}, {\"type\": \"quantitative\", \"field\": \"log2_bayes_factor\", \"title\": \"Match weight = log2(m/u)\", \"format\": \",.4f\"}, {\"type\": \"nominal\", \"field\": \"bayes_factor_description\", \"title\": \"Match weight description\"}], \"x\": {\"type\": \"quantitative\", \"axis\": {\"title\": \"Comparison level match weight = log2(m/u)\"}, \"field\": \"log2_bayes_factor\", \"scale\": {\"domain\": [-10, 10]}}, \"y\": {\"type\": \"nominal\", \"field\": \"label_for_charts\", \"axis\": {\"title\": null}, \"sort\": {\"field\": \"comparison_vector_value\", \"order\": \"descending\"}}}, \"resolve\": {\"axis\": {\"y\": \"independent\"}, \"scale\": {\"y\": \"independent\"}}}], \"selection\": {\"zoom_selector\": {\"type\": \"interval\", \"bind\": \"scales\", \"encodings\": [\"x\"]}}, \"resolve\": {\"axis\": {\"y\": \"independent\"}, \"scale\": {\"y\": \"independent\"}}, \"title\": {\"text\": \"Model parameters (components of final match weight)\", \"subtitle\": \"Use mousewheel to zoom\"}, \"$schema\": \"https://vega.github.io/schema/vega-lite/v5.2.json\"}, {\"mode\": \"vega-lite\"});\n",
       "</script>"
      ],
      "text/plain": [
       "<splink.charts.VegaliteNoValidate at 0x7f3f62ddcdc0>"
      ]
     },
     "execution_count": 36,
     "metadata": {},
     "output_type": "execute_result"
    }
   ],
   "source": [
    "linker.match_weights_chart()"
   ]
  },
  {
   "cell_type": "code",
   "execution_count": 37,
   "id": "db61f7e1",
   "metadata": {},
   "outputs": [
    {
     "data": {
      "text/html": [
       "\n",
       "<div id=\"altair-viz-9475202d661d4426a19dc6f8eac030e2\"></div>\n",
       "<script type=\"text/javascript\">\n",
       "  var VEGA_DEBUG = (typeof VEGA_DEBUG == \"undefined\") ? {} : VEGA_DEBUG;\n",
       "  (function(spec, embedOpt){\n",
       "    let outputDiv = document.currentScript.previousElementSibling;\n",
       "    if (outputDiv.id !== \"altair-viz-9475202d661d4426a19dc6f8eac030e2\") {\n",
       "      outputDiv = document.getElementById(\"altair-viz-9475202d661d4426a19dc6f8eac030e2\");\n",
       "    }\n",
       "    const paths = {\n",
       "      \"vega\": \"https://cdn.jsdelivr.net/npm//vega@5?noext\",\n",
       "      \"vega-lib\": \"https://cdn.jsdelivr.net/npm//vega-lib?noext\",\n",
       "      \"vega-lite\": \"https://cdn.jsdelivr.net/npm//vega-lite@4.17.0?noext\",\n",
       "      \"vega-embed\": \"https://cdn.jsdelivr.net/npm//vega-embed@6?noext\",\n",
       "    };\n",
       "\n",
       "    function maybeLoadScript(lib, version) {\n",
       "      var key = `${lib.replace(\"-\", \"\")}_version`;\n",
       "      return (VEGA_DEBUG[key] == version) ?\n",
       "        Promise.resolve(paths[lib]) :\n",
       "        new Promise(function(resolve, reject) {\n",
       "          var s = document.createElement('script');\n",
       "          document.getElementsByTagName(\"head\")[0].appendChild(s);\n",
       "          s.async = true;\n",
       "          s.onload = () => {\n",
       "            VEGA_DEBUG[key] = version;\n",
       "            return resolve(paths[lib]);\n",
       "          };\n",
       "          s.onerror = () => reject(`Error loading script: ${paths[lib]}`);\n",
       "          s.src = paths[lib];\n",
       "        });\n",
       "    }\n",
       "\n",
       "    function showError(err) {\n",
       "      outputDiv.innerHTML = `<div class=\"error\" style=\"color:red;\">${err}</div>`;\n",
       "      throw err;\n",
       "    }\n",
       "\n",
       "    function displayChart(vegaEmbed) {\n",
       "      vegaEmbed(outputDiv, spec, embedOpt)\n",
       "        .catch(err => showError(`Javascript Error: ${err.message}<br>This usually means there's a typo in your chart specification. See the javascript console for the full traceback.`));\n",
       "    }\n",
       "\n",
       "    if(typeof define === \"function\" && define.amd) {\n",
       "      requirejs.config({paths});\n",
       "      require([\"vega-embed\"], displayChart, err => showError(`Error loading script: ${err.message}`));\n",
       "    } else {\n",
       "      maybeLoadScript(\"vega\", \"5\")\n",
       "        .then(() => maybeLoadScript(\"vega-lite\", \"4.17.0\"))\n",
       "        .then(() => maybeLoadScript(\"vega-embed\", \"6\"))\n",
       "        .catch(showError)\n",
       "        .then(() => displayChart(vegaEmbed));\n",
       "    }\n",
       "  })({\"config\": {\"view\": {\"width\": 400, \"height\": 300}, \"title\": {\"anchor\": \"middle\", \"offset\": 10}, \"header\": {\"title\": null}}, \"hconcat\": [{\"mark\": \"bar\", \"title\": {\"text\": \"Amongst matching record comparisons:\", \"fontWeight\": \"bold\", \"fontSize\": 12}, \"encoding\": {\"row\": {\"type\": \"nominal\", \"field\": \"comparison_name\", \"sort\": {\"field\": \"comparison_sort_order\"}, \"header\": {\"labelAngle\": 0, \"labelAnchor\": \"middle\", \"labelAlign\": \"left\"}}, \"x\": {\"type\": \"quantitative\", \"field\": \"m_probability\", \"axis\": {\"title\": \"Proportion of record comparisons\"}}, \"y\": {\"type\": \"nominal\", \"axis\": {\"title\": null}, \"field\": \"label_for_charts\", \"sort\": {\"field\": \"comparison_vector_value\", \"order\": \"descending\"}}, \"tooltip\": [{\"type\": \"nominal\", \"field\": \"m_probability_description\", \"title\": \"m probability description\"}, {\"type\": \"nominal\", \"field\": \"comparison_name\", \"title\": \"Comparison column name\"}, {\"type\": \"ordinal\", \"field\": \"label_for_charts\", \"title\": \"Label\"}, {\"type\": \"nominal\", \"field\": \"sql_condition\", \"title\": \"SQL condition\"}, {\"type\": \"quantitative\", \"field\": \"m_probability\", \"format\": \".4p\", \"title\": \"m probability\"}, {\"type\": \"quantitative\", \"field\": \"u_probability\", \"format\": \".4p\", \"title\": \"u probability\"}, {\"type\": \"quantitative\", \"field\": \"bayes_factor\", \"title\": \"Bayes factor = m/u\", \"format\": \",.4f\"}, {\"type\": \"quantitative\", \"field\": \"log2_bayes_factor\", \"title\": \"Match weight = log2(m/u)\", \"format\": \",.4f\"}], \"color\": {\"value\": \"green\"}}, \"resolve\": {\"scale\": {\"y\": \"independent\"}}, \"transform\": [{\"filter\": \"(datum.bayes_factor != 'no-op filter due to vega lite issue 4680')\"}], \"width\": 150, \"height\": 50}, {\"mark\": \"bar\", \"title\": {\"text\": \"Amongst non-matching record comparisons:\", \"fontWeight\": \"bold\", \"fontSize\": 12}, \"encoding\": {\"row\": {\"type\": \"nominal\", \"field\": \"comparison_name\", \"sort\": {\"field\": \"comparison_sort_order\"}, \"header\": {\"labels\": false}}, \"x\": {\"type\": \"quantitative\", \"field\": \"u_probability\", \"axis\": {\"title\": \"Proportion of record comparisons\"}}, \"y\": {\"type\": \"nominal\", \"axis\": {\"title\": null}, \"field\": \"label_for_charts\", \"sort\": {\"field\": \"comparison_vector_value\", \"order\": \"descending\"}}, \"tooltip\": [{\"type\": \"nominal\", \"field\": \"u_probability_description\", \"title\": \"u probability description\"}, {\"type\": \"nominal\", \"field\": \"comparison_name\", \"title\": \"Comparison column name\"}, {\"type\": \"ordinal\", \"field\": \"label_for_charts\", \"title\": \"Label\"}, {\"type\": \"nominal\", \"field\": \"sql_condition\", \"title\": \"SQL condition\"}, {\"type\": \"quantitative\", \"field\": \"m_probability\", \"format\": \".4p\", \"title\": \"m probability\"}, {\"type\": \"quantitative\", \"field\": \"u_probability\", \"format\": \".4p\", \"title\": \"u probability\"}, {\"type\": \"quantitative\", \"field\": \"bayes_factor\", \"title\": \"Bayes factor = m/u\", \"format\": \",.4f\"}, {\"type\": \"quantitative\", \"field\": \"log2_bayes_factor\", \"title\": \"Match weight = log2(m/u)\", \"format\": \",.4f\"}], \"color\": {\"value\": \"red\"}}, \"resolve\": {\"scale\": {\"y\": \"independent\"}}, \"transform\": [{\"filter\": \"(datum.bayes_factor != 'no-op filter2 due to vega lite issue 4680')\"}], \"width\": 150, \"height\": 50}], \"data\": {\"values\": [{\"comparison_name\": \"first_name\", \"sql_condition\": \"\\\"first_name_l\\\" = \\\"first_name_r\\\"\", \"label_for_charts\": \"Exact match\", \"m_probability\": 1.0, \"u_probability\": 0.004286071939092783, \"m_probability_description\": \"Amongst matching record comparisons, 100.00% of records are in the exact match comparison level\", \"u_probability_description\": \"Amongst non-matching record comparisons, 0.43% of records are in the exact match comparison level\", \"has_tf_adjustments\": false, \"tf_adjustment_column\": null, \"tf_adjustment_weight\": 1.0, \"is_null_level\": false, \"bayes_factor\": 233.31386271870795, \"log2_bayes_factor\": 7.866128219691629, \"comparison_vector_value\": 3, \"max_comparison_vector_value\": 3, \"bayes_factor_description\": \"If comparison level is `exact match` then comparison is 233.31 times more likely to be a match\", \"probability_two_random_records_match\": 9.997803961269055e-05, \"comparison_sort_order\": 0}, {\"comparison_name\": \"first_name\", \"sql_condition\": \"levenshtein(\\\"first_name_l\\\", \\\"first_name_r\\\") <= 1\", \"label_for_charts\": \"levenshtein <= 1\", \"m_probability\": 2.9180877121542513e-42, \"u_probability\": 0.0008722127553039419, \"m_probability_description\": \"Amongst matching record comparisons, 0.00% of records are in the levenshtein <= 1 comparison level\", \"u_probability_description\": \"Amongst non-matching record comparisons, 0.09% of records are in the levenshtein <= 1 comparison level\", \"has_tf_adjustments\": false, \"tf_adjustment_column\": null, \"tf_adjustment_weight\": 1.0, \"is_null_level\": false, \"bayes_factor\": 3.345614581315517e-39, \"log2_bayes_factor\": -127.81292444580225, \"comparison_vector_value\": 2, \"max_comparison_vector_value\": 3, \"bayes_factor_description\": \"If comparison level is `levenshtein <= 1` then comparison is  298,898,745,116,896,743,061,019,389,007,537,111,040.00 times less likely to be a match\", \"probability_two_random_records_match\": 9.997803961269055e-05, \"comparison_sort_order\": 0}, {\"comparison_name\": \"first_name\", \"sql_condition\": \"levenshtein(\\\"first_name_l\\\", \\\"first_name_r\\\") <= 2\", \"label_for_charts\": \"levenshtein <= 2\", \"m_probability\": 3.729607720535842e-46, \"u_probability\": 0.004905619888296774, \"m_probability_description\": \"Amongst matching record comparisons, 0.00% of records are in the levenshtein <= 2 comparison level\", \"u_probability_description\": \"Amongst non-matching record comparisons, 0.49% of records are in the levenshtein <= 2 comparison level\", \"has_tf_adjustments\": false, \"tf_adjustment_column\": null, \"tf_adjustment_weight\": 1.0, \"is_null_level\": false, \"bayes_factor\": 7.602724641249687e-44, \"log2_bayes_factor\": -143.23831963517506, \"comparison_vector_value\": 1, \"max_comparison_vector_value\": 3, \"bayes_factor_description\": \"If comparison level is `levenshtein <= 2` then comparison is  13,153,179,250,690,663,283,853,278,784,545,901,003,145,216.00 times less likely to be a match\", \"probability_two_random_records_match\": 9.997803961269055e-05, \"comparison_sort_order\": 0}, {\"comparison_name\": \"first_name\", \"sql_condition\": \"ELSE\", \"label_for_charts\": \"All other comparisons\", \"m_probability\": 1.393594695500612e-22, \"u_probability\": 0.9899360954173065, \"m_probability_description\": \"Amongst matching record comparisons, 0.00% of records are in the all other comparisons comparison level\", \"u_probability_description\": \"Amongst non-matching record comparisons, 98.99% of records are in the all other comparisons comparison level\", \"has_tf_adjustments\": false, \"tf_adjustment_column\": null, \"tf_adjustment_weight\": 1.0, \"is_null_level\": false, \"bayes_factor\": 1.40776228076939e-22, \"log2_bayes_factor\": -72.58901435106796, \"comparison_vector_value\": 0, \"max_comparison_vector_value\": 3, \"bayes_factor_description\": \"If comparison level is `all other comparisons` then comparison is  7,103,472,039,707,342,274,560.00 times less likely to be a match\", \"probability_two_random_records_match\": 9.997803961269055e-05, \"comparison_sort_order\": 0}, {\"comparison_name\": \"last_name\", \"sql_condition\": \"\\\"last_name_l\\\" = \\\"last_name_r\\\"\", \"label_for_charts\": \"Exact match\", \"m_probability\": 0.9998432475990155, \"u_probability\": 0.0019071001117955237, \"m_probability_description\": \"Amongst matching record comparisons, 99.98% of records are in the exact match comparison level\", \"u_probability_description\": \"Amongst non-matching record comparisons, 0.19% of records are in the exact match comparison level\", \"has_tf_adjustments\": false, \"tf_adjustment_column\": null, \"tf_adjustment_weight\": 1.0, \"is_null_level\": false, \"bayes_factor\": 524.2741277266608, \"log2_bayes_factor\": 9.034177542187416, \"comparison_vector_value\": 3, \"max_comparison_vector_value\": 3, \"bayes_factor_description\": \"If comparison level is `exact match` then comparison is 524.27 times more likely to be a match\", \"probability_two_random_records_match\": 9.997803961269055e-05, \"comparison_sort_order\": 1}, {\"comparison_name\": \"last_name\", \"sql_condition\": \"levenshtein(\\\"last_name_l\\\", \\\"last_name_r\\\") <= 1\", \"label_for_charts\": \"levenshtein <= 1\", \"m_probability\": 1.5910784091279572e-170, \"u_probability\": 0.00025843340897894573, \"m_probability_description\": \"Amongst matching record comparisons, 0.00% of records are in the levenshtein <= 1 comparison level\", \"u_probability_description\": \"Amongst non-matching record comparisons, 0.03% of records are in the levenshtein <= 1 comparison level\", \"has_tf_adjustments\": false, \"tf_adjustment_column\": null, \"tf_adjustment_weight\": 1.0, \"is_null_level\": false, \"bayes_factor\": 6.1566281829203456e-167, \"log2_bayes_factor\": -552.1398514036483, \"comparison_vector_value\": 2, \"max_comparison_vector_value\": 3, \"bayes_factor_description\": \"If comparison level is `levenshtein <= 1` then comparison is  16,242,657,024,086,492,403,901,481,258,372,275,825,365,370,276,208,381,276,456,026,279,762,259,060,873,357,526,366,815,647,945,049,481,715,613,667,092,165,490,003,545,905,378,274,538,660,802,885,503,579,644,252,819,292,160.00 times less likely to be a match\", \"probability_two_random_records_match\": 9.997803961269055e-05, \"comparison_sort_order\": 1}, {\"comparison_name\": \"last_name\", \"sql_condition\": \"levenshtein(\\\"last_name_l\\\", \\\"last_name_r\\\") <= 2\", \"label_for_charts\": \"levenshtein <= 2\", \"m_probability\": 1.5144349407174393e-16, \"u_probability\": 0.0019197910381293112, \"m_probability_description\": \"Amongst matching record comparisons, 0.00% of records are in the levenshtein <= 2 comparison level\", \"u_probability_description\": \"Amongst non-matching record comparisons, 0.19% of records are in the levenshtein <= 2 comparison level\", \"has_tf_adjustments\": false, \"tf_adjustment_column\": null, \"tf_adjustment_weight\": 1.0, \"is_null_level\": false, \"bayes_factor\": 7.88854052674993e-14, \"log2_bayes_factor\": -43.52723491913317, \"comparison_vector_value\": 1, \"max_comparison_vector_value\": 3, \"bayes_factor_description\": \"If comparison level is `levenshtein <= 2` then comparison is  12,676,616,119,407.82 times less likely to be a match\", \"probability_two_random_records_match\": 9.997803961269055e-05, \"comparison_sort_order\": 1}, {\"comparison_name\": \"last_name\", \"sql_condition\": \"ELSE\", \"label_for_charts\": \"All other comparisons\", \"m_probability\": 0.00015675240098426987, \"u_probability\": 0.9959146754410962, \"m_probability_description\": \"Amongst matching record comparisons, 0.02% of records are in the all other comparisons comparison level\", \"u_probability_description\": \"Amongst non-matching record comparisons, 99.59% of records are in the all other comparisons comparison level\", \"has_tf_adjustments\": false, \"tf_adjustment_column\": null, \"tf_adjustment_weight\": 1.0, \"is_null_level\": false, \"bayes_factor\": 0.00015739541232771104, \"log2_bayes_factor\": -12.633318888948759, \"comparison_vector_value\": 0, \"max_comparison_vector_value\": 3, \"bayes_factor_description\": \"If comparison level is `all other comparisons` then comparison is  6,353.43 times less likely to be a match\", \"probability_two_random_records_match\": 9.997803961269055e-05, \"comparison_sort_order\": 1}, {\"comparison_name\": \"sex\", \"sql_condition\": \"\\\"sex_l\\\" = \\\"sex_r\\\"\", \"label_for_charts\": \"Exact match\", \"m_probability\": 1.0, \"u_probability\": 0.5030740884742161, \"m_probability_description\": \"Amongst matching record comparisons, 100.00% of records are in the exact match comparison level\", \"u_probability_description\": \"Amongst non-matching record comparisons, 50.31% of records are in the exact match comparison level\", \"has_tf_adjustments\": false, \"tf_adjustment_column\": null, \"tf_adjustment_weight\": 1.0, \"is_null_level\": false, \"bayes_factor\": 1.9877787842997856, \"log2_bayes_factor\": 0.9911572113511078, \"comparison_vector_value\": 1, \"max_comparison_vector_value\": 1, \"bayes_factor_description\": \"If comparison level is `exact match` then comparison is 1.99 times more likely to be a match\", \"probability_two_random_records_match\": 9.997803961269055e-05, \"comparison_sort_order\": 2}, {\"comparison_name\": \"sex\", \"sql_condition\": \"ELSE\", \"label_for_charts\": \"All other comparisons\", \"m_probability\": 1.3122750697005212e-86, \"u_probability\": 0.4969259115257839, \"m_probability_description\": \"Amongst matching record comparisons, 0.00% of records are in the all other comparisons comparison level\", \"u_probability_description\": \"Amongst non-matching record comparisons, 49.69% of records are in the all other comparisons comparison level\", \"has_tf_adjustments\": false, \"tf_adjustment_column\": null, \"tf_adjustment_weight\": 1.0, \"is_null_level\": false, \"bayes_factor\": 2.6407861599956666e-86, \"log2_bayes_factor\": -284.2848486775905, \"comparison_vector_value\": 0, \"max_comparison_vector_value\": 1, \"bayes_factor_description\": \"If comparison level is `all other comparisons` then comparison is  37,867,511,392,957,351,276,914,329,764,606,954,077,412,411,912,508,350,009,937,788,971,889,813,204,930,178,056,192.00 times less likely to be a match\", \"probability_two_random_records_match\": 9.997803961269055e-05, \"comparison_sort_order\": 2}, {\"comparison_name\": \"age\", \"sql_condition\": \"round(age_r) - round(age_l) = 10\", \"label_for_charts\": \"Exact match\", \"m_probability\": 0.7797818041412828, \"u_probability\": 0.010308493344762859, \"m_probability_description\": \"Amongst matching record comparisons, 77.98% of records are in the exact match comparison level\", \"u_probability_description\": \"Amongst non-matching record comparisons, 1.03% of records are in the exact match comparison level\", \"has_tf_adjustments\": false, \"tf_adjustment_column\": null, \"tf_adjustment_weight\": 1.0, \"is_null_level\": false, \"bayes_factor\": 75.64459500160072, \"log2_bayes_factor\": 6.241165096787867, \"comparison_vector_value\": 2, \"max_comparison_vector_value\": 2, \"bayes_factor_description\": \"If comparison level is `exact match` then comparison is 75.64 times more likely to be a match\", \"probability_two_random_records_match\": 9.997803961269055e-05, \"comparison_sort_order\": 3}, {\"comparison_name\": \"age\", \"sql_condition\": \"abs(round(age_r) - (round(age_l)+10)) = 1\", \"label_for_charts\": \"Age within 1 year\", \"m_probability\": 0.05591854410160638, \"u_probability\": 0.02064582970392069, \"m_probability_description\": \"Amongst matching record comparisons, 5.59% of records are in the age within 1 year comparison level\", \"u_probability_description\": \"Amongst non-matching record comparisons, 2.06% of records are in the age within 1 year comparison level\", \"has_tf_adjustments\": false, \"tf_adjustment_column\": null, \"tf_adjustment_weight\": 1.0, \"is_null_level\": false, \"bayes_factor\": 2.708466789832492, \"log2_bayes_factor\": 1.4374764011513286, \"comparison_vector_value\": 1, \"max_comparison_vector_value\": 2, \"bayes_factor_description\": \"If comparison level is `age within 1 year` then comparison is 2.71 times more likely to be a match\", \"probability_two_random_records_match\": 9.997803961269055e-05, \"comparison_sort_order\": 3}, {\"comparison_name\": \"age\", \"sql_condition\": \"ELSE\", \"label_for_charts\": \"Age difference >= 2 years\", \"m_probability\": 0.1643026142283147, \"u_probability\": 0.9690456769513165, \"m_probability_description\": \"Amongst matching record comparisons, 16.43% of records are in the age difference >= 2 years comparison level\", \"u_probability_description\": \"Amongst non-matching record comparisons, 96.90% of records are in the age difference >= 2 years comparison level\", \"has_tf_adjustments\": false, \"tf_adjustment_column\": null, \"tf_adjustment_weight\": 1.0, \"is_null_level\": false, \"bayes_factor\": 0.16955094907932705, \"log2_bayes_factor\": -2.560209234863704, \"comparison_vector_value\": 0, \"max_comparison_vector_value\": 2, \"bayes_factor_description\": \"If comparison level is `age difference >= 2 years` then comparison is  5.90 times less likely to be a match\", \"probability_two_random_records_match\": 9.997803961269055e-05, \"comparison_sort_order\": 3}]}, \"title\": {\"text\": \"Proportion of record comparisons in each comparison level by match status\", \"subtitle\": \"(m and u probabilities)\"}, \"$schema\": \"https://vega.github.io/schema/vega-lite/v4.json\"}, {\"mode\": \"vega-lite\"});\n",
       "</script>"
      ],
      "text/plain": [
       "<splink.charts.VegaliteNoValidate at 0x7f3f615850a0>"
      ]
     },
     "execution_count": 37,
     "metadata": {},
     "output_type": "execute_result"
    }
   ],
   "source": [
    "linker.m_u_parameters_chart()"
   ]
  },
  {
   "cell_type": "markdown",
   "id": "a0ecf0b5",
   "metadata": {},
   "source": [
    "# Look for unlinkable records\n",
    "\n",
    "https://moj-analytical-services.github.io/splink/demos/03_Estimating_model_parameters.html#detecting-unlinkable-records\n",
    "\n",
    "The graph shows nothing. Does that mean there are none?"
   ]
  },
  {
   "cell_type": "code",
   "execution_count": 38,
   "id": "e8938534",
   "metadata": {},
   "outputs": [
    {
     "data": {
      "text/html": [
       "\n",
       "<div id=\"altair-viz-6831ce1ead4a49fea0fd7d82f02db152\"></div>\n",
       "<script type=\"text/javascript\">\n",
       "  var VEGA_DEBUG = (typeof VEGA_DEBUG == \"undefined\") ? {} : VEGA_DEBUG;\n",
       "  (function(spec, embedOpt){\n",
       "    let outputDiv = document.currentScript.previousElementSibling;\n",
       "    if (outputDiv.id !== \"altair-viz-6831ce1ead4a49fea0fd7d82f02db152\") {\n",
       "      outputDiv = document.getElementById(\"altair-viz-6831ce1ead4a49fea0fd7d82f02db152\");\n",
       "    }\n",
       "    const paths = {\n",
       "      \"vega\": \"https://cdn.jsdelivr.net/npm//vega@5?noext\",\n",
       "      \"vega-lib\": \"https://cdn.jsdelivr.net/npm//vega-lib?noext\",\n",
       "      \"vega-lite\": \"https://cdn.jsdelivr.net/npm//vega-lite@4.17.0?noext\",\n",
       "      \"vega-embed\": \"https://cdn.jsdelivr.net/npm//vega-embed@6?noext\",\n",
       "    };\n",
       "\n",
       "    function maybeLoadScript(lib, version) {\n",
       "      var key = `${lib.replace(\"-\", \"\")}_version`;\n",
       "      return (VEGA_DEBUG[key] == version) ?\n",
       "        Promise.resolve(paths[lib]) :\n",
       "        new Promise(function(resolve, reject) {\n",
       "          var s = document.createElement('script');\n",
       "          document.getElementsByTagName(\"head\")[0].appendChild(s);\n",
       "          s.async = true;\n",
       "          s.onload = () => {\n",
       "            VEGA_DEBUG[key] = version;\n",
       "            return resolve(paths[lib]);\n",
       "          };\n",
       "          s.onerror = () => reject(`Error loading script: ${paths[lib]}`);\n",
       "          s.src = paths[lib];\n",
       "        });\n",
       "    }\n",
       "\n",
       "    function showError(err) {\n",
       "      outputDiv.innerHTML = `<div class=\"error\" style=\"color:red;\">${err}</div>`;\n",
       "      throw err;\n",
       "    }\n",
       "\n",
       "    function displayChart(vegaEmbed) {\n",
       "      vegaEmbed(outputDiv, spec, embedOpt)\n",
       "        .catch(err => showError(`Javascript Error: ${err.message}<br>This usually means there's a typo in your chart specification. See the javascript console for the full traceback.`));\n",
       "    }\n",
       "\n",
       "    if(typeof define === \"function\" && define.amd) {\n",
       "      requirejs.config({paths});\n",
       "      require([\"vega-embed\"], displayChart, err => showError(`Error loading script: ${err.message}`));\n",
       "    } else {\n",
       "      maybeLoadScript(\"vega\", \"5\")\n",
       "        .then(() => maybeLoadScript(\"vega-lite\", \"4.17.0\"))\n",
       "        .then(() => maybeLoadScript(\"vega-embed\", \"6\"))\n",
       "        .catch(showError)\n",
       "        .then(() => displayChart(vegaEmbed));\n",
       "    }\n",
       "  })({\"config\": {\"view\": {\"continuousWidth\": 400, \"continuousHeight\": 300}}, \"layer\": [{\"mark\": \"line\", \"encoding\": {\"x\": {\"type\": \"quantitative\", \"axis\": {\"format\": \"+\", \"title\": \"Threshold match weight\"}, \"field\": \"match_weight\"}, \"y\": {\"type\": \"quantitative\", \"axis\": {\"format\": \"%\", \"title\": \"Percentage of unlinkable records\"}, \"field\": \"cum_prop\"}}}, {\"mark\": \"point\", \"encoding\": {\"opacity\": {\"value\": 0}, \"tooltip\": [{\"type\": \"quantitative\", \"field\": \"match_weight\", \"format\": \"+.5\", \"title\": \"Match weight\"}, {\"type\": \"quantitative\", \"field\": \"match_probability\", \"format\": \".5\", \"title\": \"Match probability\"}, {\"type\": \"quantitative\", \"field\": \"cum_prop\", \"format\": \".3%\", \"title\": \"Proportion of unlinkable records\"}], \"x\": {\"type\": \"quantitative\", \"field\": \"match_weight\"}, \"y\": {\"type\": \"quantitative\", \"field\": \"cum_prop\"}}, \"selection\": {\"selector112\": {\"type\": \"single\", \"nearest\": true, \"on\": \"mouseover\", \"fields\": [\"match_weight\", \"cum_prop\"], \"empty\": \"none\"}}}, {\"mark\": \"point\", \"encoding\": {\"opacity\": {\"condition\": {\"value\": 1, \"selection\": \"selector112\"}, \"value\": 0}, \"x\": {\"type\": \"quantitative\", \"axis\": {\"title\": \"Threshold match weight\"}, \"field\": \"match_weight\"}, \"y\": {\"type\": \"quantitative\", \"axis\": {\"format\": \"%\", \"title\": \"Percentage of unlinkable records\"}, \"field\": \"cum_prop\"}}}, {\"mark\": {\"type\": \"rule\", \"color\": \"gray\"}, \"encoding\": {\"x\": {\"type\": \"quantitative\", \"field\": \"match_weight\"}}, \"transform\": [{\"filter\": {\"selection\": \"selector112\"}}]}, {\"mark\": {\"type\": \"rule\", \"color\": \"gray\"}, \"encoding\": {\"y\": {\"type\": \"quantitative\", \"field\": \"cum_prop\"}}, \"transform\": [{\"filter\": {\"selection\": \"selector112\"}}]}], \"data\": {\"values\": [{\"match_weight\": 2.04, \"match_probability\": 0.80477, \"prop\": 1.0, \"cum_prop\": 1.0}]}, \"height\": 400, \"title\": {\"text\": \"Unlinkable records\", \"subtitle\": \"Records with insufficient information to exceed a given match threshold\"}, \"width\": 400, \"$schema\": \"https://vega.github.io/schema/vega-lite/v4.8.1.json\"}, {\"mode\": \"vega-lite\"});\n",
       "</script>"
      ],
      "text/plain": [
       "<splink.charts.VegaliteNoValidate at 0x7f3f615851f0>"
      ]
     },
     "execution_count": 38,
     "metadata": {},
     "output_type": "execute_result"
    }
   ],
   "source": [
    "linker.unlinkables_chart()"
   ]
  },
  {
   "cell_type": "markdown",
   "id": "c2140b87",
   "metadata": {},
   "source": [
    "# Saving the model parameters and reloading them to do prediction/linking\n",
    "\n",
    "[Saving the model](https://moj-analytical-services.github.io/splink/demos/03_Estimating_model_parameters.html#saving-the-model):\n",
    "\n",
    "```python\n",
    "linker.save_settings_to_json(\"./demo_settings/saved_model_from_demo.json\", overwrite=True)\n",
    "```\n",
    "\n",
    "[Loading saved model](https://moj-analytical-services.github.io/splink/demos/04_Predicting_results.html#load-estimated-model-from-previous-tutorial):\n",
    "\n",
    "```python\n",
    "linker = DuckDBLinker(df) # The demo was for de-duplication, so only one df\n",
    "linker.load_settings_from_json(\"./demo_settings/saved_model_from_demo.json\")\n",
    "```"
   ]
  },
  {
   "cell_type": "code",
   "execution_count": 39,
   "id": "55854294",
   "metadata": {},
   "outputs": [],
   "source": [
    "linker.save_settings_to_json(\n",
    "    \"./splink_test_data/saved_model_from_census_test.json\",\n",
    "    overwrite=True\n",
    ")"
   ]
  },
  {
   "cell_type": "markdown",
   "id": "5047e763",
   "metadata": {},
   "source": [
    "# Save input dataframes since they will also be needed to reload the model"
   ]
  },
  {
   "cell_type": "code",
   "execution_count": 40,
   "id": "c1b07690",
   "metadata": {},
   "outputs": [
    {
     "data": {
      "text/plain": [
       "dict_keys([2020, 2030])"
      ]
     },
     "execution_count": 40,
     "metadata": {},
     "output_type": "execute_result"
    }
   ],
   "source": [
    "subcensus.keys()"
   ]
  },
  {
   "cell_type": "code",
   "execution_count": 41,
   "id": "1cd91511",
   "metadata": {},
   "outputs": [
    {
     "name": "stdout",
     "output_type": "stream",
     "text": [
      "(9495, 11)\n",
      "(8539, 11)\n"
     ]
    }
   ],
   "source": [
    "for year, df in subcensus.items():\n",
    "    print(df.shape)\n",
    "    df.to_csv(f\"./splink_test_data/census_{year}_test_sample.csv\")"
   ]
  },
  {
   "cell_type": "code",
   "execution_count": 42,
   "id": "25e89288",
   "metadata": {},
   "outputs": [
    {
     "name": "stdout",
     "output_type": "stream",
     "text": [
      "total 4192\r\n",
      "-rw-rw-r-- 1 ndbs Domain Users 1059095 Jan  6 15:44 census_2020_test_sample.csv\r\n",
      "-rw-rw-r-- 1 ndbs Domain Users  958764 Jan  6 15:44 census_2030_test_sample.csv\r\n",
      "-rw-rw-r-- 1 ndbs Domain Users 1127312 Jan  5 14:26 cluster_studio.html\r\n",
      "-rw-rw-r-- 1 ndbs Domain Users 1109892 Jan  5 14:26 comparison_viewer.html\r\n",
      "-rw-rw-r-- 1 ndbs Domain Users    5866 Jan  6 15:44 saved_model_from_census_test.json\r\n"
     ]
    }
   ],
   "source": [
    "!ls -l splink_test_data/"
   ]
  },
  {
   "cell_type": "code",
   "execution_count": null,
   "id": "f4e634ea",
   "metadata": {},
   "outputs": [],
   "source": []
  }
 ],
 "metadata": {
  "kernelspec": {
   "display_name": "Python 3 (ipykernel)",
   "language": "python",
   "name": "python3"
  },
  "language_info": {
   "codemirror_mode": {
    "name": "ipython",
    "version": 3
   },
   "file_extension": ".py",
   "mimetype": "text/x-python",
   "name": "python",
   "nbconvert_exporter": "python",
   "pygments_lexer": "ipython3",
   "version": "3.8.13"
  }
 },
 "nbformat": 4,
 "nbformat_minor": 5
}
