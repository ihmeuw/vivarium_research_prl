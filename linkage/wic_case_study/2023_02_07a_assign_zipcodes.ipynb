{
 "cells": [
  {
   "cell_type": "code",
   "execution_count": 1,
   "id": "50cb86d5",
   "metadata": {},
   "outputs": [
    {
     "name": "stdout",
     "output_type": "stream",
     "text": [
      "Tue 07 Feb 2023 12:19:16 PM PST\n",
      "ndbs\n",
      "Linux int-slurm-sarchive-p0004 5.4.0-89-generic #100-Ubuntu SMP Fri Sep 24 14:50:10 UTC 2021 x86_64 x86_64 x86_64 GNU/Linux\n",
      "/mnt/share/code/ndbs/vivarium_research_prl/linkage/wic_case_study\n"
     ]
    }
   ],
   "source": [
    "import numpy as np, matplotlib.pyplot as plt, pandas as pd\n",
    "pd.set_option('display.max_rows', 40)\n",
    "\n",
    "from vivarium_research_prl.noise import corruption, fake_names, noisify\n",
    "\n",
    "!date\n",
    "!whoami\n",
    "!uname -a\n",
    "!pwd"
   ]
  },
  {
   "cell_type": "code",
   "execution_count": 2,
   "id": "d92cd2a3",
   "metadata": {},
   "outputs": [],
   "source": [
    "%load_ext autoreload\n",
    "%autoreload 2"
   ]
  },
  {
   "cell_type": "markdown",
   "id": "c8773162",
   "metadata": {},
   "source": [
    "# Goal: Assign zipcodes to new census data that only has address IDs\n",
    "\n",
    "We can use use the zipcodes from the `2022_10_14_10_49_32` data that has both address and zipcode columns. The idea is to map each unique address ID in the new `2023_02_02_10_16_21` data to an address in the old data, then use the zipcode for that address. The goal is to have the relative number of addreses per zipcode be about the same as in the old data. I'm not concerned with getting address strings for the address IDs, because I can just convert each ID to a string and use that as the address for linking."
   ]
  },
  {
   "cell_type": "markdown",
   "id": "86f448d8",
   "metadata": {},
   "source": [
    "# Define directories"
   ]
  },
  {
   "cell_type": "code",
   "execution_count": 4,
   "id": "550591be",
   "metadata": {},
   "outputs": [
    {
     "name": "stdout",
     "output_type": "stream",
     "text": [
      "total 32224\r\n",
      "-rw-rw-r-- 1 albrja   IHME-Simulationscience 12622072 Oct 20 23:08 decennial_census.hdf\r\n",
      "-rwxrwxrwx 1 beatrixh IHME-Simulationscience 20364830 Nov 14 16:42 state_table.hdf\r\n"
     ]
    }
   ],
   "source": [
    "project_output_dir = '/mnt/team/simulation_science/priv/engineering/vivarium_census_prl_synth_pop'\n",
    "orig_data_subdir = 'results/special_last_names/florida/2022_10_14_10_49_32/population_table/'\n",
    "orig_data_dir = f'{project_output_dir}/{orig_data_subdir}'\n",
    "\n",
    "new_data_subdir = 'results/vv_post_processing_first_middle_names/united_states_of_america/2023_02_02_10_16_21/'\n",
    "new_data_subsubdir = 'final_results/2023_02_02_11_10_52'\n",
    "new_data_dir = f'{project_output_dir}/{new_data_subdir}/{new_data_subsubdir}'\n",
    "\n",
    "!ls -l $orig_data_dir\n"
   ]
  },
  {
   "cell_type": "markdown",
   "id": "054670c9",
   "metadata": {},
   "source": [
    "# Load state table from original data"
   ]
  },
  {
   "cell_type": "code",
   "execution_count": 5,
   "id": "c22950b0",
   "metadata": {},
   "outputs": [
    {
     "data": {
      "text/html": [
       "<div>\n",
       "<style scoped>\n",
       "    .dataframe tbody tr th:only-of-type {\n",
       "        vertical-align: middle;\n",
       "    }\n",
       "\n",
       "    .dataframe tbody tr th {\n",
       "        vertical-align: top;\n",
       "    }\n",
       "\n",
       "    .dataframe thead th {\n",
       "        text-align: right;\n",
       "    }\n",
       "</style>\n",
       "<table border=\"1\" class=\"dataframe\">\n",
       "  <thead>\n",
       "    <tr style=\"text-align: right;\">\n",
       "      <th></th>\n",
       "      <th>tracked</th>\n",
       "      <th>middle_name</th>\n",
       "      <th>sex</th>\n",
       "      <th>relation_to_household_head</th>\n",
       "      <th>race_ethnicity</th>\n",
       "      <th>housing_type</th>\n",
       "      <th>exit_time</th>\n",
       "      <th>last_name</th>\n",
       "      <th>state</th>\n",
       "      <th>ssn</th>\n",
       "      <th>...</th>\n",
       "      <th>years_of_life_lost</th>\n",
       "      <th>cause_of_death</th>\n",
       "      <th>zipcode</th>\n",
       "      <th>address</th>\n",
       "      <th>parent_id</th>\n",
       "      <th>last_birth_time</th>\n",
       "      <th>employer_id</th>\n",
       "      <th>employer_name</th>\n",
       "      <th>employer_zipcode</th>\n",
       "      <th>employer_address</th>\n",
       "    </tr>\n",
       "  </thead>\n",
       "  <tbody>\n",
       "    <tr>\n",
       "      <th>0</th>\n",
       "      <td>True</td>\n",
       "      <td>Jenny</td>\n",
       "      <td>Female</td>\n",
       "      <td>Reference person</td>\n",
       "      <td>Black</td>\n",
       "      <td>Standard</td>\n",
       "      <td>NaT</td>\n",
       "      <td>Clark</td>\n",
       "      <td>12</td>\n",
       "      <td>486-24-8278</td>\n",
       "      <td>...</td>\n",
       "      <td>0.0</td>\n",
       "      <td>not_dead</td>\n",
       "      <td>34601</td>\n",
       "      <td>1344 winoka rd  brooksville, fl</td>\n",
       "      <td>-1</td>\n",
       "      <td>2019-03-04 18:00:00</td>\n",
       "      <td>46</td>\n",
       "      <td>not implemented</td>\n",
       "      <td>33187</td>\n",
       "      <td>2408 brookshire dr  sunset corners, fl</td>\n",
       "    </tr>\n",
       "    <tr>\n",
       "      <th>1</th>\n",
       "      <td>True</td>\n",
       "      <td>Virgil</td>\n",
       "      <td>Male</td>\n",
       "      <td>Reference person</td>\n",
       "      <td>Black</td>\n",
       "      <td>Standard</td>\n",
       "      <td>NaT</td>\n",
       "      <td>Littlejohn</td>\n",
       "      <td>12</td>\n",
       "      <td>108-89-8623</td>\n",
       "      <td>...</td>\n",
       "      <td>0.0</td>\n",
       "      <td>not_dead</td>\n",
       "      <td>34698</td>\n",
       "      <td>927 23rd st  clearwater, fl</td>\n",
       "      <td>-1</td>\n",
       "      <td>NaT</td>\n",
       "      <td>193</td>\n",
       "      <td>not implemented</td>\n",
       "      <td>33948</td>\n",
       "      <td>144 tulip ln  prt charlotte, fl</td>\n",
       "    </tr>\n",
       "    <tr>\n",
       "      <th>2</th>\n",
       "      <td>True</td>\n",
       "      <td>Annaliese</td>\n",
       "      <td>Female</td>\n",
       "      <td>Biological child</td>\n",
       "      <td>Black</td>\n",
       "      <td>Standard</td>\n",
       "      <td>NaT</td>\n",
       "      <td>Jackson</td>\n",
       "      <td>12</td>\n",
       "      <td>788-05-3097</td>\n",
       "      <td>...</td>\n",
       "      <td>0.0</td>\n",
       "      <td>not_dead</td>\n",
       "      <td>34698</td>\n",
       "      <td>927 23rd st  clearwater, fl</td>\n",
       "      <td>-1</td>\n",
       "      <td>2019-03-04 18:00:00</td>\n",
       "      <td>-1</td>\n",
       "      <td>unemployed</td>\n",
       "      <td>NA</td>\n",
       "      <td>NA</td>\n",
       "    </tr>\n",
       "    <tr>\n",
       "      <th>3</th>\n",
       "      <td>True</td>\n",
       "      <td>Devyn</td>\n",
       "      <td>Male</td>\n",
       "      <td>Stepchild</td>\n",
       "      <td>Black</td>\n",
       "      <td>Standard</td>\n",
       "      <td>NaT</td>\n",
       "      <td>Cox</td>\n",
       "      <td>12</td>\n",
       "      <td></td>\n",
       "      <td>...</td>\n",
       "      <td>0.0</td>\n",
       "      <td>not_dead</td>\n",
       "      <td>34698</td>\n",
       "      <td>927 23rd st  clearwater, fl</td>\n",
       "      <td>-1</td>\n",
       "      <td>NaT</td>\n",
       "      <td>204</td>\n",
       "      <td>not implemented</td>\n",
       "      <td>33169</td>\n",
       "      <td>1835 harvard dr  hialeah, fl</td>\n",
       "    </tr>\n",
       "    <tr>\n",
       "      <th>4</th>\n",
       "      <td>True</td>\n",
       "      <td>Jonathan</td>\n",
       "      <td>Male</td>\n",
       "      <td>Reference person</td>\n",
       "      <td>White</td>\n",
       "      <td>Standard</td>\n",
       "      <td>NaT</td>\n",
       "      <td>Tucker</td>\n",
       "      <td>12</td>\n",
       "      <td>009-31-4192</td>\n",
       "      <td>...</td>\n",
       "      <td>0.0</td>\n",
       "      <td>not_dead</td>\n",
       "      <td>32003</td>\n",
       "      <td>8904 167th place  fleming island, fl</td>\n",
       "      <td>-1</td>\n",
       "      <td>NaT</td>\n",
       "      <td>176</td>\n",
       "      <td>not implemented</td>\n",
       "      <td>34293</td>\n",
       "      <td>2607 e bluefield ave  venice, fl</td>\n",
       "    </tr>\n",
       "    <tr>\n",
       "      <th>...</th>\n",
       "      <td>...</td>\n",
       "      <td>...</td>\n",
       "      <td>...</td>\n",
       "      <td>...</td>\n",
       "      <td>...</td>\n",
       "      <td>...</td>\n",
       "      <td>...</td>\n",
       "      <td>...</td>\n",
       "      <td>...</td>\n",
       "      <td>...</td>\n",
       "      <td>...</td>\n",
       "      <td>...</td>\n",
       "      <td>...</td>\n",
       "      <td>...</td>\n",
       "      <td>...</td>\n",
       "      <td>...</td>\n",
       "      <td>...</td>\n",
       "      <td>...</td>\n",
       "      <td>...</td>\n",
       "      <td>...</td>\n",
       "      <td>...</td>\n",
       "    </tr>\n",
       "    <tr>\n",
       "      <th>49995</th>\n",
       "      <td>True</td>\n",
       "      <td>Nicholas</td>\n",
       "      <td>Male</td>\n",
       "      <td>Institutionalized GQ pop</td>\n",
       "      <td>White</td>\n",
       "      <td>Other institutional</td>\n",
       "      <td>NaT</td>\n",
       "      <td>Roberts</td>\n",
       "      <td>12</td>\n",
       "      <td>625-97-5353</td>\n",
       "      <td>...</td>\n",
       "      <td>0.0</td>\n",
       "      <td>not_dead</td>\n",
       "      <td>33919</td>\n",
       "      <td>114 s frnt st  fort myers, fl</td>\n",
       "      <td>-1</td>\n",
       "      <td>NaT</td>\n",
       "      <td>-1</td>\n",
       "      <td>unemployed</td>\n",
       "      <td>NA</td>\n",
       "      <td>NA</td>\n",
       "    </tr>\n",
       "    <tr>\n",
       "      <th>49996</th>\n",
       "      <td>True</td>\n",
       "      <td>John</td>\n",
       "      <td>Male</td>\n",
       "      <td>Institutionalized GQ pop</td>\n",
       "      <td>White</td>\n",
       "      <td>Carceral</td>\n",
       "      <td>NaT</td>\n",
       "      <td>Campbell</td>\n",
       "      <td>12</td>\n",
       "      <td>238-09-2208</td>\n",
       "      <td>...</td>\n",
       "      <td>0.0</td>\n",
       "      <td>not_dead</td>\n",
       "      <td>33021</td>\n",
       "      <td>2210 henn hyde rd ne  hollywood, fl</td>\n",
       "      <td>-1</td>\n",
       "      <td>NaT</td>\n",
       "      <td>-1</td>\n",
       "      <td>unemployed</td>\n",
       "      <td>NA</td>\n",
       "      <td>NA</td>\n",
       "    </tr>\n",
       "    <tr>\n",
       "      <th>49997</th>\n",
       "      <td>True</td>\n",
       "      <td>Charles</td>\n",
       "      <td>Male</td>\n",
       "      <td>Institutionalized GQ pop</td>\n",
       "      <td>Latino</td>\n",
       "      <td>Nursing home</td>\n",
       "      <td>NaT</td>\n",
       "      <td>Rosales</td>\n",
       "      <td>12</td>\n",
       "      <td>650-80-3526</td>\n",
       "      <td>...</td>\n",
       "      <td>0.0</td>\n",
       "      <td>not_dead</td>\n",
       "      <td>32968</td>\n",
       "      <td>701 haber rd  vero beach, fl</td>\n",
       "      <td>-1</td>\n",
       "      <td>NaT</td>\n",
       "      <td>-1</td>\n",
       "      <td>unemployed</td>\n",
       "      <td>NA</td>\n",
       "      <td>NA</td>\n",
       "    </tr>\n",
       "    <tr>\n",
       "      <th>49998</th>\n",
       "      <td>True</td>\n",
       "      <td>Jermaine</td>\n",
       "      <td>Male</td>\n",
       "      <td>Institutionalized GQ pop</td>\n",
       "      <td>White</td>\n",
       "      <td>Other institutional</td>\n",
       "      <td>NaT</td>\n",
       "      <td>Morton</td>\n",
       "      <td>12</td>\n",
       "      <td>784-92-1608</td>\n",
       "      <td>...</td>\n",
       "      <td>0.0</td>\n",
       "      <td>not_dead</td>\n",
       "      <td>33919</td>\n",
       "      <td>114 s frnt st  fort myers, fl</td>\n",
       "      <td>-1</td>\n",
       "      <td>NaT</td>\n",
       "      <td>19</td>\n",
       "      <td>not implemented</td>\n",
       "      <td>33444</td>\n",
       "      <td>92 address unassigned  delray beach, fl</td>\n",
       "    </tr>\n",
       "    <tr>\n",
       "      <th>49999</th>\n",
       "      <td>True</td>\n",
       "      <td>Helen</td>\n",
       "      <td>Female</td>\n",
       "      <td>Institutionalized GQ pop</td>\n",
       "      <td>Black</td>\n",
       "      <td>Nursing home</td>\n",
       "      <td>NaT</td>\n",
       "      <td>Talley</td>\n",
       "      <td>12</td>\n",
       "      <td>839-05-1155</td>\n",
       "      <td>...</td>\n",
       "      <td>0.0</td>\n",
       "      <td>not_dead</td>\n",
       "      <td>32968</td>\n",
       "      <td>701 haber rd  vero beach, fl</td>\n",
       "      <td>-1</td>\n",
       "      <td>2019-03-04 18:00:00</td>\n",
       "      <td>204</td>\n",
       "      <td>not implemented</td>\n",
       "      <td>33169</td>\n",
       "      <td>1835 harvard dr  hialeah, fl</td>\n",
       "    </tr>\n",
       "  </tbody>\n",
       "</table>\n",
       "<p>50000 rows × 27 columns</p>\n",
       "</div>"
      ],
      "text/plain": [
       "       tracked middle_name     sex relation_to_household_head race_ethnicity  \\\n",
       "0         True       Jenny  Female           Reference person          Black   \n",
       "1         True      Virgil    Male           Reference person          Black   \n",
       "2         True   Annaliese  Female           Biological child          Black   \n",
       "3         True       Devyn    Male                  Stepchild          Black   \n",
       "4         True    Jonathan    Male           Reference person          White   \n",
       "...        ...         ...     ...                        ...            ...   \n",
       "49995     True    Nicholas    Male   Institutionalized GQ pop          White   \n",
       "49996     True        John    Male   Institutionalized GQ pop          White   \n",
       "49997     True     Charles    Male   Institutionalized GQ pop         Latino   \n",
       "49998     True    Jermaine    Male   Institutionalized GQ pop          White   \n",
       "49999     True       Helen  Female   Institutionalized GQ pop          Black   \n",
       "\n",
       "              housing_type exit_time   last_name  state          ssn  ...  \\\n",
       "0                 Standard       NaT       Clark     12  486-24-8278  ...   \n",
       "1                 Standard       NaT  Littlejohn     12  108-89-8623  ...   \n",
       "2                 Standard       NaT     Jackson     12  788-05-3097  ...   \n",
       "3                 Standard       NaT         Cox     12               ...   \n",
       "4                 Standard       NaT      Tucker     12  009-31-4192  ...   \n",
       "...                    ...       ...         ...    ...          ...  ...   \n",
       "49995  Other institutional       NaT     Roberts     12  625-97-5353  ...   \n",
       "49996             Carceral       NaT    Campbell     12  238-09-2208  ...   \n",
       "49997         Nursing home       NaT     Rosales     12  650-80-3526  ...   \n",
       "49998  Other institutional       NaT      Morton     12  784-92-1608  ...   \n",
       "49999         Nursing home       NaT      Talley     12  839-05-1155  ...   \n",
       "\n",
       "      years_of_life_lost cause_of_death zipcode  \\\n",
       "0                    0.0       not_dead   34601   \n",
       "1                    0.0       not_dead   34698   \n",
       "2                    0.0       not_dead   34698   \n",
       "3                    0.0       not_dead   34698   \n",
       "4                    0.0       not_dead   32003   \n",
       "...                  ...            ...     ...   \n",
       "49995                0.0       not_dead   33919   \n",
       "49996                0.0       not_dead   33021   \n",
       "49997                0.0       not_dead   32968   \n",
       "49998                0.0       not_dead   33919   \n",
       "49999                0.0       not_dead   32968   \n",
       "\n",
       "                                    address  parent_id     last_birth_time  \\\n",
       "0           1344 winoka rd  brooksville, fl         -1 2019-03-04 18:00:00   \n",
       "1               927 23rd st  clearwater, fl         -1                 NaT   \n",
       "2               927 23rd st  clearwater, fl         -1 2019-03-04 18:00:00   \n",
       "3               927 23rd st  clearwater, fl         -1                 NaT   \n",
       "4      8904 167th place  fleming island, fl         -1                 NaT   \n",
       "...                                     ...        ...                 ...   \n",
       "49995         114 s frnt st  fort myers, fl         -1                 NaT   \n",
       "49996   2210 henn hyde rd ne  hollywood, fl         -1                 NaT   \n",
       "49997          701 haber rd  vero beach, fl         -1                 NaT   \n",
       "49998         114 s frnt st  fort myers, fl         -1                 NaT   \n",
       "49999          701 haber rd  vero beach, fl         -1 2019-03-04 18:00:00   \n",
       "\n",
       "       employer_id    employer_name employer_zipcode  \\\n",
       "0               46  not implemented            33187   \n",
       "1              193  not implemented            33948   \n",
       "2               -1       unemployed               NA   \n",
       "3              204  not implemented            33169   \n",
       "4              176  not implemented            34293   \n",
       "...            ...              ...              ...   \n",
       "49995           -1       unemployed               NA   \n",
       "49996           -1       unemployed               NA   \n",
       "49997           -1       unemployed               NA   \n",
       "49998           19  not implemented            33444   \n",
       "49999          204  not implemented            33169   \n",
       "\n",
       "                              employer_address  \n",
       "0       2408 brookshire dr  sunset corners, fl  \n",
       "1              144 tulip ln  prt charlotte, fl  \n",
       "2                                           NA  \n",
       "3                 1835 harvard dr  hialeah, fl  \n",
       "4             2607 e bluefield ave  venice, fl  \n",
       "...                                        ...  \n",
       "49995                                       NA  \n",
       "49996                                       NA  \n",
       "49997                                       NA  \n",
       "49998  92 address unassigned  delray beach, fl  \n",
       "49999             1835 harvard dr  hialeah, fl  \n",
       "\n",
       "[50000 rows x 27 columns]"
      ]
     },
     "execution_count": 5,
     "metadata": {},
     "output_type": "execute_result"
    }
   ],
   "source": [
    "state_table_path = f'{orig_data_dir}/state_table.hdf'\n",
    "df_state_table = pd.read_hdf(state_table_path, 'ymd_2020_4_1')\n",
    "df_state_table"
   ]
  },
  {
   "cell_type": "markdown",
   "id": "4fc937fb",
   "metadata": {},
   "source": [
    "# Look at how addresses are distributed among zipcodes"
   ]
  },
  {
   "cell_type": "code",
   "execution_count": 7,
   "id": "41321ab2",
   "metadata": {},
   "outputs": [
    {
     "data": {
      "text/plain": [
       "zipcode\n",
       "cp34714      1\n",
       "32420        1\n",
       "32357        1\n",
       "cp34110      1\n",
       "32312        1\n",
       "          ... \n",
       "33908      114\n",
       "32218      120\n",
       "33974      138\n",
       "33993      154\n",
       "34953      155\n",
       "Name: address, Length: 864, dtype: int64"
      ]
     },
     "execution_count": 7,
     "metadata": {},
     "output_type": "execute_result"
    }
   ],
   "source": [
    "address_counts = df_state_table.groupby('zipcode')['address'].nunique().sort_values()\n",
    "address_counts"
   ]
  },
  {
   "cell_type": "code",
   "execution_count": 8,
   "id": "0b61583b",
   "metadata": {},
   "outputs": [
    {
     "data": {
      "text/plain": [
       "33919      460\n",
       "33993      406\n",
       "34953      403\n",
       "32968      358\n",
       "33021      351\n",
       "          ... \n",
       "cp34110      1\n",
       "32445        1\n",
       "33827        1\n",
       "32024        1\n",
       "33132        1\n",
       "Name: zipcode, Length: 864, dtype: int64"
      ]
     },
     "execution_count": 8,
     "metadata": {},
     "output_type": "execute_result"
    }
   ],
   "source": [
    "df_state_table.zipcode.value_counts()"
   ]
  },
  {
   "cell_type": "code",
   "execution_count": 11,
   "id": "df189273",
   "metadata": {},
   "outputs": [
    {
     "data": {
      "text/plain": [
       "<AxesSubplot: >"
      ]
     },
     "execution_count": 11,
     "metadata": {},
     "output_type": "execute_result"
    },
    {
     "data": {
      "image/png": "[encoded data removed]",
      "text/plain": [
       "<Figure size 640x480 with 1 Axes>"
      ]
     },
     "metadata": {},
     "output_type": "display_data"
    }
   ],
   "source": [
    "address_counts.hist(bins=100)"
   ]
  },
  {
   "cell_type": "code",
   "execution_count": 13,
   "id": "0707a780",
   "metadata": {},
   "outputs": [
    {
     "data": {
      "text/plain": [
       "<AxesSubplot: >"
      ]
     },
     "execution_count": 13,
     "metadata": {},
     "output_type": "execute_result"
    },
    {
     "data": {
      "image/png": "[encoded data removed]",
      "text/plain": [
       "<Figure size 640x480 with 1 Axes>"
      ]
     },
     "metadata": {},
     "output_type": "display_data"
    }
   ],
   "source": [
    "df_state_table.zipcode.value_counts().hist(bins=100)"
   ]
  },
  {
   "cell_type": "code",
   "execution_count": 12,
   "id": "adbb2aeb",
   "metadata": {},
   "outputs": [
    {
     "data": {
      "text/plain": [
       "1      55\n",
       "2      36\n",
       "21     29\n",
       "3      27\n",
       "17     26\n",
       "       ..\n",
       "78      1\n",
       "61      1\n",
       "76      1\n",
       "73      1\n",
       "155     1\n",
       "Name: address, Length: 93, dtype: int64"
      ]
     },
     "execution_count": 12,
     "metadata": {},
     "output_type": "execute_result"
    }
   ],
   "source": [
    "# 55 zipcodes with only one address\n",
    "# 1 zipcode with 155 addresses\n",
    "address_counts.value_counts()"
   ]
  },
  {
   "cell_type": "code",
   "execution_count": 14,
   "id": "b8ba04e5",
   "metadata": {},
   "outputs": [
    {
     "data": {
      "text/plain": [
       "2      18\n",
       "3      18\n",
       "7      18\n",
       "9      17\n",
       "1      16\n",
       "       ..\n",
       "153     1\n",
       "157     1\n",
       "159     1\n",
       "160     1\n",
       "460     1\n",
       "Name: zipcode, Length: 183, dtype: int64"
      ]
     },
     "execution_count": 14,
     "metadata": {},
     "output_type": "execute_result"
    }
   ],
   "source": [
    "# 18 zipcodes occurring in only 2 rows\n",
    "# 1 zipcode occurring in 460 rows\n",
    "df_state_table.zipcode.value_counts().value_counts()"
   ]
  },
  {
   "cell_type": "markdown",
   "id": "d1eb1004",
   "metadata": {},
   "source": [
    "# Write a function to clean non-standard zipcodes"
   ]
  },
  {
   "cell_type": "code",
   "execution_count": 17,
   "id": "12145027",
   "metadata": {},
   "outputs": [
    {
     "data": {
      "text/plain": [
       "12102      cp 33440\n",
       "14637       cp34110\n",
       "16971       cp33415\n",
       "16972       cp33415\n",
       "16973       cp33415\n",
       "16974       cp33415\n",
       "23973    32223-1647\n",
       "23974    32223-1647\n",
       "27551      cp 33433\n",
       "27552      cp 33433\n",
       "27553      cp 33433\n",
       "27554      cp 33433\n",
       "27555      cp 33433\n",
       "29098       cp32095\n",
       "29099       cp32095\n",
       "29100       cp32095\n",
       "40350      cp 33409\n",
       "40351      cp 33409\n",
       "46411       cp34714\n",
       "46412       cp34714\n",
       "46413       cp34714\n",
       "Name: zipcode, dtype: object"
      ]
     },
     "execution_count": 17,
     "metadata": {},
     "output_type": "execute_result"
    }
   ],
   "source": [
    "df_state_table.loc[~df_state_table.zipcode.str.isdigit(), 'zipcode']"
   ]
  },
  {
   "cell_type": "code",
   "execution_count": 24,
   "id": "a17b002c",
   "metadata": {},
   "outputs": [
    {
     "data": {
      "text/plain": [
       "12102         33440\n",
       "14637         34110\n",
       "16971         33415\n",
       "16972         33415\n",
       "16973         33415\n",
       "16974         33415\n",
       "23973    32223-1647\n",
       "23974    32223-1647\n",
       "27551         33433\n",
       "27552         33433\n",
       "27553         33433\n",
       "27554         33433\n",
       "27555         33433\n",
       "29098         32095\n",
       "29099         32095\n",
       "29100         32095\n",
       "40350         33409\n",
       "40351         33409\n",
       "46411         34714\n",
       "46412         34714\n",
       "46413         34714\n",
       "Name: zipcode, dtype: object"
      ]
     },
     "execution_count": 24,
     "metadata": {},
     "output_type": "execute_result"
    }
   ],
   "source": [
    "zipcodes = df_state_table.zipcode\n",
    "all_digits = zipcodes.str.isdigit()\n",
    "zipcodes.loc[~all_digits].str.strip('cp ') # Don't forget the space!"
   ]
  },
  {
   "cell_type": "code",
   "execution_count": 26,
   "id": "1b591417",
   "metadata": {},
   "outputs": [
    {
     "data": {
      "text/plain": [
       "12102    cp 33440\n",
       "14637     cp34110\n",
       "16971     cp33415\n",
       "16972     cp33415\n",
       "16973     cp33415\n",
       "16974     cp33415\n",
       "23973       32223\n",
       "23974       32223\n",
       "27551    cp 33433\n",
       "27552    cp 33433\n",
       "27553    cp 33433\n",
       "27554    cp 33433\n",
       "27555    cp 33433\n",
       "29098     cp32095\n",
       "29099     cp32095\n",
       "29100     cp32095\n",
       "40350    cp 33409\n",
       "40351    cp 33409\n",
       "46411     cp34714\n",
       "46412     cp34714\n",
       "46413     cp34714\n",
       "Name: zipcode, dtype: object"
      ]
     },
     "execution_count": 26,
     "metadata": {},
     "output_type": "execute_result"
    }
   ],
   "source": [
    "zipcodes[~all_digits].str.replace('-\\d{4}', '', regex=True)"
   ]
  },
  {
   "cell_type": "code",
   "execution_count": 41,
   "id": "374ce476",
   "metadata": {},
   "outputs": [
    {
     "data": {
      "text/plain": [
       "0        34601\n",
       "1        34698\n",
       "2        34698\n",
       "3        34698\n",
       "4        32003\n",
       "         ...  \n",
       "49995    33919\n",
       "49996    33021\n",
       "49997    32968\n",
       "49998    33919\n",
       "49999    32968\n",
       "Name: zipcode, Length: 50000, dtype: object"
      ]
     },
     "execution_count": 41,
     "metadata": {},
     "output_type": "execute_result"
    }
   ],
   "source": [
    "def clean_zipcode(zipcode):\n",
    "    clean_zipcode = (\n",
    "        zipcode\n",
    "        .str.strip('cp ')\n",
    "        .str.replace(r'-\\d{4}', '', regex=True)\n",
    "    )\n",
    "    return clean_zipcode\n",
    "clean_zips = clean_zipcode(zipcodes)\n",
    "clean_zips"
   ]
  },
  {
   "cell_type": "code",
   "execution_count": 42,
   "id": "8a3aa3ee",
   "metadata": {},
   "outputs": [
    {
     "data": {
      "text/plain": [
       "12102    33440\n",
       "14637    34110\n",
       "16971    33415\n",
       "16972    33415\n",
       "16973    33415\n",
       "16974    33415\n",
       "23973    32223\n",
       "23974    32223\n",
       "27551    33433\n",
       "27552    33433\n",
       "27553    33433\n",
       "27554    33433\n",
       "27555    33433\n",
       "29098    32095\n",
       "29099    32095\n",
       "29100    32095\n",
       "40350    33409\n",
       "40351    33409\n",
       "46411    34714\n",
       "46412    34714\n",
       "46413    34714\n",
       "Name: zipcode, dtype: object"
      ]
     },
     "execution_count": 42,
     "metadata": {},
     "output_type": "execute_result"
    }
   ],
   "source": [
    "clean_zips.loc[~all_digits]"
   ]
  },
  {
   "cell_type": "markdown",
   "id": "7ff2f4dc",
   "metadata": {},
   "source": [
    "## Check that cleaned zips are all 5-digit strings"
   ]
  },
  {
   "cell_type": "code",
   "execution_count": 43,
   "id": "42e22dc3",
   "metadata": {},
   "outputs": [
    {
     "data": {
      "text/plain": [
       "True"
      ]
     },
     "execution_count": 43,
     "metadata": {},
     "output_type": "execute_result"
    }
   ],
   "source": [
    "clean_zips.str.isdigit().all()"
   ]
  },
  {
   "cell_type": "code",
   "execution_count": 44,
   "id": "c43206dc",
   "metadata": {},
   "outputs": [
    {
     "data": {
      "text/plain": [
       "True"
      ]
     },
     "execution_count": 44,
     "metadata": {},
     "output_type": "execute_result"
    }
   ],
   "source": [
    "(clean_zips.str.len() == 5).all()"
   ]
  },
  {
   "cell_type": "markdown",
   "id": "73fd29fa",
   "metadata": {},
   "source": [
    "# Look at employer addresses and zipcodes\n",
    "\n",
    "It looks like every employer address is also a residential address, for some reason. And there are not many employer addresses compared to residential addresses. So there's no point in trying to include employer addresses and zipcodes in our data."
   ]
  },
  {
   "cell_type": "code",
   "execution_count": 45,
   "id": "34785bad",
   "metadata": {},
   "outputs": [
    {
     "data": {
      "text/plain": [
       "20449"
      ]
     },
     "execution_count": 45,
     "metadata": {},
     "output_type": "execute_result"
    }
   ],
   "source": [
    "df_state_table.address.nunique()"
   ]
  },
  {
   "cell_type": "code",
   "execution_count": 46,
   "id": "373aa8c2",
   "metadata": {},
   "outputs": [
    {
     "data": {
      "text/plain": [
       "246"
      ]
     },
     "execution_count": 46,
     "metadata": {},
     "output_type": "execute_result"
    }
   ],
   "source": [
    "df_state_table.employer_address.nunique()"
   ]
  },
  {
   "cell_type": "code",
   "execution_count": 48,
   "id": "2273d835",
   "metadata": {},
   "outputs": [
    {
     "data": {
      "text/plain": [
       "207"
      ]
     },
     "execution_count": 48,
     "metadata": {},
     "output_type": "execute_result"
    }
   ],
   "source": [
    "df_state_table.employer_zipcode.nunique()"
   ]
  },
  {
   "cell_type": "code",
   "execution_count": 49,
   "id": "2f1c034a",
   "metadata": {},
   "outputs": [
    {
     "data": {
      "text/plain": [
       "{'NA'}"
      ]
     },
     "execution_count": 49,
     "metadata": {},
     "output_type": "execute_result"
    }
   ],
   "source": [
    "zips = set(df_state_table.zipcode)\n",
    "emp_zips = set(df_state_table.employer_zipcode)\n",
    "emp_zips - zips"
   ]
  },
  {
   "cell_type": "code",
   "execution_count": 53,
   "id": "9a4e118b",
   "metadata": {},
   "outputs": [
    {
     "data": {
      "text/plain": [
       "{'NA'}"
      ]
     },
     "execution_count": 53,
     "metadata": {},
     "output_type": "execute_result"
    }
   ],
   "source": [
    "# Why are all the employer addresses equal to residential addresses???\n",
    "addresses = set(df_state_table.address)\n",
    "emp_addresses = set(df_state_table.employer_address)\n",
    "emp_addresses - addresses"
   ]
  },
  {
   "cell_type": "code",
   "execution_count": 54,
   "id": "3c7f7c30",
   "metadata": {},
   "outputs": [
    {
     "data": {
      "text/plain": [
       "20204"
      ]
     },
     "execution_count": 54,
     "metadata": {},
     "output_type": "execute_result"
    }
   ],
   "source": [
    "len(addresses - emp_addresses)"
   ]
  },
  {
   "cell_type": "code",
   "execution_count": 50,
   "id": "7cc3e507",
   "metadata": {},
   "outputs": [
    {
     "data": {
      "text/plain": [
       "employer_zipcode\n",
       "32003    1\n",
       "33610    1\n",
       "33612    1\n",
       "33614    1\n",
       "33615    1\n",
       "        ..\n",
       "34287    3\n",
       "34293    3\n",
       "33928    3\n",
       "34231    3\n",
       "32218    4\n",
       "Name: employer_address, Length: 207, dtype: int64"
      ]
     },
     "execution_count": 50,
     "metadata": {},
     "output_type": "execute_result"
    }
   ],
   "source": [
    "emp_address_counts = (\n",
    "    df_state_table\n",
    "    .groupby('employer_zipcode')\n",
    "    ['employer_address'].nunique()\n",
    "    .sort_values()\n",
    ")\n",
    "emp_address_counts"
   ]
  },
  {
   "cell_type": "code",
   "execution_count": 51,
   "id": "c7d4806e",
   "metadata": {},
   "outputs": [
    {
     "data": {
      "text/plain": [
       "<AxesSubplot: >"
      ]
     },
     "execution_count": 51,
     "metadata": {},
     "output_type": "execute_result"
    },
    {
     "data": {
      "image/png": "[encoded data removed]",
      "text/plain": [
       "<Figure size 640x480 with 1 Axes>"
      ]
     },
     "metadata": {},
     "output_type": "display_data"
    }
   ],
   "source": [
    "emp_address_counts.hist()"
   ]
  },
  {
   "cell_type": "markdown",
   "id": "4eb60d62",
   "metadata": {},
   "source": [
    "# Check whether all addresses have a unique zip code\n",
    "\n",
    "## Not quite... there's one address with 2 zips"
   ]
  },
  {
   "cell_type": "code",
   "execution_count": 57,
   "id": "9a37f039",
   "metadata": {},
   "outputs": [
    {
     "data": {
      "text/plain": [
       "address\n",
       " 100th ave sw  arcadia, fl                1\n",
       " 109th ave sw  unincorporated, fl         1\n",
       " 10th street  unincorporated, fl          1\n",
       " 11th ave ne  cape coral, fl              1\n",
       " 12th ave  ormond beach, fl               1\n",
       "                                         ..\n",
       "w3947 stingle rd  jacksonville, fl        1\n",
       "w654 greiner rd  titusville, fl           1\n",
       "w6674 gn willow ct  unincorporated, fl    1\n",
       "w7426 state highway 33  dunnellon, fl     1\n",
       "w8581 county rd e  wesley chapel, fl      1\n",
       "Name: zipcode, Length: 20449, dtype: int64"
      ]
     },
     "execution_count": 57,
     "metadata": {},
     "output_type": "execute_result"
    }
   ],
   "source": [
    "zips_per_address = df_state_table.groupby('address')['zipcode'].nunique()\n",
    "zips_per_address"
   ]
  },
  {
   "cell_type": "code",
   "execution_count": 59,
   "id": "5ee306f9",
   "metadata": {},
   "outputs": [
    {
     "data": {
      "text/plain": [
       "1    20448\n",
       "2        1\n",
       "Name: zipcode, dtype: int64"
      ]
     },
     "execution_count": 59,
     "metadata": {},
     "output_type": "execute_result"
    }
   ],
   "source": [
    "zips_per_address.value_counts()"
   ]
  },
  {
   "cell_type": "code",
   "execution_count": 60,
   "id": "4dacb2f7",
   "metadata": {},
   "outputs": [
    {
     "data": {
      "text/plain": [
       "address\n",
       " main street  unincorporated, fl    2\n",
       "Name: zipcode, dtype: int64"
      ]
     },
     "execution_count": 60,
     "metadata": {},
     "output_type": "execute_result"
    }
   ],
   "source": [
    "zips_per_address.loc[zips_per_address == 2]"
   ]
  },
  {
   "cell_type": "code",
   "execution_count": 62,
   "id": "f946b0b4",
   "metadata": {},
   "outputs": [
    {
     "data": {
      "text/html": [
       "<div>\n",
       "<style scoped>\n",
       "    .dataframe tbody tr th:only-of-type {\n",
       "        vertical-align: middle;\n",
       "    }\n",
       "\n",
       "    .dataframe tbody tr th {\n",
       "        vertical-align: top;\n",
       "    }\n",
       "\n",
       "    .dataframe thead th {\n",
       "        text-align: right;\n",
       "    }\n",
       "</style>\n",
       "<table border=\"1\" class=\"dataframe\">\n",
       "  <thead>\n",
       "    <tr style=\"text-align: right;\">\n",
       "      <th></th>\n",
       "      <th>tracked</th>\n",
       "      <th>middle_name</th>\n",
       "      <th>sex</th>\n",
       "      <th>relation_to_household_head</th>\n",
       "      <th>race_ethnicity</th>\n",
       "      <th>housing_type</th>\n",
       "      <th>exit_time</th>\n",
       "      <th>last_name</th>\n",
       "      <th>state</th>\n",
       "      <th>ssn</th>\n",
       "      <th>...</th>\n",
       "      <th>years_of_life_lost</th>\n",
       "      <th>cause_of_death</th>\n",
       "      <th>zipcode</th>\n",
       "      <th>address</th>\n",
       "      <th>parent_id</th>\n",
       "      <th>last_birth_time</th>\n",
       "      <th>employer_id</th>\n",
       "      <th>employer_name</th>\n",
       "      <th>employer_zipcode</th>\n",
       "      <th>employer_address</th>\n",
       "    </tr>\n",
       "  </thead>\n",
       "  <tbody>\n",
       "    <tr>\n",
       "      <th>13932</th>\n",
       "      <td>True</td>\n",
       "      <td>Brandon</td>\n",
       "      <td>Male</td>\n",
       "      <td>Reference person</td>\n",
       "      <td>Latino</td>\n",
       "      <td>Standard</td>\n",
       "      <td>NaT</td>\n",
       "      <td>Gonzalez</td>\n",
       "      <td>12</td>\n",
       "      <td>056-48-7134</td>\n",
       "      <td>...</td>\n",
       "      <td>0.0</td>\n",
       "      <td>not_dead</td>\n",
       "      <td>33411</td>\n",
       "      <td>main street  unincorporated, fl</td>\n",
       "      <td>-1</td>\n",
       "      <td>NaT</td>\n",
       "      <td>-1</td>\n",
       "      <td>unemployed</td>\n",
       "      <td>NA</td>\n",
       "      <td>NA</td>\n",
       "    </tr>\n",
       "    <tr>\n",
       "      <th>13933</th>\n",
       "      <td>True</td>\n",
       "      <td>Jana</td>\n",
       "      <td>Female</td>\n",
       "      <td>Opp-sex spouse</td>\n",
       "      <td>White</td>\n",
       "      <td>Standard</td>\n",
       "      <td>NaT</td>\n",
       "      <td>Richards</td>\n",
       "      <td>12</td>\n",
       "      <td>225-28-2266</td>\n",
       "      <td>...</td>\n",
       "      <td>0.0</td>\n",
       "      <td>not_dead</td>\n",
       "      <td>33411</td>\n",
       "      <td>main street  unincorporated, fl</td>\n",
       "      <td>-1</td>\n",
       "      <td>2019-03-04 18:00:00</td>\n",
       "      <td>-1</td>\n",
       "      <td>unemployed</td>\n",
       "      <td>NA</td>\n",
       "      <td>NA</td>\n",
       "    </tr>\n",
       "    <tr>\n",
       "      <th>47375</th>\n",
       "      <td>True</td>\n",
       "      <td>Michael</td>\n",
       "      <td>Male</td>\n",
       "      <td>Reference person</td>\n",
       "      <td>Latino</td>\n",
       "      <td>Standard</td>\n",
       "      <td>NaT</td>\n",
       "      <td>Garcia</td>\n",
       "      <td>12</td>\n",
       "      <td>326-69-8037</td>\n",
       "      <td>...</td>\n",
       "      <td>0.0</td>\n",
       "      <td>not_dead</td>\n",
       "      <td>32818</td>\n",
       "      <td>main street  unincorporated, fl</td>\n",
       "      <td>-1</td>\n",
       "      <td>NaT</td>\n",
       "      <td>93</td>\n",
       "      <td>not implemented</td>\n",
       "      <td>33324</td>\n",
       "      <td>6450 n hwy 97  plantation, fl</td>\n",
       "    </tr>\n",
       "    <tr>\n",
       "      <th>47376</th>\n",
       "      <td>True</td>\n",
       "      <td>Mercedes</td>\n",
       "      <td>Female</td>\n",
       "      <td>Opp-sex spouse</td>\n",
       "      <td>Latino</td>\n",
       "      <td>Standard</td>\n",
       "      <td>NaT</td>\n",
       "      <td>Garcia</td>\n",
       "      <td>12</td>\n",
       "      <td>567-50-4363</td>\n",
       "      <td>...</td>\n",
       "      <td>0.0</td>\n",
       "      <td>not_dead</td>\n",
       "      <td>32818</td>\n",
       "      <td>main street  unincorporated, fl</td>\n",
       "      <td>-1</td>\n",
       "      <td>2019-03-04 18:00:00</td>\n",
       "      <td>64</td>\n",
       "      <td>not implemented</td>\n",
       "      <td>32244</td>\n",
       "      <td>35 katie court  jacksonville, fl</td>\n",
       "    </tr>\n",
       "    <tr>\n",
       "      <th>47377</th>\n",
       "      <td>True</td>\n",
       "      <td>Mikel</td>\n",
       "      <td>Male</td>\n",
       "      <td>Biological child</td>\n",
       "      <td>Latino</td>\n",
       "      <td>Standard</td>\n",
       "      <td>NaT</td>\n",
       "      <td>Rowland</td>\n",
       "      <td>12</td>\n",
       "      <td>729-49-1167</td>\n",
       "      <td>...</td>\n",
       "      <td>0.0</td>\n",
       "      <td>not_dead</td>\n",
       "      <td>32818</td>\n",
       "      <td>main street  unincorporated, fl</td>\n",
       "      <td>-1</td>\n",
       "      <td>NaT</td>\n",
       "      <td>48</td>\n",
       "      <td>not implemented</td>\n",
       "      <td>32763</td>\n",
       "      <td>5266 shady rd  orange city, fl</td>\n",
       "    </tr>\n",
       "    <tr>\n",
       "      <th>47378</th>\n",
       "      <td>True</td>\n",
       "      <td>Irene</td>\n",
       "      <td>Female</td>\n",
       "      <td>Parent-in-law</td>\n",
       "      <td>Latino</td>\n",
       "      <td>Standard</td>\n",
       "      <td>NaT</td>\n",
       "      <td>Ponce</td>\n",
       "      <td>12</td>\n",
       "      <td>387-77-8308</td>\n",
       "      <td>...</td>\n",
       "      <td>0.0</td>\n",
       "      <td>not_dead</td>\n",
       "      <td>32818</td>\n",
       "      <td>main street  unincorporated, fl</td>\n",
       "      <td>-1</td>\n",
       "      <td>2019-03-04 18:00:00</td>\n",
       "      <td>191</td>\n",
       "      <td>not implemented</td>\n",
       "      <td>33139</td>\n",
       "      <td>9915 w hope cir  miami beach, fl</td>\n",
       "    </tr>\n",
       "  </tbody>\n",
       "</table>\n",
       "<p>6 rows × 27 columns</p>\n",
       "</div>"
      ],
      "text/plain": [
       "       tracked middle_name     sex relation_to_household_head race_ethnicity  \\\n",
       "13932     True     Brandon    Male           Reference person         Latino   \n",
       "13933     True        Jana  Female             Opp-sex spouse          White   \n",
       "47375     True     Michael    Male           Reference person         Latino   \n",
       "47376     True    Mercedes  Female             Opp-sex spouse         Latino   \n",
       "47377     True       Mikel    Male           Biological child         Latino   \n",
       "47378     True       Irene  Female              Parent-in-law         Latino   \n",
       "\n",
       "      housing_type exit_time last_name  state          ssn  ...  \\\n",
       "13932     Standard       NaT  Gonzalez     12  056-48-7134  ...   \n",
       "13933     Standard       NaT  Richards     12  225-28-2266  ...   \n",
       "47375     Standard       NaT    Garcia     12  326-69-8037  ...   \n",
       "47376     Standard       NaT    Garcia     12  567-50-4363  ...   \n",
       "47377     Standard       NaT   Rowland     12  729-49-1167  ...   \n",
       "47378     Standard       NaT     Ponce     12  387-77-8308  ...   \n",
       "\n",
       "      years_of_life_lost cause_of_death zipcode  \\\n",
       "13932                0.0       not_dead   33411   \n",
       "13933                0.0       not_dead   33411   \n",
       "47375                0.0       not_dead   32818   \n",
       "47376                0.0       not_dead   32818   \n",
       "47377                0.0       not_dead   32818   \n",
       "47378                0.0       not_dead   32818   \n",
       "\n",
       "                                address  parent_id     last_birth_time  \\\n",
       "13932   main street  unincorporated, fl         -1                 NaT   \n",
       "13933   main street  unincorporated, fl         -1 2019-03-04 18:00:00   \n",
       "47375   main street  unincorporated, fl         -1                 NaT   \n",
       "47376   main street  unincorporated, fl         -1 2019-03-04 18:00:00   \n",
       "47377   main street  unincorporated, fl         -1                 NaT   \n",
       "47378   main street  unincorporated, fl         -1 2019-03-04 18:00:00   \n",
       "\n",
       "       employer_id    employer_name employer_zipcode  \\\n",
       "13932           -1       unemployed               NA   \n",
       "13933           -1       unemployed               NA   \n",
       "47375           93  not implemented            33324   \n",
       "47376           64  not implemented            32244   \n",
       "47377           48  not implemented            32763   \n",
       "47378          191  not implemented            33139   \n",
       "\n",
       "                       employer_address  \n",
       "13932                                NA  \n",
       "13933                                NA  \n",
       "47375     6450 n hwy 97  plantation, fl  \n",
       "47376  35 katie court  jacksonville, fl  \n",
       "47377    5266 shady rd  orange city, fl  \n",
       "47378  9915 w hope cir  miami beach, fl  \n",
       "\n",
       "[6 rows x 27 columns]"
      ]
     },
     "execution_count": 62,
     "metadata": {},
     "output_type": "execute_result"
    }
   ],
   "source": [
    "df_state_table.query(\"address == ' main street  unincorporated, fl'\")"
   ]
  },
  {
   "cell_type": "code",
   "execution_count": 63,
   "id": "d0fe4894",
   "metadata": {},
   "outputs": [
    {
     "data": {
      "text/plain": [
       "62"
      ]
     },
     "execution_count": 63,
     "metadata": {},
     "output_type": "execute_result"
    }
   ],
   "source": [
    "address_counts['33411']"
   ]
  },
  {
   "cell_type": "code",
   "execution_count": 64,
   "id": "20ed7dcc",
   "metadata": {},
   "outputs": [
    {
     "data": {
      "text/plain": [
       "19"
      ]
     },
     "execution_count": 64,
     "metadata": {},
     "output_type": "execute_result"
    }
   ],
   "source": [
    "address_counts['32818']"
   ]
  },
  {
   "cell_type": "markdown",
   "id": "6a9e210c",
   "metadata": {},
   "source": [
    "# Get dataframe with mapping of address to cleaned zipcode\n",
    "\n",
    "Use consecutive integers as ths index so that I can map each address ID from new census data to a number in this dataframe's index via modular arithmetic."
   ]
  },
  {
   "cell_type": "code",
   "execution_count": 111,
   "id": "a3916051",
   "metadata": {},
   "outputs": [
    {
     "data": {
      "text/html": [
       "<div>\n",
       "<style scoped>\n",
       "    .dataframe tbody tr th:only-of-type {\n",
       "        vertical-align: middle;\n",
       "    }\n",
       "\n",
       "    .dataframe tbody tr th {\n",
       "        vertical-align: top;\n",
       "    }\n",
       "\n",
       "    .dataframe thead th {\n",
       "        text-align: right;\n",
       "    }\n",
       "</style>\n",
       "<table border=\"1\" class=\"dataframe\">\n",
       "  <thead>\n",
       "    <tr style=\"text-align: right;\">\n",
       "      <th></th>\n",
       "      <th>address</th>\n",
       "      <th>clean_zipcode</th>\n",
       "    </tr>\n",
       "  </thead>\n",
       "  <tbody>\n",
       "    <tr>\n",
       "      <th>0</th>\n",
       "      <td>100th ave sw  arcadia, fl</td>\n",
       "      <td>34266</td>\n",
       "    </tr>\n",
       "    <tr>\n",
       "      <th>1</th>\n",
       "      <td>109th ave sw  unincorporated, fl</td>\n",
       "      <td>33434</td>\n",
       "    </tr>\n",
       "    <tr>\n",
       "      <th>2</th>\n",
       "      <td>10th street  unincorporated, fl</td>\n",
       "      <td>32807</td>\n",
       "    </tr>\n",
       "    <tr>\n",
       "      <th>3</th>\n",
       "      <td>11th ave ne  cape coral, fl</td>\n",
       "      <td>33993</td>\n",
       "    </tr>\n",
       "    <tr>\n",
       "      <th>4</th>\n",
       "      <td>12th ave  ormond beach, fl</td>\n",
       "      <td>32174</td>\n",
       "    </tr>\n",
       "    <tr>\n",
       "      <th>...</th>\n",
       "      <td>...</td>\n",
       "      <td>...</td>\n",
       "    </tr>\n",
       "    <tr>\n",
       "      <th>20444</th>\n",
       "      <td>w3947 stingle rd  jacksonville, fl</td>\n",
       "      <td>32225</td>\n",
       "    </tr>\n",
       "    <tr>\n",
       "      <th>20445</th>\n",
       "      <td>w654 greiner rd  titusville, fl</td>\n",
       "      <td>32780</td>\n",
       "    </tr>\n",
       "    <tr>\n",
       "      <th>20446</th>\n",
       "      <td>w6674 gn willow ct  unincorporated, fl</td>\n",
       "      <td>33498</td>\n",
       "    </tr>\n",
       "    <tr>\n",
       "      <th>20447</th>\n",
       "      <td>w7426 state highway 33  dunnellon, fl</td>\n",
       "      <td>34431</td>\n",
       "    </tr>\n",
       "    <tr>\n",
       "      <th>20448</th>\n",
       "      <td>w8581 county rd e  wesley chapel, fl</td>\n",
       "      <td>33543</td>\n",
       "    </tr>\n",
       "  </tbody>\n",
       "</table>\n",
       "<p>20449 rows × 2 columns</p>\n",
       "</div>"
      ],
      "text/plain": [
       "                                      address clean_zipcode\n",
       "0                   100th ave sw  arcadia, fl         34266\n",
       "1            109th ave sw  unincorporated, fl         33434\n",
       "2             10th street  unincorporated, fl         32807\n",
       "3                 11th ave ne  cape coral, fl         33993\n",
       "4                  12th ave  ormond beach, fl         32174\n",
       "...                                       ...           ...\n",
       "20444      w3947 stingle rd  jacksonville, fl         32225\n",
       "20445         w654 greiner rd  titusville, fl         32780\n",
       "20446  w6674 gn willow ct  unincorporated, fl         33498\n",
       "20447   w7426 state highway 33  dunnellon, fl         34431\n",
       "20448    w8581 county rd e  wesley chapel, fl         33543\n",
       "\n",
       "[20449 rows x 2 columns]"
      ]
     },
     "execution_count": 111,
     "metadata": {},
     "output_type": "execute_result"
    }
   ],
   "source": [
    "address_to_zip = (\n",
    "    df_state_table\n",
    "    .assign(clean_zipcode=clean_zipcode(df_state_table['zipcode']))\n",
    "    .groupby('address', as_index=False)['clean_zipcode'].min()\n",
    ")\n",
    "address_to_zip"
   ]
  },
  {
   "cell_type": "code",
   "execution_count": 113,
   "id": "021b9225",
   "metadata": {},
   "outputs": [
    {
     "data": {
      "text/plain": [
       "array([5])"
      ]
     },
     "execution_count": 113,
     "metadata": {},
     "output_type": "execute_result"
    }
   ],
   "source": [
    "address_to_zip.clean_zipcode.str.len().unique()"
   ]
  },
  {
   "cell_type": "markdown",
   "id": "59c1ae13",
   "metadata": {},
   "source": [
    "# Load new census data"
   ]
  },
  {
   "cell_type": "code",
   "execution_count": 66,
   "id": "072d70f1",
   "metadata": {},
   "outputs": [
    {
     "name": "stdout",
     "output_type": "stream",
     "text": [
      "total 846760\r\n",
      "-rw-r--r-- 1 albrja IHME-Simulationscience 116145705 Feb  2 11:20 decennial_census_observer.csv.bz2\r\n",
      "-rw-r--r-- 1 albrja IHME-Simulationscience   1436741 Feb  2 11:20 household_survey_observer_acs.csv.bz2\r\n",
      "-rw-r--r-- 1 albrja IHME-Simulationscience   7443547 Feb  2 11:20 household_survey_observer_cps.csv.bz2\r\n",
      "-rw-r--r-- 1 albrja IHME-Simulationscience  30294533 Feb  2 11:21 social_security_observer.csv.bz2\r\n",
      "-rw-r--r-- 1 albrja IHME-Simulationscience 696671121 Feb  2 11:27 tax_w2_observer.csv.bz2\r\n",
      "-rw-r--r-- 1 albrja IHME-Simulationscience  15056759 Feb  2 11:20 wic_observer.csv.bz2\r\n"
     ]
    }
   ],
   "source": [
    "!ls -l $new_data_dir"
   ]
  },
  {
   "cell_type": "code",
   "execution_count": 67,
   "id": "5d66ace5",
   "metadata": {},
   "outputs": [
    {
     "name": "stdout",
     "output_type": "stream",
     "text": [
      "CPU times: user 29.6 s, sys: 1.09 s, total: 30.6 s\n",
      "Wall time: 30.8 s\n"
     ]
    },
    {
     "data": {
      "text/html": [
       "<div>\n",
       "<style scoped>\n",
       "    .dataframe tbody tr th:only-of-type {\n",
       "        vertical-align: middle;\n",
       "    }\n",
       "\n",
       "    .dataframe tbody tr th {\n",
       "        vertical-align: top;\n",
       "    }\n",
       "\n",
       "    .dataframe thead th {\n",
       "        text-align: right;\n",
       "    }\n",
       "</style>\n",
       "<table border=\"1\" class=\"dataframe\">\n",
       "  <thead>\n",
       "    <tr style=\"text-align: right;\">\n",
       "      <th></th>\n",
       "      <th>simulant_id</th>\n",
       "      <th>last_name_id</th>\n",
       "      <th>age</th>\n",
       "      <th>sex</th>\n",
       "      <th>race_ethnicity</th>\n",
       "      <th>date_of_birth</th>\n",
       "      <th>address_id</th>\n",
       "      <th>guardian_1</th>\n",
       "      <th>guardian_2</th>\n",
       "      <th>guardian_1_address_id</th>\n",
       "      <th>guardian_2_address_id</th>\n",
       "      <th>relation_to_household_head</th>\n",
       "      <th>census_year</th>\n",
       "      <th>housing_type</th>\n",
       "      <th>random_seed</th>\n",
       "      <th>year_of_birth</th>\n",
       "      <th>first_name</th>\n",
       "      <th>middle_initial</th>\n",
       "    </tr>\n",
       "  </thead>\n",
       "  <tbody>\n",
       "    <tr>\n",
       "      <th>0</th>\n",
       "      <td>3254_0</td>\n",
       "      <td>0.0</td>\n",
       "      <td>67.376229</td>\n",
       "      <td>Female</td>\n",
       "      <td>Black</td>\n",
       "      <td>1952-11-15</td>\n",
       "      <td>6</td>\n",
       "      <td>-1</td>\n",
       "      <td>-1</td>\n",
       "      <td>NaN</td>\n",
       "      <td>NaN</td>\n",
       "      <td>Reference person</td>\n",
       "      <td>2020</td>\n",
       "      <td>Standard</td>\n",
       "      <td>3254</td>\n",
       "      <td>1952</td>\n",
       "      <td>Deanna</td>\n",
       "      <td>S</td>\n",
       "    </tr>\n",
       "    <tr>\n",
       "      <th>1</th>\n",
       "      <td>3254_1</td>\n",
       "      <td>0.0</td>\n",
       "      <td>37.501003</td>\n",
       "      <td>Male</td>\n",
       "      <td>Black</td>\n",
       "      <td>1982-10-01</td>\n",
       "      <td>6</td>\n",
       "      <td>-1</td>\n",
       "      <td>-1</td>\n",
       "      <td>NaN</td>\n",
       "      <td>NaN</td>\n",
       "      <td>Biological child</td>\n",
       "      <td>2020</td>\n",
       "      <td>Standard</td>\n",
       "      <td>3254</td>\n",
       "      <td>1982</td>\n",
       "      <td>Clifton</td>\n",
       "      <td>S</td>\n",
       "    </tr>\n",
       "    <tr>\n",
       "      <th>2</th>\n",
       "      <td>3254_2</td>\n",
       "      <td>0.0</td>\n",
       "      <td>31.157344</td>\n",
       "      <td>Male</td>\n",
       "      <td>Black</td>\n",
       "      <td>1989-02-03</td>\n",
       "      <td>6</td>\n",
       "      <td>-1</td>\n",
       "      <td>-1</td>\n",
       "      <td>NaN</td>\n",
       "      <td>NaN</td>\n",
       "      <td>Biological child</td>\n",
       "      <td>2020</td>\n",
       "      <td>Standard</td>\n",
       "      <td>3254</td>\n",
       "      <td>1989</td>\n",
       "      <td>Christopher</td>\n",
       "      <td>S</td>\n",
       "    </tr>\n",
       "    <tr>\n",
       "      <th>3</th>\n",
       "      <td>3254_3</td>\n",
       "      <td>3.0</td>\n",
       "      <td>37.944355</td>\n",
       "      <td>Male</td>\n",
       "      <td>Latino</td>\n",
       "      <td>1982-04-22</td>\n",
       "      <td>7</td>\n",
       "      <td>-1</td>\n",
       "      <td>-1</td>\n",
       "      <td>NaN</td>\n",
       "      <td>NaN</td>\n",
       "      <td>Reference person</td>\n",
       "      <td>2020</td>\n",
       "      <td>Standard</td>\n",
       "      <td>3254</td>\n",
       "      <td>1982</td>\n",
       "      <td>Travis</td>\n",
       "      <td>J</td>\n",
       "    </tr>\n",
       "    <tr>\n",
       "      <th>4</th>\n",
       "      <td>3254_4</td>\n",
       "      <td>4.0</td>\n",
       "      <td>60.986418</td>\n",
       "      <td>Male</td>\n",
       "      <td>White</td>\n",
       "      <td>1959-04-07</td>\n",
       "      <td>8</td>\n",
       "      <td>-1</td>\n",
       "      <td>-1</td>\n",
       "      <td>NaN</td>\n",
       "      <td>NaN</td>\n",
       "      <td>Reference person</td>\n",
       "      <td>2020</td>\n",
       "      <td>Standard</td>\n",
       "      <td>3254</td>\n",
       "      <td>1959</td>\n",
       "      <td>Davis</td>\n",
       "      <td>T</td>\n",
       "    </tr>\n",
       "    <tr>\n",
       "      <th>...</th>\n",
       "      <td>...</td>\n",
       "      <td>...</td>\n",
       "      <td>...</td>\n",
       "      <td>...</td>\n",
       "      <td>...</td>\n",
       "      <td>...</td>\n",
       "      <td>...</td>\n",
       "      <td>...</td>\n",
       "      <td>...</td>\n",
       "      <td>...</td>\n",
       "      <td>...</td>\n",
       "      <td>...</td>\n",
       "      <td>...</td>\n",
       "      <td>...</td>\n",
       "      <td>...</td>\n",
       "      <td>...</td>\n",
       "      <td>...</td>\n",
       "      <td>...</td>\n",
       "    </tr>\n",
       "    <tr>\n",
       "      <th>4943280</th>\n",
       "      <td>3541_278165</td>\n",
       "      <td>44253.0</td>\n",
       "      <td>0.055643</td>\n",
       "      <td>Female</td>\n",
       "      <td>Latino</td>\n",
       "      <td>2030-03-28</td>\n",
       "      <td>150569</td>\n",
       "      <td>44253</td>\n",
       "      <td>-1</td>\n",
       "      <td>150569.0</td>\n",
       "      <td>NaN</td>\n",
       "      <td>Biological child</td>\n",
       "      <td>2030</td>\n",
       "      <td>Standard</td>\n",
       "      <td>3541</td>\n",
       "      <td>2030</td>\n",
       "      <td>Mila</td>\n",
       "      <td>C</td>\n",
       "    </tr>\n",
       "    <tr>\n",
       "      <th>4943281</th>\n",
       "      <td>3541_278166</td>\n",
       "      <td>50096.0</td>\n",
       "      <td>0.039506</td>\n",
       "      <td>Female</td>\n",
       "      <td>Black</td>\n",
       "      <td>2030-04-03</td>\n",
       "      <td>3</td>\n",
       "      <td>50097</td>\n",
       "      <td>-1</td>\n",
       "      <td>3.0</td>\n",
       "      <td>NaN</td>\n",
       "      <td>Noninstitutionalized GQ pop</td>\n",
       "      <td>2030</td>\n",
       "      <td>College</td>\n",
       "      <td>3541</td>\n",
       "      <td>2030</td>\n",
       "      <td>Aicha</td>\n",
       "      <td>L</td>\n",
       "    </tr>\n",
       "    <tr>\n",
       "      <th>4943282</th>\n",
       "      <td>3541_278167</td>\n",
       "      <td>113377.0</td>\n",
       "      <td>0.052213</td>\n",
       "      <td>Female</td>\n",
       "      <td>Black</td>\n",
       "      <td>2030-03-29</td>\n",
       "      <td>96003</td>\n",
       "      <td>113380</td>\n",
       "      <td>-1</td>\n",
       "      <td>96003.0</td>\n",
       "      <td>NaN</td>\n",
       "      <td>Biological child</td>\n",
       "      <td>2030</td>\n",
       "      <td>Standard</td>\n",
       "      <td>3541</td>\n",
       "      <td>2030</td>\n",
       "      <td>Amila</td>\n",
       "      <td>E</td>\n",
       "    </tr>\n",
       "    <tr>\n",
       "      <th>4943283</th>\n",
       "      <td>3541_278168</td>\n",
       "      <td>140942.0</td>\n",
       "      <td>0.016033</td>\n",
       "      <td>Female</td>\n",
       "      <td>Latino</td>\n",
       "      <td>2030-04-12</td>\n",
       "      <td>179963</td>\n",
       "      <td>140944</td>\n",
       "      <td>-1</td>\n",
       "      <td>179963.0</td>\n",
       "      <td>NaN</td>\n",
       "      <td>Grandchild</td>\n",
       "      <td>2030</td>\n",
       "      <td>Standard</td>\n",
       "      <td>3541</td>\n",
       "      <td>2030</td>\n",
       "      <td>Tallulah</td>\n",
       "      <td>S</td>\n",
       "    </tr>\n",
       "    <tr>\n",
       "      <th>4943284</th>\n",
       "      <td>3541_278169</td>\n",
       "      <td>202912.0</td>\n",
       "      <td>0.036503</td>\n",
       "      <td>Male</td>\n",
       "      <td>Black</td>\n",
       "      <td>2030-04-04</td>\n",
       "      <td>77605</td>\n",
       "      <td>202912</td>\n",
       "      <td>-1</td>\n",
       "      <td>77605.0</td>\n",
       "      <td>NaN</td>\n",
       "      <td>Other nonrelative</td>\n",
       "      <td>2030</td>\n",
       "      <td>Standard</td>\n",
       "      <td>3541</td>\n",
       "      <td>2030</td>\n",
       "      <td>Braden</td>\n",
       "      <td>M</td>\n",
       "    </tr>\n",
       "  </tbody>\n",
       "</table>\n",
       "<p>4943285 rows × 18 columns</p>\n",
       "</div>"
      ],
      "text/plain": [
       "         simulant_id  last_name_id        age     sex race_ethnicity  \\\n",
       "0             3254_0           0.0  67.376229  Female          Black   \n",
       "1             3254_1           0.0  37.501003    Male          Black   \n",
       "2             3254_2           0.0  31.157344    Male          Black   \n",
       "3             3254_3           3.0  37.944355    Male         Latino   \n",
       "4             3254_4           4.0  60.986418    Male          White   \n",
       "...              ...           ...        ...     ...            ...   \n",
       "4943280  3541_278165       44253.0   0.055643  Female         Latino   \n",
       "4943281  3541_278166       50096.0   0.039506  Female          Black   \n",
       "4943282  3541_278167      113377.0   0.052213  Female          Black   \n",
       "4943283  3541_278168      140942.0   0.016033  Female         Latino   \n",
       "4943284  3541_278169      202912.0   0.036503    Male          Black   \n",
       "\n",
       "        date_of_birth  address_id  guardian_1  guardian_2  \\\n",
       "0          1952-11-15           6          -1          -1   \n",
       "1          1982-10-01           6          -1          -1   \n",
       "2          1989-02-03           6          -1          -1   \n",
       "3          1982-04-22           7          -1          -1   \n",
       "4          1959-04-07           8          -1          -1   \n",
       "...               ...         ...         ...         ...   \n",
       "4943280    2030-03-28      150569       44253          -1   \n",
       "4943281    2030-04-03           3       50097          -1   \n",
       "4943282    2030-03-29       96003      113380          -1   \n",
       "4943283    2030-04-12      179963      140944          -1   \n",
       "4943284    2030-04-04       77605      202912          -1   \n",
       "\n",
       "         guardian_1_address_id  guardian_2_address_id  \\\n",
       "0                          NaN                    NaN   \n",
       "1                          NaN                    NaN   \n",
       "2                          NaN                    NaN   \n",
       "3                          NaN                    NaN   \n",
       "4                          NaN                    NaN   \n",
       "...                        ...                    ...   \n",
       "4943280               150569.0                    NaN   \n",
       "4943281                    3.0                    NaN   \n",
       "4943282                96003.0                    NaN   \n",
       "4943283               179963.0                    NaN   \n",
       "4943284                77605.0                    NaN   \n",
       "\n",
       "          relation_to_household_head  census_year housing_type  random_seed  \\\n",
       "0                   Reference person         2020     Standard         3254   \n",
       "1                   Biological child         2020     Standard         3254   \n",
       "2                   Biological child         2020     Standard         3254   \n",
       "3                   Reference person         2020     Standard         3254   \n",
       "4                   Reference person         2020     Standard         3254   \n",
       "...                              ...          ...          ...          ...   \n",
       "4943280             Biological child         2030     Standard         3541   \n",
       "4943281  Noninstitutionalized GQ pop         2030      College         3541   \n",
       "4943282             Biological child         2030     Standard         3541   \n",
       "4943283                   Grandchild         2030     Standard         3541   \n",
       "4943284            Other nonrelative         2030     Standard         3541   \n",
       "\n",
       "         year_of_birth   first_name middle_initial  \n",
       "0                 1952       Deanna              S  \n",
       "1                 1982      Clifton              S  \n",
       "2                 1989  Christopher              S  \n",
       "3                 1982       Travis              J  \n",
       "4                 1959        Davis              T  \n",
       "...                ...          ...            ...  \n",
       "4943280           2030         Mila              C  \n",
       "4943281           2030        Aicha              L  \n",
       "4943282           2030        Amila              E  \n",
       "4943283           2030     Tallulah              S  \n",
       "4943284           2030       Braden              M  \n",
       "\n",
       "[4943285 rows x 18 columns]"
      ]
     },
     "execution_count": 67,
     "metadata": {},
     "output_type": "execute_result"
    }
   ],
   "source": [
    "%%time\n",
    "df_census = pd.read_csv(f'{new_data_dir}/decennial_census_observer.csv.bz2')\n",
    "df_census"
   ]
  },
  {
   "cell_type": "code",
   "execution_count": 122,
   "id": "703ec5b8",
   "metadata": {},
   "outputs": [
    {
     "data": {
      "text/plain": [
       "simulant_id                    object\n",
       "last_name_id                  float64\n",
       "age                           float64\n",
       "sex                            object\n",
       "race_ethnicity                 object\n",
       "date_of_birth                  object\n",
       "address_id                      int64\n",
       "guardian_1                      int64\n",
       "guardian_2                      int64\n",
       "guardian_1_address_id         float64\n",
       "guardian_2_address_id         float64\n",
       "relation_to_household_head     object\n",
       "census_year                     int64\n",
       "housing_type                   object\n",
       "random_seed                     int64\n",
       "year_of_birth                   int64\n",
       "first_name                     object\n",
       "middle_initial                 object\n",
       "dtype: object"
      ]
     },
     "execution_count": 122,
     "metadata": {},
     "output_type": "execute_result"
    }
   ],
   "source": [
    "df_census.dtypes"
   ]
  },
  {
   "cell_type": "code",
   "execution_count": 124,
   "id": "25115ff0",
   "metadata": {},
   "outputs": [
    {
     "data": {
      "text/plain": [
       "Index([], dtype='object')"
      ]
     },
     "execution_count": 124,
     "metadata": {},
     "output_type": "execute_result"
    }
   ],
   "source": [
    "df_census.filter(like='zip').columns"
   ]
  },
  {
   "cell_type": "markdown",
   "id": "c5755ef5",
   "metadata": {},
   "source": [
    "# Figure out how to map each address IDs from new census data to an address (hence zipcode) in the original data\n",
    "\n",
    "The idea is to just mod the address ID by the number of original addresses, then use the modded ID as the index in the `address_to_zip` map.\n",
    "\n",
    "Ideally, the address IDs would be consecutive integers up to the maximum ID so that we're guaranteed an approximately uniform mapping into the original addresses (hence zipcodes).\n",
    "\n",
    "It looks like the address IDs are not quite consecutive, but there are only 77 values missing between the minimum 0 and the maximum 189,912. We could just ignore this and probably get a good enough mapping anyway. But instead, I just took all the address IDs that were greater than or equal to the number of unique IDs (189,836), and replaced each of these with one of the 77 missing values. Conveniently, each of the 77 missing values appeared only once in the dataframe, which made this very easy to do."
   ]
  },
  {
   "cell_type": "code",
   "execution_count": 68,
   "id": "d2faee94",
   "metadata": {},
   "outputs": [
    {
     "data": {
      "text/plain": [
       "count    4.943285e+06\n",
       "mean     7.023635e+04\n",
       "std      5.381825e+04\n",
       "min      0.000000e+00\n",
       "25%      2.655600e+04\n",
       "50%      6.048500e+04\n",
       "75%      9.719400e+04\n",
       "max      1.899120e+05\n",
       "Name: address_id, dtype: float64"
      ]
     },
     "execution_count": 68,
     "metadata": {},
     "output_type": "execute_result"
    }
   ],
   "source": [
    "df_census.address_id.describe()"
   ]
  },
  {
   "cell_type": "code",
   "execution_count": 69,
   "id": "c8993872",
   "metadata": {},
   "outputs": [
    {
     "data": {
      "text/plain": [
       "189836"
      ]
     },
     "execution_count": 69,
     "metadata": {},
     "output_type": "execute_result"
    }
   ],
   "source": [
    "df_census.address_id.nunique()"
   ]
  },
  {
   "cell_type": "code",
   "execution_count": 77,
   "id": "1d3e4826",
   "metadata": {},
   "outputs": [
    {
     "data": {
      "text/plain": [
       "189913"
      ]
     },
     "execution_count": 77,
     "metadata": {},
     "output_type": "execute_result"
    }
   ],
   "source": [
    "df_census.address_id.max()+1"
   ]
  },
  {
   "cell_type": "code",
   "execution_count": 80,
   "id": "c62cc4ea",
   "metadata": {},
   "outputs": [
    {
     "data": {
      "text/plain": [
       "77"
      ]
     },
     "execution_count": 80,
     "metadata": {},
     "output_type": "execute_result"
    }
   ],
   "source": [
    "189913 - 189836"
   ]
  },
  {
   "cell_type": "markdown",
   "id": "c6f656c1",
   "metadata": {},
   "source": [
    "## Find missing 77 ids"
   ]
  },
  {
   "cell_type": "code",
   "execution_count": 79,
   "id": "d107cb1c",
   "metadata": {},
   "outputs": [
    {
     "name": "stdout",
     "output_type": "stream",
     "text": [
      "77\n"
     ]
    },
    {
     "data": {
      "text/plain": [
       "[108551,\n",
       " 109068,\n",
       " 121370,\n",
       " 101921,\n",
       " 94755,\n",
       " 98370,\n",
       " 100930,\n",
       " 102479,\n",
       " 100951,\n",
       " 99418,\n",
       " 105051,\n",
       " 103005,\n",
       " 113255,\n",
       " 117351,\n",
       " 112754,\n",
       " 111762,\n",
       " 115346,\n",
       " 110228,\n",
       " 133778,\n",
       " 102039,\n",
       " 100507,\n",
       " 105120,\n",
       " 124067,\n",
       " 96935,\n",
       " 105132,\n",
       " 101562,\n",
       " 117453,\n",
       " 133341,\n",
       " 101088,\n",
       " 105705,\n",
       " 104686,\n",
       " 122620,\n",
       " 99586,\n",
       " 103690,\n",
       " 106251,\n",
       " 114956,\n",
       " 107793,\n",
       " 108311,\n",
       " 115993,\n",
       " 114459,\n",
       " 112418,\n",
       " 111397,\n",
       " 99633,\n",
       " 107825,\n",
       " 99638,\n",
       " 119126,\n",
       " 101227,\n",
       " 100210,\n",
       " 99703,\n",
       " 94072,\n",
       " 111479,\n",
       " 98171,\n",
       " 119684,\n",
       " 119187,\n",
       " 103320,\n",
       " 106398,\n",
       " 106917,\n",
       " 115622,\n",
       " 100263,\n",
       " 103338,\n",
       " 101296,\n",
       " 132027,\n",
       " 103358,\n",
       " 106430,\n",
       " 103872,\n",
       " 97731,\n",
       " 133064,\n",
       " 112075,\n",
       " 96208,\n",
       " 119249,\n",
       " 102355,\n",
       " 120792,\n",
       " 114650,\n",
       " 114143,\n",
       " 96228,\n",
       " 98290,\n",
       " 99835]"
      ]
     },
     "execution_count": 79,
     "metadata": {},
     "output_type": "execute_result"
    }
   ],
   "source": [
    "missing_ids = list(set(range(189913)).difference(df_census.address_id))\n",
    "print(len(missing_ids))\n",
    "missing_ids"
   ]
  },
  {
   "cell_type": "markdown",
   "id": "ddf4e4fb",
   "metadata": {},
   "source": [
    "## Find address IDs greater than or equal to the number of unique IDs\n",
    "\n",
    "Conveniently, each of these only shows up once."
   ]
  },
  {
   "cell_type": "code",
   "execution_count": 82,
   "id": "b70f28f0",
   "metadata": {},
   "outputs": [
    {
     "data": {
      "text/html": [
       "<div>\n",
       "<style scoped>\n",
       "    .dataframe tbody tr th:only-of-type {\n",
       "        vertical-align: middle;\n",
       "    }\n",
       "\n",
       "    .dataframe tbody tr th {\n",
       "        vertical-align: top;\n",
       "    }\n",
       "\n",
       "    .dataframe thead th {\n",
       "        text-align: right;\n",
       "    }\n",
       "</style>\n",
       "<table border=\"1\" class=\"dataframe\">\n",
       "  <thead>\n",
       "    <tr style=\"text-align: right;\">\n",
       "      <th></th>\n",
       "      <th>simulant_id</th>\n",
       "      <th>last_name_id</th>\n",
       "      <th>age</th>\n",
       "      <th>sex</th>\n",
       "      <th>race_ethnicity</th>\n",
       "      <th>date_of_birth</th>\n",
       "      <th>address_id</th>\n",
       "      <th>guardian_1</th>\n",
       "      <th>guardian_2</th>\n",
       "      <th>guardian_1_address_id</th>\n",
       "      <th>guardian_2_address_id</th>\n",
       "      <th>relation_to_household_head</th>\n",
       "      <th>census_year</th>\n",
       "      <th>housing_type</th>\n",
       "      <th>random_seed</th>\n",
       "      <th>year_of_birth</th>\n",
       "      <th>first_name</th>\n",
       "      <th>middle_initial</th>\n",
       "    </tr>\n",
       "  </thead>\n",
       "  <tbody>\n",
       "    <tr>\n",
       "      <th>1896572</th>\n",
       "      <td>2787_188277</td>\n",
       "      <td>188277.0</td>\n",
       "      <td>35.636775</td>\n",
       "      <td>Male</td>\n",
       "      <td>White</td>\n",
       "      <td>1994-07-31</td>\n",
       "      <td>189836</td>\n",
       "      <td>-1</td>\n",
       "      <td>-1</td>\n",
       "      <td>NaN</td>\n",
       "      <td>NaN</td>\n",
       "      <td>Reference person</td>\n",
       "      <td>2030</td>\n",
       "      <td>Standard</td>\n",
       "      <td>2787</td>\n",
       "      <td>1994</td>\n",
       "      <td>Henry</td>\n",
       "      <td>J</td>\n",
       "    </tr>\n",
       "    <tr>\n",
       "      <th>1896937</th>\n",
       "      <td>2787_188688</td>\n",
       "      <td>188687.0</td>\n",
       "      <td>98.313706</td>\n",
       "      <td>Female</td>\n",
       "      <td>White</td>\n",
       "      <td>1931-11-26</td>\n",
       "      <td>189837</td>\n",
       "      <td>-1</td>\n",
       "      <td>-1</td>\n",
       "      <td>NaN</td>\n",
       "      <td>NaN</td>\n",
       "      <td>Reference person</td>\n",
       "      <td>2030</td>\n",
       "      <td>Standard</td>\n",
       "      <td>2787</td>\n",
       "      <td>1931</td>\n",
       "      <td>Frances</td>\n",
       "      <td>N</td>\n",
       "    </tr>\n",
       "    <tr>\n",
       "      <th>1897811</th>\n",
       "      <td>2787_189698</td>\n",
       "      <td>189698.0</td>\n",
       "      <td>24.811578</td>\n",
       "      <td>Female</td>\n",
       "      <td>White</td>\n",
       "      <td>2005-05-28</td>\n",
       "      <td>189838</td>\n",
       "      <td>-1</td>\n",
       "      <td>-1</td>\n",
       "      <td>NaN</td>\n",
       "      <td>NaN</td>\n",
       "      <td>Reference person</td>\n",
       "      <td>2030</td>\n",
       "      <td>Standard</td>\n",
       "      <td>2787</td>\n",
       "      <td>2005</td>\n",
       "      <td>Caroline</td>\n",
       "      <td>M</td>\n",
       "    </tr>\n",
       "    <tr>\n",
       "      <th>1897979</th>\n",
       "      <td>2787_189885</td>\n",
       "      <td>189885.0</td>\n",
       "      <td>31.322687</td>\n",
       "      <td>Female</td>\n",
       "      <td>White</td>\n",
       "      <td>1998-11-22</td>\n",
       "      <td>189839</td>\n",
       "      <td>-1</td>\n",
       "      <td>-1</td>\n",
       "      <td>NaN</td>\n",
       "      <td>NaN</td>\n",
       "      <td>Reference person</td>\n",
       "      <td>2030</td>\n",
       "      <td>Standard</td>\n",
       "      <td>2787</td>\n",
       "      <td>1998</td>\n",
       "      <td>Charlie</td>\n",
       "      <td>D</td>\n",
       "    </tr>\n",
       "    <tr>\n",
       "      <th>1898507</th>\n",
       "      <td>2787_190499</td>\n",
       "      <td>190497.0</td>\n",
       "      <td>35.613311</td>\n",
       "      <td>Male</td>\n",
       "      <td>Latino</td>\n",
       "      <td>1994-08-08</td>\n",
       "      <td>189840</td>\n",
       "      <td>-1</td>\n",
       "      <td>-1</td>\n",
       "      <td>NaN</td>\n",
       "      <td>NaN</td>\n",
       "      <td>Reference person</td>\n",
       "      <td>2030</td>\n",
       "      <td>Standard</td>\n",
       "      <td>2787</td>\n",
       "      <td>1994</td>\n",
       "      <td>Logan</td>\n",
       "      <td>J</td>\n",
       "    </tr>\n",
       "    <tr>\n",
       "      <th>...</th>\n",
       "      <td>...</td>\n",
       "      <td>...</td>\n",
       "      <td>...</td>\n",
       "      <td>...</td>\n",
       "      <td>...</td>\n",
       "      <td>...</td>\n",
       "      <td>...</td>\n",
       "      <td>...</td>\n",
       "      <td>...</td>\n",
       "      <td>...</td>\n",
       "      <td>...</td>\n",
       "      <td>...</td>\n",
       "      <td>...</td>\n",
       "      <td>...</td>\n",
       "      <td>...</td>\n",
       "      <td>...</td>\n",
       "      <td>...</td>\n",
       "      <td>...</td>\n",
       "    </tr>\n",
       "    <tr>\n",
       "      <th>1946255</th>\n",
       "      <td>2787_245536</td>\n",
       "      <td>245536.0</td>\n",
       "      <td>26.515258</td>\n",
       "      <td>Female</td>\n",
       "      <td>White</td>\n",
       "      <td>2003-09-13</td>\n",
       "      <td>189908</td>\n",
       "      <td>-1</td>\n",
       "      <td>-1</td>\n",
       "      <td>NaN</td>\n",
       "      <td>NaN</td>\n",
       "      <td>Reference person</td>\n",
       "      <td>2030</td>\n",
       "      <td>Standard</td>\n",
       "      <td>2787</td>\n",
       "      <td>2003</td>\n",
       "      <td>Sophie</td>\n",
       "      <td>A</td>\n",
       "    </tr>\n",
       "    <tr>\n",
       "      <th>1947110</th>\n",
       "      <td>2787_246525</td>\n",
       "      <td>246525.0</td>\n",
       "      <td>67.512967</td>\n",
       "      <td>Male</td>\n",
       "      <td>White</td>\n",
       "      <td>1962-09-14</td>\n",
       "      <td>189909</td>\n",
       "      <td>-1</td>\n",
       "      <td>-1</td>\n",
       "      <td>NaN</td>\n",
       "      <td>NaN</td>\n",
       "      <td>Reference person</td>\n",
       "      <td>2030</td>\n",
       "      <td>Standard</td>\n",
       "      <td>2787</td>\n",
       "      <td>1962</td>\n",
       "      <td>Wayne</td>\n",
       "      <td>G</td>\n",
       "    </tr>\n",
       "    <tr>\n",
       "      <th>1947123</th>\n",
       "      <td>2787_246540</td>\n",
       "      <td>246540.0</td>\n",
       "      <td>30.324946</td>\n",
       "      <td>Male</td>\n",
       "      <td>Black</td>\n",
       "      <td>1999-11-22</td>\n",
       "      <td>189910</td>\n",
       "      <td>-1</td>\n",
       "      <td>-1</td>\n",
       "      <td>NaN</td>\n",
       "      <td>NaN</td>\n",
       "      <td>Reference person</td>\n",
       "      <td>2030</td>\n",
       "      <td>Standard</td>\n",
       "      <td>2787</td>\n",
       "      <td>1999</td>\n",
       "      <td>Hunter</td>\n",
       "      <td>J</td>\n",
       "    </tr>\n",
       "    <tr>\n",
       "      <th>1948532</th>\n",
       "      <td>2787_248368</td>\n",
       "      <td>248368.0</td>\n",
       "      <td>28.082727</td>\n",
       "      <td>Male</td>\n",
       "      <td>White</td>\n",
       "      <td>2002-02-18</td>\n",
       "      <td>189911</td>\n",
       "      <td>-1</td>\n",
       "      <td>-1</td>\n",
       "      <td>NaN</td>\n",
       "      <td>NaN</td>\n",
       "      <td>Reference person</td>\n",
       "      <td>2030</td>\n",
       "      <td>Standard</td>\n",
       "      <td>2787</td>\n",
       "      <td>2002</td>\n",
       "      <td>Kevin</td>\n",
       "      <td>E</td>\n",
       "    </tr>\n",
       "    <tr>\n",
       "      <th>1948986</th>\n",
       "      <td>2787_248950</td>\n",
       "      <td>248950.0</td>\n",
       "      <td>33.690303</td>\n",
       "      <td>Male</td>\n",
       "      <td>Multiracial or Other</td>\n",
       "      <td>1996-07-11</td>\n",
       "      <td>189912</td>\n",
       "      <td>-1</td>\n",
       "      <td>-1</td>\n",
       "      <td>NaN</td>\n",
       "      <td>NaN</td>\n",
       "      <td>Reference person</td>\n",
       "      <td>2030</td>\n",
       "      <td>Standard</td>\n",
       "      <td>2787</td>\n",
       "      <td>1996</td>\n",
       "      <td>Daniel</td>\n",
       "      <td>M</td>\n",
       "    </tr>\n",
       "  </tbody>\n",
       "</table>\n",
       "<p>77 rows × 18 columns</p>\n",
       "</div>"
      ],
      "text/plain": [
       "         simulant_id  last_name_id        age     sex        race_ethnicity  \\\n",
       "1896572  2787_188277      188277.0  35.636775    Male                 White   \n",
       "1896937  2787_188688      188687.0  98.313706  Female                 White   \n",
       "1897811  2787_189698      189698.0  24.811578  Female                 White   \n",
       "1897979  2787_189885      189885.0  31.322687  Female                 White   \n",
       "1898507  2787_190499      190497.0  35.613311    Male                Latino   \n",
       "...              ...           ...        ...     ...                   ...   \n",
       "1946255  2787_245536      245536.0  26.515258  Female                 White   \n",
       "1947110  2787_246525      246525.0  67.512967    Male                 White   \n",
       "1947123  2787_246540      246540.0  30.324946    Male                 Black   \n",
       "1948532  2787_248368      248368.0  28.082727    Male                 White   \n",
       "1948986  2787_248950      248950.0  33.690303    Male  Multiracial or Other   \n",
       "\n",
       "        date_of_birth  address_id  guardian_1  guardian_2  \\\n",
       "1896572    1994-07-31      189836          -1          -1   \n",
       "1896937    1931-11-26      189837          -1          -1   \n",
       "1897811    2005-05-28      189838          -1          -1   \n",
       "1897979    1998-11-22      189839          -1          -1   \n",
       "1898507    1994-08-08      189840          -1          -1   \n",
       "...               ...         ...         ...         ...   \n",
       "1946255    2003-09-13      189908          -1          -1   \n",
       "1947110    1962-09-14      189909          -1          -1   \n",
       "1947123    1999-11-22      189910          -1          -1   \n",
       "1948532    2002-02-18      189911          -1          -1   \n",
       "1948986    1996-07-11      189912          -1          -1   \n",
       "\n",
       "         guardian_1_address_id  guardian_2_address_id  \\\n",
       "1896572                    NaN                    NaN   \n",
       "1896937                    NaN                    NaN   \n",
       "1897811                    NaN                    NaN   \n",
       "1897979                    NaN                    NaN   \n",
       "1898507                    NaN                    NaN   \n",
       "...                        ...                    ...   \n",
       "1946255                    NaN                    NaN   \n",
       "1947110                    NaN                    NaN   \n",
       "1947123                    NaN                    NaN   \n",
       "1948532                    NaN                    NaN   \n",
       "1948986                    NaN                    NaN   \n",
       "\n",
       "        relation_to_household_head  census_year housing_type  random_seed  \\\n",
       "1896572           Reference person         2030     Standard         2787   \n",
       "1896937           Reference person         2030     Standard         2787   \n",
       "1897811           Reference person         2030     Standard         2787   \n",
       "1897979           Reference person         2030     Standard         2787   \n",
       "1898507           Reference person         2030     Standard         2787   \n",
       "...                            ...          ...          ...          ...   \n",
       "1946255           Reference person         2030     Standard         2787   \n",
       "1947110           Reference person         2030     Standard         2787   \n",
       "1947123           Reference person         2030     Standard         2787   \n",
       "1948532           Reference person         2030     Standard         2787   \n",
       "1948986           Reference person         2030     Standard         2787   \n",
       "\n",
       "         year_of_birth first_name middle_initial  \n",
       "1896572           1994      Henry              J  \n",
       "1896937           1931    Frances              N  \n",
       "1897811           2005   Caroline              M  \n",
       "1897979           1998    Charlie              D  \n",
       "1898507           1994      Logan              J  \n",
       "...                ...        ...            ...  \n",
       "1946255           2003     Sophie              A  \n",
       "1947110           1962      Wayne              G  \n",
       "1947123           1999     Hunter              J  \n",
       "1948532           2002      Kevin              E  \n",
       "1948986           1996     Daniel              M  \n",
       "\n",
       "[77 rows x 18 columns]"
      ]
     },
     "execution_count": 82,
     "metadata": {},
     "output_type": "execute_result"
    }
   ],
   "source": [
    "df_census.query(\"address_id >= 189836\")"
   ]
  },
  {
   "cell_type": "markdown",
   "id": "1170bbab",
   "metadata": {},
   "source": [
    "## Make the address IDs consecutive by replacing each of the 77 above IDs with one of the missing IDs"
   ]
  },
  {
   "cell_type": "code",
   "execution_count": 85,
   "id": "facba84b",
   "metadata": {},
   "outputs": [
    {
     "data": {
      "text/plain": [
       "0               6\n",
       "1               6\n",
       "2               6\n",
       "3               7\n",
       "4               8\n",
       "            ...  \n",
       "4943280    150569\n",
       "4943281         3\n",
       "4943282     96003\n",
       "4943283    179963\n",
       "4943284     77605\n",
       "Name: address_id, Length: 4943285, dtype: int64"
      ]
     },
     "execution_count": 85,
     "metadata": {},
     "output_type": "execute_result"
    }
   ],
   "source": [
    "new_address_ids = df_census.address_id.copy()\n",
    "new_address_ids.loc[new_address_ids >= 189836] = missing_ids\n",
    "new_address_ids"
   ]
  },
  {
   "cell_type": "code",
   "execution_count": 87,
   "id": "4372af3b",
   "metadata": {},
   "outputs": [
    {
     "data": {
      "text/plain": [
       "True"
      ]
     },
     "execution_count": 87,
     "metadata": {},
     "output_type": "execute_result"
    }
   ],
   "source": [
    "set(new_address_ids).difference(df_census.address_id) == set(missing_ids)"
   ]
  },
  {
   "cell_type": "code",
   "execution_count": 88,
   "id": "789fe871",
   "metadata": {},
   "outputs": [
    {
     "data": {
      "text/plain": [
       "set()"
      ]
     },
     "execution_count": 88,
     "metadata": {},
     "output_type": "execute_result"
    }
   ],
   "source": [
    "set(range(189836)).difference(new_address_ids)"
   ]
  },
  {
   "cell_type": "markdown",
   "id": "e14f63a0",
   "metadata": {},
   "source": [
    "## Create a mapping from rows in the new census data to zipcodes from the original data"
   ]
  },
  {
   "cell_type": "code",
   "execution_count": 116,
   "id": "39b3d0a0",
   "metadata": {},
   "outputs": [
    {
     "data": {
      "text/html": [
       "<div>\n",
       "<style scoped>\n",
       "    .dataframe tbody tr th:only-of-type {\n",
       "        vertical-align: middle;\n",
       "    }\n",
       "\n",
       "    .dataframe tbody tr th {\n",
       "        vertical-align: top;\n",
       "    }\n",
       "\n",
       "    .dataframe thead th {\n",
       "        text-align: right;\n",
       "    }\n",
       "</style>\n",
       "<table border=\"1\" class=\"dataframe\">\n",
       "  <thead>\n",
       "    <tr style=\"text-align: right;\">\n",
       "      <th></th>\n",
       "      <th>address_id</th>\n",
       "      <th>consecutive_address_id</th>\n",
       "      <th>index_of_orig_address</th>\n",
       "      <th>orig_address</th>\n",
       "      <th>zipcode</th>\n",
       "    </tr>\n",
       "  </thead>\n",
       "  <tbody>\n",
       "    <tr>\n",
       "      <th>0</th>\n",
       "      <td>6</td>\n",
       "      <td>6</td>\n",
       "      <td>6</td>\n",
       "      <td>13th ave w  unincorporated, fl</td>\n",
       "      <td>33462</td>\n",
       "    </tr>\n",
       "    <tr>\n",
       "      <th>1</th>\n",
       "      <td>6</td>\n",
       "      <td>6</td>\n",
       "      <td>6</td>\n",
       "      <td>13th ave w  unincorporated, fl</td>\n",
       "      <td>33462</td>\n",
       "    </tr>\n",
       "    <tr>\n",
       "      <th>2</th>\n",
       "      <td>6</td>\n",
       "      <td>6</td>\n",
       "      <td>6</td>\n",
       "      <td>13th ave w  unincorporated, fl</td>\n",
       "      <td>33462</td>\n",
       "    </tr>\n",
       "    <tr>\n",
       "      <th>3</th>\n",
       "      <td>7</td>\n",
       "      <td>7</td>\n",
       "      <td>7</td>\n",
       "      <td>13th avenue southwest  lakeland, fl</td>\n",
       "      <td>33811</td>\n",
       "    </tr>\n",
       "    <tr>\n",
       "      <th>4</th>\n",
       "      <td>8</td>\n",
       "      <td>8</td>\n",
       "      <td>8</td>\n",
       "      <td>14th street  fern prk, fl</td>\n",
       "      <td>32730</td>\n",
       "    </tr>\n",
       "    <tr>\n",
       "      <th>...</th>\n",
       "      <td>...</td>\n",
       "      <td>...</td>\n",
       "      <td>...</td>\n",
       "      <td>...</td>\n",
       "      <td>...</td>\n",
       "    </tr>\n",
       "    <tr>\n",
       "      <th>4943280</th>\n",
       "      <td>150569</td>\n",
       "      <td>150569</td>\n",
       "      <td>7426</td>\n",
       "      <td>2025 e roosevelt ct  kissimmee, fl</td>\n",
       "      <td>34741</td>\n",
       "    </tr>\n",
       "    <tr>\n",
       "      <th>4943281</th>\n",
       "      <td>3</td>\n",
       "      <td>3</td>\n",
       "      <td>3</td>\n",
       "      <td>11th ave ne  cape coral, fl</td>\n",
       "      <td>33993</td>\n",
       "    </tr>\n",
       "    <tr>\n",
       "      <th>4943282</th>\n",
       "      <td>96003</td>\n",
       "      <td>96003</td>\n",
       "      <td>14207</td>\n",
       "      <td>4647 coleherne road  winter park, fl</td>\n",
       "      <td>32792</td>\n",
       "    </tr>\n",
       "    <tr>\n",
       "      <th>4943283</th>\n",
       "      <td>179963</td>\n",
       "      <td>179963</td>\n",
       "      <td>16371</td>\n",
       "      <td>605 tce hill ln  englewood, fl</td>\n",
       "      <td>34224</td>\n",
       "    </tr>\n",
       "    <tr>\n",
       "      <th>4943284</th>\n",
       "      <td>77605</td>\n",
       "      <td>77605</td>\n",
       "      <td>16258</td>\n",
       "      <td>6000 kirk rd  cape coral, fl</td>\n",
       "      <td>33914</td>\n",
       "    </tr>\n",
       "  </tbody>\n",
       "</table>\n",
       "<p>4943285 rows × 5 columns</p>\n",
       "</div>"
      ],
      "text/plain": [
       "         address_id  consecutive_address_id  index_of_orig_address  \\\n",
       "0                 6                       6                      6   \n",
       "1                 6                       6                      6   \n",
       "2                 6                       6                      6   \n",
       "3                 7                       7                      7   \n",
       "4                 8                       8                      8   \n",
       "...             ...                     ...                    ...   \n",
       "4943280      150569                  150569                   7426   \n",
       "4943281           3                       3                      3   \n",
       "4943282       96003                   96003                  14207   \n",
       "4943283      179963                  179963                  16371   \n",
       "4943284       77605                   77605                  16258   \n",
       "\n",
       "                                 orig_address zipcode  \n",
       "0              13th ave w  unincorporated, fl   33462  \n",
       "1              13th ave w  unincorporated, fl   33462  \n",
       "2              13th ave w  unincorporated, fl   33462  \n",
       "3         13th avenue southwest  lakeland, fl   33811  \n",
       "4                   14th street  fern prk, fl   32730  \n",
       "...                                       ...     ...  \n",
       "4943280    2025 e roosevelt ct  kissimmee, fl   34741  \n",
       "4943281           11th ave ne  cape coral, fl   33993  \n",
       "4943282  4647 coleherne road  winter park, fl   32792  \n",
       "4943283        605 tce hill ln  englewood, fl   34224  \n",
       "4943284          6000 kirk rd  cape coral, fl   33914  \n",
       "\n",
       "[4943285 rows x 5 columns]"
      ]
     },
     "execution_count": 116,
     "metadata": {},
     "output_type": "execute_result"
    }
   ],
   "source": [
    "census_zips = (\n",
    "    pd.DataFrame(\n",
    "        {\n",
    "            'address_id': df_census['address_id'],\n",
    "            'consecutive_address_id': new_address_ids,\n",
    "            'index_of_orig_address': new_address_ids % len(address_to_zip)\n",
    "        },\n",
    "        index=df_census.index\n",
    "    )\n",
    "    .join(address_to_zip, on='index_of_orig_address')\n",
    "    .rename(columns={'address': 'orig_address', 'clean_zipcode': 'zipcode'})\n",
    ")\n",
    "census_zips"
   ]
  },
  {
   "cell_type": "code",
   "execution_count": 117,
   "id": "f40186f2",
   "metadata": {},
   "outputs": [
    {
     "data": {
      "text/plain": [
       "zipcode\n",
       "32003    306\n",
       "32008     46\n",
       "32009     19\n",
       "32011     95\n",
       "32024      9\n",
       "        ... \n",
       "34987     63\n",
       "34990    249\n",
       "34994    141\n",
       "34996    169\n",
       "34997    260\n",
       "Name: address_id, Length: 857, dtype: int64"
      ]
     },
     "execution_count": 117,
     "metadata": {},
     "output_type": "execute_result"
    }
   ],
   "source": [
    "census_addresses_per_zip = census_zips.groupby('zipcode')['address_id'].nunique()\n",
    "census_addresses_per_zip"
   ]
  },
  {
   "cell_type": "code",
   "execution_count": 118,
   "id": "dd1937e4",
   "metadata": {},
   "outputs": [
    {
     "data": {
      "text/plain": [
       "9      38\n",
       "18     18\n",
       "19     13\n",
       "38     12\n",
       "46     11\n",
       "       ..\n",
       "277     1\n",
       "539     1\n",
       "262     1\n",
       "279     1\n",
       "59      1\n",
       "Name: address_id, Length: 357, dtype: int64"
      ]
     },
     "execution_count": 118,
     "metadata": {},
     "output_type": "execute_result"
    }
   ],
   "source": [
    "census_addresses_per_zip.value_counts()"
   ]
  },
  {
   "cell_type": "code",
   "execution_count": 119,
   "id": "d33f7d5e",
   "metadata": {},
   "outputs": [
    {
     "data": {
      "text/plain": [
       "<AxesSubplot: >"
      ]
     },
     "execution_count": 119,
     "metadata": {},
     "output_type": "execute_result"
    },
    {
     "data": {
      "image/png": "[encoded data removed]",
      "text/plain": [
       "<Figure size 640x480 with 1 Axes>"
      ]
     },
     "metadata": {},
     "output_type": "display_data"
    }
   ],
   "source": [
    "census_addresses_per_zip.hist(bins=100)"
   ]
  },
  {
   "cell_type": "code",
   "execution_count": 120,
   "id": "8b595e14",
   "metadata": {},
   "outputs": [
    {
     "data": {
      "text/plain": [
       "count     857.000000\n",
       "mean      221.512252\n",
       "std       199.989439\n",
       "min         9.000000\n",
       "25%        82.000000\n",
       "50%       176.000000\n",
       "75%       299.000000\n",
       "max      1438.000000\n",
       "Name: address_id, dtype: float64"
      ]
     },
     "execution_count": 120,
     "metadata": {},
     "output_type": "execute_result"
    }
   ],
   "source": [
    "census_addresses_per_zip.describe()"
   ]
  },
  {
   "cell_type": "code",
   "execution_count": 121,
   "id": "b5cb333d",
   "metadata": {},
   "outputs": [
    {
     "data": {
      "text/plain": [
       "9.283387940730599"
      ]
     },
     "execution_count": 121,
     "metadata": {},
     "output_type": "execute_result"
    }
   ],
   "source": [
    "df_census.address_id.nunique() / len(address_to_zip)"
   ]
  },
  {
   "cell_type": "markdown",
   "id": "6df95162",
   "metadata": {},
   "source": [
    "# Save zipcode mapping to use later"
   ]
  },
  {
   "cell_type": "code",
   "execution_count": 125,
   "id": "4a4f34c8",
   "metadata": {},
   "outputs": [
    {
     "name": "stdout",
     "output_type": "stream",
     "text": [
      "prl  vivarium_lsff  vivarium_results\r\n"
     ]
    }
   ],
   "source": [
    "!ls /share/scratch/users/ndbs/"
   ]
  },
  {
   "cell_type": "code",
   "execution_count": 135,
   "id": "ac497f02",
   "metadata": {},
   "outputs": [
    {
     "name": "stdout",
     "output_type": "stream",
     "text": [
      "total 16580\n",
      "-rw-rw-r-- 1 ndbs Domain Users 16972022 Feb  8 15:36 census_index_to_zipcode_2023_02_02_10_16_21.csv.bz2\n",
      "CPU times: user 10.4 s, sys: 16.4 ms, total: 10.4 s\n",
      "Wall time: 10.9 s\n"
     ]
    }
   ],
   "source": [
    "%%time\n",
    "save_dir = '/share/scratch/users/ndbs/prl'\n",
    "save_filename = 'census_index_to_zipcode_2023_02_02_10_16_21.csv.bz2'\n",
    "save_filepath = f'{save_dir}/{save_filename}'\n",
    "census_zips['zipcode'].to_csv(save_filepath)\n",
    "!ls -l $save_dir"
   ]
  },
  {
   "cell_type": "code",
   "execution_count": 136,
   "id": "f52b6e39",
   "metadata": {},
   "outputs": [
    {
     "name": "stdout",
     "output_type": "stream",
     "text": [
      "CPU times: user 5.76 s, sys: 283 ms, total: 6.04 s\n",
      "Wall time: 6.04 s\n"
     ]
    },
    {
     "data": {
      "text/html": [
       "<div>\n",
       "<style scoped>\n",
       "    .dataframe tbody tr th:only-of-type {\n",
       "        vertical-align: middle;\n",
       "    }\n",
       "\n",
       "    .dataframe tbody tr th {\n",
       "        vertical-align: top;\n",
       "    }\n",
       "\n",
       "    .dataframe thead th {\n",
       "        text-align: right;\n",
       "    }\n",
       "</style>\n",
       "<table border=\"1\" class=\"dataframe\">\n",
       "  <thead>\n",
       "    <tr style=\"text-align: right;\">\n",
       "      <th></th>\n",
       "      <th>zipcode</th>\n",
       "    </tr>\n",
       "  </thead>\n",
       "  <tbody>\n",
       "    <tr>\n",
       "      <th>0</th>\n",
       "      <td>33462</td>\n",
       "    </tr>\n",
       "    <tr>\n",
       "      <th>1</th>\n",
       "      <td>33462</td>\n",
       "    </tr>\n",
       "    <tr>\n",
       "      <th>2</th>\n",
       "      <td>33462</td>\n",
       "    </tr>\n",
       "    <tr>\n",
       "      <th>3</th>\n",
       "      <td>33811</td>\n",
       "    </tr>\n",
       "    <tr>\n",
       "      <th>4</th>\n",
       "      <td>32730</td>\n",
       "    </tr>\n",
       "    <tr>\n",
       "      <th>...</th>\n",
       "      <td>...</td>\n",
       "    </tr>\n",
       "    <tr>\n",
       "      <th>4943280</th>\n",
       "      <td>34741</td>\n",
       "    </tr>\n",
       "    <tr>\n",
       "      <th>4943281</th>\n",
       "      <td>33993</td>\n",
       "    </tr>\n",
       "    <tr>\n",
       "      <th>4943282</th>\n",
       "      <td>32792</td>\n",
       "    </tr>\n",
       "    <tr>\n",
       "      <th>4943283</th>\n",
       "      <td>34224</td>\n",
       "    </tr>\n",
       "    <tr>\n",
       "      <th>4943284</th>\n",
       "      <td>33914</td>\n",
       "    </tr>\n",
       "  </tbody>\n",
       "</table>\n",
       "<p>4943285 rows × 1 columns</p>\n",
       "</div>"
      ],
      "text/plain": [
       "        zipcode\n",
       "0         33462\n",
       "1         33462\n",
       "2         33462\n",
       "3         33811\n",
       "4         32730\n",
       "...         ...\n",
       "4943280   34741\n",
       "4943281   33993\n",
       "4943282   32792\n",
       "4943283   34224\n",
       "4943284   33914\n",
       "\n",
       "[4943285 rows x 1 columns]"
      ]
     },
     "execution_count": 136,
     "metadata": {},
     "output_type": "execute_result"
    }
   ],
   "source": [
    "%%time\n",
    "loaded_zips = pd.read_csv(save_filepath, index_col=0, dtype=str)\n",
    "loaded_zips"
   ]
  },
  {
   "cell_type": "code",
   "execution_count": 137,
   "id": "d5a92c59",
   "metadata": {},
   "outputs": [
    {
     "data": {
      "text/plain": [
       "zipcode    object\n",
       "dtype: object"
      ]
     },
     "execution_count": 137,
     "metadata": {},
     "output_type": "execute_result"
    }
   ],
   "source": [
    "loaded_zips.dtypes"
   ]
  },
  {
   "cell_type": "code",
   "execution_count": 138,
   "id": "4ca89d02",
   "metadata": {},
   "outputs": [
    {
     "data": {
      "text/plain": [
       "Int64Index([      0,       1,       2,       3,       4,       5,       6,\n",
       "                  7,       8,       9,\n",
       "            ...\n",
       "            4943275, 4943276, 4943277, 4943278, 4943279, 4943280, 4943281,\n",
       "            4943282, 4943283, 4943284],\n",
       "           dtype='int64', length=4943285)"
      ]
     },
     "execution_count": 138,
     "metadata": {},
     "output_type": "execute_result"
    }
   ],
   "source": [
    "loaded_zips.index"
   ]
  },
  {
   "cell_type": "code",
   "execution_count": null,
   "id": "c505a326",
   "metadata": {},
   "outputs": [],
   "source": []
  }
 ],
 "metadata": {
  "kernelspec": {
   "display_name": "Python 3 (ipykernel)",
   "language": "python",
   "name": "python3"
  },
  "language_info": {
   "codemirror_mode": {
    "name": "ipython",
    "version": 3
   },
   "file_extension": ".py",
   "mimetype": "text/x-python",
   "name": "python",
   "nbconvert_exporter": "python",
   "pygments_lexer": "ipython3",
   "version": "3.8.13"
  }
 },
 "nbformat": 4,
 "nbformat_minor": 5
}
