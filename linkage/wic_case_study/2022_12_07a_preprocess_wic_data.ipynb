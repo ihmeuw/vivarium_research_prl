{
 "cells": [
  {
   "cell_type": "code",
   "execution_count": 1,
   "id": "7457773a",
   "metadata": {},
   "outputs": [
    {
     "name": "stdout",
     "output_type": "stream",
     "text": [
      "Wed 07 Dec 2022 10:18:43 PM PST\n",
      "ndbs\n",
      "Linux int-slurm-sarchive-p0009 5.4.0-88-generic #99-Ubuntu SMP Thu Sep 23 17:29:00 UTC 2021 x86_64 x86_64 x86_64 GNU/Linux\n",
      "/mnt/share/code/ndbs/vivarium_research_prl/linkage/wic_case_study\n"
     ]
    }
   ],
   "source": [
    "import numpy as np, matplotlib.pyplot as plt, pandas as pd\n",
    "pd.set_option('display.max_rows', 40)\n",
    "\n",
    "from vivarium_research_prl.noise import corruption, fake_names\n",
    "from vivarium_research_prl.find_kids import datasets\n",
    "\n",
    "!date\n",
    "!whoami\n",
    "!uname -a\n",
    "!pwd"
   ]
  },
  {
   "cell_type": "code",
   "execution_count": 2,
   "id": "b4a1d32d",
   "metadata": {},
   "outputs": [],
   "source": [
    "%load_ext autoreload\n",
    "%autoreload 2"
   ]
  },
  {
   "cell_type": "code",
   "execution_count": 14,
   "id": "5ab9b29c",
   "metadata": {},
   "outputs": [],
   "source": [
    "from vivarium_research_prl import noise"
   ]
  },
  {
   "cell_type": "code",
   "execution_count": 34,
   "id": "c5005400",
   "metadata": {},
   "outputs": [],
   "source": [
    "import datetime as dt"
   ]
  },
  {
   "cell_type": "markdown",
   "id": "7584ada8",
   "metadata": {},
   "source": [
    "# Load census data and state table for year 2020"
   ]
  },
  {
   "cell_type": "code",
   "execution_count": 3,
   "id": "7e263a61",
   "metadata": {},
   "outputs": [
    {
     "name": "stdout",
     "output_type": "stream",
     "text": [
      "total 32224\r\n",
      "-rw-rw-r-- 1 albrja   IHME-Simulationscience 12622072 Oct 20 23:08 decennial_census.hdf\r\n",
      "-rwxrwxrwx 1 beatrixh IHME-Simulationscience 20364830 Nov 14 16:42 state_table.hdf\r\n"
     ]
    }
   ],
   "source": [
    "project_output_dir = '/mnt/team/simulation_science/priv/engineering/vivarium_census_prl_synth_pop'\n",
    "output_subdir = 'results/special_last_names/florida/2022_10_14_10_49_32/population_table/'\n",
    "output_dir = f'{project_output_dir}/{output_subdir}'\n",
    "\n",
    "!ls -l $output_dir"
   ]
  },
  {
   "cell_type": "code",
   "execution_count": 4,
   "id": "594431f3",
   "metadata": {},
   "outputs": [
    {
     "name": "stdout",
     "output_type": "stream",
     "text": [
      "df_census_orig.shape=(47444, 10)\n",
      "df_state_table.shape=(50000, 27)\n"
     ]
    }
   ],
   "source": [
    "decennial_census_path = f'{output_dir}/decennial_census.hdf'\n",
    "state_table_path = f'{output_dir}/state_table.hdf'\n",
    "\n",
    "df_census_orig = pd.read_hdf(decennial_census_path, 'year_2020')\n",
    "df_state_table = pd.read_hdf(state_table_path, 'ymd_2020_4_1')\n",
    "print(f'{df_census_orig.shape=}')\n",
    "print(f'{df_state_table.shape=}')"
   ]
  },
  {
   "cell_type": "markdown",
   "id": "0880a940",
   "metadata": {},
   "source": [
    "# Get a random seed and Generator"
   ]
  },
  {
   "cell_type": "code",
   "execution_count": 5,
   "id": "59767f39",
   "metadata": {},
   "outputs": [
    {
     "data": {
      "text/plain": [
       "263281533040163012496346764338284145225"
      ]
     },
     "execution_count": 5,
     "metadata": {},
     "output_type": "execute_result"
    }
   ],
   "source": [
    "sq = np.random.SeedSequence()\n",
    "sq.entropy"
   ]
  },
  {
   "cell_type": "code",
   "execution_count": 6,
   "id": "3a8b4fc8",
   "metadata": {
    "scrolled": true
   },
   "outputs": [
    {
     "name": "stdout",
     "output_type": "stream",
     "text": [
      "66624024798819663709061712465147975287\n"
     ]
    },
    {
     "data": {
      "text/plain": [
       "Generator(PCG64) at 0x7F5DF76FAE40"
      ]
     },
     "execution_count": 6,
     "metadata": {},
     "output_type": "execute_result"
    }
   ],
   "source": [
    "sq = np.random.SeedSequence(66624024798819663709061712465147975287)\n",
    "print(sq.entropy)\n",
    "rng = np.random.default_rng(sq)\n",
    "rng"
   ]
  },
  {
   "cell_type": "markdown",
   "id": "927811ec",
   "metadata": {},
   "source": [
    "# Generate WIC data and decennial census data"
   ]
  },
  {
   "cell_type": "code",
   "execution_count": 7,
   "id": "dd6b55a6",
   "metadata": {},
   "outputs": [
    {
     "name": "stdout",
     "output_type": "stream",
     "text": [
      "df_census.shape=(47326, 10)\n",
      "df_wic.shape=(617, 10)\n"
     ]
    }
   ],
   "source": [
    "df_census = datasets.get_census_data_with_missing_kids(df_census_orig, 0.05, rng)\n",
    "df_wic = datasets.generate_wic_data(df_state_table, rng)\n",
    "print(f\"{df_census.shape=}\")\n",
    "print(f\"{df_wic.shape=}\")"
   ]
  },
  {
   "cell_type": "code",
   "execution_count": 13,
   "id": "44077bb6",
   "metadata": {},
   "outputs": [
    {
     "data": {
      "text/html": [
       "<div>\n",
       "<style scoped>\n",
       "    .dataframe tbody tr th:only-of-type {\n",
       "        vertical-align: middle;\n",
       "    }\n",
       "\n",
       "    .dataframe tbody tr th {\n",
       "        vertical-align: top;\n",
       "    }\n",
       "\n",
       "    .dataframe thead th {\n",
       "        text-align: right;\n",
       "    }\n",
       "</style>\n",
       "<table border=\"1\" class=\"dataframe\">\n",
       "  <thead>\n",
       "    <tr style=\"text-align: right;\">\n",
       "      <th></th>\n",
       "      <th>first_name</th>\n",
       "      <th>last_name</th>\n",
       "      <th>age</th>\n",
       "      <th>date_of_birth</th>\n",
       "      <th>address</th>\n",
       "      <th>zipcode</th>\n",
       "      <th>relation_to_household_head</th>\n",
       "      <th>sex</th>\n",
       "      <th>race_ethnicity</th>\n",
       "      <th>middle_initial</th>\n",
       "    </tr>\n",
       "  </thead>\n",
       "  <tbody>\n",
       "    <tr>\n",
       "      <th>0</th>\n",
       "      <td>Margaret</td>\n",
       "      <td>Clark</td>\n",
       "      <td>68.0</td>\n",
       "      <td>1951-07-27</td>\n",
       "      <td>1344 winoka rd  brooksville, fl</td>\n",
       "      <td>34601</td>\n",
       "      <td>Reference person</td>\n",
       "      <td>Female</td>\n",
       "      <td>Black</td>\n",
       "      <td>J</td>\n",
       "    </tr>\n",
       "    <tr>\n",
       "      <th>1</th>\n",
       "      <td>Jeffrey</td>\n",
       "      <td>Littlejohn</td>\n",
       "      <td>52.0</td>\n",
       "      <td>1967-05-03</td>\n",
       "      <td>927 23rd st  clearwater, fl</td>\n",
       "      <td>34698</td>\n",
       "      <td>Reference person</td>\n",
       "      <td>Male</td>\n",
       "      <td>Black</td>\n",
       "      <td>V</td>\n",
       "    </tr>\n",
       "    <tr>\n",
       "      <th>2</th>\n",
       "      <td>Briana</td>\n",
       "      <td>Jackson</td>\n",
       "      <td>13.0</td>\n",
       "      <td>2006-09-07</td>\n",
       "      <td>927 23rd st  clearwater, fl</td>\n",
       "      <td>34698</td>\n",
       "      <td>Biological child</td>\n",
       "      <td>Female</td>\n",
       "      <td>Black</td>\n",
       "      <td>A</td>\n",
       "    </tr>\n",
       "    <tr>\n",
       "      <th>3</th>\n",
       "      <td>Benjamin</td>\n",
       "      <td>Cox</td>\n",
       "      <td>21.0</td>\n",
       "      <td>1998-10-21</td>\n",
       "      <td>927 23rd st  clearwater, fl</td>\n",
       "      <td>34698</td>\n",
       "      <td>Stepchild</td>\n",
       "      <td>Male</td>\n",
       "      <td>Black</td>\n",
       "      <td>D</td>\n",
       "    </tr>\n",
       "    <tr>\n",
       "      <th>4</th>\n",
       "      <td>Willie</td>\n",
       "      <td>Tucker</td>\n",
       "      <td>72.0</td>\n",
       "      <td>1947-10-09</td>\n",
       "      <td>8904 167th place  fleming island, fl</td>\n",
       "      <td>32003</td>\n",
       "      <td>Reference person</td>\n",
       "      <td>Male</td>\n",
       "      <td>White</td>\n",
       "      <td>J</td>\n",
       "    </tr>\n",
       "    <tr>\n",
       "      <th>...</th>\n",
       "      <td>...</td>\n",
       "      <td>...</td>\n",
       "      <td>...</td>\n",
       "      <td>...</td>\n",
       "      <td>...</td>\n",
       "      <td>...</td>\n",
       "      <td>...</td>\n",
       "      <td>...</td>\n",
       "      <td>...</td>\n",
       "      <td>...</td>\n",
       "    </tr>\n",
       "    <tr>\n",
       "      <th>49993</th>\n",
       "      <td>Thomas</td>\n",
       "      <td>Gutierrez</td>\n",
       "      <td>29.0</td>\n",
       "      <td>1990-11-16</td>\n",
       "      <td>2210 henn hyde rd ne  hollywood, fl</td>\n",
       "      <td>33021</td>\n",
       "      <td>Institutionalized GQ pop</td>\n",
       "      <td>Male</td>\n",
       "      <td>Latino</td>\n",
       "      <td>B</td>\n",
       "    </tr>\n",
       "    <tr>\n",
       "      <th>49994</th>\n",
       "      <td>Marcus</td>\n",
       "      <td>Roman</td>\n",
       "      <td>31.0</td>\n",
       "      <td>1988-07-08</td>\n",
       "      <td>2210 henn hyde rd ne  hollywood, fl</td>\n",
       "      <td>33021</td>\n",
       "      <td>Institutionalized GQ pop</td>\n",
       "      <td>Male</td>\n",
       "      <td>Multiracial or Other</td>\n",
       "      <td>S</td>\n",
       "    </tr>\n",
       "    <tr>\n",
       "      <th>49997</th>\n",
       "      <td>Christian</td>\n",
       "      <td>Rosales</td>\n",
       "      <td>36.0</td>\n",
       "      <td>1983-12-16</td>\n",
       "      <td>701 haber rd  vero beach, fl</td>\n",
       "      <td>32968</td>\n",
       "      <td>Institutionalized GQ pop</td>\n",
       "      <td>Male</td>\n",
       "      <td>Latino</td>\n",
       "      <td>C</td>\n",
       "    </tr>\n",
       "    <tr>\n",
       "      <th>49998</th>\n",
       "      <td>Phillip</td>\n",
       "      <td>Morton</td>\n",
       "      <td>34.0</td>\n",
       "      <td>1985-06-11</td>\n",
       "      <td>114 s frnt st  fort myers, fl</td>\n",
       "      <td>33919</td>\n",
       "      <td>Institutionalized GQ pop</td>\n",
       "      <td>Male</td>\n",
       "      <td>White</td>\n",
       "      <td>J</td>\n",
       "    </tr>\n",
       "    <tr>\n",
       "      <th>49999</th>\n",
       "      <td>Catherine</td>\n",
       "      <td>Talley</td>\n",
       "      <td>91.0</td>\n",
       "      <td>1928-08-14</td>\n",
       "      <td>701 haber rd  vero beach, fl</td>\n",
       "      <td>32968</td>\n",
       "      <td>Institutionalized GQ pop</td>\n",
       "      <td>Female</td>\n",
       "      <td>Black</td>\n",
       "      <td>H</td>\n",
       "    </tr>\n",
       "  </tbody>\n",
       "</table>\n",
       "<p>47326 rows × 10 columns</p>\n",
       "</div>"
      ],
      "text/plain": [
       "      first_name   last_name   age date_of_birth  \\\n",
       "0       Margaret       Clark  68.0    1951-07-27   \n",
       "1        Jeffrey  Littlejohn  52.0    1967-05-03   \n",
       "2         Briana     Jackson  13.0    2006-09-07   \n",
       "3       Benjamin         Cox  21.0    1998-10-21   \n",
       "4         Willie      Tucker  72.0    1947-10-09   \n",
       "...          ...         ...   ...           ...   \n",
       "49993     Thomas   Gutierrez  29.0    1990-11-16   \n",
       "49994     Marcus       Roman  31.0    1988-07-08   \n",
       "49997  Christian     Rosales  36.0    1983-12-16   \n",
       "49998    Phillip      Morton  34.0    1985-06-11   \n",
       "49999  Catherine      Talley  91.0    1928-08-14   \n",
       "\n",
       "                                    address zipcode  \\\n",
       "0           1344 winoka rd  brooksville, fl   34601   \n",
       "1               927 23rd st  clearwater, fl   34698   \n",
       "2               927 23rd st  clearwater, fl   34698   \n",
       "3               927 23rd st  clearwater, fl   34698   \n",
       "4      8904 167th place  fleming island, fl   32003   \n",
       "...                                     ...     ...   \n",
       "49993   2210 henn hyde rd ne  hollywood, fl   33021   \n",
       "49994   2210 henn hyde rd ne  hollywood, fl   33021   \n",
       "49997          701 haber rd  vero beach, fl   32968   \n",
       "49998         114 s frnt st  fort myers, fl   33919   \n",
       "49999          701 haber rd  vero beach, fl   32968   \n",
       "\n",
       "      relation_to_household_head     sex        race_ethnicity middle_initial  \n",
       "0               Reference person  Female                 Black              J  \n",
       "1               Reference person    Male                 Black              V  \n",
       "2               Biological child  Female                 Black              A  \n",
       "3                      Stepchild    Male                 Black              D  \n",
       "4               Reference person    Male                 White              J  \n",
       "...                          ...     ...                   ...            ...  \n",
       "49993   Institutionalized GQ pop    Male                Latino              B  \n",
       "49994   Institutionalized GQ pop    Male  Multiracial or Other              S  \n",
       "49997   Institutionalized GQ pop    Male                Latino              C  \n",
       "49998   Institutionalized GQ pop    Male                 White              J  \n",
       "49999   Institutionalized GQ pop  Female                 Black              H  \n",
       "\n",
       "[47326 rows x 10 columns]"
      ]
     },
     "execution_count": 13,
     "metadata": {},
     "output_type": "execute_result"
    }
   ],
   "source": [
    "df_census"
   ]
  },
  {
   "cell_type": "code",
   "execution_count": 47,
   "id": "93f791c6",
   "metadata": {},
   "outputs": [
    {
     "data": {
      "text/plain": [
       "first_name                            object\n",
       "last_name                             object\n",
       "age                                  float64\n",
       "date_of_birth                 datetime64[ns]\n",
       "address                               object\n",
       "zipcode                               object\n",
       "relation_to_household_head            object\n",
       "sex                                   object\n",
       "race_ethnicity                        object\n",
       "middle_initial                        object\n",
       "dtype: object"
      ]
     },
     "execution_count": 47,
     "metadata": {},
     "output_type": "execute_result"
    }
   ],
   "source": [
    "df_census.dtypes"
   ]
  },
  {
   "cell_type": "code",
   "execution_count": 9,
   "id": "9dfa2012",
   "metadata": {},
   "outputs": [
    {
     "data": {
      "text/html": [
       "<div>\n",
       "<style scoped>\n",
       "    .dataframe tbody tr th:only-of-type {\n",
       "        vertical-align: middle;\n",
       "    }\n",
       "\n",
       "    .dataframe tbody tr th {\n",
       "        vertical-align: top;\n",
       "    }\n",
       "\n",
       "    .dataframe thead th {\n",
       "        text-align: right;\n",
       "    }\n",
       "</style>\n",
       "<table border=\"1\" class=\"dataframe\">\n",
       "  <thead>\n",
       "    <tr style=\"text-align: right;\">\n",
       "      <th></th>\n",
       "      <th>first_name</th>\n",
       "      <th>middle_name</th>\n",
       "      <th>last_name</th>\n",
       "      <th>date_of_birth</th>\n",
       "      <th>sex</th>\n",
       "      <th>race_ethnicity</th>\n",
       "      <th>address</th>\n",
       "      <th>zipcode</th>\n",
       "      <th>household_id</th>\n",
       "      <th>wic_id</th>\n",
       "    </tr>\n",
       "  </thead>\n",
       "  <tbody>\n",
       "    <tr>\n",
       "      <th>82</th>\n",
       "      <td>Sadie</td>\n",
       "      <td>Katia</td>\n",
       "      <td>Tidwell</td>\n",
       "      <td>2017-10-15</td>\n",
       "      <td>Female</td>\n",
       "      <td>Black</td>\n",
       "      <td>w 4th st  north port, fl</td>\n",
       "      <td>34287</td>\n",
       "      <td>48</td>\n",
       "      <td>1</td>\n",
       "    </tr>\n",
       "    <tr>\n",
       "      <th>83</th>\n",
       "      <td>Liliana</td>\n",
       "      <td>Addisyn</td>\n",
       "      <td>Marshall</td>\n",
       "      <td>2019-12-03</td>\n",
       "      <td>Female</td>\n",
       "      <td>Black</td>\n",
       "      <td>w 4th st  north port, fl</td>\n",
       "      <td>34287</td>\n",
       "      <td>48</td>\n",
       "      <td>2</td>\n",
       "    </tr>\n",
       "    <tr>\n",
       "      <th>174</th>\n",
       "      <td>Holly</td>\n",
       "      <td>Emma</td>\n",
       "      <td>Yount</td>\n",
       "      <td>2019-05-17</td>\n",
       "      <td>Female</td>\n",
       "      <td>White</td>\n",
       "      <td>7944 se 62nd ave  unincorporated, fl</td>\n",
       "      <td>32824</td>\n",
       "      <td>88</td>\n",
       "      <td>3</td>\n",
       "    </tr>\n",
       "    <tr>\n",
       "      <th>183</th>\n",
       "      <td>Jose</td>\n",
       "      <td>Zamir</td>\n",
       "      <td>Ulrich</td>\n",
       "      <td>2019-12-12</td>\n",
       "      <td>Male</td>\n",
       "      <td>White</td>\n",
       "      <td>5124 braemar st  spring hill, fl</td>\n",
       "      <td>34606</td>\n",
       "      <td>91</td>\n",
       "      <td>4</td>\n",
       "    </tr>\n",
       "    <tr>\n",
       "      <th>364</th>\n",
       "      <td>Angel</td>\n",
       "      <td>Jaquan</td>\n",
       "      <td>Gutierrez</td>\n",
       "      <td>2015-05-12</td>\n",
       "      <td>Male</td>\n",
       "      <td>Latino</td>\n",
       "      <td>2505 easy st  tampa, fl</td>\n",
       "      <td>33647</td>\n",
       "      <td>173</td>\n",
       "      <td>5</td>\n",
       "    </tr>\n",
       "    <tr>\n",
       "      <th>...</th>\n",
       "      <td>...</td>\n",
       "      <td>...</td>\n",
       "      <td>...</td>\n",
       "      <td>...</td>\n",
       "      <td>...</td>\n",
       "      <td>...</td>\n",
       "      <td>...</td>\n",
       "      <td>...</td>\n",
       "      <td>...</td>\n",
       "      <td>...</td>\n",
       "    </tr>\n",
       "    <tr>\n",
       "      <th>48231</th>\n",
       "      <td>Olivia</td>\n",
       "      <td>Alice</td>\n",
       "      <td>Deroest</td>\n",
       "      <td>2019-06-01</td>\n",
       "      <td>Female</td>\n",
       "      <td>White</td>\n",
       "      <td>northeast tillamook street  fort myers, fl</td>\n",
       "      <td>33966</td>\n",
       "      <td>20367</td>\n",
       "      <td>613</td>\n",
       "    </tr>\n",
       "    <tr>\n",
       "      <th>48261</th>\n",
       "      <td>Emma</td>\n",
       "      <td>Celine</td>\n",
       "      <td>Bland</td>\n",
       "      <td>2018-08-22</td>\n",
       "      <td>Female</td>\n",
       "      <td>Black</td>\n",
       "      <td>719 orangevale ct  unincorporated, fl</td>\n",
       "      <td>33415</td>\n",
       "      <td>20379</td>\n",
       "      <td>614</td>\n",
       "    </tr>\n",
       "    <tr>\n",
       "      <th>48442</th>\n",
       "      <td>Frederick</td>\n",
       "      <td>Cameron</td>\n",
       "      <td>Rodriguez</td>\n",
       "      <td>2019-06-04</td>\n",
       "      <td>Male</td>\n",
       "      <td>Latino</td>\n",
       "      <td>5765 heards forest dr  crestview, fl</td>\n",
       "      <td>32539</td>\n",
       "      <td>20452</td>\n",
       "      <td>615</td>\n",
       "    </tr>\n",
       "    <tr>\n",
       "      <th>48457</th>\n",
       "      <td>Emma</td>\n",
       "      <td>Maya</td>\n",
       "      <td>Bergman</td>\n",
       "      <td>2017-08-31</td>\n",
       "      <td>Female</td>\n",
       "      <td>White</td>\n",
       "      <td>107 brown ave  st. petersburg, fl</td>\n",
       "      <td>33704</td>\n",
       "      <td>20458</td>\n",
       "      <td>616</td>\n",
       "    </tr>\n",
       "    <tr>\n",
       "      <th>48473</th>\n",
       "      <td>Joseph</td>\n",
       "      <td>Enzo</td>\n",
       "      <td>Lopez Morales</td>\n",
       "      <td>2019-12-03</td>\n",
       "      <td>Male</td>\n",
       "      <td>Latino</td>\n",
       "      <td>3015 shouse rd  lehigh acres, fl</td>\n",
       "      <td>33936</td>\n",
       "      <td>20461</td>\n",
       "      <td>617</td>\n",
       "    </tr>\n",
       "  </tbody>\n",
       "</table>\n",
       "<p>617 rows × 10 columns</p>\n",
       "</div>"
      ],
      "text/plain": [
       "      first_name middle_name      last_name date_of_birth     sex  \\\n",
       "82         Sadie       Katia        Tidwell    2017-10-15  Female   \n",
       "83       Liliana     Addisyn       Marshall    2019-12-03  Female   \n",
       "174        Holly        Emma          Yount    2019-05-17  Female   \n",
       "183         Jose       Zamir         Ulrich    2019-12-12    Male   \n",
       "364        Angel      Jaquan      Gutierrez    2015-05-12    Male   \n",
       "...          ...         ...            ...           ...     ...   \n",
       "48231     Olivia       Alice        Deroest    2019-06-01  Female   \n",
       "48261       Emma      Celine          Bland    2018-08-22  Female   \n",
       "48442  Frederick     Cameron      Rodriguez    2019-06-04    Male   \n",
       "48457       Emma        Maya        Bergman    2017-08-31  Female   \n",
       "48473     Joseph        Enzo  Lopez Morales    2019-12-03    Male   \n",
       "\n",
       "      race_ethnicity                                      address zipcode  \\\n",
       "82             Black                     w 4th st  north port, fl   34287   \n",
       "83             Black                     w 4th st  north port, fl   34287   \n",
       "174            White         7944 se 62nd ave  unincorporated, fl   32824   \n",
       "183            White             5124 braemar st  spring hill, fl   34606   \n",
       "364           Latino                      2505 easy st  tampa, fl   33647   \n",
       "...              ...                                          ...     ...   \n",
       "48231          White   northeast tillamook street  fort myers, fl   33966   \n",
       "48261          Black        719 orangevale ct  unincorporated, fl   33415   \n",
       "48442         Latino         5765 heards forest dr  crestview, fl   32539   \n",
       "48457          White            107 brown ave  st. petersburg, fl   33704   \n",
       "48473         Latino             3015 shouse rd  lehigh acres, fl   33936   \n",
       "\n",
       "       household_id  wic_id  \n",
       "82               48       1  \n",
       "83               48       2  \n",
       "174              88       3  \n",
       "183              91       4  \n",
       "364             173       5  \n",
       "...             ...     ...  \n",
       "48231         20367     613  \n",
       "48261         20379     614  \n",
       "48442         20452     615  \n",
       "48457         20458     616  \n",
       "48473         20461     617  \n",
       "\n",
       "[617 rows x 10 columns]"
      ]
     },
     "execution_count": 9,
     "metadata": {},
     "output_type": "execute_result"
    }
   ],
   "source": [
    "df_wic"
   ]
  },
  {
   "cell_type": "code",
   "execution_count": 48,
   "id": "7521831f",
   "metadata": {},
   "outputs": [
    {
     "data": {
      "text/plain": [
       "first_name                object\n",
       "middle_name               object\n",
       "last_name                 object\n",
       "date_of_birth     datetime64[ns]\n",
       "sex                       object\n",
       "race_ethnicity            object\n",
       "address                   object\n",
       "zipcode                   object\n",
       "household_id               int64\n",
       "wic_id                     int64\n",
       "dtype: object"
      ]
     },
     "execution_count": 48,
     "metadata": {},
     "output_type": "execute_result"
    }
   ],
   "source": [
    "df_wic.dtypes"
   ]
  },
  {
   "cell_type": "markdown",
   "id": "be59687c",
   "metadata": {},
   "source": [
    "# See how many kids are in census data\n",
    "\n",
    "Only 2236. If I restrict to these, it would be a very small linking task. However, if ages and birthdates are noisy, then we'd have to search the rest of the records after matching these.\n",
    "\n",
    "    \n",
    "## Questions about linking\n",
    "\n",
    "1. If ages/birthdays are noisy, what's a good strategy for finding missing kids in a \"cascade\" approach?"
   ]
  },
  {
   "cell_type": "code",
   "execution_count": 50,
   "id": "fab09a68",
   "metadata": {},
   "outputs": [
    {
     "data": {
      "text/plain": [
       "2236"
      ]
     },
     "execution_count": 50,
     "metadata": {},
     "output_type": "execute_result"
    }
   ],
   "source": [
    "(df_census.age < 5).sum()"
   ]
  },
  {
   "cell_type": "markdown",
   "id": "79f04345",
   "metadata": {},
   "source": [
    "# Add noise to data\n",
    "\n",
    "## Noise for census in priority order:\n",
    "\n",
    "1. First name (keyboard, phonetic, fake)\n",
    "1. Last name (keyboard, phonitic, fake)\n",
    "1. Date of birth (switch month/day, wrong number or person)\n",
    "1. Zipcode\n",
    "1. Address\n",
    "1. Sex\n",
    "1. Age\n",
    "1. Race/Ethnicity\n",
    "1. Middle initial\n",
    "\n",
    "## Noise for WIC data in priority order:\n",
    "\n",
    "1. First name (keyboard, phonetic, fake, OCR)\n",
    "1. Last name (keyboard, phonitic, fake, OCR)\n",
    "1. Date of birth (switch month/day, wrong number or person, OCR)\n",
    "1. Zipcode\n",
    "1. Address\n",
    "1. Sex\n",
    "1. Race/Ethnicity\n",
    "1. Middle name\n",
    "1. Household ID and WIC ID??\n",
    "\n",
    "## Questions about adding noise:\n",
    "\n",
    "1. What are good default values for the token corruption probabilities?\n",
    "\n",
    "1. How should I handle combining the row corruption probability with the token corruption probabilities? To get a desired fraction of rows corrupted, you need to modify a larger fraction of rows, e.g. divide the row fraction by the token corruption probability or something. (The question is not about how to do the math, but about where to do the math, or if we need to do the math.)\n",
    "\n",
    "1. How should I handle the datetime64 datatype in date of birth?\n",
    "\n",
    "    1. Does Splink (and other packages) handle this datatype directly, or do they need to be converted to strings?\n",
    "    1. How do I switch the month and day in a fraction of rows?\n",
    "    1. If a swapped month and day lead to an invalid date in the format YYYY-MM-DD, do we keep the invalid date, or should this get fixed automatically since it's obviously invalid? Would correcting obvious errors like this be part of the preprocessing pipeline? E.g., just like there's name and address standardization, there would be date standardization.\n",
    "    1. Maybe the problem is that the data is already \"too clean\" because I'm just starting with the ground truth, which is stored as datetime64 objects in a standard format (e.g., so I can't switch the month and day to invalid values without getting an error or changing the format of every row). Perhaps part of the initial \"data creation\" process should be to convert these to strings, which have less structure and may be easier to manipulate, and then one of the first preprocessing steps would be to standardize the dates, eliminiating any impossible values.\n",
    "\n",
    "1. What **other** ways could birthdays be corrupted besides swapping month and day?\n",
    "\n",
    "1. There are **lots** of possible parameters to specify for noise functions. Where is the best place to specify these, how do I pass them around to different parts of the code, and how do I make a user-friendly (for now, me-friendly) interface to handle them?\n",
    "\n",
    "1. How should I add noise to zipcodes?\n",
    "\n",
    "1. How should I add noise to addresses?\n",
    "\n",
    "    1. Also, should I try to do any address standardization? Are there available packages that already do this?\n",
    "    1. Can I pull addresses from the 2030 census file to "
   ]
  },
  {
   "cell_type": "code",
   "execution_count": 31,
   "id": "5ff6b76f",
   "metadata": {},
   "outputs": [
    {
     "data": {
      "text/plain": [
       "0       1951-07-27\n",
       "1       1967-05-03\n",
       "2       2006-09-07\n",
       "3       1998-10-21\n",
       "4       1947-10-09\n",
       "           ...    \n",
       "49993   1990-11-16\n",
       "49994   1988-07-08\n",
       "49997   1983-12-16\n",
       "49998   1985-06-11\n",
       "49999   1928-08-14\n",
       "Name: date_of_birth, Length: 47326, dtype: datetime64[ns]"
      ]
     },
     "execution_count": 31,
     "metadata": {},
     "output_type": "execute_result"
    }
   ],
   "source": [
    "df_census.date_of_birth"
   ]
  },
  {
   "cell_type": "code",
   "execution_count": 44,
   "id": "d105e307",
   "metadata": {},
   "outputs": [
    {
     "data": {
      "text/plain": [
       "'1951-07-27'"
      ]
     },
     "execution_count": 44,
     "metadata": {},
     "output_type": "execute_result"
    }
   ],
   "source": [
    "df_census.date_of_birth.astype(str)[0]"
   ]
  },
  {
   "cell_type": "code",
   "execution_count": 46,
   "id": "48c021c7",
   "metadata": {},
   "outputs": [
    {
     "data": {
      "text/plain": [
       "0        1951-27-07\n",
       "1        1967-03-05\n",
       "2        2006-07-09\n",
       "3        1998-21-10\n",
       "4        1947-09-10\n",
       "            ...    \n",
       "49993    1990-16-11\n",
       "49994    1988-08-07\n",
       "49997    1983-16-12\n",
       "49998    1985-11-06\n",
       "49999    1928-14-08\n",
       "Name: date_of_birth, Length: 47326, dtype: object"
      ]
     },
     "execution_count": 46,
     "metadata": {},
     "output_type": "execute_result"
    }
   ],
   "source": [
    "df_census.date_of_birth.dt.strftime('%Y-%d-%m')"
   ]
  },
  {
   "cell_type": "code",
   "execution_count": 40,
   "id": "e674320e",
   "metadata": {},
   "outputs": [
    {
     "data": {
      "text/plain": [
       "0        1951-07-27 00:00:00\n",
       "1        1967-05-03 00:00:00\n",
       "2        2006-09-07 00:00:00\n",
       "3        1998-10-21 00:00:00\n",
       "4        1947-10-09 00:00:00\n",
       "                ...         \n",
       "49993    1990-11-16 00:00:00\n",
       "49994    1988-07-08 00:00:00\n",
       "49997    1983-12-16 00:00:00\n",
       "49998    1985-06-11 00:00:00\n",
       "49999    1928-08-14 00:00:00\n",
       "Name: date_of_birth, Length: 47326, dtype: object"
      ]
     },
     "execution_count": 40,
     "metadata": {},
     "output_type": "execute_result"
    }
   ],
   "source": [
    "col = df_census.date_of_birth.copy()\n",
    "apply_noise_to_column(\n",
    "        col, 0.02, rng, dt.datetime.strftime, ('%Y-%d-%m',))\n",
    "col"
   ]
  },
  {
   "cell_type": "code",
   "execution_count": 42,
   "id": "45b293e7",
   "metadata": {},
   "outputs": [
    {
     "ename": "ParserError",
     "evalue": "month must be in 1..12: 1941-18-09 present at position 38",
     "output_type": "error",
     "traceback": [
      "\u001b[0;31m---------------------------------------------------------------------------\u001b[0m",
      "\u001b[0;31mValueError\u001b[0m                                Traceback (most recent call last)",
      "File \u001b[0;32m~/miniconda3/envs/prlpy38/lib/python3.8/site-packages/dateutil/parser/_parser.py:649\u001b[0m, in \u001b[0;36mparser.parse\u001b[0;34m(self, timestr, default, ignoretz, tzinfos, **kwargs)\u001b[0m\n\u001b[1;32m    648\u001b[0m \u001b[38;5;28;01mtry\u001b[39;00m:\n\u001b[0;32m--> 649\u001b[0m     ret \u001b[38;5;241m=\u001b[39m \u001b[38;5;28;43mself\u001b[39;49m\u001b[38;5;241;43m.\u001b[39;49m\u001b[43m_build_naive\u001b[49m\u001b[43m(\u001b[49m\u001b[43mres\u001b[49m\u001b[43m,\u001b[49m\u001b[43m \u001b[49m\u001b[43mdefault\u001b[49m\u001b[43m)\u001b[49m\n\u001b[1;32m    650\u001b[0m \u001b[38;5;28;01mexcept\u001b[39;00m \u001b[38;5;167;01mValueError\u001b[39;00m \u001b[38;5;28;01mas\u001b[39;00m e:\n",
      "File \u001b[0;32m~/miniconda3/envs/prlpy38/lib/python3.8/site-packages/dateutil/parser/_parser.py:1235\u001b[0m, in \u001b[0;36mparser._build_naive\u001b[0;34m(self, res, default)\u001b[0m\n\u001b[1;32m   1233\u001b[0m         repl[\u001b[38;5;124m'\u001b[39m\u001b[38;5;124mday\u001b[39m\u001b[38;5;124m'\u001b[39m] \u001b[38;5;241m=\u001b[39m monthrange(cyear, cmonth)[\u001b[38;5;241m1\u001b[39m]\n\u001b[0;32m-> 1235\u001b[0m naive \u001b[38;5;241m=\u001b[39m \u001b[43mdefault\u001b[49m\u001b[38;5;241;43m.\u001b[39;49m\u001b[43mreplace\u001b[49m\u001b[43m(\u001b[49m\u001b[38;5;241;43m*\u001b[39;49m\u001b[38;5;241;43m*\u001b[39;49m\u001b[43mrepl\u001b[49m\u001b[43m)\u001b[49m\n\u001b[1;32m   1237\u001b[0m \u001b[38;5;28;01mif\u001b[39;00m res\u001b[38;5;241m.\u001b[39mweekday \u001b[38;5;129;01mis\u001b[39;00m \u001b[38;5;129;01mnot\u001b[39;00m \u001b[38;5;28;01mNone\u001b[39;00m \u001b[38;5;129;01mand\u001b[39;00m \u001b[38;5;129;01mnot\u001b[39;00m res\u001b[38;5;241m.\u001b[39mday:\n",
      "\u001b[0;31mValueError\u001b[0m: month must be in 1..12",
      "\nThe above exception was the direct cause of the following exception:\n",
      "\u001b[0;31mParserError\u001b[0m                               Traceback (most recent call last)",
      "File \u001b[0;32m~/miniconda3/envs/prlpy38/lib/python3.8/site-packages/pandas/_libs/tslib.pyx:605\u001b[0m, in \u001b[0;36mpandas._libs.tslib.array_to_datetime\u001b[0;34m()\u001b[0m\n",
      "File \u001b[0;32m~/miniconda3/envs/prlpy38/lib/python3.8/site-packages/pandas/_libs/tslibs/parsing.pyx:320\u001b[0m, in \u001b[0;36mpandas._libs.tslibs.parsing.parse_datetime_string\u001b[0;34m()\u001b[0m\n",
      "File \u001b[0;32m~/miniconda3/envs/prlpy38/lib/python3.8/site-packages/dateutil/parser/_parser.py:1368\u001b[0m, in \u001b[0;36mparse\u001b[0;34m(timestr, parserinfo, **kwargs)\u001b[0m\n\u001b[1;32m   1367\u001b[0m \u001b[38;5;28;01melse\u001b[39;00m:\n\u001b[0;32m-> 1368\u001b[0m     \u001b[38;5;28;01mreturn\u001b[39;00m \u001b[43mDEFAULTPARSER\u001b[49m\u001b[38;5;241;43m.\u001b[39;49m\u001b[43mparse\u001b[49m\u001b[43m(\u001b[49m\u001b[43mtimestr\u001b[49m\u001b[43m,\u001b[49m\u001b[43m \u001b[49m\u001b[38;5;241;43m*\u001b[39;49m\u001b[38;5;241;43m*\u001b[39;49m\u001b[43mkwargs\u001b[49m\u001b[43m)\u001b[49m\n",
      "File \u001b[0;32m~/miniconda3/envs/prlpy38/lib/python3.8/site-packages/dateutil/parser/_parser.py:651\u001b[0m, in \u001b[0;36mparser.parse\u001b[0;34m(self, timestr, default, ignoretz, tzinfos, **kwargs)\u001b[0m\n\u001b[1;32m    650\u001b[0m \u001b[38;5;28;01mexcept\u001b[39;00m \u001b[38;5;167;01mValueError\u001b[39;00m \u001b[38;5;28;01mas\u001b[39;00m e:\n\u001b[0;32m--> 651\u001b[0m     \u001b[43msix\u001b[49m\u001b[38;5;241;43m.\u001b[39;49m\u001b[43mraise_from\u001b[49m\u001b[43m(\u001b[49m\u001b[43mParserError\u001b[49m\u001b[43m(\u001b[49m\u001b[38;5;28;43mstr\u001b[39;49m\u001b[43m(\u001b[49m\u001b[43me\u001b[49m\u001b[43m)\u001b[49m\u001b[43m \u001b[49m\u001b[38;5;241;43m+\u001b[39;49m\u001b[43m \u001b[49m\u001b[38;5;124;43m\"\u001b[39;49m\u001b[38;5;124;43m: \u001b[39;49m\u001b[38;5;132;43;01m%s\u001b[39;49;00m\u001b[38;5;124;43m\"\u001b[39;49m\u001b[43m,\u001b[49m\u001b[43m \u001b[49m\u001b[43mtimestr\u001b[49m\u001b[43m)\u001b[49m\u001b[43m,\u001b[49m\u001b[43m \u001b[49m\u001b[43me\u001b[49m\u001b[43m)\u001b[49m\n\u001b[1;32m    653\u001b[0m \u001b[38;5;28;01mif\u001b[39;00m \u001b[38;5;129;01mnot\u001b[39;00m ignoretz:\n",
      "File \u001b[0;32m<string>:3\u001b[0m, in \u001b[0;36mraise_from\u001b[0;34m(value, from_value)\u001b[0m\n",
      "\u001b[0;31mParserError\u001b[0m: month must be in 1..12: 1941-18-09",
      "\nDuring handling of the above exception, another exception occurred:\n",
      "\u001b[0;31mTypeError\u001b[0m                                 Traceback (most recent call last)",
      "File \u001b[0;32m~/miniconda3/envs/prlpy38/lib/python3.8/site-packages/pandas/_libs/tslib.pyx:616\u001b[0m, in \u001b[0;36mpandas._libs.tslib.array_to_datetime\u001b[0;34m()\u001b[0m\n",
      "\u001b[0;31mTypeError\u001b[0m: invalid string coercion to datetime for \"1941-18-09\" at position 38",
      "\nDuring handling of the above exception, another exception occurred:\n",
      "\u001b[0;31mValueError\u001b[0m                                Traceback (most recent call last)",
      "File \u001b[0;32m~/miniconda3/envs/prlpy38/lib/python3.8/site-packages/dateutil/parser/_parser.py:649\u001b[0m, in \u001b[0;36mparser.parse\u001b[0;34m(self, timestr, default, ignoretz, tzinfos, **kwargs)\u001b[0m\n\u001b[1;32m    648\u001b[0m \u001b[38;5;28;01mtry\u001b[39;00m:\n\u001b[0;32m--> 649\u001b[0m     ret \u001b[38;5;241m=\u001b[39m \u001b[38;5;28;43mself\u001b[39;49m\u001b[38;5;241;43m.\u001b[39;49m\u001b[43m_build_naive\u001b[49m\u001b[43m(\u001b[49m\u001b[43mres\u001b[49m\u001b[43m,\u001b[49m\u001b[43m \u001b[49m\u001b[43mdefault\u001b[49m\u001b[43m)\u001b[49m\n\u001b[1;32m    650\u001b[0m \u001b[38;5;28;01mexcept\u001b[39;00m \u001b[38;5;167;01mValueError\u001b[39;00m \u001b[38;5;28;01mas\u001b[39;00m e:\n",
      "File \u001b[0;32m~/miniconda3/envs/prlpy38/lib/python3.8/site-packages/dateutil/parser/_parser.py:1235\u001b[0m, in \u001b[0;36mparser._build_naive\u001b[0;34m(self, res, default)\u001b[0m\n\u001b[1;32m   1233\u001b[0m         repl[\u001b[38;5;124m'\u001b[39m\u001b[38;5;124mday\u001b[39m\u001b[38;5;124m'\u001b[39m] \u001b[38;5;241m=\u001b[39m monthrange(cyear, cmonth)[\u001b[38;5;241m1\u001b[39m]\n\u001b[0;32m-> 1235\u001b[0m naive \u001b[38;5;241m=\u001b[39m \u001b[43mdefault\u001b[49m\u001b[38;5;241;43m.\u001b[39;49m\u001b[43mreplace\u001b[49m\u001b[43m(\u001b[49m\u001b[38;5;241;43m*\u001b[39;49m\u001b[38;5;241;43m*\u001b[39;49m\u001b[43mrepl\u001b[49m\u001b[43m)\u001b[49m\n\u001b[1;32m   1237\u001b[0m \u001b[38;5;28;01mif\u001b[39;00m res\u001b[38;5;241m.\u001b[39mweekday \u001b[38;5;129;01mis\u001b[39;00m \u001b[38;5;129;01mnot\u001b[39;00m \u001b[38;5;28;01mNone\u001b[39;00m \u001b[38;5;129;01mand\u001b[39;00m \u001b[38;5;129;01mnot\u001b[39;00m res\u001b[38;5;241m.\u001b[39mday:\n",
      "\u001b[0;31mValueError\u001b[0m: month must be in 1..12",
      "\nThe above exception was the direct cause of the following exception:\n",
      "\u001b[0;31mParserError\u001b[0m                               Traceback (most recent call last)",
      "Cell \u001b[0;32mIn [42], line 1\u001b[0m\n\u001b[0;32m----> 1\u001b[0m \u001b[43mpd\u001b[49m\u001b[38;5;241;43m.\u001b[39;49m\u001b[43mto_datetime\u001b[49m\u001b[43m(\u001b[49m\u001b[43mcol\u001b[49m\u001b[43m)\u001b[49m\n",
      "File \u001b[0;32m~/miniconda3/envs/prlpy38/lib/python3.8/site-packages/pandas/core/tools/datetimes.py:1068\u001b[0m, in \u001b[0;36mto_datetime\u001b[0;34m(arg, errors, dayfirst, yearfirst, utc, format, exact, unit, infer_datetime_format, origin, cache)\u001b[0m\n\u001b[1;32m   1066\u001b[0m         result \u001b[38;5;241m=\u001b[39m arg\u001b[38;5;241m.\u001b[39mmap(cache_array)\n\u001b[1;32m   1067\u001b[0m     \u001b[38;5;28;01melse\u001b[39;00m:\n\u001b[0;32m-> 1068\u001b[0m         values \u001b[38;5;241m=\u001b[39m \u001b[43mconvert_listlike\u001b[49m\u001b[43m(\u001b[49m\u001b[43marg\u001b[49m\u001b[38;5;241;43m.\u001b[39;49m\u001b[43m_values\u001b[49m\u001b[43m,\u001b[49m\u001b[43m \u001b[49m\u001b[38;5;28;43mformat\u001b[39;49m\u001b[43m)\u001b[49m\n\u001b[1;32m   1069\u001b[0m         result \u001b[38;5;241m=\u001b[39m arg\u001b[38;5;241m.\u001b[39m_constructor(values, index\u001b[38;5;241m=\u001b[39marg\u001b[38;5;241m.\u001b[39mindex, name\u001b[38;5;241m=\u001b[39marg\u001b[38;5;241m.\u001b[39mname)\n\u001b[1;32m   1070\u001b[0m \u001b[38;5;28;01melif\u001b[39;00m \u001b[38;5;28misinstance\u001b[39m(arg, (ABCDataFrame, abc\u001b[38;5;241m.\u001b[39mMutableMapping)):\n",
      "File \u001b[0;32m~/miniconda3/envs/prlpy38/lib/python3.8/site-packages/pandas/core/tools/datetimes.py:438\u001b[0m, in \u001b[0;36m_convert_listlike_datetimes\u001b[0;34m(arg, format, name, tz, unit, errors, infer_datetime_format, dayfirst, yearfirst, exact)\u001b[0m\n\u001b[1;32m    436\u001b[0m \u001b[38;5;28;01massert\u001b[39;00m \u001b[38;5;28mformat\u001b[39m \u001b[38;5;129;01mis\u001b[39;00m \u001b[38;5;28;01mNone\u001b[39;00m \u001b[38;5;129;01mor\u001b[39;00m infer_datetime_format\n\u001b[1;32m    437\u001b[0m utc \u001b[38;5;241m=\u001b[39m tz \u001b[38;5;241m==\u001b[39m \u001b[38;5;124m\"\u001b[39m\u001b[38;5;124mutc\u001b[39m\u001b[38;5;124m\"\u001b[39m\n\u001b[0;32m--> 438\u001b[0m result, tz_parsed \u001b[38;5;241m=\u001b[39m \u001b[43mobjects_to_datetime64ns\u001b[49m\u001b[43m(\u001b[49m\n\u001b[1;32m    439\u001b[0m \u001b[43m    \u001b[49m\u001b[43marg\u001b[49m\u001b[43m,\u001b[49m\n\u001b[1;32m    440\u001b[0m \u001b[43m    \u001b[49m\u001b[43mdayfirst\u001b[49m\u001b[38;5;241;43m=\u001b[39;49m\u001b[43mdayfirst\u001b[49m\u001b[43m,\u001b[49m\n\u001b[1;32m    441\u001b[0m \u001b[43m    \u001b[49m\u001b[43myearfirst\u001b[49m\u001b[38;5;241;43m=\u001b[39;49m\u001b[43myearfirst\u001b[49m\u001b[43m,\u001b[49m\n\u001b[1;32m    442\u001b[0m \u001b[43m    \u001b[49m\u001b[43mutc\u001b[49m\u001b[38;5;241;43m=\u001b[39;49m\u001b[43mutc\u001b[49m\u001b[43m,\u001b[49m\n\u001b[1;32m    443\u001b[0m \u001b[43m    \u001b[49m\u001b[43merrors\u001b[49m\u001b[38;5;241;43m=\u001b[39;49m\u001b[43merrors\u001b[49m\u001b[43m,\u001b[49m\n\u001b[1;32m    444\u001b[0m \u001b[43m    \u001b[49m\u001b[43mrequire_iso8601\u001b[49m\u001b[38;5;241;43m=\u001b[39;49m\u001b[43mrequire_iso8601\u001b[49m\u001b[43m,\u001b[49m\n\u001b[1;32m    445\u001b[0m \u001b[43m    \u001b[49m\u001b[43mallow_object\u001b[49m\u001b[38;5;241;43m=\u001b[39;49m\u001b[38;5;28;43;01mTrue\u001b[39;49;00m\u001b[43m,\u001b[49m\n\u001b[1;32m    446\u001b[0m \u001b[43m\u001b[49m\u001b[43m)\u001b[49m\n\u001b[1;32m    448\u001b[0m \u001b[38;5;28;01mif\u001b[39;00m tz_parsed \u001b[38;5;129;01mis\u001b[39;00m \u001b[38;5;129;01mnot\u001b[39;00m \u001b[38;5;28;01mNone\u001b[39;00m:\n\u001b[1;32m    449\u001b[0m     \u001b[38;5;66;03m# We can take a shortcut since the datetime64 numpy array\u001b[39;00m\n\u001b[1;32m    450\u001b[0m     \u001b[38;5;66;03m# is in UTC\u001b[39;00m\n\u001b[1;32m    451\u001b[0m     dta \u001b[38;5;241m=\u001b[39m DatetimeArray(result, dtype\u001b[38;5;241m=\u001b[39mtz_to_dtype(tz_parsed))\n",
      "File \u001b[0;32m~/miniconda3/envs/prlpy38/lib/python3.8/site-packages/pandas/core/arrays/datetimes.py:2177\u001b[0m, in \u001b[0;36mobjects_to_datetime64ns\u001b[0;34m(data, dayfirst, yearfirst, utc, errors, require_iso8601, allow_object, allow_mixed)\u001b[0m\n\u001b[1;32m   2175\u001b[0m order: Literal[\u001b[38;5;124m\"\u001b[39m\u001b[38;5;124mF\u001b[39m\u001b[38;5;124m\"\u001b[39m, \u001b[38;5;124m\"\u001b[39m\u001b[38;5;124mC\u001b[39m\u001b[38;5;124m\"\u001b[39m] \u001b[38;5;241m=\u001b[39m \u001b[38;5;124m\"\u001b[39m\u001b[38;5;124mF\u001b[39m\u001b[38;5;124m\"\u001b[39m \u001b[38;5;28;01mif\u001b[39;00m flags\u001b[38;5;241m.\u001b[39mf_contiguous \u001b[38;5;28;01melse\u001b[39;00m \u001b[38;5;124m\"\u001b[39m\u001b[38;5;124mC\u001b[39m\u001b[38;5;124m\"\u001b[39m\n\u001b[1;32m   2176\u001b[0m \u001b[38;5;28;01mtry\u001b[39;00m:\n\u001b[0;32m-> 2177\u001b[0m     result, tz_parsed \u001b[38;5;241m=\u001b[39m \u001b[43mtslib\u001b[49m\u001b[38;5;241;43m.\u001b[39;49m\u001b[43marray_to_datetime\u001b[49m\u001b[43m(\u001b[49m\n\u001b[1;32m   2178\u001b[0m \u001b[43m        \u001b[49m\u001b[43mdata\u001b[49m\u001b[38;5;241;43m.\u001b[39;49m\u001b[43mravel\u001b[49m\u001b[43m(\u001b[49m\u001b[38;5;124;43m\"\u001b[39;49m\u001b[38;5;124;43mK\u001b[39;49m\u001b[38;5;124;43m\"\u001b[39;49m\u001b[43m)\u001b[49m\u001b[43m,\u001b[49m\n\u001b[1;32m   2179\u001b[0m \u001b[43m        \u001b[49m\u001b[43merrors\u001b[49m\u001b[38;5;241;43m=\u001b[39;49m\u001b[43merrors\u001b[49m\u001b[43m,\u001b[49m\n\u001b[1;32m   2180\u001b[0m \u001b[43m        \u001b[49m\u001b[43mutc\u001b[49m\u001b[38;5;241;43m=\u001b[39;49m\u001b[43mutc\u001b[49m\u001b[43m,\u001b[49m\n\u001b[1;32m   2181\u001b[0m \u001b[43m        \u001b[49m\u001b[43mdayfirst\u001b[49m\u001b[38;5;241;43m=\u001b[39;49m\u001b[43mdayfirst\u001b[49m\u001b[43m,\u001b[49m\n\u001b[1;32m   2182\u001b[0m \u001b[43m        \u001b[49m\u001b[43myearfirst\u001b[49m\u001b[38;5;241;43m=\u001b[39;49m\u001b[43myearfirst\u001b[49m\u001b[43m,\u001b[49m\n\u001b[1;32m   2183\u001b[0m \u001b[43m        \u001b[49m\u001b[43mrequire_iso8601\u001b[49m\u001b[38;5;241;43m=\u001b[39;49m\u001b[43mrequire_iso8601\u001b[49m\u001b[43m,\u001b[49m\n\u001b[1;32m   2184\u001b[0m \u001b[43m        \u001b[49m\u001b[43mallow_mixed\u001b[49m\u001b[38;5;241;43m=\u001b[39;49m\u001b[43mallow_mixed\u001b[49m\u001b[43m,\u001b[49m\n\u001b[1;32m   2185\u001b[0m \u001b[43m    \u001b[49m\u001b[43m)\u001b[49m\n\u001b[1;32m   2186\u001b[0m     result \u001b[38;5;241m=\u001b[39m result\u001b[38;5;241m.\u001b[39mreshape(data\u001b[38;5;241m.\u001b[39mshape, order\u001b[38;5;241m=\u001b[39morder)\n\u001b[1;32m   2187\u001b[0m \u001b[38;5;28;01mexcept\u001b[39;00m \u001b[38;5;167;01mOverflowError\u001b[39;00m \u001b[38;5;28;01mas\u001b[39;00m err:\n\u001b[1;32m   2188\u001b[0m     \u001b[38;5;66;03m# Exception is raised when a part of date is greater than 32 bit signed int\u001b[39;00m\n",
      "File \u001b[0;32m~/miniconda3/envs/prlpy38/lib/python3.8/site-packages/pandas/_libs/tslib.pyx:427\u001b[0m, in \u001b[0;36mpandas._libs.tslib.array_to_datetime\u001b[0;34m()\u001b[0m\n",
      "File \u001b[0;32m~/miniconda3/envs/prlpy38/lib/python3.8/site-packages/pandas/_libs/tslib.pyx:683\u001b[0m, in \u001b[0;36mpandas._libs.tslib.array_to_datetime\u001b[0;34m()\u001b[0m\n",
      "File \u001b[0;32m~/miniconda3/envs/prlpy38/lib/python3.8/site-packages/pandas/_libs/tslib.pyx:829\u001b[0m, in \u001b[0;36mpandas._libs.tslib._array_to_datetime_object\u001b[0;34m()\u001b[0m\n",
      "File \u001b[0;32m~/miniconda3/envs/prlpy38/lib/python3.8/site-packages/pandas/_libs/tslib.pyx:819\u001b[0m, in \u001b[0;36mpandas._libs.tslib._array_to_datetime_object\u001b[0;34m()\u001b[0m\n",
      "File \u001b[0;32m~/miniconda3/envs/prlpy38/lib/python3.8/site-packages/pandas/_libs/tslibs/parsing.pyx:320\u001b[0m, in \u001b[0;36mpandas._libs.tslibs.parsing.parse_datetime_string\u001b[0;34m()\u001b[0m\n",
      "File \u001b[0;32m~/miniconda3/envs/prlpy38/lib/python3.8/site-packages/dateutil/parser/_parser.py:1368\u001b[0m, in \u001b[0;36mparse\u001b[0;34m(timestr, parserinfo, **kwargs)\u001b[0m\n\u001b[1;32m   1366\u001b[0m     \u001b[38;5;28;01mreturn\u001b[39;00m parser(parserinfo)\u001b[38;5;241m.\u001b[39mparse(timestr, \u001b[38;5;241m*\u001b[39m\u001b[38;5;241m*\u001b[39mkwargs)\n\u001b[1;32m   1367\u001b[0m \u001b[38;5;28;01melse\u001b[39;00m:\n\u001b[0;32m-> 1368\u001b[0m     \u001b[38;5;28;01mreturn\u001b[39;00m \u001b[43mDEFAULTPARSER\u001b[49m\u001b[38;5;241;43m.\u001b[39;49m\u001b[43mparse\u001b[49m\u001b[43m(\u001b[49m\u001b[43mtimestr\u001b[49m\u001b[43m,\u001b[49m\u001b[43m \u001b[49m\u001b[38;5;241;43m*\u001b[39;49m\u001b[38;5;241;43m*\u001b[39;49m\u001b[43mkwargs\u001b[49m\u001b[43m)\u001b[49m\n",
      "File \u001b[0;32m~/miniconda3/envs/prlpy38/lib/python3.8/site-packages/dateutil/parser/_parser.py:651\u001b[0m, in \u001b[0;36mparser.parse\u001b[0;34m(self, timestr, default, ignoretz, tzinfos, **kwargs)\u001b[0m\n\u001b[1;32m    649\u001b[0m     ret \u001b[38;5;241m=\u001b[39m \u001b[38;5;28mself\u001b[39m\u001b[38;5;241m.\u001b[39m_build_naive(res, default)\n\u001b[1;32m    650\u001b[0m \u001b[38;5;28;01mexcept\u001b[39;00m \u001b[38;5;167;01mValueError\u001b[39;00m \u001b[38;5;28;01mas\u001b[39;00m e:\n\u001b[0;32m--> 651\u001b[0m     \u001b[43msix\u001b[49m\u001b[38;5;241;43m.\u001b[39;49m\u001b[43mraise_from\u001b[49m\u001b[43m(\u001b[49m\u001b[43mParserError\u001b[49m\u001b[43m(\u001b[49m\u001b[38;5;28;43mstr\u001b[39;49m\u001b[43m(\u001b[49m\u001b[43me\u001b[49m\u001b[43m)\u001b[49m\u001b[43m \u001b[49m\u001b[38;5;241;43m+\u001b[39;49m\u001b[43m \u001b[49m\u001b[38;5;124;43m\"\u001b[39;49m\u001b[38;5;124;43m: \u001b[39;49m\u001b[38;5;132;43;01m%s\u001b[39;49;00m\u001b[38;5;124;43m\"\u001b[39;49m\u001b[43m,\u001b[49m\u001b[43m \u001b[49m\u001b[43mtimestr\u001b[49m\u001b[43m)\u001b[49m\u001b[43m,\u001b[49m\u001b[43m \u001b[49m\u001b[43me\u001b[49m\u001b[43m)\u001b[49m\n\u001b[1;32m    653\u001b[0m \u001b[38;5;28;01mif\u001b[39;00m \u001b[38;5;129;01mnot\u001b[39;00m ignoretz:\n\u001b[1;32m    654\u001b[0m     ret \u001b[38;5;241m=\u001b[39m \u001b[38;5;28mself\u001b[39m\u001b[38;5;241m.\u001b[39m_build_tzaware(ret, res, tzinfos)\n",
      "File \u001b[0;32m<string>:3\u001b[0m, in \u001b[0;36mraise_from\u001b[0;34m(value, from_value)\u001b[0m\n",
      "\u001b[0;31mParserError\u001b[0m: month must be in 1..12: 1941-18-09 present at position 38"
     ]
    }
   ],
   "source": [
    "pd.to_datetime(col)"
   ]
  },
  {
   "cell_type": "code",
   "execution_count": 41,
   "id": "87980ce0",
   "metadata": {},
   "outputs": [
    {
     "data": {
      "text/html": [
       "<div>\n",
       "<style scoped>\n",
       "    .dataframe tbody tr th:only-of-type {\n",
       "        vertical-align: middle;\n",
       "    }\n",
       "\n",
       "    .dataframe tbody tr th {\n",
       "        vertical-align: top;\n",
       "    }\n",
       "\n",
       "    .dataframe thead th {\n",
       "        text-align: right;\n",
       "    }\n",
       "</style>\n",
       "<table border=\"1\" class=\"dataframe\">\n",
       "  <thead>\n",
       "    <tr style=\"text-align: right;\">\n",
       "      <th></th>\n",
       "      <th>self</th>\n",
       "      <th>other</th>\n",
       "    </tr>\n",
       "  </thead>\n",
       "  <tbody>\n",
       "    <tr>\n",
       "      <th>38</th>\n",
       "      <td>1941-09-18</td>\n",
       "      <td>1941-18-09</td>\n",
       "    </tr>\n",
       "    <tr>\n",
       "      <th>133</th>\n",
       "      <td>1994-08-20</td>\n",
       "      <td>1994-20-08</td>\n",
       "    </tr>\n",
       "    <tr>\n",
       "      <th>173</th>\n",
       "      <td>2013-01-15</td>\n",
       "      <td>2013-15-01</td>\n",
       "    </tr>\n",
       "    <tr>\n",
       "      <th>212</th>\n",
       "      <td>1960-03-04</td>\n",
       "      <td>1960-04-03</td>\n",
       "    </tr>\n",
       "    <tr>\n",
       "      <th>217</th>\n",
       "      <td>1974-06-22</td>\n",
       "      <td>1974-22-06</td>\n",
       "    </tr>\n",
       "    <tr>\n",
       "      <th>...</th>\n",
       "      <td>...</td>\n",
       "      <td>...</td>\n",
       "    </tr>\n",
       "    <tr>\n",
       "      <th>49839</th>\n",
       "      <td>1925-02-09</td>\n",
       "      <td>1925-09-02</td>\n",
       "    </tr>\n",
       "    <tr>\n",
       "      <th>49862</th>\n",
       "      <td>1946-07-25</td>\n",
       "      <td>1946-25-07</td>\n",
       "    </tr>\n",
       "    <tr>\n",
       "      <th>49922</th>\n",
       "      <td>2003-04-08</td>\n",
       "      <td>2003-08-04</td>\n",
       "    </tr>\n",
       "    <tr>\n",
       "      <th>49930</th>\n",
       "      <td>1924-05-15</td>\n",
       "      <td>1924-15-05</td>\n",
       "    </tr>\n",
       "    <tr>\n",
       "      <th>49969</th>\n",
       "      <td>1960-02-02</td>\n",
       "      <td>1960-02-02</td>\n",
       "    </tr>\n",
       "  </tbody>\n",
       "</table>\n",
       "<p>936 rows × 2 columns</p>\n",
       "</div>"
      ],
      "text/plain": [
       "            self       other\n",
       "38    1941-09-18  1941-18-09\n",
       "133   1994-08-20  1994-20-08\n",
       "173   2013-01-15  2013-15-01\n",
       "212   1960-03-04  1960-04-03\n",
       "217   1974-06-22  1974-22-06\n",
       "...          ...         ...\n",
       "49839 1925-02-09  1925-09-02\n",
       "49862 1946-07-25  1946-25-07\n",
       "49922 2003-04-08  2003-08-04\n",
       "49930 1924-05-15  1924-15-05\n",
       "49969 1960-02-02  1960-02-02\n",
       "\n",
       "[936 rows x 2 columns]"
      ]
     },
     "execution_count": 41,
     "metadata": {},
     "output_type": "execute_result"
    }
   ],
   "source": [
    "df_census.date_of_birth.compare(col)"
   ]
  },
  {
   "cell_type": "code",
   "execution_count": null,
   "id": "c903ef1d",
   "metadata": {},
   "outputs": [],
   "source": [
    "# df['date'] = df['date'].apply(lambda x: dt.datetime.strftime(x, '%Y-%d-%m %H:%M:%S'))"
   ]
  },
  {
   "cell_type": "code",
   "execution_count": 39,
   "id": "b8337bbf",
   "metadata": {},
   "outputs": [],
   "source": [
    "def apply_noise_to_column(\n",
    "    column, row_prob, rng, noise_function, args=(), kwargs={}\n",
    "):\n",
    "    \"\"\"Apply a noise function that operates on scalars to a fraction of\n",
    "    rows in a single column. Modifies column in place.\n",
    "    \"\"\"\n",
    "    corrupted = rng.random(len(column)) < row_prob\n",
    "    column.loc[corrupted] = column.loc[corrupted].map(\n",
    "        lambda x: noise_function(x, *args, **kwargs))\n",
    "        \n",
    "def add_noise_to_census(df_census, random_state):\n",
    "    rng = np.random.default_rng(random_state)\n",
    "    df_census = df_census.copy()\n",
    "    \n",
    "    # First name\n",
    "    apply_noise_to_column(\n",
    "        df_census['first_name'], 0.01, rng, corruption.keyboard_corrupt, (0.05, 0.02))\n",
    "    apply_noise_to_column(\n",
    "        df_census['first_name'], 0.001, rng, corruption.phonetic_corrupt, (0.05,))\n",
    "    \n",
    "    # Last name\n",
    "    apply_noise_to_column(\n",
    "        df_census['last_name'], 0.01, rng, corruption.keyboard_corrupt, (0.05, 0.02))\n",
    "    apply_noise_to_column(\n",
    "        df_census['last_name'], 0.001, rng, corruption.phonetic_corrupt, (0.05,))\n",
    "    \n",
    "    # Date of birth\n",
    "    apply_noise_to_column(\n",
    "        df_census['date_of_birth'], 0.02, rng, dt.datetime.strftime, ('%Y-%d-%m',))"
   ]
  },
  {
   "cell_type": "code",
   "execution_count": null,
   "id": "da838408",
   "metadata": {},
   "outputs": [],
   "source": []
  },
  {
   "cell_type": "code",
   "execution_count": null,
   "id": "c194c1b0",
   "metadata": {},
   "outputs": [],
   "source": []
  },
  {
   "cell_type": "code",
   "execution_count": 28,
   "id": "7092fcf3",
   "metadata": {},
   "outputs": [
    {
     "data": {
      "text/plain": [
       "0         Margaret\n",
       "1          Jeffrey\n",
       "2           Briana\n",
       "3         Benjamin\n",
       "4           Willie\n",
       "           ...    \n",
       "49993       Thomas\n",
       "49994       Marcus\n",
       "49997    Christian\n",
       "49998      Phillip\n",
       "49999    Catherine\n",
       "Name: first_name, Length: 47326, dtype: object"
      ]
     },
     "execution_count": 28,
     "metadata": {},
     "output_type": "execute_result"
    }
   ],
   "source": [
    "noise_settings = {\n",
    "    'corruption.keyboard_corrupt': [0.01, (0.05, 0.02)],\n",
    "    'corruption.phonetic_corrupt': [0.001, (0.05,)],\n",
    "}\n",
    "\n",
    "def add_noise_to_column(column, noise_settings, random_state=None):\n",
    "    if random_state is None:\n",
    "        rng = np.random.default_rng(random_state)\n",
    "    new_column = column.copy()\n",
    "    for funckey, (row_prob, args) in noise_settings.items():\n",
    "        module_name, funcname = funckey.split('.')\n",
    "        func = getattr(getattr(noise, module_name), funcname)\n",
    "        corrupted = rng.random(len(column)) < row_prob\n",
    "        new_column.loc[corrupted] = new_column.loc[corrupted].map(lambda x: func(x, *args))\n",
    "    return new_column\n",
    "\n",
    "noised_names = add_noise_to_column(df_census.first_name, noise_settings)\n",
    "noised_names"
   ]
  },
  {
   "cell_type": "code",
   "execution_count": 29,
   "id": "634bd0cd",
   "metadata": {},
   "outputs": [
    {
     "data": {
      "text/html": [
       "<div>\n",
       "<style scoped>\n",
       "    .dataframe tbody tr th:only-of-type {\n",
       "        vertical-align: middle;\n",
       "    }\n",
       "\n",
       "    .dataframe tbody tr th {\n",
       "        vertical-align: top;\n",
       "    }\n",
       "\n",
       "    .dataframe thead th {\n",
       "        text-align: right;\n",
       "    }\n",
       "</style>\n",
       "<table border=\"1\" class=\"dataframe\">\n",
       "  <thead>\n",
       "    <tr style=\"text-align: right;\">\n",
       "      <th></th>\n",
       "      <th>self</th>\n",
       "      <th>other</th>\n",
       "    </tr>\n",
       "  </thead>\n",
       "  <tbody>\n",
       "    <tr>\n",
       "      <th>14</th>\n",
       "      <td>Tiffany</td>\n",
       "      <td>Tjffany</td>\n",
       "    </tr>\n",
       "    <tr>\n",
       "      <th>190</th>\n",
       "      <td>Jacqueline</td>\n",
       "      <td>Jacquepine</td>\n",
       "    </tr>\n",
       "    <tr>\n",
       "      <th>511</th>\n",
       "      <td>Lee</td>\n",
       "      <td>Le</td>\n",
       "    </tr>\n",
       "    <tr>\n",
       "      <th>820</th>\n",
       "      <td>Clara</td>\n",
       "      <td>Clada</td>\n",
       "    </tr>\n",
       "    <tr>\n",
       "      <th>1862</th>\n",
       "      <td>Stephanie</td>\n",
       "      <td>Shephanie</td>\n",
       "    </tr>\n",
       "    <tr>\n",
       "      <th>...</th>\n",
       "      <td>...</td>\n",
       "      <td>...</td>\n",
       "    </tr>\n",
       "    <tr>\n",
       "      <th>47330</th>\n",
       "      <td>Roberta</td>\n",
       "      <td>Roferta</td>\n",
       "    </tr>\n",
       "    <tr>\n",
       "      <th>47411</th>\n",
       "      <td>Kelly</td>\n",
       "      <td>Keply</td>\n",
       "    </tr>\n",
       "    <tr>\n",
       "      <th>48966</th>\n",
       "      <td>Eric</td>\n",
       "      <td>Erix</td>\n",
       "    </tr>\n",
       "    <tr>\n",
       "      <th>49291</th>\n",
       "      <td>Timothy</td>\n",
       "      <td>Timodh</td>\n",
       "    </tr>\n",
       "    <tr>\n",
       "      <th>49850</th>\n",
       "      <td>Phyllis</td>\n",
       "      <td>Phhllis</td>\n",
       "    </tr>\n",
       "  </tbody>\n",
       "</table>\n",
       "<p>100 rows × 2 columns</p>\n",
       "</div>"
      ],
      "text/plain": [
       "             self       other\n",
       "14        Tiffany     Tjffany\n",
       "190    Jacqueline  Jacquepine\n",
       "511           Lee          Le\n",
       "820         Clara       Clada\n",
       "1862    Stephanie   Shephanie\n",
       "...           ...         ...\n",
       "47330     Roberta     Roferta\n",
       "47411       Kelly       Keply\n",
       "48966        Eric        Erix\n",
       "49291     Timothy      Timodh\n",
       "49850     Phyllis     Phhllis\n",
       "\n",
       "[100 rows x 2 columns]"
      ]
     },
     "execution_count": 29,
     "metadata": {},
     "output_type": "execute_result"
    }
   ],
   "source": [
    "df_census.first_name.compare(noised_names)"
   ]
  },
  {
   "cell_type": "code",
   "execution_count": 17,
   "id": "fc668f7b",
   "metadata": {},
   "outputs": [
    {
     "data": {
      "text/plain": [
       "['__builtins__',\n",
       " '__cached__',\n",
       " '__doc__',\n",
       " '__file__',\n",
       " '__loader__',\n",
       " '__name__',\n",
       " '__package__',\n",
       " '__path__',\n",
       " '__spec__',\n",
       " 'corruption',\n",
       " 'fake_names']"
      ]
     },
     "execution_count": 17,
     "metadata": {},
     "output_type": "execute_result"
    }
   ],
   "source": [
    "dir(noise)"
   ]
  },
  {
   "cell_type": "code",
   "execution_count": null,
   "id": "90810283",
   "metadata": {},
   "outputs": [],
   "source": []
  }
 ],
 "metadata": {
  "kernelspec": {
   "display_name": "Python 3 (ipykernel)",
   "language": "python",
   "name": "python3"
  },
  "language_info": {
   "codemirror_mode": {
    "name": "ipython",
    "version": 3
   },
   "file_extension": ".py",
   "mimetype": "text/x-python",
   "name": "python",
   "nbconvert_exporter": "python",
   "pygments_lexer": "ipython3",
   "version": "3.8.13"
  }
 },
 "nbformat": 4,
 "nbformat_minor": 5
}
