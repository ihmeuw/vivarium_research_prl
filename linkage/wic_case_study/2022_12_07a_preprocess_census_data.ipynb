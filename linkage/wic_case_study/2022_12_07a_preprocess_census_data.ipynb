{
 "cells": [
  {
   "cell_type": "code",
   "execution_count": 1,
   "id": "2309a139",
   "metadata": {},
   "outputs": [
    {
     "name": "stdout",
     "output_type": "stream",
     "text": [
      "Fri 16 Dec 2022 02:27:53 PM PST\n",
      "ndbs\n",
      "Linux int-slurm-sarchive-p0010 5.4.0-88-generic #99-Ubuntu SMP Thu Sep 23 17:29:00 UTC 2021 x86_64 x86_64 x86_64 GNU/Linux\n",
      "/mnt/share/code/ndbs/vivarium_research_prl/linkage/wic_case_study\n"
     ]
    }
   ],
   "source": [
    "import numpy as np, matplotlib.pyplot as plt, pandas as pd\n",
    "pd.set_option('display.max_rows', 40)\n",
    "\n",
    "from vivarium_research_prl.noise import corruption, fake_names\n",
    "from vivarium_research_prl.find_kids import datasets\n",
    "\n",
    "!date\n",
    "!whoami\n",
    "!uname -a\n",
    "!pwd"
   ]
  },
  {
   "cell_type": "code",
   "execution_count": 2,
   "id": "ad9b791c",
   "metadata": {},
   "outputs": [],
   "source": [
    "%load_ext autoreload\n",
    "%autoreload 2"
   ]
  },
  {
   "cell_type": "code",
   "execution_count": 3,
   "id": "7c6079c8",
   "metadata": {},
   "outputs": [],
   "source": [
    "# from vivarium_research_prl import noise\n",
    "# import datetime as dt"
   ]
  },
  {
   "cell_type": "markdown",
   "id": "5a2a73c5",
   "metadata": {},
   "source": [
    "# Goal: Write some functions to preprocess census data to link with WIC data\n",
    "\n",
    "In particular, functions to add the appropriate noise to the appropriate columns."
   ]
  },
  {
   "cell_type": "markdown",
   "id": "7d504c47",
   "metadata": {},
   "source": [
    "# Load census data and state table for year 2020"
   ]
  },
  {
   "cell_type": "code",
   "execution_count": 4,
   "id": "773f3c40",
   "metadata": {},
   "outputs": [
    {
     "name": "stdout",
     "output_type": "stream",
     "text": [
      "total 32224\r\n",
      "-rw-rw-r-- 1 albrja   IHME-Simulationscience 12622072 Oct 20 23:08 decennial_census.hdf\r\n",
      "-rwxrwxrwx 1 beatrixh IHME-Simulationscience 20364830 Nov 14 16:42 state_table.hdf\r\n"
     ]
    }
   ],
   "source": [
    "project_output_dir = '/mnt/team/simulation_science/priv/engineering/vivarium_census_prl_synth_pop'\n",
    "output_subdir = 'results/special_last_names/florida/2022_10_14_10_49_32/population_table/'\n",
    "output_dir = f'{project_output_dir}/{output_subdir}'\n",
    "\n",
    "!ls -l $output_dir"
   ]
  },
  {
   "cell_type": "code",
   "execution_count": 5,
   "id": "b10d13dc",
   "metadata": {},
   "outputs": [
    {
     "name": "stdout",
     "output_type": "stream",
     "text": [
      "df_census_orig.shape=(47444, 10)\n",
      "df_state_table.shape=(50000, 27)\n"
     ]
    }
   ],
   "source": [
    "decennial_census_path = f'{output_dir}/decennial_census.hdf'\n",
    "state_table_path = f'{output_dir}/state_table.hdf'\n",
    "\n",
    "df_census_orig = pd.read_hdf(decennial_census_path, 'year_2020')\n",
    "df_state_table = pd.read_hdf(state_table_path, 'ymd_2020_4_1')\n",
    "print(f'{df_census_orig.shape=}')\n",
    "print(f'{df_state_table.shape=}')"
   ]
  },
  {
   "cell_type": "code",
   "execution_count": 6,
   "id": "c1e773fd",
   "metadata": {},
   "outputs": [
    {
     "data": {
      "text/plain": [
       "0.94888"
      ]
     },
     "execution_count": 6,
     "metadata": {},
     "output_type": "execute_result"
    }
   ],
   "source": [
    "47444/50000"
   ]
  },
  {
   "cell_type": "markdown",
   "id": "0ab22e58",
   "metadata": {},
   "source": [
    "# Get a random seed and Generator"
   ]
  },
  {
   "cell_type": "code",
   "execution_count": 7,
   "id": "dfabd080",
   "metadata": {},
   "outputs": [
    {
     "data": {
      "text/plain": [
       "294972036025347065613006429675512746264"
      ]
     },
     "execution_count": 7,
     "metadata": {},
     "output_type": "execute_result"
    }
   ],
   "source": [
    "sq = np.random.SeedSequence()\n",
    "sq.entropy"
   ]
  },
  {
   "cell_type": "code",
   "execution_count": 8,
   "id": "40e8b0fa",
   "metadata": {
    "scrolled": true
   },
   "outputs": [
    {
     "name": "stdout",
     "output_type": "stream",
     "text": [
      "66624024798819663709061712465147975287\n"
     ]
    },
    {
     "data": {
      "text/plain": [
       "Generator(PCG64) at 0x7F197C1B9E40"
      ]
     },
     "execution_count": 8,
     "metadata": {},
     "output_type": "execute_result"
    }
   ],
   "source": [
    "sq = np.random.SeedSequence(66624024798819663709061712465147975287)\n",
    "print(sq.entropy)\n",
    "rng = np.random.default_rng(sq)\n",
    "rng"
   ]
  },
  {
   "cell_type": "markdown",
   "id": "5ba911de",
   "metadata": {},
   "source": [
    "# Generate WIC data and decennial census data"
   ]
  },
  {
   "cell_type": "code",
   "execution_count": 9,
   "id": "c63495af",
   "metadata": {},
   "outputs": [
    {
     "name": "stdout",
     "output_type": "stream",
     "text": [
      "df_census.shape=(47550, 10)\n",
      "df_wic.shape=(637, 10)\n"
     ]
    }
   ],
   "source": [
    "df_census = datasets.generate_census_data(df_state_table, 0.95, 0.90, rng)\n",
    "df_wic = datasets.generate_wic_data(df_state_table, rng)\n",
    "print(f\"{df_census.shape=}\")\n",
    "print(f\"{df_wic.shape=}\")"
   ]
  },
  {
   "cell_type": "code",
   "execution_count": 10,
   "id": "11390725",
   "metadata": {},
   "outputs": [
    {
     "data": {
      "text/plain": [
       "0.951"
      ]
     },
     "execution_count": 10,
     "metadata": {},
     "output_type": "execute_result"
    }
   ],
   "source": [
    "47550/50000"
   ]
  },
  {
   "cell_type": "code",
   "execution_count": 11,
   "id": "ab296ccd",
   "metadata": {},
   "outputs": [
    {
     "data": {
      "text/html": [
       "<div>\n",
       "<style scoped>\n",
       "    .dataframe tbody tr th:only-of-type {\n",
       "        vertical-align: middle;\n",
       "    }\n",
       "\n",
       "    .dataframe tbody tr th {\n",
       "        vertical-align: top;\n",
       "    }\n",
       "\n",
       "    .dataframe thead th {\n",
       "        text-align: right;\n",
       "    }\n",
       "</style>\n",
       "<table border=\"1\" class=\"dataframe\">\n",
       "  <thead>\n",
       "    <tr style=\"text-align: right;\">\n",
       "      <th></th>\n",
       "      <th>first_name</th>\n",
       "      <th>middle_initial</th>\n",
       "      <th>last_name</th>\n",
       "      <th>date_of_birth</th>\n",
       "      <th>age</th>\n",
       "      <th>sex</th>\n",
       "      <th>race_ethnicity</th>\n",
       "      <th>relation_to_household_head</th>\n",
       "      <th>address</th>\n",
       "      <th>zipcode</th>\n",
       "    </tr>\n",
       "  </thead>\n",
       "  <tbody>\n",
       "    <tr>\n",
       "      <th>0</th>\n",
       "      <td>Margaret</td>\n",
       "      <td>J</td>\n",
       "      <td>Clark</td>\n",
       "      <td>1951-07-27</td>\n",
       "      <td>68.0</td>\n",
       "      <td>Female</td>\n",
       "      <td>Black</td>\n",
       "      <td>Reference person</td>\n",
       "      <td>1344 winoka rd  brooksville, fl</td>\n",
       "      <td>34601</td>\n",
       "    </tr>\n",
       "    <tr>\n",
       "      <th>1</th>\n",
       "      <td>Jeffrey</td>\n",
       "      <td>V</td>\n",
       "      <td>Littlejohn</td>\n",
       "      <td>1967-05-03</td>\n",
       "      <td>52.0</td>\n",
       "      <td>Male</td>\n",
       "      <td>Black</td>\n",
       "      <td>Reference person</td>\n",
       "      <td>927 23rd st  clearwater, fl</td>\n",
       "      <td>34698</td>\n",
       "    </tr>\n",
       "    <tr>\n",
       "      <th>2</th>\n",
       "      <td>Briana</td>\n",
       "      <td>A</td>\n",
       "      <td>Jackson</td>\n",
       "      <td>2006-09-07</td>\n",
       "      <td>13.0</td>\n",
       "      <td>Female</td>\n",
       "      <td>Black</td>\n",
       "      <td>Biological child</td>\n",
       "      <td>927 23rd st  clearwater, fl</td>\n",
       "      <td>34698</td>\n",
       "    </tr>\n",
       "    <tr>\n",
       "      <th>3</th>\n",
       "      <td>Benjamin</td>\n",
       "      <td>D</td>\n",
       "      <td>Cox</td>\n",
       "      <td>1998-10-21</td>\n",
       "      <td>21.0</td>\n",
       "      <td>Male</td>\n",
       "      <td>Black</td>\n",
       "      <td>Stepchild</td>\n",
       "      <td>927 23rd st  clearwater, fl</td>\n",
       "      <td>34698</td>\n",
       "    </tr>\n",
       "    <tr>\n",
       "      <th>4</th>\n",
       "      <td>Willie</td>\n",
       "      <td>J</td>\n",
       "      <td>Tucker</td>\n",
       "      <td>1947-10-09</td>\n",
       "      <td>72.0</td>\n",
       "      <td>Male</td>\n",
       "      <td>White</td>\n",
       "      <td>Reference person</td>\n",
       "      <td>8904 167th place  fleming island, fl</td>\n",
       "      <td>32003</td>\n",
       "    </tr>\n",
       "    <tr>\n",
       "      <th>...</th>\n",
       "      <td>...</td>\n",
       "      <td>...</td>\n",
       "      <td>...</td>\n",
       "      <td>...</td>\n",
       "      <td>...</td>\n",
       "      <td>...</td>\n",
       "      <td>...</td>\n",
       "      <td>...</td>\n",
       "      <td>...</td>\n",
       "      <td>...</td>\n",
       "    </tr>\n",
       "    <tr>\n",
       "      <th>49995</th>\n",
       "      <td>Brian</td>\n",
       "      <td>N</td>\n",
       "      <td>Roberts</td>\n",
       "      <td>1984-07-05</td>\n",
       "      <td>35.0</td>\n",
       "      <td>Male</td>\n",
       "      <td>White</td>\n",
       "      <td>Institutionalized GQ pop</td>\n",
       "      <td>114 s frnt st  fort myers, fl</td>\n",
       "      <td>33919</td>\n",
       "    </tr>\n",
       "    <tr>\n",
       "      <th>49996</th>\n",
       "      <td>Nathaniel</td>\n",
       "      <td>J</td>\n",
       "      <td>Campbell</td>\n",
       "      <td>1941-01-08</td>\n",
       "      <td>79.0</td>\n",
       "      <td>Male</td>\n",
       "      <td>White</td>\n",
       "      <td>Institutionalized GQ pop</td>\n",
       "      <td>2210 henn hyde rd ne  hollywood, fl</td>\n",
       "      <td>33021</td>\n",
       "    </tr>\n",
       "    <tr>\n",
       "      <th>49997</th>\n",
       "      <td>Christian</td>\n",
       "      <td>C</td>\n",
       "      <td>Rosales</td>\n",
       "      <td>1983-12-16</td>\n",
       "      <td>36.0</td>\n",
       "      <td>Male</td>\n",
       "      <td>Latino</td>\n",
       "      <td>Institutionalized GQ pop</td>\n",
       "      <td>701 haber rd  vero beach, fl</td>\n",
       "      <td>32968</td>\n",
       "    </tr>\n",
       "    <tr>\n",
       "      <th>49998</th>\n",
       "      <td>Phillip</td>\n",
       "      <td>J</td>\n",
       "      <td>Morton</td>\n",
       "      <td>1985-06-11</td>\n",
       "      <td>34.0</td>\n",
       "      <td>Male</td>\n",
       "      <td>White</td>\n",
       "      <td>Institutionalized GQ pop</td>\n",
       "      <td>114 s frnt st  fort myers, fl</td>\n",
       "      <td>33919</td>\n",
       "    </tr>\n",
       "    <tr>\n",
       "      <th>49999</th>\n",
       "      <td>Catherine</td>\n",
       "      <td>H</td>\n",
       "      <td>Talley</td>\n",
       "      <td>1928-08-14</td>\n",
       "      <td>91.0</td>\n",
       "      <td>Female</td>\n",
       "      <td>Black</td>\n",
       "      <td>Institutionalized GQ pop</td>\n",
       "      <td>701 haber rd  vero beach, fl</td>\n",
       "      <td>32968</td>\n",
       "    </tr>\n",
       "  </tbody>\n",
       "</table>\n",
       "<p>47550 rows × 10 columns</p>\n",
       "</div>"
      ],
      "text/plain": [
       "      first_name middle_initial   last_name date_of_birth   age     sex  \\\n",
       "0       Margaret              J       Clark    1951-07-27  68.0  Female   \n",
       "1        Jeffrey              V  Littlejohn    1967-05-03  52.0    Male   \n",
       "2         Briana              A     Jackson    2006-09-07  13.0  Female   \n",
       "3       Benjamin              D         Cox    1998-10-21  21.0    Male   \n",
       "4         Willie              J      Tucker    1947-10-09  72.0    Male   \n",
       "...          ...            ...         ...           ...   ...     ...   \n",
       "49995      Brian              N     Roberts    1984-07-05  35.0    Male   \n",
       "49996  Nathaniel              J    Campbell    1941-01-08  79.0    Male   \n",
       "49997  Christian              C     Rosales    1983-12-16  36.0    Male   \n",
       "49998    Phillip              J      Morton    1985-06-11  34.0    Male   \n",
       "49999  Catherine              H      Talley    1928-08-14  91.0  Female   \n",
       "\n",
       "      race_ethnicity relation_to_household_head  \\\n",
       "0              Black           Reference person   \n",
       "1              Black           Reference person   \n",
       "2              Black           Biological child   \n",
       "3              Black                  Stepchild   \n",
       "4              White           Reference person   \n",
       "...              ...                        ...   \n",
       "49995          White   Institutionalized GQ pop   \n",
       "49996          White   Institutionalized GQ pop   \n",
       "49997         Latino   Institutionalized GQ pop   \n",
       "49998          White   Institutionalized GQ pop   \n",
       "49999          Black   Institutionalized GQ pop   \n",
       "\n",
       "                                    address zipcode  \n",
       "0           1344 winoka rd  brooksville, fl   34601  \n",
       "1               927 23rd st  clearwater, fl   34698  \n",
       "2               927 23rd st  clearwater, fl   34698  \n",
       "3               927 23rd st  clearwater, fl   34698  \n",
       "4      8904 167th place  fleming island, fl   32003  \n",
       "...                                     ...     ...  \n",
       "49995         114 s frnt st  fort myers, fl   33919  \n",
       "49996   2210 henn hyde rd ne  hollywood, fl   33021  \n",
       "49997          701 haber rd  vero beach, fl   32968  \n",
       "49998         114 s frnt st  fort myers, fl   33919  \n",
       "49999          701 haber rd  vero beach, fl   32968  \n",
       "\n",
       "[47550 rows x 10 columns]"
      ]
     },
     "execution_count": 11,
     "metadata": {},
     "output_type": "execute_result"
    }
   ],
   "source": [
    "df_census"
   ]
  },
  {
   "cell_type": "code",
   "execution_count": 12,
   "id": "fe02970b",
   "metadata": {},
   "outputs": [
    {
     "data": {
      "text/plain": [
       "first_name                     object\n",
       "middle_initial                 object\n",
       "last_name                      object\n",
       "date_of_birth                  object\n",
       "age                           float64\n",
       "sex                            object\n",
       "race_ethnicity                 object\n",
       "relation_to_household_head     object\n",
       "address                        object\n",
       "zipcode                        object\n",
       "dtype: object"
      ]
     },
     "execution_count": 12,
     "metadata": {},
     "output_type": "execute_result"
    }
   ],
   "source": [
    "df_census.dtypes"
   ]
  },
  {
   "cell_type": "code",
   "execution_count": 13,
   "id": "693cdc9a",
   "metadata": {},
   "outputs": [
    {
     "data": {
      "text/html": [
       "<div>\n",
       "<style scoped>\n",
       "    .dataframe tbody tr th:only-of-type {\n",
       "        vertical-align: middle;\n",
       "    }\n",
       "\n",
       "    .dataframe tbody tr th {\n",
       "        vertical-align: top;\n",
       "    }\n",
       "\n",
       "    .dataframe thead th {\n",
       "        text-align: right;\n",
       "    }\n",
       "</style>\n",
       "<table border=\"1\" class=\"dataframe\">\n",
       "  <thead>\n",
       "    <tr style=\"text-align: right;\">\n",
       "      <th></th>\n",
       "      <th>first_name</th>\n",
       "      <th>middle_name</th>\n",
       "      <th>last_name</th>\n",
       "      <th>date_of_birth</th>\n",
       "      <th>sex</th>\n",
       "      <th>race_ethnicity</th>\n",
       "      <th>address</th>\n",
       "      <th>zipcode</th>\n",
       "      <th>household_id</th>\n",
       "      <th>wic_id</th>\n",
       "    </tr>\n",
       "  </thead>\n",
       "  <tbody>\n",
       "    <tr>\n",
       "      <th>166</th>\n",
       "      <td>Everleigh</td>\n",
       "      <td>Ireland</td>\n",
       "      <td>Dietzman</td>\n",
       "      <td>2020-02-25</td>\n",
       "      <td>Female</td>\n",
       "      <td>White</td>\n",
       "      <td>1286 county road 185  pembroke pines, fl</td>\n",
       "      <td>33024</td>\n",
       "      <td>85</td>\n",
       "      <td>1</td>\n",
       "    </tr>\n",
       "    <tr>\n",
       "      <th>323</th>\n",
       "      <td>Gunner</td>\n",
       "      <td>Liam</td>\n",
       "      <td>Parkinson</td>\n",
       "      <td>2020-03-03</td>\n",
       "      <td>Male</td>\n",
       "      <td>White</td>\n",
       "      <td>600 n maranantha rd  hialeah, fl</td>\n",
       "      <td>33016</td>\n",
       "      <td>157</td>\n",
       "      <td>2</td>\n",
       "    </tr>\n",
       "    <tr>\n",
       "      <th>492</th>\n",
       "      <td>Keyla</td>\n",
       "      <td>Heavenly</td>\n",
       "      <td>Musse</td>\n",
       "      <td>2019-03-02</td>\n",
       "      <td>Female</td>\n",
       "      <td>Black</td>\n",
       "      <td>10079 fair lane aptmnt no 113l indian rocks be...</td>\n",
       "      <td>33785</td>\n",
       "      <td>233</td>\n",
       "      <td>3</td>\n",
       "    </tr>\n",
       "    <tr>\n",
       "      <th>531</th>\n",
       "      <td>Sophia</td>\n",
       "      <td>Jayla</td>\n",
       "      <td>Grimm</td>\n",
       "      <td>2018-09-29</td>\n",
       "      <td>Female</td>\n",
       "      <td>White</td>\n",
       "      <td>519 jewell drive aptmnt 10068 rockdale, fl</td>\n",
       "      <td>33175</td>\n",
       "      <td>249</td>\n",
       "      <td>4</td>\n",
       "    </tr>\n",
       "    <tr>\n",
       "      <th>792</th>\n",
       "      <td>Khloe</td>\n",
       "      <td>Liliana</td>\n",
       "      <td>Jackson</td>\n",
       "      <td>2020-01-27</td>\n",
       "      <td>Female</td>\n",
       "      <td>White</td>\n",
       "      <td>974 kini court aptmnt 366 vero beach, fl</td>\n",
       "      <td>32962</td>\n",
       "      <td>364</td>\n",
       "      <td>5</td>\n",
       "    </tr>\n",
       "    <tr>\n",
       "      <th>...</th>\n",
       "      <td>...</td>\n",
       "      <td>...</td>\n",
       "      <td>...</td>\n",
       "      <td>...</td>\n",
       "      <td>...</td>\n",
       "      <td>...</td>\n",
       "      <td>...</td>\n",
       "      <td>...</td>\n",
       "      <td>...</td>\n",
       "      <td>...</td>\n",
       "    </tr>\n",
       "    <tr>\n",
       "      <th>48298</th>\n",
       "      <td>Joshua</td>\n",
       "      <td>Zion</td>\n",
       "      <td>Cortez</td>\n",
       "      <td>2019-01-18</td>\n",
       "      <td>Male</td>\n",
       "      <td>Latino</td>\n",
       "      <td>45 glen devin drive  stuart, fl</td>\n",
       "      <td>34997</td>\n",
       "      <td>20397</td>\n",
       "      <td>633</td>\n",
       "    </tr>\n",
       "    <tr>\n",
       "      <th>48425</th>\n",
       "      <td>Luke</td>\n",
       "      <td>Hunter</td>\n",
       "      <td>Gonzalez</td>\n",
       "      <td>2018-04-07</td>\n",
       "      <td>Male</td>\n",
       "      <td>Latino</td>\n",
       "      <td>4877 pointillist ct  chiefland, fl</td>\n",
       "      <td>32626</td>\n",
       "      <td>20448</td>\n",
       "      <td>634</td>\n",
       "    </tr>\n",
       "    <tr>\n",
       "      <th>48437</th>\n",
       "      <td>Damani</td>\n",
       "      <td>Hunter</td>\n",
       "      <td>Zard</td>\n",
       "      <td>2018-09-12</td>\n",
       "      <td>Male</td>\n",
       "      <td>White</td>\n",
       "      <td>255 e a st  largo, fl</td>\n",
       "      <td>33772</td>\n",
       "      <td>20451</td>\n",
       "      <td>635</td>\n",
       "    </tr>\n",
       "    <tr>\n",
       "      <th>48456</th>\n",
       "      <td>Liam</td>\n",
       "      <td>Emmett</td>\n",
       "      <td>Sardone</td>\n",
       "      <td>2017-01-08</td>\n",
       "      <td>Male</td>\n",
       "      <td>White</td>\n",
       "      <td>107 brown ave  st. petersburg, fl</td>\n",
       "      <td>33704</td>\n",
       "      <td>20458</td>\n",
       "      <td>636</td>\n",
       "    </tr>\n",
       "    <tr>\n",
       "      <th>48467</th>\n",
       "      <td>Naomi</td>\n",
       "      <td>Hailey</td>\n",
       "      <td>Carelli</td>\n",
       "      <td>2018-04-30</td>\n",
       "      <td>Female</td>\n",
       "      <td>White</td>\n",
       "      <td>4700 s little blue pkwy  spring hill, fl</td>\n",
       "      <td>34609</td>\n",
       "      <td>20460</td>\n",
       "      <td>637</td>\n",
       "    </tr>\n",
       "  </tbody>\n",
       "</table>\n",
       "<p>637 rows × 10 columns</p>\n",
       "</div>"
      ],
      "text/plain": [
       "      first_name middle_name  last_name date_of_birth     sex race_ethnicity  \\\n",
       "166    Everleigh     Ireland   Dietzman    2020-02-25  Female          White   \n",
       "323       Gunner        Liam  Parkinson    2020-03-03    Male          White   \n",
       "492        Keyla    Heavenly      Musse    2019-03-02  Female          Black   \n",
       "531       Sophia       Jayla      Grimm    2018-09-29  Female          White   \n",
       "792        Khloe     Liliana    Jackson    2020-01-27  Female          White   \n",
       "...          ...         ...        ...           ...     ...            ...   \n",
       "48298     Joshua        Zion     Cortez    2019-01-18    Male         Latino   \n",
       "48425       Luke      Hunter   Gonzalez    2018-04-07    Male         Latino   \n",
       "48437     Damani      Hunter       Zard    2018-09-12    Male          White   \n",
       "48456       Liam      Emmett    Sardone    2017-01-08    Male          White   \n",
       "48467      Naomi      Hailey    Carelli    2018-04-30  Female          White   \n",
       "\n",
       "                                                 address zipcode  \\\n",
       "166             1286 county road 185  pembroke pines, fl   33024   \n",
       "323                     600 n maranantha rd  hialeah, fl   33016   \n",
       "492    10079 fair lane aptmnt no 113l indian rocks be...   33785   \n",
       "531           519 jewell drive aptmnt 10068 rockdale, fl   33175   \n",
       "792             974 kini court aptmnt 366 vero beach, fl   32962   \n",
       "...                                                  ...     ...   \n",
       "48298                    45 glen devin drive  stuart, fl   34997   \n",
       "48425                 4877 pointillist ct  chiefland, fl   32626   \n",
       "48437                              255 e a st  largo, fl   33772   \n",
       "48456                  107 brown ave  st. petersburg, fl   33704   \n",
       "48467           4700 s little blue pkwy  spring hill, fl   34609   \n",
       "\n",
       "       household_id  wic_id  \n",
       "166              85       1  \n",
       "323             157       2  \n",
       "492             233       3  \n",
       "531             249       4  \n",
       "792             364       5  \n",
       "...             ...     ...  \n",
       "48298         20397     633  \n",
       "48425         20448     634  \n",
       "48437         20451     635  \n",
       "48456         20458     636  \n",
       "48467         20460     637  \n",
       "\n",
       "[637 rows x 10 columns]"
      ]
     },
     "execution_count": 13,
     "metadata": {},
     "output_type": "execute_result"
    }
   ],
   "source": [
    "df_wic"
   ]
  },
  {
   "cell_type": "code",
   "execution_count": 14,
   "id": "ee3a9074",
   "metadata": {},
   "outputs": [
    {
     "data": {
      "text/plain": [
       "first_name        object\n",
       "middle_name       object\n",
       "last_name         object\n",
       "date_of_birth     object\n",
       "sex               object\n",
       "race_ethnicity    object\n",
       "address           object\n",
       "zipcode           object\n",
       "household_id       int64\n",
       "wic_id             int64\n",
       "dtype: object"
      ]
     },
     "execution_count": 14,
     "metadata": {},
     "output_type": "execute_result"
    }
   ],
   "source": [
    "df_wic.dtypes"
   ]
  },
  {
   "cell_type": "markdown",
   "id": "632450a2",
   "metadata": {},
   "source": [
    "# See how many kids are in census data\n",
    "\n",
    "Only 2236. If I restrict to these, it would be a very small linking task. However, if ages and birthdates are noisy, then we'd have to search the rest of the records after matching these.\n",
    "\n",
    "    \n",
    "## Questions about linking\n",
    "\n",
    "1. If ages/birthdays are noisy, what's a good strategy for finding missing kids in a \"cascade\" approach?"
   ]
  },
  {
   "cell_type": "code",
   "execution_count": 15,
   "id": "13b064ab",
   "metadata": {},
   "outputs": [
    {
     "data": {
      "text/plain": [
       "2242"
      ]
     },
     "execution_count": 15,
     "metadata": {},
     "output_type": "execute_result"
    }
   ],
   "source": [
    "(df_census.age < 5).sum()"
   ]
  },
  {
   "cell_type": "markdown",
   "id": "ce075c5a",
   "metadata": {},
   "source": [
    "# Add noise to data\n",
    "\n",
    "## Noise for census in priority order:\n",
    "\n",
    "1. First name (keyboard, phonetic, fake)\n",
    "1. Last name (keyboard, phonitic, fake)\n",
    "1. Date of birth (switch month/day, wrong number or person)\n",
    "1. Zipcode\n",
    "1. Address\n",
    "1. Sex\n",
    "1. Age\n",
    "1. Race/Ethnicity\n",
    "1. Middle initial\n",
    "\n",
    "## Noise for WIC data in priority order:\n",
    "\n",
    "1. First name (keyboard, phonetic, fake, OCR)\n",
    "1. Last name (keyboard, phonitic, fake, OCR)\n",
    "1. Date of birth (switch month/day, wrong number or person, OCR)\n",
    "1. Zipcode\n",
    "1. Address\n",
    "1. Sex\n",
    "1. Race/Ethnicity\n",
    "1. Middle name\n",
    "1. Household ID and WIC ID??\n",
    "\n",
    "## Questions about adding noise:\n",
    "\n",
    "1. What are good default values for the token corruption probabilities?\n",
    "\n",
    "1. How should I handle combining the row corruption probability with the token corruption probabilities? To get a desired fraction of rows corrupted, you need to modify a larger fraction of rows, e.g. divide the row fraction by the token corruption probability or something. (The question is not about how to do the math, but about where to do the math, or if we need to do the math.)\n",
    "\n",
    "1. How should I handle the datetime64 datatype in date of birth?\n",
    "\n",
    "    1. Does Splink (and other packages) handle this datatype directly, or do they need to be converted to strings?\n",
    "    1. How do I switch the month and day in a fraction of rows?\n",
    "    1. If a swapped month and day lead to an invalid date in the format YYYY-MM-DD, do we keep the invalid date, or should this get fixed automatically since it's obviously invalid? Would correcting obvious errors like this be part of the preprocessing pipeline? E.g., just like there's name and address standardization, there would be date standardization.\n",
    "    1. Maybe the problem is that the data is already \"too clean\" because I'm just starting with the ground truth, which is stored as datetime64 objects in a standard format (e.g., so I can't switch the month and day to invalid values without getting an error or changing the format of every row). Perhaps part of the initial \"data creation\" process should be to convert these to strings, which have less structure and may be easier to manipulate, and then one of the first preprocessing steps would be to standardize the dates, eliminiating any impossible values.\n",
    "\n",
    "1. What **other** ways could birthdays be corrupted besides swapping month and day?\n",
    "\n",
    "1. There are **lots** of possible parameters to specify for noise functions. Where is the best place to specify these, how do I pass them around to different parts of the code, and how do I make a user-friendly (for now, me-friendly) interface to handle them?\n",
    "\n",
    "1. How should I add noise to zipcodes?\n",
    "\n",
    "1. How should I add noise to addresses?\n",
    "\n",
    "    1. Also, should I try to do any address standardization? Are there available packages that already do this?\n",
    "    1. Can I replace some addresses with (possibly different) addresses from the 2030 census file to make matching harder?"
   ]
  },
  {
   "cell_type": "markdown",
   "id": "b825c530",
   "metadata": {},
   "source": [
    "## Write function to swap month and day for date of birth"
   ]
  },
  {
   "cell_type": "code",
   "execution_count": 16,
   "id": "d45bc863",
   "metadata": {},
   "outputs": [
    {
     "data": {
      "text/plain": [
       "0        1951-07-27\n",
       "1        1967-05-03\n",
       "2        2006-09-07\n",
       "3        1998-10-21\n",
       "4        1947-10-09\n",
       "            ...    \n",
       "49995    1984-07-05\n",
       "49996    1941-01-08\n",
       "49997    1983-12-16\n",
       "49998    1985-06-11\n",
       "49999    1928-08-14\n",
       "Name: date_of_birth, Length: 47550, dtype: object"
      ]
     },
     "execution_count": 16,
     "metadata": {},
     "output_type": "execute_result"
    }
   ],
   "source": [
    "df_census.date_of_birth"
   ]
  },
  {
   "cell_type": "code",
   "execution_count": 17,
   "id": "1ed3e420",
   "metadata": {},
   "outputs": [
    {
     "data": {
      "text/plain": [
       "'1951-07-27'"
      ]
     },
     "execution_count": 17,
     "metadata": {},
     "output_type": "execute_result"
    }
   ],
   "source": [
    "df_census.date_of_birth[0]"
   ]
  },
  {
   "cell_type": "code",
   "execution_count": 18,
   "id": "04243f25",
   "metadata": {},
   "outputs": [
    {
     "data": {
      "text/html": [
       "<div>\n",
       "<style scoped>\n",
       "    .dataframe tbody tr th:only-of-type {\n",
       "        vertical-align: middle;\n",
       "    }\n",
       "\n",
       "    .dataframe tbody tr th {\n",
       "        vertical-align: top;\n",
       "    }\n",
       "\n",
       "    .dataframe thead th {\n",
       "        text-align: right;\n",
       "    }\n",
       "</style>\n",
       "<table border=\"1\" class=\"dataframe\">\n",
       "  <thead>\n",
       "    <tr style=\"text-align: right;\">\n",
       "      <th></th>\n",
       "      <th>year</th>\n",
       "    </tr>\n",
       "  </thead>\n",
       "  <tbody>\n",
       "    <tr>\n",
       "      <th>0</th>\n",
       "      <td>1951</td>\n",
       "    </tr>\n",
       "    <tr>\n",
       "      <th>1</th>\n",
       "      <td>1967</td>\n",
       "    </tr>\n",
       "    <tr>\n",
       "      <th>2</th>\n",
       "      <td>2006</td>\n",
       "    </tr>\n",
       "    <tr>\n",
       "      <th>3</th>\n",
       "      <td>1998</td>\n",
       "    </tr>\n",
       "    <tr>\n",
       "      <th>4</th>\n",
       "      <td>1947</td>\n",
       "    </tr>\n",
       "    <tr>\n",
       "      <th>...</th>\n",
       "      <td>...</td>\n",
       "    </tr>\n",
       "    <tr>\n",
       "      <th>49995</th>\n",
       "      <td>1984</td>\n",
       "    </tr>\n",
       "    <tr>\n",
       "      <th>49996</th>\n",
       "      <td>1941</td>\n",
       "    </tr>\n",
       "    <tr>\n",
       "      <th>49997</th>\n",
       "      <td>1983</td>\n",
       "    </tr>\n",
       "    <tr>\n",
       "      <th>49998</th>\n",
       "      <td>1985</td>\n",
       "    </tr>\n",
       "    <tr>\n",
       "      <th>49999</th>\n",
       "      <td>1928</td>\n",
       "    </tr>\n",
       "  </tbody>\n",
       "</table>\n",
       "<p>47550 rows × 1 columns</p>\n",
       "</div>"
      ],
      "text/plain": [
       "       year\n",
       "0      1951\n",
       "1      1967\n",
       "2      2006\n",
       "3      1998\n",
       "4      1947\n",
       "...     ...\n",
       "49995  1984\n",
       "49996  1941\n",
       "49997  1983\n",
       "49998  1985\n",
       "49999  1928\n",
       "\n",
       "[47550 rows x 1 columns]"
      ]
     },
     "execution_count": 18,
     "metadata": {},
     "output_type": "execute_result"
    }
   ],
   "source": [
    "pattern = \"(?P<year>\\d+).*\"\n",
    "df_census.date_of_birth.str.extract(pattern)"
   ]
  },
  {
   "cell_type": "code",
   "execution_count": 19,
   "id": "02bacdd7",
   "metadata": {},
   "outputs": [
    {
     "data": {
      "text/plain": [
       "0        1951-27-07\n",
       "1        1967-03-05\n",
       "2        2006-07-09\n",
       "3        1998-21-10\n",
       "4        1947-09-10\n",
       "            ...    \n",
       "49995    1984-05-07\n",
       "49996    1941-08-01\n",
       "49997    1983-16-12\n",
       "49998    1985-11-06\n",
       "49999    1928-14-08\n",
       "Length: 47550, dtype: object"
      ]
     },
     "execution_count": 19,
     "metadata": {},
     "output_type": "execute_result"
    }
   ],
   "source": [
    "def swap_month_day(date_col, date_format=\"yyyy-mm-dd\"):\n",
    "    date_format = date_format.lower()\n",
    "    if date_format==\"yyyy-mm-dd\":\n",
    "        pattern = \"^(?P<year>\\d{4})-(?P<month>\\d{2})-(?P<day>\\d{2})$\"\n",
    "    else:\n",
    "        raise ValueError(f\"unsupported date format: {date_format}\")\n",
    "    date_df = date_col.str.extract(pattern)\n",
    "    if date_format==\"yyyy-mm-dd\": \n",
    "        new_date_col = (\n",
    "            date_df['year'] + '-' + date_df['day'] + '-' + date_df['month']\n",
    "        )\n",
    "    return new_date_col\n",
    "\n",
    "swap_month_day(df_census.date_of_birth)"
   ]
  },
  {
   "cell_type": "markdown",
   "id": "aa399034",
   "metadata": {},
   "source": [
    "# Write function to add noise to zipcode"
   ]
  },
  {
   "cell_type": "code",
   "execution_count": 20,
   "id": "152d19b0",
   "metadata": {},
   "outputs": [
    {
     "data": {
      "text/plain": [
       "'85727'"
      ]
     },
     "execution_count": 20,
     "metadata": {},
     "output_type": "execute_result"
    }
   ],
   "source": [
    "def miswrite_zipcode(zipcode, first3_prob=0.001, last2_prob=0.02, random_state=None):\n",
    "    rng = np.random.default_rng(random_state)\n",
    "    threshold = np.array(3*[first3_prob] + 2*[last2_prob])\n",
    "    replace = rng.random(5) < threshold\n",
    "    random_digits = rng.choice(10, 5)\n",
    "    digits = np.where(replace, random_digits, list(zipcode))\n",
    "    return ''.join(digits)\n",
    "\n",
    "def miswrite_zipcode_vec(zipcode, first3_prob=0.001, last2_prob=0.02, random_state=None):\n",
    "    rng = np.random.default_rng(random_state)\n",
    "    threshold = np.array(3*[first3_prob] + 2*[last2_prob])\n",
    "    shape = (len(zipcode), 5)\n",
    "    replace = rng.random(shape) < threshold\n",
    "    random_digits = rng.choice(10, shape)\n",
    "    zipcode_array = np.stack(zipcode.str.split(''))[:,1:-1]\n",
    "    digits_array = np.where(replace, random_digits, zipcode_array)\n",
    "    digits = pd.Series(list(digits_array), index=zipcode.index, name=zipcode.name)\n",
    "    return digits.str.join('')\n",
    "\n",
    "miswrite_zipcode('85737', .1, .3, rng)"
   ]
  },
  {
   "cell_type": "markdown",
   "id": "8fdff349",
   "metadata": {},
   "source": [
    "### Test some code for `miswrite_zipcode` function"
   ]
  },
  {
   "cell_type": "code",
   "execution_count": 21,
   "id": "c02888d4",
   "metadata": {},
   "outputs": [
    {
     "data": {
      "text/plain": [
       "array([5, 8, 9, 7, 0, 9, 0, 0, 3, 4, 6, 8, 7, 7, 7, 5, 5, 7, 8, 1])"
      ]
     },
     "execution_count": 21,
     "metadata": {},
     "output_type": "execute_result"
    }
   ],
   "source": [
    "rng.choice(10, 20)"
   ]
  },
  {
   "cell_type": "code",
   "execution_count": 22,
   "id": "eeb47bff",
   "metadata": {},
   "outputs": [
    {
     "data": {
      "text/plain": [
       "['3', '9', '3', '9', '3']"
      ]
     },
     "execution_count": 22,
     "metadata": {},
     "output_type": "execute_result"
    }
   ],
   "source": [
    "list('39393')"
   ]
  },
  {
   "cell_type": "code",
   "execution_count": 23,
   "id": "648f0f99",
   "metadata": {},
   "outputs": [
    {
     "name": "stdout",
     "output_type": "stream",
     "text": [
      "[[0.68179408 0.31082153 0.39755586 0.77324995 0.90215927]\n",
      " [0.78047166 0.52052521 0.71104295 0.59520736 0.02280682]\n",
      " [0.67161204 0.2118872  0.04259136 0.50304695 0.25503854]\n",
      " [0.95260105 0.16322401 0.75406418 0.94967214 0.85627394]\n",
      " [0.59951326 0.36163289 0.27489269 0.53114562 0.38206075]\n",
      " [0.13239796 0.47584078 0.00988195 0.04399614 0.64133556]\n",
      " [0.91635745 0.67012963 0.50534902 0.99491116 0.6829334 ]]\n"
     ]
    },
    {
     "data": {
      "text/plain": [
       "array([[False, False, False, False, False],\n",
       "       [False, False, False, False, False],\n",
       "       [False,  True,  True, False, False],\n",
       "       [False,  True, False, False, False],\n",
       "       [False, False,  True, False, False],\n",
       "       [ True, False,  True, False, False],\n",
       "       [False, False, False, False, False]])"
      ]
     },
     "execution_count": 23,
     "metadata": {},
     "output_type": "execute_result"
    }
   ],
   "source": [
    "threshold = np.array(3*[.3] + 2*[.02])\n",
    "unif = rng.random((7,5))\n",
    "print(unif)\n",
    "unif < threshold"
   ]
  },
  {
   "cell_type": "markdown",
   "id": "0e3cd962",
   "metadata": {},
   "source": [
    "### Figure out vectorized way to split zipcode into digits, replace some, then recombine"
   ]
  },
  {
   "cell_type": "code",
   "execution_count": 24,
   "id": "673adb25",
   "metadata": {},
   "outputs": [
    {
     "data": {
      "text/plain": [
       "0    11234\n",
       "1    89930\n",
       "2    55783\n",
       "dtype: object"
      ]
     },
     "execution_count": 24,
     "metadata": {},
     "output_type": "execute_result"
    }
   ],
   "source": [
    "zips = pd.Series(['11234', '89930', '55783'])\n",
    "zips.str.split('').str.join('')"
   ]
  },
  {
   "cell_type": "code",
   "execution_count": 25,
   "id": "718b5bdd",
   "metadata": {},
   "outputs": [
    {
     "data": {
      "text/plain": [
       "array([list(['', '1', '1', '2', '3', '4', '']),\n",
       "       list(['', '8', '9', '9', '3', '0', '']),\n",
       "       list(['', '5', '5', '7', '8', '3', ''])], dtype=object)"
      ]
     },
     "execution_count": 25,
     "metadata": {},
     "output_type": "execute_result"
    }
   ],
   "source": [
    "np.asarray(zips.str.split(''))"
   ]
  },
  {
   "cell_type": "code",
   "execution_count": 26,
   "id": "34dd5aac",
   "metadata": {},
   "outputs": [
    {
     "data": {
      "text/plain": [
       "array([['', '1', '1', '2', '3', '4', ''],\n",
       "       ['', '8', '9', '9', '3', '0', ''],\n",
       "       ['', '5', '5', '7', '8', '3', '']], dtype='<U1')"
      ]
     },
     "execution_count": 26,
     "metadata": {},
     "output_type": "execute_result"
    }
   ],
   "source": [
    "# https://stackoverflow.com/questions/40824601/how-to-convert-a-series-of-arrays-into-a-single-matrix-in-pandas-numpy\n",
    "a = np.stack(zips.str.split('').to_numpy())\n",
    "a\n"
   ]
  },
  {
   "cell_type": "code",
   "execution_count": 27,
   "id": "c1500af4",
   "metadata": {},
   "outputs": [
    {
     "data": {
      "text/plain": [
       "array([['1', '1', '2', '3', '4'],\n",
       "       ['8', '9', '9', '3', '0'],\n",
       "       ['5', '5', '7', '8', '3']], dtype='<U1')"
      ]
     },
     "execution_count": 27,
     "metadata": {},
     "output_type": "execute_result"
    }
   ],
   "source": [
    "a[:,1:-1] # strip off the empty strings at the ends"
   ]
  },
  {
   "cell_type": "code",
   "execution_count": 28,
   "id": "4abf03d2",
   "metadata": {},
   "outputs": [
    {
     "data": {
      "text/plain": [
       "0    [, 1, 1, 2, 3, 4, ]\n",
       "1    [, 8, 9, 9, 3, 0, ]\n",
       "2    [, 5, 5, 7, 8, 3, ]\n",
       "dtype: object"
      ]
     },
     "execution_count": 28,
     "metadata": {},
     "output_type": "execute_result"
    }
   ],
   "source": [
    "pd.Series(list(a))"
   ]
  },
  {
   "cell_type": "markdown",
   "id": "1f4a0b4a",
   "metadata": {},
   "source": [
    "### See how long it takes to convert a Series of lists to a 2D NumPy array"
   ]
  },
  {
   "cell_type": "code",
   "execution_count": 29,
   "id": "69a05131",
   "metadata": {},
   "outputs": [
    {
     "data": {
      "text/plain": [
       "array([['', '3', '4', ..., '0', '1', ''],\n",
       "       ['', '3', '4', ..., '9', '8', ''],\n",
       "       ['', '3', '4', ..., '9', '8', ''],\n",
       "       ...,\n",
       "       ['', '3', '2', ..., '6', '8', ''],\n",
       "       ['', '3', '3', ..., '1', '9', ''],\n",
       "       ['', '3', '2', ..., '6', '8', '']], dtype='<U1')"
      ]
     },
     "execution_count": 29,
     "metadata": {},
     "output_type": "execute_result"
    }
   ],
   "source": [
    "# Must filter to 5-digit zipcodes for this to work -- see below\n",
    "five_digits = df_state_table['zipcode'].str.len() == 5\n",
    "np.stack(df_state_table.loc[five_digits, 'zipcode'].str.split('').to_numpy())"
   ]
  },
  {
   "cell_type": "code",
   "execution_count": 30,
   "id": "9456fdc4",
   "metadata": {},
   "outputs": [
    {
     "data": {
      "text/plain": [
       "array([['', '3', '4', ..., '0', '1', ''],\n",
       "       ['', '3', '4', ..., '9', '8', ''],\n",
       "       ['', '3', '4', ..., '9', '8', ''],\n",
       "       ...,\n",
       "       ['', '3', '2', ..., '6', '8', ''],\n",
       "       ['', '3', '3', ..., '1', '9', ''],\n",
       "       ['', '3', '2', ..., '6', '8', '']], dtype='<U1')"
      ]
     },
     "execution_count": 30,
     "metadata": {},
     "output_type": "execute_result"
    }
   ],
   "source": [
    "np.stack(df_state_table.loc[five_digits, 'zipcode'].str.split(''))"
   ]
  },
  {
   "cell_type": "code",
   "execution_count": 31,
   "id": "6e23ddaf",
   "metadata": {},
   "outputs": [
    {
     "name": "stdout",
     "output_type": "stream",
     "text": [
      "179 ms ± 1.77 ms per loop (mean ± std. dev. of 7 runs, 10 loops each)\n"
     ]
    }
   ],
   "source": [
    "%timeit np.stack(df_state_table.loc[five_digits, 'zipcode'].str.split('').array)"
   ]
  },
  {
   "cell_type": "code",
   "execution_count": 32,
   "id": "5ca34309",
   "metadata": {},
   "outputs": [
    {
     "name": "stdout",
     "output_type": "stream",
     "text": [
      "144 ms ± 402 µs per loop (mean ± std. dev. of 7 runs, 10 loops each)\n"
     ]
    }
   ],
   "source": [
    "%timeit np.stack(df_state_table.loc[five_digits, 'zipcode'].str.split('').to_numpy())"
   ]
  },
  {
   "cell_type": "code",
   "execution_count": 33,
   "id": "0b2ee21a",
   "metadata": {},
   "outputs": [
    {
     "name": "stdout",
     "output_type": "stream",
     "text": [
      "146 ms ± 4.7 ms per loop (mean ± std. dev. of 7 runs, 10 loops each)\n"
     ]
    }
   ],
   "source": [
    "%timeit np.stack(df_state_table.loc[five_digits, 'zipcode'].str.split(''))"
   ]
  },
  {
   "cell_type": "markdown",
   "id": "9eaa7695",
   "metadata": {},
   "source": [
    "### See why some zipcodes are not 5 digits\n",
    "\n",
    "I got an \"arrays must have same length\" error from `numpy.stack` when I first tried to run the time tests above, before I filtered down to 5 digits.\n",
    "\n",
    "Looks like there are three nonstandard formats that show up in a very small fraction of rows...\n",
    "\n",
    "After [checking with Zeb](https://ihme.slack.com/archives/C02KUQ9LX32/p1670632967272579) about why (apparently this is what the real data looks like), I think the best thing is to omit these from the state table when loading it -- eventually we plan to have standardized 5-digit zipcodes before noise is added."
   ]
  },
  {
   "cell_type": "code",
   "execution_count": 34,
   "id": "af8e7b84",
   "metadata": {},
   "outputs": [
    {
     "data": {
      "text/plain": [
       "5     49979\n",
       "7        11\n",
       "8         8\n",
       "10        2\n",
       "Name: zipcode, dtype: int64"
      ]
     },
     "execution_count": 34,
     "metadata": {},
     "output_type": "execute_result"
    }
   ],
   "source": [
    "df_state_table['zipcode'].str.len().value_counts()"
   ]
  },
  {
   "cell_type": "code",
   "execution_count": 35,
   "id": "82637769",
   "metadata": {},
   "outputs": [
    {
     "data": {
      "text/html": [
       "<div>\n",
       "<style scoped>\n",
       "    .dataframe tbody tr th:only-of-type {\n",
       "        vertical-align: middle;\n",
       "    }\n",
       "\n",
       "    .dataframe tbody tr th {\n",
       "        vertical-align: top;\n",
       "    }\n",
       "\n",
       "    .dataframe thead th {\n",
       "        text-align: right;\n",
       "    }\n",
       "</style>\n",
       "<table border=\"1\" class=\"dataframe\">\n",
       "  <thead>\n",
       "    <tr style=\"text-align: right;\">\n",
       "      <th></th>\n",
       "      <th>tracked</th>\n",
       "      <th>middle_name</th>\n",
       "      <th>sex</th>\n",
       "      <th>relation_to_household_head</th>\n",
       "      <th>race_ethnicity</th>\n",
       "      <th>housing_type</th>\n",
       "      <th>exit_time</th>\n",
       "      <th>last_name</th>\n",
       "      <th>state</th>\n",
       "      <th>ssn</th>\n",
       "      <th>...</th>\n",
       "      <th>years_of_life_lost</th>\n",
       "      <th>cause_of_death</th>\n",
       "      <th>zipcode</th>\n",
       "      <th>address</th>\n",
       "      <th>parent_id</th>\n",
       "      <th>last_birth_time</th>\n",
       "      <th>employer_id</th>\n",
       "      <th>employer_name</th>\n",
       "      <th>employer_zipcode</th>\n",
       "      <th>employer_address</th>\n",
       "    </tr>\n",
       "  </thead>\n",
       "  <tbody>\n",
       "    <tr>\n",
       "      <th>12102</th>\n",
       "      <td>True</td>\n",
       "      <td>Bonnie</td>\n",
       "      <td>Female</td>\n",
       "      <td>Reference person</td>\n",
       "      <td>White</td>\n",
       "      <td>Standard</td>\n",
       "      <td>NaT</td>\n",
       "      <td>Porter</td>\n",
       "      <td>12</td>\n",
       "      <td>294-19-7040</td>\n",
       "      <td>...</td>\n",
       "      <td>0.0</td>\n",
       "      <td>not_dead</td>\n",
       "      <td>cp 33440</td>\n",
       "      <td>2501 bdwy st  clewiston, fl</td>\n",
       "      <td>-1</td>\n",
       "      <td>2019-03-04 18:00:00</td>\n",
       "      <td>84</td>\n",
       "      <td>not implemented</td>\n",
       "      <td>32164</td>\n",
       "      <td>86 timberbrook cir  palm coast, fl</td>\n",
       "    </tr>\n",
       "    <tr>\n",
       "      <th>14637</th>\n",
       "      <td>True</td>\n",
       "      <td>Kieara</td>\n",
       "      <td>Female</td>\n",
       "      <td>Reference person</td>\n",
       "      <td>White</td>\n",
       "      <td>Standard</td>\n",
       "      <td>NaT</td>\n",
       "      <td>Sessions</td>\n",
       "      <td>12</td>\n",
       "      <td>240-48-3352</td>\n",
       "      <td>...</td>\n",
       "      <td>0.0</td>\n",
       "      <td>not_dead</td>\n",
       "      <td>cp34110</td>\n",
       "      <td>653 middle cr rd  naples, fl</td>\n",
       "      <td>-1</td>\n",
       "      <td>2019-03-04 18:00:00</td>\n",
       "      <td>-1</td>\n",
       "      <td>unemployed</td>\n",
       "      <td>NA</td>\n",
       "      <td>NA</td>\n",
       "    </tr>\n",
       "    <tr>\n",
       "      <th>16971</th>\n",
       "      <td>True</td>\n",
       "      <td>Connie</td>\n",
       "      <td>Female</td>\n",
       "      <td>Reference person</td>\n",
       "      <td>White</td>\n",
       "      <td>Standard</td>\n",
       "      <td>NaT</td>\n",
       "      <td>Matuszewski</td>\n",
       "      <td>12</td>\n",
       "      <td>766-95-3849</td>\n",
       "      <td>...</td>\n",
       "      <td>0.0</td>\n",
       "      <td>not_dead</td>\n",
       "      <td>cp33415</td>\n",
       "      <td>1308 blue vale way  unincorporated, fl</td>\n",
       "      <td>-1</td>\n",
       "      <td>2019-03-04 18:00:00</td>\n",
       "      <td>-1</td>\n",
       "      <td>unemployed</td>\n",
       "      <td>NA</td>\n",
       "      <td>NA</td>\n",
       "    </tr>\n",
       "    <tr>\n",
       "      <th>16972</th>\n",
       "      <td>True</td>\n",
       "      <td>Harrison</td>\n",
       "      <td>Male</td>\n",
       "      <td>Opp-sex spouse</td>\n",
       "      <td>White</td>\n",
       "      <td>Standard</td>\n",
       "      <td>NaT</td>\n",
       "      <td>Barnum</td>\n",
       "      <td>12</td>\n",
       "      <td>872-50-3326</td>\n",
       "      <td>...</td>\n",
       "      <td>0.0</td>\n",
       "      <td>not_dead</td>\n",
       "      <td>cp33415</td>\n",
       "      <td>1308 blue vale way  unincorporated, fl</td>\n",
       "      <td>-1</td>\n",
       "      <td>NaT</td>\n",
       "      <td>45</td>\n",
       "      <td>not implemented</td>\n",
       "      <td>34744</td>\n",
       "      <td>10780 rivercrest dr  kissimmee, fl</td>\n",
       "    </tr>\n",
       "    <tr>\n",
       "      <th>16973</th>\n",
       "      <td>True</td>\n",
       "      <td>Jacob</td>\n",
       "      <td>Male</td>\n",
       "      <td>Biological child</td>\n",
       "      <td>White</td>\n",
       "      <td>Standard</td>\n",
       "      <td>NaT</td>\n",
       "      <td>Minas</td>\n",
       "      <td>12</td>\n",
       "      <td>756-86-1416</td>\n",
       "      <td>...</td>\n",
       "      <td>0.0</td>\n",
       "      <td>not_dead</td>\n",
       "      <td>cp33415</td>\n",
       "      <td>1308 blue vale way  unincorporated, fl</td>\n",
       "      <td>-1</td>\n",
       "      <td>NaT</td>\n",
       "      <td>-1</td>\n",
       "      <td>unemployed</td>\n",
       "      <td>NA</td>\n",
       "      <td>NA</td>\n",
       "    </tr>\n",
       "    <tr>\n",
       "      <th>16974</th>\n",
       "      <td>True</td>\n",
       "      <td>Javier</td>\n",
       "      <td>Male</td>\n",
       "      <td>Biological child</td>\n",
       "      <td>White</td>\n",
       "      <td>Standard</td>\n",
       "      <td>NaT</td>\n",
       "      <td>Hinchliff</td>\n",
       "      <td>12</td>\n",
       "      <td>716-26-5094</td>\n",
       "      <td>...</td>\n",
       "      <td>0.0</td>\n",
       "      <td>not_dead</td>\n",
       "      <td>cp33415</td>\n",
       "      <td>1308 blue vale way  unincorporated, fl</td>\n",
       "      <td>-1</td>\n",
       "      <td>NaT</td>\n",
       "      <td>17</td>\n",
       "      <td>not implemented</td>\n",
       "      <td>33440</td>\n",
       "      <td>412 58 stree  harlem, fl</td>\n",
       "    </tr>\n",
       "    <tr>\n",
       "      <th>23973</th>\n",
       "      <td>True</td>\n",
       "      <td>Kelli</td>\n",
       "      <td>Female</td>\n",
       "      <td>Reference person</td>\n",
       "      <td>White</td>\n",
       "      <td>Standard</td>\n",
       "      <td>NaT</td>\n",
       "      <td>Olson</td>\n",
       "      <td>12</td>\n",
       "      <td>144-66-9721</td>\n",
       "      <td>...</td>\n",
       "      <td>0.0</td>\n",
       "      <td>not_dead</td>\n",
       "      <td>32223-1647</td>\n",
       "      <td>525 canary dr  jacksonville, fl</td>\n",
       "      <td>-1</td>\n",
       "      <td>2019-03-04 18:00:00</td>\n",
       "      <td>-1</td>\n",
       "      <td>unemployed</td>\n",
       "      <td>NA</td>\n",
       "      <td>NA</td>\n",
       "    </tr>\n",
       "    <tr>\n",
       "      <th>23974</th>\n",
       "      <td>True</td>\n",
       "      <td>Brian</td>\n",
       "      <td>Male</td>\n",
       "      <td>Other nonrelative</td>\n",
       "      <td>White</td>\n",
       "      <td>Standard</td>\n",
       "      <td>NaT</td>\n",
       "      <td>Jefferis</td>\n",
       "      <td>12</td>\n",
       "      <td>405-86-9101</td>\n",
       "      <td>...</td>\n",
       "      <td>0.0</td>\n",
       "      <td>not_dead</td>\n",
       "      <td>32223-1647</td>\n",
       "      <td>525 canary dr  jacksonville, fl</td>\n",
       "      <td>-1</td>\n",
       "      <td>NaT</td>\n",
       "      <td>-1</td>\n",
       "      <td>unemployed</td>\n",
       "      <td>NA</td>\n",
       "      <td>NA</td>\n",
       "    </tr>\n",
       "    <tr>\n",
       "      <th>27551</th>\n",
       "      <td>True</td>\n",
       "      <td>Robbie</td>\n",
       "      <td>Male</td>\n",
       "      <td>Reference person</td>\n",
       "      <td>White</td>\n",
       "      <td>Standard</td>\n",
       "      <td>NaT</td>\n",
       "      <td>Holubar</td>\n",
       "      <td>12</td>\n",
       "      <td>462-32-6995</td>\n",
       "      <td>...</td>\n",
       "      <td>0.0</td>\n",
       "      <td>not_dead</td>\n",
       "      <td>cp 33433</td>\n",
       "      <td>6819 honeysuckle trl  unincorporated, fl</td>\n",
       "      <td>-1</td>\n",
       "      <td>NaT</td>\n",
       "      <td>-1</td>\n",
       "      <td>unemployed</td>\n",
       "      <td>NA</td>\n",
       "      <td>NA</td>\n",
       "    </tr>\n",
       "    <tr>\n",
       "      <th>27552</th>\n",
       "      <td>True</td>\n",
       "      <td>Andrea</td>\n",
       "      <td>Female</td>\n",
       "      <td>Opp-sex spouse</td>\n",
       "      <td>Latino</td>\n",
       "      <td>Standard</td>\n",
       "      <td>NaT</td>\n",
       "      <td>Abernathy</td>\n",
       "      <td>12</td>\n",
       "      <td>042-99-2615</td>\n",
       "      <td>...</td>\n",
       "      <td>0.0</td>\n",
       "      <td>not_dead</td>\n",
       "      <td>cp 33433</td>\n",
       "      <td>6819 honeysuckle trl  unincorporated, fl</td>\n",
       "      <td>-1</td>\n",
       "      <td>2019-03-04 18:00:00</td>\n",
       "      <td>80</td>\n",
       "      <td>not implemented</td>\n",
       "      <td>33615</td>\n",
       "      <td>5806 sw 112 wy  tampa, fl</td>\n",
       "    </tr>\n",
       "    <tr>\n",
       "      <th>27553</th>\n",
       "      <td>True</td>\n",
       "      <td>Tyler</td>\n",
       "      <td>Male</td>\n",
       "      <td>Biological child</td>\n",
       "      <td>White</td>\n",
       "      <td>Standard</td>\n",
       "      <td>NaT</td>\n",
       "      <td>Winchester</td>\n",
       "      <td>12</td>\n",
       "      <td>702-30-2108</td>\n",
       "      <td>...</td>\n",
       "      <td>0.0</td>\n",
       "      <td>not_dead</td>\n",
       "      <td>cp 33433</td>\n",
       "      <td>6819 honeysuckle trl  unincorporated, fl</td>\n",
       "      <td>-1</td>\n",
       "      <td>NaT</td>\n",
       "      <td>-1</td>\n",
       "      <td>unemployed</td>\n",
       "      <td>NA</td>\n",
       "      <td>NA</td>\n",
       "    </tr>\n",
       "    <tr>\n",
       "      <th>27554</th>\n",
       "      <td>True</td>\n",
       "      <td>Sofia</td>\n",
       "      <td>Female</td>\n",
       "      <td>Biological child</td>\n",
       "      <td>White</td>\n",
       "      <td>Standard</td>\n",
       "      <td>NaT</td>\n",
       "      <td>Shirley</td>\n",
       "      <td>12</td>\n",
       "      <td>241-22-9220</td>\n",
       "      <td>...</td>\n",
       "      <td>0.0</td>\n",
       "      <td>not_dead</td>\n",
       "      <td>cp 33433</td>\n",
       "      <td>6819 honeysuckle trl  unincorporated, fl</td>\n",
       "      <td>-1</td>\n",
       "      <td>2019-03-04 18:00:00</td>\n",
       "      <td>-1</td>\n",
       "      <td>unemployed</td>\n",
       "      <td>NA</td>\n",
       "      <td>NA</td>\n",
       "    </tr>\n",
       "    <tr>\n",
       "      <th>27555</th>\n",
       "      <td>True</td>\n",
       "      <td>Jason</td>\n",
       "      <td>Male</td>\n",
       "      <td>Stepchild</td>\n",
       "      <td>Latino</td>\n",
       "      <td>Standard</td>\n",
       "      <td>NaT</td>\n",
       "      <td>Nunez</td>\n",
       "      <td>12</td>\n",
       "      <td>101-32-9726</td>\n",
       "      <td>...</td>\n",
       "      <td>0.0</td>\n",
       "      <td>not_dead</td>\n",
       "      <td>cp 33433</td>\n",
       "      <td>6819 honeysuckle trl  unincorporated, fl</td>\n",
       "      <td>-1</td>\n",
       "      <td>NaT</td>\n",
       "      <td>-1</td>\n",
       "      <td>unemployed</td>\n",
       "      <td>NA</td>\n",
       "      <td>NA</td>\n",
       "    </tr>\n",
       "    <tr>\n",
       "      <th>29098</th>\n",
       "      <td>True</td>\n",
       "      <td>Jeffrey</td>\n",
       "      <td>Male</td>\n",
       "      <td>Reference person</td>\n",
       "      <td>Latino</td>\n",
       "      <td>Standard</td>\n",
       "      <td>NaT</td>\n",
       "      <td>Guzman Guzman</td>\n",
       "      <td>12</td>\n",
       "      <td>853-81-0440</td>\n",
       "      <td>...</td>\n",
       "      <td>0.0</td>\n",
       "      <td>not_dead</td>\n",
       "      <td>cp32095</td>\n",
       "      <td>5400 e holly rd  saint augustine, fl</td>\n",
       "      <td>-1</td>\n",
       "      <td>NaT</td>\n",
       "      <td>-1</td>\n",
       "      <td>unemployed</td>\n",
       "      <td>NA</td>\n",
       "      <td>NA</td>\n",
       "    </tr>\n",
       "    <tr>\n",
       "      <th>29099</th>\n",
       "      <td>True</td>\n",
       "      <td>Sandra</td>\n",
       "      <td>Female</td>\n",
       "      <td>Opp-sex spouse</td>\n",
       "      <td>White</td>\n",
       "      <td>Standard</td>\n",
       "      <td>NaT</td>\n",
       "      <td>Whitt</td>\n",
       "      <td>12</td>\n",
       "      <td></td>\n",
       "      <td>...</td>\n",
       "      <td>0.0</td>\n",
       "      <td>not_dead</td>\n",
       "      <td>cp32095</td>\n",
       "      <td>5400 e holly rd  saint augustine, fl</td>\n",
       "      <td>-1</td>\n",
       "      <td>2019-03-04 18:00:00</td>\n",
       "      <td>42</td>\n",
       "      <td>not implemented</td>\n",
       "      <td>34287</td>\n",
       "      <td>w 4th st  north port, fl</td>\n",
       "    </tr>\n",
       "    <tr>\n",
       "      <th>29100</th>\n",
       "      <td>True</td>\n",
       "      <td>Aaliyah</td>\n",
       "      <td>Female</td>\n",
       "      <td>Biological child</td>\n",
       "      <td>White</td>\n",
       "      <td>Standard</td>\n",
       "      <td>NaT</td>\n",
       "      <td>Busscher</td>\n",
       "      <td>12</td>\n",
       "      <td>434-69-7172</td>\n",
       "      <td>...</td>\n",
       "      <td>0.0</td>\n",
       "      <td>not_dead</td>\n",
       "      <td>cp32095</td>\n",
       "      <td>5400 e holly rd  saint augustine, fl</td>\n",
       "      <td>-1</td>\n",
       "      <td>2019-03-04 18:00:00</td>\n",
       "      <td>-1</td>\n",
       "      <td>unemployed</td>\n",
       "      <td>NA</td>\n",
       "      <td>NA</td>\n",
       "    </tr>\n",
       "    <tr>\n",
       "      <th>40350</th>\n",
       "      <td>True</td>\n",
       "      <td>James</td>\n",
       "      <td>Male</td>\n",
       "      <td>Reference person</td>\n",
       "      <td>White</td>\n",
       "      <td>Standard</td>\n",
       "      <td>NaT</td>\n",
       "      <td>Murphy</td>\n",
       "      <td>12</td>\n",
       "      <td>267-57-0374</td>\n",
       "      <td>...</td>\n",
       "      <td>0.0</td>\n",
       "      <td>not_dead</td>\n",
       "      <td>cp 33409</td>\n",
       "      <td>20 nw 16th ave  west palm beach, fl</td>\n",
       "      <td>-1</td>\n",
       "      <td>NaT</td>\n",
       "      <td>75</td>\n",
       "      <td>not implemented</td>\n",
       "      <td>33334</td>\n",
       "      <td>1532 creekbend dr  ft lauderdale, fl</td>\n",
       "    </tr>\n",
       "    <tr>\n",
       "      <th>40351</th>\n",
       "      <td>True</td>\n",
       "      <td>Brenda</td>\n",
       "      <td>Female</td>\n",
       "      <td>Opp-sex spouse</td>\n",
       "      <td>White</td>\n",
       "      <td>Standard</td>\n",
       "      <td>NaT</td>\n",
       "      <td>Gray</td>\n",
       "      <td>12</td>\n",
       "      <td>674-76-4153</td>\n",
       "      <td>...</td>\n",
       "      <td>0.0</td>\n",
       "      <td>not_dead</td>\n",
       "      <td>cp 33409</td>\n",
       "      <td>20 nw 16th ave  west palm beach, fl</td>\n",
       "      <td>-1</td>\n",
       "      <td>2019-03-04 18:00:00</td>\n",
       "      <td>-1</td>\n",
       "      <td>unemployed</td>\n",
       "      <td>NA</td>\n",
       "      <td>NA</td>\n",
       "    </tr>\n",
       "    <tr>\n",
       "      <th>46411</th>\n",
       "      <td>True</td>\n",
       "      <td>Rebecca</td>\n",
       "      <td>Female</td>\n",
       "      <td>Reference person</td>\n",
       "      <td>Latino</td>\n",
       "      <td>Standard</td>\n",
       "      <td>NaT</td>\n",
       "      <td>Mendez</td>\n",
       "      <td>12</td>\n",
       "      <td>260-79-3656</td>\n",
       "      <td>...</td>\n",
       "      <td>0.0</td>\n",
       "      <td>not_dead</td>\n",
       "      <td>cp34714</td>\n",
       "      <td>9047 39th st  championsgate, fl</td>\n",
       "      <td>-1</td>\n",
       "      <td>2019-03-04 18:00:00</td>\n",
       "      <td>234</td>\n",
       "      <td>not implemented</td>\n",
       "      <td>33062</td>\n",
       "      <td>523 foundry street northwest flat 575 pompano ...</td>\n",
       "    </tr>\n",
       "    <tr>\n",
       "      <th>46412</th>\n",
       "      <td>True</td>\n",
       "      <td>Alyssa</td>\n",
       "      <td>Female</td>\n",
       "      <td>Biological child</td>\n",
       "      <td>Latino</td>\n",
       "      <td>Standard</td>\n",
       "      <td>NaT</td>\n",
       "      <td>Lopez Perea</td>\n",
       "      <td>12</td>\n",
       "      <td>625-18-4456</td>\n",
       "      <td>...</td>\n",
       "      <td>0.0</td>\n",
       "      <td>not_dead</td>\n",
       "      <td>cp34714</td>\n",
       "      <td>9047 39th st  championsgate, fl</td>\n",
       "      <td>-1</td>\n",
       "      <td>2019-03-04 18:00:00</td>\n",
       "      <td>-1</td>\n",
       "      <td>unemployed</td>\n",
       "      <td>NA</td>\n",
       "      <td>NA</td>\n",
       "    </tr>\n",
       "    <tr>\n",
       "      <th>46413</th>\n",
       "      <td>True</td>\n",
       "      <td>Jeremy</td>\n",
       "      <td>Male</td>\n",
       "      <td>Grandchild</td>\n",
       "      <td>White</td>\n",
       "      <td>Standard</td>\n",
       "      <td>NaT</td>\n",
       "      <td>Key</td>\n",
       "      <td>12</td>\n",
       "      <td>297-25-4276</td>\n",
       "      <td>...</td>\n",
       "      <td>0.0</td>\n",
       "      <td>not_dead</td>\n",
       "      <td>cp34714</td>\n",
       "      <td>9047 39th st  championsgate, fl</td>\n",
       "      <td>-1</td>\n",
       "      <td>NaT</td>\n",
       "      <td>-1</td>\n",
       "      <td>unemployed</td>\n",
       "      <td>NA</td>\n",
       "      <td>NA</td>\n",
       "    </tr>\n",
       "  </tbody>\n",
       "</table>\n",
       "<p>21 rows × 27 columns</p>\n",
       "</div>"
      ],
      "text/plain": [
       "       tracked middle_name     sex relation_to_household_head race_ethnicity  \\\n",
       "12102     True      Bonnie  Female           Reference person          White   \n",
       "14637     True      Kieara  Female           Reference person          White   \n",
       "16971     True      Connie  Female           Reference person          White   \n",
       "16972     True    Harrison    Male             Opp-sex spouse          White   \n",
       "16973     True       Jacob    Male           Biological child          White   \n",
       "16974     True      Javier    Male           Biological child          White   \n",
       "23973     True       Kelli  Female           Reference person          White   \n",
       "23974     True       Brian    Male          Other nonrelative          White   \n",
       "27551     True      Robbie    Male           Reference person          White   \n",
       "27552     True      Andrea  Female             Opp-sex spouse         Latino   \n",
       "27553     True       Tyler    Male           Biological child          White   \n",
       "27554     True       Sofia  Female           Biological child          White   \n",
       "27555     True       Jason    Male                  Stepchild         Latino   \n",
       "29098     True     Jeffrey    Male           Reference person         Latino   \n",
       "29099     True      Sandra  Female             Opp-sex spouse          White   \n",
       "29100     True     Aaliyah  Female           Biological child          White   \n",
       "40350     True       James    Male           Reference person          White   \n",
       "40351     True      Brenda  Female             Opp-sex spouse          White   \n",
       "46411     True     Rebecca  Female           Reference person         Latino   \n",
       "46412     True      Alyssa  Female           Biological child         Latino   \n",
       "46413     True      Jeremy    Male                 Grandchild          White   \n",
       "\n",
       "      housing_type exit_time      last_name  state          ssn  ...  \\\n",
       "12102     Standard       NaT         Porter     12  294-19-7040  ...   \n",
       "14637     Standard       NaT       Sessions     12  240-48-3352  ...   \n",
       "16971     Standard       NaT    Matuszewski     12  766-95-3849  ...   \n",
       "16972     Standard       NaT         Barnum     12  872-50-3326  ...   \n",
       "16973     Standard       NaT          Minas     12  756-86-1416  ...   \n",
       "16974     Standard       NaT      Hinchliff     12  716-26-5094  ...   \n",
       "23973     Standard       NaT          Olson     12  144-66-9721  ...   \n",
       "23974     Standard       NaT       Jefferis     12  405-86-9101  ...   \n",
       "27551     Standard       NaT        Holubar     12  462-32-6995  ...   \n",
       "27552     Standard       NaT      Abernathy     12  042-99-2615  ...   \n",
       "27553     Standard       NaT     Winchester     12  702-30-2108  ...   \n",
       "27554     Standard       NaT        Shirley     12  241-22-9220  ...   \n",
       "27555     Standard       NaT          Nunez     12  101-32-9726  ...   \n",
       "29098     Standard       NaT  Guzman Guzman     12  853-81-0440  ...   \n",
       "29099     Standard       NaT          Whitt     12               ...   \n",
       "29100     Standard       NaT       Busscher     12  434-69-7172  ...   \n",
       "40350     Standard       NaT         Murphy     12  267-57-0374  ...   \n",
       "40351     Standard       NaT           Gray     12  674-76-4153  ...   \n",
       "46411     Standard       NaT         Mendez     12  260-79-3656  ...   \n",
       "46412     Standard       NaT    Lopez Perea     12  625-18-4456  ...   \n",
       "46413     Standard       NaT            Key     12  297-25-4276  ...   \n",
       "\n",
       "      years_of_life_lost cause_of_death     zipcode  \\\n",
       "12102                0.0       not_dead    cp 33440   \n",
       "14637                0.0       not_dead     cp34110   \n",
       "16971                0.0       not_dead     cp33415   \n",
       "16972                0.0       not_dead     cp33415   \n",
       "16973                0.0       not_dead     cp33415   \n",
       "16974                0.0       not_dead     cp33415   \n",
       "23973                0.0       not_dead  32223-1647   \n",
       "23974                0.0       not_dead  32223-1647   \n",
       "27551                0.0       not_dead    cp 33433   \n",
       "27552                0.0       not_dead    cp 33433   \n",
       "27553                0.0       not_dead    cp 33433   \n",
       "27554                0.0       not_dead    cp 33433   \n",
       "27555                0.0       not_dead    cp 33433   \n",
       "29098                0.0       not_dead     cp32095   \n",
       "29099                0.0       not_dead     cp32095   \n",
       "29100                0.0       not_dead     cp32095   \n",
       "40350                0.0       not_dead    cp 33409   \n",
       "40351                0.0       not_dead    cp 33409   \n",
       "46411                0.0       not_dead     cp34714   \n",
       "46412                0.0       not_dead     cp34714   \n",
       "46413                0.0       not_dead     cp34714   \n",
       "\n",
       "                                        address  parent_id  \\\n",
       "12102               2501 bdwy st  clewiston, fl         -1   \n",
       "14637              653 middle cr rd  naples, fl         -1   \n",
       "16971    1308 blue vale way  unincorporated, fl         -1   \n",
       "16972    1308 blue vale way  unincorporated, fl         -1   \n",
       "16973    1308 blue vale way  unincorporated, fl         -1   \n",
       "16974    1308 blue vale way  unincorporated, fl         -1   \n",
       "23973           525 canary dr  jacksonville, fl         -1   \n",
       "23974           525 canary dr  jacksonville, fl         -1   \n",
       "27551  6819 honeysuckle trl  unincorporated, fl         -1   \n",
       "27552  6819 honeysuckle trl  unincorporated, fl         -1   \n",
       "27553  6819 honeysuckle trl  unincorporated, fl         -1   \n",
       "27554  6819 honeysuckle trl  unincorporated, fl         -1   \n",
       "27555  6819 honeysuckle trl  unincorporated, fl         -1   \n",
       "29098      5400 e holly rd  saint augustine, fl         -1   \n",
       "29099      5400 e holly rd  saint augustine, fl         -1   \n",
       "29100      5400 e holly rd  saint augustine, fl         -1   \n",
       "40350       20 nw 16th ave  west palm beach, fl         -1   \n",
       "40351       20 nw 16th ave  west palm beach, fl         -1   \n",
       "46411           9047 39th st  championsgate, fl         -1   \n",
       "46412           9047 39th st  championsgate, fl         -1   \n",
       "46413           9047 39th st  championsgate, fl         -1   \n",
       "\n",
       "          last_birth_time  employer_id    employer_name employer_zipcode  \\\n",
       "12102 2019-03-04 18:00:00           84  not implemented            32164   \n",
       "14637 2019-03-04 18:00:00           -1       unemployed               NA   \n",
       "16971 2019-03-04 18:00:00           -1       unemployed               NA   \n",
       "16972                 NaT           45  not implemented            34744   \n",
       "16973                 NaT           -1       unemployed               NA   \n",
       "16974                 NaT           17  not implemented            33440   \n",
       "23973 2019-03-04 18:00:00           -1       unemployed               NA   \n",
       "23974                 NaT           -1       unemployed               NA   \n",
       "27551                 NaT           -1       unemployed               NA   \n",
       "27552 2019-03-04 18:00:00           80  not implemented            33615   \n",
       "27553                 NaT           -1       unemployed               NA   \n",
       "27554 2019-03-04 18:00:00           -1       unemployed               NA   \n",
       "27555                 NaT           -1       unemployed               NA   \n",
       "29098                 NaT           -1       unemployed               NA   \n",
       "29099 2019-03-04 18:00:00           42  not implemented            34287   \n",
       "29100 2019-03-04 18:00:00           -1       unemployed               NA   \n",
       "40350                 NaT           75  not implemented            33334   \n",
       "40351 2019-03-04 18:00:00           -1       unemployed               NA   \n",
       "46411 2019-03-04 18:00:00          234  not implemented            33062   \n",
       "46412 2019-03-04 18:00:00           -1       unemployed               NA   \n",
       "46413                 NaT           -1       unemployed               NA   \n",
       "\n",
       "                                        employer_address  \n",
       "12102                 86 timberbrook cir  palm coast, fl  \n",
       "14637                                                 NA  \n",
       "16971                                                 NA  \n",
       "16972                 10780 rivercrest dr  kissimmee, fl  \n",
       "16973                                                 NA  \n",
       "16974                           412 58 stree  harlem, fl  \n",
       "23973                                                 NA  \n",
       "23974                                                 NA  \n",
       "27551                                                 NA  \n",
       "27552                          5806 sw 112 wy  tampa, fl  \n",
       "27553                                                 NA  \n",
       "27554                                                 NA  \n",
       "27555                                                 NA  \n",
       "29098                                                 NA  \n",
       "29099                           w 4th st  north port, fl  \n",
       "29100                                                 NA  \n",
       "40350               1532 creekbend dr  ft lauderdale, fl  \n",
       "40351                                                 NA  \n",
       "46411  523 foundry street northwest flat 575 pompano ...  \n",
       "46412                                                 NA  \n",
       "46413                                                 NA  \n",
       "\n",
       "[21 rows x 27 columns]"
      ]
     },
     "execution_count": 35,
     "metadata": {},
     "output_type": "execute_result"
    }
   ],
   "source": [
    "df_state_table.loc[df_state_table['zipcode'].str.len() != 5]"
   ]
  },
  {
   "cell_type": "markdown",
   "id": "ca0337a3",
   "metadata": {},
   "source": [
    "### Test `miswrite_zipcode` function and vectorized version\n",
    "\n",
    "That is, now that I figured out I need to filter down to 5-digit zipcodes first."
   ]
  },
  {
   "cell_type": "code",
   "execution_count": 36,
   "id": "9cf30d73",
   "metadata": {},
   "outputs": [
    {
     "data": {
      "text/plain": [
       "0    11234\n",
       "1    89990\n",
       "2    55700\n",
       "dtype: object"
      ]
     },
     "execution_count": 36,
     "metadata": {},
     "output_type": "execute_result"
    }
   ],
   "source": [
    "miswrite_zipcode_vec(zips, .2, .5, rng)"
   ]
  },
  {
   "cell_type": "code",
   "execution_count": 37,
   "id": "c4720ce3",
   "metadata": {},
   "outputs": [
    {
     "data": {
      "text/plain": [
       "0        24671\n",
       "1        34698\n",
       "2        34938\n",
       "3        38296\n",
       "4        02003\n",
       "         ...  \n",
       "49995    33989\n",
       "49996    33127\n",
       "49997    32929\n",
       "49998    33979\n",
       "49999    32948\n",
       "Name: zipcode, Length: 49979, dtype: object"
      ]
     },
     "execution_count": 37,
     "metadata": {},
     "output_type": "execute_result"
    }
   ],
   "source": [
    "miswrite_zipcode_vec(df_state_table.loc[five_digits, 'zipcode'], .2, .5, rng)"
   ]
  },
  {
   "cell_type": "code",
   "execution_count": 38,
   "id": "ab0d36b3",
   "metadata": {},
   "outputs": [
    {
     "data": {
      "text/plain": [
       "0"
      ]
     },
     "execution_count": 38,
     "metadata": {},
     "output_type": "execute_result"
    }
   ],
   "source": [
    "miswrite_zipcode_vec(df_state_table.loc[five_digits, 'zipcode'], .2, .5, rng).isna().sum()"
   ]
  },
  {
   "cell_type": "code",
   "execution_count": 39,
   "id": "6a7c883e",
   "metadata": {},
   "outputs": [
    {
     "data": {
      "text/plain": [
       "0        34602\n",
       "1        34676\n",
       "2        35988\n",
       "3        34698\n",
       "4        31023\n",
       "         ...  \n",
       "49995    23919\n",
       "49996    39017\n",
       "49997    32404\n",
       "49998    33939\n",
       "49999    32964\n",
       "Name: zipcode, Length: 49979, dtype: object"
      ]
     },
     "execution_count": 39,
     "metadata": {},
     "output_type": "execute_result"
    }
   ],
   "source": [
    "df_state_table.loc[five_digits, 'zipcode'].map(lambda z: miswrite_zipcode(z, .2, .5, rng))"
   ]
  },
  {
   "cell_type": "markdown",
   "id": "834c383b",
   "metadata": {},
   "source": [
    "### Compare runtime of salar version of zipcode noise with `Series.map` vs. vectorized version using `Series.str` and NumPy\n",
    "\n",
    "The vectorized version is about 4 times faster. Woo hoo!"
   ]
  },
  {
   "cell_type": "code",
   "execution_count": 40,
   "id": "716b8fcd",
   "metadata": {},
   "outputs": [
    {
     "name": "stdout",
     "output_type": "stream",
     "text": [
      "337 ms ± 2.03 ms per loop (mean ± std. dev. of 7 runs, 1 loop each)\n"
     ]
    }
   ],
   "source": [
    "%timeit miswrite_zipcode_vec(df_state_table.loc[five_digits, 'zipcode'], .2, .5, rng)"
   ]
  },
  {
   "cell_type": "code",
   "execution_count": 41,
   "id": "45106b30",
   "metadata": {},
   "outputs": [
    {
     "name": "stdout",
     "output_type": "stream",
     "text": [
      "1.32 s ± 59.3 ms per loop (mean ± std. dev. of 7 runs, 1 loop each)\n"
     ]
    }
   ],
   "source": [
    "%timeit df_state_table.loc[five_digits, 'zipcode'].map( \\\n",
    "    lambda z: miswrite_zipcode(z, .2, .5, rng))"
   ]
  },
  {
   "cell_type": "markdown",
   "id": "731e8198",
   "metadata": {},
   "source": [
    "## Check how long it takes to call `default_rng()`\n",
    "\n",
    "As suspected, it takes longer to create a new Generator than to simply return an existing generator that is passed to the function. If the string functions in `corruption.py` or the ones above take a random state as a parameter, and they are passed an existing random Generator object, this would add about 266 ns per call according to the estimate below. If a single corruption function is called once on each of the 300 million records in the census, this adds about 80 seconds of total computation time.\n",
    "\n",
    "To get reproducibility an alternative to optionally passing a random state would be to make the random Generator a *required* argument rather than optional. But for development rather than production, it's probably better to refactor the existing code with an optional random state so as not to break existing code, and to make it easier to write simple code for testing if it doesn't need to be reproducible."
   ]
  },
  {
   "cell_type": "code",
   "execution_count": 42,
   "id": "84ccc4d5",
   "metadata": {},
   "outputs": [
    {
     "name": "stdout",
     "output_type": "stream",
     "text": [
      "20.3 µs ± 137 ns per loop (mean ± std. dev. of 7 runs, 10,000 loops each)\n"
     ]
    }
   ],
   "source": [
    "%timeit np.random.default_rng()"
   ]
  },
  {
   "cell_type": "code",
   "execution_count": 43,
   "id": "6fc0b0f5",
   "metadata": {},
   "outputs": [
    {
     "name": "stdout",
     "output_type": "stream",
     "text": [
      "9.3 µs ± 29.5 ns per loop (mean ± std. dev. of 7 runs, 100,000 loops each)\n"
     ]
    }
   ],
   "source": [
    "%timeit np.random.default_rng(sq)"
   ]
  },
  {
   "cell_type": "code",
   "execution_count": 44,
   "id": "8c7c6842",
   "metadata": {},
   "outputs": [
    {
     "name": "stdout",
     "output_type": "stream",
     "text": [
      "267 ns ± 0.767 ns per loop (mean ± std. dev. of 7 runs, 1,000,000 loops each)\n"
     ]
    }
   ],
   "source": [
    "%timeit np.random.default_rng(rng)"
   ]
  },
  {
   "cell_type": "code",
   "execution_count": 45,
   "id": "a0bf13e4",
   "metadata": {},
   "outputs": [
    {
     "data": {
      "text/plain": [
       "79.80000000000001"
      ]
     },
     "execution_count": 45,
     "metadata": {},
     "output_type": "execute_result"
    }
   ],
   "source": [
    "# 266 nanoseconds times 300 million records = 79.8 seconds\n",
    "266e-9 * 300e6"
   ]
  },
  {
   "cell_type": "code",
   "execution_count": 46,
   "id": "3e9fd071",
   "metadata": {},
   "outputs": [
    {
     "data": {
      "text/plain": [
       "300000000.0"
      ]
     },
     "execution_count": 46,
     "metadata": {},
     "output_type": "execute_result"
    }
   ],
   "source": [
    "300e6"
   ]
  },
  {
   "cell_type": "markdown",
   "id": "655b632d",
   "metadata": {},
   "source": [
    "## Write function to add noise to census data"
   ]
  },
  {
   "cell_type": "code",
   "execution_count": 47,
   "id": "383b1032",
   "metadata": {},
   "outputs": [
    {
     "data": {
      "text/plain": [
       "5     47530\n",
       "7        10\n",
       "8         8\n",
       "10        2\n",
       "Name: zipcode, dtype: int64"
      ]
     },
     "execution_count": 47,
     "metadata": {},
     "output_type": "execute_result"
    }
   ],
   "source": [
    "# We'll need to filter out zipcodes > 5 digits to get the zipcode noise to work\n",
    "df_census['zipcode'].str.len().value_counts()"
   ]
  },
  {
   "cell_type": "code",
   "execution_count": 48,
   "id": "6b8e5c6a",
   "metadata": {},
   "outputs": [],
   "source": [
    "# Filter out non-5-digit zipcodes\n",
    "five_digit_zip = df_census['zipcode'].str.len() == 5\n",
    "df_census_zip5 = df_census.loc[five_digit_zip]"
   ]
  },
  {
   "cell_type": "code",
   "execution_count": 49,
   "id": "cc8ffda7",
   "metadata": {},
   "outputs": [
    {
     "data": {
      "text/html": [
       "<div>\n",
       "<style scoped>\n",
       "    .dataframe tbody tr th:only-of-type {\n",
       "        vertical-align: middle;\n",
       "    }\n",
       "\n",
       "    .dataframe tbody tr th {\n",
       "        vertical-align: top;\n",
       "    }\n",
       "\n",
       "    .dataframe thead th {\n",
       "        text-align: right;\n",
       "    }\n",
       "</style>\n",
       "<table border=\"1\" class=\"dataframe\">\n",
       "  <thead>\n",
       "    <tr style=\"text-align: right;\">\n",
       "      <th></th>\n",
       "      <th>first_name</th>\n",
       "      <th>middle_initial</th>\n",
       "      <th>last_name</th>\n",
       "      <th>date_of_birth</th>\n",
       "      <th>age</th>\n",
       "      <th>sex</th>\n",
       "      <th>race_ethnicity</th>\n",
       "      <th>relation_to_household_head</th>\n",
       "      <th>address</th>\n",
       "      <th>zipcode</th>\n",
       "    </tr>\n",
       "  </thead>\n",
       "  <tbody>\n",
       "    <tr>\n",
       "      <th>0</th>\n",
       "      <td>Margaret</td>\n",
       "      <td>J</td>\n",
       "      <td>Clark</td>\n",
       "      <td>1951-07-27</td>\n",
       "      <td>68.0</td>\n",
       "      <td>Female</td>\n",
       "      <td>Black</td>\n",
       "      <td>Reference person</td>\n",
       "      <td>1344 winoka rd  brooksville, fl</td>\n",
       "      <td>34601</td>\n",
       "    </tr>\n",
       "    <tr>\n",
       "      <th>1</th>\n",
       "      <td>Jeffrey</td>\n",
       "      <td>V</td>\n",
       "      <td>Littlejohn</td>\n",
       "      <td>1967-05-03</td>\n",
       "      <td>52.0</td>\n",
       "      <td>Male</td>\n",
       "      <td>Black</td>\n",
       "      <td>Reference person</td>\n",
       "      <td>927 23rd st  clearwater, fl</td>\n",
       "      <td>34698</td>\n",
       "    </tr>\n",
       "    <tr>\n",
       "      <th>2</th>\n",
       "      <td>Briana</td>\n",
       "      <td>A</td>\n",
       "      <td>Jackson</td>\n",
       "      <td>2006-09-07</td>\n",
       "      <td>13.0</td>\n",
       "      <td>Female</td>\n",
       "      <td>Black</td>\n",
       "      <td>Biological child</td>\n",
       "      <td>927 23rd st  clearwater, fl</td>\n",
       "      <td>34698</td>\n",
       "    </tr>\n",
       "    <tr>\n",
       "      <th>3</th>\n",
       "      <td>Benjamin</td>\n",
       "      <td>D</td>\n",
       "      <td>Cox</td>\n",
       "      <td>1998-10-21</td>\n",
       "      <td>21.0</td>\n",
       "      <td>Male</td>\n",
       "      <td>Black</td>\n",
       "      <td>Stepchild</td>\n",
       "      <td>927 23rd st  clearwater, fl</td>\n",
       "      <td>34698</td>\n",
       "    </tr>\n",
       "    <tr>\n",
       "      <th>4</th>\n",
       "      <td>Willie</td>\n",
       "      <td>J</td>\n",
       "      <td>Tucker</td>\n",
       "      <td>1947-10-09</td>\n",
       "      <td>72.0</td>\n",
       "      <td>Male</td>\n",
       "      <td>White</td>\n",
       "      <td>Reference person</td>\n",
       "      <td>8904 167th place  fleming island, fl</td>\n",
       "      <td>32003</td>\n",
       "    </tr>\n",
       "    <tr>\n",
       "      <th>...</th>\n",
       "      <td>...</td>\n",
       "      <td>...</td>\n",
       "      <td>...</td>\n",
       "      <td>...</td>\n",
       "      <td>...</td>\n",
       "      <td>...</td>\n",
       "      <td>...</td>\n",
       "      <td>...</td>\n",
       "      <td>...</td>\n",
       "      <td>...</td>\n",
       "    </tr>\n",
       "    <tr>\n",
       "      <th>49995</th>\n",
       "      <td>Brian</td>\n",
       "      <td>N</td>\n",
       "      <td>Roberts</td>\n",
       "      <td>1984-07-05</td>\n",
       "      <td>35.0</td>\n",
       "      <td>Male</td>\n",
       "      <td>White</td>\n",
       "      <td>Institutionalized GQ pop</td>\n",
       "      <td>114 s frnt st  fort myers, fl</td>\n",
       "      <td>33919</td>\n",
       "    </tr>\n",
       "    <tr>\n",
       "      <th>49996</th>\n",
       "      <td>Nathaniel</td>\n",
       "      <td>J</td>\n",
       "      <td>Campbell</td>\n",
       "      <td>1941-01-08</td>\n",
       "      <td>79.0</td>\n",
       "      <td>Male</td>\n",
       "      <td>White</td>\n",
       "      <td>Institutionalized GQ pop</td>\n",
       "      <td>2210 henn hyde rd ne  hollywood, fl</td>\n",
       "      <td>33021</td>\n",
       "    </tr>\n",
       "    <tr>\n",
       "      <th>49997</th>\n",
       "      <td>Christian</td>\n",
       "      <td>C</td>\n",
       "      <td>Rosales</td>\n",
       "      <td>1983-12-16</td>\n",
       "      <td>36.0</td>\n",
       "      <td>Male</td>\n",
       "      <td>Latino</td>\n",
       "      <td>Institutionalized GQ pop</td>\n",
       "      <td>701 haber rd  vero beach, fl</td>\n",
       "      <td>32968</td>\n",
       "    </tr>\n",
       "    <tr>\n",
       "      <th>49998</th>\n",
       "      <td>Phillip</td>\n",
       "      <td>J</td>\n",
       "      <td>Morton</td>\n",
       "      <td>1985-06-11</td>\n",
       "      <td>34.0</td>\n",
       "      <td>Male</td>\n",
       "      <td>White</td>\n",
       "      <td>Institutionalized GQ pop</td>\n",
       "      <td>114 s frnt st  fort myers, fl</td>\n",
       "      <td>33919</td>\n",
       "    </tr>\n",
       "    <tr>\n",
       "      <th>49999</th>\n",
       "      <td>Catherine</td>\n",
       "      <td>H</td>\n",
       "      <td>Talley</td>\n",
       "      <td>1928-08-14</td>\n",
       "      <td>91.0</td>\n",
       "      <td>Female</td>\n",
       "      <td>Black</td>\n",
       "      <td>Institutionalized GQ pop</td>\n",
       "      <td>701 haber rd  vero beach, fl</td>\n",
       "      <td>32968</td>\n",
       "    </tr>\n",
       "  </tbody>\n",
       "</table>\n",
       "<p>47530 rows × 10 columns</p>\n",
       "</div>"
      ],
      "text/plain": [
       "      first_name middle_initial   last_name date_of_birth   age     sex  \\\n",
       "0       Margaret              J       Clark    1951-07-27  68.0  Female   \n",
       "1        Jeffrey              V  Littlejohn    1967-05-03  52.0    Male   \n",
       "2         Briana              A     Jackson    2006-09-07  13.0  Female   \n",
       "3       Benjamin              D         Cox    1998-10-21  21.0    Male   \n",
       "4         Willie              J      Tucker    1947-10-09  72.0    Male   \n",
       "...          ...            ...         ...           ...   ...     ...   \n",
       "49995      Brian              N     Roberts    1984-07-05  35.0    Male   \n",
       "49996  Nathaniel              J    Campbell    1941-01-08  79.0    Male   \n",
       "49997  Christian              C     Rosales    1983-12-16  36.0    Male   \n",
       "49998    Phillip              J      Morton    1985-06-11  34.0    Male   \n",
       "49999  Catherine              H      Talley    1928-08-14  91.0  Female   \n",
       "\n",
       "      race_ethnicity relation_to_household_head  \\\n",
       "0              Black           Reference person   \n",
       "1              Black           Reference person   \n",
       "2              Black           Biological child   \n",
       "3              Black                  Stepchild   \n",
       "4              White           Reference person   \n",
       "...              ...                        ...   \n",
       "49995          White   Institutionalized GQ pop   \n",
       "49996          White   Institutionalized GQ pop   \n",
       "49997         Latino   Institutionalized GQ pop   \n",
       "49998          White   Institutionalized GQ pop   \n",
       "49999          Black   Institutionalized GQ pop   \n",
       "\n",
       "                                    address zipcode  \n",
       "0           1344 winoka rd  brooksville, fl   34601  \n",
       "1               927 23rd st  clearwater, fl   34698  \n",
       "2               927 23rd st  clearwater, fl   34698  \n",
       "3               927 23rd st  clearwater, fl   34698  \n",
       "4      8904 167th place  fleming island, fl   32003  \n",
       "...                                     ...     ...  \n",
       "49995         114 s frnt st  fort myers, fl   33919  \n",
       "49996   2210 henn hyde rd ne  hollywood, fl   33021  \n",
       "49997          701 haber rd  vero beach, fl   32968  \n",
       "49998         114 s frnt st  fort myers, fl   33919  \n",
       "49999          701 haber rd  vero beach, fl   32968  \n",
       "\n",
       "[47530 rows x 10 columns]"
      ]
     },
     "execution_count": 49,
     "metadata": {},
     "output_type": "execute_result"
    }
   ],
   "source": [
    "def apply_noise_to_column(\n",
    "    df, colname, row_prob, rng, noise_function, args=(), kwargs={}, inplace=False\n",
    "):\n",
    "    if not inplace:\n",
    "        df = df.copy()\n",
    "    \"\"\"Apply a noise function that operates on scalars to a fraction of\n",
    "    rows in a single column. Modifies column in place.\n",
    "    \"\"\"\n",
    "    corrupted = rng.random(len(df)) < row_prob\n",
    "    df.loc[corrupted, colname] = df.loc[corrupted, colname].map(\n",
    "        lambda x: noise_function(x, *args, **kwargs))\n",
    "    if not inplace:\n",
    "        return df\n",
    "        \n",
    "def apply_vectorized_noise_to_column(\n",
    "    df, colname, row_prob, rng, noise_function, args=(), kwargs={}, inplace=False\n",
    "):\n",
    "    if not inplace:\n",
    "        df = df.copy()\n",
    "    corrupted = rng.random(len(df)) < row_prob\n",
    "    df.loc[corrupted, colname] = noise_function(df.loc[corrupted, colname], *args, **kwargs)\n",
    "    if not inplace:\n",
    "        return df\n",
    "\n",
    "def add_noise_to_census(df_census, random_state):\n",
    "    rng = np.random.default_rng(random_state)\n",
    "    # Copy the dataframe since we're going to alter it\n",
    "    df_census = df_census.copy()\n",
    "    \n",
    "    # First name\n",
    "    apply_noise_to_column(\n",
    "        df_census, 'first_name', 0.01, rng,\n",
    "        corruption.keyboard_corrupt, (0.05, 0.02), inplace=True)\n",
    "    apply_noise_to_column(\n",
    "        df_census, 'first_name', 0.001, rng,\n",
    "        corruption.phonetic_corrupt, (0.05,), inplace=True)\n",
    "    \n",
    "    # Last name\n",
    "    apply_noise_to_column(\n",
    "        df_census, 'last_name', 0.01, rng,\n",
    "        corruption.keyboard_corrupt, (0.05, 0.02), inplace=True)\n",
    "    apply_noise_to_column(\n",
    "        df_census, 'last_name', 0.001, rng,\n",
    "        corruption.phonetic_corrupt, (0.05,), inplace=True)\n",
    "    \n",
    "    # Date of birth\n",
    "    apply_vectorized_noise_to_column(\n",
    "        df_census, 'date_of_birth', 0.005, rng, swap_month_day, inplace=True)\n",
    "    apply_noise_to_column(\n",
    "        df_census, 'date_of_birth', 0.01, rng,\n",
    "        corruption.keyboard_corrupt, (0.05, 0.02), inplace=True)\n",
    "    \n",
    "    # Zipcode\n",
    "#     apply_noise_to_column(\n",
    "#         df_census, 'zipcode', 0.01, rng,\n",
    "#         miswrite_zipcode, (0.1, 0.2, rng), inplace=True)\n",
    "    apply_vectorized_noise_to_column(\n",
    "        df_census, 'zipcode', 0.01, rng,\n",
    "        miswrite_zipcode_vec, (0.1, 0.2, rng), inplace=True)\n",
    "    apply_noise_to_column(\n",
    "        df_census, 'zipcode', .01, rng,\n",
    "        corruption.keyboard_corrupt, (0.05, 0.02), inplace=True)\n",
    "    \n",
    "    # Address\n",
    "    apply_noise_to_column(\n",
    "        df_census, 'address', 0.002, rng,\n",
    "        corruption.keyboard_corrupt, (0.05, 0.02), inplace=True)\n",
    "    apply_noise_to_column(\n",
    "        df_census, 'address', 0.005, rng,\n",
    "        corruption.phonetic_corrupt, (0.05,), inplace=True)\n",
    "    \n",
    "    # Sex\n",
    "    ...\n",
    "    \n",
    "    # Age\n",
    "    ...\n",
    "    \n",
    "    # Race/Ethnicity\n",
    "    ...\n",
    "    \n",
    "    # Middle initial\n",
    "    ...\n",
    "    \n",
    "    return df_census\n",
    "    \n",
    "df_census_noisy = add_noise_to_census(df_census_zip5, rng)\n",
    "df_census_noisy"
   ]
  },
  {
   "cell_type": "code",
   "execution_count": 50,
   "id": "f710cad7",
   "metadata": {},
   "outputs": [
    {
     "data": {
      "text/html": [
       "<div>\n",
       "<style scoped>\n",
       "    .dataframe tbody tr th:only-of-type {\n",
       "        vertical-align: middle;\n",
       "    }\n",
       "\n",
       "    .dataframe tbody tr th {\n",
       "        vertical-align: top;\n",
       "    }\n",
       "\n",
       "    .dataframe thead tr th {\n",
       "        text-align: left;\n",
       "    }\n",
       "</style>\n",
       "<table border=\"1\" class=\"dataframe\">\n",
       "  <thead>\n",
       "    <tr>\n",
       "      <th></th>\n",
       "      <th colspan=\"2\" halign=\"left\">first_name</th>\n",
       "      <th colspan=\"2\" halign=\"left\">last_name</th>\n",
       "      <th colspan=\"2\" halign=\"left\">date_of_birth</th>\n",
       "      <th colspan=\"2\" halign=\"left\">address</th>\n",
       "      <th colspan=\"2\" halign=\"left\">zipcode</th>\n",
       "    </tr>\n",
       "    <tr>\n",
       "      <th></th>\n",
       "      <th>self</th>\n",
       "      <th>other</th>\n",
       "      <th>self</th>\n",
       "      <th>other</th>\n",
       "      <th>self</th>\n",
       "      <th>other</th>\n",
       "      <th>self</th>\n",
       "      <th>other</th>\n",
       "      <th>self</th>\n",
       "      <th>other</th>\n",
       "    </tr>\n",
       "  </thead>\n",
       "  <tbody>\n",
       "    <tr>\n",
       "      <th>6</th>\n",
       "      <td>Judy</td>\n",
       "      <td>Juwy</td>\n",
       "      <td>NaN</td>\n",
       "      <td>NaN</td>\n",
       "      <td>NaN</td>\n",
       "      <td>NaN</td>\n",
       "      <td>NaN</td>\n",
       "      <td>NaN</td>\n",
       "      <td>NaN</td>\n",
       "      <td>NaN</td>\n",
       "    </tr>\n",
       "    <tr>\n",
       "      <th>154</th>\n",
       "      <td>NaN</td>\n",
       "      <td>NaN</td>\n",
       "      <td>NaN</td>\n",
       "      <td>NaN</td>\n",
       "      <td>NaN</td>\n",
       "      <td>NaN</td>\n",
       "      <td>NaN</td>\n",
       "      <td>NaN</td>\n",
       "      <td>33993</td>\n",
       "      <td>23993</td>\n",
       "    </tr>\n",
       "    <tr>\n",
       "      <th>245</th>\n",
       "      <td>NaN</td>\n",
       "      <td>NaN</td>\n",
       "      <td>NaN</td>\n",
       "      <td>NaN</td>\n",
       "      <td>NaN</td>\n",
       "      <td>NaN</td>\n",
       "      <td>NaN</td>\n",
       "      <td>NaN</td>\n",
       "      <td>33411</td>\n",
       "      <td>33414</td>\n",
       "    </tr>\n",
       "    <tr>\n",
       "      <th>304</th>\n",
       "      <td>NaN</td>\n",
       "      <td>NaN</td>\n",
       "      <td>NaN</td>\n",
       "      <td>NaN</td>\n",
       "      <td>NaN</td>\n",
       "      <td>NaN</td>\n",
       "      <td>NaN</td>\n",
       "      <td>NaN</td>\n",
       "      <td>32541</td>\n",
       "      <td>32546</td>\n",
       "    </tr>\n",
       "    <tr>\n",
       "      <th>366</th>\n",
       "      <td>NaN</td>\n",
       "      <td>NaN</td>\n",
       "      <td>NaN</td>\n",
       "      <td>NaN</td>\n",
       "      <td>1929-05-15</td>\n",
       "      <td>1959-05-15</td>\n",
       "      <td>NaN</td>\n",
       "      <td>NaN</td>\n",
       "      <td>NaN</td>\n",
       "      <td>NaN</td>\n",
       "    </tr>\n",
       "    <tr>\n",
       "      <th>...</th>\n",
       "      <td>...</td>\n",
       "      <td>...</td>\n",
       "      <td>...</td>\n",
       "      <td>...</td>\n",
       "      <td>...</td>\n",
       "      <td>...</td>\n",
       "      <td>...</td>\n",
       "      <td>...</td>\n",
       "      <td>...</td>\n",
       "      <td>...</td>\n",
       "    </tr>\n",
       "    <tr>\n",
       "      <th>49798</th>\n",
       "      <td>NaN</td>\n",
       "      <td>NaN</td>\n",
       "      <td>NaN</td>\n",
       "      <td>NaN</td>\n",
       "      <td>NaN</td>\n",
       "      <td>NaN</td>\n",
       "      <td>NaN</td>\n",
       "      <td>NaN</td>\n",
       "      <td>33021</td>\n",
       "      <td>33025</td>\n",
       "    </tr>\n",
       "    <tr>\n",
       "      <th>49844</th>\n",
       "      <td>George</td>\n",
       "      <td>Gekrge</td>\n",
       "      <td>NaN</td>\n",
       "      <td>NaN</td>\n",
       "      <td>NaN</td>\n",
       "      <td>NaN</td>\n",
       "      <td>NaN</td>\n",
       "      <td>NaN</td>\n",
       "      <td>NaN</td>\n",
       "      <td>NaN</td>\n",
       "    </tr>\n",
       "    <tr>\n",
       "      <th>49845</th>\n",
       "      <td>Gracie</td>\n",
       "      <td>Graciwe</td>\n",
       "      <td>NaN</td>\n",
       "      <td>NaN</td>\n",
       "      <td>NaN</td>\n",
       "      <td>NaN</td>\n",
       "      <td>NaN</td>\n",
       "      <td>NaN</td>\n",
       "      <td>NaN</td>\n",
       "      <td>NaN</td>\n",
       "    </tr>\n",
       "    <tr>\n",
       "      <th>49896</th>\n",
       "      <td>NaN</td>\n",
       "      <td>NaN</td>\n",
       "      <td>NaN</td>\n",
       "      <td>NaN</td>\n",
       "      <td>2002-01-10</td>\n",
       "      <td>2002-10-01</td>\n",
       "      <td>NaN</td>\n",
       "      <td>NaN</td>\n",
       "      <td>NaN</td>\n",
       "      <td>NaN</td>\n",
       "    </tr>\n",
       "    <tr>\n",
       "      <th>49989</th>\n",
       "      <td>NaN</td>\n",
       "      <td>NaN</td>\n",
       "      <td>NaN</td>\n",
       "      <td>NaN</td>\n",
       "      <td>NaN</td>\n",
       "      <td>NaN</td>\n",
       "      <td>2210 henn hyde rd ne  hollywood, fl</td>\n",
       "      <td>2210 hnn hyde rt ne  hollywood, fl</td>\n",
       "      <td>NaN</td>\n",
       "      <td>NaN</td>\n",
       "    </tr>\n",
       "  </tbody>\n",
       "</table>\n",
       "<p>1163 rows × 10 columns</p>\n",
       "</div>"
      ],
      "text/plain": [
       "      first_name          last_name       date_of_birth              \\\n",
       "            self    other      self other          self       other   \n",
       "6           Judy     Juwy       NaN   NaN           NaN         NaN   \n",
       "154          NaN      NaN       NaN   NaN           NaN         NaN   \n",
       "245          NaN      NaN       NaN   NaN           NaN         NaN   \n",
       "304          NaN      NaN       NaN   NaN           NaN         NaN   \n",
       "366          NaN      NaN       NaN   NaN    1929-05-15  1959-05-15   \n",
       "...          ...      ...       ...   ...           ...         ...   \n",
       "49798        NaN      NaN       NaN   NaN           NaN         NaN   \n",
       "49844     George   Gekrge       NaN   NaN           NaN         NaN   \n",
       "49845     Gracie  Graciwe       NaN   NaN           NaN         NaN   \n",
       "49896        NaN      NaN       NaN   NaN    2002-01-10  2002-10-01   \n",
       "49989        NaN      NaN       NaN   NaN           NaN         NaN   \n",
       "\n",
       "                                   address  \\\n",
       "                                      self   \n",
       "6                                      NaN   \n",
       "154                                    NaN   \n",
       "245                                    NaN   \n",
       "304                                    NaN   \n",
       "366                                    NaN   \n",
       "...                                    ...   \n",
       "49798                                  NaN   \n",
       "49844                                  NaN   \n",
       "49845                                  NaN   \n",
       "49896                                  NaN   \n",
       "49989  2210 henn hyde rd ne  hollywood, fl   \n",
       "\n",
       "                                          zipcode         \n",
       "                                    other    self  other  \n",
       "6                                     NaN     NaN    NaN  \n",
       "154                                   NaN   33993  23993  \n",
       "245                                   NaN   33411  33414  \n",
       "304                                   NaN   32541  32546  \n",
       "366                                   NaN     NaN    NaN  \n",
       "...                                   ...     ...    ...  \n",
       "49798                                 NaN   33021  33025  \n",
       "49844                                 NaN     NaN    NaN  \n",
       "49845                                 NaN     NaN    NaN  \n",
       "49896                                 NaN     NaN    NaN  \n",
       "49989  2210 hnn hyde rt ne  hollywood, fl     NaN    NaN  \n",
       "\n",
       "[1163 rows x 10 columns]"
      ]
     },
     "execution_count": 50,
     "metadata": {},
     "output_type": "execute_result"
    }
   ],
   "source": [
    "df_census_zip5.compare(df_census_noisy)"
   ]
  },
  {
   "cell_type": "markdown",
   "id": "d94104c0",
   "metadata": {},
   "source": [
    "## Debugging\n",
    "\n",
    "I found 2 bugs:\n",
    "\n",
    "1. Abie's `keyboard_corrupt` function had accidentally used `phonetic_error_dict` instead of `qwerty_error_dict` when looking up characters, so It wasn't adding any noise to zipcodes because numbers weren't in the phonetic dictionary.\n",
    "\n",
    "2. There were NaN's in some of the noised zipcodes because I hadn't specified the correct index when converting the NumPy array back to a Series in the `miswrite_zipcode_vec` function."
   ]
  },
  {
   "cell_type": "code",
   "execution_count": 51,
   "id": "8fc82b6b",
   "metadata": {},
   "outputs": [
    {
     "data": {
      "text/plain": [
       "'33919'"
      ]
     },
     "execution_count": 51,
     "metadata": {},
     "output_type": "execute_result"
    }
   ],
   "source": [
    "df_census_noisy.loc[49740, 'zipcode']"
   ]
  },
  {
   "cell_type": "code",
   "execution_count": 52,
   "id": "1326c1ca",
   "metadata": {},
   "outputs": [
    {
     "data": {
      "text/plain": [
       "0    [, 3, 3, 9, 1, 9, ]\n",
       "dtype: object"
      ]
     },
     "execution_count": 52,
     "metadata": {},
     "output_type": "execute_result"
    }
   ],
   "source": [
    "pd.Series('33919').str.split('')"
   ]
  },
  {
   "cell_type": "code",
   "execution_count": 53,
   "id": "5686f9c6",
   "metadata": {},
   "outputs": [
    {
     "data": {
      "text/plain": [
       "0"
      ]
     },
     "execution_count": 53,
     "metadata": {},
     "output_type": "execute_result"
    }
   ],
   "source": [
    "df_census_noisy['zipcode'].isna().sum()"
   ]
  },
  {
   "cell_type": "code",
   "execution_count": 54,
   "id": "289937cb",
   "metadata": {},
   "outputs": [
    {
     "data": {
      "text/html": [
       "<div>\n",
       "<style scoped>\n",
       "    .dataframe tbody tr th:only-of-type {\n",
       "        vertical-align: middle;\n",
       "    }\n",
       "\n",
       "    .dataframe tbody tr th {\n",
       "        vertical-align: top;\n",
       "    }\n",
       "\n",
       "    .dataframe thead th {\n",
       "        text-align: right;\n",
       "    }\n",
       "</style>\n",
       "<table border=\"1\" class=\"dataframe\">\n",
       "  <thead>\n",
       "    <tr style=\"text-align: right;\">\n",
       "      <th></th>\n",
       "      <th>self</th>\n",
       "      <th>other</th>\n",
       "    </tr>\n",
       "  </thead>\n",
       "  <tbody>\n",
       "    <tr>\n",
       "      <th>154</th>\n",
       "      <td>33993</td>\n",
       "      <td>23993</td>\n",
       "    </tr>\n",
       "    <tr>\n",
       "      <th>245</th>\n",
       "      <td>33411</td>\n",
       "      <td>33414</td>\n",
       "    </tr>\n",
       "    <tr>\n",
       "      <th>304</th>\n",
       "      <td>32541</td>\n",
       "      <td>32546</td>\n",
       "    </tr>\n",
       "    <tr>\n",
       "      <th>442</th>\n",
       "      <td>34734</td>\n",
       "      <td>28734</td>\n",
       "    </tr>\n",
       "    <tr>\n",
       "      <th>503</th>\n",
       "      <td>32222</td>\n",
       "      <td>32221</td>\n",
       "    </tr>\n",
       "    <tr>\n",
       "      <th>...</th>\n",
       "      <td>...</td>\n",
       "      <td>...</td>\n",
       "    </tr>\n",
       "    <tr>\n",
       "      <th>49151</th>\n",
       "      <td>32968</td>\n",
       "      <td>31968</td>\n",
       "    </tr>\n",
       "    <tr>\n",
       "      <th>49687</th>\n",
       "      <td>33919</td>\n",
       "      <td>33998</td>\n",
       "    </tr>\n",
       "    <tr>\n",
       "      <th>49689</th>\n",
       "      <td>33021</td>\n",
       "      <td>80021</td>\n",
       "    </tr>\n",
       "    <tr>\n",
       "      <th>49772</th>\n",
       "      <td>32968</td>\n",
       "      <td>35668</td>\n",
       "    </tr>\n",
       "    <tr>\n",
       "      <th>49798</th>\n",
       "      <td>33021</td>\n",
       "      <td>33025</td>\n",
       "    </tr>\n",
       "  </tbody>\n",
       "</table>\n",
       "<p>326 rows × 2 columns</p>\n",
       "</div>"
      ],
      "text/plain": [
       "        self  other\n",
       "154    33993  23993\n",
       "245    33411  33414\n",
       "304    32541  32546\n",
       "442    34734  28734\n",
       "503    32222  32221\n",
       "...      ...    ...\n",
       "49151  32968  31968\n",
       "49687  33919  33998\n",
       "49689  33021  80021\n",
       "49772  32968  35668\n",
       "49798  33021  33025\n",
       "\n",
       "[326 rows x 2 columns]"
      ]
     },
     "execution_count": 54,
     "metadata": {},
     "output_type": "execute_result"
    }
   ],
   "source": [
    "df_census.loc[five_digit_zip, 'zipcode'].compare(df_census_noisy['zipcode'])"
   ]
  },
  {
   "cell_type": "code",
   "execution_count": 55,
   "id": "cbbfa7e9",
   "metadata": {},
   "outputs": [
    {
     "data": {
      "text/plain": [
       "'5353592189'"
      ]
     },
     "execution_count": 55,
     "metadata": {},
     "output_type": "execute_result"
    }
   ],
   "source": [
    "corruption.keyboard_corrupt('33919', 1, 1)"
   ]
  },
  {
   "cell_type": "code",
   "execution_count": 56,
   "id": "2f7771ea",
   "metadata": {},
   "outputs": [
    {
     "data": {
      "text/plain": [
       "'qa23xdlk47'"
      ]
     },
     "execution_count": 56,
     "metadata": {},
     "output_type": "execute_result"
    }
   ],
   "source": [
    "corruption.keyboard_corrupt('a3dk7', 1, 1)"
   ]
  },
  {
   "cell_type": "code",
   "execution_count": 57,
   "id": "28c0d803",
   "metadata": {},
   "outputs": [
    {
     "data": {
      "text/plain": [
       "True"
      ]
     },
     "execution_count": 57,
     "metadata": {},
     "output_type": "execute_result"
    }
   ],
   "source": [
    "'3' in corruption.qwerty_error_dict"
   ]
  },
  {
   "cell_type": "code",
   "execution_count": 58,
   "id": "c6910748",
   "metadata": {},
   "outputs": [
    {
     "data": {
      "text/plain": [
       "[True, True, True, True, True]"
      ]
     },
     "execution_count": 58,
     "metadata": {},
     "output_type": "execute_result"
    }
   ],
   "source": [
    "[d in corruption.qwerty_error_dict for d in '33919']"
   ]
  },
  {
   "cell_type": "code",
   "execution_count": 59,
   "id": "41916317",
   "metadata": {},
   "outputs": [
    {
     "data": {
      "text/plain": [
       "0        34691\n",
       "1        34698\n",
       "2        34698\n",
       "3        34698\n",
       "4        32004\n",
       "         ...  \n",
       "49995    33989\n",
       "49996    33021\n",
       "49997    32968\n",
       "49998    33919\n",
       "49999    32963\n",
       "Name: zipcode, Length: 47530, dtype: object"
      ]
     },
     "execution_count": 59,
     "metadata": {},
     "output_type": "execute_result"
    }
   ],
   "source": [
    "zip1 = miswrite_zipcode_vec(df_census_zip5['zipcode'], 0.1, 0.2, rng)\n",
    "zip1"
   ]
  },
  {
   "cell_type": "code",
   "execution_count": 60,
   "id": "8e92e1b4",
   "metadata": {},
   "outputs": [
    {
     "data": {
      "text/plain": [
       "0"
      ]
     },
     "execution_count": 60,
     "metadata": {},
     "output_type": "execute_result"
    }
   ],
   "source": [
    "zip1.isna().sum()"
   ]
  },
  {
   "cell_type": "code",
   "execution_count": 61,
   "id": "a0e5da35",
   "metadata": {},
   "outputs": [
    {
     "data": {
      "text/html": [
       "<div>\n",
       "<style scoped>\n",
       "    .dataframe tbody tr th:only-of-type {\n",
       "        vertical-align: middle;\n",
       "    }\n",
       "\n",
       "    .dataframe tbody tr th {\n",
       "        vertical-align: top;\n",
       "    }\n",
       "\n",
       "    .dataframe thead th {\n",
       "        text-align: right;\n",
       "    }\n",
       "</style>\n",
       "<table border=\"1\" class=\"dataframe\">\n",
       "  <thead>\n",
       "    <tr style=\"text-align: right;\">\n",
       "      <th></th>\n",
       "      <th>first_name</th>\n",
       "      <th>middle_initial</th>\n",
       "      <th>last_name</th>\n",
       "      <th>date_of_birth</th>\n",
       "      <th>age</th>\n",
       "      <th>sex</th>\n",
       "      <th>race_ethnicity</th>\n",
       "      <th>relation_to_household_head</th>\n",
       "      <th>address</th>\n",
       "      <th>zipcode</th>\n",
       "    </tr>\n",
       "  </thead>\n",
       "  <tbody>\n",
       "    <tr>\n",
       "      <th>0</th>\n",
       "      <td>Margaret</td>\n",
       "      <td>J</td>\n",
       "      <td>Clark</td>\n",
       "      <td>1951-07-27</td>\n",
       "      <td>68.0</td>\n",
       "      <td>Female</td>\n",
       "      <td>Black</td>\n",
       "      <td>Reference person</td>\n",
       "      <td>1344 winoka rd  brooksville, fl</td>\n",
       "      <td>34689</td>\n",
       "    </tr>\n",
       "    <tr>\n",
       "      <th>1</th>\n",
       "      <td>Jeffrey</td>\n",
       "      <td>V</td>\n",
       "      <td>Littlejohn</td>\n",
       "      <td>1967-05-03</td>\n",
       "      <td>52.0</td>\n",
       "      <td>Male</td>\n",
       "      <td>Black</td>\n",
       "      <td>Reference person</td>\n",
       "      <td>927 23rd st  clearwater, fl</td>\n",
       "      <td>34691</td>\n",
       "    </tr>\n",
       "    <tr>\n",
       "      <th>2</th>\n",
       "      <td>Briana</td>\n",
       "      <td>A</td>\n",
       "      <td>Jackson</td>\n",
       "      <td>2006-09-07</td>\n",
       "      <td>13.0</td>\n",
       "      <td>Female</td>\n",
       "      <td>Black</td>\n",
       "      <td>Biological child</td>\n",
       "      <td>927 23rd st  clearwater, fl</td>\n",
       "      <td>34698</td>\n",
       "    </tr>\n",
       "    <tr>\n",
       "      <th>3</th>\n",
       "      <td>Benjamin</td>\n",
       "      <td>D</td>\n",
       "      <td>Cox</td>\n",
       "      <td>1998-10-21</td>\n",
       "      <td>21.0</td>\n",
       "      <td>Male</td>\n",
       "      <td>Black</td>\n",
       "      <td>Stepchild</td>\n",
       "      <td>927 23rd st  clearwater, fl</td>\n",
       "      <td>34098</td>\n",
       "    </tr>\n",
       "    <tr>\n",
       "      <th>4</th>\n",
       "      <td>Willie</td>\n",
       "      <td>J</td>\n",
       "      <td>Tucker</td>\n",
       "      <td>1947-10-09</td>\n",
       "      <td>72.0</td>\n",
       "      <td>Male</td>\n",
       "      <td>White</td>\n",
       "      <td>Reference person</td>\n",
       "      <td>8904 167th place  fleming island, fl</td>\n",
       "      <td>32912</td>\n",
       "    </tr>\n",
       "    <tr>\n",
       "      <th>...</th>\n",
       "      <td>...</td>\n",
       "      <td>...</td>\n",
       "      <td>...</td>\n",
       "      <td>...</td>\n",
       "      <td>...</td>\n",
       "      <td>...</td>\n",
       "      <td>...</td>\n",
       "      <td>...</td>\n",
       "      <td>...</td>\n",
       "      <td>...</td>\n",
       "    </tr>\n",
       "    <tr>\n",
       "      <th>49995</th>\n",
       "      <td>Brian</td>\n",
       "      <td>N</td>\n",
       "      <td>Roberts</td>\n",
       "      <td>1984-07-05</td>\n",
       "      <td>35.0</td>\n",
       "      <td>Male</td>\n",
       "      <td>White</td>\n",
       "      <td>Institutionalized GQ pop</td>\n",
       "      <td>114 s frnt st  fort myers, fl</td>\n",
       "      <td>33919</td>\n",
       "    </tr>\n",
       "    <tr>\n",
       "      <th>49996</th>\n",
       "      <td>Nathaniel</td>\n",
       "      <td>J</td>\n",
       "      <td>Campbell</td>\n",
       "      <td>1941-01-08</td>\n",
       "      <td>79.0</td>\n",
       "      <td>Male</td>\n",
       "      <td>White</td>\n",
       "      <td>Institutionalized GQ pop</td>\n",
       "      <td>2210 henn hyde rd ne  hollywood, fl</td>\n",
       "      <td>33021</td>\n",
       "    </tr>\n",
       "    <tr>\n",
       "      <th>49997</th>\n",
       "      <td>Christian</td>\n",
       "      <td>C</td>\n",
       "      <td>Rosales</td>\n",
       "      <td>1983-12-16</td>\n",
       "      <td>36.0</td>\n",
       "      <td>Male</td>\n",
       "      <td>Latino</td>\n",
       "      <td>Institutionalized GQ pop</td>\n",
       "      <td>701 haber rd  vero beach, fl</td>\n",
       "      <td>32768</td>\n",
       "    </tr>\n",
       "    <tr>\n",
       "      <th>49998</th>\n",
       "      <td>Phillip</td>\n",
       "      <td>J</td>\n",
       "      <td>Morton</td>\n",
       "      <td>1985-06-11</td>\n",
       "      <td>34.0</td>\n",
       "      <td>Male</td>\n",
       "      <td>White</td>\n",
       "      <td>Institutionalized GQ pop</td>\n",
       "      <td>114 s frnt st  fort myers, fl</td>\n",
       "      <td>33949</td>\n",
       "    </tr>\n",
       "    <tr>\n",
       "      <th>49999</th>\n",
       "      <td>Catherine</td>\n",
       "      <td>H</td>\n",
       "      <td>Talley</td>\n",
       "      <td>1928-08-14</td>\n",
       "      <td>91.0</td>\n",
       "      <td>Female</td>\n",
       "      <td>Black</td>\n",
       "      <td>Institutionalized GQ pop</td>\n",
       "      <td>701 haber rd  vero beach, fl</td>\n",
       "      <td>31968</td>\n",
       "    </tr>\n",
       "  </tbody>\n",
       "</table>\n",
       "<p>47530 rows × 10 columns</p>\n",
       "</div>"
      ],
      "text/plain": [
       "      first_name middle_initial   last_name date_of_birth   age     sex  \\\n",
       "0       Margaret              J       Clark    1951-07-27  68.0  Female   \n",
       "1        Jeffrey              V  Littlejohn    1967-05-03  52.0    Male   \n",
       "2         Briana              A     Jackson    2006-09-07  13.0  Female   \n",
       "3       Benjamin              D         Cox    1998-10-21  21.0    Male   \n",
       "4         Willie              J      Tucker    1947-10-09  72.0    Male   \n",
       "...          ...            ...         ...           ...   ...     ...   \n",
       "49995      Brian              N     Roberts    1984-07-05  35.0    Male   \n",
       "49996  Nathaniel              J    Campbell    1941-01-08  79.0    Male   \n",
       "49997  Christian              C     Rosales    1983-12-16  36.0    Male   \n",
       "49998    Phillip              J      Morton    1985-06-11  34.0    Male   \n",
       "49999  Catherine              H      Talley    1928-08-14  91.0  Female   \n",
       "\n",
       "      race_ethnicity relation_to_household_head  \\\n",
       "0              Black           Reference person   \n",
       "1              Black           Reference person   \n",
       "2              Black           Biological child   \n",
       "3              Black                  Stepchild   \n",
       "4              White           Reference person   \n",
       "...              ...                        ...   \n",
       "49995          White   Institutionalized GQ pop   \n",
       "49996          White   Institutionalized GQ pop   \n",
       "49997         Latino   Institutionalized GQ pop   \n",
       "49998          White   Institutionalized GQ pop   \n",
       "49999          Black   Institutionalized GQ pop   \n",
       "\n",
       "                                    address zipcode  \n",
       "0           1344 winoka rd  brooksville, fl   34689  \n",
       "1               927 23rd st  clearwater, fl   34691  \n",
       "2               927 23rd st  clearwater, fl   34698  \n",
       "3               927 23rd st  clearwater, fl   34098  \n",
       "4      8904 167th place  fleming island, fl   32912  \n",
       "...                                     ...     ...  \n",
       "49995         114 s frnt st  fort myers, fl   33919  \n",
       "49996   2210 henn hyde rd ne  hollywood, fl   33021  \n",
       "49997          701 haber rd  vero beach, fl   32768  \n",
       "49998         114 s frnt st  fort myers, fl   33949  \n",
       "49999          701 haber rd  vero beach, fl   31968  \n",
       "\n",
       "[47530 rows x 10 columns]"
      ]
     },
     "execution_count": 61,
     "metadata": {},
     "output_type": "execute_result"
    }
   ],
   "source": [
    "zip2 = apply_vectorized_noise_to_column(\n",
    "        df_census_zip5, 'zipcode', 1, rng,\n",
    "        miswrite_zipcode_vec, (0.1, 0.2, rng))\n",
    "zip2"
   ]
  },
  {
   "cell_type": "code",
   "execution_count": 62,
   "id": "31bf2ac9",
   "metadata": {},
   "outputs": [
    {
     "data": {
      "text/html": [
       "<div>\n",
       "<style scoped>\n",
       "    .dataframe tbody tr th:only-of-type {\n",
       "        vertical-align: middle;\n",
       "    }\n",
       "\n",
       "    .dataframe tbody tr th {\n",
       "        vertical-align: top;\n",
       "    }\n",
       "\n",
       "    .dataframe thead th {\n",
       "        text-align: right;\n",
       "    }\n",
       "</style>\n",
       "<table border=\"1\" class=\"dataframe\">\n",
       "  <thead>\n",
       "    <tr style=\"text-align: right;\">\n",
       "      <th></th>\n",
       "      <th>first_name</th>\n",
       "      <th>middle_initial</th>\n",
       "      <th>last_name</th>\n",
       "      <th>date_of_birth</th>\n",
       "      <th>age</th>\n",
       "      <th>sex</th>\n",
       "      <th>race_ethnicity</th>\n",
       "      <th>relation_to_household_head</th>\n",
       "      <th>address</th>\n",
       "      <th>zipcode</th>\n",
       "    </tr>\n",
       "  </thead>\n",
       "  <tbody>\n",
       "  </tbody>\n",
       "</table>\n",
       "</div>"
      ],
      "text/plain": [
       "Empty DataFrame\n",
       "Columns: [first_name, middle_initial, last_name, date_of_birth, age, sex, race_ethnicity, relation_to_household_head, address, zipcode]\n",
       "Index: []"
      ]
     },
     "execution_count": 62,
     "metadata": {},
     "output_type": "execute_result"
    }
   ],
   "source": [
    "zip2.loc[zip2['zipcode'].isna()]"
   ]
  },
  {
   "cell_type": "markdown",
   "id": "dae3ef0e",
   "metadata": {},
   "source": [
    "# Testing, Testing, 1,2,3\n",
    "\n",
    "## Test census generating function when state table contains dead simulants"
   ]
  },
  {
   "cell_type": "code",
   "execution_count": 63,
   "id": "ffa8843c",
   "metadata": {},
   "outputs": [
    {
     "name": "stdout",
     "output_type": "stream",
     "text": [
      "50000\n",
      "34919\n"
     ]
    },
    {
     "data": {
      "text/html": [
       "<div>\n",
       "<style scoped>\n",
       "    .dataframe tbody tr th:only-of-type {\n",
       "        vertical-align: middle;\n",
       "    }\n",
       "\n",
       "    .dataframe tbody tr th {\n",
       "        vertical-align: top;\n",
       "    }\n",
       "\n",
       "    .dataframe thead th {\n",
       "        text-align: right;\n",
       "    }\n",
       "</style>\n",
       "<table border=\"1\" class=\"dataframe\">\n",
       "  <thead>\n",
       "    <tr style=\"text-align: right;\">\n",
       "      <th></th>\n",
       "      <th>first_name</th>\n",
       "      <th>middle_initial</th>\n",
       "      <th>last_name</th>\n",
       "      <th>date_of_birth</th>\n",
       "      <th>age</th>\n",
       "      <th>sex</th>\n",
       "      <th>race_ethnicity</th>\n",
       "      <th>relation_to_household_head</th>\n",
       "      <th>address</th>\n",
       "      <th>zipcode</th>\n",
       "    </tr>\n",
       "  </thead>\n",
       "  <tbody>\n",
       "    <tr>\n",
       "      <th>0</th>\n",
       "      <td>Margaret</td>\n",
       "      <td>J</td>\n",
       "      <td>Clark</td>\n",
       "      <td>1951-07-27</td>\n",
       "      <td>68.0</td>\n",
       "      <td>Female</td>\n",
       "      <td>Black</td>\n",
       "      <td>Reference person</td>\n",
       "      <td>1344 winoka rd  brooksville, fl</td>\n",
       "      <td>34601</td>\n",
       "    </tr>\n",
       "    <tr>\n",
       "      <th>3</th>\n",
       "      <td>Benjamin</td>\n",
       "      <td>D</td>\n",
       "      <td>Cox</td>\n",
       "      <td>1998-10-21</td>\n",
       "      <td>21.0</td>\n",
       "      <td>Male</td>\n",
       "      <td>Black</td>\n",
       "      <td>Stepchild</td>\n",
       "      <td>927 23rd st  clearwater, fl</td>\n",
       "      <td>34698</td>\n",
       "    </tr>\n",
       "    <tr>\n",
       "      <th>5</th>\n",
       "      <td>Frank</td>\n",
       "      <td>C</td>\n",
       "      <td>Centers</td>\n",
       "      <td>1939-09-21</td>\n",
       "      <td>80.0</td>\n",
       "      <td>Male</td>\n",
       "      <td>White</td>\n",
       "      <td>Reference person</td>\n",
       "      <td>3478 claude douglas cir  jacksonville, fl</td>\n",
       "      <td>32218</td>\n",
       "    </tr>\n",
       "    <tr>\n",
       "      <th>6</th>\n",
       "      <td>Judy</td>\n",
       "      <td>R</td>\n",
       "      <td>Long</td>\n",
       "      <td>1939-06-01</td>\n",
       "      <td>80.0</td>\n",
       "      <td>Female</td>\n",
       "      <td>White</td>\n",
       "      <td>Opp-sex spouse</td>\n",
       "      <td>3478 claude douglas cir  jacksonville, fl</td>\n",
       "      <td>32218</td>\n",
       "    </tr>\n",
       "    <tr>\n",
       "      <th>7</th>\n",
       "      <td>Mark</td>\n",
       "      <td>B</td>\n",
       "      <td>Harmon</td>\n",
       "      <td>1953-04-06</td>\n",
       "      <td>66.0</td>\n",
       "      <td>Male</td>\n",
       "      <td>White</td>\n",
       "      <td>Reference person</td>\n",
       "      <td>94 perry rd  orlando, fl</td>\n",
       "      <td>32832</td>\n",
       "    </tr>\n",
       "    <tr>\n",
       "      <th>...</th>\n",
       "      <td>...</td>\n",
       "      <td>...</td>\n",
       "      <td>...</td>\n",
       "      <td>...</td>\n",
       "      <td>...</td>\n",
       "      <td>...</td>\n",
       "      <td>...</td>\n",
       "      <td>...</td>\n",
       "      <td>...</td>\n",
       "      <td>...</td>\n",
       "    </tr>\n",
       "    <tr>\n",
       "      <th>49994</th>\n",
       "      <td>Marcus</td>\n",
       "      <td>S</td>\n",
       "      <td>Roman</td>\n",
       "      <td>1988-07-08</td>\n",
       "      <td>31.0</td>\n",
       "      <td>Male</td>\n",
       "      <td>Multiracial or Other</td>\n",
       "      <td>Institutionalized GQ pop</td>\n",
       "      <td>2210 henn hyde rd ne  hollywood, fl</td>\n",
       "      <td>33021</td>\n",
       "    </tr>\n",
       "    <tr>\n",
       "      <th>49995</th>\n",
       "      <td>Brian</td>\n",
       "      <td>N</td>\n",
       "      <td>Roberts</td>\n",
       "      <td>1984-07-05</td>\n",
       "      <td>35.0</td>\n",
       "      <td>Male</td>\n",
       "      <td>White</td>\n",
       "      <td>Institutionalized GQ pop</td>\n",
       "      <td>114 s frnt st  fort myers, fl</td>\n",
       "      <td>33919</td>\n",
       "    </tr>\n",
       "    <tr>\n",
       "      <th>49996</th>\n",
       "      <td>Nathaniel</td>\n",
       "      <td>J</td>\n",
       "      <td>Campbell</td>\n",
       "      <td>1941-01-08</td>\n",
       "      <td>79.0</td>\n",
       "      <td>Male</td>\n",
       "      <td>White</td>\n",
       "      <td>Institutionalized GQ pop</td>\n",
       "      <td>2210 henn hyde rd ne  hollywood, fl</td>\n",
       "      <td>33021</td>\n",
       "    </tr>\n",
       "    <tr>\n",
       "      <th>49998</th>\n",
       "      <td>Phillip</td>\n",
       "      <td>J</td>\n",
       "      <td>Morton</td>\n",
       "      <td>1985-06-11</td>\n",
       "      <td>34.0</td>\n",
       "      <td>Male</td>\n",
       "      <td>White</td>\n",
       "      <td>Institutionalized GQ pop</td>\n",
       "      <td>114 s frnt st  fort myers, fl</td>\n",
       "      <td>33919</td>\n",
       "    </tr>\n",
       "    <tr>\n",
       "      <th>49999</th>\n",
       "      <td>Catherine</td>\n",
       "      <td>H</td>\n",
       "      <td>Talley</td>\n",
       "      <td>1928-08-14</td>\n",
       "      <td>91.0</td>\n",
       "      <td>Female</td>\n",
       "      <td>Black</td>\n",
       "      <td>Institutionalized GQ pop</td>\n",
       "      <td>701 haber rd  vero beach, fl</td>\n",
       "      <td>32968</td>\n",
       "    </tr>\n",
       "  </tbody>\n",
       "</table>\n",
       "<p>27965 rows × 10 columns</p>\n",
       "</div>"
      ],
      "text/plain": [
       "      first_name middle_initial last_name date_of_birth   age     sex  \\\n",
       "0       Margaret              J     Clark    1951-07-27  68.0  Female   \n",
       "3       Benjamin              D       Cox    1998-10-21  21.0    Male   \n",
       "5          Frank              C   Centers    1939-09-21  80.0    Male   \n",
       "6           Judy              R      Long    1939-06-01  80.0  Female   \n",
       "7           Mark              B    Harmon    1953-04-06  66.0    Male   \n",
       "...          ...            ...       ...           ...   ...     ...   \n",
       "49994     Marcus              S     Roman    1988-07-08  31.0    Male   \n",
       "49995      Brian              N   Roberts    1984-07-05  35.0    Male   \n",
       "49996  Nathaniel              J  Campbell    1941-01-08  79.0    Male   \n",
       "49998    Phillip              J    Morton    1985-06-11  34.0    Male   \n",
       "49999  Catherine              H    Talley    1928-08-14  91.0  Female   \n",
       "\n",
       "             race_ethnicity relation_to_household_head  \\\n",
       "0                     Black           Reference person   \n",
       "3                     Black                  Stepchild   \n",
       "5                     White           Reference person   \n",
       "6                     White             Opp-sex spouse   \n",
       "7                     White           Reference person   \n",
       "...                     ...                        ...   \n",
       "49994  Multiracial or Other   Institutionalized GQ pop   \n",
       "49995                 White   Institutionalized GQ pop   \n",
       "49996                 White   Institutionalized GQ pop   \n",
       "49998                 White   Institutionalized GQ pop   \n",
       "49999                 Black   Institutionalized GQ pop   \n",
       "\n",
       "                                         address zipcode  \n",
       "0                1344 winoka rd  brooksville, fl   34601  \n",
       "3                    927 23rd st  clearwater, fl   34698  \n",
       "5      3478 claude douglas cir  jacksonville, fl   32218  \n",
       "6      3478 claude douglas cir  jacksonville, fl   32218  \n",
       "7                       94 perry rd  orlando, fl   32832  \n",
       "...                                          ...     ...  \n",
       "49994        2210 henn hyde rd ne  hollywood, fl   33021  \n",
       "49995              114 s frnt st  fort myers, fl   33919  \n",
       "49996        2210 henn hyde rd ne  hollywood, fl   33021  \n",
       "49998              114 s frnt st  fort myers, fl   33919  \n",
       "49999               701 haber rd  vero beach, fl   32968  \n",
       "\n",
       "[27965 rows x 10 columns]"
      ]
     },
     "execution_count": 63,
     "metadata": {},
     "output_type": "execute_result"
    }
   ],
   "source": [
    "temp_df = df_state_table.copy()\n",
    "print((temp_df['cause_of_death'] == 'not_dead').sum())\n",
    "grim_reaper = rng.random(len(temp_df)) < 0.3\n",
    "temp_df.loc[grim_reaper, 'cause_of_death'] = 'scythe'\n",
    "print((temp_df['cause_of_death'] == 'not_dead').sum())\n",
    "test_df = datasets.generate_census_data(\n",
    "    temp_df, overall_frac=0.8, kid_frac=0.6, random_state=rng)\n",
    "test_df"
   ]
  },
  {
   "cell_type": "code",
   "execution_count": 64,
   "id": "68cce81a",
   "metadata": {},
   "outputs": [
    {
     "data": {
      "text/plain": [
       "0.7021"
      ]
     },
     "execution_count": 64,
     "metadata": {},
     "output_type": "execute_result"
    }
   ],
   "source": [
    "35105/50000"
   ]
  },
  {
   "cell_type": "code",
   "execution_count": 65,
   "id": "f1202dd2",
   "metadata": {},
   "outputs": [
    {
     "data": {
      "text/plain": [
       "array([0.79831933, 0.5605    ])"
      ]
     },
     "execution_count": 65,
     "metadata": {},
     "output_type": "execute_result"
    }
   ],
   "source": [
    "28025 / np.array([35105, 50000])"
   ]
  },
  {
   "cell_type": "markdown",
   "id": "2e0c1981",
   "metadata": {},
   "source": [
    "# Initial attempt at more generalized noise function\n",
    "\n",
    "I actually wrote this version before doing the more specific version above. Silly me."
   ]
  },
  {
   "cell_type": "code",
   "execution_count": 66,
   "id": "dacbe9fd",
   "metadata": {},
   "outputs": [],
   "source": [
    "from vivarium_research_prl import noise"
   ]
  },
  {
   "cell_type": "code",
   "execution_count": 67,
   "id": "a99fe3ca",
   "metadata": {},
   "outputs": [
    {
     "data": {
      "text/plain": [
       "0         Margaret\n",
       "1          Jeffrey\n",
       "2           Briana\n",
       "3         Benjamin\n",
       "4           Willie\n",
       "           ...    \n",
       "49995        Brian\n",
       "49996    Nathaniel\n",
       "49997    Christian\n",
       "49998      Phillip\n",
       "49999    Catherine\n",
       "Name: first_name, Length: 47550, dtype: object"
      ]
     },
     "execution_count": 67,
     "metadata": {},
     "output_type": "execute_result"
    }
   ],
   "source": [
    "noise_settings = {\n",
    "    'corruption.keyboard_corrupt': [0.01, (0.05, 0.02)],\n",
    "    'corruption.phonetic_corrupt': [0.001, (0.05,)],\n",
    "}\n",
    "\n",
    "def add_noise_to_column(column, noise_settings, random_state=None):\n",
    "    if random_state is None:\n",
    "        rng = np.random.default_rng(random_state)\n",
    "    new_column = column.copy()\n",
    "    for funckey, (row_prob, args) in noise_settings.items():\n",
    "        module_name, funcname = funckey.split('.')\n",
    "        func = getattr(getattr(noise, module_name), funcname)\n",
    "        corrupted = rng.random(len(column)) < row_prob\n",
    "        new_column.loc[corrupted] = new_column.loc[corrupted].map(lambda x: func(x, *args))\n",
    "    return new_column\n",
    "\n",
    "noised_names = add_noise_to_column(df_census.first_name, noise_settings)\n",
    "noised_names"
   ]
  },
  {
   "cell_type": "code",
   "execution_count": 68,
   "id": "816a8364",
   "metadata": {},
   "outputs": [
    {
     "data": {
      "text/html": [
       "<div>\n",
       "<style scoped>\n",
       "    .dataframe tbody tr th:only-of-type {\n",
       "        vertical-align: middle;\n",
       "    }\n",
       "\n",
       "    .dataframe tbody tr th {\n",
       "        vertical-align: top;\n",
       "    }\n",
       "\n",
       "    .dataframe thead th {\n",
       "        text-align: right;\n",
       "    }\n",
       "</style>\n",
       "<table border=\"1\" class=\"dataframe\">\n",
       "  <thead>\n",
       "    <tr style=\"text-align: right;\">\n",
       "      <th></th>\n",
       "      <th>self</th>\n",
       "      <th>other</th>\n",
       "    </tr>\n",
       "  </thead>\n",
       "  <tbody>\n",
       "    <tr>\n",
       "      <th>489</th>\n",
       "      <td>Cameron</td>\n",
       "      <td>Caheron</td>\n",
       "    </tr>\n",
       "    <tr>\n",
       "      <th>811</th>\n",
       "      <td>Janet</td>\n",
       "      <td>Jajet</td>\n",
       "    </tr>\n",
       "    <tr>\n",
       "      <th>840</th>\n",
       "      <td>Bernard</td>\n",
       "      <td>Bernsrd</td>\n",
       "    </tr>\n",
       "    <tr>\n",
       "      <th>1009</th>\n",
       "      <td>Lily</td>\n",
       "      <td>Lilg</td>\n",
       "    </tr>\n",
       "    <tr>\n",
       "      <th>1501</th>\n",
       "      <td>Bruce</td>\n",
       "      <td>Bduce</td>\n",
       "    </tr>\n",
       "    <tr>\n",
       "      <th>...</th>\n",
       "      <td>...</td>\n",
       "      <td>...</td>\n",
       "    </tr>\n",
       "    <tr>\n",
       "      <th>48839</th>\n",
       "      <td>Brendan</td>\n",
       "      <td>Brrndxn</td>\n",
       "    </tr>\n",
       "    <tr>\n",
       "      <th>48855</th>\n",
       "      <td>Jennifer</td>\n",
       "      <td>Jennifdr</td>\n",
       "    </tr>\n",
       "    <tr>\n",
       "      <th>48960</th>\n",
       "      <td>Wendy</td>\n",
       "      <td>Weney</td>\n",
       "    </tr>\n",
       "    <tr>\n",
       "      <th>49473</th>\n",
       "      <td>Robert</td>\n",
       "      <td>Robsrt</td>\n",
       "    </tr>\n",
       "    <tr>\n",
       "      <th>49966</th>\n",
       "      <td>Christopher</td>\n",
       "      <td>Cahistopher</td>\n",
       "    </tr>\n",
       "  </tbody>\n",
       "</table>\n",
       "<p>119 rows × 2 columns</p>\n",
       "</div>"
      ],
      "text/plain": [
       "              self        other\n",
       "489        Cameron      Caheron\n",
       "811          Janet        Jajet\n",
       "840        Bernard      Bernsrd\n",
       "1009          Lily         Lilg\n",
       "1501         Bruce        Bduce\n",
       "...            ...          ...\n",
       "48839      Brendan      Brrndxn\n",
       "48855     Jennifer     Jennifdr\n",
       "48960        Wendy        Weney\n",
       "49473       Robert       Robsrt\n",
       "49966  Christopher  Cahistopher\n",
       "\n",
       "[119 rows x 2 columns]"
      ]
     },
     "execution_count": 68,
     "metadata": {},
     "output_type": "execute_result"
    }
   ],
   "source": [
    "df_census.first_name.compare(noised_names)"
   ]
  },
  {
   "cell_type": "code",
   "execution_count": 69,
   "id": "3c29bbe2",
   "metadata": {},
   "outputs": [
    {
     "data": {
      "text/plain": [
       "['__builtins__',\n",
       " '__cached__',\n",
       " '__doc__',\n",
       " '__file__',\n",
       " '__loader__',\n",
       " '__name__',\n",
       " '__package__',\n",
       " '__path__',\n",
       " '__spec__',\n",
       " 'corruption',\n",
       " 'fake_names']"
      ]
     },
     "execution_count": 69,
     "metadata": {},
     "output_type": "execute_result"
    }
   ],
   "source": [
    "dir(noise)"
   ]
  },
  {
   "cell_type": "code",
   "execution_count": null,
   "id": "371a4a09",
   "metadata": {},
   "outputs": [],
   "source": []
  }
 ],
 "metadata": {
  "kernelspec": {
   "display_name": "Python 3 (ipykernel)",
   "language": "python",
   "name": "python3"
  },
  "language_info": {
   "codemirror_mode": {
    "name": "ipython",
    "version": 3
   },
   "file_extension": ".py",
   "mimetype": "text/x-python",
   "name": "python",
   "nbconvert_exporter": "python",
   "pygments_lexer": "ipython3",
   "version": "3.8.13"
  }
 },
 "nbformat": 4,
 "nbformat_minor": 5
}
