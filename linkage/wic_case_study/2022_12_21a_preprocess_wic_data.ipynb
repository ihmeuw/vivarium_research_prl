{
 "cells": [
  {
   "cell_type": "code",
   "execution_count": 1,
   "id": "8d1a2333",
   "metadata": {},
   "outputs": [
    {
     "name": "stdout",
     "output_type": "stream",
     "text": [
      "Wed 21 Dec 2022 11:25:22 AM PST\n",
      "ndbs\n",
      "Linux int-slurm-sarchive-p0001 5.4.0-88-generic #99-Ubuntu SMP Thu Sep 23 17:29:00 UTC 2021 x86_64 x86_64 x86_64 GNU/Linux\n",
      "/mnt/share/code/ndbs/vivarium_research_prl/linkage/wic_case_study\n"
     ]
    }
   ],
   "source": [
    "import numpy as np, matplotlib.pyplot as plt, pandas as pd\n",
    "pd.set_option('display.max_rows', 40)\n",
    "\n",
    "from vivarium_research_prl.noise import corruption, fake_names\n",
    "from vivarium_research_prl.find_kids import datasets\n",
    "\n",
    "!date\n",
    "!whoami\n",
    "!uname -a\n",
    "!pwd"
   ]
  },
  {
   "cell_type": "code",
   "execution_count": 2,
   "id": "eb667a8d",
   "metadata": {},
   "outputs": [],
   "source": [
    "%load_ext autoreload\n",
    "%autoreload 2"
   ]
  },
  {
   "cell_type": "markdown",
   "id": "dc8544f9",
   "metadata": {},
   "source": [
    "# Load census data and state table for year 2020"
   ]
  },
  {
   "cell_type": "code",
   "execution_count": 3,
   "id": "1bb57ee2",
   "metadata": {},
   "outputs": [
    {
     "name": "stdout",
     "output_type": "stream",
     "text": [
      "total 32224\r\n",
      "-rw-rw-r-- 1 albrja   IHME-Simulationscience 12622072 Oct 20 23:08 decennial_census.hdf\r\n",
      "-rwxrwxrwx 1 beatrixh IHME-Simulationscience 20364830 Nov 14 16:42 state_table.hdf\r\n"
     ]
    }
   ],
   "source": [
    "project_output_dir = '/mnt/team/simulation_science/priv/engineering/vivarium_census_prl_synth_pop'\n",
    "output_subdir = 'results/special_last_names/florida/2022_10_14_10_49_32/population_table/'\n",
    "output_dir = f'{project_output_dir}/{output_subdir}'\n",
    "\n",
    "!ls -l $output_dir"
   ]
  },
  {
   "cell_type": "code",
   "execution_count": 4,
   "id": "a7d40d97",
   "metadata": {},
   "outputs": [
    {
     "name": "stdout",
     "output_type": "stream",
     "text": [
      "df_census_orig.shape=(47444, 10)\n",
      "df_state_table.shape=(50000, 27)\n"
     ]
    }
   ],
   "source": [
    "decennial_census_path = f'{output_dir}/decennial_census.hdf'\n",
    "state_table_path = f'{output_dir}/state_table.hdf'\n",
    "\n",
    "df_census_orig = pd.read_hdf(decennial_census_path, 'year_2020')\n",
    "df_state_table = pd.read_hdf(state_table_path, 'ymd_2020_4_1')\n",
    "print(f'{df_census_orig.shape=}')\n",
    "print(f'{df_state_table.shape=}')"
   ]
  },
  {
   "cell_type": "markdown",
   "id": "7f45a834",
   "metadata": {},
   "source": [
    "# Get a random SeedSequence and Generator using my saved entropy from last time"
   ]
  },
  {
   "cell_type": "code",
   "execution_count": 5,
   "id": "54128305",
   "metadata": {},
   "outputs": [
    {
     "name": "stdout",
     "output_type": "stream",
     "text": [
      "66624024798819663709061712465147975287\n"
     ]
    },
    {
     "data": {
      "text/plain": [
       "Generator(PCG64) at 0x7FCF8EA92D60"
      ]
     },
     "execution_count": 5,
     "metadata": {},
     "output_type": "execute_result"
    }
   ],
   "source": [
    "sq = np.random.SeedSequence(66624024798819663709061712465147975287)\n",
    "print(sq.entropy)\n",
    "rng = np.random.default_rng(sq)\n",
    "rng"
   ]
  },
  {
   "cell_type": "markdown",
   "id": "d3a87e42",
   "metadata": {},
   "source": [
    "# Generate decennial census and WIC data\n",
    "\n",
    "And edit the census and WIC data generating functions to omit zipcodes that are not 5 digits."
   ]
  },
  {
   "cell_type": "code",
   "execution_count": 17,
   "id": "b0628889",
   "metadata": {},
   "outputs": [
    {
     "name": "stdout",
     "output_type": "stream",
     "text": [
      "df_census.shape=(47494, 10)\n",
      "df_wic.shape=(615, 10)\n"
     ]
    }
   ],
   "source": [
    "df_census = datasets.generate_census_data(\n",
    "    df_state_table, overall_frac=0.95, kid_frac=0.90, random_state=rng)\n",
    "df_wic = datasets.generate_wic_data(df_state_table, rng)\n",
    "print(f\"{df_census.shape=}\")\n",
    "print(f\"{df_wic.shape=}\")"
   ]
  },
  {
   "cell_type": "code",
   "execution_count": 24,
   "id": "4ca9cfaa",
   "metadata": {},
   "outputs": [
    {
     "data": {
      "text/plain": [
       "64"
      ]
     },
     "execution_count": 24,
     "metadata": {},
     "output_type": "execute_result"
    }
   ],
   "source": [
    "wic_not_census = df_wic.index.difference(df_census.index)\n",
    "len(wic_not_census)"
   ]
  },
  {
   "cell_type": "code",
   "execution_count": 25,
   "id": "76d98ba3",
   "metadata": {},
   "outputs": [
    {
     "data": {
      "text/plain": [
       "1669"
      ]
     },
     "execution_count": 25,
     "metadata": {},
     "output_type": "execute_result"
    }
   ],
   "source": [
    "census_not_wic = df_census.loc[df_census.age<5].index.difference(df_wic.index)\n",
    "len(census_not_wic)"
   ]
  },
  {
   "cell_type": "markdown",
   "id": "fe4cb36d",
   "metadata": {},
   "source": [
    "# Testing stuff"
   ]
  },
  {
   "cell_type": "code",
   "execution_count": 118,
   "id": "7bda5111",
   "metadata": {},
   "outputs": [
    {
     "data": {
      "text/plain": [
       "'2023-31-10'"
      ]
     },
     "execution_count": 118,
     "metadata": {},
     "output_type": "execute_result"
    }
   ],
   "source": [
    "def swap_month_day(date, date_format=\"yyyy-mm-dd\"):\n",
    "    if isinstance(date, pd.Series):\n",
    "        date = date.str\n",
    "    date_format = date_format.lower()\n",
    "    y_idx = date_format.index(\"yyyy\")\n",
    "    m_idx = date_format.index(\"mm\")\n",
    "    d_idx = date_format.index(\"dd\")\n",
    "    if y_idx == -1:\n",
    "        y_idx = date_format.index(\"yy\") # in case year format is yy not yyyy\n",
    "        year = date[y_idx:y_idx+2]\n",
    "    else:\n",
    "        year = date[y_idx:y_idx+4]\n",
    "    month = date[m_idx:m_idx+2]\n",
    "    day = date[d_idx:d_idx+2]\n",
    "    if y_idx==0 and m_idx==5 and d_idx==8: # e.g. \"yyyy-mm-dd\" or \"yyyy/mm/dd\"\n",
    "        # Use same separators as in original date\n",
    "        swapped_date = year + date[4] + day + date[7] + month\n",
    "    else:\n",
    "        raise ValueError(f\"unsupported date format: {date_format}\")\n",
    "    return swapped_date\n",
    "swap_month_day('2023-10-31')"
   ]
  },
  {
   "cell_type": "code",
   "execution_count": 115,
   "id": "1dcbdc96",
   "metadata": {},
   "outputs": [
    {
     "data": {
      "text/plain": [
       "0"
      ]
     },
     "execution_count": 115,
     "metadata": {},
     "output_type": "execute_result"
    }
   ],
   "source": [
    "\"yyyy-mm-dd\".find('yyyy')"
   ]
  },
  {
   "cell_type": "code",
   "execution_count": 41,
   "id": "9988a1d9",
   "metadata": {},
   "outputs": [
    {
     "data": {
      "text/plain": [
       "'2023/31/10'"
      ]
     },
     "execution_count": 41,
     "metadata": {},
     "output_type": "execute_result"
    }
   ],
   "source": [
    "swap_month_day('2023/10/31')"
   ]
  },
  {
   "cell_type": "code",
   "execution_count": 32,
   "id": "44ed9409",
   "metadata": {},
   "outputs": [
    {
     "data": {
      "text/plain": [
       "<pandas.core.strings.accessor.StringMethods at 0x7fcf8f51efd0>"
      ]
     },
     "execution_count": 32,
     "metadata": {},
     "output_type": "execute_result"
    }
   ],
   "source": [
    "dob = df_wic.date_of_birth.str\n",
    "dob"
   ]
  },
  {
   "cell_type": "code",
   "execution_count": 33,
   "id": "e73b6b55",
   "metadata": {},
   "outputs": [
    {
     "data": {
      "text/plain": [
       "183      2019\n",
       "203      2019\n",
       "306      2019\n",
       "323      2020\n",
       "401      2018\n",
       "         ... \n",
       "48136    2019\n",
       "48171    2019\n",
       "48186    2019\n",
       "48200    2019\n",
       "48340    2018\n",
       "Name: date_of_birth, Length: 615, dtype: object"
      ]
     },
     "execution_count": 33,
     "metadata": {},
     "output_type": "execute_result"
    }
   ],
   "source": [
    "dob[:4]"
   ]
  },
  {
   "cell_type": "code",
   "execution_count": 36,
   "id": "58f3b214",
   "metadata": {},
   "outputs": [
    {
     "data": {
      "text/plain": [
       "183      2019-12-12\n",
       "203      2019-04-09\n",
       "306      2019-12-30\n",
       "323      2020-03-03\n",
       "401      2018-06-23\n",
       "            ...    \n",
       "48136    2019-08-21\n",
       "48171    2019-06-27\n",
       "48186    2019-09-28\n",
       "48200    2019-01-18\n",
       "48340    2018-06-09\n",
       "Name: date_of_birth, Length: 615, dtype: object"
      ]
     },
     "execution_count": 36,
     "metadata": {},
     "output_type": "execute_result"
    }
   ],
   "source": [
    "df_wic.date_of_birth"
   ]
  },
  {
   "cell_type": "code",
   "execution_count": 119,
   "id": "e1455b5a",
   "metadata": {},
   "outputs": [
    {
     "data": {
      "text/plain": [
       "183      2019-12-12\n",
       "203      2019-09-04\n",
       "306      2019-30-12\n",
       "323      2020-03-03\n",
       "401      2018-23-06\n",
       "            ...    \n",
       "48136    2019-21-08\n",
       "48171    2019-27-06\n",
       "48186    2019-28-09\n",
       "48200    2019-18-01\n",
       "48340    2018-09-06\n",
       "Name: date_of_birth, Length: 615, dtype: object"
      ]
     },
     "execution_count": 119,
     "metadata": {},
     "output_type": "execute_result"
    }
   ],
   "source": [
    "swap_month_day(df_wic.date_of_birth)"
   ]
  },
  {
   "cell_type": "code",
   "execution_count": 133,
   "id": "74fd143d",
   "metadata": {},
   "outputs": [],
   "source": [
    "def miswrite_zipcode(\n",
    "    zipcode,\n",
    "    first2_prob=0.001,\n",
    "    middle_prob=0.005,\n",
    "    last2_prob=0.02,\n",
    "    random_state=None\n",
    "):\n",
    "    rng = np.random.default_rng(random_state)\n",
    "    is_series = isinstance(zipcode, pd.Series)\n",
    "    if is_series:\n",
    "        shape = (len(zipcode),5)\n",
    "        zipcode_series = zipcode\n",
    "        zipcode = zipcode.str\n",
    "    else: # type should be str\n",
    "        shape = (1,5)\n",
    "    threshold = np.array([2*[first2_prob] + [middle_prob] + 2*[last2_prob]])\n",
    "    replace = rng.random(shape) < threshold\n",
    "    random_digits = rng.choice(list('0123456789'), shape)\n",
    "    digits = []\n",
    "    for i in range(5):\n",
    "        digit = np.where(replace[:,i], random_digits[:,i], zipcode[i])\n",
    "        if is_series:\n",
    "            digit = pd.Series(digit, index=zipcode_series.index, name=zipcode_series.name)\n",
    "        else:\n",
    "            digit = digit[0]\n",
    "        digits.append(digit)\n",
    "    new_zipcode = digits[0] + digits[1] + digits[2] + digits[3] + digits[4]\n",
    "    return new_zipcode"
   ]
  },
  {
   "cell_type": "code",
   "execution_count": 44,
   "id": "e1a9e6b4",
   "metadata": {},
   "outputs": [
    {
     "data": {
      "text/plain": [
       "array([1, 4, 3])"
      ]
     },
     "execution_count": 44,
     "metadata": {},
     "output_type": "execute_result"
    }
   ],
   "source": [
    "np.where([True, False, True], [1,2,3], 4)"
   ]
  },
  {
   "cell_type": "code",
   "execution_count": 45,
   "id": "5740e722",
   "metadata": {},
   "outputs": [
    {
     "data": {
      "text/plain": [
       "array([1, 5, 3])"
      ]
     },
     "execution_count": 45,
     "metadata": {},
     "output_type": "execute_result"
    }
   ],
   "source": [
    "np.where([True, False, True], [1,2,3], [4,5,6])"
   ]
  },
  {
   "cell_type": "code",
   "execution_count": 47,
   "id": "653fc913",
   "metadata": {},
   "outputs": [
    {
     "data": {
      "text/plain": [
       "array([1])"
      ]
     },
     "execution_count": 47,
     "metadata": {},
     "output_type": "execute_result"
    }
   ],
   "source": [
    "np.where(np.array([True, False, True])[:1], 1, 4)"
   ]
  },
  {
   "cell_type": "code",
   "execution_count": 53,
   "id": "7f33e606",
   "metadata": {},
   "outputs": [
    {
     "data": {
      "text/plain": [
       "'1'"
      ]
     },
     "execution_count": 53,
     "metadata": {},
     "output_type": "execute_result"
    }
   ],
   "source": [
    "str(np.where(True, 1, 4))"
   ]
  },
  {
   "cell_type": "code",
   "execution_count": 48,
   "id": "73b915be",
   "metadata": {},
   "outputs": [
    {
     "data": {
      "text/plain": [
       "str"
      ]
     },
     "execution_count": 48,
     "metadata": {},
     "output_type": "execute_result"
    }
   ],
   "source": [
    "t = type('abc')\n",
    "t"
   ]
  },
  {
   "cell_type": "code",
   "execution_count": 49,
   "id": "b55eb05c",
   "metadata": {},
   "outputs": [
    {
     "data": {
      "text/plain": [
       "'9'"
      ]
     },
     "execution_count": 49,
     "metadata": {},
     "output_type": "execute_result"
    }
   ],
   "source": [
    "t(9)"
   ]
  },
  {
   "cell_type": "code",
   "execution_count": 50,
   "id": "8cb72f08",
   "metadata": {},
   "outputs": [
    {
     "data": {
      "text/plain": [
       "pandas.core.series.Series"
      ]
     },
     "execution_count": 50,
     "metadata": {},
     "output_type": "execute_result"
    }
   ],
   "source": [
    "s = type(df_wic.date_of_birth)\n",
    "s"
   ]
  },
  {
   "cell_type": "code",
   "execution_count": 51,
   "id": "f9ffb3ca",
   "metadata": {},
   "outputs": [
    {
     "data": {
      "text/plain": [
       "0    a\n",
       "dtype: object"
      ]
     },
     "execution_count": 51,
     "metadata": {},
     "output_type": "execute_result"
    }
   ],
   "source": [
    "s('a')"
   ]
  },
  {
   "cell_type": "code",
   "execution_count": 130,
   "id": "0a116b65",
   "metadata": {},
   "outputs": [
    {
     "data": {
      "text/plain": [
       "'12048'"
      ]
     },
     "execution_count": 130,
     "metadata": {},
     "output_type": "execute_result"
    }
   ],
   "source": [
    "miswrite_zipcode('12345', .1, 0.5, .8)"
   ]
  },
  {
   "cell_type": "code",
   "execution_count": 131,
   "id": "26f80e20",
   "metadata": {},
   "outputs": [
    {
     "data": {
      "text/plain": [
       "183      34681\n",
       "203      33478\n",
       "306      42536\n",
       "323      33006\n",
       "401      24476\n",
       "         ...  \n",
       "48136    34797\n",
       "48171    31201\n",
       "48186    33771\n",
       "48200    33610\n",
       "48340    33862\n",
       "Name: zipcode, Length: 615, dtype: object"
      ]
     },
     "execution_count": 131,
     "metadata": {},
     "output_type": "execute_result"
    }
   ],
   "source": [
    "miswrite_zipcode(df_wic.zipcode, .1, .2, .8)"
   ]
  },
  {
   "cell_type": "code",
   "execution_count": 85,
   "id": "ce7430cb",
   "metadata": {},
   "outputs": [
    {
     "name": "stdout",
     "output_type": "stream",
     "text": [
      "[0.2 0.2 0.2 0.8 0.8] (5,)\n"
     ]
    },
    {
     "data": {
      "text/plain": [
       "array([[ True, False, False,  True,  True]])"
      ]
     },
     "execution_count": 85,
     "metadata": {},
     "output_type": "execute_result"
    }
   ],
   "source": [
    "shape = (1,5)\n",
    "threshold = np.array(3*[.2] + 2*[.8])\n",
    "print(threshold, threshold.shape)\n",
    "replace = rng.random(shape) < threshold#.reshape((1,5))\n",
    "replace"
   ]
  },
  {
   "cell_type": "code",
   "execution_count": 93,
   "id": "ae73271e",
   "metadata": {},
   "outputs": [
    {
     "data": {
      "text/plain": [
       "True"
      ]
     },
     "execution_count": 93,
     "metadata": {},
     "output_type": "execute_result"
    }
   ],
   "source": [
    "replace[:,3]"
   ]
  },
  {
   "cell_type": "code",
   "execution_count": 134,
   "id": "77661c73",
   "metadata": {},
   "outputs": [
    {
     "name": "stdout",
     "output_type": "stream",
     "text": [
      "1.85 ms ± 8.85 µs per loop (mean ± std. dev. of 7 runs, 1,000 loops each)\n"
     ]
    }
   ],
   "source": [
    "%timeit miswrite_zipcode(df_wic.zipcode, .1, .2, .8)"
   ]
  },
  {
   "cell_type": "code",
   "execution_count": 107,
   "id": "619f259d",
   "metadata": {},
   "outputs": [
    {
     "name": "stdout",
     "output_type": "stream",
     "text": [
      "21.3 ms ± 963 µs per loop (mean ± std. dev. of 7 runs, 10 loops each)\n"
     ]
    }
   ],
   "source": [
    "%timeit df_wic.zipcode.map(lambda z: miswrite_zipcode(z, .1, .2, .8, rng))"
   ]
  },
  {
   "cell_type": "code",
   "execution_count": 141,
   "id": "fd6e53ef",
   "metadata": {},
   "outputs": [
    {
     "data": {
      "text/plain": [
       "183         Jose\n",
       "203        Nolan\n",
       "306       Emilee\n",
       "323       Gunner\n",
       "401      Julissa\n",
       "          ...   \n",
       "48136     Xavier\n",
       "48171    Kailani\n",
       "48186      Alana\n",
       "48200     Rylynn\n",
       "48340     Dakota\n",
       "Name: first_name, Length: 615, dtype: object"
      ]
     },
     "execution_count": 141,
     "metadata": {},
     "output_type": "execute_result"
    }
   ],
   "source": [
    "df_wic.first_name"
   ]
  },
  {
   "cell_type": "code",
   "execution_count": 143,
   "id": "1939803d",
   "metadata": {},
   "outputs": [
    {
     "data": {
      "text/plain": [
       "183      NaN\n",
       "203      NaN\n",
       "306        e\n",
       "323        r\n",
       "401        s\n",
       "        ... \n",
       "48136      r\n",
       "48171      n\n",
       "48186    NaN\n",
       "48200      n\n",
       "48340      a\n",
       "Name: first_name, Length: 615, dtype: object"
      ]
     },
     "execution_count": 143,
     "metadata": {},
     "output_type": "execute_result"
    }
   ],
   "source": [
    "df_wic.first_name.str[5]"
   ]
  },
  {
   "cell_type": "code",
   "execution_count": null,
   "id": "d041b08b",
   "metadata": {},
   "outputs": [],
   "source": []
  }
 ],
 "metadata": {
  "kernelspec": {
   "display_name": "Python 3 (ipykernel)",
   "language": "python",
   "name": "python3"
  },
  "language_info": {
   "codemirror_mode": {
    "name": "ipython",
    "version": 3
   },
   "file_extension": ".py",
   "mimetype": "text/x-python",
   "name": "python",
   "nbconvert_exporter": "python",
   "pygments_lexer": "ipython3",
   "version": "3.8.13"
  }
 },
 "nbformat": 4,
 "nbformat_minor": 5
}
