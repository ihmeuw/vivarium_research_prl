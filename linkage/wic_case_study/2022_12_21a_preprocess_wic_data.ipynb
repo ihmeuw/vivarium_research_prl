{
 "cells": [
  {
   "cell_type": "code",
   "execution_count": 1,
   "id": "a8a44926",
   "metadata": {},
   "outputs": [
    {
     "name": "stdout",
     "output_type": "stream",
     "text": [
      "Wed 21 Dec 2022 11:25:22 AM PST\n",
      "ndbs\n",
      "Linux int-slurm-sarchive-p0001 5.4.0-88-generic #99-Ubuntu SMP Thu Sep 23 17:29:00 UTC 2021 x86_64 x86_64 x86_64 GNU/Linux\n",
      "/mnt/share/code/ndbs/vivarium_research_prl/linkage/wic_case_study\n"
     ]
    }
   ],
   "source": [
    "import numpy as np, matplotlib.pyplot as plt, pandas as pd\n",
    "pd.set_option('display.max_rows', 40)\n",
    "\n",
    "from vivarium_research_prl.noise import corruption, fake_names, noisify\n",
    "from vivarium_research_prl.find_kids import datasets\n",
    "\n",
    "!date\n",
    "!whoami\n",
    "!uname -a\n",
    "!pwd"
   ]
  },
  {
   "cell_type": "code",
   "execution_count": 2,
   "id": "7cc52e42",
   "metadata": {},
   "outputs": [],
   "source": [
    "%load_ext autoreload\n",
    "%autoreload 2"
   ]
  },
  {
   "cell_type": "markdown",
   "id": "03297a7c",
   "metadata": {},
   "source": [
    "# Load census data and state table for year 2020"
   ]
  },
  {
   "cell_type": "code",
   "execution_count": 3,
   "id": "5ea66175",
   "metadata": {},
   "outputs": [
    {
     "name": "stdout",
     "output_type": "stream",
     "text": [
      "total 32224\r\n",
      "-rw-rw-r-- 1 albrja   IHME-Simulationscience 12622072 Oct 20 23:08 decennial_census.hdf\r\n",
      "-rwxrwxrwx 1 beatrixh IHME-Simulationscience 20364830 Nov 14 16:42 state_table.hdf\r\n"
     ]
    }
   ],
   "source": [
    "project_output_dir = '/mnt/team/simulation_science/priv/engineering/vivarium_census_prl_synth_pop'\n",
    "output_subdir = 'results/special_last_names/florida/2022_10_14_10_49_32/population_table/'\n",
    "output_dir = f'{project_output_dir}/{output_subdir}'\n",
    "\n",
    "!ls -l $output_dir"
   ]
  },
  {
   "cell_type": "code",
   "execution_count": 4,
   "id": "fd3e60d4",
   "metadata": {},
   "outputs": [
    {
     "name": "stdout",
     "output_type": "stream",
     "text": [
      "df_census_orig.shape=(47444, 10)\n",
      "df_state_table.shape=(50000, 27)\n"
     ]
    }
   ],
   "source": [
    "decennial_census_path = f'{output_dir}/decennial_census.hdf'\n",
    "state_table_path = f'{output_dir}/state_table.hdf'\n",
    "\n",
    "df_census_orig = pd.read_hdf(decennial_census_path, 'year_2020')\n",
    "df_state_table = pd.read_hdf(state_table_path, 'ymd_2020_4_1')\n",
    "print(f'{df_census_orig.shape=}')\n",
    "print(f'{df_state_table.shape=}')"
   ]
  },
  {
   "cell_type": "markdown",
   "id": "434bf8d2",
   "metadata": {},
   "source": [
    "# Get a random SeedSequence and Generator using my saved entropy from last time"
   ]
  },
  {
   "cell_type": "code",
   "execution_count": 5,
   "id": "4af81f85",
   "metadata": {},
   "outputs": [
    {
     "name": "stdout",
     "output_type": "stream",
     "text": [
      "66624024798819663709061712465147975287\n"
     ]
    },
    {
     "data": {
      "text/plain": [
       "Generator(PCG64) at 0x7FCF8EA92D60"
      ]
     },
     "execution_count": 5,
     "metadata": {},
     "output_type": "execute_result"
    }
   ],
   "source": [
    "sq = np.random.SeedSequence(66624024798819663709061712465147975287)\n",
    "print(sq.entropy)\n",
    "rng = np.random.default_rng(sq)\n",
    "rng"
   ]
  },
  {
   "cell_type": "markdown",
   "id": "e9c7b359",
   "metadata": {},
   "source": [
    "# Generate decennial census and WIC data\n",
    "\n",
    "And edit the census and WIC data generating functions to omit zipcodes that are not 5 digits."
   ]
  },
  {
   "cell_type": "code",
   "execution_count": 17,
   "id": "086a13dd",
   "metadata": {},
   "outputs": [
    {
     "name": "stdout",
     "output_type": "stream",
     "text": [
      "df_census.shape=(47494, 10)\n",
      "df_wic.shape=(615, 10)\n"
     ]
    }
   ],
   "source": [
    "df_census = datasets.generate_census_data(\n",
    "    df_state_table, overall_frac=0.95, kid_frac=0.90, random_state=rng)\n",
    "df_wic = datasets.generate_wic_data(df_state_table, rng)\n",
    "print(f\"{df_census.shape=}\")\n",
    "print(f\"{df_wic.shape=}\")"
   ]
  },
  {
   "cell_type": "code",
   "execution_count": 24,
   "id": "398b17c4",
   "metadata": {},
   "outputs": [
    {
     "data": {
      "text/plain": [
       "64"
      ]
     },
     "execution_count": 24,
     "metadata": {},
     "output_type": "execute_result"
    }
   ],
   "source": [
    "wic_not_census = df_wic.index.difference(df_census.index)\n",
    "len(wic_not_census)"
   ]
  },
  {
   "cell_type": "code",
   "execution_count": 25,
   "id": "123deeef",
   "metadata": {},
   "outputs": [
    {
     "data": {
      "text/plain": [
       "1669"
      ]
     },
     "execution_count": 25,
     "metadata": {},
     "output_type": "execute_result"
    }
   ],
   "source": [
    "census_not_wic = df_census.loc[df_census.age<5].index.difference(df_wic.index)\n",
    "len(census_not_wic)"
   ]
  },
  {
   "cell_type": "markdown",
   "id": "ed185fd2",
   "metadata": {},
   "source": [
    "# Write month/day swap function that takes strings or Series as inputs"
   ]
  },
  {
   "cell_type": "code",
   "execution_count": 118,
   "id": "af3d7747",
   "metadata": {},
   "outputs": [
    {
     "data": {
      "text/plain": [
       "'2023-31-10'"
      ]
     },
     "execution_count": 118,
     "metadata": {},
     "output_type": "execute_result"
    }
   ],
   "source": [
    "def swap_month_day(date, date_format=\"yyyy-mm-dd\"):\n",
    "    if isinstance(date, pd.Series):\n",
    "        date = date.str\n",
    "    date_format = date_format.lower()\n",
    "    y_idx = date_format.find(\"yyyy\")\n",
    "    m_idx = date_format.find(\"mm\")\n",
    "    d_idx = date_format.find(\"dd\")\n",
    "    if y_idx == -1:\n",
    "        y_idx = date_format.find(\"yy\") # in case year format is yy not yyyy\n",
    "        year = date[y_idx:y_idx+2]\n",
    "    else:\n",
    "        year = date[y_idx:y_idx+4]\n",
    "    month = date[m_idx:m_idx+2]\n",
    "    day = date[d_idx:d_idx+2]\n",
    "    if y_idx==0 and m_idx==5 and d_idx==8: # e.g. \"yyyy-mm-dd\" or \"yyyy/mm/dd\"\n",
    "        # Use same separators as in original date\n",
    "        swapped_date = year + date[4] + day + date[7] + month\n",
    "    else:\n",
    "        raise ValueError(f\"unsupported date format: {date_format}\")\n",
    "    return swapped_date\n",
    "swap_month_day('2023-10-31')"
   ]
  },
  {
   "cell_type": "code",
   "execution_count": 115,
   "id": "3a6c306e",
   "metadata": {},
   "outputs": [
    {
     "data": {
      "text/plain": [
       "0"
      ]
     },
     "execution_count": 115,
     "metadata": {},
     "output_type": "execute_result"
    }
   ],
   "source": [
    "\"yyyy-mm-dd\".find('yyyy')"
   ]
  },
  {
   "cell_type": "code",
   "execution_count": 41,
   "id": "5aa10c98",
   "metadata": {},
   "outputs": [
    {
     "data": {
      "text/plain": [
       "'2023/31/10'"
      ]
     },
     "execution_count": 41,
     "metadata": {},
     "output_type": "execute_result"
    }
   ],
   "source": [
    "swap_month_day('2023/10/31')"
   ]
  },
  {
   "cell_type": "code",
   "execution_count": 32,
   "id": "9bbb4b5e",
   "metadata": {},
   "outputs": [
    {
     "data": {
      "text/plain": [
       "<pandas.core.strings.accessor.StringMethods at 0x7fcf8f51efd0>"
      ]
     },
     "execution_count": 32,
     "metadata": {},
     "output_type": "execute_result"
    }
   ],
   "source": [
    "dob = df_wic.date_of_birth.str\n",
    "dob"
   ]
  },
  {
   "cell_type": "code",
   "execution_count": 33,
   "id": "b2150c62",
   "metadata": {},
   "outputs": [
    {
     "data": {
      "text/plain": [
       "183      2019\n",
       "203      2019\n",
       "306      2019\n",
       "323      2020\n",
       "401      2018\n",
       "         ... \n",
       "48136    2019\n",
       "48171    2019\n",
       "48186    2019\n",
       "48200    2019\n",
       "48340    2018\n",
       "Name: date_of_birth, Length: 615, dtype: object"
      ]
     },
     "execution_count": 33,
     "metadata": {},
     "output_type": "execute_result"
    }
   ],
   "source": [
    "dob[:4]"
   ]
  },
  {
   "cell_type": "code",
   "execution_count": 36,
   "id": "49ae3162",
   "metadata": {},
   "outputs": [
    {
     "data": {
      "text/plain": [
       "183      2019-12-12\n",
       "203      2019-04-09\n",
       "306      2019-12-30\n",
       "323      2020-03-03\n",
       "401      2018-06-23\n",
       "            ...    \n",
       "48136    2019-08-21\n",
       "48171    2019-06-27\n",
       "48186    2019-09-28\n",
       "48200    2019-01-18\n",
       "48340    2018-06-09\n",
       "Name: date_of_birth, Length: 615, dtype: object"
      ]
     },
     "execution_count": 36,
     "metadata": {},
     "output_type": "execute_result"
    }
   ],
   "source": [
    "df_wic.date_of_birth"
   ]
  },
  {
   "cell_type": "code",
   "execution_count": 119,
   "id": "692a7a1b",
   "metadata": {},
   "outputs": [
    {
     "data": {
      "text/plain": [
       "183      2019-12-12\n",
       "203      2019-09-04\n",
       "306      2019-30-12\n",
       "323      2020-03-03\n",
       "401      2018-23-06\n",
       "            ...    \n",
       "48136    2019-21-08\n",
       "48171    2019-27-06\n",
       "48186    2019-28-09\n",
       "48200    2019-18-01\n",
       "48340    2018-09-06\n",
       "Name: date_of_birth, Length: 615, dtype: object"
      ]
     },
     "execution_count": 119,
     "metadata": {},
     "output_type": "execute_result"
    }
   ],
   "source": [
    "swap_month_day(df_wic.date_of_birth)"
   ]
  },
  {
   "cell_type": "markdown",
   "id": "ca3bfffc",
   "metadata": {},
   "source": [
    "# Write zipcode noise function that takes strings or Series as inputs"
   ]
  },
  {
   "cell_type": "code",
   "execution_count": 133,
   "id": "87c7a0bd",
   "metadata": {},
   "outputs": [],
   "source": [
    "def miswrite_zipcode(\n",
    "    zipcode,\n",
    "    first2_prob=0.001,\n",
    "    middle_prob=0.005,\n",
    "    last2_prob=0.02,\n",
    "    random_state=None\n",
    "):\n",
    "    rng = np.random.default_rng(random_state)\n",
    "    is_series = isinstance(zipcode, pd.Series)\n",
    "    if is_series:\n",
    "        shape = (len(zipcode),5)\n",
    "        zipcode_series = zipcode\n",
    "        zipcode = zipcode.str\n",
    "    else: # type should be str\n",
    "        shape = (1,5)\n",
    "    threshold = np.array([2*[first2_prob] + [middle_prob] + 2*[last2_prob]])\n",
    "    replace = rng.random(shape) < threshold\n",
    "    random_digits = rng.choice(list('0123456789'), shape)\n",
    "    digits = []\n",
    "    for i in range(5):\n",
    "        digit = np.where(replace[:,i], random_digits[:,i], zipcode[i])\n",
    "        if is_series:\n",
    "            digit = pd.Series(digit, index=zipcode_series.index, name=zipcode_series.name)\n",
    "        else:\n",
    "            digit = digit[0]\n",
    "        digits.append(digit)\n",
    "    new_zipcode = digits[0] + digits[1] + digits[2] + digits[3] + digits[4]\n",
    "    return new_zipcode"
   ]
  },
  {
   "cell_type": "code",
   "execution_count": 44,
   "id": "67154214",
   "metadata": {},
   "outputs": [
    {
     "data": {
      "text/plain": [
       "array([1, 4, 3])"
      ]
     },
     "execution_count": 44,
     "metadata": {},
     "output_type": "execute_result"
    }
   ],
   "source": [
    "np.where([True, False, True], [1,2,3], 4)"
   ]
  },
  {
   "cell_type": "code",
   "execution_count": 45,
   "id": "ba0e71f5",
   "metadata": {},
   "outputs": [
    {
     "data": {
      "text/plain": [
       "array([1, 5, 3])"
      ]
     },
     "execution_count": 45,
     "metadata": {},
     "output_type": "execute_result"
    }
   ],
   "source": [
    "np.where([True, False, True], [1,2,3], [4,5,6])"
   ]
  },
  {
   "cell_type": "code",
   "execution_count": 47,
   "id": "83bd3a91",
   "metadata": {},
   "outputs": [
    {
     "data": {
      "text/plain": [
       "array([1])"
      ]
     },
     "execution_count": 47,
     "metadata": {},
     "output_type": "execute_result"
    }
   ],
   "source": [
    "np.where(np.array([True, False, True])[:1], 1, 4)"
   ]
  },
  {
   "cell_type": "code",
   "execution_count": 53,
   "id": "f244a680",
   "metadata": {},
   "outputs": [
    {
     "data": {
      "text/plain": [
       "'1'"
      ]
     },
     "execution_count": 53,
     "metadata": {},
     "output_type": "execute_result"
    }
   ],
   "source": [
    "str(np.where(True, 1, 4))"
   ]
  },
  {
   "cell_type": "code",
   "execution_count": 48,
   "id": "81ee6a81",
   "metadata": {},
   "outputs": [
    {
     "data": {
      "text/plain": [
       "str"
      ]
     },
     "execution_count": 48,
     "metadata": {},
     "output_type": "execute_result"
    }
   ],
   "source": [
    "t = type('abc')\n",
    "t"
   ]
  },
  {
   "cell_type": "code",
   "execution_count": 49,
   "id": "9c7a07c9",
   "metadata": {},
   "outputs": [
    {
     "data": {
      "text/plain": [
       "'9'"
      ]
     },
     "execution_count": 49,
     "metadata": {},
     "output_type": "execute_result"
    }
   ],
   "source": [
    "t(9)"
   ]
  },
  {
   "cell_type": "code",
   "execution_count": 50,
   "id": "c13bf853",
   "metadata": {},
   "outputs": [
    {
     "data": {
      "text/plain": [
       "pandas.core.series.Series"
      ]
     },
     "execution_count": 50,
     "metadata": {},
     "output_type": "execute_result"
    }
   ],
   "source": [
    "s = type(df_wic.date_of_birth)\n",
    "s"
   ]
  },
  {
   "cell_type": "code",
   "execution_count": 51,
   "id": "a2292041",
   "metadata": {},
   "outputs": [
    {
     "data": {
      "text/plain": [
       "0    a\n",
       "dtype: object"
      ]
     },
     "execution_count": 51,
     "metadata": {},
     "output_type": "execute_result"
    }
   ],
   "source": [
    "s('a')"
   ]
  },
  {
   "cell_type": "code",
   "execution_count": 130,
   "id": "9e765732",
   "metadata": {},
   "outputs": [
    {
     "data": {
      "text/plain": [
       "'12048'"
      ]
     },
     "execution_count": 130,
     "metadata": {},
     "output_type": "execute_result"
    }
   ],
   "source": [
    "miswrite_zipcode('12345', .1, 0.5, .8)"
   ]
  },
  {
   "cell_type": "code",
   "execution_count": 131,
   "id": "d20f5064",
   "metadata": {},
   "outputs": [
    {
     "data": {
      "text/plain": [
       "183      34681\n",
       "203      33478\n",
       "306      42536\n",
       "323      33006\n",
       "401      24476\n",
       "         ...  \n",
       "48136    34797\n",
       "48171    31201\n",
       "48186    33771\n",
       "48200    33610\n",
       "48340    33862\n",
       "Name: zipcode, Length: 615, dtype: object"
      ]
     },
     "execution_count": 131,
     "metadata": {},
     "output_type": "execute_result"
    }
   ],
   "source": [
    "miswrite_zipcode(df_wic.zipcode, .1, .2, .8)"
   ]
  },
  {
   "cell_type": "code",
   "execution_count": 85,
   "id": "83b5ba53",
   "metadata": {},
   "outputs": [
    {
     "name": "stdout",
     "output_type": "stream",
     "text": [
      "[0.2 0.2 0.2 0.8 0.8] (5,)\n"
     ]
    },
    {
     "data": {
      "text/plain": [
       "array([[ True, False, False,  True,  True]])"
      ]
     },
     "execution_count": 85,
     "metadata": {},
     "output_type": "execute_result"
    }
   ],
   "source": [
    "shape = (1,5)\n",
    "threshold = np.array(3*[.2] + 2*[.8])\n",
    "print(threshold, threshold.shape)\n",
    "replace = rng.random(shape) < threshold#.reshape((1,5))\n",
    "replace"
   ]
  },
  {
   "cell_type": "code",
   "execution_count": 93,
   "id": "eea66a59",
   "metadata": {},
   "outputs": [
    {
     "data": {
      "text/plain": [
       "True"
      ]
     },
     "execution_count": 93,
     "metadata": {},
     "output_type": "execute_result"
    }
   ],
   "source": [
    "replace[:,3]"
   ]
  },
  {
   "cell_type": "code",
   "execution_count": 134,
   "id": "2865462d",
   "metadata": {},
   "outputs": [
    {
     "name": "stdout",
     "output_type": "stream",
     "text": [
      "1.85 ms ± 8.85 µs per loop (mean ± std. dev. of 7 runs, 1,000 loops each)\n"
     ]
    }
   ],
   "source": [
    "%timeit miswrite_zipcode(df_wic.zipcode, .1, .2, .8)"
   ]
  },
  {
   "cell_type": "code",
   "execution_count": 107,
   "id": "381e1ab8",
   "metadata": {},
   "outputs": [
    {
     "name": "stdout",
     "output_type": "stream",
     "text": [
      "21.3 ms ± 963 µs per loop (mean ± std. dev. of 7 runs, 10 loops each)\n"
     ]
    }
   ],
   "source": [
    "%timeit df_wic.zipcode.map(lambda z: miswrite_zipcode(z, .1, .2, .8, rng))"
   ]
  },
  {
   "cell_type": "markdown",
   "id": "3432be52",
   "metadata": {},
   "source": [
    "# See what happens if you call `pd.Series.str[i]` for `i` that is out of range for some strings in the column\n",
    "\n",
    "You get NaN's not errors. Woo hoo!"
   ]
  },
  {
   "cell_type": "code",
   "execution_count": 141,
   "id": "f9e83109",
   "metadata": {},
   "outputs": [
    {
     "data": {
      "text/plain": [
       "183         Jose\n",
       "203        Nolan\n",
       "306       Emilee\n",
       "323       Gunner\n",
       "401      Julissa\n",
       "          ...   \n",
       "48136     Xavier\n",
       "48171    Kailani\n",
       "48186      Alana\n",
       "48200     Rylynn\n",
       "48340     Dakota\n",
       "Name: first_name, Length: 615, dtype: object"
      ]
     },
     "execution_count": 141,
     "metadata": {},
     "output_type": "execute_result"
    }
   ],
   "source": [
    "df_wic.first_name"
   ]
  },
  {
   "cell_type": "code",
   "execution_count": 143,
   "id": "a18200af",
   "metadata": {},
   "outputs": [
    {
     "data": {
      "text/plain": [
       "183      NaN\n",
       "203      NaN\n",
       "306        e\n",
       "323        r\n",
       "401        s\n",
       "        ... \n",
       "48136      r\n",
       "48171      n\n",
       "48186    NaN\n",
       "48200      n\n",
       "48340      a\n",
       "Name: first_name, Length: 615, dtype: object"
      ]
     },
     "execution_count": 143,
     "metadata": {},
     "output_type": "execute_result"
    }
   ],
   "source": [
    "df_wic.first_name.str[5]"
   ]
  },
  {
   "cell_type": "code",
   "execution_count": 210,
   "id": "42c6440a",
   "metadata": {},
   "outputs": [
    {
     "data": {
      "text/plain": [
       "float"
      ]
     },
     "execution_count": 210,
     "metadata": {},
     "output_type": "execute_result"
    }
   ],
   "source": [
    "type(df_wic.first_name.str[5].iloc[0])"
   ]
  },
  {
   "cell_type": "markdown",
   "id": "b33ecb8c",
   "metadata": {},
   "source": [
    "# Test noisification module"
   ]
  },
  {
   "cell_type": "code",
   "execution_count": 161,
   "id": "24ca1674",
   "metadata": {},
   "outputs": [],
   "source": [
    "from vivarium_research_prl.noise import noisify"
   ]
  },
  {
   "cell_type": "code",
   "execution_count": 151,
   "id": "e2635827",
   "metadata": {},
   "outputs": [
    {
     "data": {
      "text/plain": [
       "<module 'vivarium_research_prl.noise.corruption' from '/mnt/share/code/ndbs/vivarium_research_prl/src/vivarium_research_prl/noise/corruption.py'>"
      ]
     },
     "execution_count": 151,
     "metadata": {},
     "output_type": "execute_result"
    }
   ],
   "source": [
    "noisify.l['corruption']"
   ]
  },
  {
   "cell_type": "code",
   "execution_count": 162,
   "id": "cb87ec58",
   "metadata": {},
   "outputs": [],
   "source": [
    "l, g = noisify._locals_globals_test()"
   ]
  },
  {
   "cell_type": "code",
   "execution_count": 163,
   "id": "52f3e245",
   "metadata": {},
   "outputs": [
    {
     "data": {
      "text/plain": [
       "{'a': 1, 'b': 2, 'c': 3}"
      ]
     },
     "execution_count": 163,
     "metadata": {},
     "output_type": "execute_result"
    }
   ],
   "source": [
    "l"
   ]
  },
  {
   "cell_type": "code",
   "execution_count": 164,
   "id": "b180e843",
   "metadata": {},
   "outputs": [
    {
     "data": {
      "text/plain": [
       "<module 'vivarium_research_prl.noise.corruption' from '/mnt/share/code/ndbs/vivarium_research_prl/src/vivarium_research_prl/noise/corruption.py'>"
      ]
     },
     "execution_count": 164,
     "metadata": {},
     "output_type": "execute_result"
    }
   ],
   "source": [
    "g['corruption']"
   ]
  },
  {
   "cell_type": "code",
   "execution_count": 158,
   "id": "2cb84b06",
   "metadata": {},
   "outputs": [
    {
     "data": {
      "text/plain": [
       "1"
      ]
     },
     "execution_count": 158,
     "metadata": {},
     "output_type": "execute_result"
    }
   ],
   "source": [
    "l.get('a')"
   ]
  },
  {
   "cell_type": "code",
   "execution_count": 160,
   "id": "ef1c132c",
   "metadata": {},
   "outputs": [
    {
     "data": {
      "text/plain": [
       "{}"
      ]
     },
     "execution_count": 160,
     "metadata": {},
     "output_type": "execute_result"
    }
   ],
   "source": [
    "l.get('x', {})"
   ]
  },
  {
   "cell_type": "markdown",
   "id": "2f940e18",
   "metadata": {},
   "source": [
    "# Test incorrect select function"
   ]
  },
  {
   "cell_type": "code",
   "execution_count": 165,
   "id": "d721b097",
   "metadata": {},
   "outputs": [
    {
     "data": {
      "text/plain": [
       "array(['F', 'F', 'F', 'M', 'F'], dtype='<U1')"
      ]
     },
     "execution_count": 165,
     "metadata": {},
     "output_type": "execute_result"
    }
   ],
   "source": [
    "rng.choice(['M', 'F'], 5)"
   ]
  },
  {
   "cell_type": "code",
   "execution_count": 166,
   "id": "328750aa",
   "metadata": {},
   "outputs": [
    {
     "data": {
      "text/plain": [
       "array(['F'], dtype='<U1')"
      ]
     },
     "execution_count": 166,
     "metadata": {},
     "output_type": "execute_result"
    }
   ],
   "source": [
    "rng.choice(['M', 'F'], 1)"
   ]
  },
  {
   "cell_type": "code",
   "execution_count": 167,
   "id": "fcdfcec4",
   "metadata": {},
   "outputs": [
    {
     "data": {
      "text/plain": [
       "'M'"
      ]
     },
     "execution_count": 167,
     "metadata": {},
     "output_type": "execute_result"
    }
   ],
   "source": [
    "rng.choice(['M', 'F'])"
   ]
  },
  {
   "cell_type": "code",
   "execution_count": 168,
   "id": "e5be7b26",
   "metadata": {},
   "outputs": [
    {
     "data": {
      "text/plain": [
       "array([], dtype='<U1')"
      ]
     },
     "execution_count": 168,
     "metadata": {},
     "output_type": "execute_result"
    }
   ],
   "source": [
    "rng.choice(['M', 'F'], 0)"
   ]
  },
  {
   "cell_type": "code",
   "execution_count": 169,
   "id": "be3d123a",
   "metadata": {},
   "outputs": [
    {
     "data": {
      "text/plain": [
       "array(['F'], dtype='<U1')"
      ]
     },
     "execution_count": 169,
     "metadata": {},
     "output_type": "execute_result"
    }
   ],
   "source": [
    "rng.choice(['M', 'F'], (1,))"
   ]
  },
  {
   "cell_type": "code",
   "execution_count": 170,
   "id": "ca1412af",
   "metadata": {},
   "outputs": [
    {
     "data": {
      "text/plain": [
       "'F'"
      ]
     },
     "execution_count": 170,
     "metadata": {},
     "output_type": "execute_result"
    }
   ],
   "source": [
    "rng.choice(['M', 'F'], None)"
   ]
  },
  {
   "cell_type": "code",
   "execution_count": 219,
   "id": "069e9d6a",
   "metadata": {},
   "outputs": [
    {
     "data": {
      "text/plain": [
       "array([], dtype='<U1')"
      ]
     },
     "execution_count": 219,
     "metadata": {},
     "output_type": "execute_result"
    }
   ],
   "source": [
    "rng.choice(['M', 'F'], (0,))"
   ]
  },
  {
   "cell_type": "code",
   "execution_count": 171,
   "id": "faeb8dfe",
   "metadata": {},
   "outputs": [
    {
     "data": {
      "text/plain": [
       "183        Male\n",
       "203        Male\n",
       "306      Female\n",
       "323        Male\n",
       "401      Female\n",
       "          ...  \n",
       "48136      Male\n",
       "48171    Female\n",
       "48186    Female\n",
       "48200    Female\n",
       "48340    Female\n",
       "Name: sex, Length: 615, dtype: object"
      ]
     },
     "execution_count": 171,
     "metadata": {},
     "output_type": "execute_result"
    }
   ],
   "source": [
    "df_wic.sex"
   ]
  },
  {
   "cell_type": "code",
   "execution_count": 172,
   "id": "751758ef",
   "metadata": {},
   "outputs": [
    {
     "data": {
      "text/plain": [
       "183      Female\n",
       "203        Male\n",
       "306        Male\n",
       "323        Male\n",
       "401        Male\n",
       "          ...  \n",
       "48136    Female\n",
       "48171      Male\n",
       "48186      Male\n",
       "48200      Male\n",
       "48340    Female\n",
       "Name: sex, Length: 615, dtype: object"
      ]
     },
     "execution_count": 172,
     "metadata": {},
     "output_type": "execute_result"
    }
   ],
   "source": [
    "corruption.incorrect_select(df_wic.sex)"
   ]
  },
  {
   "cell_type": "code",
   "execution_count": 175,
   "id": "fa769d19",
   "metadata": {},
   "outputs": [
    {
     "name": "stdout",
     "output_type": "stream",
     "text": [
      "F\n",
      "M\n",
      "F\n",
      "M\n",
      "F\n"
     ]
    }
   ],
   "source": [
    "for i in range(5):\n",
    "    print(corruption.incorrect_select('M', ['M', 'F']))"
   ]
  },
  {
   "cell_type": "code",
   "execution_count": 176,
   "id": "2600291b",
   "metadata": {},
   "outputs": [
    {
     "name": "stdout",
     "output_type": "stream",
     "text": [
      "F\n",
      "F\n",
      "F\n",
      "F\n",
      "F\n"
     ]
    }
   ],
   "source": [
    "for i in range(5):\n",
    "    print(corruption.incorrect_select('M', ['F']))"
   ]
  },
  {
   "cell_type": "markdown",
   "id": "20c73568",
   "metadata": {},
   "source": [
    "# Add noise to WIC data"
   ]
  },
  {
   "cell_type": "code",
   "execution_count": 177,
   "id": "812b442e",
   "metadata": {},
   "outputs": [
    {
     "data": {
      "text/plain": [
       "Index(['first_name', 'middle_name', 'last_name', 'date_of_birth', 'sex',\n",
       "       'race_ethnicity', 'address', 'zipcode', 'household_id', 'wic_id'],\n",
       "      dtype='object')"
      ]
     },
     "execution_count": 177,
     "metadata": {},
     "output_type": "execute_result"
    }
   ],
   "source": [
    "df_wic.columns"
   ]
  },
  {
   "cell_type": "code",
   "execution_count": 218,
   "id": "85615b3f",
   "metadata": {},
   "outputs": [
    {
     "data": {
      "text/html": [
       "<div>\n",
       "<style scoped>\n",
       "    .dataframe tbody tr th:only-of-type {\n",
       "        vertical-align: middle;\n",
       "    }\n",
       "\n",
       "    .dataframe tbody tr th {\n",
       "        vertical-align: top;\n",
       "    }\n",
       "\n",
       "    .dataframe thead th {\n",
       "        text-align: right;\n",
       "    }\n",
       "</style>\n",
       "<table border=\"1\" class=\"dataframe\">\n",
       "  <thead>\n",
       "    <tr style=\"text-align: right;\">\n",
       "      <th></th>\n",
       "      <th>first_name</th>\n",
       "      <th>middle_name</th>\n",
       "      <th>last_name</th>\n",
       "      <th>date_of_birth</th>\n",
       "      <th>sex</th>\n",
       "      <th>race_ethnicity</th>\n",
       "      <th>address</th>\n",
       "      <th>zipcode</th>\n",
       "      <th>household_id</th>\n",
       "      <th>wic_id</th>\n",
       "    </tr>\n",
       "  </thead>\n",
       "  <tbody>\n",
       "    <tr>\n",
       "      <th>183</th>\n",
       "      <td>Jose</td>\n",
       "      <td>Zamir</td>\n",
       "      <td>Ulrich</td>\n",
       "      <td>2019-12-12</td>\n",
       "      <td>Male</td>\n",
       "      <td>White</td>\n",
       "      <td>5124 braemar st  spring hill, fl</td>\n",
       "      <td>34606</td>\n",
       "      <td>91</td>\n",
       "      <td>1</td>\n",
       "    </tr>\n",
       "    <tr>\n",
       "      <th>203</th>\n",
       "      <td>Nolan</td>\n",
       "      <td>NaN</td>\n",
       "      <td>Lozano</td>\n",
       "      <td>2019-04-09</td>\n",
       "      <td>Male</td>\n",
       "      <td>Latino</td>\n",
       "      <td>4917 gallatin way  deerfield beach, fl</td>\n",
       "      <td>33442</td>\n",
       "      <td>102</td>\n",
       "      <td>2</td>\n",
       "    </tr>\n",
       "    <tr>\n",
       "      <th>306</th>\n",
       "      <td>Emilee</td>\n",
       "      <td>NaN</td>\n",
       "      <td>Haskew</td>\n",
       "      <td>2019-12-30</td>\n",
       "      <td>Female</td>\n",
       "      <td>Latino</td>\n",
       "      <td>749 mi ridge ests  destin, fl</td>\n",
       "      <td>32541</td>\n",
       "      <td>150</td>\n",
       "      <td>3</td>\n",
       "    </tr>\n",
       "    <tr>\n",
       "      <th>323</th>\n",
       "      <td>Gunner</td>\n",
       "      <td>NaN</td>\n",
       "      <td>Parkinson</td>\n",
       "      <td>2020-03-03</td>\n",
       "      <td>Male</td>\n",
       "      <td>White</td>\n",
       "      <td>600 n maranantha rd  hialeah, fl</td>\n",
       "      <td>33016</td>\n",
       "      <td>157</td>\n",
       "      <td>4</td>\n",
       "    </tr>\n",
       "    <tr>\n",
       "      <th>401</th>\n",
       "      <td>Julissa</td>\n",
       "      <td>NaN</td>\n",
       "      <td>Parks</td>\n",
       "      <td>2018-06-23</td>\n",
       "      <td>Female</td>\n",
       "      <td>White</td>\n",
       "      <td>3657 field  yalaha, fl</td>\n",
       "      <td>34715</td>\n",
       "      <td>190</td>\n",
       "      <td>5</td>\n",
       "    </tr>\n",
       "    <tr>\n",
       "      <th>...</th>\n",
       "      <td>...</td>\n",
       "      <td>...</td>\n",
       "      <td>...</td>\n",
       "      <td>...</td>\n",
       "      <td>...</td>\n",
       "      <td>...</td>\n",
       "      <td>...</td>\n",
       "      <td>...</td>\n",
       "      <td>...</td>\n",
       "      <td>...</td>\n",
       "    </tr>\n",
       "    <tr>\n",
       "      <th>48136</th>\n",
       "      <td>Xavier</td>\n",
       "      <td>NaN</td>\n",
       "      <td>Ruiz</td>\n",
       "      <td>2019-08-21</td>\n",
       "      <td>Male</td>\n",
       "      <td>Latino</td>\n",
       "      <td>8219 minor ln  venice, fl</td>\n",
       "      <td>34275</td>\n",
       "      <td>20331</td>\n",
       "      <td>611</td>\n",
       "    </tr>\n",
       "    <tr>\n",
       "      <th>48171</th>\n",
       "      <td>Kailani</td>\n",
       "      <td>Nyla</td>\n",
       "      <td>Ray</td>\n",
       "      <td>2019-06-27</td>\n",
       "      <td>Female</td>\n",
       "      <td>White</td>\n",
       "      <td>437 e castle st  palmetto, fl</td>\n",
       "      <td>34221</td>\n",
       "      <td>20341</td>\n",
       "      <td>612</td>\n",
       "    </tr>\n",
       "    <tr>\n",
       "      <th>48186</th>\n",
       "      <td>Alana</td>\n",
       "      <td>NaN</td>\n",
       "      <td>Brobst</td>\n",
       "      <td>2019-09-28</td>\n",
       "      <td>Female</td>\n",
       "      <td>White</td>\n",
       "      <td>5550 deer timbers trl  belleair, fl</td>\n",
       "      <td>33756</td>\n",
       "      <td>20346</td>\n",
       "      <td>613</td>\n",
       "    </tr>\n",
       "    <tr>\n",
       "      <th>48200</th>\n",
       "      <td>Rylynn</td>\n",
       "      <td>NaN</td>\n",
       "      <td>Cruz</td>\n",
       "      <td>2019-01-18</td>\n",
       "      <td>Female</td>\n",
       "      <td>Latino</td>\n",
       "      <td>2222 s w thistle street apartment # 73 tampa, fl</td>\n",
       "      <td>33610</td>\n",
       "      <td>20352</td>\n",
       "      <td>614</td>\n",
       "    </tr>\n",
       "    <tr>\n",
       "      <th>48340</th>\n",
       "      <td>Dakota</td>\n",
       "      <td>NaN</td>\n",
       "      <td>Brown</td>\n",
       "      <td>2018-06-09</td>\n",
       "      <td>Female</td>\n",
       "      <td>Black</td>\n",
       "      <td>24 marie dr  lake alfred, fl</td>\n",
       "      <td>33850</td>\n",
       "      <td>20417</td>\n",
       "      <td>615</td>\n",
       "    </tr>\n",
       "  </tbody>\n",
       "</table>\n",
       "<p>615 rows × 10 columns</p>\n",
       "</div>"
      ],
      "text/plain": [
       "      first_name middle_name  last_name date_of_birth     sex race_ethnicity  \\\n",
       "183         Jose       Zamir     Ulrich    2019-12-12    Male          White   \n",
       "203        Nolan         NaN     Lozano    2019-04-09    Male         Latino   \n",
       "306       Emilee         NaN     Haskew    2019-12-30  Female         Latino   \n",
       "323       Gunner         NaN  Parkinson    2020-03-03    Male          White   \n",
       "401      Julissa         NaN      Parks    2018-06-23  Female          White   \n",
       "...          ...         ...        ...           ...     ...            ...   \n",
       "48136     Xavier         NaN       Ruiz    2019-08-21    Male         Latino   \n",
       "48171    Kailani        Nyla        Ray    2019-06-27  Female          White   \n",
       "48186      Alana         NaN     Brobst    2019-09-28  Female          White   \n",
       "48200     Rylynn         NaN       Cruz    2019-01-18  Female         Latino   \n",
       "48340     Dakota         NaN      Brown    2018-06-09  Female          Black   \n",
       "\n",
       "                                                address zipcode  household_id  \\\n",
       "183                    5124 braemar st  spring hill, fl   34606            91   \n",
       "203              4917 gallatin way  deerfield beach, fl   33442           102   \n",
       "306                       749 mi ridge ests  destin, fl   32541           150   \n",
       "323                    600 n maranantha rd  hialeah, fl   33016           157   \n",
       "401                              3657 field  yalaha, fl   34715           190   \n",
       "...                                                 ...     ...           ...   \n",
       "48136                         8219 minor ln  venice, fl   34275         20331   \n",
       "48171                     437 e castle st  palmetto, fl   34221         20341   \n",
       "48186               5550 deer timbers trl  belleair, fl   33756         20346   \n",
       "48200  2222 s w thistle street apartment # 73 tampa, fl   33610         20352   \n",
       "48340                      24 marie dr  lake alfred, fl   33850         20417   \n",
       "\n",
       "       wic_id  \n",
       "183         1  \n",
       "203         2  \n",
       "306         3  \n",
       "323         4  \n",
       "401         5  \n",
       "...       ...  \n",
       "48136     611  \n",
       "48171     612  \n",
       "48186     613  \n",
       "48200     614  \n",
       "48340     615  \n",
       "\n",
       "[615 rows x 10 columns]"
      ]
     },
     "execution_count": 218,
     "metadata": {},
     "output_type": "execute_result"
    }
   ],
   "source": [
    "def add_noise_to_wic(df_wic, random_state):\n",
    "    rng = np.random.default_rng(random_state)\n",
    "    # Copy the dataframe since we're going to alter it\n",
    "    df_wic = df_wic.copy()\n",
    "    \n",
    "    # First name\n",
    "    noisify.apply_noise_function_to_column(\n",
    "        df_wic, 'first_name', 0.01, rng,\n",
    "        corruption.keyboard_corrupt, (1/6, 1/10), vectorized=False, inplace=True)\n",
    "    noisify.apply_noise_function_to_column(\n",
    "        df_wic, 'first_name', 0.01, rng,\n",
    "        corruption.phonetic_corrupt, (1/6,), vectorized=False, inplace=True)\n",
    "    \n",
    "    # Last name\n",
    "    noisify.apply_noise_function_to_column(\n",
    "        df_wic, 'last_name', 0.01, rng,\n",
    "        corruption.keyboard_corrupt, (1/6.8, 1/10), vectorized=False, inplace=True)\n",
    "    noisify.apply_noise_function_to_column(\n",
    "        df_wic, 'last_name', 0.01, rng,\n",
    "        corruption.phonetic_corrupt, (1/6.8,), vectorized=False, inplace=True)\n",
    "    \n",
    "    # Date of birth\n",
    "    noisify.apply_noise_function_to_column(\n",
    "        df_wic, 'date_of_birth', 0.01, rng,\n",
    "        corruption.swap_month_day, share_random_state=False, inplace=True)\n",
    "    noisify.apply_noise_function_to_column(\n",
    "        df_wic, 'date_of_birth', 0.01, rng,\n",
    "        corruption.keyboard_corrupt, (1/8, 0.02), vectorized=False, inplace=True)\n",
    "    \n",
    "    # Zipcode\n",
    "    noisify.apply_noise_function_to_column(\n",
    "        df_wic, 'zipcode', 0.01, rng,\n",
    "        corruption.miswrite_zipcode, (0.04, 0.2, 0.36), inplace=True)\n",
    "    noisify.apply_noise_function_to_column(\n",
    "        df_wic, 'zipcode', 0.01, rng,\n",
    "        corruption.keyboard_corrupt, (0.05, 0.02), vectorized=False, inplace=True)\n",
    "    \n",
    "    # Address\n",
    "    noisify.apply_noise_function_to_column(\n",
    "        df_wic, 'address', 0.01, rng,\n",
    "        corruption.keyboard_corrupt, (1/33, 1/10), vectorized=False, inplace=True)\n",
    "    noisify.apply_noise_function_to_column(\n",
    "        df_wic, 'address', 0.01, rng,\n",
    "        corruption.phonetic_corrupt, (1/33,), vectorized=False, inplace=True)\n",
    "    \n",
    "    # Sex\n",
    "    noisify.apply_noise_function_to_column(\n",
    "        df_wic, 'sex', 0.01, rng,\n",
    "        corruption.incorrect_select, (['M', 'F'],), inplace=True,\n",
    "    )\n",
    "    \n",
    "    # Race/Ethnicity\n",
    "    noisify.apply_noise_function_to_column(\n",
    "        df_wic, 'race_ethnicity', 0.01, rng,\n",
    "        corruption.incorrect_select,\n",
    "        (['Black', 'White', 'Latino', 'Multiracial or Other', 'Asian','AIAN', 'NHOPI'],),\n",
    "        inplace=True\n",
    "    )\n",
    "    \n",
    "    # Middle name\n",
    "    noisify.apply_noise_function_to_column(\n",
    "        df_wic, 'middle_name', 0.01, rng,\n",
    "        corruption.keyboard_corrupt, (1/6, 1/10), vectorized=False, inplace=True)\n",
    "    noisify.apply_noise_function_to_column(\n",
    "        df_wic, 'middle_name', 0.01, rng,\n",
    "        corruption.phonetic_corrupt, (1/6,), vectorized=False, inplace=True)\n",
    "    noisify.apply_noise_function_to_column(\n",
    "        df_wic, 'middle_name', 0.60, rng,\n",
    "        corruption.replace_with_missing, share_random_state=False, inplace=True\n",
    "    )\n",
    "    \n",
    "    return df_wic\n",
    "    \n",
    "df_wic_noisy = add_noise_to_wic(df_wic, rng)\n",
    "df_wic_noisy"
   ]
  },
  {
   "cell_type": "code",
   "execution_count": 183,
   "id": "9e600adc",
   "metadata": {},
   "outputs": [
    {
     "data": {
      "text/plain": [
       "5.9855350149492565"
      ]
     },
     "execution_count": 183,
     "metadata": {},
     "output_type": "execute_result"
    }
   ],
   "source": [
    "# Reciprocate for token corruption rate for first name\n",
    "df_census.first_name.str.len().mean()"
   ]
  },
  {
   "cell_type": "code",
   "execution_count": 184,
   "id": "d9026464",
   "metadata": {},
   "outputs": [
    {
     "data": {
      "text/plain": [
       "6.802417147429149"
      ]
     },
     "execution_count": 184,
     "metadata": {},
     "output_type": "execute_result"
    }
   ],
   "source": [
    "# Reciprocate for token corruption rate for last name\n",
    "df_census.last_name.str.len().mean()"
   ]
  },
  {
   "cell_type": "code",
   "execution_count": 186,
   "id": "cd1b46d9",
   "metadata": {},
   "outputs": [
    {
     "data": {
      "text/plain": [
       "8"
      ]
     },
     "execution_count": 186,
     "metadata": {},
     "output_type": "execute_result"
    }
   ],
   "source": [
    "# Reciprocate for token corruption rate for date of birth\n",
    "len('yyyymmdd')"
   ]
  },
  {
   "cell_type": "code",
   "execution_count": 193,
   "id": "2781999b",
   "metadata": {},
   "outputs": [
    {
     "data": {
      "text/plain": [
       "0.2"
      ]
     },
     "execution_count": 193,
     "metadata": {},
     "output_type": "execute_result"
    }
   ],
   "source": [
    "# For zipcode, want weighted mean of p1, p2, p3 to equal 1/5\n",
    "p1, p2, p3 = 0.04, 0.2, 0.36\n",
    "(2*p1+1*p2+2*p3)/(2+1+2)"
   ]
  },
  {
   "cell_type": "code",
   "execution_count": 195,
   "id": "6eced3aa",
   "metadata": {},
   "outputs": [
    {
     "data": {
      "text/plain": [
       "array(['Black', 'White', 'Latino', 'Multiracial or Other', 'Asian',\n",
       "       'AIAN', 'NHOPI'], dtype=object)"
      ]
     },
     "execution_count": 195,
     "metadata": {},
     "output_type": "execute_result"
    }
   ],
   "source": [
    "df_census.race_ethnicity.unique()"
   ]
  },
  {
   "cell_type": "code",
   "execution_count": 196,
   "id": "b182767e",
   "metadata": {},
   "outputs": [
    {
     "data": {
      "text/plain": [
       "array(['White', 'Latino', 'Asian', 'Multiracial or Other', 'Black'],\n",
       "      dtype=object)"
      ]
     },
     "execution_count": 196,
     "metadata": {},
     "output_type": "execute_result"
    }
   ],
   "source": [
    "df_wic.race_ethnicity.unique()"
   ]
  },
  {
   "cell_type": "code",
   "execution_count": 199,
   "id": "e30b0579",
   "metadata": {},
   "outputs": [
    {
     "data": {
      "text/plain": [
       "33.427864572367035"
      ]
     },
     "execution_count": 199,
     "metadata": {},
     "output_type": "execute_result"
    }
   ],
   "source": [
    "df_census.address.str.len().mean()"
   ]
  },
  {
   "cell_type": "code",
   "execution_count": 211,
   "id": "ce15590a",
   "metadata": {},
   "outputs": [
    {
     "data": {
      "text/plain": [
       "5.95458"
      ]
     },
     "execution_count": 211,
     "metadata": {},
     "output_type": "execute_result"
    }
   ],
   "source": [
    "df_state_table.middle_name.str.len().mean()"
   ]
  },
  {
   "cell_type": "code",
   "execution_count": 217,
   "id": "f87dd3d1",
   "metadata": {},
   "outputs": [
    {
     "data": {
      "text/plain": [
       "3.0"
      ]
     },
     "execution_count": 217,
     "metadata": {},
     "output_type": "execute_result"
    }
   ],
   "source": [
    ".005*600"
   ]
  },
  {
   "cell_type": "code",
   "execution_count": null,
   "id": "9f6782ae",
   "metadata": {},
   "outputs": [],
   "source": []
  }
 ],
 "metadata": {
  "kernelspec": {
   "display_name": "Python 3 (ipykernel)",
   "language": "python",
   "name": "python3"
  },
  "language_info": {
   "codemirror_mode": {
    "name": "ipython",
    "version": 3
   },
   "file_extension": ".py",
   "mimetype": "text/x-python",
   "name": "python",
   "nbconvert_exporter": "python",
   "pygments_lexer": "ipython3",
   "version": "3.8.13"
  }
 },
 "nbformat": 4,
 "nbformat_minor": 5
}
