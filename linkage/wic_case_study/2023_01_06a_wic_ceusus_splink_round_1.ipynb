{
 "cells": [
  {
   "cell_type": "code",
   "execution_count": 1,
   "id": "1e41678c",
   "metadata": {},
   "outputs": [
    {
     "name": "stdout",
     "output_type": "stream",
     "text": [
      "Thu 19 Jan 2023 02:06:11 PM PST\n",
      "ndbs\n",
      "Linux int-slurm-sarchive-p0012 5.4.0-88-generic #99-Ubuntu SMP Thu Sep 23 17:29:00 UTC 2021 x86_64 x86_64 x86_64 GNU/Linux\n",
      "/mnt/share/code/ndbs/vivarium_research_prl/linkage/wic_case_study\n"
     ]
    }
   ],
   "source": [
    "import numpy as np, matplotlib.pyplot as plt, pandas as pd\n",
    "pd.set_option('display.max_rows', 40)\n",
    "\n",
    "# from vivarium_research_prl.noise import corruption, fake_names, noisify\n",
    "# from vivarium_research_prl.find_kids import datasets, noisify_data\n",
    "# import vivarium_research_prl.find_kids as find_kids\n",
    "\n",
    "from splink.duckdb.duckdb_linker import DuckDBLinker\n",
    "import splink.duckdb.duckdb_comparison_library as cl\n",
    "\n",
    "# For viewing waterfall charts and precision-recall curve\n",
    "import altair as alt\n",
    "alt.renderers.enable('mimetype')\n",
    "alt.renderers.enable('html')\n",
    "\n",
    "# For viewing the comparison viewer dashboard\n",
    "from IPython.display import IFrame\n",
    "\n",
    "!date\n",
    "!whoami\n",
    "!uname -a\n",
    "!pwd"
   ]
  },
  {
   "cell_type": "code",
   "execution_count": 2,
   "id": "03839314",
   "metadata": {},
   "outputs": [],
   "source": [
    "%load_ext autoreload\n",
    "%autoreload 2"
   ]
  },
  {
   "cell_type": "markdown",
   "id": "862d4662",
   "metadata": {},
   "source": [
    "# Read in saved data"
   ]
  },
  {
   "cell_type": "code",
   "execution_count": 3,
   "id": "19ea000a",
   "metadata": {},
   "outputs": [
    {
     "name": "stdout",
     "output_type": "stream",
     "text": [
      "total 5484\r\n",
      "-rw-rw-r-- 1 ndbs IHME-users 5535621 Jan 11 15:47 prepared_2020_census_20221014.csv\r\n",
      "-rw-rw-r-- 1 ndbs IHME-users   66364 Jan 11 15:47 prepared_wic_20221014.csv\r\n"
     ]
    }
   ],
   "source": [
    "!ls -l data"
   ]
  },
  {
   "cell_type": "code",
   "execution_count": 4,
   "id": "12ebb132",
   "metadata": {},
   "outputs": [
    {
     "name": "stdout",
     "output_type": "stream",
     "text": [
      "(47529, 12)\n",
      "(633, 12)\n"
     ]
    }
   ],
   "source": [
    "data_dir = 'data'\n",
    "dtypes = {'zipcode': str} # Make sure zipcodes are str not int\n",
    "df_census = pd.read_csv(\n",
    "    f'{data_dir}/prepared_2020_census_20221014.csv',\n",
    "    dtype=dtypes,\n",
    "    index_col=0,\n",
    ")\n",
    "df_wic = pd.read_csv(\n",
    "    f'{data_dir}/prepared_wic_20221014.csv',\n",
    "    dtype=dtypes,\n",
    "    index_col=0,\n",
    ")\n",
    "print(df_census.shape, df_wic.shape, sep='\\n')"
   ]
  },
  {
   "cell_type": "code",
   "execution_count": 5,
   "id": "1ed96329",
   "metadata": {},
   "outputs": [
    {
     "data": {
      "text/plain": [
       "first_name                     object\n",
       "middle                         object\n",
       "last_name                      object\n",
       "date_of_birth                  object\n",
       "age                           float64\n",
       "sex                            object\n",
       "race_ethnicity                 object\n",
       "relation_to_household_head     object\n",
       "address                        object\n",
       "zipcode                        object\n",
       "unique_id                       int64\n",
       "household_id                  float64\n",
       "dtype: object"
      ]
     },
     "execution_count": 5,
     "metadata": {},
     "output_type": "execute_result"
    }
   ],
   "source": [
    "df_census.dtypes"
   ]
  },
  {
   "cell_type": "code",
   "execution_count": 6,
   "id": "56bc9fc4",
   "metadata": {},
   "outputs": [
    {
     "data": {
      "text/plain": [
       "first_name                     object\n",
       "middle                         object\n",
       "last_name                      object\n",
       "date_of_birth                  object\n",
       "sex                            object\n",
       "race_ethnicity                 object\n",
       "address                        object\n",
       "zipcode                        object\n",
       "household_id                    int64\n",
       "unique_id                       int64\n",
       "age                           float64\n",
       "relation_to_household_head    float64\n",
       "dtype: object"
      ]
     },
     "execution_count": 6,
     "metadata": {},
     "output_type": "execute_result"
    }
   ],
   "source": [
    "df_wic.dtypes"
   ]
  },
  {
   "cell_type": "code",
   "execution_count": 7,
   "id": "64c2458b",
   "metadata": {},
   "outputs": [
    {
     "data": {
      "text/html": [
       "<div>\n",
       "<style scoped>\n",
       "    .dataframe tbody tr th:only-of-type {\n",
       "        vertical-align: middle;\n",
       "    }\n",
       "\n",
       "    .dataframe tbody tr th {\n",
       "        vertical-align: top;\n",
       "    }\n",
       "\n",
       "    .dataframe thead th {\n",
       "        text-align: right;\n",
       "    }\n",
       "</style>\n",
       "<table border=\"1\" class=\"dataframe\">\n",
       "  <thead>\n",
       "    <tr style=\"text-align: right;\">\n",
       "      <th></th>\n",
       "      <th>first_name</th>\n",
       "      <th>middle</th>\n",
       "      <th>last_name</th>\n",
       "      <th>date_of_birth</th>\n",
       "      <th>age</th>\n",
       "      <th>sex</th>\n",
       "      <th>race_ethnicity</th>\n",
       "      <th>relation_to_household_head</th>\n",
       "      <th>address</th>\n",
       "      <th>zipcode</th>\n",
       "      <th>unique_id</th>\n",
       "      <th>household_id</th>\n",
       "    </tr>\n",
       "  </thead>\n",
       "  <tbody>\n",
       "    <tr>\n",
       "      <th>0</th>\n",
       "      <td>Margaret</td>\n",
       "      <td>J</td>\n",
       "      <td>Clark</td>\n",
       "      <td>1951-07-27</td>\n",
       "      <td>68.0</td>\n",
       "      <td>Female</td>\n",
       "      <td>Black</td>\n",
       "      <td>Reference person</td>\n",
       "      <td>1344 winoka rd  brooksville, fl</td>\n",
       "      <td>34601</td>\n",
       "      <td>1</td>\n",
       "      <td>NaN</td>\n",
       "    </tr>\n",
       "    <tr>\n",
       "      <th>1</th>\n",
       "      <td>Jeffrey</td>\n",
       "      <td>V</td>\n",
       "      <td>Littlejohn</td>\n",
       "      <td>1967-05-03</td>\n",
       "      <td>52.0</td>\n",
       "      <td>Male</td>\n",
       "      <td>Black</td>\n",
       "      <td>Reference person</td>\n",
       "      <td>927 23rd st  clearwater, fl</td>\n",
       "      <td>34698</td>\n",
       "      <td>2</td>\n",
       "      <td>NaN</td>\n",
       "    </tr>\n",
       "    <tr>\n",
       "      <th>2</th>\n",
       "      <td>Briana</td>\n",
       "      <td>A</td>\n",
       "      <td>Jackson</td>\n",
       "      <td>2006-09-07</td>\n",
       "      <td>13.0</td>\n",
       "      <td>Female</td>\n",
       "      <td>Black</td>\n",
       "      <td>Biological child</td>\n",
       "      <td>927 23rd st  clearwater, fl</td>\n",
       "      <td>34698</td>\n",
       "      <td>3</td>\n",
       "      <td>NaN</td>\n",
       "    </tr>\n",
       "    <tr>\n",
       "      <th>3</th>\n",
       "      <td>Benjamin</td>\n",
       "      <td>D</td>\n",
       "      <td>Cox</td>\n",
       "      <td>1998-10-21</td>\n",
       "      <td>21.0</td>\n",
       "      <td>Male</td>\n",
       "      <td>Black</td>\n",
       "      <td>Stepchild</td>\n",
       "      <td>927 23rd st  clearwater, fl</td>\n",
       "      <td>34698</td>\n",
       "      <td>4</td>\n",
       "      <td>NaN</td>\n",
       "    </tr>\n",
       "    <tr>\n",
       "      <th>4</th>\n",
       "      <td>Willie</td>\n",
       "      <td>NaN</td>\n",
       "      <td>Tucker</td>\n",
       "      <td>1947-10-09</td>\n",
       "      <td>72.0</td>\n",
       "      <td>Male</td>\n",
       "      <td>White</td>\n",
       "      <td>Reference person</td>\n",
       "      <td>8904 167th place  fleming island, fl</td>\n",
       "      <td>32003</td>\n",
       "      <td>5</td>\n",
       "      <td>NaN</td>\n",
       "    </tr>\n",
       "    <tr>\n",
       "      <th>...</th>\n",
       "      <td>...</td>\n",
       "      <td>...</td>\n",
       "      <td>...</td>\n",
       "      <td>...</td>\n",
       "      <td>...</td>\n",
       "      <td>...</td>\n",
       "      <td>...</td>\n",
       "      <td>...</td>\n",
       "      <td>...</td>\n",
       "      <td>...</td>\n",
       "      <td>...</td>\n",
       "      <td>...</td>\n",
       "    </tr>\n",
       "    <tr>\n",
       "      <th>49994</th>\n",
       "      <td>Marcus</td>\n",
       "      <td>S</td>\n",
       "      <td>Roman</td>\n",
       "      <td>1988-07-08</td>\n",
       "      <td>31.0</td>\n",
       "      <td>Male</td>\n",
       "      <td>Multiracial or Other</td>\n",
       "      <td>Institutionalized GQ pop</td>\n",
       "      <td>2210 henn hyde rd ne  hollywood, fl</td>\n",
       "      <td>33021</td>\n",
       "      <td>47525</td>\n",
       "      <td>NaN</td>\n",
       "    </tr>\n",
       "    <tr>\n",
       "      <th>49996</th>\n",
       "      <td>Nathaniel</td>\n",
       "      <td>J</td>\n",
       "      <td>Campbell</td>\n",
       "      <td>1941-01-08</td>\n",
       "      <td>79.0</td>\n",
       "      <td>Male</td>\n",
       "      <td>White</td>\n",
       "      <td>Institutionalized GQ pop</td>\n",
       "      <td>2210 henn hyde rd ne  hollywood, fl</td>\n",
       "      <td>33021</td>\n",
       "      <td>47526</td>\n",
       "      <td>NaN</td>\n",
       "    </tr>\n",
       "    <tr>\n",
       "      <th>49997</th>\n",
       "      <td>Christian</td>\n",
       "      <td>C</td>\n",
       "      <td>Rosales</td>\n",
       "      <td>1983-12-16</td>\n",
       "      <td>36.0</td>\n",
       "      <td>Male</td>\n",
       "      <td>Latino</td>\n",
       "      <td>Institutionalized GQ pop</td>\n",
       "      <td>701 haber rd  vero beach, fl</td>\n",
       "      <td>32968</td>\n",
       "      <td>47527</td>\n",
       "      <td>NaN</td>\n",
       "    </tr>\n",
       "    <tr>\n",
       "      <th>49998</th>\n",
       "      <td>Phillip</td>\n",
       "      <td>J</td>\n",
       "      <td>Morton</td>\n",
       "      <td>1985-06-11</td>\n",
       "      <td>34.0</td>\n",
       "      <td>Male</td>\n",
       "      <td>White</td>\n",
       "      <td>Institutionalized GQ pop</td>\n",
       "      <td>114 s frnt st  fort myers, fl</td>\n",
       "      <td>33919</td>\n",
       "      <td>47528</td>\n",
       "      <td>NaN</td>\n",
       "    </tr>\n",
       "    <tr>\n",
       "      <th>49999</th>\n",
       "      <td>Catherine</td>\n",
       "      <td>H</td>\n",
       "      <td>Talley</td>\n",
       "      <td>1928-08-14</td>\n",
       "      <td>91.0</td>\n",
       "      <td>Female</td>\n",
       "      <td>Black</td>\n",
       "      <td>Institutionalized GQ pop</td>\n",
       "      <td>701 haber rd  vero beach, fle</td>\n",
       "      <td>32968</td>\n",
       "      <td>47529</td>\n",
       "      <td>NaN</td>\n",
       "    </tr>\n",
       "  </tbody>\n",
       "</table>\n",
       "<p>47529 rows × 12 columns</p>\n",
       "</div>"
      ],
      "text/plain": [
       "      first_name middle   last_name date_of_birth   age     sex  \\\n",
       "0       Margaret      J       Clark    1951-07-27  68.0  Female   \n",
       "1        Jeffrey      V  Littlejohn    1967-05-03  52.0    Male   \n",
       "2         Briana      A     Jackson    2006-09-07  13.0  Female   \n",
       "3       Benjamin      D         Cox    1998-10-21  21.0    Male   \n",
       "4         Willie    NaN      Tucker    1947-10-09  72.0    Male   \n",
       "...          ...    ...         ...           ...   ...     ...   \n",
       "49994     Marcus      S       Roman    1988-07-08  31.0    Male   \n",
       "49996  Nathaniel      J    Campbell    1941-01-08  79.0    Male   \n",
       "49997  Christian      C     Rosales    1983-12-16  36.0    Male   \n",
       "49998    Phillip      J      Morton    1985-06-11  34.0    Male   \n",
       "49999  Catherine      H      Talley    1928-08-14  91.0  Female   \n",
       "\n",
       "             race_ethnicity relation_to_household_head  \\\n",
       "0                     Black           Reference person   \n",
       "1                     Black           Reference person   \n",
       "2                     Black           Biological child   \n",
       "3                     Black                  Stepchild   \n",
       "4                     White           Reference person   \n",
       "...                     ...                        ...   \n",
       "49994  Multiracial or Other   Institutionalized GQ pop   \n",
       "49996                 White   Institutionalized GQ pop   \n",
       "49997                Latino   Institutionalized GQ pop   \n",
       "49998                 White   Institutionalized GQ pop   \n",
       "49999                 Black   Institutionalized GQ pop   \n",
       "\n",
       "                                    address zipcode  unique_id  household_id  \n",
       "0           1344 winoka rd  brooksville, fl   34601          1           NaN  \n",
       "1               927 23rd st  clearwater, fl   34698          2           NaN  \n",
       "2               927 23rd st  clearwater, fl   34698          3           NaN  \n",
       "3               927 23rd st  clearwater, fl   34698          4           NaN  \n",
       "4      8904 167th place  fleming island, fl   32003          5           NaN  \n",
       "...                                     ...     ...        ...           ...  \n",
       "49994   2210 henn hyde rd ne  hollywood, fl   33021      47525           NaN  \n",
       "49996   2210 henn hyde rd ne  hollywood, fl   33021      47526           NaN  \n",
       "49997          701 haber rd  vero beach, fl   32968      47527           NaN  \n",
       "49998         114 s frnt st  fort myers, fl   33919      47528           NaN  \n",
       "49999         701 haber rd  vero beach, fle   32968      47529           NaN  \n",
       "\n",
       "[47529 rows x 12 columns]"
      ]
     },
     "execution_count": 7,
     "metadata": {},
     "output_type": "execute_result"
    }
   ],
   "source": [
    "df_census"
   ]
  },
  {
   "cell_type": "code",
   "execution_count": 8,
   "id": "31ce6c03",
   "metadata": {},
   "outputs": [
    {
     "data": {
      "text/html": [
       "<div>\n",
       "<style scoped>\n",
       "    .dataframe tbody tr th:only-of-type {\n",
       "        vertical-align: middle;\n",
       "    }\n",
       "\n",
       "    .dataframe tbody tr th {\n",
       "        vertical-align: top;\n",
       "    }\n",
       "\n",
       "    .dataframe thead th {\n",
       "        text-align: right;\n",
       "    }\n",
       "</style>\n",
       "<table border=\"1\" class=\"dataframe\">\n",
       "  <thead>\n",
       "    <tr style=\"text-align: right;\">\n",
       "      <th></th>\n",
       "      <th>first_name</th>\n",
       "      <th>middle</th>\n",
       "      <th>last_name</th>\n",
       "      <th>date_of_birth</th>\n",
       "      <th>sex</th>\n",
       "      <th>race_ethnicity</th>\n",
       "      <th>address</th>\n",
       "      <th>zipcode</th>\n",
       "      <th>household_id</th>\n",
       "      <th>unique_id</th>\n",
       "      <th>age</th>\n",
       "      <th>relation_to_household_head</th>\n",
       "    </tr>\n",
       "  </thead>\n",
       "  <tbody>\n",
       "    <tr>\n",
       "      <th>82</th>\n",
       "      <td>Sadie</td>\n",
       "      <td>Katia</td>\n",
       "      <td>Tidwell</td>\n",
       "      <td>2017-10-15</td>\n",
       "      <td>Female</td>\n",
       "      <td>Black</td>\n",
       "      <td>w 4th st  north port, fl</td>\n",
       "      <td>34287</td>\n",
       "      <td>48</td>\n",
       "      <td>1</td>\n",
       "      <td>NaN</td>\n",
       "      <td>NaN</td>\n",
       "    </tr>\n",
       "    <tr>\n",
       "      <th>83</th>\n",
       "      <td>Liliana</td>\n",
       "      <td>Addisyn</td>\n",
       "      <td>Marshall</td>\n",
       "      <td>2019-12-03</td>\n",
       "      <td>Female</td>\n",
       "      <td>Black</td>\n",
       "      <td>w 4th st  north port, fl</td>\n",
       "      <td>34287</td>\n",
       "      <td>48</td>\n",
       "      <td>2</td>\n",
       "      <td>NaN</td>\n",
       "      <td>NaN</td>\n",
       "    </tr>\n",
       "    <tr>\n",
       "      <th>174</th>\n",
       "      <td>Holly</td>\n",
       "      <td>Emma</td>\n",
       "      <td>Yount</td>\n",
       "      <td>2019-05-17</td>\n",
       "      <td>Female</td>\n",
       "      <td>White</td>\n",
       "      <td>7944 se 62nd ave  unincorporated, fl</td>\n",
       "      <td>32824</td>\n",
       "      <td>88</td>\n",
       "      <td>3</td>\n",
       "      <td>NaN</td>\n",
       "      <td>NaN</td>\n",
       "    </tr>\n",
       "    <tr>\n",
       "      <th>306</th>\n",
       "      <td>Emilee</td>\n",
       "      <td>Guadalupe</td>\n",
       "      <td>Haskew</td>\n",
       "      <td>2019-12-30</td>\n",
       "      <td>Female</td>\n",
       "      <td>Latino</td>\n",
       "      <td>749 mi ridge ests  destin, fl</td>\n",
       "      <td>32541</td>\n",
       "      <td>150</td>\n",
       "      <td>4</td>\n",
       "      <td>NaN</td>\n",
       "      <td>NaN</td>\n",
       "    </tr>\n",
       "    <tr>\n",
       "      <th>323</th>\n",
       "      <td>Gunner</td>\n",
       "      <td>Liam</td>\n",
       "      <td>Parkinson</td>\n",
       "      <td>2020-03-03</td>\n",
       "      <td>Male</td>\n",
       "      <td>White</td>\n",
       "      <td>600 n maranantha rd  hialeah, fl</td>\n",
       "      <td>33016</td>\n",
       "      <td>157</td>\n",
       "      <td>5</td>\n",
       "      <td>NaN</td>\n",
       "      <td>NaN</td>\n",
       "    </tr>\n",
       "    <tr>\n",
       "      <th>...</th>\n",
       "      <td>...</td>\n",
       "      <td>...</td>\n",
       "      <td>...</td>\n",
       "      <td>...</td>\n",
       "      <td>...</td>\n",
       "      <td>...</td>\n",
       "      <td>...</td>\n",
       "      <td>...</td>\n",
       "      <td>...</td>\n",
       "      <td>...</td>\n",
       "      <td>...</td>\n",
       "      <td>...</td>\n",
       "    </tr>\n",
       "    <tr>\n",
       "      <th>48269</th>\n",
       "      <td>Kaylee</td>\n",
       "      <td>Trinity</td>\n",
       "      <td>Hill</td>\n",
       "      <td>2017-10-20</td>\n",
       "      <td>Female</td>\n",
       "      <td>Black</td>\n",
       "      <td>98 melanie dr  pembroke pines, fl</td>\n",
       "      <td>33026</td>\n",
       "      <td>20380</td>\n",
       "      <td>629</td>\n",
       "      <td>NaN</td>\n",
       "      <td>NaN</td>\n",
       "    </tr>\n",
       "    <tr>\n",
       "      <th>48351</th>\n",
       "      <td>Lev</td>\n",
       "      <td>Thomas</td>\n",
       "      <td>Dove</td>\n",
       "      <td>2018-10-18</td>\n",
       "      <td>Male</td>\n",
       "      <td>Black</td>\n",
       "      <td>671 john muir road  spring hill, fl</td>\n",
       "      <td>34610</td>\n",
       "      <td>20422</td>\n",
       "      <td>630</td>\n",
       "      <td>NaN</td>\n",
       "      <td>NaN</td>\n",
       "    </tr>\n",
       "    <tr>\n",
       "      <th>48442</th>\n",
       "      <td>Frederick</td>\n",
       "      <td>Cameron</td>\n",
       "      <td>Rodriguez</td>\n",
       "      <td>2019-06-04</td>\n",
       "      <td>Male</td>\n",
       "      <td>Latino</td>\n",
       "      <td>5765 heards forest dr  crestview, fl</td>\n",
       "      <td>32539</td>\n",
       "      <td>20452</td>\n",
       "      <td>631</td>\n",
       "      <td>NaN</td>\n",
       "      <td>NaN</td>\n",
       "    </tr>\n",
       "    <tr>\n",
       "      <th>48456</th>\n",
       "      <td>Liam</td>\n",
       "      <td>Emmett</td>\n",
       "      <td>Sardone</td>\n",
       "      <td>2017-01-08</td>\n",
       "      <td>Male</td>\n",
       "      <td>White</td>\n",
       "      <td>107 brown ave  st. petersburg, fl</td>\n",
       "      <td>33704</td>\n",
       "      <td>20458</td>\n",
       "      <td>632</td>\n",
       "      <td>NaN</td>\n",
       "      <td>NaN</td>\n",
       "    </tr>\n",
       "    <tr>\n",
       "      <th>48458</th>\n",
       "      <td>Cameron</td>\n",
       "      <td>Nolan</td>\n",
       "      <td>Emerson</td>\n",
       "      <td>2019-02-16</td>\n",
       "      <td>Male</td>\n",
       "      <td>White</td>\n",
       "      <td>107 brown ave  st. petersburg, fl</td>\n",
       "      <td>33704</td>\n",
       "      <td>20458</td>\n",
       "      <td>633</td>\n",
       "      <td>NaN</td>\n",
       "      <td>NaN</td>\n",
       "    </tr>\n",
       "  </tbody>\n",
       "</table>\n",
       "<p>633 rows × 12 columns</p>\n",
       "</div>"
      ],
      "text/plain": [
       "      first_name     middle  last_name date_of_birth     sex race_ethnicity  \\\n",
       "82         Sadie      Katia    Tidwell    2017-10-15  Female          Black   \n",
       "83       Liliana    Addisyn   Marshall    2019-12-03  Female          Black   \n",
       "174        Holly       Emma      Yount    2019-05-17  Female          White   \n",
       "306       Emilee  Guadalupe     Haskew    2019-12-30  Female         Latino   \n",
       "323       Gunner       Liam  Parkinson    2020-03-03    Male          White   \n",
       "...          ...        ...        ...           ...     ...            ...   \n",
       "48269     Kaylee    Trinity       Hill    2017-10-20  Female          Black   \n",
       "48351        Lev     Thomas       Dove    2018-10-18    Male          Black   \n",
       "48442  Frederick    Cameron  Rodriguez    2019-06-04    Male         Latino   \n",
       "48456       Liam     Emmett    Sardone    2017-01-08    Male          White   \n",
       "48458    Cameron      Nolan    Emerson    2019-02-16    Male          White   \n",
       "\n",
       "                                    address zipcode  household_id  unique_id  \\\n",
       "82                 w 4th st  north port, fl   34287            48          1   \n",
       "83                 w 4th st  north port, fl   34287            48          2   \n",
       "174    7944 se 62nd ave  unincorporated, fl   32824            88          3   \n",
       "306           749 mi ridge ests  destin, fl   32541           150          4   \n",
       "323        600 n maranantha rd  hialeah, fl   33016           157          5   \n",
       "...                                     ...     ...           ...        ...   \n",
       "48269     98 melanie dr  pembroke pines, fl   33026         20380        629   \n",
       "48351   671 john muir road  spring hill, fl   34610         20422        630   \n",
       "48442  5765 heards forest dr  crestview, fl   32539         20452        631   \n",
       "48456     107 brown ave  st. petersburg, fl   33704         20458        632   \n",
       "48458     107 brown ave  st. petersburg, fl   33704         20458        633   \n",
       "\n",
       "       age  relation_to_household_head  \n",
       "82     NaN                         NaN  \n",
       "83     NaN                         NaN  \n",
       "174    NaN                         NaN  \n",
       "306    NaN                         NaN  \n",
       "323    NaN                         NaN  \n",
       "...    ...                         ...  \n",
       "48269  NaN                         NaN  \n",
       "48351  NaN                         NaN  \n",
       "48442  NaN                         NaN  \n",
       "48456  NaN                         NaN  \n",
       "48458  NaN                         NaN  \n",
       "\n",
       "[633 rows x 12 columns]"
      ]
     },
     "execution_count": 8,
     "metadata": {},
     "output_type": "execute_result"
    }
   ],
   "source": [
    "df_wic"
   ]
  },
  {
   "cell_type": "markdown",
   "id": "7cb2f5a7",
   "metadata": {},
   "source": [
    "# For round 1, match only to under-5-year olds in census"
   ]
  },
  {
   "cell_type": "code",
   "execution_count": 9,
   "id": "2f648b96",
   "metadata": {},
   "outputs": [
    {
     "data": {
      "text/plain": [
       "(2243, 12)"
      ]
     },
     "execution_count": 9,
     "metadata": {},
     "output_type": "execute_result"
    }
   ],
   "source": [
    "under5 = df_census.age<5\n",
    "df_census_u5 = df_census.loc[under5]\n",
    "df_census_u5.shape"
   ]
  },
  {
   "cell_type": "markdown",
   "id": "f1945005",
   "metadata": {},
   "source": [
    "# Create some blocking rules and make a linker to count comparisons\n",
    "\n",
    "## Questions:\n",
    "\n",
    "1. How do I determine a good blocking strategy? "
   ]
  },
  {
   "cell_type": "code",
   "execution_count": 10,
   "id": "a2223cf4",
   "metadata": {},
   "outputs": [],
   "source": [
    "# Minimal settings needed below\n",
    "initial_settings = {'link_type': 'link_only'}\n",
    "linker_test = DuckDBLinker([df_census_u5, df_wic], initial_settings)"
   ]
  },
  {
   "cell_type": "code",
   "execution_count": 11,
   "id": "709a80ca",
   "metadata": {},
   "outputs": [
    {
     "name": "stdout",
     "output_type": "stream",
     "text": [
      "Cartesion product of input: 1419819 \n",
      "\n",
      "Number of comparisons generated by 'l.first_name = r.first_name and l.last_name = r.last_name': 545\n",
      "Number of comparisons generated by 'l.sex = r.sex and l.date_of_birth = r.date_of_birth': 911\n",
      "Number of comparisons generated by 'l.address = r.address': 821\n",
      "Number of comparisons generated by 'l.zipcode = r.zipcode': 3,610\n",
      "Number of comparisons generated by 'substr(l.first_name, 1,1) = substr(r.first_name, 1,1) and substr(l.last_name, 1,1) = substr(r.last_name, 1,1)': 6,074\n"
     ]
    },
    {
     "data": {
      "text/html": [
       "\n",
       "<div id=\"altair-viz-4a50a75843744b2eac609c9658ebcab6\"></div>\n",
       "<script type=\"text/javascript\">\n",
       "  var VEGA_DEBUG = (typeof VEGA_DEBUG == \"undefined\") ? {} : VEGA_DEBUG;\n",
       "  (function(spec, embedOpt){\n",
       "    let outputDiv = document.currentScript.previousElementSibling;\n",
       "    if (outputDiv.id !== \"altair-viz-4a50a75843744b2eac609c9658ebcab6\") {\n",
       "      outputDiv = document.getElementById(\"altair-viz-4a50a75843744b2eac609c9658ebcab6\");\n",
       "    }\n",
       "    const paths = {\n",
       "      \"vega\": \"https://cdn.jsdelivr.net/npm//vega@5?noext\",\n",
       "      \"vega-lib\": \"https://cdn.jsdelivr.net/npm//vega-lib?noext\",\n",
       "      \"vega-lite\": \"https://cdn.jsdelivr.net/npm//vega-lite@4.17.0?noext\",\n",
       "      \"vega-embed\": \"https://cdn.jsdelivr.net/npm//vega-embed@6?noext\",\n",
       "    };\n",
       "\n",
       "    function maybeLoadScript(lib, version) {\n",
       "      var key = `${lib.replace(\"-\", \"\")}_version`;\n",
       "      return (VEGA_DEBUG[key] == version) ?\n",
       "        Promise.resolve(paths[lib]) :\n",
       "        new Promise(function(resolve, reject) {\n",
       "          var s = document.createElement('script');\n",
       "          document.getElementsByTagName(\"head\")[0].appendChild(s);\n",
       "          s.async = true;\n",
       "          s.onload = () => {\n",
       "            VEGA_DEBUG[key] = version;\n",
       "            return resolve(paths[lib]);\n",
       "          };\n",
       "          s.onerror = () => reject(`Error loading script: ${paths[lib]}`);\n",
       "          s.src = paths[lib];\n",
       "        });\n",
       "    }\n",
       "\n",
       "    function showError(err) {\n",
       "      outputDiv.innerHTML = `<div class=\"error\" style=\"color:red;\">${err}</div>`;\n",
       "      throw err;\n",
       "    }\n",
       "\n",
       "    function displayChart(vegaEmbed) {\n",
       "      vegaEmbed(outputDiv, spec, embedOpt)\n",
       "        .catch(err => showError(`Javascript Error: ${err.message}<br>This usually means there's a typo in your chart specification. See the javascript console for the full traceback.`));\n",
       "    }\n",
       "\n",
       "    if(typeof define === \"function\" && define.amd) {\n",
       "      requirejs.config({paths});\n",
       "      require([\"vega-embed\"], displayChart, err => showError(`Error loading script: ${err.message}`));\n",
       "    } else {\n",
       "      maybeLoadScript(\"vega\", \"5\")\n",
       "        .then(() => maybeLoadScript(\"vega-lite\", \"4.17.0\"))\n",
       "        .then(() => maybeLoadScript(\"vega-embed\", \"6\"))\n",
       "        .catch(showError)\n",
       "        .then(() => displayChart(vegaEmbed));\n",
       "    }\n",
       "  })({\"$schema\": \"https://vega.github.io/schema/vega-lite/v5.json\", \"width\": 450, \"height\": 200, \"title\": {\"text\": \"Count of Additional Comparisons Generated by Each Blocking Rule\", \"subtitle\": \"(Counts exclude comparisons already generated by previous rules)\"}, \"data\": {\"values\": [{\"row_count\": 545, \"rule\": \"l.first_name = r.first_name and l.last_name = r.last_name\", \"cumulative_rows\": 545, \"cartesian\": 1419819, \"reduction_ratio\": \"The rolling reduction ratio with your given blocking rule(s) is 1.0. \\nThis represents the reduction in the total number of comparisons due to your rule(s).\", \"start\": 0}, {\"row_count\": 387, \"rule\": \"l.sex = r.sex and l.date_of_birth = r.date_of_birth\", \"cumulative_rows\": 932, \"cartesian\": 1419819, \"reduction_ratio\": \"The rolling reduction ratio with your given blocking rule(s) is 0.999. \\nThis represents the reduction in the total number of comparisons due to your rule(s).\", \"start\": 545}, {\"row_count\": 261, \"rule\": \"l.address = r.address\", \"cumulative_rows\": 1193, \"cartesian\": 1419819, \"reduction_ratio\": \"The rolling reduction ratio with your given blocking rule(s) is 0.999. \\nThis represents the reduction in the total number of comparisons due to your rule(s).\", \"start\": 932}, {\"row_count\": 2791, \"rule\": \"l.zipcode = r.zipcode\", \"cumulative_rows\": 3984, \"cartesian\": 1419819, \"reduction_ratio\": \"The rolling reduction ratio with your given blocking rule(s) is 0.997. \\nThis represents the reduction in the total number of comparisons due to your rule(s).\", \"start\": 1193}, {\"row_count\": 5499, \"rule\": \"substr(l.first_name, 1,1) = substr(r.first_name, 1,1) and substr(l.last_name, 1,1) = substr(r.last_name, 1,1)\", \"cumulative_rows\": 9483, \"cartesian\": 1419819, \"reduction_ratio\": \"The rolling reduction ratio with your given blocking rule(s) is 0.993. \\nThis represents the reduction in the total number of comparisons due to your rule(s).\", \"start\": 3984}]}, \"mark\": \"bar\", \"encoding\": {\"x\": {\"title\": \"Comparisons Generated by Rule(s)\", \"field\": \"start\", \"type\": \"quantitative\"}, \"x2\": {\"field\": \"cumulative_rows\"}, \"y\": {\"field\": \"rule\", \"title\": \"SQL Blocking Rule\", \"sort\": [\"-x2\"]}, \"color\": {\"field\": \"rule\", \"legend\": null, \"scale\": {\"scheme\": \"category20c\"}}, \"order\": {\"field\": \"cumulative_rows\"}, \"tooltip\": [{\"type\": \"nominal\", \"field\": \"rule\", \"title\": \"SQL Condition\"}, {\"type\": \"quantitative\", \"field\": \"row_count\", \"title\": \"Comparisons Generated\", \"format\": \",\"}, {\"type\": \"quantitative\", \"field\": \"cumulative_rows\", \"title\": \"Cumulative Comparisons\", \"format\": \",\"}, {\"type\": \"quantitative\", \"field\": \"cartesian\", \"title\": \"Cartesian Product of Input Data\", \"format\": \",\"}, {\"type\": \"quantitative\", \"field\": \"reduction_ratio\", \"title\": \"Reduction Ratio (cumulative rows/cartesian product)\"}]}}, {\"mode\": \"vega-lite\"});\n",
       "</script>"
      ],
      "text/plain": [
       "<splink.charts.VegaliteNoValidate at 0x7ff8d7213e20>"
      ]
     },
     "execution_count": 11,
     "metadata": {},
     "output_type": "execute_result"
    }
   ],
   "source": [
    "blocking_rules_test = [\n",
    "#     'l.address = r.address',\n",
    "#     'l.zipcode = r.zipcode',\n",
    "#     'substr(l.zipcode, 1,3) = substr(r.zipcode, 1,3)',\n",
    "    'l.first_name = r.first_name and l.last_name = r.last_name',\n",
    "    'l.sex = r.sex and l.date_of_birth = r.date_of_birth',\n",
    "#     (\n",
    "#         'l.sex = r.sex'\n",
    "#         ' and l.date_of_birth = r.date_of_birth'\n",
    "#         ' and substr(l.first_name, 1,1) = substr(r.first_name, 1,1)'\n",
    "#         ' and substr(l.last_name, 1,1) = substr(r.last_name, 1,1)'\n",
    "#     ),\n",
    "    'l.address = r.address',\n",
    "    'l.zipcode = r.zipcode',\n",
    "    (\n",
    "        'substr(l.first_name, 1,1) = substr(r.first_name, 1,1)'\n",
    "        ' and substr(l.last_name, 1,1) = substr(r.last_name, 1,1)'\n",
    "    ),\n",
    "#     'substr(l.zipcode, 1,3) = substr(r.zipcode, 1,3)',\n",
    "]\n",
    "\n",
    "print('Cartesion product of input:', len(df_census_u5) * len(df_wic), '\\n')\n",
    "\n",
    "for rule in blocking_rules_test:\n",
    "    count = linker_test.count_num_comparisons_from_blocking_rule(rule)\n",
    "    print(f\"Number of comparisons generated by '{rule}': {count:,.0f}\")\n",
    "\n",
    "linker_test.cumulative_num_comparisons_from_blocking_rules_chart(blocking_rules_test)"
   ]
  },
  {
   "cell_type": "markdown",
   "id": "ef87877a",
   "metadata": {},
   "source": [
    "# Try to estimate how the blocking strategy will scale"
   ]
  },
  {
   "cell_type": "code",
   "execution_count": 12,
   "id": "45bbd151",
   "metadata": {},
   "outputs": [
    {
     "data": {
      "text/plain": [
       "0.09"
      ]
     },
     "execution_count": 12,
     "metadata": {},
     "output_type": "execute_result"
    }
   ],
   "source": [
    "90_000/1e6"
   ]
  },
  {
   "cell_type": "code",
   "execution_count": 13,
   "id": "7c324dc5",
   "metadata": {},
   "outputs": [
    {
     "data": {
      "text/plain": [
       "1.893580761219466"
      ]
     },
     "execution_count": 13,
     "metadata": {},
     "output_type": "execute_result"
    }
   ],
   "source": [
    "90_000 / len(df_census)"
   ]
  },
  {
   "cell_type": "code",
   "execution_count": 14,
   "id": "3a53bd84",
   "metadata": {},
   "outputs": [
    {
     "data": {
      "text/plain": [
       "3.984053443622769e-05"
      ]
     },
     "execution_count": 14,
     "metadata": {},
     "output_type": "execute_result"
    }
   ],
   "source": [
    "90_000 / len(df_census)**2 # Ratio should stay about the same when scaling up census"
   ]
  },
  {
   "cell_type": "code",
   "execution_count": 15,
   "id": "6cbf544a",
   "metadata": {},
   "outputs": [
    {
     "data": {
      "text/plain": [
       "0.002991438801294575"
      ]
     },
     "execution_count": 15,
     "metadata": {},
     "output_type": "execute_result"
    }
   ],
   "source": [
    "# Ratio should stay about the same when scaling up census\n",
    "90_000 / (len(df_census)*len(df_wic))"
   ]
  },
  {
   "cell_type": "code",
   "execution_count": 16,
   "id": "2fbdb997",
   "metadata": {},
   "outputs": [
    {
     "data": {
      "text/plain": [
       "0.013318184687243578"
      ]
     },
     "execution_count": 16,
     "metadata": {},
     "output_type": "execute_result"
    }
   ],
   "source": [
    "len(df_wic)/len(df_census) # Ratio should stay about the same when scaling up census"
   ]
  },
  {
   "cell_type": "code",
   "execution_count": 17,
   "id": "66837263",
   "metadata": {},
   "outputs": [
    {
     "data": {
      "text/plain": [
       "47754323609.41513"
      ]
     },
     "execution_count": 17,
     "metadata": {},
     "output_type": "execute_result"
    }
   ],
   "source": [
    "# Looks like maybe 47 billion comparisons would be generated...\n",
    "# Probably too many...\n",
    "(\n",
    "    (90_000 / len(df_census)**2)\n",
    "    * (len(df_wic)/len(df_census)) * (300e6)**2\n",
    ")"
   ]
  },
  {
   "cell_type": "markdown",
   "id": "f5cf2ff1",
   "metadata": {},
   "source": [
    "# 2nd attempt at blocking\n",
    "\n",
    "Order of rules doesn't matter. All that matters is:\n",
    "\n",
    "1. Is every true match captured by one of the rules?\n",
    "2. Is the total number of comparisons computationally feasible?"
   ]
  },
  {
   "cell_type": "code",
   "execution_count": 28,
   "id": "d2d938e6",
   "metadata": {},
   "outputs": [],
   "source": [
    "# Minimal settings needed below\n",
    "initial_settings = {'link_type': 'link_only'}\n",
    "linker = DuckDBLinker([df_census_u5, df_wic], initial_settings)"
   ]
  },
  {
   "cell_type": "code",
   "execution_count": 19,
   "id": "685e6727",
   "metadata": {},
   "outputs": [
    {
     "name": "stdout",
     "output_type": "stream",
     "text": [
      "Cartesion product of input: 1419819 \n",
      "\n",
      "Number of comparisons generated by 'substr(l.first_name, 1,1) = substr(r.first_name, 1,1) and substr(l.last_name, 1,1) = substr(r.last_name, 1,1)': 6,074\n",
      "Number of comparisons generated by 'l.date_of_birth = r.date_of_birth': 1,302\n",
      "Number of comparisons generated by 'l.zipcode = r.zipcode': 3,610\n",
      "Number of comparisons generated by 'l.address = r.address': 821\n",
      "Number of comparisons generated by 'l.last_name = r.last_name': 1,658\n",
      "Number of comparisons generated by 'l.first_name = r.first_name': 2,966\n"
     ]
    },
    {
     "data": {
      "text/html": [
       "\n",
       "<div id=\"altair-viz-58021eaa0c8b4daf93ec96c232cf867d\"></div>\n",
       "<script type=\"text/javascript\">\n",
       "  var VEGA_DEBUG = (typeof VEGA_DEBUG == \"undefined\") ? {} : VEGA_DEBUG;\n",
       "  (function(spec, embedOpt){\n",
       "    let outputDiv = document.currentScript.previousElementSibling;\n",
       "    if (outputDiv.id !== \"altair-viz-58021eaa0c8b4daf93ec96c232cf867d\") {\n",
       "      outputDiv = document.getElementById(\"altair-viz-58021eaa0c8b4daf93ec96c232cf867d\");\n",
       "    }\n",
       "    const paths = {\n",
       "      \"vega\": \"https://cdn.jsdelivr.net/npm//vega@5?noext\",\n",
       "      \"vega-lib\": \"https://cdn.jsdelivr.net/npm//vega-lib?noext\",\n",
       "      \"vega-lite\": \"https://cdn.jsdelivr.net/npm//vega-lite@4.17.0?noext\",\n",
       "      \"vega-embed\": \"https://cdn.jsdelivr.net/npm//vega-embed@6?noext\",\n",
       "    };\n",
       "\n",
       "    function maybeLoadScript(lib, version) {\n",
       "      var key = `${lib.replace(\"-\", \"\")}_version`;\n",
       "      return (VEGA_DEBUG[key] == version) ?\n",
       "        Promise.resolve(paths[lib]) :\n",
       "        new Promise(function(resolve, reject) {\n",
       "          var s = document.createElement('script');\n",
       "          document.getElementsByTagName(\"head\")[0].appendChild(s);\n",
       "          s.async = true;\n",
       "          s.onload = () => {\n",
       "            VEGA_DEBUG[key] = version;\n",
       "            return resolve(paths[lib]);\n",
       "          };\n",
       "          s.onerror = () => reject(`Error loading script: ${paths[lib]}`);\n",
       "          s.src = paths[lib];\n",
       "        });\n",
       "    }\n",
       "\n",
       "    function showError(err) {\n",
       "      outputDiv.innerHTML = `<div class=\"error\" style=\"color:red;\">${err}</div>`;\n",
       "      throw err;\n",
       "    }\n",
       "\n",
       "    function displayChart(vegaEmbed) {\n",
       "      vegaEmbed(outputDiv, spec, embedOpt)\n",
       "        .catch(err => showError(`Javascript Error: ${err.message}<br>This usually means there's a typo in your chart specification. See the javascript console for the full traceback.`));\n",
       "    }\n",
       "\n",
       "    if(typeof define === \"function\" && define.amd) {\n",
       "      requirejs.config({paths});\n",
       "      require([\"vega-embed\"], displayChart, err => showError(`Error loading script: ${err.message}`));\n",
       "    } else {\n",
       "      maybeLoadScript(\"vega\", \"5\")\n",
       "        .then(() => maybeLoadScript(\"vega-lite\", \"4.17.0\"))\n",
       "        .then(() => maybeLoadScript(\"vega-embed\", \"6\"))\n",
       "        .catch(showError)\n",
       "        .then(() => displayChart(vegaEmbed));\n",
       "    }\n",
       "  })({\"$schema\": \"https://vega.github.io/schema/vega-lite/v5.json\", \"width\": 450, \"height\": 200, \"title\": {\"text\": \"Count of Additional Comparisons Generated by Each Blocking Rule\", \"subtitle\": \"(Counts exclude comparisons already generated by previous rules)\"}, \"data\": {\"values\": [{\"row_count\": 6074, \"rule\": \"substr(l.first_name, 1,1) = substr(r.first_name, 1,1) and substr(l.last_name, 1,1) = substr(r.last_name, 1,1)\", \"cumulative_rows\": 6074, \"cartesian\": 1419819, \"reduction_ratio\": \"The rolling reduction ratio with your given blocking rule(s) is 0.996. \\nThis represents the reduction in the total number of comparisons due to your rule(s).\", \"start\": 0}, {\"row_count\": 752, \"rule\": \"l.date_of_birth = r.date_of_birth\", \"cumulative_rows\": 6826, \"cartesian\": 1419819, \"reduction_ratio\": \"The rolling reduction ratio with your given blocking rule(s) is 0.995. \\nThis represents the reduction in the total number of comparisons due to your rule(s).\", \"start\": 6074}, {\"row_count\": 3032, \"rule\": \"l.zipcode = r.zipcode\", \"cumulative_rows\": 9858, \"cartesian\": 1419819, \"reduction_ratio\": \"The rolling reduction ratio with your given blocking rule(s) is 0.993. \\nThis represents the reduction in the total number of comparisons due to your rule(s).\", \"start\": 6826}, {\"row_count\": 4, \"rule\": \"l.address = r.address\", \"cumulative_rows\": 9862, \"cartesian\": 1419819, \"reduction_ratio\": \"The rolling reduction ratio with your given blocking rule(s) is 0.993. \\nThis represents the reduction in the total number of comparisons due to your rule(s).\", \"start\": 9858}, {\"row_count\": 1031, \"rule\": \"l.last_name = r.last_name\", \"cumulative_rows\": 10893, \"cartesian\": 1419819, \"reduction_ratio\": \"The rolling reduction ratio with your given blocking rule(s) is 0.992. \\nThis represents the reduction in the total number of comparisons due to your rule(s).\", \"start\": 9862}, {\"row_count\": 2260, \"rule\": \"l.first_name = r.first_name\", \"cumulative_rows\": 13153, \"cartesian\": 1419819, \"reduction_ratio\": \"The rolling reduction ratio with your given blocking rule(s) is 0.991. \\nThis represents the reduction in the total number of comparisons due to your rule(s).\", \"start\": 10893}]}, \"mark\": \"bar\", \"encoding\": {\"x\": {\"title\": \"Comparisons Generated by Rule(s)\", \"field\": \"start\", \"type\": \"quantitative\"}, \"x2\": {\"field\": \"cumulative_rows\"}, \"y\": {\"field\": \"rule\", \"title\": \"SQL Blocking Rule\", \"sort\": [\"-x2\"]}, \"color\": {\"field\": \"rule\", \"legend\": null, \"scale\": {\"scheme\": \"category20c\"}}, \"order\": {\"field\": \"cumulative_rows\"}, \"tooltip\": [{\"type\": \"nominal\", \"field\": \"rule\", \"title\": \"SQL Condition\"}, {\"type\": \"quantitative\", \"field\": \"row_count\", \"title\": \"Comparisons Generated\", \"format\": \",\"}, {\"type\": \"quantitative\", \"field\": \"cumulative_rows\", \"title\": \"Cumulative Comparisons\", \"format\": \",\"}, {\"type\": \"quantitative\", \"field\": \"cartesian\", \"title\": \"Cartesian Product of Input Data\", \"format\": \",\"}, {\"type\": \"quantitative\", \"field\": \"reduction_ratio\", \"title\": \"Reduction Ratio (cumulative rows/cartesian product)\"}]}}, {\"mode\": \"vega-lite\"});\n",
       "</script>"
      ],
      "text/plain": [
       "<splink.charts.VegaliteNoValidate at 0x7ff8d59dafd0>"
      ]
     },
     "execution_count": 19,
     "metadata": {},
     "output_type": "execute_result"
    }
   ],
   "source": [
    "prediction_blocking_rules = [\n",
    "    (\n",
    "        'substr(l.first_name, 1,1) = substr(r.first_name, 1,1)'\n",
    "        ' and substr(l.last_name, 1,1) = substr(r.last_name, 1,1)'\n",
    "    ),\n",
    "    'l.date_of_birth = r.date_of_birth',\n",
    "    'l.zipcode = r.zipcode',\n",
    "    'l.address = r.address',\n",
    "    'l.last_name = r.last_name',\n",
    "    'l.first_name = r.first_name',\n",
    "#     'l.sex = r.sex and substr(l.zipcode, 1,3) = substr(r.zipcode, 1,3)',\n",
    "]\n",
    "\n",
    "print('Cartesion product of input:', len(df_census_u5) * len(df_wic), '\\n')\n",
    "\n",
    "for rule in prediction_blocking_rules:\n",
    "    count = linker.count_num_comparisons_from_blocking_rule(rule)\n",
    "    print(f\"Number of comparisons generated by '{rule}': {count:,.0f}\")\n",
    "\n",
    "linker.cumulative_num_comparisons_from_blocking_rules_chart(prediction_blocking_rules)"
   ]
  },
  {
   "cell_type": "code",
   "execution_count": null,
   "id": "302f40e2",
   "metadata": {},
   "outputs": [],
   "source": []
  },
  {
   "cell_type": "markdown",
   "id": "a6d2cee8",
   "metadata": {},
   "source": [
    "# Define comparisons we want to use"
   ]
  },
  {
   "cell_type": "code",
   "execution_count": 31,
   "id": "645da834",
   "metadata": {},
   "outputs": [],
   "source": [
    "comparisons = [\n",
    "        cl.levenshtein_at_thresholds(\"first_name\"),\n",
    "        cl.levenshtein_at_thresholds(\"last_name\"),\n",
    "#         c1.exact_match(\"last_name\"),\n",
    "        cl.levenshtein_at_thresholds(\"date_of_birth\", 1),\n",
    "        cl.exact_match(\"sex\"),\n",
    "        cl.levenshtein_at_thresholds(\"zipcode\"),\n",
    "    ]"
   ]
  },
  {
   "cell_type": "markdown",
   "id": "f3db7342",
   "metadata": {},
   "source": [
    "# Create a settings dictionary"
   ]
  },
  {
   "cell_type": "code",
   "execution_count": 32,
   "id": "e32cb21e",
   "metadata": {},
   "outputs": [],
   "source": [
    "settings = {\n",
    "    \"link_type\": \"link_only\",\n",
    "    \"comparisons\": comparisons,\n",
    "    \"blocking_rules_to_generate_predictions\": prediction_blocking_rules,\n",
    "    \"probability_two_random_records_match\": 1/len(df_census_u5),\n",
    "    \"retain_matching_columns\": True,\n",
    "    \"retain_intermediate_calculation_columns\": True,\n",
    "}\n",
    "\n",
    "linker.initialise_settings(settings)"
   ]
  },
  {
   "cell_type": "code",
   "execution_count": 33,
   "id": "848650bb",
   "metadata": {},
   "outputs": [
    {
     "name": "stderr",
     "output_type": "stream",
     "text": [
      "----- Estimating u probabilities using random sampling -----\n",
      "\n",
      "Estimated u probabilities using random sampling\n",
      "\n",
      "Your model is not yet fully trained. Missing estimates for:\n",
      "    - first_name (no m values are trained).\n",
      "    - last_name (no m values are trained).\n",
      "    - date_of_birth (no m values are trained).\n",
      "    - sex (no m values are trained).\n",
      "    - zipcode (no m values are trained).\n"
     ]
    },
    {
     "name": "stdout",
     "output_type": "stream",
     "text": [
      "CPU times: user 3.07 s, sys: 0 ns, total: 3.07 s\n",
      "Wall time: 1.57 s\n"
     ]
    }
   ],
   "source": [
    "%%time\n",
    "linker.estimate_u_using_random_sampling(target_rows=len(df_wic)*len(df_census_u5))"
   ]
  },
  {
   "cell_type": "code",
   "execution_count": 44,
   "id": "b7631b18",
   "metadata": {},
   "outputs": [
    {
     "name": "stdout",
     "output_type": "stream",
     "text": [
      "Number of comparisons generated by 'l.first_name = r.first_name': 2,966\n",
      "Number of comparisons generated by 'l.zipcode = r.zipcode': 3,610\n"
     ]
    }
   ],
   "source": [
    "# training_blocking_rules = [\n",
    "#     \"l.first_name = r.first_name and l.last_name = r.last_name and l.zipcode = r.zipcode\",\n",
    "#     \"l.first_name = r.first_name and l.date_of_birth = r.date_of_birth and l.zipcode = r.zipcode\",\n",
    "#     \"l.last_name = r.last_name and l.date_of_birth = r.date_of_birth and l.zipcode = r.zipcode\",\n",
    "#     \"l.last_name = r.last_name and l.date_of_birth = r.date_of_birth and l.first_name = r.first_name\"\n",
    "# ]\n",
    "\n",
    "training_blocking_rules = [\n",
    "    \"l.first_name = r.first_name\",\n",
    "    \"l.zipcode = r.zipcode\",\n",
    "]\n",
    "\n",
    "for rule in training_blocking_rules:\n",
    "    count = linker.count_num_comparisons_from_blocking_rule(rule)\n",
    "    print(f\"Number of comparisons generated by '{rule}': {count:,.0f}\")\n",
    "\n",
    "# linker.cumulative_num_comparisons_from_blocking_rules_chart(training_blocking_rules)"
   ]
  },
  {
   "cell_type": "code",
   "execution_count": 25,
   "id": "02516d1f",
   "metadata": {},
   "outputs": [
    {
     "name": "stderr",
     "output_type": "stream",
     "text": [
      "\n",
      "----- Starting EM training session -----\n",
      "\n",
      "Estimating the m probabilities of the model by blocking on:\n",
      "l.first_name = r.first_name\n",
      "\n",
      "Parameter estimates will be made for the following comparison(s):\n",
      "    - last_name\n",
      "    - date_of_birth\n",
      "    - sex\n",
      "    - zipcode\n",
      "\n",
      "Parameter estimates cannot be made for the following comparison(s) since they are used in the blocking rules: \n",
      "    - first_name\n",
      "\n",
      "Iteration 1: Largest change in params was 0.0441 in probability_two_random_records_match\n",
      "Iteration 2: Largest change in params was 0.000417 in the m_probability of last_name, level `Exact match`\n",
      "Iteration 3: Largest change in params was 2.24e-05 in the m_probability of last_name, level `Exact match`\n",
      "\n",
      "EM converged after 3 iterations\n",
      "\n",
      "Your model is not yet fully trained. Missing estimates for:\n",
      "    - first_name (no m values are trained).\n",
      "\n",
      "----- Starting EM training session -----\n",
      "\n",
      "Estimating the m probabilities of the model by blocking on:\n",
      "l.zipcode = r.zipcode\n",
      "\n",
      "Parameter estimates will be made for the following comparison(s):\n",
      "    - first_name\n",
      "    - last_name\n",
      "    - date_of_birth\n",
      "    - sex\n",
      "\n",
      "Parameter estimates cannot be made for the following comparison(s) since they are used in the blocking rules: \n",
      "    - zipcode\n",
      "\n",
      "Iteration 1: Largest change in params was 0.028 in probability_two_random_records_match\n",
      "Iteration 2: Largest change in params was 8.38e-05 in the m_probability of date_of_birth, level `All other comparisons`\n",
      "\n",
      "EM converged after 2 iterations\n",
      "\n",
      "Your model is fully trained. All comparisons have at least one estimate for their m and u values\n"
     ]
    },
    {
     "name": "stdout",
     "output_type": "stream",
     "text": [
      "CPU times: user 321 ms, sys: 27 ms, total: 348 ms\n",
      "Wall time: 329 ms\n"
     ]
    }
   ],
   "source": [
    "%%time\n",
    "training_sessions = {}\n",
    "for rule in training_blocking_rules:\n",
    "    training_sessions[rule] = linker.estimate_parameters_using_expectation_maximisation(rule)\n",
    "    "
   ]
  },
  {
   "cell_type": "code",
   "execution_count": 26,
   "id": "4cea71e7",
   "metadata": {},
   "outputs": [
    {
     "data": {
      "text/html": [
       "\n",
       "<div id=\"altair-viz-5b7df65a525d47f8995479031da01d04\"></div>\n",
       "<script type=\"text/javascript\">\n",
       "  var VEGA_DEBUG = (typeof VEGA_DEBUG == \"undefined\") ? {} : VEGA_DEBUG;\n",
       "  (function(spec, embedOpt){\n",
       "    let outputDiv = document.currentScript.previousElementSibling;\n",
       "    if (outputDiv.id !== \"altair-viz-5b7df65a525d47f8995479031da01d04\") {\n",
       "      outputDiv = document.getElementById(\"altair-viz-5b7df65a525d47f8995479031da01d04\");\n",
       "    }\n",
       "    const paths = {\n",
       "      \"vega\": \"https://cdn.jsdelivr.net/npm//vega@5?noext\",\n",
       "      \"vega-lib\": \"https://cdn.jsdelivr.net/npm//vega-lib?noext\",\n",
       "      \"vega-lite\": \"https://cdn.jsdelivr.net/npm//vega-lite@4.17.0?noext\",\n",
       "      \"vega-embed\": \"https://cdn.jsdelivr.net/npm//vega-embed@6?noext\",\n",
       "    };\n",
       "\n",
       "    function maybeLoadScript(lib, version) {\n",
       "      var key = `${lib.replace(\"-\", \"\")}_version`;\n",
       "      return (VEGA_DEBUG[key] == version) ?\n",
       "        Promise.resolve(paths[lib]) :\n",
       "        new Promise(function(resolve, reject) {\n",
       "          var s = document.createElement('script');\n",
       "          document.getElementsByTagName(\"head\")[0].appendChild(s);\n",
       "          s.async = true;\n",
       "          s.onload = () => {\n",
       "            VEGA_DEBUG[key] = version;\n",
       "            return resolve(paths[lib]);\n",
       "          };\n",
       "          s.onerror = () => reject(`Error loading script: ${paths[lib]}`);\n",
       "          s.src = paths[lib];\n",
       "        });\n",
       "    }\n",
       "\n",
       "    function showError(err) {\n",
       "      outputDiv.innerHTML = `<div class=\"error\" style=\"color:red;\">${err}</div>`;\n",
       "      throw err;\n",
       "    }\n",
       "\n",
       "    function displayChart(vegaEmbed) {\n",
       "      vegaEmbed(outputDiv, spec, embedOpt)\n",
       "        .catch(err => showError(`Javascript Error: ${err.message}<br>This usually means there's a typo in your chart specification. See the javascript console for the full traceback.`));\n",
       "    }\n",
       "\n",
       "    if(typeof define === \"function\" && define.amd) {\n",
       "      requirejs.config({paths});\n",
       "      require([\"vega-embed\"], displayChart, err => showError(`Error loading script: ${err.message}`));\n",
       "    } else {\n",
       "      maybeLoadScript(\"vega\", \"5\")\n",
       "        .then(() => maybeLoadScript(\"vega-lite\", \"4.17.0\"))\n",
       "        .then(() => maybeLoadScript(\"vega-embed\", \"6\"))\n",
       "        .catch(showError)\n",
       "        .then(() => displayChart(vegaEmbed));\n",
       "    }\n",
       "  })({\"config\": {\"view\": {\"width\": 400, \"height\": 300}, \"title\": {\"anchor\": \"middle\", \"offset\": 10}, \"header\": {\"title\": null}}, \"hconcat\": [{\"mark\": \"bar\", \"title\": {\"text\": \"Amongst matching record comparisons:\", \"fontWeight\": \"bold\", \"fontSize\": 12}, \"encoding\": {\"row\": {\"type\": \"nominal\", \"field\": \"comparison_name\", \"sort\": {\"field\": \"comparison_sort_order\"}, \"header\": {\"labelAngle\": 0, \"labelAnchor\": \"middle\", \"labelAlign\": \"left\"}}, \"x\": {\"type\": \"quantitative\", \"field\": \"m_probability\", \"axis\": {\"title\": \"Proportion of record comparisons\"}}, \"y\": {\"type\": \"nominal\", \"axis\": {\"title\": null}, \"field\": \"label_for_charts\", \"sort\": {\"field\": \"comparison_vector_value\", \"order\": \"descending\"}}, \"tooltip\": [{\"type\": \"nominal\", \"field\": \"m_probability_description\", \"title\": \"m probability description\"}, {\"type\": \"nominal\", \"field\": \"comparison_name\", \"title\": \"Comparison column name\"}, {\"type\": \"ordinal\", \"field\": \"label_for_charts\", \"title\": \"Label\"}, {\"type\": \"nominal\", \"field\": \"sql_condition\", \"title\": \"SQL condition\"}, {\"type\": \"quantitative\", \"field\": \"m_probability\", \"format\": \".4p\", \"title\": \"m probability\"}, {\"type\": \"quantitative\", \"field\": \"u_probability\", \"format\": \".4p\", \"title\": \"u probability\"}, {\"type\": \"quantitative\", \"field\": \"bayes_factor\", \"title\": \"Bayes factor = m/u\", \"format\": \",.4f\"}, {\"type\": \"quantitative\", \"field\": \"log2_bayes_factor\", \"title\": \"Match weight = log2(m/u)\", \"format\": \",.4f\"}], \"color\": {\"value\": \"green\"}}, \"resolve\": {\"scale\": {\"y\": \"independent\"}}, \"transform\": [{\"filter\": \"(datum.bayes_factor != 'no-op filter due to vega lite issue 4680')\"}], \"width\": 150, \"height\": 50}, {\"mark\": \"bar\", \"title\": {\"text\": \"Amongst non-matching record comparisons:\", \"fontWeight\": \"bold\", \"fontSize\": 12}, \"encoding\": {\"row\": {\"type\": \"nominal\", \"field\": \"comparison_name\", \"sort\": {\"field\": \"comparison_sort_order\"}, \"header\": {\"labels\": false}}, \"x\": {\"type\": \"quantitative\", \"field\": \"u_probability\", \"axis\": {\"title\": \"Proportion of record comparisons\"}}, \"y\": {\"type\": \"nominal\", \"axis\": {\"title\": null}, \"field\": \"label_for_charts\", \"sort\": {\"field\": \"comparison_vector_value\", \"order\": \"descending\"}}, \"tooltip\": [{\"type\": \"nominal\", \"field\": \"u_probability_description\", \"title\": \"u probability description\"}, {\"type\": \"nominal\", \"field\": \"comparison_name\", \"title\": \"Comparison column name\"}, {\"type\": \"ordinal\", \"field\": \"label_for_charts\", \"title\": \"Label\"}, {\"type\": \"nominal\", \"field\": \"sql_condition\", \"title\": \"SQL condition\"}, {\"type\": \"quantitative\", \"field\": \"m_probability\", \"format\": \".4p\", \"title\": \"m probability\"}, {\"type\": \"quantitative\", \"field\": \"u_probability\", \"format\": \".4p\", \"title\": \"u probability\"}, {\"type\": \"quantitative\", \"field\": \"bayes_factor\", \"title\": \"Bayes factor = m/u\", \"format\": \",.4f\"}, {\"type\": \"quantitative\", \"field\": \"log2_bayes_factor\", \"title\": \"Match weight = log2(m/u)\", \"format\": \",.4f\"}], \"color\": {\"value\": \"red\"}}, \"resolve\": {\"scale\": {\"y\": \"independent\"}}, \"transform\": [{\"filter\": \"(datum.bayes_factor != 'no-op filter2 due to vega lite issue 4680')\"}], \"width\": 150, \"height\": 50}], \"data\": {\"values\": [{\"comparison_name\": \"first_name\", \"sql_condition\": \"\\\"first_name_l\\\" = \\\"first_name_r\\\"\", \"label_for_charts\": \"Exact match\", \"m_probability\": 0.974700862284734, \"u_probability\": 0.002543135385114414, \"m_probability_description\": \"Amongst matching record comparisons, 97.47% of records are in the exact match comparison level\", \"u_probability_description\": \"Amongst non-matching record comparisons, 0.25% of records are in the exact match comparison level\", \"has_tf_adjustments\": false, \"tf_adjustment_column\": null, \"tf_adjustment_weight\": 1.0, \"is_null_level\": false, \"bayes_factor\": 383.2673903205837, \"log2_bayes_factor\": 8.5822074437855, \"comparison_vector_value\": 3, \"max_comparison_vector_value\": 3, \"bayes_factor_description\": \"If comparison level is `exact match` then comparison is 383.27 times more likely to be a match\", \"probability_two_random_records_match\": 0.00044583147570218456, \"comparison_sort_order\": 0}, {\"comparison_name\": \"first_name\", \"sql_condition\": \"levenshtein(\\\"first_name_l\\\", \\\"first_name_r\\\") <= 1\", \"label_for_charts\": \"levenshtein <= 1\", \"m_probability\": 0.00894408759258044, \"u_probability\": 0.0011359652103924665, \"m_probability_description\": \"Amongst matching record comparisons, 0.89% of records are in the levenshtein <= 1 comparison level\", \"u_probability_description\": \"Amongst non-matching record comparisons, 0.11% of records are in the levenshtein <= 1 comparison level\", \"has_tf_adjustments\": false, \"tf_adjustment_column\": null, \"tf_adjustment_weight\": 1.0, \"is_null_level\": false, \"bayes_factor\": 7.873557667747881, \"log2_bayes_factor\": 2.977015664938953, \"comparison_vector_value\": 2, \"max_comparison_vector_value\": 3, \"bayes_factor_description\": \"If comparison level is `levenshtein <= 1` then comparison is 7.87 times more likely to be a match\", \"probability_two_random_records_match\": 0.00044583147570218456, \"comparison_sort_order\": 0}, {\"comparison_name\": \"first_name\", \"sql_condition\": \"levenshtein(\\\"first_name_l\\\", \\\"first_name_r\\\") <= 2\", \"label_for_charts\": \"levenshtein <= 2\", \"m_probability\": 0.0017851192431774371, \"u_probability\": 0.005371608003171012, \"m_probability_description\": \"Amongst matching record comparisons, 0.18% of records are in the levenshtein <= 2 comparison level\", \"u_probability_description\": \"Amongst non-matching record comparisons, 0.54% of records are in the levenshtein <= 2 comparison level\", \"has_tf_adjustments\": false, \"tf_adjustment_column\": null, \"tf_adjustment_weight\": 1.0, \"is_null_level\": false, \"bayes_factor\": 0.33232492805201547, \"log2_bayes_factor\": -1.5893335796842172, \"comparison_vector_value\": 1, \"max_comparison_vector_value\": 3, \"bayes_factor_description\": \"If comparison level is `levenshtein <= 2` then comparison is  3.01 times less likely to be a match\", \"probability_two_random_records_match\": 0.00044583147570218456, \"comparison_sort_order\": 0}, {\"comparison_name\": \"first_name\", \"sql_condition\": \"ELSE\", \"label_for_charts\": \"All other comparisons\", \"m_probability\": 0.014569930879508095, \"u_probability\": 0.9909492914013222, \"m_probability_description\": \"Amongst matching record comparisons, 1.46% of records are in the all other comparisons comparison level\", \"u_probability_description\": \"Amongst non-matching record comparisons, 99.09% of records are in the all other comparisons comparison level\", \"has_tf_adjustments\": false, \"tf_adjustment_column\": null, \"tf_adjustment_weight\": 1.0, \"is_null_level\": false, \"bayes_factor\": 0.014703003479526636, \"log2_bayes_factor\": -6.087745295773468, \"comparison_vector_value\": 0, \"max_comparison_vector_value\": 3, \"bayes_factor_description\": \"If comparison level is `all other comparisons` then comparison is  68.01 times less likely to be a match\", \"probability_two_random_records_match\": 0.00044583147570218456, \"comparison_sort_order\": 0}, {\"comparison_name\": \"last_name\", \"sql_condition\": \"\\\"last_name_l\\\" = \\\"last_name_r\\\"\", \"label_for_charts\": \"Exact match\", \"m_probability\": 0.9834177851021084, \"u_probability\": 0.001708658571792934, \"m_probability_description\": \"Amongst matching record comparisons, 98.34% of records are in the exact match comparison level\", \"u_probability_description\": \"Amongst non-matching record comparisons, 0.17% of records are in the exact match comparison level\", \"has_tf_adjustments\": false, \"tf_adjustment_column\": null, \"tf_adjustment_weight\": 1.0, \"is_null_level\": false, \"bayes_factor\": 575.5496161355313, \"log2_bayes_factor\": 9.168796493227308, \"comparison_vector_value\": 3, \"max_comparison_vector_value\": 3, \"bayes_factor_description\": \"If comparison level is `exact match` then comparison is 575.55 times more likely to be a match\", \"probability_two_random_records_match\": 0.00044583147570218456, \"comparison_sort_order\": 1}, {\"comparison_name\": \"last_name\", \"sql_condition\": \"levenshtein(\\\"last_name_l\\\", \\\"last_name_r\\\") <= 1\", \"label_for_charts\": \"levenshtein <= 1\", \"m_probability\": 0.003588950152865377, \"u_probability\": 0.00017766280541683127, \"m_probability_description\": \"Amongst matching record comparisons, 0.36% of records are in the levenshtein <= 1 comparison level\", \"u_probability_description\": \"Amongst non-matching record comparisons, 0.02% of records are in the levenshtein <= 1 comparison level\", \"has_tf_adjustments\": false, \"tf_adjustment_column\": null, \"tf_adjustment_weight\": 1.0, \"is_null_level\": false, \"bayes_factor\": 20.200908932204502, \"log2_bayes_factor\": 4.336348302838814, \"comparison_vector_value\": 2, \"max_comparison_vector_value\": 3, \"bayes_factor_description\": \"If comparison level is `levenshtein <= 1` then comparison is 20.20 times more likely to be a match\", \"probability_two_random_records_match\": 0.00044583147570218456, \"comparison_sort_order\": 1}, {\"comparison_name\": \"last_name\", \"sql_condition\": \"levenshtein(\\\"last_name_l\\\", \\\"last_name_r\\\") <= 2\", \"label_for_charts\": \"levenshtein <= 2\", \"m_probability\": 0.0035962939633962226, \"u_probability\": 0.0019798635361224152, \"m_probability_description\": \"Amongst matching record comparisons, 0.36% of records are in the levenshtein <= 2 comparison level\", \"u_probability_description\": \"Amongst non-matching record comparisons, 0.20% of records are in the levenshtein <= 2 comparison level\", \"has_tf_adjustments\": false, \"tf_adjustment_column\": null, \"tf_adjustment_weight\": 1.0, \"is_null_level\": false, \"bayes_factor\": 1.8164352733318199, \"log2_bayes_factor\": 0.8611099578222453, \"comparison_vector_value\": 1, \"max_comparison_vector_value\": 3, \"bayes_factor_description\": \"If comparison level is `levenshtein <= 2` then comparison is 1.82 times more likely to be a match\", \"probability_two_random_records_match\": 0.00044583147570218456, \"comparison_sort_order\": 1}, {\"comparison_name\": \"last_name\", \"sql_condition\": \"ELSE\", \"label_for_charts\": \"All other comparisons\", \"m_probability\": 0.009396970781630027, \"u_probability\": 0.9961338150866679, \"m_probability_description\": \"Amongst matching record comparisons, 0.94% of records are in the all other comparisons comparison level\", \"u_probability_description\": \"Amongst non-matching record comparisons, 99.61% of records are in the all other comparisons comparison level\", \"has_tf_adjustments\": false, \"tf_adjustment_column\": null, \"tf_adjustment_weight\": 1.0, \"is_null_level\": false, \"bayes_factor\": 0.009433442213597027, \"log2_bayes_factor\": -6.72799998583696, \"comparison_vector_value\": 0, \"max_comparison_vector_value\": 3, \"bayes_factor_description\": \"If comparison level is `all other comparisons` then comparison is  106.01 times less likely to be a match\", \"probability_two_random_records_match\": 0.00044583147570218456, \"comparison_sort_order\": 1}, {\"comparison_name\": \"date_of_birth\", \"sql_condition\": \"\\\"date_of_birth_l\\\" = \\\"date_of_birth_r\\\"\", \"label_for_charts\": \"Exact match\", \"m_probability\": 0.9797982206381115, \"u_probability\": 0.0014852341346778281, \"m_probability_description\": \"Amongst matching record comparisons, 97.98% of records are in the exact match comparison level\", \"u_probability_description\": \"Amongst non-matching record comparisons, 0.15% of records are in the exact match comparison level\", \"has_tf_adjustments\": false, \"tf_adjustment_column\": null, \"tf_adjustment_weight\": 1.0, \"is_null_level\": false, \"bayes_factor\": 659.6927701575119, \"log2_bayes_factor\": 9.365650483691248, \"comparison_vector_value\": 2, \"max_comparison_vector_value\": 2, \"bayes_factor_description\": \"If comparison level is `exact match` then comparison is 659.69 times more likely to be a match\", \"probability_two_random_records_match\": 0.00044583147570218456, \"comparison_sort_order\": 2}, {\"comparison_name\": \"date_of_birth\", \"sql_condition\": \"levenshtein(\\\"date_of_birth_l\\\", \\\"date_of_birth_r\\\") <= 1\", \"label_for_charts\": \"levenshtein <= 1\", \"m_probability\": 0.003597681524864754, \"u_probability\": 0.010530559011979452, \"m_probability_description\": \"Amongst matching record comparisons, 0.36% of records are in the levenshtein <= 1 comparison level\", \"u_probability_description\": \"Amongst non-matching record comparisons, 1.05% of records are in the levenshtein <= 1 comparison level\", \"has_tf_adjustments\": false, \"tf_adjustment_column\": null, \"tf_adjustment_weight\": 1.0, \"is_null_level\": false, \"bayes_factor\": 0.34164202686410755, \"log2_bayes_factor\": -1.5494426368523198, \"comparison_vector_value\": 1, \"max_comparison_vector_value\": 2, \"bayes_factor_description\": \"If comparison level is `levenshtein <= 1` then comparison is  2.93 times less likely to be a match\", \"probability_two_random_records_match\": 0.00044583147570218456, \"comparison_sort_order\": 2}, {\"comparison_name\": \"date_of_birth\", \"sql_condition\": \"ELSE\", \"label_for_charts\": \"All other comparisons\", \"m_probability\": 0.0166040978370238, \"u_probability\": 0.9879842068533428, \"m_probability_description\": \"Amongst matching record comparisons, 1.66% of records are in the all other comparisons comparison level\", \"u_probability_description\": \"Amongst non-matching record comparisons, 98.80% of records are in the all other comparisons comparison level\", \"has_tf_adjustments\": false, \"tf_adjustment_column\": null, \"tf_adjustment_weight\": 1.0, \"is_null_level\": false, \"bayes_factor\": 0.01680603568543533, \"log2_bayes_factor\": -5.894876737149604, \"comparison_vector_value\": 0, \"max_comparison_vector_value\": 2, \"bayes_factor_description\": \"If comparison level is `all other comparisons` then comparison is  59.50 times less likely to be a match\", \"probability_two_random_records_match\": 0.00044583147570218456, \"comparison_sort_order\": 2}, {\"comparison_name\": \"sex\", \"sql_condition\": \"\\\"sex_l\\\" = \\\"sex_r\\\"\", \"label_for_charts\": \"Exact match\", \"m_probability\": 0.9820522364567129, \"u_probability\": 0.4919853212836676, \"m_probability_description\": \"Amongst matching record comparisons, 98.21% of records are in the exact match comparison level\", \"u_probability_description\": \"Amongst non-matching record comparisons, 49.20% of records are in the exact match comparison level\", \"has_tf_adjustments\": false, \"tf_adjustment_column\": null, \"tf_adjustment_weight\": 1.0, \"is_null_level\": false, \"bayes_factor\": 1.9961006842529023, \"log2_bayes_factor\": 0.997184492723715, \"comparison_vector_value\": 1, \"max_comparison_vector_value\": 1, \"bayes_factor_description\": \"If comparison level is `exact match` then comparison is 2.00 times more likely to be a match\", \"probability_two_random_records_match\": 0.00044583147570218456, \"comparison_sort_order\": 3}, {\"comparison_name\": \"sex\", \"sql_condition\": \"ELSE\", \"label_for_charts\": \"All other comparisons\", \"m_probability\": 0.01794776354328702, \"u_probability\": 0.5080146787163324, \"m_probability_description\": \"Amongst matching record comparisons, 1.79% of records are in the all other comparisons comparison level\", \"u_probability_description\": \"Amongst non-matching record comparisons, 50.80% of records are in the all other comparisons comparison level\", \"has_tf_adjustments\": false, \"tf_adjustment_column\": null, \"tf_adjustment_weight\": 1.0, \"is_null_level\": false, \"bayes_factor\": 0.035329222353649305, \"log2_bayes_factor\": -4.822994195963114, \"comparison_vector_value\": 0, \"max_comparison_vector_value\": 1, \"bayes_factor_description\": \"If comparison level is `all other comparisons` then comparison is  28.31 times less likely to be a match\", \"probability_two_random_records_match\": 0.00044583147570218456, \"comparison_sort_order\": 3}, {\"comparison_name\": \"zipcode\", \"sql_condition\": \"\\\"zipcode_l\\\" = \\\"zipcode_r\\\"\", \"label_for_charts\": \"Exact match\", \"m_probability\": 0.985547625537668, \"u_probability\": 0.0030169028662259643, \"m_probability_description\": \"Amongst matching record comparisons, 98.55% of records are in the exact match comparison level\", \"u_probability_description\": \"Amongst non-matching record comparisons, 0.30% of records are in the exact match comparison level\", \"has_tf_adjustments\": false, \"tf_adjustment_column\": null, \"tf_adjustment_weight\": 1.0, \"is_null_level\": false, \"bayes_factor\": 326.675292257769, \"log2_bayes_factor\": 8.351713531954532, \"comparison_vector_value\": 3, \"max_comparison_vector_value\": 3, \"bayes_factor_description\": \"If comparison level is `exact match` then comparison is 326.68 times more likely to be a match\", \"probability_two_random_records_match\": 0.00044583147570218456, \"comparison_sort_order\": 4}, {\"comparison_name\": \"zipcode\", \"sql_condition\": \"levenshtein(\\\"zipcode_l\\\", \\\"zipcode_r\\\") <= 1\", \"label_for_charts\": \"levenshtein <= 1\", \"m_probability\": 0.009037715996036791, \"u_probability\": 0.01654821358030258, \"m_probability_description\": \"Amongst matching record comparisons, 0.90% of records are in the levenshtein <= 1 comparison level\", \"u_probability_description\": \"Amongst non-matching record comparisons, 1.65% of records are in the levenshtein <= 1 comparison level\", \"has_tf_adjustments\": false, \"tf_adjustment_column\": null, \"tf_adjustment_weight\": 1.0, \"is_null_level\": false, \"bayes_factor\": 0.5461445099303305, \"log2_bayes_factor\": -0.8726453558759439, \"comparison_vector_value\": 2, \"max_comparison_vector_value\": 3, \"bayes_factor_description\": \"If comparison level is `levenshtein <= 1` then comparison is  1.83 times less likely to be a match\", \"probability_two_random_records_match\": 0.00044583147570218456, \"comparison_sort_order\": 4}, {\"comparison_name\": \"zipcode\", \"sql_condition\": \"levenshtein(\\\"zipcode_l\\\", \\\"zipcode_r\\\") <= 2\", \"label_for_charts\": \"levenshtein <= 2\", \"m_probability\": 0.0054146584604350895, \"u_probability\": 0.1290693362746398, \"m_probability_description\": \"Amongst matching record comparisons, 0.54% of records are in the levenshtein <= 2 comparison level\", \"u_probability_description\": \"Amongst non-matching record comparisons, 12.91% of records are in the levenshtein <= 2 comparison level\", \"has_tf_adjustments\": false, \"tf_adjustment_column\": null, \"tf_adjustment_weight\": 1.0, \"is_null_level\": false, \"bayes_factor\": 0.04195154803394607, \"log2_bayes_factor\": -4.575132141929867, \"comparison_vector_value\": 1, \"max_comparison_vector_value\": 3, \"bayes_factor_description\": \"If comparison level is `levenshtein <= 2` then comparison is  23.84 times less likely to be a match\", \"probability_two_random_records_match\": 0.00044583147570218456, \"comparison_sort_order\": 4}, {\"comparison_name\": \"zipcode\", \"sql_condition\": \"ELSE\", \"label_for_charts\": \"All other comparisons\", \"m_probability\": 5.86013583126626e-12, \"u_probability\": 0.8513655472788316, \"m_probability_description\": \"Amongst matching record comparisons, 0.00% of records are in the all other comparisons comparison level\", \"u_probability_description\": \"Amongst non-matching record comparisons, 85.14% of records are in the all other comparisons comparison level\", \"has_tf_adjustments\": false, \"tf_adjustment_column\": null, \"tf_adjustment_weight\": 1.0, \"is_null_level\": false, \"bayes_factor\": 6.883219376208796e-12, \"log2_bayes_factor\": -37.08005364759374, \"comparison_vector_value\": 0, \"max_comparison_vector_value\": 3, \"bayes_factor_description\": \"If comparison level is `all other comparisons` then comparison is  145,280,855,562.50 times less likely to be a match\", \"probability_two_random_records_match\": 0.00044583147570218456, \"comparison_sort_order\": 4}]}, \"title\": {\"text\": \"Proportion of record comparisons in each comparison level by match status\", \"subtitle\": \"(m and u probabilities)\"}, \"$schema\": \"https://vega.github.io/schema/vega-lite/v4.json\"}, {\"mode\": \"vega-lite\"});\n",
       "</script>"
      ],
      "text/plain": [
       "<splink.charts.VegaliteNoValidate at 0x7ff932a1c2e0>"
      ]
     },
     "execution_count": 26,
     "metadata": {},
     "output_type": "execute_result"
    }
   ],
   "source": [
    "linker.m_u_parameters_chart()"
   ]
  },
  {
   "cell_type": "code",
   "execution_count": 27,
   "id": "e4dbf598",
   "metadata": {},
   "outputs": [],
   "source": [
    "# \"comparisons\": [\n",
    "#         levenshtein(\"first_name\", 2, term_frequency_adjustments=True),\n",
    "#         levenshtein(\"last_name\", 2, term_frequency_adjustments=True),\n",
    "#         levenshtein(\"dob\", 2, term_frequency_adjustments=True),\n",
    "#         exact_match(\"sex\"),\n",
    "#         levenshtein(\"zip\", 2, term_frequency_adjustments=True),\n",
    "#         exact_match(\"ssn\"),\n",
    "#     ],"
   ]
  },
  {
   "cell_type": "code",
   "execution_count": 34,
   "id": "ebdd3b38",
   "metadata": {},
   "outputs": [
    {
     "data": {
      "text/plain": [
       "{'link_type': 'link_only',\n",
       " 'comparisons': [<Comparison Exact match vs. levenshtein at thresholds 1, 2 vs. anything else with 4 levels at 0x7ff8ac105280>,\n",
       "  <Comparison Exact match vs. levenshtein at thresholds 1, 2 vs. anything else with 4 levels at 0x7ff8ac105cd0>,\n",
       "  <Comparison Exact match vs. levenshtein at threshold 1 vs. anything else with 3 levels at 0x7ff8ac105e80>,\n",
       "  <Comparison Exact match vs. anything else with 2 levels at 0x7ff8ac105400>,\n",
       "  <Comparison Exact match vs. levenshtein at thresholds 1, 2 vs. anything else with 4 levels at 0x7ff8ac105dc0>],\n",
       " 'blocking_rules_to_generate_predictions': ['substr(l.first_name, 1,1) = substr(r.first_name, 1,1) and substr(l.last_name, 1,1) = substr(r.last_name, 1,1)',\n",
       "  'l.date_of_birth = r.date_of_birth',\n",
       "  'l.zipcode = r.zipcode',\n",
       "  'l.address = r.address',\n",
       "  'l.last_name = r.last_name',\n",
       "  'l.first_name = r.first_name'],\n",
       " 'probability_two_random_records_match': 0.00044583147570218456,\n",
       " 'retain_matching_columns': True,\n",
       " 'retain_intermediate_calculation_columns': True,\n",
       " 'sql_dialect': 'duckdb'}"
      ]
     },
     "execution_count": 34,
     "metadata": {},
     "output_type": "execute_result"
    }
   ],
   "source": [
    "linker._settings_dict"
   ]
  },
  {
   "cell_type": "code",
   "execution_count": 38,
   "id": "f05ba658",
   "metadata": {},
   "outputs": [
    {
     "data": {
      "text/plain": [
       "0.00044583147570218456"
      ]
     },
     "execution_count": 38,
     "metadata": {},
     "output_type": "execute_result"
    }
   ],
   "source": [
    "1/len(df_census_u5)"
   ]
  },
  {
   "cell_type": "code",
   "execution_count": 37,
   "id": "10fd94f2",
   "metadata": {},
   "outputs": [
    {
     "name": "stdout",
     "output_type": "stream",
     "text": [
      "SUMMARY OF LINKING MODEL\n",
      "------------------------\n",
      "The similarity of pairwise record comparison in your model will be assessed as follows:\n",
      "\n",
      "Comparison of \"first_name\"\n",
      "Description: 'Exact match vs. levenshtein at thresholds 1, 2 vs. anything else'\n",
      "Comparison levels:\n",
      "    - 'Null' with SQL rule: \"first_name_l\" IS NULL OR \"first_name_r\" IS NULL\n",
      "    - 'Exact match' with SQL rule: \"first_name_l\" = \"first_name_r\"\n",
      "    - 'levenshtein <= 1' with SQL rule: levenshtein(\"first_name_l\", \"first_name_r\") <= 1\n",
      "    - 'levenshtein <= 2' with SQL rule: levenshtein(\"first_name_l\", \"first_name_r\") <= 2\n",
      "    - 'All other comparisons' with SQL rule: ELSE\n",
      "\n",
      "Comparison of \"last_name\"\n",
      "Description: 'Exact match vs. levenshtein at thresholds 1, 2 vs. anything else'\n",
      "Comparison levels:\n",
      "    - 'Null' with SQL rule: \"last_name_l\" IS NULL OR \"last_name_r\" IS NULL\n",
      "    - 'Exact match' with SQL rule: \"last_name_l\" = \"last_name_r\"\n",
      "    - 'levenshtein <= 1' with SQL rule: levenshtein(\"last_name_l\", \"last_name_r\") <= 1\n",
      "    - 'levenshtein <= 2' with SQL rule: levenshtein(\"last_name_l\", \"last_name_r\") <= 2\n",
      "    - 'All other comparisons' with SQL rule: ELSE\n",
      "\n",
      "Comparison of \"date_of_birth\"\n",
      "Description: 'Exact match vs. levenshtein at threshold 1 vs. anything else'\n",
      "Comparison levels:\n",
      "    - 'Null' with SQL rule: \"date_of_birth_l\" IS NULL OR \"date_of_birth_r\" IS NULL\n",
      "    - 'Exact match' with SQL rule: \"date_of_birth_l\" = \"date_of_birth_r\"\n",
      "    - 'levenshtein <= 1' with SQL rule: levenshtein(\"date_of_birth_l\", \"date_of_birth_r\") <= 1\n",
      "    - 'All other comparisons' with SQL rule: ELSE\n",
      "\n",
      "Comparison of \"sex\"\n",
      "Description: 'Exact match vs. anything else'\n",
      "Comparison levels:\n",
      "    - 'Null' with SQL rule: \"sex_l\" IS NULL OR \"sex_r\" IS NULL\n",
      "    - 'Exact match' with SQL rule: \"sex_l\" = \"sex_r\"\n",
      "    - 'All other comparisons' with SQL rule: ELSE\n",
      "\n",
      "Comparison of \"zipcode\"\n",
      "Description: 'Exact match vs. levenshtein at thresholds 1, 2 vs. anything else'\n",
      "Comparison levels:\n",
      "    - 'Null' with SQL rule: \"zipcode_l\" IS NULL OR \"zipcode_r\" IS NULL\n",
      "    - 'Exact match' with SQL rule: \"zipcode_l\" = \"zipcode_r\"\n",
      "    - 'levenshtein <= 1' with SQL rule: levenshtein(\"zipcode_l\", \"zipcode_r\") <= 1\n",
      "    - 'levenshtein <= 2' with SQL rule: levenshtein(\"zipcode_l\", \"zipcode_r\") <= 2\n",
      "    - 'All other comparisons' with SQL rule: ELSE\n",
      "\n"
     ]
    }
   ],
   "source": [
    "print(linker._settings_obj.human_readable_description)"
   ]
  },
  {
   "cell_type": "code",
   "execution_count": 43,
   "id": "b4c3cc8a",
   "metadata": {},
   "outputs": [
    {
     "name": "stdout",
     "output_type": "stream",
     "text": [
      "False\n"
     ]
    }
   ],
   "source": [
    "print(linker._settings_obj_.salting_required)"
   ]
  },
  {
   "cell_type": "code",
   "execution_count": null,
   "id": "c5ece376",
   "metadata": {},
   "outputs": [],
   "source": []
  }
 ],
 "metadata": {
  "kernelspec": {
   "display_name": "Python 3 (ipykernel)",
   "language": "python",
   "name": "python3"
  },
  "language_info": {
   "codemirror_mode": {
    "name": "ipython",
    "version": 3
   },
   "file_extension": ".py",
   "mimetype": "text/x-python",
   "name": "python",
   "nbconvert_exporter": "python",
   "pygments_lexer": "ipython3",
   "version": "3.8.13"
  }
 },
 "nbformat": 4,
 "nbformat_minor": 5
}
