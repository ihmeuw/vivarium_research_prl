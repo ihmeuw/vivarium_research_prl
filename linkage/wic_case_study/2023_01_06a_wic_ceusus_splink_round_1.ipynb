{
 "cells": [
  {
   "cell_type": "code",
   "execution_count": 1,
   "id": "1e41678c",
   "metadata": {},
   "outputs": [
    {
     "name": "stdout",
     "output_type": "stream",
     "text": [
      "Fri 20 Jan 2023 02:13:50 PM PST\n",
      "ndbs\n",
      "Linux int-slurm-sarchive-p0012 5.4.0-88-generic #99-Ubuntu SMP Thu Sep 23 17:29:00 UTC 2021 x86_64 x86_64 x86_64 GNU/Linux\n",
      "/mnt/share/code/ndbs/vivarium_research_prl/linkage/wic_case_study\n"
     ]
    }
   ],
   "source": [
    "import numpy as np, matplotlib.pyplot as plt, pandas as pd\n",
    "pd.set_option('display.max_rows', 40)\n",
    "\n",
    "# from vivarium_research_prl.noise import corruption, fake_names, noisify\n",
    "# from vivarium_research_prl.find_kids import datasets, noisify_data\n",
    "# import vivarium_research_prl.find_kids as find_kids\n",
    "\n",
    "from splink.duckdb.duckdb_linker import DuckDBLinker\n",
    "import splink.duckdb.duckdb_comparison_library as cl\n",
    "\n",
    "# For viewing waterfall charts and precision-recall curve\n",
    "import altair as alt\n",
    "alt.renderers.enable('mimetype')\n",
    "alt.renderers.enable('html')\n",
    "\n",
    "# For viewing the comparison viewer dashboard\n",
    "from IPython.display import IFrame\n",
    "\n",
    "!date\n",
    "!whoami\n",
    "!uname -a\n",
    "!pwd"
   ]
  },
  {
   "cell_type": "code",
   "execution_count": 2,
   "id": "03839314",
   "metadata": {},
   "outputs": [],
   "source": [
    "%load_ext autoreload\n",
    "%autoreload 2"
   ]
  },
  {
   "cell_type": "markdown",
   "id": "862d4662",
   "metadata": {},
   "source": [
    "# Read in saved data"
   ]
  },
  {
   "cell_type": "code",
   "execution_count": 3,
   "id": "19ea000a",
   "metadata": {},
   "outputs": [
    {
     "name": "stdout",
     "output_type": "stream",
     "text": [
      "total 5484\r\n",
      "-rw-rw-r-- 1 ndbs IHME-users 5535621 Jan 11 15:47 prepared_2020_census_20221014.csv\r\n",
      "-rw-rw-r-- 1 ndbs IHME-users   66364 Jan 11 15:47 prepared_wic_20221014.csv\r\n"
     ]
    }
   ],
   "source": [
    "!ls -l data"
   ]
  },
  {
   "cell_type": "code",
   "execution_count": 4,
   "id": "12ebb132",
   "metadata": {},
   "outputs": [
    {
     "name": "stdout",
     "output_type": "stream",
     "text": [
      "(47529, 12)\n",
      "(633, 12)\n"
     ]
    }
   ],
   "source": [
    "data_dir = 'data'\n",
    "dtypes = {'zipcode': str} # Make sure zipcodes are str not int\n",
    "df_census = pd.read_csv(\n",
    "    f'{data_dir}/prepared_2020_census_20221014.csv',\n",
    "    dtype=dtypes,\n",
    "    index_col=0,\n",
    ")\n",
    "df_wic = pd.read_csv(\n",
    "    f'{data_dir}/prepared_wic_20221014.csv',\n",
    "    dtype=dtypes,\n",
    "    index_col=0,\n",
    ")\n",
    "print(df_census.shape, df_wic.shape, sep='\\n')"
   ]
  },
  {
   "cell_type": "code",
   "execution_count": 5,
   "id": "1ed96329",
   "metadata": {},
   "outputs": [
    {
     "data": {
      "text/plain": [
       "first_name                     object\n",
       "middle                         object\n",
       "last_name                      object\n",
       "date_of_birth                  object\n",
       "age                           float64\n",
       "sex                            object\n",
       "race_ethnicity                 object\n",
       "relation_to_household_head     object\n",
       "address                        object\n",
       "zipcode                        object\n",
       "unique_id                       int64\n",
       "household_id                  float64\n",
       "dtype: object"
      ]
     },
     "execution_count": 5,
     "metadata": {},
     "output_type": "execute_result"
    }
   ],
   "source": [
    "df_census.dtypes"
   ]
  },
  {
   "cell_type": "code",
   "execution_count": 6,
   "id": "56bc9fc4",
   "metadata": {},
   "outputs": [
    {
     "data": {
      "text/plain": [
       "first_name                     object\n",
       "middle                         object\n",
       "last_name                      object\n",
       "date_of_birth                  object\n",
       "sex                            object\n",
       "race_ethnicity                 object\n",
       "address                        object\n",
       "zipcode                        object\n",
       "household_id                    int64\n",
       "unique_id                       int64\n",
       "age                           float64\n",
       "relation_to_household_head    float64\n",
       "dtype: object"
      ]
     },
     "execution_count": 6,
     "metadata": {},
     "output_type": "execute_result"
    }
   ],
   "source": [
    "df_wic.dtypes"
   ]
  },
  {
   "cell_type": "code",
   "execution_count": 7,
   "id": "64c2458b",
   "metadata": {},
   "outputs": [
    {
     "data": {
      "text/html": [
       "<div>\n",
       "<style scoped>\n",
       "    .dataframe tbody tr th:only-of-type {\n",
       "        vertical-align: middle;\n",
       "    }\n",
       "\n",
       "    .dataframe tbody tr th {\n",
       "        vertical-align: top;\n",
       "    }\n",
       "\n",
       "    .dataframe thead th {\n",
       "        text-align: right;\n",
       "    }\n",
       "</style>\n",
       "<table border=\"1\" class=\"dataframe\">\n",
       "  <thead>\n",
       "    <tr style=\"text-align: right;\">\n",
       "      <th></th>\n",
       "      <th>first_name</th>\n",
       "      <th>middle</th>\n",
       "      <th>last_name</th>\n",
       "      <th>date_of_birth</th>\n",
       "      <th>age</th>\n",
       "      <th>sex</th>\n",
       "      <th>race_ethnicity</th>\n",
       "      <th>relation_to_household_head</th>\n",
       "      <th>address</th>\n",
       "      <th>zipcode</th>\n",
       "      <th>unique_id</th>\n",
       "      <th>household_id</th>\n",
       "    </tr>\n",
       "  </thead>\n",
       "  <tbody>\n",
       "    <tr>\n",
       "      <th>0</th>\n",
       "      <td>Margaret</td>\n",
       "      <td>J</td>\n",
       "      <td>Clark</td>\n",
       "      <td>1951-07-27</td>\n",
       "      <td>68.0</td>\n",
       "      <td>Female</td>\n",
       "      <td>Black</td>\n",
       "      <td>Reference person</td>\n",
       "      <td>1344 winoka rd  brooksville, fl</td>\n",
       "      <td>34601</td>\n",
       "      <td>1</td>\n",
       "      <td>NaN</td>\n",
       "    </tr>\n",
       "    <tr>\n",
       "      <th>1</th>\n",
       "      <td>Jeffrey</td>\n",
       "      <td>V</td>\n",
       "      <td>Littlejohn</td>\n",
       "      <td>1967-05-03</td>\n",
       "      <td>52.0</td>\n",
       "      <td>Male</td>\n",
       "      <td>Black</td>\n",
       "      <td>Reference person</td>\n",
       "      <td>927 23rd st  clearwater, fl</td>\n",
       "      <td>34698</td>\n",
       "      <td>2</td>\n",
       "      <td>NaN</td>\n",
       "    </tr>\n",
       "    <tr>\n",
       "      <th>2</th>\n",
       "      <td>Briana</td>\n",
       "      <td>A</td>\n",
       "      <td>Jackson</td>\n",
       "      <td>2006-09-07</td>\n",
       "      <td>13.0</td>\n",
       "      <td>Female</td>\n",
       "      <td>Black</td>\n",
       "      <td>Biological child</td>\n",
       "      <td>927 23rd st  clearwater, fl</td>\n",
       "      <td>34698</td>\n",
       "      <td>3</td>\n",
       "      <td>NaN</td>\n",
       "    </tr>\n",
       "    <tr>\n",
       "      <th>3</th>\n",
       "      <td>Benjamin</td>\n",
       "      <td>D</td>\n",
       "      <td>Cox</td>\n",
       "      <td>1998-10-21</td>\n",
       "      <td>21.0</td>\n",
       "      <td>Male</td>\n",
       "      <td>Black</td>\n",
       "      <td>Stepchild</td>\n",
       "      <td>927 23rd st  clearwater, fl</td>\n",
       "      <td>34698</td>\n",
       "      <td>4</td>\n",
       "      <td>NaN</td>\n",
       "    </tr>\n",
       "    <tr>\n",
       "      <th>4</th>\n",
       "      <td>Willie</td>\n",
       "      <td>NaN</td>\n",
       "      <td>Tucker</td>\n",
       "      <td>1947-10-09</td>\n",
       "      <td>72.0</td>\n",
       "      <td>Male</td>\n",
       "      <td>White</td>\n",
       "      <td>Reference person</td>\n",
       "      <td>8904 167th place  fleming island, fl</td>\n",
       "      <td>32003</td>\n",
       "      <td>5</td>\n",
       "      <td>NaN</td>\n",
       "    </tr>\n",
       "    <tr>\n",
       "      <th>...</th>\n",
       "      <td>...</td>\n",
       "      <td>...</td>\n",
       "      <td>...</td>\n",
       "      <td>...</td>\n",
       "      <td>...</td>\n",
       "      <td>...</td>\n",
       "      <td>...</td>\n",
       "      <td>...</td>\n",
       "      <td>...</td>\n",
       "      <td>...</td>\n",
       "      <td>...</td>\n",
       "      <td>...</td>\n",
       "    </tr>\n",
       "    <tr>\n",
       "      <th>49994</th>\n",
       "      <td>Marcus</td>\n",
       "      <td>S</td>\n",
       "      <td>Roman</td>\n",
       "      <td>1988-07-08</td>\n",
       "      <td>31.0</td>\n",
       "      <td>Male</td>\n",
       "      <td>Multiracial or Other</td>\n",
       "      <td>Institutionalized GQ pop</td>\n",
       "      <td>2210 henn hyde rd ne  hollywood, fl</td>\n",
       "      <td>33021</td>\n",
       "      <td>47525</td>\n",
       "      <td>NaN</td>\n",
       "    </tr>\n",
       "    <tr>\n",
       "      <th>49996</th>\n",
       "      <td>Nathaniel</td>\n",
       "      <td>J</td>\n",
       "      <td>Campbell</td>\n",
       "      <td>1941-01-08</td>\n",
       "      <td>79.0</td>\n",
       "      <td>Male</td>\n",
       "      <td>White</td>\n",
       "      <td>Institutionalized GQ pop</td>\n",
       "      <td>2210 henn hyde rd ne  hollywood, fl</td>\n",
       "      <td>33021</td>\n",
       "      <td>47526</td>\n",
       "      <td>NaN</td>\n",
       "    </tr>\n",
       "    <tr>\n",
       "      <th>49997</th>\n",
       "      <td>Christian</td>\n",
       "      <td>C</td>\n",
       "      <td>Rosales</td>\n",
       "      <td>1983-12-16</td>\n",
       "      <td>36.0</td>\n",
       "      <td>Male</td>\n",
       "      <td>Latino</td>\n",
       "      <td>Institutionalized GQ pop</td>\n",
       "      <td>701 haber rd  vero beach, fl</td>\n",
       "      <td>32968</td>\n",
       "      <td>47527</td>\n",
       "      <td>NaN</td>\n",
       "    </tr>\n",
       "    <tr>\n",
       "      <th>49998</th>\n",
       "      <td>Phillip</td>\n",
       "      <td>J</td>\n",
       "      <td>Morton</td>\n",
       "      <td>1985-06-11</td>\n",
       "      <td>34.0</td>\n",
       "      <td>Male</td>\n",
       "      <td>White</td>\n",
       "      <td>Institutionalized GQ pop</td>\n",
       "      <td>114 s frnt st  fort myers, fl</td>\n",
       "      <td>33919</td>\n",
       "      <td>47528</td>\n",
       "      <td>NaN</td>\n",
       "    </tr>\n",
       "    <tr>\n",
       "      <th>49999</th>\n",
       "      <td>Catherine</td>\n",
       "      <td>H</td>\n",
       "      <td>Talley</td>\n",
       "      <td>1928-08-14</td>\n",
       "      <td>91.0</td>\n",
       "      <td>Female</td>\n",
       "      <td>Black</td>\n",
       "      <td>Institutionalized GQ pop</td>\n",
       "      <td>701 haber rd  vero beach, fle</td>\n",
       "      <td>32968</td>\n",
       "      <td>47529</td>\n",
       "      <td>NaN</td>\n",
       "    </tr>\n",
       "  </tbody>\n",
       "</table>\n",
       "<p>47529 rows × 12 columns</p>\n",
       "</div>"
      ],
      "text/plain": [
       "      first_name middle   last_name date_of_birth   age     sex  \\\n",
       "0       Margaret      J       Clark    1951-07-27  68.0  Female   \n",
       "1        Jeffrey      V  Littlejohn    1967-05-03  52.0    Male   \n",
       "2         Briana      A     Jackson    2006-09-07  13.0  Female   \n",
       "3       Benjamin      D         Cox    1998-10-21  21.0    Male   \n",
       "4         Willie    NaN      Tucker    1947-10-09  72.0    Male   \n",
       "...          ...    ...         ...           ...   ...     ...   \n",
       "49994     Marcus      S       Roman    1988-07-08  31.0    Male   \n",
       "49996  Nathaniel      J    Campbell    1941-01-08  79.0    Male   \n",
       "49997  Christian      C     Rosales    1983-12-16  36.0    Male   \n",
       "49998    Phillip      J      Morton    1985-06-11  34.0    Male   \n",
       "49999  Catherine      H      Talley    1928-08-14  91.0  Female   \n",
       "\n",
       "             race_ethnicity relation_to_household_head  \\\n",
       "0                     Black           Reference person   \n",
       "1                     Black           Reference person   \n",
       "2                     Black           Biological child   \n",
       "3                     Black                  Stepchild   \n",
       "4                     White           Reference person   \n",
       "...                     ...                        ...   \n",
       "49994  Multiracial or Other   Institutionalized GQ pop   \n",
       "49996                 White   Institutionalized GQ pop   \n",
       "49997                Latino   Institutionalized GQ pop   \n",
       "49998                 White   Institutionalized GQ pop   \n",
       "49999                 Black   Institutionalized GQ pop   \n",
       "\n",
       "                                    address zipcode  unique_id  household_id  \n",
       "0           1344 winoka rd  brooksville, fl   34601          1           NaN  \n",
       "1               927 23rd st  clearwater, fl   34698          2           NaN  \n",
       "2               927 23rd st  clearwater, fl   34698          3           NaN  \n",
       "3               927 23rd st  clearwater, fl   34698          4           NaN  \n",
       "4      8904 167th place  fleming island, fl   32003          5           NaN  \n",
       "...                                     ...     ...        ...           ...  \n",
       "49994   2210 henn hyde rd ne  hollywood, fl   33021      47525           NaN  \n",
       "49996   2210 henn hyde rd ne  hollywood, fl   33021      47526           NaN  \n",
       "49997          701 haber rd  vero beach, fl   32968      47527           NaN  \n",
       "49998         114 s frnt st  fort myers, fl   33919      47528           NaN  \n",
       "49999         701 haber rd  vero beach, fle   32968      47529           NaN  \n",
       "\n",
       "[47529 rows x 12 columns]"
      ]
     },
     "execution_count": 7,
     "metadata": {},
     "output_type": "execute_result"
    }
   ],
   "source": [
    "df_census"
   ]
  },
  {
   "cell_type": "code",
   "execution_count": 8,
   "id": "31ce6c03",
   "metadata": {},
   "outputs": [
    {
     "data": {
      "text/html": [
       "<div>\n",
       "<style scoped>\n",
       "    .dataframe tbody tr th:only-of-type {\n",
       "        vertical-align: middle;\n",
       "    }\n",
       "\n",
       "    .dataframe tbody tr th {\n",
       "        vertical-align: top;\n",
       "    }\n",
       "\n",
       "    .dataframe thead th {\n",
       "        text-align: right;\n",
       "    }\n",
       "</style>\n",
       "<table border=\"1\" class=\"dataframe\">\n",
       "  <thead>\n",
       "    <tr style=\"text-align: right;\">\n",
       "      <th></th>\n",
       "      <th>first_name</th>\n",
       "      <th>middle</th>\n",
       "      <th>last_name</th>\n",
       "      <th>date_of_birth</th>\n",
       "      <th>sex</th>\n",
       "      <th>race_ethnicity</th>\n",
       "      <th>address</th>\n",
       "      <th>zipcode</th>\n",
       "      <th>household_id</th>\n",
       "      <th>unique_id</th>\n",
       "      <th>age</th>\n",
       "      <th>relation_to_household_head</th>\n",
       "    </tr>\n",
       "  </thead>\n",
       "  <tbody>\n",
       "    <tr>\n",
       "      <th>82</th>\n",
       "      <td>Sadie</td>\n",
       "      <td>Katia</td>\n",
       "      <td>Tidwell</td>\n",
       "      <td>2017-10-15</td>\n",
       "      <td>Female</td>\n",
       "      <td>Black</td>\n",
       "      <td>w 4th st  north port, fl</td>\n",
       "      <td>34287</td>\n",
       "      <td>48</td>\n",
       "      <td>1</td>\n",
       "      <td>NaN</td>\n",
       "      <td>NaN</td>\n",
       "    </tr>\n",
       "    <tr>\n",
       "      <th>83</th>\n",
       "      <td>Liliana</td>\n",
       "      <td>Addisyn</td>\n",
       "      <td>Marshall</td>\n",
       "      <td>2019-12-03</td>\n",
       "      <td>Female</td>\n",
       "      <td>Black</td>\n",
       "      <td>w 4th st  north port, fl</td>\n",
       "      <td>34287</td>\n",
       "      <td>48</td>\n",
       "      <td>2</td>\n",
       "      <td>NaN</td>\n",
       "      <td>NaN</td>\n",
       "    </tr>\n",
       "    <tr>\n",
       "      <th>174</th>\n",
       "      <td>Holly</td>\n",
       "      <td>Emma</td>\n",
       "      <td>Yount</td>\n",
       "      <td>2019-05-17</td>\n",
       "      <td>Female</td>\n",
       "      <td>White</td>\n",
       "      <td>7944 se 62nd ave  unincorporated, fl</td>\n",
       "      <td>32824</td>\n",
       "      <td>88</td>\n",
       "      <td>3</td>\n",
       "      <td>NaN</td>\n",
       "      <td>NaN</td>\n",
       "    </tr>\n",
       "    <tr>\n",
       "      <th>306</th>\n",
       "      <td>Emilee</td>\n",
       "      <td>Guadalupe</td>\n",
       "      <td>Haskew</td>\n",
       "      <td>2019-12-30</td>\n",
       "      <td>Female</td>\n",
       "      <td>Latino</td>\n",
       "      <td>749 mi ridge ests  destin, fl</td>\n",
       "      <td>32541</td>\n",
       "      <td>150</td>\n",
       "      <td>4</td>\n",
       "      <td>NaN</td>\n",
       "      <td>NaN</td>\n",
       "    </tr>\n",
       "    <tr>\n",
       "      <th>323</th>\n",
       "      <td>Gunner</td>\n",
       "      <td>Liam</td>\n",
       "      <td>Parkinson</td>\n",
       "      <td>2020-03-03</td>\n",
       "      <td>Male</td>\n",
       "      <td>White</td>\n",
       "      <td>600 n maranantha rd  hialeah, fl</td>\n",
       "      <td>33016</td>\n",
       "      <td>157</td>\n",
       "      <td>5</td>\n",
       "      <td>NaN</td>\n",
       "      <td>NaN</td>\n",
       "    </tr>\n",
       "    <tr>\n",
       "      <th>...</th>\n",
       "      <td>...</td>\n",
       "      <td>...</td>\n",
       "      <td>...</td>\n",
       "      <td>...</td>\n",
       "      <td>...</td>\n",
       "      <td>...</td>\n",
       "      <td>...</td>\n",
       "      <td>...</td>\n",
       "      <td>...</td>\n",
       "      <td>...</td>\n",
       "      <td>...</td>\n",
       "      <td>...</td>\n",
       "    </tr>\n",
       "    <tr>\n",
       "      <th>48269</th>\n",
       "      <td>Kaylee</td>\n",
       "      <td>Trinity</td>\n",
       "      <td>Hill</td>\n",
       "      <td>2017-10-20</td>\n",
       "      <td>Female</td>\n",
       "      <td>Black</td>\n",
       "      <td>98 melanie dr  pembroke pines, fl</td>\n",
       "      <td>33026</td>\n",
       "      <td>20380</td>\n",
       "      <td>629</td>\n",
       "      <td>NaN</td>\n",
       "      <td>NaN</td>\n",
       "    </tr>\n",
       "    <tr>\n",
       "      <th>48351</th>\n",
       "      <td>Lev</td>\n",
       "      <td>Thomas</td>\n",
       "      <td>Dove</td>\n",
       "      <td>2018-10-18</td>\n",
       "      <td>Male</td>\n",
       "      <td>Black</td>\n",
       "      <td>671 john muir road  spring hill, fl</td>\n",
       "      <td>34610</td>\n",
       "      <td>20422</td>\n",
       "      <td>630</td>\n",
       "      <td>NaN</td>\n",
       "      <td>NaN</td>\n",
       "    </tr>\n",
       "    <tr>\n",
       "      <th>48442</th>\n",
       "      <td>Frederick</td>\n",
       "      <td>Cameron</td>\n",
       "      <td>Rodriguez</td>\n",
       "      <td>2019-06-04</td>\n",
       "      <td>Male</td>\n",
       "      <td>Latino</td>\n",
       "      <td>5765 heards forest dr  crestview, fl</td>\n",
       "      <td>32539</td>\n",
       "      <td>20452</td>\n",
       "      <td>631</td>\n",
       "      <td>NaN</td>\n",
       "      <td>NaN</td>\n",
       "    </tr>\n",
       "    <tr>\n",
       "      <th>48456</th>\n",
       "      <td>Liam</td>\n",
       "      <td>Emmett</td>\n",
       "      <td>Sardone</td>\n",
       "      <td>2017-01-08</td>\n",
       "      <td>Male</td>\n",
       "      <td>White</td>\n",
       "      <td>107 brown ave  st. petersburg, fl</td>\n",
       "      <td>33704</td>\n",
       "      <td>20458</td>\n",
       "      <td>632</td>\n",
       "      <td>NaN</td>\n",
       "      <td>NaN</td>\n",
       "    </tr>\n",
       "    <tr>\n",
       "      <th>48458</th>\n",
       "      <td>Cameron</td>\n",
       "      <td>Nolan</td>\n",
       "      <td>Emerson</td>\n",
       "      <td>2019-02-16</td>\n",
       "      <td>Male</td>\n",
       "      <td>White</td>\n",
       "      <td>107 brown ave  st. petersburg, fl</td>\n",
       "      <td>33704</td>\n",
       "      <td>20458</td>\n",
       "      <td>633</td>\n",
       "      <td>NaN</td>\n",
       "      <td>NaN</td>\n",
       "    </tr>\n",
       "  </tbody>\n",
       "</table>\n",
       "<p>633 rows × 12 columns</p>\n",
       "</div>"
      ],
      "text/plain": [
       "      first_name     middle  last_name date_of_birth     sex race_ethnicity  \\\n",
       "82         Sadie      Katia    Tidwell    2017-10-15  Female          Black   \n",
       "83       Liliana    Addisyn   Marshall    2019-12-03  Female          Black   \n",
       "174        Holly       Emma      Yount    2019-05-17  Female          White   \n",
       "306       Emilee  Guadalupe     Haskew    2019-12-30  Female         Latino   \n",
       "323       Gunner       Liam  Parkinson    2020-03-03    Male          White   \n",
       "...          ...        ...        ...           ...     ...            ...   \n",
       "48269     Kaylee    Trinity       Hill    2017-10-20  Female          Black   \n",
       "48351        Lev     Thomas       Dove    2018-10-18    Male          Black   \n",
       "48442  Frederick    Cameron  Rodriguez    2019-06-04    Male         Latino   \n",
       "48456       Liam     Emmett    Sardone    2017-01-08    Male          White   \n",
       "48458    Cameron      Nolan    Emerson    2019-02-16    Male          White   \n",
       "\n",
       "                                    address zipcode  household_id  unique_id  \\\n",
       "82                 w 4th st  north port, fl   34287            48          1   \n",
       "83                 w 4th st  north port, fl   34287            48          2   \n",
       "174    7944 se 62nd ave  unincorporated, fl   32824            88          3   \n",
       "306           749 mi ridge ests  destin, fl   32541           150          4   \n",
       "323        600 n maranantha rd  hialeah, fl   33016           157          5   \n",
       "...                                     ...     ...           ...        ...   \n",
       "48269     98 melanie dr  pembroke pines, fl   33026         20380        629   \n",
       "48351   671 john muir road  spring hill, fl   34610         20422        630   \n",
       "48442  5765 heards forest dr  crestview, fl   32539         20452        631   \n",
       "48456     107 brown ave  st. petersburg, fl   33704         20458        632   \n",
       "48458     107 brown ave  st. petersburg, fl   33704         20458        633   \n",
       "\n",
       "       age  relation_to_household_head  \n",
       "82     NaN                         NaN  \n",
       "83     NaN                         NaN  \n",
       "174    NaN                         NaN  \n",
       "306    NaN                         NaN  \n",
       "323    NaN                         NaN  \n",
       "...    ...                         ...  \n",
       "48269  NaN                         NaN  \n",
       "48351  NaN                         NaN  \n",
       "48442  NaN                         NaN  \n",
       "48456  NaN                         NaN  \n",
       "48458  NaN                         NaN  \n",
       "\n",
       "[633 rows x 12 columns]"
      ]
     },
     "execution_count": 8,
     "metadata": {},
     "output_type": "execute_result"
    }
   ],
   "source": [
    "df_wic"
   ]
  },
  {
   "cell_type": "markdown",
   "id": "7cb2f5a7",
   "metadata": {},
   "source": [
    "# For round 1, match only to under-5-year olds in census"
   ]
  },
  {
   "cell_type": "code",
   "execution_count": 9,
   "id": "2f648b96",
   "metadata": {},
   "outputs": [
    {
     "data": {
      "text/plain": [
       "(2243, 12)"
      ]
     },
     "execution_count": 9,
     "metadata": {},
     "output_type": "execute_result"
    }
   ],
   "source": [
    "under5 = df_census.age<5\n",
    "df_census_u5 = df_census.loc[under5]\n",
    "df_census_u5.shape"
   ]
  },
  {
   "cell_type": "markdown",
   "id": "9645cfe4",
   "metadata": {},
   "source": [
    "# Create a settings dictionary with minimal required settings, and create a linker from it\n",
    "\n",
    "We initialize with the minimal required settings to evaluate potential blocking rules with the `count_num_comparisons_from_blocking_rule` and `cumulative_num_comparisons_from_blocking_rules_chart` functions."
   ]
  },
  {
   "cell_type": "code",
   "execution_count": 10,
   "id": "83476195",
   "metadata": {},
   "outputs": [
    {
     "data": {
      "text/plain": [
       "{'link_type': 'link_only', 'sql_dialect': 'duckdb'}"
      ]
     },
     "execution_count": 10,
     "metadata": {},
     "output_type": "execute_result"
    }
   ],
   "source": [
    "# Minimal settings needed to count comparisons\n",
    "settings = {'link_type': 'link_only'}\n",
    "linker = DuckDBLinker([df_census_u5, df_wic], settings)\n",
    "linker._settings_dict"
   ]
  },
  {
   "cell_type": "markdown",
   "id": "8148cce2",
   "metadata": {},
   "source": [
    "# Create some blocking rules and count comparisons using the linker created above\n",
    "\n",
    "Order of rules doesn't matter. All that matters is:\n",
    "\n",
    "1. Is (almost) every true match captured by one of the rules?\n",
    "2. Is the total number of comparisons computationally feasible?"
   ]
  },
  {
   "cell_type": "code",
   "execution_count": 11,
   "id": "76049eb5",
   "metadata": {},
   "outputs": [
    {
     "name": "stdout",
     "output_type": "stream",
     "text": [
      "Cartesion product of input: 1419819 \n",
      "\n",
      "Number of comparisons generated by 'substr(l.first_name, 1,1) = substr(r.first_name, 1,1) and substr(l.last_name, 1,1) = substr(r.last_name, 1,1)': 6,074\n",
      "Number of comparisons generated by 'l.date_of_birth = r.date_of_birth': 1,302\n",
      "Number of comparisons generated by 'l.zipcode = r.zipcode': 3,610\n",
      "Number of comparisons generated by 'l.address = r.address': 821\n",
      "Number of comparisons generated by 'l.last_name = r.last_name': 1,658\n",
      "Number of comparisons generated by 'l.first_name = r.first_name': 2,966\n"
     ]
    },
    {
     "data": {
      "text/html": [
       "\n",
       "<div id=\"altair-viz-1a278bd0ff4f4acfa1f7a64cd5cf7f11\"></div>\n",
       "<script type=\"text/javascript\">\n",
       "  var VEGA_DEBUG = (typeof VEGA_DEBUG == \"undefined\") ? {} : VEGA_DEBUG;\n",
       "  (function(spec, embedOpt){\n",
       "    let outputDiv = document.currentScript.previousElementSibling;\n",
       "    if (outputDiv.id !== \"altair-viz-1a278bd0ff4f4acfa1f7a64cd5cf7f11\") {\n",
       "      outputDiv = document.getElementById(\"altair-viz-1a278bd0ff4f4acfa1f7a64cd5cf7f11\");\n",
       "    }\n",
       "    const paths = {\n",
       "      \"vega\": \"https://cdn.jsdelivr.net/npm//vega@5?noext\",\n",
       "      \"vega-lib\": \"https://cdn.jsdelivr.net/npm//vega-lib?noext\",\n",
       "      \"vega-lite\": \"https://cdn.jsdelivr.net/npm//vega-lite@4.17.0?noext\",\n",
       "      \"vega-embed\": \"https://cdn.jsdelivr.net/npm//vega-embed@6?noext\",\n",
       "    };\n",
       "\n",
       "    function maybeLoadScript(lib, version) {\n",
       "      var key = `${lib.replace(\"-\", \"\")}_version`;\n",
       "      return (VEGA_DEBUG[key] == version) ?\n",
       "        Promise.resolve(paths[lib]) :\n",
       "        new Promise(function(resolve, reject) {\n",
       "          var s = document.createElement('script');\n",
       "          document.getElementsByTagName(\"head\")[0].appendChild(s);\n",
       "          s.async = true;\n",
       "          s.onload = () => {\n",
       "            VEGA_DEBUG[key] = version;\n",
       "            return resolve(paths[lib]);\n",
       "          };\n",
       "          s.onerror = () => reject(`Error loading script: ${paths[lib]}`);\n",
       "          s.src = paths[lib];\n",
       "        });\n",
       "    }\n",
       "\n",
       "    function showError(err) {\n",
       "      outputDiv.innerHTML = `<div class=\"error\" style=\"color:red;\">${err}</div>`;\n",
       "      throw err;\n",
       "    }\n",
       "\n",
       "    function displayChart(vegaEmbed) {\n",
       "      vegaEmbed(outputDiv, spec, embedOpt)\n",
       "        .catch(err => showError(`Javascript Error: ${err.message}<br>This usually means there's a typo in your chart specification. See the javascript console for the full traceback.`));\n",
       "    }\n",
       "\n",
       "    if(typeof define === \"function\" && define.amd) {\n",
       "      requirejs.config({paths});\n",
       "      require([\"vega-embed\"], displayChart, err => showError(`Error loading script: ${err.message}`));\n",
       "    } else {\n",
       "      maybeLoadScript(\"vega\", \"5\")\n",
       "        .then(() => maybeLoadScript(\"vega-lite\", \"4.17.0\"))\n",
       "        .then(() => maybeLoadScript(\"vega-embed\", \"6\"))\n",
       "        .catch(showError)\n",
       "        .then(() => displayChart(vegaEmbed));\n",
       "    }\n",
       "  })({\"$schema\": \"https://vega.github.io/schema/vega-lite/v5.json\", \"width\": 450, \"height\": 200, \"title\": {\"text\": \"Count of Additional Comparisons Generated by Each Blocking Rule\", \"subtitle\": \"(Counts exclude comparisons already generated by previous rules)\"}, \"data\": {\"values\": [{\"row_count\": 6074, \"rule\": \"substr(l.first_name, 1,1) = substr(r.first_name, 1,1) and substr(l.last_name, 1,1) = substr(r.last_name, 1,1)\", \"cumulative_rows\": 6074, \"cartesian\": 1419819, \"reduction_ratio\": \"The rolling reduction ratio with your given blocking rule(s) is 0.996. \\nThis represents the reduction in the total number of comparisons due to your rule(s).\", \"start\": 0}, {\"row_count\": 752, \"rule\": \"l.date_of_birth = r.date_of_birth\", \"cumulative_rows\": 6826, \"cartesian\": 1419819, \"reduction_ratio\": \"The rolling reduction ratio with your given blocking rule(s) is 0.995. \\nThis represents the reduction in the total number of comparisons due to your rule(s).\", \"start\": 6074}, {\"row_count\": 3032, \"rule\": \"l.zipcode = r.zipcode\", \"cumulative_rows\": 9858, \"cartesian\": 1419819, \"reduction_ratio\": \"The rolling reduction ratio with your given blocking rule(s) is 0.993. \\nThis represents the reduction in the total number of comparisons due to your rule(s).\", \"start\": 6826}, {\"row_count\": 4, \"rule\": \"l.address = r.address\", \"cumulative_rows\": 9862, \"cartesian\": 1419819, \"reduction_ratio\": \"The rolling reduction ratio with your given blocking rule(s) is 0.993. \\nThis represents the reduction in the total number of comparisons due to your rule(s).\", \"start\": 9858}, {\"row_count\": 1031, \"rule\": \"l.last_name = r.last_name\", \"cumulative_rows\": 10893, \"cartesian\": 1419819, \"reduction_ratio\": \"The rolling reduction ratio with your given blocking rule(s) is 0.992. \\nThis represents the reduction in the total number of comparisons due to your rule(s).\", \"start\": 9862}, {\"row_count\": 2260, \"rule\": \"l.first_name = r.first_name\", \"cumulative_rows\": 13153, \"cartesian\": 1419819, \"reduction_ratio\": \"The rolling reduction ratio with your given blocking rule(s) is 0.991. \\nThis represents the reduction in the total number of comparisons due to your rule(s).\", \"start\": 10893}]}, \"mark\": \"bar\", \"encoding\": {\"x\": {\"title\": \"Comparisons Generated by Rule(s)\", \"field\": \"start\", \"type\": \"quantitative\"}, \"x2\": {\"field\": \"cumulative_rows\"}, \"y\": {\"field\": \"rule\", \"title\": \"SQL Blocking Rule\", \"sort\": [\"-x2\"]}, \"color\": {\"field\": \"rule\", \"legend\": null, \"scale\": {\"scheme\": \"category20c\"}}, \"order\": {\"field\": \"cumulative_rows\"}, \"tooltip\": [{\"type\": \"nominal\", \"field\": \"rule\", \"title\": \"SQL Condition\"}, {\"type\": \"quantitative\", \"field\": \"row_count\", \"title\": \"Comparisons Generated\", \"format\": \",\"}, {\"type\": \"quantitative\", \"field\": \"cumulative_rows\", \"title\": \"Cumulative Comparisons\", \"format\": \",\"}, {\"type\": \"quantitative\", \"field\": \"cartesian\", \"title\": \"Cartesian Product of Input Data\", \"format\": \",\"}, {\"type\": \"quantitative\", \"field\": \"reduction_ratio\", \"title\": \"Reduction Ratio (cumulative rows/cartesian product)\"}]}}, {\"mode\": \"vega-lite\"});\n",
       "</script>"
      ],
      "text/plain": [
       "<splink.charts.VegaliteNoValidate at 0x7efc5aa65dc0>"
      ]
     },
     "execution_count": 11,
     "metadata": {},
     "output_type": "execute_result"
    }
   ],
   "source": [
    "prediction_blocking_rules = [\n",
    "    (\n",
    "        'substr(l.first_name, 1,1) = substr(r.first_name, 1,1)'\n",
    "        ' and substr(l.last_name, 1,1) = substr(r.last_name, 1,1)'\n",
    "    ),\n",
    "    'l.date_of_birth = r.date_of_birth',\n",
    "    'l.zipcode = r.zipcode',\n",
    "    'l.address = r.address',\n",
    "    'l.last_name = r.last_name',\n",
    "    'l.first_name = r.first_name',\n",
    "    # Let's first see how well we do without these very loose rules:\n",
    "#     'l.sex = r.sex and substr(l.zipcode, 1,3) = substr(r.zipcode, 1,3)',\n",
    "#     'substr(l.zipcode, 1,3) = substr(r.zipcode, 1,3)',\n",
    "]\n",
    "\n",
    "print('Cartesion product of input:', len(df_census_u5) * len(df_wic), '\\n')\n",
    "\n",
    "for rule in prediction_blocking_rules:\n",
    "    count = linker.count_num_comparisons_from_blocking_rule(rule)\n",
    "    print(f\"Number of comparisons generated by '{rule}': {count:,.0f}\")\n",
    "\n",
    "linker.cumulative_num_comparisons_from_blocking_rules_chart(prediction_blocking_rules)"
   ]
  },
  {
   "cell_type": "markdown",
   "id": "eb7ff246",
   "metadata": {},
   "source": [
    "# Try to estimate how the blocking strategy will scale"
   ]
  },
  {
   "cell_type": "code",
   "execution_count": 12,
   "id": "89650b86",
   "metadata": {},
   "outputs": [
    {
     "data": {
      "text/plain": [
       "8346394559.734445"
      ]
     },
     "execution_count": 12,
     "metadata": {},
     "output_type": "execute_result"
    }
   ],
   "source": [
    "# Looks like maybe 8 billion comparisons would be generated with the above rules\n",
    "(\n",
    "    # Fraction of comparisons should stay about the same when scaling up census\n",
    "    (13_000 / len(df_census)**2) \n",
    "    # Ratio of WIC to census should stay about the same when scaling up census\n",
    "    * (len(df_wic)/len(df_census))\n",
    "    # Estimate census size of 330 million\n",
    "    * (330e6)**2\n",
    ")"
   ]
  },
  {
   "cell_type": "code",
   "execution_count": 13,
   "id": "53770b3a",
   "metadata": {},
   "outputs": [
    {
     "data": {
      "text/plain": [
       "59066792268.88992"
      ]
     },
     "execution_count": 13,
     "metadata": {},
     "output_type": "execute_result"
    }
   ],
   "source": [
    "# Looks like maybe 59 billion comparisons would be generated\n",
    "# if we include zip3 blocking\n",
    "(\n",
    "    # Fraction of comparisons should stay about the same when scaling up census\n",
    "    (92_000 / len(df_census)**2) \n",
    "    # Ratio of WIC to census should stay about the same when scaling up census\n",
    "    * (len(df_wic)/len(df_census))\n",
    "    # Estimate census size of 330 million\n",
    "    * (330e6)**2\n",
    ")"
   ]
  },
  {
   "cell_type": "markdown",
   "id": "a6d2cee8",
   "metadata": {},
   "source": [
    "# Define comparisons we want to use, add them to settings dictionary, and reinitialize the linker's settings"
   ]
  },
  {
   "cell_type": "code",
   "execution_count": 14,
   "id": "0b05ef48",
   "metadata": {},
   "outputs": [
    {
     "data": {
      "text/plain": [
       "{'link_type': 'link_only',\n",
       " 'sql_dialect': 'duckdb',\n",
       " 'comparisons': [<Comparison Exact match vs. levenshtein at thresholds 1, 2 vs. anything else with 4 levels at 0x7efc5aa825e0>,\n",
       "  <Comparison Exact match vs. levenshtein at thresholds 1, 2 vs. anything else with 4 levels at 0x7efc5aa657c0>,\n",
       "  <Comparison Exact match vs. levenshtein at threshold 1 vs. anything else with 3 levels at 0x7efc5aaa2340>,\n",
       "  <Comparison Exact match vs. anything else with 2 levels at 0x7efc5aaa2a30>,\n",
       "  <Comparison Exact match vs. levenshtein at thresholds 1, 2 vs. anything else with 4 levels at 0x7efc5aaa2280>]}"
      ]
     },
     "execution_count": 14,
     "metadata": {},
     "output_type": "execute_result"
    }
   ],
   "source": [
    "comparisons = [\n",
    "        cl.levenshtein_at_thresholds(\"first_name\"),\n",
    "        cl.levenshtein_at_thresholds(\"last_name\"),\n",
    "#         c1.exact_match(\"last_name\"),\n",
    "        cl.levenshtein_at_thresholds(\"date_of_birth\", 1),\n",
    "        cl.exact_match(\"sex\"),\n",
    "        cl.levenshtein_at_thresholds(\"zipcode\"),\n",
    "    ]\n",
    "settings[\"comparisons\"] = comparisons\n",
    "\n",
    "linker.initialise_settings(settings)\n",
    "linker._settings_dict"
   ]
  },
  {
   "cell_type": "markdown",
   "id": "cad731bb",
   "metadata": {},
   "source": [
    "# Use random sampiling stimate `u` probabilities for the comparisons defined above"
   ]
  },
  {
   "cell_type": "code",
   "execution_count": 15,
   "id": "88cf6c7a",
   "metadata": {
    "scrolled": true
   },
   "outputs": [
    {
     "name": "stderr",
     "output_type": "stream",
     "text": [
      "----- Estimating u probabilities using random sampling -----\n",
      "\n",
      "Estimated u probabilities using random sampling\n",
      "\n",
      "Your model is not yet fully trained. Missing estimates for:\n",
      "    - first_name (no m values are trained).\n",
      "    - last_name (no m values are trained).\n",
      "    - date_of_birth (no m values are trained).\n",
      "    - sex (no m values are trained).\n",
      "    - zipcode (no m values are trained).\n"
     ]
    },
    {
     "name": "stdout",
     "output_type": "stream",
     "text": [
      "CPU times: user 2.84 s, sys: 0 ns, total: 2.84 s\n",
      "Wall time: 1.45 s\n"
     ]
    }
   ],
   "source": [
    "%%time\n",
    "linker.estimate_u_using_random_sampling(target_rows=len(df_wic)*len(df_census_u5))"
   ]
  },
  {
   "cell_type": "code",
   "execution_count": 16,
   "id": "17964e88",
   "metadata": {
    "scrolled": false
   },
   "outputs": [
    {
     "data": {
      "text/html": [
       "\n",
       "<div id=\"altair-viz-98cb5f777ff640f5bcdbc0f7ed2da175\"></div>\n",
       "<script type=\"text/javascript\">\n",
       "  var VEGA_DEBUG = (typeof VEGA_DEBUG == \"undefined\") ? {} : VEGA_DEBUG;\n",
       "  (function(spec, embedOpt){\n",
       "    let outputDiv = document.currentScript.previousElementSibling;\n",
       "    if (outputDiv.id !== \"altair-viz-98cb5f777ff640f5bcdbc0f7ed2da175\") {\n",
       "      outputDiv = document.getElementById(\"altair-viz-98cb5f777ff640f5bcdbc0f7ed2da175\");\n",
       "    }\n",
       "    const paths = {\n",
       "      \"vega\": \"https://cdn.jsdelivr.net/npm//vega@5?noext\",\n",
       "      \"vega-lib\": \"https://cdn.jsdelivr.net/npm//vega-lib?noext\",\n",
       "      \"vega-lite\": \"https://cdn.jsdelivr.net/npm//vega-lite@4.17.0?noext\",\n",
       "      \"vega-embed\": \"https://cdn.jsdelivr.net/npm//vega-embed@6?noext\",\n",
       "    };\n",
       "\n",
       "    function maybeLoadScript(lib, version) {\n",
       "      var key = `${lib.replace(\"-\", \"\")}_version`;\n",
       "      return (VEGA_DEBUG[key] == version) ?\n",
       "        Promise.resolve(paths[lib]) :\n",
       "        new Promise(function(resolve, reject) {\n",
       "          var s = document.createElement('script');\n",
       "          document.getElementsByTagName(\"head\")[0].appendChild(s);\n",
       "          s.async = true;\n",
       "          s.onload = () => {\n",
       "            VEGA_DEBUG[key] = version;\n",
       "            return resolve(paths[lib]);\n",
       "          };\n",
       "          s.onerror = () => reject(`Error loading script: ${paths[lib]}`);\n",
       "          s.src = paths[lib];\n",
       "        });\n",
       "    }\n",
       "\n",
       "    function showError(err) {\n",
       "      outputDiv.innerHTML = `<div class=\"error\" style=\"color:red;\">${err}</div>`;\n",
       "      throw err;\n",
       "    }\n",
       "\n",
       "    function displayChart(vegaEmbed) {\n",
       "      vegaEmbed(outputDiv, spec, embedOpt)\n",
       "        .catch(err => showError(`Javascript Error: ${err.message}<br>This usually means there's a typo in your chart specification. See the javascript console for the full traceback.`));\n",
       "    }\n",
       "\n",
       "    if(typeof define === \"function\" && define.amd) {\n",
       "      requirejs.config({paths});\n",
       "      require([\"vega-embed\"], displayChart, err => showError(`Error loading script: ${err.message}`));\n",
       "    } else {\n",
       "      maybeLoadScript(\"vega\", \"5\")\n",
       "        .then(() => maybeLoadScript(\"vega-lite\", \"4.17.0\"))\n",
       "        .then(() => maybeLoadScript(\"vega-embed\", \"6\"))\n",
       "        .catch(showError)\n",
       "        .then(() => displayChart(vegaEmbed));\n",
       "    }\n",
       "  })({\"config\": {\"view\": {\"width\": 400, \"height\": 300}, \"title\": {\"anchor\": \"middle\", \"offset\": 10}, \"header\": {\"title\": null}}, \"hconcat\": [{\"mark\": \"bar\", \"title\": {\"text\": \"Amongst matching record comparisons:\", \"fontWeight\": \"bold\", \"fontSize\": 12}, \"encoding\": {\"row\": {\"type\": \"nominal\", \"field\": \"comparison_name\", \"sort\": {\"field\": \"comparison_sort_order\"}, \"header\": {\"labelAngle\": 0, \"labelAnchor\": \"middle\", \"labelAlign\": \"left\"}}, \"x\": {\"type\": \"quantitative\", \"field\": \"m_probability\", \"axis\": {\"title\": \"Proportion of record comparisons\"}}, \"y\": {\"type\": \"nominal\", \"axis\": {\"title\": null}, \"field\": \"label_for_charts\", \"sort\": {\"field\": \"comparison_vector_value\", \"order\": \"descending\"}}, \"tooltip\": [{\"type\": \"nominal\", \"field\": \"m_probability_description\", \"title\": \"m probability description\"}, {\"type\": \"nominal\", \"field\": \"comparison_name\", \"title\": \"Comparison column name\"}, {\"type\": \"ordinal\", \"field\": \"label_for_charts\", \"title\": \"Label\"}, {\"type\": \"nominal\", \"field\": \"sql_condition\", \"title\": \"SQL condition\"}, {\"type\": \"quantitative\", \"field\": \"m_probability\", \"format\": \".4p\", \"title\": \"m probability\"}, {\"type\": \"quantitative\", \"field\": \"u_probability\", \"format\": \".4p\", \"title\": \"u probability\"}, {\"type\": \"quantitative\", \"field\": \"bayes_factor\", \"title\": \"Bayes factor = m/u\", \"format\": \",.4f\"}, {\"type\": \"quantitative\", \"field\": \"log2_bayes_factor\", \"title\": \"Match weight = log2(m/u)\", \"format\": \",.4f\"}], \"color\": {\"value\": \"green\"}}, \"resolve\": {\"scale\": {\"y\": \"independent\"}}, \"transform\": [{\"filter\": \"(datum.bayes_factor != 'no-op filter due to vega lite issue 4680')\"}], \"width\": 150, \"height\": 50}, {\"mark\": \"bar\", \"title\": {\"text\": \"Amongst non-matching record comparisons:\", \"fontWeight\": \"bold\", \"fontSize\": 12}, \"encoding\": {\"row\": {\"type\": \"nominal\", \"field\": \"comparison_name\", \"sort\": {\"field\": \"comparison_sort_order\"}, \"header\": {\"labels\": false}}, \"x\": {\"type\": \"quantitative\", \"field\": \"u_probability\", \"axis\": {\"title\": \"Proportion of record comparisons\"}}, \"y\": {\"type\": \"nominal\", \"axis\": {\"title\": null}, \"field\": \"label_for_charts\", \"sort\": {\"field\": \"comparison_vector_value\", \"order\": \"descending\"}}, \"tooltip\": [{\"type\": \"nominal\", \"field\": \"u_probability_description\", \"title\": \"u probability description\"}, {\"type\": \"nominal\", \"field\": \"comparison_name\", \"title\": \"Comparison column name\"}, {\"type\": \"ordinal\", \"field\": \"label_for_charts\", \"title\": \"Label\"}, {\"type\": \"nominal\", \"field\": \"sql_condition\", \"title\": \"SQL condition\"}, {\"type\": \"quantitative\", \"field\": \"m_probability\", \"format\": \".4p\", \"title\": \"m probability\"}, {\"type\": \"quantitative\", \"field\": \"u_probability\", \"format\": \".4p\", \"title\": \"u probability\"}, {\"type\": \"quantitative\", \"field\": \"bayes_factor\", \"title\": \"Bayes factor = m/u\", \"format\": \",.4f\"}, {\"type\": \"quantitative\", \"field\": \"log2_bayes_factor\", \"title\": \"Match weight = log2(m/u)\", \"format\": \",.4f\"}], \"color\": {\"value\": \"red\"}}, \"resolve\": {\"scale\": {\"y\": \"independent\"}}, \"transform\": [{\"filter\": \"(datum.bayes_factor != 'no-op filter2 due to vega lite issue 4680')\"}], \"width\": 150, \"height\": 50}], \"data\": {\"values\": [{\"comparison_name\": \"first_name\", \"sql_condition\": \"\\\"first_name_l\\\" = \\\"first_name_r\\\"\", \"label_for_charts\": \"Exact match\", \"m_probability\": 0.95, \"u_probability\": 0.0025515853940785843, \"m_probability_description\": \"Amongst matching record comparisons, 95.00% of records are in the exact match comparison level\", \"u_probability_description\": \"Amongst non-matching record comparisons, 0.26% of records are in the exact match comparison level\", \"has_tf_adjustments\": false, \"tf_adjustment_column\": null, \"tf_adjustment_weight\": 1.0, \"is_null_level\": false, \"bayes_factor\": 372.3175411666201, \"log2_bayes_factor\": 8.54038977791673, \"comparison_vector_value\": 3, \"max_comparison_vector_value\": 3, \"bayes_factor_description\": \"If comparison level is `exact match` then comparison is 372.32 times more likely to be a match\", \"probability_two_random_records_match\": 0.0001, \"comparison_sort_order\": 0}, {\"comparison_name\": \"first_name\", \"sql_condition\": \"levenshtein(\\\"first_name_l\\\", \\\"first_name_r\\\") <= 1\", \"label_for_charts\": \"levenshtein <= 1\", \"m_probability\": 0.01666666666666668, \"u_probability\": 0.0010909932525058307, \"m_probability_description\": \"Amongst matching record comparisons, 1.67% of records are in the levenshtein <= 1 comparison level\", \"u_probability_description\": \"Amongst non-matching record comparisons, 0.11% of records are in the levenshtein <= 1 comparison level\", \"has_tf_adjustments\": false, \"tf_adjustment_column\": null, \"tf_adjustment_weight\": 1.0, \"is_null_level\": false, \"bayes_factor\": 15.276599216710196, \"log2_bayes_factor\": 3.9332515100377683, \"comparison_vector_value\": 2, \"max_comparison_vector_value\": 3, \"bayes_factor_description\": \"If comparison level is `levenshtein <= 1` then comparison is 15.28 times more likely to be a match\", \"probability_two_random_records_match\": 0.0001, \"comparison_sort_order\": 0}, {\"comparison_name\": \"first_name\", \"sql_condition\": \"levenshtein(\\\"first_name_l\\\", \\\"first_name_r\\\") <= 2\", \"label_for_charts\": \"levenshtein <= 2\", \"m_probability\": 0.01666666666666668, \"u_probability\": 0.0055204828286065264, \"m_probability_description\": \"Amongst matching record comparisons, 1.67% of records are in the levenshtein <= 2 comparison level\", \"u_probability_description\": \"Amongst non-matching record comparisons, 0.55% of records are in the levenshtein <= 2 comparison level\", \"has_tf_adjustments\": false, \"tf_adjustment_column\": null, \"tf_adjustment_weight\": 1.0, \"is_null_level\": false, \"bayes_factor\": 3.0190595975232224, \"log2_bayes_factor\": 1.5940992365476445, \"comparison_vector_value\": 1, \"max_comparison_vector_value\": 3, \"bayes_factor_description\": \"If comparison level is `levenshtein <= 2` then comparison is 3.02 times more likely to be a match\", \"probability_two_random_records_match\": 0.0001, \"comparison_sort_order\": 0}, {\"comparison_name\": \"first_name\", \"sql_condition\": \"ELSE\", \"label_for_charts\": \"All other comparisons\", \"m_probability\": 0.01666666666666668, \"u_probability\": 0.990836938524809, \"m_probability_description\": \"Amongst matching record comparisons, 1.67% of records are in the all other comparisons comparison level\", \"u_probability_description\": \"Amongst non-matching record comparisons, 99.08% of records are in the all other comparisons comparison level\", \"has_tf_adjustments\": false, \"tf_adjustment_column\": null, \"tf_adjustment_weight\": 1.0, \"is_null_level\": false, \"bayes_factor\": 0.016820796660528794, \"log2_bayes_factor\": -5.893610154159286, \"comparison_vector_value\": 0, \"max_comparison_vector_value\": 3, \"bayes_factor_description\": \"If comparison level is `all other comparisons` then comparison is  59.45 times less likely to be a match\", \"probability_two_random_records_match\": 0.0001, \"comparison_sort_order\": 0}, {\"comparison_name\": \"last_name\", \"sql_condition\": \"\\\"last_name_l\\\" = \\\"last_name_r\\\"\", \"label_for_charts\": \"Exact match\", \"m_probability\": 0.95, \"u_probability\": 0.0017725079670280759, \"m_probability_description\": \"Amongst matching record comparisons, 95.00% of records are in the exact match comparison level\", \"u_probability_description\": \"Amongst non-matching record comparisons, 0.18% of records are in the exact match comparison level\", \"has_tf_adjustments\": false, \"tf_adjustment_column\": null, \"tf_adjustment_weight\": 1.0, \"is_null_level\": false, \"bayes_factor\": 535.9637404580153, \"log2_bayes_factor\": 9.06599159114643, \"comparison_vector_value\": 3, \"max_comparison_vector_value\": 3, \"bayes_factor_description\": \"If comparison level is `exact match` then comparison is 535.96 times more likely to be a match\", \"probability_two_random_records_match\": 0.0001, \"comparison_sort_order\": 1}, {\"comparison_name\": \"last_name\", \"sql_condition\": \"levenshtein(\\\"last_name_l\\\", \\\"last_name_r\\\") <= 1\", \"label_for_charts\": \"levenshtein <= 1\", \"m_probability\": 0.01666666666666668, \"u_probability\": 0.0001993982445833111, \"m_probability_description\": \"Amongst matching record comparisons, 1.67% of records are in the levenshtein <= 1 comparison level\", \"u_probability_description\": \"Amongst non-matching record comparisons, 0.02% of records are in the levenshtein <= 1 comparison level\", \"has_tf_adjustments\": false, \"tf_adjustment_column\": null, \"tf_adjustment_weight\": 1.0, \"is_null_level\": false, \"bayes_factor\": 83.58482142857149, \"log2_bayes_factor\": 6.3851690750177585, \"comparison_vector_value\": 2, \"max_comparison_vector_value\": 3, \"bayes_factor_description\": \"If comparison level is `levenshtein <= 1` then comparison is 83.58 times more likely to be a match\", \"probability_two_random_records_match\": 0.0001, \"comparison_sort_order\": 1}, {\"comparison_name\": \"last_name\", \"sql_condition\": \"levenshtein(\\\"last_name_l\\\", \\\"last_name_r\\\") <= 2\", \"label_for_charts\": \"levenshtein <= 2\", \"m_probability\": 0.01666666666666668, \"u_probability\": 0.0020623475582616747, \"m_probability_description\": \"Amongst matching record comparisons, 1.67% of records are in the levenshtein <= 2 comparison level\", \"u_probability_description\": \"Amongst non-matching record comparisons, 0.21% of records are in the levenshtein <= 2 comparison level\", \"has_tf_adjustments\": false, \"tf_adjustment_column\": null, \"tf_adjustment_weight\": 1.0, \"is_null_level\": false, \"bayes_factor\": 8.081405386740338, \"log2_bayes_factor\": 3.01460620487952, \"comparison_vector_value\": 1, \"max_comparison_vector_value\": 3, \"bayes_factor_description\": \"If comparison level is `levenshtein <= 2` then comparison is 8.08 times more likely to be a match\", \"probability_two_random_records_match\": 0.0001, \"comparison_sort_order\": 1}, {\"comparison_name\": \"last_name\", \"sql_condition\": \"ELSE\", \"label_for_charts\": \"All other comparisons\", \"m_probability\": 0.01666666666666668, \"u_probability\": 0.9959657462301269, \"m_probability_description\": \"Amongst matching record comparisons, 1.67% of records are in the all other comparisons comparison level\", \"u_probability_description\": \"Amongst non-matching record comparisons, 99.60% of records are in the all other comparisons comparison level\", \"has_tf_adjustments\": false, \"tf_adjustment_column\": null, \"tf_adjustment_weight\": 1.0, \"is_null_level\": false, \"bayes_factor\": 0.01673417658162683, \"log2_bayes_factor\": -5.901058625952545, \"comparison_vector_value\": 0, \"max_comparison_vector_value\": 3, \"bayes_factor_description\": \"If comparison level is `all other comparisons` then comparison is  59.76 times less likely to be a match\", \"probability_two_random_records_match\": 0.0001, \"comparison_sort_order\": 1}, {\"comparison_name\": \"date_of_birth\", \"sql_condition\": \"\\\"date_of_birth_l\\\" = \\\"date_of_birth_r\\\"\", \"label_for_charts\": \"Exact match\", \"m_probability\": 0.95, \"u_probability\": 0.0014734106001531094, \"m_probability_description\": \"Amongst matching record comparisons, 95.00% of records are in the exact match comparison level\", \"u_probability_description\": \"Amongst non-matching record comparisons, 0.15% of records are in the exact match comparison level\", \"has_tf_adjustments\": false, \"tf_adjustment_column\": null, \"tf_adjustment_weight\": 1.0, \"is_null_level\": false, \"bayes_factor\": 644.7625664572257, \"log2_bayes_factor\": 9.332624176267457, \"comparison_vector_value\": 2, \"max_comparison_vector_value\": 2, \"bayes_factor_description\": \"If comparison level is `exact match` then comparison is 644.76 times more likely to be a match\", \"probability_two_random_records_match\": 0.0001, \"comparison_sort_order\": 2}, {\"comparison_name\": \"date_of_birth\", \"sql_condition\": \"levenshtein(\\\"date_of_birth_l\\\", \\\"date_of_birth_r\\\") <= 1\", \"label_for_charts\": \"levenshtein <= 1\", \"m_probability\": 0.025000000000000022, \"u_probability\": 0.010750413929391658, \"m_probability_description\": \"Amongst matching record comparisons, 2.50% of records are in the levenshtein <= 1 comparison level\", \"u_probability_description\": \"Amongst non-matching record comparisons, 1.08% of records are in the levenshtein <= 1 comparison level\", \"has_tf_adjustments\": false, \"tf_adjustment_column\": null, \"tf_adjustment_weight\": 1.0, \"is_null_level\": false, \"bayes_factor\": 2.325491852146266, \"log2_bayes_factor\": 1.2175358850834366, \"comparison_vector_value\": 1, \"max_comparison_vector_value\": 2, \"bayes_factor_description\": \"If comparison level is `levenshtein <= 1` then comparison is 2.33 times more likely to be a match\", \"probability_two_random_records_match\": 0.0001, \"comparison_sort_order\": 2}, {\"comparison_name\": \"date_of_birth\", \"sql_condition\": \"ELSE\", \"label_for_charts\": \"All other comparisons\", \"m_probability\": 0.025000000000000022, \"u_probability\": 0.9877761754704553, \"m_probability_description\": \"Amongst matching record comparisons, 2.50% of records are in the all other comparisons comparison level\", \"u_probability_description\": \"Amongst non-matching record comparisons, 98.78% of records are in the all other comparisons comparison level\", \"has_tf_adjustments\": false, \"tf_adjustment_column\": null, \"tf_adjustment_weight\": 1.0, \"is_null_level\": false, \"bayes_factor\": 0.02530937738814473, \"log2_bayes_factor\": -5.304184172254388, \"comparison_vector_value\": 0, \"max_comparison_vector_value\": 2, \"bayes_factor_description\": \"If comparison level is `all other comparisons` then comparison is  39.51 times less likely to be a match\", \"probability_two_random_records_match\": 0.0001, \"comparison_sort_order\": 2}, {\"comparison_name\": \"sex\", \"sql_condition\": \"\\\"sex_l\\\" = \\\"sex_r\\\"\", \"label_for_charts\": \"Exact match\", \"m_probability\": 0.95, \"u_probability\": 0.49271235022877385, \"m_probability_description\": \"Amongst matching record comparisons, 95.00% of records are in the exact match comparison level\", \"u_probability_description\": \"Amongst non-matching record comparisons, 49.27% of records are in the exact match comparison level\", \"has_tf_adjustments\": false, \"tf_adjustment_column\": null, \"tf_adjustment_weight\": 1.0, \"is_null_level\": false, \"bayes_factor\": 1.928102674022481, \"log2_bayes_factor\": 0.9471818790362375, \"comparison_vector_value\": 1, \"max_comparison_vector_value\": 1, \"bayes_factor_description\": \"If comparison level is `exact match` then comparison is 1.93 times more likely to be a match\", \"probability_two_random_records_match\": 0.0001, \"comparison_sort_order\": 3}, {\"comparison_name\": \"sex\", \"sql_condition\": \"ELSE\", \"label_for_charts\": \"All other comparisons\", \"m_probability\": 0.050000000000000044, \"u_probability\": 0.5072876497712261, \"m_probability_description\": \"Amongst matching record comparisons, 5.00% of records are in the all other comparisons comparison level\", \"u_probability_description\": \"Amongst non-matching record comparisons, 50.73% of records are in the all other comparisons comparison level\", \"has_tf_adjustments\": false, \"tf_adjustment_column\": null, \"tf_adjustment_weight\": 1.0, \"is_null_level\": false, \"bayes_factor\": 0.09856340879291814, \"log2_bayes_factor\": -3.3428040376015278, \"comparison_vector_value\": 0, \"max_comparison_vector_value\": 1, \"bayes_factor_description\": \"If comparison level is `all other comparisons` then comparison is  10.15 times less likely to be a match\", \"probability_two_random_records_match\": 0.0001, \"comparison_sort_order\": 3}, {\"comparison_name\": \"zipcode\", \"sql_condition\": \"\\\"zipcode_l\\\" = \\\"zipcode_r\\\"\", \"label_for_charts\": \"Exact match\", \"m_probability\": 0.95, \"u_probability\": 0.00310277911303388, \"m_probability_description\": \"Amongst matching record comparisons, 95.00% of records are in the exact match comparison level\", \"u_probability_description\": \"Amongst non-matching record comparisons, 0.31% of records are in the exact match comparison level\", \"has_tf_adjustments\": false, \"tf_adjustment_column\": null, \"tf_adjustment_weight\": 1.0, \"is_null_level\": false, \"bayes_factor\": 306.17712875831995, \"log2_bayes_factor\": 8.258222708212298, \"comparison_vector_value\": 3, \"max_comparison_vector_value\": 3, \"bayes_factor_description\": \"If comparison level is `exact match` then comparison is 306.18 times more likely to be a match\", \"probability_two_random_records_match\": 0.0001, \"comparison_sort_order\": 4}, {\"comparison_name\": \"zipcode\", \"sql_condition\": \"levenshtein(\\\"zipcode_l\\\", \\\"zipcode_r\\\") <= 1\", \"label_for_charts\": \"levenshtein <= 1\", \"m_probability\": 0.01666666666666668, \"u_probability\": 0.016490234827039825, \"m_probability_description\": \"Amongst matching record comparisons, 1.67% of records are in the levenshtein <= 1 comparison level\", \"u_probability_description\": \"Amongst non-matching record comparisons, 1.65% of records are in the levenshtein <= 1 comparison level\", \"has_tf_adjustments\": false, \"tf_adjustment_column\": null, \"tf_adjustment_weight\": 1.0, \"is_null_level\": false, \"bayes_factor\": 1.0106991708412516, \"log2_bayes_factor\": 0.015353650733846941, \"comparison_vector_value\": 2, \"max_comparison_vector_value\": 3, \"bayes_factor_description\": \"If comparison level is `levenshtein <= 1` then comparison is 1.01 times more likely to be a match\", \"probability_two_random_records_match\": 0.0001, \"comparison_sort_order\": 4}, {\"comparison_name\": \"zipcode\", \"sql_condition\": \"levenshtein(\\\"zipcode_l\\\", \\\"zipcode_r\\\") <= 2\", \"label_for_charts\": \"levenshtein <= 2\", \"m_probability\": 0.01666666666666668, \"u_probability\": 0.126999590521462, \"m_probability_description\": \"Amongst matching record comparisons, 1.67% of records are in the levenshtein <= 2 comparison level\", \"u_probability_description\": \"Amongst non-matching record comparisons, 12.70% of records are in the levenshtein <= 2 comparison level\", \"has_tf_adjustments\": false, \"tf_adjustment_column\": null, \"tf_adjustment_weight\": 1.0, \"is_null_level\": false, \"bayes_factor\": 0.13123401893055817, \"log2_bayes_factor\": -2.92978634611538, \"comparison_vector_value\": 1, \"max_comparison_vector_value\": 3, \"bayes_factor_description\": \"If comparison level is `levenshtein <= 2` then comparison is  7.62 times less likely to be a match\", \"probability_two_random_records_match\": 0.0001, \"comparison_sort_order\": 4}, {\"comparison_name\": \"zipcode\", \"sql_condition\": \"ELSE\", \"label_for_charts\": \"All other comparisons\", \"m_probability\": 0.01666666666666668, \"u_probability\": 0.8534073955384642, \"m_probability_description\": \"Amongst matching record comparisons, 1.67% of records are in the all other comparisons comparison level\", \"u_probability_description\": \"Amongst non-matching record comparisons, 85.34% of records are in the all other comparisons comparison level\", \"has_tf_adjustments\": false, \"tf_adjustment_column\": null, \"tf_adjustment_weight\": 1.0, \"is_null_level\": false, \"bayes_factor\": 0.019529554997763657, \"log2_bayes_factor\": -5.6781971135573865, \"comparison_vector_value\": 0, \"max_comparison_vector_value\": 3, \"bayes_factor_description\": \"If comparison level is `all other comparisons` then comparison is  51.20 times less likely to be a match\", \"probability_two_random_records_match\": 0.0001, \"comparison_sort_order\": 4}]}, \"title\": {\"text\": \"Proportion of record comparisons in each comparison level by match status\", \"subtitle\": \"(m and u probabilities)\"}, \"$schema\": \"https://vega.github.io/schema/vega-lite/v4.json\"}, {\"mode\": \"vega-lite\"});\n",
       "</script>"
      ],
      "text/plain": [
       "<splink.charts.VegaliteNoValidate at 0x7efc5aa82460>"
      ]
     },
     "execution_count": 16,
     "metadata": {},
     "output_type": "execute_result"
    }
   ],
   "source": [
    "linker.m_u_parameters_chart()"
   ]
  },
  {
   "cell_type": "markdown",
   "id": "117fbc36",
   "metadata": {},
   "source": [
    "# Estimate probability two random records match, for use in estimating `m` probabilities with EM algorithm\n",
    "\n",
    "As a first approximation, we expect every record in WIC to match one record in the census, so we can estimate this as\n",
    "\n",
    "$$\n",
    "\\frac{\\text{number of matches}}{\\text{number of pairs}} \\approx\n",
    "\\frac{\\text{# records in WIC}}{(\\text{# records in census}) \\cdot (\\text{# records in WIC})} = \\frac{1}{\\text{# records in census}}.\n",
    "$$\n",
    "\n",
    "## Then add this to the settings dictionary and update the linker"
   ]
  },
  {
   "cell_type": "code",
   "execution_count": 17,
   "id": "3f339737",
   "metadata": {},
   "outputs": [
    {
     "data": {
      "text/plain": [
       "{'link_type': 'link_only',\n",
       " 'sql_dialect': 'duckdb',\n",
       " 'comparisons': [<Comparison Exact match vs. levenshtein at thresholds 1, 2 vs. anything else with 4 levels at 0x7efc5aa825e0>,\n",
       "  <Comparison Exact match vs. levenshtein at thresholds 1, 2 vs. anything else with 4 levels at 0x7efc5aa657c0>,\n",
       "  <Comparison Exact match vs. levenshtein at threshold 1 vs. anything else with 3 levels at 0x7efc5aaa2340>,\n",
       "  <Comparison Exact match vs. anything else with 2 levels at 0x7efc5aaa2a30>,\n",
       "  <Comparison Exact match vs. levenshtein at thresholds 1, 2 vs. anything else with 4 levels at 0x7efc5aaa2280>],\n",
       " 'probability_two_random_records_match': 0.00044583147570218456}"
      ]
     },
     "execution_count": 17,
     "metadata": {},
     "output_type": "execute_result"
    }
   ],
   "source": [
    "probability_two_random_records_match = 1/len(df_census_u5)\n",
    "\n",
    "settings['probability_two_random_records_match'] = probability_two_random_records_match\n",
    "linker.initialise_settings(settings)\n",
    "linker._settings_dict"
   ]
  },
  {
   "cell_type": "code",
   "execution_count": 18,
   "id": "5ea07422",
   "metadata": {},
   "outputs": [
    {
     "data": {
      "text/html": [
       "\n",
       "<div id=\"altair-viz-ac0690f3c0834ba4bbb31093be208473\"></div>\n",
       "<script type=\"text/javascript\">\n",
       "  var VEGA_DEBUG = (typeof VEGA_DEBUG == \"undefined\") ? {} : VEGA_DEBUG;\n",
       "  (function(spec, embedOpt){\n",
       "    let outputDiv = document.currentScript.previousElementSibling;\n",
       "    if (outputDiv.id !== \"altair-viz-ac0690f3c0834ba4bbb31093be208473\") {\n",
       "      outputDiv = document.getElementById(\"altair-viz-ac0690f3c0834ba4bbb31093be208473\");\n",
       "    }\n",
       "    const paths = {\n",
       "      \"vega\": \"https://cdn.jsdelivr.net/npm//vega@5?noext\",\n",
       "      \"vega-lib\": \"https://cdn.jsdelivr.net/npm//vega-lib?noext\",\n",
       "      \"vega-lite\": \"https://cdn.jsdelivr.net/npm//vega-lite@4.17.0?noext\",\n",
       "      \"vega-embed\": \"https://cdn.jsdelivr.net/npm//vega-embed@6?noext\",\n",
       "    };\n",
       "\n",
       "    function maybeLoadScript(lib, version) {\n",
       "      var key = `${lib.replace(\"-\", \"\")}_version`;\n",
       "      return (VEGA_DEBUG[key] == version) ?\n",
       "        Promise.resolve(paths[lib]) :\n",
       "        new Promise(function(resolve, reject) {\n",
       "          var s = document.createElement('script');\n",
       "          document.getElementsByTagName(\"head\")[0].appendChild(s);\n",
       "          s.async = true;\n",
       "          s.onload = () => {\n",
       "            VEGA_DEBUG[key] = version;\n",
       "            return resolve(paths[lib]);\n",
       "          };\n",
       "          s.onerror = () => reject(`Error loading script: ${paths[lib]}`);\n",
       "          s.src = paths[lib];\n",
       "        });\n",
       "    }\n",
       "\n",
       "    function showError(err) {\n",
       "      outputDiv.innerHTML = `<div class=\"error\" style=\"color:red;\">${err}</div>`;\n",
       "      throw err;\n",
       "    }\n",
       "\n",
       "    function displayChart(vegaEmbed) {\n",
       "      vegaEmbed(outputDiv, spec, embedOpt)\n",
       "        .catch(err => showError(`Javascript Error: ${err.message}<br>This usually means there's a typo in your chart specification. See the javascript console for the full traceback.`));\n",
       "    }\n",
       "\n",
       "    if(typeof define === \"function\" && define.amd) {\n",
       "      requirejs.config({paths});\n",
       "      require([\"vega-embed\"], displayChart, err => showError(`Error loading script: ${err.message}`));\n",
       "    } else {\n",
       "      maybeLoadScript(\"vega\", \"5\")\n",
       "        .then(() => maybeLoadScript(\"vega-lite\", \"4.17.0\"))\n",
       "        .then(() => maybeLoadScript(\"vega-embed\", \"6\"))\n",
       "        .catch(showError)\n",
       "        .then(() => displayChart(vegaEmbed));\n",
       "    }\n",
       "  })({\"config\": {\"view\": {\"width\": 400, \"height\": 300}, \"title\": {\"anchor\": \"middle\", \"offset\": 10}, \"header\": {\"title\": null}}, \"hconcat\": [{\"mark\": \"bar\", \"title\": {\"text\": \"Amongst matching record comparisons:\", \"fontWeight\": \"bold\", \"fontSize\": 12}, \"encoding\": {\"row\": {\"type\": \"nominal\", \"field\": \"comparison_name\", \"sort\": {\"field\": \"comparison_sort_order\"}, \"header\": {\"labelAngle\": 0, \"labelAnchor\": \"middle\", \"labelAlign\": \"left\"}}, \"x\": {\"type\": \"quantitative\", \"field\": \"m_probability\", \"axis\": {\"title\": \"Proportion of record comparisons\"}}, \"y\": {\"type\": \"nominal\", \"axis\": {\"title\": null}, \"field\": \"label_for_charts\", \"sort\": {\"field\": \"comparison_vector_value\", \"order\": \"descending\"}}, \"tooltip\": [{\"type\": \"nominal\", \"field\": \"m_probability_description\", \"title\": \"m probability description\"}, {\"type\": \"nominal\", \"field\": \"comparison_name\", \"title\": \"Comparison column name\"}, {\"type\": \"ordinal\", \"field\": \"label_for_charts\", \"title\": \"Label\"}, {\"type\": \"nominal\", \"field\": \"sql_condition\", \"title\": \"SQL condition\"}, {\"type\": \"quantitative\", \"field\": \"m_probability\", \"format\": \".4p\", \"title\": \"m probability\"}, {\"type\": \"quantitative\", \"field\": \"u_probability\", \"format\": \".4p\", \"title\": \"u probability\"}, {\"type\": \"quantitative\", \"field\": \"bayes_factor\", \"title\": \"Bayes factor = m/u\", \"format\": \",.4f\"}, {\"type\": \"quantitative\", \"field\": \"log2_bayes_factor\", \"title\": \"Match weight = log2(m/u)\", \"format\": \",.4f\"}], \"color\": {\"value\": \"green\"}}, \"resolve\": {\"scale\": {\"y\": \"independent\"}}, \"transform\": [{\"filter\": \"(datum.bayes_factor != 'no-op filter due to vega lite issue 4680')\"}], \"width\": 150, \"height\": 50}, {\"mark\": \"bar\", \"title\": {\"text\": \"Amongst non-matching record comparisons:\", \"fontWeight\": \"bold\", \"fontSize\": 12}, \"encoding\": {\"row\": {\"type\": \"nominal\", \"field\": \"comparison_name\", \"sort\": {\"field\": \"comparison_sort_order\"}, \"header\": {\"labels\": false}}, \"x\": {\"type\": \"quantitative\", \"field\": \"u_probability\", \"axis\": {\"title\": \"Proportion of record comparisons\"}}, \"y\": {\"type\": \"nominal\", \"axis\": {\"title\": null}, \"field\": \"label_for_charts\", \"sort\": {\"field\": \"comparison_vector_value\", \"order\": \"descending\"}}, \"tooltip\": [{\"type\": \"nominal\", \"field\": \"u_probability_description\", \"title\": \"u probability description\"}, {\"type\": \"nominal\", \"field\": \"comparison_name\", \"title\": \"Comparison column name\"}, {\"type\": \"ordinal\", \"field\": \"label_for_charts\", \"title\": \"Label\"}, {\"type\": \"nominal\", \"field\": \"sql_condition\", \"title\": \"SQL condition\"}, {\"type\": \"quantitative\", \"field\": \"m_probability\", \"format\": \".4p\", \"title\": \"m probability\"}, {\"type\": \"quantitative\", \"field\": \"u_probability\", \"format\": \".4p\", \"title\": \"u probability\"}, {\"type\": \"quantitative\", \"field\": \"bayes_factor\", \"title\": \"Bayes factor = m/u\", \"format\": \",.4f\"}, {\"type\": \"quantitative\", \"field\": \"log2_bayes_factor\", \"title\": \"Match weight = log2(m/u)\", \"format\": \",.4f\"}], \"color\": {\"value\": \"red\"}}, \"resolve\": {\"scale\": {\"y\": \"independent\"}}, \"transform\": [{\"filter\": \"(datum.bayes_factor != 'no-op filter2 due to vega lite issue 4680')\"}], \"width\": 150, \"height\": 50}], \"data\": {\"values\": [{\"comparison_name\": \"first_name\", \"sql_condition\": \"\\\"first_name_l\\\" = \\\"first_name_r\\\"\", \"label_for_charts\": \"Exact match\", \"m_probability\": 0.95, \"u_probability\": 0.000927734375, \"m_probability_description\": \"Amongst matching record comparisons, 95.00% of records are in the exact match comparison level\", \"u_probability_description\": \"Amongst non-matching record comparisons, 0.09% of records are in the exact match comparison level\", \"has_tf_adjustments\": false, \"tf_adjustment_column\": null, \"tf_adjustment_weight\": 1.0, \"is_null_level\": false, \"bayes_factor\": 1024.0, \"log2_bayes_factor\": 10.0, \"comparison_vector_value\": 3, \"max_comparison_vector_value\": 3, \"bayes_factor_description\": \"If comparison level is `exact match` then comparison is 1,024.00 times more likely to be a match\", \"probability_two_random_records_match\": 0.00044583147570218456, \"comparison_sort_order\": 0}, {\"comparison_name\": \"first_name\", \"sql_condition\": \"levenshtein(\\\"first_name_l\\\", \\\"first_name_r\\\") <= 1\", \"label_for_charts\": \"levenshtein <= 1\", \"m_probability\": 0.01666666666666668, \"u_probability\": 0.002083333333333335, \"m_probability_description\": \"Amongst matching record comparisons, 1.67% of records are in the levenshtein <= 1 comparison level\", \"u_probability_description\": \"Amongst non-matching record comparisons, 0.21% of records are in the levenshtein <= 1 comparison level\", \"has_tf_adjustments\": false, \"tf_adjustment_column\": null, \"tf_adjustment_weight\": 1.0, \"is_null_level\": false, \"bayes_factor\": 8.0, \"log2_bayes_factor\": 3.0, \"comparison_vector_value\": 2, \"max_comparison_vector_value\": 3, \"bayes_factor_description\": \"If comparison level is `levenshtein <= 1` then comparison is 8.00 times more likely to be a match\", \"probability_two_random_records_match\": 0.00044583147570218456, \"comparison_sort_order\": 0}, {\"comparison_name\": \"first_name\", \"sql_condition\": \"levenshtein(\\\"first_name_l\\\", \\\"first_name_r\\\") <= 2\", \"label_for_charts\": \"levenshtein <= 2\", \"m_probability\": 0.01666666666666668, \"u_probability\": 0.03333333333333336, \"m_probability_description\": \"Amongst matching record comparisons, 1.67% of records are in the levenshtein <= 2 comparison level\", \"u_probability_description\": \"Amongst non-matching record comparisons, 3.33% of records are in the levenshtein <= 2 comparison level\", \"has_tf_adjustments\": false, \"tf_adjustment_column\": null, \"tf_adjustment_weight\": 1.0, \"is_null_level\": false, \"bayes_factor\": 0.5, \"log2_bayes_factor\": -1.0, \"comparison_vector_value\": 1, \"max_comparison_vector_value\": 3, \"bayes_factor_description\": \"If comparison level is `levenshtein <= 2` then comparison is  2.00 times less likely to be a match\", \"probability_two_random_records_match\": 0.00044583147570218456, \"comparison_sort_order\": 0}, {\"comparison_name\": \"first_name\", \"sql_condition\": \"ELSE\", \"label_for_charts\": \"All other comparisons\", \"m_probability\": 0.01666666666666668, \"u_probability\": 0.5333333333333338, \"m_probability_description\": \"Amongst matching record comparisons, 1.67% of records are in the all other comparisons comparison level\", \"u_probability_description\": \"Amongst non-matching record comparisons, 53.33% of records are in the all other comparisons comparison level\", \"has_tf_adjustments\": false, \"tf_adjustment_column\": null, \"tf_adjustment_weight\": 1.0, \"is_null_level\": false, \"bayes_factor\": 0.03125, \"log2_bayes_factor\": -5.0, \"comparison_vector_value\": 0, \"max_comparison_vector_value\": 3, \"bayes_factor_description\": \"If comparison level is `all other comparisons` then comparison is  32.00 times less likely to be a match\", \"probability_two_random_records_match\": 0.00044583147570218456, \"comparison_sort_order\": 0}, {\"comparison_name\": \"last_name\", \"sql_condition\": \"\\\"last_name_l\\\" = \\\"last_name_r\\\"\", \"label_for_charts\": \"Exact match\", \"m_probability\": 0.95, \"u_probability\": 0.000927734375, \"m_probability_description\": \"Amongst matching record comparisons, 95.00% of records are in the exact match comparison level\", \"u_probability_description\": \"Amongst non-matching record comparisons, 0.09% of records are in the exact match comparison level\", \"has_tf_adjustments\": false, \"tf_adjustment_column\": null, \"tf_adjustment_weight\": 1.0, \"is_null_level\": false, \"bayes_factor\": 1024.0, \"log2_bayes_factor\": 10.0, \"comparison_vector_value\": 3, \"max_comparison_vector_value\": 3, \"bayes_factor_description\": \"If comparison level is `exact match` then comparison is 1,024.00 times more likely to be a match\", \"probability_two_random_records_match\": 0.00044583147570218456, \"comparison_sort_order\": 1}, {\"comparison_name\": \"last_name\", \"sql_condition\": \"levenshtein(\\\"last_name_l\\\", \\\"last_name_r\\\") <= 1\", \"label_for_charts\": \"levenshtein <= 1\", \"m_probability\": 0.01666666666666668, \"u_probability\": 0.002083333333333335, \"m_probability_description\": \"Amongst matching record comparisons, 1.67% of records are in the levenshtein <= 1 comparison level\", \"u_probability_description\": \"Amongst non-matching record comparisons, 0.21% of records are in the levenshtein <= 1 comparison level\", \"has_tf_adjustments\": false, \"tf_adjustment_column\": null, \"tf_adjustment_weight\": 1.0, \"is_null_level\": false, \"bayes_factor\": 8.0, \"log2_bayes_factor\": 3.0, \"comparison_vector_value\": 2, \"max_comparison_vector_value\": 3, \"bayes_factor_description\": \"If comparison level is `levenshtein <= 1` then comparison is 8.00 times more likely to be a match\", \"probability_two_random_records_match\": 0.00044583147570218456, \"comparison_sort_order\": 1}, {\"comparison_name\": \"last_name\", \"sql_condition\": \"levenshtein(\\\"last_name_l\\\", \\\"last_name_r\\\") <= 2\", \"label_for_charts\": \"levenshtein <= 2\", \"m_probability\": 0.01666666666666668, \"u_probability\": 0.03333333333333336, \"m_probability_description\": \"Amongst matching record comparisons, 1.67% of records are in the levenshtein <= 2 comparison level\", \"u_probability_description\": \"Amongst non-matching record comparisons, 3.33% of records are in the levenshtein <= 2 comparison level\", \"has_tf_adjustments\": false, \"tf_adjustment_column\": null, \"tf_adjustment_weight\": 1.0, \"is_null_level\": false, \"bayes_factor\": 0.5, \"log2_bayes_factor\": -1.0, \"comparison_vector_value\": 1, \"max_comparison_vector_value\": 3, \"bayes_factor_description\": \"If comparison level is `levenshtein <= 2` then comparison is  2.00 times less likely to be a match\", \"probability_two_random_records_match\": 0.00044583147570218456, \"comparison_sort_order\": 1}, {\"comparison_name\": \"last_name\", \"sql_condition\": \"ELSE\", \"label_for_charts\": \"All other comparisons\", \"m_probability\": 0.01666666666666668, \"u_probability\": 0.5333333333333338, \"m_probability_description\": \"Amongst matching record comparisons, 1.67% of records are in the all other comparisons comparison level\", \"u_probability_description\": \"Amongst non-matching record comparisons, 53.33% of records are in the all other comparisons comparison level\", \"has_tf_adjustments\": false, \"tf_adjustment_column\": null, \"tf_adjustment_weight\": 1.0, \"is_null_level\": false, \"bayes_factor\": 0.03125, \"log2_bayes_factor\": -5.0, \"comparison_vector_value\": 0, \"max_comparison_vector_value\": 3, \"bayes_factor_description\": \"If comparison level is `all other comparisons` then comparison is  32.00 times less likely to be a match\", \"probability_two_random_records_match\": 0.00044583147570218456, \"comparison_sort_order\": 1}, {\"comparison_name\": \"date_of_birth\", \"sql_condition\": \"\\\"date_of_birth_l\\\" = \\\"date_of_birth_r\\\"\", \"label_for_charts\": \"Exact match\", \"m_probability\": 0.95, \"u_probability\": 0.000927734375, \"m_probability_description\": \"Amongst matching record comparisons, 95.00% of records are in the exact match comparison level\", \"u_probability_description\": \"Amongst non-matching record comparisons, 0.09% of records are in the exact match comparison level\", \"has_tf_adjustments\": false, \"tf_adjustment_column\": null, \"tf_adjustment_weight\": 1.0, \"is_null_level\": false, \"bayes_factor\": 1024.0, \"log2_bayes_factor\": 10.0, \"comparison_vector_value\": 2, \"max_comparison_vector_value\": 2, \"bayes_factor_description\": \"If comparison level is `exact match` then comparison is 1,024.00 times more likely to be a match\", \"probability_two_random_records_match\": 0.00044583147570218456, \"comparison_sort_order\": 2}, {\"comparison_name\": \"date_of_birth\", \"sql_condition\": \"levenshtein(\\\"date_of_birth_l\\\", \\\"date_of_birth_r\\\") <= 1\", \"label_for_charts\": \"levenshtein <= 1\", \"m_probability\": 0.025000000000000022, \"u_probability\": 0.0031250000000000028, \"m_probability_description\": \"Amongst matching record comparisons, 2.50% of records are in the levenshtein <= 1 comparison level\", \"u_probability_description\": \"Amongst non-matching record comparisons, 0.31% of records are in the levenshtein <= 1 comparison level\", \"has_tf_adjustments\": false, \"tf_adjustment_column\": null, \"tf_adjustment_weight\": 1.0, \"is_null_level\": false, \"bayes_factor\": 8.0, \"log2_bayes_factor\": 3.0, \"comparison_vector_value\": 1, \"max_comparison_vector_value\": 2, \"bayes_factor_description\": \"If comparison level is `levenshtein <= 1` then comparison is 8.00 times more likely to be a match\", \"probability_two_random_records_match\": 0.00044583147570218456, \"comparison_sort_order\": 2}, {\"comparison_name\": \"date_of_birth\", \"sql_condition\": \"ELSE\", \"label_for_charts\": \"All other comparisons\", \"m_probability\": 0.025000000000000022, \"u_probability\": 0.8000000000000007, \"m_probability_description\": \"Amongst matching record comparisons, 2.50% of records are in the all other comparisons comparison level\", \"u_probability_description\": \"Amongst non-matching record comparisons, 80.00% of records are in the all other comparisons comparison level\", \"has_tf_adjustments\": false, \"tf_adjustment_column\": null, \"tf_adjustment_weight\": 1.0, \"is_null_level\": false, \"bayes_factor\": 0.03125, \"log2_bayes_factor\": -5.0, \"comparison_vector_value\": 0, \"max_comparison_vector_value\": 2, \"bayes_factor_description\": \"If comparison level is `all other comparisons` then comparison is  32.00 times less likely to be a match\", \"probability_two_random_records_match\": 0.00044583147570218456, \"comparison_sort_order\": 2}, {\"comparison_name\": \"sex\", \"sql_condition\": \"\\\"sex_l\\\" = \\\"sex_r\\\"\", \"label_for_charts\": \"Exact match\", \"m_probability\": 0.95, \"u_probability\": 0.000927734375, \"m_probability_description\": \"Amongst matching record comparisons, 95.00% of records are in the exact match comparison level\", \"u_probability_description\": \"Amongst non-matching record comparisons, 0.09% of records are in the exact match comparison level\", \"has_tf_adjustments\": false, \"tf_adjustment_column\": null, \"tf_adjustment_weight\": 1.0, \"is_null_level\": false, \"bayes_factor\": 1024.0, \"log2_bayes_factor\": 10.0, \"comparison_vector_value\": 1, \"max_comparison_vector_value\": 1, \"bayes_factor_description\": \"If comparison level is `exact match` then comparison is 1,024.00 times more likely to be a match\", \"probability_two_random_records_match\": 0.00044583147570218456, \"comparison_sort_order\": 3}, {\"comparison_name\": \"sex\", \"sql_condition\": \"ELSE\", \"label_for_charts\": \"All other comparisons\", \"m_probability\": 0.050000000000000044, \"u_probability\": 1.6000000000000014, \"m_probability_description\": \"Amongst matching record comparisons, 5.00% of records are in the all other comparisons comparison level\", \"u_probability_description\": \"Amongst non-matching record comparisons, 160.00% of records are in the all other comparisons comparison level\", \"has_tf_adjustments\": false, \"tf_adjustment_column\": null, \"tf_adjustment_weight\": 1.0, \"is_null_level\": false, \"bayes_factor\": 0.03125, \"log2_bayes_factor\": -5.0, \"comparison_vector_value\": 0, \"max_comparison_vector_value\": 1, \"bayes_factor_description\": \"If comparison level is `all other comparisons` then comparison is  32.00 times less likely to be a match\", \"probability_two_random_records_match\": 0.00044583147570218456, \"comparison_sort_order\": 3}, {\"comparison_name\": \"zipcode\", \"sql_condition\": \"\\\"zipcode_l\\\" = \\\"zipcode_r\\\"\", \"label_for_charts\": \"Exact match\", \"m_probability\": 0.95, \"u_probability\": 0.000927734375, \"m_probability_description\": \"Amongst matching record comparisons, 95.00% of records are in the exact match comparison level\", \"u_probability_description\": \"Amongst non-matching record comparisons, 0.09% of records are in the exact match comparison level\", \"has_tf_adjustments\": false, \"tf_adjustment_column\": null, \"tf_adjustment_weight\": 1.0, \"is_null_level\": false, \"bayes_factor\": 1024.0, \"log2_bayes_factor\": 10.0, \"comparison_vector_value\": 3, \"max_comparison_vector_value\": 3, \"bayes_factor_description\": \"If comparison level is `exact match` then comparison is 1,024.00 times more likely to be a match\", \"probability_two_random_records_match\": 0.00044583147570218456, \"comparison_sort_order\": 4}, {\"comparison_name\": \"zipcode\", \"sql_condition\": \"levenshtein(\\\"zipcode_l\\\", \\\"zipcode_r\\\") <= 1\", \"label_for_charts\": \"levenshtein <= 1\", \"m_probability\": 0.01666666666666668, \"u_probability\": 0.002083333333333335, \"m_probability_description\": \"Amongst matching record comparisons, 1.67% of records are in the levenshtein <= 1 comparison level\", \"u_probability_description\": \"Amongst non-matching record comparisons, 0.21% of records are in the levenshtein <= 1 comparison level\", \"has_tf_adjustments\": false, \"tf_adjustment_column\": null, \"tf_adjustment_weight\": 1.0, \"is_null_level\": false, \"bayes_factor\": 8.0, \"log2_bayes_factor\": 3.0, \"comparison_vector_value\": 2, \"max_comparison_vector_value\": 3, \"bayes_factor_description\": \"If comparison level is `levenshtein <= 1` then comparison is 8.00 times more likely to be a match\", \"probability_two_random_records_match\": 0.00044583147570218456, \"comparison_sort_order\": 4}, {\"comparison_name\": \"zipcode\", \"sql_condition\": \"levenshtein(\\\"zipcode_l\\\", \\\"zipcode_r\\\") <= 2\", \"label_for_charts\": \"levenshtein <= 2\", \"m_probability\": 0.01666666666666668, \"u_probability\": 0.03333333333333336, \"m_probability_description\": \"Amongst matching record comparisons, 1.67% of records are in the levenshtein <= 2 comparison level\", \"u_probability_description\": \"Amongst non-matching record comparisons, 3.33% of records are in the levenshtein <= 2 comparison level\", \"has_tf_adjustments\": false, \"tf_adjustment_column\": null, \"tf_adjustment_weight\": 1.0, \"is_null_level\": false, \"bayes_factor\": 0.5, \"log2_bayes_factor\": -1.0, \"comparison_vector_value\": 1, \"max_comparison_vector_value\": 3, \"bayes_factor_description\": \"If comparison level is `levenshtein <= 2` then comparison is  2.00 times less likely to be a match\", \"probability_two_random_records_match\": 0.00044583147570218456, \"comparison_sort_order\": 4}, {\"comparison_name\": \"zipcode\", \"sql_condition\": \"ELSE\", \"label_for_charts\": \"All other comparisons\", \"m_probability\": 0.01666666666666668, \"u_probability\": 0.5333333333333338, \"m_probability_description\": \"Amongst matching record comparisons, 1.67% of records are in the all other comparisons comparison level\", \"u_probability_description\": \"Amongst non-matching record comparisons, 53.33% of records are in the all other comparisons comparison level\", \"has_tf_adjustments\": false, \"tf_adjustment_column\": null, \"tf_adjustment_weight\": 1.0, \"is_null_level\": false, \"bayes_factor\": 0.03125, \"log2_bayes_factor\": -5.0, \"comparison_vector_value\": 0, \"max_comparison_vector_value\": 3, \"bayes_factor_description\": \"If comparison level is `all other comparisons` then comparison is  32.00 times less likely to be a match\", \"probability_two_random_records_match\": 0.00044583147570218456, \"comparison_sort_order\": 4}]}, \"title\": {\"text\": \"Proportion of record comparisons in each comparison level by match status\", \"subtitle\": \"(m and u probabilities)\"}, \"$schema\": \"https://vega.github.io/schema/vega-lite/v4.json\"}, {\"mode\": \"vega-lite\"});\n",
       "</script>"
      ],
      "text/plain": [
       "<splink.charts.VegaliteNoValidate at 0x7efc5aa824c0>"
      ]
     },
     "execution_count": 18,
     "metadata": {},
     "output_type": "execute_result"
    }
   ],
   "source": [
    "# Oops, reinitializing the settings deleted our estimated u probabilities...\n",
    "linker.m_u_parameters_chart()"
   ]
  },
  {
   "cell_type": "markdown",
   "id": "10829e46",
   "metadata": {},
   "source": [
    "# Define training blocking rules for EM algorithm, and estimate `m` values\n",
    "\n",
    "According to the Splink documentation for the training blocking rules:\n",
    "\n",
    "> It does not matter if this blocking rule excludes some true matches - it just needs to generate examples of matches and non matches."
   ]
  },
  {
   "cell_type": "code",
   "execution_count": 19,
   "id": "045213f0",
   "metadata": {},
   "outputs": [
    {
     "name": "stdout",
     "output_type": "stream",
     "text": [
      "Number of comparisons generated by 'l.first_name = r.first_name': 2,966\n",
      "Number of comparisons generated by 'l.zipcode = r.zipcode': 3,610\n"
     ]
    }
   ],
   "source": [
    "# training_blocking_rules = [\n",
    "#     \"l.first_name = r.first_name and l.last_name = r.last_name and l.zipcode = r.zipcode\",\n",
    "#     \"l.first_name = r.first_name and l.date_of_birth = r.date_of_birth and l.zipcode = r.zipcode\",\n",
    "#     \"l.last_name = r.last_name and l.date_of_birth = r.date_of_birth and l.zipcode = r.zipcode\",\n",
    "#     \"l.last_name = r.last_name and l.date_of_birth = r.date_of_birth and l.first_name = r.first_name\"\n",
    "# ]\n",
    "\n",
    "training_blocking_rules = [\n",
    "    \"l.first_name = r.first_name\",\n",
    "    \"l.zipcode = r.zipcode\",\n",
    "]\n",
    "\n",
    "for rule in training_blocking_rules:\n",
    "    count = linker.count_num_comparisons_from_blocking_rule(rule)\n",
    "    print(f\"Number of comparisons generated by '{rule}': {count:,.0f}\")\n",
    "\n",
    "# linker.cumulative_num_comparisons_from_blocking_rules_chart(training_blocking_rules)"
   ]
  },
  {
   "cell_type": "code",
   "execution_count": 20,
   "id": "2cd82761",
   "metadata": {},
   "outputs": [
    {
     "name": "stderr",
     "output_type": "stream",
     "text": [
      "\n",
      "----- Starting EM training session -----\n",
      "\n",
      "Estimating the m probabilities of the model by blocking on:\n",
      "l.first_name = r.first_name\n",
      "\n",
      "Parameter estimates will be made for the following comparison(s):\n",
      "    - last_name\n",
      "    - date_of_birth\n",
      "    - sex\n",
      "    - zipcode\n",
      "\n",
      "Parameter estimates cannot be made for the following comparison(s) since they are used in the blocking rules: \n",
      "    - first_name\n",
      "\n",
      "Iteration 1: Largest change in params was 0.19 in the m_probability of last_name, level `All other comparisons`\n",
      "Iteration 2: Largest change in params was 0.593 in probability_two_random_records_match\n",
      "Iteration 3: Largest change in params was 0.151 in probability_two_random_records_match\n",
      "Iteration 4: Largest change in params was 0.00475 in probability_two_random_records_match\n",
      "Iteration 5: Largest change in params was 0.00485 in the m_probability of sex, level `All other comparisons`\n",
      "Iteration 6: Largest change in params was 0.00417 in probability_two_random_records_match\n",
      "Iteration 7: Largest change in params was 0.00317 in probability_two_random_records_match\n",
      "Iteration 8: Largest change in params was 0.00221 in probability_two_random_records_match\n",
      "Iteration 9: Largest change in params was 0.00145 in probability_two_random_records_match\n",
      "Iteration 10: Largest change in params was 0.000918 in probability_two_random_records_match\n",
      "Iteration 11: Largest change in params was 0.000567 in probability_two_random_records_match\n",
      "Iteration 12: Largest change in params was 0.000344 in probability_two_random_records_match\n",
      "Iteration 13: Largest change in params was 0.000207 in probability_two_random_records_match\n",
      "Iteration 14: Largest change in params was 0.000124 in probability_two_random_records_match\n",
      "Iteration 15: Largest change in params was 7.42e-05 in probability_two_random_records_match\n",
      "\n",
      "EM converged after 15 iterations\n",
      "\n",
      "Your model is not yet fully trained. Missing estimates for:\n",
      "    - first_name (no u values are trained, no m values are trained).\n",
      "    - last_name (no u values are trained).\n",
      "    - date_of_birth (no u values are trained).\n",
      "    - sex (no u values are trained).\n",
      "    - zipcode (no u values are trained).\n",
      "\n",
      "----- Starting EM training session -----\n",
      "\n",
      "Estimating the m probabilities of the model by blocking on:\n",
      "l.zipcode = r.zipcode\n",
      "\n",
      "Parameter estimates will be made for the following comparison(s):\n",
      "    - first_name\n",
      "    - last_name\n",
      "    - date_of_birth\n",
      "    - sex\n",
      "\n",
      "Parameter estimates cannot be made for the following comparison(s) since they are used in the blocking rules: \n",
      "    - zipcode\n",
      "\n",
      "Iteration 1: Largest change in params was 0.655 in the m_probability of first_name, level `All other comparisons`\n",
      "Iteration 2: Largest change in params was 0.0745 in probability_two_random_records_match\n",
      "Iteration 3: Largest change in params was 0.0067 in the m_probability of sex, level `All other comparisons`\n",
      "Iteration 4: Largest change in params was -0.00718 in the m_probability of sex, level `Exact match`\n",
      "Iteration 5: Largest change in params was -0.00768 in the m_probability of sex, level `Exact match`\n",
      "Iteration 6: Largest change in params was 0.00825 in the m_probability of sex, level `All other comparisons`\n",
      "Iteration 7: Largest change in params was -0.00894 in the m_probability of sex, level `Exact match`\n",
      "Iteration 8: Largest change in params was 0.00977 in the m_probability of sex, level `All other comparisons`\n",
      "Iteration 9: Largest change in params was -0.0108 in the m_probability of sex, level `Exact match`\n",
      "Iteration 10: Largest change in params was -0.012 in the m_probability of sex, level `Exact match`\n",
      "Iteration 11: Largest change in params was -0.0134 in the m_probability of sex, level `Exact match`\n",
      "Iteration 12: Largest change in params was 0.0151 in the m_probability of sex, level `All other comparisons`\n",
      "Iteration 13: Largest change in params was -0.0172 in the m_probability of sex, level `Exact match`\n",
      "Iteration 14: Largest change in params was 0.0196 in the m_probability of sex, level `All other comparisons`\n",
      "Iteration 15: Largest change in params was 0.0222 in the m_probability of sex, level `All other comparisons`\n",
      "Iteration 16: Largest change in params was -0.0252 in the m_probability of sex, level `Exact match`\n",
      "Iteration 17: Largest change in params was -0.028 in the m_probability of sex, level `Exact match`\n",
      "Iteration 18: Largest change in params was -0.0305 in the m_probability of sex, level `Exact match`\n",
      "Iteration 19: Largest change in params was 0.0335 in probability_two_random_records_match\n",
      "Iteration 20: Largest change in params was 0.0362 in probability_two_random_records_match\n",
      "Iteration 21: Largest change in params was 0.0366 in probability_two_random_records_match\n",
      "Iteration 22: Largest change in params was 0.0342 in probability_two_random_records_match\n",
      "Iteration 23: Largest change in params was 0.0293 in probability_two_random_records_match\n",
      "Iteration 24: Largest change in params was 0.0231 in probability_two_random_records_match\n",
      "Iteration 25: Largest change in params was 0.0171 in probability_two_random_records_match\n",
      "\n",
      "EM converged after 25 iterations\n",
      "\n",
      "Your model is not yet fully trained. Missing estimates for:\n",
      "    - first_name (no u values are trained).\n",
      "    - last_name (no u values are trained).\n",
      "    - date_of_birth (no u values are trained).\n",
      "    - sex (no u values are trained).\n",
      "    - zipcode (no u values are trained).\n"
     ]
    },
    {
     "name": "stdout",
     "output_type": "stream",
     "text": [
      "CPU times: user 1.8 s, sys: 62.5 ms, total: 1.86 s\n",
      "Wall time: 1.72 s\n"
     ]
    }
   ],
   "source": [
    "%%time\n",
    "training_sessions = {}\n",
    "for rule in training_blocking_rules:\n",
    "    training_sessions[rule] = linker.estimate_parameters_using_expectation_maximisation(rule)\n",
    "    "
   ]
  },
  {
   "cell_type": "code",
   "execution_count": 21,
   "id": "9e092260",
   "metadata": {},
   "outputs": [
    {
     "data": {
      "text/html": [
       "\n",
       "<div id=\"altair-viz-fc8eecd065224e94ad609a5af162f356\"></div>\n",
       "<script type=\"text/javascript\">\n",
       "  var VEGA_DEBUG = (typeof VEGA_DEBUG == \"undefined\") ? {} : VEGA_DEBUG;\n",
       "  (function(spec, embedOpt){\n",
       "    let outputDiv = document.currentScript.previousElementSibling;\n",
       "    if (outputDiv.id !== \"altair-viz-fc8eecd065224e94ad609a5af162f356\") {\n",
       "      outputDiv = document.getElementById(\"altair-viz-fc8eecd065224e94ad609a5af162f356\");\n",
       "    }\n",
       "    const paths = {\n",
       "      \"vega\": \"https://cdn.jsdelivr.net/npm//vega@5?noext\",\n",
       "      \"vega-lib\": \"https://cdn.jsdelivr.net/npm//vega-lib?noext\",\n",
       "      \"vega-lite\": \"https://cdn.jsdelivr.net/npm//vega-lite@4.17.0?noext\",\n",
       "      \"vega-embed\": \"https://cdn.jsdelivr.net/npm//vega-embed@6?noext\",\n",
       "    };\n",
       "\n",
       "    function maybeLoadScript(lib, version) {\n",
       "      var key = `${lib.replace(\"-\", \"\")}_version`;\n",
       "      return (VEGA_DEBUG[key] == version) ?\n",
       "        Promise.resolve(paths[lib]) :\n",
       "        new Promise(function(resolve, reject) {\n",
       "          var s = document.createElement('script');\n",
       "          document.getElementsByTagName(\"head\")[0].appendChild(s);\n",
       "          s.async = true;\n",
       "          s.onload = () => {\n",
       "            VEGA_DEBUG[key] = version;\n",
       "            return resolve(paths[lib]);\n",
       "          };\n",
       "          s.onerror = () => reject(`Error loading script: ${paths[lib]}`);\n",
       "          s.src = paths[lib];\n",
       "        });\n",
       "    }\n",
       "\n",
       "    function showError(err) {\n",
       "      outputDiv.innerHTML = `<div class=\"error\" style=\"color:red;\">${err}</div>`;\n",
       "      throw err;\n",
       "    }\n",
       "\n",
       "    function displayChart(vegaEmbed) {\n",
       "      vegaEmbed(outputDiv, spec, embedOpt)\n",
       "        .catch(err => showError(`Javascript Error: ${err.message}<br>This usually means there's a typo in your chart specification. See the javascript console for the full traceback.`));\n",
       "    }\n",
       "\n",
       "    if(typeof define === \"function\" && define.amd) {\n",
       "      requirejs.config({paths});\n",
       "      require([\"vega-embed\"], displayChart, err => showError(`Error loading script: ${err.message}`));\n",
       "    } else {\n",
       "      maybeLoadScript(\"vega\", \"5\")\n",
       "        .then(() => maybeLoadScript(\"vega-lite\", \"4.17.0\"))\n",
       "        .then(() => maybeLoadScript(\"vega-embed\", \"6\"))\n",
       "        .catch(showError)\n",
       "        .then(() => displayChart(vegaEmbed));\n",
       "    }\n",
       "  })({\"config\": {\"view\": {\"width\": 400, \"height\": 300}, \"title\": {\"anchor\": \"middle\", \"offset\": 10}, \"header\": {\"title\": null}}, \"hconcat\": [{\"mark\": \"bar\", \"title\": {\"text\": \"Amongst matching record comparisons:\", \"fontWeight\": \"bold\", \"fontSize\": 12}, \"encoding\": {\"row\": {\"type\": \"nominal\", \"field\": \"comparison_name\", \"sort\": {\"field\": \"comparison_sort_order\"}, \"header\": {\"labelAngle\": 0, \"labelAnchor\": \"middle\", \"labelAlign\": \"left\"}}, \"x\": {\"type\": \"quantitative\", \"field\": \"m_probability\", \"axis\": {\"title\": \"Proportion of record comparisons\"}}, \"y\": {\"type\": \"nominal\", \"axis\": {\"title\": null}, \"field\": \"label_for_charts\", \"sort\": {\"field\": \"comparison_vector_value\", \"order\": \"descending\"}}, \"tooltip\": [{\"type\": \"nominal\", \"field\": \"m_probability_description\", \"title\": \"m probability description\"}, {\"type\": \"nominal\", \"field\": \"comparison_name\", \"title\": \"Comparison column name\"}, {\"type\": \"ordinal\", \"field\": \"label_for_charts\", \"title\": \"Label\"}, {\"type\": \"nominal\", \"field\": \"sql_condition\", \"title\": \"SQL condition\"}, {\"type\": \"quantitative\", \"field\": \"m_probability\", \"format\": \".4p\", \"title\": \"m probability\"}, {\"type\": \"quantitative\", \"field\": \"u_probability\", \"format\": \".4p\", \"title\": \"u probability\"}, {\"type\": \"quantitative\", \"field\": \"bayes_factor\", \"title\": \"Bayes factor = m/u\", \"format\": \",.4f\"}, {\"type\": \"quantitative\", \"field\": \"log2_bayes_factor\", \"title\": \"Match weight = log2(m/u)\", \"format\": \",.4f\"}], \"color\": {\"value\": \"green\"}}, \"resolve\": {\"scale\": {\"y\": \"independent\"}}, \"transform\": [{\"filter\": \"(datum.bayes_factor != 'no-op filter due to vega lite issue 4680')\"}], \"width\": 150, \"height\": 50}, {\"mark\": \"bar\", \"title\": {\"text\": \"Amongst non-matching record comparisons:\", \"fontWeight\": \"bold\", \"fontSize\": 12}, \"encoding\": {\"row\": {\"type\": \"nominal\", \"field\": \"comparison_name\", \"sort\": {\"field\": \"comparison_sort_order\"}, \"header\": {\"labels\": false}}, \"x\": {\"type\": \"quantitative\", \"field\": \"u_probability\", \"axis\": {\"title\": \"Proportion of record comparisons\"}}, \"y\": {\"type\": \"nominal\", \"axis\": {\"title\": null}, \"field\": \"label_for_charts\", \"sort\": {\"field\": \"comparison_vector_value\", \"order\": \"descending\"}}, \"tooltip\": [{\"type\": \"nominal\", \"field\": \"u_probability_description\", \"title\": \"u probability description\"}, {\"type\": \"nominal\", \"field\": \"comparison_name\", \"title\": \"Comparison column name\"}, {\"type\": \"ordinal\", \"field\": \"label_for_charts\", \"title\": \"Label\"}, {\"type\": \"nominal\", \"field\": \"sql_condition\", \"title\": \"SQL condition\"}, {\"type\": \"quantitative\", \"field\": \"m_probability\", \"format\": \".4p\", \"title\": \"m probability\"}, {\"type\": \"quantitative\", \"field\": \"u_probability\", \"format\": \".4p\", \"title\": \"u probability\"}, {\"type\": \"quantitative\", \"field\": \"bayes_factor\", \"title\": \"Bayes factor = m/u\", \"format\": \",.4f\"}, {\"type\": \"quantitative\", \"field\": \"log2_bayes_factor\", \"title\": \"Match weight = log2(m/u)\", \"format\": \",.4f\"}], \"color\": {\"value\": \"red\"}}, \"resolve\": {\"scale\": {\"y\": \"independent\"}}, \"transform\": [{\"filter\": \"(datum.bayes_factor != 'no-op filter2 due to vega lite issue 4680')\"}], \"width\": 150, \"height\": 50}], \"data\": {\"values\": [{\"comparison_name\": \"first_name\", \"sql_condition\": \"\\\"first_name_l\\\" = \\\"first_name_r\\\"\", \"label_for_charts\": \"Exact match\", \"m_probability\": 0.15970686294115047, \"u_probability\": 0.000927734375, \"m_probability_description\": \"Amongst matching record comparisons, 15.97% of records are in the exact match comparison level\", \"u_probability_description\": \"Amongst non-matching record comparisons, 0.09% of records are in the exact match comparison level\", \"has_tf_adjustments\": false, \"tf_adjustment_column\": null, \"tf_adjustment_weight\": 1.0, \"is_null_level\": false, \"bayes_factor\": 172.14718700182956, \"log2_bayes_factor\": 7.427498796290059, \"comparison_vector_value\": 3, \"max_comparison_vector_value\": 3, \"bayes_factor_description\": \"If comparison level is `exact match` then comparison is 172.15 times more likely to be a match\", \"probability_two_random_records_match\": 0.00044583147570218456, \"comparison_sort_order\": 0}, {\"comparison_name\": \"first_name\", \"sql_condition\": \"levenshtein(\\\"first_name_l\\\", \\\"first_name_r\\\") <= 1\", \"label_for_charts\": \"levenshtein <= 1\", \"m_probability\": 0.004261242081586288, \"u_probability\": 0.002083333333333335, \"m_probability_description\": \"Amongst matching record comparisons, 0.43% of records are in the levenshtein <= 1 comparison level\", \"u_probability_description\": \"Amongst non-matching record comparisons, 0.21% of records are in the levenshtein <= 1 comparison level\", \"has_tf_adjustments\": false, \"tf_adjustment_column\": null, \"tf_adjustment_weight\": 1.0, \"is_null_level\": false, \"bayes_factor\": 2.0453961991614165, \"log2_bayes_factor\": 1.0323803244394176, \"comparison_vector_value\": 2, \"max_comparison_vector_value\": 3, \"bayes_factor_description\": \"If comparison level is `levenshtein <= 1` then comparison is 2.05 times more likely to be a match\", \"probability_two_random_records_match\": 0.00044583147570218456, \"comparison_sort_order\": 0}, {\"comparison_name\": \"first_name\", \"sql_condition\": \"levenshtein(\\\"first_name_l\\\", \\\"first_name_r\\\") <= 2\", \"label_for_charts\": \"levenshtein <= 2\", \"m_probability\": 0.006151014782412694, \"u_probability\": 0.03333333333333336, \"m_probability_description\": \"Amongst matching record comparisons, 0.62% of records are in the levenshtein <= 2 comparison level\", \"u_probability_description\": \"Amongst non-matching record comparisons, 3.33% of records are in the levenshtein <= 2 comparison level\", \"has_tf_adjustments\": false, \"tf_adjustment_column\": null, \"tf_adjustment_weight\": 1.0, \"is_null_level\": false, \"bayes_factor\": 0.18453044347238068, \"log2_bayes_factor\": -2.4380692459542086, \"comparison_vector_value\": 1, \"max_comparison_vector_value\": 3, \"bayes_factor_description\": \"If comparison level is `levenshtein <= 2` then comparison is  5.42 times less likely to be a match\", \"probability_two_random_records_match\": 0.00044583147570218456, \"comparison_sort_order\": 0}, {\"comparison_name\": \"first_name\", \"sql_condition\": \"ELSE\", \"label_for_charts\": \"All other comparisons\", \"m_probability\": 0.8298808801948505, \"u_probability\": 0.5333333333333338, \"m_probability_description\": \"Amongst matching record comparisons, 82.99% of records are in the all other comparisons comparison level\", \"u_probability_description\": \"Amongst non-matching record comparisons, 53.33% of records are in the all other comparisons comparison level\", \"has_tf_adjustments\": false, \"tf_adjustment_column\": null, \"tf_adjustment_weight\": 1.0, \"is_null_level\": false, \"bayes_factor\": 1.5560266503653435, \"log2_bayes_factor\": 0.6378667698489513, \"comparison_vector_value\": 0, \"max_comparison_vector_value\": 3, \"bayes_factor_description\": \"If comparison level is `all other comparisons` then comparison is 1.56 times more likely to be a match\", \"probability_two_random_records_match\": 0.00044583147570218456, \"comparison_sort_order\": 0}, {\"comparison_name\": \"last_name\", \"sql_condition\": \"\\\"last_name_l\\\" = \\\"last_name_r\\\"\", \"label_for_charts\": \"Exact match\", \"m_probability\": 0.17188157203276686, \"u_probability\": 0.000927734375, \"m_probability_description\": \"Amongst matching record comparisons, 17.19% of records are in the exact match comparison level\", \"u_probability_description\": \"Amongst non-matching record comparisons, 0.09% of records are in the exact match comparison level\", \"has_tf_adjustments\": false, \"tf_adjustment_column\": null, \"tf_adjustment_weight\": 1.0, \"is_null_level\": false, \"bayes_factor\": 185.2702418542666, \"log2_bayes_factor\": 7.533487363762899, \"comparison_vector_value\": 3, \"max_comparison_vector_value\": 3, \"bayes_factor_description\": \"If comparison level is `exact match` then comparison is 185.27 times more likely to be a match\", \"probability_two_random_records_match\": 0.00044583147570218456, \"comparison_sort_order\": 1}, {\"comparison_name\": \"last_name\", \"sql_condition\": \"levenshtein(\\\"last_name_l\\\", \\\"last_name_r\\\") <= 1\", \"label_for_charts\": \"levenshtein <= 1\", \"m_probability\": 0.0006249513422088907, \"u_probability\": 0.002083333333333335, \"m_probability_description\": \"Amongst matching record comparisons, 0.06% of records are in the levenshtein <= 1 comparison level\", \"u_probability_description\": \"Amongst non-matching record comparisons, 0.21% of records are in the levenshtein <= 1 comparison level\", \"has_tf_adjustments\": false, \"tf_adjustment_column\": null, \"tf_adjustment_weight\": 1.0, \"is_null_level\": false, \"bayes_factor\": 0.29997664426026727, \"log2_bayes_factor\": -1.7370779159048209, \"comparison_vector_value\": 2, \"max_comparison_vector_value\": 3, \"bayes_factor_description\": \"If comparison level is `levenshtein <= 1` then comparison is  3.33 times less likely to be a match\", \"probability_two_random_records_match\": 0.00044583147570218456, \"comparison_sort_order\": 1}, {\"comparison_name\": \"last_name\", \"sql_condition\": \"levenshtein(\\\"last_name_l\\\", \\\"last_name_r\\\") <= 2\", \"label_for_charts\": \"levenshtein <= 2\", \"m_probability\": 0.0019234562774868218, \"u_probability\": 0.03333333333333336, \"m_probability_description\": \"Amongst matching record comparisons, 0.19% of records are in the levenshtein <= 2 comparison level\", \"u_probability_description\": \"Amongst non-matching record comparisons, 3.33% of records are in the levenshtein <= 2 comparison level\", \"has_tf_adjustments\": false, \"tf_adjustment_column\": null, \"tf_adjustment_weight\": 1.0, \"is_null_level\": false, \"bayes_factor\": 0.0577036883246046, \"log2_bayes_factor\": -4.1151926532687195, \"comparison_vector_value\": 1, \"max_comparison_vector_value\": 3, \"bayes_factor_description\": \"If comparison level is `levenshtein <= 2` then comparison is  17.33 times less likely to be a match\", \"probability_two_random_records_match\": 0.00044583147570218456, \"comparison_sort_order\": 1}, {\"comparison_name\": \"last_name\", \"sql_condition\": \"ELSE\", \"label_for_charts\": \"All other comparisons\", \"m_probability\": 0.8255700203475375, \"u_probability\": 0.5333333333333338, \"m_probability_description\": \"Amongst matching record comparisons, 82.56% of records are in the all other comparisons comparison level\", \"u_probability_description\": \"Amongst non-matching record comparisons, 53.33% of records are in the all other comparisons comparison level\", \"has_tf_adjustments\": false, \"tf_adjustment_column\": null, \"tf_adjustment_weight\": 1.0, \"is_null_level\": false, \"bayes_factor\": 1.5479437881516314, \"log2_bayes_factor\": 0.6303530825757805, \"comparison_vector_value\": 0, \"max_comparison_vector_value\": 3, \"bayes_factor_description\": \"If comparison level is `all other comparisons` then comparison is 1.55 times more likely to be a match\", \"probability_two_random_records_match\": 0.00044583147570218456, \"comparison_sort_order\": 1}, {\"comparison_name\": \"date_of_birth\", \"sql_condition\": \"\\\"date_of_birth_l\\\" = \\\"date_of_birth_r\\\"\", \"label_for_charts\": \"Exact match\", \"m_probability\": 0.17096913312505368, \"u_probability\": 0.000927734375, \"m_probability_description\": \"Amongst matching record comparisons, 17.10% of records are in the exact match comparison level\", \"u_probability_description\": \"Amongst non-matching record comparisons, 0.09% of records are in the exact match comparison level\", \"has_tf_adjustments\": false, \"tf_adjustment_column\": null, \"tf_adjustment_weight\": 1.0, \"is_null_level\": false, \"bayes_factor\": 184.2867287579526, \"log2_bayes_factor\": 7.525808370105937, \"comparison_vector_value\": 2, \"max_comparison_vector_value\": 2, \"bayes_factor_description\": \"If comparison level is `exact match` then comparison is 184.29 times more likely to be a match\", \"probability_two_random_records_match\": 0.00044583147570218456, \"comparison_sort_order\": 2}, {\"comparison_name\": \"date_of_birth\", \"sql_condition\": \"levenshtein(\\\"date_of_birth_l\\\", \\\"date_of_birth_r\\\") <= 1\", \"label_for_charts\": \"levenshtein <= 1\", \"m_probability\": 0.011144540807299248, \"u_probability\": 0.0031250000000000028, \"m_probability_description\": \"Amongst matching record comparisons, 1.11% of records are in the levenshtein <= 1 comparison level\", \"u_probability_description\": \"Amongst non-matching record comparisons, 0.31% of records are in the levenshtein <= 1 comparison level\", \"has_tf_adjustments\": false, \"tf_adjustment_column\": null, \"tf_adjustment_weight\": 1.0, \"is_null_level\": false, \"bayes_factor\": 3.5662530583357563, \"log2_bayes_factor\": 1.8344090790292695, \"comparison_vector_value\": 1, \"max_comparison_vector_value\": 2, \"bayes_factor_description\": \"If comparison level is `levenshtein <= 1` then comparison is 3.57 times more likely to be a match\", \"probability_two_random_records_match\": 0.00044583147570218456, \"comparison_sort_order\": 2}, {\"comparison_name\": \"date_of_birth\", \"sql_condition\": \"ELSE\", \"label_for_charts\": \"All other comparisons\", \"m_probability\": 0.8178863260676471, \"u_probability\": 0.8000000000000007, \"m_probability_description\": \"Amongst matching record comparisons, 81.79% of records are in the all other comparisons comparison level\", \"u_probability_description\": \"Amongst non-matching record comparisons, 80.00% of records are in the all other comparisons comparison level\", \"has_tf_adjustments\": false, \"tf_adjustment_column\": null, \"tf_adjustment_weight\": 1.0, \"is_null_level\": false, \"bayes_factor\": 1.022357907584558, \"log2_bayes_factor\": 0.03190034412728564, \"comparison_vector_value\": 0, \"max_comparison_vector_value\": 2, \"bayes_factor_description\": \"If comparison level is `all other comparisons` then comparison is 1.02 times more likely to be a match\", \"probability_two_random_records_match\": 0.00044583147570218456, \"comparison_sort_order\": 2}, {\"comparison_name\": \"sex\", \"sql_condition\": \"\\\"sex_l\\\" = \\\"sex_r\\\"\", \"label_for_charts\": \"Exact match\", \"m_probability\": 0.7789226105033836, \"u_probability\": 0.000927734375, \"m_probability_description\": \"Amongst matching record comparisons, 77.89% of records are in the exact match comparison level\", \"u_probability_description\": \"Amongst non-matching record comparisons, 0.09% of records are in the exact match comparison level\", \"has_tf_adjustments\": false, \"tf_adjustment_column\": null, \"tf_adjustment_weight\": 1.0, \"is_null_level\": false, \"bayes_factor\": 839.5965822689104, \"log2_bayes_factor\": 9.713552483663332, \"comparison_vector_value\": 1, \"max_comparison_vector_value\": 1, \"bayes_factor_description\": \"If comparison level is `exact match` then comparison is 839.60 times more likely to be a match\", \"probability_two_random_records_match\": 0.00044583147570218456, \"comparison_sort_order\": 3}, {\"comparison_name\": \"sex\", \"sql_condition\": \"ELSE\", \"label_for_charts\": \"All other comparisons\", \"m_probability\": 0.22107738949661637, \"u_probability\": 1.6000000000000014, \"m_probability_description\": \"Amongst matching record comparisons, 22.11% of records are in the all other comparisons comparison level\", \"u_probability_description\": \"Amongst non-matching record comparisons, 160.00% of records are in the all other comparisons comparison level\", \"has_tf_adjustments\": false, \"tf_adjustment_column\": null, \"tf_adjustment_weight\": 1.0, \"is_null_level\": false, \"bayes_factor\": 0.1381733684353851, \"log2_bayes_factor\": -2.8554485177185054, \"comparison_vector_value\": 0, \"max_comparison_vector_value\": 1, \"bayes_factor_description\": \"If comparison level is `all other comparisons` then comparison is  7.24 times less likely to be a match\", \"probability_two_random_records_match\": 0.00044583147570218456, \"comparison_sort_order\": 3}, {\"comparison_name\": \"zipcode\", \"sql_condition\": \"\\\"zipcode_l\\\" = \\\"zipcode_r\\\"\", \"label_for_charts\": \"Exact match\", \"m_probability\": 0.18714113265476798, \"u_probability\": 0.000927734375, \"m_probability_description\": \"Amongst matching record comparisons, 18.71% of records are in the exact match comparison level\", \"u_probability_description\": \"Amongst non-matching record comparisons, 0.09% of records are in the exact match comparison level\", \"has_tf_adjustments\": false, \"tf_adjustment_column\": null, \"tf_adjustment_weight\": 1.0, \"is_null_level\": false, \"bayes_factor\": 201.71844193524464, \"log2_bayes_factor\": 7.65619917690986, \"comparison_vector_value\": 3, \"max_comparison_vector_value\": 3, \"bayes_factor_description\": \"If comparison level is `exact match` then comparison is 201.72 times more likely to be a match\", \"probability_two_random_records_match\": 0.00044583147570218456, \"comparison_sort_order\": 4}, {\"comparison_name\": \"zipcode\", \"sql_condition\": \"levenshtein(\\\"zipcode_l\\\", \\\"zipcode_r\\\") <= 1\", \"label_for_charts\": \"levenshtein <= 1\", \"m_probability\": 0.012812097489479653, \"u_probability\": 0.002083333333333335, \"m_probability_description\": \"Amongst matching record comparisons, 1.28% of records are in the levenshtein <= 1 comparison level\", \"u_probability_description\": \"Amongst non-matching record comparisons, 0.21% of records are in the levenshtein <= 1 comparison level\", \"has_tf_adjustments\": false, \"tf_adjustment_column\": null, \"tf_adjustment_weight\": 1.0, \"is_null_level\": false, \"bayes_factor\": 6.149806794950228, \"log2_bayes_factor\": 2.6205410868184495, \"comparison_vector_value\": 2, \"max_comparison_vector_value\": 3, \"bayes_factor_description\": \"If comparison level is `levenshtein <= 1` then comparison is 6.15 times more likely to be a match\", \"probability_two_random_records_match\": 0.00044583147570218456, \"comparison_sort_order\": 4}, {\"comparison_name\": \"zipcode\", \"sql_condition\": \"levenshtein(\\\"zipcode_l\\\", \\\"zipcode_r\\\") <= 2\", \"label_for_charts\": \"levenshtein <= 2\", \"m_probability\": 0.11126306184470591, \"u_probability\": 0.03333333333333336, \"m_probability_description\": \"Amongst matching record comparisons, 11.13% of records are in the levenshtein <= 2 comparison level\", \"u_probability_description\": \"Amongst non-matching record comparisons, 3.33% of records are in the levenshtein <= 2 comparison level\", \"has_tf_adjustments\": false, \"tf_adjustment_column\": null, \"tf_adjustment_weight\": 1.0, \"is_null_level\": false, \"bayes_factor\": 3.3378918553411747, \"log2_bayes_factor\": 1.7389372134511385, \"comparison_vector_value\": 1, \"max_comparison_vector_value\": 3, \"bayes_factor_description\": \"If comparison level is `levenshtein <= 2` then comparison is 3.34 times more likely to be a match\", \"probability_two_random_records_match\": 0.00044583147570218456, \"comparison_sort_order\": 4}, {\"comparison_name\": \"zipcode\", \"sql_condition\": \"ELSE\", \"label_for_charts\": \"All other comparisons\", \"m_probability\": 0.6887837080110465, \"u_probability\": 0.5333333333333338, \"m_probability_description\": \"Amongst matching record comparisons, 68.88% of records are in the all other comparisons comparison level\", \"u_probability_description\": \"Amongst non-matching record comparisons, 53.33% of records are in the all other comparisons comparison level\", \"has_tf_adjustments\": false, \"tf_adjustment_column\": null, \"tf_adjustment_weight\": 1.0, \"is_null_level\": false, \"bayes_factor\": 1.291469452520711, \"log2_bayes_factor\": 0.3690135194000976, \"comparison_vector_value\": 0, \"max_comparison_vector_value\": 3, \"bayes_factor_description\": \"If comparison level is `all other comparisons` then comparison is 1.29 times more likely to be a match\", \"probability_two_random_records_match\": 0.00044583147570218456, \"comparison_sort_order\": 4}]}, \"title\": {\"text\": \"Proportion of record comparisons in each comparison level by match status\", \"subtitle\": \"(m and u probabilities)\"}, \"$schema\": \"https://vega.github.io/schema/vega-lite/v4.json\"}, {\"mode\": \"vega-lite\"});\n",
       "</script>"
      ],
      "text/plain": [
       "<splink.charts.VegaliteNoValidate at 0x7efc592239a0>"
      ]
     },
     "execution_count": 21,
     "metadata": {},
     "output_type": "execute_result"
    }
   ],
   "source": [
    "linker.m_u_parameters_chart()"
   ]
  },
  {
   "cell_type": "code",
   "execution_count": 22,
   "id": "11b69120",
   "metadata": {},
   "outputs": [],
   "source": [
    "# \"comparisons\": [\n",
    "#         levenshtein(\"first_name\", 2, term_frequency_adjustments=True),\n",
    "#         levenshtein(\"last_name\", 2, term_frequency_adjustments=True),\n",
    "#         levenshtein(\"dob\", 2, term_frequency_adjustments=True),\n",
    "#         exact_match(\"sex\"),\n",
    "#         levenshtein(\"zip\", 2, term_frequency_adjustments=True),\n",
    "#         exact_match(\"ssn\"),\n",
    "#     ],"
   ]
  },
  {
   "cell_type": "code",
   "execution_count": 23,
   "id": "6b3f6889",
   "metadata": {},
   "outputs": [
    {
     "data": {
      "text/plain": [
       "{'link_type': 'link_only',\n",
       " 'sql_dialect': 'duckdb',\n",
       " 'comparisons': [<Comparison Exact match vs. levenshtein at thresholds 1, 2 vs. anything else with 4 levels at 0x7efc5aa825e0>,\n",
       "  <Comparison Exact match vs. levenshtein at thresholds 1, 2 vs. anything else with 4 levels at 0x7efc5aa657c0>,\n",
       "  <Comparison Exact match vs. levenshtein at threshold 1 vs. anything else with 3 levels at 0x7efc5aaa2340>,\n",
       "  <Comparison Exact match vs. anything else with 2 levels at 0x7efc5aaa2a30>,\n",
       "  <Comparison Exact match vs. levenshtein at thresholds 1, 2 vs. anything else with 4 levels at 0x7efc5aaa2280>],\n",
       " 'probability_two_random_records_match': 0.00044583147570218456}"
      ]
     },
     "execution_count": 23,
     "metadata": {},
     "output_type": "execute_result"
    }
   ],
   "source": [
    "linker._settings_dict"
   ]
  },
  {
   "cell_type": "code",
   "execution_count": 24,
   "id": "8b11e7d8",
   "metadata": {},
   "outputs": [
    {
     "data": {
      "text/plain": [
       "0.00044583147570218456"
      ]
     },
     "execution_count": 24,
     "metadata": {},
     "output_type": "execute_result"
    }
   ],
   "source": [
    "1/len(df_census_u5)"
   ]
  },
  {
   "cell_type": "code",
   "execution_count": 25,
   "id": "2724332b",
   "metadata": {},
   "outputs": [
    {
     "name": "stdout",
     "output_type": "stream",
     "text": [
      "SUMMARY OF LINKING MODEL\n",
      "------------------------\n",
      "The similarity of pairwise record comparison in your model will be assessed as follows:\n",
      "\n",
      "Comparison of \"first_name\"\n",
      "Description: 'Exact match vs. levenshtein at thresholds 1, 2 vs. anything else'\n",
      "Comparison levels:\n",
      "    - 'Null' with SQL rule: \"first_name_l\" IS NULL OR \"first_name_r\" IS NULL\n",
      "    - 'Exact match' with SQL rule: \"first_name_l\" = \"first_name_r\"\n",
      "    - 'levenshtein <= 1' with SQL rule: levenshtein(\"first_name_l\", \"first_name_r\") <= 1\n",
      "    - 'levenshtein <= 2' with SQL rule: levenshtein(\"first_name_l\", \"first_name_r\") <= 2\n",
      "    - 'All other comparisons' with SQL rule: ELSE\n",
      "\n",
      "Comparison of \"last_name\"\n",
      "Description: 'Exact match vs. levenshtein at thresholds 1, 2 vs. anything else'\n",
      "Comparison levels:\n",
      "    - 'Null' with SQL rule: \"last_name_l\" IS NULL OR \"last_name_r\" IS NULL\n",
      "    - 'Exact match' with SQL rule: \"last_name_l\" = \"last_name_r\"\n",
      "    - 'levenshtein <= 1' with SQL rule: levenshtein(\"last_name_l\", \"last_name_r\") <= 1\n",
      "    - 'levenshtein <= 2' with SQL rule: levenshtein(\"last_name_l\", \"last_name_r\") <= 2\n",
      "    - 'All other comparisons' with SQL rule: ELSE\n",
      "\n",
      "Comparison of \"date_of_birth\"\n",
      "Description: 'Exact match vs. levenshtein at threshold 1 vs. anything else'\n",
      "Comparison levels:\n",
      "    - 'Null' with SQL rule: \"date_of_birth_l\" IS NULL OR \"date_of_birth_r\" IS NULL\n",
      "    - 'Exact match' with SQL rule: \"date_of_birth_l\" = \"date_of_birth_r\"\n",
      "    - 'levenshtein <= 1' with SQL rule: levenshtein(\"date_of_birth_l\", \"date_of_birth_r\") <= 1\n",
      "    - 'All other comparisons' with SQL rule: ELSE\n",
      "\n",
      "Comparison of \"sex\"\n",
      "Description: 'Exact match vs. anything else'\n",
      "Comparison levels:\n",
      "    - 'Null' with SQL rule: \"sex_l\" IS NULL OR \"sex_r\" IS NULL\n",
      "    - 'Exact match' with SQL rule: \"sex_l\" = \"sex_r\"\n",
      "    - 'All other comparisons' with SQL rule: ELSE\n",
      "\n",
      "Comparison of \"zipcode\"\n",
      "Description: 'Exact match vs. levenshtein at thresholds 1, 2 vs. anything else'\n",
      "Comparison levels:\n",
      "    - 'Null' with SQL rule: \"zipcode_l\" IS NULL OR \"zipcode_r\" IS NULL\n",
      "    - 'Exact match' with SQL rule: \"zipcode_l\" = \"zipcode_r\"\n",
      "    - 'levenshtein <= 1' with SQL rule: levenshtein(\"zipcode_l\", \"zipcode_r\") <= 1\n",
      "    - 'levenshtein <= 2' with SQL rule: levenshtein(\"zipcode_l\", \"zipcode_r\") <= 2\n",
      "    - 'All other comparisons' with SQL rule: ELSE\n",
      "\n"
     ]
    }
   ],
   "source": [
    "print(linker._settings_obj.human_readable_description)"
   ]
  },
  {
   "cell_type": "code",
   "execution_count": 26,
   "id": "cc0f231c",
   "metadata": {},
   "outputs": [
    {
     "name": "stdout",
     "output_type": "stream",
     "text": [
      "False\n"
     ]
    }
   ],
   "source": [
    "print(linker._settings_obj_.salting_required)"
   ]
  },
  {
   "cell_type": "markdown",
   "id": "5d6788f8",
   "metadata": {},
   "source": [
    "# Create a settings dictionary"
   ]
  },
  {
   "cell_type": "code",
   "execution_count": 27,
   "id": "1b6ebf43",
   "metadata": {},
   "outputs": [],
   "source": [
    "settings = {\n",
    "    \"link_type\": \"link_only\",\n",
    "    \"comparisons\": comparisons,\n",
    "    \"blocking_rules_to_generate_predictions\": prediction_blocking_rules,\n",
    "#     \"probability_two_random_records_match\": 1/len(df_census_u5),\n",
    "    \"retain_matching_columns\": True,\n",
    "    \"retain_intermediate_calculation_columns\": True,\n",
    "}\n",
    "\n",
    "linker.initialise_settings(settings)"
   ]
  },
  {
   "cell_type": "code",
   "execution_count": null,
   "id": "041b1751",
   "metadata": {},
   "outputs": [],
   "source": []
  }
 ],
 "metadata": {
  "kernelspec": {
   "display_name": "Python 3 (ipykernel)",
   "language": "python",
   "name": "python3"
  },
  "language_info": {
   "codemirror_mode": {
    "name": "ipython",
    "version": 3
   },
   "file_extension": ".py",
   "mimetype": "text/x-python",
   "name": "python",
   "nbconvert_exporter": "python",
   "pygments_lexer": "ipython3",
   "version": "3.8.13"
  }
 },
 "nbformat": 4,
 "nbformat_minor": 5
}
