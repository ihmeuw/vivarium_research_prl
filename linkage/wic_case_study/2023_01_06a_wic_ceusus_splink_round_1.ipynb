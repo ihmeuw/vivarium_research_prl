{
 "cells": [
  {
   "cell_type": "code",
   "execution_count": 1,
   "id": "1e41678c",
   "metadata": {},
   "outputs": [
    {
     "name": "stdout",
     "output_type": "stream",
     "text": [
      "Wed 18 Jan 2023 03:14:02 PM PST\n",
      "ndbs\n",
      "Linux int-slurm-sarchive-p0012 5.4.0-88-generic #99-Ubuntu SMP Thu Sep 23 17:29:00 UTC 2021 x86_64 x86_64 x86_64 GNU/Linux\n",
      "/mnt/share/code/ndbs/vivarium_research_prl/linkage/wic_case_study\n"
     ]
    }
   ],
   "source": [
    "import numpy as np, matplotlib.pyplot as plt, pandas as pd\n",
    "pd.set_option('display.max_rows', 40)\n",
    "\n",
    "# from vivarium_research_prl.noise import corruption, fake_names, noisify\n",
    "# from vivarium_research_prl.find_kids import datasets, noisify_data\n",
    "# import vivarium_research_prl.find_kids as find_kids\n",
    "\n",
    "from splink.duckdb.duckdb_linker import DuckDBLinker\n",
    "import splink.duckdb.duckdb_comparison_library as cl\n",
    "\n",
    "# For viewing waterfall charts and precision-recall curve\n",
    "import altair as alt\n",
    "alt.renderers.enable('mimetype')\n",
    "alt.renderers.enable('html')\n",
    "\n",
    "# For viewing the comparison viewer dashboard\n",
    "from IPython.display import IFrame\n",
    "\n",
    "!date\n",
    "!whoami\n",
    "!uname -a\n",
    "!pwd"
   ]
  },
  {
   "cell_type": "code",
   "execution_count": 2,
   "id": "03839314",
   "metadata": {},
   "outputs": [],
   "source": [
    "%load_ext autoreload\n",
    "%autoreload 2"
   ]
  },
  {
   "cell_type": "markdown",
   "id": "862d4662",
   "metadata": {},
   "source": [
    "# Read in saved data"
   ]
  },
  {
   "cell_type": "code",
   "execution_count": 3,
   "id": "19ea000a",
   "metadata": {},
   "outputs": [
    {
     "name": "stdout",
     "output_type": "stream",
     "text": [
      "total 5484\r\n",
      "-rw-rw-r-- 1 ndbs IHME-users 5535621 Jan 11 15:47 prepared_2020_census_20221014.csv\r\n",
      "-rw-rw-r-- 1 ndbs IHME-users   66364 Jan 11 15:47 prepared_wic_20221014.csv\r\n"
     ]
    }
   ],
   "source": [
    "!ls -l data"
   ]
  },
  {
   "cell_type": "code",
   "execution_count": 4,
   "id": "12ebb132",
   "metadata": {},
   "outputs": [
    {
     "name": "stdout",
     "output_type": "stream",
     "text": [
      "(47529, 12)\n",
      "(633, 12)\n"
     ]
    }
   ],
   "source": [
    "data_dir = 'data'\n",
    "dtypes = {'zipcode': str} # Make sure zipcodes are str not int\n",
    "df_census = pd.read_csv(\n",
    "    f'{data_dir}/prepared_2020_census_20221014.csv',\n",
    "    dtype=dtypes,\n",
    "    index_col=0,\n",
    ")\n",
    "df_wic = pd.read_csv(\n",
    "    f'{data_dir}/prepared_wic_20221014.csv',\n",
    "    dtype=dtypes,\n",
    "    index_col=0,\n",
    ")\n",
    "print(df_census.shape, df_wic.shape, sep='\\n')"
   ]
  },
  {
   "cell_type": "code",
   "execution_count": 5,
   "id": "1ed96329",
   "metadata": {},
   "outputs": [
    {
     "data": {
      "text/plain": [
       "first_name                     object\n",
       "middle                         object\n",
       "last_name                      object\n",
       "date_of_birth                  object\n",
       "age                           float64\n",
       "sex                            object\n",
       "race_ethnicity                 object\n",
       "relation_to_household_head     object\n",
       "address                        object\n",
       "zipcode                        object\n",
       "unique_id                       int64\n",
       "household_id                  float64\n",
       "dtype: object"
      ]
     },
     "execution_count": 5,
     "metadata": {},
     "output_type": "execute_result"
    }
   ],
   "source": [
    "df_census.dtypes"
   ]
  },
  {
   "cell_type": "code",
   "execution_count": 6,
   "id": "56bc9fc4",
   "metadata": {},
   "outputs": [
    {
     "data": {
      "text/plain": [
       "first_name                     object\n",
       "middle                         object\n",
       "last_name                      object\n",
       "date_of_birth                  object\n",
       "sex                            object\n",
       "race_ethnicity                 object\n",
       "address                        object\n",
       "zipcode                        object\n",
       "household_id                    int64\n",
       "unique_id                       int64\n",
       "age                           float64\n",
       "relation_to_household_head    float64\n",
       "dtype: object"
      ]
     },
     "execution_count": 6,
     "metadata": {},
     "output_type": "execute_result"
    }
   ],
   "source": [
    "df_wic.dtypes"
   ]
  },
  {
   "cell_type": "code",
   "execution_count": 7,
   "id": "64c2458b",
   "metadata": {},
   "outputs": [
    {
     "data": {
      "text/html": [
       "<div>\n",
       "<style scoped>\n",
       "    .dataframe tbody tr th:only-of-type {\n",
       "        vertical-align: middle;\n",
       "    }\n",
       "\n",
       "    .dataframe tbody tr th {\n",
       "        vertical-align: top;\n",
       "    }\n",
       "\n",
       "    .dataframe thead th {\n",
       "        text-align: right;\n",
       "    }\n",
       "</style>\n",
       "<table border=\"1\" class=\"dataframe\">\n",
       "  <thead>\n",
       "    <tr style=\"text-align: right;\">\n",
       "      <th></th>\n",
       "      <th>first_name</th>\n",
       "      <th>middle</th>\n",
       "      <th>last_name</th>\n",
       "      <th>date_of_birth</th>\n",
       "      <th>age</th>\n",
       "      <th>sex</th>\n",
       "      <th>race_ethnicity</th>\n",
       "      <th>relation_to_household_head</th>\n",
       "      <th>address</th>\n",
       "      <th>zipcode</th>\n",
       "      <th>unique_id</th>\n",
       "      <th>household_id</th>\n",
       "    </tr>\n",
       "  </thead>\n",
       "  <tbody>\n",
       "    <tr>\n",
       "      <th>0</th>\n",
       "      <td>Margaret</td>\n",
       "      <td>J</td>\n",
       "      <td>Clark</td>\n",
       "      <td>1951-07-27</td>\n",
       "      <td>68.0</td>\n",
       "      <td>Female</td>\n",
       "      <td>Black</td>\n",
       "      <td>Reference person</td>\n",
       "      <td>1344 winoka rd  brooksville, fl</td>\n",
       "      <td>34601</td>\n",
       "      <td>1</td>\n",
       "      <td>NaN</td>\n",
       "    </tr>\n",
       "    <tr>\n",
       "      <th>1</th>\n",
       "      <td>Jeffrey</td>\n",
       "      <td>V</td>\n",
       "      <td>Littlejohn</td>\n",
       "      <td>1967-05-03</td>\n",
       "      <td>52.0</td>\n",
       "      <td>Male</td>\n",
       "      <td>Black</td>\n",
       "      <td>Reference person</td>\n",
       "      <td>927 23rd st  clearwater, fl</td>\n",
       "      <td>34698</td>\n",
       "      <td>2</td>\n",
       "      <td>NaN</td>\n",
       "    </tr>\n",
       "    <tr>\n",
       "      <th>2</th>\n",
       "      <td>Briana</td>\n",
       "      <td>A</td>\n",
       "      <td>Jackson</td>\n",
       "      <td>2006-09-07</td>\n",
       "      <td>13.0</td>\n",
       "      <td>Female</td>\n",
       "      <td>Black</td>\n",
       "      <td>Biological child</td>\n",
       "      <td>927 23rd st  clearwater, fl</td>\n",
       "      <td>34698</td>\n",
       "      <td>3</td>\n",
       "      <td>NaN</td>\n",
       "    </tr>\n",
       "    <tr>\n",
       "      <th>3</th>\n",
       "      <td>Benjamin</td>\n",
       "      <td>D</td>\n",
       "      <td>Cox</td>\n",
       "      <td>1998-10-21</td>\n",
       "      <td>21.0</td>\n",
       "      <td>Male</td>\n",
       "      <td>Black</td>\n",
       "      <td>Stepchild</td>\n",
       "      <td>927 23rd st  clearwater, fl</td>\n",
       "      <td>34698</td>\n",
       "      <td>4</td>\n",
       "      <td>NaN</td>\n",
       "    </tr>\n",
       "    <tr>\n",
       "      <th>4</th>\n",
       "      <td>Willie</td>\n",
       "      <td>NaN</td>\n",
       "      <td>Tucker</td>\n",
       "      <td>1947-10-09</td>\n",
       "      <td>72.0</td>\n",
       "      <td>Male</td>\n",
       "      <td>White</td>\n",
       "      <td>Reference person</td>\n",
       "      <td>8904 167th place  fleming island, fl</td>\n",
       "      <td>32003</td>\n",
       "      <td>5</td>\n",
       "      <td>NaN</td>\n",
       "    </tr>\n",
       "    <tr>\n",
       "      <th>...</th>\n",
       "      <td>...</td>\n",
       "      <td>...</td>\n",
       "      <td>...</td>\n",
       "      <td>...</td>\n",
       "      <td>...</td>\n",
       "      <td>...</td>\n",
       "      <td>...</td>\n",
       "      <td>...</td>\n",
       "      <td>...</td>\n",
       "      <td>...</td>\n",
       "      <td>...</td>\n",
       "      <td>...</td>\n",
       "    </tr>\n",
       "    <tr>\n",
       "      <th>49994</th>\n",
       "      <td>Marcus</td>\n",
       "      <td>S</td>\n",
       "      <td>Roman</td>\n",
       "      <td>1988-07-08</td>\n",
       "      <td>31.0</td>\n",
       "      <td>Male</td>\n",
       "      <td>Multiracial or Other</td>\n",
       "      <td>Institutionalized GQ pop</td>\n",
       "      <td>2210 henn hyde rd ne  hollywood, fl</td>\n",
       "      <td>33021</td>\n",
       "      <td>47525</td>\n",
       "      <td>NaN</td>\n",
       "    </tr>\n",
       "    <tr>\n",
       "      <th>49996</th>\n",
       "      <td>Nathaniel</td>\n",
       "      <td>J</td>\n",
       "      <td>Campbell</td>\n",
       "      <td>1941-01-08</td>\n",
       "      <td>79.0</td>\n",
       "      <td>Male</td>\n",
       "      <td>White</td>\n",
       "      <td>Institutionalized GQ pop</td>\n",
       "      <td>2210 henn hyde rd ne  hollywood, fl</td>\n",
       "      <td>33021</td>\n",
       "      <td>47526</td>\n",
       "      <td>NaN</td>\n",
       "    </tr>\n",
       "    <tr>\n",
       "      <th>49997</th>\n",
       "      <td>Christian</td>\n",
       "      <td>C</td>\n",
       "      <td>Rosales</td>\n",
       "      <td>1983-12-16</td>\n",
       "      <td>36.0</td>\n",
       "      <td>Male</td>\n",
       "      <td>Latino</td>\n",
       "      <td>Institutionalized GQ pop</td>\n",
       "      <td>701 haber rd  vero beach, fl</td>\n",
       "      <td>32968</td>\n",
       "      <td>47527</td>\n",
       "      <td>NaN</td>\n",
       "    </tr>\n",
       "    <tr>\n",
       "      <th>49998</th>\n",
       "      <td>Phillip</td>\n",
       "      <td>J</td>\n",
       "      <td>Morton</td>\n",
       "      <td>1985-06-11</td>\n",
       "      <td>34.0</td>\n",
       "      <td>Male</td>\n",
       "      <td>White</td>\n",
       "      <td>Institutionalized GQ pop</td>\n",
       "      <td>114 s frnt st  fort myers, fl</td>\n",
       "      <td>33919</td>\n",
       "      <td>47528</td>\n",
       "      <td>NaN</td>\n",
       "    </tr>\n",
       "    <tr>\n",
       "      <th>49999</th>\n",
       "      <td>Catherine</td>\n",
       "      <td>H</td>\n",
       "      <td>Talley</td>\n",
       "      <td>1928-08-14</td>\n",
       "      <td>91.0</td>\n",
       "      <td>Female</td>\n",
       "      <td>Black</td>\n",
       "      <td>Institutionalized GQ pop</td>\n",
       "      <td>701 haber rd  vero beach, fle</td>\n",
       "      <td>32968</td>\n",
       "      <td>47529</td>\n",
       "      <td>NaN</td>\n",
       "    </tr>\n",
       "  </tbody>\n",
       "</table>\n",
       "<p>47529 rows × 12 columns</p>\n",
       "</div>"
      ],
      "text/plain": [
       "      first_name middle   last_name date_of_birth   age     sex  \\\n",
       "0       Margaret      J       Clark    1951-07-27  68.0  Female   \n",
       "1        Jeffrey      V  Littlejohn    1967-05-03  52.0    Male   \n",
       "2         Briana      A     Jackson    2006-09-07  13.0  Female   \n",
       "3       Benjamin      D         Cox    1998-10-21  21.0    Male   \n",
       "4         Willie    NaN      Tucker    1947-10-09  72.0    Male   \n",
       "...          ...    ...         ...           ...   ...     ...   \n",
       "49994     Marcus      S       Roman    1988-07-08  31.0    Male   \n",
       "49996  Nathaniel      J    Campbell    1941-01-08  79.0    Male   \n",
       "49997  Christian      C     Rosales    1983-12-16  36.0    Male   \n",
       "49998    Phillip      J      Morton    1985-06-11  34.0    Male   \n",
       "49999  Catherine      H      Talley    1928-08-14  91.0  Female   \n",
       "\n",
       "             race_ethnicity relation_to_household_head  \\\n",
       "0                     Black           Reference person   \n",
       "1                     Black           Reference person   \n",
       "2                     Black           Biological child   \n",
       "3                     Black                  Stepchild   \n",
       "4                     White           Reference person   \n",
       "...                     ...                        ...   \n",
       "49994  Multiracial or Other   Institutionalized GQ pop   \n",
       "49996                 White   Institutionalized GQ pop   \n",
       "49997                Latino   Institutionalized GQ pop   \n",
       "49998                 White   Institutionalized GQ pop   \n",
       "49999                 Black   Institutionalized GQ pop   \n",
       "\n",
       "                                    address zipcode  unique_id  household_id  \n",
       "0           1344 winoka rd  brooksville, fl   34601          1           NaN  \n",
       "1               927 23rd st  clearwater, fl   34698          2           NaN  \n",
       "2               927 23rd st  clearwater, fl   34698          3           NaN  \n",
       "3               927 23rd st  clearwater, fl   34698          4           NaN  \n",
       "4      8904 167th place  fleming island, fl   32003          5           NaN  \n",
       "...                                     ...     ...        ...           ...  \n",
       "49994   2210 henn hyde rd ne  hollywood, fl   33021      47525           NaN  \n",
       "49996   2210 henn hyde rd ne  hollywood, fl   33021      47526           NaN  \n",
       "49997          701 haber rd  vero beach, fl   32968      47527           NaN  \n",
       "49998         114 s frnt st  fort myers, fl   33919      47528           NaN  \n",
       "49999         701 haber rd  vero beach, fle   32968      47529           NaN  \n",
       "\n",
       "[47529 rows x 12 columns]"
      ]
     },
     "execution_count": 7,
     "metadata": {},
     "output_type": "execute_result"
    }
   ],
   "source": [
    "df_census"
   ]
  },
  {
   "cell_type": "code",
   "execution_count": 8,
   "id": "31ce6c03",
   "metadata": {},
   "outputs": [
    {
     "data": {
      "text/html": [
       "<div>\n",
       "<style scoped>\n",
       "    .dataframe tbody tr th:only-of-type {\n",
       "        vertical-align: middle;\n",
       "    }\n",
       "\n",
       "    .dataframe tbody tr th {\n",
       "        vertical-align: top;\n",
       "    }\n",
       "\n",
       "    .dataframe thead th {\n",
       "        text-align: right;\n",
       "    }\n",
       "</style>\n",
       "<table border=\"1\" class=\"dataframe\">\n",
       "  <thead>\n",
       "    <tr style=\"text-align: right;\">\n",
       "      <th></th>\n",
       "      <th>first_name</th>\n",
       "      <th>middle</th>\n",
       "      <th>last_name</th>\n",
       "      <th>date_of_birth</th>\n",
       "      <th>sex</th>\n",
       "      <th>race_ethnicity</th>\n",
       "      <th>address</th>\n",
       "      <th>zipcode</th>\n",
       "      <th>household_id</th>\n",
       "      <th>unique_id</th>\n",
       "      <th>age</th>\n",
       "      <th>relation_to_household_head</th>\n",
       "    </tr>\n",
       "  </thead>\n",
       "  <tbody>\n",
       "    <tr>\n",
       "      <th>82</th>\n",
       "      <td>Sadie</td>\n",
       "      <td>Katia</td>\n",
       "      <td>Tidwell</td>\n",
       "      <td>2017-10-15</td>\n",
       "      <td>Female</td>\n",
       "      <td>Black</td>\n",
       "      <td>w 4th st  north port, fl</td>\n",
       "      <td>34287</td>\n",
       "      <td>48</td>\n",
       "      <td>1</td>\n",
       "      <td>NaN</td>\n",
       "      <td>NaN</td>\n",
       "    </tr>\n",
       "    <tr>\n",
       "      <th>83</th>\n",
       "      <td>Liliana</td>\n",
       "      <td>Addisyn</td>\n",
       "      <td>Marshall</td>\n",
       "      <td>2019-12-03</td>\n",
       "      <td>Female</td>\n",
       "      <td>Black</td>\n",
       "      <td>w 4th st  north port, fl</td>\n",
       "      <td>34287</td>\n",
       "      <td>48</td>\n",
       "      <td>2</td>\n",
       "      <td>NaN</td>\n",
       "      <td>NaN</td>\n",
       "    </tr>\n",
       "    <tr>\n",
       "      <th>174</th>\n",
       "      <td>Holly</td>\n",
       "      <td>Emma</td>\n",
       "      <td>Yount</td>\n",
       "      <td>2019-05-17</td>\n",
       "      <td>Female</td>\n",
       "      <td>White</td>\n",
       "      <td>7944 se 62nd ave  unincorporated, fl</td>\n",
       "      <td>32824</td>\n",
       "      <td>88</td>\n",
       "      <td>3</td>\n",
       "      <td>NaN</td>\n",
       "      <td>NaN</td>\n",
       "    </tr>\n",
       "    <tr>\n",
       "      <th>306</th>\n",
       "      <td>Emilee</td>\n",
       "      <td>Guadalupe</td>\n",
       "      <td>Haskew</td>\n",
       "      <td>2019-12-30</td>\n",
       "      <td>Female</td>\n",
       "      <td>Latino</td>\n",
       "      <td>749 mi ridge ests  destin, fl</td>\n",
       "      <td>32541</td>\n",
       "      <td>150</td>\n",
       "      <td>4</td>\n",
       "      <td>NaN</td>\n",
       "      <td>NaN</td>\n",
       "    </tr>\n",
       "    <tr>\n",
       "      <th>323</th>\n",
       "      <td>Gunner</td>\n",
       "      <td>Liam</td>\n",
       "      <td>Parkinson</td>\n",
       "      <td>2020-03-03</td>\n",
       "      <td>Male</td>\n",
       "      <td>White</td>\n",
       "      <td>600 n maranantha rd  hialeah, fl</td>\n",
       "      <td>33016</td>\n",
       "      <td>157</td>\n",
       "      <td>5</td>\n",
       "      <td>NaN</td>\n",
       "      <td>NaN</td>\n",
       "    </tr>\n",
       "    <tr>\n",
       "      <th>...</th>\n",
       "      <td>...</td>\n",
       "      <td>...</td>\n",
       "      <td>...</td>\n",
       "      <td>...</td>\n",
       "      <td>...</td>\n",
       "      <td>...</td>\n",
       "      <td>...</td>\n",
       "      <td>...</td>\n",
       "      <td>...</td>\n",
       "      <td>...</td>\n",
       "      <td>...</td>\n",
       "      <td>...</td>\n",
       "    </tr>\n",
       "    <tr>\n",
       "      <th>48269</th>\n",
       "      <td>Kaylee</td>\n",
       "      <td>Trinity</td>\n",
       "      <td>Hill</td>\n",
       "      <td>2017-10-20</td>\n",
       "      <td>Female</td>\n",
       "      <td>Black</td>\n",
       "      <td>98 melanie dr  pembroke pines, fl</td>\n",
       "      <td>33026</td>\n",
       "      <td>20380</td>\n",
       "      <td>629</td>\n",
       "      <td>NaN</td>\n",
       "      <td>NaN</td>\n",
       "    </tr>\n",
       "    <tr>\n",
       "      <th>48351</th>\n",
       "      <td>Lev</td>\n",
       "      <td>Thomas</td>\n",
       "      <td>Dove</td>\n",
       "      <td>2018-10-18</td>\n",
       "      <td>Male</td>\n",
       "      <td>Black</td>\n",
       "      <td>671 john muir road  spring hill, fl</td>\n",
       "      <td>34610</td>\n",
       "      <td>20422</td>\n",
       "      <td>630</td>\n",
       "      <td>NaN</td>\n",
       "      <td>NaN</td>\n",
       "    </tr>\n",
       "    <tr>\n",
       "      <th>48442</th>\n",
       "      <td>Frederick</td>\n",
       "      <td>Cameron</td>\n",
       "      <td>Rodriguez</td>\n",
       "      <td>2019-06-04</td>\n",
       "      <td>Male</td>\n",
       "      <td>Latino</td>\n",
       "      <td>5765 heards forest dr  crestview, fl</td>\n",
       "      <td>32539</td>\n",
       "      <td>20452</td>\n",
       "      <td>631</td>\n",
       "      <td>NaN</td>\n",
       "      <td>NaN</td>\n",
       "    </tr>\n",
       "    <tr>\n",
       "      <th>48456</th>\n",
       "      <td>Liam</td>\n",
       "      <td>Emmett</td>\n",
       "      <td>Sardone</td>\n",
       "      <td>2017-01-08</td>\n",
       "      <td>Male</td>\n",
       "      <td>White</td>\n",
       "      <td>107 brown ave  st. petersburg, fl</td>\n",
       "      <td>33704</td>\n",
       "      <td>20458</td>\n",
       "      <td>632</td>\n",
       "      <td>NaN</td>\n",
       "      <td>NaN</td>\n",
       "    </tr>\n",
       "    <tr>\n",
       "      <th>48458</th>\n",
       "      <td>Cameron</td>\n",
       "      <td>Nolan</td>\n",
       "      <td>Emerson</td>\n",
       "      <td>2019-02-16</td>\n",
       "      <td>Male</td>\n",
       "      <td>White</td>\n",
       "      <td>107 brown ave  st. petersburg, fl</td>\n",
       "      <td>33704</td>\n",
       "      <td>20458</td>\n",
       "      <td>633</td>\n",
       "      <td>NaN</td>\n",
       "      <td>NaN</td>\n",
       "    </tr>\n",
       "  </tbody>\n",
       "</table>\n",
       "<p>633 rows × 12 columns</p>\n",
       "</div>"
      ],
      "text/plain": [
       "      first_name     middle  last_name date_of_birth     sex race_ethnicity  \\\n",
       "82         Sadie      Katia    Tidwell    2017-10-15  Female          Black   \n",
       "83       Liliana    Addisyn   Marshall    2019-12-03  Female          Black   \n",
       "174        Holly       Emma      Yount    2019-05-17  Female          White   \n",
       "306       Emilee  Guadalupe     Haskew    2019-12-30  Female         Latino   \n",
       "323       Gunner       Liam  Parkinson    2020-03-03    Male          White   \n",
       "...          ...        ...        ...           ...     ...            ...   \n",
       "48269     Kaylee    Trinity       Hill    2017-10-20  Female          Black   \n",
       "48351        Lev     Thomas       Dove    2018-10-18    Male          Black   \n",
       "48442  Frederick    Cameron  Rodriguez    2019-06-04    Male         Latino   \n",
       "48456       Liam     Emmett    Sardone    2017-01-08    Male          White   \n",
       "48458    Cameron      Nolan    Emerson    2019-02-16    Male          White   \n",
       "\n",
       "                                    address zipcode  household_id  unique_id  \\\n",
       "82                 w 4th st  north port, fl   34287            48          1   \n",
       "83                 w 4th st  north port, fl   34287            48          2   \n",
       "174    7944 se 62nd ave  unincorporated, fl   32824            88          3   \n",
       "306           749 mi ridge ests  destin, fl   32541           150          4   \n",
       "323        600 n maranantha rd  hialeah, fl   33016           157          5   \n",
       "...                                     ...     ...           ...        ...   \n",
       "48269     98 melanie dr  pembroke pines, fl   33026         20380        629   \n",
       "48351   671 john muir road  spring hill, fl   34610         20422        630   \n",
       "48442  5765 heards forest dr  crestview, fl   32539         20452        631   \n",
       "48456     107 brown ave  st. petersburg, fl   33704         20458        632   \n",
       "48458     107 brown ave  st. petersburg, fl   33704         20458        633   \n",
       "\n",
       "       age  relation_to_household_head  \n",
       "82     NaN                         NaN  \n",
       "83     NaN                         NaN  \n",
       "174    NaN                         NaN  \n",
       "306    NaN                         NaN  \n",
       "323    NaN                         NaN  \n",
       "...    ...                         ...  \n",
       "48269  NaN                         NaN  \n",
       "48351  NaN                         NaN  \n",
       "48442  NaN                         NaN  \n",
       "48456  NaN                         NaN  \n",
       "48458  NaN                         NaN  \n",
       "\n",
       "[633 rows x 12 columns]"
      ]
     },
     "execution_count": 8,
     "metadata": {},
     "output_type": "execute_result"
    }
   ],
   "source": [
    "df_wic"
   ]
  },
  {
   "cell_type": "markdown",
   "id": "7cb2f5a7",
   "metadata": {},
   "source": [
    "# For round 1, match only to under-5-year olds in census"
   ]
  },
  {
   "cell_type": "code",
   "execution_count": 9,
   "id": "2f648b96",
   "metadata": {},
   "outputs": [
    {
     "data": {
      "text/plain": [
       "(2243, 12)"
      ]
     },
     "execution_count": 9,
     "metadata": {},
     "output_type": "execute_result"
    }
   ],
   "source": [
    "under5 = df_census.age<5\n",
    "df_census_u5 = df_census.loc[under5]\n",
    "df_census_u5.shape"
   ]
  },
  {
   "cell_type": "markdown",
   "id": "f1945005",
   "metadata": {},
   "source": [
    "# Create some blocking rules and make a linker to count comparisons\n",
    "\n",
    "## Questions:\n",
    "\n",
    "1. How do I determine a good blocking strategy? "
   ]
  },
  {
   "cell_type": "code",
   "execution_count": 10,
   "id": "a2223cf4",
   "metadata": {},
   "outputs": [],
   "source": [
    "# Minimal settings needed below\n",
    "initial_settings = {'link_type': 'link_only'}\n",
    "linker = DuckDBLinker([df_census_u5, df_wic], initial_settings)"
   ]
  },
  {
   "cell_type": "code",
   "execution_count": 11,
   "id": "709a80ca",
   "metadata": {},
   "outputs": [
    {
     "name": "stdout",
     "output_type": "stream",
     "text": [
      "Cartesion product of input: 1419819 \n",
      "\n",
      "Number of comparisons generated by 'l.first_name = r.first_name and l.last_name = r.last_name': 545\n",
      "Number of comparisons generated by 'l.sex = r.sex and l.date_of_birth = r.date_of_birth': 911\n",
      "Number of comparisons generated by 'l.address = r.address': 821\n",
      "Number of comparisons generated by 'l.zipcode = r.zipcode': 3,610\n",
      "Number of comparisons generated by 'substr(l.first_name, 1,1) = substr(r.first_name, 1,1) and substr(l.last_name, 1,1) = substr(r.last_name, 1,1)': 6,074\n"
     ]
    },
    {
     "data": {
      "text/html": [
       "\n",
       "<div id=\"altair-viz-914241bfcb0b4ff49eb9fee0c1bdef2c\"></div>\n",
       "<script type=\"text/javascript\">\n",
       "  var VEGA_DEBUG = (typeof VEGA_DEBUG == \"undefined\") ? {} : VEGA_DEBUG;\n",
       "  (function(spec, embedOpt){\n",
       "    let outputDiv = document.currentScript.previousElementSibling;\n",
       "    if (outputDiv.id !== \"altair-viz-914241bfcb0b4ff49eb9fee0c1bdef2c\") {\n",
       "      outputDiv = document.getElementById(\"altair-viz-914241bfcb0b4ff49eb9fee0c1bdef2c\");\n",
       "    }\n",
       "    const paths = {\n",
       "      \"vega\": \"https://cdn.jsdelivr.net/npm//vega@5?noext\",\n",
       "      \"vega-lib\": \"https://cdn.jsdelivr.net/npm//vega-lib?noext\",\n",
       "      \"vega-lite\": \"https://cdn.jsdelivr.net/npm//vega-lite@4.17.0?noext\",\n",
       "      \"vega-embed\": \"https://cdn.jsdelivr.net/npm//vega-embed@6?noext\",\n",
       "    };\n",
       "\n",
       "    function maybeLoadScript(lib, version) {\n",
       "      var key = `${lib.replace(\"-\", \"\")}_version`;\n",
       "      return (VEGA_DEBUG[key] == version) ?\n",
       "        Promise.resolve(paths[lib]) :\n",
       "        new Promise(function(resolve, reject) {\n",
       "          var s = document.createElement('script');\n",
       "          document.getElementsByTagName(\"head\")[0].appendChild(s);\n",
       "          s.async = true;\n",
       "          s.onload = () => {\n",
       "            VEGA_DEBUG[key] = version;\n",
       "            return resolve(paths[lib]);\n",
       "          };\n",
       "          s.onerror = () => reject(`Error loading script: ${paths[lib]}`);\n",
       "          s.src = paths[lib];\n",
       "        });\n",
       "    }\n",
       "\n",
       "    function showError(err) {\n",
       "      outputDiv.innerHTML = `<div class=\"error\" style=\"color:red;\">${err}</div>`;\n",
       "      throw err;\n",
       "    }\n",
       "\n",
       "    function displayChart(vegaEmbed) {\n",
       "      vegaEmbed(outputDiv, spec, embedOpt)\n",
       "        .catch(err => showError(`Javascript Error: ${err.message}<br>This usually means there's a typo in your chart specification. See the javascript console for the full traceback.`));\n",
       "    }\n",
       "\n",
       "    if(typeof define === \"function\" && define.amd) {\n",
       "      requirejs.config({paths});\n",
       "      require([\"vega-embed\"], displayChart, err => showError(`Error loading script: ${err.message}`));\n",
       "    } else {\n",
       "      maybeLoadScript(\"vega\", \"5\")\n",
       "        .then(() => maybeLoadScript(\"vega-lite\", \"4.17.0\"))\n",
       "        .then(() => maybeLoadScript(\"vega-embed\", \"6\"))\n",
       "        .catch(showError)\n",
       "        .then(() => displayChart(vegaEmbed));\n",
       "    }\n",
       "  })({\"$schema\": \"https://vega.github.io/schema/vega-lite/v5.json\", \"width\": 450, \"height\": 200, \"title\": {\"text\": \"Count of Additional Comparisons Generated by Each Blocking Rule\", \"subtitle\": \"(Counts exclude comparisons already generated by previous rules)\"}, \"data\": {\"values\": [{\"row_count\": 545, \"rule\": \"l.first_name = r.first_name and l.last_name = r.last_name\", \"cumulative_rows\": 545, \"cartesian\": 1419819, \"reduction_ratio\": \"The rolling reduction ratio with your given blocking rule(s) is 1.0. \\nThis represents the reduction in the total number of comparisons due to your rule(s).\", \"start\": 0}, {\"row_count\": 387, \"rule\": \"l.sex = r.sex and l.date_of_birth = r.date_of_birth\", \"cumulative_rows\": 932, \"cartesian\": 1419819, \"reduction_ratio\": \"The rolling reduction ratio with your given blocking rule(s) is 0.999. \\nThis represents the reduction in the total number of comparisons due to your rule(s).\", \"start\": 545}, {\"row_count\": 261, \"rule\": \"l.address = r.address\", \"cumulative_rows\": 1193, \"cartesian\": 1419819, \"reduction_ratio\": \"The rolling reduction ratio with your given blocking rule(s) is 0.999. \\nThis represents the reduction in the total number of comparisons due to your rule(s).\", \"start\": 932}, {\"row_count\": 2791, \"rule\": \"l.zipcode = r.zipcode\", \"cumulative_rows\": 3984, \"cartesian\": 1419819, \"reduction_ratio\": \"The rolling reduction ratio with your given blocking rule(s) is 0.997. \\nThis represents the reduction in the total number of comparisons due to your rule(s).\", \"start\": 1193}, {\"row_count\": 5499, \"rule\": \"substr(l.first_name, 1,1) = substr(r.first_name, 1,1) and substr(l.last_name, 1,1) = substr(r.last_name, 1,1)\", \"cumulative_rows\": 9483, \"cartesian\": 1419819, \"reduction_ratio\": \"The rolling reduction ratio with your given blocking rule(s) is 0.993. \\nThis represents the reduction in the total number of comparisons due to your rule(s).\", \"start\": 3984}]}, \"mark\": \"bar\", \"encoding\": {\"x\": {\"title\": \"Comparisons Generated by Rule(s)\", \"field\": \"start\", \"type\": \"quantitative\"}, \"x2\": {\"field\": \"cumulative_rows\"}, \"y\": {\"field\": \"rule\", \"title\": \"SQL Blocking Rule\", \"sort\": [\"-x2\"]}, \"color\": {\"field\": \"rule\", \"legend\": null, \"scale\": {\"scheme\": \"category20c\"}}, \"order\": {\"field\": \"cumulative_rows\"}, \"tooltip\": [{\"type\": \"nominal\", \"field\": \"rule\", \"title\": \"SQL Condition\"}, {\"type\": \"quantitative\", \"field\": \"row_count\", \"title\": \"Comparisons Generated\", \"format\": \",\"}, {\"type\": \"quantitative\", \"field\": \"cumulative_rows\", \"title\": \"Cumulative Comparisons\", \"format\": \",\"}, {\"type\": \"quantitative\", \"field\": \"cartesian\", \"title\": \"Cartesian Product of Input Data\", \"format\": \",\"}, {\"type\": \"quantitative\", \"field\": \"reduction_ratio\", \"title\": \"Reduction Ratio (cumulative rows/cartesian product)\"}]}}, {\"mode\": \"vega-lite\"});\n",
       "</script>"
      ],
      "text/plain": [
       "<splink.charts.VegaliteNoValidate at 0x7fde827fe490>"
      ]
     },
     "execution_count": 11,
     "metadata": {},
     "output_type": "execute_result"
    }
   ],
   "source": [
    "blocking_rules_prediction = [\n",
    "#     'l.address = r.address',\n",
    "#     'l.zipcode = r.zipcode',\n",
    "#     'substr(l.zipcode, 1,3) = substr(r.zipcode, 1,3)',\n",
    "    'l.first_name = r.first_name and l.last_name = r.last_name',\n",
    "    'l.sex = r.sex and l.date_of_birth = r.date_of_birth',\n",
    "#     (\n",
    "#         'l.sex = r.sex'\n",
    "#         ' and l.date_of_birth = r.date_of_birth'\n",
    "#         ' and substr(l.first_name, 1,1) = substr(r.first_name, 1,1)'\n",
    "#         ' and substr(l.last_name, 1,1) = substr(r.last_name, 1,1)'\n",
    "#     ),\n",
    "    'l.address = r.address',\n",
    "    'l.zipcode = r.zipcode',\n",
    "    (\n",
    "        'substr(l.first_name, 1,1) = substr(r.first_name, 1,1)'\n",
    "        ' and substr(l.last_name, 1,1) = substr(r.last_name, 1,1)'\n",
    "    ),\n",
    "#     'substr(l.zipcode, 1,3) = substr(r.zipcode, 1,3)',\n",
    "]\n",
    "\n",
    "print('Cartesion product of input:', len(df_census_u5) * len(df_wic), '\\n')\n",
    "\n",
    "for rule in blocking_rules_prediction:\n",
    "    count = linker.count_num_comparisons_from_blocking_rule(rule)\n",
    "    print(f\"Number of comparisons generated by '{rule}': {count:,.0f}\")\n",
    "\n",
    "linker.cumulative_num_comparisons_from_blocking_rules_chart(blocking_rules_prediction)"
   ]
  },
  {
   "cell_type": "markdown",
   "id": "ef87877a",
   "metadata": {},
   "source": [
    "# Try to estimate how the blocking strategy will scale"
   ]
  },
  {
   "cell_type": "code",
   "execution_count": 12,
   "id": "45bbd151",
   "metadata": {},
   "outputs": [
    {
     "data": {
      "text/plain": [
       "0.09"
      ]
     },
     "execution_count": 12,
     "metadata": {},
     "output_type": "execute_result"
    }
   ],
   "source": [
    "90_000/1e6"
   ]
  },
  {
   "cell_type": "code",
   "execution_count": 13,
   "id": "7c324dc5",
   "metadata": {},
   "outputs": [
    {
     "data": {
      "text/plain": [
       "1.893580761219466"
      ]
     },
     "execution_count": 13,
     "metadata": {},
     "output_type": "execute_result"
    }
   ],
   "source": [
    "90_000 / len(df_census)"
   ]
  },
  {
   "cell_type": "code",
   "execution_count": 14,
   "id": "3a53bd84",
   "metadata": {},
   "outputs": [
    {
     "data": {
      "text/plain": [
       "3.984053443622769e-05"
      ]
     },
     "execution_count": 14,
     "metadata": {},
     "output_type": "execute_result"
    }
   ],
   "source": [
    "90_000 / len(df_census)**2 # Ratio should stay about the same when scaling up census"
   ]
  },
  {
   "cell_type": "code",
   "execution_count": 15,
   "id": "6cbf544a",
   "metadata": {},
   "outputs": [
    {
     "data": {
      "text/plain": [
       "0.002991438801294575"
      ]
     },
     "execution_count": 15,
     "metadata": {},
     "output_type": "execute_result"
    }
   ],
   "source": [
    "# Ratio should stay about the same when scaling up census\n",
    "90_000 / (len(df_census)*len(df_wic))"
   ]
  },
  {
   "cell_type": "code",
   "execution_count": 16,
   "id": "2fbdb997",
   "metadata": {},
   "outputs": [
    {
     "data": {
      "text/plain": [
       "0.013318184687243578"
      ]
     },
     "execution_count": 16,
     "metadata": {},
     "output_type": "execute_result"
    }
   ],
   "source": [
    "len(df_wic)/len(df_census) # Ratio should stay about the same when scaling up census"
   ]
  },
  {
   "cell_type": "code",
   "execution_count": 17,
   "id": "66837263",
   "metadata": {},
   "outputs": [
    {
     "data": {
      "text/plain": [
       "47754323609.41513"
      ]
     },
     "execution_count": 17,
     "metadata": {},
     "output_type": "execute_result"
    }
   ],
   "source": [
    "# Looks like maybe 47 billion comparisons would be generated...\n",
    "# Probably too many...\n",
    "(\n",
    "    (90_000 / len(df_census)**2)\n",
    "    * (len(df_wic)/len(df_census)) * (300e6)**2\n",
    ")"
   ]
  },
  {
   "cell_type": "markdown",
   "id": "a6d2cee8",
   "metadata": {},
   "source": [
    "# Define comparisons we want to use"
   ]
  },
  {
   "cell_type": "code",
   "execution_count": null,
   "id": "e32cb21e",
   "metadata": {},
   "outputs": [],
   "source": []
  }
 ],
 "metadata": {
  "kernelspec": {
   "display_name": "Python 3 (ipykernel)",
   "language": "python",
   "name": "python3"
  },
  "language_info": {
   "codemirror_mode": {
    "name": "ipython",
    "version": 3
   },
   "file_extension": ".py",
   "mimetype": "text/x-python",
   "name": "python",
   "nbconvert_exporter": "python",
   "pygments_lexer": "ipython3",
   "version": "3.8.13"
  }
 },
 "nbformat": 4,
 "nbformat_minor": 5
}
