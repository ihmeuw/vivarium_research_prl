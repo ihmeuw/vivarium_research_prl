{
 "cells": [
  {
   "cell_type": "markdown",
   "id": "c8912c1b",
   "metadata": {},
   "source": [
    "#  Simulated Data – Not CUI"
   ]
  },
  {
   "cell_type": "code",
   "execution_count": 1,
   "id": "1e41678c",
   "metadata": {},
   "outputs": [
    {
     "name": "stdout",
     "output_type": "stream",
     "text": [
      "Fri 27 Jan 2023 11:03:31 AM PST\n",
      "ndbs\n",
      "Linux int-slurm-sarchive-p0012 5.4.0-88-generic #99-Ubuntu SMP Thu Sep 23 17:29:00 UTC 2021 x86_64 x86_64 x86_64 GNU/Linux\n",
      "/mnt/share/code/ndbs/vivarium_research_prl/linkage/wic_case_study\n"
     ]
    }
   ],
   "source": [
    "import numpy as np, matplotlib.pyplot as plt, pandas as pd\n",
    "pd.set_option('display.max_rows', 40)\n",
    "\n",
    "# from vivarium_research_prl.noise import corruption, fake_names, noisify\n",
    "# from vivarium_research_prl.find_kids import datasets, noisify_data\n",
    "# import vivarium_research_prl.find_kids as find_kids\n",
    "\n",
    "from splink.duckdb.duckdb_linker import DuckDBLinker\n",
    "import splink.duckdb.duckdb_comparison_library as cl\n",
    "\n",
    "# For viewing waterfall charts and precision-recall curve\n",
    "import altair as alt\n",
    "alt.renderers.enable('mimetype')\n",
    "alt.renderers.enable('html')\n",
    "\n",
    "# For viewing the comparison viewer dashboard\n",
    "from IPython.display import IFrame\n",
    "\n",
    "!date\n",
    "!whoami\n",
    "!uname -a\n",
    "!pwd"
   ]
  },
  {
   "cell_type": "code",
   "execution_count": 2,
   "id": "03839314",
   "metadata": {},
   "outputs": [],
   "source": [
    "%load_ext autoreload\n",
    "%autoreload 2"
   ]
  },
  {
   "cell_type": "markdown",
   "id": "862d4662",
   "metadata": {},
   "source": [
    "# Steps 0-1\n",
    "\n",
    "## Read in simulated WIC and decennial census data that has been noised and prepared for Splink"
   ]
  },
  {
   "cell_type": "code",
   "execution_count": 3,
   "id": "19ea000a",
   "metadata": {},
   "outputs": [
    {
     "name": "stdout",
     "output_type": "stream",
     "text": [
      "total 5496\r\n",
      "-rw-rw-r-- 1 ndbs IHME-users 5535621 Jan 27 10:34 prepared_2020_census_20221014.csv\r\n",
      "-rw-rw-r-- 1 ndbs IHME-users   66364 Jan 27 10:34 prepared_wic_20221014.csv\r\n",
      "-rw-rw-r-- 1 ndbs IHME-users    7613 Jan 20 16:21 saved_model_from_wic_census_20221014.json\r\n"
     ]
    }
   ],
   "source": [
    "!ls -l data"
   ]
  },
  {
   "cell_type": "code",
   "execution_count": 4,
   "id": "12ebb132",
   "metadata": {},
   "outputs": [
    {
     "name": "stdout",
     "output_type": "stream",
     "text": [
      "(47529, 12)\n",
      "(633, 12)\n"
     ]
    }
   ],
   "source": [
    "data_dir = 'data'\n",
    "dtypes = {'zipcode': str} # Make sure zipcodes are str not int\n",
    "df_census = pd.read_csv(\n",
    "    f'{data_dir}/prepared_2020_census_20221014.csv',\n",
    "    dtype=dtypes,\n",
    "    index_col=0,\n",
    ")\n",
    "df_wic = pd.read_csv(\n",
    "    f'{data_dir}/prepared_wic_20221014.csv',\n",
    "    dtype=dtypes,\n",
    "    index_col=0,\n",
    ")\n",
    "print(df_census.shape, df_wic.shape, sep='\\n')"
   ]
  },
  {
   "cell_type": "markdown",
   "id": "4070ed71",
   "metadata": {},
   "source": [
    "## View the data we'll be linking"
   ]
  },
  {
   "cell_type": "code",
   "execution_count": 5,
   "id": "1ed96329",
   "metadata": {},
   "outputs": [
    {
     "data": {
      "text/plain": [
       "first_name                     object\n",
       "middle                         object\n",
       "last_name                      object\n",
       "date_of_birth                  object\n",
       "age                           float64\n",
       "sex                            object\n",
       "race_ethnicity                 object\n",
       "relation_to_household_head     object\n",
       "address                        object\n",
       "zipcode                        object\n",
       "unique_id                       int64\n",
       "household_id                  float64\n",
       "dtype: object"
      ]
     },
     "execution_count": 5,
     "metadata": {},
     "output_type": "execute_result"
    }
   ],
   "source": [
    "df_census.dtypes"
   ]
  },
  {
   "cell_type": "code",
   "execution_count": 6,
   "id": "56bc9fc4",
   "metadata": {},
   "outputs": [
    {
     "data": {
      "text/plain": [
       "first_name                     object\n",
       "middle                         object\n",
       "last_name                      object\n",
       "date_of_birth                  object\n",
       "sex                            object\n",
       "race_ethnicity                 object\n",
       "address                        object\n",
       "zipcode                        object\n",
       "household_id                    int64\n",
       "unique_id                       int64\n",
       "age                           float64\n",
       "relation_to_household_head    float64\n",
       "dtype: object"
      ]
     },
     "execution_count": 6,
     "metadata": {},
     "output_type": "execute_result"
    }
   ],
   "source": [
    "df_wic.dtypes"
   ]
  },
  {
   "cell_type": "code",
   "execution_count": 7,
   "id": "64c2458b",
   "metadata": {},
   "outputs": [
    {
     "data": {
      "text/html": [
       "<div>\n",
       "<style scoped>\n",
       "    .dataframe tbody tr th:only-of-type {\n",
       "        vertical-align: middle;\n",
       "    }\n",
       "\n",
       "    .dataframe tbody tr th {\n",
       "        vertical-align: top;\n",
       "    }\n",
       "\n",
       "    .dataframe thead th {\n",
       "        text-align: right;\n",
       "    }\n",
       "</style>\n",
       "<table border=\"1\" class=\"dataframe\">\n",
       "  <thead>\n",
       "    <tr style=\"text-align: right;\">\n",
       "      <th></th>\n",
       "      <th>first_name</th>\n",
       "      <th>middle</th>\n",
       "      <th>last_name</th>\n",
       "      <th>date_of_birth</th>\n",
       "      <th>age</th>\n",
       "      <th>sex</th>\n",
       "      <th>race_ethnicity</th>\n",
       "      <th>relation_to_household_head</th>\n",
       "      <th>address</th>\n",
       "      <th>zipcode</th>\n",
       "      <th>unique_id</th>\n",
       "      <th>household_id</th>\n",
       "    </tr>\n",
       "  </thead>\n",
       "  <tbody>\n",
       "    <tr>\n",
       "      <th>0</th>\n",
       "      <td>Margaret</td>\n",
       "      <td>J</td>\n",
       "      <td>Clark</td>\n",
       "      <td>1951-07-27</td>\n",
       "      <td>68.0</td>\n",
       "      <td>Female</td>\n",
       "      <td>Black</td>\n",
       "      <td>Reference person</td>\n",
       "      <td>1344 winoka rd  brooksville, fl</td>\n",
       "      <td>34601</td>\n",
       "      <td>1</td>\n",
       "      <td>NaN</td>\n",
       "    </tr>\n",
       "    <tr>\n",
       "      <th>1</th>\n",
       "      <td>Jeffrey</td>\n",
       "      <td>V</td>\n",
       "      <td>Littlejohn</td>\n",
       "      <td>1967-05-03</td>\n",
       "      <td>52.0</td>\n",
       "      <td>Male</td>\n",
       "      <td>Black</td>\n",
       "      <td>Reference person</td>\n",
       "      <td>927 23rd st  clearwater, fl</td>\n",
       "      <td>34698</td>\n",
       "      <td>2</td>\n",
       "      <td>NaN</td>\n",
       "    </tr>\n",
       "    <tr>\n",
       "      <th>2</th>\n",
       "      <td>Briana</td>\n",
       "      <td>A</td>\n",
       "      <td>Jackson</td>\n",
       "      <td>2006-09-07</td>\n",
       "      <td>13.0</td>\n",
       "      <td>Female</td>\n",
       "      <td>Black</td>\n",
       "      <td>Biological child</td>\n",
       "      <td>927 23rd st  clearwater, fl</td>\n",
       "      <td>34698</td>\n",
       "      <td>3</td>\n",
       "      <td>NaN</td>\n",
       "    </tr>\n",
       "    <tr>\n",
       "      <th>3</th>\n",
       "      <td>Benjamin</td>\n",
       "      <td>D</td>\n",
       "      <td>Cox</td>\n",
       "      <td>1998-10-21</td>\n",
       "      <td>21.0</td>\n",
       "      <td>Male</td>\n",
       "      <td>Black</td>\n",
       "      <td>Stepchild</td>\n",
       "      <td>927 23rd st  clearwater, fl</td>\n",
       "      <td>34698</td>\n",
       "      <td>4</td>\n",
       "      <td>NaN</td>\n",
       "    </tr>\n",
       "    <tr>\n",
       "      <th>4</th>\n",
       "      <td>Willie</td>\n",
       "      <td>NaN</td>\n",
       "      <td>Tucker</td>\n",
       "      <td>1947-10-09</td>\n",
       "      <td>72.0</td>\n",
       "      <td>Male</td>\n",
       "      <td>White</td>\n",
       "      <td>Reference person</td>\n",
       "      <td>8904 167th place  fleming island, fl</td>\n",
       "      <td>32003</td>\n",
       "      <td>5</td>\n",
       "      <td>NaN</td>\n",
       "    </tr>\n",
       "    <tr>\n",
       "      <th>...</th>\n",
       "      <td>...</td>\n",
       "      <td>...</td>\n",
       "      <td>...</td>\n",
       "      <td>...</td>\n",
       "      <td>...</td>\n",
       "      <td>...</td>\n",
       "      <td>...</td>\n",
       "      <td>...</td>\n",
       "      <td>...</td>\n",
       "      <td>...</td>\n",
       "      <td>...</td>\n",
       "      <td>...</td>\n",
       "    </tr>\n",
       "    <tr>\n",
       "      <th>49994</th>\n",
       "      <td>Marcus</td>\n",
       "      <td>S</td>\n",
       "      <td>Roman</td>\n",
       "      <td>1988-07-08</td>\n",
       "      <td>31.0</td>\n",
       "      <td>Male</td>\n",
       "      <td>Multiracial or Other</td>\n",
       "      <td>Institutionalized GQ pop</td>\n",
       "      <td>2210 henn hyde rd ne  hollywood, fl</td>\n",
       "      <td>33021</td>\n",
       "      <td>47525</td>\n",
       "      <td>NaN</td>\n",
       "    </tr>\n",
       "    <tr>\n",
       "      <th>49996</th>\n",
       "      <td>Nathaniel</td>\n",
       "      <td>J</td>\n",
       "      <td>Campbell</td>\n",
       "      <td>1941-01-08</td>\n",
       "      <td>79.0</td>\n",
       "      <td>Male</td>\n",
       "      <td>White</td>\n",
       "      <td>Institutionalized GQ pop</td>\n",
       "      <td>2210 henn hyde rd ne  hollywood, fl</td>\n",
       "      <td>33021</td>\n",
       "      <td>47526</td>\n",
       "      <td>NaN</td>\n",
       "    </tr>\n",
       "    <tr>\n",
       "      <th>49997</th>\n",
       "      <td>Christian</td>\n",
       "      <td>C</td>\n",
       "      <td>Rosales</td>\n",
       "      <td>1983-12-16</td>\n",
       "      <td>36.0</td>\n",
       "      <td>Male</td>\n",
       "      <td>Latino</td>\n",
       "      <td>Institutionalized GQ pop</td>\n",
       "      <td>701 haber rd  vero beach, fl</td>\n",
       "      <td>32968</td>\n",
       "      <td>47527</td>\n",
       "      <td>NaN</td>\n",
       "    </tr>\n",
       "    <tr>\n",
       "      <th>49998</th>\n",
       "      <td>Phillip</td>\n",
       "      <td>J</td>\n",
       "      <td>Morton</td>\n",
       "      <td>1985-06-11</td>\n",
       "      <td>34.0</td>\n",
       "      <td>Male</td>\n",
       "      <td>White</td>\n",
       "      <td>Institutionalized GQ pop</td>\n",
       "      <td>114 s frnt st  fort myers, fl</td>\n",
       "      <td>33919</td>\n",
       "      <td>47528</td>\n",
       "      <td>NaN</td>\n",
       "    </tr>\n",
       "    <tr>\n",
       "      <th>49999</th>\n",
       "      <td>Catherine</td>\n",
       "      <td>H</td>\n",
       "      <td>Talley</td>\n",
       "      <td>1928-08-14</td>\n",
       "      <td>91.0</td>\n",
       "      <td>Female</td>\n",
       "      <td>Black</td>\n",
       "      <td>Institutionalized GQ pop</td>\n",
       "      <td>701 haber rd  vero beach, fle</td>\n",
       "      <td>32968</td>\n",
       "      <td>47529</td>\n",
       "      <td>NaN</td>\n",
       "    </tr>\n",
       "  </tbody>\n",
       "</table>\n",
       "<p>47529 rows × 12 columns</p>\n",
       "</div>"
      ],
      "text/plain": [
       "      first_name middle   last_name date_of_birth   age     sex  \\\n",
       "0       Margaret      J       Clark    1951-07-27  68.0  Female   \n",
       "1        Jeffrey      V  Littlejohn    1967-05-03  52.0    Male   \n",
       "2         Briana      A     Jackson    2006-09-07  13.0  Female   \n",
       "3       Benjamin      D         Cox    1998-10-21  21.0    Male   \n",
       "4         Willie    NaN      Tucker    1947-10-09  72.0    Male   \n",
       "...          ...    ...         ...           ...   ...     ...   \n",
       "49994     Marcus      S       Roman    1988-07-08  31.0    Male   \n",
       "49996  Nathaniel      J    Campbell    1941-01-08  79.0    Male   \n",
       "49997  Christian      C     Rosales    1983-12-16  36.0    Male   \n",
       "49998    Phillip      J      Morton    1985-06-11  34.0    Male   \n",
       "49999  Catherine      H      Talley    1928-08-14  91.0  Female   \n",
       "\n",
       "             race_ethnicity relation_to_household_head  \\\n",
       "0                     Black           Reference person   \n",
       "1                     Black           Reference person   \n",
       "2                     Black           Biological child   \n",
       "3                     Black                  Stepchild   \n",
       "4                     White           Reference person   \n",
       "...                     ...                        ...   \n",
       "49994  Multiracial or Other   Institutionalized GQ pop   \n",
       "49996                 White   Institutionalized GQ pop   \n",
       "49997                Latino   Institutionalized GQ pop   \n",
       "49998                 White   Institutionalized GQ pop   \n",
       "49999                 Black   Institutionalized GQ pop   \n",
       "\n",
       "                                    address zipcode  unique_id  household_id  \n",
       "0           1344 winoka rd  brooksville, fl   34601          1           NaN  \n",
       "1               927 23rd st  clearwater, fl   34698          2           NaN  \n",
       "2               927 23rd st  clearwater, fl   34698          3           NaN  \n",
       "3               927 23rd st  clearwater, fl   34698          4           NaN  \n",
       "4      8904 167th place  fleming island, fl   32003          5           NaN  \n",
       "...                                     ...     ...        ...           ...  \n",
       "49994   2210 henn hyde rd ne  hollywood, fl   33021      47525           NaN  \n",
       "49996   2210 henn hyde rd ne  hollywood, fl   33021      47526           NaN  \n",
       "49997          701 haber rd  vero beach, fl   32968      47527           NaN  \n",
       "49998         114 s frnt st  fort myers, fl   33919      47528           NaN  \n",
       "49999         701 haber rd  vero beach, fle   32968      47529           NaN  \n",
       "\n",
       "[47529 rows x 12 columns]"
      ]
     },
     "execution_count": 7,
     "metadata": {},
     "output_type": "execute_result"
    }
   ],
   "source": [
    "df_census"
   ]
  },
  {
   "cell_type": "code",
   "execution_count": 8,
   "id": "31ce6c03",
   "metadata": {},
   "outputs": [
    {
     "data": {
      "text/html": [
       "<div>\n",
       "<style scoped>\n",
       "    .dataframe tbody tr th:only-of-type {\n",
       "        vertical-align: middle;\n",
       "    }\n",
       "\n",
       "    .dataframe tbody tr th {\n",
       "        vertical-align: top;\n",
       "    }\n",
       "\n",
       "    .dataframe thead th {\n",
       "        text-align: right;\n",
       "    }\n",
       "</style>\n",
       "<table border=\"1\" class=\"dataframe\">\n",
       "  <thead>\n",
       "    <tr style=\"text-align: right;\">\n",
       "      <th></th>\n",
       "      <th>first_name</th>\n",
       "      <th>middle</th>\n",
       "      <th>last_name</th>\n",
       "      <th>date_of_birth</th>\n",
       "      <th>sex</th>\n",
       "      <th>race_ethnicity</th>\n",
       "      <th>address</th>\n",
       "      <th>zipcode</th>\n",
       "      <th>household_id</th>\n",
       "      <th>unique_id</th>\n",
       "      <th>age</th>\n",
       "      <th>relation_to_household_head</th>\n",
       "    </tr>\n",
       "  </thead>\n",
       "  <tbody>\n",
       "    <tr>\n",
       "      <th>82</th>\n",
       "      <td>Sadie</td>\n",
       "      <td>Katia</td>\n",
       "      <td>Tidwell</td>\n",
       "      <td>2017-10-15</td>\n",
       "      <td>Female</td>\n",
       "      <td>Black</td>\n",
       "      <td>w 4th st  north port, fl</td>\n",
       "      <td>34287</td>\n",
       "      <td>48</td>\n",
       "      <td>1</td>\n",
       "      <td>NaN</td>\n",
       "      <td>NaN</td>\n",
       "    </tr>\n",
       "    <tr>\n",
       "      <th>83</th>\n",
       "      <td>Liliana</td>\n",
       "      <td>Addisyn</td>\n",
       "      <td>Marshall</td>\n",
       "      <td>2019-12-03</td>\n",
       "      <td>Female</td>\n",
       "      <td>Black</td>\n",
       "      <td>w 4th st  north port, fl</td>\n",
       "      <td>34287</td>\n",
       "      <td>48</td>\n",
       "      <td>2</td>\n",
       "      <td>NaN</td>\n",
       "      <td>NaN</td>\n",
       "    </tr>\n",
       "    <tr>\n",
       "      <th>174</th>\n",
       "      <td>Holly</td>\n",
       "      <td>Emma</td>\n",
       "      <td>Yount</td>\n",
       "      <td>2019-05-17</td>\n",
       "      <td>Female</td>\n",
       "      <td>White</td>\n",
       "      <td>7944 se 62nd ave  unincorporated, fl</td>\n",
       "      <td>32824</td>\n",
       "      <td>88</td>\n",
       "      <td>3</td>\n",
       "      <td>NaN</td>\n",
       "      <td>NaN</td>\n",
       "    </tr>\n",
       "    <tr>\n",
       "      <th>306</th>\n",
       "      <td>Emilee</td>\n",
       "      <td>Guadalupe</td>\n",
       "      <td>Haskew</td>\n",
       "      <td>2019-12-30</td>\n",
       "      <td>Female</td>\n",
       "      <td>Latino</td>\n",
       "      <td>749 mi ridge ests  destin, fl</td>\n",
       "      <td>32541</td>\n",
       "      <td>150</td>\n",
       "      <td>4</td>\n",
       "      <td>NaN</td>\n",
       "      <td>NaN</td>\n",
       "    </tr>\n",
       "    <tr>\n",
       "      <th>323</th>\n",
       "      <td>Gunner</td>\n",
       "      <td>Liam</td>\n",
       "      <td>Parkinson</td>\n",
       "      <td>2020-03-03</td>\n",
       "      <td>Male</td>\n",
       "      <td>White</td>\n",
       "      <td>600 n maranantha rd  hialeah, fl</td>\n",
       "      <td>33016</td>\n",
       "      <td>157</td>\n",
       "      <td>5</td>\n",
       "      <td>NaN</td>\n",
       "      <td>NaN</td>\n",
       "    </tr>\n",
       "    <tr>\n",
       "      <th>...</th>\n",
       "      <td>...</td>\n",
       "      <td>...</td>\n",
       "      <td>...</td>\n",
       "      <td>...</td>\n",
       "      <td>...</td>\n",
       "      <td>...</td>\n",
       "      <td>...</td>\n",
       "      <td>...</td>\n",
       "      <td>...</td>\n",
       "      <td>...</td>\n",
       "      <td>...</td>\n",
       "      <td>...</td>\n",
       "    </tr>\n",
       "    <tr>\n",
       "      <th>48269</th>\n",
       "      <td>Kaylee</td>\n",
       "      <td>Trinity</td>\n",
       "      <td>Hill</td>\n",
       "      <td>2017-10-20</td>\n",
       "      <td>Female</td>\n",
       "      <td>Black</td>\n",
       "      <td>98 melanie dr  pembroke pines, fl</td>\n",
       "      <td>33026</td>\n",
       "      <td>20380</td>\n",
       "      <td>629</td>\n",
       "      <td>NaN</td>\n",
       "      <td>NaN</td>\n",
       "    </tr>\n",
       "    <tr>\n",
       "      <th>48351</th>\n",
       "      <td>Lev</td>\n",
       "      <td>Thomas</td>\n",
       "      <td>Dove</td>\n",
       "      <td>2018-10-18</td>\n",
       "      <td>Male</td>\n",
       "      <td>Black</td>\n",
       "      <td>671 john muir road  spring hill, fl</td>\n",
       "      <td>34610</td>\n",
       "      <td>20422</td>\n",
       "      <td>630</td>\n",
       "      <td>NaN</td>\n",
       "      <td>NaN</td>\n",
       "    </tr>\n",
       "    <tr>\n",
       "      <th>48442</th>\n",
       "      <td>Frederick</td>\n",
       "      <td>Cameron</td>\n",
       "      <td>Rodriguez</td>\n",
       "      <td>2019-06-04</td>\n",
       "      <td>Male</td>\n",
       "      <td>Latino</td>\n",
       "      <td>5765 heards forest dr  crestview, fl</td>\n",
       "      <td>32539</td>\n",
       "      <td>20452</td>\n",
       "      <td>631</td>\n",
       "      <td>NaN</td>\n",
       "      <td>NaN</td>\n",
       "    </tr>\n",
       "    <tr>\n",
       "      <th>48456</th>\n",
       "      <td>Liam</td>\n",
       "      <td>Emmett</td>\n",
       "      <td>Sardone</td>\n",
       "      <td>2017-01-08</td>\n",
       "      <td>Male</td>\n",
       "      <td>White</td>\n",
       "      <td>107 brown ave  st. petersburg, fl</td>\n",
       "      <td>33704</td>\n",
       "      <td>20458</td>\n",
       "      <td>632</td>\n",
       "      <td>NaN</td>\n",
       "      <td>NaN</td>\n",
       "    </tr>\n",
       "    <tr>\n",
       "      <th>48458</th>\n",
       "      <td>Cameron</td>\n",
       "      <td>Nolan</td>\n",
       "      <td>Emerson</td>\n",
       "      <td>2019-02-16</td>\n",
       "      <td>Male</td>\n",
       "      <td>White</td>\n",
       "      <td>107 brown ave  st. petersburg, fl</td>\n",
       "      <td>33704</td>\n",
       "      <td>20458</td>\n",
       "      <td>633</td>\n",
       "      <td>NaN</td>\n",
       "      <td>NaN</td>\n",
       "    </tr>\n",
       "  </tbody>\n",
       "</table>\n",
       "<p>633 rows × 12 columns</p>\n",
       "</div>"
      ],
      "text/plain": [
       "      first_name     middle  last_name date_of_birth     sex race_ethnicity  \\\n",
       "82         Sadie      Katia    Tidwell    2017-10-15  Female          Black   \n",
       "83       Liliana    Addisyn   Marshall    2019-12-03  Female          Black   \n",
       "174        Holly       Emma      Yount    2019-05-17  Female          White   \n",
       "306       Emilee  Guadalupe     Haskew    2019-12-30  Female         Latino   \n",
       "323       Gunner       Liam  Parkinson    2020-03-03    Male          White   \n",
       "...          ...        ...        ...           ...     ...            ...   \n",
       "48269     Kaylee    Trinity       Hill    2017-10-20  Female          Black   \n",
       "48351        Lev     Thomas       Dove    2018-10-18    Male          Black   \n",
       "48442  Frederick    Cameron  Rodriguez    2019-06-04    Male         Latino   \n",
       "48456       Liam     Emmett    Sardone    2017-01-08    Male          White   \n",
       "48458    Cameron      Nolan    Emerson    2019-02-16    Male          White   \n",
       "\n",
       "                                    address zipcode  household_id  unique_id  \\\n",
       "82                 w 4th st  north port, fl   34287            48          1   \n",
       "83                 w 4th st  north port, fl   34287            48          2   \n",
       "174    7944 se 62nd ave  unincorporated, fl   32824            88          3   \n",
       "306           749 mi ridge ests  destin, fl   32541           150          4   \n",
       "323        600 n maranantha rd  hialeah, fl   33016           157          5   \n",
       "...                                     ...     ...           ...        ...   \n",
       "48269     98 melanie dr  pembroke pines, fl   33026         20380        629   \n",
       "48351   671 john muir road  spring hill, fl   34610         20422        630   \n",
       "48442  5765 heards forest dr  crestview, fl   32539         20452        631   \n",
       "48456     107 brown ave  st. petersburg, fl   33704         20458        632   \n",
       "48458     107 brown ave  st. petersburg, fl   33704         20458        633   \n",
       "\n",
       "       age  relation_to_household_head  \n",
       "82     NaN                         NaN  \n",
       "83     NaN                         NaN  \n",
       "174    NaN                         NaN  \n",
       "306    NaN                         NaN  \n",
       "323    NaN                         NaN  \n",
       "...    ...                         ...  \n",
       "48269  NaN                         NaN  \n",
       "48351  NaN                         NaN  \n",
       "48442  NaN                         NaN  \n",
       "48456  NaN                         NaN  \n",
       "48458  NaN                         NaN  \n",
       "\n",
       "[633 rows x 12 columns]"
      ]
     },
     "execution_count": 8,
     "metadata": {},
     "output_type": "execute_result"
    }
   ],
   "source": [
    "df_wic"
   ]
  },
  {
   "cell_type": "markdown",
   "id": "7cb2f5a7",
   "metadata": {},
   "source": [
    "# Step 2 - Blocking/Indexing/Cascading\n",
    "\n",
    "## Step 2a - Cascade strategy\n",
    "\n",
    "- For round 1 of the cascade, match only to under-5-year olds in census\n",
    "\n",
    "- For rounds 2+, we'll pull out everyone who linked, and link the remaining kids in WIC to the remaining people in census, in case a child's reported age was inaccurate"
   ]
  },
  {
   "cell_type": "code",
   "execution_count": 9,
   "id": "2f648b96",
   "metadata": {},
   "outputs": [
    {
     "data": {
      "text/plain": [
       "(2243, 12)"
      ]
     },
     "execution_count": 9,
     "metadata": {},
     "output_type": "execute_result"
    }
   ],
   "source": [
    "# Round 1: subset to only kids under 5 in decennial census\n",
    "under5 = df_census.age<5\n",
    "df_census_u5 = df_census.loc[under5]\n",
    "df_census_u5.shape"
   ]
  },
  {
   "cell_type": "markdown",
   "id": "32499bdb",
   "metadata": {},
   "source": [
    "## Step 2b - Set up blocking rules for Splink for round 1 of the cascade\n",
    "\n",
    "### Create a settings dictionary with minimal required settings, and create a linker from it\n",
    "\n",
    "We initialize with the minimal required settings to evaluate potential blocking rules with the `count_num_comparisons_from_blocking_rule` and `cumulative_num_comparisons_from_blocking_rules_chart` functions."
   ]
  },
  {
   "cell_type": "code",
   "execution_count": 10,
   "id": "90f31d70",
   "metadata": {},
   "outputs": [
    {
     "data": {
      "text/plain": [
       "{'link_type': 'link_only', 'sql_dialect': 'duckdb'}"
      ]
     },
     "execution_count": 10,
     "metadata": {},
     "output_type": "execute_result"
    }
   ],
   "source": [
    "# Minimal settings needed to count comparisons\n",
    "initial_settings = {'link_type': 'link_only'}\n",
    "linker = DuckDBLinker([df_wic, df_census_u5], initial_settings)\n",
    "linker._settings_dict"
   ]
  },
  {
   "cell_type": "markdown",
   "id": "6a6e0daa",
   "metadata": {},
   "source": [
    "## Create some blocking rules and count comparisons using the linker created above\n",
    "\n",
    "Order of rules doesn't matter. All that matters is:\n",
    "\n",
    "1. Is (almost) every true match captured by one of the rules?\n",
    "2. Is the total number of comparisons computationally feasible?"
   ]
  },
  {
   "cell_type": "code",
   "execution_count": 11,
   "id": "ee8270c5",
   "metadata": {},
   "outputs": [
    {
     "name": "stdout",
     "output_type": "stream",
     "text": [
      "Cartesion product of input: 1419819 \n",
      "\n",
      "Number of comparisons generated by 'substr(l.first_name, 1,1) = substr(r.first_name, 1,1) and substr(l.last_name, 1,1) = substr(r.last_name, 1,1)': 6,074\n",
      "Number of comparisons generated by 'l.date_of_birth = r.date_of_birth': 1,302\n",
      "Number of comparisons generated by 'l.zipcode = r.zipcode': 3,610\n",
      "Number of comparisons generated by 'l.address = r.address': 821\n",
      "Number of comparisons generated by 'l.last_name = r.last_name': 1,658\n",
      "Number of comparisons generated by 'l.first_name = r.first_name': 2,966\n"
     ]
    },
    {
     "data": {
      "text/html": [
       "\n",
       "<div id=\"altair-viz-9729f1685fac448299ad5c8e6a2fac67\"></div>\n",
       "<script type=\"text/javascript\">\n",
       "  var VEGA_DEBUG = (typeof VEGA_DEBUG == \"undefined\") ? {} : VEGA_DEBUG;\n",
       "  (function(spec, embedOpt){\n",
       "    let outputDiv = document.currentScript.previousElementSibling;\n",
       "    if (outputDiv.id !== \"altair-viz-9729f1685fac448299ad5c8e6a2fac67\") {\n",
       "      outputDiv = document.getElementById(\"altair-viz-9729f1685fac448299ad5c8e6a2fac67\");\n",
       "    }\n",
       "    const paths = {\n",
       "      \"vega\": \"https://cdn.jsdelivr.net/npm//vega@5?noext\",\n",
       "      \"vega-lib\": \"https://cdn.jsdelivr.net/npm//vega-lib?noext\",\n",
       "      \"vega-lite\": \"https://cdn.jsdelivr.net/npm//vega-lite@4.17.0?noext\",\n",
       "      \"vega-embed\": \"https://cdn.jsdelivr.net/npm//vega-embed@6?noext\",\n",
       "    };\n",
       "\n",
       "    function maybeLoadScript(lib, version) {\n",
       "      var key = `${lib.replace(\"-\", \"\")}_version`;\n",
       "      return (VEGA_DEBUG[key] == version) ?\n",
       "        Promise.resolve(paths[lib]) :\n",
       "        new Promise(function(resolve, reject) {\n",
       "          var s = document.createElement('script');\n",
       "          document.getElementsByTagName(\"head\")[0].appendChild(s);\n",
       "          s.async = true;\n",
       "          s.onload = () => {\n",
       "            VEGA_DEBUG[key] = version;\n",
       "            return resolve(paths[lib]);\n",
       "          };\n",
       "          s.onerror = () => reject(`Error loading script: ${paths[lib]}`);\n",
       "          s.src = paths[lib];\n",
       "        });\n",
       "    }\n",
       "\n",
       "    function showError(err) {\n",
       "      outputDiv.innerHTML = `<div class=\"error\" style=\"color:red;\">${err}</div>`;\n",
       "      throw err;\n",
       "    }\n",
       "\n",
       "    function displayChart(vegaEmbed) {\n",
       "      vegaEmbed(outputDiv, spec, embedOpt)\n",
       "        .catch(err => showError(`Javascript Error: ${err.message}<br>This usually means there's a typo in your chart specification. See the javascript console for the full traceback.`));\n",
       "    }\n",
       "\n",
       "    if(typeof define === \"function\" && define.amd) {\n",
       "      requirejs.config({paths});\n",
       "      require([\"vega-embed\"], displayChart, err => showError(`Error loading script: ${err.message}`));\n",
       "    } else {\n",
       "      maybeLoadScript(\"vega\", \"5\")\n",
       "        .then(() => maybeLoadScript(\"vega-lite\", \"4.17.0\"))\n",
       "        .then(() => maybeLoadScript(\"vega-embed\", \"6\"))\n",
       "        .catch(showError)\n",
       "        .then(() => displayChart(vegaEmbed));\n",
       "    }\n",
       "  })({\"$schema\": \"https://vega.github.io/schema/vega-lite/v5.json\", \"width\": 450, \"height\": 200, \"title\": {\"text\": \"Count of Additional Comparisons Generated by Each Blocking Rule\", \"subtitle\": \"(Counts exclude comparisons already generated by previous rules)\"}, \"data\": {\"values\": [{\"row_count\": 6074, \"rule\": \"substr(l.first_name, 1,1) = substr(r.first_name, 1,1) and substr(l.last_name, 1,1) = substr(r.last_name, 1,1)\", \"cumulative_rows\": 6074, \"cartesian\": 1419819, \"reduction_ratio\": \"The rolling reduction ratio with your given blocking rule(s) is 0.996. \\nThis represents the reduction in the total number of comparisons due to your rule(s).\", \"start\": 0}, {\"row_count\": 752, \"rule\": \"l.date_of_birth = r.date_of_birth\", \"cumulative_rows\": 6826, \"cartesian\": 1419819, \"reduction_ratio\": \"The rolling reduction ratio with your given blocking rule(s) is 0.995. \\nThis represents the reduction in the total number of comparisons due to your rule(s).\", \"start\": 6074}, {\"row_count\": 3032, \"rule\": \"l.zipcode = r.zipcode\", \"cumulative_rows\": 9858, \"cartesian\": 1419819, \"reduction_ratio\": \"The rolling reduction ratio with your given blocking rule(s) is 0.993. \\nThis represents the reduction in the total number of comparisons due to your rule(s).\", \"start\": 6826}, {\"row_count\": 4, \"rule\": \"l.address = r.address\", \"cumulative_rows\": 9862, \"cartesian\": 1419819, \"reduction_ratio\": \"The rolling reduction ratio with your given blocking rule(s) is 0.993. \\nThis represents the reduction in the total number of comparisons due to your rule(s).\", \"start\": 9858}, {\"row_count\": 1031, \"rule\": \"l.last_name = r.last_name\", \"cumulative_rows\": 10893, \"cartesian\": 1419819, \"reduction_ratio\": \"The rolling reduction ratio with your given blocking rule(s) is 0.992. \\nThis represents the reduction in the total number of comparisons due to your rule(s).\", \"start\": 9862}, {\"row_count\": 2260, \"rule\": \"l.first_name = r.first_name\", \"cumulative_rows\": 13153, \"cartesian\": 1419819, \"reduction_ratio\": \"The rolling reduction ratio with your given blocking rule(s) is 0.991. \\nThis represents the reduction in the total number of comparisons due to your rule(s).\", \"start\": 10893}]}, \"mark\": \"bar\", \"encoding\": {\"x\": {\"title\": \"Comparisons Generated by Rule(s)\", \"field\": \"start\", \"type\": \"quantitative\"}, \"x2\": {\"field\": \"cumulative_rows\"}, \"y\": {\"field\": \"rule\", \"title\": \"SQL Blocking Rule\", \"sort\": [\"-x2\"]}, \"color\": {\"field\": \"rule\", \"legend\": null, \"scale\": {\"scheme\": \"category20c\"}}, \"order\": {\"field\": \"cumulative_rows\"}, \"tooltip\": [{\"type\": \"nominal\", \"field\": \"rule\", \"title\": \"SQL Condition\"}, {\"type\": \"quantitative\", \"field\": \"row_count\", \"title\": \"Comparisons Generated\", \"format\": \",\"}, {\"type\": \"quantitative\", \"field\": \"cumulative_rows\", \"title\": \"Cumulative Comparisons\", \"format\": \",\"}, {\"type\": \"quantitative\", \"field\": \"cartesian\", \"title\": \"Cartesian Product of Input Data\", \"format\": \",\"}, {\"type\": \"quantitative\", \"field\": \"reduction_ratio\", \"title\": \"Reduction Ratio (cumulative rows/cartesian product)\"}]}}, {\"mode\": \"vega-lite\"});\n",
       "</script>"
      ],
      "text/plain": [
       "<splink.charts.VegaliteNoValidate at 0x7fd8108981f0>"
      ]
     },
     "execution_count": 11,
     "metadata": {},
     "output_type": "execute_result"
    }
   ],
   "source": [
    "prediction_blocking_rules = [\n",
    "    (\n",
    "        'substr(l.first_name, 1,1) = substr(r.first_name, 1,1)'\n",
    "        ' and substr(l.last_name, 1,1) = substr(r.last_name, 1,1)'\n",
    "    ),\n",
    "    'l.date_of_birth = r.date_of_birth',\n",
    "    'l.zipcode = r.zipcode',\n",
    "    'l.address = r.address',\n",
    "    'l.last_name = r.last_name',\n",
    "    'l.first_name = r.first_name',\n",
    "    # Let's first see how well we do without these very loose rules:\n",
    "#     'l.sex = r.sex and substr(l.zipcode, 1,3) = substr(r.zipcode, 1,3)',\n",
    "#     'substr(l.zipcode, 1,3) = substr(r.zipcode, 1,3)', # Results in > 91_000 comparisons\n",
    "]\n",
    "\n",
    "print('Cartesion product of input:', len(df_census_u5) * len(df_wic), '\\n')\n",
    "\n",
    "for rule in prediction_blocking_rules:\n",
    "    count = linker.count_num_comparisons_from_blocking_rule(rule)\n",
    "    print(f\"Number of comparisons generated by '{rule}': {count:,.0f}\")\n",
    "\n",
    "linker.cumulative_num_comparisons_from_blocking_rules_chart(prediction_blocking_rules)"
   ]
  },
  {
   "cell_type": "markdown",
   "id": "bda2d17f",
   "metadata": {},
   "source": [
    "## Try to estimate how the blocking strategy will scale\n",
    "\n",
    "Since we have a very small dataset, try to estimate how many comparisons the above blocking rules would generate in the full census-scale data."
   ]
  },
  {
   "cell_type": "code",
   "execution_count": 12,
   "id": "642df37d",
   "metadata": {},
   "outputs": [
    {
     "data": {
      "text/plain": [
       "8346394559.734445"
      ]
     },
     "execution_count": 12,
     "metadata": {},
     "output_type": "execute_result"
    }
   ],
   "source": [
    "# Looks like maybe 8 billion comparisons would be generated with the above rules\n",
    "(\n",
    "    # Fraction of comparisons should stay about the same when scaling up census\n",
    "    (13_000 / len(df_census)**2) \n",
    "    # Ratio of WIC to census should stay about the same when scaling up census\n",
    "    * (len(df_wic)/len(df_census))\n",
    "    # Estimate census size of 330 million\n",
    "    * (330e6)**2\n",
    ")"
   ]
  },
  {
   "cell_type": "code",
   "execution_count": 13,
   "id": "36e05235",
   "metadata": {},
   "outputs": [
    {
     "data": {
      "text/plain": [
       "59066792268.88992"
      ]
     },
     "execution_count": 13,
     "metadata": {},
     "output_type": "execute_result"
    }
   ],
   "source": [
    "# Looks like maybe 59 billion comparisons would be generated\n",
    "# if we include zip3 blocking\n",
    "(\n",
    "    # Fraction of comparisons should stay about the same when scaling up census\n",
    "    (92_000 / len(df_census)**2) \n",
    "    # Ratio of WIC to census should stay about the same when scaling up census\n",
    "    * (len(df_wic)/len(df_census))\n",
    "    # Estimate census size of 330 million\n",
    "    * (330e6)**2\n",
    ")"
   ]
  },
  {
   "cell_type": "markdown",
   "id": "a6d2cee8",
   "metadata": {},
   "source": [
    "# Step 2.5 - Model selection and training\n",
    "\n",
    "We'll be using Splink to run the Fellegi-Sunter algorithm on our datasets, so we need to specify settings for our `Linker` object and estimate the `m` and `u` probabilities.\n",
    "\n",
    "## Step 2.5a - Define comparisons we want to use to determine links\n",
    "\n",
    "Here's an example of how to specify column comparisons for Splink\n",
    "\n",
    "```python\n",
    "# Example comparisons from Robin Linacre via Abie \n",
    "\"comparisons\": [\n",
    "        levenshtein(\"first_name\", 2, term_frequency_adjustments=True),\n",
    "        levenshtein(\"last_name\", 2, term_frequency_adjustments=True),\n",
    "        levenshtein(\"dob\", 2, term_frequency_adjustments=True),\n",
    "        exact_match(\"sex\"),\n",
    "        levenshtein(\"zip\", 2, term_frequency_adjustments=True),\n",
    "        exact_match(\"ssn\"),\n",
    "    ],\n",
    "```\n"
   ]
  },
  {
   "cell_type": "code",
   "execution_count": 14,
   "id": "d317f9d7",
   "metadata": {},
   "outputs": [],
   "source": [
    "# Comparisons for simulated WIC and decennial census data\n",
    "comparisons = [\n",
    "        cl.levenshtein_at_thresholds(\"first_name\"),\n",
    "        cl.levenshtein_at_thresholds(\"last_name\"),\n",
    "        cl.levenshtein_at_thresholds(\"date_of_birth\", 1),\n",
    "        cl.exact_match(\"sex\"),\n",
    "        cl.levenshtein_at_thresholds(\"zipcode\"),\n",
    "    ]"
   ]
  },
  {
   "cell_type": "markdown",
   "id": "0d8fd297",
   "metadata": {},
   "source": [
    "## Step 2.5b - Training/parameter estimation\n",
    "\n",
    "Now we need to estimate the `m` and `u` probabilities for our F-S model.\n",
    "\n",
    "## Step 2.5b(1) - Estimate probability two random records match, for use in estimating `m` probabilities with EM algorithm\n",
    "\n",
    "As a first approximation, we expect every record in WIC to match one record in the census, so we can estimate this as\n",
    "\n",
    "$$\n",
    "\\frac{\\text{number of matches}}{\\text{number of pairs}} \\approx\n",
    "\\frac{\\text{# records in WIC}}{(\\text{# records in WIC}) \\cdot (\\text{# records in census})} = \\frac{1}{\\text{# records in census}}.\n",
    "$$"
   ]
  },
  {
   "cell_type": "code",
   "execution_count": 15,
   "id": "4548e334",
   "metadata": {},
   "outputs": [
    {
     "data": {
      "text/plain": [
       "0.00044583147570218456"
      ]
     },
     "execution_count": 15,
     "metadata": {},
     "output_type": "execute_result"
    }
   ],
   "source": [
    "probability_two_random_records_match = 1/len(df_census_u5)\n",
    "probability_two_random_records_match"
   ]
  },
  {
   "cell_type": "markdown",
   "id": "5d188b39",
   "metadata": {},
   "source": [
    "### Create a settings dictionary using parameters defined above, and reilitialize the linker with them\n",
    "\n",
    "Namely, we need the prediction blocking rules, comparisons, and the probability two random records match before we can initialize the settings (idiosyncracy of Splink)."
   ]
  },
  {
   "cell_type": "code",
   "execution_count": 16,
   "id": "b7203e71",
   "metadata": {},
   "outputs": [],
   "source": [
    "settings = {\n",
    "    \"link_type\": \"link_only\",\n",
    "    \"comparisons\": comparisons,\n",
    "    \"probability_two_random_records_match\": probability_two_random_records_match,\n",
    "    \"blocking_rules_to_generate_predictions\": prediction_blocking_rules,\n",
    "    \"retain_matching_columns\": True,\n",
    "    \"retain_intermediate_calculation_columns\": True,\n",
    "}\n",
    "\n",
    "linker.initialise_settings(settings)"
   ]
  },
  {
   "cell_type": "markdown",
   "id": "d44e00c6",
   "metadata": {},
   "source": [
    "## Step 2.5b(2) - Use random sampling to estimate `u` probabilities for the comparisons defined above\n",
    "\n",
    "This requires the comparisons to be defined in the linker's settings."
   ]
  },
  {
   "cell_type": "code",
   "execution_count": 17,
   "id": "1c613827",
   "metadata": {
    "scrolled": true
   },
   "outputs": [
    {
     "name": "stderr",
     "output_type": "stream",
     "text": [
      "----- Estimating u probabilities using random sampling -----\n",
      "\n",
      "Estimated u probabilities using random sampling\n",
      "\n",
      "Your model is not yet fully trained. Missing estimates for:\n",
      "    - first_name (no m values are trained).\n",
      "    - last_name (no m values are trained).\n",
      "    - date_of_birth (no m values are trained).\n",
      "    - sex (no m values are trained).\n",
      "    - zipcode (no m values are trained).\n"
     ]
    },
    {
     "name": "stdout",
     "output_type": "stream",
     "text": [
      "CPU times: user 2.94 s, sys: 3.33 ms, total: 2.95 s\n",
      "Wall time: 1.5 s\n"
     ]
    }
   ],
   "source": [
    "%%time\n",
    "linker.estimate_u_using_random_sampling(target_rows=len(df_wic)*len(df_census_u5))"
   ]
  },
  {
   "cell_type": "code",
   "execution_count": 18,
   "id": "2b42ad03",
   "metadata": {
    "scrolled": false
   },
   "outputs": [
    {
     "data": {
      "text/html": [
       "\n",
       "<div id=\"altair-viz-a022b9df690f45cfb117e32d04980dc2\"></div>\n",
       "<script type=\"text/javascript\">\n",
       "  var VEGA_DEBUG = (typeof VEGA_DEBUG == \"undefined\") ? {} : VEGA_DEBUG;\n",
       "  (function(spec, embedOpt){\n",
       "    let outputDiv = document.currentScript.previousElementSibling;\n",
       "    if (outputDiv.id !== \"altair-viz-a022b9df690f45cfb117e32d04980dc2\") {\n",
       "      outputDiv = document.getElementById(\"altair-viz-a022b9df690f45cfb117e32d04980dc2\");\n",
       "    }\n",
       "    const paths = {\n",
       "      \"vega\": \"https://cdn.jsdelivr.net/npm//vega@5?noext\",\n",
       "      \"vega-lib\": \"https://cdn.jsdelivr.net/npm//vega-lib?noext\",\n",
       "      \"vega-lite\": \"https://cdn.jsdelivr.net/npm//vega-lite@4.17.0?noext\",\n",
       "      \"vega-embed\": \"https://cdn.jsdelivr.net/npm//vega-embed@6?noext\",\n",
       "    };\n",
       "\n",
       "    function maybeLoadScript(lib, version) {\n",
       "      var key = `${lib.replace(\"-\", \"\")}_version`;\n",
       "      return (VEGA_DEBUG[key] == version) ?\n",
       "        Promise.resolve(paths[lib]) :\n",
       "        new Promise(function(resolve, reject) {\n",
       "          var s = document.createElement('script');\n",
       "          document.getElementsByTagName(\"head\")[0].appendChild(s);\n",
       "          s.async = true;\n",
       "          s.onload = () => {\n",
       "            VEGA_DEBUG[key] = version;\n",
       "            return resolve(paths[lib]);\n",
       "          };\n",
       "          s.onerror = () => reject(`Error loading script: ${paths[lib]}`);\n",
       "          s.src = paths[lib];\n",
       "        });\n",
       "    }\n",
       "\n",
       "    function showError(err) {\n",
       "      outputDiv.innerHTML = `<div class=\"error\" style=\"color:red;\">${err}</div>`;\n",
       "      throw err;\n",
       "    }\n",
       "\n",
       "    function displayChart(vegaEmbed) {\n",
       "      vegaEmbed(outputDiv, spec, embedOpt)\n",
       "        .catch(err => showError(`Javascript Error: ${err.message}<br>This usually means there's a typo in your chart specification. See the javascript console for the full traceback.`));\n",
       "    }\n",
       "\n",
       "    if(typeof define === \"function\" && define.amd) {\n",
       "      requirejs.config({paths});\n",
       "      require([\"vega-embed\"], displayChart, err => showError(`Error loading script: ${err.message}`));\n",
       "    } else {\n",
       "      maybeLoadScript(\"vega\", \"5\")\n",
       "        .then(() => maybeLoadScript(\"vega-lite\", \"4.17.0\"))\n",
       "        .then(() => maybeLoadScript(\"vega-embed\", \"6\"))\n",
       "        .catch(showError)\n",
       "        .then(() => displayChart(vegaEmbed));\n",
       "    }\n",
       "  })({\"config\": {\"view\": {\"width\": 400, \"height\": 300}, \"title\": {\"anchor\": \"middle\", \"offset\": 10}, \"header\": {\"title\": null}}, \"hconcat\": [{\"mark\": \"bar\", \"title\": {\"text\": \"Amongst matching record comparisons:\", \"fontWeight\": \"bold\", \"fontSize\": 12}, \"encoding\": {\"row\": {\"type\": \"nominal\", \"field\": \"comparison_name\", \"sort\": {\"field\": \"comparison_sort_order\"}, \"header\": {\"labelAngle\": 0, \"labelAnchor\": \"middle\", \"labelAlign\": \"left\"}}, \"x\": {\"type\": \"quantitative\", \"field\": \"m_probability\", \"axis\": {\"title\": \"Proportion of record comparisons\"}}, \"y\": {\"type\": \"nominal\", \"axis\": {\"title\": null}, \"field\": \"label_for_charts\", \"sort\": {\"field\": \"comparison_vector_value\", \"order\": \"descending\"}}, \"tooltip\": [{\"type\": \"nominal\", \"field\": \"m_probability_description\", \"title\": \"m probability description\"}, {\"type\": \"nominal\", \"field\": \"comparison_name\", \"title\": \"Comparison column name\"}, {\"type\": \"ordinal\", \"field\": \"label_for_charts\", \"title\": \"Label\"}, {\"type\": \"nominal\", \"field\": \"sql_condition\", \"title\": \"SQL condition\"}, {\"type\": \"quantitative\", \"field\": \"m_probability\", \"format\": \".4p\", \"title\": \"m probability\"}, {\"type\": \"quantitative\", \"field\": \"u_probability\", \"format\": \".4p\", \"title\": \"u probability\"}, {\"type\": \"quantitative\", \"field\": \"bayes_factor\", \"title\": \"Bayes factor = m/u\", \"format\": \",.4f\"}, {\"type\": \"quantitative\", \"field\": \"log2_bayes_factor\", \"title\": \"Match weight = log2(m/u)\", \"format\": \",.4f\"}], \"color\": {\"value\": \"green\"}}, \"resolve\": {\"scale\": {\"y\": \"independent\"}}, \"transform\": [{\"filter\": \"(datum.bayes_factor != 'no-op filter due to vega lite issue 4680')\"}], \"width\": 150, \"height\": 50}, {\"mark\": \"bar\", \"title\": {\"text\": \"Amongst non-matching record comparisons:\", \"fontWeight\": \"bold\", \"fontSize\": 12}, \"encoding\": {\"row\": {\"type\": \"nominal\", \"field\": \"comparison_name\", \"sort\": {\"field\": \"comparison_sort_order\"}, \"header\": {\"labels\": false}}, \"x\": {\"type\": \"quantitative\", \"field\": \"u_probability\", \"axis\": {\"title\": \"Proportion of record comparisons\"}}, \"y\": {\"type\": \"nominal\", \"axis\": {\"title\": null}, \"field\": \"label_for_charts\", \"sort\": {\"field\": \"comparison_vector_value\", \"order\": \"descending\"}}, \"tooltip\": [{\"type\": \"nominal\", \"field\": \"u_probability_description\", \"title\": \"u probability description\"}, {\"type\": \"nominal\", \"field\": \"comparison_name\", \"title\": \"Comparison column name\"}, {\"type\": \"ordinal\", \"field\": \"label_for_charts\", \"title\": \"Label\"}, {\"type\": \"nominal\", \"field\": \"sql_condition\", \"title\": \"SQL condition\"}, {\"type\": \"quantitative\", \"field\": \"m_probability\", \"format\": \".4p\", \"title\": \"m probability\"}, {\"type\": \"quantitative\", \"field\": \"u_probability\", \"format\": \".4p\", \"title\": \"u probability\"}, {\"type\": \"quantitative\", \"field\": \"bayes_factor\", \"title\": \"Bayes factor = m/u\", \"format\": \",.4f\"}, {\"type\": \"quantitative\", \"field\": \"log2_bayes_factor\", \"title\": \"Match weight = log2(m/u)\", \"format\": \",.4f\"}], \"color\": {\"value\": \"red\"}}, \"resolve\": {\"scale\": {\"y\": \"independent\"}}, \"transform\": [{\"filter\": \"(datum.bayes_factor != 'no-op filter2 due to vega lite issue 4680')\"}], \"width\": 150, \"height\": 50}], \"data\": {\"values\": [{\"comparison_name\": \"first_name\", \"sql_condition\": \"\\\"first_name_l\\\" = \\\"first_name_r\\\"\", \"label_for_charts\": \"Exact match\", \"m_probability\": 0.95, \"u_probability\": 0.0026250185013741807, \"m_probability_description\": \"Amongst matching record comparisons, 95.00% of records are in the exact match comparison level\", \"u_probability_description\": \"Amongst non-matching record comparisons, 0.26% of records are in the exact match comparison level\", \"has_tf_adjustments\": false, \"tf_adjustment_column\": null, \"tf_adjustment_weight\": 1.0, \"is_null_level\": false, \"bayes_factor\": 361.9022111663902, \"log2_bayes_factor\": 8.499456112155086, \"comparison_vector_value\": 3, \"max_comparison_vector_value\": 3, \"bayes_factor_description\": \"If comparison level is `exact match` then comparison is 361.90 times more likely to be a match\", \"probability_two_random_records_match\": 0.00044583147570218456, \"comparison_sort_order\": 0}, {\"comparison_name\": \"first_name\", \"sql_condition\": \"levenshtein(\\\"first_name_l\\\", \\\"first_name_r\\\") <= 1\", \"label_for_charts\": \"levenshtein <= 1\", \"m_probability\": 0.01666666666666668, \"u_probability\": 0.001121691156198033, \"m_probability_description\": \"Amongst matching record comparisons, 1.67% of records are in the levenshtein <= 1 comparison level\", \"u_probability_description\": \"Amongst non-matching record comparisons, 0.11% of records are in the levenshtein <= 1 comparison level\", \"has_tf_adjustments\": false, \"tf_adjustment_column\": null, \"tf_adjustment_weight\": 1.0, \"is_null_level\": false, \"bayes_factor\": 14.858516601983625, \"log2_bayes_factor\": 3.8932181866867395, \"comparison_vector_value\": 2, \"max_comparison_vector_value\": 3, \"bayes_factor_description\": \"If comparison level is `levenshtein <= 1` then comparison is 14.86 times more likely to be a match\", \"probability_two_random_records_match\": 0.00044583147570218456, \"comparison_sort_order\": 0}, {\"comparison_name\": \"first_name\", \"sql_condition\": \"levenshtein(\\\"first_name_l\\\", \\\"first_name_r\\\") <= 2\", \"label_for_charts\": \"levenshtein <= 2\", \"m_probability\": 0.01666666666666668, \"u_probability\": 0.005457542611204142, \"m_probability_description\": \"Amongst matching record comparisons, 1.67% of records are in the levenshtein <= 2 comparison level\", \"u_probability_description\": \"Amongst non-matching record comparisons, 0.55% of records are in the levenshtein <= 2 comparison level\", \"has_tf_adjustments\": false, \"tf_adjustment_column\": null, \"tf_adjustment_weight\": 1.0, \"is_null_level\": false, \"bayes_factor\": 3.053877514845345, \"log2_bayes_factor\": 1.6106421995712807, \"comparison_vector_value\": 1, \"max_comparison_vector_value\": 3, \"bayes_factor_description\": \"If comparison level is `levenshtein <= 2` then comparison is 3.05 times more likely to be a match\", \"probability_two_random_records_match\": 0.00044583147570218456, \"comparison_sort_order\": 0}, {\"comparison_name\": \"first_name\", \"sql_condition\": \"ELSE\", \"label_for_charts\": \"All other comparisons\", \"m_probability\": 0.01666666666666668, \"u_probability\": 0.9907957477312237, \"m_probability_description\": \"Amongst matching record comparisons, 1.67% of records are in the all other comparisons comparison level\", \"u_probability_description\": \"Amongst non-matching record comparisons, 99.08% of records are in the all other comparisons comparison level\", \"has_tf_adjustments\": false, \"tf_adjustment_column\": null, \"tf_adjustment_weight\": 1.0, \"is_null_level\": false, \"bayes_factor\": 0.016821495959011626, \"log2_bayes_factor\": -5.893550177601514, \"comparison_vector_value\": 0, \"max_comparison_vector_value\": 3, \"bayes_factor_description\": \"If comparison level is `all other comparisons` then comparison is  59.45 times less likely to be a match\", \"probability_two_random_records_match\": 0.00044583147570218456, \"comparison_sort_order\": 0}, {\"comparison_name\": \"last_name\", \"sql_condition\": \"\\\"last_name_l\\\" = \\\"last_name_r\\\"\", \"label_for_charts\": \"Exact match\", \"m_probability\": 0.95, \"u_probability\": 0.001851588506220815, \"m_probability_description\": \"Amongst matching record comparisons, 95.00% of records are in the exact match comparison level\", \"u_probability_description\": \"Amongst non-matching record comparisons, 0.19% of records are in the exact match comparison level\", \"has_tf_adjustments\": false, \"tf_adjustment_column\": null, \"tf_adjustment_weight\": 1.0, \"is_null_level\": false, \"bayes_factor\": 513.0729623824451, \"log2_bayes_factor\": 9.003020191011458, \"comparison_vector_value\": 3, \"max_comparison_vector_value\": 3, \"bayes_factor_description\": \"If comparison level is `exact match` then comparison is 513.07 times more likely to be a match\", \"probability_two_random_records_match\": 0.00044583147570218456, \"comparison_sort_order\": 1}, {\"comparison_name\": \"last_name\", \"sql_condition\": \"levenshtein(\\\"last_name_l\\\", \\\"last_name_r\\\") <= 1\", \"label_for_charts\": \"levenshtein <= 1\", \"m_probability\": 0.01666666666666668, \"u_probability\": 0.00014220664075990586, \"m_probability_description\": \"Amongst matching record comparisons, 1.67% of records are in the levenshtein <= 1 comparison level\", \"u_probability_description\": \"Amongst non-matching record comparisons, 0.01% of records are in the levenshtein <= 1 comparison level\", \"has_tf_adjustments\": false, \"tf_adjustment_column\": null, \"tf_adjustment_weight\": 1.0, \"is_null_level\": false, \"bayes_factor\": 117.20034013605452, \"log2_bayes_factor\": 6.872832946496379, \"comparison_vector_value\": 2, \"max_comparison_vector_value\": 3, \"bayes_factor_description\": \"If comparison level is `levenshtein <= 1` then comparison is 117.20 times more likely to be a match\", \"probability_two_random_records_match\": 0.00044583147570218456, \"comparison_sort_order\": 1}, {\"comparison_name\": \"last_name\", \"sql_condition\": \"levenshtein(\\\"last_name_l\\\", \\\"last_name_r\\\") <= 2\", \"label_for_charts\": \"levenshtein <= 2\", \"m_probability\": 0.01666666666666668, \"u_probability\": 0.0017587188632755704, \"m_probability_description\": \"Amongst matching record comparisons, 1.67% of records are in the levenshtein <= 2 comparison level\", \"u_probability_description\": \"Amongst non-matching record comparisons, 0.18% of records are in the levenshtein <= 2 comparison level\", \"has_tf_adjustments\": false, \"tf_adjustment_column\": null, \"tf_adjustment_weight\": 1.0, \"is_null_level\": false, \"bayes_factor\": 9.47659515951596, \"log2_bayes_factor\": 3.244368807138636, \"comparison_vector_value\": 1, \"max_comparison_vector_value\": 3, \"bayes_factor_description\": \"If comparison level is `levenshtein <= 2` then comparison is 9.48 times more likely to be a match\", \"probability_two_random_records_match\": 0.00044583147570218456, \"comparison_sort_order\": 1}, {\"comparison_name\": \"last_name\", \"sql_condition\": \"ELSE\", \"label_for_charts\": \"All other comparisons\", \"m_probability\": 0.01666666666666668, \"u_probability\": 0.9962474859897437, \"m_probability_description\": \"Amongst matching record comparisons, 1.67% of records are in the all other comparisons comparison level\", \"u_probability_description\": \"Amongst non-matching record comparisons, 99.62% of records are in the all other comparisons comparison level\", \"has_tf_adjustments\": false, \"tf_adjustment_column\": null, \"tf_adjustment_weight\": 1.0, \"is_null_level\": false, \"bayes_factor\": 0.016729444140186532, \"log2_bayes_factor\": -5.9014666792172825, \"comparison_vector_value\": 0, \"max_comparison_vector_value\": 3, \"bayes_factor_description\": \"If comparison level is `all other comparisons` then comparison is  59.77 times less likely to be a match\", \"probability_two_random_records_match\": 0.00044583147570218456, \"comparison_sort_order\": 1}, {\"comparison_name\": \"date_of_birth\", \"sql_condition\": \"\\\"date_of_birth_l\\\" = \\\"date_of_birth_r\\\"\", \"label_for_charts\": \"Exact match\", \"m_probability\": 0.95, \"u_probability\": 0.001533800196767556, \"m_probability_description\": \"Amongst matching record comparisons, 95.00% of records are in the exact match comparison level\", \"u_probability_description\": \"Amongst non-matching record comparisons, 0.15% of records are in the exact match comparison level\", \"has_tf_adjustments\": false, \"tf_adjustment_column\": null, \"tf_adjustment_weight\": 1.0, \"is_null_level\": false, \"bayes_factor\": 619.3766319772942, \"log2_bayes_factor\": 9.274673143393644, \"comparison_vector_value\": 2, \"max_comparison_vector_value\": 2, \"bayes_factor_description\": \"If comparison level is `exact match` then comparison is 619.38 times more likely to be a match\", \"probability_two_random_records_match\": 0.00044583147570218456, \"comparison_sort_order\": 2}, {\"comparison_name\": \"date_of_birth\", \"sql_condition\": \"levenshtein(\\\"date_of_birth_l\\\", \\\"date_of_birth_r\\\") <= 1\", \"label_for_charts\": \"levenshtein <= 1\", \"m_probability\": 0.025000000000000022, \"u_probability\": 0.010539253386114247, \"m_probability_description\": \"Amongst matching record comparisons, 2.50% of records are in the levenshtein <= 1 comparison level\", \"u_probability_description\": \"Amongst non-matching record comparisons, 1.05% of records are in the levenshtein <= 1 comparison level\", \"has_tf_adjustments\": false, \"tf_adjustment_column\": null, \"tf_adjustment_weight\": 1.0, \"is_null_level\": false, \"bayes_factor\": 2.3720845380696702, \"log2_bayes_factor\": 1.2461554266126507, \"comparison_vector_value\": 1, \"max_comparison_vector_value\": 2, \"bayes_factor_description\": \"If comparison level is `levenshtein <= 1` then comparison is 2.37 times more likely to be a match\", \"probability_two_random_records_match\": 0.00044583147570218456, \"comparison_sort_order\": 2}, {\"comparison_name\": \"date_of_birth\", \"sql_condition\": \"ELSE\", \"label_for_charts\": \"All other comparisons\", \"m_probability\": 0.025000000000000022, \"u_probability\": 0.9879269464171182, \"m_probability_description\": \"Amongst matching record comparisons, 2.50% of records are in the all other comparisons comparison level\", \"u_probability_description\": \"Amongst non-matching record comparisons, 98.79% of records are in the all other comparisons comparison level\", \"has_tf_adjustments\": false, \"tf_adjustment_column\": null, \"tf_adjustment_weight\": 1.0, \"is_null_level\": false, \"bayes_factor\": 0.025305514836564274, \"log2_bayes_factor\": -5.304404363734649, \"comparison_vector_value\": 0, \"max_comparison_vector_value\": 2, \"bayes_factor_description\": \"If comparison level is `all other comparisons` then comparison is  39.52 times less likely to be a match\", \"probability_two_random_records_match\": 0.00044583147570218456, \"comparison_sort_order\": 2}, {\"comparison_name\": \"sex\", \"sql_condition\": \"\\\"sex_l\\\" = \\\"sex_r\\\"\", \"label_for_charts\": \"Exact match\", \"m_probability\": 0.95, \"u_probability\": 0.4933264455014816, \"m_probability_description\": \"Amongst matching record comparisons, 95.00% of records are in the exact match comparison level\", \"u_probability_description\": \"Amongst non-matching record comparisons, 49.33% of records are in the exact match comparison level\", \"has_tf_adjustments\": false, \"tf_adjustment_column\": null, \"tf_adjustment_weight\": 1.0, \"is_null_level\": false, \"bayes_factor\": 1.9257025619907637, \"log2_bayes_factor\": 0.9453848862141513, \"comparison_vector_value\": 1, \"max_comparison_vector_value\": 1, \"bayes_factor_description\": \"If comparison level is `exact match` then comparison is 1.93 times more likely to be a match\", \"probability_two_random_records_match\": 0.00044583147570218456, \"comparison_sort_order\": 3}, {\"comparison_name\": \"sex\", \"sql_condition\": \"ELSE\", \"label_for_charts\": \"All other comparisons\", \"m_probability\": 0.050000000000000044, \"u_probability\": 0.5066735544985185, \"m_probability_description\": \"Amongst matching record comparisons, 5.00% of records are in the all other comparisons comparison level\", \"u_probability_description\": \"Amongst non-matching record comparisons, 50.67% of records are in the all other comparisons comparison level\", \"has_tf_adjustments\": false, \"tf_adjustment_column\": null, \"tf_adjustment_weight\": 1.0, \"is_null_level\": false, \"bayes_factor\": 0.09868286899143114, \"log2_bayes_factor\": -3.3410565302823914, \"comparison_vector_value\": 0, \"max_comparison_vector_value\": 1, \"bayes_factor_description\": \"If comparison level is `all other comparisons` then comparison is  10.13 times less likely to be a match\", \"probability_two_random_records_match\": 0.00044583147570218456, \"comparison_sort_order\": 3}, {\"comparison_name\": \"zipcode\", \"sql_condition\": \"\\\"zipcode_l\\\" = \\\"zipcode_r\\\"\", \"label_for_charts\": \"Exact match\", \"m_probability\": 0.95, \"u_probability\": 0.0032156113869790956, \"m_probability_description\": \"Amongst matching record comparisons, 95.00% of records are in the exact match comparison level\", \"u_probability_description\": \"Amongst non-matching record comparisons, 0.32% of records are in the exact match comparison level\", \"has_tf_adjustments\": false, \"tf_adjustment_column\": null, \"tf_adjustment_weight\": 1.0, \"is_null_level\": false, \"bayes_factor\": 295.4337093862816, \"log2_bayes_factor\": 8.206690638727139, \"comparison_vector_value\": 3, \"max_comparison_vector_value\": 3, \"bayes_factor_description\": \"If comparison level is `exact match` then comparison is 295.43 times more likely to be a match\", \"probability_two_random_records_match\": 0.00044583147570218456, \"comparison_sort_order\": 4}, {\"comparison_name\": \"zipcode\", \"sql_condition\": \"levenshtein(\\\"zipcode_l\\\", \\\"zipcode_r\\\") <= 1\", \"label_for_charts\": \"levenshtein <= 1\", \"m_probability\": 0.01666666666666668, \"u_probability\": 0.016928394603112875, \"m_probability_description\": \"Amongst matching record comparisons, 1.67% of records are in the levenshtein <= 1 comparison level\", \"u_probability_description\": \"Amongst non-matching record comparisons, 1.69% of records are in the levenshtein <= 1 comparison level\", \"has_tf_adjustments\": false, \"tf_adjustment_column\": null, \"tf_adjustment_weight\": 1.0, \"is_null_level\": false, \"bayes_factor\": 0.9845391165209448, \"log2_bayes_factor\": -0.022479568202177898, \"comparison_vector_value\": 2, \"max_comparison_vector_value\": 3, \"bayes_factor_description\": \"If comparison level is `levenshtein <= 1` then comparison is  1.02 times less likely to be a match\", \"probability_two_random_records_match\": 0.00044583147570218456, \"comparison_sort_order\": 4}, {\"comparison_name\": \"zipcode\", \"sql_condition\": \"levenshtein(\\\"zipcode_l\\\", \\\"zipcode_r\\\") <= 2\", \"label_for_charts\": \"levenshtein <= 2\", \"m_probability\": 0.01666666666666668, \"u_probability\": 0.12887839590909222, \"m_probability_description\": \"Amongst matching record comparisons, 1.67% of records are in the levenshtein <= 2 comparison level\", \"u_probability_description\": \"Amongst non-matching record comparisons, 12.89% of records are in the levenshtein <= 2 comparison level\", \"has_tf_adjustments\": false, \"tf_adjustment_column\": null, \"tf_adjustment_weight\": 1.0, \"is_null_level\": false, \"bayes_factor\": 0.12932087297566114, \"log2_bayes_factor\": -2.950972943419555, \"comparison_vector_value\": 1, \"max_comparison_vector_value\": 3, \"bayes_factor_description\": \"If comparison level is `levenshtein <= 2` then comparison is  7.73 times less likely to be a match\", \"probability_two_random_records_match\": 0.00044583147570218456, \"comparison_sort_order\": 4}, {\"comparison_name\": \"zipcode\", \"sql_condition\": \"ELSE\", \"label_for_charts\": \"All other comparisons\", \"m_probability\": 0.01666666666666668, \"u_probability\": 0.8509775981008157, \"m_probability_description\": \"Amongst matching record comparisons, 1.67% of records are in the all other comparisons comparison level\", \"u_probability_description\": \"Amongst non-matching record comparisons, 85.10% of records are in the all other comparisons comparison level\", \"has_tf_adjustments\": false, \"tf_adjustment_column\": null, \"tf_adjustment_weight\": 1.0, \"is_null_level\": false, \"bayes_factor\": 0.019585317761434386, \"log2_bayes_factor\": -5.674083654331271, \"comparison_vector_value\": 0, \"max_comparison_vector_value\": 3, \"bayes_factor_description\": \"If comparison level is `all other comparisons` then comparison is  51.06 times less likely to be a match\", \"probability_two_random_records_match\": 0.00044583147570218456, \"comparison_sort_order\": 4}]}, \"title\": {\"text\": \"Proportion of record comparisons in each comparison level by match status\", \"subtitle\": \"(m and u probabilities)\"}, \"$schema\": \"https://vega.github.io/schema/vega-lite/v4.json\"}, {\"mode\": \"vega-lite\"});\n",
       "</script>"
      ],
      "text/plain": [
       "<splink.charts.VegaliteNoValidate at 0x7fd80f03c850>"
      ]
     },
     "execution_count": 18,
     "metadata": {},
     "output_type": "execute_result"
    }
   ],
   "source": [
    "# u probabilities have been estimated, but m probabilities have default values\n",
    "linker.m_u_parameters_chart()"
   ]
  },
  {
   "cell_type": "markdown",
   "id": "096419a2",
   "metadata": {},
   "source": [
    "## Step 2.5b(3) - Define training blocking rules for EM algorithm, and estimate `m` probabilities\n",
    "\n",
    "According to the Splink documentation for the training blocking rules:\n",
    "\n",
    "> It does not matter if this blocking rule excludes some true matches - it just needs to generate examples of matches and non matches. The expectation maximisation algorithm seems to work best when the pairwise record comparisons are a mix of anywhere between around 0.1% and 99.9% true matches.\n",
    "\n",
    "Thus the criteria for choosing a list of training blocking rules are:\n",
    "\n",
    "1. Each rule must produce a small enough block for the EM algorithm to be computationally tractible.\n",
    "\n",
    "1. Each rule must contain both matches and non-matches, ideally with a mix of between 0.1% and 99.9% true matches.\n",
    "\n",
    "1. Every column must have a blocking rule in which it does *not* appear, because probabilities for the blocked columns can't be estimated."
   ]
  },
  {
   "cell_type": "code",
   "execution_count": 19,
   "id": "5a52153f",
   "metadata": {},
   "outputs": [
    {
     "name": "stdout",
     "output_type": "stream",
     "text": [
      "Number of comparisons generated by 'l.first_name = r.first_name': 2,966\n",
      "Number of comparisons generated by 'l.zipcode = r.zipcode': 3,610\n"
     ]
    }
   ],
   "source": [
    "training_blocking_rules = [\n",
    "    \"l.first_name = r.first_name\",\n",
    "    \"l.zipcode = r.zipcode\",\n",
    "]\n",
    "\n",
    "for rule in training_blocking_rules:\n",
    "    count = linker.count_num_comparisons_from_blocking_rule(rule)\n",
    "    print(f\"Number of comparisons generated by '{rule}': {count:,.0f}\")"
   ]
  },
  {
   "cell_type": "code",
   "execution_count": 20,
   "id": "ba3b0194",
   "metadata": {},
   "outputs": [
    {
     "name": "stderr",
     "output_type": "stream",
     "text": [
      "\n",
      "----- Starting EM training session -----\n",
      "\n",
      "Estimating the m probabilities of the model by blocking on:\n",
      "l.first_name = r.first_name\n",
      "\n",
      "Parameter estimates will be made for the following comparison(s):\n",
      "    - last_name\n",
      "    - date_of_birth\n",
      "    - sex\n",
      "    - zipcode\n",
      "\n",
      "Parameter estimates cannot be made for the following comparison(s) since they are used in the blocking rules: \n",
      "    - first_name\n",
      "\n",
      "Iteration 1: Largest change in params was 0.0479 in probability_two_random_records_match\n",
      "Iteration 2: Largest change in params was 0.00039 in the m_probability of last_name, level `Exact match`\n",
      "Iteration 3: Largest change in params was 1.94e-05 in the m_probability of last_name, level `Exact match`\n",
      "\n",
      "EM converged after 3 iterations\n",
      "\n",
      "Your model is not yet fully trained. Missing estimates for:\n",
      "    - first_name (no m values are trained).\n",
      "\n",
      "----- Starting EM training session -----\n",
      "\n",
      "Estimating the m probabilities of the model by blocking on:\n",
      "l.zipcode = r.zipcode\n",
      "\n",
      "Parameter estimates will be made for the following comparison(s):\n",
      "    - first_name\n",
      "    - last_name\n",
      "    - date_of_birth\n",
      "    - sex\n",
      "\n",
      "Parameter estimates cannot be made for the following comparison(s) since they are used in the blocking rules: \n",
      "    - zipcode\n",
      "\n",
      "Iteration 1: Largest change in params was 0.0349 in probability_two_random_records_match\n",
      "Iteration 2: Largest change in params was 0.000105 in the m_probability of date_of_birth, level `All other comparisons`\n",
      "Iteration 3: Largest change in params was 6.98e-06 in the m_probability of last_name, level `All other comparisons`\n",
      "\n",
      "EM converged after 3 iterations\n",
      "\n",
      "Your model is fully trained. All comparisons have at least one estimate for their m and u values\n"
     ]
    },
    {
     "name": "stdout",
     "output_type": "stream",
     "text": [
      "CPU times: user 372 ms, sys: 15.2 ms, total: 387 ms\n",
      "Wall time: 362 ms\n"
     ]
    }
   ],
   "source": [
    "%%time\n",
    "training_sessions = {}\n",
    "for rule in training_blocking_rules:\n",
    "    training_sessions[rule] = linker.estimate_parameters_using_expectation_maximisation(rule)\n",
    "    "
   ]
  },
  {
   "cell_type": "markdown",
   "id": "18605b7b",
   "metadata": {},
   "source": [
    "## View the estimated `m` and `u` parameters as a chart"
   ]
  },
  {
   "cell_type": "code",
   "execution_count": 21,
   "id": "68c71b93",
   "metadata": {},
   "outputs": [
    {
     "data": {
      "text/html": [
       "\n",
       "<div id=\"altair-viz-f4c961097e114d24a9f86bf84b6f7766\"></div>\n",
       "<script type=\"text/javascript\">\n",
       "  var VEGA_DEBUG = (typeof VEGA_DEBUG == \"undefined\") ? {} : VEGA_DEBUG;\n",
       "  (function(spec, embedOpt){\n",
       "    let outputDiv = document.currentScript.previousElementSibling;\n",
       "    if (outputDiv.id !== \"altair-viz-f4c961097e114d24a9f86bf84b6f7766\") {\n",
       "      outputDiv = document.getElementById(\"altair-viz-f4c961097e114d24a9f86bf84b6f7766\");\n",
       "    }\n",
       "    const paths = {\n",
       "      \"vega\": \"https://cdn.jsdelivr.net/npm//vega@5?noext\",\n",
       "      \"vega-lib\": \"https://cdn.jsdelivr.net/npm//vega-lib?noext\",\n",
       "      \"vega-lite\": \"https://cdn.jsdelivr.net/npm//vega-lite@4.17.0?noext\",\n",
       "      \"vega-embed\": \"https://cdn.jsdelivr.net/npm//vega-embed@6?noext\",\n",
       "    };\n",
       "\n",
       "    function maybeLoadScript(lib, version) {\n",
       "      var key = `${lib.replace(\"-\", \"\")}_version`;\n",
       "      return (VEGA_DEBUG[key] == version) ?\n",
       "        Promise.resolve(paths[lib]) :\n",
       "        new Promise(function(resolve, reject) {\n",
       "          var s = document.createElement('script');\n",
       "          document.getElementsByTagName(\"head\")[0].appendChild(s);\n",
       "          s.async = true;\n",
       "          s.onload = () => {\n",
       "            VEGA_DEBUG[key] = version;\n",
       "            return resolve(paths[lib]);\n",
       "          };\n",
       "          s.onerror = () => reject(`Error loading script: ${paths[lib]}`);\n",
       "          s.src = paths[lib];\n",
       "        });\n",
       "    }\n",
       "\n",
       "    function showError(err) {\n",
       "      outputDiv.innerHTML = `<div class=\"error\" style=\"color:red;\">${err}</div>`;\n",
       "      throw err;\n",
       "    }\n",
       "\n",
       "    function displayChart(vegaEmbed) {\n",
       "      vegaEmbed(outputDiv, spec, embedOpt)\n",
       "        .catch(err => showError(`Javascript Error: ${err.message}<br>This usually means there's a typo in your chart specification. See the javascript console for the full traceback.`));\n",
       "    }\n",
       "\n",
       "    if(typeof define === \"function\" && define.amd) {\n",
       "      requirejs.config({paths});\n",
       "      require([\"vega-embed\"], displayChart, err => showError(`Error loading script: ${err.message}`));\n",
       "    } else {\n",
       "      maybeLoadScript(\"vega\", \"5\")\n",
       "        .then(() => maybeLoadScript(\"vega-lite\", \"4.17.0\"))\n",
       "        .then(() => maybeLoadScript(\"vega-embed\", \"6\"))\n",
       "        .catch(showError)\n",
       "        .then(() => displayChart(vegaEmbed));\n",
       "    }\n",
       "  })({\"config\": {\"view\": {\"width\": 400, \"height\": 300}, \"title\": {\"anchor\": \"middle\", \"offset\": 10}, \"header\": {\"title\": null}}, \"hconcat\": [{\"mark\": \"bar\", \"title\": {\"text\": \"Amongst matching record comparisons:\", \"fontWeight\": \"bold\", \"fontSize\": 12}, \"encoding\": {\"row\": {\"type\": \"nominal\", \"field\": \"comparison_name\", \"sort\": {\"field\": \"comparison_sort_order\"}, \"header\": {\"labelAngle\": 0, \"labelAnchor\": \"middle\", \"labelAlign\": \"left\"}}, \"x\": {\"type\": \"quantitative\", \"field\": \"m_probability\", \"axis\": {\"title\": \"Proportion of record comparisons\"}}, \"y\": {\"type\": \"nominal\", \"axis\": {\"title\": null}, \"field\": \"label_for_charts\", \"sort\": {\"field\": \"comparison_vector_value\", \"order\": \"descending\"}}, \"tooltip\": [{\"type\": \"nominal\", \"field\": \"m_probability_description\", \"title\": \"m probability description\"}, {\"type\": \"nominal\", \"field\": \"comparison_name\", \"title\": \"Comparison column name\"}, {\"type\": \"ordinal\", \"field\": \"label_for_charts\", \"title\": \"Label\"}, {\"type\": \"nominal\", \"field\": \"sql_condition\", \"title\": \"SQL condition\"}, {\"type\": \"quantitative\", \"field\": \"m_probability\", \"format\": \".4p\", \"title\": \"m probability\"}, {\"type\": \"quantitative\", \"field\": \"u_probability\", \"format\": \".4p\", \"title\": \"u probability\"}, {\"type\": \"quantitative\", \"field\": \"bayes_factor\", \"title\": \"Bayes factor = m/u\", \"format\": \",.4f\"}, {\"type\": \"quantitative\", \"field\": \"log2_bayes_factor\", \"title\": \"Match weight = log2(m/u)\", \"format\": \",.4f\"}], \"color\": {\"value\": \"green\"}}, \"resolve\": {\"scale\": {\"y\": \"independent\"}}, \"transform\": [{\"filter\": \"(datum.bayes_factor != 'no-op filter due to vega lite issue 4680')\"}], \"width\": 150, \"height\": 50}, {\"mark\": \"bar\", \"title\": {\"text\": \"Amongst non-matching record comparisons:\", \"fontWeight\": \"bold\", \"fontSize\": 12}, \"encoding\": {\"row\": {\"type\": \"nominal\", \"field\": \"comparison_name\", \"sort\": {\"field\": \"comparison_sort_order\"}, \"header\": {\"labels\": false}}, \"x\": {\"type\": \"quantitative\", \"field\": \"u_probability\", \"axis\": {\"title\": \"Proportion of record comparisons\"}}, \"y\": {\"type\": \"nominal\", \"axis\": {\"title\": null}, \"field\": \"label_for_charts\", \"sort\": {\"field\": \"comparison_vector_value\", \"order\": \"descending\"}}, \"tooltip\": [{\"type\": \"nominal\", \"field\": \"u_probability_description\", \"title\": \"u probability description\"}, {\"type\": \"nominal\", \"field\": \"comparison_name\", \"title\": \"Comparison column name\"}, {\"type\": \"ordinal\", \"field\": \"label_for_charts\", \"title\": \"Label\"}, {\"type\": \"nominal\", \"field\": \"sql_condition\", \"title\": \"SQL condition\"}, {\"type\": \"quantitative\", \"field\": \"m_probability\", \"format\": \".4p\", \"title\": \"m probability\"}, {\"type\": \"quantitative\", \"field\": \"u_probability\", \"format\": \".4p\", \"title\": \"u probability\"}, {\"type\": \"quantitative\", \"field\": \"bayes_factor\", \"title\": \"Bayes factor = m/u\", \"format\": \",.4f\"}, {\"type\": \"quantitative\", \"field\": \"log2_bayes_factor\", \"title\": \"Match weight = log2(m/u)\", \"format\": \",.4f\"}], \"color\": {\"value\": \"red\"}}, \"resolve\": {\"scale\": {\"y\": \"independent\"}}, \"transform\": [{\"filter\": \"(datum.bayes_factor != 'no-op filter2 due to vega lite issue 4680')\"}], \"width\": 150, \"height\": 50}], \"data\": {\"values\": [{\"comparison_name\": \"first_name\", \"sql_condition\": \"\\\"first_name_l\\\" = \\\"first_name_r\\\"\", \"label_for_charts\": \"Exact match\", \"m_probability\": 0.9747169496617627, \"u_probability\": 0.0026250185013741807, \"m_probability_description\": \"Amongst matching record comparisons, 97.47% of records are in the exact match comparison level\", \"u_probability_description\": \"Amongst non-matching record comparisons, 0.26% of records are in the exact match comparison level\", \"has_tf_adjustments\": false, \"tf_adjustment_column\": null, \"tf_adjustment_weight\": 1.0, \"is_null_level\": false, \"bayes_factor\": 371.3181256252116, \"log2_bayes_factor\": 8.536511930799199, \"comparison_vector_value\": 3, \"max_comparison_vector_value\": 3, \"bayes_factor_description\": \"If comparison level is `exact match` then comparison is 371.32 times more likely to be a match\", \"probability_two_random_records_match\": 0.00044583147570218456, \"comparison_sort_order\": 0}, {\"comparison_name\": \"first_name\", \"sql_condition\": \"levenshtein(\\\"first_name_l\\\", \\\"first_name_r\\\") <= 1\", \"label_for_charts\": \"levenshtein <= 1\", \"m_probability\": 0.008944600683756722, \"u_probability\": 0.001121691156198033, \"m_probability_description\": \"Amongst matching record comparisons, 0.89% of records are in the levenshtein <= 1 comparison level\", \"u_probability_description\": \"Amongst non-matching record comparisons, 0.11% of records are in the levenshtein <= 1 comparison level\", \"has_tf_adjustments\": false, \"tf_adjustment_column\": null, \"tf_adjustment_weight\": 1.0, \"is_null_level\": false, \"bayes_factor\": 7.974209865462793, \"log2_bayes_factor\": 2.995341574720522, \"comparison_vector_value\": 2, \"max_comparison_vector_value\": 3, \"bayes_factor_description\": \"If comparison level is `levenshtein <= 1` then comparison is 7.97 times more likely to be a match\", \"probability_two_random_records_match\": 0.00044583147570218456, \"comparison_sort_order\": 0}, {\"comparison_name\": \"first_name\", \"sql_condition\": \"levenshtein(\\\"first_name_l\\\", \\\"first_name_r\\\") <= 2\", \"label_for_charts\": \"levenshtein <= 2\", \"m_probability\": 0.0017851557202681523, \"u_probability\": 0.005457542611204142, \"m_probability_description\": \"Amongst matching record comparisons, 0.18% of records are in the levenshtein <= 2 comparison level\", \"u_probability_description\": \"Amongst non-matching record comparisons, 0.55% of records are in the levenshtein <= 2 comparison level\", \"has_tf_adjustments\": false, \"tf_adjustment_column\": null, \"tf_adjustment_weight\": 1.0, \"is_null_level\": false, \"bayes_factor\": 0.3270988148774671, \"log2_bayes_factor\": -1.6122015625333124, \"comparison_vector_value\": 1, \"max_comparison_vector_value\": 3, \"bayes_factor_description\": \"If comparison level is `levenshtein <= 2` then comparison is  3.06 times less likely to be a match\", \"probability_two_random_records_match\": 0.00044583147570218456, \"comparison_sort_order\": 0}, {\"comparison_name\": \"first_name\", \"sql_condition\": \"ELSE\", \"label_for_charts\": \"All other comparisons\", \"m_probability\": 0.014553293934212464, \"u_probability\": 0.9907957477312237, \"m_probability_description\": \"Amongst matching record comparisons, 1.46% of records are in the all other comparisons comparison level\", \"u_probability_description\": \"Amongst non-matching record comparisons, 99.08% of records are in the all other comparisons comparison level\", \"has_tf_adjustments\": false, \"tf_adjustment_column\": null, \"tf_adjustment_weight\": 1.0, \"is_null_level\": false, \"bayes_factor\": 0.01468849050627979, \"log2_bayes_factor\": -6.08917004786287, \"comparison_vector_value\": 0, \"max_comparison_vector_value\": 3, \"bayes_factor_description\": \"If comparison level is `all other comparisons` then comparison is  68.08 times less likely to be a match\", \"probability_two_random_records_match\": 0.00044583147570218456, \"comparison_sort_order\": 0}, {\"comparison_name\": \"last_name\", \"sql_condition\": \"\\\"last_name_l\\\" = \\\"last_name_r\\\"\", \"label_for_charts\": \"Exact match\", \"m_probability\": 0.9834359859526289, \"u_probability\": 0.001851588506220815, \"m_probability_description\": \"Amongst matching record comparisons, 98.34% of records are in the exact match comparison level\", \"u_probability_description\": \"Amongst non-matching record comparisons, 0.19% of records are in the exact match comparison level\", \"has_tf_adjustments\": false, \"tf_adjustment_column\": null, \"tf_adjustment_weight\": 1.0, \"is_null_level\": false, \"bayes_factor\": 531.130962764438, \"log2_bayes_factor\": 9.052923824881695, \"comparison_vector_value\": 3, \"max_comparison_vector_value\": 3, \"bayes_factor_description\": \"If comparison level is `exact match` then comparison is 531.13 times more likely to be a match\", \"probability_two_random_records_match\": 0.00044583147570218456, \"comparison_sort_order\": 1}, {\"comparison_name\": \"last_name\", \"sql_condition\": \"levenshtein(\\\"last_name_l\\\", \\\"last_name_r\\\") <= 1\", \"label_for_charts\": \"levenshtein <= 1\", \"m_probability\": 0.003589048396657174, \"u_probability\": 0.00014220664075990586, \"m_probability_description\": \"Amongst matching record comparisons, 0.36% of records are in the levenshtein <= 1 comparison level\", \"u_probability_description\": \"Amongst non-matching record comparisons, 0.01% of records are in the levenshtein <= 1 comparison level\", \"has_tf_adjustments\": false, \"tf_adjustment_column\": null, \"tf_adjustment_weight\": 1.0, \"is_null_level\": false, \"bayes_factor\": 25.238261571178896, \"log2_bayes_factor\": 4.657540634803136, \"comparison_vector_value\": 2, \"max_comparison_vector_value\": 3, \"bayes_factor_description\": \"If comparison level is `levenshtein <= 1` then comparison is 25.24 times more likely to be a match\", \"probability_two_random_records_match\": 0.00044583147570218456, \"comparison_sort_order\": 1}, {\"comparison_name\": \"last_name\", \"sql_condition\": \"levenshtein(\\\"last_name_l\\\", \\\"last_name_r\\\") <= 2\", \"label_for_charts\": \"levenshtein <= 2\", \"m_probability\": 0.0035971098574725116, \"u_probability\": 0.0017587188632755704, \"m_probability_description\": \"Amongst matching record comparisons, 0.36% of records are in the levenshtein <= 2 comparison level\", \"u_probability_description\": \"Amongst non-matching record comparisons, 0.18% of records are in the levenshtein <= 2 comparison level\", \"has_tf_adjustments\": false, \"tf_adjustment_column\": null, \"tf_adjustment_weight\": 1.0, \"is_null_level\": false, \"bayes_factor\": 2.045301231814267, \"log2_bayes_factor\": 1.0323133388345835, \"comparison_vector_value\": 1, \"max_comparison_vector_value\": 3, \"bayes_factor_description\": \"If comparison level is `levenshtein <= 2` then comparison is 2.05 times more likely to be a match\", \"probability_two_random_records_match\": 0.00044583147570218456, \"comparison_sort_order\": 1}, {\"comparison_name\": \"last_name\", \"sql_condition\": \"ELSE\", \"label_for_charts\": \"All other comparisons\", \"m_probability\": 0.009377855793241432, \"u_probability\": 0.9962474859897437, \"m_probability_description\": \"Amongst matching record comparisons, 0.94% of records are in the all other comparisons comparison level\", \"u_probability_description\": \"Amongst non-matching record comparisons, 99.62% of records are in the all other comparisons comparison level\", \"has_tf_adjustments\": false, \"tf_adjustment_column\": null, \"tf_adjustment_weight\": 1.0, \"is_null_level\": false, \"bayes_factor\": 0.009413178878865423, \"log2_bayes_factor\": -6.731102273897024, \"comparison_vector_value\": 0, \"max_comparison_vector_value\": 3, \"bayes_factor_description\": \"If comparison level is `all other comparisons` then comparison is  106.23 times less likely to be a match\", \"probability_two_random_records_match\": 0.00044583147570218456, \"comparison_sort_order\": 1}, {\"comparison_name\": \"date_of_birth\", \"sql_condition\": \"\\\"date_of_birth_l\\\" = \\\"date_of_birth_r\\\"\", \"label_for_charts\": \"Exact match\", \"m_probability\": 0.9798220509879256, \"u_probability\": 0.001533800196767556, \"m_probability_description\": \"Amongst matching record comparisons, 97.98% of records are in the exact match comparison level\", \"u_probability_description\": \"Amongst non-matching record comparisons, 0.15% of records are in the exact match comparison level\", \"has_tf_adjustments\": false, \"tf_adjustment_column\": null, \"tf_adjustment_weight\": 1.0, \"is_null_level\": false, \"bayes_factor\": 638.8198756610379, \"log2_bayes_factor\": 9.319265389924517, \"comparison_vector_value\": 2, \"max_comparison_vector_value\": 2, \"bayes_factor_description\": \"If comparison level is `exact match` then comparison is 638.82 times more likely to be a match\", \"probability_two_random_records_match\": 0.00044583147570218456, \"comparison_sort_order\": 2}, {\"comparison_name\": \"date_of_birth\", \"sql_condition\": \"levenshtein(\\\"date_of_birth_l\\\", \\\"date_of_birth_r\\\") <= 1\", \"label_for_charts\": \"levenshtein <= 1\", \"m_probability\": 0.0035978517502469865, \"u_probability\": 0.010539253386114247, \"m_probability_description\": \"Amongst matching record comparisons, 0.36% of records are in the levenshtein <= 1 comparison level\", \"u_probability_description\": \"Amongst non-matching record comparisons, 1.05% of records are in the levenshtein <= 1 comparison level\", \"has_tf_adjustments\": false, \"tf_adjustment_column\": null, \"tf_adjustment_weight\": 1.0, \"is_null_level\": false, \"bayes_factor\": 0.3413763402811108, \"log2_bayes_factor\": -1.550565021706054, \"comparison_vector_value\": 1, \"max_comparison_vector_value\": 2, \"bayes_factor_description\": \"If comparison level is `levenshtein <= 1` then comparison is  2.93 times less likely to be a match\", \"probability_two_random_records_match\": 0.00044583147570218456, \"comparison_sort_order\": 2}, {\"comparison_name\": \"date_of_birth\", \"sql_condition\": \"ELSE\", \"label_for_charts\": \"All other comparisons\", \"m_probability\": 0.01658009726182738, \"u_probability\": 0.9879269464171182, \"m_probability_description\": \"Amongst matching record comparisons, 1.66% of records are in the all other comparisons comparison level\", \"u_probability_description\": \"Amongst non-matching record comparisons, 98.79% of records are in the all other comparisons comparison level\", \"has_tf_adjustments\": false, \"tf_adjustment_column\": null, \"tf_adjustment_weight\": 1.0, \"is_null_level\": false, \"bayes_factor\": 0.016782715890034043, \"log2_bayes_factor\": -5.896879988655391, \"comparison_vector_value\": 0, \"max_comparison_vector_value\": 2, \"bayes_factor_description\": \"If comparison level is `all other comparisons` then comparison is  59.59 times less likely to be a match\", \"probability_two_random_records_match\": 0.00044583147570218456, \"comparison_sort_order\": 2}, {\"comparison_name\": \"sex\", \"sql_condition\": \"\\\"sex_l\\\" = \\\"sex_r\\\"\", \"label_for_charts\": \"Exact match\", \"m_probability\": 0.982051932779176, \"u_probability\": 0.4933264455014816, \"m_probability_description\": \"Amongst matching record comparisons, 98.21% of records are in the exact match comparison level\", \"u_probability_description\": \"Amongst non-matching record comparisons, 49.33% of records are in the exact match comparison level\", \"has_tf_adjustments\": false, \"tf_adjustment_column\": null, \"tf_adjustment_weight\": 1.0, \"is_null_level\": false, \"bayes_factor\": 1.9906736031166743, \"log2_bayes_factor\": 0.9932566917931228, \"comparison_vector_value\": 1, \"max_comparison_vector_value\": 1, \"bayes_factor_description\": \"If comparison level is `exact match` then comparison is 1.99 times more likely to be a match\", \"probability_two_random_records_match\": 0.00044583147570218456, \"comparison_sort_order\": 3}, {\"comparison_name\": \"sex\", \"sql_condition\": \"ELSE\", \"label_for_charts\": \"All other comparisons\", \"m_probability\": 0.01794806722082396, \"u_probability\": 0.5066735544985185, \"m_probability_description\": \"Amongst matching record comparisons, 1.79% of records are in the all other comparisons comparison level\", \"u_probability_description\": \"Amongst non-matching record comparisons, 50.67% of records are in the all other comparisons comparison level\", \"has_tf_adjustments\": false, \"tf_adjustment_column\": null, \"tf_adjustment_weight\": 1.0, \"is_null_level\": false, \"bayes_factor\": 0.03542333532403938, \"log2_bayes_factor\": -4.819156132712807, \"comparison_vector_value\": 0, \"max_comparison_vector_value\": 1, \"bayes_factor_description\": \"If comparison level is `all other comparisons` then comparison is  28.23 times less likely to be a match\", \"probability_two_random_records_match\": 0.00044583147570218456, \"comparison_sort_order\": 3}, {\"comparison_name\": \"zipcode\", \"sql_condition\": \"\\\"zipcode_l\\\" = \\\"zipcode_r\\\"\", \"label_for_charts\": \"Exact match\", \"m_probability\": 0.9855460904584327, \"u_probability\": 0.0032156113869790956, \"m_probability_description\": \"Amongst matching record comparisons, 98.55% of records are in the exact match comparison level\", \"u_probability_description\": \"Amongst non-matching record comparisons, 0.32% of records are in the exact match comparison level\", \"has_tf_adjustments\": false, \"tf_adjustment_column\": null, \"tf_adjustment_weight\": 1.0, \"is_null_level\": false, \"bayes_factor\": 306.4879339739817, \"log2_bayes_factor\": 8.259686467806434, \"comparison_vector_value\": 3, \"max_comparison_vector_value\": 3, \"bayes_factor_description\": \"If comparison level is `exact match` then comparison is 306.49 times more likely to be a match\", \"probability_two_random_records_match\": 0.00044583147570218456, \"comparison_sort_order\": 4}, {\"comparison_name\": \"zipcode\", \"sql_condition\": \"levenshtein(\\\"zipcode_l\\\", \\\"zipcode_r\\\") <= 1\", \"label_for_charts\": \"levenshtein <= 1\", \"m_probability\": 0.009039206273963676, \"u_probability\": 0.016928394603112875, \"m_probability_description\": \"Amongst matching record comparisons, 0.90% of records are in the levenshtein <= 1 comparison level\", \"u_probability_description\": \"Amongst non-matching record comparisons, 1.69% of records are in the levenshtein <= 1 comparison level\", \"has_tf_adjustments\": false, \"tf_adjustment_column\": null, \"tf_adjustment_weight\": 1.0, \"is_null_level\": false, \"bayes_factor\": 0.5339671295411262, \"log2_bayes_factor\": -0.9051771610412088, \"comparison_vector_value\": 2, \"max_comparison_vector_value\": 3, \"bayes_factor_description\": \"If comparison level is `levenshtein <= 1` then comparison is  1.87 times less likely to be a match\", \"probability_two_random_records_match\": 0.00044583147570218456, \"comparison_sort_order\": 4}, {\"comparison_name\": \"zipcode\", \"sql_condition\": \"levenshtein(\\\"zipcode_l\\\", \\\"zipcode_r\\\") <= 2\", \"label_for_charts\": \"levenshtein <= 2\", \"m_probability\": 0.00541470326155128, \"u_probability\": 0.12887839590909222, \"m_probability_description\": \"Amongst matching record comparisons, 0.54% of records are in the levenshtein <= 2 comparison level\", \"u_probability_description\": \"Amongst non-matching record comparisons, 12.89% of records are in the levenshtein <= 2 comparison level\", \"has_tf_adjustments\": false, \"tf_adjustment_column\": null, \"tf_adjustment_weight\": 1.0, \"is_null_level\": false, \"bayes_factor\": 0.04201404916127823, \"log2_bayes_factor\": -4.572984355547874, \"comparison_vector_value\": 1, \"max_comparison_vector_value\": 3, \"bayes_factor_description\": \"If comparison level is `levenshtein <= 2` then comparison is  23.80 times less likely to be a match\", \"probability_two_random_records_match\": 0.00044583147570218456, \"comparison_sort_order\": 4}, {\"comparison_name\": \"zipcode\", \"sql_condition\": \"ELSE\", \"label_for_charts\": \"All other comparisons\", \"m_probability\": 6.052384743696962e-12, \"u_probability\": 0.8509775981008157, \"m_probability_description\": \"Amongst matching record comparisons, 0.00% of records are in the all other comparisons comparison level\", \"u_probability_description\": \"Amongst non-matching record comparisons, 85.10% of records are in the all other comparisons comparison level\", \"has_tf_adjustments\": false, \"tf_adjustment_column\": null, \"tf_adjustment_weight\": 1.0, \"is_null_level\": false, \"bayes_factor\": 7.1122727051857515e-12, \"log2_bayes_factor\": -37.03282649630345, \"comparison_vector_value\": 0, \"max_comparison_vector_value\": 3, \"bayes_factor_description\": \"If comparison level is `all other comparisons` then comparison is  140,602,032,775.10 times less likely to be a match\", \"probability_two_random_records_match\": 0.00044583147570218456, \"comparison_sort_order\": 4}]}, \"title\": {\"text\": \"Proportion of record comparisons in each comparison level by match status\", \"subtitle\": \"(m and u probabilities)\"}, \"$schema\": \"https://vega.github.io/schema/vega-lite/v4.json\"}, {\"mode\": \"vega-lite\"});\n",
       "</script>"
      ],
      "text/plain": [
       "<splink.charts.VegaliteNoValidate at 0x7fd80f074610>"
      ]
     },
     "execution_count": 21,
     "metadata": {},
     "output_type": "execute_result"
    }
   ],
   "source": [
    "# Now all probabilities have been estimated\n",
    "linker.m_u_parameters_chart()"
   ]
  },
  {
   "cell_type": "markdown",
   "id": "fb5a9417",
   "metadata": {},
   "source": [
    "## View match weights chart"
   ]
  },
  {
   "cell_type": "code",
   "execution_count": 22,
   "id": "e0d21ef8",
   "metadata": {},
   "outputs": [
    {
     "data": {
      "text/html": [
       "\n",
       "<div id=\"altair-viz-da1e4a566c10459db139b04892e98279\"></div>\n",
       "<script type=\"text/javascript\">\n",
       "  var VEGA_DEBUG = (typeof VEGA_DEBUG == \"undefined\") ? {} : VEGA_DEBUG;\n",
       "  (function(spec, embedOpt){\n",
       "    let outputDiv = document.currentScript.previousElementSibling;\n",
       "    if (outputDiv.id !== \"altair-viz-da1e4a566c10459db139b04892e98279\") {\n",
       "      outputDiv = document.getElementById(\"altair-viz-da1e4a566c10459db139b04892e98279\");\n",
       "    }\n",
       "    const paths = {\n",
       "      \"vega\": \"https://cdn.jsdelivr.net/npm//vega@5?noext\",\n",
       "      \"vega-lib\": \"https://cdn.jsdelivr.net/npm//vega-lib?noext\",\n",
       "      \"vega-lite\": \"https://cdn.jsdelivr.net/npm//vega-lite@4.17.0?noext\",\n",
       "      \"vega-embed\": \"https://cdn.jsdelivr.net/npm//vega-embed@6?noext\",\n",
       "    };\n",
       "\n",
       "    function maybeLoadScript(lib, version) {\n",
       "      var key = `${lib.replace(\"-\", \"\")}_version`;\n",
       "      return (VEGA_DEBUG[key] == version) ?\n",
       "        Promise.resolve(paths[lib]) :\n",
       "        new Promise(function(resolve, reject) {\n",
       "          var s = document.createElement('script');\n",
       "          document.getElementsByTagName(\"head\")[0].appendChild(s);\n",
       "          s.async = true;\n",
       "          s.onload = () => {\n",
       "            VEGA_DEBUG[key] = version;\n",
       "            return resolve(paths[lib]);\n",
       "          };\n",
       "          s.onerror = () => reject(`Error loading script: ${paths[lib]}`);\n",
       "          s.src = paths[lib];\n",
       "        });\n",
       "    }\n",
       "\n",
       "    function showError(err) {\n",
       "      outputDiv.innerHTML = `<div class=\"error\" style=\"color:red;\">${err}</div>`;\n",
       "      throw err;\n",
       "    }\n",
       "\n",
       "    function displayChart(vegaEmbed) {\n",
       "      vegaEmbed(outputDiv, spec, embedOpt)\n",
       "        .catch(err => showError(`Javascript Error: ${err.message}<br>This usually means there's a typo in your chart specification. See the javascript console for the full traceback.`));\n",
       "    }\n",
       "\n",
       "    if(typeof define === \"function\" && define.amd) {\n",
       "      requirejs.config({paths});\n",
       "      require([\"vega-embed\"], displayChart, err => showError(`Error loading script: ${err.message}`));\n",
       "    } else {\n",
       "      maybeLoadScript(\"vega\", \"5\")\n",
       "        .then(() => maybeLoadScript(\"vega-lite\", \"4.17.0\"))\n",
       "        .then(() => maybeLoadScript(\"vega-embed\", \"6\"))\n",
       "        .catch(showError)\n",
       "        .then(() => displayChart(vegaEmbed));\n",
       "    }\n",
       "  })({\"config\": {\"view\": {\"width\": 400, \"height\": 60}, \"mark\": {\"tooltip\": null}, \"title\": {\"anchor\": \"middle\"}, \"header\": {\"title\": null}}, \"data\": {\"values\": [{\"comparison_name\": \"probability_two_random_records_match\", \"sql_condition\": null, \"label_for_charts\": \"\", \"m_probability\": null, \"u_probability\": null, \"m_probability_description\": null, \"u_probability_description\": null, \"has_tf_adjustments\": false, \"tf_adjustment_column\": null, \"tf_adjustment_weight\": null, \"is_null_level\": false, \"bayes_factor\": 0.00044603033006244426, \"log2_bayes_factor\": -11.130570562805426, \"comparison_vector_value\": 0, \"max_comparison_vector_value\": 0, \"bayes_factor_description\": \"The probability that two random records drawn at random match is 0.000 or one in  2,243.0 records.This is equivalent to a starting match weight of -11.131.\", \"probability_two_random_records_match\": 0.00044583147570218456, \"comparison_sort_order\": -1}, {\"comparison_name\": \"first_name\", \"sql_condition\": \"\\\"first_name_l\\\" = \\\"first_name_r\\\"\", \"label_for_charts\": \"Exact match\", \"m_probability\": 0.9747169496617627, \"u_probability\": 0.0026250185013741807, \"m_probability_description\": \"Amongst matching record comparisons, 97.47% of records are in the exact match comparison level\", \"u_probability_description\": \"Amongst non-matching record comparisons, 0.26% of records are in the exact match comparison level\", \"has_tf_adjustments\": false, \"tf_adjustment_column\": null, \"tf_adjustment_weight\": 1.0, \"is_null_level\": false, \"bayes_factor\": 371.3181256252116, \"log2_bayes_factor\": 8.536511930799199, \"comparison_vector_value\": 3, \"max_comparison_vector_value\": 3, \"bayes_factor_description\": \"If comparison level is `exact match` then comparison is 371.32 times more likely to be a match\", \"probability_two_random_records_match\": 0.00044583147570218456, \"comparison_sort_order\": 0}, {\"comparison_name\": \"first_name\", \"sql_condition\": \"levenshtein(\\\"first_name_l\\\", \\\"first_name_r\\\") <= 1\", \"label_for_charts\": \"levenshtein <= 1\", \"m_probability\": 0.008944600683756722, \"u_probability\": 0.001121691156198033, \"m_probability_description\": \"Amongst matching record comparisons, 0.89% of records are in the levenshtein <= 1 comparison level\", \"u_probability_description\": \"Amongst non-matching record comparisons, 0.11% of records are in the levenshtein <= 1 comparison level\", \"has_tf_adjustments\": false, \"tf_adjustment_column\": null, \"tf_adjustment_weight\": 1.0, \"is_null_level\": false, \"bayes_factor\": 7.974209865462793, \"log2_bayes_factor\": 2.995341574720522, \"comparison_vector_value\": 2, \"max_comparison_vector_value\": 3, \"bayes_factor_description\": \"If comparison level is `levenshtein <= 1` then comparison is 7.97 times more likely to be a match\", \"probability_two_random_records_match\": 0.00044583147570218456, \"comparison_sort_order\": 0}, {\"comparison_name\": \"first_name\", \"sql_condition\": \"levenshtein(\\\"first_name_l\\\", \\\"first_name_r\\\") <= 2\", \"label_for_charts\": \"levenshtein <= 2\", \"m_probability\": 0.0017851557202681523, \"u_probability\": 0.005457542611204142, \"m_probability_description\": \"Amongst matching record comparisons, 0.18% of records are in the levenshtein <= 2 comparison level\", \"u_probability_description\": \"Amongst non-matching record comparisons, 0.55% of records are in the levenshtein <= 2 comparison level\", \"has_tf_adjustments\": false, \"tf_adjustment_column\": null, \"tf_adjustment_weight\": 1.0, \"is_null_level\": false, \"bayes_factor\": 0.3270988148774671, \"log2_bayes_factor\": -1.6122015625333124, \"comparison_vector_value\": 1, \"max_comparison_vector_value\": 3, \"bayes_factor_description\": \"If comparison level is `levenshtein <= 2` then comparison is  3.06 times less likely to be a match\", \"probability_two_random_records_match\": 0.00044583147570218456, \"comparison_sort_order\": 0}, {\"comparison_name\": \"first_name\", \"sql_condition\": \"ELSE\", \"label_for_charts\": \"All other comparisons\", \"m_probability\": 0.014553293934212464, \"u_probability\": 0.9907957477312237, \"m_probability_description\": \"Amongst matching record comparisons, 1.46% of records are in the all other comparisons comparison level\", \"u_probability_description\": \"Amongst non-matching record comparisons, 99.08% of records are in the all other comparisons comparison level\", \"has_tf_adjustments\": false, \"tf_adjustment_column\": null, \"tf_adjustment_weight\": 1.0, \"is_null_level\": false, \"bayes_factor\": 0.01468849050627979, \"log2_bayes_factor\": -6.08917004786287, \"comparison_vector_value\": 0, \"max_comparison_vector_value\": 3, \"bayes_factor_description\": \"If comparison level is `all other comparisons` then comparison is  68.08 times less likely to be a match\", \"probability_two_random_records_match\": 0.00044583147570218456, \"comparison_sort_order\": 0}, {\"comparison_name\": \"last_name\", \"sql_condition\": \"\\\"last_name_l\\\" = \\\"last_name_r\\\"\", \"label_for_charts\": \"Exact match\", \"m_probability\": 0.9834359859526289, \"u_probability\": 0.001851588506220815, \"m_probability_description\": \"Amongst matching record comparisons, 98.34% of records are in the exact match comparison level\", \"u_probability_description\": \"Amongst non-matching record comparisons, 0.19% of records are in the exact match comparison level\", \"has_tf_adjustments\": false, \"tf_adjustment_column\": null, \"tf_adjustment_weight\": 1.0, \"is_null_level\": false, \"bayes_factor\": 531.130962764438, \"log2_bayes_factor\": 9.052923824881695, \"comparison_vector_value\": 3, \"max_comparison_vector_value\": 3, \"bayes_factor_description\": \"If comparison level is `exact match` then comparison is 531.13 times more likely to be a match\", \"probability_two_random_records_match\": 0.00044583147570218456, \"comparison_sort_order\": 1}, {\"comparison_name\": \"last_name\", \"sql_condition\": \"levenshtein(\\\"last_name_l\\\", \\\"last_name_r\\\") <= 1\", \"label_for_charts\": \"levenshtein <= 1\", \"m_probability\": 0.003589048396657174, \"u_probability\": 0.00014220664075990586, \"m_probability_description\": \"Amongst matching record comparisons, 0.36% of records are in the levenshtein <= 1 comparison level\", \"u_probability_description\": \"Amongst non-matching record comparisons, 0.01% of records are in the levenshtein <= 1 comparison level\", \"has_tf_adjustments\": false, \"tf_adjustment_column\": null, \"tf_adjustment_weight\": 1.0, \"is_null_level\": false, \"bayes_factor\": 25.238261571178896, \"log2_bayes_factor\": 4.657540634803136, \"comparison_vector_value\": 2, \"max_comparison_vector_value\": 3, \"bayes_factor_description\": \"If comparison level is `levenshtein <= 1` then comparison is 25.24 times more likely to be a match\", \"probability_two_random_records_match\": 0.00044583147570218456, \"comparison_sort_order\": 1}, {\"comparison_name\": \"last_name\", \"sql_condition\": \"levenshtein(\\\"last_name_l\\\", \\\"last_name_r\\\") <= 2\", \"label_for_charts\": \"levenshtein <= 2\", \"m_probability\": 0.0035971098574725116, \"u_probability\": 0.0017587188632755704, \"m_probability_description\": \"Amongst matching record comparisons, 0.36% of records are in the levenshtein <= 2 comparison level\", \"u_probability_description\": \"Amongst non-matching record comparisons, 0.18% of records are in the levenshtein <= 2 comparison level\", \"has_tf_adjustments\": false, \"tf_adjustment_column\": null, \"tf_adjustment_weight\": 1.0, \"is_null_level\": false, \"bayes_factor\": 2.045301231814267, \"log2_bayes_factor\": 1.0323133388345835, \"comparison_vector_value\": 1, \"max_comparison_vector_value\": 3, \"bayes_factor_description\": \"If comparison level is `levenshtein <= 2` then comparison is 2.05 times more likely to be a match\", \"probability_two_random_records_match\": 0.00044583147570218456, \"comparison_sort_order\": 1}, {\"comparison_name\": \"last_name\", \"sql_condition\": \"ELSE\", \"label_for_charts\": \"All other comparisons\", \"m_probability\": 0.009377855793241432, \"u_probability\": 0.9962474859897437, \"m_probability_description\": \"Amongst matching record comparisons, 0.94% of records are in the all other comparisons comparison level\", \"u_probability_description\": \"Amongst non-matching record comparisons, 99.62% of records are in the all other comparisons comparison level\", \"has_tf_adjustments\": false, \"tf_adjustment_column\": null, \"tf_adjustment_weight\": 1.0, \"is_null_level\": false, \"bayes_factor\": 0.009413178878865423, \"log2_bayes_factor\": -6.731102273897024, \"comparison_vector_value\": 0, \"max_comparison_vector_value\": 3, \"bayes_factor_description\": \"If comparison level is `all other comparisons` then comparison is  106.23 times less likely to be a match\", \"probability_two_random_records_match\": 0.00044583147570218456, \"comparison_sort_order\": 1}, {\"comparison_name\": \"date_of_birth\", \"sql_condition\": \"\\\"date_of_birth_l\\\" = \\\"date_of_birth_r\\\"\", \"label_for_charts\": \"Exact match\", \"m_probability\": 0.9798220509879256, \"u_probability\": 0.001533800196767556, \"m_probability_description\": \"Amongst matching record comparisons, 97.98% of records are in the exact match comparison level\", \"u_probability_description\": \"Amongst non-matching record comparisons, 0.15% of records are in the exact match comparison level\", \"has_tf_adjustments\": false, \"tf_adjustment_column\": null, \"tf_adjustment_weight\": 1.0, \"is_null_level\": false, \"bayes_factor\": 638.8198756610379, \"log2_bayes_factor\": 9.319265389924517, \"comparison_vector_value\": 2, \"max_comparison_vector_value\": 2, \"bayes_factor_description\": \"If comparison level is `exact match` then comparison is 638.82 times more likely to be a match\", \"probability_two_random_records_match\": 0.00044583147570218456, \"comparison_sort_order\": 2}, {\"comparison_name\": \"date_of_birth\", \"sql_condition\": \"levenshtein(\\\"date_of_birth_l\\\", \\\"date_of_birth_r\\\") <= 1\", \"label_for_charts\": \"levenshtein <= 1\", \"m_probability\": 0.0035978517502469865, \"u_probability\": 0.010539253386114247, \"m_probability_description\": \"Amongst matching record comparisons, 0.36% of records are in the levenshtein <= 1 comparison level\", \"u_probability_description\": \"Amongst non-matching record comparisons, 1.05% of records are in the levenshtein <= 1 comparison level\", \"has_tf_adjustments\": false, \"tf_adjustment_column\": null, \"tf_adjustment_weight\": 1.0, \"is_null_level\": false, \"bayes_factor\": 0.3413763402811108, \"log2_bayes_factor\": -1.550565021706054, \"comparison_vector_value\": 1, \"max_comparison_vector_value\": 2, \"bayes_factor_description\": \"If comparison level is `levenshtein <= 1` then comparison is  2.93 times less likely to be a match\", \"probability_two_random_records_match\": 0.00044583147570218456, \"comparison_sort_order\": 2}, {\"comparison_name\": \"date_of_birth\", \"sql_condition\": \"ELSE\", \"label_for_charts\": \"All other comparisons\", \"m_probability\": 0.01658009726182738, \"u_probability\": 0.9879269464171182, \"m_probability_description\": \"Amongst matching record comparisons, 1.66% of records are in the all other comparisons comparison level\", \"u_probability_description\": \"Amongst non-matching record comparisons, 98.79% of records are in the all other comparisons comparison level\", \"has_tf_adjustments\": false, \"tf_adjustment_column\": null, \"tf_adjustment_weight\": 1.0, \"is_null_level\": false, \"bayes_factor\": 0.016782715890034043, \"log2_bayes_factor\": -5.896879988655391, \"comparison_vector_value\": 0, \"max_comparison_vector_value\": 2, \"bayes_factor_description\": \"If comparison level is `all other comparisons` then comparison is  59.59 times less likely to be a match\", \"probability_two_random_records_match\": 0.00044583147570218456, \"comparison_sort_order\": 2}, {\"comparison_name\": \"sex\", \"sql_condition\": \"\\\"sex_l\\\" = \\\"sex_r\\\"\", \"label_for_charts\": \"Exact match\", \"m_probability\": 0.982051932779176, \"u_probability\": 0.4933264455014816, \"m_probability_description\": \"Amongst matching record comparisons, 98.21% of records are in the exact match comparison level\", \"u_probability_description\": \"Amongst non-matching record comparisons, 49.33% of records are in the exact match comparison level\", \"has_tf_adjustments\": false, \"tf_adjustment_column\": null, \"tf_adjustment_weight\": 1.0, \"is_null_level\": false, \"bayes_factor\": 1.9906736031166743, \"log2_bayes_factor\": 0.9932566917931228, \"comparison_vector_value\": 1, \"max_comparison_vector_value\": 1, \"bayes_factor_description\": \"If comparison level is `exact match` then comparison is 1.99 times more likely to be a match\", \"probability_two_random_records_match\": 0.00044583147570218456, \"comparison_sort_order\": 3}, {\"comparison_name\": \"sex\", \"sql_condition\": \"ELSE\", \"label_for_charts\": \"All other comparisons\", \"m_probability\": 0.01794806722082396, \"u_probability\": 0.5066735544985185, \"m_probability_description\": \"Amongst matching record comparisons, 1.79% of records are in the all other comparisons comparison level\", \"u_probability_description\": \"Amongst non-matching record comparisons, 50.67% of records are in the all other comparisons comparison level\", \"has_tf_adjustments\": false, \"tf_adjustment_column\": null, \"tf_adjustment_weight\": 1.0, \"is_null_level\": false, \"bayes_factor\": 0.03542333532403938, \"log2_bayes_factor\": -4.819156132712807, \"comparison_vector_value\": 0, \"max_comparison_vector_value\": 1, \"bayes_factor_description\": \"If comparison level is `all other comparisons` then comparison is  28.23 times less likely to be a match\", \"probability_two_random_records_match\": 0.00044583147570218456, \"comparison_sort_order\": 3}, {\"comparison_name\": \"zipcode\", \"sql_condition\": \"\\\"zipcode_l\\\" = \\\"zipcode_r\\\"\", \"label_for_charts\": \"Exact match\", \"m_probability\": 0.9855460904584327, \"u_probability\": 0.0032156113869790956, \"m_probability_description\": \"Amongst matching record comparisons, 98.55% of records are in the exact match comparison level\", \"u_probability_description\": \"Amongst non-matching record comparisons, 0.32% of records are in the exact match comparison level\", \"has_tf_adjustments\": false, \"tf_adjustment_column\": null, \"tf_adjustment_weight\": 1.0, \"is_null_level\": false, \"bayes_factor\": 306.4879339739817, \"log2_bayes_factor\": 8.259686467806434, \"comparison_vector_value\": 3, \"max_comparison_vector_value\": 3, \"bayes_factor_description\": \"If comparison level is `exact match` then comparison is 306.49 times more likely to be a match\", \"probability_two_random_records_match\": 0.00044583147570218456, \"comparison_sort_order\": 4}, {\"comparison_name\": \"zipcode\", \"sql_condition\": \"levenshtein(\\\"zipcode_l\\\", \\\"zipcode_r\\\") <= 1\", \"label_for_charts\": \"levenshtein <= 1\", \"m_probability\": 0.009039206273963676, \"u_probability\": 0.016928394603112875, \"m_probability_description\": \"Amongst matching record comparisons, 0.90% of records are in the levenshtein <= 1 comparison level\", \"u_probability_description\": \"Amongst non-matching record comparisons, 1.69% of records are in the levenshtein <= 1 comparison level\", \"has_tf_adjustments\": false, \"tf_adjustment_column\": null, \"tf_adjustment_weight\": 1.0, \"is_null_level\": false, \"bayes_factor\": 0.5339671295411262, \"log2_bayes_factor\": -0.9051771610412088, \"comparison_vector_value\": 2, \"max_comparison_vector_value\": 3, \"bayes_factor_description\": \"If comparison level is `levenshtein <= 1` then comparison is  1.87 times less likely to be a match\", \"probability_two_random_records_match\": 0.00044583147570218456, \"comparison_sort_order\": 4}, {\"comparison_name\": \"zipcode\", \"sql_condition\": \"levenshtein(\\\"zipcode_l\\\", \\\"zipcode_r\\\") <= 2\", \"label_for_charts\": \"levenshtein <= 2\", \"m_probability\": 0.00541470326155128, \"u_probability\": 0.12887839590909222, \"m_probability_description\": \"Amongst matching record comparisons, 0.54% of records are in the levenshtein <= 2 comparison level\", \"u_probability_description\": \"Amongst non-matching record comparisons, 12.89% of records are in the levenshtein <= 2 comparison level\", \"has_tf_adjustments\": false, \"tf_adjustment_column\": null, \"tf_adjustment_weight\": 1.0, \"is_null_level\": false, \"bayes_factor\": 0.04201404916127823, \"log2_bayes_factor\": -4.572984355547874, \"comparison_vector_value\": 1, \"max_comparison_vector_value\": 3, \"bayes_factor_description\": \"If comparison level is `levenshtein <= 2` then comparison is  23.80 times less likely to be a match\", \"probability_two_random_records_match\": 0.00044583147570218456, \"comparison_sort_order\": 4}, {\"comparison_name\": \"zipcode\", \"sql_condition\": \"ELSE\", \"label_for_charts\": \"All other comparisons\", \"m_probability\": 6.052384743696962e-12, \"u_probability\": 0.8509775981008157, \"m_probability_description\": \"Amongst matching record comparisons, 0.00% of records are in the all other comparisons comparison level\", \"u_probability_description\": \"Amongst non-matching record comparisons, 85.10% of records are in the all other comparisons comparison level\", \"has_tf_adjustments\": false, \"tf_adjustment_column\": null, \"tf_adjustment_weight\": 1.0, \"is_null_level\": false, \"bayes_factor\": 7.1122727051857515e-12, \"log2_bayes_factor\": -37.03282649630345, \"comparison_vector_value\": 0, \"max_comparison_vector_value\": 3, \"bayes_factor_description\": \"If comparison level is `all other comparisons` then comparison is  140,602,032,775.10 times less likely to be a match\", \"probability_two_random_records_match\": 0.00044583147570218456, \"comparison_sort_order\": 4}]}, \"vconcat\": [{\"height\": 30, \"mark\": {\"type\": \"bar\", \"clip\": true, \"height\": 20}, \"selection\": {\"zoom_selector\": {\"type\": \"interval\", \"bind\": \"scales\", \"encodings\": [\"x\"]}}, \"transform\": [{\"filter\": \"(datum.comparison_name == 'probability_two_random_records_match')\"}], \"encoding\": {\"color\": {\"type\": \"quantitative\", \"field\": \"log2_bayes_factor\", \"title\": \"Match weight\", \"scale\": {\"range\": [\"red\", \"orange\", \"green\"], \"domain\": [-10, 0, 10]}}, \"tooltip\": [{\"type\": \"nominal\", \"field\": \"comparison_name\", \"title\": \"Comparison name\"}, {\"type\": \"nominal\", \"field\": \"probability_two_random_records_match\", \"format\": \".4f\", \"title\": \"Probability two random records match\"}, {\"type\": \"quantitative\", \"field\": \"log2_bayes_factor\", \"title\": \"Equivalent match weight\", \"format\": \",.4f\"}, {\"type\": \"nominal\", \"field\": \"bayes_factor_description\", \"title\": \"Match weight description\"}], \"x\": {\"type\": \"quantitative\", \"axis\": {\"labels\": false, \"domain\": false, \"title\": \"\", \"ticks\": false}, \"field\": \"log2_bayes_factor\", \"scale\": {\"domain\": [-10, 10]}}, \"y\": {\"type\": \"nominal\", \"field\": \"label_for_charts\", \"axis\": {\"title\": \"Prior (starting) match weight\", \"titleAngle\": 0, \"titleAlign\": \"right\", \"titleFontWeight\": \"normal\"}, \"sort\": {\"field\": \"comparison_vector_value\", \"order\": \"descending\"}}}}, {\"mark\": {\"type\": \"bar\", \"clip\": true}, \"selection\": {\"zoom_selector\": {\"type\": \"interval\", \"bind\": \"scales\", \"encodings\": [\"x\"]}}, \"transform\": [{\"filter\": \"(datum.comparison_name != 'probability_two_random_records_match')\"}], \"encoding\": {\"color\": {\"type\": \"quantitative\", \"field\": \"log2_bayes_factor\", \"title\": \"Match weight\", \"scale\": {\"range\": [\"red\", \"orange\", \"green\"], \"domain\": [-10, 0, 10]}}, \"row\": {\"type\": \"nominal\", \"field\": \"comparison_name\", \"sort\": {\"field\": \"comparison_sort_order\"}, \"header\": {\"labelAngle\": 0, \"labelAnchor\": \"middle\", \"labelAlign\": \"left\"}}, \"tooltip\": [{\"type\": \"nominal\", \"field\": \"comparison_name\", \"title\": \"Comparison name\"}, {\"type\": \"ordinal\", \"field\": \"label_for_charts\", \"title\": \"Label\"}, {\"type\": \"nominal\", \"field\": \"sql_condition\", \"title\": \"SQL condition\"}, {\"type\": \"quantitative\", \"field\": \"m_probability\", \"format\": \".4f\", \"title\": \"M probability\"}, {\"type\": \"quantitative\", \"field\": \"u_probability\", \"format\": \".4f\", \"title\": \"U probability\"}, {\"type\": \"quantitative\", \"field\": \"bayes_factor\", \"title\": \"Bayes factor = m/u\", \"format\": \",.4f\"}, {\"type\": \"quantitative\", \"field\": \"log2_bayes_factor\", \"title\": \"Match weight = log2(m/u)\", \"format\": \",.4f\"}, {\"type\": \"nominal\", \"field\": \"bayes_factor_description\", \"title\": \"Match weight description\"}], \"x\": {\"type\": \"quantitative\", \"axis\": {\"title\": \"Comparison level match weight = log2(m/u)\"}, \"field\": \"log2_bayes_factor\", \"scale\": {\"domain\": [-10, 10]}}, \"y\": {\"type\": \"nominal\", \"field\": \"label_for_charts\", \"axis\": {\"title\": null}, \"sort\": {\"field\": \"comparison_vector_value\", \"order\": \"descending\"}}}, \"resolve\": {\"axis\": {\"y\": \"independent\"}, \"scale\": {\"y\": \"independent\"}}}], \"selection\": {\"zoom_selector\": {\"type\": \"interval\", \"bind\": \"scales\", \"encodings\": [\"x\"]}}, \"resolve\": {\"axis\": {\"y\": \"independent\"}, \"scale\": {\"y\": \"independent\"}}, \"title\": {\"text\": \"Model parameters (components of final match weight)\", \"subtitle\": \"Use mousewheel to zoom\"}, \"$schema\": \"https://vega.github.io/schema/vega-lite/v5.2.json\"}, {\"mode\": \"vega-lite\"});\n",
       "</script>"
      ],
      "text/plain": [
       "<splink.charts.VegaliteNoValidate at 0x7fd80f074bb0>"
      ]
     },
     "execution_count": 22,
     "metadata": {},
     "output_type": "execute_result"
    }
   ],
   "source": [
    "linker.match_weights_chart()"
   ]
  },
  {
   "cell_type": "markdown",
   "id": "ac343bd3",
   "metadata": {},
   "source": [
    "## View settings object as dictionary to see estimated model parameters"
   ]
  },
  {
   "cell_type": "code",
   "execution_count": 23,
   "id": "dc617509",
   "metadata": {
    "scrolled": false
   },
   "outputs": [
    {
     "data": {
      "text/plain": [
       "{'link_type': 'link_only',\n",
       " 'comparisons': [{'output_column_name': 'first_name',\n",
       "   'comparison_levels': [{'sql_condition': '\"first_name_l\" IS NULL OR \"first_name_r\" IS NULL',\n",
       "     'label_for_charts': 'Null',\n",
       "     'is_null_level': True},\n",
       "    {'sql_condition': '\"first_name_l\" = \"first_name_r\"',\n",
       "     'label_for_charts': 'Exact match',\n",
       "     'm_probability': 0.9747169496617627,\n",
       "     'u_probability': 0.0026250185013741807},\n",
       "    {'sql_condition': 'levenshtein(\"first_name_l\", \"first_name_r\") <= 1',\n",
       "     'label_for_charts': 'levenshtein <= 1',\n",
       "     'm_probability': 0.008944600683756722,\n",
       "     'u_probability': 0.001121691156198033},\n",
       "    {'sql_condition': 'levenshtein(\"first_name_l\", \"first_name_r\") <= 2',\n",
       "     'label_for_charts': 'levenshtein <= 2',\n",
       "     'm_probability': 0.0017851557202681523,\n",
       "     'u_probability': 0.005457542611204142},\n",
       "    {'sql_condition': 'ELSE',\n",
       "     'label_for_charts': 'All other comparisons',\n",
       "     'm_probability': 0.014553293934212464,\n",
       "     'u_probability': 0.9907957477312237}],\n",
       "   'comparison_description': 'Exact match vs. levenshtein at thresholds 1, 2 vs. anything else'},\n",
       "  {'output_column_name': 'last_name',\n",
       "   'comparison_levels': [{'sql_condition': '\"last_name_l\" IS NULL OR \"last_name_r\" IS NULL',\n",
       "     'label_for_charts': 'Null',\n",
       "     'is_null_level': True},\n",
       "    {'sql_condition': '\"last_name_l\" = \"last_name_r\"',\n",
       "     'label_for_charts': 'Exact match',\n",
       "     'm_probability': 0.9834359859526289,\n",
       "     'u_probability': 0.001851588506220815},\n",
       "    {'sql_condition': 'levenshtein(\"last_name_l\", \"last_name_r\") <= 1',\n",
       "     'label_for_charts': 'levenshtein <= 1',\n",
       "     'm_probability': 0.003589048396657174,\n",
       "     'u_probability': 0.00014220664075990586},\n",
       "    {'sql_condition': 'levenshtein(\"last_name_l\", \"last_name_r\") <= 2',\n",
       "     'label_for_charts': 'levenshtein <= 2',\n",
       "     'm_probability': 0.0035971098574725116,\n",
       "     'u_probability': 0.0017587188632755704},\n",
       "    {'sql_condition': 'ELSE',\n",
       "     'label_for_charts': 'All other comparisons',\n",
       "     'm_probability': 0.009377855793241432,\n",
       "     'u_probability': 0.9962474859897437}],\n",
       "   'comparison_description': 'Exact match vs. levenshtein at thresholds 1, 2 vs. anything else'},\n",
       "  {'output_column_name': 'date_of_birth',\n",
       "   'comparison_levels': [{'sql_condition': '\"date_of_birth_l\" IS NULL OR \"date_of_birth_r\" IS NULL',\n",
       "     'label_for_charts': 'Null',\n",
       "     'is_null_level': True},\n",
       "    {'sql_condition': '\"date_of_birth_l\" = \"date_of_birth_r\"',\n",
       "     'label_for_charts': 'Exact match',\n",
       "     'm_probability': 0.9798220509879256,\n",
       "     'u_probability': 0.001533800196767556},\n",
       "    {'sql_condition': 'levenshtein(\"date_of_birth_l\", \"date_of_birth_r\") <= 1',\n",
       "     'label_for_charts': 'levenshtein <= 1',\n",
       "     'm_probability': 0.0035978517502469865,\n",
       "     'u_probability': 0.010539253386114247},\n",
       "    {'sql_condition': 'ELSE',\n",
       "     'label_for_charts': 'All other comparisons',\n",
       "     'm_probability': 0.01658009726182738,\n",
       "     'u_probability': 0.9879269464171182}],\n",
       "   'comparison_description': 'Exact match vs. levenshtein at threshold 1 vs. anything else'},\n",
       "  {'output_column_name': 'sex',\n",
       "   'comparison_levels': [{'sql_condition': '\"sex_l\" IS NULL OR \"sex_r\" IS NULL',\n",
       "     'label_for_charts': 'Null',\n",
       "     'is_null_level': True},\n",
       "    {'sql_condition': '\"sex_l\" = \"sex_r\"',\n",
       "     'label_for_charts': 'Exact match',\n",
       "     'm_probability': 0.982051932779176,\n",
       "     'u_probability': 0.4933264455014816},\n",
       "    {'sql_condition': 'ELSE',\n",
       "     'label_for_charts': 'All other comparisons',\n",
       "     'm_probability': 0.01794806722082396,\n",
       "     'u_probability': 0.5066735544985185}],\n",
       "   'comparison_description': 'Exact match vs. anything else'},\n",
       "  {'output_column_name': 'zipcode',\n",
       "   'comparison_levels': [{'sql_condition': '\"zipcode_l\" IS NULL OR \"zipcode_r\" IS NULL',\n",
       "     'label_for_charts': 'Null',\n",
       "     'is_null_level': True},\n",
       "    {'sql_condition': '\"zipcode_l\" = \"zipcode_r\"',\n",
       "     'label_for_charts': 'Exact match',\n",
       "     'm_probability': 0.9855460904584327,\n",
       "     'u_probability': 0.0032156113869790956},\n",
       "    {'sql_condition': 'levenshtein(\"zipcode_l\", \"zipcode_r\") <= 1',\n",
       "     'label_for_charts': 'levenshtein <= 1',\n",
       "     'm_probability': 0.009039206273963676,\n",
       "     'u_probability': 0.016928394603112875},\n",
       "    {'sql_condition': 'levenshtein(\"zipcode_l\", \"zipcode_r\") <= 2',\n",
       "     'label_for_charts': 'levenshtein <= 2',\n",
       "     'm_probability': 0.00541470326155128,\n",
       "     'u_probability': 0.12887839590909222},\n",
       "    {'sql_condition': 'ELSE',\n",
       "     'label_for_charts': 'All other comparisons',\n",
       "     'm_probability': 6.052384743696962e-12,\n",
       "     'u_probability': 0.8509775981008157}],\n",
       "   'comparison_description': 'Exact match vs. levenshtein at thresholds 1, 2 vs. anything else'}],\n",
       " 'probability_two_random_records_match': 0.00044583147570218456,\n",
       " 'blocking_rules_to_generate_predictions': ['substr(l.first_name, 1,1) = substr(r.first_name, 1,1) and substr(l.last_name, 1,1) = substr(r.last_name, 1,1)',\n",
       "  'l.date_of_birth = r.date_of_birth',\n",
       "  'l.zipcode = r.zipcode',\n",
       "  'l.address = r.address',\n",
       "  'l.last_name = r.last_name',\n",
       "  'l.first_name = r.first_name'],\n",
       " 'retain_matching_columns': True,\n",
       " 'retain_intermediate_calculation_columns': True,\n",
       " 'sql_dialect': 'duckdb'}"
      ]
     },
     "execution_count": 23,
     "metadata": {},
     "output_type": "execute_result"
    }
   ],
   "source": [
    "linker._settings_obj.as_dict()"
   ]
  },
  {
   "cell_type": "markdown",
   "id": "85838cb3",
   "metadata": {},
   "source": [
    "# Save trained model\n",
    "\n",
    "It looks like this saves the above dictionary as a `.json` file."
   ]
  },
  {
   "cell_type": "code",
   "execution_count": 24,
   "id": "e659180c",
   "metadata": {},
   "outputs": [],
   "source": [
    "linker.save_settings_to_json(\n",
    "    f\"./{data_dir}/saved_model_from_wic_census_20221014.json\",\n",
    "    overwrite=True\n",
    ")"
   ]
  },
  {
   "cell_type": "code",
   "execution_count": 25,
   "id": "8f1e9b3f",
   "metadata": {},
   "outputs": [
    {
     "name": "stdout",
     "output_type": "stream",
     "text": [
      "total 5496\r\n",
      "-rw-rw-r-- 1 ndbs IHME-users 5535621 Jan 27 10:34 prepared_2020_census_20221014.csv\r\n",
      "-rw-rw-r-- 1 ndbs IHME-users   66364 Jan 27 10:34 prepared_wic_20221014.csv\r\n",
      "-rw-rw-r-- 1 ndbs IHME-users    7610 Jan 27 11:03 saved_model_from_wic_census_20221014.json\r\n"
     ]
    }
   ],
   "source": [
    "!ls -l data/"
   ]
  },
  {
   "cell_type": "markdown",
   "id": "a4179177",
   "metadata": {},
   "source": [
    "### Simulated Data – Disclosure NOT Prohibited: NOT Title 13"
   ]
  },
  {
   "cell_type": "code",
   "execution_count": null,
   "id": "b9e78bc2",
   "metadata": {},
   "outputs": [],
   "source": []
  }
 ],
 "metadata": {
  "kernelspec": {
   "display_name": "Python 3 (ipykernel)",
   "language": "python",
   "name": "python3"
  },
  "language_info": {
   "codemirror_mode": {
    "name": "ipython",
    "version": 3
   },
   "file_extension": ".py",
   "mimetype": "text/x-python",
   "name": "python",
   "nbconvert_exporter": "python",
   "pygments_lexer": "ipython3",
   "version": "3.8.13"
  }
 },
 "nbformat": 4,
 "nbformat_minor": 5
}
