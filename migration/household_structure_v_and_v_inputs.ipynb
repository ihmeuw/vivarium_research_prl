{
 "cells": [
  {
   "cell_type": "code",
   "execution_count": 1,
   "id": "b595db20-590d-4f4d-a120-e0ee5b8f2938",
   "metadata": {},
   "outputs": [
    {
     "name": "stdout",
     "output_type": "stream",
     "text": [
      "zmbc\n",
      "Mon Jan  1 12:48:15 PM PST 2024\n"
     ]
    }
   ],
   "source": [
    "import pandas as pd, numpy as np\n",
    "import seaborn as sns\n",
    "from numpy.random import default_rng\n",
    "import scipy.stats as stats\n",
    "\n",
    "pd.set_option('display.min_rows', 20)\n",
    "\n",
    "! whoami\n",
    "! date"
   ]
  },
  {
   "cell_type": "code",
   "execution_count": 2,
   "id": "9a2f404c-8d7b-4295-8eb0-4f679ce97bda",
   "metadata": {},
   "outputs": [],
   "source": [
    "data_dir = '/ihme/scratch/users/zmbc/vivarium_research_prl/migration/data'\n",
    "acs = pd.read_hdf(f'{data_dir}/acs_2020_5yr_household.hdf', key='acs')"
   ]
  },
  {
   "cell_type": "code",
   "execution_count": null,
   "id": "1c0080f2-7fba-4bd6-b600-0ae00fd66180",
   "metadata": {},
   "outputs": [],
   "source": []
  },
  {
   "cell_type": "code",
   "execution_count": 3,
   "id": "440b5bf5-13c1-443c-9027-eaf1a4e78191",
   "metadata": {},
   "outputs": [],
   "source": [
    "# Duplicate indices! In the future, should probably deal with this in download_acs!\n",
    "# Filter to relevant columns to save memory\n",
    "acs = acs[['SERIALNO', 'TYPEHUGQ', 'ST', 'WGTP']].reset_index(drop=True)"
   ]
  },
  {
   "cell_type": "code",
   "execution_count": 4,
   "id": "d5aa614e-ccca-4f7a-908a-9204381dc49b",
   "metadata": {},
   "outputs": [
    {
     "data": {
      "text/plain": [
       "ST\n",
       "1     0.016401\n",
       "2     0.002300\n",
       "4     0.021964\n",
       "5     0.009967\n",
       "6     0.102656\n",
       "8     0.017058\n",
       "9     0.010989\n",
       "10    0.003167\n",
       "11    0.002306\n",
       "12    0.069076\n",
       "13    0.031276\n",
       "15    0.003948\n",
       "16    0.005327\n",
       "17    0.038816\n",
       "18    0.020976\n",
       "19    0.010170\n",
       "20    0.009249\n",
       "21    0.014408\n",
       "22    0.014987\n",
       "23    0.005395\n",
       "24    0.017768\n",
       "25    0.021043\n",
       "26    0.033315\n",
       "27    0.017756\n",
       "28    0.009614\n",
       "29    0.020260\n",
       "30    0.003720\n",
       "31    0.006099\n",
       "32    0.009164\n",
       "33    0.004613\n",
       "34    0.026213\n",
       "35    0.006816\n",
       "36    0.060412\n",
       "37    0.033858\n",
       "38    0.002720\n",
       "39    0.037687\n",
       "40    0.012576\n",
       "41    0.012922\n",
       "42    0.041272\n",
       "44    0.003390\n",
       "45    0.016753\n",
       "46    0.002866\n",
       "47    0.021643\n",
       "48    0.080277\n",
       "49    0.008021\n",
       "50    0.002436\n",
       "51    0.025556\n",
       "53    0.022756\n",
       "54    0.006455\n",
       "55    0.019572\n",
       "56    0.002012\n",
       "Name: WGTP, dtype: float64"
      ]
     },
     "execution_count": 4,
     "metadata": {},
     "output_type": "execute_result"
    }
   ],
   "source": [
    "# We want the proportion of the *households* in each state in ACS PUMS.\n",
    "# That's because it's only the location of *households* that are independent\n",
    "# of each other.\n",
    "# The GQ population is a whole other issue (we know we are way off in the\n",
    "# state distribution) which is ignored here.\n",
    "state_proportions = (\n",
    "    acs[acs['TYPEHUGQ'] == 1]\n",
    "    .groupby(\"ST\")\n",
    "    .WGTP.sum()\n",
    ")\n",
    "state_proportions = state_proportions / state_proportions.sum()\n",
    "state_proportions"
   ]
  },
  {
   "cell_type": "code",
   "execution_count": 5,
   "id": "fbbb909c-94ec-4ca8-a694-0c2547b7770d",
   "metadata": {
    "tags": []
   },
   "outputs": [
    {
     "data": {
      "text/plain": [
       "51"
      ]
     },
     "execution_count": 5,
     "metadata": {},
     "output_type": "execute_result"
    }
   ],
   "source": [
    "len(state_proportions)"
   ]
  },
  {
   "cell_type": "code",
   "execution_count": 6,
   "id": "a1de61f6-cbe3-42b1-826d-bb0d2f468d8b",
   "metadata": {
    "tags": []
   },
   "outputs": [],
   "source": [
    "import yaml\n",
    "with open('v_and_v_inputs/household_structure.yaml', 'w', encoding='utf-8') as f:\n",
    "    yaml.dump({\n",
    "        'state_proportions': {\n",
    "            'states': {k: float(v) for k, v in state_proportions.items()},\n",
    "            # As in domestic migration, we specify a range of multiplicative\n",
    "            # factors by which we would expect the proportion of the US population\n",
    "            # in any state to drift for each year of population dynamics applied.\n",
    "            # This is pretty conservative for big states, but there are some\n",
    "            # small states that could change rather rapidly.\n",
    "            'multiplicative_drift_per_year': {\n",
    "                'lower_bound': 0.75,\n",
    "                'upper_bound': 1.25,\n",
    "            },\n",
    "        },\n",
    "    }, f, default_flow_style=False)"
   ]
  },
  {
   "cell_type": "code",
   "execution_count": null,
   "id": "0911e324-b2aa-4def-a06b-03c978d22dae",
   "metadata": {},
   "outputs": [],
   "source": []
  }
 ],
 "metadata": {
  "kernelspec": {
   "display_name": "gbd_env",
   "language": "python",
   "name": "gbd_env"
  },
  "language_info": {
   "codemirror_mode": {
    "name": "ipython",
    "version": 3
   },
   "file_extension": ".py",
   "mimetype": "text/x-python",
   "name": "python",
   "nbconvert_exporter": "python",
   "pygments_lexer": "ipython3",
   "version": "3.8.18"
  }
 },
 "nbformat": 4,
 "nbformat_minor": 5
}
