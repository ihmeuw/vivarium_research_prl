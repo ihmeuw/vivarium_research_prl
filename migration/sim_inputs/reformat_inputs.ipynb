{
 "cells": [
  {
   "cell_type": "code",
   "execution_count": 15,
   "id": "f181ae08-1428-4ea9-bfa9-4900ba6f7ddf",
   "metadata": {},
   "outputs": [],
   "source": [
    "import pandas as pd, numpy as np"
   ]
  },
  {
   "cell_type": "code",
   "execution_count": 16,
   "id": "83072e4e-d670-406c-bdc9-bd346dde8b79",
   "metadata": {},
   "outputs": [],
   "source": [
    "import ast\n",
    "\n",
    "def interval_type(s):\n",
    "    \"\"\"Parse interval string to Interval\"\"\"\n",
    "    \n",
    "    table = str.maketrans({'[': '(', ']': ')'})\n",
    "    left_closed = s.startswith('[')\n",
    "    right_closed = s.endswith(']')\n",
    "\n",
    "    left, right = ast.literal_eval(s.translate(table))\n",
    "\n",
    "    t = 'neither'\n",
    "    if left_closed and right_closed:\n",
    "        t = 'both'\n",
    "    elif left_closed:\n",
    "        t = 'left'\n",
    "    elif right_closed:\n",
    "        t = 'right'\n",
    "\n",
    "    return pd.Interval(left, right, closed=t)"
   ]
  },
  {
   "cell_type": "code",
   "execution_count": 18,
   "id": "dedea626-7203-4596-82b1-5044c0fa82a8",
   "metadata": {},
   "outputs": [],
   "source": [
    "def format_emigration_rates_for_file(emigration_rates, name):\n",
    "    emigration_rates = emigration_rates.rename(name).reset_index()\n",
    "    age_bound_cols = ['age_start', 'age_end']\n",
    "    emigration_rates[age_bound_cols] = [[x.left, x.right] for x in emigration_rates['age_group']]\n",
    "    emigration_rates = emigration_rates.drop(columns=['age_group']).rename(columns={'ST': 'state', 'PUMA': 'puma'})\n",
    "    return emigration_rates[age_bound_cols + [c for c in emigration_rates.columns if c not in age_bound_cols]]"
   ]
  },
  {
   "cell_type": "code",
   "execution_count": 19,
   "id": "856a80de-a9de-4b55-8a28-cc4f76db13a4",
   "metadata": {},
   "outputs": [],
   "source": [
    "files = [\n",
    "    ('group_quarters_person_emigration_rates.csv', 'group_quarters_person_emigration_rate'),\n",
    "    ('household_emigration_rates.csv', 'household_emigration_rate'),\n",
    "    ('non_reference_person_emigration_rates.csv', 'non_reference_person_emigration_rate'),\n",
    "]"
   ]
  },
  {
   "cell_type": "code",
   "execution_count": null,
   "id": "f5419a86-b73d-4495-9bfa-81c82c0ed1f9",
   "metadata": {},
   "outputs": [],
   "source": [
    "for (file_name, col_name) in files:\n",
    "    df = pd.read_csv(file_name)\n",
    "    df['age_group'] = df.age_group.apply(interval_type)\n",
    "    df = df.set_index(['age_group', 'sex', 'race_ethnicity', 'born_in_us', 'ST']).emigration_rate\n",
    "    \n",
    "    format_emigration_rates_for_file(df, col_name).to_csv(file_name.replace('.csv', '_new.csv'), index=False)"
   ]
  },
  {
   "cell_type": "code",
   "execution_count": null,
   "id": "f733b31c-ce14-4c78-8013-e1b1c56b082a",
   "metadata": {},
   "outputs": [],
   "source": []
  }
 ],
 "metadata": {
  "kernelspec": {
   "display_name": "Python 3 (ipykernel)",
   "language": "python",
   "name": "python3"
  },
  "language_info": {
   "codemirror_mode": {
    "name": "ipython",
    "version": 3
   },
   "file_extension": ".py",
   "mimetype": "text/x-python",
   "name": "python",
   "nbconvert_exporter": "python",
   "pygments_lexer": "ipython3",
   "version": "3.7.13"
  }
 },
 "nbformat": 4,
 "nbformat_minor": 5
}
