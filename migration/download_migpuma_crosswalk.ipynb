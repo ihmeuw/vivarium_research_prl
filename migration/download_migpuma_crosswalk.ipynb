{
 "cells": [
  {
   "cell_type": "code",
   "execution_count": 1,
   "id": "4ca3c403-b24a-4667-af0c-51cf9cac531b",
   "metadata": {},
   "outputs": [
    {
     "name": "stdout",
     "output_type": "stream",
     "text": [
      "zmbc\n",
      "Wed Oct 26 15:39:56 PDT 2022\n"
     ]
    }
   ],
   "source": [
    "import pandas as pd, numpy as np\n",
    "import pathlib\n",
    "import subprocess\n",
    "\n",
    "! whoami\n",
    "! date"
   ]
  },
  {
   "cell_type": "markdown",
   "id": "94cc9289-44b8-4457-a3c4-1de6022e00f3",
   "metadata": {},
   "source": [
    "# Download PUMA -> MIGPUMA crosswalk"
   ]
  },
  {
   "cell_type": "code",
   "execution_count": 2,
   "id": "32537477-3c54-47fc-974f-d266a5e40fab",
   "metadata": {},
   "outputs": [],
   "source": [
    "raw_data_dir = f'../data/raw/migpuma_crosswalk'\n",
    "path = pathlib.Path(raw_data_dir)\n",
    "path.mkdir(parents=True, exist_ok=True)"
   ]
  },
  {
   "cell_type": "code",
   "execution_count": 3,
   "id": "cf979666-d1b9-4658-9ad7-4f45670c327f",
   "metadata": {},
   "outputs": [
    {
     "name": "stderr",
     "output_type": "stream",
     "text": [
      "--2022-10-26 15:39:56--  https://usa.ipums.org/usa/resources/volii/puma_migpuma1_pwpuma00.xls\n",
      "Resolving usa.ipums.org (usa.ipums.org)... 128.101.163.136\n",
      "Connecting to usa.ipums.org (usa.ipums.org)|128.101.163.136|:443... connected.\n",
      "HTTP request sent, awaiting response... 200 OK\n",
      "Length: 229888 (224K) [application/vnd.ms-excel]\n",
      "Saving to: ‘../data/raw/migpuma_crosswalk/puma_migpuma1_pwpuma00.xls.2’\n",
      "\n",
      "puma_migpuma1_pwpum 100%[===================>] 224.50K  --.-KB/s    in 0.1s    \n",
      "\n",
      "2022-10-26 15:39:57 (1.63 MB/s) - ‘../data/raw/migpuma_crosswalk/puma_migpuma1_pwpuma00.xls.2’ saved [229888/229888]\n",
      "\n"
     ]
    },
    {
     "data": {
      "text/plain": [
       "CompletedProcess(args=['wget', 'https://usa.ipums.org/usa/resources/volii/puma_migpuma1_pwpuma00.xls', '-P', '../data/raw/migpuma_crosswalk', '--progress=bar:force:noscroll'], returncode=0)"
      ]
     },
     "execution_count": 3,
     "metadata": {},
     "output_type": "execute_result"
    }
   ],
   "source": [
    "# 2010 Migration PUMA Definitions from IPUMS\n",
    "# Data file linked from https://usa.ipums.org/usa/volii/10migpuma.shtml\n",
    "subprocess.run([\"wget\", f\"https://usa.ipums.org/usa/resources/volii/puma_migpuma1_pwpuma00.xls\", \"-P\", raw_data_dir, \"--progress=bar:force:noscroll\"])"
   ]
  },
  {
   "cell_type": "code",
   "execution_count": 4,
   "id": "6e0c547f-98a0-405f-8b7a-e1667ee2158f",
   "metadata": {},
   "outputs": [],
   "source": [
    "df = pd.read_excel(pathlib.Path(raw_data_dir) / 'puma_migpuma1_pwpuma00.xls', skiprows=2, skipfooter=5)"
   ]
  },
  {
   "cell_type": "code",
   "execution_count": 5,
   "id": "2d9a6236-80d9-43d6-b256-6f188295ab19",
   "metadata": {},
   "outputs": [],
   "source": [
    "# MIGPUMAs do not cross state lines\n",
    "assert np.all(df['State of Residence (ST)'] == df['Place of Work State (PWSTATE2) or Migration State (MIGPLAC1)'])\n",
    "# Each PUMA is in a single MIGPUMA\n",
    "assert len(df) == len(df[['State of Residence (ST)', 'PUMA']].drop_duplicates())"
   ]
  },
  {
   "cell_type": "code",
   "execution_count": 6,
   "id": "91fbb289-418e-43d7-8bc7-38a613793854",
   "metadata": {},
   "outputs": [
    {
     "data": {
      "text/html": [
       "<div>\n",
       "<style scoped>\n",
       "    .dataframe tbody tr th:only-of-type {\n",
       "        vertical-align: middle;\n",
       "    }\n",
       "\n",
       "    .dataframe tbody tr th {\n",
       "        vertical-align: top;\n",
       "    }\n",
       "\n",
       "    .dataframe thead th {\n",
       "        text-align: right;\n",
       "    }\n",
       "</style>\n",
       "<table border=\"1\" class=\"dataframe\">\n",
       "  <thead>\n",
       "    <tr style=\"text-align: right;\">\n",
       "      <th></th>\n",
       "      <th>ST</th>\n",
       "      <th>PUMA</th>\n",
       "      <th>MIGSP</th>\n",
       "      <th>MIGPUMA</th>\n",
       "    </tr>\n",
       "  </thead>\n",
       "  <tbody>\n",
       "    <tr>\n",
       "      <th>0</th>\n",
       "      <td>1</td>\n",
       "      <td>100</td>\n",
       "      <td>1</td>\n",
       "      <td>190</td>\n",
       "    </tr>\n",
       "    <tr>\n",
       "      <th>1</th>\n",
       "      <td>1</td>\n",
       "      <td>200</td>\n",
       "      <td>1</td>\n",
       "      <td>290</td>\n",
       "    </tr>\n",
       "    <tr>\n",
       "      <th>2</th>\n",
       "      <td>1</td>\n",
       "      <td>301</td>\n",
       "      <td>1</td>\n",
       "      <td>290</td>\n",
       "    </tr>\n",
       "    <tr>\n",
       "      <th>3</th>\n",
       "      <td>1</td>\n",
       "      <td>302</td>\n",
       "      <td>1</td>\n",
       "      <td>290</td>\n",
       "    </tr>\n",
       "    <tr>\n",
       "      <th>4</th>\n",
       "      <td>1</td>\n",
       "      <td>400</td>\n",
       "      <td>1</td>\n",
       "      <td>400</td>\n",
       "    </tr>\n",
       "    <tr>\n",
       "      <th>...</th>\n",
       "      <td>...</td>\n",
       "      <td>...</td>\n",
       "      <td>...</td>\n",
       "      <td>...</td>\n",
       "    </tr>\n",
       "    <tr>\n",
       "      <th>2373</th>\n",
       "      <td>72</td>\n",
       "      <td>902</td>\n",
       "      <td>72</td>\n",
       "      <td>900</td>\n",
       "    </tr>\n",
       "    <tr>\n",
       "      <th>2374</th>\n",
       "      <td>72</td>\n",
       "      <td>1001</td>\n",
       "      <td>72</td>\n",
       "      <td>1001</td>\n",
       "    </tr>\n",
       "    <tr>\n",
       "      <th>2375</th>\n",
       "      <td>72</td>\n",
       "      <td>1002</td>\n",
       "      <td>72</td>\n",
       "      <td>1002</td>\n",
       "    </tr>\n",
       "    <tr>\n",
       "      <th>2376</th>\n",
       "      <td>72</td>\n",
       "      <td>1101</td>\n",
       "      <td>72</td>\n",
       "      <td>1101</td>\n",
       "    </tr>\n",
       "    <tr>\n",
       "      <th>2377</th>\n",
       "      <td>72</td>\n",
       "      <td>1102</td>\n",
       "      <td>72</td>\n",
       "      <td>1102</td>\n",
       "    </tr>\n",
       "  </tbody>\n",
       "</table>\n",
       "<p>2378 rows × 4 columns</p>\n",
       "</div>"
      ],
      "text/plain": [
       "      ST  PUMA  MIGSP  MIGPUMA\n",
       "0      1   100      1      190\n",
       "1      1   200      1      290\n",
       "2      1   301      1      290\n",
       "3      1   302      1      290\n",
       "4      1   400      1      400\n",
       "...   ..   ...    ...      ...\n",
       "2373  72   902     72      900\n",
       "2374  72  1001     72     1001\n",
       "2375  72  1002     72     1002\n",
       "2376  72  1101     72     1101\n",
       "2377  72  1102     72     1102\n",
       "\n",
       "[2378 rows x 4 columns]"
      ]
     },
     "execution_count": 6,
     "metadata": {},
     "output_type": "execute_result"
    }
   ],
   "source": [
    "df = df.rename(columns={'State of Residence (ST)': 'ST', 'Place of Work State (PWSTATE2) or Migration State (MIGPLAC1)': 'MIGSP', 'PWPUMA00 or MIGPUMA1': 'MIGPUMA'})\n",
    "df"
   ]
  },
  {
   "cell_type": "markdown",
   "id": "295431f4-0f9c-4b0d-910f-628519c4b44a",
   "metadata": {},
   "source": [
    "## Investigate number of PUMAs per MIGPUMA"
   ]
  },
  {
   "cell_type": "code",
   "execution_count": 7,
   "id": "7520fab3-b0cd-440d-8f70-48604d7a6692",
   "metadata": {},
   "outputs": [
    {
     "data": {
      "text/plain": [
       "561105     1\n",
       "191800     1\n",
       "190500     1\n",
       "190600     1\n",
       "190700     1\n",
       "          ..\n",
       "173400    34\n",
       "40100     35\n",
       "250390    38\n",
       "484600    38\n",
       "63700     69\n",
       "Name: full_migpuma, Length: 984, dtype: int64"
      ]
     },
     "execution_count": 7,
     "metadata": {},
     "output_type": "execute_result"
    }
   ],
   "source": [
    "df.assign(full_migpuma=lambda x: (x['MIGSP'] * 10_000) + x['MIGPUMA']).full_migpuma.value_counts().sort_values()"
   ]
  },
  {
   "cell_type": "code",
   "execution_count": 8,
   "id": "f263422f-8a22-44e9-9e77-3a015d02df53",
   "metadata": {},
   "outputs": [
    {
     "data": {
      "text/plain": [
       "1     643\n",
       "2     129\n",
       "3      61\n",
       "4      38\n",
       "5      25\n",
       "6      19\n",
       "7      18\n",
       "8      10\n",
       "9       7\n",
       "10      6\n",
       "13      4\n",
       "16      3\n",
       "14      3\n",
       "11      3\n",
       "12      2\n",
       "38      2\n",
       "15      2\n",
       "18      2\n",
       "22      2\n",
       "25      1\n",
       "26      1\n",
       "34      1\n",
       "35      1\n",
       "69      1\n",
       "Name: full_migpuma, dtype: int64"
      ]
     },
     "execution_count": 8,
     "metadata": {},
     "output_type": "execute_result"
    }
   ],
   "source": [
    "df.assign(full_migpuma=lambda x: (x['MIGSP'] * 10_000) + x['MIGPUMA']).full_migpuma.value_counts().value_counts()"
   ]
  },
  {
   "cell_type": "markdown",
   "id": "81b5a078-978b-455e-b099-b2f28805dfdd",
   "metadata": {},
   "source": [
    "## Save data"
   ]
  },
  {
   "cell_type": "code",
   "execution_count": 9,
   "id": "0f2952d9-610b-4421-9572-a03d22188061",
   "metadata": {},
   "outputs": [],
   "source": [
    "df.to_hdf('../data/puma_to_migpuma.hdf', key='puma_to_migpuma', mode='w')"
   ]
  },
  {
   "cell_type": "code",
   "execution_count": null,
   "id": "61c598c8-01c8-4fd5-a072-1e17cedbac81",
   "metadata": {},
   "outputs": [],
   "source": []
  }
 ],
 "metadata": {
  "kernelspec": {
   "display_name": "Python 3 (ipykernel)",
   "language": "python",
   "name": "python3"
  },
  "language_info": {
   "codemirror_mode": {
    "name": "ipython",
    "version": 3
   },
   "file_extension": ".py",
   "mimetype": "text/x-python",
   "name": "python",
   "nbconvert_exporter": "python",
   "pygments_lexer": "ipython3",
   "version": "3.7.13"
  }
 },
 "nbformat": 4,
 "nbformat_minor": 5
}
