{
 "cells": [
  {
   "cell_type": "markdown",
   "id": "f230aa99-16e6-4a39-ac0c-b9285ecde0f9",
   "metadata": {},
   "source": [
    "# Immigration automated V&V inputs\n",
    "\n",
    "We *only* calculate these and not any simulation inputs because the calculation is simple enough that we chose to do it in the simulation."
   ]
  },
  {
   "cell_type": "code",
   "execution_count": 1,
   "id": "f1d57185-52ee-4862-b8f4-74d8a10e2080",
   "metadata": {},
   "outputs": [
    {
     "name": "stdout",
     "output_type": "stream",
     "text": [
      "zmbc\n",
      "Mon Mar 20 11:19:32 PDT 2023\n"
     ]
    }
   ],
   "source": [
    "import pandas as pd, numpy as np\n",
    "import seaborn as sns\n",
    "from numpy.random import default_rng\n",
    "import scipy.stats as stats\n",
    "\n",
    "pd.set_option('display.min_rows', 20)\n",
    "\n",
    "! whoami\n",
    "! date"
   ]
  },
  {
   "cell_type": "code",
   "execution_count": 2,
   "id": "7075be6d-62ca-4538-be9a-a2fd0b5866b4",
   "metadata": {},
   "outputs": [],
   "source": [
    "acs = pd.read_hdf('../data/acs_2020_5yr_person.hdf', key='acs')"
   ]
  },
  {
   "cell_type": "code",
   "execution_count": 3,
   "id": "bccd35a0-d132-4bed-9397-f2b40fecc7ec",
   "metadata": {},
   "outputs": [],
   "source": [
    "# Duplicate indices! In the future, should probably deal with this in download_acs!\n",
    "# Filter to relevant columns to save memory\n",
    "acs = acs[['SERIALNO', 'MIG', 'RELSHIPP', 'PWGTP']].reset_index(drop=True)"
   ]
  },
  {
   "cell_type": "code",
   "execution_count": 4,
   "id": "0b7b3937-40eb-4da0-acf8-9958c5411f9a",
   "metadata": {
    "tags": []
   },
   "outputs": [],
   "source": [
    "# https://www2.census.gov/programs-surveys/acs/tech_docs/pums/data_dict/PUMS_Data_Dictionary_2016-2020.pdf\n",
    "# Mobility status (lived here 1 year ago)\n",
    "# 2 .No, outside US and Puerto Rico\n",
    "recent_immigrants = acs[acs['MIG'] == 2].copy()\n",
    "assert not recent_immigrants.SERIALNO.isnull().any()\n",
    "assert not recent_immigrants.RELSHIPP.isnull().any()\n",
    "recent_immigrants['gq_person'] = recent_immigrants.RELSHIPP.isin([37, 38])\n",
    "recent_immigrants['ref_person'] = (recent_immigrants.RELSHIPP == 20)\n",
    "\n",
    "recent_immigrants['move_type'] = np.where(\n",
    "    recent_immigrants.gq_person,\n",
    "    'gq_person',\n",
    "    np.where(\n",
    "        recent_immigrants.SERIALNO.isin(recent_immigrants[recent_immigrants.ref_person].SERIALNO),\n",
    "        'household',\n",
    "        'non_reference_person',\n",
    "    ),\n",
    ")"
   ]
  },
  {
   "cell_type": "code",
   "execution_count": 5,
   "id": "61ac3cdb-e411-4570-924c-f9ed9a946fb7",
   "metadata": {
    "tags": []
   },
   "outputs": [
    {
     "data": {
      "text/plain": [
       "1842835"
      ]
     },
     "execution_count": 5,
     "metadata": {},
     "output_type": "execute_result"
    }
   ],
   "source": [
    "# The number of people entering the US per year:\n",
    "recent_immigrants.PWGTP.sum()"
   ]
  },
  {
   "cell_type": "code",
   "execution_count": 6,
   "id": "0deab07f-c719-4810-bfca-eac86018bc22",
   "metadata": {
    "tags": []
   },
   "outputs": [
    {
     "data": {
      "text/plain": [
       "move_type\n",
       "gq_person               125443\n",
       "household               970554\n",
       "non_reference_person    746838\n",
       "Name: PWGTP, dtype: int64"
      ]
     },
     "execution_count": 6,
     "metadata": {},
     "output_type": "execute_result"
    }
   ],
   "source": [
    "recent_immigrants.groupby(['move_type']).PWGTP.sum()"
   ]
  },
  {
   "cell_type": "code",
   "execution_count": 7,
   "id": "3b6d635a-2916-4ed7-8e11-11de38b78b44",
   "metadata": {
    "tags": []
   },
   "outputs": [],
   "source": [
    "acs_households = pd.read_hdf('../data/acs_2020_5yr_household.hdf', key='acs')"
   ]
  },
  {
   "cell_type": "code",
   "execution_count": 8,
   "id": "f2bc388d-f607-481a-97ea-8de07cd6bb61",
   "metadata": {
    "tags": []
   },
   "outputs": [],
   "source": [
    "assert recent_immigrants.SERIALNO.isin(acs_households.SERIALNO).all()"
   ]
  },
  {
   "cell_type": "code",
   "execution_count": 9,
   "id": "b2c75e34-e0b4-44cb-8ecc-e6288aa8e0ac",
   "metadata": {
    "tags": []
   },
   "outputs": [],
   "source": [
    "recent_immigrants['household_weight'] = recent_immigrants.SERIALNO.map(acs_households.set_index('SERIALNO').WGTP)"
   ]
  },
  {
   "cell_type": "code",
   "execution_count": 10,
   "id": "63bb4645-0022-42ca-a5e0-fbe533ccca64",
   "metadata": {
    "tags": []
   },
   "outputs": [
    {
     "data": {
      "text/plain": [
       "move_type\n",
       "gq_person               125443\n",
       "non_reference_person    746838\n",
       "Name: PWGTP, dtype: int64"
      ]
     },
     "execution_count": 10,
     "metadata": {},
     "output_type": "execute_result"
    }
   ],
   "source": [
    "individual_immigration_events = recent_immigrants[recent_immigrants.move_type != 'household'].groupby(['move_type']).PWGTP.sum()\n",
    "individual_immigration_events"
   ]
  },
  {
   "cell_type": "code",
   "execution_count": 11,
   "id": "275208aa-4ae0-404e-b501-16638002a6f9",
   "metadata": {
    "tags": []
   },
   "outputs": [
    {
     "data": {
      "text/plain": [
       "move_type\n",
       "household    468080\n",
       "Name: household_weight, dtype: int64"
      ]
     },
     "execution_count": 11,
     "metadata": {},
     "output_type": "execute_result"
    }
   ],
   "source": [
    "assert (recent_immigrants[recent_immigrants.ref_person].move_type == 'household').all()\n",
    "household_immigration_events = recent_immigrants[recent_immigrants.ref_person].groupby(['move_type']).household_weight.sum()\n",
    "household_immigration_events"
   ]
  },
  {
   "cell_type": "code",
   "execution_count": 14,
   "id": "8569c73a-870c-4fc6-9c55-84d1ea7862b6",
   "metadata": {
    "tags": []
   },
   "outputs": [
    {
     "data": {
      "text/plain": [
       "move_type\n",
       "gq_person_immigration_events               125443\n",
       "household_immigration_events               468080\n",
       "non_reference_person_immigration_events    746838\n",
       "dtype: int64"
      ]
     },
     "execution_count": 14,
     "metadata": {},
     "output_type": "execute_result"
    }
   ],
   "source": [
    "immigration_events = pd.concat([individual_immigration_events, household_immigration_events]).add_suffix('_immigration_events').sort_index()\n",
    "immigration_events"
   ]
  },
  {
   "cell_type": "code",
   "execution_count": 17,
   "id": "650674dd-f3af-4ef6-8372-93887ecd5fd3",
   "metadata": {
    "tags": []
   },
   "outputs": [],
   "source": [
    "import json\n",
    "with open('v_and_v_inputs/immigration.json', 'w', encoding='utf-8') as f:\n",
    "    json.dump({k: int(v) for k, v in immigration_events.items()}, f, ensure_ascii=False, indent=4)"
   ]
  },
  {
   "cell_type": "code",
   "execution_count": null,
   "id": "ad48b641-c06e-40b8-b8c8-11b679942830",
   "metadata": {},
   "outputs": [],
   "source": []
  }
 ],
 "metadata": {
  "kernelspec": {
   "display_name": "Python 3 (ipykernel)",
   "language": "python",
   "name": "python3"
  },
  "language_info": {
   "codemirror_mode": {
    "name": "ipython",
    "version": 3
   },
   "file_extension": ".py",
   "mimetype": "text/x-python",
   "name": "python",
   "nbconvert_exporter": "python",
   "pygments_lexer": "ipython3",
   "version": "3.7.16"
  }
 },
 "nbformat": 4,
 "nbformat_minor": 5
}
