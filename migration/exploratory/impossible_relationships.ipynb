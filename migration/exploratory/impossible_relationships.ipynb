{
 "cells": [
  {
   "cell_type": "markdown",
   "id": "32438cac-15b3-4743-b801-bef9d1a0ef49",
   "metadata": {},
   "source": [
    "# Impossible relationships\n",
    "\n",
    "My assumption is that the way relationships are coded in ACS, there should be no more than 1 spouse and no more than 2 parents in each household.\n",
    "This notebook checks that assumption. I also aim to determine if any other relationships have logical limits, though it is not obvious how to conclusively decide this."
   ]
  },
  {
   "cell_type": "markdown",
   "id": "f166b205-d324-4c56-a20e-8c417eccdae0",
   "metadata": {},
   "source": [
    "## Load ACS"
   ]
  },
  {
   "cell_type": "code",
   "execution_count": 1,
   "id": "b4c735ce-2fa8-4c61-8a3c-dd4dff3a2903",
   "metadata": {},
   "outputs": [
    {
     "name": "stdout",
     "output_type": "stream",
     "text": [
      "zmbc\n",
      "Thu Sep 29 09:44:20 PDT 2022\n"
     ]
    }
   ],
   "source": [
    "import pandas as pd, numpy as np\n",
    "\n",
    "! whoami\n",
    "! date"
   ]
  },
  {
   "cell_type": "code",
   "execution_count": 2,
   "id": "1de910fc-437e-4d36-a2e7-c542814d4318",
   "metadata": {},
   "outputs": [],
   "source": [
    "acs = pd.read_hdf('../../data/acs_2020_5yr.hdf', key='acs')"
   ]
  },
  {
   "cell_type": "code",
   "execution_count": 3,
   "id": "aa9a6424-8a49-4780-9993-440f6059793b",
   "metadata": {},
   "outputs": [
    {
     "name": "stdout",
     "output_type": "stream",
     "text": [
      "15,441,673\n"
     ]
    }
   ],
   "source": [
    "print(f'{len(acs):,}')"
   ]
  },
  {
   "cell_type": "markdown",
   "id": "85d0fa34-700b-4daa-aec7-6fc2cf7ba899",
   "metadata": {},
   "source": [
    "## Relationship code meanings\n",
    "|Code|Relationship|\n",
    "|---|---|\n",
    "|20|Reference person|\n",
    "|21|Opposite-sex husband/wife/spouse|\n",
    "|22|Opposite-sex unmarried partner|\n",
    "|23|Same-sex husband/wife/spouse|\n",
    "|24|Same-sex unmarried partner|\n",
    "|25|Biological son or daughter|\n",
    "|26|Adopted son or daughter|\n",
    "|27|Stepson or stepdaughter|\n",
    "|28|Brother or sister|\n",
    "|29|Father or mother|\n",
    "|30|Grandchild|\n",
    "|31|Parent-in-law|\n",
    "|32|Son-in-law or daughter-in-law|\n",
    "|33|Other relative|\n",
    "|34|Roommate or housemate|\n",
    "|35|Foster child|\n",
    "|36|Other nonrelative|\n",
    "|37|Institutionalized group quarters population|\n",
    "|38|Noninstitutionalized group quarters population|"
   ]
  },
  {
   "cell_type": "markdown",
   "id": "94a282f4-85d5-4907-ba00-4e588f945308",
   "metadata": {},
   "source": [
    "## Maximum number of each individual relationship code, and how many times the maximum occurs\n",
    "\n",
    "In relationships with logical limits, I'd expect to see a low maximum, and many households at the maximum."
   ]
  },
  {
   "cell_type": "code",
   "execution_count": 4,
   "id": "6fe25913-fa9e-44a4-bb13-cc758d40f732",
   "metadata": {},
   "outputs": [
    {
     "data": {
      "text/html": [
       "<div>\n",
       "<style scoped>\n",
       "    .dataframe tbody tr th:only-of-type {\n",
       "        vertical-align: middle;\n",
       "    }\n",
       "\n",
       "    .dataframe tbody tr th {\n",
       "        vertical-align: top;\n",
       "    }\n",
       "\n",
       "    .dataframe thead th {\n",
       "        text-align: right;\n",
       "    }\n",
       "</style>\n",
       "<table border=\"1\" class=\"dataframe\">\n",
       "  <thead>\n",
       "    <tr style=\"text-align: right;\">\n",
       "      <th></th>\n",
       "      <th>max</th>\n",
       "      <th>num_max</th>\n",
       "    </tr>\n",
       "    <tr>\n",
       "      <th>RELSHIPP</th>\n",
       "      <th></th>\n",
       "      <th></th>\n",
       "    </tr>\n",
       "  </thead>\n",
       "  <tbody>\n",
       "    <tr>\n",
       "      <th>20</th>\n",
       "      <td>1</td>\n",
       "      <td>6017646</td>\n",
       "    </tr>\n",
       "    <tr>\n",
       "      <th>21</th>\n",
       "      <td>1</td>\n",
       "      <td>3044255</td>\n",
       "    </tr>\n",
       "    <tr>\n",
       "      <th>22</th>\n",
       "      <td>1</td>\n",
       "      <td>330391</td>\n",
       "    </tr>\n",
       "    <tr>\n",
       "      <th>23</th>\n",
       "      <td>1</td>\n",
       "      <td>30221</td>\n",
       "    </tr>\n",
       "    <tr>\n",
       "      <th>24</th>\n",
       "      <td>1</td>\n",
       "      <td>20761</td>\n",
       "    </tr>\n",
       "    <tr>\n",
       "      <th>25</th>\n",
       "      <td>18</td>\n",
       "      <td>1</td>\n",
       "    </tr>\n",
       "    <tr>\n",
       "      <th>26</th>\n",
       "      <td>13</td>\n",
       "      <td>1</td>\n",
       "    </tr>\n",
       "    <tr>\n",
       "      <th>27</th>\n",
       "      <td>14</td>\n",
       "      <td>1</td>\n",
       "    </tr>\n",
       "    <tr>\n",
       "      <th>28</th>\n",
       "      <td>11</td>\n",
       "      <td>1</td>\n",
       "    </tr>\n",
       "    <tr>\n",
       "      <th>29</th>\n",
       "      <td>4</td>\n",
       "      <td>10</td>\n",
       "    </tr>\n",
       "    <tr>\n",
       "      <th>30</th>\n",
       "      <td>16</td>\n",
       "      <td>1</td>\n",
       "    </tr>\n",
       "    <tr>\n",
       "      <th>31</th>\n",
       "      <td>4</td>\n",
       "      <td>1</td>\n",
       "    </tr>\n",
       "    <tr>\n",
       "      <th>32</th>\n",
       "      <td>8</td>\n",
       "      <td>1</td>\n",
       "    </tr>\n",
       "    <tr>\n",
       "      <th>33</th>\n",
       "      <td>15</td>\n",
       "      <td>3</td>\n",
       "    </tr>\n",
       "    <tr>\n",
       "      <th>34</th>\n",
       "      <td>19</td>\n",
       "      <td>12</td>\n",
       "    </tr>\n",
       "    <tr>\n",
       "      <th>35</th>\n",
       "      <td>18</td>\n",
       "      <td>1</td>\n",
       "    </tr>\n",
       "    <tr>\n",
       "      <th>36</th>\n",
       "      <td>19</td>\n",
       "      <td>38</td>\n",
       "    </tr>\n",
       "    <tr>\n",
       "      <th>37</th>\n",
       "      <td>1</td>\n",
       "      <td>376692</td>\n",
       "    </tr>\n",
       "    <tr>\n",
       "      <th>38</th>\n",
       "      <td>1</td>\n",
       "      <td>412775</td>\n",
       "    </tr>\n",
       "  </tbody>\n",
       "</table>\n",
       "</div>"
      ],
      "text/plain": [
       "          max  num_max\n",
       "RELSHIPP              \n",
       "20          1  6017646\n",
       "21          1  3044255\n",
       "22          1   330391\n",
       "23          1    30221\n",
       "24          1    20761\n",
       "25         18        1\n",
       "26         13        1\n",
       "27         14        1\n",
       "28         11        1\n",
       "29          4       10\n",
       "30         16        1\n",
       "31          4        1\n",
       "32          8        1\n",
       "33         15        3\n",
       "34         19       12\n",
       "35         18        1\n",
       "36         19       38\n",
       "37          1   376692\n",
       "38          1   412775"
      ]
     },
     "execution_count": 4,
     "metadata": {},
     "output_type": "execute_result"
    }
   ],
   "source": [
    "(\n",
    "    acs.groupby(['SERIALNO', 'RELSHIPP']).size().rename('num')\n",
    "        .reset_index()\n",
    "        .groupby('RELSHIPP').apply(lambda x: pd.Series({'max': x.num.max(), 'num_max': len(x[x.num == x.num.max()])}))\n",
    ")"
   ]
  },
  {
   "cell_type": "markdown",
   "id": "d053b868-de09-4f1d-aa23-aa8c4c63d467",
   "metadata": {},
   "source": [
    "## Parent relationship\n",
    "\n",
    "As seen above, there can be up to 4 parents for a single reference person! How common is this?"
   ]
  },
  {
   "cell_type": "code",
   "execution_count": 5,
   "id": "0d876ac1-c9a1-4132-8b3a-3851d01b2561",
   "metadata": {},
   "outputs": [
    {
     "data": {
      "text/plain": [
       "1    113168\n",
       "2     24669\n",
       "3        30\n",
       "4        10\n",
       "dtype: int64"
      ]
     },
     "execution_count": 5,
     "metadata": {},
     "output_type": "execute_result"
    }
   ],
   "source": [
    "acs[acs.RELSHIPP == 29].groupby('SERIALNO').size().value_counts()"
   ]
  },
  {
   "cell_type": "markdown",
   "id": "5b175d9c-8fb6-4389-8312-72b97c4b3391",
   "metadata": {},
   "source": [
    "Very uncommon; **it seems reasonable for us to enforce that this never happens**.\n",
    "\n",
    "Are the parents being duplicated somehow?"
   ]
  },
  {
   "cell_type": "code",
   "execution_count": 6,
   "id": "4306e736-1280-46af-8ab2-62d4820b7702",
   "metadata": {},
   "outputs": [
    {
     "data": {
      "text/html": [
       "<div>\n",
       "<style scoped>\n",
       "    .dataframe tbody tr th:only-of-type {\n",
       "        vertical-align: middle;\n",
       "    }\n",
       "\n",
       "    .dataframe tbody tr th {\n",
       "        vertical-align: top;\n",
       "    }\n",
       "\n",
       "    .dataframe thead th {\n",
       "        text-align: right;\n",
       "    }\n",
       "</style>\n",
       "<table border=\"1\" class=\"dataframe\">\n",
       "  <thead>\n",
       "    <tr style=\"text-align: right;\">\n",
       "      <th></th>\n",
       "      <th>AGEP</th>\n",
       "      <th>SEX</th>\n",
       "      <th>RELSHIPP</th>\n",
       "      <th>FOD1P</th>\n",
       "      <th>INDP</th>\n",
       "    </tr>\n",
       "  </thead>\n",
       "  <tbody>\n",
       "    <tr>\n",
       "      <th>2194684</th>\n",
       "      <td>40</td>\n",
       "      <td>1</td>\n",
       "      <td>20</td>\n",
       "      <td>NaN</td>\n",
       "      <td>NaN</td>\n",
       "    </tr>\n",
       "    <tr>\n",
       "      <th>2194685</th>\n",
       "      <td>30</td>\n",
       "      <td>2</td>\n",
       "      <td>21</td>\n",
       "      <td>NaN</td>\n",
       "      <td>7970.0</td>\n",
       "    </tr>\n",
       "    <tr>\n",
       "      <th>2194686</th>\n",
       "      <td>11</td>\n",
       "      <td>1</td>\n",
       "      <td>25</td>\n",
       "      <td>NaN</td>\n",
       "      <td>NaN</td>\n",
       "    </tr>\n",
       "    <tr>\n",
       "      <th>2194687</th>\n",
       "      <td>11</td>\n",
       "      <td>1</td>\n",
       "      <td>25</td>\n",
       "      <td>NaN</td>\n",
       "      <td>NaN</td>\n",
       "    </tr>\n",
       "    <tr>\n",
       "      <th>2194688</th>\n",
       "      <td>8</td>\n",
       "      <td>1</td>\n",
       "      <td>25</td>\n",
       "      <td>NaN</td>\n",
       "      <td>NaN</td>\n",
       "    </tr>\n",
       "    <tr>\n",
       "      <th>2194689</th>\n",
       "      <td>6</td>\n",
       "      <td>1</td>\n",
       "      <td>25</td>\n",
       "      <td>NaN</td>\n",
       "      <td>NaN</td>\n",
       "    </tr>\n",
       "    <tr>\n",
       "      <th>2194690</th>\n",
       "      <td>63</td>\n",
       "      <td>2</td>\n",
       "      <td>29</td>\n",
       "      <td>NaN</td>\n",
       "      <td>8990.0</td>\n",
       "    </tr>\n",
       "    <tr>\n",
       "      <th>2194691</th>\n",
       "      <td>63</td>\n",
       "      <td>1</td>\n",
       "      <td>29</td>\n",
       "      <td>NaN</td>\n",
       "      <td>4971.0</td>\n",
       "    </tr>\n",
       "    <tr>\n",
       "      <th>2194692</th>\n",
       "      <td>63</td>\n",
       "      <td>2</td>\n",
       "      <td>29</td>\n",
       "      <td>NaN</td>\n",
       "      <td>8370.0</td>\n",
       "    </tr>\n",
       "    <tr>\n",
       "      <th>2194693</th>\n",
       "      <td>62</td>\n",
       "      <td>1</td>\n",
       "      <td>29</td>\n",
       "      <td>NaN</td>\n",
       "      <td>4971.0</td>\n",
       "    </tr>\n",
       "    <tr>\n",
       "      <th>2194694</th>\n",
       "      <td>35</td>\n",
       "      <td>2</td>\n",
       "      <td>33</td>\n",
       "      <td>NaN</td>\n",
       "      <td>5480.0</td>\n",
       "    </tr>\n",
       "    <tr>\n",
       "      <th>2194695</th>\n",
       "      <td>37</td>\n",
       "      <td>1</td>\n",
       "      <td>36</td>\n",
       "      <td>NaN</td>\n",
       "      <td>3390.0</td>\n",
       "    </tr>\n",
       "  </tbody>\n",
       "</table>\n",
       "</div>"
      ],
      "text/plain": [
       "         AGEP  SEX  RELSHIPP  FOD1P    INDP\n",
       "2194684    40    1        20    NaN     NaN\n",
       "2194685    30    2        21    NaN  7970.0\n",
       "2194686    11    1        25    NaN     NaN\n",
       "2194687    11    1        25    NaN     NaN\n",
       "2194688     8    1        25    NaN     NaN\n",
       "2194689     6    1        25    NaN     NaN\n",
       "2194690    63    2        29    NaN  8990.0\n",
       "2194691    63    1        29    NaN  4971.0\n",
       "2194692    63    2        29    NaN  8370.0\n",
       "2194693    62    1        29    NaN  4971.0\n",
       "2194694    35    2        33    NaN  5480.0\n",
       "2194695    37    1        36    NaN  3390.0"
      ]
     },
     "execution_count": 6,
     "metadata": {},
     "output_type": "execute_result"
    }
   ],
   "source": [
    "acs[acs.SERIALNO == '2019HU1185509'][['AGEP', 'SEX', 'RELSHIPP', 'FOD1P', 'INDP']]"
   ]
  },
  {
   "cell_type": "markdown",
   "id": "ae458e81-bf6e-4106-9ae8-98c295b447fe",
   "metadata": {},
   "source": [
    "Maybe suspicious of duplication, given narrow age band (all four parents 62-63) but they do all differ on at least one attribute."
   ]
  },
  {
   "cell_type": "markdown",
   "id": "b9d5c251-fa02-4a24-8ba0-b630aa7eea11",
   "metadata": {},
   "source": [
    "## Spouse relationships"
   ]
  },
  {
   "cell_type": "code",
   "execution_count": 7,
   "id": "a453c9f5-d438-4164-b82a-989dc5f1ada8",
   "metadata": {},
   "outputs": [],
   "source": [
    "# There is never more than one partner/spouse, across all partner/spouse relationship types.\n",
    "assert np.all(acs[acs.RELSHIPP.isin([21, 22, 23, 24])].groupby('SERIALNO').size() == 1)"
   ]
  }
 ],
 "metadata": {
  "kernelspec": {
   "display_name": "Python 3 (ipykernel)",
   "language": "python",
   "name": "python3"
  },
  "language_info": {
   "codemirror_mode": {
    "name": "ipython",
    "version": 3
   },
   "file_extension": ".py",
   "mimetype": "text/x-python",
   "name": "python",
   "nbconvert_exporter": "python",
   "pygments_lexer": "ipython3",
   "version": "3.7.13"
  }
 },
 "nbformat": 4,
 "nbformat_minor": 5
}
