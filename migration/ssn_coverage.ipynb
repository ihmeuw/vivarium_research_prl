{
 "cells": [
  {
   "cell_type": "markdown",
   "id": "75e23340-b77f-4646-bcc4-29ed011704f7",
   "metadata": {},
   "source": [
    "# SSN coverage\n",
    "\n",
    "We need a rate at which to assign SSNs in these situations:\n",
    "- Initializing simulants sampled from the PUMS\n",
    "- New births during the simulation -- this is easy (basically 100%) according to https://www.ncbi.nlm.nih.gov/pmc/articles/PMC8712929/\n",
    "- New immigrants during the simulation"
   ]
  },
  {
   "cell_type": "code",
   "execution_count": 1,
   "id": "62129432-6a76-4a39-a31a-e25459e2f2f6",
   "metadata": {
    "tags": []
   },
   "outputs": [
    {
     "name": "stdout",
     "output_type": "stream",
     "text": [
      "zmbc\n",
      "Tue Nov  8 16:42:14 PST 2022\n"
     ]
    }
   ],
   "source": [
    "import pandas as pd, numpy as np\n",
    "import seaborn as sns\n",
    "from numpy.random import default_rng\n",
    "import scipy.stats as stats\n",
    "\n",
    "pd.set_option('display.min_rows', 20)\n",
    "\n",
    "! whoami\n",
    "! date"
   ]
  },
  {
   "cell_type": "code",
   "execution_count": 2,
   "id": "85f5f99e-9f30-48ec-80c4-6b4453dcb8f2",
   "metadata": {
    "tags": []
   },
   "outputs": [],
   "source": [
    "acs = pd.read_hdf('../data/acs_2020_5yr_person.hdf', key='acs')"
   ]
  },
  {
   "cell_type": "code",
   "execution_count": 3,
   "id": "8bc5803c-6591-4487-ac30-e0a88d30fb89",
   "metadata": {
    "tags": []
   },
   "outputs": [],
   "source": [
    "# Duplicate indices! In the future, should probably deal with this in download_acs!\n",
    "# Filter to relevant columns to save memory\n",
    "acs = acs[['SERIALNO', 'MIG', 'RELSHIPP', 'HISP', 'RAC1P', 'AGEP', 'SEX', 'NATIVITY', 'CIT', 'ST', 'PUMA', 'PWGTP']].reset_index(drop=True)"
   ]
  },
  {
   "cell_type": "code",
   "execution_count": 4,
   "id": "d8ecfe35-7a58-48d1-8636-2afc25d08bbe",
   "metadata": {
    "tags": []
   },
   "outputs": [],
   "source": [
    "acs['immigrant_ever'] = (acs.NATIVITY == 2).astype(int)\n",
    "acs['recent_immigrant'] = (acs.MIG == 2).astype(int)\n",
    "acs['citizen'] = (acs.CIT != 5).astype(int)"
   ]
  },
  {
   "cell_type": "markdown",
   "id": "6d7cc6fb-a98a-47c6-b7c5-b39d405f9e6f",
   "metadata": {},
   "source": [
    "## Initializing simulants\n",
    "\n",
    "As noted above (https://www.ncbi.nlm.nih.gov/pmc/articles/PMC8712929/), SSN coverage is very high for US-born people, and has been for\n",
    "quite some time.\n",
    "Given the calculation below, we are fine just assuming that 100% of the people born in the US have an SSN."
   ]
  },
  {
   "cell_type": "code",
   "execution_count": 5,
   "id": "a880c9c6-24cb-4506-a50f-eafceeba774f",
   "metadata": {},
   "outputs": [
    {
     "data": {
      "text/plain": [
       "0.9828152570699517"
      ]
     },
     "execution_count": 5,
     "metadata": {},
     "output_type": "execute_result"
    }
   ],
   "source": [
    "# Rough guess of % of native-born population with an SSN\n",
    "(\n",
    "    acs[acs.immigrant_ever == 0]\n",
    "        .assign(ssn_coverage_era=lambda x: np.where(x.AGEP < 2016 - 1952, 1, np.where(x.AGEP < 2016 - 1919, 0.90, 0.50)))\n",
    "        .assign(ssn_covered=lambda x: x.PWGTP * x.ssn_coverage_era)\n",
    "        .ssn_covered.sum()\n",
    "    / acs[acs.immigrant_ever == 0].PWGTP.sum()\n",
    ")"
   ]
  },
  {
   "cell_type": "markdown",
   "id": "7c6cbf03-13bc-4dad-adf4-c7cee1b9383d",
   "metadata": {},
   "source": [
    "What about for those not born in the US?\n",
    "\n",
    "We will use the percentage of the foreign-born population that are undocumented (aka \"unauthorized\" in government parlance) immigrants to approximate the percentage without SSNs.\n",
    "In reality, a small number of undocumented immigrants may have SSNs (especially if they were issued before 2001, when SSN assignment security was improved).\n",
    "And, some *documented* immigrants may not have SSNs -- those who do not have work authorization.\n",
    "\n",
    "We'll use the 2018 estimate of the undocumented population -- 11.4 million -- from the DHS: https://www.dhs.gov/sites/default/files/publications/immigration-statistics/Pop_Estimate/UnauthImmigrant/unauthorized_immigrant_population_estimates_2015_-_2018.pdf"
   ]
  },
  {
   "cell_type": "code",
   "execution_count": 6,
   "id": "62bce0d1-1b62-4a14-a274-2f18350ad22f",
   "metadata": {},
   "outputs": [
    {
     "data": {
      "text/plain": [
       "0.7433111790615956"
      ]
     },
     "execution_count": 6,
     "metadata": {},
     "output_type": "execute_result"
    }
   ],
   "source": [
    "1 - (11_400_000 / acs[(acs.immigrant_ever == 1)].PWGTP.sum())"
   ]
  },
  {
   "cell_type": "markdown",
   "id": "91389441-5975-4d70-8846-80917997ec47",
   "metadata": {},
   "source": [
    "## New immigrants during the simulation\n",
    "\n",
    "Again, we will assume that those born in the US have SSNs 100% of the time.\n",
    "\n",
    "Again, for the foreign-born population, we assume that undocumented immigrants represent the percentage without SSN.\n",
    "The DHS report does not include the annual flow, but this paper does: https://www.ncbi.nlm.nih.gov/pmc/articles/PMC6150478/.\n",
    "Note that it is criticized in the DHS report for inaccuracy in the 1990s, but this doesn't matter as we are only using\n",
    "the most recent year.\n",
    "\n",
    "In 2017, the most recent year available, it reports that 463,190 undocumented immigrants were in the US who had entered in\n",
    "the past year.\n",
    "We assume all undocumented immigrants were not born in the US (otherwise, they would have citizenship).\n",
    "\n",
    "It makes some sense that this number would be lower, given that almost everyone who entered the US before 1980\n",
    "has legal status, which pushes the all-time number higher."
   ]
  },
  {
   "cell_type": "code",
   "execution_count": 7,
   "id": "9c914d22-863a-44d7-8d64-4ce373882005",
   "metadata": {},
   "outputs": [
    {
     "data": {
      "text/plain": [
       "0.6252505058661051"
      ]
     },
     "execution_count": 7,
     "metadata": {},
     "output_type": "execute_result"
    }
   ],
   "source": [
    "1 - (463_190 / acs[(acs.recent_immigrant == 1) & (acs.immigrant_ever == 1)].PWGTP.sum())"
   ]
  },
  {
   "cell_type": "code",
   "execution_count": null,
   "id": "b19b93e9-12f4-4d8c-bf3c-152aeeef2dcf",
   "metadata": {},
   "outputs": [],
   "source": []
  }
 ],
 "metadata": {
  "kernelspec": {
   "display_name": "Python 3 (ipykernel)",
   "language": "python",
   "name": "python3"
  },
  "language_info": {
   "codemirror_mode": {
    "name": "ipython",
    "version": 3
   },
   "file_extension": ".py",
   "mimetype": "text/x-python",
   "name": "python",
   "nbconvert_exporter": "python",
   "pygments_lexer": "ipython3",
   "version": "3.7.13"
  }
 },
 "nbformat": 4,
 "nbformat_minor": 5
}
