{
 "cells": [
  {
   "cell_type": "code",
   "execution_count": 1,
   "id": "e2ae8909-5d3e-40e2-acb9-122df251ded1",
   "metadata": {},
   "outputs": [
    {
     "name": "stdout",
     "output_type": "stream",
     "text": [
      "zmbc\n",
      "Mon Oct  3 14:30:50 PDT 2022\n"
     ]
    }
   ],
   "source": [
    "import pandas as pd, numpy as np\n",
    "import zipfile\n",
    "import glob\n",
    "import pathlib\n",
    "import shutil\n",
    "import subprocess\n",
    "\n",
    "! whoami\n",
    "! date"
   ]
  },
  {
   "cell_type": "markdown",
   "id": "244039b7-4b1e-4f8e-a11c-3a34cf3ef7ce",
   "metadata": {},
   "source": [
    "# Download ACS PUMS data"
   ]
  },
  {
   "cell_type": "code",
   "execution_count": 2,
   "id": "e7713af2-6a5b-4031-b4c3-5c8f88973d09",
   "metadata": {},
   "outputs": [],
   "source": [
    "FILE_NAMES = {\n",
    "    'person': 'csv_pus',\n",
    "    'household': 'csv_hus',\n",
    "}\n",
    "\n",
    "def download_and_extract(year, time_span_years, redownload=False):\n",
    "    short_name = f'acs_{year}_{time_span_years}yr'\n",
    "    raw_data_dir = f'../data/raw/{short_name}'\n",
    "    path = pathlib.Path(raw_data_dir)\n",
    "    path.mkdir(parents=True, exist_ok=True)\n",
    "\n",
    "    for file_type in ['household', 'person']:\n",
    "        print(f'{file_type} file')\n",
    "        source_file_name = FILE_NAMES[file_type]\n",
    "\n",
    "        if file_type == 'person':\n",
    "            dtypes = {\"RT\": \"object\", \"SERIALNO\": \"object\", \"NAICSP\": \"object\", \"SOCP\": \"object\"}\n",
    "        else:\n",
    "            dtypes = {\"RT\": \"object\", \"SERIALNO\": \"object\"}\n",
    "        \n",
    "        if redownload or not pathlib.Path(f'{raw_data_dir}/{source_file_name}.zip').is_file():\n",
    "            print('downloading')\n",
    "            subprocess.run([\"wget\", f\"https://www2.census.gov/programs-surveys/acs/data/pums/{year}/{time_span_years}-Year/{source_file_name}.zip\", \"-P\", raw_data_dir, \"--progress=bar:force:noscroll\"])\n",
    "\n",
    "        print('extracting')\n",
    "        extraction_path = pathlib.Path(f'{raw_data_dir}/{source_file_name}_extracted')\n",
    "        if extraction_path.is_dir():\n",
    "            shutil.rmtree(extraction_path)\n",
    "        extraction_path.mkdir()\n",
    "\n",
    "        with zipfile.ZipFile(f'{raw_data_dir}/{source_file_name}.zip', 'r') as zip_ref:\n",
    "            zip_ref.extractall(extraction_path)\n",
    "\n",
    "        print('combining data')\n",
    "        df = pd.concat([pd.read_csv(fname, dtype=dtypes) for fname in glob.glob(f'{extraction_path}/*.csv')])\n",
    "        print(f'writing file with {len(df):,} {file_type} rows')\n",
    "        df.to_hdf(f'../data/{short_name}_{file_type}.hdf', key='acs', mode='w')\n",
    "        del df"
   ]
  },
  {
   "cell_type": "markdown",
   "id": "450f8203-b6b1-4cf8-a872-3e472cac1ce8",
   "metadata": {},
   "source": [
    "## 5-year data\n",
    "\n",
    "This is what's loaded into the simulation, and what I expect we will use for most research tasks.\n",
    "\n",
    "Note that the 2018 and 2019 5-year person (and possibly household) files on the Census website are malformed (do not unzip successfully)."
   ]
  },
  {
   "cell_type": "code",
   "execution_count": 3,
   "id": "c44b61ad-d903-419a-8953-589f21aade15",
   "metadata": {},
   "outputs": [
    {
     "name": "stdout",
     "output_type": "stream",
     "text": [
      "household file\n",
      "extracting\n",
      "combining data\n",
      "writing file with 7,426,541 household rows\n",
      "person file\n",
      "extracting\n",
      "combining data\n",
      "writing file with 15,441,673 person rows\n"
     ]
    },
    {
     "name": "stderr",
     "output_type": "stream",
     "text": [
      "/ihme/code/central_comp/miniconda/envs/v157/lib/python3.7/site-packages/pandas/core/generic.py:2718: PerformanceWarning: \n",
      "your performance may suffer as PyTables will pickle object types that it cannot\n",
      "map directly to c-types [inferred_type->mixed,key->block2_values] [items->Index(['RT', 'SERIALNO', 'NAICSP', 'SOCP'], dtype='object')]\n",
      "\n",
      "  encoding=encoding,\n"
     ]
    },
    {
     "name": "stdout",
     "output_type": "stream",
     "text": [
      "CPU times: user 9min 50s, sys: 4min 10s, total: 14min 1s\n",
      "Wall time: 14min 42s\n"
     ]
    }
   ],
   "source": [
    "%%time\n",
    "\n",
    "download_and_extract(year=2020, time_span_years=5)"
   ]
  },
  {
   "cell_type": "markdown",
   "id": "c35e650a-28c1-4232-8caf-52a7d4ec9a20",
   "metadata": {},
   "source": [
    "## 1-year data\n",
    "\n",
    "We may use this if we ever want to answer some question where we think there is a rapid time trend that makes year pooling inappropriate (and sample size is sufficient to answer from one year of data).\n",
    "\n",
    "Note that the 2020 version of this file is experimental (not officially released by Census as part of the standard data series)."
   ]
  },
  {
   "cell_type": "code",
   "execution_count": 4,
   "id": "6027391f-6b84-48f4-b2e9-4d2111a17c44",
   "metadata": {},
   "outputs": [
    {
     "name": "stdout",
     "output_type": "stream",
     "text": [
      "household file\n",
      "extracting\n",
      "combining data\n",
      "writing file with 1,548,188 household rows\n",
      "person file\n",
      "extracting\n",
      "combining data\n",
      "writing file with 3,239,553 person rows\n",
      "CPU times: user 2min 15s, sys: 37.4 s, total: 2min 52s\n",
      "Wall time: 3min\n"
     ]
    }
   ],
   "source": [
    "%%time\n",
    "\n",
    "download_and_extract(year=2019, time_span_years=1)"
   ]
  },
  {
   "cell_type": "code",
   "execution_count": null,
   "id": "f07a808a-92bf-43cc-8294-e1ac89a00ae4",
   "metadata": {},
   "outputs": [],
   "source": []
  }
 ],
 "metadata": {
  "kernelspec": {
   "display_name": "Python 3 (ipykernel)",
   "language": "python",
   "name": "python3"
  },
  "language_info": {
   "codemirror_mode": {
    "name": "ipython",
    "version": 3
   },
   "file_extension": ".py",
   "mimetype": "text/x-python",
   "name": "python",
   "nbconvert_exporter": "python",
   "pygments_lexer": "ipython3",
   "version": "3.7.13"
  }
 },
 "nbformat": 4,
 "nbformat_minor": 5
}
