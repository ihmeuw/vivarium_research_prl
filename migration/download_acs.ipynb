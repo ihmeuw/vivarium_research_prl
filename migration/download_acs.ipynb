{
 "cells": [
  {
   "cell_type": "code",
   "execution_count": 1,
   "id": "e2ae8909-5d3e-40e2-acb9-122df251ded1",
   "metadata": {},
   "outputs": [
    {
     "name": "stdout",
     "output_type": "stream",
     "text": [
      "zmbc\n",
      "Thu Sep 29 09:32:28 PDT 2022\n"
     ]
    }
   ],
   "source": [
    "import pandas as pd, numpy as np\n",
    "import zipfile\n",
    "import glob\n",
    "\n",
    "! whoami\n",
    "! date"
   ]
  },
  {
   "cell_type": "code",
   "execution_count": 2,
   "id": "a70a40e1-9a89-48a7-a711-5d309ae45d9a",
   "metadata": {},
   "outputs": [],
   "source": [
    "# 2019 data does not work!\n",
    "! mkdir -p ../data/raw/acs_2019_5yr\n",
    "! [ ! -e ../data/raw/acs_2019_5yr/csv_pus.zip ] && wget https://www2.census.gov/programs-surveys/acs/data/pums/2019/5-Year/csv_pus.zip -P ../data/raw/acs_2019_5yr"
   ]
  },
  {
   "cell_type": "code",
   "execution_count": 3,
   "id": "12492fc9-f094-424d-b20c-d28dcf2fa553",
   "metadata": {},
   "outputs": [],
   "source": [
    "# Neither does 2018!\n",
    "! mkdir -p ../data/raw/acs_2018_5yr\n",
    "! [ ! -e ../data/raw/acs_2018_5yr/csv_pus.zip ] && wget https://www2.census.gov/programs-surveys/acs/data/pums/2018/5-Year/csv_pus.zip -P ../data/raw/acs_2018_5yr"
   ]
  },
  {
   "cell_type": "code",
   "execution_count": 4,
   "id": "67e717bf-e711-489f-9809-400c7adce9cb",
   "metadata": {},
   "outputs": [],
   "source": [
    "! mkdir -p ../data/raw/acs_2020_5yr\n",
    "! [ ! -e ../data/raw/acs_2020_5yr/csv_pus.zip ] && wget https://www2.census.gov/programs-surveys/acs/data/pums/2020/5-Year/csv_pus.zip -P ../data/raw/acs_2020_5yr"
   ]
  },
  {
   "cell_type": "code",
   "execution_count": 5,
   "id": "d1ac4f39-9097-4b30-a554-b83e63632014",
   "metadata": {},
   "outputs": [
    {
     "name": "stdout",
     "output_type": "stream",
     "text": [
      "2019 5-year zip file malformed\n"
     ]
    }
   ],
   "source": [
    "try:\n",
    "    with zipfile.ZipFile('../data/raw/acs_2019_5yr/csv_pus.zip', 'r') as zip_ref:\n",
    "        zip_ref.extractall('../data/raw/acs_2019_5yr')\n",
    "except zipfile.BadZipFile:\n",
    "    print('2019 5-year zip file malformed')"
   ]
  },
  {
   "cell_type": "code",
   "execution_count": 6,
   "id": "827fea6b-7218-4ae1-8d53-1bf1557d3a63",
   "metadata": {},
   "outputs": [
    {
     "name": "stdout",
     "output_type": "stream",
     "text": [
      "2018 5-year zip file malformed\n"
     ]
    }
   ],
   "source": [
    "try:\n",
    "    with zipfile.ZipFile('../data/raw/acs_2018_5yr/csv_pus.zip', 'r') as zip_ref:\n",
    "        zip_ref.extractall('../data/raw/acs_2018_5yr')\n",
    "except zipfile.BadZipFile:\n",
    "    print('2018 5-year zip file malformed')"
   ]
  },
  {
   "cell_type": "code",
   "execution_count": 7,
   "id": "2a522105-36c5-43a0-8042-48048d204c6d",
   "metadata": {},
   "outputs": [],
   "source": [
    "with zipfile.ZipFile('../data/raw/acs_2020_5yr/csv_pus.zip', 'r') as zip_ref:\n",
    "    zip_ref.extractall('../data/raw/acs_2020_5yr')"
   ]
  },
  {
   "cell_type": "code",
   "execution_count": 8,
   "id": "5d30b698-997d-4e1f-9db6-10d32c6aac11",
   "metadata": {},
   "outputs": [
    {
     "name": "stderr",
     "output_type": "stream",
     "text": [
      "/ihme/code/central_comp/miniconda/envs/v156/lib/python3.7/site-packages/ipykernel_launcher.py:1: DtypeWarning: Columns (1) have mixed types.Specify dtype option on import or set low_memory=False.\n",
      "  \"\"\"Entry point for launching an IPython kernel.\n"
     ]
    },
    {
     "name": "stdout",
     "output_type": "stream",
     "text": [
      "CPU times: user 4min 16s, sys: 59.4 s, total: 5min 16s\n",
      "Wall time: 5min 16s\n"
     ]
    },
    {
     "data": {
      "text/plain": [
       "15441673"
      ]
     },
     "execution_count": 8,
     "metadata": {},
     "output_type": "execute_result"
    }
   ],
   "source": [
    "%%time\n",
    "\n",
    "acs_2020_5yr = pd.concat([pd.read_csv(fname) for fname in glob.glob('../data/raw/acs_2020_5yr/psam_pus*.csv')])\n",
    "len(acs_2020_5yr)"
   ]
  },
  {
   "cell_type": "code",
   "execution_count": 9,
   "id": "f40ea071-199f-4fba-a1bb-cdbb392fdbd9",
   "metadata": {},
   "outputs": [
    {
     "name": "stderr",
     "output_type": "stream",
     "text": [
      "/ihme/code/central_comp/miniconda/envs/v156/lib/python3.7/site-packages/pandas/core/generic.py:2718: PerformanceWarning: \n",
      "your performance may suffer as PyTables will pickle object types that it cannot\n",
      "map directly to c-types [inferred_type->mixed-integer,key->block2_values] [items->Index(['RT', 'SERIALNO', 'NAICSP', 'SOCP'], dtype='object')]\n",
      "\n",
      "  encoding=encoding,\n"
     ]
    }
   ],
   "source": [
    "acs_2020_5yr.to_hdf('../data/acs_2020_5yr.hdf', key='acs', mode='w')"
   ]
  },
  {
   "cell_type": "code",
   "execution_count": 10,
   "id": "a8bfa4b9-0a17-448b-a8a4-a8f850c341f0",
   "metadata": {},
   "outputs": [],
   "source": [
    "! mkdir -p ../data/raw/acs_2019_1yr\n",
    "! [ ! -e ../data/raw/acs_2019_1yr/csv_pus.zip ] && wget https://www2.census.gov/programs-surveys/acs/data/pums/2019/1-Year/csv_pus.zip -P ../data/raw/acs_2019_1yr"
   ]
  },
  {
   "cell_type": "code",
   "execution_count": 11,
   "id": "0dff2ce3-beee-493f-890e-587406f8df0b",
   "metadata": {},
   "outputs": [],
   "source": [
    "with zipfile.ZipFile('../data/raw/acs_2019_1yr/csv_pus.zip', 'r') as zip_ref:\n",
    "    zip_ref.extractall('../data/raw/acs_2019_1yr')"
   ]
  },
  {
   "cell_type": "code",
   "execution_count": 12,
   "id": "f026eb65-733e-4f57-99cd-ba9a7e093417",
   "metadata": {},
   "outputs": [
    {
     "name": "stdout",
     "output_type": "stream",
     "text": [
      "CPU times: user 57.8 s, sys: 10.7 s, total: 1min 8s\n",
      "Wall time: 1min 8s\n"
     ]
    },
    {
     "data": {
      "text/plain": [
       "3239553"
      ]
     },
     "execution_count": 12,
     "metadata": {},
     "output_type": "execute_result"
    }
   ],
   "source": [
    "%%time\n",
    "\n",
    "acs_2019_1yr = pd.concat([pd.read_csv(fname) for fname in glob.glob('../data/raw/acs_2019_1yr/psam_pus*.csv')])\n",
    "len(acs_2019_1yr)"
   ]
  },
  {
   "cell_type": "code",
   "execution_count": 13,
   "id": "1786e8cf-7d3f-4492-beb4-019a56e86f6d",
   "metadata": {},
   "outputs": [
    {
     "name": "stderr",
     "output_type": "stream",
     "text": [
      "/ihme/code/central_comp/miniconda/envs/v156/lib/python3.7/site-packages/pandas/core/generic.py:2718: PerformanceWarning: \n",
      "your performance may suffer as PyTables will pickle object types that it cannot\n",
      "map directly to c-types [inferred_type->mixed,key->block2_values] [items->Index(['RT', 'SERIALNO', 'NAICSP', 'SOCP'], dtype='object')]\n",
      "\n",
      "  encoding=encoding,\n"
     ]
    }
   ],
   "source": [
    "acs_2019_1yr.to_hdf('../data/acs_2019_1yr.hdf', key='acs', mode='w')"
   ]
  },
  {
   "cell_type": "code",
   "execution_count": null,
   "id": "f07a808a-92bf-43cc-8294-e1ac89a00ae4",
   "metadata": {},
   "outputs": [],
   "source": []
  }
 ],
 "metadata": {
  "kernelspec": {
   "display_name": "Python 3 (ipykernel)",
   "language": "python",
   "name": "python3"
  },
  "language_info": {
   "codemirror_mode": {
    "name": "ipython",
    "version": 3
   },
   "file_extension": ".py",
   "mimetype": "text/x-python",
   "name": "python",
   "nbconvert_exporter": "python",
   "pygments_lexer": "ipython3",
   "version": "3.7.13"
  }
 },
 "nbformat": 4,
 "nbformat_minor": 5
}
