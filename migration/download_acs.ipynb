{
 "cells": [
  {
   "cell_type": "code",
   "execution_count": 1,
   "id": "e2ae8909-5d3e-40e2-acb9-122df251ded1",
   "metadata": {},
   "outputs": [
    {
     "name": "stdout",
     "output_type": "stream",
     "text": [
      "zmbc\n",
      "Tue Sep 27 15:46:39 PDT 2022\n"
     ]
    }
   ],
   "source": [
    "import pandas as pd, numpy as np\n",
    "import zipfile\n",
    "\n",
    "! whoami\n",
    "! date"
   ]
  },
  {
   "cell_type": "code",
   "execution_count": 2,
   "id": "a70a40e1-9a89-48a7-a711-5d309ae45d9a",
   "metadata": {},
   "outputs": [],
   "source": [
    "# 2019 data does not work!\n",
    "! mkdir -p ../data/raw/acs_2019_5yr\n",
    "! [ ! -e ../data/raw/acs_2019_5yr/csv_pus.zip ] && wget https://www2.census.gov/programs-surveys/acs/data/pums/2019/5-Year/csv_pus.zip -P ../data/raw/acs_2019_5yr"
   ]
  },
  {
   "cell_type": "code",
   "execution_count": 3,
   "id": "12492fc9-f094-424d-b20c-d28dcf2fa553",
   "metadata": {},
   "outputs": [],
   "source": [
    "! mkdir -p ../data/raw/acs_2018_5yr\n",
    "! [ ! -e ../data/raw/acs_2018_5yr/csv_pus.zip ] && wget https://www2.census.gov/programs-surveys/acs/data/pums/2018/5-Year/csv_pus.zip -P ../data/raw/acs_2018_5yr"
   ]
  },
  {
   "cell_type": "code",
   "execution_count": 4,
   "id": "d1ac4f39-9097-4b30-a554-b83e63632014",
   "metadata": {},
   "outputs": [
    {
     "name": "stdout",
     "output_type": "stream",
     "text": [
      "2019 5-year zip file malformed\n"
     ]
    }
   ],
   "source": [
    "try:\n",
    "    with zipfile.ZipFile('../data/raw/acs_2019_5yr/csv_pus.zip', 'r') as zip_ref:\n",
    "        zip_ref.extractall('../data/raw/acs_2019_5yr')\n",
    "except zipfile.BadZipFile:\n",
    "    print('2019 5-year zip file malformed')"
   ]
  },
  {
   "cell_type": "code",
   "execution_count": 5,
   "id": "827fea6b-7218-4ae1-8d53-1bf1557d3a63",
   "metadata": {},
   "outputs": [
    {
     "name": "stdout",
     "output_type": "stream",
     "text": [
      "2018 5-year zip file malformed\n"
     ]
    }
   ],
   "source": [
    "try:\n",
    "    with zipfile.ZipFile('../data/raw/acs_2018_5yr/csv_pus.zip', 'r') as zip_ref:\n",
    "        zip_ref.extractall('../data/raw/acs_2018_5yr')\n",
    "except zipfile.BadZipFile:\n",
    "    print('2018 5-year zip file malformed')"
   ]
  },
  {
   "cell_type": "code",
   "execution_count": 6,
   "id": "a8bfa4b9-0a17-448b-a8a4-a8f850c341f0",
   "metadata": {},
   "outputs": [],
   "source": [
    "! mkdir -p ../data/raw/acs_2019_1yr\n",
    "! [ ! -e ../data/raw/acs_2019_1yr/csv_pus.zip ] && wget https://www2.census.gov/programs-surveys/acs/data/pums/2019/1-Year/csv_pus.zip -P ../data/raw/acs_2019_1yr"
   ]
  },
  {
   "cell_type": "code",
   "execution_count": 7,
   "id": "0dff2ce3-beee-493f-890e-587406f8df0b",
   "metadata": {},
   "outputs": [],
   "source": [
    "with zipfile.ZipFile('../data/raw/acs_2019_1yr/csv_pus.zip', 'r') as zip_ref:\n",
    "    zip_ref.extractall('../data/raw/acs_2019_1yr')"
   ]
  },
  {
   "cell_type": "code",
   "execution_count": 8,
   "id": "f026eb65-733e-4f57-99cd-ba9a7e093417",
   "metadata": {},
   "outputs": [],
   "source": [
    "acs_2019_1yr = pd.concat([\n",
    "    pd.read_csv('../data/raw/acs_2019_1yr/psam_pusa.csv'),\n",
    "    pd.read_csv('../data/raw/acs_2019_1yr/psam_pusb.csv'),\n",
    "])"
   ]
  },
  {
   "cell_type": "code",
   "execution_count": 9,
   "id": "1786e8cf-7d3f-4492-beb4-019a56e86f6d",
   "metadata": {},
   "outputs": [],
   "source": [
    "acs_2019_1yr.to_csv('../data/acs_2019_1yr.csv')"
   ]
  }
 ],
 "metadata": {
  "kernelspec": {
   "display_name": "Python 3 (ipykernel)",
   "language": "python",
   "name": "python3"
  },
  "language_info": {
   "codemirror_mode": {
    "name": "ipython",
    "version": 3
   },
   "file_extension": ".py",
   "mimetype": "text/x-python",
   "name": "python",
   "nbconvert_exporter": "python",
   "pygments_lexer": "ipython3",
   "version": "3.7.13"
  }
 },
 "nbformat": 4,
 "nbformat_minor": 5
}
