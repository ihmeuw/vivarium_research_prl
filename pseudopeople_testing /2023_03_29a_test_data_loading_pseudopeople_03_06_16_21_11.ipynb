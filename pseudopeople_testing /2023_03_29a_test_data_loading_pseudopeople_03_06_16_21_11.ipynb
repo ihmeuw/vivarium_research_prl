{
 "cells": [
  {
   "cell_type": "code",
   "execution_count": 9,
   "id": "ebb4d107-21ce-4a0a-af23-1aff7e2c6b3a",
   "metadata": {},
   "outputs": [
    {
     "name": "stdout",
     "output_type": "stream",
     "text": [
      "Wed Mar 29 15:46:55 PDT 2023\n",
      "pletale\n",
      "Linux long-slurm-sarchive-p0041 5.4.0-135-generic #152-Ubuntu SMP Wed Nov 23 20:19:22 UTC 2022 x86_64 x86_64 x86_64 GNU/Linux\n",
      "/mnt/share/scratch/users/zmbc/vivarium_results/united_states_of_america/2023_03_20_11_09_48/final_results/2023_03_20_12_31_44\n"
     ]
    }
   ],
   "source": [
    "import numpy as np, matplotlib.pyplot as plt, pandas as pd\n",
    "pd.set_option('display.max_rows', 50)\n",
    "\n",
    "import os\n",
    "# Use this to see how much memory the dataframes use\n",
    "from sys import getsizeof\n",
    "\n",
    "import pseudopeople as pp\n",
    "# from vivarium_research_prl.noise import corruption, fake_names, noisify\n",
    "# from vivarium_research_prl.find_kids import datasets, noisify_data\n",
    "\n",
    "!date\n",
    "!whoami\n",
    "!uname -a\n",
    "!pwd"
   ]
  },
  {
   "cell_type": "code",
   "execution_count": 10,
   "id": "98dd6f5f-c26a-4906-9ef3-4a8ea11b20e2",
   "metadata": {
    "tags": []
   },
   "outputs": [
    {
     "data": {
      "text/plain": [
       "['__about__',\n",
       " '__author__',\n",
       " '__builtins__',\n",
       " '__cached__',\n",
       " '__copyright__',\n",
       " '__doc__',\n",
       " '__email__',\n",
       " '__file__',\n",
       " '__license__',\n",
       " '__loader__',\n",
       " '__name__',\n",
       " '__package__',\n",
       " '__path__',\n",
       " '__spec__',\n",
       " '__summary__',\n",
       " '__title__',\n",
       " '__uri__',\n",
       " '__version__',\n",
       " 'entities',\n",
       " 'entity_types',\n",
       " 'generate_decennial_census',\n",
       " 'interface',\n",
       " 'noise',\n",
       " 'noise_functions',\n",
       " 'utilities']"
      ]
     },
     "execution_count": 10,
     "metadata": {},
     "output_type": "execute_result"
    }
   ],
   "source": [
    "dir(pp)"
   ]
  },
  {
   "cell_type": "code",
   "execution_count": 11,
   "id": "34d17db1-1d09-46c9-9464-42942416f530",
   "metadata": {},
   "outputs": [
    {
     "name": "stdout",
     "output_type": "stream",
     "text": [
      "/mnt/share/scratch/users/zmbc/vivarium_results/united_states_of_america/2023_03_20_11_09_48/final_results/2023_03_20_12_31_44\n",
      "total 40K\n",
      "drwxrwxr-x  8 zmbc Domain Users 3.5K Mar 20 12:35 ..\n",
      "drwxrwxr-x  2 zmbc Domain Users  512 Mar 20 12:35 tax_dependents_observer\n",
      "drwxrwxr-x 10 zmbc Domain Users 4.0K Mar 20 12:35 .\n",
      "drwxrwxr-x  2 zmbc Domain Users  512 Mar 20 12:35 tax_1040_observer\n",
      "drwxrwxr-x  2 zmbc Domain Users  512 Mar 20 12:35 tax_w2_observer\n",
      "drwxrwxr-x  2 zmbc Domain Users  512 Mar 20 12:35 social_security_observer\n",
      "drwxrwxr-x  2 zmbc Domain Users  512 Mar 20 12:35 wic_observer\n",
      "drwxrwxr-x  2 zmbc Domain Users  512 Mar 20 12:35 household_survey_observer_cps\n",
      "drwxrwxr-x  2 zmbc Domain Users  512 Mar 20 12:35 household_survey_observer_acs\n",
      "drwxrwxr-x  2 zmbc Domain Users  512 Mar 20 12:35 decennial_census_observer\n"
     ]
    }
   ],
   "source": [
    "# Loading Zeb's test data\n",
    "%cd /ihme/scratch/users/zmbc/vivarium_results/united_states_of_america/2023_03_20_11_09_48/final_results/2023_03_20_12_31_44 \n",
    "!ls -halt"
   ]
  },
  {
   "cell_type": "code",
   "execution_count": 8,
   "id": "4322d8c4-6581-4f59-a4e2-741d8cde5247",
   "metadata": {
    "tags": []
   },
   "outputs": [
    {
     "ename": "TypeError",
     "evalue": "'module' object is not callable",
     "output_type": "error",
     "traceback": [
      "\u001b[0;31m---------------------------------------------------------------------------\u001b[0m",
      "\u001b[0;31mTypeError\u001b[0m                                 Traceback (most recent call last)",
      "File \u001b[0;32m<timed exec>:1\u001b[0m\n",
      "\u001b[0;31mTypeError\u001b[0m: 'module' object is not callable"
     ]
    }
   ],
   "source": []
  },
  {
   "cell_type": "code",
   "execution_count": 6,
   "id": "d2e0b37d-aa77-43b1-806c-fdfcf1af4e85",
   "metadata": {},
   "outputs": [
    {
     "ename": "NameError",
     "evalue": "name 'df' is not defined",
     "output_type": "error",
     "traceback": [
      "\u001b[0;31m---------------------------------------------------------------------------\u001b[0m",
      "\u001b[0;31mNameError\u001b[0m                                 Traceback (most recent call last)",
      "Cell \u001b[0;32mIn[6], line 1\u001b[0m\n\u001b[0;32m----> 1\u001b[0m \u001b[43mdf\u001b[49m\n",
      "\u001b[0;31mNameError\u001b[0m: name 'df' is not defined"
     ]
    }
   ],
   "source": [
    "df"
   ]
  },
  {
   "cell_type": "code",
   "execution_count": 9,
   "id": "7dc5d38c-8bbc-4e35-9f47-5b30755203b8",
   "metadata": {},
   "outputs": [
    {
     "data": {
      "text/plain": [
       "{'middle_initial': 'M',\n",
       " 'census_year': 2020,\n",
       " 'zipcode': 77566.0,\n",
       " 'housing_type': 'Standard',\n",
       " 'simulant_id': '2284_0',\n",
       " 'guardian_1': '2284_-1',\n",
       " 'race_ethnicity': 'Latino',\n",
       " 'date_of_birth': '1982-02-09',\n",
       " 'last_name': 'Ticas',\n",
       " 'first_name': 'Michael',\n",
       " 'age': 38.14174167482581,\n",
       " 'street_name': 'adams st',\n",
       " 'city': 'sour lake',\n",
       " 'guardian_2': '2284_-1',\n",
       " 'relation_to_household_head': 'Reference person',\n",
       " 'sex': 'Male',\n",
       " 'unit_number': nan,\n",
       " 'street_number': '7136',\n",
       " 'state': 'TX'}"
      ]
     },
     "execution_count": 9,
     "metadata": {},
     "output_type": "execute_result"
    }
   ],
   "source": [
    "df.iloc[0].to_dict()"
   ]
  },
  {
   "cell_type": "code",
   "execution_count": null,
   "id": "824ca58a-f2e8-4016-9b8a-561410ac13e0",
   "metadata": {},
   "outputs": [],
   "source": []
  }
 ],
 "metadata": {
  "kernelspec": {
   "display_name": "Python 3 (ipykernel)",
   "language": "python",
   "name": "python3"
  },
  "language_info": {
   "codemirror_mode": {
    "name": "ipython",
    "version": 3
   },
   "file_extension": ".py",
   "mimetype": "text/x-python",
   "name": "python",
   "nbconvert_exporter": "python",
   "pygments_lexer": "ipython3",
   "version": "3.8.16"
  }
 },
 "nbformat": 4,
 "nbformat_minor": 5
}
