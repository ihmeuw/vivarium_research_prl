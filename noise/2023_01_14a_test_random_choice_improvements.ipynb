{
 "cells": [
  {
   "cell_type": "code",
   "execution_count": 1,
   "id": "169bc7c8",
   "metadata": {},
   "outputs": [
    {
     "name": "stdout",
     "output_type": "stream",
     "text": [
      "Sat 14 Jan 2023 11:11:26 AM PST\n",
      "ndbs\n",
      "Linux int-slurm-sarchive-p0008 5.4.0-88-generic #99-Ubuntu SMP Thu Sep 23 17:29:00 UTC 2021 x86_64 x86_64 x86_64 GNU/Linux\n",
      "/mnt/share/code/ndbs/vivarium_research_prl/noise\n"
     ]
    }
   ],
   "source": [
    "import numpy as np, matplotlib.pyplot as plt, pandas as pd\n",
    "pd.set_option('display.max_rows', 40)\n",
    "\n",
    "from vivarium_research_prl.noise import corruption, fake_names, noisify\n",
    "\n",
    "!date\n",
    "!whoami\n",
    "!uname -a\n",
    "!pwd"
   ]
  },
  {
   "cell_type": "code",
   "execution_count": 2,
   "id": "e9e97ac7",
   "metadata": {},
   "outputs": [],
   "source": [
    "%load_ext autoreload\n",
    "%autoreload 2"
   ]
  },
  {
   "cell_type": "code",
   "execution_count": null,
   "id": "2b896a2f",
   "metadata": {},
   "outputs": [],
   "source": []
  },
  {
   "cell_type": "code",
   "execution_count": 14,
   "id": "45eb9a0e",
   "metadata": {},
   "outputs": [],
   "source": [
    "rng = np.random.default_rng(983292329775)"
   ]
  },
  {
   "cell_type": "markdown",
   "id": "bcf4799d",
   "metadata": {},
   "source": [
    "# Stuff"
   ]
  },
  {
   "cell_type": "code",
   "execution_count": 3,
   "id": "6eaca7c4",
   "metadata": {},
   "outputs": [
    {
     "data": {
      "text/plain": [
       "0     a\n",
       "1     b\n",
       "2     d\n",
       "3     c\n",
       "4     i\n",
       "5     a\n",
       "6     a\n",
       "7     l\n",
       "8     g\n",
       "9     k\n",
       "10    a\n",
       "11    g\n",
       "12    h\n",
       "13    h\n",
       "14    a\n",
       "dtype: object"
      ]
     },
     "execution_count": 3,
     "metadata": {},
     "output_type": "execute_result"
    }
   ],
   "source": [
    "s = pd.Series(list('abdciaalgkaghha'))\n",
    "s"
   ]
  },
  {
   "cell_type": "code",
   "execution_count": 5,
   "id": "215cbc35",
   "metadata": {},
   "outputs": [
    {
     "data": {
      "text/plain": [
       "0     a\n",
       "1     b\n",
       "2     d\n",
       "3     c\n",
       "4     i\n",
       "5     a\n",
       "6     a\n",
       "7     l\n",
       "8     g\n",
       "9     k\n",
       "10    a\n",
       "11    g\n",
       "12    h\n",
       "13    h\n",
       "14    a\n",
       "dtype: object"
      ]
     },
     "execution_count": 5,
     "metadata": {},
     "output_type": "execute_result"
    }
   ],
   "source": [
    "sc = s.copy()\n",
    "sc.loc[s.index]"
   ]
  },
  {
   "cell_type": "code",
   "execution_count": 15,
   "id": "329e6a63",
   "metadata": {},
   "outputs": [
    {
     "data": {
      "text/plain": [
       "array(['a', 'b', 'b', 'a', 'b', 'a', 'a', 'b', 'b', 'a', 'b', 'a', 'b',\n",
       "       'b', 'c'], dtype='<U1')"
      ]
     },
     "execution_count": 15,
     "metadata": {},
     "output_type": "execute_result"
    }
   ],
   "source": [
    "a = rng.choice(list('abc'), len(s))\n",
    "a"
   ]
  },
  {
   "cell_type": "code",
   "execution_count": 16,
   "id": "03c37fad",
   "metadata": {},
   "outputs": [
    {
     "data": {
      "text/plain": [
       "0      True\n",
       "1      True\n",
       "2     False\n",
       "3     False\n",
       "4     False\n",
       "5      True\n",
       "6      True\n",
       "7     False\n",
       "8     False\n",
       "9     False\n",
       "10    False\n",
       "11    False\n",
       "12    False\n",
       "13    False\n",
       "14    False\n",
       "dtype: bool"
      ]
     },
     "execution_count": 16,
     "metadata": {},
     "output_type": "execute_result"
    }
   ],
   "source": [
    "a == s"
   ]
  },
  {
   "cell_type": "code",
   "execution_count": 11,
   "id": "3ee772d0",
   "metadata": {},
   "outputs": [
    {
     "data": {
      "text/plain": [
       "pandas.core.series.Series"
      ]
     },
     "execution_count": 11,
     "metadata": {},
     "output_type": "execute_result"
    }
   ],
   "source": [
    "type(a==s)"
   ]
  },
  {
   "cell_type": "code",
   "execution_count": 21,
   "id": "669999fd",
   "metadata": {},
   "outputs": [
    {
     "data": {
      "text/plain": [
       "0    a\n",
       "1    b\n",
       "5    a\n",
       "6    a\n",
       "dtype: object"
      ]
     },
     "execution_count": 21,
     "metadata": {},
     "output_type": "execute_result"
    }
   ],
   "source": [
    "u = (a==s)\n",
    "s[u]"
   ]
  },
  {
   "cell_type": "code",
   "execution_count": 22,
   "id": "dbf68222",
   "metadata": {},
   "outputs": [
    {
     "data": {
      "text/plain": [
       "array(['a', 'b', 'a', 'a'], dtype='<U1')"
      ]
     },
     "execution_count": 22,
     "metadata": {},
     "output_type": "execute_result"
    }
   ],
   "source": [
    "a[u]"
   ]
  },
  {
   "cell_type": "code",
   "execution_count": 23,
   "id": "a8621aac",
   "metadata": {},
   "outputs": [
    {
     "data": {
      "text/plain": [
       "2     d\n",
       "3     c\n",
       "4     i\n",
       "7     l\n",
       "8     g\n",
       "9     k\n",
       "10    a\n",
       "11    g\n",
       "12    h\n",
       "13    h\n",
       "14    a\n",
       "dtype: object"
      ]
     },
     "execution_count": 23,
     "metadata": {},
     "output_type": "execute_result"
    }
   ],
   "source": [
    "s[~u]"
   ]
  },
  {
   "cell_type": "code",
   "execution_count": 24,
   "id": "58eace3b",
   "metadata": {},
   "outputs": [
    {
     "data": {
      "text/plain": [
       "array(['b', 'a', 'b', 'b', 'b', 'a', 'b', 'a', 'b', 'b', 'c'], dtype='<U1')"
      ]
     },
     "execution_count": 24,
     "metadata": {},
     "output_type": "execute_result"
    }
   ],
   "source": [
    "a[~u]"
   ]
  },
  {
   "cell_type": "code",
   "execution_count": null,
   "id": "a593dd40",
   "metadata": {},
   "outputs": [],
   "source": []
  },
  {
   "cell_type": "markdown",
   "id": "679d1564",
   "metadata": {},
   "source": [
    "# Test"
   ]
  },
  {
   "cell_type": "code",
   "execution_count": 132,
   "id": "e88600fc",
   "metadata": {},
   "outputs": [
    {
     "data": {
      "text/plain": [
       "0     a\n",
       "1     b\n",
       "2     b\n",
       "3     b\n",
       "4     b\n",
       "5     a\n",
       "6     b\n",
       "7     a\n",
       "8     a\n",
       "9     a\n",
       "10    b\n",
       "11    a\n",
       "12    b\n",
       "13    b\n",
       "14    b\n",
       "dtype: object"
      ]
     },
     "execution_count": 132,
     "metadata": {},
     "output_type": "execute_result"
    }
   ],
   "source": [
    "rc = corruption.random_choice(s, list('ab'), random_state=54321)\n",
    "rc"
   ]
  },
  {
   "cell_type": "code",
   "execution_count": 133,
   "id": "288b4550",
   "metadata": {},
   "outputs": [
    {
     "data": {
      "text/plain": [
       "0      True\n",
       "1      True\n",
       "2     False\n",
       "3     False\n",
       "4     False\n",
       "5      True\n",
       "6     False\n",
       "7     False\n",
       "8     False\n",
       "9     False\n",
       "10    False\n",
       "11    False\n",
       "12    False\n",
       "13    False\n",
       "14    False\n",
       "dtype: bool"
      ]
     },
     "execution_count": 133,
     "metadata": {},
     "output_type": "execute_result"
    }
   ],
   "source": [
    "s == rc"
   ]
  },
  {
   "cell_type": "code",
   "execution_count": 134,
   "id": "c1c10d9f",
   "metadata": {},
   "outputs": [
    {
     "data": {
      "text/plain": [
       "0     b\n",
       "1     a\n",
       "2     b\n",
       "3     b\n",
       "4     b\n",
       "5     b\n",
       "6     b\n",
       "7     a\n",
       "8     a\n",
       "9     a\n",
       "10    b\n",
       "11    a\n",
       "12    b\n",
       "13    b\n",
       "14    b\n",
       "dtype: object"
      ]
     },
     "execution_count": 134,
     "metadata": {},
     "output_type": "execute_result"
    }
   ],
   "source": [
    "rc2 = corruption.random_choice(s, list('ab'), exclude_current=True, random_state=54321)\n",
    "rc2"
   ]
  },
  {
   "cell_type": "code",
   "execution_count": 135,
   "id": "04fcc125",
   "metadata": {},
   "outputs": [
    {
     "data": {
      "text/plain": [
       "0     False\n",
       "1     False\n",
       "2     False\n",
       "3     False\n",
       "4     False\n",
       "5     False\n",
       "6     False\n",
       "7     False\n",
       "8     False\n",
       "9     False\n",
       "10    False\n",
       "11    False\n",
       "12    False\n",
       "13    False\n",
       "14    False\n",
       "dtype: bool"
      ]
     },
     "execution_count": 135,
     "metadata": {},
     "output_type": "execute_result"
    }
   ],
   "source": [
    "s == rc2"
   ]
  },
  {
   "cell_type": "code",
   "execution_count": 47,
   "id": "148d7d01",
   "metadata": {},
   "outputs": [
    {
     "data": {
      "text/plain": [
       "0     F\n",
       "1     M\n",
       "2     M\n",
       "3     M\n",
       "4     F\n",
       "5     F\n",
       "6     F\n",
       "7     M\n",
       "8     M\n",
       "9     M\n",
       "10    F\n",
       "11    M\n",
       "12    F\n",
       "13    M\n",
       "14    F\n",
       "dtype: object"
      ]
     },
     "execution_count": 47,
     "metadata": {},
     "output_type": "execute_result"
    }
   ],
   "source": [
    "s2 = pd.Series(rng.choice(['M', 'F'], 15))\n",
    "s2"
   ]
  },
  {
   "cell_type": "code",
   "execution_count": 136,
   "id": "10e86103",
   "metadata": {},
   "outputs": [
    {
     "data": {
      "text/plain": [
       "0     M\n",
       "1     F\n",
       "2     M\n",
       "3     M\n",
       "4     M\n",
       "5     F\n",
       "6     F\n",
       "7     F\n",
       "8     F\n",
       "9     M\n",
       "10    F\n",
       "11    M\n",
       "12    M\n",
       "13    F\n",
       "14    M\n",
       "dtype: object"
      ]
     },
     "execution_count": 136,
     "metadata": {},
     "output_type": "execute_result"
    }
   ],
   "source": [
    "t2 = corruption.random_choice(s2, ['M', 'F'], random_state=85737)\n",
    "t2"
   ]
  },
  {
   "cell_type": "code",
   "execution_count": 137,
   "id": "6486fee0",
   "metadata": {},
   "outputs": [
    {
     "data": {
      "text/plain": [
       "0     False\n",
       "1     False\n",
       "2      True\n",
       "3      True\n",
       "4     False\n",
       "5      True\n",
       "6      True\n",
       "7     False\n",
       "8     False\n",
       "9      True\n",
       "10     True\n",
       "11     True\n",
       "12    False\n",
       "13    False\n",
       "14    False\n",
       "dtype: bool"
      ]
     },
     "execution_count": 137,
     "metadata": {},
     "output_type": "execute_result"
    }
   ],
   "source": [
    "s2==t2"
   ]
  },
  {
   "cell_type": "code",
   "execution_count": 56,
   "id": "524a9354",
   "metadata": {},
   "outputs": [
    {
     "data": {
      "text/plain": [
       "7"
      ]
     },
     "execution_count": 56,
     "metadata": {},
     "output_type": "execute_result"
    }
   ],
   "source": [
    "(s2==t2).sum()"
   ]
  },
  {
   "cell_type": "code",
   "execution_count": 138,
   "id": "b7a7f09a",
   "metadata": {},
   "outputs": [
    {
     "data": {
      "text/plain": [
       "0     M\n",
       "1     F\n",
       "2     F\n",
       "3     F\n",
       "4     M\n",
       "5     M\n",
       "6     M\n",
       "7     F\n",
       "8     F\n",
       "9     F\n",
       "10    M\n",
       "11    F\n",
       "12    M\n",
       "13    F\n",
       "14    M\n",
       "dtype: object"
      ]
     },
     "execution_count": 138,
     "metadata": {},
     "output_type": "execute_result"
    }
   ],
   "source": [
    "t2b = corruption.random_choice(s2, ['M', 'F'], exclude_current=True, random_state=85737)\n",
    "t2b"
   ]
  },
  {
   "cell_type": "code",
   "execution_count": 139,
   "id": "2b76cf4b",
   "metadata": {},
   "outputs": [
    {
     "data": {
      "text/plain": [
       "0     False\n",
       "1     False\n",
       "2     False\n",
       "3     False\n",
       "4     False\n",
       "5     False\n",
       "6     False\n",
       "7     False\n",
       "8     False\n",
       "9     False\n",
       "10    False\n",
       "11    False\n",
       "12    False\n",
       "13    False\n",
       "14    False\n",
       "dtype: bool"
      ]
     },
     "execution_count": 139,
     "metadata": {},
     "output_type": "execute_result"
    }
   ],
   "source": [
    "s2==t2b"
   ]
  },
  {
   "cell_type": "markdown",
   "id": "aa9e0501",
   "metadata": {},
   "source": [
    "# Test again"
   ]
  },
  {
   "cell_type": "code",
   "execution_count": 140,
   "id": "3568c34c",
   "metadata": {},
   "outputs": [
    {
     "data": {
      "text/plain": [
       "0         f\n",
       "1         f\n",
       "2         c\n",
       "3         c\n",
       "4         a\n",
       "         ..\n",
       "999995    a\n",
       "999996    f\n",
       "999997    e\n",
       "999998    d\n",
       "999999    a\n",
       "Length: 1000000, dtype: object"
      ]
     },
     "execution_count": 140,
     "metadata": {},
     "output_type": "execute_result"
    }
   ],
   "source": [
    "size = int(1e6)\n",
    "s3 = pd.Series(rng.choice(list('abcdef'), size))\n",
    "s3"
   ]
  },
  {
   "cell_type": "code",
   "execution_count": 141,
   "id": "cc4ac874",
   "metadata": {},
   "outputs": [
    {
     "data": {
      "text/plain": [
       "0         e\n",
       "1         e\n",
       "2         c\n",
       "3         c\n",
       "4         a\n",
       "         ..\n",
       "999995    a\n",
       "999996    c\n",
       "999997    f\n",
       "999998    f\n",
       "999999    e\n",
       "Length: 1000000, dtype: object"
      ]
     },
     "execution_count": 141,
     "metadata": {},
     "output_type": "execute_result"
    }
   ],
   "source": [
    "t3a = corruption.random_choice(s3, s3.unique(), random_state=rng)\n",
    "t3a"
   ]
  },
  {
   "cell_type": "code",
   "execution_count": 142,
   "id": "98bd1e17",
   "metadata": {},
   "outputs": [
    {
     "name": "stdout",
     "output_type": "stream",
     "text": [
      "167018 0.167018\n"
     ]
    }
   ],
   "source": [
    "same3a = (t3a == s3)\n",
    "print(same3a.sum(), same3a.sum()/size)"
   ]
  },
  {
   "cell_type": "code",
   "execution_count": 143,
   "id": "e73e84d4",
   "metadata": {},
   "outputs": [
    {
     "data": {
      "text/plain": [
       "0         d\n",
       "1         b\n",
       "2         d\n",
       "3         d\n",
       "4         b\n",
       "         ..\n",
       "999995    c\n",
       "999996    c\n",
       "999997    f\n",
       "999998    c\n",
       "999999    d\n",
       "Length: 1000000, dtype: object"
      ]
     },
     "execution_count": 143,
     "metadata": {},
     "output_type": "execute_result"
    }
   ],
   "source": [
    "t3b = corruption.random_choice(s3, s3.unique(), exclude_current=True, random_state=rng)\n",
    "t3b"
   ]
  },
  {
   "cell_type": "code",
   "execution_count": 144,
   "id": "f726aafe",
   "metadata": {},
   "outputs": [
    {
     "name": "stdout",
     "output_type": "stream",
     "text": [
      "0 0.0\n"
     ]
    }
   ],
   "source": [
    "same3b = (t3b == s3)\n",
    "print(same3b.sum(), same3b.sum()/size)"
   ]
  },
  {
   "cell_type": "markdown",
   "id": "9b2722ad",
   "metadata": {},
   "source": [
    "# Test 2nd version"
   ]
  },
  {
   "cell_type": "code",
   "execution_count": 83,
   "id": "ff9f632e",
   "metadata": {},
   "outputs": [
    {
     "data": {
      "text/plain": [
       "array([7, 7, 7, 7, 7])"
      ]
     },
     "execution_count": 83,
     "metadata": {},
     "output_type": "execute_result"
    }
   ],
   "source": [
    "np.full(5, 7)"
   ]
  },
  {
   "cell_type": "code",
   "execution_count": 85,
   "id": "00419da2",
   "metadata": {},
   "outputs": [
    {
     "data": {
      "text/plain": [
       "array([0.5       , 0.        , 0.16666667])"
      ]
     },
     "execution_count": 85,
     "metadata": {},
     "output_type": "execute_result"
    }
   ],
   "source": [
    "val = 'b'\n",
    "choices = list('abc')\n",
    "p = [1/2, 1/3, 1/6]\n",
    "choices, p = map(np.asarray, (choices, p))\n",
    "np.where(choices != val, p, 0)"
   ]
  },
  {
   "cell_type": "code",
   "execution_count": 86,
   "id": "1ae6749f",
   "metadata": {},
   "outputs": [
    {
     "data": {
      "text/plain": [
       "array([0.75, 0.  , 0.25])"
      ]
     },
     "execution_count": 86,
     "metadata": {},
     "output_type": "execute_result"
    }
   ],
   "source": [
    "p_cond = np.where(choices != val, p, 0)\n",
    "p_cond /= p_cond.sum()\n",
    "p_cond"
   ]
  },
  {
   "cell_type": "code",
   "execution_count": 145,
   "id": "33cfadc0",
   "metadata": {},
   "outputs": [
    {
     "name": "stdout",
     "output_type": "stream",
     "text": [
      "1 3 1 1 3 3 6 1 6 3 \n",
      "3 1 3 1 1 3 1 1 3 1 "
     ]
    }
   ],
   "source": [
    "for _ in range(10):\n",
    "    print(corruption.random_choice2(6, [1,3,6]), sep=' ', end=' ')\n",
    "print()\n",
    "for _ in range(10):\n",
    "    print(corruption.random_choice2(6, [1,3,6], exclude_current=True), sep=' ', end=' ')"
   ]
  },
  {
   "cell_type": "code",
   "execution_count": 146,
   "id": "595b56bf",
   "metadata": {},
   "outputs": [
    {
     "data": {
      "text/plain": [
       "0    1\n",
       "1    1\n",
       "2    3\n",
       "3    1\n",
       "4    3\n",
       "5    6\n",
       "6    3\n",
       "7    6\n",
       "8    6\n",
       "9    3\n",
       "dtype: int64"
      ]
     },
     "execution_count": 146,
     "metadata": {},
     "output_type": "execute_result"
    }
   ],
   "source": [
    "sixes = pd.Series(6, index=range(10))\n",
    "corruption.random_choice2(sixes, [1,3,6], random_state=8888)"
   ]
  },
  {
   "cell_type": "code",
   "execution_count": 147,
   "id": "f916b377",
   "metadata": {},
   "outputs": [
    {
     "data": {
      "text/plain": [
       "0    1\n",
       "1    1\n",
       "2    3\n",
       "3    3\n",
       "4    1\n",
       "5    1\n",
       "6    1\n",
       "7    1\n",
       "8    3\n",
       "9    1\n",
       "dtype: int64"
      ]
     },
     "execution_count": 147,
     "metadata": {},
     "output_type": "execute_result"
    }
   ],
   "source": [
    "corruption.random_choice2(sixes, [1,3,6], exclude_current=True, random_state=8888)"
   ]
  },
  {
   "cell_type": "code",
   "execution_count": 113,
   "id": "60f06abd",
   "metadata": {},
   "outputs": [
    {
     "data": {
      "text/plain": [
       "14    a\n",
       "13    h\n",
       "12    h\n",
       "11    g\n",
       "10    a\n",
       "9     k\n",
       "8     g\n",
       "7     l\n",
       "6     a\n",
       "5     a\n",
       "4     i\n",
       "3     c\n",
       "2     d\n",
       "1     b\n",
       "dtype: object"
      ]
     },
     "execution_count": 113,
     "metadata": {},
     "output_type": "execute_result"
    }
   ],
   "source": [
    "x = pd.Series(s, index=range(14,0,-1))\n",
    "x"
   ]
  },
  {
   "cell_type": "code",
   "execution_count": 114,
   "id": "6c20a5b2",
   "metadata": {},
   "outputs": [
    {
     "data": {
      "text/plain": [
       "0     a\n",
       "1     b\n",
       "2     d\n",
       "3     c\n",
       "4     i\n",
       "5     a\n",
       "6     a\n",
       "7     l\n",
       "8     g\n",
       "9     k\n",
       "10    a\n",
       "11    g\n",
       "12    h\n",
       "13    h\n",
       "14    a\n",
       "dtype: object"
      ]
     },
     "execution_count": 114,
     "metadata": {},
     "output_type": "execute_result"
    }
   ],
   "source": [
    "s"
   ]
  },
  {
   "cell_type": "code",
   "execution_count": 115,
   "id": "f4d5f12f",
   "metadata": {},
   "outputs": [
    {
     "data": {
      "text/plain": [
       "array(['a', 'b', 'd', 'c', 'i', 'a', 'a', 'l', 'g', 'k', 'a', 'g', 'h',\n",
       "       'h', 'a'], dtype=object)"
      ]
     },
     "execution_count": 115,
     "metadata": {},
     "output_type": "execute_result"
    }
   ],
   "source": [
    "s.to_numpy()"
   ]
  },
  {
   "cell_type": "code",
   "execution_count": 120,
   "id": "c9a0dd46",
   "metadata": {},
   "outputs": [
    {
     "data": {
      "text/plain": [
       "M     True\n",
       "F     True\n",
       "M    False\n",
       "M    False\n",
       "M     True\n",
       "F     True\n",
       "F     True\n",
       "F     True\n",
       "F     True\n",
       "M     True\n",
       "F     True\n",
       "M     True\n",
       "M    False\n",
       "F    False\n",
       "M     True\n",
       "dtype: bool"
      ]
     },
     "execution_count": 120,
     "metadata": {},
     "output_type": "execute_result"
    }
   ],
   "source": [
    "i = pd.Series(rng.choice([True, False], len(t2)), index=t2)\n",
    "i"
   ]
  },
  {
   "cell_type": "code",
   "execution_count": 121,
   "id": "8cefc279",
   "metadata": {},
   "outputs": [
    {
     "data": {
      "text/plain": [
       "array(['a', 'b', 'i', 'a', 'a', 'l', 'g', 'k', 'a', 'g', 'a'],\n",
       "      dtype=object)"
      ]
     },
     "execution_count": 121,
     "metadata": {},
     "output_type": "execute_result"
    }
   ],
   "source": [
    "s.to_numpy()[i]"
   ]
  },
  {
   "cell_type": "code",
   "execution_count": null,
   "id": "5763cf1d",
   "metadata": {},
   "outputs": [],
   "source": [
    "np.empty()"
   ]
  },
  {
   "cell_type": "code",
   "execution_count": 127,
   "id": "ed18906c",
   "metadata": {},
   "outputs": [
    {
     "data": {
      "text/plain": [
       "dtype('O')"
      ]
     },
     "execution_count": 127,
     "metadata": {},
     "output_type": "execute_result"
    }
   ],
   "source": [
    "s.dtypes"
   ]
  },
  {
   "cell_type": "code",
   "execution_count": 128,
   "id": "14ac0c2b",
   "metadata": {},
   "outputs": [
    {
     "data": {
      "text/plain": [
       "dtype('O')"
      ]
     },
     "execution_count": 128,
     "metadata": {},
     "output_type": "execute_result"
    }
   ],
   "source": [
    "s.dtype"
   ]
  },
  {
   "cell_type": "markdown",
   "id": "072dbbfd",
   "metadata": {},
   "source": [
    "# Test after refactoring"
   ]
  },
  {
   "cell_type": "code",
   "execution_count": 152,
   "id": "232487b7",
   "metadata": {},
   "outputs": [
    {
     "name": "stdout",
     "output_type": "stream",
     "text": [
      "3 1 1 6 1 3 1 3 3 6 \n",
      "1 6 1 1 1 6 6 6 1 1 "
     ]
    }
   ],
   "source": [
    "for _ in range(10):\n",
    "    print(corruption.random_choice(3, [1,3,6]), sep=' ', end=' ')\n",
    "print()\n",
    "for _ in range(10):\n",
    "    print(corruption.random_choice(3, [1,3,6], exclude_current=True), sep=' ', end=' ')"
   ]
  },
  {
   "cell_type": "code",
   "execution_count": null,
   "id": "950db25f",
   "metadata": {},
   "outputs": [],
   "source": []
  }
 ],
 "metadata": {
  "kernelspec": {
   "display_name": "Python 3 (ipykernel)",
   "language": "python",
   "name": "python3"
  },
  "language_info": {
   "codemirror_mode": {
    "name": "ipython",
    "version": 3
   },
   "file_extension": ".py",
   "mimetype": "text/x-python",
   "name": "python",
   "nbconvert_exporter": "python",
   "pygments_lexer": "ipython3",
   "version": "3.8.13"
  }
 },
 "nbformat": 4,
 "nbformat_minor": 5
}
