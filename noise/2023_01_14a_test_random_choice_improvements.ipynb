{
 "cells": [
  {
   "cell_type": "code",
   "execution_count": 1,
   "id": "169bc7c8",
   "metadata": {},
   "outputs": [
    {
     "name": "stdout",
     "output_type": "stream",
     "text": [
      "Wed 22 Feb 2023 03:02:00 PM PST\n",
      "ndbs\n",
      "Linux int-slurm-sarchive-p0001 5.4.0-135-generic #152-Ubuntu SMP Wed Nov 23 20:19:22 UTC 2022 x86_64 x86_64 x86_64 GNU/Linux\n",
      "/mnt/share/code/ndbs/vivarium_research_prl/noise\n"
     ]
    }
   ],
   "source": [
    "import numpy as np, matplotlib.pyplot as plt, pandas as pd\n",
    "pd.set_option('display.max_rows', 40)\n",
    "\n",
    "from vivarium_research_prl.noise import corruption, fake_names, noisify\n",
    "\n",
    "!date\n",
    "!whoami\n",
    "!uname -a\n",
    "!pwd"
   ]
  },
  {
   "cell_type": "code",
   "execution_count": 2,
   "id": "e9e97ac7",
   "metadata": {},
   "outputs": [],
   "source": [
    "%load_ext autoreload\n",
    "%autoreload 2"
   ]
  },
  {
   "cell_type": "markdown",
   "id": "3e78ffb4",
   "metadata": {},
   "source": [
    "# Goal: Enhance the `random_choice` function to allow excluding the current choice"
   ]
  },
  {
   "cell_type": "markdown",
   "id": "745ee3c4",
   "metadata": {},
   "source": [
    "# Create random generator"
   ]
  },
  {
   "cell_type": "code",
   "execution_count": 3,
   "id": "45eb9a0e",
   "metadata": {},
   "outputs": [],
   "source": [
    "rng = np.random.default_rng(983292329775)"
   ]
  },
  {
   "cell_type": "markdown",
   "id": "bcf4799d",
   "metadata": {},
   "source": [
    "# Create Series for testing and test code for implementation"
   ]
  },
  {
   "cell_type": "code",
   "execution_count": 4,
   "id": "6eaca7c4",
   "metadata": {},
   "outputs": [
    {
     "data": {
      "text/plain": [
       "0     a\n",
       "1     b\n",
       "2     d\n",
       "3     c\n",
       "4     i\n",
       "5     a\n",
       "6     a\n",
       "7     l\n",
       "8     g\n",
       "9     k\n",
       "10    a\n",
       "11    g\n",
       "12    h\n",
       "13    h\n",
       "14    a\n",
       "dtype: object"
      ]
     },
     "execution_count": 4,
     "metadata": {},
     "output_type": "execute_result"
    }
   ],
   "source": [
    "s = pd.Series(list('abdciaalgkaghha'))\n",
    "s"
   ]
  },
  {
   "cell_type": "code",
   "execution_count": 5,
   "id": "215cbc35",
   "metadata": {},
   "outputs": [
    {
     "data": {
      "text/plain": [
       "0     a\n",
       "1     b\n",
       "2     d\n",
       "3     c\n",
       "4     i\n",
       "5     a\n",
       "6     a\n",
       "7     l\n",
       "8     g\n",
       "9     k\n",
       "10    a\n",
       "11    g\n",
       "12    h\n",
       "13    h\n",
       "14    a\n",
       "dtype: object"
      ]
     },
     "execution_count": 5,
     "metadata": {},
     "output_type": "execute_result"
    }
   ],
   "source": [
    "sc = s.copy()\n",
    "sc.loc[s.index]"
   ]
  },
  {
   "cell_type": "code",
   "execution_count": 6,
   "id": "329e6a63",
   "metadata": {},
   "outputs": [
    {
     "data": {
      "text/plain": [
       "array(['a', 'b', 'b', 'a', 'b', 'a', 'a', 'b', 'b', 'a', 'b', 'a', 'b',\n",
       "       'b', 'c'], dtype='<U1')"
      ]
     },
     "execution_count": 6,
     "metadata": {},
     "output_type": "execute_result"
    }
   ],
   "source": [
    "a = rng.choice(list('abc'), len(s))\n",
    "a"
   ]
  },
  {
   "cell_type": "code",
   "execution_count": 7,
   "id": "03c37fad",
   "metadata": {},
   "outputs": [
    {
     "data": {
      "text/plain": [
       "0      True\n",
       "1      True\n",
       "2     False\n",
       "3     False\n",
       "4     False\n",
       "5      True\n",
       "6      True\n",
       "7     False\n",
       "8     False\n",
       "9     False\n",
       "10    False\n",
       "11    False\n",
       "12    False\n",
       "13    False\n",
       "14    False\n",
       "dtype: bool"
      ]
     },
     "execution_count": 7,
     "metadata": {},
     "output_type": "execute_result"
    }
   ],
   "source": [
    "a == s"
   ]
  },
  {
   "cell_type": "code",
   "execution_count": 8,
   "id": "3ee772d0",
   "metadata": {},
   "outputs": [
    {
     "data": {
      "text/plain": [
       "pandas.core.series.Series"
      ]
     },
     "execution_count": 8,
     "metadata": {},
     "output_type": "execute_result"
    }
   ],
   "source": [
    "type(a==s)"
   ]
  },
  {
   "cell_type": "code",
   "execution_count": 9,
   "id": "669999fd",
   "metadata": {},
   "outputs": [
    {
     "data": {
      "text/plain": [
       "0    a\n",
       "1    b\n",
       "5    a\n",
       "6    a\n",
       "dtype: object"
      ]
     },
     "execution_count": 9,
     "metadata": {},
     "output_type": "execute_result"
    }
   ],
   "source": [
    "u = (a==s)\n",
    "s[u]"
   ]
  },
  {
   "cell_type": "code",
   "execution_count": 10,
   "id": "dbf68222",
   "metadata": {},
   "outputs": [
    {
     "data": {
      "text/plain": [
       "array(['a', 'b', 'a', 'a'], dtype='<U1')"
      ]
     },
     "execution_count": 10,
     "metadata": {},
     "output_type": "execute_result"
    }
   ],
   "source": [
    "a[u]"
   ]
  },
  {
   "cell_type": "code",
   "execution_count": 11,
   "id": "a8621aac",
   "metadata": {},
   "outputs": [
    {
     "data": {
      "text/plain": [
       "2     d\n",
       "3     c\n",
       "4     i\n",
       "7     l\n",
       "8     g\n",
       "9     k\n",
       "10    a\n",
       "11    g\n",
       "12    h\n",
       "13    h\n",
       "14    a\n",
       "dtype: object"
      ]
     },
     "execution_count": 11,
     "metadata": {},
     "output_type": "execute_result"
    }
   ],
   "source": [
    "s[~u]"
   ]
  },
  {
   "cell_type": "code",
   "execution_count": 12,
   "id": "58eace3b",
   "metadata": {},
   "outputs": [
    {
     "data": {
      "text/plain": [
       "array(['b', 'a', 'b', 'b', 'b', 'a', 'b', 'a', 'b', 'b', 'c'], dtype='<U1')"
      ]
     },
     "execution_count": 12,
     "metadata": {},
     "output_type": "execute_result"
    }
   ],
   "source": [
    "a[~u]"
   ]
  },
  {
   "cell_type": "code",
   "execution_count": null,
   "id": "a593dd40",
   "metadata": {},
   "outputs": [],
   "source": []
  },
  {
   "cell_type": "markdown",
   "id": "679d1564",
   "metadata": {},
   "source": [
    "# Test 1st algorithm (resampling)"
   ]
  },
  {
   "cell_type": "code",
   "execution_count": 13,
   "id": "e88600fc",
   "metadata": {},
   "outputs": [
    {
     "data": {
      "text/plain": [
       "0     a\n",
       "1     b\n",
       "2     b\n",
       "3     b\n",
       "4     b\n",
       "5     a\n",
       "6     b\n",
       "7     a\n",
       "8     a\n",
       "9     a\n",
       "10    b\n",
       "11    a\n",
       "12    b\n",
       "13    b\n",
       "14    b\n",
       "dtype: object"
      ]
     },
     "execution_count": 13,
     "metadata": {},
     "output_type": "execute_result"
    }
   ],
   "source": [
    "rc = corruption.random_choice(s, list('ab'), random_state=54321)\n",
    "rc"
   ]
  },
  {
   "cell_type": "code",
   "execution_count": 14,
   "id": "288b4550",
   "metadata": {},
   "outputs": [
    {
     "data": {
      "text/plain": [
       "0      True\n",
       "1      True\n",
       "2     False\n",
       "3     False\n",
       "4     False\n",
       "5      True\n",
       "6     False\n",
       "7     False\n",
       "8     False\n",
       "9     False\n",
       "10    False\n",
       "11    False\n",
       "12    False\n",
       "13    False\n",
       "14    False\n",
       "dtype: bool"
      ]
     },
     "execution_count": 14,
     "metadata": {},
     "output_type": "execute_result"
    }
   ],
   "source": [
    "s == rc"
   ]
  },
  {
   "cell_type": "code",
   "execution_count": 15,
   "id": "c1c10d9f",
   "metadata": {},
   "outputs": [
    {
     "data": {
      "text/plain": [
       "0     b\n",
       "1     a\n",
       "2     b\n",
       "3     b\n",
       "4     b\n",
       "5     b\n",
       "6     b\n",
       "7     a\n",
       "8     a\n",
       "9     a\n",
       "10    b\n",
       "11    a\n",
       "12    b\n",
       "13    b\n",
       "14    b\n",
       "dtype: object"
      ]
     },
     "execution_count": 15,
     "metadata": {},
     "output_type": "execute_result"
    }
   ],
   "source": [
    "rc2 = corruption.random_choice(s, list('ab'), exclude_current=True, random_state=54321)\n",
    "rc2"
   ]
  },
  {
   "cell_type": "code",
   "execution_count": 16,
   "id": "04fcc125",
   "metadata": {},
   "outputs": [
    {
     "data": {
      "text/plain": [
       "0     False\n",
       "1     False\n",
       "2     False\n",
       "3     False\n",
       "4     False\n",
       "5     False\n",
       "6     False\n",
       "7     False\n",
       "8     False\n",
       "9     False\n",
       "10    False\n",
       "11    False\n",
       "12    False\n",
       "13    False\n",
       "14    False\n",
       "dtype: bool"
      ]
     },
     "execution_count": 16,
     "metadata": {},
     "output_type": "execute_result"
    }
   ],
   "source": [
    "s == rc2"
   ]
  },
  {
   "cell_type": "code",
   "execution_count": 17,
   "id": "148d7d01",
   "metadata": {},
   "outputs": [
    {
     "data": {
      "text/plain": [
       "0     F\n",
       "1     F\n",
       "2     F\n",
       "3     M\n",
       "4     M\n",
       "5     M\n",
       "6     M\n",
       "7     M\n",
       "8     M\n",
       "9     M\n",
       "10    M\n",
       "11    M\n",
       "12    M\n",
       "13    F\n",
       "14    M\n",
       "dtype: object"
      ]
     },
     "execution_count": 17,
     "metadata": {},
     "output_type": "execute_result"
    }
   ],
   "source": [
    "s2 = pd.Series(rng.choice(['M', 'F'], 15))\n",
    "s2"
   ]
  },
  {
   "cell_type": "code",
   "execution_count": 18,
   "id": "10e86103",
   "metadata": {},
   "outputs": [
    {
     "data": {
      "text/plain": [
       "0     M\n",
       "1     F\n",
       "2     M\n",
       "3     M\n",
       "4     M\n",
       "5     F\n",
       "6     F\n",
       "7     F\n",
       "8     F\n",
       "9     M\n",
       "10    F\n",
       "11    M\n",
       "12    M\n",
       "13    F\n",
       "14    M\n",
       "dtype: object"
      ]
     },
     "execution_count": 18,
     "metadata": {},
     "output_type": "execute_result"
    }
   ],
   "source": [
    "t2 = corruption.random_choice(s2, ['M', 'F'], random_state=85737)\n",
    "t2"
   ]
  },
  {
   "cell_type": "code",
   "execution_count": 19,
   "id": "6486fee0",
   "metadata": {},
   "outputs": [
    {
     "data": {
      "text/plain": [
       "0     False\n",
       "1      True\n",
       "2     False\n",
       "3      True\n",
       "4      True\n",
       "5     False\n",
       "6     False\n",
       "7     False\n",
       "8     False\n",
       "9      True\n",
       "10    False\n",
       "11     True\n",
       "12     True\n",
       "13     True\n",
       "14     True\n",
       "dtype: bool"
      ]
     },
     "execution_count": 19,
     "metadata": {},
     "output_type": "execute_result"
    }
   ],
   "source": [
    "s2==t2"
   ]
  },
  {
   "cell_type": "code",
   "execution_count": 20,
   "id": "524a9354",
   "metadata": {},
   "outputs": [
    {
     "data": {
      "text/plain": [
       "8"
      ]
     },
     "execution_count": 20,
     "metadata": {},
     "output_type": "execute_result"
    }
   ],
   "source": [
    "(s2==t2).sum()"
   ]
  },
  {
   "cell_type": "code",
   "execution_count": 21,
   "id": "b7a7f09a",
   "metadata": {},
   "outputs": [
    {
     "data": {
      "text/plain": [
       "0     M\n",
       "1     M\n",
       "2     M\n",
       "3     F\n",
       "4     F\n",
       "5     F\n",
       "6     F\n",
       "7     F\n",
       "8     F\n",
       "9     F\n",
       "10    F\n",
       "11    F\n",
       "12    F\n",
       "13    M\n",
       "14    F\n",
       "dtype: object"
      ]
     },
     "execution_count": 21,
     "metadata": {},
     "output_type": "execute_result"
    }
   ],
   "source": [
    "t2b = corruption.random_choice(s2, ['M', 'F'], exclude_current=True, random_state=85737)\n",
    "t2b"
   ]
  },
  {
   "cell_type": "code",
   "execution_count": 22,
   "id": "2b76cf4b",
   "metadata": {},
   "outputs": [
    {
     "data": {
      "text/plain": [
       "0     False\n",
       "1     False\n",
       "2     False\n",
       "3     False\n",
       "4     False\n",
       "5     False\n",
       "6     False\n",
       "7     False\n",
       "8     False\n",
       "9     False\n",
       "10    False\n",
       "11    False\n",
       "12    False\n",
       "13    False\n",
       "14    False\n",
       "dtype: bool"
      ]
     },
     "execution_count": 22,
     "metadata": {},
     "output_type": "execute_result"
    }
   ],
   "source": [
    "s2==t2b"
   ]
  },
  {
   "cell_type": "markdown",
   "id": "aa9e0501",
   "metadata": {},
   "source": [
    "# Test again with larger data"
   ]
  },
  {
   "cell_type": "code",
   "execution_count": 23,
   "id": "3568c34c",
   "metadata": {},
   "outputs": [
    {
     "data": {
      "text/plain": [
       "0         e\n",
       "1         a\n",
       "2         c\n",
       "3         a\n",
       "4         e\n",
       "         ..\n",
       "999995    f\n",
       "999996    b\n",
       "999997    c\n",
       "999998    f\n",
       "999999    d\n",
       "Length: 1000000, dtype: object"
      ]
     },
     "execution_count": 23,
     "metadata": {},
     "output_type": "execute_result"
    }
   ],
   "source": [
    "size = int(1e6)\n",
    "s3 = pd.Series(rng.choice(list('abcdef'), size))\n",
    "s3"
   ]
  },
  {
   "cell_type": "code",
   "execution_count": 24,
   "id": "cc4ac874",
   "metadata": {},
   "outputs": [
    {
     "data": {
      "text/plain": [
       "0         b\n",
       "1         b\n",
       "2         e\n",
       "3         e\n",
       "4         e\n",
       "         ..\n",
       "999995    c\n",
       "999996    e\n",
       "999997    e\n",
       "999998    f\n",
       "999999    f\n",
       "Length: 1000000, dtype: object"
      ]
     },
     "execution_count": 24,
     "metadata": {},
     "output_type": "execute_result"
    }
   ],
   "source": [
    "t3a = corruption.random_choice(s3, s3.unique(), random_state=rng)\n",
    "t3a"
   ]
  },
  {
   "cell_type": "code",
   "execution_count": 25,
   "id": "98bd1e17",
   "metadata": {},
   "outputs": [
    {
     "name": "stdout",
     "output_type": "stream",
     "text": [
      "167072 0.167072\n"
     ]
    }
   ],
   "source": [
    "same3a = (t3a == s3)\n",
    "print(same3a.sum(), same3a.sum()/size)"
   ]
  },
  {
   "cell_type": "code",
   "execution_count": 26,
   "id": "e73e84d4",
   "metadata": {},
   "outputs": [
    {
     "data": {
      "text/plain": [
       "0         a\n",
       "1         b\n",
       "2         a\n",
       "3         e\n",
       "4         b\n",
       "         ..\n",
       "999995    b\n",
       "999996    f\n",
       "999997    b\n",
       "999998    e\n",
       "999999    c\n",
       "Length: 1000000, dtype: object"
      ]
     },
     "execution_count": 26,
     "metadata": {},
     "output_type": "execute_result"
    }
   ],
   "source": [
    "t3b = corruption.random_choice(s3, s3.unique(), exclude_current=True, random_state=rng)\n",
    "t3b"
   ]
  },
  {
   "cell_type": "code",
   "execution_count": 27,
   "id": "f726aafe",
   "metadata": {},
   "outputs": [
    {
     "name": "stdout",
     "output_type": "stream",
     "text": [
      "0 0.0\n"
     ]
    }
   ],
   "source": [
    "same3b = (t3b == s3)\n",
    "print(same3b.sum(), same3b.sum()/size)"
   ]
  },
  {
   "cell_type": "markdown",
   "id": "9b2722ad",
   "metadata": {},
   "source": [
    "# Test 2nd algorithm (explicit exclusion using arrays)"
   ]
  },
  {
   "cell_type": "code",
   "execution_count": 28,
   "id": "ff9f632e",
   "metadata": {},
   "outputs": [
    {
     "data": {
      "text/plain": [
       "array([7, 7, 7, 7, 7])"
      ]
     },
     "execution_count": 28,
     "metadata": {},
     "output_type": "execute_result"
    }
   ],
   "source": [
    "np.full(5, 7)"
   ]
  },
  {
   "cell_type": "code",
   "execution_count": 29,
   "id": "00419da2",
   "metadata": {},
   "outputs": [
    {
     "data": {
      "text/plain": [
       "array([0.5       , 0.        , 0.16666667])"
      ]
     },
     "execution_count": 29,
     "metadata": {},
     "output_type": "execute_result"
    }
   ],
   "source": [
    "val = 'b'\n",
    "choices = list('abc')\n",
    "p = [1/2, 1/3, 1/6]\n",
    "choices, p = map(np.asarray, (choices, p))\n",
    "np.where(choices != val, p, 0)"
   ]
  },
  {
   "cell_type": "code",
   "execution_count": 30,
   "id": "1ae6749f",
   "metadata": {},
   "outputs": [
    {
     "data": {
      "text/plain": [
       "array([0.75, 0.  , 0.25])"
      ]
     },
     "execution_count": 30,
     "metadata": {},
     "output_type": "execute_result"
    }
   ],
   "source": [
    "p_cond = np.where(choices != val, p, 0)\n",
    "p_cond /= p_cond.sum()\n",
    "p_cond"
   ]
  },
  {
   "cell_type": "code",
   "execution_count": 31,
   "id": "33cfadc0",
   "metadata": {},
   "outputs": [
    {
     "name": "stdout",
     "output_type": "stream",
     "text": [
      "1 1 3 1 3 3 3 6 3 1 \n",
      "1 1 3 3 1 1 3 1 3 3 "
     ]
    }
   ],
   "source": [
    "for _ in range(10):\n",
    "    print(corruption.random_choice2(6, [1,3,6]), sep=' ', end=' ')\n",
    "print()\n",
    "for _ in range(10):\n",
    "    print(corruption.random_choice2(6, [1,3,6], exclude_current=True), sep=' ', end=' ')"
   ]
  },
  {
   "cell_type": "code",
   "execution_count": 32,
   "id": "595b56bf",
   "metadata": {},
   "outputs": [
    {
     "data": {
      "text/plain": [
       "0    1\n",
       "1    1\n",
       "2    3\n",
       "3    1\n",
       "4    3\n",
       "5    6\n",
       "6    3\n",
       "7    6\n",
       "8    6\n",
       "9    3\n",
       "dtype: int64"
      ]
     },
     "execution_count": 32,
     "metadata": {},
     "output_type": "execute_result"
    }
   ],
   "source": [
    "sixes = pd.Series(6, index=range(10))\n",
    "corruption.random_choice2(sixes, [1,3,6], random_state=8888)"
   ]
  },
  {
   "cell_type": "code",
   "execution_count": 33,
   "id": "f916b377",
   "metadata": {},
   "outputs": [
    {
     "data": {
      "text/plain": [
       "0    1\n",
       "1    1\n",
       "2    3\n",
       "3    3\n",
       "4    1\n",
       "5    1\n",
       "6    1\n",
       "7    1\n",
       "8    3\n",
       "9    1\n",
       "dtype: int64"
      ]
     },
     "execution_count": 33,
     "metadata": {},
     "output_type": "execute_result"
    }
   ],
   "source": [
    "corruption.random_choice2(sixes, [1,3,6], exclude_current=True, random_state=8888)"
   ]
  },
  {
   "cell_type": "code",
   "execution_count": 34,
   "id": "60f06abd",
   "metadata": {},
   "outputs": [
    {
     "data": {
      "text/plain": [
       "14    a\n",
       "13    h\n",
       "12    h\n",
       "11    g\n",
       "10    a\n",
       "9     k\n",
       "8     g\n",
       "7     l\n",
       "6     a\n",
       "5     a\n",
       "4     i\n",
       "3     c\n",
       "2     d\n",
       "1     b\n",
       "dtype: object"
      ]
     },
     "execution_count": 34,
     "metadata": {},
     "output_type": "execute_result"
    }
   ],
   "source": [
    "x = pd.Series(s, index=range(14,0,-1))\n",
    "x"
   ]
  },
  {
   "cell_type": "code",
   "execution_count": 35,
   "id": "6c20a5b2",
   "metadata": {},
   "outputs": [
    {
     "data": {
      "text/plain": [
       "0     a\n",
       "1     b\n",
       "2     d\n",
       "3     c\n",
       "4     i\n",
       "5     a\n",
       "6     a\n",
       "7     l\n",
       "8     g\n",
       "9     k\n",
       "10    a\n",
       "11    g\n",
       "12    h\n",
       "13    h\n",
       "14    a\n",
       "dtype: object"
      ]
     },
     "execution_count": 35,
     "metadata": {},
     "output_type": "execute_result"
    }
   ],
   "source": [
    "s"
   ]
  },
  {
   "cell_type": "code",
   "execution_count": 36,
   "id": "f4d5f12f",
   "metadata": {},
   "outputs": [
    {
     "data": {
      "text/plain": [
       "array(['a', 'b', 'd', 'c', 'i', 'a', 'a', 'l', 'g', 'k', 'a', 'g', 'h',\n",
       "       'h', 'a'], dtype=object)"
      ]
     },
     "execution_count": 36,
     "metadata": {},
     "output_type": "execute_result"
    }
   ],
   "source": [
    "s.to_numpy()"
   ]
  },
  {
   "cell_type": "code",
   "execution_count": 37,
   "id": "c9a0dd46",
   "metadata": {},
   "outputs": [
    {
     "data": {
      "text/plain": [
       "M    False\n",
       "F    False\n",
       "M    False\n",
       "M    False\n",
       "M    False\n",
       "F    False\n",
       "F     True\n",
       "F    False\n",
       "F     True\n",
       "M     True\n",
       "F     True\n",
       "M     True\n",
       "M    False\n",
       "F    False\n",
       "M    False\n",
       "dtype: bool"
      ]
     },
     "execution_count": 37,
     "metadata": {},
     "output_type": "execute_result"
    }
   ],
   "source": [
    "i = pd.Series(rng.choice([True, False], len(t2)), index=t2)\n",
    "i"
   ]
  },
  {
   "cell_type": "code",
   "execution_count": 38,
   "id": "8cefc279",
   "metadata": {},
   "outputs": [
    {
     "data": {
      "text/plain": [
       "array(['a', 'g', 'k', 'a', 'g'], dtype=object)"
      ]
     },
     "execution_count": 38,
     "metadata": {},
     "output_type": "execute_result"
    }
   ],
   "source": [
    "s.to_numpy()[i]"
   ]
  },
  {
   "cell_type": "code",
   "execution_count": 39,
   "id": "ed18906c",
   "metadata": {},
   "outputs": [
    {
     "data": {
      "text/plain": [
       "dtype('O')"
      ]
     },
     "execution_count": 39,
     "metadata": {},
     "output_type": "execute_result"
    }
   ],
   "source": [
    "s.dtypes"
   ]
  },
  {
   "cell_type": "code",
   "execution_count": 40,
   "id": "14ac0c2b",
   "metadata": {},
   "outputs": [
    {
     "data": {
      "text/plain": [
       "dtype('O')"
      ]
     },
     "execution_count": 40,
     "metadata": {},
     "output_type": "execute_result"
    }
   ],
   "source": [
    "s.dtype"
   ]
  },
  {
   "cell_type": "markdown",
   "id": "072dbbfd",
   "metadata": {},
   "source": [
    "# Test after refactoring logic into different order"
   ]
  },
  {
   "cell_type": "code",
   "execution_count": 41,
   "id": "232487b7",
   "metadata": {},
   "outputs": [
    {
     "name": "stdout",
     "output_type": "stream",
     "text": [
      "6 6 6 6 1 3 1 6 6 6 \n",
      "6 1 6 1 1 1 6 6 1 1 "
     ]
    }
   ],
   "source": [
    "for _ in range(10):\n",
    "    print(corruption.random_choice(3, [1,3,6]), sep=' ', end=' ')\n",
    "print()\n",
    "for _ in range(10):\n",
    "    print(corruption.random_choice(3, [1,3,6], exclude_current=True), sep=' ', end=' ')"
   ]
  },
  {
   "cell_type": "markdown",
   "id": "8afebaf7",
   "metadata": {},
   "source": [
    "# Now refactor to write a single function that calls one of the two algorithms as a subroutine\n",
    "\n",
    "Copy current code, then modify it"
   ]
  },
  {
   "cell_type": "code",
   "execution_count": 42,
   "id": "a9dd3063",
   "metadata": {},
   "outputs": [],
   "source": [
    "def random_choice(\n",
    "    current_choice,\n",
    "    choices,\n",
    "    exclude_current=True,\n",
    "    exclusion_algorithm='explicit_exclusion', # Ignored if exclude_current is False\n",
    "    replace=True,\n",
    "    p=None,\n",
    "    shuffle=True,\n",
    "    random_state=None,\n",
    "):\n",
    "    if not exclude_current:\n",
    "        rng = np.random.default_rng(random_state)\n",
    "        is_series = isinstance(current_choice, pd.Series)\n",
    "        if is_series:\n",
    "            new_choice = pd.Series(\n",
    "                rng.choice(choices, len(current_choice), replace, p, shuffle=shuffle),\n",
    "                index=current_choice.index, name=current_choice.name)\n",
    "        else:\n",
    "            # Set shape=None not shape=1 so that rng.choice returns a scalar not an array\n",
    "            new_choice = rng.choice(choices, None, replace, p, shuffle=shuffle)\n",
    "    elif exclusion_algorithm == 'explicit_exclusion':\n",
    "        new_choice = random_different_choice_via_explicit_exclusion(\n",
    "            current_choice, choices, replace, p, shuffle, random_state)\n",
    "    elif exclusion_algorithm == 'resampling':\n",
    "        new_choice = random_different_choice_via_resampling(\n",
    "            current_choice, choices, replace, p, shuffle, random_state)\n",
    "    else:\n",
    "        raise ValueError(f'Unrecognized exclusion algorithm: {exclusion_algorithm}')\n",
    "    return new_choice\n",
    "\n",
    "def random_different_choice_via_explicit_exclusion(\n",
    "    current_choice,\n",
    "    choices,\n",
    "    replace=True,\n",
    "    p=None,\n",
    "    shuffle=True,\n",
    "    random_state=None,\n",
    "):\n",
    "    rng = np.random.default_rng(random_state)\n",
    "    is_series = isinstance(current_choice, pd.Series)\n",
    "    choices = np.asarray(choices)\n",
    "    if p is None:\n",
    "        p = np.full(len(choices), 1/len(choices))\n",
    "    if is_series:\n",
    "        new_choice = pd.Series(\n",
    "            np.empty(len(current_choice), dtype=current_choice.dtype),\n",
    "            index=current_choice.index, name=current_choice.name)\n",
    "        current_not_in_choices = ~current_choice.isin(choices)\n",
    "        num_rows = current_not_in_choices.sum()\n",
    "        new_choice[current_not_in_choices] = rng.choice(\n",
    "                choices, num_rows, replace, p, shuffle=shuffle)\n",
    "        for c in choices:\n",
    "            p_cond = np.where(choices != c, p, 0)\n",
    "            p_cond /= p_cond.sum()\n",
    "            current_equals_c = (current_choice == c)\n",
    "            num_rows = current_equals_c.sum()\n",
    "            new_choice[current_equals_c] = rng.choice(\n",
    "                choices, num_rows, replace, p_cond, shuffle=shuffle)\n",
    "    else: # Scalar version\n",
    "        p_cond = np.where(choices != current_choice, p, 0)\n",
    "        p_cond /= p_cond.sum()\n",
    "        new_choice = rng.choice(choices, None, replace, p_cond, shuffle=shuffle)\n",
    "\n",
    "    return new_choice\n",
    "\n",
    "def random_different_choice_via_resampling(\n",
    "    current_choice,\n",
    "    choices,\n",
    "    replace=True,\n",
    "    p=None,\n",
    "    shuffle=True,\n",
    "    random_state=None,\n",
    "):\n",
    "    rng = np.random.default_rng(random_state)\n",
    "    is_series = isinstance(current_choice, pd.Series)\n",
    "    if is_series:\n",
    "        shape = len(current_choice)\n",
    "#         new_choice = current_choice.copy()\n",
    "        new_choice = pd.Series(\n",
    "            np.empty(shape, dtype=current_choice.dtype),\n",
    "            index=current_choice.index, name=current_choice.name)\n",
    "        # No values have changed until the loop executes the first time\n",
    "        unchanged = pd.Series(True, index=new_choice.index)\n",
    "    else:\n",
    "        # Set shape=None not shape=1 so that rng.choice returns a scalar not an array\n",
    "        shape = None\n",
    "    # Resample until all values differ from current\n",
    "    done = False\n",
    "    while not done:\n",
    "        random_choice = rng.choice(choices, shape, replace, p, shuffle=shuffle)\n",
    "        if is_series:\n",
    "            new_choice[unchanged] = random_choice\n",
    "            unchanged = (new_choice == current_choice)\n",
    "            shape = unchanged.sum()\n",
    "            done = (shape == 0)\n",
    "        else: # Scalar version\n",
    "            new_choice = random_choice\n",
    "            done = (new_choice != current_choice)\n",
    "    return new_choice\n"
   ]
  },
  {
   "cell_type": "code",
   "execution_count": 43,
   "id": "2958e8ed",
   "metadata": {},
   "outputs": [
    {
     "data": {
      "text/plain": [
       "array([94497817845504,              0, 94497804431264, 94497811650416,\n",
       "                   48])"
      ]
     },
     "execution_count": 43,
     "metadata": {},
     "output_type": "execute_result"
    }
   ],
   "source": [
    "np.empty(5, dtype=int)"
   ]
  },
  {
   "cell_type": "code",
   "execution_count": 44,
   "id": "07cb2507",
   "metadata": {},
   "outputs": [
    {
     "data": {
      "text/plain": [
       "0    94497818264016\n",
       "1                 0\n",
       "2                 0\n",
       "3                 0\n",
       "4        4294967306\n",
       "dtype: int64"
      ]
     },
     "execution_count": 44,
     "metadata": {},
     "output_type": "execute_result"
    }
   ],
   "source": [
    "pd.Series(np.empty(5, dtype=int))"
   ]
  },
  {
   "cell_type": "code",
   "execution_count": 45,
   "id": "d9119922",
   "metadata": {},
   "outputs": [
    {
     "data": {
      "text/plain": [
       "0     a\n",
       "1     b\n",
       "2     d\n",
       "3     c\n",
       "4     i\n",
       "5     a\n",
       "6     a\n",
       "7     l\n",
       "8     g\n",
       "9     k\n",
       "10    a\n",
       "11    g\n",
       "12    h\n",
       "13    h\n",
       "14    a\n",
       "dtype: object"
      ]
     },
     "execution_count": 45,
     "metadata": {},
     "output_type": "execute_result"
    }
   ],
   "source": [
    "s"
   ]
  },
  {
   "cell_type": "code",
   "execution_count": 46,
   "id": "b4caebf2",
   "metadata": {},
   "outputs": [
    {
     "data": {
      "text/plain": [
       "0     b\n",
       "1     a\n",
       "2     b\n",
       "3     b\n",
       "4     a\n",
       "5     b\n",
       "6     b\n",
       "7     b\n",
       "8     a\n",
       "9     b\n",
       "10    b\n",
       "11    b\n",
       "12    b\n",
       "13    a\n",
       "14    b\n",
       "dtype: object"
      ]
     },
     "execution_count": 46,
     "metadata": {},
     "output_type": "execute_result"
    }
   ],
   "source": [
    "random_choice(s, ['a', 'b'], random_state=9999)"
   ]
  },
  {
   "cell_type": "code",
   "execution_count": 47,
   "id": "ceb81fd5",
   "metadata": {},
   "outputs": [
    {
     "data": {
      "text/plain": [
       "'b'"
      ]
     },
     "execution_count": 47,
     "metadata": {},
     "output_type": "execute_result"
    }
   ],
   "source": [
    "random_choice('a', ['a', 'b'], random_state=9999)"
   ]
  },
  {
   "cell_type": "code",
   "execution_count": 48,
   "id": "946604ee",
   "metadata": {},
   "outputs": [
    {
     "data": {
      "text/plain": [
       "'a'"
      ]
     },
     "execution_count": 48,
     "metadata": {},
     "output_type": "execute_result"
    }
   ],
   "source": [
    "random_choice('c', ['a', 'b'])"
   ]
  },
  {
   "cell_type": "code",
   "execution_count": 49,
   "id": "70cc8285",
   "metadata": {},
   "outputs": [
    {
     "name": "stderr",
     "output_type": "stream",
     "text": [
      "/tmp/ipykernel_931384/3198667531.py:61: RuntimeWarning: invalid value encountered in divide\n",
      "  p_cond /= p_cond.sum()\n"
     ]
    },
    {
     "ename": "ValueError",
     "evalue": "probabilities contain NaN",
     "output_type": "error",
     "traceback": [
      "\u001b[0;31m---------------------------------------------------------------------------\u001b[0m",
      "\u001b[0;31mValueError\u001b[0m                                Traceback (most recent call last)",
      "Cell \u001b[0;32mIn [49], line 1\u001b[0m\n\u001b[0;32m----> 1\u001b[0m \u001b[43mrandom_choice\u001b[49m\u001b[43m(\u001b[49m\u001b[38;5;124;43m'\u001b[39;49m\u001b[38;5;124;43mc\u001b[39;49m\u001b[38;5;124;43m'\u001b[39;49m\u001b[43m,\u001b[49m\u001b[43m \u001b[49m\u001b[43m[\u001b[49m\u001b[38;5;124;43m'\u001b[39;49m\u001b[38;5;124;43mc\u001b[39;49m\u001b[38;5;124;43m'\u001b[39;49m\u001b[43m]\u001b[49m\u001b[43m)\u001b[49m\n",
      "Cell \u001b[0;32mIn [42], line 22\u001b[0m, in \u001b[0;36mrandom_choice\u001b[0;34m(current_choice, choices, exclude_current, exclusion_algorithm, replace, p, shuffle, random_state)\u001b[0m\n\u001b[1;32m     20\u001b[0m         new_choice \u001b[38;5;241m=\u001b[39m rng\u001b[38;5;241m.\u001b[39mchoice(choices, \u001b[38;5;28;01mNone\u001b[39;00m, replace, p, shuffle\u001b[38;5;241m=\u001b[39mshuffle)\n\u001b[1;32m     21\u001b[0m \u001b[38;5;28;01melif\u001b[39;00m exclusion_algorithm \u001b[38;5;241m==\u001b[39m \u001b[38;5;124m'\u001b[39m\u001b[38;5;124mexplicit_exclusion\u001b[39m\u001b[38;5;124m'\u001b[39m:\n\u001b[0;32m---> 22\u001b[0m     new_choice \u001b[38;5;241m=\u001b[39m \u001b[43mrandom_different_choice_via_explicit_exclusion\u001b[49m\u001b[43m(\u001b[49m\n\u001b[1;32m     23\u001b[0m \u001b[43m        \u001b[49m\u001b[43mcurrent_choice\u001b[49m\u001b[43m,\u001b[49m\u001b[43m \u001b[49m\u001b[43mchoices\u001b[49m\u001b[43m,\u001b[49m\u001b[43m \u001b[49m\u001b[43mreplace\u001b[49m\u001b[43m,\u001b[49m\u001b[43m \u001b[49m\u001b[43mp\u001b[49m\u001b[43m,\u001b[49m\u001b[43m \u001b[49m\u001b[43mshuffle\u001b[49m\u001b[43m,\u001b[49m\u001b[43m \u001b[49m\u001b[43mrandom_state\u001b[49m\u001b[43m)\u001b[49m\n\u001b[1;32m     24\u001b[0m \u001b[38;5;28;01melif\u001b[39;00m exclusion_algorithm \u001b[38;5;241m==\u001b[39m \u001b[38;5;124m'\u001b[39m\u001b[38;5;124mresampling\u001b[39m\u001b[38;5;124m'\u001b[39m:\n\u001b[1;32m     25\u001b[0m     new_choice \u001b[38;5;241m=\u001b[39m random_different_choice_via_resampling(\n\u001b[1;32m     26\u001b[0m         current_choice, choices, replace, p, shuffle, random_state)\n",
      "Cell \u001b[0;32mIn [42], line 62\u001b[0m, in \u001b[0;36mrandom_different_choice_via_explicit_exclusion\u001b[0;34m(current_choice, choices, replace, p, shuffle, random_state)\u001b[0m\n\u001b[1;32m     60\u001b[0m     p_cond \u001b[38;5;241m=\u001b[39m np\u001b[38;5;241m.\u001b[39mwhere(choices \u001b[38;5;241m!=\u001b[39m current_choice, p, \u001b[38;5;241m0\u001b[39m)\n\u001b[1;32m     61\u001b[0m     p_cond \u001b[38;5;241m/\u001b[39m\u001b[38;5;241m=\u001b[39m p_cond\u001b[38;5;241m.\u001b[39msum()\n\u001b[0;32m---> 62\u001b[0m     new_choice \u001b[38;5;241m=\u001b[39m \u001b[43mrng\u001b[49m\u001b[38;5;241;43m.\u001b[39;49m\u001b[43mchoice\u001b[49m\u001b[43m(\u001b[49m\u001b[43mchoices\u001b[49m\u001b[43m,\u001b[49m\u001b[43m \u001b[49m\u001b[38;5;28;43;01mNone\u001b[39;49;00m\u001b[43m,\u001b[49m\u001b[43m \u001b[49m\u001b[43mreplace\u001b[49m\u001b[43m,\u001b[49m\u001b[43m \u001b[49m\u001b[43mp_cond\u001b[49m\u001b[43m,\u001b[49m\u001b[43m \u001b[49m\u001b[43mshuffle\u001b[49m\u001b[38;5;241;43m=\u001b[39;49m\u001b[43mshuffle\u001b[49m\u001b[43m)\u001b[49m\n\u001b[1;32m     64\u001b[0m \u001b[38;5;28;01mreturn\u001b[39;00m new_choice\n",
      "File \u001b[0;32m_generator.pyx:743\u001b[0m, in \u001b[0;36mnumpy.random._generator.Generator.choice\u001b[0;34m()\u001b[0m\n",
      "\u001b[0;31mValueError\u001b[0m: probabilities contain NaN"
     ]
    }
   ],
   "source": [
    "random_choice('c', ['c'])"
   ]
  },
  {
   "cell_type": "code",
   "execution_count": 50,
   "id": "a89ee2aa",
   "metadata": {},
   "outputs": [
    {
     "name": "stderr",
     "output_type": "stream",
     "text": [
      "/tmp/ipykernel_931384/3198667531.py:54: RuntimeWarning: invalid value encountered in divide\n",
      "  p_cond /= p_cond.sum()\n"
     ]
    },
    {
     "ename": "ValueError",
     "evalue": "probabilities contain NaN",
     "output_type": "error",
     "traceback": [
      "\u001b[0;31m---------------------------------------------------------------------------\u001b[0m",
      "\u001b[0;31mValueError\u001b[0m                                Traceback (most recent call last)",
      "Cell \u001b[0;32mIn [50], line 1\u001b[0m\n\u001b[0;32m----> 1\u001b[0m \u001b[43mrandom_choice\u001b[49m\u001b[43m(\u001b[49m\u001b[43ms\u001b[49m\u001b[43m,\u001b[49m\u001b[43m \u001b[49m\u001b[43m[\u001b[49m\u001b[38;5;124;43m'\u001b[39;49m\u001b[38;5;124;43mb\u001b[39;49m\u001b[38;5;124;43m'\u001b[39;49m\u001b[43m]\u001b[49m\u001b[43m,\u001b[49m\u001b[43m \u001b[49m\u001b[43mrandom_state\u001b[49m\u001b[38;5;241;43m=\u001b[39;49m\u001b[38;5;241;43m9999\u001b[39;49m\u001b[43m)\u001b[49m\n",
      "Cell \u001b[0;32mIn [42], line 22\u001b[0m, in \u001b[0;36mrandom_choice\u001b[0;34m(current_choice, choices, exclude_current, exclusion_algorithm, replace, p, shuffle, random_state)\u001b[0m\n\u001b[1;32m     20\u001b[0m         new_choice \u001b[38;5;241m=\u001b[39m rng\u001b[38;5;241m.\u001b[39mchoice(choices, \u001b[38;5;28;01mNone\u001b[39;00m, replace, p, shuffle\u001b[38;5;241m=\u001b[39mshuffle)\n\u001b[1;32m     21\u001b[0m \u001b[38;5;28;01melif\u001b[39;00m exclusion_algorithm \u001b[38;5;241m==\u001b[39m \u001b[38;5;124m'\u001b[39m\u001b[38;5;124mexplicit_exclusion\u001b[39m\u001b[38;5;124m'\u001b[39m:\n\u001b[0;32m---> 22\u001b[0m     new_choice \u001b[38;5;241m=\u001b[39m \u001b[43mrandom_different_choice_via_explicit_exclusion\u001b[49m\u001b[43m(\u001b[49m\n\u001b[1;32m     23\u001b[0m \u001b[43m        \u001b[49m\u001b[43mcurrent_choice\u001b[49m\u001b[43m,\u001b[49m\u001b[43m \u001b[49m\u001b[43mchoices\u001b[49m\u001b[43m,\u001b[49m\u001b[43m \u001b[49m\u001b[43mreplace\u001b[49m\u001b[43m,\u001b[49m\u001b[43m \u001b[49m\u001b[43mp\u001b[49m\u001b[43m,\u001b[49m\u001b[43m \u001b[49m\u001b[43mshuffle\u001b[49m\u001b[43m,\u001b[49m\u001b[43m \u001b[49m\u001b[43mrandom_state\u001b[49m\u001b[43m)\u001b[49m\n\u001b[1;32m     24\u001b[0m \u001b[38;5;28;01melif\u001b[39;00m exclusion_algorithm \u001b[38;5;241m==\u001b[39m \u001b[38;5;124m'\u001b[39m\u001b[38;5;124mresampling\u001b[39m\u001b[38;5;124m'\u001b[39m:\n\u001b[1;32m     25\u001b[0m     new_choice \u001b[38;5;241m=\u001b[39m random_different_choice_via_resampling(\n\u001b[1;32m     26\u001b[0m         current_choice, choices, replace, p, shuffle, random_state)\n",
      "Cell \u001b[0;32mIn [42], line 57\u001b[0m, in \u001b[0;36mrandom_different_choice_via_explicit_exclusion\u001b[0;34m(current_choice, choices, replace, p, shuffle, random_state)\u001b[0m\n\u001b[1;32m     55\u001b[0m         current_equals_c \u001b[38;5;241m=\u001b[39m (current_choice \u001b[38;5;241m==\u001b[39m c)\n\u001b[1;32m     56\u001b[0m         num_rows \u001b[38;5;241m=\u001b[39m current_equals_c\u001b[38;5;241m.\u001b[39msum()\n\u001b[0;32m---> 57\u001b[0m         new_choice[current_equals_c] \u001b[38;5;241m=\u001b[39m \u001b[43mrng\u001b[49m\u001b[38;5;241;43m.\u001b[39;49m\u001b[43mchoice\u001b[49m\u001b[43m(\u001b[49m\n\u001b[1;32m     58\u001b[0m \u001b[43m            \u001b[49m\u001b[43mchoices\u001b[49m\u001b[43m,\u001b[49m\u001b[43m \u001b[49m\u001b[43mnum_rows\u001b[49m\u001b[43m,\u001b[49m\u001b[43m \u001b[49m\u001b[43mreplace\u001b[49m\u001b[43m,\u001b[49m\u001b[43m \u001b[49m\u001b[43mp_cond\u001b[49m\u001b[43m,\u001b[49m\u001b[43m \u001b[49m\u001b[43mshuffle\u001b[49m\u001b[38;5;241;43m=\u001b[39;49m\u001b[43mshuffle\u001b[49m\u001b[43m)\u001b[49m\n\u001b[1;32m     59\u001b[0m \u001b[38;5;28;01melse\u001b[39;00m: \u001b[38;5;66;03m# Scalar version\u001b[39;00m\n\u001b[1;32m     60\u001b[0m     p_cond \u001b[38;5;241m=\u001b[39m np\u001b[38;5;241m.\u001b[39mwhere(choices \u001b[38;5;241m!=\u001b[39m current_choice, p, \u001b[38;5;241m0\u001b[39m)\n",
      "File \u001b[0;32m_generator.pyx:743\u001b[0m, in \u001b[0;36mnumpy.random._generator.Generator.choice\u001b[0;34m()\u001b[0m\n",
      "\u001b[0;31mValueError\u001b[0m: probabilities contain NaN"
     ]
    }
   ],
   "source": [
    "random_choice(s, ['b'], random_state=9999)"
   ]
  },
  {
   "cell_type": "markdown",
   "id": "1439e498",
   "metadata": {},
   "source": [
    "# Test after incorporating above code into corruption module\n",
    "\n",
    "## Test both algorithms and test when `exclude_current` is False"
   ]
  },
  {
   "cell_type": "code",
   "execution_count": 86,
   "id": "2ae6e093",
   "metadata": {},
   "outputs": [
    {
     "data": {
      "text/plain": [
       "array(['e', 'a', 'c', 'd', 'b', 'f'], dtype=object)"
      ]
     },
     "execution_count": 86,
     "metadata": {},
     "output_type": "execute_result"
    }
   ],
   "source": [
    "s3.unique()"
   ]
  },
  {
   "cell_type": "code",
   "execution_count": 87,
   "id": "6150267a",
   "metadata": {},
   "outputs": [
    {
     "data": {
      "text/plain": [
       "array(['c', 'a', 'd', 'b'], dtype=object)"
      ]
     },
     "execution_count": 87,
     "metadata": {},
     "output_type": "execute_result"
    }
   ],
   "source": [
    "t3c = corruption.random_choice(s3, list('abcd'), random_state=88888)\n",
    "t3c.unique()"
   ]
  },
  {
   "cell_type": "code",
   "execution_count": 88,
   "id": "290898c6",
   "metadata": {},
   "outputs": [
    {
     "data": {
      "text/plain": [
       "False"
      ]
     },
     "execution_count": 88,
     "metadata": {},
     "output_type": "execute_result"
    }
   ],
   "source": [
    "(t3c == s3).any()"
   ]
  },
  {
   "cell_type": "code",
   "execution_count": 89,
   "id": "40d267f0",
   "metadata": {},
   "outputs": [
    {
     "data": {
      "text/plain": [
       "0         c\n",
       "1         c\n",
       "2         a\n",
       "3         d\n",
       "4         b\n",
       "         ..\n",
       "999995    b\n",
       "999996    b\n",
       "999997    c\n",
       "999998    b\n",
       "999999    b\n",
       "Length: 1000000, dtype: object"
      ]
     },
     "execution_count": 89,
     "metadata": {},
     "output_type": "execute_result"
    }
   ],
   "source": [
    "t3d = corruption.random_choice(s3, list('abcd'), False, random_state=88888)\n",
    "t3d"
   ]
  },
  {
   "cell_type": "code",
   "execution_count": 90,
   "id": "dc5d962a",
   "metadata": {},
   "outputs": [
    {
     "data": {
      "text/plain": [
       "166067"
      ]
     },
     "execution_count": 90,
     "metadata": {},
     "output_type": "execute_result"
    }
   ],
   "source": [
    "(t3d == s3).sum()"
   ]
  },
  {
   "cell_type": "code",
   "execution_count": 91,
   "id": "22061246",
   "metadata": {},
   "outputs": [
    {
     "data": {
      "text/plain": [
       "0         c\n",
       "1         c\n",
       "2         a\n",
       "3         d\n",
       "4         b\n",
       "         ..\n",
       "999995    b\n",
       "999996    d\n",
       "999997    d\n",
       "999998    b\n",
       "999999    b\n",
       "Length: 1000000, dtype: object"
      ]
     },
     "execution_count": 91,
     "metadata": {},
     "output_type": "execute_result"
    }
   ],
   "source": [
    "t3e = corruption.random_choice(\n",
    "    s3, list('abcd'), exclusion_algorithm='resampling', random_state=88888)\n",
    "t3e"
   ]
  },
  {
   "cell_type": "code",
   "execution_count": 92,
   "id": "b0a27d40",
   "metadata": {},
   "outputs": [
    {
     "data": {
      "text/plain": [
       "array(['c', 'a', 'd', 'b'], dtype=object)"
      ]
     },
     "execution_count": 92,
     "metadata": {},
     "output_type": "execute_result"
    }
   ],
   "source": [
    "t3e.unique()"
   ]
  },
  {
   "cell_type": "code",
   "execution_count": 93,
   "id": "e2f887b9",
   "metadata": {},
   "outputs": [
    {
     "data": {
      "text/plain": [
       "False"
      ]
     },
     "execution_count": 93,
     "metadata": {},
     "output_type": "execute_result"
    }
   ],
   "source": [
    "(t3e == s3).any()"
   ]
  },
  {
   "cell_type": "markdown",
   "id": "85d77af7",
   "metadata": {},
   "source": [
    "## Time the two exclusion algorithms\n",
    "\n",
    "Explicit exclusion is faster than resampling by a factor of more than two for this particular test data, and is slower than _not_ excluding the current choice by a factor of 20."
   ]
  },
  {
   "cell_type": "code",
   "execution_count": 94,
   "id": "e33a7963",
   "metadata": {},
   "outputs": [
    {
     "name": "stdout",
     "output_type": "stream",
     "text": [
      "266 ms ± 1.75 ms per loop (mean ± std. dev. of 7 runs, 1 loop each)\n"
     ]
    }
   ],
   "source": [
    "%timeit corruption.random_choice(s3, list('abcd'))"
   ]
  },
  {
   "cell_type": "code",
   "execution_count": 97,
   "id": "adc14bd9",
   "metadata": {},
   "outputs": [
    {
     "name": "stdout",
     "output_type": "stream",
     "text": [
      "623 ms ± 65.4 ms per loop (mean ± std. dev. of 7 runs, 1 loop each)\n"
     ]
    }
   ],
   "source": [
    "%timeit corruption.random_choice(s3, list('abcd'), exclusion_algorithm='resampling')"
   ]
  },
  {
   "cell_type": "code",
   "execution_count": 98,
   "id": "dd108892",
   "metadata": {},
   "outputs": [
    {
     "name": "stdout",
     "output_type": "stream",
     "text": [
      "13.5 ms ± 45.5 µs per loop (mean ± std. dev. of 7 runs, 100 loops each)\n"
     ]
    }
   ],
   "source": [
    "%timeit corruption.random_choice(s3, list('abcd'), exclusion_algorithm=None)"
   ]
  },
  {
   "cell_type": "markdown",
   "id": "2cd452ce",
   "metadata": {},
   "source": [
    "## Make sure `miswrite_age` still works since I had to edit the call to `random_choice` for this function\n",
    "\n",
    "Including -2 in the increments should cause some elements where age = 1 to remain the same after noising."
   ]
  },
  {
   "cell_type": "code",
   "execution_count": 99,
   "id": "b1277794",
   "metadata": {},
   "outputs": [
    {
     "data": {
      "text/plain": [
       "0         18\n",
       "1         32\n",
       "2         82\n",
       "3         43\n",
       "4         19\n",
       "          ..\n",
       "999995    48\n",
       "999996    95\n",
       "999997    22\n",
       "999998    44\n",
       "999999    23\n",
       "Length: 1000000, dtype: int64"
      ]
     },
     "execution_count": 99,
     "metadata": {},
     "output_type": "execute_result"
    }
   ],
   "source": [
    "age = pd.Series(rng.choice(100, size))\n",
    "age\n",
    "age_noisy = corruption.miswrite_age(age, [-2, -1, 1, 2])\n",
    "age_noisy"
   ]
  },
  {
   "cell_type": "code",
   "execution_count": 100,
   "id": "15134561",
   "metadata": {},
   "outputs": [
    {
     "data": {
      "text/plain": [
       "2526"
      ]
     },
     "execution_count": 100,
     "metadata": {},
     "output_type": "execute_result"
    }
   ],
   "source": [
    "(age == age_noisy).sum()"
   ]
  },
  {
   "cell_type": "code",
   "execution_count": 101,
   "id": "e53f3f8d",
   "metadata": {},
   "outputs": [
    {
     "data": {
      "text/plain": [
       "array([1])"
      ]
     },
     "execution_count": 101,
     "metadata": {},
     "output_type": "execute_result"
    }
   ],
   "source": [
    "age.loc[(age == age_noisy)].unique()"
   ]
  },
  {
   "cell_type": "code",
   "execution_count": 102,
   "id": "da952592",
   "metadata": {},
   "outputs": [
    {
     "data": {
      "text/plain": [
       "array([-1,  1,  2, -2,  0])"
      ]
     },
     "execution_count": 102,
     "metadata": {},
     "output_type": "execute_result"
    }
   ],
   "source": [
    "(age - age_noisy).unique()"
   ]
  },
  {
   "cell_type": "code",
   "execution_count": null,
   "id": "31198ca1",
   "metadata": {},
   "outputs": [],
   "source": []
  }
 ],
 "metadata": {
  "kernelspec": {
   "display_name": "Python 3 (ipykernel)",
   "language": "python",
   "name": "python3"
  },
  "language_info": {
   "codemirror_mode": {
    "name": "ipython",
    "version": 3
   },
   "file_extension": ".py",
   "mimetype": "text/x-python",
   "name": "python",
   "nbconvert_exporter": "python",
   "pygments_lexer": "ipython3",
   "version": "3.8.13"
  }
 },
 "nbformat": 4,
 "nbformat_minor": 5
}
