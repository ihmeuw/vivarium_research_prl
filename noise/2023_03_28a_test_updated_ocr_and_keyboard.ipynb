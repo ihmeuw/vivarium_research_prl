{
 "cells": [
  {
   "cell_type": "code",
   "execution_count": 1,
   "id": "3c4e8ce5",
   "metadata": {},
   "outputs": [
    {
     "name": "stdout",
     "output_type": "stream",
     "text": [
      "Tue 28 Mar 2023 10:11:48 PM PDT\n",
      "ndbs\n",
      "Linux int-slurm-sarchive-p0005 5.4.0-135-generic #152-Ubuntu SMP Wed Nov 23 20:19:22 UTC 2022 x86_64 x86_64 x86_64 GNU/Linux\n",
      "/mnt/share/code/ndbs/vivarium_research_prl/noise\n"
     ]
    }
   ],
   "source": [
    "import numpy as np, matplotlib.pyplot as plt, pandas as pd\n",
    "pd.set_option('display.max_rows', 50)\n",
    "\n",
    "import os\n",
    "# Use this to see how much memory the dataframes use\n",
    "from sys import getsizeof\n",
    "\n",
    "import pseudopeople as pp\n",
    "\n",
    "from vivarium_research_prl.utils import sizemb, MappingViaAttributes\n",
    "from vivarium_research_prl import datatypes\n",
    "from vivarium_research_prl.noise import corruption, fake_names, noisify\n",
    "from vivarium_research_prl.find_kids import datasets, noisify_data\n",
    "\n",
    "!date\n",
    "!whoami\n",
    "!uname -a\n",
    "!pwd"
   ]
  },
  {
   "cell_type": "code",
   "execution_count": 2,
   "id": "5e701767",
   "metadata": {},
   "outputs": [],
   "source": [
    "%load_ext autoreload\n",
    "%autoreload 2"
   ]
  },
  {
   "cell_type": "code",
   "execution_count": 3,
   "id": "583cfda1",
   "metadata": {},
   "outputs": [
    {
     "name": "stdout",
     "output_type": "stream",
     "text": [
      "total 14G\r\n",
      "drwxrwsr-x  2 albrja IHME-Simulationscience 4.0K Mar 22 16:44 .\r\n",
      "-rw-r--r--  1 albrja IHME-Simulationscience  59M Mar 15 10:01 wic_observer.csv.bz2\r\n",
      "-rw-r--r--  1 albrja IHME-Simulationscience 1.5G Mar 15 10:01 tax_dependents_observer.csv.bz2\r\n",
      "-rw-r--r--  1 albrja IHME-Simulationscience 6.8G Mar 15 09:57 tax_w2_observer.csv.bz2\r\n",
      "-rw-r--r--  1 albrja IHME-Simulationscience 4.1G Mar 15 09:56 tax_1040_observer.csv.bz2\r\n",
      "-rw-r--r--  1 albrja IHME-Simulationscience 192M Mar 15 09:48 social_security_observer.csv.bz2\r\n",
      "-rw-r--r--  1 albrja IHME-Simulationscience  35M Mar 15 09:36 household_survey_observer_cps.csv.bz2\r\n",
      "-rw-r--r--  1 albrja IHME-Simulationscience 6.7M Mar 15 09:36 household_survey_observer_acs.csv.bz2\r\n",
      "-rw-r--r--  1 albrja IHME-Simulationscience 638M Mar 15 09:36 decennial_census_observer.csv.bz2\r\n",
      "drwxrwsr-x 12 albrja IHME-Simulationscience 5.5K Mar 14 20:25 ..\r\n"
     ]
    }
   ],
   "source": [
    "project_output_dir = \\\n",
    "    '/mnt/team/simulation_science/priv/engineering/vivarium_census_prl_synth_pop'\n",
    "output_subdir = (\n",
    "    'results/vv_tax_observers'\n",
    "    '/united_states_of_america/2023_03_06_12_42_55'\n",
    "    '/final_results/2023_03_14_16_41_22'\n",
    ")\n",
    "output_dir = f'{project_output_dir}/{output_subdir}'\n",
    "\n",
    "!ls -halt $output_dir"
   ]
  },
  {
   "cell_type": "markdown",
   "id": "800ec14b",
   "metadata": {},
   "source": [
    "# Load WIC data for testing"
   ]
  },
  {
   "cell_type": "code",
   "execution_count": 4,
   "id": "7c5342b4",
   "metadata": {},
   "outputs": [
    {
     "name": "stdout",
     "output_type": "stream",
     "text": [
      "1629.922531 MB\n",
      "CPU times: user 15.2 s, sys: 530 ms, total: 15.8 s\n",
      "Wall time: 15.8 s\n"
     ]
    },
    {
     "data": {
      "text/html": [
       "<div>\n",
       "<style scoped>\n",
       "    .dataframe tbody tr th:only-of-type {\n",
       "        vertical-align: middle;\n",
       "    }\n",
       "\n",
       "    .dataframe tbody tr th {\n",
       "        vertical-align: top;\n",
       "    }\n",
       "\n",
       "    .dataframe thead th {\n",
       "        text-align: right;\n",
       "    }\n",
       "</style>\n",
       "<table border=\"1\" class=\"dataframe\">\n",
       "  <thead>\n",
       "    <tr style=\"text-align: right;\">\n",
       "      <th></th>\n",
       "      <th>wic_year</th>\n",
       "      <th>middle_initial</th>\n",
       "      <th>household_id</th>\n",
       "      <th>zipcode</th>\n",
       "      <th>housing_type</th>\n",
       "      <th>simulant_id</th>\n",
       "      <th>guardian_1</th>\n",
       "      <th>race_ethnicity</th>\n",
       "      <th>date_of_birth</th>\n",
       "      <th>last_name</th>\n",
       "      <th>first_name</th>\n",
       "      <th>age</th>\n",
       "      <th>street_name</th>\n",
       "      <th>city</th>\n",
       "      <th>guardian_2</th>\n",
       "      <th>relation_to_household_head</th>\n",
       "      <th>sex</th>\n",
       "      <th>unit_number</th>\n",
       "      <th>street_number</th>\n",
       "      <th>state</th>\n",
       "    </tr>\n",
       "  </thead>\n",
       "  <tbody>\n",
       "    <tr>\n",
       "      <th>0</th>\n",
       "      <td>2021</td>\n",
       "      <td>L</td>\n",
       "      <td>2284_334371</td>\n",
       "      <td>83801.0</td>\n",
       "      <td>Standard</td>\n",
       "      <td>2284_30</td>\n",
       "      <td>2284_-1</td>\n",
       "      <td>White</td>\n",
       "      <td>1990-04-11</td>\n",
       "      <td>Potts</td>\n",
       "      <td>Megan</td>\n",
       "      <td>30.663225</td>\n",
       "      <td>fire twr rd</td>\n",
       "      <td>hauser</td>\n",
       "      <td>2284_-1</td>\n",
       "      <td>Other nonrelative</td>\n",
       "      <td>Female</td>\n",
       "      <td>NaN</td>\n",
       "      <td>19461</td>\n",
       "      <td>ID</td>\n",
       "    </tr>\n",
       "    <tr>\n",
       "      <th>1</th>\n",
       "      <td>2021</td>\n",
       "      <td>B</td>\n",
       "      <td>2284_100</td>\n",
       "      <td>70570.0</td>\n",
       "      <td>Standard</td>\n",
       "      <td>2284_246</td>\n",
       "      <td>2284_-1</td>\n",
       "      <td>Black</td>\n",
       "      <td>1995-03-14</td>\n",
       "      <td>Luchin</td>\n",
       "      <td>Lily</td>\n",
       "      <td>25.740170</td>\n",
       "      <td>illinois dr</td>\n",
       "      <td>baker</td>\n",
       "      <td>2284_-1</td>\n",
       "      <td>Reference person</td>\n",
       "      <td>Female</td>\n",
       "      <td>NaN</td>\n",
       "      <td>821</td>\n",
       "      <td>LA</td>\n",
       "    </tr>\n",
       "    <tr>\n",
       "      <th>2</th>\n",
       "      <td>2021</td>\n",
       "      <td>B</td>\n",
       "      <td>2284_119</td>\n",
       "      <td>63121.0</td>\n",
       "      <td>Standard</td>\n",
       "      <td>2284_302</td>\n",
       "      <td>2284_-1</td>\n",
       "      <td>Black</td>\n",
       "      <td>1994-03-22</td>\n",
       "      <td>Eaton</td>\n",
       "      <td>Lexi</td>\n",
       "      <td>26.718624</td>\n",
       "      <td>cottage street</td>\n",
       "      <td>saint louis</td>\n",
       "      <td>2284_-1</td>\n",
       "      <td>Reference person</td>\n",
       "      <td>Female</td>\n",
       "      <td>NaN</td>\n",
       "      <td>4035</td>\n",
       "      <td>MO</td>\n",
       "    </tr>\n",
       "    <tr>\n",
       "      <th>3</th>\n",
       "      <td>2021</td>\n",
       "      <td>A</td>\n",
       "      <td>2284_280</td>\n",
       "      <td>2125.0</td>\n",
       "      <td>Standard</td>\n",
       "      <td>2284_677</td>\n",
       "      <td>2284_-1</td>\n",
       "      <td>White</td>\n",
       "      <td>1987-03-16</td>\n",
       "      <td>Rembold</td>\n",
       "      <td>Chelsey</td>\n",
       "      <td>33.736627</td>\n",
       "      <td>so normandy ave</td>\n",
       "      <td>worcester</td>\n",
       "      <td>2284_-1</td>\n",
       "      <td>Reference person</td>\n",
       "      <td>Female</td>\n",
       "      <td>NaN</td>\n",
       "      <td>330</td>\n",
       "      <td>MA</td>\n",
       "    </tr>\n",
       "    <tr>\n",
       "      <th>4</th>\n",
       "      <td>2021</td>\n",
       "      <td>J</td>\n",
       "      <td>2284_341</td>\n",
       "      <td>29212.0</td>\n",
       "      <td>Standard</td>\n",
       "      <td>2284_826</td>\n",
       "      <td>2284_-1</td>\n",
       "      <td>Black</td>\n",
       "      <td>1987-09-20</td>\n",
       "      <td>Billips</td>\n",
       "      <td>Amanda</td>\n",
       "      <td>33.219939</td>\n",
       "      <td>west jarlath street</td>\n",
       "      <td>clover</td>\n",
       "      <td>2284_-1</td>\n",
       "      <td>Other nonrelative</td>\n",
       "      <td>Female</td>\n",
       "      <td>NaN</td>\n",
       "      <td>35</td>\n",
       "      <td>SC</td>\n",
       "    </tr>\n",
       "    <tr>\n",
       "      <th>...</th>\n",
       "      <td>...</td>\n",
       "      <td>...</td>\n",
       "      <td>...</td>\n",
       "      <td>...</td>\n",
       "      <td>...</td>\n",
       "      <td>...</td>\n",
       "      <td>...</td>\n",
       "      <td>...</td>\n",
       "      <td>...</td>\n",
       "      <td>...</td>\n",
       "      <td>...</td>\n",
       "      <td>...</td>\n",
       "      <td>...</td>\n",
       "      <td>...</td>\n",
       "      <td>...</td>\n",
       "      <td>...</td>\n",
       "      <td>...</td>\n",
       "      <td>...</td>\n",
       "      <td>...</td>\n",
       "      <td>...</td>\n",
       "    </tr>\n",
       "    <tr>\n",
       "      <th>1490390</th>\n",
       "      <td>2030</td>\n",
       "      <td>F</td>\n",
       "      <td>7359_398744</td>\n",
       "      <td>97212.0</td>\n",
       "      <td>Standard</td>\n",
       "      <td>7359_1174197</td>\n",
       "      <td>7359_682161</td>\n",
       "      <td>White</td>\n",
       "      <td>2030-01-10</td>\n",
       "      <td>Roth</td>\n",
       "      <td>Joel</td>\n",
       "      <td>0.037815</td>\n",
       "      <td>southwest 31st avenue</td>\n",
       "      <td>portland</td>\n",
       "      <td>7359_-1</td>\n",
       "      <td>Other nonrelative</td>\n",
       "      <td>Male</td>\n",
       "      <td>NaN</td>\n",
       "      <td>30</td>\n",
       "      <td>OR</td>\n",
       "    </tr>\n",
       "    <tr>\n",
       "      <th>1490391</th>\n",
       "      <td>2030</td>\n",
       "      <td>J</td>\n",
       "      <td>7359_474422</td>\n",
       "      <td>90631.0</td>\n",
       "      <td>Standard</td>\n",
       "      <td>7359_1174200</td>\n",
       "      <td>7359_758995</td>\n",
       "      <td>White</td>\n",
       "      <td>2030-01-01</td>\n",
       "      <td>Hager</td>\n",
       "      <td>Adalynn</td>\n",
       "      <td>0.061681</td>\n",
       "      <td>rue bayou</td>\n",
       "      <td>fresno</td>\n",
       "      <td>7359_-1</td>\n",
       "      <td>Biological child</td>\n",
       "      <td>Female</td>\n",
       "      <td>NaN</td>\n",
       "      <td>1011</td>\n",
       "      <td>CA</td>\n",
       "    </tr>\n",
       "    <tr>\n",
       "      <th>1490392</th>\n",
       "      <td>2030</td>\n",
       "      <td>K</td>\n",
       "      <td>7359_588502</td>\n",
       "      <td>98626.0</td>\n",
       "      <td>Standard</td>\n",
       "      <td>7359_1174202</td>\n",
       "      <td>7359_836404</td>\n",
       "      <td>White</td>\n",
       "      <td>2030-01-13</td>\n",
       "      <td>Hefley</td>\n",
       "      <td>Adriel</td>\n",
       "      <td>0.028668</td>\n",
       "      <td>iroquois ln</td>\n",
       "      <td>maple valley</td>\n",
       "      <td>7359_-1</td>\n",
       "      <td>Biological child</td>\n",
       "      <td>Male</td>\n",
       "      <td>NaN</td>\n",
       "      <td>1053</td>\n",
       "      <td>WA</td>\n",
       "    </tr>\n",
       "    <tr>\n",
       "      <th>1490393</th>\n",
       "      <td>2030</td>\n",
       "      <td>A</td>\n",
       "      <td>7359_363411</td>\n",
       "      <td>46703.0</td>\n",
       "      <td>Standard</td>\n",
       "      <td>7359_1174206</td>\n",
       "      <td>7359_904239</td>\n",
       "      <td>White</td>\n",
       "      <td>2030-01-08</td>\n",
       "      <td>Guimaraes</td>\n",
       "      <td>Paisley</td>\n",
       "      <td>0.042291</td>\n",
       "      <td>freeman rd</td>\n",
       "      <td>noblesville</td>\n",
       "      <td>7359_-1</td>\n",
       "      <td>Grandchild</td>\n",
       "      <td>Female</td>\n",
       "      <td>NaN</td>\n",
       "      <td>6631</td>\n",
       "      <td>IN</td>\n",
       "    </tr>\n",
       "    <tr>\n",
       "      <th>1490394</th>\n",
       "      <td>2030</td>\n",
       "      <td>O</td>\n",
       "      <td>7359_371605</td>\n",
       "      <td>85374.0</td>\n",
       "      <td>Standard</td>\n",
       "      <td>7359_1174207</td>\n",
       "      <td>7359_974381</td>\n",
       "      <td>White</td>\n",
       "      <td>2030-01-11</td>\n",
       "      <td>Glynn</td>\n",
       "      <td>Mila</td>\n",
       "      <td>0.033991</td>\n",
       "      <td>fm 512</td>\n",
       "      <td>gilbert</td>\n",
       "      <td>7359_-1</td>\n",
       "      <td>Other nonrelative</td>\n",
       "      <td>Female</td>\n",
       "      <td>NaN</td>\n",
       "      <td>3204</td>\n",
       "      <td>AZ</td>\n",
       "    </tr>\n",
       "  </tbody>\n",
       "</table>\n",
       "<p>1490395 rows × 20 columns</p>\n",
       "</div>"
      ],
      "text/plain": [
       "         wic_year middle_initial household_id  zipcode housing_type  \\\n",
       "0            2021              L  2284_334371  83801.0     Standard   \n",
       "1            2021              B     2284_100  70570.0     Standard   \n",
       "2            2021              B     2284_119  63121.0     Standard   \n",
       "3            2021              A     2284_280   2125.0     Standard   \n",
       "4            2021              J     2284_341  29212.0     Standard   \n",
       "...           ...            ...          ...      ...          ...   \n",
       "1490390      2030              F  7359_398744  97212.0     Standard   \n",
       "1490391      2030              J  7359_474422  90631.0     Standard   \n",
       "1490392      2030              K  7359_588502  98626.0     Standard   \n",
       "1490393      2030              A  7359_363411  46703.0     Standard   \n",
       "1490394      2030              O  7359_371605  85374.0     Standard   \n",
       "\n",
       "          simulant_id   guardian_1 race_ethnicity date_of_birth  last_name  \\\n",
       "0             2284_30      2284_-1          White    1990-04-11      Potts   \n",
       "1            2284_246      2284_-1          Black    1995-03-14     Luchin   \n",
       "2            2284_302      2284_-1          Black    1994-03-22      Eaton   \n",
       "3            2284_677      2284_-1          White    1987-03-16    Rembold   \n",
       "4            2284_826      2284_-1          Black    1987-09-20    Billips   \n",
       "...               ...          ...            ...           ...        ...   \n",
       "1490390  7359_1174197  7359_682161          White    2030-01-10       Roth   \n",
       "1490391  7359_1174200  7359_758995          White    2030-01-01      Hager   \n",
       "1490392  7359_1174202  7359_836404          White    2030-01-13     Hefley   \n",
       "1490393  7359_1174206  7359_904239          White    2030-01-08  Guimaraes   \n",
       "1490394  7359_1174207  7359_974381          White    2030-01-11      Glynn   \n",
       "\n",
       "        first_name        age            street_name          city guardian_2  \\\n",
       "0            Megan  30.663225            fire twr rd        hauser    2284_-1   \n",
       "1             Lily  25.740170            illinois dr         baker    2284_-1   \n",
       "2             Lexi  26.718624         cottage street   saint louis    2284_-1   \n",
       "3          Chelsey  33.736627        so normandy ave     worcester    2284_-1   \n",
       "4           Amanda  33.219939    west jarlath street        clover    2284_-1   \n",
       "...            ...        ...                    ...           ...        ...   \n",
       "1490390       Joel   0.037815  southwest 31st avenue      portland    7359_-1   \n",
       "1490391    Adalynn   0.061681              rue bayou        fresno    7359_-1   \n",
       "1490392     Adriel   0.028668            iroquois ln  maple valley    7359_-1   \n",
       "1490393    Paisley   0.042291             freeman rd   noblesville    7359_-1   \n",
       "1490394       Mila   0.033991                 fm 512       gilbert    7359_-1   \n",
       "\n",
       "        relation_to_household_head     sex unit_number street_number state  \n",
       "0                Other nonrelative  Female         NaN         19461    ID  \n",
       "1                 Reference person  Female         NaN           821    LA  \n",
       "2                 Reference person  Female         NaN          4035    MO  \n",
       "3                 Reference person  Female         NaN           330    MA  \n",
       "4                Other nonrelative  Female         NaN            35    SC  \n",
       "...                            ...     ...         ...           ...   ...  \n",
       "1490390          Other nonrelative    Male         NaN            30    OR  \n",
       "1490391           Biological child  Female         NaN          1011    CA  \n",
       "1490392           Biological child    Male         NaN          1053    WA  \n",
       "1490393                 Grandchild  Female         NaN          6631    IN  \n",
       "1490394          Other nonrelative  Female         NaN          3204    AZ  \n",
       "\n",
       "[1490395 rows x 20 columns]"
      ]
     },
     "execution_count": 4,
     "metadata": {},
     "output_type": "execute_result"
    }
   ],
   "source": [
    "%%time\n",
    "df_wic = pd.read_csv(f'{output_dir}/wic_observer.csv.bz2')\n",
    "print(sizemb(df_wic), 'MB')\n",
    "df_wic"
   ]
  },
  {
   "cell_type": "markdown",
   "id": "ec43d8aa",
   "metadata": {},
   "source": [
    "# Define some parameters"
   ]
  },
  {
   "cell_type": "code",
   "execution_count": 6,
   "id": "b67cfce8",
   "metadata": {},
   "outputs": [],
   "source": [
    "prob = 0.3\n",
    "seed = 12"
   ]
  },
  {
   "cell_type": "markdown",
   "id": "955c0ad8",
   "metadata": {},
   "source": [
    "# Get first names for testing noise functions"
   ]
  },
  {
   "cell_type": "code",
   "execution_count": 5,
   "id": "a47e0f62",
   "metadata": {},
   "outputs": [
    {
     "data": {
      "text/plain": [
       "0            Megan\n",
       "1             Lily\n",
       "2             Lexi\n",
       "3          Chelsey\n",
       "4           Amanda\n",
       "            ...   \n",
       "1490390       Joel\n",
       "1490391    Adalynn\n",
       "1490392     Adriel\n",
       "1490393    Paisley\n",
       "1490394       Mila\n",
       "Name: first_name, Length: 1490395, dtype: object"
      ]
     },
     "execution_count": 5,
     "metadata": {},
     "output_type": "execute_result"
    }
   ],
   "source": [
    "first_names = df_wic.first_name\n",
    "first_names"
   ]
  },
  {
   "cell_type": "markdown",
   "id": "7ba7ca96",
   "metadata": {},
   "source": [
    "# Time using scalar function with `.map`"
   ]
  },
  {
   "cell_type": "code",
   "execution_count": 9,
   "id": "d8a3423a",
   "metadata": {},
   "outputs": [
    {
     "name": "stdout",
     "output_type": "stream",
     "text": [
      "CPU times: user 1min 21s, sys: 81 ms, total: 1min 21s\n",
      "Wall time: 1min 21s\n"
     ]
    },
    {
     "data": {
      "text/plain": [
       "0            Meqan\n",
       "1             L:|v\n",
       "2             Lex:\n",
       "3          Cbelsev\n",
       "4           4manda\n",
       "            ...   \n",
       "1490390       Joe|\n",
       "1490391    4dalvnn\n",
       "1490392    4dr'leJ\n",
       "1490393    Pa:s|ev\n",
       "1490394       M:|a\n",
       "Name: first_name, Length: 1490395, dtype: object"
      ]
     },
     "execution_count": 9,
     "metadata": {},
     "output_type": "execute_result"
    }
   ],
   "source": [
    "%time first_names_ocr_map = first_names.map(lambda s: corruption.ocr_corrupt(s, prob, seed))\n",
    "first_names_ocr_map"
   ]
  },
  {
   "cell_type": "markdown",
   "id": "4c2c871a",
   "metadata": {},
   "source": [
    "# Time using scalar function with `np.vectorize`"
   ]
  },
  {
   "cell_type": "code",
   "execution_count": 10,
   "id": "9f37e428",
   "metadata": {},
   "outputs": [
    {
     "name": "stdout",
     "output_type": "stream",
     "text": [
      "CPU times: user 1min 21s, sys: 102 ms, total: 1min 21s\n",
      "Wall time: 1min 21s\n"
     ]
    },
    {
     "data": {
      "text/plain": [
       "array(['Meqan', 'L:|v', 'Lex:', ..., \"4dr'leJ\", 'Pa:s|ev', 'M:|a'],\n",
       "      dtype='<U14')"
      ]
     },
     "execution_count": 10,
     "metadata": {},
     "output_type": "execute_result"
    }
   ],
   "source": [
    "%time first_names_ocr_vec = np.vectorize(corruption.ocr_corrupt)(first_names, prob, seed)\n",
    "first_names_ocr_vec"
   ]
  },
  {
   "cell_type": "code",
   "execution_count": 11,
   "id": "49dbbe3c",
   "metadata": {},
   "outputs": [
    {
     "data": {
      "text/plain": [
       "0            Meqan\n",
       "1             L:|v\n",
       "2             Lex:\n",
       "3          Cbelsev\n",
       "4           4manda\n",
       "            ...   \n",
       "1490390       Joe|\n",
       "1490391    4dalvnn\n",
       "1490392    4dr'leJ\n",
       "1490393    Pa:s|ev\n",
       "1490394       M:|a\n",
       "Length: 1490395, dtype: object"
      ]
     },
     "execution_count": 11,
     "metadata": {},
     "output_type": "execute_result"
    }
   ],
   "source": [
    "pd.Series(first_names_ocr_vec) # Looks the same as using .map"
   ]
  },
  {
   "cell_type": "code",
   "execution_count": 13,
   "id": "1d66009f",
   "metadata": {},
   "outputs": [
    {
     "data": {
      "text/plain": [
       "True"
      ]
     },
     "execution_count": 13,
     "metadata": {},
     "output_type": "execute_result"
    }
   ],
   "source": [
    "(first_names_ocr_map == first_names_ocr_vec).all()"
   ]
  },
  {
   "cell_type": "markdown",
   "id": "fedca224",
   "metadata": {},
   "source": [
    "# Time using vectorized version"
   ]
  },
  {
   "cell_type": "code",
   "execution_count": 14,
   "id": "02739f97",
   "metadata": {},
   "outputs": [
    {
     "name": "stdout",
     "output_type": "stream",
     "text": [
      "CPU times: user 25.7 s, sys: 1.02 s, total: 26.7 s\n",
      "Wall time: 26.7 s\n"
     ]
    },
    {
     "data": {
      "text/plain": [
       "0            Megan\n",
       "1             L:ly\n",
       "2             Lex:\n",
       "3          Che1sey\n",
       "4           4manda\n",
       "            ...   \n",
       "1490390       Joel\n",
       "1490391    Adalynn\n",
       "1490392     Adniel\n",
       "1490393    PaisJev\n",
       "1490394       Mila\n",
       "Name: first_name, Length: 1490395, dtype: object"
      ]
     },
     "execution_count": 14,
     "metadata": {},
     "output_type": "execute_result"
    }
   ],
   "source": [
    "%time first_names_ocr = corruption.ocr_corrupt(first_names, prob, seed)\n",
    "first_names_ocr"
   ]
  },
  {
   "cell_type": "code",
   "execution_count": 15,
   "id": "98e09483",
   "metadata": {},
   "outputs": [
    {
     "data": {
      "text/plain": [
       "328327"
      ]
     },
     "execution_count": 15,
     "metadata": {},
     "output_type": "execute_result"
    }
   ],
   "source": [
    "(first_names_ocr_map == first_names_ocr).sum()"
   ]
  },
  {
   "cell_type": "markdown",
   "id": "9f07be0e",
   "metadata": {},
   "source": [
    "# Compare lengths of original to lengths of noised versions"
   ]
  },
  {
   "cell_type": "code",
   "execution_count": 7,
   "id": "13dcc502",
   "metadata": {},
   "outputs": [
    {
     "name": "stdout",
     "output_type": "stream",
     "text": [
      "CPU times: user 327 ms, sys: 4.24 ms, total: 331 ms\n",
      "Wall time: 329 ms\n"
     ]
    },
    {
     "data": {
      "text/plain": [
       "5.917372240245036"
      ]
     },
     "execution_count": 7,
     "metadata": {},
     "output_type": "execute_result"
    }
   ],
   "source": [
    "%time first_names.str.len().mean()"
   ]
  },
  {
   "cell_type": "code",
   "execution_count": 17,
   "id": "a40e2da0",
   "metadata": {},
   "outputs": [
    {
     "data": {
      "text/plain": [
       "6.0818682295633035"
      ]
     },
     "execution_count": 17,
     "metadata": {},
     "output_type": "execute_result"
    }
   ],
   "source": [
    "first_names_ocr_map.str.len().mean()"
   ]
  },
  {
   "cell_type": "code",
   "execution_count": 16,
   "id": "6e25f325",
   "metadata": {},
   "outputs": [
    {
     "data": {
      "text/plain": [
       "6.033894370284388"
      ]
     },
     "execution_count": 16,
     "metadata": {},
     "output_type": "execute_result"
    }
   ],
   "source": [
    "first_names_ocr.str.len().mean()"
   ]
  },
  {
   "cell_type": "markdown",
   "id": "17336ff0",
   "metadata": {},
   "source": [
    "# See how many strings changed in each version"
   ]
  },
  {
   "cell_type": "code",
   "execution_count": 18,
   "id": "e4361c43",
   "metadata": {},
   "outputs": [
    {
     "data": {
      "text/plain": [
       "145066"
      ]
     },
     "execution_count": 18,
     "metadata": {},
     "output_type": "execute_result"
    }
   ],
   "source": [
    "(first_names == first_names_ocr_map).sum()"
   ]
  },
  {
   "cell_type": "code",
   "execution_count": 19,
   "id": "aa0b636a",
   "metadata": {},
   "outputs": [
    {
     "data": {
      "text/plain": [
       "707444"
      ]
     },
     "execution_count": 19,
     "metadata": {},
     "output_type": "execute_result"
    }
   ],
   "source": [
    "(first_names == first_names_ocr).sum()"
   ]
  },
  {
   "cell_type": "code",
   "execution_count": 20,
   "id": "761cb7c0",
   "metadata": {},
   "outputs": [
    {
     "data": {
      "text/plain": [
       "328327"
      ]
     },
     "execution_count": 20,
     "metadata": {},
     "output_type": "execute_result"
    }
   ],
   "source": [
    "(first_names_ocr_map == first_names_ocr).sum()"
   ]
  },
  {
   "cell_type": "markdown",
   "id": "eace367b",
   "metadata": {},
   "source": [
    "# Very rough estimate of how many strings we expect to change\n",
    "\n",
    "Prob(token changes) = prob = 0.3\n",
    "\n",
    "Prob(token doesn't change) = 1-prob = 0.7\n",
    "\n",
    "Prob(1st 2 tokens don't change) = (1-prob)^2 = 0.7^2\n",
    "\n",
    "Prob(no tokens change) = (1-prob)^(length of string)\n",
    "\n",
    "Prob(some token changes) = 1 - (1-prob)^(length of string)"
   ]
  },
  {
   "cell_type": "code",
   "execution_count": 26,
   "id": "f8f34872",
   "metadata": {},
   "outputs": [
    {
     "data": {
      "text/plain": [
       "0          0.168070\n",
       "1          0.240100\n",
       "2          0.240100\n",
       "3          0.082354\n",
       "4          0.117649\n",
       "             ...   \n",
       "1490390    0.240100\n",
       "1490391    0.082354\n",
       "1490392    0.117649\n",
       "1490393    0.082354\n",
       "1490394    0.240100\n",
       "Name: first_name, Length: 1490395, dtype: float64"
      ]
     },
     "execution_count": 26,
     "metadata": {},
     "output_type": "execute_result"
    }
   ],
   "source": [
    "(1 - prob)**first_names.map(len)"
   ]
  },
  {
   "cell_type": "code",
   "execution_count": 29,
   "id": "43f0cc58",
   "metadata": {},
   "outputs": [
    {
     "data": {
      "text/plain": [
       "0.1372013246133917"
      ]
     },
     "execution_count": 29,
     "metadata": {},
     "output_type": "execute_result"
    }
   ],
   "source": [
    "# Very rough estimated fraction of strings that stay the same\n",
    "((1 - prob)**first_names.map(len)).mean()"
   ]
  },
  {
   "cell_type": "code",
   "execution_count": 30,
   "id": "0017437c",
   "metadata": {},
   "outputs": [
    {
     "data": {
      "text/plain": [
       "0.12116786120900093"
      ]
     },
     "execution_count": 30,
     "metadata": {},
     "output_type": "execute_result"
    }
   ],
   "source": [
    "(1 - prob)**(first_names.map(len).mean())"
   ]
  },
  {
   "cell_type": "code",
   "execution_count": 31,
   "id": "810c1ce2",
   "metadata": {},
   "outputs": [
    {
     "data": {
      "text/plain": [
       "204484.16819717595"
      ]
     },
     "execution_count": 31,
     "metadata": {},
     "output_type": "execute_result"
    }
   ],
   "source": [
    "(((1 - prob)**first_names.map(len)).mean()) * len(first_names)"
   ]
  },
  {
   "cell_type": "markdown",
   "id": "82f83458",
   "metadata": {},
   "source": [
    "# Count number of OCR tokens in each string"
   ]
  },
  {
   "cell_type": "code",
   "execution_count": 36,
   "id": "94d834ad",
   "metadata": {},
   "outputs": [
    {
     "name": "stdout",
     "output_type": "stream",
     "text": [
      "CPU times: user 11.3 s, sys: 12.9 ms, total: 11.3 s\n",
      "Wall time: 11.3 s\n"
     ]
    },
    {
     "data": {
      "text/html": [
       "<div>\n",
       "<style scoped>\n",
       "    .dataframe tbody tr th:only-of-type {\n",
       "        vertical-align: middle;\n",
       "    }\n",
       "\n",
       "    .dataframe tbody tr th {\n",
       "        vertical-align: top;\n",
       "    }\n",
       "\n",
       "    .dataframe thead th {\n",
       "        text-align: right;\n",
       "    }\n",
       "</style>\n",
       "<table border=\"1\" class=\"dataframe\">\n",
       "  <thead>\n",
       "    <tr style=\"text-align: right;\">\n",
       "      <th></th>\n",
       "      <th>0</th>\n",
       "      <th>1</th>\n",
       "      <th>12</th>\n",
       "      <th>13</th>\n",
       "      <th>17</th>\n",
       "      <th>1&lt;</th>\n",
       "      <th>1&gt;</th>\n",
       "      <th>2</th>\n",
       "      <th>5</th>\n",
       "      <th>6</th>\n",
       "      <th>...</th>\n",
       "      <th>l&lt;</th>\n",
       "      <th>l&gt;</th>\n",
       "      <th>lJ</th>\n",
       "      <th>lo</th>\n",
       "      <th>m</th>\n",
       "      <th>q</th>\n",
       "      <th>ri</th>\n",
       "      <th>u</th>\n",
       "      <th>w</th>\n",
       "      <th>y</th>\n",
       "    </tr>\n",
       "  </thead>\n",
       "  <tbody>\n",
       "    <tr>\n",
       "      <th>0</th>\n",
       "      <td>False</td>\n",
       "      <td>False</td>\n",
       "      <td>False</td>\n",
       "      <td>False</td>\n",
       "      <td>False</td>\n",
       "      <td>False</td>\n",
       "      <td>False</td>\n",
       "      <td>False</td>\n",
       "      <td>False</td>\n",
       "      <td>False</td>\n",
       "      <td>...</td>\n",
       "      <td>False</td>\n",
       "      <td>False</td>\n",
       "      <td>False</td>\n",
       "      <td>False</td>\n",
       "      <td>False</td>\n",
       "      <td>False</td>\n",
       "      <td>False</td>\n",
       "      <td>False</td>\n",
       "      <td>False</td>\n",
       "      <td>False</td>\n",
       "    </tr>\n",
       "    <tr>\n",
       "      <th>1</th>\n",
       "      <td>False</td>\n",
       "      <td>False</td>\n",
       "      <td>False</td>\n",
       "      <td>False</td>\n",
       "      <td>False</td>\n",
       "      <td>False</td>\n",
       "      <td>False</td>\n",
       "      <td>False</td>\n",
       "      <td>False</td>\n",
       "      <td>False</td>\n",
       "      <td>...</td>\n",
       "      <td>False</td>\n",
       "      <td>False</td>\n",
       "      <td>False</td>\n",
       "      <td>False</td>\n",
       "      <td>False</td>\n",
       "      <td>False</td>\n",
       "      <td>False</td>\n",
       "      <td>False</td>\n",
       "      <td>False</td>\n",
       "      <td>True</td>\n",
       "    </tr>\n",
       "    <tr>\n",
       "      <th>2</th>\n",
       "      <td>False</td>\n",
       "      <td>False</td>\n",
       "      <td>False</td>\n",
       "      <td>False</td>\n",
       "      <td>False</td>\n",
       "      <td>False</td>\n",
       "      <td>False</td>\n",
       "      <td>False</td>\n",
       "      <td>False</td>\n",
       "      <td>False</td>\n",
       "      <td>...</td>\n",
       "      <td>False</td>\n",
       "      <td>False</td>\n",
       "      <td>False</td>\n",
       "      <td>False</td>\n",
       "      <td>False</td>\n",
       "      <td>False</td>\n",
       "      <td>False</td>\n",
       "      <td>False</td>\n",
       "      <td>False</td>\n",
       "      <td>False</td>\n",
       "    </tr>\n",
       "    <tr>\n",
       "      <th>3</th>\n",
       "      <td>False</td>\n",
       "      <td>False</td>\n",
       "      <td>False</td>\n",
       "      <td>False</td>\n",
       "      <td>False</td>\n",
       "      <td>False</td>\n",
       "      <td>False</td>\n",
       "      <td>False</td>\n",
       "      <td>False</td>\n",
       "      <td>False</td>\n",
       "      <td>...</td>\n",
       "      <td>False</td>\n",
       "      <td>False</td>\n",
       "      <td>False</td>\n",
       "      <td>False</td>\n",
       "      <td>False</td>\n",
       "      <td>False</td>\n",
       "      <td>False</td>\n",
       "      <td>False</td>\n",
       "      <td>False</td>\n",
       "      <td>True</td>\n",
       "    </tr>\n",
       "    <tr>\n",
       "      <th>4</th>\n",
       "      <td>False</td>\n",
       "      <td>False</td>\n",
       "      <td>False</td>\n",
       "      <td>False</td>\n",
       "      <td>False</td>\n",
       "      <td>False</td>\n",
       "      <td>False</td>\n",
       "      <td>False</td>\n",
       "      <td>False</td>\n",
       "      <td>False</td>\n",
       "      <td>...</td>\n",
       "      <td>False</td>\n",
       "      <td>False</td>\n",
       "      <td>False</td>\n",
       "      <td>False</td>\n",
       "      <td>True</td>\n",
       "      <td>False</td>\n",
       "      <td>False</td>\n",
       "      <td>False</td>\n",
       "      <td>False</td>\n",
       "      <td>False</td>\n",
       "    </tr>\n",
       "    <tr>\n",
       "      <th>...</th>\n",
       "      <td>...</td>\n",
       "      <td>...</td>\n",
       "      <td>...</td>\n",
       "      <td>...</td>\n",
       "      <td>...</td>\n",
       "      <td>...</td>\n",
       "      <td>...</td>\n",
       "      <td>...</td>\n",
       "      <td>...</td>\n",
       "      <td>...</td>\n",
       "      <td>...</td>\n",
       "      <td>...</td>\n",
       "      <td>...</td>\n",
       "      <td>...</td>\n",
       "      <td>...</td>\n",
       "      <td>...</td>\n",
       "      <td>...</td>\n",
       "      <td>...</td>\n",
       "      <td>...</td>\n",
       "      <td>...</td>\n",
       "      <td>...</td>\n",
       "    </tr>\n",
       "    <tr>\n",
       "      <th>1490390</th>\n",
       "      <td>False</td>\n",
       "      <td>False</td>\n",
       "      <td>False</td>\n",
       "      <td>False</td>\n",
       "      <td>False</td>\n",
       "      <td>False</td>\n",
       "      <td>False</td>\n",
       "      <td>False</td>\n",
       "      <td>False</td>\n",
       "      <td>False</td>\n",
       "      <td>...</td>\n",
       "      <td>False</td>\n",
       "      <td>False</td>\n",
       "      <td>False</td>\n",
       "      <td>False</td>\n",
       "      <td>False</td>\n",
       "      <td>False</td>\n",
       "      <td>False</td>\n",
       "      <td>False</td>\n",
       "      <td>False</td>\n",
       "      <td>False</td>\n",
       "    </tr>\n",
       "    <tr>\n",
       "      <th>1490391</th>\n",
       "      <td>False</td>\n",
       "      <td>False</td>\n",
       "      <td>False</td>\n",
       "      <td>False</td>\n",
       "      <td>False</td>\n",
       "      <td>False</td>\n",
       "      <td>False</td>\n",
       "      <td>False</td>\n",
       "      <td>False</td>\n",
       "      <td>False</td>\n",
       "      <td>...</td>\n",
       "      <td>False</td>\n",
       "      <td>False</td>\n",
       "      <td>False</td>\n",
       "      <td>False</td>\n",
       "      <td>False</td>\n",
       "      <td>False</td>\n",
       "      <td>False</td>\n",
       "      <td>False</td>\n",
       "      <td>False</td>\n",
       "      <td>True</td>\n",
       "    </tr>\n",
       "    <tr>\n",
       "      <th>1490392</th>\n",
       "      <td>False</td>\n",
       "      <td>False</td>\n",
       "      <td>False</td>\n",
       "      <td>False</td>\n",
       "      <td>False</td>\n",
       "      <td>False</td>\n",
       "      <td>False</td>\n",
       "      <td>False</td>\n",
       "      <td>False</td>\n",
       "      <td>False</td>\n",
       "      <td>...</td>\n",
       "      <td>False</td>\n",
       "      <td>False</td>\n",
       "      <td>False</td>\n",
       "      <td>False</td>\n",
       "      <td>False</td>\n",
       "      <td>False</td>\n",
       "      <td>True</td>\n",
       "      <td>False</td>\n",
       "      <td>False</td>\n",
       "      <td>False</td>\n",
       "    </tr>\n",
       "    <tr>\n",
       "      <th>1490393</th>\n",
       "      <td>False</td>\n",
       "      <td>False</td>\n",
       "      <td>False</td>\n",
       "      <td>False</td>\n",
       "      <td>False</td>\n",
       "      <td>False</td>\n",
       "      <td>False</td>\n",
       "      <td>False</td>\n",
       "      <td>False</td>\n",
       "      <td>False</td>\n",
       "      <td>...</td>\n",
       "      <td>False</td>\n",
       "      <td>False</td>\n",
       "      <td>False</td>\n",
       "      <td>False</td>\n",
       "      <td>False</td>\n",
       "      <td>False</td>\n",
       "      <td>False</td>\n",
       "      <td>False</td>\n",
       "      <td>False</td>\n",
       "      <td>True</td>\n",
       "    </tr>\n",
       "    <tr>\n",
       "      <th>1490394</th>\n",
       "      <td>False</td>\n",
       "      <td>False</td>\n",
       "      <td>False</td>\n",
       "      <td>False</td>\n",
       "      <td>False</td>\n",
       "      <td>False</td>\n",
       "      <td>False</td>\n",
       "      <td>False</td>\n",
       "      <td>False</td>\n",
       "      <td>False</td>\n",
       "      <td>...</td>\n",
       "      <td>False</td>\n",
       "      <td>False</td>\n",
       "      <td>False</td>\n",
       "      <td>False</td>\n",
       "      <td>False</td>\n",
       "      <td>False</td>\n",
       "      <td>False</td>\n",
       "      <td>False</td>\n",
       "      <td>False</td>\n",
       "      <td>False</td>\n",
       "    </tr>\n",
       "  </tbody>\n",
       "</table>\n",
       "<p>1490395 rows × 39 columns</p>\n",
       "</div>"
      ],
      "text/plain": [
       "             0      1     12     13     17     1<     1>      2      5      6  \\\n",
       "0        False  False  False  False  False  False  False  False  False  False   \n",
       "1        False  False  False  False  False  False  False  False  False  False   \n",
       "2        False  False  False  False  False  False  False  False  False  False   \n",
       "3        False  False  False  False  False  False  False  False  False  False   \n",
       "4        False  False  False  False  False  False  False  False  False  False   \n",
       "...        ...    ...    ...    ...    ...    ...    ...    ...    ...    ...   \n",
       "1490390  False  False  False  False  False  False  False  False  False  False   \n",
       "1490391  False  False  False  False  False  False  False  False  False  False   \n",
       "1490392  False  False  False  False  False  False  False  False  False  False   \n",
       "1490393  False  False  False  False  False  False  False  False  False  False   \n",
       "1490394  False  False  False  False  False  False  False  False  False  False   \n",
       "\n",
       "         ...     l<     l>     lJ     lo      m      q     ri      u      w  \\\n",
       "0        ...  False  False  False  False  False  False  False  False  False   \n",
       "1        ...  False  False  False  False  False  False  False  False  False   \n",
       "2        ...  False  False  False  False  False  False  False  False  False   \n",
       "3        ...  False  False  False  False  False  False  False  False  False   \n",
       "4        ...  False  False  False  False   True  False  False  False  False   \n",
       "...      ...    ...    ...    ...    ...    ...    ...    ...    ...    ...   \n",
       "1490390  ...  False  False  False  False  False  False  False  False  False   \n",
       "1490391  ...  False  False  False  False  False  False  False  False  False   \n",
       "1490392  ...  False  False  False  False  False  False   True  False  False   \n",
       "1490393  ...  False  False  False  False  False  False  False  False  False   \n",
       "1490394  ...  False  False  False  False  False  False  False  False  False   \n",
       "\n",
       "             y  \n",
       "0        False  \n",
       "1         True  \n",
       "2        False  \n",
       "3         True  \n",
       "4        False  \n",
       "...        ...  \n",
       "1490390  False  \n",
       "1490391   True  \n",
       "1490392  False  \n",
       "1490393   True  \n",
       "1490394  False  \n",
       "\n",
       "[1490395 rows x 39 columns]"
      ]
     },
     "execution_count": 36,
     "metadata": {},
     "output_type": "execute_result"
    }
   ],
   "source": [
    "%%time\n",
    "counts = {}\n",
    "for token in corruption.ocr_error_dict.keys():\n",
    "    counts[token] = first_names.str.contains(token)\n",
    "counts_df = pd.concat(counts, axis=1)\n",
    "counts_df"
   ]
  },
  {
   "cell_type": "code",
   "execution_count": 38,
   "id": "282d4446",
   "metadata": {},
   "outputs": [
    {
     "data": {
      "text/plain": [
       "0          1\n",
       "1          3\n",
       "2          1\n",
       "3          3\n",
       "4          2\n",
       "          ..\n",
       "1490390    1\n",
       "1490391    3\n",
       "1490392    4\n",
       "1490393    3\n",
       "1490394    2\n",
       "Length: 1490395, dtype: int64"
      ]
     },
     "execution_count": 38,
     "metadata": {},
     "output_type": "execute_result"
    }
   ],
   "source": [
    "token_counts = counts_df.sum(axis=1)\n",
    "token_counts"
   ]
  },
  {
   "cell_type": "code",
   "execution_count": 39,
   "id": "bb26f3a7",
   "metadata": {},
   "outputs": [
    {
     "data": {
      "text/plain": [
       "count    1.490395e+06\n",
       "mean     1.905926e+00\n",
       "std      1.138006e+00\n",
       "min      0.000000e+00\n",
       "25%      1.000000e+00\n",
       "50%      2.000000e+00\n",
       "75%      3.000000e+00\n",
       "max      6.000000e+00\n",
       "dtype: float64"
      ]
     },
     "execution_count": 39,
     "metadata": {},
     "output_type": "execute_result"
    }
   ],
   "source": [
    "token_counts.describe()"
   ]
  },
  {
   "cell_type": "markdown",
   "id": "47d5beef",
   "metadata": {},
   "source": [
    "# Get better estimate of how many strings we expect to stay the same -- this should be a lower bound of the probability that each string remains unchanged"
   ]
  },
  {
   "cell_type": "code",
   "execution_count": 41,
   "id": "c31e90a5",
   "metadata": {},
   "outputs": [
    {
     "data": {
      "text/plain": [
       "0          0.7000\n",
       "1          0.3430\n",
       "2          0.7000\n",
       "3          0.3430\n",
       "4          0.4900\n",
       "            ...  \n",
       "1490390    0.7000\n",
       "1490391    0.3430\n",
       "1490392    0.2401\n",
       "1490393    0.3430\n",
       "1490394    0.4900\n",
       "Length: 1490395, dtype: float64"
      ]
     },
     "execution_count": 41,
     "metadata": {},
     "output_type": "execute_result"
    }
   ],
   "source": [
    "min_prob_unchanged = (1 - prob)**token_counts\n",
    "min_prob_unchanged"
   ]
  },
  {
   "cell_type": "code",
   "execution_count": 54,
   "id": "b3dc6952",
   "metadata": {},
   "outputs": [
    {
     "data": {
      "text/plain": [
       "0          0.3000\n",
       "1          0.6570\n",
       "2          0.3000\n",
       "3          0.6570\n",
       "4          0.5100\n",
       "            ...  \n",
       "1490390    0.3000\n",
       "1490391    0.6570\n",
       "1490392    0.7599\n",
       "1490393    0.6570\n",
       "1490394    0.5100\n",
       "Length: 1490395, dtype: float64"
      ]
     },
     "execution_count": 54,
     "metadata": {},
     "output_type": "execute_result"
    }
   ],
   "source": [
    "max_prob_changed = 1-min_prob_unchanged\n",
    "max_prob_changed"
   ]
  },
  {
   "cell_type": "code",
   "execution_count": 42,
   "id": "352158a7",
   "metadata": {},
   "outputs": [
    {
     "data": {
      "text/plain": [
       "0.5481159670691321"
      ]
     },
     "execution_count": 42,
     "metadata": {},
     "output_type": "execute_result"
    }
   ],
   "source": [
    "min_prob_unchanged.mean()"
   ]
  },
  {
   "cell_type": "code",
   "execution_count": 55,
   "id": "8eeabaaa",
   "metadata": {},
   "outputs": [
    {
     "data": {
      "text/plain": [
       "816909.2967399992"
      ]
     },
     "execution_count": 55,
     "metadata": {},
     "output_type": "execute_result"
    }
   ],
   "source": [
    "min_prob_unchanged.sum()"
   ]
  },
  {
   "cell_type": "code",
   "execution_count": 48,
   "id": "8c60f73c",
   "metadata": {},
   "outputs": [
    {
     "data": {
      "text/plain": [
       "816909.2967399992"
      ]
     },
     "execution_count": 48,
     "metadata": {},
     "output_type": "execute_result"
    }
   ],
   "source": [
    "min_prob_unchanged.mean() * len(first_names)"
   ]
  },
  {
   "cell_type": "code",
   "execution_count": 56,
   "id": "fb057fbf",
   "metadata": {},
   "outputs": [
    {
     "data": {
      "text/plain": [
       "673485.7032600007"
      ]
     },
     "execution_count": 56,
     "metadata": {},
     "output_type": "execute_result"
    }
   ],
   "source": [
    "max_prob_changed.sum()"
   ]
  },
  {
   "cell_type": "code",
   "execution_count": 46,
   "id": "75edaa16",
   "metadata": {},
   "outputs": [
    {
     "data": {
      "text/plain": [
       "<AxesSubplot: >"
      ]
     },
     "execution_count": 46,
     "metadata": {},
     "output_type": "execute_result"
    },
    {
     "data": {
      "image/png": "[encoded data removed]",
      "text/plain": [
       "<Figure size 640x480 with 1 Axes>"
      ]
     },
     "metadata": {},
     "output_type": "display_data"
    }
   ],
   "source": [
    "min_prob_unchanged.value_counts().sort_index().plot.bar()"
   ]
  },
  {
   "cell_type": "code",
   "execution_count": 47,
   "id": "5bca7138",
   "metadata": {},
   "outputs": [
    {
     "data": {
      "text/plain": [
       "count    1.490395e+06\n",
       "mean     5.481160e-01\n",
       "std      2.126908e-01\n",
       "min      1.176490e-01\n",
       "25%      3.430000e-01\n",
       "50%      4.900000e-01\n",
       "75%      7.000000e-01\n",
       "max      1.000000e+00\n",
       "dtype: float64"
      ]
     },
     "execution_count": 47,
     "metadata": {},
     "output_type": "execute_result"
    }
   ],
   "source": [
    "min_prob_unchanged.describe()"
   ]
  },
  {
   "cell_type": "code",
   "execution_count": 52,
   "id": "e900aab8",
   "metadata": {},
   "outputs": [
    {
     "data": {
      "text/plain": [
       "True"
      ]
     },
     "execution_count": 52,
     "metadata": {},
     "output_type": "execute_result"
    }
   ],
   "source": [
    "(first_names_ocr_map.str.strip() == first_names_ocr_map).all()"
   ]
  },
  {
   "cell_type": "markdown",
   "id": "dd260954",
   "metadata": {},
   "source": [
    "# Gaah! Same random seed in all rows!\n",
    "\n",
    "The number of strings with 0 tokens (prob unchanged = 1) is 145066, which is **exactly the same number of strings that were unchanged in the .map version!!** This must be because I passed a constant random seed of 12, which got used in *all rows*, so if this seed's first random number was < 0.3, then that guarantees that **every string with an OCR token will receive noise.**"
   ]
  },
  {
   "cell_type": "code",
   "execution_count": 60,
   "id": "327ac6ed",
   "metadata": {},
   "outputs": [
    {
     "data": {
      "text/plain": [
       "0.117649       520\n",
       "0.168070     22708\n",
       "0.240100     98987\n",
       "0.343000    318089\n",
       "0.490000    468682\n",
       "0.700000    436343\n",
       "1.000000    145066\n",
       "dtype: int64"
      ]
     },
     "execution_count": 60,
     "metadata": {},
     "output_type": "execute_result"
    }
   ],
   "source": [
    "min_prob_unchanged.value_counts().sort_index()"
   ]
  },
  {
   "cell_type": "code",
   "execution_count": 58,
   "id": "449f987e",
   "metadata": {},
   "outputs": [
    {
     "data": {
      "text/plain": [
       "246612.2"
      ]
     },
     "execution_count": 58,
     "metadata": {},
     "output_type": "execute_result"
    }
   ],
   "source": [
    "1*145066 + .7*145066"
   ]
  },
  {
   "cell_type": "markdown",
   "id": "e15822d1",
   "metadata": {},
   "source": [
    "# Try again, but see if using a Generator instead of a constant seed will actually make the rows independent"
   ]
  },
  {
   "cell_type": "code",
   "execution_count": 78,
   "id": "793fa910",
   "metadata": {},
   "outputs": [
    {
     "name": "stdout",
     "output_type": "stream",
     "text": [
      "17.2 µs ± 3.58 µs per loop (mean ± std. dev. of 7 runs, 10,000 loops each)\n"
     ]
    }
   ],
   "source": [
    "%timeit rng = np.random.default_rng(12)"
   ]
  },
  {
   "cell_type": "code",
   "execution_count": 62,
   "id": "d4a029bf",
   "metadata": {},
   "outputs": [
    {
     "name": "stdout",
     "output_type": "stream",
     "text": [
      "CPU times: user 23.2 s, sys: 29.5 ms, total: 23.2 s\n",
      "Wall time: 23.2 s\n"
     ]
    },
    {
     "data": {
      "text/plain": [
       "0            Meqan\n",
       "1             L:Iv\n",
       "2            Lex'l\n",
       "3          Chelsev\n",
       "4          Arnanda\n",
       "            ...   \n",
       "1490390       Joe1\n",
       "1490391    4dalynn\n",
       "1490392      Adnel\n",
       "1490393    Pa:slev\n",
       "1490394       Mila\n",
       "Name: first_name, Length: 1490395, dtype: object"
      ]
     },
     "execution_count": 62,
     "metadata": {},
     "output_type": "execute_result"
    }
   ],
   "source": [
    "rng = np.random.default_rng(12)\n",
    "%time first_names_ocr_map2 = first_names.map(lambda s: corruption.ocr_corrupt(s, prob, rng))\n",
    "first_names_ocr_map2"
   ]
  },
  {
   "cell_type": "code",
   "execution_count": 64,
   "id": "0017cebe",
   "metadata": {},
   "outputs": [
    {
     "data": {
      "text/plain": [
       "340802"
      ]
     },
     "execution_count": 64,
     "metadata": {},
     "output_type": "execute_result"
    }
   ],
   "source": [
    "(first_names_ocr_map2 == first_names_ocr_map).sum()"
   ]
  },
  {
   "cell_type": "code",
   "execution_count": 65,
   "id": "1b00f307",
   "metadata": {},
   "outputs": [
    {
     "data": {
      "text/plain": [
       "707679"
      ]
     },
     "execution_count": 65,
     "metadata": {},
     "output_type": "execute_result"
    }
   ],
   "source": [
    "(first_names_ocr_map2 == first_names).sum()"
   ]
  },
  {
   "cell_type": "markdown",
   "id": "17a0850e",
   "metadata": {},
   "source": [
    "# Copy the function here and remove the `isinstance` check to handle Series just to make sure that's not causing any funny business"
   ]
  },
  {
   "cell_type": "code",
   "execution_count": 76,
   "id": "72a1a851",
   "metadata": {},
   "outputs": [],
   "source": [
    "def ocr_corrupt(truth, corrupted_pr, random_state=None):\n",
    "    \"\"\"\n",
    "    # Algorithm sketch\n",
    "\n",
    "    For each token decide if it is OCRed correctly, and if it is not, decide how it goes wrong.\n",
    "\n",
    "    Since there are tokens of length 1, 2, and 3, how to handle?\n",
    "    I guess I can start with threes, then twos, then ones, for each location in a string.\n",
    "    \"\"\"\n",
    "    rng = np.random.default_rng(random_state)\n",
    "    err = ''\n",
    "    i = 0\n",
    "    while i < len(truth):\n",
    "        error_introduced = False\n",
    "        for token_length in [3,2,1]:\n",
    "            token = truth[i:(i+token_length)]\n",
    "            if token in corruption.ocr_error_dict and not error_introduced:\n",
    "                if rng.uniform() < corrupted_pr:\n",
    "                    err += rng.choice(corruption.ocr_error_dict[token])\n",
    "                    i += token_length\n",
    "                    error_introduced = True\n",
    "        if not error_introduced:\n",
    "            err += truth[i:(i+1)]\n",
    "            i += 1\n",
    "    return err"
   ]
  },
  {
   "cell_type": "code",
   "execution_count": 77,
   "id": "f5a53bfa",
   "metadata": {},
   "outputs": [
    {
     "name": "stdout",
     "output_type": "stream",
     "text": [
      "CPU times: user 23.7 s, sys: 61.6 ms, total: 23.8 s\n",
      "Wall time: 23.8 s\n"
     ]
    },
    {
     "data": {
      "text/plain": [
       "0            Meqan\n",
       "1             L:Iv\n",
       "2            Lex'l\n",
       "3          Chelsev\n",
       "4          Arnanda\n",
       "            ...   \n",
       "1490390       Joe1\n",
       "1490391    4dalynn\n",
       "1490392      Adnel\n",
       "1490393    Pa:slev\n",
       "1490394       Mila\n",
       "Name: first_name, Length: 1490395, dtype: object"
      ]
     },
     "execution_count": 77,
     "metadata": {},
     "output_type": "execute_result"
    }
   ],
   "source": [
    "rng = np.random.default_rng(12)\n",
    "%time first_names_ocr_map3 = first_names.map(lambda s: ocr_corrupt(s, prob, rng))\n",
    "first_names_ocr_map3"
   ]
  },
  {
   "cell_type": "code",
   "execution_count": 79,
   "id": "927b36d8",
   "metadata": {},
   "outputs": [
    {
     "data": {
      "text/plain": [
       "True"
      ]
     },
     "execution_count": 79,
     "metadata": {},
     "output_type": "execute_result"
    }
   ],
   "source": [
    "(first_names_ocr_map2 == first_names_ocr_map3).all()"
   ]
  },
  {
   "cell_type": "markdown",
   "id": "66c4b541",
   "metadata": {},
   "source": [
    "# Check the vectorized and np.vectorized versions again using a Generator instead of a constant seed\n",
    "\n",
    "Darn. My vectorized version is actually 2.6s *slower* than just using `.map`."
   ]
  },
  {
   "cell_type": "code",
   "execution_count": 70,
   "id": "1171acbe",
   "metadata": {},
   "outputs": [
    {
     "name": "stdout",
     "output_type": "stream",
     "text": [
      "CPU times: user 25.1 s, sys: 1.13 s, total: 26.2 s\n",
      "Wall time: 26.2 s\n"
     ]
    },
    {
     "data": {
      "text/plain": [
       "0            Megan\n",
       "1             L:ly\n",
       "2             Lex:\n",
       "3          Che1sey\n",
       "4           4manda\n",
       "            ...   \n",
       "1490390       Joel\n",
       "1490391    Adalynn\n",
       "1490392     Adniel\n",
       "1490393    PaisJev\n",
       "1490394       Mila\n",
       "Name: first_name, Length: 1490395, dtype: object"
      ]
     },
     "execution_count": 70,
     "metadata": {},
     "output_type": "execute_result"
    }
   ],
   "source": [
    "rng = np.random.default_rng(12)\n",
    "%time first_names_ocr2 = corruption.ocr_corrupt(first_names, prob, rng)\n",
    "first_names_ocr2"
   ]
  },
  {
   "cell_type": "code",
   "execution_count": 72,
   "id": "6863a548",
   "metadata": {},
   "outputs": [
    {
     "data": {
      "text/plain": [
       "True"
      ]
     },
     "execution_count": 72,
     "metadata": {},
     "output_type": "execute_result"
    }
   ],
   "source": [
    "(first_names_ocr2 == first_names_ocr).all()"
   ]
  },
  {
   "cell_type": "code",
   "execution_count": 80,
   "id": "222b591b",
   "metadata": {},
   "outputs": [
    {
     "name": "stdout",
     "output_type": "stream",
     "text": [
      "CPU times: user 23.6 s, sys: 101 ms, total: 23.7 s\n",
      "Wall time: 23.6 s\n"
     ]
    },
    {
     "data": {
      "text/plain": [
       "array(['Meqan', 'L:1v', \"Lex'l\", ..., 'Adnel', 'Pa:slev', 'Mila'],\n",
       "      dtype='<U15')"
      ]
     },
     "execution_count": 80,
     "metadata": {},
     "output_type": "execute_result"
    }
   ],
   "source": [
    "rng = np.random.default_rng(12)\n",
    "%time first_names_ocr_vec2 = np.vectorize(ocr_corrupt)(first_names, prob, rng)\n",
    "first_names_ocr_vec2"
   ]
  },
  {
   "cell_type": "code",
   "execution_count": 81,
   "id": "92fcc2fd",
   "metadata": {},
   "outputs": [
    {
     "data": {
      "text/plain": [
       "0            Meqan\n",
       "1             L:1v\n",
       "2            Lex'l\n",
       "3          CbeIsey\n",
       "4          Arnanda\n",
       "            ...   \n",
       "1490390       Joe1\n",
       "1490391    4dalynn\n",
       "1490392      Adnel\n",
       "1490393    Pa:slev\n",
       "1490394       Mila\n",
       "Length: 1490395, dtype: object"
      ]
     },
     "execution_count": 81,
     "metadata": {},
     "output_type": "execute_result"
    }
   ],
   "source": [
    "pd.Series(first_names_ocr_vec2)"
   ]
  },
  {
   "cell_type": "code",
   "execution_count": 83,
   "id": "a835376b",
   "metadata": {},
   "outputs": [
    {
     "data": {
      "text/plain": [
       "0           True\n",
       "1          False\n",
       "2           True\n",
       "3          False\n",
       "4           True\n",
       "           ...  \n",
       "1490390     True\n",
       "1490391     True\n",
       "1490392     True\n",
       "1490393     True\n",
       "1490394     True\n",
       "Name: first_name, Length: 1490395, dtype: bool"
      ]
     },
     "execution_count": 83,
     "metadata": {},
     "output_type": "execute_result"
    }
   ],
   "source": [
    "(first_names_ocr_map2 == first_names_ocr_vec2)"
   ]
  },
  {
   "cell_type": "code",
   "execution_count": 84,
   "id": "404fae7b",
   "metadata": {},
   "outputs": [
    {
     "data": {
      "text/plain": [
       "1490322"
      ]
     },
     "execution_count": 84,
     "metadata": {},
     "output_type": "execute_result"
    }
   ],
   "source": [
    "(first_names_ocr_map2 == first_names_ocr_vec2).sum()"
   ]
  },
  {
   "cell_type": "code",
   "execution_count": 85,
   "id": "94537cab",
   "metadata": {},
   "outputs": [
    {
     "data": {
      "text/plain": [
       "707676"
      ]
     },
     "execution_count": 85,
     "metadata": {},
     "output_type": "execute_result"
    }
   ],
   "source": [
    "(first_names == first_names_ocr_vec2).sum()"
   ]
  },
  {
   "cell_type": "markdown",
   "id": "9e7ffc40",
   "metadata": {},
   "source": [
    "# What happens if I just vectorize the function by calling itself recursively using .map?'\n",
    "\n",
    "Well, that works -- it just added 1 second to the runtime for some reason. Maybe it would be more efficient to implement this using an inner function to avoid making multiple calls to `isinstance` and `.default_rng`."
   ]
  },
  {
   "cell_type": "code",
   "execution_count": 86,
   "id": "71fced5a",
   "metadata": {},
   "outputs": [],
   "source": [
    "def ocr_corrupt_rec(truth, corrupted_pr, random_state=None):\n",
    "    \"\"\"\n",
    "    # Algorithm sketch\n",
    "\n",
    "    For each token decide if it is OCRed correctly, and if it is not, decide how it goes wrong.\n",
    "\n",
    "    Since there are tokens of length 1, 2, and 3, how to handle?\n",
    "    I guess I can start with threes, then twos, then ones, for each location in a string.\n",
    "    \"\"\"\n",
    "    if isinstance(truth, pd.Series):\n",
    "        rng = np.random.default_rng(random_state)\n",
    "        err = truth.map(lambda s: ocr_corrupt_rec(s, corrupted_pr, rng))\n",
    "    else:\n",
    "        rng = np.random.default_rng(random_state)\n",
    "        err = ''\n",
    "        i = 0\n",
    "        while i < len(truth):\n",
    "            error_introduced = False\n",
    "            for token_length in [3,2,1]:\n",
    "                token = truth[i:(i+token_length)]\n",
    "                if token in corruption.ocr_error_dict and not error_introduced:\n",
    "                    if rng.uniform() < corrupted_pr:\n",
    "                        err += rng.choice(corruption.ocr_error_dict[token])\n",
    "                        i += token_length\n",
    "                        error_introduced = True\n",
    "            if not error_introduced:\n",
    "                err += truth[i:(i+1)]\n",
    "                i += 1\n",
    "    return err"
   ]
  },
  {
   "cell_type": "code",
   "execution_count": 87,
   "id": "cdcb7a36",
   "metadata": {},
   "outputs": [
    {
     "name": "stdout",
     "output_type": "stream",
     "text": [
      "CPU times: user 24.6 s, sys: 98.3 ms, total: 24.7 s\n",
      "Wall time: 24.6 s\n"
     ]
    },
    {
     "data": {
      "text/plain": [
       "0            Meqan\n",
       "1             L:Iv\n",
       "2            Lex'l\n",
       "3          Chelsev\n",
       "4          Arnanda\n",
       "            ...   \n",
       "1490390       Joe1\n",
       "1490391    4dalynn\n",
       "1490392      Adnel\n",
       "1490393    Pa:slev\n",
       "1490394       Mila\n",
       "Name: first_name, Length: 1490395, dtype: object"
      ]
     },
     "execution_count": 87,
     "metadata": {},
     "output_type": "execute_result"
    }
   ],
   "source": [
    "rng = np.random.default_rng(12)\n",
    "%time first_names_ocr_rec = ocr_corrupt_rec(first_names, prob, rng)\n",
    "first_names_ocr_rec"
   ]
  },
  {
   "cell_type": "code",
   "execution_count": 92,
   "id": "956eef68",
   "metadata": {},
   "outputs": [
    {
     "data": {
      "text/plain": [
       "True"
      ]
     },
     "execution_count": 92,
     "metadata": {},
     "output_type": "execute_result"
    }
   ],
   "source": [
    "(first_names_ocr_rec == first_names_ocr_map2).all()"
   ]
  },
  {
   "cell_type": "markdown",
   "id": "f7f21cd2",
   "metadata": {},
   "source": [
    "# Ha! Using an inner function *shaved* 1 second off the runtime"
   ]
  },
  {
   "cell_type": "code",
   "execution_count": 99,
   "id": "0a4f0716",
   "metadata": {},
   "outputs": [],
   "source": [
    "def ocr_corrupt_rec2(truth, corrupted_pr, random_state=None):\n",
    "    \"\"\"\n",
    "    # Algorithm sketch\n",
    "\n",
    "    For each token decide if it is OCRed correctly, and if it is not, decide how it goes wrong.\n",
    "\n",
    "    Since there are tokens of length 1, 2, and 3, how to handle?\n",
    "    I guess I can start with threes, then twos, then ones, for each location in a string.\n",
    "    \"\"\"\n",
    "    def ocr_corrupt_str(truth, corrupted_pr, random_state):\n",
    "        err = ''\n",
    "        i = 0\n",
    "        while i < len(truth):\n",
    "            error_introduced = False\n",
    "            for token_length in [3,2,1]:\n",
    "                token = truth[i:(i+token_length)]\n",
    "                if token in corruption.ocr_error_dict and not error_introduced:\n",
    "                    if rng.uniform() < corrupted_pr:\n",
    "                        err += rng.choice(corruption.ocr_error_dict[token])\n",
    "                        i += token_length\n",
    "                        error_introduced = True\n",
    "            if not error_introduced:\n",
    "                err += truth[i:(i+1)]\n",
    "                i += 1\n",
    "        return err\n",
    "    \n",
    "    rng = np.random.default_rng(random_state)\n",
    "    if isinstance(truth, pd.Series):\n",
    "        err = truth.map(lambda s: ocr_corrupt_str(s, corrupted_pr, rng))\n",
    "    else:\n",
    "        err = ocr_corrupt_str(truth, corrupted_pr, rng)\n",
    "    return err\n"
   ]
  },
  {
   "cell_type": "code",
   "execution_count": 94,
   "id": "306f8c35",
   "metadata": {},
   "outputs": [
    {
     "name": "stdout",
     "output_type": "stream",
     "text": [
      "CPU times: user 22.7 s, sys: 61 ms, total: 22.8 s\n",
      "Wall time: 22.8 s\n"
     ]
    },
    {
     "data": {
      "text/plain": [
       "0            Meqan\n",
       "1             L:Iv\n",
       "2            Lex'l\n",
       "3          Chelsev\n",
       "4          Arnanda\n",
       "            ...   \n",
       "1490390       Joe1\n",
       "1490391    4dalynn\n",
       "1490392      Adnel\n",
       "1490393    Pa:slev\n",
       "1490394       Mila\n",
       "Name: first_name, Length: 1490395, dtype: object"
      ]
     },
     "execution_count": 94,
     "metadata": {},
     "output_type": "execute_result"
    }
   ],
   "source": [
    "rng = np.random.default_rng(12)\n",
    "%time first_names_ocr_rec2 = ocr_corrupt_rec2(first_names, prob, rng)\n",
    "first_names_ocr_rec2"
   ]
  },
  {
   "cell_type": "code",
   "execution_count": 95,
   "id": "7acadd31",
   "metadata": {},
   "outputs": [
    {
     "data": {
      "text/plain": [
       "True"
      ]
     },
     "execution_count": 95,
     "metadata": {},
     "output_type": "execute_result"
    }
   ],
   "source": [
    "(first_names_ocr_rec2 == first_names_ocr_map2).all()"
   ]
  },
  {
   "cell_type": "code",
   "execution_count": 96,
   "id": "d7433ea3",
   "metadata": {},
   "outputs": [
    {
     "data": {
      "text/plain": [
       "{'0': ['o', 'O'],\n",
       " '1': ['|'],\n",
       " '12': ['R'],\n",
       " '13': ['B'],\n",
       " '17': ['n'],\n",
       " '1<': ['k'],\n",
       " '1>': ['b'],\n",
       " '2': ['Z', 'z'],\n",
       " '5': ['S', 's'],\n",
       " '6': ['G'],\n",
       " 'A': ['4'],\n",
       " 'B': ['8'],\n",
       " 'D': ['O'],\n",
       " 'E': ['F'],\n",
       " 'F': ['P'],\n",
       " 'I-I': ['H'],\n",
       " 'IJ': ['U'],\n",
       " 'LI': ['U'],\n",
       " 'Q': ['O'],\n",
       " 'U': ['V'],\n",
       " 'Y': ['V'],\n",
       " 'cl': ['d'],\n",
       " 'g': ['9', 'q'],\n",
       " 'h': ['b'],\n",
       " 'i': [\"'l\", ':'],\n",
       " 'iii': ['m'],\n",
       " 'j': ['i'],\n",
       " 'k': ['lc'],\n",
       " 'l': ['J', '1', 'I', '|'],\n",
       " 'l<': ['k'],\n",
       " 'l>': ['b'],\n",
       " 'lJ': ['U'],\n",
       " 'lo': ['b'],\n",
       " 'm': ['n', 'rn'],\n",
       " 'q': ['9', '4'],\n",
       " 'ri': ['n'],\n",
       " 'u': ['v'],\n",
       " 'w': ['vv'],\n",
       " 'y': ['v']}"
      ]
     },
     "execution_count": 96,
     "metadata": {},
     "output_type": "execute_result"
    }
   ],
   "source": [
    "corruption.ocr_error_dict"
   ]
  },
  {
   "cell_type": "code",
   "execution_count": 100,
   "id": "807f0f81",
   "metadata": {},
   "outputs": [
    {
     "name": "stdout",
     "output_type": "stream",
     "text": [
      "CPU times: user 1.71 ms, sys: 78 µs, total: 1.78 ms\n",
      "Wall time: 1.41 ms\n"
     ]
    },
    {
     "data": {
      "text/plain": [
       "\"O||1|lR1lB1I171lk|l1>1121l5|l61|A|l81lD|lE1lF1lI-I|JIJ1lLI1lO1lU1lY|lc|1lg|lh|1'l1l'lii1lj|llc11l1ll<1lb|JU|lJo1lm1l411r'l|Iv1lw|ly\""
      ]
     },
     "execution_count": 100,
     "metadata": {},
     "output_type": "execute_result"
    }
   ],
   "source": [
    "rng = np.random.default_rng(12)\n",
    "%time ocr_corrupt_rec2('1l'.join(corruption.ocr_error_dict.keys()), prob, rng)"
   ]
  },
  {
   "cell_type": "code",
   "execution_count": null,
   "id": "3f756aca",
   "metadata": {},
   "outputs": [],
   "source": []
  }
 ],
 "metadata": {
  "kernelspec": {
   "display_name": "Python 3 (ipykernel)",
   "language": "python",
   "name": "python3"
  },
  "language_info": {
   "codemirror_mode": {
    "name": "ipython",
    "version": 3
   },
   "file_extension": ".py",
   "mimetype": "text/x-python",
   "name": "python",
   "nbconvert_exporter": "python",
   "pygments_lexer": "ipython3",
   "version": "3.10.12"
  }
 },
 "nbformat": 4,
 "nbformat_minor": 5
}
