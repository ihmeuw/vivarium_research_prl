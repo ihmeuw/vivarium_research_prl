{
 "cells": [
  {
   "cell_type": "code",
   "execution_count": 1,
   "id": "adfb255c",
   "metadata": {},
   "outputs": [
    {
     "name": "stdout",
     "output_type": "stream",
     "text": [
      "Tue 10 Jan 2023 04:01:25 PM PST\n",
      "ndbs\n",
      "Linux int-slurm-sarchive-p0001 5.4.0-88-generic #99-Ubuntu SMP Thu Sep 23 17:29:00 UTC 2021 x86_64 x86_64 x86_64 GNU/Linux\n",
      "/mnt/share/code/ndbs/vivarium_research_prl/noise\n"
     ]
    }
   ],
   "source": [
    "import numpy as np, matplotlib.pyplot as plt, pandas as pd\n",
    "pd.set_option('display.max_rows', 40)\n",
    "\n",
    "from vivarium_research_prl.noise import corruption, fake_names, noisify\n",
    "\n",
    "!date\n",
    "!whoami\n",
    "!uname -a\n",
    "!pwd"
   ]
  },
  {
   "cell_type": "code",
   "execution_count": 2,
   "id": "ffe0b7a4",
   "metadata": {},
   "outputs": [],
   "source": [
    "%load_ext autoreload\n",
    "%autoreload 2"
   ]
  },
  {
   "cell_type": "markdown",
   "id": "91d88a78",
   "metadata": {},
   "source": [
    "# Test some NumPy functionality"
   ]
  },
  {
   "cell_type": "code",
   "execution_count": 10,
   "id": "83c231ea",
   "metadata": {},
   "outputs": [
    {
     "data": {
      "text/plain": [
       "array(['9', '8', '3', '0', '5', '7', '3', '6', '6', '7', '8', '9'],\n",
       "      dtype='<U1')"
      ]
     },
     "execution_count": 10,
     "metadata": {},
     "output_type": "execute_result"
    }
   ],
   "source": [
    "a = np.array('9 8 3 0 5 7 3 6 6 7 8 9'.split())\n",
    "a"
   ]
  },
  {
   "cell_type": "code",
   "execution_count": 11,
   "id": "170346a1",
   "metadata": {},
   "outputs": [
    {
     "data": {
      "text/plain": [
       "0     9\n",
       "1     8\n",
       "2     3\n",
       "3     0\n",
       "4     5\n",
       "5     7\n",
       "6     3\n",
       "7     6\n",
       "8     6\n",
       "9     7\n",
       "10    8\n",
       "11    9\n",
       "dtype: object"
      ]
     },
     "execution_count": 11,
     "metadata": {},
     "output_type": "execute_result"
    }
   ],
   "source": [
    "s = pd.Series(a)\n",
    "s"
   ]
  },
  {
   "cell_type": "code",
   "execution_count": 12,
   "id": "98008614",
   "metadata": {},
   "outputs": [
    {
     "data": {
      "text/plain": [
       "array(['0', '3', '3', '5', '6', '6', '7', '7', '8', '8', '9', '9'],\n",
       "      dtype='<U1')"
      ]
     },
     "execution_count": 12,
     "metadata": {},
     "output_type": "execute_result"
    }
   ],
   "source": [
    "ac = a.copy()\n",
    "ac.sort()\n",
    "ac"
   ]
  },
  {
   "cell_type": "code",
   "execution_count": 13,
   "id": "4d80f93c",
   "metadata": {},
   "outputs": [
    {
     "data": {
      "text/plain": [
       "array(['9', '8', '3', '0', '5', '7', '6'], dtype=object)"
      ]
     },
     "execution_count": 13,
     "metadata": {},
     "output_type": "execute_result"
    }
   ],
   "source": [
    "u = s.unique()\n",
    "u"
   ]
  },
  {
   "cell_type": "code",
   "execution_count": 14,
   "id": "9ccda519",
   "metadata": {},
   "outputs": [
    {
     "data": {
      "text/plain": [
       "array(['0', '3', '5', '6', '7', '8', '9'], dtype=object)"
      ]
     },
     "execution_count": 14,
     "metadata": {},
     "output_type": "execute_result"
    }
   ],
   "source": [
    "u.sort()\n",
    "u"
   ]
  },
  {
   "cell_type": "markdown",
   "id": "eccd032b",
   "metadata": {},
   "source": [
    "# Test random increment function"
   ]
  },
  {
   "cell_type": "code",
   "execution_count": 28,
   "id": "3d5e032e",
   "metadata": {},
   "outputs": [],
   "source": [
    "rng=np.random.default_rng(2928485757454)"
   ]
  },
  {
   "cell_type": "code",
   "execution_count": 29,
   "id": "ff81bc83",
   "metadata": {},
   "outputs": [
    {
     "data": {
      "text/plain": [
       "0      9\n",
       "1      8\n",
       "2      2\n",
       "3     -1\n",
       "4      6\n",
       "5      8\n",
       "6      4\n",
       "7      6\n",
       "8      6\n",
       "9      8\n",
       "10     9\n",
       "11    10\n",
       "dtype: int64"
      ]
     },
     "execution_count": 29,
     "metadata": {},
     "output_type": "execute_result"
    }
   ],
   "source": [
    "sint = s.astype(int)\n",
    "sn = corruption.add_random_increment(sint, [-1,0,1], random_state=rng)\n",
    "sn"
   ]
  },
  {
   "cell_type": "code",
   "execution_count": 32,
   "id": "cfb915f8",
   "metadata": {},
   "outputs": [
    {
     "data": {
      "text/plain": [
       "0     9\n",
       "1     8\n",
       "2     3\n",
       "3     0\n",
       "4     5\n",
       "5     7\n",
       "6     3\n",
       "7     6\n",
       "8     6\n",
       "9     7\n",
       "10    8\n",
       "11    9\n",
       "dtype: int64"
      ]
     },
     "execution_count": 32,
     "metadata": {},
     "output_type": "execute_result"
    }
   ],
   "source": [
    "sint"
   ]
  },
  {
   "cell_type": "code",
   "execution_count": 30,
   "id": "8df3f2f7",
   "metadata": {},
   "outputs": [
    {
     "data": {
      "text/html": [
       "<div>\n",
       "<style scoped>\n",
       "    .dataframe tbody tr th:only-of-type {\n",
       "        vertical-align: middle;\n",
       "    }\n",
       "\n",
       "    .dataframe tbody tr th {\n",
       "        vertical-align: top;\n",
       "    }\n",
       "\n",
       "    .dataframe thead th {\n",
       "        text-align: right;\n",
       "    }\n",
       "</style>\n",
       "<table border=\"1\" class=\"dataframe\">\n",
       "  <thead>\n",
       "    <tr style=\"text-align: right;\">\n",
       "      <th></th>\n",
       "      <th>self</th>\n",
       "      <th>other</th>\n",
       "    </tr>\n",
       "  </thead>\n",
       "  <tbody>\n",
       "    <tr>\n",
       "      <th>2</th>\n",
       "      <td>3.0</td>\n",
       "      <td>2.0</td>\n",
       "    </tr>\n",
       "    <tr>\n",
       "      <th>3</th>\n",
       "      <td>0.0</td>\n",
       "      <td>-1.0</td>\n",
       "    </tr>\n",
       "    <tr>\n",
       "      <th>4</th>\n",
       "      <td>5.0</td>\n",
       "      <td>6.0</td>\n",
       "    </tr>\n",
       "    <tr>\n",
       "      <th>5</th>\n",
       "      <td>7.0</td>\n",
       "      <td>8.0</td>\n",
       "    </tr>\n",
       "    <tr>\n",
       "      <th>6</th>\n",
       "      <td>3.0</td>\n",
       "      <td>4.0</td>\n",
       "    </tr>\n",
       "    <tr>\n",
       "      <th>9</th>\n",
       "      <td>7.0</td>\n",
       "      <td>8.0</td>\n",
       "    </tr>\n",
       "    <tr>\n",
       "      <th>10</th>\n",
       "      <td>8.0</td>\n",
       "      <td>9.0</td>\n",
       "    </tr>\n",
       "    <tr>\n",
       "      <th>11</th>\n",
       "      <td>9.0</td>\n",
       "      <td>10.0</td>\n",
       "    </tr>\n",
       "  </tbody>\n",
       "</table>\n",
       "</div>"
      ],
      "text/plain": [
       "    self  other\n",
       "2    3.0    2.0\n",
       "3    0.0   -1.0\n",
       "4    5.0    6.0\n",
       "5    7.0    8.0\n",
       "6    3.0    4.0\n",
       "9    7.0    8.0\n",
       "10   8.0    9.0\n",
       "11   9.0   10.0"
      ]
     },
     "execution_count": 30,
     "metadata": {},
     "output_type": "execute_result"
    }
   ],
   "source": [
    "sint.compare(sn)"
   ]
  },
  {
   "cell_type": "markdown",
   "id": "4ceede4e",
   "metadata": {},
   "source": [
    "# Test more NumPy stuff"
   ]
  },
  {
   "cell_type": "code",
   "execution_count": 34,
   "id": "8509d5d8",
   "metadata": {},
   "outputs": [
    {
     "data": {
      "text/plain": [
       "6"
      ]
     },
     "execution_count": 34,
     "metadata": {},
     "output_type": "execute_result"
    }
   ],
   "source": [
    "np.maximum(3,6)"
   ]
  },
  {
   "cell_type": "code",
   "execution_count": 35,
   "id": "4afd4c0f",
   "metadata": {},
   "outputs": [
    {
     "data": {
      "text/plain": [
       "0      9\n",
       "1      8\n",
       "2      2\n",
       "3      0\n",
       "4      6\n",
       "5      8\n",
       "6      4\n",
       "7      6\n",
       "8      6\n",
       "9      8\n",
       "10     9\n",
       "11    10\n",
       "dtype: int64"
      ]
     },
     "execution_count": 35,
     "metadata": {},
     "output_type": "execute_result"
    }
   ],
   "source": [
    "np.maximum(sn, 0)"
   ]
  },
  {
   "cell_type": "code",
   "execution_count": 36,
   "id": "eee8554d",
   "metadata": {},
   "outputs": [
    {
     "data": {
      "text/plain": [
       "pandas.core.series.Series"
      ]
     },
     "execution_count": 36,
     "metadata": {},
     "output_type": "execute_result"
    }
   ],
   "source": [
    "type(np.maximum(sn, 0))"
   ]
  },
  {
   "cell_type": "code",
   "execution_count": 41,
   "id": "7055c01f",
   "metadata": {},
   "outputs": [
    {
     "data": {
      "text/plain": [
       "array([ 9,  8,  2,  1,  6,  8,  4,  6,  6,  8,  9, 10])"
      ]
     },
     "execution_count": 41,
     "metadata": {},
     "output_type": "execute_result"
    }
   ],
   "source": [
    "np.where(sn<0, 1, sn)"
   ]
  },
  {
   "cell_type": "code",
   "execution_count": 47,
   "id": "05539af2",
   "metadata": {},
   "outputs": [
    {
     "data": {
      "text/plain": [
       "0      9\n",
       "1      8\n",
       "2      2\n",
       "3      1\n",
       "4      6\n",
       "5      8\n",
       "6      4\n",
       "7      6\n",
       "8      6\n",
       "9      8\n",
       "10     9\n",
       "11    10\n",
       "dtype: int64"
      ]
     },
     "execution_count": 47,
     "metadata": {},
     "output_type": "execute_result"
    }
   ],
   "source": [
    "snc=sn.copy()\n",
    "np.maximum(snc, 1, where=(sn<0), out=snc.to_numpy())"
   ]
  },
  {
   "cell_type": "code",
   "execution_count": 48,
   "id": "381edfcd",
   "metadata": {},
   "outputs": [
    {
     "data": {
      "text/plain": [
       "0      9\n",
       "1      8\n",
       "2      2\n",
       "3      1\n",
       "4      6\n",
       "5      8\n",
       "6      4\n",
       "7      6\n",
       "8      6\n",
       "9      8\n",
       "10     9\n",
       "11    10\n",
       "dtype: int64"
      ]
     },
     "execution_count": 48,
     "metadata": {},
     "output_type": "execute_result"
    }
   ],
   "source": [
    "snc"
   ]
  },
  {
   "cell_type": "code",
   "execution_count": 49,
   "id": "376c41ea",
   "metadata": {},
   "outputs": [
    {
     "data": {
      "text/plain": [
       "0      9\n",
       "1      8\n",
       "2      2\n",
       "3     -1\n",
       "4      6\n",
       "5      8\n",
       "6      4\n",
       "7      6\n",
       "8      6\n",
       "9      8\n",
       "10     9\n",
       "11    10\n",
       "dtype: int64"
      ]
     },
     "execution_count": 49,
     "metadata": {},
     "output_type": "execute_result"
    }
   ],
   "source": [
    "sn"
   ]
  },
  {
   "cell_type": "code",
   "execution_count": 51,
   "id": "dfdb36a2",
   "metadata": {},
   "outputs": [
    {
     "data": {
      "text/plain": [
       "0      9\n",
       "1      8\n",
       "2      2\n",
       "3      1\n",
       "4      6\n",
       "5      8\n",
       "6      4\n",
       "7      6\n",
       "8      6\n",
       "9      8\n",
       "10     9\n",
       "11    10\n",
       "dtype: int64"
      ]
     },
     "execution_count": 51,
     "metadata": {},
     "output_type": "execute_result"
    }
   ],
   "source": [
    "sn.mask(sn<0,1)"
   ]
  },
  {
   "cell_type": "code",
   "execution_count": 52,
   "id": "37ec9154",
   "metadata": {},
   "outputs": [
    {
     "data": {
      "text/plain": [
       "0      9\n",
       "1      8\n",
       "2      2\n",
       "3     -1\n",
       "4      6\n",
       "5      8\n",
       "6      4\n",
       "7      6\n",
       "8      6\n",
       "9      8\n",
       "10     9\n",
       "11    10\n",
       "dtype: int64"
      ]
     },
     "execution_count": 52,
     "metadata": {},
     "output_type": "execute_result"
    }
   ],
   "source": [
    "sn"
   ]
  },
  {
   "cell_type": "code",
   "execution_count": 55,
   "id": "6bd33b42",
   "metadata": {},
   "outputs": [
    {
     "data": {
      "text/plain": [
       "0      9\n",
       "1      8\n",
       "2      2\n",
       "3      1\n",
       "4      6\n",
       "5      8\n",
       "6      4\n",
       "7      6\n",
       "8      6\n",
       "9      8\n",
       "10     9\n",
       "11    10\n",
       "dtype: int64"
      ]
     },
     "execution_count": 55,
     "metadata": {},
     "output_type": "execute_result"
    }
   ],
   "source": [
    "snc2 = sn.copy()\n",
    "snc2.mask(snc2<0, 1, inplace=True)\n",
    "snc2"
   ]
  },
  {
   "cell_type": "code",
   "execution_count": 56,
   "id": "7cc39dac",
   "metadata": {},
   "outputs": [
    {
     "data": {
      "text/plain": [
       "0      9\n",
       "1      8\n",
       "2      2\n",
       "3     -1\n",
       "4      6\n",
       "5      8\n",
       "6      4\n",
       "7      6\n",
       "8      6\n",
       "9      8\n",
       "10     9\n",
       "11    10\n",
       "dtype: int64"
      ]
     },
     "execution_count": 56,
     "metadata": {},
     "output_type": "execute_result"
    }
   ],
   "source": [
    "sn"
   ]
  },
  {
   "cell_type": "code",
   "execution_count": null,
   "id": "1f6b926b",
   "metadata": {},
   "outputs": [],
   "source": []
  }
 ],
 "metadata": {
  "kernelspec": {
   "display_name": "Python 3 (ipykernel)",
   "language": "python",
   "name": "python3"
  },
  "language_info": {
   "codemirror_mode": {
    "name": "ipython",
    "version": 3
   },
   "file_extension": ".py",
   "mimetype": "text/x-python",
   "name": "python",
   "nbconvert_exporter": "python",
   "pygments_lexer": "ipython3",
   "version": "3.8.13"
  }
 },
 "nbformat": 4,
 "nbformat_minor": 5
}
