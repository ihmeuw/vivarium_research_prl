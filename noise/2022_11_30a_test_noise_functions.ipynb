{
 "cells": [
  {
   "cell_type": "code",
   "execution_count": 1,
   "id": "a28caed5",
   "metadata": {},
   "outputs": [
    {
     "name": "stdout",
     "output_type": "stream",
     "text": [
      "Fri 02 Dec 2022 03:25:47 PM PST\n",
      "ndbs\n",
      "Linux int-slurm-sarchive-p0012 5.4.0-88-generic #99-Ubuntu SMP Thu Sep 23 17:29:00 UTC 2021 x86_64 x86_64 x86_64 GNU/Linux\n",
      "/mnt/share/code/ndbs/vivarium_research_prl/noise\n"
     ]
    }
   ],
   "source": [
    "import numpy as np, matplotlib.pyplot as plt, pandas as pd\n",
    "pd.set_option('display.max_rows', 40)\n",
    "\n",
    "from vivarium_research_prl.noise import corruption, fake_names\n",
    "\n",
    "!date\n",
    "!whoami\n",
    "!uname -a\n",
    "!pwd"
   ]
  },
  {
   "cell_type": "code",
   "execution_count": 2,
   "id": "dbacc4a8",
   "metadata": {},
   "outputs": [],
   "source": [
    "%load_ext autoreload\n",
    "%autoreload 2"
   ]
  },
  {
   "cell_type": "markdown",
   "id": "953df0d8",
   "metadata": {},
   "source": [
    "# Descriptions from Abie's original notebooks:\n",
    "\n",
    "## Reproduce data corruption like GeCO\n",
    "\n",
    "Informed by reading https://dmm.anu.edu.au/geco/flex-data-gen-manual.pdf but not looking at the sourcecode, since it might be in conflict with the license we end up using for this sim.\n",
    "\n",
    "## NORC report on PVS includes lists of fake names\n",
    "\n",
    "It is a pdf, though, so I'm going to copy them into this notebook and make something machine readable out of them.\n",
    "\n",
    "**Question:** Can we find a link to the NORC report Abie used???\n"
   ]
  },
  {
   "cell_type": "markdown",
   "id": "2b711a31",
   "metadata": {},
   "source": [
    "# Check module imports"
   ]
  },
  {
   "cell_type": "code",
   "execution_count": 3,
   "id": "915e2140",
   "metadata": {},
   "outputs": [
    {
     "data": {
      "text/plain": [
       "['__builtins__',\n",
       " '__cached__',\n",
       " '__doc__',\n",
       " '__file__',\n",
       " '__loader__',\n",
       " '__name__',\n",
       " '__package__',\n",
       " '__spec__',\n",
       " 'df_k',\n",
       " 'df_ocr',\n",
       " 'df_phonetic',\n",
       " 'df_qwerty',\n",
       " 'di',\n",
       " 'dj',\n",
       " 'i',\n",
       " 'j',\n",
       " 'k',\n",
       " 'keyboard_corrupt',\n",
       " 'nbr_val',\n",
       " 'nbrs',\n",
       " 'np',\n",
       " 'ocr_corrupt',\n",
       " 'ocr_error_dict',\n",
       " 'pd',\n",
       " 'phonetic_corrupt',\n",
       " 'phonetic_error_dict',\n",
       " 'qwerty_error_dict',\n",
       " 'val']"
      ]
     },
     "execution_count": 3,
     "metadata": {},
     "output_type": "execute_result"
    }
   ],
   "source": [
    "dir(corruption)"
   ]
  },
  {
   "cell_type": "code",
   "execution_count": 4,
   "id": "574d4fa2",
   "metadata": {},
   "outputs": [
    {
     "data": {
      "text/plain": [
       "['__builtins__',\n",
       " '__cached__',\n",
       " '__doc__',\n",
       " '__file__',\n",
       " '__loader__',\n",
       " '__name__',\n",
       " '__package__',\n",
       " '__spec__',\n",
       " '_fake_first_name_string',\n",
       " '_fake_last_name_string',\n",
       " 'fake_first_names',\n",
       " 'fake_last_names']"
      ]
     },
     "execution_count": 4,
     "metadata": {},
     "output_type": "execute_result"
    }
   ],
   "source": [
    "dir(fake_names)"
   ]
  },
  {
   "cell_type": "markdown",
   "id": "45e25852",
   "metadata": {},
   "source": [
    "# Test OCR noise"
   ]
  },
  {
   "cell_type": "code",
   "execution_count": 5,
   "id": "1165f749",
   "metadata": {},
   "outputs": [
    {
     "data": {
      "text/html": [
       "<div>\n",
       "<style scoped>\n",
       "    .dataframe tbody tr th:only-of-type {\n",
       "        vertical-align: middle;\n",
       "    }\n",
       "\n",
       "    .dataframe tbody tr th {\n",
       "        vertical-align: top;\n",
       "    }\n",
       "\n",
       "    .dataframe thead th {\n",
       "        text-align: right;\n",
       "    }\n",
       "</style>\n",
       "<table border=\"1\" class=\"dataframe\">\n",
       "  <thead>\n",
       "    <tr style=\"text-align: right;\">\n",
       "      <th></th>\n",
       "      <th>ocr_true</th>\n",
       "      <th>ocr_err</th>\n",
       "    </tr>\n",
       "  </thead>\n",
       "  <tbody>\n",
       "    <tr>\n",
       "      <th>0</th>\n",
       "      <td>5</td>\n",
       "      <td>S</td>\n",
       "    </tr>\n",
       "    <tr>\n",
       "      <th>1</th>\n",
       "      <td>5</td>\n",
       "      <td>s</td>\n",
       "    </tr>\n",
       "    <tr>\n",
       "      <th>2</th>\n",
       "      <td>2</td>\n",
       "      <td>Z</td>\n",
       "    </tr>\n",
       "    <tr>\n",
       "      <th>3</th>\n",
       "      <td>2</td>\n",
       "      <td>z</td>\n",
       "    </tr>\n",
       "    <tr>\n",
       "      <th>4</th>\n",
       "      <td>1</td>\n",
       "      <td>|</td>\n",
       "    </tr>\n",
       "    <tr>\n",
       "      <th>...</th>\n",
       "      <td>...</td>\n",
       "      <td>...</td>\n",
       "    </tr>\n",
       "    <tr>\n",
       "      <th>44</th>\n",
       "      <td>l&lt;</td>\n",
       "      <td>k</td>\n",
       "    </tr>\n",
       "    <tr>\n",
       "      <th>45</th>\n",
       "      <td>1&lt;</td>\n",
       "      <td>k</td>\n",
       "    </tr>\n",
       "    <tr>\n",
       "      <th>46</th>\n",
       "      <td>m</td>\n",
       "      <td>rn</td>\n",
       "    </tr>\n",
       "    <tr>\n",
       "      <th>47</th>\n",
       "      <td>l</td>\n",
       "      <td>|</td>\n",
       "    </tr>\n",
       "    <tr>\n",
       "      <th>48</th>\n",
       "      <td>i</td>\n",
       "      <td>:</td>\n",
       "    </tr>\n",
       "  </tbody>\n",
       "</table>\n",
       "<p>49 rows × 2 columns</p>\n",
       "</div>"
      ],
      "text/plain": [
       "   ocr_true ocr_err\n",
       "0         5       S\n",
       "1         5       s\n",
       "2         2       Z\n",
       "3         2       z\n",
       "4         1       |\n",
       "..      ...     ...\n",
       "44       l<       k\n",
       "45       1<       k\n",
       "46        m      rn\n",
       "47        l       |\n",
       "48        i       :\n",
       "\n",
       "[49 rows x 2 columns]"
      ]
     },
     "execution_count": 5,
     "metadata": {},
     "output_type": "execute_result"
    }
   ],
   "source": [
    "corruption.df_ocr"
   ]
  },
  {
   "cell_type": "code",
   "execution_count": 6,
   "id": "f5bc5fca",
   "metadata": {},
   "outputs": [
    {
     "data": {
      "text/plain": [
       "1    34\n",
       "2    13\n",
       "3     2\n",
       "Name: ocr_true, dtype: int64"
      ]
     },
     "execution_count": 6,
     "metadata": {},
     "output_type": "execute_result"
    }
   ],
   "source": [
    "# how many characters in the true string?\n",
    "corruption.df_ocr.ocr_true.map(len).value_counts()"
   ]
  },
  {
   "cell_type": "code",
   "execution_count": 7,
   "id": "539ca6ef",
   "metadata": {},
   "outputs": [
    {
     "data": {
      "text/plain": [
       "{'0': ['o', 'O'],\n",
       " '1': ['|'],\n",
       " '12': ['R'],\n",
       " '13': ['B'],\n",
       " '17': ['n'],\n",
       " '1<': ['k'],\n",
       " '1>': ['b'],\n",
       " '2': ['Z', 'z'],\n",
       " '5': ['S', 's'],\n",
       " '6': ['G'],\n",
       " 'A': ['4'],\n",
       " 'B': ['8'],\n",
       " 'D': ['O'],\n",
       " 'E': ['F'],\n",
       " 'F': ['P'],\n",
       " 'I-I': ['H'],\n",
       " 'IJ': ['U'],\n",
       " 'LI': ['U'],\n",
       " 'Q': ['O'],\n",
       " 'U': ['V'],\n",
       " 'Y': ['V'],\n",
       " 'cl': ['d'],\n",
       " 'g': ['9', 'q'],\n",
       " 'h': ['b'],\n",
       " 'i': [\"'l\", ':'],\n",
       " 'iii': ['m'],\n",
       " 'j': ['i'],\n",
       " 'k': ['lc'],\n",
       " 'l': ['J', '1', 'I', '|'],\n",
       " 'l<': ['k'],\n",
       " 'l>': ['b'],\n",
       " 'lJ': ['U'],\n",
       " 'lo': ['b'],\n",
       " 'm': ['n', 'rn'],\n",
       " 'q': ['9', '4'],\n",
       " 'ri': ['n'],\n",
       " 'u': ['v'],\n",
       " 'w': ['vv'],\n",
       " 'y': ['v']}"
      ]
     },
     "execution_count": 7,
     "metadata": {},
     "output_type": "execute_result"
    }
   ],
   "source": [
    "corruption.ocr_error_dict"
   ]
  },
  {
   "cell_type": "code",
   "execution_count": 8,
   "id": "5e46d35f",
   "metadata": {},
   "outputs": [
    {
     "data": {
      "text/plain": [
       "'tbe 9u:ck brovvn fox iumps over tbe Jazy do9'"
      ]
     },
     "execution_count": 8,
     "metadata": {},
     "output_type": "execute_result"
    }
   ],
   "source": [
    "corruption.ocr_corrupt(\"the quick brown fox jumps over the lazy dog\", corrupted_pr=.5)"
   ]
  },
  {
   "cell_type": "markdown",
   "id": "27079593",
   "metadata": {},
   "source": [
    "# Test phonetic corruption"
   ]
  },
  {
   "cell_type": "code",
   "execution_count": 9,
   "id": "2813b09e",
   "metadata": {},
   "outputs": [
    {
     "data": {
      "text/html": [
       "<div>\n",
       "<style scoped>\n",
       "    .dataframe tbody tr th:only-of-type {\n",
       "        vertical-align: middle;\n",
       "    }\n",
       "\n",
       "    .dataframe tbody tr th {\n",
       "        vertical-align: top;\n",
       "    }\n",
       "\n",
       "    .dataframe thead th {\n",
       "        text-align: right;\n",
       "    }\n",
       "</style>\n",
       "<table border=\"1\" class=\"dataframe\">\n",
       "  <thead>\n",
       "    <tr style=\"text-align: right;\">\n",
       "      <th></th>\n",
       "      <th>where</th>\n",
       "      <th>orig</th>\n",
       "      <th>new</th>\n",
       "      <th>pre</th>\n",
       "      <th>post</th>\n",
       "      <th>pattern</th>\n",
       "      <th>start</th>\n",
       "    </tr>\n",
       "  </thead>\n",
       "  <tbody>\n",
       "    <tr>\n",
       "      <th>0</th>\n",
       "      <td>ALL</td>\n",
       "      <td>h</td>\n",
       "      <td>@</td>\n",
       "      <td>None</td>\n",
       "      <td>None</td>\n",
       "      <td>None</td>\n",
       "      <td>None</td>\n",
       "    </tr>\n",
       "    <tr>\n",
       "      <th>1</th>\n",
       "      <td>END</td>\n",
       "      <td>e</td>\n",
       "      <td>@</td>\n",
       "      <td>None</td>\n",
       "      <td>None</td>\n",
       "      <td>None</td>\n",
       "      <td>None</td>\n",
       "    </tr>\n",
       "    <tr>\n",
       "      <th>2</th>\n",
       "      <td>ALL</td>\n",
       "      <td>t</td>\n",
       "      <td>d</td>\n",
       "      <td>None</td>\n",
       "      <td>None</td>\n",
       "      <td>None</td>\n",
       "      <td>None</td>\n",
       "    </tr>\n",
       "    <tr>\n",
       "      <th>3</th>\n",
       "      <td>ALL</td>\n",
       "      <td>d</td>\n",
       "      <td>t</td>\n",
       "      <td>None</td>\n",
       "      <td>None</td>\n",
       "      <td>None</td>\n",
       "      <td>None</td>\n",
       "    </tr>\n",
       "    <tr>\n",
       "      <th>4</th>\n",
       "      <td>ALL</td>\n",
       "      <td>c</td>\n",
       "      <td>k</td>\n",
       "      <td>None</td>\n",
       "      <td>None</td>\n",
       "      <td>None</td>\n",
       "      <td>None</td>\n",
       "    </tr>\n",
       "    <tr>\n",
       "      <th>...</th>\n",
       "      <td>...</td>\n",
       "      <td>...</td>\n",
       "      <td>...</td>\n",
       "      <td>...</td>\n",
       "      <td>...</td>\n",
       "      <td>...</td>\n",
       "      <td>...</td>\n",
       "    </tr>\n",
       "    <tr>\n",
       "      <th>351</th>\n",
       "      <td>ALL</td>\n",
       "      <td>zza</td>\n",
       "      <td>sa</td>\n",
       "      <td>None</td>\n",
       "      <td>None</td>\n",
       "      <td>None</td>\n",
       "      <td>None</td>\n",
       "    </tr>\n",
       "    <tr>\n",
       "      <th>352</th>\n",
       "      <td>MIDDLE</td>\n",
       "      <td>z</td>\n",
       "      <td>s</td>\n",
       "      <td>n;-1;t</td>\n",
       "      <td>None</td>\n",
       "      <td>y;slavo</td>\n",
       "      <td>None</td>\n",
       "    </tr>\n",
       "    <tr>\n",
       "      <th>353</th>\n",
       "      <td>MIDDLE</td>\n",
       "      <td>ks</td>\n",
       "      <td>x</td>\n",
       "      <td>None</td>\n",
       "      <td>None</td>\n",
       "      <td>None</td>\n",
       "      <td>None</td>\n",
       "    </tr>\n",
       "    <tr>\n",
       "      <th>354</th>\n",
       "      <td>MIDDLE</td>\n",
       "      <td>cks</td>\n",
       "      <td>x</td>\n",
       "      <td>y;-1;a;i;u;e;o</td>\n",
       "      <td>None</td>\n",
       "      <td>None</td>\n",
       "      <td>None</td>\n",
       "    </tr>\n",
       "    <tr>\n",
       "      <th>355</th>\n",
       "      <td>END</td>\n",
       "      <td>l</td>\n",
       "      <td>le</td>\n",
       "      <td>y;-1;ai</td>\n",
       "      <td>None</td>\n",
       "      <td>None</td>\n",
       "      <td>None</td>\n",
       "    </tr>\n",
       "  </tbody>\n",
       "</table>\n",
       "<p>356 rows × 7 columns</p>\n",
       "</div>"
      ],
      "text/plain": [
       "      where orig new             pre  post  pattern start\n",
       "0       ALL    h   @            None  None     None  None\n",
       "1       END    e   @            None  None     None  None\n",
       "2       ALL    t   d            None  None     None  None\n",
       "3       ALL    d   t            None  None     None  None\n",
       "4       ALL    c   k            None  None     None  None\n",
       "..      ...  ...  ..             ...   ...      ...   ...\n",
       "351     ALL  zza  sa            None  None     None  None\n",
       "352  MIDDLE    z   s          n;-1;t  None  y;slavo  None\n",
       "353  MIDDLE   ks   x            None  None     None  None\n",
       "354  MIDDLE  cks   x  y;-1;a;i;u;e;o  None     None  None\n",
       "355     END    l  le         y;-1;ai  None     None  None\n",
       "\n",
       "[356 rows x 7 columns]"
      ]
     },
     "execution_count": 9,
     "metadata": {},
     "output_type": "execute_result"
    }
   ],
   "source": [
    "corruption.df_phonetic"
   ]
  },
  {
   "cell_type": "code",
   "execution_count": 10,
   "id": "85f60215",
   "metadata": {},
   "outputs": [
    {
     "data": {
      "text/plain": [
       "2    144\n",
       "3     82\n",
       "4     71\n",
       "1     33\n",
       "5     17\n",
       "6      8\n",
       "7      1\n",
       "Name: orig, dtype: int64"
      ]
     },
     "execution_count": 10,
     "metadata": {},
     "output_type": "execute_result"
    }
   ],
   "source": [
    "corruption.df_phonetic.orig.map(len).value_counts()"
   ]
  },
  {
   "cell_type": "code",
   "execution_count": 11,
   "id": "a2819235",
   "metadata": {},
   "outputs": [
    {
     "data": {
      "text/plain": [
       "{'aa': ['ar'],\n",
       " 'acce': ['akse'],\n",
       " 'acch': ['aksh'],\n",
       " 'acci': ['aksi'],\n",
       " 'ach': ['k'],\n",
       " 'achb': ['akb'],\n",
       " 'achf': ['akf'],\n",
       " 'achh': ['akh'],\n",
       " 'achl': ['akl'],\n",
       " 'achm': ['akm'],\n",
       " 'achn': ['akn'],\n",
       " 'achr': ['akr'],\n",
       " 'achv': ['akv'],\n",
       " 'achw': ['akw'],\n",
       " 'aggi': ['aji', 'aki'],\n",
       " 'ah': ['h'],\n",
       " 'aiss': ['ai'],\n",
       " 'aisz': ['ai'],\n",
       " 'alle': ['ale'],\n",
       " 'archit': ['arkit'],\n",
       " 'au': ['o'],\n",
       " 'augh': ['arf'],\n",
       " 'aux': ['auks'],\n",
       " 'aw': ['a'],\n",
       " 'b': ['p'],\n",
       " 'bacher': ['baker'],\n",
       " 'bb': ['p'],\n",
       " 'btl': ['tl'],\n",
       " 'c': ['k'],\n",
       " 'ca': ['ka'],\n",
       " 'caesar': ['sesar'],\n",
       " 'cc': ['k', 'k'],\n",
       " 'cce': ['xi'],\n",
       " 'cch': ['xh'],\n",
       " 'cci': ['xi'],\n",
       " 'ce': ['se'],\n",
       " 'cg': ['k', 'k'],\n",
       " 'ch': ['x', 'x'],\n",
       " 'chae': ['kae'],\n",
       " 'charac': ['karak'],\n",
       " 'charis': ['karis'],\n",
       " 'chb': ['kb'],\n",
       " 'chem': ['kem'],\n",
       " 'chf': ['kf'],\n",
       " 'chh': ['kh'],\n",
       " 'chia': ['kia', 'kia'],\n",
       " 'chl': ['kl'],\n",
       " 'chm': ['km'],\n",
       " 'chn': ['kn'],\n",
       " 'chor': ['kor'],\n",
       " 'chr': ['kr'],\n",
       " 'chs': ['ks'],\n",
       " 'cht': ['kt'],\n",
       " 'chv': ['kv'],\n",
       " 'chw': ['kw'],\n",
       " 'chym': ['kym'],\n",
       " 'ci': ['si'],\n",
       " 'cia': ['sia', 'xia'],\n",
       " 'cie': ['sie'],\n",
       " 'cio': ['sio'],\n",
       " 'ck': ['k'],\n",
       " 'cks': ['x'],\n",
       " 'cl': ['kl'],\n",
       " 'co': ['ko'],\n",
       " 'cq': ['k', 'k'],\n",
       " 'cr': ['kr'],\n",
       " 'ct': ['kt'],\n",
       " 'cu': ['ku'],\n",
       " 'cy': ['si', 'sy', 's'],\n",
       " 'cz': ['c', 'ch'],\n",
       " 'd': ['t'],\n",
       " 'dd': ['t'],\n",
       " 'dg': ['g', 'tk'],\n",
       " 'dge': ['je'],\n",
       " 'dgi': ['ji'],\n",
       " 'dgy': ['jy'],\n",
       " 'dl': ['dil'],\n",
       " 'dt': ['t', 't'],\n",
       " 'e': [''],\n",
       " 'eaux': ['oh', 'eauks'],\n",
       " 'echb': ['ekb'],\n",
       " 'echf': ['ekf'],\n",
       " 'echh': ['ekh'],\n",
       " 'echl': ['ekl'],\n",
       " 'echm': ['ekm'],\n",
       " 'echn': ['ekn'],\n",
       " 'echr': ['ekr'],\n",
       " 'echv': ['ekv'],\n",
       " 'echw': ['ekw'],\n",
       " 'ee': ['i', 'ea'],\n",
       " 'eh': ['h'],\n",
       " 'ei': ['i'],\n",
       " 'es': ['s'],\n",
       " 'ew': ['e'],\n",
       " 'exci': ['ecs'],\n",
       " 'ey': ['y'],\n",
       " 'f': ['v'],\n",
       " 'ff': ['f', 'v', 'vv'],\n",
       " 'g': ['k'],\n",
       " 'gc': ['k'],\n",
       " 'ge': ['ke', 'jy'],\n",
       " 'geb': ['keb'],\n",
       " 'gei': ['kei'],\n",
       " 'gel': ['kel'],\n",
       " 'gep': ['kep'],\n",
       " 'ger': ['ker', 'ker'],\n",
       " 'ges': ['kes'],\n",
       " 'get': ['ket'],\n",
       " 'gey': ['key'],\n",
       " 'gg': ['k'],\n",
       " 'gh': ['', 'e', 'k', 'g', '', 'f', 'k', 'k'],\n",
       " 'ghi': ['j'],\n",
       " 'ghn': ['n'],\n",
       " 'ghne': ['ne'],\n",
       " 'ght': ['t'],\n",
       " 'gi': ['ji', 'ki'],\n",
       " 'gib': ['kib'],\n",
       " 'gie': ['kie'],\n",
       " 'gier': ['jier'],\n",
       " 'gil': ['kil'],\n",
       " 'gin': ['kin'],\n",
       " 'gli': ['kli'],\n",
       " 'gn': ['n', 'n', 'n', 'kn'],\n",
       " 'gne': ['n'],\n",
       " 'gnes': ['ns'],\n",
       " 'gney': ['ney'],\n",
       " 'gy': ['ky', 'ky', 'jy'],\n",
       " 'h': [''],\n",
       " 'ha': ['h'],\n",
       " 'he': ['h'],\n",
       " 'hi': ['h'],\n",
       " 'ho': ['h'],\n",
       " 'hr': ['ah', 'ah'],\n",
       " 'hroug': ['rew'],\n",
       " 'hu': ['h'],\n",
       " 'hy': ['h'],\n",
       " 'i': ['y'],\n",
       " 'ia': ['ya'],\n",
       " 'iaux': ['iauks'],\n",
       " 'ie': ['i'],\n",
       " 'ih': ['h'],\n",
       " 'illa': ['ila'],\n",
       " 'illo': ['ilo'],\n",
       " 'isl': ['il'],\n",
       " 'iw': ['i'],\n",
       " 'j': ['s', 'z', 'y'],\n",
       " 'jc': ['k'],\n",
       " 'jj': ['j'],\n",
       " 'jr': ['dr'],\n",
       " 'k': ['ck'],\n",
       " 'kk': ['k'],\n",
       " 'kn': ['n'],\n",
       " 'ks': ['x'],\n",
       " 'l': ['le'],\n",
       " 'le': ['ile'],\n",
       " 'les': ['iles'],\n",
       " 'lj': ['ld'],\n",
       " 'll': ['l'],\n",
       " 'lle': ['le'],\n",
       " 'lough': ['low'],\n",
       " 'lz': ['lsh'],\n",
       " 'macher': ['maker'],\n",
       " 'mb': ['m'],\n",
       " 'mch': ['mk'],\n",
       " 'mm': ['m'],\n",
       " 'mn': ['n'],\n",
       " 'mps': ['ms'],\n",
       " 'mpt': ['mt'],\n",
       " 'mpts': ['mps'],\n",
       " 'nc': ['nk'],\n",
       " 'ned': ['nd'],\n",
       " 'ng': ['nk'],\n",
       " 'nk': ['ng'],\n",
       " 'nn': ['n'],\n",
       " 'nx': ['nks'],\n",
       " 'ochb': ['okb'],\n",
       " 'ochf': ['okf'],\n",
       " 'ochh': ['okh'],\n",
       " 'ochl': ['okl'],\n",
       " 'ochm': ['okm'],\n",
       " 'ochn': ['okn'],\n",
       " 'ochr': ['okr'],\n",
       " 'ochv': ['okv'],\n",
       " 'ochw': ['okw'],\n",
       " 'oggi': ['oki', 'oji'],\n",
       " 'oh': ['h'],\n",
       " 'oiss': ['oi'],\n",
       " 'oisz': ['oi'],\n",
       " 'oo': ['u'],\n",
       " 'orches': ['orkes'],\n",
       " 'orchid': ['orkid'],\n",
       " 'ou': ['o'],\n",
       " 'ough': ['of'],\n",
       " 'oux': ['ouks'],\n",
       " 'ow': ['o'],\n",
       " 'pb': ['p'],\n",
       " 'pf': ['f'],\n",
       " 'ph': ['f'],\n",
       " 'pn': ['n'],\n",
       " 'pp': ['p'],\n",
       " 'ps': ['s'],\n",
       " 'pt': ['t'],\n",
       " 'q': ['k', 'kw', 'kw'],\n",
       " 'qq': ['k'],\n",
       " 'r': ['ah', 'ah'],\n",
       " 're': ['ar'],\n",
       " 'rie': ['ry'],\n",
       " 'rr': ['r'],\n",
       " 'ry': ['rie'],\n",
       " 'rz': ['rsh'],\n",
       " 's': ['z', 'j', 'st'],\n",
       " 'sanjose': ['sanhose'],\n",
       " 'sc': ['sk'],\n",
       " 'sce': ['se'],\n",
       " 'sch': ['sh', 'x', 'x', 'sk', 'x'],\n",
       " 'sched': ['sked'],\n",
       " 'schem': ['skem'],\n",
       " 'schen': ['xen'],\n",
       " 'scher': ['xer'],\n",
       " 'schoo': ['skoo'],\n",
       " 'schuy': ['skuy'],\n",
       " 'sci': ['si'],\n",
       " 'scy': ['sy'],\n",
       " 'sh': ['x'],\n",
       " 'sheim': ['seim'],\n",
       " 'shoek': ['soek'],\n",
       " 'sholm': ['solm'],\n",
       " 'sholz': ['solz'],\n",
       " 'sl': ['s'],\n",
       " 'sm': ['s'],\n",
       " 'sn': ['s'],\n",
       " 'ss': ['s', 'as'],\n",
       " 'stl': ['sl', 'sl'],\n",
       " 'sugar': ['xugar'],\n",
       " 'sw': ['s'],\n",
       " 'sz': ['s', 's'],\n",
       " 't': ['d'],\n",
       " 'tch': ['ch', 'x'],\n",
       " 'td': ['t'],\n",
       " 'th': ['t'],\n",
       " 'tia': ['xia'],\n",
       " 'tion': ['xion'],\n",
       " 'tj': ['ch'],\n",
       " 'tl': ['til'],\n",
       " 'tnt': ['ent'],\n",
       " 'ts': ['t'],\n",
       " 'tsj': ['ch'],\n",
       " 'tt': ['t'],\n",
       " 'tth': ['t'],\n",
       " 'uccee': ['uksee'],\n",
       " 'ucces': ['ukses'],\n",
       " 'uchb': ['ukb'],\n",
       " 'uchf': ['ukf'],\n",
       " 'uchh': ['ukh'],\n",
       " 'uchl': ['ukl'],\n",
       " 'uchm': ['ukm'],\n",
       " 'uchn': ['ukn'],\n",
       " 'uchr': ['ukr'],\n",
       " 'uchv': ['ukv'],\n",
       " 'uchw': ['ukw'],\n",
       " 'uh': ['h'],\n",
       " 'umb': ['um'],\n",
       " 'uw': ['u'],\n",
       " 'v': ['f'],\n",
       " 'vanch': ['vank'],\n",
       " 'vonch': ['vonk'],\n",
       " 'vv': ['f', 'ff'],\n",
       " 'w': [''],\n",
       " 'wh': ['h'],\n",
       " 'wha': ['wa'],\n",
       " 'whe': ['we'],\n",
       " 'whi': ['wi'],\n",
       " 'who': ['wo'],\n",
       " 'whu': ['wu'],\n",
       " 'why': ['wy'],\n",
       " 'wicz': ['wis', 'ts'],\n",
       " 'witz': ['ts'],\n",
       " 'wr': ['r', 'r'],\n",
       " 'wsk': ['vskie', 'vskie'],\n",
       " 'wz': ['z'],\n",
       " 'x': ['', 's', 'ecs'],\n",
       " 'xc': [''],\n",
       " 'xx': [''],\n",
       " 'y': ['i'],\n",
       " 'ya': ['ia'],\n",
       " 'yh': ['h'],\n",
       " 'yj': ['y'],\n",
       " 'ysl': ['yl'],\n",
       " 'yth': ['ith'],\n",
       " 'yw': ['y'],\n",
       " 'z': ['s', 'j', 's', 'ts', 's'],\n",
       " 'zh': ['jh'],\n",
       " 'zs': ['s'],\n",
       " 'zz': ['s', 'ts'],\n",
       " 'zza': ['sa'],\n",
       " 'zzi': ['si'],\n",
       " 'zzo': ['so']}"
      ]
     },
     "execution_count": 11,
     "metadata": {},
     "output_type": "execute_result"
    }
   ],
   "source": [
    "corruption.phonetic_error_dict"
   ]
  },
  {
   "cell_type": "code",
   "execution_count": 12,
   "id": "02d244ac",
   "metadata": {},
   "outputs": [
    {
     "data": {
      "text/plain": [
       "'te kwuik bahon voecs jums ofr t lasy tok'"
      ]
     },
     "execution_count": 12,
     "metadata": {},
     "output_type": "execute_result"
    }
   ],
   "source": [
    "corruption.phonetic_corrupt(\"the quick brown fox jumps over the lazy dog\", corrupted_pr=.5)"
   ]
  },
  {
   "cell_type": "markdown",
   "id": "ba755bd3",
   "metadata": {},
   "source": [
    "# Keyboard corruption"
   ]
  },
  {
   "cell_type": "code",
   "execution_count": 13,
   "id": "d70c1f1f",
   "metadata": {},
   "outputs": [
    {
     "data": {
      "text/html": [
       "<div>\n",
       "<style scoped>\n",
       "    .dataframe tbody tr th:only-of-type {\n",
       "        vertical-align: middle;\n",
       "    }\n",
       "\n",
       "    .dataframe tbody tr th {\n",
       "        vertical-align: top;\n",
       "    }\n",
       "\n",
       "    .dataframe thead th {\n",
       "        text-align: right;\n",
       "    }\n",
       "</style>\n",
       "<table border=\"1\" class=\"dataframe\">\n",
       "  <thead>\n",
       "    <tr style=\"text-align: right;\">\n",
       "      <th></th>\n",
       "      <th>0</th>\n",
       "      <th>1</th>\n",
       "      <th>2</th>\n",
       "      <th>3</th>\n",
       "      <th>4</th>\n",
       "      <th>5</th>\n",
       "      <th>6</th>\n",
       "      <th>7</th>\n",
       "      <th>8</th>\n",
       "      <th>9</th>\n",
       "    </tr>\n",
       "  </thead>\n",
       "  <tbody>\n",
       "    <tr>\n",
       "      <th>0</th>\n",
       "      <td>q</td>\n",
       "      <td>w</td>\n",
       "      <td>e</td>\n",
       "      <td>r</td>\n",
       "      <td>t</td>\n",
       "      <td>y</td>\n",
       "      <td>u</td>\n",
       "      <td>i</td>\n",
       "      <td>o</td>\n",
       "      <td>p</td>\n",
       "    </tr>\n",
       "    <tr>\n",
       "      <th>1</th>\n",
       "      <td>a</td>\n",
       "      <td>s</td>\n",
       "      <td>d</td>\n",
       "      <td>f</td>\n",
       "      <td>g</td>\n",
       "      <td>h</td>\n",
       "      <td>j</td>\n",
       "      <td>k</td>\n",
       "      <td>l</td>\n",
       "      <td>NaN</td>\n",
       "    </tr>\n",
       "    <tr>\n",
       "      <th>2</th>\n",
       "      <td>z</td>\n",
       "      <td>x</td>\n",
       "      <td>c</td>\n",
       "      <td>v</td>\n",
       "      <td>b</td>\n",
       "      <td>n</td>\n",
       "      <td>m</td>\n",
       "      <td>NaN</td>\n",
       "      <td>NaN</td>\n",
       "      <td>NaN</td>\n",
       "    </tr>\n",
       "    <tr>\n",
       "      <th>3</th>\n",
       "      <td>#</td>\n",
       "      <td>NaN</td>\n",
       "      <td>NaN</td>\n",
       "      <td>NaN</td>\n",
       "      <td>NaN</td>\n",
       "      <td>NaN</td>\n",
       "      <td>NaN</td>\n",
       "      <td>NaN</td>\n",
       "      <td>NaN</td>\n",
       "      <td>NaN</td>\n",
       "    </tr>\n",
       "    <tr>\n",
       "      <th>4</th>\n",
       "      <td>7</td>\n",
       "      <td>8</td>\n",
       "      <td>9</td>\n",
       "      <td>NaN</td>\n",
       "      <td>NaN</td>\n",
       "      <td>NaN</td>\n",
       "      <td>NaN</td>\n",
       "      <td>NaN</td>\n",
       "      <td>NaN</td>\n",
       "      <td>NaN</td>\n",
       "    </tr>\n",
       "    <tr>\n",
       "      <th>5</th>\n",
       "      <td>4</td>\n",
       "      <td>5</td>\n",
       "      <td>6</td>\n",
       "      <td>NaN</td>\n",
       "      <td>NaN</td>\n",
       "      <td>NaN</td>\n",
       "      <td>NaN</td>\n",
       "      <td>NaN</td>\n",
       "      <td>NaN</td>\n",
       "      <td>NaN</td>\n",
       "    </tr>\n",
       "    <tr>\n",
       "      <th>6</th>\n",
       "      <td>1</td>\n",
       "      <td>2</td>\n",
       "      <td>3</td>\n",
       "      <td>NaN</td>\n",
       "      <td>NaN</td>\n",
       "      <td>NaN</td>\n",
       "      <td>NaN</td>\n",
       "      <td>NaN</td>\n",
       "      <td>NaN</td>\n",
       "      <td>NaN</td>\n",
       "    </tr>\n",
       "  </tbody>\n",
       "</table>\n",
       "</div>"
      ],
      "text/plain": [
       "   0    1    2    3    4    5    6    7    8    9\n",
       "0  q    w    e    r    t    y    u    i    o    p\n",
       "1  a    s    d    f    g    h    j    k    l  NaN\n",
       "2  z    x    c    v    b    n    m  NaN  NaN  NaN\n",
       "3  #  NaN  NaN  NaN  NaN  NaN  NaN  NaN  NaN  NaN\n",
       "4  7    8    9  NaN  NaN  NaN  NaN  NaN  NaN  NaN\n",
       "5  4    5    6  NaN  NaN  NaN  NaN  NaN  NaN  NaN\n",
       "6  1    2    3  NaN  NaN  NaN  NaN  NaN  NaN  NaN"
      ]
     },
     "execution_count": 13,
     "metadata": {},
     "output_type": "execute_result"
    }
   ],
   "source": [
    "corruption.df_qwerty"
   ]
  },
  {
   "cell_type": "code",
   "execution_count": 14,
   "id": "40729aac",
   "metadata": {},
   "outputs": [
    {
     "data": {
      "text/plain": [
       "'nan'"
      ]
     },
     "execution_count": 14,
     "metadata": {},
     "output_type": "execute_result"
    }
   ],
   "source": [
    "str(corruption.df_qwerty.loc[3,3])"
   ]
  },
  {
   "cell_type": "code",
   "execution_count": 15,
   "id": "ea7a41f4",
   "metadata": {},
   "outputs": [
    {
     "data": {
      "text/plain": [
       "{'q': ['w', 'a', 's'],\n",
       " 'w': ['q', 'e', 'a', 's', 'd'],\n",
       " 'e': ['w', 'r', 's', 'd', 'f'],\n",
       " 'r': ['e', 't', 'd', 'f', 'g'],\n",
       " 't': ['r', 'y', 'f', 'g', 'h'],\n",
       " 'y': ['t', 'u', 'g', 'h', 'j'],\n",
       " 'u': ['y', 'i', 'h', 'j', 'k'],\n",
       " 'i': ['u', 'o', 'j', 'k', 'l'],\n",
       " 'o': ['i', 'p', 'k', 'l'],\n",
       " 'p': ['o', 'l'],\n",
       " 'a': ['q', 'w', 's', 'z', 'x'],\n",
       " 's': ['q', 'w', 'e', 'a', 'd', 'z', 'x', 'c'],\n",
       " 'd': ['w', 'e', 'r', 's', 'f', 'x', 'c', 'v'],\n",
       " 'f': ['e', 'r', 't', 'd', 'g', 'c', 'v', 'b'],\n",
       " 'g': ['r', 't', 'y', 'f', 'h', 'v', 'b', 'n'],\n",
       " 'h': ['t', 'y', 'u', 'g', 'j', 'b', 'n', 'm'],\n",
       " 'j': ['y', 'u', 'i', 'h', 'k', 'n', 'm'],\n",
       " 'k': ['u', 'i', 'o', 'j', 'l', 'm'],\n",
       " 'l': ['i', 'o', 'p', 'k'],\n",
       " 'z': ['a', 's', 'x'],\n",
       " 'x': ['a', 's', 'd', 'z', 'c'],\n",
       " 'c': ['s', 'd', 'f', 'x', 'v'],\n",
       " 'v': ['d', 'f', 'g', 'c', 'b'],\n",
       " 'b': ['f', 'g', 'h', 'v', 'n'],\n",
       " 'n': ['g', 'h', 'j', 'b', 'm'],\n",
       " 'm': ['h', 'j', 'k', 'n'],\n",
       " '7': ['8', '4', '5'],\n",
       " '8': ['7', '9', '4', '5', '6'],\n",
       " '9': ['8', '5', '6'],\n",
       " '4': ['7', '8', '5', '1', '2'],\n",
       " '5': ['7', '8', '9', '4', '6', '1', '2', '3'],\n",
       " '6': ['8', '9', '5', '2', '3'],\n",
       " '1': ['4', '5', '2'],\n",
       " '2': ['4', '5', '6', '1', '3'],\n",
       " '3': ['5', '6', '2']}"
      ]
     },
     "execution_count": 15,
     "metadata": {},
     "output_type": "execute_result"
    }
   ],
   "source": [
    "# The original version included NaN's as neighbors, but I removed those\n",
    "corruption.qwerty_error_dict"
   ]
  },
  {
   "cell_type": "code",
   "execution_count": 16,
   "id": "57b66bb8",
   "metadata": {},
   "outputs": [
    {
     "data": {
      "text/plain": [
       "[str, str, str, str, str]"
      ]
     },
     "execution_count": 16,
     "metadata": {},
     "output_type": "execute_result"
    }
   ],
   "source": [
    "# Originally, nan's were included in the dictionary as floats,\n",
    "# but now there should be only strings and no NaN's\n",
    "list(map(type, corruption.qwerty_error_dict['x']))"
   ]
  },
  {
   "cell_type": "code",
   "execution_count": 17,
   "id": "a045ee94",
   "metadata": {},
   "outputs": [
    {
     "data": {
      "text/plain": [
       "'rthe quick brown fox jumps over the plazy dog'"
      ]
     },
     "execution_count": 17,
     "metadata": {},
     "output_type": "execute_result"
    }
   ],
   "source": [
    "corruption.keyboard_corrupt(\n",
    "    \"the quick brown fox jumps over the lazy dog\", corrupted_pr=.1, addl_pr=.9)"
   ]
  },
  {
   "cell_type": "code",
   "execution_count": 18,
   "id": "085e4d2a",
   "metadata": {},
   "outputs": [
    {
     "data": {
      "text/plain": [
       "'tts wuisk frown fox jumps over the lazy dog'"
      ]
     },
     "execution_count": 18,
     "metadata": {},
     "output_type": "execute_result"
    }
   ],
   "source": [
    "corruption.keyboard_corrupt(\n",
    "    \"the quick brown fox jumps over the lazy dog\", corrupted_pr=.2, addl_pr=.1)"
   ]
  },
  {
   "cell_type": "code",
   "execution_count": 19,
   "id": "e0af13bf",
   "metadata": {},
   "outputs": [
    {
     "data": {
      "text/plain": [
       "'tmwe aquuscok nbroewn bfoc uumpxs obvreer ythwe plaxzty fdofg'"
      ]
     },
     "execution_count": 19,
     "metadata": {},
     "output_type": "execute_result"
    }
   ],
   "source": [
    "# Originally, letters sometimes got replaced with the string'nan' because of\n",
    "# the NaNs in the dict, but that should not happen anymore\n",
    "corruption.keyboard_corrupt(\n",
    "    \"the quick brown fox jumps over the lazy dog\", corrupted_pr=.9, addl_pr=.9)"
   ]
  },
  {
   "cell_type": "markdown",
   "id": "748307dc",
   "metadata": {},
   "source": [
    "# Get some simulated data to test with"
   ]
  },
  {
   "cell_type": "code",
   "execution_count": 20,
   "id": "b4c19040",
   "metadata": {},
   "outputs": [
    {
     "name": "stdout",
     "output_type": "stream",
     "text": [
      "total 32224\r\n",
      "-rw-rw-r-- 1 albrja   IHME-Simulationscience 12622072 Oct 20 23:08 decennial_census.hdf\r\n",
      "-rwxrwxrwx 1 beatrixh IHME-Simulationscience 20364830 Nov 14 16:42 state_table.hdf\r\n"
     ]
    }
   ],
   "source": [
    "project_output_dir = '/mnt/team/simulation_science/priv/engineering/vivarium_census_prl_synth_pop'\n",
    "output_subdir = 'results/special_last_names/florida/2022_10_14_10_49_32/population_table/'\n",
    "output_dir = f'{project_output_dir}/{output_subdir}'\n",
    "\n",
    "!ls -l $output_dir"
   ]
  },
  {
   "cell_type": "code",
   "execution_count": 21,
   "id": "aa5eb587",
   "metadata": {},
   "outputs": [
    {
     "name": "stdout",
     "output_type": "stream",
     "text": [
      "<class 'pandas.io.pytables.HDFStore'>\n",
      "File path: /mnt/team/simulation_science/priv/engineering/vivarium_census_prl_synth_pop/results/special_last_names/florida/2022_10_14_10_49_32/population_table//decennial_census.hdf\n",
      "/year_2020            frame        (shape->[47444,10])\n",
      "/year_2030            frame        (shape->[46440,10])\n",
      "/year_2040            frame        (shape->[44626,10])\n"
     ]
    }
   ],
   "source": [
    "decennial_census_path = f'{output_dir}/decennial_census.hdf'\n",
    "with pd.HDFStore(decennial_census_path, 'r') as census_hdf:\n",
    "    print(census_hdf.info())\n",
    "    census_keys = census_hdf.keys()"
   ]
  },
  {
   "cell_type": "code",
   "execution_count": 22,
   "id": "1e1f17bd",
   "metadata": {},
   "outputs": [
    {
     "name": "stdout",
     "output_type": "stream",
     "text": [
      "2020 (47444, 10)\n"
     ]
    }
   ],
   "source": [
    "# Keys exist for years 2020, 2030, 2040\n",
    "years = [2020]\n",
    "census = {year: pd.read_hdf(decennial_census_path, f'year_{year}') for year in years}\n",
    "\n",
    "for year in years:\n",
    "    print(year, census[year].shape)"
   ]
  },
  {
   "cell_type": "code",
   "execution_count": 23,
   "id": "d6678bb6",
   "metadata": {},
   "outputs": [
    {
     "data": {
      "text/html": [
       "<div>\n",
       "<style scoped>\n",
       "    .dataframe tbody tr th:only-of-type {\n",
       "        vertical-align: middle;\n",
       "    }\n",
       "\n",
       "    .dataframe tbody tr th {\n",
       "        vertical-align: top;\n",
       "    }\n",
       "\n",
       "    .dataframe thead th {\n",
       "        text-align: right;\n",
       "    }\n",
       "</style>\n",
       "<table border=\"1\" class=\"dataframe\">\n",
       "  <thead>\n",
       "    <tr style=\"text-align: right;\">\n",
       "      <th></th>\n",
       "      <th>first_name</th>\n",
       "      <th>last_name</th>\n",
       "      <th>age</th>\n",
       "      <th>date_of_birth</th>\n",
       "      <th>address</th>\n",
       "      <th>zipcode</th>\n",
       "      <th>relation_to_household_head</th>\n",
       "      <th>sex</th>\n",
       "      <th>race_ethnicity</th>\n",
       "      <th>middle_initial</th>\n",
       "    </tr>\n",
       "  </thead>\n",
       "  <tbody>\n",
       "    <tr>\n",
       "      <th>0</th>\n",
       "      <td>Margaret</td>\n",
       "      <td>Clark</td>\n",
       "      <td>68.681336</td>\n",
       "      <td>1951-07-27</td>\n",
       "      <td>1344 winoka rd  brooksville, fl</td>\n",
       "      <td>34601</td>\n",
       "      <td>Reference person</td>\n",
       "      <td>Female</td>\n",
       "      <td>Black</td>\n",
       "      <td>J</td>\n",
       "    </tr>\n",
       "    <tr>\n",
       "      <th>1</th>\n",
       "      <td>Jeffrey</td>\n",
       "      <td>Littlejohn</td>\n",
       "      <td>52.913882</td>\n",
       "      <td>1967-05-03</td>\n",
       "      <td>927 23rd st  clearwater, fl</td>\n",
       "      <td>34698</td>\n",
       "      <td>Reference person</td>\n",
       "      <td>Male</td>\n",
       "      <td>Black</td>\n",
       "      <td>V</td>\n",
       "    </tr>\n",
       "    <tr>\n",
       "      <th>2</th>\n",
       "      <td>Briana</td>\n",
       "      <td>Jackson</td>\n",
       "      <td>13.566889</td>\n",
       "      <td>2006-09-07</td>\n",
       "      <td>927 23rd st  clearwater, fl</td>\n",
       "      <td>34698</td>\n",
       "      <td>Biological child</td>\n",
       "      <td>Female</td>\n",
       "      <td>Black</td>\n",
       "      <td>A</td>\n",
       "    </tr>\n",
       "    <tr>\n",
       "      <th>3</th>\n",
       "      <td>Benjamin</td>\n",
       "      <td>Cox</td>\n",
       "      <td>21.444732</td>\n",
       "      <td>1998-10-21</td>\n",
       "      <td>927 23rd st  clearwater, fl</td>\n",
       "      <td>34698</td>\n",
       "      <td>Stepchild</td>\n",
       "      <td>Male</td>\n",
       "      <td>Black</td>\n",
       "      <td>D</td>\n",
       "    </tr>\n",
       "    <tr>\n",
       "      <th>4</th>\n",
       "      <td>Willie</td>\n",
       "      <td>Tucker</td>\n",
       "      <td>72.478355</td>\n",
       "      <td>1947-10-09</td>\n",
       "      <td>8904 167th place  fleming island, fl</td>\n",
       "      <td>32003</td>\n",
       "      <td>Reference person</td>\n",
       "      <td>Male</td>\n",
       "      <td>White</td>\n",
       "      <td>J</td>\n",
       "    </tr>\n",
       "    <tr>\n",
       "      <th>...</th>\n",
       "      <td>...</td>\n",
       "      <td>...</td>\n",
       "      <td>...</td>\n",
       "      <td>...</td>\n",
       "      <td>...</td>\n",
       "      <td>...</td>\n",
       "      <td>...</td>\n",
       "      <td>...</td>\n",
       "      <td>...</td>\n",
       "      <td>...</td>\n",
       "    </tr>\n",
       "    <tr>\n",
       "      <th>49993</th>\n",
       "      <td>Thomas</td>\n",
       "      <td>Gutierrez</td>\n",
       "      <td>29.374925</td>\n",
       "      <td>1990-11-16</td>\n",
       "      <td>2210 henn hyde rd ne  hollywood, fl</td>\n",
       "      <td>33021</td>\n",
       "      <td>Institutionalized GQ pop</td>\n",
       "      <td>Male</td>\n",
       "      <td>Latino</td>\n",
       "      <td>B</td>\n",
       "    </tr>\n",
       "    <tr>\n",
       "      <th>49994</th>\n",
       "      <td>Marcus</td>\n",
       "      <td>Roman</td>\n",
       "      <td>31.731657</td>\n",
       "      <td>1988-07-08</td>\n",
       "      <td>2210 henn hyde rd ne  hollywood, fl</td>\n",
       "      <td>33021</td>\n",
       "      <td>Institutionalized GQ pop</td>\n",
       "      <td>Male</td>\n",
       "      <td>Multiracial or Other</td>\n",
       "      <td>S</td>\n",
       "    </tr>\n",
       "    <tr>\n",
       "      <th>49997</th>\n",
       "      <td>Christian</td>\n",
       "      <td>Rosales</td>\n",
       "      <td>36.294295</td>\n",
       "      <td>1983-12-16</td>\n",
       "      <td>701 haber rd  vero beach, fl</td>\n",
       "      <td>32968</td>\n",
       "      <td>Institutionalized GQ pop</td>\n",
       "      <td>Male</td>\n",
       "      <td>Latino</td>\n",
       "      <td>C</td>\n",
       "    </tr>\n",
       "    <tr>\n",
       "      <th>49998</th>\n",
       "      <td>Phillip</td>\n",
       "      <td>Morton</td>\n",
       "      <td>34.806130</td>\n",
       "      <td>1985-06-11</td>\n",
       "      <td>114 s frnt st  fort myers, fl</td>\n",
       "      <td>33919</td>\n",
       "      <td>Institutionalized GQ pop</td>\n",
       "      <td>Male</td>\n",
       "      <td>White</td>\n",
       "      <td>J</td>\n",
       "    </tr>\n",
       "    <tr>\n",
       "      <th>49999</th>\n",
       "      <td>Catherine</td>\n",
       "      <td>Talley</td>\n",
       "      <td>91.629217</td>\n",
       "      <td>1928-08-14</td>\n",
       "      <td>701 haber rd  vero beach, fl</td>\n",
       "      <td>32968</td>\n",
       "      <td>Institutionalized GQ pop</td>\n",
       "      <td>Female</td>\n",
       "      <td>Black</td>\n",
       "      <td>H</td>\n",
       "    </tr>\n",
       "  </tbody>\n",
       "</table>\n",
       "<p>47444 rows × 10 columns</p>\n",
       "</div>"
      ],
      "text/plain": [
       "      first_name   last_name        age date_of_birth  \\\n",
       "0       Margaret       Clark  68.681336    1951-07-27   \n",
       "1        Jeffrey  Littlejohn  52.913882    1967-05-03   \n",
       "2         Briana     Jackson  13.566889    2006-09-07   \n",
       "3       Benjamin         Cox  21.444732    1998-10-21   \n",
       "4         Willie      Tucker  72.478355    1947-10-09   \n",
       "...          ...         ...        ...           ...   \n",
       "49993     Thomas   Gutierrez  29.374925    1990-11-16   \n",
       "49994     Marcus       Roman  31.731657    1988-07-08   \n",
       "49997  Christian     Rosales  36.294295    1983-12-16   \n",
       "49998    Phillip      Morton  34.806130    1985-06-11   \n",
       "49999  Catherine      Talley  91.629217    1928-08-14   \n",
       "\n",
       "                                    address zipcode  \\\n",
       "0           1344 winoka rd  brooksville, fl   34601   \n",
       "1               927 23rd st  clearwater, fl   34698   \n",
       "2               927 23rd st  clearwater, fl   34698   \n",
       "3               927 23rd st  clearwater, fl   34698   \n",
       "4      8904 167th place  fleming island, fl   32003   \n",
       "...                                     ...     ...   \n",
       "49993   2210 henn hyde rd ne  hollywood, fl   33021   \n",
       "49994   2210 henn hyde rd ne  hollywood, fl   33021   \n",
       "49997          701 haber rd  vero beach, fl   32968   \n",
       "49998         114 s frnt st  fort myers, fl   33919   \n",
       "49999          701 haber rd  vero beach, fl   32968   \n",
       "\n",
       "      relation_to_household_head     sex        race_ethnicity middle_initial  \n",
       "0               Reference person  Female                 Black              J  \n",
       "1               Reference person    Male                 Black              V  \n",
       "2               Biological child  Female                 Black              A  \n",
       "3                      Stepchild    Male                 Black              D  \n",
       "4               Reference person    Male                 White              J  \n",
       "...                          ...     ...                   ...            ...  \n",
       "49993   Institutionalized GQ pop    Male                Latino              B  \n",
       "49994   Institutionalized GQ pop    Male  Multiracial or Other              S  \n",
       "49997   Institutionalized GQ pop    Male                Latino              C  \n",
       "49998   Institutionalized GQ pop    Male                 White              J  \n",
       "49999   Institutionalized GQ pop  Female                 Black              H  \n",
       "\n",
       "[47444 rows x 10 columns]"
      ]
     },
     "execution_count": 23,
     "metadata": {},
     "output_type": "execute_result"
    }
   ],
   "source": [
    "census[2020]"
   ]
  },
  {
   "cell_type": "markdown",
   "id": "0cf1be57",
   "metadata": {},
   "source": [
    "# Add keyboard noise to addresses and see how long it takes on 50,000 records\n",
    "\n",
    "Try it two different ways:\n",
    "\n",
    "1. With `Series.map`, using a `lambda` to get a partially applied function\n",
    "2. Using `np.vectorize`\n",
    "\n",
    "Both took a little more than 2 seconds. It looks like `np.vectorize` is slightly faster, but it results in a Numpy array rather than a pandas `Series`."
   ]
  },
  {
   "cell_type": "code",
   "execution_count": 24,
   "id": "a6f9bb43",
   "metadata": {},
   "outputs": [
    {
     "name": "stdout",
     "output_type": "stream",
     "text": [
      "CPU times: user 2.12 s, sys: 45.1 ms, total: 2.16 s\n",
      "Wall time: 2.14 s\n"
     ]
    },
    {
     "data": {
      "text/plain": [
       "0             1344 winoka rd  brooksville, fl\n",
       "1                 927 23rd st  clearwater, fl\n",
       "2                 927 23rd st  clearwater, fl\n",
       "3                 927 23rd st  clearwater, fl\n",
       "4        8904 167th place  fleming island, fl\n",
       "                         ...                 \n",
       "49993     2210 henn hyde rd ne  hollywood, fl\n",
       "49994     2210 henn hyde rd ne  hollywood, fl\n",
       "49997            701 haber rd  vero beach, fl\n",
       "49998           114 s frnt st  fort myers, fl\n",
       "49999            701 haber rd  vero beach, fl\n",
       "Name: address, Length: 47444, dtype: object"
      ]
     },
     "execution_count": 24,
     "metadata": {},
     "output_type": "execute_result"
    }
   ],
   "source": [
    "%%time\n",
    "census[2020].address.map(lambda s: corruption.keyboard_corrupt(s, .01, .01))"
   ]
  },
  {
   "cell_type": "code",
   "execution_count": 25,
   "id": "7771dace",
   "metadata": {},
   "outputs": [
    {
     "name": "stdout",
     "output_type": "stream",
     "text": [
      "CPU times: user 2.15 s, sys: 16.5 ms, total: 2.16 s\n",
      "Wall time: 2.14 s\n"
     ]
    },
    {
     "data": {
      "text/plain": [
       "array(['1344 winoka rd  brooksville, fl', '927 23rd st  clearwater, fl',\n",
       "       '927 23rd st  clearwater, fl', ..., '701 haber rd  vero beach, fl',\n",
       "       '114 s frnt st  fort myers, fl', '701 haber rd  vero beach, fl'],\n",
       "      dtype='<U69')"
      ]
     },
     "execution_count": 25,
     "metadata": {},
     "output_type": "execute_result"
    }
   ],
   "source": [
    "%%time\n",
    "np.vectorize(corruption.keyboard_corrupt)(census[2020].address, .01, .01)"
   ]
  },
  {
   "cell_type": "markdown",
   "id": "97d84d53",
   "metadata": {},
   "source": [
    "# Do a more precise speed test of `Series.map` vs. `np.vectorize`\n",
    "\n",
    "They're almost the same -- `np.vectorize` seems to give a slight speedup of about 2%. Let's plan to stick with `Series.map` for now."
   ]
  },
  {
   "cell_type": "code",
   "execution_count": 26,
   "id": "c57329eb",
   "metadata": {},
   "outputs": [
    {
     "name": "stdout",
     "output_type": "stream",
     "text": [
      "2.14 s ± 6.1 ms per loop (mean ± std. dev. of 7 runs, 1 loop each)\n"
     ]
    }
   ],
   "source": [
    "%timeit census[2020].address.map(lambda s: corruption.keyboard_corrupt(s, .01, .01))"
   ]
  },
  {
   "cell_type": "code",
   "execution_count": 27,
   "id": "c0b22c3d",
   "metadata": {},
   "outputs": [
    {
     "name": "stdout",
     "output_type": "stream",
     "text": [
      "2.14 s ± 13.7 ms per loop (mean ± std. dev. of 7 runs, 1 loop each)\n"
     ]
    }
   ],
   "source": [
    "%timeit np.vectorize(corruption.keyboard_corrupt)(census[2020].address, .01, .01)"
   ]
  },
  {
   "cell_type": "code",
   "execution_count": 28,
   "id": "307576ad",
   "metadata": {},
   "outputs": [
    {
     "data": {
      "text/plain": [
       "1.019047619047619"
      ]
     },
     "execution_count": 28,
     "metadata": {},
     "output_type": "execute_result"
    }
   ],
   "source": [
    "2.14/2.1"
   ]
  },
  {
   "cell_type": "code",
   "execution_count": 29,
   "id": "21135897",
   "metadata": {},
   "outputs": [
    {
     "data": {
      "text/plain": [
       "1.0192307692307692"
      ]
     },
     "execution_count": 29,
     "metadata": {},
     "output_type": "execute_result"
    }
   ],
   "source": [
    "2.12/2.08"
   ]
  },
  {
   "cell_type": "markdown",
   "id": "484cb684",
   "metadata": {},
   "source": [
    "# See how long it takes to add phonetic noise to 50,000 addresses\n",
    "\n",
    "Phonetic is the most complicated type of noise, and addresses are the longest field in this dataset, so this should take the most amount of time. Looks like it takes about twice as long as keyboard noise."
   ]
  },
  {
   "cell_type": "code",
   "execution_count": 30,
   "id": "e8ad52ec",
   "metadata": {},
   "outputs": [
    {
     "name": "stdout",
     "output_type": "stream",
     "text": [
      "CPU times: user 4.26 s, sys: 56.4 ms, total: 4.31 s\n",
      "Wall time: 4.27 s\n"
     ]
    },
    {
     "data": {
      "text/plain": [
       "0             1344 winoka rd  brooksville, fl\n",
       "1                 927 23rd st  clearwater, fl\n",
       "2                 927 23rd st  clearwater, fl\n",
       "3                 927 23rd st  clearwater, fl\n",
       "4        8904 167th place  fleming island, fl\n",
       "                         ...                 \n",
       "49993     2210 henn hyde rd ne  holywood, fle\n",
       "49994      2210 henn hyde rd ne  holywood, fl\n",
       "49997            701 haber rd  vero beach, fl\n",
       "49998           114 s frnt st  fort myers, fl\n",
       "49999             701 haber rd  vero beac, fl\n",
       "Name: address, Length: 47444, dtype: object"
      ]
     },
     "execution_count": 30,
     "metadata": {},
     "output_type": "execute_result"
    }
   ],
   "source": [
    "%%time\n",
    "census[2020].address.map(lambda s: corruption.phonetic_corrupt(s, .01))"
   ]
  },
  {
   "cell_type": "code",
   "execution_count": 31,
   "id": "c56d107f",
   "metadata": {},
   "outputs": [
    {
     "name": "stdout",
     "output_type": "stream",
     "text": [
      "4.28 s ± 11.4 ms per loop (mean ± std. dev. of 7 runs, 1 loop each)\n"
     ]
    }
   ],
   "source": [
    "%timeit census[2020].address.map(lambda s: corruption.phonetic_corrupt(s, .01))"
   ]
  },
  {
   "cell_type": "code",
   "execution_count": 32,
   "id": "9c1f8233",
   "metadata": {},
   "outputs": [
    {
     "name": "stdout",
     "output_type": "stream",
     "text": [
      "CPU times: user 1.39 s, sys: 4.14 ms, total: 1.39 s\n",
      "Wall time: 1.37 s\n"
     ]
    },
    {
     "data": {
      "text/plain": [
       "0             Clark\n",
       "1        Littlejohn\n",
       "2           Jackson\n",
       "3               Cox\n",
       "4            Tucker\n",
       "            ...    \n",
       "49993     Gutierrez\n",
       "49994         Roman\n",
       "49997       Rosales\n",
       "49998        Morton\n",
       "49999         Tally\n",
       "Name: last_name, Length: 47444, dtype: object"
      ]
     },
     "execution_count": 32,
     "metadata": {},
     "output_type": "execute_result"
    }
   ],
   "source": [
    "%%time\n",
    "census[2020].last_name.map(lambda s: corruption.phonetic_corrupt(s, .01))"
   ]
  },
  {
   "cell_type": "markdown",
   "id": "35039056",
   "metadata": {},
   "source": [
    "# Look at mean lengths of last names and addresses\n",
    "\n",
    "Since the corrupters act independently on individual characters or sub-strings with a fixed probability, if we wanted X% of records to be corrupted, we could divide the probability passed to the corruptor by the mean string length to get approximately the right proportion of records affected. However, it would be more efficient to first select X% of the records to corrupt and apply the noise to only those records with whatever, separate, token-level proabability we think is appropriate."
   ]
  },
  {
   "cell_type": "code",
   "execution_count": 33,
   "id": "f3394770",
   "metadata": {},
   "outputs": [
    {
     "data": {
      "text/plain": [
       "6.801766292892673"
      ]
     },
     "execution_count": 33,
     "metadata": {},
     "output_type": "execute_result"
    }
   ],
   "source": [
    "census[2020].last_name.map(len).mean()"
   ]
  },
  {
   "cell_type": "code",
   "execution_count": 34,
   "id": "8a189e6d",
   "metadata": {},
   "outputs": [
    {
     "data": {
      "text/plain": [
       "33.42391029424163"
      ]
     },
     "execution_count": 34,
     "metadata": {},
     "output_type": "execute_result"
    }
   ],
   "source": [
    "census[2020].address.map(len).mean()"
   ]
  },
  {
   "cell_type": "code",
   "execution_count": 35,
   "id": "314060ad",
   "metadata": {},
   "outputs": [
    {
     "data": {
      "text/plain": [
       "0             Clark\n",
       "1        Littlejohn\n",
       "2           Jackson\n",
       "3               Cox\n",
       "4            Tucker\n",
       "            ...    \n",
       "49993     Gutierrez\n",
       "49994         Roman\n",
       "49997       Rosales\n",
       "49998        Morton\n",
       "49999        Talley\n",
       "Name: last_name, Length: 47444, dtype: object"
      ]
     },
     "execution_count": 35,
     "metadata": {},
     "output_type": "execute_result"
    }
   ],
   "source": [
    "census[2020].last_name"
   ]
  },
  {
   "cell_type": "markdown",
   "id": "aa461694",
   "metadata": {},
   "source": [
    "# Test OCR noise on 50,000 records\n",
    "\n",
    "Looks like this is slightly faster than keyboard noise, by about 7.5%."
   ]
  },
  {
   "cell_type": "code",
   "execution_count": 36,
   "id": "2b709b41",
   "metadata": {},
   "outputs": [
    {
     "name": "stdout",
     "output_type": "stream",
     "text": [
      "CPU times: user 1.99 s, sys: 16 ms, total: 2.01 s\n",
      "Wall time: 1.99 s\n"
     ]
    },
    {
     "data": {
      "text/plain": [
       "0             1344 winoka rd  brooksville, fl\n",
       "1                 927 23rd st  clearwater, fl\n",
       "2                 927 23rd st  clearwater, fl\n",
       "3                 927 23rd st  clearwater, fl\n",
       "4        8904 167th place  fleming island, fl\n",
       "                         ...                 \n",
       "49993     2210 henn hyde rd ne  hollywood, fl\n",
       "49994     22|0 henn hyde rd ne  hollywood, fl\n",
       "49997            701 haber rd  vero beach, fl\n",
       "49998           114 s frnt st  fort myers, fl\n",
       "49999            701 haber rd  vero beach, fl\n",
       "Name: address, Length: 47444, dtype: object"
      ]
     },
     "execution_count": 36,
     "metadata": {},
     "output_type": "execute_result"
    }
   ],
   "source": [
    "%%time\n",
    "census[2020].address.map(lambda s: corruption.ocr_corrupt(s, 0.01))"
   ]
  },
  {
   "cell_type": "code",
   "execution_count": 37,
   "id": "0aabf98b",
   "metadata": {},
   "outputs": [
    {
     "name": "stdout",
     "output_type": "stream",
     "text": [
      "1.98 s ± 16.1 ms per loop (mean ± std. dev. of 7 runs, 1 loop each)\n"
     ]
    }
   ],
   "source": [
    "%timeit census[2020].address.map(lambda s: corruption.ocr_corrupt(s, 0.01))"
   ]
  },
  {
   "cell_type": "code",
   "execution_count": 38,
   "id": "25d7965c",
   "metadata": {},
   "outputs": [
    {
     "data": {
      "text/plain": [
       "0.07476635514018692"
      ]
     },
     "execution_count": 38,
     "metadata": {},
     "output_type": "execute_result"
    }
   ],
   "source": [
    "1-1.98/2.14"
   ]
  },
  {
   "cell_type": "markdown",
   "id": "41de23cb",
   "metadata": {},
   "source": [
    "# Test fake names module"
   ]
  },
  {
   "cell_type": "code",
   "execution_count": 39,
   "id": "a4bd02fd",
   "metadata": {},
   "outputs": [
    {
     "data": {
      "text/plain": [
       "['GIRL',\n",
       " 'MOM',\n",
       " 'A',\n",
       " 'GOH',\n",
       " 'MOTHER',\n",
       " 'ADULT',\n",
       " 'GRANDCHILD',\n",
       " 'MR',\n",
       " 'ADULT MALE',\n",
       " 'GRANDDAUGHTER',\n",
       " 'MRS',\n",
       " 'B',\n",
       " 'GRANDSON',\n",
       " 'MS',\n",
       " 'BABY',\n",
       " 'H',\n",
       " 'N',\n",
       " 'BOY',\n",
       " 'HIJA',\n",
       " 'NEPHEW',\n",
       " 'BROTHER',\n",
       " 'HIJO',\n",
       " 'NINO',\n",
       " 'C',\n",
       " 'HOUSE',\n",
       " 'O',\n",
       " 'CHILD',\n",
       " 'HUSBAND',\n",
       " 'OLDEST',\n",
       " 'CHILD F',\n",
       " 'INMATE',\n",
       " 'ONE',\n",
       " 'COH',\n",
       " 'J',\n",
       " 'P',\n",
       " 'D',\n",
       " 'K',\n",
       " 'PERSON',\n",
       " 'DAD',\n",
       " 'KID',\n",
       " 'R',\n",
       " 'DAU',\n",
       " 'L',\n",
       " 'RESIDENT',\n",
       " 'DAUGHTER',\n",
       " 'LADY',\n",
       " 'RESPONDENT',\n",
       " 'DAUGHTER OF',\n",
       " 'LADY IN THE',\n",
       " 'S',\n",
       " 'DOH',\n",
       " 'LADY OF',\n",
       " 'SENOR',\n",
       " 'E',\n",
       " 'LADY OF HOUSE',\n",
       " 'SENORA',\n",
       " 'F',\n",
       " 'LADY OF THE',\n",
       " 'SISTER',\n",
       " 'FATHER',\n",
       " 'LOH',\n",
       " 'SOH',\n",
       " 'FEMALE',\n",
       " 'M',\n",
       " 'SON',\n",
       " 'FEMALE CHILD',\n",
       " 'MALE',\n",
       " 'SON OF',\n",
       " 'FRIEND',\n",
       " 'MALE CHILD',\n",
       " 'T',\n",
       " 'G',\n",
       " 'MAN',\n",
       " 'V',\n",
       " 'GENT',\n",
       " 'MAN IN THE',\n",
       " 'W',\n",
       " 'GENTELMAN',\n",
       " 'MAN OF',\n",
       " 'WIFE',\n",
       " 'GENTLE',\n",
       " 'MAN OF THE',\n",
       " 'WOMAN',\n",
       " 'GENTLEMAN',\n",
       " 'MINOR',\n",
       " 'YOUNGEST',\n",
       " 'GENTLEMAN OF',\n",
       " 'MISS',\n",
       " 'GENTLEMEN',\n",
       " 'MOH']"
      ]
     },
     "execution_count": 39,
     "metadata": {},
     "output_type": "execute_result"
    }
   ],
   "source": [
    "fake_names.fake_first_names"
   ]
  },
  {
   "cell_type": "markdown",
   "id": "b5e55e70",
   "metadata": {},
   "source": [
    "# See what the fake names look like when converted to title case\n",
    "\n",
    "Looks like every word gets capitalized, including prepositions/articles like \"Of The\" or \"De La\"."
   ]
  },
  {
   "cell_type": "code",
   "execution_count": 40,
   "id": "4c88e2a9",
   "metadata": {},
   "outputs": [
    {
     "data": {
      "text/plain": [
       "['Girl',\n",
       " 'Mom',\n",
       " 'A',\n",
       " 'Goh',\n",
       " 'Mother',\n",
       " 'Adult',\n",
       " 'Grandchild',\n",
       " 'Mr',\n",
       " 'Adult Male',\n",
       " 'Granddaughter',\n",
       " 'Mrs',\n",
       " 'B',\n",
       " 'Grandson',\n",
       " 'Ms',\n",
       " 'Baby',\n",
       " 'H',\n",
       " 'N',\n",
       " 'Boy',\n",
       " 'Hija',\n",
       " 'Nephew',\n",
       " 'Brother',\n",
       " 'Hijo',\n",
       " 'Nino',\n",
       " 'C',\n",
       " 'House',\n",
       " 'O',\n",
       " 'Child',\n",
       " 'Husband',\n",
       " 'Oldest',\n",
       " 'Child F',\n",
       " 'Inmate',\n",
       " 'One',\n",
       " 'Coh',\n",
       " 'J',\n",
       " 'P',\n",
       " 'D',\n",
       " 'K',\n",
       " 'Person',\n",
       " 'Dad',\n",
       " 'Kid',\n",
       " 'R',\n",
       " 'Dau',\n",
       " 'L',\n",
       " 'Resident',\n",
       " 'Daughter',\n",
       " 'Lady',\n",
       " 'Respondent',\n",
       " 'Daughter Of',\n",
       " 'Lady In The',\n",
       " 'S',\n",
       " 'Doh',\n",
       " 'Lady Of',\n",
       " 'Senor',\n",
       " 'E',\n",
       " 'Lady Of House',\n",
       " 'Senora',\n",
       " 'F',\n",
       " 'Lady Of The',\n",
       " 'Sister',\n",
       " 'Father',\n",
       " 'Loh',\n",
       " 'Soh',\n",
       " 'Female',\n",
       " 'M',\n",
       " 'Son',\n",
       " 'Female Child',\n",
       " 'Male',\n",
       " 'Son Of',\n",
       " 'Friend',\n",
       " 'Male Child',\n",
       " 'T',\n",
       " 'G',\n",
       " 'Man',\n",
       " 'V',\n",
       " 'Gent',\n",
       " 'Man In The',\n",
       " 'W',\n",
       " 'Gentelman',\n",
       " 'Man Of',\n",
       " 'Wife',\n",
       " 'Gentle',\n",
       " 'Man Of The',\n",
       " 'Woman',\n",
       " 'Gentleman',\n",
       " 'Minor',\n",
       " 'Youngest',\n",
       " 'Gentleman Of',\n",
       " 'Miss',\n",
       " 'Gentlemen',\n",
       " 'Moh']"
      ]
     },
     "execution_count": 40,
     "metadata": {},
     "output_type": "execute_result"
    }
   ],
   "source": [
    "list(map(lambda s: s.title(), fake_names.fake_first_names))"
   ]
  },
  {
   "cell_type": "code",
   "execution_count": 41,
   "id": "b9374c73",
   "metadata": {},
   "outputs": [
    {
     "data": {
      "text/plain": [
       "['Hh',\n",
       " 'Of The House',\n",
       " 'A',\n",
       " 'Hhm',\n",
       " 'One',\n",
       " 'Adult',\n",
       " 'Home',\n",
       " 'Owner',\n",
       " 'Anon',\n",
       " 'House',\n",
       " 'P',\n",
       " 'Anonymous',\n",
       " 'Household',\n",
       " 'Parent',\n",
       " 'Apellido',\n",
       " 'Householder',\n",
       " 'Person',\n",
       " 'B',\n",
       " 'Husband',\n",
       " 'R',\n",
       " 'Boy',\n",
       " 'J',\n",
       " 'Ref',\n",
       " 'C',\n",
       " 'K',\n",
       " 'Refuse',\n",
       " 'Casa',\n",
       " 'L',\n",
       " 'Resident',\n",
       " 'Child',\n",
       " 'Lady',\n",
       " 'Resp',\n",
       " 'Coh',\n",
       " 'Lady Of House',\n",
       " 'Respondant',\n",
       " 'D',\n",
       " 'Lady Of The House',\n",
       " 'Respondent',\n",
       " 'Daughter',\n",
       " 'Last Name',\n",
       " 'S',\n",
       " 'De Casa',\n",
       " 'Loh',\n",
       " 'Soh',\n",
       " 'De La Casa',\n",
       " 'M',\n",
       " 'Son',\n",
       " 'Declined',\n",
       " 'Male',\n",
       " 'T',\n",
       " 'Doe',\n",
       " 'Man',\n",
       " 'The House',\n",
       " 'Doh',\n",
       " 'Man Of The House',\n",
       " 'Three',\n",
       " 'Dont Know',\n",
       " 'Moh',\n",
       " 'Two',\n",
       " 'E',\n",
       " 'N',\n",
       " 'Unk',\n",
       " 'F',\n",
       " 'Na',\n",
       " 'Unknown',\n",
       " 'Female',\n",
       " 'No',\n",
       " 'W',\n",
       " 'Four',\n",
       " 'No Last Name',\n",
       " 'Wife',\n",
       " 'Friend',\n",
       " 'No Name',\n",
       " 'X',\n",
       " 'G',\n",
       " 'None',\n",
       " 'Xxx',\n",
       " 'Girl',\n",
       " 'O',\n",
       " 'Y',\n",
       " 'Goh',\n",
       " 'Occupant',\n",
       " 'Younger',\n",
       " 'H',\n",
       " 'Of House',\n",
       " 'H Age',\n",
       " 'Of The Home']"
      ]
     },
     "execution_count": 41,
     "metadata": {},
     "output_type": "execute_result"
    }
   ],
   "source": [
    "list(map(lambda s: s.title(), fake_names.fake_last_names))"
   ]
  },
  {
   "cell_type": "code",
   "execution_count": 42,
   "id": "15536be4",
   "metadata": {},
   "outputs": [
    {
     "name": "stdout",
     "output_type": "stream",
     "text": [
      "Help on built-in function title:\n",
      "\n",
      "title() method of builtins.str instance\n",
      "    Return a version of the string where each word is titlecased.\n",
      "    \n",
      "    More specifically, words start with uppercased characters and all remaining\n",
      "    cased characters have lower case.\n",
      "\n"
     ]
    }
   ],
   "source": [
    "help('abd'.title)"
   ]
  },
  {
   "cell_type": "code",
   "execution_count": null,
   "id": "68ec4be5",
   "metadata": {},
   "outputs": [],
   "source": []
  }
 ],
 "metadata": {
  "kernelspec": {
   "display_name": "Python 3 (ipykernel)",
   "language": "python",
   "name": "python3"
  },
  "language_info": {
   "codemirror_mode": {
    "name": "ipython",
    "version": 3
   },
   "file_extension": ".py",
   "mimetype": "text/x-python",
   "name": "python",
   "nbconvert_exporter": "python",
   "pygments_lexer": "ipython3",
   "version": "3.8.13"
  }
 },
 "nbformat": 4,
 "nbformat_minor": 5
}
