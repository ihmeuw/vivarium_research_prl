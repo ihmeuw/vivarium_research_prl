{
 "cells": [
  {
   "cell_type": "code",
   "execution_count": 1,
   "id": "a28caed5",
   "metadata": {},
   "outputs": [
    {
     "name": "stdout",
     "output_type": "stream",
     "text": [
      "Thu 01 Dec 2022 12:13:52 AM PST\n",
      "ndbs\n",
      "Linux int-slurm-sarchive-p0012 5.4.0-88-generic #99-Ubuntu SMP Thu Sep 23 17:29:00 UTC 2021 x86_64 x86_64 x86_64 GNU/Linux\n",
      "/mnt/share/code/ndbs/vivarium_research_prl/noise\n"
     ]
    }
   ],
   "source": [
    "import numpy as np, matplotlib.pyplot as plt, pandas as pd\n",
    "pd.set_option('display.max_rows', 40)\n",
    "\n",
    "from vivarium_research_prl.noise import corruption\n",
    "\n",
    "!date\n",
    "!whoami\n",
    "!uname -a\n",
    "!pwd"
   ]
  },
  {
   "cell_type": "code",
   "execution_count": 2,
   "id": "dbacc4a8",
   "metadata": {},
   "outputs": [],
   "source": [
    "%load_ext autoreload\n",
    "%autoreload 2"
   ]
  },
  {
   "cell_type": "markdown",
   "id": "ebaa0e7f",
   "metadata": {},
   "source": [
    "# Get some data"
   ]
  },
  {
   "cell_type": "code",
   "execution_count": 3,
   "id": "cc6d39fe",
   "metadata": {},
   "outputs": [
    {
     "name": "stdout",
     "output_type": "stream",
     "text": [
      "total 32224\r\n",
      "-rw-rw-r-- 1 albrja   IHME-Simulationscience 12622072 Oct 20 23:08 decennial_census.hdf\r\n",
      "-rwxrwxrwx 1 beatrixh IHME-Simulationscience 20364830 Nov 14 16:42 state_table.hdf\r\n"
     ]
    }
   ],
   "source": [
    "project_output_dir = '/mnt/team/simulation_science/priv/engineering/vivarium_census_prl_synth_pop'\n",
    "output_subdir = 'results/special_last_names/florida/2022_10_14_10_49_32/population_table/'\n",
    "output_dir = f'{project_output_dir}/{output_subdir}'\n",
    "\n",
    "!ls -l $output_dir"
   ]
  },
  {
   "cell_type": "code",
   "execution_count": 4,
   "id": "5eaa1b08",
   "metadata": {},
   "outputs": [
    {
     "name": "stdout",
     "output_type": "stream",
     "text": [
      "<class 'pandas.io.pytables.HDFStore'>\n",
      "File path: /mnt/team/simulation_science/priv/engineering/vivarium_census_prl_synth_pop/results/special_last_names/florida/2022_10_14_10_49_32/population_table//decennial_census.hdf\n",
      "/year_2020            frame        (shape->[47444,10])\n",
      "/year_2030            frame        (shape->[46440,10])\n",
      "/year_2040            frame        (shape->[44626,10])\n"
     ]
    }
   ],
   "source": [
    "decennial_census_path = f'{output_dir}/decennial_census.hdf'\n",
    "with pd.HDFStore(decennial_census_path, 'r') as census_hdf:\n",
    "    print(census_hdf.info())\n",
    "    census_keys = census_hdf.keys()"
   ]
  },
  {
   "cell_type": "code",
   "execution_count": 5,
   "id": "8e7dd320",
   "metadata": {},
   "outputs": [
    {
     "name": "stdout",
     "output_type": "stream",
     "text": [
      "2020 (47444, 10)\n"
     ]
    }
   ],
   "source": [
    "# Keys exist for years 2020, 2030, 2040\n",
    "years = [2020]\n",
    "census = {year: pd.read_hdf(decennial_census_path, f'year_{year}') for year in years}\n",
    "\n",
    "for year in years:\n",
    "    print(year, census[year].shape)"
   ]
  },
  {
   "cell_type": "markdown",
   "id": "5b361277",
   "metadata": {},
   "source": [
    "# Check module imports"
   ]
  },
  {
   "cell_type": "code",
   "execution_count": 6,
   "id": "c6616a9d",
   "metadata": {},
   "outputs": [
    {
     "data": {
      "text/plain": [
       "['__builtins__',\n",
       " '__cached__',\n",
       " '__doc__',\n",
       " '__file__',\n",
       " '__loader__',\n",
       " '__name__',\n",
       " '__package__',\n",
       " '__spec__',\n",
       " 'df_k',\n",
       " 'df_ocr',\n",
       " 'df_phonetic',\n",
       " 'k',\n",
       " 'np',\n",
       " 'ocr_corrupt',\n",
       " 'ocr_error_dict',\n",
       " 'pd',\n",
       " 'phonetic_corrupt',\n",
       " 'phonetic_error_dict']"
      ]
     },
     "execution_count": 6,
     "metadata": {},
     "output_type": "execute_result"
    }
   ],
   "source": [
    "dir(corruption)"
   ]
  },
  {
   "cell_type": "markdown",
   "id": "45e25852",
   "metadata": {},
   "source": [
    "# Test OCR noise"
   ]
  },
  {
   "cell_type": "code",
   "execution_count": 7,
   "id": "7fe88d3a",
   "metadata": {},
   "outputs": [
    {
     "data": {
      "text/html": [
       "<div>\n",
       "<style scoped>\n",
       "    .dataframe tbody tr th:only-of-type {\n",
       "        vertical-align: middle;\n",
       "    }\n",
       "\n",
       "    .dataframe tbody tr th {\n",
       "        vertical-align: top;\n",
       "    }\n",
       "\n",
       "    .dataframe thead th {\n",
       "        text-align: right;\n",
       "    }\n",
       "</style>\n",
       "<table border=\"1\" class=\"dataframe\">\n",
       "  <thead>\n",
       "    <tr style=\"text-align: right;\">\n",
       "      <th></th>\n",
       "      <th>ocr_true</th>\n",
       "      <th>ocr_err</th>\n",
       "    </tr>\n",
       "  </thead>\n",
       "  <tbody>\n",
       "    <tr>\n",
       "      <th>0</th>\n",
       "      <td>5</td>\n",
       "      <td>S</td>\n",
       "    </tr>\n",
       "    <tr>\n",
       "      <th>1</th>\n",
       "      <td>5</td>\n",
       "      <td>s</td>\n",
       "    </tr>\n",
       "    <tr>\n",
       "      <th>2</th>\n",
       "      <td>2</td>\n",
       "      <td>Z</td>\n",
       "    </tr>\n",
       "    <tr>\n",
       "      <th>3</th>\n",
       "      <td>2</td>\n",
       "      <td>z</td>\n",
       "    </tr>\n",
       "    <tr>\n",
       "      <th>4</th>\n",
       "      <td>1</td>\n",
       "      <td>|</td>\n",
       "    </tr>\n",
       "    <tr>\n",
       "      <th>...</th>\n",
       "      <td>...</td>\n",
       "      <td>...</td>\n",
       "    </tr>\n",
       "    <tr>\n",
       "      <th>44</th>\n",
       "      <td>l&lt;</td>\n",
       "      <td>k</td>\n",
       "    </tr>\n",
       "    <tr>\n",
       "      <th>45</th>\n",
       "      <td>1&lt;</td>\n",
       "      <td>k</td>\n",
       "    </tr>\n",
       "    <tr>\n",
       "      <th>46</th>\n",
       "      <td>m</td>\n",
       "      <td>rn</td>\n",
       "    </tr>\n",
       "    <tr>\n",
       "      <th>47</th>\n",
       "      <td>l</td>\n",
       "      <td>|</td>\n",
       "    </tr>\n",
       "    <tr>\n",
       "      <th>48</th>\n",
       "      <td>i</td>\n",
       "      <td>:</td>\n",
       "    </tr>\n",
       "  </tbody>\n",
       "</table>\n",
       "<p>49 rows × 2 columns</p>\n",
       "</div>"
      ],
      "text/plain": [
       "   ocr_true ocr_err\n",
       "0         5       S\n",
       "1         5       s\n",
       "2         2       Z\n",
       "3         2       z\n",
       "4         1       |\n",
       "..      ...     ...\n",
       "44       l<       k\n",
       "45       1<       k\n",
       "46        m      rn\n",
       "47        l       |\n",
       "48        i       :\n",
       "\n",
       "[49 rows x 2 columns]"
      ]
     },
     "execution_count": 7,
     "metadata": {},
     "output_type": "execute_result"
    }
   ],
   "source": [
    "corruption.df_ocr"
   ]
  },
  {
   "cell_type": "code",
   "execution_count": 8,
   "id": "6aec4b1c",
   "metadata": {},
   "outputs": [
    {
     "data": {
      "text/plain": [
       "1    34\n",
       "2    13\n",
       "3     2\n",
       "Name: ocr_true, dtype: int64"
      ]
     },
     "execution_count": 8,
     "metadata": {},
     "output_type": "execute_result"
    }
   ],
   "source": [
    "# how many characters in the true string?\n",
    "corruption.df_ocr.ocr_true.map(len).value_counts()"
   ]
  },
  {
   "cell_type": "code",
   "execution_count": 9,
   "id": "539ca6ef",
   "metadata": {},
   "outputs": [
    {
     "data": {
      "text/plain": [
       "{'0': ['o', 'O'],\n",
       " '1': ['|'],\n",
       " '12': ['R'],\n",
       " '13': ['B'],\n",
       " '17': ['n'],\n",
       " '1<': ['k'],\n",
       " '1>': ['b'],\n",
       " '2': ['Z', 'z'],\n",
       " '5': ['S', 's'],\n",
       " '6': ['G'],\n",
       " 'A': ['4'],\n",
       " 'B': ['8'],\n",
       " 'D': ['O'],\n",
       " 'E': ['F'],\n",
       " 'F': ['P'],\n",
       " 'I-I': ['H'],\n",
       " 'IJ': ['U'],\n",
       " 'LI': ['U'],\n",
       " 'Q': ['O'],\n",
       " 'U': ['V'],\n",
       " 'Y': ['V'],\n",
       " 'cl': ['d'],\n",
       " 'g': ['9', 'q'],\n",
       " 'h': ['b'],\n",
       " 'i': [\"'l\", ':'],\n",
       " 'iii': ['m'],\n",
       " 'j': ['i'],\n",
       " 'k': ['lc'],\n",
       " 'l': ['J', '1', 'I', '|'],\n",
       " 'l<': ['k'],\n",
       " 'l>': ['b'],\n",
       " 'lJ': ['U'],\n",
       " 'lo': ['b'],\n",
       " 'm': ['n', 'rn'],\n",
       " 'q': ['9', '4'],\n",
       " 'ri': ['n'],\n",
       " 'u': ['v'],\n",
       " 'w': ['vv'],\n",
       " 'y': ['v']}"
      ]
     },
     "execution_count": 9,
     "metadata": {},
     "output_type": "execute_result"
    }
   ],
   "source": [
    "corruption.ocr_error_dict"
   ]
  },
  {
   "cell_type": "code",
   "execution_count": 10,
   "id": "5e46d35f",
   "metadata": {},
   "outputs": [
    {
     "data": {
      "text/plain": [
       "'the 4viclc brown fox ivmps over the 1azv do9'"
      ]
     },
     "execution_count": 10,
     "metadata": {},
     "output_type": "execute_result"
    }
   ],
   "source": [
    "corruption.ocr_corrupt(\"the quick brown fox jumps over the lazy dog\", corrupted_pr=.5)"
   ]
  },
  {
   "cell_type": "markdown",
   "id": "1e842d55",
   "metadata": {},
   "source": [
    "# Test phonetic corruption"
   ]
  },
  {
   "cell_type": "code",
   "execution_count": 11,
   "id": "edb97f4c",
   "metadata": {},
   "outputs": [
    {
     "data": {
      "text/html": [
       "<div>\n",
       "<style scoped>\n",
       "    .dataframe tbody tr th:only-of-type {\n",
       "        vertical-align: middle;\n",
       "    }\n",
       "\n",
       "    .dataframe tbody tr th {\n",
       "        vertical-align: top;\n",
       "    }\n",
       "\n",
       "    .dataframe thead th {\n",
       "        text-align: right;\n",
       "    }\n",
       "</style>\n",
       "<table border=\"1\" class=\"dataframe\">\n",
       "  <thead>\n",
       "    <tr style=\"text-align: right;\">\n",
       "      <th></th>\n",
       "      <th>where</th>\n",
       "      <th>orig</th>\n",
       "      <th>new</th>\n",
       "      <th>pre</th>\n",
       "      <th>post</th>\n",
       "      <th>pattern</th>\n",
       "      <th>start</th>\n",
       "    </tr>\n",
       "  </thead>\n",
       "  <tbody>\n",
       "    <tr>\n",
       "      <th>0</th>\n",
       "      <td>ALL</td>\n",
       "      <td>h</td>\n",
       "      <td>@</td>\n",
       "      <td>None</td>\n",
       "      <td>None</td>\n",
       "      <td>None</td>\n",
       "      <td>None</td>\n",
       "    </tr>\n",
       "    <tr>\n",
       "      <th>1</th>\n",
       "      <td>END</td>\n",
       "      <td>e</td>\n",
       "      <td>@</td>\n",
       "      <td>None</td>\n",
       "      <td>None</td>\n",
       "      <td>None</td>\n",
       "      <td>None</td>\n",
       "    </tr>\n",
       "    <tr>\n",
       "      <th>2</th>\n",
       "      <td>ALL</td>\n",
       "      <td>t</td>\n",
       "      <td>d</td>\n",
       "      <td>None</td>\n",
       "      <td>None</td>\n",
       "      <td>None</td>\n",
       "      <td>None</td>\n",
       "    </tr>\n",
       "    <tr>\n",
       "      <th>3</th>\n",
       "      <td>ALL</td>\n",
       "      <td>d</td>\n",
       "      <td>t</td>\n",
       "      <td>None</td>\n",
       "      <td>None</td>\n",
       "      <td>None</td>\n",
       "      <td>None</td>\n",
       "    </tr>\n",
       "    <tr>\n",
       "      <th>4</th>\n",
       "      <td>ALL</td>\n",
       "      <td>c</td>\n",
       "      <td>k</td>\n",
       "      <td>None</td>\n",
       "      <td>None</td>\n",
       "      <td>None</td>\n",
       "      <td>None</td>\n",
       "    </tr>\n",
       "    <tr>\n",
       "      <th>...</th>\n",
       "      <td>...</td>\n",
       "      <td>...</td>\n",
       "      <td>...</td>\n",
       "      <td>...</td>\n",
       "      <td>...</td>\n",
       "      <td>...</td>\n",
       "      <td>...</td>\n",
       "    </tr>\n",
       "    <tr>\n",
       "      <th>351</th>\n",
       "      <td>ALL</td>\n",
       "      <td>zza</td>\n",
       "      <td>sa</td>\n",
       "      <td>None</td>\n",
       "      <td>None</td>\n",
       "      <td>None</td>\n",
       "      <td>None</td>\n",
       "    </tr>\n",
       "    <tr>\n",
       "      <th>352</th>\n",
       "      <td>MIDDLE</td>\n",
       "      <td>z</td>\n",
       "      <td>s</td>\n",
       "      <td>n;-1;t</td>\n",
       "      <td>None</td>\n",
       "      <td>y;slavo</td>\n",
       "      <td>None</td>\n",
       "    </tr>\n",
       "    <tr>\n",
       "      <th>353</th>\n",
       "      <td>MIDDLE</td>\n",
       "      <td>ks</td>\n",
       "      <td>x</td>\n",
       "      <td>None</td>\n",
       "      <td>None</td>\n",
       "      <td>None</td>\n",
       "      <td>None</td>\n",
       "    </tr>\n",
       "    <tr>\n",
       "      <th>354</th>\n",
       "      <td>MIDDLE</td>\n",
       "      <td>cks</td>\n",
       "      <td>x</td>\n",
       "      <td>y;-1;a;i;u;e;o</td>\n",
       "      <td>None</td>\n",
       "      <td>None</td>\n",
       "      <td>None</td>\n",
       "    </tr>\n",
       "    <tr>\n",
       "      <th>355</th>\n",
       "      <td>END</td>\n",
       "      <td>l</td>\n",
       "      <td>le</td>\n",
       "      <td>y;-1;ai</td>\n",
       "      <td>None</td>\n",
       "      <td>None</td>\n",
       "      <td>None</td>\n",
       "    </tr>\n",
       "  </tbody>\n",
       "</table>\n",
       "<p>356 rows × 7 columns</p>\n",
       "</div>"
      ],
      "text/plain": [
       "      where orig new             pre  post  pattern start\n",
       "0       ALL    h   @            None  None     None  None\n",
       "1       END    e   @            None  None     None  None\n",
       "2       ALL    t   d            None  None     None  None\n",
       "3       ALL    d   t            None  None     None  None\n",
       "4       ALL    c   k            None  None     None  None\n",
       "..      ...  ...  ..             ...   ...      ...   ...\n",
       "351     ALL  zza  sa            None  None     None  None\n",
       "352  MIDDLE    z   s          n;-1;t  None  y;slavo  None\n",
       "353  MIDDLE   ks   x            None  None     None  None\n",
       "354  MIDDLE  cks   x  y;-1;a;i;u;e;o  None     None  None\n",
       "355     END    l  le         y;-1;ai  None     None  None\n",
       "\n",
       "[356 rows x 7 columns]"
      ]
     },
     "execution_count": 11,
     "metadata": {},
     "output_type": "execute_result"
    }
   ],
   "source": [
    "corruption.df_phonetic"
   ]
  },
  {
   "cell_type": "code",
   "execution_count": 12,
   "id": "cf43dce3",
   "metadata": {},
   "outputs": [
    {
     "data": {
      "text/plain": [
       "2    144\n",
       "3     82\n",
       "4     71\n",
       "1     33\n",
       "5     17\n",
       "6      8\n",
       "7      1\n",
       "Name: orig, dtype: int64"
      ]
     },
     "execution_count": 12,
     "metadata": {},
     "output_type": "execute_result"
    }
   ],
   "source": [
    "corruption.df_phonetic.orig.map(len).value_counts()"
   ]
  },
  {
   "cell_type": "code",
   "execution_count": 13,
   "id": "4dc0e409",
   "metadata": {},
   "outputs": [
    {
     "data": {
      "text/plain": [
       "{'aa': ['ar'],\n",
       " 'acce': ['akse'],\n",
       " 'acch': ['aksh'],\n",
       " 'acci': ['aksi'],\n",
       " 'ach': ['k'],\n",
       " 'achb': ['akb'],\n",
       " 'achf': ['akf'],\n",
       " 'achh': ['akh'],\n",
       " 'achl': ['akl'],\n",
       " 'achm': ['akm'],\n",
       " 'achn': ['akn'],\n",
       " 'achr': ['akr'],\n",
       " 'achv': ['akv'],\n",
       " 'achw': ['akw'],\n",
       " 'aggi': ['aji', 'aki'],\n",
       " 'ah': ['h'],\n",
       " 'aiss': ['ai'],\n",
       " 'aisz': ['ai'],\n",
       " 'alle': ['ale'],\n",
       " 'archit': ['arkit'],\n",
       " 'au': ['o'],\n",
       " 'augh': ['arf'],\n",
       " 'aux': ['auks'],\n",
       " 'aw': ['a'],\n",
       " 'b': ['p'],\n",
       " 'bacher': ['baker'],\n",
       " 'bb': ['p'],\n",
       " 'btl': ['tl'],\n",
       " 'c': ['k'],\n",
       " 'ca': ['ka'],\n",
       " 'caesar': ['sesar'],\n",
       " 'cc': ['k', 'k'],\n",
       " 'cce': ['xi'],\n",
       " 'cch': ['xh'],\n",
       " 'cci': ['xi'],\n",
       " 'ce': ['se'],\n",
       " 'cg': ['k', 'k'],\n",
       " 'ch': ['x', 'x'],\n",
       " 'chae': ['kae'],\n",
       " 'charac': ['karak'],\n",
       " 'charis': ['karis'],\n",
       " 'chb': ['kb'],\n",
       " 'chem': ['kem'],\n",
       " 'chf': ['kf'],\n",
       " 'chh': ['kh'],\n",
       " 'chia': ['kia', 'kia'],\n",
       " 'chl': ['kl'],\n",
       " 'chm': ['km'],\n",
       " 'chn': ['kn'],\n",
       " 'chor': ['kor'],\n",
       " 'chr': ['kr'],\n",
       " 'chs': ['ks'],\n",
       " 'cht': ['kt'],\n",
       " 'chv': ['kv'],\n",
       " 'chw': ['kw'],\n",
       " 'chym': ['kym'],\n",
       " 'ci': ['si'],\n",
       " 'cia': ['sia', 'xia'],\n",
       " 'cie': ['sie'],\n",
       " 'cio': ['sio'],\n",
       " 'ck': ['k'],\n",
       " 'cks': ['x'],\n",
       " 'cl': ['kl'],\n",
       " 'co': ['ko'],\n",
       " 'cq': ['k', 'k'],\n",
       " 'cr': ['kr'],\n",
       " 'ct': ['kt'],\n",
       " 'cu': ['ku'],\n",
       " 'cy': ['si', 'sy', 's'],\n",
       " 'cz': ['c', 'ch'],\n",
       " 'd': ['t'],\n",
       " 'dd': ['t'],\n",
       " 'dg': ['g', 'tk'],\n",
       " 'dge': ['je'],\n",
       " 'dgi': ['ji'],\n",
       " 'dgy': ['jy'],\n",
       " 'dl': ['dil'],\n",
       " 'dt': ['t', 't'],\n",
       " 'e': [''],\n",
       " 'eaux': ['oh', 'eauks'],\n",
       " 'echb': ['ekb'],\n",
       " 'echf': ['ekf'],\n",
       " 'echh': ['ekh'],\n",
       " 'echl': ['ekl'],\n",
       " 'echm': ['ekm'],\n",
       " 'echn': ['ekn'],\n",
       " 'echr': ['ekr'],\n",
       " 'echv': ['ekv'],\n",
       " 'echw': ['ekw'],\n",
       " 'ee': ['i', 'ea'],\n",
       " 'eh': ['h'],\n",
       " 'ei': ['i'],\n",
       " 'es': ['s'],\n",
       " 'ew': ['e'],\n",
       " 'exci': ['ecs'],\n",
       " 'ey': ['y'],\n",
       " 'f': ['v'],\n",
       " 'ff': ['f', 'v', 'vv'],\n",
       " 'g': ['k'],\n",
       " 'gc': ['k'],\n",
       " 'ge': ['ke', 'jy'],\n",
       " 'geb': ['keb'],\n",
       " 'gei': ['kei'],\n",
       " 'gel': ['kel'],\n",
       " 'gep': ['kep'],\n",
       " 'ger': ['ker', 'ker'],\n",
       " 'ges': ['kes'],\n",
       " 'get': ['ket'],\n",
       " 'gey': ['key'],\n",
       " 'gg': ['k'],\n",
       " 'gh': ['', 'e', 'k', 'g', '', 'f', 'k', 'k'],\n",
       " 'ghi': ['j'],\n",
       " 'ghn': ['n'],\n",
       " 'ghne': ['ne'],\n",
       " 'ght': ['t'],\n",
       " 'gi': ['ji', 'ki'],\n",
       " 'gib': ['kib'],\n",
       " 'gie': ['kie'],\n",
       " 'gier': ['jier'],\n",
       " 'gil': ['kil'],\n",
       " 'gin': ['kin'],\n",
       " 'gli': ['kli'],\n",
       " 'gn': ['n', 'n', 'n', 'kn'],\n",
       " 'gne': ['n'],\n",
       " 'gnes': ['ns'],\n",
       " 'gney': ['ney'],\n",
       " 'gy': ['ky', 'ky', 'jy'],\n",
       " 'h': [''],\n",
       " 'ha': ['h'],\n",
       " 'he': ['h'],\n",
       " 'hi': ['h'],\n",
       " 'ho': ['h'],\n",
       " 'hr': ['ah', 'ah'],\n",
       " 'hroug': ['rew'],\n",
       " 'hu': ['h'],\n",
       " 'hy': ['h'],\n",
       " 'i': ['y'],\n",
       " 'ia': ['ya'],\n",
       " 'iaux': ['iauks'],\n",
       " 'ie': ['i'],\n",
       " 'ih': ['h'],\n",
       " 'illa': ['ila'],\n",
       " 'illo': ['ilo'],\n",
       " 'isl': ['il'],\n",
       " 'iw': ['i'],\n",
       " 'j': ['s', 'z', 'y'],\n",
       " 'jc': ['k'],\n",
       " 'jj': ['j'],\n",
       " 'jr': ['dr'],\n",
       " 'k': ['ck'],\n",
       " 'kk': ['k'],\n",
       " 'kn': ['n'],\n",
       " 'ks': ['x'],\n",
       " 'l': ['le'],\n",
       " 'le': ['ile'],\n",
       " 'les': ['iles'],\n",
       " 'lj': ['ld'],\n",
       " 'll': ['l'],\n",
       " 'lle': ['le'],\n",
       " 'lough': ['low'],\n",
       " 'lz': ['lsh'],\n",
       " 'macher': ['maker'],\n",
       " 'mb': ['m'],\n",
       " 'mch': ['mk'],\n",
       " 'mm': ['m'],\n",
       " 'mn': ['n'],\n",
       " 'mps': ['ms'],\n",
       " 'mpt': ['mt'],\n",
       " 'mpts': ['mps'],\n",
       " 'nc': ['nk'],\n",
       " 'ned': ['nd'],\n",
       " 'ng': ['nk'],\n",
       " 'nk': ['ng'],\n",
       " 'nn': ['n'],\n",
       " 'nx': ['nks'],\n",
       " 'ochb': ['okb'],\n",
       " 'ochf': ['okf'],\n",
       " 'ochh': ['okh'],\n",
       " 'ochl': ['okl'],\n",
       " 'ochm': ['okm'],\n",
       " 'ochn': ['okn'],\n",
       " 'ochr': ['okr'],\n",
       " 'ochv': ['okv'],\n",
       " 'ochw': ['okw'],\n",
       " 'oggi': ['oki', 'oji'],\n",
       " 'oh': ['h'],\n",
       " 'oiss': ['oi'],\n",
       " 'oisz': ['oi'],\n",
       " 'oo': ['u'],\n",
       " 'orches': ['orkes'],\n",
       " 'orchid': ['orkid'],\n",
       " 'ou': ['o'],\n",
       " 'ough': ['of'],\n",
       " 'oux': ['ouks'],\n",
       " 'ow': ['o'],\n",
       " 'pb': ['p'],\n",
       " 'pf': ['f'],\n",
       " 'ph': ['f'],\n",
       " 'pn': ['n'],\n",
       " 'pp': ['p'],\n",
       " 'ps': ['s'],\n",
       " 'pt': ['t'],\n",
       " 'q': ['k', 'kw', 'kw'],\n",
       " 'qq': ['k'],\n",
       " 'r': ['ah', 'ah'],\n",
       " 're': ['ar'],\n",
       " 'rie': ['ry'],\n",
       " 'rr': ['r'],\n",
       " 'ry': ['rie'],\n",
       " 'rz': ['rsh'],\n",
       " 's': ['z', 'j', 'st'],\n",
       " 'sanjose': ['sanhose'],\n",
       " 'sc': ['sk'],\n",
       " 'sce': ['se'],\n",
       " 'sch': ['sh', 'x', 'x', 'sk', 'x'],\n",
       " 'sched': ['sked'],\n",
       " 'schem': ['skem'],\n",
       " 'schen': ['xen'],\n",
       " 'scher': ['xer'],\n",
       " 'schoo': ['skoo'],\n",
       " 'schuy': ['skuy'],\n",
       " 'sci': ['si'],\n",
       " 'scy': ['sy'],\n",
       " 'sh': ['x'],\n",
       " 'sheim': ['seim'],\n",
       " 'shoek': ['soek'],\n",
       " 'sholm': ['solm'],\n",
       " 'sholz': ['solz'],\n",
       " 'sl': ['s'],\n",
       " 'sm': ['s'],\n",
       " 'sn': ['s'],\n",
       " 'ss': ['s', 'as'],\n",
       " 'stl': ['sl', 'sl'],\n",
       " 'sugar': ['xugar'],\n",
       " 'sw': ['s'],\n",
       " 'sz': ['s', 's'],\n",
       " 't': ['d'],\n",
       " 'tch': ['ch', 'x'],\n",
       " 'td': ['t'],\n",
       " 'th': ['t'],\n",
       " 'tia': ['xia'],\n",
       " 'tion': ['xion'],\n",
       " 'tj': ['ch'],\n",
       " 'tl': ['til'],\n",
       " 'tnt': ['ent'],\n",
       " 'ts': ['t'],\n",
       " 'tsj': ['ch'],\n",
       " 'tt': ['t'],\n",
       " 'tth': ['t'],\n",
       " 'uccee': ['uksee'],\n",
       " 'ucces': ['ukses'],\n",
       " 'uchb': ['ukb'],\n",
       " 'uchf': ['ukf'],\n",
       " 'uchh': ['ukh'],\n",
       " 'uchl': ['ukl'],\n",
       " 'uchm': ['ukm'],\n",
       " 'uchn': ['ukn'],\n",
       " 'uchr': ['ukr'],\n",
       " 'uchv': ['ukv'],\n",
       " 'uchw': ['ukw'],\n",
       " 'uh': ['h'],\n",
       " 'umb': ['um'],\n",
       " 'uw': ['u'],\n",
       " 'v': ['f'],\n",
       " 'vanch': ['vank'],\n",
       " 'vonch': ['vonk'],\n",
       " 'vv': ['f', 'ff'],\n",
       " 'w': [''],\n",
       " 'wh': ['h'],\n",
       " 'wha': ['wa'],\n",
       " 'whe': ['we'],\n",
       " 'whi': ['wi'],\n",
       " 'who': ['wo'],\n",
       " 'whu': ['wu'],\n",
       " 'why': ['wy'],\n",
       " 'wicz': ['wis', 'ts'],\n",
       " 'witz': ['ts'],\n",
       " 'wr': ['r', 'r'],\n",
       " 'wsk': ['vskie', 'vskie'],\n",
       " 'wz': ['z'],\n",
       " 'x': ['', 's', 'ecs'],\n",
       " 'xc': [''],\n",
       " 'xx': [''],\n",
       " 'y': ['i'],\n",
       " 'ya': ['ia'],\n",
       " 'yh': ['h'],\n",
       " 'yj': ['y'],\n",
       " 'ysl': ['yl'],\n",
       " 'yth': ['ith'],\n",
       " 'yw': ['y'],\n",
       " 'z': ['s', 'j', 's', 'ts', 's'],\n",
       " 'zh': ['jh'],\n",
       " 'zs': ['s'],\n",
       " 'zz': ['s', 'ts'],\n",
       " 'zza': ['sa'],\n",
       " 'zzi': ['si'],\n",
       " 'zzo': ['so']}"
      ]
     },
     "execution_count": 13,
     "metadata": {},
     "output_type": "execute_result"
    }
   ],
   "source": [
    "corruption.phonetic_error_dict"
   ]
  },
  {
   "cell_type": "code",
   "execution_count": 14,
   "id": "849788c6",
   "metadata": {},
   "outputs": [
    {
     "data": {
      "text/plain": [
       "'te kuycck bron vox jums ofah te lazy dok'"
      ]
     },
     "execution_count": 14,
     "metadata": {},
     "output_type": "execute_result"
    }
   ],
   "source": [
    "corruption.phonetic_corrupt(\"the quick brown fox jumps over the lazy dog\", corrupted_pr=.5)"
   ]
  },
  {
   "cell_type": "markdown",
   "id": "3782fea7",
   "metadata": {},
   "source": [
    "# Keyboard corruption"
   ]
  },
  {
   "cell_type": "code",
   "execution_count": 16,
   "id": "9420c940",
   "metadata": {},
   "outputs": [
    {
     "data": {
      "text/html": [
       "<div>\n",
       "<style scoped>\n",
       "    .dataframe tbody tr th:only-of-type {\n",
       "        vertical-align: middle;\n",
       "    }\n",
       "\n",
       "    .dataframe tbody tr th {\n",
       "        vertical-align: top;\n",
       "    }\n",
       "\n",
       "    .dataframe thead th {\n",
       "        text-align: right;\n",
       "    }\n",
       "</style>\n",
       "<table border=\"1\" class=\"dataframe\">\n",
       "  <thead>\n",
       "    <tr style=\"text-align: right;\">\n",
       "      <th></th>\n",
       "      <th>0</th>\n",
       "      <th>1</th>\n",
       "      <th>2</th>\n",
       "      <th>3</th>\n",
       "      <th>4</th>\n",
       "      <th>5</th>\n",
       "      <th>6</th>\n",
       "      <th>7</th>\n",
       "      <th>8</th>\n",
       "      <th>9</th>\n",
       "    </tr>\n",
       "  </thead>\n",
       "  <tbody>\n",
       "    <tr>\n",
       "      <th>0</th>\n",
       "      <td>q</td>\n",
       "      <td>w</td>\n",
       "      <td>e</td>\n",
       "      <td>r</td>\n",
       "      <td>t</td>\n",
       "      <td>y</td>\n",
       "      <td>u</td>\n",
       "      <td>i</td>\n",
       "      <td>o</td>\n",
       "      <td>p</td>\n",
       "    </tr>\n",
       "    <tr>\n",
       "      <th>1</th>\n",
       "      <td>a</td>\n",
       "      <td>s</td>\n",
       "      <td>d</td>\n",
       "      <td>f</td>\n",
       "      <td>g</td>\n",
       "      <td>h</td>\n",
       "      <td>j</td>\n",
       "      <td>k</td>\n",
       "      <td>l</td>\n",
       "      <td>NaN</td>\n",
       "    </tr>\n",
       "    <tr>\n",
       "      <th>2</th>\n",
       "      <td>z</td>\n",
       "      <td>x</td>\n",
       "      <td>c</td>\n",
       "      <td>v</td>\n",
       "      <td>b</td>\n",
       "      <td>n</td>\n",
       "      <td>m</td>\n",
       "      <td>NaN</td>\n",
       "      <td>NaN</td>\n",
       "      <td>NaN</td>\n",
       "    </tr>\n",
       "    <tr>\n",
       "      <th>3</th>\n",
       "      <td>#</td>\n",
       "      <td>NaN</td>\n",
       "      <td>NaN</td>\n",
       "      <td>NaN</td>\n",
       "      <td>NaN</td>\n",
       "      <td>NaN</td>\n",
       "      <td>NaN</td>\n",
       "      <td>NaN</td>\n",
       "      <td>NaN</td>\n",
       "      <td>NaN</td>\n",
       "    </tr>\n",
       "    <tr>\n",
       "      <th>4</th>\n",
       "      <td>7</td>\n",
       "      <td>8</td>\n",
       "      <td>9</td>\n",
       "      <td>NaN</td>\n",
       "      <td>NaN</td>\n",
       "      <td>NaN</td>\n",
       "      <td>NaN</td>\n",
       "      <td>NaN</td>\n",
       "      <td>NaN</td>\n",
       "      <td>NaN</td>\n",
       "    </tr>\n",
       "    <tr>\n",
       "      <th>5</th>\n",
       "      <td>4</td>\n",
       "      <td>5</td>\n",
       "      <td>6</td>\n",
       "      <td>NaN</td>\n",
       "      <td>NaN</td>\n",
       "      <td>NaN</td>\n",
       "      <td>NaN</td>\n",
       "      <td>NaN</td>\n",
       "      <td>NaN</td>\n",
       "      <td>NaN</td>\n",
       "    </tr>\n",
       "    <tr>\n",
       "      <th>6</th>\n",
       "      <td>1</td>\n",
       "      <td>2</td>\n",
       "      <td>3</td>\n",
       "      <td>NaN</td>\n",
       "      <td>NaN</td>\n",
       "      <td>NaN</td>\n",
       "      <td>NaN</td>\n",
       "      <td>NaN</td>\n",
       "      <td>NaN</td>\n",
       "      <td>NaN</td>\n",
       "    </tr>\n",
       "  </tbody>\n",
       "</table>\n",
       "</div>"
      ],
      "text/plain": [
       "   0    1    2    3    4    5    6    7    8    9\n",
       "0  q    w    e    r    t    y    u    i    o    p\n",
       "1  a    s    d    f    g    h    j    k    l  NaN\n",
       "2  z    x    c    v    b    n    m  NaN  NaN  NaN\n",
       "3  #  NaN  NaN  NaN  NaN  NaN  NaN  NaN  NaN  NaN\n",
       "4  7    8    9  NaN  NaN  NaN  NaN  NaN  NaN  NaN\n",
       "5  4    5    6  NaN  NaN  NaN  NaN  NaN  NaN  NaN\n",
       "6  1    2    3  NaN  NaN  NaN  NaN  NaN  NaN  NaN"
      ]
     },
     "execution_count": 16,
     "metadata": {},
     "output_type": "execute_result"
    }
   ],
   "source": [
    "corruption.df_qwerty"
   ]
  },
  {
   "cell_type": "code",
   "execution_count": 28,
   "id": "fb114801",
   "metadata": {},
   "outputs": [
    {
     "data": {
      "text/plain": [
       "'nan'"
      ]
     },
     "execution_count": 28,
     "metadata": {},
     "output_type": "execute_result"
    }
   ],
   "source": [
    "str(corruption.df_qwerty.loc[3,3])"
   ]
  },
  {
   "cell_type": "code",
   "execution_count": 17,
   "id": "9304a7b0",
   "metadata": {},
   "outputs": [
    {
     "data": {
      "text/plain": [
       "{'q': ['w', 'a', 's'],\n",
       " 'w': ['q', 'e', 'a', 's', 'd'],\n",
       " 'e': ['w', 'r', 's', 'd', 'f'],\n",
       " 'r': ['e', 't', 'd', 'f', 'g'],\n",
       " 't': ['r', 'y', 'f', 'g', 'h'],\n",
       " 'y': ['t', 'u', 'g', 'h', 'j'],\n",
       " 'u': ['y', 'i', 'h', 'j', 'k'],\n",
       " 'i': ['u', 'o', 'j', 'k', 'l'],\n",
       " 'o': ['i', 'p', 'k', 'l', nan],\n",
       " 'p': ['o', 'l', nan],\n",
       " 'a': ['q', 'w', 's', 'z', 'x'],\n",
       " 's': ['q', 'w', 'e', 'a', 'd', 'z', 'x', 'c'],\n",
       " 'd': ['w', 'e', 'r', 's', 'f', 'x', 'c', 'v'],\n",
       " 'f': ['e', 'r', 't', 'd', 'g', 'c', 'v', 'b'],\n",
       " 'g': ['r', 't', 'y', 'f', 'h', 'v', 'b', 'n'],\n",
       " 'h': ['t', 'y', 'u', 'g', 'j', 'b', 'n', 'm'],\n",
       " 'j': ['y', 'u', 'i', 'h', 'k', 'n', 'm', nan],\n",
       " 'k': ['u', 'i', 'o', 'j', 'l', 'm', nan, nan],\n",
       " 'l': ['i', 'o', 'p', 'k', nan, nan, nan, nan],\n",
       " 'z': ['a', 's', 'x', nan],\n",
       " 'x': ['a', 's', 'd', 'z', 'c', nan, nan],\n",
       " 'c': ['s', 'd', 'f', 'x', 'v', nan, nan, nan],\n",
       " 'v': ['d', 'f', 'g', 'c', 'b', nan, nan, nan],\n",
       " 'b': ['f', 'g', 'h', 'v', 'n', nan, nan, nan],\n",
       " 'n': ['g', 'h', 'j', 'b', 'm', nan, nan, nan],\n",
       " 'm': ['h', 'j', 'k', 'n', nan, nan, nan, nan],\n",
       " '7': [nan, '8', '4', '5'],\n",
       " '8': [nan, nan, '7', '9', '4', '5', '6'],\n",
       " '9': [nan, nan, nan, '8', nan, '5', '6', nan],\n",
       " '4': ['7', '8', '5', '1', '2'],\n",
       " '5': ['7', '8', '9', '4', '6', '1', '2', '3'],\n",
       " '6': ['8', '9', nan, '5', nan, '2', '3', nan],\n",
       " '1': ['4', '5', '2'],\n",
       " '2': ['4', '5', '6', '1', '3'],\n",
       " '3': ['5', '6', nan, '2', nan]}"
      ]
     },
     "execution_count": 17,
     "metadata": {},
     "output_type": "execute_result"
    }
   ],
   "source": [
    "corruption.qwerty_error_dict"
   ]
  },
  {
   "cell_type": "code",
   "execution_count": 34,
   "id": "26a1aa2e",
   "metadata": {},
   "outputs": [
    {
     "data": {
      "text/plain": [
       "[str, str, str, str, str, float, float]"
      ]
     },
     "execution_count": 34,
     "metadata": {},
     "output_type": "execute_result"
    }
   ],
   "source": [
    "# nan's are stored as floats in the dictionary\n",
    "list(map(type, corruption.qwerty_error_dict['x']))"
   ]
  },
  {
   "cell_type": "code",
   "execution_count": 30,
   "id": "28ba4a46",
   "metadata": {},
   "outputs": [
    {
     "data": {
      "text/plain": [
       "'the quicjk brown fox jumps ovwr thwe nanlazgy sog'"
      ]
     },
     "execution_count": 30,
     "metadata": {},
     "output_type": "execute_result"
    }
   ],
   "source": [
    "# Note that sometimes letters get replaced with 'nan' because of the NaNs in the dict\n",
    "corruption.keyboard_corrupt(\n",
    "    \"the quick brown fox jumps over the lazy dog\", corrupted_pr=.1, addl_pr=.9)"
   ]
  },
  {
   "cell_type": "code",
   "execution_count": 32,
   "id": "7c078de1",
   "metadata": {},
   "outputs": [
    {
     "data": {
      "text/plain": [
       "'the quicm brown fox jumpc over the lazy dog'"
      ]
     },
     "execution_count": 32,
     "metadata": {},
     "output_type": "execute_result"
    }
   ],
   "source": [
    "corruption.keyboard_corrupt(\n",
    "    \"the quick brown fox jumps over the lazy dog\", corrupted_pr=.2, addl_pr=.1)"
   ]
  },
  {
   "cell_type": "code",
   "execution_count": 35,
   "id": "6499b020",
   "metadata": {},
   "outputs": [
    {
     "data": {
      "text/plain": [
       "'rtjhwe aqukifck nanbfroawn vfozx mjumpas ogvdedr gtthse iazu wdoyg'"
      ]
     },
     "execution_count": 35,
     "metadata": {},
     "output_type": "execute_result"
    }
   ],
   "source": [
    "# Note that sometimes letters get replaced with 'nan' because of the NaNs in the dict\n",
    "corruption.keyboard_corrupt(\n",
    "    \"the quick brown fox jumps over the lazy dog\", corrupted_pr=.9, addl_pr=.9)"
   ]
  },
  {
   "cell_type": "code",
   "execution_count": null,
   "id": "ea397365",
   "metadata": {},
   "outputs": [],
   "source": []
  }
 ],
 "metadata": {
  "kernelspec": {
   "display_name": "Python 3 (ipykernel)",
   "language": "python",
   "name": "python3"
  },
  "language_info": {
   "codemirror_mode": {
    "name": "ipython",
    "version": 3
   },
   "file_extension": ".py",
   "mimetype": "text/x-python",
   "name": "python",
   "nbconvert_exporter": "python",
   "pygments_lexer": "ipython3",
   "version": "3.8.13"
  }
 },
 "nbformat": 4,
 "nbformat_minor": 5
}
