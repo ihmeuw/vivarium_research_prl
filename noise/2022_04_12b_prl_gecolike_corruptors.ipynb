{
 "cells": [
  {
   "cell_type": "code",
   "execution_count": 1,
   "metadata": {},
   "outputs": [
    {
     "name": "stdout",
     "output_type": "stream",
     "text": [
      "Tue Apr 12 19:49:44 PDT 2022\r\n"
     ]
    }
   ],
   "source": [
    "import numpy as np, matplotlib.pyplot as plt, pandas as pd\n",
    "pd.set_option('display.max_rows', 8)\n",
    "!date\n",
    "\n",
    "%load_ext autoreload\n",
    "%autoreload 2"
   ]
  },
  {
   "cell_type": "markdown",
   "metadata": {},
   "source": [
    "# Reproduce data corruption like GeCO\n",
    "\n",
    "Informed by reading https://dmm.anu.edu.au/geco/flex-data-gen-manual.pdf but not looking at the sourcecode, since it might be in conflict with the license we end up using for this sim.\n"
   ]
  },
  {
   "cell_type": "code",
   "execution_count": 2,
   "metadata": {},
   "outputs": [
    {
     "name": "stdout",
     "output_type": "stream",
     "text": [
      "/ihme/homes/abie/projects/2022/geco-data-generator-corruptor/lookup-files\n"
     ]
    }
   ],
   "source": [
    "%cd ~/projects/2022/geco-data-generator-corruptor/lookup-files/\n",
    "# !ls -halt"
   ]
  },
  {
   "cell_type": "code",
   "execution_count": 3,
   "metadata": {},
   "outputs": [
    {
     "data": {
      "text/plain": [
       "1    34\n",
       "2    13\n",
       "3     2\n",
       "Name: ocr_true, dtype: int64"
      ]
     },
     "execution_count": 3,
     "metadata": {},
     "output_type": "execute_result"
    }
   ],
   "source": [
    "df_ocr = pd.read_csv('ocr-variations-upper-lower.csv', skiprows=[0,1], header=None, names=['ocr_true', 'ocr_err'])\n",
    "df_ocr.ocr_true.map(len).value_counts() # how many characters in the true string?"
   ]
  },
  {
   "cell_type": "markdown",
   "metadata": {},
   "source": [
    "# Algorithm sketch\n",
    "\n",
    "For each token decide if it is OCRed correctly, and if it is not, decide how it goes wrong.\n",
    "\n",
    "Since there are tokens of length 1, 2, and 3, how to handle?  I guess I can start with threes, then twos, then ones, for each location in a string."
   ]
  },
  {
   "cell_type": "code",
   "execution_count": 7,
   "metadata": {},
   "outputs": [],
   "source": [
    "ocr_error_dict = {}\n",
    "for k, df_k in df_ocr.groupby('ocr_true'):\n",
    "    ocr_error_dict[k] = list(df_k.ocr_err)"
   ]
  },
  {
   "cell_type": "code",
   "execution_count": 62,
   "metadata": {},
   "outputs": [
    {
     "data": {
      "text/plain": [
       "\"tbe 4u'lclc brovvn fox jurnps over the |azy doq\""
      ]
     },
     "execution_count": 62,
     "metadata": {},
     "output_type": "execute_result"
    }
   ],
   "source": [
    "def ocr_corrupt(truth, corrupted_pr):\n",
    "    err = ''\n",
    "    i = 0\n",
    "    while i < len(truth):\n",
    "        error_introduced = False\n",
    "        for token_length in [3,2,1]:\n",
    "            token = truth[i:(i+token_length)]\n",
    "            if token in ocr_error_dict and not error_introduced:\n",
    "                if np.random.uniform() < corrupted_pr:\n",
    "                    err += np.random.choice(ocr_error_dict[token])\n",
    "                    i += token_length\n",
    "                    error_introduced = True\n",
    "        if not error_introduced:\n",
    "            err += truth[i:(i+1)]\n",
    "            i += 1\n",
    "    return err\n",
    "\n",
    "ocr_corrupt(\"the quick brown fox jumps over the lazy dog\", corrupted_pr=.5)"
   ]
  },
  {
   "cell_type": "markdown",
   "metadata": {},
   "source": [
    "# Hardest one: phonetic corruption\n",
    "\n",
    "This includes an undocumented microlanguage, with commands like `n;-1;t` to mean no using this rule if the character before it is a t."
   ]
  },
  {
   "cell_type": "code",
   "execution_count": 64,
   "metadata": {},
   "outputs": [
    {
     "data": {
      "text/html": [
       "<div>\n",
       "<style scoped>\n",
       "    .dataframe tbody tr th:only-of-type {\n",
       "        vertical-align: middle;\n",
       "    }\n",
       "\n",
       "    .dataframe tbody tr th {\n",
       "        vertical-align: top;\n",
       "    }\n",
       "\n",
       "    .dataframe thead th {\n",
       "        text-align: right;\n",
       "    }\n",
       "</style>\n",
       "<table border=\"1\" class=\"dataframe\">\n",
       "  <thead>\n",
       "    <tr style=\"text-align: right;\">\n",
       "      <th></th>\n",
       "      <th>where</th>\n",
       "      <th>orig</th>\n",
       "      <th>new</th>\n",
       "      <th>pre</th>\n",
       "      <th>post</th>\n",
       "      <th>pattern</th>\n",
       "      <th>start</th>\n",
       "    </tr>\n",
       "  </thead>\n",
       "  <tbody>\n",
       "    <tr>\n",
       "      <th>0</th>\n",
       "      <td>ALL</td>\n",
       "      <td>h</td>\n",
       "      <td>@</td>\n",
       "      <td>None</td>\n",
       "      <td>None</td>\n",
       "      <td>None</td>\n",
       "      <td>None</td>\n",
       "    </tr>\n",
       "    <tr>\n",
       "      <th>1</th>\n",
       "      <td>END</td>\n",
       "      <td>e</td>\n",
       "      <td>@</td>\n",
       "      <td>None</td>\n",
       "      <td>None</td>\n",
       "      <td>None</td>\n",
       "      <td>None</td>\n",
       "    </tr>\n",
       "    <tr>\n",
       "      <th>2</th>\n",
       "      <td>ALL</td>\n",
       "      <td>t</td>\n",
       "      <td>d</td>\n",
       "      <td>None</td>\n",
       "      <td>None</td>\n",
       "      <td>None</td>\n",
       "      <td>None</td>\n",
       "    </tr>\n",
       "    <tr>\n",
       "      <th>3</th>\n",
       "      <td>ALL</td>\n",
       "      <td>d</td>\n",
       "      <td>t</td>\n",
       "      <td>None</td>\n",
       "      <td>None</td>\n",
       "      <td>None</td>\n",
       "      <td>None</td>\n",
       "    </tr>\n",
       "    <tr>\n",
       "      <th>...</th>\n",
       "      <td>...</td>\n",
       "      <td>...</td>\n",
       "      <td>...</td>\n",
       "      <td>...</td>\n",
       "      <td>...</td>\n",
       "      <td>...</td>\n",
       "      <td>...</td>\n",
       "    </tr>\n",
       "    <tr>\n",
       "      <th>352</th>\n",
       "      <td>MIDDLE</td>\n",
       "      <td>z</td>\n",
       "      <td>s</td>\n",
       "      <td>n;-1;t</td>\n",
       "      <td>None</td>\n",
       "      <td>y;slavo</td>\n",
       "      <td>None</td>\n",
       "    </tr>\n",
       "    <tr>\n",
       "      <th>353</th>\n",
       "      <td>MIDDLE</td>\n",
       "      <td>ks</td>\n",
       "      <td>x</td>\n",
       "      <td>None</td>\n",
       "      <td>None</td>\n",
       "      <td>None</td>\n",
       "      <td>None</td>\n",
       "    </tr>\n",
       "    <tr>\n",
       "      <th>354</th>\n",
       "      <td>MIDDLE</td>\n",
       "      <td>cks</td>\n",
       "      <td>x</td>\n",
       "      <td>y;-1;a;i;u;e;o</td>\n",
       "      <td>None</td>\n",
       "      <td>None</td>\n",
       "      <td>None</td>\n",
       "    </tr>\n",
       "    <tr>\n",
       "      <th>355</th>\n",
       "      <td>END</td>\n",
       "      <td>l</td>\n",
       "      <td>le</td>\n",
       "      <td>y;-1;ai</td>\n",
       "      <td>None</td>\n",
       "      <td>None</td>\n",
       "      <td>None</td>\n",
       "    </tr>\n",
       "  </tbody>\n",
       "</table>\n",
       "<p>356 rows × 7 columns</p>\n",
       "</div>"
      ],
      "text/plain": [
       "      where orig new             pre  post  pattern start\n",
       "0       ALL    h   @            None  None     None  None\n",
       "1       END    e   @            None  None     None  None\n",
       "2       ALL    t   d            None  None     None  None\n",
       "3       ALL    d   t            None  None     None  None\n",
       "..      ...  ...  ..             ...   ...      ...   ...\n",
       "352  MIDDLE    z   s          n;-1;t  None  y;slavo  None\n",
       "353  MIDDLE   ks   x            None  None     None  None\n",
       "354  MIDDLE  cks   x  y;-1;a;i;u;e;o  None     None  None\n",
       "355     END    l  le         y;-1;ai  None     None  None\n",
       "\n",
       "[356 rows x 7 columns]"
      ]
     },
     "execution_count": 64,
     "metadata": {},
     "output_type": "execute_result"
    }
   ],
   "source": [
    "df_phonetic = pd.read_csv('phonetic-variations.csv', skiprows=[0,1], header=None,\n",
    "                          names=['where', 'orig', 'new', 'pre', 'post', 'pattern', 'start'])\n",
    "df_phonetic"
   ]
  },
  {
   "cell_type": "code",
   "execution_count": 66,
   "metadata": {},
   "outputs": [
    {
     "data": {
      "text/plain": [
       "2    144\n",
       "3     82\n",
       "4     71\n",
       "1     33\n",
       "5     17\n",
       "6      8\n",
       "7      1\n",
       "Name: orig, dtype: int64"
      ]
     },
     "execution_count": 66,
     "metadata": {},
     "output_type": "execute_result"
    }
   ],
   "source": [
    "df_phonetic.orig.map(len).value_counts()"
   ]
  },
  {
   "cell_type": "code",
   "execution_count": 65,
   "metadata": {},
   "outputs": [],
   "source": [
    "phonetic_error_dict = {}\n",
    "for k, df_k in df_phonetic.groupby('orig'):\n",
    "    phonetic_error_dict[k] = list(df_k.new.str.replace('@', ''))"
   ]
  },
  {
   "cell_type": "code",
   "execution_count": 77,
   "metadata": {},
   "outputs": [
    {
     "data": {
      "text/plain": [
       "'dhe kwuyk bahon fox jumps ovah dh lazi dok'"
      ]
     },
     "execution_count": 77,
     "metadata": {},
     "output_type": "execute_result"
    }
   ],
   "source": [
    "def phonetic_corrupt(truth, corrupted_pr):\n",
    "    err = ''\n",
    "    i = 0\n",
    "    while i < len(truth):\n",
    "        error_introduced = False\n",
    "        for token_length in [7,6,5,4,3,2,1]:\n",
    "            token = truth[i:(i+token_length)]\n",
    "            if token in phonetic_error_dict and not error_introduced:\n",
    "                if np.random.uniform() < corrupted_pr:\n",
    "                    err += np.random.choice(phonetic_error_dict[token]) # TODO: only consider possibilities allowed by where, pre, post, pattern, and start values\n",
    "                    i += token_length\n",
    "                    error_introduced = True\n",
    "        if not error_introduced:\n",
    "            err += truth[i:(i+1)]\n",
    "            i += 1\n",
    "    return err\n",
    "\n",
    "phonetic_corrupt(\"the quick brown fox jumps over the lazy dog\", corrupted_pr=.5)"
   ]
  },
  {
   "cell_type": "code",
   "execution_count": 82,
   "metadata": {},
   "outputs": [
    {
     "data": {
      "text/html": [
       "<div>\n",
       "<style scoped>\n",
       "    .dataframe tbody tr th:only-of-type {\n",
       "        vertical-align: middle;\n",
       "    }\n",
       "\n",
       "    .dataframe tbody tr th {\n",
       "        vertical-align: top;\n",
       "    }\n",
       "\n",
       "    .dataframe thead th {\n",
       "        text-align: right;\n",
       "    }\n",
       "</style>\n",
       "<table border=\"1\" class=\"dataframe\">\n",
       "  <thead>\n",
       "    <tr style=\"text-align: right;\">\n",
       "      <th></th>\n",
       "      <th>0</th>\n",
       "      <th>1</th>\n",
       "      <th>2</th>\n",
       "      <th>3</th>\n",
       "      <th>4</th>\n",
       "      <th>5</th>\n",
       "      <th>6</th>\n",
       "      <th>7</th>\n",
       "      <th>8</th>\n",
       "      <th>9</th>\n",
       "    </tr>\n",
       "  </thead>\n",
       "  <tbody>\n",
       "    <tr>\n",
       "      <th>0</th>\n",
       "      <td>q</td>\n",
       "      <td>w</td>\n",
       "      <td>e</td>\n",
       "      <td>r</td>\n",
       "      <td>t</td>\n",
       "      <td>y</td>\n",
       "      <td>u</td>\n",
       "      <td>i</td>\n",
       "      <td>o</td>\n",
       "      <td>p</td>\n",
       "    </tr>\n",
       "    <tr>\n",
       "      <th>1</th>\n",
       "      <td>a</td>\n",
       "      <td>s</td>\n",
       "      <td>d</td>\n",
       "      <td>f</td>\n",
       "      <td>g</td>\n",
       "      <td>h</td>\n",
       "      <td>j</td>\n",
       "      <td>k</td>\n",
       "      <td>l</td>\n",
       "      <td>NaN</td>\n",
       "    </tr>\n",
       "    <tr>\n",
       "      <th>2</th>\n",
       "      <td>z</td>\n",
       "      <td>x</td>\n",
       "      <td>c</td>\n",
       "      <td>v</td>\n",
       "      <td>b</td>\n",
       "      <td>n</td>\n",
       "      <td>m</td>\n",
       "      <td>NaN</td>\n",
       "      <td>NaN</td>\n",
       "      <td>NaN</td>\n",
       "    </tr>\n",
       "    <tr>\n",
       "      <th>3</th>\n",
       "      <td>#</td>\n",
       "      <td>NaN</td>\n",
       "      <td>NaN</td>\n",
       "      <td>NaN</td>\n",
       "      <td>NaN</td>\n",
       "      <td>NaN</td>\n",
       "      <td>NaN</td>\n",
       "      <td>NaN</td>\n",
       "      <td>NaN</td>\n",
       "      <td>NaN</td>\n",
       "    </tr>\n",
       "    <tr>\n",
       "      <th>4</th>\n",
       "      <td>7</td>\n",
       "      <td>8</td>\n",
       "      <td>9</td>\n",
       "      <td>NaN</td>\n",
       "      <td>NaN</td>\n",
       "      <td>NaN</td>\n",
       "      <td>NaN</td>\n",
       "      <td>NaN</td>\n",
       "      <td>NaN</td>\n",
       "      <td>NaN</td>\n",
       "    </tr>\n",
       "    <tr>\n",
       "      <th>5</th>\n",
       "      <td>4</td>\n",
       "      <td>5</td>\n",
       "      <td>6</td>\n",
       "      <td>NaN</td>\n",
       "      <td>NaN</td>\n",
       "      <td>NaN</td>\n",
       "      <td>NaN</td>\n",
       "      <td>NaN</td>\n",
       "      <td>NaN</td>\n",
       "      <td>NaN</td>\n",
       "    </tr>\n",
       "    <tr>\n",
       "      <th>6</th>\n",
       "      <td>1</td>\n",
       "      <td>2</td>\n",
       "      <td>3</td>\n",
       "      <td>NaN</td>\n",
       "      <td>NaN</td>\n",
       "      <td>NaN</td>\n",
       "      <td>NaN</td>\n",
       "      <td>NaN</td>\n",
       "      <td>NaN</td>\n",
       "      <td>NaN</td>\n",
       "    </tr>\n",
       "  </tbody>\n",
       "</table>\n",
       "</div>"
      ],
      "text/plain": [
       "   0    1    2    3    4    5    6    7    8    9\n",
       "0  q    w    e    r    t    y    u    i    o    p\n",
       "1  a    s    d    f    g    h    j    k    l  NaN\n",
       "2  z    x    c    v    b    n    m  NaN  NaN  NaN\n",
       "3  #  NaN  NaN  NaN  NaN  NaN  NaN  NaN  NaN  NaN\n",
       "4  7    8    9  NaN  NaN  NaN  NaN  NaN  NaN  NaN\n",
       "5  4    5    6  NaN  NaN  NaN  NaN  NaN  NaN  NaN\n",
       "6  1    2    3  NaN  NaN  NaN  NaN  NaN  NaN  NaN"
      ]
     },
     "execution_count": 82,
     "metadata": {},
     "output_type": "execute_result"
    }
   ],
   "source": [
    "df_qwerty = pd.read_csv('qwerty-keyboard.csv', skiprows=[0,1], header=None)\n",
    "df_qwerty"
   ]
  },
  {
   "cell_type": "code",
   "execution_count": 90,
   "metadata": {},
   "outputs": [],
   "source": [
    "qwerty_error_dict = {}\n",
    "for i in df_qwerty.index:\n",
    "    for j in df_qwerty.columns:\n",
    "        val = df_qwerty.loc[i,j]\n",
    "        if str(val) != 'nan' and val != '#':\n",
    "            nbrs = []\n",
    "            for di in [-1,0,1]:\n",
    "                for dj in [-1,0,1]:\n",
    "                    if di != 0 or dj != 0: # only actual nbrs, not val itself\n",
    "                        if i+di in df_qwerty.index and j+dj in df_qwerty.columns:\n",
    "                            nbr_val = df_qwerty.loc[i+di, j+dj]\n",
    "                            if nbr_val != '#':\n",
    "                                nbrs.append(nbr_val)\n",
    "            qwerty_error_dict[val] = nbrs"
   ]
  },
  {
   "cell_type": "code",
   "execution_count": 92,
   "metadata": {},
   "outputs": [
    {
     "data": {
      "text/plain": [
       "'the quick brown fox jumps ovedr tuhe lazy dog'"
      ]
     },
     "execution_count": 92,
     "metadata": {},
     "output_type": "execute_result"
    }
   ],
   "source": [
    "def keyboard_corrupt(truth, corrupted_pr, addl_pr):\n",
    "    err = ''\n",
    "    i = 0\n",
    "    while i < len(truth):\n",
    "        error_introduced = False\n",
    "        for token_length in [1]:\n",
    "            token = truth[i:(i+token_length)]\n",
    "            if token in phonetic_error_dict and not error_introduced:\n",
    "                if np.random.uniform() < corrupted_pr:\n",
    "                    err += np.random.choice(qwerty_error_dict[token])\n",
    "                    if np.random.uniform() < addl_pr:\n",
    "                        err += token\n",
    "                    i += token_length\n",
    "                    error_introduced = True\n",
    "        if not error_introduced:\n",
    "            err += truth[i:(i+1)]\n",
    "            i += 1\n",
    "    return err\n",
    "\n",
    "keyboard_corrupt(\"the quick brown fox jumps over the lazy dog\", corrupted_pr=.1, addl_pr=.9)"
   ]
  },
  {
   "cell_type": "code",
   "execution_count": null,
   "metadata": {},
   "outputs": [],
   "source": []
  }
 ],
 "metadata": {
  "kernelspec": {
   "display_name": "base",
   "language": "python",
   "name": "base"
  },
  "language_info": {
   "codemirror_mode": {
    "name": "ipython",
    "version": 3
   },
   "file_extension": ".py",
   "mimetype": "text/x-python",
   "name": "python",
   "nbconvert_exporter": "python",
   "pygments_lexer": "ipython3",
   "version": "3.7.12"
  }
 },
 "nbformat": 4,
 "nbformat_minor": 2
}
