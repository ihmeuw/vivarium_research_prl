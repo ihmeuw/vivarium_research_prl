{
 "cells": [
  {
   "cell_type": "code",
   "execution_count": 1,
   "id": "ebb4d107-21ce-4a0a-af23-1aff7e2c6b3a",
   "metadata": {},
   "outputs": [
    {
     "name": "stdout",
     "output_type": "stream",
     "text": [
      "Thu Mar 23 12:49:08 PDT 2023\n"
     ]
    }
   ],
   "source": [
    "import numpy as np, matplotlib.pyplot as plt, pandas as pd\n",
    "pd.set_option('display.max_rows', 8)\n",
    "!date"
   ]
  },
  {
   "cell_type": "code",
   "execution_count": 2,
   "id": "3590cd69-934f-416e-9925-23ac77d5b0aa",
   "metadata": {},
   "outputs": [],
   "source": [
    "# from vivarium_research_prl import datatypes"
   ]
  },
  {
   "cell_type": "markdown",
   "id": "c57e2f83-698b-452b-897b-e6acc355c033",
   "metadata": {},
   "source": [
    "# PRL V&V - Decennial Census Observer\n",
    "Systematic validation"
   ]
  },
  {
   "cell_type": "code",
   "execution_count": 3,
   "id": "34d17db1-1d09-46c9-9464-42942416f530",
   "metadata": {},
   "outputs": [
    {
     "name": "stdout",
     "output_type": "stream",
     "text": [
      "/mnt/team/simulation_science/priv/engineering/vivarium_census_prl_synth_pop/results/vv_tax_observers/united_states_of_america/2023_03_06_12_42_55/final_results/2023_03_14_16_41_22\n",
      "total 14G\n",
      "drwxrwsr-x  2 albrja IHME-Simulationscience 4.0K Mar 22 16:44 .\n",
      "-rw-r--r--  1 albrja IHME-Simulationscience  59M Mar 15 10:01 wic_observer.csv.bz2\n",
      "-rw-r--r--  1 albrja IHME-Simulationscience 1.5G Mar 15 10:01 tax_dependents_observer.csv.bz2\n",
      "-rw-r--r--  1 albrja IHME-Simulationscience 6.8G Mar 15 09:57 tax_w2_observer.csv.bz2\n",
      "-rw-r--r--  1 albrja IHME-Simulationscience 4.1G Mar 15 09:56 tax_1040_observer.csv.bz2\n",
      "-rw-r--r--  1 albrja IHME-Simulationscience 192M Mar 15 09:48 social_security_observer.csv.bz2\n",
      "-rw-r--r--  1 albrja IHME-Simulationscience  35M Mar 15 09:36 household_survey_observer_cps.csv.bz2\n",
      "-rw-r--r--  1 albrja IHME-Simulationscience 6.7M Mar 15 09:36 household_survey_observer_acs.csv.bz2\n",
      "-rw-r--r--  1 albrja IHME-Simulationscience 638M Mar 15 09:36 decennial_census_observer.csv.bz2\n",
      "drwxrwsr-x 12 albrja IHME-Simulationscience 5.5K Mar 14 20:25 ..\n"
     ]
    }
   ],
   "source": [
    "%cd /mnt/team/simulation_science/priv/engineering/vivarium_census_prl_synth_pop/results/vv_tax_observers/united_states_of_america/2023_03_06_12_42_55/final_results/2023_03_14_16_41_22\n",
    "!ls -halt"
   ]
  },
  {
   "cell_type": "code",
   "execution_count": 41,
   "id": "4322d8c4-6581-4f59-a4e2-741d8cde5247",
   "metadata": {},
   "outputs": [
    {
     "name": "stdout",
     "output_type": "stream",
     "text": [
      "CPU times: user 1min 34s, sys: 6.08 s, total: 1min 40s\n",
      "Wall time: 1min 40s\n"
     ]
    }
   ],
   "source": [
    "%%time\n",
    "\n",
    "df = pd.read_csv('decennial_census_observer.csv.bz2', low_memory=False, #dtype='category',\n",
    "                 nrows=10_000_000\n",
    "                )"
   ]
  },
  {
   "cell_type": "code",
   "execution_count": 42,
   "id": "d2e0b37d-aa77-43b1-806c-fdfcf1af4e85",
   "metadata": {},
   "outputs": [
    {
     "data": {
      "text/html": [
       "<div>\n",
       "<style scoped>\n",
       "    .dataframe tbody tr th:only-of-type {\n",
       "        vertical-align: middle;\n",
       "    }\n",
       "\n",
       "    .dataframe tbody tr th {\n",
       "        vertical-align: top;\n",
       "    }\n",
       "\n",
       "    .dataframe thead th {\n",
       "        text-align: right;\n",
       "    }\n",
       "</style>\n",
       "<table border=\"1\" class=\"dataframe\">\n",
       "  <thead>\n",
       "    <tr style=\"text-align: right;\">\n",
       "      <th></th>\n",
       "      <th>middle_initial</th>\n",
       "      <th>census_year</th>\n",
       "      <th>zipcode</th>\n",
       "      <th>housing_type</th>\n",
       "      <th>simulant_id</th>\n",
       "      <th>guardian_1</th>\n",
       "      <th>race_ethnicity</th>\n",
       "      <th>date_of_birth</th>\n",
       "      <th>last_name</th>\n",
       "      <th>first_name</th>\n",
       "      <th>age</th>\n",
       "      <th>street_name</th>\n",
       "      <th>city</th>\n",
       "      <th>guardian_2</th>\n",
       "      <th>relation_to_household_head</th>\n",
       "      <th>sex</th>\n",
       "      <th>unit_number</th>\n",
       "      <th>street_number</th>\n",
       "      <th>state</th>\n",
       "    </tr>\n",
       "  </thead>\n",
       "  <tbody>\n",
       "    <tr>\n",
       "      <th>0</th>\n",
       "      <td>M</td>\n",
       "      <td>2020</td>\n",
       "      <td>77566.0</td>\n",
       "      <td>Standard</td>\n",
       "      <td>2284_0</td>\n",
       "      <td>2284_-1</td>\n",
       "      <td>Latino</td>\n",
       "      <td>1982-02-09</td>\n",
       "      <td>Ticas</td>\n",
       "      <td>Michael</td>\n",
       "      <td>38.141742</td>\n",
       "      <td>adams st</td>\n",
       "      <td>sour lake</td>\n",
       "      <td>2284_-1</td>\n",
       "      <td>Reference person</td>\n",
       "      <td>Male</td>\n",
       "      <td>NaN</td>\n",
       "      <td>7136</td>\n",
       "      <td>TX</td>\n",
       "    </tr>\n",
       "    <tr>\n",
       "      <th>1</th>\n",
       "      <td>M</td>\n",
       "      <td>2020</td>\n",
       "      <td>77566.0</td>\n",
       "      <td>Standard</td>\n",
       "      <td>2284_1</td>\n",
       "      <td>2284_-1</td>\n",
       "      <td>Latino</td>\n",
       "      <td>1983-09-02</td>\n",
       "      <td>Ticas</td>\n",
       "      <td>Melissa</td>\n",
       "      <td>36.580000</td>\n",
       "      <td>adams st</td>\n",
       "      <td>sour lake</td>\n",
       "      <td>2284_-1</td>\n",
       "      <td>Opp-sex spouse</td>\n",
       "      <td>Female</td>\n",
       "      <td>NaN</td>\n",
       "      <td>7136</td>\n",
       "      <td>TX</td>\n",
       "    </tr>\n",
       "    <tr>\n",
       "      <th>2</th>\n",
       "      <td>L</td>\n",
       "      <td>2020</td>\n",
       "      <td>77566.0</td>\n",
       "      <td>Standard</td>\n",
       "      <td>2284_2</td>\n",
       "      <td>2284_0</td>\n",
       "      <td>Latino</td>\n",
       "      <td>2007-10-04</td>\n",
       "      <td>Ticas</td>\n",
       "      <td>Martin</td>\n",
       "      <td>12.492590</td>\n",
       "      <td>adams st</td>\n",
       "      <td>sour lake</td>\n",
       "      <td>2284_1</td>\n",
       "      <td>Biological child</td>\n",
       "      <td>Male</td>\n",
       "      <td>NaN</td>\n",
       "      <td>7136</td>\n",
       "      <td>TX</td>\n",
       "    </tr>\n",
       "    <tr>\n",
       "      <th>3</th>\n",
       "      <td>L</td>\n",
       "      <td>2020</td>\n",
       "      <td>77566.0</td>\n",
       "      <td>Standard</td>\n",
       "      <td>2284_3</td>\n",
       "      <td>2284_0</td>\n",
       "      <td>Latino</td>\n",
       "      <td>2011-11-09</td>\n",
       "      <td>Ticas</td>\n",
       "      <td>Maya</td>\n",
       "      <td>8.392918</td>\n",
       "      <td>adams st</td>\n",
       "      <td>sour lake</td>\n",
       "      <td>2284_1</td>\n",
       "      <td>Biological child</td>\n",
       "      <td>Female</td>\n",
       "      <td>NaN</td>\n",
       "      <td>7136</td>\n",
       "      <td>TX</td>\n",
       "    </tr>\n",
       "    <tr>\n",
       "      <th>...</th>\n",
       "      <td>...</td>\n",
       "      <td>...</td>\n",
       "      <td>...</td>\n",
       "      <td>...</td>\n",
       "      <td>...</td>\n",
       "      <td>...</td>\n",
       "      <td>...</td>\n",
       "      <td>...</td>\n",
       "      <td>...</td>\n",
       "      <td>...</td>\n",
       "      <td>...</td>\n",
       "      <td>...</td>\n",
       "      <td>...</td>\n",
       "      <td>...</td>\n",
       "      <td>...</td>\n",
       "      <td>...</td>\n",
       "      <td>...</td>\n",
       "      <td>...</td>\n",
       "      <td>...</td>\n",
       "    </tr>\n",
       "    <tr>\n",
       "      <th>9999996</th>\n",
       "      <td>N</td>\n",
       "      <td>2030</td>\n",
       "      <td>36207.0</td>\n",
       "      <td>Standard</td>\n",
       "      <td>4344_856982</td>\n",
       "      <td>4344_856980</td>\n",
       "      <td>Black</td>\n",
       "      <td>2006-05-22</td>\n",
       "      <td>Eanes</td>\n",
       "      <td>Ayden</td>\n",
       "      <td>23.826587</td>\n",
       "      <td>n vail ave</td>\n",
       "      <td>birmingham</td>\n",
       "      <td>4344_856981</td>\n",
       "      <td>Reference person</td>\n",
       "      <td>Male</td>\n",
       "      <td>NaN</td>\n",
       "      <td>217</td>\n",
       "      <td>AL</td>\n",
       "    </tr>\n",
       "    <tr>\n",
       "      <th>9999997</th>\n",
       "      <td>F</td>\n",
       "      <td>2030</td>\n",
       "      <td>80017.0</td>\n",
       "      <td>Standard</td>\n",
       "      <td>4344_856984</td>\n",
       "      <td>4344_-1</td>\n",
       "      <td>White</td>\n",
       "      <td>1947-12-27</td>\n",
       "      <td>Smith</td>\n",
       "      <td>Jenny</td>\n",
       "      <td>82.229716</td>\n",
       "      <td>dunlavin gln rd</td>\n",
       "      <td>dumont</td>\n",
       "      <td>4344_-1</td>\n",
       "      <td>Reference person</td>\n",
       "      <td>Female</td>\n",
       "      <td>NaN</td>\n",
       "      <td>206</td>\n",
       "      <td>CO</td>\n",
       "    </tr>\n",
       "    <tr>\n",
       "      <th>9999998</th>\n",
       "      <td>R</td>\n",
       "      <td>2030</td>\n",
       "      <td>34953.0</td>\n",
       "      <td>Standard</td>\n",
       "      <td>4344_856985</td>\n",
       "      <td>4344_-1</td>\n",
       "      <td>White</td>\n",
       "      <td>1955-03-08</td>\n",
       "      <td>Supeck</td>\n",
       "      <td>Betty</td>\n",
       "      <td>75.034620</td>\n",
       "      <td>tranquilla dr</td>\n",
       "      <td>pensacola</td>\n",
       "      <td>4344_-1</td>\n",
       "      <td>Reference person</td>\n",
       "      <td>Female</td>\n",
       "      <td>NaN</td>\n",
       "      <td>343</td>\n",
       "      <td>FL</td>\n",
       "    </tr>\n",
       "    <tr>\n",
       "      <th>9999999</th>\n",
       "      <td>D</td>\n",
       "      <td>2030</td>\n",
       "      <td>68333.0</td>\n",
       "      <td>Standard</td>\n",
       "      <td>4344_856986</td>\n",
       "      <td>4344_-1</td>\n",
       "      <td>Black</td>\n",
       "      <td>1959-01-09</td>\n",
       "      <td>Supeck</td>\n",
       "      <td>Ed</td>\n",
       "      <td>71.193217</td>\n",
       "      <td>stillwell avenue</td>\n",
       "      <td>gretna</td>\n",
       "      <td>4344_-1</td>\n",
       "      <td>Reference person</td>\n",
       "      <td>Male</td>\n",
       "      <td>NaN</td>\n",
       "      <td>233</td>\n",
       "      <td>NE</td>\n",
       "    </tr>\n",
       "  </tbody>\n",
       "</table>\n",
       "<p>10000000 rows × 19 columns</p>\n",
       "</div>"
      ],
      "text/plain": [
       "        middle_initial  census_year  zipcode housing_type  simulant_id  \\\n",
       "0                    M         2020  77566.0     Standard       2284_0   \n",
       "1                    M         2020  77566.0     Standard       2284_1   \n",
       "2                    L         2020  77566.0     Standard       2284_2   \n",
       "3                    L         2020  77566.0     Standard       2284_3   \n",
       "...                ...          ...      ...          ...          ...   \n",
       "9999996              N         2030  36207.0     Standard  4344_856982   \n",
       "9999997              F         2030  80017.0     Standard  4344_856984   \n",
       "9999998              R         2030  34953.0     Standard  4344_856985   \n",
       "9999999              D         2030  68333.0     Standard  4344_856986   \n",
       "\n",
       "          guardian_1 race_ethnicity date_of_birth last_name first_name  \\\n",
       "0            2284_-1         Latino    1982-02-09     Ticas    Michael   \n",
       "1            2284_-1         Latino    1983-09-02     Ticas    Melissa   \n",
       "2             2284_0         Latino    2007-10-04     Ticas     Martin   \n",
       "3             2284_0         Latino    2011-11-09     Ticas       Maya   \n",
       "...              ...            ...           ...       ...        ...   \n",
       "9999996  4344_856980          Black    2006-05-22     Eanes      Ayden   \n",
       "9999997      4344_-1          White    1947-12-27     Smith      Jenny   \n",
       "9999998      4344_-1          White    1955-03-08    Supeck      Betty   \n",
       "9999999      4344_-1          Black    1959-01-09    Supeck         Ed   \n",
       "\n",
       "               age       street_name        city   guardian_2  \\\n",
       "0        38.141742          adams st   sour lake      2284_-1   \n",
       "1        36.580000          adams st   sour lake      2284_-1   \n",
       "2        12.492590          adams st   sour lake       2284_1   \n",
       "3         8.392918          adams st   sour lake       2284_1   \n",
       "...            ...               ...         ...          ...   \n",
       "9999996  23.826587        n vail ave  birmingham  4344_856981   \n",
       "9999997  82.229716   dunlavin gln rd      dumont      4344_-1   \n",
       "9999998  75.034620     tranquilla dr   pensacola      4344_-1   \n",
       "9999999  71.193217  stillwell avenue      gretna      4344_-1   \n",
       "\n",
       "        relation_to_household_head     sex unit_number street_number state  \n",
       "0                 Reference person    Male         NaN          7136    TX  \n",
       "1                   Opp-sex spouse  Female         NaN          7136    TX  \n",
       "2                 Biological child    Male         NaN          7136    TX  \n",
       "3                 Biological child  Female         NaN          7136    TX  \n",
       "...                            ...     ...         ...           ...   ...  \n",
       "9999996           Reference person    Male         NaN           217    AL  \n",
       "9999997           Reference person  Female         NaN           206    CO  \n",
       "9999998           Reference person  Female         NaN           343    FL  \n",
       "9999999           Reference person    Male         NaN           233    NE  \n",
       "\n",
       "[10000000 rows x 19 columns]"
      ]
     },
     "execution_count": 42,
     "metadata": {},
     "output_type": "execute_result"
    }
   ],
   "source": [
    "df"
   ]
  },
  {
   "cell_type": "code",
   "execution_count": 43,
   "id": "7dc5d38c-8bbc-4e35-9f47-5b30755203b8",
   "metadata": {},
   "outputs": [
    {
     "data": {
      "text/plain": [
       "{'middle_initial': 'M',\n",
       " 'census_year': 2020,\n",
       " 'zipcode': 77566.0,\n",
       " 'housing_type': 'Standard',\n",
       " 'simulant_id': '2284_0',\n",
       " 'guardian_1': '2284_-1',\n",
       " 'race_ethnicity': 'Latino',\n",
       " 'date_of_birth': '1982-02-09',\n",
       " 'last_name': 'Ticas',\n",
       " 'first_name': 'Michael',\n",
       " 'age': 38.14174167482581,\n",
       " 'street_name': 'adams st',\n",
       " 'city': 'sour lake',\n",
       " 'guardian_2': '2284_-1',\n",
       " 'relation_to_household_head': 'Reference person',\n",
       " 'sex': 'Male',\n",
       " 'unit_number': nan,\n",
       " 'street_number': '7136',\n",
       " 'state': 'TX'}"
      ]
     },
     "execution_count": 43,
     "metadata": {},
     "output_type": "execute_result"
    }
   ],
   "source": [
    "df.iloc[0].to_dict()"
   ]
  },
  {
   "cell_type": "markdown",
   "id": "ffba75b8-045a-4b34-af0c-5378360d7dae",
   "metadata": {},
   "source": [
    "## Known (potential) VV issues\n",
    "- Do zipcode and age need to be floats? And does 'age' need so many decimal digits?"
   ]
  },
  {
   "cell_type": "markdown",
   "id": "d8531e13-7d15-4de7-b409-46db18a488d2",
   "metadata": {},
   "source": [
    "## Checking data type"
   ]
  },
  {
   "cell_type": "code",
   "execution_count": 39,
   "id": "ad1728f0-0bb9-4243-999d-0f5db80c7286",
   "metadata": {},
   "outputs": [
    {
     "data": {
      "text/plain": [
       "middle_initial     object\n",
       "census_year         int64\n",
       "zipcode           float64\n",
       "housing_type       object\n",
       "                   ...   \n",
       "sex                object\n",
       "unit_number        object\n",
       "street_number      object\n",
       "state              object\n",
       "Length: 19, dtype: object"
      ]
     },
     "execution_count": 39,
     "metadata": {},
     "output_type": "execute_result"
    }
   ],
   "source": [
    "df.dtypes"
   ]
  },
  {
   "cell_type": "markdown",
   "id": "548e8bce-c74f-4c1d-9acf-93f369bc67ab",
   "metadata": {},
   "source": [
    "## Checking Census Year"
   ]
  },
  {
   "cell_type": "code",
   "execution_count": 44,
   "id": "e4b7cef7-60f9-4231-b79a-a2e3ab253392",
   "metadata": {},
   "outputs": [
    {
     "data": {
      "text/plain": [
       "2"
      ]
     },
     "execution_count": 44,
     "metadata": {},
     "output_type": "execute_result"
    }
   ],
   "source": [
    "df.census_year.nunique() # Only census is from 2020 "
   ]
  },
  {
   "cell_type": "code",
   "execution_count": null,
   "id": "67c0cdcc-57f5-4110-b644-c8baf22e2787",
   "metadata": {},
   "outputs": [],
   "source": []
  },
  {
   "cell_type": "markdown",
   "id": "1b547835-dd64-48ce-8671-5433d285f8f1",
   "metadata": {},
   "source": [
    "## Checking names \n",
    "- All 26 letters should be represented as a simulant middle initial\n",
    "- Most common and least common first and last names should be as expected\n",
    "- Most common and least common first and last names stratified by race/ethnicity should be as expected"
   ]
  },
  {
   "cell_type": "code",
   "execution_count": 20,
   "id": "5eaaf39d-1058-4eaa-b718-858f58e90d50",
   "metadata": {},
   "outputs": [
    {
     "data": {
      "text/plain": [
       "26"
      ]
     },
     "execution_count": 20,
     "metadata": {},
     "output_type": "execute_result"
    }
   ],
   "source": [
    "df.middle_initial.nunique()  # expect 26"
   ]
  },
  {
   "cell_type": "code",
   "execution_count": 21,
   "id": "aa65f439-d89b-49aa-b815-9b224c20225d",
   "metadata": {},
   "outputs": [],
   "source": [
    "assert df.middle_initial.nunique()  == 26, 'expect all 26 letters to appear as a middle initial for somebody'"
   ]
  },
  {
   "cell_type": "code",
   "execution_count": 22,
   "id": "77415490-3b12-48ad-bd4d-109201e3b5c8",
   "metadata": {},
   "outputs": [
    {
     "data": {
      "text/plain": [
       "James      1424\n",
       "John       1397\n",
       "Michael    1215\n",
       "Robert     1207\n",
       "           ... \n",
       "Jaya          1\n",
       "Fawn          1\n",
       "Oralia        1\n",
       "Coco          1\n",
       "Name: first_name, Length: 5318, dtype: int64"
      ]
     },
     "execution_count": 22,
     "metadata": {},
     "output_type": "execute_result"
    }
   ],
   "source": [
    "df.first_name.value_counts()"
   ]
  },
  {
   "cell_type": "code",
   "execution_count": 23,
   "id": "80ab5ae3-4736-4978-adc3-ae5d83ac82a5",
   "metadata": {},
   "outputs": [
    {
     "data": {
      "text/plain": [
       "[]"
      ]
     },
     "execution_count": 23,
     "metadata": {},
     "output_type": "execute_result"
    },
    {
     "data": {
      "image/png": "[encoded data removed]",
      "text/plain": [
       "<Figure size 432x288 with 1 Axes>"
      ]
     },
     "metadata": {
      "needs_background": "light"
     },
     "output_type": "display_data"
    }
   ],
   "source": [
    "df.first_name.value_counts().plot()\n",
    "plt.semilogy()"
   ]
  },
  {
   "cell_type": "markdown",
   "id": "b301bc25-b009-4238-a694-97d49d4198af",
   "metadata": {},
   "source": [
    "## Checking age distribution\n",
    "- no weird spikes"
   ]
  },
  {
   "cell_type": "code",
   "execution_count": 29,
   "id": "b76b6eeb-cd0e-4a27-a51c-e48a2e982c9f",
   "metadata": {},
   "outputs": [
    {
     "data": {
      "text/plain": [
       "<AxesSubplot:>"
      ]
     },
     "execution_count": 29,
     "metadata": {},
     "output_type": "execute_result"
    },
    {
     "data": {
      "image/png": "[encoded data removed]",
      "text/plain": [
       "<Figure size 432x288 with 1 Axes>"
      ]
     },
     "metadata": {
      "needs_background": "light"
     },
     "output_type": "display_data"
    }
   ],
   "source": [
    "df.age.hist()"
   ]
  },
  {
   "cell_type": "code",
   "execution_count": 32,
   "id": "66ba0097-4ded-4816-bf87-e3b83bf06bda",
   "metadata": {},
   "outputs": [
    {
     "data": {
      "text/html": [
       "<div>\n",
       "<style scoped>\n",
       "    .dataframe tbody tr th:only-of-type {\n",
       "        vertical-align: middle;\n",
       "    }\n",
       "\n",
       "    .dataframe tbody tr th {\n",
       "        vertical-align: top;\n",
       "    }\n",
       "\n",
       "    .dataframe thead th {\n",
       "        text-align: right;\n",
       "    }\n",
       "</style>\n",
       "<table border=\"1\" class=\"dataframe\">\n",
       "  <thead>\n",
       "    <tr style=\"text-align: right;\">\n",
       "      <th></th>\n",
       "      <th>middle_initial</th>\n",
       "      <th>census_year</th>\n",
       "      <th>zipcode</th>\n",
       "      <th>housing_type</th>\n",
       "      <th>simulant_id</th>\n",
       "      <th>guardian_1</th>\n",
       "      <th>race_ethnicity</th>\n",
       "      <th>date_of_birth</th>\n",
       "      <th>last_name</th>\n",
       "      <th>first_name</th>\n",
       "      <th>age</th>\n",
       "      <th>street_name</th>\n",
       "      <th>city</th>\n",
       "      <th>guardian_2</th>\n",
       "      <th>relation_to_household_head</th>\n",
       "      <th>sex</th>\n",
       "      <th>unit_number</th>\n",
       "      <th>street_number</th>\n",
       "      <th>state</th>\n",
       "    </tr>\n",
       "  </thead>\n",
       "  <tbody>\n",
       "    <tr>\n",
       "      <th>0</th>\n",
       "      <td>M</td>\n",
       "      <td>2020</td>\n",
       "      <td>77566.0</td>\n",
       "      <td>Standard</td>\n",
       "      <td>2284_0</td>\n",
       "      <td>2284_-1</td>\n",
       "      <td>Latino</td>\n",
       "      <td>1982-02-09</td>\n",
       "      <td>Ticas</td>\n",
       "      <td>Michael</td>\n",
       "      <td>38.141742</td>\n",
       "      <td>adams st</td>\n",
       "      <td>sour lake</td>\n",
       "      <td>2284_-1</td>\n",
       "      <td>Reference person</td>\n",
       "      <td>Male</td>\n",
       "      <td>NaN</td>\n",
       "      <td>7136</td>\n",
       "      <td>TX</td>\n",
       "    </tr>\n",
       "    <tr>\n",
       "      <th>1</th>\n",
       "      <td>M</td>\n",
       "      <td>2020</td>\n",
       "      <td>77566.0</td>\n",
       "      <td>Standard</td>\n",
       "      <td>2284_1</td>\n",
       "      <td>2284_-1</td>\n",
       "      <td>Latino</td>\n",
       "      <td>1983-09-02</td>\n",
       "      <td>Ticas</td>\n",
       "      <td>Melissa</td>\n",
       "      <td>36.580000</td>\n",
       "      <td>adams st</td>\n",
       "      <td>sour lake</td>\n",
       "      <td>2284_-1</td>\n",
       "      <td>Opp-sex spouse</td>\n",
       "      <td>Female</td>\n",
       "      <td>NaN</td>\n",
       "      <td>7136</td>\n",
       "      <td>TX</td>\n",
       "    </tr>\n",
       "    <tr>\n",
       "      <th>2</th>\n",
       "      <td>L</td>\n",
       "      <td>2020</td>\n",
       "      <td>77566.0</td>\n",
       "      <td>Standard</td>\n",
       "      <td>2284_2</td>\n",
       "      <td>2284_0</td>\n",
       "      <td>Latino</td>\n",
       "      <td>2007-10-04</td>\n",
       "      <td>Ticas</td>\n",
       "      <td>Martin</td>\n",
       "      <td>12.492590</td>\n",
       "      <td>adams st</td>\n",
       "      <td>sour lake</td>\n",
       "      <td>2284_1</td>\n",
       "      <td>Biological child</td>\n",
       "      <td>Male</td>\n",
       "      <td>NaN</td>\n",
       "      <td>7136</td>\n",
       "      <td>TX</td>\n",
       "    </tr>\n",
       "    <tr>\n",
       "      <th>3</th>\n",
       "      <td>L</td>\n",
       "      <td>2020</td>\n",
       "      <td>77566.0</td>\n",
       "      <td>Standard</td>\n",
       "      <td>2284_3</td>\n",
       "      <td>2284_0</td>\n",
       "      <td>Latino</td>\n",
       "      <td>2011-11-09</td>\n",
       "      <td>Ticas</td>\n",
       "      <td>Maya</td>\n",
       "      <td>8.392918</td>\n",
       "      <td>adams st</td>\n",
       "      <td>sour lake</td>\n",
       "      <td>2284_1</td>\n",
       "      <td>Biological child</td>\n",
       "      <td>Female</td>\n",
       "      <td>NaN</td>\n",
       "      <td>7136</td>\n",
       "      <td>TX</td>\n",
       "    </tr>\n",
       "    <tr>\n",
       "      <th>...</th>\n",
       "      <td>...</td>\n",
       "      <td>...</td>\n",
       "      <td>...</td>\n",
       "      <td>...</td>\n",
       "      <td>...</td>\n",
       "      <td>...</td>\n",
       "      <td>...</td>\n",
       "      <td>...</td>\n",
       "      <td>...</td>\n",
       "      <td>...</td>\n",
       "      <td>...</td>\n",
       "      <td>...</td>\n",
       "      <td>...</td>\n",
       "      <td>...</td>\n",
       "      <td>...</td>\n",
       "      <td>...</td>\n",
       "      <td>...</td>\n",
       "      <td>...</td>\n",
       "      <td>...</td>\n",
       "    </tr>\n",
       "    <tr>\n",
       "      <th>99996</th>\n",
       "      <td>A</td>\n",
       "      <td>2020</td>\n",
       "      <td>8003.0</td>\n",
       "      <td>Standard</td>\n",
       "      <td>2284_100087</td>\n",
       "      <td>2284_100085</td>\n",
       "      <td>Black</td>\n",
       "      <td>2013-03-10</td>\n",
       "      <td>Petersen</td>\n",
       "      <td>Jace</td>\n",
       "      <td>7.060494</td>\n",
       "      <td>pleasant avenue south</td>\n",
       "      <td>elizabeth</td>\n",
       "      <td>2284_-1</td>\n",
       "      <td>Adopted child</td>\n",
       "      <td>Male</td>\n",
       "      <td>NaN</td>\n",
       "      <td>16117</td>\n",
       "      <td>NJ</td>\n",
       "    </tr>\n",
       "    <tr>\n",
       "      <th>99997</th>\n",
       "      <td>J</td>\n",
       "      <td>2020</td>\n",
       "      <td>54115.0</td>\n",
       "      <td>Standard</td>\n",
       "      <td>2284_100088</td>\n",
       "      <td>2284_-1</td>\n",
       "      <td>White</td>\n",
       "      <td>1998-05-02</td>\n",
       "      <td>Porter</td>\n",
       "      <td>Joshua</td>\n",
       "      <td>21.915779</td>\n",
       "      <td>nicholas pkwy e</td>\n",
       "      <td>lac du flambeau</td>\n",
       "      <td>2284_-1</td>\n",
       "      <td>Reference person</td>\n",
       "      <td>Male</td>\n",
       "      <td>NaN</td>\n",
       "      <td>6044</td>\n",
       "      <td>WI</td>\n",
       "    </tr>\n",
       "    <tr>\n",
       "      <th>99998</th>\n",
       "      <td>E</td>\n",
       "      <td>2020</td>\n",
       "      <td>54115.0</td>\n",
       "      <td>Standard</td>\n",
       "      <td>2284_100089</td>\n",
       "      <td>2284_-1</td>\n",
       "      <td>White</td>\n",
       "      <td>1993-06-30</td>\n",
       "      <td>Porter</td>\n",
       "      <td>Samantha</td>\n",
       "      <td>26.753895</td>\n",
       "      <td>nicholas pkwy e</td>\n",
       "      <td>lac du flambeau</td>\n",
       "      <td>2284_-1</td>\n",
       "      <td>Opp-sex spouse</td>\n",
       "      <td>Female</td>\n",
       "      <td>NaN</td>\n",
       "      <td>6044</td>\n",
       "      <td>WI</td>\n",
       "    </tr>\n",
       "    <tr>\n",
       "      <th>99999</th>\n",
       "      <td>J</td>\n",
       "      <td>2020</td>\n",
       "      <td>19055.0</td>\n",
       "      <td>Standard</td>\n",
       "      <td>2284_100090</td>\n",
       "      <td>2284_-1</td>\n",
       "      <td>Black</td>\n",
       "      <td>1975-01-19</td>\n",
       "      <td>Mcfadden</td>\n",
       "      <td>Donald</td>\n",
       "      <td>45.199853</td>\n",
       "      <td>minutemen causewy</td>\n",
       "      <td>rutherford</td>\n",
       "      <td>2284_-1</td>\n",
       "      <td>Reference person</td>\n",
       "      <td>Male</td>\n",
       "      <td>NaN</td>\n",
       "      <td>20627</td>\n",
       "      <td>PA</td>\n",
       "    </tr>\n",
       "  </tbody>\n",
       "</table>\n",
       "<p>100000 rows × 19 columns</p>\n",
       "</div>"
      ],
      "text/plain": [
       "      middle_initial  census_year  zipcode housing_type  simulant_id  \\\n",
       "0                  M         2020  77566.0     Standard       2284_0   \n",
       "1                  M         2020  77566.0     Standard       2284_1   \n",
       "2                  L         2020  77566.0     Standard       2284_2   \n",
       "3                  L         2020  77566.0     Standard       2284_3   \n",
       "...              ...          ...      ...          ...          ...   \n",
       "99996              A         2020   8003.0     Standard  2284_100087   \n",
       "99997              J         2020  54115.0     Standard  2284_100088   \n",
       "99998              E         2020  54115.0     Standard  2284_100089   \n",
       "99999              J         2020  19055.0     Standard  2284_100090   \n",
       "\n",
       "        guardian_1 race_ethnicity date_of_birth last_name first_name  \\\n",
       "0          2284_-1         Latino    1982-02-09     Ticas    Michael   \n",
       "1          2284_-1         Latino    1983-09-02     Ticas    Melissa   \n",
       "2           2284_0         Latino    2007-10-04     Ticas     Martin   \n",
       "3           2284_0         Latino    2011-11-09     Ticas       Maya   \n",
       "...            ...            ...           ...       ...        ...   \n",
       "99996  2284_100085          Black    2013-03-10  Petersen       Jace   \n",
       "99997      2284_-1          White    1998-05-02    Porter     Joshua   \n",
       "99998      2284_-1          White    1993-06-30    Porter   Samantha   \n",
       "99999      2284_-1          Black    1975-01-19  Mcfadden     Donald   \n",
       "\n",
       "             age            street_name             city guardian_2  \\\n",
       "0      38.141742               adams st        sour lake    2284_-1   \n",
       "1      36.580000               adams st        sour lake    2284_-1   \n",
       "2      12.492590               adams st        sour lake     2284_1   \n",
       "3       8.392918               adams st        sour lake     2284_1   \n",
       "...          ...                    ...              ...        ...   \n",
       "99996   7.060494  pleasant avenue south        elizabeth    2284_-1   \n",
       "99997  21.915779        nicholas pkwy e  lac du flambeau    2284_-1   \n",
       "99998  26.753895        nicholas pkwy e  lac du flambeau    2284_-1   \n",
       "99999  45.199853      minutemen causewy       rutherford    2284_-1   \n",
       "\n",
       "      relation_to_household_head     sex unit_number street_number state  \n",
       "0               Reference person    Male         NaN          7136    TX  \n",
       "1                 Opp-sex spouse  Female         NaN          7136    TX  \n",
       "2               Biological child    Male         NaN          7136    TX  \n",
       "3               Biological child  Female         NaN          7136    TX  \n",
       "...                          ...     ...         ...           ...   ...  \n",
       "99996              Adopted child    Male         NaN         16117    NJ  \n",
       "99997           Reference person    Male         NaN          6044    WI  \n",
       "99998             Opp-sex spouse  Female         NaN          6044    WI  \n",
       "99999           Reference person    Male         NaN         20627    PA  \n",
       "\n",
       "[100000 rows x 19 columns]"
      ]
     },
     "execution_count": 32,
     "metadata": {},
     "output_type": "execute_result"
    }
   ],
   "source": [
    "df"
   ]
  },
  {
   "cell_type": "markdown",
   "id": "15a7fe6d-dfd5-42bb-9c06-dbcdc6e6e322",
   "metadata": {},
   "source": [
    "## Checking household structure distribution\n",
    "- Group quarters population should be about 3% of the total population \n",
    "- Each household should have a reference person and at most one spouse/partner \n",
    "- No child should be listed as a household reference person \n",
    "- 23% of female reference people and 5% of male reference people should be without a listed spouse  "
   ]
  },
  {
   "cell_type": "code",
   "execution_count": 33,
   "id": "ac022ac5-43aa-4ed7-a9f4-312d7b47583b",
   "metadata": {},
   "outputs": [
    {
     "data": {
      "text/html": [
       "<div>\n",
       "<style scoped>\n",
       "    .dataframe tbody tr th:only-of-type {\n",
       "        vertical-align: middle;\n",
       "    }\n",
       "\n",
       "    .dataframe tbody tr th {\n",
       "        vertical-align: top;\n",
       "    }\n",
       "\n",
       "    .dataframe thead th {\n",
       "        text-align: right;\n",
       "    }\n",
       "</style>\n",
       "<table border=\"1\" class=\"dataframe\">\n",
       "  <thead>\n",
       "    <tr style=\"text-align: right;\">\n",
       "      <th></th>\n",
       "      <th>middle_initial</th>\n",
       "      <th>census_year</th>\n",
       "      <th>zipcode</th>\n",
       "      <th>housing_type</th>\n",
       "      <th>simulant_id</th>\n",
       "      <th>guardian_1</th>\n",
       "      <th>race_ethnicity</th>\n",
       "      <th>date_of_birth</th>\n",
       "      <th>last_name</th>\n",
       "      <th>first_name</th>\n",
       "      <th>age</th>\n",
       "      <th>street_name</th>\n",
       "      <th>city</th>\n",
       "      <th>guardian_2</th>\n",
       "      <th>relation_to_household_head</th>\n",
       "      <th>sex</th>\n",
       "      <th>unit_number</th>\n",
       "      <th>street_number</th>\n",
       "      <th>state</th>\n",
       "    </tr>\n",
       "  </thead>\n",
       "  <tbody>\n",
       "    <tr>\n",
       "      <th>0</th>\n",
       "      <td>M</td>\n",
       "      <td>2020</td>\n",
       "      <td>77566.0</td>\n",
       "      <td>Standard</td>\n",
       "      <td>2284_0</td>\n",
       "      <td>2284_-1</td>\n",
       "      <td>Latino</td>\n",
       "      <td>1982-02-09</td>\n",
       "      <td>Ticas</td>\n",
       "      <td>Michael</td>\n",
       "      <td>38.141742</td>\n",
       "      <td>adams st</td>\n",
       "      <td>sour lake</td>\n",
       "      <td>2284_-1</td>\n",
       "      <td>Reference person</td>\n",
       "      <td>Male</td>\n",
       "      <td>NaN</td>\n",
       "      <td>7136</td>\n",
       "      <td>TX</td>\n",
       "    </tr>\n",
       "    <tr>\n",
       "      <th>4</th>\n",
       "      <td>M</td>\n",
       "      <td>2020</td>\n",
       "      <td>22209.0</td>\n",
       "      <td>Standard</td>\n",
       "      <td>2284_4</td>\n",
       "      <td>2284_-1</td>\n",
       "      <td>White</td>\n",
       "      <td>1960-01-28</td>\n",
       "      <td>Sayah</td>\n",
       "      <td>Randy</td>\n",
       "      <td>60.175473</td>\n",
       "      <td>north burgher avenue</td>\n",
       "      <td>leesburg</td>\n",
       "      <td>2284_-1</td>\n",
       "      <td>Reference person</td>\n",
       "      <td>Male</td>\n",
       "      <td>NaN</td>\n",
       "      <td>10233</td>\n",
       "      <td>VA</td>\n",
       "    </tr>\n",
       "    <tr>\n",
       "      <th>7</th>\n",
       "      <td>M</td>\n",
       "      <td>2020</td>\n",
       "      <td>75024.0</td>\n",
       "      <td>Standard</td>\n",
       "      <td>2284_7</td>\n",
       "      <td>2284_-1</td>\n",
       "      <td>Multiracial or Other</td>\n",
       "      <td>1984-07-20</td>\n",
       "      <td>Kohtz</td>\n",
       "      <td>Michael</td>\n",
       "      <td>35.700136</td>\n",
       "      <td>commonwealth avnue</td>\n",
       "      <td>houston</td>\n",
       "      <td>2284_-1</td>\n",
       "      <td>Reference person</td>\n",
       "      <td>Male</td>\n",
       "      <td>NaN</td>\n",
       "      <td>1312</td>\n",
       "      <td>TX</td>\n",
       "    </tr>\n",
       "    <tr>\n",
       "      <th>10</th>\n",
       "      <td>D</td>\n",
       "      <td>2020</td>\n",
       "      <td>8721.0</td>\n",
       "      <td>Standard</td>\n",
       "      <td>2284_10</td>\n",
       "      <td>2284_-1</td>\n",
       "      <td>Latino</td>\n",
       "      <td>1960-01-11</td>\n",
       "      <td>Reiter</td>\n",
       "      <td>Keith</td>\n",
       "      <td>60.222370</td>\n",
       "      <td>e 72 st</td>\n",
       "      <td>brielle</td>\n",
       "      <td>2284_-1</td>\n",
       "      <td>Reference person</td>\n",
       "      <td>Male</td>\n",
       "      <td>NaN</td>\n",
       "      <td>427</td>\n",
       "      <td>NJ</td>\n",
       "    </tr>\n",
       "    <tr>\n",
       "      <th>...</th>\n",
       "      <td>...</td>\n",
       "      <td>...</td>\n",
       "      <td>...</td>\n",
       "      <td>...</td>\n",
       "      <td>...</td>\n",
       "      <td>...</td>\n",
       "      <td>...</td>\n",
       "      <td>...</td>\n",
       "      <td>...</td>\n",
       "      <td>...</td>\n",
       "      <td>...</td>\n",
       "      <td>...</td>\n",
       "      <td>...</td>\n",
       "      <td>...</td>\n",
       "      <td>...</td>\n",
       "      <td>...</td>\n",
       "      <td>...</td>\n",
       "      <td>...</td>\n",
       "      <td>...</td>\n",
       "    </tr>\n",
       "    <tr>\n",
       "      <th>99991</th>\n",
       "      <td>W</td>\n",
       "      <td>2020</td>\n",
       "      <td>77547.0</td>\n",
       "      <td>Standard</td>\n",
       "      <td>2284_100082</td>\n",
       "      <td>2284_-1</td>\n",
       "      <td>Latino</td>\n",
       "      <td>1959-10-14</td>\n",
       "      <td>Aguiar</td>\n",
       "      <td>Deborah</td>\n",
       "      <td>60.466167</td>\n",
       "      <td>clove l</td>\n",
       "      <td>houston</td>\n",
       "      <td>2284_-1</td>\n",
       "      <td>Reference person</td>\n",
       "      <td>Female</td>\n",
       "      <td>NaN</td>\n",
       "      <td>2110</td>\n",
       "      <td>TX</td>\n",
       "    </tr>\n",
       "    <tr>\n",
       "      <th>99994</th>\n",
       "      <td>S</td>\n",
       "      <td>2020</td>\n",
       "      <td>8003.0</td>\n",
       "      <td>Standard</td>\n",
       "      <td>2284_100085</td>\n",
       "      <td>2284_-1</td>\n",
       "      <td>White</td>\n",
       "      <td>1963-08-20</td>\n",
       "      <td>Petersen</td>\n",
       "      <td>Michael</td>\n",
       "      <td>56.615854</td>\n",
       "      <td>pleasant avenue south</td>\n",
       "      <td>elizabeth</td>\n",
       "      <td>2284_-1</td>\n",
       "      <td>Reference person</td>\n",
       "      <td>Male</td>\n",
       "      <td>NaN</td>\n",
       "      <td>16117</td>\n",
       "      <td>NJ</td>\n",
       "    </tr>\n",
       "    <tr>\n",
       "      <th>99997</th>\n",
       "      <td>J</td>\n",
       "      <td>2020</td>\n",
       "      <td>54115.0</td>\n",
       "      <td>Standard</td>\n",
       "      <td>2284_100088</td>\n",
       "      <td>2284_-1</td>\n",
       "      <td>White</td>\n",
       "      <td>1998-05-02</td>\n",
       "      <td>Porter</td>\n",
       "      <td>Joshua</td>\n",
       "      <td>21.915779</td>\n",
       "      <td>nicholas pkwy e</td>\n",
       "      <td>lac du flambeau</td>\n",
       "      <td>2284_-1</td>\n",
       "      <td>Reference person</td>\n",
       "      <td>Male</td>\n",
       "      <td>NaN</td>\n",
       "      <td>6044</td>\n",
       "      <td>WI</td>\n",
       "    </tr>\n",
       "    <tr>\n",
       "      <th>99999</th>\n",
       "      <td>J</td>\n",
       "      <td>2020</td>\n",
       "      <td>19055.0</td>\n",
       "      <td>Standard</td>\n",
       "      <td>2284_100090</td>\n",
       "      <td>2284_-1</td>\n",
       "      <td>Black</td>\n",
       "      <td>1975-01-19</td>\n",
       "      <td>Mcfadden</td>\n",
       "      <td>Donald</td>\n",
       "      <td>45.199853</td>\n",
       "      <td>minutemen causewy</td>\n",
       "      <td>rutherford</td>\n",
       "      <td>2284_-1</td>\n",
       "      <td>Reference person</td>\n",
       "      <td>Male</td>\n",
       "      <td>NaN</td>\n",
       "      <td>20627</td>\n",
       "      <td>PA</td>\n",
       "    </tr>\n",
       "  </tbody>\n",
       "</table>\n",
       "<p>40392 rows × 19 columns</p>\n",
       "</div>"
      ],
      "text/plain": [
       "      middle_initial  census_year  zipcode housing_type  simulant_id  \\\n",
       "0                  M         2020  77566.0     Standard       2284_0   \n",
       "4                  M         2020  22209.0     Standard       2284_4   \n",
       "7                  M         2020  75024.0     Standard       2284_7   \n",
       "10                 D         2020   8721.0     Standard      2284_10   \n",
       "...              ...          ...      ...          ...          ...   \n",
       "99991              W         2020  77547.0     Standard  2284_100082   \n",
       "99994              S         2020   8003.0     Standard  2284_100085   \n",
       "99997              J         2020  54115.0     Standard  2284_100088   \n",
       "99999              J         2020  19055.0     Standard  2284_100090   \n",
       "\n",
       "      guardian_1        race_ethnicity date_of_birth last_name first_name  \\\n",
       "0        2284_-1                Latino    1982-02-09     Ticas    Michael   \n",
       "4        2284_-1                 White    1960-01-28     Sayah      Randy   \n",
       "7        2284_-1  Multiracial or Other    1984-07-20     Kohtz    Michael   \n",
       "10       2284_-1                Latino    1960-01-11    Reiter      Keith   \n",
       "...          ...                   ...           ...       ...        ...   \n",
       "99991    2284_-1                Latino    1959-10-14    Aguiar    Deborah   \n",
       "99994    2284_-1                 White    1963-08-20  Petersen    Michael   \n",
       "99997    2284_-1                 White    1998-05-02    Porter     Joshua   \n",
       "99999    2284_-1                 Black    1975-01-19  Mcfadden     Donald   \n",
       "\n",
       "             age            street_name             city guardian_2  \\\n",
       "0      38.141742               adams st        sour lake    2284_-1   \n",
       "4      60.175473   north burgher avenue         leesburg    2284_-1   \n",
       "7      35.700136     commonwealth avnue          houston    2284_-1   \n",
       "10     60.222370                e 72 st          brielle    2284_-1   \n",
       "...          ...                    ...              ...        ...   \n",
       "99991  60.466167                clove l          houston    2284_-1   \n",
       "99994  56.615854  pleasant avenue south        elizabeth    2284_-1   \n",
       "99997  21.915779        nicholas pkwy e  lac du flambeau    2284_-1   \n",
       "99999  45.199853      minutemen causewy       rutherford    2284_-1   \n",
       "\n",
       "      relation_to_household_head     sex unit_number street_number state  \n",
       "0               Reference person    Male         NaN          7136    TX  \n",
       "4               Reference person    Male         NaN         10233    VA  \n",
       "7               Reference person    Male         NaN          1312    TX  \n",
       "10              Reference person    Male         NaN           427    NJ  \n",
       "...                          ...     ...         ...           ...   ...  \n",
       "99991           Reference person  Female         NaN          2110    TX  \n",
       "99994           Reference person    Male         NaN         16117    NJ  \n",
       "99997           Reference person    Male         NaN          6044    WI  \n",
       "99999           Reference person    Male         NaN         20627    PA  \n",
       "\n",
       "[40392 rows x 19 columns]"
      ]
     },
     "execution_count": 33,
     "metadata": {},
     "output_type": "execute_result"
    }
   ],
   "source": [
    "df_refs = df[df.relation_to_household_head == 'Reference person']\n",
    "df_refs"
   ]
  },
  {
   "cell_type": "code",
   "execution_count": 34,
   "id": "350cbb86-2b7a-41e2-b950-947501da37ee",
   "metadata": {},
   "outputs": [
    {
     "data": {
      "text/plain": [
       "<AxesSubplot:>"
      ]
     },
     "execution_count": 34,
     "metadata": {},
     "output_type": "execute_result"
    },
    {
     "data": {
      "image/png": "[encoded data removed]",
      "text/plain": [
       "<Figure size 432x288 with 1 Axes>"
      ]
     },
     "metadata": {
      "needs_background": "light"
     },
     "output_type": "display_data"
    }
   ],
   "source": [
    "df_refs.age.hist()"
   ]
  },
  {
   "cell_type": "code",
   "execution_count": 35,
   "id": "841fe9d1-a0dc-42b2-b590-f0a7611f11a6",
   "metadata": {},
   "outputs": [
    {
     "data": {
      "text/plain": [
       "6.560870302468784"
      ]
     },
     "execution_count": 35,
     "metadata": {},
     "output_type": "execute_result"
    }
   ],
   "source": [
    "df_refs.age.min()"
   ]
  },
  {
   "cell_type": "markdown",
   "id": "d67e042e-0356-4cab-9988-1a3ffa65891d",
   "metadata": {},
   "source": [
    "## Checking geographic distributions\n",
    "- All 50 states should be represented \n",
    "- Migration patterns should match what is expected"
   ]
  },
  {
   "cell_type": "code",
   "execution_count": 28,
   "id": "20a77b3d-1f40-4038-8c48-bb3ac2aced78",
   "metadata": {},
   "outputs": [
    {
     "data": {
      "text/plain": [
       "51"
      ]
     },
     "execution_count": 28,
     "metadata": {},
     "output_type": "execute_result"
    }
   ],
   "source": [
    "df.state.nunique() # How are there 51 states?"
   ]
  },
  {
   "cell_type": "code",
   "execution_count": 25,
   "id": "a8fb1f33-89ac-4c17-a1e0-577201f412f3",
   "metadata": {},
   "outputs": [
    {
     "data": {
      "text/plain": [
       "CA    11555\n",
       "TX     8471\n",
       "FL     6230\n",
       "NY     6022\n",
       "      ...  \n",
       "ND      204\n",
       "DC      202\n",
       "VT      190\n",
       "WY      158\n",
       "Name: state, Length: 51, dtype: int64"
      ]
     },
     "execution_count": 25,
     "metadata": {},
     "output_type": "execute_result"
    }
   ],
   "source": [
    "df.state.value_counts() # Looks like there are 51 states because Washington DC is counted as a state? "
   ]
  },
  {
   "cell_type": "code",
   "execution_count": 26,
   "id": "1d04ee0d-075e-4101-b346-6f0a83cb1d18",
   "metadata": {},
   "outputs": [
    {
     "data": {
      "text/plain": [
       "[]"
      ]
     },
     "execution_count": 26,
     "metadata": {},
     "output_type": "execute_result"
    },
    {
     "data": {
      "image/png": "[encoded data removed]",
      "text/plain": [
       "<Figure size 432x288 with 1 Axes>"
      ]
     },
     "metadata": {
      "needs_background": "light"
     },
     "output_type": "display_data"
    }
   ],
   "source": [
    "df.state.value_counts().plot()\n",
    "plt.semilogy()"
   ]
  },
  {
   "cell_type": "markdown",
   "id": "3848c139-7829-45d5-be6f-83ad8e274c24",
   "metadata": {},
   "source": [
    "## Check fertility and mortality distributions\n",
    "- New simulants should be added at the expected rate  \n",
    "- 4% of birth events should be twins \n",
    "- Every newborn should be assigned at least 1 guardian \n",
    "- Simulants should be dying at the expected rate"
   ]
  },
  {
   "cell_type": "markdown",
   "id": "52114c36-f9c1-4a3f-8326-3542b68bd44c",
   "metadata": {},
   "source": [
    "## Checking physical address distributions\n",
    "- Every person in a given household should have the same address \n",
    "- Zip code should match PUMA \n",
    "- Street should conform to typical expectations "
   ]
  },
  {
   "cell_type": "code",
   "execution_count": null,
   "id": "824ca58a-f2e8-4016-9b8a-561410ac13e0",
   "metadata": {},
   "outputs": [],
   "source": []
  }
 ],
 "metadata": {
  "kernelspec": {
   "display_name": "Python 3 (ipykernel)",
   "language": "python",
   "name": "python3"
  },
  "language_info": {
   "codemirror_mode": {
    "name": "ipython",
    "version": 3
   },
   "file_extension": ".py",
   "mimetype": "text/x-python",
   "name": "python",
   "nbconvert_exporter": "python",
   "pygments_lexer": "ipython3",
   "version": "3.8.12"
  }
 },
 "nbformat": 4,
 "nbformat_minor": 5
}
