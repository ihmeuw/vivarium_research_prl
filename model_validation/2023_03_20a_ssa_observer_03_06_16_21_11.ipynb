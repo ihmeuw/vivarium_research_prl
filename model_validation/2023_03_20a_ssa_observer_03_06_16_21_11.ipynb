{
 "cells": [
  {
   "cell_type": "code",
   "execution_count": 1,
   "id": "ebb4d107-21ce-4a0a-af23-1aff7e2c6b3a",
   "metadata": {},
   "outputs": [
    {
     "name": "stdout",
     "output_type": "stream",
     "text": [
      "Mon Mar 20 15:36:28 PDT 2023\n"
     ]
    }
   ],
   "source": [
    "import numpy as np, matplotlib.pyplot as plt, pandas as pd\n",
    "pd.set_option('display.max_rows', 8)\n",
    "!date"
   ]
  },
  {
   "cell_type": "markdown",
   "id": "c57e2f83-698b-452b-897b-e6acc355c033",
   "metadata": {},
   "source": [
    "# PRL V&V - Social Security Observer"
   ]
  },
  {
   "cell_type": "code",
   "execution_count": 2,
   "id": "34d17db1-1d09-46c9-9464-42942416f530",
   "metadata": {},
   "outputs": [
    {
     "name": "stdout",
     "output_type": "stream",
     "text": [
      "/mnt/team/simulation_science/priv/engineering/vivarium_census_prl_synth_pop/results/vv_tax_observers/united_states_of_america/2023_03_06_12_42_55/final_results/2023_03_14_16_41_22\n",
      "total 14G\n",
      "drwxrwsr-x  2 albrja IHME-Simulationscience 4.0K Mar 15 10:01 .\n",
      "-rw-r--r--  1 albrja IHME-Simulationscience  59M Mar 15 10:01 wic_observer.csv.bz2\n",
      "-rw-r--r--  1 albrja IHME-Simulationscience 1.5G Mar 15 10:01 tax_dependents_observer.csv.bz2\n",
      "-rw-r--r--  1 albrja IHME-Simulationscience 6.8G Mar 15 09:57 tax_w2_observer.csv.bz2\n",
      "-rw-r--r--  1 albrja IHME-Simulationscience 4.1G Mar 15 09:56 tax_1040_observer.csv.bz2\n",
      "-rw-r--r--  1 albrja IHME-Simulationscience 192M Mar 15 09:48 social_security_observer.csv.bz2\n",
      "-rw-r--r--  1 albrja IHME-Simulationscience  35M Mar 15 09:36 household_survey_observer_cps.csv.bz2\n",
      "-rw-r--r--  1 albrja IHME-Simulationscience 6.7M Mar 15 09:36 household_survey_observer_acs.csv.bz2\n",
      "-rw-r--r--  1 albrja IHME-Simulationscience 638M Mar 15 09:36 decennial_census_observer.csv.bz2\n",
      "drwxrwsr-x 12 albrja IHME-Simulationscience 5.5K Mar 14 20:25 ..\n"
     ]
    }
   ],
   "source": [
    "%cd /mnt/team/simulation_science/priv/engineering/vivarium_census_prl_synth_pop/results/vv_tax_observers/united_states_of_america/2023_03_06_12_42_55/final_results/2023_03_14_16_41_22\n",
    "!ls -halt"
   ]
  },
  {
   "cell_type": "code",
   "execution_count": 3,
   "id": "4322d8c4-6581-4f59-a4e2-741d8cde5247",
   "metadata": {},
   "outputs": [
    {
     "name": "stdout",
     "output_type": "stream",
     "text": [
      "CPU times: user 12.8 s, sys: 586 ms, total: 13.4 s\n",
      "Wall time: 13.3 s\n"
     ]
    }
   ],
   "source": [
    "%%time\n",
    "\n",
    "df = pd.read_csv('social_security_observer.csv.bz2', low_memory=False, dtype='category',\n",
    "                 nrows=1_000_000\n",
    "                )"
   ]
  },
  {
   "cell_type": "code",
   "execution_count": 4,
   "id": "d2e0b37d-aa77-43b1-806c-fdfcf1af4e85",
   "metadata": {},
   "outputs": [
    {
     "data": {
      "text/html": [
       "<div>\n",
       "<style scoped>\n",
       "    .dataframe tbody tr th:only-of-type {\n",
       "        vertical-align: middle;\n",
       "    }\n",
       "\n",
       "    .dataframe tbody tr th {\n",
       "        vertical-align: top;\n",
       "    }\n",
       "\n",
       "    .dataframe thead th {\n",
       "        text-align: right;\n",
       "    }\n",
       "</style>\n",
       "<table border=\"1\" class=\"dataframe\">\n",
       "  <thead>\n",
       "    <tr style=\"text-align: right;\">\n",
       "      <th></th>\n",
       "      <th>ssn</th>\n",
       "      <th>middle_initial</th>\n",
       "      <th>event_type</th>\n",
       "      <th>last_name</th>\n",
       "      <th>first_name</th>\n",
       "      <th>event_date</th>\n",
       "      <th>simulant_id</th>\n",
       "      <th>date_of_birth</th>\n",
       "    </tr>\n",
       "  </thead>\n",
       "  <tbody>\n",
       "    <tr>\n",
       "      <th>0</th>\n",
       "      <td>786-77-6454</td>\n",
       "      <td>M</td>\n",
       "      <td>creation</td>\n",
       "      <td>Bingham</td>\n",
       "      <td>Peter</td>\n",
       "      <td>1921-05-13</td>\n",
       "      <td>2284_733465</td>\n",
       "      <td>1921-05-13</td>\n",
       "    </tr>\n",
       "    <tr>\n",
       "      <th>1</th>\n",
       "      <td>688-88-6377</td>\n",
       "      <td>D</td>\n",
       "      <td>creation</td>\n",
       "      <td>Bingham</td>\n",
       "      <td>Janice</td>\n",
       "      <td>1921-06-21</td>\n",
       "      <td>2284_733466</td>\n",
       "      <td>1921-06-21</td>\n",
       "    </tr>\n",
       "    <tr>\n",
       "      <th>2</th>\n",
       "      <td>651-33-9561</td>\n",
       "      <td>H</td>\n",
       "      <td>creation</td>\n",
       "      <td>Burdick</td>\n",
       "      <td>Anna</td>\n",
       "      <td>1921-07-13</td>\n",
       "      <td>2284_776885</td>\n",
       "      <td>1921-07-13</td>\n",
       "    </tr>\n",
       "    <tr>\n",
       "      <th>3</th>\n",
       "      <td>665-25-7858</td>\n",
       "      <td>M</td>\n",
       "      <td>creation</td>\n",
       "      <td>Tapia</td>\n",
       "      <td>Gertrude</td>\n",
       "      <td>1921-07-26</td>\n",
       "      <td>2284_869365</td>\n",
       "      <td>1921-07-26</td>\n",
       "    </tr>\n",
       "    <tr>\n",
       "      <th>...</th>\n",
       "      <td>...</td>\n",
       "      <td>...</td>\n",
       "      <td>...</td>\n",
       "      <td>...</td>\n",
       "      <td>...</td>\n",
       "      <td>...</td>\n",
       "      <td>...</td>\n",
       "      <td>...</td>\n",
       "    </tr>\n",
       "    <tr>\n",
       "      <th>999996</th>\n",
       "      <td>378-10-3757</td>\n",
       "      <td>C</td>\n",
       "      <td>death</td>\n",
       "      <td>Rhodes</td>\n",
       "      <td>Karen</td>\n",
       "      <td>2021-08-18</td>\n",
       "      <td>2284_499762</td>\n",
       "      <td>1948-12-10</td>\n",
       "    </tr>\n",
       "    <tr>\n",
       "      <th>999997</th>\n",
       "      <td>847-72-9612</td>\n",
       "      <td>S</td>\n",
       "      <td>death</td>\n",
       "      <td>Ayala-Rivera</td>\n",
       "      <td>Thomas</td>\n",
       "      <td>2021-08-18</td>\n",
       "      <td>2284_124489</td>\n",
       "      <td>1949-01-05</td>\n",
       "    </tr>\n",
       "    <tr>\n",
       "      <th>999998</th>\n",
       "      <td>811-81-0649</td>\n",
       "      <td>S</td>\n",
       "      <td>death</td>\n",
       "      <td>Horton</td>\n",
       "      <td>Ronald</td>\n",
       "      <td>2021-08-18</td>\n",
       "      <td>2284_165020</td>\n",
       "      <td>1949-02-14</td>\n",
       "    </tr>\n",
       "    <tr>\n",
       "      <th>999999</th>\n",
       "      <td>315-54-4731</td>\n",
       "      <td>M</td>\n",
       "      <td>death</td>\n",
       "      <td>Chaumont</td>\n",
       "      <td>Maureen</td>\n",
       "      <td>2021-08-18</td>\n",
       "      <td>2284_603412</td>\n",
       "      <td>1949-02-17</td>\n",
       "    </tr>\n",
       "  </tbody>\n",
       "</table>\n",
       "<p>1000000 rows × 8 columns</p>\n",
       "</div>"
      ],
      "text/plain": [
       "                ssn middle_initial event_type     last_name first_name  \\\n",
       "0       786-77-6454              M   creation       Bingham      Peter   \n",
       "1       688-88-6377              D   creation       Bingham     Janice   \n",
       "2       651-33-9561              H   creation       Burdick       Anna   \n",
       "3       665-25-7858              M   creation         Tapia   Gertrude   \n",
       "...             ...            ...        ...           ...        ...   \n",
       "999996  378-10-3757              C      death        Rhodes      Karen   \n",
       "999997  847-72-9612              S      death  Ayala-Rivera     Thomas   \n",
       "999998  811-81-0649              S      death        Horton     Ronald   \n",
       "999999  315-54-4731              M      death      Chaumont    Maureen   \n",
       "\n",
       "        event_date  simulant_id date_of_birth  \n",
       "0       1921-05-13  2284_733465    1921-05-13  \n",
       "1       1921-06-21  2284_733466    1921-06-21  \n",
       "2       1921-07-13  2284_776885    1921-07-13  \n",
       "3       1921-07-26  2284_869365    1921-07-26  \n",
       "...            ...          ...           ...  \n",
       "999996  2021-08-18  2284_499762    1948-12-10  \n",
       "999997  2021-08-18  2284_124489    1949-01-05  \n",
       "999998  2021-08-18  2284_165020    1949-02-14  \n",
       "999999  2021-08-18  2284_603412    1949-02-17  \n",
       "\n",
       "[1000000 rows x 8 columns]"
      ]
     },
     "execution_count": 4,
     "metadata": {},
     "output_type": "execute_result"
    }
   ],
   "source": [
    "df"
   ]
  },
  {
   "cell_type": "markdown",
   "id": "209be572-d458-460a-8571-b257ceac3648",
   "metadata": {},
   "source": [
    "# VV issues\n",
    "\n",
    "* ssn could be an int, to save space/time\n",
    "* event type is categorical, could specifiy when reading csv\n",
    "* (names could also be treated as categorical)\n",
    "* event_date might be better clipped to some date when SS started (somebody reading this data will realize that there was no SSA in 1921!)\n",
    "* simulant_id could be an int (or float)\n",
    "* a single simulant_id shouldn't have multiple SSNs\n",
    "* age distributions (event_date and date_of_birth; death event should always be after creation event for one simulant_id; mostly older simulants with event_type == death; creation events should have event_date == date_of_birth)\n",
    "* No columns denoting place of origin: how do we know which simulants are foreign-born? Should we link to a different observer that does include whether a sim is foreign-born or not? Or is this something SWEs are automatically testing for?\n"
   ]
  },
  {
   "cell_type": "code",
   "execution_count": 5,
   "id": "6ec4b557-0d7e-4588-b8a5-021cf2865930",
   "metadata": {},
   "outputs": [
    {
     "data": {
      "text/plain": [
       "145-31-9773    2\n",
       "103-44-8046    2\n",
       "690-33-7017    2\n",
       "690-33-3444    2\n",
       "              ..\n",
       "302-89-9818    1\n",
       "302-89-9978    1\n",
       "302-90-3782    1\n",
       "899-99-9854    1\n",
       "Name: ssn, Length: 987886, dtype: int64"
      ]
     },
     "execution_count": 5,
     "metadata": {},
     "output_type": "execute_result"
    }
   ],
   "source": [
    "df.ssn.value_counts()  # expect 1 and 2 values here"
   ]
  },
  {
   "cell_type": "code",
   "execution_count": 6,
   "id": "9c4a16ea-99d9-495b-9288-c6ba2dcb3718",
   "metadata": {},
   "outputs": [],
   "source": [
    "ssn_occurrences = df.ssn.value_counts()\n",
    "assert set(ssn_occurrences.unique()) == set([1,2]), 'expect each ssn to appear once or twice'"
   ]
  },
  {
   "cell_type": "code",
   "execution_count": 7,
   "id": "5eaaf39d-1058-4eaa-b718-858f58e90d50",
   "metadata": {},
   "outputs": [
    {
     "data": {
      "text/plain": [
       "26"
      ]
     },
     "execution_count": 7,
     "metadata": {},
     "output_type": "execute_result"
    }
   ],
   "source": [
    "df.middle_initial.nunique()  # expect 26"
   ]
  },
  {
   "cell_type": "code",
   "execution_count": 8,
   "id": "aa65f439-d89b-49aa-b815-9b224c20225d",
   "metadata": {},
   "outputs": [],
   "source": [
    "assert df.middle_initial.nunique()  == 26, 'expect all 26 letters to appear as a middle initial for somebody'"
   ]
  },
  {
   "cell_type": "code",
   "execution_count": 9,
   "id": "7dc5d38c-8bbc-4e35-9f47-5b30755203b8",
   "metadata": {},
   "outputs": [
    {
     "data": {
      "text/plain": [
       "{'ssn': '786-77-6454',\n",
       " 'middle_initial': 'M',\n",
       " 'event_type': 'creation',\n",
       " 'last_name': 'Bingham',\n",
       " 'first_name': 'Peter',\n",
       " 'event_date': '1921-05-13',\n",
       " 'simulant_id': '2284_733465',\n",
       " 'date_of_birth': '1921-05-13'}"
      ]
     },
     "execution_count": 9,
     "metadata": {},
     "output_type": "execute_result"
    }
   ],
   "source": [
    "df.iloc[0].to_dict()"
   ]
  },
  {
   "cell_type": "code",
   "execution_count": 10,
   "id": "d8c086af-7ec8-4f1e-ab2c-ae7fa90fe0aa",
   "metadata": {},
   "outputs": [],
   "source": [
    "df['dob'] = pd.to_datetime(df.date_of_birth)"
   ]
  },
  {
   "cell_type": "code",
   "execution_count": 11,
   "id": "8388aa5d-9097-4be9-b920-cc7d072cc195",
   "metadata": {},
   "outputs": [],
   "source": [
    "df['year_of_birth'] = df.dob.dt.year"
   ]
  },
  {
   "cell_type": "code",
   "execution_count": 12,
   "id": "eff72595-e62a-4794-9fa2-2fedb2606f05",
   "metadata": {},
   "outputs": [
    {
     "data": {
      "text/plain": [
       "<AxesSubplot:>"
      ]
     },
     "execution_count": 12,
     "metadata": {},
     "output_type": "execute_result"
    },
    {
     "data": {
      "image/png": "[encoded data removed]",
      "text/plain": [
       "<Figure size 432x288 with 1 Axes>"
      ]
     },
     "metadata": {
      "needs_background": "light"
     },
     "output_type": "display_data"
    }
   ],
   "source": [
    "df[df.event_type == 'creation'].year_of_birth.hist()"
   ]
  },
  {
   "cell_type": "code",
   "execution_count": 13,
   "id": "132b6038-842b-4323-91d6-75bc0333bf95",
   "metadata": {},
   "outputs": [
    {
     "data": {
      "text/plain": [
       "<AxesSubplot:>"
      ]
     },
     "execution_count": 13,
     "metadata": {},
     "output_type": "execute_result"
    },
    {
     "data": {
      "image/png": "[encoded data removed]",
      "text/plain": [
       "<Figure size 432x288 with 1 Axes>"
      ]
     },
     "metadata": {
      "needs_background": "light"
     },
     "output_type": "display_data"
    }
   ],
   "source": [
    "df[df.event_type == 'death'].year_of_birth.hist()"
   ]
  },
  {
   "cell_type": "code",
   "execution_count": 14,
   "id": "77415490-3b12-48ad-bd4d-109201e3b5c8",
   "metadata": {},
   "outputs": [
    {
     "data": {
      "text/plain": [
       "Michael     14213\n",
       "John        12734\n",
       "James       12461\n",
       "Robert      11623\n",
       "            ...  \n",
       "Cutler          1\n",
       "Rosamond        1\n",
       "Madalin         1\n",
       "Hayk            1\n",
       "Name: first_name, Length: 11788, dtype: int64"
      ]
     },
     "execution_count": 14,
     "metadata": {},
     "output_type": "execute_result"
    }
   ],
   "source": [
    "df.first_name.value_counts()"
   ]
  },
  {
   "cell_type": "code",
   "execution_count": 15,
   "id": "80ab5ae3-4736-4978-adc3-ae5d83ac82a5",
   "metadata": {},
   "outputs": [
    {
     "data": {
      "text/plain": [
       "[]"
      ]
     },
     "execution_count": 15,
     "metadata": {},
     "output_type": "execute_result"
    },
    {
     "data": {
      "image/png": "[encoded data removed]",
      "text/plain": [
       "<Figure size 432x288 with 1 Axes>"
      ]
     },
     "metadata": {
      "needs_background": "light"
     },
     "output_type": "display_data"
    }
   ],
   "source": [
    "df.first_name.value_counts().plot()\n",
    "plt.semilogy()"
   ]
  },
  {
   "cell_type": "code",
   "execution_count": 16,
   "id": "a3543096-e59e-4846-affa-29ffc1299b03",
   "metadata": {},
   "outputs": [],
   "source": [
    "df.event_date = pd.to_datetime(df.event_date)"
   ]
  },
  {
   "cell_type": "code",
   "execution_count": 17,
   "id": "5003148a-64f1-4291-8811-9e364638d28b",
   "metadata": {},
   "outputs": [
    {
     "data": {
      "image/png": "[encoded data removed]",
      "text/plain": [
       "<Figure size 432x288 with 1 Axes>"
      ]
     },
     "metadata": {
      "needs_background": "light"
     },
     "output_type": "display_data"
    }
   ],
   "source": [
    "df.event_date.value_counts().sort_index().plot()\n",
    "plt.ylabel('SSA events');"
   ]
  },
  {
   "cell_type": "code",
   "execution_count": 19,
   "id": "3c91cb18-be58-4ca0-a247-636ca8107bed",
   "metadata": {},
   "outputs": [
    {
     "data": {
      "text/plain": [
       "2020-03-04 00:00:00    4270\n",
       "2020-07-22 00:00:00    2001\n",
       "2020-05-27 00:00:00    1993\n",
       "2021-07-21 00:00:00    1989\n",
       "                       ... \n",
       "1923-01-03 00:00:00       1\n",
       "1922-12-31 00:00:00       1\n",
       "1923-12-19 00:00:00       1\n",
       "1921-05-13 00:00:00       1\n",
       "Name: event_date, Length: 35389, dtype: int64"
      ]
     },
     "execution_count": 19,
     "metadata": {},
     "output_type": "execute_result"
    }
   ],
   "source": [
    "df.event_date.value_counts()"
   ]
  },
  {
   "cell_type": "code",
   "execution_count": 20,
   "id": "385f1543-9d89-4393-a2ea-c26c4a44e628",
   "metadata": {},
   "outputs": [
    {
     "data": {
      "text/html": [
       "<div>\n",
       "<style scoped>\n",
       "    .dataframe tbody tr th:only-of-type {\n",
       "        vertical-align: middle;\n",
       "    }\n",
       "\n",
       "    .dataframe tbody tr th {\n",
       "        vertical-align: top;\n",
       "    }\n",
       "\n",
       "    .dataframe thead th {\n",
       "        text-align: right;\n",
       "    }\n",
       "</style>\n",
       "<table border=\"1\" class=\"dataframe\">\n",
       "  <thead>\n",
       "    <tr style=\"text-align: right;\">\n",
       "      <th></th>\n",
       "      <th>ssn</th>\n",
       "      <th>middle_initial</th>\n",
       "      <th>event_type</th>\n",
       "      <th>last_name</th>\n",
       "      <th>first_name</th>\n",
       "      <th>event_date</th>\n",
       "      <th>simulant_id</th>\n",
       "      <th>date_of_birth</th>\n",
       "      <th>dob</th>\n",
       "      <th>year_of_birth</th>\n",
       "    </tr>\n",
       "  </thead>\n",
       "  <tbody>\n",
       "    <tr>\n",
       "      <th>961235</th>\n",
       "      <td>891-23-3325</td>\n",
       "      <td>L</td>\n",
       "      <td>creation</td>\n",
       "      <td>Luchin</td>\n",
       "      <td>Maurice</td>\n",
       "      <td>2020-03-04</td>\n",
       "      <td>2284_248</td>\n",
       "      <td>2020-03-04</td>\n",
       "      <td>2020-03-04</td>\n",
       "      <td>2020</td>\n",
       "    </tr>\n",
       "    <tr>\n",
       "      <th>961236</th>\n",
       "      <td>766-69-0018</td>\n",
       "      <td>A</td>\n",
       "      <td>creation</td>\n",
       "      <td>Harris</td>\n",
       "      <td>Darian</td>\n",
       "      <td>2020-03-04</td>\n",
       "      <td>2284_925</td>\n",
       "      <td>2020-03-04</td>\n",
       "      <td>2020-03-04</td>\n",
       "      <td>2020</td>\n",
       "    </tr>\n",
       "    <tr>\n",
       "      <th>961237</th>\n",
       "      <td>334-50-2250</td>\n",
       "      <td>C</td>\n",
       "      <td>creation</td>\n",
       "      <td>Pestana</td>\n",
       "      <td>Javier</td>\n",
       "      <td>2020-03-04</td>\n",
       "      <td>2284_986</td>\n",
       "      <td>2020-03-04</td>\n",
       "      <td>2020-03-04</td>\n",
       "      <td>2020</td>\n",
       "    </tr>\n",
       "    <tr>\n",
       "      <th>961238</th>\n",
       "      <td>616-18-2931</td>\n",
       "      <td>M</td>\n",
       "      <td>creation</td>\n",
       "      <td>Hamilton</td>\n",
       "      <td>Mila</td>\n",
       "      <td>2020-03-04</td>\n",
       "      <td>2284_1233</td>\n",
       "      <td>2020-03-04</td>\n",
       "      <td>2020-03-04</td>\n",
       "      <td>2020</td>\n",
       "    </tr>\n",
       "    <tr>\n",
       "      <th>...</th>\n",
       "      <td>...</td>\n",
       "      <td>...</td>\n",
       "      <td>...</td>\n",
       "      <td>...</td>\n",
       "      <td>...</td>\n",
       "      <td>...</td>\n",
       "      <td>...</td>\n",
       "      <td>...</td>\n",
       "      <td>...</td>\n",
       "      <td>...</td>\n",
       "    </tr>\n",
       "    <tr>\n",
       "      <th>965501</th>\n",
       "      <td>864-19-2082</td>\n",
       "      <td>M</td>\n",
       "      <td>creation</td>\n",
       "      <td>Lewis</td>\n",
       "      <td>Mila</td>\n",
       "      <td>2020-03-04</td>\n",
       "      <td>2284_968972</td>\n",
       "      <td>2020-03-04</td>\n",
       "      <td>2020-03-04</td>\n",
       "      <td>2020</td>\n",
       "    </tr>\n",
       "    <tr>\n",
       "      <th>965502</th>\n",
       "      <td>277-48-4523</td>\n",
       "      <td>S</td>\n",
       "      <td>creation</td>\n",
       "      <td>Roberts</td>\n",
       "      <td>Jaliyah</td>\n",
       "      <td>2020-03-04</td>\n",
       "      <td>2284_969275</td>\n",
       "      <td>2020-03-04</td>\n",
       "      <td>2020-03-04</td>\n",
       "      <td>2020</td>\n",
       "    </tr>\n",
       "    <tr>\n",
       "      <th>965503</th>\n",
       "      <td>736-62-3154</td>\n",
       "      <td>L</td>\n",
       "      <td>creation</td>\n",
       "      <td>Thompson</td>\n",
       "      <td>Arya</td>\n",
       "      <td>2020-03-04</td>\n",
       "      <td>2284_969329</td>\n",
       "      <td>2020-03-04</td>\n",
       "      <td>2020-03-04</td>\n",
       "      <td>2020</td>\n",
       "    </tr>\n",
       "    <tr>\n",
       "      <th>965504</th>\n",
       "      <td>466-10-2218</td>\n",
       "      <td>J</td>\n",
       "      <td>creation</td>\n",
       "      <td>Abston</td>\n",
       "      <td>Emilia</td>\n",
       "      <td>2020-03-04</td>\n",
       "      <td>2284_969736</td>\n",
       "      <td>2020-03-04</td>\n",
       "      <td>2020-03-04</td>\n",
       "      <td>2020</td>\n",
       "    </tr>\n",
       "  </tbody>\n",
       "</table>\n",
       "<p>4270 rows × 10 columns</p>\n",
       "</div>"
      ],
      "text/plain": [
       "                ssn middle_initial event_type last_name first_name event_date  \\\n",
       "961235  891-23-3325              L   creation    Luchin    Maurice 2020-03-04   \n",
       "961236  766-69-0018              A   creation    Harris     Darian 2020-03-04   \n",
       "961237  334-50-2250              C   creation   Pestana     Javier 2020-03-04   \n",
       "961238  616-18-2931              M   creation  Hamilton       Mila 2020-03-04   \n",
       "...             ...            ...        ...       ...        ...        ...   \n",
       "965501  864-19-2082              M   creation     Lewis       Mila 2020-03-04   \n",
       "965502  277-48-4523              S   creation   Roberts    Jaliyah 2020-03-04   \n",
       "965503  736-62-3154              L   creation  Thompson       Arya 2020-03-04   \n",
       "965504  466-10-2218              J   creation    Abston     Emilia 2020-03-04   \n",
       "\n",
       "        simulant_id date_of_birth        dob  year_of_birth  \n",
       "961235     2284_248    2020-03-04 2020-03-04           2020  \n",
       "961236     2284_925    2020-03-04 2020-03-04           2020  \n",
       "961237     2284_986    2020-03-04 2020-03-04           2020  \n",
       "961238    2284_1233    2020-03-04 2020-03-04           2020  \n",
       "...             ...           ...        ...            ...  \n",
       "965501  2284_968972    2020-03-04 2020-03-04           2020  \n",
       "965502  2284_969275    2020-03-04 2020-03-04           2020  \n",
       "965503  2284_969329    2020-03-04 2020-03-04           2020  \n",
       "965504  2284_969736    2020-03-04 2020-03-04           2020  \n",
       "\n",
       "[4270 rows x 10 columns]"
      ]
     },
     "execution_count": 20,
     "metadata": {},
     "output_type": "execute_result"
    }
   ],
   "source": [
    "max_day = df.event_date.value_counts().index[0]\n",
    "\n",
    "df[df.event_date == max_day]"
   ]
  },
  {
   "cell_type": "code",
   "execution_count": 21,
   "id": "91c97338-ff21-4814-a7a3-581ae926cbcb",
   "metadata": {},
   "outputs": [
    {
     "data": {
      "text/html": [
       "<div>\n",
       "<style scoped>\n",
       "    .dataframe tbody tr th:only-of-type {\n",
       "        vertical-align: middle;\n",
       "    }\n",
       "\n",
       "    .dataframe tbody tr th {\n",
       "        vertical-align: top;\n",
       "    }\n",
       "\n",
       "    .dataframe thead th {\n",
       "        text-align: right;\n",
       "    }\n",
       "</style>\n",
       "<table border=\"1\" class=\"dataframe\">\n",
       "  <thead>\n",
       "    <tr style=\"text-align: right;\">\n",
       "      <th></th>\n",
       "      <th>ssn</th>\n",
       "      <th>middle_initial</th>\n",
       "      <th>event_type</th>\n",
       "      <th>last_name</th>\n",
       "      <th>first_name</th>\n",
       "      <th>event_date</th>\n",
       "      <th>simulant_id</th>\n",
       "      <th>date_of_birth</th>\n",
       "      <th>dob</th>\n",
       "      <th>year_of_birth</th>\n",
       "    </tr>\n",
       "  </thead>\n",
       "  <tbody>\n",
       "    <tr>\n",
       "      <th>972274</th>\n",
       "      <td>318-16-7924</td>\n",
       "      <td>P</td>\n",
       "      <td>death</td>\n",
       "      <td>Fitch</td>\n",
       "      <td>Amelia</td>\n",
       "      <td>2020-07-22</td>\n",
       "      <td>2284_508944</td>\n",
       "      <td>1923-05-18</td>\n",
       "      <td>1923-05-18</td>\n",
       "      <td>1923</td>\n",
       "    </tr>\n",
       "    <tr>\n",
       "      <th>972275</th>\n",
       "      <td>514-08-8114</td>\n",
       "      <td>D</td>\n",
       "      <td>death</td>\n",
       "      <td>Sommer</td>\n",
       "      <td>Susie</td>\n",
       "      <td>2020-07-22</td>\n",
       "      <td>2284_471801</td>\n",
       "      <td>1923-06-06</td>\n",
       "      <td>1923-06-06</td>\n",
       "      <td>1923</td>\n",
       "    </tr>\n",
       "    <tr>\n",
       "      <th>972276</th>\n",
       "      <td>221-67-7051</td>\n",
       "      <td>G</td>\n",
       "      <td>death</td>\n",
       "      <td>Conroy</td>\n",
       "      <td>Rita</td>\n",
       "      <td>2020-07-22</td>\n",
       "      <td>2284_705740</td>\n",
       "      <td>1923-06-19</td>\n",
       "      <td>1923-06-19</td>\n",
       "      <td>1923</td>\n",
       "    </tr>\n",
       "    <tr>\n",
       "      <th>972277</th>\n",
       "      <td>684-47-3570</td>\n",
       "      <td>J</td>\n",
       "      <td>death</td>\n",
       "      <td>Stephens</td>\n",
       "      <td>Ross</td>\n",
       "      <td>2020-07-22</td>\n",
       "      <td>2284_785602</td>\n",
       "      <td>1923-08-19</td>\n",
       "      <td>1923-08-19</td>\n",
       "      <td>1923</td>\n",
       "    </tr>\n",
       "    <tr>\n",
       "      <th>...</th>\n",
       "      <td>...</td>\n",
       "      <td>...</td>\n",
       "      <td>...</td>\n",
       "      <td>...</td>\n",
       "      <td>...</td>\n",
       "      <td>...</td>\n",
       "      <td>...</td>\n",
       "      <td>...</td>\n",
       "      <td>...</td>\n",
       "      <td>...</td>\n",
       "    </tr>\n",
       "    <tr>\n",
       "      <th>974271</th>\n",
       "      <td>734-04-8562</td>\n",
       "      <td>A</td>\n",
       "      <td>creation</td>\n",
       "      <td>Ward</td>\n",
       "      <td>Wren</td>\n",
       "      <td>2020-07-22</td>\n",
       "      <td>2284_1006176</td>\n",
       "      <td>2020-08-18</td>\n",
       "      <td>2020-08-18</td>\n",
       "      <td>2020</td>\n",
       "    </tr>\n",
       "    <tr>\n",
       "      <th>974272</th>\n",
       "      <td>167-11-9504</td>\n",
       "      <td>C</td>\n",
       "      <td>creation</td>\n",
       "      <td>Minarik</td>\n",
       "      <td>Theodore</td>\n",
       "      <td>2020-07-22</td>\n",
       "      <td>2284_1006209</td>\n",
       "      <td>2020-08-18</td>\n",
       "      <td>2020-08-18</td>\n",
       "      <td>2020</td>\n",
       "    </tr>\n",
       "    <tr>\n",
       "      <th>974273</th>\n",
       "      <td>485-89-9645</td>\n",
       "      <td>R</td>\n",
       "      <td>creation</td>\n",
       "      <td>Flanagan</td>\n",
       "      <td>Ryder</td>\n",
       "      <td>2020-07-22</td>\n",
       "      <td>2284_1006268</td>\n",
       "      <td>2020-08-18</td>\n",
       "      <td>2020-08-18</td>\n",
       "      <td>2020</td>\n",
       "    </tr>\n",
       "    <tr>\n",
       "      <th>974274</th>\n",
       "      <td>291-16-4229</td>\n",
       "      <td>A</td>\n",
       "      <td>creation</td>\n",
       "      <td>Mata</td>\n",
       "      <td>Kenai</td>\n",
       "      <td>2020-07-22</td>\n",
       "      <td>2284_1006315</td>\n",
       "      <td>2020-08-18</td>\n",
       "      <td>2020-08-18</td>\n",
       "      <td>2020</td>\n",
       "    </tr>\n",
       "  </tbody>\n",
       "</table>\n",
       "<p>2001 rows × 10 columns</p>\n",
       "</div>"
      ],
      "text/plain": [
       "                ssn middle_initial event_type last_name first_name event_date  \\\n",
       "972274  318-16-7924              P      death     Fitch     Amelia 2020-07-22   \n",
       "972275  514-08-8114              D      death    Sommer      Susie 2020-07-22   \n",
       "972276  221-67-7051              G      death    Conroy       Rita 2020-07-22   \n",
       "972277  684-47-3570              J      death  Stephens       Ross 2020-07-22   \n",
       "...             ...            ...        ...       ...        ...        ...   \n",
       "974271  734-04-8562              A   creation      Ward       Wren 2020-07-22   \n",
       "974272  167-11-9504              C   creation   Minarik   Theodore 2020-07-22   \n",
       "974273  485-89-9645              R   creation  Flanagan      Ryder 2020-07-22   \n",
       "974274  291-16-4229              A   creation      Mata      Kenai 2020-07-22   \n",
       "\n",
       "         simulant_id date_of_birth        dob  year_of_birth  \n",
       "972274   2284_508944    1923-05-18 1923-05-18           1923  \n",
       "972275   2284_471801    1923-06-06 1923-06-06           1923  \n",
       "972276   2284_705740    1923-06-19 1923-06-19           1923  \n",
       "972277   2284_785602    1923-08-19 1923-08-19           1923  \n",
       "...              ...           ...        ...            ...  \n",
       "974271  2284_1006176    2020-08-18 2020-08-18           2020  \n",
       "974272  2284_1006209    2020-08-18 2020-08-18           2020  \n",
       "974273  2284_1006268    2020-08-18 2020-08-18           2020  \n",
       "974274  2284_1006315    2020-08-18 2020-08-18           2020  \n",
       "\n",
       "[2001 rows x 10 columns]"
      ]
     },
     "execution_count": 21,
     "metadata": {},
     "output_type": "execute_result"
    }
   ],
   "source": [
    "second_to_max_day = df.event_date.value_counts().index[1]\n",
    "\n",
    "df[df.event_date == second_to_max_day]"
   ]
  },
  {
   "cell_type": "code",
   "execution_count": null,
   "id": "8b8974de-28c4-4bc4-8343-0787767497d8",
   "metadata": {},
   "outputs": [],
   "source": []
  }
 ],
 "metadata": {
  "kernelspec": {
   "display_name": "Python 3 (ipykernel)",
   "language": "python",
   "name": "python3"
  },
  "language_info": {
   "codemirror_mode": {
    "name": "ipython",
    "version": 3
   },
   "file_extension": ".py",
   "mimetype": "text/x-python",
   "name": "python",
   "nbconvert_exporter": "python",
   "pygments_lexer": "ipython3",
   "version": "3.8.12"
  }
 },
 "nbformat": 4,
 "nbformat_minor": 5
}
