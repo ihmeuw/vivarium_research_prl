{
 "cells": [
  {
   "cell_type": "code",
   "execution_count": 1,
   "id": "ebb4d107-21ce-4a0a-af23-1aff7e2c6b3a",
   "metadata": {},
   "outputs": [
    {
     "name": "stdout",
     "output_type": "stream",
     "text": [
      "Thu Mar 23 12:44:59 PDT 2023\n"
     ]
    }
   ],
   "source": [
    "import numpy as np, matplotlib.pyplot as plt, pandas as pd\n",
    "pd.set_option('display.max_rows', 8)\n",
    "!date"
   ]
  },
  {
   "cell_type": "code",
   "execution_count": 2,
   "id": "3590cd69-934f-416e-9925-23ac77d5b0aa",
   "metadata": {},
   "outputs": [],
   "source": [
    "# from vivarium_research_prl import datatypes"
   ]
  },
  {
   "cell_type": "markdown",
   "id": "c57e2f83-698b-452b-897b-e6acc355c033",
   "metadata": {},
   "source": [
    "# PRL V&V - Social Security Observer\n",
    "Systematic validation"
   ]
  },
  {
   "cell_type": "code",
   "execution_count": 28,
   "id": "34d17db1-1d09-46c9-9464-42942416f530",
   "metadata": {},
   "outputs": [
    {
     "name": "stdout",
     "output_type": "stream",
     "text": [
      "/mnt/team/simulation_science/priv/engineering/vivarium_census_prl_synth_pop/results/vv_tax_observers/united_states_of_america/2023_03_06_12_42_55/final_results/2023_03_14_16_41_22\n",
      "total 14G\n",
      "drwxrwsr-x  2 albrja IHME-Simulationscience 4.0K Mar 22 16:44 .\n",
      "-rw-r--r--  1 albrja IHME-Simulationscience  59M Mar 15 10:01 wic_observer.csv.bz2\n",
      "-rw-r--r--  1 albrja IHME-Simulationscience 1.5G Mar 15 10:01 tax_dependents_observer.csv.bz2\n",
      "-rw-r--r--  1 albrja IHME-Simulationscience 6.8G Mar 15 09:57 tax_w2_observer.csv.bz2\n",
      "-rw-r--r--  1 albrja IHME-Simulationscience 4.1G Mar 15 09:56 tax_1040_observer.csv.bz2\n",
      "-rw-r--r--  1 albrja IHME-Simulationscience 192M Mar 15 09:48 social_security_observer.csv.bz2\n",
      "-rw-r--r--  1 albrja IHME-Simulationscience  35M Mar 15 09:36 household_survey_observer_cps.csv.bz2\n",
      "-rw-r--r--  1 albrja IHME-Simulationscience 6.7M Mar 15 09:36 household_survey_observer_acs.csv.bz2\n",
      "-rw-r--r--  1 albrja IHME-Simulationscience 638M Mar 15 09:36 decennial_census_observer.csv.bz2\n",
      "drwxrwsr-x 12 albrja IHME-Simulationscience 5.5K Mar 14 20:25 ..\n"
     ]
    }
   ],
   "source": [
    "%cd /mnt/team/simulation_science/priv/engineering/vivarium_census_prl_synth_pop/results/vv_tax_observers/united_states_of_america/2023_03_06_12_42_55/final_results/2023_03_14_16_41_22\n",
    "!ls -halt"
   ]
  },
  {
   "cell_type": "code",
   "execution_count": 29,
   "id": "4322d8c4-6581-4f59-a4e2-741d8cde5247",
   "metadata": {},
   "outputs": [
    {
     "name": "stdout",
     "output_type": "stream",
     "text": [
      "CPU times: user 4.89 s, sys: 325 ms, total: 5.22 s\n",
      "Wall time: 5.23 s\n"
     ]
    }
   ],
   "source": [
    "%%time\n",
    "\n",
    "df = pd.read_csv('social_security_observer.csv.bz2', low_memory=False, #dtype='category',\n",
    "                 nrows=1_000_000\n",
    "                )"
   ]
  },
  {
   "cell_type": "code",
   "execution_count": 30,
   "id": "d2e0b37d-aa77-43b1-806c-fdfcf1af4e85",
   "metadata": {},
   "outputs": [
    {
     "data": {
      "text/html": [
       "<div>\n",
       "<style scoped>\n",
       "    .dataframe tbody tr th:only-of-type {\n",
       "        vertical-align: middle;\n",
       "    }\n",
       "\n",
       "    .dataframe tbody tr th {\n",
       "        vertical-align: top;\n",
       "    }\n",
       "\n",
       "    .dataframe thead th {\n",
       "        text-align: right;\n",
       "    }\n",
       "</style>\n",
       "<table border=\"1\" class=\"dataframe\">\n",
       "  <thead>\n",
       "    <tr style=\"text-align: right;\">\n",
       "      <th></th>\n",
       "      <th>ssn</th>\n",
       "      <th>middle_initial</th>\n",
       "      <th>event_type</th>\n",
       "      <th>last_name</th>\n",
       "      <th>first_name</th>\n",
       "      <th>event_date</th>\n",
       "      <th>simulant_id</th>\n",
       "      <th>date_of_birth</th>\n",
       "    </tr>\n",
       "  </thead>\n",
       "  <tbody>\n",
       "    <tr>\n",
       "      <th>0</th>\n",
       "      <td>786-77-6454</td>\n",
       "      <td>M</td>\n",
       "      <td>creation</td>\n",
       "      <td>Bingham</td>\n",
       "      <td>Peter</td>\n",
       "      <td>1921-05-13</td>\n",
       "      <td>2284_733465</td>\n",
       "      <td>1921-05-13</td>\n",
       "    </tr>\n",
       "    <tr>\n",
       "      <th>1</th>\n",
       "      <td>688-88-6377</td>\n",
       "      <td>D</td>\n",
       "      <td>creation</td>\n",
       "      <td>Bingham</td>\n",
       "      <td>Janice</td>\n",
       "      <td>1921-06-21</td>\n",
       "      <td>2284_733466</td>\n",
       "      <td>1921-06-21</td>\n",
       "    </tr>\n",
       "    <tr>\n",
       "      <th>2</th>\n",
       "      <td>651-33-9561</td>\n",
       "      <td>H</td>\n",
       "      <td>creation</td>\n",
       "      <td>Burdick</td>\n",
       "      <td>Anna</td>\n",
       "      <td>1921-07-13</td>\n",
       "      <td>2284_776885</td>\n",
       "      <td>1921-07-13</td>\n",
       "    </tr>\n",
       "    <tr>\n",
       "      <th>3</th>\n",
       "      <td>665-25-7858</td>\n",
       "      <td>M</td>\n",
       "      <td>creation</td>\n",
       "      <td>Tapia</td>\n",
       "      <td>Gertrude</td>\n",
       "      <td>1921-07-26</td>\n",
       "      <td>2284_869365</td>\n",
       "      <td>1921-07-26</td>\n",
       "    </tr>\n",
       "    <tr>\n",
       "      <th>...</th>\n",
       "      <td>...</td>\n",
       "      <td>...</td>\n",
       "      <td>...</td>\n",
       "      <td>...</td>\n",
       "      <td>...</td>\n",
       "      <td>...</td>\n",
       "      <td>...</td>\n",
       "      <td>...</td>\n",
       "    </tr>\n",
       "    <tr>\n",
       "      <th>999996</th>\n",
       "      <td>378-10-3757</td>\n",
       "      <td>C</td>\n",
       "      <td>death</td>\n",
       "      <td>Rhodes</td>\n",
       "      <td>Karen</td>\n",
       "      <td>2021-08-18</td>\n",
       "      <td>2284_499762</td>\n",
       "      <td>1948-12-10</td>\n",
       "    </tr>\n",
       "    <tr>\n",
       "      <th>999997</th>\n",
       "      <td>847-72-9612</td>\n",
       "      <td>S</td>\n",
       "      <td>death</td>\n",
       "      <td>Ayala-Rivera</td>\n",
       "      <td>Thomas</td>\n",
       "      <td>2021-08-18</td>\n",
       "      <td>2284_124489</td>\n",
       "      <td>1949-01-05</td>\n",
       "    </tr>\n",
       "    <tr>\n",
       "      <th>999998</th>\n",
       "      <td>811-81-0649</td>\n",
       "      <td>S</td>\n",
       "      <td>death</td>\n",
       "      <td>Horton</td>\n",
       "      <td>Ronald</td>\n",
       "      <td>2021-08-18</td>\n",
       "      <td>2284_165020</td>\n",
       "      <td>1949-02-14</td>\n",
       "    </tr>\n",
       "    <tr>\n",
       "      <th>999999</th>\n",
       "      <td>315-54-4731</td>\n",
       "      <td>M</td>\n",
       "      <td>death</td>\n",
       "      <td>Chaumont</td>\n",
       "      <td>Maureen</td>\n",
       "      <td>2021-08-18</td>\n",
       "      <td>2284_603412</td>\n",
       "      <td>1949-02-17</td>\n",
       "    </tr>\n",
       "  </tbody>\n",
       "</table>\n",
       "<p>1000000 rows × 8 columns</p>\n",
       "</div>"
      ],
      "text/plain": [
       "                ssn middle_initial event_type     last_name first_name  \\\n",
       "0       786-77-6454              M   creation       Bingham      Peter   \n",
       "1       688-88-6377              D   creation       Bingham     Janice   \n",
       "2       651-33-9561              H   creation       Burdick       Anna   \n",
       "3       665-25-7858              M   creation         Tapia   Gertrude   \n",
       "...             ...            ...        ...           ...        ...   \n",
       "999996  378-10-3757              C      death        Rhodes      Karen   \n",
       "999997  847-72-9612              S      death  Ayala-Rivera     Thomas   \n",
       "999998  811-81-0649              S      death        Horton     Ronald   \n",
       "999999  315-54-4731              M      death      Chaumont    Maureen   \n",
       "\n",
       "        event_date  simulant_id date_of_birth  \n",
       "0       1921-05-13  2284_733465    1921-05-13  \n",
       "1       1921-06-21  2284_733466    1921-06-21  \n",
       "2       1921-07-13  2284_776885    1921-07-13  \n",
       "3       1921-07-26  2284_869365    1921-07-26  \n",
       "...            ...          ...           ...  \n",
       "999996  2021-08-18  2284_499762    1948-12-10  \n",
       "999997  2021-08-18  2284_124489    1949-01-05  \n",
       "999998  2021-08-18  2284_165020    1949-02-14  \n",
       "999999  2021-08-18  2284_603412    1949-02-17  \n",
       "\n",
       "[1000000 rows x 8 columns]"
      ]
     },
     "execution_count": 30,
     "metadata": {},
     "output_type": "execute_result"
    }
   ],
   "source": [
    "df"
   ]
  },
  {
   "cell_type": "code",
   "execution_count": 31,
   "id": "7dc5d38c-8bbc-4e35-9f47-5b30755203b8",
   "metadata": {},
   "outputs": [
    {
     "data": {
      "text/plain": [
       "{'ssn': '786-77-6454',\n",
       " 'middle_initial': 'M',\n",
       " 'event_type': 'creation',\n",
       " 'last_name': 'Bingham',\n",
       " 'first_name': 'Peter',\n",
       " 'event_date': '1921-05-13',\n",
       " 'simulant_id': '2284_733465',\n",
       " 'date_of_birth': '1921-05-13'}"
      ]
     },
     "execution_count": 31,
     "metadata": {},
     "output_type": "execute_result"
    }
   ],
   "source": [
    "df.iloc[0].to_dict()"
   ]
  },
  {
   "cell_type": "markdown",
   "id": "209be572-d458-460a-8571-b257ceac3648",
   "metadata": {
    "tags": []
   },
   "source": [
    "# Known VV issues\n",
    "\n",
    "* ssn could be an int, to save space/time\n",
    "* event type is categorical, could specifiy when reading csv\n",
    "* (names could also be treated as categorical)\n",
    "* event_date might be better clipped to some date when SS started (somebody reading this data will realize that there was no SSA in 1921!)\n",
    "* simulant_id could be an int (or float)"
   ]
  },
  {
   "cell_type": "markdown",
   "id": "d8531e13-7d15-4de7-b409-46db18a488d2",
   "metadata": {},
   "source": [
    "## Checking data type"
   ]
  },
  {
   "cell_type": "code",
   "execution_count": 32,
   "id": "ad1728f0-0bb9-4243-999d-0f5db80c7286",
   "metadata": {},
   "outputs": [
    {
     "data": {
      "text/plain": [
       "ssn               object\n",
       "middle_initial    object\n",
       "event_type        object\n",
       "last_name         object\n",
       "first_name        object\n",
       "event_date        object\n",
       "simulant_id       object\n",
       "date_of_birth     object\n",
       "dtype: object"
      ]
     },
     "execution_count": 32,
     "metadata": {},
     "output_type": "execute_result"
    }
   ],
   "source": [
    "df.dtypes"
   ]
  },
  {
   "cell_type": "markdown",
   "id": "9bbbe8c8-ca5c-4207-bda5-23accc57eb18",
   "metadata": {},
   "source": [
    "## Checking SSN assignment\n",
    "- Each SSN should only appear once or twice (i.e., could be assigned to two separate sim_ids in the instance that a sim dies and their SSN is given to a new sim)"
   ]
  },
  {
   "cell_type": "code",
   "execution_count": 33,
   "id": "6ec4b557-0d7e-4588-b8a5-021cf2865930",
   "metadata": {},
   "outputs": [
    {
     "data": {
      "text/plain": [
       "786-77-6454    2\n",
       "141-87-9698    2\n",
       "046-56-6824    2\n",
       "703-78-7219    2\n",
       "              ..\n",
       "564-23-3351    1\n",
       "744-28-0819    1\n",
       "236-28-7659    1\n",
       "712-26-2069    1\n",
       "Name: ssn, Length: 987886, dtype: int64"
      ]
     },
     "execution_count": 33,
     "metadata": {},
     "output_type": "execute_result"
    }
   ],
   "source": [
    "df.ssn.value_counts()  # expect 1 and 2 values here"
   ]
  },
  {
   "cell_type": "code",
   "execution_count": 34,
   "id": "9c4a16ea-99d9-495b-9288-c6ba2dcb3718",
   "metadata": {},
   "outputs": [],
   "source": [
    "ssn_occurrences = df.ssn.value_counts()\n",
    "assert set(ssn_occurrences.unique()) == set([1,2]), 'expect each ssn to appear once or twice'"
   ]
  },
  {
   "cell_type": "markdown",
   "id": "1b547835-dd64-48ce-8671-5433d285f8f1",
   "metadata": {},
   "source": [
    "## Checking names \n",
    "- All 26 letters should be represented as a simulant middle initial\n",
    "- Most common and least common first and last names should be as expected\n",
    "- Most common and least common first and last names stratified by race/ethnicity should be as expected"
   ]
  },
  {
   "cell_type": "code",
   "execution_count": 35,
   "id": "5eaaf39d-1058-4eaa-b718-858f58e90d50",
   "metadata": {},
   "outputs": [
    {
     "data": {
      "text/plain": [
       "26"
      ]
     },
     "execution_count": 35,
     "metadata": {},
     "output_type": "execute_result"
    }
   ],
   "source": [
    "df.middle_initial.nunique()  # expect 26"
   ]
  },
  {
   "cell_type": "code",
   "execution_count": 36,
   "id": "aa65f439-d89b-49aa-b815-9b224c20225d",
   "metadata": {},
   "outputs": [],
   "source": [
    "assert df.middle_initial.nunique()  == 26, 'expect all 26 letters to appear as a middle initial for somebody'"
   ]
  },
  {
   "cell_type": "code",
   "execution_count": 37,
   "id": "77415490-3b12-48ad-bd4d-109201e3b5c8",
   "metadata": {},
   "outputs": [
    {
     "data": {
      "text/plain": [
       "Michael    14213\n",
       "John       12734\n",
       "James      12461\n",
       "Robert     11623\n",
       "           ...  \n",
       "Trane          1\n",
       "Phoua          1\n",
       "Sabree         1\n",
       "Khaza          1\n",
       "Name: first_name, Length: 11788, dtype: int64"
      ]
     },
     "execution_count": 37,
     "metadata": {},
     "output_type": "execute_result"
    }
   ],
   "source": [
    "df.first_name.value_counts()"
   ]
  },
  {
   "cell_type": "code",
   "execution_count": 38,
   "id": "80ab5ae3-4736-4978-adc3-ae5d83ac82a5",
   "metadata": {},
   "outputs": [
    {
     "data": {
      "text/plain": [
       "[]"
      ]
     },
     "execution_count": 38,
     "metadata": {},
     "output_type": "execute_result"
    },
    {
     "data": {
      "image/png": "[encoded data removed]",
      "text/plain": [
       "<Figure size 432x288 with 1 Axes>"
      ]
     },
     "metadata": {
      "needs_background": "light"
     },
     "output_type": "display_data"
    }
   ],
   "source": [
    "df.first_name.value_counts().plot()\n",
    "plt.semilogy()"
   ]
  },
  {
   "cell_type": "markdown",
   "id": "718d200c-83fc-47a2-83f3-988df8194173",
   "metadata": {},
   "source": [
    "## Checking event date distribution\n",
    "- should see far more creation/death events toward end of simulation: but why?\n",
    "- check how often death events are happening: check mortality rates?\n",
    "- check how often creation events are happening: when creation event_date != dob, check migration rates. When creation event_date == dob, check fertility rates."
   ]
  },
  {
   "cell_type": "code",
   "execution_count": 39,
   "id": "a3543096-e59e-4846-affa-29ffc1299b03",
   "metadata": {},
   "outputs": [],
   "source": [
    "df.event_date = pd.to_datetime(df.event_date)"
   ]
  },
  {
   "cell_type": "code",
   "execution_count": 40,
   "id": "5003148a-64f1-4291-8811-9e364638d28b",
   "metadata": {},
   "outputs": [
    {
     "data": {
      "image/png": "[encoded data removed]",
      "text/plain": [
       "<Figure size 432x288 with 1 Axes>"
      ]
     },
     "metadata": {
      "needs_background": "light"
     },
     "output_type": "display_data"
    }
   ],
   "source": [
    "df.event_date.value_counts().sort_index().plot()\n",
    "plt.ylabel('SSA events');"
   ]
  },
  {
   "cell_type": "code",
   "execution_count": 41,
   "id": "3c91cb18-be58-4ca0-a247-636ca8107bed",
   "metadata": {},
   "outputs": [
    {
     "data": {
      "text/plain": [
       "2020-03-04    4270\n",
       "2020-07-22    2001\n",
       "2020-05-27    1993\n",
       "2021-07-21    1989\n",
       "              ... \n",
       "1923-01-03       1\n",
       "1922-12-31       1\n",
       "1923-12-19       1\n",
       "1921-05-13       1\n",
       "Name: event_date, Length: 35389, dtype: int64"
      ]
     },
     "execution_count": 41,
     "metadata": {},
     "output_type": "execute_result"
    }
   ],
   "source": [
    "df.event_date.value_counts()"
   ]
  },
  {
   "cell_type": "code",
   "execution_count": 42,
   "id": "385f1543-9d89-4393-a2ea-c26c4a44e628",
   "metadata": {},
   "outputs": [
    {
     "data": {
      "text/html": [
       "<div>\n",
       "<style scoped>\n",
       "    .dataframe tbody tr th:only-of-type {\n",
       "        vertical-align: middle;\n",
       "    }\n",
       "\n",
       "    .dataframe tbody tr th {\n",
       "        vertical-align: top;\n",
       "    }\n",
       "\n",
       "    .dataframe thead th {\n",
       "        text-align: right;\n",
       "    }\n",
       "</style>\n",
       "<table border=\"1\" class=\"dataframe\">\n",
       "  <thead>\n",
       "    <tr style=\"text-align: right;\">\n",
       "      <th></th>\n",
       "      <th>ssn</th>\n",
       "      <th>middle_initial</th>\n",
       "      <th>event_type</th>\n",
       "      <th>last_name</th>\n",
       "      <th>first_name</th>\n",
       "      <th>event_date</th>\n",
       "      <th>simulant_id</th>\n",
       "      <th>date_of_birth</th>\n",
       "    </tr>\n",
       "  </thead>\n",
       "  <tbody>\n",
       "    <tr>\n",
       "      <th>961235</th>\n",
       "      <td>891-23-3325</td>\n",
       "      <td>L</td>\n",
       "      <td>creation</td>\n",
       "      <td>Luchin</td>\n",
       "      <td>Maurice</td>\n",
       "      <td>2020-03-04</td>\n",
       "      <td>2284_248</td>\n",
       "      <td>2020-03-04</td>\n",
       "    </tr>\n",
       "    <tr>\n",
       "      <th>961236</th>\n",
       "      <td>766-69-0018</td>\n",
       "      <td>A</td>\n",
       "      <td>creation</td>\n",
       "      <td>Harris</td>\n",
       "      <td>Darian</td>\n",
       "      <td>2020-03-04</td>\n",
       "      <td>2284_925</td>\n",
       "      <td>2020-03-04</td>\n",
       "    </tr>\n",
       "    <tr>\n",
       "      <th>961237</th>\n",
       "      <td>334-50-2250</td>\n",
       "      <td>C</td>\n",
       "      <td>creation</td>\n",
       "      <td>Pestana</td>\n",
       "      <td>Javier</td>\n",
       "      <td>2020-03-04</td>\n",
       "      <td>2284_986</td>\n",
       "      <td>2020-03-04</td>\n",
       "    </tr>\n",
       "    <tr>\n",
       "      <th>961238</th>\n",
       "      <td>616-18-2931</td>\n",
       "      <td>M</td>\n",
       "      <td>creation</td>\n",
       "      <td>Hamilton</td>\n",
       "      <td>Mila</td>\n",
       "      <td>2020-03-04</td>\n",
       "      <td>2284_1233</td>\n",
       "      <td>2020-03-04</td>\n",
       "    </tr>\n",
       "    <tr>\n",
       "      <th>...</th>\n",
       "      <td>...</td>\n",
       "      <td>...</td>\n",
       "      <td>...</td>\n",
       "      <td>...</td>\n",
       "      <td>...</td>\n",
       "      <td>...</td>\n",
       "      <td>...</td>\n",
       "      <td>...</td>\n",
       "    </tr>\n",
       "    <tr>\n",
       "      <th>965501</th>\n",
       "      <td>864-19-2082</td>\n",
       "      <td>M</td>\n",
       "      <td>creation</td>\n",
       "      <td>Lewis</td>\n",
       "      <td>Mila</td>\n",
       "      <td>2020-03-04</td>\n",
       "      <td>2284_968972</td>\n",
       "      <td>2020-03-04</td>\n",
       "    </tr>\n",
       "    <tr>\n",
       "      <th>965502</th>\n",
       "      <td>277-48-4523</td>\n",
       "      <td>S</td>\n",
       "      <td>creation</td>\n",
       "      <td>Roberts</td>\n",
       "      <td>Jaliyah</td>\n",
       "      <td>2020-03-04</td>\n",
       "      <td>2284_969275</td>\n",
       "      <td>2020-03-04</td>\n",
       "    </tr>\n",
       "    <tr>\n",
       "      <th>965503</th>\n",
       "      <td>736-62-3154</td>\n",
       "      <td>L</td>\n",
       "      <td>creation</td>\n",
       "      <td>Thompson</td>\n",
       "      <td>Arya</td>\n",
       "      <td>2020-03-04</td>\n",
       "      <td>2284_969329</td>\n",
       "      <td>2020-03-04</td>\n",
       "    </tr>\n",
       "    <tr>\n",
       "      <th>965504</th>\n",
       "      <td>466-10-2218</td>\n",
       "      <td>J</td>\n",
       "      <td>creation</td>\n",
       "      <td>Abston</td>\n",
       "      <td>Emilia</td>\n",
       "      <td>2020-03-04</td>\n",
       "      <td>2284_969736</td>\n",
       "      <td>2020-03-04</td>\n",
       "    </tr>\n",
       "  </tbody>\n",
       "</table>\n",
       "<p>4270 rows × 8 columns</p>\n",
       "</div>"
      ],
      "text/plain": [
       "                ssn middle_initial event_type last_name first_name event_date  \\\n",
       "961235  891-23-3325              L   creation    Luchin    Maurice 2020-03-04   \n",
       "961236  766-69-0018              A   creation    Harris     Darian 2020-03-04   \n",
       "961237  334-50-2250              C   creation   Pestana     Javier 2020-03-04   \n",
       "961238  616-18-2931              M   creation  Hamilton       Mila 2020-03-04   \n",
       "...             ...            ...        ...       ...        ...        ...   \n",
       "965501  864-19-2082              M   creation     Lewis       Mila 2020-03-04   \n",
       "965502  277-48-4523              S   creation   Roberts    Jaliyah 2020-03-04   \n",
       "965503  736-62-3154              L   creation  Thompson       Arya 2020-03-04   \n",
       "965504  466-10-2218              J   creation    Abston     Emilia 2020-03-04   \n",
       "\n",
       "        simulant_id date_of_birth  \n",
       "961235     2284_248    2020-03-04  \n",
       "961236     2284_925    2020-03-04  \n",
       "961237     2284_986    2020-03-04  \n",
       "961238    2284_1233    2020-03-04  \n",
       "...             ...           ...  \n",
       "965501  2284_968972    2020-03-04  \n",
       "965502  2284_969275    2020-03-04  \n",
       "965503  2284_969329    2020-03-04  \n",
       "965504  2284_969736    2020-03-04  \n",
       "\n",
       "[4270 rows x 8 columns]"
      ]
     },
     "execution_count": 42,
     "metadata": {},
     "output_type": "execute_result"
    }
   ],
   "source": [
    "max_day = df.event_date.value_counts().index[0]\n",
    "\n",
    "df[df.event_date == max_day]"
   ]
  },
  {
   "cell_type": "code",
   "execution_count": 43,
   "id": "91c97338-ff21-4814-a7a3-581ae926cbcb",
   "metadata": {},
   "outputs": [
    {
     "data": {
      "text/html": [
       "<div>\n",
       "<style scoped>\n",
       "    .dataframe tbody tr th:only-of-type {\n",
       "        vertical-align: middle;\n",
       "    }\n",
       "\n",
       "    .dataframe tbody tr th {\n",
       "        vertical-align: top;\n",
       "    }\n",
       "\n",
       "    .dataframe thead th {\n",
       "        text-align: right;\n",
       "    }\n",
       "</style>\n",
       "<table border=\"1\" class=\"dataframe\">\n",
       "  <thead>\n",
       "    <tr style=\"text-align: right;\">\n",
       "      <th></th>\n",
       "      <th>ssn</th>\n",
       "      <th>middle_initial</th>\n",
       "      <th>event_type</th>\n",
       "      <th>last_name</th>\n",
       "      <th>first_name</th>\n",
       "      <th>event_date</th>\n",
       "      <th>simulant_id</th>\n",
       "      <th>date_of_birth</th>\n",
       "    </tr>\n",
       "  </thead>\n",
       "  <tbody>\n",
       "    <tr>\n",
       "      <th>972274</th>\n",
       "      <td>318-16-7924</td>\n",
       "      <td>P</td>\n",
       "      <td>death</td>\n",
       "      <td>Fitch</td>\n",
       "      <td>Amelia</td>\n",
       "      <td>2020-07-22</td>\n",
       "      <td>2284_508944</td>\n",
       "      <td>1923-05-18</td>\n",
       "    </tr>\n",
       "    <tr>\n",
       "      <th>972275</th>\n",
       "      <td>514-08-8114</td>\n",
       "      <td>D</td>\n",
       "      <td>death</td>\n",
       "      <td>Sommer</td>\n",
       "      <td>Susie</td>\n",
       "      <td>2020-07-22</td>\n",
       "      <td>2284_471801</td>\n",
       "      <td>1923-06-06</td>\n",
       "    </tr>\n",
       "    <tr>\n",
       "      <th>972276</th>\n",
       "      <td>221-67-7051</td>\n",
       "      <td>G</td>\n",
       "      <td>death</td>\n",
       "      <td>Conroy</td>\n",
       "      <td>Rita</td>\n",
       "      <td>2020-07-22</td>\n",
       "      <td>2284_705740</td>\n",
       "      <td>1923-06-19</td>\n",
       "    </tr>\n",
       "    <tr>\n",
       "      <th>972277</th>\n",
       "      <td>684-47-3570</td>\n",
       "      <td>J</td>\n",
       "      <td>death</td>\n",
       "      <td>Stephens</td>\n",
       "      <td>Ross</td>\n",
       "      <td>2020-07-22</td>\n",
       "      <td>2284_785602</td>\n",
       "      <td>1923-08-19</td>\n",
       "    </tr>\n",
       "    <tr>\n",
       "      <th>...</th>\n",
       "      <td>...</td>\n",
       "      <td>...</td>\n",
       "      <td>...</td>\n",
       "      <td>...</td>\n",
       "      <td>...</td>\n",
       "      <td>...</td>\n",
       "      <td>...</td>\n",
       "      <td>...</td>\n",
       "    </tr>\n",
       "    <tr>\n",
       "      <th>974271</th>\n",
       "      <td>734-04-8562</td>\n",
       "      <td>A</td>\n",
       "      <td>creation</td>\n",
       "      <td>Ward</td>\n",
       "      <td>Wren</td>\n",
       "      <td>2020-07-22</td>\n",
       "      <td>2284_1006176</td>\n",
       "      <td>2020-08-18</td>\n",
       "    </tr>\n",
       "    <tr>\n",
       "      <th>974272</th>\n",
       "      <td>167-11-9504</td>\n",
       "      <td>C</td>\n",
       "      <td>creation</td>\n",
       "      <td>Minarik</td>\n",
       "      <td>Theodore</td>\n",
       "      <td>2020-07-22</td>\n",
       "      <td>2284_1006209</td>\n",
       "      <td>2020-08-18</td>\n",
       "    </tr>\n",
       "    <tr>\n",
       "      <th>974273</th>\n",
       "      <td>485-89-9645</td>\n",
       "      <td>R</td>\n",
       "      <td>creation</td>\n",
       "      <td>Flanagan</td>\n",
       "      <td>Ryder</td>\n",
       "      <td>2020-07-22</td>\n",
       "      <td>2284_1006268</td>\n",
       "      <td>2020-08-18</td>\n",
       "    </tr>\n",
       "    <tr>\n",
       "      <th>974274</th>\n",
       "      <td>291-16-4229</td>\n",
       "      <td>A</td>\n",
       "      <td>creation</td>\n",
       "      <td>Mata</td>\n",
       "      <td>Kenai</td>\n",
       "      <td>2020-07-22</td>\n",
       "      <td>2284_1006315</td>\n",
       "      <td>2020-08-18</td>\n",
       "    </tr>\n",
       "  </tbody>\n",
       "</table>\n",
       "<p>2001 rows × 8 columns</p>\n",
       "</div>"
      ],
      "text/plain": [
       "                ssn middle_initial event_type last_name first_name event_date  \\\n",
       "972274  318-16-7924              P      death     Fitch     Amelia 2020-07-22   \n",
       "972275  514-08-8114              D      death    Sommer      Susie 2020-07-22   \n",
       "972276  221-67-7051              G      death    Conroy       Rita 2020-07-22   \n",
       "972277  684-47-3570              J      death  Stephens       Ross 2020-07-22   \n",
       "...             ...            ...        ...       ...        ...        ...   \n",
       "974271  734-04-8562              A   creation      Ward       Wren 2020-07-22   \n",
       "974272  167-11-9504              C   creation   Minarik   Theodore 2020-07-22   \n",
       "974273  485-89-9645              R   creation  Flanagan      Ryder 2020-07-22   \n",
       "974274  291-16-4229              A   creation      Mata      Kenai 2020-07-22   \n",
       "\n",
       "         simulant_id date_of_birth  \n",
       "972274   2284_508944    1923-05-18  \n",
       "972275   2284_471801    1923-06-06  \n",
       "972276   2284_705740    1923-06-19  \n",
       "972277   2284_785602    1923-08-19  \n",
       "...              ...           ...  \n",
       "974271  2284_1006176    2020-08-18  \n",
       "974272  2284_1006209    2020-08-18  \n",
       "974273  2284_1006268    2020-08-18  \n",
       "974274  2284_1006315    2020-08-18  \n",
       "\n",
       "[2001 rows x 8 columns]"
      ]
     },
     "execution_count": 43,
     "metadata": {},
     "output_type": "execute_result"
    }
   ],
   "source": [
    "second_to_max_day = df.event_date.value_counts().index[1]\n",
    "\n",
    "df[df.event_date == second_to_max_day]"
   ]
  },
  {
   "cell_type": "markdown",
   "id": "05c333e5-db9a-4984-8921-cb8abbdaac75",
   "metadata": {},
   "source": [
    "## Checking age distributions of creation/death events \n",
    "- for event_type == death, we should see mostly old people\n",
    "- for event_type == creation, we should see population growth with more people born or immigrating in recent years"
   ]
  },
  {
   "cell_type": "code",
   "execution_count": 44,
   "id": "d8c086af-7ec8-4f1e-ab2c-ae7fa90fe0aa",
   "metadata": {},
   "outputs": [],
   "source": [
    "df['dob'] = pd.to_datetime(df.date_of_birth)"
   ]
  },
  {
   "cell_type": "code",
   "execution_count": 45,
   "id": "8388aa5d-9097-4be9-b920-cc7d072cc195",
   "metadata": {},
   "outputs": [],
   "source": [
    "df['year_of_birth'] = df.dob.dt.year"
   ]
  },
  {
   "cell_type": "code",
   "execution_count": 46,
   "id": "132b6038-842b-4323-91d6-75bc0333bf95",
   "metadata": {},
   "outputs": [
    {
     "data": {
      "text/plain": [
       "<AxesSubplot:>"
      ]
     },
     "execution_count": 46,
     "metadata": {},
     "output_type": "execute_result"
    },
    {
     "data": {
      "image/png": "[encoded data removed]",
      "text/plain": [
       "<Figure size 432x288 with 1 Axes>"
      ]
     },
     "metadata": {
      "needs_background": "light"
     },
     "output_type": "display_data"
    }
   ],
   "source": [
    "df[df.event_type == 'death'].year_of_birth.hist()"
   ]
  },
  {
   "cell_type": "code",
   "execution_count": 47,
   "id": "eff72595-e62a-4794-9fa2-2fedb2606f05",
   "metadata": {},
   "outputs": [
    {
     "data": {
      "text/plain": [
       "<AxesSubplot:>"
      ]
     },
     "execution_count": 47,
     "metadata": {},
     "output_type": "execute_result"
    },
    {
     "data": {
      "image/png": "[encoded data removed]",
      "text/plain": [
       "<Figure size 432x288 with 1 Axes>"
      ]
     },
     "metadata": {
      "needs_background": "light"
     },
     "output_type": "display_data"
    }
   ],
   "source": [
    "df[df.event_type == 'creation'].year_of_birth.hist()"
   ]
  },
  {
   "cell_type": "markdown",
   "id": "1a82eee5-2b43-4f03-9a18-60b32da37770",
   "metadata": {},
   "source": [
    "## Checking validity of creation/death events\n",
    "- creation events should have event_date == date_of_birth, unless they are an immigrant\n",
    "- death event should always be after creation event for one simulant_id"
   ]
  },
  {
   "cell_type": "code",
   "execution_count": 48,
   "id": "5a17fa3d-93a3-48b8-a223-14843688f21b",
   "metadata": {},
   "outputs": [
    {
     "data": {
      "text/plain": [
       "dtype('<M8[ns]')"
      ]
     },
     "execution_count": 48,
     "metadata": {},
     "output_type": "execute_result"
    }
   ],
   "source": [
    "creation_only = df[df.event_type == 'creation']\n",
    "# creation_only[creation_only.event_date == creation_only.date_of_birth] # This is resulting in an error: TypeError: Categoricals can only be compared if 'categories' are the same.\n",
    "creation_only.event_date.dtypes"
   ]
  },
  {
   "cell_type": "code",
   "execution_count": 49,
   "id": "f473d9ef-c302-4484-a4fa-eab83f32e29a",
   "metadata": {},
   "outputs": [
    {
     "data": {
      "text/plain": [
       "dtype('<M8[ns]')"
      ]
     },
     "execution_count": 49,
     "metadata": {},
     "output_type": "execute_result"
    }
   ],
   "source": [
    "creation_only.dob.dtypes"
   ]
  },
  {
   "cell_type": "markdown",
   "id": "8a9c730a-004a-49f3-9a0d-267b5dd114e2",
   "metadata": {},
   "source": [
    "## Checking migration patterns \n",
    "- look at US-born and foreign-born simulants: \n",
    "    - for event_type == creation: \n",
    "        if event_date == year_of_birth, this indicates the simulant is US-born\n",
    "        if event_date > year_of_birth, this indicates the simulant is foreign-born "
   ]
  },
  {
   "cell_type": "code",
   "execution_count": 50,
   "id": "33b60fb4-bb65-47e0-b413-25c41b91d5d7",
   "metadata": {},
   "outputs": [
    {
     "data": {
      "text/html": [
       "<div>\n",
       "<style scoped>\n",
       "    .dataframe tbody tr th:only-of-type {\n",
       "        vertical-align: middle;\n",
       "    }\n",
       "\n",
       "    .dataframe tbody tr th {\n",
       "        vertical-align: top;\n",
       "    }\n",
       "\n",
       "    .dataframe thead th {\n",
       "        text-align: right;\n",
       "    }\n",
       "</style>\n",
       "<table border=\"1\" class=\"dataframe\">\n",
       "  <thead>\n",
       "    <tr style=\"text-align: right;\">\n",
       "      <th></th>\n",
       "      <th>ssn</th>\n",
       "      <th>middle_initial</th>\n",
       "      <th>event_type</th>\n",
       "      <th>last_name</th>\n",
       "      <th>first_name</th>\n",
       "      <th>event_date</th>\n",
       "      <th>simulant_id</th>\n",
       "      <th>date_of_birth</th>\n",
       "      <th>dob</th>\n",
       "      <th>year_of_birth</th>\n",
       "    </tr>\n",
       "  </thead>\n",
       "  <tbody>\n",
       "    <tr>\n",
       "      <th>0</th>\n",
       "      <td>786-77-6454</td>\n",
       "      <td>M</td>\n",
       "      <td>creation</td>\n",
       "      <td>Bingham</td>\n",
       "      <td>Peter</td>\n",
       "      <td>1921-05-13</td>\n",
       "      <td>2284_733465</td>\n",
       "      <td>1921-05-13</td>\n",
       "      <td>1921-05-13</td>\n",
       "      <td>1921</td>\n",
       "    </tr>\n",
       "    <tr>\n",
       "      <th>1</th>\n",
       "      <td>688-88-6377</td>\n",
       "      <td>D</td>\n",
       "      <td>creation</td>\n",
       "      <td>Bingham</td>\n",
       "      <td>Janice</td>\n",
       "      <td>1921-06-21</td>\n",
       "      <td>2284_733466</td>\n",
       "      <td>1921-06-21</td>\n",
       "      <td>1921-06-21</td>\n",
       "      <td>1921</td>\n",
       "    </tr>\n",
       "    <tr>\n",
       "      <th>2</th>\n",
       "      <td>651-33-9561</td>\n",
       "      <td>H</td>\n",
       "      <td>creation</td>\n",
       "      <td>Burdick</td>\n",
       "      <td>Anna</td>\n",
       "      <td>1921-07-13</td>\n",
       "      <td>2284_776885</td>\n",
       "      <td>1921-07-13</td>\n",
       "      <td>1921-07-13</td>\n",
       "      <td>1921</td>\n",
       "    </tr>\n",
       "    <tr>\n",
       "      <th>3</th>\n",
       "      <td>665-25-7858</td>\n",
       "      <td>M</td>\n",
       "      <td>creation</td>\n",
       "      <td>Tapia</td>\n",
       "      <td>Gertrude</td>\n",
       "      <td>1921-07-26</td>\n",
       "      <td>2284_869365</td>\n",
       "      <td>1921-07-26</td>\n",
       "      <td>1921-07-26</td>\n",
       "      <td>1921</td>\n",
       "    </tr>\n",
       "    <tr>\n",
       "      <th>...</th>\n",
       "      <td>...</td>\n",
       "      <td>...</td>\n",
       "      <td>...</td>\n",
       "      <td>...</td>\n",
       "      <td>...</td>\n",
       "      <td>...</td>\n",
       "      <td>...</td>\n",
       "      <td>...</td>\n",
       "      <td>...</td>\n",
       "      <td>...</td>\n",
       "    </tr>\n",
       "    <tr>\n",
       "      <th>999894</th>\n",
       "      <td>495-49-6328</td>\n",
       "      <td>S</td>\n",
       "      <td>creation</td>\n",
       "      <td>Sawyer</td>\n",
       "      <td>Patsy</td>\n",
       "      <td>2021-08-18</td>\n",
       "      <td>2284_1025175</td>\n",
       "      <td>1943-03-12</td>\n",
       "      <td>1943-03-12</td>\n",
       "      <td>1943</td>\n",
       "    </tr>\n",
       "    <tr>\n",
       "      <th>999923</th>\n",
       "      <td>106-77-3116</td>\n",
       "      <td>A</td>\n",
       "      <td>creation</td>\n",
       "      <td>Rigney</td>\n",
       "      <td>Claire</td>\n",
       "      <td>2021-08-18</td>\n",
       "      <td>2284_1024982</td>\n",
       "      <td>1944-08-07</td>\n",
       "      <td>1944-08-07</td>\n",
       "      <td>1944</td>\n",
       "    </tr>\n",
       "    <tr>\n",
       "      <th>999934</th>\n",
       "      <td>187-94-1864</td>\n",
       "      <td>B</td>\n",
       "      <td>creation</td>\n",
       "      <td>Busch</td>\n",
       "      <td>Shirley</td>\n",
       "      <td>2021-08-18</td>\n",
       "      <td>2284_1025105</td>\n",
       "      <td>1945-03-15</td>\n",
       "      <td>1945-03-15</td>\n",
       "      <td>1945</td>\n",
       "    </tr>\n",
       "    <tr>\n",
       "      <th>999983</th>\n",
       "      <td>712-26-2069</td>\n",
       "      <td>D</td>\n",
       "      <td>creation</td>\n",
       "      <td>Williams</td>\n",
       "      <td>Betty</td>\n",
       "      <td>2021-08-18</td>\n",
       "      <td>2284_1025154</td>\n",
       "      <td>1948-01-12</td>\n",
       "      <td>1948-01-12</td>\n",
       "      <td>1948</td>\n",
       "    </tr>\n",
       "  </tbody>\n",
       "</table>\n",
       "<p>987886 rows × 10 columns</p>\n",
       "</div>"
      ],
      "text/plain": [
       "                ssn middle_initial event_type last_name first_name event_date  \\\n",
       "0       786-77-6454              M   creation   Bingham      Peter 1921-05-13   \n",
       "1       688-88-6377              D   creation   Bingham     Janice 1921-06-21   \n",
       "2       651-33-9561              H   creation   Burdick       Anna 1921-07-13   \n",
       "3       665-25-7858              M   creation     Tapia   Gertrude 1921-07-26   \n",
       "...             ...            ...        ...       ...        ...        ...   \n",
       "999894  495-49-6328              S   creation    Sawyer      Patsy 2021-08-18   \n",
       "999923  106-77-3116              A   creation    Rigney     Claire 2021-08-18   \n",
       "999934  187-94-1864              B   creation     Busch    Shirley 2021-08-18   \n",
       "999983  712-26-2069              D   creation  Williams      Betty 2021-08-18   \n",
       "\n",
       "         simulant_id date_of_birth        dob  year_of_birth  \n",
       "0        2284_733465    1921-05-13 1921-05-13           1921  \n",
       "1        2284_733466    1921-06-21 1921-06-21           1921  \n",
       "2        2284_776885    1921-07-13 1921-07-13           1921  \n",
       "3        2284_869365    1921-07-26 1921-07-26           1921  \n",
       "...              ...           ...        ...            ...  \n",
       "999894  2284_1025175    1943-03-12 1943-03-12           1943  \n",
       "999923  2284_1024982    1944-08-07 1944-08-07           1944  \n",
       "999934  2284_1025105    1945-03-15 1945-03-15           1945  \n",
       "999983  2284_1025154    1948-01-12 1948-01-12           1948  \n",
       "\n",
       "[987886 rows x 10 columns]"
      ]
     },
     "execution_count": 50,
     "metadata": {},
     "output_type": "execute_result"
    }
   ],
   "source": [
    "# Finding US-born simulants\n",
    "creation_only "
   ]
  },
  {
   "cell_type": "code",
   "execution_count": 51,
   "id": "efb1ede7-15a4-4d84-abe0-bce252d2ab5f",
   "metadata": {},
   "outputs": [],
   "source": [
    "creation_only = creation_only[creation_only.event_date.astype('datetime64[ns]') == creation_only.dob.astype('datetime64[ns]')]"
   ]
  },
  {
   "cell_type": "code",
   "execution_count": 52,
   "id": "0c3f03c5-2f18-44b2-95f8-e2add50f45e2",
   "metadata": {},
   "outputs": [
    {
     "data": {
      "text/html": [
       "<div>\n",
       "<style scoped>\n",
       "    .dataframe tbody tr th:only-of-type {\n",
       "        vertical-align: middle;\n",
       "    }\n",
       "\n",
       "    .dataframe tbody tr th {\n",
       "        vertical-align: top;\n",
       "    }\n",
       "\n",
       "    .dataframe thead th {\n",
       "        text-align: right;\n",
       "    }\n",
       "</style>\n",
       "<table border=\"1\" class=\"dataframe\">\n",
       "  <thead>\n",
       "    <tr style=\"text-align: right;\">\n",
       "      <th></th>\n",
       "      <th>ssn</th>\n",
       "      <th>middle_initial</th>\n",
       "      <th>event_type</th>\n",
       "      <th>last_name</th>\n",
       "      <th>first_name</th>\n",
       "      <th>event_date</th>\n",
       "      <th>simulant_id</th>\n",
       "      <th>date_of_birth</th>\n",
       "      <th>dob</th>\n",
       "      <th>year_of_birth</th>\n",
       "    </tr>\n",
       "  </thead>\n",
       "  <tbody>\n",
       "    <tr>\n",
       "      <th>0</th>\n",
       "      <td>786-77-6454</td>\n",
       "      <td>M</td>\n",
       "      <td>creation</td>\n",
       "      <td>Bingham</td>\n",
       "      <td>Peter</td>\n",
       "      <td>1921-05-13</td>\n",
       "      <td>2284_733465</td>\n",
       "      <td>1921-05-13</td>\n",
       "      <td>1921-05-13</td>\n",
       "      <td>1921</td>\n",
       "    </tr>\n",
       "    <tr>\n",
       "      <th>1</th>\n",
       "      <td>688-88-6377</td>\n",
       "      <td>D</td>\n",
       "      <td>creation</td>\n",
       "      <td>Bingham</td>\n",
       "      <td>Janice</td>\n",
       "      <td>1921-06-21</td>\n",
       "      <td>2284_733466</td>\n",
       "      <td>1921-06-21</td>\n",
       "      <td>1921-06-21</td>\n",
       "      <td>1921</td>\n",
       "    </tr>\n",
       "    <tr>\n",
       "      <th>2</th>\n",
       "      <td>651-33-9561</td>\n",
       "      <td>H</td>\n",
       "      <td>creation</td>\n",
       "      <td>Burdick</td>\n",
       "      <td>Anna</td>\n",
       "      <td>1921-07-13</td>\n",
       "      <td>2284_776885</td>\n",
       "      <td>1921-07-13</td>\n",
       "      <td>1921-07-13</td>\n",
       "      <td>1921</td>\n",
       "    </tr>\n",
       "    <tr>\n",
       "      <th>3</th>\n",
       "      <td>665-25-7858</td>\n",
       "      <td>M</td>\n",
       "      <td>creation</td>\n",
       "      <td>Tapia</td>\n",
       "      <td>Gertrude</td>\n",
       "      <td>1921-07-26</td>\n",
       "      <td>2284_869365</td>\n",
       "      <td>1921-07-26</td>\n",
       "      <td>1921-07-26</td>\n",
       "      <td>1921</td>\n",
       "    </tr>\n",
       "    <tr>\n",
       "      <th>...</th>\n",
       "      <td>...</td>\n",
       "      <td>...</td>\n",
       "      <td>...</td>\n",
       "      <td>...</td>\n",
       "      <td>...</td>\n",
       "      <td>...</td>\n",
       "      <td>...</td>\n",
       "      <td>...</td>\n",
       "      <td>...</td>\n",
       "      <td>...</td>\n",
       "    </tr>\n",
       "    <tr>\n",
       "      <th>998690</th>\n",
       "      <td>111-58-3661</td>\n",
       "      <td>J</td>\n",
       "      <td>creation</td>\n",
       "      <td>Fletcher</td>\n",
       "      <td>Moshe</td>\n",
       "      <td>2021-07-21</td>\n",
       "      <td>2284_1023454</td>\n",
       "      <td>2021-07-21</td>\n",
       "      <td>2021-07-21</td>\n",
       "      <td>2021</td>\n",
       "    </tr>\n",
       "    <tr>\n",
       "      <th>998691</th>\n",
       "      <td>530-39-3088</td>\n",
       "      <td>L</td>\n",
       "      <td>creation</td>\n",
       "      <td>Feehan</td>\n",
       "      <td>Kaylee</td>\n",
       "      <td>2021-07-21</td>\n",
       "      <td>2284_1023483</td>\n",
       "      <td>2021-07-21</td>\n",
       "      <td>2021-07-21</td>\n",
       "      <td>2021</td>\n",
       "    </tr>\n",
       "    <tr>\n",
       "      <th>998692</th>\n",
       "      <td>304-29-0148</td>\n",
       "      <td>M</td>\n",
       "      <td>creation</td>\n",
       "      <td>Arora</td>\n",
       "      <td>Zoe</td>\n",
       "      <td>2021-07-21</td>\n",
       "      <td>2284_1023566</td>\n",
       "      <td>2021-07-21</td>\n",
       "      <td>2021-07-21</td>\n",
       "      <td>2021</td>\n",
       "    </tr>\n",
       "    <tr>\n",
       "      <th>998693</th>\n",
       "      <td>630-25-9626</td>\n",
       "      <td>E</td>\n",
       "      <td>creation</td>\n",
       "      <td>Townsend</td>\n",
       "      <td>Penelope</td>\n",
       "      <td>2021-07-21</td>\n",
       "      <td>2284_1023584</td>\n",
       "      <td>2021-07-21</td>\n",
       "      <td>2021-07-21</td>\n",
       "      <td>2021</td>\n",
       "    </tr>\n",
       "  </tbody>\n",
       "</table>\n",
       "<p>967031 rows × 10 columns</p>\n",
       "</div>"
      ],
      "text/plain": [
       "                ssn middle_initial event_type last_name first_name event_date  \\\n",
       "0       786-77-6454              M   creation   Bingham      Peter 1921-05-13   \n",
       "1       688-88-6377              D   creation   Bingham     Janice 1921-06-21   \n",
       "2       651-33-9561              H   creation   Burdick       Anna 1921-07-13   \n",
       "3       665-25-7858              M   creation     Tapia   Gertrude 1921-07-26   \n",
       "...             ...            ...        ...       ...        ...        ...   \n",
       "998690  111-58-3661              J   creation  Fletcher      Moshe 2021-07-21   \n",
       "998691  530-39-3088              L   creation    Feehan     Kaylee 2021-07-21   \n",
       "998692  304-29-0148              M   creation     Arora        Zoe 2021-07-21   \n",
       "998693  630-25-9626              E   creation  Townsend   Penelope 2021-07-21   \n",
       "\n",
       "         simulant_id date_of_birth        dob  year_of_birth  \n",
       "0        2284_733465    1921-05-13 1921-05-13           1921  \n",
       "1        2284_733466    1921-06-21 1921-06-21           1921  \n",
       "2        2284_776885    1921-07-13 1921-07-13           1921  \n",
       "3        2284_869365    1921-07-26 1921-07-26           1921  \n",
       "...              ...           ...        ...            ...  \n",
       "998690  2284_1023454    2021-07-21 2021-07-21           2021  \n",
       "998691  2284_1023483    2021-07-21 2021-07-21           2021  \n",
       "998692  2284_1023566    2021-07-21 2021-07-21           2021  \n",
       "998693  2284_1023584    2021-07-21 2021-07-21           2021  \n",
       "\n",
       "[967031 rows x 10 columns]"
      ]
     },
     "execution_count": 52,
     "metadata": {},
     "output_type": "execute_result"
    }
   ],
   "source": [
    "creation_only[creation_only.event_date == creation_only.dob]"
   ]
  },
  {
   "cell_type": "markdown",
   "id": "cb5ef835-84a9-457b-b686-fd6368957fec",
   "metadata": {},
   "source": [
    "967031 rows / 987886 rows means about 97.9% of creation events are birth events. "
   ]
  },
  {
   "cell_type": "code",
   "execution_count": null,
   "id": "86aa430b-8b7b-4971-9582-1f4fde5acc45",
   "metadata": {},
   "outputs": [],
   "source": []
  }
 ],
 "metadata": {
  "kernelspec": {
   "display_name": "Python 3 (ipykernel)",
   "language": "python",
   "name": "python3"
  },
  "language_info": {
   "codemirror_mode": {
    "name": "ipython",
    "version": 3
   },
   "file_extension": ".py",
   "mimetype": "text/x-python",
   "name": "python",
   "nbconvert_exporter": "python",
   "pygments_lexer": "ipython3",
   "version": "3.8.16"
  }
 },
 "nbformat": 4,
 "nbformat_minor": 5
}
