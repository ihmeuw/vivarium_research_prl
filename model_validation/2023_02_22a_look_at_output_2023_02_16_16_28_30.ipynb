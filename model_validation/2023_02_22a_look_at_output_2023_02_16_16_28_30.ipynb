{
 "cells": [
  {
   "cell_type": "code",
   "execution_count": 1,
   "id": "52403a4e",
   "metadata": {},
   "outputs": [
    {
     "name": "stdout",
     "output_type": "stream",
     "text": [
      "Wed 22 Feb 2023 04:30:26 PM PST\n",
      "ndbs\n",
      "Linux int-slurm-sarchive-p0001 5.4.0-135-generic #152-Ubuntu SMP Wed Nov 23 20:19:22 UTC 2022 x86_64 x86_64 x86_64 GNU/Linux\n",
      "/mnt/share/code/ndbs/vivarium_research_prl/model_validation\n"
     ]
    }
   ],
   "source": [
    "import numpy as np, matplotlib.pyplot as plt, pandas as pd\n",
    "pd.set_option('display.max_rows', 40)\n",
    "\n",
    "# Use this to see how much memory the dataframes use\n",
    "from sys import getsizeof\n",
    "\n",
    "from vivarium_research_prl.noise import corruption, fake_names, noisify\n",
    "\n",
    "!date\n",
    "!whoami\n",
    "!uname -a\n",
    "!pwd"
   ]
  },
  {
   "cell_type": "markdown",
   "id": "bec603de",
   "metadata": {},
   "source": [
    "# Find data"
   ]
  },
  {
   "cell_type": "code",
   "execution_count": 2,
   "id": "9075d3a1",
   "metadata": {},
   "outputs": [
    {
     "name": "stdout",
     "output_type": "stream",
     "text": [
      "total 6124364\r\n",
      "-rw-r--r-- 1 albrja IHME-Simulationscience  902361273 Feb 17 11:31 decennial_census_observer.csv.bz2\r\n",
      "-rw-r--r-- 1 albrja IHME-Simulationscience    9401209 Feb 17 11:31 household_survey_observer_acs.csv.bz2\r\n",
      "-rw-r--r-- 1 albrja IHME-Simulationscience   48912276 Feb 17 11:32 household_survey_observer_cps.csv.bz2\r\n",
      "-rw-r--r-- 1 albrja IHME-Simulationscience  196076329 Feb 17 11:35 social_security_observer.csv.bz2\r\n",
      "-rw-r--r-- 1 albrja IHME-Simulationscience 5022817239 Feb 17 12:24 tax_w2_observer.csv.bz2\r\n",
      "-rw-r--r-- 1 albrja IHME-Simulationscience   91687247 Feb 17 11:32 wic_observer.csv.bz2\r\n"
     ]
    }
   ],
   "source": [
    "project_output_dir = \\\n",
    "    '/mnt/team/simulation_science/priv/engineering/vivarium_census_prl_synth_pop'\n",
    "output_subdir = (\n",
    "    'results/vv_age_perturbation/united_states_of_america/2023_02_16_16_28_30/'\n",
    "    'final_results/2023_02_17_10_06_38'\n",
    ")\n",
    "output_dir = f'{project_output_dir}/{output_subdir}'\n",
    "\n",
    "!ls -l $output_dir\n"
   ]
  },
  {
   "cell_type": "markdown",
   "id": "e498089f",
   "metadata": {},
   "source": [
    "# Load WIC data"
   ]
  },
  {
   "cell_type": "code",
   "execution_count": 4,
   "id": "b4e38f25",
   "metadata": {},
   "outputs": [
    {
     "name": "stdout",
     "output_type": "stream",
     "text": [
      "CPU times: user 18.8 s, sys: 820 ms, total: 19.6 s\n",
      "Wall time: 19.6 s\n"
     ]
    },
    {
     "data": {
      "text/html": [
       "<div>\n",
       "<style scoped>\n",
       "    .dataframe tbody tr th:only-of-type {\n",
       "        vertical-align: middle;\n",
       "    }\n",
       "\n",
       "    .dataframe tbody tr th {\n",
       "        vertical-align: top;\n",
       "    }\n",
       "\n",
       "    .dataframe thead th {\n",
       "        text-align: right;\n",
       "    }\n",
       "</style>\n",
       "<table border=\"1\" class=\"dataframe\">\n",
       "  <thead>\n",
       "    <tr style=\"text-align: right;\">\n",
       "      <th></th>\n",
       "      <th>simulant_id</th>\n",
       "      <th>first_name_id</th>\n",
       "      <th>middle_name_id</th>\n",
       "      <th>last_name_id</th>\n",
       "      <th>age</th>\n",
       "      <th>sex</th>\n",
       "      <th>race_ethnicity</th>\n",
       "      <th>date_of_birth</th>\n",
       "      <th>address_id</th>\n",
       "      <th>state_id</th>\n",
       "      <th>...</th>\n",
       "      <th>year_of_birth</th>\n",
       "      <th>state</th>\n",
       "      <th>first_name</th>\n",
       "      <th>middle_initial</th>\n",
       "      <th>last_name</th>\n",
       "      <th>zipcode</th>\n",
       "      <th>street_number</th>\n",
       "      <th>street_name</th>\n",
       "      <th>unit_number</th>\n",
       "      <th>city</th>\n",
       "    </tr>\n",
       "  </thead>\n",
       "  <tbody>\n",
       "    <tr>\n",
       "      <th>0</th>\n",
       "      <td>7359_37</td>\n",
       "      <td>7359_37</td>\n",
       "      <td>7359_37</td>\n",
       "      <td>7359_36</td>\n",
       "      <td>21.328291</td>\n",
       "      <td>Female</td>\n",
       "      <td>White</td>\n",
       "      <td>1999-08-12</td>\n",
       "      <td>7359_22</td>\n",
       "      <td>39</td>\n",
       "      <td>...</td>\n",
       "      <td>1999</td>\n",
       "      <td>OH</td>\n",
       "      <td>Emma</td>\n",
       "      <td>L</td>\n",
       "      <td>Sansom</td>\n",
       "      <td>45634</td>\n",
       "      <td>39323</td>\n",
       "      <td>los huecos dr</td>\n",
       "      <td>NaN</td>\n",
       "      <td>cleveland heights</td>\n",
       "    </tr>\n",
       "    <tr>\n",
       "      <th>1</th>\n",
       "      <td>7359_534</td>\n",
       "      <td>7359_534</td>\n",
       "      <td>7359_534</td>\n",
       "      <td>7359_534</td>\n",
       "      <td>28.912082</td>\n",
       "      <td>Female</td>\n",
       "      <td>Latino</td>\n",
       "      <td>1992-01-11</td>\n",
       "      <td>7359_222</td>\n",
       "      <td>48</td>\n",
       "      <td>...</td>\n",
       "      <td>1992</td>\n",
       "      <td>TX</td>\n",
       "      <td>Alexandria</td>\n",
       "      <td>B</td>\n",
       "      <td>Alonso</td>\n",
       "      <td>77979</td>\n",
       "      <td>512</td>\n",
       "      <td>106 street</td>\n",
       "      <td>NaN</td>\n",
       "      <td>georgetown</td>\n",
       "    </tr>\n",
       "    <tr>\n",
       "      <th>2</th>\n",
       "      <td>7359_580</td>\n",
       "      <td>7359_580</td>\n",
       "      <td>7359_580</td>\n",
       "      <td>7359_575</td>\n",
       "      <td>26.525698</td>\n",
       "      <td>Female</td>\n",
       "      <td>Black</td>\n",
       "      <td>1994-05-31</td>\n",
       "      <td>7359_235</td>\n",
       "      <td>37</td>\n",
       "      <td>...</td>\n",
       "      <td>1994</td>\n",
       "      <td>NC</td>\n",
       "      <td>Kayla</td>\n",
       "      <td>M</td>\n",
       "      <td>Bell</td>\n",
       "      <td>27613</td>\n",
       "      <td>282</td>\n",
       "      <td>bailey dr</td>\n",
       "      <td>NaN</td>\n",
       "      <td>statesville</td>\n",
       "    </tr>\n",
       "    <tr>\n",
       "      <th>3</th>\n",
       "      <td>7359_587</td>\n",
       "      <td>7359_587</td>\n",
       "      <td>7359_587</td>\n",
       "      <td>7359_587</td>\n",
       "      <td>39.129105</td>\n",
       "      <td>Female</td>\n",
       "      <td>White</td>\n",
       "      <td>1981-10-23</td>\n",
       "      <td>7359_238</td>\n",
       "      <td>6</td>\n",
       "      <td>...</td>\n",
       "      <td>1981</td>\n",
       "      <td>CA</td>\n",
       "      <td>Julie</td>\n",
       "      <td>K</td>\n",
       "      <td>Coe</td>\n",
       "      <td>91104</td>\n",
       "      <td>233</td>\n",
       "      <td>se 43rd ct</td>\n",
       "      <td>NaN</td>\n",
       "      <td>citrus hgths</td>\n",
       "    </tr>\n",
       "    <tr>\n",
       "      <th>4</th>\n",
       "      <td>7359_668</td>\n",
       "      <td>7359_668</td>\n",
       "      <td>7359_668</td>\n",
       "      <td>7359_668</td>\n",
       "      <td>28.240271</td>\n",
       "      <td>Female</td>\n",
       "      <td>Latino</td>\n",
       "      <td>1992-09-12</td>\n",
       "      <td>7359_266</td>\n",
       "      <td>6</td>\n",
       "      <td>...</td>\n",
       "      <td>1992</td>\n",
       "      <td>CA</td>\n",
       "      <td>Cassandra</td>\n",
       "      <td>W</td>\n",
       "      <td>Mendoza</td>\n",
       "      <td>93702</td>\n",
       "      <td>9120</td>\n",
       "      <td>colorado ave sw</td>\n",
       "      <td>NaN</td>\n",
       "      <td>alhambra</td>\n",
       "    </tr>\n",
       "    <tr>\n",
       "      <th>...</th>\n",
       "      <td>...</td>\n",
       "      <td>...</td>\n",
       "      <td>...</td>\n",
       "      <td>...</td>\n",
       "      <td>...</td>\n",
       "      <td>...</td>\n",
       "      <td>...</td>\n",
       "      <td>...</td>\n",
       "      <td>...</td>\n",
       "      <td>...</td>\n",
       "      <td>...</td>\n",
       "      <td>...</td>\n",
       "      <td>...</td>\n",
       "      <td>...</td>\n",
       "      <td>...</td>\n",
       "      <td>...</td>\n",
       "      <td>...</td>\n",
       "      <td>...</td>\n",
       "      <td>...</td>\n",
       "      <td>...</td>\n",
       "      <td>...</td>\n",
       "    </tr>\n",
       "    <tr>\n",
       "      <th>1653706</th>\n",
       "      <td>5020_1173743</td>\n",
       "      <td>5020_1173743</td>\n",
       "      <td>5020_1173743</td>\n",
       "      <td>5020_874781</td>\n",
       "      <td>0.025101</td>\n",
       "      <td>Male</td>\n",
       "      <td>White</td>\n",
       "      <td>2030-01-14</td>\n",
       "      <td>5020_699335</td>\n",
       "      <td>15</td>\n",
       "      <td>...</td>\n",
       "      <td>2030</td>\n",
       "      <td>HI</td>\n",
       "      <td>Ismael</td>\n",
       "      <td>A</td>\n",
       "      <td>Cohen</td>\n",
       "      <td>96706</td>\n",
       "      <td>103</td>\n",
       "      <td>summer shade lane</td>\n",
       "      <td>NaN</td>\n",
       "      <td>waipahu</td>\n",
       "    </tr>\n",
       "    <tr>\n",
       "      <th>1653707</th>\n",
       "      <td>5020_1173744</td>\n",
       "      <td>5020_1173744</td>\n",
       "      <td>5020_1173744</td>\n",
       "      <td>5020_909404</td>\n",
       "      <td>0.036876</td>\n",
       "      <td>Male</td>\n",
       "      <td>Latino</td>\n",
       "      <td>2030-01-10</td>\n",
       "      <td>5020_717348</td>\n",
       "      <td>21</td>\n",
       "      <td>...</td>\n",
       "      <td>2030</td>\n",
       "      <td>KY</td>\n",
       "      <td>Abraham</td>\n",
       "      <td>C</td>\n",
       "      <td>Garcia</td>\n",
       "      <td>40906</td>\n",
       "      <td>2439</td>\n",
       "      <td>eagle l</td>\n",
       "      <td>NaN</td>\n",
       "      <td>richmond</td>\n",
       "    </tr>\n",
       "    <tr>\n",
       "      <th>1653708</th>\n",
       "      <td>5020_1173745</td>\n",
       "      <td>5020_1173745</td>\n",
       "      <td>5020_1173745</td>\n",
       "      <td>5020_939518</td>\n",
       "      <td>0.011262</td>\n",
       "      <td>Male</td>\n",
       "      <td>White</td>\n",
       "      <td>2030-01-19</td>\n",
       "      <td>5020_432454</td>\n",
       "      <td>8</td>\n",
       "      <td>...</td>\n",
       "      <td>2030</td>\n",
       "      <td>CO</td>\n",
       "      <td>Arturo</td>\n",
       "      <td>B</td>\n",
       "      <td>Bykerk</td>\n",
       "      <td>80439</td>\n",
       "      <td>298</td>\n",
       "      <td>sherbrooke rd</td>\n",
       "      <td>NaN</td>\n",
       "      <td>piney creek ranches</td>\n",
       "    </tr>\n",
       "    <tr>\n",
       "      <th>1653709</th>\n",
       "      <td>5020_1173747</td>\n",
       "      <td>5020_1173747</td>\n",
       "      <td>5020_1173747</td>\n",
       "      <td>5020_983853</td>\n",
       "      <td>0.009674</td>\n",
       "      <td>Female</td>\n",
       "      <td>White</td>\n",
       "      <td>2030-01-20</td>\n",
       "      <td>5020_504847</td>\n",
       "      <td>27</td>\n",
       "      <td>...</td>\n",
       "      <td>2030</td>\n",
       "      <td>MN</td>\n",
       "      <td>Myra</td>\n",
       "      <td>F</td>\n",
       "      <td>Miller</td>\n",
       "      <td>55125</td>\n",
       "      <td>2135</td>\n",
       "      <td>claremont av</td>\n",
       "      <td>NaN</td>\n",
       "      <td>burnsville</td>\n",
       "    </tr>\n",
       "    <tr>\n",
       "      <th>1653710</th>\n",
       "      <td>5020_1174032</td>\n",
       "      <td>5020_1174032</td>\n",
       "      <td>5020_1174032</td>\n",
       "      <td>5020_1174028</td>\n",
       "      <td>0.825847</td>\n",
       "      <td>Female</td>\n",
       "      <td>White</td>\n",
       "      <td>2029-03-27</td>\n",
       "      <td>5020_813499</td>\n",
       "      <td>48</td>\n",
       "      <td>...</td>\n",
       "      <td>2029</td>\n",
       "      <td>TX</td>\n",
       "      <td>Stella</td>\n",
       "      <td>R</td>\n",
       "      <td>Legg</td>\n",
       "      <td>77079</td>\n",
       "      <td>198</td>\n",
       "      <td>motor ave</td>\n",
       "      <td>NaN</td>\n",
       "      <td>ft worth</td>\n",
       "    </tr>\n",
       "  </tbody>\n",
       "</table>\n",
       "<p>1653711 rows × 27 columns</p>\n",
       "</div>"
      ],
      "text/plain": [
       "          simulant_id first_name_id middle_name_id  last_name_id        age  \\\n",
       "0             7359_37       7359_37        7359_37       7359_36  21.328291   \n",
       "1            7359_534      7359_534       7359_534      7359_534  28.912082   \n",
       "2            7359_580      7359_580       7359_580      7359_575  26.525698   \n",
       "3            7359_587      7359_587       7359_587      7359_587  39.129105   \n",
       "4            7359_668      7359_668       7359_668      7359_668  28.240271   \n",
       "...               ...           ...            ...           ...        ...   \n",
       "1653706  5020_1173743  5020_1173743   5020_1173743   5020_874781   0.025101   \n",
       "1653707  5020_1173744  5020_1173744   5020_1173744   5020_909404   0.036876   \n",
       "1653708  5020_1173745  5020_1173745   5020_1173745   5020_939518   0.011262   \n",
       "1653709  5020_1173747  5020_1173747   5020_1173747   5020_983853   0.009674   \n",
       "1653710  5020_1174032  5020_1174032   5020_1174032  5020_1174028   0.825847   \n",
       "\n",
       "            sex race_ethnicity date_of_birth   address_id  state_id  ...  \\\n",
       "0        Female          White    1999-08-12      7359_22        39  ...   \n",
       "1        Female         Latino    1992-01-11     7359_222        48  ...   \n",
       "2        Female          Black    1994-05-31     7359_235        37  ...   \n",
       "3        Female          White    1981-10-23     7359_238         6  ...   \n",
       "4        Female         Latino    1992-09-12     7359_266         6  ...   \n",
       "...         ...            ...           ...          ...       ...  ...   \n",
       "1653706    Male          White    2030-01-14  5020_699335        15  ...   \n",
       "1653707    Male         Latino    2030-01-10  5020_717348        21  ...   \n",
       "1653708    Male          White    2030-01-19  5020_432454         8  ...   \n",
       "1653709  Female          White    2030-01-20  5020_504847        27  ...   \n",
       "1653710  Female          White    2029-03-27  5020_813499        48  ...   \n",
       "\n",
       "         year_of_birth  state  first_name  middle_initial  last_name  zipcode  \\\n",
       "0                 1999     OH        Emma               L     Sansom    45634   \n",
       "1                 1992     TX  Alexandria               B     Alonso    77979   \n",
       "2                 1994     NC       Kayla               M       Bell    27613   \n",
       "3                 1981     CA       Julie               K        Coe    91104   \n",
       "4                 1992     CA   Cassandra               W    Mendoza    93702   \n",
       "...                ...    ...         ...             ...        ...      ...   \n",
       "1653706           2030     HI      Ismael               A      Cohen    96706   \n",
       "1653707           2030     KY     Abraham               C     Garcia    40906   \n",
       "1653708           2030     CO      Arturo               B     Bykerk    80439   \n",
       "1653709           2030     MN        Myra               F     Miller    55125   \n",
       "1653710           2029     TX      Stella               R       Legg    77079   \n",
       "\n",
       "         street_number        street_name unit_number                 city  \n",
       "0                39323      los huecos dr         NaN    cleveland heights  \n",
       "1                  512         106 street         NaN           georgetown  \n",
       "2                  282          bailey dr         NaN          statesville  \n",
       "3                  233         se 43rd ct         NaN         citrus hgths  \n",
       "4                 9120    colorado ave sw         NaN             alhambra  \n",
       "...                ...                ...         ...                  ...  \n",
       "1653706            103  summer shade lane         NaN              waipahu  \n",
       "1653707           2439            eagle l         NaN             richmond  \n",
       "1653708            298      sherbrooke rd         NaN  piney creek ranches  \n",
       "1653709           2135       claremont av         NaN           burnsville  \n",
       "1653710            198          motor ave         NaN             ft worth  \n",
       "\n",
       "[1653711 rows x 27 columns]"
      ]
     },
     "execution_count": 4,
     "metadata": {},
     "output_type": "execute_result"
    }
   ],
   "source": [
    "%%time\n",
    "df_wic = pd.read_csv(f'{output_dir}/wic_observer.csv.bz2')\n",
    "df_wic"
   ]
  },
  {
   "cell_type": "code",
   "execution_count": 10,
   "id": "31b0250d",
   "metadata": {},
   "outputs": [
    {
     "data": {
      "text/plain": [
       "simulant_id               object\n",
       "first_name_id             object\n",
       "middle_name_id            object\n",
       "last_name_id              object\n",
       "age                      float64\n",
       "sex                       object\n",
       "race_ethnicity            object\n",
       "date_of_birth             object\n",
       "address_id                object\n",
       "state_id                   int64\n",
       "puma                       int64\n",
       "guardian_1                 int64\n",
       "guardian_2                 int64\n",
       "guardian_1_address_id    float64\n",
       "guardian_2_address_id    float64\n",
       "wic_year                   int64\n",
       "random_seed                int64\n",
       "year_of_birth              int64\n",
       "state                     object\n",
       "first_name                object\n",
       "middle_initial            object\n",
       "last_name                 object\n",
       "zipcode                    int64\n",
       "street_number             object\n",
       "street_name               object\n",
       "unit_number               object\n",
       "city                      object\n",
       "dtype: object"
      ]
     },
     "execution_count": 10,
     "metadata": {},
     "output_type": "execute_result"
    }
   ],
   "source": [
    "df_wic.dtypes"
   ]
  },
  {
   "cell_type": "code",
   "execution_count": 87,
   "id": "6a86f1c5",
   "metadata": {},
   "outputs": [
    {
     "data": {
      "text/plain": [
       "1808414631"
      ]
     },
     "execution_count": 87,
     "metadata": {},
     "output_type": "execute_result"
    }
   ],
   "source": [
    "getsizeof(df_wic)"
   ]
  },
  {
   "cell_type": "markdown",
   "id": "85a403e4",
   "metadata": {},
   "source": [
    "# Check age distribution in WIC"
   ]
  },
  {
   "cell_type": "code",
   "execution_count": 5,
   "id": "7743328c",
   "metadata": {},
   "outputs": [
    {
     "data": {
      "text/plain": [
       "count    1.653711e+06\n",
       "mean     7.436797e+00\n",
       "std      1.207987e+01\n",
       "min      0.000000e+00\n",
       "25%      0.000000e+00\n",
       "50%      2.000000e+00\n",
       "75%      4.000000e+00\n",
       "max      9.400000e+01\n",
       "Name: age, dtype: float64"
      ]
     },
     "execution_count": 5,
     "metadata": {},
     "output_type": "execute_result"
    }
   ],
   "source": [
    "wic_ages = np.floor(df_wic.age)\n",
    "wic_ages.describe()"
   ]
  },
  {
   "cell_type": "code",
   "execution_count": 6,
   "id": "5806ba2d",
   "metadata": {},
   "outputs": [
    {
     "data": {
      "text/plain": [
       "0.0     470119\n",
       "1.0     290892\n",
       "2.0     220916\n",
       "3.0     203247\n",
       "4.0     116757\n",
       "         ...  \n",
       "76.0         1\n",
       "73.0         1\n",
       "85.0         1\n",
       "79.0         1\n",
       "81.0         1\n",
       "Name: age, Length: 83, dtype: int64"
      ]
     },
     "execution_count": 6,
     "metadata": {},
     "output_type": "execute_result"
    }
   ],
   "source": [
    "wic_ages.value_counts()"
   ]
  },
  {
   "cell_type": "code",
   "execution_count": 7,
   "id": "83e6cb6e",
   "metadata": {},
   "outputs": [
    {
     "data": {
      "text/plain": [
       "<AxesSubplot: >"
      ]
     },
     "execution_count": 7,
     "metadata": {},
     "output_type": "execute_result"
    },
    {
     "data": {
      "image/png": "[encoded data removed]",
      "text/plain": [
       "<Figure size 640x480 with 1 Axes>"
      ]
     },
     "metadata": {},
     "output_type": "display_data"
    }
   ],
   "source": [
    "wic_ages.hist(bins=83)"
   ]
  },
  {
   "cell_type": "code",
   "execution_count": 8,
   "id": "28182a18",
   "metadata": {},
   "outputs": [
    {
     "data": {
      "text/plain": [
       "<AxesSubplot: >"
      ]
     },
     "execution_count": 8,
     "metadata": {},
     "output_type": "execute_result"
    },
    {
     "data": {
      "image/png": "[encoded data removed]",
      "text/plain": [
       "<Figure size 640x480 with 1 Axes>"
      ]
     },
     "metadata": {},
     "output_type": "display_data"
    }
   ],
   "source": [
    "wic_ages.loc[wic_ages>45].hist()"
   ]
  },
  {
   "cell_type": "code",
   "execution_count": 9,
   "id": "87e52b9c",
   "metadata": {},
   "outputs": [
    {
     "data": {
      "text/plain": [
       "52.0    22\n",
       "51.0    21\n",
       "53.0    19\n",
       "54.0    15\n",
       "57.0    13\n",
       "68.0    11\n",
       "55.0    11\n",
       "64.0     8\n",
       "60.0     8\n",
       "67.0     7\n",
       "56.0     7\n",
       "61.0     7\n",
       "62.0     5\n",
       "58.0     5\n",
       "59.0     5\n",
       "69.0     4\n",
       "70.0     4\n",
       "78.0     4\n",
       "63.0     4\n",
       "65.0     3\n",
       "84.0     3\n",
       "72.0     3\n",
       "66.0     3\n",
       "74.0     2\n",
       "82.0     2\n",
       "94.0     2\n",
       "77.0     2\n",
       "71.0     2\n",
       "86.0     2\n",
       "75.0     2\n",
       "85.0     1\n",
       "73.0     1\n",
       "76.0     1\n",
       "80.0     1\n",
       "79.0     1\n",
       "81.0     1\n",
       "Name: age, dtype: int64"
      ]
     },
     "execution_count": 9,
     "metadata": {},
     "output_type": "execute_result"
    }
   ],
   "source": [
    "wic_ages.loc[wic_ages>50].value_counts()"
   ]
  },
  {
   "cell_type": "markdown",
   "id": "27051107",
   "metadata": {},
   "source": [
    "# Try to identify mothers in WIC"
   ]
  },
  {
   "cell_type": "code",
   "execution_count": 13,
   "id": "2e8f35c6",
   "metadata": {
    "scrolled": false
   },
   "outputs": [
    {
     "data": {
      "text/html": [
       "<div>\n",
       "<style scoped>\n",
       "    .dataframe tbody tr th:only-of-type {\n",
       "        vertical-align: middle;\n",
       "    }\n",
       "\n",
       "    .dataframe tbody tr th {\n",
       "        vertical-align: top;\n",
       "    }\n",
       "\n",
       "    .dataframe thead th {\n",
       "        text-align: right;\n",
       "    }\n",
       "</style>\n",
       "<table border=\"1\" class=\"dataframe\">\n",
       "  <thead>\n",
       "    <tr style=\"text-align: right;\">\n",
       "      <th></th>\n",
       "      <th>guardian_1</th>\n",
       "      <th>guardian_2</th>\n",
       "    </tr>\n",
       "  </thead>\n",
       "  <tbody>\n",
       "    <tr>\n",
       "      <th>0</th>\n",
       "      <td>-1</td>\n",
       "      <td>-1</td>\n",
       "    </tr>\n",
       "    <tr>\n",
       "      <th>1</th>\n",
       "      <td>-1</td>\n",
       "      <td>-1</td>\n",
       "    </tr>\n",
       "    <tr>\n",
       "      <th>2</th>\n",
       "      <td>-1</td>\n",
       "      <td>-1</td>\n",
       "    </tr>\n",
       "    <tr>\n",
       "      <th>3</th>\n",
       "      <td>-1</td>\n",
       "      <td>-1</td>\n",
       "    </tr>\n",
       "    <tr>\n",
       "      <th>4</th>\n",
       "      <td>-1</td>\n",
       "      <td>-1</td>\n",
       "    </tr>\n",
       "    <tr>\n",
       "      <th>...</th>\n",
       "      <td>...</td>\n",
       "      <td>...</td>\n",
       "    </tr>\n",
       "    <tr>\n",
       "      <th>1653706</th>\n",
       "      <td>874782</td>\n",
       "      <td>874781</td>\n",
       "    </tr>\n",
       "    <tr>\n",
       "      <th>1653707</th>\n",
       "      <td>909408</td>\n",
       "      <td>-1</td>\n",
       "    </tr>\n",
       "    <tr>\n",
       "      <th>1653708</th>\n",
       "      <td>939518</td>\n",
       "      <td>-1</td>\n",
       "    </tr>\n",
       "    <tr>\n",
       "      <th>1653709</th>\n",
       "      <td>983853</td>\n",
       "      <td>-1</td>\n",
       "    </tr>\n",
       "    <tr>\n",
       "      <th>1653710</th>\n",
       "      <td>1174028</td>\n",
       "      <td>1174029</td>\n",
       "    </tr>\n",
       "  </tbody>\n",
       "</table>\n",
       "<p>1653711 rows × 2 columns</p>\n",
       "</div>"
      ],
      "text/plain": [
       "         guardian_1  guardian_2\n",
       "0                -1          -1\n",
       "1                -1          -1\n",
       "2                -1          -1\n",
       "3                -1          -1\n",
       "4                -1          -1\n",
       "...             ...         ...\n",
       "1653706      874782      874781\n",
       "1653707      909408          -1\n",
       "1653708      939518          -1\n",
       "1653709      983853          -1\n",
       "1653710     1174028     1174029\n",
       "\n",
       "[1653711 rows x 2 columns]"
      ]
     },
     "execution_count": 13,
     "metadata": {},
     "output_type": "execute_result"
    }
   ],
   "source": [
    "df_wic[['guardian_1', 'guardian_2']]"
   ]
  },
  {
   "cell_type": "code",
   "execution_count": 30,
   "id": "8ea50171",
   "metadata": {},
   "outputs": [
    {
     "data": {
      "text/plain": [
       "Text(0.5, 1.0, 'Age distribution of WIC participants with no guardian')"
      ]
     },
     "execution_count": 30,
     "metadata": {},
     "output_type": "execute_result"
    },
    {
     "data": {
      "image/png": "[encoded data removed]",
      "text/plain": [
       "<Figure size 640x480 with 1 Axes>"
      ]
     },
     "metadata": {},
     "output_type": "display_data"
    }
   ],
   "source": [
    "has_guardian = (df_wic.guardian_1 != -1) | (df_wic.guardian_2 != -1)\n",
    "df_wic.loc[~has_guardian].age.hist(bins=50)\n",
    "plt.title(\"Age distribution of WIC participants with no guardian\")"
   ]
  },
  {
   "cell_type": "code",
   "execution_count": 31,
   "id": "3725b884",
   "metadata": {},
   "outputs": [
    {
     "data": {
      "text/plain": [
       "Text(0.5, 1.0, 'Age distribution of WIC participants with a guardian')"
      ]
     },
     "execution_count": 31,
     "metadata": {},
     "output_type": "execute_result"
    },
    {
     "data": {
      "image/png": "[encoded data removed]",
      "text/plain": [
       "<Figure size 640x480 with 1 Axes>"
      ]
     },
     "metadata": {},
     "output_type": "display_data"
    }
   ],
   "source": [
    "df_wic.loc[has_guardian].age.hist(bins=20)\n",
    "plt.title(\"Age distribution of WIC participants with a guardian\")"
   ]
  },
  {
   "cell_type": "code",
   "execution_count": 21,
   "id": "070a916e",
   "metadata": {},
   "outputs": [
    {
     "data": {
      "text/plain": [
       "4.999621782513243"
      ]
     },
     "execution_count": 21,
     "metadata": {},
     "output_type": "execute_result"
    }
   ],
   "source": [
    "df_wic.loc[~has_guardian].query(\"age < 10\").age.max()"
   ]
  },
  {
   "cell_type": "code",
   "execution_count": 48,
   "id": "479f1e31",
   "metadata": {},
   "outputs": [
    {
     "data": {
      "text/plain": [
       "5.287375399786691"
      ]
     },
     "execution_count": 48,
     "metadata": {},
     "output_type": "execute_result"
    }
   ],
   "source": [
    "df_wic.query(\"age >=5 \").age.min()"
   ]
  },
  {
   "cell_type": "code",
   "execution_count": 92,
   "id": "a6c1e1c3",
   "metadata": {},
   "outputs": [
    {
     "data": {
      "text/plain": [
       "Text(0.5, 1.0, 'Age distribution of WIC participants under 11 with no guardian')"
      ]
     },
     "execution_count": 92,
     "metadata": {},
     "output_type": "execute_result"
    },
    {
     "data": {
      "image/png": "[encoded data removed]",
      "text/plain": [
       "<Figure size 640x480 with 1 Axes>"
      ]
     },
     "metadata": {},
     "output_type": "display_data"
    }
   ],
   "source": [
    "df_wic.loc[~has_guardian].query(\"age < 11\").age.hist(bins=50)\n",
    "plt.title(\"Age distribution of WIC participants under 11 with no guardian\")"
   ]
  },
  {
   "cell_type": "markdown",
   "id": "94af8ce2",
   "metadata": {},
   "source": [
    "# Look into why we have spikes in the number of people of a certain age\n",
    "\n",
    "### What if we stratify by year?\n",
    "\n",
    "Yes, it looks like the spikes correspond to simulants born near the beginning of the sim. [Zeb thinks](https://ihme.slack.com/archives/C02KUQ9LX32/p1677201908178429?thread_ts=1676667487.118249&cid=C02KUQ9LX32) this is caused by clipping negative ages to zero during age perturbation."
   ]
  },
  {
   "cell_type": "code",
   "execution_count": 96,
   "id": "d965460a",
   "metadata": {},
   "outputs": [
    {
     "data": {
      "text/plain": [
       "array([2021, 2022, 2023, 2024, 2025, 2026, 2027, 2028, 2029, 2030])"
      ]
     },
     "execution_count": 96,
     "metadata": {},
     "output_type": "execute_result"
    }
   ],
   "source": [
    "df_wic.wic_year.unique()"
   ]
  },
  {
   "cell_type": "code",
   "execution_count": 128,
   "id": "f4377df9",
   "metadata": {},
   "outputs": [
    {
     "data": {
      "image/png": "[encoded data removed]",
      "text/plain": [
       "<Figure size 1200x600 with 2 Axes>"
      ]
     },
     "metadata": {},
     "output_type": "display_data"
    }
   ],
   "source": [
    "years = [2021, 2022]\n",
    "fig, axs = plt.subplots(1,len(years), figsize=(12,6))\n",
    "for i in range(len(years)):\n",
    "    ax = axs[i]\n",
    "    year = years[i]\n",
    "    df_wic.query(\"wic_year == @year and age < 10\").age.hist(bins=100, ax=ax)\n",
    "    ax.set_xlabel(f\"Age of WIC participant under 10 in {year}\")\n",
    "    ax.set_ylabel(f\"Number of WiC participants in age bin in {year}\")\n",
    "    \n",
    "fig.tight_layout()"
   ]
  },
  {
   "cell_type": "code",
   "execution_count": 121,
   "id": "e1123505",
   "metadata": {},
   "outputs": [
    {
     "data": {
      "text/plain": [
       "Text(0, 0.5, 'Number of WIC participants in age bin in 2021')"
      ]
     },
     "execution_count": 121,
     "metadata": {},
     "output_type": "execute_result"
    },
    {
     "data": {
      "image/png": "[encoded data removed]",
      "text/plain": [
       "<Figure size 640x480 with 1 Axes>"
      ]
     },
     "metadata": {},
     "output_type": "display_data"
    }
   ],
   "source": [
    "year = 2021\n",
    "df_wic.query(\"wic_year == @year and age >=10\").age.hist(bins=100)\n",
    "plt.xlabel(f\"Age of WIC participant 10+ in {year}\")\n",
    "plt.ylabel(f\"Number of WIC participants in age bin in {year}\")"
   ]
  },
  {
   "cell_type": "markdown",
   "id": "73303797",
   "metadata": {},
   "source": [
    "# Plot age distribution of likely mothers with implausible ages\n",
    "\n",
    "### Start with 60 and older, then age 5 to 9"
   ]
  },
  {
   "cell_type": "code",
   "execution_count": 38,
   "id": "16db377c",
   "metadata": {},
   "outputs": [
    {
     "data": {
      "text/plain": [
       "94.0"
      ]
     },
     "execution_count": 38,
     "metadata": {},
     "output_type": "execute_result"
    }
   ],
   "source": [
    "wic_ages.max()"
   ]
  },
  {
   "cell_type": "code",
   "execution_count": 88,
   "id": "353819d2",
   "metadata": {},
   "outputs": [
    {
     "name": "stdout",
     "output_type": "stream",
     "text": [
      "Total number of mothers: 351,780\n"
     ]
    },
    {
     "data": {
      "image/png": "[encoded data removed]",
      "text/plain": [
       "<Figure size 640x480 with 1 Axes>"
      ]
     },
     "metadata": {},
     "output_type": "display_data"
    }
   ],
   "source": [
    "total_num_mothers = len(wic_ages.loc[wic_ages>=5])\n",
    "older_mothers = wic_ages.loc[wic_ages>=60].value_counts().sort_index()\n",
    "age_counts = pd.DataFrame(index=range(60,95)).join(older_mothers).fillna(0).squeeze()\n",
    "plt.plot(age_counts.index, age_counts, marker='o')\n",
    "plt.xlabel(\"Age of mother (60 and older)\")\n",
    "plt.ylabel(f\"Number of mothers (out of {total_num_mothers:,})\")\n",
    "plt.ylim(0,12)\n",
    "print(f\"Total number of mothers: {total_num_mothers:,}\")"
   ]
  },
  {
   "cell_type": "code",
   "execution_count": 89,
   "id": "7c5606c2",
   "metadata": {},
   "outputs": [
    {
     "data": {
      "text/plain": [
       "Text(0, 0.5, 'Number of mothers (out of 351,780)')"
      ]
     },
     "execution_count": 89,
     "metadata": {},
     "output_type": "execute_result"
    },
    {
     "data": {
      "image/png": "[encoded data removed]",
      "text/plain": [
       "<Figure size 640x480 with 1 Axes>"
      ]
     },
     "metadata": {},
     "output_type": "display_data"
    }
   ],
   "source": [
    "child_mothers = wic_ages.loc[(wic_ages>4) & (wic_ages<10)].value_counts().sort_index()\n",
    "plt.plot(child_mothers.index, child_mothers, marker='o')\n",
    "plt.xlabel(\"Age of mother (5 to 9)\")\n",
    "plt.ylabel(f\"Number of mothers (out of {total_num_mothers:,})\")\n",
    "# plt.ylim(0,350)"
   ]
  },
  {
   "cell_type": "code",
   "execution_count": 50,
   "id": "a0635457",
   "metadata": {},
   "outputs": [
    {
     "data": {
      "text/plain": [
       "5.0    1\n",
       "Name: age, dtype: int64"
      ]
     },
     "execution_count": 50,
     "metadata": {},
     "output_type": "execute_result"
    }
   ],
   "source": [
    "child_mothers"
   ]
  },
  {
   "cell_type": "code",
   "execution_count": 53,
   "id": "2c041f33",
   "metadata": {},
   "outputs": [
    {
     "data": {
      "text/html": [
       "<div>\n",
       "<style scoped>\n",
       "    .dataframe tbody tr th:only-of-type {\n",
       "        vertical-align: middle;\n",
       "    }\n",
       "\n",
       "    .dataframe tbody tr th {\n",
       "        vertical-align: top;\n",
       "    }\n",
       "\n",
       "    .dataframe thead th {\n",
       "        text-align: right;\n",
       "    }\n",
       "</style>\n",
       "<table border=\"1\" class=\"dataframe\">\n",
       "  <thead>\n",
       "    <tr style=\"text-align: right;\">\n",
       "      <th></th>\n",
       "      <th>750525</th>\n",
       "    </tr>\n",
       "  </thead>\n",
       "  <tbody>\n",
       "    <tr>\n",
       "      <th>simulant_id</th>\n",
       "      <td>2787_1010509</td>\n",
       "    </tr>\n",
       "    <tr>\n",
       "      <th>first_name_id</th>\n",
       "      <td>2787_1010509</td>\n",
       "    </tr>\n",
       "    <tr>\n",
       "      <th>middle_name_id</th>\n",
       "      <td>2787_1010509</td>\n",
       "    </tr>\n",
       "    <tr>\n",
       "      <th>last_name_id</th>\n",
       "      <td>2787_976156</td>\n",
       "    </tr>\n",
       "    <tr>\n",
       "      <th>age</th>\n",
       "      <td>5.287375</td>\n",
       "    </tr>\n",
       "    <tr>\n",
       "      <th>sex</th>\n",
       "      <td>Female</td>\n",
       "    </tr>\n",
       "    <tr>\n",
       "      <th>race_ethnicity</th>\n",
       "      <td>White</td>\n",
       "    </tr>\n",
       "    <tr>\n",
       "      <th>date_of_birth</th>\n",
       "      <td>2020-10-15</td>\n",
       "    </tr>\n",
       "    <tr>\n",
       "      <th>address_id</th>\n",
       "      <td>2787_418594</td>\n",
       "    </tr>\n",
       "    <tr>\n",
       "      <th>state_id</th>\n",
       "      <td>39</td>\n",
       "    </tr>\n",
       "    <tr>\n",
       "      <th>puma</th>\n",
       "      <td>4500</td>\n",
       "    </tr>\n",
       "    <tr>\n",
       "      <th>guardian_1</th>\n",
       "      <td>976156</td>\n",
       "    </tr>\n",
       "    <tr>\n",
       "      <th>guardian_2</th>\n",
       "      <td>-1</td>\n",
       "    </tr>\n",
       "    <tr>\n",
       "      <th>guardian_1_address_id</th>\n",
       "      <td>147158.0</td>\n",
       "    </tr>\n",
       "    <tr>\n",
       "      <th>guardian_2_address_id</th>\n",
       "      <td>NaN</td>\n",
       "    </tr>\n",
       "    <tr>\n",
       "      <th>wic_year</th>\n",
       "      <td>2026</td>\n",
       "    </tr>\n",
       "    <tr>\n",
       "      <th>random_seed</th>\n",
       "      <td>2787</td>\n",
       "    </tr>\n",
       "    <tr>\n",
       "      <th>year_of_birth</th>\n",
       "      <td>2020</td>\n",
       "    </tr>\n",
       "    <tr>\n",
       "      <th>state</th>\n",
       "      <td>OH</td>\n",
       "    </tr>\n",
       "    <tr>\n",
       "      <th>first_name</th>\n",
       "      <td>Charlee</td>\n",
       "    </tr>\n",
       "    <tr>\n",
       "      <th>middle_initial</th>\n",
       "      <td>W</td>\n",
       "    </tr>\n",
       "    <tr>\n",
       "      <th>last_name</th>\n",
       "      <td>Jayne</td>\n",
       "    </tr>\n",
       "    <tr>\n",
       "      <th>zipcode</th>\n",
       "      <td>45365</td>\n",
       "    </tr>\n",
       "    <tr>\n",
       "      <th>street_number</th>\n",
       "      <td>264</td>\n",
       "    </tr>\n",
       "    <tr>\n",
       "      <th>street_name</th>\n",
       "      <td>monument rd sw</td>\n",
       "    </tr>\n",
       "    <tr>\n",
       "      <th>unit_number</th>\n",
       "      <td>NaN</td>\n",
       "    </tr>\n",
       "    <tr>\n",
       "      <th>city</th>\n",
       "      <td>lima</td>\n",
       "    </tr>\n",
       "  </tbody>\n",
       "</table>\n",
       "</div>"
      ],
      "text/plain": [
       "                               750525\n",
       "simulant_id              2787_1010509\n",
       "first_name_id            2787_1010509\n",
       "middle_name_id           2787_1010509\n",
       "last_name_id              2787_976156\n",
       "age                          5.287375\n",
       "sex                            Female\n",
       "race_ethnicity                  White\n",
       "date_of_birth              2020-10-15\n",
       "address_id                2787_418594\n",
       "state_id                           39\n",
       "puma                             4500\n",
       "guardian_1                     976156\n",
       "guardian_2                         -1\n",
       "guardian_1_address_id        147158.0\n",
       "guardian_2_address_id             NaN\n",
       "wic_year                         2026\n",
       "random_seed                      2787\n",
       "year_of_birth                    2020\n",
       "state                              OH\n",
       "first_name                    Charlee\n",
       "middle_initial                      W\n",
       "last_name                       Jayne\n",
       "zipcode                         45365\n",
       "street_number                     264\n",
       "street_name            monument rd sw\n",
       "unit_number                       NaN\n",
       "city                             lima"
      ]
     },
     "execution_count": 53,
     "metadata": {},
     "output_type": "execute_result"
    }
   ],
   "source": [
    "df_wic.loc[wic_ages==5].T"
   ]
  },
  {
   "cell_type": "markdown",
   "id": "7938496e",
   "metadata": {},
   "source": [
    "# Check address of the single potential 5-year-old mother to see if there's an infant there with her as a guardian\n",
    "\n",
    "Yes, there is, simulant `2787_1100758` in 2026.\n",
    "\n",
    "It looks like simulant `2787_1010509` shows up as a _child_ of ages 0 and 1 in years 2021 and 2022, then shows up as a _mother_ of age 5 in 2026, as guardian 1 of simulant `2787_1100758`."
   ]
  },
  {
   "cell_type": "code",
   "execution_count": 167,
   "id": "081207a9",
   "metadata": {},
   "outputs": [
    {
     "data": {
      "text/html": [
       "<div>\n",
       "<style scoped>\n",
       "    .dataframe tbody tr th:only-of-type {\n",
       "        vertical-align: middle;\n",
       "    }\n",
       "\n",
       "    .dataframe tbody tr th {\n",
       "        vertical-align: top;\n",
       "    }\n",
       "\n",
       "    .dataframe thead th {\n",
       "        text-align: right;\n",
       "    }\n",
       "</style>\n",
       "<table border=\"1\" class=\"dataframe\">\n",
       "  <thead>\n",
       "    <tr style=\"text-align: right;\">\n",
       "      <th></th>\n",
       "      <th>679938</th>\n",
       "      <th>687751</th>\n",
       "      <th>750525</th>\n",
       "      <th>762874</th>\n",
       "      <th>764919</th>\n",
       "      <th>776170</th>\n",
       "      <th>783382</th>\n",
       "    </tr>\n",
       "  </thead>\n",
       "  <tbody>\n",
       "    <tr>\n",
       "      <th>simulant_id</th>\n",
       "      <td>2787_1010509</td>\n",
       "      <td>2787_1010509</td>\n",
       "      <td>2787_1010509</td>\n",
       "      <td>2787_1100758</td>\n",
       "      <td>2787_533137</td>\n",
       "      <td>2787_1108345</td>\n",
       "      <td>2787_1108345</td>\n",
       "    </tr>\n",
       "    <tr>\n",
       "      <th>first_name_id</th>\n",
       "      <td>2787_1010509</td>\n",
       "      <td>2787_1010509</td>\n",
       "      <td>2787_1010509</td>\n",
       "      <td>2787_1100758</td>\n",
       "      <td>2787_533137</td>\n",
       "      <td>2787_1108345</td>\n",
       "      <td>2787_1108345</td>\n",
       "    </tr>\n",
       "    <tr>\n",
       "      <th>middle_name_id</th>\n",
       "      <td>2787_1010509</td>\n",
       "      <td>2787_1010509</td>\n",
       "      <td>2787_1010509</td>\n",
       "      <td>2787_1100758</td>\n",
       "      <td>2787_533137</td>\n",
       "      <td>2787_1108345</td>\n",
       "      <td>2787_1108345</td>\n",
       "    </tr>\n",
       "    <tr>\n",
       "      <th>last_name_id</th>\n",
       "      <td>2787_976156</td>\n",
       "      <td>2787_976156</td>\n",
       "      <td>2787_976156</td>\n",
       "      <td>2787_976156</td>\n",
       "      <td>2787_533135</td>\n",
       "      <td>2787_533135</td>\n",
       "      <td>2787_533135</td>\n",
       "    </tr>\n",
       "    <tr>\n",
       "      <th>age</th>\n",
       "      <td>0.227827</td>\n",
       "      <td>1.224405</td>\n",
       "      <td>5.287375</td>\n",
       "      <td>0.499444</td>\n",
       "      <td>27.227592</td>\n",
       "      <td>0.665634</td>\n",
       "      <td>1.662212</td>\n",
       "    </tr>\n",
       "    <tr>\n",
       "      <th>sex</th>\n",
       "      <td>Female</td>\n",
       "      <td>Female</td>\n",
       "      <td>Female</td>\n",
       "      <td>Male</td>\n",
       "      <td>Female</td>\n",
       "      <td>Male</td>\n",
       "      <td>Male</td>\n",
       "    </tr>\n",
       "    <tr>\n",
       "      <th>race_ethnicity</th>\n",
       "      <td>White</td>\n",
       "      <td>White</td>\n",
       "      <td>White</td>\n",
       "      <td>Asian</td>\n",
       "      <td>White</td>\n",
       "      <td>White</td>\n",
       "      <td>White</td>\n",
       "    </tr>\n",
       "    <tr>\n",
       "      <th>date_of_birth</th>\n",
       "      <td>2020-10-15</td>\n",
       "      <td>2020-10-15</td>\n",
       "      <td>2020-10-15</td>\n",
       "      <td>2025-07-30</td>\n",
       "      <td>1999-10-08</td>\n",
       "      <td>2026-05-29</td>\n",
       "      <td>2026-05-29</td>\n",
       "    </tr>\n",
       "    <tr>\n",
       "      <th>address_id</th>\n",
       "      <td>2787_418594</td>\n",
       "      <td>2787_418594</td>\n",
       "      <td>2787_418594</td>\n",
       "      <td>2787_418594</td>\n",
       "      <td>2787_418594</td>\n",
       "      <td>2787_418594</td>\n",
       "      <td>2787_418594</td>\n",
       "    </tr>\n",
       "    <tr>\n",
       "      <th>state_id</th>\n",
       "      <td>39</td>\n",
       "      <td>39</td>\n",
       "      <td>39</td>\n",
       "      <td>39</td>\n",
       "      <td>39</td>\n",
       "      <td>39</td>\n",
       "      <td>39</td>\n",
       "    </tr>\n",
       "    <tr>\n",
       "      <th>puma</th>\n",
       "      <td>4500</td>\n",
       "      <td>4500</td>\n",
       "      <td>4500</td>\n",
       "      <td>4500</td>\n",
       "      <td>4500</td>\n",
       "      <td>4500</td>\n",
       "      <td>4500</td>\n",
       "    </tr>\n",
       "    <tr>\n",
       "      <th>guardian_1</th>\n",
       "      <td>976156</td>\n",
       "      <td>976156</td>\n",
       "      <td>976156</td>\n",
       "      <td>1010509</td>\n",
       "      <td>-1</td>\n",
       "      <td>533137</td>\n",
       "      <td>533137</td>\n",
       "    </tr>\n",
       "    <tr>\n",
       "      <th>guardian_2</th>\n",
       "      <td>-1</td>\n",
       "      <td>-1</td>\n",
       "      <td>-1</td>\n",
       "      <td>-1</td>\n",
       "      <td>-1</td>\n",
       "      <td>-1</td>\n",
       "      <td>-1</td>\n",
       "    </tr>\n",
       "    <tr>\n",
       "      <th>guardian_1_address_id</th>\n",
       "      <td>338306.0</td>\n",
       "      <td>338306.0</td>\n",
       "      <td>147158.0</td>\n",
       "      <td>418594.0</td>\n",
       "      <td>NaN</td>\n",
       "      <td>418594.0</td>\n",
       "      <td>418594.0</td>\n",
       "    </tr>\n",
       "    <tr>\n",
       "      <th>guardian_2_address_id</th>\n",
       "      <td>NaN</td>\n",
       "      <td>NaN</td>\n",
       "      <td>NaN</td>\n",
       "      <td>NaN</td>\n",
       "      <td>NaN</td>\n",
       "      <td>NaN</td>\n",
       "      <td>NaN</td>\n",
       "    </tr>\n",
       "    <tr>\n",
       "      <th>wic_year</th>\n",
       "      <td>2021</td>\n",
       "      <td>2022</td>\n",
       "      <td>2026</td>\n",
       "      <td>2026</td>\n",
       "      <td>2027</td>\n",
       "      <td>2027</td>\n",
       "      <td>2028</td>\n",
       "    </tr>\n",
       "    <tr>\n",
       "      <th>random_seed</th>\n",
       "      <td>2787</td>\n",
       "      <td>2787</td>\n",
       "      <td>2787</td>\n",
       "      <td>2787</td>\n",
       "      <td>2787</td>\n",
       "      <td>2787</td>\n",
       "      <td>2787</td>\n",
       "    </tr>\n",
       "    <tr>\n",
       "      <th>year_of_birth</th>\n",
       "      <td>2020</td>\n",
       "      <td>2020</td>\n",
       "      <td>2020</td>\n",
       "      <td>2025</td>\n",
       "      <td>1999</td>\n",
       "      <td>2026</td>\n",
       "      <td>2026</td>\n",
       "    </tr>\n",
       "    <tr>\n",
       "      <th>state</th>\n",
       "      <td>OH</td>\n",
       "      <td>OH</td>\n",
       "      <td>OH</td>\n",
       "      <td>OH</td>\n",
       "      <td>OH</td>\n",
       "      <td>OH</td>\n",
       "      <td>OH</td>\n",
       "    </tr>\n",
       "    <tr>\n",
       "      <th>first_name</th>\n",
       "      <td>Charlee</td>\n",
       "      <td>Charlee</td>\n",
       "      <td>Charlee</td>\n",
       "      <td>Samuel</td>\n",
       "      <td>Maria</td>\n",
       "      <td>Wyatt</td>\n",
       "      <td>Wyatt</td>\n",
       "    </tr>\n",
       "    <tr>\n",
       "      <th>middle_initial</th>\n",
       "      <td>W</td>\n",
       "      <td>W</td>\n",
       "      <td>W</td>\n",
       "      <td>V</td>\n",
       "      <td>S</td>\n",
       "      <td>N</td>\n",
       "      <td>N</td>\n",
       "    </tr>\n",
       "    <tr>\n",
       "      <th>last_name</th>\n",
       "      <td>Jayne</td>\n",
       "      <td>Jayne</td>\n",
       "      <td>Jayne</td>\n",
       "      <td>Jayne</td>\n",
       "      <td>Garrison</td>\n",
       "      <td>Garrison</td>\n",
       "      <td>Garrison</td>\n",
       "    </tr>\n",
       "    <tr>\n",
       "      <th>zipcode</th>\n",
       "      <td>45365</td>\n",
       "      <td>45365</td>\n",
       "      <td>45365</td>\n",
       "      <td>45365</td>\n",
       "      <td>45365</td>\n",
       "      <td>45365</td>\n",
       "      <td>45365</td>\n",
       "    </tr>\n",
       "    <tr>\n",
       "      <th>street_number</th>\n",
       "      <td>264</td>\n",
       "      <td>264</td>\n",
       "      <td>264</td>\n",
       "      <td>264</td>\n",
       "      <td>264</td>\n",
       "      <td>264</td>\n",
       "      <td>264</td>\n",
       "    </tr>\n",
       "    <tr>\n",
       "      <th>street_name</th>\n",
       "      <td>monument rd sw</td>\n",
       "      <td>monument rd sw</td>\n",
       "      <td>monument rd sw</td>\n",
       "      <td>monument rd sw</td>\n",
       "      <td>monument rd sw</td>\n",
       "      <td>monument rd sw</td>\n",
       "      <td>monument rd sw</td>\n",
       "    </tr>\n",
       "    <tr>\n",
       "      <th>unit_number</th>\n",
       "      <td>NaN</td>\n",
       "      <td>NaN</td>\n",
       "      <td>NaN</td>\n",
       "      <td>NaN</td>\n",
       "      <td>NaN</td>\n",
       "      <td>NaN</td>\n",
       "      <td>NaN</td>\n",
       "    </tr>\n",
       "    <tr>\n",
       "      <th>city</th>\n",
       "      <td>lima</td>\n",
       "      <td>lima</td>\n",
       "      <td>lima</td>\n",
       "      <td>lima</td>\n",
       "      <td>lima</td>\n",
       "      <td>lima</td>\n",
       "      <td>lima</td>\n",
       "    </tr>\n",
       "  </tbody>\n",
       "</table>\n",
       "</div>"
      ],
      "text/plain": [
       "                               679938          687751          750525  \\\n",
       "simulant_id              2787_1010509    2787_1010509    2787_1010509   \n",
       "first_name_id            2787_1010509    2787_1010509    2787_1010509   \n",
       "middle_name_id           2787_1010509    2787_1010509    2787_1010509   \n",
       "last_name_id              2787_976156     2787_976156     2787_976156   \n",
       "age                          0.227827        1.224405        5.287375   \n",
       "sex                            Female          Female          Female   \n",
       "race_ethnicity                  White           White           White   \n",
       "date_of_birth              2020-10-15      2020-10-15      2020-10-15   \n",
       "address_id                2787_418594     2787_418594     2787_418594   \n",
       "state_id                           39              39              39   \n",
       "puma                             4500            4500            4500   \n",
       "guardian_1                     976156          976156          976156   \n",
       "guardian_2                         -1              -1              -1   \n",
       "guardian_1_address_id        338306.0        338306.0        147158.0   \n",
       "guardian_2_address_id             NaN             NaN             NaN   \n",
       "wic_year                         2021            2022            2026   \n",
       "random_seed                      2787            2787            2787   \n",
       "year_of_birth                    2020            2020            2020   \n",
       "state                              OH              OH              OH   \n",
       "first_name                    Charlee         Charlee         Charlee   \n",
       "middle_initial                      W               W               W   \n",
       "last_name                       Jayne           Jayne           Jayne   \n",
       "zipcode                         45365           45365           45365   \n",
       "street_number                     264             264             264   \n",
       "street_name            monument rd sw  monument rd sw  monument rd sw   \n",
       "unit_number                       NaN             NaN             NaN   \n",
       "city                             lima            lima            lima   \n",
       "\n",
       "                               762874          764919          776170  \\\n",
       "simulant_id              2787_1100758     2787_533137    2787_1108345   \n",
       "first_name_id            2787_1100758     2787_533137    2787_1108345   \n",
       "middle_name_id           2787_1100758     2787_533137    2787_1108345   \n",
       "last_name_id              2787_976156     2787_533135     2787_533135   \n",
       "age                          0.499444       27.227592        0.665634   \n",
       "sex                              Male          Female            Male   \n",
       "race_ethnicity                  Asian           White           White   \n",
       "date_of_birth              2025-07-30      1999-10-08      2026-05-29   \n",
       "address_id                2787_418594     2787_418594     2787_418594   \n",
       "state_id                           39              39              39   \n",
       "puma                             4500            4500            4500   \n",
       "guardian_1                    1010509              -1          533137   \n",
       "guardian_2                         -1              -1              -1   \n",
       "guardian_1_address_id        418594.0             NaN        418594.0   \n",
       "guardian_2_address_id             NaN             NaN             NaN   \n",
       "wic_year                         2026            2027            2027   \n",
       "random_seed                      2787            2787            2787   \n",
       "year_of_birth                    2025            1999            2026   \n",
       "state                              OH              OH              OH   \n",
       "first_name                     Samuel           Maria           Wyatt   \n",
       "middle_initial                      V               S               N   \n",
       "last_name                       Jayne        Garrison        Garrison   \n",
       "zipcode                         45365           45365           45365   \n",
       "street_number                     264             264             264   \n",
       "street_name            monument rd sw  monument rd sw  monument rd sw   \n",
       "unit_number                       NaN             NaN             NaN   \n",
       "city                             lima            lima            lima   \n",
       "\n",
       "                               783382  \n",
       "simulant_id              2787_1108345  \n",
       "first_name_id            2787_1108345  \n",
       "middle_name_id           2787_1108345  \n",
       "last_name_id              2787_533135  \n",
       "age                          1.662212  \n",
       "sex                              Male  \n",
       "race_ethnicity                  White  \n",
       "date_of_birth              2026-05-29  \n",
       "address_id                2787_418594  \n",
       "state_id                           39  \n",
       "puma                             4500  \n",
       "guardian_1                     533137  \n",
       "guardian_2                         -1  \n",
       "guardian_1_address_id        418594.0  \n",
       "guardian_2_address_id             NaN  \n",
       "wic_year                         2028  \n",
       "random_seed                      2787  \n",
       "year_of_birth                    2026  \n",
       "state                              OH  \n",
       "first_name                      Wyatt  \n",
       "middle_initial                      N  \n",
       "last_name                    Garrison  \n",
       "zipcode                         45365  \n",
       "street_number                     264  \n",
       "street_name            monument rd sw  \n",
       "unit_number                       NaN  \n",
       "city                             lima  "
      ]
     },
     "execution_count": 167,
     "metadata": {},
     "output_type": "execute_result"
    }
   ],
   "source": [
    "'2787_1010509'\n",
    "df_wic.loc[df_wic.address_id=='2787_418594'].T"
   ]
  },
  {
   "cell_type": "code",
   "execution_count": 169,
   "id": "ef2bb2b1",
   "metadata": {},
   "outputs": [
    {
     "data": {
      "text/html": [
       "<div>\n",
       "<style scoped>\n",
       "    .dataframe tbody tr th:only-of-type {\n",
       "        vertical-align: middle;\n",
       "    }\n",
       "\n",
       "    .dataframe tbody tr th {\n",
       "        vertical-align: top;\n",
       "    }\n",
       "\n",
       "    .dataframe thead th {\n",
       "        text-align: right;\n",
       "    }\n",
       "</style>\n",
       "<table border=\"1\" class=\"dataframe\">\n",
       "  <thead>\n",
       "    <tr style=\"text-align: right;\">\n",
       "      <th></th>\n",
       "      <th>762874</th>\n",
       "    </tr>\n",
       "  </thead>\n",
       "  <tbody>\n",
       "    <tr>\n",
       "      <th>simulant_id</th>\n",
       "      <td>2787_1100758</td>\n",
       "    </tr>\n",
       "    <tr>\n",
       "      <th>first_name_id</th>\n",
       "      <td>2787_1100758</td>\n",
       "    </tr>\n",
       "    <tr>\n",
       "      <th>middle_name_id</th>\n",
       "      <td>2787_1100758</td>\n",
       "    </tr>\n",
       "    <tr>\n",
       "      <th>last_name_id</th>\n",
       "      <td>2787_976156</td>\n",
       "    </tr>\n",
       "    <tr>\n",
       "      <th>age</th>\n",
       "      <td>0.499444</td>\n",
       "    </tr>\n",
       "    <tr>\n",
       "      <th>sex</th>\n",
       "      <td>Male</td>\n",
       "    </tr>\n",
       "    <tr>\n",
       "      <th>race_ethnicity</th>\n",
       "      <td>Asian</td>\n",
       "    </tr>\n",
       "    <tr>\n",
       "      <th>date_of_birth</th>\n",
       "      <td>2025-07-30</td>\n",
       "    </tr>\n",
       "    <tr>\n",
       "      <th>address_id</th>\n",
       "      <td>2787_418594</td>\n",
       "    </tr>\n",
       "    <tr>\n",
       "      <th>state_id</th>\n",
       "      <td>39</td>\n",
       "    </tr>\n",
       "    <tr>\n",
       "      <th>puma</th>\n",
       "      <td>4500</td>\n",
       "    </tr>\n",
       "    <tr>\n",
       "      <th>guardian_1</th>\n",
       "      <td>1010509</td>\n",
       "    </tr>\n",
       "    <tr>\n",
       "      <th>guardian_2</th>\n",
       "      <td>-1</td>\n",
       "    </tr>\n",
       "    <tr>\n",
       "      <th>guardian_1_address_id</th>\n",
       "      <td>418594.0</td>\n",
       "    </tr>\n",
       "    <tr>\n",
       "      <th>guardian_2_address_id</th>\n",
       "      <td>NaN</td>\n",
       "    </tr>\n",
       "    <tr>\n",
       "      <th>wic_year</th>\n",
       "      <td>2026</td>\n",
       "    </tr>\n",
       "    <tr>\n",
       "      <th>random_seed</th>\n",
       "      <td>2787</td>\n",
       "    </tr>\n",
       "    <tr>\n",
       "      <th>year_of_birth</th>\n",
       "      <td>2025</td>\n",
       "    </tr>\n",
       "    <tr>\n",
       "      <th>state</th>\n",
       "      <td>OH</td>\n",
       "    </tr>\n",
       "    <tr>\n",
       "      <th>first_name</th>\n",
       "      <td>Samuel</td>\n",
       "    </tr>\n",
       "    <tr>\n",
       "      <th>middle_initial</th>\n",
       "      <td>V</td>\n",
       "    </tr>\n",
       "    <tr>\n",
       "      <th>last_name</th>\n",
       "      <td>Jayne</td>\n",
       "    </tr>\n",
       "    <tr>\n",
       "      <th>zipcode</th>\n",
       "      <td>45365</td>\n",
       "    </tr>\n",
       "    <tr>\n",
       "      <th>street_number</th>\n",
       "      <td>264</td>\n",
       "    </tr>\n",
       "    <tr>\n",
       "      <th>street_name</th>\n",
       "      <td>monument rd sw</td>\n",
       "    </tr>\n",
       "    <tr>\n",
       "      <th>unit_number</th>\n",
       "      <td>NaN</td>\n",
       "    </tr>\n",
       "    <tr>\n",
       "      <th>city</th>\n",
       "      <td>lima</td>\n",
       "    </tr>\n",
       "  </tbody>\n",
       "</table>\n",
       "</div>"
      ],
      "text/plain": [
       "                               762874\n",
       "simulant_id              2787_1100758\n",
       "first_name_id            2787_1100758\n",
       "middle_name_id           2787_1100758\n",
       "last_name_id              2787_976156\n",
       "age                          0.499444\n",
       "sex                              Male\n",
       "race_ethnicity                  Asian\n",
       "date_of_birth              2025-07-30\n",
       "address_id                2787_418594\n",
       "state_id                           39\n",
       "puma                             4500\n",
       "guardian_1                    1010509\n",
       "guardian_2                         -1\n",
       "guardian_1_address_id        418594.0\n",
       "guardian_2_address_id             NaN\n",
       "wic_year                         2026\n",
       "random_seed                      2787\n",
       "year_of_birth                    2025\n",
       "state                              OH\n",
       "first_name                     Samuel\n",
       "middle_initial                      V\n",
       "last_name                       Jayne\n",
       "zipcode                         45365\n",
       "street_number                     264\n",
       "street_name            monument rd sw\n",
       "unit_number                       NaN\n",
       "city                             lima"
      ]
     },
     "execution_count": 169,
     "metadata": {},
     "output_type": "execute_result"
    }
   ],
   "source": [
    "df_wic.loc[df_wic.simulant_id == '2787_1100758'].T"
   ]
  },
  {
   "cell_type": "markdown",
   "id": "afcc8e45",
   "metadata": {},
   "source": [
    "# Continue plotting age distribution of likely mothers with implausible ages\n",
    "\n",
    "### Now do age 6 to 14"
   ]
  },
  {
   "cell_type": "code",
   "execution_count": 90,
   "id": "a70c65cb",
   "metadata": {},
   "outputs": [
    {
     "data": {
      "text/plain": [
       "(0.0, 250.0)"
      ]
     },
     "execution_count": 90,
     "metadata": {},
     "output_type": "execute_result"
    },
    {
     "data": {
      "image/png": "[encoded data removed]",
      "text/plain": [
       "<Figure size 640x480 with 1 Axes>"
      ]
     },
     "metadata": {},
     "output_type": "display_data"
    }
   ],
   "source": [
    "young_mothers = wic_ages.loc[(wic_ages>5) & (wic_ages<=14)].value_counts().sort_index()\n",
    "plt.plot(young_mothers.index, young_mothers, marker='o')\n",
    "plt.xlabel(\"Age of mother (6 to 14)\")\n",
    "plt.ylabel(f\"Number of mothers (out of {total_num_mothers:,})\")\n",
    "plt.ylim(0,250)"
   ]
  },
  {
   "cell_type": "markdown",
   "id": "c9654762",
   "metadata": {},
   "source": [
    "# Look more closely into the mothers 60 and older"
   ]
  },
  {
   "cell_type": "code",
   "execution_count": 130,
   "id": "2aa255c5",
   "metadata": {},
   "outputs": [
    {
     "data": {
      "text/html": [
       "<div>\n",
       "<style scoped>\n",
       "    .dataframe tbody tr th:only-of-type {\n",
       "        vertical-align: middle;\n",
       "    }\n",
       "\n",
       "    .dataframe tbody tr th {\n",
       "        vertical-align: top;\n",
       "    }\n",
       "\n",
       "    .dataframe thead th {\n",
       "        text-align: right;\n",
       "    }\n",
       "</style>\n",
       "<table border=\"1\" class=\"dataframe\">\n",
       "  <thead>\n",
       "    <tr style=\"text-align: right;\">\n",
       "      <th></th>\n",
       "      <th>2290</th>\n",
       "      <th>1489289</th>\n",
       "    </tr>\n",
       "  </thead>\n",
       "  <tbody>\n",
       "    <tr>\n",
       "      <th>simulant_id</th>\n",
       "      <td>7359_467787</td>\n",
       "      <td>5020_318146</td>\n",
       "    </tr>\n",
       "    <tr>\n",
       "      <th>first_name_id</th>\n",
       "      <td>7359_467787</td>\n",
       "      <td>5020_318146</td>\n",
       "    </tr>\n",
       "    <tr>\n",
       "      <th>middle_name_id</th>\n",
       "      <td>7359_467787</td>\n",
       "      <td>5020_318146</td>\n",
       "    </tr>\n",
       "    <tr>\n",
       "      <th>last_name_id</th>\n",
       "      <td>7359_467787</td>\n",
       "      <td>5020_318146</td>\n",
       "    </tr>\n",
       "    <tr>\n",
       "      <th>age</th>\n",
       "      <td>94.14317</td>\n",
       "      <td>94.488838</td>\n",
       "    </tr>\n",
       "    <tr>\n",
       "      <th>sex</th>\n",
       "      <td>Female</td>\n",
       "      <td>Female</td>\n",
       "    </tr>\n",
       "    <tr>\n",
       "      <th>race_ethnicity</th>\n",
       "      <td>White</td>\n",
       "      <td>White</td>\n",
       "    </tr>\n",
       "    <tr>\n",
       "      <th>date_of_birth</th>\n",
       "      <td>1926-10-18</td>\n",
       "      <td>1926-06-14</td>\n",
       "    </tr>\n",
       "    <tr>\n",
       "      <th>address_id</th>\n",
       "      <td>7359_188244</td>\n",
       "      <td>5020_127730</td>\n",
       "    </tr>\n",
       "    <tr>\n",
       "      <th>state_id</th>\n",
       "      <td>51</td>\n",
       "      <td>25</td>\n",
       "    </tr>\n",
       "    <tr>\n",
       "      <th>puma</th>\n",
       "      <td>59301</td>\n",
       "      <td>1901</td>\n",
       "    </tr>\n",
       "    <tr>\n",
       "      <th>guardian_1</th>\n",
       "      <td>-1</td>\n",
       "      <td>-1</td>\n",
       "    </tr>\n",
       "    <tr>\n",
       "      <th>guardian_2</th>\n",
       "      <td>-1</td>\n",
       "      <td>-1</td>\n",
       "    </tr>\n",
       "    <tr>\n",
       "      <th>guardian_1_address_id</th>\n",
       "      <td>NaN</td>\n",
       "      <td>NaN</td>\n",
       "    </tr>\n",
       "    <tr>\n",
       "      <th>guardian_2_address_id</th>\n",
       "      <td>NaN</td>\n",
       "      <td>NaN</td>\n",
       "    </tr>\n",
       "    <tr>\n",
       "      <th>wic_year</th>\n",
       "      <td>2021</td>\n",
       "      <td>2021</td>\n",
       "    </tr>\n",
       "    <tr>\n",
       "      <th>random_seed</th>\n",
       "      <td>7359</td>\n",
       "      <td>5020</td>\n",
       "    </tr>\n",
       "    <tr>\n",
       "      <th>year_of_birth</th>\n",
       "      <td>1926</td>\n",
       "      <td>1926</td>\n",
       "    </tr>\n",
       "    <tr>\n",
       "      <th>state</th>\n",
       "      <td>VA</td>\n",
       "      <td>MA</td>\n",
       "    </tr>\n",
       "    <tr>\n",
       "      <th>first_name</th>\n",
       "      <td>Mazie</td>\n",
       "      <td>Lillian</td>\n",
       "    </tr>\n",
       "    <tr>\n",
       "      <th>middle_initial</th>\n",
       "      <td>S</td>\n",
       "      <td>M</td>\n",
       "    </tr>\n",
       "    <tr>\n",
       "      <th>last_name</th>\n",
       "      <td>Schrock</td>\n",
       "      <td>Rackley</td>\n",
       "    </tr>\n",
       "    <tr>\n",
       "      <th>zipcode</th>\n",
       "      <td>22042</td>\n",
       "      <td>1040</td>\n",
       "    </tr>\n",
       "    <tr>\n",
       "      <th>street_number</th>\n",
       "      <td>s73w 17137</td>\n",
       "      <td>2420</td>\n",
       "    </tr>\n",
       "    <tr>\n",
       "      <th>street_name</th>\n",
       "      <td>west emerald avenue</td>\n",
       "      <td>russell st</td>\n",
       "    </tr>\n",
       "    <tr>\n",
       "      <th>unit_number</th>\n",
       "      <td>NaN</td>\n",
       "      <td>NaN</td>\n",
       "    </tr>\n",
       "    <tr>\n",
       "      <th>city</th>\n",
       "      <td>fairfax</td>\n",
       "      <td>scituate</td>\n",
       "    </tr>\n",
       "  </tbody>\n",
       "</table>\n",
       "</div>"
      ],
      "text/plain": [
       "                                   2290         1489289\n",
       "simulant_id                    7359_467787  5020_318146\n",
       "first_name_id                  7359_467787  5020_318146\n",
       "middle_name_id                 7359_467787  5020_318146\n",
       "last_name_id                   7359_467787  5020_318146\n",
       "age                               94.14317    94.488838\n",
       "sex                                 Female       Female\n",
       "race_ethnicity                       White        White\n",
       "date_of_birth                   1926-10-18   1926-06-14\n",
       "address_id                     7359_188244  5020_127730\n",
       "state_id                                51           25\n",
       "puma                                 59301         1901\n",
       "guardian_1                              -1           -1\n",
       "guardian_2                              -1           -1\n",
       "guardian_1_address_id                  NaN          NaN\n",
       "guardian_2_address_id                  NaN          NaN\n",
       "wic_year                              2021         2021\n",
       "random_seed                           7359         5020\n",
       "year_of_birth                         1926         1926\n",
       "state                                   VA           MA\n",
       "first_name                           Mazie      Lillian\n",
       "middle_initial                           S            M\n",
       "last_name                          Schrock      Rackley\n",
       "zipcode                              22042         1040\n",
       "street_number                   s73w 17137         2420\n",
       "street_name            west emerald avenue   russell st\n",
       "unit_number                            NaN          NaN\n",
       "city                               fairfax     scituate"
      ]
     },
     "execution_count": 130,
     "metadata": {},
     "output_type": "execute_result"
    }
   ],
   "source": [
    "df_wic.loc[wic_ages==94].T"
   ]
  },
  {
   "cell_type": "code",
   "execution_count": 138,
   "id": "1bc4cd05",
   "metadata": {},
   "outputs": [
    {
     "data": {
      "text/html": [
       "<div>\n",
       "<style scoped>\n",
       "    .dataframe tbody tr th:only-of-type {\n",
       "        vertical-align: middle;\n",
       "    }\n",
       "\n",
       "    .dataframe tbody tr th {\n",
       "        vertical-align: top;\n",
       "    }\n",
       "\n",
       "    .dataframe thead th {\n",
       "        text-align: right;\n",
       "    }\n",
       "</style>\n",
       "<table border=\"1\" class=\"dataframe\">\n",
       "  <thead>\n",
       "    <tr style=\"text-align: right;\">\n",
       "      <th></th>\n",
       "      <th>2290</th>\n",
       "      <th>13714</th>\n",
       "      <th>23199</th>\n",
       "    </tr>\n",
       "  </thead>\n",
       "  <tbody>\n",
       "    <tr>\n",
       "      <th>simulant_id</th>\n",
       "      <td>7359_467787</td>\n",
       "      <td>7359_467788</td>\n",
       "      <td>7359_467788</td>\n",
       "    </tr>\n",
       "    <tr>\n",
       "      <th>first_name_id</th>\n",
       "      <td>7359_467787</td>\n",
       "      <td>7359_467788</td>\n",
       "      <td>7359_467788</td>\n",
       "    </tr>\n",
       "    <tr>\n",
       "      <th>middle_name_id</th>\n",
       "      <td>7359_467787</td>\n",
       "      <td>7359_467788</td>\n",
       "      <td>7359_467788</td>\n",
       "    </tr>\n",
       "    <tr>\n",
       "      <th>last_name_id</th>\n",
       "      <td>7359_467787</td>\n",
       "      <td>7359_467787</td>\n",
       "      <td>7359_467787</td>\n",
       "    </tr>\n",
       "    <tr>\n",
       "      <th>age</th>\n",
       "      <td>94.14317</td>\n",
       "      <td>0.976321</td>\n",
       "      <td>1.972898</td>\n",
       "    </tr>\n",
       "    <tr>\n",
       "      <th>sex</th>\n",
       "      <td>Female</td>\n",
       "      <td>Male</td>\n",
       "      <td>Male</td>\n",
       "    </tr>\n",
       "    <tr>\n",
       "      <th>race_ethnicity</th>\n",
       "      <td>White</td>\n",
       "      <td>White</td>\n",
       "      <td>White</td>\n",
       "    </tr>\n",
       "    <tr>\n",
       "      <th>date_of_birth</th>\n",
       "      <td>1926-10-18</td>\n",
       "      <td>2019-12-18</td>\n",
       "      <td>2019-12-18</td>\n",
       "    </tr>\n",
       "    <tr>\n",
       "      <th>address_id</th>\n",
       "      <td>7359_188244</td>\n",
       "      <td>7359_188244</td>\n",
       "      <td>7359_188244</td>\n",
       "    </tr>\n",
       "    <tr>\n",
       "      <th>state_id</th>\n",
       "      <td>51</td>\n",
       "      <td>51</td>\n",
       "      <td>51</td>\n",
       "    </tr>\n",
       "    <tr>\n",
       "      <th>puma</th>\n",
       "      <td>59301</td>\n",
       "      <td>59301</td>\n",
       "      <td>59301</td>\n",
       "    </tr>\n",
       "    <tr>\n",
       "      <th>guardian_1</th>\n",
       "      <td>-1</td>\n",
       "      <td>467787</td>\n",
       "      <td>467787</td>\n",
       "    </tr>\n",
       "    <tr>\n",
       "      <th>guardian_2</th>\n",
       "      <td>-1</td>\n",
       "      <td>-1</td>\n",
       "      <td>-1</td>\n",
       "    </tr>\n",
       "    <tr>\n",
       "      <th>guardian_1_address_id</th>\n",
       "      <td>NaN</td>\n",
       "      <td>188244.0</td>\n",
       "      <td>188244.0</td>\n",
       "    </tr>\n",
       "    <tr>\n",
       "      <th>guardian_2_address_id</th>\n",
       "      <td>NaN</td>\n",
       "      <td>NaN</td>\n",
       "      <td>NaN</td>\n",
       "    </tr>\n",
       "    <tr>\n",
       "      <th>wic_year</th>\n",
       "      <td>2021</td>\n",
       "      <td>2021</td>\n",
       "      <td>2022</td>\n",
       "    </tr>\n",
       "    <tr>\n",
       "      <th>random_seed</th>\n",
       "      <td>7359</td>\n",
       "      <td>7359</td>\n",
       "      <td>7359</td>\n",
       "    </tr>\n",
       "    <tr>\n",
       "      <th>year_of_birth</th>\n",
       "      <td>1926</td>\n",
       "      <td>2019</td>\n",
       "      <td>2019</td>\n",
       "    </tr>\n",
       "    <tr>\n",
       "      <th>state</th>\n",
       "      <td>VA</td>\n",
       "      <td>VA</td>\n",
       "      <td>VA</td>\n",
       "    </tr>\n",
       "    <tr>\n",
       "      <th>first_name</th>\n",
       "      <td>Mazie</td>\n",
       "      <td>Barrett</td>\n",
       "      <td>Barrett</td>\n",
       "    </tr>\n",
       "    <tr>\n",
       "      <th>middle_initial</th>\n",
       "      <td>S</td>\n",
       "      <td>J</td>\n",
       "      <td>J</td>\n",
       "    </tr>\n",
       "    <tr>\n",
       "      <th>last_name</th>\n",
       "      <td>Schrock</td>\n",
       "      <td>Schrock</td>\n",
       "      <td>Schrock</td>\n",
       "    </tr>\n",
       "    <tr>\n",
       "      <th>zipcode</th>\n",
       "      <td>22042</td>\n",
       "      <td>22042</td>\n",
       "      <td>22042</td>\n",
       "    </tr>\n",
       "    <tr>\n",
       "      <th>street_number</th>\n",
       "      <td>s73w 17137</td>\n",
       "      <td>s73w 17137</td>\n",
       "      <td>s73w 17137</td>\n",
       "    </tr>\n",
       "    <tr>\n",
       "      <th>street_name</th>\n",
       "      <td>west emerald avenue</td>\n",
       "      <td>west emerald avenue</td>\n",
       "      <td>west emerald avenue</td>\n",
       "    </tr>\n",
       "    <tr>\n",
       "      <th>unit_number</th>\n",
       "      <td>NaN</td>\n",
       "      <td>NaN</td>\n",
       "      <td>NaN</td>\n",
       "    </tr>\n",
       "    <tr>\n",
       "      <th>city</th>\n",
       "      <td>fairfax</td>\n",
       "      <td>fairfax</td>\n",
       "      <td>fairfax</td>\n",
       "    </tr>\n",
       "  </tbody>\n",
       "</table>\n",
       "</div>"
      ],
      "text/plain": [
       "                                     2290                 13714  \\\n",
       "simulant_id                    7359_467787          7359_467788   \n",
       "first_name_id                  7359_467787          7359_467788   \n",
       "middle_name_id                 7359_467787          7359_467788   \n",
       "last_name_id                   7359_467787          7359_467787   \n",
       "age                               94.14317             0.976321   \n",
       "sex                                 Female                 Male   \n",
       "race_ethnicity                       White                White   \n",
       "date_of_birth                   1926-10-18           2019-12-18   \n",
       "address_id                     7359_188244          7359_188244   \n",
       "state_id                                51                   51   \n",
       "puma                                 59301                59301   \n",
       "guardian_1                              -1               467787   \n",
       "guardian_2                              -1                   -1   \n",
       "guardian_1_address_id                  NaN             188244.0   \n",
       "guardian_2_address_id                  NaN                  NaN   \n",
       "wic_year                              2021                 2021   \n",
       "random_seed                           7359                 7359   \n",
       "year_of_birth                         1926                 2019   \n",
       "state                                   VA                   VA   \n",
       "first_name                           Mazie              Barrett   \n",
       "middle_initial                           S                    J   \n",
       "last_name                          Schrock              Schrock   \n",
       "zipcode                              22042                22042   \n",
       "street_number                   s73w 17137           s73w 17137   \n",
       "street_name            west emerald avenue  west emerald avenue   \n",
       "unit_number                            NaN                  NaN   \n",
       "city                               fairfax              fairfax   \n",
       "\n",
       "                                     23199  \n",
       "simulant_id                    7359_467788  \n",
       "first_name_id                  7359_467788  \n",
       "middle_name_id                 7359_467788  \n",
       "last_name_id                   7359_467787  \n",
       "age                               1.972898  \n",
       "sex                                   Male  \n",
       "race_ethnicity                       White  \n",
       "date_of_birth                   2019-12-18  \n",
       "address_id                     7359_188244  \n",
       "state_id                                51  \n",
       "puma                                 59301  \n",
       "guardian_1                          467787  \n",
       "guardian_2                              -1  \n",
       "guardian_1_address_id             188244.0  \n",
       "guardian_2_address_id                  NaN  \n",
       "wic_year                              2022  \n",
       "random_seed                           7359  \n",
       "year_of_birth                         2019  \n",
       "state                                   VA  \n",
       "first_name                         Barrett  \n",
       "middle_initial                           J  \n",
       "last_name                          Schrock  \n",
       "zipcode                              22042  \n",
       "street_number                   s73w 17137  \n",
       "street_name            west emerald avenue  \n",
       "unit_number                            NaN  \n",
       "city                               fairfax  "
      ]
     },
     "execution_count": 138,
     "metadata": {},
     "output_type": "execute_result"
    }
   ],
   "source": [
    "df_wic.loc[df_wic.address_id=='7359_188244'].T"
   ]
  },
  {
   "cell_type": "code",
   "execution_count": 132,
   "id": "2314b37d",
   "metadata": {},
   "outputs": [
    {
     "data": {
      "text/plain": [
       "2021    60\n",
       "2029     8\n",
       "2023     6\n",
       "2030     4\n",
       "2025     3\n",
       "2024     3\n",
       "2026     3\n",
       "2022     3\n",
       "2027     2\n",
       "2028     2\n",
       "Name: wic_year, dtype: int64"
      ]
     },
     "execution_count": 132,
     "metadata": {},
     "output_type": "execute_result"
    }
   ],
   "source": [
    "df_wic.query(\"age >= 60\").wic_year.value_counts()"
   ]
  },
  {
   "cell_type": "code",
   "execution_count": 159,
   "id": "fae8b294",
   "metadata": {},
   "outputs": [
    {
     "data": {
      "text/plain": [
       "<matplotlib.legend.Legend at 0x7fbe93c77e50>"
      ]
     },
     "execution_count": 159,
     "metadata": {},
     "output_type": "execute_result"
    },
    {
     "data": {
      "image/png": "[encoded data removed]",
      "text/plain": [
       "<Figure size 640x480 with 1 Axes>"
      ]
     },
     "metadata": {},
     "output_type": "display_data"
    }
   ],
   "source": [
    "total_num_mothers = len(wic_ages.loc[wic_ages>=5])\n",
    "years = range(2021, 2031)\n",
    "for year in years:\n",
    "    older_mother_index = (df_wic.wic_year == year) & (wic_ages>=60)\n",
    "    older_mothers = wic_ages.loc[older_mother_index].value_counts().sort_index()\n",
    "    age_counts = pd.DataFrame(index=range(60,95)).join(older_mothers).fillna(0).squeeze()\n",
    "    plt.plot(age_counts.index, age_counts, marker='o', label=year, alpha=0.8)\n",
    "\n",
    "    plt.xlabel(\"Age of mother (60 and older)\")\n",
    "plt.ylabel(f\"Number of mothers (out of {total_num_mothers:,})\")\n",
    "plt.ylim(0,8)\n",
    "plt.legend()"
   ]
  },
  {
   "cell_type": "markdown",
   "id": "07074c1b",
   "metadata": {},
   "source": [
    "# See how many mothers of a given age there are year over year to see if there's a time trend\n",
    "\n",
    "### First look at 10-year-olds, then look at 11-year-olds\n",
    "\n",
    "There doesn't appear to be a time trend for these ages, but it might be worth drawing some more plots to double-check."
   ]
  },
  {
   "cell_type": "code",
   "execution_count": 170,
   "id": "34d23cc4",
   "metadata": {},
   "outputs": [
    {
     "data": {
      "text/plain": [
       "Text(0, 0.5, 'Number of 10-year-old mothers')"
      ]
     },
     "execution_count": 170,
     "metadata": {},
     "output_type": "execute_result"
    },
    {
     "data": {
      "image/png": "[encoded data removed]",
      "text/plain": [
       "<Figure size 640x480 with 1 Axes>"
      ]
     },
     "metadata": {},
     "output_type": "display_data"
    }
   ],
   "source": [
    "s = df_wic.query(\"10 <= age < 11\").wic_year.value_counts().sort_index()\n",
    "plt.plot(s.index, s, marker='o')\n",
    "plt.xlabel('year')\n",
    "plt.ylabel('Number of 10-year-old mothers')"
   ]
  },
  {
   "cell_type": "code",
   "execution_count": 162,
   "id": "6f4d551e",
   "metadata": {},
   "outputs": [
    {
     "data": {
      "text/plain": [
       "99"
      ]
     },
     "execution_count": 162,
     "metadata": {},
     "output_type": "execute_result"
    }
   ],
   "source": [
    "s.sum()"
   ]
  },
  {
   "cell_type": "code",
   "execution_count": 171,
   "id": "d6e3a854",
   "metadata": {},
   "outputs": [
    {
     "data": {
      "text/plain": [
       "Text(0, 0.5, 'Number of 11-year-old mothers')"
      ]
     },
     "execution_count": 171,
     "metadata": {},
     "output_type": "execute_result"
    },
    {
     "data": {
      "image/png": "[encoded data removed]",
      "text/plain": [
       "<Figure size 640x480 with 1 Axes>"
      ]
     },
     "metadata": {},
     "output_type": "display_data"
    }
   ],
   "source": [
    "s = df_wic.query(\"11 <= age < 12\").wic_year.value_counts().sort_index()\n",
    "plt.plot(s.index,s,marker='o')\n",
    "plt.xlabel('year')\n",
    "plt.ylabel('Number of 11-year-old mothers')"
   ]
  },
  {
   "cell_type": "code",
   "execution_count": 164,
   "id": "e5c3be59",
   "metadata": {},
   "outputs": [
    {
     "data": {
      "text/plain": [
       "201"
      ]
     },
     "execution_count": 164,
     "metadata": {},
     "output_type": "execute_result"
    }
   ],
   "source": [
    "s.sum()"
   ]
  },
  {
   "cell_type": "code",
   "execution_count": null,
   "id": "71817079",
   "metadata": {},
   "outputs": [],
   "source": []
  }
 ],
 "metadata": {
  "kernelspec": {
   "display_name": "Python 3 (ipykernel)",
   "language": "python",
   "name": "python3"
  },
  "language_info": {
   "codemirror_mode": {
    "name": "ipython",
    "version": 3
   },
   "file_extension": ".py",
   "mimetype": "text/x-python",
   "name": "python",
   "nbconvert_exporter": "python",
   "pygments_lexer": "ipython3",
   "version": "3.8.13"
  }
 },
 "nbformat": 4,
 "nbformat_minor": 5
}
