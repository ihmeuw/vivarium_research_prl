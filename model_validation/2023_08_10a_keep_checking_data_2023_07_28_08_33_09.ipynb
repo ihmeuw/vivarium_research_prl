{
 "cells": [
  {
   "cell_type": "code",
   "execution_count": 1,
   "id": "64f60d2e-9b91-4539-8575-f5dd3b0d05e4",
   "metadata": {},
   "outputs": [
    {
     "name": "stdout",
     "output_type": "stream",
     "text": [
      "Thu 10 Aug 2023 05:36:26 PM PDT\n",
      "ndbs\n",
      "Linux long-slurm-sarchive-p0046 5.4.0-135-generic #152-Ubuntu SMP Wed Nov 23 20:19:22 UTC 2022 x86_64 x86_64 x86_64 GNU/Linux\n",
      "Python 3.10.12\n",
      "/mnt/share/code/ndbs/vivarium_research_prl/model_validation\n"
     ]
    }
   ],
   "source": [
    "import numpy as np, matplotlib.pyplot as plt, pandas as pd\n",
    "# For finding and loading multiple files\n",
    "import os\n",
    "# Use this to see how much memory the dataframes use\n",
    "from sys import getsizeof\n",
    "# To view keyspace.yaml\n",
    "import yaml\n",
    "from pathlib import Path\n",
    "\n",
    "import pseudopeople as psp\n",
    "\n",
    "from vivarium_research_prl.utils import sizemb, MappingViaAttributes\n",
    "from vivarium_research_prl import alpha\n",
    "\n",
    "!date\n",
    "!whoami\n",
    "!uname -a\n",
    "!python --version\n",
    "!pwd"
   ]
  },
  {
   "cell_type": "code",
   "execution_count": 17,
   "id": "31ce5ab9-b279-4e1c-81ff-eab10f66615c",
   "metadata": {},
   "outputs": [],
   "source": []
  },
  {
   "cell_type": "code",
   "execution_count": 18,
   "id": "68881c75-332e-4936-8ab1-e814bd322df8",
   "metadata": {},
   "outputs": [],
   "source": [
    "%load_ext autoreload\n",
    "%autoreload 2"
   ]
  },
  {
   "cell_type": "markdown",
   "id": "530e7ca1-59b4-48be-9baa-5150f1b5f56d",
   "metadata": {},
   "source": [
    "# Data!\n",
    "```\n",
    "/mnt/team/simulation_science/priv/engineering/vivarium_census_prl_synth_pop /results/release_02_yellow/full_data/united_states_of_america/2023_07_28_08_33_09\n",
    "/final_results/2023_08_02_11_38_10/pseudopeople_input_data_usa\n",
    "```"
   ]
  },
  {
   "cell_type": "code",
   "execution_count": 4,
   "id": "0ab68912-25a5-4e6a-b817-be69233dc9d1",
   "metadata": {},
   "outputs": [
    {
     "name": "stdout",
     "output_type": "stream",
     "text": [
      "total 384K\n",
      "-rw-r--r--  1 albrja IHME-Simulationscience 1.6K Aug  2 15:31 CHANGELOG.rst\n",
      "drwxrwsr-x 11 albrja IHME-Simulationscience 5.0K Aug  2 15:31 .\n",
      "drwxrwsr-x  2 albrja IHME-Simulationscience 167K Aug  2 15:30 taxes_dependents\n",
      "drwxrwsr-x  2 albrja IHME-Simulationscience 167K Aug  2 15:28 taxes_1040\n",
      "drwxrwsr-x  2 albrja IHME-Simulationscience 167K Aug  2 15:23 taxes_w2_and_1099\n",
      "drwxrwsr-x  2 albrja IHME-Simulationscience 167K Aug  2 15:15 social_security\n",
      "drwxrwsr-x  2 albrja IHME-Simulationscience 167K Aug  2 15:15 women_infants_and_children\n",
      "drwxrwsr-x  2 albrja IHME-Simulationscience 167K Aug  2 15:15 current_population_survey\n",
      "drwxrwsr-x  2 albrja IHME-Simulationscience 167K Aug  2 15:15 american_community_survey\n",
      "drwxrwsr-x  2 albrja IHME-Simulationscience 167K Aug  2 15:15 decennial_census\n",
      "drwxrwsr-x  2 albrja IHME-Simulationscience 334K Aug  2 14:28 logs\n",
      "drwxrwsr-x  3 albrja IHME-Simulationscience  512 Aug  2 11:38 ..\n"
     ]
    }
   ],
   "source": [
    "project_dir = Path('/mnt/team/simulation_science/priv/engineering/vivarium_census_prl_synth_pop')\n",
    "full_data_dir = project_dir / 'results/release_02_yellow/full_data'\n",
    "usa_model_dir = full_data_dir / 'united_states_of_america/2023_07_28_08_33_09'\n",
    "usa_data_dir = usa_model_dir / 'final_results/2023_08_02_11_38_10/pseudopeople_input_data_usa'\n",
    "\n",
    "!ls -halt $usa_data_dir"
   ]
  },
  {
   "cell_type": "markdown",
   "id": "ffbba952-0d7c-44ec-a5a7-0715b903c20d",
   "metadata": {},
   "source": [
    "# Read `keyspace.yaml` to see seed numbers"
   ]
  },
  {
   "cell_type": "code",
   "execution_count": 7,
   "id": "099b6db3-f957-4b7f-aae0-f4d36974eb7e",
   "metadata": {},
   "outputs": [
    {
     "name": "stdout",
     "output_type": "stream",
     "text": [
      "total 1.2M\n",
      "drwxrwsr-x  5 sbachmei IHME-Simulationscience 2.5K Aug  7 18:41 ..\n",
      "drwxrwsr-x  6 sbachmei IHME-Simulationscience 3.0K Aug  7 18:41 final_results\n",
      "drwxrwsr-x  6 sbachmei IHME-Simulationscience 5.0K Jul 31 08:59 .\n",
      "-rw-rw-r--  1 sbachmei IHME-Simulationscience 1.2M Jul 29 06:01 output.hdf\n",
      "drwxrwsr-x 10 sbachmei IHME-Simulationscience 4.0K Jul 28 17:09 raw_results\n",
      "drwxrwsr-x  2 sbachmei IHME-Simulationscience  512 Jul 28 08:33 __pycache__\n",
      "-rw-rw-r--  1 sbachmei IHME-Simulationscience  110 Jul 28 08:33 settings.py\n",
      "-rw-rw-r--  1 sbachmei IHME-Simulationscience 1.9K Jul 28 08:33 model_specification.yaml\n",
      "-rw-rw-r--  1 sbachmei IHME-Simulationscience   50 Jul 28 08:33 branches.yaml\n",
      "-rw-rw-r--  1 sbachmei IHME-Simulationscience 2.4K Jul 28 08:33 keyspace.yaml\n",
      "-rw-rw-r--  1 sbachmei IHME-Simulationscience 4.2K Jul 28 08:33 requirements.txt\n",
      "drwxrwsr-x  3 sbachmei IHME-Simulationscience  512 Jul 28 08:33 logs\n"
     ]
    }
   ],
   "source": [
    "!ls -halt $usa_model_dir"
   ]
  },
  {
   "cell_type": "code",
   "execution_count": 9,
   "id": "b9dcdce6-3ab9-487a-b051-333f05a2ad5a",
   "metadata": {},
   "outputs": [
    {
     "data": {
      "text/plain": [
       "dict_keys(['input_draw', 'placeholder_branch_name.scenario', 'random_seed'])"
      ]
     },
     "execution_count": 9,
     "metadata": {},
     "output_type": "execute_result"
    }
   ],
   "source": [
    "with open(usa_model_dir / \"keyspace.yaml\", 'r') as stream:\n",
    "    keyspace = yaml.safe_load(stream)\n",
    "keyspace.keys()"
   ]
  },
  {
   "cell_type": "code",
   "execution_count": 13,
   "id": "ca1725ca-9ad4-47e9-98a4-44c0d901adb1",
   "metadata": {},
   "outputs": [
    {
     "data": {
      "text/plain": [
       "'4344 5616 6810 2787 2284 4369 3254 7359 3541 5020 9672 8869 3167 6817 4507 9901 5949 6545 1362 781 7594 8641 6144 9911 4941 5439 3947 4938 8516 6991 4561 432 4637 3793 860 323 3380 3938 107 3595 7985 494 2476 6539 5860 6800 3978 5703 3984 7438 2047 6324 7384 7817 9526 7275 4922 3465 6606 8877 4622 5548 3326 6007 1235 1061 3298 7107 8291 7551 8133 9434 9159 771 4950 3591 352 9859 93 9549 1490 1219 5188 3377 558 1614 4123 9577 7938 2500 7179 2599 1534 386 1935 338 6520 3585 7745 539 4943 4672 4743 3481 5685 5950 7054 103 5901 3142 3994 6760 1282 8360 1177 1091 5399 5308 8734 8156 6701 3390 5619 5812 3598 3357 3374 3545 7530 1597 5475 9187 5969 4400 1299 974 131 3776 7164 440 2054 4255 2405 6776 2416 6090 7137 9284 3731 3202 9588 8838 478 3454 5300 5863 6554 6442 2700 3621 1356 821 9840 9872 3568 3240 3713 1667 1508 6123 6455 1897 8817 9696 9225 6519 9804 3825 5393 9768 9495 1069 7342 2689 9024 6975 5670 4649 8134 1452 40 8612 6207 2965 1154 8997 6203 1832 3528 9871 28 3725 3304 6654 4802 6874 99 4202 6790 7653 9247 9244 7344 9971 465 682 8527 5150 8628 7870 1483 2448 9772 5594 8192 7511 5072 5698 1074 1609 5398 4528 4203 9723 7125 2229 1482 6929 7589 5892 2298 1559 6079 9740 3789 6118 1753 278 4904 5781 2277 1777 3305 315 5440 1933 9888 3624 9367 3093 3632 3225 1917 3607 6191 5348 5797 3684 2461 5628 7303 5159 6793 7927 8425 2863 446 7850 778 7264 4260 496 1562 5501 4192 8755 9272 1655 6778 1182 9402 5875 1007 9776 3586 5831 1200 7086 8221 2477 3066 7645 5114 2721 9292 1632 5246 7016 5046 1990 1232 2808 7292 2311 6487 4621 8305 734 9643 2989 8129 6982 8501 8509 1648 4496 9066 9653 9847 3723 6751 5004 8980 656'"
      ]
     },
     "execution_count": 13,
     "metadata": {},
     "output_type": "execute_result"
    }
   ],
   "source": [
    "' '.join(map(str, keyspace['random_seed']))"
   ]
  },
  {
   "cell_type": "code",
   "execution_count": 15,
   "id": "f1cb4565-bcf9-4889-b39e-00909b78b58c",
   "metadata": {},
   "outputs": [
    {
     "data": {
      "text/plain": [
       "[{'placeholder_branch_name': {'scenario': 'baseline'}}]"
      ]
     },
     "execution_count": 15,
     "metadata": {},
     "output_type": "execute_result"
    }
   ],
   "source": [
    "with open(usa_model_dir / \"branches.yaml\", 'r') as stream:\n",
    "    branches = yaml.safe_load(stream)\n",
    "branches # Hmm, it's a list not a dict. Why?"
   ]
  },
  {
   "cell_type": "code",
   "execution_count": 16,
   "id": "ab7dd085-383b-4f39-9105-4ab5224934e9",
   "metadata": {},
   "outputs": [
    {
     "name": "stdout",
     "output_type": "stream",
     "text": [
      "- placeholder_branch_name:\n",
      "    scenario: baseline\n"
     ]
    }
   ],
   "source": [
    "# Looks like the single key is stored as a list item with -\n",
    "!head $usa_model_dir/branches.yaml"
   ]
  },
  {
   "cell_type": "code",
   "execution_count": null,
   "id": "7c17d2c5-3b9e-4663-9e1a-e8c4b3378572",
   "metadata": {},
   "outputs": [],
   "source": []
  }
 ],
 "metadata": {
  "kernelspec": {
   "display_name": "Python 3 (ipykernel)",
   "language": "python",
   "name": "python3"
  },
  "language_info": {
   "codemirror_mode": {
    "name": "ipython",
    "version": 3
   },
   "file_extension": ".py",
   "mimetype": "text/x-python",
   "name": "python",
   "nbconvert_exporter": "python",
   "pygments_lexer": "ipython3",
   "version": "3.10.12"
  }
 },
 "nbformat": 4,
 "nbformat_minor": 5
}
