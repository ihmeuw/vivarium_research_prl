{
 "cells": [
  {
   "cell_type": "code",
   "execution_count": 1,
   "id": "e0154e90",
   "metadata": {},
   "outputs": [
    {
     "name": "stdout",
     "output_type": "stream",
     "text": [
      "Tue 04 Apr 2023 04:06:15 PM PDT\n",
      "ndbs\n",
      "Linux int-slurm-sarchive-p0003 5.4.0-135-generic #152-Ubuntu SMP Wed Nov 23 20:19:22 UTC 2022 x86_64 x86_64 x86_64 GNU/Linux\n",
      "/mnt/share/code/ndbs/vivarium_research_prl/model_validation\n"
     ]
    }
   ],
   "source": [
    "import numpy as np, matplotlib.pyplot as plt, pandas as pd\n",
    "pd.set_option('display.max_rows', 50)\n",
    "\n",
    "import os\n",
    "# Use this to see how much memory the dataframes use\n",
    "from sys import getsizeof\n",
    "\n",
    "import yaml\n",
    "\n",
    "import pseudopeople as pp\n",
    "from pseudopeople.utilities import get_configuration\n",
    "from vivarium.framework.randomness import RandomnessStream\n",
    "\n",
    "from vivarium_research_prl.utils import sizemb, MappingViaAttributes\n",
    "from vivarium_research_prl import datatypes\n",
    "from vivarium_research_prl.noise import corruption, fake_names, noisify\n",
    "from vivarium_research_prl.find_kids import datasets, noisify_data\n",
    "\n",
    "!date\n",
    "!whoami\n",
    "!uname -a\n",
    "!pwd"
   ]
  },
  {
   "cell_type": "code",
   "execution_count": 3,
   "id": "bbccb3aa",
   "metadata": {},
   "outputs": [
    {
     "data": {
      "text/plain": [
       "13.5"
      ]
     },
     "execution_count": 3,
     "metadata": {},
     "output_type": "execute_result"
    }
   ],
   "source": [
    "18*45/60"
   ]
  },
  {
   "cell_type": "code",
   "execution_count": 4,
   "id": "13c8bb3c",
   "metadata": {},
   "outputs": [],
   "source": [
    "%load_ext autoreload\n",
    "%autoreload 2"
   ]
  },
  {
   "cell_type": "code",
   "execution_count": 5,
   "id": "083076fc",
   "metadata": {},
   "outputs": [
    {
     "data": {
      "text/plain": [
       "1.4783393501805053"
      ]
     },
     "execution_count": 5,
     "metadata": {},
     "output_type": "execute_result"
    }
   ],
   "source": [
    "819/554"
   ]
  },
  {
   "cell_type": "markdown",
   "id": "b36872cd",
   "metadata": {},
   "source": [
    "# Find data\n",
    "\n",
    "```\n",
    "/mnt/team/simulation_science/priv/engineering/vivarium_census_prl_synth_pop/results/full_scale_334mil/united_states_of_america/2023_03_30_10_23_13/final_results/2023_03_30_16_02_39\n",
    "```"
   ]
  },
  {
   "cell_type": "code",
   "execution_count": 6,
   "id": "307332d1",
   "metadata": {},
   "outputs": [
    {
     "name": "stdout",
     "output_type": "stream",
     "text": [
      "total 404K\r\n",
      "drwxrwsr-x  3 sbachmei IHME-Simulationscience 1.5K Mar 30 17:15 ..\r\n",
      "drwxrwsr-x  2 sbachmei IHME-Simulationscience 167K Mar 30 16:52 tax_dependents_observer\r\n",
      "drwxrwsr-x  2 sbachmei IHME-Simulationscience 167K Mar 30 16:44 tax_1040_observer\r\n",
      "drwxrwsr-x  2 sbachmei IHME-Simulationscience 339K Mar 30 16:42 logs\r\n",
      "drwxrwsr-x  2 sbachmei IHME-Simulationscience 167K Mar 30 16:31 tax_w2_observer\r\n",
      "drwxrwsr-x  2 sbachmei IHME-Simulationscience 167K Mar 30 16:28 social_security_observer\r\n",
      "drwxrwsr-x  2 sbachmei IHME-Simulationscience 167K Mar 30 16:28 wic_observer\r\n",
      "drwxrwsr-x  2 sbachmei IHME-Simulationscience 167K Mar 30 16:28 household_survey_observer_cps\r\n",
      "drwxrwsr-x  2 sbachmei IHME-Simulationscience 167K Mar 30 16:28 household_survey_observer_acs\r\n",
      "drwxrwsr-x  2 sbachmei IHME-Simulationscience 167K Mar 30 16:26 decennial_census_observer\r\n",
      "drwxrwsr-x 11 sbachmei IHME-Simulationscience 4.5K Mar 30 16:21 .\r\n"
     ]
    }
   ],
   "source": [
    "project_output_dir = \\\n",
    "    '/mnt/team/simulation_science/priv/engineering/vivarium_census_prl_synth_pop'\n",
    "output_subdir = (\n",
    "    'results/full_scale_334mil'\n",
    "    '/united_states_of_america/2023_03_30_10_23_13'\n",
    "    '/final_results/2023_03_30_16_02_39'\n",
    ")\n",
    "output_dir = f'{project_output_dir}/{output_subdir}'\n",
    "\n",
    "!ls -halt $output_dir"
   ]
  },
  {
   "cell_type": "code",
   "execution_count": 7,
   "id": "fa535519",
   "metadata": {
    "scrolled": true
   },
   "outputs": [
    {
     "name": "stdout",
     "output_type": "stream",
     "text": [
      "total 199G\r\n",
      "-rw-r--r--  1 sbachmei IHME-Simulationscience 614M Mar 30 17:07 tax_w2_observer_3568.csv.bz2\r\n",
      "-rw-r--r--  1 sbachmei IHME-Simulationscience 603M Mar 30 17:04 tax_w2_observer_7551.csv.bz2\r\n",
      "-rw-r--r--  1 sbachmei IHME-Simulationscience 613M Mar 30 17:04 tax_w2_observer_7086.csv.bz2\r\n",
      "-rw-r--r--  1 sbachmei IHME-Simulationscience 613M Mar 30 17:00 tax_w2_observer_5440.csv.bz2\r\n",
      "-rw-r--r--  1 sbachmei IHME-Simulationscience 598M Mar 30 16:58 tax_w2_observer_9292.csv.bz2\r\n",
      "-rw-r--r--  1 sbachmei IHME-Simulationscience 606M Mar 30 16:42 tax_w2_observer_1282.csv.bz2\r\n",
      "-rw-r--r--  1 sbachmei IHME-Simulationscience 611M Mar 30 16:39 tax_w2_observer_1007.csv.bz2\r\n",
      "-rw-r--r--  1 sbachmei IHME-Simulationscience 610M Mar 30 16:34 tax_w2_observer_2277.csv.bz2\r\n",
      "-rw-r--r--  1 sbachmei IHME-Simulationscience 606M Mar 30 16:34 tax_w2_observer_1483.csv.bz2\r\n",
      "-rw-r--r--  1 sbachmei IHME-Simulationscience 597M Mar 30 16:33 tax_w2_observer_1482.csv.bz2\r\n",
      "-rw-r--r--  1 sbachmei IHME-Simulationscience 606M Mar 30 16:33 tax_w2_observer_1452.csv.bz2\r\n",
      "-rw-r--r--  1 sbachmei IHME-Simulationscience 610M Mar 30 16:33 tax_w2_observer_131.csv.bz2\r\n",
      "-rw-r--r--  1 sbachmei IHME-Simulationscience 601M Mar 30 16:33 tax_w2_observer_1299.csv.bz2\r\n",
      "-rw-r--r--  1 sbachmei IHME-Simulationscience 613M Mar 30 16:33 tax_w2_observer_2229.csv.bz2\r\n",
      "-rw-r--r--  1 sbachmei IHME-Simulationscience 609M Mar 30 16:33 tax_w2_observer_1362.csv.bz2\r\n",
      "-rw-r--r--  1 sbachmei IHME-Simulationscience 607M Mar 30 16:33 tax_w2_observer_1356.csv.bz2\r\n",
      "-rw-r--r--  1 sbachmei IHME-Simulationscience 608M Mar 30 16:33 tax_w2_observer_3254.csv.bz2\r\n",
      "-rw-r--r--  1 sbachmei IHME-Simulationscience 603M Mar 30 16:33 tax_w2_observer_1182.csv.bz2\r\n",
      "-rw-r--r--  1 sbachmei IHME-Simulationscience 605M Mar 30 16:33 tax_w2_observer_5046.csv.bz2\r\n",
      "-rw-r--r--  1 sbachmei IHME-Simulationscience 615M Mar 30 16:33 tax_w2_observer_3528.csv.bz2\r\n",
      "-rw-r--r--  1 sbachmei IHME-Simulationscience 600M Mar 30 16:33 tax_w2_observer_4922.csv.bz2\r\n",
      "-rw-r--r--  1 sbachmei IHME-Simulationscience 609M Mar 30 16:33 tax_w2_observer_5020.csv.bz2\r\n",
      "-rw-r--r--  1 sbachmei IHME-Simulationscience 611M Mar 30 16:32 tax_w2_observer_3595.csv.bz2\r\n",
      "-rw-r--r--  1 sbachmei IHME-Simulationscience 608M Mar 30 16:32 tax_w2_observer_3984.csv.bz2\r\n",
      "-rw-r--r--  1 sbachmei IHME-Simulationscience 614M Mar 30 16:32 tax_w2_observer_3978.csv.bz2\r\n",
      "-rw-r--r--  1 sbachmei IHME-Simulationscience 618M Mar 30 16:32 tax_w2_observer_5004.csv.bz2\r\n",
      "-rw-r--r--  1 sbachmei IHME-Simulationscience 608M Mar 30 16:32 tax_w2_observer_494.csv.bz2\r\n",
      "-rw-r--r--  1 sbachmei IHME-Simulationscience 616M Mar 30 16:32 tax_w2_observer_4123.csv.bz2\r\n",
      "-rw-r--r--  1 sbachmei IHME-Simulationscience 609M Mar 30 16:32 tax_w2_observer_3994.csv.bz2\r\n",
      "-rw-r--r--  1 sbachmei IHME-Simulationscience 610M Mar 30 16:32 tax_w2_observer_40.csv.bz2\r\n",
      "-rw-r--r--  1 sbachmei IHME-Simulationscience 609M Mar 30 16:32 tax_w2_observer_5399.csv.bz2\r\n",
      "-rw-r--r--  1 sbachmei IHME-Simulationscience 603M Mar 30 16:32 tax_w2_observer_3607.csv.bz2\r\n",
      "-rw-r--r--  1 sbachmei IHME-Simulationscience 611M Mar 30 16:32 tax_w2_observer_3465.csv.bz2\r\n",
      "-rw-r--r--  1 sbachmei IHME-Simulationscience 613M Mar 30 16:32 tax_w2_observer_3591.csv.bz2\r\n",
      "-rw-r--r--  1 sbachmei IHME-Simulationscience 607M Mar 30 16:32 tax_w2_observer_3541.csv.bz2\r\n",
      "-rw-r--r--  1 sbachmei IHME-Simulationscience 611M Mar 30 16:32 tax_w2_observer_3142.csv.bz2\r\n",
      "-rw-r--r--  1 sbachmei IHME-Simulationscience 613M Mar 30 16:32 tax_w2_observer_3481.csv.bz2\r\n",
      "-rw-r--r--  1 sbachmei IHME-Simulationscience 610M Mar 30 16:32 tax_w2_observer_3545.csv.bz2\r\n",
      "-rw-r--r--  1 sbachmei IHME-Simulationscience 609M Mar 30 16:32 tax_w2_observer_3586.csv.bz2\r\n",
      "-rw-r--r--  1 sbachmei IHME-Simulationscience 615M Mar 30 16:32 tax_w2_observer_3240.csv.bz2\r\n",
      "-rw-r--r--  1 sbachmei IHME-Simulationscience 606M Mar 30 16:32 tax_w2_observer_6123.csv.bz2\r\n",
      "-rw-r--r--  1 sbachmei IHME-Simulationscience 609M Mar 30 16:32 tax_w2_observer_6144.csv.bz2\r\n",
      "-rw-r--r--  1 sbachmei IHME-Simulationscience 608M Mar 30 16:32 tax_w2_observer_5616.csv.bz2\r\n",
      "-rw-r--r--  1 sbachmei IHME-Simulationscience 613M Mar 30 16:32 tax_w2_observer_6519.csv.bz2\r\n",
      "-rw-r--r--  1 sbachmei IHME-Simulationscience 608M Mar 30 16:32 tax_w2_observer_4938.csv.bz2\r\n",
      "-rw-r--r--  1 sbachmei IHME-Simulationscience 615M Mar 30 16:32 tax_w2_observer_6455.csv.bz2\r\n",
      "-rw-r--r--  1 sbachmei IHME-Simulationscience 610M Mar 30 16:32 tax_w2_observer_6520.csv.bz2\r\n",
      "-rw-r--r--  1 sbachmei IHME-Simulationscience 613M Mar 30 16:32 tax_w2_observer_323.csv.bz2\r\n",
      "-rw-r--r--  1 sbachmei IHME-Simulationscience 611M Mar 30 16:32 tax_w2_observer_3598.csv.bz2\r\n",
      "-rw-r--r--  1 sbachmei IHME-Simulationscience 615M Mar 30 16:32 tax_w2_observer_5501.csv.bz2\r\n",
      "-rw-r--r--  1 sbachmei IHME-Simulationscience 607M Mar 30 16:32 tax_w2_observer_6442.csv.bz2\r\n",
      "-rw-r--r--  1 sbachmei IHME-Simulationscience 598M Mar 30 16:32 tax_w2_observer_6203.csv.bz2\r\n",
      "-rw-r--r--  1 sbachmei IHME-Simulationscience 615M Mar 30 16:32 tax_w2_observer_5548.csv.bz2\r\n",
      "-rw-r--r--  1 sbachmei IHME-Simulationscience 618M Mar 30 16:32 tax_w2_observer_5439.csv.bz2\r\n",
      "-rw-r--r--  1 sbachmei IHME-Simulationscience 610M Mar 30 16:32 tax_w2_observer_3093.csv.bz2\r\n",
      "-rw-r--r--  1 sbachmei IHME-Simulationscience 607M Mar 30 16:32 tax_w2_observer_5393.csv.bz2\r\n",
      "-rw-r--r--  1 sbachmei IHME-Simulationscience 610M Mar 30 16:32 tax_w2_observer_6207.csv.bz2\r\n",
      "-rw-r--r--  1 sbachmei IHME-Simulationscience 608M Mar 30 16:32 tax_w2_observer_432.csv.bz2\r\n",
      "-rw-r--r--  1 sbachmei IHME-Simulationscience 605M Mar 30 16:32 tax_w2_observer_4950.csv.bz2\r\n",
      "-rw-r--r--  1 sbachmei IHME-Simulationscience 609M Mar 30 16:32 tax_w2_observer_5863.csv.bz2\r\n",
      "-rw-r--r--  1 sbachmei IHME-Simulationscience 621M Mar 30 16:32 tax_w2_observer_4621.csv.bz2\r\n",
      "-rw-r--r--  1 sbachmei IHME-Simulationscience 616M Mar 30 16:32 tax_w2_observer_4561.csv.bz2\r\n",
      "-rw-r--r--  1 sbachmei IHME-Simulationscience 607M Mar 30 16:32 tax_w2_observer_3298.csv.bz2\r\n",
      "-rw-r--r--  1 sbachmei IHME-Simulationscience 610M Mar 30 16:32 tax_w2_observer_6191.csv.bz2\r\n",
      "-rw-r--r--  1 sbachmei IHME-Simulationscience 602M Mar 30 16:32 tax_w2_observer_4941.csv.bz2\r\n",
      "-rw-r--r--  1 sbachmei IHME-Simulationscience 608M Mar 30 16:32 tax_w2_observer_4943.csv.bz2\r\n",
      "-rw-r--r--  1 sbachmei IHME-Simulationscience 608M Mar 30 16:32 tax_w2_observer_4344.csv.bz2\r\n",
      "-rw-r--r--  1 sbachmei IHME-Simulationscience 611M Mar 30 16:32 tax_w2_observer_5901.csv.bz2\r\n",
      "-rw-r--r--  1 sbachmei IHME-Simulationscience 601M Mar 30 16:32 tax_w2_observer_5831.csv.bz2\r\n",
      "-rw-r--r--  1 sbachmei IHME-Simulationscience 610M Mar 30 16:32 tax_w2_observer_8305.csv.bz2\r\n",
      "-rw-r--r--  1 sbachmei IHME-Simulationscience 607M Mar 30 16:32 tax_w2_observer_5619.csv.bz2\r\n",
      "-rw-r--r--  1 sbachmei IHME-Simulationscience 612M Mar 30 16:32 tax_w2_observer_5698.csv.bz2\r\n",
      "-rw-r--r--  1 sbachmei IHME-Simulationscience 613M Mar 30 16:32 tax_w2_observer_446.csv.bz2\r\n",
      "-rw-r--r--  1 sbachmei IHME-Simulationscience 611M Mar 30 16:32 tax_w2_observer_5860.csv.bz2\r\n",
      "-rw-r--r--  1 sbachmei IHME-Simulationscience 607M Mar 30 16:32 tax_w2_observer_8291.csv.bz2\r\n",
      "-rw-r--r--  1 sbachmei IHME-Simulationscience 611M Mar 30 16:32 tax_w2_observer_440.csv.bz2\r\n",
      "-rw-r--r--  1 sbachmei IHME-Simulationscience 614M Mar 30 16:32 tax_w2_observer_821.csv.bz2\r\n",
      "-rw-r--r--  1 sbachmei IHME-Simulationscience 607M Mar 30 16:32 tax_w2_observer_9434.csv.bz2\r\n",
      "-rw-r--r--  1 sbachmei IHME-Simulationscience 613M Mar 30 16:32 tax_w2_observer_8192.csv.bz2\r\n",
      "-rw-r--r--  1 sbachmei IHME-Simulationscience 598M Mar 30 16:32 tax_w2_observer_352.csv.bz2\r\n",
      "-rw-r--r--  1 sbachmei IHME-Simulationscience 605M Mar 30 16:32 tax_w2_observer_9367.csv.bz2\r\n",
      "-rw-r--r--  1 sbachmei IHME-Simulationscience 599M Mar 30 16:32 tax_w2_observer_5398.csv.bz2\r\n",
      "-rw-r--r--  1 sbachmei IHME-Simulationscience 610M Mar 30 16:32 tax_w2_observer_7985.csv.bz2\r\n",
      "-rw-r--r--  1 sbachmei IHME-Simulationscience 601M Mar 30 16:32 tax_w2_observer_3225.csv.bz2\r\n",
      "-rw-r--r--  1 sbachmei IHME-Simulationscience 607M Mar 30 16:32 tax_w2_observer_5703.csv.bz2\r\n",
      "-rw-r--r--  1 sbachmei IHME-Simulationscience 616M Mar 30 16:32 tax_w2_observer_3585.csv.bz2\r\n",
      "-rw-r--r--  1 sbachmei IHME-Simulationscience 605M Mar 30 16:32 tax_w2_observer_5781.csv.bz2\r\n",
      "-rw-r--r--  1 sbachmei IHME-Simulationscience 610M Mar 30 16:32 tax_w2_observer_5812.csv.bz2\r\n",
      "-rw-r--r--  1 sbachmei IHME-Simulationscience 613M Mar 30 16:32 tax_w2_observer_3167.csv.bz2\r\n",
      "-rw-r--r--  1 sbachmei IHME-Simulationscience 609M Mar 30 16:32 tax_w2_observer_5594.csv.bz2\r\n",
      "-rw-r--r--  1 sbachmei IHME-Simulationscience 611M Mar 30 16:32 tax_w2_observer_9549.csv.bz2\r\n",
      "-rw-r--r--  1 sbachmei IHME-Simulationscience 603M Mar 30 16:32 tax_w2_observer_9653.csv.bz2\r\n",
      "-rw-r--r--  1 sbachmei IHME-Simulationscience 612M Mar 30 16:32 tax_w2_observer_5685.csv.bz2\r\n",
      "-rw-r--r--  1 sbachmei IHME-Simulationscience 608M Mar 30 16:32 tax_w2_observer_7927.csv.bz2\r\n",
      "-rw-r--r--  1 sbachmei IHME-Simulationscience 611M Mar 30 16:32 tax_w2_observer_7137.csv.bz2\r\n",
      "-rw-r--r--  1 sbachmei IHME-Simulationscience 605M Mar 30 16:32 tax_w2_observer_6007.csv.bz2\r\n",
      "-rw-r--r--  1 sbachmei IHME-Simulationscience 606M Mar 30 16:32 tax_w2_observer_6487.csv.bz2\r\n",
      "-rw-r--r--  1 sbachmei IHME-Simulationscience 607M Mar 30 16:32 tax_w2_observer_4528.csv.bz2\r\n",
      "-rw-r--r--  1 sbachmei IHME-Simulationscience 605M Mar 30 16:32 tax_w2_observer_6118.csv.bz2\r\n",
      "-rw-r--r--  1 sbachmei IHME-Simulationscience 614M Mar 30 16:32 tax_w2_observer_496.csv.bz2\r\n",
      "-rw-r--r--  1 sbachmei IHME-Simulationscience 603M Mar 30 16:32 tax_w2_observer_6982.csv.bz2\r\n",
      "-rw-r--r--  1 sbachmei IHME-Simulationscience 611M Mar 30 16:32 tax_w2_observer_9495.csv.bz2\r\n",
      "-rw-r--r--  1 sbachmei IHME-Simulationscience 616M Mar 30 16:32 tax_w2_observer_8129.csv.bz2\r\n",
      "-rw-r--r--  1 sbachmei IHME-Simulationscience 609M Mar 30 16:31 tax_w2_observer_6929.csv.bz2\r\n",
      "-rw-r--r--  1 sbachmei IHME-Simulationscience 604M Mar 30 16:31 tax_w2_observer_9577.csv.bz2\r\n",
      "-rw-r--r--  1 sbachmei IHME-Simulationscience 609M Mar 30 16:31 tax_w2_observer_6079.csv.bz2\r\n",
      "-rw-r--r--  1 sbachmei IHME-Simulationscience 615M Mar 30 16:31 tax_w2_observer_5875.csv.bz2\r\n",
      "-rw-r--r--  1 sbachmei IHME-Simulationscience 612M Mar 30 16:31 tax_w2_observer_5950.csv.bz2\r\n",
      "-rw-r--r--  1 sbachmei IHME-Simulationscience 601M Mar 30 16:31 tax_w2_observer_9024.csv.bz2\r\n",
      "-rw-r--r--  1 sbachmei IHME-Simulationscience 613M Mar 30 16:31 tax_w2_observer_8221.csv.bz2\r\n",
      "-rw-r--r--  1 sbachmei IHME-Simulationscience 603M Mar 30 16:31 tax_w2_observer_5892.csv.bz2\r\n",
      "-rw-r--r--  1 sbachmei IHME-Simulationscience 604M Mar 30 16:31 tax_w2_observer_8612.csv.bz2\r\n",
      "-rw-r--r--  1 sbachmei IHME-Simulationscience 601M Mar 30 16:31 tax_w2_observer_8509.csv.bz2\r\n",
      "-rw-r--r--  1 sbachmei IHME-Simulationscience 607M Mar 30 16:31 tax_w2_observer_860.csv.bz2\r\n",
      "-rw-r--r--  1 sbachmei IHME-Simulationscience 608M Mar 30 16:31 tax_w2_observer_6991.csv.bz2\r\n",
      "-rw-r--r--  1 sbachmei IHME-Simulationscience 598M Mar 30 16:31 tax_w2_observer_5969.csv.bz2\r\n",
      "-rw-r--r--  1 sbachmei IHME-Simulationscience 610M Mar 30 16:31 tax_w2_observer_9672.csv.bz2\r\n",
      "-rw-r--r--  1 sbachmei IHME-Simulationscience 607M Mar 30 16:31 tax_w2_observer_7016.csv.bz2\r\n",
      "-rw-r--r--  1 sbachmei IHME-Simulationscience 603M Mar 30 16:31 tax_w2_observer_4369.csv.bz2\r\n",
      "-rw-r--r--  1 sbachmei IHME-Simulationscience 603M Mar 30 16:31 tax_w2_observer_7054.csv.bz2\r\n",
      "-rw-r--r--  1 sbachmei IHME-Simulationscience 602M Mar 30 16:31 tax_w2_observer_9247.csv.bz2\r\n",
      "-rw-r--r--  1 sbachmei IHME-Simulationscience 611M Mar 30 16:31 tax_w2_observer_4496.csv.bz2\r\n",
      "-rw-r--r--  1 sbachmei IHME-Simulationscience 609M Mar 30 16:31 tax_w2_observer_8628.csv.bz2\r\n",
      "-rw-r--r--  1 sbachmei IHME-Simulationscience 608M Mar 30 16:31 tax_w2_observer_6090.csv.bz2\r\n",
      "-rw-r--r--  1 sbachmei IHME-Simulationscience 610M Mar 30 16:31 tax_w2_observer_9402.csv.bz2\r\n",
      "-rw-r--r--  1 sbachmei IHME-Simulationscience 605M Mar 30 16:31 tax_w2_observer_9588.csv.bz2\r\n",
      "-rw-r--r--  1 sbachmei IHME-Simulationscience 607M Mar 30 16:31 tax_w2_observer_7850.csv.bz2\r\n",
      "-rw-r--r--  1 sbachmei IHME-Simulationscience 593M Mar 30 16:31 tax_w2_observer_3202.csv.bz2\r\n",
      "-rw-r--r--  1 sbachmei IHME-Simulationscience 608M Mar 30 16:31 tax_w2_observer_6975.csv.bz2\r\n",
      "-rw-r--r--  1 sbachmei IHME-Simulationscience 607M Mar 30 16:31 tax_w2_observer_8360.csv.bz2\r\n",
      "-rw-r--r--  1 sbachmei IHME-Simulationscience 608M Mar 30 16:31 tax_w2_observer_5475.csv.bz2\r\n",
      "-rw-r--r--  1 sbachmei IHME-Simulationscience 615M Mar 30 16:31 tax_w2_observer_5949.csv.bz2\r\n",
      "-rw-r--r--  1 sbachmei IHME-Simulationscience 599M Mar 30 16:31 tax_w2_observer_5670.csv.bz2\r\n",
      "-rw-r--r--  1 sbachmei IHME-Simulationscience 615M Mar 30 16:31 tax_w2_observer_8134.csv.bz2\r\n",
      "-rw-r--r--  1 sbachmei IHME-Simulationscience 612M Mar 30 16:31 tax_w2_observer_9159.csv.bz2\r\n",
      "-rw-r--r--  1 sbachmei IHME-Simulationscience 606M Mar 30 16:31 tax_w2_observer_9643.csv.bz2\r\n",
      "-rw-r--r--  1 sbachmei IHME-Simulationscience 612M Mar 30 16:31 tax_w2_observer_315.csv.bz2\r\n",
      "-rw-r--r--  1 sbachmei IHME-Simulationscience 614M Mar 30 16:31 tax_w2_observer_7125.csv.bz2\r\n",
      "-rw-r--r--  1 sbachmei IHME-Simulationscience 612M Mar 30 16:31 tax_w2_observer_9187.csv.bz2\r\n",
      "-rw-r--r--  1 sbachmei IHME-Simulationscience 610M Mar 30 16:31 tax_w2_observer_7938.csv.bz2\r\n",
      "-rw-r--r--  1 sbachmei IHME-Simulationscience 608M Mar 30 16:31 tax_w2_observer_558.csv.bz2\r\n",
      "-rw-r--r--  1 sbachmei IHME-Simulationscience 610M Mar 30 16:31 tax_w2_observer_8156.csv.bz2\r\n",
      "-rw-r--r--  1 sbachmei IHME-Simulationscience 603M Mar 30 16:31 tax_w2_observer_5797.csv.bz2\r\n",
      "-rw-r--r--  1 sbachmei IHME-Simulationscience 611M Mar 30 16:31 tax_w2_observer_4400.csv.bz2\r\n",
      "-rw-r--r--  1 sbachmei IHME-Simulationscience 610M Mar 30 16:31 tax_w2_observer_2500.csv.bz2\r\n",
      "-rw-r--r--  1 sbachmei IHME-Simulationscience 614M Mar 30 16:31 tax_w2_observer_9526.csv.bz2\r\n",
      "-rw-r--r--  1 sbachmei IHME-Simulationscience 605M Mar 30 16:31 tax_w2_observer_3305.csv.bz2\r\n",
      "-rw-r--r--  1 sbachmei IHME-Simulationscience 612M Mar 30 16:31 tax_w2_observer_4507.csv.bz2\r\n",
      "-rw-r--r--  1 sbachmei IHME-Simulationscience 616M Mar 30 16:31 tax_w2_observer_7589.csv.bz2\r\n",
      "-rw-r--r--  1 sbachmei IHME-Simulationscience 614M Mar 30 16:31 tax_w2_observer_9244.csv.bz2\r\n",
      "-rw-r--r--  1 sbachmei IHME-Simulationscience 620M Mar 30 16:31 tax_w2_observer_28.csv.bz2\r\n",
      "-rw-r--r--  1 sbachmei IHME-Simulationscience 605M Mar 30 16:31 tax_w2_observer_3374.csv.bz2\r\n",
      "-rw-r--r--  1 sbachmei IHME-Simulationscience 603M Mar 30 16:31 tax_w2_observer_9696.csv.bz2\r\n",
      "-rw-r--r--  1 sbachmei IHME-Simulationscience 610M Mar 30 16:31 tax_w2_observer_2476.csv.bz2\r\n",
      "-rw-r--r--  1 sbachmei IHME-Simulationscience 602M Mar 30 16:31 tax_w2_observer_8133.csv.bz2\r\n",
      "-rw-r--r--  1 sbachmei IHME-Simulationscience 610M Mar 30 16:31 tax_w2_observer_3938.csv.bz2\r\n",
      "-rw-r--r--  1 sbachmei IHME-Simulationscience 611M Mar 30 16:31 tax_w2_observer_93.csv.bz2\r\n",
      "-rw-r--r--  1 sbachmei IHME-Simulationscience 611M Mar 30 16:31 tax_w2_observer_7594.csv.bz2\r\n",
      "-rw-r--r--  1 sbachmei IHME-Simulationscience 607M Mar 30 16:31 tax_w2_observer_5628.csv.bz2\r\n",
      "-rw-r--r--  1 sbachmei IHME-Simulationscience 609M Mar 30 16:31 tax_w2_observer_6324.csv.bz2\r\n",
      "-rw-r--r--  1 sbachmei IHME-Simulationscience 606M Mar 30 16:31 tax_w2_observer_3776.csv.bz2\r\n",
      "-rw-r--r--  1 sbachmei IHME-Simulationscience 608M Mar 30 16:31 tax_w2_observer_781.csv.bz2\r\n",
      "-rw-r--r--  1 sbachmei IHME-Simulationscience 610M Mar 30 16:31 tax_w2_observer_9859.csv.bz2\r\n",
      "-rw-r--r--  1 sbachmei IHME-Simulationscience 614M Mar 30 16:31 tax_w2_observer_2700.csv.bz2\r\n",
      "drwxrwsr-x  2 sbachmei IHME-Simulationscience 167K Mar 30 16:31 .\r\n",
      "-rw-r--r--  1 sbachmei IHME-Simulationscience 595M Mar 30 16:31 tax_w2_observer_3789.csv.bz2\r\n",
      "-rw-r--r--  1 sbachmei IHME-Simulationscience 610M Mar 30 16:31 tax_w2_observer_7817.csv.bz2\r\n",
      "-rw-r--r--  1 sbachmei IHME-Simulationscience 604M Mar 30 16:31 tax_w2_observer_8425.csv.bz2\r\n",
      "-rw-r--r--  1 sbachmei IHME-Simulationscience 603M Mar 30 16:31 tax_w2_observer_9847.csv.bz2\r\n",
      "-rw-r--r--  1 sbachmei IHME-Simulationscience 614M Mar 30 16:31 tax_w2_observer_8997.csv.bz2\r\n",
      "-rw-r--r--  1 sbachmei IHME-Simulationscience 609M Mar 30 16:31 tax_w2_observer_3326.csv.bz2\r\n",
      "-rw-r--r--  1 sbachmei IHME-Simulationscience 605M Mar 30 16:31 tax_w2_observer_2477.csv.bz2\r\n",
      "-rw-r--r--  1 sbachmei IHME-Simulationscience 606M Mar 30 16:31 tax_w2_observer_8869.csv.bz2\r\n",
      "-rw-r--r--  1 sbachmei IHME-Simulationscience 607M Mar 30 16:31 tax_w2_observer_3304.csv.bz2\r\n",
      "-rw-r--r--  1 sbachmei IHME-Simulationscience 606M Mar 30 16:31 tax_w2_observer_9066.csv.bz2\r\n",
      "-rw-r--r--  1 sbachmei IHME-Simulationscience 600M Mar 30 16:31 tax_w2_observer_9272.csv.bz2\r\n",
      "-rw-r--r--  1 sbachmei IHME-Simulationscience 612M Mar 30 16:31 tax_w2_observer_9723.csv.bz2\r\n",
      "-rw-r--r--  1 sbachmei IHME-Simulationscience 609M Mar 30 16:31 tax_w2_observer_3731.csv.bz2\r\n",
      "-rw-r--r--  1 sbachmei IHME-Simulationscience 602M Mar 30 16:31 tax_w2_observer_8516.csv.bz2\r\n",
      "-rw-r--r--  1 sbachmei IHME-Simulationscience 609M Mar 30 16:31 tax_w2_observer_3357.csv.bz2\r\n",
      "-rw-r--r--  1 sbachmei IHME-Simulationscience 606M Mar 30 16:31 tax_w2_observer_778.csv.bz2\r\n",
      "-rw-r--r--  1 sbachmei IHME-Simulationscience 614M Mar 30 16:31 tax_w2_observer_974.csv.bz2\r\n",
      "-rw-r--r--  1 sbachmei IHME-Simulationscience 608M Mar 30 16:31 tax_w2_observer_3377.csv.bz2\r\n",
      "-rw-r--r--  1 sbachmei IHME-Simulationscience 610M Mar 30 16:31 tax_w2_observer_7870.csv.bz2\r\n",
      "-rw-r--r--  1 sbachmei IHME-Simulationscience 608M Mar 30 16:31 tax_w2_observer_9776.csv.bz2\r\n",
      "-rw-r--r--  1 sbachmei IHME-Simulationscience 602M Mar 30 16:31 tax_w2_observer_3825.csv.bz2\r\n",
      "-rw-r--r--  1 sbachmei IHME-Simulationscience 609M Mar 30 16:31 tax_w2_observer_3380.csv.bz2\r\n",
      "-rw-r--r--  1 sbachmei IHME-Simulationscience 598M Mar 30 16:31 tax_w2_observer_2599.csv.bz2\r\n",
      "-rw-r--r--  1 sbachmei IHME-Simulationscience 609M Mar 30 16:31 tax_w2_observer_338.csv.bz2\r\n",
      "-rw-r--r--  1 sbachmei IHME-Simulationscience 610M Mar 30 16:31 tax_w2_observer_9804.csv.bz2\r\n",
      "-rw-r--r--  1 sbachmei IHME-Simulationscience 605M Mar 30 16:31 tax_w2_observer_8838.csv.bz2\r\n",
      "-rw-r--r--  1 sbachmei IHME-Simulationscience 609M Mar 30 16:31 tax_w2_observer_8641.csv.bz2\r\n",
      "-rw-r--r--  1 sbachmei IHME-Simulationscience 603M Mar 30 16:31 tax_w2_observer_9768.csv.bz2\r\n",
      "-rw-r--r--  1 sbachmei IHME-Simulationscience 604M Mar 30 16:31 tax_w2_observer_386.csv.bz2\r\n",
      "-rw-r--r--  1 sbachmei IHME-Simulationscience 590M Mar 30 16:31 tax_w2_observer_8817.csv.bz2\r\n",
      "-rw-r--r--  1 sbachmei IHME-Simulationscience 613M Mar 30 16:31 tax_w2_observer_9225.csv.bz2\r\n",
      "-rw-r--r--  1 sbachmei IHME-Simulationscience 615M Mar 30 16:30 tax_w2_observer_9284.csv.bz2\r\n",
      "-rw-r--r--  1 sbachmei IHME-Simulationscience 611M Mar 30 16:30 tax_w2_observer_8877.csv.bz2\r\n",
      "-rw-r--r--  1 sbachmei IHME-Simulationscience 605M Mar 30 16:30 tax_w2_observer_8501.csv.bz2\r\n",
      "-rw-r--r--  1 sbachmei IHME-Simulationscience 614M Mar 30 16:30 tax_w2_observer_8734.csv.bz2\r\n",
      "-rw-r--r--  1 sbachmei IHME-Simulationscience 614M Mar 30 16:30 tax_w2_observer_734.csv.bz2\r\n",
      "-rw-r--r--  1 sbachmei IHME-Simulationscience 607M Mar 30 16:30 tax_w2_observer_9840.csv.bz2\r\n",
      "-rw-r--r--  1 sbachmei IHME-Simulationscience 611M Mar 30 16:30 tax_w2_observer_3390.csv.bz2\r\n",
      "-rw-r--r--  1 sbachmei IHME-Simulationscience 603M Mar 30 16:30 tax_w2_observer_7653.csv.bz2\r\n",
      "-rw-r--r--  1 sbachmei IHME-Simulationscience 599M Mar 30 16:30 tax_w2_observer_278.csv.bz2\r\n",
      "-rw-r--r--  1 sbachmei IHME-Simulationscience 599M Mar 30 16:30 tax_w2_observer_7344.csv.bz2\r\n",
      "-rw-r--r--  1 sbachmei IHME-Simulationscience 613M Mar 30 16:30 tax_w2_observer_7384.csv.bz2\r\n",
      "-rw-r--r--  1 sbachmei IHME-Simulationscience 608M Mar 30 16:30 tax_w2_observer_8980.csv.bz2\r\n",
      "-rw-r--r--  1 sbachmei IHME-Simulationscience 612M Mar 30 16:30 tax_w2_observer_2689.csv.bz2\r\n",
      "-rw-r--r--  1 sbachmei IHME-Simulationscience 612M Mar 30 16:30 tax_w2_observer_7745.csv.bz2\r\n",
      "-rw-r--r--  1 sbachmei IHME-Simulationscience 608M Mar 30 16:30 tax_w2_observer_7342.csv.bz2\r\n",
      "-rw-r--r--  1 sbachmei IHME-Simulationscience 603M Mar 30 16:30 tax_w2_observer_3454.csv.bz2\r\n",
      "-rw-r--r--  1 sbachmei IHME-Simulationscience 607M Mar 30 16:30 tax_w2_observer_7107.csv.bz2\r\n",
      "-rw-r--r--  1 sbachmei IHME-Simulationscience 618M Mar 30 16:30 tax_w2_observer_9740.csv.bz2\r\n",
      "-rw-r--r--  1 sbachmei IHME-Simulationscience 603M Mar 30 16:30 tax_w2_observer_3793.csv.bz2\r\n",
      "-rw-r--r--  1 sbachmei IHME-Simulationscience 611M Mar 30 16:30 tax_w2_observer_771.csv.bz2\r\n",
      "-rw-r--r--  1 sbachmei IHME-Simulationscience 614M Mar 30 16:30 tax_w2_observer_8755.csv.bz2\r\n",
      "-rw-r--r--  1 sbachmei IHME-Simulationscience 612M Mar 30 16:30 tax_w2_observer_8527.csv.bz2\r\n",
      "-rw-r--r--  1 sbachmei IHME-Simulationscience 604M Mar 30 16:30 tax_w2_observer_6817.csv.bz2\r\n",
      "-rw-r--r--  1 sbachmei IHME-Simulationscience 611M Mar 30 16:30 tax_w2_observer_7511.csv.bz2\r\n",
      "-rw-r--r--  1 sbachmei IHME-Simulationscience 610M Mar 30 16:30 tax_w2_observer_7530.csv.bz2\r\n",
      "-rw-r--r--  1 sbachmei IHME-Simulationscience 614M Mar 30 16:30 tax_w2_observer_6800.csv.bz2\r\n",
      "-rw-r--r--  1 sbachmei IHME-Simulationscience 603M Mar 30 16:30 tax_w2_observer_7359.csv.bz2\r\n",
      "-rw-r--r--  1 sbachmei IHME-Simulationscience 605M Mar 30 16:30 tax_w2_observer_7438.csv.bz2\r\n",
      "-rw-r--r--  1 sbachmei IHME-Simulationscience 611M Mar 30 16:30 tax_w2_observer_2721.csv.bz2\r\n",
      "-rw-r--r--  1 sbachmei IHME-Simulationscience 613M Mar 30 16:30 tax_w2_observer_3947.csv.bz2\r\n",
      "-rw-r--r--  1 sbachmei IHME-Simulationscience 618M Mar 30 16:30 tax_w2_observer_6874.csv.bz2\r\n",
      "-rw-r--r--  1 sbachmei IHME-Simulationscience 608M Mar 30 16:30 tax_w2_observer_7645.csv.bz2\r\n",
      "-rw-r--r--  1 sbachmei IHME-Simulationscience 614M Mar 30 16:30 tax_w2_observer_2808.csv.bz2\r\n",
      "-rw-r--r--  1 sbachmei IHME-Simulationscience 611M Mar 30 16:30 tax_w2_observer_6810.csv.bz2\r\n",
      "-rw-r--r--  1 sbachmei IHME-Simulationscience 618M Mar 30 16:30 tax_w2_observer_9772.csv.bz2\r\n",
      "-rw-r--r--  1 sbachmei IHME-Simulationscience 613M Mar 30 16:30 tax_w2_observer_3066.csv.bz2\r\n",
      "-rw-r--r--  1 sbachmei IHME-Simulationscience 610M Mar 30 16:30 tax_w2_observer_6793.csv.bz2\r\n",
      "-rw-r--r--  1 sbachmei IHME-Simulationscience 611M Mar 30 16:30 tax_w2_observer_682.csv.bz2\r\n",
      "-rw-r--r--  1 sbachmei IHME-Simulationscience 611M Mar 30 16:30 tax_w2_observer_2787.csv.bz2\r\n",
      "-rw-r--r--  1 sbachmei IHME-Simulationscience 615M Mar 30 16:29 tax_w2_observer_2461.csv.bz2\r\n",
      "-rw-r--r--  1 sbachmei IHME-Simulationscience 616M Mar 30 16:29 tax_w2_observer_2863.csv.bz2\r\n",
      "-rw-r--r--  1 sbachmei IHME-Simulationscience 607M Mar 30 16:29 tax_w2_observer_2965.csv.bz2\r\n",
      "-rw-r--r--  1 sbachmei IHME-Simulationscience 610M Mar 30 16:29 tax_w2_observer_9888.csv.bz2\r\n",
      "-rw-r--r--  1 sbachmei IHME-Simulationscience 612M Mar 30 16:29 tax_w2_observer_2989.csv.bz2\r\n",
      "-rw-r--r--  1 sbachmei IHME-Simulationscience 600M Mar 30 16:29 tax_w2_observer_2298.csv.bz2\r\n",
      "-rw-r--r--  1 sbachmei IHME-Simulationscience 611M Mar 30 16:29 tax_w2_observer_9872.csv.bz2\r\n",
      "-rw-r--r--  1 sbachmei IHME-Simulationscience 604M Mar 30 16:29 tax_w2_observer_2284.csv.bz2\r\n",
      "-rw-r--r--  1 sbachmei IHME-Simulationscience 602M Mar 30 16:29 tax_w2_observer_9871.csv.bz2\r\n",
      "-rw-r--r--  1 sbachmei IHME-Simulationscience 606M Mar 30 16:29 tax_w2_observer_9971.csv.bz2\r\n",
      "-rw-r--r--  1 sbachmei IHME-Simulationscience 605M Mar 30 16:29 tax_w2_observer_9901.csv.bz2\r\n",
      "-rw-r--r--  1 sbachmei IHME-Simulationscience 612M Mar 30 16:29 tax_w2_observer_99.csv.bz2\r\n",
      "-rw-r--r--  1 sbachmei IHME-Simulationscience 610M Mar 30 16:29 tax_w2_observer_3684.csv.bz2\r\n",
      "-rw-r--r--  1 sbachmei IHME-Simulationscience 597M Mar 30 16:29 tax_w2_observer_3713.csv.bz2\r\n",
      "-rw-r--r--  1 sbachmei IHME-Simulationscience 604M Mar 30 16:29 tax_w2_observer_2054.csv.bz2\r\n",
      "-rw-r--r--  1 sbachmei IHME-Simulationscience 607M Mar 30 16:29 tax_w2_observer_2047.csv.bz2\r\n",
      "-rw-r--r--  1 sbachmei IHME-Simulationscience 615M Mar 30 16:29 tax_w2_observer_4622.csv.bz2\r\n",
      "-rw-r--r--  1 sbachmei IHME-Simulationscience 608M Mar 30 16:29 tax_w2_observer_9911.csv.bz2\r\n",
      "-rw-r--r--  1 sbachmei IHME-Simulationscience 595M Mar 30 16:29 tax_w2_observer_5246.csv.bz2\r\n",
      "-rw-r--r--  1 sbachmei IHME-Simulationscience 616M Mar 30 16:29 tax_w2_observer_5159.csv.bz2\r\n",
      "-rw-r--r--  1 sbachmei IHME-Simulationscience 606M Mar 30 16:29 tax_w2_observer_3723.csv.bz2\r\n",
      "-rw-r--r--  1 sbachmei IHME-Simulationscience 612M Mar 30 16:29 tax_w2_observer_5072.csv.bz2\r\n",
      "-rw-r--r--  1 sbachmei IHME-Simulationscience 613M Mar 30 16:29 tax_w2_observer_7303.csv.bz2\r\n",
      "-rw-r--r--  1 sbachmei IHME-Simulationscience 613M Mar 30 16:29 tax_w2_observer_4649.csv.bz2\r\n",
      "-rw-r--r--  1 sbachmei IHME-Simulationscience 606M Mar 30 16:29 tax_w2_observer_6701.csv.bz2\r\n",
      "-rw-r--r--  1 sbachmei IHME-Simulationscience 599M Mar 30 16:29 tax_w2_observer_6760.csv.bz2\r\n",
      "-rw-r--r--  1 sbachmei IHME-Simulationscience 612M Mar 30 16:29 tax_w2_observer_7292.csv.bz2\r\n",
      "-rw-r--r--  1 sbachmei IHME-Simulationscience 613M Mar 30 16:29 tax_w2_observer_6751.csv.bz2\r\n",
      "-rw-r--r--  1 sbachmei IHME-Simulationscience 613M Mar 30 16:29 tax_w2_observer_5150.csv.bz2\r\n",
      "-rw-r--r--  1 sbachmei IHME-Simulationscience 615M Mar 30 16:29 tax_w2_observer_3725.csv.bz2\r\n",
      "-rw-r--r--  1 sbachmei IHME-Simulationscience 611M Mar 30 16:29 tax_w2_observer_5188.csv.bz2\r\n",
      "-rw-r--r--  1 sbachmei IHME-Simulationscience 597M Mar 30 16:29 tax_w2_observer_7179.csv.bz2\r\n",
      "-rw-r--r--  1 sbachmei IHME-Simulationscience 613M Mar 30 16:29 tax_w2_observer_5114.csv.bz2\r\n",
      "-rw-r--r--  1 sbachmei IHME-Simulationscience 604M Mar 30 16:28 tax_w2_observer_7275.csv.bz2\r\n",
      "-rw-r--r--  1 sbachmei IHME-Simulationscience 613M Mar 30 16:28 tax_w2_observer_465.csv.bz2\r\n",
      "-rw-r--r--  1 sbachmei IHME-Simulationscience 606M Mar 30 16:28 tax_w2_observer_6606.csv.bz2\r\n",
      "-rw-r--r--  1 sbachmei IHME-Simulationscience 612M Mar 30 16:28 tax_w2_observer_4637.csv.bz2\r\n",
      "-rw-r--r--  1 sbachmei IHME-Simulationscience 611M Mar 30 16:28 tax_w2_observer_7264.csv.bz2\r\n",
      "-rw-r--r--  1 sbachmei IHME-Simulationscience 615M Mar 30 16:28 tax_w2_observer_3621.csv.bz2\r\n",
      "-rw-r--r--  1 sbachmei IHME-Simulationscience 604M Mar 30 16:28 tax_w2_observer_3624.csv.bz2\r\n",
      "-rw-r--r--  1 sbachmei IHME-Simulationscience 603M Mar 30 16:28 tax_w2_observer_7164.csv.bz2\r\n",
      "-rw-r--r--  1 sbachmei IHME-Simulationscience 605M Mar 30 16:28 tax_w2_observer_3632.csv.bz2\r\n",
      "-rw-r--r--  1 sbachmei IHME-Simulationscience 607M Mar 30 16:28 tax_w2_observer_1091.csv.bz2\r\n",
      "-rw-r--r--  1 sbachmei IHME-Simulationscience 610M Mar 30 16:28 tax_w2_observer_6654.csv.bz2\r\n",
      "-rw-r--r--  1 sbachmei IHME-Simulationscience 609M Mar 30 16:28 tax_w2_observer_1154.csv.bz2\r\n",
      "-rw-r--r--  1 sbachmei IHME-Simulationscience 611M Mar 30 16:28 tax_w2_observer_4192.csv.bz2\r\n",
      "-rw-r--r--  1 sbachmei IHME-Simulationscience 613M Mar 30 16:28 tax_w2_observer_4203.csv.bz2\r\n",
      "-rw-r--r--  1 sbachmei IHME-Simulationscience 604M Mar 30 16:28 tax_w2_observer_5300.csv.bz2\r\n",
      "-rw-r--r--  1 sbachmei IHME-Simulationscience 615M Mar 30 16:28 tax_w2_observer_539.csv.bz2\r\n",
      "-rw-r--r--  1 sbachmei IHME-Simulationscience 610M Mar 30 16:28 tax_w2_observer_4255.csv.bz2\r\n",
      "-rw-r--r--  1 sbachmei IHME-Simulationscience 606M Mar 30 16:28 tax_w2_observer_4202.csv.bz2\r\n",
      "-rw-r--r--  1 sbachmei IHME-Simulationscience 604M Mar 30 16:28 tax_w2_observer_5348.csv.bz2\r\n",
      "-rw-r--r--  1 sbachmei IHME-Simulationscience 602M Mar 30 16:28 tax_w2_observer_5308.csv.bz2\r\n",
      "-rw-r--r--  1 sbachmei IHME-Simulationscience 610M Mar 30 16:28 tax_w2_observer_1177.csv.bz2\r\n",
      "-rw-r--r--  1 sbachmei IHME-Simulationscience 616M Mar 30 16:28 tax_w2_observer_2311.csv.bz2\r\n",
      "-rw-r--r--  1 sbachmei IHME-Simulationscience 613M Mar 30 16:28 tax_w2_observer_1200.csv.bz2\r\n",
      "-rw-r--r--  1 sbachmei IHME-Simulationscience 609M Mar 30 16:28 tax_w2_observer_6539.csv.bz2\r\n",
      "-rw-r--r--  1 sbachmei IHME-Simulationscience 608M Mar 30 16:27 tax_w2_observer_6545.csv.bz2\r\n",
      "-rw-r--r--  1 sbachmei IHME-Simulationscience 608M Mar 30 16:27 tax_w2_observer_2405.csv.bz2\r\n",
      "-rw-r--r--  1 sbachmei IHME-Simulationscience 608M Mar 30 16:27 tax_w2_observer_4260.csv.bz2\r\n",
      "-rw-r--r--  1 sbachmei IHME-Simulationscience 600M Mar 30 16:27 tax_w2_observer_1232.csv.bz2\r\n",
      "-rw-r--r--  1 sbachmei IHME-Simulationscience 610M Mar 30 16:27 tax_w2_observer_1219.csv.bz2\r\n",
      "-rw-r--r--  1 sbachmei IHME-Simulationscience 609M Mar 30 16:27 tax_w2_observer_1235.csv.bz2\r\n",
      "-rw-r--r--  1 sbachmei IHME-Simulationscience 601M Mar 30 16:26 tax_w2_observer_4672.csv.bz2\r\n",
      "-rw-r--r--  1 sbachmei IHME-Simulationscience 599M Mar 30 16:26 tax_w2_observer_4743.csv.bz2\r\n",
      "-rw-r--r--  1 sbachmei IHME-Simulationscience 606M Mar 30 16:26 tax_w2_observer_4802.csv.bz2\r\n",
      "-rw-r--r--  1 sbachmei IHME-Simulationscience 601M Mar 30 16:26 tax_w2_observer_478.csv.bz2\r\n",
      "-rw-r--r--  1 sbachmei IHME-Simulationscience 613M Mar 30 16:26 tax_w2_observer_4904.csv.bz2\r\n",
      "-rw-r--r--  1 sbachmei IHME-Simulationscience 600M Mar 30 16:26 tax_w2_observer_656.csv.bz2\r\n",
      "-rw-r--r--  1 sbachmei IHME-Simulationscience 605M Mar 30 16:26 tax_w2_observer_6554.csv.bz2\r\n",
      "-rw-r--r--  1 sbachmei IHME-Simulationscience 605M Mar 30 16:26 tax_w2_observer_107.csv.bz2\r\n",
      "-rw-r--r--  1 sbachmei IHME-Simulationscience 604M Mar 30 16:26 tax_w2_observer_2416.csv.bz2\r\n",
      "-rw-r--r--  1 sbachmei IHME-Simulationscience 608M Mar 30 16:26 tax_w2_observer_1074.csv.bz2\r\n",
      "-rw-r--r--  1 sbachmei IHME-Simulationscience 617M Mar 30 16:26 tax_w2_observer_2448.csv.bz2\r\n",
      "-rw-r--r--  1 sbachmei IHME-Simulationscience 613M Mar 30 16:25 tax_w2_observer_6776.csv.bz2\r\n",
      "-rw-r--r--  1 sbachmei IHME-Simulationscience 615M Mar 30 16:24 tax_w2_observer_6778.csv.bz2\r\n",
      "-rw-r--r--  1 sbachmei IHME-Simulationscience 600M Mar 30 16:23 tax_w2_observer_6790.csv.bz2\r\n",
      "-rw-r--r--  1 sbachmei IHME-Simulationscience 605M Mar 30 16:23 tax_w2_observer_1508.csv.bz2\r\n",
      "-rw-r--r--  1 sbachmei IHME-Simulationscience 609M Mar 30 16:23 tax_w2_observer_103.csv.bz2\r\n",
      "-rw-r--r--  1 sbachmei IHME-Simulationscience 610M Mar 30 16:23 tax_w2_observer_1069.csv.bz2\r\n",
      "-rw-r--r--  1 sbachmei IHME-Simulationscience 609M Mar 30 16:23 tax_w2_observer_1061.csv.bz2\r\n",
      "drwxrwsr-x 11 sbachmei IHME-Simulationscience 4.5K Mar 30 16:21 ..\r\n",
      "-rw-r--r--  1 sbachmei IHME-Simulationscience 606M Mar 30 16:20 tax_w2_observer_1490.csv.bz2\r\n",
      "-rw-r--r--  1 sbachmei IHME-Simulationscience 612M Mar 30 16:20 tax_w2_observer_1534.csv.bz2\r\n",
      "-rw-r--r--  1 sbachmei IHME-Simulationscience 613M Mar 30 16:20 tax_w2_observer_1609.csv.bz2\r\n",
      "-rw-r--r--  1 sbachmei IHME-Simulationscience 614M Mar 30 16:20 tax_w2_observer_1614.csv.bz2\r\n",
      "-rw-r--r--  1 sbachmei IHME-Simulationscience 613M Mar 30 16:20 tax_w2_observer_1562.csv.bz2\r\n",
      "-rw-r--r--  1 sbachmei IHME-Simulationscience 605M Mar 30 16:19 tax_w2_observer_1597.csv.bz2\r\n",
      "-rw-r--r--  1 sbachmei IHME-Simulationscience 609M Mar 30 16:19 tax_w2_observer_1648.csv.bz2\r\n",
      "-rw-r--r--  1 sbachmei IHME-Simulationscience 616M Mar 30 16:19 tax_w2_observer_1632.csv.bz2\r\n",
      "-rw-r--r--  1 sbachmei IHME-Simulationscience 610M Mar 30 16:19 tax_w2_observer_1559.csv.bz2\r\n",
      "-rw-r--r--  1 sbachmei IHME-Simulationscience 608M Mar 30 16:17 tax_w2_observer_1832.csv.bz2\r\n",
      "-rw-r--r--  1 sbachmei IHME-Simulationscience 606M Mar 30 16:17 tax_w2_observer_1655.csv.bz2\r\n",
      "-rw-r--r--  1 sbachmei IHME-Simulationscience 613M Mar 30 16:17 tax_w2_observer_1990.csv.bz2\r\n",
      "-rw-r--r--  1 sbachmei IHME-Simulationscience 615M Mar 30 16:17 tax_w2_observer_1897.csv.bz2\r\n",
      "-rw-r--r--  1 sbachmei IHME-Simulationscience 611M Mar 30 16:17 tax_w2_observer_1935.csv.bz2\r\n",
      "-rw-r--r--  1 sbachmei IHME-Simulationscience 607M Mar 30 16:17 tax_w2_observer_1917.csv.bz2\r\n",
      "-rw-r--r--  1 sbachmei IHME-Simulationscience 610M Mar 30 16:17 tax_w2_observer_1777.csv.bz2\r\n",
      "-rw-r--r--  1 sbachmei IHME-Simulationscience 613M Mar 30 16:17 tax_w2_observer_1753.csv.bz2\r\n",
      "-rw-r--r--  1 sbachmei IHME-Simulationscience 606M Mar 30 16:17 tax_w2_observer_1933.csv.bz2\r\n",
      "-rw-r--r--  1 sbachmei IHME-Simulationscience 610M Mar 30 16:17 tax_w2_observer_1667.csv.bz2\r\n"
     ]
    }
   ],
   "source": [
    "!ls -halt $output_dir/tax_w2_observer"
   ]
  },
  {
   "cell_type": "markdown",
   "id": "d41e8547",
   "metadata": {},
   "source": [
    "# Load keyspace.yaml to get a list of keys so we can choose a few"
   ]
  },
  {
   "cell_type": "code",
   "execution_count": 8,
   "id": "8638b0db",
   "metadata": {},
   "outputs": [
    {
     "name": "stdout",
     "output_type": "stream",
     "text": [
      "branches.yaml  logs\t\t\t __pycache__\t   settings.py\r\n",
      "final_results  model_specification.yaml  raw_results\r\n",
      "keyspace.yaml  output.hdf\t\t requirements.txt\r\n"
     ]
    }
   ],
   "source": [
    "!ls $project_output_dir/results/full_scale_334mil/united_states_of_america/2023_03_30_10_23_13"
   ]
  },
  {
   "cell_type": "code",
   "execution_count": 16,
   "id": "83507eeb",
   "metadata": {},
   "outputs": [
    {
     "name": "stdout",
     "output_type": "stream",
     "text": [
      "<class 'dict'>\n"
     ]
    },
    {
     "data": {
      "text/plain": [
       "dict_keys(['input_draw', 'placeholder_branch_name.scenario', 'random_seed'])"
      ]
     },
     "execution_count": 16,
     "metadata": {},
     "output_type": "execute_result"
    }
   ],
   "source": [
    "keyspace_path = (\n",
    "    f'{project_output_dir}/results'\n",
    "    '/full_scale_334mil/united_states_of_america/2023_03_30_10_23_13'\n",
    "    '/keyspace.yaml'\n",
    ")\n",
    "with open(keyspace_path) as stream:\n",
    "    keyspace = yaml.safe_load(stream)\n",
    "    \n",
    "print(type(keyspace))\n",
    "keyspace.keys()"
   ]
  },
  {
   "cell_type": "code",
   "execution_count": 20,
   "id": "376530cf",
   "metadata": {},
   "outputs": [
    {
     "name": "stdout",
     "output_type": "stream",
     "text": [
      "Number of seeds: 334\n"
     ]
    },
    {
     "data": {
      "text/plain": [
       "[4344, 5616, 6810, 2787, 2284]"
      ]
     },
     "execution_count": 20,
     "metadata": {},
     "output_type": "execute_result"
    }
   ],
   "source": [
    "print(\"Number of seeds:\", len(keyspace['random_seed']))\n",
    "keyspace['random_seed'][:5]"
   ]
  },
  {
   "cell_type": "code",
   "execution_count": 23,
   "id": "3580db80",
   "metadata": {},
   "outputs": [
    {
     "data": {
      "text/plain": [
       "[2284, 4369, 3254]"
      ]
     },
     "execution_count": 23,
     "metadata": {},
     "output_type": "execute_result"
    }
   ],
   "source": [
    "# Choose 3 seeds from some starting position i\n",
    "i = 4\n",
    "seeds = keyspace['random_seed'][i:i+3]\n",
    "seeds"
   ]
  },
  {
   "cell_type": "code",
   "execution_count": 25,
   "id": "ee7be98c",
   "metadata": {},
   "outputs": [
    {
     "data": {
      "text/plain": [
       "(28, 9971)"
      ]
     },
     "execution_count": 25,
     "metadata": {},
     "output_type": "execute_result"
    }
   ],
   "source": [
    "min(keyspace['random_seed']), max(keyspace['random_seed'])"
   ]
  },
  {
   "cell_type": "code",
   "execution_count": 28,
   "id": "275787c3",
   "metadata": {},
   "outputs": [
    {
     "data": {
      "text/plain": [
       "1.3010299956639813"
      ]
     },
     "execution_count": 28,
     "metadata": {},
     "output_type": "execute_result"
    }
   ],
   "source": [
    "np.log10(20)"
   ]
  },
  {
   "cell_type": "code",
   "execution_count": 56,
   "id": "69c1943c",
   "metadata": {},
   "outputs": [
    {
     "data": {
      "text/plain": [
       "1.0"
      ]
     },
     "execution_count": 56,
     "metadata": {},
     "output_type": "execute_result"
    }
   ],
   "source": [
    "np.log10(10)"
   ]
  },
  {
   "cell_type": "code",
   "execution_count": 33,
   "id": "324b3c90",
   "metadata": {},
   "outputs": [
    {
     "data": {
      "text/plain": [
       "3.9987387162558177"
      ]
     },
     "execution_count": 33,
     "metadata": {},
     "output_type": "execute_result"
    }
   ],
   "source": [
    "np.log10(9971)"
   ]
  },
  {
   "cell_type": "code",
   "execution_count": 57,
   "id": "755b59b1",
   "metadata": {},
   "outputs": [
    {
     "data": {
      "text/plain": [
       "3.0"
      ]
     },
     "execution_count": 57,
     "metadata": {},
     "output_type": "execute_result"
    }
   ],
   "source": [
    "np.log10(1_000)"
   ]
  },
  {
   "cell_type": "code",
   "execution_count": 58,
   "id": "c89b4d1b",
   "metadata": {},
   "outputs": [
    {
     "data": {
      "text/plain": [
       "3.9999565683801928"
      ]
     },
     "execution_count": 58,
     "metadata": {},
     "output_type": "execute_result"
    }
   ],
   "source": [
    "np.log10(9_999)"
   ]
  },
  {
   "cell_type": "code",
   "execution_count": 59,
   "id": "24601982",
   "metadata": {},
   "outputs": [
    {
     "data": {
      "text/plain": [
       "4.0    303\n",
       "3.0     27\n",
       "2.0      4\n",
       "dtype: int64"
      ]
     },
     "execution_count": 59,
     "metadata": {},
     "output_type": "execute_result"
    }
   ],
   "source": [
    "seed_lengths = pd.Series(1+np.floor(np.log10(seed)) for seed in keyspace['random_seed'])\n",
    "seed_lengths.value_counts()"
   ]
  },
  {
   "cell_type": "markdown",
   "id": "76337be0",
   "metadata": {},
   "source": [
    "# Do some runtime, storage, and memory usage calculations"
   ]
  },
  {
   "cell_type": "code",
   "execution_count": 35,
   "id": "f05bb6db",
   "metadata": {},
   "outputs": [
    {
     "data": {
      "text/plain": [
       "78.12"
      ]
     },
     "execution_count": 35,
     "metadata": {},
     "output_type": "execute_result"
    }
   ],
   "source": [
    "4.34*18"
   ]
  },
  {
   "cell_type": "code",
   "execution_count": 38,
   "id": "8f5116a9",
   "metadata": {},
   "outputs": [
    {
     "data": {
      "text/plain": [
       "14388550.072908401"
      ]
     },
     "execution_count": 38,
     "metadata": {},
     "output_type": "execute_result"
    }
   ],
   "source": [
    "15449588*1e9/2**30"
   ]
  },
  {
   "cell_type": "code",
   "execution_count": 37,
   "id": "1a3d0cc3",
   "metadata": {},
   "outputs": [
    {
     "data": {
      "text/plain": [
       "0.625"
      ]
     },
     "execution_count": 37,
     "metadata": {},
     "output_type": "execute_result"
    }
   ],
   "source": [
    "15/24"
   ]
  },
  {
   "cell_type": "code",
   "execution_count": 39,
   "id": "644bd907",
   "metadata": {},
   "outputs": [
    {
     "data": {
      "text/plain": [
       "283.3333333333333"
      ]
     },
     "execution_count": 39,
     "metadata": {},
     "output_type": "execute_result"
    }
   ],
   "source": [
    "15*340/18"
   ]
  },
  {
   "cell_type": "code",
   "execution_count": 40,
   "id": "673f43aa",
   "metadata": {},
   "outputs": [
    {
     "data": {
      "text/plain": [
       "281.25"
      ]
     },
     "execution_count": 40,
     "metadata": {},
     "output_type": "execute_result"
    }
   ],
   "source": [
    ".625*450"
   ]
  },
  {
   "cell_type": "code",
   "execution_count": 41,
   "id": "d112c7e9",
   "metadata": {},
   "outputs": [
    {
     "data": {
      "text/plain": [
       "727728.9871599999"
      ]
     },
     "execution_count": 41,
     "metadata": {},
     "output_type": "execute_result"
    }
   ],
   "source": [
    "38526.828731999994*340/18"
   ]
  },
  {
   "cell_type": "code",
   "execution_count": 43,
   "id": "010b8b34",
   "metadata": {},
   "outputs": [
    {
     "data": {
      "text/plain": [
       "6.3"
      ]
     },
     "execution_count": 43,
     "metadata": {},
     "output_type": "execute_result"
    }
   ],
   "source": [
    "350*18/1000"
   ]
  },
  {
   "cell_type": "code",
   "execution_count": 44,
   "id": "83c4dde2",
   "metadata": {},
   "outputs": [
    {
     "data": {
      "text/plain": [
       "7.199999999999999"
      ]
     },
     "execution_count": 44,
     "metadata": {},
     "output_type": "execute_result"
    }
   ],
   "source": [
    ".12*60"
   ]
  },
  {
   "cell_type": "code",
   "execution_count": 46,
   "id": "9920a907",
   "metadata": {},
   "outputs": [
    {
     "data": {
      "text/plain": [
       "13.5"
      ]
     },
     "execution_count": 46,
     "metadata": {},
     "output_type": "execute_result"
    }
   ],
   "source": [
    "45*18/60"
   ]
  },
  {
   "cell_type": "code",
   "execution_count": 48,
   "id": "5d9d787f",
   "metadata": {},
   "outputs": [
    {
     "data": {
      "text/plain": [
       "35880.905326455824"
      ]
     },
     "execution_count": 48,
     "metadata": {},
     "output_type": "execute_result"
    }
   ],
   "source": [
    "38526.828731999994 * 1e9 / 2**30"
   ]
  },
  {
   "cell_type": "code",
   "execution_count": 49,
   "id": "0b0f3372",
   "metadata": {},
   "outputs": [
    {
     "data": {
      "text/plain": [
       "14.901161193847656"
      ]
     },
     "execution_count": 49,
     "metadata": {},
     "output_type": "execute_result"
    }
   ],
   "source": [
    "16 * 1e9 / 2**30"
   ]
  },
  {
   "cell_type": "code",
   "execution_count": 50,
   "id": "618441f7",
   "metadata": {},
   "outputs": [
    {
     "data": {
      "text/plain": [
       "51.4984130859375"
      ]
     },
     "execution_count": 50,
     "metadata": {},
     "output_type": "execute_result"
    }
   ],
   "source": [
    "54 * 1e6/2**20"
   ]
  },
  {
   "cell_type": "code",
   "execution_count": 51,
   "id": "87c72daa",
   "metadata": {},
   "outputs": [
    {
     "data": {
      "text/plain": [
       "7682"
      ]
     },
     "execution_count": 51,
     "metadata": {},
     "output_type": "execute_result"
    }
   ],
   "source": [
    "23*334"
   ]
  },
  {
   "cell_type": "code",
   "execution_count": 52,
   "id": "51d831fc",
   "metadata": {},
   "outputs": [
    {
     "data": {
      "text/plain": [
       "7154.420018196106"
      ]
     },
     "execution_count": 52,
     "metadata": {},
     "output_type": "execute_result"
    }
   ],
   "source": [
    "7682*1e9/2**30"
   ]
  },
  {
   "cell_type": "code",
   "execution_count": 53,
   "id": "fd60ad49",
   "metadata": {},
   "outputs": [
    {
     "data": {
      "text/plain": [
       "7501.953125"
      ]
     },
     "execution_count": 53,
     "metadata": {},
     "output_type": "execute_result"
    }
   ],
   "source": [
    "7682*2**20/1e6 * 1e9/2**30"
   ]
  },
  {
   "cell_type": "code",
   "execution_count": 54,
   "id": "b9db604e",
   "metadata": {},
   "outputs": [
    {
     "data": {
      "text/plain": [
       "7.426246185147508"
      ]
     },
     "execution_count": 54,
     "metadata": {},
     "output_type": "execute_result"
    }
   ],
   "source": [
    "7300/983"
   ]
  },
  {
   "cell_type": "code",
   "execution_count": 55,
   "id": "ad2410ba",
   "metadata": {},
   "outputs": [
    {
     "data": {
      "text/plain": [
       "0.13465753424657534"
      ]
     },
     "execution_count": 55,
     "metadata": {},
     "output_type": "execute_result"
    }
   ],
   "source": [
    "983/7300"
   ]
  },
  {
   "cell_type": "code",
   "execution_count": 60,
   "id": "a8153b65",
   "metadata": {},
   "outputs": [
    {
     "data": {
      "text/plain": [
       "7.433333333333334"
      ]
     },
     "execution_count": 60,
     "metadata": {},
     "output_type": "execute_result"
    }
   ],
   "source": [
    "22.3*20/60"
   ]
  },
  {
   "cell_type": "code",
   "execution_count": null,
   "id": "566a9df2",
   "metadata": {},
   "outputs": [],
   "source": []
  }
 ],
 "metadata": {
  "kernelspec": {
   "display_name": "Python 3 (ipykernel)",
   "language": "python",
   "name": "python3"
  },
  "language_info": {
   "codemirror_mode": {
    "name": "ipython",
    "version": 3
   },
   "file_extension": ".py",
   "mimetype": "text/x-python",
   "name": "python",
   "nbconvert_exporter": "python",
   "pygments_lexer": "ipython3",
   "version": "3.8.13"
  }
 },
 "nbformat": 4,
 "nbformat_minor": 5
}
