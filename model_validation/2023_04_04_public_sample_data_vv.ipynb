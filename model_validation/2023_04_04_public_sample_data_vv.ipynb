{
 "cells": [
  {
   "cell_type": "code",
   "execution_count": 1,
   "id": "cf2105f0-757b-4dfc-9410-4a6ec92558b9",
   "metadata": {
    "tags": []
   },
   "outputs": [
    {
     "name": "stdout",
     "output_type": "stream",
     "text": [
      "Tue Apr  4 17:35:36 PDT 2023\n",
      "zmbc\n"
     ]
    }
   ],
   "source": [
    "import numpy as np, pandas as pd\n",
    "\n",
    "!date\n",
    "!whoami"
   ]
  },
  {
   "cell_type": "markdown",
   "id": "d3277297-68c8-42a2-9eaa-04282513f902",
   "metadata": {},
   "source": [
    "# Find data"
   ]
  },
  {
   "cell_type": "code",
   "execution_count": 2,
   "id": "34f72555-9f66-4918-abdd-b7940c309caf",
   "metadata": {
    "tags": []
   },
   "outputs": [
    {
     "name": "stdout",
     "output_type": "stream",
     "text": [
      "total 32K\n",
      "drwxrwxr-x 2 zmbc Domain Users 512 Apr  4 17:33 decennial_census_observer\n",
      "drwxrwxr-x 2 zmbc Domain Users 512 Apr  4 17:33 household_survey_observer_acs\n",
      "drwxrwxr-x 2 zmbc Domain Users 512 Apr  4 17:34 household_survey_observer_cps\n",
      "drwxrwxr-x 2 zmbc Domain Users 512 Apr  4 17:34 social_security_observer\n",
      "drwxrwxr-x 2 zmbc Domain Users 512 Apr  4 17:34 tax_1040_observer\n",
      "drwxrwxr-x 2 zmbc Domain Users 512 Apr  4 17:34 tax_dependents_observer\n",
      "drwxrwxr-x 2 zmbc Domain Users 512 Apr  4 17:34 tax_w2_observer\n",
      "drwxrwxr-x 2 zmbc Domain Users 512 Apr  4 17:34 wic_observer\n"
     ]
    }
   ],
   "source": [
    "output_dir = '/ihme/scratch/users/zmbc/vivarium_results/united_states_of_america/2023_04_04_16_18_30/final_results/2023_04_04_17_30_18/'\n",
    "\n",
    "!ls -lh $output_dir"
   ]
  },
  {
   "cell_type": "code",
   "execution_count": 3,
   "id": "00de71e4-f4fc-4b44-9e0d-e70b53d3c88a",
   "metadata": {
    "tags": []
   },
   "outputs": [
    {
     "name": "stdout",
     "output_type": "stream",
     "text": [
      "7.6M\t/ihme/scratch/users/zmbc/vivarium_results/united_states_of_america/2023_04_04_16_18_30/final_results/2023_04_04_17_30_18//tax_w2_observer\n",
      "3.3M\t/ihme/scratch/users/zmbc/vivarium_results/united_states_of_america/2023_04_04_16_18_30/final_results/2023_04_04_17_30_18//tax_1040_observer\n",
      "1.1M\t/ihme/scratch/users/zmbc/vivarium_results/united_states_of_america/2023_04_04_16_18_30/final_results/2023_04_04_17_30_18//tax_dependents_observer\n",
      "932K\t/ihme/scratch/users/zmbc/vivarium_results/united_states_of_america/2023_04_04_16_18_30/final_results/2023_04_04_17_30_18//decennial_census_observer\n",
      "452K\t/ihme/scratch/users/zmbc/vivarium_results/united_states_of_america/2023_04_04_16_18_30/final_results/2023_04_04_17_30_18//social_security_observer\n",
      "208K\t/ihme/scratch/users/zmbc/vivarium_results/united_states_of_america/2023_04_04_16_18_30/final_results/2023_04_04_17_30_18//wic_observer\n",
      "128K\t/ihme/scratch/users/zmbc/vivarium_results/united_states_of_america/2023_04_04_16_18_30/final_results/2023_04_04_17_30_18//household_survey_observer_cps\n",
      "96K\t/ihme/scratch/users/zmbc/vivarium_results/united_states_of_america/2023_04_04_16_18_30/final_results/2023_04_04_17_30_18//household_survey_observer_acs\n"
     ]
    }
   ],
   "source": [
    "# Unsurprisingly, most of the data is in taxes\n",
    "!du -sh $output_dir/* | sort -h -r"
   ]
  },
  {
   "cell_type": "code",
   "execution_count": 4,
   "id": "48309226-e8f0-4c55-b695-fc1d8b66c07b",
   "metadata": {
    "tags": []
   },
   "outputs": [
    {
     "name": "stdout",
     "output_type": "stream",
     "text": [
      "total 928K\n",
      "-rwxr-xr-x 1 zmbc Domain Users 923K Apr  4 17:33 decennial_census_observer.hdf\n"
     ]
    }
   ],
   "source": [
    "!ls -lh $output_dir/decennial_census_observer"
   ]
  },
  {
   "cell_type": "markdown",
   "id": "e3159f09-74fd-41cf-9e33-40e6ef60977d",
   "metadata": {},
   "source": [
    "# Load decennial Census"
   ]
  },
  {
   "cell_type": "code",
   "execution_count": 5,
   "id": "d1d3e060-6359-4e9a-b438-26ce6d0784f4",
   "metadata": {
    "tags": []
   },
   "outputs": [
    {
     "name": "stdout",
     "output_type": "stream",
     "text": [
      "CPU times: user 416 ms, sys: 55 ms, total: 471 ms\n",
      "Wall time: 503 ms\n"
     ]
    },
    {
     "data": {
      "text/html": [
       "<div>\n",
       "<style scoped>\n",
       "    .dataframe tbody tr th:only-of-type {\n",
       "        vertical-align: middle;\n",
       "    }\n",
       "\n",
       "    .dataframe tbody tr th {\n",
       "        vertical-align: top;\n",
       "    }\n",
       "\n",
       "    .dataframe thead th {\n",
       "        text-align: right;\n",
       "    }\n",
       "</style>\n",
       "<table border=\"1\" class=\"dataframe\">\n",
       "  <thead>\n",
       "    <tr style=\"text-align: right;\">\n",
       "      <th></th>\n",
       "      <th>street_number</th>\n",
       "      <th>middle_initial</th>\n",
       "      <th>last_name</th>\n",
       "      <th>sex</th>\n",
       "      <th>guardian_1</th>\n",
       "      <th>year</th>\n",
       "      <th>housing_type</th>\n",
       "      <th>city</th>\n",
       "      <th>race_ethnicity</th>\n",
       "      <th>relation_to_household_head</th>\n",
       "      <th>age</th>\n",
       "      <th>unit_number</th>\n",
       "      <th>date_of_birth</th>\n",
       "      <th>first_name</th>\n",
       "      <th>street_name</th>\n",
       "      <th>simulant_id</th>\n",
       "      <th>guardian_2</th>\n",
       "      <th>zipcode</th>\n",
       "      <th>state</th>\n",
       "    </tr>\n",
       "  </thead>\n",
       "  <tbody>\n",
       "    <tr>\n",
       "      <th>0</th>\n",
       "      <td>1312</td>\n",
       "      <td>M</td>\n",
       "      <td>Shipp</td>\n",
       "      <td>Female</td>\n",
       "      <td>0_-1</td>\n",
       "      <td>2020</td>\n",
       "      <td>Standard</td>\n",
       "      <td>Anytown</td>\n",
       "      <td>Black</td>\n",
       "      <td>Reference person</td>\n",
       "      <td>76</td>\n",
       "      <td></td>\n",
       "      <td>1944-03-23</td>\n",
       "      <td>Maureen</td>\n",
       "      <td>commonwealth avnue</td>\n",
       "      <td>0_4</td>\n",
       "      <td>0_-1</td>\n",
       "      <td>99999</td>\n",
       "      <td>US</td>\n",
       "    </tr>\n",
       "    <tr>\n",
       "      <th>1</th>\n",
       "      <td>1312</td>\n",
       "      <td>N</td>\n",
       "      <td>Shipp</td>\n",
       "      <td>Male</td>\n",
       "      <td>0_-1</td>\n",
       "      <td>2020</td>\n",
       "      <td>Standard</td>\n",
       "      <td>Anytown</td>\n",
       "      <td>Black</td>\n",
       "      <td>Opp-sex spouse</td>\n",
       "      <td>69</td>\n",
       "      <td></td>\n",
       "      <td>1951-03-05</td>\n",
       "      <td>Richard</td>\n",
       "      <td>commonwealth avnue</td>\n",
       "      <td>0_5</td>\n",
       "      <td>0_-1</td>\n",
       "      <td>99999</td>\n",
       "      <td>US</td>\n",
       "    </tr>\n",
       "    <tr>\n",
       "      <th>2</th>\n",
       "      <td>46</td>\n",
       "      <td>C</td>\n",
       "      <td>Holt</td>\n",
       "      <td>Female</td>\n",
       "      <td>0_-1</td>\n",
       "      <td>2020</td>\n",
       "      <td>Standard</td>\n",
       "      <td>Anytown</td>\n",
       "      <td>Black</td>\n",
       "      <td>Reference person</td>\n",
       "      <td>66</td>\n",
       "      <td></td>\n",
       "      <td>1953-08-03</td>\n",
       "      <td>Darlene</td>\n",
       "      <td>bancroft st</td>\n",
       "      <td>0_2464</td>\n",
       "      <td>0_-1</td>\n",
       "      <td>99999</td>\n",
       "      <td>US</td>\n",
       "    </tr>\n",
       "    <tr>\n",
       "      <th>3</th>\n",
       "      <td>9112</td>\n",
       "      <td>S</td>\n",
       "      <td>Holt</td>\n",
       "      <td>Female</td>\n",
       "      <td>0_-1</td>\n",
       "      <td>2020</td>\n",
       "      <td>Standard</td>\n",
       "      <td>Anytown</td>\n",
       "      <td>Black</td>\n",
       "      <td>Reference person</td>\n",
       "      <td>42</td>\n",
       "      <td></td>\n",
       "      <td>1977-05-22</td>\n",
       "      <td>Tabatha</td>\n",
       "      <td>janis ne</td>\n",
       "      <td>0_3558</td>\n",
       "      <td>0_-1</td>\n",
       "      <td>99999</td>\n",
       "      <td>US</td>\n",
       "    </tr>\n",
       "    <tr>\n",
       "      <th>4</th>\n",
       "      <td>9112</td>\n",
       "      <td>M</td>\n",
       "      <td>Holt</td>\n",
       "      <td>Female</td>\n",
       "      <td>0_-1</td>\n",
       "      <td>2020</td>\n",
       "      <td>Standard</td>\n",
       "      <td>Anytown</td>\n",
       "      <td>Black</td>\n",
       "      <td>Biological child</td>\n",
       "      <td>25</td>\n",
       "      <td></td>\n",
       "      <td>1994-12-16</td>\n",
       "      <td>Alice</td>\n",
       "      <td>janis ne</td>\n",
       "      <td>0_3559</td>\n",
       "      <td>0_-1</td>\n",
       "      <td>99999</td>\n",
       "      <td>US</td>\n",
       "    </tr>\n",
       "    <tr>\n",
       "      <th>...</th>\n",
       "      <td>...</td>\n",
       "      <td>...</td>\n",
       "      <td>...</td>\n",
       "      <td>...</td>\n",
       "      <td>...</td>\n",
       "      <td>...</td>\n",
       "      <td>...</td>\n",
       "      <td>...</td>\n",
       "      <td>...</td>\n",
       "      <td>...</td>\n",
       "      <td>...</td>\n",
       "      <td>...</td>\n",
       "      <td>...</td>\n",
       "      <td>...</td>\n",
       "      <td>...</td>\n",
       "      <td>...</td>\n",
       "      <td>...</td>\n",
       "      <td>...</td>\n",
       "      <td>...</td>\n",
       "    </tr>\n",
       "    <tr>\n",
       "      <th>19949</th>\n",
       "      <td>5700</td>\n",
       "      <td>S</td>\n",
       "      <td>Wasser</td>\n",
       "      <td>Male</td>\n",
       "      <td>0_-1</td>\n",
       "      <td>2030</td>\n",
       "      <td>Standard</td>\n",
       "      <td>Anytown</td>\n",
       "      <td>White</td>\n",
       "      <td>Reference person</td>\n",
       "      <td>66</td>\n",
       "      <td></td>\n",
       "      <td>1963-09-21</td>\n",
       "      <td>John</td>\n",
       "      <td>n cr 400 e</td>\n",
       "      <td>0_17995</td>\n",
       "      <td>0_-1</td>\n",
       "      <td>99999</td>\n",
       "      <td>US</td>\n",
       "    </tr>\n",
       "    <tr>\n",
       "      <th>19950</th>\n",
       "      <td>21</td>\n",
       "      <td>K</td>\n",
       "      <td>Hughes</td>\n",
       "      <td>Male</td>\n",
       "      <td>0_-1</td>\n",
       "      <td>2030</td>\n",
       "      <td>Standard</td>\n",
       "      <td>Anytown</td>\n",
       "      <td>Black</td>\n",
       "      <td>Reference person</td>\n",
       "      <td>77</td>\n",
       "      <td></td>\n",
       "      <td>1952-10-15</td>\n",
       "      <td>Clyde</td>\n",
       "      <td>mammoth springs dr</td>\n",
       "      <td>0_18073</td>\n",
       "      <td>0_-1</td>\n",
       "      <td>99999</td>\n",
       "      <td>US</td>\n",
       "    </tr>\n",
       "    <tr>\n",
       "      <th>19951</th>\n",
       "      <td>8728</td>\n",
       "      <td>C</td>\n",
       "      <td>Walker</td>\n",
       "      <td>Female</td>\n",
       "      <td>0_14366</td>\n",
       "      <td>2030</td>\n",
       "      <td>Standard</td>\n",
       "      <td>Anytown</td>\n",
       "      <td>Black</td>\n",
       "      <td>Reference person</td>\n",
       "      <td>2</td>\n",
       "      <td></td>\n",
       "      <td>2027-11-11</td>\n",
       "      <td>Stephanie</td>\n",
       "      <td>high pine meadows r</td>\n",
       "      <td>0_22588</td>\n",
       "      <td>0_-1</td>\n",
       "      <td>99999</td>\n",
       "      <td>US</td>\n",
       "    </tr>\n",
       "    <tr>\n",
       "      <th>19952</th>\n",
       "      <td>1900</td>\n",
       "      <td>D</td>\n",
       "      <td>Foster</td>\n",
       "      <td>Male</td>\n",
       "      <td>0_-1</td>\n",
       "      <td>2030</td>\n",
       "      <td>Standard</td>\n",
       "      <td>Anytown</td>\n",
       "      <td>White</td>\n",
       "      <td>Reference person</td>\n",
       "      <td>23</td>\n",
       "      <td></td>\n",
       "      <td>2006-10-10</td>\n",
       "      <td>Austin</td>\n",
       "      <td>ranch loop</td>\n",
       "      <td>0_22759</td>\n",
       "      <td>0_-1</td>\n",
       "      <td>99999</td>\n",
       "      <td>US</td>\n",
       "    </tr>\n",
       "    <tr>\n",
       "      <th>19953</th>\n",
       "      <td>1900</td>\n",
       "      <td>E</td>\n",
       "      <td>Smith</td>\n",
       "      <td>Male</td>\n",
       "      <td>0_-1</td>\n",
       "      <td>2030</td>\n",
       "      <td>Standard</td>\n",
       "      <td>Anytown</td>\n",
       "      <td>White</td>\n",
       "      <td>Roommate</td>\n",
       "      <td>22</td>\n",
       "      <td></td>\n",
       "      <td>2007-09-15</td>\n",
       "      <td>Chandler</td>\n",
       "      <td>ranch loop</td>\n",
       "      <td>0_22760</td>\n",
       "      <td>0_-1</td>\n",
       "      <td>99999</td>\n",
       "      <td>US</td>\n",
       "    </tr>\n",
       "  </tbody>\n",
       "</table>\n",
       "<p>19954 rows × 19 columns</p>\n",
       "</div>"
      ],
      "text/plain": [
       "      street_number middle_initial last_name     sex guardian_1  year  \\\n",
       "0              1312              M     Shipp  Female       0_-1  2020   \n",
       "1              1312              N     Shipp    Male       0_-1  2020   \n",
       "2                46              C      Holt  Female       0_-1  2020   \n",
       "3              9112              S      Holt  Female       0_-1  2020   \n",
       "4              9112              M      Holt  Female       0_-1  2020   \n",
       "...             ...            ...       ...     ...        ...   ...   \n",
       "19949          5700              S    Wasser    Male       0_-1  2030   \n",
       "19950            21              K    Hughes    Male       0_-1  2030   \n",
       "19951          8728              C    Walker  Female    0_14366  2030   \n",
       "19952          1900              D    Foster    Male       0_-1  2030   \n",
       "19953          1900              E     Smith    Male       0_-1  2030   \n",
       "\n",
       "      housing_type     city race_ethnicity relation_to_household_head  age  \\\n",
       "0         Standard  Anytown          Black           Reference person   76   \n",
       "1         Standard  Anytown          Black             Opp-sex spouse   69   \n",
       "2         Standard  Anytown          Black           Reference person   66   \n",
       "3         Standard  Anytown          Black           Reference person   42   \n",
       "4         Standard  Anytown          Black           Biological child   25   \n",
       "...            ...      ...            ...                        ...  ...   \n",
       "19949     Standard  Anytown          White           Reference person   66   \n",
       "19950     Standard  Anytown          Black           Reference person   77   \n",
       "19951     Standard  Anytown          Black           Reference person    2   \n",
       "19952     Standard  Anytown          White           Reference person   23   \n",
       "19953     Standard  Anytown          White                   Roommate   22   \n",
       "\n",
       "      unit_number date_of_birth first_name          street_name simulant_id  \\\n",
       "0                    1944-03-23    Maureen   commonwealth avnue         0_4   \n",
       "1                    1951-03-05    Richard   commonwealth avnue         0_5   \n",
       "2                    1953-08-03    Darlene          bancroft st      0_2464   \n",
       "3                    1977-05-22    Tabatha             janis ne      0_3558   \n",
       "4                    1994-12-16      Alice             janis ne      0_3559   \n",
       "...           ...           ...        ...                  ...         ...   \n",
       "19949                1963-09-21       John           n cr 400 e     0_17995   \n",
       "19950                1952-10-15      Clyde   mammoth springs dr     0_18073   \n",
       "19951                2027-11-11  Stephanie  high pine meadows r     0_22588   \n",
       "19952                2006-10-10     Austin           ranch loop     0_22759   \n",
       "19953                2007-09-15   Chandler           ranch loop     0_22760   \n",
       "\n",
       "      guardian_2 zipcode state  \n",
       "0           0_-1   99999    US  \n",
       "1           0_-1   99999    US  \n",
       "2           0_-1   99999    US  \n",
       "3           0_-1   99999    US  \n",
       "4           0_-1   99999    US  \n",
       "...          ...     ...   ...  \n",
       "19949       0_-1   99999    US  \n",
       "19950       0_-1   99999    US  \n",
       "19951       0_-1   99999    US  \n",
       "19952       0_-1   99999    US  \n",
       "19953       0_-1   99999    US  \n",
       "\n",
       "[19954 rows x 19 columns]"
      ]
     },
     "execution_count": 5,
     "metadata": {},
     "output_type": "execute_result"
    }
   ],
   "source": [
    "%%time\n",
    "\n",
    "df_census = pd.read_hdf(f'{output_dir}/decennial_census_observer/decennial_census_observer.hdf')\n",
    "df_census"
   ]
  },
  {
   "cell_type": "code",
   "execution_count": 6,
   "id": "b141f791-cf03-45ef-9792-c86a0aa46d58",
   "metadata": {
    "tags": []
   },
   "outputs": [
    {
     "data": {
      "text/plain": [
       "False"
      ]
     },
     "execution_count": 6,
     "metadata": {},
     "output_type": "execute_result"
    }
   ],
   "source": [
    "df_census.isnull().any().any()"
   ]
  },
  {
   "cell_type": "code",
   "execution_count": 7,
   "id": "24823faa-3a53-4af8-a9fd-846ac13716f1",
   "metadata": {
    "tags": []
   },
   "outputs": [],
   "source": [
    "# Nobody counted twice in a single census\n",
    "assert (df_census.groupby(['year', 'simulant_id']).size() == 1).all()"
   ]
  },
  {
   "cell_type": "code",
   "execution_count": 8,
   "id": "0ff8917a-3828-4259-8a3d-2134c0cae4f3",
   "metadata": {
    "tags": []
   },
   "outputs": [
    {
     "data": {
      "text/plain": [
       "Anytown    19954\n",
       "Name: city, dtype: int64"
      ]
     },
     "execution_count": 8,
     "metadata": {},
     "output_type": "execute_result"
    }
   ],
   "source": [
    "df_census.city.value_counts(dropna=False)"
   ]
  },
  {
   "cell_type": "code",
   "execution_count": 9,
   "id": "cd1c825c-5d3a-4804-9028-a4318609507d",
   "metadata": {
    "tags": []
   },
   "outputs": [
    {
     "data": {
      "text/plain": [
       "US    19954\n",
       "Name: state, dtype: int64"
      ]
     },
     "execution_count": 9,
     "metadata": {},
     "output_type": "execute_result"
    }
   ],
   "source": [
    "df_census.state.value_counts(dropna=False)"
   ]
  },
  {
   "cell_type": "code",
   "execution_count": 10,
   "id": "62fd3e45-7c66-42ad-98e9-9e69b0588b96",
   "metadata": {
    "tags": []
   },
   "outputs": [
    {
     "data": {
      "text/plain": [
       "99999    19954\n",
       "Name: zipcode, dtype: int64"
      ]
     },
     "execution_count": 10,
     "metadata": {},
     "output_type": "execute_result"
    }
   ],
   "source": [
    "df_census.zipcode.value_counts(dropna=False)"
   ]
  },
  {
   "cell_type": "code",
   "execution_count": 11,
   "id": "88bfef1a-281f-4e7b-a7d2-5e14bc62b149",
   "metadata": {
    "tags": []
   },
   "outputs": [
    {
     "data": {
      "text/plain": [
       "<AxesSubplot:>"
      ]
     },
     "execution_count": 11,
     "metadata": {},
     "output_type": "execute_result"
    },
    {
     "data": {
      "image/png": "[encoded data removed]",
      "text/plain": [
       "<Figure size 640x480 with 1 Axes>"
      ]
     },
     "metadata": {},
     "output_type": "display_data"
    }
   ],
   "source": [
    "df_census.age.hist(bins=30)"
   ]
  },
  {
   "cell_type": "code",
   "execution_count": 12,
   "id": "4b059a6e-8440-48c6-9096-ffa12768f31e",
   "metadata": {
    "tags": []
   },
   "outputs": [
    {
     "data": {
      "text/plain": [
       "White                   0.606796\n",
       "Latino                  0.175353\n",
       "Black                   0.119375\n",
       "Asian                   0.060389\n",
       "Multiracial or Other    0.031523\n",
       "AIAN                    0.004761\n",
       "NHOPI                   0.001804\n",
       "Name: race_ethnicity, dtype: float64"
      ]
     },
     "execution_count": 12,
     "metadata": {},
     "output_type": "execute_result"
    }
   ],
   "source": [
    "df_census.race_ethnicity.value_counts() / len(df_census)"
   ]
  },
  {
   "cell_type": "code",
   "execution_count": 13,
   "id": "a4fde2fd-d98f-445b-a0b9-4b959e97ca67",
   "metadata": {
    "tags": []
   },
   "outputs": [
    {
     "data": {
      "text/plain": [
       "Female    0.519495\n",
       "Male      0.480505\n",
       "Name: sex, dtype: float64"
      ]
     },
     "execution_count": 13,
     "metadata": {},
     "output_type": "execute_result"
    }
   ],
   "source": [
    "df_census.sex.value_counts() / len(df_census)"
   ]
  },
  {
   "cell_type": "code",
   "execution_count": 14,
   "id": "2e823d96-9564-41f9-a2a4-0b3583efdc1d",
   "metadata": {
    "tags": []
   },
   "outputs": [
    {
     "data": {
      "text/plain": [
       "Thomas Smith      7\n",
       "John Brown        6\n",
       "William Martin    6\n",
       "William Rogers    6\n",
       "Anthony Davis     5\n",
       "                 ..\n",
       "Brenda Jonas      1\n",
       "Elizabeth Duke    1\n",
       "Gage Reichert     1\n",
       "Kaylee Emery      1\n",
       "Chandler Smith    1\n",
       "Length: 14075, dtype: int64"
      ]
     },
     "execution_count": 14,
     "metadata": {},
     "output_type": "execute_result"
    }
   ],
   "source": [
    "(df_census.first_name + ' ' + df_census.last_name).value_counts(dropna=False)"
   ]
  },
  {
   "cell_type": "code",
   "execution_count": 15,
   "id": "fdfa4cd3-eab1-4c9a-8ad8-7f55e376ea09",
   "metadata": {
    "tags": []
   },
   "outputs": [
    {
     "data": {
      "text/plain": [
       "William G Rogers        5\n",
       "Amy K Hernandez         4\n",
       "William G Martin        4\n",
       "Natalie A Lima          4\n",
       "Christopher J Knight    4\n",
       "                       ..\n",
       "Ryan E Nunez            1\n",
       "Steven J Nunez          1\n",
       "Sarah J Nunez           1\n",
       "Noah J Montez           1\n",
       "Chandler E Smith        1\n",
       "Length: 14203, dtype: int64"
      ]
     },
     "execution_count": 15,
     "metadata": {},
     "output_type": "execute_result"
    }
   ],
   "source": [
    "(df_census.first_name + ' ' + df_census.middle_initial + ' ' + df_census.last_name).value_counts(dropna=False)"
   ]
  },
  {
   "cell_type": "code",
   "execution_count": 16,
   "id": "64b5a9eb-4d84-49f3-9a6e-c7981732da8a",
   "metadata": {
    "tags": []
   },
   "outputs": [
    {
     "data": {
      "text/plain": [
       "501 lake stream dr       363\n",
       "1700 union brick road     23\n",
       "706 forrest ln            20\n",
       "8534 taylor st s          18\n",
       " e green mdws rd          18\n",
       "                        ... \n",
       "10 eastland parkway        1\n",
       "1424 mcclellan road        1\n",
       "340 s sunset view dr       1\n",
       "163 ingraham rd            1\n",
       "1010 ozark vy la           1\n",
       "Length: 6838, dtype: int64"
      ]
     },
     "execution_count": 16,
     "metadata": {},
     "output_type": "execute_result"
    }
   ],
   "source": [
    "(df_census.street_number + ' ' + df_census.street_name).value_counts(dropna=False)"
   ]
  },
  {
   "cell_type": "code",
   "execution_count": 17,
   "id": "5e90cb0d-703b-4797-86b3-f6f6083ab6e7",
   "metadata": {
    "tags": []
   },
   "outputs": [
    {
     "data": {
      "text/plain": [
       "                   18907\n",
       "g f                   15\n",
       "apartment 1           12\n",
       "apartamiento 89       12\n",
       "lot # 104             12\n",
       "                   ...  \n",
       "apt 428                1\n",
       "aptmnt 2               1\n",
       "aprt a                 1\n",
       "unt j6                 1\n",
       "ap 525                 1\n",
       "Name: unit_number, Length: 344, dtype: int64"
      ]
     },
     "execution_count": 17,
     "metadata": {},
     "output_type": "execute_result"
    }
   ],
   "source": [
    "df_census.unit_number.value_counts()"
   ]
  },
  {
   "cell_type": "code",
   "execution_count": 18,
   "id": "c92d159d-da88-4182-b82e-760ef53cb6ee",
   "metadata": {
    "tags": []
   },
   "outputs": [
    {
     "data": {
      "text/plain": [
       "Reference person               8768\n",
       "Biological child               4223\n",
       "Opp-sex spouse                 2487\n",
       "Other nonrelative              1886\n",
       "Grandchild                      489\n",
       "Institutionalized GQ pop        363\n",
       "Other relative                  349\n",
       "Opp-sex partner                 344\n",
       "Roommate                        250\n",
       "Sibling                         241\n",
       "Parent                          159\n",
       "Stepchild                       156\n",
       "Adopted child                    80\n",
       "Child-in-law                     54\n",
       "Same-sex spouse                  41\n",
       "Parent-in-law                    33\n",
       "Same-sex partner                 22\n",
       "Foster child                      9\n",
       "Noninstitutionalized GQ pop       0\n",
       "Name: relation_to_household_head, dtype: int64"
      ]
     },
     "execution_count": 18,
     "metadata": {},
     "output_type": "execute_result"
    }
   ],
   "source": [
    "df_census.relation_to_household_head.value_counts()"
   ]
  },
  {
   "cell_type": "markdown",
   "id": "a848e6b8-77b8-4467-bf4c-f323a43a9809",
   "metadata": {},
   "source": [
    "### GQ"
   ]
  },
  {
   "cell_type": "code",
   "execution_count": 19,
   "id": "e501f88d-2167-4c98-83e9-2abfb57ba664",
   "metadata": {
    "tags": []
   },
   "outputs": [
    {
     "data": {
      "text/plain": [
       "Standard                   19591\n",
       "Carceral                     363\n",
       "Nursing home                   0\n",
       "Other institutional            0\n",
       "College                        0\n",
       "Military                       0\n",
       "Other non-institutional        0\n",
       "Name: housing_type, dtype: int64"
      ]
     },
     "execution_count": 19,
     "metadata": {},
     "output_type": "execute_result"
    }
   ],
   "source": [
    "df_census.housing_type.value_counts()"
   ]
  },
  {
   "cell_type": "code",
   "execution_count": 20,
   "id": "1eee5254-3881-4693-95a0-f09f29ccb254",
   "metadata": {
    "tags": []
   },
   "outputs": [
    {
     "data": {
      "text/plain": [
       "Carceral                   363\n",
       "Standard                     0\n",
       "Nursing home                 0\n",
       "Other institutional          0\n",
       "College                      0\n",
       "Military                     0\n",
       "Other non-institutional      0\n",
       "Name: housing_type, dtype: int64"
      ]
     },
     "execution_count": 20,
     "metadata": {},
     "output_type": "execute_result"
    }
   ],
   "source": [
    "df_census[(df_census.street_number == '501') & (df_census.street_name == 'lake stream dr')].housing_type.value_counts()"
   ]
  },
  {
   "cell_type": "code",
   "execution_count": 21,
   "id": "77dddc8c-6e39-483e-b78d-44fe8801523d",
   "metadata": {
    "tags": []
   },
   "outputs": [
    {
     "data": {
      "text/plain": [
       "0        0\n",
       "9250     0\n",
       "9247     0\n",
       "9245     0\n",
       "9244     0\n",
       "        ..\n",
       "9514     1\n",
       "9515     1\n",
       "9516     1\n",
       "2571     1\n",
       "19953    1\n",
       "Length: 19954, dtype: int64"
      ]
     },
     "execution_count": 21,
     "metadata": {},
     "output_type": "execute_result"
    }
   ],
   "source": [
    "# Trying to figure out whether census is getting any people who have died -- it doesn't look like it\n",
    "# (the up to a year of error is due to the rounding down of age)\n",
    "(df_census.year - (df_census.date_of_birth.dt.year + df_census.age)).sort_values()"
   ]
  },
  {
   "cell_type": "markdown",
   "id": "51665e73-080e-49ed-a464-177a7ee053da",
   "metadata": {},
   "source": [
    "## Overlap between consecutive Censuses\n",
    "\n",
    "This is probably too little overlap, but close enough? Definitely enough for a meaningful PRL exercise."
   ]
  },
  {
   "cell_type": "code",
   "execution_count": 22,
   "id": "dd3de0ff-9fe1-4173-a6fc-204bb7723c55",
   "metadata": {
    "tags": []
   },
   "outputs": [
    {
     "data": {
      "text/plain": [
       "year\n",
       "2020    9979\n",
       "2030    9975\n",
       "dtype: int64"
      ]
     },
     "execution_count": 22,
     "metadata": {},
     "output_type": "execute_result"
    }
   ],
   "source": [
    "df_census.groupby('year').size()"
   ]
  },
  {
   "cell_type": "code",
   "execution_count": 23,
   "id": "ea273506-1f7f-4b46-81de-469ca2f6d3a8",
   "metadata": {
    "tags": []
   },
   "outputs": [
    {
     "data": {
      "text/plain": [
       "True     5703\n",
       "False    4272\n",
       "Name: in_2020_census, dtype: int64"
      ]
     },
     "execution_count": 23,
     "metadata": {},
     "output_type": "execute_result"
    }
   ],
   "source": [
    "df_census[df_census.year == 2030].assign(in_2020_census=lambda df: df.simulant_id.isin(df_census[df_census.year == 2020].simulant_id)).in_2020_census.value_counts(dropna=False)"
   ]
  },
  {
   "cell_type": "markdown",
   "id": "8c7e5bdf-1323-4b26-b7c4-dbc86862c6ea",
   "metadata": {},
   "source": [
    "### GQ"
   ]
  },
  {
   "cell_type": "code",
   "execution_count": 24,
   "id": "2b0b91ba-ea03-4c05-846d-a3974d9885eb",
   "metadata": {
    "tags": []
   },
   "outputs": [],
   "source": [
    "gq_census = df_census[df_census.housing_type != 'Standard']"
   ]
  },
  {
   "cell_type": "code",
   "execution_count": 25,
   "id": "9306f985-daa0-45ae-9f05-b970ad639203",
   "metadata": {
    "tags": []
   },
   "outputs": [
    {
     "data": {
      "text/plain": [
       "False    222\n",
       "True      43\n",
       "Name: in_2020_census, dtype: int64"
      ]
     },
     "execution_count": 25,
     "metadata": {},
     "output_type": "execute_result"
    }
   ],
   "source": [
    "gq_census[gq_census.year == 2030].assign(in_2020_census=lambda df: df.simulant_id.isin(gq_census[gq_census.year == 2020].simulant_id)).in_2020_census.value_counts(dropna=False)"
   ]
  },
  {
   "cell_type": "markdown",
   "id": "2847bbee-4919-469d-b8cb-a0ebf8bbc084",
   "metadata": {},
   "source": [
    "# Household surveys"
   ]
  },
  {
   "cell_type": "code",
   "execution_count": 26,
   "id": "a7aced33-76a8-4e87-8f6e-f366cbcb9bd9",
   "metadata": {
    "tags": []
   },
   "outputs": [
    {
     "name": "stdout",
     "output_type": "stream",
     "text": [
      "CPU times: user 52.4 ms, sys: 116 µs, total: 52.5 ms\n",
      "Wall time: 56.5 ms\n"
     ]
    },
    {
     "data": {
      "text/html": [
       "<div>\n",
       "<style scoped>\n",
       "    .dataframe tbody tr th:only-of-type {\n",
       "        vertical-align: middle;\n",
       "    }\n",
       "\n",
       "    .dataframe tbody tr th {\n",
       "        vertical-align: top;\n",
       "    }\n",
       "\n",
       "    .dataframe thead th {\n",
       "        text-align: right;\n",
       "    }\n",
       "</style>\n",
       "<table border=\"1\" class=\"dataframe\">\n",
       "  <thead>\n",
       "    <tr style=\"text-align: right;\">\n",
       "      <th></th>\n",
       "      <th>street_number</th>\n",
       "      <th>middle_initial</th>\n",
       "      <th>last_name</th>\n",
       "      <th>sex</th>\n",
       "      <th>guardian_1</th>\n",
       "      <th>housing_type</th>\n",
       "      <th>household_id</th>\n",
       "      <th>city</th>\n",
       "      <th>age</th>\n",
       "      <th>unit_number</th>\n",
       "      <th>date_of_birth</th>\n",
       "      <th>survey_date</th>\n",
       "      <th>first_name</th>\n",
       "      <th>street_name</th>\n",
       "      <th>simulant_id</th>\n",
       "      <th>guardian_2</th>\n",
       "      <th>zipcode</th>\n",
       "      <th>state</th>\n",
       "    </tr>\n",
       "  </thead>\n",
       "  <tbody>\n",
       "    <tr>\n",
       "      <th>0</th>\n",
       "      <td>5</td>\n",
       "      <td>R</td>\n",
       "      <td>Gandy</td>\n",
       "      <td>Male</td>\n",
       "      <td>0_-1</td>\n",
       "      <td>Standard</td>\n",
       "      <td>0_7661</td>\n",
       "      <td>Anytown</td>\n",
       "      <td>48</td>\n",
       "      <td></td>\n",
       "      <td>1971-05-20</td>\n",
       "      <td>2020-04-29</td>\n",
       "      <td>Curtis</td>\n",
       "      <td>nw 18th pl</td>\n",
       "      <td>0_18951</td>\n",
       "      <td>0_-1</td>\n",
       "      <td>99999</td>\n",
       "      <td>US</td>\n",
       "    </tr>\n",
       "    <tr>\n",
       "      <th>1</th>\n",
       "      <td>5</td>\n",
       "      <td>C</td>\n",
       "      <td>Gandy</td>\n",
       "      <td>Female</td>\n",
       "      <td>0_-1</td>\n",
       "      <td>Standard</td>\n",
       "      <td>0_7661</td>\n",
       "      <td>Anytown</td>\n",
       "      <td>43</td>\n",
       "      <td></td>\n",
       "      <td>1976-04-01</td>\n",
       "      <td>2020-04-29</td>\n",
       "      <td>Patricia</td>\n",
       "      <td>nw 18th pl</td>\n",
       "      <td>0_18952</td>\n",
       "      <td>0_-1</td>\n",
       "      <td>99999</td>\n",
       "      <td>US</td>\n",
       "    </tr>\n",
       "    <tr>\n",
       "      <th>2</th>\n",
       "      <td>5</td>\n",
       "      <td>J</td>\n",
       "      <td>Gandy</td>\n",
       "      <td>Male</td>\n",
       "      <td>0_18951</td>\n",
       "      <td>Standard</td>\n",
       "      <td>0_7661</td>\n",
       "      <td>Anytown</td>\n",
       "      <td>11</td>\n",
       "      <td></td>\n",
       "      <td>2008-09-20</td>\n",
       "      <td>2020-04-29</td>\n",
       "      <td>Ashton</td>\n",
       "      <td>nw 18th pl</td>\n",
       "      <td>0_18953</td>\n",
       "      <td>0_18952</td>\n",
       "      <td>99999</td>\n",
       "      <td>US</td>\n",
       "    </tr>\n",
       "    <tr>\n",
       "      <th>3</th>\n",
       "      <td>5</td>\n",
       "      <td>C</td>\n",
       "      <td>Pratt</td>\n",
       "      <td>Male</td>\n",
       "      <td>0_-1</td>\n",
       "      <td>Standard</td>\n",
       "      <td>0_7661</td>\n",
       "      <td>Anytown</td>\n",
       "      <td>14</td>\n",
       "      <td></td>\n",
       "      <td>2005-06-21</td>\n",
       "      <td>2020-04-29</td>\n",
       "      <td>Joshua</td>\n",
       "      <td>nw 18th pl</td>\n",
       "      <td>0_18954</td>\n",
       "      <td>0_-1</td>\n",
       "      <td>99999</td>\n",
       "      <td>US</td>\n",
       "    </tr>\n",
       "    <tr>\n",
       "      <th>4</th>\n",
       "      <td>4501</td>\n",
       "      <td>I</td>\n",
       "      <td>Miller</td>\n",
       "      <td>Female</td>\n",
       "      <td>0_-1</td>\n",
       "      <td>Standard</td>\n",
       "      <td>0_4653</td>\n",
       "      <td>Anytown</td>\n",
       "      <td>66</td>\n",
       "      <td></td>\n",
       "      <td>1953-07-15</td>\n",
       "      <td>2020-06-24</td>\n",
       "      <td>Joan</td>\n",
       "      <td>brown e end rd</td>\n",
       "      <td>0_11498</td>\n",
       "      <td>0_-1</td>\n",
       "      <td>99999</td>\n",
       "      <td>US</td>\n",
       "    </tr>\n",
       "    <tr>\n",
       "      <th>...</th>\n",
       "      <td>...</td>\n",
       "      <td>...</td>\n",
       "      <td>...</td>\n",
       "      <td>...</td>\n",
       "      <td>...</td>\n",
       "      <td>...</td>\n",
       "      <td>...</td>\n",
       "      <td>...</td>\n",
       "      <td>...</td>\n",
       "      <td>...</td>\n",
       "      <td>...</td>\n",
       "      <td>...</td>\n",
       "      <td>...</td>\n",
       "      <td>...</td>\n",
       "      <td>...</td>\n",
       "      <td>...</td>\n",
       "      <td>...</td>\n",
       "      <td>...</td>\n",
       "    </tr>\n",
       "    <tr>\n",
       "      <th>137</th>\n",
       "      <td></td>\n",
       "      <td>C</td>\n",
       "      <td>Herman</td>\n",
       "      <td>Female</td>\n",
       "      <td>0_-1</td>\n",
       "      <td>Standard</td>\n",
       "      <td>0_4258</td>\n",
       "      <td>Anytown</td>\n",
       "      <td>60</td>\n",
       "      <td></td>\n",
       "      <td>1969-07-14</td>\n",
       "      <td>2029-12-26</td>\n",
       "      <td>Renee</td>\n",
       "      <td>valencia ave</td>\n",
       "      <td>0_10501</td>\n",
       "      <td>0_-1</td>\n",
       "      <td>99999</td>\n",
       "      <td>US</td>\n",
       "    </tr>\n",
       "    <tr>\n",
       "      <th>138</th>\n",
       "      <td></td>\n",
       "      <td>C</td>\n",
       "      <td>Herman</td>\n",
       "      <td>Male</td>\n",
       "      <td>0_-1</td>\n",
       "      <td>Standard</td>\n",
       "      <td>0_4258</td>\n",
       "      <td>Anytown</td>\n",
       "      <td>61</td>\n",
       "      <td></td>\n",
       "      <td>1968-07-21</td>\n",
       "      <td>2029-12-26</td>\n",
       "      <td>Ricky</td>\n",
       "      <td>valencia ave</td>\n",
       "      <td>0_10502</td>\n",
       "      <td>0_-1</td>\n",
       "      <td>99999</td>\n",
       "      <td>US</td>\n",
       "    </tr>\n",
       "    <tr>\n",
       "      <th>139</th>\n",
       "      <td>5309</td>\n",
       "      <td>C</td>\n",
       "      <td>Larsen</td>\n",
       "      <td>Female</td>\n",
       "      <td>0_-1</td>\n",
       "      <td>Standard</td>\n",
       "      <td>0_4529</td>\n",
       "      <td>Anytown</td>\n",
       "      <td>64</td>\n",
       "      <td></td>\n",
       "      <td>1965-08-30</td>\n",
       "      <td>2030-01-23</td>\n",
       "      <td>Dee</td>\n",
       "      <td>westport pkwy</td>\n",
       "      <td>0_11185</td>\n",
       "      <td>0_-1</td>\n",
       "      <td>99999</td>\n",
       "      <td>US</td>\n",
       "    </tr>\n",
       "    <tr>\n",
       "      <th>140</th>\n",
       "      <td>30419</td>\n",
       "      <td>B</td>\n",
       "      <td>Bracy</td>\n",
       "      <td>Male</td>\n",
       "      <td>0_-1</td>\n",
       "      <td>Standard</td>\n",
       "      <td>0_4313</td>\n",
       "      <td>Anytown</td>\n",
       "      <td>35</td>\n",
       "      <td></td>\n",
       "      <td>1994-06-02</td>\n",
       "      <td>2030-04-17</td>\n",
       "      <td>David</td>\n",
       "      <td>w capitol dr</td>\n",
       "      <td>0_6599</td>\n",
       "      <td>0_-1</td>\n",
       "      <td>99999</td>\n",
       "      <td>US</td>\n",
       "    </tr>\n",
       "    <tr>\n",
       "      <th>141</th>\n",
       "      <td>30419</td>\n",
       "      <td>H</td>\n",
       "      <td>Colvin</td>\n",
       "      <td>Male</td>\n",
       "      <td>0_-1</td>\n",
       "      <td>Standard</td>\n",
       "      <td>0_4313</td>\n",
       "      <td>Anytown</td>\n",
       "      <td>70</td>\n",
       "      <td></td>\n",
       "      <td>1959-12-14</td>\n",
       "      <td>2030-04-17</td>\n",
       "      <td>Johnny</td>\n",
       "      <td>w capitol dr</td>\n",
       "      <td>0_10642</td>\n",
       "      <td>0_-1</td>\n",
       "      <td>99999</td>\n",
       "      <td>US</td>\n",
       "    </tr>\n",
       "  </tbody>\n",
       "</table>\n",
       "<p>142 rows × 18 columns</p>\n",
       "</div>"
      ],
      "text/plain": [
       "    street_number middle_initial last_name     sex guardian_1 housing_type  \\\n",
       "0               5              R     Gandy    Male       0_-1     Standard   \n",
       "1               5              C     Gandy  Female       0_-1     Standard   \n",
       "2               5              J     Gandy    Male    0_18951     Standard   \n",
       "3               5              C     Pratt    Male       0_-1     Standard   \n",
       "4            4501              I    Miller  Female       0_-1     Standard   \n",
       "..            ...            ...       ...     ...        ...          ...   \n",
       "137                            C    Herman  Female       0_-1     Standard   \n",
       "138                            C    Herman    Male       0_-1     Standard   \n",
       "139          5309              C    Larsen  Female       0_-1     Standard   \n",
       "140         30419              B     Bracy    Male       0_-1     Standard   \n",
       "141         30419              H    Colvin    Male       0_-1     Standard   \n",
       "\n",
       "    household_id     city  age unit_number date_of_birth survey_date  \\\n",
       "0         0_7661  Anytown   48                1971-05-20  2020-04-29   \n",
       "1         0_7661  Anytown   43                1976-04-01  2020-04-29   \n",
       "2         0_7661  Anytown   11                2008-09-20  2020-04-29   \n",
       "3         0_7661  Anytown   14                2005-06-21  2020-04-29   \n",
       "4         0_4653  Anytown   66                1953-07-15  2020-06-24   \n",
       "..           ...      ...  ...         ...           ...         ...   \n",
       "137       0_4258  Anytown   60                1969-07-14  2029-12-26   \n",
       "138       0_4258  Anytown   61                1968-07-21  2029-12-26   \n",
       "139       0_4529  Anytown   64                1965-08-30  2030-01-23   \n",
       "140       0_4313  Anytown   35                1994-06-02  2030-04-17   \n",
       "141       0_4313  Anytown   70                1959-12-14  2030-04-17   \n",
       "\n",
       "    first_name     street_name simulant_id guardian_2 zipcode state  \n",
       "0       Curtis      nw 18th pl     0_18951       0_-1   99999    US  \n",
       "1     Patricia      nw 18th pl     0_18952       0_-1   99999    US  \n",
       "2       Ashton      nw 18th pl     0_18953    0_18952   99999    US  \n",
       "3       Joshua      nw 18th pl     0_18954       0_-1   99999    US  \n",
       "4         Joan  brown e end rd     0_11498       0_-1   99999    US  \n",
       "..         ...             ...         ...        ...     ...   ...  \n",
       "137      Renee    valencia ave     0_10501       0_-1   99999    US  \n",
       "138      Ricky    valencia ave     0_10502       0_-1   99999    US  \n",
       "139        Dee   westport pkwy     0_11185       0_-1   99999    US  \n",
       "140      David    w capitol dr      0_6599       0_-1   99999    US  \n",
       "141     Johnny    w capitol dr     0_10642       0_-1   99999    US  \n",
       "\n",
       "[142 rows x 18 columns]"
      ]
     },
     "execution_count": 26,
     "metadata": {},
     "output_type": "execute_result"
    }
   ],
   "source": [
    "%%time\n",
    "\n",
    "df_acs = pd.read_hdf(f'{output_dir}/household_survey_observer_acs/household_survey_observer_acs.hdf')\n",
    "df_acs"
   ]
  },
  {
   "cell_type": "code",
   "execution_count": 27,
   "id": "26242c7f-3d6f-4d42-8b94-8117c16f08e6",
   "metadata": {
    "tags": []
   },
   "outputs": [],
   "source": [
    "assert not df_acs.isnull().any().any()"
   ]
  },
  {
   "cell_type": "code",
   "execution_count": 28,
   "id": "63926fab-b3d4-4327-b64a-9a9e61382aae",
   "metadata": {
    "tags": []
   },
   "outputs": [
    {
     "data": {
      "text/plain": [
       "2027-12-29    7\n",
       "2027-08-11    6\n",
       "2021-02-03    5\n",
       "2020-04-29    4\n",
       "2028-02-23    4\n",
       "             ..\n",
       "2025-11-05    1\n",
       "2025-09-10    1\n",
       "2025-08-13    1\n",
       "2025-07-16    1\n",
       "2025-10-08    1\n",
       "Name: survey_date, Length: 69, dtype: int64"
      ]
     },
     "execution_count": 28,
     "metadata": {},
     "output_type": "execute_result"
    }
   ],
   "source": [
    "df_acs.survey_date.value_counts()"
   ]
  },
  {
   "cell_type": "code",
   "execution_count": 29,
   "id": "33429b48-fd6c-4fe1-9b4f-5b92c6f6fc34",
   "metadata": {
    "tags": []
   },
   "outputs": [],
   "source": [
    "assert (df_acs.city == 'Anytown').all()\n",
    "assert (df_acs.state == 'US').all()\n",
    "assert (df_acs.zipcode == '99999').all()"
   ]
  },
  {
   "cell_type": "code",
   "execution_count": 30,
   "id": "aa336a7c-fc23-4d5f-a580-1e37a46d902a",
   "metadata": {
    "tags": []
   },
   "outputs": [
    {
     "data": {
      "text/plain": [
       "<AxesSubplot:>"
      ]
     },
     "execution_count": 30,
     "metadata": {},
     "output_type": "execute_result"
    },
    {
     "data": {
      "image/png": "[encoded data removed]",
      "text/plain": [
       "<Figure size 640x480 with 1 Axes>"
      ]
     },
     "metadata": {},
     "output_type": "display_data"
    }
   ],
   "source": [
    "df_acs.age.hist(bins=30)"
   ]
  },
  {
   "cell_type": "code",
   "execution_count": 31,
   "id": "002020a6-912e-4a52-9efe-2d0968a291fe",
   "metadata": {
    "tags": []
   },
   "outputs": [
    {
     "data": {
      "text/plain": [
       "Female    0.56338\n",
       "Male      0.43662\n",
       "Name: sex, dtype: float64"
      ]
     },
     "execution_count": 31,
     "metadata": {},
     "output_type": "execute_result"
    }
   ],
   "source": [
    "df_acs.sex.value_counts() / len(df_acs)"
   ]
  },
  {
   "cell_type": "code",
   "execution_count": 32,
   "id": "15434e2d-ca2a-4043-89b4-b774d46b1ff9",
   "metadata": {
    "tags": []
   },
   "outputs": [
    {
     "data": {
      "text/plain": [
       "67     28 days 12:00:00\n",
       "33     29 days 06:00:00\n",
       "111    35 days 00:00:00\n",
       "64     35 days 12:00:00\n",
       "122    37 days 06:00:00\n",
       "             ...       \n",
       "115   383 days 06:00:00\n",
       "60    384 days 18:00:00\n",
       "25    388 days 00:00:00\n",
       "120   391 days 12:00:00\n",
       "1     393 days 06:00:00\n",
       "Length: 142, dtype: timedelta64[ns]"
      ]
     },
     "execution_count": 32,
     "metadata": {},
     "output_type": "execute_result"
    }
   ],
   "source": [
    "# Trying to figure out whether these are surveying any people who have died -- it doesn't look like it\n",
    "# It looks like survey_date is always one timestep early, though\n",
    "# (the up to a year of error is due to the rounding down of age)\n",
    "(df_acs.survey_date - (df_acs.date_of_birth + pd.to_timedelta(df_acs.age * 365.25, unit='D'))).sort_values()"
   ]
  },
  {
   "cell_type": "code",
   "execution_count": 33,
   "id": "a818501f-0da0-4e7f-85da-a4c3d91a5a2f",
   "metadata": {
    "tags": []
   },
   "outputs": [
    {
     "name": "stdout",
     "output_type": "stream",
     "text": [
      "CPU times: user 117 ms, sys: 14.5 ms, total: 131 ms\n",
      "Wall time: 137 ms\n"
     ]
    },
    {
     "data": {
      "text/html": [
       "<div>\n",
       "<style scoped>\n",
       "    .dataframe tbody tr th:only-of-type {\n",
       "        vertical-align: middle;\n",
       "    }\n",
       "\n",
       "    .dataframe tbody tr th {\n",
       "        vertical-align: top;\n",
       "    }\n",
       "\n",
       "    .dataframe thead th {\n",
       "        text-align: right;\n",
       "    }\n",
       "</style>\n",
       "<table border=\"1\" class=\"dataframe\">\n",
       "  <thead>\n",
       "    <tr style=\"text-align: right;\">\n",
       "      <th></th>\n",
       "      <th>street_number</th>\n",
       "      <th>middle_initial</th>\n",
       "      <th>last_name</th>\n",
       "      <th>sex</th>\n",
       "      <th>guardian_1</th>\n",
       "      <th>housing_type</th>\n",
       "      <th>household_id</th>\n",
       "      <th>city</th>\n",
       "      <th>age</th>\n",
       "      <th>unit_number</th>\n",
       "      <th>date_of_birth</th>\n",
       "      <th>survey_date</th>\n",
       "      <th>first_name</th>\n",
       "      <th>street_name</th>\n",
       "      <th>simulant_id</th>\n",
       "      <th>guardian_2</th>\n",
       "      <th>zipcode</th>\n",
       "      <th>state</th>\n",
       "    </tr>\n",
       "  </thead>\n",
       "  <tbody>\n",
       "    <tr>\n",
       "      <th>0</th>\n",
       "      <td>2725</td>\n",
       "      <td>A</td>\n",
       "      <td>Bergdahl</td>\n",
       "      <td>Male</td>\n",
       "      <td>0_-1</td>\n",
       "      <td>Standard</td>\n",
       "      <td>0_1191</td>\n",
       "      <td>Anytown</td>\n",
       "      <td>29</td>\n",
       "      <td></td>\n",
       "      <td>1990-05-25</td>\n",
       "      <td>2020-04-29</td>\n",
       "      <td>Derrick</td>\n",
       "      <td>clifton str</td>\n",
       "      <td>0_2902</td>\n",
       "      <td>0_-1</td>\n",
       "      <td>99999</td>\n",
       "      <td>US</td>\n",
       "    </tr>\n",
       "    <tr>\n",
       "      <th>1</th>\n",
       "      <td>2725</td>\n",
       "      <td>C</td>\n",
       "      <td>Bergdahl</td>\n",
       "      <td>Female</td>\n",
       "      <td>0_-1</td>\n",
       "      <td>Standard</td>\n",
       "      <td>0_1191</td>\n",
       "      <td>Anytown</td>\n",
       "      <td>36</td>\n",
       "      <td></td>\n",
       "      <td>1983-08-04</td>\n",
       "      <td>2020-04-29</td>\n",
       "      <td>Victoria</td>\n",
       "      <td>clifton str</td>\n",
       "      <td>0_2903</td>\n",
       "      <td>0_-1</td>\n",
       "      <td>99999</td>\n",
       "      <td>US</td>\n",
       "    </tr>\n",
       "    <tr>\n",
       "      <th>2</th>\n",
       "      <td>2725</td>\n",
       "      <td>R</td>\n",
       "      <td>Bergdahl</td>\n",
       "      <td>Male</td>\n",
       "      <td>0_2902</td>\n",
       "      <td>Standard</td>\n",
       "      <td>0_1191</td>\n",
       "      <td>Anytown</td>\n",
       "      <td>5</td>\n",
       "      <td></td>\n",
       "      <td>2014-08-29</td>\n",
       "      <td>2020-04-29</td>\n",
       "      <td>Stephen</td>\n",
       "      <td>clifton str</td>\n",
       "      <td>0_2904</td>\n",
       "      <td>0_2903</td>\n",
       "      <td>99999</td>\n",
       "      <td>US</td>\n",
       "    </tr>\n",
       "    <tr>\n",
       "      <th>3</th>\n",
       "      <td>1606</td>\n",
       "      <td>A</td>\n",
       "      <td>Aparicio</td>\n",
       "      <td>Female</td>\n",
       "      <td>0_-1</td>\n",
       "      <td>Standard</td>\n",
       "      <td>0_6133</td>\n",
       "      <td>Anytown</td>\n",
       "      <td>28</td>\n",
       "      <td></td>\n",
       "      <td>1991-11-24</td>\n",
       "      <td>2020-04-29</td>\n",
       "      <td>Alexis</td>\n",
       "      <td>schillinger rd n</td>\n",
       "      <td>0_15122</td>\n",
       "      <td>0_-1</td>\n",
       "      <td>99999</td>\n",
       "      <td>US</td>\n",
       "    </tr>\n",
       "    <tr>\n",
       "      <th>4</th>\n",
       "      <td>129</td>\n",
       "      <td>M</td>\n",
       "      <td>Tejeda</td>\n",
       "      <td>Male</td>\n",
       "      <td>0_-1</td>\n",
       "      <td>Standard</td>\n",
       "      <td>0_6766</td>\n",
       "      <td>Anytown</td>\n",
       "      <td>53</td>\n",
       "      <td>apt # 284l</td>\n",
       "      <td>1966-09-09</td>\n",
       "      <td>2020-04-29</td>\n",
       "      <td>Howard</td>\n",
       "      <td>dodds rd</td>\n",
       "      <td>0_16685</td>\n",
       "      <td>0_-1</td>\n",
       "      <td>99999</td>\n",
       "      <td>US</td>\n",
       "    </tr>\n",
       "    <tr>\n",
       "      <th>...</th>\n",
       "      <td>...</td>\n",
       "      <td>...</td>\n",
       "      <td>...</td>\n",
       "      <td>...</td>\n",
       "      <td>...</td>\n",
       "      <td>...</td>\n",
       "      <td>...</td>\n",
       "      <td>...</td>\n",
       "      <td>...</td>\n",
       "      <td>...</td>\n",
       "      <td>...</td>\n",
       "      <td>...</td>\n",
       "      <td>...</td>\n",
       "      <td>...</td>\n",
       "      <td>...</td>\n",
       "      <td>...</td>\n",
       "      <td>...</td>\n",
       "      <td>...</td>\n",
       "    </tr>\n",
       "    <tr>\n",
       "      <th>893</th>\n",
       "      <td>1134</td>\n",
       "      <td>L</td>\n",
       "      <td>Michalski</td>\n",
       "      <td>Female</td>\n",
       "      <td>0_-1</td>\n",
       "      <td>Standard</td>\n",
       "      <td>0_9060</td>\n",
       "      <td>Anytown</td>\n",
       "      <td>77</td>\n",
       "      <td></td>\n",
       "      <td>1952-12-17</td>\n",
       "      <td>2030-04-17</td>\n",
       "      <td>Connie</td>\n",
       "      <td>ocean ave</td>\n",
       "      <td>0_16563</td>\n",
       "      <td>0_-1</td>\n",
       "      <td>99999</td>\n",
       "      <td>US</td>\n",
       "    </tr>\n",
       "    <tr>\n",
       "      <th>894</th>\n",
       "      <td>4</td>\n",
       "      <td>T</td>\n",
       "      <td>Kelley</td>\n",
       "      <td>Female</td>\n",
       "      <td>0_-1</td>\n",
       "      <td>Standard</td>\n",
       "      <td>0_1279</td>\n",
       "      <td>Anytown</td>\n",
       "      <td>48</td>\n",
       "      <td></td>\n",
       "      <td>1982-01-16</td>\n",
       "      <td>2030-05-15</td>\n",
       "      <td>Sara</td>\n",
       "      <td>mcculloch</td>\n",
       "      <td>0_3135</td>\n",
       "      <td>0_-1</td>\n",
       "      <td>99999</td>\n",
       "      <td>US</td>\n",
       "    </tr>\n",
       "    <tr>\n",
       "      <th>895</th>\n",
       "      <td>4</td>\n",
       "      <td>A</td>\n",
       "      <td>Kelley</td>\n",
       "      <td>Male</td>\n",
       "      <td>0_-1</td>\n",
       "      <td>Standard</td>\n",
       "      <td>0_1279</td>\n",
       "      <td>Anytown</td>\n",
       "      <td>46</td>\n",
       "      <td></td>\n",
       "      <td>1983-10-14</td>\n",
       "      <td>2030-05-15</td>\n",
       "      <td>Robert</td>\n",
       "      <td>mcculloch</td>\n",
       "      <td>0_3136</td>\n",
       "      <td>0_-1</td>\n",
       "      <td>99999</td>\n",
       "      <td>US</td>\n",
       "    </tr>\n",
       "    <tr>\n",
       "      <th>896</th>\n",
       "      <td>4</td>\n",
       "      <td>L</td>\n",
       "      <td>Kelley</td>\n",
       "      <td>Male</td>\n",
       "      <td>0_3135</td>\n",
       "      <td>Standard</td>\n",
       "      <td>0_1279</td>\n",
       "      <td>Anytown</td>\n",
       "      <td>14</td>\n",
       "      <td></td>\n",
       "      <td>2015-08-05</td>\n",
       "      <td>2030-05-15</td>\n",
       "      <td>Franklin</td>\n",
       "      <td>mcculloch</td>\n",
       "      <td>0_3137</td>\n",
       "      <td>0_3136</td>\n",
       "      <td>99999</td>\n",
       "      <td>US</td>\n",
       "    </tr>\n",
       "    <tr>\n",
       "      <th>897</th>\n",
       "      <td>4</td>\n",
       "      <td>A</td>\n",
       "      <td>Kelley</td>\n",
       "      <td>Female</td>\n",
       "      <td>0_3135</td>\n",
       "      <td>Standard</td>\n",
       "      <td>0_1279</td>\n",
       "      <td>Anytown</td>\n",
       "      <td>14</td>\n",
       "      <td></td>\n",
       "      <td>2015-06-16</td>\n",
       "      <td>2030-05-15</td>\n",
       "      <td>Lindsay</td>\n",
       "      <td>mcculloch</td>\n",
       "      <td>0_3138</td>\n",
       "      <td>0_3136</td>\n",
       "      <td>99999</td>\n",
       "      <td>US</td>\n",
       "    </tr>\n",
       "  </tbody>\n",
       "</table>\n",
       "<p>898 rows × 18 columns</p>\n",
       "</div>"
      ],
      "text/plain": [
       "    street_number middle_initial  last_name     sex guardian_1 housing_type  \\\n",
       "0            2725              A   Bergdahl    Male       0_-1     Standard   \n",
       "1            2725              C   Bergdahl  Female       0_-1     Standard   \n",
       "2            2725              R   Bergdahl    Male     0_2902     Standard   \n",
       "3            1606              A   Aparicio  Female       0_-1     Standard   \n",
       "4             129              M     Tejeda    Male       0_-1     Standard   \n",
       "..            ...            ...        ...     ...        ...          ...   \n",
       "893          1134              L  Michalski  Female       0_-1     Standard   \n",
       "894             4              T     Kelley  Female       0_-1     Standard   \n",
       "895             4              A     Kelley    Male       0_-1     Standard   \n",
       "896             4              L     Kelley    Male     0_3135     Standard   \n",
       "897             4              A     Kelley  Female     0_3135     Standard   \n",
       "\n",
       "    household_id     city  age unit_number date_of_birth survey_date  \\\n",
       "0         0_1191  Anytown   29                1990-05-25  2020-04-29   \n",
       "1         0_1191  Anytown   36                1983-08-04  2020-04-29   \n",
       "2         0_1191  Anytown    5                2014-08-29  2020-04-29   \n",
       "3         0_6133  Anytown   28                1991-11-24  2020-04-29   \n",
       "4         0_6766  Anytown   53  apt # 284l    1966-09-09  2020-04-29   \n",
       "..           ...      ...  ...         ...           ...         ...   \n",
       "893       0_9060  Anytown   77                1952-12-17  2030-04-17   \n",
       "894       0_1279  Anytown   48                1982-01-16  2030-05-15   \n",
       "895       0_1279  Anytown   46                1983-10-14  2030-05-15   \n",
       "896       0_1279  Anytown   14                2015-08-05  2030-05-15   \n",
       "897       0_1279  Anytown   14                2015-06-16  2030-05-15   \n",
       "\n",
       "    first_name       street_name simulant_id guardian_2 zipcode state  \n",
       "0      Derrick       clifton str      0_2902       0_-1   99999    US  \n",
       "1     Victoria       clifton str      0_2903       0_-1   99999    US  \n",
       "2      Stephen       clifton str      0_2904     0_2903   99999    US  \n",
       "3       Alexis  schillinger rd n     0_15122       0_-1   99999    US  \n",
       "4       Howard          dodds rd     0_16685       0_-1   99999    US  \n",
       "..         ...               ...         ...        ...     ...   ...  \n",
       "893     Connie         ocean ave     0_16563       0_-1   99999    US  \n",
       "894       Sara         mcculloch      0_3135       0_-1   99999    US  \n",
       "895     Robert         mcculloch      0_3136       0_-1   99999    US  \n",
       "896   Franklin         mcculloch      0_3137     0_3136   99999    US  \n",
       "897    Lindsay         mcculloch      0_3138     0_3136   99999    US  \n",
       "\n",
       "[898 rows x 18 columns]"
      ]
     },
     "execution_count": 33,
     "metadata": {},
     "output_type": "execute_result"
    }
   ],
   "source": [
    "%%time\n",
    "\n",
    "df_cps = pd.read_hdf(f'{output_dir}/household_survey_observer_cps/household_survey_observer_cps.hdf')\n",
    "df_cps"
   ]
  },
  {
   "cell_type": "code",
   "execution_count": 34,
   "id": "e9ae9006-664c-48d5-8871-d98de1b2a1ad",
   "metadata": {
    "tags": []
   },
   "outputs": [],
   "source": [
    "assert df_cps.notnull().all().all()\n",
    "assert (df_cps.city == 'Anytown').all()\n",
    "assert (df_cps.state == 'US').all()\n",
    "assert (df_cps.zipcode == '99999').all()"
   ]
  },
  {
   "cell_type": "code",
   "execution_count": 35,
   "id": "23796887-aabb-4962-9549-886f7bb0aa84",
   "metadata": {
    "tags": []
   },
   "outputs": [
    {
     "data": {
      "text/plain": [
       "False    889\n",
       "True       9\n",
       "Name: simulant_id, dtype: int64"
      ]
     },
     "execution_count": 35,
     "metadata": {},
     "output_type": "execute_result"
    }
   ],
   "source": [
    "# These surveys are both small and shouldn't overlap much\n",
    "df_cps.simulant_id.isin(df_acs.simulant_id).value_counts()"
   ]
  },
  {
   "cell_type": "code",
   "execution_count": 36,
   "id": "624d5b3c-9b30-48e2-9e9a-e6087c44f114",
   "metadata": {
    "tags": []
   },
   "outputs": [
    {
     "data": {
      "text/plain": [
       "86       0_188\n",
       "213    0_11292\n",
       "278    0_12620\n",
       "349     0_1955\n",
       "350     0_1956\n",
       "431     0_7110\n",
       "432     0_7111\n",
       "433     0_7112\n",
       "603    0_14044\n",
       "Name: simulant_id, dtype: object"
      ]
     },
     "execution_count": 36,
     "metadata": {},
     "output_type": "execute_result"
    }
   ],
   "source": [
    "df_cps.simulant_id[df_cps.simulant_id.isin(df_acs.simulant_id)]"
   ]
  },
  {
   "cell_type": "markdown",
   "id": "74984350-8bd0-486d-a394-549e2cf7603c",
   "metadata": {},
   "source": [
    "### Check that someone sampled for both was on different timesteps"
   ]
  },
  {
   "cell_type": "code",
   "execution_count": 37,
   "id": "73d00f44-ae17-4cb5-8be0-7f4ab7db3b60",
   "metadata": {
    "tags": []
   },
   "outputs": [
    {
     "data": {
      "text/plain": [
       "131   2029-06-13\n",
       "Name: survey_date, dtype: datetime64[ns]"
      ]
     },
     "execution_count": 37,
     "metadata": {},
     "output_type": "execute_result"
    }
   ],
   "source": [
    "df_acs[df_acs.simulant_id == '0_188'].survey_date"
   ]
  },
  {
   "cell_type": "code",
   "execution_count": 38,
   "id": "cc3bba69-a413-4408-97f1-d50f9e03bcb3",
   "metadata": {
    "tags": []
   },
   "outputs": [
    {
     "data": {
      "text/plain": [
       "86   2020-11-11\n",
       "Name: survey_date, dtype: datetime64[ns]"
      ]
     },
     "execution_count": 38,
     "metadata": {},
     "output_type": "execute_result"
    }
   ],
   "source": [
    "df_cps[df_cps.simulant_id == '0_188'].survey_date"
   ]
  },
  {
   "cell_type": "markdown",
   "id": "ddbf102d-7f8b-45ee-824e-00e47e2d5c5f",
   "metadata": {},
   "source": [
    "# SSA"
   ]
  },
  {
   "cell_type": "code",
   "execution_count": 39,
   "id": "d8393876-26ec-4154-bc2a-049de5f95c44",
   "metadata": {
    "tags": []
   },
   "outputs": [
    {
     "name": "stdout",
     "output_type": "stream",
     "text": [
      "CPU times: user 147 ms, sys: 12.4 ms, total: 159 ms\n",
      "Wall time: 163 ms\n"
     ]
    },
    {
     "data": {
      "text/html": [
       "<div>\n",
       "<style scoped>\n",
       "    .dataframe tbody tr th:only-of-type {\n",
       "        vertical-align: middle;\n",
       "    }\n",
       "\n",
       "    .dataframe tbody tr th {\n",
       "        vertical-align: top;\n",
       "    }\n",
       "\n",
       "    .dataframe thead th {\n",
       "        text-align: right;\n",
       "    }\n",
       "</style>\n",
       "<table border=\"1\" class=\"dataframe\">\n",
       "  <thead>\n",
       "    <tr style=\"text-align: right;\">\n",
       "      <th></th>\n",
       "      <th>date_of_birth</th>\n",
       "      <th>middle_initial</th>\n",
       "      <th>first_name</th>\n",
       "      <th>last_name</th>\n",
       "      <th>simulant_id</th>\n",
       "      <th>ssn</th>\n",
       "      <th>event_date</th>\n",
       "      <th>event_type</th>\n",
       "    </tr>\n",
       "  </thead>\n",
       "  <tbody>\n",
       "    <tr>\n",
       "      <th>0</th>\n",
       "      <td>1922-02-23</td>\n",
       "      <td>D</td>\n",
       "      <td>Margaret</td>\n",
       "      <td>Obar</td>\n",
       "      <td>0_16801</td>\n",
       "      <td>786-77-6454</td>\n",
       "      <td>1922-02-23</td>\n",
       "      <td>creation</td>\n",
       "    </tr>\n",
       "    <tr>\n",
       "      <th>1</th>\n",
       "      <td>1922-07-17</td>\n",
       "      <td>A</td>\n",
       "      <td>Edna</td>\n",
       "      <td>Austin</td>\n",
       "      <td>0_18069</td>\n",
       "      <td>688-88-6377</td>\n",
       "      <td>1922-07-17</td>\n",
       "      <td>creation</td>\n",
       "    </tr>\n",
       "    <tr>\n",
       "      <th>3</th>\n",
       "      <td>1922-10-15</td>\n",
       "      <td>D</td>\n",
       "      <td>Josephine</td>\n",
       "      <td>Keath</td>\n",
       "      <td>0_7245</td>\n",
       "      <td>665-25-7858</td>\n",
       "      <td>1922-10-15</td>\n",
       "      <td>creation</td>\n",
       "    </tr>\n",
       "    <tr>\n",
       "      <th>7</th>\n",
       "      <td>1923-08-11</td>\n",
       "      <td>D</td>\n",
       "      <td>Joan</td>\n",
       "      <td>Menchaca-Silva</td>\n",
       "      <td>0_6068</td>\n",
       "      <td>102-60-0838</td>\n",
       "      <td>1923-08-11</td>\n",
       "      <td>creation</td>\n",
       "    </tr>\n",
       "    <tr>\n",
       "      <th>8</th>\n",
       "      <td>1923-08-21</td>\n",
       "      <td>M</td>\n",
       "      <td>Mary</td>\n",
       "      <td>Moore</td>\n",
       "      <td>0_4393</td>\n",
       "      <td>494-11-1947</td>\n",
       "      <td>1923-08-21</td>\n",
       "      <td>creation</td>\n",
       "    </tr>\n",
       "    <tr>\n",
       "      <th>...</th>\n",
       "      <td>...</td>\n",
       "      <td>...</td>\n",
       "      <td>...</td>\n",
       "      <td>...</td>\n",
       "      <td>...</td>\n",
       "      <td>...</td>\n",
       "      <td>...</td>\n",
       "      <td>...</td>\n",
       "    </tr>\n",
       "    <tr>\n",
       "      <th>24633</th>\n",
       "      <td>1955-08-07</td>\n",
       "      <td>E</td>\n",
       "      <td>Thomas</td>\n",
       "      <td>Green</td>\n",
       "      <td>0_9164</td>\n",
       "      <td>104-19-7348</td>\n",
       "      <td>2030-05-15</td>\n",
       "      <td>death</td>\n",
       "    </tr>\n",
       "    <tr>\n",
       "      <th>24634</th>\n",
       "      <td>1956-02-12</td>\n",
       "      <td>D</td>\n",
       "      <td>Patricia</td>\n",
       "      <td>Theiss</td>\n",
       "      <td>0_19164</td>\n",
       "      <td>874-32-8890</td>\n",
       "      <td>2030-05-15</td>\n",
       "      <td>death</td>\n",
       "    </tr>\n",
       "    <tr>\n",
       "      <th>24635</th>\n",
       "      <td>1959-05-27</td>\n",
       "      <td>K</td>\n",
       "      <td>Rhonda</td>\n",
       "      <td>Mcgraw</td>\n",
       "      <td>0_16742</td>\n",
       "      <td>864-04-0094</td>\n",
       "      <td>2030-05-15</td>\n",
       "      <td>death</td>\n",
       "    </tr>\n",
       "    <tr>\n",
       "      <th>24636</th>\n",
       "      <td>1976-03-22</td>\n",
       "      <td>J</td>\n",
       "      <td>Gerald</td>\n",
       "      <td>Disalvo</td>\n",
       "      <td>0_18457</td>\n",
       "      <td>564-95-5073</td>\n",
       "      <td>2030-05-15</td>\n",
       "      <td>death</td>\n",
       "    </tr>\n",
       "    <tr>\n",
       "      <th>24637</th>\n",
       "      <td>2003-03-25</td>\n",
       "      <td>N</td>\n",
       "      <td>Canon</td>\n",
       "      <td>Wiegers</td>\n",
       "      <td>0_14478</td>\n",
       "      <td>017-51-5369</td>\n",
       "      <td>2030-05-15</td>\n",
       "      <td>death</td>\n",
       "    </tr>\n",
       "  </tbody>\n",
       "</table>\n",
       "<p>16476 rows × 8 columns</p>\n",
       "</div>"
      ],
      "text/plain": [
       "      date_of_birth middle_initial first_name       last_name simulant_id  \\\n",
       "0        1922-02-23              D   Margaret            Obar     0_16801   \n",
       "1        1922-07-17              A       Edna          Austin     0_18069   \n",
       "3        1922-10-15              D  Josephine           Keath      0_7245   \n",
       "7        1923-08-11              D       Joan  Menchaca-Silva      0_6068   \n",
       "8        1923-08-21              M       Mary           Moore      0_4393   \n",
       "...             ...            ...        ...             ...         ...   \n",
       "24633    1955-08-07              E     Thomas           Green      0_9164   \n",
       "24634    1956-02-12              D   Patricia          Theiss     0_19164   \n",
       "24635    1959-05-27              K     Rhonda          Mcgraw     0_16742   \n",
       "24636    1976-03-22              J     Gerald         Disalvo     0_18457   \n",
       "24637    2003-03-25              N      Canon         Wiegers     0_14478   \n",
       "\n",
       "               ssn event_date event_type  \n",
       "0      786-77-6454 1922-02-23   creation  \n",
       "1      688-88-6377 1922-07-17   creation  \n",
       "3      665-25-7858 1922-10-15   creation  \n",
       "7      102-60-0838 1923-08-11   creation  \n",
       "8      494-11-1947 1923-08-21   creation  \n",
       "...            ...        ...        ...  \n",
       "24633  104-19-7348 2030-05-15      death  \n",
       "24634  874-32-8890 2030-05-15      death  \n",
       "24635  864-04-0094 2030-05-15      death  \n",
       "24636  564-95-5073 2030-05-15      death  \n",
       "24637  017-51-5369 2030-05-15      death  \n",
       "\n",
       "[16476 rows x 8 columns]"
      ]
     },
     "execution_count": 39,
     "metadata": {},
     "output_type": "execute_result"
    }
   ],
   "source": [
    "%%time\n",
    "\n",
    "df_ssa = pd.read_hdf(f'{output_dir}/social_security_observer/social_security_observer.hdf')\n",
    "df_ssa"
   ]
  },
  {
   "cell_type": "code",
   "execution_count": 40,
   "id": "8086da3c-8b33-4cfe-baee-cb590db382c6",
   "metadata": {
    "tags": []
   },
   "outputs": [],
   "source": [
    "assert df_ssa.notnull().all().all()"
   ]
  },
  {
   "cell_type": "code",
   "execution_count": 41,
   "id": "5def560e-2ffe-40c8-927a-12722c8ecc1c",
   "metadata": {
    "tags": []
   },
   "outputs": [
    {
     "data": {
      "text/plain": [
       "creation    15234\n",
       "death        1242\n",
       "Name: event_type, dtype: int64"
      ]
     },
     "execution_count": 41,
     "metadata": {},
     "output_type": "execute_result"
    }
   ],
   "source": [
    "df_ssa.event_type.value_counts()"
   ]
  },
  {
   "cell_type": "code",
   "execution_count": 42,
   "id": "454df802-8f74-4050-bded-66b6a973c7d8",
   "metadata": {
    "tags": []
   },
   "outputs": [],
   "source": [
    "# 1-to-1 between simulants and SSNs\n",
    "assert (df_ssa.groupby('simulant_id').ssn.nunique() == 1).all()\n",
    "assert (df_ssa.groupby('ssn').simulant_id.nunique() == 1).all()"
   ]
  },
  {
   "cell_type": "code",
   "execution_count": 43,
   "id": "c657e3c3-b194-416f-9219-f6e3dccf8088",
   "metadata": {
    "tags": []
   },
   "outputs": [
    {
     "data": {
      "text/plain": [
       "Charles S Berrier     4\n",
       "Edith A Campbell      4\n",
       "William G Rogers      3\n",
       "William D Edwards     3\n",
       "Ann J Smith           3\n",
       "                     ..\n",
       "Jeffery R Eastlund    1\n",
       "Amanda M Wilson       1\n",
       "Catherine R Jones     1\n",
       "Alyssa J Pope         1\n",
       "Ava M Lint            1\n",
       "Length: 15177, dtype: int64"
      ]
     },
     "execution_count": 43,
     "metadata": {},
     "output_type": "execute_result"
    }
   ],
   "source": [
    "(df_ssa.first_name + ' ' + df_ssa.middle_initial + ' ' + df_ssa.last_name).value_counts(dropna=False)"
   ]
  },
  {
   "cell_type": "code",
   "execution_count": 44,
   "id": "4f57fc1e-69fe-4769-9b53-7a1ae0723400",
   "metadata": {
    "tags": []
   },
   "outputs": [
    {
     "data": {
      "text/html": [
       "<div>\n",
       "<style scoped>\n",
       "    .dataframe tbody tr th:only-of-type {\n",
       "        vertical-align: middle;\n",
       "    }\n",
       "\n",
       "    .dataframe tbody tr th {\n",
       "        vertical-align: top;\n",
       "    }\n",
       "\n",
       "    .dataframe thead th {\n",
       "        text-align: right;\n",
       "    }\n",
       "</style>\n",
       "<table border=\"1\" class=\"dataframe\">\n",
       "  <thead>\n",
       "    <tr style=\"text-align: right;\">\n",
       "      <th></th>\n",
       "      <th>date_of_birth</th>\n",
       "      <th>middle_initial</th>\n",
       "      <th>first_name</th>\n",
       "      <th>last_name</th>\n",
       "      <th>simulant_id</th>\n",
       "      <th>ssn</th>\n",
       "      <th>event_date</th>\n",
       "      <th>event_type</th>\n",
       "    </tr>\n",
       "  </thead>\n",
       "  <tbody>\n",
       "    <tr>\n",
       "      <th>249</th>\n",
       "      <td>1932-12-07</td>\n",
       "      <td>S</td>\n",
       "      <td>Charles</td>\n",
       "      <td>Berrier</td>\n",
       "      <td>0_15159</td>\n",
       "      <td>867-26-2008</td>\n",
       "      <td>1932-12-07</td>\n",
       "      <td>creation</td>\n",
       "    </tr>\n",
       "    <tr>\n",
       "      <th>269</th>\n",
       "      <td>1933-05-17</td>\n",
       "      <td>S</td>\n",
       "      <td>Charles</td>\n",
       "      <td>Berrier</td>\n",
       "      <td>0_10282</td>\n",
       "      <td>244-08-0619</td>\n",
       "      <td>1933-05-17</td>\n",
       "      <td>creation</td>\n",
       "    </tr>\n",
       "    <tr>\n",
       "      <th>19653</th>\n",
       "      <td>1933-05-17</td>\n",
       "      <td>S</td>\n",
       "      <td>Charles</td>\n",
       "      <td>Berrier</td>\n",
       "      <td>0_10282</td>\n",
       "      <td>244-08-0619</td>\n",
       "      <td>2021-01-06</td>\n",
       "      <td>death</td>\n",
       "    </tr>\n",
       "    <tr>\n",
       "      <th>20062</th>\n",
       "      <td>1932-12-07</td>\n",
       "      <td>S</td>\n",
       "      <td>Charles</td>\n",
       "      <td>Berrier</td>\n",
       "      <td>0_15159</td>\n",
       "      <td>867-26-2008</td>\n",
       "      <td>2021-11-10</td>\n",
       "      <td>death</td>\n",
       "    </tr>\n",
       "  </tbody>\n",
       "</table>\n",
       "</div>"
      ],
      "text/plain": [
       "      date_of_birth middle_initial first_name last_name simulant_id  \\\n",
       "249      1932-12-07              S    Charles   Berrier     0_15159   \n",
       "269      1933-05-17              S    Charles   Berrier     0_10282   \n",
       "19653    1933-05-17              S    Charles   Berrier     0_10282   \n",
       "20062    1932-12-07              S    Charles   Berrier     0_15159   \n",
       "\n",
       "               ssn event_date event_type  \n",
       "249    867-26-2008 1932-12-07   creation  \n",
       "269    244-08-0619 1933-05-17   creation  \n",
       "19653  244-08-0619 2021-01-06      death  \n",
       "20062  867-26-2008 2021-11-10      death  "
      ]
     },
     "execution_count": 44,
     "metadata": {},
     "output_type": "execute_result"
    }
   ],
   "source": [
    "# Weird that this would be the name with two people in it! Though it makes sense that it's an old-timey one,\n",
    "# since that increases the chance of having a death record\n",
    "df_ssa[(df_ssa.first_name + ' ' + df_ssa.middle_initial + ' ' + df_ssa.last_name) == 'Charles S Berrier']"
   ]
  },
  {
   "cell_type": "code",
   "execution_count": 45,
   "id": "e02dceff-cef2-4621-91cc-5d5b03747bb7",
   "metadata": {
    "tags": []
   },
   "outputs": [
    {
     "data": {
      "text/html": [
       "<div>\n",
       "<style scoped>\n",
       "    .dataframe tbody tr th:only-of-type {\n",
       "        vertical-align: middle;\n",
       "    }\n",
       "\n",
       "    .dataframe tbody tr th {\n",
       "        vertical-align: top;\n",
       "    }\n",
       "\n",
       "    .dataframe thead th {\n",
       "        text-align: right;\n",
       "    }\n",
       "</style>\n",
       "<table border=\"1\" class=\"dataframe\">\n",
       "  <thead>\n",
       "    <tr style=\"text-align: right;\">\n",
       "      <th></th>\n",
       "      <th>street_number</th>\n",
       "      <th>middle_initial</th>\n",
       "      <th>last_name</th>\n",
       "      <th>sex</th>\n",
       "      <th>guardian_1</th>\n",
       "      <th>year</th>\n",
       "      <th>housing_type</th>\n",
       "      <th>city</th>\n",
       "      <th>race_ethnicity</th>\n",
       "      <th>relation_to_household_head</th>\n",
       "      <th>age</th>\n",
       "      <th>unit_number</th>\n",
       "      <th>date_of_birth</th>\n",
       "      <th>first_name</th>\n",
       "      <th>street_name</th>\n",
       "      <th>simulant_id</th>\n",
       "      <th>guardian_2</th>\n",
       "      <th>zipcode</th>\n",
       "      <th>state</th>\n",
       "    </tr>\n",
       "  </thead>\n",
       "  <tbody>\n",
       "    <tr>\n",
       "      <th>17835</th>\n",
       "      <td>108</td>\n",
       "      <td>S</td>\n",
       "      <td>Berrier</td>\n",
       "      <td>Male</td>\n",
       "      <td>0_-1</td>\n",
       "      <td>2020</td>\n",
       "      <td>Standard</td>\n",
       "      <td>Anytown</td>\n",
       "      <td>White</td>\n",
       "      <td>Reference person</td>\n",
       "      <td>86</td>\n",
       "      <td></td>\n",
       "      <td>1933-05-17</td>\n",
       "      <td>Charles</td>\n",
       "      <td>n nob hill rd</td>\n",
       "      <td>0_10282</td>\n",
       "      <td>0_-1</td>\n",
       "      <td>99999</td>\n",
       "      <td>US</td>\n",
       "    </tr>\n",
       "    <tr>\n",
       "      <th>18562</th>\n",
       "      <td>6625</td>\n",
       "      <td>S</td>\n",
       "      <td>Berrier</td>\n",
       "      <td>Male</td>\n",
       "      <td>0_-1</td>\n",
       "      <td>2020</td>\n",
       "      <td>Standard</td>\n",
       "      <td>Anytown</td>\n",
       "      <td>White</td>\n",
       "      <td>Opp-sex spouse</td>\n",
       "      <td>87</td>\n",
       "      <td></td>\n",
       "      <td>1932-12-07</td>\n",
       "      <td>Charles</td>\n",
       "      <td>moriches rd</td>\n",
       "      <td>0_15159</td>\n",
       "      <td>0_-1</td>\n",
       "      <td>99999</td>\n",
       "      <td>US</td>\n",
       "    </tr>\n",
       "  </tbody>\n",
       "</table>\n",
       "</div>"
      ],
      "text/plain": [
       "      street_number middle_initial last_name   sex guardian_1  year  \\\n",
       "17835           108              S   Berrier  Male       0_-1  2020   \n",
       "18562          6625              S   Berrier  Male       0_-1  2020   \n",
       "\n",
       "      housing_type     city race_ethnicity relation_to_household_head  age  \\\n",
       "17835     Standard  Anytown          White           Reference person   86   \n",
       "18562     Standard  Anytown          White             Opp-sex spouse   87   \n",
       "\n",
       "      unit_number date_of_birth first_name    street_name simulant_id  \\\n",
       "17835                1933-05-17    Charles  n nob hill rd     0_10282   \n",
       "18562                1932-12-07    Charles    moriches rd     0_15159   \n",
       "\n",
       "      guardian_2 zipcode state  \n",
       "17835       0_-1   99999    US  \n",
       "18562       0_-1   99999    US  "
      ]
     },
     "execution_count": 45,
     "metadata": {},
     "output_type": "execute_result"
    }
   ],
   "source": [
    "df_census[(df_census.first_name + ' ' + df_census.middle_initial + ' ' + df_census.last_name) == 'Charles S Berrier']"
   ]
  },
  {
   "cell_type": "code",
   "execution_count": 46,
   "id": "10398722-a606-47d2-8423-f7eb04bfd988",
   "metadata": {
    "tags": []
   },
   "outputs": [
    {
     "data": {
      "text/plain": [
       "<AxesSubplot:>"
      ]
     },
     "execution_count": 46,
     "metadata": {},
     "output_type": "execute_result"
    },
    {
     "data": {
      "image/png": "[encoded data removed]",
      "text/plain": [
       "<Figure size 640x480 with 1 Axes>"
      ]
     },
     "metadata": {},
     "output_type": "display_data"
    }
   ],
   "source": [
    "df_ssa[df_ssa.event_type == 'creation'].date_of_birth.hist(bins=50)"
   ]
  },
  {
   "cell_type": "code",
   "execution_count": 47,
   "id": "d229f3f9-f461-4535-a217-b8003b37865e",
   "metadata": {
    "tags": []
   },
   "outputs": [
    {
     "data": {
      "text/html": [
       "<div>\n",
       "<style scoped>\n",
       "    .dataframe tbody tr th:only-of-type {\n",
       "        vertical-align: middle;\n",
       "    }\n",
       "\n",
       "    .dataframe tbody tr th {\n",
       "        vertical-align: top;\n",
       "    }\n",
       "\n",
       "    .dataframe thead th {\n",
       "        text-align: right;\n",
       "    }\n",
       "</style>\n",
       "<table border=\"1\" class=\"dataframe\">\n",
       "  <thead>\n",
       "    <tr style=\"text-align: right;\">\n",
       "      <th></th>\n",
       "      <th>date_of_birth</th>\n",
       "      <th>middle_initial</th>\n",
       "      <th>first_name</th>\n",
       "      <th>last_name</th>\n",
       "      <th>simulant_id</th>\n",
       "      <th>ssn</th>\n",
       "      <th>event_date</th>\n",
       "      <th>event_type</th>\n",
       "    </tr>\n",
       "  </thead>\n",
       "  <tbody>\n",
       "    <tr>\n",
       "      <th>19328</th>\n",
       "      <td>1965-01-30</td>\n",
       "      <td>S</td>\n",
       "      <td>Yvonne</td>\n",
       "      <td>Roll</td>\n",
       "      <td>0_20062</td>\n",
       "      <td>373-20-1671</td>\n",
       "      <td>2020-04-29</td>\n",
       "      <td>creation</td>\n",
       "    </tr>\n",
       "    <tr>\n",
       "      <th>19329</th>\n",
       "      <td>1965-07-09</td>\n",
       "      <td>T</td>\n",
       "      <td>George</td>\n",
       "      <td>Roll</td>\n",
       "      <td>0_20061</td>\n",
       "      <td>178-31-2910</td>\n",
       "      <td>2020-04-29</td>\n",
       "      <td>creation</td>\n",
       "    </tr>\n",
       "    <tr>\n",
       "      <th>19334</th>\n",
       "      <td>1993-04-30</td>\n",
       "      <td>B</td>\n",
       "      <td>Matthew</td>\n",
       "      <td>Colorado</td>\n",
       "      <td>0_20059</td>\n",
       "      <td>669-50-4221</td>\n",
       "      <td>2020-04-29</td>\n",
       "      <td>creation</td>\n",
       "    </tr>\n",
       "    <tr>\n",
       "      <th>19335</th>\n",
       "      <td>1998-07-26</td>\n",
       "      <td>E</td>\n",
       "      <td>Christofer</td>\n",
       "      <td>Gullette</td>\n",
       "      <td>0_20063</td>\n",
       "      <td>886-58-4150</td>\n",
       "      <td>2020-04-29</td>\n",
       "      <td>creation</td>\n",
       "    </tr>\n",
       "    <tr>\n",
       "      <th>19337</th>\n",
       "      <td>2018-07-03</td>\n",
       "      <td>E</td>\n",
       "      <td>Caleb</td>\n",
       "      <td>Hill</td>\n",
       "      <td>0_20057</td>\n",
       "      <td>162-67-5008</td>\n",
       "      <td>2020-04-29</td>\n",
       "      <td>creation</td>\n",
       "    </tr>\n",
       "    <tr>\n",
       "      <th>...</th>\n",
       "      <td>...</td>\n",
       "      <td>...</td>\n",
       "      <td>...</td>\n",
       "      <td>...</td>\n",
       "      <td>...</td>\n",
       "      <td>...</td>\n",
       "      <td>...</td>\n",
       "      <td>...</td>\n",
       "    </tr>\n",
       "    <tr>\n",
       "      <th>24572</th>\n",
       "      <td>2030-03-25</td>\n",
       "      <td>A</td>\n",
       "      <td>Eevee</td>\n",
       "      <td>Speer</td>\n",
       "      <td>0_23427</td>\n",
       "      <td>268-47-9256</td>\n",
       "      <td>2030-03-20</td>\n",
       "      <td>creation</td>\n",
       "    </tr>\n",
       "    <tr>\n",
       "      <th>24574</th>\n",
       "      <td>2030-03-30</td>\n",
       "      <td>J</td>\n",
       "      <td>Lily</td>\n",
       "      <td>Stibbe</td>\n",
       "      <td>0_23424</td>\n",
       "      <td>214-16-7088</td>\n",
       "      <td>2030-03-20</td>\n",
       "      <td>creation</td>\n",
       "    </tr>\n",
       "    <tr>\n",
       "      <th>24575</th>\n",
       "      <td>2030-03-31</td>\n",
       "      <td>M</td>\n",
       "      <td>Alani</td>\n",
       "      <td>Andrade</td>\n",
       "      <td>0_23415</td>\n",
       "      <td>193-80-5960</td>\n",
       "      <td>2030-03-20</td>\n",
       "      <td>creation</td>\n",
       "    </tr>\n",
       "    <tr>\n",
       "      <th>24576</th>\n",
       "      <td>2030-04-01</td>\n",
       "      <td>A</td>\n",
       "      <td>Olivia</td>\n",
       "      <td>Moles</td>\n",
       "      <td>0_23419</td>\n",
       "      <td>742-47-6307</td>\n",
       "      <td>2030-03-20</td>\n",
       "      <td>creation</td>\n",
       "    </tr>\n",
       "    <tr>\n",
       "      <th>24577</th>\n",
       "      <td>2030-04-02</td>\n",
       "      <td>M</td>\n",
       "      <td>Ava</td>\n",
       "      <td>Lint</td>\n",
       "      <td>0_23426</td>\n",
       "      <td>424-75-4102</td>\n",
       "      <td>2030-03-20</td>\n",
       "      <td>creation</td>\n",
       "    </tr>\n",
       "  </tbody>\n",
       "</table>\n",
       "<p>1872 rows × 8 columns</p>\n",
       "</div>"
      ],
      "text/plain": [
       "      date_of_birth middle_initial  first_name last_name simulant_id  \\\n",
       "19328    1965-01-30              S      Yvonne      Roll     0_20062   \n",
       "19329    1965-07-09              T      George      Roll     0_20061   \n",
       "19334    1993-04-30              B     Matthew  Colorado     0_20059   \n",
       "19335    1998-07-26              E  Christofer  Gullette     0_20063   \n",
       "19337    2018-07-03              E       Caleb      Hill     0_20057   \n",
       "...             ...            ...         ...       ...         ...   \n",
       "24572    2030-03-25              A       Eevee     Speer     0_23427   \n",
       "24574    2030-03-30              J        Lily    Stibbe     0_23424   \n",
       "24575    2030-03-31              M       Alani   Andrade     0_23415   \n",
       "24576    2030-04-01              A      Olivia     Moles     0_23419   \n",
       "24577    2030-04-02              M         Ava      Lint     0_23426   \n",
       "\n",
       "               ssn event_date event_type  \n",
       "19328  373-20-1671 2020-04-29   creation  \n",
       "19329  178-31-2910 2020-04-29   creation  \n",
       "19334  669-50-4221 2020-04-29   creation  \n",
       "19335  886-58-4150 2020-04-29   creation  \n",
       "19337  162-67-5008 2020-04-29   creation  \n",
       "...            ...        ...        ...  \n",
       "24572  268-47-9256 2030-03-20   creation  \n",
       "24574  214-16-7088 2030-03-20   creation  \n",
       "24575  193-80-5960 2030-03-20   creation  \n",
       "24576  742-47-6307 2030-03-20   creation  \n",
       "24577  424-75-4102 2030-03-20   creation  \n",
       "\n",
       "[1872 rows x 8 columns]"
      ]
     },
     "execution_count": 47,
     "metadata": {},
     "output_type": "execute_result"
    }
   ],
   "source": [
    "# Immigrants\n",
    "df_ssa[df_ssa.event_type == 'creation'][df_ssa[df_ssa.event_type == 'creation'].event_date != df_ssa[df_ssa.event_type == 'creation'].date_of_birth]"
   ]
  },
  {
   "cell_type": "markdown",
   "id": "de30875f-15cf-46d2-a224-29a245591ea0",
   "metadata": {},
   "source": [
    "# 1040"
   ]
  },
  {
   "cell_type": "code",
   "execution_count": 48,
   "id": "fdcb8053-4931-4cd7-ac3a-7fba4b19275f",
   "metadata": {
    "tags": []
   },
   "outputs": [
    {
     "name": "stdout",
     "output_type": "stream",
     "text": [
      "CPU times: user 1.96 s, sys: 171 ms, total: 2.13 s\n",
      "Wall time: 2.14 s\n"
     ]
    },
    {
     "data": {
      "text/html": [
       "<div>\n",
       "<style scoped>\n",
       "    .dataframe tbody tr th:only-of-type {\n",
       "        vertical-align: middle;\n",
       "    }\n",
       "\n",
       "    .dataframe tbody tr th {\n",
       "        vertical-align: top;\n",
       "    }\n",
       "\n",
       "    .dataframe thead th {\n",
       "        text-align: right;\n",
       "    }\n",
       "</style>\n",
       "<table border=\"1\" class=\"dataframe\">\n",
       "  <thead>\n",
       "    <tr style=\"text-align: right;\">\n",
       "      <th></th>\n",
       "      <th>mailing_address_unit_number</th>\n",
       "      <th>middle_initial</th>\n",
       "      <th>last_name</th>\n",
       "      <th>mailing_address_street_number</th>\n",
       "      <th>mailing_address_city</th>\n",
       "      <th>mailing_address_state</th>\n",
       "      <th>housing_type</th>\n",
       "      <th>mailing_address_zipcode</th>\n",
       "      <th>age</th>\n",
       "      <th>date_of_birth</th>\n",
       "      <th>first_name</th>\n",
       "      <th>mailing_address_street_name</th>\n",
       "      <th>mailing_address_po_box</th>\n",
       "      <th>joint_filer</th>\n",
       "      <th>simulant_id</th>\n",
       "      <th>ssn</th>\n",
       "      <th>tax_year</th>\n",
       "      <th>itin</th>\n",
       "    </tr>\n",
       "  </thead>\n",
       "  <tbody>\n",
       "    <tr>\n",
       "      <th>0</th>\n",
       "      <td></td>\n",
       "      <td>M</td>\n",
       "      <td>Shipp</td>\n",
       "      <td>1312</td>\n",
       "      <td>Anytown</td>\n",
       "      <td>US</td>\n",
       "      <td>Standard</td>\n",
       "      <td>99999</td>\n",
       "      <td>76</td>\n",
       "      <td>1944-03-23</td>\n",
       "      <td>Maureen</td>\n",
       "      <td>commonwealth avnue</td>\n",
       "      <td>0</td>\n",
       "      <td>False</td>\n",
       "      <td>0_4</td>\n",
       "      <td>828-99-4653</td>\n",
       "      <td>2019</td>\n",
       "      <td>NaN</td>\n",
       "    </tr>\n",
       "    <tr>\n",
       "      <th>1</th>\n",
       "      <td></td>\n",
       "      <td>N</td>\n",
       "      <td>Shipp</td>\n",
       "      <td>1312</td>\n",
       "      <td>Anytown</td>\n",
       "      <td>US</td>\n",
       "      <td>Standard</td>\n",
       "      <td>99999</td>\n",
       "      <td>69</td>\n",
       "      <td>1951-03-05</td>\n",
       "      <td>Richard</td>\n",
       "      <td>commonwealth avnue</td>\n",
       "      <td>0</td>\n",
       "      <td>True</td>\n",
       "      <td>0_5</td>\n",
       "      <td>885-38-0858</td>\n",
       "      <td>2019</td>\n",
       "      <td>NaN</td>\n",
       "    </tr>\n",
       "    <tr>\n",
       "      <th>2</th>\n",
       "      <td></td>\n",
       "      <td>C</td>\n",
       "      <td>Holt</td>\n",
       "      <td>46</td>\n",
       "      <td>Anytown</td>\n",
       "      <td>US</td>\n",
       "      <td>Standard</td>\n",
       "      <td>99999</td>\n",
       "      <td>66</td>\n",
       "      <td>1953-08-03</td>\n",
       "      <td>Darlene</td>\n",
       "      <td>bancroft st</td>\n",
       "      <td>0</td>\n",
       "      <td>False</td>\n",
       "      <td>0_2464</td>\n",
       "      <td>584-19-7087</td>\n",
       "      <td>2019</td>\n",
       "      <td>NaN</td>\n",
       "    </tr>\n",
       "    <tr>\n",
       "      <th>3</th>\n",
       "      <td></td>\n",
       "      <td>S</td>\n",
       "      <td>Holt</td>\n",
       "      <td>9112</td>\n",
       "      <td>Anytown</td>\n",
       "      <td>US</td>\n",
       "      <td>Standard</td>\n",
       "      <td>99999</td>\n",
       "      <td>42</td>\n",
       "      <td>1977-05-22</td>\n",
       "      <td>Tabatha</td>\n",
       "      <td>janis ne</td>\n",
       "      <td>0</td>\n",
       "      <td>False</td>\n",
       "      <td>0_3558</td>\n",
       "      <td>813-32-2963</td>\n",
       "      <td>2019</td>\n",
       "      <td>NaN</td>\n",
       "    </tr>\n",
       "    <tr>\n",
       "      <th>4</th>\n",
       "      <td></td>\n",
       "      <td>M</td>\n",
       "      <td>Holt</td>\n",
       "      <td>9112</td>\n",
       "      <td>Anytown</td>\n",
       "      <td>US</td>\n",
       "      <td>Standard</td>\n",
       "      <td>99999</td>\n",
       "      <td>25</td>\n",
       "      <td>1994-12-16</td>\n",
       "      <td>Alice</td>\n",
       "      <td>janis ne</td>\n",
       "      <td>0</td>\n",
       "      <td>False</td>\n",
       "      <td>0_3559</td>\n",
       "      <td>607-79-1610</td>\n",
       "      <td>2019</td>\n",
       "      <td>NaN</td>\n",
       "    </tr>\n",
       "    <tr>\n",
       "      <th>...</th>\n",
       "      <td>...</td>\n",
       "      <td>...</td>\n",
       "      <td>...</td>\n",
       "      <td>...</td>\n",
       "      <td>...</td>\n",
       "      <td>...</td>\n",
       "      <td>...</td>\n",
       "      <td>...</td>\n",
       "      <td>...</td>\n",
       "      <td>...</td>\n",
       "      <td>...</td>\n",
       "      <td>...</td>\n",
       "      <td>...</td>\n",
       "      <td>...</td>\n",
       "      <td>...</td>\n",
       "      <td>...</td>\n",
       "      <td>...</td>\n",
       "      <td>...</td>\n",
       "    </tr>\n",
       "    <tr>\n",
       "      <th>116312</th>\n",
       "      <td></td>\n",
       "      <td>B</td>\n",
       "      <td>Rubio</td>\n",
       "      <td>2569</td>\n",
       "      <td>Anytown</td>\n",
       "      <td>US</td>\n",
       "      <td>Standard</td>\n",
       "      <td>99999</td>\n",
       "      <td>13</td>\n",
       "      <td>2016-05-01</td>\n",
       "      <td>Michael</td>\n",
       "      <td>ocean avenue</td>\n",
       "      <td>0</td>\n",
       "      <td>False</td>\n",
       "      <td>0_12669</td>\n",
       "      <td>088-27-8587</td>\n",
       "      <td>2029</td>\n",
       "      <td>NaN</td>\n",
       "    </tr>\n",
       "    <tr>\n",
       "      <th>116313</th>\n",
       "      <td></td>\n",
       "      <td>K</td>\n",
       "      <td>Rubio</td>\n",
       "      <td>2569</td>\n",
       "      <td>Anytown</td>\n",
       "      <td>US</td>\n",
       "      <td>Standard</td>\n",
       "      <td>99999</td>\n",
       "      <td>27</td>\n",
       "      <td>2002-09-20</td>\n",
       "      <td>Alana</td>\n",
       "      <td>ocean avenue</td>\n",
       "      <td>0</td>\n",
       "      <td>False</td>\n",
       "      <td>0_12670</td>\n",
       "      <td>028-47-6626</td>\n",
       "      <td>2029</td>\n",
       "      <td>NaN</td>\n",
       "    </tr>\n",
       "    <tr>\n",
       "      <th>116314</th>\n",
       "      <td></td>\n",
       "      <td>C</td>\n",
       "      <td>Rubio</td>\n",
       "      <td>2569</td>\n",
       "      <td>Anytown</td>\n",
       "      <td>US</td>\n",
       "      <td>Standard</td>\n",
       "      <td>99999</td>\n",
       "      <td>26</td>\n",
       "      <td>2004-01-12</td>\n",
       "      <td>Emily</td>\n",
       "      <td>ocean avenue</td>\n",
       "      <td>0</td>\n",
       "      <td>False</td>\n",
       "      <td>0_12671</td>\n",
       "      <td>796-80-2013</td>\n",
       "      <td>2029</td>\n",
       "      <td>NaN</td>\n",
       "    </tr>\n",
       "    <tr>\n",
       "      <th>116315</th>\n",
       "      <td></td>\n",
       "      <td>B</td>\n",
       "      <td>Rubio</td>\n",
       "      <td>2569</td>\n",
       "      <td>Anytown</td>\n",
       "      <td>US</td>\n",
       "      <td>Standard</td>\n",
       "      <td>99999</td>\n",
       "      <td>9</td>\n",
       "      <td>2020-08-28</td>\n",
       "      <td>Joaquin</td>\n",
       "      <td>ocean avenue</td>\n",
       "      <td>0</td>\n",
       "      <td>False</td>\n",
       "      <td>0_20143</td>\n",
       "      <td>482-54-0254</td>\n",
       "      <td>2029</td>\n",
       "      <td>NaN</td>\n",
       "    </tr>\n",
       "    <tr>\n",
       "      <th>116316</th>\n",
       "      <td></td>\n",
       "      <td>K</td>\n",
       "      <td>Hughes</td>\n",
       "      <td>21</td>\n",
       "      <td>Anytown</td>\n",
       "      <td>US</td>\n",
       "      <td>Standard</td>\n",
       "      <td>99999</td>\n",
       "      <td>77</td>\n",
       "      <td>1952-10-15</td>\n",
       "      <td>Clyde</td>\n",
       "      <td>mammoth springs dr</td>\n",
       "      <td>0</td>\n",
       "      <td>False</td>\n",
       "      <td>0_18073</td>\n",
       "      <td>105-49-3492</td>\n",
       "      <td>2029</td>\n",
       "      <td>NaN</td>\n",
       "    </tr>\n",
       "  </tbody>\n",
       "</table>\n",
       "<p>116317 rows × 18 columns</p>\n",
       "</div>"
      ],
      "text/plain": [
       "       mailing_address_unit_number middle_initial last_name  \\\n",
       "0                                               M     Shipp   \n",
       "1                                               N     Shipp   \n",
       "2                                               C      Holt   \n",
       "3                                               S      Holt   \n",
       "4                                               M      Holt   \n",
       "...                            ...            ...       ...   \n",
       "116312                                          B     Rubio   \n",
       "116313                                          K     Rubio   \n",
       "116314                                          C     Rubio   \n",
       "116315                                          B     Rubio   \n",
       "116316                                          K    Hughes   \n",
       "\n",
       "       mailing_address_street_number mailing_address_city  \\\n",
       "0                               1312              Anytown   \n",
       "1                               1312              Anytown   \n",
       "2                                 46              Anytown   \n",
       "3                               9112              Anytown   \n",
       "4                               9112              Anytown   \n",
       "...                              ...                  ...   \n",
       "116312                          2569              Anytown   \n",
       "116313                          2569              Anytown   \n",
       "116314                          2569              Anytown   \n",
       "116315                          2569              Anytown   \n",
       "116316                            21              Anytown   \n",
       "\n",
       "       mailing_address_state housing_type mailing_address_zipcode  age  \\\n",
       "0                         US     Standard                   99999   76   \n",
       "1                         US     Standard                   99999   69   \n",
       "2                         US     Standard                   99999   66   \n",
       "3                         US     Standard                   99999   42   \n",
       "4                         US     Standard                   99999   25   \n",
       "...                      ...          ...                     ...  ...   \n",
       "116312                    US     Standard                   99999   13   \n",
       "116313                    US     Standard                   99999   27   \n",
       "116314                    US     Standard                   99999   26   \n",
       "116315                    US     Standard                   99999    9   \n",
       "116316                    US     Standard                   99999   77   \n",
       "\n",
       "       date_of_birth first_name mailing_address_street_name  \\\n",
       "0         1944-03-23    Maureen          commonwealth avnue   \n",
       "1         1951-03-05    Richard          commonwealth avnue   \n",
       "2         1953-08-03    Darlene                 bancroft st   \n",
       "3         1977-05-22    Tabatha                    janis ne   \n",
       "4         1994-12-16      Alice                    janis ne   \n",
       "...              ...        ...                         ...   \n",
       "116312    2016-05-01    Michael                ocean avenue   \n",
       "116313    2002-09-20      Alana                ocean avenue   \n",
       "116314    2004-01-12      Emily                ocean avenue   \n",
       "116315    2020-08-28    Joaquin                ocean avenue   \n",
       "116316    1952-10-15      Clyde          mammoth springs dr   \n",
       "\n",
       "        mailing_address_po_box  joint_filer simulant_id          ssn  \\\n",
       "0                            0        False         0_4  828-99-4653   \n",
       "1                            0         True         0_5  885-38-0858   \n",
       "2                            0        False      0_2464  584-19-7087   \n",
       "3                            0        False      0_3558  813-32-2963   \n",
       "4                            0        False      0_3559  607-79-1610   \n",
       "...                        ...          ...         ...          ...   \n",
       "116312                       0        False     0_12669  088-27-8587   \n",
       "116313                       0        False     0_12670  028-47-6626   \n",
       "116314                       0        False     0_12671  796-80-2013   \n",
       "116315                       0        False     0_20143  482-54-0254   \n",
       "116316                       0        False     0_18073  105-49-3492   \n",
       "\n",
       "        tax_year itin  \n",
       "0           2019  NaN  \n",
       "1           2019  NaN  \n",
       "2           2019  NaN  \n",
       "3           2019  NaN  \n",
       "4           2019  NaN  \n",
       "...          ...  ...  \n",
       "116312      2029  NaN  \n",
       "116313      2029  NaN  \n",
       "116314      2029  NaN  \n",
       "116315      2029  NaN  \n",
       "116316      2029  NaN  \n",
       "\n",
       "[116317 rows x 18 columns]"
      ]
     },
     "execution_count": 48,
     "metadata": {},
     "output_type": "execute_result"
    }
   ],
   "source": [
    "%%time\n",
    "\n",
    "df_1040 = pd.read_hdf(f'{output_dir}/tax_1040_observer/tax_1040_observer.hdf')\n",
    "df_1040"
   ]
  },
  {
   "cell_type": "code",
   "execution_count": 49,
   "id": "d5717c4d-96cb-41e3-9318-efd788dce825",
   "metadata": {
    "tags": []
   },
   "outputs": [
    {
     "data": {
      "text/plain": [
       "mailing_address_unit_number      False\n",
       "middle_initial                   False\n",
       "last_name                        False\n",
       "mailing_address_street_number    False\n",
       "mailing_address_city             False\n",
       "mailing_address_state            False\n",
       "housing_type                     False\n",
       "mailing_address_zipcode          False\n",
       "age                              False\n",
       "date_of_birth                    False\n",
       "first_name                       False\n",
       "mailing_address_street_name      False\n",
       "mailing_address_po_box           False\n",
       "joint_filer                      False\n",
       "simulant_id                      False\n",
       "ssn                               True\n",
       "tax_year                         False\n",
       "itin                              True\n",
       "dtype: bool"
      ]
     },
     "execution_count": 49,
     "metadata": {},
     "output_type": "execute_result"
    }
   ],
   "source": [
    "df_1040.isnull().any()"
   ]
  },
  {
   "cell_type": "code",
   "execution_count": 50,
   "id": "ab9e20fc-0a46-4660-8761-0d31103654ec",
   "metadata": {
    "tags": []
   },
   "outputs": [
    {
     "data": {
      "text/plain": [
       "0        112430\n",
       "18690        66\n",
       "11295        64\n",
       "411          61\n",
       "10270        55\n",
       "          ...  \n",
       "3062          1\n",
       "17194         1\n",
       "13250         1\n",
       "57            1\n",
       "14658         1\n",
       "Name: mailing_address_po_box, Length: 255, dtype: int64"
      ]
     },
     "execution_count": 50,
     "metadata": {},
     "output_type": "execute_result"
    }
   ],
   "source": [
    "df_1040.mailing_address_po_box.value_counts()"
   ]
  },
  {
   "cell_type": "code",
   "execution_count": 51,
   "id": "50a3c1a8-cf15-4212-b03b-c56e3251d816",
   "metadata": {
    "tags": []
   },
   "outputs": [
    {
     "data": {
      "text/html": [
       "<div>\n",
       "<style scoped>\n",
       "    .dataframe tbody tr th:only-of-type {\n",
       "        vertical-align: middle;\n",
       "    }\n",
       "\n",
       "    .dataframe tbody tr th {\n",
       "        vertical-align: top;\n",
       "    }\n",
       "\n",
       "    .dataframe thead th {\n",
       "        text-align: right;\n",
       "    }\n",
       "</style>\n",
       "<table border=\"1\" class=\"dataframe\">\n",
       "  <thead>\n",
       "    <tr style=\"text-align: right;\">\n",
       "      <th></th>\n",
       "      <th>mailing_address_unit_number</th>\n",
       "      <th>middle_initial</th>\n",
       "      <th>last_name</th>\n",
       "      <th>mailing_address_street_number</th>\n",
       "      <th>mailing_address_city</th>\n",
       "      <th>mailing_address_state</th>\n",
       "      <th>housing_type</th>\n",
       "      <th>mailing_address_zipcode</th>\n",
       "      <th>age</th>\n",
       "      <th>date_of_birth</th>\n",
       "      <th>first_name</th>\n",
       "      <th>mailing_address_street_name</th>\n",
       "      <th>mailing_address_po_box</th>\n",
       "      <th>joint_filer</th>\n",
       "      <th>simulant_id</th>\n",
       "      <th>ssn</th>\n",
       "      <th>tax_year</th>\n",
       "      <th>itin</th>\n",
       "    </tr>\n",
       "  </thead>\n",
       "  <tbody>\n",
       "    <tr>\n",
       "      <th>183</th>\n",
       "      <td></td>\n",
       "      <td>J</td>\n",
       "      <td>Hernandez</td>\n",
       "      <td>189-36</td>\n",
       "      <td>Anytown</td>\n",
       "      <td>US</td>\n",
       "      <td>Standard</td>\n",
       "      <td>99999</td>\n",
       "      <td>18</td>\n",
       "      <td>2001-11-17</td>\n",
       "      <td>Caroline</td>\n",
       "      <td>eagles nest tr</td>\n",
       "      <td>0</td>\n",
       "      <td>False</td>\n",
       "      <td>0_15581</td>\n",
       "      <td>NaN</td>\n",
       "      <td>2019</td>\n",
       "      <td>937-61-6268</td>\n",
       "    </tr>\n",
       "    <tr>\n",
       "      <th>198</th>\n",
       "      <td></td>\n",
       "      <td>J</td>\n",
       "      <td>Hernandez</td>\n",
       "      <td>189-36</td>\n",
       "      <td>Anytown</td>\n",
       "      <td>US</td>\n",
       "      <td>Standard</td>\n",
       "      <td>99999</td>\n",
       "      <td>19</td>\n",
       "      <td>2001-11-17</td>\n",
       "      <td>Caroline</td>\n",
       "      <td>eagles nest tr</td>\n",
       "      <td>0</td>\n",
       "      <td>False</td>\n",
       "      <td>0_15581</td>\n",
       "      <td>NaN</td>\n",
       "      <td>2020</td>\n",
       "      <td>937-61-6268</td>\n",
       "    </tr>\n",
       "    <tr>\n",
       "      <th>213</th>\n",
       "      <td></td>\n",
       "      <td>J</td>\n",
       "      <td>Hernandez</td>\n",
       "      <td>189-36</td>\n",
       "      <td>Anytown</td>\n",
       "      <td>US</td>\n",
       "      <td>Standard</td>\n",
       "      <td>99999</td>\n",
       "      <td>20</td>\n",
       "      <td>2001-11-17</td>\n",
       "      <td>Caroline</td>\n",
       "      <td>eagles nest tr</td>\n",
       "      <td>0</td>\n",
       "      <td>False</td>\n",
       "      <td>0_15581</td>\n",
       "      <td>NaN</td>\n",
       "      <td>2021</td>\n",
       "      <td>937-61-6268</td>\n",
       "    </tr>\n",
       "    <tr>\n",
       "      <th>228</th>\n",
       "      <td></td>\n",
       "      <td>J</td>\n",
       "      <td>Hernandez</td>\n",
       "      <td>189-36</td>\n",
       "      <td>Anytown</td>\n",
       "      <td>US</td>\n",
       "      <td>Standard</td>\n",
       "      <td>99999</td>\n",
       "      <td>21</td>\n",
       "      <td>2001-11-17</td>\n",
       "      <td>Caroline</td>\n",
       "      <td>eagles nest tr</td>\n",
       "      <td>0</td>\n",
       "      <td>False</td>\n",
       "      <td>0_15581</td>\n",
       "      <td>NaN</td>\n",
       "      <td>2022</td>\n",
       "      <td>937-61-6268</td>\n",
       "    </tr>\n",
       "    <tr>\n",
       "      <th>243</th>\n",
       "      <td></td>\n",
       "      <td>J</td>\n",
       "      <td>Hernandez</td>\n",
       "      <td>189-36</td>\n",
       "      <td>Anytown</td>\n",
       "      <td>US</td>\n",
       "      <td>Standard</td>\n",
       "      <td>99999</td>\n",
       "      <td>22</td>\n",
       "      <td>2001-11-17</td>\n",
       "      <td>Caroline</td>\n",
       "      <td>eagles nest tr</td>\n",
       "      <td>0</td>\n",
       "      <td>False</td>\n",
       "      <td>0_15581</td>\n",
       "      <td>NaN</td>\n",
       "      <td>2023</td>\n",
       "      <td>937-61-6268</td>\n",
       "    </tr>\n",
       "    <tr>\n",
       "      <th>...</th>\n",
       "      <td>...</td>\n",
       "      <td>...</td>\n",
       "      <td>...</td>\n",
       "      <td>...</td>\n",
       "      <td>...</td>\n",
       "      <td>...</td>\n",
       "      <td>...</td>\n",
       "      <td>...</td>\n",
       "      <td>...</td>\n",
       "      <td>...</td>\n",
       "      <td>...</td>\n",
       "      <td>...</td>\n",
       "      <td>...</td>\n",
       "      <td>...</td>\n",
       "      <td>...</td>\n",
       "      <td>...</td>\n",
       "      <td>...</td>\n",
       "      <td>...</td>\n",
       "    </tr>\n",
       "    <tr>\n",
       "      <th>116146</th>\n",
       "      <td></td>\n",
       "      <td>E</td>\n",
       "      <td>Olmeda</td>\n",
       "      <td>1762</td>\n",
       "      <td>Anytown</td>\n",
       "      <td>US</td>\n",
       "      <td>Standard</td>\n",
       "      <td>99999</td>\n",
       "      <td>30</td>\n",
       "      <td>1998-12-19</td>\n",
       "      <td>Zachary</td>\n",
       "      <td>prairie rn street</td>\n",
       "      <td>0</td>\n",
       "      <td>False</td>\n",
       "      <td>0_21077</td>\n",
       "      <td>NaN</td>\n",
       "      <td>2028</td>\n",
       "      <td>957-70-1302</td>\n",
       "    </tr>\n",
       "    <tr>\n",
       "      <th>116149</th>\n",
       "      <td></td>\n",
       "      <td>E</td>\n",
       "      <td>Olmeda</td>\n",
       "      <td>1762</td>\n",
       "      <td>Anytown</td>\n",
       "      <td>US</td>\n",
       "      <td>Standard</td>\n",
       "      <td>99999</td>\n",
       "      <td>31</td>\n",
       "      <td>1998-12-19</td>\n",
       "      <td>Zachary</td>\n",
       "      <td>prairie rn street</td>\n",
       "      <td>0</td>\n",
       "      <td>False</td>\n",
       "      <td>0_21077</td>\n",
       "      <td>NaN</td>\n",
       "      <td>2029</td>\n",
       "      <td>957-70-1302</td>\n",
       "    </tr>\n",
       "    <tr>\n",
       "      <th>116278</th>\n",
       "      <td></td>\n",
       "      <td>J</td>\n",
       "      <td>Gonzalez</td>\n",
       "      <td>11934</td>\n",
       "      <td>Anytown</td>\n",
       "      <td>US</td>\n",
       "      <td>Standard</td>\n",
       "      <td>99999</td>\n",
       "      <td>65</td>\n",
       "      <td>1962-04-19</td>\n",
       "      <td>Eileen</td>\n",
       "      <td>main st w</td>\n",
       "      <td>0</td>\n",
       "      <td>False</td>\n",
       "      <td>0_17283</td>\n",
       "      <td>NaN</td>\n",
       "      <td>2027</td>\n",
       "      <td>997-92-3575</td>\n",
       "    </tr>\n",
       "    <tr>\n",
       "      <th>116287</th>\n",
       "      <td></td>\n",
       "      <td>J</td>\n",
       "      <td>Gonzalez</td>\n",
       "      <td>11934</td>\n",
       "      <td>Anytown</td>\n",
       "      <td>US</td>\n",
       "      <td>Standard</td>\n",
       "      <td>99999</td>\n",
       "      <td>66</td>\n",
       "      <td>1962-04-19</td>\n",
       "      <td>Eileen</td>\n",
       "      <td>main st w</td>\n",
       "      <td>0</td>\n",
       "      <td>False</td>\n",
       "      <td>0_17283</td>\n",
       "      <td>NaN</td>\n",
       "      <td>2028</td>\n",
       "      <td>997-92-3575</td>\n",
       "    </tr>\n",
       "    <tr>\n",
       "      <th>116297</th>\n",
       "      <td></td>\n",
       "      <td>J</td>\n",
       "      <td>Gonzalez</td>\n",
       "      <td>11934</td>\n",
       "      <td>Anytown</td>\n",
       "      <td>US</td>\n",
       "      <td>Standard</td>\n",
       "      <td>99999</td>\n",
       "      <td>67</td>\n",
       "      <td>1962-04-19</td>\n",
       "      <td>Eileen</td>\n",
       "      <td>main st w</td>\n",
       "      <td>0</td>\n",
       "      <td>False</td>\n",
       "      <td>0_17283</td>\n",
       "      <td>NaN</td>\n",
       "      <td>2029</td>\n",
       "      <td>997-92-3575</td>\n",
       "    </tr>\n",
       "  </tbody>\n",
       "</table>\n",
       "<p>4127 rows × 18 columns</p>\n",
       "</div>"
      ],
      "text/plain": [
       "       mailing_address_unit_number middle_initial  last_name  \\\n",
       "183                                             J  Hernandez   \n",
       "198                                             J  Hernandez   \n",
       "213                                             J  Hernandez   \n",
       "228                                             J  Hernandez   \n",
       "243                                             J  Hernandez   \n",
       "...                            ...            ...        ...   \n",
       "116146                                          E     Olmeda   \n",
       "116149                                          E     Olmeda   \n",
       "116278                                          J   Gonzalez   \n",
       "116287                                          J   Gonzalez   \n",
       "116297                                          J   Gonzalez   \n",
       "\n",
       "       mailing_address_street_number mailing_address_city  \\\n",
       "183                           189-36              Anytown   \n",
       "198                           189-36              Anytown   \n",
       "213                           189-36              Anytown   \n",
       "228                           189-36              Anytown   \n",
       "243                           189-36              Anytown   \n",
       "...                              ...                  ...   \n",
       "116146                          1762              Anytown   \n",
       "116149                          1762              Anytown   \n",
       "116278                         11934              Anytown   \n",
       "116287                         11934              Anytown   \n",
       "116297                         11934              Anytown   \n",
       "\n",
       "       mailing_address_state housing_type mailing_address_zipcode  age  \\\n",
       "183                       US     Standard                   99999   18   \n",
       "198                       US     Standard                   99999   19   \n",
       "213                       US     Standard                   99999   20   \n",
       "228                       US     Standard                   99999   21   \n",
       "243                       US     Standard                   99999   22   \n",
       "...                      ...          ...                     ...  ...   \n",
       "116146                    US     Standard                   99999   30   \n",
       "116149                    US     Standard                   99999   31   \n",
       "116278                    US     Standard                   99999   65   \n",
       "116287                    US     Standard                   99999   66   \n",
       "116297                    US     Standard                   99999   67   \n",
       "\n",
       "       date_of_birth first_name mailing_address_street_name  \\\n",
       "183       2001-11-17   Caroline              eagles nest tr   \n",
       "198       2001-11-17   Caroline              eagles nest tr   \n",
       "213       2001-11-17   Caroline              eagles nest tr   \n",
       "228       2001-11-17   Caroline              eagles nest tr   \n",
       "243       2001-11-17   Caroline              eagles nest tr   \n",
       "...              ...        ...                         ...   \n",
       "116146    1998-12-19    Zachary           prairie rn street   \n",
       "116149    1998-12-19    Zachary           prairie rn street   \n",
       "116278    1962-04-19     Eileen                   main st w   \n",
       "116287    1962-04-19     Eileen                   main st w   \n",
       "116297    1962-04-19     Eileen                   main st w   \n",
       "\n",
       "        mailing_address_po_box  joint_filer simulant_id  ssn  tax_year  \\\n",
       "183                          0        False     0_15581  NaN      2019   \n",
       "198                          0        False     0_15581  NaN      2020   \n",
       "213                          0        False     0_15581  NaN      2021   \n",
       "228                          0        False     0_15581  NaN      2022   \n",
       "243                          0        False     0_15581  NaN      2023   \n",
       "...                        ...          ...         ...  ...       ...   \n",
       "116146                       0        False     0_21077  NaN      2028   \n",
       "116149                       0        False     0_21077  NaN      2029   \n",
       "116278                       0        False     0_17283  NaN      2027   \n",
       "116287                       0        False     0_17283  NaN      2028   \n",
       "116297                       0        False     0_17283  NaN      2029   \n",
       "\n",
       "               itin  \n",
       "183     937-61-6268  \n",
       "198     937-61-6268  \n",
       "213     937-61-6268  \n",
       "228     937-61-6268  \n",
       "243     937-61-6268  \n",
       "...             ...  \n",
       "116146  957-70-1302  \n",
       "116149  957-70-1302  \n",
       "116278  997-92-3575  \n",
       "116287  997-92-3575  \n",
       "116297  997-92-3575  \n",
       "\n",
       "[4127 rows x 18 columns]"
      ]
     },
     "execution_count": 51,
     "metadata": {},
     "output_type": "execute_result"
    }
   ],
   "source": [
    "df_1040[df_1040.itin.notnull()]"
   ]
  },
  {
   "cell_type": "code",
   "execution_count": 52,
   "id": "1711ea8d-a96e-47d9-af24-9022a3f5d1cb",
   "metadata": {
    "tags": []
   },
   "outputs": [],
   "source": [
    "assert df_1040[df_1040.itin.notnull()].ssn.isnull().all()"
   ]
  },
  {
   "cell_type": "code",
   "execution_count": 53,
   "id": "db948e67-6953-4377-ac6b-a48625fb5fb4",
   "metadata": {
    "tags": []
   },
   "outputs": [],
   "source": [
    "assert (df_1040.mailing_address_city == 'Anytown').all()\n",
    "assert (df_1040.mailing_address_state == 'US').all()\n",
    "assert (df_1040.mailing_address_zipcode == '99999').all()"
   ]
  },
  {
   "cell_type": "markdown",
   "id": "c8669a5b-484a-41ce-ad03-2bf289e72d46",
   "metadata": {},
   "source": [
    "## Overlap between consecutive tax years"
   ]
  },
  {
   "cell_type": "code",
   "execution_count": 54,
   "id": "4490a33f-769f-42ee-b397-21add43960e8",
   "metadata": {
    "tags": []
   },
   "outputs": [
    {
     "data": {
      "text/plain": [
       "2029    11160\n",
       "2028    11063\n",
       "2027    10974\n",
       "2026    10860\n",
       "2025    10735\n",
       "2024    10525\n",
       "2023    10381\n",
       "2022    10337\n",
       "2021    10213\n",
       "2020    10083\n",
       "2019     9986\n",
       "Name: tax_year, dtype: int64"
      ]
     },
     "execution_count": 54,
     "metadata": {},
     "output_type": "execute_result"
    }
   ],
   "source": [
    "df_1040.tax_year.value_counts(dropna=False)"
   ]
  },
  {
   "cell_type": "code",
   "execution_count": 55,
   "id": "27ae130f-7173-4282-be21-8f3ba7b59565",
   "metadata": {
    "tags": []
   },
   "outputs": [
    {
     "data": {
      "text/plain": [
       "True     10429\n",
       "False      634\n",
       "Name: in_2027_taxes, dtype: int64"
      ]
     },
     "execution_count": 55,
     "metadata": {},
     "output_type": "execute_result"
    }
   ],
   "source": [
    "df_1040[df_1040.tax_year == 2028].assign(in_2027_taxes=lambda df: df.simulant_id.isin(df_1040[df_1040.tax_year == 2027].simulant_id)).in_2027_taxes.value_counts(dropna=False)"
   ]
  },
  {
   "cell_type": "markdown",
   "id": "0854c90e-dcb2-4c1d-8f72-0756a453b5ae",
   "metadata": {},
   "source": [
    "## Why does taxes have more rows than Census?\n",
    "\n",
    "I think because it is including people who have died, and does not implement the minimum income for filing (!)."
   ]
  },
  {
   "cell_type": "code",
   "execution_count": 56,
   "id": "a085164a-0733-4cd7-b4c3-95651bb41e5a",
   "metadata": {
    "tags": []
   },
   "outputs": [
    {
     "data": {
      "text/plain": [
       "True"
      ]
     },
     "execution_count": 56,
     "metadata": {},
     "output_type": "execute_result"
    }
   ],
   "source": [
    "df_1040[df_1040.tax_year == 2029].simulant_id.is_unique"
   ]
  },
  {
   "cell_type": "code",
   "execution_count": 57,
   "id": "0834f940-f7c7-488c-a479-cdca81b44856",
   "metadata": {
    "tags": []
   },
   "outputs": [
    {
     "data": {
      "text/plain": [
       "count    1185.000000\n",
       "mean     2024.378059\n",
       "std         2.894051\n",
       "min      2019.000000\n",
       "25%      2022.000000\n",
       "50%      2025.000000\n",
       "75%      2027.000000\n",
       "max      2030.000000\n",
       "dtype: float64"
      ]
     },
     "execution_count": 57,
     "metadata": {},
     "output_type": "execute_result"
    }
   ],
   "source": [
    "not_in_census = df_1040[(df_1040.tax_year == 2029) & (~df_1040.simulant_id.isin(df_census[df_census.year == 2030].simulant_id))]\n",
    "(pd.to_datetime(not_in_census.date_of_birth).dt.year + not_in_census.age).describe()"
   ]
  },
  {
   "cell_type": "markdown",
   "id": "d0bf6b65-3204-4b68-a61b-13867249f490",
   "metadata": {},
   "source": [
    "# Dependents"
   ]
  },
  {
   "cell_type": "code",
   "execution_count": 58,
   "id": "e97f5075-0289-42fa-b890-d12c275b47ea",
   "metadata": {
    "tags": []
   },
   "outputs": [
    {
     "name": "stdout",
     "output_type": "stream",
     "text": [
      "CPU times: user 668 ms, sys: 20.4 ms, total: 688 ms\n",
      "Wall time: 697 ms\n"
     ]
    },
    {
     "data": {
      "text/html": [
       "<div>\n",
       "<style scoped>\n",
       "    .dataframe tbody tr th:only-of-type {\n",
       "        vertical-align: middle;\n",
       "    }\n",
       "\n",
       "    .dataframe tbody tr th {\n",
       "        vertical-align: top;\n",
       "    }\n",
       "\n",
       "    .dataframe thead th {\n",
       "        text-align: right;\n",
       "    }\n",
       "</style>\n",
       "<table border=\"1\" class=\"dataframe\">\n",
       "  <thead>\n",
       "    <tr style=\"text-align: right;\">\n",
       "      <th></th>\n",
       "      <th>mailing_address_unit_number</th>\n",
       "      <th>middle_initial</th>\n",
       "      <th>last_name</th>\n",
       "      <th>sex</th>\n",
       "      <th>mailing_address_city</th>\n",
       "      <th>mailing_address_state</th>\n",
       "      <th>housing_type</th>\n",
       "      <th>mailing_address_zipcode</th>\n",
       "      <th>age</th>\n",
       "      <th>guardian_id</th>\n",
       "      <th>date_of_birth</th>\n",
       "      <th>first_name</th>\n",
       "      <th>mailing_address_street_name</th>\n",
       "      <th>mailing_address_po_box</th>\n",
       "      <th>simulant_id</th>\n",
       "      <th>ssn</th>\n",
       "      <th>tax_year</th>\n",
       "      <th>mailing_address_street_number</th>\n",
       "    </tr>\n",
       "  </thead>\n",
       "  <tbody>\n",
       "    <tr>\n",
       "      <th>0</th>\n",
       "      <td></td>\n",
       "      <td>C</td>\n",
       "      <td>Alvarado</td>\n",
       "      <td>Female</td>\n",
       "      <td>Anytown</td>\n",
       "      <td>US</td>\n",
       "      <td>Standard</td>\n",
       "      <td>99999</td>\n",
       "      <td>15</td>\n",
       "      <td>0_61</td>\n",
       "      <td>2005-07-03</td>\n",
       "      <td>Jessica</td>\n",
       "      <td>w altadena ave</td>\n",
       "      <td>0</td>\n",
       "      <td>0_64</td>\n",
       "      <td>248-44-4374</td>\n",
       "      <td>2020</td>\n",
       "      <td>2</td>\n",
       "    </tr>\n",
       "    <tr>\n",
       "      <th>1</th>\n",
       "      <td></td>\n",
       "      <td>I</td>\n",
       "      <td>Cruz</td>\n",
       "      <td>Female</td>\n",
       "      <td>Anytown</td>\n",
       "      <td>US</td>\n",
       "      <td>Standard</td>\n",
       "      <td>99999</td>\n",
       "      <td>17</td>\n",
       "      <td>0_15783</td>\n",
       "      <td>2003-06-03</td>\n",
       "      <td>Rachel</td>\n",
       "      <td>ringenberg dr</td>\n",
       "      <td>0</td>\n",
       "      <td>0_15785</td>\n",
       "      <td>449-66-9438</td>\n",
       "      <td>2020</td>\n",
       "      <td>1328</td>\n",
       "    </tr>\n",
       "    <tr>\n",
       "      <th>2</th>\n",
       "      <td></td>\n",
       "      <td>C</td>\n",
       "      <td>Alvarado</td>\n",
       "      <td>Female</td>\n",
       "      <td>Anytown</td>\n",
       "      <td>US</td>\n",
       "      <td>Standard</td>\n",
       "      <td>99999</td>\n",
       "      <td>15</td>\n",
       "      <td>0_62</td>\n",
       "      <td>2005-07-03</td>\n",
       "      <td>Jessica</td>\n",
       "      <td>w altadena ave</td>\n",
       "      <td>0</td>\n",
       "      <td>0_64</td>\n",
       "      <td>248-44-4374</td>\n",
       "      <td>2020</td>\n",
       "      <td>2</td>\n",
       "    </tr>\n",
       "    <tr>\n",
       "      <th>3</th>\n",
       "      <td></td>\n",
       "      <td>I</td>\n",
       "      <td>Cruz</td>\n",
       "      <td>Female</td>\n",
       "      <td>Anytown</td>\n",
       "      <td>US</td>\n",
       "      <td>Standard</td>\n",
       "      <td>99999</td>\n",
       "      <td>17</td>\n",
       "      <td>0_15784</td>\n",
       "      <td>2003-06-03</td>\n",
       "      <td>Rachel</td>\n",
       "      <td>ringenberg dr</td>\n",
       "      <td>0</td>\n",
       "      <td>0_15785</td>\n",
       "      <td>449-66-9438</td>\n",
       "      <td>2020</td>\n",
       "      <td>1328</td>\n",
       "    </tr>\n",
       "    <tr>\n",
       "      <th>4</th>\n",
       "      <td></td>\n",
       "      <td>C</td>\n",
       "      <td>Alvarado</td>\n",
       "      <td>Female</td>\n",
       "      <td>Anytown</td>\n",
       "      <td>US</td>\n",
       "      <td>Standard</td>\n",
       "      <td>99999</td>\n",
       "      <td>16</td>\n",
       "      <td>0_61</td>\n",
       "      <td>2005-07-03</td>\n",
       "      <td>Jessica</td>\n",
       "      <td>w altadena ave</td>\n",
       "      <td>0</td>\n",
       "      <td>0_64</td>\n",
       "      <td>248-44-4374</td>\n",
       "      <td>2021</td>\n",
       "      <td>2</td>\n",
       "    </tr>\n",
       "    <tr>\n",
       "      <th>...</th>\n",
       "      <td>...</td>\n",
       "      <td>...</td>\n",
       "      <td>...</td>\n",
       "      <td>...</td>\n",
       "      <td>...</td>\n",
       "      <td>...</td>\n",
       "      <td>...</td>\n",
       "      <td>...</td>\n",
       "      <td>...</td>\n",
       "      <td>...</td>\n",
       "      <td>...</td>\n",
       "      <td>...</td>\n",
       "      <td>...</td>\n",
       "      <td>...</td>\n",
       "      <td>...</td>\n",
       "      <td>...</td>\n",
       "      <td>...</td>\n",
       "      <td>...</td>\n",
       "    </tr>\n",
       "    <tr>\n",
       "      <th>39037</th>\n",
       "      <td></td>\n",
       "      <td>R</td>\n",
       "      <td>Countryman</td>\n",
       "      <td>Male</td>\n",
       "      <td>Anytown</td>\n",
       "      <td>US</td>\n",
       "      <td>Standard</td>\n",
       "      <td>99999</td>\n",
       "      <td>4</td>\n",
       "      <td>0_16833</td>\n",
       "      <td>2025-02-07</td>\n",
       "      <td>Beau</td>\n",
       "      <td>summer pl</td>\n",
       "      <td>0</td>\n",
       "      <td>0_21636</td>\n",
       "      <td>571-45-8323</td>\n",
       "      <td>2029</td>\n",
       "      <td>5805</td>\n",
       "    </tr>\n",
       "    <tr>\n",
       "      <th>39038</th>\n",
       "      <td></td>\n",
       "      <td>W</td>\n",
       "      <td>Countryman</td>\n",
       "      <td>Male</td>\n",
       "      <td>Anytown</td>\n",
       "      <td>US</td>\n",
       "      <td>Standard</td>\n",
       "      <td>99999</td>\n",
       "      <td>2</td>\n",
       "      <td>0_16833</td>\n",
       "      <td>2027-11-05</td>\n",
       "      <td>Noah</td>\n",
       "      <td>summer pl</td>\n",
       "      <td>0</td>\n",
       "      <td>0_22593</td>\n",
       "      <td>272-58-4297</td>\n",
       "      <td>2029</td>\n",
       "      <td>5805</td>\n",
       "    </tr>\n",
       "    <tr>\n",
       "      <th>39039</th>\n",
       "      <td></td>\n",
       "      <td>Y</td>\n",
       "      <td>Graham</td>\n",
       "      <td>Female</td>\n",
       "      <td>Anytown</td>\n",
       "      <td>US</td>\n",
       "      <td>Standard</td>\n",
       "      <td>99999</td>\n",
       "      <td>3</td>\n",
       "      <td>0_10571</td>\n",
       "      <td>2026-11-22</td>\n",
       "      <td>Scarlett</td>\n",
       "      <td>cross rd</td>\n",
       "      <td>0</td>\n",
       "      <td>0_22241</td>\n",
       "      <td>565-81-4441</td>\n",
       "      <td>2029</td>\n",
       "      <td>6313</td>\n",
       "    </tr>\n",
       "    <tr>\n",
       "      <th>39040</th>\n",
       "      <td></td>\n",
       "      <td>J</td>\n",
       "      <td>Howland</td>\n",
       "      <td>Female</td>\n",
       "      <td>Anytown</td>\n",
       "      <td>US</td>\n",
       "      <td>Standard</td>\n",
       "      <td>99999</td>\n",
       "      <td>0</td>\n",
       "      <td>0_22257</td>\n",
       "      <td>2029-04-03</td>\n",
       "      <td>Olive</td>\n",
       "      <td>miriam dr</td>\n",
       "      <td>0</td>\n",
       "      <td>0_23077</td>\n",
       "      <td>787-26-1454</td>\n",
       "      <td>2029</td>\n",
       "      <td>126</td>\n",
       "    </tr>\n",
       "    <tr>\n",
       "      <th>39041</th>\n",
       "      <td></td>\n",
       "      <td>W</td>\n",
       "      <td>Martinez-Marquez</td>\n",
       "      <td>Female</td>\n",
       "      <td>Anytown</td>\n",
       "      <td>US</td>\n",
       "      <td>Standard</td>\n",
       "      <td>99999</td>\n",
       "      <td>0</td>\n",
       "      <td>0_8282</td>\n",
       "      <td>2029-11-29</td>\n",
       "      <td>Olivia</td>\n",
       "      <td>cedar trce cv</td>\n",
       "      <td>0</td>\n",
       "      <td>0_23304</td>\n",
       "      <td>725-45-4340</td>\n",
       "      <td>2029</td>\n",
       "      <td>2518</td>\n",
       "    </tr>\n",
       "  </tbody>\n",
       "</table>\n",
       "<p>39042 rows × 18 columns</p>\n",
       "</div>"
      ],
      "text/plain": [
       "      mailing_address_unit_number middle_initial         last_name     sex  \\\n",
       "0                                              C          Alvarado  Female   \n",
       "1                                              I              Cruz  Female   \n",
       "2                                              C          Alvarado  Female   \n",
       "3                                              I              Cruz  Female   \n",
       "4                                              C          Alvarado  Female   \n",
       "...                           ...            ...               ...     ...   \n",
       "39037                                          R        Countryman    Male   \n",
       "39038                                          W        Countryman    Male   \n",
       "39039                                          Y            Graham  Female   \n",
       "39040                                          J           Howland  Female   \n",
       "39041                                          W  Martinez-Marquez  Female   \n",
       "\n",
       "      mailing_address_city mailing_address_state housing_type  \\\n",
       "0                  Anytown                    US     Standard   \n",
       "1                  Anytown                    US     Standard   \n",
       "2                  Anytown                    US     Standard   \n",
       "3                  Anytown                    US     Standard   \n",
       "4                  Anytown                    US     Standard   \n",
       "...                    ...                   ...          ...   \n",
       "39037              Anytown                    US     Standard   \n",
       "39038              Anytown                    US     Standard   \n",
       "39039              Anytown                    US     Standard   \n",
       "39040              Anytown                    US     Standard   \n",
       "39041              Anytown                    US     Standard   \n",
       "\n",
       "      mailing_address_zipcode  age guardian_id date_of_birth first_name  \\\n",
       "0                       99999   15        0_61    2005-07-03    Jessica   \n",
       "1                       99999   17     0_15783    2003-06-03     Rachel   \n",
       "2                       99999   15        0_62    2005-07-03    Jessica   \n",
       "3                       99999   17     0_15784    2003-06-03     Rachel   \n",
       "4                       99999   16        0_61    2005-07-03    Jessica   \n",
       "...                       ...  ...         ...           ...        ...   \n",
       "39037                   99999    4     0_16833    2025-02-07       Beau   \n",
       "39038                   99999    2     0_16833    2027-11-05       Noah   \n",
       "39039                   99999    3     0_10571    2026-11-22   Scarlett   \n",
       "39040                   99999    0     0_22257    2029-04-03      Olive   \n",
       "39041                   99999    0      0_8282    2029-11-29     Olivia   \n",
       "\n",
       "      mailing_address_street_name  mailing_address_po_box simulant_id  \\\n",
       "0                  w altadena ave                       0        0_64   \n",
       "1                   ringenberg dr                       0     0_15785   \n",
       "2                  w altadena ave                       0        0_64   \n",
       "3                   ringenberg dr                       0     0_15785   \n",
       "4                  w altadena ave                       0        0_64   \n",
       "...                           ...                     ...         ...   \n",
       "39037                   summer pl                       0     0_21636   \n",
       "39038                   summer pl                       0     0_22593   \n",
       "39039                    cross rd                       0     0_22241   \n",
       "39040                   miriam dr                       0     0_23077   \n",
       "39041               cedar trce cv                       0     0_23304   \n",
       "\n",
       "               ssn  tax_year mailing_address_street_number  \n",
       "0      248-44-4374      2020                             2  \n",
       "1      449-66-9438      2020                          1328  \n",
       "2      248-44-4374      2020                             2  \n",
       "3      449-66-9438      2020                          1328  \n",
       "4      248-44-4374      2021                             2  \n",
       "...            ...       ...                           ...  \n",
       "39037  571-45-8323      2029                          5805  \n",
       "39038  272-58-4297      2029                          5805  \n",
       "39039  565-81-4441      2029                          6313  \n",
       "39040  787-26-1454      2029                           126  \n",
       "39041  725-45-4340      2029                          2518  \n",
       "\n",
       "[39042 rows x 18 columns]"
      ]
     },
     "execution_count": 58,
     "metadata": {},
     "output_type": "execute_result"
    }
   ],
   "source": [
    "%%time\n",
    "\n",
    "df_dependents = pd.read_hdf(f'{output_dir}/tax_dependents_observer/tax_dependents_observer.hdf')\n",
    "df_dependents"
   ]
  },
  {
   "cell_type": "code",
   "execution_count": 59,
   "id": "1a67c3d2-55dd-4625-9dbf-b0c09140e3ba",
   "metadata": {
    "tags": []
   },
   "outputs": [
    {
     "data": {
      "text/plain": [
       "mailing_address_unit_number      False\n",
       "middle_initial                   False\n",
       "last_name                        False\n",
       "sex                              False\n",
       "mailing_address_city             False\n",
       "mailing_address_state            False\n",
       "housing_type                     False\n",
       "mailing_address_zipcode          False\n",
       "age                              False\n",
       "guardian_id                      False\n",
       "date_of_birth                    False\n",
       "first_name                       False\n",
       "mailing_address_street_name      False\n",
       "mailing_address_po_box           False\n",
       "simulant_id                      False\n",
       "ssn                               True\n",
       "tax_year                         False\n",
       "mailing_address_street_number    False\n",
       "dtype: bool"
      ]
     },
     "execution_count": 59,
     "metadata": {},
     "output_type": "execute_result"
    }
   ],
   "source": [
    "df_dependents.isnull().any()"
   ]
  },
  {
   "cell_type": "code",
   "execution_count": 60,
   "id": "d089d689-8295-44e8-843f-d9339249491e",
   "metadata": {
    "tags": []
   },
   "outputs": [
    {
     "data": {
      "text/plain": [
       "<AxesSubplot:>"
      ]
     },
     "execution_count": 60,
     "metadata": {},
     "output_type": "execute_result"
    },
    {
     "data": {
      "image/png": "[encoded data removed]",
      "text/plain": [
       "<Figure size 640x480 with 1 Axes>"
      ]
     },
     "metadata": {},
     "output_type": "display_data"
    }
   ],
   "source": [
    "df_dependents.age.hist(bins=15)"
   ]
  },
  {
   "cell_type": "code",
   "execution_count": 61,
   "id": "8234dc18-9a36-4427-bb07-156ac7931cc2",
   "metadata": {
    "tags": []
   },
   "outputs": [],
   "source": [
    "assert (df_dependents.mailing_address_city == 'Anytown').all()\n",
    "assert (df_dependents.mailing_address_state == 'US').all()\n",
    "assert (df_dependents.mailing_address_zipcode == '99999').all()"
   ]
  },
  {
   "cell_type": "markdown",
   "id": "c9e1654d-f55b-4a13-8663-57de385da667",
   "metadata": {},
   "source": [
    "# W2"
   ]
  },
  {
   "cell_type": "code",
   "execution_count": 62,
   "id": "91d105a6-4b3e-44c8-9d33-48774cdebe12",
   "metadata": {
    "tags": []
   },
   "outputs": [
    {
     "name": "stdout",
     "output_type": "stream",
     "text": [
      "CPU times: user 3.06 s, sys: 176 ms, total: 3.23 s\n",
      "Wall time: 3.24 s\n"
     ]
    },
    {
     "data": {
      "text/html": [
       "<div>\n",
       "<style scoped>\n",
       "    .dataframe tbody tr th:only-of-type {\n",
       "        vertical-align: middle;\n",
       "    }\n",
       "\n",
       "    .dataframe tbody tr th {\n",
       "        vertical-align: top;\n",
       "    }\n",
       "\n",
       "    .dataframe thead th {\n",
       "        text-align: right;\n",
       "    }\n",
       "</style>\n",
       "<table border=\"1\" class=\"dataframe\">\n",
       "  <thead>\n",
       "    <tr style=\"text-align: right;\">\n",
       "      <th></th>\n",
       "      <th>mailing_address_unit_number</th>\n",
       "      <th>employer_street_number</th>\n",
       "      <th>middle_initial</th>\n",
       "      <th>income</th>\n",
       "      <th>last_name</th>\n",
       "      <th>tax_form</th>\n",
       "      <th>mailing_address_city</th>\n",
       "      <th>mailing_address_state</th>\n",
       "      <th>mailing_address_zipcode</th>\n",
       "      <th>employer_zipcode</th>\n",
       "      <th>...</th>\n",
       "      <th>simulant_id</th>\n",
       "      <th>employer_unit_number</th>\n",
       "      <th>employer_state</th>\n",
       "      <th>ssn</th>\n",
       "      <th>tax_year</th>\n",
       "      <th>employer_id</th>\n",
       "      <th>employer_name</th>\n",
       "      <th>employer_city</th>\n",
       "      <th>mailing_address_street_number</th>\n",
       "      <th>employer_street_name</th>\n",
       "    </tr>\n",
       "  </thead>\n",
       "  <tbody>\n",
       "    <tr>\n",
       "      <th>0</th>\n",
       "      <td></td>\n",
       "      <td>e</td>\n",
       "      <td>M</td>\n",
       "      <td>5889.171749</td>\n",
       "      <td>Shipp</td>\n",
       "      <td>W2</td>\n",
       "      <td>Anytown</td>\n",
       "      <td>US</td>\n",
       "      <td>99999</td>\n",
       "      <td>99999</td>\n",
       "      <td>...</td>\n",
       "      <td>0_4</td>\n",
       "      <td></td>\n",
       "      <td>US</td>\n",
       "      <td>828-99-4653</td>\n",
       "      <td>2020</td>\n",
       "      <td>87</td>\n",
       "      <td>Transformation Center 3 Emergency Veterinary H...</td>\n",
       "      <td>Anytown</td>\n",
       "      <td>1312</td>\n",
       "      <td>ince dr</td>\n",
       "    </tr>\n",
       "    <tr>\n",
       "      <th>1</th>\n",
       "      <td></td>\n",
       "      <td></td>\n",
       "      <td>N</td>\n",
       "      <td>46085.842010</td>\n",
       "      <td>Shipp</td>\n",
       "      <td>W2</td>\n",
       "      <td>Anytown</td>\n",
       "      <td>US</td>\n",
       "      <td>99999</td>\n",
       "      <td>99999</td>\n",
       "      <td>...</td>\n",
       "      <td>0_5</td>\n",
       "      <td></td>\n",
       "      <td>US</td>\n",
       "      <td>885-38-0858</td>\n",
       "      <td>2020</td>\n",
       "      <td>12</td>\n",
       "      <td>Jj Rubys Salon Studios</td>\n",
       "      <td>Anytown</td>\n",
       "      <td>1312</td>\n",
       "      <td>stoney crk cir</td>\n",
       "    </tr>\n",
       "    <tr>\n",
       "      <th>2</th>\n",
       "      <td></td>\n",
       "      <td>65</td>\n",
       "      <td>C</td>\n",
       "      <td>26513.522956</td>\n",
       "      <td>Holt</td>\n",
       "      <td>W2</td>\n",
       "      <td>Anytown</td>\n",
       "      <td>US</td>\n",
       "      <td>99999</td>\n",
       "      <td>99999</td>\n",
       "      <td>...</td>\n",
       "      <td>0_2464</td>\n",
       "      <td></td>\n",
       "      <td>US</td>\n",
       "      <td>584-19-7087</td>\n",
       "      <td>2020</td>\n",
       "      <td>57</td>\n",
       "      <td>ReStore and Yogurt Parlour Salon</td>\n",
       "      <td>Anytown</td>\n",
       "      <td>46</td>\n",
       "      <td>s west ave</td>\n",
       "    </tr>\n",
       "    <tr>\n",
       "      <th>3</th>\n",
       "      <td></td>\n",
       "      <td>2329</td>\n",
       "      <td>S</td>\n",
       "      <td>20326.460457</td>\n",
       "      <td>Holt</td>\n",
       "      <td>W2</td>\n",
       "      <td>Anytown</td>\n",
       "      <td>US</td>\n",
       "      <td>99999</td>\n",
       "      <td>99999</td>\n",
       "      <td>...</td>\n",
       "      <td>0_3558</td>\n",
       "      <td></td>\n",
       "      <td>US</td>\n",
       "      <td>813-32-2963</td>\n",
       "      <td>2020</td>\n",
       "      <td>36</td>\n",
       "      <td>Council of Taos Suby Repair</td>\n",
       "      <td>Anytown</td>\n",
       "      <td>9112</td>\n",
       "      <td>greenwood wy</td>\n",
       "    </tr>\n",
       "    <tr>\n",
       "      <th>4</th>\n",
       "      <td></td>\n",
       "      <td>309</td>\n",
       "      <td>S</td>\n",
       "      <td>4719.617448</td>\n",
       "      <td>Holt</td>\n",
       "      <td>W2</td>\n",
       "      <td>Anytown</td>\n",
       "      <td>US</td>\n",
       "      <td>99999</td>\n",
       "      <td>99999</td>\n",
       "      <td>...</td>\n",
       "      <td>0_3558</td>\n",
       "      <td></td>\n",
       "      <td>US</td>\n",
       "      <td>813-32-2963</td>\n",
       "      <td>2020</td>\n",
       "      <td>90</td>\n",
       "      <td>Northwell Health Center Inc</td>\n",
       "      <td>Anytown</td>\n",
       "      <td>9112</td>\n",
       "      <td>n 52nd st</td>\n",
       "    </tr>\n",
       "    <tr>\n",
       "      <th>...</th>\n",
       "      <td>...</td>\n",
       "      <td>...</td>\n",
       "      <td>...</td>\n",
       "      <td>...</td>\n",
       "      <td>...</td>\n",
       "      <td>...</td>\n",
       "      <td>...</td>\n",
       "      <td>...</td>\n",
       "      <td>...</td>\n",
       "      <td>...</td>\n",
       "      <td>...</td>\n",
       "      <td>...</td>\n",
       "      <td>...</td>\n",
       "      <td>...</td>\n",
       "      <td>...</td>\n",
       "      <td>...</td>\n",
       "      <td>...</td>\n",
       "      <td>...</td>\n",
       "      <td>...</td>\n",
       "      <td>...</td>\n",
       "      <td>...</td>\n",
       "    </tr>\n",
       "    <tr>\n",
       "      <th>93300</th>\n",
       "      <td></td>\n",
       "      <td>9641</td>\n",
       "      <td>C</td>\n",
       "      <td>5324.699057</td>\n",
       "      <td>Rubio</td>\n",
       "      <td>W2</td>\n",
       "      <td>Anytown</td>\n",
       "      <td>US</td>\n",
       "      <td>99999</td>\n",
       "      <td>99999</td>\n",
       "      <td>...</td>\n",
       "      <td>0_12671</td>\n",
       "      <td></td>\n",
       "      <td>US</td>\n",
       "      <td>796-80-2013</td>\n",
       "      <td>2029</td>\n",
       "      <td>50</td>\n",
       "      <td>The Church of America</td>\n",
       "      <td>Anytown</td>\n",
       "      <td>2569</td>\n",
       "      <td>s cr 15 rd</td>\n",
       "    </tr>\n",
       "    <tr>\n",
       "      <th>93301</th>\n",
       "      <td></td>\n",
       "      <td>4135</td>\n",
       "      <td>C</td>\n",
       "      <td>16390.413647</td>\n",
       "      <td>Rubio</td>\n",
       "      <td>W2</td>\n",
       "      <td>Anytown</td>\n",
       "      <td>US</td>\n",
       "      <td>99999</td>\n",
       "      <td>99999</td>\n",
       "      <td>...</td>\n",
       "      <td>0_12671</td>\n",
       "      <td></td>\n",
       "      <td>US</td>\n",
       "      <td>796-80-2013</td>\n",
       "      <td>2029</td>\n",
       "      <td>100</td>\n",
       "      <td>Twin Boro Auto Repair Service (USPS)</td>\n",
       "      <td>Anytown</td>\n",
       "      <td>2569</td>\n",
       "      <td>yarmont way</td>\n",
       "    </tr>\n",
       "    <tr>\n",
       "      <th>93302</th>\n",
       "      <td></td>\n",
       "      <td>4946</td>\n",
       "      <td>K</td>\n",
       "      <td>13313.581513</td>\n",
       "      <td>Hughes</td>\n",
       "      <td>W2</td>\n",
       "      <td>Anytown</td>\n",
       "      <td>US</td>\n",
       "      <td>99999</td>\n",
       "      <td>99999</td>\n",
       "      <td>...</td>\n",
       "      <td>0_18073</td>\n",
       "      <td></td>\n",
       "      <td>US</td>\n",
       "      <td>105-49-3492</td>\n",
       "      <td>2029</td>\n",
       "      <td>30</td>\n",
       "      <td>Warrensburg</td>\n",
       "      <td>Anytown</td>\n",
       "      <td>21</td>\n",
       "      <td>w bluebird pl</td>\n",
       "    </tr>\n",
       "    <tr>\n",
       "      <th>93303</th>\n",
       "      <td></td>\n",
       "      <td>9641</td>\n",
       "      <td>K</td>\n",
       "      <td>18809.325345</td>\n",
       "      <td>Hughes</td>\n",
       "      <td>W2</td>\n",
       "      <td>Anytown</td>\n",
       "      <td>US</td>\n",
       "      <td>99999</td>\n",
       "      <td>99999</td>\n",
       "      <td>...</td>\n",
       "      <td>0_18073</td>\n",
       "      <td></td>\n",
       "      <td>US</td>\n",
       "      <td>105-49-3492</td>\n",
       "      <td>2029</td>\n",
       "      <td>50</td>\n",
       "      <td>The Church of America</td>\n",
       "      <td>Anytown</td>\n",
       "      <td>21</td>\n",
       "      <td>s cr 15 rd</td>\n",
       "    </tr>\n",
       "    <tr>\n",
       "      <th>93304</th>\n",
       "      <td></td>\n",
       "      <td>1150</td>\n",
       "      <td>K</td>\n",
       "      <td>20453.814563</td>\n",
       "      <td>Hughes</td>\n",
       "      <td>W2</td>\n",
       "      <td>Anytown</td>\n",
       "      <td>US</td>\n",
       "      <td>99999</td>\n",
       "      <td>99999</td>\n",
       "      <td>...</td>\n",
       "      <td>0_18073</td>\n",
       "      <td></td>\n",
       "      <td>US</td>\n",
       "      <td>105-49-3492</td>\n",
       "      <td>2029</td>\n",
       "      <td>59</td>\n",
       "      <td>PNC Financial Services</td>\n",
       "      <td>Anytown</td>\n",
       "      <td>21</td>\n",
       "      <td>revis rd</td>\n",
       "    </tr>\n",
       "  </tbody>\n",
       "</table>\n",
       "<p>93305 rows × 25 columns</p>\n",
       "</div>"
      ],
      "text/plain": [
       "      mailing_address_unit_number employer_street_number middle_initial  \\\n",
       "0                                                      e              M   \n",
       "1                                                                     N   \n",
       "2                                                     65              C   \n",
       "3                                                   2329              S   \n",
       "4                                                    309              S   \n",
       "...                           ...                    ...            ...   \n",
       "93300                                               9641              C   \n",
       "93301                                               4135              C   \n",
       "93302                                               4946              K   \n",
       "93303                                               9641              K   \n",
       "93304                                               1150              K   \n",
       "\n",
       "             income last_name tax_form mailing_address_city  \\\n",
       "0       5889.171749     Shipp       W2              Anytown   \n",
       "1      46085.842010     Shipp       W2              Anytown   \n",
       "2      26513.522956      Holt       W2              Anytown   \n",
       "3      20326.460457      Holt       W2              Anytown   \n",
       "4       4719.617448      Holt       W2              Anytown   \n",
       "...             ...       ...      ...                  ...   \n",
       "93300   5324.699057     Rubio       W2              Anytown   \n",
       "93301  16390.413647     Rubio       W2              Anytown   \n",
       "93302  13313.581513    Hughes       W2              Anytown   \n",
       "93303  18809.325345    Hughes       W2              Anytown   \n",
       "93304  20453.814563    Hughes       W2              Anytown   \n",
       "\n",
       "      mailing_address_state mailing_address_zipcode employer_zipcode  ...  \\\n",
       "0                        US                   99999            99999  ...   \n",
       "1                        US                   99999            99999  ...   \n",
       "2                        US                   99999            99999  ...   \n",
       "3                        US                   99999            99999  ...   \n",
       "4                        US                   99999            99999  ...   \n",
       "...                     ...                     ...              ...  ...   \n",
       "93300                    US                   99999            99999  ...   \n",
       "93301                    US                   99999            99999  ...   \n",
       "93302                    US                   99999            99999  ...   \n",
       "93303                    US                   99999            99999  ...   \n",
       "93304                    US                   99999            99999  ...   \n",
       "\n",
       "       simulant_id employer_unit_number employer_state          ssn  tax_year  \\\n",
       "0              0_4                                  US  828-99-4653      2020   \n",
       "1              0_5                                  US  885-38-0858      2020   \n",
       "2           0_2464                                  US  584-19-7087      2020   \n",
       "3           0_3558                                  US  813-32-2963      2020   \n",
       "4           0_3558                                  US  813-32-2963      2020   \n",
       "...            ...                  ...            ...          ...       ...   \n",
       "93300      0_12671                                  US  796-80-2013      2029   \n",
       "93301      0_12671                                  US  796-80-2013      2029   \n",
       "93302      0_18073                                  US  105-49-3492      2029   \n",
       "93303      0_18073                                  US  105-49-3492      2029   \n",
       "93304      0_18073                                  US  105-49-3492      2029   \n",
       "\n",
       "      employer_id                                      employer_name  \\\n",
       "0              87  Transformation Center 3 Emergency Veterinary H...   \n",
       "1              12                             Jj Rubys Salon Studios   \n",
       "2              57                   ReStore and Yogurt Parlour Salon   \n",
       "3              36                        Council of Taos Suby Repair   \n",
       "4              90                        Northwell Health Center Inc   \n",
       "...           ...                                                ...   \n",
       "93300          50                              The Church of America   \n",
       "93301         100               Twin Boro Auto Repair Service (USPS)   \n",
       "93302          30                                        Warrensburg   \n",
       "93303          50                              The Church of America   \n",
       "93304          59                             PNC Financial Services   \n",
       "\n",
       "      employer_city mailing_address_street_number  employer_street_name  \n",
       "0           Anytown                          1312               ince dr  \n",
       "1           Anytown                          1312        stoney crk cir  \n",
       "2           Anytown                            46            s west ave  \n",
       "3           Anytown                          9112          greenwood wy  \n",
       "4           Anytown                          9112             n 52nd st  \n",
       "...             ...                           ...                   ...  \n",
       "93300       Anytown                          2569            s cr 15 rd  \n",
       "93301       Anytown                          2569           yarmont way  \n",
       "93302       Anytown                            21         w bluebird pl  \n",
       "93303       Anytown                            21            s cr 15 rd  \n",
       "93304       Anytown                            21              revis rd  \n",
       "\n",
       "[93305 rows x 25 columns]"
      ]
     },
     "execution_count": 62,
     "metadata": {},
     "output_type": "execute_result"
    }
   ],
   "source": [
    "%%time\n",
    "\n",
    "df_w2 = pd.read_hdf(f'{output_dir}/tax_w2_observer/tax_w2_observer.hdf')\n",
    "df_w2"
   ]
  },
  {
   "cell_type": "code",
   "execution_count": 63,
   "id": "02790a66-bdbe-484f-969f-d7d3f2e41f1e",
   "metadata": {
    "tags": []
   },
   "outputs": [
    {
     "data": {
      "text/plain": [
       "Index(['mailing_address_unit_number', 'employer_street_number',\n",
       "       'middle_initial', 'income', 'last_name', 'tax_form',\n",
       "       'mailing_address_city', 'mailing_address_state',\n",
       "       'mailing_address_zipcode', 'employer_zipcode', 'age', 'date_of_birth',\n",
       "       'first_name', 'mailing_address_street_name', 'mailing_address_po_box',\n",
       "       'simulant_id', 'employer_unit_number', 'employer_state', 'ssn',\n",
       "       'tax_year', 'employer_id', 'employer_name', 'employer_city',\n",
       "       'mailing_address_street_number', 'employer_street_name'],\n",
       "      dtype='object')"
      ]
     },
     "execution_count": 63,
     "metadata": {},
     "output_type": "execute_result"
    }
   ],
   "source": [
    "df_w2.columns"
   ]
  },
  {
   "cell_type": "code",
   "execution_count": 64,
   "id": "0f7054b0-f54e-4aaf-b398-81d518c80a9a",
   "metadata": {
    "tags": []
   },
   "outputs": [],
   "source": [
    "assert not df_w2.isnull().any().any()"
   ]
  },
  {
   "cell_type": "code",
   "execution_count": 65,
   "id": "42f3ebd4-92d9-4e92-9f38-7b706ca1f7ce",
   "metadata": {
    "tags": []
   },
   "outputs": [
    {
     "data": {
      "text/plain": [
       "W2      88256\n",
       "1099     5049\n",
       "Name: tax_form, dtype: int64"
      ]
     },
     "execution_count": 65,
     "metadata": {},
     "output_type": "execute_result"
    }
   ],
   "source": [
    "df_w2.tax_form.value_counts()"
   ]
  },
  {
   "cell_type": "code",
   "execution_count": 66,
   "id": "6c24653e-a6fc-458b-a471-abcc3f537d73",
   "metadata": {
    "tags": []
   },
   "outputs": [
    {
     "data": {
      "text/plain": [
       "Transformation Center 3 Emergency Veterinary Hospital    5697\n",
       "Adventist Church of Cartersville Animal Shltr Cre        4563\n",
       "Twin Boro Auto Repair Service (USPS)                     4146\n",
       "ReStore and Yogurt Parlour Salon                         3658\n",
       "Greyhound                                                3066\n",
       "                                                         ... \n",
       "Jj Rubys Salon Studios                                     84\n",
       "FedEx                                                      82\n",
       "Gershenzon DDS MHS                                         81\n",
       "Gabriel's Liquor & Acting                                  68\n",
       "Sunoco                                                     36\n",
       "Name: employer_name, Length: 105, dtype: int64"
      ]
     },
     "execution_count": 66,
     "metadata": {},
     "output_type": "execute_result"
    }
   ],
   "source": [
    "df_w2.employer_name.value_counts()"
   ]
  },
  {
   "cell_type": "code",
   "execution_count": 67,
   "id": "ff2711f8-11dc-4aa1-8fa9-f9e333eff427",
   "metadata": {
    "tags": []
   },
   "outputs": [
    {
     "data": {
      "text/plain": [
       "         22\n",
       "270       8\n",
       "172       7\n",
       "2184      6\n",
       "197       5\n",
       "         ..\n",
       "3839      1\n",
       "9874      1\n",
       "7044      1\n",
       "8135      1\n",
       "20203     1\n",
       "Name: mailing_address_street_number, Length: 194, dtype: int64"
      ]
     },
     "execution_count": 67,
     "metadata": {},
     "output_type": "execute_result"
    }
   ],
   "source": [
    "# Military is not in GQ, correct?\n",
    "df_w2[df_w2.employer_name == 'Military'].mailing_address_street_number.value_counts()"
   ]
  },
  {
   "cell_type": "code",
   "execution_count": 68,
   "id": "ff1f85a8-62e8-42fd-9215-d69fcebad949",
   "metadata": {
    "tags": []
   },
   "outputs": [],
   "source": [
    "# Street name is never missing unless it's a PO box\n",
    "assert (df_w2[df_w2.mailing_address_street_name == ''].mailing_address_po_box != 0).all()"
   ]
  },
  {
   "cell_type": "code",
   "execution_count": 69,
   "id": "5edf5b99-8b05-48d1-a1e1-50a63a986cf5",
   "metadata": {
    "tags": []
   },
   "outputs": [
    {
     "data": {
      "text/plain": [
       "359               oak st \n",
       "360               oak st \n",
       "361               oak st \n",
       "375               oak st \n",
       "396               oak st \n",
       "               ...       \n",
       "93160     s atlantic ave \n",
       "93161     s atlantic ave \n",
       "93162     s atlantic ave \n",
       "93229     wheeley circel \n",
       "93230     wheeley circel \n",
       "Length: 3515, dtype: object"
      ]
     },
     "execution_count": 69,
     "metadata": {},
     "output_type": "execute_result"
    }
   ],
   "source": [
    "# There are a bunch of these addresses that have no street number, but they are rare\n",
    "df_w2[\n",
    "    (df_w2.mailing_address_street_number == '') &\n",
    "    (df_w2.mailing_address_po_box == 0)\n",
    "].pipe(lambda x: x.mailing_address_street_number + ' ' + x.mailing_address_street_name + ' ' + x.mailing_address_unit_number)"
   ]
  },
  {
   "cell_type": "code",
   "execution_count": 70,
   "id": "290818d2-7080-4be9-a6a7-42efb368e8c9",
   "metadata": {
    "tags": []
   },
   "outputs": [],
   "source": [
    "assert (df_w2.mailing_address_city == 'Anytown').all()\n",
    "assert (df_w2.mailing_address_state == 'US').all()\n",
    "assert (df_w2.mailing_address_zipcode == '99999').all()"
   ]
  },
  {
   "cell_type": "code",
   "execution_count": 71,
   "id": "417e70d7-5d65-4710-bd2d-3c976681736c",
   "metadata": {},
   "outputs": [],
   "source": [
    "assert (df_w2.employer_city == 'Anytown').all()\n",
    "assert (df_w2.employer_state == 'US').all()\n",
    "assert (df_w2.employer_zipcode == '99999').all()"
   ]
  },
  {
   "cell_type": "code",
   "execution_count": 72,
   "id": "52aefd6d-b74b-4392-bed5-36c0f1ecb9f5",
   "metadata": {
    "tags": []
   },
   "outputs": [
    {
     "data": {
      "text/plain": [
       "105"
      ]
     },
     "execution_count": 72,
     "metadata": {},
     "output_type": "execute_result"
    }
   ],
   "source": [
    "# A reasonable number of employers for such a small dataset\n",
    "# Probably too low, actually, because as noted on the concept model,\n",
    "# we overestimate the average size of businesses substantially.\n",
    "df_w2.employer_id.nunique()"
   ]
  },
  {
   "cell_type": "markdown",
   "id": "db160c72-eb0c-4457-ae6c-596f9174434d",
   "metadata": {},
   "source": [
    "# WIC"
   ]
  },
  {
   "cell_type": "code",
   "execution_count": 73,
   "id": "89bdb3c1-2f68-4490-96c7-db106cad2236",
   "metadata": {},
   "outputs": [
    {
     "name": "stdout",
     "output_type": "stream",
     "text": [
      "CPU times: user 92 ms, sys: 15.5 ms, total: 108 ms\n",
      "Wall time: 118 ms\n"
     ]
    },
    {
     "data": {
      "text/html": [
       "<div>\n",
       "<style scoped>\n",
       "    .dataframe tbody tr th:only-of-type {\n",
       "        vertical-align: middle;\n",
       "    }\n",
       "\n",
       "    .dataframe tbody tr th {\n",
       "        vertical-align: top;\n",
       "    }\n",
       "\n",
       "    .dataframe thead th {\n",
       "        text-align: right;\n",
       "    }\n",
       "</style>\n",
       "<table border=\"1\" class=\"dataframe\">\n",
       "  <thead>\n",
       "    <tr style=\"text-align: right;\">\n",
       "      <th></th>\n",
       "      <th>street_number</th>\n",
       "      <th>middle_initial</th>\n",
       "      <th>last_name</th>\n",
       "      <th>sex</th>\n",
       "      <th>guardian_1</th>\n",
       "      <th>year</th>\n",
       "      <th>housing_type</th>\n",
       "      <th>household_id</th>\n",
       "      <th>city</th>\n",
       "      <th>race_ethnicity</th>\n",
       "      <th>relation_to_household_head</th>\n",
       "      <th>age</th>\n",
       "      <th>unit_number</th>\n",
       "      <th>date_of_birth</th>\n",
       "      <th>first_name</th>\n",
       "      <th>street_name</th>\n",
       "      <th>simulant_id</th>\n",
       "      <th>guardian_2</th>\n",
       "      <th>zipcode</th>\n",
       "      <th>state</th>\n",
       "    </tr>\n",
       "  </thead>\n",
       "  <tbody>\n",
       "    <tr>\n",
       "      <th>0</th>\n",
       "      <td>4037</td>\n",
       "      <td>M</td>\n",
       "      <td>Hollenbaugh</td>\n",
       "      <td>Female</td>\n",
       "      <td>0_-1</td>\n",
       "      <td>2021</td>\n",
       "      <td>Standard</td>\n",
       "      <td>0_212</td>\n",
       "      <td>Anytown</td>\n",
       "      <td>White</td>\n",
       "      <td>Reference person</td>\n",
       "      <td>36</td>\n",
       "      <td></td>\n",
       "      <td>1984-03-12</td>\n",
       "      <td>Heidi</td>\n",
       "      <td>chula woods ct</td>\n",
       "      <td>0_492</td>\n",
       "      <td>0_-1</td>\n",
       "      <td>99999</td>\n",
       "      <td>US</td>\n",
       "    </tr>\n",
       "    <tr>\n",
       "      <th>1</th>\n",
       "      <td>1473</td>\n",
       "      <td>K</td>\n",
       "      <td>Jaimes</td>\n",
       "      <td>Female</td>\n",
       "      <td>0_17439</td>\n",
       "      <td>2021</td>\n",
       "      <td>Standard</td>\n",
       "      <td>0_7054</td>\n",
       "      <td>Anytown</td>\n",
       "      <td>Latino</td>\n",
       "      <td>Biological child</td>\n",
       "      <td>4</td>\n",
       "      <td></td>\n",
       "      <td>2016-03-16</td>\n",
       "      <td>Ava</td>\n",
       "      <td>w suncatcher dr</td>\n",
       "      <td>0_17441</td>\n",
       "      <td>0_-1</td>\n",
       "      <td>99999</td>\n",
       "      <td>US</td>\n",
       "    </tr>\n",
       "    <tr>\n",
       "      <th>2</th>\n",
       "      <td>4037</td>\n",
       "      <td>E</td>\n",
       "      <td>Hollenbaugh</td>\n",
       "      <td>Female</td>\n",
       "      <td>0_492</td>\n",
       "      <td>2021</td>\n",
       "      <td>Standard</td>\n",
       "      <td>0_212</td>\n",
       "      <td>Anytown</td>\n",
       "      <td>White</td>\n",
       "      <td>Biological child</td>\n",
       "      <td>0</td>\n",
       "      <td></td>\n",
       "      <td>2020-04-04</td>\n",
       "      <td>Olivia</td>\n",
       "      <td>chula woods ct</td>\n",
       "      <td>0_20000</td>\n",
       "      <td>0_493</td>\n",
       "      <td>99999</td>\n",
       "      <td>US</td>\n",
       "    </tr>\n",
       "    <tr>\n",
       "      <th>3</th>\n",
       "      <td>711</td>\n",
       "      <td>R</td>\n",
       "      <td>Hare</td>\n",
       "      <td>Female</td>\n",
       "      <td>0_16307</td>\n",
       "      <td>2029</td>\n",
       "      <td>Standard</td>\n",
       "      <td>0_6616</td>\n",
       "      <td>Anytown</td>\n",
       "      <td>Black</td>\n",
       "      <td>Grandchild</td>\n",
       "      <td>2</td>\n",
       "      <td></td>\n",
       "      <td>2026-03-28</td>\n",
       "      <td>Adria</td>\n",
       "      <td>wooster street</td>\n",
       "      <td>0_22368</td>\n",
       "      <td>0_-1</td>\n",
       "      <td>99999</td>\n",
       "      <td>US</td>\n",
       "    </tr>\n",
       "    <tr>\n",
       "      <th>4</th>\n",
       "      <td>711</td>\n",
       "      <td>R</td>\n",
       "      <td>Hare</td>\n",
       "      <td>Female</td>\n",
       "      <td>0_16307</td>\n",
       "      <td>2030</td>\n",
       "      <td>Standard</td>\n",
       "      <td>0_6616</td>\n",
       "      <td>Anytown</td>\n",
       "      <td>Black</td>\n",
       "      <td>Grandchild</td>\n",
       "      <td>3</td>\n",
       "      <td></td>\n",
       "      <td>2026-03-28</td>\n",
       "      <td>Adria</td>\n",
       "      <td>wooster street</td>\n",
       "      <td>0_22368</td>\n",
       "      <td>0_-1</td>\n",
       "      <td>99999</td>\n",
       "      <td>US</td>\n",
       "    </tr>\n",
       "    <tr>\n",
       "      <th>...</th>\n",
       "      <td>...</td>\n",
       "      <td>...</td>\n",
       "      <td>...</td>\n",
       "      <td>...</td>\n",
       "      <td>...</td>\n",
       "      <td>...</td>\n",
       "      <td>...</td>\n",
       "      <td>...</td>\n",
       "      <td>...</td>\n",
       "      <td>...</td>\n",
       "      <td>...</td>\n",
       "      <td>...</td>\n",
       "      <td>...</td>\n",
       "      <td>...</td>\n",
       "      <td>...</td>\n",
       "      <td>...</td>\n",
       "      <td>...</td>\n",
       "      <td>...</td>\n",
       "      <td>...</td>\n",
       "      <td>...</td>\n",
       "    </tr>\n",
       "    <tr>\n",
       "      <th>1529</th>\n",
       "      <td>25529</td>\n",
       "      <td>M</td>\n",
       "      <td>Williams</td>\n",
       "      <td>Female</td>\n",
       "      <td>0_2009</td>\n",
       "      <td>2030</td>\n",
       "      <td>Standard</td>\n",
       "      <td>0_6400</td>\n",
       "      <td>Anytown</td>\n",
       "      <td>Black</td>\n",
       "      <td>Biological child</td>\n",
       "      <td>3</td>\n",
       "      <td></td>\n",
       "      <td>2026-02-04</td>\n",
       "      <td>Evelyn</td>\n",
       "      <td>150th ave</td>\n",
       "      <td>0_21970</td>\n",
       "      <td>0_-1</td>\n",
       "      <td>99999</td>\n",
       "      <td>US</td>\n",
       "    </tr>\n",
       "    <tr>\n",
       "      <th>1530</th>\n",
       "      <td>294</td>\n",
       "      <td>A</td>\n",
       "      <td>Burnham</td>\n",
       "      <td>Male</td>\n",
       "      <td>0_11975</td>\n",
       "      <td>2030</td>\n",
       "      <td>Standard</td>\n",
       "      <td>0_4840</td>\n",
       "      <td>Anytown</td>\n",
       "      <td>White</td>\n",
       "      <td>Other nonrelative</td>\n",
       "      <td>3</td>\n",
       "      <td></td>\n",
       "      <td>2026-04-08</td>\n",
       "      <td>Elias</td>\n",
       "      <td>independence ct</td>\n",
       "      <td>0_22032</td>\n",
       "      <td>0_-1</td>\n",
       "      <td>99999</td>\n",
       "      <td>US</td>\n",
       "    </tr>\n",
       "    <tr>\n",
       "      <th>1531</th>\n",
       "      <td>8200</td>\n",
       "      <td>K</td>\n",
       "      <td>Hansen</td>\n",
       "      <td>Male</td>\n",
       "      <td>0_16500</td>\n",
       "      <td>2030</td>\n",
       "      <td>Standard</td>\n",
       "      <td>0_6693</td>\n",
       "      <td>Anytown</td>\n",
       "      <td>White</td>\n",
       "      <td>Grandchild</td>\n",
       "      <td>3</td>\n",
       "      <td></td>\n",
       "      <td>2026-11-06</td>\n",
       "      <td>Odin</td>\n",
       "      <td>s clubhouse dve</td>\n",
       "      <td>0_22246</td>\n",
       "      <td>0_-1</td>\n",
       "      <td>99999</td>\n",
       "      <td>US</td>\n",
       "    </tr>\n",
       "    <tr>\n",
       "      <th>1532</th>\n",
       "      <td>9543</td>\n",
       "      <td>B</td>\n",
       "      <td>Chu</td>\n",
       "      <td>Male</td>\n",
       "      <td>0_20337</td>\n",
       "      <td>2030</td>\n",
       "      <td>Standard</td>\n",
       "      <td>0_9718</td>\n",
       "      <td>Anytown</td>\n",
       "      <td>Asian</td>\n",
       "      <td>Sibling</td>\n",
       "      <td>0</td>\n",
       "      <td></td>\n",
       "      <td>2029-02-09</td>\n",
       "      <td>Chase</td>\n",
       "      <td>e eastman pl</td>\n",
       "      <td>0_23020</td>\n",
       "      <td>0_-1</td>\n",
       "      <td>99999</td>\n",
       "      <td>US</td>\n",
       "    </tr>\n",
       "    <tr>\n",
       "      <th>1533</th>\n",
       "      <td>6012</td>\n",
       "      <td>A</td>\n",
       "      <td>Swopes</td>\n",
       "      <td>Female</td>\n",
       "      <td>0_8962</td>\n",
       "      <td>2030</td>\n",
       "      <td>Standard</td>\n",
       "      <td>0_3636</td>\n",
       "      <td>Anytown</td>\n",
       "      <td>White</td>\n",
       "      <td>Biological child</td>\n",
       "      <td>0</td>\n",
       "      <td></td>\n",
       "      <td>2029-04-17</td>\n",
       "      <td>Aliyah</td>\n",
       "      <td>liberty st</td>\n",
       "      <td>0_23067</td>\n",
       "      <td>0_-1</td>\n",
       "      <td>99999</td>\n",
       "      <td>US</td>\n",
       "    </tr>\n",
       "  </tbody>\n",
       "</table>\n",
       "<p>1534 rows × 20 columns</p>\n",
       "</div>"
      ],
      "text/plain": [
       "     street_number middle_initial    last_name     sex guardian_1  year  \\\n",
       "0             4037              M  Hollenbaugh  Female       0_-1  2021   \n",
       "1             1473              K       Jaimes  Female    0_17439  2021   \n",
       "2             4037              E  Hollenbaugh  Female      0_492  2021   \n",
       "3              711              R         Hare  Female    0_16307  2029   \n",
       "4              711              R         Hare  Female    0_16307  2030   \n",
       "...            ...            ...          ...     ...        ...   ...   \n",
       "1529         25529              M     Williams  Female     0_2009  2030   \n",
       "1530           294              A      Burnham    Male    0_11975  2030   \n",
       "1531          8200              K       Hansen    Male    0_16500  2030   \n",
       "1532          9543              B          Chu    Male    0_20337  2030   \n",
       "1533          6012              A       Swopes  Female     0_8962  2030   \n",
       "\n",
       "     housing_type household_id     city race_ethnicity  \\\n",
       "0        Standard        0_212  Anytown          White   \n",
       "1        Standard       0_7054  Anytown         Latino   \n",
       "2        Standard        0_212  Anytown          White   \n",
       "3        Standard       0_6616  Anytown          Black   \n",
       "4        Standard       0_6616  Anytown          Black   \n",
       "...           ...          ...      ...            ...   \n",
       "1529     Standard       0_6400  Anytown          Black   \n",
       "1530     Standard       0_4840  Anytown          White   \n",
       "1531     Standard       0_6693  Anytown          White   \n",
       "1532     Standard       0_9718  Anytown          Asian   \n",
       "1533     Standard       0_3636  Anytown          White   \n",
       "\n",
       "     relation_to_household_head  age unit_number date_of_birth first_name  \\\n",
       "0              Reference person   36                1984-03-12      Heidi   \n",
       "1              Biological child    4                2016-03-16        Ava   \n",
       "2              Biological child    0                2020-04-04     Olivia   \n",
       "3                    Grandchild    2                2026-03-28      Adria   \n",
       "4                    Grandchild    3                2026-03-28      Adria   \n",
       "...                         ...  ...         ...           ...        ...   \n",
       "1529           Biological child    3                2026-02-04     Evelyn   \n",
       "1530          Other nonrelative    3                2026-04-08      Elias   \n",
       "1531                 Grandchild    3                2026-11-06       Odin   \n",
       "1532                    Sibling    0                2029-02-09      Chase   \n",
       "1533           Biological child    0                2029-04-17     Aliyah   \n",
       "\n",
       "          street_name simulant_id guardian_2 zipcode state  \n",
       "0      chula woods ct       0_492       0_-1   99999    US  \n",
       "1     w suncatcher dr     0_17441       0_-1   99999    US  \n",
       "2      chula woods ct     0_20000      0_493   99999    US  \n",
       "3      wooster street     0_22368       0_-1   99999    US  \n",
       "4      wooster street     0_22368       0_-1   99999    US  \n",
       "...               ...         ...        ...     ...   ...  \n",
       "1529        150th ave     0_21970       0_-1   99999    US  \n",
       "1530  independence ct     0_22032       0_-1   99999    US  \n",
       "1531  s clubhouse dve     0_22246       0_-1   99999    US  \n",
       "1532     e eastman pl     0_23020       0_-1   99999    US  \n",
       "1533       liberty st     0_23067       0_-1   99999    US  \n",
       "\n",
       "[1534 rows x 20 columns]"
      ]
     },
     "execution_count": 73,
     "metadata": {},
     "output_type": "execute_result"
    }
   ],
   "source": [
    "%%time\n",
    "\n",
    "df_wic = pd.read_hdf(f'{output_dir}/wic_observer/wic_observer.hdf')\n",
    "df_wic"
   ]
  },
  {
   "cell_type": "code",
   "execution_count": 74,
   "id": "ee8f090e-c0fa-4d6c-9e38-24a2c90dbef6",
   "metadata": {
    "tags": []
   },
   "outputs": [],
   "source": [
    "assert not df_wic.isnull().any().any()"
   ]
  },
  {
   "cell_type": "code",
   "execution_count": 75,
   "id": "d33b242b-f639-4a4f-bedc-143f511ff1ed",
   "metadata": {
    "tags": []
   },
   "outputs": [],
   "source": [
    "assert (df_wic.city == 'Anytown').all()\n",
    "assert (df_wic.state == 'US').all()\n",
    "assert (df_wic.zipcode == '99999').all()"
   ]
  },
  {
   "cell_type": "code",
   "execution_count": 76,
   "id": "57d00ea9-1765-4ebf-a0e2-48ecdad15c53",
   "metadata": {
    "tags": []
   },
   "outputs": [
    {
     "data": {
      "text/plain": [
       "Standard                   1534\n",
       "Carceral                      0\n",
       "Nursing home                  0\n",
       "Other institutional           0\n",
       "College                       0\n",
       "Military                      0\n",
       "Other non-institutional       0\n",
       "Name: housing_type, dtype: int64"
      ]
     },
     "execution_count": 76,
     "metadata": {},
     "output_type": "execute_result"
    }
   ],
   "source": [
    "df_wic.housing_type.value_counts()"
   ]
  },
  {
   "cell_type": "code",
   "execution_count": 77,
   "id": "98426f4e-3dda-4bfb-a714-52640b7e6dc1",
   "metadata": {
    "tags": []
   },
   "outputs": [
    {
     "data": {
      "text/plain": [
       "<AxesSubplot:>"
      ]
     },
     "execution_count": 77,
     "metadata": {},
     "output_type": "execute_result"
    },
    {
     "data": {
      "image/png": "[encoded data removed]",
      "text/plain": [
       "<Figure size 640x480 with 1 Axes>"
      ]
     },
     "metadata": {},
     "output_type": "display_data"
    }
   ],
   "source": [
    "df_wic.year.hist()"
   ]
  },
  {
   "cell_type": "code",
   "execution_count": 78,
   "id": "661e80f1-add0-4ecb-90b4-baa60a49fb5d",
   "metadata": {
    "tags": []
   },
   "outputs": [
    {
     "data": {
      "text/plain": [
       "Female    947\n",
       "Male      587\n",
       "Name: sex, dtype: int64"
      ]
     },
     "execution_count": 78,
     "metadata": {},
     "output_type": "execute_result"
    }
   ],
   "source": [
    "df_wic.sex.value_counts()"
   ]
  },
  {
   "cell_type": "code",
   "execution_count": 79,
   "id": "57d6eec7-db33-4c7f-a7ab-3c88ea92b1e7",
   "metadata": {
    "tags": []
   },
   "outputs": [
    {
     "data": {
      "text/plain": [
       "<AxesSubplot:>"
      ]
     },
     "execution_count": 79,
     "metadata": {},
     "output_type": "execute_result"
    },
    {
     "data": {
      "image/png": "[encoded data removed]",
      "text/plain": [
       "<Figure size 640x480 with 1 Axes>"
      ]
     },
     "metadata": {},
     "output_type": "display_data"
    }
   ],
   "source": [
    "df_wic.age.hist()"
   ]
  },
  {
   "cell_type": "code",
   "execution_count": 80,
   "id": "b07fdb29-615d-441d-9db0-389ae98cdf6a",
   "metadata": {
    "tags": []
   },
   "outputs": [
    {
     "data": {
      "text/plain": [
       "Biological child               809\n",
       "Reference person               241\n",
       "Other nonrelative              185\n",
       "Grandchild                     165\n",
       "Other relative                  49\n",
       "Sibling                         32\n",
       "Roommate                        21\n",
       "Opp-sex spouse                  19\n",
       "Opp-sex partner                  5\n",
       "Adopted child                    4\n",
       "Same-sex spouse                  1\n",
       "Same-sex partner                 1\n",
       "Stepchild                        1\n",
       "Child-in-law                     1\n",
       "Institutionalized GQ pop         0\n",
       "Parent                           0\n",
       "Foster child                     0\n",
       "Parent-in-law                    0\n",
       "Noninstitutionalized GQ pop      0\n",
       "Name: relation_to_household_head, dtype: int64"
      ]
     },
     "execution_count": 80,
     "metadata": {},
     "output_type": "execute_result"
    }
   ],
   "source": [
    "df_wic.relation_to_household_head.value_counts()"
   ]
  },
  {
   "cell_type": "code",
   "execution_count": null,
   "id": "cfac2d14-0458-42af-9339-6f7ee3a00e2e",
   "metadata": {},
   "outputs": [],
   "source": []
  }
 ],
 "metadata": {
  "kernelspec": {
   "display_name": "Python 3 (ipykernel)",
   "language": "python",
   "name": "python3"
  },
  "language_info": {
   "codemirror_mode": {
    "name": "ipython",
    "version": 3
   },
   "file_extension": ".py",
   "mimetype": "text/x-python",
   "name": "python",
   "nbconvert_exporter": "python",
   "pygments_lexer": "ipython3",
   "version": "3.7.16"
  }
 },
 "nbformat": 4,
 "nbformat_minor": 5
}
