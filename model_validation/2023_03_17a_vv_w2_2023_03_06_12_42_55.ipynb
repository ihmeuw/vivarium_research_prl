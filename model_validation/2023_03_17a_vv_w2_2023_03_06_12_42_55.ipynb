{
 "cells": [
  {
   "cell_type": "code",
   "execution_count": 1,
   "id": "e2de6bfd",
   "metadata": {},
   "outputs": [
    {
     "name": "stdout",
     "output_type": "stream",
     "text": [
      "Fri 17 Mar 2023 02:21:36 PM PDT\n",
      "ndbs\n",
      "Linux int-slurm-sarchive-p0004 5.4.0-135-generic #152-Ubuntu SMP Wed Nov 23 20:19:22 UTC 2022 x86_64 x86_64 x86_64 GNU/Linux\n",
      "/mnt/share/code/ndbs/vivarium_research_prl/model_validation\n"
     ]
    }
   ],
   "source": [
    "import numpy as np, matplotlib.pyplot as plt, pandas as pd\n",
    "pd.set_option('display.max_rows', 50)\n",
    "\n",
    "# Use this to see how much memory the dataframes use\n",
    "from sys import getsizeof\n",
    "\n",
    "from vivarium_research_prl import datatypes\n",
    "from vivarium_research_prl.noise import corruption, fake_names, noisify\n",
    "from vivarium_research_prl.find_kids import datasets, noisify_data\n",
    "\n",
    "!date\n",
    "!whoami\n",
    "!uname -a\n",
    "!pwd"
   ]
  },
  {
   "cell_type": "code",
   "execution_count": 2,
   "id": "12182b1a",
   "metadata": {},
   "outputs": [],
   "source": [
    "%load_ext autoreload\n",
    "%autoreload 2"
   ]
  },
  {
   "cell_type": "code",
   "execution_count": 3,
   "id": "6480a095",
   "metadata": {},
   "outputs": [],
   "source": [
    "def sizemb(obj, mib=False):\n",
    "    mb = 1024**2 if mib else 1e6\n",
    "    return getsizeof(obj) / mb"
   ]
  },
  {
   "cell_type": "markdown",
   "id": "f5861e8f",
   "metadata": {},
   "source": [
    "# Find data\n",
    "\n",
    "Looks like the same run we were looking at before, but post-processing has been fixed to keep year of observation in the data.\n",
    "\n",
    "```\n",
    "/mnt/team/simulation_science/priv/engineering/vivarium_census_prl_synth_pop/results/vv_tax_observers/united_states_of_america/2023_03_06_12_42_55/final_results/2023_03_14_16_41_22\n",
    "```"
   ]
  },
  {
   "cell_type": "code",
   "execution_count": 4,
   "id": "6b7b634c",
   "metadata": {},
   "outputs": [
    {
     "name": "stdout",
     "output_type": "stream",
     "text": [
      "total 14G\r\n",
      "drwxrwsr-x  2 albrja IHME-Simulationscience 4.0K Mar 15 10:01 .\r\n",
      "-rw-r--r--  1 albrja IHME-Simulationscience  59M Mar 15 10:01 wic_observer.csv.bz2\r\n",
      "-rw-r--r--  1 albrja IHME-Simulationscience 1.5G Mar 15 10:01 tax_dependents_observer.csv.bz2\r\n",
      "-rw-r--r--  1 albrja IHME-Simulationscience 6.8G Mar 15 09:57 tax_w2_observer.csv.bz2\r\n",
      "-rw-r--r--  1 albrja IHME-Simulationscience 4.1G Mar 15 09:56 tax_1040_observer.csv.bz2\r\n",
      "-rw-r--r--  1 albrja IHME-Simulationscience 192M Mar 15 09:48 social_security_observer.csv.bz2\r\n",
      "-rw-r--r--  1 albrja IHME-Simulationscience  35M Mar 15 09:36 household_survey_observer_cps.csv.bz2\r\n",
      "-rw-r--r--  1 albrja IHME-Simulationscience 6.7M Mar 15 09:36 household_survey_observer_acs.csv.bz2\r\n",
      "-rw-r--r--  1 albrja IHME-Simulationscience 638M Mar 15 09:36 decennial_census_observer.csv.bz2\r\n",
      "drwxrwsr-x 12 albrja IHME-Simulationscience 5.5K Mar 14 20:25 ..\r\n"
     ]
    }
   ],
   "source": [
    "project_output_dir = \\\n",
    "    '/mnt/team/simulation_science/priv/engineering/vivarium_census_prl_synth_pop'\n",
    "output_subdir = (\n",
    "    'results/vv_tax_observers'\n",
    "    '/united_states_of_america/2023_03_06_12_42_55'\n",
    "    '/final_results/2023_03_14_16_41_22'\n",
    ")\n",
    "output_dir = f'{project_output_dir}/{output_subdir}'\n",
    "\n",
    "!ls -halt $output_dir"
   ]
  },
  {
   "cell_type": "code",
   "execution_count": 5,
   "id": "d24fd897",
   "metadata": {},
   "outputs": [
    {
     "name": "stdout",
     "output_type": "stream",
     "text": [
      "/mnt/team/simulation_science/priv/engineering/vivarium_census_prl_synth_pop/results/vv_tax_observers/united_states_of_america/2023_03_06_12_42_55/final_results/2023_03_14_16_41_22\n",
      "CPU times: user 36.6 ms, sys: 4.26 ms, total: 40.8 ms\n",
      "Wall time: 54.3 ms\n"
     ]
    },
    {
     "data": {
      "text/html": [
       "<div>\n",
       "<style scoped>\n",
       "    .dataframe tbody tr th:only-of-type {\n",
       "        vertical-align: middle;\n",
       "    }\n",
       "\n",
       "    .dataframe tbody tr th {\n",
       "        vertical-align: top;\n",
       "    }\n",
       "\n",
       "    .dataframe thead th {\n",
       "        text-align: right;\n",
       "    }\n",
       "</style>\n",
       "<table border=\"1\" class=\"dataframe\">\n",
       "  <thead>\n",
       "    <tr style=\"text-align: right;\">\n",
       "      <th></th>\n",
       "      <th>ssn</th>\n",
       "      <th>mailing_address_street_number</th>\n",
       "      <th>employer_street_number</th>\n",
       "      <th>middle_initial</th>\n",
       "      <th>employer_id</th>\n",
       "      <th>is_w2</th>\n",
       "      <th>mailing_address_state</th>\n",
       "      <th>mailing_address_unit_number</th>\n",
       "      <th>employer_name</th>\n",
       "      <th>simulant_id</th>\n",
       "      <th>...</th>\n",
       "      <th>last_name</th>\n",
       "      <th>first_name</th>\n",
       "      <th>mailing_address_city</th>\n",
       "      <th>age</th>\n",
       "      <th>employer_state</th>\n",
       "      <th>tax_year</th>\n",
       "      <th>mailing_address_po_box</th>\n",
       "      <th>mailing_address_zipcode</th>\n",
       "      <th>income</th>\n",
       "      <th>employer_unit_number</th>\n",
       "    </tr>\n",
       "  </thead>\n",
       "  <tbody>\n",
       "    <tr>\n",
       "      <th>0</th>\n",
       "      <td>673-04-9302</td>\n",
       "      <td>7136</td>\n",
       "      <td>NaN</td>\n",
       "      <td>M</td>\n",
       "      <td>1498550</td>\n",
       "      <td>True</td>\n",
       "      <td>TX</td>\n",
       "      <td>NaN</td>\n",
       "      <td>Quality Discount Funerals</td>\n",
       "      <td>2284_0</td>\n",
       "      <td>...</td>\n",
       "      <td>Ticas</td>\n",
       "      <td>Michael</td>\n",
       "      <td>sour lake</td>\n",
       "      <td>38.831680</td>\n",
       "      <td>OH</td>\n",
       "      <td>2020</td>\n",
       "      <td>0</td>\n",
       "      <td>77566.0</td>\n",
       "      <td>26807.917509</td>\n",
       "      <td>NaN</td>\n",
       "    </tr>\n",
       "    <tr>\n",
       "      <th>1</th>\n",
       "      <td>471-07-7760</td>\n",
       "      <td>428</td>\n",
       "      <td>309</td>\n",
       "      <td>L</td>\n",
       "      <td>213995</td>\n",
       "      <td>True</td>\n",
       "      <td>MN</td>\n",
       "      <td>NaN</td>\n",
       "      <td>Matsuyama Gerald W Bautsch MS NCC</td>\n",
       "      <td>2284_8</td>\n",
       "      <td>...</td>\n",
       "      <td>Kohtz</td>\n",
       "      <td>Megan</td>\n",
       "      <td>prior lk</td>\n",
       "      <td>32.638476</td>\n",
       "      <td>MI</td>\n",
       "      <td>2020</td>\n",
       "      <td>0</td>\n",
       "      <td>56073.0</td>\n",
       "      <td>15902.739207</td>\n",
       "      <td>NaN</td>\n",
       "    </tr>\n",
       "    <tr>\n",
       "      <th>2</th>\n",
       "      <td>471-07-7760</td>\n",
       "      <td>428</td>\n",
       "      <td>1960</td>\n",
       "      <td>L</td>\n",
       "      <td>1250255</td>\n",
       "      <td>True</td>\n",
       "      <td>MN</td>\n",
       "      <td>NaN</td>\n",
       "      <td>Venus Nails &amp; Joint</td>\n",
       "      <td>2284_8</td>\n",
       "      <td>...</td>\n",
       "      <td>Kohtz</td>\n",
       "      <td>Megan</td>\n",
       "      <td>prior lk</td>\n",
       "      <td>32.638476</td>\n",
       "      <td>WA</td>\n",
       "      <td>2020</td>\n",
       "      <td>0</td>\n",
       "      <td>56073.0</td>\n",
       "      <td>1993.518032</td>\n",
       "      <td>unit 170</td>\n",
       "    </tr>\n",
       "    <tr>\n",
       "      <th>3</th>\n",
       "      <td>532-81-3677</td>\n",
       "      <td>427</td>\n",
       "      <td>e</td>\n",
       "      <td>D</td>\n",
       "      <td>650079</td>\n",
       "      <td>True</td>\n",
       "      <td>NJ</td>\n",
       "      <td>NaN</td>\n",
       "      <td>American Laser &amp; Eyeglasses</td>\n",
       "      <td>2284_10</td>\n",
       "      <td>...</td>\n",
       "      <td>Reiter</td>\n",
       "      <td>Keith</td>\n",
       "      <td>brielle</td>\n",
       "      <td>60.912309</td>\n",
       "      <td>IL</td>\n",
       "      <td>2020</td>\n",
       "      <td>0</td>\n",
       "      <td>8721.0</td>\n",
       "      <td>158485.553363</td>\n",
       "      <td>NaN</td>\n",
       "    </tr>\n",
       "    <tr>\n",
       "      <th>4</th>\n",
       "      <td>837-44-4483</td>\n",
       "      <td>427</td>\n",
       "      <td>NaN</td>\n",
       "      <td>M</td>\n",
       "      <td>919451</td>\n",
       "      <td>True</td>\n",
       "      <td>NJ</td>\n",
       "      <td>NaN</td>\n",
       "      <td>Auto Repair Expert Collision Center</td>\n",
       "      <td>2284_11</td>\n",
       "      <td>...</td>\n",
       "      <td>Reiter</td>\n",
       "      <td>Pamela</td>\n",
       "      <td>brielle</td>\n",
       "      <td>54.332492</td>\n",
       "      <td>SC</td>\n",
       "      <td>2020</td>\n",
       "      <td>0</td>\n",
       "      <td>8721.0</td>\n",
       "      <td>4168.897324</td>\n",
       "      <td>NaN</td>\n",
       "    </tr>\n",
       "    <tr>\n",
       "      <th>...</th>\n",
       "      <td>...</td>\n",
       "      <td>...</td>\n",
       "      <td>...</td>\n",
       "      <td>...</td>\n",
       "      <td>...</td>\n",
       "      <td>...</td>\n",
       "      <td>...</td>\n",
       "      <td>...</td>\n",
       "      <td>...</td>\n",
       "      <td>...</td>\n",
       "      <td>...</td>\n",
       "      <td>...</td>\n",
       "      <td>...</td>\n",
       "      <td>...</td>\n",
       "      <td>...</td>\n",
       "      <td>...</td>\n",
       "      <td>...</td>\n",
       "      <td>...</td>\n",
       "      <td>...</td>\n",
       "      <td>...</td>\n",
       "      <td>...</td>\n",
       "    </tr>\n",
       "    <tr>\n",
       "      <th>995</th>\n",
       "      <td>380-14-4060</td>\n",
       "      <td>644</td>\n",
       "      <td>1531</td>\n",
       "      <td>M</td>\n",
       "      <td>901046</td>\n",
       "      <td>True</td>\n",
       "      <td>PA</td>\n",
       "      <td>NaN</td>\n",
       "      <td>E Teen Parent Care</td>\n",
       "      <td>2284_1242</td>\n",
       "      <td>...</td>\n",
       "      <td>Jacobson</td>\n",
       "      <td>James</td>\n",
       "      <td>philadelphia</td>\n",
       "      <td>66.179743</td>\n",
       "      <td>CA</td>\n",
       "      <td>2020</td>\n",
       "      <td>0</td>\n",
       "      <td>18201.0</td>\n",
       "      <td>54062.795556</td>\n",
       "      <td>NaN</td>\n",
       "    </tr>\n",
       "    <tr>\n",
       "      <th>996</th>\n",
       "      <td>241-83-9137</td>\n",
       "      <td>644</td>\n",
       "      <td>3200</td>\n",
       "      <td>M</td>\n",
       "      <td>169446</td>\n",
       "      <td>True</td>\n",
       "      <td>PA</td>\n",
       "      <td>NaN</td>\n",
       "      <td>Sky Vista Elementary Sch</td>\n",
       "      <td>2284_1243</td>\n",
       "      <td>...</td>\n",
       "      <td>Jacobson</td>\n",
       "      <td>Jana</td>\n",
       "      <td>philadelphia</td>\n",
       "      <td>42.706691</td>\n",
       "      <td>FL</td>\n",
       "      <td>2020</td>\n",
       "      <td>0</td>\n",
       "      <td>18201.0</td>\n",
       "      <td>54178.336214</td>\n",
       "      <td>NaN</td>\n",
       "    </tr>\n",
       "    <tr>\n",
       "      <th>997</th>\n",
       "      <td>241-83-9137</td>\n",
       "      <td>644</td>\n",
       "      <td>7285</td>\n",
       "      <td>M</td>\n",
       "      <td>1639576</td>\n",
       "      <td>True</td>\n",
       "      <td>PA</td>\n",
       "      <td>NaN</td>\n",
       "      <td>Broadneck Home Depot USA</td>\n",
       "      <td>2284_1243</td>\n",
       "      <td>...</td>\n",
       "      <td>Jacobson</td>\n",
       "      <td>Jana</td>\n",
       "      <td>philadelphia</td>\n",
       "      <td>42.706691</td>\n",
       "      <td>AL</td>\n",
       "      <td>2020</td>\n",
       "      <td>0</td>\n",
       "      <td>18201.0</td>\n",
       "      <td>11067.680205</td>\n",
       "      <td>NaN</td>\n",
       "    </tr>\n",
       "    <tr>\n",
       "      <th>998</th>\n",
       "      <td>382-64-6532</td>\n",
       "      <td>644</td>\n",
       "      <td>2214</td>\n",
       "      <td>J</td>\n",
       "      <td>612851</td>\n",
       "      <td>True</td>\n",
       "      <td>PA</td>\n",
       "      <td>NaN</td>\n",
       "      <td>Elmsford Chiropractic Center</td>\n",
       "      <td>2284_1244</td>\n",
       "      <td>...</td>\n",
       "      <td>Casey</td>\n",
       "      <td>Arthur</td>\n",
       "      <td>philadelphia</td>\n",
       "      <td>49.636575</td>\n",
       "      <td>MD</td>\n",
       "      <td>2020</td>\n",
       "      <td>0</td>\n",
       "      <td>18201.0</td>\n",
       "      <td>54107.674563</td>\n",
       "      <td>NaN</td>\n",
       "    </tr>\n",
       "    <tr>\n",
       "      <th>999</th>\n",
       "      <td>826-77-9977</td>\n",
       "      <td>293</td>\n",
       "      <td>2182</td>\n",
       "      <td>J</td>\n",
       "      <td>945208</td>\n",
       "      <td>True</td>\n",
       "      <td>NC</td>\n",
       "      <td>NaN</td>\n",
       "      <td>Your Parts</td>\n",
       "      <td>2284_1245</td>\n",
       "      <td>...</td>\n",
       "      <td>Gonzalez</td>\n",
       "      <td>Ronald</td>\n",
       "      <td>charlotte</td>\n",
       "      <td>42.124684</td>\n",
       "      <td>TX</td>\n",
       "      <td>2020</td>\n",
       "      <td>0</td>\n",
       "      <td>28214.0</td>\n",
       "      <td>117546.007178</td>\n",
       "      <td>NaN</td>\n",
       "    </tr>\n",
       "  </tbody>\n",
       "</table>\n",
       "<p>1000 rows × 25 columns</p>\n",
       "</div>"
      ],
      "text/plain": [
       "             ssn mailing_address_street_number employer_street_number  \\\n",
       "0    673-04-9302                          7136                    NaN   \n",
       "1    471-07-7760                           428                    309   \n",
       "2    471-07-7760                           428                   1960   \n",
       "3    532-81-3677                           427                      e   \n",
       "4    837-44-4483                           427                    NaN   \n",
       "..           ...                           ...                    ...   \n",
       "995  380-14-4060                           644                   1531   \n",
       "996  241-83-9137                           644                   3200   \n",
       "997  241-83-9137                           644                   7285   \n",
       "998  382-64-6532                           644                   2214   \n",
       "999  826-77-9977                           293                   2182   \n",
       "\n",
       "    middle_initial  employer_id  is_w2 mailing_address_state  \\\n",
       "0                M      1498550   True                    TX   \n",
       "1                L       213995   True                    MN   \n",
       "2                L      1250255   True                    MN   \n",
       "3                D       650079   True                    NJ   \n",
       "4                M       919451   True                    NJ   \n",
       "..             ...          ...    ...                   ...   \n",
       "995              M       901046   True                    PA   \n",
       "996              M       169446   True                    PA   \n",
       "997              M      1639576   True                    PA   \n",
       "998              J       612851   True                    PA   \n",
       "999              J       945208   True                    NC   \n",
       "\n",
       "    mailing_address_unit_number                        employer_name  \\\n",
       "0                           NaN            Quality Discount Funerals   \n",
       "1                           NaN    Matsuyama Gerald W Bautsch MS NCC   \n",
       "2                           NaN                  Venus Nails & Joint   \n",
       "3                           NaN          American Laser & Eyeglasses   \n",
       "4                           NaN  Auto Repair Expert Collision Center   \n",
       "..                          ...                                  ...   \n",
       "995                         NaN                   E Teen Parent Care   \n",
       "996                         NaN             Sky Vista Elementary Sch   \n",
       "997                         NaN             Broadneck Home Depot USA   \n",
       "998                         NaN         Elmsford Chiropractic Center   \n",
       "999                         NaN                           Your Parts   \n",
       "\n",
       "    simulant_id  ... last_name first_name mailing_address_city        age  \\\n",
       "0        2284_0  ...     Ticas    Michael            sour lake  38.831680   \n",
       "1        2284_8  ...     Kohtz      Megan             prior lk  32.638476   \n",
       "2        2284_8  ...     Kohtz      Megan             prior lk  32.638476   \n",
       "3       2284_10  ...    Reiter      Keith              brielle  60.912309   \n",
       "4       2284_11  ...    Reiter     Pamela              brielle  54.332492   \n",
       "..          ...  ...       ...        ...                  ...        ...   \n",
       "995   2284_1242  ...  Jacobson      James         philadelphia  66.179743   \n",
       "996   2284_1243  ...  Jacobson       Jana         philadelphia  42.706691   \n",
       "997   2284_1243  ...  Jacobson       Jana         philadelphia  42.706691   \n",
       "998   2284_1244  ...     Casey     Arthur         philadelphia  49.636575   \n",
       "999   2284_1245  ...  Gonzalez     Ronald            charlotte  42.124684   \n",
       "\n",
       "     employer_state tax_year mailing_address_po_box mailing_address_zipcode  \\\n",
       "0                OH     2020                      0                 77566.0   \n",
       "1                MI     2020                      0                 56073.0   \n",
       "2                WA     2020                      0                 56073.0   \n",
       "3                IL     2020                      0                  8721.0   \n",
       "4                SC     2020                      0                  8721.0   \n",
       "..              ...      ...                    ...                     ...   \n",
       "995              CA     2020                      0                 18201.0   \n",
       "996              FL     2020                      0                 18201.0   \n",
       "997              AL     2020                      0                 18201.0   \n",
       "998              MD     2020                      0                 18201.0   \n",
       "999              TX     2020                      0                 28214.0   \n",
       "\n",
       "            income employer_unit_number  \n",
       "0     26807.917509                  NaN  \n",
       "1     15902.739207                  NaN  \n",
       "2      1993.518032             unit 170  \n",
       "3    158485.553363                  NaN  \n",
       "4      4168.897324                  NaN  \n",
       "..             ...                  ...  \n",
       "995   54062.795556                  NaN  \n",
       "996   54178.336214                  NaN  \n",
       "997   11067.680205                  NaN  \n",
       "998   54107.674563                  NaN  \n",
       "999  117546.007178                  NaN  \n",
       "\n",
       "[1000 rows x 25 columns]"
      ]
     },
     "execution_count": 5,
     "metadata": {},
     "output_type": "execute_result"
    }
   ],
   "source": [
    "%%time\n",
    "print(output_dir)\n",
    "w2 = pd.read_csv(f'{output_dir}/tax_w2_observer.csv.bz2', nrows=1000)\n",
    "w2"
   ]
  },
  {
   "cell_type": "code",
   "execution_count": 6,
   "id": "f838ecc2",
   "metadata": {},
   "outputs": [
    {
     "data": {
      "text/plain": [
       "ssn                               object\n",
       "mailing_address_street_number     object\n",
       "employer_street_number            object\n",
       "middle_initial                    object\n",
       "employer_id                        int64\n",
       "is_w2                               bool\n",
       "mailing_address_state             object\n",
       "mailing_address_unit_number       object\n",
       "employer_name                     object\n",
       "simulant_id                       object\n",
       "employer_street_name              object\n",
       "date_of_birth                     object\n",
       "employer_city                     object\n",
       "mailing_address_street_name       object\n",
       "employer_zipcode                 float64\n",
       "last_name                         object\n",
       "first_name                        object\n",
       "mailing_address_city              object\n",
       "age                              float64\n",
       "employer_state                    object\n",
       "tax_year                           int64\n",
       "mailing_address_po_box             int64\n",
       "mailing_address_zipcode          float64\n",
       "income                           float64\n",
       "employer_unit_number              object\n",
       "dtype: object"
      ]
     },
     "execution_count": 6,
     "metadata": {},
     "output_type": "execute_result"
    }
   ],
   "source": [
    "w2.dtypes"
   ]
  },
  {
   "cell_type": "code",
   "execution_count": 10,
   "id": "fed50643",
   "metadata": {},
   "outputs": [
    {
     "data": {
      "text/plain": [
       "2020    1000\n",
       "Name: tax_year, dtype: int64"
      ]
     },
     "execution_count": 10,
     "metadata": {},
     "output_type": "execute_result"
    }
   ],
   "source": [
    "w2.tax_year.value_counts()"
   ]
  },
  {
   "cell_type": "markdown",
   "id": "82d8f664",
   "metadata": {},
   "source": [
    "# Load in full W2 data, with datatype conversions"
   ]
  },
  {
   "cell_type": "code",
   "execution_count": 12,
   "id": "eeb48882",
   "metadata": {},
   "outputs": [
    {
     "name": "stdout",
     "output_type": "stream",
     "text": [
      "/mnt/team/simulation_science/priv/engineering/vivarium_census_prl_synth_pop/results/vv_tax_observers/united_states_of_america/2023_03_06_12_42_55/final_results/2023_03_14_16_41_22\n",
      "CPU times: user 41min 46s, sys: 1min 42s, total: 43min 29s\n",
      "Wall time: 43min 33s\n",
      "\n",
      " 8398.858271 MB\n",
      "CPU times: user 1.87 s, sys: 1.02 s, total: 2.89 s\n",
      "Wall time: 2.89 s\n"
     ]
    },
    {
     "data": {
      "text/html": [
       "<div>\n",
       "<style scoped>\n",
       "    .dataframe tbody tr th:only-of-type {\n",
       "        vertical-align: middle;\n",
       "    }\n",
       "\n",
       "    .dataframe tbody tr th {\n",
       "        vertical-align: top;\n",
       "    }\n",
       "\n",
       "    .dataframe thead th {\n",
       "        text-align: right;\n",
       "    }\n",
       "</style>\n",
       "<table border=\"1\" class=\"dataframe\">\n",
       "  <thead>\n",
       "    <tr style=\"text-align: right;\">\n",
       "      <th></th>\n",
       "      <th>ssn</th>\n",
       "      <th>mailing_address_street_number</th>\n",
       "      <th>employer_street_number</th>\n",
       "      <th>middle_initial</th>\n",
       "      <th>employer_id</th>\n",
       "      <th>is_w2</th>\n",
       "      <th>mailing_address_state</th>\n",
       "      <th>mailing_address_unit_number</th>\n",
       "      <th>employer_name</th>\n",
       "      <th>simulant_id</th>\n",
       "      <th>...</th>\n",
       "      <th>last_name</th>\n",
       "      <th>first_name</th>\n",
       "      <th>mailing_address_city</th>\n",
       "      <th>age</th>\n",
       "      <th>employer_state</th>\n",
       "      <th>tax_year</th>\n",
       "      <th>mailing_address_po_box</th>\n",
       "      <th>mailing_address_zipcode</th>\n",
       "      <th>income</th>\n",
       "      <th>employer_unit_number</th>\n",
       "    </tr>\n",
       "  </thead>\n",
       "  <tbody>\n",
       "    <tr>\n",
       "      <th>0</th>\n",
       "      <td>673049302</td>\n",
       "      <td>7136</td>\n",
       "      <td>NaN</td>\n",
       "      <td>M</td>\n",
       "      <td>1498550</td>\n",
       "      <td>True</td>\n",
       "      <td>TX</td>\n",
       "      <td>NaN</td>\n",
       "      <td>Quality Discount Funerals</td>\n",
       "      <td>2284000000000</td>\n",
       "      <td>...</td>\n",
       "      <td>Ticas</td>\n",
       "      <td>Michael</td>\n",
       "      <td>sour lake</td>\n",
       "      <td>38.831680</td>\n",
       "      <td>OH</td>\n",
       "      <td>2020</td>\n",
       "      <td>0</td>\n",
       "      <td>77566.0</td>\n",
       "      <td>26807.917969</td>\n",
       "      <td>NaN</td>\n",
       "    </tr>\n",
       "    <tr>\n",
       "      <th>1</th>\n",
       "      <td>471077760</td>\n",
       "      <td>428</td>\n",
       "      <td>309</td>\n",
       "      <td>L</td>\n",
       "      <td>213995</td>\n",
       "      <td>True</td>\n",
       "      <td>MN</td>\n",
       "      <td>NaN</td>\n",
       "      <td>Matsuyama Gerald W Bautsch MS NCC</td>\n",
       "      <td>2284000000008</td>\n",
       "      <td>...</td>\n",
       "      <td>Kohtz</td>\n",
       "      <td>Megan</td>\n",
       "      <td>prior lk</td>\n",
       "      <td>32.638477</td>\n",
       "      <td>MI</td>\n",
       "      <td>2020</td>\n",
       "      <td>0</td>\n",
       "      <td>56073.0</td>\n",
       "      <td>15902.739258</td>\n",
       "      <td>NaN</td>\n",
       "    </tr>\n",
       "    <tr>\n",
       "      <th>2</th>\n",
       "      <td>471077760</td>\n",
       "      <td>428</td>\n",
       "      <td>1960</td>\n",
       "      <td>L</td>\n",
       "      <td>1250255</td>\n",
       "      <td>True</td>\n",
       "      <td>MN</td>\n",
       "      <td>NaN</td>\n",
       "      <td>Venus Nails &amp; Joint</td>\n",
       "      <td>2284000000008</td>\n",
       "      <td>...</td>\n",
       "      <td>Kohtz</td>\n",
       "      <td>Megan</td>\n",
       "      <td>prior lk</td>\n",
       "      <td>32.638477</td>\n",
       "      <td>WA</td>\n",
       "      <td>2020</td>\n",
       "      <td>0</td>\n",
       "      <td>56073.0</td>\n",
       "      <td>1993.518066</td>\n",
       "      <td>unit 170</td>\n",
       "    </tr>\n",
       "    <tr>\n",
       "      <th>3</th>\n",
       "      <td>532813677</td>\n",
       "      <td>427</td>\n",
       "      <td>e</td>\n",
       "      <td>D</td>\n",
       "      <td>650079</td>\n",
       "      <td>True</td>\n",
       "      <td>NJ</td>\n",
       "      <td>NaN</td>\n",
       "      <td>American Laser &amp; Eyeglasses</td>\n",
       "      <td>2284000000010</td>\n",
       "      <td>...</td>\n",
       "      <td>Reiter</td>\n",
       "      <td>Keith</td>\n",
       "      <td>brielle</td>\n",
       "      <td>60.912308</td>\n",
       "      <td>IL</td>\n",
       "      <td>2020</td>\n",
       "      <td>0</td>\n",
       "      <td>8721.0</td>\n",
       "      <td>158485.546875</td>\n",
       "      <td>NaN</td>\n",
       "    </tr>\n",
       "    <tr>\n",
       "      <th>4</th>\n",
       "      <td>837444483</td>\n",
       "      <td>427</td>\n",
       "      <td>NaN</td>\n",
       "      <td>M</td>\n",
       "      <td>919451</td>\n",
       "      <td>True</td>\n",
       "      <td>NJ</td>\n",
       "      <td>NaN</td>\n",
       "      <td>Auto Repair Expert Collision Center</td>\n",
       "      <td>2284000000011</td>\n",
       "      <td>...</td>\n",
       "      <td>Reiter</td>\n",
       "      <td>Pamela</td>\n",
       "      <td>brielle</td>\n",
       "      <td>54.332493</td>\n",
       "      <td>SC</td>\n",
       "      <td>2020</td>\n",
       "      <td>0</td>\n",
       "      <td>8721.0</td>\n",
       "      <td>4168.897461</td>\n",
       "      <td>NaN</td>\n",
       "    </tr>\n",
       "    <tr>\n",
       "      <th>...</th>\n",
       "      <td>...</td>\n",
       "      <td>...</td>\n",
       "      <td>...</td>\n",
       "      <td>...</td>\n",
       "      <td>...</td>\n",
       "      <td>...</td>\n",
       "      <td>...</td>\n",
       "      <td>...</td>\n",
       "      <td>...</td>\n",
       "      <td>...</td>\n",
       "      <td>...</td>\n",
       "      <td>...</td>\n",
       "      <td>...</td>\n",
       "      <td>...</td>\n",
       "      <td>...</td>\n",
       "      <td>...</td>\n",
       "      <td>...</td>\n",
       "      <td>...</td>\n",
       "      <td>...</td>\n",
       "      <td>...</td>\n",
       "      <td>...</td>\n",
       "    </tr>\n",
       "    <tr>\n",
       "      <th>97515218</th>\n",
       "      <td>11620681</td>\n",
       "      <td>817</td>\n",
       "      <td>9021</td>\n",
       "      <td>B</td>\n",
       "      <td>1067998</td>\n",
       "      <td>True</td>\n",
       "      <td>AR</td>\n",
       "      <td>NaN</td>\n",
       "      <td>Rob of Christ of Jesus Christ</td>\n",
       "      <td>7359001173273</td>\n",
       "      <td>...</td>\n",
       "      <td>Sardinas</td>\n",
       "      <td>Jayme</td>\n",
       "      <td>rison</td>\n",
       "      <td>52.129997</td>\n",
       "      <td>MO</td>\n",
       "      <td>2029</td>\n",
       "      <td>0</td>\n",
       "      <td>72712.0</td>\n",
       "      <td>2487.733643</td>\n",
       "      <td>NaN</td>\n",
       "    </tr>\n",
       "    <tr>\n",
       "      <th>97515219</th>\n",
       "      <td>201063025</td>\n",
       "      <td>4920</td>\n",
       "      <td>3943</td>\n",
       "      <td>D</td>\n",
       "      <td>1106380</td>\n",
       "      <td>True</td>\n",
       "      <td>TX</td>\n",
       "      <td>NaN</td>\n",
       "      <td>Danny J Fish Grill</td>\n",
       "      <td>7359001173275</td>\n",
       "      <td>...</td>\n",
       "      <td>Foley</td>\n",
       "      <td>Russell</td>\n",
       "      <td>austin</td>\n",
       "      <td>42.383724</td>\n",
       "      <td>MN</td>\n",
       "      <td>2029</td>\n",
       "      <td>0</td>\n",
       "      <td>77007.0</td>\n",
       "      <td>1892.471802</td>\n",
       "      <td>NaN</td>\n",
       "    </tr>\n",
       "    <tr>\n",
       "      <th>97515220</th>\n",
       "      <td>305092604</td>\n",
       "      <td>4920</td>\n",
       "      <td>7708</td>\n",
       "      <td>M</td>\n",
       "      <td>113140</td>\n",
       "      <td>True</td>\n",
       "      <td>TX</td>\n",
       "      <td>NaN</td>\n",
       "      <td>Rehabworks of Lizton</td>\n",
       "      <td>7359001173276</td>\n",
       "      <td>...</td>\n",
       "      <td>Foley</td>\n",
       "      <td>Kristie</td>\n",
       "      <td>austin</td>\n",
       "      <td>36.101875</td>\n",
       "      <td>MN</td>\n",
       "      <td>2029</td>\n",
       "      <td>0</td>\n",
       "      <td>77007.0</td>\n",
       "      <td>1257.463501</td>\n",
       "      <td>NaN</td>\n",
       "    </tr>\n",
       "    <tr>\n",
       "      <th>97515221</th>\n",
       "      <td>371323544</td>\n",
       "      <td>120</td>\n",
       "      <td>2220</td>\n",
       "      <td>R</td>\n",
       "      <td>924527</td>\n",
       "      <td>True</td>\n",
       "      <td>OR</td>\n",
       "      <td>NaN</td>\n",
       "      <td>Arrow Drive Elementary</td>\n",
       "      <td>7359001173278</td>\n",
       "      <td>...</td>\n",
       "      <td>Poulos</td>\n",
       "      <td>Eric</td>\n",
       "      <td>pacific cty</td>\n",
       "      <td>55.102570</td>\n",
       "      <td>IL</td>\n",
       "      <td>2029</td>\n",
       "      <td>0</td>\n",
       "      <td>97202.0</td>\n",
       "      <td>2968.415771</td>\n",
       "      <td>NaN</td>\n",
       "    </tr>\n",
       "    <tr>\n",
       "      <th>97515222</th>\n",
       "      <td>478930771</td>\n",
       "      <td>120</td>\n",
       "      <td>78</td>\n",
       "      <td>A</td>\n",
       "      <td>763203</td>\n",
       "      <td>True</td>\n",
       "      <td>OR</td>\n",
       "      <td>NaN</td>\n",
       "      <td>Christine Alexander Neighborhood Real Estate</td>\n",
       "      <td>7359001173279</td>\n",
       "      <td>...</td>\n",
       "      <td>Poulos</td>\n",
       "      <td>Kameron</td>\n",
       "      <td>pacific cty</td>\n",
       "      <td>20.248791</td>\n",
       "      <td>MO</td>\n",
       "      <td>2029</td>\n",
       "      <td>0</td>\n",
       "      <td>97202.0</td>\n",
       "      <td>1221.878540</td>\n",
       "      <td>NaN</td>\n",
       "    </tr>\n",
       "  </tbody>\n",
       "</table>\n",
       "<p>97515223 rows × 25 columns</p>\n",
       "</div>"
      ],
      "text/plain": [
       "                ssn mailing_address_street_number employer_street_number  \\\n",
       "0         673049302                          7136                    NaN   \n",
       "1         471077760                           428                    309   \n",
       "2         471077760                           428                   1960   \n",
       "3         532813677                           427                      e   \n",
       "4         837444483                           427                    NaN   \n",
       "...             ...                           ...                    ...   \n",
       "97515218   11620681                           817                   9021   \n",
       "97515219  201063025                          4920                   3943   \n",
       "97515220  305092604                          4920                   7708   \n",
       "97515221  371323544                           120                   2220   \n",
       "97515222  478930771                           120                     78   \n",
       "\n",
       "         middle_initial  employer_id  is_w2 mailing_address_state  \\\n",
       "0                     M      1498550   True                    TX   \n",
       "1                     L       213995   True                    MN   \n",
       "2                     L      1250255   True                    MN   \n",
       "3                     D       650079   True                    NJ   \n",
       "4                     M       919451   True                    NJ   \n",
       "...                 ...          ...    ...                   ...   \n",
       "97515218              B      1067998   True                    AR   \n",
       "97515219              D      1106380   True                    TX   \n",
       "97515220              M       113140   True                    TX   \n",
       "97515221              R       924527   True                    OR   \n",
       "97515222              A       763203   True                    OR   \n",
       "\n",
       "         mailing_address_unit_number  \\\n",
       "0                                NaN   \n",
       "1                                NaN   \n",
       "2                                NaN   \n",
       "3                                NaN   \n",
       "4                                NaN   \n",
       "...                              ...   \n",
       "97515218                         NaN   \n",
       "97515219                         NaN   \n",
       "97515220                         NaN   \n",
       "97515221                         NaN   \n",
       "97515222                         NaN   \n",
       "\n",
       "                                         employer_name    simulant_id  ...  \\\n",
       "0                            Quality Discount Funerals  2284000000000  ...   \n",
       "1                    Matsuyama Gerald W Bautsch MS NCC  2284000000008  ...   \n",
       "2                                  Venus Nails & Joint  2284000000008  ...   \n",
       "3                          American Laser & Eyeglasses  2284000000010  ...   \n",
       "4                  Auto Repair Expert Collision Center  2284000000011  ...   \n",
       "...                                                ...            ...  ...   \n",
       "97515218                 Rob of Christ of Jesus Christ  7359001173273  ...   \n",
       "97515219                            Danny J Fish Grill  7359001173275  ...   \n",
       "97515220                          Rehabworks of Lizton  7359001173276  ...   \n",
       "97515221                        Arrow Drive Elementary  7359001173278  ...   \n",
       "97515222  Christine Alexander Neighborhood Real Estate  7359001173279  ...   \n",
       "\n",
       "         last_name first_name mailing_address_city        age employer_state  \\\n",
       "0            Ticas    Michael            sour lake  38.831680             OH   \n",
       "1            Kohtz      Megan             prior lk  32.638477             MI   \n",
       "2            Kohtz      Megan             prior lk  32.638477             WA   \n",
       "3           Reiter      Keith              brielle  60.912308             IL   \n",
       "4           Reiter     Pamela              brielle  54.332493             SC   \n",
       "...            ...        ...                  ...        ...            ...   \n",
       "97515218  Sardinas      Jayme                rison  52.129997             MO   \n",
       "97515219     Foley    Russell               austin  42.383724             MN   \n",
       "97515220     Foley    Kristie               austin  36.101875             MN   \n",
       "97515221    Poulos       Eric          pacific cty  55.102570             IL   \n",
       "97515222    Poulos    Kameron          pacific cty  20.248791             MO   \n",
       "\n",
       "         tax_year mailing_address_po_box mailing_address_zipcode  \\\n",
       "0            2020                      0                 77566.0   \n",
       "1            2020                      0                 56073.0   \n",
       "2            2020                      0                 56073.0   \n",
       "3            2020                      0                  8721.0   \n",
       "4            2020                      0                  8721.0   \n",
       "...           ...                    ...                     ...   \n",
       "97515218     2029                      0                 72712.0   \n",
       "97515219     2029                      0                 77007.0   \n",
       "97515220     2029                      0                 77007.0   \n",
       "97515221     2029                      0                 97202.0   \n",
       "97515222     2029                      0                 97202.0   \n",
       "\n",
       "                 income employer_unit_number  \n",
       "0          26807.917969                  NaN  \n",
       "1          15902.739258                  NaN  \n",
       "2           1993.518066             unit 170  \n",
       "3         158485.546875                  NaN  \n",
       "4           4168.897461                  NaN  \n",
       "...                 ...                  ...  \n",
       "97515218    2487.733643                  NaN  \n",
       "97515219    1892.471802                  NaN  \n",
       "97515220    1257.463501                  NaN  \n",
       "97515221    2968.415771                  NaN  \n",
       "97515222    1221.878540                  NaN  \n",
       "\n",
       "[97515223 rows x 25 columns]"
      ]
     },
     "execution_count": 12,
     "metadata": {},
     "output_type": "execute_result"
    }
   ],
   "source": [
    "print(output_dir)\n",
    "%time df_w2 = datatypes.load_csv_data(\\\n",
    "    f'{output_dir}/tax_w2_observer.csv.bz2',\\\n",
    "    convert_str_ids=True,\\\n",
    "    nrows=None,\\\n",
    ")\n",
    "%time print('\\n', sizemb(df_w2), 'MB')\n",
    "df_w2"
   ]
  },
  {
   "cell_type": "code",
   "execution_count": 13,
   "id": "69a36c05",
   "metadata": {},
   "outputs": [
    {
     "data": {
      "text/plain": [
       "ssn                                 int32\n",
       "mailing_address_street_number    category\n",
       "employer_street_number           category\n",
       "middle_initial                   category\n",
       "employer_id                         int64\n",
       "is_w2                                bool\n",
       "mailing_address_state            category\n",
       "mailing_address_unit_number      category\n",
       "employer_name                    category\n",
       "simulant_id                         int64\n",
       "employer_street_name             category\n",
       "date_of_birth                    category\n",
       "employer_city                    category\n",
       "mailing_address_street_name      category\n",
       "employer_zipcode                 category\n",
       "last_name                        category\n",
       "first_name                       category\n",
       "mailing_address_city             category\n",
       "age                               float32\n",
       "employer_state                   category\n",
       "tax_year                         category\n",
       "mailing_address_po_box           category\n",
       "mailing_address_zipcode          category\n",
       "income                            float32\n",
       "employer_unit_number             category\n",
       "dtype: object"
      ]
     },
     "execution_count": 13,
     "metadata": {},
     "output_type": "execute_result"
    }
   ],
   "source": [
    "df_w2.dtypes"
   ]
  },
  {
   "cell_type": "markdown",
   "id": "f22bc55f",
   "metadata": {},
   "source": [
    "# Save file as HDF for faster loading in the future"
   ]
  },
  {
   "cell_type": "code",
   "execution_count": 30,
   "id": "b901c7fd",
   "metadata": {},
   "outputs": [
    {
     "name": "stdout",
     "output_type": "stream",
     "text": [
      "total 708\r\n",
      "drwxrwxr-x 2 ndbs Domain Users   1536 Mar  7 22:48 2023_02_27_10_25_20\r\n",
      "drwxrwxr-x 2 ndbs Domain Users    512 Mar 11 16:46 2023_03_06_12_42_55\r\n",
      "-rw-rw-r-- 1 ndbs Domain Users 710226 Feb  9 22:50 address_id_to_zipcode_2023_02_02_10_16_21.csv.bz2\r\n"
     ]
    }
   ],
   "source": [
    "!ls -l /share/scratch/users/ndbs/prl/"
   ]
  },
  {
   "cell_type": "code",
   "execution_count": 29,
   "id": "2df6c537",
   "metadata": {},
   "outputs": [
    {
     "name": "stdout",
     "output_type": "stream",
     "text": [
      "total 3.9G\r\n",
      "-rw-rw-r-- 1 ndbs Domain Users 3.9G Mar 11 16:46 w2.hdf\r\n",
      "drwxrwxr-x 2 ndbs Domain Users  512 Mar 11 16:46 .\r\n",
      "drwxrwxr-x 4 ndbs Domain Users 1.5K Mar 11 16:29 ..\r\n"
     ]
    }
   ],
   "source": [
    "hdf_dir = '/share/scratch/users/ndbs/prl/2023_03_06_12_42_55'\n",
    "!ls -halt $hdf_dir"
   ]
  },
  {
   "cell_type": "code",
   "execution_count": 31,
   "id": "c90c7d52",
   "metadata": {},
   "outputs": [
    {
     "data": {
      "text/plain": [
       "'/mnt/team/simulation_science/priv/engineering/vivarium_census_prl_synth_pop/results/vv_tax_observers/united_states_of_america/2023_03_06_12_42_55/final_results/2023_03_14_16_41_22'"
      ]
     },
     "execution_count": 31,
     "metadata": {},
     "output_type": "execute_result"
    }
   ],
   "source": [
    "output_dir"
   ]
  },
  {
   "cell_type": "code",
   "execution_count": 32,
   "id": "b035e27a",
   "metadata": {},
   "outputs": [
    {
     "name": "stdout",
     "output_type": "stream",
     "text": [
      "total 7.7G\n",
      "-rw-rw-r-- 1 ndbs Domain Users 3.9G Mar 17 21:13 w2_2023_03_14_16_41_22.hdf\n",
      "drwxrwxr-x 2 ndbs Domain Users 1.0K Mar 17 21:13 .\n",
      "-rw-rw-r-- 1 ndbs Domain Users 3.9G Mar 11 16:46 w2.hdf\n",
      "drwxrwxr-x 4 ndbs Domain Users 1.5K Mar 11 16:29 ..\n",
      "CPU times: user 15min 31s, sys: 11.6 s, total: 15min 43s\n",
      "Wall time: 15min 52s\n"
     ]
    }
   ],
   "source": [
    "%%time\n",
    "w2_hdf_filename = 'w2_2023_03_14_16_41_22'\n",
    "w2_hdf_filepath = f'{hdf_dir}/{w2_hdf_filename}.hdf'\n",
    "w2_hdf_key = w2_hdf_filename\n",
    "df_w2.to_hdf(\n",
    "    w2_hdf_filepath, w2_hdf_key,\n",
    "    format='table',\n",
    "    complevel=5, complib='bzip2'\n",
    ")\n",
    "\n",
    "!ls -halt $hdf_dir"
   ]
  },
  {
   "cell_type": "markdown",
   "id": "8c99ca8f",
   "metadata": {},
   "source": [
    "# Plot number of records by year"
   ]
  },
  {
   "cell_type": "code",
   "execution_count": 14,
   "id": "b1491ad7",
   "metadata": {},
   "outputs": [
    {
     "data": {
      "text/plain": [
       "2025    10207328\n",
       "2029    10172311\n",
       "2028    10113256\n",
       "2027    10049840\n",
       "2026     9982243\n",
       "2024     9832025\n",
       "2023     9744663\n",
       "2022     9632522\n",
       "2021     9457466\n",
       "2020     8323569\n",
       "Name: tax_year, dtype: int64"
      ]
     },
     "execution_count": 14,
     "metadata": {},
     "output_type": "execute_result"
    }
   ],
   "source": [
    "df_w2.tax_year.value_counts()"
   ]
  },
  {
   "cell_type": "code",
   "execution_count": 16,
   "id": "f509175c",
   "metadata": {},
   "outputs": [
    {
     "data": {
      "text/plain": [
       "Text(0, 0.5, 'number of records')"
      ]
     },
     "execution_count": 16,
     "metadata": {},
     "output_type": "execute_result"
    },
    {
     "data": {
      "image/png": "[encoded data removed]",
      "text/plain": [
       "<Figure size 640x480 with 1 Axes>"
      ]
     },
     "metadata": {},
     "output_type": "display_data"
    }
   ],
   "source": [
    "df_w2.tax_year.value_counts(sort=False).plot.bar()\n",
    "plt.xlabel('tax year')\n",
    "plt.ylabel('number of records')"
   ]
  },
  {
   "cell_type": "markdown",
   "id": "fead253d",
   "metadata": {},
   "source": [
    "# Plot number of records by year again, but split into W2s and 1099s\n",
    "\n",
    "I've never made a stacked bar chart before, so I'm experimenting a bit..."
   ]
  },
  {
   "cell_type": "code",
   "execution_count": 81,
   "id": "9068f5b4",
   "metadata": {},
   "outputs": [
    {
     "name": "stdout",
     "output_type": "stream",
     "text": [
      "CPU times: user 2.89 s, sys: 1.65 s, total: 4.55 s\n",
      "Wall time: 4.55 s\n"
     ]
    },
    {
     "data": {
      "text/plain": [
       "tax_year  is_w2\n",
       "2020      False     446203\n",
       "          True     7877366\n",
       "2021      False     505780\n",
       "          True     8951686\n",
       "2022      False     515801\n",
       "          True     9116721\n",
       "2023      False     520306\n",
       "          True     9224357\n",
       "2024      False     526278\n",
       "          True     9305747\n",
       "2025      False     544645\n",
       "          True     9662683\n",
       "2026      False     533771\n",
       "          True     9448472\n",
       "2027      False     537755\n",
       "          True     9512085\n",
       "2028      False     542506\n",
       "          True     9570750\n",
       "2029      False     544603\n",
       "          True     9627708\n",
       "dtype: int64"
      ]
     },
     "execution_count": 81,
     "metadata": {},
     "output_type": "execute_result"
    }
   ],
   "source": [
    "%time temp = df_w2.value_counts(['tax_year', 'is_w2'], sort=False)\n",
    "# The following groupby is equivalent to value_counts() - see below\n",
    "# %time temp = df_w2.groupby(['tax_year', 'is_w2'])['ssn'].count()\n",
    "temp"
   ]
  },
  {
   "cell_type": "code",
   "execution_count": 82,
   "id": "4b9e8e15",
   "metadata": {},
   "outputs": [
    {
     "name": "stdout",
     "output_type": "stream",
     "text": [
      "CPU times: user 2.73 s, sys: 1.6 s, total: 4.33 s\n",
      "Wall time: 4.33 s\n"
     ]
    },
    {
     "data": {
      "text/plain": [
       "True"
      ]
     },
     "execution_count": 82,
     "metadata": {},
     "output_type": "execute_result"
    }
   ],
   "source": [
    "# .value_counts() is equivalent to doing a groupby\n",
    "%time temp2 = df_w2.groupby(['tax_year', 'is_w2'])['ssn'].count()\n",
    "temp2.equals(temp)"
   ]
  },
  {
   "cell_type": "code",
   "execution_count": 100,
   "id": "633e7e66",
   "metadata": {},
   "outputs": [
    {
     "data": {
      "text/html": [
       "<div>\n",
       "<style scoped>\n",
       "    .dataframe tbody tr th:only-of-type {\n",
       "        vertical-align: middle;\n",
       "    }\n",
       "\n",
       "    .dataframe tbody tr th {\n",
       "        vertical-align: top;\n",
       "    }\n",
       "\n",
       "    .dataframe thead th {\n",
       "        text-align: right;\n",
       "    }\n",
       "</style>\n",
       "<table border=\"1\" class=\"dataframe\">\n",
       "  <thead>\n",
       "    <tr style=\"text-align: right;\">\n",
       "      <th></th>\n",
       "      <th>W2's</th>\n",
       "      <th>1099's</th>\n",
       "    </tr>\n",
       "    <tr>\n",
       "      <th>tax_year</th>\n",
       "      <th></th>\n",
       "      <th></th>\n",
       "    </tr>\n",
       "  </thead>\n",
       "  <tbody>\n",
       "    <tr>\n",
       "      <th>2020</th>\n",
       "      <td>7877366</td>\n",
       "      <td>446203</td>\n",
       "    </tr>\n",
       "    <tr>\n",
       "      <th>2021</th>\n",
       "      <td>8951686</td>\n",
       "      <td>505780</td>\n",
       "    </tr>\n",
       "    <tr>\n",
       "      <th>2022</th>\n",
       "      <td>9116721</td>\n",
       "      <td>515801</td>\n",
       "    </tr>\n",
       "    <tr>\n",
       "      <th>2023</th>\n",
       "      <td>9224357</td>\n",
       "      <td>520306</td>\n",
       "    </tr>\n",
       "    <tr>\n",
       "      <th>2024</th>\n",
       "      <td>9305747</td>\n",
       "      <td>526278</td>\n",
       "    </tr>\n",
       "    <tr>\n",
       "      <th>2025</th>\n",
       "      <td>9662683</td>\n",
       "      <td>544645</td>\n",
       "    </tr>\n",
       "    <tr>\n",
       "      <th>2026</th>\n",
       "      <td>9448472</td>\n",
       "      <td>533771</td>\n",
       "    </tr>\n",
       "    <tr>\n",
       "      <th>2027</th>\n",
       "      <td>9512085</td>\n",
       "      <td>537755</td>\n",
       "    </tr>\n",
       "    <tr>\n",
       "      <th>2028</th>\n",
       "      <td>9570750</td>\n",
       "      <td>542506</td>\n",
       "    </tr>\n",
       "    <tr>\n",
       "      <th>2029</th>\n",
       "      <td>9627708</td>\n",
       "      <td>544603</td>\n",
       "    </tr>\n",
       "  </tbody>\n",
       "</table>\n",
       "</div>"
      ],
      "text/plain": [
       "             W2's  1099's\n",
       "tax_year                 \n",
       "2020      7877366  446203\n",
       "2021      8951686  505780\n",
       "2022      9116721  515801\n",
       "2023      9224357  520306\n",
       "2024      9305747  526278\n",
       "2025      9662683  544645\n",
       "2026      9448472  533771\n",
       "2027      9512085  537755\n",
       "2028      9570750  542506\n",
       "2029      9627708  544603"
      ]
     },
     "execution_count": 100,
     "metadata": {},
     "output_type": "execute_result"
    }
   ],
   "source": [
    "# Get separate Series for W2s and 1099s\n",
    "w2_counts_by_year = temp.loc[:,True]\n",
    "ten99_counts_by_year = temp.loc[:,False]\n",
    "# Putting them in a dataframe is equivalent to calling .unstack('is_w2')\n",
    "pd.concat({\"W2's\": w2_counts_by_year, \"1099's\": ten99_counts_by_year}, axis=1)"
   ]
  },
  {
   "cell_type": "code",
   "execution_count": 97,
   "id": "6d13b9e4",
   "metadata": {},
   "outputs": [
    {
     "data": {
      "text/plain": [
       "<matplotlib.legend.Legend at 0x7f5303aceeb0>"
      ]
     },
     "execution_count": 97,
     "metadata": {},
     "output_type": "execute_result"
    },
    {
     "data": {
      "image/png": "[encoded data removed]",
      "text/plain": [
       "<Figure size 640x480 with 1 Axes>"
      ]
     },
     "metadata": {},
     "output_type": "display_data"
    }
   ],
   "source": [
    "# Solution 1 for stacked bar chart from here:\n",
    "# https://python-charts.com/part-whole/stacked-bar-chart-matplotlib/\n",
    "plt.bar(w2_counts_by_year.index, w2_counts_by_year, label=\"W2's\")\n",
    "plt.bar(\n",
    "    ten99_counts_by_year.index,\n",
    "    ten99_counts_by_year,\n",
    "    bottom=w2_counts_by_year,\n",
    "    label=\"1099's\"\n",
    ")\n",
    "plt.xlabel(\"year\")\n",
    "plt.ylabel(\"Number of tex forms\")\n",
    "plt.legend()"
   ]
  },
  {
   "cell_type": "code",
   "execution_count": 102,
   "id": "b4b5d11d",
   "metadata": {},
   "outputs": [
    {
     "data": {
      "text/plain": [
       "Text(0, 0.5, 'Number of tax forms')"
      ]
     },
     "execution_count": 102,
     "metadata": {},
     "output_type": "execute_result"
    },
    {
     "data": {
      "image/png": "[encoded data removed]",
      "text/plain": [
       "<Figure size 640x480 with 1 Axes>"
      ]
     },
     "metadata": {},
     "output_type": "display_data"
    }
   ],
   "source": [
    "# Solution 2 for stacked bar chart from DataFrame.plot.bar() docstring\n",
    "pd.concat(\n",
    "    {\"W2's\": w2_counts_by_year, \"1099's\": ten99_counts_by_year},\n",
    "    axis=1\n",
    ").plot.bar(stacked=True)\n",
    "# temp.unstack().plot.bar(stacked=True) # Similar but puts 1099s on bottom\n",
    "plt.ylabel(\"Number of tax forms\")"
   ]
  },
  {
   "cell_type": "code",
   "execution_count": 120,
   "id": "5fbfda53",
   "metadata": {},
   "outputs": [
    {
     "data": {
      "text/plain": [
       "<AxesSubplot: xlabel='tax_year', ylabel='Number of tax forms'>"
      ]
     },
     "execution_count": 120,
     "metadata": {},
     "output_type": "execute_result"
    },
    {
     "data": {
      "image/png": "[encoded data removed]",
      "text/plain": [
       "<Figure size 640x480 with 1 Axes>"
      ]
     },
     "metadata": {},
     "output_type": "display_data"
    }
   ],
   "source": [
    "# Same solution as above, but create a DataFrame using .unstack()\n",
    "tax_forms_by_year = (\n",
    "    temp\n",
    "    .rename({True: \"W2\", False: \"1099\"}, level=\"is_w2\")\n",
    "    .rename_axis(index={\"is_w2\": \"tax_form\"})\n",
    "    .unstack(\"tax_form\")\n",
    "    [[\"W2\", \"1099\"]] # re-order the columns\n",
    ")\n",
    "tax_forms_by_year.plot.bar(stacked=True, rot=0, ylabel=\"Number of tax forms\")"
   ]
  },
  {
   "cell_type": "markdown",
   "id": "2436248f",
   "metadata": {},
   "source": [
    "# What fraction of forms are 1099s?\n",
    "\n",
    "About 5.7% each year."
   ]
  },
  {
   "cell_type": "code",
   "execution_count": 103,
   "id": "a0ac08b6",
   "metadata": {},
   "outputs": [
    {
     "data": {
      "text/plain": [
       "tax_year\n",
       "2020    0.056644\n",
       "2021    0.056501\n",
       "2022    0.056577\n",
       "2023    0.056406\n",
       "2024    0.056554\n",
       "2025    0.056366\n",
       "2026    0.056493\n",
       "2027    0.056534\n",
       "2028    0.056684\n",
       "2029    0.056566\n",
       "dtype: float64"
      ]
     },
     "execution_count": 103,
     "metadata": {},
     "output_type": "execute_result"
    }
   ],
   "source": [
    "ten99_counts_by_year / w2_counts_by_year"
   ]
  },
  {
   "cell_type": "markdown",
   "id": "ec56c817",
   "metadata": {},
   "source": [
    "# How many simulants?\n",
    "\n",
    "There are 9_350_024 = 9.35 million simulants in the test data.\n",
    "\n",
    "This run consisted of 10 seeds consisting of 1_000_000 people each, so 10 million people total.\n",
    "\n",
    "So the W2/1099 data contains about 93.5% of the pooulation. That seems high if we're not supposed to have children in here...\n",
    "\n",
    "But there are only 6_451_376 = 6.45 million simulants in 2020, so really only 64.5% of our initial population shows up in the data, which is more reasonable. The rest must be simulants who either turn 18 and start working during the sim, or immigrants who enter the sim and start working."
   ]
  },
  {
   "cell_type": "code",
   "execution_count": 18,
   "id": "502e6b6d",
   "metadata": {},
   "outputs": [
    {
     "name": "stdout",
     "output_type": "stream",
     "text": [
      "CPU times: user 4.89 s, sys: 228 ms, total: 5.12 s\n",
      "Wall time: 5.12 s\n"
     ]
    },
    {
     "data": {
      "text/plain": [
       "9350024"
      ]
     },
     "execution_count": 18,
     "metadata": {},
     "output_type": "execute_result"
    }
   ],
   "source": [
    "%time df_w2.simulant_id.nunique()"
   ]
  },
  {
   "cell_type": "code",
   "execution_count": 19,
   "id": "d9f55368",
   "metadata": {},
   "outputs": [
    {
     "data": {
      "text/plain": [
       "9.350024"
      ]
     },
     "execution_count": 19,
     "metadata": {},
     "output_type": "execute_result"
    }
   ],
   "source": [
    "9350024/1_000_000"
   ]
  },
  {
   "cell_type": "code",
   "execution_count": 59,
   "id": "061ca32e",
   "metadata": {},
   "outputs": [
    {
     "name": "stdout",
     "output_type": "stream",
     "text": [
      "CPU times: user 2.22 s, sys: 1.02 s, total: 3.24 s\n",
      "Wall time: 3.24 s\n"
     ]
    },
    {
     "data": {
      "text/plain": [
       "6451376"
      ]
     },
     "execution_count": 59,
     "metadata": {},
     "output_type": "execute_result"
    }
   ],
   "source": [
    "%time df_w2.query(\"tax_year == 2020\").simulant_id.nunique()"
   ]
  },
  {
   "cell_type": "code",
   "execution_count": 60,
   "id": "1816ce4a",
   "metadata": {},
   "outputs": [
    {
     "name": "stdout",
     "output_type": "stream",
     "text": [
      "CPU times: user 19.5 s, sys: 1.75 s, total: 21.2 s\n",
      "Wall time: 21.2 s\n"
     ]
    },
    {
     "data": {
      "text/plain": [
       "tax_year\n",
       "2020    6451376\n",
       "2021    6836750\n",
       "2022    6970087\n",
       "2023    7062391\n",
       "2024    7137685\n",
       "2025    7256586\n",
       "2026    7263635\n",
       "2027    7319022\n",
       "2028    7370073\n",
       "2029    7418122\n",
       "Name: simulant_id, dtype: int64"
      ]
     },
     "execution_count": 60,
     "metadata": {},
     "output_type": "execute_result"
    }
   ],
   "source": [
    "%time temp = df_w2.groupby(\"tax_year\").simulant_id.nunique()\n",
    "temp"
   ]
  },
  {
   "cell_type": "code",
   "execution_count": 69,
   "id": "5231d1b7",
   "metadata": {},
   "outputs": [
    {
     "data": {
      "text/plain": [
       "Text(0, 0.5, 'Number of people with W2s or 1099s')"
      ]
     },
     "execution_count": 69,
     "metadata": {},
     "output_type": "execute_result"
    },
    {
     "data": {
      "image/png": "[encoded data removed]",
      "text/plain": [
       "<Figure size 640x480 with 1 Axes>"
      ]
     },
     "metadata": {},
     "output_type": "display_data"
    }
   ],
   "source": [
    "plt.plot(temp.index, temp, marker='o')\n",
    "plt.ylim(5e6 ,7.5e6)\n",
    "plt.xlabel('year')\n",
    "plt.ylabel('Number of people with W2s or 1099s')"
   ]
  },
  {
   "cell_type": "markdown",
   "id": "71264cb8",
   "metadata": {},
   "source": [
    "# Check overall age distribution\n",
    "\n",
    "Looks reasonable. Minimum age is 18, and maximum is 108.\n",
    "\n",
    "But why is there a bump around age 60 (and other, smaller weird bumps at younger ages)?\n",
    "\n",
    "Note that this is counting _rows_ not simulants, so the same simulant will show up multiple times if they are employed in multiple years and/or have multiple jobs in one year. So the bump at 60 could be due to, e.g., more 60-year-olds being employed than 50-year-olds, or due to 60-year-olds having multiple jobs per year more frequently than 50-year-olds. Or something else I haven't thought of. We'll have to drill down farther into the data to figure it out."
   ]
  },
  {
   "cell_type": "code",
   "execution_count": 35,
   "id": "cd1acf00",
   "metadata": {},
   "outputs": [
    {
     "name": "stdout",
     "output_type": "stream",
     "text": [
      "CPU times: user 1.46 s, sys: 336 ms, total: 1.79 s\n",
      "Wall time: 1.79 s\n"
     ]
    },
    {
     "data": {
      "text/plain": [
       "Text(0.5, 1.0, 'Age distribution of rows in all years combined (2020-2029)')"
      ]
     },
     "execution_count": 35,
     "metadata": {},
     "output_type": "execute_result"
    },
    {
     "data": {
      "image/png": "[encoded data removed]",
      "text/plain": [
       "<Figure size 640x480 with 1 Axes>"
      ]
     },
     "metadata": {},
     "output_type": "display_data"
    }
   ],
   "source": [
    "%time df_w2.age.hist(bins=200)\n",
    "plt.xlabel('age')\n",
    "plt.ylabel('number of rows in bin')\n",
    "plt.title(\"Age distribution of rows in all years combined (2020-2029)\")"
   ]
  },
  {
   "cell_type": "code",
   "execution_count": 23,
   "id": "2e3bbc35",
   "metadata": {},
   "outputs": [
    {
     "data": {
      "text/plain": [
       "count    9.751522e+07\n",
       "mean     4.917890e+01\n",
       "std      1.915804e+01\n",
       "min      1.800045e+01\n",
       "25%      3.282000e+01\n",
       "50%      4.797651e+01\n",
       "75%      6.423642e+01\n",
       "max      1.084132e+02\n",
       "Name: age, dtype: float64"
      ]
     },
     "execution_count": 23,
     "metadata": {},
     "output_type": "execute_result"
    }
   ],
   "source": [
    "df_w2.age.describe()"
   ]
  },
  {
   "cell_type": "code",
   "execution_count": 24,
   "id": "3eb2e46b",
   "metadata": {},
   "outputs": [
    {
     "data": {
      "text/plain": [
       "(18.000448, 108.41321)"
      ]
     },
     "execution_count": 24,
     "metadata": {},
     "output_type": "execute_result"
    }
   ],
   "source": [
    "df_w2.age.min(), df_w2.age.max()"
   ]
  },
  {
   "cell_type": "code",
   "execution_count": 36,
   "id": "27f9a3b6",
   "metadata": {},
   "outputs": [
    {
     "name": "stdout",
     "output_type": "stream",
     "text": [
      "CPU times: user 2.03 s, sys: 976 ms, total: 3 s\n",
      "Wall time: 3 s\n"
     ]
    },
    {
     "data": {
      "text/plain": [
       "Text(0.5, 1.0, 'Age distribution of rows in 2020')"
      ]
     },
     "execution_count": 36,
     "metadata": {},
     "output_type": "execute_result"
    },
    {
     "data": {
      "image/png": "[encoded data removed]",
      "text/plain": [
       "<Figure size 640x480 with 1 Axes>"
      ]
     },
     "metadata": {},
     "output_type": "display_data"
    }
   ],
   "source": [
    "%time df_w2.query(\"tax_year==2020\").age.hist(bins=200)\n",
    "plt.xlabel('age')\n",
    "plt.ylabel('number of rows in bin')\n",
    "plt.title(\"Age distribution of rows in 2020\")"
   ]
  },
  {
   "cell_type": "markdown",
   "id": "b6357921",
   "metadata": {},
   "source": [
    "# Plot overall age distribution of rows for each year\n",
    "\n",
    "Nice, we can see the age distribution move to the right one year at a time, and the distribution gets less lumpy over time."
   ]
  },
  {
   "cell_type": "code",
   "execution_count": 58,
   "id": "2591e604",
   "metadata": {},
   "outputs": [
    {
     "name": "stdout",
     "output_type": "stream",
     "text": [
      "CPU times: user 21.3 s, sys: 9.67 s, total: 31 s\n",
      "Wall time: 31 s\n"
     ]
    },
    {
     "data": {
      "image/png": "[encoded data removed]",
      "text/plain": [
       "<Figure size 1000x1500 with 10 Axes>"
      ]
     },
     "metadata": {},
     "output_type": "display_data"
    }
   ],
   "source": [
    "%%time\n",
    "def plot_age_distribution_of_rows_for_year(df_w2, year, ax):\n",
    "    df_w2.query(\"tax_year == @year\").age.hist(bins=200, ax=ax)\n",
    "    ax.set_xlabel('age')\n",
    "    ax.set_ylabel('number of rows in bin')\n",
    "    ax.set_title(f\"Age distribution of rows in {year}\")\n",
    "    ax.set_xticks(range(10, 120, 10))\n",
    "    ax.set_yticks(range(0, 100_000, 20_000))\n",
    "    \n",
    "fig, axs = plt.subplots(5, 2, figsize=(10,15))\n",
    "for year, ax in zip(range(2020, 2030), axs.flatten()):\n",
    "    plot_age_distribution_of_rows_for_year(df_w2, year, ax)\n",
    "fig.tight_layout()"
   ]
  },
  {
   "cell_type": "code",
   "execution_count": null,
   "id": "a0c19c85",
   "metadata": {},
   "outputs": [],
   "source": []
  }
 ],
 "metadata": {
  "kernelspec": {
   "display_name": "Python 3 (ipykernel)",
   "language": "python",
   "name": "python3"
  },
  "language_info": {
   "codemirror_mode": {
    "name": "ipython",
    "version": 3
   },
   "file_extension": ".py",
   "mimetype": "text/x-python",
   "name": "python",
   "nbconvert_exporter": "python",
   "pygments_lexer": "ipython3",
   "version": "3.8.13"
  }
 },
 "nbformat": 4,
 "nbformat_minor": 5
}
