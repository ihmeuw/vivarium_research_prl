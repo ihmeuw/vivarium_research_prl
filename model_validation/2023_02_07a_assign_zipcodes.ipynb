{
 "cells": [
  {
   "cell_type": "code",
   "execution_count": 1,
   "id": "50cb86d5",
   "metadata": {},
   "outputs": [
    {
     "name": "stdout",
     "output_type": "stream",
     "text": [
      "Thu 09 Feb 2023 10:50:17 PM PST\n",
      "ndbs\n",
      "Linux int-slurm-sarchive-p0002 5.4.0-89-generic #100-Ubuntu SMP Fri Sep 24 14:50:10 UTC 2021 x86_64 x86_64 x86_64 GNU/Linux\n",
      "/mnt/share/code/ndbs/vivarium_research_prl/linkage/wic_case_study\n"
     ]
    }
   ],
   "source": [
    "import numpy as np, matplotlib.pyplot as plt, pandas as pd\n",
    "pd.set_option('display.max_rows', 40)\n",
    "\n",
    "from vivarium_research_prl.noise import corruption, fake_names, noisify\n",
    "\n",
    "!date\n",
    "!whoami\n",
    "!uname -a\n",
    "!pwd"
   ]
  },
  {
   "cell_type": "code",
   "execution_count": 2,
   "id": "d92cd2a3",
   "metadata": {},
   "outputs": [],
   "source": [
    "%load_ext autoreload\n",
    "%autoreload 2"
   ]
  },
  {
   "cell_type": "markdown",
   "id": "c8773162",
   "metadata": {},
   "source": [
    "# Goal: Assign zipcodes to new census data that only has address IDs\n",
    "\n",
    "We can use use the zipcodes from the `2022_10_14_10_49_32` data that has both address and zipcode columns. The idea is to map each unique address ID in the new `2023_02_02_10_16_21` data to an address in the old data, then use the zipcode for that address. The goal is to have the relative number of addreses per zipcode be about the same as in the old data. I'm not concerned with getting address strings for the address IDs, because I can just convert each ID to a string and use that as the address for linking."
   ]
  },
  {
   "cell_type": "markdown",
   "id": "86f448d8",
   "metadata": {},
   "source": [
    "# Define directories"
   ]
  },
  {
   "cell_type": "code",
   "execution_count": 3,
   "id": "550591be",
   "metadata": {},
   "outputs": [
    {
     "name": "stdout",
     "output_type": "stream",
     "text": [
      "total 32224\r\n",
      "-rw-rw-r-- 1 albrja   IHME-Simulationscience 12622072 Oct 20 23:08 decennial_census.hdf\r\n",
      "-rwxrwxrwx 1 beatrixh IHME-Simulationscience 20364830 Nov 14 16:42 state_table.hdf\r\n"
     ]
    }
   ],
   "source": [
    "project_output_dir = '/mnt/team/simulation_science/priv/engineering/vivarium_census_prl_synth_pop'\n",
    "orig_data_subdir = 'results/special_last_names/florida/2022_10_14_10_49_32/population_table/'\n",
    "orig_data_dir = f'{project_output_dir}/{orig_data_subdir}'\n",
    "\n",
    "new_data_subdir = 'results/vv_post_processing_first_middle_names/united_states_of_america/2023_02_02_10_16_21/'\n",
    "new_data_subsubdir = 'final_results/2023_02_02_11_10_52'\n",
    "new_data_dir = f'{project_output_dir}/{new_data_subdir}/{new_data_subsubdir}'\n",
    "\n",
    "!ls -l $orig_data_dir\n"
   ]
  },
  {
   "cell_type": "markdown",
   "id": "054670c9",
   "metadata": {},
   "source": [
    "# Load state table from original data"
   ]
  },
  {
   "cell_type": "code",
   "execution_count": 4,
   "id": "c22950b0",
   "metadata": {},
   "outputs": [
    {
     "data": {
      "text/html": [
       "<div>\n",
       "<style scoped>\n",
       "    .dataframe tbody tr th:only-of-type {\n",
       "        vertical-align: middle;\n",
       "    }\n",
       "\n",
       "    .dataframe tbody tr th {\n",
       "        vertical-align: top;\n",
       "    }\n",
       "\n",
       "    .dataframe thead th {\n",
       "        text-align: right;\n",
       "    }\n",
       "</style>\n",
       "<table border=\"1\" class=\"dataframe\">\n",
       "  <thead>\n",
       "    <tr style=\"text-align: right;\">\n",
       "      <th></th>\n",
       "      <th>tracked</th>\n",
       "      <th>middle_name</th>\n",
       "      <th>sex</th>\n",
       "      <th>relation_to_household_head</th>\n",
       "      <th>race_ethnicity</th>\n",
       "      <th>housing_type</th>\n",
       "      <th>exit_time</th>\n",
       "      <th>last_name</th>\n",
       "      <th>state</th>\n",
       "      <th>ssn</th>\n",
       "      <th>...</th>\n",
       "      <th>years_of_life_lost</th>\n",
       "      <th>cause_of_death</th>\n",
       "      <th>zipcode</th>\n",
       "      <th>address</th>\n",
       "      <th>parent_id</th>\n",
       "      <th>last_birth_time</th>\n",
       "      <th>employer_id</th>\n",
       "      <th>employer_name</th>\n",
       "      <th>employer_zipcode</th>\n",
       "      <th>employer_address</th>\n",
       "    </tr>\n",
       "  </thead>\n",
       "  <tbody>\n",
       "    <tr>\n",
       "      <th>0</th>\n",
       "      <td>True</td>\n",
       "      <td>Jenny</td>\n",
       "      <td>Female</td>\n",
       "      <td>Reference person</td>\n",
       "      <td>Black</td>\n",
       "      <td>Standard</td>\n",
       "      <td>NaT</td>\n",
       "      <td>Clark</td>\n",
       "      <td>12</td>\n",
       "      <td>486-24-8278</td>\n",
       "      <td>...</td>\n",
       "      <td>0.0</td>\n",
       "      <td>not_dead</td>\n",
       "      <td>34601</td>\n",
       "      <td>1344 winoka rd  brooksville, fl</td>\n",
       "      <td>-1</td>\n",
       "      <td>2019-03-04 18:00:00</td>\n",
       "      <td>46</td>\n",
       "      <td>not implemented</td>\n",
       "      <td>33187</td>\n",
       "      <td>2408 brookshire dr  sunset corners, fl</td>\n",
       "    </tr>\n",
       "    <tr>\n",
       "      <th>1</th>\n",
       "      <td>True</td>\n",
       "      <td>Virgil</td>\n",
       "      <td>Male</td>\n",
       "      <td>Reference person</td>\n",
       "      <td>Black</td>\n",
       "      <td>Standard</td>\n",
       "      <td>NaT</td>\n",
       "      <td>Littlejohn</td>\n",
       "      <td>12</td>\n",
       "      <td>108-89-8623</td>\n",
       "      <td>...</td>\n",
       "      <td>0.0</td>\n",
       "      <td>not_dead</td>\n",
       "      <td>34698</td>\n",
       "      <td>927 23rd st  clearwater, fl</td>\n",
       "      <td>-1</td>\n",
       "      <td>NaT</td>\n",
       "      <td>193</td>\n",
       "      <td>not implemented</td>\n",
       "      <td>33948</td>\n",
       "      <td>144 tulip ln  prt charlotte, fl</td>\n",
       "    </tr>\n",
       "    <tr>\n",
       "      <th>2</th>\n",
       "      <td>True</td>\n",
       "      <td>Annaliese</td>\n",
       "      <td>Female</td>\n",
       "      <td>Biological child</td>\n",
       "      <td>Black</td>\n",
       "      <td>Standard</td>\n",
       "      <td>NaT</td>\n",
       "      <td>Jackson</td>\n",
       "      <td>12</td>\n",
       "      <td>788-05-3097</td>\n",
       "      <td>...</td>\n",
       "      <td>0.0</td>\n",
       "      <td>not_dead</td>\n",
       "      <td>34698</td>\n",
       "      <td>927 23rd st  clearwater, fl</td>\n",
       "      <td>-1</td>\n",
       "      <td>2019-03-04 18:00:00</td>\n",
       "      <td>-1</td>\n",
       "      <td>unemployed</td>\n",
       "      <td>NA</td>\n",
       "      <td>NA</td>\n",
       "    </tr>\n",
       "    <tr>\n",
       "      <th>3</th>\n",
       "      <td>True</td>\n",
       "      <td>Devyn</td>\n",
       "      <td>Male</td>\n",
       "      <td>Stepchild</td>\n",
       "      <td>Black</td>\n",
       "      <td>Standard</td>\n",
       "      <td>NaT</td>\n",
       "      <td>Cox</td>\n",
       "      <td>12</td>\n",
       "      <td></td>\n",
       "      <td>...</td>\n",
       "      <td>0.0</td>\n",
       "      <td>not_dead</td>\n",
       "      <td>34698</td>\n",
       "      <td>927 23rd st  clearwater, fl</td>\n",
       "      <td>-1</td>\n",
       "      <td>NaT</td>\n",
       "      <td>204</td>\n",
       "      <td>not implemented</td>\n",
       "      <td>33169</td>\n",
       "      <td>1835 harvard dr  hialeah, fl</td>\n",
       "    </tr>\n",
       "    <tr>\n",
       "      <th>4</th>\n",
       "      <td>True</td>\n",
       "      <td>Jonathan</td>\n",
       "      <td>Male</td>\n",
       "      <td>Reference person</td>\n",
       "      <td>White</td>\n",
       "      <td>Standard</td>\n",
       "      <td>NaT</td>\n",
       "      <td>Tucker</td>\n",
       "      <td>12</td>\n",
       "      <td>009-31-4192</td>\n",
       "      <td>...</td>\n",
       "      <td>0.0</td>\n",
       "      <td>not_dead</td>\n",
       "      <td>32003</td>\n",
       "      <td>8904 167th place  fleming island, fl</td>\n",
       "      <td>-1</td>\n",
       "      <td>NaT</td>\n",
       "      <td>176</td>\n",
       "      <td>not implemented</td>\n",
       "      <td>34293</td>\n",
       "      <td>2607 e bluefield ave  venice, fl</td>\n",
       "    </tr>\n",
       "    <tr>\n",
       "      <th>...</th>\n",
       "      <td>...</td>\n",
       "      <td>...</td>\n",
       "      <td>...</td>\n",
       "      <td>...</td>\n",
       "      <td>...</td>\n",
       "      <td>...</td>\n",
       "      <td>...</td>\n",
       "      <td>...</td>\n",
       "      <td>...</td>\n",
       "      <td>...</td>\n",
       "      <td>...</td>\n",
       "      <td>...</td>\n",
       "      <td>...</td>\n",
       "      <td>...</td>\n",
       "      <td>...</td>\n",
       "      <td>...</td>\n",
       "      <td>...</td>\n",
       "      <td>...</td>\n",
       "      <td>...</td>\n",
       "      <td>...</td>\n",
       "      <td>...</td>\n",
       "    </tr>\n",
       "    <tr>\n",
       "      <th>49995</th>\n",
       "      <td>True</td>\n",
       "      <td>Nicholas</td>\n",
       "      <td>Male</td>\n",
       "      <td>Institutionalized GQ pop</td>\n",
       "      <td>White</td>\n",
       "      <td>Other institutional</td>\n",
       "      <td>NaT</td>\n",
       "      <td>Roberts</td>\n",
       "      <td>12</td>\n",
       "      <td>625-97-5353</td>\n",
       "      <td>...</td>\n",
       "      <td>0.0</td>\n",
       "      <td>not_dead</td>\n",
       "      <td>33919</td>\n",
       "      <td>114 s frnt st  fort myers, fl</td>\n",
       "      <td>-1</td>\n",
       "      <td>NaT</td>\n",
       "      <td>-1</td>\n",
       "      <td>unemployed</td>\n",
       "      <td>NA</td>\n",
       "      <td>NA</td>\n",
       "    </tr>\n",
       "    <tr>\n",
       "      <th>49996</th>\n",
       "      <td>True</td>\n",
       "      <td>John</td>\n",
       "      <td>Male</td>\n",
       "      <td>Institutionalized GQ pop</td>\n",
       "      <td>White</td>\n",
       "      <td>Carceral</td>\n",
       "      <td>NaT</td>\n",
       "      <td>Campbell</td>\n",
       "      <td>12</td>\n",
       "      <td>238-09-2208</td>\n",
       "      <td>...</td>\n",
       "      <td>0.0</td>\n",
       "      <td>not_dead</td>\n",
       "      <td>33021</td>\n",
       "      <td>2210 henn hyde rd ne  hollywood, fl</td>\n",
       "      <td>-1</td>\n",
       "      <td>NaT</td>\n",
       "      <td>-1</td>\n",
       "      <td>unemployed</td>\n",
       "      <td>NA</td>\n",
       "      <td>NA</td>\n",
       "    </tr>\n",
       "    <tr>\n",
       "      <th>49997</th>\n",
       "      <td>True</td>\n",
       "      <td>Charles</td>\n",
       "      <td>Male</td>\n",
       "      <td>Institutionalized GQ pop</td>\n",
       "      <td>Latino</td>\n",
       "      <td>Nursing home</td>\n",
       "      <td>NaT</td>\n",
       "      <td>Rosales</td>\n",
       "      <td>12</td>\n",
       "      <td>650-80-3526</td>\n",
       "      <td>...</td>\n",
       "      <td>0.0</td>\n",
       "      <td>not_dead</td>\n",
       "      <td>32968</td>\n",
       "      <td>701 haber rd  vero beach, fl</td>\n",
       "      <td>-1</td>\n",
       "      <td>NaT</td>\n",
       "      <td>-1</td>\n",
       "      <td>unemployed</td>\n",
       "      <td>NA</td>\n",
       "      <td>NA</td>\n",
       "    </tr>\n",
       "    <tr>\n",
       "      <th>49998</th>\n",
       "      <td>True</td>\n",
       "      <td>Jermaine</td>\n",
       "      <td>Male</td>\n",
       "      <td>Institutionalized GQ pop</td>\n",
       "      <td>White</td>\n",
       "      <td>Other institutional</td>\n",
       "      <td>NaT</td>\n",
       "      <td>Morton</td>\n",
       "      <td>12</td>\n",
       "      <td>784-92-1608</td>\n",
       "      <td>...</td>\n",
       "      <td>0.0</td>\n",
       "      <td>not_dead</td>\n",
       "      <td>33919</td>\n",
       "      <td>114 s frnt st  fort myers, fl</td>\n",
       "      <td>-1</td>\n",
       "      <td>NaT</td>\n",
       "      <td>19</td>\n",
       "      <td>not implemented</td>\n",
       "      <td>33444</td>\n",
       "      <td>92 address unassigned  delray beach, fl</td>\n",
       "    </tr>\n",
       "    <tr>\n",
       "      <th>49999</th>\n",
       "      <td>True</td>\n",
       "      <td>Helen</td>\n",
       "      <td>Female</td>\n",
       "      <td>Institutionalized GQ pop</td>\n",
       "      <td>Black</td>\n",
       "      <td>Nursing home</td>\n",
       "      <td>NaT</td>\n",
       "      <td>Talley</td>\n",
       "      <td>12</td>\n",
       "      <td>839-05-1155</td>\n",
       "      <td>...</td>\n",
       "      <td>0.0</td>\n",
       "      <td>not_dead</td>\n",
       "      <td>32968</td>\n",
       "      <td>701 haber rd  vero beach, fl</td>\n",
       "      <td>-1</td>\n",
       "      <td>2019-03-04 18:00:00</td>\n",
       "      <td>204</td>\n",
       "      <td>not implemented</td>\n",
       "      <td>33169</td>\n",
       "      <td>1835 harvard dr  hialeah, fl</td>\n",
       "    </tr>\n",
       "  </tbody>\n",
       "</table>\n",
       "<p>50000 rows × 27 columns</p>\n",
       "</div>"
      ],
      "text/plain": [
       "       tracked middle_name     sex relation_to_household_head race_ethnicity  \\\n",
       "0         True       Jenny  Female           Reference person          Black   \n",
       "1         True      Virgil    Male           Reference person          Black   \n",
       "2         True   Annaliese  Female           Biological child          Black   \n",
       "3         True       Devyn    Male                  Stepchild          Black   \n",
       "4         True    Jonathan    Male           Reference person          White   \n",
       "...        ...         ...     ...                        ...            ...   \n",
       "49995     True    Nicholas    Male   Institutionalized GQ pop          White   \n",
       "49996     True        John    Male   Institutionalized GQ pop          White   \n",
       "49997     True     Charles    Male   Institutionalized GQ pop         Latino   \n",
       "49998     True    Jermaine    Male   Institutionalized GQ pop          White   \n",
       "49999     True       Helen  Female   Institutionalized GQ pop          Black   \n",
       "\n",
       "              housing_type exit_time   last_name  state          ssn  ...  \\\n",
       "0                 Standard       NaT       Clark     12  486-24-8278  ...   \n",
       "1                 Standard       NaT  Littlejohn     12  108-89-8623  ...   \n",
       "2                 Standard       NaT     Jackson     12  788-05-3097  ...   \n",
       "3                 Standard       NaT         Cox     12               ...   \n",
       "4                 Standard       NaT      Tucker     12  009-31-4192  ...   \n",
       "...                    ...       ...         ...    ...          ...  ...   \n",
       "49995  Other institutional       NaT     Roberts     12  625-97-5353  ...   \n",
       "49996             Carceral       NaT    Campbell     12  238-09-2208  ...   \n",
       "49997         Nursing home       NaT     Rosales     12  650-80-3526  ...   \n",
       "49998  Other institutional       NaT      Morton     12  784-92-1608  ...   \n",
       "49999         Nursing home       NaT      Talley     12  839-05-1155  ...   \n",
       "\n",
       "      years_of_life_lost cause_of_death zipcode  \\\n",
       "0                    0.0       not_dead   34601   \n",
       "1                    0.0       not_dead   34698   \n",
       "2                    0.0       not_dead   34698   \n",
       "3                    0.0       not_dead   34698   \n",
       "4                    0.0       not_dead   32003   \n",
       "...                  ...            ...     ...   \n",
       "49995                0.0       not_dead   33919   \n",
       "49996                0.0       not_dead   33021   \n",
       "49997                0.0       not_dead   32968   \n",
       "49998                0.0       not_dead   33919   \n",
       "49999                0.0       not_dead   32968   \n",
       "\n",
       "                                    address  parent_id     last_birth_time  \\\n",
       "0           1344 winoka rd  brooksville, fl         -1 2019-03-04 18:00:00   \n",
       "1               927 23rd st  clearwater, fl         -1                 NaT   \n",
       "2               927 23rd st  clearwater, fl         -1 2019-03-04 18:00:00   \n",
       "3               927 23rd st  clearwater, fl         -1                 NaT   \n",
       "4      8904 167th place  fleming island, fl         -1                 NaT   \n",
       "...                                     ...        ...                 ...   \n",
       "49995         114 s frnt st  fort myers, fl         -1                 NaT   \n",
       "49996   2210 henn hyde rd ne  hollywood, fl         -1                 NaT   \n",
       "49997          701 haber rd  vero beach, fl         -1                 NaT   \n",
       "49998         114 s frnt st  fort myers, fl         -1                 NaT   \n",
       "49999          701 haber rd  vero beach, fl         -1 2019-03-04 18:00:00   \n",
       "\n",
       "       employer_id    employer_name employer_zipcode  \\\n",
       "0               46  not implemented            33187   \n",
       "1              193  not implemented            33948   \n",
       "2               -1       unemployed               NA   \n",
       "3              204  not implemented            33169   \n",
       "4              176  not implemented            34293   \n",
       "...            ...              ...              ...   \n",
       "49995           -1       unemployed               NA   \n",
       "49996           -1       unemployed               NA   \n",
       "49997           -1       unemployed               NA   \n",
       "49998           19  not implemented            33444   \n",
       "49999          204  not implemented            33169   \n",
       "\n",
       "                              employer_address  \n",
       "0       2408 brookshire dr  sunset corners, fl  \n",
       "1              144 tulip ln  prt charlotte, fl  \n",
       "2                                           NA  \n",
       "3                 1835 harvard dr  hialeah, fl  \n",
       "4             2607 e bluefield ave  venice, fl  \n",
       "...                                        ...  \n",
       "49995                                       NA  \n",
       "49996                                       NA  \n",
       "49997                                       NA  \n",
       "49998  92 address unassigned  delray beach, fl  \n",
       "49999             1835 harvard dr  hialeah, fl  \n",
       "\n",
       "[50000 rows x 27 columns]"
      ]
     },
     "execution_count": 4,
     "metadata": {},
     "output_type": "execute_result"
    }
   ],
   "source": [
    "state_table_path = f'{orig_data_dir}/state_table.hdf'\n",
    "df_state_table = pd.read_hdf(state_table_path, 'ymd_2020_4_1')\n",
    "df_state_table"
   ]
  },
  {
   "cell_type": "markdown",
   "id": "4fc937fb",
   "metadata": {},
   "source": [
    "# Look at how addresses are distributed among zipcodes"
   ]
  },
  {
   "cell_type": "code",
   "execution_count": 5,
   "id": "41321ab2",
   "metadata": {},
   "outputs": [
    {
     "data": {
      "text/plain": [
       "zipcode\n",
       "cp34714      1\n",
       "32420        1\n",
       "32357        1\n",
       "cp34110      1\n",
       "32312        1\n",
       "          ... \n",
       "33908      114\n",
       "32218      120\n",
       "33974      138\n",
       "33993      154\n",
       "34953      155\n",
       "Name: address, Length: 864, dtype: int64"
      ]
     },
     "execution_count": 5,
     "metadata": {},
     "output_type": "execute_result"
    }
   ],
   "source": [
    "address_counts = df_state_table.groupby('zipcode')['address'].nunique().sort_values()\n",
    "address_counts"
   ]
  },
  {
   "cell_type": "code",
   "execution_count": 6,
   "id": "0b61583b",
   "metadata": {},
   "outputs": [
    {
     "data": {
      "text/plain": [
       "33919      460\n",
       "33993      406\n",
       "34953      403\n",
       "32968      358\n",
       "33021      351\n",
       "          ... \n",
       "cp34110      1\n",
       "32445        1\n",
       "33827        1\n",
       "32024        1\n",
       "33132        1\n",
       "Name: zipcode, Length: 864, dtype: int64"
      ]
     },
     "execution_count": 6,
     "metadata": {},
     "output_type": "execute_result"
    }
   ],
   "source": [
    "df_state_table.zipcode.value_counts()"
   ]
  },
  {
   "cell_type": "code",
   "execution_count": 7,
   "id": "df189273",
   "metadata": {},
   "outputs": [
    {
     "data": {
      "text/plain": [
       "<AxesSubplot: >"
      ]
     },
     "execution_count": 7,
     "metadata": {},
     "output_type": "execute_result"
    },
    {
     "data": {
      "image/png": "[encoded data removed]",
      "text/plain": [
       "<Figure size 640x480 with 1 Axes>"
      ]
     },
     "metadata": {},
     "output_type": "display_data"
    }
   ],
   "source": [
    "address_counts.hist(bins=100)"
   ]
  },
  {
   "cell_type": "code",
   "execution_count": 8,
   "id": "0707a780",
   "metadata": {},
   "outputs": [
    {
     "data": {
      "text/plain": [
       "<AxesSubplot: >"
      ]
     },
     "execution_count": 8,
     "metadata": {},
     "output_type": "execute_result"
    },
    {
     "data": {
      "image/png": "[encoded data removed]",
      "text/plain": [
       "<Figure size 640x480 with 1 Axes>"
      ]
     },
     "metadata": {},
     "output_type": "display_data"
    }
   ],
   "source": [
    "df_state_table.zipcode.value_counts().hist(bins=100)"
   ]
  },
  {
   "cell_type": "code",
   "execution_count": 9,
   "id": "adbb2aeb",
   "metadata": {},
   "outputs": [
    {
     "data": {
      "text/plain": [
       "1      55\n",
       "2      36\n",
       "21     29\n",
       "3      27\n",
       "17     26\n",
       "       ..\n",
       "78      1\n",
       "61      1\n",
       "76      1\n",
       "73      1\n",
       "155     1\n",
       "Name: address, Length: 93, dtype: int64"
      ]
     },
     "execution_count": 9,
     "metadata": {},
     "output_type": "execute_result"
    }
   ],
   "source": [
    "# 55 zipcodes with only one address\n",
    "# 1 zipcode with 155 addresses\n",
    "address_counts.value_counts()"
   ]
  },
  {
   "cell_type": "code",
   "execution_count": 10,
   "id": "b8ba04e5",
   "metadata": {},
   "outputs": [
    {
     "data": {
      "text/plain": [
       "2      18\n",
       "3      18\n",
       "7      18\n",
       "9      17\n",
       "1      16\n",
       "       ..\n",
       "153     1\n",
       "157     1\n",
       "159     1\n",
       "160     1\n",
       "460     1\n",
       "Name: zipcode, Length: 183, dtype: int64"
      ]
     },
     "execution_count": 10,
     "metadata": {},
     "output_type": "execute_result"
    }
   ],
   "source": [
    "# 18 zipcodes occurring in only 2 rows\n",
    "# 1 zipcode occurring in 460 rows\n",
    "df_state_table.zipcode.value_counts().value_counts()"
   ]
  },
  {
   "cell_type": "markdown",
   "id": "d1eb1004",
   "metadata": {},
   "source": [
    "# Write a function to clean non-standard zipcodes"
   ]
  },
  {
   "cell_type": "code",
   "execution_count": 11,
   "id": "12145027",
   "metadata": {},
   "outputs": [
    {
     "data": {
      "text/plain": [
       "12102      cp 33440\n",
       "14637       cp34110\n",
       "16971       cp33415\n",
       "16972       cp33415\n",
       "16973       cp33415\n",
       "16974       cp33415\n",
       "23973    32223-1647\n",
       "23974    32223-1647\n",
       "27551      cp 33433\n",
       "27552      cp 33433\n",
       "27553      cp 33433\n",
       "27554      cp 33433\n",
       "27555      cp 33433\n",
       "29098       cp32095\n",
       "29099       cp32095\n",
       "29100       cp32095\n",
       "40350      cp 33409\n",
       "40351      cp 33409\n",
       "46411       cp34714\n",
       "46412       cp34714\n",
       "46413       cp34714\n",
       "Name: zipcode, dtype: object"
      ]
     },
     "execution_count": 11,
     "metadata": {},
     "output_type": "execute_result"
    }
   ],
   "source": [
    "df_state_table.loc[~df_state_table.zipcode.str.isdigit(), 'zipcode']"
   ]
  },
  {
   "cell_type": "code",
   "execution_count": 12,
   "id": "a17b002c",
   "metadata": {},
   "outputs": [
    {
     "data": {
      "text/plain": [
       "12102         33440\n",
       "14637         34110\n",
       "16971         33415\n",
       "16972         33415\n",
       "16973         33415\n",
       "16974         33415\n",
       "23973    32223-1647\n",
       "23974    32223-1647\n",
       "27551         33433\n",
       "27552         33433\n",
       "27553         33433\n",
       "27554         33433\n",
       "27555         33433\n",
       "29098         32095\n",
       "29099         32095\n",
       "29100         32095\n",
       "40350         33409\n",
       "40351         33409\n",
       "46411         34714\n",
       "46412         34714\n",
       "46413         34714\n",
       "Name: zipcode, dtype: object"
      ]
     },
     "execution_count": 12,
     "metadata": {},
     "output_type": "execute_result"
    }
   ],
   "source": [
    "zipcodes = df_state_table.zipcode\n",
    "all_digits = zipcodes.str.isdigit()\n",
    "zipcodes.loc[~all_digits].str.strip('cp ') # Don't forget the space!"
   ]
  },
  {
   "cell_type": "code",
   "execution_count": 13,
   "id": "1b591417",
   "metadata": {},
   "outputs": [
    {
     "data": {
      "text/plain": [
       "12102    cp 33440\n",
       "14637     cp34110\n",
       "16971     cp33415\n",
       "16972     cp33415\n",
       "16973     cp33415\n",
       "16974     cp33415\n",
       "23973       32223\n",
       "23974       32223\n",
       "27551    cp 33433\n",
       "27552    cp 33433\n",
       "27553    cp 33433\n",
       "27554    cp 33433\n",
       "27555    cp 33433\n",
       "29098     cp32095\n",
       "29099     cp32095\n",
       "29100     cp32095\n",
       "40350    cp 33409\n",
       "40351    cp 33409\n",
       "46411     cp34714\n",
       "46412     cp34714\n",
       "46413     cp34714\n",
       "Name: zipcode, dtype: object"
      ]
     },
     "execution_count": 13,
     "metadata": {},
     "output_type": "execute_result"
    }
   ],
   "source": [
    "zipcodes[~all_digits].str.replace('-\\d{4}', '', regex=True)"
   ]
  },
  {
   "cell_type": "code",
   "execution_count": 14,
   "id": "374ce476",
   "metadata": {},
   "outputs": [
    {
     "data": {
      "text/plain": [
       "0        34601\n",
       "1        34698\n",
       "2        34698\n",
       "3        34698\n",
       "4        32003\n",
       "         ...  \n",
       "49995    33919\n",
       "49996    33021\n",
       "49997    32968\n",
       "49998    33919\n",
       "49999    32968\n",
       "Name: zipcode, Length: 50000, dtype: object"
      ]
     },
     "execution_count": 14,
     "metadata": {},
     "output_type": "execute_result"
    }
   ],
   "source": [
    "def clean_zipcode(zipcode):\n",
    "    clean_zipcode = (\n",
    "        zipcode\n",
    "        .str.strip('cp ')\n",
    "        .str.replace(r'-\\d{4}', '', regex=True)\n",
    "    )\n",
    "    return clean_zipcode\n",
    "clean_zips = clean_zipcode(zipcodes)\n",
    "clean_zips"
   ]
  },
  {
   "cell_type": "code",
   "execution_count": 15,
   "id": "8a3aa3ee",
   "metadata": {},
   "outputs": [
    {
     "data": {
      "text/plain": [
       "12102    33440\n",
       "14637    34110\n",
       "16971    33415\n",
       "16972    33415\n",
       "16973    33415\n",
       "16974    33415\n",
       "23973    32223\n",
       "23974    32223\n",
       "27551    33433\n",
       "27552    33433\n",
       "27553    33433\n",
       "27554    33433\n",
       "27555    33433\n",
       "29098    32095\n",
       "29099    32095\n",
       "29100    32095\n",
       "40350    33409\n",
       "40351    33409\n",
       "46411    34714\n",
       "46412    34714\n",
       "46413    34714\n",
       "Name: zipcode, dtype: object"
      ]
     },
     "execution_count": 15,
     "metadata": {},
     "output_type": "execute_result"
    }
   ],
   "source": [
    "clean_zips.loc[~all_digits]"
   ]
  },
  {
   "cell_type": "markdown",
   "id": "7ff2f4dc",
   "metadata": {},
   "source": [
    "## Check that cleaned zips are all 5-digit strings"
   ]
  },
  {
   "cell_type": "code",
   "execution_count": 16,
   "id": "42e22dc3",
   "metadata": {},
   "outputs": [
    {
     "data": {
      "text/plain": [
       "True"
      ]
     },
     "execution_count": 16,
     "metadata": {},
     "output_type": "execute_result"
    }
   ],
   "source": [
    "clean_zips.str.isdigit().all()"
   ]
  },
  {
   "cell_type": "code",
   "execution_count": 17,
   "id": "c43206dc",
   "metadata": {},
   "outputs": [
    {
     "data": {
      "text/plain": [
       "True"
      ]
     },
     "execution_count": 17,
     "metadata": {},
     "output_type": "execute_result"
    }
   ],
   "source": [
    "(clean_zips.str.len() == 5).all()"
   ]
  },
  {
   "cell_type": "markdown",
   "id": "73fd29fa",
   "metadata": {},
   "source": [
    "# Look at employer addresses and zipcodes\n",
    "\n",
    "It looks like every employer address is also a residential address, for some reason. And there are not many employer addresses compared to residential addresses. So there's no point in trying to include employer addresses and zipcodes in our data."
   ]
  },
  {
   "cell_type": "code",
   "execution_count": 18,
   "id": "34785bad",
   "metadata": {},
   "outputs": [
    {
     "data": {
      "text/plain": [
       "20449"
      ]
     },
     "execution_count": 18,
     "metadata": {},
     "output_type": "execute_result"
    }
   ],
   "source": [
    "df_state_table.address.nunique()"
   ]
  },
  {
   "cell_type": "code",
   "execution_count": 19,
   "id": "373aa8c2",
   "metadata": {},
   "outputs": [
    {
     "data": {
      "text/plain": [
       "246"
      ]
     },
     "execution_count": 19,
     "metadata": {},
     "output_type": "execute_result"
    }
   ],
   "source": [
    "df_state_table.employer_address.nunique()"
   ]
  },
  {
   "cell_type": "code",
   "execution_count": 20,
   "id": "2273d835",
   "metadata": {},
   "outputs": [
    {
     "data": {
      "text/plain": [
       "207"
      ]
     },
     "execution_count": 20,
     "metadata": {},
     "output_type": "execute_result"
    }
   ],
   "source": [
    "df_state_table.employer_zipcode.nunique()"
   ]
  },
  {
   "cell_type": "code",
   "execution_count": 21,
   "id": "2f1c034a",
   "metadata": {},
   "outputs": [
    {
     "data": {
      "text/plain": [
       "{'NA'}"
      ]
     },
     "execution_count": 21,
     "metadata": {},
     "output_type": "execute_result"
    }
   ],
   "source": [
    "zips = set(df_state_table.zipcode)\n",
    "emp_zips = set(df_state_table.employer_zipcode)\n",
    "emp_zips - zips"
   ]
  },
  {
   "cell_type": "code",
   "execution_count": 22,
   "id": "9a4e118b",
   "metadata": {},
   "outputs": [
    {
     "data": {
      "text/plain": [
       "{'NA'}"
      ]
     },
     "execution_count": 22,
     "metadata": {},
     "output_type": "execute_result"
    }
   ],
   "source": [
    "# Why are all the employer addresses equal to residential addresses???\n",
    "addresses = set(df_state_table.address)\n",
    "emp_addresses = set(df_state_table.employer_address)\n",
    "emp_addresses - addresses"
   ]
  },
  {
   "cell_type": "code",
   "execution_count": 23,
   "id": "3c7f7c30",
   "metadata": {},
   "outputs": [
    {
     "data": {
      "text/plain": [
       "20204"
      ]
     },
     "execution_count": 23,
     "metadata": {},
     "output_type": "execute_result"
    }
   ],
   "source": [
    "len(addresses - emp_addresses)"
   ]
  },
  {
   "cell_type": "code",
   "execution_count": 24,
   "id": "7cc3e507",
   "metadata": {},
   "outputs": [
    {
     "data": {
      "text/plain": [
       "employer_zipcode\n",
       "32003    1\n",
       "33610    1\n",
       "33612    1\n",
       "33614    1\n",
       "33615    1\n",
       "        ..\n",
       "34287    3\n",
       "34293    3\n",
       "33928    3\n",
       "34231    3\n",
       "32218    4\n",
       "Name: employer_address, Length: 207, dtype: int64"
      ]
     },
     "execution_count": 24,
     "metadata": {},
     "output_type": "execute_result"
    }
   ],
   "source": [
    "emp_address_counts = (\n",
    "    df_state_table\n",
    "    .groupby('employer_zipcode')\n",
    "    ['employer_address'].nunique()\n",
    "    .sort_values()\n",
    ")\n",
    "emp_address_counts"
   ]
  },
  {
   "cell_type": "code",
   "execution_count": 25,
   "id": "c7d4806e",
   "metadata": {},
   "outputs": [
    {
     "data": {
      "text/plain": [
       "<AxesSubplot: >"
      ]
     },
     "execution_count": 25,
     "metadata": {},
     "output_type": "execute_result"
    },
    {
     "data": {
      "image/png": "[encoded data removed]",
      "text/plain": [
       "<Figure size 640x480 with 1 Axes>"
      ]
     },
     "metadata": {},
     "output_type": "display_data"
    }
   ],
   "source": [
    "emp_address_counts.hist()"
   ]
  },
  {
   "cell_type": "markdown",
   "id": "4eb60d62",
   "metadata": {},
   "source": [
    "# Check whether all addresses have a unique zip code\n",
    "\n",
    "## Not quite... there's one address with 2 zips\n",
    "\n",
    "Let's just ignore that and take the minimum of the two when assigning zipcodes to addresses."
   ]
  },
  {
   "cell_type": "code",
   "execution_count": 26,
   "id": "9a37f039",
   "metadata": {},
   "outputs": [
    {
     "data": {
      "text/plain": [
       "address\n",
       " 100th ave sw  arcadia, fl                1\n",
       " 109th ave sw  unincorporated, fl         1\n",
       " 10th street  unincorporated, fl          1\n",
       " 11th ave ne  cape coral, fl              1\n",
       " 12th ave  ormond beach, fl               1\n",
       "                                         ..\n",
       "w3947 stingle rd  jacksonville, fl        1\n",
       "w654 greiner rd  titusville, fl           1\n",
       "w6674 gn willow ct  unincorporated, fl    1\n",
       "w7426 state highway 33  dunnellon, fl     1\n",
       "w8581 county rd e  wesley chapel, fl      1\n",
       "Name: zipcode, Length: 20449, dtype: int64"
      ]
     },
     "execution_count": 26,
     "metadata": {},
     "output_type": "execute_result"
    }
   ],
   "source": [
    "zips_per_address = df_state_table.groupby('address')['zipcode'].nunique()\n",
    "zips_per_address"
   ]
  },
  {
   "cell_type": "code",
   "execution_count": 27,
   "id": "5ee306f9",
   "metadata": {},
   "outputs": [
    {
     "data": {
      "text/plain": [
       "1    20448\n",
       "2        1\n",
       "Name: zipcode, dtype: int64"
      ]
     },
     "execution_count": 27,
     "metadata": {},
     "output_type": "execute_result"
    }
   ],
   "source": [
    "zips_per_address.value_counts()"
   ]
  },
  {
   "cell_type": "code",
   "execution_count": 28,
   "id": "4dacb2f7",
   "metadata": {},
   "outputs": [
    {
     "data": {
      "text/plain": [
       "address\n",
       " main street  unincorporated, fl    2\n",
       "Name: zipcode, dtype: int64"
      ]
     },
     "execution_count": 28,
     "metadata": {},
     "output_type": "execute_result"
    }
   ],
   "source": [
    "zips_per_address.loc[zips_per_address == 2]"
   ]
  },
  {
   "cell_type": "code",
   "execution_count": 29,
   "id": "f946b0b4",
   "metadata": {},
   "outputs": [
    {
     "data": {
      "text/html": [
       "<div>\n",
       "<style scoped>\n",
       "    .dataframe tbody tr th:only-of-type {\n",
       "        vertical-align: middle;\n",
       "    }\n",
       "\n",
       "    .dataframe tbody tr th {\n",
       "        vertical-align: top;\n",
       "    }\n",
       "\n",
       "    .dataframe thead th {\n",
       "        text-align: right;\n",
       "    }\n",
       "</style>\n",
       "<table border=\"1\" class=\"dataframe\">\n",
       "  <thead>\n",
       "    <tr style=\"text-align: right;\">\n",
       "      <th></th>\n",
       "      <th>tracked</th>\n",
       "      <th>middle_name</th>\n",
       "      <th>sex</th>\n",
       "      <th>relation_to_household_head</th>\n",
       "      <th>race_ethnicity</th>\n",
       "      <th>housing_type</th>\n",
       "      <th>exit_time</th>\n",
       "      <th>last_name</th>\n",
       "      <th>state</th>\n",
       "      <th>ssn</th>\n",
       "      <th>...</th>\n",
       "      <th>years_of_life_lost</th>\n",
       "      <th>cause_of_death</th>\n",
       "      <th>zipcode</th>\n",
       "      <th>address</th>\n",
       "      <th>parent_id</th>\n",
       "      <th>last_birth_time</th>\n",
       "      <th>employer_id</th>\n",
       "      <th>employer_name</th>\n",
       "      <th>employer_zipcode</th>\n",
       "      <th>employer_address</th>\n",
       "    </tr>\n",
       "  </thead>\n",
       "  <tbody>\n",
       "    <tr>\n",
       "      <th>13932</th>\n",
       "      <td>True</td>\n",
       "      <td>Brandon</td>\n",
       "      <td>Male</td>\n",
       "      <td>Reference person</td>\n",
       "      <td>Latino</td>\n",
       "      <td>Standard</td>\n",
       "      <td>NaT</td>\n",
       "      <td>Gonzalez</td>\n",
       "      <td>12</td>\n",
       "      <td>056-48-7134</td>\n",
       "      <td>...</td>\n",
       "      <td>0.0</td>\n",
       "      <td>not_dead</td>\n",
       "      <td>33411</td>\n",
       "      <td>main street  unincorporated, fl</td>\n",
       "      <td>-1</td>\n",
       "      <td>NaT</td>\n",
       "      <td>-1</td>\n",
       "      <td>unemployed</td>\n",
       "      <td>NA</td>\n",
       "      <td>NA</td>\n",
       "    </tr>\n",
       "    <tr>\n",
       "      <th>13933</th>\n",
       "      <td>True</td>\n",
       "      <td>Jana</td>\n",
       "      <td>Female</td>\n",
       "      <td>Opp-sex spouse</td>\n",
       "      <td>White</td>\n",
       "      <td>Standard</td>\n",
       "      <td>NaT</td>\n",
       "      <td>Richards</td>\n",
       "      <td>12</td>\n",
       "      <td>225-28-2266</td>\n",
       "      <td>...</td>\n",
       "      <td>0.0</td>\n",
       "      <td>not_dead</td>\n",
       "      <td>33411</td>\n",
       "      <td>main street  unincorporated, fl</td>\n",
       "      <td>-1</td>\n",
       "      <td>2019-03-04 18:00:00</td>\n",
       "      <td>-1</td>\n",
       "      <td>unemployed</td>\n",
       "      <td>NA</td>\n",
       "      <td>NA</td>\n",
       "    </tr>\n",
       "    <tr>\n",
       "      <th>47375</th>\n",
       "      <td>True</td>\n",
       "      <td>Michael</td>\n",
       "      <td>Male</td>\n",
       "      <td>Reference person</td>\n",
       "      <td>Latino</td>\n",
       "      <td>Standard</td>\n",
       "      <td>NaT</td>\n",
       "      <td>Garcia</td>\n",
       "      <td>12</td>\n",
       "      <td>326-69-8037</td>\n",
       "      <td>...</td>\n",
       "      <td>0.0</td>\n",
       "      <td>not_dead</td>\n",
       "      <td>32818</td>\n",
       "      <td>main street  unincorporated, fl</td>\n",
       "      <td>-1</td>\n",
       "      <td>NaT</td>\n",
       "      <td>93</td>\n",
       "      <td>not implemented</td>\n",
       "      <td>33324</td>\n",
       "      <td>6450 n hwy 97  plantation, fl</td>\n",
       "    </tr>\n",
       "    <tr>\n",
       "      <th>47376</th>\n",
       "      <td>True</td>\n",
       "      <td>Mercedes</td>\n",
       "      <td>Female</td>\n",
       "      <td>Opp-sex spouse</td>\n",
       "      <td>Latino</td>\n",
       "      <td>Standard</td>\n",
       "      <td>NaT</td>\n",
       "      <td>Garcia</td>\n",
       "      <td>12</td>\n",
       "      <td>567-50-4363</td>\n",
       "      <td>...</td>\n",
       "      <td>0.0</td>\n",
       "      <td>not_dead</td>\n",
       "      <td>32818</td>\n",
       "      <td>main street  unincorporated, fl</td>\n",
       "      <td>-1</td>\n",
       "      <td>2019-03-04 18:00:00</td>\n",
       "      <td>64</td>\n",
       "      <td>not implemented</td>\n",
       "      <td>32244</td>\n",
       "      <td>35 katie court  jacksonville, fl</td>\n",
       "    </tr>\n",
       "    <tr>\n",
       "      <th>47377</th>\n",
       "      <td>True</td>\n",
       "      <td>Mikel</td>\n",
       "      <td>Male</td>\n",
       "      <td>Biological child</td>\n",
       "      <td>Latino</td>\n",
       "      <td>Standard</td>\n",
       "      <td>NaT</td>\n",
       "      <td>Rowland</td>\n",
       "      <td>12</td>\n",
       "      <td>729-49-1167</td>\n",
       "      <td>...</td>\n",
       "      <td>0.0</td>\n",
       "      <td>not_dead</td>\n",
       "      <td>32818</td>\n",
       "      <td>main street  unincorporated, fl</td>\n",
       "      <td>-1</td>\n",
       "      <td>NaT</td>\n",
       "      <td>48</td>\n",
       "      <td>not implemented</td>\n",
       "      <td>32763</td>\n",
       "      <td>5266 shady rd  orange city, fl</td>\n",
       "    </tr>\n",
       "    <tr>\n",
       "      <th>47378</th>\n",
       "      <td>True</td>\n",
       "      <td>Irene</td>\n",
       "      <td>Female</td>\n",
       "      <td>Parent-in-law</td>\n",
       "      <td>Latino</td>\n",
       "      <td>Standard</td>\n",
       "      <td>NaT</td>\n",
       "      <td>Ponce</td>\n",
       "      <td>12</td>\n",
       "      <td>387-77-8308</td>\n",
       "      <td>...</td>\n",
       "      <td>0.0</td>\n",
       "      <td>not_dead</td>\n",
       "      <td>32818</td>\n",
       "      <td>main street  unincorporated, fl</td>\n",
       "      <td>-1</td>\n",
       "      <td>2019-03-04 18:00:00</td>\n",
       "      <td>191</td>\n",
       "      <td>not implemented</td>\n",
       "      <td>33139</td>\n",
       "      <td>9915 w hope cir  miami beach, fl</td>\n",
       "    </tr>\n",
       "  </tbody>\n",
       "</table>\n",
       "<p>6 rows × 27 columns</p>\n",
       "</div>"
      ],
      "text/plain": [
       "       tracked middle_name     sex relation_to_household_head race_ethnicity  \\\n",
       "13932     True     Brandon    Male           Reference person         Latino   \n",
       "13933     True        Jana  Female             Opp-sex spouse          White   \n",
       "47375     True     Michael    Male           Reference person         Latino   \n",
       "47376     True    Mercedes  Female             Opp-sex spouse         Latino   \n",
       "47377     True       Mikel    Male           Biological child         Latino   \n",
       "47378     True       Irene  Female              Parent-in-law         Latino   \n",
       "\n",
       "      housing_type exit_time last_name  state          ssn  ...  \\\n",
       "13932     Standard       NaT  Gonzalez     12  056-48-7134  ...   \n",
       "13933     Standard       NaT  Richards     12  225-28-2266  ...   \n",
       "47375     Standard       NaT    Garcia     12  326-69-8037  ...   \n",
       "47376     Standard       NaT    Garcia     12  567-50-4363  ...   \n",
       "47377     Standard       NaT   Rowland     12  729-49-1167  ...   \n",
       "47378     Standard       NaT     Ponce     12  387-77-8308  ...   \n",
       "\n",
       "      years_of_life_lost cause_of_death zipcode  \\\n",
       "13932                0.0       not_dead   33411   \n",
       "13933                0.0       not_dead   33411   \n",
       "47375                0.0       not_dead   32818   \n",
       "47376                0.0       not_dead   32818   \n",
       "47377                0.0       not_dead   32818   \n",
       "47378                0.0       not_dead   32818   \n",
       "\n",
       "                                address  parent_id     last_birth_time  \\\n",
       "13932   main street  unincorporated, fl         -1                 NaT   \n",
       "13933   main street  unincorporated, fl         -1 2019-03-04 18:00:00   \n",
       "47375   main street  unincorporated, fl         -1                 NaT   \n",
       "47376   main street  unincorporated, fl         -1 2019-03-04 18:00:00   \n",
       "47377   main street  unincorporated, fl         -1                 NaT   \n",
       "47378   main street  unincorporated, fl         -1 2019-03-04 18:00:00   \n",
       "\n",
       "       employer_id    employer_name employer_zipcode  \\\n",
       "13932           -1       unemployed               NA   \n",
       "13933           -1       unemployed               NA   \n",
       "47375           93  not implemented            33324   \n",
       "47376           64  not implemented            32244   \n",
       "47377           48  not implemented            32763   \n",
       "47378          191  not implemented            33139   \n",
       "\n",
       "                       employer_address  \n",
       "13932                                NA  \n",
       "13933                                NA  \n",
       "47375     6450 n hwy 97  plantation, fl  \n",
       "47376  35 katie court  jacksonville, fl  \n",
       "47377    5266 shady rd  orange city, fl  \n",
       "47378  9915 w hope cir  miami beach, fl  \n",
       "\n",
       "[6 rows x 27 columns]"
      ]
     },
     "execution_count": 29,
     "metadata": {},
     "output_type": "execute_result"
    }
   ],
   "source": [
    "df_state_table.query(\"address == ' main street  unincorporated, fl'\")"
   ]
  },
  {
   "cell_type": "code",
   "execution_count": 30,
   "id": "d0fe4894",
   "metadata": {},
   "outputs": [
    {
     "data": {
      "text/plain": [
       "62"
      ]
     },
     "execution_count": 30,
     "metadata": {},
     "output_type": "execute_result"
    }
   ],
   "source": [
    "address_counts['33411']"
   ]
  },
  {
   "cell_type": "code",
   "execution_count": 31,
   "id": "20ed7dcc",
   "metadata": {},
   "outputs": [
    {
     "data": {
      "text/plain": [
       "19"
      ]
     },
     "execution_count": 31,
     "metadata": {},
     "output_type": "execute_result"
    }
   ],
   "source": [
    "address_counts['32818']"
   ]
  },
  {
   "cell_type": "markdown",
   "id": "6a9e210c",
   "metadata": {},
   "source": [
    "# Get dataframe with mapping of address to cleaned zipcode\n",
    "\n",
    "Use consecutive integers as ths index so that I can map each address ID from new census data to a number in this dataframe's index via modular arithmetic."
   ]
  },
  {
   "cell_type": "code",
   "execution_count": 32,
   "id": "a3916051",
   "metadata": {},
   "outputs": [
    {
     "data": {
      "text/html": [
       "<div>\n",
       "<style scoped>\n",
       "    .dataframe tbody tr th:only-of-type {\n",
       "        vertical-align: middle;\n",
       "    }\n",
       "\n",
       "    .dataframe tbody tr th {\n",
       "        vertical-align: top;\n",
       "    }\n",
       "\n",
       "    .dataframe thead th {\n",
       "        text-align: right;\n",
       "    }\n",
       "</style>\n",
       "<table border=\"1\" class=\"dataframe\">\n",
       "  <thead>\n",
       "    <tr style=\"text-align: right;\">\n",
       "      <th></th>\n",
       "      <th>address</th>\n",
       "      <th>clean_zipcode</th>\n",
       "    </tr>\n",
       "  </thead>\n",
       "  <tbody>\n",
       "    <tr>\n",
       "      <th>0</th>\n",
       "      <td>100th ave sw  arcadia, fl</td>\n",
       "      <td>34266</td>\n",
       "    </tr>\n",
       "    <tr>\n",
       "      <th>1</th>\n",
       "      <td>109th ave sw  unincorporated, fl</td>\n",
       "      <td>33434</td>\n",
       "    </tr>\n",
       "    <tr>\n",
       "      <th>2</th>\n",
       "      <td>10th street  unincorporated, fl</td>\n",
       "      <td>32807</td>\n",
       "    </tr>\n",
       "    <tr>\n",
       "      <th>3</th>\n",
       "      <td>11th ave ne  cape coral, fl</td>\n",
       "      <td>33993</td>\n",
       "    </tr>\n",
       "    <tr>\n",
       "      <th>4</th>\n",
       "      <td>12th ave  ormond beach, fl</td>\n",
       "      <td>32174</td>\n",
       "    </tr>\n",
       "    <tr>\n",
       "      <th>...</th>\n",
       "      <td>...</td>\n",
       "      <td>...</td>\n",
       "    </tr>\n",
       "    <tr>\n",
       "      <th>20444</th>\n",
       "      <td>w3947 stingle rd  jacksonville, fl</td>\n",
       "      <td>32225</td>\n",
       "    </tr>\n",
       "    <tr>\n",
       "      <th>20445</th>\n",
       "      <td>w654 greiner rd  titusville, fl</td>\n",
       "      <td>32780</td>\n",
       "    </tr>\n",
       "    <tr>\n",
       "      <th>20446</th>\n",
       "      <td>w6674 gn willow ct  unincorporated, fl</td>\n",
       "      <td>33498</td>\n",
       "    </tr>\n",
       "    <tr>\n",
       "      <th>20447</th>\n",
       "      <td>w7426 state highway 33  dunnellon, fl</td>\n",
       "      <td>34431</td>\n",
       "    </tr>\n",
       "    <tr>\n",
       "      <th>20448</th>\n",
       "      <td>w8581 county rd e  wesley chapel, fl</td>\n",
       "      <td>33543</td>\n",
       "    </tr>\n",
       "  </tbody>\n",
       "</table>\n",
       "<p>20449 rows × 2 columns</p>\n",
       "</div>"
      ],
      "text/plain": [
       "                                      address clean_zipcode\n",
       "0                   100th ave sw  arcadia, fl         34266\n",
       "1            109th ave sw  unincorporated, fl         33434\n",
       "2             10th street  unincorporated, fl         32807\n",
       "3                 11th ave ne  cape coral, fl         33993\n",
       "4                  12th ave  ormond beach, fl         32174\n",
       "...                                       ...           ...\n",
       "20444      w3947 stingle rd  jacksonville, fl         32225\n",
       "20445         w654 greiner rd  titusville, fl         32780\n",
       "20446  w6674 gn willow ct  unincorporated, fl         33498\n",
       "20447   w7426 state highway 33  dunnellon, fl         34431\n",
       "20448    w8581 county rd e  wesley chapel, fl         33543\n",
       "\n",
       "[20449 rows x 2 columns]"
      ]
     },
     "execution_count": 32,
     "metadata": {},
     "output_type": "execute_result"
    }
   ],
   "source": [
    "address_to_zip = (\n",
    "    df_state_table\n",
    "    .assign(clean_zipcode=clean_zipcode(df_state_table['zipcode']))\n",
    "    .groupby('address', as_index=False)['clean_zipcode'].min()\n",
    ")\n",
    "address_to_zip"
   ]
  },
  {
   "cell_type": "code",
   "execution_count": 33,
   "id": "021b9225",
   "metadata": {},
   "outputs": [
    {
     "data": {
      "text/plain": [
       "array([5])"
      ]
     },
     "execution_count": 33,
     "metadata": {},
     "output_type": "execute_result"
    }
   ],
   "source": [
    "address_to_zip.clean_zipcode.str.len().unique()"
   ]
  },
  {
   "cell_type": "markdown",
   "id": "59c1ae13",
   "metadata": {},
   "source": [
    "# Load new census data and WIC data\n",
    "\n",
    "The census data is missing some fraction of simulants, so we need to make sure we map all the address IDs that appear in WIC but not census."
   ]
  },
  {
   "cell_type": "code",
   "execution_count": 34,
   "id": "072d70f1",
   "metadata": {},
   "outputs": [
    {
     "name": "stdout",
     "output_type": "stream",
     "text": [
      "total 846760\r\n",
      "-rw-r--r-- 1 albrja IHME-Simulationscience 116145705 Feb  2 11:20 decennial_census_observer.csv.bz2\r\n",
      "-rw-r--r-- 1 albrja IHME-Simulationscience   1436741 Feb  2 11:20 household_survey_observer_acs.csv.bz2\r\n",
      "-rw-r--r-- 1 albrja IHME-Simulationscience   7443547 Feb  2 11:20 household_survey_observer_cps.csv.bz2\r\n",
      "-rw-r--r-- 1 albrja IHME-Simulationscience  30294533 Feb  2 11:21 social_security_observer.csv.bz2\r\n",
      "-rw-r--r-- 1 albrja IHME-Simulationscience 696671121 Feb  2 11:27 tax_w2_observer.csv.bz2\r\n",
      "-rw-r--r-- 1 albrja IHME-Simulationscience  15056759 Feb  2 11:20 wic_observer.csv.bz2\r\n"
     ]
    }
   ],
   "source": [
    "!ls -l $new_data_dir"
   ]
  },
  {
   "cell_type": "code",
   "execution_count": 35,
   "id": "5d66ace5",
   "metadata": {},
   "outputs": [
    {
     "name": "stdout",
     "output_type": "stream",
     "text": [
      "CPU times: user 27.3 s, sys: 1.7 s, total: 29 s\n",
      "Wall time: 29 s\n"
     ]
    },
    {
     "data": {
      "text/html": [
       "<div>\n",
       "<style scoped>\n",
       "    .dataframe tbody tr th:only-of-type {\n",
       "        vertical-align: middle;\n",
       "    }\n",
       "\n",
       "    .dataframe tbody tr th {\n",
       "        vertical-align: top;\n",
       "    }\n",
       "\n",
       "    .dataframe thead th {\n",
       "        text-align: right;\n",
       "    }\n",
       "</style>\n",
       "<table border=\"1\" class=\"dataframe\">\n",
       "  <thead>\n",
       "    <tr style=\"text-align: right;\">\n",
       "      <th></th>\n",
       "      <th>simulant_id</th>\n",
       "      <th>last_name_id</th>\n",
       "      <th>age</th>\n",
       "      <th>sex</th>\n",
       "      <th>race_ethnicity</th>\n",
       "      <th>date_of_birth</th>\n",
       "      <th>address_id</th>\n",
       "      <th>guardian_1</th>\n",
       "      <th>guardian_2</th>\n",
       "      <th>guardian_1_address_id</th>\n",
       "      <th>guardian_2_address_id</th>\n",
       "      <th>relation_to_household_head</th>\n",
       "      <th>census_year</th>\n",
       "      <th>housing_type</th>\n",
       "      <th>random_seed</th>\n",
       "      <th>year_of_birth</th>\n",
       "      <th>first_name</th>\n",
       "      <th>middle_initial</th>\n",
       "    </tr>\n",
       "  </thead>\n",
       "  <tbody>\n",
       "    <tr>\n",
       "      <th>0</th>\n",
       "      <td>3254_0</td>\n",
       "      <td>0.0</td>\n",
       "      <td>67.376229</td>\n",
       "      <td>Female</td>\n",
       "      <td>Black</td>\n",
       "      <td>1952-11-15</td>\n",
       "      <td>6</td>\n",
       "      <td>-1</td>\n",
       "      <td>-1</td>\n",
       "      <td>NaN</td>\n",
       "      <td>NaN</td>\n",
       "      <td>Reference person</td>\n",
       "      <td>2020</td>\n",
       "      <td>Standard</td>\n",
       "      <td>3254</td>\n",
       "      <td>1952</td>\n",
       "      <td>Deanna</td>\n",
       "      <td>S</td>\n",
       "    </tr>\n",
       "    <tr>\n",
       "      <th>1</th>\n",
       "      <td>3254_1</td>\n",
       "      <td>0.0</td>\n",
       "      <td>37.501003</td>\n",
       "      <td>Male</td>\n",
       "      <td>Black</td>\n",
       "      <td>1982-10-01</td>\n",
       "      <td>6</td>\n",
       "      <td>-1</td>\n",
       "      <td>-1</td>\n",
       "      <td>NaN</td>\n",
       "      <td>NaN</td>\n",
       "      <td>Biological child</td>\n",
       "      <td>2020</td>\n",
       "      <td>Standard</td>\n",
       "      <td>3254</td>\n",
       "      <td>1982</td>\n",
       "      <td>Clifton</td>\n",
       "      <td>S</td>\n",
       "    </tr>\n",
       "    <tr>\n",
       "      <th>2</th>\n",
       "      <td>3254_2</td>\n",
       "      <td>0.0</td>\n",
       "      <td>31.157344</td>\n",
       "      <td>Male</td>\n",
       "      <td>Black</td>\n",
       "      <td>1989-02-03</td>\n",
       "      <td>6</td>\n",
       "      <td>-1</td>\n",
       "      <td>-1</td>\n",
       "      <td>NaN</td>\n",
       "      <td>NaN</td>\n",
       "      <td>Biological child</td>\n",
       "      <td>2020</td>\n",
       "      <td>Standard</td>\n",
       "      <td>3254</td>\n",
       "      <td>1989</td>\n",
       "      <td>Christopher</td>\n",
       "      <td>S</td>\n",
       "    </tr>\n",
       "    <tr>\n",
       "      <th>3</th>\n",
       "      <td>3254_3</td>\n",
       "      <td>3.0</td>\n",
       "      <td>37.944355</td>\n",
       "      <td>Male</td>\n",
       "      <td>Latino</td>\n",
       "      <td>1982-04-22</td>\n",
       "      <td>7</td>\n",
       "      <td>-1</td>\n",
       "      <td>-1</td>\n",
       "      <td>NaN</td>\n",
       "      <td>NaN</td>\n",
       "      <td>Reference person</td>\n",
       "      <td>2020</td>\n",
       "      <td>Standard</td>\n",
       "      <td>3254</td>\n",
       "      <td>1982</td>\n",
       "      <td>Travis</td>\n",
       "      <td>J</td>\n",
       "    </tr>\n",
       "    <tr>\n",
       "      <th>4</th>\n",
       "      <td>3254_4</td>\n",
       "      <td>4.0</td>\n",
       "      <td>60.986418</td>\n",
       "      <td>Male</td>\n",
       "      <td>White</td>\n",
       "      <td>1959-04-07</td>\n",
       "      <td>8</td>\n",
       "      <td>-1</td>\n",
       "      <td>-1</td>\n",
       "      <td>NaN</td>\n",
       "      <td>NaN</td>\n",
       "      <td>Reference person</td>\n",
       "      <td>2020</td>\n",
       "      <td>Standard</td>\n",
       "      <td>3254</td>\n",
       "      <td>1959</td>\n",
       "      <td>Davis</td>\n",
       "      <td>T</td>\n",
       "    </tr>\n",
       "    <tr>\n",
       "      <th>...</th>\n",
       "      <td>...</td>\n",
       "      <td>...</td>\n",
       "      <td>...</td>\n",
       "      <td>...</td>\n",
       "      <td>...</td>\n",
       "      <td>...</td>\n",
       "      <td>...</td>\n",
       "      <td>...</td>\n",
       "      <td>...</td>\n",
       "      <td>...</td>\n",
       "      <td>...</td>\n",
       "      <td>...</td>\n",
       "      <td>...</td>\n",
       "      <td>...</td>\n",
       "      <td>...</td>\n",
       "      <td>...</td>\n",
       "      <td>...</td>\n",
       "      <td>...</td>\n",
       "    </tr>\n",
       "    <tr>\n",
       "      <th>4943280</th>\n",
       "      <td>3541_278165</td>\n",
       "      <td>44253.0</td>\n",
       "      <td>0.055643</td>\n",
       "      <td>Female</td>\n",
       "      <td>Latino</td>\n",
       "      <td>2030-03-28</td>\n",
       "      <td>150569</td>\n",
       "      <td>44253</td>\n",
       "      <td>-1</td>\n",
       "      <td>150569.0</td>\n",
       "      <td>NaN</td>\n",
       "      <td>Biological child</td>\n",
       "      <td>2030</td>\n",
       "      <td>Standard</td>\n",
       "      <td>3541</td>\n",
       "      <td>2030</td>\n",
       "      <td>Mila</td>\n",
       "      <td>C</td>\n",
       "    </tr>\n",
       "    <tr>\n",
       "      <th>4943281</th>\n",
       "      <td>3541_278166</td>\n",
       "      <td>50096.0</td>\n",
       "      <td>0.039506</td>\n",
       "      <td>Female</td>\n",
       "      <td>Black</td>\n",
       "      <td>2030-04-03</td>\n",
       "      <td>3</td>\n",
       "      <td>50097</td>\n",
       "      <td>-1</td>\n",
       "      <td>3.0</td>\n",
       "      <td>NaN</td>\n",
       "      <td>Noninstitutionalized GQ pop</td>\n",
       "      <td>2030</td>\n",
       "      <td>College</td>\n",
       "      <td>3541</td>\n",
       "      <td>2030</td>\n",
       "      <td>Aicha</td>\n",
       "      <td>L</td>\n",
       "    </tr>\n",
       "    <tr>\n",
       "      <th>4943282</th>\n",
       "      <td>3541_278167</td>\n",
       "      <td>113377.0</td>\n",
       "      <td>0.052213</td>\n",
       "      <td>Female</td>\n",
       "      <td>Black</td>\n",
       "      <td>2030-03-29</td>\n",
       "      <td>96003</td>\n",
       "      <td>113380</td>\n",
       "      <td>-1</td>\n",
       "      <td>96003.0</td>\n",
       "      <td>NaN</td>\n",
       "      <td>Biological child</td>\n",
       "      <td>2030</td>\n",
       "      <td>Standard</td>\n",
       "      <td>3541</td>\n",
       "      <td>2030</td>\n",
       "      <td>Amila</td>\n",
       "      <td>E</td>\n",
       "    </tr>\n",
       "    <tr>\n",
       "      <th>4943283</th>\n",
       "      <td>3541_278168</td>\n",
       "      <td>140942.0</td>\n",
       "      <td>0.016033</td>\n",
       "      <td>Female</td>\n",
       "      <td>Latino</td>\n",
       "      <td>2030-04-12</td>\n",
       "      <td>179963</td>\n",
       "      <td>140944</td>\n",
       "      <td>-1</td>\n",
       "      <td>179963.0</td>\n",
       "      <td>NaN</td>\n",
       "      <td>Grandchild</td>\n",
       "      <td>2030</td>\n",
       "      <td>Standard</td>\n",
       "      <td>3541</td>\n",
       "      <td>2030</td>\n",
       "      <td>Tallulah</td>\n",
       "      <td>S</td>\n",
       "    </tr>\n",
       "    <tr>\n",
       "      <th>4943284</th>\n",
       "      <td>3541_278169</td>\n",
       "      <td>202912.0</td>\n",
       "      <td>0.036503</td>\n",
       "      <td>Male</td>\n",
       "      <td>Black</td>\n",
       "      <td>2030-04-04</td>\n",
       "      <td>77605</td>\n",
       "      <td>202912</td>\n",
       "      <td>-1</td>\n",
       "      <td>77605.0</td>\n",
       "      <td>NaN</td>\n",
       "      <td>Other nonrelative</td>\n",
       "      <td>2030</td>\n",
       "      <td>Standard</td>\n",
       "      <td>3541</td>\n",
       "      <td>2030</td>\n",
       "      <td>Braden</td>\n",
       "      <td>M</td>\n",
       "    </tr>\n",
       "  </tbody>\n",
       "</table>\n",
       "<p>4943285 rows × 18 columns</p>\n",
       "</div>"
      ],
      "text/plain": [
       "         simulant_id  last_name_id        age     sex race_ethnicity  \\\n",
       "0             3254_0           0.0  67.376229  Female          Black   \n",
       "1             3254_1           0.0  37.501003    Male          Black   \n",
       "2             3254_2           0.0  31.157344    Male          Black   \n",
       "3             3254_3           3.0  37.944355    Male         Latino   \n",
       "4             3254_4           4.0  60.986418    Male          White   \n",
       "...              ...           ...        ...     ...            ...   \n",
       "4943280  3541_278165       44253.0   0.055643  Female         Latino   \n",
       "4943281  3541_278166       50096.0   0.039506  Female          Black   \n",
       "4943282  3541_278167      113377.0   0.052213  Female          Black   \n",
       "4943283  3541_278168      140942.0   0.016033  Female         Latino   \n",
       "4943284  3541_278169      202912.0   0.036503    Male          Black   \n",
       "\n",
       "        date_of_birth  address_id  guardian_1  guardian_2  \\\n",
       "0          1952-11-15           6          -1          -1   \n",
       "1          1982-10-01           6          -1          -1   \n",
       "2          1989-02-03           6          -1          -1   \n",
       "3          1982-04-22           7          -1          -1   \n",
       "4          1959-04-07           8          -1          -1   \n",
       "...               ...         ...         ...         ...   \n",
       "4943280    2030-03-28      150569       44253          -1   \n",
       "4943281    2030-04-03           3       50097          -1   \n",
       "4943282    2030-03-29       96003      113380          -1   \n",
       "4943283    2030-04-12      179963      140944          -1   \n",
       "4943284    2030-04-04       77605      202912          -1   \n",
       "\n",
       "         guardian_1_address_id  guardian_2_address_id  \\\n",
       "0                          NaN                    NaN   \n",
       "1                          NaN                    NaN   \n",
       "2                          NaN                    NaN   \n",
       "3                          NaN                    NaN   \n",
       "4                          NaN                    NaN   \n",
       "...                        ...                    ...   \n",
       "4943280               150569.0                    NaN   \n",
       "4943281                    3.0                    NaN   \n",
       "4943282                96003.0                    NaN   \n",
       "4943283               179963.0                    NaN   \n",
       "4943284                77605.0                    NaN   \n",
       "\n",
       "          relation_to_household_head  census_year housing_type  random_seed  \\\n",
       "0                   Reference person         2020     Standard         3254   \n",
       "1                   Biological child         2020     Standard         3254   \n",
       "2                   Biological child         2020     Standard         3254   \n",
       "3                   Reference person         2020     Standard         3254   \n",
       "4                   Reference person         2020     Standard         3254   \n",
       "...                              ...          ...          ...          ...   \n",
       "4943280             Biological child         2030     Standard         3541   \n",
       "4943281  Noninstitutionalized GQ pop         2030      College         3541   \n",
       "4943282             Biological child         2030     Standard         3541   \n",
       "4943283                   Grandchild         2030     Standard         3541   \n",
       "4943284            Other nonrelative         2030     Standard         3541   \n",
       "\n",
       "         year_of_birth   first_name middle_initial  \n",
       "0                 1952       Deanna              S  \n",
       "1                 1982      Clifton              S  \n",
       "2                 1989  Christopher              S  \n",
       "3                 1982       Travis              J  \n",
       "4                 1959        Davis              T  \n",
       "...                ...          ...            ...  \n",
       "4943280           2030         Mila              C  \n",
       "4943281           2030        Aicha              L  \n",
       "4943282           2030        Amila              E  \n",
       "4943283           2030     Tallulah              S  \n",
       "4943284           2030       Braden              M  \n",
       "\n",
       "[4943285 rows x 18 columns]"
      ]
     },
     "execution_count": 35,
     "metadata": {},
     "output_type": "execute_result"
    }
   ],
   "source": [
    "%%time\n",
    "df_census = pd.read_csv(f'{new_data_dir}/decennial_census_observer.csv.bz2')\n",
    "df_census"
   ]
  },
  {
   "cell_type": "code",
   "execution_count": 36,
   "id": "703ec5b8",
   "metadata": {},
   "outputs": [
    {
     "data": {
      "text/plain": [
       "simulant_id                    object\n",
       "last_name_id                  float64\n",
       "age                           float64\n",
       "sex                            object\n",
       "race_ethnicity                 object\n",
       "date_of_birth                  object\n",
       "address_id                      int64\n",
       "guardian_1                      int64\n",
       "guardian_2                      int64\n",
       "guardian_1_address_id         float64\n",
       "guardian_2_address_id         float64\n",
       "relation_to_household_head     object\n",
       "census_year                     int64\n",
       "housing_type                   object\n",
       "random_seed                     int64\n",
       "year_of_birth                   int64\n",
       "first_name                     object\n",
       "middle_initial                 object\n",
       "dtype: object"
      ]
     },
     "execution_count": 36,
     "metadata": {},
     "output_type": "execute_result"
    }
   ],
   "source": [
    "df_census.dtypes"
   ]
  },
  {
   "cell_type": "code",
   "execution_count": 37,
   "id": "25115ff0",
   "metadata": {},
   "outputs": [
    {
     "data": {
      "text/plain": [
       "Index([], dtype='object')"
      ]
     },
     "execution_count": 37,
     "metadata": {},
     "output_type": "execute_result"
    }
   ],
   "source": [
    "df_census.filter(like='zip').columns"
   ]
  },
  {
   "cell_type": "code",
   "execution_count": 38,
   "id": "4ea55fab",
   "metadata": {},
   "outputs": [
    {
     "name": "stdout",
     "output_type": "stream",
     "text": [
      "CPU times: user 2.68 s, sys: 15.4 ms, total: 2.69 s\n",
      "Wall time: 2.69 s\n"
     ]
    },
    {
     "data": {
      "text/html": [
       "<div>\n",
       "<style scoped>\n",
       "    .dataframe tbody tr th:only-of-type {\n",
       "        vertical-align: middle;\n",
       "    }\n",
       "\n",
       "    .dataframe tbody tr th {\n",
       "        vertical-align: top;\n",
       "    }\n",
       "\n",
       "    .dataframe thead th {\n",
       "        text-align: right;\n",
       "    }\n",
       "</style>\n",
       "<table border=\"1\" class=\"dataframe\">\n",
       "  <thead>\n",
       "    <tr style=\"text-align: right;\">\n",
       "      <th></th>\n",
       "      <th>simulant_id</th>\n",
       "      <th>last_name_id</th>\n",
       "      <th>age</th>\n",
       "      <th>sex</th>\n",
       "      <th>race_ethnicity</th>\n",
       "      <th>date_of_birth</th>\n",
       "      <th>address_id</th>\n",
       "      <th>guardian_1</th>\n",
       "      <th>guardian_2</th>\n",
       "      <th>guardian_1_address_id</th>\n",
       "      <th>guardian_2_address_id</th>\n",
       "      <th>wic_year</th>\n",
       "      <th>random_seed</th>\n",
       "      <th>year_of_birth</th>\n",
       "      <th>first_name</th>\n",
       "      <th>middle_initial</th>\n",
       "    </tr>\n",
       "  </thead>\n",
       "  <tbody>\n",
       "    <tr>\n",
       "      <th>0</th>\n",
       "      <td>7359_65</td>\n",
       "      <td>65.0</td>\n",
       "      <td>8.553950</td>\n",
       "      <td>Female</td>\n",
       "      <td>Black</td>\n",
       "      <td>2012-05-21</td>\n",
       "      <td>35</td>\n",
       "      <td>-1</td>\n",
       "      <td>-1</td>\n",
       "      <td>NaN</td>\n",
       "      <td>NaN</td>\n",
       "      <td>2021</td>\n",
       "      <td>7359</td>\n",
       "      <td>2012</td>\n",
       "      <td>Emma</td>\n",
       "      <td>M</td>\n",
       "    </tr>\n",
       "    <tr>\n",
       "      <th>1</th>\n",
       "      <td>7359_116</td>\n",
       "      <td>116.0</td>\n",
       "      <td>25.505874</td>\n",
       "      <td>Female</td>\n",
       "      <td>Black</td>\n",
       "      <td>1995-06-08</td>\n",
       "      <td>53</td>\n",
       "      <td>-1</td>\n",
       "      <td>-1</td>\n",
       "      <td>NaN</td>\n",
       "      <td>NaN</td>\n",
       "      <td>2021</td>\n",
       "      <td>7359</td>\n",
       "      <td>1995</td>\n",
       "      <td>Isabella</td>\n",
       "      <td>A</td>\n",
       "    </tr>\n",
       "    <tr>\n",
       "      <th>2</th>\n",
       "      <td>7359_212</td>\n",
       "      <td>211.0</td>\n",
       "      <td>30.291655</td>\n",
       "      <td>Female</td>\n",
       "      <td>Latino</td>\n",
       "      <td>1990-08-25</td>\n",
       "      <td>88</td>\n",
       "      <td>-1</td>\n",
       "      <td>-1</td>\n",
       "      <td>NaN</td>\n",
       "      <td>NaN</td>\n",
       "      <td>2021</td>\n",
       "      <td>7359</td>\n",
       "      <td>1990</td>\n",
       "      <td>Paige</td>\n",
       "      <td>L</td>\n",
       "    </tr>\n",
       "    <tr>\n",
       "      <th>3</th>\n",
       "      <td>7359_248</td>\n",
       "      <td>248.0</td>\n",
       "      <td>23.891573</td>\n",
       "      <td>Female</td>\n",
       "      <td>Black</td>\n",
       "      <td>1997-01-18</td>\n",
       "      <td>97912</td>\n",
       "      <td>-1</td>\n",
       "      <td>-1</td>\n",
       "      <td>NaN</td>\n",
       "      <td>NaN</td>\n",
       "      <td>2021</td>\n",
       "      <td>7359</td>\n",
       "      <td>1997</td>\n",
       "      <td>Michelle</td>\n",
       "      <td>M</td>\n",
       "    </tr>\n",
       "    <tr>\n",
       "      <th>4</th>\n",
       "      <td>7359_267</td>\n",
       "      <td>266.0</td>\n",
       "      <td>37.072670</td>\n",
       "      <td>Female</td>\n",
       "      <td>White</td>\n",
       "      <td>1983-11-13</td>\n",
       "      <td>109</td>\n",
       "      <td>-1</td>\n",
       "      <td>-1</td>\n",
       "      <td>NaN</td>\n",
       "      <td>NaN</td>\n",
       "      <td>2021</td>\n",
       "      <td>7359</td>\n",
       "      <td>1983</td>\n",
       "      <td>Maria</td>\n",
       "      <td>A</td>\n",
       "    </tr>\n",
       "    <tr>\n",
       "      <th>...</th>\n",
       "      <td>...</td>\n",
       "      <td>...</td>\n",
       "      <td>...</td>\n",
       "      <td>...</td>\n",
       "      <td>...</td>\n",
       "      <td>...</td>\n",
       "      <td>...</td>\n",
       "      <td>...</td>\n",
       "      <td>...</td>\n",
       "      <td>...</td>\n",
       "      <td>...</td>\n",
       "      <td>...</td>\n",
       "      <td>...</td>\n",
       "      <td>...</td>\n",
       "      <td>...</td>\n",
       "      <td>...</td>\n",
       "    </tr>\n",
       "    <tr>\n",
       "      <th>593011</th>\n",
       "      <td>5020_277602</td>\n",
       "      <td>231367.0</td>\n",
       "      <td>0.041138</td>\n",
       "      <td>Male</td>\n",
       "      <td>Asian</td>\n",
       "      <td>2030-01-08</td>\n",
       "      <td>152642</td>\n",
       "      <td>231367</td>\n",
       "      <td>-1</td>\n",
       "      <td>152642.0</td>\n",
       "      <td>NaN</td>\n",
       "      <td>2030</td>\n",
       "      <td>5020</td>\n",
       "      <td>2030</td>\n",
       "      <td>Grayson</td>\n",
       "      <td>B</td>\n",
       "    </tr>\n",
       "    <tr>\n",
       "      <th>593012</th>\n",
       "      <td>5020_277607</td>\n",
       "      <td>237489.0</td>\n",
       "      <td>0.045699</td>\n",
       "      <td>Male</td>\n",
       "      <td>Latino</td>\n",
       "      <td>2030-01-07</td>\n",
       "      <td>135561</td>\n",
       "      <td>237490</td>\n",
       "      <td>-1</td>\n",
       "      <td>135561.0</td>\n",
       "      <td>NaN</td>\n",
       "      <td>2030</td>\n",
       "      <td>5020</td>\n",
       "      <td>2030</td>\n",
       "      <td>Tanner</td>\n",
       "      <td>E</td>\n",
       "    </tr>\n",
       "    <tr>\n",
       "      <th>593013</th>\n",
       "      <td>5020_277612</td>\n",
       "      <td>242914.0</td>\n",
       "      <td>0.039537</td>\n",
       "      <td>Female</td>\n",
       "      <td>Asian</td>\n",
       "      <td>2030-01-09</td>\n",
       "      <td>167694</td>\n",
       "      <td>242914</td>\n",
       "      <td>-1</td>\n",
       "      <td>167694.0</td>\n",
       "      <td>NaN</td>\n",
       "      <td>2030</td>\n",
       "      <td>5020</td>\n",
       "      <td>2030</td>\n",
       "      <td>Madison</td>\n",
       "      <td>S</td>\n",
       "    </tr>\n",
       "    <tr>\n",
       "      <th>593014</th>\n",
       "      <td>5020_277617</td>\n",
       "      <td>5210.0</td>\n",
       "      <td>0.054807</td>\n",
       "      <td>Male</td>\n",
       "      <td>Latino</td>\n",
       "      <td>2030-01-03</td>\n",
       "      <td>97484</td>\n",
       "      <td>5214</td>\n",
       "      <td>-1</td>\n",
       "      <td>97484.0</td>\n",
       "      <td>NaN</td>\n",
       "      <td>2030</td>\n",
       "      <td>5020</td>\n",
       "      <td>2030</td>\n",
       "      <td>Gavin</td>\n",
       "      <td>J</td>\n",
       "    </tr>\n",
       "    <tr>\n",
       "      <th>593015</th>\n",
       "      <td>5020_277618</td>\n",
       "      <td>69575.0</td>\n",
       "      <td>0.034841</td>\n",
       "      <td>Female</td>\n",
       "      <td>Black</td>\n",
       "      <td>2030-01-11</td>\n",
       "      <td>182110</td>\n",
       "      <td>69577</td>\n",
       "      <td>-1</td>\n",
       "      <td>182110.0</td>\n",
       "      <td>NaN</td>\n",
       "      <td>2030</td>\n",
       "      <td>5020</td>\n",
       "      <td>2030</td>\n",
       "      <td>Eliza</td>\n",
       "      <td>S</td>\n",
       "    </tr>\n",
       "  </tbody>\n",
       "</table>\n",
       "<p>593016 rows × 16 columns</p>\n",
       "</div>"
      ],
      "text/plain": [
       "        simulant_id  last_name_id        age     sex race_ethnicity  \\\n",
       "0           7359_65          65.0   8.553950  Female          Black   \n",
       "1          7359_116         116.0  25.505874  Female          Black   \n",
       "2          7359_212         211.0  30.291655  Female         Latino   \n",
       "3          7359_248         248.0  23.891573  Female          Black   \n",
       "4          7359_267         266.0  37.072670  Female          White   \n",
       "...             ...           ...        ...     ...            ...   \n",
       "593011  5020_277602      231367.0   0.041138    Male          Asian   \n",
       "593012  5020_277607      237489.0   0.045699    Male         Latino   \n",
       "593013  5020_277612      242914.0   0.039537  Female          Asian   \n",
       "593014  5020_277617        5210.0   0.054807    Male         Latino   \n",
       "593015  5020_277618       69575.0   0.034841  Female          Black   \n",
       "\n",
       "       date_of_birth  address_id  guardian_1  guardian_2  \\\n",
       "0         2012-05-21          35          -1          -1   \n",
       "1         1995-06-08          53          -1          -1   \n",
       "2         1990-08-25          88          -1          -1   \n",
       "3         1997-01-18       97912          -1          -1   \n",
       "4         1983-11-13         109          -1          -1   \n",
       "...              ...         ...         ...         ...   \n",
       "593011    2030-01-08      152642      231367          -1   \n",
       "593012    2030-01-07      135561      237490          -1   \n",
       "593013    2030-01-09      167694      242914          -1   \n",
       "593014    2030-01-03       97484        5214          -1   \n",
       "593015    2030-01-11      182110       69577          -1   \n",
       "\n",
       "        guardian_1_address_id  guardian_2_address_id  wic_year  random_seed  \\\n",
       "0                         NaN                    NaN      2021         7359   \n",
       "1                         NaN                    NaN      2021         7359   \n",
       "2                         NaN                    NaN      2021         7359   \n",
       "3                         NaN                    NaN      2021         7359   \n",
       "4                         NaN                    NaN      2021         7359   \n",
       "...                       ...                    ...       ...          ...   \n",
       "593011               152642.0                    NaN      2030         5020   \n",
       "593012               135561.0                    NaN      2030         5020   \n",
       "593013               167694.0                    NaN      2030         5020   \n",
       "593014                97484.0                    NaN      2030         5020   \n",
       "593015               182110.0                    NaN      2030         5020   \n",
       "\n",
       "        year_of_birth first_name middle_initial  \n",
       "0                2012       Emma              M  \n",
       "1                1995   Isabella              A  \n",
       "2                1990      Paige              L  \n",
       "3                1997   Michelle              M  \n",
       "4                1983      Maria              A  \n",
       "...               ...        ...            ...  \n",
       "593011           2030    Grayson              B  \n",
       "593012           2030     Tanner              E  \n",
       "593013           2030    Madison              S  \n",
       "593014           2030      Gavin              J  \n",
       "593015           2030      Eliza              S  \n",
       "\n",
       "[593016 rows x 16 columns]"
      ]
     },
     "execution_count": 38,
     "metadata": {},
     "output_type": "execute_result"
    }
   ],
   "source": [
    "%%time\n",
    "df_wic = pd.read_csv(f'{new_data_dir}/wic_observer.csv.bz2')\n",
    "df_wic"
   ]
  },
  {
   "cell_type": "code",
   "execution_count": 39,
   "id": "802b72d9",
   "metadata": {},
   "outputs": [
    {
     "data": {
      "text/plain": [
       "simulant_id               object\n",
       "last_name_id             float64\n",
       "age                      float64\n",
       "sex                       object\n",
       "race_ethnicity            object\n",
       "date_of_birth             object\n",
       "address_id                 int64\n",
       "guardian_1                 int64\n",
       "guardian_2                 int64\n",
       "guardian_1_address_id    float64\n",
       "guardian_2_address_id    float64\n",
       "wic_year                   int64\n",
       "random_seed                int64\n",
       "year_of_birth              int64\n",
       "first_name                object\n",
       "middle_initial            object\n",
       "dtype: object"
      ]
     },
     "execution_count": 39,
     "metadata": {},
     "output_type": "execute_result"
    }
   ],
   "source": [
    "df_wic.dtypes"
   ]
  },
  {
   "cell_type": "markdown",
   "id": "c5755ef5",
   "metadata": {},
   "source": [
    "# Figure out how to map each address IDs from new census data to an address (hence zipcode) in the original data\n",
    "\n",
    "The idea is to just mod the address ID by the number of original addresses (20,449), then use the modded ID as the index in the `address_to_zip` map.\n",
    "\n",
    "Ideally, the address IDs would be consecutive integers up to the maximum ID so that we're guaranteed an approximately uniform mapping into the original addresses (hence zipcodes).\n",
    "\n",
    "It looks like the census address IDs are not quite consecutive, but there are only 77 values missing between the minimum 0 and the maximum 189,912. Most likely, the address IDs actually _are_ consecutive, and the missing IDs are due to the missing simulants in the census. So probably (hopefully) at least some of these addresses will be present in WIC.\n",
    "\n",
    "Assuming that's the case, we can look at the maximum of all the address IDs that occur in either the census or WIC data, and assume that every possible address ID is a number between 0 and this maximum (inclusive). After checking below, there are no IDs in WIC that are larger than the max ID of 189,912 in the census, so we use this as the maximum possible ID. Thus we get a mapping of address IDs into the original addresses (hence zipcodes) by taking n mod 20,449 for each n in {0, ..., 189,912}."
   ]
  },
  {
   "cell_type": "markdown",
   "id": "d14b0483",
   "metadata": {},
   "source": [
    "## Look at address IDs in census"
   ]
  },
  {
   "cell_type": "code",
   "execution_count": 40,
   "id": "d2faee94",
   "metadata": {},
   "outputs": [
    {
     "data": {
      "text/plain": [
       "count    4.943285e+06\n",
       "mean     7.023635e+04\n",
       "std      5.381825e+04\n",
       "min      0.000000e+00\n",
       "25%      2.655600e+04\n",
       "50%      6.048500e+04\n",
       "75%      9.719400e+04\n",
       "max      1.899120e+05\n",
       "Name: address_id, dtype: float64"
      ]
     },
     "execution_count": 40,
     "metadata": {},
     "output_type": "execute_result"
    }
   ],
   "source": [
    "df_census.address_id.describe()"
   ]
  },
  {
   "cell_type": "code",
   "execution_count": 41,
   "id": "c8993872",
   "metadata": {},
   "outputs": [
    {
     "data": {
      "text/plain": [
       "189836"
      ]
     },
     "execution_count": 41,
     "metadata": {},
     "output_type": "execute_result"
    }
   ],
   "source": [
    "df_census.address_id.nunique()"
   ]
  },
  {
   "cell_type": "code",
   "execution_count": 42,
   "id": "1d3e4826",
   "metadata": {},
   "outputs": [
    {
     "data": {
      "text/plain": [
       "189913"
      ]
     },
     "execution_count": 42,
     "metadata": {},
     "output_type": "execute_result"
    }
   ],
   "source": [
    "df_census.address_id.max()+1"
   ]
  },
  {
   "cell_type": "code",
   "execution_count": 43,
   "id": "c62cc4ea",
   "metadata": {},
   "outputs": [
    {
     "data": {
      "text/plain": [
       "77"
      ]
     },
     "execution_count": 43,
     "metadata": {},
     "output_type": "execute_result"
    }
   ],
   "source": [
    "189913 - 189836"
   ]
  },
  {
   "cell_type": "code",
   "execution_count": 44,
   "id": "466a3d70",
   "metadata": {},
   "outputs": [
    {
     "name": "stdout",
     "output_type": "stream",
     "text": [
      "Census num unique: 189836\n",
      "Census range length: 189913\n",
      "Census num missing: 77\n"
     ]
    }
   ],
   "source": [
    "census_nunique = df_census.address_id.nunique()\n",
    "census_range_length = df_census.address_id.max()+1\n",
    "print('Census num unique:', census_nunique)\n",
    "print('Census range length:', census_range_length)\n",
    "print('Census num missing:', census_range_length - census_nunique)"
   ]
  },
  {
   "cell_type": "markdown",
   "id": "c6f656c1",
   "metadata": {},
   "source": [
    "## Find missing 77 ids in census"
   ]
  },
  {
   "cell_type": "code",
   "execution_count": 45,
   "id": "d107cb1c",
   "metadata": {},
   "outputs": [
    {
     "name": "stdout",
     "output_type": "stream",
     "text": [
      "77\n"
     ]
    },
    {
     "data": {
      "text/plain": [
       "{94072,\n",
       " 94755,\n",
       " 96208,\n",
       " 96228,\n",
       " 96935,\n",
       " 97731,\n",
       " 98171,\n",
       " 98290,\n",
       " 98370,\n",
       " 99418,\n",
       " 99586,\n",
       " 99633,\n",
       " 99638,\n",
       " 99703,\n",
       " 99835,\n",
       " 100210,\n",
       " 100263,\n",
       " 100507,\n",
       " 100930,\n",
       " 100951,\n",
       " 101088,\n",
       " 101227,\n",
       " 101296,\n",
       " 101562,\n",
       " 101921,\n",
       " 102039,\n",
       " 102355,\n",
       " 102479,\n",
       " 103005,\n",
       " 103320,\n",
       " 103338,\n",
       " 103358,\n",
       " 103690,\n",
       " 103872,\n",
       " 104686,\n",
       " 105051,\n",
       " 105120,\n",
       " 105132,\n",
       " 105705,\n",
       " 106251,\n",
       " 106398,\n",
       " 106430,\n",
       " 106917,\n",
       " 107793,\n",
       " 107825,\n",
       " 108311,\n",
       " 108551,\n",
       " 109068,\n",
       " 110228,\n",
       " 111397,\n",
       " 111479,\n",
       " 111762,\n",
       " 112075,\n",
       " 112418,\n",
       " 112754,\n",
       " 113255,\n",
       " 114143,\n",
       " 114459,\n",
       " 114650,\n",
       " 114956,\n",
       " 115346,\n",
       " 115622,\n",
       " 115993,\n",
       " 117351,\n",
       " 117453,\n",
       " 119126,\n",
       " 119187,\n",
       " 119249,\n",
       " 119684,\n",
       " 120792,\n",
       " 121370,\n",
       " 122620,\n",
       " 124067,\n",
       " 132027,\n",
       " 133064,\n",
       " 133341,\n",
       " 133778}"
      ]
     },
     "execution_count": 45,
     "metadata": {},
     "output_type": "execute_result"
    }
   ],
   "source": [
    "missing_ids = set(range(census_range_length)).difference(df_census.address_id)\n",
    "print(len(missing_ids))\n",
    "missing_ids"
   ]
  },
  {
   "cell_type": "markdown",
   "id": "5a82a149",
   "metadata": {},
   "source": [
    "## Look at address IDs in WIC"
   ]
  },
  {
   "cell_type": "code",
   "execution_count": 46,
   "id": "991202b9",
   "metadata": {},
   "outputs": [
    {
     "name": "stdout",
     "output_type": "stream",
     "text": [
      "WIC num unique: 123789\n",
      "WIC range length: 187855\n",
      "WIC num missing: 64066\n"
     ]
    }
   ],
   "source": [
    "wic_nunique = df_wic.address_id.nunique()\n",
    "wic_range_length = df_wic.address_id.max()+1\n",
    "print('WIC num unique:', wic_nunique)\n",
    "print('WIC range length:', wic_range_length)\n",
    "print('WIC num missing:', wic_range_length - wic_nunique)"
   ]
  },
  {
   "cell_type": "markdown",
   "id": "4cdd5910",
   "metadata": {},
   "source": [
    "## 61 of the 77 missing address IDs in the census show up in WIC (note that WIC has 10 years worth of data, 2021-2030)"
   ]
  },
  {
   "cell_type": "code",
   "execution_count": 47,
   "id": "e176793f",
   "metadata": {},
   "outputs": [
    {
     "name": "stdout",
     "output_type": "stream",
     "text": [
      "61\n"
     ]
    },
    {
     "data": {
      "text/plain": [
       "{96208,\n",
       " 96228,\n",
       " 97731,\n",
       " 98171,\n",
       " 98290,\n",
       " 98370,\n",
       " 99418,\n",
       " 99586,\n",
       " 99633,\n",
       " 99638,\n",
       " 99703,\n",
       " 99835,\n",
       " 100210,\n",
       " 100263,\n",
       " 100507,\n",
       " 100930,\n",
       " 100951,\n",
       " 101088,\n",
       " 101227,\n",
       " 101296,\n",
       " 101562,\n",
       " 101921,\n",
       " 102039,\n",
       " 102355,\n",
       " 102479,\n",
       " 103005,\n",
       " 103320,\n",
       " 103338,\n",
       " 103690,\n",
       " 104686,\n",
       " 105051,\n",
       " 105120,\n",
       " 105705,\n",
       " 106251,\n",
       " 106430,\n",
       " 106917,\n",
       " 107825,\n",
       " 108311,\n",
       " 108551,\n",
       " 109068,\n",
       " 110228,\n",
       " 111479,\n",
       " 111762,\n",
       " 112418,\n",
       " 112754,\n",
       " 113255,\n",
       " 114143,\n",
       " 114650,\n",
       " 114956,\n",
       " 115622,\n",
       " 117453,\n",
       " 119187,\n",
       " 119249,\n",
       " 119684,\n",
       " 120792,\n",
       " 121370,\n",
       " 122620,\n",
       " 124067,\n",
       " 132027,\n",
       " 133341,\n",
       " 133778}"
      ]
     },
     "execution_count": 47,
     "metadata": {},
     "output_type": "execute_result"
    }
   ],
   "source": [
    "missing_ids_in_wic = missing_ids.intersection(df_wic.address_id)\n",
    "print(len(missing_ids_in_wic))\n",
    "missing_ids_in_wic"
   ]
  },
  {
   "cell_type": "markdown",
   "id": "5df611a9",
   "metadata": {},
   "source": [
    "## Find maximum+1 of all address IDs encountered in Census or WIC\n",
    "\n",
    "The census range maximum is larger than the WIC range maximum, which is the most probable situation."
   ]
  },
  {
   "cell_type": "code",
   "execution_count": 48,
   "id": "6bb237e0",
   "metadata": {},
   "outputs": [
    {
     "name": "stdout",
     "output_type": "stream",
     "text": [
      "census_range_length=189913, wic_range_length=187855\n",
      "Overall range length =  189913 (Census)\n"
     ]
    }
   ],
   "source": [
    "print(f'{census_range_length=}, {wic_range_length=}')\n",
    "print('Overall range length = ',\n",
    "      range_length := max([census_range_length, wic_range_length]),\n",
    "      '(Census)' if range_length == census_range_length else '(WIC)'\n",
    "     )"
   ]
  },
  {
   "cell_type": "markdown",
   "id": "e14f63a0",
   "metadata": {},
   "source": [
    "## Create a mapping from rows in the new census data to zipcodes from the original data"
   ]
  },
  {
   "cell_type": "code",
   "execution_count": 49,
   "id": "27a4bd3f",
   "metadata": {},
   "outputs": [
    {
     "data": {
      "text/plain": [
       "array([     0,      1,      2, ..., 189910, 189911, 189912])"
      ]
     },
     "execution_count": 49,
     "metadata": {},
     "output_type": "execute_result"
    }
   ],
   "source": [
    "# Use the overall maximum range to create a list of all possible address IDs\n",
    "all_address_ids = np.arange(range_length)\n",
    "all_address_ids"
   ]
  },
  {
   "cell_type": "code",
   "execution_count": 50,
   "id": "4b8af6ed",
   "metadata": {},
   "outputs": [
    {
     "data": {
      "text/plain": [
       "20449"
      ]
     },
     "execution_count": 50,
     "metadata": {},
     "output_type": "execute_result"
    }
   ],
   "source": [
    "# Total number of unique original addresses\n",
    "len(address_to_zip)"
   ]
  },
  {
   "cell_type": "code",
   "execution_count": 51,
   "id": "39b3d0a0",
   "metadata": {},
   "outputs": [
    {
     "data": {
      "text/html": [
       "<div>\n",
       "<style scoped>\n",
       "    .dataframe tbody tr th:only-of-type {\n",
       "        vertical-align: middle;\n",
       "    }\n",
       "\n",
       "    .dataframe tbody tr th {\n",
       "        vertical-align: top;\n",
       "    }\n",
       "\n",
       "    .dataframe thead th {\n",
       "        text-align: right;\n",
       "    }\n",
       "</style>\n",
       "<table border=\"1\" class=\"dataframe\">\n",
       "  <thead>\n",
       "    <tr style=\"text-align: right;\">\n",
       "      <th></th>\n",
       "      <th>index_of_orig_address</th>\n",
       "      <th>orig_address</th>\n",
       "      <th>zipcode</th>\n",
       "    </tr>\n",
       "    <tr>\n",
       "      <th>address_id</th>\n",
       "      <th></th>\n",
       "      <th></th>\n",
       "      <th></th>\n",
       "    </tr>\n",
       "  </thead>\n",
       "  <tbody>\n",
       "    <tr>\n",
       "      <th>0</th>\n",
       "      <td>0</td>\n",
       "      <td>100th ave sw  arcadia, fl</td>\n",
       "      <td>34266</td>\n",
       "    </tr>\n",
       "    <tr>\n",
       "      <th>1</th>\n",
       "      <td>1</td>\n",
       "      <td>109th ave sw  unincorporated, fl</td>\n",
       "      <td>33434</td>\n",
       "    </tr>\n",
       "    <tr>\n",
       "      <th>2</th>\n",
       "      <td>2</td>\n",
       "      <td>10th street  unincorporated, fl</td>\n",
       "      <td>32807</td>\n",
       "    </tr>\n",
       "    <tr>\n",
       "      <th>3</th>\n",
       "      <td>3</td>\n",
       "      <td>11th ave ne  cape coral, fl</td>\n",
       "      <td>33993</td>\n",
       "    </tr>\n",
       "    <tr>\n",
       "      <th>4</th>\n",
       "      <td>4</td>\n",
       "      <td>12th ave  ormond beach, fl</td>\n",
       "      <td>32174</td>\n",
       "    </tr>\n",
       "    <tr>\n",
       "      <th>...</th>\n",
       "      <td>...</td>\n",
       "      <td>...</td>\n",
       "      <td>...</td>\n",
       "    </tr>\n",
       "    <tr>\n",
       "      <th>189908</th>\n",
       "      <td>5867</td>\n",
       "      <td>1685 nugget ct  ft myers, fl</td>\n",
       "      <td>33908</td>\n",
       "    </tr>\n",
       "    <tr>\n",
       "      <th>189909</th>\n",
       "      <td>5868</td>\n",
       "      <td>16852 76th ave  jacksonville, fl</td>\n",
       "      <td>32217</td>\n",
       "    </tr>\n",
       "    <tr>\n",
       "      <th>189910</th>\n",
       "      <td>5869</td>\n",
       "      <td>16855 florence vw dr  defuniak springs, fl</td>\n",
       "      <td>32433</td>\n",
       "    </tr>\n",
       "    <tr>\n",
       "      <th>189911</th>\n",
       "      <td>5870</td>\n",
       "      <td>1686 gary av  homestead, fl</td>\n",
       "      <td>33033</td>\n",
       "    </tr>\n",
       "    <tr>\n",
       "      <th>189912</th>\n",
       "      <td>5871</td>\n",
       "      <td>1686 ruby lee dr  nrt port, fl</td>\n",
       "      <td>33981</td>\n",
       "    </tr>\n",
       "  </tbody>\n",
       "</table>\n",
       "<p>189913 rows × 3 columns</p>\n",
       "</div>"
      ],
      "text/plain": [
       "            index_of_orig_address                                orig_address  \\\n",
       "address_id                                                                      \n",
       "0                               0                   100th ave sw  arcadia, fl   \n",
       "1                               1            109th ave sw  unincorporated, fl   \n",
       "2                               2             10th street  unincorporated, fl   \n",
       "3                               3                 11th ave ne  cape coral, fl   \n",
       "4                               4                  12th ave  ormond beach, fl   \n",
       "...                           ...                                         ...   \n",
       "189908                       5867                1685 nugget ct  ft myers, fl   \n",
       "189909                       5868            16852 76th ave  jacksonville, fl   \n",
       "189910                       5869  16855 florence vw dr  defuniak springs, fl   \n",
       "189911                       5870                 1686 gary av  homestead, fl   \n",
       "189912                       5871              1686 ruby lee dr  nrt port, fl   \n",
       "\n",
       "           zipcode  \n",
       "address_id          \n",
       "0            34266  \n",
       "1            33434  \n",
       "2            32807  \n",
       "3            33993  \n",
       "4            32174  \n",
       "...            ...  \n",
       "189908       33908  \n",
       "189909       32217  \n",
       "189910       32433  \n",
       "189911       33033  \n",
       "189912       33981  \n",
       "\n",
       "[189913 rows x 3 columns]"
      ]
     },
     "execution_count": 51,
     "metadata": {},
     "output_type": "execute_result"
    }
   ],
   "source": [
    "address_id_to_zip = (\n",
    "    pd.DataFrame(\n",
    "        {'index_of_orig_address': all_address_ids % len(address_to_zip)},\n",
    "        index=all_address_ids\n",
    "    )\n",
    "    .rename_axis('address_id')\n",
    "    .join(address_to_zip, on='index_of_orig_address')\n",
    "    .rename(columns={'address': 'orig_address', 'clean_zipcode': 'zipcode'})\n",
    ")\n",
    "address_id_to_zip"
   ]
  },
  {
   "cell_type": "markdown",
   "id": "b3359df6",
   "metadata": {},
   "source": [
    "# Join the zipcodes onto the census data and check distribution"
   ]
  },
  {
   "cell_type": "code",
   "execution_count": 52,
   "id": "e3b6dc46",
   "metadata": {},
   "outputs": [
    {
     "name": "stdout",
     "output_type": "stream",
     "text": [
      "CPU times: user 645 ms, sys: 0 ns, total: 645 ms\n",
      "Wall time: 644 ms\n"
     ]
    },
    {
     "data": {
      "text/html": [
       "<div>\n",
       "<style scoped>\n",
       "    .dataframe tbody tr th:only-of-type {\n",
       "        vertical-align: middle;\n",
       "    }\n",
       "\n",
       "    .dataframe tbody tr th {\n",
       "        vertical-align: top;\n",
       "    }\n",
       "\n",
       "    .dataframe thead th {\n",
       "        text-align: right;\n",
       "    }\n",
       "</style>\n",
       "<table border=\"1\" class=\"dataframe\">\n",
       "  <thead>\n",
       "    <tr style=\"text-align: right;\">\n",
       "      <th></th>\n",
       "      <th>address_id</th>\n",
       "      <th>index_of_orig_address</th>\n",
       "      <th>orig_address</th>\n",
       "      <th>zipcode</th>\n",
       "    </tr>\n",
       "  </thead>\n",
       "  <tbody>\n",
       "    <tr>\n",
       "      <th>0</th>\n",
       "      <td>6</td>\n",
       "      <td>6</td>\n",
       "      <td>13th ave w  unincorporated, fl</td>\n",
       "      <td>33462</td>\n",
       "    </tr>\n",
       "    <tr>\n",
       "      <th>1</th>\n",
       "      <td>6</td>\n",
       "      <td>6</td>\n",
       "      <td>13th ave w  unincorporated, fl</td>\n",
       "      <td>33462</td>\n",
       "    </tr>\n",
       "    <tr>\n",
       "      <th>2</th>\n",
       "      <td>6</td>\n",
       "      <td>6</td>\n",
       "      <td>13th ave w  unincorporated, fl</td>\n",
       "      <td>33462</td>\n",
       "    </tr>\n",
       "    <tr>\n",
       "      <th>3</th>\n",
       "      <td>7</td>\n",
       "      <td>7</td>\n",
       "      <td>13th avenue southwest  lakeland, fl</td>\n",
       "      <td>33811</td>\n",
       "    </tr>\n",
       "    <tr>\n",
       "      <th>4</th>\n",
       "      <td>8</td>\n",
       "      <td>8</td>\n",
       "      <td>14th street  fern prk, fl</td>\n",
       "      <td>32730</td>\n",
       "    </tr>\n",
       "    <tr>\n",
       "      <th>...</th>\n",
       "      <td>...</td>\n",
       "      <td>...</td>\n",
       "      <td>...</td>\n",
       "      <td>...</td>\n",
       "    </tr>\n",
       "    <tr>\n",
       "      <th>4943280</th>\n",
       "      <td>150569</td>\n",
       "      <td>7426</td>\n",
       "      <td>2025 e roosevelt ct  kissimmee, fl</td>\n",
       "      <td>34741</td>\n",
       "    </tr>\n",
       "    <tr>\n",
       "      <th>4943281</th>\n",
       "      <td>3</td>\n",
       "      <td>3</td>\n",
       "      <td>11th ave ne  cape coral, fl</td>\n",
       "      <td>33993</td>\n",
       "    </tr>\n",
       "    <tr>\n",
       "      <th>4943282</th>\n",
       "      <td>96003</td>\n",
       "      <td>14207</td>\n",
       "      <td>4647 coleherne road  winter park, fl</td>\n",
       "      <td>32792</td>\n",
       "    </tr>\n",
       "    <tr>\n",
       "      <th>4943283</th>\n",
       "      <td>179963</td>\n",
       "      <td>16371</td>\n",
       "      <td>605 tce hill ln  englewood, fl</td>\n",
       "      <td>34224</td>\n",
       "    </tr>\n",
       "    <tr>\n",
       "      <th>4943284</th>\n",
       "      <td>77605</td>\n",
       "      <td>16258</td>\n",
       "      <td>6000 kirk rd  cape coral, fl</td>\n",
       "      <td>33914</td>\n",
       "    </tr>\n",
       "  </tbody>\n",
       "</table>\n",
       "<p>4943285 rows × 4 columns</p>\n",
       "</div>"
      ],
      "text/plain": [
       "         address_id  index_of_orig_address  \\\n",
       "0                 6                      6   \n",
       "1                 6                      6   \n",
       "2                 6                      6   \n",
       "3                 7                      7   \n",
       "4                 8                      8   \n",
       "...             ...                    ...   \n",
       "4943280      150569                   7426   \n",
       "4943281           3                      3   \n",
       "4943282       96003                  14207   \n",
       "4943283      179963                  16371   \n",
       "4943284       77605                  16258   \n",
       "\n",
       "                                 orig_address zipcode  \n",
       "0              13th ave w  unincorporated, fl   33462  \n",
       "1              13th ave w  unincorporated, fl   33462  \n",
       "2              13th ave w  unincorporated, fl   33462  \n",
       "3         13th avenue southwest  lakeland, fl   33811  \n",
       "4                   14th street  fern prk, fl   32730  \n",
       "...                                       ...     ...  \n",
       "4943280    2025 e roosevelt ct  kissimmee, fl   34741  \n",
       "4943281           11th ave ne  cape coral, fl   33993  \n",
       "4943282  4647 coleherne road  winter park, fl   32792  \n",
       "4943283        605 tce hill ln  englewood, fl   34224  \n",
       "4943284          6000 kirk rd  cape coral, fl   33914  \n",
       "\n",
       "[4943285 rows x 4 columns]"
      ]
     },
     "execution_count": 52,
     "metadata": {},
     "output_type": "execute_result"
    }
   ],
   "source": [
    "%%time\n",
    "census_zips = df_census[['address_id']].join(address_id_to_zip, on='address_id')\n",
    "census_zips"
   ]
  },
  {
   "cell_type": "code",
   "execution_count": 53,
   "id": "f40186f2",
   "metadata": {},
   "outputs": [
    {
     "data": {
      "text/plain": [
       "zipcode\n",
       "32003    306\n",
       "32008     46\n",
       "32009     19\n",
       "32011     95\n",
       "32024      9\n",
       "        ... \n",
       "34987     63\n",
       "34990    249\n",
       "34994    140\n",
       "34996    169\n",
       "34997    260\n",
       "Name: address_id, Length: 857, dtype: int64"
      ]
     },
     "execution_count": 53,
     "metadata": {},
     "output_type": "execute_result"
    }
   ],
   "source": [
    "census_addresses_per_zip = census_zips.groupby('zipcode')['address_id'].nunique()\n",
    "census_addresses_per_zip"
   ]
  },
  {
   "cell_type": "code",
   "execution_count": 54,
   "id": "dd1937e4",
   "metadata": {},
   "outputs": [
    {
     "data": {
      "text/plain": [
       "9      38\n",
       "18     18\n",
       "19     13\n",
       "46     12\n",
       "38     12\n",
       "       ..\n",
       "179     1\n",
       "386     1\n",
       "338     1\n",
       "340     1\n",
       "59      1\n",
       "Name: address_id, Length: 353, dtype: int64"
      ]
     },
     "execution_count": 54,
     "metadata": {},
     "output_type": "execute_result"
    }
   ],
   "source": [
    "census_addresses_per_zip.value_counts()"
   ]
  },
  {
   "cell_type": "code",
   "execution_count": 55,
   "id": "d33f7d5e",
   "metadata": {},
   "outputs": [
    {
     "data": {
      "text/plain": [
       "<AxesSubplot: >"
      ]
     },
     "execution_count": 55,
     "metadata": {},
     "output_type": "execute_result"
    },
    {
     "data": {
      "image/png": "[encoded data removed]",
      "text/plain": [
       "<Figure size 640x480 with 1 Axes>"
      ]
     },
     "metadata": {},
     "output_type": "display_data"
    }
   ],
   "source": [
    "census_addresses_per_zip.hist(bins=100)"
   ]
  },
  {
   "cell_type": "code",
   "execution_count": 56,
   "id": "8b595e14",
   "metadata": {},
   "outputs": [
    {
     "data": {
      "text/plain": [
       "count     857.000000\n",
       "mean      221.512252\n",
       "std       200.005906\n",
       "min         9.000000\n",
       "25%        82.000000\n",
       "50%       176.000000\n",
       "75%       299.000000\n",
       "max      1440.000000\n",
       "Name: address_id, dtype: float64"
      ]
     },
     "execution_count": 56,
     "metadata": {},
     "output_type": "execute_result"
    }
   ],
   "source": [
    "census_addresses_per_zip.describe()"
   ]
  },
  {
   "cell_type": "code",
   "execution_count": 57,
   "id": "b5cb333d",
   "metadata": {},
   "outputs": [
    {
     "data": {
      "text/plain": [
       "9.283387940730599"
      ]
     },
     "execution_count": 57,
     "metadata": {},
     "output_type": "execute_result"
    }
   ],
   "source": [
    "df_census.address_id.nunique() / len(address_to_zip)"
   ]
  },
  {
   "cell_type": "markdown",
   "id": "d0559c4f",
   "metadata": {},
   "source": [
    "# Join zipcodes onto WIC data and check distribution"
   ]
  },
  {
   "cell_type": "code",
   "execution_count": 58,
   "id": "480db8e8",
   "metadata": {},
   "outputs": [
    {
     "data": {
      "text/html": [
       "<div>\n",
       "<style scoped>\n",
       "    .dataframe tbody tr th:only-of-type {\n",
       "        vertical-align: middle;\n",
       "    }\n",
       "\n",
       "    .dataframe tbody tr th {\n",
       "        vertical-align: top;\n",
       "    }\n",
       "\n",
       "    .dataframe thead th {\n",
       "        text-align: right;\n",
       "    }\n",
       "</style>\n",
       "<table border=\"1\" class=\"dataframe\">\n",
       "  <thead>\n",
       "    <tr style=\"text-align: right;\">\n",
       "      <th></th>\n",
       "      <th>address_id</th>\n",
       "      <th>index_of_orig_address</th>\n",
       "      <th>orig_address</th>\n",
       "      <th>zipcode</th>\n",
       "    </tr>\n",
       "  </thead>\n",
       "  <tbody>\n",
       "    <tr>\n",
       "      <th>0</th>\n",
       "      <td>35</td>\n",
       "      <td>35</td>\n",
       "      <td>420th ave  bradenton, fl</td>\n",
       "      <td>34205</td>\n",
       "    </tr>\n",
       "    <tr>\n",
       "      <th>1</th>\n",
       "      <td>53</td>\n",
       "      <td>53</td>\n",
       "      <td>8th st  melbourne, fl</td>\n",
       "      <td>32940</td>\n",
       "    </tr>\n",
       "    <tr>\n",
       "      <th>2</th>\n",
       "      <td>88</td>\n",
       "      <td>88</td>\n",
       "      <td>belvedere avenue south west  south daytona, fl</td>\n",
       "      <td>32119</td>\n",
       "    </tr>\n",
       "    <tr>\n",
       "      <th>3</th>\n",
       "      <td>97912</td>\n",
       "      <td>16116</td>\n",
       "      <td>5911 chestnut st  st. petersburg, fl</td>\n",
       "      <td>33710</td>\n",
       "    </tr>\n",
       "    <tr>\n",
       "      <th>4</th>\n",
       "      <td>109</td>\n",
       "      <td>109</td>\n",
       "      <td>broad  jupiter, fl</td>\n",
       "      <td>33458</td>\n",
       "    </tr>\n",
       "    <tr>\n",
       "      <th>...</th>\n",
       "      <td>...</td>\n",
       "      <td>...</td>\n",
       "      <td>...</td>\n",
       "      <td>...</td>\n",
       "    </tr>\n",
       "    <tr>\n",
       "      <th>593011</th>\n",
       "      <td>152642</td>\n",
       "      <td>9499</td>\n",
       "      <td>26 putnam road  jacksonville, fl</td>\n",
       "      <td>32258</td>\n",
       "    </tr>\n",
       "    <tr>\n",
       "      <th>593012</th>\n",
       "      <td>135561</td>\n",
       "      <td>12867</td>\n",
       "      <td>40 putnam circle northeast apt no 101 vero bea...</td>\n",
       "      <td>32960</td>\n",
       "    </tr>\n",
       "    <tr>\n",
       "      <th>593013</th>\n",
       "      <td>167694</td>\n",
       "      <td>4102</td>\n",
       "      <td>1360 cable rd  boynton beach, fl</td>\n",
       "      <td>33426</td>\n",
       "    </tr>\n",
       "    <tr>\n",
       "      <th>593014</th>\n",
       "      <td>97484</td>\n",
       "      <td>15688</td>\n",
       "      <td>5554 n pinebay cir  port richey, fl</td>\n",
       "      <td>34668</td>\n",
       "    </tr>\n",
       "    <tr>\n",
       "      <th>593015</th>\n",
       "      <td>182110</td>\n",
       "      <td>18518</td>\n",
       "      <td>7912 cecilia st  lake mary, fl</td>\n",
       "      <td>32746</td>\n",
       "    </tr>\n",
       "  </tbody>\n",
       "</table>\n",
       "<p>593016 rows × 4 columns</p>\n",
       "</div>"
      ],
      "text/plain": [
       "        address_id  index_of_orig_address  \\\n",
       "0               35                     35   \n",
       "1               53                     53   \n",
       "2               88                     88   \n",
       "3            97912                  16116   \n",
       "4              109                    109   \n",
       "...            ...                    ...   \n",
       "593011      152642                   9499   \n",
       "593012      135561                  12867   \n",
       "593013      167694                   4102   \n",
       "593014       97484                  15688   \n",
       "593015      182110                  18518   \n",
       "\n",
       "                                             orig_address zipcode  \n",
       "0                                420th ave  bradenton, fl   34205  \n",
       "1                                   8th st  melbourne, fl   32940  \n",
       "2          belvedere avenue south west  south daytona, fl   32119  \n",
       "3                    5911 chestnut st  st. petersburg, fl   33710  \n",
       "4                                      broad  jupiter, fl   33458  \n",
       "...                                                   ...     ...  \n",
       "593011                   26 putnam road  jacksonville, fl   32258  \n",
       "593012  40 putnam circle northeast apt no 101 vero bea...   32960  \n",
       "593013                   1360 cable rd  boynton beach, fl   33426  \n",
       "593014                5554 n pinebay cir  port richey, fl   34668  \n",
       "593015                     7912 cecilia st  lake mary, fl   32746  \n",
       "\n",
       "[593016 rows x 4 columns]"
      ]
     },
     "execution_count": 58,
     "metadata": {},
     "output_type": "execute_result"
    }
   ],
   "source": [
    "wic_zips = df_wic[['address_id']].join(address_id_to_zip, on='address_id')\n",
    "wic_zips"
   ]
  },
  {
   "cell_type": "code",
   "execution_count": 59,
   "id": "6c194923",
   "metadata": {},
   "outputs": [
    {
     "data": {
      "text/plain": [
       "zipcode\n",
       "32003    214\n",
       "32008     29\n",
       "32009     10\n",
       "32011     60\n",
       "32024      4\n",
       "        ... \n",
       "34987     43\n",
       "34990    177\n",
       "34994     96\n",
       "34996     99\n",
       "34997    175\n",
       "Name: address_id, Length: 857, dtype: int64"
      ]
     },
     "execution_count": 59,
     "metadata": {},
     "output_type": "execute_result"
    }
   ],
   "source": [
    "wic_addresses_per_zip = wic_zips.groupby('zipcode')['address_id'].nunique()\n",
    "wic_addresses_per_zip"
   ]
  },
  {
   "cell_type": "code",
   "execution_count": 60,
   "id": "18d32e6e",
   "metadata": {},
   "outputs": [
    {
     "data": {
      "text/plain": [
       "7      17\n",
       "5      11\n",
       "12     11\n",
       "6      10\n",
       "99      9\n",
       "       ..\n",
       "311     1\n",
       "461     1\n",
       "372     1\n",
       "312     1\n",
       "177     1\n",
       "Name: address_id, Length: 330, dtype: int64"
      ]
     },
     "execution_count": 60,
     "metadata": {},
     "output_type": "execute_result"
    }
   ],
   "source": [
    "wic_addresses_per_zip.value_counts()"
   ]
  },
  {
   "cell_type": "code",
   "execution_count": 61,
   "id": "e44b6382",
   "metadata": {},
   "outputs": [
    {
     "data": {
      "text/plain": [
       "<AxesSubplot: >"
      ]
     },
     "execution_count": 61,
     "metadata": {},
     "output_type": "execute_result"
    },
    {
     "data": {
      "image/png": "[encoded data removed]",
      "text/plain": [
       "<Figure size 640x480 with 1 Axes>"
      ]
     },
     "metadata": {},
     "output_type": "display_data"
    }
   ],
   "source": [
    "wic_addresses_per_zip.hist(bins=100)"
   ]
  },
  {
   "cell_type": "code",
   "execution_count": 62,
   "id": "af278e41",
   "metadata": {},
   "outputs": [
    {
     "data": {
      "text/plain": [
       "count    857.000000\n",
       "mean     144.444574\n",
       "std      131.022121\n",
       "min        3.000000\n",
       "25%       50.000000\n",
       "50%      116.000000\n",
       "75%      195.000000\n",
       "max      940.000000\n",
       "Name: address_id, dtype: float64"
      ]
     },
     "execution_count": 62,
     "metadata": {},
     "output_type": "execute_result"
    }
   ],
   "source": [
    "wic_addresses_per_zip.describe()"
   ]
  },
  {
   "cell_type": "code",
   "execution_count": 63,
   "id": "648b3030",
   "metadata": {},
   "outputs": [
    {
     "data": {
      "text/plain": [
       "6.053547850750648"
      ]
     },
     "execution_count": 63,
     "metadata": {},
     "output_type": "execute_result"
    }
   ],
   "source": [
    "df_wic.address_id.nunique() / len(address_to_zip)"
   ]
  },
  {
   "cell_type": "markdown",
   "id": "6df95162",
   "metadata": {},
   "source": [
    "# Save zipcode mapping to use later"
   ]
  },
  {
   "cell_type": "code",
   "execution_count": 64,
   "id": "4a4f34c8",
   "metadata": {},
   "outputs": [
    {
     "name": "stdout",
     "output_type": "stream",
     "text": [
      "prl  vivarium_lsff  vivarium_results\r\n"
     ]
    }
   ],
   "source": [
    "!ls /share/scratch/users/ndbs/"
   ]
  },
  {
   "cell_type": "code",
   "execution_count": 65,
   "id": "ac497f02",
   "metadata": {},
   "outputs": [
    {
     "name": "stdout",
     "output_type": "stream",
     "text": [
      "total 700\n",
      "-rw-rw-r-- 1 ndbs Domain Users 710226 Feb  9 22:50 address_id_to_zipcode_2023_02_02_10_16_21.csv.bz2\n",
      "CPU times: user 366 ms, sys: 40.2 ms, total: 406 ms\n",
      "Wall time: 604 ms\n"
     ]
    }
   ],
   "source": [
    "%%time\n",
    "save_dir = '/share/scratch/users/ndbs/prl'\n",
    "save_filename = 'address_id_to_zipcode_2023_02_02_10_16_21.csv.bz2'\n",
    "save_filepath = f'{save_dir}/{save_filename}'\n",
    "address_id_to_zip['zipcode'].to_csv(save_filepath)\n",
    "!ls -l $save_dir"
   ]
  },
  {
   "cell_type": "code",
   "execution_count": 66,
   "id": "f52b6e39",
   "metadata": {},
   "outputs": [
    {
     "name": "stdout",
     "output_type": "stream",
     "text": [
      "CPU times: user 203 ms, sys: 11.9 ms, total: 214 ms\n",
      "Wall time: 214 ms\n"
     ]
    },
    {
     "data": {
      "text/html": [
       "<div>\n",
       "<style scoped>\n",
       "    .dataframe tbody tr th:only-of-type {\n",
       "        vertical-align: middle;\n",
       "    }\n",
       "\n",
       "    .dataframe tbody tr th {\n",
       "        vertical-align: top;\n",
       "    }\n",
       "\n",
       "    .dataframe thead th {\n",
       "        text-align: right;\n",
       "    }\n",
       "</style>\n",
       "<table border=\"1\" class=\"dataframe\">\n",
       "  <thead>\n",
       "    <tr style=\"text-align: right;\">\n",
       "      <th></th>\n",
       "      <th>zipcode</th>\n",
       "    </tr>\n",
       "    <tr>\n",
       "      <th>address_id</th>\n",
       "      <th></th>\n",
       "    </tr>\n",
       "  </thead>\n",
       "  <tbody>\n",
       "    <tr>\n",
       "      <th>0</th>\n",
       "      <td>34266</td>\n",
       "    </tr>\n",
       "    <tr>\n",
       "      <th>1</th>\n",
       "      <td>33434</td>\n",
       "    </tr>\n",
       "    <tr>\n",
       "      <th>2</th>\n",
       "      <td>32807</td>\n",
       "    </tr>\n",
       "    <tr>\n",
       "      <th>3</th>\n",
       "      <td>33993</td>\n",
       "    </tr>\n",
       "    <tr>\n",
       "      <th>4</th>\n",
       "      <td>32174</td>\n",
       "    </tr>\n",
       "    <tr>\n",
       "      <th>...</th>\n",
       "      <td>...</td>\n",
       "    </tr>\n",
       "    <tr>\n",
       "      <th>189908</th>\n",
       "      <td>33908</td>\n",
       "    </tr>\n",
       "    <tr>\n",
       "      <th>189909</th>\n",
       "      <td>32217</td>\n",
       "    </tr>\n",
       "    <tr>\n",
       "      <th>189910</th>\n",
       "      <td>32433</td>\n",
       "    </tr>\n",
       "    <tr>\n",
       "      <th>189911</th>\n",
       "      <td>33033</td>\n",
       "    </tr>\n",
       "    <tr>\n",
       "      <th>189912</th>\n",
       "      <td>33981</td>\n",
       "    </tr>\n",
       "  </tbody>\n",
       "</table>\n",
       "<p>189913 rows × 1 columns</p>\n",
       "</div>"
      ],
      "text/plain": [
       "           zipcode\n",
       "address_id        \n",
       "0            34266\n",
       "1            33434\n",
       "2            32807\n",
       "3            33993\n",
       "4            32174\n",
       "...            ...\n",
       "189908       33908\n",
       "189909       32217\n",
       "189910       32433\n",
       "189911       33033\n",
       "189912       33981\n",
       "\n",
       "[189913 rows x 1 columns]"
      ]
     },
     "execution_count": 66,
     "metadata": {},
     "output_type": "execute_result"
    }
   ],
   "source": [
    "%%time\n",
    "loaded_zips = pd.read_csv(save_filepath, index_col=0, dtype=str)\n",
    "loaded_zips"
   ]
  },
  {
   "cell_type": "code",
   "execution_count": 67,
   "id": "d5a92c59",
   "metadata": {},
   "outputs": [
    {
     "data": {
      "text/plain": [
       "zipcode    object\n",
       "dtype: object"
      ]
     },
     "execution_count": 67,
     "metadata": {},
     "output_type": "execute_result"
    }
   ],
   "source": [
    "loaded_zips.dtypes"
   ]
  },
  {
   "cell_type": "code",
   "execution_count": 68,
   "id": "4ca89d02",
   "metadata": {},
   "outputs": [
    {
     "data": {
      "text/plain": [
       "Int64Index([     0,      1,      2,      3,      4,      5,      6,      7,\n",
       "                 8,      9,\n",
       "            ...\n",
       "            189903, 189904, 189905, 189906, 189907, 189908, 189909, 189910,\n",
       "            189911, 189912],\n",
       "           dtype='int64', name='address_id', length=189913)"
      ]
     },
     "execution_count": 68,
     "metadata": {},
     "output_type": "execute_result"
    }
   ],
   "source": [
    "loaded_zips.index"
   ]
  },
  {
   "cell_type": "code",
   "execution_count": null,
   "id": "c505a326",
   "metadata": {},
   "outputs": [],
   "source": []
  }
 ],
 "metadata": {
  "kernelspec": {
   "display_name": "Python 3 (ipykernel)",
   "language": "python",
   "name": "python3"
  },
  "language_info": {
   "codemirror_mode": {
    "name": "ipython",
    "version": 3
   },
   "file_extension": ".py",
   "mimetype": "text/x-python",
   "name": "python",
   "nbconvert_exporter": "python",
   "pygments_lexer": "ipython3",
   "version": "3.8.13"
  }
 },
 "nbformat": 4,
 "nbformat_minor": 5
}
