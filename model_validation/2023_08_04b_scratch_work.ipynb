{
 "cells": [
  {
   "cell_type": "code",
   "execution_count": 9,
   "id": "90ea6861-4962-4b8b-abc2-0989723c011d",
   "metadata": {},
   "outputs": [
    {
     "name": "stdout",
     "output_type": "stream",
     "text": [
      "Wed 09 Aug 2023 02:24:42 PM PDT\n",
      "ndbs\n",
      "Linux long-slurm-sarchive-p0046 5.4.0-135-generic #152-Ubuntu SMP Wed Nov 23 20:19:22 UTC 2022 x86_64 x86_64 x86_64 GNU/Linux\n",
      "Python 3.10.12\n",
      "/mnt/share/code/ndbs/vivarium_research_prl/model_validation\n"
     ]
    }
   ],
   "source": [
    "import numpy as np, matplotlib.pyplot as plt, pandas as pd\n",
    "# For finding and loading multiple files\n",
    "import os\n",
    "# Use this to see how much memory the dataframes use\n",
    "from sys import getsizeof\n",
    "# To view keyspace.yaml\n",
    "import yaml\n",
    "import math\n",
    "\n",
    "import pseudopeople as psp\n",
    "\n",
    "from vivarium_research_prl.utils import sizemb, MappingViaAttributes, build_full_address\n",
    "from vivarium_research_prl.data_loading import conform_categories, load_shards_and_concatenate\n",
    "\n",
    "!date\n",
    "!whoami\n",
    "!uname -a\n",
    "!python --version\n",
    "!pwd"
   ]
  },
  {
   "cell_type": "code",
   "execution_count": 13,
   "id": "e74ca5a5-0563-4153-bece-99f6e2fa6ca7",
   "metadata": {},
   "outputs": [],
   "source": []
  },
  {
   "cell_type": "code",
   "execution_count": 1,
   "id": "c5a7ca3a-0e67-46a0-8785-b1707584eea1",
   "metadata": {},
   "outputs": [
    {
     "name": "stdout",
     "output_type": "stream",
     "text": [
      "0\n",
      "0\n",
      "1\n",
      "5\n",
      "2\n",
      "10\n",
      "3\n",
      "15\n",
      "4\n",
      "20\n"
     ]
    }
   ],
   "source": [
    "for x in range(5):\n",
    "    print(x)\n",
    "    x = x*5\n",
    "    print(x)"
   ]
  },
  {
   "cell_type": "markdown",
   "id": "a0fd1d69-7823-4088-b7b1-19e622eae410",
   "metadata": {},
   "source": [
    "# Using JupyterLab, I copied these two cells from another notebook!\n",
    "\n",
    "So far, the ability to copy cells between notebooks seems to be the only benefit of using JupyterLab over Jupyter Notebook..."
   ]
  },
  {
   "cell_type": "code",
   "execution_count": 3,
   "id": "85336f49-6600-444b-9769-ce79613b6b08",
   "metadata": {},
   "outputs": [
    {
     "data": {
      "text/plain": [
       "18446744073709551616"
      ]
     },
     "execution_count": 3,
     "metadata": {},
     "output_type": "execute_result"
    }
   ],
   "source": [
    "M = 2**64\n",
    "M"
   ]
  },
  {
   "cell_type": "code",
   "execution_count": 14,
   "id": "8ba0930f-2b6b-41dc-9318-b870e7b35ab3",
   "metadata": {},
   "outputs": [
    {
     "data": {
      "text/plain": [
       "18446744.07370955"
      ]
     },
     "execution_count": 14,
     "metadata": {},
     "output_type": "execute_result"
    }
   ],
   "source": [
    "M / (100*1e6 * 10_000)"
   ]
  },
  {
   "cell_type": "markdown",
   "id": "3ddf8abe-079b-4449-964f-19dc0978f454",
   "metadata": {},
   "source": [
    "# How can I see what the codepoint of the unicode character \"№\" is?\n",
    "\n",
    "If I want it in hexadecimal, I have to do an extra conversion. Likewise for converting back from a hexadecimal codepoint to a unicode character."
   ]
  },
  {
   "cell_type": "code",
   "execution_count": 1,
   "id": "177cd2a5-6a2c-492a-b3ee-d8a3af073e08",
   "metadata": {},
   "outputs": [
    {
     "data": {
      "text/plain": [
       "8470"
      ]
     },
     "execution_count": 1,
     "metadata": {},
     "output_type": "execute_result"
    }
   ],
   "source": [
    "ord('№')"
   ]
  },
  {
   "cell_type": "code",
   "execution_count": 10,
   "id": "1d9768f0-9c91-492a-91c1-ef4a1cb73238",
   "metadata": {},
   "outputs": [
    {
     "data": {
      "text/plain": [
       "'№'"
      ]
     },
     "execution_count": 10,
     "metadata": {},
     "output_type": "execute_result"
    }
   ],
   "source": [
    "chr(8470)"
   ]
  },
  {
   "cell_type": "code",
   "execution_count": 2,
   "id": "09663b7e-e871-48b6-82f1-9820253da8f9",
   "metadata": {},
   "outputs": [
    {
     "data": {
      "text/plain": [
       "'№'"
      ]
     },
     "execution_count": 2,
     "metadata": {},
     "output_type": "execute_result"
    }
   ],
   "source": [
    "'№'[0]"
   ]
  },
  {
   "cell_type": "code",
   "execution_count": 3,
   "id": "a326caf8-ba4b-42ed-9fbc-878d106d4d23",
   "metadata": {},
   "outputs": [
    {
     "ename": "SyntaxError",
     "evalue": "invalid character '№' (U+2116) (3718049274.py, line 1)",
     "output_type": "error",
     "traceback": [
      "\u001b[0;36m  Cell \u001b[0;32mIn[3], line 1\u001b[0;36m\u001b[0m\n\u001b[0;31m    №\u001b[0m\n\u001b[0m    ^\u001b[0m\n\u001b[0;31mSyntaxError\u001b[0m\u001b[0;31m:\u001b[0m invalid character '№' (U+2116)\n"
     ]
    }
   ],
   "source": [
    "№ # Look at error to see unicode code point"
   ]
  },
  {
   "cell_type": "code",
   "execution_count": 5,
   "id": "79ac74c5-aa19-4910-9f09-3f3f5cada0a1",
   "metadata": {},
   "outputs": [
    {
     "data": {
      "text/plain": [
       "'0x2116'"
      ]
     },
     "execution_count": 5,
     "metadata": {},
     "output_type": "execute_result"
    }
   ],
   "source": [
    "hex(ord('№'))"
   ]
  },
  {
   "cell_type": "code",
   "execution_count": 7,
   "id": "81006922-39b8-478b-8ee3-65ebc262f619",
   "metadata": {},
   "outputs": [
    {
     "data": {
      "text/plain": [
       "'№'"
      ]
     },
     "execution_count": 7,
     "metadata": {},
     "output_type": "execute_result"
    }
   ],
   "source": [
    "chr(int('0x2116', 16))"
   ]
  },
  {
   "cell_type": "code",
   "execution_count": 14,
   "id": "80c1318b-49df-43ec-badb-e3f85e672e1c",
   "metadata": {},
   "outputs": [
    {
     "data": {
      "text/plain": [
       "120"
      ]
     },
     "execution_count": 14,
     "metadata": {},
     "output_type": "execute_result"
    }
   ],
   "source": [
    "math.factorial(5)"
   ]
  },
  {
   "cell_type": "code",
   "execution_count": 39,
   "id": "49bfff03-3328-4a1d-ba8a-b6f37b2d2e1a",
   "metadata": {},
   "outputs": [
    {
     "data": {
      "text/plain": [
       "'20_922_789_888_000'"
      ]
     },
     "execution_count": 39,
     "metadata": {},
     "output_type": "execute_result"
    }
   ],
   "source": [
    "f'{math.factorial(16):_}'"
   ]
  },
  {
   "cell_type": "code",
   "execution_count": 30,
   "id": "b68430e3-41b1-48e7-a8a0-94253b7a7361",
   "metadata": {},
   "outputs": [
    {
     "data": {
      "text/plain": [
       "'89,862,698,310,039,502,848,000'"
      ]
     },
     "execution_count": 30,
     "metadata": {},
     "output_type": "execute_result"
    }
   ],
   "source": [
    "f'{math.factorial(16) * 4**16:,}'"
   ]
  },
  {
   "cell_type": "code",
   "execution_count": 29,
   "id": "20f4f2ae-851d-4096-909d-497133baa611",
   "metadata": {},
   "outputs": [
    {
     "data": {
      "text/plain": [
       "'22,465,674,577,509,875,712,000'"
      ]
     },
     "execution_count": 29,
     "metadata": {},
     "output_type": "execute_result"
    }
   ],
   "source": [
    "f'{math.factorial(16) * 4**16 // 4:,}'"
   ]
  },
  {
   "cell_type": "code",
   "execution_count": 42,
   "id": "0bc75a73-a535-48b7-ac65-39125ee6216e",
   "metadata": {},
   "outputs": [
    {
     "data": {
      "text/plain": [
       "'5_230_697_472_000'"
      ]
     },
     "execution_count": 42,
     "metadata": {},
     "output_type": "execute_result"
    }
   ],
   "source": [
    "f'{math.factorial(16) // 4:_}'"
   ]
  },
  {
   "cell_type": "code",
   "execution_count": 32,
   "id": "31960ca7-106c-4d69-92bd-4734d3189094",
   "metadata": {},
   "outputs": [
    {
     "data": {
      "text/plain": [
       "'523_069_747_200'"
      ]
     },
     "execution_count": 32,
     "metadata": {},
     "output_type": "execute_result"
    }
   ],
   "source": [
    "f'{math.factorial(16) // 4 // 10:_}'"
   ]
  },
  {
   "cell_type": "code",
   "execution_count": 47,
   "id": "a8df7d7d-2e1d-46f2-9952-c514a2186b61",
   "metadata": {},
   "outputs": [
    {
     "data": {
      "text/plain": [
       "'9.999999999044105'"
      ]
     },
     "execution_count": 47,
     "metadata": {},
     "output_type": "execute_result"
    }
   ],
   "source": [
    "f'{math.factorial(16) / (4 * 523_069_747_250) :_}'"
   ]
  },
  {
   "cell_type": "code",
   "execution_count": 34,
   "id": "897f91d3-4ad9-455f-b210-3217364b47ea",
   "metadata": {},
   "outputs": [
    {
     "data": {
      "text/plain": [
       "'581_188_608_000'"
      ]
     },
     "execution_count": 34,
     "metadata": {},
     "output_type": "execute_result"
    }
   ],
   "source": [
    "f'{math.factorial(16) // 4 // 9:_}'"
   ]
  },
  {
   "cell_type": "code",
   "execution_count": 44,
   "id": "33aa11b3-6ac3-48b1-99a1-0480418dd14c",
   "metadata": {},
   "outputs": [
    {
     "data": {
      "text/plain": [
       "18830510901000"
      ]
     },
     "execution_count": 44,
     "metadata": {},
     "output_type": "execute_result"
    }
   ],
   "source": [
    "523_069_747_250*4*9"
   ]
  },
  {
   "cell_type": "code",
   "execution_count": 48,
   "id": "4cb6000d-78db-49fa-83c0-a981299848f6",
   "metadata": {},
   "outputs": [
    {
     "data": {
      "text/plain": [
       "'39.99999999617642'"
      ]
     },
     "execution_count": 48,
     "metadata": {},
     "output_type": "execute_result"
    }
   ],
   "source": [
    "f'{math.factorial(16) / 523_069_747_250:_}'"
   ]
  },
  {
   "cell_type": "code",
   "execution_count": null,
   "id": "9bef8c9e-f63a-4ad4-9afe-87554a42fa74",
   "metadata": {},
   "outputs": [],
   "source": []
  }
 ],
 "metadata": {
  "kernelspec": {
   "display_name": "Python 3 (ipykernel)",
   "language": "python",
   "name": "python3"
  },
  "language_info": {
   "codemirror_mode": {
    "name": "ipython",
    "version": 3
   },
   "file_extension": ".py",
   "mimetype": "text/x-python",
   "name": "python",
   "nbconvert_exporter": "python",
   "pygments_lexer": "ipython3",
   "version": "3.10.12"
  }
 },
 "nbformat": 4,
 "nbformat_minor": 5
}
