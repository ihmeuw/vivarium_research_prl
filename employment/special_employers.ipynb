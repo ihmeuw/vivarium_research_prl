{
 "cells": [
  {
   "cell_type": "markdown",
   "id": "90d88231-dfc0-45ec-94e7-cfb047e70576",
   "metadata": {},
   "source": [
    "# Proportion of working-age people in ACS not employed, and employed by military"
   ]
  },
  {
   "cell_type": "code",
   "execution_count": 1,
   "id": "1dda379d-e008-4901-ad8b-e41ecfac4991",
   "metadata": {
    "tags": []
   },
   "outputs": [
    {
     "name": "stdout",
     "output_type": "stream",
     "text": [
      "zmbc\n",
      "Tue Nov 29 13:18:42 PST 2022\n"
     ]
    }
   ],
   "source": [
    "import pandas as pd, numpy as np\n",
    "import matplotlib.pyplot as plt\n",
    "import seaborn as sns\n",
    "from numpy.random import default_rng\n",
    "import scipy.stats as stats\n",
    "\n",
    "pd.set_option('display.min_rows', 20)\n",
    "\n",
    "! whoami\n",
    "! date"
   ]
  },
  {
   "cell_type": "markdown",
   "id": "fd0ab37e-caf1-454c-a166-9e40fb6268f7",
   "metadata": {},
   "source": [
    "## Read PUMS\n",
    "\n",
    "PUMS data dictionary: https://www2.census.gov/programs-surveys/acs/tech_docs/pums/data_dict/PUMS_Data_Dictionary_2016-2020.pdf"
   ]
  },
  {
   "cell_type": "code",
   "execution_count": 2,
   "id": "19cf2de1-5bc6-4f29-8519-e0f80123c8fd",
   "metadata": {
    "tags": []
   },
   "outputs": [],
   "source": [
    "acs = pd.read_hdf('../data/acs_2020_5yr_person.hdf', key='acs')"
   ]
  },
  {
   "cell_type": "code",
   "execution_count": 3,
   "id": "12f26421-416f-4f42-8566-da4ba17ed89f",
   "metadata": {},
   "outputs": [],
   "source": [
    "# Duplicate indices! In the future, should probably deal with this in download_acs!\n",
    "# Filter to relevant columns to save memory\n",
    "acs = acs[['SERIALNO', 'HISP', 'RAC1P', 'AGEP', 'SEX', 'ESR', 'RELSHIPP', 'PWGTP']].reset_index(drop=True)"
   ]
  },
  {
   "cell_type": "markdown",
   "id": "cffacf07-5d8f-44a6-8bcb-de957b020e0b",
   "metadata": {},
   "source": [
    "### Define employment\n",
    "\n",
    "ESR meaning (see data dictionary):\n",
    "\n",
    "1. Civilian employed, at work\n",
    "2. Civilian employed, with a job but not at work\n",
    "3. Unemployed\n",
    "4. Armed forces, at work\n",
    "5. Armed forces, with a job but not at work\n",
    "6. Not in labor force\n",
    "\n",
    "\"Not at work\" means that they had a job but hadn't worked in the previous week, e.g. were on vacation."
   ]
  },
  {
   "cell_type": "code",
   "execution_count": 4,
   "id": "1fda016b-de41-4c87-9ea7-259eb3dc12d9",
   "metadata": {},
   "outputs": [],
   "source": [
    "acs['working_age'] = (acs.AGEP >= 18)\n",
    "acs['employed'] = np.where(acs.ESR.isnull(), np.nan, (acs.ESR.isin([1, 2, 4, 5])).astype(int))"
   ]
  },
  {
   "cell_type": "markdown",
   "id": "afd68863-a6e7-4b45-b2ee-cd099b145fd2",
   "metadata": {},
   "source": [
    "## Calculate proportion employed"
   ]
  },
  {
   "cell_type": "code",
   "execution_count": 5,
   "id": "6325dbe8-d61d-438f-92eb-7c4f8afa9ebe",
   "metadata": {},
   "outputs": [
    {
     "data": {
      "text/plain": [
       "0.6114367314410635"
      ]
     },
     "execution_count": 5,
     "metadata": {},
     "output_type": "execute_result"
    }
   ],
   "source": [
    "employed_proportion = acs[(acs.working_age) & (acs.employed == 1)].PWGTP.sum() / acs[(acs.working_age)].PWGTP.sum()\n",
    "employed_proportion"
   ]
  },
  {
   "cell_type": "code",
   "execution_count": 6,
   "id": "44810625-df83-4dab-9342-986a8bf60e77",
   "metadata": {},
   "outputs": [
    {
     "data": {
      "text/plain": [
       "0.3885632685589365"
      ]
     },
     "execution_count": 6,
     "metadata": {},
     "output_type": "execute_result"
    }
   ],
   "source": [
    "1 - employed_proportion"
   ]
  },
  {
   "cell_type": "code",
   "execution_count": 7,
   "id": "eb4d5818-19e4-4d94-bcdf-c868669de4bd",
   "metadata": {},
   "outputs": [
    {
     "name": "stdout",
     "output_type": "stream",
     "text": [
      "38.86%\n"
     ]
    }
   ],
   "source": [
    "print(f'{1 - employed_proportion:.2%}')"
   ]
  },
  {
   "cell_type": "markdown",
   "id": "346a8322-add2-42ca-bd5d-33bb9de57714",
   "metadata": {},
   "source": [
    "## Calculate proportion employed by military"
   ]
  },
  {
   "cell_type": "code",
   "execution_count": 8,
   "id": "2cbc06e4-b0ac-40ec-b306-59a6bda003ff",
   "metadata": {},
   "outputs": [],
   "source": [
    "acs['military_employed'] = np.where(acs.ESR.isnull(), np.nan, (acs.ESR.isin([4, 5])).astype(int))"
   ]
  },
  {
   "cell_type": "code",
   "execution_count": 9,
   "id": "63aa2a8d-7b08-4c22-a1a2-024afadf519f",
   "metadata": {},
   "outputs": [
    {
     "data": {
      "text/plain": [
       "1132832"
      ]
     },
     "execution_count": 9,
     "metadata": {},
     "output_type": "execute_result"
    }
   ],
   "source": [
    "# Total size of military: does this make sense? A quick Google says yes.\n",
    "acs[(acs.working_age) & (acs.military_employed == 1)].PWGTP.sum()"
   ]
  },
  {
   "cell_type": "code",
   "execution_count": 10,
   "id": "63da13c0-9fd3-4954-b17c-1780fc742681",
   "metadata": {},
   "outputs": [
    {
     "data": {
      "text/plain": [
       "0.004472354972757207"
      ]
     },
     "execution_count": 10,
     "metadata": {},
     "output_type": "execute_result"
    }
   ],
   "source": [
    "military_employed_overall = acs[(acs.working_age) & (acs.military_employed == 1)].PWGTP.sum() / acs[(acs.working_age)].PWGTP.sum()\n",
    "military_employed_overall"
   ]
  },
  {
   "cell_type": "code",
   "execution_count": 11,
   "id": "10e0eac5-767e-4bd7-ab3e-8f19f94811de",
   "metadata": {},
   "outputs": [
    {
     "name": "stdout",
     "output_type": "stream",
     "text": [
      "0.45%\n"
     ]
    }
   ],
   "source": [
    "print(f'{military_employed_overall:.2%}')"
   ]
  },
  {
   "cell_type": "markdown",
   "id": "e001ce84-e120-44a6-98d7-6fede1f50f89",
   "metadata": {},
   "source": [
    "RELSHIPP 38 is noninstitutionalized group quarters population, which would be everyone living in military GQ."
   ]
  },
  {
   "cell_type": "code",
   "execution_count": 12,
   "id": "15cfbc8a-1d05-4382-87b9-d4484abfba08",
   "metadata": {},
   "outputs": [
    {
     "data": {
      "text/plain": [
       "0.0032002412224113722"
      ]
     },
     "execution_count": 12,
     "metadata": {},
     "output_type": "execute_result"
    }
   ],
   "source": [
    "military_employed_non_gq = acs[(acs.working_age) & (acs.RELSHIPP != 38) & (acs.military_employed == 1)].PWGTP.sum() / acs[(acs.working_age)].PWGTP.sum()\n",
    "military_employed_non_gq"
   ]
  },
  {
   "cell_type": "code",
   "execution_count": 13,
   "id": "7c08d558-39c4-49fd-9927-02eb872c6cbe",
   "metadata": {},
   "outputs": [
    {
     "name": "stdout",
     "output_type": "stream",
     "text": [
      "0.32%\n"
     ]
    }
   ],
   "source": [
    "print(f'{military_employed_non_gq:.2%}')"
   ]
  },
  {
   "cell_type": "code",
   "execution_count": null,
   "id": "f92387a1-8d6b-4e84-8068-fc35fbdc10b7",
   "metadata": {},
   "outputs": [],
   "source": []
  }
 ],
 "metadata": {
  "kernelspec": {
   "display_name": "Python 3 (ipykernel)",
   "language": "python",
   "name": "python3"
  },
  "language_info": {
   "codemirror_mode": {
    "name": "ipython",
    "version": 3
   },
   "file_extension": ".py",
   "mimetype": "text/x-python",
   "name": "python",
   "nbconvert_exporter": "python",
   "pygments_lexer": "ipython3",
   "version": "3.7.15"
  }
 },
 "nbformat": 4,
 "nbformat_minor": 5
}
