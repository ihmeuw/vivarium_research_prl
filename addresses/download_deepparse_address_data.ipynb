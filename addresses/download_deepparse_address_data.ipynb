{
 "cells": [
  {
   "cell_type": "markdown",
   "id": "a1ad9e83-8155-4db6-bb9d-1573b53294bf",
   "metadata": {},
   "source": [
    "# Download deepparse address data\n",
    "\n",
    "The https://github.com/GRAAL-Research/deepparse-address-data repository includes some easily-accessible data which is originally\n",
    "from libpostal.\n",
    "This is real address data, which allows the correlation of e.g. city and state with each other.\n",
    "\n",
    "Here, we get it out of its rather obscure format (doubly-compressed pickle files of Python lists) into a dataframe for simulation use."
   ]
  },
  {
   "cell_type": "code",
   "execution_count": 1,
   "id": "ff5cd633-c24e-4f46-bbac-20474180fb90",
   "metadata": {},
   "outputs": [
    {
     "name": "stdout",
     "output_type": "stream",
     "text": [
      "zmbc\n",
      "Wed Dec  7 16:29:01 PST 2022\n"
     ]
    }
   ],
   "source": [
    "import pandas as pd, numpy as np\n",
    "import zipfile\n",
    "import lzma\n",
    "import pickle\n",
    "\n",
    "! whoami\n",
    "! date"
   ]
  },
  {
   "cell_type": "code",
   "execution_count": 2,
   "id": "c284fdb9-27c7-497c-b7b8-a996ba23311c",
   "metadata": {},
   "outputs": [
    {
     "name": "stdout",
     "output_type": "stream",
     "text": [
      "--2022-12-07 16:29:01--  https://graal.ift.ulaval.ca/public/deepparse/dataset/data.zip\n",
      "Resolving graal.ift.ulaval.ca (graal.ift.ulaval.ca)... 132.203.210.68\n",
      "Connecting to graal.ift.ulaval.ca (graal.ift.ulaval.ca)|132.203.210.68|:443... connected.\n",
      "HTTP request sent, awaiting response... 200 OK\n",
      "Length: 438983300 (419M) [application/zip]\n",
      "Saving to: ‘../data/raw/deepparse_address_data/data.zip.1’\n",
      "\n",
      "data.zip.1          100%[===================>] 418.65M  37.9MB/s    in 11s     \n",
      "\n",
      "2022-12-07 16:29:12 (39.3 MB/s) - ‘../data/raw/deepparse_address_data/data.zip.1’ saved [438983300/438983300]\n",
      "\n"
     ]
    }
   ],
   "source": [
    "! wget https://graal.ift.ulaval.ca/public/deepparse/dataset/data.zip -P ../data/raw/deepparse_address_data"
   ]
  },
  {
   "cell_type": "code",
   "execution_count": 3,
   "id": "7c2797af-85eb-418b-a175-68e5f1912ee6",
   "metadata": {},
   "outputs": [],
   "source": [
    "with zipfile.ZipFile('../data/raw/deepparse_address_data/data.zip', 'r') as zip_ref:\n",
    "    zip_ref.extractall('../data/raw/deepparse_address_data/data_extracted')"
   ]
  },
  {
   "cell_type": "markdown",
   "id": "a2d067df-7e08-4e48-9e33-db6bda0d65bc",
   "metadata": {},
   "source": [
    "**NOTE:** We only use test data for some reason.\n",
    "This is the vast majority, but we could get an extra 100k rows for free if we also included training."
   ]
  },
  {
   "cell_type": "code",
   "execution_count": 4,
   "id": "8128ecdd-84df-403d-ab89-279895694701",
   "metadata": {},
   "outputs": [
    {
     "name": "stdout",
     "output_type": "stream",
     "text": [
      "CPU times: user 19.8 s, sys: 1.24 s, total: 21 s\n",
      "Wall time: 21 s\n"
     ]
    }
   ],
   "source": [
    "%%time\n",
    "\n",
    "with lzma.open('../data/raw/deepparse_address_data/data_extracted/data/clean_data/test/us.lzma', 'rb') as f:\n",
    "    us_test_data = pickle.load(f)"
   ]
  },
  {
   "cell_type": "code",
   "execution_count": 5,
   "id": "ef4f8d9a-1429-4c11-b2d8-8ad847bb959e",
   "metadata": {},
   "outputs": [
    {
     "data": {
      "text/plain": [
       "7999999"
      ]
     },
     "execution_count": 5,
     "metadata": {},
     "output_type": "execute_result"
    }
   ],
   "source": [
    "len(us_test_data)"
   ]
  },
  {
   "cell_type": "code",
   "execution_count": 6,
   "id": "c90729c9-3d17-43f1-b501-564f1cf73c7a",
   "metadata": {},
   "outputs": [
    {
     "data": {
      "text/plain": [
       "('780 46th st nort birmingham al 35212',\n",
       " ['StreetNumber',\n",
       "  'StreetName',\n",
       "  'StreetName',\n",
       "  'StreetName',\n",
       "  'Municipality',\n",
       "  'Province',\n",
       "  'PostalCode'])"
      ]
     },
     "execution_count": 6,
     "metadata": {},
     "output_type": "execute_result"
    }
   ],
   "source": [
    "us_test_data[0]"
   ]
  },
  {
   "cell_type": "code",
   "execution_count": 7,
   "id": "aef65b82-c0b2-4f97-a646-e58ea70e6acd",
   "metadata": {},
   "outputs": [],
   "source": [
    "def my_tokenize(x):\n",
    "    address_str, labels = x\n",
    "    token_dict = {l:[] for l in labels}\n",
    "\n",
    "    address_list = address_str.split(' ')\n",
    "    for ai, li in zip(address_list, labels):\n",
    "        token_dict[li].append(ai)\n",
    "    return token_dict"
   ]
  },
  {
   "cell_type": "code",
   "execution_count": 8,
   "id": "4c41fa87-5b87-441c-95a3-2160f2160b83",
   "metadata": {},
   "outputs": [
    {
     "name": "stdout",
     "output_type": "stream",
     "text": [
      "CPU times: user 47.3 s, sys: 4.22 s, total: 51.5 s\n",
      "Wall time: 51.5 s\n"
     ]
    }
   ],
   "source": [
    "%%time\n",
    "\n",
    "address_list = list(map(my_tokenize, us_test_data))"
   ]
  },
  {
   "cell_type": "code",
   "execution_count": 9,
   "id": "d487f5ee-c96d-42ec-a41e-c45db8bdc91a",
   "metadata": {},
   "outputs": [
    {
     "data": {
      "text/plain": [
       "7999999"
      ]
     },
     "execution_count": 9,
     "metadata": {},
     "output_type": "execute_result"
    }
   ],
   "source": [
    "len(address_list)"
   ]
  },
  {
   "cell_type": "code",
   "execution_count": 10,
   "id": "9eb4721d-ee9c-495e-aa3c-6ba56536d2d9",
   "metadata": {},
   "outputs": [
    {
     "data": {
      "text/plain": [
       "{'StreetNumber': ['780'],\n",
       " 'StreetName': ['46th', 'st', 'nort'],\n",
       " 'Municipality': ['birmingham'],\n",
       " 'Province': ['al'],\n",
       " 'PostalCode': ['35212']}"
      ]
     },
     "execution_count": 10,
     "metadata": {},
     "output_type": "execute_result"
    }
   ],
   "source": [
    "address_list[0]"
   ]
  },
  {
   "cell_type": "code",
   "execution_count": 11,
   "id": "49cbc0fe-eefe-4bdc-a4dc-f559ddea82a1",
   "metadata": {},
   "outputs": [
    {
     "name": "stdout",
     "output_type": "stream",
     "text": [
      "CPU times: user 16.6 s, sys: 1.52 s, total: 18.1 s\n",
      "Wall time: 18.1 s\n"
     ]
    },
    {
     "data": {
      "text/html": [
       "<div>\n",
       "<style scoped>\n",
       "    .dataframe tbody tr th:only-of-type {\n",
       "        vertical-align: middle;\n",
       "    }\n",
       "\n",
       "    .dataframe tbody tr th {\n",
       "        vertical-align: top;\n",
       "    }\n",
       "\n",
       "    .dataframe thead th {\n",
       "        text-align: right;\n",
       "    }\n",
       "</style>\n",
       "<table border=\"1\" class=\"dataframe\">\n",
       "  <thead>\n",
       "    <tr style=\"text-align: right;\">\n",
       "      <th></th>\n",
       "      <th>StreetNumber</th>\n",
       "      <th>StreetName</th>\n",
       "      <th>Municipality</th>\n",
       "      <th>Province</th>\n",
       "      <th>PostalCode</th>\n",
       "      <th>Unit</th>\n",
       "    </tr>\n",
       "  </thead>\n",
       "  <tbody>\n",
       "    <tr>\n",
       "      <th>0</th>\n",
       "      <td>780</td>\n",
       "      <td>46th st nort</td>\n",
       "      <td>birmingham</td>\n",
       "      <td>al</td>\n",
       "      <td>35212</td>\n",
       "      <td></td>\n",
       "    </tr>\n",
       "    <tr>\n",
       "      <th>1</th>\n",
       "      <td>106</td>\n",
       "      <td>saranac dr</td>\n",
       "      <td>missoula</td>\n",
       "      <td>mt</td>\n",
       "      <td>59803</td>\n",
       "      <td></td>\n",
       "    </tr>\n",
       "    <tr>\n",
       "      <th>2</th>\n",
       "      <td>4140</td>\n",
       "      <td>edgemere ct</td>\n",
       "      <td>indianapolis</td>\n",
       "      <td>in</td>\n",
       "      <td>46205</td>\n",
       "      <td></td>\n",
       "    </tr>\n",
       "    <tr>\n",
       "      <th>3</th>\n",
       "      <td>1616</td>\n",
       "      <td>nw 4th st</td>\n",
       "      <td>boca raton</td>\n",
       "      <td>fl</td>\n",
       "      <td>33486</td>\n",
       "      <td></td>\n",
       "    </tr>\n",
       "    <tr>\n",
       "      <th>4</th>\n",
       "      <td>n87w 36989</td>\n",
       "      <td>mapleton road</td>\n",
       "      <td>oconomowoc</td>\n",
       "      <td>wi</td>\n",
       "      <td>53066</td>\n",
       "      <td></td>\n",
       "    </tr>\n",
       "    <tr>\n",
       "      <th>...</th>\n",
       "      <td>...</td>\n",
       "      <td>...</td>\n",
       "      <td>...</td>\n",
       "      <td>...</td>\n",
       "      <td>...</td>\n",
       "      <td>...</td>\n",
       "    </tr>\n",
       "    <tr>\n",
       "      <th>7999994</th>\n",
       "      <td>6160</td>\n",
       "      <td>gln oak st</td>\n",
       "      <td>los angeles</td>\n",
       "      <td>ca</td>\n",
       "      <td>90068</td>\n",
       "      <td></td>\n",
       "    </tr>\n",
       "    <tr>\n",
       "      <th>7999995</th>\n",
       "      <td>7128</td>\n",
       "      <td>marbella ct</td>\n",
       "      <td>cape canaveral</td>\n",
       "      <td>fl</td>\n",
       "      <td>32920</td>\n",
       "      <td></td>\n",
       "    </tr>\n",
       "    <tr>\n",
       "      <th>7999996</th>\n",
       "      <td>215</td>\n",
       "      <td>spring st</td>\n",
       "      <td>martinsville</td>\n",
       "      <td>virginia</td>\n",
       "      <td>24112</td>\n",
       "      <td></td>\n",
       "    </tr>\n",
       "    <tr>\n",
       "      <th>7999997</th>\n",
       "      <td>77</td>\n",
       "      <td>centennial avenue</td>\n",
       "      <td>gloucester</td>\n",
       "      <td>ma</td>\n",
       "      <td>01930</td>\n",
       "      <td></td>\n",
       "    </tr>\n",
       "    <tr>\n",
       "      <th>7999998</th>\n",
       "      <td>15418</td>\n",
       "      <td>elm st</td>\n",
       "      <td>so holland</td>\n",
       "      <td>il</td>\n",
       "      <td>60473</td>\n",
       "      <td></td>\n",
       "    </tr>\n",
       "  </tbody>\n",
       "</table>\n",
       "<p>7999999 rows × 6 columns</p>\n",
       "</div>"
      ],
      "text/plain": [
       "        StreetNumber         StreetName    Municipality  Province PostalCode  \\\n",
       "0                780       46th st nort      birmingham        al      35212   \n",
       "1                106         saranac dr        missoula        mt      59803   \n",
       "2               4140        edgemere ct    indianapolis        in      46205   \n",
       "3               1616          nw 4th st      boca raton        fl      33486   \n",
       "4         n87w 36989      mapleton road      oconomowoc        wi      53066   \n",
       "...              ...                ...             ...       ...        ...   \n",
       "7999994         6160         gln oak st     los angeles        ca      90068   \n",
       "7999995         7128        marbella ct  cape canaveral        fl      32920   \n",
       "7999996          215          spring st    martinsville  virginia      24112   \n",
       "7999997           77  centennial avenue      gloucester        ma      01930   \n",
       "7999998        15418             elm st      so holland        il      60473   \n",
       "\n",
       "        Unit  \n",
       "0             \n",
       "1             \n",
       "2             \n",
       "3             \n",
       "4             \n",
       "...      ...  \n",
       "7999994       \n",
       "7999995       \n",
       "7999996       \n",
       "7999997       \n",
       "7999998       \n",
       "\n",
       "[7999999 rows x 6 columns]"
      ]
     },
     "execution_count": 11,
     "metadata": {},
     "output_type": "execute_result"
    }
   ],
   "source": [
    "%%time\n",
    "\n",
    "df_address = pd.DataFrame([{k: ' '.join(v) for k, v in address.items()} for address in address_list]).fillna('')\n",
    "df_address"
   ]
  },
  {
   "cell_type": "code",
   "execution_count": 12,
   "id": "1a0aacbb-9010-4644-9d7b-3c5cb5260f64",
   "metadata": {},
   "outputs": [],
   "source": [
    "df_address.to_csv('deepparse_address_data_usa.csv.bz2')"
   ]
  },
  {
   "cell_type": "code",
   "execution_count": 13,
   "id": "94af9232-3a80-4b9c-8069-d069c54d4eea",
   "metadata": {},
   "outputs": [],
   "source": [
    "! diff deepparse_address_data_usa.csv.bz2 /home/j/Project/simulation_science/prl/data/deepparse_address_data_usa.csv.bz2"
   ]
  },
  {
   "cell_type": "code",
   "execution_count": 14,
   "id": "f49881bc-7570-433a-97a7-a532c77a532a",
   "metadata": {},
   "outputs": [],
   "source": [
    "# ! mv deepparse_address_data_usa.csv.bz2 /home/j/Project/simulation_science/prl/data/deepparse_address_data_usa.csv.bz2\n",
    "! rm deepparse_address_data_usa.csv.bz2"
   ]
  }
 ],
 "metadata": {
  "kernelspec": {
   "display_name": "Python 3 (ipykernel)",
   "language": "python",
   "name": "python3"
  },
  "language_info": {
   "codemirror_mode": {
    "name": "ipython",
    "version": 3
   },
   "file_extension": ".py",
   "mimetype": "text/x-python",
   "name": "python",
   "nbconvert_exporter": "python",
   "pygments_lexer": "ipython3",
   "version": "3.7.15"
  }
 },
 "nbformat": 4,
 "nbformat_minor": 5
}
