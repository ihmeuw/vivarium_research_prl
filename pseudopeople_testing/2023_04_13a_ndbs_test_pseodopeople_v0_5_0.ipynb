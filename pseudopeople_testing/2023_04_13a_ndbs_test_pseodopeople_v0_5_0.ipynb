{
 "cells": [
  {
   "cell_type": "code",
   "execution_count": 1,
   "id": "a6f126bb",
   "metadata": {},
   "outputs": [
    {
     "name": "stdout",
     "output_type": "stream",
     "text": [
      "Thu 13 Apr 2023 05:23:44 PM PDT\n",
      "ndbs\n",
      "Linux gen-slurm-sarchive-p0016 5.4.0-135-generic #152-Ubuntu SMP Wed Nov 23 20:19:22 UTC 2022 x86_64 x86_64 x86_64 GNU/Linux\n",
      "/mnt/share/code/ndbs/vivarium_research_prl/pseudopeople_testing\n"
     ]
    }
   ],
   "source": [
    "import numpy as np, matplotlib.pyplot as plt, pandas as pd\n",
    "pd.set_option('display.max_rows', 50)\n",
    "\n",
    "import os\n",
    "# Use this to see how much memory the dataframes use\n",
    "from sys import getsizeof\n",
    "\n",
    "import yaml\n",
    "\n",
    "import pseudopeople as pp\n",
    "from pseudopeople.configuration import get_configuration\n",
    "from vivarium.framework.randomness import RandomnessStream\n",
    "from vivarium.config_tree import ConfigTree\n",
    "\n",
    "from vivarium_research_prl.utils import sizemb, MappingViaAttributes\n",
    "from vivarium_research_prl import datatypes\n",
    "from vivarium_research_prl.noise import corruption, fake_names, noisify\n",
    "from vivarium_research_prl.find_kids import datasets, noisify_data\n",
    "\n",
    "!date\n",
    "!whoami\n",
    "!uname -a\n",
    "!pwd"
   ]
  },
  {
   "cell_type": "code",
   "execution_count": 2,
   "id": "24fc34a7",
   "metadata": {},
   "outputs": [
    {
     "data": {
      "text/plain": [
       "dict_keys(['decennial_census', 'american_communities_survey', 'current_population_survey', 'women_infants_and_children', 'social_security', 'taxes_w2_and_1099'])"
      ]
     },
     "execution_count": 2,
     "metadata": {},
     "output_type": "execute_result"
    }
   ],
   "source": [
    "config = get_configuration()\n",
    "config.keys()"
   ]
  },
  {
   "cell_type": "code",
   "execution_count": 4,
   "id": "dc77d538",
   "metadata": {},
   "outputs": [
    {
     "data": {
      "text/plain": [
       "{'decennial_census': probability:\n",
       "     default: 0.0145\n",
       "         source: None\n",
       "     baseline: 0.0\n",
       "         source: None,\n",
       " 'american_communities_survey': probability:\n",
       "     default: 0.0145\n",
       "         source: None\n",
       "     baseline: 0.0\n",
       "         source: None,\n",
       " 'current_population_survey': probability:\n",
       "     default: 0.2905\n",
       "         source: None\n",
       "     baseline: 0.0\n",
       "         source: None,\n",
       " 'women_infants_and_children': probability:\n",
       "     baseline: 0.0\n",
       "         source: None,\n",
       " 'social_security': probability:\n",
       "     baseline: 0.0\n",
       "         source: None,\n",
       " 'taxes_w2_and_1099': probability:\n",
       "     baseline: 0.0\n",
       "         source: None}"
      ]
     },
     "execution_count": 4,
     "metadata": {},
     "output_type": "execute_result"
    }
   ],
   "source": [
    "{k: v['row_noise']['omission'] for k, v in config.items()}"
   ]
  },
  {
   "cell_type": "code",
   "execution_count": 7,
   "id": "76555573",
   "metadata": {},
   "outputs": [
    {
     "data": {
      "text/plain": [
       "missing_data:\n",
       "    row_noise_level:\n",
       "        baseline: 0.01\n",
       "            source: None\n",
       "numeric_miswriting:\n",
       "    row_noise_level:\n",
       "        baseline: 0.01\n",
       "            source: None\n",
       "    token_noise_level:\n",
       "        baseline: 0.1\n",
       "            source: None\n",
       "typographic:\n",
       "    row_noise_level:\n",
       "        baseline: 0.01\n",
       "            source: None\n",
       "    token_noise_level:\n",
       "        baseline: 0.1\n",
       "            source: None\n",
       "    include_original_token_level:\n",
       "        baseline: 0.1\n",
       "            source: None"
      ]
     },
     "execution_count": 7,
     "metadata": {},
     "output_type": "execute_result"
    }
   ],
   "source": [
    "config.social_security.column_noise.ssn"
   ]
  },
  {
   "cell_type": "code",
   "execution_count": null,
   "id": "f91e6b8f",
   "metadata": {},
   "outputs": [],
   "source": []
  }
 ],
 "metadata": {
  "kernelspec": {
   "display_name": "Python 3 (ipykernel)",
   "language": "python",
   "name": "python3"
  },
  "language_info": {
   "codemirror_mode": {
    "name": "ipython",
    "version": 3
   },
   "file_extension": ".py",
   "mimetype": "text/x-python",
   "name": "python",
   "nbconvert_exporter": "python",
   "pygments_lexer": "ipython3",
   "version": "3.8.13"
  }
 },
 "nbformat": 4,
 "nbformat_minor": 5
}
