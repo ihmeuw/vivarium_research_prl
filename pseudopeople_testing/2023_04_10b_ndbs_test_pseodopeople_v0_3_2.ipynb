{
 "cells": [
  {
   "cell_type": "code",
   "execution_count": 1,
   "id": "b8db5e6e",
   "metadata": {},
   "outputs": [
    {
     "name": "stdout",
     "output_type": "stream",
     "text": [
      "Mon 10 Apr 2023 04:51:39 PM PDT\n",
      "ndbs\n",
      "Linux gen-slurm-sarchive-p0154 5.4.0-135-generic #152-Ubuntu SMP Wed Nov 23 20:19:22 UTC 2022 x86_64 x86_64 x86_64 GNU/Linux\n",
      "/mnt/share/code/ndbs/vivarium_research_prl/pseudopeople_testing\n"
     ]
    }
   ],
   "source": [
    "import numpy as np, matplotlib.pyplot as plt, pandas as pd\n",
    "pd.set_option('display.max_rows', 50)\n",
    "\n",
    "import os\n",
    "# Use this to see how much memory the dataframes use\n",
    "from sys import getsizeof\n",
    "\n",
    "import yaml\n",
    "\n",
    "import pseudopeople as pp\n",
    "from pseudopeople.utilities import get_configuration\n",
    "from vivarium.framework.randomness import RandomnessStream\n",
    "from vivarium.config_tree import ConfigTree\n",
    "\n",
    "from vivarium_research_prl.utils import sizemb, MappingViaAttributes\n",
    "from vivarium_research_prl import datatypes\n",
    "from vivarium_research_prl.noise import corruption, fake_names, noisify\n",
    "from vivarium_research_prl.find_kids import datasets, noisify_data\n",
    "\n",
    "!date\n",
    "!whoami\n",
    "!uname -a\n",
    "!pwd"
   ]
  },
  {
   "cell_type": "code",
   "execution_count": null,
   "id": "4f35ae9b",
   "metadata": {},
   "outputs": [],
   "source": []
  },
  {
   "cell_type": "code",
   "execution_count": 3,
   "id": "b50ddab8",
   "metadata": {},
   "outputs": [
    {
     "ename": "TypeError",
     "evalue": "generate_decennial_census() missing 1 required positional argument: 'source'",
     "output_type": "error",
     "traceback": [
      "\u001b[0;31m---------------------------------------------------------------------------\u001b[0m",
      "\u001b[0;31mTypeError\u001b[0m                                 Traceback (most recent call last)",
      "Cell \u001b[0;32mIn [3], line 1\u001b[0m\n\u001b[0;32m----> 1\u001b[0m df_census_noisy \u001b[38;5;241m=\u001b[39m \u001b[43mpp\u001b[49m\u001b[38;5;241;43m.\u001b[39;49m\u001b[43mgenerate_decennial_census\u001b[49m\u001b[43m(\u001b[49m\u001b[43m)\u001b[49m\n\u001b[1;32m      2\u001b[0m df_census_noisy\n",
      "\u001b[0;31mTypeError\u001b[0m: generate_decennial_census() missing 1 required positional argument: 'source'"
     ]
    }
   ],
   "source": [
    "df_census_noisy = pp.generate_decennial_census()\n",
    "df_census_noisy"
   ]
  },
  {
   "cell_type": "code",
   "execution_count": 6,
   "id": "0fc9596d",
   "metadata": {},
   "outputs": [
    {
     "name": "stdout",
     "output_type": "stream",
     "text": [
      "total 96K\r\n",
      "drwxrwsr-x  3 rmudambi IHME-Simulationscience  512 Apr  9 18:48 states\r\n",
      "drwxrwsr-x  5 rmudambi IHME-Simulationscience 1.5K Apr  9 18:48 .\r\n",
      "drwxrwsr-x 10 rmudambi IHME-Simulationscience 4.0K Apr  9 15:41 usa\r\n",
      "drwxrwsr-x  4 rmudambi IHME-Simulationscience 2.0K Apr  9 15:21 ..\r\n",
      "drwxrwsr-x  2 rmudambi IHME-Simulationscience 336K Apr  9 12:05 logs\r\n"
     ]
    }
   ],
   "source": [
    "project_dir = '/mnt/team/simulation_science/priv/engineering/vivarium_census_prl_synth_pop'\n",
    "model_dir = (\n",
    "    f'{project_dir}/results'\n",
    "    '/v2.0_three_censuses/united_states_of_america/2023_04_08_14_07_04'\n",
    ")\n",
    "parquet_dir = f'{model_dir}/final_results/parquet'\n",
    "rhode_island_dir = f'{parquet_dir}/states/rhode_island'\n",
    "usa_dir = f'{parquet_dir}/usa'\n",
    "\n",
    "!ls -halt $parquet_dir"
   ]
  },
  {
   "cell_type": "code",
   "execution_count": 7,
   "id": "b4326145",
   "metadata": {},
   "outputs": [
    {
     "name": "stdout",
     "output_type": "stream",
     "text": [
      "total 12K\r\n",
      "drwxrwsr-x 9 rmudambi IHME-Simulationscience 3.5K Apr 10 11:10 rhode_island\r\n",
      "drwxrwsr-x 3 rmudambi IHME-Simulationscience  512 Apr  9 18:48 .\r\n",
      "drwxrwsr-x 5 rmudambi IHME-Simulationscience 1.5K Apr  9 18:48 ..\r\n"
     ]
    }
   ],
   "source": [
    "!ls -halt $parquet_dir/states"
   ]
  },
  {
   "cell_type": "code",
   "execution_count": 8,
   "id": "70c83139",
   "metadata": {},
   "outputs": [
    {
     "data": {
      "text/plain": [
       "167.0"
      ]
     },
     "execution_count": 8,
     "metadata": {},
     "output_type": "execute_result"
    }
   ],
   "source": [
    "334/2"
   ]
  },
  {
   "cell_type": "code",
   "execution_count": 9,
   "id": "0b5845aa",
   "metadata": {},
   "outputs": [
    {
     "data": {
      "text/plain": [
       "217.1"
      ]
     },
     "execution_count": 9,
     "metadata": {},
     "output_type": "execute_result"
    }
   ],
   "source": [
    "334/2 * 1.3"
   ]
  },
  {
   "cell_type": "code",
   "execution_count": null,
   "id": "97264d39",
   "metadata": {},
   "outputs": [],
   "source": []
  }
 ],
 "metadata": {
  "kernelspec": {
   "display_name": "Python 3 (ipykernel)",
   "language": "python",
   "name": "python3"
  },
  "language_info": {
   "codemirror_mode": {
    "name": "ipython",
    "version": 3
   },
   "file_extension": ".py",
   "mimetype": "text/x-python",
   "name": "python",
   "nbconvert_exporter": "python",
   "pygments_lexer": "ipython3",
   "version": "3.8.13"
  }
 },
 "nbformat": 4,
 "nbformat_minor": 5
}
