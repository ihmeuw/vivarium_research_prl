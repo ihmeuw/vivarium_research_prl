{
 "cells": [
  {
   "cell_type": "code",
   "execution_count": 1,
   "id": "b430efca",
   "metadata": {},
   "outputs": [
    {
     "name": "stdout",
     "output_type": "stream",
     "text": [
      "Wed 03 May 2023 03:47:25 PM PDT\n",
      "ndbs\n",
      "Linux int-slurm-sarchive-p0002 5.4.0-144-generic #161-Ubuntu SMP Fri Feb 3 14:49:04 UTC 2023 x86_64 x86_64 x86_64 GNU/Linux\n",
      "/mnt/share/code/ndbs/vivarium_research_prl/pseudopeople_testing\n"
     ]
    }
   ],
   "source": [
    "import numpy as np, matplotlib.pyplot as plt, pandas as pd\n",
    "pd.set_option('display.max_rows', 50)\n",
    "\n",
    "import os\n",
    "# Use this to see how much memory the dataframes use\n",
    "from sys import getsizeof\n",
    "\n",
    "import yaml\n",
    "import re\n",
    "\n",
    "import pseudopeople as psp\n",
    "from pseudopeople.configuration import get_configuration\n",
    "from vivarium.framework.randomness import RandomnessStream\n",
    "from vivarium.config_tree import ConfigTree\n",
    "\n",
    "from vivarium_research_prl.utils import sizemb, MappingViaAttributes\n",
    "from vivarium_research_prl import datatypes, alpha, data_loading\n",
    "from vivarium_research_prl.noise import corruption, fake_names, noisify\n",
    "from vivarium_research_prl.find_kids import datasets, noisify_data\n",
    "\n",
    "\n",
    "!date\n",
    "!whoami\n",
    "!uname -a\n",
    "!pwd"
   ]
  },
  {
   "cell_type": "code",
   "execution_count": null,
   "id": "a422ae5c",
   "metadata": {},
   "outputs": [],
   "source": []
  },
  {
   "cell_type": "code",
   "execution_count": 2,
   "id": "4d32c45b",
   "metadata": {},
   "outputs": [],
   "source": [
    "%load_ext autoreload\n",
    "%autoreload 2"
   ]
  },
  {
   "cell_type": "markdown",
   "id": "0ffacf91",
   "metadata": {},
   "source": [
    "# Test functions for zero noise configuration"
   ]
  },
  {
   "cell_type": "code",
   "execution_count": 3,
   "id": "ea7d8b39",
   "metadata": {},
   "outputs": [
    {
     "data": {
      "text/plain": [
       "dict_keys(['decennial_census', 'american_community_survey', 'current_population_survey', 'women_infants_and_children', 'social_security', 'taxes_w2_and_1099'])"
      ]
     },
     "execution_count": 3,
     "metadata": {},
     "output_type": "execute_result"
    }
   ],
   "source": [
    "config = psp.get_config()\n",
    "config.keys()"
   ]
  },
  {
   "cell_type": "code",
   "execution_count": 5,
   "id": "a04454a5",
   "metadata": {},
   "outputs": [
    {
     "data": {
      "text/plain": [
       "{'decennial_census': {'row_noise': {'omit_row': {'row_probability': 0}},\n",
       "  'column_noise': {'first_name': {'leave_blank': {'cell_probability': 0},\n",
       "    'use_fake_name': {'cell_probability': 0},\n",
       "    'make_typos': {'cell_probability': 0, 'token_probability': 0.1}},\n",
       "   'middle_initial': {'leave_blank': {'cell_probability': 0},\n",
       "    'make_typos': {'cell_probability': 0, 'token_probability': 0.1}},\n",
       "   'last_name': {'leave_blank': {'cell_probability': 0},\n",
       "    'use_fake_name': {'cell_probability': 0},\n",
       "    'make_typos': {'cell_probability': 0, 'token_probability': 0.1}},\n",
       "   'age': {'leave_blank': {'cell_probability': 0},\n",
       "    'misreport_age': {'cell_probability': 0,\n",
       "     'possible_age_differences': {-2: 0.1, -1: 0.4, 1: 0.4, 2: 0.1}},\n",
       "    'make_typos': {'cell_probability': 0, 'token_probability': 0.1}},\n",
       "   'date_of_birth': {'leave_blank': {'cell_probability': 0},\n",
       "    'write_wrong_digits': {'cell_probability': 0, 'token_probability': 0.1},\n",
       "    'make_typos': {'cell_probability': 0, 'token_probability': 0.1}},\n",
       "   'street_number': {'leave_blank': {'cell_probability': 0},\n",
       "    'write_wrong_digits': {'cell_probability': 0, 'token_probability': 0.1},\n",
       "    'make_typos': {'cell_probability': 0, 'token_probability': 0.1}},\n",
       "   'street_name': {'leave_blank': {'cell_probability': 0},\n",
       "    'make_typos': {'cell_probability': 0, 'token_probability': 0.1}},\n",
       "   'unit_number': {'leave_blank': {'cell_probability': 0},\n",
       "    'write_wrong_digits': {'cell_probability': 0, 'token_probability': 0.1},\n",
       "    'make_typos': {'cell_probability': 0, 'token_probability': 0.1}},\n",
       "   'city': {'leave_blank': {'cell_probability': 0},\n",
       "    'make_typos': {'cell_probability': 0, 'token_probability': 0.1}},\n",
       "   'state': {'leave_blank': {'cell_probability': 0},\n",
       "    'choose_wrong_option': {'cell_probability': 0}},\n",
       "   'zipcode': {'leave_blank': {'cell_probability': 0},\n",
       "    'write_wrong_zipcode_digits': {'cell_probability': 0,\n",
       "     'digit_probabilities': [0.04, 0.04, 0.2, 0.36, 0.36]},\n",
       "    'make_typos': {'cell_probability': 0, 'token_probability': 0.1}},\n",
       "   'relation_to_reference_person': {'leave_blank': {'cell_probability': 0},\n",
       "    'choose_wrong_option': {'cell_probability': 0}},\n",
       "   'sex': {'leave_blank': {'cell_probability': 0},\n",
       "    'choose_wrong_option': {'cell_probability': 0}},\n",
       "   'race_ethnicity': {'leave_blank': {'cell_probability': 0},\n",
       "    'choose_wrong_option': {'cell_probability': 0}}}},\n",
       " 'american_community_survey': {'row_noise': {'omit_row': {'row_probability': 0}},\n",
       "  'column_noise': {'first_name': {'leave_blank': {'cell_probability': 0},\n",
       "    'use_fake_name': {'cell_probability': 0},\n",
       "    'make_typos': {'cell_probability': 0, 'token_probability': 0.1}},\n",
       "   'middle_initial': {'leave_blank': {'cell_probability': 0},\n",
       "    'make_typos': {'cell_probability': 0, 'token_probability': 0.1}},\n",
       "   'last_name': {'leave_blank': {'cell_probability': 0},\n",
       "    'use_fake_name': {'cell_probability': 0},\n",
       "    'make_typos': {'cell_probability': 0, 'token_probability': 0.1}},\n",
       "   'age': {'leave_blank': {'cell_probability': 0},\n",
       "    'misreport_age': {'cell_probability': 0,\n",
       "     'possible_age_differences': {-2: 0.1, -1: 0.4, 1: 0.4, 2: 0.1}},\n",
       "    'make_typos': {'cell_probability': 0, 'token_probability': 0.1}},\n",
       "   'date_of_birth': {'leave_blank': {'cell_probability': 0},\n",
       "    'write_wrong_digits': {'cell_probability': 0, 'token_probability': 0.1},\n",
       "    'make_typos': {'cell_probability': 0, 'token_probability': 0.1}},\n",
       "   'street_number': {'leave_blank': {'cell_probability': 0},\n",
       "    'write_wrong_digits': {'cell_probability': 0, 'token_probability': 0.1},\n",
       "    'make_typos': {'cell_probability': 0, 'token_probability': 0.1}},\n",
       "   'street_name': {'leave_blank': {'cell_probability': 0},\n",
       "    'make_typos': {'cell_probability': 0, 'token_probability': 0.1}},\n",
       "   'unit_number': {'leave_blank': {'cell_probability': 0},\n",
       "    'write_wrong_digits': {'cell_probability': 0, 'token_probability': 0.1},\n",
       "    'make_typos': {'cell_probability': 0, 'token_probability': 0.1}},\n",
       "   'city': {'leave_blank': {'cell_probability': 0},\n",
       "    'make_typos': {'cell_probability': 0, 'token_probability': 0.1}},\n",
       "   'state': {'leave_blank': {'cell_probability': 0},\n",
       "    'choose_wrong_option': {'cell_probability': 0}},\n",
       "   'zipcode': {'leave_blank': {'cell_probability': 0},\n",
       "    'write_wrong_zipcode_digits': {'cell_probability': 0,\n",
       "     'digit_probabilities': [0.04, 0.04, 0.2, 0.36, 0.36]},\n",
       "    'make_typos': {'cell_probability': 0, 'token_probability': 0.1}},\n",
       "   'sex': {'leave_blank': {'cell_probability': 0},\n",
       "    'choose_wrong_option': {'cell_probability': 0}},\n",
       "   'race_ethnicity': {'leave_blank': {'cell_probability': 0},\n",
       "    'choose_wrong_option': {'cell_probability': 0}}}},\n",
       " 'current_population_survey': {'row_noise': {'omit_row': {'row_probability': 0}},\n",
       "  'column_noise': {'first_name': {'leave_blank': {'cell_probability': 0},\n",
       "    'use_fake_name': {'cell_probability': 0},\n",
       "    'make_typos': {'cell_probability': 0, 'token_probability': 0.1}},\n",
       "   'middle_initial': {'leave_blank': {'cell_probability': 0},\n",
       "    'make_typos': {'cell_probability': 0, 'token_probability': 0.1}},\n",
       "   'last_name': {'leave_blank': {'cell_probability': 0},\n",
       "    'use_fake_name': {'cell_probability': 0},\n",
       "    'make_typos': {'cell_probability': 0, 'token_probability': 0.1}},\n",
       "   'age': {'leave_blank': {'cell_probability': 0},\n",
       "    'misreport_age': {'cell_probability': 0,\n",
       "     'possible_age_differences': {-2: 0.1, -1: 0.4, 1: 0.4, 2: 0.1}},\n",
       "    'make_typos': {'cell_probability': 0, 'token_probability': 0.1}},\n",
       "   'date_of_birth': {'leave_blank': {'cell_probability': 0},\n",
       "    'write_wrong_digits': {'cell_probability': 0, 'token_probability': 0.1},\n",
       "    'make_typos': {'cell_probability': 0, 'token_probability': 0.1}},\n",
       "   'street_number': {'leave_blank': {'cell_probability': 0},\n",
       "    'write_wrong_digits': {'cell_probability': 0, 'token_probability': 0.1},\n",
       "    'make_typos': {'cell_probability': 0, 'token_probability': 0.1}},\n",
       "   'street_name': {'leave_blank': {'cell_probability': 0},\n",
       "    'make_typos': {'cell_probability': 0, 'token_probability': 0.1}},\n",
       "   'unit_number': {'leave_blank': {'cell_probability': 0},\n",
       "    'write_wrong_digits': {'cell_probability': 0, 'token_probability': 0.1},\n",
       "    'make_typos': {'cell_probability': 0, 'token_probability': 0.1}},\n",
       "   'city': {'leave_blank': {'cell_probability': 0},\n",
       "    'make_typos': {'cell_probability': 0, 'token_probability': 0.1}},\n",
       "   'state': {'leave_blank': {'cell_probability': 0},\n",
       "    'choose_wrong_option': {'cell_probability': 0}},\n",
       "   'zipcode': {'leave_blank': {'cell_probability': 0},\n",
       "    'write_wrong_zipcode_digits': {'cell_probability': 0,\n",
       "     'digit_probabilities': [0.04, 0.04, 0.2, 0.36, 0.36]},\n",
       "    'make_typos': {'cell_probability': 0, 'token_probability': 0.1}},\n",
       "   'sex': {'leave_blank': {'cell_probability': 0},\n",
       "    'choose_wrong_option': {'cell_probability': 0}},\n",
       "   'race_ethnicity': {'leave_blank': {'cell_probability': 0},\n",
       "    'choose_wrong_option': {'cell_probability': 0}}}},\n",
       " 'women_infants_and_children': {'row_noise': {'omit_row': {'row_probability': 0}},\n",
       "  'column_noise': {'first_name': {'leave_blank': {'cell_probability': 0},\n",
       "    'use_fake_name': {'cell_probability': 0},\n",
       "    'make_typos': {'cell_probability': 0, 'token_probability': 0.1}},\n",
       "   'middle_initial': {'leave_blank': {'cell_probability': 0},\n",
       "    'make_typos': {'cell_probability': 0, 'token_probability': 0.1}},\n",
       "   'last_name': {'leave_blank': {'cell_probability': 0},\n",
       "    'use_fake_name': {'cell_probability': 0},\n",
       "    'make_typos': {'cell_probability': 0, 'token_probability': 0.1}},\n",
       "   'date_of_birth': {'leave_blank': {'cell_probability': 0},\n",
       "    'write_wrong_digits': {'cell_probability': 0, 'token_probability': 0.1},\n",
       "    'make_typos': {'cell_probability': 0, 'token_probability': 0.1}},\n",
       "   'street_number': {'leave_blank': {'cell_probability': 0},\n",
       "    'write_wrong_digits': {'cell_probability': 0, 'token_probability': 0.1},\n",
       "    'make_typos': {'cell_probability': 0, 'token_probability': 0.1}},\n",
       "   'street_name': {'leave_blank': {'cell_probability': 0},\n",
       "    'make_typos': {'cell_probability': 0, 'token_probability': 0.1}},\n",
       "   'unit_number': {'leave_blank': {'cell_probability': 0},\n",
       "    'write_wrong_digits': {'cell_probability': 0, 'token_probability': 0.1},\n",
       "    'make_typos': {'cell_probability': 0, 'token_probability': 0.1}},\n",
       "   'city': {'leave_blank': {'cell_probability': 0},\n",
       "    'make_typos': {'cell_probability': 0, 'token_probability': 0.1}},\n",
       "   'state': {'leave_blank': {'cell_probability': 0},\n",
       "    'choose_wrong_option': {'cell_probability': 0}},\n",
       "   'zipcode': {'leave_blank': {'cell_probability': 0},\n",
       "    'write_wrong_zipcode_digits': {'cell_probability': 0,\n",
       "     'digit_probabilities': [0.04, 0.04, 0.2, 0.36, 0.36]},\n",
       "    'make_typos': {'cell_probability': 0, 'token_probability': 0.1}},\n",
       "   'sex': {'leave_blank': {'cell_probability': 0},\n",
       "    'choose_wrong_option': {'cell_probability': 0}},\n",
       "   'race_ethnicity': {'leave_blank': {'cell_probability': 0},\n",
       "    'choose_wrong_option': {'cell_probability': 0}}}},\n",
       " 'social_security': {'row_noise': {'omit_row': {'row_probability': 0}},\n",
       "  'column_noise': {'first_name': {'leave_blank': {'cell_probability': 0},\n",
       "    'use_fake_name': {'cell_probability': 0},\n",
       "    'make_typos': {'cell_probability': 0, 'token_probability': 0.1}},\n",
       "   'middle_initial': {'leave_blank': {'cell_probability': 0},\n",
       "    'make_typos': {'cell_probability': 0, 'token_probability': 0.1}},\n",
       "   'last_name': {'leave_blank': {'cell_probability': 0},\n",
       "    'use_fake_name': {'cell_probability': 0},\n",
       "    'make_typos': {'cell_probability': 0, 'token_probability': 0.1}},\n",
       "   'date_of_birth': {'leave_blank': {'cell_probability': 0},\n",
       "    'write_wrong_digits': {'cell_probability': 0, 'token_probability': 0.1},\n",
       "    'make_typos': {'cell_probability': 0, 'token_probability': 0.1}},\n",
       "   'ssn': {'leave_blank': {'cell_probability': 0},\n",
       "    'write_wrong_digits': {'cell_probability': 0, 'token_probability': 0.1},\n",
       "    'make_typos': {'cell_probability': 0, 'token_probability': 0.1}},\n",
       "   'event_type': {'leave_blank': {'cell_probability': 0},\n",
       "    'choose_wrong_option': {'cell_probability': 0}},\n",
       "   'event_date': {'leave_blank': {'cell_probability': 0},\n",
       "    'write_wrong_digits': {'cell_probability': 0, 'token_probability': 0.1},\n",
       "    'make_typos': {'cell_probability': 0, 'token_probability': 0.1}}}},\n",
       " 'taxes_w2_and_1099': {'row_noise': {'omit_row': {'row_probability': 0}},\n",
       "  'column_noise': {'first_name': {'leave_blank': {'cell_probability': 0},\n",
       "    'use_fake_name': {'cell_probability': 0},\n",
       "    'make_typos': {'cell_probability': 0, 'token_probability': 0.1}},\n",
       "   'middle_initial': {'leave_blank': {'cell_probability': 0},\n",
       "    'make_typos': {'cell_probability': 0, 'token_probability': 0.1}},\n",
       "   'last_name': {'leave_blank': {'cell_probability': 0},\n",
       "    'use_fake_name': {'cell_probability': 0},\n",
       "    'make_typos': {'cell_probability': 0, 'token_probability': 0.1}},\n",
       "   'age': {'leave_blank': {'cell_probability': 0},\n",
       "    'misreport_age': {'cell_probability': 0,\n",
       "     'possible_age_differences': {-2: 0.1, -1: 0.4, 1: 0.4, 2: 0.1}},\n",
       "    'make_typos': {'cell_probability': 0, 'token_probability': 0.1}},\n",
       "   'date_of_birth': {'leave_blank': {'cell_probability': 0},\n",
       "    'write_wrong_digits': {'cell_probability': 0, 'token_probability': 0.1},\n",
       "    'make_typos': {'cell_probability': 0, 'token_probability': 0.1}},\n",
       "   'mailing_address_street_number': {'leave_blank': {'cell_probability': 0},\n",
       "    'write_wrong_digits': {'cell_probability': 0, 'token_probability': 0.1},\n",
       "    'make_typos': {'cell_probability': 0, 'token_probability': 0.1}},\n",
       "   'mailing_address_street_name': {'leave_blank': {'cell_probability': 0},\n",
       "    'make_typos': {'cell_probability': 0, 'token_probability': 0.1}},\n",
       "   'mailing_address_unit_number': {'leave_blank': {'cell_probability': 0},\n",
       "    'write_wrong_digits': {'cell_probability': 0, 'token_probability': 0.1},\n",
       "    'make_typos': {'cell_probability': 0, 'token_probability': 0.1}},\n",
       "   'mailing_address_po_box': {'leave_blank': {'cell_probability': 0},\n",
       "    'write_wrong_digits': {'cell_probability': 0, 'token_probability': 0.1},\n",
       "    'make_typos': {'cell_probability': 0, 'token_probability': 0.1}},\n",
       "   'mailing_address_city': {'leave_blank': {'cell_probability': 0},\n",
       "    'make_typos': {'cell_probability': 0, 'token_probability': 0.1}},\n",
       "   'mailing_address_state': {'leave_blank': {'cell_probability': 0},\n",
       "    'choose_wrong_option': {'cell_probability': 0}},\n",
       "   'mailing_address_zipcode': {'leave_blank': {'cell_probability': 0},\n",
       "    'write_wrong_zipcode_digits': {'cell_probability': 0,\n",
       "     'digit_probabilities': [0.04, 0.04, 0.2, 0.36, 0.36]},\n",
       "    'make_typos': {'cell_probability': 0, 'token_probability': 0.1}},\n",
       "   'ssn': {'leave_blank': {'cell_probability': 0},\n",
       "    'write_wrong_digits': {'cell_probability': 0, 'token_probability': 0.1},\n",
       "    'make_typos': {'cell_probability': 0, 'token_probability': 0.1}},\n",
       "   'income': {'leave_blank': {'cell_probability': 0},\n",
       "    'write_wrong_digits': {'cell_probability': 0, 'token_probability': 0.1},\n",
       "    'make_typos': {'cell_probability': 0, 'token_probability': 0.1}},\n",
       "   'employer_id': {'leave_blank': {'cell_probability': 0},\n",
       "    'write_wrong_digits': {'cell_probability': 0, 'token_probability': 0.1},\n",
       "    'make_typos': {'cell_probability': 0, 'token_probability': 0.1}},\n",
       "   'employer_name': {'leave_blank': {'cell_probability': 0},\n",
       "    'make_typos': {'cell_probability': 0, 'token_probability': 0.1}},\n",
       "   'employer_street_number': {'leave_blank': {'cell_probability': 0},\n",
       "    'write_wrong_digits': {'cell_probability': 0, 'token_probability': 0.1},\n",
       "    'make_typos': {'cell_probability': 0, 'token_probability': 0.1}},\n",
       "   'employer_street_name': {'leave_blank': {'cell_probability': 0},\n",
       "    'make_typos': {'cell_probability': 0, 'token_probability': 0.1}},\n",
       "   'employer_unit_number': {'leave_blank': {'cell_probability': 0},\n",
       "    'write_wrong_digits': {'cell_probability': 0, 'token_probability': 0.1},\n",
       "    'make_typos': {'cell_probability': 0, 'token_probability': 0.1}},\n",
       "   'employer_city': {'leave_blank': {'cell_probability': 0},\n",
       "    'make_typos': {'cell_probability': 0, 'token_probability': 0.1}},\n",
       "   'employer_state': {'leave_blank': {'cell_probability': 0},\n",
       "    'choose_wrong_option': {'cell_probability': 0}},\n",
       "   'employer_zipcode': {'leave_blank': {'cell_probability': 0},\n",
       "    'write_wrong_zipcode_digits': {'cell_probability': 0,\n",
       "     'digit_probabilities': [0.04, 0.04, 0.2, 0.36, 0.36]},\n",
       "    'make_typos': {'cell_probability': 0, 'token_probability': 0.1}},\n",
       "   'tax_form': {'leave_blank': {'cell_probability': 0},\n",
       "    'choose_wrong_option': {'cell_probability': 0}}}}}"
      ]
     },
     "execution_count": 5,
     "metadata": {},
     "output_type": "execute_result"
    }
   ],
   "source": [
    "zero_config = alpha.get_zero_noise_config()\n",
    "zero_config"
   ]
  },
  {
   "cell_type": "code",
   "execution_count": 6,
   "id": "992bd25c",
   "metadata": {},
   "outputs": [
    {
     "name": "stderr",
     "output_type": "stream",
     "text": [
      "                                                                                                     \r"
     ]
    },
    {
     "data": {
      "text/html": [
       "<div>\n",
       "<style scoped>\n",
       "    .dataframe tbody tr th:only-of-type {\n",
       "        vertical-align: middle;\n",
       "    }\n",
       "\n",
       "    .dataframe tbody tr th {\n",
       "        vertical-align: top;\n",
       "    }\n",
       "\n",
       "    .dataframe thead th {\n",
       "        text-align: right;\n",
       "    }\n",
       "</style>\n",
       "<table border=\"1\" class=\"dataframe\">\n",
       "  <thead>\n",
       "    <tr style=\"text-align: right;\">\n",
       "      <th></th>\n",
       "      <th>simulant_id</th>\n",
       "      <th>first_name</th>\n",
       "      <th>middle_initial</th>\n",
       "      <th>last_name</th>\n",
       "      <th>age</th>\n",
       "      <th>date_of_birth</th>\n",
       "      <th>street_number</th>\n",
       "      <th>street_name</th>\n",
       "      <th>unit_number</th>\n",
       "      <th>city</th>\n",
       "      <th>state</th>\n",
       "      <th>zipcode</th>\n",
       "      <th>relation_to_reference_person</th>\n",
       "      <th>sex</th>\n",
       "      <th>race_ethnicity</th>\n",
       "    </tr>\n",
       "  </thead>\n",
       "  <tbody>\n",
       "    <tr>\n",
       "      <th>0</th>\n",
       "      <td>0_2</td>\n",
       "      <td>Melanie</td>\n",
       "      <td>L</td>\n",
       "      <td>Herrod</td>\n",
       "      <td>26</td>\n",
       "      <td>08/05/1993</td>\n",
       "      <td>10233</td>\n",
       "      <td>north burgher avenue</td>\n",
       "      <td>NaN</td>\n",
       "      <td>Anytown</td>\n",
       "      <td>US</td>\n",
       "      <td>00000</td>\n",
       "      <td>Reference person</td>\n",
       "      <td>Female</td>\n",
       "      <td>White</td>\n",
       "    </tr>\n",
       "    <tr>\n",
       "      <th>1</th>\n",
       "      <td>0_3</td>\n",
       "      <td>Jordan</td>\n",
       "      <td>C</td>\n",
       "      <td>Herrod</td>\n",
       "      <td>26</td>\n",
       "      <td>12/29/1993</td>\n",
       "      <td>10233</td>\n",
       "      <td>north burgher avenue</td>\n",
       "      <td>NaN</td>\n",
       "      <td>Anytown</td>\n",
       "      <td>US</td>\n",
       "      <td>00000</td>\n",
       "      <td>Other relative</td>\n",
       "      <td>Female</td>\n",
       "      <td>White</td>\n",
       "    </tr>\n",
       "    <tr>\n",
       "      <th>2</th>\n",
       "      <td>0_923</td>\n",
       "      <td>John</td>\n",
       "      <td>E</td>\n",
       "      <td>Mckeever</td>\n",
       "      <td>77</td>\n",
       "      <td>06/29/1942</td>\n",
       "      <td>147-153</td>\n",
       "      <td>browning ave</td>\n",
       "      <td>NaN</td>\n",
       "      <td>Anytown</td>\n",
       "      <td>US</td>\n",
       "      <td>00000</td>\n",
       "      <td>Reference person</td>\n",
       "      <td>Male</td>\n",
       "      <td>Black</td>\n",
       "    </tr>\n",
       "    <tr>\n",
       "      <th>3</th>\n",
       "      <td>0_2641</td>\n",
       "      <td>Sharon</td>\n",
       "      <td>T</td>\n",
       "      <td>Schmidt</td>\n",
       "      <td>59</td>\n",
       "      <td>10/10/1960</td>\n",
       "      <td>107</td>\n",
       "      <td>stallion st</td>\n",
       "      <td>NaN</td>\n",
       "      <td>Anytown</td>\n",
       "      <td>US</td>\n",
       "      <td>00000</td>\n",
       "      <td>Reference person</td>\n",
       "      <td>Female</td>\n",
       "      <td>White</td>\n",
       "    </tr>\n",
       "    <tr>\n",
       "      <th>4</th>\n",
       "      <td>0_2801</td>\n",
       "      <td>Ronnie</td>\n",
       "      <td>A</td>\n",
       "      <td>Arthur</td>\n",
       "      <td>73</td>\n",
       "      <td>12/05/1946</td>\n",
       "      <td>214</td>\n",
       "      <td>s vine lane</td>\n",
       "      <td>NaN</td>\n",
       "      <td>Anytown</td>\n",
       "      <td>US</td>\n",
       "      <td>00000</td>\n",
       "      <td>Reference person</td>\n",
       "      <td>Male</td>\n",
       "      <td>White</td>\n",
       "    </tr>\n",
       "    <tr>\n",
       "      <th>...</th>\n",
       "      <td>...</td>\n",
       "      <td>...</td>\n",
       "      <td>...</td>\n",
       "      <td>...</td>\n",
       "      <td>...</td>\n",
       "      <td>...</td>\n",
       "      <td>...</td>\n",
       "      <td>...</td>\n",
       "      <td>...</td>\n",
       "      <td>...</td>\n",
       "      <td>...</td>\n",
       "      <td>...</td>\n",
       "      <td>...</td>\n",
       "      <td>...</td>\n",
       "      <td>...</td>\n",
       "    </tr>\n",
       "    <tr>\n",
       "      <th>10404</th>\n",
       "      <td>0_19008</td>\n",
       "      <td>James</td>\n",
       "      <td>G</td>\n",
       "      <td>Halsey</td>\n",
       "      <td>56</td>\n",
       "      <td>06/12/1963</td>\n",
       "      <td>1113</td>\n",
       "      <td>times square blvd</td>\n",
       "      <td>NaN</td>\n",
       "      <td>Anytown</td>\n",
       "      <td>US</td>\n",
       "      <td>00000</td>\n",
       "      <td>Reference person</td>\n",
       "      <td>Male</td>\n",
       "      <td>Black</td>\n",
       "    </tr>\n",
       "    <tr>\n",
       "      <th>10405</th>\n",
       "      <td>0_20161</td>\n",
       "      <td>Nannette</td>\n",
       "      <td>D</td>\n",
       "      <td>Hoffman</td>\n",
       "      <td>61</td>\n",
       "      <td>11/09/1958</td>\n",
       "      <td>4123</td>\n",
       "      <td>nw 13th ave</td>\n",
       "      <td>no 207r</td>\n",
       "      <td>Anytown</td>\n",
       "      <td>US</td>\n",
       "      <td>00000</td>\n",
       "      <td>Reference person</td>\n",
       "      <td>Female</td>\n",
       "      <td>White</td>\n",
       "    </tr>\n",
       "    <tr>\n",
       "      <th>10406</th>\n",
       "      <td>0_20162</td>\n",
       "      <td>Cynthia</td>\n",
       "      <td>L</td>\n",
       "      <td>Hoffman</td>\n",
       "      <td>65</td>\n",
       "      <td>01/20/1955</td>\n",
       "      <td>4123</td>\n",
       "      <td>nw 13th ave</td>\n",
       "      <td>no 207r</td>\n",
       "      <td>Anytown</td>\n",
       "      <td>US</td>\n",
       "      <td>00000</td>\n",
       "      <td>Same-sex spouse</td>\n",
       "      <td>Female</td>\n",
       "      <td>White</td>\n",
       "    </tr>\n",
       "    <tr>\n",
       "      <th>10407</th>\n",
       "      <td>0_19669</td>\n",
       "      <td>Anthony</td>\n",
       "      <td>B</td>\n",
       "      <td>Cowan</td>\n",
       "      <td>59</td>\n",
       "      <td>10/06/1960</td>\n",
       "      <td>84101</td>\n",
       "      <td>inkberry drive</td>\n",
       "      <td>NaN</td>\n",
       "      <td>Anytown</td>\n",
       "      <td>US</td>\n",
       "      <td>00000</td>\n",
       "      <td>Reference person</td>\n",
       "      <td>Male</td>\n",
       "      <td>Black</td>\n",
       "    </tr>\n",
       "    <tr>\n",
       "      <th>10408</th>\n",
       "      <td>0_20160</td>\n",
       "      <td>Kelly</td>\n",
       "      <td>A</td>\n",
       "      <td>Satcher</td>\n",
       "      <td>26</td>\n",
       "      <td>10/24/1993</td>\n",
       "      <td>6570</td>\n",
       "      <td>nth indiana avenue</td>\n",
       "      <td>NaN</td>\n",
       "      <td>Anytown</td>\n",
       "      <td>US</td>\n",
       "      <td>00000</td>\n",
       "      <td>Reference person</td>\n",
       "      <td>Female</td>\n",
       "      <td>White</td>\n",
       "    </tr>\n",
       "  </tbody>\n",
       "</table>\n",
       "<p>10409 rows × 15 columns</p>\n",
       "</div>"
      ],
      "text/plain": [
       "      simulant_id first_name middle_initial last_name age date_of_birth  \\\n",
       "0             0_2    Melanie              L    Herrod  26    08/05/1993   \n",
       "1             0_3     Jordan              C    Herrod  26    12/29/1993   \n",
       "2           0_923       John              E  Mckeever  77    06/29/1942   \n",
       "3          0_2641     Sharon              T   Schmidt  59    10/10/1960   \n",
       "4          0_2801     Ronnie              A    Arthur  73    12/05/1946   \n",
       "...           ...        ...            ...       ...  ..           ...   \n",
       "10404     0_19008      James              G    Halsey  56    06/12/1963   \n",
       "10405     0_20161   Nannette              D   Hoffman  61    11/09/1958   \n",
       "10406     0_20162    Cynthia              L   Hoffman  65    01/20/1955   \n",
       "10407     0_19669    Anthony              B     Cowan  59    10/06/1960   \n",
       "10408     0_20160      Kelly              A   Satcher  26    10/24/1993   \n",
       "\n",
       "      street_number           street_name unit_number     city state zipcode  \\\n",
       "0             10233  north burgher avenue         NaN  Anytown    US   00000   \n",
       "1             10233  north burgher avenue         NaN  Anytown    US   00000   \n",
       "2           147-153          browning ave         NaN  Anytown    US   00000   \n",
       "3               107           stallion st         NaN  Anytown    US   00000   \n",
       "4               214           s vine lane         NaN  Anytown    US   00000   \n",
       "...             ...                   ...         ...      ...   ...     ...   \n",
       "10404          1113     times square blvd         NaN  Anytown    US   00000   \n",
       "10405          4123           nw 13th ave     no 207r  Anytown    US   00000   \n",
       "10406          4123           nw 13th ave     no 207r  Anytown    US   00000   \n",
       "10407         84101        inkberry drive         NaN  Anytown    US   00000   \n",
       "10408          6570    nth indiana avenue         NaN  Anytown    US   00000   \n",
       "\n",
       "      relation_to_reference_person     sex race_ethnicity  \n",
       "0                 Reference person  Female          White  \n",
       "1                   Other relative  Female          White  \n",
       "2                 Reference person    Male          Black  \n",
       "3                 Reference person  Female          White  \n",
       "4                 Reference person    Male          White  \n",
       "...                            ...     ...            ...  \n",
       "10404             Reference person    Male          Black  \n",
       "10405             Reference person  Female          White  \n",
       "10406              Same-sex spouse  Female          White  \n",
       "10407             Reference person    Male          Black  \n",
       "10408             Reference person  Female          White  \n",
       "\n",
       "[10409 rows x 15 columns]"
      ]
     },
     "execution_count": 6,
     "metadata": {},
     "output_type": "execute_result"
    }
   ],
   "source": [
    "census = psp.generate_decennial_census(config=zero_config)\n",
    "census"
   ]
  },
  {
   "cell_type": "code",
   "execution_count": 7,
   "id": "cb46c23b",
   "metadata": {},
   "outputs": [
    {
     "data": {
      "text/plain": [
       "simulant_id                        0\n",
       "first_name                         0\n",
       "middle_initial                     0\n",
       "last_name                          0\n",
       "age                                0\n",
       "date_of_birth                      0\n",
       "street_number                    438\n",
       "street_name                        0\n",
       "unit_number                     9857\n",
       "city                               0\n",
       "state                              0\n",
       "zipcode                            0\n",
       "relation_to_reference_person       0\n",
       "sex                                0\n",
       "race_ethnicity                     0\n",
       "dtype: int64"
      ]
     },
     "execution_count": 7,
     "metadata": {},
     "output_type": "execute_result"
    }
   ],
   "source": [
    "census.isna().sum()"
   ]
  },
  {
   "cell_type": "code",
   "execution_count": 8,
   "id": "a29ebc49",
   "metadata": {},
   "outputs": [
    {
     "data": {
      "text/plain": [
       "{'decennial_census': {'row_noise': {'omit_row': {'row_probability': 0.0}},\n",
       "  'column_noise': {'first_name': {'leave_blank': {'cell_probability': 0.0},\n",
       "    'use_fake_name': {'cell_probability': 0.0},\n",
       "    'make_typos': {'cell_probability': 0.0, 'token_probability': 0.0}},\n",
       "   'middle_initial': {'leave_blank': {'cell_probability': 0.0},\n",
       "    'make_typos': {'cell_probability': 0.0, 'token_probability': 0.0}},\n",
       "   'last_name': {'leave_blank': {'cell_probability': 0.0},\n",
       "    'use_fake_name': {'cell_probability': 0.0},\n",
       "    'make_typos': {'cell_probability': 0.0, 'token_probability': 0.0}},\n",
       "   'age': {'leave_blank': {'cell_probability': 0.0},\n",
       "    'misreport_age': {'cell_probability': 0.0,\n",
       "     'possible_age_differences': {-2: 0.1, -1: 0.4, 1: 0.4, 2: 0.1}},\n",
       "    'make_typos': {'cell_probability': 0.0, 'token_probability': 0.0}},\n",
       "   'date_of_birth': {'leave_blank': {'cell_probability': 0.0},\n",
       "    'write_wrong_digits': {'cell_probability': 0.0, 'token_probability': 0.0},\n",
       "    'make_typos': {'cell_probability': 0.0, 'token_probability': 0.0}},\n",
       "   'street_number': {'leave_blank': {'cell_probability': 0.0},\n",
       "    'write_wrong_digits': {'cell_probability': 0.0, 'token_probability': 0.0},\n",
       "    'make_typos': {'cell_probability': 0.0, 'token_probability': 0.0}},\n",
       "   'street_name': {'leave_blank': {'cell_probability': 0.0},\n",
       "    'make_typos': {'cell_probability': 0.0, 'token_probability': 0.0}},\n",
       "   'unit_number': {'leave_blank': {'cell_probability': 0.0},\n",
       "    'write_wrong_digits': {'cell_probability': 0.0, 'token_probability': 0.0},\n",
       "    'make_typos': {'cell_probability': 0.0, 'token_probability': 0.0}},\n",
       "   'city': {'leave_blank': {'cell_probability': 0.0},\n",
       "    'make_typos': {'cell_probability': 0.0, 'token_probability': 0.0}},\n",
       "   'state': {'leave_blank': {'cell_probability': 0.0},\n",
       "    'choose_wrong_option': {'cell_probability': 0.0}},\n",
       "   'zipcode': {'leave_blank': {'cell_probability': 0.0},\n",
       "    'write_wrong_zipcode_digits': {'cell_probability': 0.0,\n",
       "     'digit_probabilities': [0.04, 0.04, 0.2, 0.36, 0.36]},\n",
       "    'make_typos': {'cell_probability': 0.0, 'token_probability': 0.0}},\n",
       "   'relation_to_reference_person': {'leave_blank': {'cell_probability': 0.0},\n",
       "    'choose_wrong_option': {'cell_probability': 0.0}},\n",
       "   'sex': {'leave_blank': {'cell_probability': 0.0},\n",
       "    'choose_wrong_option': {'cell_probability': 0.0}},\n",
       "   'race_ethnicity': {'leave_blank': {'cell_probability': 0.0},\n",
       "    'choose_wrong_option': {'cell_probability': 0.0}}}},\n",
       " 'american_community_survey': {'row_noise': {'omit_row': {'row_probability': 0.0}},\n",
       "  'column_noise': {'first_name': {'leave_blank': {'cell_probability': 0.0},\n",
       "    'use_fake_name': {'cell_probability': 0.0},\n",
       "    'make_typos': {'cell_probability': 0.0, 'token_probability': 0.0}},\n",
       "   'middle_initial': {'leave_blank': {'cell_probability': 0.0},\n",
       "    'make_typos': {'cell_probability': 0.0, 'token_probability': 0.0}},\n",
       "   'last_name': {'leave_blank': {'cell_probability': 0.0},\n",
       "    'use_fake_name': {'cell_probability': 0.0},\n",
       "    'make_typos': {'cell_probability': 0.0, 'token_probability': 0.0}},\n",
       "   'age': {'leave_blank': {'cell_probability': 0.0},\n",
       "    'misreport_age': {'cell_probability': 0.0,\n",
       "     'possible_age_differences': {-2: 0.1, -1: 0.4, 1: 0.4, 2: 0.1}},\n",
       "    'make_typos': {'cell_probability': 0.0, 'token_probability': 0.0}},\n",
       "   'date_of_birth': {'leave_blank': {'cell_probability': 0.0},\n",
       "    'write_wrong_digits': {'cell_probability': 0.0, 'token_probability': 0.0},\n",
       "    'make_typos': {'cell_probability': 0.0, 'token_probability': 0.0}},\n",
       "   'street_number': {'leave_blank': {'cell_probability': 0.0},\n",
       "    'write_wrong_digits': {'cell_probability': 0.0, 'token_probability': 0.0},\n",
       "    'make_typos': {'cell_probability': 0.0, 'token_probability': 0.0}},\n",
       "   'street_name': {'leave_blank': {'cell_probability': 0.0},\n",
       "    'make_typos': {'cell_probability': 0.0, 'token_probability': 0.0}},\n",
       "   'unit_number': {'leave_blank': {'cell_probability': 0.0},\n",
       "    'write_wrong_digits': {'cell_probability': 0.0, 'token_probability': 0.0},\n",
       "    'make_typos': {'cell_probability': 0.0, 'token_probability': 0.0}},\n",
       "   'city': {'leave_blank': {'cell_probability': 0.0},\n",
       "    'make_typos': {'cell_probability': 0.0, 'token_probability': 0.0}},\n",
       "   'state': {'leave_blank': {'cell_probability': 0.0},\n",
       "    'choose_wrong_option': {'cell_probability': 0.0}},\n",
       "   'zipcode': {'leave_blank': {'cell_probability': 0.0},\n",
       "    'write_wrong_zipcode_digits': {'cell_probability': 0.0,\n",
       "     'digit_probabilities': [0.04, 0.04, 0.2, 0.36, 0.36]},\n",
       "    'make_typos': {'cell_probability': 0.0, 'token_probability': 0.0}},\n",
       "   'sex': {'leave_blank': {'cell_probability': 0.0},\n",
       "    'choose_wrong_option': {'cell_probability': 0.0}},\n",
       "   'race_ethnicity': {'leave_blank': {'cell_probability': 0.0},\n",
       "    'choose_wrong_option': {'cell_probability': 0.0}}}},\n",
       " 'current_population_survey': {'row_noise': {'omit_row': {'row_probability': 0.0}},\n",
       "  'column_noise': {'first_name': {'leave_blank': {'cell_probability': 0.0},\n",
       "    'use_fake_name': {'cell_probability': 0.0},\n",
       "    'make_typos': {'cell_probability': 0.0, 'token_probability': 0.0}},\n",
       "   'middle_initial': {'leave_blank': {'cell_probability': 0.0},\n",
       "    'make_typos': {'cell_probability': 0.0, 'token_probability': 0.0}},\n",
       "   'last_name': {'leave_blank': {'cell_probability': 0.0},\n",
       "    'use_fake_name': {'cell_probability': 0.0},\n",
       "    'make_typos': {'cell_probability': 0.0, 'token_probability': 0.0}},\n",
       "   'age': {'leave_blank': {'cell_probability': 0.0},\n",
       "    'misreport_age': {'cell_probability': 0.0,\n",
       "     'possible_age_differences': {-2: 0.1, -1: 0.4, 1: 0.4, 2: 0.1}},\n",
       "    'make_typos': {'cell_probability': 0.0, 'token_probability': 0.0}},\n",
       "   'date_of_birth': {'leave_blank': {'cell_probability': 0.0},\n",
       "    'write_wrong_digits': {'cell_probability': 0.0, 'token_probability': 0.0},\n",
       "    'make_typos': {'cell_probability': 0.0, 'token_probability': 0.0}},\n",
       "   'street_number': {'leave_blank': {'cell_probability': 0.0},\n",
       "    'write_wrong_digits': {'cell_probability': 0.0, 'token_probability': 0.0},\n",
       "    'make_typos': {'cell_probability': 0.0, 'token_probability': 0.0}},\n",
       "   'street_name': {'leave_blank': {'cell_probability': 0.0},\n",
       "    'make_typos': {'cell_probability': 0.0, 'token_probability': 0.0}},\n",
       "   'unit_number': {'leave_blank': {'cell_probability': 0.0},\n",
       "    'write_wrong_digits': {'cell_probability': 0.0, 'token_probability': 0.0},\n",
       "    'make_typos': {'cell_probability': 0.0, 'token_probability': 0.0}},\n",
       "   'city': {'leave_blank': {'cell_probability': 0.0},\n",
       "    'make_typos': {'cell_probability': 0.0, 'token_probability': 0.0}},\n",
       "   'state': {'leave_blank': {'cell_probability': 0.0},\n",
       "    'choose_wrong_option': {'cell_probability': 0.0}},\n",
       "   'zipcode': {'leave_blank': {'cell_probability': 0.0},\n",
       "    'write_wrong_zipcode_digits': {'cell_probability': 0.0,\n",
       "     'digit_probabilities': [0.04, 0.04, 0.2, 0.36, 0.36]},\n",
       "    'make_typos': {'cell_probability': 0.0, 'token_probability': 0.0}},\n",
       "   'sex': {'leave_blank': {'cell_probability': 0.0},\n",
       "    'choose_wrong_option': {'cell_probability': 0.0}},\n",
       "   'race_ethnicity': {'leave_blank': {'cell_probability': 0.0},\n",
       "    'choose_wrong_option': {'cell_probability': 0.0}}}},\n",
       " 'women_infants_and_children': {'row_noise': {'omit_row': {'row_probability': 0.0}},\n",
       "  'column_noise': {'first_name': {'leave_blank': {'cell_probability': 0.0},\n",
       "    'use_fake_name': {'cell_probability': 0.0},\n",
       "    'make_typos': {'cell_probability': 0.0, 'token_probability': 0.0}},\n",
       "   'middle_initial': {'leave_blank': {'cell_probability': 0.0},\n",
       "    'make_typos': {'cell_probability': 0.0, 'token_probability': 0.0}},\n",
       "   'last_name': {'leave_blank': {'cell_probability': 0.0},\n",
       "    'use_fake_name': {'cell_probability': 0.0},\n",
       "    'make_typos': {'cell_probability': 0.0, 'token_probability': 0.0}},\n",
       "   'date_of_birth': {'leave_blank': {'cell_probability': 0.0},\n",
       "    'write_wrong_digits': {'cell_probability': 0.0, 'token_probability': 0.0},\n",
       "    'make_typos': {'cell_probability': 0.0, 'token_probability': 0.0}},\n",
       "   'street_number': {'leave_blank': {'cell_probability': 0.0},\n",
       "    'write_wrong_digits': {'cell_probability': 0.0, 'token_probability': 0.0},\n",
       "    'make_typos': {'cell_probability': 0.0, 'token_probability': 0.0}},\n",
       "   'street_name': {'leave_blank': {'cell_probability': 0.0},\n",
       "    'make_typos': {'cell_probability': 0.0, 'token_probability': 0.0}},\n",
       "   'unit_number': {'leave_blank': {'cell_probability': 0.0},\n",
       "    'write_wrong_digits': {'cell_probability': 0.0, 'token_probability': 0.0},\n",
       "    'make_typos': {'cell_probability': 0.0, 'token_probability': 0.0}},\n",
       "   'city': {'leave_blank': {'cell_probability': 0.0},\n",
       "    'make_typos': {'cell_probability': 0.0, 'token_probability': 0.0}},\n",
       "   'state': {'leave_blank': {'cell_probability': 0.0},\n",
       "    'choose_wrong_option': {'cell_probability': 0.0}},\n",
       "   'zipcode': {'leave_blank': {'cell_probability': 0.0},\n",
       "    'write_wrong_zipcode_digits': {'cell_probability': 0.0,\n",
       "     'digit_probabilities': [0.04, 0.04, 0.2, 0.36, 0.36]},\n",
       "    'make_typos': {'cell_probability': 0.0, 'token_probability': 0.0}},\n",
       "   'sex': {'leave_blank': {'cell_probability': 0.0},\n",
       "    'choose_wrong_option': {'cell_probability': 0.0}},\n",
       "   'race_ethnicity': {'leave_blank': {'cell_probability': 0.0},\n",
       "    'choose_wrong_option': {'cell_probability': 0.0}}}},\n",
       " 'social_security': {'row_noise': {'omit_row': {'row_probability': 0.0}},\n",
       "  'column_noise': {'first_name': {'leave_blank': {'cell_probability': 0.0},\n",
       "    'use_fake_name': {'cell_probability': 0.0},\n",
       "    'make_typos': {'cell_probability': 0.0, 'token_probability': 0.0}},\n",
       "   'middle_initial': {'leave_blank': {'cell_probability': 0.0},\n",
       "    'make_typos': {'cell_probability': 0.0, 'token_probability': 0.0}},\n",
       "   'last_name': {'leave_blank': {'cell_probability': 0.0},\n",
       "    'use_fake_name': {'cell_probability': 0.0},\n",
       "    'make_typos': {'cell_probability': 0.0, 'token_probability': 0.0}},\n",
       "   'date_of_birth': {'leave_blank': {'cell_probability': 0.0},\n",
       "    'write_wrong_digits': {'cell_probability': 0.0, 'token_probability': 0.0},\n",
       "    'make_typos': {'cell_probability': 0.0, 'token_probability': 0.0}},\n",
       "   'ssn': {'leave_blank': {'cell_probability': 0.0},\n",
       "    'write_wrong_digits': {'cell_probability': 0.0, 'token_probability': 0.0},\n",
       "    'make_typos': {'cell_probability': 0.0, 'token_probability': 0.0}},\n",
       "   'event_type': {'leave_blank': {'cell_probability': 0.0},\n",
       "    'choose_wrong_option': {'cell_probability': 0.0}},\n",
       "   'event_date': {'leave_blank': {'cell_probability': 0.0},\n",
       "    'write_wrong_digits': {'cell_probability': 0.0, 'token_probability': 0.0},\n",
       "    'make_typos': {'cell_probability': 0.0, 'token_probability': 0.0}}}},\n",
       " 'taxes_w2_and_1099': {'row_noise': {'omit_row': {'row_probability': 0.0}},\n",
       "  'column_noise': {'first_name': {'leave_blank': {'cell_probability': 0.0},\n",
       "    'use_fake_name': {'cell_probability': 0.0},\n",
       "    'make_typos': {'cell_probability': 0.0, 'token_probability': 0.0}},\n",
       "   'middle_initial': {'leave_blank': {'cell_probability': 0.0},\n",
       "    'make_typos': {'cell_probability': 0.0, 'token_probability': 0.0}},\n",
       "   'last_name': {'leave_blank': {'cell_probability': 0.0},\n",
       "    'use_fake_name': {'cell_probability': 0.0},\n",
       "    'make_typos': {'cell_probability': 0.0, 'token_probability': 0.0}},\n",
       "   'age': {'leave_blank': {'cell_probability': 0.0},\n",
       "    'misreport_age': {'cell_probability': 0.0,\n",
       "     'possible_age_differences': {-2: 0.1, -1: 0.4, 1: 0.4, 2: 0.1}},\n",
       "    'make_typos': {'cell_probability': 0.0, 'token_probability': 0.0}},\n",
       "   'date_of_birth': {'leave_blank': {'cell_probability': 0.0},\n",
       "    'write_wrong_digits': {'cell_probability': 0.0, 'token_probability': 0.0},\n",
       "    'make_typos': {'cell_probability': 0.0, 'token_probability': 0.0}},\n",
       "   'mailing_address_street_number': {'leave_blank': {'cell_probability': 0.0},\n",
       "    'write_wrong_digits': {'cell_probability': 0.0, 'token_probability': 0.0},\n",
       "    'make_typos': {'cell_probability': 0.0, 'token_probability': 0.0}},\n",
       "   'mailing_address_street_name': {'leave_blank': {'cell_probability': 0.0},\n",
       "    'make_typos': {'cell_probability': 0.0, 'token_probability': 0.0}},\n",
       "   'mailing_address_unit_number': {'leave_blank': {'cell_probability': 0.0},\n",
       "    'write_wrong_digits': {'cell_probability': 0.0, 'token_probability': 0.0},\n",
       "    'make_typos': {'cell_probability': 0.0, 'token_probability': 0.0}},\n",
       "   'mailing_address_po_box': {'leave_blank': {'cell_probability': 0.0},\n",
       "    'write_wrong_digits': {'cell_probability': 0.0, 'token_probability': 0.0},\n",
       "    'make_typos': {'cell_probability': 0.0, 'token_probability': 0.0}},\n",
       "   'mailing_address_city': {'leave_blank': {'cell_probability': 0.0},\n",
       "    'make_typos': {'cell_probability': 0.0, 'token_probability': 0.0}},\n",
       "   'mailing_address_state': {'leave_blank': {'cell_probability': 0.0},\n",
       "    'choose_wrong_option': {'cell_probability': 0.0}},\n",
       "   'mailing_address_zipcode': {'leave_blank': {'cell_probability': 0.0},\n",
       "    'write_wrong_zipcode_digits': {'cell_probability': 0.0,\n",
       "     'digit_probabilities': [0.04, 0.04, 0.2, 0.36, 0.36]},\n",
       "    'make_typos': {'cell_probability': 0.0, 'token_probability': 0.0}},\n",
       "   'ssn': {'leave_blank': {'cell_probability': 0.0},\n",
       "    'write_wrong_digits': {'cell_probability': 0.0, 'token_probability': 0.0},\n",
       "    'make_typos': {'cell_probability': 0.0, 'token_probability': 0.0}},\n",
       "   'income': {'leave_blank': {'cell_probability': 0.0},\n",
       "    'write_wrong_digits': {'cell_probability': 0.0, 'token_probability': 0.0},\n",
       "    'make_typos': {'cell_probability': 0.0, 'token_probability': 0.0}},\n",
       "   'employer_id': {'leave_blank': {'cell_probability': 0.0},\n",
       "    'write_wrong_digits': {'cell_probability': 0.0, 'token_probability': 0.0},\n",
       "    'make_typos': {'cell_probability': 0.0, 'token_probability': 0.0}},\n",
       "   'employer_name': {'leave_blank': {'cell_probability': 0.0},\n",
       "    'make_typos': {'cell_probability': 0.0, 'token_probability': 0.0}},\n",
       "   'employer_street_number': {'leave_blank': {'cell_probability': 0.0},\n",
       "    'write_wrong_digits': {'cell_probability': 0.0, 'token_probability': 0.0},\n",
       "    'make_typos': {'cell_probability': 0.0, 'token_probability': 0.0}},\n",
       "   'employer_street_name': {'leave_blank': {'cell_probability': 0.0},\n",
       "    'make_typos': {'cell_probability': 0.0, 'token_probability': 0.0}},\n",
       "   'employer_unit_number': {'leave_blank': {'cell_probability': 0.0},\n",
       "    'write_wrong_digits': {'cell_probability': 0.0, 'token_probability': 0.0},\n",
       "    'make_typos': {'cell_probability': 0.0, 'token_probability': 0.0}},\n",
       "   'employer_city': {'leave_blank': {'cell_probability': 0.0},\n",
       "    'make_typos': {'cell_probability': 0.0, 'token_probability': 0.0}},\n",
       "   'employer_state': {'leave_blank': {'cell_probability': 0.0},\n",
       "    'choose_wrong_option': {'cell_probability': 0.0}},\n",
       "   'employer_zipcode': {'leave_blank': {'cell_probability': 0.0},\n",
       "    'write_wrong_zipcode_digits': {'cell_probability': 0.0,\n",
       "     'digit_probabilities': [0.04, 0.04, 0.2, 0.36, 0.36]},\n",
       "    'make_typos': {'cell_probability': 0.0, 'token_probability': 0.0}},\n",
       "   'tax_form': {'leave_blank': {'cell_probability': 0.0},\n",
       "    'choose_wrong_option': {'cell_probability': 0.0}}}}}"
      ]
     },
     "execution_count": 8,
     "metadata": {},
     "output_type": "execute_result"
    }
   ],
   "source": [
    "zero_config2 = psp.get_config()\n",
    "alpha.recursive_zero(zero_config2)\n",
    "zero_config2"
   ]
  },
  {
   "cell_type": "markdown",
   "id": "2cf7bfa9",
   "metadata": {},
   "source": [
    "# Test code for merging categories"
   ]
  },
  {
   "cell_type": "code",
   "execution_count": 18,
   "id": "2a2c5b10",
   "metadata": {},
   "outputs": [
    {
     "data": {
      "text/plain": [
       "0      1\n",
       "1     10\n",
       "2      5\n",
       "3     10\n",
       "4    NaN\n",
       "5      9\n",
       "6     10\n",
       "7      1\n",
       "8    NaN\n",
       "dtype: object"
      ]
     },
     "execution_count": 18,
     "metadata": {},
     "output_type": "execute_result"
    }
   ],
   "source": [
    "s = pd.Series([1, 10, 5, '10', np.nan, 9, 10, '1', np.nan])\n",
    "s"
   ]
  },
  {
   "cell_type": "code",
   "execution_count": 19,
   "id": "4a1a56ba",
   "metadata": {},
   "outputs": [
    {
     "data": {
      "text/plain": [
       "0      1\n",
       "1     10\n",
       "2      5\n",
       "3     10\n",
       "4    NaN\n",
       "5      9\n",
       "6     10\n",
       "7      1\n",
       "8    NaN\n",
       "dtype: category\n",
       "Categories (6, object): [1, 5, 9, 10, '1', '10']"
      ]
     },
     "execution_count": 19,
     "metadata": {},
     "output_type": "execute_result"
    }
   ],
   "source": [
    "s_cat = s.astype('category')\n",
    "s_cat"
   ]
  },
  {
   "cell_type": "code",
   "execution_count": 20,
   "id": "0b4fca80",
   "metadata": {},
   "outputs": [
    {
     "data": {
      "text/plain": [
       "{1: '1', 5: '5', 9: '9', 10: '10', '1': '1', '10': '10'}"
      ]
     },
     "execution_count": 20,
     "metadata": {},
     "output_type": "execute_result"
    }
   ],
   "source": [
    "cat_map = dict(zip(s_cat.cat.categories, s_cat.cat.categories.astype(str)))\n",
    "cat_map"
   ]
  },
  {
   "cell_type": "code",
   "execution_count": 63,
   "id": "de817b59",
   "metadata": {},
   "outputs": [
    {
     "data": {
      "text/plain": [
       "['1', '5', '9', '10', '1', '10']"
      ]
     },
     "execution_count": 63,
     "metadata": {},
     "output_type": "execute_result"
    }
   ],
   "source": [
    "# def cat_func(cat):\n",
    "#     return str(cat)\n",
    "\n",
    "cat_func = str\n",
    "\n",
    "list(map(cat_func, s_cat.cat.categories))"
   ]
  },
  {
   "cell_type": "code",
   "execution_count": 59,
   "id": "56e663ec",
   "metadata": {},
   "outputs": [
    {
     "name": "stdout",
     "output_type": "stream",
     "text": [
      "CPU times: user 5.13 ms, sys: 162 µs, total: 5.29 ms\n",
      "Wall time: 5.18 ms\n"
     ]
    },
    {
     "data": {
      "text/plain": [
       "['1', '10', '5', '10', NaN, '9', '10', '1', NaN]\n",
       "Categories (4, object): ['1', '5', '9', '10']"
      ]
     },
     "execution_count": 59,
     "metadata": {},
     "output_type": "execute_result"
    }
   ],
   "source": [
    "def merge_series_categories(series, category_mapping):\n",
    "    # https://stackoverflow.com/questions/32262982/pandas-combining-multiple-categories-into-one\n",
    "    return series.map(category_mapping).astype('category')\n",
    "\n",
    "def merge_categories1(categorical: pd.Categorical, old_cat_to_new_cat: dict):\n",
    "    # Oops, old_cat_to_new_cat doesn't need to be a dict -- it can be a function or Series too\n",
    "    new_cat_array = categorical.categories.map(old_cat_to_new_cat)\n",
    "    new_cats = new_cat_array.unique()\n",
    "    if len(new_cats) == len(new_cat_array):\n",
    "        # one-to-one mapping -> no merging is necessary, just renaming of categories\n",
    "        # Note: Index.unique() returns values in order of appearance, not sorted\n",
    "        new_categorical = categorical.rename_categories(new_cats)\n",
    "    else:\n",
    "        # Map each new category to its index in the categories array, i.e., its code\n",
    "        new_cat_to_new_code = dict(zip(new_cats, range(len(new_cats))))\n",
    "        # This array replaces each old category with the index (code) of the new category\n",
    "        new_code_array = new_cat_array.map(new_cat_to_new_code)\n",
    "        # The index (code) of the old category is mapped to the index (code) of the new category\n",
    "        old_code_to_new_code = dict(zip(range(len(new_code_array)), new_code_array))\n",
    "        # -1 indicates NaN and needs to stay the same in the new codes\n",
    "        old_code_to_new_code.update({-1: -1})\n",
    "        new_codes = categorical.codes.map(old_code_to_new_code)\n",
    "        new_categorical = pd.Categorical.from_codes(new_codes, new_cats)\n",
    "    return new_categorical\n",
    "\n",
    "def merge_categories2(categorical: pd.Categorical, old_cat_to_new_cat):\n",
    "    new_cat_array = categorical.categories.map(old_cat_to_new_cat)\n",
    "    new_cats = new_cat_array.unique()\n",
    "    if len(new_cats) == len(new_cat_array):\n",
    "        # one-to-one mapping -> no merging is necessary, just renaming of categories\n",
    "        # Note: Index.unique() returns values in order of appearance, not sorted,\n",
    "        # therefore is guaranteed to equal new_cat_array\n",
    "        new_categorical = categorical.rename_categories(new_cats)\n",
    "    else:\n",
    "        # Map each new category to its index in the categories array, i.e., its code\n",
    "        new_cat_to_new_code = dict(zip(new_cats, range(len(new_cats))))\n",
    "        # This array replaces each old category with the index (code) of the new category\n",
    "        new_code_array = new_cat_array.map(new_cat_to_new_code)\n",
    "        # The index (code) of the old category is mapped to the index (code) of the new category\n",
    "        new_codes = categorical.codes.map(lambda old_code: new_code_array[old_code] if old_code != -1 else -1)\n",
    "        new_categorical = pd.Categorical.from_codes(new_codes, new_cats)\n",
    "    return new_categorical\n",
    "\n",
    "def merge_categories3(categorical: pd.Categorical, old_cat_to_new_cat):\n",
    "    new_cat_array = categorical.categories.map(old_cat_to_new_cat)\n",
    "    new_cats = new_cat_array.unique()\n",
    "    if len(new_cats) == len(new_cat_array):\n",
    "        # one-to-one mapping -> no merging is necessary, just renaming of categories\n",
    "        # Note: Index.unique() returns values in order of appearance, not sorted,\n",
    "        # therefore is guaranteed to equal new_cat_array\n",
    "        new_categorical = categorical.rename_categories(new_cats)\n",
    "    else:\n",
    "        # Map each new category to its index in the categories array, i.e., its code\n",
    "        new_cat_to_new_code = dict(zip(new_cats, range(len(new_cats))))\n",
    "        # This array replaces each old category with the index (code) of the new category\n",
    "        new_code_array = new_cat_array.map(new_cat_to_new_code).to_list()\n",
    "        # -1 indicates NaN and needs to stay the same in the new codes\n",
    "        new_code_array.append(-1)\n",
    "        # The index (code) of the old category is mapped to the index (code) of the new category\n",
    "        new_codes = categorical.codes.map(lambda old_code: new_code_array[old_code])\n",
    "        new_categorical = pd.Categorical.from_codes(new_codes, new_cats)\n",
    "    return new_categorical\n",
    "\n",
    "%time merge_categories1(s_cat.cat, cat_map)"
   ]
  },
  {
   "cell_type": "code",
   "execution_count": 31,
   "id": "fb324f3d",
   "metadata": {},
   "outputs": [
    {
     "name": "stdout",
     "output_type": "stream",
     "text": [
      "CPU times: user 4.05 ms, sys: 769 µs, total: 4.82 ms\n",
      "Wall time: 4.67 ms\n"
     ]
    },
    {
     "data": {
      "text/plain": [
       "['1', '10', '5', '10', NaN, '9', '10', '1', NaN]\n",
       "Categories (4, object): ['1', '5', '9', '10']"
      ]
     },
     "execution_count": 31,
     "metadata": {},
     "output_type": "execute_result"
    }
   ],
   "source": [
    "%time merge_categories1(s_cat.cat, cat_func)"
   ]
  },
  {
   "cell_type": "code",
   "execution_count": 48,
   "id": "2e81775a",
   "metadata": {},
   "outputs": [
    {
     "data": {
      "text/plain": [
       "Index([1, 5, 9, 10, '1', '10'], dtype='object')"
      ]
     },
     "execution_count": 48,
     "metadata": {},
     "output_type": "execute_result"
    }
   ],
   "source": [
    "s_cat.cat.categories"
   ]
  },
  {
   "cell_type": "code",
   "execution_count": 26,
   "id": "63b299fd",
   "metadata": {},
   "outputs": [
    {
     "data": {
      "text/plain": [
       "Index([1, 5, 9, 10, '1', '10'], dtype='object')"
      ]
     },
     "execution_count": 26,
     "metadata": {},
     "output_type": "execute_result"
    }
   ],
   "source": [
    "s_cat.cat.categories.unique()"
   ]
  },
  {
   "cell_type": "code",
   "execution_count": 27,
   "id": "f38968e1",
   "metadata": {},
   "outputs": [
    {
     "data": {
      "text/plain": [
       "Index(['1', '5', '9', '10', '1', '10'], dtype='object')"
      ]
     },
     "execution_count": 27,
     "metadata": {},
     "output_type": "execute_result"
    }
   ],
   "source": [
    "new_cat_array = s_cat.cat.categories.map(cat_func)\n",
    "new_cat_array"
   ]
  },
  {
   "cell_type": "code",
   "execution_count": 28,
   "id": "3a14b824",
   "metadata": {},
   "outputs": [
    {
     "data": {
      "text/plain": [
       "Index(['1', '5', '9', '10'], dtype='object')"
      ]
     },
     "execution_count": 28,
     "metadata": {},
     "output_type": "execute_result"
    }
   ],
   "source": [
    "new_cat_array.unique()"
   ]
  },
  {
   "cell_type": "code",
   "execution_count": 55,
   "id": "2611c03a",
   "metadata": {},
   "outputs": [
    {
     "data": {
      "text/plain": [
       "['1', '5', '9', '10', '1', '10']"
      ]
     },
     "execution_count": 55,
     "metadata": {},
     "output_type": "execute_result"
    }
   ],
   "source": [
    "temp = new_cat_array.to_list()\n",
    "temp"
   ]
  },
  {
   "cell_type": "code",
   "execution_count": 56,
   "id": "7890c753",
   "metadata": {},
   "outputs": [
    {
     "data": {
      "text/plain": [
       "['1', '5', '9', '10', '1', '10', -1]"
      ]
     },
     "execution_count": 56,
     "metadata": {},
     "output_type": "execute_result"
    }
   ],
   "source": [
    "temp.append(-1)\n",
    "temp"
   ]
  },
  {
   "cell_type": "code",
   "execution_count": 58,
   "id": "0fed74ee",
   "metadata": {},
   "outputs": [
    {
     "data": {
      "text/plain": [
       "Index(['1', '5', '9', '10', '1', '10', -1], dtype='object')"
      ]
     },
     "execution_count": 58,
     "metadata": {},
     "output_type": "execute_result"
    }
   ],
   "source": [
    "new_cat_array.append(pd.Index([-1]))"
   ]
  },
  {
   "cell_type": "code",
   "execution_count": 32,
   "id": "f99e8add",
   "metadata": {},
   "outputs": [
    {
     "name": "stdout",
     "output_type": "stream",
     "text": [
      "1.19 ms ± 3.17 µs per loop (mean ± std. dev. of 7 runs, 1,000 loops each)\n",
      "949 µs ± 2.48 µs per loop (mean ± std. dev. of 7 runs, 1,000 loops each)\n"
     ]
    }
   ],
   "source": [
    "%timeit merge_categories1(s_cat.cat, cat_map)\n",
    "%timeit merge_categories1(s_cat.cat, cat_func)"
   ]
  },
  {
   "cell_type": "code",
   "execution_count": 33,
   "id": "601e3176",
   "metadata": {},
   "outputs": [
    {
     "name": "stdout",
     "output_type": "stream",
     "text": [
      "949 µs ± 4.39 µs per loop (mean ± std. dev. of 7 runs, 1,000 loops each)\n",
      "685 µs ± 1.43 µs per loop (mean ± std. dev. of 7 runs, 1,000 loops each)\n"
     ]
    }
   ],
   "source": [
    "%timeit merge_categories2(s_cat.cat, cat_map)\n",
    "%timeit merge_categories2(s_cat.cat, cat_func)"
   ]
  },
  {
   "cell_type": "code",
   "execution_count": 34,
   "id": "50c15ee9",
   "metadata": {},
   "outputs": [
    {
     "data": {
      "text/plain": [
       "True"
      ]
     },
     "execution_count": 34,
     "metadata": {},
     "output_type": "execute_result"
    }
   ],
   "source": [
    "merge_categories1(s_cat.cat, cat_func).equals(merge_categories2(s_cat.cat, cat_func))"
   ]
  },
  {
   "cell_type": "markdown",
   "id": "ccc3161f",
   "metadata": {},
   "source": [
    "# Test with a long Series"
   ]
  },
  {
   "cell_type": "code",
   "execution_count": 35,
   "id": "9c17f08c",
   "metadata": {},
   "outputs": [
    {
     "data": {
      "text/plain": [
       "0           4\n",
       "1           4\n",
       "2          12\n",
       "3           4\n",
       "4           1\n",
       "           ..\n",
       "1999995     1\n",
       "1999996     1\n",
       "1999997     1\n",
       "1999998     1\n",
       "1999999     3\n",
       "Length: 2000000, dtype: category\n",
       "Categories (7, object): [1, 3, 4, 12, '1', '12', '3']"
      ]
     },
     "execution_count": 35,
     "metadata": {},
     "output_type": "execute_result"
    }
   ],
   "source": [
    "size = 1_000_000\n",
    "rng = np.random.default_rng(99887)\n",
    "a = rng.choice([1, 12, 3, 4, 4], size=size)\n",
    "b = rng.choice(['1', '1', '12', '3'], size=size)\n",
    "ab = pd.concat([pd.Series(a), pd.Series(b)], ignore_index=True).astype('category')\n",
    "ab"
   ]
  },
  {
   "cell_type": "code",
   "execution_count": 36,
   "id": "9d2c466c",
   "metadata": {},
   "outputs": [
    {
     "data": {
      "text/plain": [
       "1     499691\n",
       "4     399736\n",
       "3     250291\n",
       "12    250018\n",
       "12    200469\n",
       "3     199909\n",
       "1     199886\n",
       "dtype: int64"
      ]
     },
     "execution_count": 36,
     "metadata": {},
     "output_type": "execute_result"
    }
   ],
   "source": [
    "ab.value_counts()"
   ]
  },
  {
   "cell_type": "code",
   "execution_count": 60,
   "id": "75dfb156",
   "metadata": {},
   "outputs": [
    {
     "name": "stdout",
     "output_type": "stream",
     "text": [
      "True\n",
      "True\n",
      "True\n"
     ]
    }
   ],
   "source": [
    "ab_str_s = merge_series_categories(ab, cat_func)\n",
    "ab_str1 = pd.Series(merge_categories1(ab.cat, cat_func))\n",
    "ab_str2 = pd.Series(merge_categories2(ab.cat, cat_func))\n",
    "ab_str3 = pd.Series(merge_categories3(ab.cat, cat_func))\n",
    "for series in [ab_str1, ab_str2, ab_str3]:\n",
    "    print(series.equals(ab_str_s))"
   ]
  },
  {
   "cell_type": "code",
   "execution_count": 64,
   "id": "6104f5c1",
   "metadata": {},
   "outputs": [
    {
     "name": "stdout",
     "output_type": "stream",
     "text": [
      "97.3 ms ± 118 µs per loop (mean ± std. dev. of 7 runs, 10 loops each)\n",
      "17.3 ms ± 18.1 µs per loop (mean ± std. dev. of 7 runs, 100 loops each)\n",
      "4.6 s ± 18.9 ms per loop (mean ± std. dev. of 7 runs, 1 loop each)\n",
      "431 ms ± 517 µs per loop (mean ± std. dev. of 7 runs, 1 loop each)\n"
     ]
    }
   ],
   "source": [
    "%timeit merge_series_categories(ab, cat_func)\n",
    "%timeit pd.Series(merge_categories1(ab.cat, cat_func))\n",
    "%timeit pd.Series(merge_categories2(ab.cat, cat_func))\n",
    "%timeit pd.Series(merge_categories3(ab.cat, cat_func))"
   ]
  },
  {
   "cell_type": "code",
   "execution_count": 65,
   "id": "51597ded",
   "metadata": {},
   "outputs": [
    {
     "data": {
      "text/plain": [
       "265.8959537572254"
      ]
     },
     "execution_count": 65,
     "metadata": {},
     "output_type": "execute_result"
    }
   ],
   "source": [
    "4600/17.3"
   ]
  },
  {
   "cell_type": "code",
   "execution_count": 40,
   "id": "061415ed",
   "metadata": {},
   "outputs": [
    {
     "name": "stdout",
     "output_type": "stream",
     "text": [
      "CPU times: user 4.65 s, sys: 39.7 ms, total: 4.69 s\n",
      "Wall time: 4.68 s\n"
     ]
    },
    {
     "data": {
      "text/plain": [
       "0           4\n",
       "1           4\n",
       "2          12\n",
       "3           4\n",
       "4           1\n",
       "           ..\n",
       "1999995     1\n",
       "1999996     1\n",
       "1999997     1\n",
       "1999998     1\n",
       "1999999     3\n",
       "Length: 2000000, dtype: category\n",
       "Categories (4, object): ['1', '3', '4', '12']"
      ]
     },
     "execution_count": 40,
     "metadata": {},
     "output_type": "execute_result"
    }
   ],
   "source": [
    "%time pd.Series(merge_categories2(ab.cat, cat_func))"
   ]
  },
  {
   "cell_type": "code",
   "execution_count": 42,
   "id": "4a2d51ba",
   "metadata": {},
   "outputs": [
    {
     "data": {
      "text/plain": [
       "{1: '1', 3: '3', 4: '4', 12: '12', '1': '1', '12': '12', '3': '3'}"
      ]
     },
     "execution_count": 42,
     "metadata": {},
     "output_type": "execute_result"
    }
   ],
   "source": [
    "d = dict(zip(ab.cat.categories, ab.cat.categories.astype(str)))\n",
    "d"
   ]
  },
  {
   "cell_type": "code",
   "execution_count": 43,
   "id": "3ee7f59c",
   "metadata": {},
   "outputs": [
    {
     "name": "stdout",
     "output_type": "stream",
     "text": [
      "CPU times: user 4.77 s, sys: 60.8 ms, total: 4.83 s\n",
      "Wall time: 4.83 s\n"
     ]
    },
    {
     "data": {
      "text/plain": [
       "0           4\n",
       "1           4\n",
       "2          12\n",
       "3           4\n",
       "4           1\n",
       "           ..\n",
       "1999995     1\n",
       "1999996     1\n",
       "1999997     1\n",
       "1999998     1\n",
       "1999999     3\n",
       "Length: 2000000, dtype: category\n",
       "Categories (4, object): ['1', '3', '4', '12']"
      ]
     },
     "execution_count": 43,
     "metadata": {},
     "output_type": "execute_result"
    }
   ],
   "source": [
    "%time pd.Series(merge_categories2(ab.cat, d))"
   ]
  },
  {
   "cell_type": "code",
   "execution_count": 44,
   "id": "1a9c1e41",
   "metadata": {},
   "outputs": [
    {
     "name": "stdout",
     "output_type": "stream",
     "text": [
      "CPU times: user 34.5 ms, sys: 263 µs, total: 34.7 ms\n",
      "Wall time: 32.4 ms\n"
     ]
    },
    {
     "data": {
      "text/plain": [
       "0           4\n",
       "1           4\n",
       "2          12\n",
       "3           4\n",
       "4           1\n",
       "           ..\n",
       "1999995     1\n",
       "1999996     1\n",
       "1999997     1\n",
       "1999998     1\n",
       "1999999     3\n",
       "Length: 2000000, dtype: category\n",
       "Categories (4, object): ['1', '3', '4', '12']"
      ]
     },
     "execution_count": 44,
     "metadata": {},
     "output_type": "execute_result"
    }
   ],
   "source": [
    "%time pd.Series(merge_categories1(ab.cat, cat_func))"
   ]
  },
  {
   "cell_type": "code",
   "execution_count": 45,
   "id": "1a84d919",
   "metadata": {},
   "outputs": [
    {
     "name": "stdout",
     "output_type": "stream",
     "text": [
      "CPU times: user 35.2 ms, sys: 0 ns, total: 35.2 ms\n",
      "Wall time: 32.9 ms\n"
     ]
    },
    {
     "data": {
      "text/plain": [
       "0           4\n",
       "1           4\n",
       "2          12\n",
       "3           4\n",
       "4           1\n",
       "           ..\n",
       "1999995     1\n",
       "1999996     1\n",
       "1999997     1\n",
       "1999998     1\n",
       "1999999     3\n",
       "Length: 2000000, dtype: category\n",
       "Categories (4, object): ['1', '3', '4', '12']"
      ]
     },
     "execution_count": 45,
     "metadata": {},
     "output_type": "execute_result"
    }
   ],
   "source": [
    "%time pd.Series(merge_categories1(ab.cat, d))"
   ]
  },
  {
   "cell_type": "markdown",
   "id": "04718bd5",
   "metadata": {},
   "source": [
    "# Test `merge_categories` function after copying to module\n",
    "\n",
    "### First make sure we get the same Series as above"
   ]
  },
  {
   "cell_type": "code",
   "execution_count": 66,
   "id": "0cc54ee5",
   "metadata": {},
   "outputs": [
    {
     "data": {
      "text/plain": [
       "True"
      ]
     },
     "execution_count": 66,
     "metadata": {},
     "output_type": "execute_result"
    }
   ],
   "source": [
    "ab_str_m = pd.Series(datatypes.merge_categories(ab.cat, cat_func))\n",
    "ab_str_m.equals(ab_str_s)"
   ]
  },
  {
   "cell_type": "code",
   "execution_count": 67,
   "id": "87c79145",
   "metadata": {},
   "outputs": [
    {
     "name": "stdout",
     "output_type": "stream",
     "text": [
      "16.9 ms ± 26.6 µs per loop (mean ± std. dev. of 7 runs, 100 loops each)\n"
     ]
    }
   ],
   "source": [
    "%timeit pd.Series(datatypes.merge_categories(ab.cat, cat_func))"
   ]
  },
  {
   "cell_type": "code",
   "execution_count": 69,
   "id": "ce630288",
   "metadata": {},
   "outputs": [
    {
     "data": {
      "text/plain": [
       "0      1\n",
       "1     10\n",
       "2      5\n",
       "3     10\n",
       "4    NaN\n",
       "5      9\n",
       "6     10\n",
       "7      1\n",
       "8    NaN\n",
       "dtype: category\n",
       "Categories (6, object): [1, 5, 9, 10, '1', '10']"
      ]
     },
     "execution_count": 69,
     "metadata": {},
     "output_type": "execute_result"
    }
   ],
   "source": [
    "s_cat"
   ]
  },
  {
   "cell_type": "code",
   "execution_count": 68,
   "id": "7a6ba3c8",
   "metadata": {},
   "outputs": [
    {
     "data": {
      "text/plain": [
       "['1', '10', '5', '10', NaN, '9', '10', '1', NaN]\n",
       "Categories (4, object): ['1', '5', '9', '10']"
      ]
     },
     "execution_count": 68,
     "metadata": {},
     "output_type": "execute_result"
    }
   ],
   "source": [
    "datatypes.merge_categories(s_cat.cat, cat_func)"
   ]
  },
  {
   "cell_type": "markdown",
   "id": "45d44743",
   "metadata": {},
   "source": [
    "### Now make sure it works with a one-to-one function"
   ]
  },
  {
   "cell_type": "code",
   "execution_count": 70,
   "id": "9059bc71",
   "metadata": {},
   "outputs": [
    {
     "data": {
      "text/plain": [
       "0       2\n",
       "1      20\n",
       "2      10\n",
       "3    1010\n",
       "4     NaN\n",
       "5      18\n",
       "6      20\n",
       "7      11\n",
       "8     NaN\n",
       "dtype: category\n",
       "Categories (6, object): [2, 10, 18, 20, '11', '1010']"
      ]
     },
     "execution_count": 70,
     "metadata": {},
     "output_type": "execute_result"
    }
   ],
   "source": [
    "def double(x):\n",
    "    return 2*x\n",
    "\n",
    "datatypes.merge_categories(s_cat.cat, double)"
   ]
  },
  {
   "cell_type": "code",
   "execution_count": 74,
   "id": "2b5e2e41",
   "metadata": {},
   "outputs": [
    {
     "data": {
      "text/plain": [
       "True"
      ]
     },
     "execution_count": 74,
     "metadata": {},
     "output_type": "execute_result"
    }
   ],
   "source": [
    "s_cat.map(double).equals(datatypes.merge_categories(s_cat.cat, double))"
   ]
  },
  {
   "cell_type": "code",
   "execution_count": 76,
   "id": "8a870c8d",
   "metadata": {},
   "outputs": [
    {
     "data": {
      "text/plain": [
       "0           8\n",
       "1           8\n",
       "2          24\n",
       "3           8\n",
       "4           2\n",
       "           ..\n",
       "1999995    11\n",
       "1999996    11\n",
       "1999997    11\n",
       "1999998    11\n",
       "1999999    33\n",
       "Length: 2000000, dtype: category\n",
       "Categories (7, object): [2, 6, 8, 24, '11', '1212', '33']"
      ]
     },
     "execution_count": 76,
     "metadata": {},
     "output_type": "execute_result"
    }
   ],
   "source": [
    "ab.map(double)"
   ]
  },
  {
   "cell_type": "code",
   "execution_count": 77,
   "id": "ec0040ce",
   "metadata": {},
   "outputs": [
    {
     "data": {
      "text/plain": [
       "True"
      ]
     },
     "execution_count": 77,
     "metadata": {},
     "output_type": "execute_result"
    }
   ],
   "source": [
    "ab.map(double).equals(datatypes.merge_categories(ab.cat, double))"
   ]
  },
  {
   "cell_type": "code",
   "execution_count": 78,
   "id": "8ed8ba04",
   "metadata": {},
   "outputs": [
    {
     "name": "stdout",
     "output_type": "stream",
     "text": [
      "543 µs ± 601 ns per loop (mean ± std. dev. of 7 runs, 1,000 loops each)\n"
     ]
    }
   ],
   "source": [
    "%timeit datatypes.merge_categories(ab.cat, double)"
   ]
  },
  {
   "cell_type": "markdown",
   "id": "60b14ebd",
   "metadata": {},
   "source": [
    "# Now test `convert_category_dtype` function after refactoring"
   ]
  },
  {
   "cell_type": "code",
   "execution_count": 80,
   "id": "2ee4a168",
   "metadata": {},
   "outputs": [
    {
     "data": {
      "text/plain": [
       "[1, 10, 5, '10', NaN, 9, 10, '1', NaN]\n",
       "Categories (6, object): [1, 5, 9, 10, '1', '10']"
      ]
     },
     "execution_count": 80,
     "metadata": {},
     "output_type": "execute_result"
    }
   ],
   "source": [
    "pd.Categorical(s_cat)"
   ]
  },
  {
   "cell_type": "code",
   "execution_count": 83,
   "id": "eb346c65",
   "metadata": {},
   "outputs": [
    {
     "data": {
      "text/plain": [
       "[1, 10, 5, '10', NaN, 9, 10, '1', NaN]\n",
       "Categories (6, object): [1, 5, 9, 10, '1', '10']"
      ]
     },
     "execution_count": 83,
     "metadata": {},
     "output_type": "execute_result"
    }
   ],
   "source": [
    "pd.Categorical(s)"
   ]
  },
  {
   "cell_type": "code",
   "execution_count": 84,
   "id": "1bf975f5",
   "metadata": {},
   "outputs": [
    {
     "data": {
      "text/html": [
       "<div>\n",
       "<style scoped>\n",
       "    .dataframe tbody tr th:only-of-type {\n",
       "        vertical-align: middle;\n",
       "    }\n",
       "\n",
       "    .dataframe tbody tr th {\n",
       "        vertical-align: top;\n",
       "    }\n",
       "\n",
       "    .dataframe thead th {\n",
       "        text-align: right;\n",
       "    }\n",
       "</style>\n",
       "<table border=\"1\" class=\"dataframe\">\n",
       "  <thead>\n",
       "    <tr style=\"text-align: right;\">\n",
       "      <th></th>\n",
       "      <th>a</th>\n",
       "      <th>b</th>\n",
       "      <th>c</th>\n",
       "    </tr>\n",
       "  </thead>\n",
       "  <tbody>\n",
       "    <tr>\n",
       "      <th>0</th>\n",
       "      <td>1</td>\n",
       "      <td>4</td>\n",
       "      <td>7</td>\n",
       "    </tr>\n",
       "    <tr>\n",
       "      <th>1</th>\n",
       "      <td>2</td>\n",
       "      <td>5</td>\n",
       "      <td>8</td>\n",
       "    </tr>\n",
       "    <tr>\n",
       "      <th>2</th>\n",
       "      <td>3</td>\n",
       "      <td>6</td>\n",
       "      <td>9</td>\n",
       "    </tr>\n",
       "  </tbody>\n",
       "</table>\n",
       "</div>"
      ],
      "text/plain": [
       "   a  b  c\n",
       "0  1  4  7\n",
       "1  2  5  8\n",
       "2  3  6  9"
      ]
     },
     "execution_count": 84,
     "metadata": {},
     "output_type": "execute_result"
    }
   ],
   "source": [
    "df = pd.DataFrame({'a': [1,2,3], 'b': [4,5,6], 'c': [7,8,9]})\n",
    "df"
   ]
  },
  {
   "cell_type": "code",
   "execution_count": 85,
   "id": "32157da0",
   "metadata": {},
   "outputs": [
    {
     "data": {
      "text/plain": [
       "a    int64\n",
       "b    int64\n",
       "c    int64\n",
       "dtype: object"
      ]
     },
     "execution_count": 85,
     "metadata": {},
     "output_type": "execute_result"
    }
   ],
   "source": [
    "df.dtypes"
   ]
  },
  {
   "cell_type": "code",
   "execution_count": 86,
   "id": "4628e3bf",
   "metadata": {},
   "outputs": [
    {
     "data": {
      "text/plain": [
       "a       int64\n",
       "b       int64\n",
       "c    category\n",
       "dtype: object"
      ]
     },
     "execution_count": 86,
     "metadata": {},
     "output_type": "execute_result"
    }
   ],
   "source": [
    "df['c'] = pd.Categorical(df['c'])\n",
    "df.dtypes"
   ]
  },
  {
   "cell_type": "code",
   "execution_count": 87,
   "id": "6e1d186e",
   "metadata": {},
   "outputs": [
    {
     "data": {
      "text/html": [
       "<div>\n",
       "<style scoped>\n",
       "    .dataframe tbody tr th:only-of-type {\n",
       "        vertical-align: middle;\n",
       "    }\n",
       "\n",
       "    .dataframe tbody tr th {\n",
       "        vertical-align: top;\n",
       "    }\n",
       "\n",
       "    .dataframe thead th {\n",
       "        text-align: right;\n",
       "    }\n",
       "</style>\n",
       "<table border=\"1\" class=\"dataframe\">\n",
       "  <thead>\n",
       "    <tr style=\"text-align: right;\">\n",
       "      <th></th>\n",
       "      <th>a</th>\n",
       "      <th>b</th>\n",
       "      <th>c</th>\n",
       "    </tr>\n",
       "  </thead>\n",
       "  <tbody>\n",
       "    <tr>\n",
       "      <th>0</th>\n",
       "      <td>1</td>\n",
       "      <td>4</td>\n",
       "      <td>7</td>\n",
       "    </tr>\n",
       "    <tr>\n",
       "      <th>1</th>\n",
       "      <td>2</td>\n",
       "      <td>5</td>\n",
       "      <td>8</td>\n",
       "    </tr>\n",
       "    <tr>\n",
       "      <th>2</th>\n",
       "      <td>3</td>\n",
       "      <td>6</td>\n",
       "      <td>9</td>\n",
       "    </tr>\n",
       "  </tbody>\n",
       "</table>\n",
       "</div>"
      ],
      "text/plain": [
       "   a  b  c\n",
       "0  1  4  7\n",
       "1  2  5  8\n",
       "2  3  6  9"
      ]
     },
     "execution_count": 87,
     "metadata": {},
     "output_type": "execute_result"
    }
   ],
   "source": [
    "df"
   ]
  },
  {
   "cell_type": "code",
   "execution_count": 90,
   "id": "0cc85a9e",
   "metadata": {},
   "outputs": [
    {
     "data": {
      "text/plain": [
       "0    7\n",
       "1    8\n",
       "2    9\n",
       "Name: c, dtype: category\n",
       "Categories (3, int64): [7, 8, 9]"
      ]
     },
     "execution_count": 90,
     "metadata": {},
     "output_type": "execute_result"
    }
   ],
   "source": [
    "df.c"
   ]
  },
  {
   "cell_type": "code",
   "execution_count": 91,
   "id": "bb6da02b",
   "metadata": {},
   "outputs": [
    {
     "data": {
      "text/plain": [
       "0    7\n",
       "1    8\n",
       "2    9\n",
       "Name: c, dtype: category\n",
       "Categories (3, object): ['7', '8', '9']"
      ]
     },
     "execution_count": 91,
     "metadata": {},
     "output_type": "execute_result"
    }
   ],
   "source": [
    "datatypes.convert_category_dtype(df, str)\n",
    "df.c"
   ]
  },
  {
   "cell_type": "code",
   "execution_count": 92,
   "id": "5631adbd",
   "metadata": {},
   "outputs": [
    {
     "data": {
      "text/plain": [
       "a       int64\n",
       "b       int64\n",
       "c    category\n",
       "dtype: object"
      ]
     },
     "execution_count": 92,
     "metadata": {},
     "output_type": "execute_result"
    }
   ],
   "source": [
    "df.dtypes"
   ]
  },
  {
   "cell_type": "code",
   "execution_count": 93,
   "id": "4ccf11c2",
   "metadata": {},
   "outputs": [
    {
     "data": {
      "text/html": [
       "<div>\n",
       "<style scoped>\n",
       "    .dataframe tbody tr th:only-of-type {\n",
       "        vertical-align: middle;\n",
       "    }\n",
       "\n",
       "    .dataframe tbody tr th {\n",
       "        vertical-align: top;\n",
       "    }\n",
       "\n",
       "    .dataframe thead th {\n",
       "        text-align: right;\n",
       "    }\n",
       "</style>\n",
       "<table border=\"1\" class=\"dataframe\">\n",
       "  <thead>\n",
       "    <tr style=\"text-align: right;\">\n",
       "      <th></th>\n",
       "      <th>a</th>\n",
       "      <th>b</th>\n",
       "      <th>c</th>\n",
       "    </tr>\n",
       "  </thead>\n",
       "  <tbody>\n",
       "    <tr>\n",
       "      <th>0</th>\n",
       "      <td>1</td>\n",
       "      <td>4</td>\n",
       "      <td>7</td>\n",
       "    </tr>\n",
       "    <tr>\n",
       "      <th>1</th>\n",
       "      <td>2</td>\n",
       "      <td>5</td>\n",
       "      <td>8</td>\n",
       "    </tr>\n",
       "    <tr>\n",
       "      <th>2</th>\n",
       "      <td>3</td>\n",
       "      <td>6</td>\n",
       "      <td>9</td>\n",
       "    </tr>\n",
       "  </tbody>\n",
       "</table>\n",
       "</div>"
      ],
      "text/plain": [
       "   a  b  c\n",
       "0  1  4  7\n",
       "1  2  5  8\n",
       "2  3  6  9"
      ]
     },
     "execution_count": 93,
     "metadata": {},
     "output_type": "execute_result"
    }
   ],
   "source": [
    "df"
   ]
  },
  {
   "cell_type": "code",
   "execution_count": 96,
   "id": "fb3912c2",
   "metadata": {},
   "outputs": [
    {
     "data": {
      "text/plain": [
       "0    1\n",
       "1    2\n",
       "2    1\n",
       "Name: d, dtype: category\n",
       "Categories (3, object): [1, 2, '1']"
      ]
     },
     "execution_count": 96,
     "metadata": {},
     "output_type": "execute_result"
    }
   ],
   "source": [
    "df['d'] = pd.Categorical([1,2,'1'])\n",
    "df.d"
   ]
  },
  {
   "cell_type": "code",
   "execution_count": 97,
   "id": "82b2027b",
   "metadata": {},
   "outputs": [
    {
     "data": {
      "text/plain": [
       "0    1\n",
       "1    2\n",
       "2    1\n",
       "Name: d, dtype: category\n",
       "Categories (2, object): ['1', '2']"
      ]
     },
     "execution_count": 97,
     "metadata": {},
     "output_type": "execute_result"
    }
   ],
   "source": [
    "datatypes.convert_category_dtype(df, str)\n",
    "df.d"
   ]
  },
  {
   "cell_type": "code",
   "execution_count": 98,
   "id": "b181fa00",
   "metadata": {},
   "outputs": [
    {
     "data": {
      "text/plain": [
       "a       int64\n",
       "b       int64\n",
       "c    category\n",
       "d    category\n",
       "dtype: object"
      ]
     },
     "execution_count": 98,
     "metadata": {},
     "output_type": "execute_result"
    }
   ],
   "source": [
    "df.dtypes"
   ]
  },
  {
   "cell_type": "code",
   "execution_count": 99,
   "id": "f4418afd",
   "metadata": {},
   "outputs": [
    {
     "data": {
      "text/html": [
       "<div>\n",
       "<style scoped>\n",
       "    .dataframe tbody tr th:only-of-type {\n",
       "        vertical-align: middle;\n",
       "    }\n",
       "\n",
       "    .dataframe tbody tr th {\n",
       "        vertical-align: top;\n",
       "    }\n",
       "\n",
       "    .dataframe thead th {\n",
       "        text-align: right;\n",
       "    }\n",
       "</style>\n",
       "<table border=\"1\" class=\"dataframe\">\n",
       "  <thead>\n",
       "    <tr style=\"text-align: right;\">\n",
       "      <th></th>\n",
       "      <th>a</th>\n",
       "      <th>b</th>\n",
       "      <th>c</th>\n",
       "      <th>d</th>\n",
       "    </tr>\n",
       "  </thead>\n",
       "  <tbody>\n",
       "    <tr>\n",
       "      <th>0</th>\n",
       "      <td>1</td>\n",
       "      <td>4</td>\n",
       "      <td>7</td>\n",
       "      <td>1</td>\n",
       "    </tr>\n",
       "    <tr>\n",
       "      <th>1</th>\n",
       "      <td>2</td>\n",
       "      <td>5</td>\n",
       "      <td>8</td>\n",
       "      <td>2</td>\n",
       "    </tr>\n",
       "    <tr>\n",
       "      <th>2</th>\n",
       "      <td>3</td>\n",
       "      <td>6</td>\n",
       "      <td>9</td>\n",
       "      <td>1</td>\n",
       "    </tr>\n",
       "  </tbody>\n",
       "</table>\n",
       "</div>"
      ],
      "text/plain": [
       "   a  b  c  d\n",
       "0  1  4  7  1\n",
       "1  2  5  8  2\n",
       "2  3  6  9  1"
      ]
     },
     "execution_count": 99,
     "metadata": {},
     "output_type": "execute_result"
    }
   ],
   "source": [
    "df"
   ]
  },
  {
   "cell_type": "markdown",
   "id": "e3361369",
   "metadata": {},
   "source": [
    "# Test the functions when there are more categories"
   ]
  },
  {
   "cell_type": "code",
   "execution_count": 100,
   "id": "c5fc3af5",
   "metadata": {},
   "outputs": [
    {
     "data": {
      "text/plain": [
       "3"
      ]
     },
     "execution_count": 100,
     "metadata": {},
     "output_type": "execute_result"
    }
   ],
   "source": [
    "int(3.5)"
   ]
  },
  {
   "cell_type": "code",
   "execution_count": 103,
   "id": "61502beb",
   "metadata": {},
   "outputs": [
    {
     "name": "stdout",
     "output_type": "stream",
     "text": [
      "CPU times: user 931 ms, sys: 39.1 ms, total: 970 ms\n",
      "Wall time: 967 ms\n"
     ]
    },
    {
     "data": {
      "text/plain": [
       "0           0\n",
       "1           1\n",
       "2           2\n",
       "3           3\n",
       "4           4\n",
       "         ... \n",
       "999995    789\n",
       "999996    456\n",
       "999997    456\n",
       "999998    789\n",
       "999999    456\n",
       "Length: 1000000, dtype: category\n",
       "Categories (666666, object): [0, 1, 2, 3, ..., '99996', '99997', '99998', '99999']"
      ]
     },
     "execution_count": 103,
     "metadata": {},
     "output_type": "execute_result"
    }
   ],
   "source": [
    "%%time\n",
    "rng = np.random.default_rng(456456)\n",
    "size = 1_000_000\n",
    "frac = 1/3\n",
    "num = int(size*frac)\n",
    "ints = range(num)\n",
    "strs = map(str, ints)\n",
    "remaining = rng.choice(['1', '456', '789', 1, 456, 789, 789], size=size-2*num)\n",
    "many_cats = pd.concat([pd.Series(ints), pd.Series(strs), pd.Series(remaining)], ignore_index=True).astype('category')\n",
    "many_cats"
   ]
  },
  {
   "cell_type": "code",
   "execution_count": 104,
   "id": "20d9da7d",
   "metadata": {},
   "outputs": [
    {
     "name": "stdout",
     "output_type": "stream",
     "text": [
      "True\n",
      "True\n",
      "True\n",
      "CPU times: user 5.64 s, sys: 175 ms, total: 5.81 s\n",
      "Wall time: 5.81 s\n"
     ]
    }
   ],
   "source": [
    "%%time\n",
    "many_cats_str_s = merge_series_categories(many_cats, cat_func)\n",
    "many_cats_str1 = pd.Series(merge_categories1(many_cats.cat, cat_func))\n",
    "many_cats_str2 = pd.Series(merge_categories2(many_cats.cat, cat_func))\n",
    "many_cats_str3 = pd.Series(merge_categories3(many_cats.cat, cat_func))\n",
    "for series in [many_cats_str1, many_cats_str2, many_cats_str3]:\n",
    "    print(series.equals(many_cats_str_s))"
   ]
  },
  {
   "cell_type": "code",
   "execution_count": 105,
   "id": "b82651b4",
   "metadata": {},
   "outputs": [
    {
     "name": "stdout",
     "output_type": "stream",
     "text": [
      "540 ms ± 686 µs per loop (mean ± std. dev. of 7 runs, 1 loop each)\n",
      "996 ms ± 3.87 ms per loop (mean ± std. dev. of 7 runs, 1 loop each)\n",
      "2.93 s ± 14.2 ms per loop (mean ± std. dev. of 7 runs, 1 loop each)\n",
      "868 ms ± 718 µs per loop (mean ± std. dev. of 7 runs, 1 loop each)\n"
     ]
    }
   ],
   "source": [
    "%timeit merge_series_categories(many_cats, cat_func)\n",
    "%timeit pd.Series(merge_categories1(many_cats.cat, cat_func))\n",
    "%timeit pd.Series(merge_categories2(many_cats.cat, cat_func))\n",
    "%timeit pd.Series(merge_categories3(many_cats.cat, cat_func))"
   ]
  },
  {
   "cell_type": "code",
   "execution_count": 106,
   "id": "63a753d1",
   "metadata": {},
   "outputs": [
    {
     "data": {
      "text/plain": [
       "53.797325"
      ]
     },
     "execution_count": 106,
     "metadata": {},
     "output_type": "execute_result"
    }
   ],
   "source": [
    "sizemb(many_cats)"
   ]
  },
  {
   "cell_type": "code",
   "execution_count": 107,
   "id": "5fa54c72",
   "metadata": {},
   "outputs": [
    {
     "data": {
      "text/plain": [
       "31.808854"
      ]
     },
     "execution_count": 107,
     "metadata": {},
     "output_type": "execute_result"
    }
   ],
   "source": [
    "sizemb(pd.concat([pd.Series(ints), pd.Series(strs), pd.Series(remaining)], ignore_index=True))"
   ]
  },
  {
   "cell_type": "markdown",
   "id": "09aa905c",
   "metadata": {},
   "source": [
    "# Write functions to check runtime and memory usage for a range of numbers of categories"
   ]
  },
  {
   "cell_type": "code",
   "execution_count": 109,
   "id": "6a555029",
   "metadata": {},
   "outputs": [
    {
     "data": {
      "text/plain": [
       "(2.0, 2)"
      ]
     },
     "execution_count": 109,
     "metadata": {},
     "output_type": "execute_result"
    }
   ],
   "source": [
    "4/2, 5//2"
   ]
  },
  {
   "cell_type": "code",
   "execution_count": 112,
   "id": "db7637af",
   "metadata": {},
   "outputs": [
    {
     "data": {
      "text/plain": [
       "array([2, 1, 1, 3, 1, 2, 1, 1, 3, 1])"
      ]
     },
     "execution_count": 112,
     "metadata": {},
     "output_type": "execute_result"
    }
   ],
   "source": [
    "temp = rng.choice([1,2,3], 10)\n",
    "temp"
   ]
  },
  {
   "cell_type": "code",
   "execution_count": 113,
   "id": "a823ca04",
   "metadata": {},
   "outputs": [
    {
     "data": {
      "text/plain": [
       "array(['2', '1', '1', '3', '1', '2', '1', '1', '3', '1'], dtype='<U21')"
      ]
     },
     "execution_count": 113,
     "metadata": {},
     "output_type": "execute_result"
    }
   ],
   "source": [
    "temp.astype(str)"
   ]
  },
  {
   "cell_type": "code",
   "execution_count": null,
   "id": "075678e2",
   "metadata": {},
   "outputs": [],
   "source": [
    "rng.choice()"
   ]
  },
  {
   "cell_type": "code",
   "execution_count": 121,
   "id": "6282728e",
   "metadata": {},
   "outputs": [
    {
     "name": "stdout",
     "output_type": "stream",
     "text": [
      "CPU times: user 131 ms, sys: 44.2 ms, total: 175 ms\n",
      "Wall time: 173 ms\n"
     ]
    },
    {
     "data": {
      "text/plain": [
       "0              0\n",
       "1              1\n",
       "2              2\n",
       "3              3\n",
       "4              4\n",
       "           ...  \n",
       "999995    119278\n",
       "999996     62213\n",
       "999997    119682\n",
       "999998    119682\n",
       "999999     13572\n",
       "Length: 1000000, dtype: object"
      ]
     },
     "execution_count": 121,
     "metadata": {},
     "output_type": "execute_result"
    }
   ],
   "source": [
    "%%time\n",
    "def get_series(cat_frac, size=1_000_000, random_state=None):\n",
    "    rng = np.random.default_rng(random_state)\n",
    "    num_repeated = 20 # could pass this as a parameter, but it shouldn't be very important\n",
    "    num_cats = int(size*cat_frac)\n",
    "    if num_cats % 2:\n",
    "        num_cats -= 1\n",
    "    ints = range(num_cats//2)\n",
    "    strs = map(str, ints)\n",
    "    repeated = rng.choice(ints, size=num_repeated)\n",
    "    repeated = [*repeated, *repeated.astype(str)]\n",
    "    remaining = rng.choice(repeated, size=size-num_cats)\n",
    "    series = pd.concat(\n",
    "        [pd.Series(ints), pd.Series(strs), pd.Series(remaining)],\n",
    "        ignore_index=True)\n",
    "    return series\n",
    "\n",
    "seed=456456\n",
    "t = get_series(1/4, random_state=seed)\n",
    "t"
   ]
  },
  {
   "cell_type": "code",
   "execution_count": 122,
   "id": "bbd2978c",
   "metadata": {},
   "outputs": [
    {
     "data": {
      "text/plain": [
       "0              0\n",
       "1              1\n",
       "2              2\n",
       "3              3\n",
       "4              4\n",
       "           ...  \n",
       "999995    119278\n",
       "999996     62213\n",
       "999997    119682\n",
       "999998    119682\n",
       "999999     13572\n",
       "Length: 1000000, dtype: category\n",
       "Categories (250000, object): [0, 1, 2, 3, ..., '99996', '99997', '99998', '99999']"
      ]
     },
     "execution_count": 122,
     "metadata": {},
     "output_type": "execute_result"
    }
   ],
   "source": [
    "t_cat = t.astype('category')\n",
    "t_cat"
   ]
  },
  {
   "cell_type": "code",
   "execution_count": 123,
   "id": "4b122396",
   "metadata": {},
   "outputs": [
    {
     "name": "stdout",
     "output_type": "stream",
     "text": [
      "Series: 58.951222 MB\n",
      "Categ : 24.718214 MB\n",
      "202 ms ± 403 µs per loop (mean ± std. dev. of 7 runs, 1 loop each)\n",
      "306 ms ± 1.05 ms per loop (mean ± std. dev. of 7 runs, 1 loop each)\n",
      "2.56 s ± 8.06 ms per loop (mean ± std. dev. of 7 runs, 1 loop each)\n",
      "430 ms ± 1.75 ms per loop (mean ± std. dev. of 7 runs, 1 loop each)\n"
     ]
    }
   ],
   "source": [
    "def measure_stuff(series, cat_func):\n",
    "    cat_series = series.astype('category')\n",
    "    print(\"Series:\", sizemb(series), \"MB\")\n",
    "    print(\"Categ :\", sizemb(cat_series), \"MB\")\n",
    "    %timeit merge_series_categories(cat_series, cat_func)\n",
    "    %timeit pd.Series(merge_categories1(cat_series.cat, cat_func))\n",
    "    %timeit pd.Series(merge_categories2(cat_series.cat, cat_func))\n",
    "    %timeit pd.Series(merge_categories3(cat_series.cat, cat_func))\n",
    "\n",
    "measure_stuff(t, cat_func)"
   ]
  },
  {
   "cell_type": "code",
   "execution_count": 124,
   "id": "1b266ffe",
   "metadata": {},
   "outputs": [
    {
     "name": "stdout",
     "output_type": "stream",
     "text": [
      "Cat fraction: 0.01\n",
      "Series: 60.57726 MB\n",
      "Categ : 2.748262 MB\n",
      "69.4 ms ± 398 µs per loop (mean ± std. dev. of 7 runs, 10 loops each)\n",
      "17.4 ms ± 32.3 µs per loop (mean ± std. dev. of 7 runs, 100 loops each)\n",
      "2.37 s ± 8.73 ms per loop (mean ± std. dev. of 7 runs, 1 loop each)\n",
      "246 ms ± 952 µs per loop (mean ± std. dev. of 7 runs, 1 loop each)\n",
      "\n",
      "Cat fraction: 0.1\n",
      "Series: 60.41923 MB\n",
      "Categ : 11.002606 MB\n",
      "106 ms ± 381 µs per loop (mean ± std. dev. of 7 runs, 10 loops each)\n",
      "119 ms ± 260 µs per loop (mean ± std. dev. of 7 runs, 10 loops each)\n",
      "2.43 s ± 6.17 ms per loop (mean ± std. dev. of 7 runs, 1 loop each)\n",
      "303 ms ± 719 µs per loop (mean ± std. dev. of 7 runs, 1 loop each)\n",
      "\n",
      "Cat fraction: 0.25\n",
      "Series: 58.763883 MB\n",
      "Categ : 24.718214 MB\n",
      "204 ms ± 1 ms per loop (mean ± std. dev. of 7 runs, 1 loop each)\n",
      "314 ms ± 1.35 ms per loop (mean ± std. dev. of 7 runs, 1 loop each)\n",
      "2.54 s ± 4.66 ms per loop (mean ± std. dev. of 7 runs, 1 loop each)\n",
      "435 ms ± 1.73 ms per loop (mean ± std. dev. of 7 runs, 1 loop each)\n",
      "\n",
      "Cat fraction: 0.3333333333333333\n",
      "Series: 57.888968 MB\n",
      "Categ : 28.843148 MB\n",
      "283 ms ± 3.31 ms per loop (mean ± std. dev. of 7 runs, 1 loop each)\n",
      "425 ms ± 642 µs per loop (mean ± std. dev. of 7 runs, 1 loop each)\n",
      "2.62 s ± 8.81 ms per loop (mean ± std. dev. of 7 runs, 1 loop each)\n",
      "504 ms ± 2.58 ms per loop (mean ± std. dev. of 7 runs, 1 loop each)\n",
      "\n"
     ]
    }
   ],
   "source": [
    "seed = 890890\n",
    "for cat_frac in [1/100, 1/10, 1/4, 1/3]:\n",
    "    print(\"Cat fraction:\", cat_frac)\n",
    "    temp = get_series(cat_frac, random_state=seed)\n",
    "    measure_stuff(temp, cat_func)\n",
    "    print()"
   ]
  },
  {
   "cell_type": "code",
   "execution_count": 125,
   "id": "1e851e27",
   "metadata": {},
   "outputs": [
    {
     "name": "stdout",
     "output_type": "stream",
     "text": [
      "Cat fraction: 0.5\n",
      "Series: 55.888951 MB\n",
      "Categ : 45.547358 MB\n",
      "417 ms ± 1.5 ms per loop (mean ± std. dev. of 7 runs, 1 loop each)\n",
      "733 ms ± 2.76 ms per loop (mean ± std. dev. of 7 runs, 1 loop each)\n",
      "2.79 s ± 10.5 ms per loop (mean ± std. dev. of 7 runs, 1 loop each)\n",
      "682 ms ± 2.29 ms per loop (mean ± std. dev. of 7 runs, 1 loop each)\n",
      "\n",
      "Cat fraction: 0.6666666666666666\n",
      "Series: 53.789261 MB\n",
      "Categ : 53.797325 MB\n",
      "535 ms ± 867 µs per loop (mean ± std. dev. of 7 runs, 1 loop each)\n",
      "993 ms ± 3.75 ms per loop (mean ± std. dev. of 7 runs, 1 loop each)\n",
      "2.96 s ± 17.6 ms per loop (mean ± std. dev. of 7 runs, 1 loop each)\n",
      "859 ms ± 3.92 ms per loop (mean ± std. dev. of 7 runs, 1 loop each)\n",
      "\n"
     ]
    }
   ],
   "source": [
    "seed = 890890\n",
    "for cat_frac in [1/2, 2/3]:\n",
    "    print(\"Cat fraction:\", cat_frac)\n",
    "    temp = get_series(cat_frac, random_state=seed)\n",
    "    measure_stuff(temp, cat_func)\n",
    "    print()"
   ]
  },
  {
   "cell_type": "code",
   "execution_count": null,
   "id": "6a806807",
   "metadata": {},
   "outputs": [],
   "source": []
  },
  {
   "cell_type": "code",
   "execution_count": null,
   "id": "82db748e",
   "metadata": {},
   "outputs": [],
   "source": []
  }
 ],
 "metadata": {
  "kernelspec": {
   "display_name": "Python 3 (ipykernel)",
   "language": "python",
   "name": "python3"
  },
  "language_info": {
   "codemirror_mode": {
    "name": "ipython",
    "version": 3
   },
   "file_extension": ".py",
   "mimetype": "text/x-python",
   "name": "python",
   "nbconvert_exporter": "python",
   "pygments_lexer": "ipython3",
   "version": "3.8.13"
  }
 },
 "nbformat": 4,
 "nbformat_minor": 5
}
