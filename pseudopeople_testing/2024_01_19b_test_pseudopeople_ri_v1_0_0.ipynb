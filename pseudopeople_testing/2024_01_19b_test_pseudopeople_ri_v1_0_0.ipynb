{
 "cells": [
  {
   "cell_type": "code",
   "execution_count": 1,
   "id": "e37093fa-bb35-42d5-8b2e-49d31060dae3",
   "metadata": {},
   "outputs": [],
   "source": [
    "%load_ext autoreload\n",
    "%autoreload 2"
   ]
  },
  {
   "cell_type": "code",
   "execution_count": 1,
   "id": "f1533981-08d8-45eb-9c24-0908ccf27a75",
   "metadata": {},
   "outputs": [
    {
     "name": "stderr",
     "output_type": "stream",
     "text": [
      "2024-01-19 17:04:16,183 - matplotlib - DEBUG - matplotlib data path: /ihme/homes/ndbs/miniconda3/envs/ppplv1.0-311/lib/python3.11/site-packages/matplotlib/mpl-data\n",
      "2024-01-19 17:04:16,196 - matplotlib - DEBUG - CONFIGDIR=/ihme/homes/ndbs/.config/matplotlib\n",
      "2024-01-19 17:04:16,199 - matplotlib - DEBUG - interactive is False\n",
      "2024-01-19 17:04:16,200 - matplotlib - DEBUG - platform is linux\n",
      "2024-01-19 17:04:16,333 - matplotlib - DEBUG - CACHEDIR=/ihme/homes/ndbs/.cache/matplotlib\n",
      "2024-01-19 17:04:16,336 - matplotlib.font_manager - DEBUG - Using fontManager instance from /ihme/homes/ndbs/.cache/matplotlib/fontlist-v330.json\n",
      "2024-01-19 17:04:17,007 - numexpr.utils - INFO - Note: NumExpr detected 56 cores but \"NUMEXPR_MAX_THREADS\" not set, so enforcing safe limit of 8.\n"
     ]
    },
    {
     "name": "stdout",
     "output_type": "stream",
     "text": [
      "Fri 19 Jan 2024 05:04:21 PM PST\n",
      "ndbs\n",
      "Linux gen-slurm-sarchive-p0126 5.4.0-156-generic #173-Ubuntu SMP Tue Jul 11 07:25:22 UTC 2023 x86_64 x86_64 x86_64 GNU/Linux\n",
      "/mnt/share/code/ndbs/vivarium_research_prl/pseudopeople_testing\n",
      "Python 3.11.7\n",
      "ppplv1.0-311          *  /ihme/homes/ndbs/miniconda3/envs/ppplv1.0-311\n",
      "numpy                     1.26.3                   pypi_0    pypi\n",
      "pandas                    2.1.4                    pypi_0    pypi\n",
      "pseudopeople              0.7.2                    pypi_0    pypi\n",
      "vivarium                  2.3.1                    pypi_0    pypi\n",
      "vivarium-research-prl     0.0.1                     dev_0    <develop>\n",
      "pseudopeople @ git+https://github.com/ihmeuw/pseudopeople.git@7d7e1db36125700fdd75ae9c667706d20b451bfd\n"
     ]
    }
   ],
   "source": [
    "import logging\n",
    "logging.basicConfig(level=logging.DEBUG, format='{asctime} - {name} - {levelname} - {message}', style='{')\n",
    "import numpy as np, matplotlib.pyplot as plt, pandas as pd\n",
    "# For finding and loading multiple files\n",
    "import os\n",
    "# Use this to see how much memory the dataframes use\n",
    "from sys import getsizeof\n",
    "from pathlib import Path\n",
    "from linetimer import CodeTimer, linetimer\n",
    "\n",
    "import pseudopeople as psp\n",
    "\n",
    "from vivarium_research_prl.utils import sizemb, MappingViaAttributes, build_full_address\n",
    "from vivarium_research_prl import alpha\n",
    "\n",
    "!date\n",
    "!whoami\n",
    "!uname -a\n",
    "!pwd\n",
    "!python --version\n",
    "!conda info --envs | grep '\\*'\n",
    "!conda list | grep -e pandas -e numpy -e vivarium -e pseudopeople\n",
    "!pip freeze | grep pseudopeople"
   ]
  },
  {
   "cell_type": "code",
   "execution_count": 2,
   "id": "ef0435af-212a-49d9-a02b-13f21e22a8f0",
   "metadata": {},
   "outputs": [
    {
     "name": "stdout",
     "output_type": "stream",
     "text": [
      "https://github.com/ihmeuw/pseudopeople/tree/7d7e1db36125700fdd75ae9c667706d20b451bfd\n"
     ]
    }
   ],
   "source": [
    "# A clickable link to the GitHub UI to see what version I'm using\n",
    "! pip freeze | grep pseudopeople | sed -e 's|pseudopeople @ ||' | sed -e 's|git+||' | sed -e 's|\\.git@|/tree/|'"
   ]
  },
  {
   "cell_type": "markdown",
   "id": "358cc711-d4fa-422a-a18d-4da31fa4c5e4",
   "metadata": {},
   "source": [
    "# Find data\n",
    "\n",
    "```\n",
    "/mnt/team/simulation_science/pub/models/vivarium_census_prl_synth_pop\n",
    "```"
   ]
  },
  {
   "cell_type": "code",
   "execution_count": 30,
   "id": "2fe88d7c-4b71-4d62-843e-0a26f527ef2d",
   "metadata": {},
   "outputs": [],
   "source": [
    "project_path = Path('/mnt/team/simulation_science/pub/models/vivarium_census_prl_synth_pop')\n",
    "usa_path = project_path / 'results/release_02_yellow/full_data/united_states_of_america'\n",
    "latest_run = usa_path / 'latest'\n",
    "best_run = usa_path / 'best'\n",
    "latest_run_path = usa_path / '2023_08_21_16_35_27/final_results/2024_01_11_07_27_51/pseudopeople_input_data_usa_2.0.0'\n",
    "best_run_path = usa_path / '2023_07_28_08_33_09/final_results/2023_07_31_08_59_48/'\n",
    "\n",
    "ri_data_dir = best_run_path / 'states/pseudopeople_input_data_rhode_island_0.0.2'\n",
    "usa_data_dir = best_run_path / 'pseudopeople_input_data_usa_0.0.2'\n"
   ]
  },
  {
   "cell_type": "code",
   "execution_count": 21,
   "id": "246de8f3-d77a-4711-8ccb-21c4d1cb7d61",
   "metadata": {},
   "outputs": [
    {
     "name": "stdout",
     "output_type": "stream",
     "text": [
      "lrwxrwxrwx 1 albrja IHME-Simulationscience 218 Jan 11 12:08 /mnt/team/simulation_science/pub/models/vivarium_census_prl_synth_pop/results/release_02_yellow/full_data/united_states_of_america/latest -> /mnt/team/simulation_science/pub/models/vivarium_census_prl_synth_pop/results/release_02_yellow/full_data/united_states_of_america/2023_08_21_16_35_27/final_results/2024_01_11_07_27_51/pseudopeople_input_data_usa_2.0.0\n"
     ]
    }
   ],
   "source": [
    "!ls -halt $project_path/results/release_02_yellow/full_data/united_states_of_america/latest"
   ]
  },
  {
   "cell_type": "code",
   "execution_count": 31,
   "id": "d1d4e113-9956-4dcc-a12a-da29118cd229",
   "metadata": {},
   "outputs": [
    {
     "name": "stdout",
     "output_type": "stream",
     "text": [
      "american_community_survey  taxes_1040\t      women_infants_and_children\n",
      "current_population_survey  taxes_dependents\n",
      "decennial_census\t   taxes_w2_and_1099\n"
     ]
    }
   ],
   "source": [
    "!ls $ri_data_dir"
   ]
  },
  {
   "cell_type": "markdown",
   "id": "e3061306-a222-4b5f-985d-412bb1aff463",
   "metadata": {},
   "source": [
    "# Set up a logger to log to file"
   ]
  },
  {
   "cell_type": "code",
   "execution_count": 29,
   "id": "e9258bfd-fa6b-44eb-9427-99f3f5095614",
   "metadata": {},
   "outputs": [],
   "source": [
    "# Set up a logger\n",
    "file_logger = logging.getLogger(__name__) # This gets a new logger for the current, __main__ module\n",
    "\n",
    "# Create and configure file log handler\n",
    "file_handler = logging.FileHandler('data_generation_20210119.log')\n",
    "file_handler.setLevel(logging.DEBUG)\n",
    "file_format = logging.Formatter('%(asctime)s - %(name)s - %(levelname)s - %(message)s')\n",
    "file_handler.setFormatter(file_format)\n",
    "\n",
    "# Add handlers to the logger\n",
    "# logger.addHandler(console_handler)\n",
    "file_logger.addHandler(file_handler)"
   ]
  },
  {
   "cell_type": "code",
   "execution_count": null,
   "id": "27f64ab0-96a4-451e-bd87-8009458ebb34",
   "metadata": {},
   "outputs": [],
   "source": []
  },
  {
   "cell_type": "code",
   "execution_count": 32,
   "id": "6adf1800-25b2-44c3-b5e5-073ba6149dac",
   "metadata": {},
   "outputs": [
    {
     "name": "stderr",
     "output_type": "stream",
     "text": [
      "2024-01-19 17:20:30,579 - vivarium_research_prl.alpha - ERROR - Exception occurred\n",
      "Traceback (most recent call last):\n",
      "  File \"/mnt/share/code/ndbs/vivarium_research_prl/src/vivarium_research_prl/alpha.py\", line 40, in value_or_error\n",
      "    return f(*args, **kwargs)\n",
      "           ^^^^^^^^^^^^^^^^^^\n",
      "  File \"/ihme/homes/ndbs/miniconda3/envs/ppplv1.0-311/lib/python3.11/site-packages/pseudopeople/interface.py\", line 376, in generate_american_community_survey\n",
      "    return _generate_dataset(DATASETS.acs, source, seed, config, user_filters, verbose)\n",
      "           ^^^^^^^^^^^^^^^^^^^^^^^^^^^^^^^^^^^^^^^^^^^^^^^^^^^^^^^^^^^^^^^^^^^^^^^^^^^^\n",
      "  File \"/ihme/homes/ndbs/miniconda3/envs/ppplv1.0-311/lib/python3.11/site-packages/pseudopeople/interface.py\", line 61, in _generate_dataset\n",
      "    validate_source_compatibility(source, dataset)\n",
      "  File \"/ihme/homes/ndbs/miniconda3/envs/ppplv1.0-311/lib/python3.11/site-packages/pseudopeople/interface.py\", line 137, in validate_source_compatibility\n",
      "    raise DataSourceError(\n",
      "pseudopeople.exceptions.DataSourceError: The provided simulated population data is incompatible with this version of pseudopeople (0.7.2).\n",
      "An older version of simulated population data has been provided.\n",
      "Please either request updated simulated population data or downgrade the pseudopeople package.\n",
      "2024-01-19 17:20:30,584 - __main__ - INFO - Code block 'generate_american_community_survey' took: 0.00263 m\n",
      "2024-01-19 17:20:30,603 - vivarium_research_prl.alpha - ERROR - Exception occurred\n",
      "Traceback (most recent call last):\n",
      "  File \"/mnt/share/code/ndbs/vivarium_research_prl/src/vivarium_research_prl/alpha.py\", line 40, in value_or_error\n",
      "    return f(*args, **kwargs)\n",
      "           ^^^^^^^^^^^^^^^^^^\n",
      "  File \"/ihme/homes/ndbs/miniconda3/envs/ppplv1.0-311/lib/python3.11/site-packages/pseudopeople/interface.py\", line 480, in generate_current_population_survey\n",
      "    return _generate_dataset(DATASETS.cps, source, seed, config, user_filters, verbose)\n",
      "           ^^^^^^^^^^^^^^^^^^^^^^^^^^^^^^^^^^^^^^^^^^^^^^^^^^^^^^^^^^^^^^^^^^^^^^^^^^^^\n",
      "  File \"/ihme/homes/ndbs/miniconda3/envs/ppplv1.0-311/lib/python3.11/site-packages/pseudopeople/interface.py\", line 61, in _generate_dataset\n",
      "    validate_source_compatibility(source, dataset)\n",
      "  File \"/ihme/homes/ndbs/miniconda3/envs/ppplv1.0-311/lib/python3.11/site-packages/pseudopeople/interface.py\", line 137, in validate_source_compatibility\n",
      "    raise DataSourceError(\n",
      "pseudopeople.exceptions.DataSourceError: The provided simulated population data is incompatible with this version of pseudopeople (0.7.2).\n",
      "An older version of simulated population data has been provided.\n",
      "Please either request updated simulated population data or downgrade the pseudopeople package.\n",
      "2024-01-19 17:20:30,605 - __main__ - INFO - Code block 'generate_current_population_survey' took: 0.00032 m\n",
      "2024-01-19 17:20:30,622 - vivarium_research_prl.alpha - ERROR - Exception occurred\n",
      "Traceback (most recent call last):\n",
      "  File \"/mnt/share/code/ndbs/vivarium_research_prl/src/vivarium_research_prl/alpha.py\", line 40, in value_or_error\n",
      "    return f(*args, **kwargs)\n",
      "           ^^^^^^^^^^^^^^^^^^\n",
      "  File \"/ihme/homes/ndbs/miniconda3/envs/ppplv1.0-311/lib/python3.11/site-packages/pseudopeople/interface.py\", line 273, in generate_decennial_census\n",
      "    return _generate_dataset(DATASETS.census, source, seed, config, user_filters, verbose)\n",
      "           ^^^^^^^^^^^^^^^^^^^^^^^^^^^^^^^^^^^^^^^^^^^^^^^^^^^^^^^^^^^^^^^^^^^^^^^^^^^^^^^\n",
      "  File \"/ihme/homes/ndbs/miniconda3/envs/ppplv1.0-311/lib/python3.11/site-packages/pseudopeople/interface.py\", line 61, in _generate_dataset\n",
      "    validate_source_compatibility(source, dataset)\n",
      "  File \"/ihme/homes/ndbs/miniconda3/envs/ppplv1.0-311/lib/python3.11/site-packages/pseudopeople/interface.py\", line 137, in validate_source_compatibility\n",
      "    raise DataSourceError(\n",
      "pseudopeople.exceptions.DataSourceError: The provided simulated population data is incompatible with this version of pseudopeople (0.7.2).\n",
      "An older version of simulated population data has been provided.\n",
      "Please either request updated simulated population data or downgrade the pseudopeople package.\n",
      "2024-01-19 17:20:30,623 - __main__ - INFO - Code block 'generate_decennial_census' took: 0.00028 m\n",
      "2024-01-19 17:20:30,640 - vivarium_research_prl.alpha - ERROR - Exception occurred\n",
      "Traceback (most recent call last):\n",
      "  File \"/mnt/share/code/ndbs/vivarium_research_prl/src/vivarium_research_prl/alpha.py\", line 40, in value_or_error\n",
      "    return f(*args, **kwargs)\n",
      "           ^^^^^^^^^^^^^^^^^^\n",
      "  File \"/ihme/homes/ndbs/miniconda3/envs/ppplv1.0-311/lib/python3.11/site-packages/pseudopeople/interface.py\", line 724, in generate_social_security\n",
      "    return _generate_dataset(DATASETS.ssa, source, seed, config, user_filters, verbose)\n",
      "           ^^^^^^^^^^^^^^^^^^^^^^^^^^^^^^^^^^^^^^^^^^^^^^^^^^^^^^^^^^^^^^^^^^^^^^^^^^^^\n",
      "  File \"/ihme/homes/ndbs/miniconda3/envs/ppplv1.0-311/lib/python3.11/site-packages/pseudopeople/interface.py\", line 61, in _generate_dataset\n",
      "    validate_source_compatibility(source, dataset)\n",
      "  File \"/ihme/homes/ndbs/miniconda3/envs/ppplv1.0-311/lib/python3.11/site-packages/pseudopeople/interface.py\", line 116, in validate_source_compatibility\n",
      "    raise FileNotFoundError(\n",
      "FileNotFoundError: Could not find 'social_security' in '/mnt/team/simulation_science/pub/models/vivarium_census_prl_synth_pop/results/release_02_yellow/full_data/united_states_of_america/2023_07_28_08_33_09/final_results/2023_07_31_08_59_48/states/pseudopeople_input_data_rhode_island_0.0.2'. Please check that the provided source directory is correct. If using the sample data, no source is required. If providing a source, a directory should provided that has a subdirectory for 'social_security'. \n",
      "2024-01-19 17:20:30,641 - __main__ - INFO - Code block 'generate_social_security' took: 0.00027 m\n",
      "2024-01-19 17:20:30,658 - vivarium_research_prl.alpha - ERROR - Exception occurred\n",
      "Traceback (most recent call last):\n",
      "  File \"/mnt/share/code/ndbs/vivarium_research_prl/src/vivarium_research_prl/alpha.py\", line 40, in value_or_error\n",
      "    return f(*args, **kwargs)\n",
      "           ^^^^^^^^^^^^^^^^^^\n",
      "  File \"/ihme/homes/ndbs/miniconda3/envs/ppplv1.0-311/lib/python3.11/site-packages/pseudopeople/interface.py\", line 803, in generate_taxes_1040\n",
      "    return _generate_dataset(DATASETS.tax_1040, source, seed, config, user_filters, verbose)\n",
      "           ^^^^^^^^^^^^^^^^^^^^^^^^^^^^^^^^^^^^^^^^^^^^^^^^^^^^^^^^^^^^^^^^^^^^^^^^^^^^^^^^^\n",
      "  File \"/ihme/homes/ndbs/miniconda3/envs/ppplv1.0-311/lib/python3.11/site-packages/pseudopeople/interface.py\", line 61, in _generate_dataset\n",
      "    validate_source_compatibility(source, dataset)\n",
      "  File \"/ihme/homes/ndbs/miniconda3/envs/ppplv1.0-311/lib/python3.11/site-packages/pseudopeople/interface.py\", line 137, in validate_source_compatibility\n",
      "    raise DataSourceError(\n",
      "pseudopeople.exceptions.DataSourceError: The provided simulated population data is incompatible with this version of pseudopeople (0.7.2).\n",
      "An older version of simulated population data has been provided.\n",
      "Please either request updated simulated population data or downgrade the pseudopeople package.\n",
      "2024-01-19 17:20:30,659 - __main__ - INFO - Code block 'generate_taxes_1040' took: 0.00027 m\n",
      "2024-01-19 17:20:30,677 - vivarium_research_prl.alpha - ERROR - Exception occurred\n",
      "Traceback (most recent call last):\n",
      "  File \"/mnt/share/code/ndbs/vivarium_research_prl/src/vivarium_research_prl/alpha.py\", line 40, in value_or_error\n",
      "    return f(*args, **kwargs)\n",
      "           ^^^^^^^^^^^^^^^^^^\n",
      "  File \"/ihme/homes/ndbs/miniconda3/envs/ppplv1.0-311/lib/python3.11/site-packages/pseudopeople/interface.py\", line 559, in generate_taxes_w2_and_1099\n",
      "    return _generate_dataset(\n",
      "           ^^^^^^^^^^^^^^^^^^\n",
      "  File \"/ihme/homes/ndbs/miniconda3/envs/ppplv1.0-311/lib/python3.11/site-packages/pseudopeople/interface.py\", line 61, in _generate_dataset\n",
      "    validate_source_compatibility(source, dataset)\n",
      "  File \"/ihme/homes/ndbs/miniconda3/envs/ppplv1.0-311/lib/python3.11/site-packages/pseudopeople/interface.py\", line 137, in validate_source_compatibility\n",
      "    raise DataSourceError(\n",
      "pseudopeople.exceptions.DataSourceError: The provided simulated population data is incompatible with this version of pseudopeople (0.7.2).\n",
      "An older version of simulated population data has been provided.\n",
      "Please either request updated simulated population data or downgrade the pseudopeople package.\n",
      "2024-01-19 17:20:30,678 - __main__ - INFO - Code block 'generate_taxes_w2_and_1099' took: 0.00029 m\n",
      "2024-01-19 17:20:30,694 - vivarium_research_prl.alpha - ERROR - Exception occurred\n",
      "Traceback (most recent call last):\n",
      "  File \"/mnt/share/code/ndbs/vivarium_research_prl/src/vivarium_research_prl/alpha.py\", line 40, in value_or_error\n",
      "    return f(*args, **kwargs)\n",
      "           ^^^^^^^^^^^^^^^^^^\n",
      "  File \"/ihme/homes/ndbs/miniconda3/envs/ppplv1.0-311/lib/python3.11/site-packages/pseudopeople/interface.py\", line 650, in generate_women_infants_and_children\n",
      "    return _generate_dataset(DATASETS.wic, source, seed, config, user_filters, verbose)\n",
      "           ^^^^^^^^^^^^^^^^^^^^^^^^^^^^^^^^^^^^^^^^^^^^^^^^^^^^^^^^^^^^^^^^^^^^^^^^^^^^\n",
      "  File \"/ihme/homes/ndbs/miniconda3/envs/ppplv1.0-311/lib/python3.11/site-packages/pseudopeople/interface.py\", line 61, in _generate_dataset\n",
      "    validate_source_compatibility(source, dataset)\n",
      "  File \"/ihme/homes/ndbs/miniconda3/envs/ppplv1.0-311/lib/python3.11/site-packages/pseudopeople/interface.py\", line 137, in validate_source_compatibility\n",
      "    raise DataSourceError(\n",
      "pseudopeople.exceptions.DataSourceError: The provided simulated population data is incompatible with this version of pseudopeople (0.7.2).\n",
      "An older version of simulated population data has been provided.\n",
      "Please either request updated simulated population data or downgrade the pseudopeople package.\n",
      "2024-01-19 17:20:30,695 - __main__ - INFO - Code block 'generate_women_infants_and_children' took: 0.00028 m\n",
      "2024-01-19 17:20:30,696 - __main__ - INFO - Code block 'RI data generation' took: 0.00449 m\n"
     ]
    },
    {
     "name": "stdout",
     "output_type": "stream",
     "text": [
      "CPU times: user 132 ms, sys: 10.3 ms, total: 142 ms\n",
      "Wall time: 270 ms\n"
     ]
    }
   ],
   "source": [
    "%%time\n",
    "with CodeTimer(\"RI data generation\", unit='m', logger_func=file_logger.info):\n",
    "    data = alpha.generate_datasets(str(ri_data_dir), code_timer_logger_func=file_logger.info)"
   ]
  },
  {
   "cell_type": "code",
   "execution_count": null,
   "id": "0dace9b1-a3eb-4198-be03-81574941e999",
   "metadata": {},
   "outputs": [],
   "source": []
  }
 ],
 "metadata": {
  "kernelspec": {
   "display_name": "Python 3 (ipykernel)",
   "language": "python",
   "name": "python3"
  },
  "language_info": {
   "codemirror_mode": {
    "name": "ipython",
    "version": 3
   },
   "file_extension": ".py",
   "mimetype": "text/x-python",
   "name": "python",
   "nbconvert_exporter": "python",
   "pygments_lexer": "ipython3",
   "version": "3.11.7"
  }
 },
 "nbformat": 4,
 "nbformat_minor": 5
}
