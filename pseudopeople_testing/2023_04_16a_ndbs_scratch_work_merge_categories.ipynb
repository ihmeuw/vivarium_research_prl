{
 "cells": [
  {
   "cell_type": "code",
   "execution_count": 1,
   "id": "6b659d6e",
   "metadata": {},
   "outputs": [
    {
     "name": "stdout",
     "output_type": "stream",
     "text": [
      "Sun 16 Apr 2023 10:34:52 PM PDT\n",
      "ndbs\n",
      "Linux long-slurm-sarchive-p0041 5.4.0-135-generic #152-Ubuntu SMP Wed Nov 23 20:19:22 UTC 2022 x86_64 x86_64 x86_64 GNU/Linux\n",
      "/mnt/share/code/ndbs/vivarium_research_prl/pseudopeople_testing\n"
     ]
    }
   ],
   "source": [
    "import numpy as np, matplotlib.pyplot as plt, pandas as pd\n",
    "pd.set_option('display.max_rows', 50)\n",
    "\n",
    "import os\n",
    "# Use this to see how much memory the dataframes use\n",
    "from sys import getsizeof\n",
    "\n",
    "import yaml\n",
    "import re\n",
    "\n",
    "import pseudopeople as pp\n",
    "from pseudopeople.configuration import get_configuration\n",
    "from vivarium.framework.randomness import RandomnessStream\n",
    "from vivarium.config_tree import ConfigTree\n",
    "\n",
    "from vivarium_research_prl.utils import sizemb, MappingViaAttributes\n",
    "from vivarium_research_prl import datatypes, alpha, data_loading\n",
    "from vivarium_research_prl.noise import corruption, fake_names, noisify\n",
    "from vivarium_research_prl.find_kids import datasets, noisify_data\n",
    "\n",
    "\n",
    "!date\n",
    "!whoami\n",
    "!uname -a\n",
    "!pwd"
   ]
  },
  {
   "cell_type": "code",
   "execution_count": null,
   "id": "d821355d",
   "metadata": {},
   "outputs": [],
   "source": []
  },
  {
   "cell_type": "code",
   "execution_count": 2,
   "id": "88cf7c36",
   "metadata": {},
   "outputs": [],
   "source": [
    "%load_ext autoreload\n",
    "%autoreload 2"
   ]
  },
  {
   "cell_type": "code",
   "execution_count": 3,
   "id": "9f719beb",
   "metadata": {},
   "outputs": [
    {
     "name": "stdout",
     "output_type": "stream",
     "text": [
      "total 96K\r\n",
      "drwxrwsr-x  3 rmudambi IHME-Simulationscience  512 Apr  9 18:49 states\r\n",
      "drwxrwsr-x  5 rmudambi IHME-Simulationscience 1.5K Apr  9 18:49 .\r\n",
      "drwxrwsr-x 10 rmudambi IHME-Simulationscience 4.0K Apr  9 15:35 usa\r\n",
      "drwxrwsr-x  4 rmudambi IHME-Simulationscience 2.0K Apr  9 15:21 ..\r\n",
      "drwxrwsr-x  2 rmudambi IHME-Simulationscience 335K Apr  9 11:55 logs\r\n"
     ]
    }
   ],
   "source": [
    "project_dir = '/mnt/team/simulation_science/priv/engineering/vivarium_census_prl_synth_pop'\n",
    "model_dir = (\n",
    "    f'{project_dir}/results'\n",
    "    '/v2.0_three_censuses/united_states_of_america/2023_04_08_14_07_04'\n",
    ")\n",
    "parquet_dir = f'{model_dir}/final_results/parquet'\n",
    "hdf_dir = f'{model_dir}/final_results/hdf'\n",
    "rhode_island_par_dir = f'{parquet_dir}/states/rhode_island'\n",
    "usa_par_dir = f'{parquet_dir}/usa'\n",
    "rhode_island_hdf_dir = f'{hdf_dir}/states/rhode_island'\n",
    "usa_hdf_dir = f'{hdf_dir}/usa'\n",
    "\n",
    "!ls -halt $hdf_dir"
   ]
  },
  {
   "cell_type": "markdown",
   "id": "1261bcb8",
   "metadata": {},
   "source": [
    "# More categorical tests"
   ]
  },
  {
   "cell_type": "code",
   "execution_count": 4,
   "id": "ea0bd1a2",
   "metadata": {},
   "outputs": [
    {
     "data": {
      "text/plain": [
       "0      1\n",
       "1      8\n",
       "2      5\n",
       "3      8\n",
       "4    NaN\n",
       "5      9\n",
       "6      8\n",
       "7      1\n",
       "8    NaN\n",
       "dtype: object"
      ]
     },
     "execution_count": 4,
     "metadata": {},
     "output_type": "execute_result"
    }
   ],
   "source": [
    "s = pd.Series([1, 8, 5, '8', np.nan, 9, 8, '1', np.nan])\n",
    "s"
   ]
  },
  {
   "cell_type": "code",
   "execution_count": 5,
   "id": "41e1785f",
   "metadata": {},
   "outputs": [
    {
     "data": {
      "text/plain": [
       "0      1\n",
       "1      8\n",
       "2      5\n",
       "3      8\n",
       "4    NaN\n",
       "5      9\n",
       "6      8\n",
       "7      1\n",
       "8    NaN\n",
       "dtype: category\n",
       "Categories (6, object): [1, 5, 8, 9, '1', '8']"
      ]
     },
     "execution_count": 5,
     "metadata": {},
     "output_type": "execute_result"
    }
   ],
   "source": [
    "s_cat = s.astype('category')\n",
    "s_cat"
   ]
  },
  {
   "cell_type": "code",
   "execution_count": 7,
   "id": "494e2bbf",
   "metadata": {},
   "outputs": [
    {
     "data": {
      "text/plain": [
       "0    0\n",
       "1    2\n",
       "2    1\n",
       "3    5\n",
       "4   -1\n",
       "5    3\n",
       "6    2\n",
       "7    4\n",
       "8   -1\n",
       "dtype: int8"
      ]
     },
     "execution_count": 7,
     "metadata": {},
     "output_type": "execute_result"
    }
   ],
   "source": [
    "s_cat.cat.codes"
   ]
  },
  {
   "cell_type": "code",
   "execution_count": 8,
   "id": "de6ed2e1",
   "metadata": {},
   "outputs": [
    {
     "data": {
      "text/plain": [
       "{1: '1', 5: '5', 8: '8', 9: '9', '1': '1', '8': '8'}"
      ]
     },
     "execution_count": 8,
     "metadata": {},
     "output_type": "execute_result"
    }
   ],
   "source": [
    "cat_map = dict(zip(s_cat.cat.categories, s_cat.cat.categories.astype(str)))\n",
    "cat_map"
   ]
  },
  {
   "cell_type": "code",
   "execution_count": 10,
   "id": "5192e329",
   "metadata": {},
   "outputs": [
    {
     "data": {
      "text/plain": [
       "CategoricalDtype(categories=[1, 5, 8, 9, '1', '8'], ordered=False)"
      ]
     },
     "execution_count": 10,
     "metadata": {},
     "output_type": "execute_result"
    }
   ],
   "source": [
    "s_cat.dtype"
   ]
  },
  {
   "cell_type": "code",
   "execution_count": 9,
   "id": "92bc7d0a",
   "metadata": {},
   "outputs": [
    {
     "data": {
      "text/plain": [
       "Index(['1', '5', '8', '9', '1', '8'], dtype='object')"
      ]
     },
     "execution_count": 9,
     "metadata": {},
     "output_type": "execute_result"
    }
   ],
   "source": [
    "s_cat.cat.categories.map(cat_map)"
   ]
  },
  {
   "cell_type": "code",
   "execution_count": 14,
   "id": "59bbe057",
   "metadata": {},
   "outputs": [
    {
     "data": {
      "text/plain": [
       "Index(['1', '5', '8', '9'], dtype='object')"
      ]
     },
     "execution_count": 14,
     "metadata": {},
     "output_type": "execute_result"
    }
   ],
   "source": [
    "new_cats = s_cat.cat.categories.map(cat_map).unique()\n",
    "new_cats"
   ]
  },
  {
   "cell_type": "code",
   "execution_count": 15,
   "id": "eb9ac6c7",
   "metadata": {},
   "outputs": [
    {
     "data": {
      "text/plain": [
       "{'1': 0, '5': 1, '8': 2, '9': 3}"
      ]
     },
     "execution_count": 15,
     "metadata": {},
     "output_type": "execute_result"
    }
   ],
   "source": [
    "new_cat_to_code = dict(zip(new_cats, range(len(new_cats))))\n",
    "new_cat_to_code"
   ]
  },
  {
   "cell_type": "code",
   "execution_count": 17,
   "id": "8157bbb1",
   "metadata": {},
   "outputs": [
    {
     "data": {
      "text/plain": [
       "Index([1, 8, 5, '8', '8', 9, 8, '1', '8'], dtype='object')"
      ]
     },
     "execution_count": 17,
     "metadata": {},
     "output_type": "execute_result"
    }
   ],
   "source": [
    "s_cat.cat.categories[s_cat.cat.codes] # ?? Why -1 -> '8'?"
   ]
  },
  {
   "cell_type": "code",
   "execution_count": 18,
   "id": "6a43e8e2",
   "metadata": {},
   "outputs": [
    {
     "data": {
      "text/plain": [
       "0      1\n",
       "1      8\n",
       "2      5\n",
       "3      8\n",
       "4    NaN\n",
       "5      9\n",
       "6      8\n",
       "7      1\n",
       "8    NaN\n",
       "dtype: category\n",
       "Categories (6, object): [1, 5, 8, 9, '1', '8']"
      ]
     },
     "execution_count": 18,
     "metadata": {},
     "output_type": "execute_result"
    }
   ],
   "source": [
    "s_cat"
   ]
  },
  {
   "cell_type": "code",
   "execution_count": 22,
   "id": "16dd36b1",
   "metadata": {},
   "outputs": [
    {
     "data": {
      "text/plain": [
       "Int64Index([0, 1, 2, 3, 0, 2], dtype='int64')"
      ]
     },
     "execution_count": 22,
     "metadata": {},
     "output_type": "execute_result"
    }
   ],
   "source": [
    "new_code_arr = s_cat.cat.categories.map(cat_map).map(new_cat_to_code)\n",
    "new_code_arr"
   ]
  },
  {
   "cell_type": "code",
   "execution_count": 23,
   "id": "005a904c",
   "metadata": {},
   "outputs": [
    {
     "data": {
      "text/plain": [
       "0    0\n",
       "1    2\n",
       "2    1\n",
       "3    5\n",
       "4   -1\n",
       "5    3\n",
       "6    2\n",
       "7    4\n",
       "8   -1\n",
       "dtype: int8"
      ]
     },
     "execution_count": 23,
     "metadata": {},
     "output_type": "execute_result"
    }
   ],
   "source": [
    "s_cat.cat.codes"
   ]
  },
  {
   "cell_type": "code",
   "execution_count": 24,
   "id": "94cc53b9",
   "metadata": {},
   "outputs": [
    {
     "data": {
      "text/plain": [
       "{1: 0, 5: 1, 8: 2, 9: 3, '1': 4, '8': 5}"
      ]
     },
     "execution_count": 24,
     "metadata": {},
     "output_type": "execute_result"
    }
   ],
   "source": [
    "old_cats = s_cat.cat.categories\n",
    "old_cat_to_old_code = dict(zip(old_cats, range(len(old_cats))))\n",
    "old_cat_to_old_code"
   ]
  },
  {
   "cell_type": "code",
   "execution_count": 31,
   "id": "1fba7fb9",
   "metadata": {},
   "outputs": [
    {
     "data": {
      "text/plain": [
       "0    0\n",
       "1    2\n",
       "2    1\n",
       "3    2\n",
       "4   -1\n",
       "5    3\n",
       "6    2\n",
       "7    0\n",
       "8   -1\n",
       "dtype: int64"
      ]
     },
     "execution_count": 31,
     "metadata": {},
     "output_type": "execute_result"
    }
   ],
   "source": [
    "new_codes = s_cat.cat.codes.map(pd.Series(new_code_arr)).fillna(-1).astype(int)\n",
    "new_codes"
   ]
  },
  {
   "cell_type": "code",
   "execution_count": 28,
   "id": "7337030d",
   "metadata": {},
   "outputs": [
    {
     "data": {
      "text/plain": [
       "['1', '8', '5', '8', NaN, '9', '8', '1', NaN]\n",
       "Categories (4, object): ['1', '5', '8', '9']"
      ]
     },
     "execution_count": 28,
     "metadata": {},
     "output_type": "execute_result"
    }
   ],
   "source": [
    "pd.Categorical.from_codes(new_codes, new_cats)"
   ]
  },
  {
   "cell_type": "code",
   "execution_count": 29,
   "id": "8b215e2d",
   "metadata": {},
   "outputs": [
    {
     "data": {
      "text/plain": [
       "0      1\n",
       "1      8\n",
       "2      5\n",
       "3      8\n",
       "4    NaN\n",
       "5      9\n",
       "6      8\n",
       "7      1\n",
       "8    NaN\n",
       "dtype: object"
      ]
     },
     "execution_count": 29,
     "metadata": {},
     "output_type": "execute_result"
    }
   ],
   "source": [
    "s"
   ]
  },
  {
   "cell_type": "code",
   "execution_count": 38,
   "id": "bdfbbb62",
   "metadata": {},
   "outputs": [
    {
     "data": {
      "text/plain": [
       "{0: 0, 1: 1, 2: 2, 3: 3, 4: 0, 5: 2, -1: -1}"
      ]
     },
     "execution_count": 38,
     "metadata": {},
     "output_type": "execute_result"
    }
   ],
   "source": [
    "new_code_map = dict(zip(range(len(new_code_arr)), new_code_arr))\n",
    "new_code_map.update({-1:-1})\n",
    "new_code_map"
   ]
  },
  {
   "cell_type": "code",
   "execution_count": 39,
   "id": "60215604",
   "metadata": {},
   "outputs": [
    {
     "data": {
      "text/plain": [
       "0    0\n",
       "1    2\n",
       "2    1\n",
       "3    2\n",
       "4   -1\n",
       "5    3\n",
       "6    2\n",
       "7    0\n",
       "8   -1\n",
       "dtype: int64"
      ]
     },
     "execution_count": 39,
     "metadata": {},
     "output_type": "execute_result"
    }
   ],
   "source": [
    "s_cat.cat.codes.map(new_code_map)"
   ]
  },
  {
   "cell_type": "code",
   "execution_count": 80,
   "id": "f96de55b",
   "metadata": {},
   "outputs": [
    {
     "name": "stdout",
     "output_type": "stream",
     "text": [
      "CPU times: user 3.96 ms, sys: 0 ns, total: 3.96 ms\n",
      "Wall time: 3.82 ms\n"
     ]
    },
    {
     "data": {
      "text/plain": [
       "['1', '8', '5', '8', NaN, '9', '8', '1', NaN]\n",
       "Categories (4, object): ['1', '5', '8', '9']"
      ]
     },
     "execution_count": 80,
     "metadata": {},
     "output_type": "execute_result"
    }
   ],
   "source": [
    "def merge_series_categories(series, category_mapping):\n",
    "    # https://stackoverflow.com/questions/32262982/pandas-combining-multiple-categories-into-one\n",
    "    return series.map(category_mapping).astype('category')\n",
    "\n",
    "def merge_categories(categorical: pd.Categorical, old_cat_to_new_cat: dict):\n",
    "    new_cat_array = categorical.categories.map(old_cat_to_new_cat)\n",
    "    new_cats = new_cat_array.unique()\n",
    "    if len(new_cats) == len(new_cat_array):\n",
    "        # one-to-one mapping -> no merging is necessary, just renaming of categories\n",
    "        new_categorical = categorical.rename_categories(new_cats)\n",
    "    else:\n",
    "        # Map each new category to its index in the categories array, i.e., its code\n",
    "        new_cat_to_new_code = dict(zip(new_cats, range(len(new_cats))))\n",
    "        # This array replaces each old category with the index (code) of the new category\n",
    "        new_code_array = new_cat_array.map(new_cat_to_new_code)\n",
    "        # The index (code) of the old category is mapped to the index (code) of the new category\n",
    "        old_code_to_new_code = dict(zip(range(len(new_code_array)), new_code_array))\n",
    "        # -1 indicates NaN and needs to stay the same in the new codes\n",
    "        old_code_to_new_code.update({-1: -1})\n",
    "        new_codes = categorical.codes.map(old_code_to_new_code)\n",
    "        new_categorical = pd.Categorical.from_codes(new_codes, new_cats)\n",
    "    return new_categorical\n",
    "\n",
    "%time merge_categories(s_cat.cat, cat_map)"
   ]
  },
  {
   "cell_type": "code",
   "execution_count": 45,
   "id": "8da1bc5b",
   "metadata": {},
   "outputs": [
    {
     "name": "stdout",
     "output_type": "stream",
     "text": [
      "1.6 ms ± 18.8 µs per loop (mean ± std. dev. of 7 runs, 1,000 loops each)\n"
     ]
    }
   ],
   "source": [
    "%timeit merge_categories(s_cat.cat, cat_map)"
   ]
  },
  {
   "cell_type": "code",
   "execution_count": 47,
   "id": "a11efa56",
   "metadata": {},
   "outputs": [
    {
     "data": {
      "text/plain": [
       "4"
      ]
     },
     "execution_count": 47,
     "metadata": {},
     "output_type": "execute_result"
    }
   ],
   "source": [
    "4"
   ]
  },
  {
   "cell_type": "code",
   "execution_count": 50,
   "id": "af6fde03",
   "metadata": {},
   "outputs": [
    {
     "data": {
      "text/plain": [
       "True"
      ]
     },
     "execution_count": 50,
     "metadata": {},
     "output_type": "execute_result"
    }
   ],
   "source": [
    "s_cat.cat.categories.map(cat_map).duplicated().any()"
   ]
  },
  {
   "cell_type": "code",
   "execution_count": 51,
   "id": "d800dc00",
   "metadata": {},
   "outputs": [
    {
     "data": {
      "text/plain": [
       "False"
      ]
     },
     "execution_count": 51,
     "metadata": {},
     "output_type": "execute_result"
    }
   ],
   "source": [
    "s_cat.cat.categories.duplicated().any()"
   ]
  },
  {
   "cell_type": "code",
   "execution_count": 52,
   "id": "343a1110",
   "metadata": {},
   "outputs": [
    {
     "data": {
      "text/plain": [
       "57"
      ]
     },
     "execution_count": 52,
     "metadata": {},
     "output_type": "execute_result"
    }
   ],
   "source": [
    "s_cat.nbytes"
   ]
  },
  {
   "cell_type": "code",
   "execution_count": 53,
   "id": "b73fb585",
   "metadata": {},
   "outputs": [
    {
     "data": {
      "text/plain": [
       "569"
      ]
     },
     "execution_count": 53,
     "metadata": {},
     "output_type": "execute_result"
    }
   ],
   "source": [
    "s_cat.memory_usage(deep=True)"
   ]
  },
  {
   "cell_type": "code",
   "execution_count": 54,
   "id": "ed495e40",
   "metadata": {},
   "outputs": [
    {
     "data": {
      "text/plain": [
       "585"
      ]
     },
     "execution_count": 54,
     "metadata": {},
     "output_type": "execute_result"
    }
   ],
   "source": [
    "getsizeof(s_cat)"
   ]
  },
  {
   "cell_type": "code",
   "execution_count": 74,
   "id": "bcbae9e3",
   "metadata": {
    "scrolled": true
   },
   "outputs": [
    {
     "data": {
      "text/plain": [
       "0          4\n",
       "1          3\n",
       "2          4\n",
       "3          2\n",
       "4          4\n",
       "          ..\n",
       "1999995    1\n",
       "1999996    2\n",
       "1999997    1\n",
       "1999998    2\n",
       "1999999    1\n",
       "Length: 2000000, dtype: category\n",
       "Categories (7, object): [1, 2, 3, 4, '1', '2', '3']"
      ]
     },
     "execution_count": 74,
     "metadata": {},
     "output_type": "execute_result"
    }
   ],
   "source": [
    "size = 1_000_000\n",
    "rng = np.random.default_rng(99988)\n",
    "a = rng.choice([1, 2, 3, 4, 4], size=size)\n",
    "b = rng.choice(['1', '1', '2', '3'], size=size)\n",
    "ab = pd.concat([pd.Series(a), pd.Series(b)], ignore_index=True).astype('category')\n",
    "ab"
   ]
  },
  {
   "cell_type": "code",
   "execution_count": 75,
   "id": "31ef4c96",
   "metadata": {},
   "outputs": [
    {
     "data": {
      "text/plain": [
       "1    500467\n",
       "4    399850\n",
       "3    250008\n",
       "2    249525\n",
       "1    200601\n",
       "2    200092\n",
       "3    199457\n",
       "dtype: int64"
      ]
     },
     "execution_count": 75,
     "metadata": {},
     "output_type": "execute_result"
    }
   ],
   "source": [
    "ab.value_counts()"
   ]
  },
  {
   "cell_type": "code",
   "execution_count": 76,
   "id": "f803c750",
   "metadata": {},
   "outputs": [
    {
     "data": {
      "text/plain": [
       "{1: '1', 2: '2', 3: '3', 4: '4', '1': '1', '2': '2', '3': '3'}"
      ]
     },
     "execution_count": 76,
     "metadata": {},
     "output_type": "execute_result"
    }
   ],
   "source": [
    "d = dict(zip(ab.cat.categories, ab.cat.categories.astype(str)))\n",
    "d"
   ]
  },
  {
   "cell_type": "code",
   "execution_count": 81,
   "id": "387c0451",
   "metadata": {},
   "outputs": [
    {
     "name": "stdout",
     "output_type": "stream",
     "text": [
      "21 ms ± 103 µs per loop (mean ± std. dev. of 7 runs, 10 loops each)\n",
      "139 ms ± 455 µs per loop (mean ± std. dev. of 7 runs, 10 loops each)\n"
     ]
    }
   ],
   "source": [
    "%timeit pd.Series(merge_categories(ab.cat, d))\n",
    "%timeit merge_series_categories(ab, d)"
   ]
  },
  {
   "cell_type": "code",
   "execution_count": 82,
   "id": "444b803b",
   "metadata": {},
   "outputs": [
    {
     "data": {
      "text/plain": [
       "True"
      ]
     },
     "execution_count": 82,
     "metadata": {},
     "output_type": "execute_result"
    }
   ],
   "source": [
    "ab_str1 = pd.Series(merge_categories(ab.cat, d))\n",
    "ab_str2 = merge_series_categories(ab, d)\n",
    "ab_str1.equals(ab_str2)"
   ]
  },
  {
   "cell_type": "code",
   "execution_count": 83,
   "id": "e2a1eb24",
   "metadata": {},
   "outputs": [
    {
     "data": {
      "text/plain": [
       "0          4\n",
       "1          3\n",
       "2          4\n",
       "3          2\n",
       "4          4\n",
       "          ..\n",
       "1999995    1\n",
       "1999996    2\n",
       "1999997    1\n",
       "1999998    2\n",
       "1999999    1\n",
       "Length: 2000000, dtype: category\n",
       "Categories (4, object): ['1', '2', '3', '4']"
      ]
     },
     "execution_count": 83,
     "metadata": {},
     "output_type": "execute_result"
    }
   ],
   "source": [
    "ab_str1"
   ]
  },
  {
   "cell_type": "markdown",
   "id": "1b06917f",
   "metadata": {},
   "source": [
    "# See what columns are in current data"
   ]
  },
  {
   "cell_type": "code",
   "execution_count": 84,
   "id": "1af5536c",
   "metadata": {},
   "outputs": [
    {
     "name": "stdout",
     "output_type": "stream",
     "text": [
      "total 284K\r\n",
      "drwxrwsr-x  5 rmudambi IHME-Simulationscience 1.5K Apr  9 18:48 ..\r\n",
      "drwxrwsr-x 10 rmudambi IHME-Simulationscience 4.0K Apr  9 15:41 .\r\n",
      "drwxrwsr-x  2 rmudambi IHME-Simulationscience 167K Apr  9 12:21 tax_dependents_observer\r\n",
      "drwxrwsr-x  2 rmudambi IHME-Simulationscience 167K Apr  9 12:20 tax_1040_observer\r\n",
      "drwxrwsr-x  2 rmudambi IHME-Simulationscience 167K Apr  9 12:15 tax_w2_observer\r\n",
      "drwxrwsr-x  2 rmudambi IHME-Simulationscience 167K Apr  9 12:09 social_security_observer\r\n",
      "drwxrwsr-x  2 rmudambi IHME-Simulationscience 167K Apr  9 12:09 wic_observer\r\n",
      "drwxrwsr-x  2 rmudambi IHME-Simulationscience 167K Apr  9 12:09 household_survey_observer_cps\r\n",
      "drwxrwsr-x  2 rmudambi IHME-Simulationscience 167K Apr  9 12:09 household_survey_observer_acs\r\n",
      "drwxrwsr-x  2 rmudambi IHME-Simulationscience 167K Apr  9 12:09 decennial_census_observer\r\n"
     ]
    }
   ],
   "source": [
    "!ls -halt $usa_par_dir"
   ]
  },
  {
   "cell_type": "code",
   "execution_count": 85,
   "id": "ec3f7e7c",
   "metadata": {},
   "outputs": [
    {
     "name": "stdout",
     "output_type": "stream",
     "text": [
      "total 602M\r\n",
      "drwxrwsr-x 10 rmudambi IHME-Simulationscience 4.0K Apr  9 15:41 ..\r\n",
      "-rw-r--r--  1 rmudambi IHME-Simulationscience 2.2M Apr  9 12:36 household_survey_observer_acs_2689.parquet\r\n",
      "-rw-r--r--  1 rmudambi IHME-Simulationscience 2.0M Apr  9 12:27 household_survey_observer_acs_6545.parquet\r\n",
      "-rw-r--r--  1 rmudambi IHME-Simulationscience 1.8M Apr  9 12:09 household_survey_observer_acs_9888.parquet\r\n",
      "drwxrwsr-x  2 rmudambi IHME-Simulationscience 167K Apr  9 12:09 .\r\n",
      "-rw-r--r--  1 rmudambi IHME-Simulationscience 1.7M Apr  9 12:08 household_survey_observer_acs_9901.parquet\r\n",
      "-rw-r--r--  1 rmudambi IHME-Simulationscience 1.7M Apr  9 12:08 household_survey_observer_acs_9840.parquet\r\n",
      "-rw-r--r--  1 rmudambi IHME-Simulationscience 1.8M Apr  9 12:08 household_survey_observer_acs_9911.parquet\r\n",
      "-rw-r--r--  1 rmudambi IHME-Simulationscience 1.8M Apr  9 12:08 household_survey_observer_acs_9971.parquet\r\n",
      "-rw-r--r--  1 rmudambi IHME-Simulationscience 1.7M Apr  9 12:08 household_survey_observer_acs_99.parquet\r\n",
      "-rw-r--r--  1 rmudambi IHME-Simulationscience 1.8M Apr  9 12:08 household_survey_observer_acs_9871.parquet\r\n",
      "-rw-r--r--  1 rmudambi IHME-Simulationscience 2.2M Apr  9 12:08 household_survey_observer_acs_9847.parquet\r\n",
      "-rw-r--r--  1 rmudambi IHME-Simulationscience 1.8M Apr  9 12:08 household_survey_observer_acs_9723.parquet\r\n",
      "-rw-r--r--  1 rmudambi IHME-Simulationscience 2.2M Apr  9 12:08 household_survey_observer_acs_9859.parquet\r\n",
      "-rw-r--r--  1 rmudambi IHME-Simulationscience 1.8M Apr  9 12:08 household_survey_observer_acs_9672.parquet\r\n",
      "-rw-r--r--  1 rmudambi IHME-Simulationscience 1.7M Apr  9 12:08 household_survey_observer_acs_9696.parquet\r\n",
      "-rw-r--r--  1 rmudambi IHME-Simulationscience 1.7M Apr  9 12:07 household_survey_observer_acs_9768.parquet\r\n",
      "-rw-r--r--  1 rmudambi IHME-Simulationscience 1.7M Apr  9 12:07 household_survey_observer_acs_9643.parquet\r\n",
      "-rw-r--r--  1 rmudambi IHME-Simulationscience 1.8M Apr  9 12:06 household_survey_observer_acs_9526.parquet\r\n",
      "-rw-r--r--  1 rmudambi IHME-Simulationscience 1.7M Apr  9 12:05 household_survey_observer_acs_9159.parquet\r\n",
      "-rw-r--r--  1 rmudambi IHME-Simulationscience 1.8M Apr  9 12:05 household_survey_observer_acs_9292.parquet\r\n",
      "-rw-r--r--  1 rmudambi IHME-Simulationscience 1.7M Apr  9 12:04 household_survey_observer_acs_9247.parquet\r\n",
      "-rw-r--r--  1 rmudambi IHME-Simulationscience 1.7M Apr  9 12:04 household_survey_observer_acs_9804.parquet\r\n",
      "-rw-r--r--  1 rmudambi IHME-Simulationscience 1.8M Apr  9 12:04 household_survey_observer_acs_9772.parquet\r\n",
      "-rw-r--r--  1 rmudambi IHME-Simulationscience 1.8M Apr  9 12:03 household_survey_observer_acs_8134.parquet\r\n",
      "-rw-r--r--  1 rmudambi IHME-Simulationscience 1.7M Apr  9 12:03 household_survey_observer_acs_9872.parquet\r\n",
      "-rw-r--r--  1 rmudambi IHME-Simulationscience 1.8M Apr  9 12:03 household_survey_observer_acs_9776.parquet\r\n",
      "-rw-r--r--  1 rmudambi IHME-Simulationscience 1.8M Apr  9 12:03 household_survey_observer_acs_8628.parquet\r\n",
      "-rw-r--r--  1 rmudambi IHME-Simulationscience 1.7M Apr  9 12:03 household_survey_observer_acs_9653.parquet\r\n",
      "-rw-r--r--  1 rmudambi IHME-Simulationscience 1.7M Apr  9 12:03 household_survey_observer_acs_9549.parquet\r\n",
      "-rw-r--r--  1 rmudambi IHME-Simulationscience 1.7M Apr  9 12:03 household_survey_observer_acs_9740.parquet\r\n",
      "-rw-r--r--  1 rmudambi IHME-Simulationscience 1.8M Apr  9 12:02 household_survey_observer_acs_5703.parquet\r\n",
      "-rw-r--r--  1 rmudambi IHME-Simulationscience 1.7M Apr  9 12:02 household_survey_observer_acs_974.parquet\r\n",
      "-rw-r--r--  1 rmudambi IHME-Simulationscience 1.9M Apr  9 12:02 household_survey_observer_acs_8516.parquet\r\n",
      "-rw-r--r--  1 rmudambi IHME-Simulationscience 1.8M Apr  9 12:01 household_survey_observer_acs_9284.parquet\r\n",
      "-rw-r--r--  1 rmudambi IHME-Simulationscience 1.7M Apr  9 12:01 household_survey_observer_acs_8129.parquet\r\n",
      "-rw-r--r--  1 rmudambi IHME-Simulationscience 2.2M Apr  9 12:01 household_survey_observer_acs_8133.parquet\r\n",
      "-rw-r--r--  1 rmudambi IHME-Simulationscience 1.7M Apr  9 12:01 household_survey_observer_acs_771.parquet\r\n",
      "-rw-r--r--  1 rmudambi IHME-Simulationscience 2.1M Apr  9 12:00 household_survey_observer_acs_7275.parquet\r\n",
      "-rw-r--r--  1 rmudambi IHME-Simulationscience 2.1M Apr  9 12:00 household_survey_observer_acs_9272.parquet\r\n",
      "-rw-r--r--  1 rmudambi IHME-Simulationscience 2.1M Apr  9 12:00 household_survey_observer_acs_9066.parquet\r\n",
      "-rw-r--r--  1 rmudambi IHME-Simulationscience 1.8M Apr  9 12:00 household_survey_observer_acs_5670.parquet\r\n",
      "-rw-r--r--  1 rmudambi IHME-Simulationscience 1.8M Apr  9 12:00 household_survey_observer_acs_9434.parquet\r\n",
      "-rw-r--r--  1 rmudambi IHME-Simulationscience 1.7M Apr  9 12:00 household_survey_observer_acs_7137.parquet\r\n",
      "-rw-r--r--  1 rmudambi IHME-Simulationscience 1.8M Apr  9 12:00 household_survey_observer_acs_6455.parquet\r\n",
      "-rw-r--r--  1 rmudambi IHME-Simulationscience 2.0M Apr  9 12:00 household_survey_observer_acs_8755.parquet\r\n",
      "-rw-r--r--  1 rmudambi IHME-Simulationscience 1.8M Apr  9 12:00 household_survey_observer_acs_8641.parquet\r\n",
      "-rw-r--r--  1 rmudambi IHME-Simulationscience 1.8M Apr  9 11:59 household_survey_observer_acs_9225.parquet\r\n",
      "-rw-r--r--  1 rmudambi IHME-Simulationscience 1.7M Apr  9 11:59 household_survey_observer_acs_8612.parquet\r\n",
      "-rw-r--r--  1 rmudambi IHME-Simulationscience 1.7M Apr  9 11:59 household_survey_observer_acs_9024.parquet\r\n",
      "-rw-r--r--  1 rmudambi IHME-Simulationscience 1.8M Apr  9 11:59 household_survey_observer_acs_9244.parquet\r\n",
      "-rw-r--r--  1 rmudambi IHME-Simulationscience 1.8M Apr  9 11:59 household_survey_observer_acs_5949.parquet\r\n",
      "-rw-r--r--  1 rmudambi IHME-Simulationscience 1.9M Apr  9 11:59 household_survey_observer_acs_8509.parquet\r\n",
      "-rw-r--r--  1 rmudambi IHME-Simulationscience 1.7M Apr  9 11:59 household_survey_observer_acs_5812.parquet\r\n",
      "-rw-r--r--  1 rmudambi IHME-Simulationscience 1.7M Apr  9 11:59 household_survey_observer_acs_8501.parquet\r\n",
      "-rw-r--r--  1 rmudambi IHME-Simulationscience 1.8M Apr  9 11:59 household_survey_observer_acs_6118.parquet\r\n",
      "-rw-r--r--  1 rmudambi IHME-Simulationscience 1.7M Apr  9 11:59 household_survey_observer_acs_8425.parquet\r\n",
      "-rw-r--r--  1 rmudambi IHME-Simulationscience 2.0M Apr  9 11:59 household_survey_observer_acs_5781.parquet\r\n",
      "-rw-r--r--  1 rmudambi IHME-Simulationscience 1.8M Apr  9 11:59 household_survey_observer_acs_5860.parquet\r\n",
      "-rw-r--r--  1 rmudambi IHME-Simulationscience 1.8M Apr  9 11:59 household_survey_observer_acs_5398.parquet\r\n",
      "-rw-r--r--  1 rmudambi IHME-Simulationscience 1.7M Apr  9 11:59 household_survey_observer_acs_5020.parquet\r\n",
      "-rw-r--r--  1 rmudambi IHME-Simulationscience 1.8M Apr  9 11:58 household_survey_observer_acs_8360.parquet\r\n",
      "-rw-r--r--  1 rmudambi IHME-Simulationscience 1.7M Apr  9 11:58 household_survey_observer_acs_9588.parquet\r\n",
      "-rw-r--r--  1 rmudambi IHME-Simulationscience 2.2M Apr  9 11:58 household_survey_observer_acs_5475.parquet\r\n",
      "-rw-r--r--  1 rmudambi IHME-Simulationscience 1.8M Apr  9 11:58 household_survey_observer_acs_8305.parquet\r\n",
      "-rw-r--r--  1 rmudambi IHME-Simulationscience 1.7M Apr  9 11:58 household_survey_observer_acs_8817.parquet\r\n",
      "-rw-r--r--  1 rmudambi IHME-Simulationscience 1.7M Apr  9 11:58 household_survey_observer_acs_5548.parquet\r\n",
      "-rw-r--r--  1 rmudambi IHME-Simulationscience 1.7M Apr  9 11:58 household_survey_observer_acs_5594.parquet\r\n",
      "-rw-r--r--  1 rmudambi IHME-Simulationscience 1.8M Apr  9 11:58 household_survey_observer_acs_5308.parquet\r\n",
      "-rw-r--r--  1 rmudambi IHME-Simulationscience 1.7M Apr  9 11:58 household_survey_observer_acs_4621.parquet\r\n",
      "-rw-r--r--  1 rmudambi IHME-Simulationscience 1.7M Apr  9 11:58 household_survey_observer_acs_446.parquet\r\n",
      "-rw-r--r--  1 rmudambi IHME-Simulationscience 2.2M Apr  9 11:58 household_survey_observer_acs_5393.parquet\r\n",
      "-rw-r--r--  1 rmudambi IHME-Simulationscience 1.7M Apr  9 11:58 household_survey_observer_acs_9577.parquet\r\n",
      "-rw-r--r--  1 rmudambi IHME-Simulationscience 1.7M Apr  9 11:58 household_survey_observer_acs_539.parquet\r\n",
      "-rw-r--r--  1 rmudambi IHME-Simulationscience 1.8M Apr  9 11:58 household_survey_observer_acs_4922.parquet\r\n",
      "-rw-r--r--  1 rmudambi IHME-Simulationscience 1.7M Apr  9 11:58 household_survey_observer_acs_5114.parquet\r\n",
      "-rw-r--r--  1 rmudambi IHME-Simulationscience 1.7M Apr  9 11:57 household_survey_observer_acs_5072.parquet\r\n",
      "-rw-r--r--  1 rmudambi IHME-Simulationscience 1.8M Apr  9 11:57 household_survey_observer_acs_5246.parquet\r\n",
      "-rw-r--r--  1 rmudambi IHME-Simulationscience 1.7M Apr  9 11:57 household_survey_observer_acs_9402.parquet\r\n",
      "-rw-r--r--  1 rmudambi IHME-Simulationscience 2.2M Apr  9 11:57 household_survey_observer_acs_478.parquet\r\n",
      "-rw-r--r--  1 rmudambi IHME-Simulationscience 1.8M Apr  9 11:57 household_survey_observer_acs_4943.parquet\r\n",
      "-rw-r--r--  1 rmudambi IHME-Simulationscience 1.7M Apr  9 11:57 household_survey_observer_acs_8527.parquet\r\n",
      "-rw-r--r--  1 rmudambi IHME-Simulationscience 1.7M Apr  9 11:57 household_survey_observer_acs_5188.parquet\r\n",
      "-rw-r--r--  1 rmudambi IHME-Simulationscience 1.7M Apr  9 11:57 household_survey_observer_acs_8291.parquet\r\n",
      "-rw-r--r--  1 rmudambi IHME-Simulationscience 1.7M Apr  9 11:57 household_survey_observer_acs_5150.parquet\r\n",
      "-rw-r--r--  1 rmudambi IHME-Simulationscience 2.2M Apr  9 11:57 household_survey_observer_acs_9495.parquet\r\n",
      "-rw-r--r--  1 rmudambi IHME-Simulationscience 1.7M Apr  9 11:57 household_survey_observer_acs_8192.parquet\r\n",
      "-rw-r--r--  1 rmudambi IHME-Simulationscience 1.7M Apr  9 11:57 household_survey_observer_acs_9367.parquet\r\n",
      "-rw-r--r--  1 rmudambi IHME-Simulationscience 1.7M Apr  9 11:57 household_survey_observer_acs_8221.parquet\r\n",
      "-rw-r--r--  1 rmudambi IHME-Simulationscience 1.8M Apr  9 11:57 household_survey_observer_acs_4802.parquet\r\n",
      "-rw-r--r--  1 rmudambi IHME-Simulationscience 1.8M Apr  9 11:57 household_survey_observer_acs_5046.parquet\r\n",
      "-rw-r--r--  1 rmudambi IHME-Simulationscience 1.7M Apr  9 11:57 household_survey_observer_acs_5159.parquet\r\n",
      "-rw-r--r--  1 rmudambi IHME-Simulationscience 1.7M Apr  9 11:57 household_survey_observer_acs_93.parquet\r\n",
      "-rw-r--r--  1 rmudambi IHME-Simulationscience 1.8M Apr  9 11:57 household_survey_observer_acs_3621.parquet\r\n",
      "-rw-r--r--  1 rmudambi IHME-Simulationscience 2.1M Apr  9 11:57 household_survey_observer_acs_5004.parquet\r\n",
      "-rw-r--r--  1 rmudambi IHME-Simulationscience 1.7M Apr  9 11:56 household_survey_observer_acs_494.parquet\r\n",
      "-rw-r--r--  1 rmudambi IHME-Simulationscience 1.7M Apr  9 11:56 household_survey_observer_acs_496.parquet\r\n",
      "-rw-r--r--  1 rmudambi IHME-Simulationscience 1.8M Apr  9 11:56 household_survey_observer_acs_4637.parquet\r\n",
      "-rw-r--r--  1 rmudambi IHME-Simulationscience 1.7M Apr  9 11:56 household_survey_observer_acs_7359.parquet\r\n",
      "-rw-r--r--  1 rmudambi IHME-Simulationscience 1.8M Apr  9 11:56 household_survey_observer_acs_4904.parquet\r\n",
      "-rw-r--r--  1 rmudambi IHME-Simulationscience 1.7M Apr  9 11:56 household_survey_observer_acs_4941.parquet\r\n",
      "-rw-r--r--  1 rmudambi IHME-Simulationscience 1.8M Apr  9 11:56 household_survey_observer_acs_4938.parquet\r\n",
      "-rw-r--r--  1 rmudambi IHME-Simulationscience 2.1M Apr  9 11:56 household_survey_observer_acs_4672.parquet\r\n",
      "-rw-r--r--  1 rmudambi IHME-Simulationscience 1.7M Apr  9 11:56 household_survey_observer_acs_7817.parquet\r\n",
      "-rw-r--r--  1 rmudambi IHME-Simulationscience 2.2M Apr  9 11:56 household_survey_observer_acs_4528.parquet\r\n",
      "-rw-r--r--  1 rmudambi IHME-Simulationscience 1.7M Apr  9 11:56 household_survey_observer_acs_7653.parquet\r\n",
      "-rw-r--r--  1 rmudambi IHME-Simulationscience 2.2M Apr  9 11:56 household_survey_observer_acs_4649.parquet\r\n",
      "-rw-r--r--  1 rmudambi IHME-Simulationscience 2.3M Apr  9 11:56 household_survey_observer_acs_7927.parquet\r\n",
      "-rw-r--r--  1 rmudambi IHME-Simulationscience 1.7M Apr  9 11:56 household_survey_observer_acs_4344.parquet\r\n",
      "-rw-r--r--  1 rmudambi IHME-Simulationscience 1.7M Apr  9 11:56 household_survey_observer_acs_7645.parquet\r\n",
      "-rw-r--r--  1 rmudambi IHME-Simulationscience 1.7M Apr  9 11:56 household_survey_observer_acs_7850.parquet\r\n",
      "-rw-r--r--  1 rmudambi IHME-Simulationscience 1.8M Apr  9 11:56 household_survey_observer_acs_4192.parquet\r\n",
      "-rw-r--r--  1 rmudambi IHME-Simulationscience 1.8M Apr  9 11:56 household_survey_observer_acs_4507.parquet\r\n",
      "-rw-r--r--  1 rmudambi IHME-Simulationscience 2.0M Apr  9 11:56 household_survey_observer_acs_8980.parquet\r\n",
      "-rw-r--r--  1 rmudambi IHME-Simulationscience 1.7M Apr  9 11:56 household_survey_observer_acs_8997.parquet\r\n",
      "-rw-r--r--  1 rmudambi IHME-Simulationscience 1.9M Apr  9 11:56 household_survey_observer_acs_7384.parquet\r\n",
      "-rw-r--r--  1 rmudambi IHME-Simulationscience 1.7M Apr  9 11:56 household_survey_observer_acs_465.parquet\r\n",
      "-rw-r--r--  1 rmudambi IHME-Simulationscience 1.8M Apr  9 11:56 household_survey_observer_acs_4622.parquet\r\n",
      "-rw-r--r--  1 rmudambi IHME-Simulationscience 2.1M Apr  9 11:56 household_survey_observer_acs_9187.parquet\r\n",
      "-rw-r--r--  1 rmudambi IHME-Simulationscience 1.8M Apr  9 11:56 household_survey_observer_acs_4400.parquet\r\n",
      "-rw-r--r--  1 rmudambi IHME-Simulationscience 1.7M Apr  9 11:56 household_survey_observer_acs_4260.parquet\r\n",
      "-rw-r--r--  1 rmudambi IHME-Simulationscience 1.7M Apr  9 11:56 household_survey_observer_acs_781.parquet\r\n",
      "-rw-r--r--  1 rmudambi IHME-Simulationscience 1.7M Apr  9 11:56 household_survey_observer_acs_8877.parquet\r\n",
      "-rw-r--r--  1 rmudambi IHME-Simulationscience 1.7M Apr  9 11:56 household_survey_observer_acs_7438.parquet\r\n",
      "-rw-r--r--  1 rmudambi IHME-Simulationscience 1.7M Apr  9 11:56 household_survey_observer_acs_7292.parquet\r\n",
      "-rw-r--r--  1 rmudambi IHME-Simulationscience 1.8M Apr  9 11:56 household_survey_observer_acs_4203.parquet\r\n",
      "-rw-r--r--  1 rmudambi IHME-Simulationscience 2.6M Apr  9 11:55 household_survey_observer_acs_7342.parquet\r\n",
      "-rw-r--r--  1 rmudambi IHME-Simulationscience 1.7M Apr  9 11:55 household_survey_observer_acs_734.parquet\r\n",
      "-rw-r--r--  1 rmudambi IHME-Simulationscience 1.7M Apr  9 11:55 household_survey_observer_acs_7107.parquet\r\n",
      "-rw-r--r--  1 rmudambi IHME-Simulationscience 1.7M Apr  9 11:55 household_survey_observer_acs_8838.parquet\r\n",
      "-rw-r--r--  1 rmudambi IHME-Simulationscience 1.7M Apr  9 11:55 household_survey_observer_acs_3938.parquet\r\n",
      "-rw-r--r--  1 rmudambi IHME-Simulationscience 1.7M Apr  9 11:55 household_survey_observer_acs_40.parquet\r\n",
      "-rw-r--r--  1 rmudambi IHME-Simulationscience 1.8M Apr  9 11:55 household_survey_observer_acs_7179.parquet\r\n",
      "-rw-r--r--  1 rmudambi IHME-Simulationscience 1.8M Apr  9 11:55 household_survey_observer_acs_3984.parquet\r\n",
      "-rw-r--r--  1 rmudambi IHME-Simulationscience 1.8M Apr  9 11:55 household_survey_observer_acs_7164.parquet\r\n",
      "-rw-r--r--  1 rmudambi IHME-Simulationscience 2.4M Apr  9 11:55 household_survey_observer_acs_8869.parquet\r\n",
      "-rw-r--r--  1 rmudambi IHME-Simulationscience 1.7M Apr  9 11:55 household_survey_observer_acs_432.parquet\r\n",
      "-rw-r--r--  1 rmudambi IHME-Simulationscience 2.3M Apr  9 11:55 household_survey_observer_acs_7264.parquet\r\n",
      "-rw-r--r--  1 rmudambi IHME-Simulationscience 1.8M Apr  9 11:55 household_survey_observer_acs_7551.parquet\r\n",
      "-rw-r--r--  1 rmudambi IHME-Simulationscience 1.7M Apr  9 11:55 household_survey_observer_acs_4255.parquet\r\n",
      "-rw-r--r--  1 rmudambi IHME-Simulationscience 1.8M Apr  9 11:55 household_survey_observer_acs_7016.parquet\r\n",
      "-rw-r--r--  1 rmudambi IHME-Simulationscience 1.9M Apr  9 11:55 household_survey_observer_acs_7054.parquet\r\n",
      "-rw-r--r--  1 rmudambi IHME-Simulationscience 1.9M Apr  9 11:55 household_survey_observer_acs_3825.parquet\r\n",
      "-rw-r--r--  1 rmudambi IHME-Simulationscience 1.8M Apr  9 11:55 household_survey_observer_acs_4202.parquet\r\n",
      "-rw-r--r--  1 rmudambi IHME-Simulationscience 1.7M Apr  9 11:55 household_survey_observer_acs_6817.parquet\r\n",
      "-rw-r--r--  1 rmudambi IHME-Simulationscience 1.9M Apr  9 11:55 household_survey_observer_acs_4369.parquet\r\n",
      "-rw-r--r--  1 rmudambi IHME-Simulationscience 2.1M Apr  9 11:55 household_survey_observer_acs_3586.parquet\r\n",
      "-rw-r--r--  1 rmudambi IHME-Simulationscience 1.7M Apr  9 11:55 household_survey_observer_acs_7303.parquet\r\n",
      "-rw-r--r--  1 rmudambi IHME-Simulationscience 1.7M Apr  9 11:55 household_survey_observer_acs_682.parquet\r\n",
      "-rw-r--r--  1 rmudambi IHME-Simulationscience 1.7M Apr  9 11:55 household_survey_observer_acs_440.parquet\r\n",
      "-rw-r--r--  1 rmudambi IHME-Simulationscience 1.8M Apr  9 11:55 household_survey_observer_acs_6793.parquet\r\n",
      "-rw-r--r--  1 rmudambi IHME-Simulationscience 1.8M Apr  9 11:55 household_survey_observer_acs_7125.parquet\r\n",
      "-rw-r--r--  1 rmudambi IHME-Simulationscience 1.8M Apr  9 11:55 household_survey_observer_acs_4496.parquet\r\n",
      "-rw-r--r--  1 rmudambi IHME-Simulationscience 2.2M Apr  9 11:55 household_survey_observer_acs_6800.parquet\r\n",
      "-rw-r--r--  1 rmudambi IHME-Simulationscience 2.2M Apr  9 11:55 household_survey_observer_acs_6790.parquet\r\n",
      "-rw-r--r--  1 rmudambi IHME-Simulationscience 1.7M Apr  9 11:55 household_survey_observer_acs_3624.parquet\r\n",
      "-rw-r--r--  1 rmudambi IHME-Simulationscience 1.7M Apr  9 11:55 household_survey_observer_acs_6929.parquet\r\n",
      "-rw-r--r--  1 rmudambi IHME-Simulationscience 1.8M Apr  9 11:55 household_survey_observer_acs_3632.parquet\r\n",
      "-rw-r--r--  1 rmudambi IHME-Simulationscience 1.7M Apr  9 11:55 household_survey_observer_acs_6975.parquet\r\n",
      "-rw-r--r--  1 rmudambi IHME-Simulationscience 1.8M Apr  9 11:55 household_survey_observer_acs_3994.parquet\r\n",
      "-rw-r--r--  1 rmudambi IHME-Simulationscience 2.0M Apr  9 11:55 household_survey_observer_acs_6776.parquet\r\n",
      "-rw-r--r--  1 rmudambi IHME-Simulationscience 1.7M Apr  9 11:55 household_survey_observer_acs_6982.parquet\r\n",
      "-rw-r--r--  1 rmudambi IHME-Simulationscience 1.8M Apr  9 11:55 household_survey_observer_acs_6778.parquet\r\n",
      "-rw-r--r--  1 rmudambi IHME-Simulationscience 1.8M Apr  9 11:55 household_survey_observer_acs_6874.parquet\r\n",
      "-rw-r--r--  1 rmudambi IHME-Simulationscience 1.7M Apr  9 11:55 household_survey_observer_acs_6701.parquet\r\n",
      "-rw-r--r--  1 rmudambi IHME-Simulationscience 2.3M Apr  9 11:55 household_survey_observer_acs_6606.parquet\r\n",
      "-rw-r--r--  1 rmudambi IHME-Simulationscience 2.2M Apr  9 11:55 household_survey_observer_acs_7589.parquet\r\n",
      "-rw-r--r--  1 rmudambi IHME-Simulationscience 1.8M Apr  9 11:55 household_survey_observer_acs_6760.parquet\r\n",
      "-rw-r--r--  1 rmudambi IHME-Simulationscience 1.9M Apr  9 11:55 household_survey_observer_acs_6554.parquet\r\n",
      "-rw-r--r--  1 rmudambi IHME-Simulationscience 1.7M Apr  9 11:55 household_survey_observer_acs_8734.parquet\r\n",
      "-rw-r--r--  1 rmudambi IHME-Simulationscience 1.7M Apr  9 11:55 household_survey_observer_acs_6123.parquet\r\n",
      "-rw-r--r--  1 rmudambi IHME-Simulationscience 1.9M Apr  9 11:55 household_survey_observer_acs_6654.parquet\r\n",
      "-rw-r--r--  1 rmudambi IHME-Simulationscience 1.7M Apr  9 11:55 household_survey_observer_acs_6442.parquet\r\n",
      "-rw-r--r--  1 rmudambi IHME-Simulationscience 2.2M Apr  9 11:55 household_survey_observer_acs_3947.parquet\r\n",
      "-rw-r--r--  1 rmudambi IHME-Simulationscience 1.8M Apr  9 11:55 household_survey_observer_acs_6520.parquet\r\n",
      "-rw-r--r--  1 rmudambi IHME-Simulationscience 1.7M Apr  9 11:55 household_survey_observer_acs_6519.parquet\r\n",
      "-rw-r--r--  1 rmudambi IHME-Simulationscience 1.7M Apr  9 11:55 household_survey_observer_acs_386.parquet\r\n",
      "-rw-r--r--  1 rmudambi IHME-Simulationscience 1.7M Apr  9 11:55 household_survey_observer_acs_6207.parquet\r\n",
      "-rw-r--r--  1 rmudambi IHME-Simulationscience 1.8M Apr  9 11:55 household_survey_observer_acs_7530.parquet\r\n",
      "-rw-r--r--  1 rmudambi IHME-Simulationscience 2.1M Apr  9 11:55 household_survey_observer_acs_6751.parquet\r\n",
      "-rw-r--r--  1 rmudambi IHME-Simulationscience 1.7M Apr  9 11:55 household_survey_observer_acs_656.parquet\r\n",
      "-rw-r--r--  1 rmudambi IHME-Simulationscience 1.8M Apr  9 11:55 household_survey_observer_acs_6144.parquet\r\n",
      "-rw-r--r--  1 rmudambi IHME-Simulationscience 2.2M Apr  9 11:55 household_survey_observer_acs_6079.parquet\r\n",
      "-rw-r--r--  1 rmudambi IHME-Simulationscience 1.8M Apr  9 11:55 household_survey_observer_acs_6539.parquet\r\n",
      "-rw-r--r--  1 rmudambi IHME-Simulationscience 1.7M Apr  9 11:55 household_survey_observer_acs_3725.parquet\r\n",
      "-rw-r--r--  1 rmudambi IHME-Simulationscience 1.8M Apr  9 11:55 household_survey_observer_acs_6324.parquet\r\n",
      "-rw-r--r--  1 rmudambi IHME-Simulationscience 1.7M Apr  9 11:55 household_survey_observer_acs_6487.parquet\r\n",
      "-rw-r--r--  1 rmudambi IHME-Simulationscience 1.8M Apr  9 11:55 household_survey_observer_acs_3607.parquet\r\n",
      "-rw-r--r--  1 rmudambi IHME-Simulationscience 1.7M Apr  9 11:55 household_survey_observer_acs_6191.parquet\r\n",
      "-rw-r--r--  1 rmudambi IHME-Simulationscience 2.1M Apr  9 11:55 household_survey_observer_acs_3298.parquet\r\n",
      "-rw-r--r--  1 rmudambi IHME-Simulationscience 2.3M Apr  9 11:55 household_survey_observer_acs_6203.parquet\r\n",
      "-rw-r--r--  1 rmudambi IHME-Simulationscience 2.1M Apr  9 11:55 household_survey_observer_acs_6991.parquet\r\n",
      "-rw-r--r--  1 rmudambi IHME-Simulationscience 2.2M Apr  9 11:55 household_survey_observer_acs_5969.parquet\r\n",
      "-rw-r--r--  1 rmudambi IHME-Simulationscience 1.7M Apr  9 11:55 household_survey_observer_acs_6090.parquet\r\n",
      "-rw-r--r--  1 rmudambi IHME-Simulationscience 2.1M Apr  9 11:55 household_survey_observer_acs_3731.parquet\r\n",
      "-rw-r--r--  1 rmudambi IHME-Simulationscience 1.8M Apr  9 11:54 household_survey_observer_acs_3591.parquet\r\n",
      "-rw-r--r--  1 rmudambi IHME-Simulationscience 1.9M Apr  9 11:54 household_survey_observer_acs_3978.parquet\r\n",
      "-rw-r--r--  1 rmudambi IHME-Simulationscience 1.9M Apr  9 11:54 household_survey_observer_acs_860.parquet\r\n",
      "-rw-r--r--  1 rmudambi IHME-Simulationscience 1.8M Apr  9 11:54 household_survey_observer_acs_5901.parquet\r\n",
      "-rw-r--r--  1 rmudambi IHME-Simulationscience 1.8M Apr  9 11:54 household_survey_observer_acs_6007.parquet\r\n",
      "-rw-r--r--  1 rmudambi IHME-Simulationscience 2.0M Apr  9 11:54 household_survey_observer_acs_5950.parquet\r\n",
      "-rw-r--r--  1 rmudambi IHME-Simulationscience 2.0M Apr  9 11:54 household_survey_observer_acs_3684.parquet\r\n",
      "-rw-r--r--  1 rmudambi IHME-Simulationscience 1.8M Apr  9 11:54 household_survey_observer_acs_3789.parquet\r\n",
      "-rw-r--r--  1 rmudambi IHME-Simulationscience 1.7M Apr  9 11:54 household_survey_observer_acs_2863.parquet\r\n",
      "-rw-r--r--  1 rmudambi IHME-Simulationscience 1.7M Apr  9 11:54 household_survey_observer_acs_5892.parquet\r\n",
      "-rw-r--r--  1 rmudambi IHME-Simulationscience 2.5M Apr  9 11:54 household_survey_observer_acs_4123.parquet\r\n",
      "-rw-r--r--  1 rmudambi IHME-Simulationscience 1.7M Apr  9 11:54 household_survey_observer_acs_3793.parquet\r\n",
      "-rw-r--r--  1 rmudambi IHME-Simulationscience 1.8M Apr  9 11:54 household_survey_observer_acs_3595.parquet\r\n",
      "-rw-r--r--  1 rmudambi IHME-Simulationscience 2.2M Apr  9 11:54 household_survey_observer_acs_3454.parquet\r\n",
      "-rw-r--r--  1 rmudambi IHME-Simulationscience 1.7M Apr  9 11:54 household_survey_observer_acs_3598.parquet\r\n",
      "-rw-r--r--  1 rmudambi IHME-Simulationscience 1.7M Apr  9 11:54 household_survey_observer_acs_821.parquet\r\n",
      "-rw-r--r--  1 rmudambi IHME-Simulationscience 1.8M Apr  9 11:54 household_survey_observer_acs_5875.parquet\r\n",
      "-rw-r--r--  1 rmudambi IHME-Simulationscience 1.7M Apr  9 11:54 household_survey_observer_acs_3585.parquet\r\n",
      "-rw-r--r--  1 rmudambi IHME-Simulationscience 1.8M Apr  9 11:54 household_survey_observer_acs_3713.parquet\r\n",
      "-rw-r--r--  1 rmudambi IHME-Simulationscience 1.7M Apr  9 11:54 household_survey_observer_acs_558.parquet\r\n",
      "-rw-r--r--  1 rmudambi IHME-Simulationscience 1.7M Apr  9 11:54 household_survey_observer_acs_352.parquet\r\n",
      "-rw-r--r--  1 rmudambi IHME-Simulationscience 1.7M Apr  9 11:54 household_survey_observer_acs_5797.parquet\r\n",
      "-rw-r--r--  1 rmudambi IHME-Simulationscience 1.8M Apr  9 11:54 household_survey_observer_acs_3568.parquet\r\n",
      "-rw-r--r--  1 rmudambi IHME-Simulationscience 1.8M Apr  9 11:54 household_survey_observer_acs_3481.parquet\r\n",
      "-rw-r--r--  1 rmudambi IHME-Simulationscience 1.7M Apr  9 11:53 household_survey_observer_acs_5698.parquet\r\n",
      "-rw-r--r--  1 rmudambi IHME-Simulationscience 2.2M Apr  9 11:53 household_survey_observer_acs_3541.parquet\r\n",
      "-rw-r--r--  1 rmudambi IHME-Simulationscience 1.8M Apr  9 11:53 household_survey_observer_acs_3380.parquet\r\n",
      "-rw-r--r--  1 rmudambi IHME-Simulationscience 2.4M Apr  9 11:53 household_survey_observer_acs_8156.parquet\r\n",
      "-rw-r--r--  1 rmudambi IHME-Simulationscience 1.8M Apr  9 11:53 household_survey_observer_acs_3545.parquet\r\n",
      "-rw-r--r--  1 rmudambi IHME-Simulationscience 1.8M Apr  9 11:53 household_survey_observer_acs_3465.parquet\r\n",
      "-rw-r--r--  1 rmudambi IHME-Simulationscience 1.7M Apr  9 11:53 household_survey_observer_acs_7985.parquet\r\n",
      "-rw-r--r--  1 rmudambi IHME-Simulationscience 1.7M Apr  9 11:53 household_survey_observer_acs_5619.parquet\r\n",
      "-rw-r--r--  1 rmudambi IHME-Simulationscience 1.8M Apr  9 11:53 household_survey_observer_acs_7938.parquet\r\n",
      "-rw-r--r--  1 rmudambi IHME-Simulationscience 2.0M Apr  9 11:53 household_survey_observer_acs_338.parquet\r\n",
      "-rw-r--r--  1 rmudambi IHME-Simulationscience 2.0M Apr  9 11:53 household_survey_observer_acs_2989.parquet\r\n",
      "-rw-r--r--  1 rmudambi IHME-Simulationscience 2.0M Apr  9 11:53 household_survey_observer_acs_7870.parquet\r\n",
      "-rw-r--r--  1 rmudambi IHME-Simulationscience 1.7M Apr  9 11:53 household_survey_observer_acs_2229.parquet\r\n",
      "-rw-r--r--  1 rmudambi IHME-Simulationscience 1.8M Apr  9 11:53 household_survey_observer_acs_3304.parquet\r\n",
      "-rw-r--r--  1 rmudambi IHME-Simulationscience 1.7M Apr  9 11:53 household_survey_observer_acs_5399.parquet\r\n",
      "-rw-r--r--  1 rmudambi IHME-Simulationscience 2.2M Apr  9 11:53 household_survey_observer_acs_3377.parquet\r\n",
      "-rw-r--r--  1 rmudambi IHME-Simulationscience 1.7M Apr  9 11:53 household_survey_observer_acs_778.parquet\r\n",
      "-rw-r--r--  1 rmudambi IHME-Simulationscience 1.7M Apr  9 11:53 household_survey_observer_acs_5501.parquet\r\n",
      "-rw-r--r--  1 rmudambi IHME-Simulationscience 1.7M Apr  9 11:53 household_survey_observer_acs_3390.parquet\r\n",
      "-rw-r--r--  1 rmudambi IHME-Simulationscience 2.1M Apr  9 11:53 household_survey_observer_acs_7745.parquet\r\n",
      "-rw-r--r--  1 rmudambi IHME-Simulationscience 1.7M Apr  9 11:53 household_survey_observer_acs_28.parquet\r\n",
      "-rw-r--r--  1 rmudambi IHME-Simulationscience 1.8M Apr  9 11:53 household_survey_observer_acs_5300.parquet\r\n",
      "-rw-r--r--  1 rmudambi IHME-Simulationscience 1.8M Apr  9 11:52 household_survey_observer_acs_7594.parquet\r\n",
      "-rw-r--r--  1 rmudambi IHME-Simulationscience 1.9M Apr  9 11:52 household_survey_observer_acs_5348.parquet\r\n",
      "-rw-r--r--  1 rmudambi IHME-Simulationscience 1.7M Apr  9 11:52 household_survey_observer_acs_3374.parquet\r\n",
      "-rw-r--r--  1 rmudambi IHME-Simulationscience 1.8M Apr  9 11:52 household_survey_observer_acs_2405.parquet\r\n",
      "-rw-r--r--  1 rmudambi IHME-Simulationscience 1.8M Apr  9 11:52 household_survey_observer_acs_7511.parquet\r\n",
      "-rw-r--r--  1 rmudambi IHME-Simulationscience 1.8M Apr  9 11:52 household_survey_observer_acs_2808.parquet\r\n",
      "-rw-r--r--  1 rmudambi IHME-Simulationscience 1.8M Apr  9 11:52 household_survey_observer_acs_7344.parquet\r\n",
      "-rw-r--r--  1 rmudambi IHME-Simulationscience 1.7M Apr  9 11:52 household_survey_observer_acs_7086.parquet\r\n",
      "-rw-r--r--  1 rmudambi IHME-Simulationscience 1.8M Apr  9 11:52 household_survey_observer_acs_2599.parquet\r\n",
      "-rw-r--r--  1 rmudambi IHME-Simulationscience 1.8M Apr  9 11:52 household_survey_observer_acs_6810.parquet\r\n",
      "-rw-r--r--  1 rmudambi IHME-Simulationscience 2.4M Apr  9 11:52 household_survey_observer_acs_2721.parquet\r\n",
      "-rw-r--r--  1 rmudambi IHME-Simulationscience 1.8M Apr  9 11:51 household_survey_observer_acs_2461.parquet\r\n",
      "-rw-r--r--  1 rmudambi IHME-Simulationscience 2.1M Apr  9 11:51 household_survey_observer_acs_3066.parquet\r\n",
      "-rw-r--r--  1 rmudambi IHME-Simulationscience 1.8M Apr  9 11:51 household_survey_observer_acs_4743.parquet\r\n",
      "-rw-r--r--  1 rmudambi IHME-Simulationscience 1.7M Apr  9 11:51 household_survey_observer_acs_2500.parquet\r\n",
      "-rw-r--r--  1 rmudambi IHME-Simulationscience 1.8M Apr  9 11:51 household_survey_observer_acs_2477.parquet\r\n",
      "-rw-r--r--  1 rmudambi IHME-Simulationscience 1.8M Apr  9 11:51 household_survey_observer_acs_2787.parquet\r\n",
      "-rw-r--r--  1 rmudambi IHME-Simulationscience 1.8M Apr  9 11:51 household_survey_observer_acs_1632.parquet\r\n",
      "-rw-r--r--  1 rmudambi IHME-Simulationscience 1.8M Apr  9 11:51 household_survey_observer_acs_2311.parquet\r\n",
      "-rw-r--r--  1 rmudambi IHME-Simulationscience 2.1M Apr  9 11:51 household_survey_observer_acs_2700.parquet\r\n",
      "-rw-r--r--  1 rmudambi IHME-Simulationscience 2.1M Apr  9 11:51 household_survey_observer_acs_2448.parquet\r\n",
      "-rw-r--r--  1 rmudambi IHME-Simulationscience 1.7M Apr  9 11:51 household_survey_observer_acs_1655.parquet\r\n",
      "-rw-r--r--  1 rmudambi IHME-Simulationscience 1.7M Apr  9 11:51 household_survey_observer_acs_1614.parquet\r\n",
      "-rw-r--r--  1 rmudambi IHME-Simulationscience 1.7M Apr  9 11:51 household_survey_observer_acs_1832.parquet\r\n",
      "-rw-r--r--  1 rmudambi IHME-Simulationscience 1.7M Apr  9 11:51 household_survey_observer_acs_1667.parquet\r\n",
      "-rw-r--r--  1 rmudambi IHME-Simulationscience 1.8M Apr  9 11:51 household_survey_observer_acs_5863.parquet\r\n",
      "-rw-r--r--  1 rmudambi IHME-Simulationscience 2.2M Apr  9 11:51 household_survey_observer_acs_2054.parquet\r\n",
      "-rw-r--r--  1 rmudambi IHME-Simulationscience 2.1M Apr  9 11:51 household_survey_observer_acs_5831.parquet\r\n",
      "-rw-r--r--  1 rmudambi IHME-Simulationscience 1.8M Apr  9 11:51 household_survey_observer_acs_2277.parquet\r\n",
      "-rw-r--r--  1 rmudambi IHME-Simulationscience 1.7M Apr  9 11:51 household_survey_observer_acs_1933.parquet\r\n",
      "-rw-r--r--  1 rmudambi IHME-Simulationscience 1.8M Apr  9 11:51 household_survey_observer_acs_5685.parquet\r\n",
      "-rw-r--r--  1 rmudambi IHME-Simulationscience 1.7M Apr  9 11:51 household_survey_observer_acs_1648.parquet\r\n",
      "-rw-r--r--  1 rmudambi IHME-Simulationscience 1.8M Apr  9 11:51 household_survey_observer_acs_1935.parquet\r\n",
      "-rw-r--r--  1 rmudambi IHME-Simulationscience 1.7M Apr  9 11:51 household_survey_observer_acs_2416.parquet\r\n",
      "-rw-r--r--  1 rmudambi IHME-Simulationscience 1.8M Apr  9 11:51 household_survey_observer_acs_5616.parquet\r\n",
      "-rw-r--r--  1 rmudambi IHME-Simulationscience 1.7M Apr  9 11:51 household_survey_observer_acs_5628.parquet\r\n",
      "-rw-r--r--  1 rmudambi IHME-Simulationscience 2.0M Apr  9 11:50 household_survey_observer_acs_2476.parquet\r\n",
      "-rw-r--r--  1 rmudambi IHME-Simulationscience 1.7M Apr  9 11:50 household_survey_observer_acs_1609.parquet\r\n",
      "-rw-r--r--  1 rmudambi IHME-Simulationscience 1.8M Apr  9 11:50 household_survey_observer_acs_1777.parquet\r\n",
      "-rw-r--r--  1 rmudambi IHME-Simulationscience 1.8M Apr  9 11:50 household_survey_observer_acs_1562.parquet\r\n",
      "-rw-r--r--  1 rmudambi IHME-Simulationscience 1.7M Apr  9 11:50 household_survey_observer_acs_278.parquet\r\n",
      "-rw-r--r--  1 rmudambi IHME-Simulationscience 1.8M Apr  9 11:50 household_survey_observer_acs_5440.parquet\r\n",
      "-rw-r--r--  1 rmudambi IHME-Simulationscience 1.7M Apr  9 11:50 household_survey_observer_acs_2047.parquet\r\n",
      "-rw-r--r--  1 rmudambi IHME-Simulationscience 2.0M Apr  9 11:50 household_survey_observer_acs_1753.parquet\r\n",
      "-rw-r--r--  1 rmudambi IHME-Simulationscience 1.9M Apr  9 11:50 household_survey_observer_acs_1232.parquet\r\n",
      "-rw-r--r--  1 rmudambi IHME-Simulationscience 1.8M Apr  9 11:50 household_survey_observer_acs_5439.parquet\r\n",
      "-rw-r--r--  1 rmudambi IHME-Simulationscience 2.2M Apr  9 11:50 household_survey_observer_acs_1235.parquet\r\n",
      "-rw-r--r--  1 rmudambi IHME-Simulationscience 2.2M Apr  9 11:50 household_survey_observer_acs_3723.parquet\r\n",
      "-rw-r--r--  1 rmudambi IHME-Simulationscience 1.8M Apr  9 11:50 household_survey_observer_acs_1917.parquet\r\n",
      "-rw-r--r--  1 rmudambi IHME-Simulationscience 1.7M Apr  9 11:50 household_survey_observer_acs_1897.parquet\r\n",
      "-rw-r--r--  1 rmudambi IHME-Simulationscience 2.0M Apr  9 11:49 household_survey_observer_acs_1452.parquet\r\n",
      "-rw-r--r--  1 rmudambi IHME-Simulationscience 1.7M Apr  9 11:49 household_survey_observer_acs_1597.parquet\r\n",
      "-rw-r--r--  1 rmudambi IHME-Simulationscience 1.8M Apr  9 11:49 household_survey_observer_acs_1299.parquet\r\n",
      "-rw-r--r--  1 rmudambi IHME-Simulationscience 1.7M Apr  9 11:49 household_survey_observer_acs_1177.parquet\r\n",
      "-rw-r--r--  1 rmudambi IHME-Simulationscience 1.8M Apr  9 11:49 household_survey_observer_acs_1534.parquet\r\n",
      "-rw-r--r--  1 rmudambi IHME-Simulationscience 2.0M Apr  9 11:49 household_survey_observer_acs_1356.parquet\r\n",
      "-rw-r--r--  1 rmudambi IHME-Simulationscience 1.7M Apr  9 11:49 household_survey_observer_acs_1200.parquet\r\n",
      "-rw-r--r--  1 rmudambi IHME-Simulationscience 2.2M Apr  9 11:49 household_survey_observer_acs_103.parquet\r\n",
      "-rw-r--r--  1 rmudambi IHME-Simulationscience 1.7M Apr  9 11:49 household_survey_observer_acs_1182.parquet\r\n",
      "-rw-r--r--  1 rmudambi IHME-Simulationscience 2.0M Apr  9 11:49 household_survey_observer_acs_1091.parquet\r\n",
      "-rw-r--r--  1 rmudambi IHME-Simulationscience 1.7M Apr  9 11:49 household_survey_observer_acs_1069.parquet\r\n",
      "-rw-r--r--  1 rmudambi IHME-Simulationscience 2.2M Apr  9 11:49 household_survey_observer_acs_1362.parquet\r\n",
      "-rw-r--r--  1 rmudambi IHME-Simulationscience 1.8M Apr  9 11:48 household_survey_observer_acs_1154.parquet\r\n",
      "-rw-r--r--  1 rmudambi IHME-Simulationscience 1.9M Apr  9 11:48 household_survey_observer_acs_131.parquet\r\n",
      "-rw-r--r--  1 rmudambi IHME-Simulationscience 2.0M Apr  9 11:48 household_survey_observer_acs_4950.parquet\r\n",
      "-rw-r--r--  1 rmudambi IHME-Simulationscience 1.8M Apr  9 11:48 household_survey_observer_acs_1074.parquet\r\n",
      "-rw-r--r--  1 rmudambi IHME-Simulationscience 1.7M Apr  9 11:48 household_survey_observer_acs_2298.parquet\r\n",
      "-rw-r--r--  1 rmudambi IHME-Simulationscience 1.8M Apr  9 11:48 household_survey_observer_acs_2284.parquet\r\n",
      "-rw-r--r--  1 rmudambi IHME-Simulationscience 1.8M Apr  9 11:48 household_survey_observer_acs_4561.parquet\r\n",
      "-rw-r--r--  1 rmudambi IHME-Simulationscience 2.3M Apr  9 11:48 household_survey_observer_acs_1990.parquet\r\n",
      "-rw-r--r--  1 rmudambi IHME-Simulationscience 2.8M Apr  9 11:47 household_survey_observer_acs_3776.parquet\r\n",
      "-rw-r--r--  1 rmudambi IHME-Simulationscience 1.7M Apr  9 11:47 household_survey_observer_acs_1508.parquet\r\n",
      "-rw-r--r--  1 rmudambi IHME-Simulationscience 1.8M Apr  9 11:47 household_survey_observer_acs_1282.parquet\r\n",
      "-rw-r--r--  1 rmudambi IHME-Simulationscience 1.9M Apr  9 11:47 household_survey_observer_acs_1490.parquet\r\n",
      "-rw-r--r--  1 rmudambi IHME-Simulationscience 1.8M Apr  9 11:46 household_survey_observer_acs_1007.parquet\r\n",
      "-rw-r--r--  1 rmudambi IHME-Simulationscience 1.7M Apr  9 11:46 household_survey_observer_acs_1482.parquet\r\n",
      "-rw-r--r--  1 rmudambi IHME-Simulationscience 2.0M Apr  9 11:46 household_survey_observer_acs_1559.parquet\r\n",
      "-rw-r--r--  1 rmudambi IHME-Simulationscience 1.8M Apr  9 11:46 household_survey_observer_acs_1483.parquet\r\n",
      "-rw-r--r--  1 rmudambi IHME-Simulationscience 1.7M Apr  9 11:45 household_survey_observer_acs_3528.parquet\r\n",
      "-rw-r--r--  1 rmudambi IHME-Simulationscience 1.7M Apr  9 11:45 household_survey_observer_acs_107.parquet\r\n",
      "-rw-r--r--  1 rmudambi IHME-Simulationscience 1.8M Apr  9 11:45 household_survey_observer_acs_3326.parquet\r\n",
      "-rw-r--r--  1 rmudambi IHME-Simulationscience 1.7M Apr  9 11:45 household_survey_observer_acs_3305.parquet\r\n",
      "-rw-r--r--  1 rmudambi IHME-Simulationscience 1.7M Apr  9 11:45 household_survey_observer_acs_3357.parquet\r\n",
      "-rw-r--r--  1 rmudambi IHME-Simulationscience 2.1M Apr  9 11:45 household_survey_observer_acs_323.parquet\r\n",
      "-rw-r--r--  1 rmudambi IHME-Simulationscience 2.0M Apr  9 11:45 household_survey_observer_acs_3254.parquet\r\n",
      "-rw-r--r--  1 rmudambi IHME-Simulationscience 1.7M Apr  9 11:45 household_survey_observer_acs_315.parquet\r\n",
      "-rw-r--r--  1 rmudambi IHME-Simulationscience 2.1M Apr  9 11:45 household_survey_observer_acs_3240.parquet\r\n",
      "-rw-r--r--  1 rmudambi IHME-Simulationscience 1.7M Apr  9 11:44 household_survey_observer_acs_3167.parquet\r\n",
      "-rw-r--r--  1 rmudambi IHME-Simulationscience 2.4M Apr  9 11:44 household_survey_observer_acs_3202.parquet\r\n",
      "-rw-r--r--  1 rmudambi IHME-Simulationscience 1.7M Apr  9 11:44 household_survey_observer_acs_3225.parquet\r\n",
      "-rw-r--r--  1 rmudambi IHME-Simulationscience 1.7M Apr  9 11:44 household_survey_observer_acs_3142.parquet\r\n",
      "-rw-r--r--  1 rmudambi IHME-Simulationscience 1.8M Apr  9 11:44 household_survey_observer_acs_3093.parquet\r\n",
      "-rw-r--r--  1 rmudambi IHME-Simulationscience 1.7M Apr  9 11:44 household_survey_observer_acs_2965.parquet\r\n",
      "-rw-r--r--  1 rmudambi IHME-Simulationscience 1.7M Apr  9 11:44 household_survey_observer_acs_1061.parquet\r\n",
      "-rw-r--r--  1 rmudambi IHME-Simulationscience 1.7M Apr  9 11:44 household_survey_observer_acs_1219.parquet\r\n"
     ]
    }
   ],
   "source": [
    "!ls -halt $usa_par_dir/household_survey_observer_acs"
   ]
  },
  {
   "cell_type": "code",
   "execution_count": null,
   "id": "fc49d1a2",
   "metadata": {},
   "outputs": [],
   "source": [
    "pp.generate_american_communities_survey()"
   ]
  },
  {
   "cell_type": "code",
   "execution_count": null,
   "id": "57c8a512",
   "metadata": {},
   "outputs": [],
   "source": [
    "# pick a few seeds\n",
    "seeds = [2689, 6545, 9888]\n"
   ]
  },
  {
   "cell_type": "code",
   "execution_count": null,
   "id": "747ffa28",
   "metadata": {},
   "outputs": [],
   "source": [
    "221149/"
   ]
  }
 ],
 "metadata": {
  "kernelspec": {
   "display_name": "Python 3 (ipykernel)",
   "language": "python",
   "name": "python3"
  },
  "language_info": {
   "codemirror_mode": {
    "name": "ipython",
    "version": 3
   },
   "file_extension": ".py",
   "mimetype": "text/x-python",
   "name": "python",
   "nbconvert_exporter": "python",
   "pygments_lexer": "ipython3",
   "version": "3.8.13"
  }
 },
 "nbformat": 4,
 "nbformat_minor": 5
}
