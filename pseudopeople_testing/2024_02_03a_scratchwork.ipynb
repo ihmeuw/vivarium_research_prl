{
 "cells": [
  {
   "cell_type": "code",
   "execution_count": 1,
   "id": "6155dc36-4d57-48bb-9e89-1b6a0ef52628",
   "metadata": {},
   "outputs": [],
   "source": [
    "%load_ext autoreload\n",
    "%autoreload 2"
   ]
  },
  {
   "cell_type": "code",
   "execution_count": 2,
   "id": "d95e1a30-5d9b-4e94-afeb-fd66a8d5e6af",
   "metadata": {},
   "outputs": [
    {
     "name": "stderr",
     "output_type": "stream",
     "text": [
      "2024-02-03 00:44:05,409 - matplotlib - DEBUG - matplotlib data path: /ihme/homes/ndbs/miniconda3/envs/ppplv1.0-311/lib/python3.11/site-packages/matplotlib/mpl-data\n",
      "2024-02-03 00:44:05,433 - matplotlib - DEBUG - CONFIGDIR=/ihme/homes/ndbs/.config/matplotlib\n",
      "2024-02-03 00:44:05,435 - matplotlib - DEBUG - interactive is False\n",
      "2024-02-03 00:44:05,436 - matplotlib - DEBUG - platform is linux\n",
      "2024-02-03 00:44:05,614 - matplotlib - DEBUG - CACHEDIR=/ihme/homes/ndbs/.cache/matplotlib\n",
      "2024-02-03 00:44:05,620 - matplotlib.font_manager - DEBUG - Using fontManager instance from /ihme/homes/ndbs/.cache/matplotlib/fontlist-v330.json\n",
      "2024-02-03 00:44:06,925 - numexpr.utils - INFO - Note: NumExpr detected 64 cores but \"NUMEXPR_MAX_THREADS\" not set, so enforcing safe limit of 8.\n"
     ]
    },
    {
     "name": "stdout",
     "output_type": "stream",
     "text": [
      "Sat 03 Feb 2024 12:44:15 AM PST\n",
      "ndbs\n",
      "Linux int-slurm-sarchive-p0005 5.4.0-167-generic #184-Ubuntu SMP Tue Oct 31 09:21:49 UTC 2023 x86_64 x86_64 x86_64 GNU/Linux\n",
      "/mnt/share/code/ndbs/vivarium_research_prl/pseudopeople_testing\n",
      "Python 3.11.7\n",
      "ppplv1.0-311          *  /ihme/homes/ndbs/miniconda3/envs/ppplv1.0-311\n",
      "numpy                     1.26.3                   pypi_0    pypi\n",
      "pandas                    2.1.4                    pypi_0    pypi\n",
      "pseudopeople              0.8.4.dev32+g8c8f99b          pypi_0    pypi\n",
      "vivarium                  2.3.1                    pypi_0    pypi\n",
      "vivarium-research-prl     0.0.1                     dev_0    <develop>\n",
      "pseudopeople @ git+https://github.com/ihmeuw/pseudopeople.git@8c8f99b4ed3111e3bb0b9cd812c923049e39f7a8\n"
     ]
    }
   ],
   "source": [
    "import logging\n",
    "logging.basicConfig(level=logging.DEBUG, format='{asctime} - {name} - {levelname} - {message}', style='{')\n",
    "import numpy as np, matplotlib.pyplot as plt, pandas as pd\n",
    "# For finding and loading multiple files\n",
    "import os\n",
    "# Use this to see how much memory the dataframes use\n",
    "from sys import getsizeof\n",
    "from pathlib import Path\n",
    "from linetimer import CodeTimer, linetimer\n",
    "import yaml\n",
    "import wrapt\n",
    "\n",
    "import pseudopeople as psp\n",
    "\n",
    "from vivarium_research_prl.utils import sizemb, MappingViaAttributes\n",
    "from vivarium_research_prl import alpha, datatypes, utils\n",
    "\n",
    "!date\n",
    "!whoami\n",
    "!uname -a\n",
    "!pwd\n",
    "!python --version\n",
    "!conda info --envs | grep '\\*'\n",
    "!conda list | grep -e pandas -e numpy -e vivarium -e pseudopeople\n",
    "!pip freeze | grep pseudopeople"
   ]
  },
  {
   "cell_type": "code",
   "execution_count": 3,
   "id": "0839ed7b-d3e4-4cda-b662-51e25b5b3720",
   "metadata": {},
   "outputs": [
    {
     "name": "stdout",
     "output_type": "stream",
     "text": [
      "https://github.com/ihmeuw/pseudopeople/tree/8c8f99b4ed3111e3bb0b9cd812c923049e39f7a8\n"
     ]
    }
   ],
   "source": [
    "# A clickable link to the GitHub UI to see what version I'm using\n",
    "! pip freeze | grep pseudopeople | sed -e 's|pseudopeople @ ||' | sed -e 's|git+||' | sed -e 's|\\.git@|/tree/|'"
   ]
  },
  {
   "cell_type": "markdown",
   "id": "84486047-905c-438f-a37e-8c187e782471",
   "metadata": {},
   "source": [
    "# Find data\n",
    "\n",
    "Project directory:\n",
    "\n",
    "```\n",
    "/mnt/team/simulation_science/pub/models/vivarium_census_prl_synth_pop\n",
    "```\n",
    "\n",
    "Directory [Zeb sent in Slack](https://ihme.slack.com/archives/C02KUQ9LX32/p1705720235528949?thread_ts=1705713714.552259&cid=C02KUQ9LX32), saying that this is the latest zipped RI data (this is similar to the `latest` run, but the postprocessing date is different):\n",
    "```\n",
    "/mnt/team/simulation_science/priv/engineering/vivarium_census_prl_synth_pop/results/release_02_yellow/full_data/united_states_of_america/2023_08_21_16_35_27/final_results/2023_08_31_15_58_01/\n",
    "```"
   ]
  },
  {
   "cell_type": "code",
   "execution_count": 12,
   "id": "ba98b109-70a6-4b3d-abdc-c2100b85369b",
   "metadata": {},
   "outputs": [],
   "source": [
    "project_path = Path('/mnt/team/simulation_science/pub/models/vivarium_census_prl_synth_pop')\n",
    "usa_path = project_path / 'results/release_02_yellow/full_data/united_states_of_america'\n",
    "\n",
    "# Not sure what these runs are for...\n",
    "latest_run = usa_path / 'latest'\n",
    "best_run = usa_path / 'best'\n",
    "latest_run_path = usa_path / '2023_08_21_16_35_27/final_results/2024_01_11_07_27_51/pseudopeople_input_data_usa_2.0.0'\n",
    "best_run_path = usa_path / '2023_07_28_08_33_09/final_results/2023_07_31_08_59_48/'\n",
    "\n",
    "# I think this is the run we should be using...\n",
    "last_zipped_sim_path = usa_path / '2023_08_21_16_35_27'\n",
    "last_zipped_path = last_zipped_sim_path / 'final_results/2023_08_31_15_58_01'\n",
    "\n",
    "ri_data_dir = last_zipped_path / 'states/pseudopeople_simulated_population_rhode_island_2_0_0'\n",
    "usa_data_dir = last_zipped_path / 'pseudopeople_simulated_population_usa_2_0_0'\n"
   ]
  },
  {
   "cell_type": "code",
   "execution_count": 17,
   "id": "f705607e-af90-4fba-af60-ebb2b4a65919",
   "metadata": {},
   "outputs": [
    {
     "name": "stdout",
     "output_type": "stream",
     "text": [
      "branches.yaml  logs\t\t\t __pycache__\t   settings.py\n",
      "final_results  model_specification.yaml  raw_results\n",
      "keyspace.yaml  output.hdf\t\t requirements.txt\n"
     ]
    }
   ],
   "source": [
    "!ls $last_zipped_sim_path"
   ]
  },
  {
   "cell_type": "markdown",
   "id": "9628e7f2-95eb-4480-8566-6a5a2c598fed",
   "metadata": {},
   "source": [
    "# Things I want to do\n",
    "\n",
    "1. Update dtype conversion code in `datatypes.py` to not modify dataframe in place (try creating a list of `Series` and using `pd.concat`)\n",
    "2. Test the above dtype conversion on the RI data, to be sure I can use it on the USA data\n",
    "3. Add functions to `utils.py`:\n",
    "\n",
    "    1. Function to read seeds from `keyspace.yaml`\n",
    "    2. Function to create a file logger. See [this post](https://stackoverflow.com/questions/10973362/python-logging-function-name-file-name-line-number-using-a-single-file) and [this reference](https://docs.python.org/2/library/logging.html#logrecord-attributes) for how to add function name and line number to the logged messages.\n",
    "    3. (Two?) decorators to monkey-patch the pseudopeople `generate_x` functions to be able to generate a dataset from a subset of shards. Namely:\n",
    "\n",
    "        1. Write a decorator to apply to `get_dataset_filepaths` (or possibly `fetch_filepaths`) that filters the contents of the returned list of paths.\n",
    "        2. Write a decorator to apply to any of the `generate_x` functions that monkey-patches the `pseudopeople` package by replacing `get_dataset_filepaths` with its decorated version, then calling `generate_x`, then replacing `get_dataset_filepaths` with its original value using a `try/finally` block.\n",
    "        3. Both decorators should accept a list of filters (e.g., seed numbers) to apply to the filepaths.\n",
    "      \n",
    "    4. Anything else?\n",
    " \n",
    "5. Continue to add features to the `generate_datasets` function:\n",
    "\n",
    "    1. Add an `include` parameter in addition to the `skip` parameter (maybe rename `exclude`?)\n",
    "    2. Add code to automatically apply the above `pseudopeople` monkey-patch to generate datasets from a subset of shards\n",
    "    3. Add the ability to completely turn off logging by passing `logger=None`. See [this post](https://stackoverflow.com/questions/13521981/implementing-an-optional-logger-in-code) for some options, and also [this reference](https://docs.python.org/3/howto/logging.html#configuring-logging-for-a-library)\n",
    "  \n",
    "6. Load one shard of census and one shard of SSA, and compare memory usage, so I can estimate how much memory to request on the cluster\n",
    "7. Or just launch a cluster job with, e.g., 200 GiB of memory, and generate all RI data, including SSA"
   ]
  },
  {
   "cell_type": "markdown",
   "id": "9ba93f46-5441-4e70-aea4-16a6b6ad0883",
   "metadata": {},
   "source": [
    "# Test getting a new logger\n",
    "\n",
    "Looks like any new logger inherits the logging level of the root.\n",
    "\n",
    "## Here are 3 solutions for \"turning off\" a logger\n",
    "\n",
    "Quoted from https://github.com/python/cpython/issues/80499, which was cited here: https://stackoverflow.com/questions/2266646/how-to-disable-logging-on-the-standard-error-stream\n",
    "\n",
    "> In the logging Python library, one can completely disable logging (for all levels) for a particular logger either by setting its `disabled` attribute to `True`, or by adding to it a `lambda record: False` filter, or by adding to it a `logging.NullHandler()` handler (to avoid the `logging.lastResort` handler) and setting its `propagate` attribute to `False` (to avoid log record propagation to its parent loggers):\n",
    ">\n",
    "> ```python\n",
    "> import logging\n",
    ">\n",
    "> # 1st solution\n",
    "> logging.getLogger(\"foo\").disabled = True\n",
    ">\n",
    "> # 2nd solution\n",
    "> logging.getLogger(\"foo\").addFilter(lambda record: False)\n",
    ">\n",
    "> # 3rd solution\n",
    "> logging.getLogger(\"foo\").addHandler(logging.NullHandler())\n",
    "> logging.getLogger(\"foo\").propagate = False\n",
    "> ```\n",
    "\n",
    "However, the first solution is not recommended because the `disabled` attribute is supposed to be private and is intended for other purposes."
   ]
  },
  {
   "cell_type": "code",
   "execution_count": 18,
   "id": "b50c7886-7f94-4493-9acb-8250b1a10b29",
   "metadata": {},
   "outputs": [
    {
     "data": {
      "text/plain": [
       "<Logger dummy (DEBUG)>"
      ]
     },
     "execution_count": 18,
     "metadata": {},
     "output_type": "execute_result"
    }
   ],
   "source": [
    "dummy_logger = logging.getLogger('dummy')\n",
    "dummy_logger"
   ]
  },
  {
   "cell_type": "code",
   "execution_count": 19,
   "id": "c1095c82-b469-4abf-8d56-13cafa3879dc",
   "metadata": {},
   "outputs": [
    {
     "name": "stderr",
     "output_type": "stream",
     "text": [
      "2024-02-03 01:23:04,287 - dummy - INFO - test message\n"
     ]
    }
   ],
   "source": [
    "dummy_logger.info('test message')"
   ]
  },
  {
   "cell_type": "code",
   "execution_count": 20,
   "id": "2bb7be2b-32ea-4d50-b211-c77c43fa4f89",
   "metadata": {},
   "outputs": [
    {
     "data": {
      "text/plain": [
       "<RootLogger root (DEBUG)>"
      ]
     },
     "execution_count": 20,
     "metadata": {},
     "output_type": "execute_result"
    }
   ],
   "source": [
    "dummy_logger.parent"
   ]
  },
  {
   "cell_type": "code",
   "execution_count": 21,
   "id": "a5fdbc7c-5be5-4f10-b4d8-17cab257727b",
   "metadata": {},
   "outputs": [
    {
     "data": {
      "text/plain": [
       "<RootLogger root (DEBUG)>"
      ]
     },
     "execution_count": 21,
     "metadata": {},
     "output_type": "execute_result"
    }
   ],
   "source": [
    "logging.getLogger('root')"
   ]
  },
  {
   "cell_type": "code",
   "execution_count": 22,
   "id": "da127dab-eca3-43d6-a8a4-ad79abed9807",
   "metadata": {},
   "outputs": [
    {
     "data": {
      "text/plain": [
       "<Logger dummy (DEBUG)>"
      ]
     },
     "execution_count": 22,
     "metadata": {},
     "output_type": "execute_result"
    }
   ],
   "source": [
    "# This apparently doesn't turn off logging...\n",
    "# But actually, I think it's only because the dummy logger is still propagating to 'root'\n",
    "dummy_logger.addHandler(logging.NullHandler())\n",
    "dummy_logger"
   ]
  },
  {
   "cell_type": "code",
   "execution_count": 23,
   "id": "6db8fdf9-7cfc-41c2-a808-28e22722879b",
   "metadata": {},
   "outputs": [
    {
     "name": "stderr",
     "output_type": "stream",
     "text": [
      "2024-02-03 01:27:25,638 - dummy - INFO - another test\n"
     ]
    }
   ],
   "source": [
    "dummy_logger.info(\"another test\")"
   ]
  },
  {
   "cell_type": "code",
   "execution_count": 24,
   "id": "66bc4d5b-b3c7-468a-8f5a-a3c705b96e43",
   "metadata": {},
   "outputs": [
    {
     "data": {
      "text/plain": [
       "True"
      ]
     },
     "execution_count": 24,
     "metadata": {},
     "output_type": "execute_result"
    }
   ],
   "source": [
    "dummy_logger.propagate"
   ]
  },
  {
   "cell_type": "code",
   "execution_count": 25,
   "id": "f4b9d129-421e-40e9-beed-6ae1b7bf6fc8",
   "metadata": {},
   "outputs": [
    {
     "data": {
      "text/plain": [
       "False"
      ]
     },
     "execution_count": 25,
     "metadata": {},
     "output_type": "execute_result"
    }
   ],
   "source": [
    "# Apparently `disabled` is a private attribute and shouldn't be used:\n",
    "# https://github.com/python/cpython/issues/80499\n",
    "dummy_logger.disabled"
   ]
  },
  {
   "cell_type": "code",
   "execution_count": 31,
   "id": "15b0150a-5db8-49ca-9cf9-457dc51988ec",
   "metadata": {},
   "outputs": [],
   "source": [
    "dummy_logger.disabled = True\n",
    "dummy_logger.info(\"yet another test\")"
   ]
  },
  {
   "cell_type": "code",
   "execution_count": 32,
   "id": "ebfc0b52-447d-4092-b55f-59e2a0e3c521",
   "metadata": {},
   "outputs": [],
   "source": [
    "dummy_logger.debug('really?')"
   ]
  },
  {
   "cell_type": "code",
   "execution_count": 33,
   "id": "07afe006-6b0b-45be-84f3-1e32ce54cd58",
   "metadata": {},
   "outputs": [
    {
     "name": "stderr",
     "output_type": "stream",
     "text": [
      "2024-02-03 01:32:16,976 - dummy - INFO - what about now?\n"
     ]
    }
   ],
   "source": [
    "dummy_logger.disabled = False\n",
    "dummy_logger.info(\"what about now?\")"
   ]
  },
  {
   "cell_type": "code",
   "execution_count": 34,
   "id": "ddc58e91-0ce9-4ab5-9bca-937f9fff479a",
   "metadata": {},
   "outputs": [],
   "source": [
    "# Aha! Turning off propagation silences the logger.\n",
    "# In order for this to work, it was necessary to add the NullHandler\n",
    "# to avoid passing the messate to the LastResort logger:\n",
    "# https://github.com/python/cpython/issues/80499\n",
    "dummy_logger.propagate = False\n",
    "dummy_logger.info(\"And now?\")"
   ]
  },
  {
   "cell_type": "markdown",
   "id": "2b57beb5-3acb-424a-a4d5-e5cd2b73f8cf",
   "metadata": {},
   "source": [
    "# Here's another solution for what I actually want to do\n",
    "\n",
    "From here: https://stackoverflow.com/questions/13521981/implementing-an-optional-logger-in-code\n",
    "\n",
    "```python\n",
    "class DummyObject(object):\n",
    "    def __getattr__(self, name):\n",
    "        return lambda *args, **kwargs: None\n",
    "\n",
    "def foo(arg1, arg2, arg3, logger=None):\n",
    "    logger = logger or DummyObject()\n",
    "    ...\n",
    "    logger.debug(\"The connection is lost.\")\n",
    "```\n",
    "\n",
    "This seems like a safer option, as it won't incur potential side-affects by modifying a logger that might get used elsewhere.\n",
    "\n",
    "## Let's test it -- woo hoo!"
   ]
  },
  {
   "cell_type": "code",
   "execution_count": 36,
   "id": "0343aa82-dfb9-4c68-80af-eb5987e9fd1f",
   "metadata": {},
   "outputs": [],
   "source": [
    "class DummyObject(object):\n",
    "    def __getattr__(self, name):\n",
    "        return lambda *args, **kwargs: None\n",
    "\n",
    "def foo(arg1, arg2, arg3, logger=None):\n",
    "    logger = logger or DummyObject()\n",
    "    ...\n",
    "    logger.debug(\"The connection is lost.\")"
   ]
  },
  {
   "cell_type": "code",
   "execution_count": 37,
   "id": "2dcd525e-aed0-401c-a393-5789d265b7e9",
   "metadata": {},
   "outputs": [],
   "source": [
    "foo(1,2,3)"
   ]
  },
  {
   "cell_type": "code",
   "execution_count": 38,
   "id": "a3bf2caa-3fdf-4172-9b1c-acd0634cf1ff",
   "metadata": {},
   "outputs": [
    {
     "name": "stderr",
     "output_type": "stream",
     "text": [
      "2024-02-03 02:09:59,820 - root - DEBUG - The connection is lost.\n"
     ]
    }
   ],
   "source": [
    "foo(1,2,3, logging.getLogger())"
   ]
  },
  {
   "cell_type": "code",
   "execution_count": 39,
   "id": "ca1bc8e8-d8b9-492a-9c16-3a0dd4089120",
   "metadata": {},
   "outputs": [],
   "source": [
    "dummy_obj = DummyObject()\n",
    "dummy_obj.info('yak')"
   ]
  },
  {
   "cell_type": "code",
   "execution_count": 40,
   "id": "7353f42f-404c-4e8e-87c1-2a572ed2a750",
   "metadata": {},
   "outputs": [
    {
     "data": {
      "text/plain": [
       "<function __main__.DummyObject.__getattr__.<locals>.<lambda>(*args, **kwargs)>"
      ]
     },
     "execution_count": 40,
     "metadata": {},
     "output_type": "execute_result"
    }
   ],
   "source": [
    "dummy_obj.info"
   ]
  },
  {
   "cell_type": "code",
   "execution_count": 41,
   "id": "8d78397a-7788-4c72-99ca-0891e98c46ae",
   "metadata": {},
   "outputs": [
    {
     "data": {
      "text/plain": [
       "<function __main__.DummyObject.__getattr__.<locals>.<lambda>(*args, **kwargs)>"
      ]
     },
     "execution_count": 41,
     "metadata": {},
     "output_type": "execute_result"
    }
   ],
   "source": [
    "dummy_obj.debug"
   ]
  },
  {
   "cell_type": "markdown",
   "id": "ff0492ce-e84d-4ef0-a357-2f5e29be0505",
   "metadata": {},
   "source": [
    "# Generate data for testing"
   ]
  },
  {
   "cell_type": "code",
   "execution_count": 35,
   "id": "70c464c1-fcf7-4dc3-84e3-6e93e1ed3fba",
   "metadata": {},
   "outputs": [
    {
     "name": "stderr",
     "output_type": "stream",
     "text": [
      "2024-02-03 02:03:55,512 - vivarium_research_prl.alpha - INFO - Function 'generate_datasets' called with args=(), kwargs={}\n",
      "2024-02-03 02:03:55,516 - vivarium_research_prl.alpha - DEBUG - skip_pattern=re.compile('(?!)')\n",
      "2024-02-03 02:03:55,517 - vivarium_research_prl.alpha - INFO - Calling function generate_american_community_survey\n",
      "2024-02-03 02:03:55,957 - vivarium_research_prl.alpha - INFO - Code block 'generate_american_community_survey' took: 0.00731 m\n",
      "2024-02-03 02:03:55,959 - vivarium_research_prl.alpha - INFO - <class 'pandas.core.frame.DataFrame'> american_community_survey occupies 0.067614 MB in memory\n",
      "2024-02-03 02:03:55,961 - vivarium_research_prl.alpha - INFO - Calling function generate_current_population_survey\n",
      "2024-02-03 02:03:56,314 - vivarium_research_prl.alpha - INFO - Code block 'generate_current_population_survey' took: 0.00587 m\n",
      "2024-02-03 02:03:56,315 - vivarium_research_prl.alpha - INFO - <class 'pandas.core.frame.DataFrame'> current_population_survey occupies 0.035549 MB in memory\n",
      "2024-02-03 02:03:56,316 - vivarium_research_prl.alpha - INFO - Calling function generate_decennial_census\n",
      "2024-02-03 02:03:56,982 - vivarium_research_prl.alpha - INFO - Code block 'generate_decennial_census' took: 0.01110 m\n",
      "2024-02-03 02:03:57,003 - vivarium_research_prl.alpha - INFO - <class 'pandas.core.frame.DataFrame'> decennial_census occupies 8.478217 MB in memory\n",
      "2024-02-03 02:03:57,004 - vivarium_research_prl.alpha - INFO - Calling function generate_social_security\n",
      "2024-02-03 02:03:57,472 - vivarium_research_prl.alpha - INFO - Code block 'generate_social_security' took: 0.00779 m\n",
      "2024-02-03 02:03:57,490 - vivarium_research_prl.alpha - INFO - <class 'pandas.core.frame.DataFrame'> social_security occupies 7.44879 MB in memory\n",
      "2024-02-03 02:03:57,491 - vivarium_research_prl.alpha - INFO - Calling function generate_taxes_1040\n",
      "2024-02-03 02:03:58,572 - vivarium_research_prl.alpha - INFO - Code block 'generate_taxes_1040' took: 0.01801 m    \n",
      "2024-02-03 02:03:58,600 - vivarium_research_prl.alpha - INFO - <class 'pandas.core.frame.DataFrame'> taxes_1040 occupies 8.384543 MB in memory\n",
      "2024-02-03 02:03:58,600 - vivarium_research_prl.alpha - INFO - Calling function generate_taxes_w2_and_1099\n",
      "2024-02-03 02:03:59,417 - vivarium_research_prl.alpha - INFO - Code block 'generate_taxes_w2_and_1099' took: 0.01359 m\n",
      "2024-02-03 02:03:59,447 - vivarium_research_prl.alpha - INFO - <class 'pandas.core.frame.DataFrame'> taxes_w2_and_1099 occupies 11.864725 MB in memory\n",
      "2024-02-03 02:03:59,448 - vivarium_research_prl.alpha - INFO - Calling function generate_women_infants_and_children\n",
      "2024-02-03 02:03:59,690 - vivarium_research_prl.alpha - INFO - Code block 'generate_women_infants_and_children' took: 0.00401 m\n",
      "2024-02-03 02:03:59,693 - vivarium_research_prl.alpha - INFO - <class 'pandas.core.frame.DataFrame'> women_infants_and_children occupies 0.104727 MB in memory\n",
      "2024-02-03 02:03:59,695 - vivarium_research_prl.alpha - INFO - Calculating total memory usage...\n",
      "2024-02-03 02:03:59,806 - vivarium_research_prl.alpha - INFO - All generated datasets occupy 36.384164999999996 MB in memory\n"
     ]
    },
    {
     "data": {
      "text/plain": [
       "['american_community_survey',\n",
       " 'current_population_survey',\n",
       " 'decennial_census',\n",
       " 'social_security',\n",
       " 'taxes_1040',\n",
       " 'taxes_w2_and_1099',\n",
       " 'women_infants_and_children']"
      ]
     },
     "execution_count": 35,
     "metadata": {},
     "output_type": "execute_result"
    }
   ],
   "source": [
    "data = alpha.generate_datasets()\n",
    "data.keylist()"
   ]
  },
  {
   "cell_type": "code",
   "execution_count": 43,
   "id": "9f452377-869b-4dbd-a52b-3f374b88ba6b",
   "metadata": {},
   "outputs": [
    {
     "name": "stdout",
     "output_type": "stream",
     "text": [
      "simulant_id <class 'pandas.core.series.Series'>\n",
      "household_id <class 'pandas.core.series.Series'>\n",
      "survey_date <class 'pandas.core.series.Series'>\n",
      "first_name <class 'pandas.core.series.Series'>\n",
      "middle_initial <class 'pandas.core.series.Series'>\n",
      "last_name <class 'pandas.core.series.Series'>\n",
      "age <class 'pandas.core.series.Series'>\n",
      "date_of_birth <class 'pandas.core.series.Series'>\n",
      "street_number <class 'pandas.core.series.Series'>\n",
      "street_name <class 'pandas.core.series.Series'>\n",
      "unit_number <class 'pandas.core.series.Series'>\n",
      "city <class 'pandas.core.series.Series'>\n",
      "state <class 'pandas.core.series.Series'>\n",
      "zipcode <class 'pandas.core.series.Series'>\n",
      "housing_type <class 'pandas.core.series.Series'>\n",
      "relationship_to_reference_person <class 'pandas.core.series.Series'>\n",
      "sex <class 'pandas.core.series.Series'>\n",
      "race_ethnicity <class 'pandas.core.series.Series'>\n"
     ]
    }
   ],
   "source": [
    "for x, y, in data.american_community_survey.items():\n",
    "    print(x, type(y))"
   ]
  },
  {
   "cell_type": "code",
   "execution_count": 45,
   "id": "be278517-5d35-4b9b-887c-07bf1f476ef7",
   "metadata": {},
   "outputs": [
    {
     "name": "stdout",
     "output_type": "stream",
     "text": [
      "<class 'str'>\n",
      "<class 'str'>\n",
      "<class 'str'>\n",
      "<class 'str'>\n",
      "<class 'str'>\n",
      "<class 'str'>\n",
      "<class 'str'>\n",
      "<class 'str'>\n",
      "<class 'str'>\n",
      "<class 'str'>\n",
      "<class 'str'>\n",
      "<class 'str'>\n",
      "<class 'str'>\n",
      "<class 'str'>\n",
      "<class 'str'>\n",
      "<class 'str'>\n",
      "<class 'str'>\n",
      "<class 'str'>\n"
     ]
    }
   ],
   "source": [
    "for y in data.american_community_survey.keys():\n",
    "    print(type(y))"
   ]
  },
  {
   "cell_type": "markdown",
   "id": "0b635cb7-751f-40bf-9cfa-4ba58304916a",
   "metadata": {},
   "source": [
    "# \"Compress\" the data"
   ]
  },
  {
   "cell_type": "code",
   "execution_count": 49,
   "id": "3f64d0ca-06f5-49c5-ba19-7fa782389265",
   "metadata": {},
   "outputs": [
    {
     "name": "stdout",
     "output_type": "stream",
     "text": [
      "CPU times: user 228 ms, sys: 3.32 ms, total: 231 ms\n",
      "Wall time: 229 ms\n"
     ]
    },
    {
     "data": {
      "text/plain": [
       "['american_community_survey',\n",
       " 'current_population_survey',\n",
       " 'decennial_census',\n",
       " 'social_security',\n",
       " 'taxes_1040',\n",
       " 'taxes_w2_and_1099',\n",
       " 'women_infants_and_children']"
      ]
     },
     "execution_count": 49,
     "metadata": {},
     "output_type": "execute_result"
    }
   ],
   "source": [
    "%%time\n",
    "cdata = MappingViaAttributes({k: datatypes.to_int_and_categorical(df) for k, df in data.items()})\n",
    "cdata.keylist()"
   ]
  },
  {
   "cell_type": "code",
   "execution_count": 50,
   "id": "2d456f20-4bf9-43c2-b911-7760f3cc0a2f",
   "metadata": {},
   "outputs": [
    {
     "data": {
      "text/plain": [
       "Index                               132\n",
       "simulant_id                      628332\n",
       "household_id                     619450\n",
       "employer_id                      356508\n",
       "ssn                              669669\n",
       "wages                            609043\n",
       "employer_name                    777635\n",
       "employer_street_number           584572\n",
       "employer_street_name             678046\n",
       "employer_unit_number             332321\n",
       "employer_city                    630943\n",
       "employer_state                    15016\n",
       "employer_zipcode                 611139\n",
       "first_name                       620135\n",
       "middle_initial                   571931\n",
       "last_name                        626905\n",
       "mailing_address_street_number    579473\n",
       "mailing_address_street_name      671943\n",
       "mailing_address_unit_number      332544\n",
       "mailing_address_po_box           326027\n",
       "mailing_address_city             630495\n",
       "mailing_address_state             15016\n",
       "mailing_address_zipcode          610779\n",
       "tax_form                          10131\n",
       "tax_year                         356508\n",
       "dtype: int64"
      ]
     },
     "execution_count": 50,
     "metadata": {},
     "output_type": "execute_result"
    }
   ],
   "source": [
    "data.taxes_w2_and_1099.memory_usage(deep=True)"
   ]
  },
  {
   "cell_type": "code",
   "execution_count": 51,
   "id": "84e60df4-e1d6-4005-9c9e-df5119228963",
   "metadata": {},
   "outputs": [
    {
     "data": {
      "text/plain": [
       "Index                               132\n",
       "simulant_id                       79224\n",
       "household_id                      79224\n",
       "employer_id                       14911\n",
       "ssn                              769567\n",
       "wages                            848751\n",
       "employer_name                     45202\n",
       "employer_street_number            34053\n",
       "employer_street_name              47496\n",
       "employer_unit_number              10780\n",
       "employer_city                     15473\n",
       "employer_state                    15016\n",
       "employer_zipcode                  16536\n",
       "first_name                       188318\n",
       "middle_initial                    12542\n",
       "last_name                        368078\n",
       "mailing_address_street_number    245391\n",
       "mailing_address_street_name      410726\n",
       "mailing_address_unit_number       41408\n",
       "mailing_address_po_box            32700\n",
       "mailing_address_city              13920\n",
       "mailing_address_state             15016\n",
       "mailing_address_zipcode           16411\n",
       "tax_form                          10131\n",
       "tax_year                          10019\n",
       "dtype: int64"
      ]
     },
     "execution_count": 51,
     "metadata": {},
     "output_type": "execute_result"
    }
   ],
   "source": [
    "cdata.taxes_w2_and_1099.memory_usage(deep=True)"
   ]
  },
  {
   "cell_type": "code",
   "execution_count": 52,
   "id": "061bb8f1-b416-49e9-855b-e0550b0a2f85",
   "metadata": {},
   "outputs": [
    {
     "name": "stdout",
     "output_type": "stream",
     "text": [
      "11.864725\n",
      "3.341057\n"
     ]
    }
   ],
   "source": [
    "print(sizemb(data.taxes_w2_and_1099))\n",
    "print(sizemb(cdata.taxes_w2_and_1099))"
   ]
  },
  {
   "cell_type": "code",
   "execution_count": 53,
   "id": "6532bae7-794b-4077-84a2-bdea8cde9eff",
   "metadata": {},
   "outputs": [
    {
     "data": {
      "text/plain": [
       "0       10192\n",
       "1       28355\n",
       "2       18243\n",
       "3        7704\n",
       "4        3490\n",
       "        ...  \n",
       "9898     9585\n",
       "9899    57906\n",
       "9900    19609\n",
       "9901     8061\n",
       "9902     4961\n",
       "Name: wages, Length: 9903, dtype: category\n",
       "Categories (9137, object): ['01051', '1000', '10001', '10007', ..., 'G8962', 'S0098', '|0809', '|5176']"
      ]
     },
     "execution_count": 53,
     "metadata": {},
     "output_type": "execute_result"
    }
   ],
   "source": [
    "cdata.taxes_w2_and_1099.wages"
   ]
  },
  {
   "cell_type": "code",
   "execution_count": 54,
   "id": "eef5a62d-0667-4442-9c2f-22d3763b4669",
   "metadata": {},
   "outputs": [
    {
     "data": {
      "text/plain": [
       "0       10192\n",
       "1       28355\n",
       "2       18243\n",
       "3        7704\n",
       "4        3490\n",
       "        ...  \n",
       "9898     9585\n",
       "9899    57906\n",
       "9900    19609\n",
       "9901     8061\n",
       "9902     4961\n",
       "Name: wages, Length: 9903, dtype: object"
      ]
     },
     "execution_count": 54,
     "metadata": {},
     "output_type": "execute_result"
    }
   ],
   "source": [
    "data.taxes_w2_and_1099.wages"
   ]
  },
  {
   "cell_type": "code",
   "execution_count": 55,
   "id": "a713819c-0fef-4443-9bcf-fe23a150a51e",
   "metadata": {},
   "outputs": [
    {
     "data": {
      "text/plain": [
       "0.609207"
      ]
     },
     "execution_count": 55,
     "metadata": {},
     "output_type": "execute_result"
    }
   ],
   "source": [
    "sizemb(data.taxes_w2_and_1099.wages)"
   ]
  },
  {
   "cell_type": "code",
   "execution_count": 56,
   "id": "06354fe4-7a8d-4bcd-bccb-abed950ac5ae",
   "metadata": {},
   "outputs": [
    {
     "data": {
      "text/plain": [
       "0.848915"
      ]
     },
     "execution_count": 56,
     "metadata": {},
     "output_type": "execute_result"
    }
   ],
   "source": [
    "sizemb(cdata.taxes_w2_and_1099.wages)"
   ]
  },
  {
   "cell_type": "code",
   "execution_count": 57,
   "id": "75bee859-333a-4b1c-a202-3f0a0a3848be",
   "metadata": {},
   "outputs": [
    {
     "data": {
      "text/plain": [
       "Index                                 0\n",
       "simulant_id                      549108\n",
       "household_id                     540226\n",
       "employer_id                      341597\n",
       "ssn                              -99898\n",
       "wages                           -239708\n",
       "employer_name                    732433\n",
       "employer_street_number           550519\n",
       "employer_street_name             630550\n",
       "employer_unit_number             321541\n",
       "employer_city                    615470\n",
       "employer_state                        0\n",
       "employer_zipcode                 594603\n",
       "first_name                       431817\n",
       "middle_initial                   559389\n",
       "last_name                        258827\n",
       "mailing_address_street_number    334082\n",
       "mailing_address_street_name      261217\n",
       "mailing_address_unit_number      291136\n",
       "mailing_address_po_box           293327\n",
       "mailing_address_city             616575\n",
       "mailing_address_state                 0\n",
       "mailing_address_zipcode          594368\n",
       "tax_form                              0\n",
       "tax_year                         346489\n",
       "dtype: int64"
      ]
     },
     "execution_count": 57,
     "metadata": {},
     "output_type": "execute_result"
    }
   ],
   "source": [
    "data.taxes_w2_and_1099.memory_usage(deep=True) - cdata.taxes_w2_and_1099.memory_usage(deep=True)"
   ]
  },
  {
   "cell_type": "code",
   "execution_count": 59,
   "id": "d873deae-3a47-4092-bd64-ed40587ace8f",
   "metadata": {},
   "outputs": [
    {
     "data": {
      "text/plain": [
       "0              ince dr\n",
       "1          hallmont dr\n",
       "2                  NaN\n",
       "3           west id rd\n",
       "4              buck tl\n",
       "             ...      \n",
       "9898        regent ave\n",
       "9899      barge roa sw\n",
       "9900         moriah rd\n",
       "9901      greenwood wy\n",
       "9902    east jersey st\n",
       "Name: employer_street_name, Length: 9903, dtype: category\n",
       "Categories (280, object): ['15th ave southeast', '2nd ave e', '4fh ave w', '4tb ave w', ..., 'yreeflower dr', 'zimer afe', 'zimmer ave', '|sth ave southeast']"
      ]
     },
     "execution_count": 59,
     "metadata": {},
     "output_type": "execute_result"
    }
   ],
   "source": [
    "cdata.taxes_w2_and_1099.employer_street_name"
   ]
  },
  {
   "cell_type": "code",
   "execution_count": 60,
   "id": "2e355650-edcb-4ffe-8c46-36987c3233f5",
   "metadata": {},
   "outputs": [
    {
     "data": {
      "text/plain": [
       "0                                  Pikes Creek Campground\n",
       "1                                       Red's Dairy Queen\n",
       "2                                             Warrensburg\n",
       "3                               Nashville City Properties\n",
       "4                Ecr Whipple Oliver Finley Shoe Sensation\n",
       "                              ...                        \n",
       "9898                            Greenway Med Spa Services\n",
       "9899                          Northwell Health Center Inc\n",
       "9900                                             Military\n",
       "9901    Waffle House of Big Daddys Burgers Shakes and ...\n",
       "9902                                   Vincent's Hospital\n",
       "Name: employer_name, Length: 9903, dtype: category\n",
       "Categories (212, object): ['1st Franklin Lakes Nutrition Service', '400', 'A Car Title Loans', 'A Cass Pulaski Area', ..., 'Wireless Verizon Wireless Giants Childcare', 'Woug Jkhnson Park', 'Xjtism and Bob's Big Louie's', 'Yes']"
      ]
     },
     "execution_count": 60,
     "metadata": {},
     "output_type": "execute_result"
    }
   ],
   "source": [
    "cdata.taxes_w2_and_1099.employer_name"
   ]
  },
  {
   "cell_type": "code",
   "execution_count": 61,
   "id": "3c7dcc6a-b797-4d25-9526-06f0832a0df3",
   "metadata": {},
   "outputs": [
    {
     "data": {
      "text/plain": [
       "Index                                    0\n",
       "simulant_id                         567112\n",
       "household_id                        558708\n",
       "first_name                          416976\n",
       "middle_initial                      577639\n",
       "last_name                           270795\n",
       "age                                 578651\n",
       "date_of_birth                      -175922\n",
       "street_number                       350423\n",
       "street_name                         270710\n",
       "unit_number                         301645\n",
       "city                                635351\n",
       "state                                    0\n",
       "zipcode                             613157\n",
       "housing_type                        663624\n",
       "relationship_to_reference_person         0\n",
       "sex                                      0\n",
       "race_ethnicity                           0\n",
       "year                                357759\n",
       "dtype: int64"
      ]
     },
     "execution_count": 61,
     "metadata": {},
     "output_type": "execute_result"
    }
   ],
   "source": [
    "data.decennial_census.memory_usage(deep=True) - cdata.decennial_census.memory_usage(deep=True)"
   ]
  },
  {
   "cell_type": "code",
   "execution_count": 62,
   "id": "d0c7ca4a-e833-4f0e-89c9-439602954710",
   "metadata": {},
   "outputs": [
    {
     "data": {
      "text/plain": [
       "0        01/14/2001\n",
       "1        01/30/2000\n",
       "2        06/04/1960\n",
       "3        12/05/2005\n",
       "4        08/05/1989\n",
       "            ...    \n",
       "10220    04/24/1950\n",
       "10221    11/30/1950\n",
       "10222    05/13/1949\n",
       "10223    04/13/1967\n",
       "10224    12/23/1994\n",
       "Name: date_of_birth, Length: 10225, dtype: object"
      ]
     },
     "execution_count": 62,
     "metadata": {},
     "output_type": "execute_result"
    }
   ],
   "source": [
    "data.decennial_census.date_of_birth"
   ]
  },
  {
   "cell_type": "code",
   "execution_count": 63,
   "id": "377bd96d-4b4f-4c50-937d-e90217c8aea4",
   "metadata": {},
   "outputs": [
    {
     "data": {
      "text/html": [
       "<div>\n",
       "<style scoped>\n",
       "    .dataframe tbody tr th:only-of-type {\n",
       "        vertical-align: middle;\n",
       "    }\n",
       "\n",
       "    .dataframe tbody tr th {\n",
       "        vertical-align: top;\n",
       "    }\n",
       "\n",
       "    .dataframe thead th {\n",
       "        text-align: right;\n",
       "    }\n",
       "</style>\n",
       "<table border=\"1\" class=\"dataframe\">\n",
       "  <thead>\n",
       "    <tr style=\"text-align: right;\">\n",
       "      <th></th>\n",
       "      <th>simulant_id</th>\n",
       "      <th>household_id</th>\n",
       "      <th>first_name</th>\n",
       "      <th>middle_initial</th>\n",
       "      <th>last_name</th>\n",
       "      <th>age</th>\n",
       "      <th>date_of_birth</th>\n",
       "      <th>street_number</th>\n",
       "      <th>street_name</th>\n",
       "      <th>unit_number</th>\n",
       "      <th>city</th>\n",
       "      <th>state</th>\n",
       "      <th>zipcode</th>\n",
       "      <th>housing_type</th>\n",
       "      <th>relationship_to_reference_person</th>\n",
       "      <th>sex</th>\n",
       "      <th>race_ethnicity</th>\n",
       "      <th>year</th>\n",
       "    </tr>\n",
       "  </thead>\n",
       "  <tbody>\n",
       "    <tr>\n",
       "      <th>0</th>\n",
       "      <td>0_123</td>\n",
       "      <td>0_0</td>\n",
       "      <td>Angela</td>\n",
       "      <td>A</td>\n",
       "      <td>Mckinney</td>\n",
       "      <td>19</td>\n",
       "      <td>01/14/2001</td>\n",
       "      <td>1231</td>\n",
       "      <td>riverside dr</td>\n",
       "      <td>NaN</td>\n",
       "      <td>Anytown</td>\n",
       "      <td>WA</td>\n",
       "      <td>00000</td>\n",
       "      <td>Carceral</td>\n",
       "      <td>Institutionalized group quarters population</td>\n",
       "      <td>Female</td>\n",
       "      <td>White</td>\n",
       "      <td>2020</td>\n",
       "    </tr>\n",
       "    <tr>\n",
       "      <th>1</th>\n",
       "      <td>0_244</td>\n",
       "      <td>0_0</td>\n",
       "      <td>Marcus</td>\n",
       "      <td>S</td>\n",
       "      <td>Chamberlain</td>\n",
       "      <td>20</td>\n",
       "      <td>01/30/2000</td>\n",
       "      <td>1231</td>\n",
       "      <td>riverside dr</td>\n",
       "      <td>NaN</td>\n",
       "      <td>Anytown</td>\n",
       "      <td>WA</td>\n",
       "      <td>00000</td>\n",
       "      <td>Carceral</td>\n",
       "      <td>Institutionalized group quarters population</td>\n",
       "      <td>Male</td>\n",
       "      <td>White</td>\n",
       "      <td>2020</td>\n",
       "    </tr>\n",
       "    <tr>\n",
       "      <th>2</th>\n",
       "      <td>0_691</td>\n",
       "      <td>0_0</td>\n",
       "      <td>Kelvin</td>\n",
       "      <td>M</td>\n",
       "      <td>Higgins</td>\n",
       "      <td>59</td>\n",
       "      <td>06/04/1960</td>\n",
       "      <td>1231</td>\n",
       "      <td>riverside dr</td>\n",
       "      <td>NaN</td>\n",
       "      <td>Anytown</td>\n",
       "      <td>WA</td>\n",
       "      <td>00000</td>\n",
       "      <td>Carceral</td>\n",
       "      <td>Institutionalized group quarters population</td>\n",
       "      <td>Male</td>\n",
       "      <td>Multiracial or Other</td>\n",
       "      <td>2020</td>\n",
       "    </tr>\n",
       "    <tr>\n",
       "      <th>3</th>\n",
       "      <td>0_2606</td>\n",
       "      <td>0_0</td>\n",
       "      <td>Michael</td>\n",
       "      <td>M</td>\n",
       "      <td>Scorzelli</td>\n",
       "      <td>14</td>\n",
       "      <td>12/05/2005</td>\n",
       "      <td>1231</td>\n",
       "      <td>riverside dr</td>\n",
       "      <td>NaN</td>\n",
       "      <td>Anytown</td>\n",
       "      <td>WA</td>\n",
       "      <td>NaN</td>\n",
       "      <td>Carceral</td>\n",
       "      <td>Institutionalized group quarters population</td>\n",
       "      <td>Male</td>\n",
       "      <td>Multiracial or Other</td>\n",
       "      <td>2020</td>\n",
       "    </tr>\n",
       "    <tr>\n",
       "      <th>4</th>\n",
       "      <td>0_3692</td>\n",
       "      <td>0_0</td>\n",
       "      <td>Dustin</td>\n",
       "      <td>M</td>\n",
       "      <td>Ormiston</td>\n",
       "      <td>30</td>\n",
       "      <td>08/05/1989</td>\n",
       "      <td>NaN</td>\n",
       "      <td>riverside dr</td>\n",
       "      <td>NaN</td>\n",
       "      <td>Anytown</td>\n",
       "      <td>WA</td>\n",
       "      <td>00000</td>\n",
       "      <td>Carceral</td>\n",
       "      <td>Institutionalized group quarters population</td>\n",
       "      <td>Male</td>\n",
       "      <td>Multiracial or Other</td>\n",
       "      <td>2020</td>\n",
       "    </tr>\n",
       "    <tr>\n",
       "      <th>...</th>\n",
       "      <td>...</td>\n",
       "      <td>...</td>\n",
       "      <td>...</td>\n",
       "      <td>...</td>\n",
       "      <td>...</td>\n",
       "      <td>...</td>\n",
       "      <td>...</td>\n",
       "      <td>...</td>\n",
       "      <td>...</td>\n",
       "      <td>...</td>\n",
       "      <td>...</td>\n",
       "      <td>...</td>\n",
       "      <td>...</td>\n",
       "      <td>...</td>\n",
       "      <td>...</td>\n",
       "      <td>...</td>\n",
       "      <td>...</td>\n",
       "      <td>...</td>\n",
       "    </tr>\n",
       "    <tr>\n",
       "      <th>10220</th>\n",
       "      <td>0_2482</td>\n",
       "      <td>0_996</td>\n",
       "      <td>Craig</td>\n",
       "      <td>S</td>\n",
       "      <td>Levi</td>\n",
       "      <td>69</td>\n",
       "      <td>04/24/1950</td>\n",
       "      <td>15200</td>\n",
       "      <td>a forest st</td>\n",
       "      <td>NaN</td>\n",
       "      <td>Anytown</td>\n",
       "      <td>WA</td>\n",
       "      <td>00000</td>\n",
       "      <td>Household</td>\n",
       "      <td>Parent</td>\n",
       "      <td>Male</td>\n",
       "      <td>White</td>\n",
       "      <td>2020</td>\n",
       "    </tr>\n",
       "    <tr>\n",
       "      <th>10221</th>\n",
       "      <td>0_2483</td>\n",
       "      <td>0_996</td>\n",
       "      <td>Donna</td>\n",
       "      <td>R</td>\n",
       "      <td>Dont Know</td>\n",
       "      <td>69</td>\n",
       "      <td>11/30/1950</td>\n",
       "      <td>10200</td>\n",
       "      <td>a forest st</td>\n",
       "      <td>NaN</td>\n",
       "      <td>Anytown</td>\n",
       "      <td>WA</td>\n",
       "      <td>00000</td>\n",
       "      <td>Household</td>\n",
       "      <td>Parent</td>\n",
       "      <td>Female</td>\n",
       "      <td>White</td>\n",
       "      <td>2020</td>\n",
       "    </tr>\n",
       "    <tr>\n",
       "      <th>10222</th>\n",
       "      <td>0_2487</td>\n",
       "      <td>0_998</td>\n",
       "      <td>Charles</td>\n",
       "      <td>J</td>\n",
       "      <td>Taylor</td>\n",
       "      <td>70</td>\n",
       "      <td>05/13/1949</td>\n",
       "      <td>1121</td>\n",
       "      <td>lida ct</td>\n",
       "      <td>NaN</td>\n",
       "      <td>Anytown</td>\n",
       "      <td>WA</td>\n",
       "      <td>00000</td>\n",
       "      <td>Household</td>\n",
       "      <td>Reference person</td>\n",
       "      <td>Male</td>\n",
       "      <td>White</td>\n",
       "      <td>2020</td>\n",
       "    </tr>\n",
       "    <tr>\n",
       "      <th>10223</th>\n",
       "      <td>0_2488</td>\n",
       "      <td>0_998</td>\n",
       "      <td>Rebecca</td>\n",
       "      <td>R</td>\n",
       "      <td>Taylor</td>\n",
       "      <td>52</td>\n",
       "      <td>04/13/1967</td>\n",
       "      <td>1121</td>\n",
       "      <td>lida ct</td>\n",
       "      <td>NaN</td>\n",
       "      <td>Anytown</td>\n",
       "      <td>WA</td>\n",
       "      <td>00000</td>\n",
       "      <td>Household</td>\n",
       "      <td>Opposite-sex spouse</td>\n",
       "      <td>NaN</td>\n",
       "      <td>White</td>\n",
       "      <td>2020</td>\n",
       "    </tr>\n",
       "    <tr>\n",
       "      <th>10224</th>\n",
       "      <td>0_2489</td>\n",
       "      <td>0_998</td>\n",
       "      <td>Kimberly</td>\n",
       "      <td>S</td>\n",
       "      <td>Denny</td>\n",
       "      <td>25</td>\n",
       "      <td>12/23/1994</td>\n",
       "      <td>1121</td>\n",
       "      <td>lida ct</td>\n",
       "      <td>NaN</td>\n",
       "      <td>Anytown</td>\n",
       "      <td>WA</td>\n",
       "      <td>00000</td>\n",
       "      <td>Household</td>\n",
       "      <td>Other nonrelative</td>\n",
       "      <td>Female</td>\n",
       "      <td>White</td>\n",
       "      <td>2020</td>\n",
       "    </tr>\n",
       "  </tbody>\n",
       "</table>\n",
       "<p>10225 rows × 18 columns</p>\n",
       "</div>"
      ],
      "text/plain": [
       "      simulant_id household_id first_name middle_initial    last_name age  \\\n",
       "0           0_123          0_0     Angela              A     Mckinney  19   \n",
       "1           0_244          0_0     Marcus              S  Chamberlain  20   \n",
       "2           0_691          0_0     Kelvin              M      Higgins  59   \n",
       "3          0_2606          0_0    Michael              M    Scorzelli  14   \n",
       "4          0_3692          0_0     Dustin              M     Ormiston  30   \n",
       "...           ...          ...        ...            ...          ...  ..   \n",
       "10220      0_2482        0_996      Craig              S         Levi  69   \n",
       "10221      0_2483        0_996      Donna              R    Dont Know  69   \n",
       "10222      0_2487        0_998    Charles              J       Taylor  70   \n",
       "10223      0_2488        0_998    Rebecca              R       Taylor  52   \n",
       "10224      0_2489        0_998   Kimberly              S        Denny  25   \n",
       "\n",
       "      date_of_birth street_number   street_name unit_number     city state  \\\n",
       "0        01/14/2001          1231  riverside dr         NaN  Anytown    WA   \n",
       "1        01/30/2000          1231  riverside dr         NaN  Anytown    WA   \n",
       "2        06/04/1960          1231  riverside dr         NaN  Anytown    WA   \n",
       "3        12/05/2005          1231  riverside dr         NaN  Anytown    WA   \n",
       "4        08/05/1989           NaN  riverside dr         NaN  Anytown    WA   \n",
       "...             ...           ...           ...         ...      ...   ...   \n",
       "10220    04/24/1950         15200   a forest st         NaN  Anytown    WA   \n",
       "10221    11/30/1950         10200   a forest st         NaN  Anytown    WA   \n",
       "10222    05/13/1949          1121       lida ct         NaN  Anytown    WA   \n",
       "10223    04/13/1967          1121       lida ct         NaN  Anytown    WA   \n",
       "10224    12/23/1994          1121       lida ct         NaN  Anytown    WA   \n",
       "\n",
       "      zipcode housing_type             relationship_to_reference_person  \\\n",
       "0       00000     Carceral  Institutionalized group quarters population   \n",
       "1       00000     Carceral  Institutionalized group quarters population   \n",
       "2       00000     Carceral  Institutionalized group quarters population   \n",
       "3         NaN     Carceral  Institutionalized group quarters population   \n",
       "4       00000     Carceral  Institutionalized group quarters population   \n",
       "...       ...          ...                                          ...   \n",
       "10220   00000    Household                                       Parent   \n",
       "10221   00000    Household                                       Parent   \n",
       "10222   00000    Household                             Reference person   \n",
       "10223   00000    Household                          Opposite-sex spouse   \n",
       "10224   00000    Household                            Other nonrelative   \n",
       "\n",
       "          sex        race_ethnicity  year  \n",
       "0      Female                 White  2020  \n",
       "1        Male                 White  2020  \n",
       "2        Male  Multiracial or Other  2020  \n",
       "3        Male  Multiracial or Other  2020  \n",
       "4        Male  Multiracial or Other  2020  \n",
       "...       ...                   ...   ...  \n",
       "10220    Male                 White  2020  \n",
       "10221  Female                 White  2020  \n",
       "10222    Male                 White  2020  \n",
       "10223     NaN                 White  2020  \n",
       "10224  Female                 White  2020  \n",
       "\n",
       "[10225 rows x 18 columns]"
      ]
     },
     "execution_count": 63,
     "metadata": {},
     "output_type": "execute_result"
    }
   ],
   "source": [
    "data.decennial_census"
   ]
  },
  {
   "cell_type": "code",
   "execution_count": 70,
   "id": "58c7b475-c97e-4607-a62d-7572c5a45f2d",
   "metadata": {},
   "outputs": [],
   "source": [
    "logging.getLogger().setLevel(logging.INFO)"
   ]
  },
  {
   "cell_type": "code",
   "execution_count": 72,
   "id": "e0e6c178-9996-4d87-ac05-11ff51ad850f",
   "metadata": {},
   "outputs": [
    {
     "data": {
      "text/plain": [
       "[<matplotlib.lines.Line2D at 0x7f4b67d03490>]"
      ]
     },
     "execution_count": 72,
     "metadata": {},
     "output_type": "execute_result"
    },
    {
     "data": {
      "image/png": "[encoded data removed]",
      "text/plain": [
       "<Figure size 2000x600 with 1 Axes>"
      ]
     },
     "metadata": {},
     "output_type": "display_data"
    }
   ],
   "source": [
    "fig, ax = plt.subplots(figsize=(20,6))\n",
    "ax.plot(cdata.taxes_w2_and_1099.index, cdata.taxes_w2_and_1099.household_id)"
   ]
  },
  {
   "cell_type": "code",
   "execution_count": 73,
   "id": "fec5c065-6587-4f12-aafe-9b9dfa0d30fd",
   "metadata": {},
   "outputs": [
    {
     "data": {
      "text/plain": [
       "0        8\n",
       "1        8\n",
       "2        8\n",
       "3     2289\n",
       "4     2289\n",
       "5     2957\n",
       "6     2957\n",
       "7     1070\n",
       "8     1334\n",
       "9     1334\n",
       "10    1334\n",
       "11    1832\n",
       "12    1832\n",
       "13    2183\n",
       "14     876\n",
       "15     876\n",
       "16    7953\n",
       "17    7953\n",
       "18     876\n",
       "19     876\n",
       "20      14\n",
       "21      14\n",
       "22    3397\n",
       "23    3397\n",
       "24    3965\n",
       "25    3965\n",
       "26    3965\n",
       "27      16\n",
       "28      16\n",
       "29      16\n",
       "Name: household_id, dtype: int64"
      ]
     },
     "execution_count": 73,
     "metadata": {},
     "output_type": "execute_result"
    }
   ],
   "source": [
    "cdata.taxes_w2_and_1099.household_id[:30]"
   ]
  },
  {
   "cell_type": "code",
   "execution_count": 74,
   "id": "f5d065a0-df7f-43e3-856d-923dae5f6356",
   "metadata": {},
   "outputs": [
    {
     "data": {
      "text/plain": [
       "[<matplotlib.lines.Line2D at 0x7f4b67ef7450>]"
      ]
     },
     "execution_count": 74,
     "metadata": {},
     "output_type": "execute_result"
    },
    {
     "data": {
      "image/png": "[encoded data removed]",
      "text/plain": [
       "<Figure size 2000x600 with 1 Axes>"
      ]
     },
     "metadata": {},
     "output_type": "display_data"
    }
   ],
   "source": [
    "fig, ax = plt.subplots(figsize=(20,6))\n",
    "ax.plot(cdata.decennial_census.index, cdata.decennial_census.household_id)"
   ]
  },
  {
   "cell_type": "code",
   "execution_count": 79,
   "id": "092012f8-c3b0-4462-a080-0ab7bc07408b",
   "metadata": {},
   "outputs": [
    {
     "data": {
      "text/plain": [
       "1000    0_1588\n",
       "1001    0_1591\n",
       "1002    0_1591\n",
       "1003    0_1592\n",
       "1004    0_1592\n",
       "1005    0_1593\n",
       "1006    0_1593\n",
       "1007    0_1594\n",
       "1008    0_1595\n",
       "1009    0_1595\n",
       "1010    0_1595\n",
       "1011    0_1598\n",
       "1012    0_1599\n",
       "1013    0_1599\n",
       "1014      0_16\n",
       "1015      0_16\n",
       "1016      0_16\n",
       "1017      0_16\n",
       "1018     0_160\n",
       "1019     0_160\n",
       "1020    0_1603\n",
       "1021    0_1603\n",
       "1022    0_1603\n",
       "1023    0_1604\n",
       "1024    0_1606\n",
       "1025    0_1607\n",
       "1026    0_1607\n",
       "1027    0_1607\n",
       "1028    0_1607\n",
       "1029    0_1607\n",
       "Name: household_id, dtype: object"
      ]
     },
     "execution_count": 79,
     "metadata": {},
     "output_type": "execute_result"
    }
   ],
   "source": [
    "data.decennial_census.household_id[1000:1030]"
   ]
  },
  {
   "cell_type": "code",
   "execution_count": 80,
   "id": "3967f35d-e9e2-4eb4-b88a-4bc70d561343",
   "metadata": {},
   "outputs": [
    {
     "data": {
      "text/plain": [
       "Index                                 0\n",
       "simulant_id                      361558\n",
       "household_id                     355774\n",
       "first_name                       218102\n",
       "middle_initial                   367108\n",
       "last_name                        138172\n",
       "ssn                             -271456\n",
       "mailing_address_street_number    155223\n",
       "mailing_address_street_name       62259\n",
       "mailing_address_unit_number      190074\n",
       "mailing_address_po_box           189350\n",
       "mailing_address_city             404881\n",
       "mailing_address_state                 0\n",
       "mailing_address_zipcode          389862\n",
       "spouse_first_name                184578\n",
       "spouse_middle_initial            216294\n",
       "spouse_last_name                 163168\n",
       "spouse_ssn                       159084\n",
       "dependent_1_first_name           176183\n",
       "dependent_1_last_name            143389\n",
       "dependent_1_ssn                  132332\n",
       "dependent_2_first_name           181935\n",
       "dependent_2_last_name            167135\n",
       "dependent_2_ssn                  163816\n",
       "dependent_3_first_name           188372\n",
       "dependent_3_last_name            186652\n",
       "dependent_3_ssn                  185836\n",
       "dependent_4_first_name           198314\n",
       "dependent_4_last_name            198157\n",
       "dependent_4_ssn                  198110\n",
       "tax_year                         228014\n",
       "dtype: int64"
      ]
     },
     "execution_count": 80,
     "metadata": {},
     "output_type": "execute_result"
    }
   ],
   "source": [
    "data.taxes_1040.memory_usage(deep=True) - cdata.taxes_1040.memory_usage(deep=True)"
   ]
  },
  {
   "cell_type": "code",
   "execution_count": 81,
   "id": "f9dee0c5-c99b-4c5e-84c9-e95480b797ba",
   "metadata": {},
   "outputs": [
    {
     "data": {
      "text/plain": [
       "Index                  0\n",
       "simulant_id       915037\n",
       "ssn              1055808\n",
       "first_name        760178\n",
       "middle_name       760765\n",
       "last_name         561022\n",
       "date_of_birth     -46954\n",
       "sex                    0\n",
       "event_type             0\n",
       "event_date        -43900\n",
       "dtype: int64"
      ]
     },
     "execution_count": 81,
     "metadata": {},
     "output_type": "execute_result"
    }
   ],
   "source": [
    "data.social_security.memory_usage(deep=True) - cdata.social_security.memory_usage(deep=True)"
   ]
  },
  {
   "cell_type": "code",
   "execution_count": 82,
   "id": "ca73ce11-98c1-403b-9b0f-4393cb12610b",
   "metadata": {},
   "outputs": [
    {
     "data": {
      "text/plain": [
       "Index                                  0\n",
       "simulant_id                         4130\n",
       "household_id                        3863\n",
       "survey_date                            0\n",
       "first_name                         -1740\n",
       "middle_initial                      2592\n",
       "last_name                          -1996\n",
       "age                                 1069\n",
       "date_of_birth                      -2178\n",
       "street_number                       4022\n",
       "street_name                         4667\n",
       "unit_number                         2154\n",
       "city                                4426\n",
       "state                                  0\n",
       "zipcode                             4222\n",
       "housing_type                        4240\n",
       "relationship_to_reference_person       0\n",
       "sex                                    0\n",
       "race_ethnicity                         0\n",
       "dtype: int64"
      ]
     },
     "execution_count": 82,
     "metadata": {},
     "output_type": "execute_result"
    }
   ],
   "source": [
    "data.american_community_survey.memory_usage(deep=True) - cdata.american_community_survey.memory_usage(deep=True)"
   ]
  },
  {
   "cell_type": "code",
   "execution_count": 83,
   "id": "bdf68a59-ebca-4771-a73c-f80299b75910",
   "metadata": {},
   "outputs": [
    {
     "data": {
      "text/plain": [
       "Index                0\n",
       "simulant_id       2218\n",
       "household_id      2199\n",
       "survey_date          0\n",
       "first_name        -861\n",
       "middle_initial     738\n",
       "last_name         -215\n",
       "age               -667\n",
       "date_of_birth    -1045\n",
       "street_number     -264\n",
       "street_name       -233\n",
       "unit_number       1100\n",
       "city              2284\n",
       "state                0\n",
       "zipcode           2148\n",
       "sex                  0\n",
       "race_ethnicity       0\n",
       "dtype: int64"
      ]
     },
     "execution_count": 83,
     "metadata": {},
     "output_type": "execute_result"
    }
   ],
   "source": [
    "data.current_population_survey.memory_usage(deep=True) - cdata.current_population_survey.memory_usage(deep=True)"
   ]
  },
  {
   "cell_type": "code",
   "execution_count": 85,
   "id": "5caa6fe7-7976-424c-94a5-bcb86d0f06fb",
   "metadata": {},
   "outputs": [
    {
     "data": {
      "text/plain": [
       "Index                0\n",
       "simulant_id       7791\n",
       "household_id      7681\n",
       "first_name       -3826\n",
       "middle_initial    6038\n",
       "last_name          613\n",
       "date_of_birth    -3106\n",
       "street_number      554\n",
       "street_name        841\n",
       "unit_number       4137\n",
       "city              8520\n",
       "state                0\n",
       "zipcode           8218\n",
       "sex                  0\n",
       "race_ethnicity       0\n",
       "year              4784\n",
       "dtype: int64"
      ]
     },
     "execution_count": 85,
     "metadata": {},
     "output_type": "execute_result"
    }
   ],
   "source": [
    "data.women_infants_and_children.memory_usage(deep=True) - cdata.women_infants_and_children.memory_usage(deep=True)"
   ]
  },
  {
   "cell_type": "code",
   "execution_count": 86,
   "id": "f1cf513b-3ed9-40b6-9698-0ab795e2727e",
   "metadata": {},
   "outputs": [
    {
     "data": {
      "text/plain": [
       "0        19191204\n",
       "1        19210616\n",
       "2        19220113\n",
       "3        19220305\n",
       "4        19220306\n",
       "           ...   \n",
       "16492    19800224\n",
       "16493    19860415\n",
       "16494    19950118\n",
       "16495    20201230\n",
       "16496    20201231\n",
       "Name: date_of_birth, Length: 16497, dtype: category\n",
       "Categories (12570, object): ['00181204', '09330331', '09440125', '09552431', ..., '|987||29', '|989110G', '|9930405', '|9930526']"
      ]
     },
     "execution_count": 86,
     "metadata": {},
     "output_type": "execute_result"
    }
   ],
   "source": [
    "cdata.social_security.date_of_birth"
   ]
  },
  {
   "cell_type": "code",
   "execution_count": 91,
   "id": "ef75e07d-d5fa-43d4-bcb1-04ef5a056557",
   "metadata": {},
   "outputs": [
    {
     "data": {
      "text/plain": [
       "0         Delores\n",
       "1         Cameron\n",
       "2            Lois\n",
       "3            Grek\n",
       "4          Doreen\n",
       "5          Samuel\n",
       "6         Carolyn\n",
       "7             Zoe\n",
       "8           Steve\n",
       "9          Randal\n",
       "10           Teri\n",
       "11          Scott\n",
       "12       Kimberly\n",
       "13    Christopher\n",
       "14           Anna\n",
       "15       Victoria\n",
       "16         Philip\n",
       "17           Mark\n",
       "18          Drake\n",
       "19          Brady\n",
       "20         Philip\n",
       "21      Madeleine\n",
       "22           Paul\n",
       "23       Jeremiah\n",
       "24           Paul\n",
       "25          Scott\n",
       "26         Pierce\n",
       "27          Keith\n",
       "28         Thomas\n",
       "29         Hannah\n",
       "30       Victoria\n",
       "31          Aaron\n",
       "32       Lawrence\n",
       "33         Melody\n",
       "34    Daughter Of\n",
       "35          Laura\n",
       "36           Kali\n",
       "37           Kane\n",
       "38        Melissa\n",
       "39        Raymond\n",
       "Name: first_name, dtype: category\n",
       "Categories (36, object): ['Aaron', 'Anna', 'Brady', 'Cameron', ..., 'Teri', 'Thomas', 'Victoria', 'Zoe']"
      ]
     },
     "execution_count": 91,
     "metadata": {},
     "output_type": "execute_result"
    }
   ],
   "source": [
    "cdata.current_population_survey.first_name"
   ]
  },
  {
   "cell_type": "code",
   "execution_count": 92,
   "id": "233d7d26-7f26-4093-8dd0-a67197f103d1",
   "metadata": {},
   "outputs": [
    {
     "data": {
      "text/plain": [
       "0               NaN\n",
       "1               NaN\n",
       "2               NaN\n",
       "3       037-53-5358\n",
       "4               NaN\n",
       "           ...     \n",
       "6513            NaN\n",
       "6514            NaN\n",
       "6515            NaN\n",
       "6516            NaN\n",
       "6517            NaN\n",
       "Name: spouse_ssn, Length: 6518, dtype: category\n",
       "Categories (622, object): ['004-78-8335', '005-75-2115', '006-77-6962', '007-59-7734', ..., '991-83-5611', '996-82-2449', '999-83-8127', '999-99-9858']"
      ]
     },
     "execution_count": 92,
     "metadata": {},
     "output_type": "execute_result"
    }
   ],
   "source": [
    "cdata.taxes_1040.spouse_ssn"
   ]
  },
  {
   "cell_type": "code",
   "execution_count": 93,
   "id": "41df21c4-953f-42f5-9019-50864b7fa425",
   "metadata": {},
   "outputs": [
    {
     "data": {
      "text/plain": [
       "0               NaN\n",
       "1               NaN\n",
       "2               NaN\n",
       "3       037-53-5358\n",
       "4               NaN\n",
       "           ...     \n",
       "6513            NaN\n",
       "6514            NaN\n",
       "6515            NaN\n",
       "6516            NaN\n",
       "6517            NaN\n",
       "Name: spouse_ssn, Length: 6518, dtype: object"
      ]
     },
     "execution_count": 93,
     "metadata": {},
     "output_type": "execute_result"
    }
   ],
   "source": [
    "data.taxes_1040.spouse_ssn"
   ]
  },
  {
   "cell_type": "code",
   "execution_count": 94,
   "id": "06f520d2-a07c-48da-a752-11afd203e622",
   "metadata": {},
   "outputs": [
    {
     "data": {
      "text/plain": [
       "0       674-27-1745\n",
       "1       186-59-6048\n",
       "2       633-24-4997\n",
       "3       037-53-5358\n",
       "4       124-24-0024\n",
       "           ...     \n",
       "6513    885-57-0306\n",
       "6514    125-19-8492\n",
       "6515    051-81-6585\n",
       "6516    542-61-5912\n",
       "6517    074-43-7334\n",
       "Name: ssn, Length: 6518, dtype: object"
      ]
     },
     "execution_count": 94,
     "metadata": {},
     "output_type": "execute_result"
    }
   ],
   "source": [
    "data.taxes_1040.ssn"
   ]
  },
  {
   "cell_type": "code",
   "execution_count": 95,
   "id": "2845b08e-e3dd-4323-97f8-80fe33568343",
   "metadata": {},
   "outputs": [
    {
     "data": {
      "text/plain": [
       "0       10192.0\n",
       "1       28355.0\n",
       "2       18243.0\n",
       "3        7704.0\n",
       "4        3490.0\n",
       "         ...   \n",
       "9898     9585.0\n",
       "9899    57906.0\n",
       "9900    19609.0\n",
       "9901     8061.0\n",
       "9902     4961.0\n",
       "Name: wages, Length: 9903, dtype: float64"
      ]
     },
     "execution_count": 95,
     "metadata": {},
     "output_type": "execute_result"
    }
   ],
   "source": [
    "wages = pd.to_numeric(data.taxes_w2_and_1099.wages, errors='coerce')\n",
    "wages"
   ]
  },
  {
   "cell_type": "code",
   "execution_count": 96,
   "id": "5e745b54-0d53-4444-bd31-1c2fb71b0d7f",
   "metadata": {},
   "outputs": [
    {
     "data": {
      "text/plain": [
       "<Axes: >"
      ]
     },
     "execution_count": 96,
     "metadata": {},
     "output_type": "execute_result"
    },
    {
     "data": {
      "image/png": "[encoded data removed]",
      "text/plain": [
       "<Figure size 640x480 with 1 Axes>"
      ]
     },
     "metadata": {},
     "output_type": "display_data"
    }
   ],
   "source": [
    "wages.hist(bins=100)"
   ]
  },
  {
   "cell_type": "code",
   "execution_count": 97,
   "id": "e99d6169-abee-4f00-be55-d967ef2d334f",
   "metadata": {},
   "outputs": [
    {
     "data": {
      "text/plain": [
       "count    9.777000e+03\n",
       "mean     3.901173e+04\n",
       "std      6.293601e+04\n",
       "min      1.220000e+02\n",
       "25%      8.683000e+03\n",
       "50%      2.172800e+04\n",
       "75%      4.731500e+04\n",
       "max      2.046557e+06\n",
       "Name: wages, dtype: float64"
      ]
     },
     "execution_count": 97,
     "metadata": {},
     "output_type": "execute_result"
    }
   ],
   "source": [
    "wages.describe()"
   ]
  },
  {
   "cell_type": "code",
   "execution_count": 98,
   "id": "b3f20d3b-2a04-4426-826b-a3951e2a056b",
   "metadata": {},
   "outputs": [
    {
     "data": {
      "text/plain": [
       "<Axes: >"
      ]
     },
     "execution_count": 98,
     "metadata": {},
     "output_type": "execute_result"
    },
    {
     "data": {
      "image/png": "[encoded data removed]",
      "text/plain": [
       "<Figure size 640x480 with 1 Axes>"
      ]
     },
     "metadata": {},
     "output_type": "display_data"
    }
   ],
   "source": [
    "np.log(wages).hist(bins=100)"
   ]
  },
  {
   "cell_type": "code",
   "execution_count": null,
   "id": "523b1bce-c956-438f-bed3-b68422395610",
   "metadata": {},
   "outputs": [],
   "source": []
  }
 ],
 "metadata": {
  "kernelspec": {
   "display_name": "Python 3 (ipykernel)",
   "language": "python",
   "name": "python3"
  },
  "language_info": {
   "codemirror_mode": {
    "name": "ipython",
    "version": 3
   },
   "file_extension": ".py",
   "mimetype": "text/x-python",
   "name": "python",
   "nbconvert_exporter": "python",
   "pygments_lexer": "ipython3",
   "version": "3.11.7"
  }
 },
 "nbformat": 4,
 "nbformat_minor": 5
}
