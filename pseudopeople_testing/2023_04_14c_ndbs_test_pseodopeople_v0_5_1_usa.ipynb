{
 "cells": [
  {
   "cell_type": "code",
   "execution_count": 1,
   "id": "be7cad45",
   "metadata": {},
   "outputs": [
    {
     "name": "stdout",
     "output_type": "stream",
     "text": [
      "Fri 14 Apr 2023 11:24:36 PM PDT\n",
      "ndbs\n",
      "Linux long-slurm-sarchive-p0041 5.4.0-135-generic #152-Ubuntu SMP Wed Nov 23 20:19:22 UTC 2022 x86_64 x86_64 x86_64 GNU/Linux\n",
      "/mnt/share/code/ndbs/vivarium_research_prl/pseudopeople_testing\n"
     ]
    }
   ],
   "source": [
    "import numpy as np, matplotlib.pyplot as plt, pandas as pd\n",
    "pd.set_option('display.max_rows', 50)\n",
    "\n",
    "import os\n",
    "# Use this to see how much memory the dataframes use\n",
    "from sys import getsizeof\n",
    "\n",
    "import yaml\n",
    "\n",
    "import pseudopeople as pp\n",
    "from pseudopeople.configuration import get_configuration\n",
    "from vivarium.framework.randomness import RandomnessStream\n",
    "from vivarium.config_tree import ConfigTree\n",
    "\n",
    "from vivarium_research_prl.utils import sizemb, MappingViaAttributes\n",
    "from vivarium_research_prl import datatypes\n",
    "from vivarium_research_prl.noise import corruption, fake_names, noisify\n",
    "from vivarium_research_prl.find_kids import datasets, noisify_data\n",
    "from vivarium_research_prl import alpha\n",
    "\n",
    "!date\n",
    "!whoami\n",
    "!uname -a\n",
    "!pwd"
   ]
  },
  {
   "cell_type": "code",
   "execution_count": null,
   "id": "090169e7",
   "metadata": {},
   "outputs": [],
   "source": []
  },
  {
   "cell_type": "markdown",
   "id": "11a477dc",
   "metadata": {},
   "source": [
    "# Data!\n",
    "\n",
    "```\n",
    "/mnt/team/simulation_science/priv/engineering/vivarium_census_prl_synth_pop/results/v2.0_three_censuses/united_states_of_america/2023_04_08_14_07_04/final_results/parquet/\n",
    "```"
   ]
  },
  {
   "cell_type": "code",
   "execution_count": 2,
   "id": "00a9ff8c",
   "metadata": {},
   "outputs": [
    {
     "name": "stdout",
     "output_type": "stream",
     "text": [
      "total 96K\r\n",
      "drwxrwsr-x  3 rmudambi IHME-Simulationscience  512 Apr  9 18:48 states\r\n",
      "drwxrwsr-x  5 rmudambi IHME-Simulationscience 1.5K Apr  9 18:48 .\r\n",
      "drwxrwsr-x 10 rmudambi IHME-Simulationscience 4.0K Apr  9 15:41 usa\r\n",
      "drwxrwsr-x  4 rmudambi IHME-Simulationscience 2.0K Apr  9 15:21 ..\r\n",
      "drwxrwsr-x  2 rmudambi IHME-Simulationscience 336K Apr  9 12:05 logs\r\n"
     ]
    }
   ],
   "source": [
    "project_dir = '/mnt/team/simulation_science/priv/engineering/vivarium_census_prl_synth_pop'\n",
    "model_dir = (\n",
    "    f'{project_dir}/results'\n",
    "    '/v2.0_three_censuses/united_states_of_america/2023_04_08_14_07_04'\n",
    ")\n",
    "parquet_dir = f'{model_dir}/final_results/parquet'\n",
    "hdf_dir = f'{model_dir}/final_results/hdf'\n",
    "rhode_island_par_dir = f'{parquet_dir}/states/rhode_island'\n",
    "usa_par_dir = f'{parquet_dir}/usa'\n",
    "rhode_island_hdf_dir = f'{hdf_dir}/states/rhode_island'\n",
    "usa_hdf_dir = f'{hdf_dir}/usa'\n",
    "\n",
    "!ls -halt $parquet_dir"
   ]
  },
  {
   "cell_type": "code",
   "execution_count": 3,
   "id": "c4169f39",
   "metadata": {},
   "outputs": [
    {
     "name": "stdout",
     "output_type": "stream",
     "text": [
      "total 284K\r\n",
      "drwxrwsr-x  5 rmudambi IHME-Simulationscience 1.5K Apr  9 18:48 ..\r\n",
      "drwxrwsr-x 10 rmudambi IHME-Simulationscience 4.0K Apr  9 15:41 .\r\n",
      "drwxrwsr-x  2 rmudambi IHME-Simulationscience 167K Apr  9 12:21 tax_dependents_observer\r\n",
      "drwxrwsr-x  2 rmudambi IHME-Simulationscience 167K Apr  9 12:20 tax_1040_observer\r\n",
      "drwxrwsr-x  2 rmudambi IHME-Simulationscience 167K Apr  9 12:15 tax_w2_observer\r\n",
      "drwxrwsr-x  2 rmudambi IHME-Simulationscience 167K Apr  9 12:09 social_security_observer\r\n",
      "drwxrwsr-x  2 rmudambi IHME-Simulationscience 167K Apr  9 12:09 wic_observer\r\n",
      "drwxrwsr-x  2 rmudambi IHME-Simulationscience 167K Apr  9 12:09 household_survey_observer_cps\r\n",
      "drwxrwsr-x  2 rmudambi IHME-Simulationscience 167K Apr  9 12:09 household_survey_observer_acs\r\n",
      "drwxrwsr-x  2 rmudambi IHME-Simulationscience 167K Apr  9 12:09 decennial_census_observer\r\n"
     ]
    }
   ],
   "source": [
    "!ls -halt $usa_par_dir"
   ]
  },
  {
   "cell_type": "markdown",
   "id": "3cd49b49",
   "metadata": {},
   "source": [
    "# Load the full USA decennial census from 2020!\n",
    "\n",
    "I've got 500 GB of RAM and 7 days of cluster time. Based on the Rhode Island data, I estimate the USA census should take under 250 GB of RAM and 67 hours. Let's hope!\n",
    "\n",
    "Holy crap, it only took 1h 32min 16s!!!\n",
    "\n",
    "And it takes up 223.275 GB."
   ]
  },
  {
   "cell_type": "code",
   "execution_count": 4,
   "id": "b609cec5",
   "metadata": {
    "scrolled": false
   },
   "outputs": [
    {
     "name": "stdout",
     "output_type": "stream",
     "text": [
      "\u001b[32m2023-04-14 23:34:19.537\u001b[0m | \u001b[36mpseudopeople.interface\u001b[0m:\u001b[36m_generate_form\u001b[0m:\u001b[36m68\u001b[0m - \u001b[1mLoading data from /mnt/team/simulation_science/priv/engineering/vivarium_census_prl_synth_pop/results/v2.0_three_censuses/united_states_of_america/2023_04_08_14_07_04/final_results/parquet/usa/decennial_census_observer/decennial_census_observer_9696.parquet.\u001b[0m\n"
     ]
    },
    {
     "name": "stderr",
     "output_type": "stream",
     "text": [
      "Applying noise: 100%|███████████████████████████████████████████████████████████████████████████████| 8/8 [00:08<00:00,  1.10s/type]\n"
     ]
    },
    {
     "name": "stdout",
     "output_type": "stream",
     "text": [
      "\u001b[32m2023-04-14 23:34:35.697\u001b[0m | \u001b[36mpseudopeople.interface\u001b[0m:\u001b[36m_generate_form\u001b[0m:\u001b[36m68\u001b[0m - \u001b[1mLoading data from /mnt/team/simulation_science/priv/engineering/vivarium_census_prl_synth_pop/results/v2.0_three_censuses/united_states_of_america/2023_04_08_14_07_04/final_results/parquet/usa/decennial_census_observer/decennial_census_observer_9024.parquet.\u001b[0m\n"
     ]
    },
    {
     "name": "stderr",
     "output_type": "stream",
     "text": [
      "Applying noise: 100%|███████████████████████████████████████████████████████████████████████████████| 8/8 [00:08<00:00,  1.11s/type]\n"
     ]
    },
    {
     "name": "stdout",
     "output_type": "stream",
     "text": [
      "\u001b[32m2023-04-14 23:34:51.752\u001b[0m | \u001b[36mpseudopeople.interface\u001b[0m:\u001b[36m_generate_form\u001b[0m:\u001b[36m68\u001b[0m - \u001b[1mLoading data from /mnt/team/simulation_science/priv/engineering/vivarium_census_prl_synth_pop/results/v2.0_three_censuses/united_states_of_america/2023_04_08_14_07_04/final_results/parquet/usa/decennial_census_observer/decennial_census_observer_3240.parquet.\u001b[0m\n"
     ]
    },
    {
     "name": "stderr",
     "output_type": "stream",
     "text": [
      "Applying noise: 100%|███████████████████████████████████████████████████████████████████████████████| 8/8 [00:08<00:00,  1.12s/type]\n"
     ]
    },
    {
     "name": "stdout",
     "output_type": "stream",
     "text": [
      "\u001b[32m2023-04-14 23:35:07.905\u001b[0m | \u001b[36mpseudopeople.interface\u001b[0m:\u001b[36m_generate_form\u001b[0m:\u001b[36m68\u001b[0m - \u001b[1mLoading data from /mnt/team/simulation_science/priv/engineering/vivarium_census_prl_synth_pop/results/v2.0_three_censuses/united_states_of_america/2023_04_08_14_07_04/final_results/parquet/usa/decennial_census_observer/decennial_census_observer_1490.parquet.\u001b[0m\n"
     ]
    },
    {
     "name": "stderr",
     "output_type": "stream",
     "text": [
      "Applying noise: 100%|███████████████████████████████████████████████████████████████████████████████| 8/8 [00:08<00:00,  1.09s/type]\n"
     ]
    },
    {
     "name": "stdout",
     "output_type": "stream",
     "text": [
      "\u001b[32m2023-04-14 23:35:23.817\u001b[0m | \u001b[36mpseudopeople.interface\u001b[0m:\u001b[36m_generate_form\u001b[0m:\u001b[36m68\u001b[0m - \u001b[1mLoading data from /mnt/team/simulation_science/priv/engineering/vivarium_census_prl_synth_pop/results/v2.0_three_censuses/united_states_of_america/2023_04_08_14_07_04/final_results/parquet/usa/decennial_census_observer/decennial_census_observer_6203.parquet.\u001b[0m\n"
     ]
    },
    {
     "name": "stderr",
     "output_type": "stream",
     "text": [
      "Applying noise: 100%|███████████████████████████████████████████████████████████████████████████████| 8/8 [00:08<00:00,  1.08s/type]\n"
     ]
    },
    {
     "name": "stdout",
     "output_type": "stream",
     "text": [
      "\u001b[32m2023-04-14 23:35:39.722\u001b[0m | \u001b[36mpseudopeople.interface\u001b[0m:\u001b[36m_generate_form\u001b[0m:\u001b[36m68\u001b[0m - \u001b[1mLoading data from /mnt/team/simulation_science/priv/engineering/vivarium_census_prl_synth_pop/results/v2.0_three_censuses/united_states_of_america/2023_04_08_14_07_04/final_results/parquet/usa/decennial_census_observer/decennial_census_observer_5475.parquet.\u001b[0m\n"
     ]
    },
    {
     "name": "stderr",
     "output_type": "stream",
     "text": [
      "Applying noise: 100%|███████████████████████████████████████████████████████████████████████████████| 8/8 [00:08<00:00,  1.08s/type]\n"
     ]
    },
    {
     "name": "stdout",
     "output_type": "stream",
     "text": [
      "\u001b[32m2023-04-14 23:35:55.615\u001b[0m | \u001b[36mpseudopeople.interface\u001b[0m:\u001b[36m_generate_form\u001b[0m:\u001b[36m68\u001b[0m - \u001b[1mLoading data from /mnt/team/simulation_science/priv/engineering/vivarium_census_prl_synth_pop/results/v2.0_three_censuses/united_states_of_america/2023_04_08_14_07_04/final_results/parquet/usa/decennial_census_observer/decennial_census_observer_5072.parquet.\u001b[0m\n"
     ]
    },
    {
     "name": "stderr",
     "output_type": "stream",
     "text": [
      "Applying noise: 100%|███████████████████████████████████████████████████████████████████████████████| 8/8 [00:08<00:00,  1.09s/type]\n"
     ]
    },
    {
     "name": "stdout",
     "output_type": "stream",
     "text": [
      "\u001b[32m2023-04-14 23:36:11.477\u001b[0m | \u001b[36mpseudopeople.interface\u001b[0m:\u001b[36m_generate_form\u001b[0m:\u001b[36m68\u001b[0m - \u001b[1mLoading data from /mnt/team/simulation_science/priv/engineering/vivarium_census_prl_synth_pop/results/v2.0_three_censuses/united_states_of_america/2023_04_08_14_07_04/final_results/parquet/usa/decennial_census_observer/decennial_census_observer_9526.parquet.\u001b[0m\n"
     ]
    },
    {
     "name": "stderr",
     "output_type": "stream",
     "text": [
      "Applying noise: 100%|███████████████████████████████████████████████████████████████████████████████| 8/8 [00:08<00:00,  1.10s/type]\n"
     ]
    },
    {
     "name": "stdout",
     "output_type": "stream",
     "text": [
      "\u001b[32m2023-04-14 23:36:27.514\u001b[0m | \u001b[36mpseudopeople.interface\u001b[0m:\u001b[36m_generate_form\u001b[0m:\u001b[36m68\u001b[0m - \u001b[1mLoading data from /mnt/team/simulation_science/priv/engineering/vivarium_census_prl_synth_pop/results/v2.0_three_censuses/united_states_of_america/2023_04_08_14_07_04/final_results/parquet/usa/decennial_census_observer/decennial_census_observer_1935.parquet.\u001b[0m\n"
     ]
    },
    {
     "name": "stderr",
     "output_type": "stream",
     "text": [
      "Applying noise: 100%|███████████████████████████████████████████████████████████████████████████████| 8/8 [00:08<00:00,  1.09s/type]\n"
     ]
    },
    {
     "name": "stdout",
     "output_type": "stream",
     "text": [
      "\u001b[32m2023-04-14 23:36:43.342\u001b[0m | \u001b[36mpseudopeople.interface\u001b[0m:\u001b[36m_generate_form\u001b[0m:\u001b[36m68\u001b[0m - \u001b[1mLoading data from /mnt/team/simulation_science/priv/engineering/vivarium_census_prl_synth_pop/results/v2.0_three_censuses/united_states_of_america/2023_04_08_14_07_04/final_results/parquet/usa/decennial_census_observer/decennial_census_observer_5399.parquet.\u001b[0m\n"
     ]
    },
    {
     "name": "stderr",
     "output_type": "stream",
     "text": [
      "Applying noise: 100%|███████████████████████████████████████████████████████████████████████████████| 8/8 [00:08<00:00,  1.09s/type]\n"
     ]
    },
    {
     "name": "stdout",
     "output_type": "stream",
     "text": [
      "\u001b[32m2023-04-14 23:36:59.338\u001b[0m | \u001b[36mpseudopeople.interface\u001b[0m:\u001b[36m_generate_form\u001b[0m:\u001b[36m68\u001b[0m - \u001b[1mLoading data from /mnt/team/simulation_science/priv/engineering/vivarium_census_prl_synth_pop/results/v2.0_three_censuses/united_states_of_america/2023_04_08_14_07_04/final_results/parquet/usa/decennial_census_observer/decennial_census_observer_3731.parquet.\u001b[0m\n"
     ]
    },
    {
     "name": "stderr",
     "output_type": "stream",
     "text": [
      "Applying noise: 100%|███████████████████████████████████████████████████████████████████████████████| 8/8 [00:08<00:00,  1.09s/type]\n"
     ]
    },
    {
     "name": "stdout",
     "output_type": "stream",
     "text": [
      "\u001b[32m2023-04-14 23:37:15.208\u001b[0m | \u001b[36mpseudopeople.interface\u001b[0m:\u001b[36m_generate_form\u001b[0m:\u001b[36m68\u001b[0m - \u001b[1mLoading data from /mnt/team/simulation_science/priv/engineering/vivarium_census_prl_synth_pop/results/v2.0_three_censuses/united_states_of_america/2023_04_08_14_07_04/final_results/parquet/usa/decennial_census_observer/decennial_census_observer_3380.parquet.\u001b[0m\n"
     ]
    },
    {
     "name": "stderr",
     "output_type": "stream",
     "text": [
      "Applying noise: 100%|███████████████████████████████████████████████████████████████████████████████| 8/8 [00:08<00:00,  1.09s/type]\n"
     ]
    },
    {
     "name": "stdout",
     "output_type": "stream",
     "text": [
      "\u001b[32m2023-04-14 23:37:31.081\u001b[0m | \u001b[36mpseudopeople.interface\u001b[0m:\u001b[36m_generate_form\u001b[0m:\u001b[36m68\u001b[0m - \u001b[1mLoading data from /mnt/team/simulation_science/priv/engineering/vivarium_census_prl_synth_pop/results/v2.0_three_censuses/united_states_of_america/2023_04_08_14_07_04/final_results/parquet/usa/decennial_census_observer/decennial_census_observer_3326.parquet.\u001b[0m\n"
     ]
    },
    {
     "name": "stderr",
     "output_type": "stream",
     "text": [
      "Applying noise: 100%|███████████████████████████████████████████████████████████████████████████████| 8/8 [00:08<00:00,  1.09s/type]\n"
     ]
    },
    {
     "name": "stdout",
     "output_type": "stream",
     "text": [
      "\u001b[32m2023-04-14 23:37:47.088\u001b[0m | \u001b[36mpseudopeople.interface\u001b[0m:\u001b[36m_generate_form\u001b[0m:\u001b[36m68\u001b[0m - \u001b[1mLoading data from /mnt/team/simulation_science/priv/engineering/vivarium_census_prl_synth_pop/results/v2.0_three_censuses/united_states_of_america/2023_04_08_14_07_04/final_results/parquet/usa/decennial_census_observer/decennial_census_observer_558.parquet.\u001b[0m\n"
     ]
    },
    {
     "name": "stderr",
     "output_type": "stream",
     "text": [
      "Applying noise: 100%|███████████████████████████████████████████████████████████████████████████████| 8/8 [00:08<00:00,  1.09s/type]\n"
     ]
    },
    {
     "name": "stdout",
     "output_type": "stream",
     "text": [
      "\u001b[32m2023-04-14 23:38:03.074\u001b[0m | \u001b[36mpseudopeople.interface\u001b[0m:\u001b[36m_generate_form\u001b[0m:\u001b[36m68\u001b[0m - \u001b[1mLoading data from /mnt/team/simulation_science/priv/engineering/vivarium_census_prl_synth_pop/results/v2.0_three_censuses/united_states_of_america/2023_04_08_14_07_04/final_results/parquet/usa/decennial_census_observer/decennial_census_observer_440.parquet.\u001b[0m\n"
     ]
    },
    {
     "name": "stderr",
     "output_type": "stream",
     "text": [
      "Applying noise: 100%|███████████████████████████████████████████████████████████████████████████████| 8/8 [00:08<00:00,  1.10s/type]\n"
     ]
    },
    {
     "name": "stdout",
     "output_type": "stream",
     "text": [
      "\u001b[32m2023-04-14 23:38:19.110\u001b[0m | \u001b[36mpseudopeople.interface\u001b[0m:\u001b[36m_generate_form\u001b[0m:\u001b[36m68\u001b[0m - \u001b[1mLoading data from /mnt/team/simulation_science/priv/engineering/vivarium_census_prl_synth_pop/results/v2.0_three_censuses/united_states_of_america/2023_04_08_14_07_04/final_results/parquet/usa/decennial_census_observer/decennial_census_observer_9577.parquet.\u001b[0m\n"
     ]
    },
    {
     "name": "stderr",
     "output_type": "stream",
     "text": [
      "Applying noise: 100%|███████████████████████████████████████████████████████████████████████████████| 8/8 [00:08<00:00,  1.12s/type]\n"
     ]
    },
    {
     "name": "stdout",
     "output_type": "stream",
     "text": [
      "\u001b[32m2023-04-14 23:38:35.207\u001b[0m | \u001b[36mpseudopeople.interface\u001b[0m:\u001b[36m_generate_form\u001b[0m:\u001b[36m68\u001b[0m - \u001b[1mLoading data from /mnt/team/simulation_science/priv/engineering/vivarium_census_prl_synth_pop/results/v2.0_three_censuses/united_states_of_america/2023_04_08_14_07_04/final_results/parquet/usa/decennial_census_observer/decennial_census_observer_3465.parquet.\u001b[0m\n"
     ]
    },
    {
     "name": "stderr",
     "output_type": "stream",
     "text": [
      "Applying noise: 100%|███████████████████████████████████████████████████████████████████████████████| 8/8 [00:08<00:00,  1.10s/type]\n"
     ]
    },
    {
     "name": "stdout",
     "output_type": "stream",
     "text": [
      "\u001b[32m2023-04-14 23:38:51.156\u001b[0m | \u001b[36mpseudopeople.interface\u001b[0m:\u001b[36m_generate_form\u001b[0m:\u001b[36m68\u001b[0m - \u001b[1mLoading data from /mnt/team/simulation_science/priv/engineering/vivarium_census_prl_synth_pop/results/v2.0_three_censuses/united_states_of_america/2023_04_08_14_07_04/final_results/parquet/usa/decennial_census_observer/decennial_census_observer_7530.parquet.\u001b[0m\n"
     ]
    },
    {
     "name": "stderr",
     "output_type": "stream",
     "text": [
      "Applying noise: 100%|███████████████████████████████████████████████████████████████████████████████| 8/8 [00:08<00:00,  1.09s/type]\n"
     ]
    },
    {
     "name": "stdout",
     "output_type": "stream",
     "text": [
      "\u001b[32m2023-04-14 23:39:07.001\u001b[0m | \u001b[36mpseudopeople.interface\u001b[0m:\u001b[36m_generate_form\u001b[0m:\u001b[36m68\u001b[0m - \u001b[1mLoading data from /mnt/team/simulation_science/priv/engineering/vivarium_census_prl_synth_pop/results/v2.0_three_censuses/united_states_of_america/2023_04_08_14_07_04/final_results/parquet/usa/decennial_census_observer/decennial_census_observer_40.parquet.\u001b[0m\n"
     ]
    },
    {
     "name": "stderr",
     "output_type": "stream",
     "text": [
      "Applying noise: 100%|███████████████████████████████████████████████████████████████████████████████| 8/8 [00:08<00:00,  1.09s/type]\n"
     ]
    },
    {
     "name": "stdout",
     "output_type": "stream",
     "text": [
      "\u001b[32m2023-04-14 23:39:22.961\u001b[0m | \u001b[36mpseudopeople.interface\u001b[0m:\u001b[36m_generate_form\u001b[0m:\u001b[36m68\u001b[0m - \u001b[1mLoading data from /mnt/team/simulation_science/priv/engineering/vivarium_census_prl_synth_pop/results/v2.0_three_censuses/united_states_of_america/2023_04_08_14_07_04/final_results/parquet/usa/decennial_census_observer/decennial_census_observer_5300.parquet.\u001b[0m\n"
     ]
    },
    {
     "name": "stderr",
     "output_type": "stream",
     "text": [
      "Applying noise: 100%|███████████████████████████████████████████████████████████████████████████████| 8/8 [00:08<00:00,  1.12s/type]\n"
     ]
    },
    {
     "name": "stdout",
     "output_type": "stream",
     "text": [
      "\u001b[32m2023-04-14 23:39:39.147\u001b[0m | \u001b[36mpseudopeople.interface\u001b[0m:\u001b[36m_generate_form\u001b[0m:\u001b[36m68\u001b[0m - \u001b[1mLoading data from /mnt/team/simulation_science/priv/engineering/vivarium_census_prl_synth_pop/results/v2.0_three_censuses/united_states_of_america/2023_04_08_14_07_04/final_results/parquet/usa/decennial_census_observer/decennial_census_observer_4621.parquet.\u001b[0m\n"
     ]
    },
    {
     "name": "stderr",
     "output_type": "stream",
     "text": [
      "Applying noise: 100%|███████████████████████████████████████████████████████████████████████████████| 8/8 [00:08<00:00,  1.09s/type]\n"
     ]
    },
    {
     "name": "stdout",
     "output_type": "stream",
     "text": [
      "\u001b[32m2023-04-14 23:39:54.921\u001b[0m | \u001b[36mpseudopeople.interface\u001b[0m:\u001b[36m_generate_form\u001b[0m:\u001b[36m68\u001b[0m - \u001b[1mLoading data from /mnt/team/simulation_science/priv/engineering/vivarium_census_prl_synth_pop/results/v2.0_three_censuses/united_states_of_america/2023_04_08_14_07_04/final_results/parquet/usa/decennial_census_observer/decennial_census_observer_3545.parquet.\u001b[0m\n"
     ]
    },
    {
     "name": "stderr",
     "output_type": "stream",
     "text": [
      "Applying noise: 100%|███████████████████████████████████████████████████████████████████████████████| 8/8 [00:08<00:00,  1.09s/type]\n"
     ]
    },
    {
     "name": "stdout",
     "output_type": "stream",
     "text": [
      "\u001b[32m2023-04-14 23:40:10.772\u001b[0m | \u001b[36mpseudopeople.interface\u001b[0m:\u001b[36m_generate_form\u001b[0m:\u001b[36m68\u001b[0m - \u001b[1mLoading data from /mnt/team/simulation_science/priv/engineering/vivarium_census_prl_synth_pop/results/v2.0_three_censuses/united_states_of_america/2023_04_08_14_07_04/final_results/parquet/usa/decennial_census_observer/decennial_census_observer_656.parquet.\u001b[0m\n"
     ]
    },
    {
     "name": "stderr",
     "output_type": "stream",
     "text": [
      "Applying noise: 100%|███████████████████████████████████████████████████████████████████████████████| 8/8 [00:08<00:00,  1.09s/type]\n"
     ]
    },
    {
     "name": "stdout",
     "output_type": "stream",
     "text": [
      "\u001b[32m2023-04-14 23:40:26.753\u001b[0m | \u001b[36mpseudopeople.interface\u001b[0m:\u001b[36m_generate_form\u001b[0m:\u001b[36m68\u001b[0m - \u001b[1mLoading data from /mnt/team/simulation_science/priv/engineering/vivarium_census_prl_synth_pop/results/v2.0_three_censuses/united_states_of_america/2023_04_08_14_07_04/final_results/parquet/usa/decennial_census_observer/decennial_census_observer_7264.parquet.\u001b[0m\n"
     ]
    },
    {
     "name": "stderr",
     "output_type": "stream",
     "text": [
      "Applying noise: 100%|███████████████████████████████████████████████████████████████████████████████| 8/8 [00:08<00:00,  1.10s/type]\n"
     ]
    },
    {
     "name": "stdout",
     "output_type": "stream",
     "text": [
      "\u001b[32m2023-04-14 23:40:42.726\u001b[0m | \u001b[36mpseudopeople.interface\u001b[0m:\u001b[36m_generate_form\u001b[0m:\u001b[36m68\u001b[0m - \u001b[1mLoading data from /mnt/team/simulation_science/priv/engineering/vivarium_census_prl_synth_pop/results/v2.0_three_censuses/united_states_of_america/2023_04_08_14_07_04/final_results/parquet/usa/decennial_census_observer/decennial_census_observer_3713.parquet.\u001b[0m\n"
     ]
    },
    {
     "name": "stderr",
     "output_type": "stream",
     "text": [
      "Applying noise: 100%|███████████████████████████████████████████████████████████████████████████████| 8/8 [00:08<00:00,  1.10s/type]\n"
     ]
    },
    {
     "name": "stdout",
     "output_type": "stream",
     "text": [
      "\u001b[32m2023-04-14 23:40:58.647\u001b[0m | \u001b[36mpseudopeople.interface\u001b[0m:\u001b[36m_generate_form\u001b[0m:\u001b[36m68\u001b[0m - \u001b[1mLoading data from /mnt/team/simulation_science/priv/engineering/vivarium_census_prl_synth_pop/results/v2.0_three_censuses/united_states_of_america/2023_04_08_14_07_04/final_results/parquet/usa/decennial_census_observer/decennial_census_observer_5703.parquet.\u001b[0m\n"
     ]
    },
    {
     "name": "stderr",
     "output_type": "stream",
     "text": [
      "Applying noise: 100%|███████████████████████████████████████████████████████████████████████████████| 8/8 [00:08<00:00,  1.09s/type]\n"
     ]
    },
    {
     "name": "stdout",
     "output_type": "stream",
     "text": [
      "\u001b[32m2023-04-14 23:41:14.476\u001b[0m | \u001b[36mpseudopeople.interface\u001b[0m:\u001b[36m_generate_form\u001b[0m:\u001b[36m68\u001b[0m - \u001b[1mLoading data from /mnt/team/simulation_science/priv/engineering/vivarium_census_prl_synth_pop/results/v2.0_three_censuses/united_states_of_america/2023_04_08_14_07_04/final_results/parquet/usa/decennial_census_observer/decennial_census_observer_6975.parquet.\u001b[0m\n"
     ]
    },
    {
     "name": "stderr",
     "output_type": "stream",
     "text": [
      "Applying noise: 100%|███████████████████████████████████████████████████████████████████████████████| 8/8 [00:08<00:00,  1.10s/type]\n"
     ]
    },
    {
     "name": "stdout",
     "output_type": "stream",
     "text": [
      "\u001b[32m2023-04-14 23:41:30.522\u001b[0m | \u001b[36mpseudopeople.interface\u001b[0m:\u001b[36m_generate_form\u001b[0m:\u001b[36m68\u001b[0m - \u001b[1mLoading data from /mnt/team/simulation_science/priv/engineering/vivarium_census_prl_synth_pop/results/v2.0_three_censuses/united_states_of_america/2023_04_08_14_07_04/final_results/parquet/usa/decennial_census_observer/decennial_census_observer_352.parquet.\u001b[0m\n"
     ]
    },
    {
     "name": "stderr",
     "output_type": "stream",
     "text": [
      "Applying noise: 100%|███████████████████████████████████████████████████████████████████████████████| 8/8 [00:08<00:00,  1.10s/type]\n"
     ]
    },
    {
     "name": "stdout",
     "output_type": "stream",
     "text": [
      "\u001b[32m2023-04-14 23:41:46.559\u001b[0m | \u001b[36mpseudopeople.interface\u001b[0m:\u001b[36m_generate_form\u001b[0m:\u001b[36m68\u001b[0m - \u001b[1mLoading data from /mnt/team/simulation_science/priv/engineering/vivarium_census_prl_synth_pop/results/v2.0_three_censuses/united_states_of_america/2023_04_08_14_07_04/final_results/parquet/usa/decennial_census_observer/decennial_census_observer_5594.parquet.\u001b[0m\n"
     ]
    },
    {
     "name": "stderr",
     "output_type": "stream",
     "text": [
      "Applying noise: 100%|███████████████████████████████████████████████████████████████████████████████| 8/8 [00:08<00:00,  1.09s/type]\n"
     ]
    },
    {
     "name": "stdout",
     "output_type": "stream",
     "text": [
      "\u001b[32m2023-04-14 23:42:02.343\u001b[0m | \u001b[36mpseudopeople.interface\u001b[0m:\u001b[36m_generate_form\u001b[0m:\u001b[36m68\u001b[0m - \u001b[1mLoading data from /mnt/team/simulation_science/priv/engineering/vivarium_census_prl_synth_pop/results/v2.0_three_censuses/united_states_of_america/2023_04_08_14_07_04/final_results/parquet/usa/decennial_census_observer/decennial_census_observer_2405.parquet.\u001b[0m\n"
     ]
    },
    {
     "name": "stderr",
     "output_type": "stream",
     "text": [
      "Applying noise: 100%|███████████████████████████████████████████████████████████████████████████████| 8/8 [00:08<00:00,  1.10s/type]\n"
     ]
    },
    {
     "name": "stdout",
     "output_type": "stream",
     "text": [
      "\u001b[32m2023-04-14 23:42:18.316\u001b[0m | \u001b[36mpseudopeople.interface\u001b[0m:\u001b[36m_generate_form\u001b[0m:\u001b[36m68\u001b[0m - \u001b[1mLoading data from /mnt/team/simulation_science/priv/engineering/vivarium_census_prl_synth_pop/results/v2.0_three_censuses/united_states_of_america/2023_04_08_14_07_04/final_results/parquet/usa/decennial_census_observer/decennial_census_observer_1483.parquet.\u001b[0m\n"
     ]
    },
    {
     "name": "stderr",
     "output_type": "stream",
     "text": [
      "Applying noise: 100%|███████████████████████████████████████████████████████████████████████████████| 8/8 [00:08<00:00,  1.09s/type]\n"
     ]
    },
    {
     "name": "stdout",
     "output_type": "stream",
     "text": [
      "\u001b[32m2023-04-14 23:42:34.120\u001b[0m | \u001b[36mpseudopeople.interface\u001b[0m:\u001b[36m_generate_form\u001b[0m:\u001b[36m68\u001b[0m - \u001b[1mLoading data from /mnt/team/simulation_science/priv/engineering/vivarium_census_prl_synth_pop/results/v2.0_three_censuses/united_states_of_america/2023_04_08_14_07_04/final_results/parquet/usa/decennial_census_observer/decennial_census_observer_1219.parquet.\u001b[0m\n"
     ]
    },
    {
     "name": "stderr",
     "output_type": "stream",
     "text": [
      "Applying noise: 100%|███████████████████████████████████████████████████████████████████████████████| 8/8 [00:08<00:00,  1.09s/type]\n"
     ]
    },
    {
     "name": "stdout",
     "output_type": "stream",
     "text": [
      "\u001b[32m2023-04-14 23:42:50.007\u001b[0m | \u001b[36mpseudopeople.interface\u001b[0m:\u001b[36m_generate_form\u001b[0m:\u001b[36m68\u001b[0m - \u001b[1mLoading data from /mnt/team/simulation_science/priv/engineering/vivarium_census_prl_synth_pop/results/v2.0_three_censuses/united_states_of_america/2023_04_08_14_07_04/final_results/parquet/usa/decennial_census_observer/decennial_census_observer_5901.parquet.\u001b[0m\n"
     ]
    },
    {
     "name": "stderr",
     "output_type": "stream",
     "text": [
      "Applying noise: 100%|███████████████████████████████████████████████████████████████████████████████| 8/8 [00:08<00:00,  1.08s/type]\n"
     ]
    },
    {
     "name": "stdout",
     "output_type": "stream",
     "text": [
      "\u001b[32m2023-04-14 23:43:05.812\u001b[0m | \u001b[36mpseudopeople.interface\u001b[0m:\u001b[36m_generate_form\u001b[0m:\u001b[36m68\u001b[0m - \u001b[1mLoading data from /mnt/team/simulation_science/priv/engineering/vivarium_census_prl_synth_pop/results/v2.0_three_censuses/united_states_of_america/2023_04_08_14_07_04/final_results/parquet/usa/decennial_census_observer/decennial_census_observer_9225.parquet.\u001b[0m\n"
     ]
    },
    {
     "name": "stderr",
     "output_type": "stream",
     "text": [
      "Applying noise: 100%|███████████████████████████████████████████████████████████████████████████████| 8/8 [00:08<00:00,  1.10s/type]\n"
     ]
    },
    {
     "name": "stdout",
     "output_type": "stream",
     "text": [
      "\u001b[32m2023-04-14 23:43:21.745\u001b[0m | \u001b[36mpseudopeople.interface\u001b[0m:\u001b[36m_generate_form\u001b[0m:\u001b[36m68\u001b[0m - \u001b[1mLoading data from /mnt/team/simulation_science/priv/engineering/vivarium_census_prl_synth_pop/results/v2.0_three_censuses/united_states_of_america/2023_04_08_14_07_04/final_results/parquet/usa/decennial_census_observer/decennial_census_observer_6817.parquet.\u001b[0m\n"
     ]
    },
    {
     "name": "stderr",
     "output_type": "stream",
     "text": [
      "Applying noise: 100%|███████████████████████████████████████████████████████████████████████████████| 8/8 [00:08<00:00,  1.09s/type]\n"
     ]
    },
    {
     "name": "stdout",
     "output_type": "stream",
     "text": [
      "\u001b[32m2023-04-14 23:43:37.480\u001b[0m | \u001b[36mpseudopeople.interface\u001b[0m:\u001b[36m_generate_form\u001b[0m:\u001b[36m68\u001b[0m - \u001b[1mLoading data from /mnt/team/simulation_science/priv/engineering/vivarium_census_prl_synth_pop/results/v2.0_three_censuses/united_states_of_america/2023_04_08_14_07_04/final_results/parquet/usa/decennial_census_observer/decennial_census_observer_2721.parquet.\u001b[0m\n"
     ]
    },
    {
     "name": "stderr",
     "output_type": "stream",
     "text": [
      "Applying noise: 100%|███████████████████████████████████████████████████████████████████████████████| 8/8 [00:08<00:00,  1.12s/type]\n"
     ]
    },
    {
     "name": "stdout",
     "output_type": "stream",
     "text": [
      "\u001b[32m2023-04-14 23:43:53.613\u001b[0m | \u001b[36mpseudopeople.interface\u001b[0m:\u001b[36m_generate_form\u001b[0m:\u001b[36m68\u001b[0m - \u001b[1mLoading data from /mnt/team/simulation_science/priv/engineering/vivarium_census_prl_synth_pop/results/v2.0_three_censuses/united_states_of_america/2023_04_08_14_07_04/final_results/parquet/usa/decennial_census_observer/decennial_census_observer_7384.parquet.\u001b[0m\n"
     ]
    },
    {
     "name": "stderr",
     "output_type": "stream",
     "text": [
      "Applying noise: 100%|███████████████████████████████████████████████████████████████████████████████| 8/8 [00:08<00:00,  1.09s/type]\n"
     ]
    },
    {
     "name": "stdout",
     "output_type": "stream",
     "text": [
      "\u001b[32m2023-04-14 23:44:09.434\u001b[0m | \u001b[36mpseudopeople.interface\u001b[0m:\u001b[36m_generate_form\u001b[0m:\u001b[36m68\u001b[0m - \u001b[1mLoading data from /mnt/team/simulation_science/priv/engineering/vivarium_census_prl_synth_pop/results/v2.0_three_censuses/united_states_of_america/2023_04_08_14_07_04/final_results/parquet/usa/decennial_census_observer/decennial_census_observer_4123.parquet.\u001b[0m\n"
     ]
    },
    {
     "name": "stderr",
     "output_type": "stream",
     "text": [
      "Applying noise: 100%|███████████████████████████████████████████████████████████████████████████████| 8/8 [00:08<00:00,  1.10s/type]\n"
     ]
    },
    {
     "name": "stdout",
     "output_type": "stream",
     "text": [
      "\u001b[32m2023-04-14 23:44:25.262\u001b[0m | \u001b[36mpseudopeople.interface\u001b[0m:\u001b[36m_generate_form\u001b[0m:\u001b[36m68\u001b[0m - \u001b[1mLoading data from /mnt/team/simulation_science/priv/engineering/vivarium_census_prl_synth_pop/results/v2.0_three_censuses/united_states_of_america/2023_04_08_14_07_04/final_results/parquet/usa/decennial_census_observer/decennial_census_observer_496.parquet.\u001b[0m\n"
     ]
    },
    {
     "name": "stderr",
     "output_type": "stream",
     "text": [
      "Applying noise: 100%|███████████████████████████████████████████████████████████████████████████████| 8/8 [00:08<00:00,  1.09s/type]\n"
     ]
    },
    {
     "name": "stdout",
     "output_type": "stream",
     "text": [
      "\u001b[32m2023-04-14 23:44:40.996\u001b[0m | \u001b[36mpseudopeople.interface\u001b[0m:\u001b[36m_generate_form\u001b[0m:\u001b[36m68\u001b[0m - \u001b[1mLoading data from /mnt/team/simulation_science/priv/engineering/vivarium_census_prl_synth_pop/results/v2.0_three_censuses/united_states_of_america/2023_04_08_14_07_04/final_results/parquet/usa/decennial_census_observer/decennial_census_observer_2298.parquet.\u001b[0m\n"
     ]
    },
    {
     "name": "stderr",
     "output_type": "stream",
     "text": [
      "Applying noise: 100%|███████████████████████████████████████████████████████████████████████████████| 8/8 [00:08<00:00,  1.10s/type]\n"
     ]
    },
    {
     "name": "stdout",
     "output_type": "stream",
     "text": [
      "\u001b[32m2023-04-14 23:44:56.941\u001b[0m | \u001b[36mpseudopeople.interface\u001b[0m:\u001b[36m_generate_form\u001b[0m:\u001b[36m68\u001b[0m - \u001b[1mLoading data from /mnt/team/simulation_science/priv/engineering/vivarium_census_prl_synth_pop/results/v2.0_three_censuses/united_states_of_america/2023_04_08_14_07_04/final_results/parquet/usa/decennial_census_observer/decennial_census_observer_9643.parquet.\u001b[0m\n"
     ]
    },
    {
     "name": "stderr",
     "output_type": "stream",
     "text": [
      "Applying noise: 100%|███████████████████████████████████████████████████████████████████████████████| 8/8 [00:08<00:00,  1.09s/type]\n"
     ]
    },
    {
     "name": "stdout",
     "output_type": "stream",
     "text": [
      "\u001b[32m2023-04-14 23:45:12.752\u001b[0m | \u001b[36mpseudopeople.interface\u001b[0m:\u001b[36m_generate_form\u001b[0m:\u001b[36m68\u001b[0m - \u001b[1mLoading data from /mnt/team/simulation_science/priv/engineering/vivarium_census_prl_synth_pop/results/v2.0_three_censuses/united_states_of_america/2023_04_08_14_07_04/final_results/parquet/usa/decennial_census_observer/decennial_census_observer_7107.parquet.\u001b[0m\n"
     ]
    },
    {
     "name": "stderr",
     "output_type": "stream",
     "text": [
      "Applying noise: 100%|███████████████████████████████████████████████████████████████████████████████| 8/8 [00:08<00:00,  1.10s/type]\n"
     ]
    },
    {
     "name": "stdout",
     "output_type": "stream",
     "text": [
      "\u001b[32m2023-04-14 23:45:28.712\u001b[0m | \u001b[36mpseudopeople.interface\u001b[0m:\u001b[36m_generate_form\u001b[0m:\u001b[36m68\u001b[0m - \u001b[1mLoading data from /mnt/team/simulation_science/priv/engineering/vivarium_census_prl_synth_pop/results/v2.0_three_censuses/united_states_of_america/2023_04_08_14_07_04/final_results/parquet/usa/decennial_census_observer/decennial_census_observer_9872.parquet.\u001b[0m\n"
     ]
    },
    {
     "name": "stderr",
     "output_type": "stream",
     "text": [
      "Applying noise: 100%|███████████████████████████████████████████████████████████████████████████████| 8/8 [00:08<00:00,  1.11s/type]\n"
     ]
    },
    {
     "name": "stdout",
     "output_type": "stream",
     "text": [
      "\u001b[32m2023-04-14 23:45:44.650\u001b[0m | \u001b[36mpseudopeople.interface\u001b[0m:\u001b[36m_generate_form\u001b[0m:\u001b[36m68\u001b[0m - \u001b[1mLoading data from /mnt/team/simulation_science/priv/engineering/vivarium_census_prl_synth_pop/results/v2.0_three_censuses/united_states_of_america/2023_04_08_14_07_04/final_results/parquet/usa/decennial_census_observer/decennial_census_observer_4950.parquet.\u001b[0m\n"
     ]
    },
    {
     "name": "stderr",
     "output_type": "stream",
     "text": [
      "Applying noise: 100%|███████████████████████████████████████████████████████████████████████████████| 8/8 [00:08<00:00,  1.11s/type]\n"
     ]
    },
    {
     "name": "stdout",
     "output_type": "stream",
     "text": [
      "\u001b[32m2023-04-14 23:46:00.620\u001b[0m | \u001b[36mpseudopeople.interface\u001b[0m:\u001b[36m_generate_form\u001b[0m:\u001b[36m68\u001b[0m - \u001b[1mLoading data from /mnt/team/simulation_science/priv/engineering/vivarium_census_prl_synth_pop/results/v2.0_three_censuses/united_states_of_america/2023_04_08_14_07_04/final_results/parquet/usa/decennial_census_observer/decennial_census_observer_8156.parquet.\u001b[0m\n"
     ]
    },
    {
     "name": "stderr",
     "output_type": "stream",
     "text": [
      "Applying noise: 100%|███████████████████████████████████████████████████████████████████████████████| 8/8 [00:08<00:00,  1.10s/type]\n"
     ]
    },
    {
     "name": "stdout",
     "output_type": "stream",
     "text": [
      "\u001b[32m2023-04-14 23:46:16.504\u001b[0m | \u001b[36mpseudopeople.interface\u001b[0m:\u001b[36m_generate_form\u001b[0m:\u001b[36m68\u001b[0m - \u001b[1mLoading data from /mnt/team/simulation_science/priv/engineering/vivarium_census_prl_synth_pop/results/v2.0_three_censuses/united_states_of_america/2023_04_08_14_07_04/final_results/parquet/usa/decennial_census_observer/decennial_census_observer_1299.parquet.\u001b[0m\n"
     ]
    },
    {
     "name": "stderr",
     "output_type": "stream",
     "text": [
      "Applying noise: 100%|███████████████████████████████████████████████████████████████████████████████| 8/8 [00:08<00:00,  1.09s/type]\n"
     ]
    },
    {
     "name": "stdout",
     "output_type": "stream",
     "text": [
      "\u001b[32m2023-04-14 23:46:32.254\u001b[0m | \u001b[36mpseudopeople.interface\u001b[0m:\u001b[36m_generate_form\u001b[0m:\u001b[36m68\u001b[0m - \u001b[1mLoading data from /mnt/team/simulation_science/priv/engineering/vivarium_census_prl_synth_pop/results/v2.0_three_censuses/united_states_of_america/2023_04_08_14_07_04/final_results/parquet/usa/decennial_census_observer/decennial_census_observer_4649.parquet.\u001b[0m\n"
     ]
    },
    {
     "name": "stderr",
     "output_type": "stream",
     "text": [
      "Applying noise: 100%|███████████████████████████████████████████████████████████████████████████████| 8/8 [00:08<00:00,  1.09s/type]\n"
     ]
    },
    {
     "name": "stdout",
     "output_type": "stream",
     "text": [
      "\u001b[32m2023-04-14 23:46:48.024\u001b[0m | \u001b[36mpseudopeople.interface\u001b[0m:\u001b[36m_generate_form\u001b[0m:\u001b[36m68\u001b[0m - \u001b[1mLoading data from /mnt/team/simulation_science/priv/engineering/vivarium_census_prl_synth_pop/results/v2.0_three_censuses/united_states_of_america/2023_04_08_14_07_04/final_results/parquet/usa/decennial_census_observer/decennial_census_observer_778.parquet.\u001b[0m\n"
     ]
    },
    {
     "name": "stderr",
     "output_type": "stream",
     "text": [
      "Applying noise: 100%|███████████████████████████████████████████████████████████████████████████████| 8/8 [00:08<00:00,  1.09s/type]\n"
     ]
    },
    {
     "name": "stdout",
     "output_type": "stream",
     "text": [
      "\u001b[32m2023-04-14 23:47:03.802\u001b[0m | \u001b[36mpseudopeople.interface\u001b[0m:\u001b[36m_generate_form\u001b[0m:\u001b[36m68\u001b[0m - \u001b[1mLoading data from /mnt/team/simulation_science/priv/engineering/vivarium_census_prl_synth_pop/results/v2.0_three_censuses/united_states_of_america/2023_04_08_14_07_04/final_results/parquet/usa/decennial_census_observer/decennial_census_observer_8305.parquet.\u001b[0m\n"
     ]
    },
    {
     "name": "stderr",
     "output_type": "stream",
     "text": [
      "Applying noise: 100%|███████████████████████████████████████████████████████████████████████████████| 8/8 [00:08<00:00,  1.09s/type]\n"
     ]
    },
    {
     "name": "stdout",
     "output_type": "stream",
     "text": [
      "\u001b[32m2023-04-14 23:47:19.646\u001b[0m | \u001b[36mpseudopeople.interface\u001b[0m:\u001b[36m_generate_form\u001b[0m:\u001b[36m68\u001b[0m - \u001b[1mLoading data from /mnt/team/simulation_science/priv/engineering/vivarium_census_prl_synth_pop/results/v2.0_three_censuses/united_states_of_america/2023_04_08_14_07_04/final_results/parquet/usa/decennial_census_observer/decennial_census_observer_3202.parquet.\u001b[0m\n"
     ]
    },
    {
     "name": "stderr",
     "output_type": "stream",
     "text": [
      "Applying noise: 100%|███████████████████████████████████████████████████████████████████████████████| 8/8 [00:08<00:00,  1.10s/type]\n"
     ]
    },
    {
     "name": "stdout",
     "output_type": "stream",
     "text": [
      "\u001b[32m2023-04-14 23:47:35.620\u001b[0m | \u001b[36mpseudopeople.interface\u001b[0m:\u001b[36m_generate_form\u001b[0m:\u001b[36m68\u001b[0m - \u001b[1mLoading data from /mnt/team/simulation_science/priv/engineering/vivarium_census_prl_synth_pop/results/v2.0_three_censuses/united_states_of_america/2023_04_08_14_07_04/final_results/parquet/usa/decennial_census_observer/decennial_census_observer_1667.parquet.\u001b[0m\n"
     ]
    },
    {
     "name": "stderr",
     "output_type": "stream",
     "text": [
      "Applying noise: 100%|███████████████████████████████████████████████████████████████████████████████| 8/8 [00:08<00:00,  1.10s/type]\n"
     ]
    },
    {
     "name": "stdout",
     "output_type": "stream",
     "text": [
      "\u001b[32m2023-04-14 23:47:51.472\u001b[0m | \u001b[36mpseudopeople.interface\u001b[0m:\u001b[36m_generate_form\u001b[0m:\u001b[36m68\u001b[0m - \u001b[1mLoading data from /mnt/team/simulation_science/priv/engineering/vivarium_census_prl_synth_pop/results/v2.0_three_censuses/united_states_of_america/2023_04_08_14_07_04/final_results/parquet/usa/decennial_census_observer/decennial_census_observer_8612.parquet.\u001b[0m\n"
     ]
    },
    {
     "name": "stderr",
     "output_type": "stream",
     "text": [
      "Applying noise: 100%|███████████████████████████████████████████████████████████████████████████████| 8/8 [00:08<00:00,  1.09s/type]\n"
     ]
    },
    {
     "name": "stdout",
     "output_type": "stream",
     "text": [
      "\u001b[32m2023-04-14 23:48:07.329\u001b[0m | \u001b[36mpseudopeople.interface\u001b[0m:\u001b[36m_generate_form\u001b[0m:\u001b[36m68\u001b[0m - \u001b[1mLoading data from /mnt/team/simulation_science/priv/engineering/vivarium_census_prl_synth_pop/results/v2.0_three_censuses/united_states_of_america/2023_04_08_14_07_04/final_results/parquet/usa/decennial_census_observer/decennial_census_observer_4904.parquet.\u001b[0m\n"
     ]
    },
    {
     "name": "stderr",
     "output_type": "stream",
     "text": [
      "Applying noise: 100%|███████████████████████████████████████████████████████████████████████████████| 8/8 [00:08<00:00,  1.10s/type]\n"
     ]
    },
    {
     "name": "stdout",
     "output_type": "stream",
     "text": [
      "\u001b[32m2023-04-14 23:48:23.343\u001b[0m | \u001b[36mpseudopeople.interface\u001b[0m:\u001b[36m_generate_form\u001b[0m:\u001b[36m68\u001b[0m - \u001b[1mLoading data from /mnt/team/simulation_science/priv/engineering/vivarium_census_prl_synth_pop/results/v2.0_three_censuses/united_states_of_america/2023_04_08_14_07_04/final_results/parquet/usa/decennial_census_observer/decennial_census_observer_3225.parquet.\u001b[0m\n"
     ]
    },
    {
     "name": "stderr",
     "output_type": "stream",
     "text": [
      "Applying noise: 100%|███████████████████████████████████████████████████████████████████████████████| 8/8 [00:08<00:00,  1.09s/type]\n"
     ]
    },
    {
     "name": "stdout",
     "output_type": "stream",
     "text": [
      "\u001b[32m2023-04-14 23:48:39.134\u001b[0m | \u001b[36mpseudopeople.interface\u001b[0m:\u001b[36m_generate_form\u001b[0m:\u001b[36m68\u001b[0m - \u001b[1mLoading data from /mnt/team/simulation_science/priv/engineering/vivarium_census_prl_synth_pop/results/v2.0_three_censuses/united_states_of_america/2023_04_08_14_07_04/final_results/parquet/usa/decennial_census_observer/decennial_census_observer_5159.parquet.\u001b[0m\n"
     ]
    },
    {
     "name": "stderr",
     "output_type": "stream",
     "text": [
      "Applying noise: 100%|███████████████████████████████████████████████████████████████████████████████| 8/8 [00:08<00:00,  1.09s/type]\n"
     ]
    },
    {
     "name": "stdout",
     "output_type": "stream",
     "text": [
      "\u001b[32m2023-04-14 23:48:54.960\u001b[0m | \u001b[36mpseudopeople.interface\u001b[0m:\u001b[36m_generate_form\u001b[0m:\u001b[36m68\u001b[0m - \u001b[1mLoading data from /mnt/team/simulation_science/priv/engineering/vivarium_census_prl_synth_pop/results/v2.0_three_censuses/united_states_of_america/2023_04_08_14_07_04/final_results/parquet/usa/decennial_census_observer/decennial_census_observer_2689.parquet.\u001b[0m\n"
     ]
    },
    {
     "name": "stderr",
     "output_type": "stream",
     "text": [
      "Applying noise: 100%|███████████████████████████████████████████████████████████████████████████████| 8/8 [00:08<00:00,  1.09s/type]\n"
     ]
    },
    {
     "name": "stdout",
     "output_type": "stream",
     "text": [
      "\u001b[32m2023-04-14 23:49:10.757\u001b[0m | \u001b[36mpseudopeople.interface\u001b[0m:\u001b[36m_generate_form\u001b[0m:\u001b[36m68\u001b[0m - \u001b[1mLoading data from /mnt/team/simulation_science/priv/engineering/vivarium_census_prl_synth_pop/results/v2.0_three_censuses/united_states_of_america/2023_04_08_14_07_04/final_results/parquet/usa/decennial_census_observer/decennial_census_observer_9859.parquet.\u001b[0m\n"
     ]
    },
    {
     "name": "stderr",
     "output_type": "stream",
     "text": [
      "Applying noise: 100%|███████████████████████████████████████████████████████████████████████████████| 8/8 [00:08<00:00,  1.12s/type]\n"
     ]
    },
    {
     "name": "stdout",
     "output_type": "stream",
     "text": [
      "\u001b[32m2023-04-14 23:49:26.869\u001b[0m | \u001b[36mpseudopeople.interface\u001b[0m:\u001b[36m_generate_form\u001b[0m:\u001b[36m68\u001b[0m - \u001b[1mLoading data from /mnt/team/simulation_science/priv/engineering/vivarium_census_prl_synth_pop/results/v2.0_three_censuses/united_states_of_america/2023_04_08_14_07_04/final_results/parquet/usa/decennial_census_observer/decennial_census_observer_8129.parquet.\u001b[0m\n"
     ]
    },
    {
     "name": "stderr",
     "output_type": "stream",
     "text": [
      "Applying noise: 100%|███████████████████████████████████████████████████████████████████████████████| 8/8 [00:08<00:00,  1.10s/type]\n"
     ]
    },
    {
     "name": "stdout",
     "output_type": "stream",
     "text": [
      "\u001b[32m2023-04-14 23:49:42.778\u001b[0m | \u001b[36mpseudopeople.interface\u001b[0m:\u001b[36m_generate_form\u001b[0m:\u001b[36m68\u001b[0m - \u001b[1mLoading data from /mnt/team/simulation_science/priv/engineering/vivarium_census_prl_synth_pop/results/v2.0_three_censuses/united_states_of_america/2023_04_08_14_07_04/final_results/parquet/usa/decennial_census_observer/decennial_census_observer_9284.parquet.\u001b[0m\n"
     ]
    },
    {
     "name": "stderr",
     "output_type": "stream",
     "text": [
      "Applying noise: 100%|███████████████████████████████████████████████████████████████████████████████| 8/8 [00:08<00:00,  1.09s/type]\n"
     ]
    },
    {
     "name": "stdout",
     "output_type": "stream",
     "text": [
      "\u001b[32m2023-04-14 23:49:58.687\u001b[0m | \u001b[36mpseudopeople.interface\u001b[0m:\u001b[36m_generate_form\u001b[0m:\u001b[36m68\u001b[0m - \u001b[1mLoading data from /mnt/team/simulation_science/priv/engineering/vivarium_census_prl_synth_pop/results/v2.0_three_censuses/united_states_of_america/2023_04_08_14_07_04/final_results/parquet/usa/decennial_census_observer/decennial_census_observer_3528.parquet.\u001b[0m\n"
     ]
    },
    {
     "name": "stderr",
     "output_type": "stream",
     "text": [
      "Applying noise: 100%|███████████████████████████████████████████████████████████████████████████████| 8/8 [00:08<00:00,  1.09s/type]\n"
     ]
    },
    {
     "name": "stdout",
     "output_type": "stream",
     "text": [
      "\u001b[32m2023-04-14 23:50:14.555\u001b[0m | \u001b[36mpseudopeople.interface\u001b[0m:\u001b[36m_generate_form\u001b[0m:\u001b[36m68\u001b[0m - \u001b[1mLoading data from /mnt/team/simulation_science/priv/engineering/vivarium_census_prl_synth_pop/results/v2.0_three_censuses/united_states_of_america/2023_04_08_14_07_04/final_results/parquet/usa/decennial_census_observer/decennial_census_observer_5398.parquet.\u001b[0m\n"
     ]
    },
    {
     "name": "stderr",
     "output_type": "stream",
     "text": [
      "Applying noise: 100%|███████████████████████████████████████████████████████████████████████████████| 8/8 [00:08<00:00,  1.11s/type]\n"
     ]
    },
    {
     "name": "stdout",
     "output_type": "stream",
     "text": [
      "\u001b[32m2023-04-14 23:50:30.645\u001b[0m | \u001b[36mpseudopeople.interface\u001b[0m:\u001b[36m_generate_form\u001b[0m:\u001b[36m68\u001b[0m - \u001b[1mLoading data from /mnt/team/simulation_science/priv/engineering/vivarium_census_prl_synth_pop/results/v2.0_three_censuses/united_states_of_america/2023_04_08_14_07_04/final_results/parquet/usa/decennial_census_observer/decennial_census_observer_682.parquet.\u001b[0m\n"
     ]
    },
    {
     "name": "stderr",
     "output_type": "stream",
     "text": [
      "Applying noise: 100%|███████████████████████████████████████████████████████████████████████████████| 8/8 [00:08<00:00,  1.08s/type]\n"
     ]
    },
    {
     "name": "stdout",
     "output_type": "stream",
     "text": [
      "\u001b[32m2023-04-14 23:50:46.396\u001b[0m | \u001b[36mpseudopeople.interface\u001b[0m:\u001b[36m_generate_form\u001b[0m:\u001b[36m68\u001b[0m - \u001b[1mLoading data from /mnt/team/simulation_science/priv/engineering/vivarium_census_prl_synth_pop/results/v2.0_three_censuses/united_states_of_america/2023_04_08_14_07_04/final_results/parquet/usa/decennial_census_observer/decennial_census_observer_3994.parquet.\u001b[0m\n"
     ]
    },
    {
     "name": "stderr",
     "output_type": "stream",
     "text": [
      "Applying noise: 100%|███████████████████████████████████████████████████████████████████████████████| 8/8 [00:08<00:00,  1.10s/type]\n"
     ]
    },
    {
     "name": "stdout",
     "output_type": "stream",
     "text": [
      "\u001b[32m2023-04-14 23:51:02.341\u001b[0m | \u001b[36mpseudopeople.interface\u001b[0m:\u001b[36m_generate_form\u001b[0m:\u001b[36m68\u001b[0m - \u001b[1mLoading data from /mnt/team/simulation_science/priv/engineering/vivarium_census_prl_synth_pop/results/v2.0_three_censuses/united_states_of_america/2023_04_08_14_07_04/final_results/parquet/usa/decennial_census_observer/decennial_census_observer_1182.parquet.\u001b[0m\n"
     ]
    },
    {
     "name": "stderr",
     "output_type": "stream",
     "text": [
      "Applying noise: 100%|███████████████████████████████████████████████████████████████████████████████| 8/8 [00:08<00:00,  1.09s/type]\n"
     ]
    },
    {
     "name": "stdout",
     "output_type": "stream",
     "text": [
      "\u001b[32m2023-04-14 23:51:18.251\u001b[0m | \u001b[36mpseudopeople.interface\u001b[0m:\u001b[36m_generate_form\u001b[0m:\u001b[36m68\u001b[0m - \u001b[1mLoading data from /mnt/team/simulation_science/priv/engineering/vivarium_census_prl_synth_pop/results/v2.0_three_censuses/united_states_of_america/2023_04_08_14_07_04/final_results/parquet/usa/decennial_census_observer/decennial_census_observer_6982.parquet.\u001b[0m\n"
     ]
    },
    {
     "name": "stderr",
     "output_type": "stream",
     "text": [
      "Applying noise: 100%|███████████████████████████████████████████████████████████████████████████████| 8/8 [00:08<00:00,  1.11s/type]\n"
     ]
    },
    {
     "name": "stdout",
     "output_type": "stream",
     "text": [
      "\u001b[32m2023-04-14 23:51:34.273\u001b[0m | \u001b[36mpseudopeople.interface\u001b[0m:\u001b[36m_generate_form\u001b[0m:\u001b[36m68\u001b[0m - \u001b[1mLoading data from /mnt/team/simulation_science/priv/engineering/vivarium_census_prl_synth_pop/results/v2.0_three_censuses/united_states_of_america/2023_04_08_14_07_04/final_results/parquet/usa/decennial_census_observer/decennial_census_observer_3568.parquet.\u001b[0m\n"
     ]
    },
    {
     "name": "stderr",
     "output_type": "stream",
     "text": [
      "Applying noise: 100%|███████████████████████████████████████████████████████████████████████████████| 8/8 [00:08<00:00,  1.10s/type]\n"
     ]
    },
    {
     "name": "stdout",
     "output_type": "stream",
     "text": [
      "\u001b[32m2023-04-14 23:51:50.130\u001b[0m | \u001b[36mpseudopeople.interface\u001b[0m:\u001b[36m_generate_form\u001b[0m:\u001b[36m68\u001b[0m - \u001b[1mLoading data from /mnt/team/simulation_science/priv/engineering/vivarium_census_prl_synth_pop/results/v2.0_three_censuses/united_states_of_america/2023_04_08_14_07_04/final_results/parquet/usa/decennial_census_observer/decennial_census_observer_1232.parquet.\u001b[0m\n"
     ]
    },
    {
     "name": "stderr",
     "output_type": "stream",
     "text": [
      "Applying noise: 100%|███████████████████████████████████████████████████████████████████████████████| 8/8 [00:08<00:00,  1.10s/type]\n"
     ]
    },
    {
     "name": "stdout",
     "output_type": "stream",
     "text": [
      "\u001b[32m2023-04-14 23:52:05.986\u001b[0m | \u001b[36mpseudopeople.interface\u001b[0m:\u001b[36m_generate_form\u001b[0m:\u001b[36m68\u001b[0m - \u001b[1mLoading data from /mnt/team/simulation_science/priv/engineering/vivarium_census_prl_synth_pop/results/v2.0_three_censuses/united_states_of_america/2023_04_08_14_07_04/final_results/parquet/usa/decennial_census_observer/decennial_census_observer_6778.parquet.\u001b[0m\n"
     ]
    },
    {
     "name": "stderr",
     "output_type": "stream",
     "text": [
      "Applying noise: 100%|███████████████████████████████████████████████████████████████████████████████| 8/8 [00:08<00:00,  1.11s/type]\n"
     ]
    },
    {
     "name": "stdout",
     "output_type": "stream",
     "text": [
      "\u001b[32m2023-04-14 23:52:21.993\u001b[0m | \u001b[36mpseudopeople.interface\u001b[0m:\u001b[36m_generate_form\u001b[0m:\u001b[36m68\u001b[0m - \u001b[1mLoading data from /mnt/team/simulation_science/priv/engineering/vivarium_census_prl_synth_pop/results/v2.0_three_censuses/united_states_of_america/2023_04_08_14_07_04/final_results/parquet/usa/decennial_census_observer/decennial_census_observer_2599.parquet.\u001b[0m\n"
     ]
    },
    {
     "name": "stderr",
     "output_type": "stream",
     "text": [
      "Applying noise: 100%|███████████████████████████████████████████████████████████████████████████████| 8/8 [00:08<00:00,  1.11s/type]\n"
     ]
    },
    {
     "name": "stdout",
     "output_type": "stream",
     "text": [
      "\u001b[32m2023-04-14 23:52:37.948\u001b[0m | \u001b[36mpseudopeople.interface\u001b[0m:\u001b[36m_generate_form\u001b[0m:\u001b[36m68\u001b[0m - \u001b[1mLoading data from /mnt/team/simulation_science/priv/engineering/vivarium_census_prl_synth_pop/results/v2.0_three_censuses/united_states_of_america/2023_04_08_14_07_04/final_results/parquet/usa/decennial_census_observer/decennial_census_observer_6539.parquet.\u001b[0m\n"
     ]
    },
    {
     "name": "stderr",
     "output_type": "stream",
     "text": [
      "Applying noise: 100%|███████████████████████████████████████████████████████████████████████████████| 8/8 [00:08<00:00,  1.09s/type]\n"
     ]
    },
    {
     "name": "stdout",
     "output_type": "stream",
     "text": [
      "\u001b[32m2023-04-14 23:52:53.916\u001b[0m | \u001b[36mpseudopeople.interface\u001b[0m:\u001b[36m_generate_form\u001b[0m:\u001b[36m68\u001b[0m - \u001b[1mLoading data from /mnt/team/simulation_science/priv/engineering/vivarium_census_prl_synth_pop/results/v2.0_three_censuses/united_states_of_america/2023_04_08_14_07_04/final_results/parquet/usa/decennial_census_observer/decennial_census_observer_323.parquet.\u001b[0m\n"
     ]
    },
    {
     "name": "stderr",
     "output_type": "stream",
     "text": [
      "Applying noise: 100%|███████████████████████████████████████████████████████████████████████████████| 8/8 [00:08<00:00,  1.11s/type]\n"
     ]
    },
    {
     "name": "stdout",
     "output_type": "stream",
     "text": [
      "\u001b[32m2023-04-14 23:53:09.896\u001b[0m | \u001b[36mpseudopeople.interface\u001b[0m:\u001b[36m_generate_form\u001b[0m:\u001b[36m68\u001b[0m - \u001b[1mLoading data from /mnt/team/simulation_science/priv/engineering/vivarium_census_prl_synth_pop/results/v2.0_three_censuses/united_states_of_america/2023_04_08_14_07_04/final_results/parquet/usa/decennial_census_observer/decennial_census_observer_465.parquet.\u001b[0m\n"
     ]
    },
    {
     "name": "stderr",
     "output_type": "stream",
     "text": [
      "Applying noise: 100%|███████████████████████████████████████████████████████████████████████████████| 8/8 [00:08<00:00,  1.10s/type]\n"
     ]
    },
    {
     "name": "stdout",
     "output_type": "stream",
     "text": [
      "\u001b[32m2023-04-14 23:53:25.789\u001b[0m | \u001b[36mpseudopeople.interface\u001b[0m:\u001b[36m_generate_form\u001b[0m:\u001b[36m68\u001b[0m - \u001b[1mLoading data from /mnt/team/simulation_science/priv/engineering/vivarium_census_prl_synth_pop/results/v2.0_three_censuses/united_states_of_america/2023_04_08_14_07_04/final_results/parquet/usa/decennial_census_observer/decennial_census_observer_3254.parquet.\u001b[0m\n"
     ]
    },
    {
     "name": "stderr",
     "output_type": "stream",
     "text": [
      "Applying noise: 100%|███████████████████████████████████████████████████████████████████████████████| 8/8 [00:09<00:00,  1.13s/type]\n"
     ]
    },
    {
     "name": "stdout",
     "output_type": "stream",
     "text": [
      "\u001b[32m2023-04-14 23:53:42.017\u001b[0m | \u001b[36mpseudopeople.interface\u001b[0m:\u001b[36m_generate_form\u001b[0m:\u001b[36m68\u001b[0m - \u001b[1mLoading data from /mnt/team/simulation_science/priv/engineering/vivarium_census_prl_synth_pop/results/v2.0_three_censuses/united_states_of_america/2023_04_08_14_07_04/final_results/parquet/usa/decennial_census_observer/decennial_census_observer_5619.parquet.\u001b[0m\n"
     ]
    },
    {
     "name": "stderr",
     "output_type": "stream",
     "text": [
      "Applying noise: 100%|███████████████████████████████████████████████████████████████████████████████| 8/8 [00:08<00:00,  1.10s/type]\n"
     ]
    },
    {
     "name": "stdout",
     "output_type": "stream",
     "text": [
      "\u001b[32m2023-04-14 23:53:57.952\u001b[0m | \u001b[36mpseudopeople.interface\u001b[0m:\u001b[36m_generate_form\u001b[0m:\u001b[36m68\u001b[0m - \u001b[1mLoading data from /mnt/team/simulation_science/priv/engineering/vivarium_census_prl_synth_pop/results/v2.0_three_censuses/united_states_of_america/2023_04_08_14_07_04/final_results/parquet/usa/decennial_census_observer/decennial_census_observer_9740.parquet.\u001b[0m\n"
     ]
    },
    {
     "name": "stderr",
     "output_type": "stream",
     "text": [
      "Applying noise: 100%|███████████████████████████████████████████████████████████████████████████████| 8/8 [00:08<00:00,  1.09s/type]\n"
     ]
    },
    {
     "name": "stdout",
     "output_type": "stream",
     "text": [
      "\u001b[32m2023-04-14 23:54:13.865\u001b[0m | \u001b[36mpseudopeople.interface\u001b[0m:\u001b[36m_generate_form\u001b[0m:\u001b[36m68\u001b[0m - \u001b[1mLoading data from /mnt/team/simulation_science/priv/engineering/vivarium_census_prl_synth_pop/results/v2.0_three_censuses/united_states_of_america/2023_04_08_14_07_04/final_results/parquet/usa/decennial_census_observer/decennial_census_observer_9840.parquet.\u001b[0m\n"
     ]
    },
    {
     "name": "stderr",
     "output_type": "stream",
     "text": [
      "Applying noise: 100%|███████████████████████████████████████████████████████████████████████████████| 8/8 [00:08<00:00,  1.09s/type]\n"
     ]
    },
    {
     "name": "stdout",
     "output_type": "stream",
     "text": [
      "\u001b[32m2023-04-14 23:54:29.750\u001b[0m | \u001b[36mpseudopeople.interface\u001b[0m:\u001b[36m_generate_form\u001b[0m:\u001b[36m68\u001b[0m - \u001b[1mLoading data from /mnt/team/simulation_science/priv/engineering/vivarium_census_prl_synth_pop/results/v2.0_three_censuses/united_states_of_america/2023_04_08_14_07_04/final_results/parquet/usa/decennial_census_observer/decennial_census_observer_1154.parquet.\u001b[0m\n"
     ]
    },
    {
     "name": "stderr",
     "output_type": "stream",
     "text": [
      "Applying noise: 100%|███████████████████████████████████████████████████████████████████████████████| 8/8 [00:08<00:00,  1.11s/type]\n"
     ]
    },
    {
     "name": "stdout",
     "output_type": "stream",
     "text": [
      "\u001b[32m2023-04-14 23:54:45.816\u001b[0m | \u001b[36mpseudopeople.interface\u001b[0m:\u001b[36m_generate_form\u001b[0m:\u001b[36m68\u001b[0m - \u001b[1mLoading data from /mnt/team/simulation_science/priv/engineering/vivarium_census_prl_synth_pop/results/v2.0_three_censuses/united_states_of_america/2023_04_08_14_07_04/final_results/parquet/usa/decennial_census_observer/decennial_census_observer_3624.parquet.\u001b[0m\n"
     ]
    },
    {
     "name": "stderr",
     "output_type": "stream",
     "text": [
      "Applying noise: 100%|███████████████████████████████████████████████████████████████████████████████| 8/8 [00:08<00:00,  1.10s/type]\n"
     ]
    },
    {
     "name": "stdout",
     "output_type": "stream",
     "text": [
      "\u001b[32m2023-04-14 23:55:01.708\u001b[0m | \u001b[36mpseudopeople.interface\u001b[0m:\u001b[36m_generate_form\u001b[0m:\u001b[36m68\u001b[0m - \u001b[1mLoading data from /mnt/team/simulation_science/priv/engineering/vivarium_census_prl_synth_pop/results/v2.0_three_censuses/united_states_of_america/2023_04_08_14_07_04/final_results/parquet/usa/decennial_census_observer/decennial_census_observer_3066.parquet.\u001b[0m\n"
     ]
    },
    {
     "name": "stderr",
     "output_type": "stream",
     "text": [
      "Applying noise: 100%|███████████████████████████████████████████████████████████████████████████████| 8/8 [00:08<00:00,  1.09s/type]\n"
     ]
    },
    {
     "name": "stdout",
     "output_type": "stream",
     "text": [
      "\u001b[32m2023-04-14 23:55:17.593\u001b[0m | \u001b[36mpseudopeople.interface\u001b[0m:\u001b[36m_generate_form\u001b[0m:\u001b[36m68\u001b[0m - \u001b[1mLoading data from /mnt/team/simulation_science/priv/engineering/vivarium_census_prl_synth_pop/results/v2.0_three_censuses/united_states_of_america/2023_04_08_14_07_04/final_results/parquet/usa/decennial_census_observer/decennial_census_observer_3454.parquet.\u001b[0m\n"
     ]
    },
    {
     "name": "stderr",
     "output_type": "stream",
     "text": [
      "Applying noise: 100%|███████████████████████████████████████████████████████████████████████████████| 8/8 [00:08<00:00,  1.10s/type]\n"
     ]
    },
    {
     "name": "stdout",
     "output_type": "stream",
     "text": [
      "\u001b[32m2023-04-14 23:55:33.435\u001b[0m | \u001b[36mpseudopeople.interface\u001b[0m:\u001b[36m_generate_form\u001b[0m:\u001b[36m68\u001b[0m - \u001b[1mLoading data from /mnt/team/simulation_science/priv/engineering/vivarium_census_prl_synth_pop/results/v2.0_three_censuses/united_states_of_america/2023_04_08_14_07_04/final_results/parquet/usa/decennial_census_observer/decennial_census_observer_5950.parquet.\u001b[0m\n"
     ]
    },
    {
     "name": "stderr",
     "output_type": "stream",
     "text": [
      "Applying noise: 100%|███████████████████████████████████████████████████████████████████████████████| 8/8 [00:08<00:00,  1.10s/type]\n"
     ]
    },
    {
     "name": "stdout",
     "output_type": "stream",
     "text": [
      "\u001b[32m2023-04-14 23:55:49.394\u001b[0m | \u001b[36mpseudopeople.interface\u001b[0m:\u001b[36m_generate_form\u001b[0m:\u001b[36m68\u001b[0m - \u001b[1mLoading data from /mnt/team/simulation_science/priv/engineering/vivarium_census_prl_synth_pop/results/v2.0_three_censuses/united_states_of_america/2023_04_08_14_07_04/final_results/parquet/usa/decennial_census_observer/decennial_census_observer_9901.parquet.\u001b[0m\n"
     ]
    },
    {
     "name": "stderr",
     "output_type": "stream",
     "text": [
      "Applying noise: 100%|███████████████████████████████████████████████████████████████████████████████| 8/8 [00:08<00:00,  1.11s/type]\n"
     ]
    },
    {
     "name": "stdout",
     "output_type": "stream",
     "text": [
      "\u001b[32m2023-04-14 23:56:05.421\u001b[0m | \u001b[36mpseudopeople.interface\u001b[0m:\u001b[36m_generate_form\u001b[0m:\u001b[36m68\u001b[0m - \u001b[1mLoading data from /mnt/team/simulation_science/priv/engineering/vivarium_census_prl_synth_pop/results/v2.0_three_censuses/united_states_of_america/2023_04_08_14_07_04/final_results/parquet/usa/decennial_census_observer/decennial_census_observer_9804.parquet.\u001b[0m\n"
     ]
    },
    {
     "name": "stderr",
     "output_type": "stream",
     "text": [
      "Applying noise: 100%|███████████████████████████████████████████████████████████████████████████████| 8/8 [00:08<00:00,  1.09s/type]\n"
     ]
    },
    {
     "name": "stdout",
     "output_type": "stream",
     "text": [
      "\u001b[32m2023-04-14 23:56:21.257\u001b[0m | \u001b[36mpseudopeople.interface\u001b[0m:\u001b[36m_generate_form\u001b[0m:\u001b[36m68\u001b[0m - \u001b[1mLoading data from /mnt/team/simulation_science/priv/engineering/vivarium_census_prl_synth_pop/results/v2.0_three_censuses/united_states_of_america/2023_04_08_14_07_04/final_results/parquet/usa/decennial_census_observer/decennial_census_observer_1356.parquet.\u001b[0m\n"
     ]
    },
    {
     "name": "stderr",
     "output_type": "stream",
     "text": [
      "Applying noise: 100%|███████████████████████████████████████████████████████████████████████████████| 8/8 [00:08<00:00,  1.09s/type]\n"
     ]
    },
    {
     "name": "stdout",
     "output_type": "stream",
     "text": [
      "\u001b[32m2023-04-14 23:56:37.062\u001b[0m | \u001b[36mpseudopeople.interface\u001b[0m:\u001b[36m_generate_form\u001b[0m:\u001b[36m68\u001b[0m - \u001b[1mLoading data from /mnt/team/simulation_science/priv/engineering/vivarium_census_prl_synth_pop/results/v2.0_three_censuses/united_states_of_america/2023_04_08_14_07_04/final_results/parquet/usa/decennial_census_observer/decennial_census_observer_6554.parquet.\u001b[0m\n"
     ]
    },
    {
     "name": "stderr",
     "output_type": "stream",
     "text": [
      "Applying noise: 100%|███████████████████████████████████████████████████████████████████████████████| 8/8 [00:08<00:00,  1.10s/type]\n"
     ]
    },
    {
     "name": "stdout",
     "output_type": "stream",
     "text": [
      "\u001b[32m2023-04-14 23:56:53.034\u001b[0m | \u001b[36mpseudopeople.interface\u001b[0m:\u001b[36m_generate_form\u001b[0m:\u001b[36m68\u001b[0m - \u001b[1mLoading data from /mnt/team/simulation_science/priv/engineering/vivarium_census_prl_synth_pop/results/v2.0_three_censuses/united_states_of_america/2023_04_08_14_07_04/final_results/parquet/usa/decennial_census_observer/decennial_census_observer_3825.parquet.\u001b[0m\n"
     ]
    },
    {
     "name": "stderr",
     "output_type": "stream",
     "text": [
      "Applying noise: 100%|███████████████████████████████████████████████████████████████████████████████| 8/8 [00:08<00:00,  1.10s/type]\n"
     ]
    },
    {
     "name": "stdout",
     "output_type": "stream",
     "text": [
      "\u001b[32m2023-04-14 23:57:09.066\u001b[0m | \u001b[36mpseudopeople.interface\u001b[0m:\u001b[36m_generate_form\u001b[0m:\u001b[36m68\u001b[0m - \u001b[1mLoading data from /mnt/team/simulation_science/priv/engineering/vivarium_census_prl_synth_pop/results/v2.0_three_censuses/united_states_of_america/2023_04_08_14_07_04/final_results/parquet/usa/decennial_census_observer/decennial_census_observer_8869.parquet.\u001b[0m\n"
     ]
    },
    {
     "name": "stderr",
     "output_type": "stream",
     "text": [
      "Applying noise: 100%|███████████████████████████████████████████████████████████████████████████████| 8/8 [00:08<00:00,  1.09s/type]\n"
     ]
    },
    {
     "name": "stdout",
     "output_type": "stream",
     "text": [
      "\u001b[32m2023-04-14 23:57:25.276\u001b[0m | \u001b[36mpseudopeople.interface\u001b[0m:\u001b[36m_generate_form\u001b[0m:\u001b[36m68\u001b[0m - \u001b[1mLoading data from /mnt/team/simulation_science/priv/engineering/vivarium_census_prl_synth_pop/results/v2.0_three_censuses/united_states_of_america/2023_04_08_14_07_04/final_results/parquet/usa/decennial_census_observer/decennial_census_observer_2461.parquet.\u001b[0m\n"
     ]
    },
    {
     "name": "stderr",
     "output_type": "stream",
     "text": [
      "Applying noise: 100%|███████████████████████████████████████████████████████████████████████████████| 8/8 [00:08<00:00,  1.10s/type]\n"
     ]
    },
    {
     "name": "stdout",
     "output_type": "stream",
     "text": [
      "\u001b[32m2023-04-14 23:57:41.323\u001b[0m | \u001b[36mpseudopeople.interface\u001b[0m:\u001b[36m_generate_form\u001b[0m:\u001b[36m68\u001b[0m - \u001b[1mLoading data from /mnt/team/simulation_science/priv/engineering/vivarium_census_prl_synth_pop/results/v2.0_three_censuses/united_states_of_america/2023_04_08_14_07_04/final_results/parquet/usa/decennial_census_observer/decennial_census_observer_4637.parquet.\u001b[0m\n"
     ]
    },
    {
     "name": "stderr",
     "output_type": "stream",
     "text": [
      "Applying noise: 100%|███████████████████████████████████████████████████████████████████████████████| 8/8 [00:08<00:00,  1.10s/type]\n"
     ]
    },
    {
     "name": "stdout",
     "output_type": "stream",
     "text": [
      "\u001b[32m2023-04-14 23:57:57.396\u001b[0m | \u001b[36mpseudopeople.interface\u001b[0m:\u001b[36m_generate_form\u001b[0m:\u001b[36m68\u001b[0m - \u001b[1mLoading data from /mnt/team/simulation_science/priv/engineering/vivarium_census_prl_synth_pop/results/v2.0_three_censuses/united_states_of_america/2023_04_08_14_07_04/final_results/parquet/usa/decennial_census_observer/decennial_census_observer_3684.parquet.\u001b[0m\n"
     ]
    },
    {
     "name": "stderr",
     "output_type": "stream",
     "text": [
      "Applying noise: 100%|███████████████████████████████████████████████████████████████████████████████| 8/8 [00:08<00:00,  1.10s/type]\n"
     ]
    },
    {
     "name": "stdout",
     "output_type": "stream",
     "text": [
      "\u001b[32m2023-04-14 23:58:13.327\u001b[0m | \u001b[36mpseudopeople.interface\u001b[0m:\u001b[36m_generate_form\u001b[0m:\u001b[36m68\u001b[0m - \u001b[1mLoading data from /mnt/team/simulation_science/priv/engineering/vivarium_census_prl_synth_pop/results/v2.0_three_censuses/united_states_of_america/2023_04_08_14_07_04/final_results/parquet/usa/decennial_census_observer/decennial_census_observer_5439.parquet.\u001b[0m\n"
     ]
    },
    {
     "name": "stderr",
     "output_type": "stream",
     "text": [
      "Applying noise: 100%|███████████████████████████████████████████████████████████████████████████████| 8/8 [00:08<00:00,  1.10s/type]\n"
     ]
    },
    {
     "name": "stdout",
     "output_type": "stream",
     "text": [
      "\u001b[32m2023-04-14 23:58:29.207\u001b[0m | \u001b[36mpseudopeople.interface\u001b[0m:\u001b[36m_generate_form\u001b[0m:\u001b[36m68\u001b[0m - \u001b[1mLoading data from /mnt/team/simulation_science/priv/engineering/vivarium_census_prl_synth_pop/results/v2.0_three_censuses/united_states_of_america/2023_04_08_14_07_04/final_results/parquet/usa/decennial_census_observer/decennial_census_observer_6751.parquet.\u001b[0m\n"
     ]
    },
    {
     "name": "stderr",
     "output_type": "stream",
     "text": [
      "Applying noise: 100%|███████████████████████████████████████████████████████████████████████████████| 8/8 [00:08<00:00,  1.09s/type]\n"
     ]
    },
    {
     "name": "stdout",
     "output_type": "stream",
     "text": [
      "\u001b[32m2023-04-14 23:58:45.055\u001b[0m | \u001b[36mpseudopeople.interface\u001b[0m:\u001b[36m_generate_form\u001b[0m:\u001b[36m68\u001b[0m - \u001b[1mLoading data from /mnt/team/simulation_science/priv/engineering/vivarium_census_prl_synth_pop/results/v2.0_three_censuses/united_states_of_america/2023_04_08_14_07_04/final_results/parquet/usa/decennial_census_observer/decennial_census_observer_5781.parquet.\u001b[0m\n"
     ]
    },
    {
     "name": "stderr",
     "output_type": "stream",
     "text": [
      "Applying noise: 100%|███████████████████████████████████████████████████████████████████████████████| 8/8 [00:08<00:00,  1.10s/type]\n"
     ]
    },
    {
     "name": "stdout",
     "output_type": "stream",
     "text": [
      "\u001b[32m2023-04-14 23:59:00.903\u001b[0m | \u001b[36mpseudopeople.interface\u001b[0m:\u001b[36m_generate_form\u001b[0m:\u001b[36m68\u001b[0m - \u001b[1mLoading data from /mnt/team/simulation_science/priv/engineering/vivarium_census_prl_synth_pop/results/v2.0_three_censuses/united_states_of_america/2023_04_08_14_07_04/final_results/parquet/usa/decennial_census_observer/decennial_census_observer_7551.parquet.\u001b[0m\n"
     ]
    },
    {
     "name": "stderr",
     "output_type": "stream",
     "text": [
      "Applying noise: 100%|███████████████████████████████████████████████████████████████████████████████| 8/8 [00:08<00:00,  1.11s/type]\n"
     ]
    },
    {
     "name": "stdout",
     "output_type": "stream",
     "text": [
      "\u001b[32m2023-04-14 23:59:16.875\u001b[0m | \u001b[36mpseudopeople.interface\u001b[0m:\u001b[36m_generate_form\u001b[0m:\u001b[36m68\u001b[0m - \u001b[1mLoading data from /mnt/team/simulation_science/priv/engineering/vivarium_census_prl_synth_pop/results/v2.0_three_censuses/united_states_of_america/2023_04_08_14_07_04/final_results/parquet/usa/decennial_census_observer/decennial_census_observer_7054.parquet.\u001b[0m\n"
     ]
    },
    {
     "name": "stderr",
     "output_type": "stream",
     "text": [
      "Applying noise: 100%|███████████████████████████████████████████████████████████████████████████████| 8/8 [00:08<00:00,  1.10s/type]\n"
     ]
    },
    {
     "name": "stdout",
     "output_type": "stream",
     "text": [
      "\u001b[32m2023-04-14 23:59:32.797\u001b[0m | \u001b[36mpseudopeople.interface\u001b[0m:\u001b[36m_generate_form\u001b[0m:\u001b[36m68\u001b[0m - \u001b[1mLoading data from /mnt/team/simulation_science/priv/engineering/vivarium_census_prl_synth_pop/results/v2.0_three_censuses/united_states_of_america/2023_04_08_14_07_04/final_results/parquet/usa/decennial_census_observer/decennial_census_observer_1614.parquet.\u001b[0m\n"
     ]
    },
    {
     "name": "stderr",
     "output_type": "stream",
     "text": [
      "Applying noise: 100%|███████████████████████████████████████████████████████████████████████████████| 8/8 [00:08<00:00,  1.11s/type]\n"
     ]
    },
    {
     "name": "stdout",
     "output_type": "stream",
     "text": [
      "\u001b[32m2023-04-14 23:59:48.795\u001b[0m | \u001b[36mpseudopeople.interface\u001b[0m:\u001b[36m_generate_form\u001b[0m:\u001b[36m68\u001b[0m - \u001b[1mLoading data from /mnt/team/simulation_science/priv/engineering/vivarium_census_prl_synth_pop/results/v2.0_three_censuses/united_states_of_america/2023_04_08_14_07_04/final_results/parquet/usa/decennial_census_observer/decennial_census_observer_7137.parquet.\u001b[0m\n"
     ]
    },
    {
     "name": "stderr",
     "output_type": "stream",
     "text": [
      "Applying noise: 100%|███████████████████████████████████████████████████████████████████████████████| 8/8 [00:08<00:00,  1.09s/type]\n"
     ]
    },
    {
     "name": "stdout",
     "output_type": "stream",
     "text": [
      "\u001b[32m2023-04-15 00:00:04.732\u001b[0m | \u001b[36mpseudopeople.interface\u001b[0m:\u001b[36m_generate_form\u001b[0m:\u001b[36m68\u001b[0m - \u001b[1mLoading data from /mnt/team/simulation_science/priv/engineering/vivarium_census_prl_synth_pop/results/v2.0_three_censuses/united_states_of_america/2023_04_08_14_07_04/final_results/parquet/usa/decennial_census_observer/decennial_census_observer_6191.parquet.\u001b[0m\n"
     ]
    },
    {
     "name": "stderr",
     "output_type": "stream",
     "text": [
      "Applying noise: 100%|███████████████████████████████████████████████████████████████████████████████| 8/8 [00:08<00:00,  1.10s/type]\n"
     ]
    },
    {
     "name": "stdout",
     "output_type": "stream",
     "text": [
      "\u001b[32m2023-04-15 00:00:20.759\u001b[0m | \u001b[36mpseudopeople.interface\u001b[0m:\u001b[36m_generate_form\u001b[0m:\u001b[36m68\u001b[0m - \u001b[1mLoading data from /mnt/team/simulation_science/priv/engineering/vivarium_census_prl_synth_pop/results/v2.0_three_censuses/united_states_of_america/2023_04_08_14_07_04/final_results/parquet/usa/decennial_census_observer/decennial_census_observer_5685.parquet.\u001b[0m\n"
     ]
    },
    {
     "name": "stderr",
     "output_type": "stream",
     "text": [
      "Applying noise: 100%|███████████████████████████████████████████████████████████████████████████████| 8/8 [00:08<00:00,  1.09s/type]\n"
     ]
    },
    {
     "name": "stdout",
     "output_type": "stream",
     "text": [
      "\u001b[32m2023-04-15 00:00:36.640\u001b[0m | \u001b[36mpseudopeople.interface\u001b[0m:\u001b[36m_generate_form\u001b[0m:\u001b[36m68\u001b[0m - \u001b[1mLoading data from /mnt/team/simulation_science/priv/engineering/vivarium_census_prl_synth_pop/results/v2.0_three_censuses/united_states_of_america/2023_04_08_14_07_04/final_results/parquet/usa/decennial_census_observer/decennial_census_observer_5004.parquet.\u001b[0m\n"
     ]
    },
    {
     "name": "stderr",
     "output_type": "stream",
     "text": [
      "Applying noise: 100%|███████████████████████████████████████████████████████████████████████████████| 8/8 [00:08<00:00,  1.10s/type]\n"
     ]
    },
    {
     "name": "stdout",
     "output_type": "stream",
     "text": [
      "\u001b[32m2023-04-15 00:00:52.596\u001b[0m | \u001b[36mpseudopeople.interface\u001b[0m:\u001b[36m_generate_form\u001b[0m:\u001b[36m68\u001b[0m - \u001b[1mLoading data from /mnt/team/simulation_science/priv/engineering/vivarium_census_prl_synth_pop/results/v2.0_three_censuses/united_states_of_america/2023_04_08_14_07_04/final_results/parquet/usa/decennial_census_observer/decennial_census_observer_4192.parquet.\u001b[0m\n"
     ]
    },
    {
     "name": "stderr",
     "output_type": "stream",
     "text": [
      "Applying noise: 100%|███████████████████████████████████████████████████████████████████████████████| 8/8 [00:08<00:00,  1.12s/type]\n"
     ]
    },
    {
     "name": "stdout",
     "output_type": "stream",
     "text": [
      "\u001b[32m2023-04-15 00:01:08.635\u001b[0m | \u001b[36mpseudopeople.interface\u001b[0m:\u001b[36m_generate_form\u001b[0m:\u001b[36m68\u001b[0m - \u001b[1mLoading data from /mnt/team/simulation_science/priv/engineering/vivarium_census_prl_synth_pop/results/v2.0_three_censuses/united_states_of_america/2023_04_08_14_07_04/final_results/parquet/usa/decennial_census_observer/decennial_census_observer_5860.parquet.\u001b[0m\n"
     ]
    },
    {
     "name": "stderr",
     "output_type": "stream",
     "text": [
      "Applying noise: 100%|███████████████████████████████████████████████████████████████████████████████| 8/8 [00:08<00:00,  1.11s/type]\n"
     ]
    },
    {
     "name": "stdout",
     "output_type": "stream",
     "text": [
      "\u001b[32m2023-04-15 00:01:24.648\u001b[0m | \u001b[36mpseudopeople.interface\u001b[0m:\u001b[36m_generate_form\u001b[0m:\u001b[36m68\u001b[0m - \u001b[1mLoading data from /mnt/team/simulation_science/priv/engineering/vivarium_census_prl_synth_pop/results/v2.0_three_censuses/united_states_of_america/2023_04_08_14_07_04/final_results/parquet/usa/decennial_census_observer/decennial_census_observer_3938.parquet.\u001b[0m\n"
     ]
    },
    {
     "name": "stderr",
     "output_type": "stream",
     "text": [
      "Applying noise: 100%|███████████████████████████████████████████████████████████████████████████████| 8/8 [00:08<00:00,  1.10s/type]\n"
     ]
    },
    {
     "name": "stdout",
     "output_type": "stream",
     "text": [
      "\u001b[32m2023-04-15 00:01:40.629\u001b[0m | \u001b[36mpseudopeople.interface\u001b[0m:\u001b[36m_generate_form\u001b[0m:\u001b[36m68\u001b[0m - \u001b[1mLoading data from /mnt/team/simulation_science/priv/engineering/vivarium_census_prl_synth_pop/results/v2.0_three_censuses/united_states_of_america/2023_04_08_14_07_04/final_results/parquet/usa/decennial_census_observer/decennial_census_observer_3984.parquet.\u001b[0m\n"
     ]
    },
    {
     "name": "stderr",
     "output_type": "stream",
     "text": [
      "Applying noise: 100%|███████████████████████████████████████████████████████████████████████████████| 8/8 [00:08<00:00,  1.10s/type]\n"
     ]
    },
    {
     "name": "stdout",
     "output_type": "stream",
     "text": [
      "\u001b[32m2023-04-15 00:01:56.557\u001b[0m | \u001b[36mpseudopeople.interface\u001b[0m:\u001b[36m_generate_form\u001b[0m:\u001b[36m68\u001b[0m - \u001b[1mLoading data from /mnt/team/simulation_science/priv/engineering/vivarium_census_prl_synth_pop/results/v2.0_three_censuses/united_states_of_america/2023_04_08_14_07_04/final_results/parquet/usa/decennial_census_observer/decennial_census_observer_734.parquet.\u001b[0m\n"
     ]
    },
    {
     "name": "stderr",
     "output_type": "stream",
     "text": [
      "Applying noise: 100%|███████████████████████████████████████████████████████████████████████████████| 8/8 [00:08<00:00,  1.11s/type]\n"
     ]
    },
    {
     "name": "stdout",
     "output_type": "stream",
     "text": [
      "\u001b[32m2023-04-15 00:02:12.426\u001b[0m | \u001b[36mpseudopeople.interface\u001b[0m:\u001b[36m_generate_form\u001b[0m:\u001b[36m68\u001b[0m - \u001b[1mLoading data from /mnt/team/simulation_science/priv/engineering/vivarium_census_prl_synth_pop/results/v2.0_three_censuses/united_states_of_america/2023_04_08_14_07_04/final_results/parquet/usa/decennial_census_observer/decennial_census_observer_781.parquet.\u001b[0m\n"
     ]
    },
    {
     "name": "stderr",
     "output_type": "stream",
     "text": [
      "Applying noise: 100%|███████████████████████████████████████████████████████████████████████████████| 8/8 [00:08<00:00,  1.11s/type]\n"
     ]
    },
    {
     "name": "stdout",
     "output_type": "stream",
     "text": [
      "\u001b[32m2023-04-15 00:02:28.453\u001b[0m | \u001b[36mpseudopeople.interface\u001b[0m:\u001b[36m_generate_form\u001b[0m:\u001b[36m68\u001b[0m - \u001b[1mLoading data from /mnt/team/simulation_science/priv/engineering/vivarium_census_prl_synth_pop/results/v2.0_three_censuses/united_states_of_america/2023_04_08_14_07_04/final_results/parquet/usa/decennial_census_observer/decennial_census_observer_8516.parquet.\u001b[0m\n"
     ]
    },
    {
     "name": "stderr",
     "output_type": "stream",
     "text": [
      "Applying noise: 100%|███████████████████████████████████████████████████████████████████████████████| 8/8 [00:08<00:00,  1.11s/type]\n"
     ]
    },
    {
     "name": "stdout",
     "output_type": "stream",
     "text": [
      "\u001b[32m2023-04-15 00:02:44.453\u001b[0m | \u001b[36mpseudopeople.interface\u001b[0m:\u001b[36m_generate_form\u001b[0m:\u001b[36m68\u001b[0m - \u001b[1mLoading data from /mnt/team/simulation_science/priv/engineering/vivarium_census_prl_synth_pop/results/v2.0_three_censuses/united_states_of_america/2023_04_08_14_07_04/final_results/parquet/usa/decennial_census_observer/decennial_census_observer_9159.parquet.\u001b[0m\n"
     ]
    },
    {
     "name": "stderr",
     "output_type": "stream",
     "text": [
      "Applying noise: 100%|███████████████████████████████████████████████████████████████████████████████| 8/8 [00:08<00:00,  1.09s/type]\n"
     ]
    },
    {
     "name": "stdout",
     "output_type": "stream",
     "text": [
      "\u001b[32m2023-04-15 00:03:00.211\u001b[0m | \u001b[36mpseudopeople.interface\u001b[0m:\u001b[36m_generate_form\u001b[0m:\u001b[36m68\u001b[0m - \u001b[1mLoading data from /mnt/team/simulation_science/priv/engineering/vivarium_census_prl_synth_pop/results/v2.0_three_censuses/united_states_of_america/2023_04_08_14_07_04/final_results/parquet/usa/decennial_census_observer/decennial_census_observer_9292.parquet.\u001b[0m\n"
     ]
    },
    {
     "name": "stderr",
     "output_type": "stream",
     "text": [
      "Applying noise: 100%|███████████████████████████████████████████████████████████████████████████████| 8/8 [00:08<00:00,  1.10s/type]\n"
     ]
    },
    {
     "name": "stdout",
     "output_type": "stream",
     "text": [
      "\u001b[32m2023-04-15 00:03:16.059\u001b[0m | \u001b[36mpseudopeople.interface\u001b[0m:\u001b[36m_generate_form\u001b[0m:\u001b[36m68\u001b[0m - \u001b[1mLoading data from /mnt/team/simulation_science/priv/engineering/vivarium_census_prl_synth_pop/results/v2.0_three_censuses/united_states_of_america/2023_04_08_14_07_04/final_results/parquet/usa/decennial_census_observer/decennial_census_observer_3585.parquet.\u001b[0m\n"
     ]
    },
    {
     "name": "stderr",
     "output_type": "stream",
     "text": [
      "Applying noise: 100%|███████████████████████████████████████████████████████████████████████████████| 8/8 [00:08<00:00,  1.10s/type]\n"
     ]
    },
    {
     "name": "stdout",
     "output_type": "stream",
     "text": [
      "\u001b[32m2023-04-15 00:03:31.923\u001b[0m | \u001b[36mpseudopeople.interface\u001b[0m:\u001b[36m_generate_form\u001b[0m:\u001b[36m68\u001b[0m - \u001b[1mLoading data from /mnt/team/simulation_science/priv/engineering/vivarium_census_prl_synth_pop/results/v2.0_three_censuses/united_states_of_america/2023_04_08_14_07_04/final_results/parquet/usa/decennial_census_observer/decennial_census_observer_9495.parquet.\u001b[0m\n"
     ]
    },
    {
     "name": "stderr",
     "output_type": "stream",
     "text": [
      "Applying noise: 100%|███████████████████████████████████████████████████████████████████████████████| 8/8 [00:08<00:00,  1.10s/type]\n"
     ]
    },
    {
     "name": "stdout",
     "output_type": "stream",
     "text": [
      "\u001b[32m2023-04-15 00:03:47.988\u001b[0m | \u001b[36mpseudopeople.interface\u001b[0m:\u001b[36m_generate_form\u001b[0m:\u001b[36m68\u001b[0m - \u001b[1mLoading data from /mnt/team/simulation_science/priv/engineering/vivarium_census_prl_synth_pop/results/v2.0_three_censuses/united_states_of_america/2023_04_08_14_07_04/final_results/parquet/usa/decennial_census_observer/decennial_census_observer_9244.parquet.\u001b[0m\n"
     ]
    },
    {
     "name": "stderr",
     "output_type": "stream",
     "text": [
      "Applying noise: 100%|███████████████████████████████████████████████████████████████████████████████| 8/8 [00:08<00:00,  1.09s/type]\n"
     ]
    },
    {
     "name": "stdout",
     "output_type": "stream",
     "text": [
      "\u001b[32m2023-04-15 00:04:03.875\u001b[0m | \u001b[36mpseudopeople.interface\u001b[0m:\u001b[36m_generate_form\u001b[0m:\u001b[36m68\u001b[0m - \u001b[1mLoading data from /mnt/team/simulation_science/priv/engineering/vivarium_census_prl_synth_pop/results/v2.0_three_censuses/united_states_of_america/2023_04_08_14_07_04/final_results/parquet/usa/decennial_census_observer/decennial_census_observer_6545.parquet.\u001b[0m\n"
     ]
    },
    {
     "name": "stderr",
     "output_type": "stream",
     "text": [
      "Applying noise: 100%|███████████████████████████████████████████████████████████████████████████████| 8/8 [00:08<00:00,  1.10s/type]\n"
     ]
    },
    {
     "name": "stdout",
     "output_type": "stream",
     "text": [
      "\u001b[32m2023-04-15 00:04:19.815\u001b[0m | \u001b[36mpseudopeople.interface\u001b[0m:\u001b[36m_generate_form\u001b[0m:\u001b[36m68\u001b[0m - \u001b[1mLoading data from /mnt/team/simulation_science/priv/engineering/vivarium_census_prl_synth_pop/results/v2.0_three_censuses/united_states_of_america/2023_04_08_14_07_04/final_results/parquet/usa/decennial_census_observer/decennial_census_observer_6874.parquet.\u001b[0m\n"
     ]
    },
    {
     "name": "stderr",
     "output_type": "stream",
     "text": [
      "Applying noise: 100%|███████████████████████████████████████████████████████████████████████████████| 8/8 [00:08<00:00,  1.09s/type]\n"
     ]
    },
    {
     "name": "stdout",
     "output_type": "stream",
     "text": [
      "\u001b[32m2023-04-15 00:04:35.781\u001b[0m | \u001b[36mpseudopeople.interface\u001b[0m:\u001b[36m_generate_form\u001b[0m:\u001b[36m68\u001b[0m - \u001b[1mLoading data from /mnt/team/simulation_science/priv/engineering/vivarium_census_prl_synth_pop/results/v2.0_three_censuses/united_states_of_america/2023_04_08_14_07_04/final_results/parquet/usa/decennial_census_observer/decennial_census_observer_2700.parquet.\u001b[0m\n"
     ]
    },
    {
     "name": "stderr",
     "output_type": "stream",
     "text": [
      "Applying noise: 100%|███████████████████████████████████████████████████████████████████████████████| 8/8 [00:08<00:00,  1.10s/type]\n"
     ]
    },
    {
     "name": "stdout",
     "output_type": "stream",
     "text": [
      "\u001b[32m2023-04-15 00:04:51.749\u001b[0m | \u001b[36mpseudopeople.interface\u001b[0m:\u001b[36m_generate_form\u001b[0m:\u001b[36m68\u001b[0m - \u001b[1mLoading data from /mnt/team/simulation_science/priv/engineering/vivarium_census_prl_synth_pop/results/v2.0_three_censuses/united_states_of_america/2023_04_08_14_07_04/final_results/parquet/usa/decennial_census_observer/decennial_census_observer_8134.parquet.\u001b[0m\n"
     ]
    },
    {
     "name": "stderr",
     "output_type": "stream",
     "text": [
      "Applying noise: 100%|███████████████████████████████████████████████████████████████████████████████| 8/8 [00:08<00:00,  1.10s/type]\n"
     ]
    },
    {
     "name": "stdout",
     "output_type": "stream",
     "text": [
      "\u001b[32m2023-04-15 00:05:07.623\u001b[0m | \u001b[36mpseudopeople.interface\u001b[0m:\u001b[36m_generate_form\u001b[0m:\u001b[36m68\u001b[0m - \u001b[1mLoading data from /mnt/team/simulation_science/priv/engineering/vivarium_census_prl_synth_pop/results/v2.0_three_censuses/united_states_of_america/2023_04_08_14_07_04/final_results/parquet/usa/decennial_census_observer/decennial_census_observer_9066.parquet.\u001b[0m\n"
     ]
    },
    {
     "name": "stderr",
     "output_type": "stream",
     "text": [
      "Applying noise: 100%|███████████████████████████████████████████████████████████████████████████████| 8/8 [00:08<00:00,  1.10s/type]\n"
     ]
    },
    {
     "name": "stdout",
     "output_type": "stream",
     "text": [
      "\u001b[32m2023-04-15 00:05:23.506\u001b[0m | \u001b[36mpseudopeople.interface\u001b[0m:\u001b[36m_generate_form\u001b[0m:\u001b[36m68\u001b[0m - \u001b[1mLoading data from /mnt/team/simulation_science/priv/engineering/vivarium_census_prl_synth_pop/results/v2.0_three_censuses/united_states_of_america/2023_04_08_14_07_04/final_results/parquet/usa/decennial_census_observer/decennial_census_observer_6606.parquet.\u001b[0m\n"
     ]
    },
    {
     "name": "stderr",
     "output_type": "stream",
     "text": [
      "Applying noise: 100%|███████████████████████████████████████████████████████████████████████████████| 8/8 [00:08<00:00,  1.11s/type]\n"
     ]
    },
    {
     "name": "stdout",
     "output_type": "stream",
     "text": [
      "\u001b[32m2023-04-15 00:05:39.482\u001b[0m | \u001b[36mpseudopeople.interface\u001b[0m:\u001b[36m_generate_form\u001b[0m:\u001b[36m68\u001b[0m - \u001b[1mLoading data from /mnt/team/simulation_science/priv/engineering/vivarium_census_prl_synth_pop/results/v2.0_three_censuses/united_states_of_america/2023_04_08_14_07_04/final_results/parquet/usa/decennial_census_observer/decennial_census_observer_3305.parquet.\u001b[0m\n"
     ]
    },
    {
     "name": "stderr",
     "output_type": "stream",
     "text": [
      "Applying noise: 100%|███████████████████████████████████████████████████████████████████████████████| 8/8 [00:08<00:00,  1.09s/type]\n"
     ]
    },
    {
     "name": "stdout",
     "output_type": "stream",
     "text": [
      "\u001b[32m2023-04-15 00:05:55.320\u001b[0m | \u001b[36mpseudopeople.interface\u001b[0m:\u001b[36m_generate_form\u001b[0m:\u001b[36m68\u001b[0m - \u001b[1mLoading data from /mnt/team/simulation_science/priv/engineering/vivarium_census_prl_synth_pop/results/v2.0_three_censuses/united_states_of_america/2023_04_08_14_07_04/final_results/parquet/usa/decennial_census_observer/decennial_census_observer_1559.parquet.\u001b[0m\n"
     ]
    },
    {
     "name": "stderr",
     "output_type": "stream",
     "text": [
      "Applying noise: 100%|███████████████████████████████████████████████████████████████████████████████| 8/8 [00:09<00:00,  1.13s/type]\n"
     ]
    },
    {
     "name": "stdout",
     "output_type": "stream",
     "text": [
      "\u001b[32m2023-04-15 00:06:11.541\u001b[0m | \u001b[36mpseudopeople.interface\u001b[0m:\u001b[36m_generate_form\u001b[0m:\u001b[36m68\u001b[0m - \u001b[1mLoading data from /mnt/team/simulation_science/priv/engineering/vivarium_census_prl_synth_pop/results/v2.0_three_censuses/united_states_of_america/2023_04_08_14_07_04/final_results/parquet/usa/decennial_census_observer/decennial_census_observer_1200.parquet.\u001b[0m\n"
     ]
    },
    {
     "name": "stderr",
     "output_type": "stream",
     "text": [
      "Applying noise: 100%|███████████████████████████████████████████████████████████████████████████████| 8/8 [00:08<00:00,  1.10s/type]\n"
     ]
    },
    {
     "name": "stdout",
     "output_type": "stream",
     "text": [
      "\u001b[32m2023-04-15 00:06:27.549\u001b[0m | \u001b[36mpseudopeople.interface\u001b[0m:\u001b[36m_generate_form\u001b[0m:\u001b[36m68\u001b[0m - \u001b[1mLoading data from /mnt/team/simulation_science/priv/engineering/vivarium_census_prl_synth_pop/results/v2.0_three_censuses/united_states_of_america/2023_04_08_14_07_04/final_results/parquet/usa/decennial_census_observer/decennial_census_observer_9971.parquet.\u001b[0m\n"
     ]
    },
    {
     "name": "stderr",
     "output_type": "stream",
     "text": [
      "Applying noise: 100%|███████████████████████████████████████████████████████████████████████████████| 8/8 [00:08<00:00,  1.11s/type]\n"
     ]
    },
    {
     "name": "stdout",
     "output_type": "stream",
     "text": [
      "\u001b[32m2023-04-15 00:06:43.640\u001b[0m | \u001b[36mpseudopeople.interface\u001b[0m:\u001b[36m_generate_form\u001b[0m:\u001b[36m68\u001b[0m - \u001b[1mLoading data from /mnt/team/simulation_science/priv/engineering/vivarium_census_prl_synth_pop/results/v2.0_three_censuses/united_states_of_america/2023_04_08_14_07_04/final_results/parquet/usa/decennial_census_observer/decennial_census_observer_5812.parquet.\u001b[0m\n"
     ]
    },
    {
     "name": "stderr",
     "output_type": "stream",
     "text": [
      "Applying noise: 100%|███████████████████████████████████████████████████████████████████████████████| 8/8 [00:08<00:00,  1.09s/type]\n"
     ]
    },
    {
     "name": "stdout",
     "output_type": "stream",
     "text": [
      "\u001b[32m2023-04-15 00:06:59.535\u001b[0m | \u001b[36mpseudopeople.interface\u001b[0m:\u001b[36m_generate_form\u001b[0m:\u001b[36m68\u001b[0m - \u001b[1mLoading data from /mnt/team/simulation_science/priv/engineering/vivarium_census_prl_synth_pop/results/v2.0_three_censuses/united_states_of_america/2023_04_08_14_07_04/final_results/parquet/usa/decennial_census_observer/decennial_census_observer_3947.parquet.\u001b[0m\n"
     ]
    },
    {
     "name": "stderr",
     "output_type": "stream",
     "text": [
      "Applying noise: 100%|███████████████████████████████████████████████████████████████████████████████| 8/8 [00:08<00:00,  1.11s/type]\n"
     ]
    },
    {
     "name": "stdout",
     "output_type": "stream",
     "text": [
      "\u001b[32m2023-04-15 00:07:15.539\u001b[0m | \u001b[36mpseudopeople.interface\u001b[0m:\u001b[36m_generate_form\u001b[0m:\u001b[36m68\u001b[0m - \u001b[1mLoading data from /mnt/team/simulation_science/priv/engineering/vivarium_census_prl_synth_pop/results/v2.0_three_censuses/united_states_of_america/2023_04_08_14_07_04/final_results/parquet/usa/decennial_census_observer/decennial_census_observer_1177.parquet.\u001b[0m\n"
     ]
    },
    {
     "name": "stderr",
     "output_type": "stream",
     "text": [
      "Applying noise: 100%|███████████████████████████████████████████████████████████████████████████████| 8/8 [00:08<00:00,  1.10s/type]\n"
     ]
    },
    {
     "name": "stdout",
     "output_type": "stream",
     "text": [
      "\u001b[32m2023-04-15 00:07:31.590\u001b[0m | \u001b[36mpseudopeople.interface\u001b[0m:\u001b[36m_generate_form\u001b[0m:\u001b[36m68\u001b[0m - \u001b[1mLoading data from /mnt/team/simulation_science/priv/engineering/vivarium_census_prl_synth_pop/results/v2.0_three_censuses/united_states_of_america/2023_04_08_14_07_04/final_results/parquet/usa/decennial_census_observer/decennial_census_observer_8192.parquet.\u001b[0m\n"
     ]
    },
    {
     "name": "stderr",
     "output_type": "stream",
     "text": [
      "Applying noise: 100%|███████████████████████████████████████████████████████████████████████████████| 8/8 [00:08<00:00,  1.10s/type]\n"
     ]
    },
    {
     "name": "stdout",
     "output_type": "stream",
     "text": [
      "\u001b[32m2023-04-15 00:07:47.467\u001b[0m | \u001b[36mpseudopeople.interface\u001b[0m:\u001b[36m_generate_form\u001b[0m:\u001b[36m68\u001b[0m - \u001b[1mLoading data from /mnt/team/simulation_science/priv/engineering/vivarium_census_prl_synth_pop/results/v2.0_three_censuses/united_states_of_america/2023_04_08_14_07_04/final_results/parquet/usa/decennial_census_observer/decennial_census_observer_1452.parquet.\u001b[0m\n"
     ]
    },
    {
     "name": "stderr",
     "output_type": "stream",
     "text": [
      "Applying noise: 100%|███████████████████████████████████████████████████████████████████████████████| 8/8 [00:08<00:00,  1.11s/type]\n"
     ]
    },
    {
     "name": "stdout",
     "output_type": "stream",
     "text": [
      "\u001b[32m2023-04-15 00:08:03.547\u001b[0m | \u001b[36mpseudopeople.interface\u001b[0m:\u001b[36m_generate_form\u001b[0m:\u001b[36m68\u001b[0m - \u001b[1mLoading data from /mnt/team/simulation_science/priv/engineering/vivarium_census_prl_synth_pop/results/v2.0_three_censuses/united_states_of_america/2023_04_08_14_07_04/final_results/parquet/usa/decennial_census_observer/decennial_census_observer_1832.parquet.\u001b[0m\n"
     ]
    },
    {
     "name": "stderr",
     "output_type": "stream",
     "text": [
      "Applying noise: 100%|███████████████████████████████████████████████████████████████████████████████| 8/8 [00:08<00:00,  1.09s/type]\n"
     ]
    },
    {
     "name": "stdout",
     "output_type": "stream",
     "text": [
      "\u001b[32m2023-04-15 00:08:19.498\u001b[0m | \u001b[36mpseudopeople.interface\u001b[0m:\u001b[36m_generate_form\u001b[0m:\u001b[36m68\u001b[0m - \u001b[1mLoading data from /mnt/team/simulation_science/priv/engineering/vivarium_census_prl_synth_pop/results/v2.0_three_censuses/united_states_of_america/2023_04_08_14_07_04/final_results/parquet/usa/decennial_census_observer/decennial_census_observer_8509.parquet.\u001b[0m\n"
     ]
    },
    {
     "name": "stderr",
     "output_type": "stream",
     "text": [
      "Applying noise: 100%|███████████████████████████████████████████████████████████████████████████████| 8/8 [00:08<00:00,  1.10s/type]\n"
     ]
    },
    {
     "name": "stdout",
     "output_type": "stream",
     "text": [
      "\u001b[32m2023-04-15 00:08:35.527\u001b[0m | \u001b[36mpseudopeople.interface\u001b[0m:\u001b[36m_generate_form\u001b[0m:\u001b[36m68\u001b[0m - \u001b[1mLoading data from /mnt/team/simulation_science/priv/engineering/vivarium_census_prl_synth_pop/results/v2.0_three_censuses/united_states_of_america/2023_04_08_14_07_04/final_results/parquet/usa/decennial_census_observer/decennial_census_observer_3776.parquet.\u001b[0m\n"
     ]
    },
    {
     "name": "stderr",
     "output_type": "stream",
     "text": [
      "Applying noise: 100%|███████████████████████████████████████████████████████████████████████████████| 8/8 [00:08<00:00,  1.10s/type]\n"
     ]
    },
    {
     "name": "stdout",
     "output_type": "stream",
     "text": [
      "\u001b[32m2023-04-15 00:08:51.416\u001b[0m | \u001b[36mpseudopeople.interface\u001b[0m:\u001b[36m_generate_form\u001b[0m:\u001b[36m68\u001b[0m - \u001b[1mLoading data from /mnt/team/simulation_science/priv/engineering/vivarium_census_prl_synth_pop/results/v2.0_three_censuses/united_states_of_america/2023_04_08_14_07_04/final_results/parquet/usa/decennial_census_observer/decennial_census_observer_5892.parquet.\u001b[0m\n"
     ]
    },
    {
     "name": "stderr",
     "output_type": "stream",
     "text": [
      "Applying noise: 100%|███████████████████████████████████████████████████████████████████████████████| 8/8 [00:08<00:00,  1.09s/type]\n"
     ]
    },
    {
     "name": "stdout",
     "output_type": "stream",
     "text": [
      "\u001b[32m2023-04-15 00:09:07.260\u001b[0m | \u001b[36mpseudopeople.interface\u001b[0m:\u001b[36m_generate_form\u001b[0m:\u001b[36m68\u001b[0m - \u001b[1mLoading data from /mnt/team/simulation_science/priv/engineering/vivarium_census_prl_synth_pop/results/v2.0_three_censuses/united_states_of_america/2023_04_08_14_07_04/final_results/parquet/usa/decennial_census_observer/decennial_census_observer_5114.parquet.\u001b[0m\n"
     ]
    },
    {
     "name": "stderr",
     "output_type": "stream",
     "text": [
      "Applying noise: 100%|███████████████████████████████████████████████████████████████████████████████| 8/8 [00:08<00:00,  1.11s/type]\n"
     ]
    },
    {
     "name": "stdout",
     "output_type": "stream",
     "text": [
      "\u001b[32m2023-04-15 00:09:23.263\u001b[0m | \u001b[36mpseudopeople.interface\u001b[0m:\u001b[36m_generate_form\u001b[0m:\u001b[36m68\u001b[0m - \u001b[1mLoading data from /mnt/team/simulation_science/priv/engineering/vivarium_census_prl_synth_pop/results/v2.0_three_censuses/united_states_of_america/2023_04_08_14_07_04/final_results/parquet/usa/decennial_census_observer/decennial_census_observer_8360.parquet.\u001b[0m\n"
     ]
    },
    {
     "name": "stderr",
     "output_type": "stream",
     "text": [
      "Applying noise: 100%|███████████████████████████████████████████████████████████████████████████████| 8/8 [00:08<00:00,  1.11s/type]\n"
     ]
    },
    {
     "name": "stdout",
     "output_type": "stream",
     "text": [
      "\u001b[32m2023-04-15 00:09:39.270\u001b[0m | \u001b[36mpseudopeople.interface\u001b[0m:\u001b[36m_generate_form\u001b[0m:\u001b[36m68\u001b[0m - \u001b[1mLoading data from /mnt/team/simulation_science/priv/engineering/vivarium_census_prl_synth_pop/results/v2.0_three_censuses/united_states_of_america/2023_04_08_14_07_04/final_results/parquet/usa/decennial_census_observer/decennial_census_observer_9723.parquet.\u001b[0m\n"
     ]
    },
    {
     "name": "stderr",
     "output_type": "stream",
     "text": [
      "Applying noise: 100%|███████████████████████████████████████████████████████████████████████████████| 8/8 [00:08<00:00,  1.10s/type]\n"
     ]
    },
    {
     "name": "stdout",
     "output_type": "stream",
     "text": [
      "\u001b[32m2023-04-15 00:09:55.147\u001b[0m | \u001b[36mpseudopeople.interface\u001b[0m:\u001b[36m_generate_form\u001b[0m:\u001b[36m68\u001b[0m - \u001b[1mLoading data from /mnt/team/simulation_science/priv/engineering/vivarium_census_prl_synth_pop/results/v2.0_three_censuses/united_states_of_america/2023_04_08_14_07_04/final_results/parquet/usa/decennial_census_observer/decennial_census_observer_7292.parquet.\u001b[0m\n"
     ]
    },
    {
     "name": "stderr",
     "output_type": "stream",
     "text": [
      "Applying noise: 100%|███████████████████████████████████████████████████████████████████████████████| 8/8 [00:08<00:00,  1.10s/type]\n"
     ]
    },
    {
     "name": "stdout",
     "output_type": "stream",
     "text": [
      "\u001b[32m2023-04-15 00:10:11.194\u001b[0m | \u001b[36mpseudopeople.interface\u001b[0m:\u001b[36m_generate_form\u001b[0m:\u001b[36m68\u001b[0m - \u001b[1mLoading data from /mnt/team/simulation_science/priv/engineering/vivarium_census_prl_synth_pop/results/v2.0_three_censuses/united_states_of_america/2023_04_08_14_07_04/final_results/parquet/usa/decennial_census_observer/decennial_census_observer_1917.parquet.\u001b[0m\n"
     ]
    },
    {
     "name": "stderr",
     "output_type": "stream",
     "text": [
      "Applying noise: 100%|███████████████████████████████████████████████████████████████████████████████| 8/8 [00:08<00:00,  1.11s/type]\n"
     ]
    },
    {
     "name": "stdout",
     "output_type": "stream",
     "text": [
      "\u001b[32m2023-04-15 00:10:27.172\u001b[0m | \u001b[36mpseudopeople.interface\u001b[0m:\u001b[36m_generate_form\u001b[0m:\u001b[36m68\u001b[0m - \u001b[1mLoading data from /mnt/team/simulation_science/priv/engineering/vivarium_census_prl_synth_pop/results/v2.0_three_censuses/united_states_of_america/2023_04_08_14_07_04/final_results/parquet/usa/decennial_census_observer/decennial_census_observer_494.parquet.\u001b[0m\n"
     ]
    },
    {
     "name": "stderr",
     "output_type": "stream",
     "text": [
      "Applying noise: 100%|███████████████████████████████████████████████████████████████████████████████| 8/8 [00:08<00:00,  1.10s/type]\n"
     ]
    },
    {
     "name": "stdout",
     "output_type": "stream",
     "text": [
      "\u001b[32m2023-04-15 00:10:43.162\u001b[0m | \u001b[36mpseudopeople.interface\u001b[0m:\u001b[36m_generate_form\u001b[0m:\u001b[36m68\u001b[0m - \u001b[1mLoading data from /mnt/team/simulation_science/priv/engineering/vivarium_census_prl_synth_pop/results/v2.0_three_censuses/united_states_of_america/2023_04_08_14_07_04/final_results/parquet/usa/decennial_census_observer/decennial_census_observer_9434.parquet.\u001b[0m\n"
     ]
    },
    {
     "name": "stderr",
     "output_type": "stream",
     "text": [
      "Applying noise: 100%|███████████████████████████████████████████████████████████████████████████████| 8/8 [00:08<00:00,  1.10s/type]\n"
     ]
    },
    {
     "name": "stdout",
     "output_type": "stream",
     "text": [
      "\u001b[32m2023-04-15 00:10:59.084\u001b[0m | \u001b[36mpseudopeople.interface\u001b[0m:\u001b[36m_generate_form\u001b[0m:\u001b[36m68\u001b[0m - \u001b[1mLoading data from /mnt/team/simulation_science/priv/engineering/vivarium_census_prl_synth_pop/results/v2.0_three_censuses/united_states_of_america/2023_04_08_14_07_04/final_results/parquet/usa/decennial_census_observer/decennial_census_observer_3723.parquet.\u001b[0m\n"
     ]
    },
    {
     "name": "stderr",
     "output_type": "stream",
     "text": [
      "Applying noise: 100%|███████████████████████████████████████████████████████████████████████████████| 8/8 [00:08<00:00,  1.11s/type]\n"
     ]
    },
    {
     "name": "stdout",
     "output_type": "stream",
     "text": [
      "\u001b[32m2023-04-15 00:11:15.104\u001b[0m | \u001b[36mpseudopeople.interface\u001b[0m:\u001b[36m_generate_form\u001b[0m:\u001b[36m68\u001b[0m - \u001b[1mLoading data from /mnt/team/simulation_science/priv/engineering/vivarium_census_prl_synth_pop/results/v2.0_three_censuses/united_states_of_america/2023_04_08_14_07_04/final_results/parquet/usa/decennial_census_observer/decennial_census_observer_5949.parquet.\u001b[0m\n"
     ]
    },
    {
     "name": "stderr",
     "output_type": "stream",
     "text": [
      "Applying noise: 100%|███████████████████████████████████████████████████████████████████████████████| 8/8 [00:08<00:00,  1.11s/type]\n"
     ]
    },
    {
     "name": "stdout",
     "output_type": "stream",
     "text": [
      "\u001b[32m2023-04-15 00:11:31.245\u001b[0m | \u001b[36mpseudopeople.interface\u001b[0m:\u001b[36m_generate_form\u001b[0m:\u001b[36m68\u001b[0m - \u001b[1mLoading data from /mnt/team/simulation_science/priv/engineering/vivarium_census_prl_synth_pop/results/v2.0_three_censuses/united_states_of_america/2023_04_08_14_07_04/final_results/parquet/usa/decennial_census_observer/decennial_census_observer_7179.parquet.\u001b[0m\n"
     ]
    },
    {
     "name": "stderr",
     "output_type": "stream",
     "text": [
      "Applying noise: 100%|███████████████████████████████████████████████████████████████████████████████| 8/8 [00:08<00:00,  1.12s/type]\n"
     ]
    },
    {
     "name": "stdout",
     "output_type": "stream",
     "text": [
      "\u001b[32m2023-04-15 00:11:47.325\u001b[0m | \u001b[36mpseudopeople.interface\u001b[0m:\u001b[36m_generate_form\u001b[0m:\u001b[36m68\u001b[0m - \u001b[1mLoading data from /mnt/team/simulation_science/priv/engineering/vivarium_census_prl_synth_pop/results/v2.0_three_censuses/united_states_of_america/2023_04_08_14_07_04/final_results/parquet/usa/decennial_census_observer/decennial_census_observer_4941.parquet.\u001b[0m\n"
     ]
    },
    {
     "name": "stderr",
     "output_type": "stream",
     "text": [
      "Applying noise: 100%|███████████████████████████████████████████████████████████████████████████████| 8/8 [00:08<00:00,  1.09s/type]\n"
     ]
    },
    {
     "name": "stdout",
     "output_type": "stream",
     "text": [
      "\u001b[32m2023-04-15 00:12:03.211\u001b[0m | \u001b[36mpseudopeople.interface\u001b[0m:\u001b[36m_generate_form\u001b[0m:\u001b[36m68\u001b[0m - \u001b[1mLoading data from /mnt/team/simulation_science/priv/engineering/vivarium_census_prl_synth_pop/results/v2.0_three_censuses/united_states_of_america/2023_04_08_14_07_04/final_results/parquet/usa/decennial_census_observer/decennial_census_observer_2863.parquet.\u001b[0m\n"
     ]
    },
    {
     "name": "stderr",
     "output_type": "stream",
     "text": [
      "Applying noise: 100%|███████████████████████████████████████████████████████████████████████████████| 8/8 [00:08<00:00,  1.10s/type]\n"
     ]
    },
    {
     "name": "stdout",
     "output_type": "stream",
     "text": [
      "\u001b[32m2023-04-15 00:12:19.242\u001b[0m | \u001b[36mpseudopeople.interface\u001b[0m:\u001b[36m_generate_form\u001b[0m:\u001b[36m68\u001b[0m - \u001b[1mLoading data from /mnt/team/simulation_science/priv/engineering/vivarium_census_prl_synth_pop/results/v2.0_three_censuses/united_states_of_america/2023_04_08_14_07_04/final_results/parquet/usa/decennial_census_observer/decennial_census_observer_1534.parquet.\u001b[0m\n"
     ]
    },
    {
     "name": "stderr",
     "output_type": "stream",
     "text": [
      "Applying noise: 100%|███████████████████████████████████████████████████████████████████████████████| 8/8 [00:08<00:00,  1.09s/type]\n"
     ]
    },
    {
     "name": "stdout",
     "output_type": "stream",
     "text": [
      "\u001b[32m2023-04-15 00:12:35.115\u001b[0m | \u001b[36mpseudopeople.interface\u001b[0m:\u001b[36m_generate_form\u001b[0m:\u001b[36m68\u001b[0m - \u001b[1mLoading data from /mnt/team/simulation_science/priv/engineering/vivarium_census_prl_synth_pop/results/v2.0_three_censuses/united_states_of_america/2023_04_08_14_07_04/final_results/parquet/usa/decennial_census_observer/decennial_census_observer_3541.parquet.\u001b[0m\n"
     ]
    },
    {
     "name": "stderr",
     "output_type": "stream",
     "text": [
      "Applying noise: 100%|███████████████████████████████████████████████████████████████████████████████| 8/8 [00:08<00:00,  1.10s/type]\n"
     ]
    },
    {
     "name": "stdout",
     "output_type": "stream",
     "text": [
      "\u001b[32m2023-04-15 00:12:51.085\u001b[0m | \u001b[36mpseudopeople.interface\u001b[0m:\u001b[36m_generate_form\u001b[0m:\u001b[36m68\u001b[0m - \u001b[1mLoading data from /mnt/team/simulation_science/priv/engineering/vivarium_census_prl_synth_pop/results/v2.0_three_censuses/united_states_of_america/2023_04_08_14_07_04/final_results/parquet/usa/decennial_census_observer/decennial_census_observer_3298.parquet.\u001b[0m\n"
     ]
    },
    {
     "name": "stderr",
     "output_type": "stream",
     "text": [
      "Applying noise: 100%|███████████████████████████████████████████████████████████████████████████████| 8/8 [00:08<00:00,  1.11s/type]\n"
     ]
    },
    {
     "name": "stdout",
     "output_type": "stream",
     "text": [
      "\u001b[32m2023-04-15 00:13:07.065\u001b[0m | \u001b[36mpseudopeople.interface\u001b[0m:\u001b[36m_generate_form\u001b[0m:\u001b[36m68\u001b[0m - \u001b[1mLoading data from /mnt/team/simulation_science/priv/engineering/vivarium_census_prl_synth_pop/results/v2.0_three_censuses/united_states_of_america/2023_04_08_14_07_04/final_results/parquet/usa/decennial_census_observer/decennial_census_observer_7125.parquet.\u001b[0m\n"
     ]
    },
    {
     "name": "stderr",
     "output_type": "stream",
     "text": [
      "Applying noise: 100%|███████████████████████████████████████████████████████████████████████████████| 8/8 [00:08<00:00,  1.11s/type]\n"
     ]
    },
    {
     "name": "stdout",
     "output_type": "stream",
     "text": [
      "\u001b[32m2023-04-15 00:13:23.083\u001b[0m | \u001b[36mpseudopeople.interface\u001b[0m:\u001b[36m_generate_form\u001b[0m:\u001b[36m68\u001b[0m - \u001b[1mLoading data from /mnt/team/simulation_science/priv/engineering/vivarium_census_prl_synth_pop/results/v2.0_three_censuses/united_states_of_america/2023_04_08_14_07_04/final_results/parquet/usa/decennial_census_observer/decennial_census_observer_3304.parquet.\u001b[0m\n"
     ]
    },
    {
     "name": "stderr",
     "output_type": "stream",
     "text": [
      "Applying noise: 100%|███████████████████████████████████████████████████████████████████████████████| 8/8 [00:08<00:00,  1.10s/type]\n"
     ]
    },
    {
     "name": "stdout",
     "output_type": "stream",
     "text": [
      "\u001b[32m2023-04-15 00:13:39.039\u001b[0m | \u001b[36mpseudopeople.interface\u001b[0m:\u001b[36m_generate_form\u001b[0m:\u001b[36m68\u001b[0m - \u001b[1mLoading data from /mnt/team/simulation_science/priv/engineering/vivarium_census_prl_synth_pop/results/v2.0_three_censuses/united_states_of_america/2023_04_08_14_07_04/final_results/parquet/usa/decennial_census_observer/decennial_census_observer_6144.parquet.\u001b[0m\n"
     ]
    },
    {
     "name": "stderr",
     "output_type": "stream",
     "text": [
      "Applying noise: 100%|███████████████████████████████████████████████████████████████████████████████| 8/8 [00:08<00:00,  1.11s/type]\n"
     ]
    },
    {
     "name": "stdout",
     "output_type": "stream",
     "text": [
      "\u001b[32m2023-04-15 00:13:54.971\u001b[0m | \u001b[36mpseudopeople.interface\u001b[0m:\u001b[36m_generate_form\u001b[0m:\u001b[36m68\u001b[0m - \u001b[1mLoading data from /mnt/team/simulation_science/priv/engineering/vivarium_census_prl_synth_pop/results/v2.0_three_censuses/united_states_of_america/2023_04_08_14_07_04/final_results/parquet/usa/decennial_census_observer/decennial_census_observer_5831.parquet.\u001b[0m\n"
     ]
    },
    {
     "name": "stderr",
     "output_type": "stream",
     "text": [
      "Applying noise: 100%|███████████████████████████████████████████████████████████████████████████████| 8/8 [00:08<00:00,  1.10s/type]\n"
     ]
    },
    {
     "name": "stdout",
     "output_type": "stream",
     "text": [
      "\u001b[32m2023-04-15 00:14:11.029\u001b[0m | \u001b[36mpseudopeople.interface\u001b[0m:\u001b[36m_generate_form\u001b[0m:\u001b[36m68\u001b[0m - \u001b[1mLoading data from /mnt/team/simulation_science/priv/engineering/vivarium_census_prl_synth_pop/results/v2.0_three_censuses/united_states_of_america/2023_04_08_14_07_04/final_results/parquet/usa/decennial_census_observer/decennial_census_observer_2277.parquet.\u001b[0m\n"
     ]
    },
    {
     "name": "stderr",
     "output_type": "stream",
     "text": [
      "Applying noise: 100%|███████████████████████████████████████████████████████████████████████████████| 8/8 [00:08<00:00,  1.10s/type]\n"
     ]
    },
    {
     "name": "stdout",
     "output_type": "stream",
     "text": [
      "\u001b[32m2023-04-15 00:14:27.063\u001b[0m | \u001b[36mpseudopeople.interface\u001b[0m:\u001b[36m_generate_form\u001b[0m:\u001b[36m68\u001b[0m - \u001b[1mLoading data from /mnt/team/simulation_science/priv/engineering/vivarium_census_prl_synth_pop/results/v2.0_three_censuses/united_states_of_america/2023_04_08_14_07_04/final_results/parquet/usa/decennial_census_observer/decennial_census_observer_386.parquet.\u001b[0m\n"
     ]
    },
    {
     "name": "stderr",
     "output_type": "stream",
     "text": [
      "Applying noise: 100%|███████████████████████████████████████████████████████████████████████████████| 8/8 [00:08<00:00,  1.10s/type]\n"
     ]
    },
    {
     "name": "stdout",
     "output_type": "stream",
     "text": [
      "\u001b[32m2023-04-15 00:14:42.918\u001b[0m | \u001b[36mpseudopeople.interface\u001b[0m:\u001b[36m_generate_form\u001b[0m:\u001b[36m68\u001b[0m - \u001b[1mLoading data from /mnt/team/simulation_science/priv/engineering/vivarium_census_prl_synth_pop/results/v2.0_three_censuses/united_states_of_america/2023_04_08_14_07_04/final_results/parquet/usa/decennial_census_observer/decennial_census_observer_9367.parquet.\u001b[0m\n"
     ]
    },
    {
     "name": "stderr",
     "output_type": "stream",
     "text": [
      "Applying noise: 100%|███████████████████████████████████████████████████████████████████████████████| 8/8 [00:08<00:00,  1.10s/type]\n"
     ]
    },
    {
     "name": "stdout",
     "output_type": "stream",
     "text": [
      "\u001b[32m2023-04-15 00:14:58.867\u001b[0m | \u001b[36mpseudopeople.interface\u001b[0m:\u001b[36m_generate_form\u001b[0m:\u001b[36m68\u001b[0m - \u001b[1mLoading data from /mnt/team/simulation_science/priv/engineering/vivarium_census_prl_synth_pop/results/v2.0_three_censuses/united_states_of_america/2023_04_08_14_07_04/final_results/parquet/usa/decennial_census_observer/decennial_census_observer_9402.parquet.\u001b[0m\n"
     ]
    },
    {
     "name": "stderr",
     "output_type": "stream",
     "text": [
      "Applying noise: 100%|███████████████████████████████████████████████████████████████████████████████| 8/8 [00:08<00:00,  1.12s/type]\n"
     ]
    },
    {
     "name": "stdout",
     "output_type": "stream",
     "text": [
      "\u001b[32m2023-04-15 00:15:14.929\u001b[0m | \u001b[36mpseudopeople.interface\u001b[0m:\u001b[36m_generate_form\u001b[0m:\u001b[36m68\u001b[0m - \u001b[1mLoading data from /mnt/team/simulation_science/priv/engineering/vivarium_census_prl_synth_pop/results/v2.0_three_censuses/united_states_of_america/2023_04_08_14_07_04/final_results/parquet/usa/decennial_census_observer/decennial_census_observer_7850.parquet.\u001b[0m\n"
     ]
    },
    {
     "name": "stderr",
     "output_type": "stream",
     "text": [
      "Applying noise: 100%|███████████████████████████████████████████████████████████████████████████████| 8/8 [00:08<00:00,  1.10s/type]\n"
     ]
    },
    {
     "name": "stdout",
     "output_type": "stream",
     "text": [
      "\u001b[32m2023-04-15 00:15:30.965\u001b[0m | \u001b[36mpseudopeople.interface\u001b[0m:\u001b[36m_generate_form\u001b[0m:\u001b[36m68\u001b[0m - \u001b[1mLoading data from /mnt/team/simulation_science/priv/engineering/vivarium_census_prl_synth_pop/results/v2.0_three_censuses/united_states_of_america/2023_04_08_14_07_04/final_results/parquet/usa/decennial_census_observer/decennial_census_observer_2054.parquet.\u001b[0m\n"
     ]
    },
    {
     "name": "stderr",
     "output_type": "stream",
     "text": [
      "Applying noise: 100%|███████████████████████████████████████████████████████████████████████████████| 8/8 [00:08<00:00,  1.11s/type]\n"
     ]
    },
    {
     "name": "stdout",
     "output_type": "stream",
     "text": [
      "\u001b[32m2023-04-15 00:15:46.917\u001b[0m | \u001b[36mpseudopeople.interface\u001b[0m:\u001b[36m_generate_form\u001b[0m:\u001b[36m68\u001b[0m - \u001b[1mLoading data from /mnt/team/simulation_science/priv/engineering/vivarium_census_prl_synth_pop/results/v2.0_three_censuses/united_states_of_america/2023_04_08_14_07_04/final_results/parquet/usa/decennial_census_observer/decennial_census_observer_2229.parquet.\u001b[0m\n"
     ]
    },
    {
     "name": "stderr",
     "output_type": "stream",
     "text": [
      "Applying noise: 100%|███████████████████████████████████████████████████████████████████████████████| 8/8 [00:08<00:00,  1.11s/type]\n"
     ]
    },
    {
     "name": "stdout",
     "output_type": "stream",
     "text": [
      "\u001b[32m2023-04-15 00:16:02.965\u001b[0m | \u001b[36mpseudopeople.interface\u001b[0m:\u001b[36m_generate_form\u001b[0m:\u001b[36m68\u001b[0m - \u001b[1mLoading data from /mnt/team/simulation_science/priv/engineering/vivarium_census_prl_synth_pop/results/v2.0_three_censuses/united_states_of_america/2023_04_08_14_07_04/final_results/parquet/usa/decennial_census_observer/decennial_census_observer_2965.parquet.\u001b[0m\n"
     ]
    },
    {
     "name": "stderr",
     "output_type": "stream",
     "text": [
      "Applying noise: 100%|███████████████████████████████████████████████████████████████████████████████| 8/8 [00:08<00:00,  1.10s/type]\n"
     ]
    },
    {
     "name": "stdout",
     "output_type": "stream",
     "text": [
      "\u001b[32m2023-04-15 00:16:19.097\u001b[0m | \u001b[36mpseudopeople.interface\u001b[0m:\u001b[36m_generate_form\u001b[0m:\u001b[36m68\u001b[0m - \u001b[1mLoading data from /mnt/team/simulation_science/priv/engineering/vivarium_census_prl_synth_pop/results/v2.0_three_censuses/united_states_of_america/2023_04_08_14_07_04/final_results/parquet/usa/decennial_census_observer/decennial_census_observer_5863.parquet.\u001b[0m\n"
     ]
    },
    {
     "name": "stderr",
     "output_type": "stream",
     "text": [
      "Applying noise: 100%|███████████████████████████████████████████████████████████████████████████████| 8/8 [00:08<00:00,  1.12s/type]\n"
     ]
    },
    {
     "name": "stdout",
     "output_type": "stream",
     "text": [
      "\u001b[32m2023-04-15 00:16:35.211\u001b[0m | \u001b[36mpseudopeople.interface\u001b[0m:\u001b[36m_generate_form\u001b[0m:\u001b[36m68\u001b[0m - \u001b[1mLoading data from /mnt/team/simulation_science/priv/engineering/vivarium_census_prl_synth_pop/results/v2.0_three_censuses/united_states_of_america/2023_04_08_14_07_04/final_results/parquet/usa/decennial_census_observer/decennial_census_observer_8527.parquet.\u001b[0m\n"
     ]
    },
    {
     "name": "stderr",
     "output_type": "stream",
     "text": [
      "Applying noise: 100%|███████████████████████████████████████████████████████████████████████████████| 8/8 [00:08<00:00,  1.11s/type]\n"
     ]
    },
    {
     "name": "stdout",
     "output_type": "stream",
     "text": [
      "\u001b[32m2023-04-15 00:16:51.204\u001b[0m | \u001b[36mpseudopeople.interface\u001b[0m:\u001b[36m_generate_form\u001b[0m:\u001b[36m68\u001b[0m - \u001b[1mLoading data from /mnt/team/simulation_science/priv/engineering/vivarium_census_prl_synth_pop/results/v2.0_three_censuses/united_states_of_america/2023_04_08_14_07_04/final_results/parquet/usa/decennial_census_observer/decennial_census_observer_28.parquet.\u001b[0m\n"
     ]
    },
    {
     "name": "stderr",
     "output_type": "stream",
     "text": [
      "Applying noise: 100%|███████████████████████████████████████████████████████████████████████████████| 8/8 [00:08<00:00,  1.11s/type]\n"
     ]
    },
    {
     "name": "stdout",
     "output_type": "stream",
     "text": [
      "\u001b[32m2023-04-15 00:17:07.280\u001b[0m | \u001b[36mpseudopeople.interface\u001b[0m:\u001b[36m_generate_form\u001b[0m:\u001b[36m68\u001b[0m - \u001b[1mLoading data from /mnt/team/simulation_science/priv/engineering/vivarium_census_prl_synth_pop/results/v2.0_three_censuses/united_states_of_america/2023_04_08_14_07_04/final_results/parquet/usa/decennial_census_observer/decennial_census_observer_7086.parquet.\u001b[0m\n"
     ]
    },
    {
     "name": "stderr",
     "output_type": "stream",
     "text": [
      "Applying noise: 100%|███████████████████████████████████████████████████████████████████████████████| 8/8 [00:08<00:00,  1.10s/type]\n"
     ]
    },
    {
     "name": "stdout",
     "output_type": "stream",
     "text": [
      "\u001b[32m2023-04-15 00:17:23.229\u001b[0m | \u001b[36mpseudopeople.interface\u001b[0m:\u001b[36m_generate_form\u001b[0m:\u001b[36m68\u001b[0m - \u001b[1mLoading data from /mnt/team/simulation_science/priv/engineering/vivarium_census_prl_synth_pop/results/v2.0_three_censuses/united_states_of_america/2023_04_08_14_07_04/final_results/parquet/usa/decennial_census_observer/decennial_census_observer_9247.parquet.\u001b[0m\n"
     ]
    },
    {
     "name": "stderr",
     "output_type": "stream",
     "text": [
      "Applying noise: 100%|███████████████████████████████████████████████████████████████████████████████| 8/8 [00:08<00:00,  1.10s/type]\n"
     ]
    },
    {
     "name": "stdout",
     "output_type": "stream",
     "text": [
      "\u001b[32m2023-04-15 00:17:39.148\u001b[0m | \u001b[36mpseudopeople.interface\u001b[0m:\u001b[36m_generate_form\u001b[0m:\u001b[36m68\u001b[0m - \u001b[1mLoading data from /mnt/team/simulation_science/priv/engineering/vivarium_census_prl_synth_pop/results/v2.0_three_censuses/united_states_of_america/2023_04_08_14_07_04/final_results/parquet/usa/decennial_census_observer/decennial_census_observer_8425.parquet.\u001b[0m\n"
     ]
    },
    {
     "name": "stderr",
     "output_type": "stream",
     "text": [
      "Applying noise: 100%|███████████████████████████████████████████████████████████████████████████████| 8/8 [00:08<00:00,  1.11s/type]\n"
     ]
    },
    {
     "name": "stdout",
     "output_type": "stream",
     "text": [
      "\u001b[32m2023-04-15 00:17:55.084\u001b[0m | \u001b[36mpseudopeople.interface\u001b[0m:\u001b[36m_generate_form\u001b[0m:\u001b[36m68\u001b[0m - \u001b[1mLoading data from /mnt/team/simulation_science/priv/engineering/vivarium_census_prl_synth_pop/results/v2.0_three_censuses/united_states_of_america/2023_04_08_14_07_04/final_results/parquet/usa/decennial_census_observer/decennial_census_observer_5548.parquet.\u001b[0m\n"
     ]
    },
    {
     "name": "stderr",
     "output_type": "stream",
     "text": [
      "Applying noise: 100%|███████████████████████████████████████████████████████████████████████████████| 8/8 [00:08<00:00,  1.10s/type]\n"
     ]
    },
    {
     "name": "stdout",
     "output_type": "stream",
     "text": [
      "\u001b[32m2023-04-15 00:18:11.099\u001b[0m | \u001b[36mpseudopeople.interface\u001b[0m:\u001b[36m_generate_form\u001b[0m:\u001b[36m68\u001b[0m - \u001b[1mLoading data from /mnt/team/simulation_science/priv/engineering/vivarium_census_prl_synth_pop/results/v2.0_three_censuses/united_states_of_america/2023_04_08_14_07_04/final_results/parquet/usa/decennial_census_observer/decennial_census_observer_6118.parquet.\u001b[0m\n"
     ]
    },
    {
     "name": "stderr",
     "output_type": "stream",
     "text": [
      "Applying noise: 100%|███████████████████████████████████████████████████████████████████████████████| 8/8 [00:08<00:00,  1.09s/type]\n"
     ]
    },
    {
     "name": "stdout",
     "output_type": "stream",
     "text": [
      "\u001b[32m2023-04-15 00:18:26.912\u001b[0m | \u001b[36mpseudopeople.interface\u001b[0m:\u001b[36m_generate_form\u001b[0m:\u001b[36m68\u001b[0m - \u001b[1mLoading data from /mnt/team/simulation_science/priv/engineering/vivarium_census_prl_synth_pop/results/v2.0_three_censuses/united_states_of_america/2023_04_08_14_07_04/final_results/parquet/usa/decennial_census_observer/decennial_census_observer_2989.parquet.\u001b[0m\n"
     ]
    },
    {
     "name": "stderr",
     "output_type": "stream",
     "text": [
      "Applying noise: 100%|███████████████████████████████████████████████████████████████████████████████| 8/8 [00:08<00:00,  1.10s/type]\n"
     ]
    },
    {
     "name": "stdout",
     "output_type": "stream",
     "text": [
      "\u001b[32m2023-04-15 00:18:42.827\u001b[0m | \u001b[36mpseudopeople.interface\u001b[0m:\u001b[36m_generate_form\u001b[0m:\u001b[36m68\u001b[0m - \u001b[1mLoading data from /mnt/team/simulation_science/priv/engineering/vivarium_census_prl_synth_pop/results/v2.0_three_censuses/united_states_of_america/2023_04_08_14_07_04/final_results/parquet/usa/decennial_census_observer/decennial_census_observer_4369.parquet.\u001b[0m\n"
     ]
    },
    {
     "name": "stderr",
     "output_type": "stream",
     "text": [
      "Applying noise: 100%|███████████████████████████████████████████████████████████████████████████████| 8/8 [00:08<00:00,  1.11s/type]\n"
     ]
    },
    {
     "name": "stdout",
     "output_type": "stream",
     "text": [
      "\u001b[32m2023-04-15 00:18:58.808\u001b[0m | \u001b[36mpseudopeople.interface\u001b[0m:\u001b[36m_generate_form\u001b[0m:\u001b[36m68\u001b[0m - \u001b[1mLoading data from /mnt/team/simulation_science/priv/engineering/vivarium_census_prl_synth_pop/results/v2.0_three_censuses/united_states_of_america/2023_04_08_14_07_04/final_results/parquet/usa/decennial_census_observer/decennial_census_observer_1597.parquet.\u001b[0m\n"
     ]
    },
    {
     "name": "stderr",
     "output_type": "stream",
     "text": [
      "Applying noise: 100%|███████████████████████████████████████████████████████████████████████████████| 8/8 [00:08<00:00,  1.11s/type]\n"
     ]
    },
    {
     "name": "stdout",
     "output_type": "stream",
     "text": [
      "\u001b[32m2023-04-15 00:19:14.776\u001b[0m | \u001b[36mpseudopeople.interface\u001b[0m:\u001b[36m_generate_form\u001b[0m:\u001b[36m68\u001b[0m - \u001b[1mLoading data from /mnt/team/simulation_science/priv/engineering/vivarium_census_prl_synth_pop/results/v2.0_three_censuses/united_states_of_america/2023_04_08_14_07_04/final_results/parquet/usa/decennial_census_observer/decennial_census_observer_7016.parquet.\u001b[0m\n"
     ]
    },
    {
     "name": "stderr",
     "output_type": "stream",
     "text": [
      "Applying noise: 100%|███████████████████████████████████████████████████████████████████████████████| 8/8 [00:08<00:00,  1.10s/type]\n"
     ]
    },
    {
     "name": "stdout",
     "output_type": "stream",
     "text": [
      "\u001b[32m2023-04-15 00:19:30.677\u001b[0m | \u001b[36mpseudopeople.interface\u001b[0m:\u001b[36m_generate_form\u001b[0m:\u001b[36m68\u001b[0m - \u001b[1mLoading data from /mnt/team/simulation_science/priv/engineering/vivarium_census_prl_synth_pop/results/v2.0_three_censuses/united_states_of_america/2023_04_08_14_07_04/final_results/parquet/usa/decennial_census_observer/decennial_census_observer_771.parquet.\u001b[0m\n"
     ]
    },
    {
     "name": "stderr",
     "output_type": "stream",
     "text": [
      "Applying noise: 100%|███████████████████████████████████████████████████████████████████████████████| 8/8 [00:08<00:00,  1.12s/type]\n"
     ]
    },
    {
     "name": "stdout",
     "output_type": "stream",
     "text": [
      "\u001b[32m2023-04-15 00:19:46.720\u001b[0m | \u001b[36mpseudopeople.interface\u001b[0m:\u001b[36m_generate_form\u001b[0m:\u001b[36m68\u001b[0m - \u001b[1mLoading data from /mnt/team/simulation_science/priv/engineering/vivarium_census_prl_synth_pop/results/v2.0_three_censuses/united_states_of_america/2023_04_08_14_07_04/final_results/parquet/usa/decennial_census_observer/decennial_census_observer_4938.parquet.\u001b[0m\n"
     ]
    },
    {
     "name": "stderr",
     "output_type": "stream",
     "text": [
      "Applying noise: 100%|███████████████████████████████████████████████████████████████████████████████| 8/8 [00:08<00:00,  1.10s/type]\n"
     ]
    },
    {
     "name": "stdout",
     "output_type": "stream",
     "text": [
      "\u001b[32m2023-04-15 00:20:02.768\u001b[0m | \u001b[36mpseudopeople.interface\u001b[0m:\u001b[36m_generate_form\u001b[0m:\u001b[36m68\u001b[0m - \u001b[1mLoading data from /mnt/team/simulation_science/priv/engineering/vivarium_census_prl_synth_pop/results/v2.0_three_censuses/united_states_of_america/2023_04_08_14_07_04/final_results/parquet/usa/decennial_census_observer/decennial_census_observer_5348.parquet.\u001b[0m\n"
     ]
    },
    {
     "name": "stderr",
     "output_type": "stream",
     "text": [
      "Applying noise: 100%|███████████████████████████████████████████████████████████████████████████████| 8/8 [00:08<00:00,  1.09s/type]\n"
     ]
    },
    {
     "name": "stdout",
     "output_type": "stream",
     "text": [
      "\u001b[32m2023-04-15 00:20:18.672\u001b[0m | \u001b[36mpseudopeople.interface\u001b[0m:\u001b[36m_generate_form\u001b[0m:\u001b[36m68\u001b[0m - \u001b[1mLoading data from /mnt/team/simulation_science/priv/engineering/vivarium_census_prl_synth_pop/results/v2.0_three_censuses/united_states_of_america/2023_04_08_14_07_04/final_results/parquet/usa/decennial_census_observer/decennial_census_observer_5616.parquet.\u001b[0m\n"
     ]
    },
    {
     "name": "stderr",
     "output_type": "stream",
     "text": [
      "Applying noise: 100%|███████████████████████████████████████████████████████████████████████████████| 8/8 [00:08<00:00,  1.10s/type]\n"
     ]
    },
    {
     "name": "stdout",
     "output_type": "stream",
     "text": [
      "\u001b[32m2023-04-15 00:20:34.443\u001b[0m | \u001b[36mpseudopeople.interface\u001b[0m:\u001b[36m_generate_form\u001b[0m:\u001b[36m68\u001b[0m - \u001b[1mLoading data from /mnt/team/simulation_science/priv/engineering/vivarium_census_prl_synth_pop/results/v2.0_three_censuses/united_states_of_america/2023_04_08_14_07_04/final_results/parquet/usa/decennial_census_observer/decennial_census_observer_1235.parquet.\u001b[0m\n"
     ]
    },
    {
     "name": "stderr",
     "output_type": "stream",
     "text": [
      "Applying noise: 100%|███████████████████████████████████████████████████████████████████████████████| 8/8 [00:08<00:00,  1.10s/type]\n"
     ]
    },
    {
     "name": "stdout",
     "output_type": "stream",
     "text": [
      "\u001b[32m2023-04-15 00:20:50.444\u001b[0m | \u001b[36mpseudopeople.interface\u001b[0m:\u001b[36m_generate_form\u001b[0m:\u001b[36m68\u001b[0m - \u001b[1mLoading data from /mnt/team/simulation_science/priv/engineering/vivarium_census_prl_synth_pop/results/v2.0_three_censuses/united_states_of_america/2023_04_08_14_07_04/final_results/parquet/usa/decennial_census_observer/decennial_census_observer_4344.parquet.\u001b[0m\n"
     ]
    },
    {
     "name": "stderr",
     "output_type": "stream",
     "text": [
      "Applying noise: 100%|███████████████████████████████████████████████████████████████████████████████| 8/8 [00:08<00:00,  1.10s/type]\n"
     ]
    },
    {
     "name": "stdout",
     "output_type": "stream",
     "text": [
      "\u001b[32m2023-04-15 00:21:06.416\u001b[0m | \u001b[36mpseudopeople.interface\u001b[0m:\u001b[36m_generate_form\u001b[0m:\u001b[36m68\u001b[0m - \u001b[1mLoading data from /mnt/team/simulation_science/priv/engineering/vivarium_census_prl_synth_pop/results/v2.0_three_censuses/united_states_of_america/2023_04_08_14_07_04/final_results/parquet/usa/decennial_census_observer/decennial_census_observer_446.parquet.\u001b[0m\n"
     ]
    },
    {
     "name": "stderr",
     "output_type": "stream",
     "text": [
      "Applying noise: 100%|███████████████████████████████████████████████████████████████████████████████| 8/8 [00:08<00:00,  1.10s/type]\n"
     ]
    },
    {
     "name": "stdout",
     "output_type": "stream",
     "text": [
      "\u001b[32m2023-04-15 00:21:22.353\u001b[0m | \u001b[36mpseudopeople.interface\u001b[0m:\u001b[36m_generate_form\u001b[0m:\u001b[36m68\u001b[0m - \u001b[1mLoading data from /mnt/team/simulation_science/priv/engineering/vivarium_census_prl_synth_pop/results/v2.0_three_censuses/united_states_of_america/2023_04_08_14_07_04/final_results/parquet/usa/decennial_census_observer/decennial_census_observer_5797.parquet.\u001b[0m\n"
     ]
    },
    {
     "name": "stderr",
     "output_type": "stream",
     "text": [
      "Applying noise: 100%|███████████████████████████████████████████████████████████████████████████████| 8/8 [00:08<00:00,  1.10s/type]\n"
     ]
    },
    {
     "name": "stdout",
     "output_type": "stream",
     "text": [
      "\u001b[32m2023-04-15 00:21:38.286\u001b[0m | \u001b[36mpseudopeople.interface\u001b[0m:\u001b[36m_generate_form\u001b[0m:\u001b[36m68\u001b[0m - \u001b[1mLoading data from /mnt/team/simulation_science/priv/engineering/vivarium_census_prl_synth_pop/results/v2.0_three_censuses/united_states_of_america/2023_04_08_14_07_04/final_results/parquet/usa/decennial_census_observer/decennial_census_observer_7359.parquet.\u001b[0m\n"
     ]
    },
    {
     "name": "stderr",
     "output_type": "stream",
     "text": [
      "Applying noise: 100%|███████████████████████████████████████████████████████████████████████████████| 8/8 [00:08<00:00,  1.11s/type]\n"
     ]
    },
    {
     "name": "stdout",
     "output_type": "stream",
     "text": [
      "\u001b[32m2023-04-15 00:21:54.407\u001b[0m | \u001b[36mpseudopeople.interface\u001b[0m:\u001b[36m_generate_form\u001b[0m:\u001b[36m68\u001b[0m - \u001b[1mLoading data from /mnt/team/simulation_science/priv/engineering/vivarium_census_prl_synth_pop/results/v2.0_three_censuses/united_states_of_america/2023_04_08_14_07_04/final_results/parquet/usa/decennial_census_observer/decennial_census_observer_1069.parquet.\u001b[0m\n"
     ]
    },
    {
     "name": "stderr",
     "output_type": "stream",
     "text": [
      "Applying noise: 100%|███████████████████████████████████████████████████████████████████████████████| 8/8 [00:08<00:00,  1.11s/type]\n"
     ]
    },
    {
     "name": "stdout",
     "output_type": "stream",
     "text": [
      "\u001b[32m2023-04-15 00:22:10.419\u001b[0m | \u001b[36mpseudopeople.interface\u001b[0m:\u001b[36m_generate_form\u001b[0m:\u001b[36m68\u001b[0m - \u001b[1mLoading data from /mnt/team/simulation_science/priv/engineering/vivarium_census_prl_synth_pop/results/v2.0_three_censuses/united_states_of_america/2023_04_08_14_07_04/final_results/parquet/usa/decennial_census_observer/decennial_census_observer_7870.parquet.\u001b[0m\n"
     ]
    },
    {
     "name": "stderr",
     "output_type": "stream",
     "text": [
      "Applying noise: 100%|███████████████████████████████████████████████████████████████████████████████| 8/8 [00:08<00:00,  1.11s/type]\n"
     ]
    },
    {
     "name": "stdout",
     "output_type": "stream",
     "text": [
      "\u001b[32m2023-04-15 00:22:26.449\u001b[0m | \u001b[36mpseudopeople.interface\u001b[0m:\u001b[36m_generate_form\u001b[0m:\u001b[36m68\u001b[0m - \u001b[1mLoading data from /mnt/team/simulation_science/priv/engineering/vivarium_census_prl_synth_pop/results/v2.0_three_censuses/united_states_of_america/2023_04_08_14_07_04/final_results/parquet/usa/decennial_census_observer/decennial_census_observer_4922.parquet.\u001b[0m\n"
     ]
    },
    {
     "name": "stderr",
     "output_type": "stream",
     "text": [
      "Applying noise: 100%|███████████████████████████████████████████████████████████████████████████████| 8/8 [00:08<00:00,  1.11s/type]\n"
     ]
    },
    {
     "name": "stdout",
     "output_type": "stream",
     "text": [
      "\u001b[32m2023-04-15 00:22:42.595\u001b[0m | \u001b[36mpseudopeople.interface\u001b[0m:\u001b[36m_generate_form\u001b[0m:\u001b[36m68\u001b[0m - \u001b[1mLoading data from /mnt/team/simulation_science/priv/engineering/vivarium_census_prl_synth_pop/results/v2.0_three_censuses/united_states_of_america/2023_04_08_14_07_04/final_results/parquet/usa/decennial_census_observer/decennial_census_observer_9653.parquet.\u001b[0m\n"
     ]
    },
    {
     "name": "stderr",
     "output_type": "stream",
     "text": [
      "Applying noise: 100%|███████████████████████████████████████████████████████████████████████████████| 8/8 [00:08<00:00,  1.10s/type]\n"
     ]
    },
    {
     "name": "stdout",
     "output_type": "stream",
     "text": [
      "\u001b[32m2023-04-15 00:22:58.596\u001b[0m | \u001b[36mpseudopeople.interface\u001b[0m:\u001b[36m_generate_form\u001b[0m:\u001b[36m68\u001b[0m - \u001b[1mLoading data from /mnt/team/simulation_science/priv/engineering/vivarium_census_prl_synth_pop/results/v2.0_three_censuses/united_states_of_america/2023_04_08_14_07_04/final_results/parquet/usa/decennial_census_observer/decennial_census_observer_432.parquet.\u001b[0m\n"
     ]
    },
    {
     "name": "stderr",
     "output_type": "stream",
     "text": [
      "Applying noise: 100%|███████████████████████████████████████████████████████████████████████████████| 8/8 [00:08<00:00,  1.11s/type]\n"
     ]
    },
    {
     "name": "stdout",
     "output_type": "stream",
     "text": [
      "\u001b[32m2023-04-15 00:23:14.589\u001b[0m | \u001b[36mpseudopeople.interface\u001b[0m:\u001b[36m_generate_form\u001b[0m:\u001b[36m68\u001b[0m - \u001b[1mLoading data from /mnt/team/simulation_science/priv/engineering/vivarium_census_prl_synth_pop/results/v2.0_three_censuses/united_states_of_america/2023_04_08_14_07_04/final_results/parquet/usa/decennial_census_observer/decennial_census_observer_7985.parquet.\u001b[0m\n"
     ]
    },
    {
     "name": "stderr",
     "output_type": "stream",
     "text": [
      "Applying noise: 100%|███████████████████████████████████████████████████████████████████████████████| 8/8 [00:08<00:00,  1.11s/type]\n"
     ]
    },
    {
     "name": "stdout",
     "output_type": "stream",
     "text": [
      "\u001b[32m2023-04-15 00:23:30.579\u001b[0m | \u001b[36mpseudopeople.interface\u001b[0m:\u001b[36m_generate_form\u001b[0m:\u001b[36m68\u001b[0m - \u001b[1mLoading data from /mnt/team/simulation_science/priv/engineering/vivarium_census_prl_synth_pop/results/v2.0_three_censuses/united_states_of_america/2023_04_08_14_07_04/final_results/parquet/usa/decennial_census_observer/decennial_census_observer_6079.parquet.\u001b[0m\n"
     ]
    },
    {
     "name": "stderr",
     "output_type": "stream",
     "text": [
      "Applying noise: 100%|███████████████████████████████████████████████████████████████████████████████| 8/8 [00:08<00:00,  1.11s/type]\n"
     ]
    },
    {
     "name": "stdout",
     "output_type": "stream",
     "text": [
      "\u001b[32m2023-04-15 00:23:46.669\u001b[0m | \u001b[36mpseudopeople.interface\u001b[0m:\u001b[36m_generate_form\u001b[0m:\u001b[36m68\u001b[0m - \u001b[1mLoading data from /mnt/team/simulation_science/priv/engineering/vivarium_census_prl_synth_pop/results/v2.0_three_censuses/united_states_of_america/2023_04_08_14_07_04/final_results/parquet/usa/decennial_census_observer/decennial_census_observer_4400.parquet.\u001b[0m\n"
     ]
    },
    {
     "name": "stderr",
     "output_type": "stream",
     "text": [
      "Applying noise: 100%|███████████████████████████████████████████████████████████████████████████████| 8/8 [00:08<00:00,  1.09s/type]\n"
     ]
    },
    {
     "name": "stdout",
     "output_type": "stream",
     "text": [
      "\u001b[32m2023-04-15 00:24:02.419\u001b[0m | \u001b[36mpseudopeople.interface\u001b[0m:\u001b[36m_generate_form\u001b[0m:\u001b[36m68\u001b[0m - \u001b[1mLoading data from /mnt/team/simulation_science/priv/engineering/vivarium_census_prl_synth_pop/results/v2.0_three_censuses/united_states_of_america/2023_04_08_14_07_04/final_results/parquet/usa/decennial_census_observer/decennial_census_observer_7594.parquet.\u001b[0m\n"
     ]
    },
    {
     "name": "stderr",
     "output_type": "stream",
     "text": [
      "Applying noise: 100%|███████████████████████████████████████████████████████████████████████████████| 8/8 [00:08<00:00,  1.12s/type]\n"
     ]
    },
    {
     "name": "stdout",
     "output_type": "stream",
     "text": [
      "\u001b[32m2023-04-15 00:24:18.479\u001b[0m | \u001b[36mpseudopeople.interface\u001b[0m:\u001b[36m_generate_form\u001b[0m:\u001b[36m68\u001b[0m - \u001b[1mLoading data from /mnt/team/simulation_science/priv/engineering/vivarium_census_prl_synth_pop/results/v2.0_three_censuses/united_states_of_america/2023_04_08_14_07_04/final_results/parquet/usa/decennial_census_observer/decennial_census_observer_8877.parquet.\u001b[0m\n"
     ]
    },
    {
     "name": "stderr",
     "output_type": "stream",
     "text": [
      "Applying noise: 100%|███████████████████████████████████████████████████████████████████████████████| 8/8 [00:08<00:00,  1.10s/type]\n"
     ]
    },
    {
     "name": "stdout",
     "output_type": "stream",
     "text": [
      "\u001b[32m2023-04-15 00:24:34.531\u001b[0m | \u001b[36mpseudopeople.interface\u001b[0m:\u001b[36m_generate_form\u001b[0m:\u001b[36m68\u001b[0m - \u001b[1mLoading data from /mnt/team/simulation_science/priv/engineering/vivarium_census_prl_synth_pop/results/v2.0_three_censuses/united_states_of_america/2023_04_08_14_07_04/final_results/parquet/usa/decennial_census_observer/decennial_census_observer_4943.parquet.\u001b[0m\n"
     ]
    },
    {
     "name": "stderr",
     "output_type": "stream",
     "text": [
      "Applying noise: 100%|███████████████████████████████████████████████████████████████████████████████| 8/8 [00:08<00:00,  1.11s/type]\n"
     ]
    },
    {
     "name": "stdout",
     "output_type": "stream",
     "text": [
      "\u001b[32m2023-04-15 00:24:50.596\u001b[0m | \u001b[36mpseudopeople.interface\u001b[0m:\u001b[36m_generate_form\u001b[0m:\u001b[36m68\u001b[0m - \u001b[1mLoading data from /mnt/team/simulation_science/priv/engineering/vivarium_census_prl_synth_pop/results/v2.0_three_censuses/united_states_of_america/2023_04_08_14_07_04/final_results/parquet/usa/decennial_census_observer/decennial_census_observer_4528.parquet.\u001b[0m\n"
     ]
    },
    {
     "name": "stderr",
     "output_type": "stream",
     "text": [
      "Applying noise: 100%|███████████████████████████████████████████████████████████████████████████████| 8/8 [00:08<00:00,  1.10s/type]\n"
     ]
    },
    {
     "name": "stdout",
     "output_type": "stream",
     "text": [
      "\u001b[32m2023-04-15 00:25:06.559\u001b[0m | \u001b[36mpseudopeople.interface\u001b[0m:\u001b[36m_generate_form\u001b[0m:\u001b[36m68\u001b[0m - \u001b[1mLoading data from /mnt/team/simulation_science/priv/engineering/vivarium_census_prl_synth_pop/results/v2.0_three_censuses/united_states_of_america/2023_04_08_14_07_04/final_results/parquet/usa/decennial_census_observer/decennial_census_observer_5501.parquet.\u001b[0m\n"
     ]
    },
    {
     "name": "stderr",
     "output_type": "stream",
     "text": [
      "Applying noise: 100%|███████████████████████████████████████████████████████████████████████████████| 8/8 [00:08<00:00,  1.10s/type]\n"
     ]
    },
    {
     "name": "stdout",
     "output_type": "stream",
     "text": [
      "\u001b[32m2023-04-15 00:25:22.458\u001b[0m | \u001b[36mpseudopeople.interface\u001b[0m:\u001b[36m_generate_form\u001b[0m:\u001b[36m68\u001b[0m - \u001b[1mLoading data from /mnt/team/simulation_science/priv/engineering/vivarium_census_prl_synth_pop/results/v2.0_three_censuses/united_states_of_america/2023_04_08_14_07_04/final_results/parquet/usa/decennial_census_observer/decennial_census_observer_6701.parquet.\u001b[0m\n"
     ]
    },
    {
     "name": "stderr",
     "output_type": "stream",
     "text": [
      "Applying noise: 100%|███████████████████████████████████████████████████████████████████████████████| 8/8 [00:08<00:00,  1.11s/type]\n"
     ]
    },
    {
     "name": "stdout",
     "output_type": "stream",
     "text": [
      "\u001b[32m2023-04-15 00:25:38.587\u001b[0m | \u001b[36mpseudopeople.interface\u001b[0m:\u001b[36m_generate_form\u001b[0m:\u001b[36m68\u001b[0m - \u001b[1mLoading data from /mnt/team/simulation_science/priv/engineering/vivarium_census_prl_synth_pop/results/v2.0_three_censuses/united_states_of_america/2023_04_08_14_07_04/final_results/parquet/usa/decennial_census_observer/decennial_census_observer_6123.parquet.\u001b[0m\n"
     ]
    },
    {
     "name": "stderr",
     "output_type": "stream",
     "text": [
      "Applying noise: 100%|███████████████████████████████████████████████████████████████████████████████| 8/8 [00:08<00:00,  1.11s/type]\n"
     ]
    },
    {
     "name": "stdout",
     "output_type": "stream",
     "text": [
      "\u001b[32m2023-04-15 00:25:54.535\u001b[0m | \u001b[36mpseudopeople.interface\u001b[0m:\u001b[36m_generate_form\u001b[0m:\u001b[36m68\u001b[0m - \u001b[1mLoading data from /mnt/team/simulation_science/priv/engineering/vivarium_census_prl_synth_pop/results/v2.0_three_censuses/united_states_of_america/2023_04_08_14_07_04/final_results/parquet/usa/decennial_census_observer/decennial_census_observer_1990.parquet.\u001b[0m\n"
     ]
    },
    {
     "name": "stderr",
     "output_type": "stream",
     "text": [
      "Applying noise: 100%|███████████████████████████████████████████████████████████████████████████████| 8/8 [00:08<00:00,  1.10s/type]\n"
     ]
    },
    {
     "name": "stdout",
     "output_type": "stream",
     "text": [
      "\u001b[32m2023-04-15 00:26:10.447\u001b[0m | \u001b[36mpseudopeople.interface\u001b[0m:\u001b[36m_generate_form\u001b[0m:\u001b[36m68\u001b[0m - \u001b[1mLoading data from /mnt/team/simulation_science/priv/engineering/vivarium_census_prl_synth_pop/results/v2.0_three_censuses/united_states_of_america/2023_04_08_14_07_04/final_results/parquet/usa/decennial_census_observer/decennial_census_observer_315.parquet.\u001b[0m\n"
     ]
    },
    {
     "name": "stderr",
     "output_type": "stream",
     "text": [
      "Applying noise: 100%|███████████████████████████████████████████████████████████████████████████████| 8/8 [00:08<00:00,  1.11s/type]\n"
     ]
    },
    {
     "name": "stdout",
     "output_type": "stream",
     "text": [
      "\u001b[32m2023-04-15 00:26:26.499\u001b[0m | \u001b[36mpseudopeople.interface\u001b[0m:\u001b[36m_generate_form\u001b[0m:\u001b[36m68\u001b[0m - \u001b[1mLoading data from /mnt/team/simulation_science/priv/engineering/vivarium_census_prl_synth_pop/results/v2.0_three_censuses/united_states_of_america/2023_04_08_14_07_04/final_results/parquet/usa/decennial_census_observer/decennial_census_observer_1007.parquet.\u001b[0m\n"
     ]
    },
    {
     "name": "stderr",
     "output_type": "stream",
     "text": [
      "Applying noise: 100%|███████████████████████████████████████████████████████████████████████████████| 8/8 [00:08<00:00,  1.12s/type]\n"
     ]
    },
    {
     "name": "stdout",
     "output_type": "stream",
     "text": [
      "\u001b[32m2023-04-15 00:26:42.630\u001b[0m | \u001b[36mpseudopeople.interface\u001b[0m:\u001b[36m_generate_form\u001b[0m:\u001b[36m68\u001b[0m - \u001b[1mLoading data from /mnt/team/simulation_science/priv/engineering/vivarium_census_prl_synth_pop/results/v2.0_three_censuses/united_states_of_america/2023_04_08_14_07_04/final_results/parquet/usa/decennial_census_observer/decennial_census_observer_6090.parquet.\u001b[0m\n"
     ]
    },
    {
     "name": "stderr",
     "output_type": "stream",
     "text": [
      "Applying noise: 100%|███████████████████████████████████████████████████████████████████████████████| 8/8 [00:08<00:00,  1.10s/type]\n"
     ]
    },
    {
     "name": "stdout",
     "output_type": "stream",
     "text": [
      "\u001b[32m2023-04-15 00:26:58.624\u001b[0m | \u001b[36mpseudopeople.interface\u001b[0m:\u001b[36m_generate_form\u001b[0m:\u001b[36m68\u001b[0m - \u001b[1mLoading data from /mnt/team/simulation_science/priv/engineering/vivarium_census_prl_synth_pop/results/v2.0_three_censuses/united_states_of_america/2023_04_08_14_07_04/final_results/parquet/usa/decennial_census_observer/decennial_census_observer_1074.parquet.\u001b[0m\n"
     ]
    },
    {
     "name": "stderr",
     "output_type": "stream",
     "text": [
      "Applying noise: 100%|███████████████████████████████████████████████████████████████████████████████| 8/8 [00:08<00:00,  1.11s/type]\n"
     ]
    },
    {
     "name": "stdout",
     "output_type": "stream",
     "text": [
      "\u001b[32m2023-04-15 00:27:14.825\u001b[0m | \u001b[36mpseudopeople.interface\u001b[0m:\u001b[36m_generate_form\u001b[0m:\u001b[36m68\u001b[0m - \u001b[1mLoading data from /mnt/team/simulation_science/priv/engineering/vivarium_census_prl_synth_pop/results/v2.0_three_censuses/united_states_of_america/2023_04_08_14_07_04/final_results/parquet/usa/decennial_census_observer/decennial_census_observer_3481.parquet.\u001b[0m\n"
     ]
    },
    {
     "name": "stderr",
     "output_type": "stream",
     "text": [
      "Applying noise: 100%|███████████████████████████████████████████████████████████████████████████████| 8/8 [00:09<00:00,  1.15s/type]\n"
     ]
    },
    {
     "name": "stdout",
     "output_type": "stream",
     "text": [
      "\u001b[32m2023-04-15 00:27:31.188\u001b[0m | \u001b[36mpseudopeople.interface\u001b[0m:\u001b[36m_generate_form\u001b[0m:\u001b[36m68\u001b[0m - \u001b[1mLoading data from /mnt/team/simulation_science/priv/engineering/vivarium_census_prl_synth_pop/results/v2.0_three_censuses/united_states_of_america/2023_04_08_14_07_04/final_results/parquet/usa/decennial_census_observer/decennial_census_observer_9187.parquet.\u001b[0m\n"
     ]
    },
    {
     "name": "stderr",
     "output_type": "stream",
     "text": [
      "Applying noise: 100%|███████████████████████████████████████████████████████████████████████████████| 8/8 [00:08<00:00,  1.10s/type]\n"
     ]
    },
    {
     "name": "stdout",
     "output_type": "stream",
     "text": [
      "\u001b[32m2023-04-15 00:27:47.173\u001b[0m | \u001b[36mpseudopeople.interface\u001b[0m:\u001b[36m_generate_form\u001b[0m:\u001b[36m68\u001b[0m - \u001b[1mLoading data from /mnt/team/simulation_science/priv/engineering/vivarium_census_prl_synth_pop/results/v2.0_three_censuses/united_states_of_america/2023_04_08_14_07_04/final_results/parquet/usa/decennial_census_observer/decennial_census_observer_8734.parquet.\u001b[0m\n"
     ]
    },
    {
     "name": "stderr",
     "output_type": "stream",
     "text": [
      "Applying noise: 100%|███████████████████████████████████████████████████████████████████████████████| 8/8 [00:08<00:00,  1.10s/type]\n"
     ]
    },
    {
     "name": "stdout",
     "output_type": "stream",
     "text": [
      "\u001b[32m2023-04-15 00:28:03.125\u001b[0m | \u001b[36mpseudopeople.interface\u001b[0m:\u001b[36m_generate_form\u001b[0m:\u001b[36m68\u001b[0m - \u001b[1mLoading data from /mnt/team/simulation_science/priv/engineering/vivarium_census_prl_synth_pop/results/v2.0_three_censuses/united_states_of_america/2023_04_08_14_07_04/final_results/parquet/usa/decennial_census_observer/decennial_census_observer_3632.parquet.\u001b[0m\n"
     ]
    },
    {
     "name": "stderr",
     "output_type": "stream",
     "text": [
      "Applying noise: 100%|███████████████████████████████████████████████████████████████████████████████| 8/8 [00:08<00:00,  1.11s/type]\n"
     ]
    },
    {
     "name": "stdout",
     "output_type": "stream",
     "text": [
      "\u001b[32m2023-04-15 00:28:19.293\u001b[0m | \u001b[36mpseudopeople.interface\u001b[0m:\u001b[36m_generate_form\u001b[0m:\u001b[36m68\u001b[0m - \u001b[1mLoading data from /mnt/team/simulation_science/priv/engineering/vivarium_census_prl_synth_pop/results/v2.0_three_censuses/united_states_of_america/2023_04_08_14_07_04/final_results/parquet/usa/decennial_census_observer/decennial_census_observer_4255.parquet.\u001b[0m\n"
     ]
    },
    {
     "name": "stderr",
     "output_type": "stream",
     "text": [
      "Applying noise: 100%|███████████████████████████████████████████████████████████████████████████████| 8/8 [00:08<00:00,  1.10s/type]\n"
     ]
    },
    {
     "name": "stdout",
     "output_type": "stream",
     "text": [
      "\u001b[32m2023-04-15 00:28:35.248\u001b[0m | \u001b[36mpseudopeople.interface\u001b[0m:\u001b[36m_generate_form\u001b[0m:\u001b[36m68\u001b[0m - \u001b[1mLoading data from /mnt/team/simulation_science/priv/engineering/vivarium_census_prl_synth_pop/results/v2.0_three_censuses/united_states_of_america/2023_04_08_14_07_04/final_results/parquet/usa/decennial_census_observer/decennial_census_observer_7745.parquet.\u001b[0m\n"
     ]
    },
    {
     "name": "stderr",
     "output_type": "stream",
     "text": [
      "Applying noise: 100%|███████████████████████████████████████████████████████████████████████████████| 8/8 [00:08<00:00,  1.10s/type]\n"
     ]
    },
    {
     "name": "stdout",
     "output_type": "stream",
     "text": [
      "\u001b[32m2023-04-15 00:28:51.159\u001b[0m | \u001b[36mpseudopeople.interface\u001b[0m:\u001b[36m_generate_form\u001b[0m:\u001b[36m68\u001b[0m - \u001b[1mLoading data from /mnt/team/simulation_science/priv/engineering/vivarium_census_prl_synth_pop/results/v2.0_three_censuses/united_states_of_america/2023_04_08_14_07_04/final_results/parquet/usa/decennial_census_observer/decennial_census_observer_6790.parquet.\u001b[0m\n"
     ]
    },
    {
     "name": "stderr",
     "output_type": "stream",
     "text": [
      "Applying noise: 100%|███████████████████████████████████████████████████████████████████████████████| 8/8 [00:08<00:00,  1.11s/type]\n"
     ]
    },
    {
     "name": "stdout",
     "output_type": "stream",
     "text": [
      "\u001b[32m2023-04-15 00:29:07.198\u001b[0m | \u001b[36mpseudopeople.interface\u001b[0m:\u001b[36m_generate_form\u001b[0m:\u001b[36m68\u001b[0m - \u001b[1mLoading data from /mnt/team/simulation_science/priv/engineering/vivarium_census_prl_synth_pop/results/v2.0_three_censuses/united_states_of_america/2023_04_08_14_07_04/final_results/parquet/usa/decennial_census_observer/decennial_census_observer_7938.parquet.\u001b[0m\n"
     ]
    },
    {
     "name": "stderr",
     "output_type": "stream",
     "text": [
      "Applying noise: 100%|███████████████████████████████████████████████████████████████████████████████| 8/8 [00:08<00:00,  1.10s/type]\n"
     ]
    },
    {
     "name": "stdout",
     "output_type": "stream",
     "text": [
      "\u001b[32m2023-04-15 00:29:23.222\u001b[0m | \u001b[36mpseudopeople.interface\u001b[0m:\u001b[36m_generate_form\u001b[0m:\u001b[36m68\u001b[0m - \u001b[1mLoading data from /mnt/team/simulation_science/priv/engineering/vivarium_census_prl_synth_pop/results/v2.0_three_censuses/united_states_of_america/2023_04_08_14_07_04/final_results/parquet/usa/decennial_census_observer/decennial_census_observer_3142.parquet.\u001b[0m\n"
     ]
    },
    {
     "name": "stderr",
     "output_type": "stream",
     "text": [
      "Applying noise: 100%|███████████████████████████████████████████████████████████████████████████████| 8/8 [00:08<00:00,  1.10s/type]\n"
     ]
    },
    {
     "name": "stdout",
     "output_type": "stream",
     "text": [
      "\u001b[32m2023-04-15 00:29:39.199\u001b[0m | \u001b[36mpseudopeople.interface\u001b[0m:\u001b[36m_generate_form\u001b[0m:\u001b[36m68\u001b[0m - \u001b[1mLoading data from /mnt/team/simulation_science/priv/engineering/vivarium_census_prl_synth_pop/results/v2.0_three_censuses/united_states_of_america/2023_04_08_14_07_04/final_results/parquet/usa/decennial_census_observer/decennial_census_observer_5393.parquet.\u001b[0m\n"
     ]
    },
    {
     "name": "stderr",
     "output_type": "stream",
     "text": [
      "Applying noise: 100%|███████████████████████████████████████████████████████████████████████████████| 8/8 [00:08<00:00,  1.12s/type]\n"
     ]
    },
    {
     "name": "stdout",
     "output_type": "stream",
     "text": [
      "\u001b[32m2023-04-15 00:29:55.436\u001b[0m | \u001b[36mpseudopeople.interface\u001b[0m:\u001b[36m_generate_form\u001b[0m:\u001b[36m68\u001b[0m - \u001b[1mLoading data from /mnt/team/simulation_science/priv/engineering/vivarium_census_prl_synth_pop/results/v2.0_three_censuses/united_states_of_america/2023_04_08_14_07_04/final_results/parquet/usa/decennial_census_observer/decennial_census_observer_2047.parquet.\u001b[0m\n"
     ]
    },
    {
     "name": "stderr",
     "output_type": "stream",
     "text": [
      "Applying noise: 100%|███████████████████████████████████████████████████████████████████████████████| 8/8 [00:08<00:00,  1.11s/type]\n"
     ]
    },
    {
     "name": "stdout",
     "output_type": "stream",
     "text": [
      "\u001b[32m2023-04-15 00:30:11.575\u001b[0m | \u001b[36mpseudopeople.interface\u001b[0m:\u001b[36m_generate_form\u001b[0m:\u001b[36m68\u001b[0m - \u001b[1mLoading data from /mnt/team/simulation_science/priv/engineering/vivarium_census_prl_synth_pop/results/v2.0_three_censuses/united_states_of_america/2023_04_08_14_07_04/final_results/parquet/usa/decennial_census_observer/decennial_census_observer_4507.parquet.\u001b[0m\n"
     ]
    },
    {
     "name": "stderr",
     "output_type": "stream",
     "text": [
      "Applying noise: 100%|███████████████████████████████████████████████████████████████████████████████| 8/8 [00:08<00:00,  1.11s/type]\n"
     ]
    },
    {
     "name": "stdout",
     "output_type": "stream",
     "text": [
      "\u001b[32m2023-04-15 00:30:27.617\u001b[0m | \u001b[36mpseudopeople.interface\u001b[0m:\u001b[36m_generate_form\u001b[0m:\u001b[36m68\u001b[0m - \u001b[1mLoading data from /mnt/team/simulation_science/priv/engineering/vivarium_census_prl_synth_pop/results/v2.0_three_censuses/united_states_of_america/2023_04_08_14_07_04/final_results/parquet/usa/decennial_census_observer/decennial_census_observer_6442.parquet.\u001b[0m\n"
     ]
    },
    {
     "name": "stderr",
     "output_type": "stream",
     "text": [
      "Applying noise: 100%|███████████████████████████████████████████████████████████████████████████████| 8/8 [00:08<00:00,  1.10s/type]\n"
     ]
    },
    {
     "name": "stdout",
     "output_type": "stream",
     "text": [
      "\u001b[32m2023-04-15 00:30:43.536\u001b[0m | \u001b[36mpseudopeople.interface\u001b[0m:\u001b[36m_generate_form\u001b[0m:\u001b[36m68\u001b[0m - \u001b[1mLoading data from /mnt/team/simulation_science/priv/engineering/vivarium_census_prl_synth_pop/results/v2.0_three_censuses/united_states_of_america/2023_04_08_14_07_04/final_results/parquet/usa/decennial_census_observer/decennial_census_observer_4202.parquet.\u001b[0m\n"
     ]
    },
    {
     "name": "stderr",
     "output_type": "stream",
     "text": [
      "Applying noise: 100%|███████████████████████████████████████████████████████████████████████████████| 8/8 [00:08<00:00,  1.10s/type]\n"
     ]
    },
    {
     "name": "stdout",
     "output_type": "stream",
     "text": [
      "\u001b[32m2023-04-15 00:30:59.668\u001b[0m | \u001b[36mpseudopeople.interface\u001b[0m:\u001b[36m_generate_form\u001b[0m:\u001b[36m68\u001b[0m - \u001b[1mLoading data from /mnt/team/simulation_science/priv/engineering/vivarium_census_prl_synth_pop/results/v2.0_three_censuses/united_states_of_america/2023_04_08_14_07_04/final_results/parquet/usa/decennial_census_observer/decennial_census_observer_8997.parquet.\u001b[0m\n"
     ]
    },
    {
     "name": "stderr",
     "output_type": "stream",
     "text": [
      "Applying noise: 100%|███████████████████████████████████████████████████████████████████████████████| 8/8 [00:08<00:00,  1.11s/type]\n"
     ]
    },
    {
     "name": "stdout",
     "output_type": "stream",
     "text": [
      "\u001b[32m2023-04-15 00:31:15.645\u001b[0m | \u001b[36mpseudopeople.interface\u001b[0m:\u001b[36m_generate_form\u001b[0m:\u001b[36m68\u001b[0m - \u001b[1mLoading data from /mnt/team/simulation_science/priv/engineering/vivarium_census_prl_synth_pop/results/v2.0_three_censuses/united_states_of_america/2023_04_08_14_07_04/final_results/parquet/usa/decennial_census_observer/decennial_census_observer_860.parquet.\u001b[0m\n"
     ]
    },
    {
     "name": "stderr",
     "output_type": "stream",
     "text": [
      "Applying noise: 100%|███████████████████████████████████████████████████████████████████████████████| 8/8 [00:08<00:00,  1.10s/type]\n"
     ]
    },
    {
     "name": "stdout",
     "output_type": "stream",
     "text": [
      "\u001b[32m2023-04-15 00:31:31.647\u001b[0m | \u001b[36mpseudopeople.interface\u001b[0m:\u001b[36m_generate_form\u001b[0m:\u001b[36m68\u001b[0m - \u001b[1mLoading data from /mnt/team/simulation_science/priv/engineering/vivarium_census_prl_synth_pop/results/v2.0_three_censuses/united_states_of_america/2023_04_08_14_07_04/final_results/parquet/usa/decennial_census_observer/decennial_census_observer_4496.parquet.\u001b[0m\n"
     ]
    },
    {
     "name": "stderr",
     "output_type": "stream",
     "text": [
      "Applying noise: 100%|███████████████████████████████████████████████████████████████████████████████| 8/8 [00:08<00:00,  1.11s/type]\n"
     ]
    },
    {
     "name": "stdout",
     "output_type": "stream",
     "text": [
      "\u001b[32m2023-04-15 00:31:47.690\u001b[0m | \u001b[36mpseudopeople.interface\u001b[0m:\u001b[36m_generate_form\u001b[0m:\u001b[36m68\u001b[0m - \u001b[1mLoading data from /mnt/team/simulation_science/priv/engineering/vivarium_census_prl_synth_pop/results/v2.0_three_censuses/united_states_of_america/2023_04_08_14_07_04/final_results/parquet/usa/decennial_census_observer/decennial_census_observer_9888.parquet.\u001b[0m\n"
     ]
    },
    {
     "name": "stderr",
     "output_type": "stream",
     "text": [
      "Applying noise: 100%|███████████████████████████████████████████████████████████████████████████████| 8/8 [00:08<00:00,  1.11s/type]\n"
     ]
    },
    {
     "name": "stdout",
     "output_type": "stream",
     "text": [
      "\u001b[32m2023-04-15 00:32:03.792\u001b[0m | \u001b[36mpseudopeople.interface\u001b[0m:\u001b[36m_generate_form\u001b[0m:\u001b[36m68\u001b[0m - \u001b[1mLoading data from /mnt/team/simulation_science/priv/engineering/vivarium_census_prl_synth_pop/results/v2.0_three_censuses/united_states_of_america/2023_04_08_14_07_04/final_results/parquet/usa/decennial_census_observer/decennial_census_observer_131.parquet.\u001b[0m\n"
     ]
    },
    {
     "name": "stderr",
     "output_type": "stream",
     "text": [
      "Applying noise: 100%|███████████████████████████████████████████████████████████████████████████████| 8/8 [00:08<00:00,  1.10s/type]\n"
     ]
    },
    {
     "name": "stdout",
     "output_type": "stream",
     "text": [
      "\u001b[32m2023-04-15 00:32:19.727\u001b[0m | \u001b[36mpseudopeople.interface\u001b[0m:\u001b[36m_generate_form\u001b[0m:\u001b[36m68\u001b[0m - \u001b[1mLoading data from /mnt/team/simulation_science/priv/engineering/vivarium_census_prl_synth_pop/results/v2.0_three_censuses/united_states_of_america/2023_04_08_14_07_04/final_results/parquet/usa/decennial_census_observer/decennial_census_observer_107.parquet.\u001b[0m\n"
     ]
    },
    {
     "name": "stderr",
     "output_type": "stream",
     "text": [
      "Applying noise: 100%|███████████████████████████████████████████████████████████████████████████████| 8/8 [00:08<00:00,  1.09s/type]\n"
     ]
    },
    {
     "name": "stdout",
     "output_type": "stream",
     "text": [
      "\u001b[32m2023-04-15 00:32:35.579\u001b[0m | \u001b[36mpseudopeople.interface\u001b[0m:\u001b[36m_generate_form\u001b[0m:\u001b[36m68\u001b[0m - \u001b[1mLoading data from /mnt/team/simulation_science/priv/engineering/vivarium_census_prl_synth_pop/results/v2.0_three_censuses/united_states_of_america/2023_04_08_14_07_04/final_results/parquet/usa/decennial_census_observer/decennial_census_observer_1933.parquet.\u001b[0m\n"
     ]
    },
    {
     "name": "stderr",
     "output_type": "stream",
     "text": [
      "Applying noise: 100%|███████████████████████████████████████████████████████████████████████████████| 8/8 [00:08<00:00,  1.11s/type]\n"
     ]
    },
    {
     "name": "stdout",
     "output_type": "stream",
     "text": [
      "\u001b[32m2023-04-15 00:32:51.589\u001b[0m | \u001b[36mpseudopeople.interface\u001b[0m:\u001b[36m_generate_form\u001b[0m:\u001b[36m68\u001b[0m - \u001b[1mLoading data from /mnt/team/simulation_science/priv/engineering/vivarium_census_prl_synth_pop/results/v2.0_three_censuses/united_states_of_america/2023_04_08_14_07_04/final_results/parquet/usa/decennial_census_observer/decennial_census_observer_3374.parquet.\u001b[0m\n"
     ]
    },
    {
     "name": "stderr",
     "output_type": "stream",
     "text": [
      "Applying noise: 100%|███████████████████████████████████████████████████████████████████████████████| 8/8 [00:08<00:00,  1.10s/type]\n"
     ]
    },
    {
     "name": "stdout",
     "output_type": "stream",
     "text": [
      "\u001b[32m2023-04-15 00:33:07.509\u001b[0m | \u001b[36mpseudopeople.interface\u001b[0m:\u001b[36m_generate_form\u001b[0m:\u001b[36m68\u001b[0m - \u001b[1mLoading data from /mnt/team/simulation_science/priv/engineering/vivarium_census_prl_synth_pop/results/v2.0_three_censuses/united_states_of_america/2023_04_08_14_07_04/final_results/parquet/usa/decennial_census_observer/decennial_census_observer_5698.parquet.\u001b[0m\n"
     ]
    },
    {
     "name": "stderr",
     "output_type": "stream",
     "text": [
      "Applying noise: 100%|███████████████████████████████████████████████████████████████████████████████| 8/8 [00:08<00:00,  1.10s/type]\n"
     ]
    },
    {
     "name": "stdout",
     "output_type": "stream",
     "text": [
      "\u001b[32m2023-04-15 00:33:23.483\u001b[0m | \u001b[36mpseudopeople.interface\u001b[0m:\u001b[36m_generate_form\u001b[0m:\u001b[36m68\u001b[0m - \u001b[1mLoading data from /mnt/team/simulation_science/priv/engineering/vivarium_census_prl_synth_pop/results/v2.0_three_censuses/united_states_of_america/2023_04_08_14_07_04/final_results/parquet/usa/decennial_census_observer/decennial_census_observer_2787.parquet.\u001b[0m\n"
     ]
    },
    {
     "name": "stderr",
     "output_type": "stream",
     "text": [
      "Applying noise: 100%|███████████████████████████████████████████████████████████████████████████████| 8/8 [00:08<00:00,  1.11s/type]\n"
     ]
    },
    {
     "name": "stdout",
     "output_type": "stream",
     "text": [
      "\u001b[32m2023-04-15 00:33:39.517\u001b[0m | \u001b[36mpseudopeople.interface\u001b[0m:\u001b[36m_generate_form\u001b[0m:\u001b[36m68\u001b[0m - \u001b[1mLoading data from /mnt/team/simulation_science/priv/engineering/vivarium_census_prl_synth_pop/results/v2.0_three_censuses/united_states_of_america/2023_04_08_14_07_04/final_results/parquet/usa/decennial_census_observer/decennial_census_observer_1753.parquet.\u001b[0m\n"
     ]
    },
    {
     "name": "stderr",
     "output_type": "stream",
     "text": [
      "Applying noise: 100%|███████████████████████████████████████████████████████████████████████████████| 8/8 [00:08<00:00,  1.11s/type]\n"
     ]
    },
    {
     "name": "stdout",
     "output_type": "stream",
     "text": [
      "\u001b[32m2023-04-15 00:33:55.550\u001b[0m | \u001b[36mpseudopeople.interface\u001b[0m:\u001b[36m_generate_form\u001b[0m:\u001b[36m68\u001b[0m - \u001b[1mLoading data from /mnt/team/simulation_science/priv/engineering/vivarium_census_prl_synth_pop/results/v2.0_three_censuses/united_states_of_america/2023_04_08_14_07_04/final_results/parquet/usa/decennial_census_observer/decennial_census_observer_6760.parquet.\u001b[0m\n"
     ]
    },
    {
     "name": "stderr",
     "output_type": "stream",
     "text": [
      "Applying noise: 100%|███████████████████████████████████████████████████████████████████████████████| 8/8 [00:08<00:00,  1.11s/type]\n"
     ]
    },
    {
     "name": "stdout",
     "output_type": "stream",
     "text": [
      "\u001b[32m2023-04-15 00:34:11.546\u001b[0m | \u001b[36mpseudopeople.interface\u001b[0m:\u001b[36m_generate_form\u001b[0m:\u001b[36m68\u001b[0m - \u001b[1mLoading data from /mnt/team/simulation_science/priv/engineering/vivarium_census_prl_synth_pop/results/v2.0_three_censuses/united_states_of_america/2023_04_08_14_07_04/final_results/parquet/usa/decennial_census_observer/decennial_census_observer_6793.parquet.\u001b[0m\n"
     ]
    },
    {
     "name": "stderr",
     "output_type": "stream",
     "text": [
      "Applying noise: 100%|███████████████████████████████████████████████████████████████████████████████| 8/8 [00:08<00:00,  1.11s/type]\n"
     ]
    },
    {
     "name": "stdout",
     "output_type": "stream",
     "text": [
      "\u001b[32m2023-04-15 00:34:27.651\u001b[0m | \u001b[36mpseudopeople.interface\u001b[0m:\u001b[36m_generate_form\u001b[0m:\u001b[36m68\u001b[0m - \u001b[1mLoading data from /mnt/team/simulation_science/priv/engineering/vivarium_census_prl_synth_pop/results/v2.0_three_censuses/united_states_of_america/2023_04_08_14_07_04/final_results/parquet/usa/decennial_census_observer/decennial_census_observer_1897.parquet.\u001b[0m\n"
     ]
    },
    {
     "name": "stderr",
     "output_type": "stream",
     "text": [
      "Applying noise: 100%|███████████████████████████████████████████████████████████████████████████████| 8/8 [00:08<00:00,  1.10s/type]\n"
     ]
    },
    {
     "name": "stdout",
     "output_type": "stream",
     "text": [
      "\u001b[32m2023-04-15 00:34:43.697\u001b[0m | \u001b[36mpseudopeople.interface\u001b[0m:\u001b[36m_generate_form\u001b[0m:\u001b[36m68\u001b[0m - \u001b[1mLoading data from /mnt/team/simulation_science/priv/engineering/vivarium_census_prl_synth_pop/results/v2.0_three_censuses/united_states_of_america/2023_04_08_14_07_04/final_results/parquet/usa/decennial_census_observer/decennial_census_observer_3591.parquet.\u001b[0m\n"
     ]
    },
    {
     "name": "stderr",
     "output_type": "stream",
     "text": [
      "Applying noise: 100%|███████████████████████████████████████████████████████████████████████████████| 8/8 [00:08<00:00,  1.10s/type]\n"
     ]
    },
    {
     "name": "stdout",
     "output_type": "stream",
     "text": [
      "\u001b[32m2023-04-15 00:34:59.717\u001b[0m | \u001b[36mpseudopeople.interface\u001b[0m:\u001b[36m_generate_form\u001b[0m:\u001b[36m68\u001b[0m - \u001b[1mLoading data from /mnt/team/simulation_science/priv/engineering/vivarium_census_prl_synth_pop/results/v2.0_three_censuses/united_states_of_america/2023_04_08_14_07_04/final_results/parquet/usa/decennial_census_observer/decennial_census_observer_1632.parquet.\u001b[0m\n"
     ]
    },
    {
     "name": "stderr",
     "output_type": "stream",
     "text": [
      "Applying noise: 100%|███████████████████████████████████████████████████████████████████████████████| 8/8 [00:08<00:00,  1.11s/type]\n"
     ]
    },
    {
     "name": "stdout",
     "output_type": "stream",
     "text": [
      "\u001b[32m2023-04-15 00:35:15.743\u001b[0m | \u001b[36mpseudopeople.interface\u001b[0m:\u001b[36m_generate_form\u001b[0m:\u001b[36m68\u001b[0m - \u001b[1mLoading data from /mnt/team/simulation_science/priv/engineering/vivarium_census_prl_synth_pop/results/v2.0_three_censuses/united_states_of_america/2023_04_08_14_07_04/final_results/parquet/usa/decennial_census_observer/decennial_census_observer_5246.parquet.\u001b[0m\n"
     ]
    },
    {
     "name": "stderr",
     "output_type": "stream",
     "text": [
      "Applying noise: 100%|███████████████████████████████████████████████████████████████████████████████| 8/8 [00:08<00:00,  1.10s/type]\n"
     ]
    },
    {
     "name": "stdout",
     "output_type": "stream",
     "text": [
      "\u001b[32m2023-04-15 00:35:31.779\u001b[0m | \u001b[36mpseudopeople.interface\u001b[0m:\u001b[36m_generate_form\u001b[0m:\u001b[36m68\u001b[0m - \u001b[1mLoading data from /mnt/team/simulation_science/priv/engineering/vivarium_census_prl_synth_pop/results/v2.0_three_censuses/united_states_of_america/2023_04_08_14_07_04/final_results/parquet/usa/decennial_census_observer/decennial_census_observer_8838.parquet.\u001b[0m\n"
     ]
    },
    {
     "name": "stderr",
     "output_type": "stream",
     "text": [
      "Applying noise: 100%|███████████████████████████████████████████████████████████████████████████████| 8/8 [00:08<00:00,  1.10s/type]\n"
     ]
    },
    {
     "name": "stdout",
     "output_type": "stream",
     "text": [
      "\u001b[32m2023-04-15 00:35:47.679\u001b[0m | \u001b[36mpseudopeople.interface\u001b[0m:\u001b[36m_generate_form\u001b[0m:\u001b[36m68\u001b[0m - \u001b[1mLoading data from /mnt/team/simulation_science/priv/engineering/vivarium_census_prl_synth_pop/results/v2.0_three_censuses/united_states_of_america/2023_04_08_14_07_04/final_results/parquet/usa/decennial_census_observer/decennial_census_observer_6654.parquet.\u001b[0m\n"
     ]
    },
    {
     "name": "stderr",
     "output_type": "stream",
     "text": [
      "Applying noise: 100%|███████████████████████████████████████████████████████████████████████████████| 8/8 [00:08<00:00,  1.10s/type]\n"
     ]
    },
    {
     "name": "stdout",
     "output_type": "stream",
     "text": [
      "\u001b[32m2023-04-15 00:36:03.660\u001b[0m | \u001b[36mpseudopeople.interface\u001b[0m:\u001b[36m_generate_form\u001b[0m:\u001b[36m68\u001b[0m - \u001b[1mLoading data from /mnt/team/simulation_science/priv/engineering/vivarium_census_prl_synth_pop/results/v2.0_three_censuses/united_states_of_america/2023_04_08_14_07_04/final_results/parquet/usa/decennial_census_observer/decennial_census_observer_8755.parquet.\u001b[0m\n"
     ]
    },
    {
     "name": "stderr",
     "output_type": "stream",
     "text": [
      "Applying noise: 100%|███████████████████████████████████████████████████████████████████████████████| 8/8 [00:08<00:00,  1.11s/type]\n"
     ]
    },
    {
     "name": "stdout",
     "output_type": "stream",
     "text": [
      "\u001b[32m2023-04-15 00:36:19.730\u001b[0m | \u001b[36mpseudopeople.interface\u001b[0m:\u001b[36m_generate_form\u001b[0m:\u001b[36m68\u001b[0m - \u001b[1mLoading data from /mnt/team/simulation_science/priv/engineering/vivarium_census_prl_synth_pop/results/v2.0_three_censuses/united_states_of_america/2023_04_08_14_07_04/final_results/parquet/usa/decennial_census_observer/decennial_census_observer_9588.parquet.\u001b[0m\n"
     ]
    },
    {
     "name": "stderr",
     "output_type": "stream",
     "text": [
      "Applying noise: 100%|███████████████████████████████████████████████████████████████████████████████| 8/8 [00:08<00:00,  1.12s/type]\n"
     ]
    },
    {
     "name": "stdout",
     "output_type": "stream",
     "text": [
      "\u001b[32m2023-04-15 00:36:35.877\u001b[0m | \u001b[36mpseudopeople.interface\u001b[0m:\u001b[36m_generate_form\u001b[0m:\u001b[36m68\u001b[0m - \u001b[1mLoading data from /mnt/team/simulation_science/priv/engineering/vivarium_census_prl_synth_pop/results/v2.0_three_censuses/united_states_of_america/2023_04_08_14_07_04/final_results/parquet/usa/decennial_census_observer/decennial_census_observer_8133.parquet.\u001b[0m\n"
     ]
    },
    {
     "name": "stderr",
     "output_type": "stream",
     "text": [
      "Applying noise: 100%|███████████████████████████████████████████████████████████████████████████████| 8/8 [00:08<00:00,  1.10s/type]\n"
     ]
    },
    {
     "name": "stdout",
     "output_type": "stream",
     "text": [
      "\u001b[32m2023-04-15 00:36:51.901\u001b[0m | \u001b[36mpseudopeople.interface\u001b[0m:\u001b[36m_generate_form\u001b[0m:\u001b[36m68\u001b[0m - \u001b[1mLoading data from /mnt/team/simulation_science/priv/engineering/vivarium_census_prl_synth_pop/results/v2.0_three_censuses/united_states_of_america/2023_04_08_14_07_04/final_results/parquet/usa/decennial_census_observer/decennial_census_observer_6800.parquet.\u001b[0m\n"
     ]
    },
    {
     "name": "stderr",
     "output_type": "stream",
     "text": [
      "Applying noise: 100%|███████████████████████████████████████████████████████████████████████████████| 8/8 [00:08<00:00,  1.11s/type]\n"
     ]
    },
    {
     "name": "stdout",
     "output_type": "stream",
     "text": [
      "\u001b[32m2023-04-15 00:37:07.870\u001b[0m | \u001b[36mpseudopeople.interface\u001b[0m:\u001b[36m_generate_form\u001b[0m:\u001b[36m68\u001b[0m - \u001b[1mLoading data from /mnt/team/simulation_science/priv/engineering/vivarium_census_prl_synth_pop/results/v2.0_three_censuses/united_states_of_america/2023_04_08_14_07_04/final_results/parquet/usa/decennial_census_observer/decennial_census_observer_8501.parquet.\u001b[0m\n"
     ]
    },
    {
     "name": "stderr",
     "output_type": "stream",
     "text": [
      "Applying noise: 100%|███████████████████████████████████████████████████████████████████████████████| 8/8 [00:08<00:00,  1.11s/type]\n"
     ]
    },
    {
     "name": "stdout",
     "output_type": "stream",
     "text": [
      "\u001b[32m2023-04-15 00:37:23.909\u001b[0m | \u001b[36mpseudopeople.interface\u001b[0m:\u001b[36m_generate_form\u001b[0m:\u001b[36m68\u001b[0m - \u001b[1mLoading data from /mnt/team/simulation_science/priv/engineering/vivarium_census_prl_synth_pop/results/v2.0_three_censuses/united_states_of_america/2023_04_08_14_07_04/final_results/parquet/usa/decennial_census_observer/decennial_census_observer_3167.parquet.\u001b[0m\n"
     ]
    },
    {
     "name": "stderr",
     "output_type": "stream",
     "text": [
      "Applying noise: 100%|███████████████████████████████████████████████████████████████████████████████| 8/8 [00:08<00:00,  1.12s/type]\n"
     ]
    },
    {
     "name": "stdout",
     "output_type": "stream",
     "text": [
      "\u001b[32m2023-04-15 00:37:40.059\u001b[0m | \u001b[36mpseudopeople.interface\u001b[0m:\u001b[36m_generate_form\u001b[0m:\u001b[36m68\u001b[0m - \u001b[1mLoading data from /mnt/team/simulation_science/priv/engineering/vivarium_census_prl_synth_pop/results/v2.0_three_censuses/united_states_of_america/2023_04_08_14_07_04/final_results/parquet/usa/decennial_census_observer/decennial_census_observer_7927.parquet.\u001b[0m\n"
     ]
    },
    {
     "name": "stderr",
     "output_type": "stream",
     "text": [
      "Applying noise: 100%|███████████████████████████████████████████████████████████████████████████████| 8/8 [00:08<00:00,  1.10s/type]\n"
     ]
    },
    {
     "name": "stdout",
     "output_type": "stream",
     "text": [
      "\u001b[32m2023-04-15 00:37:56.003\u001b[0m | \u001b[36mpseudopeople.interface\u001b[0m:\u001b[36m_generate_form\u001b[0m:\u001b[36m68\u001b[0m - \u001b[1mLoading data from /mnt/team/simulation_science/priv/engineering/vivarium_census_prl_synth_pop/results/v2.0_three_censuses/united_states_of_america/2023_04_08_14_07_04/final_results/parquet/usa/decennial_census_observer/decennial_census_observer_4260.parquet.\u001b[0m\n"
     ]
    },
    {
     "name": "stderr",
     "output_type": "stream",
     "text": [
      "Applying noise: 100%|███████████████████████████████████████████████████████████████████████████████| 8/8 [00:08<00:00,  1.11s/type]\n"
     ]
    },
    {
     "name": "stdout",
     "output_type": "stream",
     "text": [
      "\u001b[32m2023-04-15 00:38:11.993\u001b[0m | \u001b[36mpseudopeople.interface\u001b[0m:\u001b[36m_generate_form\u001b[0m:\u001b[36m68\u001b[0m - \u001b[1mLoading data from /mnt/team/simulation_science/priv/engineering/vivarium_census_prl_synth_pop/results/v2.0_three_censuses/united_states_of_america/2023_04_08_14_07_04/final_results/parquet/usa/decennial_census_observer/decennial_census_observer_4802.parquet.\u001b[0m\n"
     ]
    },
    {
     "name": "stderr",
     "output_type": "stream",
     "text": [
      "Applying noise: 100%|███████████████████████████████████████████████████████████████████████████████| 8/8 [00:08<00:00,  1.10s/type]\n"
     ]
    },
    {
     "name": "stdout",
     "output_type": "stream",
     "text": [
      "\u001b[32m2023-04-15 00:38:27.936\u001b[0m | \u001b[36mpseudopeople.interface\u001b[0m:\u001b[36m_generate_form\u001b[0m:\u001b[36m68\u001b[0m - \u001b[1mLoading data from /mnt/team/simulation_science/priv/engineering/vivarium_census_prl_synth_pop/results/v2.0_three_censuses/united_states_of_america/2023_04_08_14_07_04/final_results/parquet/usa/decennial_census_observer/decennial_census_observer_6519.parquet.\u001b[0m\n"
     ]
    },
    {
     "name": "stderr",
     "output_type": "stream",
     "text": [
      "Applying noise: 100%|███████████████████████████████████████████████████████████████████████████████| 8/8 [00:08<00:00,  1.11s/type]\n"
     ]
    },
    {
     "name": "stdout",
     "output_type": "stream",
     "text": [
      "\u001b[32m2023-04-15 00:38:43.993\u001b[0m | \u001b[36mpseudopeople.interface\u001b[0m:\u001b[36m_generate_form\u001b[0m:\u001b[36m68\u001b[0m - \u001b[1mLoading data from /mnt/team/simulation_science/priv/engineering/vivarium_census_prl_synth_pop/results/v2.0_three_censuses/united_states_of_america/2023_04_08_14_07_04/final_results/parquet/usa/decennial_census_observer/decennial_census_observer_338.parquet.\u001b[0m\n"
     ]
    },
    {
     "name": "stderr",
     "output_type": "stream",
     "text": [
      "Applying noise: 100%|███████████████████████████████████████████████████████████████████████████████| 8/8 [00:08<00:00,  1.10s/type]\n"
     ]
    },
    {
     "name": "stdout",
     "output_type": "stream",
     "text": [
      "\u001b[32m2023-04-15 00:39:00.065\u001b[0m | \u001b[36mpseudopeople.interface\u001b[0m:\u001b[36m_generate_form\u001b[0m:\u001b[36m68\u001b[0m - \u001b[1mLoading data from /mnt/team/simulation_science/priv/engineering/vivarium_census_prl_synth_pop/results/v2.0_three_censuses/united_states_of_america/2023_04_08_14_07_04/final_results/parquet/usa/decennial_census_observer/decennial_census_observer_3093.parquet.\u001b[0m\n"
     ]
    },
    {
     "name": "stderr",
     "output_type": "stream",
     "text": [
      "Applying noise: 100%|███████████████████████████████████████████████████████████████████████████████| 8/8 [00:08<00:00,  1.09s/type]\n"
     ]
    },
    {
     "name": "stdout",
     "output_type": "stream",
     "text": [
      "\u001b[32m2023-04-15 00:39:15.977\u001b[0m | \u001b[36mpseudopeople.interface\u001b[0m:\u001b[36m_generate_form\u001b[0m:\u001b[36m68\u001b[0m - \u001b[1mLoading data from /mnt/team/simulation_science/priv/engineering/vivarium_census_prl_synth_pop/results/v2.0_three_censuses/united_states_of_america/2023_04_08_14_07_04/final_results/parquet/usa/decennial_census_observer/decennial_census_observer_103.parquet.\u001b[0m\n"
     ]
    },
    {
     "name": "stderr",
     "output_type": "stream",
     "text": [
      "Applying noise: 100%|███████████████████████████████████████████████████████████████████████████████| 8/8 [00:08<00:00,  1.11s/type]\n"
     ]
    },
    {
     "name": "stdout",
     "output_type": "stream",
     "text": [
      "\u001b[32m2023-04-15 00:39:32.105\u001b[0m | \u001b[36mpseudopeople.interface\u001b[0m:\u001b[36m_generate_form\u001b[0m:\u001b[36m68\u001b[0m - \u001b[1mLoading data from /mnt/team/simulation_science/priv/engineering/vivarium_census_prl_synth_pop/results/v2.0_three_censuses/united_states_of_america/2023_04_08_14_07_04/final_results/parquet/usa/decennial_census_observer/decennial_census_observer_6455.parquet.\u001b[0m\n"
     ]
    },
    {
     "name": "stderr",
     "output_type": "stream",
     "text": [
      "Applying noise: 100%|███████████████████████████████████████████████████████████████████████████████| 8/8 [00:08<00:00,  1.10s/type]\n"
     ]
    },
    {
     "name": "stdout",
     "output_type": "stream",
     "text": [
      "\u001b[32m2023-04-15 00:39:48.078\u001b[0m | \u001b[36mpseudopeople.interface\u001b[0m:\u001b[36m_generate_form\u001b[0m:\u001b[36m68\u001b[0m - \u001b[1mLoading data from /mnt/team/simulation_science/priv/engineering/vivarium_census_prl_synth_pop/results/v2.0_three_censuses/united_states_of_america/2023_04_08_14_07_04/final_results/parquet/usa/decennial_census_observer/decennial_census_observer_9911.parquet.\u001b[0m\n"
     ]
    },
    {
     "name": "stderr",
     "output_type": "stream",
     "text": [
      "Applying noise: 100%|███████████████████████████████████████████████████████████████████████████████| 8/8 [00:08<00:00,  1.11s/type]\n"
     ]
    },
    {
     "name": "stdout",
     "output_type": "stream",
     "text": [
      "\u001b[32m2023-04-15 00:40:04.092\u001b[0m | \u001b[36mpseudopeople.interface\u001b[0m:\u001b[36m_generate_form\u001b[0m:\u001b[36m68\u001b[0m - \u001b[1mLoading data from /mnt/team/simulation_science/priv/engineering/vivarium_census_prl_synth_pop/results/v2.0_three_censuses/united_states_of_america/2023_04_08_14_07_04/final_results/parquet/usa/decennial_census_observer/decennial_census_observer_7438.parquet.\u001b[0m\n"
     ]
    },
    {
     "name": "stderr",
     "output_type": "stream",
     "text": [
      "Applying noise: 100%|███████████████████████████████████████████████████████████████████████████████| 8/8 [00:08<00:00,  1.10s/type]\n"
     ]
    },
    {
     "name": "stdout",
     "output_type": "stream",
     "text": [
      "\u001b[32m2023-04-15 00:40:20.205\u001b[0m | \u001b[36mpseudopeople.interface\u001b[0m:\u001b[36m_generate_form\u001b[0m:\u001b[36m68\u001b[0m - \u001b[1mLoading data from /mnt/team/simulation_science/priv/engineering/vivarium_census_prl_synth_pop/results/v2.0_three_censuses/united_states_of_america/2023_04_08_14_07_04/final_results/parquet/usa/decennial_census_observer/decennial_census_observer_2284.parquet.\u001b[0m\n"
     ]
    },
    {
     "name": "stderr",
     "output_type": "stream",
     "text": [
      "Applying noise: 100%|███████████████████████████████████████████████████████████████████████████████| 8/8 [00:08<00:00,  1.12s/type]\n"
     ]
    },
    {
     "name": "stdout",
     "output_type": "stream",
     "text": [
      "\u001b[32m2023-04-15 00:40:36.333\u001b[0m | \u001b[36mpseudopeople.interface\u001b[0m:\u001b[36m_generate_form\u001b[0m:\u001b[36m68\u001b[0m - \u001b[1mLoading data from /mnt/team/simulation_science/priv/engineering/vivarium_census_prl_synth_pop/results/v2.0_three_censuses/united_states_of_america/2023_04_08_14_07_04/final_results/parquet/usa/decennial_census_observer/decennial_census_observer_9272.parquet.\u001b[0m\n"
     ]
    },
    {
     "name": "stderr",
     "output_type": "stream",
     "text": [
      "Applying noise: 100%|███████████████████████████████████████████████████████████████████████████████| 8/8 [00:08<00:00,  1.10s/type]\n"
     ]
    },
    {
     "name": "stdout",
     "output_type": "stream",
     "text": [
      "\u001b[32m2023-04-15 00:40:52.339\u001b[0m | \u001b[36mpseudopeople.interface\u001b[0m:\u001b[36m_generate_form\u001b[0m:\u001b[36m68\u001b[0m - \u001b[1mLoading data from /mnt/team/simulation_science/priv/engineering/vivarium_census_prl_synth_pop/results/v2.0_three_censuses/united_states_of_america/2023_04_08_14_07_04/final_results/parquet/usa/decennial_census_observer/decennial_census_observer_8628.parquet.\u001b[0m\n"
     ]
    },
    {
     "name": "stderr",
     "output_type": "stream",
     "text": [
      "Applying noise: 100%|███████████████████████████████████████████████████████████████████████████████| 8/8 [00:08<00:00,  1.10s/type]\n"
     ]
    },
    {
     "name": "stdout",
     "output_type": "stream",
     "text": [
      "\u001b[32m2023-04-15 00:41:08.362\u001b[0m | \u001b[36mpseudopeople.interface\u001b[0m:\u001b[36m_generate_form\u001b[0m:\u001b[36m68\u001b[0m - \u001b[1mLoading data from /mnt/team/simulation_science/priv/engineering/vivarium_census_prl_synth_pop/results/v2.0_three_censuses/united_states_of_america/2023_04_08_14_07_04/final_results/parquet/usa/decennial_census_observer/decennial_census_observer_1508.parquet.\u001b[0m\n"
     ]
    },
    {
     "name": "stderr",
     "output_type": "stream",
     "text": [
      "Applying noise: 100%|███████████████████████████████████████████████████████████████████████████████| 8/8 [00:08<00:00,  1.12s/type]\n"
     ]
    },
    {
     "name": "stdout",
     "output_type": "stream",
     "text": [
      "\u001b[32m2023-04-15 00:41:24.499\u001b[0m | \u001b[36mpseudopeople.interface\u001b[0m:\u001b[36m_generate_form\u001b[0m:\u001b[36m68\u001b[0m - \u001b[1mLoading data from /mnt/team/simulation_science/priv/engineering/vivarium_census_prl_synth_pop/results/v2.0_three_censuses/united_states_of_america/2023_04_08_14_07_04/final_results/parquet/usa/decennial_census_observer/decennial_census_observer_6520.parquet.\u001b[0m\n"
     ]
    },
    {
     "name": "stderr",
     "output_type": "stream",
     "text": [
      "Applying noise: 100%|███████████████████████████████████████████████████████████████████████████████| 8/8 [00:08<00:00,  1.10s/type]\n"
     ]
    },
    {
     "name": "stdout",
     "output_type": "stream",
     "text": [
      "\u001b[32m2023-04-15 00:41:40.489\u001b[0m | \u001b[36mpseudopeople.interface\u001b[0m:\u001b[36m_generate_form\u001b[0m:\u001b[36m68\u001b[0m - \u001b[1mLoading data from /mnt/team/simulation_science/priv/engineering/vivarium_census_prl_synth_pop/results/v2.0_three_censuses/united_states_of_america/2023_04_08_14_07_04/final_results/parquet/usa/decennial_census_observer/decennial_census_observer_5188.parquet.\u001b[0m\n"
     ]
    },
    {
     "name": "stderr",
     "output_type": "stream",
     "text": [
      "Applying noise: 100%|███████████████████████████████████████████████████████████████████████████████| 8/8 [00:08<00:00,  1.10s/type]\n"
     ]
    },
    {
     "name": "stdout",
     "output_type": "stream",
     "text": [
      "\u001b[32m2023-04-15 00:41:56.461\u001b[0m | \u001b[36mpseudopeople.interface\u001b[0m:\u001b[36m_generate_form\u001b[0m:\u001b[36m68\u001b[0m - \u001b[1mLoading data from /mnt/team/simulation_science/priv/engineering/vivarium_census_prl_synth_pop/results/v2.0_three_censuses/united_states_of_america/2023_04_08_14_07_04/final_results/parquet/usa/decennial_census_observer/decennial_census_observer_3377.parquet.\u001b[0m\n"
     ]
    },
    {
     "name": "stderr",
     "output_type": "stream",
     "text": [
      "Applying noise: 100%|███████████████████████████████████████████████████████████████████████████████| 8/8 [00:08<00:00,  1.11s/type]\n"
     ]
    },
    {
     "name": "stdout",
     "output_type": "stream",
     "text": [
      "\u001b[32m2023-04-15 00:42:12.462\u001b[0m | \u001b[36mpseudopeople.interface\u001b[0m:\u001b[36m_generate_form\u001b[0m:\u001b[36m68\u001b[0m - \u001b[1mLoading data from /mnt/team/simulation_science/priv/engineering/vivarium_census_prl_synth_pop/results/v2.0_three_censuses/united_states_of_america/2023_04_08_14_07_04/final_results/parquet/usa/decennial_census_observer/decennial_census_observer_974.parquet.\u001b[0m\n"
     ]
    },
    {
     "name": "stderr",
     "output_type": "stream",
     "text": [
      "Applying noise: 100%|███████████████████████████████████████████████████████████████████████████████| 8/8 [00:08<00:00,  1.11s/type]\n"
     ]
    },
    {
     "name": "stdout",
     "output_type": "stream",
     "text": [
      "\u001b[32m2023-04-15 00:42:28.565\u001b[0m | \u001b[36mpseudopeople.interface\u001b[0m:\u001b[36m_generate_form\u001b[0m:\u001b[36m68\u001b[0m - \u001b[1mLoading data from /mnt/team/simulation_science/priv/engineering/vivarium_census_prl_synth_pop/results/v2.0_three_censuses/united_states_of_america/2023_04_08_14_07_04/final_results/parquet/usa/decennial_census_observer/decennial_census_observer_2311.parquet.\u001b[0m\n"
     ]
    },
    {
     "name": "stderr",
     "output_type": "stream",
     "text": [
      "Applying noise: 100%|███████████████████████████████████████████████████████████████████████████████| 8/8 [00:08<00:00,  1.11s/type]\n"
     ]
    },
    {
     "name": "stdout",
     "output_type": "stream",
     "text": [
      "\u001b[32m2023-04-15 00:42:44.520\u001b[0m | \u001b[36mpseudopeople.interface\u001b[0m:\u001b[36m_generate_form\u001b[0m:\u001b[36m68\u001b[0m - \u001b[1mLoading data from /mnt/team/simulation_science/priv/engineering/vivarium_census_prl_synth_pop/results/v2.0_three_censuses/united_states_of_america/2023_04_08_14_07_04/final_results/parquet/usa/decennial_census_observer/decennial_census_observer_278.parquet.\u001b[0m\n"
     ]
    },
    {
     "name": "stderr",
     "output_type": "stream",
     "text": [
      "Applying noise: 100%|███████████████████████████████████████████████████████████████████████████████| 8/8 [00:08<00:00,  1.11s/type]\n"
     ]
    },
    {
     "name": "stdout",
     "output_type": "stream",
     "text": [
      "\u001b[32m2023-04-15 00:43:00.642\u001b[0m | \u001b[36mpseudopeople.interface\u001b[0m:\u001b[36m_generate_form\u001b[0m:\u001b[36m68\u001b[0m - \u001b[1mLoading data from /mnt/team/simulation_science/priv/engineering/vivarium_census_prl_synth_pop/results/v2.0_three_censuses/united_states_of_america/2023_04_08_14_07_04/final_results/parquet/usa/decennial_census_observer/decennial_census_observer_821.parquet.\u001b[0m\n"
     ]
    },
    {
     "name": "stderr",
     "output_type": "stream",
     "text": [
      "Applying noise: 100%|███████████████████████████████████████████████████████████████████████████████| 8/8 [00:08<00:00,  1.10s/type]\n"
     ]
    },
    {
     "name": "stdout",
     "output_type": "stream",
     "text": [
      "\u001b[32m2023-04-15 00:43:16.681\u001b[0m | \u001b[36mpseudopeople.interface\u001b[0m:\u001b[36m_generate_form\u001b[0m:\u001b[36m68\u001b[0m - \u001b[1mLoading data from /mnt/team/simulation_science/priv/engineering/vivarium_census_prl_synth_pop/results/v2.0_three_censuses/united_states_of_america/2023_04_08_14_07_04/final_results/parquet/usa/decennial_census_observer/decennial_census_observer_1562.parquet.\u001b[0m\n"
     ]
    },
    {
     "name": "stderr",
     "output_type": "stream",
     "text": [
      "Applying noise: 100%|███████████████████████████████████████████████████████████████████████████████| 8/8 [00:08<00:00,  1.11s/type]\n"
     ]
    },
    {
     "name": "stdout",
     "output_type": "stream",
     "text": [
      "\u001b[32m2023-04-15 00:43:32.750\u001b[0m | \u001b[36mpseudopeople.interface\u001b[0m:\u001b[36m_generate_form\u001b[0m:\u001b[36m68\u001b[0m - \u001b[1mLoading data from /mnt/team/simulation_science/priv/engineering/vivarium_census_prl_synth_pop/results/v2.0_three_censuses/united_states_of_america/2023_04_08_14_07_04/final_results/parquet/usa/decennial_census_observer/decennial_census_observer_2476.parquet.\u001b[0m\n"
     ]
    },
    {
     "name": "stderr",
     "output_type": "stream",
     "text": [
      "Applying noise: 100%|███████████████████████████████████████████████████████████████████████████████| 8/8 [00:08<00:00,  1.11s/type]\n"
     ]
    },
    {
     "name": "stdout",
     "output_type": "stream",
     "text": [
      "\u001b[32m2023-04-15 00:43:48.874\u001b[0m | \u001b[36mpseudopeople.interface\u001b[0m:\u001b[36m_generate_form\u001b[0m:\u001b[36m68\u001b[0m - \u001b[1mLoading data from /mnt/team/simulation_science/priv/engineering/vivarium_census_prl_synth_pop/results/v2.0_three_censuses/united_states_of_america/2023_04_08_14_07_04/final_results/parquet/usa/decennial_census_observer/decennial_census_observer_7645.parquet.\u001b[0m\n"
     ]
    },
    {
     "name": "stderr",
     "output_type": "stream",
     "text": [
      "Applying noise: 100%|███████████████████████████████████████████████████████████████████████████████| 8/8 [00:08<00:00,  1.12s/type]\n"
     ]
    },
    {
     "name": "stdout",
     "output_type": "stream",
     "text": [
      "\u001b[32m2023-04-15 00:44:04.990\u001b[0m | \u001b[36mpseudopeople.interface\u001b[0m:\u001b[36m_generate_form\u001b[0m:\u001b[36m68\u001b[0m - \u001b[1mLoading data from /mnt/team/simulation_science/priv/engineering/vivarium_census_prl_synth_pop/results/v2.0_three_censuses/united_states_of_america/2023_04_08_14_07_04/final_results/parquet/usa/decennial_census_observer/decennial_census_observer_5969.parquet.\u001b[0m\n"
     ]
    },
    {
     "name": "stderr",
     "output_type": "stream",
     "text": [
      "Applying noise: 100%|███████████████████████████████████████████████████████████████████████████████| 8/8 [00:08<00:00,  1.10s/type]\n"
     ]
    },
    {
     "name": "stdout",
     "output_type": "stream",
     "text": [
      "\u001b[32m2023-04-15 00:44:21.006\u001b[0m | \u001b[36mpseudopeople.interface\u001b[0m:\u001b[36m_generate_form\u001b[0m:\u001b[36m68\u001b[0m - \u001b[1mLoading data from /mnt/team/simulation_science/priv/engineering/vivarium_census_prl_synth_pop/results/v2.0_three_censuses/united_states_of_america/2023_04_08_14_07_04/final_results/parquet/usa/decennial_census_observer/decennial_census_observer_1648.parquet.\u001b[0m\n"
     ]
    },
    {
     "name": "stderr",
     "output_type": "stream",
     "text": [
      "Applying noise: 100%|███████████████████████████████████████████████████████████████████████████████| 8/8 [00:08<00:00,  1.12s/type]\n"
     ]
    },
    {
     "name": "stdout",
     "output_type": "stream",
     "text": [
      "\u001b[32m2023-04-15 00:44:37.209\u001b[0m | \u001b[36mpseudopeople.interface\u001b[0m:\u001b[36m_generate_form\u001b[0m:\u001b[36m68\u001b[0m - \u001b[1mLoading data from /mnt/team/simulation_science/priv/engineering/vivarium_census_prl_synth_pop/results/v2.0_three_censuses/united_states_of_america/2023_04_08_14_07_04/final_results/parquet/usa/decennial_census_observer/decennial_census_observer_6207.parquet.\u001b[0m\n"
     ]
    },
    {
     "name": "stderr",
     "output_type": "stream",
     "text": [
      "Applying noise: 100%|███████████████████████████████████████████████████████████████████████████████| 8/8 [00:08<00:00,  1.11s/type]\n"
     ]
    },
    {
     "name": "stdout",
     "output_type": "stream",
     "text": [
      "\u001b[32m2023-04-15 00:44:53.282\u001b[0m | \u001b[36mpseudopeople.interface\u001b[0m:\u001b[36m_generate_form\u001b[0m:\u001b[36m68\u001b[0m - \u001b[1mLoading data from /mnt/team/simulation_science/priv/engineering/vivarium_census_prl_synth_pop/results/v2.0_three_censuses/united_states_of_america/2023_04_08_14_07_04/final_results/parquet/usa/decennial_census_observer/decennial_census_observer_1655.parquet.\u001b[0m\n"
     ]
    },
    {
     "name": "stderr",
     "output_type": "stream",
     "text": [
      "Applying noise: 100%|███████████████████████████████████████████████████████████████████████████████| 8/8 [00:09<00:00,  1.13s/type]\n"
     ]
    },
    {
     "name": "stdout",
     "output_type": "stream",
     "text": [
      "\u001b[32m2023-04-15 00:45:09.385\u001b[0m | \u001b[36mpseudopeople.interface\u001b[0m:\u001b[36m_generate_form\u001b[0m:\u001b[36m68\u001b[0m - \u001b[1mLoading data from /mnt/team/simulation_science/priv/engineering/vivarium_census_prl_synth_pop/results/v2.0_three_censuses/united_states_of_america/2023_04_08_14_07_04/final_results/parquet/usa/decennial_census_observer/decennial_census_observer_2477.parquet.\u001b[0m\n"
     ]
    },
    {
     "name": "stderr",
     "output_type": "stream",
     "text": [
      "Applying noise: 100%|███████████████████████████████████████████████████████████████████████████████| 8/8 [00:08<00:00,  1.12s/type]\n"
     ]
    },
    {
     "name": "stdout",
     "output_type": "stream",
     "text": [
      "\u001b[32m2023-04-15 00:45:25.481\u001b[0m | \u001b[36mpseudopeople.interface\u001b[0m:\u001b[36m_generate_form\u001b[0m:\u001b[36m68\u001b[0m - \u001b[1mLoading data from /mnt/team/simulation_science/priv/engineering/vivarium_census_prl_synth_pop/results/v2.0_three_censuses/united_states_of_america/2023_04_08_14_07_04/final_results/parquet/usa/decennial_census_observer/decennial_census_observer_5046.parquet.\u001b[0m\n"
     ]
    },
    {
     "name": "stderr",
     "output_type": "stream",
     "text": [
      "Applying noise: 100%|███████████████████████████████████████████████████████████████████████████████| 8/8 [00:08<00:00,  1.11s/type]\n"
     ]
    },
    {
     "name": "stdout",
     "output_type": "stream",
     "text": [
      "\u001b[32m2023-04-15 00:45:41.422\u001b[0m | \u001b[36mpseudopeople.interface\u001b[0m:\u001b[36m_generate_form\u001b[0m:\u001b[36m68\u001b[0m - \u001b[1mLoading data from /mnt/team/simulation_science/priv/engineering/vivarium_census_prl_synth_pop/results/v2.0_three_censuses/united_states_of_america/2023_04_08_14_07_04/final_results/parquet/usa/decennial_census_observer/decennial_census_observer_6991.parquet.\u001b[0m\n"
     ]
    },
    {
     "name": "stderr",
     "output_type": "stream",
     "text": [
      "Applying noise: 100%|███████████████████████████████████████████████████████████████████████████████| 8/8 [00:08<00:00,  1.11s/type]\n"
     ]
    },
    {
     "name": "stdout",
     "output_type": "stream",
     "text": [
      "\u001b[32m2023-04-15 00:45:57.419\u001b[0m | \u001b[36mpseudopeople.interface\u001b[0m:\u001b[36m_generate_form\u001b[0m:\u001b[36m68\u001b[0m - \u001b[1mLoading data from /mnt/team/simulation_science/priv/engineering/vivarium_census_prl_synth_pop/results/v2.0_three_censuses/united_states_of_america/2023_04_08_14_07_04/final_results/parquet/usa/decennial_census_observer/decennial_census_observer_4672.parquet.\u001b[0m\n"
     ]
    },
    {
     "name": "stderr",
     "output_type": "stream",
     "text": [
      "Applying noise: 100%|███████████████████████████████████████████████████████████████████████████████| 8/8 [00:08<00:00,  1.11s/type]\n"
     ]
    },
    {
     "name": "stdout",
     "output_type": "stream",
     "text": [
      "\u001b[32m2023-04-15 00:46:13.387\u001b[0m | \u001b[36mpseudopeople.interface\u001b[0m:\u001b[36m_generate_form\u001b[0m:\u001b[36m68\u001b[0m - \u001b[1mLoading data from /mnt/team/simulation_science/priv/engineering/vivarium_census_prl_synth_pop/results/v2.0_three_censuses/united_states_of_america/2023_04_08_14_07_04/final_results/parquet/usa/decennial_census_observer/decennial_census_observer_4203.parquet.\u001b[0m\n"
     ]
    },
    {
     "name": "stderr",
     "output_type": "stream",
     "text": [
      "Applying noise: 100%|███████████████████████████████████████████████████████████████████████████████| 8/8 [00:08<00:00,  1.11s/type]\n"
     ]
    },
    {
     "name": "stdout",
     "output_type": "stream",
     "text": [
      "\u001b[32m2023-04-15 00:46:29.485\u001b[0m | \u001b[36mpseudopeople.interface\u001b[0m:\u001b[36m_generate_form\u001b[0m:\u001b[36m68\u001b[0m - \u001b[1mLoading data from /mnt/team/simulation_science/priv/engineering/vivarium_census_prl_synth_pop/results/v2.0_three_censuses/united_states_of_america/2023_04_08_14_07_04/final_results/parquet/usa/decennial_census_observer/decennial_census_observer_9847.parquet.\u001b[0m\n"
     ]
    },
    {
     "name": "stderr",
     "output_type": "stream",
     "text": [
      "Applying noise: 100%|███████████████████████████████████████████████████████████████████████████████| 8/8 [00:08<00:00,  1.11s/type]\n"
     ]
    },
    {
     "name": "stdout",
     "output_type": "stream",
     "text": [
      "\u001b[32m2023-04-15 00:46:45.415\u001b[0m | \u001b[36mpseudopeople.interface\u001b[0m:\u001b[36m_generate_form\u001b[0m:\u001b[36m68\u001b[0m - \u001b[1mLoading data from /mnt/team/simulation_science/priv/engineering/vivarium_census_prl_synth_pop/results/v2.0_three_censuses/united_states_of_america/2023_04_08_14_07_04/final_results/parquet/usa/decennial_census_observer/decennial_census_observer_9871.parquet.\u001b[0m\n"
     ]
    },
    {
     "name": "stderr",
     "output_type": "stream",
     "text": [
      "Applying noise: 100%|███████████████████████████████████████████████████████████████████████████████| 8/8 [00:08<00:00,  1.11s/type]\n"
     ]
    },
    {
     "name": "stdout",
     "output_type": "stream",
     "text": [
      "\u001b[32m2023-04-15 00:47:01.468\u001b[0m | \u001b[36mpseudopeople.interface\u001b[0m:\u001b[36m_generate_form\u001b[0m:\u001b[36m68\u001b[0m - \u001b[1mLoading data from /mnt/team/simulation_science/priv/engineering/vivarium_census_prl_synth_pop/results/v2.0_three_censuses/united_states_of_america/2023_04_08_14_07_04/final_results/parquet/usa/decennial_census_observer/decennial_census_observer_7164.parquet.\u001b[0m\n"
     ]
    },
    {
     "name": "stderr",
     "output_type": "stream",
     "text": [
      "Applying noise: 100%|███████████████████████████████████████████████████████████████████████████████| 8/8 [00:08<00:00,  1.11s/type]\n"
     ]
    },
    {
     "name": "stdout",
     "output_type": "stream",
     "text": [
      "\u001b[32m2023-04-15 00:47:17.616\u001b[0m | \u001b[36mpseudopeople.interface\u001b[0m:\u001b[36m_generate_form\u001b[0m:\u001b[36m68\u001b[0m - \u001b[1mLoading data from /mnt/team/simulation_science/priv/engineering/vivarium_census_prl_synth_pop/results/v2.0_three_censuses/united_states_of_america/2023_04_08_14_07_04/final_results/parquet/usa/decennial_census_observer/decennial_census_observer_1061.parquet.\u001b[0m\n"
     ]
    },
    {
     "name": "stderr",
     "output_type": "stream",
     "text": [
      "Applying noise: 100%|███████████████████████████████████████████████████████████████████████████████| 8/8 [00:08<00:00,  1.11s/type]\n"
     ]
    },
    {
     "name": "stdout",
     "output_type": "stream",
     "text": [
      "\u001b[32m2023-04-15 00:47:33.675\u001b[0m | \u001b[36mpseudopeople.interface\u001b[0m:\u001b[36m_generate_form\u001b[0m:\u001b[36m68\u001b[0m - \u001b[1mLoading data from /mnt/team/simulation_science/priv/engineering/vivarium_census_prl_synth_pop/results/v2.0_three_censuses/united_states_of_america/2023_04_08_14_07_04/final_results/parquet/usa/decennial_census_observer/decennial_census_observer_3586.parquet.\u001b[0m\n"
     ]
    },
    {
     "name": "stderr",
     "output_type": "stream",
     "text": [
      "Applying noise: 100%|███████████████████████████████████████████████████████████████████████████████| 8/8 [00:08<00:00,  1.11s/type]\n"
     ]
    },
    {
     "name": "stdout",
     "output_type": "stream",
     "text": [
      "\u001b[32m2023-04-15 00:47:49.698\u001b[0m | \u001b[36mpseudopeople.interface\u001b[0m:\u001b[36m_generate_form\u001b[0m:\u001b[36m68\u001b[0m - \u001b[1mLoading data from /mnt/team/simulation_science/priv/engineering/vivarium_census_prl_synth_pop/results/v2.0_three_censuses/united_states_of_america/2023_04_08_14_07_04/final_results/parquet/usa/decennial_census_observer/decennial_census_observer_9549.parquet.\u001b[0m\n"
     ]
    },
    {
     "name": "stderr",
     "output_type": "stream",
     "text": [
      "Applying noise: 100%|███████████████████████████████████████████████████████████████████████████████| 8/8 [00:08<00:00,  1.12s/type]\n"
     ]
    },
    {
     "name": "stdout",
     "output_type": "stream",
     "text": [
      "\u001b[32m2023-04-15 00:48:05.903\u001b[0m | \u001b[36mpseudopeople.interface\u001b[0m:\u001b[36m_generate_form\u001b[0m:\u001b[36m68\u001b[0m - \u001b[1mLoading data from /mnt/team/simulation_science/priv/engineering/vivarium_census_prl_synth_pop/results/v2.0_three_censuses/united_states_of_america/2023_04_08_14_07_04/final_results/parquet/usa/decennial_census_observer/decennial_census_observer_1777.parquet.\u001b[0m\n"
     ]
    },
    {
     "name": "stderr",
     "output_type": "stream",
     "text": [
      "Applying noise: 100%|███████████████████████████████████████████████████████████████████████████████| 8/8 [00:08<00:00,  1.10s/type]\n"
     ]
    },
    {
     "name": "stdout",
     "output_type": "stream",
     "text": [
      "\u001b[32m2023-04-15 00:48:21.862\u001b[0m | \u001b[36mpseudopeople.interface\u001b[0m:\u001b[36m_generate_form\u001b[0m:\u001b[36m68\u001b[0m - \u001b[1mLoading data from /mnt/team/simulation_science/priv/engineering/vivarium_census_prl_synth_pop/results/v2.0_three_censuses/united_states_of_america/2023_04_08_14_07_04/final_results/parquet/usa/decennial_census_observer/decennial_census_observer_1091.parquet.\u001b[0m\n"
     ]
    },
    {
     "name": "stderr",
     "output_type": "stream",
     "text": [
      "Applying noise: 100%|███████████████████████████████████████████████████████████████████████████████| 8/8 [00:08<00:00,  1.10s/type]\n"
     ]
    },
    {
     "name": "stdout",
     "output_type": "stream",
     "text": [
      "\u001b[32m2023-04-15 00:48:37.961\u001b[0m | \u001b[36mpseudopeople.interface\u001b[0m:\u001b[36m_generate_form\u001b[0m:\u001b[36m68\u001b[0m - \u001b[1mLoading data from /mnt/team/simulation_science/priv/engineering/vivarium_census_prl_synth_pop/results/v2.0_three_censuses/united_states_of_america/2023_04_08_14_07_04/final_results/parquet/usa/decennial_census_observer/decennial_census_observer_7275.parquet.\u001b[0m\n"
     ]
    },
    {
     "name": "stderr",
     "output_type": "stream",
     "text": [
      "Applying noise: 100%|███████████████████████████████████████████████████████████████████████████████| 8/8 [00:08<00:00,  1.11s/type]\n"
     ]
    },
    {
     "name": "stdout",
     "output_type": "stream",
     "text": [
      "\u001b[32m2023-04-15 00:48:53.947\u001b[0m | \u001b[36mpseudopeople.interface\u001b[0m:\u001b[36m_generate_form\u001b[0m:\u001b[36m68\u001b[0m - \u001b[1mLoading data from /mnt/team/simulation_science/priv/engineering/vivarium_census_prl_synth_pop/results/v2.0_three_censuses/united_states_of_america/2023_04_08_14_07_04/final_results/parquet/usa/decennial_census_observer/decennial_census_observer_4743.parquet.\u001b[0m\n"
     ]
    },
    {
     "name": "stderr",
     "output_type": "stream",
     "text": [
      "Applying noise: 100%|███████████████████████████████████████████████████████████████████████████████| 8/8 [00:08<00:00,  1.12s/type]\n"
     ]
    },
    {
     "name": "stdout",
     "output_type": "stream",
     "text": [
      "\u001b[32m2023-04-15 00:49:10.024\u001b[0m | \u001b[36mpseudopeople.interface\u001b[0m:\u001b[36m_generate_form\u001b[0m:\u001b[36m68\u001b[0m - \u001b[1mLoading data from /mnt/team/simulation_science/priv/engineering/vivarium_census_prl_synth_pop/results/v2.0_three_censuses/united_states_of_america/2023_04_08_14_07_04/final_results/parquet/usa/decennial_census_observer/decennial_census_observer_3621.parquet.\u001b[0m\n"
     ]
    },
    {
     "name": "stderr",
     "output_type": "stream",
     "text": [
      "Applying noise: 100%|███████████████████████████████████████████████████████████████████████████████| 8/8 [00:08<00:00,  1.11s/type]\n"
     ]
    },
    {
     "name": "stdout",
     "output_type": "stream",
     "text": [
      "\u001b[32m2023-04-15 00:49:26.051\u001b[0m | \u001b[36mpseudopeople.interface\u001b[0m:\u001b[36m_generate_form\u001b[0m:\u001b[36m68\u001b[0m - \u001b[1mLoading data from /mnt/team/simulation_science/priv/engineering/vivarium_census_prl_synth_pop/results/v2.0_three_censuses/united_states_of_america/2023_04_08_14_07_04/final_results/parquet/usa/decennial_census_observer/decennial_census_observer_1282.parquet.\u001b[0m\n"
     ]
    },
    {
     "name": "stderr",
     "output_type": "stream",
     "text": [
      "Applying noise: 100%|███████████████████████████████████████████████████████████████████████████████| 8/8 [00:08<00:00,  1.11s/type]\n"
     ]
    },
    {
     "name": "stdout",
     "output_type": "stream",
     "text": [
      "\u001b[32m2023-04-15 00:49:42.298\u001b[0m | \u001b[36mpseudopeople.interface\u001b[0m:\u001b[36m_generate_form\u001b[0m:\u001b[36m68\u001b[0m - \u001b[1mLoading data from /mnt/team/simulation_science/priv/engineering/vivarium_census_prl_synth_pop/results/v2.0_three_censuses/united_states_of_america/2023_04_08_14_07_04/final_results/parquet/usa/decennial_census_observer/decennial_census_observer_8221.parquet.\u001b[0m\n"
     ]
    },
    {
     "name": "stderr",
     "output_type": "stream",
     "text": [
      "Applying noise: 100%|███████████████████████████████████████████████████████████████████████████████| 8/8 [00:08<00:00,  1.12s/type]\n"
     ]
    },
    {
     "name": "stdout",
     "output_type": "stream",
     "text": [
      "\u001b[32m2023-04-15 00:49:58.516\u001b[0m | \u001b[36mpseudopeople.interface\u001b[0m:\u001b[36m_generate_form\u001b[0m:\u001b[36m68\u001b[0m - \u001b[1mLoading data from /mnt/team/simulation_science/priv/engineering/vivarium_census_prl_synth_pop/results/v2.0_three_censuses/united_states_of_america/2023_04_08_14_07_04/final_results/parquet/usa/decennial_census_observer/decennial_census_observer_6324.parquet.\u001b[0m\n"
     ]
    },
    {
     "name": "stderr",
     "output_type": "stream",
     "text": [
      "Applying noise: 100%|███████████████████████████████████████████████████████████████████████████████| 8/8 [00:08<00:00,  1.12s/type]\n"
     ]
    },
    {
     "name": "stdout",
     "output_type": "stream",
     "text": [
      "\u001b[32m2023-04-15 00:50:14.670\u001b[0m | \u001b[36mpseudopeople.interface\u001b[0m:\u001b[36m_generate_form\u001b[0m:\u001b[36m68\u001b[0m - \u001b[1mLoading data from /mnt/team/simulation_science/priv/engineering/vivarium_census_prl_synth_pop/results/v2.0_three_censuses/united_states_of_america/2023_04_08_14_07_04/final_results/parquet/usa/decennial_census_observer/decennial_census_observer_1362.parquet.\u001b[0m\n"
     ]
    },
    {
     "name": "stderr",
     "output_type": "stream",
     "text": [
      "Applying noise: 100%|███████████████████████████████████████████████████████████████████████████████| 8/8 [00:08<00:00,  1.12s/type]\n"
     ]
    },
    {
     "name": "stdout",
     "output_type": "stream",
     "text": [
      "\u001b[32m2023-04-15 00:50:30.836\u001b[0m | \u001b[36mpseudopeople.interface\u001b[0m:\u001b[36m_generate_form\u001b[0m:\u001b[36m68\u001b[0m - \u001b[1mLoading data from /mnt/team/simulation_science/priv/engineering/vivarium_census_prl_synth_pop/results/v2.0_three_censuses/united_states_of_america/2023_04_08_14_07_04/final_results/parquet/usa/decennial_census_observer/decennial_census_observer_7344.parquet.\u001b[0m\n"
     ]
    },
    {
     "name": "stderr",
     "output_type": "stream",
     "text": [
      "Applying noise: 100%|███████████████████████████████████████████████████████████████████████████████| 8/8 [00:08<00:00,  1.11s/type]\n"
     ]
    },
    {
     "name": "stdout",
     "output_type": "stream",
     "text": [
      "\u001b[32m2023-04-15 00:50:46.928\u001b[0m | \u001b[36mpseudopeople.interface\u001b[0m:\u001b[36m_generate_form\u001b[0m:\u001b[36m68\u001b[0m - \u001b[1mLoading data from /mnt/team/simulation_science/priv/engineering/vivarium_census_prl_synth_pop/results/v2.0_three_censuses/united_states_of_america/2023_04_08_14_07_04/final_results/parquet/usa/decennial_census_observer/decennial_census_observer_3357.parquet.\u001b[0m\n"
     ]
    },
    {
     "name": "stderr",
     "output_type": "stream",
     "text": [
      "Applying noise: 100%|███████████████████████████████████████████████████████████████████████████████| 8/8 [00:08<00:00,  1.11s/type]\n"
     ]
    },
    {
     "name": "stdout",
     "output_type": "stream",
     "text": [
      "\u001b[32m2023-04-15 00:51:02.978\u001b[0m | \u001b[36mpseudopeople.interface\u001b[0m:\u001b[36m_generate_form\u001b[0m:\u001b[36m68\u001b[0m - \u001b[1mLoading data from /mnt/team/simulation_science/priv/engineering/vivarium_census_prl_synth_pop/results/v2.0_three_censuses/united_states_of_america/2023_04_08_14_07_04/final_results/parquet/usa/decennial_census_observer/decennial_census_observer_2448.parquet.\u001b[0m\n"
     ]
    },
    {
     "name": "stderr",
     "output_type": "stream",
     "text": [
      "Applying noise: 100%|███████████████████████████████████████████████████████████████████████████████| 8/8 [00:08<00:00,  1.12s/type]\n"
     ]
    },
    {
     "name": "stdout",
     "output_type": "stream",
     "text": [
      "\u001b[32m2023-04-15 00:51:19.218\u001b[0m | \u001b[36mpseudopeople.interface\u001b[0m:\u001b[36m_generate_form\u001b[0m:\u001b[36m68\u001b[0m - \u001b[1mLoading data from /mnt/team/simulation_science/priv/engineering/vivarium_census_prl_synth_pop/results/v2.0_three_censuses/united_states_of_america/2023_04_08_14_07_04/final_results/parquet/usa/decennial_census_observer/decennial_census_observer_1482.parquet.\u001b[0m\n"
     ]
    },
    {
     "name": "stderr",
     "output_type": "stream",
     "text": [
      "Applying noise: 100%|███████████████████████████████████████████████████████████████████████████████| 8/8 [00:08<00:00,  1.11s/type]\n"
     ]
    },
    {
     "name": "stdout",
     "output_type": "stream",
     "text": [
      "\u001b[32m2023-04-15 00:51:35.296\u001b[0m | \u001b[36mpseudopeople.interface\u001b[0m:\u001b[36m_generate_form\u001b[0m:\u001b[36m68\u001b[0m - \u001b[1mLoading data from /mnt/team/simulation_science/priv/engineering/vivarium_census_prl_synth_pop/results/v2.0_three_censuses/united_states_of_america/2023_04_08_14_07_04/final_results/parquet/usa/decennial_census_observer/decennial_census_observer_9776.parquet.\u001b[0m\n"
     ]
    },
    {
     "name": "stderr",
     "output_type": "stream",
     "text": [
      "Applying noise: 100%|███████████████████████████████████████████████████████████████████████████████| 8/8 [00:08<00:00,  1.11s/type]\n"
     ]
    },
    {
     "name": "stdout",
     "output_type": "stream",
     "text": [
      "\u001b[32m2023-04-15 00:51:51.313\u001b[0m | \u001b[36mpseudopeople.interface\u001b[0m:\u001b[36m_generate_form\u001b[0m:\u001b[36m68\u001b[0m - \u001b[1mLoading data from /mnt/team/simulation_science/priv/engineering/vivarium_census_prl_synth_pop/results/v2.0_three_censuses/united_states_of_america/2023_04_08_14_07_04/final_results/parquet/usa/decennial_census_observer/decennial_census_observer_3390.parquet.\u001b[0m\n"
     ]
    },
    {
     "name": "stderr",
     "output_type": "stream",
     "text": [
      "Applying noise: 100%|███████████████████████████████████████████████████████████████████████████████| 8/8 [00:08<00:00,  1.12s/type]\n"
     ]
    },
    {
     "name": "stdout",
     "output_type": "stream",
     "text": [
      "\u001b[32m2023-04-15 00:52:07.506\u001b[0m | \u001b[36mpseudopeople.interface\u001b[0m:\u001b[36m_generate_form\u001b[0m:\u001b[36m68\u001b[0m - \u001b[1mLoading data from /mnt/team/simulation_science/priv/engineering/vivarium_census_prl_synth_pop/results/v2.0_three_censuses/united_states_of_america/2023_04_08_14_07_04/final_results/parquet/usa/decennial_census_observer/decennial_census_observer_6810.parquet.\u001b[0m\n"
     ]
    },
    {
     "name": "stderr",
     "output_type": "stream",
     "text": [
      "Applying noise: 100%|███████████████████████████████████████████████████████████████████████████████| 8/8 [00:08<00:00,  1.12s/type]\n"
     ]
    },
    {
     "name": "stdout",
     "output_type": "stream",
     "text": [
      "\u001b[32m2023-04-15 00:52:23.691\u001b[0m | \u001b[36mpseudopeople.interface\u001b[0m:\u001b[36m_generate_form\u001b[0m:\u001b[36m68\u001b[0m - \u001b[1mLoading data from /mnt/team/simulation_science/priv/engineering/vivarium_census_prl_synth_pop/results/v2.0_three_censuses/united_states_of_america/2023_04_08_14_07_04/final_results/parquet/usa/decennial_census_observer/decennial_census_observer_8641.parquet.\u001b[0m\n"
     ]
    },
    {
     "name": "stderr",
     "output_type": "stream",
     "text": [
      "Applying noise: 100%|███████████████████████████████████████████████████████████████████████████████| 8/8 [00:08<00:00,  1.11s/type]\n"
     ]
    },
    {
     "name": "stdout",
     "output_type": "stream",
     "text": [
      "\u001b[32m2023-04-15 00:52:39.712\u001b[0m | \u001b[36mpseudopeople.interface\u001b[0m:\u001b[36m_generate_form\u001b[0m:\u001b[36m68\u001b[0m - \u001b[1mLoading data from /mnt/team/simulation_science/priv/engineering/vivarium_census_prl_synth_pop/results/v2.0_three_censuses/united_states_of_america/2023_04_08_14_07_04/final_results/parquet/usa/decennial_census_observer/decennial_census_observer_7817.parquet.\u001b[0m\n"
     ]
    },
    {
     "name": "stderr",
     "output_type": "stream",
     "text": [
      "Applying noise: 100%|███████████████████████████████████████████████████████████████████████████████| 8/8 [00:08<00:00,  1.11s/type]\n"
     ]
    },
    {
     "name": "stdout",
     "output_type": "stream",
     "text": [
      "\u001b[32m2023-04-15 00:52:55.858\u001b[0m | \u001b[36mpseudopeople.interface\u001b[0m:\u001b[36m_generate_form\u001b[0m:\u001b[36m68\u001b[0m - \u001b[1mLoading data from /mnt/team/simulation_science/priv/engineering/vivarium_census_prl_synth_pop/results/v2.0_three_censuses/united_states_of_america/2023_04_08_14_07_04/final_results/parquet/usa/decennial_census_observer/decennial_census_observer_2500.parquet.\u001b[0m\n"
     ]
    },
    {
     "name": "stderr",
     "output_type": "stream",
     "text": [
      "Applying noise: 100%|███████████████████████████████████████████████████████████████████████████████| 8/8 [00:08<00:00,  1.11s/type]\n"
     ]
    },
    {
     "name": "stdout",
     "output_type": "stream",
     "text": [
      "\u001b[32m2023-04-15 00:53:11.880\u001b[0m | \u001b[36mpseudopeople.interface\u001b[0m:\u001b[36m_generate_form\u001b[0m:\u001b[36m68\u001b[0m - \u001b[1mLoading data from /mnt/team/simulation_science/priv/engineering/vivarium_census_prl_synth_pop/results/v2.0_three_censuses/united_states_of_america/2023_04_08_14_07_04/final_results/parquet/usa/decennial_census_observer/decennial_census_observer_8291.parquet.\u001b[0m\n"
     ]
    },
    {
     "name": "stderr",
     "output_type": "stream",
     "text": [
      "Applying noise: 100%|███████████████████████████████████████████████████████████████████████████████| 8/8 [00:08<00:00,  1.10s/type]\n"
     ]
    },
    {
     "name": "stdout",
     "output_type": "stream",
     "text": [
      "\u001b[32m2023-04-15 00:53:27.839\u001b[0m | \u001b[36mpseudopeople.interface\u001b[0m:\u001b[36m_generate_form\u001b[0m:\u001b[36m68\u001b[0m - \u001b[1mLoading data from /mnt/team/simulation_science/priv/engineering/vivarium_census_prl_synth_pop/results/v2.0_three_censuses/united_states_of_america/2023_04_08_14_07_04/final_results/parquet/usa/decennial_census_observer/decennial_census_observer_93.parquet.\u001b[0m\n"
     ]
    },
    {
     "name": "stderr",
     "output_type": "stream",
     "text": [
      "Applying noise: 100%|███████████████████████████████████████████████████████████████████████████████| 8/8 [00:08<00:00,  1.11s/type]\n"
     ]
    },
    {
     "name": "stdout",
     "output_type": "stream",
     "text": [
      "\u001b[32m2023-04-15 00:53:43.904\u001b[0m | \u001b[36mpseudopeople.interface\u001b[0m:\u001b[36m_generate_form\u001b[0m:\u001b[36m68\u001b[0m - \u001b[1mLoading data from /mnt/team/simulation_science/priv/engineering/vivarium_census_prl_synth_pop/results/v2.0_three_censuses/united_states_of_america/2023_04_08_14_07_04/final_results/parquet/usa/decennial_census_observer/decennial_census_observer_3793.parquet.\u001b[0m\n"
     ]
    },
    {
     "name": "stderr",
     "output_type": "stream",
     "text": [
      "Applying noise: 100%|███████████████████████████████████████████████████████████████████████████████| 8/8 [00:08<00:00,  1.12s/type]\n"
     ]
    },
    {
     "name": "stdout",
     "output_type": "stream",
     "text": [
      "\u001b[32m2023-04-15 00:54:00.152\u001b[0m | \u001b[36mpseudopeople.interface\u001b[0m:\u001b[36m_generate_form\u001b[0m:\u001b[36m68\u001b[0m - \u001b[1mLoading data from /mnt/team/simulation_science/priv/engineering/vivarium_census_prl_synth_pop/results/v2.0_three_censuses/united_states_of_america/2023_04_08_14_07_04/final_results/parquet/usa/decennial_census_observer/decennial_census_observer_4622.parquet.\u001b[0m\n"
     ]
    },
    {
     "name": "stderr",
     "output_type": "stream",
     "text": [
      "Applying noise: 100%|███████████████████████████████████████████████████████████████████████████████| 8/8 [00:08<00:00,  1.12s/type]\n"
     ]
    },
    {
     "name": "stdout",
     "output_type": "stream",
     "text": [
      "\u001b[32m2023-04-15 00:54:16.186\u001b[0m | \u001b[36mpseudopeople.interface\u001b[0m:\u001b[36m_generate_form\u001b[0m:\u001b[36m68\u001b[0m - \u001b[1mLoading data from /mnt/team/simulation_science/priv/engineering/vivarium_census_prl_synth_pop/results/v2.0_three_censuses/united_states_of_america/2023_04_08_14_07_04/final_results/parquet/usa/decennial_census_observer/decennial_census_observer_5440.parquet.\u001b[0m\n"
     ]
    },
    {
     "name": "stderr",
     "output_type": "stream",
     "text": [
      "Applying noise: 100%|███████████████████████████████████████████████████████████████████████████████| 8/8 [00:08<00:00,  1.11s/type]\n"
     ]
    },
    {
     "name": "stdout",
     "output_type": "stream",
     "text": [
      "\u001b[32m2023-04-15 00:54:32.217\u001b[0m | \u001b[36mpseudopeople.interface\u001b[0m:\u001b[36m_generate_form\u001b[0m:\u001b[36m68\u001b[0m - \u001b[1mLoading data from /mnt/team/simulation_science/priv/engineering/vivarium_census_prl_synth_pop/results/v2.0_three_censuses/united_states_of_america/2023_04_08_14_07_04/final_results/parquet/usa/decennial_census_observer/decennial_census_observer_1609.parquet.\u001b[0m\n"
     ]
    },
    {
     "name": "stderr",
     "output_type": "stream",
     "text": [
      "Applying noise: 100%|███████████████████████████████████████████████████████████████████████████████| 8/8 [00:08<00:00,  1.12s/type]\n"
     ]
    },
    {
     "name": "stdout",
     "output_type": "stream",
     "text": [
      "\u001b[32m2023-04-15 00:54:48.369\u001b[0m | \u001b[36mpseudopeople.interface\u001b[0m:\u001b[36m_generate_form\u001b[0m:\u001b[36m68\u001b[0m - \u001b[1mLoading data from /mnt/team/simulation_science/priv/engineering/vivarium_census_prl_synth_pop/results/v2.0_three_censuses/united_states_of_america/2023_04_08_14_07_04/final_results/parquet/usa/decennial_census_observer/decennial_census_observer_2416.parquet.\u001b[0m\n"
     ]
    },
    {
     "name": "stderr",
     "output_type": "stream",
     "text": [
      "Applying noise: 100%|███████████████████████████████████████████████████████████████████████████████| 8/8 [00:08<00:00,  1.10s/type]\n"
     ]
    },
    {
     "name": "stdout",
     "output_type": "stream",
     "text": [
      "\u001b[32m2023-04-15 00:55:04.307\u001b[0m | \u001b[36mpseudopeople.interface\u001b[0m:\u001b[36m_generate_form\u001b[0m:\u001b[36m68\u001b[0m - \u001b[1mLoading data from /mnt/team/simulation_science/priv/engineering/vivarium_census_prl_synth_pop/results/v2.0_three_censuses/united_states_of_america/2023_04_08_14_07_04/final_results/parquet/usa/decennial_census_observer/decennial_census_observer_3725.parquet.\u001b[0m\n"
     ]
    },
    {
     "name": "stderr",
     "output_type": "stream",
     "text": [
      "Applying noise: 100%|███████████████████████████████████████████████████████████████████████████████| 8/8 [00:08<00:00,  1.11s/type]\n"
     ]
    },
    {
     "name": "stdout",
     "output_type": "stream",
     "text": [
      "\u001b[32m2023-04-15 00:55:20.430\u001b[0m | \u001b[36mpseudopeople.interface\u001b[0m:\u001b[36m_generate_form\u001b[0m:\u001b[36m68\u001b[0m - \u001b[1mLoading data from /mnt/team/simulation_science/priv/engineering/vivarium_census_prl_synth_pop/results/v2.0_three_censuses/united_states_of_america/2023_04_08_14_07_04/final_results/parquet/usa/decennial_census_observer/decennial_census_observer_7589.parquet.\u001b[0m\n"
     ]
    },
    {
     "name": "stderr",
     "output_type": "stream",
     "text": [
      "Applying noise: 100%|███████████████████████████████████████████████████████████████████████████████| 8/8 [00:08<00:00,  1.11s/type]\n"
     ]
    },
    {
     "name": "stdout",
     "output_type": "stream",
     "text": [
      "\u001b[32m2023-04-15 00:55:36.558\u001b[0m | \u001b[36mpseudopeople.interface\u001b[0m:\u001b[36m_generate_form\u001b[0m:\u001b[36m68\u001b[0m - \u001b[1mLoading data from /mnt/team/simulation_science/priv/engineering/vivarium_census_prl_synth_pop/results/v2.0_three_censuses/united_states_of_america/2023_04_08_14_07_04/final_results/parquet/usa/decennial_census_observer/decennial_census_observer_4561.parquet.\u001b[0m\n"
     ]
    },
    {
     "name": "stderr",
     "output_type": "stream",
     "text": [
      "Applying noise: 100%|███████████████████████████████████████████████████████████████████████████████| 8/8 [00:08<00:00,  1.12s/type]\n"
     ]
    },
    {
     "name": "stdout",
     "output_type": "stream",
     "text": [
      "\u001b[32m2023-04-15 00:55:52.573\u001b[0m | \u001b[36mpseudopeople.interface\u001b[0m:\u001b[36m_generate_form\u001b[0m:\u001b[36m68\u001b[0m - \u001b[1mLoading data from /mnt/team/simulation_science/priv/engineering/vivarium_census_prl_synth_pop/results/v2.0_three_censuses/united_states_of_america/2023_04_08_14_07_04/final_results/parquet/usa/decennial_census_observer/decennial_census_observer_5875.parquet.\u001b[0m\n"
     ]
    },
    {
     "name": "stderr",
     "output_type": "stream",
     "text": [
      "Applying noise: 100%|███████████████████████████████████████████████████████████████████████████████| 8/8 [00:09<00:00,  1.14s/type]\n"
     ]
    },
    {
     "name": "stdout",
     "output_type": "stream",
     "text": [
      "\u001b[32m2023-04-15 00:56:08.929\u001b[0m | \u001b[36mpseudopeople.interface\u001b[0m:\u001b[36m_generate_form\u001b[0m:\u001b[36m68\u001b[0m - \u001b[1mLoading data from /mnt/team/simulation_science/priv/engineering/vivarium_census_prl_synth_pop/results/v2.0_three_censuses/united_states_of_america/2023_04_08_14_07_04/final_results/parquet/usa/decennial_census_observer/decennial_census_observer_539.parquet.\u001b[0m\n"
     ]
    },
    {
     "name": "stderr",
     "output_type": "stream",
     "text": [
      "Applying noise: 100%|███████████████████████████████████████████████████████████████████████████████| 8/8 [00:08<00:00,  1.11s/type]\n"
     ]
    },
    {
     "name": "stdout",
     "output_type": "stream",
     "text": [
      "\u001b[32m2023-04-15 00:56:24.894\u001b[0m | \u001b[36mpseudopeople.interface\u001b[0m:\u001b[36m_generate_form\u001b[0m:\u001b[36m68\u001b[0m - \u001b[1mLoading data from /mnt/team/simulation_science/priv/engineering/vivarium_census_prl_synth_pop/results/v2.0_three_censuses/united_states_of_america/2023_04_08_14_07_04/final_results/parquet/usa/decennial_census_observer/decennial_census_observer_8817.parquet.\u001b[0m\n"
     ]
    },
    {
     "name": "stderr",
     "output_type": "stream",
     "text": [
      "Applying noise: 100%|███████████████████████████████████████████████████████████████████████████████| 8/8 [00:08<00:00,  1.11s/type]\n"
     ]
    },
    {
     "name": "stdout",
     "output_type": "stream",
     "text": [
      "\u001b[32m2023-04-15 00:56:40.875\u001b[0m | \u001b[36mpseudopeople.interface\u001b[0m:\u001b[36m_generate_form\u001b[0m:\u001b[36m68\u001b[0m - \u001b[1mLoading data from /mnt/team/simulation_science/priv/engineering/vivarium_census_prl_synth_pop/results/v2.0_three_censuses/united_states_of_america/2023_04_08_14_07_04/final_results/parquet/usa/decennial_census_observer/decennial_census_observer_9772.parquet.\u001b[0m\n"
     ]
    },
    {
     "name": "stderr",
     "output_type": "stream",
     "text": [
      "Applying noise: 100%|███████████████████████████████████████████████████████████████████████████████| 8/8 [00:08<00:00,  1.11s/type]\n"
     ]
    },
    {
     "name": "stdout",
     "output_type": "stream",
     "text": [
      "\u001b[32m2023-04-15 00:56:56.996\u001b[0m | \u001b[36mpseudopeople.interface\u001b[0m:\u001b[36m_generate_form\u001b[0m:\u001b[36m68\u001b[0m - \u001b[1mLoading data from /mnt/team/simulation_science/priv/engineering/vivarium_census_prl_synth_pop/results/v2.0_three_censuses/united_states_of_america/2023_04_08_14_07_04/final_results/parquet/usa/decennial_census_observer/decennial_census_observer_3607.parquet.\u001b[0m\n"
     ]
    },
    {
     "name": "stderr",
     "output_type": "stream",
     "text": [
      "Applying noise: 100%|███████████████████████████████████████████████████████████████████████████████| 8/8 [00:08<00:00,  1.12s/type]\n"
     ]
    },
    {
     "name": "stdout",
     "output_type": "stream",
     "text": [
      "\u001b[32m2023-04-15 00:57:13.047\u001b[0m | \u001b[36mpseudopeople.interface\u001b[0m:\u001b[36m_generate_form\u001b[0m:\u001b[36m68\u001b[0m - \u001b[1mLoading data from /mnt/team/simulation_science/priv/engineering/vivarium_census_prl_synth_pop/results/v2.0_three_censuses/united_states_of_america/2023_04_08_14_07_04/final_results/parquet/usa/decennial_census_observer/decennial_census_observer_7653.parquet.\u001b[0m\n"
     ]
    },
    {
     "name": "stderr",
     "output_type": "stream",
     "text": [
      "Applying noise: 100%|███████████████████████████████████████████████████████████████████████████████| 8/8 [00:08<00:00,  1.11s/type]\n"
     ]
    },
    {
     "name": "stdout",
     "output_type": "stream",
     "text": [
      "\u001b[32m2023-04-15 00:57:29.132\u001b[0m | \u001b[36mpseudopeople.interface\u001b[0m:\u001b[36m_generate_form\u001b[0m:\u001b[36m68\u001b[0m - \u001b[1mLoading data from /mnt/team/simulation_science/priv/engineering/vivarium_census_prl_synth_pop/results/v2.0_three_censuses/united_states_of_america/2023_04_08_14_07_04/final_results/parquet/usa/decennial_census_observer/decennial_census_observer_5150.parquet.\u001b[0m\n"
     ]
    },
    {
     "name": "stderr",
     "output_type": "stream",
     "text": [
      "Applying noise: 100%|███████████████████████████████████████████████████████████████████████████████| 8/8 [00:08<00:00,  1.11s/type]\n"
     ]
    },
    {
     "name": "stdout",
     "output_type": "stream",
     "text": [
      "\u001b[32m2023-04-15 00:57:45.310\u001b[0m | \u001b[36mpseudopeople.interface\u001b[0m:\u001b[36m_generate_form\u001b[0m:\u001b[36m68\u001b[0m - \u001b[1mLoading data from /mnt/team/simulation_science/priv/engineering/vivarium_census_prl_synth_pop/results/v2.0_three_censuses/united_states_of_america/2023_04_08_14_07_04/final_results/parquet/usa/decennial_census_observer/decennial_census_observer_99.parquet.\u001b[0m\n"
     ]
    },
    {
     "name": "stderr",
     "output_type": "stream",
     "text": [
      "Applying noise: 100%|███████████████████████████████████████████████████████████████████████████████| 8/8 [00:08<00:00,  1.12s/type]\n"
     ]
    },
    {
     "name": "stdout",
     "output_type": "stream",
     "text": [
      "\u001b[32m2023-04-15 00:58:01.369\u001b[0m | \u001b[36mpseudopeople.interface\u001b[0m:\u001b[36m_generate_form\u001b[0m:\u001b[36m68\u001b[0m - \u001b[1mLoading data from /mnt/team/simulation_science/priv/engineering/vivarium_census_prl_synth_pop/results/v2.0_three_censuses/united_states_of_america/2023_04_08_14_07_04/final_results/parquet/usa/decennial_census_observer/decennial_census_observer_7342.parquet.\u001b[0m\n"
     ]
    },
    {
     "name": "stderr",
     "output_type": "stream",
     "text": [
      "Applying noise: 100%|███████████████████████████████████████████████████████████████████████████████| 8/8 [00:08<00:00,  1.11s/type]\n"
     ]
    },
    {
     "name": "stdout",
     "output_type": "stream",
     "text": [
      "\u001b[32m2023-04-15 00:58:17.393\u001b[0m | \u001b[36mpseudopeople.interface\u001b[0m:\u001b[36m_generate_form\u001b[0m:\u001b[36m68\u001b[0m - \u001b[1mLoading data from /mnt/team/simulation_science/priv/engineering/vivarium_census_prl_synth_pop/results/v2.0_three_censuses/united_states_of_america/2023_04_08_14_07_04/final_results/parquet/usa/decennial_census_observer/decennial_census_observer_5670.parquet.\u001b[0m\n"
     ]
    },
    {
     "name": "stderr",
     "output_type": "stream",
     "text": [
      "Applying noise: 100%|███████████████████████████████████████████████████████████████████████████████| 8/8 [00:08<00:00,  1.12s/type]\n"
     ]
    },
    {
     "name": "stdout",
     "output_type": "stream",
     "text": [
      "\u001b[32m2023-04-15 00:58:33.508\u001b[0m | \u001b[36mpseudopeople.interface\u001b[0m:\u001b[36m_generate_form\u001b[0m:\u001b[36m68\u001b[0m - \u001b[1mLoading data from /mnt/team/simulation_science/priv/engineering/vivarium_census_prl_synth_pop/results/v2.0_three_censuses/united_states_of_america/2023_04_08_14_07_04/final_results/parquet/usa/decennial_census_observer/decennial_census_observer_3598.parquet.\u001b[0m\n"
     ]
    },
    {
     "name": "stderr",
     "output_type": "stream",
     "text": [
      "Applying noise: 100%|███████████████████████████████████████████████████████████████████████████████| 8/8 [00:08<00:00,  1.12s/type]\n"
     ]
    },
    {
     "name": "stdout",
     "output_type": "stream",
     "text": [
      "\u001b[32m2023-04-15 00:58:49.721\u001b[0m | \u001b[36mpseudopeople.interface\u001b[0m:\u001b[36m_generate_form\u001b[0m:\u001b[36m68\u001b[0m - \u001b[1mLoading data from /mnt/team/simulation_science/priv/engineering/vivarium_census_prl_synth_pop/results/v2.0_three_censuses/united_states_of_america/2023_04_08_14_07_04/final_results/parquet/usa/decennial_census_observer/decennial_census_observer_7511.parquet.\u001b[0m\n"
     ]
    },
    {
     "name": "stderr",
     "output_type": "stream",
     "text": [
      "Applying noise: 100%|███████████████████████████████████████████████████████████████████████████████| 8/8 [00:08<00:00,  1.12s/type]\n"
     ]
    },
    {
     "name": "stdout",
     "output_type": "stream",
     "text": [
      "\u001b[32m2023-04-15 00:59:05.831\u001b[0m | \u001b[36mpseudopeople.interface\u001b[0m:\u001b[36m_generate_form\u001b[0m:\u001b[36m68\u001b[0m - \u001b[1mLoading data from /mnt/team/simulation_science/priv/engineering/vivarium_census_prl_synth_pop/results/v2.0_three_censuses/united_states_of_america/2023_04_08_14_07_04/final_results/parquet/usa/decennial_census_observer/decennial_census_observer_3789.parquet.\u001b[0m\n"
     ]
    },
    {
     "name": "stderr",
     "output_type": "stream",
     "text": [
      "Applying noise: 100%|███████████████████████████████████████████████████████████████████████████████| 8/8 [00:09<00:00,  1.17s/type]\n"
     ]
    },
    {
     "name": "stdout",
     "output_type": "stream",
     "text": [
      "\u001b[32m2023-04-15 00:59:22.422\u001b[0m | \u001b[36mpseudopeople.interface\u001b[0m:\u001b[36m_generate_form\u001b[0m:\u001b[36m68\u001b[0m - \u001b[1mLoading data from /mnt/team/simulation_science/priv/engineering/vivarium_census_prl_synth_pop/results/v2.0_three_censuses/united_states_of_america/2023_04_08_14_07_04/final_results/parquet/usa/decennial_census_observer/decennial_census_observer_6007.parquet.\u001b[0m\n"
     ]
    },
    {
     "name": "stderr",
     "output_type": "stream",
     "text": [
      "Applying noise: 100%|███████████████████████████████████████████████████████████████████████████████| 8/8 [00:08<00:00,  1.11s/type]\n"
     ]
    },
    {
     "name": "stdout",
     "output_type": "stream",
     "text": [
      "\u001b[32m2023-04-15 00:59:38.516\u001b[0m | \u001b[36mpseudopeople.interface\u001b[0m:\u001b[36m_generate_form\u001b[0m:\u001b[36m68\u001b[0m - \u001b[1mLoading data from /mnt/team/simulation_science/priv/engineering/vivarium_census_prl_synth_pop/results/v2.0_three_censuses/united_states_of_america/2023_04_08_14_07_04/final_results/parquet/usa/decennial_census_observer/decennial_census_observer_478.parquet.\u001b[0m\n"
     ]
    },
    {
     "name": "stderr",
     "output_type": "stream",
     "text": [
      "Applying noise: 100%|███████████████████████████████████████████████████████████████████████████████| 8/8 [00:08<00:00,  1.12s/type]\n"
     ]
    },
    {
     "name": "stdout",
     "output_type": "stream",
     "text": [
      "\u001b[32m2023-04-15 00:59:54.718\u001b[0m | \u001b[36mpseudopeople.interface\u001b[0m:\u001b[36m_generate_form\u001b[0m:\u001b[36m68\u001b[0m - \u001b[1mLoading data from /mnt/team/simulation_science/priv/engineering/vivarium_census_prl_synth_pop/results/v2.0_three_censuses/united_states_of_america/2023_04_08_14_07_04/final_results/parquet/usa/decennial_census_observer/decennial_census_observer_5628.parquet.\u001b[0m\n"
     ]
    },
    {
     "name": "stderr",
     "output_type": "stream",
     "text": [
      "Applying noise: 100%|███████████████████████████████████████████████████████████████████████████████| 8/8 [00:09<00:00,  1.18s/type]\n"
     ]
    },
    {
     "name": "stdout",
     "output_type": "stream",
     "text": [
      "\u001b[32m2023-04-15 01:00:11.337\u001b[0m | \u001b[36mpseudopeople.interface\u001b[0m:\u001b[36m_generate_form\u001b[0m:\u001b[36m68\u001b[0m - \u001b[1mLoading data from /mnt/team/simulation_science/priv/engineering/vivarium_census_prl_synth_pop/results/v2.0_three_censuses/united_states_of_america/2023_04_08_14_07_04/final_results/parquet/usa/decennial_census_observer/decennial_census_observer_9768.parquet.\u001b[0m\n"
     ]
    },
    {
     "name": "stderr",
     "output_type": "stream",
     "text": [
      "Applying noise: 100%|███████████████████████████████████████████████████████████████████████████████| 8/8 [00:08<00:00,  1.11s/type]\n"
     ]
    },
    {
     "name": "stdout",
     "output_type": "stream",
     "text": [
      "\u001b[32m2023-04-15 01:00:27.491\u001b[0m | \u001b[36mpseudopeople.interface\u001b[0m:\u001b[36m_generate_form\u001b[0m:\u001b[36m68\u001b[0m - \u001b[1mLoading data from /mnt/team/simulation_science/priv/engineering/vivarium_census_prl_synth_pop/results/v2.0_three_censuses/united_states_of_america/2023_04_08_14_07_04/final_results/parquet/usa/decennial_census_observer/decennial_census_observer_6487.parquet.\u001b[0m\n"
     ]
    },
    {
     "name": "stderr",
     "output_type": "stream",
     "text": [
      "Applying noise: 100%|███████████████████████████████████████████████████████████████████████████████| 8/8 [00:08<00:00,  1.11s/type]\n"
     ]
    },
    {
     "name": "stdout",
     "output_type": "stream",
     "text": [
      "\u001b[32m2023-04-15 01:00:43.565\u001b[0m | \u001b[36mpseudopeople.interface\u001b[0m:\u001b[36m_generate_form\u001b[0m:\u001b[36m68\u001b[0m - \u001b[1mLoading data from /mnt/team/simulation_science/priv/engineering/vivarium_census_prl_synth_pop/results/v2.0_three_censuses/united_states_of_america/2023_04_08_14_07_04/final_results/parquet/usa/decennial_census_observer/decennial_census_observer_5020.parquet.\u001b[0m\n"
     ]
    },
    {
     "name": "stderr",
     "output_type": "stream",
     "text": [
      "Applying noise: 100%|███████████████████████████████████████████████████████████████████████████████| 8/8 [00:08<00:00,  1.11s/type]\n"
     ]
    },
    {
     "name": "stdout",
     "output_type": "stream",
     "text": [
      "\u001b[32m2023-04-15 01:00:59.753\u001b[0m | \u001b[36mpseudopeople.interface\u001b[0m:\u001b[36m_generate_form\u001b[0m:\u001b[36m68\u001b[0m - \u001b[1mLoading data from /mnt/team/simulation_science/priv/engineering/vivarium_census_prl_synth_pop/results/v2.0_three_censuses/united_states_of_america/2023_04_08_14_07_04/final_results/parquet/usa/decennial_census_observer/decennial_census_observer_9672.parquet.\u001b[0m\n"
     ]
    },
    {
     "name": "stderr",
     "output_type": "stream",
     "text": [
      "Applying noise: 100%|███████████████████████████████████████████████████████████████████████████████| 8/8 [00:08<00:00,  1.11s/type]\n"
     ]
    },
    {
     "name": "stdout",
     "output_type": "stream",
     "text": [
      "\u001b[32m2023-04-15 01:01:15.848\u001b[0m | \u001b[36mpseudopeople.interface\u001b[0m:\u001b[36m_generate_form\u001b[0m:\u001b[36m68\u001b[0m - \u001b[1mLoading data from /mnt/team/simulation_science/priv/engineering/vivarium_census_prl_synth_pop/results/v2.0_three_censuses/united_states_of_america/2023_04_08_14_07_04/final_results/parquet/usa/decennial_census_observer/decennial_census_observer_2808.parquet.\u001b[0m\n"
     ]
    },
    {
     "name": "stderr",
     "output_type": "stream",
     "text": [
      "Applying noise: 100%|███████████████████████████████████████████████████████████████████████████████| 8/8 [00:08<00:00,  1.11s/type]\n"
     ]
    },
    {
     "name": "stdout",
     "output_type": "stream",
     "text": [
      "\u001b[32m2023-04-15 01:01:31.838\u001b[0m | \u001b[36mpseudopeople.interface\u001b[0m:\u001b[36m_generate_form\u001b[0m:\u001b[36m68\u001b[0m - \u001b[1mLoading data from /mnt/team/simulation_science/priv/engineering/vivarium_census_prl_synth_pop/results/v2.0_three_censuses/united_states_of_america/2023_04_08_14_07_04/final_results/parquet/usa/decennial_census_observer/decennial_census_observer_6776.parquet.\u001b[0m\n"
     ]
    },
    {
     "name": "stderr",
     "output_type": "stream",
     "text": [
      "Applying noise: 100%|███████████████████████████████████████████████████████████████████████████████| 8/8 [00:09<00:00,  1.13s/type]\n"
     ]
    },
    {
     "name": "stdout",
     "output_type": "stream",
     "text": [
      "\u001b[32m2023-04-15 01:01:48.125\u001b[0m | \u001b[36mpseudopeople.interface\u001b[0m:\u001b[36m_generate_form\u001b[0m:\u001b[36m68\u001b[0m - \u001b[1mLoading data from /mnt/team/simulation_science/priv/engineering/vivarium_census_prl_synth_pop/results/v2.0_three_censuses/united_states_of_america/2023_04_08_14_07_04/final_results/parquet/usa/decennial_census_observer/decennial_census_observer_6929.parquet.\u001b[0m\n"
     ]
    },
    {
     "name": "stderr",
     "output_type": "stream",
     "text": [
      "Applying noise: 100%|███████████████████████████████████████████████████████████████████████████████| 8/8 [00:08<00:00,  1.11s/type]\n"
     ]
    },
    {
     "name": "stdout",
     "output_type": "stream",
     "text": [
      "\u001b[32m2023-04-15 01:02:04.258\u001b[0m | \u001b[36mpseudopeople.interface\u001b[0m:\u001b[36m_generate_form\u001b[0m:\u001b[36m68\u001b[0m - \u001b[1mLoading data from /mnt/team/simulation_science/priv/engineering/vivarium_census_prl_synth_pop/results/v2.0_three_censuses/united_states_of_america/2023_04_08_14_07_04/final_results/parquet/usa/decennial_census_observer/decennial_census_observer_8980.parquet.\u001b[0m\n"
     ]
    },
    {
     "name": "stderr",
     "output_type": "stream",
     "text": [
      "Applying noise: 100%|███████████████████████████████████████████████████████████████████████████████| 8/8 [00:08<00:00,  1.11s/type]\n"
     ]
    },
    {
     "name": "stdout",
     "output_type": "stream",
     "text": [
      "\u001b[32m2023-04-15 01:02:20.293\u001b[0m | \u001b[36mpseudopeople.interface\u001b[0m:\u001b[36m_generate_form\u001b[0m:\u001b[36m68\u001b[0m - \u001b[1mLoading data from /mnt/team/simulation_science/priv/engineering/vivarium_census_prl_synth_pop/results/v2.0_three_censuses/united_states_of_america/2023_04_08_14_07_04/final_results/parquet/usa/decennial_census_observer/decennial_census_observer_7303.parquet.\u001b[0m\n"
     ]
    },
    {
     "name": "stderr",
     "output_type": "stream",
     "text": [
      "Applying noise: 100%|███████████████████████████████████████████████████████████████████████████████| 8/8 [00:09<00:00,  1.14s/type]\n"
     ]
    },
    {
     "name": "stdout",
     "output_type": "stream",
     "text": [
      "\u001b[32m2023-04-15 01:02:36.610\u001b[0m | \u001b[36mpseudopeople.interface\u001b[0m:\u001b[36m_generate_form\u001b[0m:\u001b[36m68\u001b[0m - \u001b[1mLoading data from /mnt/team/simulation_science/priv/engineering/vivarium_census_prl_synth_pop/results/v2.0_three_censuses/united_states_of_america/2023_04_08_14_07_04/final_results/parquet/usa/decennial_census_observer/decennial_census_observer_3595.parquet.\u001b[0m\n"
     ]
    },
    {
     "name": "stderr",
     "output_type": "stream",
     "text": [
      "Applying noise: 100%|███████████████████████████████████████████████████████████████████████████████| 8/8 [00:08<00:00,  1.10s/type]\n"
     ]
    },
    {
     "name": "stdout",
     "output_type": "stream",
     "text": [
      "\u001b[32m2023-04-15 01:02:52.525\u001b[0m | \u001b[36mpseudopeople.interface\u001b[0m:\u001b[36m_generate_form\u001b[0m:\u001b[36m68\u001b[0m - \u001b[1mLoading data from /mnt/team/simulation_science/priv/engineering/vivarium_census_prl_synth_pop/results/v2.0_three_censuses/united_states_of_america/2023_04_08_14_07_04/final_results/parquet/usa/decennial_census_observer/decennial_census_observer_3978.parquet.\u001b[0m\n"
     ]
    },
    {
     "name": "stderr",
     "output_type": "stream",
     "text": [
      "Applying noise: 100%|███████████████████████████████████████████████████████████████████████████████| 8/8 [00:08<00:00,  1.11s/type]\n"
     ]
    },
    {
     "name": "stdout",
     "output_type": "stream",
     "text": [
      "\u001b[32m2023-04-15 01:03:08.520\u001b[0m | \u001b[36mpseudopeople.interface\u001b[0m:\u001b[36m_generate_form\u001b[0m:\u001b[36m68\u001b[0m - \u001b[1mLoading data from /mnt/team/simulation_science/priv/engineering/vivarium_census_prl_synth_pop/results/v2.0_three_censuses/united_states_of_america/2023_04_08_14_07_04/final_results/parquet/usa/decennial_census_observer/decennial_census_observer_5308.parquet.\u001b[0m\n"
     ]
    },
    {
     "name": "stderr",
     "output_type": "stream",
     "text": [
      "Applying noise: 100%|███████████████████████████████████████████████████████████████████████████████| 8/8 [00:08<00:00,  1.10s/type]\n"
     ]
    },
    {
     "name": "stdout",
     "output_type": "stream",
     "text": [
      "CPU times: user 1h 27min 16s, sys: 6min 4s, total: 1h 33min 21s\n",
      "Wall time: 1h 32min 16s\n"
     ]
    },
    {
     "data": {
      "text/html": [
       "<div>\n",
       "<style scoped>\n",
       "    .dataframe tbody tr th:only-of-type {\n",
       "        vertical-align: middle;\n",
       "    }\n",
       "\n",
       "    .dataframe tbody tr th {\n",
       "        vertical-align: top;\n",
       "    }\n",
       "\n",
       "    .dataframe thead th {\n",
       "        text-align: right;\n",
       "    }\n",
       "</style>\n",
       "<table border=\"1\" class=\"dataframe\">\n",
       "  <thead>\n",
       "    <tr style=\"text-align: right;\">\n",
       "      <th></th>\n",
       "      <th>simulant_id</th>\n",
       "      <th>first_name</th>\n",
       "      <th>middle_initial</th>\n",
       "      <th>last_name</th>\n",
       "      <th>age</th>\n",
       "      <th>date_of_birth</th>\n",
       "      <th>street_number</th>\n",
       "      <th>street_name</th>\n",
       "      <th>unit_number</th>\n",
       "      <th>city</th>\n",
       "      <th>state</th>\n",
       "      <th>zipcode</th>\n",
       "      <th>relation_to_household_head</th>\n",
       "      <th>sex</th>\n",
       "      <th>race_ethnicity</th>\n",
       "    </tr>\n",
       "  </thead>\n",
       "  <tbody>\n",
       "    <tr>\n",
       "      <th>0</th>\n",
       "      <td>9696_0</td>\n",
       "      <td>Roberto</td>\n",
       "      <td>J</td>\n",
       "      <td>Kinder</td>\n",
       "      <td>37</td>\n",
       "      <td>11/10/1982</td>\n",
       "      <td>7365</td>\n",
       "      <td>sioux street</td>\n",
       "      <td></td>\n",
       "      <td>mary esther</td>\n",
       "      <td>FL</td>\n",
       "      <td>33404</td>\n",
       "      <td>Reference person</td>\n",
       "      <td>Male</td>\n",
       "      <td>White</td>\n",
       "    </tr>\n",
       "    <tr>\n",
       "      <th>1</th>\n",
       "      <td>9696_1</td>\n",
       "      <td>Sabrina</td>\n",
       "      <td>K</td>\n",
       "      <td>Kinder</td>\n",
       "      <td>36</td>\n",
       "      <td>03/10/1984</td>\n",
       "      <td>810</td>\n",
       "      <td>dungeness ct</td>\n",
       "      <td>no 1</td>\n",
       "      <td>grafton</td>\n",
       "      <td>MA</td>\n",
       "      <td>01527</td>\n",
       "      <td>Other nonrelative</td>\n",
       "      <td>Female</td>\n",
       "      <td>White</td>\n",
       "    </tr>\n",
       "    <tr>\n",
       "      <th>2</th>\n",
       "      <td>9696_2</td>\n",
       "      <td>Raylan</td>\n",
       "      <td>J</td>\n",
       "      <td>Kinder</td>\n",
       "      <td>2</td>\n",
       "      <td>03/31/2017</td>\n",
       "      <td>7365</td>\n",
       "      <td>sioux street</td>\n",
       "      <td></td>\n",
       "      <td>mary esther</td>\n",
       "      <td>FL</td>\n",
       "      <td>33404</td>\n",
       "      <td>Biological child</td>\n",
       "      <td>Male</td>\n",
       "      <td>White</td>\n",
       "    </tr>\n",
       "    <tr>\n",
       "      <th>3</th>\n",
       "      <td>9696_3</td>\n",
       "      <td>Ryan</td>\n",
       "      <td>J</td>\n",
       "      <td>Fors</td>\n",
       "      <td>26</td>\n",
       "      <td>07/21/1993</td>\n",
       "      <td>1110</td>\n",
       "      <td>hershey ln</td>\n",
       "      <td></td>\n",
       "      <td>aurora</td>\n",
       "      <td>IL</td>\n",
       "      <td>62220</td>\n",
       "      <td>Reference person</td>\n",
       "      <td>Male</td>\n",
       "      <td>White</td>\n",
       "    </tr>\n",
       "    <tr>\n",
       "      <th>4</th>\n",
       "      <td>9696_4</td>\n",
       "      <td>Sabrina</td>\n",
       "      <td>K</td>\n",
       "      <td>Timmons</td>\n",
       "      <td>23</td>\n",
       "      <td>03/28/1996</td>\n",
       "      <td>1110</td>\n",
       "      <td>hershey ln</td>\n",
       "      <td></td>\n",
       "      <td>aurora</td>\n",
       "      <td>IL</td>\n",
       "      <td>62220</td>\n",
       "      <td>Other nonrelative</td>\n",
       "      <td>Female</td>\n",
       "      <td>White</td>\n",
       "    </tr>\n",
       "    <tr>\n",
       "      <th>...</th>\n",
       "      <td>...</td>\n",
       "      <td>...</td>\n",
       "      <td>...</td>\n",
       "      <td>...</td>\n",
       "      <td>...</td>\n",
       "      <td>...</td>\n",
       "      <td>...</td>\n",
       "      <td>...</td>\n",
       "      <td>...</td>\n",
       "      <td>...</td>\n",
       "      <td>...</td>\n",
       "      <td>...</td>\n",
       "      <td>...</td>\n",
       "      <td>...</td>\n",
       "      <td>...</td>\n",
       "    </tr>\n",
       "    <tr>\n",
       "      <th>332163845</th>\n",
       "      <td>5308_1022995</td>\n",
       "      <td>Kyle</td>\n",
       "      <td>J</td>\n",
       "      <td>Valdez</td>\n",
       "      <td>28</td>\n",
       "      <td>10/22/1991</td>\n",
       "      <td>135</td>\n",
       "      <td>port elissa lndg</td>\n",
       "      <td></td>\n",
       "      <td>allen</td>\n",
       "      <td>TX</td>\n",
       "      <td>76119</td>\n",
       "      <td>Opp-sex spouse</td>\n",
       "      <td>Male</td>\n",
       "      <td>Latino</td>\n",
       "    </tr>\n",
       "    <tr>\n",
       "      <th>332163846</th>\n",
       "      <td>5308_1022996</td>\n",
       "      <td>Grace</td>\n",
       "      <td>C</td>\n",
       "      <td>Valdez</td>\n",
       "      <td>8</td>\n",
       "      <td>12/24/2011</td>\n",
       "      <td>135</td>\n",
       "      <td>port elissa lndg</td>\n",
       "      <td></td>\n",
       "      <td>allen</td>\n",
       "      <td>TX</td>\n",
       "      <td>76119</td>\n",
       "      <td>Institutionalized GQ pop</td>\n",
       "      <td>Female</td>\n",
       "      <td>Latino</td>\n",
       "    </tr>\n",
       "    <tr>\n",
       "      <th>332163847</th>\n",
       "      <td>5308_1022997</td>\n",
       "      <td>Brandon</td>\n",
       "      <td>G</td>\n",
       "      <td>Valdez</td>\n",
       "      <td>6</td>\n",
       "      <td>04/14/2014</td>\n",
       "      <td>135</td>\n",
       "      <td>port elissa lndg</td>\n",
       "      <td></td>\n",
       "      <td>allen</td>\n",
       "      <td>TX</td>\n",
       "      <td>76119</td>\n",
       "      <td>Biological child</td>\n",
       "      <td>Male</td>\n",
       "      <td>Latino</td>\n",
       "    </tr>\n",
       "    <tr>\n",
       "      <th>332163848</th>\n",
       "      <td>5308_1022998</td>\n",
       "      <td>Veronica</td>\n",
       "      <td>A</td>\n",
       "      <td>Valdez</td>\n",
       "      <td>3</td>\n",
       "      <td>02/07/2017</td>\n",
       "      <td>135</td>\n",
       "      <td>port elissa lndg</td>\n",
       "      <td></td>\n",
       "      <td>allen</td>\n",
       "      <td>TX</td>\n",
       "      <td>76119</td>\n",
       "      <td>Biological child</td>\n",
       "      <td>Female</td>\n",
       "      <td>Latino</td>\n",
       "    </tr>\n",
       "    <tr>\n",
       "      <th>332163849</th>\n",
       "      <td>5308_1022999</td>\n",
       "      <td>Brandy</td>\n",
       "      <td>C</td>\n",
       "      <td>Higdon</td>\n",
       "      <td>37</td>\n",
       "      <td>10/23/1982</td>\n",
       "      <td>10438</td>\n",
       "      <td>24th st</td>\n",
       "      <td></td>\n",
       "      <td>felton</td>\n",
       "      <td>MN</td>\n",
       "      <td>55117</td>\n",
       "      <td>Reference person</td>\n",
       "      <td>Female</td>\n",
       "      <td>White</td>\n",
       "    </tr>\n",
       "  </tbody>\n",
       "</table>\n",
       "<p>332163850 rows × 15 columns</p>\n",
       "</div>"
      ],
      "text/plain": [
       "            simulant_id first_name middle_initial last_name age date_of_birth  \\\n",
       "0                9696_0    Roberto              J    Kinder  37    11/10/1982   \n",
       "1                9696_1    Sabrina              K    Kinder  36    03/10/1984   \n",
       "2                9696_2     Raylan              J    Kinder   2    03/31/2017   \n",
       "3                9696_3       Ryan              J      Fors  26    07/21/1993   \n",
       "4                9696_4    Sabrina              K   Timmons  23    03/28/1996   \n",
       "...                 ...        ...            ...       ...  ..           ...   \n",
       "332163845  5308_1022995       Kyle              J    Valdez  28    10/22/1991   \n",
       "332163846  5308_1022996      Grace              C    Valdez   8    12/24/2011   \n",
       "332163847  5308_1022997    Brandon              G    Valdez   6    04/14/2014   \n",
       "332163848  5308_1022998   Veronica              A    Valdez   3    02/07/2017   \n",
       "332163849  5308_1022999     Brandy              C    Higdon  37    10/23/1982   \n",
       "\n",
       "          street_number       street_name unit_number         city state  \\\n",
       "0                  7365      sioux street              mary esther    FL   \n",
       "1                   810      dungeness ct        no 1      grafton    MA   \n",
       "2                  7365      sioux street              mary esther    FL   \n",
       "3                  1110        hershey ln                   aurora    IL   \n",
       "4                  1110        hershey ln                   aurora    IL   \n",
       "...                 ...               ...         ...          ...   ...   \n",
       "332163845           135  port elissa lndg                    allen    TX   \n",
       "332163846           135  port elissa lndg                    allen    TX   \n",
       "332163847           135  port elissa lndg                    allen    TX   \n",
       "332163848           135  port elissa lndg                    allen    TX   \n",
       "332163849         10438           24th st                   felton    MN   \n",
       "\n",
       "          zipcode relation_to_household_head     sex race_ethnicity  \n",
       "0           33404           Reference person    Male          White  \n",
       "1           01527          Other nonrelative  Female          White  \n",
       "2           33404           Biological child    Male          White  \n",
       "3           62220           Reference person    Male          White  \n",
       "4           62220          Other nonrelative  Female          White  \n",
       "...           ...                        ...     ...            ...  \n",
       "332163845   76119             Opp-sex spouse    Male         Latino  \n",
       "332163846   76119   Institutionalized GQ pop  Female         Latino  \n",
       "332163847   76119           Biological child    Male         Latino  \n",
       "332163848   76119           Biological child  Female         Latino  \n",
       "332163849   55117           Reference person  Female          White  \n",
       "\n",
       "[332163850 rows x 15 columns]"
      ]
     },
     "execution_count": 4,
     "metadata": {},
     "output_type": "execute_result"
    }
   ],
   "source": [
    "%%time\n",
    "df_census = pp.generate_decennial_census(usa_par_dir, verbose=True)\n",
    "df_census"
   ]
  },
  {
   "cell_type": "markdown",
   "id": "8d2b13a3",
   "metadata": {},
   "source": [
    "# See how big the data is"
   ]
  },
  {
   "cell_type": "code",
   "execution_count": 5,
   "id": "a7166b96",
   "metadata": {},
   "outputs": [
    {
     "name": "stdout",
     "output_type": "stream",
     "text": [
      "CPU times: user 6min 29s, sys: 16.7 s, total: 6min 46s\n",
      "Wall time: 6min 44s\n"
     ]
    },
    {
     "data": {
      "text/plain": [
       "223275.035997"
      ]
     },
     "execution_count": 5,
     "metadata": {},
     "output_type": "execute_result"
    }
   ],
   "source": [
    "%%time\n",
    "sizemb(df_census)"
   ]
  },
  {
   "cell_type": "markdown",
   "id": "d0bb455f",
   "metadata": {},
   "source": [
    "# Time some simple operations on columns"
   ]
  },
  {
   "cell_type": "code",
   "execution_count": 6,
   "id": "628033bf",
   "metadata": {},
   "outputs": [
    {
     "name": "stdout",
     "output_type": "stream",
     "text": [
      "CPU times: user 13.4 s, sys: 652 ms, total: 14.1 s\n",
      "Wall time: 14 s\n"
     ]
    },
    {
     "data": {
      "text/plain": [
       "187049"
      ]
     },
     "execution_count": 6,
     "metadata": {},
     "output_type": "execute_result"
    }
   ],
   "source": [
    "%%time\n",
    "df_census.unit_number.isna().sum()"
   ]
  },
  {
   "cell_type": "code",
   "execution_count": 7,
   "id": "d13eae69",
   "metadata": {},
   "outputs": [
    {
     "name": "stdout",
     "output_type": "stream",
     "text": [
      "CPU times: user 15.1 s, sys: 169 ms, total: 15.3 s\n",
      "Wall time: 15.2 s\n"
     ]
    },
    {
     "data": {
      "text/plain": [
       "313513686"
      ]
     },
     "execution_count": 7,
     "metadata": {},
     "output_type": "execute_result"
    }
   ],
   "source": [
    "%%time\n",
    "(df_census.unit_number == '').sum()"
   ]
  },
  {
   "cell_type": "markdown",
   "id": "aa2562d5",
   "metadata": {},
   "source": [
    "# Check dtypes and test converting to categorical"
   ]
  },
  {
   "cell_type": "code",
   "execution_count": 8,
   "id": "59416c33",
   "metadata": {},
   "outputs": [
    {
     "data": {
      "text/plain": [
       "simulant_id                     object\n",
       "first_name                      object\n",
       "middle_initial                  object\n",
       "last_name                       object\n",
       "age                             object\n",
       "date_of_birth                   object\n",
       "street_number                   object\n",
       "street_name                     object\n",
       "unit_number                     object\n",
       "city                            object\n",
       "state                         category\n",
       "zipcode                         object\n",
       "relation_to_household_head    category\n",
       "sex                           category\n",
       "race_ethnicity                category\n",
       "dtype: object"
      ]
     },
     "execution_count": 8,
     "metadata": {},
     "output_type": "execute_result"
    }
   ],
   "source": [
    "df_census.dtypes"
   ]
  },
  {
   "cell_type": "code",
   "execution_count": 10,
   "id": "1fc368ff",
   "metadata": {},
   "outputs": [
    {
     "name": "stdout",
     "output_type": "stream",
     "text": [
      "CPU times: user 7.45 ms, sys: 0 ns, total: 7.45 ms\n",
      "Wall time: 6.91 ms\n"
     ]
    },
    {
     "data": {
      "text/html": [
       "<div>\n",
       "<style scoped>\n",
       "    .dataframe tbody tr th:only-of-type {\n",
       "        vertical-align: middle;\n",
       "    }\n",
       "\n",
       "    .dataframe tbody tr th {\n",
       "        vertical-align: top;\n",
       "    }\n",
       "\n",
       "    .dataframe thead th {\n",
       "        text-align: right;\n",
       "    }\n",
       "</style>\n",
       "<table border=\"1\" class=\"dataframe\">\n",
       "  <thead>\n",
       "    <tr style=\"text-align: right;\">\n",
       "      <th></th>\n",
       "      <th>simulant_id</th>\n",
       "      <th>first_name</th>\n",
       "      <th>middle_initial</th>\n",
       "      <th>last_name</th>\n",
       "      <th>age</th>\n",
       "      <th>date_of_birth</th>\n",
       "      <th>street_number</th>\n",
       "      <th>street_name</th>\n",
       "      <th>unit_number</th>\n",
       "      <th>city</th>\n",
       "      <th>state</th>\n",
       "      <th>zipcode</th>\n",
       "      <th>relation_to_household_head</th>\n",
       "      <th>sex</th>\n",
       "      <th>race_ethnicity</th>\n",
       "    </tr>\n",
       "  </thead>\n",
       "  <tbody>\n",
       "    <tr>\n",
       "      <th>0</th>\n",
       "      <td>9696_0</td>\n",
       "      <td>Roberto</td>\n",
       "      <td>J</td>\n",
       "      <td>Kinder</td>\n",
       "      <td>37</td>\n",
       "      <td>11/10/1982</td>\n",
       "      <td>7365</td>\n",
       "      <td>sioux street</td>\n",
       "      <td></td>\n",
       "      <td>mary esther</td>\n",
       "      <td>FL</td>\n",
       "      <td>33404</td>\n",
       "      <td>Reference person</td>\n",
       "      <td>Male</td>\n",
       "      <td>White</td>\n",
       "    </tr>\n",
       "    <tr>\n",
       "      <th>1</th>\n",
       "      <td>9696_1</td>\n",
       "      <td>Sabrina</td>\n",
       "      <td>K</td>\n",
       "      <td>Kinder</td>\n",
       "      <td>36</td>\n",
       "      <td>03/10/1984</td>\n",
       "      <td>810</td>\n",
       "      <td>dungeness ct</td>\n",
       "      <td>no 1</td>\n",
       "      <td>grafton</td>\n",
       "      <td>MA</td>\n",
       "      <td>01527</td>\n",
       "      <td>Other nonrelative</td>\n",
       "      <td>Female</td>\n",
       "      <td>White</td>\n",
       "    </tr>\n",
       "    <tr>\n",
       "      <th>2</th>\n",
       "      <td>9696_2</td>\n",
       "      <td>Raylan</td>\n",
       "      <td>J</td>\n",
       "      <td>Kinder</td>\n",
       "      <td>2</td>\n",
       "      <td>03/31/2017</td>\n",
       "      <td>7365</td>\n",
       "      <td>sioux street</td>\n",
       "      <td></td>\n",
       "      <td>mary esther</td>\n",
       "      <td>FL</td>\n",
       "      <td>33404</td>\n",
       "      <td>Biological child</td>\n",
       "      <td>Male</td>\n",
       "      <td>White</td>\n",
       "    </tr>\n",
       "    <tr>\n",
       "      <th>3</th>\n",
       "      <td>9696_3</td>\n",
       "      <td>Ryan</td>\n",
       "      <td>J</td>\n",
       "      <td>Fors</td>\n",
       "      <td>26</td>\n",
       "      <td>07/21/1993</td>\n",
       "      <td>1110</td>\n",
       "      <td>hershey ln</td>\n",
       "      <td></td>\n",
       "      <td>aurora</td>\n",
       "      <td>IL</td>\n",
       "      <td>62220</td>\n",
       "      <td>Reference person</td>\n",
       "      <td>Male</td>\n",
       "      <td>White</td>\n",
       "    </tr>\n",
       "    <tr>\n",
       "      <th>4</th>\n",
       "      <td>9696_4</td>\n",
       "      <td>Sabrina</td>\n",
       "      <td>K</td>\n",
       "      <td>Timmons</td>\n",
       "      <td>23</td>\n",
       "      <td>03/28/1996</td>\n",
       "      <td>1110</td>\n",
       "      <td>hershey ln</td>\n",
       "      <td></td>\n",
       "      <td>aurora</td>\n",
       "      <td>IL</td>\n",
       "      <td>62220</td>\n",
       "      <td>Other nonrelative</td>\n",
       "      <td>Female</td>\n",
       "      <td>White</td>\n",
       "    </tr>\n",
       "    <tr>\n",
       "      <th>...</th>\n",
       "      <td>...</td>\n",
       "      <td>...</td>\n",
       "      <td>...</td>\n",
       "      <td>...</td>\n",
       "      <td>...</td>\n",
       "      <td>...</td>\n",
       "      <td>...</td>\n",
       "      <td>...</td>\n",
       "      <td>...</td>\n",
       "      <td>...</td>\n",
       "      <td>...</td>\n",
       "      <td>...</td>\n",
       "      <td>...</td>\n",
       "      <td>...</td>\n",
       "      <td>...</td>\n",
       "    </tr>\n",
       "    <tr>\n",
       "      <th>995</th>\n",
       "      <td>9696_1022</td>\n",
       "      <td>David</td>\n",
       "      <td>J</td>\n",
       "      <td>Cox</td>\n",
       "      <td>64</td>\n",
       "      <td>04/10/1955</td>\n",
       "      <td>819</td>\n",
       "      <td>canterbury hill rd</td>\n",
       "      <td></td>\n",
       "      <td>sylvania</td>\n",
       "      <td>OH</td>\n",
       "      <td>44145</td>\n",
       "      <td>Reference person</td>\n",
       "      <td>Male</td>\n",
       "      <td>White</td>\n",
       "    </tr>\n",
       "    <tr>\n",
       "      <th>996</th>\n",
       "      <td>9696_1023</td>\n",
       "      <td>Charles</td>\n",
       "      <td>J</td>\n",
       "      <td>Cox</td>\n",
       "      <td>29</td>\n",
       "      <td>11/07/1990</td>\n",
       "      <td>819</td>\n",
       "      <td>canterbury hill rd</td>\n",
       "      <td></td>\n",
       "      <td>sylvania</td>\n",
       "      <td>OH</td>\n",
       "      <td>44145</td>\n",
       "      <td>Biological child</td>\n",
       "      <td>Male</td>\n",
       "      <td>White</td>\n",
       "    </tr>\n",
       "    <tr>\n",
       "      <th>997</th>\n",
       "      <td>9696_1024</td>\n",
       "      <td>John</td>\n",
       "      <td>P</td>\n",
       "      <td>Malikowski</td>\n",
       "      <td>53</td>\n",
       "      <td>04/16/1966</td>\n",
       "      <td>18</td>\n",
       "      <td>selma street</td>\n",
       "      <td></td>\n",
       "      <td>visalia</td>\n",
       "      <td>CA</td>\n",
       "      <td>92647</td>\n",
       "      <td>Reference person</td>\n",
       "      <td>Male</td>\n",
       "      <td>White</td>\n",
       "    </tr>\n",
       "    <tr>\n",
       "      <th>998</th>\n",
       "      <td>9696_1025</td>\n",
       "      <td>Connie</td>\n",
       "      <td>K</td>\n",
       "      <td>Malikowski</td>\n",
       "      <td>53</td>\n",
       "      <td>11/08/1966</td>\n",
       "      <td>18</td>\n",
       "      <td>selma street</td>\n",
       "      <td></td>\n",
       "      <td>visalia</td>\n",
       "      <td>CA</td>\n",
       "      <td>92647</td>\n",
       "      <td>Opp-sex spouse</td>\n",
       "      <td>Female</td>\n",
       "      <td>White</td>\n",
       "    </tr>\n",
       "    <tr>\n",
       "      <th>999</th>\n",
       "      <td>9696_1026</td>\n",
       "      <td>Arial</td>\n",
       "      <td>C</td>\n",
       "      <td>Malikowski</td>\n",
       "      <td>22</td>\n",
       "      <td>04/20/1997</td>\n",
       "      <td>18</td>\n",
       "      <td>selma street</td>\n",
       "      <td></td>\n",
       "      <td>visalia</td>\n",
       "      <td>CA</td>\n",
       "      <td>92647</td>\n",
       "      <td>Biological child</td>\n",
       "      <td>Female</td>\n",
       "      <td>White</td>\n",
       "    </tr>\n",
       "  </tbody>\n",
       "</table>\n",
       "<p>1000 rows × 15 columns</p>\n",
       "</div>"
      ],
      "text/plain": [
       "    simulant_id first_name middle_initial   last_name age date_of_birth  \\\n",
       "0        9696_0    Roberto              J      Kinder  37    11/10/1982   \n",
       "1        9696_1    Sabrina              K      Kinder  36    03/10/1984   \n",
       "2        9696_2     Raylan              J      Kinder   2    03/31/2017   \n",
       "3        9696_3       Ryan              J        Fors  26    07/21/1993   \n",
       "4        9696_4    Sabrina              K     Timmons  23    03/28/1996   \n",
       "..          ...        ...            ...         ...  ..           ...   \n",
       "995   9696_1022      David              J         Cox  64    04/10/1955   \n",
       "996   9696_1023    Charles              J         Cox  29    11/07/1990   \n",
       "997   9696_1024       John              P  Malikowski  53    04/16/1966   \n",
       "998   9696_1025     Connie              K  Malikowski  53    11/08/1966   \n",
       "999   9696_1026      Arial              C  Malikowski  22    04/20/1997   \n",
       "\n",
       "    street_number         street_name unit_number         city state zipcode  \\\n",
       "0            7365        sioux street              mary esther    FL   33404   \n",
       "1             810        dungeness ct        no 1      grafton    MA   01527   \n",
       "2            7365        sioux street              mary esther    FL   33404   \n",
       "3            1110          hershey ln                   aurora    IL   62220   \n",
       "4            1110          hershey ln                   aurora    IL   62220   \n",
       "..            ...                 ...         ...          ...   ...     ...   \n",
       "995           819  canterbury hill rd                 sylvania    OH   44145   \n",
       "996           819  canterbury hill rd                 sylvania    OH   44145   \n",
       "997            18        selma street                  visalia    CA   92647   \n",
       "998            18        selma street                  visalia    CA   92647   \n",
       "999            18        selma street                  visalia    CA   92647   \n",
       "\n",
       "    relation_to_household_head     sex race_ethnicity  \n",
       "0             Reference person    Male          White  \n",
       "1            Other nonrelative  Female          White  \n",
       "2             Biological child    Male          White  \n",
       "3             Reference person    Male          White  \n",
       "4            Other nonrelative  Female          White  \n",
       "..                         ...     ...            ...  \n",
       "995           Reference person    Male          White  \n",
       "996           Biological child    Male          White  \n",
       "997           Reference person    Male          White  \n",
       "998             Opp-sex spouse  Female          White  \n",
       "999           Biological child  Female          White  \n",
       "\n",
       "[1000 rows x 15 columns]"
      ]
     },
     "execution_count": 10,
     "metadata": {},
     "output_type": "execute_result"
    }
   ],
   "source": [
    "%%time\n",
    "temp = df_census.iloc[:1000].copy()\n",
    "temp"
   ]
  },
  {
   "cell_type": "code",
   "execution_count": 14,
   "id": "93523597",
   "metadata": {},
   "outputs": [
    {
     "name": "stdout",
     "output_type": "stream",
     "text": [
      "CPU times: user 16.3 ms, sys: 16 µs, total: 16.3 ms\n",
      "Wall time: 14.8 ms\n"
     ]
    },
    {
     "data": {
      "text/plain": [
       "simulant_id                     object\n",
       "first_name                    category\n",
       "middle_initial                category\n",
       "last_name                     category\n",
       "age                            float32\n",
       "date_of_birth                 category\n",
       "street_number                 category\n",
       "street_name                   category\n",
       "unit_number                   category\n",
       "city                          category\n",
       "state                         category\n",
       "zipcode                       category\n",
       "relation_to_household_head    category\n",
       "sex                           category\n",
       "race_ethnicity                category\n",
       "dtype: object"
      ]
     },
     "execution_count": 14,
     "metadata": {},
     "output_type": "execute_result"
    }
   ],
   "source": [
    "%%time\n",
    "with pd.option_context(\"mode.copy_on_write\", True):\n",
    "    temp = df_census.iloc[:1000] # Without copy-on-write enabled, I should make a copy here instead\n",
    "    datatypes.convert_dtypes(temp)\n",
    "temp.dtypes"
   ]
  },
  {
   "cell_type": "code",
   "execution_count": 15,
   "id": "85410194",
   "metadata": {},
   "outputs": [
    {
     "name": "stdout",
     "output_type": "stream",
     "text": [
      "CPU times: user 7.83 ms, sys: 0 ns, total: 7.83 ms\n",
      "Wall time: 7.6 ms\n"
     ]
    },
    {
     "data": {
      "text/plain": [
       "simulant_id                      int64\n",
       "first_name                    category\n",
       "middle_initial                category\n",
       "last_name                     category\n",
       "age                            float32\n",
       "date_of_birth                 category\n",
       "street_number                 category\n",
       "street_name                   category\n",
       "unit_number                   category\n",
       "city                          category\n",
       "state                         category\n",
       "zipcode                       category\n",
       "relation_to_household_head    category\n",
       "sex                           category\n",
       "race_ethnicity                category\n",
       "dtype: object"
      ]
     },
     "execution_count": 15,
     "metadata": {},
     "output_type": "execute_result"
    }
   ],
   "source": [
    "%%time\n",
    "with pd.option_context(\"mode.copy_on_write\", True):\n",
    "    datatypes.convert_string_ids_to_ints(temp)\n",
    "temp.dtypes"
   ]
  },
  {
   "cell_type": "code",
   "execution_count": null,
   "id": "ec2fcf6f",
   "metadata": {},
   "outputs": [],
   "source": []
  },
  {
   "cell_type": "markdown",
   "id": "a8827ce9",
   "metadata": {},
   "source": [
    "# Look at distribution of relation to household head"
   ]
  },
  {
   "cell_type": "code",
   "execution_count": 16,
   "id": "bb1e141e",
   "metadata": {},
   "outputs": [
    {
     "name": "stdout",
     "output_type": "stream",
     "text": [
      "CPU times: user 1.22 s, sys: 706 ms, total: 1.93 s\n",
      "Wall time: 1.92 s\n"
     ]
    },
    {
     "data": {
      "text/plain": [
       "Reference person               130747185\n",
       "Biological child                79841288\n",
       "Opp-sex spouse                  51974260\n",
       "Other nonrelative               13660258\n",
       "Grandchild                       7642143\n",
       "Noninstitutionalized GQ pop      6672826\n",
       "Opp-sex partner                  6563977\n",
       "Institutionalized GQ pop         6378938\n",
       "Other relative                   4753405\n",
       "Roommate                         4559494\n",
       "Sibling                          3597210\n",
       "Stepchild                        3377270\n",
       "Parent                           3294325\n",
       "Adopted child                    1985308\n",
       "Child-in-law                     1263013\n",
       "Parent-in-law                     959144\n",
       "Same-sex spouse                   694310\n",
       "Same-sex partner                  534371\n",
       "Foster child                      425413\n",
       "Name: relation_to_household_head, dtype: int64"
      ]
     },
     "execution_count": 16,
     "metadata": {},
     "output_type": "execute_result"
    }
   ],
   "source": [
    "%%time\n",
    "relation_counts = df_census.relation_to_household_head.value_counts()\n",
    "relation_counts"
   ]
  },
  {
   "cell_type": "code",
   "execution_count": 17,
   "id": "cf029bf7",
   "metadata": {},
   "outputs": [
    {
     "data": {
      "text/plain": [
       "<AxesSubplot: >"
      ]
     },
     "execution_count": 17,
     "metadata": {},
     "output_type": "execute_result"
    },
    {
     "data": {
      "image/png": "[encoded data removed]",
      "text/plain": [
       "<Figure size 640x480 with 1 Axes>"
      ]
     },
     "metadata": {},
     "output_type": "display_data"
    }
   ],
   "source": [
    "relation_counts.plot.bar()"
   ]
  },
  {
   "cell_type": "markdown",
   "id": "d360952b",
   "metadata": {},
   "source": [
    "# Look at age distribution"
   ]
  },
  {
   "cell_type": "code",
   "execution_count": 20,
   "id": "df4cd12f",
   "metadata": {},
   "outputs": [
    {
     "name": "stdout",
     "output_type": "stream",
     "text": [
      "CPU times: user 1min 11s, sys: 15.4 s, total: 1min 27s\n",
      "Wall time: 1min 26s\n"
     ]
    },
    {
     "data": {
      "text/plain": [
       "31      4443227\n",
       "30      4425058\n",
       "32      4419866\n",
       "19      4397633\n",
       "29      4397120\n",
       "         ...   \n",
       "5426          1\n",
       "4758          1\n",
       "4875          1\n",
       "4541          1\n",
       "945           1\n",
       "Name: age, Length: 887, dtype: int64"
      ]
     },
     "execution_count": 20,
     "metadata": {},
     "output_type": "execute_result"
    }
   ],
   "source": [
    "%%time\n",
    "age_counts = df_census.age.astype(str).value_counts()\n",
    "age_counts"
   ]
  },
  {
   "cell_type": "code",
   "execution_count": 21,
   "id": "24964b5c",
   "metadata": {},
   "outputs": [
    {
     "data": {
      "text/plain": [
       "0      3867334\n",
       "00        1446\n",
       "001          3\n",
       "002          5\n",
       "01        1532\n",
       "        ...   \n",
       "99        7920\n",
       "995          5\n",
       "996          6\n",
       "998          1\n",
       "nan    3336683\n",
       "Name: age, Length: 887, dtype: int64"
      ]
     },
     "execution_count": 21,
     "metadata": {},
     "output_type": "execute_result"
    }
   ],
   "source": [
    "age_counts.sort_index()"
   ]
  },
  {
   "cell_type": "code",
   "execution_count": 34,
   "id": "12feb2c3",
   "metadata": {},
   "outputs": [
    {
     "data": {
      "text/plain": [
       "0     3867334\n",
       "1     4192462\n",
       "2     3189699\n",
       "3     3658641\n",
       "4     3814819\n",
       "       ...   \n",
       "94     351456\n",
       "95     433018\n",
       "96     341012\n",
       "97     169691\n",
       "98      47057\n",
       "Name: age, Length: 99, dtype: int64"
      ]
     },
     "execution_count": 34,
     "metadata": {},
     "output_type": "execute_result"
    }
   ],
   "source": [
    "age_counts_ordered = age_counts.sort_index()\n",
    "age_counts_clean = (\n",
    "    age_counts_ordered\n",
    "    .loc[age_counts_oredered > 10_000]\n",
    "    .drop('nan')\n",
    ")\n",
    "age_counts_clean = age_counts_clean.set_axis(age_counts_clean.index.astype(int)).sort_index()\n",
    "age_counts_clean"
   ]
  },
  {
   "cell_type": "code",
   "execution_count": 36,
   "id": "5a574f4f",
   "metadata": {},
   "outputs": [
    {
     "data": {
      "text/plain": [
       "<AxesSubplot: >"
      ]
     },
     "execution_count": 36,
     "metadata": {},
     "output_type": "execute_result"
    },
    {
     "data": {
      "image/png": "[encoded data removed]",
      "text/plain": [
       "<Figure size 1500x500 with 1 Axes>"
      ]
     },
     "metadata": {},
     "output_type": "display_data"
    }
   ],
   "source": [
    "fig, ax = plt.subplots(figsize=(15,5))\n",
    "age_counts_clean.plot.bar(ax=ax)"
   ]
  },
  {
   "cell_type": "markdown",
   "id": "d8008390",
   "metadata": {},
   "source": [
    "## Looks like we still have mixed datatypes for age -- int and str (plus float for NaN)"
   ]
  },
  {
   "cell_type": "code",
   "execution_count": 41,
   "id": "f281f162",
   "metadata": {},
   "outputs": [
    {
     "name": "stdout",
     "output_type": "stream",
     "text": [
      "CPU times: user 30.7 s, sys: 4.38 s, total: 35.1 s\n",
      "Wall time: 34.9 s\n"
     ]
    },
    {
     "data": {
      "text/plain": [
       "<class 'int'>      325602608\n",
       "<class 'float'>      3336683\n",
       "<class 'str'>        3224559\n",
       "Name: age, dtype: int64"
      ]
     },
     "execution_count": 41,
     "metadata": {},
     "output_type": "execute_result"
    }
   ],
   "source": [
    "%%time\n",
    "df_census.age.map(type).value_counts()"
   ]
  },
  {
   "cell_type": "markdown",
   "id": "f32f4112",
   "metadata": {},
   "source": [
    "# Look at state distribution"
   ]
  },
  {
   "cell_type": "code",
   "execution_count": 38,
   "id": "6f3a978e",
   "metadata": {},
   "outputs": [
    {
     "name": "stdout",
     "output_type": "stream",
     "text": [
      "CPU times: user 1.19 s, sys: 690 ms, total: 1.88 s\n",
      "Wall time: 1.87 s\n"
     ]
    },
    {
     "data": {
      "text/plain": [
       "CA    38481197\n",
       "TX    28394050\n",
       "FL    20564128\n",
       "NY    19882629\n",
       "PA    13146704\n",
       "        ...   \n",
       "ND      856531\n",
       "AK      760274\n",
       "DC      688066\n",
       "VT      679450\n",
       "WY      669334\n",
       "Name: state, Length: 51, dtype: int64"
      ]
     },
     "execution_count": 38,
     "metadata": {},
     "output_type": "execute_result"
    }
   ],
   "source": [
    "%%time\n",
    "state_counts = df_census.state.value_counts()\n",
    "state_counts"
   ]
  },
  {
   "cell_type": "code",
   "execution_count": 39,
   "id": "a4074178",
   "metadata": {},
   "outputs": [
    {
     "data": {
      "text/plain": [
       "<AxesSubplot: >"
      ]
     },
     "execution_count": 39,
     "metadata": {},
     "output_type": "execute_result"
    },
    {
     "data": {
      "image/png": "[encoded data removed]",
      "text/plain": [
       "<Figure size 1000x500 with 1 Axes>"
      ]
     },
     "metadata": {},
     "output_type": "display_data"
    }
   ],
   "source": [
    "fig, ax = plt.subplots(figsize=(10,5))\n",
    "state_counts.plot.bar(ax=ax)"
   ]
  },
  {
   "cell_type": "markdown",
   "id": "4e7365e8",
   "metadata": {},
   "source": [
    "# Test converting dtypes again"
   ]
  },
  {
   "cell_type": "code",
   "execution_count": 42,
   "id": "59482459",
   "metadata": {},
   "outputs": [
    {
     "name": "stdout",
     "output_type": "stream",
     "text": [
      "CPU times: user 14.4 ms, sys: 3.9 ms, total: 18.3 ms\n",
      "Wall time: 17.2 ms\n"
     ]
    },
    {
     "data": {
      "text/plain": [
       "simulant_id                     object\n",
       "first_name                    category\n",
       "middle_initial                category\n",
       "last_name                     category\n",
       "age                            float32\n",
       "date_of_birth                 category\n",
       "street_number                 category\n",
       "street_name                   category\n",
       "unit_number                   category\n",
       "city                          category\n",
       "state                         category\n",
       "zipcode                       category\n",
       "relation_to_household_head    category\n",
       "sex                           category\n",
       "race_ethnicity                category\n",
       "dtype: object"
      ]
     },
     "execution_count": 42,
     "metadata": {},
     "output_type": "execute_result"
    }
   ],
   "source": [
    "%%time\n",
    "with pd.option_context(\"mode.copy_on_write\", True):\n",
    "    temp = df_census.iloc[:1000] # Without copy-on-write enabled, I should make a copy here instead\n",
    "    datatypes.convert_dtypes(temp)\n",
    "temp.dtypes"
   ]
  },
  {
   "cell_type": "code",
   "execution_count": 48,
   "id": "d6f4d102",
   "metadata": {},
   "outputs": [
    {
     "name": "stdout",
     "output_type": "stream",
     "text": [
      "0.677045\n",
      "0.394546\n"
     ]
    },
    {
     "data": {
      "text/plain": [
       "simulant_id                      int64\n",
       "first_name                    category\n",
       "middle_initial                category\n",
       "last_name                     category\n",
       "age                           category\n",
       "date_of_birth                 category\n",
       "street_number                 category\n",
       "street_name                   category\n",
       "unit_number                   category\n",
       "city                          category\n",
       "state                         category\n",
       "zipcode                       category\n",
       "relation_to_household_head    category\n",
       "sex                           category\n",
       "race_ethnicity                category\n",
       "dtype: object"
      ]
     },
     "execution_count": 48,
     "metadata": {},
     "output_type": "execute_result"
    }
   ],
   "source": [
    "def convert_to_int_and_categorical(df):\n",
    "    datatypes.convert_string_ids_to_ints(df)\n",
    "    for col, dtype in df.dtypes.items():\n",
    "        if dtype == 'object':\n",
    "            df[col] = df[col].astype('category')\n",
    "\n",
    "with pd.option_context(\"mode.copy_on_write\", True):\n",
    "    temp = df_census.iloc[:1_000] # Without copy-on-write enabled, I should make a copy here instead\n",
    "    print(sizemb(temp))\n",
    "    convert_to_int_and_categorical(temp)\n",
    "print(sizemb(temp))\n",
    "temp.dtypes"
   ]
  },
  {
   "cell_type": "code",
   "execution_count": 50,
   "id": "04b55139",
   "metadata": {},
   "outputs": [
    {
     "name": "stdout",
     "output_type": "stream",
     "text": [
      "672.424413\n",
      "87.728014\n",
      "CPU times: user 5.57 s, sys: 292 ms, total: 5.86 s\n",
      "Wall time: 5.86 s\n"
     ]
    },
    {
     "data": {
      "text/plain": [
       "simulant_id                      int64\n",
       "first_name                    category\n",
       "middle_initial                category\n",
       "last_name                     category\n",
       "age                           category\n",
       "date_of_birth                 category\n",
       "street_number                 category\n",
       "street_name                   category\n",
       "unit_number                   category\n",
       "city                          category\n",
       "state                         category\n",
       "zipcode                       category\n",
       "relation_to_household_head    category\n",
       "sex                           category\n",
       "race_ethnicity                category\n",
       "dtype: object"
      ]
     },
     "execution_count": 50,
     "metadata": {},
     "output_type": "execute_result"
    }
   ],
   "source": [
    "%%time\n",
    "with pd.option_context(\"mode.copy_on_write\", True):\n",
    "    temp = df_census.iloc[:1_000_000] # Without copy-on-write enabled, I should make a copy here instead\n",
    "    print(sizemb(temp))\n",
    "    convert_to_int_and_categorical(temp)\n",
    "print(sizemb(temp))\n",
    "temp.dtypes"
   ]
  },
  {
   "cell_type": "code",
   "execution_count": 51,
   "id": "694e5abc",
   "metadata": {},
   "outputs": [
    {
     "data": {
      "text/plain": [
       "0         37\n",
       "1         36\n",
       "2          2\n",
       "3         26\n",
       "4         23\n",
       "          ..\n",
       "999995    43\n",
       "999996    41\n",
       "999997    26\n",
       "999998    40\n",
       "999999    44\n",
       "Name: age, Length: 1000000, dtype: category\n",
       "Categories (352, object): [0, 1, 2, 3, ..., '969', '97', '98', '99']"
      ]
     },
     "execution_count": 51,
     "metadata": {},
     "output_type": "execute_result"
    }
   ],
   "source": [
    "temp.age"
   ]
  },
  {
   "cell_type": "code",
   "execution_count": 52,
   "id": "b5e549f8",
   "metadata": {},
   "outputs": [
    {
     "data": {
      "text/plain": [
       "0         11/10/1982\n",
       "1         03/10/1984\n",
       "2         03/31/2017\n",
       "3         07/21/1993\n",
       "4         03/28/1996\n",
       "             ...    \n",
       "999995    09/05/1976\n",
       "999996    09/21/1978\n",
       "999997    07/18/1993\n",
       "999998    11/15/1979\n",
       "999999    05/03/1975\n",
       "Name: date_of_birth, Length: 1000000, dtype: category\n",
       "Categories (42862, object): ['00/01/1939', '00/02/1935', '00/03/1934', '00/03/2054', ..., '99/17/1969', '99/19/1934', '99/20/1751', '99/26/1978']"
      ]
     },
     "execution_count": 52,
     "metadata": {},
     "output_type": "execute_result"
    }
   ],
   "source": [
    "temp.date_of_birth"
   ]
  },
  {
   "cell_type": "code",
   "execution_count": 53,
   "id": "ce4cf1ec",
   "metadata": {},
   "outputs": [
    {
     "data": {
      "text/plain": [
       "33.4"
      ]
     },
     "execution_count": 53,
     "metadata": {},
     "output_type": "execute_result"
    }
   ],
   "source": [
    "6*334/60"
   ]
  },
  {
   "cell_type": "markdown",
   "id": "92bfc3c5",
   "metadata": {},
   "source": [
    "# Check the size of each zipcode"
   ]
  },
  {
   "cell_type": "code",
   "execution_count": 54,
   "id": "115899ff",
   "metadata": {},
   "outputs": [
    {
     "name": "stdout",
     "output_type": "stream",
     "text": [
      "CPU times: user 5min 4s, sys: 1min 38s, total: 6min 43s\n",
      "Wall time: 6min 42s\n"
     ]
    },
    {
     "data": {
      "text/plain": [
       "zipcode\n",
       "00000          1\n",
       "481174         1\n",
       "481163         1\n",
       "481158         1\n",
       "481152         1\n",
       "           ...  \n",
       "77084     108318\n",
       "11207     112397\n",
       "77449     113713\n",
       "10467     115515\n",
       "75034     130759\n",
       "Name: simulant_id, Length: 221149, dtype: int64"
      ]
     },
     "execution_count": 54,
     "metadata": {},
     "output_type": "execute_result"
    }
   ],
   "source": [
    "%%time\n",
    "zipcode_sizes = df_census.groupby('zipcode')['simulant_id'].nunique().sort_values()\n",
    "zipcode_sizes"
   ]
  },
  {
   "cell_type": "code",
   "execution_count": 55,
   "id": "2f450cb9",
   "metadata": {},
   "outputs": [
    {
     "data": {
      "text/plain": [
       "<AxesSubplot: >"
      ]
     },
     "execution_count": 55,
     "metadata": {},
     "output_type": "execute_result"
    },
    {
     "data": {
      "image/png": "[encoded data removed]",
      "text/plain": [
       "<Figure size 640x480 with 1 Axes>"
      ]
     },
     "metadata": {},
     "output_type": "display_data"
    }
   ],
   "source": [
    "zipcode_sizes.hist(bins=100)"
   ]
  },
  {
   "cell_type": "code",
   "execution_count": 56,
   "id": "7191a07e",
   "metadata": {},
   "outputs": [
    {
     "data": {
      "text/plain": [
       "<AxesSubplot: >"
      ]
     },
     "execution_count": 56,
     "metadata": {},
     "output_type": "execute_result"
    },
    {
     "data": {
      "image/png": "[encoded data removed]",
      "text/plain": [
       "<Figure size 640x480 with 1 Axes>"
      ]
     },
     "metadata": {},
     "output_type": "display_data"
    }
   ],
   "source": [
    "zipcode_sizes.loc[zipcode_sizes<20000].hist(bins=100)"
   ]
  },
  {
   "cell_type": "code",
   "execution_count": 57,
   "id": "5b49cb33",
   "metadata": {},
   "outputs": [
    {
     "data": {
      "text/plain": [
       "<AxesSubplot: >"
      ]
     },
     "execution_count": 57,
     "metadata": {},
     "output_type": "execute_result"
    },
    {
     "data": {
      "image/png": "[encoded data removed]",
      "text/plain": [
       "<Figure size 640x480 with 1 Axes>"
      ]
     },
     "metadata": {},
     "output_type": "display_data"
    }
   ],
   "source": [
    "zipcode_sizes.loc[zipcode_sizes<2500].hist(bins=100)"
   ]
  },
  {
   "cell_type": "code",
   "execution_count": 58,
   "id": "a7d5a7a9",
   "metadata": {},
   "outputs": [
    {
     "data": {
      "text/plain": [
       "<AxesSubplot: >"
      ]
     },
     "execution_count": 58,
     "metadata": {},
     "output_type": "execute_result"
    },
    {
     "data": {
      "image/png": "[encoded data removed]",
      "text/plain": [
       "<Figure size 640x480 with 1 Axes>"
      ]
     },
     "metadata": {},
     "output_type": "display_data"
    }
   ],
   "source": [
    "zipcode_sizes.loc[zipcode_sizes<500].hist(bins=100)"
   ]
  },
  {
   "cell_type": "code",
   "execution_count": 59,
   "id": "1ab77793",
   "metadata": {},
   "outputs": [
    {
     "data": {
      "text/plain": [
       "<AxesSubplot: >"
      ]
     },
     "execution_count": 59,
     "metadata": {},
     "output_type": "execute_result"
    },
    {
     "data": {
      "image/png": "[encoded data removed]",
      "text/plain": [
       "<Figure size 640x480 with 1 Axes>"
      ]
     },
     "metadata": {},
     "output_type": "display_data"
    }
   ],
   "source": [
    "zipcode_sizes.loc[zipcode_sizes<100].hist(bins=100)"
   ]
  },
  {
   "cell_type": "code",
   "execution_count": 62,
   "id": "ef2b255a",
   "metadata": {},
   "outputs": [
    {
     "data": {
      "image/png": "[encoded data removed]",
      "text/plain": [
       "<Figure size 640x480 with 1 Axes>"
      ]
     },
     "metadata": {},
     "output_type": "display_data"
    }
   ],
   "source": [
    "zipcode_sizes.loc[zipcode_sizes<20].hist(bins=100)\n",
    "plt.xticks(range(20));"
   ]
  },
  {
   "cell_type": "code",
   "execution_count": 63,
   "id": "2a9446e6",
   "metadata": {},
   "outputs": [
    {
     "data": {
      "text/plain": [
       "221149"
      ]
     },
     "execution_count": 63,
     "metadata": {},
     "output_type": "execute_result"
    }
   ],
   "source": [
    "df_census.zipcode.nunique()"
   ]
  },
  {
   "cell_type": "code",
   "execution_count": 66,
   "id": "f41e7257",
   "metadata": {},
   "outputs": [
    {
     "data": {
      "text/plain": [
       "5.3028246690964895"
      ]
     },
     "execution_count": 66,
     "metadata": {},
     "output_type": "execute_result"
    }
   ],
   "source": [
    "221_149 / 41_704"
   ]
  },
  {
   "cell_type": "code",
   "execution_count": 64,
   "id": "3ee410ac",
   "metadata": {},
   "outputs": [
    {
     "name": "stdout",
     "output_type": "stream",
     "text": [
      "CPU times: user 37 s, sys: 4.26 s, total: 41.2 s\n",
      "Wall time: 41.1 s\n"
     ]
    },
    {
     "data": {
      "text/plain": [
       "<class 'str'>      328873134\n",
       "<class 'float'>      3290716\n",
       "Name: zipcode, dtype: int64"
      ]
     },
     "execution_count": 64,
     "metadata": {},
     "output_type": "execute_result"
    }
   ],
   "source": [
    "%%time\n",
    "df_census.zipcode.map(type).value_counts()"
   ]
  },
  {
   "cell_type": "code",
   "execution_count": 65,
   "id": "02c9e100",
   "metadata": {},
   "outputs": [
    {
     "name": "stdout",
     "output_type": "stream",
     "text": [
      "CPU times: user 1min 41s, sys: 6.9 s, total: 1min 48s\n",
      "Wall time: 1min 48s\n"
     ]
    },
    {
     "data": {
      "text/plain": [
       "5.0    328711144\n",
       "6.0       157982\n",
       "7.0         4008\n",
       "Name: zipcode, dtype: int64"
      ]
     },
     "execution_count": 65,
     "metadata": {},
     "output_type": "execute_result"
    }
   ],
   "source": [
    "%%time\n",
    "df_census.zipcode.str.len().value_counts()"
   ]
  },
  {
   "cell_type": "code",
   "execution_count": 67,
   "id": "4d2c6097",
   "metadata": {},
   "outputs": [
    {
     "data": {
      "text/plain": [
       "1         93917\n",
       "2         21479\n",
       "3          7013\n",
       "4          3191\n",
       "5          2378\n",
       "          ...  \n",
       "14233         1\n",
       "14236         1\n",
       "14238         1\n",
       "14239         1\n",
       "130759        1\n",
       "Name: simulant_id, Length: 15536, dtype: int64"
      ]
     },
     "execution_count": 67,
     "metadata": {},
     "output_type": "execute_result"
    }
   ],
   "source": [
    "zipcode_sizes.value_counts()"
   ]
  },
  {
   "cell_type": "code",
   "execution_count": 73,
   "id": "ccd4dd70",
   "metadata": {},
   "outputs": [
    {
     "data": {
      "image/png": "[encoded data removed]",
      "text/plain": [
       "<Figure size 640x480 with 1 Axes>"
      ]
     },
     "metadata": {},
     "output_type": "display_data"
    }
   ],
   "source": [
    "zipcode_sizes.hist(bins=1000)\n",
    "plt.xlabel(\"Number of people in zipcode\")\n",
    "plt.ylabel(\"Numeber of zipcodes in bin (1,000 bins)\")\n",
    "plt.title(\"Histogram of zipcode populations\")\n",
    "plt.yscale('log')"
   ]
  },
  {
   "cell_type": "code",
   "execution_count": 75,
   "id": "03a8abff",
   "metadata": {},
   "outputs": [
    {
     "data": {
      "text/plain": [
       "dict_keys(['decennial_census', 'american_communities_survey', 'current_population_survey', 'women_infants_and_children', 'social_security', 'taxes_w2_and_1099'])"
      ]
     },
     "execution_count": 75,
     "metadata": {},
     "output_type": "execute_result"
    }
   ],
   "source": [
    "config = get_configuration()\n",
    "config.keys()"
   ]
  },
  {
   "cell_type": "code",
   "execution_count": 76,
   "id": "ce518fc3",
   "metadata": {},
   "outputs": [
    {
     "data": {
      "text/plain": [
       "missing_data:\n",
       "    probability:\n",
       "        baseline: 0.01\n",
       "            source: None\n",
       "zipcode_miswriting:\n",
       "    probability:\n",
       "        baseline: 0.01\n",
       "            source: None\n",
       "    first_two_digits_noise_level:\n",
       "        baseline: 0.04\n",
       "            source: None\n",
       "    middle_digit_noise_level:\n",
       "        baseline: 0.2\n",
       "            source: None\n",
       "    last_two_digits_noise_level:\n",
       "        baseline: 0.36\n",
       "            source: None\n",
       "typographic:\n",
       "    probability:\n",
       "        baseline: 0.01\n",
       "            source: None\n",
       "    token_noise_level:\n",
       "        baseline: 0.1\n",
       "            source: None\n",
       "    include_original_token_level:\n",
       "        baseline: 0.1\n",
       "            source: None"
      ]
     },
     "execution_count": 76,
     "metadata": {},
     "output_type": "execute_result"
    }
   ],
   "source": [
    "config.decennial_census.column_noise.zipcode"
   ]
  },
  {
   "cell_type": "code",
   "execution_count": 77,
   "id": "811ada4e",
   "metadata": {},
   "outputs": [
    {
     "data": {
      "text/plain": [
       "161990"
      ]
     },
     "execution_count": 77,
     "metadata": {},
     "output_type": "execute_result"
    }
   ],
   "source": [
    "157982+4008"
   ]
  },
  {
   "cell_type": "code",
   "execution_count": 78,
   "id": "6030f650",
   "metadata": {},
   "outputs": [
    {
     "data": {
      "text/plain": [
       "{'_layers': ['baseline', 'default', 'user'],\n",
       " '_children': {'decennial_census': row_noise:\n",
       "      omission:\n",
       "          probability:\n",
       "              default: 0.0145\n",
       "                  source: None\n",
       "              baseline: 0.0\n",
       "                  source: None\n",
       "  column_noise:\n",
       "      first_name:\n",
       "          missing_data:\n",
       "              probability:\n",
       "                  baseline: 0.01\n",
       "                      source: None\n",
       "          fake_name:\n",
       "              probability:\n",
       "                  baseline: 0.01\n",
       "                      source: None\n",
       "              token_noise_level:\n",
       "                  baseline: 0.1\n",
       "                      source: None\n",
       "          typographic:\n",
       "              probability:\n",
       "                  baseline: 0.01\n",
       "                      source: None\n",
       "              token_noise_level:\n",
       "                  baseline: 0.1\n",
       "                      source: None\n",
       "              include_original_token_level:\n",
       "                  baseline: 0.1\n",
       "                      source: None\n",
       "      middle_initial:\n",
       "          missing_data:\n",
       "              probability:\n",
       "                  baseline: 0.01\n",
       "                      source: None\n",
       "          typographic:\n",
       "              probability:\n",
       "                  baseline: 0.01\n",
       "                      source: None\n",
       "              token_noise_level:\n",
       "                  baseline: 0.1\n",
       "                      source: None\n",
       "              include_original_token_level:\n",
       "                  baseline: 0.1\n",
       "                      source: None\n",
       "      last_name:\n",
       "          missing_data:\n",
       "              probability:\n",
       "                  baseline: 0.01\n",
       "                      source: None\n",
       "          fake_name:\n",
       "              probability:\n",
       "                  baseline: 0.01\n",
       "                      source: None\n",
       "              token_noise_level:\n",
       "                  baseline: 0.1\n",
       "                      source: None\n",
       "          typographic:\n",
       "              probability:\n",
       "                  baseline: 0.01\n",
       "                      source: None\n",
       "              token_noise_level:\n",
       "                  baseline: 0.1\n",
       "                      source: None\n",
       "              include_original_token_level:\n",
       "                  baseline: 0.1\n",
       "                      source: None\n",
       "      age:\n",
       "          missing_data:\n",
       "              probability:\n",
       "                  baseline: 0.01\n",
       "                      source: None\n",
       "          age_miswriting:\n",
       "              probability:\n",
       "                  baseline: 0.01\n",
       "                      source: None\n",
       "              possible_perturbations:\n",
       "                  -1:\n",
       "                      baseline: 0.5\n",
       "                          source: None\n",
       "                  1:\n",
       "                      baseline: 0.5\n",
       "                          source: None\n",
       "          typographic:\n",
       "              probability:\n",
       "                  baseline: 0.01\n",
       "                      source: None\n",
       "              token_noise_level:\n",
       "                  baseline: 0.1\n",
       "                      source: None\n",
       "              include_original_token_level:\n",
       "                  baseline: 0.1\n",
       "                      source: None\n",
       "      date_of_birth:\n",
       "          missing_data:\n",
       "              probability:\n",
       "                  baseline: 0.01\n",
       "                      source: None\n",
       "          numeric_miswriting:\n",
       "              probability:\n",
       "                  baseline: 0.01\n",
       "                      source: None\n",
       "              token_noise_level:\n",
       "                  baseline: 0.1\n",
       "                      source: None\n",
       "          typographic:\n",
       "              probability:\n",
       "                  baseline: 0.01\n",
       "                      source: None\n",
       "              token_noise_level:\n",
       "                  baseline: 0.1\n",
       "                      source: None\n",
       "              include_original_token_level:\n",
       "                  baseline: 0.1\n",
       "                      source: None\n",
       "      street_number:\n",
       "          missing_data:\n",
       "              probability:\n",
       "                  baseline: 0.01\n",
       "                      source: None\n",
       "          numeric_miswriting:\n",
       "              probability:\n",
       "                  baseline: 0.01\n",
       "                      source: None\n",
       "              token_noise_level:\n",
       "                  baseline: 0.1\n",
       "                      source: None\n",
       "          typographic:\n",
       "              probability:\n",
       "                  baseline: 0.01\n",
       "                      source: None\n",
       "              token_noise_level:\n",
       "                  baseline: 0.1\n",
       "                      source: None\n",
       "              include_original_token_level:\n",
       "                  baseline: 0.1\n",
       "                      source: None\n",
       "      street_name:\n",
       "          missing_data:\n",
       "              probability:\n",
       "                  baseline: 0.01\n",
       "                      source: None\n",
       "          typographic:\n",
       "              probability:\n",
       "                  baseline: 0.01\n",
       "                      source: None\n",
       "              token_noise_level:\n",
       "                  baseline: 0.1\n",
       "                      source: None\n",
       "              include_original_token_level:\n",
       "                  baseline: 0.1\n",
       "                      source: None\n",
       "      unit_number:\n",
       "          missing_data:\n",
       "              probability:\n",
       "                  baseline: 0.01\n",
       "                      source: None\n",
       "          numeric_miswriting:\n",
       "              probability:\n",
       "                  baseline: 0.01\n",
       "                      source: None\n",
       "              token_noise_level:\n",
       "                  baseline: 0.1\n",
       "                      source: None\n",
       "          typographic:\n",
       "              probability:\n",
       "                  baseline: 0.01\n",
       "                      source: None\n",
       "              token_noise_level:\n",
       "                  baseline: 0.1\n",
       "                      source: None\n",
       "              include_original_token_level:\n",
       "                  baseline: 0.1\n",
       "                      source: None\n",
       "      city:\n",
       "          missing_data:\n",
       "              probability:\n",
       "                  baseline: 0.01\n",
       "                      source: None\n",
       "          typographic:\n",
       "              probability:\n",
       "                  baseline: 0.01\n",
       "                      source: None\n",
       "              token_noise_level:\n",
       "                  baseline: 0.1\n",
       "                      source: None\n",
       "              include_original_token_level:\n",
       "                  baseline: 0.1\n",
       "                      source: None\n",
       "      state:\n",
       "          missing_data:\n",
       "              probability:\n",
       "                  baseline: 0.01\n",
       "                      source: None\n",
       "          incorrect_selection:\n",
       "              probability:\n",
       "                  baseline: 0.01\n",
       "                      source: None\n",
       "      zipcode:\n",
       "          missing_data:\n",
       "              probability:\n",
       "                  baseline: 0.01\n",
       "                      source: None\n",
       "          zipcode_miswriting:\n",
       "              probability:\n",
       "                  baseline: 0.01\n",
       "                      source: None\n",
       "              first_two_digits_noise_level:\n",
       "                  baseline: 0.04\n",
       "                      source: None\n",
       "              middle_digit_noise_level:\n",
       "                  baseline: 0.2\n",
       "                      source: None\n",
       "              last_two_digits_noise_level:\n",
       "                  baseline: 0.36\n",
       "                      source: None\n",
       "          typographic:\n",
       "              probability:\n",
       "                  baseline: 0.01\n",
       "                      source: None\n",
       "              token_noise_level:\n",
       "                  baseline: 0.1\n",
       "                      source: None\n",
       "              include_original_token_level:\n",
       "                  baseline: 0.1\n",
       "                      source: None\n",
       "      relation_to_household_head:\n",
       "          missing_data:\n",
       "              probability:\n",
       "                  baseline: 0.01\n",
       "                      source: None\n",
       "          incorrect_selection:\n",
       "              probability:\n",
       "                  baseline: 0.01\n",
       "                      source: None\n",
       "      sex:\n",
       "          missing_data:\n",
       "              probability:\n",
       "                  baseline: 0.01\n",
       "                      source: None\n",
       "          incorrect_selection:\n",
       "              probability:\n",
       "                  baseline: 0.01\n",
       "                      source: None\n",
       "      race_ethnicity:\n",
       "          missing_data:\n",
       "              probability:\n",
       "                  baseline: 0.01\n",
       "                      source: None\n",
       "          incorrect_selection:\n",
       "              probability:\n",
       "                  baseline: 0.01\n",
       "                      source: None,\n",
       "  'american_communities_survey': row_noise:\n",
       "      omission:\n",
       "          probability:\n",
       "              default: 0.0145\n",
       "                  source: None\n",
       "              baseline: 0.0\n",
       "                  source: None\n",
       "  column_noise:\n",
       "      first_name:\n",
       "          missing_data:\n",
       "              probability:\n",
       "                  baseline: 0.01\n",
       "                      source: None\n",
       "          fake_name:\n",
       "              probability:\n",
       "                  baseline: 0.01\n",
       "                      source: None\n",
       "              token_noise_level:\n",
       "                  baseline: 0.1\n",
       "                      source: None\n",
       "          typographic:\n",
       "              probability:\n",
       "                  baseline: 0.01\n",
       "                      source: None\n",
       "              token_noise_level:\n",
       "                  baseline: 0.1\n",
       "                      source: None\n",
       "              include_original_token_level:\n",
       "                  baseline: 0.1\n",
       "                      source: None\n",
       "      middle_initial:\n",
       "          missing_data:\n",
       "              probability:\n",
       "                  baseline: 0.01\n",
       "                      source: None\n",
       "          typographic:\n",
       "              probability:\n",
       "                  baseline: 0.01\n",
       "                      source: None\n",
       "              token_noise_level:\n",
       "                  baseline: 0.1\n",
       "                      source: None\n",
       "              include_original_token_level:\n",
       "                  baseline: 0.1\n",
       "                      source: None\n",
       "      last_name:\n",
       "          missing_data:\n",
       "              probability:\n",
       "                  baseline: 0.01\n",
       "                      source: None\n",
       "          fake_name:\n",
       "              probability:\n",
       "                  baseline: 0.01\n",
       "                      source: None\n",
       "              token_noise_level:\n",
       "                  baseline: 0.1\n",
       "                      source: None\n",
       "          typographic:\n",
       "              probability:\n",
       "                  baseline: 0.01\n",
       "                      source: None\n",
       "              token_noise_level:\n",
       "                  baseline: 0.1\n",
       "                      source: None\n",
       "              include_original_token_level:\n",
       "                  baseline: 0.1\n",
       "                      source: None\n",
       "      age:\n",
       "          missing_data:\n",
       "              probability:\n",
       "                  baseline: 0.01\n",
       "                      source: None\n",
       "          age_miswriting:\n",
       "              probability:\n",
       "                  baseline: 0.01\n",
       "                      source: None\n",
       "              possible_perturbations:\n",
       "                  -1:\n",
       "                      baseline: 0.5\n",
       "                          source: None\n",
       "                  1:\n",
       "                      baseline: 0.5\n",
       "                          source: None\n",
       "          typographic:\n",
       "              probability:\n",
       "                  baseline: 0.01\n",
       "                      source: None\n",
       "              token_noise_level:\n",
       "                  baseline: 0.1\n",
       "                      source: None\n",
       "              include_original_token_level:\n",
       "                  baseline: 0.1\n",
       "                      source: None\n",
       "      date_of_birth:\n",
       "          missing_data:\n",
       "              probability:\n",
       "                  baseline: 0.01\n",
       "                      source: None\n",
       "          numeric_miswriting:\n",
       "              probability:\n",
       "                  baseline: 0.01\n",
       "                      source: None\n",
       "              token_noise_level:\n",
       "                  baseline: 0.1\n",
       "                      source: None\n",
       "          typographic:\n",
       "              probability:\n",
       "                  baseline: 0.01\n",
       "                      source: None\n",
       "              token_noise_level:\n",
       "                  baseline: 0.1\n",
       "                      source: None\n",
       "              include_original_token_level:\n",
       "                  baseline: 0.1\n",
       "                      source: None\n",
       "      street_number:\n",
       "          missing_data:\n",
       "              probability:\n",
       "                  baseline: 0.01\n",
       "                      source: None\n",
       "          numeric_miswriting:\n",
       "              probability:\n",
       "                  baseline: 0.01\n",
       "                      source: None\n",
       "              token_noise_level:\n",
       "                  baseline: 0.1\n",
       "                      source: None\n",
       "          typographic:\n",
       "              probability:\n",
       "                  baseline: 0.01\n",
       "                      source: None\n",
       "              token_noise_level:\n",
       "                  baseline: 0.1\n",
       "                      source: None\n",
       "              include_original_token_level:\n",
       "                  baseline: 0.1\n",
       "                      source: None\n",
       "      street_name:\n",
       "          missing_data:\n",
       "              probability:\n",
       "                  baseline: 0.01\n",
       "                      source: None\n",
       "          typographic:\n",
       "              probability:\n",
       "                  baseline: 0.01\n",
       "                      source: None\n",
       "              token_noise_level:\n",
       "                  baseline: 0.1\n",
       "                      source: None\n",
       "              include_original_token_level:\n",
       "                  baseline: 0.1\n",
       "                      source: None\n",
       "      unit_number:\n",
       "          missing_data:\n",
       "              probability:\n",
       "                  baseline: 0.01\n",
       "                      source: None\n",
       "          numeric_miswriting:\n",
       "              probability:\n",
       "                  baseline: 0.01\n",
       "                      source: None\n",
       "              token_noise_level:\n",
       "                  baseline: 0.1\n",
       "                      source: None\n",
       "          typographic:\n",
       "              probability:\n",
       "                  baseline: 0.01\n",
       "                      source: None\n",
       "              token_noise_level:\n",
       "                  baseline: 0.1\n",
       "                      source: None\n",
       "              include_original_token_level:\n",
       "                  baseline: 0.1\n",
       "                      source: None\n",
       "      city:\n",
       "          missing_data:\n",
       "              probability:\n",
       "                  baseline: 0.01\n",
       "                      source: None\n",
       "          typographic:\n",
       "              probability:\n",
       "                  baseline: 0.01\n",
       "                      source: None\n",
       "              token_noise_level:\n",
       "                  baseline: 0.1\n",
       "                      source: None\n",
       "              include_original_token_level:\n",
       "                  baseline: 0.1\n",
       "                      source: None\n",
       "      state:\n",
       "          missing_data:\n",
       "              probability:\n",
       "                  baseline: 0.01\n",
       "                      source: None\n",
       "          incorrect_selection:\n",
       "              probability:\n",
       "                  baseline: 0.01\n",
       "                      source: None\n",
       "      zipcode:\n",
       "          missing_data:\n",
       "              probability:\n",
       "                  baseline: 0.01\n",
       "                      source: None\n",
       "          zipcode_miswriting:\n",
       "              probability:\n",
       "                  baseline: 0.01\n",
       "                      source: None\n",
       "              first_two_digits_noise_level:\n",
       "                  baseline: 0.04\n",
       "                      source: None\n",
       "              middle_digit_noise_level:\n",
       "                  baseline: 0.2\n",
       "                      source: None\n",
       "              last_two_digits_noise_level:\n",
       "                  baseline: 0.36\n",
       "                      source: None\n",
       "          typographic:\n",
       "              probability:\n",
       "                  baseline: 0.01\n",
       "                      source: None\n",
       "              token_noise_level:\n",
       "                  baseline: 0.1\n",
       "                      source: None\n",
       "              include_original_token_level:\n",
       "                  baseline: 0.1\n",
       "                      source: None\n",
       "      sex:\n",
       "          missing_data:\n",
       "              probability:\n",
       "                  baseline: 0.01\n",
       "                      source: None\n",
       "          incorrect_selection:\n",
       "              probability:\n",
       "                  baseline: 0.01\n",
       "                      source: None\n",
       "      race_ethnicity:\n",
       "          missing_data:\n",
       "              probability:\n",
       "                  baseline: 0.01\n",
       "                      source: None\n",
       "          incorrect_selection:\n",
       "              probability:\n",
       "                  baseline: 0.01\n",
       "                      source: None,\n",
       "  'current_population_survey': row_noise:\n",
       "      omission:\n",
       "          probability:\n",
       "              default: 0.2905\n",
       "                  source: None\n",
       "              baseline: 0.0\n",
       "                  source: None\n",
       "  column_noise:\n",
       "      first_name:\n",
       "          missing_data:\n",
       "              probability:\n",
       "                  baseline: 0.01\n",
       "                      source: None\n",
       "          fake_name:\n",
       "              probability:\n",
       "                  baseline: 0.01\n",
       "                      source: None\n",
       "              token_noise_level:\n",
       "                  baseline: 0.1\n",
       "                      source: None\n",
       "          typographic:\n",
       "              probability:\n",
       "                  baseline: 0.01\n",
       "                      source: None\n",
       "              token_noise_level:\n",
       "                  baseline: 0.1\n",
       "                      source: None\n",
       "              include_original_token_level:\n",
       "                  baseline: 0.1\n",
       "                      source: None\n",
       "      middle_initial:\n",
       "          missing_data:\n",
       "              probability:\n",
       "                  baseline: 0.01\n",
       "                      source: None\n",
       "          typographic:\n",
       "              probability:\n",
       "                  baseline: 0.01\n",
       "                      source: None\n",
       "              token_noise_level:\n",
       "                  baseline: 0.1\n",
       "                      source: None\n",
       "              include_original_token_level:\n",
       "                  baseline: 0.1\n",
       "                      source: None\n",
       "      last_name:\n",
       "          missing_data:\n",
       "              probability:\n",
       "                  baseline: 0.01\n",
       "                      source: None\n",
       "          fake_name:\n",
       "              probability:\n",
       "                  baseline: 0.01\n",
       "                      source: None\n",
       "              token_noise_level:\n",
       "                  baseline: 0.1\n",
       "                      source: None\n",
       "          typographic:\n",
       "              probability:\n",
       "                  baseline: 0.01\n",
       "                      source: None\n",
       "              token_noise_level:\n",
       "                  baseline: 0.1\n",
       "                      source: None\n",
       "              include_original_token_level:\n",
       "                  baseline: 0.1\n",
       "                      source: None\n",
       "      age:\n",
       "          missing_data:\n",
       "              probability:\n",
       "                  baseline: 0.01\n",
       "                      source: None\n",
       "          age_miswriting:\n",
       "              probability:\n",
       "                  baseline: 0.01\n",
       "                      source: None\n",
       "              possible_perturbations:\n",
       "                  -1:\n",
       "                      baseline: 0.5\n",
       "                          source: None\n",
       "                  1:\n",
       "                      baseline: 0.5\n",
       "                          source: None\n",
       "          typographic:\n",
       "              probability:\n",
       "                  baseline: 0.01\n",
       "                      source: None\n",
       "              token_noise_level:\n",
       "                  baseline: 0.1\n",
       "                      source: None\n",
       "              include_original_token_level:\n",
       "                  baseline: 0.1\n",
       "                      source: None\n",
       "      date_of_birth:\n",
       "          missing_data:\n",
       "              probability:\n",
       "                  baseline: 0.01\n",
       "                      source: None\n",
       "          numeric_miswriting:\n",
       "              probability:\n",
       "                  baseline: 0.01\n",
       "                      source: None\n",
       "              token_noise_level:\n",
       "                  baseline: 0.1\n",
       "                      source: None\n",
       "          typographic:\n",
       "              probability:\n",
       "                  baseline: 0.01\n",
       "                      source: None\n",
       "              token_noise_level:\n",
       "                  baseline: 0.1\n",
       "                      source: None\n",
       "              include_original_token_level:\n",
       "                  baseline: 0.1\n",
       "                      source: None\n",
       "      street_number:\n",
       "          missing_data:\n",
       "              probability:\n",
       "                  baseline: 0.01\n",
       "                      source: None\n",
       "          numeric_miswriting:\n",
       "              probability:\n",
       "                  baseline: 0.01\n",
       "                      source: None\n",
       "              token_noise_level:\n",
       "                  baseline: 0.1\n",
       "                      source: None\n",
       "          typographic:\n",
       "              probability:\n",
       "                  baseline: 0.01\n",
       "                      source: None\n",
       "              token_noise_level:\n",
       "                  baseline: 0.1\n",
       "                      source: None\n",
       "              include_original_token_level:\n",
       "                  baseline: 0.1\n",
       "                      source: None\n",
       "      street_name:\n",
       "          missing_data:\n",
       "              probability:\n",
       "                  baseline: 0.01\n",
       "                      source: None\n",
       "          typographic:\n",
       "              probability:\n",
       "                  baseline: 0.01\n",
       "                      source: None\n",
       "              token_noise_level:\n",
       "                  baseline: 0.1\n",
       "                      source: None\n",
       "              include_original_token_level:\n",
       "                  baseline: 0.1\n",
       "                      source: None\n",
       "      unit_number:\n",
       "          missing_data:\n",
       "              probability:\n",
       "                  baseline: 0.01\n",
       "                      source: None\n",
       "          numeric_miswriting:\n",
       "              probability:\n",
       "                  baseline: 0.01\n",
       "                      source: None\n",
       "              token_noise_level:\n",
       "                  baseline: 0.1\n",
       "                      source: None\n",
       "          typographic:\n",
       "              probability:\n",
       "                  baseline: 0.01\n",
       "                      source: None\n",
       "              token_noise_level:\n",
       "                  baseline: 0.1\n",
       "                      source: None\n",
       "              include_original_token_level:\n",
       "                  baseline: 0.1\n",
       "                      source: None\n",
       "      city:\n",
       "          missing_data:\n",
       "              probability:\n",
       "                  baseline: 0.01\n",
       "                      source: None\n",
       "          typographic:\n",
       "              probability:\n",
       "                  baseline: 0.01\n",
       "                      source: None\n",
       "              token_noise_level:\n",
       "                  baseline: 0.1\n",
       "                      source: None\n",
       "              include_original_token_level:\n",
       "                  baseline: 0.1\n",
       "                      source: None\n",
       "      state:\n",
       "          missing_data:\n",
       "              probability:\n",
       "                  baseline: 0.01\n",
       "                      source: None\n",
       "          incorrect_selection:\n",
       "              probability:\n",
       "                  baseline: 0.01\n",
       "                      source: None\n",
       "      zipcode:\n",
       "          missing_data:\n",
       "              probability:\n",
       "                  baseline: 0.01\n",
       "                      source: None\n",
       "          zipcode_miswriting:\n",
       "              probability:\n",
       "                  baseline: 0.01\n",
       "                      source: None\n",
       "              first_two_digits_noise_level:\n",
       "                  baseline: 0.04\n",
       "                      source: None\n",
       "              middle_digit_noise_level:\n",
       "                  baseline: 0.2\n",
       "                      source: None\n",
       "              last_two_digits_noise_level:\n",
       "                  baseline: 0.36\n",
       "                      source: None\n",
       "          typographic:\n",
       "              probability:\n",
       "                  baseline: 0.01\n",
       "                      source: None\n",
       "              token_noise_level:\n",
       "                  baseline: 0.1\n",
       "                      source: None\n",
       "              include_original_token_level:\n",
       "                  baseline: 0.1\n",
       "                      source: None\n",
       "      sex:\n",
       "          missing_data:\n",
       "              probability:\n",
       "                  baseline: 0.01\n",
       "                      source: None\n",
       "          incorrect_selection:\n",
       "              probability:\n",
       "                  baseline: 0.01\n",
       "                      source: None\n",
       "      race_ethnicity:\n",
       "          missing_data:\n",
       "              probability:\n",
       "                  baseline: 0.01\n",
       "                      source: None\n",
       "          incorrect_selection:\n",
       "              probability:\n",
       "                  baseline: 0.01\n",
       "                      source: None,\n",
       "  'women_infants_and_children': row_noise:\n",
       "      omission:\n",
       "          probability:\n",
       "              baseline: 0.0\n",
       "                  source: None\n",
       "  column_noise:\n",
       "      first_name:\n",
       "          missing_data:\n",
       "              probability:\n",
       "                  baseline: 0.01\n",
       "                      source: None\n",
       "          fake_name:\n",
       "              probability:\n",
       "                  baseline: 0.01\n",
       "                      source: None\n",
       "              token_noise_level:\n",
       "                  baseline: 0.1\n",
       "                      source: None\n",
       "          typographic:\n",
       "              probability:\n",
       "                  baseline: 0.01\n",
       "                      source: None\n",
       "              token_noise_level:\n",
       "                  baseline: 0.1\n",
       "                      source: None\n",
       "              include_original_token_level:\n",
       "                  baseline: 0.1\n",
       "                      source: None\n",
       "      middle_initial:\n",
       "          missing_data:\n",
       "              probability:\n",
       "                  baseline: 0.01\n",
       "                      source: None\n",
       "          typographic:\n",
       "              probability:\n",
       "                  baseline: 0.01\n",
       "                      source: None\n",
       "              token_noise_level:\n",
       "                  baseline: 0.1\n",
       "                      source: None\n",
       "              include_original_token_level:\n",
       "                  baseline: 0.1\n",
       "                      source: None\n",
       "      last_name:\n",
       "          missing_data:\n",
       "              probability:\n",
       "                  baseline: 0.01\n",
       "                      source: None\n",
       "          fake_name:\n",
       "              probability:\n",
       "                  baseline: 0.01\n",
       "                      source: None\n",
       "              token_noise_level:\n",
       "                  baseline: 0.1\n",
       "                      source: None\n",
       "          typographic:\n",
       "              probability:\n",
       "                  baseline: 0.01\n",
       "                      source: None\n",
       "              token_noise_level:\n",
       "                  baseline: 0.1\n",
       "                      source: None\n",
       "              include_original_token_level:\n",
       "                  baseline: 0.1\n",
       "                      source: None\n",
       "      date_of_birth:\n",
       "          missing_data:\n",
       "              probability:\n",
       "                  baseline: 0.01\n",
       "                      source: None\n",
       "          numeric_miswriting:\n",
       "              probability:\n",
       "                  baseline: 0.01\n",
       "                      source: None\n",
       "              token_noise_level:\n",
       "                  baseline: 0.1\n",
       "                      source: None\n",
       "          typographic:\n",
       "              probability:\n",
       "                  baseline: 0.01\n",
       "                      source: None\n",
       "              token_noise_level:\n",
       "                  baseline: 0.1\n",
       "                      source: None\n",
       "              include_original_token_level:\n",
       "                  baseline: 0.1\n",
       "                      source: None\n",
       "      street_number:\n",
       "          missing_data:\n",
       "              probability:\n",
       "                  baseline: 0.01\n",
       "                      source: None\n",
       "          numeric_miswriting:\n",
       "              probability:\n",
       "                  baseline: 0.01\n",
       "                      source: None\n",
       "              token_noise_level:\n",
       "                  baseline: 0.1\n",
       "                      source: None\n",
       "          typographic:\n",
       "              probability:\n",
       "                  baseline: 0.01\n",
       "                      source: None\n",
       "              token_noise_level:\n",
       "                  baseline: 0.1\n",
       "                      source: None\n",
       "              include_original_token_level:\n",
       "                  baseline: 0.1\n",
       "                      source: None\n",
       "      street_name:\n",
       "          missing_data:\n",
       "              probability:\n",
       "                  baseline: 0.01\n",
       "                      source: None\n",
       "          typographic:\n",
       "              probability:\n",
       "                  baseline: 0.01\n",
       "                      source: None\n",
       "              token_noise_level:\n",
       "                  baseline: 0.1\n",
       "                      source: None\n",
       "              include_original_token_level:\n",
       "                  baseline: 0.1\n",
       "                      source: None\n",
       "      unit_number:\n",
       "          missing_data:\n",
       "              probability:\n",
       "                  baseline: 0.01\n",
       "                      source: None\n",
       "          numeric_miswriting:\n",
       "              probability:\n",
       "                  baseline: 0.01\n",
       "                      source: None\n",
       "              token_noise_level:\n",
       "                  baseline: 0.1\n",
       "                      source: None\n",
       "          typographic:\n",
       "              probability:\n",
       "                  baseline: 0.01\n",
       "                      source: None\n",
       "              token_noise_level:\n",
       "                  baseline: 0.1\n",
       "                      source: None\n",
       "              include_original_token_level:\n",
       "                  baseline: 0.1\n",
       "                      source: None\n",
       "      city:\n",
       "          missing_data:\n",
       "              probability:\n",
       "                  baseline: 0.01\n",
       "                      source: None\n",
       "          typographic:\n",
       "              probability:\n",
       "                  baseline: 0.01\n",
       "                      source: None\n",
       "              token_noise_level:\n",
       "                  baseline: 0.1\n",
       "                      source: None\n",
       "              include_original_token_level:\n",
       "                  baseline: 0.1\n",
       "                      source: None\n",
       "      state:\n",
       "          missing_data:\n",
       "              probability:\n",
       "                  baseline: 0.01\n",
       "                      source: None\n",
       "          incorrect_selection:\n",
       "              probability:\n",
       "                  baseline: 0.01\n",
       "                      source: None\n",
       "      zipcode:\n",
       "          missing_data:\n",
       "              probability:\n",
       "                  baseline: 0.01\n",
       "                      source: None\n",
       "          zipcode_miswriting:\n",
       "              probability:\n",
       "                  baseline: 0.01\n",
       "                      source: None\n",
       "              first_two_digits_noise_level:\n",
       "                  baseline: 0.04\n",
       "                      source: None\n",
       "              middle_digit_noise_level:\n",
       "                  baseline: 0.2\n",
       "                      source: None\n",
       "              last_two_digits_noise_level:\n",
       "                  baseline: 0.36\n",
       "                      source: None\n",
       "          typographic:\n",
       "              probability:\n",
       "                  baseline: 0.01\n",
       "                      source: None\n",
       "              token_noise_level:\n",
       "                  baseline: 0.1\n",
       "                      source: None\n",
       "              include_original_token_level:\n",
       "                  baseline: 0.1\n",
       "                      source: None\n",
       "      sex:\n",
       "          missing_data:\n",
       "              probability:\n",
       "                  baseline: 0.01\n",
       "                      source: None\n",
       "          incorrect_selection:\n",
       "              probability:\n",
       "                  baseline: 0.01\n",
       "                      source: None\n",
       "      race_ethnicity:\n",
       "          missing_data:\n",
       "              probability:\n",
       "                  baseline: 0.01\n",
       "                      source: None\n",
       "          incorrect_selection:\n",
       "              probability:\n",
       "                  baseline: 0.01\n",
       "                      source: None,\n",
       "  'social_security': row_noise:\n",
       "      omission:\n",
       "          probability:\n",
       "              baseline: 0.0\n",
       "                  source: None\n",
       "  column_noise:\n",
       "      first_name:\n",
       "          missing_data:\n",
       "              probability:\n",
       "                  baseline: 0.01\n",
       "                      source: None\n",
       "          fake_name:\n",
       "              probability:\n",
       "                  baseline: 0.01\n",
       "                      source: None\n",
       "              token_noise_level:\n",
       "                  baseline: 0.1\n",
       "                      source: None\n",
       "          typographic:\n",
       "              probability:\n",
       "                  baseline: 0.01\n",
       "                      source: None\n",
       "              token_noise_level:\n",
       "                  baseline: 0.1\n",
       "                      source: None\n",
       "              include_original_token_level:\n",
       "                  baseline: 0.1\n",
       "                      source: None\n",
       "      middle_initial:\n",
       "          missing_data:\n",
       "              probability:\n",
       "                  baseline: 0.01\n",
       "                      source: None\n",
       "          typographic:\n",
       "              probability:\n",
       "                  baseline: 0.01\n",
       "                      source: None\n",
       "              token_noise_level:\n",
       "                  baseline: 0.1\n",
       "                      source: None\n",
       "              include_original_token_level:\n",
       "                  baseline: 0.1\n",
       "                      source: None\n",
       "      last_name:\n",
       "          missing_data:\n",
       "              probability:\n",
       "                  baseline: 0.01\n",
       "                      source: None\n",
       "          fake_name:\n",
       "              probability:\n",
       "                  baseline: 0.01\n",
       "                      source: None\n",
       "              token_noise_level:\n",
       "                  baseline: 0.1\n",
       "                      source: None\n",
       "          typographic:\n",
       "              probability:\n",
       "                  baseline: 0.01\n",
       "                      source: None\n",
       "              token_noise_level:\n",
       "                  baseline: 0.1\n",
       "                      source: None\n",
       "              include_original_token_level:\n",
       "                  baseline: 0.1\n",
       "                      source: None\n",
       "      date_of_birth:\n",
       "          missing_data:\n",
       "              probability:\n",
       "                  baseline: 0.01\n",
       "                      source: None\n",
       "          numeric_miswriting:\n",
       "              probability:\n",
       "                  baseline: 0.01\n",
       "                      source: None\n",
       "              token_noise_level:\n",
       "                  baseline: 0.1\n",
       "                      source: None\n",
       "          typographic:\n",
       "              probability:\n",
       "                  baseline: 0.01\n",
       "                      source: None\n",
       "              token_noise_level:\n",
       "                  baseline: 0.1\n",
       "                      source: None\n",
       "              include_original_token_level:\n",
       "                  baseline: 0.1\n",
       "                      source: None\n",
       "      ssn:\n",
       "          missing_data:\n",
       "              probability:\n",
       "                  baseline: 0.01\n",
       "                      source: None\n",
       "          numeric_miswriting:\n",
       "              probability:\n",
       "                  baseline: 0.01\n",
       "                      source: None\n",
       "              token_noise_level:\n",
       "                  baseline: 0.1\n",
       "                      source: None\n",
       "          typographic:\n",
       "              probability:\n",
       "                  baseline: 0.01\n",
       "                      source: None\n",
       "              token_noise_level:\n",
       "                  baseline: 0.1\n",
       "                      source: None\n",
       "              include_original_token_level:\n",
       "                  baseline: 0.1\n",
       "                      source: None\n",
       "      event_type:\n",
       "          missing_data:\n",
       "              probability:\n",
       "                  baseline: 0.01\n",
       "                      source: None\n",
       "          incorrect_selection:\n",
       "              probability:\n",
       "                  baseline: 0.01\n",
       "                      source: None\n",
       "      event_date:\n",
       "          missing_data:\n",
       "              probability:\n",
       "                  baseline: 0.01\n",
       "                      source: None\n",
       "          numeric_miswriting:\n",
       "              probability:\n",
       "                  baseline: 0.01\n",
       "                      source: None\n",
       "              token_noise_level:\n",
       "                  baseline: 0.1\n",
       "                      source: None\n",
       "          typographic:\n",
       "              probability:\n",
       "                  baseline: 0.01\n",
       "                      source: None\n",
       "              token_noise_level:\n",
       "                  baseline: 0.1\n",
       "                      source: None\n",
       "              include_original_token_level:\n",
       "                  baseline: 0.1\n",
       "                      source: None,\n",
       "  'taxes_w2_and_1099': row_noise:\n",
       "      omission:\n",
       "          probability:\n",
       "              baseline: 0.0\n",
       "                  source: None\n",
       "  column_noise:\n",
       "      first_name:\n",
       "          missing_data:\n",
       "              probability:\n",
       "                  baseline: 0.01\n",
       "                      source: None\n",
       "          fake_name:\n",
       "              probability:\n",
       "                  baseline: 0.01\n",
       "                      source: None\n",
       "              token_noise_level:\n",
       "                  baseline: 0.1\n",
       "                      source: None\n",
       "          typographic:\n",
       "              probability:\n",
       "                  baseline: 0.01\n",
       "                      source: None\n",
       "              token_noise_level:\n",
       "                  baseline: 0.1\n",
       "                      source: None\n",
       "              include_original_token_level:\n",
       "                  baseline: 0.1\n",
       "                      source: None\n",
       "      middle_initial:\n",
       "          missing_data:\n",
       "              probability:\n",
       "                  baseline: 0.01\n",
       "                      source: None\n",
       "          typographic:\n",
       "              probability:\n",
       "                  baseline: 0.01\n",
       "                      source: None\n",
       "              token_noise_level:\n",
       "                  baseline: 0.1\n",
       "                      source: None\n",
       "              include_original_token_level:\n",
       "                  baseline: 0.1\n",
       "                      source: None\n",
       "      last_name:\n",
       "          missing_data:\n",
       "              probability:\n",
       "                  baseline: 0.01\n",
       "                      source: None\n",
       "          fake_name:\n",
       "              probability:\n",
       "                  baseline: 0.01\n",
       "                      source: None\n",
       "              token_noise_level:\n",
       "                  baseline: 0.1\n",
       "                      source: None\n",
       "          typographic:\n",
       "              probability:\n",
       "                  baseline: 0.01\n",
       "                      source: None\n",
       "              token_noise_level:\n",
       "                  baseline: 0.1\n",
       "                      source: None\n",
       "              include_original_token_level:\n",
       "                  baseline: 0.1\n",
       "                      source: None\n",
       "      age:\n",
       "          missing_data:\n",
       "              probability:\n",
       "                  baseline: 0.01\n",
       "                      source: None\n",
       "          age_miswriting:\n",
       "              probability:\n",
       "                  baseline: 0.01\n",
       "                      source: None\n",
       "              possible_perturbations:\n",
       "                  -1:\n",
       "                      baseline: 0.5\n",
       "                          source: None\n",
       "                  1:\n",
       "                      baseline: 0.5\n",
       "                          source: None\n",
       "          typographic:\n",
       "              probability:\n",
       "                  baseline: 0.01\n",
       "                      source: None\n",
       "              token_noise_level:\n",
       "                  baseline: 0.1\n",
       "                      source: None\n",
       "              include_original_token_level:\n",
       "                  baseline: 0.1\n",
       "                      source: None\n",
       "      date_of_birth:\n",
       "          missing_data:\n",
       "              probability:\n",
       "                  baseline: 0.01\n",
       "                      source: None\n",
       "          numeric_miswriting:\n",
       "              probability:\n",
       "                  baseline: 0.01\n",
       "                      source: None\n",
       "              token_noise_level:\n",
       "                  baseline: 0.1\n",
       "                      source: None\n",
       "          typographic:\n",
       "              probability:\n",
       "                  baseline: 0.01\n",
       "                      source: None\n",
       "              token_noise_level:\n",
       "                  baseline: 0.1\n",
       "                      source: None\n",
       "              include_original_token_level:\n",
       "                  baseline: 0.1\n",
       "                      source: None\n",
       "      mailing_address_street_number:\n",
       "          missing_data:\n",
       "              probability:\n",
       "                  baseline: 0.01\n",
       "                      source: None\n",
       "          numeric_miswriting:\n",
       "              probability:\n",
       "                  baseline: 0.01\n",
       "                      source: None\n",
       "              token_noise_level:\n",
       "                  baseline: 0.1\n",
       "                      source: None\n",
       "          typographic:\n",
       "              probability:\n",
       "                  baseline: 0.01\n",
       "                      source: None\n",
       "              token_noise_level:\n",
       "                  baseline: 0.1\n",
       "                      source: None\n",
       "              include_original_token_level:\n",
       "                  baseline: 0.1\n",
       "                      source: None\n",
       "      mailing_address_street_name:\n",
       "          missing_data:\n",
       "              probability:\n",
       "                  baseline: 0.01\n",
       "                      source: None\n",
       "          typographic:\n",
       "              probability:\n",
       "                  baseline: 0.01\n",
       "                      source: None\n",
       "              token_noise_level:\n",
       "                  baseline: 0.1\n",
       "                      source: None\n",
       "              include_original_token_level:\n",
       "                  baseline: 0.1\n",
       "                      source: None\n",
       "      mailing_address_unit_number:\n",
       "          missing_data:\n",
       "              probability:\n",
       "                  baseline: 0.01\n",
       "                      source: None\n",
       "          numeric_miswriting:\n",
       "              probability:\n",
       "                  baseline: 0.01\n",
       "                      source: None\n",
       "              token_noise_level:\n",
       "                  baseline: 0.1\n",
       "                      source: None\n",
       "          typographic:\n",
       "              probability:\n",
       "                  baseline: 0.01\n",
       "                      source: None\n",
       "              token_noise_level:\n",
       "                  baseline: 0.1\n",
       "                      source: None\n",
       "              include_original_token_level:\n",
       "                  baseline: 0.1\n",
       "                      source: None\n",
       "      mailing_address_po_box:\n",
       "          missing_data:\n",
       "              probability:\n",
       "                  baseline: 0.01\n",
       "                      source: None\n",
       "          numeric_miswriting:\n",
       "              probability:\n",
       "                  baseline: 0.01\n",
       "                      source: None\n",
       "              token_noise_level:\n",
       "                  baseline: 0.1\n",
       "                      source: None\n",
       "          typographic:\n",
       "              probability:\n",
       "                  baseline: 0.01\n",
       "                      source: None\n",
       "              token_noise_level:\n",
       "                  baseline: 0.1\n",
       "                      source: None\n",
       "              include_original_token_level:\n",
       "                  baseline: 0.1\n",
       "                      source: None\n",
       "      mailing_address_city:\n",
       "          missing_data:\n",
       "              probability:\n",
       "                  baseline: 0.01\n",
       "                      source: None\n",
       "          typographic:\n",
       "              probability:\n",
       "                  baseline: 0.01\n",
       "                      source: None\n",
       "              token_noise_level:\n",
       "                  baseline: 0.1\n",
       "                      source: None\n",
       "              include_original_token_level:\n",
       "                  baseline: 0.1\n",
       "                      source: None\n",
       "      mailing_address_state:\n",
       "          missing_data:\n",
       "              probability:\n",
       "                  baseline: 0.01\n",
       "                      source: None\n",
       "          incorrect_selection:\n",
       "              probability:\n",
       "                  baseline: 0.01\n",
       "                      source: None\n",
       "      mailing_address_zipcode:\n",
       "          missing_data:\n",
       "              probability:\n",
       "                  baseline: 0.01\n",
       "                      source: None\n",
       "          zipcode_miswriting:\n",
       "              probability:\n",
       "                  baseline: 0.01\n",
       "                      source: None\n",
       "              first_two_digits_noise_level:\n",
       "                  baseline: 0.04\n",
       "                      source: None\n",
       "              middle_digit_noise_level:\n",
       "                  baseline: 0.2\n",
       "                      source: None\n",
       "              last_two_digits_noise_level:\n",
       "                  baseline: 0.36\n",
       "                      source: None\n",
       "          typographic:\n",
       "              probability:\n",
       "                  baseline: 0.01\n",
       "                      source: None\n",
       "              token_noise_level:\n",
       "                  baseline: 0.1\n",
       "                      source: None\n",
       "              include_original_token_level:\n",
       "                  baseline: 0.1\n",
       "                      source: None\n",
       "      ssn:\n",
       "          missing_data:\n",
       "              probability:\n",
       "                  baseline: 0.01\n",
       "                      source: None\n",
       "          numeric_miswriting:\n",
       "              probability:\n",
       "                  baseline: 0.01\n",
       "                      source: None\n",
       "              token_noise_level:\n",
       "                  baseline: 0.1\n",
       "                      source: None\n",
       "          typographic:\n",
       "              probability:\n",
       "                  baseline: 0.01\n",
       "                      source: None\n",
       "              token_noise_level:\n",
       "                  baseline: 0.1\n",
       "                      source: None\n",
       "              include_original_token_level:\n",
       "                  baseline: 0.1\n",
       "                      source: None\n",
       "      income:\n",
       "          missing_data:\n",
       "              probability:\n",
       "                  baseline: 0.01\n",
       "                      source: None\n",
       "          numeric_miswriting:\n",
       "              probability:\n",
       "                  baseline: 0.01\n",
       "                      source: None\n",
       "              token_noise_level:\n",
       "                  baseline: 0.1\n",
       "                      source: None\n",
       "          typographic:\n",
       "              probability:\n",
       "                  baseline: 0.01\n",
       "                      source: None\n",
       "              token_noise_level:\n",
       "                  baseline: 0.1\n",
       "                      source: None\n",
       "              include_original_token_level:\n",
       "                  baseline: 0.1\n",
       "                      source: None\n",
       "      employer_id:\n",
       "          missing_data:\n",
       "              probability:\n",
       "                  baseline: 0.01\n",
       "                      source: None\n",
       "          numeric_miswriting:\n",
       "              probability:\n",
       "                  baseline: 0.01\n",
       "                      source: None\n",
       "              token_noise_level:\n",
       "                  baseline: 0.1\n",
       "                      source: None\n",
       "          typographic:\n",
       "              probability:\n",
       "                  baseline: 0.01\n",
       "                      source: None\n",
       "              token_noise_level:\n",
       "                  baseline: 0.1\n",
       "                      source: None\n",
       "              include_original_token_level:\n",
       "                  baseline: 0.1\n",
       "                      source: None\n",
       "      employer_name:\n",
       "          missing_data:\n",
       "              probability:\n",
       "                  baseline: 0.01\n",
       "                      source: None\n",
       "          typographic:\n",
       "              probability:\n",
       "                  baseline: 0.01\n",
       "                      source: None\n",
       "              token_noise_level:\n",
       "                  baseline: 0.1\n",
       "                      source: None\n",
       "              include_original_token_level:\n",
       "                  baseline: 0.1\n",
       "                      source: None\n",
       "      employer_street_number:\n",
       "          missing_data:\n",
       "              probability:\n",
       "                  baseline: 0.01\n",
       "                      source: None\n",
       "          numeric_miswriting:\n",
       "              probability:\n",
       "                  baseline: 0.01\n",
       "                      source: None\n",
       "              token_noise_level:\n",
       "                  baseline: 0.1\n",
       "                      source: None\n",
       "          typographic:\n",
       "              probability:\n",
       "                  baseline: 0.01\n",
       "                      source: None\n",
       "              token_noise_level:\n",
       "                  baseline: 0.1\n",
       "                      source: None\n",
       "              include_original_token_level:\n",
       "                  baseline: 0.1\n",
       "                      source: None\n",
       "      employer_street_name:\n",
       "          missing_data:\n",
       "              probability:\n",
       "                  baseline: 0.01\n",
       "                      source: None\n",
       "          typographic:\n",
       "              probability:\n",
       "                  baseline: 0.01\n",
       "                      source: None\n",
       "              token_noise_level:\n",
       "                  baseline: 0.1\n",
       "                      source: None\n",
       "              include_original_token_level:\n",
       "                  baseline: 0.1\n",
       "                      source: None\n",
       "      employer_unit_number:\n",
       "          missing_data:\n",
       "              probability:\n",
       "                  baseline: 0.01\n",
       "                      source: None\n",
       "          numeric_miswriting:\n",
       "              probability:\n",
       "                  baseline: 0.01\n",
       "                      source: None\n",
       "              token_noise_level:\n",
       "                  baseline: 0.1\n",
       "                      source: None\n",
       "          typographic:\n",
       "              probability:\n",
       "                  baseline: 0.01\n",
       "                      source: None\n",
       "              token_noise_level:\n",
       "                  baseline: 0.1\n",
       "                      source: None\n",
       "              include_original_token_level:\n",
       "                  baseline: 0.1\n",
       "                      source: None\n",
       "      employer_city:\n",
       "          missing_data:\n",
       "              probability:\n",
       "                  baseline: 0.01\n",
       "                      source: None\n",
       "          typographic:\n",
       "              probability:\n",
       "                  baseline: 0.01\n",
       "                      source: None\n",
       "              token_noise_level:\n",
       "                  baseline: 0.1\n",
       "                      source: None\n",
       "              include_original_token_level:\n",
       "                  baseline: 0.1\n",
       "                      source: None\n",
       "      employer_state:\n",
       "          missing_data:\n",
       "              probability:\n",
       "                  baseline: 0.01\n",
       "                      source: None\n",
       "          incorrect_selection:\n",
       "              probability:\n",
       "                  baseline: 0.01\n",
       "                      source: None\n",
       "      employer_zipcode:\n",
       "          missing_data:\n",
       "              probability:\n",
       "                  baseline: 0.01\n",
       "                      source: None\n",
       "          zipcode_miswriting:\n",
       "              probability:\n",
       "                  baseline: 0.01\n",
       "                      source: None\n",
       "              first_two_digits_noise_level:\n",
       "                  baseline: 0.04\n",
       "                      source: None\n",
       "              middle_digit_noise_level:\n",
       "                  baseline: 0.2\n",
       "                      source: None\n",
       "              last_two_digits_noise_level:\n",
       "                  baseline: 0.36\n",
       "                      source: None\n",
       "          typographic:\n",
       "              probability:\n",
       "                  baseline: 0.01\n",
       "                      source: None\n",
       "              token_noise_level:\n",
       "                  baseline: 0.1\n",
       "                      source: None\n",
       "              include_original_token_level:\n",
       "                  baseline: 0.1\n",
       "                      source: None\n",
       "      tax_form:\n",
       "          missing_data:\n",
       "              probability:\n",
       "                  baseline: 0.01\n",
       "                      source: None\n",
       "          incorrect_selection:\n",
       "              probability:\n",
       "                  baseline: 0.01\n",
       "                      source: None},\n",
       " '_frozen': False,\n",
       " '_name': ''}"
      ]
     },
     "execution_count": 78,
     "metadata": {},
     "output_type": "execute_result"
    }
   ],
   "source": [
    "vars(config)"
   ]
  },
  {
   "cell_type": "code",
   "execution_count": null,
   "id": "6c0bb99c",
   "metadata": {},
   "outputs": [],
   "source": []
  }
 ],
 "metadata": {
  "kernelspec": {
   "display_name": "Python 3 (ipykernel)",
   "language": "python",
   "name": "python3"
  },
  "language_info": {
   "codemirror_mode": {
    "name": "ipython",
    "version": 3
   },
   "file_extension": ".py",
   "mimetype": "text/x-python",
   "name": "python",
   "nbconvert_exporter": "python",
   "pygments_lexer": "ipython3",
   "version": "3.8.13"
  }
 },
 "nbformat": 4,
 "nbformat_minor": 5
}
